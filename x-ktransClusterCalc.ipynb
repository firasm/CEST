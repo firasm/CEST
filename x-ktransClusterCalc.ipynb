{
 "metadata": {
  "name": ""
 },
 "nbformat": 3,
 "nbformat_minor": 0,
 "worksheets": [
  {
   "cells": [
    {
     "cell_type": "code",
     "collapsed": false,
     "input": [
      "import sarpy\n",
      "import sarpy.fmoosvi.analysis\n",
      "import time, os, json, collections"
     ],
     "language": "python",
     "metadata": {},
     "outputs": [],
     "prompt_number": 1
    },
    {
     "cell_type": "markdown",
     "metadata": {},
     "source": [
      "###The Wrapper gets us all the patients"
     ]
    },
    {
     "cell_type": "code",
     "collapsed": false,
     "input": [
      "def kTrans_generator(masterlist_name,\n",
      "                     data_label,\n",
      "                     adata_label = 'gd_conc',\n",
      "                     analysis_label='Ktrans',\n",
      "                     forceVal = False):\n",
      "\n",
      "    root = os.path.join(os.path.expanduser('~/sdata'),\n",
      "                        masterlist_name,\n",
      "                        masterlist_name)\n",
      "    if os.path.exists(os.path.join(root+'_updated.json')):\n",
      "        fname_to_open = root+'_updated.json'\n",
      "    else:\n",
      "        fname_to_open = root+'.json'\n",
      "    with open(os.path.join(fname_to_open),'r') as master_file:\n",
      "        json_str = master_file.read()\n",
      "        master_list = json.JSONDecoder(\n",
      "                           object_pairs_hook=collections.OrderedDict\n",
      "                           ).decode(json_str)\n",
      "\n",
      "    for k,v in master_list.iteritems():\n",
      "\n",
      "        try:\n",
      "            scan = sarpy.Scan(v[data_label][0])\n",
      "            dat = scan.adata[adata_label].data\n",
      "            bbox = sarpy.fmoosvi.getters.get_bbox(v, data_label)\n",
      "            bbox = numpy.array([20,21,60,61]) ## FIXME (DELETEME!)\n",
      "            initial_guess = [.8, 1.9, 0.8, 0.05]\n",
      "            model = '2cxm'\n",
      "\n",
      "        except(IOError):     \n",
      "            print('{0}: Not found {1} and {2}'.format(\n",
      "            analysis_label,scan.shortdirname,data_label) )\n",
      "            continue\n",
      "\n",
      "        if (not analysis_label in scan.adata.keys()) or forceVal is True:\n",
      "            \n",
      "            ## this code below now should live somewhere else.\n",
      "            ## we are only concerned with finding out where data comes from\n",
      "            ## and where it should go to.\n",
      "            # conc = sarpy.fmoosvi.analysis.h_conc_from_signal(scan, scan_T1map, adata_label, bbox)\n",
      "\n",
      "            # scan.store_adata(key=analysis_label, data = conc, force = forceVal)\n",
      "\n",
      "            dicr = sarpy.fmoosvi.analysis.h_fit_PK(scan, \n",
      "                                                   model=model,\n",
      "                                                   bbox=bbox,\n",
      "                                                   initial_guess=initial_guess)\n",
      "            data,inj_point,img_size,bbox,aif, time_points,model,initial_guess,bounds = dicr\n",
      "            #def h_fit_PKhelper(xyz,data,inj_point, aif,time_points,\n",
      "            #       model, initial_guess,bounds):\n",
      "            args = [data, inj_point, aif, time_points, model, initial_guess, bounds]\n",
      "            kwargs = dict(args=args)\n",
      "            #kwargs = dict(data=data, inj_point=inj_point, aif=aif, time_points=time_points, \n",
      "            #            model=model, initial_guess=initial_guess, bounds=bounds)\n",
      "            #kwargs = dict(data=data,inj_point=inj_point,img_size=img_size,\n",
      "            #            bbox=bbox,aif=aif, time_points=time_points,model=model,\n",
      "            #            initial_guess=initial_guess,bounds=bounds)\n",
      "                      \n",
      "            yield (scan, bbox, img_size, args, kwargs)\n",
      "            \n",
      "            #print('{0}: Success. Saved {1}'.format(analysis_label,\n",
      "            #                  scan.shortdirname))\n",
      "\n",
      "        else:\n",
      "            print('{0}: adata already exists {1} '.format(\n",
      "            analysis_label,scan.shortdirname))\n",
      "            pass\n"
     ],
     "language": "python",
     "metadata": {},
     "outputs": [],
     "prompt_number": 2
    },
    {
     "cell_type": "code",
     "collapsed": false,
     "input": [
      "from IPython.parallel import Client\n",
      "from IPython.parallel import interactive\n",
      "\n",
      "c = Client(profile='sarlab')\n",
      "dview = c[:]\n",
      "\n",
      "with dview.sync_imports():\n",
      "    import sarpy\n",
      "    import os\n",
      "    import sarpy.fmoosvi.parallel\n",
      "    import sys\n",
      "    import sarpy.fmoosvi.analysis\n",
      "\n",
      "\n",
      "print c.ids\n",
      "\n",
      "lv = c.load_balanced_view()   # this object represents the engines (workers)\n",
      "lv.block = True\n"
     ],
     "language": "python",
     "metadata": {},
     "outputs": [
      {
       "output_type": "stream",
       "stream": "stdout",
       "text": [
        "importing sarpy on engine(s)\n",
        "importing os on engine(s)\n",
        "importing sarpy.fmoosvi.parallel on engine(s)"
       ]
      },
      {
       "output_type": "stream",
       "stream": "stdout",
       "text": [
        "\n",
        "importing sys on engine(s)\n",
        "importing sarpy.fmoosvi.analysis on engine(s)\n",
        "[0, 1, 2, 3, 4, 5, 6, 7, 8, 9, 10, 11, 12, 13, 14, 15]"
       ]
      },
      {
       "output_type": "stream",
       "stream": "stdout",
       "text": [
        "\n"
       ]
      }
     ],
     "prompt_number": 3
    },
    {
     "cell_type": "code",
     "collapsed": false,
     "input": [
      "for args_for_scan in kTrans_generator('NecS3', '0h-DCE1'):\n",
      "    print args_for_scan[0]\n",
      "    # now go and do the calculations for the current patient\n",
      "    scan, bbox, img_size, args, kwargs = args_for_scan\n",
      "    \n",
      "    print args[3].shape\n",
      "    \n",
      "    map_list = []\n",
      "    for x in xrange(bbox[0],bbox[1]+1):\n",
      "        for y in xrange(bbox[2],bbox[3]+1):\n",
      "            for z in xrange(img_size[2]):\n",
      "                map_list.append((x,y,z))\n",
      "    # http://stackoverflow.com/questions/10857250/python-name-space-issues-with-ipython-parallel\n",
      "    func = interactive(lambda xyz:sarpy.fmoosvi.analysis.h_fit_PKhelper(xyz,*args))\n",
      "\n",
      "\n",
      "    dview.push(kwargs)\n",
      "    dview.execute('reload(sarpy.fmoosvi.analysis)')\n",
      "\n",
      "    start1 = time.time()\n",
      "    coord = lv.map(func, map_list)\n",
      "    end1 = time.time()\n",
      "    \n",
      "    testarr2 = numpy.empty([img_size[0],img_size[1],img_size[2]],dtype=dict)\n",
      "    testarr2[:] = numpy.nan\n",
      "\n",
      "    for coo in coord:\n",
      "       testarr2[coo[0][0],coo[0][1],coo[0][2]]=coo[1]\n",
      "    print 'With parallelization : {0} s'.format(end1 - start1)    "
     ],
     "language": "python",
     "metadata": {},
     "outputs": [
      {
       "output_type": "stream",
       "stream": "stdout",
       "text": [
        "sarpy.io.BRUKER_classes.Scan(\"NecS3Hs02.iJ1/12\")\n",
        "(92,)\n",
        "With parallelization : 0.281403064728 s"
       ]
      },
      {
       "output_type": "stream",
       "stream": "stdout",
       "text": [
        "\n",
        "sarpy.io.BRUKER_classes.Scan(\"NecS3Hs04.iJ1/11\")"
       ]
      },
      {
       "output_type": "stream",
       "stream": "stdout",
       "text": [
        "\n",
        "(92,)\n",
        "With parallelization : 0.38246011734 s"
       ]
      },
      {
       "output_type": "stream",
       "stream": "stdout",
       "text": [
        "\n",
        "sarpy.io.BRUKER_classes.Scan(\"NecS3Hs05.iJ1/10\")"
       ]
      },
      {
       "output_type": "stream",
       "stream": "stdout",
       "text": [
        "\n",
        "(92,)\n",
        "With parallelization : 0.206959962845 s"
       ]
      },
      {
       "output_type": "stream",
       "stream": "stdout",
       "text": [
        "\n",
        "sarpy.io.BRUKER_classes.Scan(\"NecS3Hs06.iJ1/9\")"
       ]
      },
      {
       "output_type": "stream",
       "stream": "stdout",
       "text": [
        "\n",
        "(92,)\n",
        "With parallelization : 6.63534379005 s"
       ]
      },
      {
       "output_type": "stream",
       "stream": "stdout",
       "text": [
        "\n",
        "Ktrans: Not found NecS3Hs06.iJ1/9 and 0h-DCE1\n",
        "Ktrans: Not found NecS3Hs06.iJ1/9 and 0h-DCE1\n",
        "Ktrans: Not found NecS3Hs06.iJ1/9 and 0h-DCE1\n",
        "Ktrans: Not found NecS3Hs06.iJ1/9 and 0h-DCE1\n",
        "Ktrans: Not found NecS3Hs06.iJ1/9 and 0h-DCE1\n",
        "Ktrans: Not found NecS3Hs06.iJ1/9 and 0h-DCE1\n",
        "Ktrans: Not found NecS3Hs06.iJ1/9 and 0h-DCE1\n",
        "Ktrans: Not found NecS3Hs06.iJ1/9 and 0h-DCE1\n"
       ]
      }
     ],
     "prompt_number": 4
    },
    {
     "cell_type": "code",
     "collapsed": false,
     "input": [
      "interactive"
     ],
     "language": "python",
     "metadata": {},
     "outputs": [
      {
       "metadata": {},
       "output_type": "pyout",
       "prompt_number": 5,
       "text": [
        "<function IPython.parallel.util.interactive>"
       ]
      }
     ],
     "prompt_number": 5
    },
    {
     "cell_type": "markdown",
     "metadata": {},
     "source": [
      "### Load balanced view, running it parallell-y"
     ]
    },
    {
     "cell_type": "code",
     "collapsed": false,
     "input": [
      "from IPython.parallel import Client\n",
      "from IPython.parallel.util import interactive\n",
      "\n",
      "c = Client(profile='sarlab')\n",
      "dview = c[:]\n",
      "\n",
      "print c.ids"
     ],
     "language": "python",
     "metadata": {},
     "outputs": [
      {
       "output_type": "stream",
       "stream": "stdout",
       "text": [
        "[0, 1, 2, 3, 4, 5, 6, 7, 8, 9, 10, 11, 12, 13, 14, 15]\n"
       ]
      }
     ],
     "prompt_number": 6
    },
    {
     "cell_type": "code",
     "collapsed": false,
     "input": [
      "map_list = []\n",
      "\n",
      "for x in xrange(bbox[0],bbox[1]+1):\n",
      "    for y in xrange(bbox[2],bbox[3]+1):\n",
      "        for z in xrange(img_size[2]):\n",
      "            map_list.append((x,y,z))\n",
      "\n",
      "#for x in xrange(img_size[0]):\n",
      "#    for y in xrange(img_size[1]):\n",
      "#        for z in xrange(img_size[2]):\n",
      "#            map_list.append((x,y,z))\n",
      "\n",
      "\n",
      "# http://stackoverflow.com/questions/10857250/python-name-space-issues-with-ipython-parallel\n",
      "func = interactive(lambda xyz:sarpy.fmoosvi.analysis.h_fit_PKhelper(xyz,data,inj_point = inj_point,\n",
      "                                                        aif=aif, time_points=time_points,model=model,\n",
      "                                                        initial_guess=initial_guess,bounds=bounds))\n",
      "\n",
      "with dview.sync_imports():\n",
      "    import sarpy\n",
      "    import os\n",
      "    import sarpy.fmoosvi.parallel\n",
      "    import sys\n",
      "    import sarpy.fmoosvi.analysis\n",
      "    \n",
      "dview.push(args)\n",
      "\n",
      "dview.execute('reload(sarpy.fmoosvi.analysis)')"
     ],
     "language": "python",
     "metadata": {},
     "outputs": [
      {
       "output_type": "stream",
       "stream": "stdout",
       "text": [
        "importing sarpy on engine(s)\n",
        "importing os on engine(s)\n",
        "importing sarpy.fmoosvi.parallel on engine(s)"
       ]
      },
      {
       "output_type": "stream",
       "stream": "stdout",
       "text": [
        "\n",
        "importing sys on engine(s)"
       ]
      },
      {
       "ename": "TypeError",
       "evalue": "Must be a dict, not <type 'list'>",
       "output_type": "pyerr",
       "traceback": [
        "\u001b[0;31m---------------------------------------------------------------------------\u001b[0m\n\u001b[0;31mTypeError\u001b[0m                                 Traceback (most recent call last)",
        "\u001b[0;32m<ipython-input-7-b515ab1f44e3>\u001b[0m in \u001b[0;36m<module>\u001b[0;34m()\u001b[0m\n\u001b[1;32m     24\u001b[0m     \u001b[0;32mimport\u001b[0m \u001b[0msarpy\u001b[0m\u001b[0;34m.\u001b[0m\u001b[0mfmoosvi\u001b[0m\u001b[0;34m.\u001b[0m\u001b[0manalysis\u001b[0m\u001b[0;34m\u001b[0m\u001b[0m\n\u001b[1;32m     25\u001b[0m \u001b[0;34m\u001b[0m\u001b[0m\n\u001b[0;32m---> 26\u001b[0;31m \u001b[0mdview\u001b[0m\u001b[0;34m.\u001b[0m\u001b[0mpush\u001b[0m\u001b[0;34m(\u001b[0m\u001b[0margs\u001b[0m\u001b[0;34m)\u001b[0m\u001b[0;34m\u001b[0m\u001b[0m\n\u001b[0m\u001b[1;32m     27\u001b[0m \u001b[0;34m\u001b[0m\u001b[0m\n\u001b[1;32m     28\u001b[0m \u001b[0mdview\u001b[0m\u001b[0;34m.\u001b[0m\u001b[0mexecute\u001b[0m\u001b[0;34m(\u001b[0m\u001b[0;34m'reload(sarpy.fmoosvi.analysis)'\u001b[0m\u001b[0;34m)\u001b[0m\u001b[0;34m\u001b[0m\u001b[0m\n",
        "\u001b[0;32m/Library/Python/2.7/site-packages/IPython/parallel/client/view.pyc\u001b[0m in \u001b[0;36mpush\u001b[0;34m(self, ns, targets, block, track)\u001b[0m\n\u001b[1;32m    699\u001b[0m         \u001b[0;31m# applier = self.apply_sync if block else self.apply_async\u001b[0m\u001b[0;34m\u001b[0m\u001b[0;34m\u001b[0m\u001b[0m\n\u001b[1;32m    700\u001b[0m         \u001b[0;32mif\u001b[0m \u001b[0;32mnot\u001b[0m \u001b[0misinstance\u001b[0m\u001b[0;34m(\u001b[0m\u001b[0mns\u001b[0m\u001b[0;34m,\u001b[0m \u001b[0mdict\u001b[0m\u001b[0;34m)\u001b[0m\u001b[0;34m:\u001b[0m\u001b[0;34m\u001b[0m\u001b[0m\n\u001b[0;32m--> 701\u001b[0;31m             \u001b[0;32mraise\u001b[0m \u001b[0mTypeError\u001b[0m\u001b[0;34m(\u001b[0m\u001b[0;34m\"Must be a dict, not %s\"\u001b[0m\u001b[0;34m%\u001b[0m\u001b[0mtype\u001b[0m\u001b[0;34m(\u001b[0m\u001b[0mns\u001b[0m\u001b[0;34m)\u001b[0m\u001b[0;34m)\u001b[0m\u001b[0;34m\u001b[0m\u001b[0m\n\u001b[0m\u001b[1;32m    702\u001b[0m         \u001b[0;32mreturn\u001b[0m \u001b[0mself\u001b[0m\u001b[0;34m.\u001b[0m\u001b[0m_really_apply\u001b[0m\u001b[0;34m(\u001b[0m\u001b[0mutil\u001b[0m\u001b[0;34m.\u001b[0m\u001b[0m_push\u001b[0m\u001b[0;34m,\u001b[0m \u001b[0mkwargs\u001b[0m\u001b[0;34m=\u001b[0m\u001b[0mns\u001b[0m\u001b[0;34m,\u001b[0m \u001b[0mblock\u001b[0m\u001b[0;34m=\u001b[0m\u001b[0mblock\u001b[0m\u001b[0;34m,\u001b[0m \u001b[0mtrack\u001b[0m\u001b[0;34m=\u001b[0m\u001b[0mtrack\u001b[0m\u001b[0;34m,\u001b[0m \u001b[0mtargets\u001b[0m\u001b[0;34m=\u001b[0m\u001b[0mtargets\u001b[0m\u001b[0;34m)\u001b[0m\u001b[0;34m\u001b[0m\u001b[0m\n\u001b[1;32m    703\u001b[0m \u001b[0;34m\u001b[0m\u001b[0m\n",
        "\u001b[0;31mTypeError\u001b[0m: Must be a dict, not <type 'list'>"
       ]
      },
      {
       "output_type": "stream",
       "stream": "stdout",
       "text": [
        "\n",
        "importing sarpy.fmoosvi.analysis on engine(s)\n"
       ]
      }
     ],
     "prompt_number": 7
    },
    {
     "cell_type": "code",
     "collapsed": false,
     "input": [
      "start1 = time.time()\n",
      "\n",
      "lv = c.load_balanced_view()   # this object represents the engines (workers)\n",
      "lv.block = True\n",
      "\n",
      "coord = lv.map(func, map_list)\n",
      "end1 = time.time()\n",
      "\n",
      "print 'With parallelization : {0} s'.format(end1 - start1)"
     ],
     "language": "python",
     "metadata": {},
     "outputs": [
      {
       "output_type": "stream",
       "stream": "stdout",
       "text": [
        "With parallelization : 15.0279219151 s\n"
       ]
      }
     ],
     "prompt_number": 7
    },
    {
     "cell_type": "code",
     "collapsed": false,
     "input": [
      "testarr2 = numpy.empty([img_size[0],img_size[1],img_size[2]],dtype=dict)\n",
      "testarr2[:] = numpy.nan\n",
      "\n",
      "for coo in coord:\n",
      "    testarr2[coo[0][0],coo[0][1],coo[0][2]]=coo[1]"
     ],
     "language": "python",
     "metadata": {},
     "outputs": [],
     "prompt_number": 8
    },
    {
     "cell_type": "code",
     "collapsed": false,
     "input": [
      "testarr2[21,60,3]"
     ],
     "language": "python",
     "metadata": {},
     "outputs": [
      {
       "metadata": {},
       "output_type": "pyout",
       "prompt_number": 10,
       "text": [
        "{'aic': -466.4615315656547,\n",
        " 'bic': -457.13796954113451,\n",
        " 'fit_params': array([ 0.47669495,  2.2935366 ,  0.98999998,  0.20205457]),\n",
        " 'fitted_ctr': array([ 0.        ,  0.02110073,  0.05557487,  0.10077696,  0.15555826,\n",
        "        0.21922544,  0.28560354,  0.29295705,  0.28636326,  0.27758677,\n",
        "        0.26931427,  0.26192068,  0.25528693,  0.24924787,  0.24367857,\n",
        "        0.23849543,  0.23364342,  0.22908511,  0.22479357,  0.22074811,\n",
        "        0.21693179,  0.2133301 ,  0.20993011,  0.20672006,  0.20368909,\n",
        "        0.20082706,  0.19812448,  0.19557243,  0.19316249,  0.19088674,\n",
        "        0.18873771,  0.18670832,  0.18479193,  0.18298223,  0.18127329,\n",
        "        0.1796595 ,  0.17813555,  0.17669645,  0.17533747,  0.17405415,\n",
        "        0.17284228,  0.17169789,  0.1706172 ,  0.16959668,  0.16863299,\n",
        "        0.16772294,  0.16686356,  0.16605203,  0.16528568,  0.16456199,\n",
        "        0.1638786 ,  0.16323326,  0.16262384,  0.16204835,  0.16150491,\n",
        "        0.16099172,  0.1605071 ,  0.16004946,  0.15961731,  0.15920921,\n",
        "        0.15882383,  0.15845991,  0.15811625,  0.15779173,  0.15748527,\n",
        "        0.15719587,  0.15692259,  0.15666452,  0.15642082,  0.15619068,\n",
        "        0.15597336,  0.15576814,  0.15557435,  0.15539134,  0.15521853,\n",
        "        0.15505533,  0.15490122,  0.15475569,  0.15461826,  0.15448849,\n",
        "        0.15436594,  0.15425021,  0.15414093,  0.15403773,  0.15394027,\n",
        "        0.15384824]),\n",
        " 'rsquared': 0.31082480783607658,\n",
        " 'ss_err': 0.34356140068453866}"
       ]
      }
     ],
     "prompt_number": 10
    },
    {
     "cell_type": "markdown",
     "metadata": {},
     "source": [
      "### Now to run it serially\n"
     ]
    },
    {
     "cell_type": "code",
     "collapsed": false,
     "input": [
      "start2 = time.time()\n",
      "testarr2 = numpy.empty([img_size[0],img_size[1],img_size[2]],dtype=object)\n",
      "\n",
      "for x in xrange(img_size[0]):\n",
      "    for y in xrange(img_size[1]):\n",
      "        for z in xrange(img_size[2]):\n",
      "            xyz = (x,y,z)\n",
      "            ser = sarpy.fmoosvi.analysis.h_fit_PKhelper(xyz,data,inj_point = inj_point, bbox=bbox,\n",
      "                                                        aif=aif, time_points=time_points,model=model,\n",
      "                                                        initial_guess=initial_guess,bounds=bounds)\n",
      "            testarr2[x,y,z] = ser[1]\n",
      "\n",
      "end2 = time.time()\n",
      "print 'Without parallelization : {0} s'.format(end2 - start2)"
     ],
     "language": "python",
     "metadata": {},
     "outputs": [
      {
       "output_type": "stream",
       "stream": "stdout",
       "text": [
        "Warning: Cooled to 2.151175 at [ 0.13101836  7.32996214  0.98999741  0.29991028] but this is not the smallest point found.\n",
        "Warning: Cooled to 1.875976 at [ 0.99984343  1.85338365  0.97604733  0.20285712] but this is not the smallest point found."
       ]
      },
      {
       "output_type": "stream",
       "stream": "stdout",
       "text": [
        "\n",
        "Warning: Cooled to 2.294781 at [ 0.13827844  7.7281795   0.98774871  0.23843121] but this is not the smallest point found."
       ]
      },
      {
       "output_type": "stream",
       "stream": "stdout",
       "text": [
        "\n",
        "Warning: Cooled to 18.302133 at [ 0.42870838  5.203638    0.97448491  0.2973983 ] but this is not the smallest point found."
       ]
      },
      {
       "output_type": "stream",
       "stream": "stdout",
       "text": [
        "\n",
        "Warning: Cooled to 184.135884 at [ 0.18367753  7.64415337  0.8901839   0.28085147] but this is not the smallest point found."
       ]
      },
      {
       "output_type": "stream",
       "stream": "stdout",
       "text": [
        "\n",
        "Without parallelization : 3522.8154521 s"
       ]
      },
      {
       "output_type": "stream",
       "stream": "stdout",
       "text": [
        "\n"
       ]
      }
     ],
     "prompt_number": 5
    },
    {
     "cell_type": "code",
     "collapsed": false,
     "input": [
      "numpy.array_equal(testarr,testarr2)"
     ],
     "language": "python",
     "metadata": {},
     "outputs": [
      {
       "metadata": {},
       "output_type": "pyout",
       "prompt_number": 9,
       "text": [
        "False"
       ]
      }
     ],
     "prompt_number": 9
    },
    {
     "cell_type": "code",
     "collapsed": false,
     "input": [
      "testarr2.shape"
     ],
     "language": "python",
     "metadata": {},
     "outputs": [
      {
       "metadata": {},
       "output_type": "pyout",
       "prompt_number": 10,
       "text": [
        "(64, 128, 6)"
       ]
      }
     ],
     "prompt_number": 10
    },
    {
     "cell_type": "code",
     "collapsed": false,
     "input": [
      "testarr.shape"
     ],
     "language": "python",
     "metadata": {},
     "outputs": [
      {
       "metadata": {},
       "output_type": "pyout",
       "prompt_number": 11,
       "text": [
        "(64, 128, 6)"
       ]
      }
     ],
     "prompt_number": 11
    },
    {
     "cell_type": "code",
     "collapsed": false,
     "input": [
      "testarr[20,60,3]"
     ],
     "language": "python",
     "metadata": {},
     "outputs": [
      {
       "metadata": {},
       "output_type": "pyout",
       "prompt_number": 12,
       "text": [
        "{'aic': -496.50132505035765,\n",
        " 'bic': -487.17776302583746,\n",
        " 'fit_params': array([ 0.99989744,  0.78929335,  0.78575446,  0.12372429]),\n",
        " 'fitted_ctr': array([ 0.        ,  0.00726156,  0.02144933,  0.04224392,  0.06934069,\n",
        "        0.10244905,  0.13935297,  0.15808654,  0.16693091,  0.17042046,\n",
        "        0.17103757,  0.17013997,  0.16846911,  0.16642878,  0.16423779,\n",
        "        0.16201367,  0.15981857,  0.15768439,  0.15562653,  0.15365144,\n",
        "        0.1517608 ,  0.14995369,  0.14822792,  0.14658063,  0.14500869,\n",
        "        0.14350892,  0.14207812,  0.14071319,  0.13941115,  0.13816912,\n",
        "        0.13698434,  0.13585418,  0.13477613,  0.13374779,  0.13276686,\n",
        "        0.13183117,  0.13093861,  0.13008722,  0.12927508,  0.12850039,\n",
        "        0.12776143,  0.12705653,  0.12638414,  0.12574276,  0.12513094,\n",
        "        0.12454734,  0.12399065,  0.12345963,  0.1229531 ,  0.12246992,\n",
        "        0.12200902,  0.12156937,  0.12115   ,  0.12074996,  0.12036837,\n",
        "        0.12000438,  0.11965717,  0.11932596,  0.11901004,  0.11870867,\n",
        "        0.11842121,  0.118147  ,  0.11788543,  0.11763593,  0.11739793,\n",
        "        0.1171709 ,  0.11695434,  0.11674777,  0.11655072,  0.11636276,\n",
        "        0.11618347,  0.11601244,  0.1158493 ,  0.11569368,  0.11554524,\n",
        "        0.11540364,  0.11526857,  0.11513973,  0.11501683,  0.1148996 ,\n",
        "        0.11478777,  0.1146811 ,  0.11457935,  0.11448229,  0.11438971,\n",
        "        0.11430139]),\n",
        " 'rsquared': 0.28020108695746548,\n",
        " 'ss_err': 0.24227317737214679}"
       ]
      }
     ],
     "prompt_number": 12
    },
    {
     "cell_type": "code",
     "collapsed": false,
     "input": [
      "numpy.array_equal(testarr2[20,60,3],testarr[20,60,3])"
     ],
     "language": "python",
     "metadata": {},
     "outputs": [
      {
       "metadata": {},
       "output_type": "pyout",
       "prompt_number": 14,
       "text": [
        "False"
       ]
      }
     ],
     "prompt_number": 14
    },
    {
     "cell_type": "code",
     "collapsed": false,
     "input": [
      "diff = set(testarr2[20,60,3].keys()) - set(testarr[20,60,3].keys())"
     ],
     "language": "python",
     "metadata": {},
     "outputs": [],
     "prompt_number": 15
    },
    {
     "cell_type": "code",
     "collapsed": false,
     "input": [
      "diff"
     ],
     "language": "python",
     "metadata": {},
     "outputs": [
      {
       "metadata": {},
       "output_type": "pyout",
       "prompt_number": 16,
       "text": [
        "set()"
       ]
      }
     ],
     "prompt_number": 16
    },
    {
     "cell_type": "code",
     "collapsed": false,
     "input": [],
     "language": "python",
     "metadata": {},
     "outputs": []
    }
   ],
   "metadata": {}
  }
 ]
}