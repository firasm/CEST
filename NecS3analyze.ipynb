{
 "metadata": {
  "name": "NecS3analyze"
 },
 "nbformat": 3,
 "nbformat_minor": 0,
 "worksheets": [
  {
   "cells": [
    {
     "cell_type": "markdown",
     "metadata": {},
     "source": [
      "This is a template for analyzing various animals using the new python setup.\n",
      "\n",
      "Change the name of the experiment in Step 0, and then again the names of the labels in Step 4. This template requires that the masterlist be already created using generate_masterlist.py"
     ]
    },
    {
     "cell_type": "markdown",
     "metadata": {},
     "source": [
      "#### Set imports and define the experiment name"
     ]
    },
    {
     "cell_type": "code",
     "collapsed": false,
     "input": [
      "import sarpy\n",
      "import sarpy.fmoosvi.wrappers\n",
      "from datetime import datetime\n",
      "from collections import defaultdict\n",
      "import os\n",
      "import sys\n",
      "import errno\n",
      "\n",
      "startTime = datetime.now()"
     ],
     "language": "python",
     "metadata": {},
     "outputs": [],
     "prompt_number": 1
    },
    {
     "cell_type": "markdown",
     "metadata": {},
     "source": [
      "## Step 0 - Specify experiment name"
     ]
    },
    {
     "cell_type": "code",
     "collapsed": false,
     "input": [
      "masterlist = 'NecS3'\n",
      "path = os.path.join(os.path.expanduser('~'),'sdata',masterlist,'rois')\n",
      "\n",
      "# See if the rois directory exists, if it doesn't create it\n",
      "try:\n",
      "    os.makedirs(path)\n",
      "except OSError as exception:\n",
      "    if exception.errno != errno.EEXIST:\n",
      "        raise"
     ],
     "language": "python",
     "metadata": {},
     "outputs": [],
     "prompt_number": 2
    },
    {
     "cell_type": "markdown",
     "metadata": {},
     "source": [
      "## Step 1: Export ROIs"
     ]
    },
    {
     "cell_type": "code",
     "collapsed": false,
     "input": [
      "fFlag = False\n",
      "\n",
      "smart_label = []\n",
      "smart_label.append(['0h-IR_A','0h-',fFlag])\n",
      "smart_label.append(['24h-IR_A','24h-',fFlag])\n",
      "\n",
      "for sm in smart_label:\n",
      "    sarpy.io.generate_rois.generate_rois(masterlist,sm[0],'roi','export', path, sm[2])"
     ],
     "language": "python",
     "metadata": {},
     "outputs": [
      {
       "output_type": "stream",
       "stream": "stdout",
       "text": [
        "Nifti images were processed in /Users/fmoosvi/sdata/NecS3/rois\n",
        "Nifti images were processed in /Users/fmoosvi/sdata/NecS3/rois"
       ]
      },
      {
       "output_type": "stream",
       "stream": "stdout",
       "text": [
        "\n"
       ]
      }
     ],
     "prompt_number": 3
    },
    {
     "cell_type": "markdown",
     "metadata": {},
     "source": [
      "Now go ahead and draw ROIs using ImageJ. When you're done, just rename the files with an a appended at the very end. For e.g., the source file _HerS2Mo01_10.nii_ will turn into _HerS2Mo01_10a.nii_ once the ROI is drawn"
     ]
    },
    {
     "cell_type": "markdown",
     "metadata": {},
     "source": [
      "## Step 2: Import the drawn ROIs back in as adata, update the bounding boxes"
     ]
    },
    {
     "cell_type": "code",
     "collapsed": false,
     "input": [
      "for sm in smart_label:\n",
      "    sarpy.io.generate_rois.generate_rois(masterlist,sm[0],'roi','import', path, sm[2])\n",
      "    sarpy.io.update_bbox.update_bbox(masterlist,sm[0],'roi',sm[1])"
     ],
     "language": "python",
     "metadata": {},
     "outputs": [
      {
       "output_type": "stream",
       "stream": "stdout",
       "text": [
        "roi: adata already exists NecS3Hs02.iJ1/11 \n",
        "roi: adata already exists NecS3Hs04.iJ1/10 \n",
        "roi: adata already exists NecS3Hs05.iJ1/9 \n",
        "roi: adata already exists NecS3Hs06.iJ1/8 "
       ]
      },
      {
       "output_type": "stream",
       "stream": "stdout",
       "text": [
        "\n",
        "roi: adata already exists NecS3Hs08.iK1/8 \n",
        "roi: adata already exists NecS3Hs09.iK1/8 \n",
        "roi: adata already exists NecS3Hs10.iK1/7 "
       ]
      },
      {
       "output_type": "stream",
       "stream": "stdout",
       "text": [
        "\n",
        "roi: adata already exists NecS3Hs11.iK1/10 \n",
        "roi: adata already exists NecS3Hs12.iL1/8 "
       ]
      },
      {
       "output_type": "stream",
       "stream": "stdout",
       "text": [
        "\n",
        "roi: adata already exists NecS3Hs13.iL1/8 \n",
        "roi: adata already exists NecS3Hs14.iL1/10 "
       ]
      },
      {
       "output_type": "stream",
       "stream": "stdout",
       "text": [
        "\n",
        "roi: adata already exists NecS3Hs15.iL1/9 "
       ]
      },
      {
       "output_type": "stream",
       "stream": "stdout",
       "text": [
        "\n",
        "Nifti images were processed in /Users/fmoosvi/sdata/NecS3/rois\n",
        "update_bbox: Success, updated file is: NecS3_updated.json"
       ]
      },
      {
       "output_type": "stream",
       "stream": "stdout",
       "text": [
        "\n",
        "roi: adata already exists NecS3Hs02.iK1/19 "
       ]
      },
      {
       "output_type": "stream",
       "stream": "stdout",
       "text": [
        "\n",
        "roi: adata already exists NecS3Hs04.iK2/11 "
       ]
      },
      {
       "output_type": "stream",
       "stream": "stdout",
       "text": [
        "\n",
        "roi: adata already exists NecS3Hs05.iK1/10 \n",
        "roi: adata already exists NecS3Hs06.iK1/12 "
       ]
      },
      {
       "output_type": "stream",
       "stream": "stdout",
       "text": [
        "\n",
        "roi: adata already exists NecS3Hs08.iL1/9 \n",
        "roi: adata already exists NecS3Hs09.iL1/12 "
       ]
      },
      {
       "output_type": "stream",
       "stream": "stdout",
       "text": [
        "\n",
        "roi: adata already exists NecS3Hs10.iL1/16 \n",
        "roi: adata already exists NecS3Hs11.iL1/9 "
       ]
      },
      {
       "output_type": "stream",
       "stream": "stdout",
       "text": [
        "\n",
        "roi: adata already exists NecS3Hs12.iM3/15 \n",
        "roi: adata already exists NecS3Hs13.iM1/13 "
       ]
      },
      {
       "output_type": "stream",
       "stream": "stdout",
       "text": [
        "\n",
        "roi: adata already exists NecS3Hs14.iM1/12 "
       ]
      },
      {
       "output_type": "stream",
       "stream": "stdout",
       "text": [
        "\n",
        "roi: adata already exists NecS3Hs15.iM1/8 \n",
        "Nifti images were processed in /Users/fmoosvi/sdata/NecS3/rois\n",
        "update_bbox: Success, updated file is: NecS3_updated.json"
       ]
      },
      {
       "output_type": "stream",
       "stream": "stdout",
       "text": [
        "\n"
       ]
      }
     ],
     "prompt_number": 4
    },
    {
     "cell_type": "markdown",
     "metadata": {},
     "source": [
      "## Step 3: Perform basic analyses (no ROIs required)"
     ]
    },
    {
     "cell_type": "code",
     "collapsed": false,
     "input": [
      "analyze_list = []\n",
      "\n",
      "fFlag = True # Set whether or not the scan need to be overwritten, default False\n",
      "\n",
      "analyze_list.append(['0h-IR_A','roi_check',fFlag])\n",
      "analyze_list.append(['24h-IR_A','roi_check',fFlag])\n",
      "\n",
      "analyze_list.append(['0h-DCE1','auc60',fFlag])\n",
      "analyze_list.append(['24h-DCE1','auc60',fFlag])\n",
      "\n",
      "analyze_list.append(['0h-LL','T1map_LL',fFlag])\n",
      "analyze_list.append(['24h-LL','T1map_LL',fFlag])\n",
      "\n",
      "analyze_list.append(['0h-DCE1','vtc',fFlag])\n",
      "analyze_list.append(['24h-DCE1','vtc',fFlag])\n",
      "\n",
      "for items in analyze_list:\n",
      "                                              \n",
      "    if len(items) == 3:\n",
      "        sarpy.fmoosvi.wrappers.bulk_analyze(masterlist, items[0], items[1], forceVal = items[2])\n",
      "    else:\n",
      "        sarpy.fmoosvi.wrappers.bulk_analyze(masterlist, items[0], items[1], items[2], forceVal = items[3])"
     ],
     "language": "python",
     "metadata": {},
     "outputs": [
      {
       "output_type": "stream",
       "stream": "stdout",
       "text": [
        "deleting item roi_check\n",
        "deleting item roi_check"
       ]
      },
      {
       "output_type": "stream",
       "stream": "stdout",
       "text": [
        "\n",
        "deleting item roi_check"
       ]
      },
      {
       "output_type": "stream",
       "stream": "stdout",
       "text": [
        "\n",
        "deleting item roi_check"
       ]
      },
      {
       "output_type": "stream",
       "stream": "stdout",
       "text": [
        "\n",
        "deleting item roi_check"
       ]
      },
      {
       "output_type": "stream",
       "stream": "stdout",
       "text": [
        "\n",
        "deleting item roi_check"
       ]
      },
      {
       "output_type": "stream",
       "stream": "stdout",
       "text": [
        "\n",
        "deleting item roi_check"
       ]
      },
      {
       "output_type": "stream",
       "stream": "stdout",
       "text": [
        "\n",
        "deleting item roi_check"
       ]
      },
      {
       "output_type": "stream",
       "stream": "stdout",
       "text": [
        "\n",
        "deleting item roi_check"
       ]
      },
      {
       "output_type": "stream",
       "stream": "stdout",
       "text": [
        "\n",
        "deleting item roi_check"
       ]
      },
      {
       "output_type": "stream",
       "stream": "stdout",
       "text": [
        "\n",
        "deleting item roi_check"
       ]
      },
      {
       "output_type": "stream",
       "stream": "stdout",
       "text": [
        "\n",
        "deleting item roi_check"
       ]
      },
      {
       "output_type": "stream",
       "stream": "stdout",
       "text": [
        "\n",
        "deleting item roi_check"
       ]
      },
      {
       "output_type": "stream",
       "stream": "stdout",
       "text": [
        "\n",
        "deleting item roi_check"
       ]
      },
      {
       "output_type": "stream",
       "stream": "stdout",
       "text": [
        "\n",
        "deleting item roi_check"
       ]
      },
      {
       "output_type": "stream",
       "stream": "stdout",
       "text": [
        "\n",
        "deleting item roi_check"
       ]
      },
      {
       "output_type": "stream",
       "stream": "stdout",
       "text": [
        "\n",
        "deleting item roi_check"
       ]
      },
      {
       "output_type": "stream",
       "stream": "stdout",
       "text": [
        "\n",
        "deleting item roi_check"
       ]
      },
      {
       "output_type": "stream",
       "stream": "stdout",
       "text": [
        "\n",
        "deleting item roi_check"
       ]
      },
      {
       "output_type": "stream",
       "stream": "stdout",
       "text": [
        "\n",
        "deleting item roi_check"
       ]
      },
      {
       "output_type": "stream",
       "stream": "stdout",
       "text": [
        "\n",
        "deleting item roi_check"
       ]
      },
      {
       "output_type": "stream",
       "stream": "stdout",
       "text": [
        "\n",
        "deleting item roi_check"
       ]
      },
      {
       "output_type": "stream",
       "stream": "stdout",
       "text": [
        "\n",
        "deleting item roi_check"
       ]
      },
      {
       "output_type": "stream",
       "stream": "stdout",
       "text": [
        "\n",
        "deleting item roi_check"
       ]
      },
      {
       "output_type": "stream",
       "stream": "stdout",
       "text": [
        "\n",
        "deleting item auc60"
       ]
      },
      {
       "output_type": "stream",
       "stream": "stdout",
       "text": [
        "\n",
        "deleting item auc60"
       ]
      },
      {
       "output_type": "stream",
       "stream": "stdout",
       "text": [
        "\n",
        "deleting item auc60"
       ]
      },
      {
       "output_type": "stream",
       "stream": "stdout",
       "text": [
        "\n",
        "deleting item auc60"
       ]
      },
      {
       "output_type": "stream",
       "stream": "stdout",
       "text": [
        "\n",
        "auc60: Not found NecS3Hs08 and 0h-DCE1"
       ]
      },
      {
       "output_type": "stream",
       "stream": "stdout",
       "text": [
        "\n",
        "auc60: Not found NecS3Hs09 and 0h-DCE1\n",
        "auc60: Not found NecS3Hs10 and 0h-DCE1\n",
        "auc60: Not found NecS3Hs11 and 0h-DCE1\n",
        "auc60: Not found NecS3Hs12 and 0h-DCE1\n",
        "auc60: Not found NecS3Hs13 and 0h-DCE1\n",
        "auc60: Not found NecS3Hs14 and 0h-DCE1\n",
        "auc60: Not found NecS3Hs15 and 0h-DCE1\n",
        "deleting item auc60"
       ]
      },
      {
       "output_type": "stream",
       "stream": "stdout",
       "text": [
        "\n",
        "\n",
        " \n",
        " ***** Warning **** \n",
        " \n",
        " !!! Incomplete dce data for NecS3Hs04.iK2/23"
       ]
      },
      {
       "output_type": "stream",
       "stream": "stdout",
       "text": [
        "\n",
        "Could not find the injection point, possibly okay0\n",
        "Could not find the injection point, possibly okay1\n",
        "Could not find the injection point, possibly okay2\n",
        "Could not find the injection point, possibly okay3\n",
        "\n",
        " \n",
        " ***** Warning **** \n",
        " \n",
        " !!! Incomplete dce data for NecS3Hs04.iK2/23 \n",
        " \n",
        "\n",
        "Could not find the injection point, possibly okay0\n",
        "Could not find the injection point, possibly okay1"
       ]
      },
      {
       "output_type": "stream",
       "stream": "stdout",
       "text": [
        "\n",
        "Could not find the injection point, possibly okay2\n",
        "Could not find the injection point, possibly okay3\n",
        "deleting item auc60"
       ]
      },
      {
       "output_type": "stream",
       "stream": "stdout",
       "text": [
        "\n",
        "deleting item auc60"
       ]
      },
      {
       "output_type": "stream",
       "stream": "stdout",
       "text": [
        "\n",
        "deleting item auc60"
       ]
      },
      {
       "output_type": "stream",
       "stream": "stdout",
       "text": [
        "\n",
        "deleting item auc60"
       ]
      },
      {
       "output_type": "stream",
       "stream": "stdout",
       "text": [
        "\n",
        "deleting item auc60"
       ]
      },
      {
       "output_type": "stream",
       "stream": "stdout",
       "text": [
        "\n",
        "deleting item auc60"
       ]
      },
      {
       "output_type": "stream",
       "stream": "stdout",
       "text": [
        "\n",
        "deleting item auc60"
       ]
      },
      {
       "output_type": "stream",
       "stream": "stdout",
       "text": [
        "\n",
        "deleting item auc60"
       ]
      },
      {
       "output_type": "stream",
       "stream": "stdout",
       "text": [
        "\n",
        "deleting item auc60"
       ]
      },
      {
       "output_type": "stream",
       "stream": "stdout",
       "text": [
        "\n",
        "deleting item auc60"
       ]
      },
      {
       "output_type": "stream",
       "stream": "stdout",
       "text": [
        "\n",
        "deleting item auc60"
       ]
      },
      {
       "output_type": "stream",
       "stream": "stderr",
       "text": [
        "WARNING:sarpy.io.BRUKERIO:NSLICES not equal to number of ACQ_obj_order\n"
       ]
      },
      {
       "output_type": "stream",
       "stream": "stderr",
       "text": [
        "/phd/Dropbox/code/python/sarpy/fmoosvi/analysis.py:579: RuntimeWarning: divide by zero encountered in double_scalars\n",
        "  return (1-2*numpy.exp(-Td/T1) + numpy.exp(-(Tp+Td)/T1))*((1-numpy.exp(-tao/T1_eff))/(1-numpy.exp(-tao/T1))) -c*(numpy.exp(-tao/T1_eff)/(numpy.exp(-tao/T1)))*numpy.exp(-(Tp+Td)/T1) - b\n",
        "/phd/Dropbox/code/python/sarpy/fmoosvi/analysis.py:579: RuntimeWarning: invalid value encountered in double_scalars\n",
        "  return (1-2*numpy.exp(-Td/T1) + numpy.exp(-(Tp+Td)/T1))*((1-numpy.exp(-tao/T1_eff))/(1-numpy.exp(-tao/T1))) -c*(numpy.exp(-tao/T1_eff)/(numpy.exp(-tao/T1)))*numpy.exp(-(Tp+Td)/T1) - b\n",
        "/Library/Python/2.7/site-packages/scipy-0.13.0.dev_c31f167_20130514-py2.7-macosx-10.8-intel.egg/scipy/optimize/zeros.py:152: RuntimeWarning: invalid value encountered in double_scalars\n",
        "  p = p1 - q1*(p1 - p0)/(q1 - q0)\n"
       ]
      },
      {
       "output_type": "stream",
       "stream": "stderr",
       "text": [
        "/phd/Dropbox/code/python/sarpy/fmoosvi/analysis.py:576: RuntimeWarning: overflow encountered in exp\n",
        "  return a*(1-(1-b)*numpy.exp(-n*tao/T1_eff))*numpy.exp(1j*phi)\n",
        "/phd/Dropbox/code/python/sarpy/fmoosvi/analysis.py:576: RuntimeWarning: overflow encountered in multiply\n",
        "  return a*(1-(1-b)*numpy.exp(-n*tao/T1_eff))*numpy.exp(1j*phi)\n"
       ]
      },
      {
       "output_type": "stream",
       "stream": "stderr",
       "text": [
        "/Library/Python/2.7/site-packages/scipy-0.13.0.dev_c31f167_20130514-py2.7-macosx-10.8-intel.egg/scipy/optimize/zeros.py:149: RuntimeWarning: Tolerance of 5.76011665675e+13 reached\n",
        "  warnings.warn(msg, RuntimeWarning)\n",
        "/Library/Python/2.7/site-packages/scipy-0.13.0.dev_c31f167_20130514-py2.7-macosx-10.8-intel.egg/scipy/optimize/zeros.py:149: RuntimeWarning: Tolerance of 2.17412538051e+14 reached\n",
        "  warnings.warn(msg, RuntimeWarning)\n"
       ]
      },
      {
       "output_type": "stream",
       "stream": "stderr",
       "text": [
        "/Library/Python/2.7/site-packages/scipy-0.13.0.dev_c31f167_20130514-py2.7-macosx-10.8-intel.egg/scipy/optimize/zeros.py:149: RuntimeWarning: Tolerance of -1.23349179216e+17 reached\n",
        "  warnings.warn(msg, RuntimeWarning)\n",
        "/Library/Python/2.7/site-packages/scipy-0.13.0.dev_c31f167_20130514-py2.7-macosx-10.8-intel.egg/scipy/optimize/zeros.py:149: RuntimeWarning: Tolerance of 4.98358984578e+13 reached\n",
        "  warnings.warn(msg, RuntimeWarning)\n"
       ]
      },
      {
       "output_type": "stream",
       "stream": "stderr",
       "text": [
        "/Library/Python/2.7/site-packages/scipy-0.13.0.dev_c31f167_20130514-py2.7-macosx-10.8-intel.egg/scipy/optimize/zeros.py:149: RuntimeWarning: Tolerance of 2.71800810286e+16 reached\n",
        "  warnings.warn(msg, RuntimeWarning)\n",
        "/Library/Python/2.7/site-packages/scipy-0.13.0.dev_c31f167_20130514-py2.7-macosx-10.8-intel.egg/scipy/optimize/zeros.py:149: RuntimeWarning: Tolerance of 2.37129738377e+15 reached\n",
        "  warnings.warn(msg, RuntimeWarning)\n"
       ]
      },
      {
       "output_type": "stream",
       "stream": "stderr",
       "text": [
        "/Library/Python/2.7/site-packages/scipy-0.13.0.dev_c31f167_20130514-py2.7-macosx-10.8-intel.egg/scipy/optimize/zeros.py:149: RuntimeWarning: Tolerance of -6.39314870137e+14 reached\n",
        "  warnings.warn(msg, RuntimeWarning)\n",
        "/Library/Python/2.7/site-packages/scipy-0.13.0.dev_c31f167_20130514-py2.7-macosx-10.8-intel.egg/scipy/optimize/zeros.py:149: RuntimeWarning: Tolerance of 1.07786605886e+14 reached\n",
        "  warnings.warn(msg, RuntimeWarning)\n"
       ]
      },
      {
       "output_type": "stream",
       "stream": "stderr",
       "text": [
        "/Library/Python/2.7/site-packages/scipy-0.13.0.dev_c31f167_20130514-py2.7-macosx-10.8-intel.egg/scipy/optimize/zeros.py:149: RuntimeWarning: Tolerance of 2.61246556636e+14 reached\n",
        "  warnings.warn(msg, RuntimeWarning)\n",
        "/Library/Python/2.7/site-packages/scipy-0.13.0.dev_c31f167_20130514-py2.7-macosx-10.8-intel.egg/scipy/optimize/zeros.py:149: RuntimeWarning: Tolerance of -1.39631923267e+17 reached\n",
        "  warnings.warn(msg, RuntimeWarning)\n"
       ]
      },
      {
       "output_type": "stream",
       "stream": "stderr",
       "text": [
        "/Library/Python/2.7/site-packages/scipy-0.13.0.dev_c31f167_20130514-py2.7-macosx-10.8-intel.egg/scipy/optimize/zeros.py:149: RuntimeWarning: Tolerance of 9.2633026899e+12 reached\n",
        "  warnings.warn(msg, RuntimeWarning)\n",
        "/Library/Python/2.7/site-packages/scipy-0.13.0.dev_c31f167_20130514-py2.7-macosx-10.8-intel.egg/scipy/optimize/zeros.py:149: RuntimeWarning: Tolerance of 3.674446956e+16 reached\n",
        "  warnings.warn(msg, RuntimeWarning)\n"
       ]
      },
      {
       "output_type": "stream",
       "stream": "stderr",
       "text": [
        "/Library/Python/2.7/site-packages/scipy-0.13.0.dev_c31f167_20130514-py2.7-macosx-10.8-intel.egg/scipy/optimize/zeros.py:149: RuntimeWarning: Tolerance of 1.43132932538e+18 reached\n",
        "  warnings.warn(msg, RuntimeWarning)\n",
        "/Library/Python/2.7/site-packages/scipy-0.13.0.dev_c31f167_20130514-py2.7-macosx-10.8-intel.egg/scipy/optimize/zeros.py:149: RuntimeWarning: Tolerance of -8.68521600977e+14 reached\n",
        "  warnings.warn(msg, RuntimeWarning)\n"
       ]
      },
      {
       "output_type": "stream",
       "stream": "stderr",
       "text": [
        "/Library/Python/2.7/site-packages/scipy-0.13.0.dev_c31f167_20130514-py2.7-macosx-10.8-intel.egg/scipy/optimize/zeros.py:149: RuntimeWarning: Tolerance of 1.02779860205e+16 reached\n",
        "  warnings.warn(msg, RuntimeWarning)\n",
        "/Library/Python/2.7/site-packages/scipy-0.13.0.dev_c31f167_20130514-py2.7-macosx-10.8-intel.egg/scipy/optimize/zeros.py:149: RuntimeWarning: Tolerance of 2.4487079349e+17 reached\n",
        "  warnings.warn(msg, RuntimeWarning)\n"
       ]
      },
      {
       "output_type": "stream",
       "stream": "stderr",
       "text": [
        "/Library/Python/2.7/site-packages/scipy-0.13.0.dev_c31f167_20130514-py2.7-macosx-10.8-intel.egg/scipy/optimize/zeros.py:149: RuntimeWarning: Tolerance of 3.64800261926e+15 reached\n",
        "  warnings.warn(msg, RuntimeWarning)\n",
        "/Library/Python/2.7/site-packages/scipy-0.13.0.dev_c31f167_20130514-py2.7-macosx-10.8-intel.egg/scipy/optimize/zeros.py:149: RuntimeWarning: Tolerance of -6.52141935549e+15 reached\n",
        "  warnings.warn(msg, RuntimeWarning)\n"
       ]
      },
      {
       "output_type": "stream",
       "stream": "stderr",
       "text": [
        "/Library/Python/2.7/site-packages/scipy-0.13.0.dev_c31f167_20130514-py2.7-macosx-10.8-intel.egg/scipy/optimize/zeros.py:149: RuntimeWarning: Tolerance of -8.53588900763e+16 reached\n",
        "  warnings.warn(msg, RuntimeWarning)\n",
        "/Library/Python/2.7/site-packages/scipy-0.13.0.dev_c31f167_20130514-py2.7-macosx-10.8-intel.egg/scipy/optimize/zeros.py:149: RuntimeWarning: Tolerance of -1.34697765239e+15 reached\n",
        "  warnings.warn(msg, RuntimeWarning)\n"
       ]
      },
      {
       "output_type": "stream",
       "stream": "stderr",
       "text": [
        "/Library/Python/2.7/site-packages/scipy-0.13.0.dev_c31f167_20130514-py2.7-macosx-10.8-intel.egg/scipy/optimize/zeros.py:149: RuntimeWarning: Tolerance of 5.26128854339e+14 reached\n",
        "  warnings.warn(msg, RuntimeWarning)\n",
        "/Library/Python/2.7/site-packages/scipy-0.13.0.dev_c31f167_20130514-py2.7-macosx-10.8-intel.egg/scipy/optimize/zeros.py:149: RuntimeWarning: Tolerance of -3.05267890897e+16 reached\n",
        "  warnings.warn(msg, RuntimeWarning)\n"
       ]
      },
      {
       "output_type": "stream",
       "stream": "stderr",
       "text": [
        "/Library/Python/2.7/site-packages/scipy-0.13.0.dev_c31f167_20130514-py2.7-macosx-10.8-intel.egg/scipy/optimize/zeros.py:149: RuntimeWarning: Tolerance of -1.33501195334e+15 reached\n",
        "  warnings.warn(msg, RuntimeWarning)\n",
        "/Library/Python/2.7/site-packages/scipy-0.13.0.dev_c31f167_20130514-py2.7-macosx-10.8-intel.egg/scipy/optimize/zeros.py:149: RuntimeWarning: Tolerance of 6.62722830383e+14 reached\n",
        "  warnings.warn(msg, RuntimeWarning)\n"
       ]
      },
      {
       "output_type": "stream",
       "stream": "stderr",
       "text": [
        "/Library/Python/2.7/site-packages/scipy-0.13.0.dev_c31f167_20130514-py2.7-macosx-10.8-intel.egg/scipy/optimize/zeros.py:149: RuntimeWarning: Tolerance of -6.9048605262e+16 reached\n",
        "  warnings.warn(msg, RuntimeWarning)\n",
        "/Library/Python/2.7/site-packages/scipy-0.13.0.dev_c31f167_20130514-py2.7-macosx-10.8-intel.egg/scipy/optimize/zeros.py:149: RuntimeWarning: Tolerance of -4.56453309256e+16 reached\n",
        "  warnings.warn(msg, RuntimeWarning)\n"
       ]
      },
      {
       "output_type": "stream",
       "stream": "stderr",
       "text": [
        "/Library/Python/2.7/site-packages/scipy-0.13.0.dev_c31f167_20130514-py2.7-macosx-10.8-intel.egg/scipy/optimize/zeros.py:149: RuntimeWarning: Tolerance of -9.52234181426e+15 reached\n",
        "  warnings.warn(msg, RuntimeWarning)\n",
        "/Library/Python/2.7/site-packages/scipy-0.13.0.dev_c31f167_20130514-py2.7-macosx-10.8-intel.egg/scipy/optimize/zeros.py:149: RuntimeWarning: Tolerance of 9.42016009085e+14 reached\n",
        "  warnings.warn(msg, RuntimeWarning)\n"
       ]
      },
      {
       "output_type": "stream",
       "stream": "stderr",
       "text": [
        "/Library/Python/2.7/site-packages/scipy-0.13.0.dev_c31f167_20130514-py2.7-macosx-10.8-intel.egg/scipy/optimize/zeros.py:149: RuntimeWarning: Tolerance of -2.6248814392e+13 reached\n",
        "  warnings.warn(msg, RuntimeWarning)\n",
        "/Library/Python/2.7/site-packages/scipy-0.13.0.dev_c31f167_20130514-py2.7-macosx-10.8-intel.egg/scipy/optimize/zeros.py:149: RuntimeWarning: Tolerance of 4.3013777759e+14 reached\n",
        "  warnings.warn(msg, RuntimeWarning)\n"
       ]
      },
      {
       "output_type": "stream",
       "stream": "stderr",
       "text": [
        "/Library/Python/2.7/site-packages/scipy-0.13.0.dev_c31f167_20130514-py2.7-macosx-10.8-intel.egg/scipy/optimize/zeros.py:149: RuntimeWarning: Tolerance of -1.70216971401e+16 reached\n",
        "  warnings.warn(msg, RuntimeWarning)\n",
        "/Library/Python/2.7/site-packages/scipy-0.13.0.dev_c31f167_20130514-py2.7-macosx-10.8-intel.egg/scipy/optimize/zeros.py:149: RuntimeWarning: Tolerance of 7.52931186004e+15 reached\n",
        "  warnings.warn(msg, RuntimeWarning)\n"
       ]
      },
      {
       "output_type": "stream",
       "stream": "stderr",
       "text": [
        "/Library/Python/2.7/site-packages/scipy-0.13.0.dev_c31f167_20130514-py2.7-macosx-10.8-intel.egg/scipy/optimize/zeros.py:149: RuntimeWarning: Tolerance of 6.41187748569e+16 reached\n",
        "  warnings.warn(msg, RuntimeWarning)\n",
        "/Library/Python/2.7/site-packages/scipy-0.13.0.dev_c31f167_20130514-py2.7-macosx-10.8-intel.egg/scipy/optimize/zeros.py:149: RuntimeWarning: Tolerance of -2.06998673148e+15 reached\n",
        "  warnings.warn(msg, RuntimeWarning)\n"
       ]
      },
      {
       "output_type": "stream",
       "stream": "stderr",
       "text": [
        "/Library/Python/2.7/site-packages/scipy-0.13.0.dev_c31f167_20130514-py2.7-macosx-10.8-intel.egg/scipy/optimize/zeros.py:149: RuntimeWarning: Tolerance of 1.15561130782e+16 reached\n",
        "  warnings.warn(msg, RuntimeWarning)\n",
        "/Library/Python/2.7/site-packages/scipy-0.13.0.dev_c31f167_20130514-py2.7-macosx-10.8-intel.egg/scipy/optimize/zeros.py:149: RuntimeWarning: Tolerance of 5.88217559189e+14 reached\n",
        "  warnings.warn(msg, RuntimeWarning)\n"
       ]
      },
      {
       "output_type": "stream",
       "stream": "stderr",
       "text": [
        "/Library/Python/2.7/site-packages/scipy-0.13.0.dev_c31f167_20130514-py2.7-macosx-10.8-intel.egg/scipy/optimize/zeros.py:149: RuntimeWarning: Tolerance of 1.93141958565e+15 reached\n",
        "  warnings.warn(msg, RuntimeWarning)\n",
        "/Library/Python/2.7/site-packages/scipy-0.13.0.dev_c31f167_20130514-py2.7-macosx-10.8-intel.egg/scipy/optimize/zeros.py:149: RuntimeWarning: Tolerance of -3.87531071317e+14 reached\n",
        "  warnings.warn(msg, RuntimeWarning)\n"
       ]
      },
      {
       "output_type": "stream",
       "stream": "stderr",
       "text": [
        "/Library/Python/2.7/site-packages/scipy-0.13.0.dev_c31f167_20130514-py2.7-macosx-10.8-intel.egg/scipy/optimize/zeros.py:149: RuntimeWarning: Tolerance of -8.78598751547e+15 reached\n",
        "  warnings.warn(msg, RuntimeWarning)\n",
        "/Library/Python/2.7/site-packages/scipy-0.13.0.dev_c31f167_20130514-py2.7-macosx-10.8-intel.egg/scipy/optimize/zeros.py:149: RuntimeWarning: Tolerance of -1.015547204e+17 reached\n",
        "  warnings.warn(msg, RuntimeWarning)\n"
       ]
      },
      {
       "output_type": "stream",
       "stream": "stderr",
       "text": [
        "/Library/Python/2.7/site-packages/scipy-0.13.0.dev_c31f167_20130514-py2.7-macosx-10.8-intel.egg/scipy/optimize/zeros.py:149: RuntimeWarning: Tolerance of -7.74655887628e+13 reached\n",
        "  warnings.warn(msg, RuntimeWarning)\n",
        "/Library/Python/2.7/site-packages/scipy-0.13.0.dev_c31f167_20130514-py2.7-macosx-10.8-intel.egg/scipy/optimize/zeros.py:149: RuntimeWarning: Tolerance of 1.09411933507e+15 reached\n",
        "  warnings.warn(msg, RuntimeWarning)\n"
       ]
      },
      {
       "output_type": "stream",
       "stream": "stderr",
       "text": [
        "/Library/Python/2.7/site-packages/scipy-0.13.0.dev_c31f167_20130514-py2.7-macosx-10.8-intel.egg/scipy/optimize/zeros.py:149: RuntimeWarning: Tolerance of 1.25624085282e+13 reached\n",
        "  warnings.warn(msg, RuntimeWarning)\n",
        "/Library/Python/2.7/site-packages/scipy-0.13.0.dev_c31f167_20130514-py2.7-macosx-10.8-intel.egg/scipy/optimize/zeros.py:149: RuntimeWarning: Tolerance of -4.52491254298e+15 reached\n",
        "  warnings.warn(msg, RuntimeWarning)\n"
       ]
      },
      {
       "output_type": "stream",
       "stream": "stderr",
       "text": [
        "/Library/Python/2.7/site-packages/scipy-0.13.0.dev_c31f167_20130514-py2.7-macosx-10.8-intel.egg/scipy/optimize/zeros.py:149: RuntimeWarning: Tolerance of 3.67521435393e+16 reached\n",
        "  warnings.warn(msg, RuntimeWarning)\n",
        "/Library/Python/2.7/site-packages/scipy-0.13.0.dev_c31f167_20130514-py2.7-macosx-10.8-intel.egg/scipy/optimize/zeros.py:149: RuntimeWarning: Tolerance of -6.66400269427e+16 reached\n",
        "  warnings.warn(msg, RuntimeWarning)\n"
       ]
      },
      {
       "output_type": "stream",
       "stream": "stderr",
       "text": [
        "/Library/Python/2.7/site-packages/scipy-0.13.0.dev_c31f167_20130514-py2.7-macosx-10.8-intel.egg/scipy/optimize/zeros.py:149: RuntimeWarning: Tolerance of -7.05308544067e+15 reached\n",
        "  warnings.warn(msg, RuntimeWarning)\n",
        "/phd/Dropbox/code/python/sarpy/fmoosvi/analysis.py:579: RuntimeWarning: overflow encountered in exp\n",
        "  return (1-2*numpy.exp(-Td/T1) + numpy.exp(-(Tp+Td)/T1))*((1-numpy.exp(-tao/T1_eff))/(1-numpy.exp(-tao/T1))) -c*(numpy.exp(-tao/T1_eff)/(numpy.exp(-tao/T1)))*numpy.exp(-(Tp+Td)/T1) - b\n"
       ]
      },
      {
       "output_type": "stream",
       "stream": "stderr",
       "text": [
        "/Library/Python/2.7/site-packages/scipy-0.13.0.dev_c31f167_20130514-py2.7-macosx-10.8-intel.egg/scipy/optimize/zeros.py:149: RuntimeWarning: Tolerance of 1.59256160259e-07 reached\n",
        "  warnings.warn(msg, RuntimeWarning)\n",
        "/Library/Python/2.7/site-packages/scipy-0.13.0.dev_c31f167_20130514-py2.7-macosx-10.8-intel.egg/scipy/optimize/zeros.py:149: RuntimeWarning: Tolerance of -1.9162361364e+12 reached\n",
        "  warnings.warn(msg, RuntimeWarning)\n"
       ]
      },
      {
       "output_type": "stream",
       "stream": "stderr",
       "text": [
        "/Library/Python/2.7/site-packages/scipy-0.13.0.dev_c31f167_20130514-py2.7-macosx-10.8-intel.egg/scipy/optimize/zeros.py:149: RuntimeWarning: Tolerance of 3.02097894175e+18 reached\n",
        "  warnings.warn(msg, RuntimeWarning)\n",
        "/Library/Python/2.7/site-packages/scipy-0.13.0.dev_c31f167_20130514-py2.7-macosx-10.8-intel.egg/scipy/optimize/zeros.py:149: RuntimeWarning: Tolerance of 1.41178234807e+15 reached\n",
        "  warnings.warn(msg, RuntimeWarning)\n"
       ]
      },
      {
       "output_type": "stream",
       "stream": "stdout",
       "text": [
        "\n",
        "deleting item T1map_LL"
       ]
      },
      {
       "output_type": "stream",
       "stream": "stdout",
       "text": [
        "\n",
        "deleting item T1map_LL_fitdict"
       ]
      },
      {
       "output_type": "stream",
       "stream": "stderr",
       "text": [
        "/Library/Python/2.7/site-packages/scipy-0.13.0.dev_c31f167_20130514-py2.7-macosx-10.8-intel.egg/scipy/optimize/zeros.py:149: RuntimeWarning: Tolerance of -332806682316.0 reached\n",
        "  warnings.warn(msg, RuntimeWarning)\n",
        "WARNING:sarpy.io.BRUKERIO:NSLICES not equal to number of ACQ_obj_order\n"
       ]
      },
      {
       "output_type": "stream",
       "stream": "stderr",
       "text": [
        "/Library/Python/2.7/site-packages/scipy-0.13.0.dev_c31f167_20130514-py2.7-macosx-10.8-intel.egg/scipy/optimize/zeros.py:149: RuntimeWarning: Tolerance of -3.45763051758e+16 reached\n",
        "  warnings.warn(msg, RuntimeWarning)\n",
        "/Library/Python/2.7/site-packages/scipy-0.13.0.dev_c31f167_20130514-py2.7-macosx-10.8-intel.egg/scipy/optimize/zeros.py:149: RuntimeWarning: Tolerance of -1.11650097861e+14 reached\n",
        "  warnings.warn(msg, RuntimeWarning)\n"
       ]
      },
      {
       "output_type": "stream",
       "stream": "stderr",
       "text": [
        "/Library/Python/2.7/site-packages/scipy-0.13.0.dev_c31f167_20130514-py2.7-macosx-10.8-intel.egg/scipy/optimize/zeros.py:149: RuntimeWarning: Tolerance of 8.15405834387e+16 reached\n",
        "  warnings.warn(msg, RuntimeWarning)\n",
        "/Library/Python/2.7/site-packages/scipy-0.13.0.dev_c31f167_20130514-py2.7-macosx-10.8-intel.egg/scipy/optimize/zeros.py:149: RuntimeWarning: Tolerance of -5.87775327431e+16 reached\n",
        "  warnings.warn(msg, RuntimeWarning)\n"
       ]
      },
      {
       "output_type": "stream",
       "stream": "stderr",
       "text": [
        "/Library/Python/2.7/site-packages/scipy-0.13.0.dev_c31f167_20130514-py2.7-macosx-10.8-intel.egg/scipy/optimize/zeros.py:149: RuntimeWarning: Tolerance of 9.8822289004e+13 reached\n",
        "  warnings.warn(msg, RuntimeWarning)\n",
        "/Library/Python/2.7/site-packages/scipy-0.13.0.dev_c31f167_20130514-py2.7-macosx-10.8-intel.egg/scipy/optimize/zeros.py:149: RuntimeWarning: Tolerance of 1.02301963309e+15 reached\n",
        "  warnings.warn(msg, RuntimeWarning)\n"
       ]
      },
      {
       "output_type": "stream",
       "stream": "stderr",
       "text": [
        "/Library/Python/2.7/site-packages/scipy-0.13.0.dev_c31f167_20130514-py2.7-macosx-10.8-intel.egg/scipy/optimize/zeros.py:149: RuntimeWarning: Tolerance of -2.93313051809e+14 reached\n",
        "  warnings.warn(msg, RuntimeWarning)\n",
        "/Library/Python/2.7/site-packages/scipy-0.13.0.dev_c31f167_20130514-py2.7-macosx-10.8-intel.egg/scipy/optimize/zeros.py:149: RuntimeWarning: Tolerance of -1.35811531071e+16 reached\n",
        "  warnings.warn(msg, RuntimeWarning)\n"
       ]
      },
      {
       "output_type": "stream",
       "stream": "stderr",
       "text": [
        "/Library/Python/2.7/site-packages/scipy-0.13.0.dev_c31f167_20130514-py2.7-macosx-10.8-intel.egg/scipy/optimize/zeros.py:149: RuntimeWarning: Tolerance of 1.30385146396e+17 reached\n",
        "  warnings.warn(msg, RuntimeWarning)\n",
        "/Library/Python/2.7/site-packages/scipy-0.13.0.dev_c31f167_20130514-py2.7-macosx-10.8-intel.egg/scipy/optimize/zeros.py:149: RuntimeWarning: Tolerance of 3.44469041953e+12 reached\n",
        "  warnings.warn(msg, RuntimeWarning)\n"
       ]
      },
      {
       "output_type": "stream",
       "stream": "stderr",
       "text": [
        "/Library/Python/2.7/site-packages/scipy-0.13.0.dev_c31f167_20130514-py2.7-macosx-10.8-intel.egg/scipy/optimize/zeros.py:149: RuntimeWarning: Tolerance of 2.98498123983e+15 reached\n",
        "  warnings.warn(msg, RuntimeWarning)\n",
        "/Library/Python/2.7/site-packages/scipy-0.13.0.dev_c31f167_20130514-py2.7-macosx-10.8-intel.egg/scipy/optimize/zeros.py:149: RuntimeWarning: Tolerance of -1.4133398976e+16 reached\n",
        "  warnings.warn(msg, RuntimeWarning)\n"
       ]
      },
      {
       "output_type": "stream",
       "stream": "stderr",
       "text": [
        "/Library/Python/2.7/site-packages/scipy-0.13.0.dev_c31f167_20130514-py2.7-macosx-10.8-intel.egg/scipy/optimize/zeros.py:149: RuntimeWarning: Tolerance of -2.21956247223e+15 reached\n",
        "  warnings.warn(msg, RuntimeWarning)\n",
        "/Library/Python/2.7/site-packages/scipy-0.13.0.dev_c31f167_20130514-py2.7-macosx-10.8-intel.egg/scipy/optimize/zeros.py:149: RuntimeWarning: Tolerance of -3.21567385768e+15 reached\n",
        "  warnings.warn(msg, RuntimeWarning)\n"
       ]
      },
      {
       "output_type": "stream",
       "stream": "stderr",
       "text": [
        "/Library/Python/2.7/site-packages/scipy-0.13.0.dev_c31f167_20130514-py2.7-macosx-10.8-intel.egg/scipy/optimize/zeros.py:149: RuntimeWarning: Tolerance of -8.85585279098e+13 reached\n",
        "  warnings.warn(msg, RuntimeWarning)\n",
        "/Library/Python/2.7/site-packages/scipy-0.13.0.dev_c31f167_20130514-py2.7-macosx-10.8-intel.egg/scipy/optimize/zeros.py:149: RuntimeWarning: Tolerance of 2.42725297294e+15 reached\n",
        "  warnings.warn(msg, RuntimeWarning)\n"
       ]
      },
      {
       "output_type": "stream",
       "stream": "stderr",
       "text": [
        "/Library/Python/2.7/site-packages/scipy-0.13.0.dev_c31f167_20130514-py2.7-macosx-10.8-intel.egg/scipy/optimize/zeros.py:149: RuntimeWarning: Tolerance of -1.77207911419e+14 reached\n",
        "  warnings.warn(msg, RuntimeWarning)\n",
        "/Library/Python/2.7/site-packages/scipy-0.13.0.dev_c31f167_20130514-py2.7-macosx-10.8-intel.egg/scipy/optimize/zeros.py:149: RuntimeWarning: Tolerance of 9.24825347952e+15 reached\n",
        "  warnings.warn(msg, RuntimeWarning)\n"
       ]
      },
      {
       "output_type": "stream",
       "stream": "stderr",
       "text": [
        "/Library/Python/2.7/site-packages/scipy-0.13.0.dev_c31f167_20130514-py2.7-macosx-10.8-intel.egg/scipy/optimize/zeros.py:149: RuntimeWarning: Tolerance of -8.43821236214e+15 reached\n",
        "  warnings.warn(msg, RuntimeWarning)\n",
        "/Library/Python/2.7/site-packages/scipy-0.13.0.dev_c31f167_20130514-py2.7-macosx-10.8-intel.egg/scipy/optimize/zeros.py:149: RuntimeWarning: Tolerance of -2.48585980204e+14 reached\n",
        "  warnings.warn(msg, RuntimeWarning)\n"
       ]
      },
      {
       "output_type": "stream",
       "stream": "stderr",
       "text": [
        "/Library/Python/2.7/site-packages/scipy-0.13.0.dev_c31f167_20130514-py2.7-macosx-10.8-intel.egg/scipy/optimize/zeros.py:149: RuntimeWarning: Tolerance of -1.26885495131e+14 reached\n",
        "  warnings.warn(msg, RuntimeWarning)\n",
        "/Library/Python/2.7/site-packages/scipy-0.13.0.dev_c31f167_20130514-py2.7-macosx-10.8-intel.egg/scipy/optimize/zeros.py:149: RuntimeWarning: Tolerance of -1.56248934564e+15 reached\n",
        "  warnings.warn(msg, RuntimeWarning)\n"
       ]
      },
      {
       "output_type": "stream",
       "stream": "stderr",
       "text": [
        "/Library/Python/2.7/site-packages/scipy-0.13.0.dev_c31f167_20130514-py2.7-macosx-10.8-intel.egg/scipy/optimize/zeros.py:149: RuntimeWarning: Tolerance of 1.33162795459e+16 reached\n",
        "  warnings.warn(msg, RuntimeWarning)\n",
        "/Library/Python/2.7/site-packages/scipy-0.13.0.dev_c31f167_20130514-py2.7-macosx-10.8-intel.egg/scipy/optimize/zeros.py:149: RuntimeWarning: Tolerance of -3.22115450505e+16 reached\n",
        "  warnings.warn(msg, RuntimeWarning)\n"
       ]
      },
      {
       "output_type": "stream",
       "stream": "stderr",
       "text": [
        "/Library/Python/2.7/site-packages/scipy-0.13.0.dev_c31f167_20130514-py2.7-macosx-10.8-intel.egg/scipy/optimize/zeros.py:149: RuntimeWarning: Tolerance of 7.2912699107e+15 reached\n",
        "  warnings.warn(msg, RuntimeWarning)\n",
        "/Library/Python/2.7/site-packages/scipy-0.13.0.dev_c31f167_20130514-py2.7-macosx-10.8-intel.egg/scipy/optimize/zeros.py:149: RuntimeWarning: Tolerance of 2.84644080154e+16 reached\n",
        "  warnings.warn(msg, RuntimeWarning)\n"
       ]
      },
      {
       "output_type": "stream",
       "stream": "stderr",
       "text": [
        "/Library/Python/2.7/site-packages/scipy-0.13.0.dev_c31f167_20130514-py2.7-macosx-10.8-intel.egg/scipy/optimize/zeros.py:149: RuntimeWarning: Tolerance of 2.34933888699e+15 reached\n",
        "  warnings.warn(msg, RuntimeWarning)\n",
        "/Library/Python/2.7/site-packages/scipy-0.13.0.dev_c31f167_20130514-py2.7-macosx-10.8-intel.egg/scipy/optimize/zeros.py:149: RuntimeWarning: Tolerance of -8.49221565617e+15 reached\n",
        "  warnings.warn(msg, RuntimeWarning)\n"
       ]
      },
      {
       "output_type": "stream",
       "stream": "stderr",
       "text": [
        "/Library/Python/2.7/site-packages/scipy-0.13.0.dev_c31f167_20130514-py2.7-macosx-10.8-intel.egg/scipy/optimize/zeros.py:149: RuntimeWarning: Tolerance of 2.91655038337e+15 reached\n",
        "  warnings.warn(msg, RuntimeWarning)\n",
        "/Library/Python/2.7/site-packages/scipy-0.13.0.dev_c31f167_20130514-py2.7-macosx-10.8-intel.egg/scipy/optimize/zeros.py:149: RuntimeWarning: Tolerance of -1.24721907265e+12 reached\n",
        "  warnings.warn(msg, RuntimeWarning)\n"
       ]
      },
      {
       "output_type": "stream",
       "stream": "stderr",
       "text": [
        "/Library/Python/2.7/site-packages/scipy-0.13.0.dev_c31f167_20130514-py2.7-macosx-10.8-intel.egg/scipy/optimize/zeros.py:149: RuntimeWarning: Tolerance of -1.37444602129e+17 reached\n",
        "  warnings.warn(msg, RuntimeWarning)\n",
        "/Library/Python/2.7/site-packages/scipy-0.13.0.dev_c31f167_20130514-py2.7-macosx-10.8-intel.egg/scipy/optimize/zeros.py:149: RuntimeWarning: Tolerance of -1.26814057652e+16 reached\n",
        "  warnings.warn(msg, RuntimeWarning)\n"
       ]
      },
      {
       "output_type": "stream",
       "stream": "stderr",
       "text": [
        "/Library/Python/2.7/site-packages/scipy-0.13.0.dev_c31f167_20130514-py2.7-macosx-10.8-intel.egg/scipy/optimize/zeros.py:149: RuntimeWarning: Tolerance of -1.6502040541e+17 reached\n",
        "  warnings.warn(msg, RuntimeWarning)\n",
        "/Library/Python/2.7/site-packages/scipy-0.13.0.dev_c31f167_20130514-py2.7-macosx-10.8-intel.egg/scipy/optimize/zeros.py:149: RuntimeWarning: Tolerance of 3.35472392616e+16 reached\n",
        "  warnings.warn(msg, RuntimeWarning)\n"
       ]
      },
      {
       "output_type": "stream",
       "stream": "stderr",
       "text": [
        "/Library/Python/2.7/site-packages/scipy-0.13.0.dev_c31f167_20130514-py2.7-macosx-10.8-intel.egg/scipy/optimize/zeros.py:149: RuntimeWarning: Tolerance of 9.06836522136e+15 reached\n",
        "  warnings.warn(msg, RuntimeWarning)\n",
        "/Library/Python/2.7/site-packages/scipy-0.13.0.dev_c31f167_20130514-py2.7-macosx-10.8-intel.egg/scipy/optimize/zeros.py:149: RuntimeWarning: Tolerance of 1.7608828604e+14 reached\n",
        "  warnings.warn(msg, RuntimeWarning)\n"
       ]
      },
      {
       "output_type": "stream",
       "stream": "stderr",
       "text": [
        "/Library/Python/2.7/site-packages/scipy-0.13.0.dev_c31f167_20130514-py2.7-macosx-10.8-intel.egg/scipy/optimize/zeros.py:149: RuntimeWarning: Tolerance of 9.11649356564e+15 reached\n",
        "  warnings.warn(msg, RuntimeWarning)\n",
        "/Library/Python/2.7/site-packages/scipy-0.13.0.dev_c31f167_20130514-py2.7-macosx-10.8-intel.egg/scipy/optimize/zeros.py:149: RuntimeWarning: Tolerance of 2.21138051492e+16 reached\n",
        "  warnings.warn(msg, RuntimeWarning)\n"
       ]
      },
      {
       "output_type": "stream",
       "stream": "stderr",
       "text": [
        "/Library/Python/2.7/site-packages/scipy-0.13.0.dev_c31f167_20130514-py2.7-macosx-10.8-intel.egg/scipy/optimize/zeros.py:149: RuntimeWarning: Tolerance of 1.17504111981e+16 reached\n",
        "  warnings.warn(msg, RuntimeWarning)\n",
        "/Library/Python/2.7/site-packages/scipy-0.13.0.dev_c31f167_20130514-py2.7-macosx-10.8-intel.egg/scipy/optimize/zeros.py:149: RuntimeWarning: Tolerance of 1.43930021031e+15 reached\n",
        "  warnings.warn(msg, RuntimeWarning)\n"
       ]
      },
      {
       "output_type": "stream",
       "stream": "stderr",
       "text": [
        "/Library/Python/2.7/site-packages/scipy-0.13.0.dev_c31f167_20130514-py2.7-macosx-10.8-intel.egg/scipy/optimize/zeros.py:149: RuntimeWarning: Tolerance of -1.62048877197e+15 reached\n",
        "  warnings.warn(msg, RuntimeWarning)\n",
        "/Library/Python/2.7/site-packages/scipy-0.13.0.dev_c31f167_20130514-py2.7-macosx-10.8-intel.egg/scipy/optimize/zeros.py:149: RuntimeWarning: Tolerance of 1.30670877367e+16 reached\n",
        "  warnings.warn(msg, RuntimeWarning)\n"
       ]
      },
      {
       "output_type": "stream",
       "stream": "stderr",
       "text": [
        "/Library/Python/2.7/site-packages/scipy-0.13.0.dev_c31f167_20130514-py2.7-macosx-10.8-intel.egg/scipy/optimize/zeros.py:149: RuntimeWarning: Tolerance of 4.1016515591e+14 reached\n",
        "  warnings.warn(msg, RuntimeWarning)\n",
        "/Library/Python/2.7/site-packages/scipy-0.13.0.dev_c31f167_20130514-py2.7-macosx-10.8-intel.egg/scipy/optimize/zeros.py:149: RuntimeWarning: Tolerance of 2.46541832983e+15 reached\n",
        "  warnings.warn(msg, RuntimeWarning)\n"
       ]
      },
      {
       "output_type": "stream",
       "stream": "stderr",
       "text": [
        "/Library/Python/2.7/site-packages/scipy-0.13.0.dev_c31f167_20130514-py2.7-macosx-10.8-intel.egg/scipy/optimize/zeros.py:149: RuntimeWarning: Tolerance of -2.09415768609e+15 reached\n",
        "  warnings.warn(msg, RuntimeWarning)\n",
        "/Library/Python/2.7/site-packages/scipy-0.13.0.dev_c31f167_20130514-py2.7-macosx-10.8-intel.egg/scipy/optimize/zeros.py:149: RuntimeWarning: Tolerance of 1.61828642561e+15 reached\n",
        "  warnings.warn(msg, RuntimeWarning)\n"
       ]
      },
      {
       "output_type": "stream",
       "stream": "stderr",
       "text": [
        "/Library/Python/2.7/site-packages/scipy-0.13.0.dev_c31f167_20130514-py2.7-macosx-10.8-intel.egg/scipy/optimize/zeros.py:149: RuntimeWarning: Tolerance of 3.6700089629e+15 reached\n",
        "  warnings.warn(msg, RuntimeWarning)\n",
        "/Library/Python/2.7/site-packages/scipy-0.13.0.dev_c31f167_20130514-py2.7-macosx-10.8-intel.egg/scipy/optimize/zeros.py:149: RuntimeWarning: Tolerance of 2.61611074301e+16 reached\n",
        "  warnings.warn(msg, RuntimeWarning)\n"
       ]
      },
      {
       "output_type": "stream",
       "stream": "stderr",
       "text": [
        "/Library/Python/2.7/site-packages/scipy-0.13.0.dev_c31f167_20130514-py2.7-macosx-10.8-intel.egg/scipy/optimize/zeros.py:149: RuntimeWarning: Tolerance of -1.53178362754e+15 reached\n",
        "  warnings.warn(msg, RuntimeWarning)\n",
        "/Library/Python/2.7/site-packages/scipy-0.13.0.dev_c31f167_20130514-py2.7-macosx-10.8-intel.egg/scipy/optimize/zeros.py:149: RuntimeWarning: Tolerance of 4.96591999395e+15 reached\n",
        "  warnings.warn(msg, RuntimeWarning)\n"
       ]
      },
      {
       "output_type": "stream",
       "stream": "stderr",
       "text": [
        "/Library/Python/2.7/site-packages/scipy-0.13.0.dev_c31f167_20130514-py2.7-macosx-10.8-intel.egg/scipy/optimize/zeros.py:149: RuntimeWarning: Tolerance of 3.33461475535e+14 reached\n",
        "  warnings.warn(msg, RuntimeWarning)\n",
        "/Library/Python/2.7/site-packages/scipy-0.13.0.dev_c31f167_20130514-py2.7-macosx-10.8-intel.egg/scipy/optimize/zeros.py:149: RuntimeWarning: Tolerance of -2.11436020085e+15 reached\n",
        "  warnings.warn(msg, RuntimeWarning)\n"
       ]
      },
      {
       "output_type": "stream",
       "stream": "stderr",
       "text": [
        "/Library/Python/2.7/site-packages/scipy-0.13.0.dev_c31f167_20130514-py2.7-macosx-10.8-intel.egg/scipy/optimize/zeros.py:149: RuntimeWarning: Tolerance of -5.89584561085e+12 reached\n",
        "  warnings.warn(msg, RuntimeWarning)\n",
        "/Library/Python/2.7/site-packages/scipy-0.13.0.dev_c31f167_20130514-py2.7-macosx-10.8-intel.egg/scipy/optimize/zeros.py:149: RuntimeWarning: Tolerance of -7.16152219419e+14 reached\n",
        "  warnings.warn(msg, RuntimeWarning)\n"
       ]
      },
      {
       "output_type": "stream",
       "stream": "stderr",
       "text": [
        "/Library/Python/2.7/site-packages/scipy-0.13.0.dev_c31f167_20130514-py2.7-macosx-10.8-intel.egg/scipy/optimize/zeros.py:149: RuntimeWarning: Tolerance of -8.62008926078e+15 reached\n",
        "  warnings.warn(msg, RuntimeWarning)\n",
        "/Library/Python/2.7/site-packages/scipy-0.13.0.dev_c31f167_20130514-py2.7-macosx-10.8-intel.egg/scipy/optimize/zeros.py:149: RuntimeWarning: Tolerance of 5.30308070573e+15 reached\n",
        "  warnings.warn(msg, RuntimeWarning)\n"
       ]
      },
      {
       "output_type": "stream",
       "stream": "stderr",
       "text": [
        "/Library/Python/2.7/site-packages/scipy-0.13.0.dev_c31f167_20130514-py2.7-macosx-10.8-intel.egg/scipy/optimize/zeros.py:149: RuntimeWarning: Tolerance of 5.58300171838e+15 reached\n",
        "  warnings.warn(msg, RuntimeWarning)\n",
        "/Library/Python/2.7/site-packages/scipy-0.13.0.dev_c31f167_20130514-py2.7-macosx-10.8-intel.egg/scipy/optimize/zeros.py:149: RuntimeWarning: Tolerance of 6.57776829228e+15 reached\n",
        "  warnings.warn(msg, RuntimeWarning)\n"
       ]
      },
      {
       "output_type": "stream",
       "stream": "stderr",
       "text": [
        "/Library/Python/2.7/site-packages/scipy-0.13.0.dev_c31f167_20130514-py2.7-macosx-10.8-intel.egg/scipy/optimize/zeros.py:149: RuntimeWarning: Tolerance of -1.53285488079e+16 reached\n",
        "  warnings.warn(msg, RuntimeWarning)\n",
        "/Library/Python/2.7/site-packages/scipy-0.13.0.dev_c31f167_20130514-py2.7-macosx-10.8-intel.egg/scipy/optimize/zeros.py:149: RuntimeWarning: Tolerance of -7.93339509732e+15 reached\n",
        "  warnings.warn(msg, RuntimeWarning)\n"
       ]
      },
      {
       "output_type": "stream",
       "stream": "stderr",
       "text": [
        "/Library/Python/2.7/site-packages/scipy-0.13.0.dev_c31f167_20130514-py2.7-macosx-10.8-intel.egg/scipy/optimize/zeros.py:149: RuntimeWarning: Tolerance of -9.61675817086e+15 reached\n",
        "  warnings.warn(msg, RuntimeWarning)\n",
        "/Library/Python/2.7/site-packages/scipy-0.13.0.dev_c31f167_20130514-py2.7-macosx-10.8-intel.egg/scipy/optimize/zeros.py:149: RuntimeWarning: Tolerance of 3.43860789813e+17 reached\n",
        "  warnings.warn(msg, RuntimeWarning)\n"
       ]
      },
      {
       "output_type": "stream",
       "stream": "stderr",
       "text": [
        "/Library/Python/2.7/site-packages/scipy-0.13.0.dev_c31f167_20130514-py2.7-macosx-10.8-intel.egg/scipy/optimize/zeros.py:149: RuntimeWarning: Tolerance of 4.92526737816e+16 reached\n",
        "  warnings.warn(msg, RuntimeWarning)\n",
        "/Library/Python/2.7/site-packages/scipy-0.13.0.dev_c31f167_20130514-py2.7-macosx-10.8-intel.egg/scipy/optimize/zeros.py:149: RuntimeWarning: Tolerance of -1.13370627419e+15 reached\n",
        "  warnings.warn(msg, RuntimeWarning)\n"
       ]
      },
      {
       "output_type": "stream",
       "stream": "stderr",
       "text": [
        "/Library/Python/2.7/site-packages/scipy-0.13.0.dev_c31f167_20130514-py2.7-macosx-10.8-intel.egg/scipy/optimize/zeros.py:149: RuntimeWarning: Tolerance of -3.92060399113e+15 reached\n",
        "  warnings.warn(msg, RuntimeWarning)\n",
        "/Library/Python/2.7/site-packages/scipy-0.13.0.dev_c31f167_20130514-py2.7-macosx-10.8-intel.egg/scipy/optimize/zeros.py:149: RuntimeWarning: Tolerance of 1.98569030319e+15 reached\n",
        "  warnings.warn(msg, RuntimeWarning)\n"
       ]
      },
      {
       "output_type": "stream",
       "stream": "stderr",
       "text": [
        "/Library/Python/2.7/site-packages/scipy-0.13.0.dev_c31f167_20130514-py2.7-macosx-10.8-intel.egg/scipy/optimize/zeros.py:149: RuntimeWarning: Tolerance of 1.22564245402e+13 reached\n",
        "  warnings.warn(msg, RuntimeWarning)\n",
        "/Library/Python/2.7/site-packages/scipy-0.13.0.dev_c31f167_20130514-py2.7-macosx-10.8-intel.egg/scipy/optimize/zeros.py:149: RuntimeWarning: Tolerance of -4.24091241291e+18 reached\n",
        "  warnings.warn(msg, RuntimeWarning)\n"
       ]
      },
      {
       "output_type": "stream",
       "stream": "stderr",
       "text": [
        "/Library/Python/2.7/site-packages/scipy-0.13.0.dev_c31f167_20130514-py2.7-macosx-10.8-intel.egg/scipy/optimize/zeros.py:149: RuntimeWarning: Tolerance of -1.30335454025e+14 reached\n",
        "  warnings.warn(msg, RuntimeWarning)\n",
        "/Library/Python/2.7/site-packages/scipy-0.13.0.dev_c31f167_20130514-py2.7-macosx-10.8-intel.egg/scipy/optimize/zeros.py:149: RuntimeWarning: Tolerance of 2.2974316298e+13 reached\n",
        "  warnings.warn(msg, RuntimeWarning)\n"
       ]
      },
      {
       "output_type": "stream",
       "stream": "stderr",
       "text": [
        "/Library/Python/2.7/site-packages/scipy-0.13.0.dev_c31f167_20130514-py2.7-macosx-10.8-intel.egg/scipy/optimize/zeros.py:149: RuntimeWarning: Tolerance of 1.29304573034e+16 reached\n",
        "  warnings.warn(msg, RuntimeWarning)\n",
        "/Library/Python/2.7/site-packages/scipy-0.13.0.dev_c31f167_20130514-py2.7-macosx-10.8-intel.egg/scipy/optimize/zeros.py:149: RuntimeWarning: Tolerance of 1.40604439675e+17 reached\n",
        "  warnings.warn(msg, RuntimeWarning)\n"
       ]
      },
      {
       "output_type": "stream",
       "stream": "stderr",
       "text": [
        "/Library/Python/2.7/site-packages/scipy-0.13.0.dev_c31f167_20130514-py2.7-macosx-10.8-intel.egg/scipy/optimize/zeros.py:149: RuntimeWarning: Tolerance of 3.48247062098e+16 reached\n",
        "  warnings.warn(msg, RuntimeWarning)\n",
        "/Library/Python/2.7/site-packages/scipy-0.13.0.dev_c31f167_20130514-py2.7-macosx-10.8-intel.egg/scipy/optimize/zeros.py:149: RuntimeWarning: Tolerance of -1.62486176535e+16 reached\n",
        "  warnings.warn(msg, RuntimeWarning)\n"
       ]
      },
      {
       "output_type": "stream",
       "stream": "stderr",
       "text": [
        "/Library/Python/2.7/site-packages/scipy-0.13.0.dev_c31f167_20130514-py2.7-macosx-10.8-intel.egg/scipy/optimize/zeros.py:149: RuntimeWarning: Tolerance of 4.72061425573e+16 reached\n",
        "  warnings.warn(msg, RuntimeWarning)\n",
        "/Library/Python/2.7/site-packages/scipy-0.13.0.dev_c31f167_20130514-py2.7-macosx-10.8-intel.egg/scipy/optimize/zeros.py:149: RuntimeWarning: Tolerance of 3.05932921557e+15 reached\n",
        "  warnings.warn(msg, RuntimeWarning)\n"
       ]
      },
      {
       "output_type": "stream",
       "stream": "stderr",
       "text": [
        "/Library/Python/2.7/site-packages/scipy-0.13.0.dev_c31f167_20130514-py2.7-macosx-10.8-intel.egg/scipy/optimize/zeros.py:149: RuntimeWarning: Tolerance of -3.31139357463e+15 reached\n",
        "  warnings.warn(msg, RuntimeWarning)\n",
        "/Library/Python/2.7/site-packages/scipy-0.13.0.dev_c31f167_20130514-py2.7-macosx-10.8-intel.egg/scipy/optimize/zeros.py:149: RuntimeWarning: Tolerance of 1.64154168193e+16 reached\n",
        "  warnings.warn(msg, RuntimeWarning)\n"
       ]
      },
      {
       "output_type": "stream",
       "stream": "stderr",
       "text": [
        "/Library/Python/2.7/site-packages/scipy-0.13.0.dev_c31f167_20130514-py2.7-macosx-10.8-intel.egg/scipy/optimize/zeros.py:149: RuntimeWarning: Tolerance of -3.10690827842e+15 reached\n",
        "  warnings.warn(msg, RuntimeWarning)\n",
        "/Library/Python/2.7/site-packages/scipy-0.13.0.dev_c31f167_20130514-py2.7-macosx-10.8-intel.egg/scipy/optimize/zeros.py:149: RuntimeWarning: Tolerance of 3.80932102597e+16 reached\n",
        "  warnings.warn(msg, RuntimeWarning)\n"
       ]
      },
      {
       "output_type": "stream",
       "stream": "stderr",
       "text": [
        "/Library/Python/2.7/site-packages/scipy-0.13.0.dev_c31f167_20130514-py2.7-macosx-10.8-intel.egg/scipy/optimize/zeros.py:149: RuntimeWarning: Tolerance of 9.59262251854e-08 reached\n",
        "  warnings.warn(msg, RuntimeWarning)\n",
        "/Library/Python/2.7/site-packages/scipy-0.13.0.dev_c31f167_20130514-py2.7-macosx-10.8-intel.egg/scipy/optimize/zeros.py:149: RuntimeWarning: Tolerance of -5.83326788595e+15 reached\n",
        "  warnings.warn(msg, RuntimeWarning)\n"
       ]
      },
      {
       "output_type": "stream",
       "stream": "stderr",
       "text": [
        "/Library/Python/2.7/site-packages/scipy-0.13.0.dev_c31f167_20130514-py2.7-macosx-10.8-intel.egg/scipy/optimize/zeros.py:149: RuntimeWarning: Tolerance of -2.99019911389e+16 reached\n",
        "  warnings.warn(msg, RuntimeWarning)\n",
        "/Library/Python/2.7/site-packages/scipy-0.13.0.dev_c31f167_20130514-py2.7-macosx-10.8-intel.egg/scipy/optimize/zeros.py:149: RuntimeWarning: Tolerance of 6.63320208883e+15 reached\n",
        "  warnings.warn(msg, RuntimeWarning)\n"
       ]
      },
      {
       "output_type": "stream",
       "stream": "stderr",
       "text": [
        "/Library/Python/2.7/site-packages/scipy-0.13.0.dev_c31f167_20130514-py2.7-macosx-10.8-intel.egg/scipy/optimize/zeros.py:149: RuntimeWarning: Tolerance of -3.36012221495e+15 reached\n",
        "  warnings.warn(msg, RuntimeWarning)\n",
        "/Library/Python/2.7/site-packages/scipy-0.13.0.dev_c31f167_20130514-py2.7-macosx-10.8-intel.egg/scipy/optimize/zeros.py:149: RuntimeWarning: Tolerance of -4.36226824674e+14 reached\n",
        "  warnings.warn(msg, RuntimeWarning)\n"
       ]
      },
      {
       "output_type": "stream",
       "stream": "stderr",
       "text": [
        "/Library/Python/2.7/site-packages/scipy-0.13.0.dev_c31f167_20130514-py2.7-macosx-10.8-intel.egg/scipy/optimize/zeros.py:149: RuntimeWarning: Tolerance of -2.24949194439e+15 reached\n",
        "  warnings.warn(msg, RuntimeWarning)\n",
        "/Library/Python/2.7/site-packages/scipy-0.13.0.dev_c31f167_20130514-py2.7-macosx-10.8-intel.egg/scipy/optimize/zeros.py:149: RuntimeWarning: Tolerance of 6.49493014697e+15 reached\n",
        "  warnings.warn(msg, RuntimeWarning)\n"
       ]
      },
      {
       "output_type": "stream",
       "stream": "stderr",
       "text": [
        "/Library/Python/2.7/site-packages/scipy-0.13.0.dev_c31f167_20130514-py2.7-macosx-10.8-intel.egg/scipy/optimize/zeros.py:149: RuntimeWarning: Tolerance of -8.35733151612e+15 reached\n",
        "  warnings.warn(msg, RuntimeWarning)\n",
        "/Library/Python/2.7/site-packages/scipy-0.13.0.dev_c31f167_20130514-py2.7-macosx-10.8-intel.egg/scipy/optimize/zeros.py:149: RuntimeWarning: Tolerance of 2.44881329247e+14 reached\n",
        "  warnings.warn(msg, RuntimeWarning)\n"
       ]
      },
      {
       "output_type": "stream",
       "stream": "stderr",
       "text": [
        "/Library/Python/2.7/site-packages/scipy-0.13.0.dev_c31f167_20130514-py2.7-macosx-10.8-intel.egg/scipy/optimize/zeros.py:149: RuntimeWarning: Tolerance of -1.78525300332e+16 reached\n",
        "  warnings.warn(msg, RuntimeWarning)\n",
        "/Library/Python/2.7/site-packages/scipy-0.13.0.dev_c31f167_20130514-py2.7-macosx-10.8-intel.egg/scipy/optimize/zeros.py:149: RuntimeWarning: Tolerance of -4.59725299707e+16 reached\n",
        "  warnings.warn(msg, RuntimeWarning)\n"
       ]
      },
      {
       "output_type": "stream",
       "stream": "stderr",
       "text": [
        "/Library/Python/2.7/site-packages/scipy-0.13.0.dev_c31f167_20130514-py2.7-macosx-10.8-intel.egg/scipy/optimize/zeros.py:149: RuntimeWarning: Tolerance of -2.64130260175e+15 reached\n",
        "  warnings.warn(msg, RuntimeWarning)\n",
        "/Library/Python/2.7/site-packages/scipy-0.13.0.dev_c31f167_20130514-py2.7-macosx-10.8-intel.egg/scipy/optimize/zeros.py:149: RuntimeWarning: Tolerance of 4.72644460005e+14 reached\n",
        "  warnings.warn(msg, RuntimeWarning)\n"
       ]
      },
      {
       "output_type": "stream",
       "stream": "stderr",
       "text": [
        "/Library/Python/2.7/site-packages/scipy-0.13.0.dev_c31f167_20130514-py2.7-macosx-10.8-intel.egg/scipy/optimize/zeros.py:149: RuntimeWarning: Tolerance of -4.09727262085e+14 reached\n",
        "  warnings.warn(msg, RuntimeWarning)\n",
        "/Library/Python/2.7/site-packages/scipy-0.13.0.dev_c31f167_20130514-py2.7-macosx-10.8-intel.egg/scipy/optimize/zeros.py:149: RuntimeWarning: Tolerance of -1.68491989893e+15 reached\n",
        "  warnings.warn(msg, RuntimeWarning)\n"
       ]
      },
      {
       "output_type": "stream",
       "stream": "stderr",
       "text": [
        "/Library/Python/2.7/site-packages/scipy-0.13.0.dev_c31f167_20130514-py2.7-macosx-10.8-intel.egg/scipy/optimize/zeros.py:149: RuntimeWarning: Tolerance of 6.84732850291e+14 reached\n",
        "  warnings.warn(msg, RuntimeWarning)\n",
        "/Library/Python/2.7/site-packages/scipy-0.13.0.dev_c31f167_20130514-py2.7-macosx-10.8-intel.egg/scipy/optimize/zeros.py:149: RuntimeWarning: Tolerance of 9.04303722139e+14 reached\n",
        "  warnings.warn(msg, RuntimeWarning)\n"
       ]
      },
      {
       "output_type": "stream",
       "stream": "stderr",
       "text": [
        "/Library/Python/2.7/site-packages/scipy-0.13.0.dev_c31f167_20130514-py2.7-macosx-10.8-intel.egg/scipy/optimize/zeros.py:149: RuntimeWarning: Tolerance of 2.20324128082e+16 reached\n",
        "  warnings.warn(msg, RuntimeWarning)\n",
        "/Library/Python/2.7/site-packages/scipy-0.13.0.dev_c31f167_20130514-py2.7-macosx-10.8-intel.egg/scipy/optimize/zeros.py:149: RuntimeWarning: Tolerance of -2.30480404077e+16 reached\n",
        "  warnings.warn(msg, RuntimeWarning)\n"
       ]
      },
      {
       "output_type": "stream",
       "stream": "stderr",
       "text": [
        "/Library/Python/2.7/site-packages/scipy-0.13.0.dev_c31f167_20130514-py2.7-macosx-10.8-intel.egg/scipy/optimize/zeros.py:149: RuntimeWarning: Tolerance of 1.78271569334e+16 reached\n",
        "  warnings.warn(msg, RuntimeWarning)\n",
        "/Library/Python/2.7/site-packages/scipy-0.13.0.dev_c31f167_20130514-py2.7-macosx-10.8-intel.egg/scipy/optimize/zeros.py:149: RuntimeWarning: Tolerance of -9.40218719502e+15 reached\n",
        "  warnings.warn(msg, RuntimeWarning)\n"
       ]
      },
      {
       "output_type": "stream",
       "stream": "stderr",
       "text": [
        "/Library/Python/2.7/site-packages/scipy-0.13.0.dev_c31f167_20130514-py2.7-macosx-10.8-intel.egg/scipy/optimize/zeros.py:149: RuntimeWarning: Tolerance of -1.03485072128e+14 reached\n",
        "  warnings.warn(msg, RuntimeWarning)\n",
        "/Library/Python/2.7/site-packages/scipy-0.13.0.dev_c31f167_20130514-py2.7-macosx-10.8-intel.egg/scipy/optimize/zeros.py:149: RuntimeWarning: Tolerance of 2.06717033265e+15 reached\n",
        "  warnings.warn(msg, RuntimeWarning)\n"
       ]
      },
      {
       "output_type": "stream",
       "stream": "stdout",
       "text": [
        "\n",
        "deleting item T1map_LL"
       ]
      },
      {
       "output_type": "stream",
       "stream": "stdout",
       "text": [
        "\n",
        "deleting item T1map_LL_fitdict"
       ]
      },
      {
       "output_type": "stream",
       "stream": "stderr",
       "text": [
        "/Library/Python/2.7/site-packages/scipy-0.13.0.dev_c31f167_20130514-py2.7-macosx-10.8-intel.egg/scipy/optimize/zeros.py:149: RuntimeWarning: Tolerance of 8.30784194073e+16 reached\n",
        "  warnings.warn(msg, RuntimeWarning)\n",
        "WARNING:sarpy.io.BRUKERIO:NSLICES not equal to number of ACQ_obj_order\n"
       ]
      },
      {
       "output_type": "stream",
       "stream": "stderr",
       "text": [
        "/Library/Python/2.7/site-packages/scipy-0.13.0.dev_c31f167_20130514-py2.7-macosx-10.8-intel.egg/scipy/optimize/zeros.py:149: RuntimeWarning: Tolerance of 1.84182301344e+14 reached\n",
        "  warnings.warn(msg, RuntimeWarning)\n",
        "/Library/Python/2.7/site-packages/scipy-0.13.0.dev_c31f167_20130514-py2.7-macosx-10.8-intel.egg/scipy/optimize/zeros.py:149: RuntimeWarning: Tolerance of 1.8044870337e+16 reached\n",
        "  warnings.warn(msg, RuntimeWarning)\n"
       ]
      },
      {
       "output_type": "stream",
       "stream": "stderr",
       "text": [
        "/Library/Python/2.7/site-packages/scipy-0.13.0.dev_c31f167_20130514-py2.7-macosx-10.8-intel.egg/scipy/optimize/zeros.py:149: RuntimeWarning: Tolerance of -5.59214199402e+15 reached\n",
        "  warnings.warn(msg, RuntimeWarning)\n",
        "/Library/Python/2.7/site-packages/scipy-0.13.0.dev_c31f167_20130514-py2.7-macosx-10.8-intel.egg/scipy/optimize/zeros.py:149: RuntimeWarning: Tolerance of -1.42830737351e+16 reached\n",
        "  warnings.warn(msg, RuntimeWarning)\n"
       ]
      },
      {
       "output_type": "stream",
       "stream": "stderr",
       "text": [
        "/Library/Python/2.7/site-packages/scipy-0.13.0.dev_c31f167_20130514-py2.7-macosx-10.8-intel.egg/scipy/optimize/zeros.py:149: RuntimeWarning: Tolerance of 2.65958543825e+16 reached\n",
        "  warnings.warn(msg, RuntimeWarning)\n",
        "/Library/Python/2.7/site-packages/scipy-0.13.0.dev_c31f167_20130514-py2.7-macosx-10.8-intel.egg/scipy/optimize/zeros.py:149: RuntimeWarning: Tolerance of 5.32635283495e+15 reached\n",
        "  warnings.warn(msg, RuntimeWarning)\n"
       ]
      },
      {
       "output_type": "stream",
       "stream": "stderr",
       "text": [
        "/Library/Python/2.7/site-packages/scipy-0.13.0.dev_c31f167_20130514-py2.7-macosx-10.8-intel.egg/scipy/optimize/zeros.py:149: RuntimeWarning: Tolerance of -1.24709580314e+17 reached\n",
        "  warnings.warn(msg, RuntimeWarning)\n",
        "/Library/Python/2.7/site-packages/scipy-0.13.0.dev_c31f167_20130514-py2.7-macosx-10.8-intel.egg/scipy/optimize/zeros.py:149: RuntimeWarning: Tolerance of 5.96046447754e-07 reached\n",
        "  warnings.warn(msg, RuntimeWarning)\n"
       ]
      },
      {
       "output_type": "stream",
       "stream": "stderr",
       "text": [
        "/Library/Python/2.7/site-packages/scipy-0.13.0.dev_c31f167_20130514-py2.7-macosx-10.8-intel.egg/scipy/optimize/zeros.py:149: RuntimeWarning: Tolerance of 1.3895327045e+14 reached\n",
        "  warnings.warn(msg, RuntimeWarning)\n",
        "/Library/Python/2.7/site-packages/scipy-0.13.0.dev_c31f167_20130514-py2.7-macosx-10.8-intel.egg/scipy/optimize/zeros.py:149: RuntimeWarning: Tolerance of 2.90739560395e+14 reached\n",
        "  warnings.warn(msg, RuntimeWarning)\n"
       ]
      },
      {
       "output_type": "stream",
       "stream": "stderr",
       "text": [
        "/Library/Python/2.7/site-packages/scipy-0.13.0.dev_c31f167_20130514-py2.7-macosx-10.8-intel.egg/scipy/optimize/zeros.py:149: RuntimeWarning: Tolerance of 7.24364431348e+15 reached\n",
        "  warnings.warn(msg, RuntimeWarning)\n",
        "/Library/Python/2.7/site-packages/scipy-0.13.0.dev_c31f167_20130514-py2.7-macosx-10.8-intel.egg/scipy/optimize/zeros.py:149: RuntimeWarning: Tolerance of -1.08189921249e+16 reached\n",
        "  warnings.warn(msg, RuntimeWarning)\n"
       ]
      },
      {
       "output_type": "stream",
       "stream": "stderr",
       "text": [
        "/Library/Python/2.7/site-packages/scipy-0.13.0.dev_c31f167_20130514-py2.7-macosx-10.8-intel.egg/scipy/optimize/zeros.py:149: RuntimeWarning: Tolerance of 1.009665097e+16 reached\n",
        "  warnings.warn(msg, RuntimeWarning)\n",
        "/Library/Python/2.7/site-packages/scipy-0.13.0.dev_c31f167_20130514-py2.7-macosx-10.8-intel.egg/scipy/optimize/zeros.py:149: RuntimeWarning: Tolerance of 8.1770694736e+14 reached\n",
        "  warnings.warn(msg, RuntimeWarning)\n"
       ]
      },
      {
       "output_type": "stream",
       "stream": "stderr",
       "text": [
        "/Library/Python/2.7/site-packages/scipy-0.13.0.dev_c31f167_20130514-py2.7-macosx-10.8-intel.egg/scipy/optimize/zeros.py:149: RuntimeWarning: Tolerance of 2.19802465657e+16 reached\n",
        "  warnings.warn(msg, RuntimeWarning)\n",
        "/Library/Python/2.7/site-packages/scipy-0.13.0.dev_c31f167_20130514-py2.7-macosx-10.8-intel.egg/scipy/optimize/zeros.py:149: RuntimeWarning: Tolerance of -4.05012733383e+15 reached\n",
        "  warnings.warn(msg, RuntimeWarning)\n"
       ]
      },
      {
       "output_type": "stream",
       "stream": "stderr",
       "text": [
        "/Library/Python/2.7/site-packages/scipy-0.13.0.dev_c31f167_20130514-py2.7-macosx-10.8-intel.egg/scipy/optimize/zeros.py:149: RuntimeWarning: Tolerance of -3.06296450658e+15 reached\n",
        "  warnings.warn(msg, RuntimeWarning)\n",
        "/Library/Python/2.7/site-packages/scipy-0.13.0.dev_c31f167_20130514-py2.7-macosx-10.8-intel.egg/scipy/optimize/zeros.py:149: RuntimeWarning: Tolerance of 1.61171602169e+12 reached\n",
        "  warnings.warn(msg, RuntimeWarning)\n",
        "/Library/Python/2.7/site-packages/scipy-0.13.0.dev_c31f167_20130514-py2.7-macosx-10.8-intel.egg/scipy/optimize/zeros.py:149: RuntimeWarning: Tolerance of -9.95770220877e+16 reached\n",
        "  warnings.warn(msg, RuntimeWarning)\n"
       ]
      },
      {
       "output_type": "stream",
       "stream": "stderr",
       "text": [
        "/Library/Python/2.7/site-packages/scipy-0.13.0.dev_c31f167_20130514-py2.7-macosx-10.8-intel.egg/scipy/optimize/zeros.py:149: RuntimeWarning: Tolerance of 1.1528695771e+15 reached\n",
        "  warnings.warn(msg, RuntimeWarning)\n",
        "/Library/Python/2.7/site-packages/scipy-0.13.0.dev_c31f167_20130514-py2.7-macosx-10.8-intel.egg/scipy/optimize/zeros.py:149: RuntimeWarning: Tolerance of 7.72395780948e+12 reached\n",
        "  warnings.warn(msg, RuntimeWarning)\n"
       ]
      },
      {
       "output_type": "stream",
       "stream": "stderr",
       "text": [
        "/Library/Python/2.7/site-packages/scipy-0.13.0.dev_c31f167_20130514-py2.7-macosx-10.8-intel.egg/scipy/optimize/zeros.py:149: RuntimeWarning: Tolerance of -1.43520605576e+15 reached\n",
        "  warnings.warn(msg, RuntimeWarning)\n",
        "/Library/Python/2.7/site-packages/scipy-0.13.0.dev_c31f167_20130514-py2.7-macosx-10.8-intel.egg/scipy/optimize/zeros.py:149: RuntimeWarning: Tolerance of -2.31331494112e+17 reached\n",
        "  warnings.warn(msg, RuntimeWarning)\n"
       ]
      },
      {
       "output_type": "stream",
       "stream": "stderr",
       "text": [
        "/Library/Python/2.7/site-packages/scipy-0.13.0.dev_c31f167_20130514-py2.7-macosx-10.8-intel.egg/scipy/optimize/zeros.py:149: RuntimeWarning: Tolerance of 5.60554876798e+12 reached\n",
        "  warnings.warn(msg, RuntimeWarning)\n",
        "/Library/Python/2.7/site-packages/scipy-0.13.0.dev_c31f167_20130514-py2.7-macosx-10.8-intel.egg/scipy/optimize/zeros.py:149: RuntimeWarning: Tolerance of 1.97631454385e+14 reached\n",
        "  warnings.warn(msg, RuntimeWarning)\n"
       ]
      },
      {
       "output_type": "stream",
       "stream": "stderr",
       "text": [
        "/Library/Python/2.7/site-packages/scipy-0.13.0.dev_c31f167_20130514-py2.7-macosx-10.8-intel.egg/scipy/optimize/zeros.py:149: RuntimeWarning: Tolerance of 6.12219151722e+16 reached\n",
        "  warnings.warn(msg, RuntimeWarning)\n",
        "/Library/Python/2.7/site-packages/scipy-0.13.0.dev_c31f167_20130514-py2.7-macosx-10.8-intel.egg/scipy/optimize/zeros.py:149: RuntimeWarning: Tolerance of -5.87518260688e+14 reached\n",
        "  warnings.warn(msg, RuntimeWarning)\n"
       ]
      },
      {
       "output_type": "stream",
       "stream": "stderr",
       "text": [
        "/Library/Python/2.7/site-packages/scipy-0.13.0.dev_c31f167_20130514-py2.7-macosx-10.8-intel.egg/scipy/optimize/zeros.py:149: RuntimeWarning: Tolerance of -1.17444264778e+14 reached\n",
        "  warnings.warn(msg, RuntimeWarning)\n",
        "/Library/Python/2.7/site-packages/scipy-0.13.0.dev_c31f167_20130514-py2.7-macosx-10.8-intel.egg/scipy/optimize/zeros.py:149: RuntimeWarning: Tolerance of -2.99831056813e+14 reached\n",
        "  warnings.warn(msg, RuntimeWarning)\n"
       ]
      },
      {
       "output_type": "stream",
       "stream": "stderr",
       "text": [
        "/Library/Python/2.7/site-packages/scipy-0.13.0.dev_c31f167_20130514-py2.7-macosx-10.8-intel.egg/scipy/optimize/zeros.py:149: RuntimeWarning: Tolerance of 2.38788925482e+13 reached\n",
        "  warnings.warn(msg, RuntimeWarning)\n",
        "/Library/Python/2.7/site-packages/scipy-0.13.0.dev_c31f167_20130514-py2.7-macosx-10.8-intel.egg/scipy/optimize/zeros.py:149: RuntimeWarning: Tolerance of -6116427322.5 reached\n",
        "  warnings.warn(msg, RuntimeWarning)\n"
       ]
      },
      {
       "output_type": "stream",
       "stream": "stderr",
       "text": [
        "/Library/Python/2.7/site-packages/scipy-0.13.0.dev_c31f167_20130514-py2.7-macosx-10.8-intel.egg/scipy/optimize/zeros.py:149: RuntimeWarning: Tolerance of 2.85798708898e+14 reached\n",
        "  warnings.warn(msg, RuntimeWarning)\n",
        "/Library/Python/2.7/site-packages/scipy-0.13.0.dev_c31f167_20130514-py2.7-macosx-10.8-intel.egg/scipy/optimize/zeros.py:149: RuntimeWarning: Tolerance of 2.53804639256e+15 reached\n",
        "  warnings.warn(msg, RuntimeWarning)\n"
       ]
      },
      {
       "output_type": "stream",
       "stream": "stderr",
       "text": [
        "/Library/Python/2.7/site-packages/scipy-0.13.0.dev_c31f167_20130514-py2.7-macosx-10.8-intel.egg/scipy/optimize/zeros.py:149: RuntimeWarning: Tolerance of -9.32907064055e+14 reached\n",
        "  warnings.warn(msg, RuntimeWarning)\n",
        "/Library/Python/2.7/site-packages/scipy-0.13.0.dev_c31f167_20130514-py2.7-macosx-10.8-intel.egg/scipy/optimize/zeros.py:149: RuntimeWarning: Tolerance of -5.81238492463e+15 reached\n",
        "  warnings.warn(msg, RuntimeWarning)\n"
       ]
      },
      {
       "output_type": "stream",
       "stream": "stderr",
       "text": [
        "/Library/Python/2.7/site-packages/scipy-0.13.0.dev_c31f167_20130514-py2.7-macosx-10.8-intel.egg/scipy/optimize/zeros.py:149: RuntimeWarning: Tolerance of 4.28044216742e+14 reached\n",
        "  warnings.warn(msg, RuntimeWarning)\n",
        "/Library/Python/2.7/site-packages/scipy-0.13.0.dev_c31f167_20130514-py2.7-macosx-10.8-intel.egg/scipy/optimize/zeros.py:149: RuntimeWarning: Tolerance of -1.24106103456e+15 reached\n",
        "  warnings.warn(msg, RuntimeWarning)\n"
       ]
      },
      {
       "output_type": "stream",
       "stream": "stderr",
       "text": [
        "/Library/Python/2.7/site-packages/scipy-0.13.0.dev_c31f167_20130514-py2.7-macosx-10.8-intel.egg/scipy/optimize/zeros.py:149: RuntimeWarning: Tolerance of 1.2635627526e+14 reached\n",
        "  warnings.warn(msg, RuntimeWarning)\n",
        "/Library/Python/2.7/site-packages/scipy-0.13.0.dev_c31f167_20130514-py2.7-macosx-10.8-intel.egg/scipy/optimize/zeros.py:149: RuntimeWarning: Tolerance of 3.0281196394e+16 reached\n",
        "  warnings.warn(msg, RuntimeWarning)\n"
       ]
      },
      {
       "output_type": "stream",
       "stream": "stderr",
       "text": [
        "/Library/Python/2.7/site-packages/scipy-0.13.0.dev_c31f167_20130514-py2.7-macosx-10.8-intel.egg/scipy/optimize/zeros.py:149: RuntimeWarning: Tolerance of 2.3345038101e+14 reached\n",
        "  warnings.warn(msg, RuntimeWarning)\n",
        "/Library/Python/2.7/site-packages/scipy-0.13.0.dev_c31f167_20130514-py2.7-macosx-10.8-intel.egg/scipy/optimize/zeros.py:149: RuntimeWarning: Tolerance of 3.92984597638e+14 reached\n",
        "  warnings.warn(msg, RuntimeWarning)\n"
       ]
      },
      {
       "output_type": "stream",
       "stream": "stderr",
       "text": [
        "/Library/Python/2.7/site-packages/scipy-0.13.0.dev_c31f167_20130514-py2.7-macosx-10.8-intel.egg/scipy/optimize/zeros.py:149: RuntimeWarning: Tolerance of -2.84207430323e+15 reached\n",
        "  warnings.warn(msg, RuntimeWarning)\n",
        "/Library/Python/2.7/site-packages/scipy-0.13.0.dev_c31f167_20130514-py2.7-macosx-10.8-intel.egg/scipy/optimize/zeros.py:149: RuntimeWarning: Tolerance of 1.3069144403e+16 reached\n",
        "  warnings.warn(msg, RuntimeWarning)\n"
       ]
      },
      {
       "output_type": "stream",
       "stream": "stderr",
       "text": [
        "/Library/Python/2.7/site-packages/scipy-0.13.0.dev_c31f167_20130514-py2.7-macosx-10.8-intel.egg/scipy/optimize/zeros.py:149: RuntimeWarning: Tolerance of 4.00421787069e+16 reached\n",
        "  warnings.warn(msg, RuntimeWarning)\n",
        "/Library/Python/2.7/site-packages/scipy-0.13.0.dev_c31f167_20130514-py2.7-macosx-10.8-intel.egg/scipy/optimize/zeros.py:149: RuntimeWarning: Tolerance of 3.15954039083e+16 reached\n",
        "  warnings.warn(msg, RuntimeWarning)\n"
       ]
      },
      {
       "output_type": "stream",
       "stream": "stderr",
       "text": [
        "/Library/Python/2.7/site-packages/scipy-0.13.0.dev_c31f167_20130514-py2.7-macosx-10.8-intel.egg/scipy/optimize/zeros.py:149: RuntimeWarning: Tolerance of 9.12418654324e+12 reached\n",
        "  warnings.warn(msg, RuntimeWarning)\n",
        "/Library/Python/2.7/site-packages/scipy-0.13.0.dev_c31f167_20130514-py2.7-macosx-10.8-intel.egg/scipy/optimize/zeros.py:149: RuntimeWarning: Tolerance of -1.38955044361e+16 reached\n",
        "  warnings.warn(msg, RuntimeWarning)\n"
       ]
      },
      {
       "output_type": "stream",
       "stream": "stderr",
       "text": [
        "/Library/Python/2.7/site-packages/scipy-0.13.0.dev_c31f167_20130514-py2.7-macosx-10.8-intel.egg/scipy/optimize/zeros.py:149: RuntimeWarning: Tolerance of -1.59773861248e+16 reached\n",
        "  warnings.warn(msg, RuntimeWarning)\n",
        "/Library/Python/2.7/site-packages/scipy-0.13.0.dev_c31f167_20130514-py2.7-macosx-10.8-intel.egg/scipy/optimize/zeros.py:149: RuntimeWarning: Tolerance of 1.4677570754e+14 reached\n",
        "  warnings.warn(msg, RuntimeWarning)\n"
       ]
      },
      {
       "output_type": "stream",
       "stream": "stderr",
       "text": [
        "/Library/Python/2.7/site-packages/scipy-0.13.0.dev_c31f167_20130514-py2.7-macosx-10.8-intel.egg/scipy/optimize/zeros.py:149: RuntimeWarning: Tolerance of 2.1867238427e+12 reached\n",
        "  warnings.warn(msg, RuntimeWarning)\n",
        "/Library/Python/2.7/site-packages/scipy-0.13.0.dev_c31f167_20130514-py2.7-macosx-10.8-intel.egg/scipy/optimize/zeros.py:149: RuntimeWarning: Tolerance of -2.12948712583e+16 reached\n",
        "  warnings.warn(msg, RuntimeWarning)\n"
       ]
      },
      {
       "output_type": "stream",
       "stream": "stderr",
       "text": [
        "/Library/Python/2.7/site-packages/scipy-0.13.0.dev_c31f167_20130514-py2.7-macosx-10.8-intel.egg/scipy/optimize/zeros.py:149: RuntimeWarning: Tolerance of -2.56531317333e+15 reached\n",
        "  warnings.warn(msg, RuntimeWarning)\n",
        "/Library/Python/2.7/site-packages/scipy-0.13.0.dev_c31f167_20130514-py2.7-macosx-10.8-intel.egg/scipy/optimize/zeros.py:149: RuntimeWarning: Tolerance of 4.21455384917e+14 reached\n",
        "  warnings.warn(msg, RuntimeWarning)\n"
       ]
      },
      {
       "output_type": "stream",
       "stream": "stderr",
       "text": [
        "/Library/Python/2.7/site-packages/scipy-0.13.0.dev_c31f167_20130514-py2.7-macosx-10.8-intel.egg/scipy/optimize/zeros.py:149: RuntimeWarning: Tolerance of -1.39815398674e+17 reached\n",
        "  warnings.warn(msg, RuntimeWarning)\n",
        "/Library/Python/2.7/site-packages/scipy-0.13.0.dev_c31f167_20130514-py2.7-macosx-10.8-intel.egg/scipy/optimize/zeros.py:149: RuntimeWarning: Tolerance of -1.59128265665e+16 reached\n",
        "  warnings.warn(msg, RuntimeWarning)\n"
       ]
      },
      {
       "output_type": "stream",
       "stream": "stderr",
       "text": [
        "/Library/Python/2.7/site-packages/scipy-0.13.0.dev_c31f167_20130514-py2.7-macosx-10.8-intel.egg/scipy/optimize/zeros.py:149: RuntimeWarning: Tolerance of -1.29079069516e+12 reached\n",
        "  warnings.warn(msg, RuntimeWarning)\n",
        "/Library/Python/2.7/site-packages/scipy-0.13.0.dev_c31f167_20130514-py2.7-macosx-10.8-intel.egg/scipy/optimize/zeros.py:149: RuntimeWarning: Tolerance of -3.57627233679e+15 reached\n",
        "  warnings.warn(msg, RuntimeWarning)\n"
       ]
      },
      {
       "output_type": "stream",
       "stream": "stderr",
       "text": [
        "/Library/Python/2.7/site-packages/scipy-0.13.0.dev_c31f167_20130514-py2.7-macosx-10.8-intel.egg/scipy/optimize/zeros.py:149: RuntimeWarning: Tolerance of -2.58424092973e+13 reached\n",
        "  warnings.warn(msg, RuntimeWarning)\n",
        "/Library/Python/2.7/site-packages/scipy-0.13.0.dev_c31f167_20130514-py2.7-macosx-10.8-intel.egg/scipy/optimize/zeros.py:149: RuntimeWarning: Tolerance of 8.46066123187e+15 reached\n",
        "  warnings.warn(msg, RuntimeWarning)\n"
       ]
      },
      {
       "output_type": "stream",
       "stream": "stderr",
       "text": [
        "/Library/Python/2.7/site-packages/scipy-0.13.0.dev_c31f167_20130514-py2.7-macosx-10.8-intel.egg/scipy/optimize/zeros.py:149: RuntimeWarning: Tolerance of 2.84147405082e+14 reached\n",
        "  warnings.warn(msg, RuntimeWarning)\n",
        "/Library/Python/2.7/site-packages/scipy-0.13.0.dev_c31f167_20130514-py2.7-macosx-10.8-intel.egg/scipy/optimize/zeros.py:149: RuntimeWarning: Tolerance of -7.59390655632e+14 reached\n",
        "  warnings.warn(msg, RuntimeWarning)\n"
       ]
      },
      {
       "output_type": "stream",
       "stream": "stderr",
       "text": [
        "/Library/Python/2.7/site-packages/scipy-0.13.0.dev_c31f167_20130514-py2.7-macosx-10.8-intel.egg/scipy/optimize/zeros.py:149: RuntimeWarning: Tolerance of 4.30542142615e+15 reached\n",
        "  warnings.warn(msg, RuntimeWarning)\n",
        "/Library/Python/2.7/site-packages/scipy-0.13.0.dev_c31f167_20130514-py2.7-macosx-10.8-intel.egg/scipy/optimize/zeros.py:149: RuntimeWarning: Tolerance of -1.32923372529e+16 reached\n",
        "  warnings.warn(msg, RuntimeWarning)\n"
       ]
      },
      {
       "output_type": "stream",
       "stream": "stderr",
       "text": [
        "/Library/Python/2.7/site-packages/scipy-0.13.0.dev_c31f167_20130514-py2.7-macosx-10.8-intel.egg/scipy/optimize/zeros.py:149: RuntimeWarning: Tolerance of 1.56637467375e+15 reached\n",
        "  warnings.warn(msg, RuntimeWarning)\n",
        "/Library/Python/2.7/site-packages/scipy-0.13.0.dev_c31f167_20130514-py2.7-macosx-10.8-intel.egg/scipy/optimize/zeros.py:149: RuntimeWarning: Tolerance of 4.40308252023e+15 reached\n",
        "  warnings.warn(msg, RuntimeWarning)\n"
       ]
      },
      {
       "output_type": "stream",
       "stream": "stderr",
       "text": [
        "/Library/Python/2.7/site-packages/scipy-0.13.0.dev_c31f167_20130514-py2.7-macosx-10.8-intel.egg/scipy/optimize/zeros.py:149: RuntimeWarning: Tolerance of 8.97328189476e+16 reached\n",
        "  warnings.warn(msg, RuntimeWarning)\n",
        "/Library/Python/2.7/site-packages/scipy-0.13.0.dev_c31f167_20130514-py2.7-macosx-10.8-intel.egg/scipy/optimize/zeros.py:149: RuntimeWarning: Tolerance of 3.58217962233e+15 reached\n",
        "  warnings.warn(msg, RuntimeWarning)\n"
       ]
      },
      {
       "output_type": "stream",
       "stream": "stderr",
       "text": [
        "/Library/Python/2.7/site-packages/scipy-0.13.0.dev_c31f167_20130514-py2.7-macosx-10.8-intel.egg/scipy/optimize/zeros.py:149: RuntimeWarning: Tolerance of -4.16873594804e+15 reached\n",
        "  warnings.warn(msg, RuntimeWarning)\n",
        "/Library/Python/2.7/site-packages/scipy-0.13.0.dev_c31f167_20130514-py2.7-macosx-10.8-intel.egg/scipy/optimize/zeros.py:149: RuntimeWarning: Tolerance of 8.29178298205e+15 reached\n",
        "  warnings.warn(msg, RuntimeWarning)\n"
       ]
      },
      {
       "output_type": "stream",
       "stream": "stderr",
       "text": [
        "/Library/Python/2.7/site-packages/scipy-0.13.0.dev_c31f167_20130514-py2.7-macosx-10.8-intel.egg/scipy/optimize/zeros.py:149: RuntimeWarning: Tolerance of -1.33818634057e+14 reached\n",
        "  warnings.warn(msg, RuntimeWarning)\n",
        "/Library/Python/2.7/site-packages/scipy-0.13.0.dev_c31f167_20130514-py2.7-macosx-10.8-intel.egg/scipy/optimize/zeros.py:149: RuntimeWarning: Tolerance of 4.84791277989e+16 reached\n",
        "  warnings.warn(msg, RuntimeWarning)\n"
       ]
      },
      {
       "output_type": "stream",
       "stream": "stderr",
       "text": [
        "/Library/Python/2.7/site-packages/scipy-0.13.0.dev_c31f167_20130514-py2.7-macosx-10.8-intel.egg/scipy/optimize/zeros.py:149: RuntimeWarning: Tolerance of 3.73423116032e+13 reached\n",
        "  warnings.warn(msg, RuntimeWarning)\n",
        "/Library/Python/2.7/site-packages/scipy-0.13.0.dev_c31f167_20130514-py2.7-macosx-10.8-intel.egg/scipy/optimize/zeros.py:149: RuntimeWarning: Tolerance of -1.58741333801e+12 reached\n",
        "  warnings.warn(msg, RuntimeWarning)\n"
       ]
      },
      {
       "output_type": "stream",
       "stream": "stdout",
       "text": [
        "\n",
        "deleting item T1map_LL"
       ]
      },
      {
       "output_type": "stream",
       "stream": "stdout",
       "text": [
        "\n",
        "deleting item T1map_LL_fitdict"
       ]
      },
      {
       "output_type": "stream",
       "stream": "stderr",
       "text": [
        "/Library/Python/2.7/site-packages/scipy-0.13.0.dev_c31f167_20130514-py2.7-macosx-10.8-intel.egg/scipy/optimize/zeros.py:149: RuntimeWarning: Tolerance of -3.55751052548e+15 reached\n",
        "  warnings.warn(msg, RuntimeWarning)\n",
        "WARNING:sarpy.io.BRUKERIO:NSLICES not equal to number of ACQ_obj_order\n"
       ]
      },
      {
       "output_type": "stream",
       "stream": "stderr",
       "text": [
        "/Library/Python/2.7/site-packages/scipy-0.13.0.dev_c31f167_20130514-py2.7-macosx-10.8-intel.egg/scipy/optimize/zeros.py:149: RuntimeWarning: Tolerance of 2.33900882236e+14 reached\n",
        "  warnings.warn(msg, RuntimeWarning)\n",
        "/Library/Python/2.7/site-packages/scipy-0.13.0.dev_c31f167_20130514-py2.7-macosx-10.8-intel.egg/scipy/optimize/zeros.py:149: RuntimeWarning: Tolerance of 2.46753676736e+15 reached\n",
        "  warnings.warn(msg, RuntimeWarning)\n"
       ]
      },
      {
       "output_type": "stream",
       "stream": "stderr",
       "text": [
        "/Library/Python/2.7/site-packages/scipy-0.13.0.dev_c31f167_20130514-py2.7-macosx-10.8-intel.egg/scipy/optimize/zeros.py:149: RuntimeWarning: Tolerance of 7.82096991969e+14 reached\n",
        "  warnings.warn(msg, RuntimeWarning)\n",
        "/Library/Python/2.7/site-packages/scipy-0.13.0.dev_c31f167_20130514-py2.7-macosx-10.8-intel.egg/scipy/optimize/zeros.py:149: RuntimeWarning: Tolerance of 1.74823315423e+18 reached\n",
        "  warnings.warn(msg, RuntimeWarning)\n"
       ]
      },
      {
       "output_type": "stream",
       "stream": "stderr",
       "text": [
        "/Library/Python/2.7/site-packages/scipy-0.13.0.dev_c31f167_20130514-py2.7-macosx-10.8-intel.egg/scipy/optimize/zeros.py:149: RuntimeWarning: Tolerance of -1.20019600105e+14 reached\n",
        "  warnings.warn(msg, RuntimeWarning)\n",
        "/Library/Python/2.7/site-packages/scipy-0.13.0.dev_c31f167_20130514-py2.7-macosx-10.8-intel.egg/scipy/optimize/zeros.py:149: RuntimeWarning: Tolerance of -1.94835175247e+16 reached\n",
        "  warnings.warn(msg, RuntimeWarning)\n"
       ]
      },
      {
       "output_type": "stream",
       "stream": "stderr",
       "text": [
        "/Library/Python/2.7/site-packages/scipy-0.13.0.dev_c31f167_20130514-py2.7-macosx-10.8-intel.egg/scipy/optimize/zeros.py:149: RuntimeWarning: Tolerance of 2.68179543465e+13 reached\n",
        "  warnings.warn(msg, RuntimeWarning)\n",
        "/Library/Python/2.7/site-packages/scipy-0.13.0.dev_c31f167_20130514-py2.7-macosx-10.8-intel.egg/scipy/optimize/zeros.py:149: RuntimeWarning: Tolerance of 2.25936204607e+14 reached\n",
        "  warnings.warn(msg, RuntimeWarning)\n"
       ]
      },
      {
       "output_type": "stream",
       "stream": "stderr",
       "text": [
        "/Library/Python/2.7/site-packages/scipy-0.13.0.dev_c31f167_20130514-py2.7-macosx-10.8-intel.egg/scipy/optimize/zeros.py:149: RuntimeWarning: Tolerance of -8.0987288208e+15 reached\n",
        "  warnings.warn(msg, RuntimeWarning)\n",
        "/Library/Python/2.7/site-packages/scipy-0.13.0.dev_c31f167_20130514-py2.7-macosx-10.8-intel.egg/scipy/optimize/zeros.py:149: RuntimeWarning: Tolerance of 1.00642417261e+15 reached\n",
        "  warnings.warn(msg, RuntimeWarning)\n"
       ]
      },
      {
       "output_type": "stream",
       "stream": "stderr",
       "text": [
        "/Library/Python/2.7/site-packages/scipy-0.13.0.dev_c31f167_20130514-py2.7-macosx-10.8-intel.egg/scipy/optimize/zeros.py:149: RuntimeWarning: Tolerance of -1.67066405203e+16 reached\n",
        "  warnings.warn(msg, RuntimeWarning)\n",
        "/Library/Python/2.7/site-packages/scipy-0.13.0.dev_c31f167_20130514-py2.7-macosx-10.8-intel.egg/scipy/optimize/zeros.py:149: RuntimeWarning: Tolerance of 2.40954024463e+14 reached\n",
        "  warnings.warn(msg, RuntimeWarning)\n"
       ]
      },
      {
       "output_type": "stream",
       "stream": "stderr",
       "text": [
        "/Library/Python/2.7/site-packages/scipy-0.13.0.dev_c31f167_20130514-py2.7-macosx-10.8-intel.egg/scipy/optimize/zeros.py:149: RuntimeWarning: Tolerance of 2.55608038042e+17 reached\n",
        "  warnings.warn(msg, RuntimeWarning)\n",
        "/Library/Python/2.7/site-packages/scipy-0.13.0.dev_c31f167_20130514-py2.7-macosx-10.8-intel.egg/scipy/optimize/zeros.py:149: RuntimeWarning: Tolerance of 2.86303623956e+16 reached\n",
        "  warnings.warn(msg, RuntimeWarning)\n"
       ]
      },
      {
       "output_type": "stream",
       "stream": "stderr",
       "text": [
        "/Library/Python/2.7/site-packages/scipy-0.13.0.dev_c31f167_20130514-py2.7-macosx-10.8-intel.egg/scipy/optimize/zeros.py:149: RuntimeWarning: Tolerance of -2.13009088179e+15 reached\n",
        "  warnings.warn(msg, RuntimeWarning)\n",
        "/Library/Python/2.7/site-packages/scipy-0.13.0.dev_c31f167_20130514-py2.7-macosx-10.8-intel.egg/scipy/optimize/zeros.py:149: RuntimeWarning: Tolerance of 1.86219630686e+14 reached\n",
        "  warnings.warn(msg, RuntimeWarning)\n"
       ]
      },
      {
       "output_type": "stream",
       "stream": "stderr",
       "text": [
        "/Library/Python/2.7/site-packages/scipy-0.13.0.dev_c31f167_20130514-py2.7-macosx-10.8-intel.egg/scipy/optimize/zeros.py:149: RuntimeWarning: Tolerance of -2.23471857534e+15 reached\n",
        "  warnings.warn(msg, RuntimeWarning)\n",
        "/Library/Python/2.7/site-packages/scipy-0.13.0.dev_c31f167_20130514-py2.7-macosx-10.8-intel.egg/scipy/optimize/zeros.py:149: RuntimeWarning: Tolerance of 3.9184629819e+13 reached\n",
        "  warnings.warn(msg, RuntimeWarning)\n"
       ]
      },
      {
       "output_type": "stream",
       "stream": "stderr",
       "text": [
        "/Library/Python/2.7/site-packages/scipy-0.13.0.dev_c31f167_20130514-py2.7-macosx-10.8-intel.egg/scipy/optimize/zeros.py:149: RuntimeWarning: Tolerance of 2.06272952576e+16 reached\n",
        "  warnings.warn(msg, RuntimeWarning)\n",
        "/Library/Python/2.7/site-packages/scipy-0.13.0.dev_c31f167_20130514-py2.7-macosx-10.8-intel.egg/scipy/optimize/zeros.py:149: RuntimeWarning: Tolerance of -2.34134220304e+15 reached\n",
        "  warnings.warn(msg, RuntimeWarning)\n"
       ]
      },
      {
       "output_type": "stream",
       "stream": "stderr",
       "text": [
        "/Library/Python/2.7/site-packages/scipy-0.13.0.dev_c31f167_20130514-py2.7-macosx-10.8-intel.egg/scipy/optimize/zeros.py:149: RuntimeWarning: Tolerance of -1.18266705107e+12 reached\n",
        "  warnings.warn(msg, RuntimeWarning)\n",
        "/Library/Python/2.7/site-packages/scipy-0.13.0.dev_c31f167_20130514-py2.7-macosx-10.8-intel.egg/scipy/optimize/zeros.py:149: RuntimeWarning: Tolerance of 8.89699384589e+15 reached\n",
        "  warnings.warn(msg, RuntimeWarning)\n"
       ]
      },
      {
       "output_type": "stream",
       "stream": "stderr",
       "text": [
        "/Library/Python/2.7/site-packages/scipy-0.13.0.dev_c31f167_20130514-py2.7-macosx-10.8-intel.egg/scipy/optimize/zeros.py:149: RuntimeWarning: Tolerance of -1.12108483624e+17 reached\n",
        "  warnings.warn(msg, RuntimeWarning)\n",
        "/Library/Python/2.7/site-packages/scipy-0.13.0.dev_c31f167_20130514-py2.7-macosx-10.8-intel.egg/scipy/optimize/zeros.py:149: RuntimeWarning: Tolerance of 3.19828275314e+14 reached\n",
        "  warnings.warn(msg, RuntimeWarning)\n"
       ]
      },
      {
       "output_type": "stream",
       "stream": "stderr",
       "text": [
        "/Library/Python/2.7/site-packages/scipy-0.13.0.dev_c31f167_20130514-py2.7-macosx-10.8-intel.egg/scipy/optimize/zeros.py:149: RuntimeWarning: Tolerance of 8.67083806484e+14 reached\n",
        "  warnings.warn(msg, RuntimeWarning)\n",
        "/Library/Python/2.7/site-packages/scipy-0.13.0.dev_c31f167_20130514-py2.7-macosx-10.8-intel.egg/scipy/optimize/zeros.py:149: RuntimeWarning: Tolerance of 3.67904389265e+14 reached\n",
        "  warnings.warn(msg, RuntimeWarning)\n",
        "/Library/Python/2.7/site-packages/scipy-0.13.0.dev_c31f167_20130514-py2.7-macosx-10.8-intel.egg/scipy/optimize/zeros.py:149: RuntimeWarning: Tolerance of -6.79448230661e+16 reached\n",
        "  warnings.warn(msg, RuntimeWarning)\n"
       ]
      },
      {
       "output_type": "stream",
       "stream": "stderr",
       "text": [
        "/Library/Python/2.7/site-packages/scipy-0.13.0.dev_c31f167_20130514-py2.7-macosx-10.8-intel.egg/scipy/optimize/zeros.py:149: RuntimeWarning: Tolerance of 1.35318488885e+16 reached\n",
        "  warnings.warn(msg, RuntimeWarning)\n",
        "/Library/Python/2.7/site-packages/scipy-0.13.0.dev_c31f167_20130514-py2.7-macosx-10.8-intel.egg/scipy/optimize/zeros.py:149: RuntimeWarning: Tolerance of 3.34352870092e+15 reached\n",
        "  warnings.warn(msg, RuntimeWarning)\n"
       ]
      },
      {
       "output_type": "stream",
       "stream": "stderr",
       "text": [
        "/Library/Python/2.7/site-packages/scipy-0.13.0.dev_c31f167_20130514-py2.7-macosx-10.8-intel.egg/scipy/optimize/zeros.py:149: RuntimeWarning: Tolerance of 9.07158640158e+15 reached\n",
        "  warnings.warn(msg, RuntimeWarning)\n",
        "/Library/Python/2.7/site-packages/scipy-0.13.0.dev_c31f167_20130514-py2.7-macosx-10.8-intel.egg/scipy/optimize/zeros.py:149: RuntimeWarning: Tolerance of -1.21545963109e+16 reached\n",
        "  warnings.warn(msg, RuntimeWarning)\n"
       ]
      },
      {
       "output_type": "stream",
       "stream": "stderr",
       "text": [
        "/Library/Python/2.7/site-packages/scipy-0.13.0.dev_c31f167_20130514-py2.7-macosx-10.8-intel.egg/scipy/optimize/zeros.py:149: RuntimeWarning: Tolerance of -9.63113991645e+16 reached\n",
        "  warnings.warn(msg, RuntimeWarning)\n",
        "/Library/Python/2.7/site-packages/scipy-0.13.0.dev_c31f167_20130514-py2.7-macosx-10.8-intel.egg/scipy/optimize/zeros.py:149: RuntimeWarning: Tolerance of -5.85440770674e+13 reached\n",
        "  warnings.warn(msg, RuntimeWarning)\n"
       ]
      },
      {
       "output_type": "stream",
       "stream": "stderr",
       "text": [
        "/Library/Python/2.7/site-packages/scipy-0.13.0.dev_c31f167_20130514-py2.7-macosx-10.8-intel.egg/scipy/optimize/zeros.py:149: RuntimeWarning: Tolerance of -2.41106980736e+15 reached\n",
        "  warnings.warn(msg, RuntimeWarning)\n",
        "/Library/Python/2.7/site-packages/scipy-0.13.0.dev_c31f167_20130514-py2.7-macosx-10.8-intel.egg/scipy/optimize/zeros.py:149: RuntimeWarning: Tolerance of -1.2459632348e+17 reached\n",
        "  warnings.warn(msg, RuntimeWarning)\n"
       ]
      },
      {
       "output_type": "stream",
       "stream": "stderr",
       "text": [
        "/Library/Python/2.7/site-packages/scipy-0.13.0.dev_c31f167_20130514-py2.7-macosx-10.8-intel.egg/scipy/optimize/zeros.py:149: RuntimeWarning: Tolerance of -8.4539694896e+16 reached\n",
        "  warnings.warn(msg, RuntimeWarning)\n",
        "/Library/Python/2.7/site-packages/scipy-0.13.0.dev_c31f167_20130514-py2.7-macosx-10.8-intel.egg/scipy/optimize/zeros.py:149: RuntimeWarning: Tolerance of 4.00485666664e+16 reached\n",
        "  warnings.warn(msg, RuntimeWarning)\n"
       ]
      },
      {
       "output_type": "stream",
       "stream": "stderr",
       "text": [
        "/Library/Python/2.7/site-packages/scipy-0.13.0.dev_c31f167_20130514-py2.7-macosx-10.8-intel.egg/scipy/optimize/zeros.py:149: RuntimeWarning: Tolerance of 2.7014000905e+14 reached\n",
        "  warnings.warn(msg, RuntimeWarning)\n",
        "/Library/Python/2.7/site-packages/scipy-0.13.0.dev_c31f167_20130514-py2.7-macosx-10.8-intel.egg/scipy/optimize/zeros.py:149: RuntimeWarning: Tolerance of 2.48220489154e+15 reached\n",
        "  warnings.warn(msg, RuntimeWarning)\n"
       ]
      },
      {
       "output_type": "stream",
       "stream": "stderr",
       "text": [
        "/Library/Python/2.7/site-packages/scipy-0.13.0.dev_c31f167_20130514-py2.7-macosx-10.8-intel.egg/scipy/optimize/zeros.py:149: RuntimeWarning: Tolerance of -9.91157309473e+15 reached\n",
        "  warnings.warn(msg, RuntimeWarning)\n",
        "/Library/Python/2.7/site-packages/scipy-0.13.0.dev_c31f167_20130514-py2.7-macosx-10.8-intel.egg/scipy/optimize/zeros.py:149: RuntimeWarning: Tolerance of -8.65186876261e+15 reached\n",
        "  warnings.warn(msg, RuntimeWarning)\n"
       ]
      },
      {
       "output_type": "stream",
       "stream": "stderr",
       "text": [
        "/Library/Python/2.7/site-packages/scipy-0.13.0.dev_c31f167_20130514-py2.7-macosx-10.8-intel.egg/scipy/optimize/zeros.py:149: RuntimeWarning: Tolerance of -5.95813216729e+15 reached\n",
        "  warnings.warn(msg, RuntimeWarning)\n",
        "/Library/Python/2.7/site-packages/scipy-0.13.0.dev_c31f167_20130514-py2.7-macosx-10.8-intel.egg/scipy/optimize/zeros.py:149: RuntimeWarning: Tolerance of -2.00982405262e+16 reached\n",
        "  warnings.warn(msg, RuntimeWarning)\n"
       ]
      },
      {
       "output_type": "stream",
       "stream": "stderr",
       "text": [
        "/Library/Python/2.7/site-packages/scipy-0.13.0.dev_c31f167_20130514-py2.7-macosx-10.8-intel.egg/scipy/optimize/zeros.py:149: RuntimeWarning: Tolerance of 1.46566152204e+13 reached\n",
        "  warnings.warn(msg, RuntimeWarning)\n",
        "/Library/Python/2.7/site-packages/scipy-0.13.0.dev_c31f167_20130514-py2.7-macosx-10.8-intel.egg/scipy/optimize/zeros.py:149: RuntimeWarning: Tolerance of 7.88176263429e+14 reached\n",
        "  warnings.warn(msg, RuntimeWarning)\n"
       ]
      },
      {
       "output_type": "stream",
       "stream": "stderr",
       "text": [
        "/Library/Python/2.7/site-packages/scipy-0.13.0.dev_c31f167_20130514-py2.7-macosx-10.8-intel.egg/scipy/optimize/zeros.py:149: RuntimeWarning: Tolerance of 7.98756519091e+15 reached\n",
        "  warnings.warn(msg, RuntimeWarning)\n",
        "/Library/Python/2.7/site-packages/scipy-0.13.0.dev_c31f167_20130514-py2.7-macosx-10.8-intel.egg/scipy/optimize/zeros.py:149: RuntimeWarning: Tolerance of -1.91999254217e+16 reached\n",
        "  warnings.warn(msg, RuntimeWarning)\n"
       ]
      },
      {
       "output_type": "stream",
       "stream": "stderr",
       "text": [
        "/Library/Python/2.7/site-packages/scipy-0.13.0.dev_c31f167_20130514-py2.7-macosx-10.8-intel.egg/scipy/optimize/zeros.py:149: RuntimeWarning: Tolerance of -1.17394969026e+16 reached\n",
        "  warnings.warn(msg, RuntimeWarning)\n",
        "/Library/Python/2.7/site-packages/scipy-0.13.0.dev_c31f167_20130514-py2.7-macosx-10.8-intel.egg/scipy/optimize/zeros.py:149: RuntimeWarning: Tolerance of 1.860244614e+15 reached\n",
        "  warnings.warn(msg, RuntimeWarning)\n"
       ]
      },
      {
       "output_type": "stream",
       "stream": "stderr",
       "text": [
        "/Library/Python/2.7/site-packages/scipy-0.13.0.dev_c31f167_20130514-py2.7-macosx-10.8-intel.egg/scipy/optimize/zeros.py:149: RuntimeWarning: Tolerance of -3.62703619411e+15 reached\n",
        "  warnings.warn(msg, RuntimeWarning)\n",
        "/Library/Python/2.7/site-packages/scipy-0.13.0.dev_c31f167_20130514-py2.7-macosx-10.8-intel.egg/scipy/optimize/zeros.py:149: RuntimeWarning: Tolerance of 3.16553296371e+15 reached\n",
        "  warnings.warn(msg, RuntimeWarning)\n"
       ]
      },
      {
       "output_type": "stream",
       "stream": "stderr",
       "text": [
        "/Library/Python/2.7/site-packages/scipy-0.13.0.dev_c31f167_20130514-py2.7-macosx-10.8-intel.egg/scipy/optimize/zeros.py:149: RuntimeWarning: Tolerance of -1.55358618508e+16 reached\n",
        "  warnings.warn(msg, RuntimeWarning)\n",
        "/Library/Python/2.7/site-packages/scipy-0.13.0.dev_c31f167_20130514-py2.7-macosx-10.8-intel.egg/scipy/optimize/zeros.py:149: RuntimeWarning: Tolerance of -834331923552.0 reached\n",
        "  warnings.warn(msg, RuntimeWarning)\n"
       ]
      },
      {
       "output_type": "stream",
       "stream": "stdout",
       "text": [
        "\n",
        "deleting item T1map_LL"
       ]
      },
      {
       "output_type": "stream",
       "stream": "stdout",
       "text": [
        "\n",
        "deleting item T1map_LL_fitdict"
       ]
      },
      {
       "output_type": "stream",
       "stream": "stderr",
       "text": [
        "/Library/Python/2.7/site-packages/scipy-0.13.0.dev_c31f167_20130514-py2.7-macosx-10.8-intel.egg/scipy/optimize/zeros.py:149: RuntimeWarning: Tolerance of -1.26828061287e+15 reached\n",
        "  warnings.warn(msg, RuntimeWarning)\n",
        "WARNING:sarpy.io.BRUKERIO:NSLICES not equal to number of ACQ_obj_order\n"
       ]
      },
      {
       "output_type": "stream",
       "stream": "stderr",
       "text": [
        "/Library/Python/2.7/site-packages/scipy-0.13.0.dev_c31f167_20130514-py2.7-macosx-10.8-intel.egg/scipy/optimize/zeros.py:149: RuntimeWarning: Tolerance of 1.87056522928e+18 reached\n",
        "  warnings.warn(msg, RuntimeWarning)\n",
        "/Library/Python/2.7/site-packages/scipy-0.13.0.dev_c31f167_20130514-py2.7-macosx-10.8-intel.egg/scipy/optimize/zeros.py:149: RuntimeWarning: Tolerance of -1.15972436168e+15 reached\n",
        "  warnings.warn(msg, RuntimeWarning)\n"
       ]
      },
      {
       "output_type": "stream",
       "stream": "stderr",
       "text": [
        "/Library/Python/2.7/site-packages/scipy-0.13.0.dev_c31f167_20130514-py2.7-macosx-10.8-intel.egg/scipy/optimize/zeros.py:149: RuntimeWarning: Tolerance of 8.6140460492e+15 reached\n",
        "  warnings.warn(msg, RuntimeWarning)\n",
        "/Library/Python/2.7/site-packages/scipy-0.13.0.dev_c31f167_20130514-py2.7-macosx-10.8-intel.egg/scipy/optimize/zeros.py:149: RuntimeWarning: Tolerance of 1.42222072152e+16 reached\n",
        "  warnings.warn(msg, RuntimeWarning)\n"
       ]
      },
      {
       "output_type": "stream",
       "stream": "stderr",
       "text": [
        "/Library/Python/2.7/site-packages/scipy-0.13.0.dev_c31f167_20130514-py2.7-macosx-10.8-intel.egg/scipy/optimize/zeros.py:149: RuntimeWarning: Tolerance of -5.58754713829e+16 reached\n",
        "  warnings.warn(msg, RuntimeWarning)\n",
        "/Library/Python/2.7/site-packages/scipy-0.13.0.dev_c31f167_20130514-py2.7-macosx-10.8-intel.egg/scipy/optimize/zeros.py:149: RuntimeWarning: Tolerance of 5.25938913909e+16 reached\n",
        "  warnings.warn(msg, RuntimeWarning)\n"
       ]
      },
      {
       "output_type": "stream",
       "stream": "stderr",
       "text": [
        "/Library/Python/2.7/site-packages/scipy-0.13.0.dev_c31f167_20130514-py2.7-macosx-10.8-intel.egg/scipy/optimize/zeros.py:149: RuntimeWarning: Tolerance of 87018646144.0 reached\n",
        "  warnings.warn(msg, RuntimeWarning)\n",
        "/Library/Python/2.7/site-packages/scipy-0.13.0.dev_c31f167_20130514-py2.7-macosx-10.8-intel.egg/scipy/optimize/zeros.py:149: RuntimeWarning: Tolerance of 4.38900745934e+12 reached\n",
        "  warnings.warn(msg, RuntimeWarning)\n"
       ]
      },
      {
       "output_type": "stream",
       "stream": "stderr",
       "text": [
        "/Library/Python/2.7/site-packages/scipy-0.13.0.dev_c31f167_20130514-py2.7-macosx-10.8-intel.egg/scipy/optimize/zeros.py:149: RuntimeWarning: Tolerance of 4.26702086864e+14 reached\n",
        "  warnings.warn(msg, RuntimeWarning)\n",
        "/Library/Python/2.7/site-packages/scipy-0.13.0.dev_c31f167_20130514-py2.7-macosx-10.8-intel.egg/scipy/optimize/zeros.py:149: RuntimeWarning: Tolerance of -2.5304734953e+14 reached\n",
        "  warnings.warn(msg, RuntimeWarning)\n"
       ]
      },
      {
       "output_type": "stream",
       "stream": "stderr",
       "text": [
        "/Library/Python/2.7/site-packages/scipy-0.13.0.dev_c31f167_20130514-py2.7-macosx-10.8-intel.egg/scipy/optimize/zeros.py:149: RuntimeWarning: Tolerance of -2.07895212288e+16 reached\n",
        "  warnings.warn(msg, RuntimeWarning)\n",
        "/Library/Python/2.7/site-packages/scipy-0.13.0.dev_c31f167_20130514-py2.7-macosx-10.8-intel.egg/scipy/optimize/zeros.py:149: RuntimeWarning: Tolerance of -2.55963399183e+16 reached\n",
        "  warnings.warn(msg, RuntimeWarning)\n"
       ]
      },
      {
       "output_type": "stream",
       "stream": "stderr",
       "text": [
        "/Library/Python/2.7/site-packages/scipy-0.13.0.dev_c31f167_20130514-py2.7-macosx-10.8-intel.egg/scipy/optimize/zeros.py:149: RuntimeWarning: Tolerance of 1.04959564835e+16 reached\n",
        "  warnings.warn(msg, RuntimeWarning)\n",
        "/Library/Python/2.7/site-packages/scipy-0.13.0.dev_c31f167_20130514-py2.7-macosx-10.8-intel.egg/scipy/optimize/zeros.py:149: RuntimeWarning: Tolerance of -1.86230953406e+12 reached\n",
        "  warnings.warn(msg, RuntimeWarning)\n",
        "/Library/Python/2.7/site-packages/scipy-0.13.0.dev_c31f167_20130514-py2.7-macosx-10.8-intel.egg/scipy/optimize/zeros.py:149: RuntimeWarning: Tolerance of -2.38361599553e+15 reached\n",
        "  warnings.warn(msg, RuntimeWarning)\n"
       ]
      },
      {
       "output_type": "stream",
       "stream": "stderr",
       "text": [
        "/Library/Python/2.7/site-packages/scipy-0.13.0.dev_c31f167_20130514-py2.7-macosx-10.8-intel.egg/scipy/optimize/zeros.py:149: RuntimeWarning: Tolerance of 4.51200399765e+16 reached\n",
        "  warnings.warn(msg, RuntimeWarning)\n",
        "/Library/Python/2.7/site-packages/scipy-0.13.0.dev_c31f167_20130514-py2.7-macosx-10.8-intel.egg/scipy/optimize/zeros.py:149: RuntimeWarning: Tolerance of 4.0212937767e+13 reached\n",
        "  warnings.warn(msg, RuntimeWarning)\n"
       ]
      },
      {
       "output_type": "stream",
       "stream": "stderr",
       "text": [
        "/Library/Python/2.7/site-packages/scipy-0.13.0.dev_c31f167_20130514-py2.7-macosx-10.8-intel.egg/scipy/optimize/zeros.py:149: RuntimeWarning: Tolerance of -3.5570621636e+15 reached\n",
        "  warnings.warn(msg, RuntimeWarning)\n",
        "/Library/Python/2.7/site-packages/scipy-0.13.0.dev_c31f167_20130514-py2.7-macosx-10.8-intel.egg/scipy/optimize/zeros.py:149: RuntimeWarning: Tolerance of -1.51199568131e+13 reached\n",
        "  warnings.warn(msg, RuntimeWarning)\n"
       ]
      },
      {
       "output_type": "stream",
       "stream": "stderr",
       "text": [
        "/Library/Python/2.7/site-packages/scipy-0.13.0.dev_c31f167_20130514-py2.7-macosx-10.8-intel.egg/scipy/optimize/zeros.py:149: RuntimeWarning: Tolerance of -3.78611158614e+15 reached\n",
        "  warnings.warn(msg, RuntimeWarning)\n",
        "/Library/Python/2.7/site-packages/scipy-0.13.0.dev_c31f167_20130514-py2.7-macosx-10.8-intel.egg/scipy/optimize/zeros.py:149: RuntimeWarning: Tolerance of -4.47095157021e+15 reached\n",
        "  warnings.warn(msg, RuntimeWarning)\n"
       ]
      },
      {
       "output_type": "stream",
       "stream": "stderr",
       "text": [
        "/Library/Python/2.7/site-packages/scipy-0.13.0.dev_c31f167_20130514-py2.7-macosx-10.8-intel.egg/scipy/optimize/zeros.py:149: RuntimeWarning: Tolerance of -1.72117310529e+16 reached\n",
        "  warnings.warn(msg, RuntimeWarning)\n",
        "/Library/Python/2.7/site-packages/scipy-0.13.0.dev_c31f167_20130514-py2.7-macosx-10.8-intel.egg/scipy/optimize/zeros.py:149: RuntimeWarning: Tolerance of -1.20790146851e+16 reached\n",
        "  warnings.warn(msg, RuntimeWarning)\n"
       ]
      },
      {
       "output_type": "stream",
       "stream": "stderr",
       "text": [
        "/Library/Python/2.7/site-packages/scipy-0.13.0.dev_c31f167_20130514-py2.7-macosx-10.8-intel.egg/scipy/optimize/zeros.py:149: RuntimeWarning: Tolerance of -2.29635914061e+15 reached\n",
        "  warnings.warn(msg, RuntimeWarning)\n",
        "/Library/Python/2.7/site-packages/scipy-0.13.0.dev_c31f167_20130514-py2.7-macosx-10.8-intel.egg/scipy/optimize/zeros.py:149: RuntimeWarning: Tolerance of -1.16245122737e+15 reached\n",
        "  warnings.warn(msg, RuntimeWarning)\n"
       ]
      },
      {
       "output_type": "stream",
       "stream": "stderr",
       "text": [
        "/Library/Python/2.7/site-packages/scipy-0.13.0.dev_c31f167_20130514-py2.7-macosx-10.8-intel.egg/scipy/optimize/zeros.py:149: RuntimeWarning: Tolerance of -4.06049542738e+16 reached\n",
        "  warnings.warn(msg, RuntimeWarning)\n",
        "/Library/Python/2.7/site-packages/scipy-0.13.0.dev_c31f167_20130514-py2.7-macosx-10.8-intel.egg/scipy/optimize/zeros.py:149: RuntimeWarning: Tolerance of 2.82212095889e+16 reached\n",
        "  warnings.warn(msg, RuntimeWarning)\n"
       ]
      },
      {
       "output_type": "stream",
       "stream": "stderr",
       "text": [
        "/Library/Python/2.7/site-packages/scipy-0.13.0.dev_c31f167_20130514-py2.7-macosx-10.8-intel.egg/scipy/optimize/zeros.py:149: RuntimeWarning: Tolerance of 9.12646041787e+16 reached\n",
        "  warnings.warn(msg, RuntimeWarning)\n",
        "/Library/Python/2.7/site-packages/scipy-0.13.0.dev_c31f167_20130514-py2.7-macosx-10.8-intel.egg/scipy/optimize/zeros.py:149: RuntimeWarning: Tolerance of -1.13743060446e+16 reached\n",
        "  warnings.warn(msg, RuntimeWarning)\n"
       ]
      },
      {
       "output_type": "stream",
       "stream": "stderr",
       "text": [
        "/Library/Python/2.7/site-packages/scipy-0.13.0.dev_c31f167_20130514-py2.7-macosx-10.8-intel.egg/scipy/optimize/zeros.py:149: RuntimeWarning: Tolerance of -3.2680465117e+15 reached\n",
        "  warnings.warn(msg, RuntimeWarning)\n",
        "/Library/Python/2.7/site-packages/scipy-0.13.0.dev_c31f167_20130514-py2.7-macosx-10.8-intel.egg/scipy/optimize/zeros.py:149: RuntimeWarning: Tolerance of -2.82580851388e+15 reached\n",
        "  warnings.warn(msg, RuntimeWarning)\n"
       ]
      },
      {
       "output_type": "stream",
       "stream": "stderr",
       "text": [
        "/Library/Python/2.7/site-packages/scipy-0.13.0.dev_c31f167_20130514-py2.7-macosx-10.8-intel.egg/scipy/optimize/zeros.py:149: RuntimeWarning: Tolerance of 1.26889312692e+16 reached\n",
        "  warnings.warn(msg, RuntimeWarning)\n",
        "/Library/Python/2.7/site-packages/scipy-0.13.0.dev_c31f167_20130514-py2.7-macosx-10.8-intel.egg/scipy/optimize/zeros.py:149: RuntimeWarning: Tolerance of 6.04197366849e+15 reached\n",
        "  warnings.warn(msg, RuntimeWarning)\n"
       ]
      },
      {
       "output_type": "stream",
       "stream": "stderr",
       "text": [
        "/Library/Python/2.7/site-packages/scipy-0.13.0.dev_c31f167_20130514-py2.7-macosx-10.8-intel.egg/scipy/optimize/zeros.py:149: RuntimeWarning: Tolerance of -4.77471071223e+15 reached\n",
        "  warnings.warn(msg, RuntimeWarning)\n",
        "/Library/Python/2.7/site-packages/scipy-0.13.0.dev_c31f167_20130514-py2.7-macosx-10.8-intel.egg/scipy/optimize/zeros.py:149: RuntimeWarning: Tolerance of -5.55593563665e+15 reached\n",
        "  warnings.warn(msg, RuntimeWarning)\n"
       ]
      },
      {
       "output_type": "stream",
       "stream": "stderr",
       "text": [
        "/Library/Python/2.7/site-packages/scipy-0.13.0.dev_c31f167_20130514-py2.7-macosx-10.8-intel.egg/scipy/optimize/zeros.py:149: RuntimeWarning: Tolerance of 2.28708595581e+16 reached\n",
        "  warnings.warn(msg, RuntimeWarning)\n",
        "/Library/Python/2.7/site-packages/scipy-0.13.0.dev_c31f167_20130514-py2.7-macosx-10.8-intel.egg/scipy/optimize/zeros.py:149: RuntimeWarning: Tolerance of 7.53787220328e+15 reached\n",
        "  warnings.warn(msg, RuntimeWarning)\n"
       ]
      },
      {
       "output_type": "stream",
       "stream": "stderr",
       "text": [
        "/Library/Python/2.7/site-packages/scipy-0.13.0.dev_c31f167_20130514-py2.7-macosx-10.8-intel.egg/scipy/optimize/zeros.py:149: RuntimeWarning: Tolerance of 1.30290753494e+16 reached\n",
        "  warnings.warn(msg, RuntimeWarning)\n",
        "/Library/Python/2.7/site-packages/scipy-0.13.0.dev_c31f167_20130514-py2.7-macosx-10.8-intel.egg/scipy/optimize/zeros.py:149: RuntimeWarning: Tolerance of 1.1538731961e+17 reached\n",
        "  warnings.warn(msg, RuntimeWarning)\n"
       ]
      },
      {
       "output_type": "stream",
       "stream": "stderr",
       "text": [
        "/Library/Python/2.7/site-packages/scipy-0.13.0.dev_c31f167_20130514-py2.7-macosx-10.8-intel.egg/scipy/optimize/zeros.py:149: RuntimeWarning: Tolerance of 2.40991615889e+16 reached\n",
        "  warnings.warn(msg, RuntimeWarning)\n",
        "/Library/Python/2.7/site-packages/scipy-0.13.0.dev_c31f167_20130514-py2.7-macosx-10.8-intel.egg/scipy/optimize/zeros.py:149: RuntimeWarning: Tolerance of 1.01075167156e+14 reached\n",
        "  warnings.warn(msg, RuntimeWarning)\n"
       ]
      },
      {
       "output_type": "stream",
       "stream": "stderr",
       "text": [
        "/Library/Python/2.7/site-packages/scipy-0.13.0.dev_c31f167_20130514-py2.7-macosx-10.8-intel.egg/scipy/optimize/zeros.py:149: RuntimeWarning: Tolerance of 4.17130597421e+15 reached\n",
        "  warnings.warn(msg, RuntimeWarning)\n",
        "/Library/Python/2.7/site-packages/scipy-0.13.0.dev_c31f167_20130514-py2.7-macosx-10.8-intel.egg/scipy/optimize/zeros.py:149: RuntimeWarning: Tolerance of -1.52573216209e+14 reached\n",
        "  warnings.warn(msg, RuntimeWarning)\n"
       ]
      },
      {
       "output_type": "stream",
       "stream": "stderr",
       "text": [
        "/Library/Python/2.7/site-packages/scipy-0.13.0.dev_c31f167_20130514-py2.7-macosx-10.8-intel.egg/scipy/optimize/zeros.py:149: RuntimeWarning: Tolerance of 1.24681471141e+17 reached\n",
        "  warnings.warn(msg, RuntimeWarning)\n",
        "/Library/Python/2.7/site-packages/scipy-0.13.0.dev_c31f167_20130514-py2.7-macosx-10.8-intel.egg/scipy/optimize/zeros.py:149: RuntimeWarning: Tolerance of 4.33939371969e+14 reached\n",
        "  warnings.warn(msg, RuntimeWarning)\n"
       ]
      },
      {
       "output_type": "stream",
       "stream": "stderr",
       "text": [
        "/Library/Python/2.7/site-packages/scipy-0.13.0.dev_c31f167_20130514-py2.7-macosx-10.8-intel.egg/scipy/optimize/zeros.py:149: RuntimeWarning: Tolerance of -1.07925805589e+17 reached\n",
        "  warnings.warn(msg, RuntimeWarning)\n",
        "/Library/Python/2.7/site-packages/scipy-0.13.0.dev_c31f167_20130514-py2.7-macosx-10.8-intel.egg/scipy/optimize/zeros.py:149: RuntimeWarning: Tolerance of -9.66978181062e+15 reached\n",
        "  warnings.warn(msg, RuntimeWarning)\n"
       ]
      },
      {
       "output_type": "stream",
       "stream": "stderr",
       "text": [
        "/Library/Python/2.7/site-packages/scipy-0.13.0.dev_c31f167_20130514-py2.7-macosx-10.8-intel.egg/scipy/optimize/zeros.py:149: RuntimeWarning: Tolerance of 6.77506654056e+14 reached\n",
        "  warnings.warn(msg, RuntimeWarning)\n",
        "/Library/Python/2.7/site-packages/scipy-0.13.0.dev_c31f167_20130514-py2.7-macosx-10.8-intel.egg/scipy/optimize/zeros.py:149: RuntimeWarning: Tolerance of 7.91248428239e+16 reached\n",
        "  warnings.warn(msg, RuntimeWarning)\n"
       ]
      },
      {
       "output_type": "stream",
       "stream": "stderr",
       "text": [
        "/Library/Python/2.7/site-packages/scipy-0.13.0.dev_c31f167_20130514-py2.7-macosx-10.8-intel.egg/scipy/optimize/zeros.py:149: RuntimeWarning: Tolerance of 1.54818202271e+15 reached\n",
        "  warnings.warn(msg, RuntimeWarning)\n",
        "/Library/Python/2.7/site-packages/scipy-0.13.0.dev_c31f167_20130514-py2.7-macosx-10.8-intel.egg/scipy/optimize/zeros.py:149: RuntimeWarning: Tolerance of 5.33329861437e+15 reached\n",
        "  warnings.warn(msg, RuntimeWarning)\n"
       ]
      },
      {
       "output_type": "stream",
       "stream": "stderr",
       "text": [
        "/Library/Python/2.7/site-packages/scipy-0.13.0.dev_c31f167_20130514-py2.7-macosx-10.8-intel.egg/scipy/optimize/zeros.py:149: RuntimeWarning: Tolerance of -8.11665020994e+15 reached\n",
        "  warnings.warn(msg, RuntimeWarning)\n",
        "/Library/Python/2.7/site-packages/scipy-0.13.0.dev_c31f167_20130514-py2.7-macosx-10.8-intel.egg/scipy/optimize/zeros.py:149: RuntimeWarning: Tolerance of 1.31681938924e+15 reached\n",
        "  warnings.warn(msg, RuntimeWarning)\n"
       ]
      },
      {
       "output_type": "stream",
       "stream": "stderr",
       "text": [
        "/Library/Python/2.7/site-packages/scipy-0.13.0.dev_c31f167_20130514-py2.7-macosx-10.8-intel.egg/scipy/optimize/zeros.py:149: RuntimeWarning: Tolerance of 7.68432979558e+14 reached\n",
        "  warnings.warn(msg, RuntimeWarning)\n",
        "/Library/Python/2.7/site-packages/scipy-0.13.0.dev_c31f167_20130514-py2.7-macosx-10.8-intel.egg/scipy/optimize/zeros.py:149: RuntimeWarning: Tolerance of 9.29568598064e+15 reached\n",
        "  warnings.warn(msg, RuntimeWarning)\n"
       ]
      },
      {
       "output_type": "stream",
       "stream": "stderr",
       "text": [
        "/Library/Python/2.7/site-packages/scipy-0.13.0.dev_c31f167_20130514-py2.7-macosx-10.8-intel.egg/scipy/optimize/zeros.py:149: RuntimeWarning: Tolerance of 2.79445459291e+15 reached\n",
        "  warnings.warn(msg, RuntimeWarning)\n",
        "/Library/Python/2.7/site-packages/scipy-0.13.0.dev_c31f167_20130514-py2.7-macosx-10.8-intel.egg/scipy/optimize/zeros.py:149: RuntimeWarning: Tolerance of 8.37401786095e+15 reached\n",
        "  warnings.warn(msg, RuntimeWarning)\n"
       ]
      },
      {
       "output_type": "stream",
       "stream": "stderr",
       "text": [
        "/Library/Python/2.7/site-packages/scipy-0.13.0.dev_c31f167_20130514-py2.7-macosx-10.8-intel.egg/scipy/optimize/zeros.py:149: RuntimeWarning: Tolerance of 6.86315963968e+12 reached\n",
        "  warnings.warn(msg, RuntimeWarning)\n",
        "/Library/Python/2.7/site-packages/scipy-0.13.0.dev_c31f167_20130514-py2.7-macosx-10.8-intel.egg/scipy/optimize/zeros.py:149: RuntimeWarning: Tolerance of -1.33264709535e+15 reached\n",
        "  warnings.warn(msg, RuntimeWarning)\n"
       ]
      },
      {
       "output_type": "stream",
       "stream": "stderr",
       "text": [
        "/Library/Python/2.7/site-packages/scipy-0.13.0.dev_c31f167_20130514-py2.7-macosx-10.8-intel.egg/scipy/optimize/zeros.py:149: RuntimeWarning: Tolerance of 1.66861965446e+16 reached\n",
        "  warnings.warn(msg, RuntimeWarning)\n",
        "/Library/Python/2.7/site-packages/scipy-0.13.0.dev_c31f167_20130514-py2.7-macosx-10.8-intel.egg/scipy/optimize/zeros.py:149: RuntimeWarning: Tolerance of -2.95520629538e+15 reached\n",
        "  warnings.warn(msg, RuntimeWarning)\n"
       ]
      },
      {
       "output_type": "stream",
       "stream": "stderr",
       "text": [
        "/Library/Python/2.7/site-packages/scipy-0.13.0.dev_c31f167_20130514-py2.7-macosx-10.8-intel.egg/scipy/optimize/zeros.py:149: RuntimeWarning: Tolerance of 3.15342907993e+14 reached\n",
        "  warnings.warn(msg, RuntimeWarning)\n",
        "/Library/Python/2.7/site-packages/scipy-0.13.0.dev_c31f167_20130514-py2.7-macosx-10.8-intel.egg/scipy/optimize/zeros.py:149: RuntimeWarning: Tolerance of 3.54616804351e+18 reached\n",
        "  warnings.warn(msg, RuntimeWarning)\n"
       ]
      },
      {
       "output_type": "stream",
       "stream": "stderr",
       "text": [
        "/Library/Python/2.7/site-packages/scipy-0.13.0.dev_c31f167_20130514-py2.7-macosx-10.8-intel.egg/scipy/optimize/zeros.py:149: RuntimeWarning: Tolerance of 2.04495591928e+16 reached\n",
        "  warnings.warn(msg, RuntimeWarning)\n",
        "/Library/Python/2.7/site-packages/scipy-0.13.0.dev_c31f167_20130514-py2.7-macosx-10.8-intel.egg/scipy/optimize/zeros.py:149: RuntimeWarning: Tolerance of -1.21112715646e+16 reached\n",
        "  warnings.warn(msg, RuntimeWarning)\n"
       ]
      },
      {
       "output_type": "stream",
       "stream": "stderr",
       "text": [
        "/Library/Python/2.7/site-packages/scipy-0.13.0.dev_c31f167_20130514-py2.7-macosx-10.8-intel.egg/scipy/optimize/zeros.py:149: RuntimeWarning: Tolerance of -8.59228838979e+16 reached\n",
        "  warnings.warn(msg, RuntimeWarning)\n",
        "/Library/Python/2.7/site-packages/scipy-0.13.0.dev_c31f167_20130514-py2.7-macosx-10.8-intel.egg/scipy/optimize/zeros.py:149: RuntimeWarning: Tolerance of -1.72594448866e+17 reached\n",
        "  warnings.warn(msg, RuntimeWarning)\n"
       ]
      },
      {
       "output_type": "stream",
       "stream": "stderr",
       "text": [
        "/Library/Python/2.7/site-packages/scipy-0.13.0.dev_c31f167_20130514-py2.7-macosx-10.8-intel.egg/scipy/optimize/zeros.py:149: RuntimeWarning: Tolerance of -4.57186623565e+13 reached\n",
        "  warnings.warn(msg, RuntimeWarning)\n",
        "/Library/Python/2.7/site-packages/scipy-0.13.0.dev_c31f167_20130514-py2.7-macosx-10.8-intel.egg/scipy/optimize/zeros.py:149: RuntimeWarning: Tolerance of -2.78057086229e+14 reached\n",
        "  warnings.warn(msg, RuntimeWarning)\n"
       ]
      },
      {
       "output_type": "stream",
       "stream": "stderr",
       "text": [
        "/Library/Python/2.7/site-packages/scipy-0.13.0.dev_c31f167_20130514-py2.7-macosx-10.8-intel.egg/scipy/optimize/zeros.py:149: RuntimeWarning: Tolerance of -1.98190734289e+15 reached\n",
        "  warnings.warn(msg, RuntimeWarning)\n",
        "/Library/Python/2.7/site-packages/scipy-0.13.0.dev_c31f167_20130514-py2.7-macosx-10.8-intel.egg/scipy/optimize/zeros.py:149: RuntimeWarning: Tolerance of 3.74977859665e+14 reached\n",
        "  warnings.warn(msg, RuntimeWarning)\n"
       ]
      },
      {
       "output_type": "stream",
       "stream": "stderr",
       "text": [
        "/Library/Python/2.7/site-packages/scipy-0.13.0.dev_c31f167_20130514-py2.7-macosx-10.8-intel.egg/scipy/optimize/zeros.py:149: RuntimeWarning: Tolerance of -4.22039843351e+15 reached\n",
        "  warnings.warn(msg, RuntimeWarning)\n",
        "/Library/Python/2.7/site-packages/scipy-0.13.0.dev_c31f167_20130514-py2.7-macosx-10.8-intel.egg/scipy/optimize/zeros.py:149: RuntimeWarning: Tolerance of 6.06611491948e+16 reached\n",
        "  warnings.warn(msg, RuntimeWarning)\n"
       ]
      },
      {
       "output_type": "stream",
       "stream": "stderr",
       "text": [
        "/Library/Python/2.7/site-packages/scipy-0.13.0.dev_c31f167_20130514-py2.7-macosx-10.8-intel.egg/scipy/optimize/zeros.py:149: RuntimeWarning: Tolerance of 2.65414792021e+16 reached\n",
        "  warnings.warn(msg, RuntimeWarning)\n",
        "/Library/Python/2.7/site-packages/scipy-0.13.0.dev_c31f167_20130514-py2.7-macosx-10.8-intel.egg/scipy/optimize/zeros.py:149: RuntimeWarning: Tolerance of 3.63064422888e+14 reached\n",
        "  warnings.warn(msg, RuntimeWarning)\n"
       ]
      },
      {
       "output_type": "stream",
       "stream": "stderr",
       "text": [
        "/Library/Python/2.7/site-packages/scipy-0.13.0.dev_c31f167_20130514-py2.7-macosx-10.8-intel.egg/scipy/optimize/zeros.py:149: RuntimeWarning: Tolerance of 7.00549541331e+12 reached\n",
        "  warnings.warn(msg, RuntimeWarning)\n",
        "/Library/Python/2.7/site-packages/scipy-0.13.0.dev_c31f167_20130514-py2.7-macosx-10.8-intel.egg/scipy/optimize/zeros.py:149: RuntimeWarning: Tolerance of -3.97643573289e+15 reached\n",
        "  warnings.warn(msg, RuntimeWarning)\n"
       ]
      },
      {
       "output_type": "stream",
       "stream": "stderr",
       "text": [
        "/Library/Python/2.7/site-packages/scipy-0.13.0.dev_c31f167_20130514-py2.7-macosx-10.8-intel.egg/scipy/optimize/zeros.py:149: RuntimeWarning: Tolerance of 6.58291131214e+16 reached\n",
        "  warnings.warn(msg, RuntimeWarning)\n",
        "/Library/Python/2.7/site-packages/scipy-0.13.0.dev_c31f167_20130514-py2.7-macosx-10.8-intel.egg/scipy/optimize/zeros.py:149: RuntimeWarning: Tolerance of 5.32788756912e+14 reached\n",
        "  warnings.warn(msg, RuntimeWarning)\n"
       ]
      },
      {
       "output_type": "stream",
       "stream": "stderr",
       "text": [
        "/Library/Python/2.7/site-packages/scipy-0.13.0.dev_c31f167_20130514-py2.7-macosx-10.8-intel.egg/scipy/optimize/zeros.py:149: RuntimeWarning: Tolerance of 7.15550900884e+16 reached\n",
        "  warnings.warn(msg, RuntimeWarning)\n",
        "/Library/Python/2.7/site-packages/scipy-0.13.0.dev_c31f167_20130514-py2.7-macosx-10.8-intel.egg/scipy/optimize/zeros.py:149: RuntimeWarning: Tolerance of -5.9263424553e+13 reached\n",
        "  warnings.warn(msg, RuntimeWarning)\n"
       ]
      },
      {
       "output_type": "stream",
       "stream": "stderr",
       "text": [
        "/Library/Python/2.7/site-packages/scipy-0.13.0.dev_c31f167_20130514-py2.7-macosx-10.8-intel.egg/scipy/optimize/zeros.py:149: RuntimeWarning: Tolerance of 9.41583566789e+14 reached\n",
        "  warnings.warn(msg, RuntimeWarning)\n",
        "/Library/Python/2.7/site-packages/scipy-0.13.0.dev_c31f167_20130514-py2.7-macosx-10.8-intel.egg/scipy/optimize/zeros.py:149: RuntimeWarning: Tolerance of 6.40845978518e+14 reached\n",
        "  warnings.warn(msg, RuntimeWarning)\n"
       ]
      },
      {
       "output_type": "stream",
       "stream": "stderr",
       "text": [
        "/Library/Python/2.7/site-packages/scipy-0.13.0.dev_c31f167_20130514-py2.7-macosx-10.8-intel.egg/scipy/optimize/zeros.py:149: RuntimeWarning: Tolerance of 1.0575356674e+16 reached\n",
        "  warnings.warn(msg, RuntimeWarning)\n",
        "/Library/Python/2.7/site-packages/scipy-0.13.0.dev_c31f167_20130514-py2.7-macosx-10.8-intel.egg/scipy/optimize/zeros.py:149: RuntimeWarning: Tolerance of -3.62380195132e+15 reached\n",
        "  warnings.warn(msg, RuntimeWarning)\n"
       ]
      },
      {
       "output_type": "stream",
       "stream": "stderr",
       "text": [
        "/Library/Python/2.7/site-packages/scipy-0.13.0.dev_c31f167_20130514-py2.7-macosx-10.8-intel.egg/scipy/optimize/zeros.py:149: RuntimeWarning: Tolerance of -2.73623211476e+16 reached\n",
        "  warnings.warn(msg, RuntimeWarning)\n",
        "/Library/Python/2.7/site-packages/scipy-0.13.0.dev_c31f167_20130514-py2.7-macosx-10.8-intel.egg/scipy/optimize/zeros.py:149: RuntimeWarning: Tolerance of 7.85460943628e+15 reached\n",
        "  warnings.warn(msg, RuntimeWarning)\n"
       ]
      },
      {
       "output_type": "stream",
       "stream": "stdout",
       "text": [
        "\n",
        "deleting item T1map_LL"
       ]
      },
      {
       "output_type": "stream",
       "stream": "stdout",
       "text": [
        "\n",
        "deleting item T1map_LL_fitdict"
       ]
      },
      {
       "output_type": "stream",
       "stream": "stderr",
       "text": [
        "WARNING:sarpy.io.BRUKERIO:NSLICES not equal to number of ACQ_obj_order\n"
       ]
      },
      {
       "output_type": "stream",
       "stream": "stderr",
       "text": [
        "/Library/Python/2.7/site-packages/scipy-0.13.0.dev_c31f167_20130514-py2.7-macosx-10.8-intel.egg/scipy/optimize/zeros.py:149: RuntimeWarning: Tolerance of 2.94815575782e+16 reached\n",
        "  warnings.warn(msg, RuntimeWarning)\n",
        "/Library/Python/2.7/site-packages/scipy-0.13.0.dev_c31f167_20130514-py2.7-macosx-10.8-intel.egg/scipy/optimize/zeros.py:149: RuntimeWarning: Tolerance of -2.35034231193e+17 reached\n",
        "  warnings.warn(msg, RuntimeWarning)\n"
       ]
      },
      {
       "output_type": "stream",
       "stream": "stderr",
       "text": [
        "/Library/Python/2.7/site-packages/scipy-0.13.0.dev_c31f167_20130514-py2.7-macosx-10.8-intel.egg/scipy/optimize/zeros.py:149: RuntimeWarning: Tolerance of 6.27603928773e+15 reached\n",
        "  warnings.warn(msg, RuntimeWarning)\n",
        "/Library/Python/2.7/site-packages/scipy-0.13.0.dev_c31f167_20130514-py2.7-macosx-10.8-intel.egg/scipy/optimize/zeros.py:149: RuntimeWarning: Tolerance of -9.92022180881e+17 reached\n",
        "  warnings.warn(msg, RuntimeWarning)\n"
       ]
      },
      {
       "output_type": "stream",
       "stream": "stderr",
       "text": [
        "/Library/Python/2.7/site-packages/scipy-0.13.0.dev_c31f167_20130514-py2.7-macosx-10.8-intel.egg/scipy/optimize/zeros.py:149: RuntimeWarning: Tolerance of 1.18212167761e+17 reached\n",
        "  warnings.warn(msg, RuntimeWarning)\n",
        "/Library/Python/2.7/site-packages/scipy-0.13.0.dev_c31f167_20130514-py2.7-macosx-10.8-intel.egg/scipy/optimize/zeros.py:149: RuntimeWarning: Tolerance of 1.08451087501e+14 reached\n",
        "  warnings.warn(msg, RuntimeWarning)\n"
       ]
      },
      {
       "output_type": "stream",
       "stream": "stderr",
       "text": [
        "/Library/Python/2.7/site-packages/scipy-0.13.0.dev_c31f167_20130514-py2.7-macosx-10.8-intel.egg/scipy/optimize/zeros.py:149: RuntimeWarning: Tolerance of 7.78002090441e+15 reached\n",
        "  warnings.warn(msg, RuntimeWarning)\n",
        "/Library/Python/2.7/site-packages/scipy-0.13.0.dev_c31f167_20130514-py2.7-macosx-10.8-intel.egg/scipy/optimize/zeros.py:149: RuntimeWarning: Tolerance of -1.02574573192e+14 reached\n",
        "  warnings.warn(msg, RuntimeWarning)\n"
       ]
      },
      {
       "output_type": "stream",
       "stream": "stderr",
       "text": [
        "/Library/Python/2.7/site-packages/scipy-0.13.0.dev_c31f167_20130514-py2.7-macosx-10.8-intel.egg/scipy/optimize/zeros.py:149: RuntimeWarning: Tolerance of -1.62417725546e+16 reached\n",
        "  warnings.warn(msg, RuntimeWarning)\n",
        "/Library/Python/2.7/site-packages/scipy-0.13.0.dev_c31f167_20130514-py2.7-macosx-10.8-intel.egg/scipy/optimize/zeros.py:149: RuntimeWarning: Tolerance of 3.77267067493e+16 reached\n",
        "  warnings.warn(msg, RuntimeWarning)\n"
       ]
      },
      {
       "output_type": "stream",
       "stream": "stderr",
       "text": [
        "/Library/Python/2.7/site-packages/scipy-0.13.0.dev_c31f167_20130514-py2.7-macosx-10.8-intel.egg/scipy/optimize/zeros.py:149: RuntimeWarning: Tolerance of -2.50969107981e+15 reached\n",
        "  warnings.warn(msg, RuntimeWarning)\n",
        "/Library/Python/2.7/site-packages/scipy-0.13.0.dev_c31f167_20130514-py2.7-macosx-10.8-intel.egg/scipy/optimize/zeros.py:149: RuntimeWarning: Tolerance of -2.24341344662e+12 reached\n",
        "  warnings.warn(msg, RuntimeWarning)\n"
       ]
      },
      {
       "output_type": "stream",
       "stream": "stderr",
       "text": [
        "/Library/Python/2.7/site-packages/scipy-0.13.0.dev_c31f167_20130514-py2.7-macosx-10.8-intel.egg/scipy/optimize/zeros.py:149: RuntimeWarning: Tolerance of 4.18017461231e+15 reached\n",
        "  warnings.warn(msg, RuntimeWarning)\n",
        "/Library/Python/2.7/site-packages/scipy-0.13.0.dev_c31f167_20130514-py2.7-macosx-10.8-intel.egg/scipy/optimize/zeros.py:149: RuntimeWarning: Tolerance of -2.69501974437e+16 reached\n",
        "  warnings.warn(msg, RuntimeWarning)\n"
       ]
      },
      {
       "output_type": "stream",
       "stream": "stderr",
       "text": [
        "/Library/Python/2.7/site-packages/scipy-0.13.0.dev_c31f167_20130514-py2.7-macosx-10.8-intel.egg/scipy/optimize/zeros.py:149: RuntimeWarning: Tolerance of 1.16026934564e+16 reached\n",
        "  warnings.warn(msg, RuntimeWarning)\n",
        "/Library/Python/2.7/site-packages/scipy-0.13.0.dev_c31f167_20130514-py2.7-macosx-10.8-intel.egg/scipy/optimize/zeros.py:149: RuntimeWarning: Tolerance of -8.34742206863e+15 reached\n",
        "  warnings.warn(msg, RuntimeWarning)\n"
       ]
      },
      {
       "output_type": "stream",
       "stream": "stderr",
       "text": [
        "/Library/Python/2.7/site-packages/scipy-0.13.0.dev_c31f167_20130514-py2.7-macosx-10.8-intel.egg/scipy/optimize/zeros.py:149: RuntimeWarning: Tolerance of -2.32498001926e+14 reached\n",
        "  warnings.warn(msg, RuntimeWarning)\n",
        "/Library/Python/2.7/site-packages/scipy-0.13.0.dev_c31f167_20130514-py2.7-macosx-10.8-intel.egg/scipy/optimize/zeros.py:149: RuntimeWarning: Tolerance of -7.05087095611e+14 reached\n",
        "  warnings.warn(msg, RuntimeWarning)\n"
       ]
      },
      {
       "output_type": "stream",
       "stream": "stderr",
       "text": [
        "/Library/Python/2.7/site-packages/scipy-0.13.0.dev_c31f167_20130514-py2.7-macosx-10.8-intel.egg/scipy/optimize/zeros.py:149: RuntimeWarning: Tolerance of -7.05302550884e+16 reached\n",
        "  warnings.warn(msg, RuntimeWarning)\n",
        "/Library/Python/2.7/site-packages/scipy-0.13.0.dev_c31f167_20130514-py2.7-macosx-10.8-intel.egg/scipy/optimize/zeros.py:149: RuntimeWarning: Tolerance of -4.91406663249e+13 reached\n",
        "  warnings.warn(msg, RuntimeWarning)\n"
       ]
      },
      {
       "output_type": "stream",
       "stream": "stderr",
       "text": [
        "/Library/Python/2.7/site-packages/scipy-0.13.0.dev_c31f167_20130514-py2.7-macosx-10.8-intel.egg/scipy/optimize/zeros.py:149: RuntimeWarning: Tolerance of -1.4679247225e+16 reached\n",
        "  warnings.warn(msg, RuntimeWarning)\n",
        "/Library/Python/2.7/site-packages/scipy-0.13.0.dev_c31f167_20130514-py2.7-macosx-10.8-intel.egg/scipy/optimize/zeros.py:149: RuntimeWarning: Tolerance of -1.50093279906e+14 reached\n",
        "  warnings.warn(msg, RuntimeWarning)\n"
       ]
      },
      {
       "output_type": "stream",
       "stream": "stderr",
       "text": [
        "/Library/Python/2.7/site-packages/scipy-0.13.0.dev_c31f167_20130514-py2.7-macosx-10.8-intel.egg/scipy/optimize/zeros.py:149: RuntimeWarning: Tolerance of -3.97524858591e+15 reached\n",
        "  warnings.warn(msg, RuntimeWarning)\n",
        "/Library/Python/2.7/site-packages/scipy-0.13.0.dev_c31f167_20130514-py2.7-macosx-10.8-intel.egg/scipy/optimize/zeros.py:149: RuntimeWarning: Tolerance of 1.14308387412e+15 reached\n",
        "  warnings.warn(msg, RuntimeWarning)\n"
       ]
      },
      {
       "output_type": "stream",
       "stream": "stderr",
       "text": [
        "/Library/Python/2.7/site-packages/scipy-0.13.0.dev_c31f167_20130514-py2.7-macosx-10.8-intel.egg/scipy/optimize/zeros.py:149: RuntimeWarning: Tolerance of 3.86756741847e+16 reached\n",
        "  warnings.warn(msg, RuntimeWarning)\n",
        "/Library/Python/2.7/site-packages/scipy-0.13.0.dev_c31f167_20130514-py2.7-macosx-10.8-intel.egg/scipy/optimize/zeros.py:149: RuntimeWarning: Tolerance of 1.17788165618e+16 reached\n",
        "  warnings.warn(msg, RuntimeWarning)\n"
       ]
      },
      {
       "output_type": "stream",
       "stream": "stderr",
       "text": [
        "/Library/Python/2.7/site-packages/scipy-0.13.0.dev_c31f167_20130514-py2.7-macosx-10.8-intel.egg/scipy/optimize/zeros.py:149: RuntimeWarning: Tolerance of 1.46305149072e+16 reached\n",
        "  warnings.warn(msg, RuntimeWarning)\n",
        "/Library/Python/2.7/site-packages/scipy-0.13.0.dev_c31f167_20130514-py2.7-macosx-10.8-intel.egg/scipy/optimize/zeros.py:149: RuntimeWarning: Tolerance of 3.33743413643e+16 reached\n",
        "  warnings.warn(msg, RuntimeWarning)\n"
       ]
      },
      {
       "output_type": "stream",
       "stream": "stderr",
       "text": [
        "/Library/Python/2.7/site-packages/scipy-0.13.0.dev_c31f167_20130514-py2.7-macosx-10.8-intel.egg/scipy/optimize/zeros.py:149: RuntimeWarning: Tolerance of -2.23108566159e+16 reached\n",
        "  warnings.warn(msg, RuntimeWarning)\n",
        "/Library/Python/2.7/site-packages/scipy-0.13.0.dev_c31f167_20130514-py2.7-macosx-10.8-intel.egg/scipy/optimize/zeros.py:149: RuntimeWarning: Tolerance of -7.97555877453e+15 reached\n",
        "  warnings.warn(msg, RuntimeWarning)\n"
       ]
      },
      {
       "output_type": "stream",
       "stream": "stderr",
       "text": [
        "/Library/Python/2.7/site-packages/scipy-0.13.0.dev_c31f167_20130514-py2.7-macosx-10.8-intel.egg/scipy/optimize/zeros.py:149: RuntimeWarning: Tolerance of -9.24346189822e+16 reached\n",
        "  warnings.warn(msg, RuntimeWarning)\n",
        "/Library/Python/2.7/site-packages/scipy-0.13.0.dev_c31f167_20130514-py2.7-macosx-10.8-intel.egg/scipy/optimize/zeros.py:149: RuntimeWarning: Tolerance of 1.61349655041e+16 reached\n",
        "  warnings.warn(msg, RuntimeWarning)\n"
       ]
      },
      {
       "output_type": "stream",
       "stream": "stderr",
       "text": [
        "/Library/Python/2.7/site-packages/scipy-0.13.0.dev_c31f167_20130514-py2.7-macosx-10.8-intel.egg/scipy/optimize/zeros.py:149: RuntimeWarning: Tolerance of 7.31009974379e+15 reached\n",
        "  warnings.warn(msg, RuntimeWarning)\n",
        "/Library/Python/2.7/site-packages/scipy-0.13.0.dev_c31f167_20130514-py2.7-macosx-10.8-intel.egg/scipy/optimize/zeros.py:149: RuntimeWarning: Tolerance of -3.62480043908e+14 reached\n",
        "  warnings.warn(msg, RuntimeWarning)\n"
       ]
      },
      {
       "output_type": "stream",
       "stream": "stderr",
       "text": [
        "/Library/Python/2.7/site-packages/scipy-0.13.0.dev_c31f167_20130514-py2.7-macosx-10.8-intel.egg/scipy/optimize/zeros.py:149: RuntimeWarning: Tolerance of -2.10582142974e+16 reached\n",
        "  warnings.warn(msg, RuntimeWarning)\n",
        "/Library/Python/2.7/site-packages/scipy-0.13.0.dev_c31f167_20130514-py2.7-macosx-10.8-intel.egg/scipy/optimize/zeros.py:149: RuntimeWarning: Tolerance of 1.69079997934e+13 reached\n",
        "  warnings.warn(msg, RuntimeWarning)\n"
       ]
      },
      {
       "output_type": "stream",
       "stream": "stderr",
       "text": [
        "/Library/Python/2.7/site-packages/scipy-0.13.0.dev_c31f167_20130514-py2.7-macosx-10.8-intel.egg/scipy/optimize/zeros.py:149: RuntimeWarning: Tolerance of -5.84206968724e+15 reached\n",
        "  warnings.warn(msg, RuntimeWarning)\n",
        "/Library/Python/2.7/site-packages/scipy-0.13.0.dev_c31f167_20130514-py2.7-macosx-10.8-intel.egg/scipy/optimize/zeros.py:149: RuntimeWarning: Tolerance of -3.77704185363e+16 reached\n",
        "  warnings.warn(msg, RuntimeWarning)\n"
       ]
      },
      {
       "output_type": "stream",
       "stream": "stderr",
       "text": [
        "/Library/Python/2.7/site-packages/scipy-0.13.0.dev_c31f167_20130514-py2.7-macosx-10.8-intel.egg/scipy/optimize/zeros.py:149: RuntimeWarning: Tolerance of -1.91559129419e+15 reached\n",
        "  warnings.warn(msg, RuntimeWarning)\n",
        "/Library/Python/2.7/site-packages/scipy-0.13.0.dev_c31f167_20130514-py2.7-macosx-10.8-intel.egg/scipy/optimize/zeros.py:149: RuntimeWarning: Tolerance of -3.25272643136e+15 reached\n",
        "  warnings.warn(msg, RuntimeWarning)\n"
       ]
      },
      {
       "output_type": "stream",
       "stream": "stderr",
       "text": [
        "/Library/Python/2.7/site-packages/scipy-0.13.0.dev_c31f167_20130514-py2.7-macosx-10.8-intel.egg/scipy/optimize/zeros.py:149: RuntimeWarning: Tolerance of -4.53141228807e+13 reached\n",
        "  warnings.warn(msg, RuntimeWarning)\n",
        "/Library/Python/2.7/site-packages/scipy-0.13.0.dev_c31f167_20130514-py2.7-macosx-10.8-intel.egg/scipy/optimize/zeros.py:149: RuntimeWarning: Tolerance of -2.82962955221e+14 reached\n",
        "  warnings.warn(msg, RuntimeWarning)\n"
       ]
      },
      {
       "output_type": "stream",
       "stream": "stderr",
       "text": [
        "/Library/Python/2.7/site-packages/scipy-0.13.0.dev_c31f167_20130514-py2.7-macosx-10.8-intel.egg/scipy/optimize/zeros.py:149: RuntimeWarning: Tolerance of -1.53132356864e+15 reached\n",
        "  warnings.warn(msg, RuntimeWarning)\n",
        "/Library/Python/2.7/site-packages/scipy-0.13.0.dev_c31f167_20130514-py2.7-macosx-10.8-intel.egg/scipy/optimize/zeros.py:149: RuntimeWarning: Tolerance of -7.65558760217e+16 reached\n",
        "  warnings.warn(msg, RuntimeWarning)\n"
       ]
      },
      {
       "output_type": "stream",
       "stream": "stderr",
       "text": [
        "/Library/Python/2.7/site-packages/scipy-0.13.0.dev_c31f167_20130514-py2.7-macosx-10.8-intel.egg/scipy/optimize/zeros.py:149: RuntimeWarning: Tolerance of 3.83766358392e+15 reached\n",
        "  warnings.warn(msg, RuntimeWarning)\n",
        "/Library/Python/2.7/site-packages/scipy-0.13.0.dev_c31f167_20130514-py2.7-macosx-10.8-intel.egg/scipy/optimize/zeros.py:149: RuntimeWarning: Tolerance of 2.64704718479e+15 reached\n",
        "  warnings.warn(msg, RuntimeWarning)\n"
       ]
      },
      {
       "output_type": "stream",
       "stream": "stderr",
       "text": [
        "/Library/Python/2.7/site-packages/scipy-0.13.0.dev_c31f167_20130514-py2.7-macosx-10.8-intel.egg/scipy/optimize/zeros.py:149: RuntimeWarning: Tolerance of -2.76727603645e+16 reached\n",
        "  warnings.warn(msg, RuntimeWarning)\n",
        "/Library/Python/2.7/site-packages/scipy-0.13.0.dev_c31f167_20130514-py2.7-macosx-10.8-intel.egg/scipy/optimize/zeros.py:149: RuntimeWarning: Tolerance of -3.92573367806e+16 reached\n",
        "  warnings.warn(msg, RuntimeWarning)\n"
       ]
      },
      {
       "output_type": "stream",
       "stream": "stderr",
       "text": [
        "/Library/Python/2.7/site-packages/scipy-0.13.0.dev_c31f167_20130514-py2.7-macosx-10.8-intel.egg/scipy/optimize/zeros.py:149: RuntimeWarning: Tolerance of 1.00167012672e+13 reached\n",
        "  warnings.warn(msg, RuntimeWarning)\n",
        "/Library/Python/2.7/site-packages/scipy-0.13.0.dev_c31f167_20130514-py2.7-macosx-10.8-intel.egg/scipy/optimize/zeros.py:149: RuntimeWarning: Tolerance of 1.50343389341e+17 reached\n",
        "  warnings.warn(msg, RuntimeWarning)\n"
       ]
      },
      {
       "output_type": "stream",
       "stream": "stderr",
       "text": [
        "/Library/Python/2.7/site-packages/scipy-0.13.0.dev_c31f167_20130514-py2.7-macosx-10.8-intel.egg/scipy/optimize/zeros.py:149: RuntimeWarning: Tolerance of -1.23230667499e+14 reached\n",
        "  warnings.warn(msg, RuntimeWarning)\n",
        "/Library/Python/2.7/site-packages/scipy-0.13.0.dev_c31f167_20130514-py2.7-macosx-10.8-intel.egg/scipy/optimize/zeros.py:149: RuntimeWarning: Tolerance of -3.65732425306e+16 reached\n",
        "  warnings.warn(msg, RuntimeWarning)\n"
       ]
      },
      {
       "output_type": "stream",
       "stream": "stderr",
       "text": [
        "/Library/Python/2.7/site-packages/scipy-0.13.0.dev_c31f167_20130514-py2.7-macosx-10.8-intel.egg/scipy/optimize/zeros.py:149: RuntimeWarning: Tolerance of -2.10591916458e+16 reached\n",
        "  warnings.warn(msg, RuntimeWarning)\n",
        "/Library/Python/2.7/site-packages/scipy-0.13.0.dev_c31f167_20130514-py2.7-macosx-10.8-intel.egg/scipy/optimize/zeros.py:149: RuntimeWarning: Tolerance of -2.67120195607e+15 reached\n",
        "  warnings.warn(msg, RuntimeWarning)\n"
       ]
      },
      {
       "output_type": "stream",
       "stream": "stderr",
       "text": [
        "/Library/Python/2.7/site-packages/scipy-0.13.0.dev_c31f167_20130514-py2.7-macosx-10.8-intel.egg/scipy/optimize/zeros.py:149: RuntimeWarning: Tolerance of -2.18584649328e+16 reached\n",
        "  warnings.warn(msg, RuntimeWarning)\n",
        "/Library/Python/2.7/site-packages/scipy-0.13.0.dev_c31f167_20130514-py2.7-macosx-10.8-intel.egg/scipy/optimize/zeros.py:149: RuntimeWarning: Tolerance of 4.74115687939e+17 reached\n",
        "  warnings.warn(msg, RuntimeWarning)\n"
       ]
      },
      {
       "output_type": "stream",
       "stream": "stderr",
       "text": [
        "/Library/Python/2.7/site-packages/scipy-0.13.0.dev_c31f167_20130514-py2.7-macosx-10.8-intel.egg/scipy/optimize/zeros.py:149: RuntimeWarning: Tolerance of 1.84068011524e+15 reached\n",
        "  warnings.warn(msg, RuntimeWarning)\n",
        "/Library/Python/2.7/site-packages/scipy-0.13.0.dev_c31f167_20130514-py2.7-macosx-10.8-intel.egg/scipy/optimize/zeros.py:149: RuntimeWarning: Tolerance of -1.39273433189e+16 reached\n",
        "  warnings.warn(msg, RuntimeWarning)\n"
       ]
      },
      {
       "output_type": "stream",
       "stream": "stderr",
       "text": [
        "/Library/Python/2.7/site-packages/scipy-0.13.0.dev_c31f167_20130514-py2.7-macosx-10.8-intel.egg/scipy/optimize/zeros.py:149: RuntimeWarning: Tolerance of -4.15151656559e+15 reached\n",
        "  warnings.warn(msg, RuntimeWarning)\n",
        "/Library/Python/2.7/site-packages/scipy-0.13.0.dev_c31f167_20130514-py2.7-macosx-10.8-intel.egg/scipy/optimize/zeros.py:149: RuntimeWarning: Tolerance of 1.51930708804e+16 reached\n",
        "  warnings.warn(msg, RuntimeWarning)\n"
       ]
      },
      {
       "output_type": "stream",
       "stream": "stderr",
       "text": [
        "/Library/Python/2.7/site-packages/scipy-0.13.0.dev_c31f167_20130514-py2.7-macosx-10.8-intel.egg/scipy/optimize/zeros.py:149: RuntimeWarning: Tolerance of 1.81479373856e+16 reached\n",
        "  warnings.warn(msg, RuntimeWarning)\n",
        "/Library/Python/2.7/site-packages/scipy-0.13.0.dev_c31f167_20130514-py2.7-macosx-10.8-intel.egg/scipy/optimize/zeros.py:149: RuntimeWarning: Tolerance of -2.09908331818e+16 reached\n",
        "  warnings.warn(msg, RuntimeWarning)\n"
       ]
      },
      {
       "output_type": "stream",
       "stream": "stderr",
       "text": [
        "/Library/Python/2.7/site-packages/scipy-0.13.0.dev_c31f167_20130514-py2.7-macosx-10.8-intel.egg/scipy/optimize/zeros.py:149: RuntimeWarning: Tolerance of -2.790399222e+16 reached\n",
        "  warnings.warn(msg, RuntimeWarning)\n",
        "/Library/Python/2.7/site-packages/scipy-0.13.0.dev_c31f167_20130514-py2.7-macosx-10.8-intel.egg/scipy/optimize/zeros.py:149: RuntimeWarning: Tolerance of 1.02621968355e+14 reached\n",
        "  warnings.warn(msg, RuntimeWarning)\n"
       ]
      },
      {
       "output_type": "stream",
       "stream": "stderr",
       "text": [
        "/Library/Python/2.7/site-packages/scipy-0.13.0.dev_c31f167_20130514-py2.7-macosx-10.8-intel.egg/scipy/optimize/zeros.py:149: RuntimeWarning: Tolerance of 4.00627581896e+15 reached\n",
        "  warnings.warn(msg, RuntimeWarning)\n",
        "/Library/Python/2.7/site-packages/scipy-0.13.0.dev_c31f167_20130514-py2.7-macosx-10.8-intel.egg/scipy/optimize/zeros.py:149: RuntimeWarning: Tolerance of -2.58322347664e+16 reached\n",
        "  warnings.warn(msg, RuntimeWarning)\n"
       ]
      },
      {
       "output_type": "stream",
       "stream": "stderr",
       "text": [
        "/Library/Python/2.7/site-packages/scipy-0.13.0.dev_c31f167_20130514-py2.7-macosx-10.8-intel.egg/scipy/optimize/zeros.py:149: RuntimeWarning: Tolerance of 2.10894212496e+15 reached\n",
        "  warnings.warn(msg, RuntimeWarning)\n",
        "/Library/Python/2.7/site-packages/scipy-0.13.0.dev_c31f167_20130514-py2.7-macosx-10.8-intel.egg/scipy/optimize/zeros.py:149: RuntimeWarning: Tolerance of -6.6930250674e+15 reached\n",
        "  warnings.warn(msg, RuntimeWarning)\n"
       ]
      },
      {
       "output_type": "stream",
       "stream": "stderr",
       "text": [
        "/Library/Python/2.7/site-packages/scipy-0.13.0.dev_c31f167_20130514-py2.7-macosx-10.8-intel.egg/scipy/optimize/zeros.py:149: RuntimeWarning: Tolerance of 3.1189614327e+15 reached\n",
        "  warnings.warn(msg, RuntimeWarning)\n",
        "/Library/Python/2.7/site-packages/scipy-0.13.0.dev_c31f167_20130514-py2.7-macosx-10.8-intel.egg/scipy/optimize/zeros.py:149: RuntimeWarning: Tolerance of -2.37621845394e+14 reached\n",
        "  warnings.warn(msg, RuntimeWarning)\n"
       ]
      },
      {
       "output_type": "stream",
       "stream": "stderr",
       "text": [
        "/Library/Python/2.7/site-packages/scipy-0.13.0.dev_c31f167_20130514-py2.7-macosx-10.8-intel.egg/scipy/optimize/zeros.py:149: RuntimeWarning: Tolerance of -1.80906689904e+15 reached\n",
        "  warnings.warn(msg, RuntimeWarning)\n",
        "/Library/Python/2.7/site-packages/scipy-0.13.0.dev_c31f167_20130514-py2.7-macosx-10.8-intel.egg/scipy/optimize/zeros.py:149: RuntimeWarning: Tolerance of -5.7190521825e+14 reached\n",
        "  warnings.warn(msg, RuntimeWarning)\n"
       ]
      },
      {
       "output_type": "stream",
       "stream": "stderr",
       "text": [
        "/Library/Python/2.7/site-packages/scipy-0.13.0.dev_c31f167_20130514-py2.7-macosx-10.8-intel.egg/scipy/optimize/zeros.py:149: RuntimeWarning: Tolerance of -2.31514680571e+17 reached\n",
        "  warnings.warn(msg, RuntimeWarning)\n",
        "/Library/Python/2.7/site-packages/scipy-0.13.0.dev_c31f167_20130514-py2.7-macosx-10.8-intel.egg/scipy/optimize/zeros.py:149: RuntimeWarning: Tolerance of -6.6624900505e+15 reached\n",
        "  warnings.warn(msg, RuntimeWarning)\n"
       ]
      },
      {
       "output_type": "stream",
       "stream": "stderr",
       "text": [
        "/Library/Python/2.7/site-packages/scipy-0.13.0.dev_c31f167_20130514-py2.7-macosx-10.8-intel.egg/scipy/optimize/zeros.py:149: RuntimeWarning: Tolerance of 2.5559733578e+15 reached\n",
        "  warnings.warn(msg, RuntimeWarning)\n",
        "/Library/Python/2.7/site-packages/scipy-0.13.0.dev_c31f167_20130514-py2.7-macosx-10.8-intel.egg/scipy/optimize/zeros.py:149: RuntimeWarning: Tolerance of 1.79806970401e+15 reached\n",
        "  warnings.warn(msg, RuntimeWarning)\n"
       ]
      },
      {
       "output_type": "stream",
       "stream": "stderr",
       "text": [
        "/Library/Python/2.7/site-packages/scipy-0.13.0.dev_c31f167_20130514-py2.7-macosx-10.8-intel.egg/scipy/optimize/zeros.py:149: RuntimeWarning: Tolerance of -2.75401801179e+15 reached\n",
        "  warnings.warn(msg, RuntimeWarning)\n",
        "/Library/Python/2.7/site-packages/scipy-0.13.0.dev_c31f167_20130514-py2.7-macosx-10.8-intel.egg/scipy/optimize/zeros.py:149: RuntimeWarning: Tolerance of 1.08353439544e+16 reached\n",
        "  warnings.warn(msg, RuntimeWarning)\n"
       ]
      },
      {
       "output_type": "stream",
       "stream": "stderr",
       "text": [
        "/Library/Python/2.7/site-packages/scipy-0.13.0.dev_c31f167_20130514-py2.7-macosx-10.8-intel.egg/scipy/optimize/zeros.py:149: RuntimeWarning: Tolerance of -3.31231315976e+14 reached\n",
        "  warnings.warn(msg, RuntimeWarning)\n",
        "/Library/Python/2.7/site-packages/scipy-0.13.0.dev_c31f167_20130514-py2.7-macosx-10.8-intel.egg/scipy/optimize/zeros.py:149: RuntimeWarning: Tolerance of 1.68349451282e+15 reached\n",
        "  warnings.warn(msg, RuntimeWarning)\n"
       ]
      },
      {
       "output_type": "stream",
       "stream": "stderr",
       "text": [
        "/Library/Python/2.7/site-packages/scipy-0.13.0.dev_c31f167_20130514-py2.7-macosx-10.8-intel.egg/scipy/optimize/zeros.py:149: RuntimeWarning: Tolerance of 2.33793879821e+16 reached\n",
        "  warnings.warn(msg, RuntimeWarning)\n",
        "/Library/Python/2.7/site-packages/scipy-0.13.0.dev_c31f167_20130514-py2.7-macosx-10.8-intel.egg/scipy/optimize/zeros.py:149: RuntimeWarning: Tolerance of 6.50128680888e+15 reached\n",
        "  warnings.warn(msg, RuntimeWarning)\n"
       ]
      },
      {
       "output_type": "stream",
       "stream": "stderr",
       "text": [
        "/Library/Python/2.7/site-packages/scipy-0.13.0.dev_c31f167_20130514-py2.7-macosx-10.8-intel.egg/scipy/optimize/zeros.py:149: RuntimeWarning: Tolerance of -2.33663633105e+15 reached\n",
        "  warnings.warn(msg, RuntimeWarning)\n",
        "/Library/Python/2.7/site-packages/scipy-0.13.0.dev_c31f167_20130514-py2.7-macosx-10.8-intel.egg/scipy/optimize/zeros.py:149: RuntimeWarning: Tolerance of -9.56372722928e+15 reached\n",
        "  warnings.warn(msg, RuntimeWarning)\n",
        "/Library/Python/2.7/site-packages/scipy-0.13.0.dev_c31f167_20130514-py2.7-macosx-10.8-intel.egg/scipy/optimize/zeros.py:149: RuntimeWarning: Tolerance of -6.59996422364e+16 reached\n",
        "  warnings.warn(msg, RuntimeWarning)\n"
       ]
      },
      {
       "output_type": "stream",
       "stream": "stderr",
       "text": [
        "/Library/Python/2.7/site-packages/scipy-0.13.0.dev_c31f167_20130514-py2.7-macosx-10.8-intel.egg/scipy/optimize/zeros.py:149: RuntimeWarning: Tolerance of -6.49801222607e-07 reached\n",
        "  warnings.warn(msg, RuntimeWarning)\n",
        "/Library/Python/2.7/site-packages/scipy-0.13.0.dev_c31f167_20130514-py2.7-macosx-10.8-intel.egg/scipy/optimize/zeros.py:149: RuntimeWarning: Tolerance of -3.57389760166e+15 reached\n",
        "  warnings.warn(msg, RuntimeWarning)\n"
       ]
      },
      {
       "output_type": "stream",
       "stream": "stderr",
       "text": [
        "/Library/Python/2.7/site-packages/scipy-0.13.0.dev_c31f167_20130514-py2.7-macosx-10.8-intel.egg/scipy/optimize/zeros.py:149: RuntimeWarning: Tolerance of 1.10841153933e+14 reached\n",
        "  warnings.warn(msg, RuntimeWarning)\n",
        "/Library/Python/2.7/site-packages/scipy-0.13.0.dev_c31f167_20130514-py2.7-macosx-10.8-intel.egg/scipy/optimize/zeros.py:149: RuntimeWarning: Tolerance of 1.83097977198e+17 reached\n",
        "  warnings.warn(msg, RuntimeWarning)\n"
       ]
      },
      {
       "output_type": "stream",
       "stream": "stderr",
       "text": [
        "/Library/Python/2.7/site-packages/scipy-0.13.0.dev_c31f167_20130514-py2.7-macosx-10.8-intel.egg/scipy/optimize/zeros.py:149: RuntimeWarning: Tolerance of -4.90529901603e+15 reached\n",
        "  warnings.warn(msg, RuntimeWarning)\n",
        "/Library/Python/2.7/site-packages/scipy-0.13.0.dev_c31f167_20130514-py2.7-macosx-10.8-intel.egg/scipy/optimize/zeros.py:149: RuntimeWarning: Tolerance of 1.02554436201e+16 reached\n",
        "  warnings.warn(msg, RuntimeWarning)\n"
       ]
      },
      {
       "output_type": "stream",
       "stream": "stdout",
       "text": [
        "\n",
        "deleting item T1map_LL"
       ]
      },
      {
       "output_type": "stream",
       "stream": "stdout",
       "text": [
        "\n",
        "deleting item T1map_LL_fitdict"
       ]
      },
      {
       "output_type": "stream",
       "stream": "stderr",
       "text": [
        "/Library/Python/2.7/site-packages/scipy-0.13.0.dev_c31f167_20130514-py2.7-macosx-10.8-intel.egg/scipy/optimize/zeros.py:149: RuntimeWarning: Tolerance of -2.20591614697e+14 reached\n",
        "  warnings.warn(msg, RuntimeWarning)\n",
        "WARNING:sarpy.io.BRUKERIO:NSLICES not equal to number of ACQ_obj_order\n"
       ]
      },
      {
       "output_type": "stream",
       "stream": "stderr",
       "text": [
        "/Library/Python/2.7/site-packages/scipy-0.13.0.dev_c31f167_20130514-py2.7-macosx-10.8-intel.egg/scipy/optimize/zeros.py:149: RuntimeWarning: Tolerance of 9.07297323327e+15 reached\n",
        "  warnings.warn(msg, RuntimeWarning)\n",
        "/Library/Python/2.7/site-packages/scipy-0.13.0.dev_c31f167_20130514-py2.7-macosx-10.8-intel.egg/scipy/optimize/zeros.py:149: RuntimeWarning: Tolerance of 2900724060.0 reached\n",
        "  warnings.warn(msg, RuntimeWarning)\n"
       ]
      },
      {
       "output_type": "stream",
       "stream": "stderr",
       "text": [
        "/Library/Python/2.7/site-packages/scipy-0.13.0.dev_c31f167_20130514-py2.7-macosx-10.8-intel.egg/scipy/optimize/zeros.py:149: RuntimeWarning: Tolerance of -3.48067104853e+15 reached\n",
        "  warnings.warn(msg, RuntimeWarning)\n",
        "/Library/Python/2.7/site-packages/scipy-0.13.0.dev_c31f167_20130514-py2.7-macosx-10.8-intel.egg/scipy/optimize/zeros.py:149: RuntimeWarning: Tolerance of 2.22533745394e+15 reached\n",
        "  warnings.warn(msg, RuntimeWarning)\n"
       ]
      },
      {
       "output_type": "stream",
       "stream": "stderr",
       "text": [
        "/Library/Python/2.7/site-packages/scipy-0.13.0.dev_c31f167_20130514-py2.7-macosx-10.8-intel.egg/scipy/optimize/zeros.py:149: RuntimeWarning: Tolerance of -1.30783271655e+15 reached\n",
        "  warnings.warn(msg, RuntimeWarning)\n",
        "/Library/Python/2.7/site-packages/scipy-0.13.0.dev_c31f167_20130514-py2.7-macosx-10.8-intel.egg/scipy/optimize/zeros.py:149: RuntimeWarning: Tolerance of -5.32133276807e+14 reached\n",
        "  warnings.warn(msg, RuntimeWarning)\n"
       ]
      },
      {
       "output_type": "stream",
       "stream": "stderr",
       "text": [
        "/Library/Python/2.7/site-packages/scipy-0.13.0.dev_c31f167_20130514-py2.7-macosx-10.8-intel.egg/scipy/optimize/zeros.py:149: RuntimeWarning: Tolerance of 1.96185815488e+15 reached\n",
        "  warnings.warn(msg, RuntimeWarning)\n",
        "/Library/Python/2.7/site-packages/scipy-0.13.0.dev_c31f167_20130514-py2.7-macosx-10.8-intel.egg/scipy/optimize/zeros.py:149: RuntimeWarning: Tolerance of 9.69643745695e+14 reached\n",
        "  warnings.warn(msg, RuntimeWarning)\n"
       ]
      },
      {
       "output_type": "stream",
       "stream": "stderr",
       "text": [
        "/Library/Python/2.7/site-packages/scipy-0.13.0.dev_c31f167_20130514-py2.7-macosx-10.8-intel.egg/scipy/optimize/zeros.py:149: RuntimeWarning: Tolerance of 4.72555194653e+16 reached\n",
        "  warnings.warn(msg, RuntimeWarning)\n",
        "/Library/Python/2.7/site-packages/scipy-0.13.0.dev_c31f167_20130514-py2.7-macosx-10.8-intel.egg/scipy/optimize/zeros.py:149: RuntimeWarning: Tolerance of 1.10953457806e+16 reached\n",
        "  warnings.warn(msg, RuntimeWarning)\n"
       ]
      },
      {
       "output_type": "stream",
       "stream": "stderr",
       "text": [
        "/Library/Python/2.7/site-packages/scipy-0.13.0.dev_c31f167_20130514-py2.7-macosx-10.8-intel.egg/scipy/optimize/zeros.py:149: RuntimeWarning: Tolerance of 7.79673202089e+15 reached\n",
        "  warnings.warn(msg, RuntimeWarning)\n",
        "/Library/Python/2.7/site-packages/scipy-0.13.0.dev_c31f167_20130514-py2.7-macosx-10.8-intel.egg/scipy/optimize/zeros.py:149: RuntimeWarning: Tolerance of 1.0909166679e+15 reached\n",
        "  warnings.warn(msg, RuntimeWarning)\n"
       ]
      },
      {
       "output_type": "stream",
       "stream": "stderr",
       "text": [
        "/Library/Python/2.7/site-packages/scipy-0.13.0.dev_c31f167_20130514-py2.7-macosx-10.8-intel.egg/scipy/optimize/zeros.py:149: RuntimeWarning: Tolerance of -6.08929586253e+14 reached\n",
        "  warnings.warn(msg, RuntimeWarning)\n",
        "/Library/Python/2.7/site-packages/scipy-0.13.0.dev_c31f167_20130514-py2.7-macosx-10.8-intel.egg/scipy/optimize/zeros.py:149: RuntimeWarning: Tolerance of 6.11774716494e+15 reached\n",
        "  warnings.warn(msg, RuntimeWarning)\n"
       ]
      },
      {
       "output_type": "stream",
       "stream": "stderr",
       "text": [
        "/Library/Python/2.7/site-packages/scipy-0.13.0.dev_c31f167_20130514-py2.7-macosx-10.8-intel.egg/scipy/optimize/zeros.py:149: RuntimeWarning: Tolerance of -1.68527714319e+13 reached\n",
        "  warnings.warn(msg, RuntimeWarning)\n",
        "/Library/Python/2.7/site-packages/scipy-0.13.0.dev_c31f167_20130514-py2.7-macosx-10.8-intel.egg/scipy/optimize/zeros.py:149: RuntimeWarning: Tolerance of -1.28090088062e+14 reached\n",
        "  warnings.warn(msg, RuntimeWarning)\n"
       ]
      },
      {
       "output_type": "stream",
       "stream": "stderr",
       "text": [
        "/Library/Python/2.7/site-packages/scipy-0.13.0.dev_c31f167_20130514-py2.7-macosx-10.8-intel.egg/scipy/optimize/zeros.py:149: RuntimeWarning: Tolerance of -9.62804851241e+16 reached\n",
        "  warnings.warn(msg, RuntimeWarning)\n",
        "/Library/Python/2.7/site-packages/scipy-0.13.0.dev_c31f167_20130514-py2.7-macosx-10.8-intel.egg/scipy/optimize/zeros.py:149: RuntimeWarning: Tolerance of 7.92804945691e+14 reached\n",
        "  warnings.warn(msg, RuntimeWarning)\n"
       ]
      },
      {
       "output_type": "stream",
       "stream": "stderr",
       "text": [
        "/Library/Python/2.7/site-packages/scipy-0.13.0.dev_c31f167_20130514-py2.7-macosx-10.8-intel.egg/scipy/optimize/zeros.py:149: RuntimeWarning: Tolerance of 2.58722927383e+16 reached\n",
        "  warnings.warn(msg, RuntimeWarning)\n",
        "/Library/Python/2.7/site-packages/scipy-0.13.0.dev_c31f167_20130514-py2.7-macosx-10.8-intel.egg/scipy/optimize/zeros.py:149: RuntimeWarning: Tolerance of -5.27849771676e+14 reached\n",
        "  warnings.warn(msg, RuntimeWarning)\n"
       ]
      },
      {
       "output_type": "stream",
       "stream": "stderr",
       "text": [
        "/Library/Python/2.7/site-packages/scipy-0.13.0.dev_c31f167_20130514-py2.7-macosx-10.8-intel.egg/scipy/optimize/zeros.py:149: RuntimeWarning: Tolerance of -5.24675614702e+13 reached\n",
        "  warnings.warn(msg, RuntimeWarning)\n",
        "/Library/Python/2.7/site-packages/scipy-0.13.0.dev_c31f167_20130514-py2.7-macosx-10.8-intel.egg/scipy/optimize/zeros.py:149: RuntimeWarning: Tolerance of 8.01109282911e+15 reached\n",
        "  warnings.warn(msg, RuntimeWarning)\n"
       ]
      },
      {
       "output_type": "stream",
       "stream": "stderr",
       "text": [
        "/Library/Python/2.7/site-packages/scipy-0.13.0.dev_c31f167_20130514-py2.7-macosx-10.8-intel.egg/scipy/optimize/zeros.py:149: RuntimeWarning: Tolerance of -1.0240637082e+15 reached\n",
        "  warnings.warn(msg, RuntimeWarning)\n",
        "/Library/Python/2.7/site-packages/scipy-0.13.0.dev_c31f167_20130514-py2.7-macosx-10.8-intel.egg/scipy/optimize/zeros.py:149: RuntimeWarning: Tolerance of -6.32170829172e+14 reached\n",
        "  warnings.warn(msg, RuntimeWarning)\n"
       ]
      },
      {
       "output_type": "stream",
       "stream": "stderr",
       "text": [
        "/Library/Python/2.7/site-packages/scipy-0.13.0.dev_c31f167_20130514-py2.7-macosx-10.8-intel.egg/scipy/optimize/zeros.py:149: RuntimeWarning: Tolerance of -5.70739948295e+16 reached\n",
        "  warnings.warn(msg, RuntimeWarning)\n",
        "/Library/Python/2.7/site-packages/scipy-0.13.0.dev_c31f167_20130514-py2.7-macosx-10.8-intel.egg/scipy/optimize/zeros.py:149: RuntimeWarning: Tolerance of 2.51686688095e+16 reached\n",
        "  warnings.warn(msg, RuntimeWarning)\n"
       ]
      },
      {
       "output_type": "stream",
       "stream": "stderr",
       "text": [
        "/Library/Python/2.7/site-packages/scipy-0.13.0.dev_c31f167_20130514-py2.7-macosx-10.8-intel.egg/scipy/optimize/zeros.py:149: RuntimeWarning: Tolerance of 3.45882170066e+16 reached\n",
        "  warnings.warn(msg, RuntimeWarning)\n",
        "/Library/Python/2.7/site-packages/scipy-0.13.0.dev_c31f167_20130514-py2.7-macosx-10.8-intel.egg/scipy/optimize/zeros.py:149: RuntimeWarning: Tolerance of 1.09045334072e+16 reached\n",
        "  warnings.warn(msg, RuntimeWarning)\n"
       ]
      },
      {
       "output_type": "stream",
       "stream": "stderr",
       "text": [
        "/Library/Python/2.7/site-packages/scipy-0.13.0.dev_c31f167_20130514-py2.7-macosx-10.8-intel.egg/scipy/optimize/zeros.py:149: RuntimeWarning: Tolerance of -6.35729664737e+14 reached\n",
        "  warnings.warn(msg, RuntimeWarning)\n",
        "/Library/Python/2.7/site-packages/scipy-0.13.0.dev_c31f167_20130514-py2.7-macosx-10.8-intel.egg/scipy/optimize/zeros.py:149: RuntimeWarning: Tolerance of 1.1107031093e+15 reached\n",
        "  warnings.warn(msg, RuntimeWarning)\n"
       ]
      },
      {
       "output_type": "stream",
       "stream": "stderr",
       "text": [
        "/Library/Python/2.7/site-packages/scipy-0.13.0.dev_c31f167_20130514-py2.7-macosx-10.8-intel.egg/scipy/optimize/zeros.py:149: RuntimeWarning: Tolerance of -2.14318757525e+15 reached\n",
        "  warnings.warn(msg, RuntimeWarning)\n",
        "/Library/Python/2.7/site-packages/scipy-0.13.0.dev_c31f167_20130514-py2.7-macosx-10.8-intel.egg/scipy/optimize/zeros.py:149: RuntimeWarning: Tolerance of -5.21271288612e+16 reached\n",
        "  warnings.warn(msg, RuntimeWarning)\n"
       ]
      },
      {
       "output_type": "stream",
       "stream": "stderr",
       "text": [
        "/Library/Python/2.7/site-packages/scipy-0.13.0.dev_c31f167_20130514-py2.7-macosx-10.8-intel.egg/scipy/optimize/zeros.py:149: RuntimeWarning: Tolerance of -1.70307413688e+16 reached\n",
        "  warnings.warn(msg, RuntimeWarning)\n",
        "/Library/Python/2.7/site-packages/scipy-0.13.0.dev_c31f167_20130514-py2.7-macosx-10.8-intel.egg/scipy/optimize/zeros.py:149: RuntimeWarning: Tolerance of -8.5741946e+12 reached\n",
        "  warnings.warn(msg, RuntimeWarning)\n"
       ]
      },
      {
       "output_type": "stream",
       "stream": "stderr",
       "text": [
        "/Library/Python/2.7/site-packages/scipy-0.13.0.dev_c31f167_20130514-py2.7-macosx-10.8-intel.egg/scipy/optimize/zeros.py:149: RuntimeWarning: Tolerance of 1.04199583836e+16 reached\n",
        "  warnings.warn(msg, RuntimeWarning)\n",
        "/Library/Python/2.7/site-packages/scipy-0.13.0.dev_c31f167_20130514-py2.7-macosx-10.8-intel.egg/scipy/optimize/zeros.py:149: RuntimeWarning: Tolerance of -4.71337848983e+14 reached\n",
        "  warnings.warn(msg, RuntimeWarning)\n"
       ]
      },
      {
       "output_type": "stream",
       "stream": "stderr",
       "text": [
        "/Library/Python/2.7/site-packages/scipy-0.13.0.dev_c31f167_20130514-py2.7-macosx-10.8-intel.egg/scipy/optimize/zeros.py:149: RuntimeWarning: Tolerance of -8.06255982757e+14 reached\n",
        "  warnings.warn(msg, RuntimeWarning)\n",
        "/Library/Python/2.7/site-packages/scipy-0.13.0.dev_c31f167_20130514-py2.7-macosx-10.8-intel.egg/scipy/optimize/zeros.py:149: RuntimeWarning: Tolerance of 1.3678174026e+16 reached\n",
        "  warnings.warn(msg, RuntimeWarning)\n"
       ]
      },
      {
       "output_type": "stream",
       "stream": "stderr",
       "text": [
        "/Library/Python/2.7/site-packages/scipy-0.13.0.dev_c31f167_20130514-py2.7-macosx-10.8-intel.egg/scipy/optimize/zeros.py:149: RuntimeWarning: Tolerance of 1.62809336516e+14 reached\n",
        "  warnings.warn(msg, RuntimeWarning)\n",
        "/Library/Python/2.7/site-packages/scipy-0.13.0.dev_c31f167_20130514-py2.7-macosx-10.8-intel.egg/scipy/optimize/zeros.py:149: RuntimeWarning: Tolerance of 3.06534199173e+13 reached\n",
        "  warnings.warn(msg, RuntimeWarning)\n"
       ]
      },
      {
       "output_type": "stream",
       "stream": "stderr",
       "text": [
        "/Library/Python/2.7/site-packages/scipy-0.13.0.dev_c31f167_20130514-py2.7-macosx-10.8-intel.egg/scipy/optimize/zeros.py:149: RuntimeWarning: Tolerance of 8.81769561954e+14 reached\n",
        "  warnings.warn(msg, RuntimeWarning)\n",
        "/Library/Python/2.7/site-packages/scipy-0.13.0.dev_c31f167_20130514-py2.7-macosx-10.8-intel.egg/scipy/optimize/zeros.py:149: RuntimeWarning: Tolerance of -1.6722632978e+16 reached\n",
        "  warnings.warn(msg, RuntimeWarning)\n"
       ]
      },
      {
       "output_type": "stream",
       "stream": "stderr",
       "text": [
        "/Library/Python/2.7/site-packages/scipy-0.13.0.dev_c31f167_20130514-py2.7-macosx-10.8-intel.egg/scipy/optimize/zeros.py:149: RuntimeWarning: Tolerance of 3.17339219651e+12 reached\n",
        "  warnings.warn(msg, RuntimeWarning)\n",
        "/Library/Python/2.7/site-packages/scipy-0.13.0.dev_c31f167_20130514-py2.7-macosx-10.8-intel.egg/scipy/optimize/zeros.py:149: RuntimeWarning: Tolerance of 6.94211032916e+15 reached\n",
        "  warnings.warn(msg, RuntimeWarning)\n"
       ]
      },
      {
       "output_type": "stream",
       "stream": "stderr",
       "text": [
        "/Library/Python/2.7/site-packages/scipy-0.13.0.dev_c31f167_20130514-py2.7-macosx-10.8-intel.egg/scipy/optimize/zeros.py:149: RuntimeWarning: Tolerance of 6.525642487e+14 reached\n",
        "  warnings.warn(msg, RuntimeWarning)\n",
        "/Library/Python/2.7/site-packages/scipy-0.13.0.dev_c31f167_20130514-py2.7-macosx-10.8-intel.egg/scipy/optimize/zeros.py:149: RuntimeWarning: Tolerance of -1.87338006964e+14 reached\n",
        "  warnings.warn(msg, RuntimeWarning)\n"
       ]
      },
      {
       "output_type": "stream",
       "stream": "stderr",
       "text": [
        "/Library/Python/2.7/site-packages/scipy-0.13.0.dev_c31f167_20130514-py2.7-macosx-10.8-intel.egg/scipy/optimize/zeros.py:149: RuntimeWarning: Tolerance of -2.78480500362e+13 reached\n",
        "  warnings.warn(msg, RuntimeWarning)\n",
        "/Library/Python/2.7/site-packages/scipy-0.13.0.dev_c31f167_20130514-py2.7-macosx-10.8-intel.egg/scipy/optimize/zeros.py:149: RuntimeWarning: Tolerance of -5.71887279763e+15 reached\n",
        "  warnings.warn(msg, RuntimeWarning)\n"
       ]
      },
      {
       "output_type": "stream",
       "stream": "stderr",
       "text": [
        "/Library/Python/2.7/site-packages/scipy-0.13.0.dev_c31f167_20130514-py2.7-macosx-10.8-intel.egg/scipy/optimize/zeros.py:149: RuntimeWarning: Tolerance of 2.39425111169e+14 reached\n",
        "  warnings.warn(msg, RuntimeWarning)\n",
        "/Library/Python/2.7/site-packages/scipy-0.13.0.dev_c31f167_20130514-py2.7-macosx-10.8-intel.egg/scipy/optimize/zeros.py:149: RuntimeWarning: Tolerance of -3.97766281727e+15 reached\n",
        "  warnings.warn(msg, RuntimeWarning)\n"
       ]
      },
      {
       "output_type": "stream",
       "stream": "stderr",
       "text": [
        "/Library/Python/2.7/site-packages/scipy-0.13.0.dev_c31f167_20130514-py2.7-macosx-10.8-intel.egg/scipy/optimize/zeros.py:149: RuntimeWarning: Tolerance of 4.98565255448e+15 reached\n",
        "  warnings.warn(msg, RuntimeWarning)\n",
        "/Library/Python/2.7/site-packages/scipy-0.13.0.dev_c31f167_20130514-py2.7-macosx-10.8-intel.egg/scipy/optimize/zeros.py:149: RuntimeWarning: Tolerance of -1.46323817308e+16 reached\n",
        "  warnings.warn(msg, RuntimeWarning)\n"
       ]
      },
      {
       "output_type": "stream",
       "stream": "stderr",
       "text": [
        "/Library/Python/2.7/site-packages/scipy-0.13.0.dev_c31f167_20130514-py2.7-macosx-10.8-intel.egg/scipy/optimize/zeros.py:149: RuntimeWarning: Tolerance of -1.70226519663e+14 reached\n",
        "  warnings.warn(msg, RuntimeWarning)\n",
        "/Library/Python/2.7/site-packages/scipy-0.13.0.dev_c31f167_20130514-py2.7-macosx-10.8-intel.egg/scipy/optimize/zeros.py:149: RuntimeWarning: Tolerance of -1.47251675113e+17 reached\n",
        "  warnings.warn(msg, RuntimeWarning)\n"
       ]
      },
      {
       "output_type": "stream",
       "stream": "stderr",
       "text": [
        "/Library/Python/2.7/site-packages/scipy-0.13.0.dev_c31f167_20130514-py2.7-macosx-10.8-intel.egg/scipy/optimize/zeros.py:149: RuntimeWarning: Tolerance of -1.5232468051e+17 reached\n",
        "  warnings.warn(msg, RuntimeWarning)\n",
        "/Library/Python/2.7/site-packages/scipy-0.13.0.dev_c31f167_20130514-py2.7-macosx-10.8-intel.egg/scipy/optimize/zeros.py:149: RuntimeWarning: Tolerance of 1.38564736239e+15 reached\n",
        "  warnings.warn(msg, RuntimeWarning)\n"
       ]
      },
      {
       "output_type": "stream",
       "stream": "stderr",
       "text": [
        "/Library/Python/2.7/site-packages/scipy-0.13.0.dev_c31f167_20130514-py2.7-macosx-10.8-intel.egg/scipy/optimize/zeros.py:149: RuntimeWarning: Tolerance of 2.363641571e+14 reached\n",
        "  warnings.warn(msg, RuntimeWarning)\n",
        "/Library/Python/2.7/site-packages/scipy-0.13.0.dev_c31f167_20130514-py2.7-macosx-10.8-intel.egg/scipy/optimize/zeros.py:149: RuntimeWarning: Tolerance of -2.5349220202e+13 reached\n",
        "  warnings.warn(msg, RuntimeWarning)\n"
       ]
      },
      {
       "output_type": "stream",
       "stream": "stderr",
       "text": [
        "/Library/Python/2.7/site-packages/scipy-0.13.0.dev_c31f167_20130514-py2.7-macosx-10.8-intel.egg/scipy/optimize/zeros.py:149: RuntimeWarning: Tolerance of 5.13443502103e+15 reached\n",
        "  warnings.warn(msg, RuntimeWarning)\n",
        "/Library/Python/2.7/site-packages/scipy-0.13.0.dev_c31f167_20130514-py2.7-macosx-10.8-intel.egg/scipy/optimize/zeros.py:149: RuntimeWarning: Tolerance of 7.19434649688e+16 reached\n",
        "  warnings.warn(msg, RuntimeWarning)\n"
       ]
      },
      {
       "output_type": "stream",
       "stream": "stderr",
       "text": [
        "/Library/Python/2.7/site-packages/scipy-0.13.0.dev_c31f167_20130514-py2.7-macosx-10.8-intel.egg/scipy/optimize/zeros.py:149: RuntimeWarning: Tolerance of 3.03816549689e+16 reached\n",
        "  warnings.warn(msg, RuntimeWarning)\n",
        "/Library/Python/2.7/site-packages/scipy-0.13.0.dev_c31f167_20130514-py2.7-macosx-10.8-intel.egg/scipy/optimize/zeros.py:149: RuntimeWarning: Tolerance of -6.33545760036e+14 reached\n",
        "  warnings.warn(msg, RuntimeWarning)\n"
       ]
      },
      {
       "output_type": "stream",
       "stream": "stderr",
       "text": [
        "/Library/Python/2.7/site-packages/scipy-0.13.0.dev_c31f167_20130514-py2.7-macosx-10.8-intel.egg/scipy/optimize/zeros.py:149: RuntimeWarning: Tolerance of -1.6631737262e+15 reached\n",
        "  warnings.warn(msg, RuntimeWarning)\n",
        "/Library/Python/2.7/site-packages/scipy-0.13.0.dev_c31f167_20130514-py2.7-macosx-10.8-intel.egg/scipy/optimize/zeros.py:149: RuntimeWarning: Tolerance of -8.87790033885e+15 reached\n",
        "  warnings.warn(msg, RuntimeWarning)\n"
       ]
      },
      {
       "output_type": "stream",
       "stream": "stderr",
       "text": [
        "/Library/Python/2.7/site-packages/scipy-0.13.0.dev_c31f167_20130514-py2.7-macosx-10.8-intel.egg/scipy/optimize/zeros.py:149: RuntimeWarning: Tolerance of -5.41172643224e+15 reached\n",
        "  warnings.warn(msg, RuntimeWarning)\n",
        "/Library/Python/2.7/site-packages/scipy-0.13.0.dev_c31f167_20130514-py2.7-macosx-10.8-intel.egg/scipy/optimize/zeros.py:149: RuntimeWarning: Tolerance of -2.5235799178e+14 reached\n",
        "  warnings.warn(msg, RuntimeWarning)\n"
       ]
      },
      {
       "output_type": "stream",
       "stream": "stderr",
       "text": [
        "/Library/Python/2.7/site-packages/scipy-0.13.0.dev_c31f167_20130514-py2.7-macosx-10.8-intel.egg/scipy/optimize/zeros.py:149: RuntimeWarning: Tolerance of 9.92669402997e+16 reached\n",
        "  warnings.warn(msg, RuntimeWarning)\n",
        "/Library/Python/2.7/site-packages/scipy-0.13.0.dev_c31f167_20130514-py2.7-macosx-10.8-intel.egg/scipy/optimize/zeros.py:149: RuntimeWarning: Tolerance of -7.86306694292e+14 reached\n",
        "  warnings.warn(msg, RuntimeWarning)\n"
       ]
      },
      {
       "output_type": "stream",
       "stream": "stderr",
       "text": [
        "/Library/Python/2.7/site-packages/scipy-0.13.0.dev_c31f167_20130514-py2.7-macosx-10.8-intel.egg/scipy/optimize/zeros.py:149: RuntimeWarning: Tolerance of 1.4581955981e+16 reached\n",
        "  warnings.warn(msg, RuntimeWarning)\n",
        "/Library/Python/2.7/site-packages/scipy-0.13.0.dev_c31f167_20130514-py2.7-macosx-10.8-intel.egg/scipy/optimize/zeros.py:149: RuntimeWarning: Tolerance of -2.85248767843e+15 reached\n",
        "  warnings.warn(msg, RuntimeWarning)\n"
       ]
      },
      {
       "output_type": "stream",
       "stream": "stderr",
       "text": [
        "/Library/Python/2.7/site-packages/scipy-0.13.0.dev_c31f167_20130514-py2.7-macosx-10.8-intel.egg/scipy/optimize/zeros.py:149: RuntimeWarning: Tolerance of 3.35821626466e+17 reached\n",
        "  warnings.warn(msg, RuntimeWarning)\n",
        "/Library/Python/2.7/site-packages/scipy-0.13.0.dev_c31f167_20130514-py2.7-macosx-10.8-intel.egg/scipy/optimize/zeros.py:149: RuntimeWarning: Tolerance of -1.62964556577e+16 reached\n",
        "  warnings.warn(msg, RuntimeWarning)\n"
       ]
      },
      {
       "output_type": "stream",
       "stream": "stderr",
       "text": [
        "/Library/Python/2.7/site-packages/scipy-0.13.0.dev_c31f167_20130514-py2.7-macosx-10.8-intel.egg/scipy/optimize/zeros.py:149: RuntimeWarning: Tolerance of 1.68865699856e+15 reached\n",
        "  warnings.warn(msg, RuntimeWarning)\n",
        "/Library/Python/2.7/site-packages/scipy-0.13.0.dev_c31f167_20130514-py2.7-macosx-10.8-intel.egg/scipy/optimize/zeros.py:149: RuntimeWarning: Tolerance of 6.15035841852e+15 reached\n",
        "  warnings.warn(msg, RuntimeWarning)\n"
       ]
      },
      {
       "output_type": "stream",
       "stream": "stderr",
       "text": [
        "/Library/Python/2.7/site-packages/scipy-0.13.0.dev_c31f167_20130514-py2.7-macosx-10.8-intel.egg/scipy/optimize/zeros.py:149: RuntimeWarning: Tolerance of -4.17093950571e+16 reached\n",
        "  warnings.warn(msg, RuntimeWarning)\n",
        "/Library/Python/2.7/site-packages/scipy-0.13.0.dev_c31f167_20130514-py2.7-macosx-10.8-intel.egg/scipy/optimize/zeros.py:149: RuntimeWarning: Tolerance of 3.11371356142e+15 reached\n",
        "  warnings.warn(msg, RuntimeWarning)\n"
       ]
      },
      {
       "output_type": "stream",
       "stream": "stderr",
       "text": [
        "/Library/Python/2.7/site-packages/scipy-0.13.0.dev_c31f167_20130514-py2.7-macosx-10.8-intel.egg/scipy/optimize/zeros.py:149: RuntimeWarning: Tolerance of -2.17600570775e+15 reached\n",
        "  warnings.warn(msg, RuntimeWarning)\n",
        "/Library/Python/2.7/site-packages/scipy-0.13.0.dev_c31f167_20130514-py2.7-macosx-10.8-intel.egg/scipy/optimize/zeros.py:149: RuntimeWarning: Tolerance of -1.73102710194e+15 reached\n",
        "  warnings.warn(msg, RuntimeWarning)\n"
       ]
      },
      {
       "output_type": "stream",
       "stream": "stderr",
       "text": [
        "/Library/Python/2.7/site-packages/scipy-0.13.0.dev_c31f167_20130514-py2.7-macosx-10.8-intel.egg/scipy/optimize/zeros.py:149: RuntimeWarning: Tolerance of 2.36796242671e+15 reached\n",
        "  warnings.warn(msg, RuntimeWarning)\n",
        "/Library/Python/2.7/site-packages/scipy-0.13.0.dev_c31f167_20130514-py2.7-macosx-10.8-intel.egg/scipy/optimize/zeros.py:149: RuntimeWarning: Tolerance of -2.8339200947e+14 reached\n",
        "  warnings.warn(msg, RuntimeWarning)\n"
       ]
      },
      {
       "output_type": "stream",
       "stream": "stderr",
       "text": [
        "/Library/Python/2.7/site-packages/scipy-0.13.0.dev_c31f167_20130514-py2.7-macosx-10.8-intel.egg/scipy/optimize/zeros.py:149: RuntimeWarning: Tolerance of 3.35434205111e+16 reached\n",
        "  warnings.warn(msg, RuntimeWarning)\n",
        "/Library/Python/2.7/site-packages/scipy-0.13.0.dev_c31f167_20130514-py2.7-macosx-10.8-intel.egg/scipy/optimize/zeros.py:149: RuntimeWarning: Tolerance of 6.70498637706e+16 reached\n",
        "  warnings.warn(msg, RuntimeWarning)\n"
       ]
      },
      {
       "output_type": "stream",
       "stream": "stderr",
       "text": [
        "/Library/Python/2.7/site-packages/scipy-0.13.0.dev_c31f167_20130514-py2.7-macosx-10.8-intel.egg/scipy/optimize/zeros.py:149: RuntimeWarning: Tolerance of 7.7503088134e+16 reached\n",
        "  warnings.warn(msg, RuntimeWarning)\n",
        "/Library/Python/2.7/site-packages/scipy-0.13.0.dev_c31f167_20130514-py2.7-macosx-10.8-intel.egg/scipy/optimize/zeros.py:149: RuntimeWarning: Tolerance of -1.89216781715e+14 reached\n",
        "  warnings.warn(msg, RuntimeWarning)\n"
       ]
      },
      {
       "output_type": "stream",
       "stream": "stderr",
       "text": [
        "/Library/Python/2.7/site-packages/scipy-0.13.0.dev_c31f167_20130514-py2.7-macosx-10.8-intel.egg/scipy/optimize/zeros.py:149: RuntimeWarning: Tolerance of 7.64277473471e+15 reached\n",
        "  warnings.warn(msg, RuntimeWarning)\n",
        "/Library/Python/2.7/site-packages/scipy-0.13.0.dev_c31f167_20130514-py2.7-macosx-10.8-intel.egg/scipy/optimize/zeros.py:149: RuntimeWarning: Tolerance of -1.25319608835e+15 reached\n",
        "  warnings.warn(msg, RuntimeWarning)\n"
       ]
      },
      {
       "output_type": "stream",
       "stream": "stderr",
       "text": [
        "/Library/Python/2.7/site-packages/scipy-0.13.0.dev_c31f167_20130514-py2.7-macosx-10.8-intel.egg/scipy/optimize/zeros.py:149: RuntimeWarning: Tolerance of 3.1405728989e+16 reached\n",
        "  warnings.warn(msg, RuntimeWarning)\n",
        "/Library/Python/2.7/site-packages/scipy-0.13.0.dev_c31f167_20130514-py2.7-macosx-10.8-intel.egg/scipy/optimize/zeros.py:149: RuntimeWarning: Tolerance of 5.51963896982e+13 reached\n",
        "  warnings.warn(msg, RuntimeWarning)\n"
       ]
      },
      {
       "output_type": "stream",
       "stream": "stderr",
       "text": [
        "/Library/Python/2.7/site-packages/scipy-0.13.0.dev_c31f167_20130514-py2.7-macosx-10.8-intel.egg/scipy/optimize/zeros.py:149: RuntimeWarning: Tolerance of -6.55941145711e+15 reached\n",
        "  warnings.warn(msg, RuntimeWarning)\n",
        "/Library/Python/2.7/site-packages/scipy-0.13.0.dev_c31f167_20130514-py2.7-macosx-10.8-intel.egg/scipy/optimize/zeros.py:149: RuntimeWarning: Tolerance of 2.97842549661e+16 reached\n",
        "  warnings.warn(msg, RuntimeWarning)\n"
       ]
      },
      {
       "output_type": "stream",
       "stream": "stderr",
       "text": [
        "/Library/Python/2.7/site-packages/scipy-0.13.0.dev_c31f167_20130514-py2.7-macosx-10.8-intel.egg/scipy/optimize/zeros.py:149: RuntimeWarning: Tolerance of -4.15124396784e+16 reached\n",
        "  warnings.warn(msg, RuntimeWarning)\n",
        "/Library/Python/2.7/site-packages/scipy-0.13.0.dev_c31f167_20130514-py2.7-macosx-10.8-intel.egg/scipy/optimize/zeros.py:149: RuntimeWarning: Tolerance of -4.39028588345e+15 reached\n",
        "  warnings.warn(msg, RuntimeWarning)\n"
       ]
      },
      {
       "output_type": "stream",
       "stream": "stderr",
       "text": [
        "/Library/Python/2.7/site-packages/scipy-0.13.0.dev_c31f167_20130514-py2.7-macosx-10.8-intel.egg/scipy/optimize/zeros.py:149: RuntimeWarning: Tolerance of 8.31031968622e+15 reached\n",
        "  warnings.warn(msg, RuntimeWarning)\n",
        "/Library/Python/2.7/site-packages/scipy-0.13.0.dev_c31f167_20130514-py2.7-macosx-10.8-intel.egg/scipy/optimize/zeros.py:149: RuntimeWarning: Tolerance of -7.92939496305e+12 reached\n",
        "  warnings.warn(msg, RuntimeWarning)\n"
       ]
      },
      {
       "output_type": "stream",
       "stream": "stderr",
       "text": [
        "/Library/Python/2.7/site-packages/scipy-0.13.0.dev_c31f167_20130514-py2.7-macosx-10.8-intel.egg/scipy/optimize/zeros.py:149: RuntimeWarning: Tolerance of -2.63332150047e+16 reached\n",
        "  warnings.warn(msg, RuntimeWarning)\n",
        "/Library/Python/2.7/site-packages/scipy-0.13.0.dev_c31f167_20130514-py2.7-macosx-10.8-intel.egg/scipy/optimize/zeros.py:149: RuntimeWarning: Tolerance of 4.87726002775e+15 reached\n",
        "  warnings.warn(msg, RuntimeWarning)\n"
       ]
      },
      {
       "output_type": "stream",
       "stream": "stderr",
       "text": [
        "/Library/Python/2.7/site-packages/scipy-0.13.0.dev_c31f167_20130514-py2.7-macosx-10.8-intel.egg/scipy/optimize/zeros.py:149: RuntimeWarning: Tolerance of 1.31631203774e+14 reached\n",
        "  warnings.warn(msg, RuntimeWarning)\n",
        "/Library/Python/2.7/site-packages/scipy-0.13.0.dev_c31f167_20130514-py2.7-macosx-10.8-intel.egg/scipy/optimize/zeros.py:149: RuntimeWarning: Tolerance of 7.4935743229e+15 reached\n",
        "  warnings.warn(msg, RuntimeWarning)\n"
       ]
      },
      {
       "output_type": "stream",
       "stream": "stderr",
       "text": [
        "/Library/Python/2.7/site-packages/scipy-0.13.0.dev_c31f167_20130514-py2.7-macosx-10.8-intel.egg/scipy/optimize/zeros.py:149: RuntimeWarning: Tolerance of -2.81645071946e+15 reached\n",
        "  warnings.warn(msg, RuntimeWarning)\n",
        "/Library/Python/2.7/site-packages/scipy-0.13.0.dev_c31f167_20130514-py2.7-macosx-10.8-intel.egg/scipy/optimize/zeros.py:149: RuntimeWarning: Tolerance of -4.47193206624e+12 reached\n",
        "  warnings.warn(msg, RuntimeWarning)\n"
       ]
      },
      {
       "output_type": "stream",
       "stream": "stderr",
       "text": [
        "/Library/Python/2.7/site-packages/scipy-0.13.0.dev_c31f167_20130514-py2.7-macosx-10.8-intel.egg/scipy/optimize/zeros.py:149: RuntimeWarning: Tolerance of -4.88141999649e+14 reached\n",
        "  warnings.warn(msg, RuntimeWarning)\n",
        "/Library/Python/2.7/site-packages/scipy-0.13.0.dev_c31f167_20130514-py2.7-macosx-10.8-intel.egg/scipy/optimize/zeros.py:149: RuntimeWarning: Tolerance of -3.89301029628e+15 reached\n",
        "  warnings.warn(msg, RuntimeWarning)\n"
       ]
      },
      {
       "output_type": "stream",
       "stream": "stderr",
       "text": [
        "/Library/Python/2.7/site-packages/scipy-0.13.0.dev_c31f167_20130514-py2.7-macosx-10.8-intel.egg/scipy/optimize/zeros.py:149: RuntimeWarning: Tolerance of -4.11274058686e+15 reached\n",
        "  warnings.warn(msg, RuntimeWarning)\n",
        "/Library/Python/2.7/site-packages/scipy-0.13.0.dev_c31f167_20130514-py2.7-macosx-10.8-intel.egg/scipy/optimize/zeros.py:149: RuntimeWarning: Tolerance of 2.15292885689e+15 reached\n",
        "  warnings.warn(msg, RuntimeWarning)\n"
       ]
      },
      {
       "output_type": "stream",
       "stream": "stderr",
       "text": [
        "/Library/Python/2.7/site-packages/scipy-0.13.0.dev_c31f167_20130514-py2.7-macosx-10.8-intel.egg/scipy/optimize/zeros.py:149: RuntimeWarning: Tolerance of 1.35131800381e+15 reached\n",
        "  warnings.warn(msg, RuntimeWarning)\n",
        "/Library/Python/2.7/site-packages/scipy-0.13.0.dev_c31f167_20130514-py2.7-macosx-10.8-intel.egg/scipy/optimize/zeros.py:149: RuntimeWarning: Tolerance of -4.71690406684e+16 reached\n",
        "  warnings.warn(msg, RuntimeWarning)\n"
       ]
      },
      {
       "output_type": "stream",
       "stream": "stderr",
       "text": [
        "/Library/Python/2.7/site-packages/scipy-0.13.0.dev_c31f167_20130514-py2.7-macosx-10.8-intel.egg/scipy/optimize/zeros.py:149: RuntimeWarning: Tolerance of 2.61849625563e+16 reached\n",
        "  warnings.warn(msg, RuntimeWarning)\n",
        "/Library/Python/2.7/site-packages/scipy-0.13.0.dev_c31f167_20130514-py2.7-macosx-10.8-intel.egg/scipy/optimize/zeros.py:149: RuntimeWarning: Tolerance of 1.27994226554e+16 reached\n",
        "  warnings.warn(msg, RuntimeWarning)\n"
       ]
      },
      {
       "output_type": "stream",
       "stream": "stdout",
       "text": [
        "\n",
        "deleting item T1map_LL"
       ]
      },
      {
       "output_type": "stream",
       "stream": "stdout",
       "text": [
        "\n",
        "deleting item T1map_LL_fitdict"
       ]
      },
      {
       "output_type": "stream",
       "stream": "stderr",
       "text": [
        "/Library/Python/2.7/site-packages/scipy-0.13.0.dev_c31f167_20130514-py2.7-macosx-10.8-intel.egg/scipy/optimize/zeros.py:149: RuntimeWarning: Tolerance of -3.28072791824e+15 reached\n",
        "  warnings.warn(msg, RuntimeWarning)\n",
        "WARNING:sarpy.io.BRUKERIO:NSLICES not equal to number of ACQ_obj_order\n"
       ]
      },
      {
       "output_type": "stream",
       "stream": "stderr",
       "text": [
        "/Library/Python/2.7/site-packages/scipy-0.13.0.dev_c31f167_20130514-py2.7-macosx-10.8-intel.egg/scipy/optimize/zeros.py:149: RuntimeWarning: Tolerance of 7.67474852408e+13 reached\n",
        "  warnings.warn(msg, RuntimeWarning)\n",
        "/Library/Python/2.7/site-packages/scipy-0.13.0.dev_c31f167_20130514-py2.7-macosx-10.8-intel.egg/scipy/optimize/zeros.py:149: RuntimeWarning: Tolerance of 4.13164656846e+17 reached\n",
        "  warnings.warn(msg, RuntimeWarning)\n"
       ]
      },
      {
       "output_type": "stream",
       "stream": "stderr",
       "text": [
        "/Library/Python/2.7/site-packages/scipy-0.13.0.dev_c31f167_20130514-py2.7-macosx-10.8-intel.egg/scipy/optimize/zeros.py:149: RuntimeWarning: Tolerance of -7.31297406838e+13 reached\n",
        "  warnings.warn(msg, RuntimeWarning)\n",
        "/Library/Python/2.7/site-packages/scipy-0.13.0.dev_c31f167_20130514-py2.7-macosx-10.8-intel.egg/scipy/optimize/zeros.py:149: RuntimeWarning: Tolerance of 2.30342918214e+16 reached\n",
        "  warnings.warn(msg, RuntimeWarning)\n"
       ]
      },
      {
       "output_type": "stream",
       "stream": "stderr",
       "text": [
        "/Library/Python/2.7/site-packages/scipy-0.13.0.dev_c31f167_20130514-py2.7-macosx-10.8-intel.egg/scipy/optimize/zeros.py:149: RuntimeWarning: Tolerance of 3.98966063588e+14 reached\n",
        "  warnings.warn(msg, RuntimeWarning)\n",
        "/Library/Python/2.7/site-packages/scipy-0.13.0.dev_c31f167_20130514-py2.7-macosx-10.8-intel.egg/scipy/optimize/zeros.py:149: RuntimeWarning: Tolerance of -6.66937062647e+15 reached\n",
        "  warnings.warn(msg, RuntimeWarning)\n"
       ]
      },
      {
       "output_type": "stream",
       "stream": "stderr",
       "text": [
        "/Library/Python/2.7/site-packages/scipy-0.13.0.dev_c31f167_20130514-py2.7-macosx-10.8-intel.egg/scipy/optimize/zeros.py:149: RuntimeWarning: Tolerance of 1.55715798795e+15 reached\n",
        "  warnings.warn(msg, RuntimeWarning)\n",
        "/Library/Python/2.7/site-packages/scipy-0.13.0.dev_c31f167_20130514-py2.7-macosx-10.8-intel.egg/scipy/optimize/zeros.py:149: RuntimeWarning: Tolerance of 2.8007759975e+16 reached\n",
        "  warnings.warn(msg, RuntimeWarning)\n"
       ]
      },
      {
       "output_type": "stream",
       "stream": "stderr",
       "text": [
        "/Library/Python/2.7/site-packages/scipy-0.13.0.dev_c31f167_20130514-py2.7-macosx-10.8-intel.egg/scipy/optimize/zeros.py:149: RuntimeWarning: Tolerance of 6.22179668773e+13 reached\n",
        "  warnings.warn(msg, RuntimeWarning)\n",
        "/Library/Python/2.7/site-packages/scipy-0.13.0.dev_c31f167_20130514-py2.7-macosx-10.8-intel.egg/scipy/optimize/zeros.py:149: RuntimeWarning: Tolerance of 2.96280627075e+15 reached\n",
        "  warnings.warn(msg, RuntimeWarning)\n"
       ]
      },
      {
       "output_type": "stream",
       "stream": "stderr",
       "text": [
        "/Library/Python/2.7/site-packages/scipy-0.13.0.dev_c31f167_20130514-py2.7-macosx-10.8-intel.egg/scipy/optimize/zeros.py:149: RuntimeWarning: Tolerance of 189302716764.0 reached\n",
        "  warnings.warn(msg, RuntimeWarning)\n",
        "/Library/Python/2.7/site-packages/scipy-0.13.0.dev_c31f167_20130514-py2.7-macosx-10.8-intel.egg/scipy/optimize/zeros.py:149: RuntimeWarning: Tolerance of 1.8229118711e+15 reached\n",
        "  warnings.warn(msg, RuntimeWarning)\n"
       ]
      },
      {
       "output_type": "stream",
       "stream": "stderr",
       "text": [
        "/Library/Python/2.7/site-packages/scipy-0.13.0.dev_c31f167_20130514-py2.7-macosx-10.8-intel.egg/scipy/optimize/zeros.py:149: RuntimeWarning: Tolerance of -3.42984069677e+16 reached\n",
        "  warnings.warn(msg, RuntimeWarning)\n",
        "/Library/Python/2.7/site-packages/scipy-0.13.0.dev_c31f167_20130514-py2.7-macosx-10.8-intel.egg/scipy/optimize/zeros.py:149: RuntimeWarning: Tolerance of 5.71201591429e+15 reached\n",
        "  warnings.warn(msg, RuntimeWarning)\n"
       ]
      },
      {
       "output_type": "stream",
       "stream": "stderr",
       "text": [
        "/Library/Python/2.7/site-packages/scipy-0.13.0.dev_c31f167_20130514-py2.7-macosx-10.8-intel.egg/scipy/optimize/zeros.py:149: RuntimeWarning: Tolerance of -6.72863233969e+16 reached\n",
        "  warnings.warn(msg, RuntimeWarning)\n",
        "/Library/Python/2.7/site-packages/scipy-0.13.0.dev_c31f167_20130514-py2.7-macosx-10.8-intel.egg/scipy/optimize/zeros.py:149: RuntimeWarning: Tolerance of -2.45062292635e+14 reached\n",
        "  warnings.warn(msg, RuntimeWarning)\n"
       ]
      },
      {
       "output_type": "stream",
       "stream": "stderr",
       "text": [
        "/Library/Python/2.7/site-packages/scipy-0.13.0.dev_c31f167_20130514-py2.7-macosx-10.8-intel.egg/scipy/optimize/zeros.py:149: RuntimeWarning: Tolerance of -3.70759668211e+16 reached\n",
        "  warnings.warn(msg, RuntimeWarning)\n",
        "/Library/Python/2.7/site-packages/scipy-0.13.0.dev_c31f167_20130514-py2.7-macosx-10.8-intel.egg/scipy/optimize/zeros.py:149: RuntimeWarning: Tolerance of 2.83623028665e+14 reached\n",
        "  warnings.warn(msg, RuntimeWarning)\n"
       ]
      },
      {
       "output_type": "stream",
       "stream": "stderr",
       "text": [
        "/Library/Python/2.7/site-packages/scipy-0.13.0.dev_c31f167_20130514-py2.7-macosx-10.8-intel.egg/scipy/optimize/zeros.py:149: RuntimeWarning: Tolerance of -4.50934908107e+14 reached\n",
        "  warnings.warn(msg, RuntimeWarning)\n",
        "/Library/Python/2.7/site-packages/scipy-0.13.0.dev_c31f167_20130514-py2.7-macosx-10.8-intel.egg/scipy/optimize/zeros.py:149: RuntimeWarning: Tolerance of -7.51760340957e+15 reached\n",
        "  warnings.warn(msg, RuntimeWarning)\n"
       ]
      },
      {
       "output_type": "stream",
       "stream": "stderr",
       "text": [
        "/Library/Python/2.7/site-packages/scipy-0.13.0.dev_c31f167_20130514-py2.7-macosx-10.8-intel.egg/scipy/optimize/zeros.py:149: RuntimeWarning: Tolerance of -1.89551004822e+14 reached\n",
        "  warnings.warn(msg, RuntimeWarning)\n",
        "/Library/Python/2.7/site-packages/scipy-0.13.0.dev_c31f167_20130514-py2.7-macosx-10.8-intel.egg/scipy/optimize/zeros.py:149: RuntimeWarning: Tolerance of 5.17431411341e+15 reached\n",
        "  warnings.warn(msg, RuntimeWarning)\n"
       ]
      },
      {
       "output_type": "stream",
       "stream": "stderr",
       "text": [
        "/Library/Python/2.7/site-packages/scipy-0.13.0.dev_c31f167_20130514-py2.7-macosx-10.8-intel.egg/scipy/optimize/zeros.py:149: RuntimeWarning: Tolerance of 1.1338764085e+16 reached\n",
        "  warnings.warn(msg, RuntimeWarning)\n",
        "/Library/Python/2.7/site-packages/scipy-0.13.0.dev_c31f167_20130514-py2.7-macosx-10.8-intel.egg/scipy/optimize/zeros.py:149: RuntimeWarning: Tolerance of 3.71846622058e+15 reached\n",
        "  warnings.warn(msg, RuntimeWarning)\n"
       ]
      },
      {
       "output_type": "stream",
       "stream": "stderr",
       "text": [
        "/Library/Python/2.7/site-packages/scipy-0.13.0.dev_c31f167_20130514-py2.7-macosx-10.8-intel.egg/scipy/optimize/zeros.py:149: RuntimeWarning: Tolerance of -4.19414192925e+18 reached\n",
        "  warnings.warn(msg, RuntimeWarning)\n",
        "/Library/Python/2.7/site-packages/scipy-0.13.0.dev_c31f167_20130514-py2.7-macosx-10.8-intel.egg/scipy/optimize/zeros.py:149: RuntimeWarning: Tolerance of -1.76713530712e+16 reached\n",
        "  warnings.warn(msg, RuntimeWarning)\n"
       ]
      },
      {
       "output_type": "stream",
       "stream": "stderr",
       "text": [
        "/Library/Python/2.7/site-packages/scipy-0.13.0.dev_c31f167_20130514-py2.7-macosx-10.8-intel.egg/scipy/optimize/zeros.py:149: RuntimeWarning: Tolerance of 2.09202827482e+15 reached\n",
        "  warnings.warn(msg, RuntimeWarning)\n",
        "/Library/Python/2.7/site-packages/scipy-0.13.0.dev_c31f167_20130514-py2.7-macosx-10.8-intel.egg/scipy/optimize/zeros.py:149: RuntimeWarning: Tolerance of -3.8896869837e+16 reached\n",
        "  warnings.warn(msg, RuntimeWarning)\n"
       ]
      },
      {
       "output_type": "stream",
       "stream": "stderr",
       "text": [
        "/Library/Python/2.7/site-packages/scipy-0.13.0.dev_c31f167_20130514-py2.7-macosx-10.8-intel.egg/scipy/optimize/zeros.py:149: RuntimeWarning: Tolerance of -2.68716552448e+16 reached\n",
        "  warnings.warn(msg, RuntimeWarning)\n",
        "/Library/Python/2.7/site-packages/scipy-0.13.0.dev_c31f167_20130514-py2.7-macosx-10.8-intel.egg/scipy/optimize/zeros.py:149: RuntimeWarning: Tolerance of -1.56606948132e+13 reached\n",
        "  warnings.warn(msg, RuntimeWarning)\n"
       ]
      },
      {
       "output_type": "stream",
       "stream": "stderr",
       "text": [
        "/Library/Python/2.7/site-packages/scipy-0.13.0.dev_c31f167_20130514-py2.7-macosx-10.8-intel.egg/scipy/optimize/zeros.py:149: RuntimeWarning: Tolerance of 8.85137015552e+13 reached\n",
        "  warnings.warn(msg, RuntimeWarning)\n",
        "/Library/Python/2.7/site-packages/scipy-0.13.0.dev_c31f167_20130514-py2.7-macosx-10.8-intel.egg/scipy/optimize/zeros.py:149: RuntimeWarning: Tolerance of 2.24828160677e+14 reached\n",
        "  warnings.warn(msg, RuntimeWarning)\n"
       ]
      },
      {
       "output_type": "stream",
       "stream": "stderr",
       "text": [
        "/Library/Python/2.7/site-packages/scipy-0.13.0.dev_c31f167_20130514-py2.7-macosx-10.8-intel.egg/scipy/optimize/zeros.py:149: RuntimeWarning: Tolerance of 9.91621545252e+14 reached\n",
        "  warnings.warn(msg, RuntimeWarning)\n",
        "/Library/Python/2.7/site-packages/scipy-0.13.0.dev_c31f167_20130514-py2.7-macosx-10.8-intel.egg/scipy/optimize/zeros.py:149: RuntimeWarning: Tolerance of -4.17387760257e+13 reached\n",
        "  warnings.warn(msg, RuntimeWarning)\n"
       ]
      },
      {
       "output_type": "stream",
       "stream": "stderr",
       "text": [
        "/Library/Python/2.7/site-packages/scipy-0.13.0.dev_c31f167_20130514-py2.7-macosx-10.8-intel.egg/scipy/optimize/zeros.py:149: RuntimeWarning: Tolerance of -3.66341888141e+16 reached\n",
        "  warnings.warn(msg, RuntimeWarning)\n",
        "/Library/Python/2.7/site-packages/scipy-0.13.0.dev_c31f167_20130514-py2.7-macosx-10.8-intel.egg/scipy/optimize/zeros.py:149: RuntimeWarning: Tolerance of 1.58980246414e+15 reached\n",
        "  warnings.warn(msg, RuntimeWarning)\n"
       ]
      },
      {
       "output_type": "stream",
       "stream": "stderr",
       "text": [
        "/Library/Python/2.7/site-packages/scipy-0.13.0.dev_c31f167_20130514-py2.7-macosx-10.8-intel.egg/scipy/optimize/zeros.py:149: RuntimeWarning: Tolerance of -1.23847037397e+16 reached\n",
        "  warnings.warn(msg, RuntimeWarning)\n",
        "/Library/Python/2.7/site-packages/scipy-0.13.0.dev_c31f167_20130514-py2.7-macosx-10.8-intel.egg/scipy/optimize/zeros.py:149: RuntimeWarning: Tolerance of -3.91534167474e+16 reached\n",
        "  warnings.warn(msg, RuntimeWarning)\n"
       ]
      },
      {
       "output_type": "stream",
       "stream": "stderr",
       "text": [
        "/Library/Python/2.7/site-packages/scipy-0.13.0.dev_c31f167_20130514-py2.7-macosx-10.8-intel.egg/scipy/optimize/zeros.py:149: RuntimeWarning: Tolerance of -1.24582248511e+15 reached\n",
        "  warnings.warn(msg, RuntimeWarning)\n",
        "/Library/Python/2.7/site-packages/scipy-0.13.0.dev_c31f167_20130514-py2.7-macosx-10.8-intel.egg/scipy/optimize/zeros.py:149: RuntimeWarning: Tolerance of 2.94397778681e+14 reached\n",
        "  warnings.warn(msg, RuntimeWarning)\n"
       ]
      },
      {
       "output_type": "stream",
       "stream": "stderr",
       "text": [
        "/Library/Python/2.7/site-packages/scipy-0.13.0.dev_c31f167_20130514-py2.7-macosx-10.8-intel.egg/scipy/optimize/zeros.py:149: RuntimeWarning: Tolerance of 4.44868637751e+14 reached\n",
        "  warnings.warn(msg, RuntimeWarning)\n",
        "/Library/Python/2.7/site-packages/scipy-0.13.0.dev_c31f167_20130514-py2.7-macosx-10.8-intel.egg/scipy/optimize/zeros.py:149: RuntimeWarning: Tolerance of 1.59731758325e+17 reached\n",
        "  warnings.warn(msg, RuntimeWarning)\n"
       ]
      },
      {
       "output_type": "stream",
       "stream": "stderr",
       "text": [
        "/Library/Python/2.7/site-packages/scipy-0.13.0.dev_c31f167_20130514-py2.7-macosx-10.8-intel.egg/scipy/optimize/zeros.py:149: RuntimeWarning: Tolerance of 1.39875097045e+17 reached\n",
        "  warnings.warn(msg, RuntimeWarning)\n",
        "/Library/Python/2.7/site-packages/scipy-0.13.0.dev_c31f167_20130514-py2.7-macosx-10.8-intel.egg/scipy/optimize/zeros.py:149: RuntimeWarning: Tolerance of -3.86151727636e+15 reached\n",
        "  warnings.warn(msg, RuntimeWarning)\n"
       ]
      },
      {
       "output_type": "stream",
       "stream": "stderr",
       "text": [
        "/Library/Python/2.7/site-packages/scipy-0.13.0.dev_c31f167_20130514-py2.7-macosx-10.8-intel.egg/scipy/optimize/zeros.py:149: RuntimeWarning: Tolerance of -3.20733211051e+16 reached\n",
        "  warnings.warn(msg, RuntimeWarning)\n",
        "/Library/Python/2.7/site-packages/scipy-0.13.0.dev_c31f167_20130514-py2.7-macosx-10.8-intel.egg/scipy/optimize/zeros.py:149: RuntimeWarning: Tolerance of 4.03490765369e+14 reached\n",
        "  warnings.warn(msg, RuntimeWarning)\n"
       ]
      },
      {
       "output_type": "stream",
       "stream": "stderr",
       "text": [
        "/Library/Python/2.7/site-packages/scipy-0.13.0.dev_c31f167_20130514-py2.7-macosx-10.8-intel.egg/scipy/optimize/zeros.py:149: RuntimeWarning: Tolerance of -3.42656369977e+16 reached\n",
        "  warnings.warn(msg, RuntimeWarning)\n",
        "/Library/Python/2.7/site-packages/scipy-0.13.0.dev_c31f167_20130514-py2.7-macosx-10.8-intel.egg/scipy/optimize/zeros.py:149: RuntimeWarning: Tolerance of 1.7888431085e+15 reached\n",
        "  warnings.warn(msg, RuntimeWarning)\n"
       ]
      },
      {
       "output_type": "stream",
       "stream": "stderr",
       "text": [
        "/Library/Python/2.7/site-packages/scipy-0.13.0.dev_c31f167_20130514-py2.7-macosx-10.8-intel.egg/scipy/optimize/zeros.py:149: RuntimeWarning: Tolerance of 1.02455819544e+14 reached\n",
        "  warnings.warn(msg, RuntimeWarning)\n",
        "/Library/Python/2.7/site-packages/scipy-0.13.0.dev_c31f167_20130514-py2.7-macosx-10.8-intel.egg/scipy/optimize/zeros.py:149: RuntimeWarning: Tolerance of -4.35861574414e+15 reached\n",
        "  warnings.warn(msg, RuntimeWarning)\n"
       ]
      },
      {
       "output_type": "stream",
       "stream": "stderr",
       "text": [
        "/Library/Python/2.7/site-packages/scipy-0.13.0.dev_c31f167_20130514-py2.7-macosx-10.8-intel.egg/scipy/optimize/zeros.py:149: RuntimeWarning: Tolerance of 1.39804251519e+15 reached\n",
        "  warnings.warn(msg, RuntimeWarning)\n",
        "/Library/Python/2.7/site-packages/scipy-0.13.0.dev_c31f167_20130514-py2.7-macosx-10.8-intel.egg/scipy/optimize/zeros.py:149: RuntimeWarning: Tolerance of 1.20374989416e+15 reached\n",
        "  warnings.warn(msg, RuntimeWarning)\n"
       ]
      },
      {
       "output_type": "stream",
       "stream": "stderr",
       "text": [
        "/Library/Python/2.7/site-packages/scipy-0.13.0.dev_c31f167_20130514-py2.7-macosx-10.8-intel.egg/scipy/optimize/zeros.py:149: RuntimeWarning: Tolerance of 2.58301169145e+16 reached\n",
        "  warnings.warn(msg, RuntimeWarning)\n",
        "/Library/Python/2.7/site-packages/scipy-0.13.0.dev_c31f167_20130514-py2.7-macosx-10.8-intel.egg/scipy/optimize/zeros.py:149: RuntimeWarning: Tolerance of -9.15887003903e+15 reached\n",
        "  warnings.warn(msg, RuntimeWarning)\n"
       ]
      },
      {
       "output_type": "stream",
       "stream": "stderr",
       "text": [
        "/Library/Python/2.7/site-packages/scipy-0.13.0.dev_c31f167_20130514-py2.7-macosx-10.8-intel.egg/scipy/optimize/zeros.py:149: RuntimeWarning: Tolerance of 9.05352632959e+14 reached\n",
        "  warnings.warn(msg, RuntimeWarning)\n",
        "/Library/Python/2.7/site-packages/scipy-0.13.0.dev_c31f167_20130514-py2.7-macosx-10.8-intel.egg/scipy/optimize/zeros.py:149: RuntimeWarning: Tolerance of -4.65544661439e+15 reached\n",
        "  warnings.warn(msg, RuntimeWarning)\n"
       ]
      },
      {
       "output_type": "stream",
       "stream": "stderr",
       "text": [
        "/Library/Python/2.7/site-packages/scipy-0.13.0.dev_c31f167_20130514-py2.7-macosx-10.8-intel.egg/scipy/optimize/zeros.py:149: RuntimeWarning: Tolerance of -3.2459116544e+14 reached\n",
        "  warnings.warn(msg, RuntimeWarning)\n",
        "/Library/Python/2.7/site-packages/scipy-0.13.0.dev_c31f167_20130514-py2.7-macosx-10.8-intel.egg/scipy/optimize/zeros.py:149: RuntimeWarning: Tolerance of -2.09998564576e+15 reached\n",
        "  warnings.warn(msg, RuntimeWarning)\n"
       ]
      },
      {
       "output_type": "stream",
       "stream": "stderr",
       "text": [
        "/Library/Python/2.7/site-packages/scipy-0.13.0.dev_c31f167_20130514-py2.7-macosx-10.8-intel.egg/scipy/optimize/zeros.py:149: RuntimeWarning: Tolerance of -1.48856590639e+15 reached\n",
        "  warnings.warn(msg, RuntimeWarning)\n",
        "/Library/Python/2.7/site-packages/scipy-0.13.0.dev_c31f167_20130514-py2.7-macosx-10.8-intel.egg/scipy/optimize/zeros.py:149: RuntimeWarning: Tolerance of -8.22702817986e+14 reached\n",
        "  warnings.warn(msg, RuntimeWarning)\n"
       ]
      },
      {
       "output_type": "stream",
       "stream": "stderr",
       "text": [
        "/Library/Python/2.7/site-packages/scipy-0.13.0.dev_c31f167_20130514-py2.7-macosx-10.8-intel.egg/scipy/optimize/zeros.py:149: RuntimeWarning: Tolerance of -5.36750629504e+14 reached\n",
        "  warnings.warn(msg, RuntimeWarning)\n",
        "/Library/Python/2.7/site-packages/scipy-0.13.0.dev_c31f167_20130514-py2.7-macosx-10.8-intel.egg/scipy/optimize/zeros.py:149: RuntimeWarning: Tolerance of -5.92760856394e+16 reached\n",
        "  warnings.warn(msg, RuntimeWarning)\n"
       ]
      },
      {
       "output_type": "stream",
       "stream": "stderr",
       "text": [
        "/Library/Python/2.7/site-packages/scipy-0.13.0.dev_c31f167_20130514-py2.7-macosx-10.8-intel.egg/scipy/optimize/zeros.py:149: RuntimeWarning: Tolerance of -3.71439281419e+15 reached\n",
        "  warnings.warn(msg, RuntimeWarning)\n",
        "/Library/Python/2.7/site-packages/scipy-0.13.0.dev_c31f167_20130514-py2.7-macosx-10.8-intel.egg/scipy/optimize/zeros.py:149: RuntimeWarning: Tolerance of 7.76779993874e+14 reached\n",
        "  warnings.warn(msg, RuntimeWarning)\n"
       ]
      },
      {
       "output_type": "stream",
       "stream": "stderr",
       "text": [
        "/Library/Python/2.7/site-packages/scipy-0.13.0.dev_c31f167_20130514-py2.7-macosx-10.8-intel.egg/scipy/optimize/zeros.py:149: RuntimeWarning: Tolerance of -7.3986621004e+15 reached\n",
        "  warnings.warn(msg, RuntimeWarning)\n",
        "/Library/Python/2.7/site-packages/scipy-0.13.0.dev_c31f167_20130514-py2.7-macosx-10.8-intel.egg/scipy/optimize/zeros.py:149: RuntimeWarning: Tolerance of 2.39531530402e+16 reached\n",
        "  warnings.warn(msg, RuntimeWarning)\n"
       ]
      },
      {
       "output_type": "stream",
       "stream": "stderr",
       "text": [
        "/Library/Python/2.7/site-packages/scipy-0.13.0.dev_c31f167_20130514-py2.7-macosx-10.8-intel.egg/scipy/optimize/zeros.py:149: RuntimeWarning: Tolerance of 216529580546.0 reached\n",
        "  warnings.warn(msg, RuntimeWarning)\n",
        "/Library/Python/2.7/site-packages/scipy-0.13.0.dev_c31f167_20130514-py2.7-macosx-10.8-intel.egg/scipy/optimize/zeros.py:149: RuntimeWarning: Tolerance of 7.52998913844e+13 reached\n",
        "  warnings.warn(msg, RuntimeWarning)\n"
       ]
      },
      {
       "output_type": "stream",
       "stream": "stderr",
       "text": [
        "/Library/Python/2.7/site-packages/scipy-0.13.0.dev_c31f167_20130514-py2.7-macosx-10.8-intel.egg/scipy/optimize/zeros.py:149: RuntimeWarning: Tolerance of -1.49827896431e+15 reached\n",
        "  warnings.warn(msg, RuntimeWarning)\n",
        "/Library/Python/2.7/site-packages/scipy-0.13.0.dev_c31f167_20130514-py2.7-macosx-10.8-intel.egg/scipy/optimize/zeros.py:149: RuntimeWarning: Tolerance of -9.21435042282e+16 reached\n",
        "  warnings.warn(msg, RuntimeWarning)\n"
       ]
      },
      {
       "output_type": "stream",
       "stream": "stderr",
       "text": [
        "/Library/Python/2.7/site-packages/scipy-0.13.0.dev_c31f167_20130514-py2.7-macosx-10.8-intel.egg/scipy/optimize/zeros.py:149: RuntimeWarning: Tolerance of 2.0002337578e+16 reached\n",
        "  warnings.warn(msg, RuntimeWarning)\n",
        "/Library/Python/2.7/site-packages/scipy-0.13.0.dev_c31f167_20130514-py2.7-macosx-10.8-intel.egg/scipy/optimize/zeros.py:149: RuntimeWarning: Tolerance of -2.50860042857e+16 reached\n",
        "  warnings.warn(msg, RuntimeWarning)\n"
       ]
      },
      {
       "output_type": "stream",
       "stream": "stderr",
       "text": [
        "/Library/Python/2.7/site-packages/scipy-0.13.0.dev_c31f167_20130514-py2.7-macosx-10.8-intel.egg/scipy/optimize/zeros.py:149: RuntimeWarning: Tolerance of -1.58578288467e+16 reached\n",
        "  warnings.warn(msg, RuntimeWarning)\n",
        "/Library/Python/2.7/site-packages/scipy-0.13.0.dev_c31f167_20130514-py2.7-macosx-10.8-intel.egg/scipy/optimize/zeros.py:149: RuntimeWarning: Tolerance of -5.68871318189e+13 reached\n",
        "  warnings.warn(msg, RuntimeWarning)\n"
       ]
      },
      {
       "output_type": "stream",
       "stream": "stderr",
       "text": [
        "/Library/Python/2.7/site-packages/scipy-0.13.0.dev_c31f167_20130514-py2.7-macosx-10.8-intel.egg/scipy/optimize/zeros.py:149: RuntimeWarning: Tolerance of -7.323526994e+15 reached\n",
        "  warnings.warn(msg, RuntimeWarning)\n",
        "/Library/Python/2.7/site-packages/scipy-0.13.0.dev_c31f167_20130514-py2.7-macosx-10.8-intel.egg/scipy/optimize/zeros.py:149: RuntimeWarning: Tolerance of 6.40884668931e+16 reached\n",
        "  warnings.warn(msg, RuntimeWarning)\n"
       ]
      },
      {
       "output_type": "stream",
       "stream": "stderr",
       "text": [
        "/Library/Python/2.7/site-packages/scipy-0.13.0.dev_c31f167_20130514-py2.7-macosx-10.8-intel.egg/scipy/optimize/zeros.py:149: RuntimeWarning: Tolerance of -2.96968215947e+15 reached\n",
        "  warnings.warn(msg, RuntimeWarning)\n",
        "/Library/Python/2.7/site-packages/scipy-0.13.0.dev_c31f167_20130514-py2.7-macosx-10.8-intel.egg/scipy/optimize/zeros.py:149: RuntimeWarning: Tolerance of -9.01880732686e+15 reached\n",
        "  warnings.warn(msg, RuntimeWarning)\n"
       ]
      },
      {
       "output_type": "stream",
       "stream": "stderr",
       "text": [
        "/Library/Python/2.7/site-packages/scipy-0.13.0.dev_c31f167_20130514-py2.7-macosx-10.8-intel.egg/scipy/optimize/zeros.py:149: RuntimeWarning: Tolerance of -3.12729726807e+15 reached\n",
        "  warnings.warn(msg, RuntimeWarning)\n",
        "/Library/Python/2.7/site-packages/scipy-0.13.0.dev_c31f167_20130514-py2.7-macosx-10.8-intel.egg/scipy/optimize/zeros.py:149: RuntimeWarning: Tolerance of -1.05085047226e+15 reached\n",
        "  warnings.warn(msg, RuntimeWarning)\n"
       ]
      },
      {
       "output_type": "stream",
       "stream": "stderr",
       "text": [
        "/Library/Python/2.7/site-packages/scipy-0.13.0.dev_c31f167_20130514-py2.7-macosx-10.8-intel.egg/scipy/optimize/zeros.py:149: RuntimeWarning: Tolerance of -4.13886630067e+15 reached\n",
        "  warnings.warn(msg, RuntimeWarning)\n",
        "/Library/Python/2.7/site-packages/scipy-0.13.0.dev_c31f167_20130514-py2.7-macosx-10.8-intel.egg/scipy/optimize/zeros.py:149: RuntimeWarning: Tolerance of 3.37722694448e+13 reached\n",
        "  warnings.warn(msg, RuntimeWarning)\n"
       ]
      },
      {
       "output_type": "stream",
       "stream": "stderr",
       "text": [
        "/Library/Python/2.7/site-packages/scipy-0.13.0.dev_c31f167_20130514-py2.7-macosx-10.8-intel.egg/scipy/optimize/zeros.py:149: RuntimeWarning: Tolerance of 9.2472538658e+16 reached\n",
        "  warnings.warn(msg, RuntimeWarning)\n",
        "/Library/Python/2.7/site-packages/scipy-0.13.0.dev_c31f167_20130514-py2.7-macosx-10.8-intel.egg/scipy/optimize/zeros.py:149: RuntimeWarning: Tolerance of 2.69402173253e+15 reached\n",
        "  warnings.warn(msg, RuntimeWarning)\n"
       ]
      },
      {
       "output_type": "stream",
       "stream": "stderr",
       "text": [
        "/Library/Python/2.7/site-packages/scipy-0.13.0.dev_c31f167_20130514-py2.7-macosx-10.8-intel.egg/scipy/optimize/zeros.py:149: RuntimeWarning: Tolerance of -8.85810357329e+15 reached\n",
        "  warnings.warn(msg, RuntimeWarning)\n",
        "/Library/Python/2.7/site-packages/scipy-0.13.0.dev_c31f167_20130514-py2.7-macosx-10.8-intel.egg/scipy/optimize/zeros.py:149: RuntimeWarning: Tolerance of -2.26726110667e+15 reached\n",
        "  warnings.warn(msg, RuntimeWarning)\n"
       ]
      },
      {
       "output_type": "stream",
       "stream": "stderr",
       "text": [
        "/Library/Python/2.7/site-packages/scipy-0.13.0.dev_c31f167_20130514-py2.7-macosx-10.8-intel.egg/scipy/optimize/zeros.py:149: RuntimeWarning: Tolerance of -3.62002514809e+13 reached\n",
        "  warnings.warn(msg, RuntimeWarning)\n",
        "/Library/Python/2.7/site-packages/scipy-0.13.0.dev_c31f167_20130514-py2.7-macosx-10.8-intel.egg/scipy/optimize/zeros.py:149: RuntimeWarning: Tolerance of -1.26566379793e+16 reached\n",
        "  warnings.warn(msg, RuntimeWarning)\n"
       ]
      },
      {
       "output_type": "stream",
       "stream": "stderr",
       "text": [
        "/Library/Python/2.7/site-packages/scipy-0.13.0.dev_c31f167_20130514-py2.7-macosx-10.8-intel.egg/scipy/optimize/zeros.py:149: RuntimeWarning: Tolerance of -1.20354443087e+15 reached\n",
        "  warnings.warn(msg, RuntimeWarning)\n",
        "/Library/Python/2.7/site-packages/scipy-0.13.0.dev_c31f167_20130514-py2.7-macosx-10.8-intel.egg/scipy/optimize/zeros.py:149: RuntimeWarning: Tolerance of 5.14157046252e+14 reached\n",
        "  warnings.warn(msg, RuntimeWarning)\n"
       ]
      },
      {
       "output_type": "stream",
       "stream": "stderr",
       "text": [
        "/Library/Python/2.7/site-packages/scipy-0.13.0.dev_c31f167_20130514-py2.7-macosx-10.8-intel.egg/scipy/optimize/zeros.py:149: RuntimeWarning: Tolerance of -8.13832396085e+15 reached\n",
        "  warnings.warn(msg, RuntimeWarning)\n",
        "/Library/Python/2.7/site-packages/scipy-0.13.0.dev_c31f167_20130514-py2.7-macosx-10.8-intel.egg/scipy/optimize/zeros.py:149: RuntimeWarning: Tolerance of 4.31444066021e+13 reached\n",
        "  warnings.warn(msg, RuntimeWarning)\n"
       ]
      },
      {
       "output_type": "stream",
       "stream": "stderr",
       "text": [
        "/Library/Python/2.7/site-packages/scipy-0.13.0.dev_c31f167_20130514-py2.7-macosx-10.8-intel.egg/scipy/optimize/zeros.py:149: RuntimeWarning: Tolerance of 2.82628851601e+15 reached\n",
        "  warnings.warn(msg, RuntimeWarning)\n",
        "/Library/Python/2.7/site-packages/scipy-0.13.0.dev_c31f167_20130514-py2.7-macosx-10.8-intel.egg/scipy/optimize/zeros.py:149: RuntimeWarning: Tolerance of -1.02355030521e+15 reached\n",
        "  warnings.warn(msg, RuntimeWarning)\n"
       ]
      },
      {
       "output_type": "stream",
       "stream": "stderr",
       "text": [
        "/Library/Python/2.7/site-packages/scipy-0.13.0.dev_c31f167_20130514-py2.7-macosx-10.8-intel.egg/scipy/optimize/zeros.py:149: RuntimeWarning: Tolerance of 6.40430423967e+15 reached\n",
        "  warnings.warn(msg, RuntimeWarning)\n",
        "/Library/Python/2.7/site-packages/scipy-0.13.0.dev_c31f167_20130514-py2.7-macosx-10.8-intel.egg/scipy/optimize/zeros.py:149: RuntimeWarning: Tolerance of -1.05778969072e+16 reached\n",
        "  warnings.warn(msg, RuntimeWarning)\n"
       ]
      },
      {
       "output_type": "stream",
       "stream": "stderr",
       "text": [
        "/Library/Python/2.7/site-packages/scipy-0.13.0.dev_c31f167_20130514-py2.7-macosx-10.8-intel.egg/scipy/optimize/zeros.py:149: RuntimeWarning: Tolerance of 3.01432629929e+17 reached\n",
        "  warnings.warn(msg, RuntimeWarning)\n",
        "/Library/Python/2.7/site-packages/scipy-0.13.0.dev_c31f167_20130514-py2.7-macosx-10.8-intel.egg/scipy/optimize/zeros.py:149: RuntimeWarning: Tolerance of -4.27138280842e+13 reached\n",
        "  warnings.warn(msg, RuntimeWarning)\n"
       ]
      },
      {
       "output_type": "stream",
       "stream": "stderr",
       "text": [
        "/Library/Python/2.7/site-packages/scipy-0.13.0.dev_c31f167_20130514-py2.7-macosx-10.8-intel.egg/scipy/optimize/zeros.py:149: RuntimeWarning: Tolerance of -3.6673414104e+15 reached\n",
        "  warnings.warn(msg, RuntimeWarning)\n",
        "/Library/Python/2.7/site-packages/scipy-0.13.0.dev_c31f167_20130514-py2.7-macosx-10.8-intel.egg/scipy/optimize/zeros.py:149: RuntimeWarning: Tolerance of 1.58456570928e+16 reached\n",
        "  warnings.warn(msg, RuntimeWarning)\n"
       ]
      },
      {
       "output_type": "stream",
       "stream": "stderr",
       "text": [
        "/Library/Python/2.7/site-packages/scipy-0.13.0.dev_c31f167_20130514-py2.7-macosx-10.8-intel.egg/scipy/optimize/zeros.py:149: RuntimeWarning: Tolerance of 2.95470866618e+16 reached\n",
        "  warnings.warn(msg, RuntimeWarning)\n",
        "/Library/Python/2.7/site-packages/scipy-0.13.0.dev_c31f167_20130514-py2.7-macosx-10.8-intel.egg/scipy/optimize/zeros.py:149: RuntimeWarning: Tolerance of 1.3154023586e+14 reached\n",
        "  warnings.warn(msg, RuntimeWarning)\n"
       ]
      },
      {
       "output_type": "stream",
       "stream": "stderr",
       "text": [
        "/Library/Python/2.7/site-packages/scipy-0.13.0.dev_c31f167_20130514-py2.7-macosx-10.8-intel.egg/scipy/optimize/zeros.py:149: RuntimeWarning: Tolerance of 4.58208378404e-05 reached\n",
        "  warnings.warn(msg, RuntimeWarning)\n",
        "/Library/Python/2.7/site-packages/scipy-0.13.0.dev_c31f167_20130514-py2.7-macosx-10.8-intel.egg/scipy/optimize/zeros.py:149: RuntimeWarning: Tolerance of -1.15659642016e+15 reached\n",
        "  warnings.warn(msg, RuntimeWarning)\n"
       ]
      },
      {
       "output_type": "stream",
       "stream": "stderr",
       "text": [
        "/Library/Python/2.7/site-packages/scipy-0.13.0.dev_c31f167_20130514-py2.7-macosx-10.8-intel.egg/scipy/optimize/zeros.py:149: RuntimeWarning: Tolerance of 3.86257407739e+16 reached\n",
        "  warnings.warn(msg, RuntimeWarning)\n",
        "/Library/Python/2.7/site-packages/scipy-0.13.0.dev_c31f167_20130514-py2.7-macosx-10.8-intel.egg/scipy/optimize/zeros.py:149: RuntimeWarning: Tolerance of 1.74569200243e+16 reached\n",
        "  warnings.warn(msg, RuntimeWarning)\n"
       ]
      },
      {
       "output_type": "stream",
       "stream": "stderr",
       "text": [
        "/Library/Python/2.7/site-packages/scipy-0.13.0.dev_c31f167_20130514-py2.7-macosx-10.8-intel.egg/scipy/optimize/zeros.py:149: RuntimeWarning: Tolerance of 8.79511750464e+14 reached\n",
        "  warnings.warn(msg, RuntimeWarning)\n",
        "/Library/Python/2.7/site-packages/scipy-0.13.0.dev_c31f167_20130514-py2.7-macosx-10.8-intel.egg/scipy/optimize/zeros.py:149: RuntimeWarning: Tolerance of -4.06560578122e+13 reached\n",
        "  warnings.warn(msg, RuntimeWarning)\n"
       ]
      },
      {
       "output_type": "stream",
       "stream": "stderr",
       "text": [
        "/Library/Python/2.7/site-packages/scipy-0.13.0.dev_c31f167_20130514-py2.7-macosx-10.8-intel.egg/scipy/optimize/zeros.py:149: RuntimeWarning: Tolerance of 7.18690855188e+13 reached\n",
        "  warnings.warn(msg, RuntimeWarning)\n",
        "/Library/Python/2.7/site-packages/scipy-0.13.0.dev_c31f167_20130514-py2.7-macosx-10.8-intel.egg/scipy/optimize/zeros.py:149: RuntimeWarning: Tolerance of 6.16397429566e+12 reached\n",
        "  warnings.warn(msg, RuntimeWarning)\n"
       ]
      },
      {
       "output_type": "stream",
       "stream": "stderr",
       "text": [
        "/Library/Python/2.7/site-packages/scipy-0.13.0.dev_c31f167_20130514-py2.7-macosx-10.8-intel.egg/scipy/optimize/zeros.py:149: RuntimeWarning: Tolerance of 1.36523722207e+14 reached\n",
        "  warnings.warn(msg, RuntimeWarning)\n",
        "/Library/Python/2.7/site-packages/scipy-0.13.0.dev_c31f167_20130514-py2.7-macosx-10.8-intel.egg/scipy/optimize/zeros.py:149: RuntimeWarning: Tolerance of -1.75466070399e+16 reached\n",
        "  warnings.warn(msg, RuntimeWarning)\n"
       ]
      },
      {
       "output_type": "stream",
       "stream": "stderr",
       "text": [
        "/Library/Python/2.7/site-packages/scipy-0.13.0.dev_c31f167_20130514-py2.7-macosx-10.8-intel.egg/scipy/optimize/zeros.py:149: RuntimeWarning: Tolerance of -7.52787699424e+16 reached\n",
        "  warnings.warn(msg, RuntimeWarning)\n",
        "/Library/Python/2.7/site-packages/scipy-0.13.0.dev_c31f167_20130514-py2.7-macosx-10.8-intel.egg/scipy/optimize/zeros.py:149: RuntimeWarning: Tolerance of -1.03793435281e+15 reached\n",
        "  warnings.warn(msg, RuntimeWarning)\n"
       ]
      },
      {
       "output_type": "stream",
       "stream": "stderr",
       "text": [
        "/Library/Python/2.7/site-packages/scipy-0.13.0.dev_c31f167_20130514-py2.7-macosx-10.8-intel.egg/scipy/optimize/zeros.py:149: RuntimeWarning: Tolerance of -2.17847943747e+16 reached\n",
        "  warnings.warn(msg, RuntimeWarning)\n",
        "/Library/Python/2.7/site-packages/scipy-0.13.0.dev_c31f167_20130514-py2.7-macosx-10.8-intel.egg/scipy/optimize/zeros.py:149: RuntimeWarning: Tolerance of -2.21795152641e+15 reached\n",
        "  warnings.warn(msg, RuntimeWarning)\n"
       ]
      },
      {
       "output_type": "stream",
       "stream": "stderr",
       "text": [
        "/Library/Python/2.7/site-packages/scipy-0.13.0.dev_c31f167_20130514-py2.7-macosx-10.8-intel.egg/scipy/optimize/zeros.py:149: RuntimeWarning: Tolerance of -1.10358346263e+16 reached\n",
        "  warnings.warn(msg, RuntimeWarning)\n",
        "/Library/Python/2.7/site-packages/scipy-0.13.0.dev_c31f167_20130514-py2.7-macosx-10.8-intel.egg/scipy/optimize/zeros.py:149: RuntimeWarning: Tolerance of -1.60258858592e+16 reached\n",
        "  warnings.warn(msg, RuntimeWarning)\n"
       ]
      },
      {
       "output_type": "stream",
       "stream": "stderr",
       "text": [
        "/Library/Python/2.7/site-packages/scipy-0.13.0.dev_c31f167_20130514-py2.7-macosx-10.8-intel.egg/scipy/optimize/zeros.py:149: RuntimeWarning: Tolerance of 1.87230990217e+15 reached\n",
        "  warnings.warn(msg, RuntimeWarning)\n",
        "/Library/Python/2.7/site-packages/scipy-0.13.0.dev_c31f167_20130514-py2.7-macosx-10.8-intel.egg/scipy/optimize/zeros.py:149: RuntimeWarning: Tolerance of 6.57988634963e+15 reached\n",
        "  warnings.warn(msg, RuntimeWarning)\n"
       ]
      },
      {
       "output_type": "stream",
       "stream": "stderr",
       "text": [
        "/Library/Python/2.7/site-packages/scipy-0.13.0.dev_c31f167_20130514-py2.7-macosx-10.8-intel.egg/scipy/optimize/zeros.py:149: RuntimeWarning: Tolerance of -7.28192198917e+16 reached\n",
        "  warnings.warn(msg, RuntimeWarning)\n",
        "/Library/Python/2.7/site-packages/scipy-0.13.0.dev_c31f167_20130514-py2.7-macosx-10.8-intel.egg/scipy/optimize/zeros.py:149: RuntimeWarning: Tolerance of 5.40167093277e-08 reached\n",
        "  warnings.warn(msg, RuntimeWarning)\n"
       ]
      },
      {
       "output_type": "stream",
       "stream": "stderr",
       "text": [
        "/Library/Python/2.7/site-packages/scipy-0.13.0.dev_c31f167_20130514-py2.7-macosx-10.8-intel.egg/scipy/optimize/zeros.py:149: RuntimeWarning: Tolerance of 4.57188983465e+14 reached\n",
        "  warnings.warn(msg, RuntimeWarning)\n",
        "/Library/Python/2.7/site-packages/scipy-0.13.0.dev_c31f167_20130514-py2.7-macosx-10.8-intel.egg/scipy/optimize/zeros.py:149: RuntimeWarning: Tolerance of -3.15870890193e+13 reached\n",
        "  warnings.warn(msg, RuntimeWarning)\n"
       ]
      },
      {
       "output_type": "stream",
       "stream": "stderr",
       "text": [
        "/Library/Python/2.7/site-packages/scipy-0.13.0.dev_c31f167_20130514-py2.7-macosx-10.8-intel.egg/scipy/optimize/zeros.py:149: RuntimeWarning: Tolerance of 2.54192296557e+16 reached\n",
        "  warnings.warn(msg, RuntimeWarning)\n",
        "/Library/Python/2.7/site-packages/scipy-0.13.0.dev_c31f167_20130514-py2.7-macosx-10.8-intel.egg/scipy/optimize/zeros.py:149: RuntimeWarning: Tolerance of 1.35605689198e+15 reached\n",
        "  warnings.warn(msg, RuntimeWarning)\n"
       ]
      },
      {
       "output_type": "stream",
       "stream": "stderr",
       "text": [
        "/Library/Python/2.7/site-packages/scipy-0.13.0.dev_c31f167_20130514-py2.7-macosx-10.8-intel.egg/scipy/optimize/zeros.py:149: RuntimeWarning: Tolerance of -5.234800378e+15 reached\n",
        "  warnings.warn(msg, RuntimeWarning)\n",
        "/Library/Python/2.7/site-packages/scipy-0.13.0.dev_c31f167_20130514-py2.7-macosx-10.8-intel.egg/scipy/optimize/zeros.py:149: RuntimeWarning: Tolerance of 8.78786549763e+15 reached\n",
        "  warnings.warn(msg, RuntimeWarning)\n"
       ]
      },
      {
       "output_type": "stream",
       "stream": "stdout",
       "text": [
        "\n",
        "deleting item T1map_LL"
       ]
      },
      {
       "output_type": "stream",
       "stream": "stdout",
       "text": [
        "\n",
        "deleting item T1map_LL_fitdict"
       ]
      },
      {
       "output_type": "stream",
       "stream": "stderr",
       "text": [
        "/Library/Python/2.7/site-packages/scipy-0.13.0.dev_c31f167_20130514-py2.7-macosx-10.8-intel.egg/scipy/optimize/zeros.py:149: RuntimeWarning: Tolerance of 5.03267572743e+14 reached\n",
        "  warnings.warn(msg, RuntimeWarning)\n",
        "WARNING:sarpy.io.BRUKERIO:NSLICES not equal to number of ACQ_obj_order\n"
       ]
      },
      {
       "output_type": "stream",
       "stream": "stderr",
       "text": [
        "/Library/Python/2.7/site-packages/scipy-0.13.0.dev_c31f167_20130514-py2.7-macosx-10.8-intel.egg/scipy/optimize/zeros.py:149: RuntimeWarning: Tolerance of -1.78355290482e+16 reached\n",
        "  warnings.warn(msg, RuntimeWarning)\n",
        "/Library/Python/2.7/site-packages/scipy-0.13.0.dev_c31f167_20130514-py2.7-macosx-10.8-intel.egg/scipy/optimize/zeros.py:149: RuntimeWarning: Tolerance of -3.93844618323e+16 reached\n",
        "  warnings.warn(msg, RuntimeWarning)\n"
       ]
      },
      {
       "output_type": "stream",
       "stream": "stderr",
       "text": [
        "/Library/Python/2.7/site-packages/scipy-0.13.0.dev_c31f167_20130514-py2.7-macosx-10.8-intel.egg/scipy/optimize/zeros.py:149: RuntimeWarning: Tolerance of -3.90167256722e+15 reached\n",
        "  warnings.warn(msg, RuntimeWarning)\n",
        "/Library/Python/2.7/site-packages/scipy-0.13.0.dev_c31f167_20130514-py2.7-macosx-10.8-intel.egg/scipy/optimize/zeros.py:149: RuntimeWarning: Tolerance of -5.8903539898e+16 reached\n",
        "  warnings.warn(msg, RuntimeWarning)\n"
       ]
      },
      {
       "output_type": "stream",
       "stream": "stderr",
       "text": [
        "/Library/Python/2.7/site-packages/scipy-0.13.0.dev_c31f167_20130514-py2.7-macosx-10.8-intel.egg/scipy/optimize/zeros.py:149: RuntimeWarning: Tolerance of 4.56291776041e+15 reached\n",
        "  warnings.warn(msg, RuntimeWarning)\n",
        "/Library/Python/2.7/site-packages/scipy-0.13.0.dev_c31f167_20130514-py2.7-macosx-10.8-intel.egg/scipy/optimize/zeros.py:149: RuntimeWarning: Tolerance of -3.03870761365e+15 reached\n",
        "  warnings.warn(msg, RuntimeWarning)\n"
       ]
      },
      {
       "output_type": "stream",
       "stream": "stderr",
       "text": [
        "/Library/Python/2.7/site-packages/scipy-0.13.0.dev_c31f167_20130514-py2.7-macosx-10.8-intel.egg/scipy/optimize/zeros.py:149: RuntimeWarning: Tolerance of -8.4749452161e+16 reached\n",
        "  warnings.warn(msg, RuntimeWarning)\n",
        "/Library/Python/2.7/site-packages/scipy-0.13.0.dev_c31f167_20130514-py2.7-macosx-10.8-intel.egg/scipy/optimize/zeros.py:149: RuntimeWarning: Tolerance of 1.49348172354e+16 reached\n",
        "  warnings.warn(msg, RuntimeWarning)\n"
       ]
      },
      {
       "output_type": "stream",
       "stream": "stderr",
       "text": [
        "/Library/Python/2.7/site-packages/scipy-0.13.0.dev_c31f167_20130514-py2.7-macosx-10.8-intel.egg/scipy/optimize/zeros.py:149: RuntimeWarning: Tolerance of 1.64191000072e+16 reached\n",
        "  warnings.warn(msg, RuntimeWarning)\n",
        "/Library/Python/2.7/site-packages/scipy-0.13.0.dev_c31f167_20130514-py2.7-macosx-10.8-intel.egg/scipy/optimize/zeros.py:149: RuntimeWarning: Tolerance of -5.95318780844e+15 reached\n",
        "  warnings.warn(msg, RuntimeWarning)\n"
       ]
      },
      {
       "output_type": "stream",
       "stream": "stderr",
       "text": [
        "/Library/Python/2.7/site-packages/scipy-0.13.0.dev_c31f167_20130514-py2.7-macosx-10.8-intel.egg/scipy/optimize/zeros.py:149: RuntimeWarning: Tolerance of -1.79905852553e+15 reached\n",
        "  warnings.warn(msg, RuntimeWarning)\n",
        "/Library/Python/2.7/site-packages/scipy-0.13.0.dev_c31f167_20130514-py2.7-macosx-10.8-intel.egg/scipy/optimize/zeros.py:149: RuntimeWarning: Tolerance of -1.19512105025e+16 reached\n",
        "  warnings.warn(msg, RuntimeWarning)\n"
       ]
      },
      {
       "output_type": "stream",
       "stream": "stderr",
       "text": [
        "/Library/Python/2.7/site-packages/scipy-0.13.0.dev_c31f167_20130514-py2.7-macosx-10.8-intel.egg/scipy/optimize/zeros.py:149: RuntimeWarning: Tolerance of -2.58350696799e+16 reached\n",
        "  warnings.warn(msg, RuntimeWarning)\n",
        "/Library/Python/2.7/site-packages/scipy-0.13.0.dev_c31f167_20130514-py2.7-macosx-10.8-intel.egg/scipy/optimize/zeros.py:149: RuntimeWarning: Tolerance of 6.61239027977e-08 reached\n",
        "  warnings.warn(msg, RuntimeWarning)\n"
       ]
      },
      {
       "output_type": "stream",
       "stream": "stderr",
       "text": [
        "/Library/Python/2.7/site-packages/scipy-0.13.0.dev_c31f167_20130514-py2.7-macosx-10.8-intel.egg/scipy/optimize/zeros.py:149: RuntimeWarning: Tolerance of 6.45844694456e+14 reached\n",
        "  warnings.warn(msg, RuntimeWarning)\n",
        "/Library/Python/2.7/site-packages/scipy-0.13.0.dev_c31f167_20130514-py2.7-macosx-10.8-intel.egg/scipy/optimize/zeros.py:149: RuntimeWarning: Tolerance of -1.62186158414e+16 reached\n",
        "  warnings.warn(msg, RuntimeWarning)\n"
       ]
      },
      {
       "output_type": "stream",
       "stream": "stderr",
       "text": [
        "/Library/Python/2.7/site-packages/scipy-0.13.0.dev_c31f167_20130514-py2.7-macosx-10.8-intel.egg/scipy/optimize/zeros.py:149: RuntimeWarning: Tolerance of -2.6965291436e+14 reached\n",
        "  warnings.warn(msg, RuntimeWarning)\n",
        "/Library/Python/2.7/site-packages/scipy-0.13.0.dev_c31f167_20130514-py2.7-macosx-10.8-intel.egg/scipy/optimize/zeros.py:149: RuntimeWarning: Tolerance of -3.26355254109e+16 reached\n",
        "  warnings.warn(msg, RuntimeWarning)\n"
       ]
      },
      {
       "output_type": "stream",
       "stream": "stderr",
       "text": [
        "/Library/Python/2.7/site-packages/scipy-0.13.0.dev_c31f167_20130514-py2.7-macosx-10.8-intel.egg/scipy/optimize/zeros.py:149: RuntimeWarning: Tolerance of 1.9606675354e+16 reached\n",
        "  warnings.warn(msg, RuntimeWarning)\n",
        "/Library/Python/2.7/site-packages/scipy-0.13.0.dev_c31f167_20130514-py2.7-macosx-10.8-intel.egg/scipy/optimize/zeros.py:149: RuntimeWarning: Tolerance of 6.74915931755e+15 reached\n",
        "  warnings.warn(msg, RuntimeWarning)\n"
       ]
      },
      {
       "output_type": "stream",
       "stream": "stderr",
       "text": [
        "/Library/Python/2.7/site-packages/scipy-0.13.0.dev_c31f167_20130514-py2.7-macosx-10.8-intel.egg/scipy/optimize/zeros.py:149: RuntimeWarning: Tolerance of 2.6954843532e+13 reached\n",
        "  warnings.warn(msg, RuntimeWarning)\n",
        "/Library/Python/2.7/site-packages/scipy-0.13.0.dev_c31f167_20130514-py2.7-macosx-10.8-intel.egg/scipy/optimize/zeros.py:149: RuntimeWarning: Tolerance of 1.18422454671e+16 reached\n",
        "  warnings.warn(msg, RuntimeWarning)\n"
       ]
      },
      {
       "output_type": "stream",
       "stream": "stderr",
       "text": [
        "/Library/Python/2.7/site-packages/scipy-0.13.0.dev_c31f167_20130514-py2.7-macosx-10.8-intel.egg/scipy/optimize/zeros.py:149: RuntimeWarning: Tolerance of -8.53479748356e+14 reached\n",
        "  warnings.warn(msg, RuntimeWarning)\n",
        "/Library/Python/2.7/site-packages/scipy-0.13.0.dev_c31f167_20130514-py2.7-macosx-10.8-intel.egg/scipy/optimize/zeros.py:149: RuntimeWarning: Tolerance of 7.79994010933e+16 reached\n",
        "  warnings.warn(msg, RuntimeWarning)\n"
       ]
      },
      {
       "output_type": "stream",
       "stream": "stderr",
       "text": [
        "/Library/Python/2.7/site-packages/scipy-0.13.0.dev_c31f167_20130514-py2.7-macosx-10.8-intel.egg/scipy/optimize/zeros.py:149: RuntimeWarning: Tolerance of -1.47585949131e+16 reached\n",
        "  warnings.warn(msg, RuntimeWarning)\n",
        "/Library/Python/2.7/site-packages/scipy-0.13.0.dev_c31f167_20130514-py2.7-macosx-10.8-intel.egg/scipy/optimize/zeros.py:149: RuntimeWarning: Tolerance of -7.14865586147e+14 reached\n",
        "  warnings.warn(msg, RuntimeWarning)\n"
       ]
      },
      {
       "output_type": "stream",
       "stream": "stderr",
       "text": [
        "/Library/Python/2.7/site-packages/scipy-0.13.0.dev_c31f167_20130514-py2.7-macosx-10.8-intel.egg/scipy/optimize/zeros.py:149: RuntimeWarning: Tolerance of 3.89194416904e+17 reached\n",
        "  warnings.warn(msg, RuntimeWarning)\n",
        "/Library/Python/2.7/site-packages/scipy-0.13.0.dev_c31f167_20130514-py2.7-macosx-10.8-intel.egg/scipy/optimize/zeros.py:149: RuntimeWarning: Tolerance of -4.68311925843e+16 reached\n",
        "  warnings.warn(msg, RuntimeWarning)\n"
       ]
      },
      {
       "output_type": "stream",
       "stream": "stderr",
       "text": [
        "/Library/Python/2.7/site-packages/scipy-0.13.0.dev_c31f167_20130514-py2.7-macosx-10.8-intel.egg/scipy/optimize/zeros.py:149: RuntimeWarning: Tolerance of -1.85280314173e+15 reached\n",
        "  warnings.warn(msg, RuntimeWarning)\n",
        "/Library/Python/2.7/site-packages/scipy-0.13.0.dev_c31f167_20130514-py2.7-macosx-10.8-intel.egg/scipy/optimize/zeros.py:149: RuntimeWarning: Tolerance of 1.82571200965e+15 reached\n",
        "  warnings.warn(msg, RuntimeWarning)\n"
       ]
      },
      {
       "output_type": "stream",
       "stream": "stderr",
       "text": [
        "/Library/Python/2.7/site-packages/scipy-0.13.0.dev_c31f167_20130514-py2.7-macosx-10.8-intel.egg/scipy/optimize/zeros.py:149: RuntimeWarning: Tolerance of -8.70540781677e+16 reached\n",
        "  warnings.warn(msg, RuntimeWarning)\n",
        "/Library/Python/2.7/site-packages/scipy-0.13.0.dev_c31f167_20130514-py2.7-macosx-10.8-intel.egg/scipy/optimize/zeros.py:149: RuntimeWarning: Tolerance of 5.51756519208e+15 reached\n",
        "  warnings.warn(msg, RuntimeWarning)\n"
       ]
      },
      {
       "output_type": "stream",
       "stream": "stderr",
       "text": [
        "/Library/Python/2.7/site-packages/scipy-0.13.0.dev_c31f167_20130514-py2.7-macosx-10.8-intel.egg/scipy/optimize/zeros.py:149: RuntimeWarning: Tolerance of 1.28667057113e+13 reached\n",
        "  warnings.warn(msg, RuntimeWarning)\n",
        "/Library/Python/2.7/site-packages/scipy-0.13.0.dev_c31f167_20130514-py2.7-macosx-10.8-intel.egg/scipy/optimize/zeros.py:149: RuntimeWarning: Tolerance of 2.96115211855e+15 reached\n",
        "  warnings.warn(msg, RuntimeWarning)\n"
       ]
      },
      {
       "output_type": "stream",
       "stream": "stderr",
       "text": [
        "/Library/Python/2.7/site-packages/scipy-0.13.0.dev_c31f167_20130514-py2.7-macosx-10.8-intel.egg/scipy/optimize/zeros.py:149: RuntimeWarning: Tolerance of -8.98603761306e+15 reached\n",
        "  warnings.warn(msg, RuntimeWarning)\n",
        "/Library/Python/2.7/site-packages/scipy-0.13.0.dev_c31f167_20130514-py2.7-macosx-10.8-intel.egg/scipy/optimize/zeros.py:149: RuntimeWarning: Tolerance of 1.25991593973e+15 reached\n",
        "  warnings.warn(msg, RuntimeWarning)\n"
       ]
      },
      {
       "output_type": "stream",
       "stream": "stderr",
       "text": [
        "/Library/Python/2.7/site-packages/scipy-0.13.0.dev_c31f167_20130514-py2.7-macosx-10.8-intel.egg/scipy/optimize/zeros.py:149: RuntimeWarning: Tolerance of 3.49004553813e+13 reached\n",
        "  warnings.warn(msg, RuntimeWarning)\n",
        "/Library/Python/2.7/site-packages/scipy-0.13.0.dev_c31f167_20130514-py2.7-macosx-10.8-intel.egg/scipy/optimize/zeros.py:149: RuntimeWarning: Tolerance of 1.80100571911e+13 reached\n",
        "  warnings.warn(msg, RuntimeWarning)\n"
       ]
      },
      {
       "output_type": "stream",
       "stream": "stderr",
       "text": [
        "/Library/Python/2.7/site-packages/scipy-0.13.0.dev_c31f167_20130514-py2.7-macosx-10.8-intel.egg/scipy/optimize/zeros.py:149: RuntimeWarning: Tolerance of -1.18955098801e+17 reached\n",
        "  warnings.warn(msg, RuntimeWarning)\n",
        "/Library/Python/2.7/site-packages/scipy-0.13.0.dev_c31f167_20130514-py2.7-macosx-10.8-intel.egg/scipy/optimize/zeros.py:149: RuntimeWarning: Tolerance of 9.14538562674e+14 reached\n",
        "  warnings.warn(msg, RuntimeWarning)\n"
       ]
      },
      {
       "output_type": "stream",
       "stream": "stderr",
       "text": [
        "/Library/Python/2.7/site-packages/scipy-0.13.0.dev_c31f167_20130514-py2.7-macosx-10.8-intel.egg/scipy/optimize/zeros.py:149: RuntimeWarning: Tolerance of -5.11612848251e+16 reached\n",
        "  warnings.warn(msg, RuntimeWarning)\n",
        "/Library/Python/2.7/site-packages/scipy-0.13.0.dev_c31f167_20130514-py2.7-macosx-10.8-intel.egg/scipy/optimize/zeros.py:149: RuntimeWarning: Tolerance of 1.24206252666e+14 reached\n",
        "  warnings.warn(msg, RuntimeWarning)\n"
       ]
      },
      {
       "output_type": "stream",
       "stream": "stderr",
       "text": [
        "/Library/Python/2.7/site-packages/scipy-0.13.0.dev_c31f167_20130514-py2.7-macosx-10.8-intel.egg/scipy/optimize/zeros.py:149: RuntimeWarning: Tolerance of 8.33379422704e+15 reached\n",
        "  warnings.warn(msg, RuntimeWarning)\n",
        "/Library/Python/2.7/site-packages/scipy-0.13.0.dev_c31f167_20130514-py2.7-macosx-10.8-intel.egg/scipy/optimize/zeros.py:149: RuntimeWarning: Tolerance of -1.58606519195e+16 reached\n",
        "  warnings.warn(msg, RuntimeWarning)\n"
       ]
      },
      {
       "output_type": "stream",
       "stream": "stderr",
       "text": [
        "/Library/Python/2.7/site-packages/scipy-0.13.0.dev_c31f167_20130514-py2.7-macosx-10.8-intel.egg/scipy/optimize/zeros.py:149: RuntimeWarning: Tolerance of 3.93666978953e+15 reached\n",
        "  warnings.warn(msg, RuntimeWarning)\n",
        "/Library/Python/2.7/site-packages/scipy-0.13.0.dev_c31f167_20130514-py2.7-macosx-10.8-intel.egg/scipy/optimize/zeros.py:149: RuntimeWarning: Tolerance of -1.89865972012e+16 reached\n",
        "  warnings.warn(msg, RuntimeWarning)\n"
       ]
      },
      {
       "output_type": "stream",
       "stream": "stderr",
       "text": [
        "/Library/Python/2.7/site-packages/scipy-0.13.0.dev_c31f167_20130514-py2.7-macosx-10.8-intel.egg/scipy/optimize/zeros.py:149: RuntimeWarning: Tolerance of 4.96725581774e+12 reached\n",
        "  warnings.warn(msg, RuntimeWarning)\n",
        "/Library/Python/2.7/site-packages/scipy-0.13.0.dev_c31f167_20130514-py2.7-macosx-10.8-intel.egg/scipy/optimize/zeros.py:149: RuntimeWarning: Tolerance of 2.6379374427e+16 reached\n",
        "  warnings.warn(msg, RuntimeWarning)\n"
       ]
      },
      {
       "output_type": "stream",
       "stream": "stderr",
       "text": [
        "/Library/Python/2.7/site-packages/scipy-0.13.0.dev_c31f167_20130514-py2.7-macosx-10.8-intel.egg/scipy/optimize/zeros.py:149: RuntimeWarning: Tolerance of -2.11259926787e+15 reached\n",
        "  warnings.warn(msg, RuntimeWarning)\n",
        "/Library/Python/2.7/site-packages/scipy-0.13.0.dev_c31f167_20130514-py2.7-macosx-10.8-intel.egg/scipy/optimize/zeros.py:149: RuntimeWarning: Tolerance of 2.90608868815e+15 reached\n",
        "  warnings.warn(msg, RuntimeWarning)\n"
       ]
      },
      {
       "output_type": "stream",
       "stream": "stderr",
       "text": [
        "/Library/Python/2.7/site-packages/scipy-0.13.0.dev_c31f167_20130514-py2.7-macosx-10.8-intel.egg/scipy/optimize/zeros.py:149: RuntimeWarning: Tolerance of 2.35164636687e+16 reached\n",
        "  warnings.warn(msg, RuntimeWarning)\n",
        "/Library/Python/2.7/site-packages/scipy-0.13.0.dev_c31f167_20130514-py2.7-macosx-10.8-intel.egg/scipy/optimize/zeros.py:149: RuntimeWarning: Tolerance of 1.11384681598e+15 reached\n",
        "  warnings.warn(msg, RuntimeWarning)\n"
       ]
      },
      {
       "output_type": "stream",
       "stream": "stderr",
       "text": [
        "/Library/Python/2.7/site-packages/scipy-0.13.0.dev_c31f167_20130514-py2.7-macosx-10.8-intel.egg/scipy/optimize/zeros.py:149: RuntimeWarning: Tolerance of -1.17567286767e+16 reached\n",
        "  warnings.warn(msg, RuntimeWarning)\n",
        "/Library/Python/2.7/site-packages/scipy-0.13.0.dev_c31f167_20130514-py2.7-macosx-10.8-intel.egg/scipy/optimize/zeros.py:149: RuntimeWarning: Tolerance of -1.72717947098e+15 reached\n",
        "  warnings.warn(msg, RuntimeWarning)\n"
       ]
      },
      {
       "output_type": "stream",
       "stream": "stderr",
       "text": [
        "/Library/Python/2.7/site-packages/scipy-0.13.0.dev_c31f167_20130514-py2.7-macosx-10.8-intel.egg/scipy/optimize/zeros.py:149: RuntimeWarning: Tolerance of -24168810539.0 reached\n",
        "  warnings.warn(msg, RuntimeWarning)\n",
        "/Library/Python/2.7/site-packages/scipy-0.13.0.dev_c31f167_20130514-py2.7-macosx-10.8-intel.egg/scipy/optimize/zeros.py:149: RuntimeWarning: Tolerance of 3.50840464642e+14 reached\n",
        "  warnings.warn(msg, RuntimeWarning)\n"
       ]
      },
      {
       "output_type": "stream",
       "stream": "stderr",
       "text": [
        "/Library/Python/2.7/site-packages/scipy-0.13.0.dev_c31f167_20130514-py2.7-macosx-10.8-intel.egg/scipy/optimize/zeros.py:149: RuntimeWarning: Tolerance of -2.91475807014e+13 reached\n",
        "  warnings.warn(msg, RuntimeWarning)\n",
        "/Library/Python/2.7/site-packages/scipy-0.13.0.dev_c31f167_20130514-py2.7-macosx-10.8-intel.egg/scipy/optimize/zeros.py:149: RuntimeWarning: Tolerance of -5.0382224733e+16 reached\n",
        "  warnings.warn(msg, RuntimeWarning)\n"
       ]
      },
      {
       "output_type": "stream",
       "stream": "stderr",
       "text": [
        "/Library/Python/2.7/site-packages/scipy-0.13.0.dev_c31f167_20130514-py2.7-macosx-10.8-intel.egg/scipy/optimize/zeros.py:149: RuntimeWarning: Tolerance of -3.38234013651e+15 reached\n",
        "  warnings.warn(msg, RuntimeWarning)\n",
        "/Library/Python/2.7/site-packages/scipy-0.13.0.dev_c31f167_20130514-py2.7-macosx-10.8-intel.egg/scipy/optimize/zeros.py:149: RuntimeWarning: Tolerance of 6.24819698756e+15 reached\n",
        "  warnings.warn(msg, RuntimeWarning)\n"
       ]
      },
      {
       "output_type": "stream",
       "stream": "stderr",
       "text": [
        "/Library/Python/2.7/site-packages/scipy-0.13.0.dev_c31f167_20130514-py2.7-macosx-10.8-intel.egg/scipy/optimize/zeros.py:149: RuntimeWarning: Tolerance of 1.41345380515e+16 reached\n",
        "  warnings.warn(msg, RuntimeWarning)\n",
        "/Library/Python/2.7/site-packages/scipy-0.13.0.dev_c31f167_20130514-py2.7-macosx-10.8-intel.egg/scipy/optimize/zeros.py:149: RuntimeWarning: Tolerance of -7.9582684028e+16 reached\n",
        "  warnings.warn(msg, RuntimeWarning)\n"
       ]
      },
      {
       "output_type": "stream",
       "stream": "stderr",
       "text": [
        "/Library/Python/2.7/site-packages/scipy-0.13.0.dev_c31f167_20130514-py2.7-macosx-10.8-intel.egg/scipy/optimize/zeros.py:149: RuntimeWarning: Tolerance of 1.21196145713e+14 reached\n",
        "  warnings.warn(msg, RuntimeWarning)\n",
        "/Library/Python/2.7/site-packages/scipy-0.13.0.dev_c31f167_20130514-py2.7-macosx-10.8-intel.egg/scipy/optimize/zeros.py:149: RuntimeWarning: Tolerance of 2.59587852322e+16 reached\n",
        "  warnings.warn(msg, RuntimeWarning)\n"
       ]
      },
      {
       "output_type": "stream",
       "stream": "stderr",
       "text": [
        "/Library/Python/2.7/site-packages/scipy-0.13.0.dev_c31f167_20130514-py2.7-macosx-10.8-intel.egg/scipy/optimize/zeros.py:149: RuntimeWarning: Tolerance of -4.06242721679e+16 reached\n",
        "  warnings.warn(msg, RuntimeWarning)\n",
        "/Library/Python/2.7/site-packages/scipy-0.13.0.dev_c31f167_20130514-py2.7-macosx-10.8-intel.egg/scipy/optimize/zeros.py:149: RuntimeWarning: Tolerance of -8.63045537296e+15 reached\n",
        "  warnings.warn(msg, RuntimeWarning)\n"
       ]
      },
      {
       "output_type": "stream",
       "stream": "stderr",
       "text": [
        "/Library/Python/2.7/site-packages/scipy-0.13.0.dev_c31f167_20130514-py2.7-macosx-10.8-intel.egg/scipy/optimize/zeros.py:149: RuntimeWarning: Tolerance of 3.87518143568e+13 reached\n",
        "  warnings.warn(msg, RuntimeWarning)\n",
        "/Library/Python/2.7/site-packages/scipy-0.13.0.dev_c31f167_20130514-py2.7-macosx-10.8-intel.egg/scipy/optimize/zeros.py:149: RuntimeWarning: Tolerance of -9.70253938063e+14 reached\n",
        "  warnings.warn(msg, RuntimeWarning)\n"
       ]
      },
      {
       "output_type": "stream",
       "stream": "stderr",
       "text": [
        "/Library/Python/2.7/site-packages/scipy-0.13.0.dev_c31f167_20130514-py2.7-macosx-10.8-intel.egg/scipy/optimize/zeros.py:149: RuntimeWarning: Tolerance of -1.13727754966e+15 reached\n",
        "  warnings.warn(msg, RuntimeWarning)\n",
        "/Library/Python/2.7/site-packages/scipy-0.13.0.dev_c31f167_20130514-py2.7-macosx-10.8-intel.egg/scipy/optimize/zeros.py:149: RuntimeWarning: Tolerance of 2.02035085341e+16 reached\n",
        "  warnings.warn(msg, RuntimeWarning)\n"
       ]
      },
      {
       "output_type": "stream",
       "stream": "stderr",
       "text": [
        "/Library/Python/2.7/site-packages/scipy-0.13.0.dev_c31f167_20130514-py2.7-macosx-10.8-intel.egg/scipy/optimize/zeros.py:149: RuntimeWarning: Tolerance of 1.21880076858e+13 reached\n",
        "  warnings.warn(msg, RuntimeWarning)\n",
        "/Library/Python/2.7/site-packages/scipy-0.13.0.dev_c31f167_20130514-py2.7-macosx-10.8-intel.egg/scipy/optimize/zeros.py:149: RuntimeWarning: Tolerance of 1.83428140288e+14 reached\n",
        "  warnings.warn(msg, RuntimeWarning)\n"
       ]
      },
      {
       "output_type": "stream",
       "stream": "stderr",
       "text": [
        "/Library/Python/2.7/site-packages/scipy-0.13.0.dev_c31f167_20130514-py2.7-macosx-10.8-intel.egg/scipy/optimize/zeros.py:149: RuntimeWarning: Tolerance of -1.15556641653e+15 reached\n",
        "  warnings.warn(msg, RuntimeWarning)\n",
        "/Library/Python/2.7/site-packages/scipy-0.13.0.dev_c31f167_20130514-py2.7-macosx-10.8-intel.egg/scipy/optimize/zeros.py:149: RuntimeWarning: Tolerance of 8.16754932737e+17 reached\n",
        "  warnings.warn(msg, RuntimeWarning)\n"
       ]
      },
      {
       "output_type": "stream",
       "stream": "stderr",
       "text": [
        "/Library/Python/2.7/site-packages/scipy-0.13.0.dev_c31f167_20130514-py2.7-macosx-10.8-intel.egg/scipy/optimize/zeros.py:149: RuntimeWarning: Tolerance of -1.76588551297e+15 reached\n",
        "  warnings.warn(msg, RuntimeWarning)\n",
        "/Library/Python/2.7/site-packages/scipy-0.13.0.dev_c31f167_20130514-py2.7-macosx-10.8-intel.egg/scipy/optimize/zeros.py:149: RuntimeWarning: Tolerance of -7.35316802227e+16 reached\n",
        "  warnings.warn(msg, RuntimeWarning)\n"
       ]
      },
      {
       "output_type": "stream",
       "stream": "stderr",
       "text": [
        "/Library/Python/2.7/site-packages/scipy-0.13.0.dev_c31f167_20130514-py2.7-macosx-10.8-intel.egg/scipy/optimize/zeros.py:149: RuntimeWarning: Tolerance of 2.56909220769e+14 reached\n",
        "  warnings.warn(msg, RuntimeWarning)\n",
        "/Library/Python/2.7/site-packages/scipy-0.13.0.dev_c31f167_20130514-py2.7-macosx-10.8-intel.egg/scipy/optimize/zeros.py:149: RuntimeWarning: Tolerance of -2.02339533304e+13 reached\n",
        "  warnings.warn(msg, RuntimeWarning)\n"
       ]
      },
      {
       "output_type": "stream",
       "stream": "stderr",
       "text": [
        "/Library/Python/2.7/site-packages/scipy-0.13.0.dev_c31f167_20130514-py2.7-macosx-10.8-intel.egg/scipy/optimize/zeros.py:149: RuntimeWarning: Tolerance of 2.42939438216e+17 reached\n",
        "  warnings.warn(msg, RuntimeWarning)\n",
        "/Library/Python/2.7/site-packages/scipy-0.13.0.dev_c31f167_20130514-py2.7-macosx-10.8-intel.egg/scipy/optimize/zeros.py:149: RuntimeWarning: Tolerance of -1.42326866348e+17 reached\n",
        "  warnings.warn(msg, RuntimeWarning)\n"
       ]
      },
      {
       "output_type": "stream",
       "stream": "stderr",
       "text": [
        "/Library/Python/2.7/site-packages/scipy-0.13.0.dev_c31f167_20130514-py2.7-macosx-10.8-intel.egg/scipy/optimize/zeros.py:149: RuntimeWarning: Tolerance of 1.00640874421e+14 reached\n",
        "  warnings.warn(msg, RuntimeWarning)\n",
        "/Library/Python/2.7/site-packages/scipy-0.13.0.dev_c31f167_20130514-py2.7-macosx-10.8-intel.egg/scipy/optimize/zeros.py:149: RuntimeWarning: Tolerance of 3.07990622818e+14 reached\n",
        "  warnings.warn(msg, RuntimeWarning)\n"
       ]
      },
      {
       "output_type": "stream",
       "stream": "stderr",
       "text": [
        "/Library/Python/2.7/site-packages/scipy-0.13.0.dev_c31f167_20130514-py2.7-macosx-10.8-intel.egg/scipy/optimize/zeros.py:149: RuntimeWarning: Tolerance of -2.22862864366e+15 reached\n",
        "  warnings.warn(msg, RuntimeWarning)\n",
        "/Library/Python/2.7/site-packages/scipy-0.13.0.dev_c31f167_20130514-py2.7-macosx-10.8-intel.egg/scipy/optimize/zeros.py:149: RuntimeWarning: Tolerance of -9.16571623811e+14 reached\n",
        "  warnings.warn(msg, RuntimeWarning)\n"
       ]
      },
      {
       "output_type": "stream",
       "stream": "stdout",
       "text": [
        "\n",
        "deleting item T1map_LL"
       ]
      },
      {
       "output_type": "stream",
       "stream": "stdout",
       "text": [
        "\n",
        "deleting item T1map_LL_fitdict"
       ]
      },
      {
       "output_type": "stream",
       "stream": "stderr",
       "text": [
        "/Library/Python/2.7/site-packages/scipy-0.13.0.dev_c31f167_20130514-py2.7-macosx-10.8-intel.egg/scipy/optimize/zeros.py:149: RuntimeWarning: Tolerance of 1.18699823607e+12 reached\n",
        "  warnings.warn(msg, RuntimeWarning)\n",
        "WARNING:sarpy.io.BRUKERIO:NSLICES not equal to number of ACQ_obj_order\n"
       ]
      },
      {
       "output_type": "stream",
       "stream": "stderr",
       "text": [
        "/Library/Python/2.7/site-packages/scipy-0.13.0.dev_c31f167_20130514-py2.7-macosx-10.8-intel.egg/scipy/optimize/zeros.py:149: RuntimeWarning: Tolerance of 3.49175686553e+16 reached\n",
        "  warnings.warn(msg, RuntimeWarning)\n",
        "/Library/Python/2.7/site-packages/scipy-0.13.0.dev_c31f167_20130514-py2.7-macosx-10.8-intel.egg/scipy/optimize/zeros.py:149: RuntimeWarning: Tolerance of 2.02674029196e+13 reached\n",
        "  warnings.warn(msg, RuntimeWarning)\n"
       ]
      },
      {
       "output_type": "stream",
       "stream": "stderr",
       "text": [
        "/Library/Python/2.7/site-packages/scipy-0.13.0.dev_c31f167_20130514-py2.7-macosx-10.8-intel.egg/scipy/optimize/zeros.py:149: RuntimeWarning: Tolerance of -4.08218691464e+16 reached\n",
        "  warnings.warn(msg, RuntimeWarning)\n",
        "/Library/Python/2.7/site-packages/scipy-0.13.0.dev_c31f167_20130514-py2.7-macosx-10.8-intel.egg/scipy/optimize/zeros.py:149: RuntimeWarning: Tolerance of -4.7214323015e+15 reached\n",
        "  warnings.warn(msg, RuntimeWarning)\n"
       ]
      },
      {
       "output_type": "stream",
       "stream": "stderr",
       "text": [
        "/Library/Python/2.7/site-packages/scipy-0.13.0.dev_c31f167_20130514-py2.7-macosx-10.8-intel.egg/scipy/optimize/zeros.py:149: RuntimeWarning: Tolerance of 8.69220027942e+14 reached\n",
        "  warnings.warn(msg, RuntimeWarning)\n",
        "/Library/Python/2.7/site-packages/scipy-0.13.0.dev_c31f167_20130514-py2.7-macosx-10.8-intel.egg/scipy/optimize/zeros.py:149: RuntimeWarning: Tolerance of 4.80945314036e+15 reached\n",
        "  warnings.warn(msg, RuntimeWarning)\n"
       ]
      },
      {
       "output_type": "stream",
       "stream": "stderr",
       "text": [
        "/Library/Python/2.7/site-packages/scipy-0.13.0.dev_c31f167_20130514-py2.7-macosx-10.8-intel.egg/scipy/optimize/zeros.py:149: RuntimeWarning: Tolerance of 1.09528622104e+15 reached\n",
        "  warnings.warn(msg, RuntimeWarning)\n",
        "/Library/Python/2.7/site-packages/scipy-0.13.0.dev_c31f167_20130514-py2.7-macosx-10.8-intel.egg/scipy/optimize/zeros.py:149: RuntimeWarning: Tolerance of 4.69659454462e+15 reached\n",
        "  warnings.warn(msg, RuntimeWarning)\n"
       ]
      },
      {
       "output_type": "stream",
       "stream": "stderr",
       "text": [
        "/Library/Python/2.7/site-packages/scipy-0.13.0.dev_c31f167_20130514-py2.7-macosx-10.8-intel.egg/scipy/optimize/zeros.py:149: RuntimeWarning: Tolerance of 5.93801537542e+13 reached\n",
        "  warnings.warn(msg, RuntimeWarning)\n",
        "/Library/Python/2.7/site-packages/scipy-0.13.0.dev_c31f167_20130514-py2.7-macosx-10.8-intel.egg/scipy/optimize/zeros.py:149: RuntimeWarning: Tolerance of 3.06047833859e+12 reached\n",
        "  warnings.warn(msg, RuntimeWarning)\n"
       ]
      },
      {
       "output_type": "stream",
       "stream": "stderr",
       "text": [
        "/Library/Python/2.7/site-packages/scipy-0.13.0.dev_c31f167_20130514-py2.7-macosx-10.8-intel.egg/scipy/optimize/zeros.py:149: RuntimeWarning: Tolerance of -3.34889236253e+15 reached\n",
        "  warnings.warn(msg, RuntimeWarning)\n",
        "/Library/Python/2.7/site-packages/scipy-0.13.0.dev_c31f167_20130514-py2.7-macosx-10.8-intel.egg/scipy/optimize/zeros.py:149: RuntimeWarning: Tolerance of 8.30008996964e+15 reached\n",
        "  warnings.warn(msg, RuntimeWarning)\n"
       ]
      },
      {
       "output_type": "stream",
       "stream": "stderr",
       "text": [
        "/Library/Python/2.7/site-packages/scipy-0.13.0.dev_c31f167_20130514-py2.7-macosx-10.8-intel.egg/scipy/optimize/zeros.py:149: RuntimeWarning: Tolerance of 3.13650235723e+14 reached\n",
        "  warnings.warn(msg, RuntimeWarning)\n",
        "/Library/Python/2.7/site-packages/scipy-0.13.0.dev_c31f167_20130514-py2.7-macosx-10.8-intel.egg/scipy/optimize/zeros.py:149: RuntimeWarning: Tolerance of -1.14806702062e+15 reached\n",
        "  warnings.warn(msg, RuntimeWarning)\n"
       ]
      },
      {
       "output_type": "stream",
       "stream": "stderr",
       "text": [
        "/Library/Python/2.7/site-packages/scipy-0.13.0.dev_c31f167_20130514-py2.7-macosx-10.8-intel.egg/scipy/optimize/zeros.py:149: RuntimeWarning: Tolerance of -1.51820041863e+15 reached\n",
        "  warnings.warn(msg, RuntimeWarning)\n",
        "/Library/Python/2.7/site-packages/scipy-0.13.0.dev_c31f167_20130514-py2.7-macosx-10.8-intel.egg/scipy/optimize/zeros.py:149: RuntimeWarning: Tolerance of 4.01468398013e+15 reached\n",
        "  warnings.warn(msg, RuntimeWarning)\n"
       ]
      },
      {
       "output_type": "stream",
       "stream": "stderr",
       "text": [
        "/Library/Python/2.7/site-packages/scipy-0.13.0.dev_c31f167_20130514-py2.7-macosx-10.8-intel.egg/scipy/optimize/zeros.py:149: RuntimeWarning: Tolerance of 3.08892962384e+14 reached\n",
        "  warnings.warn(msg, RuntimeWarning)\n",
        "/Library/Python/2.7/site-packages/scipy-0.13.0.dev_c31f167_20130514-py2.7-macosx-10.8-intel.egg/scipy/optimize/zeros.py:149: RuntimeWarning: Tolerance of -2.38430726866e+16 reached\n",
        "  warnings.warn(msg, RuntimeWarning)\n"
       ]
      },
      {
       "output_type": "stream",
       "stream": "stderr",
       "text": [
        "/Library/Python/2.7/site-packages/scipy-0.13.0.dev_c31f167_20130514-py2.7-macosx-10.8-intel.egg/scipy/optimize/zeros.py:149: RuntimeWarning: Tolerance of -5.20777794836e+15 reached\n",
        "  warnings.warn(msg, RuntimeWarning)\n",
        "/Library/Python/2.7/site-packages/scipy-0.13.0.dev_c31f167_20130514-py2.7-macosx-10.8-intel.egg/scipy/optimize/zeros.py:149: RuntimeWarning: Tolerance of 5.55005994862e+14 reached\n",
        "  warnings.warn(msg, RuntimeWarning)\n"
       ]
      },
      {
       "output_type": "stream",
       "stream": "stderr",
       "text": [
        "/Library/Python/2.7/site-packages/scipy-0.13.0.dev_c31f167_20130514-py2.7-macosx-10.8-intel.egg/scipy/optimize/zeros.py:149: RuntimeWarning: Tolerance of 8.04883014884e+14 reached\n",
        "  warnings.warn(msg, RuntimeWarning)\n",
        "/Library/Python/2.7/site-packages/scipy-0.13.0.dev_c31f167_20130514-py2.7-macosx-10.8-intel.egg/scipy/optimize/zeros.py:149: RuntimeWarning: Tolerance of 2.31351298864e+15 reached\n",
        "  warnings.warn(msg, RuntimeWarning)\n"
       ]
      },
      {
       "output_type": "stream",
       "stream": "stderr",
       "text": [
        "/Library/Python/2.7/site-packages/scipy-0.13.0.dev_c31f167_20130514-py2.7-macosx-10.8-intel.egg/scipy/optimize/zeros.py:149: RuntimeWarning: Tolerance of 2.95902889123e+14 reached\n",
        "  warnings.warn(msg, RuntimeWarning)\n",
        "/Library/Python/2.7/site-packages/scipy-0.13.0.dev_c31f167_20130514-py2.7-macosx-10.8-intel.egg/scipy/optimize/zeros.py:149: RuntimeWarning: Tolerance of -7.8423664409e+15 reached\n",
        "  warnings.warn(msg, RuntimeWarning)\n"
       ]
      },
      {
       "output_type": "stream",
       "stream": "stderr",
       "text": [
        "/Library/Python/2.7/site-packages/scipy-0.13.0.dev_c31f167_20130514-py2.7-macosx-10.8-intel.egg/scipy/optimize/zeros.py:149: RuntimeWarning: Tolerance of 2.58611913327e+15 reached\n",
        "  warnings.warn(msg, RuntimeWarning)\n",
        "/Library/Python/2.7/site-packages/scipy-0.13.0.dev_c31f167_20130514-py2.7-macosx-10.8-intel.egg/scipy/optimize/zeros.py:149: RuntimeWarning: Tolerance of 2.87760760346e+16 reached\n",
        "  warnings.warn(msg, RuntimeWarning)\n"
       ]
      },
      {
       "output_type": "stream",
       "stream": "stderr",
       "text": [
        "/Library/Python/2.7/site-packages/scipy-0.13.0.dev_c31f167_20130514-py2.7-macosx-10.8-intel.egg/scipy/optimize/zeros.py:149: RuntimeWarning: Tolerance of -4.5623177975e+15 reached\n",
        "  warnings.warn(msg, RuntimeWarning)\n",
        "/Library/Python/2.7/site-packages/scipy-0.13.0.dev_c31f167_20130514-py2.7-macosx-10.8-intel.egg/scipy/optimize/zeros.py:149: RuntimeWarning: Tolerance of -2.33724121103e+16 reached\n",
        "  warnings.warn(msg, RuntimeWarning)\n"
       ]
      },
      {
       "output_type": "stream",
       "stream": "stderr",
       "text": [
        "/Library/Python/2.7/site-packages/scipy-0.13.0.dev_c31f167_20130514-py2.7-macosx-10.8-intel.egg/scipy/optimize/zeros.py:149: RuntimeWarning: Tolerance of 8.42889976324e+14 reached\n",
        "  warnings.warn(msg, RuntimeWarning)\n",
        "/Library/Python/2.7/site-packages/scipy-0.13.0.dev_c31f167_20130514-py2.7-macosx-10.8-intel.egg/scipy/optimize/zeros.py:149: RuntimeWarning: Tolerance of 4.42441511123e+12 reached\n",
        "  warnings.warn(msg, RuntimeWarning)\n"
       ]
      },
      {
       "output_type": "stream",
       "stream": "stderr",
       "text": [
        "/Library/Python/2.7/site-packages/scipy-0.13.0.dev_c31f167_20130514-py2.7-macosx-10.8-intel.egg/scipy/optimize/zeros.py:149: RuntimeWarning: Tolerance of -7.2162082968e+17 reached\n",
        "  warnings.warn(msg, RuntimeWarning)\n",
        "/Library/Python/2.7/site-packages/scipy-0.13.0.dev_c31f167_20130514-py2.7-macosx-10.8-intel.egg/scipy/optimize/zeros.py:149: RuntimeWarning: Tolerance of 8.04519761742e+14 reached\n",
        "  warnings.warn(msg, RuntimeWarning)\n"
       ]
      },
      {
       "output_type": "stream",
       "stream": "stderr",
       "text": [
        "/Library/Python/2.7/site-packages/scipy-0.13.0.dev_c31f167_20130514-py2.7-macosx-10.8-intel.egg/scipy/optimize/zeros.py:149: RuntimeWarning: Tolerance of 4.20344045066e+15 reached\n",
        "  warnings.warn(msg, RuntimeWarning)\n",
        "/Library/Python/2.7/site-packages/scipy-0.13.0.dev_c31f167_20130514-py2.7-macosx-10.8-intel.egg/scipy/optimize/zeros.py:149: RuntimeWarning: Tolerance of -2.84313137728e+16 reached\n",
        "  warnings.warn(msg, RuntimeWarning)\n"
       ]
      },
      {
       "output_type": "stream",
       "stream": "stderr",
       "text": [
        "/Library/Python/2.7/site-packages/scipy-0.13.0.dev_c31f167_20130514-py2.7-macosx-10.8-intel.egg/scipy/optimize/zeros.py:149: RuntimeWarning: Tolerance of 7.33420899196e+15 reached\n",
        "  warnings.warn(msg, RuntimeWarning)\n",
        "/Library/Python/2.7/site-packages/scipy-0.13.0.dev_c31f167_20130514-py2.7-macosx-10.8-intel.egg/scipy/optimize/zeros.py:149: RuntimeWarning: Tolerance of -5.46373886201e+16 reached\n",
        "  warnings.warn(msg, RuntimeWarning)\n"
       ]
      },
      {
       "output_type": "stream",
       "stream": "stderr",
       "text": [
        "/Library/Python/2.7/site-packages/scipy-0.13.0.dev_c31f167_20130514-py2.7-macosx-10.8-intel.egg/scipy/optimize/zeros.py:149: RuntimeWarning: Tolerance of -4.7698401303e+16 reached\n",
        "  warnings.warn(msg, RuntimeWarning)\n",
        "/Library/Python/2.7/site-packages/scipy-0.13.0.dev_c31f167_20130514-py2.7-macosx-10.8-intel.egg/scipy/optimize/zeros.py:149: RuntimeWarning: Tolerance of 1.2048753759e+16 reached\n",
        "  warnings.warn(msg, RuntimeWarning)\n",
        "/Library/Python/2.7/site-packages/scipy-0.13.0.dev_c31f167_20130514-py2.7-macosx-10.8-intel.egg/scipy/optimize/zeros.py:149: RuntimeWarning: Tolerance of -1.39710118545e+15 reached\n",
        "  warnings.warn(msg, RuntimeWarning)\n"
       ]
      },
      {
       "output_type": "stream",
       "stream": "stderr",
       "text": [
        "/Library/Python/2.7/site-packages/scipy-0.13.0.dev_c31f167_20130514-py2.7-macosx-10.8-intel.egg/scipy/optimize/zeros.py:149: RuntimeWarning: Tolerance of 3.18840594656e+15 reached\n",
        "  warnings.warn(msg, RuntimeWarning)\n",
        "/Library/Python/2.7/site-packages/scipy-0.13.0.dev_c31f167_20130514-py2.7-macosx-10.8-intel.egg/scipy/optimize/zeros.py:149: RuntimeWarning: Tolerance of 2.21472354683e+15 reached\n",
        "  warnings.warn(msg, RuntimeWarning)\n"
       ]
      },
      {
       "output_type": "stream",
       "stream": "stderr",
       "text": [
        "/Library/Python/2.7/site-packages/scipy-0.13.0.dev_c31f167_20130514-py2.7-macosx-10.8-intel.egg/scipy/optimize/zeros.py:149: RuntimeWarning: Tolerance of -3.37626539671e+16 reached\n",
        "  warnings.warn(msg, RuntimeWarning)\n",
        "/Library/Python/2.7/site-packages/scipy-0.13.0.dev_c31f167_20130514-py2.7-macosx-10.8-intel.egg/scipy/optimize/zeros.py:149: RuntimeWarning: Tolerance of -8.69333495802e+15 reached\n",
        "  warnings.warn(msg, RuntimeWarning)\n"
       ]
      },
      {
       "output_type": "stream",
       "stream": "stderr",
       "text": [
        "/Library/Python/2.7/site-packages/scipy-0.13.0.dev_c31f167_20130514-py2.7-macosx-10.8-intel.egg/scipy/optimize/zeros.py:149: RuntimeWarning: Tolerance of -1.96544904991e+13 reached\n",
        "  warnings.warn(msg, RuntimeWarning)\n",
        "/Library/Python/2.7/site-packages/scipy-0.13.0.dev_c31f167_20130514-py2.7-macosx-10.8-intel.egg/scipy/optimize/zeros.py:149: RuntimeWarning: Tolerance of -1.07720628096e+14 reached\n",
        "  warnings.warn(msg, RuntimeWarning)\n"
       ]
      },
      {
       "output_type": "stream",
       "stream": "stderr",
       "text": [
        "/Library/Python/2.7/site-packages/scipy-0.13.0.dev_c31f167_20130514-py2.7-macosx-10.8-intel.egg/scipy/optimize/zeros.py:149: RuntimeWarning: Tolerance of -1.03534078914e+14 reached\n",
        "  warnings.warn(msg, RuntimeWarning)\n",
        "/Library/Python/2.7/site-packages/scipy-0.13.0.dev_c31f167_20130514-py2.7-macosx-10.8-intel.egg/scipy/optimize/zeros.py:149: RuntimeWarning: Tolerance of -2.51621755646e+15 reached\n",
        "  warnings.warn(msg, RuntimeWarning)\n"
       ]
      },
      {
       "output_type": "stream",
       "stream": "stderr",
       "text": [
        "/Library/Python/2.7/site-packages/scipy-0.13.0.dev_c31f167_20130514-py2.7-macosx-10.8-intel.egg/scipy/optimize/zeros.py:149: RuntimeWarning: Tolerance of -5.93825954072e+14 reached\n",
        "  warnings.warn(msg, RuntimeWarning)\n",
        "/Library/Python/2.7/site-packages/scipy-0.13.0.dev_c31f167_20130514-py2.7-macosx-10.8-intel.egg/scipy/optimize/zeros.py:149: RuntimeWarning: Tolerance of -8.10247972963e+14 reached\n",
        "  warnings.warn(msg, RuntimeWarning)\n"
       ]
      },
      {
       "output_type": "stream",
       "stream": "stderr",
       "text": [
        "/Library/Python/2.7/site-packages/scipy-0.13.0.dev_c31f167_20130514-py2.7-macosx-10.8-intel.egg/scipy/optimize/zeros.py:149: RuntimeWarning: Tolerance of -1.61781831793e+16 reached\n",
        "  warnings.warn(msg, RuntimeWarning)\n",
        "/Library/Python/2.7/site-packages/scipy-0.13.0.dev_c31f167_20130514-py2.7-macosx-10.8-intel.egg/scipy/optimize/zeros.py:149: RuntimeWarning: Tolerance of -6.87576174222e+15 reached\n",
        "  warnings.warn(msg, RuntimeWarning)\n"
       ]
      },
      {
       "output_type": "stream",
       "stream": "stderr",
       "text": [
        "/Library/Python/2.7/site-packages/scipy-0.13.0.dev_c31f167_20130514-py2.7-macosx-10.8-intel.egg/scipy/optimize/zeros.py:149: RuntimeWarning: Tolerance of -3.57624390449e+16 reached\n",
        "  warnings.warn(msg, RuntimeWarning)\n",
        "/Library/Python/2.7/site-packages/scipy-0.13.0.dev_c31f167_20130514-py2.7-macosx-10.8-intel.egg/scipy/optimize/zeros.py:149: RuntimeWarning: Tolerance of 3.07687644571e+16 reached\n",
        "  warnings.warn(msg, RuntimeWarning)\n"
       ]
      },
      {
       "output_type": "stream",
       "stream": "stderr",
       "text": [
        "/Library/Python/2.7/site-packages/scipy-0.13.0.dev_c31f167_20130514-py2.7-macosx-10.8-intel.egg/scipy/optimize/zeros.py:149: RuntimeWarning: Tolerance of -2.91197131626e+14 reached\n",
        "  warnings.warn(msg, RuntimeWarning)\n",
        "/Library/Python/2.7/site-packages/scipy-0.13.0.dev_c31f167_20130514-py2.7-macosx-10.8-intel.egg/scipy/optimize/zeros.py:149: RuntimeWarning: Tolerance of -2.60921673204e+14 reached\n",
        "  warnings.warn(msg, RuntimeWarning)\n"
       ]
      },
      {
       "output_type": "stream",
       "stream": "stderr",
       "text": [
        "/Library/Python/2.7/site-packages/scipy-0.13.0.dev_c31f167_20130514-py2.7-macosx-10.8-intel.egg/scipy/optimize/zeros.py:149: RuntimeWarning: Tolerance of -3.48625212834e+15 reached\n",
        "  warnings.warn(msg, RuntimeWarning)\n",
        "/Library/Python/2.7/site-packages/scipy-0.13.0.dev_c31f167_20130514-py2.7-macosx-10.8-intel.egg/scipy/optimize/zeros.py:149: RuntimeWarning: Tolerance of 5.57009225724e+15 reached\n",
        "  warnings.warn(msg, RuntimeWarning)\n"
       ]
      },
      {
       "output_type": "stream",
       "stream": "stderr",
       "text": [
        "/Library/Python/2.7/site-packages/scipy-0.13.0.dev_c31f167_20130514-py2.7-macosx-10.8-intel.egg/scipy/optimize/zeros.py:149: RuntimeWarning: Tolerance of -3.72530498201e+15 reached\n",
        "  warnings.warn(msg, RuntimeWarning)\n",
        "/Library/Python/2.7/site-packages/scipy-0.13.0.dev_c31f167_20130514-py2.7-macosx-10.8-intel.egg/scipy/optimize/zeros.py:149: RuntimeWarning: Tolerance of 1.8079608106e+16 reached\n",
        "  warnings.warn(msg, RuntimeWarning)\n"
       ]
      },
      {
       "output_type": "stream",
       "stream": "stderr",
       "text": [
        "/Library/Python/2.7/site-packages/scipy-0.13.0.dev_c31f167_20130514-py2.7-macosx-10.8-intel.egg/scipy/optimize/zeros.py:149: RuntimeWarning: Tolerance of -19375098201.0 reached\n",
        "  warnings.warn(msg, RuntimeWarning)\n",
        "/Library/Python/2.7/site-packages/scipy-0.13.0.dev_c31f167_20130514-py2.7-macosx-10.8-intel.egg/scipy/optimize/zeros.py:149: RuntimeWarning: Tolerance of 1.04722837367e+18 reached\n",
        "  warnings.warn(msg, RuntimeWarning)\n"
       ]
      },
      {
       "output_type": "stream",
       "stream": "stderr",
       "text": [
        "/Library/Python/2.7/site-packages/scipy-0.13.0.dev_c31f167_20130514-py2.7-macosx-10.8-intel.egg/scipy/optimize/zeros.py:149: RuntimeWarning: Tolerance of -5.60985201561e+14 reached\n",
        "  warnings.warn(msg, RuntimeWarning)\n",
        "/Library/Python/2.7/site-packages/scipy-0.13.0.dev_c31f167_20130514-py2.7-macosx-10.8-intel.egg/scipy/optimize/zeros.py:149: RuntimeWarning: Tolerance of 2.0556782009e+15 reached\n",
        "  warnings.warn(msg, RuntimeWarning)\n"
       ]
      },
      {
       "output_type": "stream",
       "stream": "stderr",
       "text": [
        "/Library/Python/2.7/site-packages/scipy-0.13.0.dev_c31f167_20130514-py2.7-macosx-10.8-intel.egg/scipy/optimize/zeros.py:149: RuntimeWarning: Tolerance of 1.64418179891e+16 reached\n",
        "  warnings.warn(msg, RuntimeWarning)\n",
        "/Library/Python/2.7/site-packages/scipy-0.13.0.dev_c31f167_20130514-py2.7-macosx-10.8-intel.egg/scipy/optimize/zeros.py:149: RuntimeWarning: Tolerance of 1.97706400118e+16 reached\n",
        "  warnings.warn(msg, RuntimeWarning)\n"
       ]
      },
      {
       "output_type": "stream",
       "stream": "stderr",
       "text": [
        "/Library/Python/2.7/site-packages/scipy-0.13.0.dev_c31f167_20130514-py2.7-macosx-10.8-intel.egg/scipy/optimize/zeros.py:149: RuntimeWarning: Tolerance of -1.3640420159e+14 reached\n",
        "  warnings.warn(msg, RuntimeWarning)\n",
        "/Library/Python/2.7/site-packages/scipy-0.13.0.dev_c31f167_20130514-py2.7-macosx-10.8-intel.egg/scipy/optimize/zeros.py:149: RuntimeWarning: Tolerance of 3.01342670713e+14 reached\n",
        "  warnings.warn(msg, RuntimeWarning)\n"
       ]
      },
      {
       "output_type": "stream",
       "stream": "stderr",
       "text": [
        "/Library/Python/2.7/site-packages/scipy-0.13.0.dev_c31f167_20130514-py2.7-macosx-10.8-intel.egg/scipy/optimize/zeros.py:149: RuntimeWarning: Tolerance of 3.9026220205e+13 reached\n",
        "  warnings.warn(msg, RuntimeWarning)\n",
        "/Library/Python/2.7/site-packages/scipy-0.13.0.dev_c31f167_20130514-py2.7-macosx-10.8-intel.egg/scipy/optimize/zeros.py:149: RuntimeWarning: Tolerance of -2.74098880868e+15 reached\n",
        "  warnings.warn(msg, RuntimeWarning)\n"
       ]
      },
      {
       "output_type": "stream",
       "stream": "stdout",
       "text": [
        "\n",
        "deleting item T1map_LL"
       ]
      },
      {
       "output_type": "stream",
       "stream": "stdout",
       "text": [
        "\n",
        "deleting item T1map_LL_fitdict"
       ]
      },
      {
       "output_type": "stream",
       "stream": "stderr",
       "text": [
        "/Library/Python/2.7/site-packages/scipy-0.13.0.dev_c31f167_20130514-py2.7-macosx-10.8-intel.egg/scipy/optimize/zeros.py:149: RuntimeWarning: Tolerance of -3.88464705527e+13 reached\n",
        "  warnings.warn(msg, RuntimeWarning)\n",
        "WARNING:sarpy.io.BRUKERIO:NSLICES not equal to number of ACQ_obj_order\n"
       ]
      },
      {
       "output_type": "stream",
       "stream": "stderr",
       "text": [
        "/Library/Python/2.7/site-packages/scipy-0.13.0.dev_c31f167_20130514-py2.7-macosx-10.8-intel.egg/scipy/optimize/zeros.py:149: RuntimeWarning: Tolerance of -6.68485765042e+13 reached\n",
        "  warnings.warn(msg, RuntimeWarning)\n",
        "/Library/Python/2.7/site-packages/scipy-0.13.0.dev_c31f167_20130514-py2.7-macosx-10.8-intel.egg/scipy/optimize/zeros.py:149: RuntimeWarning: Tolerance of 5.979618493e+13 reached\n",
        "  warnings.warn(msg, RuntimeWarning)\n"
       ]
      },
      {
       "output_type": "stream",
       "stream": "stderr",
       "text": [
        "/Library/Python/2.7/site-packages/scipy-0.13.0.dev_c31f167_20130514-py2.7-macosx-10.8-intel.egg/scipy/optimize/zeros.py:149: RuntimeWarning: Tolerance of -2.52265927213e+15 reached\n",
        "  warnings.warn(msg, RuntimeWarning)\n",
        "/Library/Python/2.7/site-packages/scipy-0.13.0.dev_c31f167_20130514-py2.7-macosx-10.8-intel.egg/scipy/optimize/zeros.py:149: RuntimeWarning: Tolerance of -2.6410427587e+14 reached\n",
        "  warnings.warn(msg, RuntimeWarning)\n"
       ]
      },
      {
       "output_type": "stream",
       "stream": "stderr",
       "text": [
        "/Library/Python/2.7/site-packages/scipy-0.13.0.dev_c31f167_20130514-py2.7-macosx-10.8-intel.egg/scipy/optimize/zeros.py:149: RuntimeWarning: Tolerance of -1.41440747867e+16 reached\n",
        "  warnings.warn(msg, RuntimeWarning)\n",
        "/Library/Python/2.7/site-packages/scipy-0.13.0.dev_c31f167_20130514-py2.7-macosx-10.8-intel.egg/scipy/optimize/zeros.py:149: RuntimeWarning: Tolerance of 8.39938050548e+16 reached\n",
        "  warnings.warn(msg, RuntimeWarning)\n"
       ]
      },
      {
       "output_type": "stream",
       "stream": "stderr",
       "text": [
        "/Library/Python/2.7/site-packages/scipy-0.13.0.dev_c31f167_20130514-py2.7-macosx-10.8-intel.egg/scipy/optimize/zeros.py:149: RuntimeWarning: Tolerance of 3.94141129882e+15 reached\n",
        "  warnings.warn(msg, RuntimeWarning)\n",
        "/Library/Python/2.7/site-packages/scipy-0.13.0.dev_c31f167_20130514-py2.7-macosx-10.8-intel.egg/scipy/optimize/zeros.py:149: RuntimeWarning: Tolerance of -6.82502437671e+13 reached\n",
        "  warnings.warn(msg, RuntimeWarning)\n"
       ]
      },
      {
       "output_type": "stream",
       "stream": "stderr",
       "text": [
        "/Library/Python/2.7/site-packages/scipy-0.13.0.dev_c31f167_20130514-py2.7-macosx-10.8-intel.egg/scipy/optimize/zeros.py:149: RuntimeWarning: Tolerance of -1.17278272061e+14 reached\n",
        "  warnings.warn(msg, RuntimeWarning)\n",
        "/Library/Python/2.7/site-packages/scipy-0.13.0.dev_c31f167_20130514-py2.7-macosx-10.8-intel.egg/scipy/optimize/zeros.py:149: RuntimeWarning: Tolerance of -8.28256542694e+15 reached\n",
        "  warnings.warn(msg, RuntimeWarning)\n"
       ]
      },
      {
       "output_type": "stream",
       "stream": "stderr",
       "text": [
        "/Library/Python/2.7/site-packages/scipy-0.13.0.dev_c31f167_20130514-py2.7-macosx-10.8-intel.egg/scipy/optimize/zeros.py:149: RuntimeWarning: Tolerance of 6.84743007117e+15 reached\n",
        "  warnings.warn(msg, RuntimeWarning)\n",
        "/Library/Python/2.7/site-packages/scipy-0.13.0.dev_c31f167_20130514-py2.7-macosx-10.8-intel.egg/scipy/optimize/zeros.py:149: RuntimeWarning: Tolerance of 1.48226832477e+17 reached\n",
        "  warnings.warn(msg, RuntimeWarning)\n"
       ]
      },
      {
       "output_type": "stream",
       "stream": "stderr",
       "text": [
        "/Library/Python/2.7/site-packages/scipy-0.13.0.dev_c31f167_20130514-py2.7-macosx-10.8-intel.egg/scipy/optimize/zeros.py:149: RuntimeWarning: Tolerance of 2.25425532719e+16 reached\n",
        "  warnings.warn(msg, RuntimeWarning)\n",
        "/Library/Python/2.7/site-packages/scipy-0.13.0.dev_c31f167_20130514-py2.7-macosx-10.8-intel.egg/scipy/optimize/zeros.py:149: RuntimeWarning: Tolerance of -9.28790115055e+13 reached\n",
        "  warnings.warn(msg, RuntimeWarning)\n"
       ]
      },
      {
       "output_type": "stream",
       "stream": "stderr",
       "text": [
        "/Library/Python/2.7/site-packages/scipy-0.13.0.dev_c31f167_20130514-py2.7-macosx-10.8-intel.egg/scipy/optimize/zeros.py:149: RuntimeWarning: Tolerance of -7.07315542411e+15 reached\n",
        "  warnings.warn(msg, RuntimeWarning)\n",
        "/Library/Python/2.7/site-packages/scipy-0.13.0.dev_c31f167_20130514-py2.7-macosx-10.8-intel.egg/scipy/optimize/zeros.py:149: RuntimeWarning: Tolerance of 7.58572302063e+15 reached\n",
        "  warnings.warn(msg, RuntimeWarning)\n"
       ]
      },
      {
       "output_type": "stream",
       "stream": "stderr",
       "text": [
        "/Library/Python/2.7/site-packages/scipy-0.13.0.dev_c31f167_20130514-py2.7-macosx-10.8-intel.egg/scipy/optimize/zeros.py:149: RuntimeWarning: Tolerance of 2.28174030781e-08 reached\n",
        "  warnings.warn(msg, RuntimeWarning)\n",
        "/Library/Python/2.7/site-packages/scipy-0.13.0.dev_c31f167_20130514-py2.7-macosx-10.8-intel.egg/scipy/optimize/zeros.py:149: RuntimeWarning: Tolerance of -1.08963359235e+16 reached\n",
        "  warnings.warn(msg, RuntimeWarning)\n"
       ]
      },
      {
       "output_type": "stream",
       "stream": "stderr",
       "text": [
        "/Library/Python/2.7/site-packages/scipy-0.13.0.dev_c31f167_20130514-py2.7-macosx-10.8-intel.egg/scipy/optimize/zeros.py:149: RuntimeWarning: Tolerance of -2.55345319554e+14 reached\n",
        "  warnings.warn(msg, RuntimeWarning)\n",
        "/Library/Python/2.7/site-packages/scipy-0.13.0.dev_c31f167_20130514-py2.7-macosx-10.8-intel.egg/scipy/optimize/zeros.py:149: RuntimeWarning: Tolerance of -1.20456565961e+15 reached\n",
        "  warnings.warn(msg, RuntimeWarning)\n"
       ]
      },
      {
       "output_type": "stream",
       "stream": "stderr",
       "text": [
        "/Library/Python/2.7/site-packages/scipy-0.13.0.dev_c31f167_20130514-py2.7-macosx-10.8-intel.egg/scipy/optimize/zeros.py:149: RuntimeWarning: Tolerance of -3.75931460448e+14 reached\n",
        "  warnings.warn(msg, RuntimeWarning)\n",
        "/Library/Python/2.7/site-packages/scipy-0.13.0.dev_c31f167_20130514-py2.7-macosx-10.8-intel.egg/scipy/optimize/zeros.py:149: RuntimeWarning: Tolerance of -2.82570003294e+13 reached\n",
        "  warnings.warn(msg, RuntimeWarning)\n"
       ]
      },
      {
       "output_type": "stream",
       "stream": "stderr",
       "text": [
        "/Library/Python/2.7/site-packages/scipy-0.13.0.dev_c31f167_20130514-py2.7-macosx-10.8-intel.egg/scipy/optimize/zeros.py:149: RuntimeWarning: Tolerance of -9.18848354027e+16 reached\n",
        "  warnings.warn(msg, RuntimeWarning)\n",
        "/Library/Python/2.7/site-packages/scipy-0.13.0.dev_c31f167_20130514-py2.7-macosx-10.8-intel.egg/scipy/optimize/zeros.py:149: RuntimeWarning: Tolerance of -4.96899669207e+14 reached\n",
        "  warnings.warn(msg, RuntimeWarning)\n"
       ]
      },
      {
       "output_type": "stream",
       "stream": "stderr",
       "text": [
        "/Library/Python/2.7/site-packages/scipy-0.13.0.dev_c31f167_20130514-py2.7-macosx-10.8-intel.egg/scipy/optimize/zeros.py:149: RuntimeWarning: Tolerance of -3.67637608195e+15 reached\n",
        "  warnings.warn(msg, RuntimeWarning)\n",
        "/Library/Python/2.7/site-packages/scipy-0.13.0.dev_c31f167_20130514-py2.7-macosx-10.8-intel.egg/scipy/optimize/zeros.py:149: RuntimeWarning: Tolerance of -3.65974403953e+15 reached\n",
        "  warnings.warn(msg, RuntimeWarning)\n"
       ]
      },
      {
       "output_type": "stream",
       "stream": "stderr",
       "text": [
        "/Library/Python/2.7/site-packages/scipy-0.13.0.dev_c31f167_20130514-py2.7-macosx-10.8-intel.egg/scipy/optimize/zeros.py:149: RuntimeWarning: Tolerance of -1.79036770089e+15 reached\n",
        "  warnings.warn(msg, RuntimeWarning)\n",
        "/Library/Python/2.7/site-packages/scipy-0.13.0.dev_c31f167_20130514-py2.7-macosx-10.8-intel.egg/scipy/optimize/zeros.py:149: RuntimeWarning: Tolerance of 6.15661721988e+15 reached\n",
        "  warnings.warn(msg, RuntimeWarning)\n"
       ]
      },
      {
       "output_type": "stream",
       "stream": "stderr",
       "text": [
        "/Library/Python/2.7/site-packages/scipy-0.13.0.dev_c31f167_20130514-py2.7-macosx-10.8-intel.egg/scipy/optimize/zeros.py:149: RuntimeWarning: Tolerance of -4.13355601628e+15 reached\n",
        "  warnings.warn(msg, RuntimeWarning)\n",
        "/Library/Python/2.7/site-packages/scipy-0.13.0.dev_c31f167_20130514-py2.7-macosx-10.8-intel.egg/scipy/optimize/zeros.py:149: RuntimeWarning: Tolerance of -2.11836042386e+15 reached\n",
        "  warnings.warn(msg, RuntimeWarning)\n"
       ]
      },
      {
       "output_type": "stream",
       "stream": "stderr",
       "text": [
        "/Library/Python/2.7/site-packages/scipy-0.13.0.dev_c31f167_20130514-py2.7-macosx-10.8-intel.egg/scipy/optimize/zeros.py:149: RuntimeWarning: Tolerance of -8.53275130316e+13 reached\n",
        "  warnings.warn(msg, RuntimeWarning)\n",
        "/Library/Python/2.7/site-packages/scipy-0.13.0.dev_c31f167_20130514-py2.7-macosx-10.8-intel.egg/scipy/optimize/zeros.py:149: RuntimeWarning: Tolerance of -1.40383509307e+16 reached\n",
        "  warnings.warn(msg, RuntimeWarning)\n"
       ]
      },
      {
       "output_type": "stream",
       "stream": "stderr",
       "text": [
        "/Library/Python/2.7/site-packages/scipy-0.13.0.dev_c31f167_20130514-py2.7-macosx-10.8-intel.egg/scipy/optimize/zeros.py:149: RuntimeWarning: Tolerance of 107696032776.0 reached\n",
        "  warnings.warn(msg, RuntimeWarning)\n",
        "/Library/Python/2.7/site-packages/scipy-0.13.0.dev_c31f167_20130514-py2.7-macosx-10.8-intel.egg/scipy/optimize/zeros.py:149: RuntimeWarning: Tolerance of -4.73226410832e+16 reached\n",
        "  warnings.warn(msg, RuntimeWarning)\n"
       ]
      },
      {
       "output_type": "stream",
       "stream": "stderr",
       "text": [
        "/Library/Python/2.7/site-packages/scipy-0.13.0.dev_c31f167_20130514-py2.7-macosx-10.8-intel.egg/scipy/optimize/zeros.py:149: RuntimeWarning: Tolerance of -1.87933092392e+15 reached\n",
        "  warnings.warn(msg, RuntimeWarning)\n",
        "/Library/Python/2.7/site-packages/scipy-0.13.0.dev_c31f167_20130514-py2.7-macosx-10.8-intel.egg/scipy/optimize/zeros.py:149: RuntimeWarning: Tolerance of 3.09086296256e+16 reached\n",
        "  warnings.warn(msg, RuntimeWarning)\n"
       ]
      },
      {
       "output_type": "stream",
       "stream": "stderr",
       "text": [
        "/Library/Python/2.7/site-packages/scipy-0.13.0.dev_c31f167_20130514-py2.7-macosx-10.8-intel.egg/scipy/optimize/zeros.py:149: RuntimeWarning: Tolerance of 5.28335068939e+16 reached\n",
        "  warnings.warn(msg, RuntimeWarning)\n",
        "/Library/Python/2.7/site-packages/scipy-0.13.0.dev_c31f167_20130514-py2.7-macosx-10.8-intel.egg/scipy/optimize/zeros.py:149: RuntimeWarning: Tolerance of 1.77702980314e+15 reached\n",
        "  warnings.warn(msg, RuntimeWarning)\n"
       ]
      },
      {
       "output_type": "stream",
       "stream": "stderr",
       "text": [
        "/Library/Python/2.7/site-packages/scipy-0.13.0.dev_c31f167_20130514-py2.7-macosx-10.8-intel.egg/scipy/optimize/zeros.py:149: RuntimeWarning: Tolerance of 3.23883958199e+14 reached\n",
        "  warnings.warn(msg, RuntimeWarning)\n",
        "/Library/Python/2.7/site-packages/scipy-0.13.0.dev_c31f167_20130514-py2.7-macosx-10.8-intel.egg/scipy/optimize/zeros.py:149: RuntimeWarning: Tolerance of -3.17995460365e+15 reached\n",
        "  warnings.warn(msg, RuntimeWarning)\n"
       ]
      },
      {
       "output_type": "stream",
       "stream": "stderr",
       "text": [
        "/Library/Python/2.7/site-packages/scipy-0.13.0.dev_c31f167_20130514-py2.7-macosx-10.8-intel.egg/scipy/optimize/zeros.py:149: RuntimeWarning: Tolerance of 8.55330324383e+16 reached\n",
        "  warnings.warn(msg, RuntimeWarning)\n",
        "/Library/Python/2.7/site-packages/scipy-0.13.0.dev_c31f167_20130514-py2.7-macosx-10.8-intel.egg/scipy/optimize/zeros.py:149: RuntimeWarning: Tolerance of -4.36644053474e+14 reached\n",
        "  warnings.warn(msg, RuntimeWarning)\n"
       ]
      },
      {
       "output_type": "stream",
       "stream": "stderr",
       "text": [
        "/Library/Python/2.7/site-packages/scipy-0.13.0.dev_c31f167_20130514-py2.7-macosx-10.8-intel.egg/scipy/optimize/zeros.py:149: RuntimeWarning: Tolerance of -2.90852175621e+16 reached\n",
        "  warnings.warn(msg, RuntimeWarning)\n",
        "/Library/Python/2.7/site-packages/scipy-0.13.0.dev_c31f167_20130514-py2.7-macosx-10.8-intel.egg/scipy/optimize/zeros.py:149: RuntimeWarning: Tolerance of -1.83431590809e+15 reached\n",
        "  warnings.warn(msg, RuntimeWarning)\n"
       ]
      },
      {
       "output_type": "stream",
       "stream": "stderr",
       "text": [
        "/Library/Python/2.7/site-packages/scipy-0.13.0.dev_c31f167_20130514-py2.7-macosx-10.8-intel.egg/scipy/optimize/zeros.py:149: RuntimeWarning: Tolerance of -6.44499123792e+13 reached\n",
        "  warnings.warn(msg, RuntimeWarning)\n",
        "/Library/Python/2.7/site-packages/scipy-0.13.0.dev_c31f167_20130514-py2.7-macosx-10.8-intel.egg/scipy/optimize/zeros.py:149: RuntimeWarning: Tolerance of 9.95409669921e+12 reached\n",
        "  warnings.warn(msg, RuntimeWarning)\n"
       ]
      },
      {
       "output_type": "stream",
       "stream": "stderr",
       "text": [
        "/Library/Python/2.7/site-packages/scipy-0.13.0.dev_c31f167_20130514-py2.7-macosx-10.8-intel.egg/scipy/optimize/zeros.py:149: RuntimeWarning: Tolerance of -1.94957572513e+17 reached\n",
        "  warnings.warn(msg, RuntimeWarning)\n",
        "/Library/Python/2.7/site-packages/scipy-0.13.0.dev_c31f167_20130514-py2.7-macosx-10.8-intel.egg/scipy/optimize/zeros.py:149: RuntimeWarning: Tolerance of -4.49572884237e+13 reached\n",
        "  warnings.warn(msg, RuntimeWarning)\n"
       ]
      },
      {
       "output_type": "stream",
       "stream": "stderr",
       "text": [
        "/Library/Python/2.7/site-packages/scipy-0.13.0.dev_c31f167_20130514-py2.7-macosx-10.8-intel.egg/scipy/optimize/zeros.py:149: RuntimeWarning: Tolerance of 2.63055728392e+16 reached\n",
        "  warnings.warn(msg, RuntimeWarning)\n",
        "/Library/Python/2.7/site-packages/scipy-0.13.0.dev_c31f167_20130514-py2.7-macosx-10.8-intel.egg/scipy/optimize/zeros.py:149: RuntimeWarning: Tolerance of 1.19378776874e+16 reached\n",
        "  warnings.warn(msg, RuntimeWarning)\n"
       ]
      },
      {
       "output_type": "stream",
       "stream": "stderr",
       "text": [
        "/Library/Python/2.7/site-packages/scipy-0.13.0.dev_c31f167_20130514-py2.7-macosx-10.8-intel.egg/scipy/optimize/zeros.py:149: RuntimeWarning: Tolerance of 1.83663613342e+16 reached\n",
        "  warnings.warn(msg, RuntimeWarning)\n",
        "/Library/Python/2.7/site-packages/scipy-0.13.0.dev_c31f167_20130514-py2.7-macosx-10.8-intel.egg/scipy/optimize/zeros.py:149: RuntimeWarning: Tolerance of 2.93198542868e+16 reached\n",
        "  warnings.warn(msg, RuntimeWarning)\n"
       ]
      },
      {
       "output_type": "stream",
       "stream": "stderr",
       "text": [
        "/Library/Python/2.7/site-packages/scipy-0.13.0.dev_c31f167_20130514-py2.7-macosx-10.8-intel.egg/scipy/optimize/zeros.py:149: RuntimeWarning: Tolerance of -2.25537878161e+16 reached\n",
        "  warnings.warn(msg, RuntimeWarning)\n",
        "/Library/Python/2.7/site-packages/scipy-0.13.0.dev_c31f167_20130514-py2.7-macosx-10.8-intel.egg/scipy/optimize/zeros.py:149: RuntimeWarning: Tolerance of -1.03833455737e+17 reached\n",
        "  warnings.warn(msg, RuntimeWarning)\n"
       ]
      },
      {
       "output_type": "stream",
       "stream": "stderr",
       "text": [
        "/Library/Python/2.7/site-packages/scipy-0.13.0.dev_c31f167_20130514-py2.7-macosx-10.8-intel.egg/scipy/optimize/zeros.py:149: RuntimeWarning: Tolerance of 5.3839625493e+12 reached\n",
        "  warnings.warn(msg, RuntimeWarning)\n",
        "/Library/Python/2.7/site-packages/scipy-0.13.0.dev_c31f167_20130514-py2.7-macosx-10.8-intel.egg/scipy/optimize/zeros.py:149: RuntimeWarning: Tolerance of -1.85515562395e+16 reached\n",
        "  warnings.warn(msg, RuntimeWarning)\n"
       ]
      },
      {
       "output_type": "stream",
       "stream": "stderr",
       "text": [
        "/Library/Python/2.7/site-packages/scipy-0.13.0.dev_c31f167_20130514-py2.7-macosx-10.8-intel.egg/scipy/optimize/zeros.py:149: RuntimeWarning: Tolerance of 1.2206304465e+14 reached\n",
        "  warnings.warn(msg, RuntimeWarning)\n",
        "/Library/Python/2.7/site-packages/scipy-0.13.0.dev_c31f167_20130514-py2.7-macosx-10.8-intel.egg/scipy/optimize/zeros.py:149: RuntimeWarning: Tolerance of 1.68260727931e+15 reached\n",
        "  warnings.warn(msg, RuntimeWarning)\n"
       ]
      },
      {
       "output_type": "stream",
       "stream": "stderr",
       "text": [
        "/Library/Python/2.7/site-packages/scipy-0.13.0.dev_c31f167_20130514-py2.7-macosx-10.8-intel.egg/scipy/optimize/zeros.py:149: RuntimeWarning: Tolerance of -5.24400535527e+15 reached\n",
        "  warnings.warn(msg, RuntimeWarning)\n",
        "/Library/Python/2.7/site-packages/scipy-0.13.0.dev_c31f167_20130514-py2.7-macosx-10.8-intel.egg/scipy/optimize/zeros.py:149: RuntimeWarning: Tolerance of -3.58468634026e+16 reached\n",
        "  warnings.warn(msg, RuntimeWarning)\n"
       ]
      },
      {
       "output_type": "stream",
       "stream": "stderr",
       "text": [
        "/Library/Python/2.7/site-packages/scipy-0.13.0.dev_c31f167_20130514-py2.7-macosx-10.8-intel.egg/scipy/optimize/zeros.py:149: RuntimeWarning: Tolerance of 5.58760215062e+12 reached\n",
        "  warnings.warn(msg, RuntimeWarning)\n",
        "/Library/Python/2.7/site-packages/scipy-0.13.0.dev_c31f167_20130514-py2.7-macosx-10.8-intel.egg/scipy/optimize/zeros.py:149: RuntimeWarning: Tolerance of 7.96384332694e+12 reached\n",
        "  warnings.warn(msg, RuntimeWarning)\n"
       ]
      },
      {
       "output_type": "stream",
       "stream": "stderr",
       "text": [
        "/Library/Python/2.7/site-packages/scipy-0.13.0.dev_c31f167_20130514-py2.7-macosx-10.8-intel.egg/scipy/optimize/zeros.py:149: RuntimeWarning: Tolerance of 1.29468050489e+15 reached\n",
        "  warnings.warn(msg, RuntimeWarning)\n",
        "/Library/Python/2.7/site-packages/scipy-0.13.0.dev_c31f167_20130514-py2.7-macosx-10.8-intel.egg/scipy/optimize/zeros.py:149: RuntimeWarning: Tolerance of 5.54263021556e+16 reached\n",
        "  warnings.warn(msg, RuntimeWarning)\n"
       ]
      },
      {
       "output_type": "stream",
       "stream": "stderr",
       "text": [
        "/Library/Python/2.7/site-packages/scipy-0.13.0.dev_c31f167_20130514-py2.7-macosx-10.8-intel.egg/scipy/optimize/zeros.py:149: RuntimeWarning: Tolerance of -3.51839662559e+15 reached\n",
        "  warnings.warn(msg, RuntimeWarning)\n",
        "/Library/Python/2.7/site-packages/scipy-0.13.0.dev_c31f167_20130514-py2.7-macosx-10.8-intel.egg/scipy/optimize/zeros.py:149: RuntimeWarning: Tolerance of -1.6588705055e+16 reached\n",
        "  warnings.warn(msg, RuntimeWarning)\n"
       ]
      },
      {
       "output_type": "stream",
       "stream": "stderr",
       "text": [
        "/Library/Python/2.7/site-packages/scipy-0.13.0.dev_c31f167_20130514-py2.7-macosx-10.8-intel.egg/scipy/optimize/zeros.py:149: RuntimeWarning: Tolerance of -2.29360355173e+16 reached\n",
        "  warnings.warn(msg, RuntimeWarning)\n",
        "/Library/Python/2.7/site-packages/scipy-0.13.0.dev_c31f167_20130514-py2.7-macosx-10.8-intel.egg/scipy/optimize/zeros.py:149: RuntimeWarning: Tolerance of 3.44440838929e+18 reached\n",
        "  warnings.warn(msg, RuntimeWarning)\n"
       ]
      },
      {
       "output_type": "stream",
       "stream": "stderr",
       "text": [
        "/Library/Python/2.7/site-packages/scipy-0.13.0.dev_c31f167_20130514-py2.7-macosx-10.8-intel.egg/scipy/optimize/zeros.py:149: RuntimeWarning: Tolerance of -4.67762615434e+15 reached\n",
        "  warnings.warn(msg, RuntimeWarning)\n",
        "/Library/Python/2.7/site-packages/scipy-0.13.0.dev_c31f167_20130514-py2.7-macosx-10.8-intel.egg/scipy/optimize/zeros.py:149: RuntimeWarning: Tolerance of 1.3270932862e+16 reached\n",
        "  warnings.warn(msg, RuntimeWarning)\n"
       ]
      },
      {
       "output_type": "stream",
       "stream": "stderr",
       "text": [
        "/Library/Python/2.7/site-packages/scipy-0.13.0.dev_c31f167_20130514-py2.7-macosx-10.8-intel.egg/scipy/optimize/zeros.py:149: RuntimeWarning: Tolerance of 1.26019472e+16 reached\n",
        "  warnings.warn(msg, RuntimeWarning)\n",
        "/Library/Python/2.7/site-packages/scipy-0.13.0.dev_c31f167_20130514-py2.7-macosx-10.8-intel.egg/scipy/optimize/zeros.py:149: RuntimeWarning: Tolerance of 4.00203554929e+14 reached\n",
        "  warnings.warn(msg, RuntimeWarning)\n"
       ]
      },
      {
       "output_type": "stream",
       "stream": "stderr",
       "text": [
        "/Library/Python/2.7/site-packages/scipy-0.13.0.dev_c31f167_20130514-py2.7-macosx-10.8-intel.egg/scipy/optimize/zeros.py:149: RuntimeWarning: Tolerance of -5.60000811563e+14 reached\n",
        "  warnings.warn(msg, RuntimeWarning)\n",
        "/Library/Python/2.7/site-packages/scipy-0.13.0.dev_c31f167_20130514-py2.7-macosx-10.8-intel.egg/scipy/optimize/zeros.py:149: RuntimeWarning: Tolerance of -6.31198854723e+15 reached\n",
        "  warnings.warn(msg, RuntimeWarning)\n"
       ]
      },
      {
       "output_type": "stream",
       "stream": "stderr",
       "text": [
        "/Library/Python/2.7/site-packages/scipy-0.13.0.dev_c31f167_20130514-py2.7-macosx-10.8-intel.egg/scipy/optimize/zeros.py:149: RuntimeWarning: Tolerance of 2.89897785063e+17 reached\n",
        "  warnings.warn(msg, RuntimeWarning)\n",
        "/Library/Python/2.7/site-packages/scipy-0.13.0.dev_c31f167_20130514-py2.7-macosx-10.8-intel.egg/scipy/optimize/zeros.py:149: RuntimeWarning: Tolerance of -1.75659694809e+14 reached\n",
        "  warnings.warn(msg, RuntimeWarning)\n"
       ]
      },
      {
       "output_type": "stream",
       "stream": "stderr",
       "text": [
        "/Library/Python/2.7/site-packages/scipy-0.13.0.dev_c31f167_20130514-py2.7-macosx-10.8-intel.egg/scipy/optimize/zeros.py:149: RuntimeWarning: Tolerance of -1.89639941491e+16 reached\n",
        "  warnings.warn(msg, RuntimeWarning)\n",
        "/Library/Python/2.7/site-packages/scipy-0.13.0.dev_c31f167_20130514-py2.7-macosx-10.8-intel.egg/scipy/optimize/zeros.py:149: RuntimeWarning: Tolerance of -6.94727385834e+16 reached\n",
        "  warnings.warn(msg, RuntimeWarning)\n"
       ]
      },
      {
       "output_type": "stream",
       "stream": "stderr",
       "text": [
        "/Library/Python/2.7/site-packages/scipy-0.13.0.dev_c31f167_20130514-py2.7-macosx-10.8-intel.egg/scipy/optimize/zeros.py:149: RuntimeWarning: Tolerance of 4.01132021969e+15 reached\n",
        "  warnings.warn(msg, RuntimeWarning)\n",
        "/Library/Python/2.7/site-packages/scipy-0.13.0.dev_c31f167_20130514-py2.7-macosx-10.8-intel.egg/scipy/optimize/zeros.py:149: RuntimeWarning: Tolerance of -3.03151385684e+13 reached\n",
        "  warnings.warn(msg, RuntimeWarning)\n"
       ]
      },
      {
       "output_type": "stream",
       "stream": "stderr",
       "text": [
        "/Library/Python/2.7/site-packages/scipy-0.13.0.dev_c31f167_20130514-py2.7-macosx-10.8-intel.egg/scipy/optimize/zeros.py:149: RuntimeWarning: Tolerance of 8.05979521289e+15 reached\n",
        "  warnings.warn(msg, RuntimeWarning)\n",
        "/Library/Python/2.7/site-packages/scipy-0.13.0.dev_c31f167_20130514-py2.7-macosx-10.8-intel.egg/scipy/optimize/zeros.py:149: RuntimeWarning: Tolerance of 2.9674921622e+14 reached\n",
        "  warnings.warn(msg, RuntimeWarning)\n"
       ]
      },
      {
       "output_type": "stream",
       "stream": "stderr",
       "text": [
        "/Library/Python/2.7/site-packages/scipy-0.13.0.dev_c31f167_20130514-py2.7-macosx-10.8-intel.egg/scipy/optimize/zeros.py:149: RuntimeWarning: Tolerance of 1.57976813075e+16 reached\n",
        "  warnings.warn(msg, RuntimeWarning)\n",
        "/Library/Python/2.7/site-packages/scipy-0.13.0.dev_c31f167_20130514-py2.7-macosx-10.8-intel.egg/scipy/optimize/zeros.py:149: RuntimeWarning: Tolerance of -3.39121256386e+15 reached\n",
        "  warnings.warn(msg, RuntimeWarning)\n"
       ]
      },
      {
       "output_type": "stream",
       "stream": "stderr",
       "text": [
        "/Library/Python/2.7/site-packages/scipy-0.13.0.dev_c31f167_20130514-py2.7-macosx-10.8-intel.egg/scipy/optimize/zeros.py:149: RuntimeWarning: Tolerance of 3.30435207287e+16 reached\n",
        "  warnings.warn(msg, RuntimeWarning)\n",
        "/Library/Python/2.7/site-packages/scipy-0.13.0.dev_c31f167_20130514-py2.7-macosx-10.8-intel.egg/scipy/optimize/zeros.py:149: RuntimeWarning: Tolerance of 3.48850764317e+15 reached\n",
        "  warnings.warn(msg, RuntimeWarning)\n"
       ]
      },
      {
       "output_type": "stream",
       "stream": "stdout",
       "text": [
        "\n",
        "deleting item T1map_LL"
       ]
      },
      {
       "output_type": "stream",
       "stream": "stdout",
       "text": [
        "\n",
        "deleting item T1map_LL_fitdict"
       ]
      },
      {
       "output_type": "stream",
       "stream": "stderr",
       "text": [
        "WARNING:sarpy.io.BRUKERIO:NSLICES not equal to number of ACQ_obj_order\n"
       ]
      },
      {
       "output_type": "stream",
       "stream": "stderr",
       "text": [
        "/Library/Python/2.7/site-packages/scipy-0.13.0.dev_c31f167_20130514-py2.7-macosx-10.8-intel.egg/scipy/optimize/zeros.py:149: RuntimeWarning: Tolerance of -1.67638063431e-08 reached\n",
        "  warnings.warn(msg, RuntimeWarning)\n",
        "/Library/Python/2.7/site-packages/scipy-0.13.0.dev_c31f167_20130514-py2.7-macosx-10.8-intel.egg/scipy/optimize/zeros.py:149: RuntimeWarning: Tolerance of 4.49333999808e+14 reached\n",
        "  warnings.warn(msg, RuntimeWarning)\n"
       ]
      },
      {
       "output_type": "stream",
       "stream": "stderr",
       "text": [
        "/Library/Python/2.7/site-packages/scipy-0.13.0.dev_c31f167_20130514-py2.7-macosx-10.8-intel.egg/scipy/optimize/zeros.py:149: RuntimeWarning: Tolerance of -1.1495625216e+16 reached\n",
        "  warnings.warn(msg, RuntimeWarning)\n",
        "/Library/Python/2.7/site-packages/scipy-0.13.0.dev_c31f167_20130514-py2.7-macosx-10.8-intel.egg/scipy/optimize/zeros.py:149: RuntimeWarning: Tolerance of 7.2007170396e+16 reached\n",
        "  warnings.warn(msg, RuntimeWarning)\n"
       ]
      },
      {
       "output_type": "stream",
       "stream": "stderr",
       "text": [
        "/Library/Python/2.7/site-packages/scipy-0.13.0.dev_c31f167_20130514-py2.7-macosx-10.8-intel.egg/scipy/optimize/zeros.py:149: RuntimeWarning: Tolerance of -2.03355329103e+16 reached\n",
        "  warnings.warn(msg, RuntimeWarning)\n",
        "/Library/Python/2.7/site-packages/scipy-0.13.0.dev_c31f167_20130514-py2.7-macosx-10.8-intel.egg/scipy/optimize/zeros.py:149: RuntimeWarning: Tolerance of 1.71215444508e+14 reached\n",
        "  warnings.warn(msg, RuntimeWarning)\n"
       ]
      },
      {
       "output_type": "stream",
       "stream": "stderr",
       "text": [
        "/Library/Python/2.7/site-packages/scipy-0.13.0.dev_c31f167_20130514-py2.7-macosx-10.8-intel.egg/scipy/optimize/zeros.py:149: RuntimeWarning: Tolerance of 7.53540746145e+15 reached\n",
        "  warnings.warn(msg, RuntimeWarning)\n",
        "/Library/Python/2.7/site-packages/scipy-0.13.0.dev_c31f167_20130514-py2.7-macosx-10.8-intel.egg/scipy/optimize/zeros.py:149: RuntimeWarning: Tolerance of 4.8382451641e+16 reached\n",
        "  warnings.warn(msg, RuntimeWarning)\n"
       ]
      },
      {
       "output_type": "stream",
       "stream": "stderr",
       "text": [
        "/Library/Python/2.7/site-packages/scipy-0.13.0.dev_c31f167_20130514-py2.7-macosx-10.8-intel.egg/scipy/optimize/zeros.py:149: RuntimeWarning: Tolerance of -1.0810347867e+17 reached\n",
        "  warnings.warn(msg, RuntimeWarning)\n",
        "/Library/Python/2.7/site-packages/scipy-0.13.0.dev_c31f167_20130514-py2.7-macosx-10.8-intel.egg/scipy/optimize/zeros.py:149: RuntimeWarning: Tolerance of -3.41168141236e+14 reached\n",
        "  warnings.warn(msg, RuntimeWarning)\n"
       ]
      },
      {
       "output_type": "stream",
       "stream": "stderr",
       "text": [
        "/Library/Python/2.7/site-packages/scipy-0.13.0.dev_c31f167_20130514-py2.7-macosx-10.8-intel.egg/scipy/optimize/zeros.py:149: RuntimeWarning: Tolerance of -2.05583857241e+15 reached\n",
        "  warnings.warn(msg, RuntimeWarning)\n",
        "/Library/Python/2.7/site-packages/scipy-0.13.0.dev_c31f167_20130514-py2.7-macosx-10.8-intel.egg/scipy/optimize/zeros.py:149: RuntimeWarning: Tolerance of 4.88370958222e+14 reached\n",
        "  warnings.warn(msg, RuntimeWarning)\n"
       ]
      },
      {
       "output_type": "stream",
       "stream": "stderr",
       "text": [
        "/Library/Python/2.7/site-packages/scipy-0.13.0.dev_c31f167_20130514-py2.7-macosx-10.8-intel.egg/scipy/optimize/zeros.py:149: RuntimeWarning: Tolerance of -5.83448272739e+14 reached\n",
        "  warnings.warn(msg, RuntimeWarning)\n",
        "/Library/Python/2.7/site-packages/scipy-0.13.0.dev_c31f167_20130514-py2.7-macosx-10.8-intel.egg/scipy/optimize/zeros.py:149: RuntimeWarning: Tolerance of 5.59601188787e+15 reached\n",
        "  warnings.warn(msg, RuntimeWarning)\n"
       ]
      },
      {
       "output_type": "stream",
       "stream": "stderr",
       "text": [
        "/Library/Python/2.7/site-packages/scipy-0.13.0.dev_c31f167_20130514-py2.7-macosx-10.8-intel.egg/scipy/optimize/zeros.py:149: RuntimeWarning: Tolerance of -5.30869533422e+14 reached\n",
        "  warnings.warn(msg, RuntimeWarning)\n",
        "/Library/Python/2.7/site-packages/scipy-0.13.0.dev_c31f167_20130514-py2.7-macosx-10.8-intel.egg/scipy/optimize/zeros.py:149: RuntimeWarning: Tolerance of -2.32563988491e+16 reached\n",
        "  warnings.warn(msg, RuntimeWarning)\n"
       ]
      },
      {
       "output_type": "stream",
       "stream": "stderr",
       "text": [
        "/Library/Python/2.7/site-packages/scipy-0.13.0.dev_c31f167_20130514-py2.7-macosx-10.8-intel.egg/scipy/optimize/zeros.py:149: RuntimeWarning: Tolerance of -2.69836249686e+16 reached\n",
        "  warnings.warn(msg, RuntimeWarning)\n",
        "/Library/Python/2.7/site-packages/scipy-0.13.0.dev_c31f167_20130514-py2.7-macosx-10.8-intel.egg/scipy/optimize/zeros.py:149: RuntimeWarning: Tolerance of -4.42320942856e+16 reached\n",
        "  warnings.warn(msg, RuntimeWarning)\n"
       ]
      },
      {
       "output_type": "stream",
       "stream": "stderr",
       "text": [
        "/Library/Python/2.7/site-packages/scipy-0.13.0.dev_c31f167_20130514-py2.7-macosx-10.8-intel.egg/scipy/optimize/zeros.py:149: RuntimeWarning: Tolerance of 3.59007191317e+14 reached\n",
        "  warnings.warn(msg, RuntimeWarning)\n",
        "/Library/Python/2.7/site-packages/scipy-0.13.0.dev_c31f167_20130514-py2.7-macosx-10.8-intel.egg/scipy/optimize/zeros.py:149: RuntimeWarning: Tolerance of -1.13083116188e+16 reached\n",
        "  warnings.warn(msg, RuntimeWarning)\n"
       ]
      },
      {
       "output_type": "stream",
       "stream": "stderr",
       "text": [
        "/Library/Python/2.7/site-packages/scipy-0.13.0.dev_c31f167_20130514-py2.7-macosx-10.8-intel.egg/scipy/optimize/zeros.py:149: RuntimeWarning: Tolerance of 1.18438262139e+15 reached\n",
        "  warnings.warn(msg, RuntimeWarning)\n",
        "/Library/Python/2.7/site-packages/scipy-0.13.0.dev_c31f167_20130514-py2.7-macosx-10.8-intel.egg/scipy/optimize/zeros.py:149: RuntimeWarning: Tolerance of 3.07097916386e+15 reached\n",
        "  warnings.warn(msg, RuntimeWarning)\n"
       ]
      },
      {
       "output_type": "stream",
       "stream": "stderr",
       "text": [
        "/Library/Python/2.7/site-packages/scipy-0.13.0.dev_c31f167_20130514-py2.7-macosx-10.8-intel.egg/scipy/optimize/zeros.py:149: RuntimeWarning: Tolerance of -1.13960460289e+16 reached\n",
        "  warnings.warn(msg, RuntimeWarning)\n",
        "/Library/Python/2.7/site-packages/scipy-0.13.0.dev_c31f167_20130514-py2.7-macosx-10.8-intel.egg/scipy/optimize/zeros.py:149: RuntimeWarning: Tolerance of 2.15383972862e+15 reached\n",
        "  warnings.warn(msg, RuntimeWarning)\n"
       ]
      },
      {
       "output_type": "stream",
       "stream": "stderr",
       "text": [
        "/Library/Python/2.7/site-packages/scipy-0.13.0.dev_c31f167_20130514-py2.7-macosx-10.8-intel.egg/scipy/optimize/zeros.py:149: RuntimeWarning: Tolerance of -2.31758129207e+15 reached\n",
        "  warnings.warn(msg, RuntimeWarning)\n",
        "/Library/Python/2.7/site-packages/scipy-0.13.0.dev_c31f167_20130514-py2.7-macosx-10.8-intel.egg/scipy/optimize/zeros.py:149: RuntimeWarning: Tolerance of 1.58875596244e+15 reached\n",
        "  warnings.warn(msg, RuntimeWarning)\n"
       ]
      },
      {
       "output_type": "stream",
       "stream": "stderr",
       "text": [
        "/Library/Python/2.7/site-packages/scipy-0.13.0.dev_c31f167_20130514-py2.7-macosx-10.8-intel.egg/scipy/optimize/zeros.py:149: RuntimeWarning: Tolerance of 1.02725887363e+16 reached\n",
        "  warnings.warn(msg, RuntimeWarning)\n",
        "/Library/Python/2.7/site-packages/scipy-0.13.0.dev_c31f167_20130514-py2.7-macosx-10.8-intel.egg/scipy/optimize/zeros.py:149: RuntimeWarning: Tolerance of 5.82341233195e+15 reached\n",
        "  warnings.warn(msg, RuntimeWarning)\n"
       ]
      },
      {
       "output_type": "stream",
       "stream": "stderr",
       "text": [
        "/Library/Python/2.7/site-packages/scipy-0.13.0.dev_c31f167_20130514-py2.7-macosx-10.8-intel.egg/scipy/optimize/zeros.py:149: RuntimeWarning: Tolerance of -6.37192549467e+14 reached\n",
        "  warnings.warn(msg, RuntimeWarning)\n",
        "/Library/Python/2.7/site-packages/scipy-0.13.0.dev_c31f167_20130514-py2.7-macosx-10.8-intel.egg/scipy/optimize/zeros.py:149: RuntimeWarning: Tolerance of 1.17262326365e+16 reached\n",
        "  warnings.warn(msg, RuntimeWarning)\n"
       ]
      },
      {
       "output_type": "stream",
       "stream": "stderr",
       "text": [
        "/Library/Python/2.7/site-packages/scipy-0.13.0.dev_c31f167_20130514-py2.7-macosx-10.8-intel.egg/scipy/optimize/zeros.py:149: RuntimeWarning: Tolerance of -6.33687233878e+15 reached\n",
        "  warnings.warn(msg, RuntimeWarning)\n",
        "/Library/Python/2.7/site-packages/scipy-0.13.0.dev_c31f167_20130514-py2.7-macosx-10.8-intel.egg/scipy/optimize/zeros.py:149: RuntimeWarning: Tolerance of -4.52391949422e+15 reached\n",
        "  warnings.warn(msg, RuntimeWarning)\n"
       ]
      },
      {
       "output_type": "stream",
       "stream": "stderr",
       "text": [
        "/Library/Python/2.7/site-packages/scipy-0.13.0.dev_c31f167_20130514-py2.7-macosx-10.8-intel.egg/scipy/optimize/zeros.py:149: RuntimeWarning: Tolerance of -2.53967769673e+14 reached\n",
        "  warnings.warn(msg, RuntimeWarning)\n",
        "/Library/Python/2.7/site-packages/scipy-0.13.0.dev_c31f167_20130514-py2.7-macosx-10.8-intel.egg/scipy/optimize/zeros.py:149: RuntimeWarning: Tolerance of 6.77420449553e+16 reached\n",
        "  warnings.warn(msg, RuntimeWarning)\n"
       ]
      },
      {
       "output_type": "stream",
       "stream": "stderr",
       "text": [
        "/Library/Python/2.7/site-packages/scipy-0.13.0.dev_c31f167_20130514-py2.7-macosx-10.8-intel.egg/scipy/optimize/zeros.py:149: RuntimeWarning: Tolerance of -8.86704402507e+15 reached\n",
        "  warnings.warn(msg, RuntimeWarning)\n",
        "/Library/Python/2.7/site-packages/scipy-0.13.0.dev_c31f167_20130514-py2.7-macosx-10.8-intel.egg/scipy/optimize/zeros.py:149: RuntimeWarning: Tolerance of 833091741497.0 reached\n",
        "  warnings.warn(msg, RuntimeWarning)\n"
       ]
      },
      {
       "output_type": "stream",
       "stream": "stderr",
       "text": [
        "/Library/Python/2.7/site-packages/scipy-0.13.0.dev_c31f167_20130514-py2.7-macosx-10.8-intel.egg/scipy/optimize/zeros.py:149: RuntimeWarning: Tolerance of 1.58541774983e+15 reached\n",
        "  warnings.warn(msg, RuntimeWarning)\n",
        "/Library/Python/2.7/site-packages/scipy-0.13.0.dev_c31f167_20130514-py2.7-macosx-10.8-intel.egg/scipy/optimize/zeros.py:149: RuntimeWarning: Tolerance of 7.42901629412e+13 reached\n",
        "  warnings.warn(msg, RuntimeWarning)\n"
       ]
      },
      {
       "output_type": "stream",
       "stream": "stderr",
       "text": [
        "/Library/Python/2.7/site-packages/scipy-0.13.0.dev_c31f167_20130514-py2.7-macosx-10.8-intel.egg/scipy/optimize/zeros.py:149: RuntimeWarning: Tolerance of -7.38625915001e+15 reached\n",
        "  warnings.warn(msg, RuntimeWarning)\n",
        "/Library/Python/2.7/site-packages/scipy-0.13.0.dev_c31f167_20130514-py2.7-macosx-10.8-intel.egg/scipy/optimize/zeros.py:149: RuntimeWarning: Tolerance of -7.78527730526e+14 reached\n",
        "  warnings.warn(msg, RuntimeWarning)\n"
       ]
      },
      {
       "output_type": "stream",
       "stream": "stderr",
       "text": [
        "/Library/Python/2.7/site-packages/scipy-0.13.0.dev_c31f167_20130514-py2.7-macosx-10.8-intel.egg/scipy/optimize/zeros.py:149: RuntimeWarning: Tolerance of 3.85924642609e+14 reached\n",
        "  warnings.warn(msg, RuntimeWarning)\n",
        "/Library/Python/2.7/site-packages/scipy-0.13.0.dev_c31f167_20130514-py2.7-macosx-10.8-intel.egg/scipy/optimize/zeros.py:149: RuntimeWarning: Tolerance of 7.61441644134e+16 reached\n",
        "  warnings.warn(msg, RuntimeWarning)\n"
       ]
      },
      {
       "output_type": "stream",
       "stream": "stderr",
       "text": [
        "/Library/Python/2.7/site-packages/scipy-0.13.0.dev_c31f167_20130514-py2.7-macosx-10.8-intel.egg/scipy/optimize/zeros.py:149: RuntimeWarning: Tolerance of -4.99898610116e+15 reached\n",
        "  warnings.warn(msg, RuntimeWarning)\n",
        "/Library/Python/2.7/site-packages/scipy-0.13.0.dev_c31f167_20130514-py2.7-macosx-10.8-intel.egg/scipy/optimize/zeros.py:149: RuntimeWarning: Tolerance of 7.70564378949e+13 reached\n",
        "  warnings.warn(msg, RuntimeWarning)\n"
       ]
      },
      {
       "output_type": "stream",
       "stream": "stderr",
       "text": [
        "/Library/Python/2.7/site-packages/scipy-0.13.0.dev_c31f167_20130514-py2.7-macosx-10.8-intel.egg/scipy/optimize/zeros.py:149: RuntimeWarning: Tolerance of 2.63740443029e+14 reached\n",
        "  warnings.warn(msg, RuntimeWarning)\n",
        "/Library/Python/2.7/site-packages/scipy-0.13.0.dev_c31f167_20130514-py2.7-macosx-10.8-intel.egg/scipy/optimize/zeros.py:149: RuntimeWarning: Tolerance of 2.01253738247e+16 reached\n",
        "  warnings.warn(msg, RuntimeWarning)\n"
       ]
      },
      {
       "output_type": "stream",
       "stream": "stderr",
       "text": [
        "/Library/Python/2.7/site-packages/scipy-0.13.0.dev_c31f167_20130514-py2.7-macosx-10.8-intel.egg/scipy/optimize/zeros.py:149: RuntimeWarning: Tolerance of -2.27271987394e+14 reached\n",
        "  warnings.warn(msg, RuntimeWarning)\n",
        "/Library/Python/2.7/site-packages/scipy-0.13.0.dev_c31f167_20130514-py2.7-macosx-10.8-intel.egg/scipy/optimize/zeros.py:149: RuntimeWarning: Tolerance of 2.08724448287e+16 reached\n",
        "  warnings.warn(msg, RuntimeWarning)\n"
       ]
      },
      {
       "output_type": "stream",
       "stream": "stderr",
       "text": [
        "/Library/Python/2.7/site-packages/scipy-0.13.0.dev_c31f167_20130514-py2.7-macosx-10.8-intel.egg/scipy/optimize/zeros.py:149: RuntimeWarning: Tolerance of -3.4712091575e+12 reached\n",
        "  warnings.warn(msg, RuntimeWarning)\n",
        "/Library/Python/2.7/site-packages/scipy-0.13.0.dev_c31f167_20130514-py2.7-macosx-10.8-intel.egg/scipy/optimize/zeros.py:149: RuntimeWarning: Tolerance of -6.30866471388e+13 reached\n",
        "  warnings.warn(msg, RuntimeWarning)\n"
       ]
      },
      {
       "output_type": "stream",
       "stream": "stderr",
       "text": [
        "/Library/Python/2.7/site-packages/scipy-0.13.0.dev_c31f167_20130514-py2.7-macosx-10.8-intel.egg/scipy/optimize/zeros.py:149: RuntimeWarning: Tolerance of -1.67415972859e+16 reached\n",
        "  warnings.warn(msg, RuntimeWarning)\n",
        "/Library/Python/2.7/site-packages/scipy-0.13.0.dev_c31f167_20130514-py2.7-macosx-10.8-intel.egg/scipy/optimize/zeros.py:149: RuntimeWarning: Tolerance of 1.23963177413e+13 reached\n",
        "  warnings.warn(msg, RuntimeWarning)\n"
       ]
      },
      {
       "output_type": "stream",
       "stream": "stderr",
       "text": [
        "/Library/Python/2.7/site-packages/scipy-0.13.0.dev_c31f167_20130514-py2.7-macosx-10.8-intel.egg/scipy/optimize/zeros.py:149: RuntimeWarning: Tolerance of 2.87827657277e+16 reached\n",
        "  warnings.warn(msg, RuntimeWarning)\n",
        "/Library/Python/2.7/site-packages/scipy-0.13.0.dev_c31f167_20130514-py2.7-macosx-10.8-intel.egg/scipy/optimize/zeros.py:149: RuntimeWarning: Tolerance of 5.42792986213e+16 reached\n",
        "  warnings.warn(msg, RuntimeWarning)\n"
       ]
      },
      {
       "output_type": "stream",
       "stream": "stderr",
       "text": [
        "/Library/Python/2.7/site-packages/scipy-0.13.0.dev_c31f167_20130514-py2.7-macosx-10.8-intel.egg/scipy/optimize/zeros.py:149: RuntimeWarning: Tolerance of -1.46922382652e+15 reached\n",
        "  warnings.warn(msg, RuntimeWarning)\n",
        "/Library/Python/2.7/site-packages/scipy-0.13.0.dev_c31f167_20130514-py2.7-macosx-10.8-intel.egg/scipy/optimize/zeros.py:149: RuntimeWarning: Tolerance of -6.63036960261e+14 reached\n",
        "  warnings.warn(msg, RuntimeWarning)\n"
       ]
      },
      {
       "output_type": "stream",
       "stream": "stderr",
       "text": [
        "/Library/Python/2.7/site-packages/scipy-0.13.0.dev_c31f167_20130514-py2.7-macosx-10.8-intel.egg/scipy/optimize/zeros.py:149: RuntimeWarning: Tolerance of -6.42461145998e+13 reached\n",
        "  warnings.warn(msg, RuntimeWarning)\n",
        "/Library/Python/2.7/site-packages/scipy-0.13.0.dev_c31f167_20130514-py2.7-macosx-10.8-intel.egg/scipy/optimize/zeros.py:149: RuntimeWarning: Tolerance of -1.80948836396e+14 reached\n",
        "  warnings.warn(msg, RuntimeWarning)\n"
       ]
      },
      {
       "output_type": "stream",
       "stream": "stderr",
       "text": [
        "/Library/Python/2.7/site-packages/scipy-0.13.0.dev_c31f167_20130514-py2.7-macosx-10.8-intel.egg/scipy/optimize/zeros.py:149: RuntimeWarning: Tolerance of 2.82141618625e+16 reached\n",
        "  warnings.warn(msg, RuntimeWarning)\n",
        "/Library/Python/2.7/site-packages/scipy-0.13.0.dev_c31f167_20130514-py2.7-macosx-10.8-intel.egg/scipy/optimize/zeros.py:149: RuntimeWarning: Tolerance of 2.09862703046e+16 reached\n",
        "  warnings.warn(msg, RuntimeWarning)\n"
       ]
      },
      {
       "output_type": "stream",
       "stream": "stderr",
       "text": [
        "/Library/Python/2.7/site-packages/scipy-0.13.0.dev_c31f167_20130514-py2.7-macosx-10.8-intel.egg/scipy/optimize/zeros.py:149: RuntimeWarning: Tolerance of 2.1246060602e+15 reached\n",
        "  warnings.warn(msg, RuntimeWarning)\n",
        "/Library/Python/2.7/site-packages/scipy-0.13.0.dev_c31f167_20130514-py2.7-macosx-10.8-intel.egg/scipy/optimize/zeros.py:149: RuntimeWarning: Tolerance of 5.55951077729e+13 reached\n",
        "  warnings.warn(msg, RuntimeWarning)\n"
       ]
      },
      {
       "output_type": "stream",
       "stream": "stderr",
       "text": [
        "/Library/Python/2.7/site-packages/scipy-0.13.0.dev_c31f167_20130514-py2.7-macosx-10.8-intel.egg/scipy/optimize/zeros.py:149: RuntimeWarning: Tolerance of 3.0169292247e+15 reached\n",
        "  warnings.warn(msg, RuntimeWarning)\n",
        "/Library/Python/2.7/site-packages/scipy-0.13.0.dev_c31f167_20130514-py2.7-macosx-10.8-intel.egg/scipy/optimize/zeros.py:149: RuntimeWarning: Tolerance of -4.10333736145e+15 reached\n",
        "  warnings.warn(msg, RuntimeWarning)\n"
       ]
      },
      {
       "output_type": "stream",
       "stream": "stderr",
       "text": [
        "/Library/Python/2.7/site-packages/scipy-0.13.0.dev_c31f167_20130514-py2.7-macosx-10.8-intel.egg/scipy/optimize/zeros.py:149: RuntimeWarning: Tolerance of 3.87358148842e+15 reached\n",
        "  warnings.warn(msg, RuntimeWarning)\n",
        "/Library/Python/2.7/site-packages/scipy-0.13.0.dev_c31f167_20130514-py2.7-macosx-10.8-intel.egg/scipy/optimize/zeros.py:149: RuntimeWarning: Tolerance of -8.84164155205e+14 reached\n",
        "  warnings.warn(msg, RuntimeWarning)\n"
       ]
      },
      {
       "output_type": "stream",
       "stream": "stderr",
       "text": [
        "/Library/Python/2.7/site-packages/scipy-0.13.0.dev_c31f167_20130514-py2.7-macosx-10.8-intel.egg/scipy/optimize/zeros.py:149: RuntimeWarning: Tolerance of 5.79287083116e+16 reached\n",
        "  warnings.warn(msg, RuntimeWarning)\n",
        "/Library/Python/2.7/site-packages/scipy-0.13.0.dev_c31f167_20130514-py2.7-macosx-10.8-intel.egg/scipy/optimize/zeros.py:149: RuntimeWarning: Tolerance of -1.75896007136e+16 reached\n",
        "  warnings.warn(msg, RuntimeWarning)\n"
       ]
      },
      {
       "output_type": "stream",
       "stream": "stderr",
       "text": [
        "/Library/Python/2.7/site-packages/scipy-0.13.0.dev_c31f167_20130514-py2.7-macosx-10.8-intel.egg/scipy/optimize/zeros.py:149: RuntimeWarning: Tolerance of 3.74170381883e+18 reached\n",
        "  warnings.warn(msg, RuntimeWarning)\n",
        "/Library/Python/2.7/site-packages/scipy-0.13.0.dev_c31f167_20130514-py2.7-macosx-10.8-intel.egg/scipy/optimize/zeros.py:149: RuntimeWarning: Tolerance of 2138995809.25 reached\n",
        "  warnings.warn(msg, RuntimeWarning)\n"
       ]
      },
      {
       "output_type": "stream",
       "stream": "stderr",
       "text": [
        "/Library/Python/2.7/site-packages/scipy-0.13.0.dev_c31f167_20130514-py2.7-macosx-10.8-intel.egg/scipy/optimize/zeros.py:149: RuntimeWarning: Tolerance of 7.16500232252e+15 reached\n",
        "  warnings.warn(msg, RuntimeWarning)\n",
        "/Library/Python/2.7/site-packages/scipy-0.13.0.dev_c31f167_20130514-py2.7-macosx-10.8-intel.egg/scipy/optimize/zeros.py:149: RuntimeWarning: Tolerance of -3.71364876628e-08 reached\n",
        "  warnings.warn(msg, RuntimeWarning)\n"
       ]
      },
      {
       "output_type": "stream",
       "stream": "stderr",
       "text": [
        "/Library/Python/2.7/site-packages/scipy-0.13.0.dev_c31f167_20130514-py2.7-macosx-10.8-intel.egg/scipy/optimize/zeros.py:149: RuntimeWarning: Tolerance of -2.54650162983e+16 reached\n",
        "  warnings.warn(msg, RuntimeWarning)\n",
        "/Library/Python/2.7/site-packages/scipy-0.13.0.dev_c31f167_20130514-py2.7-macosx-10.8-intel.egg/scipy/optimize/zeros.py:149: RuntimeWarning: Tolerance of 3.87187345951e+18 reached\n",
        "  warnings.warn(msg, RuntimeWarning)\n"
       ]
      },
      {
       "output_type": "stream",
       "stream": "stderr",
       "text": [
        "/Library/Python/2.7/site-packages/scipy-0.13.0.dev_c31f167_20130514-py2.7-macosx-10.8-intel.egg/scipy/optimize/zeros.py:149: RuntimeWarning: Tolerance of 7.59482553063e+15 reached\n",
        "  warnings.warn(msg, RuntimeWarning)\n",
        "/Library/Python/2.7/site-packages/scipy-0.13.0.dev_c31f167_20130514-py2.7-macosx-10.8-intel.egg/scipy/optimize/zeros.py:149: RuntimeWarning: Tolerance of -9.66842078995e+15 reached\n",
        "  warnings.warn(msg, RuntimeWarning)\n"
       ]
      },
      {
       "output_type": "stream",
       "stream": "stderr",
       "text": [
        "/Library/Python/2.7/site-packages/scipy-0.13.0.dev_c31f167_20130514-py2.7-macosx-10.8-intel.egg/scipy/optimize/zeros.py:149: RuntimeWarning: Tolerance of -9.2496680866e+15 reached\n",
        "  warnings.warn(msg, RuntimeWarning)\n",
        "/Library/Python/2.7/site-packages/scipy-0.13.0.dev_c31f167_20130514-py2.7-macosx-10.8-intel.egg/scipy/optimize/zeros.py:149: RuntimeWarning: Tolerance of 3.37500728434e+14 reached\n",
        "  warnings.warn(msg, RuntimeWarning)\n"
       ]
      },
      {
       "output_type": "stream",
       "stream": "stdout",
       "text": [
        "\n",
        "deleting item T1map_LL"
       ]
      },
      {
       "output_type": "stream",
       "stream": "stdout",
       "text": [
        "\n",
        "deleting item T1map_LL_fitdict"
       ]
      },
      {
       "output_type": "stream",
       "stream": "stderr",
       "text": [
        "/Library/Python/2.7/site-packages/scipy-0.13.0.dev_c31f167_20130514-py2.7-macosx-10.8-intel.egg/scipy/optimize/zeros.py:149: RuntimeWarning: Tolerance of -3.51429694535e+14 reached\n",
        "  warnings.warn(msg, RuntimeWarning)\n",
        "WARNING:sarpy.io.BRUKERIO:NSLICES not equal to number of ACQ_obj_order\n"
       ]
      },
      {
       "output_type": "stream",
       "stream": "stderr",
       "text": [
        "/Library/Python/2.7/site-packages/scipy-0.13.0.dev_c31f167_20130514-py2.7-macosx-10.8-intel.egg/scipy/optimize/zeros.py:149: RuntimeWarning: Tolerance of 2.82747348665e+16 reached\n",
        "  warnings.warn(msg, RuntimeWarning)\n",
        "/Library/Python/2.7/site-packages/scipy-0.13.0.dev_c31f167_20130514-py2.7-macosx-10.8-intel.egg/scipy/optimize/zeros.py:149: RuntimeWarning: Tolerance of 6.56856782012e+13 reached\n",
        "  warnings.warn(msg, RuntimeWarning)\n"
       ]
      },
      {
       "output_type": "stream",
       "stream": "stderr",
       "text": [
        "/Library/Python/2.7/site-packages/scipy-0.13.0.dev_c31f167_20130514-py2.7-macosx-10.8-intel.egg/scipy/optimize/zeros.py:149: RuntimeWarning: Tolerance of 7.62363524666e+15 reached\n",
        "  warnings.warn(msg, RuntimeWarning)\n",
        "/Library/Python/2.7/site-packages/scipy-0.13.0.dev_c31f167_20130514-py2.7-macosx-10.8-intel.egg/scipy/optimize/zeros.py:149: RuntimeWarning: Tolerance of -2.47023142707e+13 reached\n",
        "  warnings.warn(msg, RuntimeWarning)\n"
       ]
      },
      {
       "output_type": "stream",
       "stream": "stderr",
       "text": [
        "/Library/Python/2.7/site-packages/scipy-0.13.0.dev_c31f167_20130514-py2.7-macosx-10.8-intel.egg/scipy/optimize/zeros.py:149: RuntimeWarning: Tolerance of 9.5465305267e+13 reached\n",
        "  warnings.warn(msg, RuntimeWarning)\n",
        "/Library/Python/2.7/site-packages/scipy-0.13.0.dev_c31f167_20130514-py2.7-macosx-10.8-intel.egg/scipy/optimize/zeros.py:149: RuntimeWarning: Tolerance of -1.53180032432e+14 reached\n",
        "  warnings.warn(msg, RuntimeWarning)\n",
        "/Library/Python/2.7/site-packages/scipy-0.13.0.dev_c31f167_20130514-py2.7-macosx-10.8-intel.egg/scipy/optimize/zeros.py:149: RuntimeWarning: Tolerance of 1.5494549848e+15 reached\n",
        "  warnings.warn(msg, RuntimeWarning)\n"
       ]
      },
      {
       "output_type": "stream",
       "stream": "stderr",
       "text": [
        "/Library/Python/2.7/site-packages/scipy-0.13.0.dev_c31f167_20130514-py2.7-macosx-10.8-intel.egg/scipy/optimize/zeros.py:149: RuntimeWarning: Tolerance of -1.00728709002e+16 reached\n",
        "  warnings.warn(msg, RuntimeWarning)\n",
        "/Library/Python/2.7/site-packages/scipy-0.13.0.dev_c31f167_20130514-py2.7-macosx-10.8-intel.egg/scipy/optimize/zeros.py:149: RuntimeWarning: Tolerance of 8.35052172461e+15 reached\n",
        "  warnings.warn(msg, RuntimeWarning)\n"
       ]
      },
      {
       "output_type": "stream",
       "stream": "stderr",
       "text": [
        "/Library/Python/2.7/site-packages/scipy-0.13.0.dev_c31f167_20130514-py2.7-macosx-10.8-intel.egg/scipy/optimize/zeros.py:149: RuntimeWarning: Tolerance of -3.89664904288e+14 reached\n",
        "  warnings.warn(msg, RuntimeWarning)\n",
        "/Library/Python/2.7/site-packages/scipy-0.13.0.dev_c31f167_20130514-py2.7-macosx-10.8-intel.egg/scipy/optimize/zeros.py:149: RuntimeWarning: Tolerance of 8.84260221262e+12 reached\n",
        "  warnings.warn(msg, RuntimeWarning)\n"
       ]
      },
      {
       "output_type": "stream",
       "stream": "stderr",
       "text": [
        "/Library/Python/2.7/site-packages/scipy-0.13.0.dev_c31f167_20130514-py2.7-macosx-10.8-intel.egg/scipy/optimize/zeros.py:149: RuntimeWarning: Tolerance of 1.42740836482e+14 reached\n",
        "  warnings.warn(msg, RuntimeWarning)\n",
        "/Library/Python/2.7/site-packages/scipy-0.13.0.dev_c31f167_20130514-py2.7-macosx-10.8-intel.egg/scipy/optimize/zeros.py:149: RuntimeWarning: Tolerance of 1.8158926312e+13 reached\n",
        "  warnings.warn(msg, RuntimeWarning)\n"
       ]
      },
      {
       "output_type": "stream",
       "stream": "stderr",
       "text": [
        "/Library/Python/2.7/site-packages/scipy-0.13.0.dev_c31f167_20130514-py2.7-macosx-10.8-intel.egg/scipy/optimize/zeros.py:149: RuntimeWarning: Tolerance of -9.35181594342e+12 reached\n",
        "  warnings.warn(msg, RuntimeWarning)\n",
        "/Library/Python/2.7/site-packages/scipy-0.13.0.dev_c31f167_20130514-py2.7-macosx-10.8-intel.egg/scipy/optimize/zeros.py:149: RuntimeWarning: Tolerance of 6.78449375914e+15 reached\n",
        "  warnings.warn(msg, RuntimeWarning)\n"
       ]
      },
      {
       "output_type": "stream",
       "stream": "stderr",
       "text": [
        "/Library/Python/2.7/site-packages/scipy-0.13.0.dev_c31f167_20130514-py2.7-macosx-10.8-intel.egg/scipy/optimize/zeros.py:149: RuntimeWarning: Tolerance of 4.48764073631e+15 reached\n",
        "  warnings.warn(msg, RuntimeWarning)\n",
        "/Library/Python/2.7/site-packages/scipy-0.13.0.dev_c31f167_20130514-py2.7-macosx-10.8-intel.egg/scipy/optimize/zeros.py:149: RuntimeWarning: Tolerance of -4.17682497085e+15 reached\n",
        "  warnings.warn(msg, RuntimeWarning)\n"
       ]
      },
      {
       "output_type": "stream",
       "stream": "stderr",
       "text": [
        "/Library/Python/2.7/site-packages/scipy-0.13.0.dev_c31f167_20130514-py2.7-macosx-10.8-intel.egg/scipy/optimize/zeros.py:149: RuntimeWarning: Tolerance of 1.86730091301e+16 reached\n",
        "  warnings.warn(msg, RuntimeWarning)\n",
        "/Library/Python/2.7/site-packages/scipy-0.13.0.dev_c31f167_20130514-py2.7-macosx-10.8-intel.egg/scipy/optimize/zeros.py:149: RuntimeWarning: Tolerance of -2.83948008141e+15 reached\n",
        "  warnings.warn(msg, RuntimeWarning)\n"
       ]
      },
      {
       "output_type": "stream",
       "stream": "stderr",
       "text": [
        "/Library/Python/2.7/site-packages/scipy-0.13.0.dev_c31f167_20130514-py2.7-macosx-10.8-intel.egg/scipy/optimize/zeros.py:149: RuntimeWarning: Tolerance of -1.38955636625e+15 reached\n",
        "  warnings.warn(msg, RuntimeWarning)\n",
        "/Library/Python/2.7/site-packages/scipy-0.13.0.dev_c31f167_20130514-py2.7-macosx-10.8-intel.egg/scipy/optimize/zeros.py:149: RuntimeWarning: Tolerance of 5.4345942408e+14 reached\n",
        "  warnings.warn(msg, RuntimeWarning)\n"
       ]
      },
      {
       "output_type": "stream",
       "stream": "stderr",
       "text": [
        "/Library/Python/2.7/site-packages/scipy-0.13.0.dev_c31f167_20130514-py2.7-macosx-10.8-intel.egg/scipy/optimize/zeros.py:149: RuntimeWarning: Tolerance of 4.23882113828e+16 reached\n",
        "  warnings.warn(msg, RuntimeWarning)\n",
        "/Library/Python/2.7/site-packages/scipy-0.13.0.dev_c31f167_20130514-py2.7-macosx-10.8-intel.egg/scipy/optimize/zeros.py:149: RuntimeWarning: Tolerance of 2.64945520221e+16 reached\n",
        "  warnings.warn(msg, RuntimeWarning)\n"
       ]
      },
      {
       "output_type": "stream",
       "stream": "stderr",
       "text": [
        "/Library/Python/2.7/site-packages/scipy-0.13.0.dev_c31f167_20130514-py2.7-macosx-10.8-intel.egg/scipy/optimize/zeros.py:149: RuntimeWarning: Tolerance of -9.49127072883e+16 reached\n",
        "  warnings.warn(msg, RuntimeWarning)\n",
        "/Library/Python/2.7/site-packages/scipy-0.13.0.dev_c31f167_20130514-py2.7-macosx-10.8-intel.egg/scipy/optimize/zeros.py:149: RuntimeWarning: Tolerance of -4.63838103423e+14 reached\n",
        "  warnings.warn(msg, RuntimeWarning)\n"
       ]
      },
      {
       "output_type": "stream",
       "stream": "stderr",
       "text": [
        "/Library/Python/2.7/site-packages/scipy-0.13.0.dev_c31f167_20130514-py2.7-macosx-10.8-intel.egg/scipy/optimize/zeros.py:149: RuntimeWarning: Tolerance of -8.28275068625e+14 reached\n",
        "  warnings.warn(msg, RuntimeWarning)\n",
        "/Library/Python/2.7/site-packages/scipy-0.13.0.dev_c31f167_20130514-py2.7-macosx-10.8-intel.egg/scipy/optimize/zeros.py:149: RuntimeWarning: Tolerance of -1.74553123004e+16 reached\n",
        "  warnings.warn(msg, RuntimeWarning)\n"
       ]
      },
      {
       "output_type": "stream",
       "stream": "stderr",
       "text": [
        "/Library/Python/2.7/site-packages/scipy-0.13.0.dev_c31f167_20130514-py2.7-macosx-10.8-intel.egg/scipy/optimize/zeros.py:149: RuntimeWarning: Tolerance of 2.12364413796e+16 reached\n",
        "  warnings.warn(msg, RuntimeWarning)\n",
        "/Library/Python/2.7/site-packages/scipy-0.13.0.dev_c31f167_20130514-py2.7-macosx-10.8-intel.egg/scipy/optimize/zeros.py:149: RuntimeWarning: Tolerance of -1.97560920098e+16 reached\n",
        "  warnings.warn(msg, RuntimeWarning)\n"
       ]
      },
      {
       "output_type": "stream",
       "stream": "stderr",
       "text": [
        "/Library/Python/2.7/site-packages/scipy-0.13.0.dev_c31f167_20130514-py2.7-macosx-10.8-intel.egg/scipy/optimize/zeros.py:149: RuntimeWarning: Tolerance of 1.11163166735e+16 reached\n",
        "  warnings.warn(msg, RuntimeWarning)\n",
        "/Library/Python/2.7/site-packages/scipy-0.13.0.dev_c31f167_20130514-py2.7-macosx-10.8-intel.egg/scipy/optimize/zeros.py:149: RuntimeWarning: Tolerance of -1.0985843815e+15 reached\n",
        "  warnings.warn(msg, RuntimeWarning)\n"
       ]
      },
      {
       "output_type": "stream",
       "stream": "stderr",
       "text": [
        "/Library/Python/2.7/site-packages/scipy-0.13.0.dev_c31f167_20130514-py2.7-macosx-10.8-intel.egg/scipy/optimize/zeros.py:149: RuntimeWarning: Tolerance of -2.89474175298e+16 reached\n",
        "  warnings.warn(msg, RuntimeWarning)\n",
        "/Library/Python/2.7/site-packages/scipy-0.13.0.dev_c31f167_20130514-py2.7-macosx-10.8-intel.egg/scipy/optimize/zeros.py:149: RuntimeWarning: Tolerance of 1.78255289333e+16 reached\n",
        "  warnings.warn(msg, RuntimeWarning)\n"
       ]
      },
      {
       "output_type": "stream",
       "stream": "stderr",
       "text": [
        "/Library/Python/2.7/site-packages/scipy-0.13.0.dev_c31f167_20130514-py2.7-macosx-10.8-intel.egg/scipy/optimize/zeros.py:149: RuntimeWarning: Tolerance of -2.51829752136e+16 reached\n",
        "  warnings.warn(msg, RuntimeWarning)\n",
        "/Library/Python/2.7/site-packages/scipy-0.13.0.dev_c31f167_20130514-py2.7-macosx-10.8-intel.egg/scipy/optimize/zeros.py:149: RuntimeWarning: Tolerance of 3.10027019326e+15 reached\n",
        "  warnings.warn(msg, RuntimeWarning)\n"
       ]
      },
      {
       "output_type": "stream",
       "stream": "stderr",
       "text": [
        "/Library/Python/2.7/site-packages/scipy-0.13.0.dev_c31f167_20130514-py2.7-macosx-10.8-intel.egg/scipy/optimize/zeros.py:149: RuntimeWarning: Tolerance of -1.80067460478e+16 reached\n",
        "  warnings.warn(msg, RuntimeWarning)\n",
        "/Library/Python/2.7/site-packages/scipy-0.13.0.dev_c31f167_20130514-py2.7-macosx-10.8-intel.egg/scipy/optimize/zeros.py:149: RuntimeWarning: Tolerance of 1.79307195009e+17 reached\n",
        "  warnings.warn(msg, RuntimeWarning)\n"
       ]
      },
      {
       "output_type": "stream",
       "stream": "stderr",
       "text": [
        "/Library/Python/2.7/site-packages/scipy-0.13.0.dev_c31f167_20130514-py2.7-macosx-10.8-intel.egg/scipy/optimize/zeros.py:149: RuntimeWarning: Tolerance of -1.61889911339e+16 reached\n",
        "  warnings.warn(msg, RuntimeWarning)\n",
        "/Library/Python/2.7/site-packages/scipy-0.13.0.dev_c31f167_20130514-py2.7-macosx-10.8-intel.egg/scipy/optimize/zeros.py:149: RuntimeWarning: Tolerance of -5.51695837181e+14 reached\n",
        "  warnings.warn(msg, RuntimeWarning)\n"
       ]
      },
      {
       "output_type": "stream",
       "stream": "stderr",
       "text": [
        "/Library/Python/2.7/site-packages/scipy-0.13.0.dev_c31f167_20130514-py2.7-macosx-10.8-intel.egg/scipy/optimize/zeros.py:149: RuntimeWarning: Tolerance of -3.16760298069e+14 reached\n",
        "  warnings.warn(msg, RuntimeWarning)\n",
        "/Library/Python/2.7/site-packages/scipy-0.13.0.dev_c31f167_20130514-py2.7-macosx-10.8-intel.egg/scipy/optimize/zeros.py:149: RuntimeWarning: Tolerance of 5.93921495701e+13 reached\n",
        "  warnings.warn(msg, RuntimeWarning)\n"
       ]
      },
      {
       "output_type": "stream",
       "stream": "stderr",
       "text": [
        "/Library/Python/2.7/site-packages/scipy-0.13.0.dev_c31f167_20130514-py2.7-macosx-10.8-intel.egg/scipy/optimize/zeros.py:149: RuntimeWarning: Tolerance of 9.70146730623e+14 reached\n",
        "  warnings.warn(msg, RuntimeWarning)\n",
        "/Library/Python/2.7/site-packages/scipy-0.13.0.dev_c31f167_20130514-py2.7-macosx-10.8-intel.egg/scipy/optimize/zeros.py:149: RuntimeWarning: Tolerance of 3.83165545475e+16 reached\n",
        "  warnings.warn(msg, RuntimeWarning)\n"
       ]
      },
      {
       "output_type": "stream",
       "stream": "stderr",
       "text": [
        "/Library/Python/2.7/site-packages/scipy-0.13.0.dev_c31f167_20130514-py2.7-macosx-10.8-intel.egg/scipy/optimize/zeros.py:149: RuntimeWarning: Tolerance of -6.5879884891e+14 reached\n",
        "  warnings.warn(msg, RuntimeWarning)\n",
        "/Library/Python/2.7/site-packages/scipy-0.13.0.dev_c31f167_20130514-py2.7-macosx-10.8-intel.egg/scipy/optimize/zeros.py:149: RuntimeWarning: Tolerance of 6.92525012151e+16 reached\n",
        "  warnings.warn(msg, RuntimeWarning)\n"
       ]
      },
      {
       "output_type": "stream",
       "stream": "stderr",
       "text": [
        "/Library/Python/2.7/site-packages/scipy-0.13.0.dev_c31f167_20130514-py2.7-macosx-10.8-intel.egg/scipy/optimize/zeros.py:149: RuntimeWarning: Tolerance of -8.8208164453e+15 reached\n",
        "  warnings.warn(msg, RuntimeWarning)\n",
        "/Library/Python/2.7/site-packages/scipy-0.13.0.dev_c31f167_20130514-py2.7-macosx-10.8-intel.egg/scipy/optimize/zeros.py:149: RuntimeWarning: Tolerance of -1.42733342407e+15 reached\n",
        "  warnings.warn(msg, RuntimeWarning)\n"
       ]
      },
      {
       "output_type": "stream",
       "stream": "stderr",
       "text": [
        "/Library/Python/2.7/site-packages/scipy-0.13.0.dev_c31f167_20130514-py2.7-macosx-10.8-intel.egg/scipy/optimize/zeros.py:149: RuntimeWarning: Tolerance of -3.53144848626e+14 reached\n",
        "  warnings.warn(msg, RuntimeWarning)\n",
        "/Library/Python/2.7/site-packages/scipy-0.13.0.dev_c31f167_20130514-py2.7-macosx-10.8-intel.egg/scipy/optimize/zeros.py:149: RuntimeWarning: Tolerance of -8.86047855704e+14 reached\n",
        "  warnings.warn(msg, RuntimeWarning)\n"
       ]
      },
      {
       "output_type": "stream",
       "stream": "stderr",
       "text": [
        "/Library/Python/2.7/site-packages/scipy-0.13.0.dev_c31f167_20130514-py2.7-macosx-10.8-intel.egg/scipy/optimize/zeros.py:149: RuntimeWarning: Tolerance of -4.9421027462e+15 reached\n",
        "  warnings.warn(msg, RuntimeWarning)\n",
        "/Library/Python/2.7/site-packages/scipy-0.13.0.dev_c31f167_20130514-py2.7-macosx-10.8-intel.egg/scipy/optimize/zeros.py:149: RuntimeWarning: Tolerance of -4.73790542091e+15 reached\n",
        "  warnings.warn(msg, RuntimeWarning)\n"
       ]
      },
      {
       "output_type": "stream",
       "stream": "stderr",
       "text": [
        "/Library/Python/2.7/site-packages/scipy-0.13.0.dev_c31f167_20130514-py2.7-macosx-10.8-intel.egg/scipy/optimize/zeros.py:149: RuntimeWarning: Tolerance of -9.09456454369e+15 reached\n",
        "  warnings.warn(msg, RuntimeWarning)\n",
        "/Library/Python/2.7/site-packages/scipy-0.13.0.dev_c31f167_20130514-py2.7-macosx-10.8-intel.egg/scipy/optimize/zeros.py:149: RuntimeWarning: Tolerance of -1.25615413354e+15 reached\n",
        "  warnings.warn(msg, RuntimeWarning)\n"
       ]
      },
      {
       "output_type": "stream",
       "stream": "stderr",
       "text": [
        "/Library/Python/2.7/site-packages/scipy-0.13.0.dev_c31f167_20130514-py2.7-macosx-10.8-intel.egg/scipy/optimize/zeros.py:149: RuntimeWarning: Tolerance of -4.77751793702e+15 reached\n",
        "  warnings.warn(msg, RuntimeWarning)\n",
        "/Library/Python/2.7/site-packages/scipy-0.13.0.dev_c31f167_20130514-py2.7-macosx-10.8-intel.egg/scipy/optimize/zeros.py:149: RuntimeWarning: Tolerance of -1.55561350282e+18 reached\n",
        "  warnings.warn(msg, RuntimeWarning)\n"
       ]
      },
      {
       "output_type": "stream",
       "stream": "stderr",
       "text": [
        "/Library/Python/2.7/site-packages/scipy-0.13.0.dev_c31f167_20130514-py2.7-macosx-10.8-intel.egg/scipy/optimize/zeros.py:149: RuntimeWarning: Tolerance of -1.0661169459e+15 reached\n",
        "  warnings.warn(msg, RuntimeWarning)\n",
        "/Library/Python/2.7/site-packages/scipy-0.13.0.dev_c31f167_20130514-py2.7-macosx-10.8-intel.egg/scipy/optimize/zeros.py:149: RuntimeWarning: Tolerance of 1.49126151008e+16 reached\n",
        "  warnings.warn(msg, RuntimeWarning)\n"
       ]
      },
      {
       "output_type": "stream",
       "stream": "stderr",
       "text": [
        "/Library/Python/2.7/site-packages/scipy-0.13.0.dev_c31f167_20130514-py2.7-macosx-10.8-intel.egg/scipy/optimize/zeros.py:149: RuntimeWarning: Tolerance of -1.99488628873e+16 reached\n",
        "  warnings.warn(msg, RuntimeWarning)\n",
        "/Library/Python/2.7/site-packages/scipy-0.13.0.dev_c31f167_20130514-py2.7-macosx-10.8-intel.egg/scipy/optimize/zeros.py:149: RuntimeWarning: Tolerance of 2.25044853356e+16 reached\n",
        "  warnings.warn(msg, RuntimeWarning)\n"
       ]
      },
      {
       "output_type": "stream",
       "stream": "stderr",
       "text": [
        "/Library/Python/2.7/site-packages/scipy-0.13.0.dev_c31f167_20130514-py2.7-macosx-10.8-intel.egg/scipy/optimize/zeros.py:149: RuntimeWarning: Tolerance of 8.50321377441e+16 reached\n",
        "  warnings.warn(msg, RuntimeWarning)\n",
        "/Library/Python/2.7/site-packages/scipy-0.13.0.dev_c31f167_20130514-py2.7-macosx-10.8-intel.egg/scipy/optimize/zeros.py:149: RuntimeWarning: Tolerance of 5.84039411061e+13 reached\n",
        "  warnings.warn(msg, RuntimeWarning)\n"
       ]
      },
      {
       "output_type": "stream",
       "stream": "stderr",
       "text": [
        "/Library/Python/2.7/site-packages/scipy-0.13.0.dev_c31f167_20130514-py2.7-macosx-10.8-intel.egg/scipy/optimize/zeros.py:149: RuntimeWarning: Tolerance of 3.81406019853e+16 reached\n",
        "  warnings.warn(msg, RuntimeWarning)\n",
        "/Library/Python/2.7/site-packages/scipy-0.13.0.dev_c31f167_20130514-py2.7-macosx-10.8-intel.egg/scipy/optimize/zeros.py:149: RuntimeWarning: Tolerance of -3.00090873284e+15 reached\n",
        "  warnings.warn(msg, RuntimeWarning)\n"
       ]
      },
      {
       "output_type": "stream",
       "stream": "stderr",
       "text": [
        "/Library/Python/2.7/site-packages/scipy-0.13.0.dev_c31f167_20130514-py2.7-macosx-10.8-intel.egg/scipy/optimize/zeros.py:149: RuntimeWarning: Tolerance of -3.83757085844e+15 reached\n",
        "  warnings.warn(msg, RuntimeWarning)\n",
        "/Library/Python/2.7/site-packages/scipy-0.13.0.dev_c31f167_20130514-py2.7-macosx-10.8-intel.egg/scipy/optimize/zeros.py:149: RuntimeWarning: Tolerance of -8.15617095086e+15 reached\n",
        "  warnings.warn(msg, RuntimeWarning)\n"
       ]
      },
      {
       "output_type": "stream",
       "stream": "stderr",
       "text": [
        "/Library/Python/2.7/site-packages/scipy-0.13.0.dev_c31f167_20130514-py2.7-macosx-10.8-intel.egg/scipy/optimize/zeros.py:149: RuntimeWarning: Tolerance of -4.49412071539e+16 reached\n",
        "  warnings.warn(msg, RuntimeWarning)\n",
        "/Library/Python/2.7/site-packages/scipy-0.13.0.dev_c31f167_20130514-py2.7-macosx-10.8-intel.egg/scipy/optimize/zeros.py:149: RuntimeWarning: Tolerance of -3.62565839544e+13 reached\n",
        "  warnings.warn(msg, RuntimeWarning)\n"
       ]
      },
      {
       "output_type": "stream",
       "stream": "stderr",
       "text": [
        "/Library/Python/2.7/site-packages/scipy-0.13.0.dev_c31f167_20130514-py2.7-macosx-10.8-intel.egg/scipy/optimize/zeros.py:149: RuntimeWarning: Tolerance of -3.40224112995e+16 reached\n",
        "  warnings.warn(msg, RuntimeWarning)\n",
        "/Library/Python/2.7/site-packages/scipy-0.13.0.dev_c31f167_20130514-py2.7-macosx-10.8-intel.egg/scipy/optimize/zeros.py:149: RuntimeWarning: Tolerance of -2.84981567517e+14 reached\n",
        "  warnings.warn(msg, RuntimeWarning)\n"
       ]
      },
      {
       "output_type": "stream",
       "stream": "stderr",
       "text": [
        "/Library/Python/2.7/site-packages/scipy-0.13.0.dev_c31f167_20130514-py2.7-macosx-10.8-intel.egg/scipy/optimize/zeros.py:149: RuntimeWarning: Tolerance of 4.22328172711e+16 reached\n",
        "  warnings.warn(msg, RuntimeWarning)\n",
        "/Library/Python/2.7/site-packages/scipy-0.13.0.dev_c31f167_20130514-py2.7-macosx-10.8-intel.egg/scipy/optimize/zeros.py:149: RuntimeWarning: Tolerance of 6.19012867679e+16 reached\n",
        "  warnings.warn(msg, RuntimeWarning)\n"
       ]
      },
      {
       "output_type": "stream",
       "stream": "stderr",
       "text": [
        "/Library/Python/2.7/site-packages/scipy-0.13.0.dev_c31f167_20130514-py2.7-macosx-10.8-intel.egg/scipy/optimize/zeros.py:149: RuntimeWarning: Tolerance of -7.7201378022e+15 reached\n",
        "  warnings.warn(msg, RuntimeWarning)\n",
        "/Library/Python/2.7/site-packages/scipy-0.13.0.dev_c31f167_20130514-py2.7-macosx-10.8-intel.egg/scipy/optimize/zeros.py:149: RuntimeWarning: Tolerance of 2.7126809724e+15 reached\n",
        "  warnings.warn(msg, RuntimeWarning)\n"
       ]
      },
      {
       "output_type": "stream",
       "stream": "stdout",
       "text": [
        "\n",
        "deleting item T1map_LL"
       ]
      },
      {
       "output_type": "stream",
       "stream": "stdout",
       "text": [
        "\n",
        "deleting item T1map_LL_fitdict"
       ]
      },
      {
       "output_type": "stream",
       "stream": "stderr",
       "text": [
        "/Library/Python/2.7/site-packages/scipy-0.13.0.dev_c31f167_20130514-py2.7-macosx-10.8-intel.egg/scipy/optimize/zeros.py:149: RuntimeWarning: Tolerance of -2.39315278982e+17 reached\n",
        "  warnings.warn(msg, RuntimeWarning)\n",
        "WARNING:sarpy.io.BRUKERIO:NSLICES not equal to number of ACQ_obj_order\n"
       ]
      },
      {
       "output_type": "stream",
       "stream": "stderr",
       "text": [
        "/Library/Python/2.7/site-packages/scipy-0.13.0.dev_c31f167_20130514-py2.7-macosx-10.8-intel.egg/scipy/optimize/zeros.py:149: RuntimeWarning: Tolerance of 2.93351494567e+15 reached\n",
        "  warnings.warn(msg, RuntimeWarning)\n",
        "/Library/Python/2.7/site-packages/scipy-0.13.0.dev_c31f167_20130514-py2.7-macosx-10.8-intel.egg/scipy/optimize/zeros.py:149: RuntimeWarning: Tolerance of 8.44836855885e+16 reached\n",
        "  warnings.warn(msg, RuntimeWarning)\n"
       ]
      },
      {
       "output_type": "stream",
       "stream": "stderr",
       "text": [
        "/Library/Python/2.7/site-packages/scipy-0.13.0.dev_c31f167_20130514-py2.7-macosx-10.8-intel.egg/scipy/optimize/zeros.py:149: RuntimeWarning: Tolerance of 2.22462855991e+15 reached\n",
        "  warnings.warn(msg, RuntimeWarning)\n",
        "/Library/Python/2.7/site-packages/scipy-0.13.0.dev_c31f167_20130514-py2.7-macosx-10.8-intel.egg/scipy/optimize/zeros.py:149: RuntimeWarning: Tolerance of -3.94949518288e+17 reached\n",
        "  warnings.warn(msg, RuntimeWarning)\n"
       ]
      },
      {
       "output_type": "stream",
       "stream": "stderr",
       "text": [
        "/Library/Python/2.7/site-packages/scipy-0.13.0.dev_c31f167_20130514-py2.7-macosx-10.8-intel.egg/scipy/optimize/zeros.py:149: RuntimeWarning: Tolerance of -5.62033876591e+14 reached\n",
        "  warnings.warn(msg, RuntimeWarning)\n",
        "/Library/Python/2.7/site-packages/scipy-0.13.0.dev_c31f167_20130514-py2.7-macosx-10.8-intel.egg/scipy/optimize/zeros.py:149: RuntimeWarning: Tolerance of -1.2904546357e+16 reached\n",
        "  warnings.warn(msg, RuntimeWarning)\n"
       ]
      },
      {
       "output_type": "stream",
       "stream": "stderr",
       "text": [
        "/Library/Python/2.7/site-packages/scipy-0.13.0.dev_c31f167_20130514-py2.7-macosx-10.8-intel.egg/scipy/optimize/zeros.py:149: RuntimeWarning: Tolerance of -5.21316469472e+14 reached\n",
        "  warnings.warn(msg, RuntimeWarning)\n",
        "/Library/Python/2.7/site-packages/scipy-0.13.0.dev_c31f167_20130514-py2.7-macosx-10.8-intel.egg/scipy/optimize/zeros.py:149: RuntimeWarning: Tolerance of 5.79994669625e+15 reached\n",
        "  warnings.warn(msg, RuntimeWarning)\n"
       ]
      },
      {
       "output_type": "stream",
       "stream": "stderr",
       "text": [
        "/Library/Python/2.7/site-packages/scipy-0.13.0.dev_c31f167_20130514-py2.7-macosx-10.8-intel.egg/scipy/optimize/zeros.py:149: RuntimeWarning: Tolerance of -5.73997397857e+16 reached\n",
        "  warnings.warn(msg, RuntimeWarning)\n",
        "/Library/Python/2.7/site-packages/scipy-0.13.0.dev_c31f167_20130514-py2.7-macosx-10.8-intel.egg/scipy/optimize/zeros.py:149: RuntimeWarning: Tolerance of -8.35393886352e+14 reached\n",
        "  warnings.warn(msg, RuntimeWarning)\n"
       ]
      },
      {
       "output_type": "stream",
       "stream": "stderr",
       "text": [
        "/Library/Python/2.7/site-packages/scipy-0.13.0.dev_c31f167_20130514-py2.7-macosx-10.8-intel.egg/scipy/optimize/zeros.py:149: RuntimeWarning: Tolerance of 4.70711749522e+15 reached\n",
        "  warnings.warn(msg, RuntimeWarning)\n",
        "/Library/Python/2.7/site-packages/scipy-0.13.0.dev_c31f167_20130514-py2.7-macosx-10.8-intel.egg/scipy/optimize/zeros.py:149: RuntimeWarning: Tolerance of 2.97007465149e+14 reached\n",
        "  warnings.warn(msg, RuntimeWarning)\n"
       ]
      },
      {
       "output_type": "stream",
       "stream": "stderr",
       "text": [
        "/Library/Python/2.7/site-packages/scipy-0.13.0.dev_c31f167_20130514-py2.7-macosx-10.8-intel.egg/scipy/optimize/zeros.py:149: RuntimeWarning: Tolerance of -2.21131840513e+15 reached\n",
        "  warnings.warn(msg, RuntimeWarning)\n",
        "/Library/Python/2.7/site-packages/scipy-0.13.0.dev_c31f167_20130514-py2.7-macosx-10.8-intel.egg/scipy/optimize/zeros.py:149: RuntimeWarning: Tolerance of 2.79226792323e+15 reached\n",
        "  warnings.warn(msg, RuntimeWarning)\n"
       ]
      },
      {
       "output_type": "stream",
       "stream": "stderr",
       "text": [
        "/Library/Python/2.7/site-packages/scipy-0.13.0.dev_c31f167_20130514-py2.7-macosx-10.8-intel.egg/scipy/optimize/zeros.py:149: RuntimeWarning: Tolerance of -7.85540360668e+15 reached\n",
        "  warnings.warn(msg, RuntimeWarning)\n",
        "/Library/Python/2.7/site-packages/scipy-0.13.0.dev_c31f167_20130514-py2.7-macosx-10.8-intel.egg/scipy/optimize/zeros.py:149: RuntimeWarning: Tolerance of 5.36559274113e+13 reached\n",
        "  warnings.warn(msg, RuntimeWarning)\n"
       ]
      },
      {
       "output_type": "stream",
       "stream": "stderr",
       "text": [
        "/Library/Python/2.7/site-packages/scipy-0.13.0.dev_c31f167_20130514-py2.7-macosx-10.8-intel.egg/scipy/optimize/zeros.py:149: RuntimeWarning: Tolerance of -2.28399322023e+15 reached\n",
        "  warnings.warn(msg, RuntimeWarning)\n",
        "/Library/Python/2.7/site-packages/scipy-0.13.0.dev_c31f167_20130514-py2.7-macosx-10.8-intel.egg/scipy/optimize/zeros.py:149: RuntimeWarning: Tolerance of -1.67914710702e+16 reached\n",
        "  warnings.warn(msg, RuntimeWarning)\n"
       ]
      },
      {
       "output_type": "stream",
       "stream": "stderr",
       "text": [
        "/Library/Python/2.7/site-packages/scipy-0.13.0.dev_c31f167_20130514-py2.7-macosx-10.8-intel.egg/scipy/optimize/zeros.py:149: RuntimeWarning: Tolerance of -8.28855822417e+16 reached\n",
        "  warnings.warn(msg, RuntimeWarning)\n",
        "/Library/Python/2.7/site-packages/scipy-0.13.0.dev_c31f167_20130514-py2.7-macosx-10.8-intel.egg/scipy/optimize/zeros.py:149: RuntimeWarning: Tolerance of 4.6314951399e+16 reached\n",
        "  warnings.warn(msg, RuntimeWarning)\n"
       ]
      },
      {
       "output_type": "stream",
       "stream": "stderr",
       "text": [
        "/Library/Python/2.7/site-packages/scipy-0.13.0.dev_c31f167_20130514-py2.7-macosx-10.8-intel.egg/scipy/optimize/zeros.py:149: RuntimeWarning: Tolerance of -2.0018657402e+13 reached\n",
        "  warnings.warn(msg, RuntimeWarning)\n",
        "/Library/Python/2.7/site-packages/scipy-0.13.0.dev_c31f167_20130514-py2.7-macosx-10.8-intel.egg/scipy/optimize/zeros.py:149: RuntimeWarning: Tolerance of -3.89139166019e+15 reached\n",
        "  warnings.warn(msg, RuntimeWarning)\n"
       ]
      },
      {
       "output_type": "stream",
       "stream": "stderr",
       "text": [
        "/Library/Python/2.7/site-packages/scipy-0.13.0.dev_c31f167_20130514-py2.7-macosx-10.8-intel.egg/scipy/optimize/zeros.py:149: RuntimeWarning: Tolerance of -2.11471773149e+16 reached\n",
        "  warnings.warn(msg, RuntimeWarning)\n",
        "/Library/Python/2.7/site-packages/scipy-0.13.0.dev_c31f167_20130514-py2.7-macosx-10.8-intel.egg/scipy/optimize/zeros.py:149: RuntimeWarning: Tolerance of 4.89753724788e+15 reached\n",
        "  warnings.warn(msg, RuntimeWarning)\n"
       ]
      },
      {
       "output_type": "stream",
       "stream": "stderr",
       "text": [
        "/Library/Python/2.7/site-packages/scipy-0.13.0.dev_c31f167_20130514-py2.7-macosx-10.8-intel.egg/scipy/optimize/zeros.py:149: RuntimeWarning: Tolerance of -1.58510052561e+16 reached\n",
        "  warnings.warn(msg, RuntimeWarning)\n",
        "/Library/Python/2.7/site-packages/scipy-0.13.0.dev_c31f167_20130514-py2.7-macosx-10.8-intel.egg/scipy/optimize/zeros.py:149: RuntimeWarning: Tolerance of 3.14711203714e+16 reached\n",
        "  warnings.warn(msg, RuntimeWarning)\n"
       ]
      },
      {
       "output_type": "stream",
       "stream": "stderr",
       "text": [
        "/Library/Python/2.7/site-packages/scipy-0.13.0.dev_c31f167_20130514-py2.7-macosx-10.8-intel.egg/scipy/optimize/zeros.py:149: RuntimeWarning: Tolerance of 9.87955931998e+12 reached\n",
        "  warnings.warn(msg, RuntimeWarning)\n",
        "/Library/Python/2.7/site-packages/scipy-0.13.0.dev_c31f167_20130514-py2.7-macosx-10.8-intel.egg/scipy/optimize/zeros.py:149: RuntimeWarning: Tolerance of -1.32009381579e+17 reached\n",
        "  warnings.warn(msg, RuntimeWarning)\n"
       ]
      },
      {
       "output_type": "stream",
       "stream": "stderr",
       "text": [
        "/Library/Python/2.7/site-packages/scipy-0.13.0.dev_c31f167_20130514-py2.7-macosx-10.8-intel.egg/scipy/optimize/zeros.py:149: RuntimeWarning: Tolerance of -5.22432846595e+14 reached\n",
        "  warnings.warn(msg, RuntimeWarning)\n",
        "/Library/Python/2.7/site-packages/scipy-0.13.0.dev_c31f167_20130514-py2.7-macosx-10.8-intel.egg/scipy/optimize/zeros.py:149: RuntimeWarning: Tolerance of -1.25358055445e+16 reached\n",
        "  warnings.warn(msg, RuntimeWarning)\n"
       ]
      },
      {
       "output_type": "stream",
       "stream": "stderr",
       "text": [
        "/Library/Python/2.7/site-packages/scipy-0.13.0.dev_c31f167_20130514-py2.7-macosx-10.8-intel.egg/scipy/optimize/zeros.py:149: RuntimeWarning: Tolerance of 3.4885953661e+16 reached\n",
        "  warnings.warn(msg, RuntimeWarning)\n",
        "/Library/Python/2.7/site-packages/scipy-0.13.0.dev_c31f167_20130514-py2.7-macosx-10.8-intel.egg/scipy/optimize/zeros.py:149: RuntimeWarning: Tolerance of 7.09144382584e+15 reached\n",
        "  warnings.warn(msg, RuntimeWarning)\n"
       ]
      },
      {
       "output_type": "stream",
       "stream": "stderr",
       "text": [
        "/Library/Python/2.7/site-packages/scipy-0.13.0.dev_c31f167_20130514-py2.7-macosx-10.8-intel.egg/scipy/optimize/zeros.py:149: RuntimeWarning: Tolerance of 8.02915160617e+14 reached\n",
        "  warnings.warn(msg, RuntimeWarning)\n",
        "/Library/Python/2.7/site-packages/scipy-0.13.0.dev_c31f167_20130514-py2.7-macosx-10.8-intel.egg/scipy/optimize/zeros.py:149: RuntimeWarning: Tolerance of -5.32853062095e+15 reached\n",
        "  warnings.warn(msg, RuntimeWarning)\n"
       ]
      },
      {
       "output_type": "stream",
       "stream": "stderr",
       "text": [
        "/Library/Python/2.7/site-packages/scipy-0.13.0.dev_c31f167_20130514-py2.7-macosx-10.8-intel.egg/scipy/optimize/zeros.py:149: RuntimeWarning: Tolerance of -4.85696624093e+15 reached\n",
        "  warnings.warn(msg, RuntimeWarning)\n",
        "/Library/Python/2.7/site-packages/scipy-0.13.0.dev_c31f167_20130514-py2.7-macosx-10.8-intel.egg/scipy/optimize/zeros.py:149: RuntimeWarning: Tolerance of 1.3726414048e+16 reached\n",
        "  warnings.warn(msg, RuntimeWarning)\n"
       ]
      },
      {
       "output_type": "stream",
       "stream": "stderr",
       "text": [
        "/Library/Python/2.7/site-packages/scipy-0.13.0.dev_c31f167_20130514-py2.7-macosx-10.8-intel.egg/scipy/optimize/zeros.py:149: RuntimeWarning: Tolerance of -1.69435907364e+16 reached\n",
        "  warnings.warn(msg, RuntimeWarning)\n",
        "/Library/Python/2.7/site-packages/scipy-0.13.0.dev_c31f167_20130514-py2.7-macosx-10.8-intel.egg/scipy/optimize/zeros.py:149: RuntimeWarning: Tolerance of -3.16537982795e+16 reached\n",
        "  warnings.warn(msg, RuntimeWarning)\n"
       ]
      },
      {
       "output_type": "stream",
       "stream": "stderr",
       "text": [
        "/Library/Python/2.7/site-packages/scipy-0.13.0.dev_c31f167_20130514-py2.7-macosx-10.8-intel.egg/scipy/optimize/zeros.py:149: RuntimeWarning: Tolerance of 5.05318865812e+16 reached\n",
        "  warnings.warn(msg, RuntimeWarning)\n",
        "/Library/Python/2.7/site-packages/scipy-0.13.0.dev_c31f167_20130514-py2.7-macosx-10.8-intel.egg/scipy/optimize/zeros.py:149: RuntimeWarning: Tolerance of -2.09522526622e+16 reached\n",
        "  warnings.warn(msg, RuntimeWarning)\n"
       ]
      },
      {
       "output_type": "stream",
       "stream": "stderr",
       "text": [
        "/Library/Python/2.7/site-packages/scipy-0.13.0.dev_c31f167_20130514-py2.7-macosx-10.8-intel.egg/scipy/optimize/zeros.py:149: RuntimeWarning: Tolerance of 3.91992142467e+16 reached\n",
        "  warnings.warn(msg, RuntimeWarning)\n",
        "/Library/Python/2.7/site-packages/scipy-0.13.0.dev_c31f167_20130514-py2.7-macosx-10.8-intel.egg/scipy/optimize/zeros.py:149: RuntimeWarning: Tolerance of -3.19125936874e+16 reached\n",
        "  warnings.warn(msg, RuntimeWarning)\n"
       ]
      },
      {
       "output_type": "stream",
       "stream": "stderr",
       "text": [
        "/Library/Python/2.7/site-packages/scipy-0.13.0.dev_c31f167_20130514-py2.7-macosx-10.8-intel.egg/scipy/optimize/zeros.py:149: RuntimeWarning: Tolerance of -4.36362147342e+16 reached\n",
        "  warnings.warn(msg, RuntimeWarning)\n",
        "/Library/Python/2.7/site-packages/scipy-0.13.0.dev_c31f167_20130514-py2.7-macosx-10.8-intel.egg/scipy/optimize/zeros.py:149: RuntimeWarning: Tolerance of -8.61088930494e+13 reached\n",
        "  warnings.warn(msg, RuntimeWarning)\n"
       ]
      },
      {
       "output_type": "stream",
       "stream": "stderr",
       "text": [
        "/Library/Python/2.7/site-packages/scipy-0.13.0.dev_c31f167_20130514-py2.7-macosx-10.8-intel.egg/scipy/optimize/zeros.py:149: RuntimeWarning: Tolerance of 1.00017994587e+16 reached\n",
        "  warnings.warn(msg, RuntimeWarning)\n",
        "/Library/Python/2.7/site-packages/scipy-0.13.0.dev_c31f167_20130514-py2.7-macosx-10.8-intel.egg/scipy/optimize/zeros.py:149: RuntimeWarning: Tolerance of 3.36258251656e+15 reached\n",
        "  warnings.warn(msg, RuntimeWarning)\n"
       ]
      },
      {
       "output_type": "stream",
       "stream": "stderr",
       "text": [
        "/Library/Python/2.7/site-packages/scipy-0.13.0.dev_c31f167_20130514-py2.7-macosx-10.8-intel.egg/scipy/optimize/zeros.py:149: RuntimeWarning: Tolerance of -1.2443210787e+16 reached\n",
        "  warnings.warn(msg, RuntimeWarning)\n",
        "/Library/Python/2.7/site-packages/scipy-0.13.0.dev_c31f167_20130514-py2.7-macosx-10.8-intel.egg/scipy/optimize/zeros.py:149: RuntimeWarning: Tolerance of 7.11387159068e+15 reached\n",
        "  warnings.warn(msg, RuntimeWarning)\n"
       ]
      },
      {
       "output_type": "stream",
       "stream": "stderr",
       "text": [
        "/Library/Python/2.7/site-packages/scipy-0.13.0.dev_c31f167_20130514-py2.7-macosx-10.8-intel.egg/scipy/optimize/zeros.py:149: RuntimeWarning: Tolerance of -2.12051078164e+16 reached\n",
        "  warnings.warn(msg, RuntimeWarning)\n",
        "/Library/Python/2.7/site-packages/scipy-0.13.0.dev_c31f167_20130514-py2.7-macosx-10.8-intel.egg/scipy/optimize/zeros.py:149: RuntimeWarning: Tolerance of -4.06058129831e+15 reached\n",
        "  warnings.warn(msg, RuntimeWarning)\n"
       ]
      },
      {
       "output_type": "stream",
       "stream": "stderr",
       "text": [
        "/Library/Python/2.7/site-packages/scipy-0.13.0.dev_c31f167_20130514-py2.7-macosx-10.8-intel.egg/scipy/optimize/zeros.py:149: RuntimeWarning: Tolerance of -15046052128.5 reached\n",
        "  warnings.warn(msg, RuntimeWarning)\n",
        "/Library/Python/2.7/site-packages/scipy-0.13.0.dev_c31f167_20130514-py2.7-macosx-10.8-intel.egg/scipy/optimize/zeros.py:149: RuntimeWarning: Tolerance of -1.29395029463e+16 reached\n",
        "  warnings.warn(msg, RuntimeWarning)\n"
       ]
      },
      {
       "output_type": "stream",
       "stream": "stderr",
       "text": [
        "/Library/Python/2.7/site-packages/scipy-0.13.0.dev_c31f167_20130514-py2.7-macosx-10.8-intel.egg/scipy/optimize/zeros.py:149: RuntimeWarning: Tolerance of 7.11090927495e+14 reached\n",
        "  warnings.warn(msg, RuntimeWarning)\n",
        "/Library/Python/2.7/site-packages/scipy-0.13.0.dev_c31f167_20130514-py2.7-macosx-10.8-intel.egg/scipy/optimize/zeros.py:149: RuntimeWarning: Tolerance of -6.71451077549e+15 reached\n",
        "  warnings.warn(msg, RuntimeWarning)\n"
       ]
      },
      {
       "output_type": "stream",
       "stream": "stderr",
       "text": [
        "/Library/Python/2.7/site-packages/scipy-0.13.0.dev_c31f167_20130514-py2.7-macosx-10.8-intel.egg/scipy/optimize/zeros.py:149: RuntimeWarning: Tolerance of -1.1012353703e+17 reached\n",
        "  warnings.warn(msg, RuntimeWarning)\n",
        "/Library/Python/2.7/site-packages/scipy-0.13.0.dev_c31f167_20130514-py2.7-macosx-10.8-intel.egg/scipy/optimize/zeros.py:149: RuntimeWarning: Tolerance of -5.01083619427e+16 reached\n",
        "  warnings.warn(msg, RuntimeWarning)\n"
       ]
      },
      {
       "output_type": "stream",
       "stream": "stderr",
       "text": [
        "/Library/Python/2.7/site-packages/scipy-0.13.0.dev_c31f167_20130514-py2.7-macosx-10.8-intel.egg/scipy/optimize/zeros.py:149: RuntimeWarning: Tolerance of 2.46847552049e+14 reached\n",
        "  warnings.warn(msg, RuntimeWarning)\n",
        "/Library/Python/2.7/site-packages/scipy-0.13.0.dev_c31f167_20130514-py2.7-macosx-10.8-intel.egg/scipy/optimize/zeros.py:149: RuntimeWarning: Tolerance of -4.50999018021e+15 reached\n",
        "  warnings.warn(msg, RuntimeWarning)\n"
       ]
      },
      {
       "output_type": "stream",
       "stream": "stderr",
       "text": [
        "/Library/Python/2.7/site-packages/scipy-0.13.0.dev_c31f167_20130514-py2.7-macosx-10.8-intel.egg/scipy/optimize/zeros.py:149: RuntimeWarning: Tolerance of 9.95907765229e+12 reached\n",
        "  warnings.warn(msg, RuntimeWarning)\n",
        "/Library/Python/2.7/site-packages/scipy-0.13.0.dev_c31f167_20130514-py2.7-macosx-10.8-intel.egg/scipy/optimize/zeros.py:149: RuntimeWarning: Tolerance of 6.70701582108e+14 reached\n",
        "  warnings.warn(msg, RuntimeWarning)\n"
       ]
      },
      {
       "output_type": "stream",
       "stream": "stderr",
       "text": [
        "/Library/Python/2.7/site-packages/scipy-0.13.0.dev_c31f167_20130514-py2.7-macosx-10.8-intel.egg/scipy/optimize/zeros.py:149: RuntimeWarning: Tolerance of 5.26520787828e+16 reached\n",
        "  warnings.warn(msg, RuntimeWarning)\n",
        "/Library/Python/2.7/site-packages/scipy-0.13.0.dev_c31f167_20130514-py2.7-macosx-10.8-intel.egg/scipy/optimize/zeros.py:149: RuntimeWarning: Tolerance of 2.8878852217e+16 reached\n",
        "  warnings.warn(msg, RuntimeWarning)\n"
       ]
      },
      {
       "output_type": "stream",
       "stream": "stderr",
       "text": [
        "/Library/Python/2.7/site-packages/scipy-0.13.0.dev_c31f167_20130514-py2.7-macosx-10.8-intel.egg/scipy/optimize/zeros.py:149: RuntimeWarning: Tolerance of -1.06099261134e+15 reached\n",
        "  warnings.warn(msg, RuntimeWarning)\n",
        "/Library/Python/2.7/site-packages/scipy-0.13.0.dev_c31f167_20130514-py2.7-macosx-10.8-intel.egg/scipy/optimize/zeros.py:149: RuntimeWarning: Tolerance of 81624080896.0 reached\n",
        "  warnings.warn(msg, RuntimeWarning)\n"
       ]
      },
      {
       "output_type": "stream",
       "stream": "stderr",
       "text": [
        "/Library/Python/2.7/site-packages/scipy-0.13.0.dev_c31f167_20130514-py2.7-macosx-10.8-intel.egg/scipy/optimize/zeros.py:149: RuntimeWarning: Tolerance of 9.15723461312e+14 reached\n",
        "  warnings.warn(msg, RuntimeWarning)\n",
        "/Library/Python/2.7/site-packages/scipy-0.13.0.dev_c31f167_20130514-py2.7-macosx-10.8-intel.egg/scipy/optimize/zeros.py:149: RuntimeWarning: Tolerance of 1.04644618665e+18 reached\n",
        "  warnings.warn(msg, RuntimeWarning)\n"
       ]
      },
      {
       "output_type": "stream",
       "stream": "stderr",
       "text": [
        "/Library/Python/2.7/site-packages/scipy-0.13.0.dev_c31f167_20130514-py2.7-macosx-10.8-intel.egg/scipy/optimize/zeros.py:149: RuntimeWarning: Tolerance of 9.65661096554e+15 reached\n",
        "  warnings.warn(msg, RuntimeWarning)\n",
        "/Library/Python/2.7/site-packages/scipy-0.13.0.dev_c31f167_20130514-py2.7-macosx-10.8-intel.egg/scipy/optimize/zeros.py:149: RuntimeWarning: Tolerance of -1.05219461648e+16 reached\n",
        "  warnings.warn(msg, RuntimeWarning)\n"
       ]
      },
      {
       "output_type": "stream",
       "stream": "stderr",
       "text": [
        "/Library/Python/2.7/site-packages/scipy-0.13.0.dev_c31f167_20130514-py2.7-macosx-10.8-intel.egg/scipy/optimize/zeros.py:149: RuntimeWarning: Tolerance of -6.30678022152e+15 reached\n",
        "  warnings.warn(msg, RuntimeWarning)\n",
        "/Library/Python/2.7/site-packages/scipy-0.13.0.dev_c31f167_20130514-py2.7-macosx-10.8-intel.egg/scipy/optimize/zeros.py:149: RuntimeWarning: Tolerance of -5.87384500474e+15 reached\n",
        "  warnings.warn(msg, RuntimeWarning)\n"
       ]
      },
      {
       "output_type": "stream",
       "stream": "stderr",
       "text": [
        "/Library/Python/2.7/site-packages/scipy-0.13.0.dev_c31f167_20130514-py2.7-macosx-10.8-intel.egg/scipy/optimize/zeros.py:149: RuntimeWarning: Tolerance of 3.83963224858e+14 reached\n",
        "  warnings.warn(msg, RuntimeWarning)\n",
        "/Library/Python/2.7/site-packages/scipy-0.13.0.dev_c31f167_20130514-py2.7-macosx-10.8-intel.egg/scipy/optimize/zeros.py:149: RuntimeWarning: Tolerance of 1.96996209337e+15 reached\n",
        "  warnings.warn(msg, RuntimeWarning)\n"
       ]
      },
      {
       "output_type": "stream",
       "stream": "stderr",
       "text": [
        "/Library/Python/2.7/site-packages/scipy-0.13.0.dev_c31f167_20130514-py2.7-macosx-10.8-intel.egg/scipy/optimize/zeros.py:149: RuntimeWarning: Tolerance of 4.03047611938e+16 reached\n",
        "  warnings.warn(msg, RuntimeWarning)\n",
        "/Library/Python/2.7/site-packages/scipy-0.13.0.dev_c31f167_20130514-py2.7-macosx-10.8-intel.egg/scipy/optimize/zeros.py:149: RuntimeWarning: Tolerance of -7.75719112535e+15 reached\n",
        "  warnings.warn(msg, RuntimeWarning)\n"
       ]
      },
      {
       "output_type": "stream",
       "stream": "stderr",
       "text": [
        "/Library/Python/2.7/site-packages/scipy-0.13.0.dev_c31f167_20130514-py2.7-macosx-10.8-intel.egg/scipy/optimize/zeros.py:149: RuntimeWarning: Tolerance of -1.97926744774e+16 reached\n",
        "  warnings.warn(msg, RuntimeWarning)\n",
        "/Library/Python/2.7/site-packages/scipy-0.13.0.dev_c31f167_20130514-py2.7-macosx-10.8-intel.egg/scipy/optimize/zeros.py:149: RuntimeWarning: Tolerance of 9.22684593794e+16 reached\n",
        "  warnings.warn(msg, RuntimeWarning)\n"
       ]
      },
      {
       "output_type": "stream",
       "stream": "stderr",
       "text": [
        "/Library/Python/2.7/site-packages/scipy-0.13.0.dev_c31f167_20130514-py2.7-macosx-10.8-intel.egg/scipy/optimize/zeros.py:149: RuntimeWarning: Tolerance of 4.23235546016e+16 reached\n",
        "  warnings.warn(msg, RuntimeWarning)\n",
        "/Library/Python/2.7/site-packages/scipy-0.13.0.dev_c31f167_20130514-py2.7-macosx-10.8-intel.egg/scipy/optimize/zeros.py:149: RuntimeWarning: Tolerance of 3.46180102502e+16 reached\n",
        "  warnings.warn(msg, RuntimeWarning)\n"
       ]
      },
      {
       "output_type": "stream",
       "stream": "stderr",
       "text": [
        "/Library/Python/2.7/site-packages/scipy-0.13.0.dev_c31f167_20130514-py2.7-macosx-10.8-intel.egg/scipy/optimize/zeros.py:149: RuntimeWarning: Tolerance of 2.74429876691e+13 reached\n",
        "  warnings.warn(msg, RuntimeWarning)\n",
        "/Library/Python/2.7/site-packages/scipy-0.13.0.dev_c31f167_20130514-py2.7-macosx-10.8-intel.egg/scipy/optimize/zeros.py:149: RuntimeWarning: Tolerance of 6.20193181542e+15 reached\n",
        "  warnings.warn(msg, RuntimeWarning)\n"
       ]
      },
      {
       "output_type": "stream",
       "stream": "stderr",
       "text": [
        "/Library/Python/2.7/site-packages/scipy-0.13.0.dev_c31f167_20130514-py2.7-macosx-10.8-intel.egg/scipy/optimize/zeros.py:149: RuntimeWarning: Tolerance of -2.05034453118e+16 reached\n",
        "  warnings.warn(msg, RuntimeWarning)\n",
        "/Library/Python/2.7/site-packages/scipy-0.13.0.dev_c31f167_20130514-py2.7-macosx-10.8-intel.egg/scipy/optimize/zeros.py:149: RuntimeWarning: Tolerance of 1.0924430633e+16 reached\n",
        "  warnings.warn(msg, RuntimeWarning)\n"
       ]
      },
      {
       "output_type": "stream",
       "stream": "stderr",
       "text": [
        "/Library/Python/2.7/site-packages/scipy-0.13.0.dev_c31f167_20130514-py2.7-macosx-10.8-intel.egg/scipy/optimize/zeros.py:149: RuntimeWarning: Tolerance of -2.86013541742e+16 reached\n",
        "  warnings.warn(msg, RuntimeWarning)\n",
        "/Library/Python/2.7/site-packages/scipy-0.13.0.dev_c31f167_20130514-py2.7-macosx-10.8-intel.egg/scipy/optimize/zeros.py:149: RuntimeWarning: Tolerance of 4.36411937699e-08 reached\n",
        "  warnings.warn(msg, RuntimeWarning)\n"
       ]
      },
      {
       "output_type": "stream",
       "stream": "stderr",
       "text": [
        "/Library/Python/2.7/site-packages/scipy-0.13.0.dev_c31f167_20130514-py2.7-macosx-10.8-intel.egg/scipy/optimize/zeros.py:149: RuntimeWarning: Tolerance of -9.37389782427e+14 reached\n",
        "  warnings.warn(msg, RuntimeWarning)\n",
        "/Library/Python/2.7/site-packages/scipy-0.13.0.dev_c31f167_20130514-py2.7-macosx-10.8-intel.egg/scipy/optimize/zeros.py:149: RuntimeWarning: Tolerance of -1.30305842511e+13 reached\n",
        "  warnings.warn(msg, RuntimeWarning)\n"
       ]
      },
      {
       "output_type": "stream",
       "stream": "stderr",
       "text": [
        "/Library/Python/2.7/site-packages/scipy-0.13.0.dev_c31f167_20130514-py2.7-macosx-10.8-intel.egg/scipy/optimize/zeros.py:149: RuntimeWarning: Tolerance of -3.13310213511e+15 reached\n",
        "  warnings.warn(msg, RuntimeWarning)\n",
        "/Library/Python/2.7/site-packages/scipy-0.13.0.dev_c31f167_20130514-py2.7-macosx-10.8-intel.egg/scipy/optimize/zeros.py:149: RuntimeWarning: Tolerance of -1.95095718489e+16 reached\n",
        "  warnings.warn(msg, RuntimeWarning)\n"
       ]
      },
      {
       "output_type": "stream",
       "stream": "stderr",
       "text": [
        "/Library/Python/2.7/site-packages/scipy-0.13.0.dev_c31f167_20130514-py2.7-macosx-10.8-intel.egg/scipy/optimize/zeros.py:149: RuntimeWarning: Tolerance of 2.49598493081e+16 reached\n",
        "  warnings.warn(msg, RuntimeWarning)\n",
        "/Library/Python/2.7/site-packages/scipy-0.13.0.dev_c31f167_20130514-py2.7-macosx-10.8-intel.egg/scipy/optimize/zeros.py:149: RuntimeWarning: Tolerance of -1.59536984278e+15 reached\n",
        "  warnings.warn(msg, RuntimeWarning)\n"
       ]
      },
      {
       "output_type": "stream",
       "stream": "stderr",
       "text": [
        "/Library/Python/2.7/site-packages/scipy-0.13.0.dev_c31f167_20130514-py2.7-macosx-10.8-intel.egg/scipy/optimize/zeros.py:149: RuntimeWarning: Tolerance of -1.89613061748e+17 reached\n",
        "  warnings.warn(msg, RuntimeWarning)\n",
        "/Library/Python/2.7/site-packages/scipy-0.13.0.dev_c31f167_20130514-py2.7-macosx-10.8-intel.egg/scipy/optimize/zeros.py:149: RuntimeWarning: Tolerance of -1.95472915031e+15 reached\n",
        "  warnings.warn(msg, RuntimeWarning)\n"
       ]
      },
      {
       "output_type": "stream",
       "stream": "stderr",
       "text": [
        "/Library/Python/2.7/site-packages/scipy-0.13.0.dev_c31f167_20130514-py2.7-macosx-10.8-intel.egg/scipy/optimize/zeros.py:149: RuntimeWarning: Tolerance of -4.23599492828e+15 reached\n",
        "  warnings.warn(msg, RuntimeWarning)\n",
        "/Library/Python/2.7/site-packages/scipy-0.13.0.dev_c31f167_20130514-py2.7-macosx-10.8-intel.egg/scipy/optimize/zeros.py:149: RuntimeWarning: Tolerance of 1.87989405081e+16 reached\n",
        "  warnings.warn(msg, RuntimeWarning)\n"
       ]
      },
      {
       "output_type": "stream",
       "stream": "stderr",
       "text": [
        "/Library/Python/2.7/site-packages/scipy-0.13.0.dev_c31f167_20130514-py2.7-macosx-10.8-intel.egg/scipy/optimize/zeros.py:149: RuntimeWarning: Tolerance of -4.70193327005e+15 reached\n",
        "  warnings.warn(msg, RuntimeWarning)\n",
        "/Library/Python/2.7/site-packages/scipy-0.13.0.dev_c31f167_20130514-py2.7-macosx-10.8-intel.egg/scipy/optimize/zeros.py:149: RuntimeWarning: Tolerance of -2.77931485307e+15 reached\n",
        "  warnings.warn(msg, RuntimeWarning)\n"
       ]
      },
      {
       "output_type": "stream",
       "stream": "stderr",
       "text": [
        "/Library/Python/2.7/site-packages/scipy-0.13.0.dev_c31f167_20130514-py2.7-macosx-10.8-intel.egg/scipy/optimize/zeros.py:149: RuntimeWarning: Tolerance of -5.28028565986e+16 reached\n",
        "  warnings.warn(msg, RuntimeWarning)\n",
        "/Library/Python/2.7/site-packages/scipy-0.13.0.dev_c31f167_20130514-py2.7-macosx-10.8-intel.egg/scipy/optimize/zeros.py:149: RuntimeWarning: Tolerance of 1.37893789399e+16 reached\n",
        "  warnings.warn(msg, RuntimeWarning)\n"
       ]
      },
      {
       "output_type": "stream",
       "stream": "stderr",
       "text": [
        "/Library/Python/2.7/site-packages/scipy-0.13.0.dev_c31f167_20130514-py2.7-macosx-10.8-intel.egg/scipy/optimize/zeros.py:149: RuntimeWarning: Tolerance of -1.70552246507e+16 reached\n",
        "  warnings.warn(msg, RuntimeWarning)\n",
        "/Library/Python/2.7/site-packages/scipy-0.13.0.dev_c31f167_20130514-py2.7-macosx-10.8-intel.egg/scipy/optimize/zeros.py:149: RuntimeWarning: Tolerance of 1.36522963286e+14 reached\n",
        "  warnings.warn(msg, RuntimeWarning)\n"
       ]
      },
      {
       "output_type": "stream",
       "stream": "stderr",
       "text": [
        "/Library/Python/2.7/site-packages/scipy-0.13.0.dev_c31f167_20130514-py2.7-macosx-10.8-intel.egg/scipy/optimize/zeros.py:149: RuntimeWarning: Tolerance of -3.28264062506e+13 reached\n",
        "  warnings.warn(msg, RuntimeWarning)\n",
        "/Library/Python/2.7/site-packages/scipy-0.13.0.dev_c31f167_20130514-py2.7-macosx-10.8-intel.egg/scipy/optimize/zeros.py:149: RuntimeWarning: Tolerance of -1.621110343e+16 reached\n",
        "  warnings.warn(msg, RuntimeWarning)\n"
       ]
      },
      {
       "output_type": "stream",
       "stream": "stderr",
       "text": [
        "/Library/Python/2.7/site-packages/scipy-0.13.0.dev_c31f167_20130514-py2.7-macosx-10.8-intel.egg/scipy/optimize/zeros.py:149: RuntimeWarning: Tolerance of -5.07742461253e+18 reached\n",
        "  warnings.warn(msg, RuntimeWarning)\n",
        "/Library/Python/2.7/site-packages/scipy-0.13.0.dev_c31f167_20130514-py2.7-macosx-10.8-intel.egg/scipy/optimize/zeros.py:149: RuntimeWarning: Tolerance of 1.2852675526e+16 reached\n",
        "  warnings.warn(msg, RuntimeWarning)\n"
       ]
      },
      {
       "output_type": "stream",
       "stream": "stderr",
       "text": [
        "/Library/Python/2.7/site-packages/scipy-0.13.0.dev_c31f167_20130514-py2.7-macosx-10.8-intel.egg/scipy/optimize/zeros.py:149: RuntimeWarning: Tolerance of -3.36877317282e+15 reached\n",
        "  warnings.warn(msg, RuntimeWarning)\n",
        "/Library/Python/2.7/site-packages/scipy-0.13.0.dev_c31f167_20130514-py2.7-macosx-10.8-intel.egg/scipy/optimize/zeros.py:149: RuntimeWarning: Tolerance of -2.08836113333e+14 reached\n",
        "  warnings.warn(msg, RuntimeWarning)\n"
       ]
      },
      {
       "output_type": "stream",
       "stream": "stderr",
       "text": [
        "/Library/Python/2.7/site-packages/scipy-0.13.0.dev_c31f167_20130514-py2.7-macosx-10.8-intel.egg/scipy/optimize/zeros.py:149: RuntimeWarning: Tolerance of -5.16030934005e+13 reached\n",
        "  warnings.warn(msg, RuntimeWarning)\n",
        "/Library/Python/2.7/site-packages/scipy-0.13.0.dev_c31f167_20130514-py2.7-macosx-10.8-intel.egg/scipy/optimize/zeros.py:149: RuntimeWarning: Tolerance of 3.33031475831e+16 reached\n",
        "  warnings.warn(msg, RuntimeWarning)\n"
       ]
      },
      {
       "output_type": "stream",
       "stream": "stderr",
       "text": [
        "/Library/Python/2.7/site-packages/scipy-0.13.0.dev_c31f167_20130514-py2.7-macosx-10.8-intel.egg/scipy/optimize/zeros.py:149: RuntimeWarning: Tolerance of 1.39425919895e+16 reached\n",
        "  warnings.warn(msg, RuntimeWarning)\n",
        "/Library/Python/2.7/site-packages/scipy-0.13.0.dev_c31f167_20130514-py2.7-macosx-10.8-intel.egg/scipy/optimize/zeros.py:149: RuntimeWarning: Tolerance of -8.55802830761e+15 reached\n",
        "  warnings.warn(msg, RuntimeWarning)\n"
       ]
      },
      {
       "output_type": "stream",
       "stream": "stdout",
       "text": [
        "\n",
        "deleting item T1map_LL"
       ]
      },
      {
       "output_type": "stream",
       "stream": "stdout",
       "text": [
        "\n",
        "deleting item T1map_LL_fitdict"
       ]
      },
      {
       "output_type": "stream",
       "stream": "stderr",
       "text": [
        "/Library/Python/2.7/site-packages/scipy-0.13.0.dev_c31f167_20130514-py2.7-macosx-10.8-intel.egg/scipy/optimize/zeros.py:149: RuntimeWarning: Tolerance of -8.77985256245e+16 reached\n",
        "  warnings.warn(msg, RuntimeWarning)\n",
        "WARNING:sarpy.io.BRUKERIO:NSLICES not equal to number of ACQ_obj_order\n"
       ]
      },
      {
       "output_type": "stream",
       "stream": "stderr",
       "text": [
        "/Library/Python/2.7/site-packages/scipy-0.13.0.dev_c31f167_20130514-py2.7-macosx-10.8-intel.egg/scipy/optimize/zeros.py:149: RuntimeWarning: Tolerance of -1.85722602422e+15 reached\n",
        "  warnings.warn(msg, RuntimeWarning)\n",
        "/Library/Python/2.7/site-packages/scipy-0.13.0.dev_c31f167_20130514-py2.7-macosx-10.8-intel.egg/scipy/optimize/zeros.py:149: RuntimeWarning: Tolerance of -1.01294745112e+14 reached\n",
        "  warnings.warn(msg, RuntimeWarning)\n"
       ]
      },
      {
       "output_type": "stream",
       "stream": "stderr",
       "text": [
        "/Library/Python/2.7/site-packages/scipy-0.13.0.dev_c31f167_20130514-py2.7-macosx-10.8-intel.egg/scipy/optimize/zeros.py:149: RuntimeWarning: Tolerance of -5.13671905627e+15 reached\n",
        "  warnings.warn(msg, RuntimeWarning)\n",
        "/Library/Python/2.7/site-packages/scipy-0.13.0.dev_c31f167_20130514-py2.7-macosx-10.8-intel.egg/scipy/optimize/zeros.py:149: RuntimeWarning: Tolerance of -2.77262662115e+15 reached\n",
        "  warnings.warn(msg, RuntimeWarning)\n"
       ]
      },
      {
       "output_type": "stream",
       "stream": "stderr",
       "text": [
        "/Library/Python/2.7/site-packages/scipy-0.13.0.dev_c31f167_20130514-py2.7-macosx-10.8-intel.egg/scipy/optimize/zeros.py:149: RuntimeWarning: Tolerance of -6.97362396018e+14 reached\n",
        "  warnings.warn(msg, RuntimeWarning)\n",
        "/Library/Python/2.7/site-packages/scipy-0.13.0.dev_c31f167_20130514-py2.7-macosx-10.8-intel.egg/scipy/optimize/zeros.py:149: RuntimeWarning: Tolerance of -3.35323394033e+16 reached\n",
        "  warnings.warn(msg, RuntimeWarning)\n"
       ]
      },
      {
       "output_type": "stream",
       "stream": "stderr",
       "text": [
        "/Library/Python/2.7/site-packages/scipy-0.13.0.dev_c31f167_20130514-py2.7-macosx-10.8-intel.egg/scipy/optimize/zeros.py:149: RuntimeWarning: Tolerance of -7.01464695334e+14 reached\n",
        "  warnings.warn(msg, RuntimeWarning)\n",
        "/Library/Python/2.7/site-packages/scipy-0.13.0.dev_c31f167_20130514-py2.7-macosx-10.8-intel.egg/scipy/optimize/zeros.py:149: RuntimeWarning: Tolerance of 8.19182754927e+14 reached\n",
        "  warnings.warn(msg, RuntimeWarning)\n"
       ]
      },
      {
       "output_type": "stream",
       "stream": "stderr",
       "text": [
        "/Library/Python/2.7/site-packages/scipy-0.13.0.dev_c31f167_20130514-py2.7-macosx-10.8-intel.egg/scipy/optimize/zeros.py:149: RuntimeWarning: Tolerance of 8.57609414194e+14 reached\n",
        "  warnings.warn(msg, RuntimeWarning)\n",
        "/Library/Python/2.7/site-packages/scipy-0.13.0.dev_c31f167_20130514-py2.7-macosx-10.8-intel.egg/scipy/optimize/zeros.py:149: RuntimeWarning: Tolerance of 1.08942428805e+13 reached\n",
        "  warnings.warn(msg, RuntimeWarning)\n"
       ]
      },
      {
       "output_type": "stream",
       "stream": "stderr",
       "text": [
        "/Library/Python/2.7/site-packages/scipy-0.13.0.dev_c31f167_20130514-py2.7-macosx-10.8-intel.egg/scipy/optimize/zeros.py:149: RuntimeWarning: Tolerance of 4.70606532154e+14 reached\n",
        "  warnings.warn(msg, RuntimeWarning)\n",
        "/Library/Python/2.7/site-packages/scipy-0.13.0.dev_c31f167_20130514-py2.7-macosx-10.8-intel.egg/scipy/optimize/zeros.py:149: RuntimeWarning: Tolerance of 3.423602275e+14 reached\n",
        "  warnings.warn(msg, RuntimeWarning)\n"
       ]
      },
      {
       "output_type": "stream",
       "stream": "stderr",
       "text": [
        "/Library/Python/2.7/site-packages/scipy-0.13.0.dev_c31f167_20130514-py2.7-macosx-10.8-intel.egg/scipy/optimize/zeros.py:149: RuntimeWarning: Tolerance of 1.96934736288e+14 reached\n",
        "  warnings.warn(msg, RuntimeWarning)\n",
        "/Library/Python/2.7/site-packages/scipy-0.13.0.dev_c31f167_20130514-py2.7-macosx-10.8-intel.egg/scipy/optimize/zeros.py:149: RuntimeWarning: Tolerance of 5.15000163122e+13 reached\n",
        "  warnings.warn(msg, RuntimeWarning)\n"
       ]
      },
      {
       "output_type": "stream",
       "stream": "stderr",
       "text": [
        "/Library/Python/2.7/site-packages/scipy-0.13.0.dev_c31f167_20130514-py2.7-macosx-10.8-intel.egg/scipy/optimize/zeros.py:149: RuntimeWarning: Tolerance of -6.86663754844e+15 reached\n",
        "  warnings.warn(msg, RuntimeWarning)\n",
        "/Library/Python/2.7/site-packages/scipy-0.13.0.dev_c31f167_20130514-py2.7-macosx-10.8-intel.egg/scipy/optimize/zeros.py:149: RuntimeWarning: Tolerance of 2.59957530654e+16 reached\n",
        "  warnings.warn(msg, RuntimeWarning)\n"
       ]
      },
      {
       "output_type": "stream",
       "stream": "stderr",
       "text": [
        "/Library/Python/2.7/site-packages/scipy-0.13.0.dev_c31f167_20130514-py2.7-macosx-10.8-intel.egg/scipy/optimize/zeros.py:149: RuntimeWarning: Tolerance of -8.33911630421e+15 reached\n",
        "  warnings.warn(msg, RuntimeWarning)\n",
        "/Library/Python/2.7/site-packages/scipy-0.13.0.dev_c31f167_20130514-py2.7-macosx-10.8-intel.egg/scipy/optimize/zeros.py:149: RuntimeWarning: Tolerance of -8.79556794959e+14 reached\n",
        "  warnings.warn(msg, RuntimeWarning)\n"
       ]
      },
      {
       "output_type": "stream",
       "stream": "stderr",
       "text": [
        "/Library/Python/2.7/site-packages/scipy-0.13.0.dev_c31f167_20130514-py2.7-macosx-10.8-intel.egg/scipy/optimize/zeros.py:149: RuntimeWarning: Tolerance of 1.84233136717e+16 reached\n",
        "  warnings.warn(msg, RuntimeWarning)\n",
        "/Library/Python/2.7/site-packages/scipy-0.13.0.dev_c31f167_20130514-py2.7-macosx-10.8-intel.egg/scipy/optimize/zeros.py:149: RuntimeWarning: Tolerance of -9.3774387235e+12 reached\n",
        "  warnings.warn(msg, RuntimeWarning)\n"
       ]
      },
      {
       "output_type": "stream",
       "stream": "stderr",
       "text": [
        "/Library/Python/2.7/site-packages/scipy-0.13.0.dev_c31f167_20130514-py2.7-macosx-10.8-intel.egg/scipy/optimize/zeros.py:149: RuntimeWarning: Tolerance of -794161419586.0 reached\n",
        "  warnings.warn(msg, RuntimeWarning)\n",
        "/Library/Python/2.7/site-packages/scipy-0.13.0.dev_c31f167_20130514-py2.7-macosx-10.8-intel.egg/scipy/optimize/zeros.py:149: RuntimeWarning: Tolerance of 1.88352263284e+16 reached\n",
        "  warnings.warn(msg, RuntimeWarning)\n"
       ]
      },
      {
       "output_type": "stream",
       "stream": "stderr",
       "text": [
        "/Library/Python/2.7/site-packages/scipy-0.13.0.dev_c31f167_20130514-py2.7-macosx-10.8-intel.egg/scipy/optimize/zeros.py:149: RuntimeWarning: Tolerance of 6.14600887184e+15 reached\n",
        "  warnings.warn(msg, RuntimeWarning)\n",
        "/Library/Python/2.7/site-packages/scipy-0.13.0.dev_c31f167_20130514-py2.7-macosx-10.8-intel.egg/scipy/optimize/zeros.py:149: RuntimeWarning: Tolerance of -2.16569697305e+16 reached\n",
        "  warnings.warn(msg, RuntimeWarning)\n"
       ]
      },
      {
       "output_type": "stream",
       "stream": "stderr",
       "text": [
        "/Library/Python/2.7/site-packages/scipy-0.13.0.dev_c31f167_20130514-py2.7-macosx-10.8-intel.egg/scipy/optimize/zeros.py:149: RuntimeWarning: Tolerance of -4.1720224634e+16 reached\n",
        "  warnings.warn(msg, RuntimeWarning)\n",
        "/Library/Python/2.7/site-packages/scipy-0.13.0.dev_c31f167_20130514-py2.7-macosx-10.8-intel.egg/scipy/optimize/zeros.py:149: RuntimeWarning: Tolerance of -3.73409023232e+12 reached\n",
        "  warnings.warn(msg, RuntimeWarning)\n"
       ]
      },
      {
       "output_type": "stream",
       "stream": "stderr",
       "text": [
        "/Library/Python/2.7/site-packages/scipy-0.13.0.dev_c31f167_20130514-py2.7-macosx-10.8-intel.egg/scipy/optimize/zeros.py:149: RuntimeWarning: Tolerance of -1.02255789199e+15 reached\n",
        "  warnings.warn(msg, RuntimeWarning)\n",
        "/Library/Python/2.7/site-packages/scipy-0.13.0.dev_c31f167_20130514-py2.7-macosx-10.8-intel.egg/scipy/optimize/zeros.py:149: RuntimeWarning: Tolerance of -1.61615829724e+16 reached\n",
        "  warnings.warn(msg, RuntimeWarning)\n"
       ]
      },
      {
       "output_type": "stream",
       "stream": "stderr",
       "text": [
        "/Library/Python/2.7/site-packages/scipy-0.13.0.dev_c31f167_20130514-py2.7-macosx-10.8-intel.egg/scipy/optimize/zeros.py:149: RuntimeWarning: Tolerance of 3.9215718594e+14 reached\n",
        "  warnings.warn(msg, RuntimeWarning)\n",
        "/Library/Python/2.7/site-packages/scipy-0.13.0.dev_c31f167_20130514-py2.7-macosx-10.8-intel.egg/scipy/optimize/zeros.py:149: RuntimeWarning: Tolerance of 9.51098967303e+16 reached\n",
        "  warnings.warn(msg, RuntimeWarning)\n"
       ]
      },
      {
       "output_type": "stream",
       "stream": "stderr",
       "text": [
        "/Library/Python/2.7/site-packages/scipy-0.13.0.dev_c31f167_20130514-py2.7-macosx-10.8-intel.egg/scipy/optimize/zeros.py:149: RuntimeWarning: Tolerance of 1.18570407351e+12 reached\n",
        "  warnings.warn(msg, RuntimeWarning)\n",
        "/Library/Python/2.7/site-packages/scipy-0.13.0.dev_c31f167_20130514-py2.7-macosx-10.8-intel.egg/scipy/optimize/zeros.py:149: RuntimeWarning: Tolerance of 1.28678082912e+15 reached\n",
        "  warnings.warn(msg, RuntimeWarning)\n"
       ]
      },
      {
       "output_type": "stream",
       "stream": "stderr",
       "text": [
        "/Library/Python/2.7/site-packages/scipy-0.13.0.dev_c31f167_20130514-py2.7-macosx-10.8-intel.egg/scipy/optimize/zeros.py:149: RuntimeWarning: Tolerance of 1.39803365315e+15 reached\n",
        "  warnings.warn(msg, RuntimeWarning)\n",
        "/Library/Python/2.7/site-packages/scipy-0.13.0.dev_c31f167_20130514-py2.7-macosx-10.8-intel.egg/scipy/optimize/zeros.py:149: RuntimeWarning: Tolerance of -1.46899295385e+16 reached\n",
        "  warnings.warn(msg, RuntimeWarning)\n"
       ]
      },
      {
       "output_type": "stream",
       "stream": "stderr",
       "text": [
        "/Library/Python/2.7/site-packages/scipy-0.13.0.dev_c31f167_20130514-py2.7-macosx-10.8-intel.egg/scipy/optimize/zeros.py:149: RuntimeWarning: Tolerance of -1.80977170606e+16 reached\n",
        "  warnings.warn(msg, RuntimeWarning)\n",
        "/Library/Python/2.7/site-packages/scipy-0.13.0.dev_c31f167_20130514-py2.7-macosx-10.8-intel.egg/scipy/optimize/zeros.py:149: RuntimeWarning: Tolerance of -7.96001784913e+14 reached\n",
        "  warnings.warn(msg, RuntimeWarning)\n"
       ]
      },
      {
       "output_type": "stream",
       "stream": "stderr",
       "text": [
        "/Library/Python/2.7/site-packages/scipy-0.13.0.dev_c31f167_20130514-py2.7-macosx-10.8-intel.egg/scipy/optimize/zeros.py:149: RuntimeWarning: Tolerance of -1.6935838341e+15 reached\n",
        "  warnings.warn(msg, RuntimeWarning)\n",
        "/Library/Python/2.7/site-packages/scipy-0.13.0.dev_c31f167_20130514-py2.7-macosx-10.8-intel.egg/scipy/optimize/zeros.py:149: RuntimeWarning: Tolerance of -3.902472928e+16 reached\n",
        "  warnings.warn(msg, RuntimeWarning)\n"
       ]
      },
      {
       "output_type": "stream",
       "stream": "stderr",
       "text": [
        "/Library/Python/2.7/site-packages/scipy-0.13.0.dev_c31f167_20130514-py2.7-macosx-10.8-intel.egg/scipy/optimize/zeros.py:149: RuntimeWarning: Tolerance of -1.18042023139e+16 reached\n",
        "  warnings.warn(msg, RuntimeWarning)\n",
        "/Library/Python/2.7/site-packages/scipy-0.13.0.dev_c31f167_20130514-py2.7-macosx-10.8-intel.egg/scipy/optimize/zeros.py:149: RuntimeWarning: Tolerance of 6.63510906627e+14 reached\n",
        "  warnings.warn(msg, RuntimeWarning)\n"
       ]
      },
      {
       "output_type": "stream",
       "stream": "stderr",
       "text": [
        "/Library/Python/2.7/site-packages/scipy-0.13.0.dev_c31f167_20130514-py2.7-macosx-10.8-intel.egg/scipy/optimize/zeros.py:149: RuntimeWarning: Tolerance of -1.81803616269e+16 reached\n",
        "  warnings.warn(msg, RuntimeWarning)\n",
        "/Library/Python/2.7/site-packages/scipy-0.13.0.dev_c31f167_20130514-py2.7-macosx-10.8-intel.egg/scipy/optimize/zeros.py:149: RuntimeWarning: Tolerance of -6.21552959942e+15 reached\n",
        "  warnings.warn(msg, RuntimeWarning)\n"
       ]
      },
      {
       "output_type": "stream",
       "stream": "stderr",
       "text": [
        "/Library/Python/2.7/site-packages/scipy-0.13.0.dev_c31f167_20130514-py2.7-macosx-10.8-intel.egg/scipy/optimize/zeros.py:149: RuntimeWarning: Tolerance of -6.61454814551e+14 reached\n",
        "  warnings.warn(msg, RuntimeWarning)\n",
        "/Library/Python/2.7/site-packages/scipy-0.13.0.dev_c31f167_20130514-py2.7-macosx-10.8-intel.egg/scipy/optimize/zeros.py:149: RuntimeWarning: Tolerance of -5.40770031389e+17 reached\n",
        "  warnings.warn(msg, RuntimeWarning)\n"
       ]
      },
      {
       "output_type": "stream",
       "stream": "stderr",
       "text": [
        "/Library/Python/2.7/site-packages/scipy-0.13.0.dev_c31f167_20130514-py2.7-macosx-10.8-intel.egg/scipy/optimize/zeros.py:149: RuntimeWarning: Tolerance of 3.74781969598e+13 reached\n",
        "  warnings.warn(msg, RuntimeWarning)\n",
        "/Library/Python/2.7/site-packages/scipy-0.13.0.dev_c31f167_20130514-py2.7-macosx-10.8-intel.egg/scipy/optimize/zeros.py:149: RuntimeWarning: Tolerance of 155281476031.0 reached\n",
        "  warnings.warn(msg, RuntimeWarning)\n"
       ]
      },
      {
       "output_type": "stream",
       "stream": "stderr",
       "text": [
        "/Library/Python/2.7/site-packages/scipy-0.13.0.dev_c31f167_20130514-py2.7-macosx-10.8-intel.egg/scipy/optimize/zeros.py:149: RuntimeWarning: Tolerance of -8.44970652558e+14 reached\n",
        "  warnings.warn(msg, RuntimeWarning)\n",
        "/Library/Python/2.7/site-packages/scipy-0.13.0.dev_c31f167_20130514-py2.7-macosx-10.8-intel.egg/scipy/optimize/zeros.py:149: RuntimeWarning: Tolerance of 2.95927347951e+14 reached\n",
        "  warnings.warn(msg, RuntimeWarning)\n"
       ]
      },
      {
       "output_type": "stream",
       "stream": "stderr",
       "text": [
        "/Library/Python/2.7/site-packages/scipy-0.13.0.dev_c31f167_20130514-py2.7-macosx-10.8-intel.egg/scipy/optimize/zeros.py:149: RuntimeWarning: Tolerance of 3.09759304639e+16 reached\n",
        "  warnings.warn(msg, RuntimeWarning)\n",
        "/Library/Python/2.7/site-packages/scipy-0.13.0.dev_c31f167_20130514-py2.7-macosx-10.8-intel.egg/scipy/optimize/zeros.py:149: RuntimeWarning: Tolerance of -1.69071854162e+14 reached\n",
        "  warnings.warn(msg, RuntimeWarning)\n"
       ]
      },
      {
       "output_type": "stream",
       "stream": "stderr",
       "text": [
        "/Library/Python/2.7/site-packages/scipy-0.13.0.dev_c31f167_20130514-py2.7-macosx-10.8-intel.egg/scipy/optimize/zeros.py:149: RuntimeWarning: Tolerance of 2.24748084246e+16 reached\n",
        "  warnings.warn(msg, RuntimeWarning)\n",
        "/Library/Python/2.7/site-packages/scipy-0.13.0.dev_c31f167_20130514-py2.7-macosx-10.8-intel.egg/scipy/optimize/zeros.py:149: RuntimeWarning: Tolerance of -8.45376343627e+15 reached\n",
        "  warnings.warn(msg, RuntimeWarning)\n"
       ]
      },
      {
       "output_type": "stream",
       "stream": "stderr",
       "text": [
        "/Library/Python/2.7/site-packages/scipy-0.13.0.dev_c31f167_20130514-py2.7-macosx-10.8-intel.egg/scipy/optimize/zeros.py:149: RuntimeWarning: Tolerance of 1.19775321653e+16 reached\n",
        "  warnings.warn(msg, RuntimeWarning)\n",
        "/Library/Python/2.7/site-packages/scipy-0.13.0.dev_c31f167_20130514-py2.7-macosx-10.8-intel.egg/scipy/optimize/zeros.py:149: RuntimeWarning: Tolerance of -1.96151798628e+16 reached\n",
        "  warnings.warn(msg, RuntimeWarning)\n"
       ]
      },
      {
       "output_type": "stream",
       "stream": "stderr",
       "text": [
        "/Library/Python/2.7/site-packages/scipy-0.13.0.dev_c31f167_20130514-py2.7-macosx-10.8-intel.egg/scipy/optimize/zeros.py:149: RuntimeWarning: Tolerance of 1.28166225589e+16 reached\n",
        "  warnings.warn(msg, RuntimeWarning)\n",
        "/Library/Python/2.7/site-packages/scipy-0.13.0.dev_c31f167_20130514-py2.7-macosx-10.8-intel.egg/scipy/optimize/zeros.py:149: RuntimeWarning: Tolerance of -1.20727710536e+15 reached\n",
        "  warnings.warn(msg, RuntimeWarning)\n"
       ]
      },
      {
       "output_type": "stream",
       "stream": "stderr",
       "text": [
        "/Library/Python/2.7/site-packages/scipy-0.13.0.dev_c31f167_20130514-py2.7-macosx-10.8-intel.egg/scipy/optimize/zeros.py:149: RuntimeWarning: Tolerance of 4.89494914345e+14 reached\n",
        "  warnings.warn(msg, RuntimeWarning)\n",
        "/Library/Python/2.7/site-packages/scipy-0.13.0.dev_c31f167_20130514-py2.7-macosx-10.8-intel.egg/scipy/optimize/zeros.py:149: RuntimeWarning: Tolerance of 6.95392952064e+16 reached\n",
        "  warnings.warn(msg, RuntimeWarning)\n"
       ]
      },
      {
       "output_type": "stream",
       "stream": "stderr",
       "text": [
        "/Library/Python/2.7/site-packages/scipy-0.13.0.dev_c31f167_20130514-py2.7-macosx-10.8-intel.egg/scipy/optimize/zeros.py:149: RuntimeWarning: Tolerance of 1.06783801576e+16 reached\n",
        "  warnings.warn(msg, RuntimeWarning)\n",
        "/Library/Python/2.7/site-packages/scipy-0.13.0.dev_c31f167_20130514-py2.7-macosx-10.8-intel.egg/scipy/optimize/zeros.py:149: RuntimeWarning: Tolerance of -7.08277303593e+15 reached\n",
        "  warnings.warn(msg, RuntimeWarning)\n"
       ]
      },
      {
       "output_type": "stream",
       "stream": "stderr",
       "text": [
        "/Library/Python/2.7/site-packages/scipy-0.13.0.dev_c31f167_20130514-py2.7-macosx-10.8-intel.egg/scipy/optimize/zeros.py:149: RuntimeWarning: Tolerance of -1.23965651789e+12 reached\n",
        "  warnings.warn(msg, RuntimeWarning)\n",
        "/Library/Python/2.7/site-packages/scipy-0.13.0.dev_c31f167_20130514-py2.7-macosx-10.8-intel.egg/scipy/optimize/zeros.py:149: RuntimeWarning: Tolerance of -1.53909001469e+15 reached\n",
        "  warnings.warn(msg, RuntimeWarning)\n"
       ]
      },
      {
       "output_type": "stream",
       "stream": "stderr",
       "text": [
        "/Library/Python/2.7/site-packages/scipy-0.13.0.dev_c31f167_20130514-py2.7-macosx-10.8-intel.egg/scipy/optimize/zeros.py:149: RuntimeWarning: Tolerance of -1.46721699976e+16 reached\n",
        "  warnings.warn(msg, RuntimeWarning)\n",
        "/Library/Python/2.7/site-packages/scipy-0.13.0.dev_c31f167_20130514-py2.7-macosx-10.8-intel.egg/scipy/optimize/zeros.py:149: RuntimeWarning: Tolerance of 2.3862295293e+15 reached\n",
        "  warnings.warn(msg, RuntimeWarning)\n"
       ]
      },
      {
       "output_type": "stream",
       "stream": "stderr",
       "text": [
        "/Library/Python/2.7/site-packages/scipy-0.13.0.dev_c31f167_20130514-py2.7-macosx-10.8-intel.egg/scipy/optimize/zeros.py:149: RuntimeWarning: Tolerance of 1.23295745738e+16 reached\n",
        "  warnings.warn(msg, RuntimeWarning)\n",
        "/Library/Python/2.7/site-packages/scipy-0.13.0.dev_c31f167_20130514-py2.7-macosx-10.8-intel.egg/scipy/optimize/zeros.py:149: RuntimeWarning: Tolerance of -3.28807182836e+16 reached\n",
        "  warnings.warn(msg, RuntimeWarning)\n"
       ]
      },
      {
       "output_type": "stream",
       "stream": "stderr",
       "text": [
        "/Library/Python/2.7/site-packages/scipy-0.13.0.dev_c31f167_20130514-py2.7-macosx-10.8-intel.egg/scipy/optimize/zeros.py:149: RuntimeWarning: Tolerance of -2.1844231315e+15 reached\n",
        "  warnings.warn(msg, RuntimeWarning)\n",
        "/Library/Python/2.7/site-packages/scipy-0.13.0.dev_c31f167_20130514-py2.7-macosx-10.8-intel.egg/scipy/optimize/zeros.py:149: RuntimeWarning: Tolerance of 2.97580086873e+16 reached\n",
        "  warnings.warn(msg, RuntimeWarning)\n"
       ]
      },
      {
       "output_type": "stream",
       "stream": "stderr",
       "text": [
        "/Library/Python/2.7/site-packages/scipy-0.13.0.dev_c31f167_20130514-py2.7-macosx-10.8-intel.egg/scipy/optimize/zeros.py:149: RuntimeWarning: Tolerance of -9.91195730034e+12 reached\n",
        "  warnings.warn(msg, RuntimeWarning)\n",
        "/Library/Python/2.7/site-packages/scipy-0.13.0.dev_c31f167_20130514-py2.7-macosx-10.8-intel.egg/scipy/optimize/zeros.py:149: RuntimeWarning: Tolerance of -7.36406003302e+14 reached\n",
        "  warnings.warn(msg, RuntimeWarning)\n"
       ]
      },
      {
       "output_type": "stream",
       "stream": "stderr",
       "text": [
        "/Library/Python/2.7/site-packages/scipy-0.13.0.dev_c31f167_20130514-py2.7-macosx-10.8-intel.egg/scipy/optimize/zeros.py:149: RuntimeWarning: Tolerance of 3.43409853461e+18 reached\n",
        "  warnings.warn(msg, RuntimeWarning)\n",
        "/Library/Python/2.7/site-packages/scipy-0.13.0.dev_c31f167_20130514-py2.7-macosx-10.8-intel.egg/scipy/optimize/zeros.py:149: RuntimeWarning: Tolerance of -1.07309489444e+16 reached\n",
        "  warnings.warn(msg, RuntimeWarning)\n"
       ]
      },
      {
       "output_type": "stream",
       "stream": "stderr",
       "text": [
        "/Library/Python/2.7/site-packages/scipy-0.13.0.dev_c31f167_20130514-py2.7-macosx-10.8-intel.egg/scipy/optimize/zeros.py:149: RuntimeWarning: Tolerance of 1.28269489784e+16 reached\n",
        "  warnings.warn(msg, RuntimeWarning)\n",
        "/Library/Python/2.7/site-packages/scipy-0.13.0.dev_c31f167_20130514-py2.7-macosx-10.8-intel.egg/scipy/optimize/zeros.py:149: RuntimeWarning: Tolerance of 1.58198336074e+16 reached\n",
        "  warnings.warn(msg, RuntimeWarning)\n"
       ]
      },
      {
       "output_type": "stream",
       "stream": "stderr",
       "text": [
        "/Library/Python/2.7/site-packages/scipy-0.13.0.dev_c31f167_20130514-py2.7-macosx-10.8-intel.egg/scipy/optimize/zeros.py:149: RuntimeWarning: Tolerance of -6.40680521266e+12 reached\n",
        "  warnings.warn(msg, RuntimeWarning)\n",
        "/Library/Python/2.7/site-packages/scipy-0.13.0.dev_c31f167_20130514-py2.7-macosx-10.8-intel.egg/scipy/optimize/zeros.py:149: RuntimeWarning: Tolerance of -1.82272865211e+15 reached\n",
        "  warnings.warn(msg, RuntimeWarning)\n"
       ]
      },
      {
       "output_type": "stream",
       "stream": "stderr",
       "text": [
        "/Library/Python/2.7/site-packages/scipy-0.13.0.dev_c31f167_20130514-py2.7-macosx-10.8-intel.egg/scipy/optimize/zeros.py:149: RuntimeWarning: Tolerance of 1.48390758472e+16 reached\n",
        "  warnings.warn(msg, RuntimeWarning)\n",
        "/Library/Python/2.7/site-packages/scipy-0.13.0.dev_c31f167_20130514-py2.7-macosx-10.8-intel.egg/scipy/optimize/zeros.py:149: RuntimeWarning: Tolerance of -1.0671975718e+16 reached\n",
        "  warnings.warn(msg, RuntimeWarning)\n"
       ]
      },
      {
       "output_type": "stream",
       "stream": "stderr",
       "text": [
        "/Library/Python/2.7/site-packages/scipy-0.13.0.dev_c31f167_20130514-py2.7-macosx-10.8-intel.egg/scipy/optimize/zeros.py:149: RuntimeWarning: Tolerance of -1.54920440362e+16 reached\n",
        "  warnings.warn(msg, RuntimeWarning)\n",
        "/Library/Python/2.7/site-packages/scipy-0.13.0.dev_c31f167_20130514-py2.7-macosx-10.8-intel.egg/scipy/optimize/zeros.py:149: RuntimeWarning: Tolerance of 5.83530144208e+16 reached\n",
        "  warnings.warn(msg, RuntimeWarning)\n"
       ]
      },
      {
       "output_type": "stream",
       "stream": "stderr",
       "text": [
        "/Library/Python/2.7/site-packages/scipy-0.13.0.dev_c31f167_20130514-py2.7-macosx-10.8-intel.egg/scipy/optimize/zeros.py:149: RuntimeWarning: Tolerance of -9.38645548224e+15 reached\n",
        "  warnings.warn(msg, RuntimeWarning)\n",
        "/Library/Python/2.7/site-packages/scipy-0.13.0.dev_c31f167_20130514-py2.7-macosx-10.8-intel.egg/scipy/optimize/zeros.py:149: RuntimeWarning: Tolerance of -2.62614189849e+14 reached\n",
        "  warnings.warn(msg, RuntimeWarning)\n"
       ]
      },
      {
       "output_type": "stream",
       "stream": "stdout",
       "text": [
        "\n",
        "deleting item T1map_LL"
       ]
      },
      {
       "output_type": "stream",
       "stream": "stdout",
       "text": [
        "\n",
        "deleting item T1map_LL_fitdict"
       ]
      },
      {
       "output_type": "stream",
       "stream": "stderr",
       "text": [
        "WARNING:sarpy.io.BRUKERIO:NSLICES not equal to number of ACQ_obj_order\n"
       ]
      },
      {
       "output_type": "stream",
       "stream": "stderr",
       "text": [
        "/Library/Python/2.7/site-packages/scipy-0.13.0.dev_c31f167_20130514-py2.7-macosx-10.8-intel.egg/scipy/optimize/zeros.py:149: RuntimeWarning: Tolerance of 9.56470503122e+14 reached\n",
        "  warnings.warn(msg, RuntimeWarning)\n",
        "/Library/Python/2.7/site-packages/scipy-0.13.0.dev_c31f167_20130514-py2.7-macosx-10.8-intel.egg/scipy/optimize/zeros.py:149: RuntimeWarning: Tolerance of -3.54838849403e+16 reached\n",
        "  warnings.warn(msg, RuntimeWarning)\n"
       ]
      },
      {
       "output_type": "stream",
       "stream": "stderr",
       "text": [
        "/Library/Python/2.7/site-packages/scipy-0.13.0.dev_c31f167_20130514-py2.7-macosx-10.8-intel.egg/scipy/optimize/zeros.py:149: RuntimeWarning: Tolerance of 3.628056332e+15 reached\n",
        "  warnings.warn(msg, RuntimeWarning)\n",
        "/Library/Python/2.7/site-packages/scipy-0.13.0.dev_c31f167_20130514-py2.7-macosx-10.8-intel.egg/scipy/optimize/zeros.py:149: RuntimeWarning: Tolerance of -1.12456909356e+16 reached\n",
        "  warnings.warn(msg, RuntimeWarning)\n"
       ]
      },
      {
       "output_type": "stream",
       "stream": "stderr",
       "text": [
        "/Library/Python/2.7/site-packages/scipy-0.13.0.dev_c31f167_20130514-py2.7-macosx-10.8-intel.egg/scipy/optimize/zeros.py:149: RuntimeWarning: Tolerance of 4.17465470955e+14 reached\n",
        "  warnings.warn(msg, RuntimeWarning)\n",
        "/Library/Python/2.7/site-packages/scipy-0.13.0.dev_c31f167_20130514-py2.7-macosx-10.8-intel.egg/scipy/optimize/zeros.py:149: RuntimeWarning: Tolerance of -9.20348131813e+13 reached\n",
        "  warnings.warn(msg, RuntimeWarning)\n"
       ]
      },
      {
       "output_type": "stream",
       "stream": "stderr",
       "text": [
        "/Library/Python/2.7/site-packages/scipy-0.13.0.dev_c31f167_20130514-py2.7-macosx-10.8-intel.egg/scipy/optimize/zeros.py:149: RuntimeWarning: Tolerance of 1.48772480722e+17 reached\n",
        "  warnings.warn(msg, RuntimeWarning)\n",
        "/Library/Python/2.7/site-packages/scipy-0.13.0.dev_c31f167_20130514-py2.7-macosx-10.8-intel.egg/scipy/optimize/zeros.py:149: RuntimeWarning: Tolerance of 2.31638852365e+16 reached\n",
        "  warnings.warn(msg, RuntimeWarning)\n"
       ]
      },
      {
       "output_type": "stream",
       "stream": "stderr",
       "text": [
        "/Library/Python/2.7/site-packages/scipy-0.13.0.dev_c31f167_20130514-py2.7-macosx-10.8-intel.egg/scipy/optimize/zeros.py:149: RuntimeWarning: Tolerance of -5.26197254658e-08 reached\n",
        "  warnings.warn(msg, RuntimeWarning)\n",
        "/Library/Python/2.7/site-packages/scipy-0.13.0.dev_c31f167_20130514-py2.7-macosx-10.8-intel.egg/scipy/optimize/zeros.py:149: RuntimeWarning: Tolerance of -3.5229107559e+16 reached\n",
        "  warnings.warn(msg, RuntimeWarning)\n"
       ]
      },
      {
       "output_type": "stream",
       "stream": "stderr",
       "text": [
        "/Library/Python/2.7/site-packages/scipy-0.13.0.dev_c31f167_20130514-py2.7-macosx-10.8-intel.egg/scipy/optimize/zeros.py:149: RuntimeWarning: Tolerance of -1.28761288633e+16 reached\n",
        "  warnings.warn(msg, RuntimeWarning)\n",
        "/Library/Python/2.7/site-packages/scipy-0.13.0.dev_c31f167_20130514-py2.7-macosx-10.8-intel.egg/scipy/optimize/zeros.py:149: RuntimeWarning: Tolerance of -2.36448485764e+16 reached\n",
        "  warnings.warn(msg, RuntimeWarning)\n"
       ]
      },
      {
       "output_type": "stream",
       "stream": "stderr",
       "text": [
        "/Library/Python/2.7/site-packages/scipy-0.13.0.dev_c31f167_20130514-py2.7-macosx-10.8-intel.egg/scipy/optimize/zeros.py:149: RuntimeWarning: Tolerance of -2.59386256153e+16 reached\n",
        "  warnings.warn(msg, RuntimeWarning)\n",
        "/Library/Python/2.7/site-packages/scipy-0.13.0.dev_c31f167_20130514-py2.7-macosx-10.8-intel.egg/scipy/optimize/zeros.py:149: RuntimeWarning: Tolerance of 1.65061367605e+17 reached\n",
        "  warnings.warn(msg, RuntimeWarning)\n"
       ]
      },
      {
       "output_type": "stream",
       "stream": "stderr",
       "text": [
        "/Library/Python/2.7/site-packages/scipy-0.13.0.dev_c31f167_20130514-py2.7-macosx-10.8-intel.egg/scipy/optimize/zeros.py:149: RuntimeWarning: Tolerance of 5.52755979325e+16 reached\n",
        "  warnings.warn(msg, RuntimeWarning)\n",
        "/Library/Python/2.7/site-packages/scipy-0.13.0.dev_c31f167_20130514-py2.7-macosx-10.8-intel.egg/scipy/optimize/zeros.py:149: RuntimeWarning: Tolerance of -2.1465949897e+16 reached\n",
        "  warnings.warn(msg, RuntimeWarning)\n"
       ]
      },
      {
       "output_type": "stream",
       "stream": "stderr",
       "text": [
        "/Library/Python/2.7/site-packages/scipy-0.13.0.dev_c31f167_20130514-py2.7-macosx-10.8-intel.egg/scipy/optimize/zeros.py:149: RuntimeWarning: Tolerance of 1.90570011363e+15 reached\n",
        "  warnings.warn(msg, RuntimeWarning)\n",
        "/Library/Python/2.7/site-packages/scipy-0.13.0.dev_c31f167_20130514-py2.7-macosx-10.8-intel.egg/scipy/optimize/zeros.py:149: RuntimeWarning: Tolerance of -1.12266707742e+15 reached\n",
        "  warnings.warn(msg, RuntimeWarning)\n"
       ]
      },
      {
       "output_type": "stream",
       "stream": "stderr",
       "text": [
        "/Library/Python/2.7/site-packages/scipy-0.13.0.dev_c31f167_20130514-py2.7-macosx-10.8-intel.egg/scipy/optimize/zeros.py:149: RuntimeWarning: Tolerance of -1.76147284405e+16 reached\n",
        "  warnings.warn(msg, RuntimeWarning)\n",
        "/Library/Python/2.7/site-packages/scipy-0.13.0.dev_c31f167_20130514-py2.7-macosx-10.8-intel.egg/scipy/optimize/zeros.py:149: RuntimeWarning: Tolerance of 4.33760591771e+14 reached\n",
        "  warnings.warn(msg, RuntimeWarning)\n"
       ]
      },
      {
       "output_type": "stream",
       "stream": "stderr",
       "text": [
        "/Library/Python/2.7/site-packages/scipy-0.13.0.dev_c31f167_20130514-py2.7-macosx-10.8-intel.egg/scipy/optimize/zeros.py:149: RuntimeWarning: Tolerance of 3.87458054529e+13 reached\n",
        "  warnings.warn(msg, RuntimeWarning)\n",
        "/Library/Python/2.7/site-packages/scipy-0.13.0.dev_c31f167_20130514-py2.7-macosx-10.8-intel.egg/scipy/optimize/zeros.py:149: RuntimeWarning: Tolerance of -2.21800450659e+14 reached\n",
        "  warnings.warn(msg, RuntimeWarning)\n"
       ]
      },
      {
       "output_type": "stream",
       "stream": "stderr",
       "text": [
        "/Library/Python/2.7/site-packages/scipy-0.13.0.dev_c31f167_20130514-py2.7-macosx-10.8-intel.egg/scipy/optimize/zeros.py:149: RuntimeWarning: Tolerance of -1.24872544348e+16 reached\n",
        "  warnings.warn(msg, RuntimeWarning)\n",
        "/Library/Python/2.7/site-packages/scipy-0.13.0.dev_c31f167_20130514-py2.7-macosx-10.8-intel.egg/scipy/optimize/zeros.py:149: RuntimeWarning: Tolerance of -1.67665247042e+15 reached\n",
        "  warnings.warn(msg, RuntimeWarning)\n",
        "/Library/Python/2.7/site-packages/scipy-0.13.0.dev_c31f167_20130514-py2.7-macosx-10.8-intel.egg/scipy/optimize/zeros.py:149: RuntimeWarning: Tolerance of 5.96131637063e+15 reached\n",
        "  warnings.warn(msg, RuntimeWarning)\n"
       ]
      },
      {
       "output_type": "stream",
       "stream": "stderr",
       "text": [
        "/Library/Python/2.7/site-packages/scipy-0.13.0.dev_c31f167_20130514-py2.7-macosx-10.8-intel.egg/scipy/optimize/zeros.py:149: RuntimeWarning: Tolerance of 1.04483765256e+15 reached\n",
        "  warnings.warn(msg, RuntimeWarning)\n",
        "/Library/Python/2.7/site-packages/scipy-0.13.0.dev_c31f167_20130514-py2.7-macosx-10.8-intel.egg/scipy/optimize/zeros.py:149: RuntimeWarning: Tolerance of 9.23864051955e+12 reached\n",
        "  warnings.warn(msg, RuntimeWarning)\n"
       ]
      },
      {
       "output_type": "stream",
       "stream": "stderr",
       "text": [
        "/Library/Python/2.7/site-packages/scipy-0.13.0.dev_c31f167_20130514-py2.7-macosx-10.8-intel.egg/scipy/optimize/zeros.py:149: RuntimeWarning: Tolerance of 1.20917606468e+15 reached\n",
        "  warnings.warn(msg, RuntimeWarning)\n",
        "/Library/Python/2.7/site-packages/scipy-0.13.0.dev_c31f167_20130514-py2.7-macosx-10.8-intel.egg/scipy/optimize/zeros.py:149: RuntimeWarning: Tolerance of 4.75691506807e+14 reached\n",
        "  warnings.warn(msg, RuntimeWarning)\n"
       ]
      },
      {
       "output_type": "stream",
       "stream": "stderr",
       "text": [
        "/Library/Python/2.7/site-packages/scipy-0.13.0.dev_c31f167_20130514-py2.7-macosx-10.8-intel.egg/scipy/optimize/zeros.py:149: RuntimeWarning: Tolerance of -1.63817402181e+13 reached\n",
        "  warnings.warn(msg, RuntimeWarning)\n",
        "/Library/Python/2.7/site-packages/scipy-0.13.0.dev_c31f167_20130514-py2.7-macosx-10.8-intel.egg/scipy/optimize/zeros.py:149: RuntimeWarning: Tolerance of -4.9358728064e+14 reached\n",
        "  warnings.warn(msg, RuntimeWarning)\n"
       ]
      },
      {
       "output_type": "stream",
       "stream": "stderr",
       "text": [
        "/Library/Python/2.7/site-packages/scipy-0.13.0.dev_c31f167_20130514-py2.7-macosx-10.8-intel.egg/scipy/optimize/zeros.py:149: RuntimeWarning: Tolerance of -2.66178176396e+16 reached\n",
        "  warnings.warn(msg, RuntimeWarning)\n",
        "/Library/Python/2.7/site-packages/scipy-0.13.0.dev_c31f167_20130514-py2.7-macosx-10.8-intel.egg/scipy/optimize/zeros.py:149: RuntimeWarning: Tolerance of -1.14341447172e+16 reached\n",
        "  warnings.warn(msg, RuntimeWarning)\n",
        "/Library/Python/2.7/site-packages/scipy-0.13.0.dev_c31f167_20130514-py2.7-macosx-10.8-intel.egg/scipy/optimize/zeros.py:149: RuntimeWarning: Tolerance of -4.88025830587e+15 reached\n",
        "  warnings.warn(msg, RuntimeWarning)\n"
       ]
      },
      {
       "output_type": "stream",
       "stream": "stderr",
       "text": [
        "/Library/Python/2.7/site-packages/scipy-0.13.0.dev_c31f167_20130514-py2.7-macosx-10.8-intel.egg/scipy/optimize/zeros.py:149: RuntimeWarning: Tolerance of -2.20194833218e+15 reached\n",
        "  warnings.warn(msg, RuntimeWarning)\n",
        "/Library/Python/2.7/site-packages/scipy-0.13.0.dev_c31f167_20130514-py2.7-macosx-10.8-intel.egg/scipy/optimize/zeros.py:149: RuntimeWarning: Tolerance of 4.69852238894e-07 reached\n",
        "  warnings.warn(msg, RuntimeWarning)\n"
       ]
      },
      {
       "output_type": "stream",
       "stream": "stderr",
       "text": [
        "/Library/Python/2.7/site-packages/scipy-0.13.0.dev_c31f167_20130514-py2.7-macosx-10.8-intel.egg/scipy/optimize/zeros.py:149: RuntimeWarning: Tolerance of 5.02019021877e+15 reached\n",
        "  warnings.warn(msg, RuntimeWarning)\n",
        "/Library/Python/2.7/site-packages/scipy-0.13.0.dev_c31f167_20130514-py2.7-macosx-10.8-intel.egg/scipy/optimize/zeros.py:149: RuntimeWarning: Tolerance of 4.14815086155e+14 reached\n",
        "  warnings.warn(msg, RuntimeWarning)\n"
       ]
      },
      {
       "output_type": "stream",
       "stream": "stderr",
       "text": [
        "/Library/Python/2.7/site-packages/scipy-0.13.0.dev_c31f167_20130514-py2.7-macosx-10.8-intel.egg/scipy/optimize/zeros.py:149: RuntimeWarning: Tolerance of 4.05488455631e+15 reached\n",
        "  warnings.warn(msg, RuntimeWarning)\n",
        "/Library/Python/2.7/site-packages/scipy-0.13.0.dev_c31f167_20130514-py2.7-macosx-10.8-intel.egg/scipy/optimize/zeros.py:149: RuntimeWarning: Tolerance of 1.12668757381e+17 reached\n",
        "  warnings.warn(msg, RuntimeWarning)\n"
       ]
      },
      {
       "output_type": "stream",
       "stream": "stderr",
       "text": [
        "/Library/Python/2.7/site-packages/scipy-0.13.0.dev_c31f167_20130514-py2.7-macosx-10.8-intel.egg/scipy/optimize/zeros.py:149: RuntimeWarning: Tolerance of 4.85863500109e+16 reached\n",
        "  warnings.warn(msg, RuntimeWarning)\n",
        "/Library/Python/2.7/site-packages/scipy-0.13.0.dev_c31f167_20130514-py2.7-macosx-10.8-intel.egg/scipy/optimize/zeros.py:149: RuntimeWarning: Tolerance of 1.44037550047e+16 reached\n",
        "  warnings.warn(msg, RuntimeWarning)\n"
       ]
      },
      {
       "output_type": "stream",
       "stream": "stderr",
       "text": [
        "/Library/Python/2.7/site-packages/scipy-0.13.0.dev_c31f167_20130514-py2.7-macosx-10.8-intel.egg/scipy/optimize/zeros.py:149: RuntimeWarning: Tolerance of 3.22191588589e+15 reached\n",
        "  warnings.warn(msg, RuntimeWarning)\n",
        "/Library/Python/2.7/site-packages/scipy-0.13.0.dev_c31f167_20130514-py2.7-macosx-10.8-intel.egg/scipy/optimize/zeros.py:149: RuntimeWarning: Tolerance of 1.19008265401e+14 reached\n",
        "  warnings.warn(msg, RuntimeWarning)\n"
       ]
      },
      {
       "output_type": "stream",
       "stream": "stderr",
       "text": [
        "/Library/Python/2.7/site-packages/scipy-0.13.0.dev_c31f167_20130514-py2.7-macosx-10.8-intel.egg/scipy/optimize/zeros.py:149: RuntimeWarning: Tolerance of -2.58131056124e+12 reached\n",
        "  warnings.warn(msg, RuntimeWarning)\n",
        "/Library/Python/2.7/site-packages/scipy-0.13.0.dev_c31f167_20130514-py2.7-macosx-10.8-intel.egg/scipy/optimize/zeros.py:149: RuntimeWarning: Tolerance of -7.62583088887e+15 reached\n",
        "  warnings.warn(msg, RuntimeWarning)\n"
       ]
      },
      {
       "output_type": "stream",
       "stream": "stderr",
       "text": [
        "/Library/Python/2.7/site-packages/scipy-0.13.0.dev_c31f167_20130514-py2.7-macosx-10.8-intel.egg/scipy/optimize/zeros.py:149: RuntimeWarning: Tolerance of -1.16633491458e+15 reached\n",
        "  warnings.warn(msg, RuntimeWarning)\n",
        "/Library/Python/2.7/site-packages/scipy-0.13.0.dev_c31f167_20130514-py2.7-macosx-10.8-intel.egg/scipy/optimize/zeros.py:149: RuntimeWarning: Tolerance of 1.60251009157e+16 reached\n",
        "  warnings.warn(msg, RuntimeWarning)\n"
       ]
      },
      {
       "output_type": "stream",
       "stream": "stderr",
       "text": [
        "/Library/Python/2.7/site-packages/scipy-0.13.0.dev_c31f167_20130514-py2.7-macosx-10.8-intel.egg/scipy/optimize/zeros.py:149: RuntimeWarning: Tolerance of -3.04103952684e+16 reached\n",
        "  warnings.warn(msg, RuntimeWarning)\n",
        "/Library/Python/2.7/site-packages/scipy-0.13.0.dev_c31f167_20130514-py2.7-macosx-10.8-intel.egg/scipy/optimize/zeros.py:149: RuntimeWarning: Tolerance of 7.37624553456e+16 reached\n",
        "  warnings.warn(msg, RuntimeWarning)\n"
       ]
      },
      {
       "output_type": "stream",
       "stream": "stderr",
       "text": [
        "/Library/Python/2.7/site-packages/scipy-0.13.0.dev_c31f167_20130514-py2.7-macosx-10.8-intel.egg/scipy/optimize/zeros.py:149: RuntimeWarning: Tolerance of 1.27377123377e+17 reached\n",
        "  warnings.warn(msg, RuntimeWarning)\n",
        "/Library/Python/2.7/site-packages/scipy-0.13.0.dev_c31f167_20130514-py2.7-macosx-10.8-intel.egg/scipy/optimize/zeros.py:149: RuntimeWarning: Tolerance of 6.36972966483e+16 reached\n",
        "  warnings.warn(msg, RuntimeWarning)\n"
       ]
      },
      {
       "output_type": "stream",
       "stream": "stderr",
       "text": [
        "/Library/Python/2.7/site-packages/scipy-0.13.0.dev_c31f167_20130514-py2.7-macosx-10.8-intel.egg/scipy/optimize/zeros.py:149: RuntimeWarning: Tolerance of 1.37019606313e+15 reached\n",
        "  warnings.warn(msg, RuntimeWarning)\n",
        "/Library/Python/2.7/site-packages/scipy-0.13.0.dev_c31f167_20130514-py2.7-macosx-10.8-intel.egg/scipy/optimize/zeros.py:149: RuntimeWarning: Tolerance of 4.79176481135e+15 reached\n",
        "  warnings.warn(msg, RuntimeWarning)\n"
       ]
      },
      {
       "output_type": "stream",
       "stream": "stderr",
       "text": [
        "/Library/Python/2.7/site-packages/scipy-0.13.0.dev_c31f167_20130514-py2.7-macosx-10.8-intel.egg/scipy/optimize/zeros.py:149: RuntimeWarning: Tolerance of 4.17642119997e+14 reached\n",
        "  warnings.warn(msg, RuntimeWarning)\n",
        "/Library/Python/2.7/site-packages/scipy-0.13.0.dev_c31f167_20130514-py2.7-macosx-10.8-intel.egg/scipy/optimize/zeros.py:149: RuntimeWarning: Tolerance of 2.37503342145e+15 reached\n",
        "  warnings.warn(msg, RuntimeWarning)\n"
       ]
      },
      {
       "output_type": "stream",
       "stream": "stderr",
       "text": [
        "/Library/Python/2.7/site-packages/scipy-0.13.0.dev_c31f167_20130514-py2.7-macosx-10.8-intel.egg/scipy/optimize/zeros.py:149: RuntimeWarning: Tolerance of -2.85907101577e+16 reached\n",
        "  warnings.warn(msg, RuntimeWarning)\n",
        "/Library/Python/2.7/site-packages/scipy-0.13.0.dev_c31f167_20130514-py2.7-macosx-10.8-intel.egg/scipy/optimize/zeros.py:149: RuntimeWarning: Tolerance of 3.26253826949e+15 reached\n",
        "  warnings.warn(msg, RuntimeWarning)\n"
       ]
      },
      {
       "output_type": "stream",
       "stream": "stderr",
       "text": [
        "/Library/Python/2.7/site-packages/scipy-0.13.0.dev_c31f167_20130514-py2.7-macosx-10.8-intel.egg/scipy/optimize/zeros.py:149: RuntimeWarning: Tolerance of -3.18876931032e+16 reached\n",
        "  warnings.warn(msg, RuntimeWarning)\n",
        "/Library/Python/2.7/site-packages/scipy-0.13.0.dev_c31f167_20130514-py2.7-macosx-10.8-intel.egg/scipy/optimize/zeros.py:149: RuntimeWarning: Tolerance of 6.19104700503e+15 reached\n",
        "  warnings.warn(msg, RuntimeWarning)\n"
       ]
      },
      {
       "output_type": "stream",
       "stream": "stderr",
       "text": [
        "/Library/Python/2.7/site-packages/scipy-0.13.0.dev_c31f167_20130514-py2.7-macosx-10.8-intel.egg/scipy/optimize/zeros.py:149: RuntimeWarning: Tolerance of -1.84804082755e+15 reached\n",
        "  warnings.warn(msg, RuntimeWarning)\n",
        "/Library/Python/2.7/site-packages/scipy-0.13.0.dev_c31f167_20130514-py2.7-macosx-10.8-intel.egg/scipy/optimize/zeros.py:149: RuntimeWarning: Tolerance of 7.43004441773e+15 reached\n",
        "  warnings.warn(msg, RuntimeWarning)\n"
       ]
      },
      {
       "output_type": "stream",
       "stream": "stderr",
       "text": [
        "/Library/Python/2.7/site-packages/scipy-0.13.0.dev_c31f167_20130514-py2.7-macosx-10.8-intel.egg/scipy/optimize/zeros.py:149: RuntimeWarning: Tolerance of -1.3745455823e+16 reached\n",
        "  warnings.warn(msg, RuntimeWarning)\n",
        "/Library/Python/2.7/site-packages/scipy-0.13.0.dev_c31f167_20130514-py2.7-macosx-10.8-intel.egg/scipy/optimize/zeros.py:149: RuntimeWarning: Tolerance of -4.58336795494e+15 reached\n",
        "  warnings.warn(msg, RuntimeWarning)\n"
       ]
      },
      {
       "output_type": "stream",
       "stream": "stderr",
       "text": [
        "/Library/Python/2.7/site-packages/scipy-0.13.0.dev_c31f167_20130514-py2.7-macosx-10.8-intel.egg/scipy/optimize/zeros.py:149: RuntimeWarning: Tolerance of -3.58086520588e+16 reached\n",
        "  warnings.warn(msg, RuntimeWarning)\n",
        "/Library/Python/2.7/site-packages/scipy-0.13.0.dev_c31f167_20130514-py2.7-macosx-10.8-intel.egg/scipy/optimize/zeros.py:149: RuntimeWarning: Tolerance of 9.87482447412e+16 reached\n",
        "  warnings.warn(msg, RuntimeWarning)\n"
       ]
      },
      {
       "output_type": "stream",
       "stream": "stderr",
       "text": [
        "/Library/Python/2.7/site-packages/scipy-0.13.0.dev_c31f167_20130514-py2.7-macosx-10.8-intel.egg/scipy/optimize/zeros.py:149: RuntimeWarning: Tolerance of 3.2193458632e+15 reached\n",
        "  warnings.warn(msg, RuntimeWarning)\n",
        "/Library/Python/2.7/site-packages/scipy-0.13.0.dev_c31f167_20130514-py2.7-macosx-10.8-intel.egg/scipy/optimize/zeros.py:149: RuntimeWarning: Tolerance of 1.16326963987e+14 reached\n",
        "  warnings.warn(msg, RuntimeWarning)\n"
       ]
      },
      {
       "output_type": "stream",
       "stream": "stderr",
       "text": [
        "/Library/Python/2.7/site-packages/scipy-0.13.0.dev_c31f167_20130514-py2.7-macosx-10.8-intel.egg/scipy/optimize/zeros.py:149: RuntimeWarning: Tolerance of -3.38660504623e+16 reached\n",
        "  warnings.warn(msg, RuntimeWarning)\n",
        "/Library/Python/2.7/site-packages/scipy-0.13.0.dev_c31f167_20130514-py2.7-macosx-10.8-intel.egg/scipy/optimize/zeros.py:149: RuntimeWarning: Tolerance of 1.78999490427e+17 reached\n",
        "  warnings.warn(msg, RuntimeWarning)\n"
       ]
      },
      {
       "output_type": "stream",
       "stream": "stderr",
       "text": [
        "/Library/Python/2.7/site-packages/scipy-0.13.0.dev_c31f167_20130514-py2.7-macosx-10.8-intel.egg/scipy/optimize/zeros.py:149: RuntimeWarning: Tolerance of 1.97086168657e+18 reached\n",
        "  warnings.warn(msg, RuntimeWarning)\n",
        "/Library/Python/2.7/site-packages/scipy-0.13.0.dev_c31f167_20130514-py2.7-macosx-10.8-intel.egg/scipy/optimize/zeros.py:149: RuntimeWarning: Tolerance of -2.15959476118e+15 reached\n",
        "  warnings.warn(msg, RuntimeWarning)\n"
       ]
      },
      {
       "output_type": "stream",
       "stream": "stderr",
       "text": [
        "/Library/Python/2.7/site-packages/scipy-0.13.0.dev_c31f167_20130514-py2.7-macosx-10.8-intel.egg/scipy/optimize/zeros.py:149: RuntimeWarning: Tolerance of -7.85895595288e+15 reached\n",
        "  warnings.warn(msg, RuntimeWarning)\n",
        "/Library/Python/2.7/site-packages/scipy-0.13.0.dev_c31f167_20130514-py2.7-macosx-10.8-intel.egg/scipy/optimize/zeros.py:149: RuntimeWarning: Tolerance of -1.33800906398e+16 reached\n",
        "  warnings.warn(msg, RuntimeWarning)\n"
       ]
      },
      {
       "output_type": "stream",
       "stream": "stderr",
       "text": [
        "/Library/Python/2.7/site-packages/scipy-0.13.0.dev_c31f167_20130514-py2.7-macosx-10.8-intel.egg/scipy/optimize/zeros.py:149: RuntimeWarning: Tolerance of 3.43237142305e+14 reached\n",
        "  warnings.warn(msg, RuntimeWarning)\n",
        "/Library/Python/2.7/site-packages/scipy-0.13.0.dev_c31f167_20130514-py2.7-macosx-10.8-intel.egg/scipy/optimize/zeros.py:149: RuntimeWarning: Tolerance of -5.04059042579e+16 reached\n",
        "  warnings.warn(msg, RuntimeWarning)\n"
       ]
      },
      {
       "output_type": "stream",
       "stream": "stderr",
       "text": [
        "/Library/Python/2.7/site-packages/scipy-0.13.0.dev_c31f167_20130514-py2.7-macosx-10.8-intel.egg/scipy/optimize/zeros.py:149: RuntimeWarning: Tolerance of 2.49426445946e+16 reached\n",
        "  warnings.warn(msg, RuntimeWarning)\n",
        "/Library/Python/2.7/site-packages/scipy-0.13.0.dev_c31f167_20130514-py2.7-macosx-10.8-intel.egg/scipy/optimize/zeros.py:149: RuntimeWarning: Tolerance of 2.14354324304e+14 reached\n",
        "  warnings.warn(msg, RuntimeWarning)\n"
       ]
      },
      {
       "output_type": "stream",
       "stream": "stderr",
       "text": [
        "/Library/Python/2.7/site-packages/scipy-0.13.0.dev_c31f167_20130514-py2.7-macosx-10.8-intel.egg/scipy/optimize/zeros.py:149: RuntimeWarning: Tolerance of -1.74199919784e+13 reached\n",
        "  warnings.warn(msg, RuntimeWarning)\n",
        "/Library/Python/2.7/site-packages/scipy-0.13.0.dev_c31f167_20130514-py2.7-macosx-10.8-intel.egg/scipy/optimize/zeros.py:149: RuntimeWarning: Tolerance of -4.48008464486e+14 reached\n",
        "  warnings.warn(msg, RuntimeWarning)\n"
       ]
      },
      {
       "output_type": "stream",
       "stream": "stderr",
       "text": [
        "/Library/Python/2.7/site-packages/scipy-0.13.0.dev_c31f167_20130514-py2.7-macosx-10.8-intel.egg/scipy/optimize/zeros.py:149: RuntimeWarning: Tolerance of -2.13239582563e+15 reached\n",
        "  warnings.warn(msg, RuntimeWarning)\n",
        "/Library/Python/2.7/site-packages/scipy-0.13.0.dev_c31f167_20130514-py2.7-macosx-10.8-intel.egg/scipy/optimize/zeros.py:149: RuntimeWarning: Tolerance of 3.56855595219e+15 reached\n",
        "  warnings.warn(msg, RuntimeWarning)\n"
       ]
      },
      {
       "output_type": "stream",
       "stream": "stderr",
       "text": [
        "/Library/Python/2.7/site-packages/scipy-0.13.0.dev_c31f167_20130514-py2.7-macosx-10.8-intel.egg/scipy/optimize/zeros.py:149: RuntimeWarning: Tolerance of 1.5230845625e+15 reached\n",
        "  warnings.warn(msg, RuntimeWarning)\n",
        "/Library/Python/2.7/site-packages/scipy-0.13.0.dev_c31f167_20130514-py2.7-macosx-10.8-intel.egg/scipy/optimize/zeros.py:149: RuntimeWarning: Tolerance of -1.34129609338e+16 reached\n",
        "  warnings.warn(msg, RuntimeWarning)\n"
       ]
      },
      {
       "output_type": "stream",
       "stream": "stderr",
       "text": [
        "/Library/Python/2.7/site-packages/scipy-0.13.0.dev_c31f167_20130514-py2.7-macosx-10.8-intel.egg/scipy/optimize/zeros.py:149: RuntimeWarning: Tolerance of -1.75160737158e+16 reached\n",
        "  warnings.warn(msg, RuntimeWarning)\n",
        "/Library/Python/2.7/site-packages/scipy-0.13.0.dev_c31f167_20130514-py2.7-macosx-10.8-intel.egg/scipy/optimize/zeros.py:149: RuntimeWarning: Tolerance of -4.76781507373e+16 reached\n",
        "  warnings.warn(msg, RuntimeWarning)\n"
       ]
      },
      {
       "output_type": "stream",
       "stream": "stderr",
       "text": [
        "/Library/Python/2.7/site-packages/scipy-0.13.0.dev_c31f167_20130514-py2.7-macosx-10.8-intel.egg/scipy/optimize/zeros.py:149: RuntimeWarning: Tolerance of -3.00743418925e+15 reached\n",
        "  warnings.warn(msg, RuntimeWarning)\n",
        "/Library/Python/2.7/site-packages/scipy-0.13.0.dev_c31f167_20130514-py2.7-macosx-10.8-intel.egg/scipy/optimize/zeros.py:149: RuntimeWarning: Tolerance of 779922444880.0 reached\n",
        "  warnings.warn(msg, RuntimeWarning)\n"
       ]
      },
      {
       "output_type": "stream",
       "stream": "stderr",
       "text": [
        "/Library/Python/2.7/site-packages/scipy-0.13.0.dev_c31f167_20130514-py2.7-macosx-10.8-intel.egg/scipy/optimize/zeros.py:149: RuntimeWarning: Tolerance of 3.57104723661e+15 reached\n",
        "  warnings.warn(msg, RuntimeWarning)\n",
        "/Library/Python/2.7/site-packages/scipy-0.13.0.dev_c31f167_20130514-py2.7-macosx-10.8-intel.egg/scipy/optimize/zeros.py:149: RuntimeWarning: Tolerance of -5.50492057053e+14 reached\n",
        "  warnings.warn(msg, RuntimeWarning)\n"
       ]
      },
      {
       "output_type": "stream",
       "stream": "stdout",
       "text": [
        "\n",
        "deleting item T1map_LL"
       ]
      },
      {
       "output_type": "stream",
       "stream": "stdout",
       "text": [
        "\n",
        "deleting item T1map_LL_fitdict"
       ]
      },
      {
       "output_type": "stream",
       "stream": "stderr",
       "text": [
        "WARNING:sarpy.io.BRUKERIO:NSLICES not equal to number of ACQ_obj_order\n"
       ]
      },
      {
       "output_type": "stream",
       "stream": "stderr",
       "text": [
        "/Library/Python/2.7/site-packages/scipy-0.13.0.dev_c31f167_20130514-py2.7-macosx-10.8-intel.egg/scipy/optimize/zeros.py:149: RuntimeWarning: Tolerance of -6.11330321946e+16 reached\n",
        "  warnings.warn(msg, RuntimeWarning)\n",
        "/Library/Python/2.7/site-packages/scipy-0.13.0.dev_c31f167_20130514-py2.7-macosx-10.8-intel.egg/scipy/optimize/zeros.py:149: RuntimeWarning: Tolerance of -6.97340811996e+15 reached\n",
        "  warnings.warn(msg, RuntimeWarning)\n"
       ]
      },
      {
       "output_type": "stream",
       "stream": "stderr",
       "text": [
        "/Library/Python/2.7/site-packages/scipy-0.13.0.dev_c31f167_20130514-py2.7-macosx-10.8-intel.egg/scipy/optimize/zeros.py:149: RuntimeWarning: Tolerance of 3.31768122664e+14 reached\n",
        "  warnings.warn(msg, RuntimeWarning)\n",
        "/Library/Python/2.7/site-packages/scipy-0.13.0.dev_c31f167_20130514-py2.7-macosx-10.8-intel.egg/scipy/optimize/zeros.py:149: RuntimeWarning: Tolerance of -1.68698208367e+16 reached\n",
        "  warnings.warn(msg, RuntimeWarning)\n"
       ]
      },
      {
       "output_type": "stream",
       "stream": "stderr",
       "text": [
        "/Library/Python/2.7/site-packages/scipy-0.13.0.dev_c31f167_20130514-py2.7-macosx-10.8-intel.egg/scipy/optimize/zeros.py:149: RuntimeWarning: Tolerance of 1.89394452955e+16 reached\n",
        "  warnings.warn(msg, RuntimeWarning)\n",
        "/Library/Python/2.7/site-packages/scipy-0.13.0.dev_c31f167_20130514-py2.7-macosx-10.8-intel.egg/scipy/optimize/zeros.py:149: RuntimeWarning: Tolerance of -5.40328110029e+15 reached\n",
        "  warnings.warn(msg, RuntimeWarning)\n"
       ]
      },
      {
       "output_type": "stream",
       "stream": "stderr",
       "text": [
        "/Library/Python/2.7/site-packages/scipy-0.13.0.dev_c31f167_20130514-py2.7-macosx-10.8-intel.egg/scipy/optimize/zeros.py:149: RuntimeWarning: Tolerance of 5.83070462219e+14 reached\n",
        "  warnings.warn(msg, RuntimeWarning)\n",
        "/Library/Python/2.7/site-packages/scipy-0.13.0.dev_c31f167_20130514-py2.7-macosx-10.8-intel.egg/scipy/optimize/zeros.py:149: RuntimeWarning: Tolerance of -1.11181348159e+15 reached\n",
        "  warnings.warn(msg, RuntimeWarning)\n"
       ]
      },
      {
       "output_type": "stream",
       "stream": "stderr",
       "text": [
        "/Library/Python/2.7/site-packages/scipy-0.13.0.dev_c31f167_20130514-py2.7-macosx-10.8-intel.egg/scipy/optimize/zeros.py:149: RuntimeWarning: Tolerance of -5.15640462885e+14 reached\n",
        "  warnings.warn(msg, RuntimeWarning)\n",
        "/Library/Python/2.7/site-packages/scipy-0.13.0.dev_c31f167_20130514-py2.7-macosx-10.8-intel.egg/scipy/optimize/zeros.py:149: RuntimeWarning: Tolerance of 2.17019131629e+15 reached\n",
        "  warnings.warn(msg, RuntimeWarning)\n"
       ]
      },
      {
       "output_type": "stream",
       "stream": "stderr",
       "text": [
        "/Library/Python/2.7/site-packages/scipy-0.13.0.dev_c31f167_20130514-py2.7-macosx-10.8-intel.egg/scipy/optimize/zeros.py:149: RuntimeWarning: Tolerance of 2.30593152056e+15 reached\n",
        "  warnings.warn(msg, RuntimeWarning)\n",
        "/Library/Python/2.7/site-packages/scipy-0.13.0.dev_c31f167_20130514-py2.7-macosx-10.8-intel.egg/scipy/optimize/zeros.py:149: RuntimeWarning: Tolerance of -5.23794252515e+15 reached\n",
        "  warnings.warn(msg, RuntimeWarning)\n"
       ]
      },
      {
       "output_type": "stream",
       "stream": "stderr",
       "text": [
        "/Library/Python/2.7/site-packages/scipy-0.13.0.dev_c31f167_20130514-py2.7-macosx-10.8-intel.egg/scipy/optimize/zeros.py:149: RuntimeWarning: Tolerance of 3.46640095584e+15 reached\n",
        "  warnings.warn(msg, RuntimeWarning)\n",
        "/Library/Python/2.7/site-packages/scipy-0.13.0.dev_c31f167_20130514-py2.7-macosx-10.8-intel.egg/scipy/optimize/zeros.py:149: RuntimeWarning: Tolerance of -1.4582692328e+16 reached\n",
        "  warnings.warn(msg, RuntimeWarning)\n"
       ]
      },
      {
       "output_type": "stream",
       "stream": "stderr",
       "text": [
        "/Library/Python/2.7/site-packages/scipy-0.13.0.dev_c31f167_20130514-py2.7-macosx-10.8-intel.egg/scipy/optimize/zeros.py:149: RuntimeWarning: Tolerance of -2.74856494665e+12 reached\n",
        "  warnings.warn(msg, RuntimeWarning)\n",
        "/Library/Python/2.7/site-packages/scipy-0.13.0.dev_c31f167_20130514-py2.7-macosx-10.8-intel.egg/scipy/optimize/zeros.py:149: RuntimeWarning: Tolerance of 5.58234358276e+14 reached\n",
        "  warnings.warn(msg, RuntimeWarning)\n"
       ]
      },
      {
       "output_type": "stream",
       "stream": "stderr",
       "text": [
        "/Library/Python/2.7/site-packages/scipy-0.13.0.dev_c31f167_20130514-py2.7-macosx-10.8-intel.egg/scipy/optimize/zeros.py:149: RuntimeWarning: Tolerance of 2.70124841848e+16 reached\n",
        "  warnings.warn(msg, RuntimeWarning)\n",
        "/Library/Python/2.7/site-packages/scipy-0.13.0.dev_c31f167_20130514-py2.7-macosx-10.8-intel.egg/scipy/optimize/zeros.py:149: RuntimeWarning: Tolerance of 3.44125369239e+16 reached\n",
        "  warnings.warn(msg, RuntimeWarning)\n"
       ]
      },
      {
       "output_type": "stream",
       "stream": "stderr",
       "text": [
        "/Library/Python/2.7/site-packages/scipy-0.13.0.dev_c31f167_20130514-py2.7-macosx-10.8-intel.egg/scipy/optimize/zeros.py:149: RuntimeWarning: Tolerance of -8.54774929819e+13 reached\n",
        "  warnings.warn(msg, RuntimeWarning)\n",
        "/Library/Python/2.7/site-packages/scipy-0.13.0.dev_c31f167_20130514-py2.7-macosx-10.8-intel.egg/scipy/optimize/zeros.py:149: RuntimeWarning: Tolerance of -9.65991853695e+15 reached\n",
        "  warnings.warn(msg, RuntimeWarning)\n"
       ]
      },
      {
       "output_type": "stream",
       "stream": "stderr",
       "text": [
        "/Library/Python/2.7/site-packages/scipy-0.13.0.dev_c31f167_20130514-py2.7-macosx-10.8-intel.egg/scipy/optimize/zeros.py:149: RuntimeWarning: Tolerance of 2.7188715238e+16 reached\n",
        "  warnings.warn(msg, RuntimeWarning)\n",
        "/Library/Python/2.7/site-packages/scipy-0.13.0.dev_c31f167_20130514-py2.7-macosx-10.8-intel.egg/scipy/optimize/zeros.py:149: RuntimeWarning: Tolerance of 1.84175040788e+18 reached\n",
        "  warnings.warn(msg, RuntimeWarning)\n"
       ]
      },
      {
       "output_type": "stream",
       "stream": "stderr",
       "text": [
        "/Library/Python/2.7/site-packages/scipy-0.13.0.dev_c31f167_20130514-py2.7-macosx-10.8-intel.egg/scipy/optimize/zeros.py:149: RuntimeWarning: Tolerance of 5.69214716955e+16 reached\n",
        "  warnings.warn(msg, RuntimeWarning)\n",
        "/Library/Python/2.7/site-packages/scipy-0.13.0.dev_c31f167_20130514-py2.7-macosx-10.8-intel.egg/scipy/optimize/zeros.py:149: RuntimeWarning: Tolerance of -1.12297198583e+15 reached\n",
        "  warnings.warn(msg, RuntimeWarning)\n",
        "/Library/Python/2.7/site-packages/scipy-0.13.0.dev_c31f167_20130514-py2.7-macosx-10.8-intel.egg/scipy/optimize/zeros.py:149: RuntimeWarning: Tolerance of -3.03747160439e+14 reached\n",
        "  warnings.warn(msg, RuntimeWarning)\n"
       ]
      },
      {
       "output_type": "stream",
       "stream": "stderr",
       "text": [
        "/Library/Python/2.7/site-packages/scipy-0.13.0.dev_c31f167_20130514-py2.7-macosx-10.8-intel.egg/scipy/optimize/zeros.py:149: RuntimeWarning: Tolerance of 1.5614223213e+14 reached\n",
        "  warnings.warn(msg, RuntimeWarning)\n",
        "/Library/Python/2.7/site-packages/scipy-0.13.0.dev_c31f167_20130514-py2.7-macosx-10.8-intel.egg/scipy/optimize/zeros.py:149: RuntimeWarning: Tolerance of -1.08136499891e+16 reached\n",
        "  warnings.warn(msg, RuntimeWarning)\n"
       ]
      },
      {
       "output_type": "stream",
       "stream": "stderr",
       "text": [
        "/Library/Python/2.7/site-packages/scipy-0.13.0.dev_c31f167_20130514-py2.7-macosx-10.8-intel.egg/scipy/optimize/zeros.py:149: RuntimeWarning: Tolerance of 2.31962987493e+15 reached\n",
        "  warnings.warn(msg, RuntimeWarning)\n",
        "/Library/Python/2.7/site-packages/scipy-0.13.0.dev_c31f167_20130514-py2.7-macosx-10.8-intel.egg/scipy/optimize/zeros.py:149: RuntimeWarning: Tolerance of 8.13248081174e+15 reached\n",
        "  warnings.warn(msg, RuntimeWarning)\n"
       ]
      },
      {
       "output_type": "stream",
       "stream": "stderr",
       "text": [
        "/Library/Python/2.7/site-packages/scipy-0.13.0.dev_c31f167_20130514-py2.7-macosx-10.8-intel.egg/scipy/optimize/zeros.py:149: RuntimeWarning: Tolerance of -2.05820777187e+16 reached\n",
        "  warnings.warn(msg, RuntimeWarning)\n",
        "/Library/Python/2.7/site-packages/scipy-0.13.0.dev_c31f167_20130514-py2.7-macosx-10.8-intel.egg/scipy/optimize/zeros.py:149: RuntimeWarning: Tolerance of -7.86616182704e+16 reached\n",
        "  warnings.warn(msg, RuntimeWarning)\n"
       ]
      },
      {
       "output_type": "stream",
       "stream": "stderr",
       "text": [
        "/Library/Python/2.7/site-packages/scipy-0.13.0.dev_c31f167_20130514-py2.7-macosx-10.8-intel.egg/scipy/optimize/zeros.py:149: RuntimeWarning: Tolerance of 2.49643211709e+16 reached\n",
        "  warnings.warn(msg, RuntimeWarning)\n",
        "/Library/Python/2.7/site-packages/scipy-0.13.0.dev_c31f167_20130514-py2.7-macosx-10.8-intel.egg/scipy/optimize/zeros.py:149: RuntimeWarning: Tolerance of -8.41693558478e+14 reached\n",
        "  warnings.warn(msg, RuntimeWarning)\n"
       ]
      },
      {
       "output_type": "stream",
       "stream": "stderr",
       "text": [
        "/Library/Python/2.7/site-packages/scipy-0.13.0.dev_c31f167_20130514-py2.7-macosx-10.8-intel.egg/scipy/optimize/zeros.py:149: RuntimeWarning: Tolerance of -2.16114576739e+16 reached\n",
        "  warnings.warn(msg, RuntimeWarning)\n",
        "/Library/Python/2.7/site-packages/scipy-0.13.0.dev_c31f167_20130514-py2.7-macosx-10.8-intel.egg/scipy/optimize/zeros.py:149: RuntimeWarning: Tolerance of -2.99235783413e+15 reached\n",
        "  warnings.warn(msg, RuntimeWarning)\n"
       ]
      },
      {
       "output_type": "stream",
       "stream": "stderr",
       "text": [
        "/Library/Python/2.7/site-packages/scipy-0.13.0.dev_c31f167_20130514-py2.7-macosx-10.8-intel.egg/scipy/optimize/zeros.py:149: RuntimeWarning: Tolerance of -2.02957437069e+14 reached\n",
        "  warnings.warn(msg, RuntimeWarning)\n",
        "/Library/Python/2.7/site-packages/scipy-0.13.0.dev_c31f167_20130514-py2.7-macosx-10.8-intel.egg/scipy/optimize/zeros.py:149: RuntimeWarning: Tolerance of 2.42827269018e+15 reached\n",
        "  warnings.warn(msg, RuntimeWarning)\n"
       ]
      },
      {
       "output_type": "stream",
       "stream": "stderr",
       "text": [
        "/Library/Python/2.7/site-packages/scipy-0.13.0.dev_c31f167_20130514-py2.7-macosx-10.8-intel.egg/scipy/optimize/zeros.py:149: RuntimeWarning: Tolerance of 2.58733607481e+16 reached\n",
        "  warnings.warn(msg, RuntimeWarning)\n",
        "/Library/Python/2.7/site-packages/scipy-0.13.0.dev_c31f167_20130514-py2.7-macosx-10.8-intel.egg/scipy/optimize/zeros.py:149: RuntimeWarning: Tolerance of 1.65826335018e+15 reached\n",
        "  warnings.warn(msg, RuntimeWarning)\n"
       ]
      },
      {
       "output_type": "stream",
       "stream": "stderr",
       "text": [
        "/Library/Python/2.7/site-packages/scipy-0.13.0.dev_c31f167_20130514-py2.7-macosx-10.8-intel.egg/scipy/optimize/zeros.py:149: RuntimeWarning: Tolerance of -6.2758938218e+14 reached\n",
        "  warnings.warn(msg, RuntimeWarning)\n",
        "/Library/Python/2.7/site-packages/scipy-0.13.0.dev_c31f167_20130514-py2.7-macosx-10.8-intel.egg/scipy/optimize/zeros.py:149: RuntimeWarning: Tolerance of 1.35682748383e+14 reached\n",
        "  warnings.warn(msg, RuntimeWarning)\n"
       ]
      },
      {
       "output_type": "stream",
       "stream": "stderr",
       "text": [
        "/Library/Python/2.7/site-packages/scipy-0.13.0.dev_c31f167_20130514-py2.7-macosx-10.8-intel.egg/scipy/optimize/zeros.py:149: RuntimeWarning: Tolerance of 2.93251346709e+16 reached\n",
        "  warnings.warn(msg, RuntimeWarning)\n",
        "/Library/Python/2.7/site-packages/scipy-0.13.0.dev_c31f167_20130514-py2.7-macosx-10.8-intel.egg/scipy/optimize/zeros.py:149: RuntimeWarning: Tolerance of -2.70107769939e+15 reached\n",
        "  warnings.warn(msg, RuntimeWarning)\n"
       ]
      },
      {
       "output_type": "stream",
       "stream": "stderr",
       "text": [
        "/Library/Python/2.7/site-packages/scipy-0.13.0.dev_c31f167_20130514-py2.7-macosx-10.8-intel.egg/scipy/optimize/zeros.py:149: RuntimeWarning: Tolerance of 3.67368668367e+16 reached\n",
        "  warnings.warn(msg, RuntimeWarning)\n",
        "/Library/Python/2.7/site-packages/scipy-0.13.0.dev_c31f167_20130514-py2.7-macosx-10.8-intel.egg/scipy/optimize/zeros.py:149: RuntimeWarning: Tolerance of 1.49234157233e+17 reached\n",
        "  warnings.warn(msg, RuntimeWarning)\n"
       ]
      },
      {
       "output_type": "stream",
       "stream": "stderr",
       "text": [
        "/Library/Python/2.7/site-packages/scipy-0.13.0.dev_c31f167_20130514-py2.7-macosx-10.8-intel.egg/scipy/optimize/zeros.py:149: RuntimeWarning: Tolerance of 3.65077820911e+16 reached\n",
        "  warnings.warn(msg, RuntimeWarning)\n",
        "/Library/Python/2.7/site-packages/scipy-0.13.0.dev_c31f167_20130514-py2.7-macosx-10.8-intel.egg/scipy/optimize/zeros.py:149: RuntimeWarning: Tolerance of -9.5040665158e+15 reached\n",
        "  warnings.warn(msg, RuntimeWarning)\n"
       ]
      },
      {
       "output_type": "stream",
       "stream": "stderr",
       "text": [
        "/Library/Python/2.7/site-packages/scipy-0.13.0.dev_c31f167_20130514-py2.7-macosx-10.8-intel.egg/scipy/optimize/zeros.py:149: RuntimeWarning: Tolerance of 1.59290268262e+16 reached\n",
        "  warnings.warn(msg, RuntimeWarning)\n",
        "/Library/Python/2.7/site-packages/scipy-0.13.0.dev_c31f167_20130514-py2.7-macosx-10.8-intel.egg/scipy/optimize/zeros.py:149: RuntimeWarning: Tolerance of 2.98863273407e+16 reached\n",
        "  warnings.warn(msg, RuntimeWarning)\n"
       ]
      },
      {
       "output_type": "stream",
       "stream": "stderr",
       "text": [
        "/Library/Python/2.7/site-packages/scipy-0.13.0.dev_c31f167_20130514-py2.7-macosx-10.8-intel.egg/scipy/optimize/zeros.py:149: RuntimeWarning: Tolerance of -1.50618840793e+16 reached\n",
        "  warnings.warn(msg, RuntimeWarning)\n",
        "/Library/Python/2.7/site-packages/scipy-0.13.0.dev_c31f167_20130514-py2.7-macosx-10.8-intel.egg/scipy/optimize/zeros.py:149: RuntimeWarning: Tolerance of 1.61067535607e+15 reached\n",
        "  warnings.warn(msg, RuntimeWarning)\n"
       ]
      },
      {
       "output_type": "stream",
       "stream": "stderr",
       "text": [
        "/Library/Python/2.7/site-packages/scipy-0.13.0.dev_c31f167_20130514-py2.7-macosx-10.8-intel.egg/scipy/optimize/zeros.py:149: RuntimeWarning: Tolerance of -4.29522930421e+15 reached\n",
        "  warnings.warn(msg, RuntimeWarning)\n",
        "/Library/Python/2.7/site-packages/scipy-0.13.0.dev_c31f167_20130514-py2.7-macosx-10.8-intel.egg/scipy/optimize/zeros.py:149: RuntimeWarning: Tolerance of -7.90456867671e+14 reached\n",
        "  warnings.warn(msg, RuntimeWarning)\n"
       ]
      },
      {
       "output_type": "stream",
       "stream": "stderr",
       "text": [
        "/Library/Python/2.7/site-packages/scipy-0.13.0.dev_c31f167_20130514-py2.7-macosx-10.8-intel.egg/scipy/optimize/zeros.py:149: RuntimeWarning: Tolerance of 9.9945790225e+16 reached\n",
        "  warnings.warn(msg, RuntimeWarning)\n",
        "/Library/Python/2.7/site-packages/scipy-0.13.0.dev_c31f167_20130514-py2.7-macosx-10.8-intel.egg/scipy/optimize/zeros.py:149: RuntimeWarning: Tolerance of -7.93308050711e+14 reached\n",
        "  warnings.warn(msg, RuntimeWarning)\n"
       ]
      },
      {
       "output_type": "stream",
       "stream": "stderr",
       "text": [
        "/Library/Python/2.7/site-packages/scipy-0.13.0.dev_c31f167_20130514-py2.7-macosx-10.8-intel.egg/scipy/optimize/zeros.py:149: RuntimeWarning: Tolerance of 1.42990529143e+13 reached\n",
        "  warnings.warn(msg, RuntimeWarning)\n",
        "/Library/Python/2.7/site-packages/scipy-0.13.0.dev_c31f167_20130514-py2.7-macosx-10.8-intel.egg/scipy/optimize/zeros.py:149: RuntimeWarning: Tolerance of -6.90022921812e+16 reached\n",
        "  warnings.warn(msg, RuntimeWarning)\n"
       ]
      },
      {
       "output_type": "stream",
       "stream": "stderr",
       "text": [
        "/Library/Python/2.7/site-packages/scipy-0.13.0.dev_c31f167_20130514-py2.7-macosx-10.8-intel.egg/scipy/optimize/zeros.py:149: RuntimeWarning: Tolerance of -3.28228863303e+15 reached\n",
        "  warnings.warn(msg, RuntimeWarning)\n",
        "/Library/Python/2.7/site-packages/scipy-0.13.0.dev_c31f167_20130514-py2.7-macosx-10.8-intel.egg/scipy/optimize/zeros.py:149: RuntimeWarning: Tolerance of 1.82748925763e+18 reached\n",
        "  warnings.warn(msg, RuntimeWarning)\n"
       ]
      },
      {
       "output_type": "stream",
       "stream": "stderr",
       "text": [
        "/Library/Python/2.7/site-packages/scipy-0.13.0.dev_c31f167_20130514-py2.7-macosx-10.8-intel.egg/scipy/optimize/zeros.py:149: RuntimeWarning: Tolerance of 8.9505106702e+14 reached\n",
        "  warnings.warn(msg, RuntimeWarning)\n",
        "/Library/Python/2.7/site-packages/scipy-0.13.0.dev_c31f167_20130514-py2.7-macosx-10.8-intel.egg/scipy/optimize/zeros.py:149: RuntimeWarning: Tolerance of 3.63936256909e+14 reached\n",
        "  warnings.warn(msg, RuntimeWarning)\n"
       ]
      },
      {
       "output_type": "stream",
       "stream": "stderr",
       "text": [
        "/Library/Python/2.7/site-packages/scipy-0.13.0.dev_c31f167_20130514-py2.7-macosx-10.8-intel.egg/scipy/optimize/zeros.py:149: RuntimeWarning: Tolerance of -1.04101535209e+14 reached\n",
        "  warnings.warn(msg, RuntimeWarning)\n",
        "/Library/Python/2.7/site-packages/scipy-0.13.0.dev_c31f167_20130514-py2.7-macosx-10.8-intel.egg/scipy/optimize/zeros.py:149: RuntimeWarning: Tolerance of 1.03210326402e+16 reached\n",
        "  warnings.warn(msg, RuntimeWarning)\n"
       ]
      },
      {
       "output_type": "stream",
       "stream": "stderr",
       "text": [
        "/Library/Python/2.7/site-packages/scipy-0.13.0.dev_c31f167_20130514-py2.7-macosx-10.8-intel.egg/scipy/optimize/zeros.py:149: RuntimeWarning: Tolerance of 9.58200951521e+15 reached\n",
        "  warnings.warn(msg, RuntimeWarning)\n",
        "/Library/Python/2.7/site-packages/scipy-0.13.0.dev_c31f167_20130514-py2.7-macosx-10.8-intel.egg/scipy/optimize/zeros.py:149: RuntimeWarning: Tolerance of 5.35578912238e+14 reached\n",
        "  warnings.warn(msg, RuntimeWarning)\n"
       ]
      },
      {
       "output_type": "stream",
       "stream": "stderr",
       "text": [
        "/Library/Python/2.7/site-packages/scipy-0.13.0.dev_c31f167_20130514-py2.7-macosx-10.8-intel.egg/scipy/optimize/zeros.py:149: RuntimeWarning: Tolerance of 4.69419262666e+13 reached\n",
        "  warnings.warn(msg, RuntimeWarning)\n",
        "/Library/Python/2.7/site-packages/scipy-0.13.0.dev_c31f167_20130514-py2.7-macosx-10.8-intel.egg/scipy/optimize/zeros.py:149: RuntimeWarning: Tolerance of 9.93718505897e+15 reached\n",
        "  warnings.warn(msg, RuntimeWarning)\n"
       ]
      },
      {
       "output_type": "stream",
       "stream": "stderr",
       "text": [
        "/Library/Python/2.7/site-packages/scipy-0.13.0.dev_c31f167_20130514-py2.7-macosx-10.8-intel.egg/scipy/optimize/zeros.py:149: RuntimeWarning: Tolerance of 3.3396385544e+15 reached\n",
        "  warnings.warn(msg, RuntimeWarning)\n",
        "/Library/Python/2.7/site-packages/scipy-0.13.0.dev_c31f167_20130514-py2.7-macosx-10.8-intel.egg/scipy/optimize/zeros.py:149: RuntimeWarning: Tolerance of -1.85119114348e+15 reached\n",
        "  warnings.warn(msg, RuntimeWarning)\n"
       ]
      },
      {
       "output_type": "stream",
       "stream": "stderr",
       "text": [
        "/Library/Python/2.7/site-packages/scipy-0.13.0.dev_c31f167_20130514-py2.7-macosx-10.8-intel.egg/scipy/optimize/zeros.py:149: RuntimeWarning: Tolerance of 9.92928832168e+15 reached\n",
        "  warnings.warn(msg, RuntimeWarning)\n",
        "/Library/Python/2.7/site-packages/scipy-0.13.0.dev_c31f167_20130514-py2.7-macosx-10.8-intel.egg/scipy/optimize/zeros.py:149: RuntimeWarning: Tolerance of -4.2059725917e+16 reached\n",
        "  warnings.warn(msg, RuntimeWarning)\n"
       ]
      },
      {
       "output_type": "stream",
       "stream": "stderr",
       "text": [
        "/Library/Python/2.7/site-packages/scipy-0.13.0.dev_c31f167_20130514-py2.7-macosx-10.8-intel.egg/scipy/optimize/zeros.py:149: RuntimeWarning: Tolerance of 9.89537227661e+15 reached\n",
        "  warnings.warn(msg, RuntimeWarning)\n",
        "/Library/Python/2.7/site-packages/scipy-0.13.0.dev_c31f167_20130514-py2.7-macosx-10.8-intel.egg/scipy/optimize/zeros.py:149: RuntimeWarning: Tolerance of -9.03555315498e+14 reached\n",
        "  warnings.warn(msg, RuntimeWarning)\n"
       ]
      },
      {
       "output_type": "stream",
       "stream": "stderr",
       "text": [
        "/Library/Python/2.7/site-packages/scipy-0.13.0.dev_c31f167_20130514-py2.7-macosx-10.8-intel.egg/scipy/optimize/zeros.py:149: RuntimeWarning: Tolerance of -2.87134025968e+15 reached\n",
        "  warnings.warn(msg, RuntimeWarning)\n",
        "/Library/Python/2.7/site-packages/scipy-0.13.0.dev_c31f167_20130514-py2.7-macosx-10.8-intel.egg/scipy/optimize/zeros.py:149: RuntimeWarning: Tolerance of -2.85910177633e+15 reached\n",
        "  warnings.warn(msg, RuntimeWarning)\n"
       ]
      },
      {
       "output_type": "stream",
       "stream": "stderr",
       "text": [
        "/Library/Python/2.7/site-packages/scipy-0.13.0.dev_c31f167_20130514-py2.7-macosx-10.8-intel.egg/scipy/optimize/zeros.py:149: RuntimeWarning: Tolerance of -2.08166049954e+14 reached\n",
        "  warnings.warn(msg, RuntimeWarning)\n",
        "/Library/Python/2.7/site-packages/scipy-0.13.0.dev_c31f167_20130514-py2.7-macosx-10.8-intel.egg/scipy/optimize/zeros.py:149: RuntimeWarning: Tolerance of -1.56052198281e+15 reached\n",
        "  warnings.warn(msg, RuntimeWarning)\n"
       ]
      },
      {
       "output_type": "stream",
       "stream": "stderr",
       "text": [
        "/Library/Python/2.7/site-packages/scipy-0.13.0.dev_c31f167_20130514-py2.7-macosx-10.8-intel.egg/scipy/optimize/zeros.py:149: RuntimeWarning: Tolerance of -4.90489007407e+14 reached\n",
        "  warnings.warn(msg, RuntimeWarning)\n",
        "/Library/Python/2.7/site-packages/scipy-0.13.0.dev_c31f167_20130514-py2.7-macosx-10.8-intel.egg/scipy/optimize/zeros.py:149: RuntimeWarning: Tolerance of -4.87953991281e+15 reached\n",
        "  warnings.warn(msg, RuntimeWarning)\n",
        "/Library/Python/2.7/site-packages/scipy-0.13.0.dev_c31f167_20130514-py2.7-macosx-10.8-intel.egg/scipy/optimize/zeros.py:149: RuntimeWarning: Tolerance of 2.25655748434e+18 reached\n",
        "  warnings.warn(msg, RuntimeWarning)\n"
       ]
      },
      {
       "output_type": "stream",
       "stream": "stderr",
       "text": [
        "/Library/Python/2.7/site-packages/scipy-0.13.0.dev_c31f167_20130514-py2.7-macosx-10.8-intel.egg/scipy/optimize/zeros.py:149: RuntimeWarning: Tolerance of -7.39727289981e+15 reached\n",
        "  warnings.warn(msg, RuntimeWarning)\n",
        "/Library/Python/2.7/site-packages/scipy-0.13.0.dev_c31f167_20130514-py2.7-macosx-10.8-intel.egg/scipy/optimize/zeros.py:149: RuntimeWarning: Tolerance of 1.07230864909e+15 reached\n",
        "  warnings.warn(msg, RuntimeWarning)\n"
       ]
      },
      {
       "output_type": "stream",
       "stream": "stderr",
       "text": [
        "/Library/Python/2.7/site-packages/scipy-0.13.0.dev_c31f167_20130514-py2.7-macosx-10.8-intel.egg/scipy/optimize/zeros.py:149: RuntimeWarning: Tolerance of -3.99997913195e+14 reached\n",
        "  warnings.warn(msg, RuntimeWarning)\n",
        "/Library/Python/2.7/site-packages/scipy-0.13.0.dev_c31f167_20130514-py2.7-macosx-10.8-intel.egg/scipy/optimize/zeros.py:149: RuntimeWarning: Tolerance of 3.05020373965e+15 reached\n",
        "  warnings.warn(msg, RuntimeWarning)\n"
       ]
      },
      {
       "output_type": "stream",
       "stream": "stderr",
       "text": [
        "/Library/Python/2.7/site-packages/scipy-0.13.0.dev_c31f167_20130514-py2.7-macosx-10.8-intel.egg/scipy/optimize/zeros.py:149: RuntimeWarning: Tolerance of 1.09465994469e+15 reached\n",
        "  warnings.warn(msg, RuntimeWarning)\n",
        "/Library/Python/2.7/site-packages/scipy-0.13.0.dev_c31f167_20130514-py2.7-macosx-10.8-intel.egg/scipy/optimize/zeros.py:149: RuntimeWarning: Tolerance of 2.11119881651e+15 reached\n",
        "  warnings.warn(msg, RuntimeWarning)\n"
       ]
      },
      {
       "output_type": "stream",
       "stream": "stderr",
       "text": [
        "/Library/Python/2.7/site-packages/scipy-0.13.0.dev_c31f167_20130514-py2.7-macosx-10.8-intel.egg/scipy/optimize/zeros.py:149: RuntimeWarning: Tolerance of 2.16668762537e+16 reached\n",
        "  warnings.warn(msg, RuntimeWarning)\n",
        "/Library/Python/2.7/site-packages/scipy-0.13.0.dev_c31f167_20130514-py2.7-macosx-10.8-intel.egg/scipy/optimize/zeros.py:149: RuntimeWarning: Tolerance of -5.63135447645e+15 reached\n",
        "  warnings.warn(msg, RuntimeWarning)\n"
       ]
      },
      {
       "output_type": "stream",
       "stream": "stderr",
       "text": [
        "/Library/Python/2.7/site-packages/scipy-0.13.0.dev_c31f167_20130514-py2.7-macosx-10.8-intel.egg/scipy/optimize/zeros.py:149: RuntimeWarning: Tolerance of 2.28831006496e+16 reached\n",
        "  warnings.warn(msg, RuntimeWarning)\n",
        "/Library/Python/2.7/site-packages/scipy-0.13.0.dev_c31f167_20130514-py2.7-macosx-10.8-intel.egg/scipy/optimize/zeros.py:149: RuntimeWarning: Tolerance of 1.75534637347e+16 reached\n",
        "  warnings.warn(msg, RuntimeWarning)\n"
       ]
      },
      {
       "output_type": "stream",
       "stream": "stderr",
       "text": [
        "/Library/Python/2.7/site-packages/scipy-0.13.0.dev_c31f167_20130514-py2.7-macosx-10.8-intel.egg/scipy/optimize/zeros.py:149: RuntimeWarning: Tolerance of -7.03158279413e+15 reached\n",
        "  warnings.warn(msg, RuntimeWarning)\n",
        "/Library/Python/2.7/site-packages/scipy-0.13.0.dev_c31f167_20130514-py2.7-macosx-10.8-intel.egg/scipy/optimize/zeros.py:149: RuntimeWarning: Tolerance of 7.59397855236e+16 reached\n",
        "  warnings.warn(msg, RuntimeWarning)\n"
       ]
      },
      {
       "output_type": "stream",
       "stream": "stderr",
       "text": [
        "/Library/Python/2.7/site-packages/scipy-0.13.0.dev_c31f167_20130514-py2.7-macosx-10.8-intel.egg/scipy/optimize/zeros.py:149: RuntimeWarning: Tolerance of -98056265265.0 reached\n",
        "  warnings.warn(msg, RuntimeWarning)\n",
        "/Library/Python/2.7/site-packages/scipy-0.13.0.dev_c31f167_20130514-py2.7-macosx-10.8-intel.egg/scipy/optimize/zeros.py:149: RuntimeWarning: Tolerance of -532246464580.0 reached\n",
        "  warnings.warn(msg, RuntimeWarning)\n"
       ]
      },
      {
       "output_type": "stream",
       "stream": "stderr",
       "text": [
        "/Library/Python/2.7/site-packages/scipy-0.13.0.dev_c31f167_20130514-py2.7-macosx-10.8-intel.egg/scipy/optimize/zeros.py:149: RuntimeWarning: Tolerance of -3.20683666026e+16 reached\n",
        "  warnings.warn(msg, RuntimeWarning)\n",
        "/Library/Python/2.7/site-packages/scipy-0.13.0.dev_c31f167_20130514-py2.7-macosx-10.8-intel.egg/scipy/optimize/zeros.py:149: RuntimeWarning: Tolerance of 3.39556829064e+16 reached\n",
        "  warnings.warn(msg, RuntimeWarning)\n"
       ]
      },
      {
       "output_type": "stream",
       "stream": "stderr",
       "text": [
        "/Library/Python/2.7/site-packages/scipy-0.13.0.dev_c31f167_20130514-py2.7-macosx-10.8-intel.egg/scipy/optimize/zeros.py:149: RuntimeWarning: Tolerance of 1.78498624056e+16 reached\n",
        "  warnings.warn(msg, RuntimeWarning)\n",
        "/Library/Python/2.7/site-packages/scipy-0.13.0.dev_c31f167_20130514-py2.7-macosx-10.8-intel.egg/scipy/optimize/zeros.py:149: RuntimeWarning: Tolerance of 1.14608695556e+13 reached\n",
        "  warnings.warn(msg, RuntimeWarning)\n"
       ]
      },
      {
       "output_type": "stream",
       "stream": "stderr",
       "text": [
        "/Library/Python/2.7/site-packages/scipy-0.13.0.dev_c31f167_20130514-py2.7-macosx-10.8-intel.egg/scipy/optimize/zeros.py:149: RuntimeWarning: Tolerance of -1.40505846803e+13 reached\n",
        "  warnings.warn(msg, RuntimeWarning)\n",
        "/Library/Python/2.7/site-packages/scipy-0.13.0.dev_c31f167_20130514-py2.7-macosx-10.8-intel.egg/scipy/optimize/zeros.py:149: RuntimeWarning: Tolerance of -1.40998131446e+15 reached\n",
        "  warnings.warn(msg, RuntimeWarning)\n"
       ]
      },
      {
       "output_type": "stream",
       "stream": "stderr",
       "text": [
        "/Library/Python/2.7/site-packages/scipy-0.13.0.dev_c31f167_20130514-py2.7-macosx-10.8-intel.egg/scipy/optimize/zeros.py:149: RuntimeWarning: Tolerance of -1.64159958594e+15 reached\n",
        "  warnings.warn(msg, RuntimeWarning)\n",
        "/Library/Python/2.7/site-packages/scipy-0.13.0.dev_c31f167_20130514-py2.7-macosx-10.8-intel.egg/scipy/optimize/zeros.py:149: RuntimeWarning: Tolerance of 7.77913779293e+15 reached\n",
        "  warnings.warn(msg, RuntimeWarning)\n"
       ]
      },
      {
       "output_type": "stream",
       "stream": "stderr",
       "text": [
        "/Library/Python/2.7/site-packages/scipy-0.13.0.dev_c31f167_20130514-py2.7-macosx-10.8-intel.egg/scipy/optimize/zeros.py:149: RuntimeWarning: Tolerance of -9.13089592804e+14 reached\n",
        "  warnings.warn(msg, RuntimeWarning)\n",
        "/Library/Python/2.7/site-packages/scipy-0.13.0.dev_c31f167_20130514-py2.7-macosx-10.8-intel.egg/scipy/optimize/zeros.py:149: RuntimeWarning: Tolerance of -1.48257505837e+15 reached\n",
        "  warnings.warn(msg, RuntimeWarning)\n"
       ]
      },
      {
       "output_type": "stream",
       "stream": "stderr",
       "text": [
        "/Library/Python/2.7/site-packages/scipy-0.13.0.dev_c31f167_20130514-py2.7-macosx-10.8-intel.egg/scipy/optimize/zeros.py:149: RuntimeWarning: Tolerance of -2.52495030966e+15 reached\n",
        "  warnings.warn(msg, RuntimeWarning)\n",
        "/Library/Python/2.7/site-packages/scipy-0.13.0.dev_c31f167_20130514-py2.7-macosx-10.8-intel.egg/scipy/optimize/zeros.py:149: RuntimeWarning: Tolerance of -2.0386616581e+15 reached\n",
        "  warnings.warn(msg, RuntimeWarning)\n"
       ]
      },
      {
       "output_type": "stream",
       "stream": "stderr",
       "text": [
        "/Library/Python/2.7/site-packages/scipy-0.13.0.dev_c31f167_20130514-py2.7-macosx-10.8-intel.egg/scipy/optimize/zeros.py:149: RuntimeWarning: Tolerance of 1.09892303465e+16 reached\n",
        "  warnings.warn(msg, RuntimeWarning)\n",
        "/Library/Python/2.7/site-packages/scipy-0.13.0.dev_c31f167_20130514-py2.7-macosx-10.8-intel.egg/scipy/optimize/zeros.py:149: RuntimeWarning: Tolerance of 5.70550645543e+15 reached\n",
        "  warnings.warn(msg, RuntimeWarning)\n"
       ]
      },
      {
       "output_type": "stream",
       "stream": "stderr",
       "text": [
        "/Library/Python/2.7/site-packages/scipy-0.13.0.dev_c31f167_20130514-py2.7-macosx-10.8-intel.egg/scipy/optimize/zeros.py:149: RuntimeWarning: Tolerance of -1.14378841863e+16 reached\n",
        "  warnings.warn(msg, RuntimeWarning)\n",
        "/Library/Python/2.7/site-packages/scipy-0.13.0.dev_c31f167_20130514-py2.7-macosx-10.8-intel.egg/scipy/optimize/zeros.py:149: RuntimeWarning: Tolerance of -4.30288434728e+16 reached\n",
        "  warnings.warn(msg, RuntimeWarning)\n"
       ]
      },
      {
       "output_type": "stream",
       "stream": "stderr",
       "text": [
        "/Library/Python/2.7/site-packages/scipy-0.13.0.dev_c31f167_20130514-py2.7-macosx-10.8-intel.egg/scipy/optimize/zeros.py:149: RuntimeWarning: Tolerance of -3.55131599094e+13 reached\n",
        "  warnings.warn(msg, RuntimeWarning)\n",
        "/Library/Python/2.7/site-packages/scipy-0.13.0.dev_c31f167_20130514-py2.7-macosx-10.8-intel.egg/scipy/optimize/zeros.py:149: RuntimeWarning: Tolerance of -1.36848243841e+13 reached\n",
        "  warnings.warn(msg, RuntimeWarning)\n"
       ]
      },
      {
       "output_type": "stream",
       "stream": "stderr",
       "text": [
        "/Library/Python/2.7/site-packages/scipy-0.13.0.dev_c31f167_20130514-py2.7-macosx-10.8-intel.egg/scipy/optimize/zeros.py:149: RuntimeWarning: Tolerance of 1.18876064795e+17 reached\n",
        "  warnings.warn(msg, RuntimeWarning)\n",
        "/Library/Python/2.7/site-packages/scipy-0.13.0.dev_c31f167_20130514-py2.7-macosx-10.8-intel.egg/scipy/optimize/zeros.py:149: RuntimeWarning: Tolerance of -1.6314478911e+15 reached\n",
        "  warnings.warn(msg, RuntimeWarning)\n"
       ]
      },
      {
       "output_type": "stream",
       "stream": "stderr",
       "text": [
        "/Library/Python/2.7/site-packages/scipy-0.13.0.dev_c31f167_20130514-py2.7-macosx-10.8-intel.egg/scipy/optimize/zeros.py:149: RuntimeWarning: Tolerance of 3.22824779923e+13 reached\n",
        "  warnings.warn(msg, RuntimeWarning)\n",
        "/Library/Python/2.7/site-packages/scipy-0.13.0.dev_c31f167_20130514-py2.7-macosx-10.8-intel.egg/scipy/optimize/zeros.py:149: RuntimeWarning: Tolerance of 1.22542557665e+15 reached\n",
        "  warnings.warn(msg, RuntimeWarning)\n"
       ]
      },
      {
       "output_type": "stream",
       "stream": "stdout",
       "text": [
        "\n",
        "deleting item T1map_LL"
       ]
      },
      {
       "output_type": "stream",
       "stream": "stdout",
       "text": [
        "\n",
        "deleting item T1map_LL_fitdict"
       ]
      },
      {
       "output_type": "stream",
       "stream": "stderr",
       "text": [
        "WARNING:sarpy.io.BRUKERIO:NSLICES not equal to number of ACQ_obj_order\n"
       ]
      },
      {
       "output_type": "stream",
       "stream": "stderr",
       "text": [
        "/Library/Python/2.7/site-packages/scipy-0.13.0.dev_c31f167_20130514-py2.7-macosx-10.8-intel.egg/scipy/optimize/zeros.py:149: RuntimeWarning: Tolerance of 1.55863229683e+16 reached\n",
        "  warnings.warn(msg, RuntimeWarning)\n",
        "/Library/Python/2.7/site-packages/scipy-0.13.0.dev_c31f167_20130514-py2.7-macosx-10.8-intel.egg/scipy/optimize/zeros.py:149: RuntimeWarning: Tolerance of 3.07733829386e+15 reached\n",
        "  warnings.warn(msg, RuntimeWarning)\n"
       ]
      },
      {
       "output_type": "stream",
       "stream": "stderr",
       "text": [
        "/Library/Python/2.7/site-packages/scipy-0.13.0.dev_c31f167_20130514-py2.7-macosx-10.8-intel.egg/scipy/optimize/zeros.py:149: RuntimeWarning: Tolerance of 3.3573387834e+15 reached\n",
        "  warnings.warn(msg, RuntimeWarning)\n",
        "/Library/Python/2.7/site-packages/scipy-0.13.0.dev_c31f167_20130514-py2.7-macosx-10.8-intel.egg/scipy/optimize/zeros.py:149: RuntimeWarning: Tolerance of 7.77177823511e+17 reached\n",
        "  warnings.warn(msg, RuntimeWarning)\n"
       ]
      },
      {
       "output_type": "stream",
       "stream": "stderr",
       "text": [
        "/Library/Python/2.7/site-packages/scipy-0.13.0.dev_c31f167_20130514-py2.7-macosx-10.8-intel.egg/scipy/optimize/zeros.py:149: RuntimeWarning: Tolerance of -2.57182537358e+16 reached\n",
        "  warnings.warn(msg, RuntimeWarning)\n",
        "/Library/Python/2.7/site-packages/scipy-0.13.0.dev_c31f167_20130514-py2.7-macosx-10.8-intel.egg/scipy/optimize/zeros.py:149: RuntimeWarning: Tolerance of 3.17431482172e+18 reached\n",
        "  warnings.warn(msg, RuntimeWarning)\n"
       ]
      },
      {
       "output_type": "stream",
       "stream": "stderr",
       "text": [
        "/Library/Python/2.7/site-packages/scipy-0.13.0.dev_c31f167_20130514-py2.7-macosx-10.8-intel.egg/scipy/optimize/zeros.py:149: RuntimeWarning: Tolerance of -3.9642399707e+15 reached\n",
        "  warnings.warn(msg, RuntimeWarning)\n",
        "/Library/Python/2.7/site-packages/scipy-0.13.0.dev_c31f167_20130514-py2.7-macosx-10.8-intel.egg/scipy/optimize/zeros.py:149: RuntimeWarning: Tolerance of 3.74570415242e+14 reached\n",
        "  warnings.warn(msg, RuntimeWarning)\n"
       ]
      },
      {
       "output_type": "stream",
       "stream": "stderr",
       "text": [
        "/Library/Python/2.7/site-packages/scipy-0.13.0.dev_c31f167_20130514-py2.7-macosx-10.8-intel.egg/scipy/optimize/zeros.py:149: RuntimeWarning: Tolerance of 8.14001838707e+15 reached\n",
        "  warnings.warn(msg, RuntimeWarning)\n",
        "/Library/Python/2.7/site-packages/scipy-0.13.0.dev_c31f167_20130514-py2.7-macosx-10.8-intel.egg/scipy/optimize/zeros.py:149: RuntimeWarning: Tolerance of 2.90059158954e+13 reached\n",
        "  warnings.warn(msg, RuntimeWarning)\n"
       ]
      },
      {
       "output_type": "stream",
       "stream": "stderr",
       "text": [
        "/Library/Python/2.7/site-packages/scipy-0.13.0.dev_c31f167_20130514-py2.7-macosx-10.8-intel.egg/scipy/optimize/zeros.py:149: RuntimeWarning: Tolerance of 1.58295237274e+17 reached\n",
        "  warnings.warn(msg, RuntimeWarning)\n",
        "/Library/Python/2.7/site-packages/scipy-0.13.0.dev_c31f167_20130514-py2.7-macosx-10.8-intel.egg/scipy/optimize/zeros.py:149: RuntimeWarning: Tolerance of 9.9034100511e+15 reached\n",
        "  warnings.warn(msg, RuntimeWarning)\n"
       ]
      },
      {
       "output_type": "stream",
       "stream": "stderr",
       "text": [
        "/Library/Python/2.7/site-packages/scipy-0.13.0.dev_c31f167_20130514-py2.7-macosx-10.8-intel.egg/scipy/optimize/zeros.py:149: RuntimeWarning: Tolerance of -4.4815818262e+16 reached\n",
        "  warnings.warn(msg, RuntimeWarning)\n",
        "/Library/Python/2.7/site-packages/scipy-0.13.0.dev_c31f167_20130514-py2.7-macosx-10.8-intel.egg/scipy/optimize/zeros.py:149: RuntimeWarning: Tolerance of 1.43212891514e+17 reached\n",
        "  warnings.warn(msg, RuntimeWarning)\n"
       ]
      },
      {
       "output_type": "stream",
       "stream": "stderr",
       "text": [
        "/Library/Python/2.7/site-packages/scipy-0.13.0.dev_c31f167_20130514-py2.7-macosx-10.8-intel.egg/scipy/optimize/zeros.py:149: RuntimeWarning: Tolerance of -1.30644100888e+15 reached\n",
        "  warnings.warn(msg, RuntimeWarning)\n",
        "/Library/Python/2.7/site-packages/scipy-0.13.0.dev_c31f167_20130514-py2.7-macosx-10.8-intel.egg/scipy/optimize/zeros.py:149: RuntimeWarning: Tolerance of 3.27244133769e+16 reached\n",
        "  warnings.warn(msg, RuntimeWarning)\n"
       ]
      },
      {
       "output_type": "stream",
       "stream": "stderr",
       "text": [
        "/Library/Python/2.7/site-packages/scipy-0.13.0.dev_c31f167_20130514-py2.7-macosx-10.8-intel.egg/scipy/optimize/zeros.py:149: RuntimeWarning: Tolerance of 4.31125763005e+16 reached\n",
        "  warnings.warn(msg, RuntimeWarning)\n",
        "/Library/Python/2.7/site-packages/scipy-0.13.0.dev_c31f167_20130514-py2.7-macosx-10.8-intel.egg/scipy/optimize/zeros.py:149: RuntimeWarning: Tolerance of -5.64080453199e+16 reached\n",
        "  warnings.warn(msg, RuntimeWarning)\n"
       ]
      },
      {
       "output_type": "stream",
       "stream": "stderr",
       "text": [
        "/Library/Python/2.7/site-packages/scipy-0.13.0.dev_c31f167_20130514-py2.7-macosx-10.8-intel.egg/scipy/optimize/zeros.py:149: RuntimeWarning: Tolerance of -2.09938452889e+15 reached\n",
        "  warnings.warn(msg, RuntimeWarning)\n",
        "/Library/Python/2.7/site-packages/scipy-0.13.0.dev_c31f167_20130514-py2.7-macosx-10.8-intel.egg/scipy/optimize/zeros.py:149: RuntimeWarning: Tolerance of 3.36427224302e+18 reached\n",
        "  warnings.warn(msg, RuntimeWarning)\n"
       ]
      },
      {
       "output_type": "stream",
       "stream": "stderr",
       "text": [
        "/Library/Python/2.7/site-packages/scipy-0.13.0.dev_c31f167_20130514-py2.7-macosx-10.8-intel.egg/scipy/optimize/zeros.py:149: RuntimeWarning: Tolerance of -3.00238349923e+16 reached\n",
        "  warnings.warn(msg, RuntimeWarning)\n",
        "/Library/Python/2.7/site-packages/scipy-0.13.0.dev_c31f167_20130514-py2.7-macosx-10.8-intel.egg/scipy/optimize/zeros.py:149: RuntimeWarning: Tolerance of 2.26818325357e+16 reached\n",
        "  warnings.warn(msg, RuntimeWarning)\n"
       ]
      },
      {
       "output_type": "stream",
       "stream": "stderr",
       "text": [
        "/Library/Python/2.7/site-packages/scipy-0.13.0.dev_c31f167_20130514-py2.7-macosx-10.8-intel.egg/scipy/optimize/zeros.py:149: RuntimeWarning: Tolerance of -1.51092288135e+15 reached\n",
        "  warnings.warn(msg, RuntimeWarning)\n",
        "/Library/Python/2.7/site-packages/scipy-0.13.0.dev_c31f167_20130514-py2.7-macosx-10.8-intel.egg/scipy/optimize/zeros.py:149: RuntimeWarning: Tolerance of 4.68928318425e+16 reached\n",
        "  warnings.warn(msg, RuntimeWarning)\n"
       ]
      },
      {
       "output_type": "stream",
       "stream": "stderr",
       "text": [
        "/Library/Python/2.7/site-packages/scipy-0.13.0.dev_c31f167_20130514-py2.7-macosx-10.8-intel.egg/scipy/optimize/zeros.py:149: RuntimeWarning: Tolerance of 9.55305550779e+17 reached\n",
        "  warnings.warn(msg, RuntimeWarning)\n",
        "/Library/Python/2.7/site-packages/scipy-0.13.0.dev_c31f167_20130514-py2.7-macosx-10.8-intel.egg/scipy/optimize/zeros.py:149: RuntimeWarning: Tolerance of 3.84095199019e+14 reached\n",
        "  warnings.warn(msg, RuntimeWarning)\n"
       ]
      },
      {
       "output_type": "stream",
       "stream": "stderr",
       "text": [
        "/Library/Python/2.7/site-packages/scipy-0.13.0.dev_c31f167_20130514-py2.7-macosx-10.8-intel.egg/scipy/optimize/zeros.py:149: RuntimeWarning: Tolerance of -2.063408217e+15 reached\n",
        "  warnings.warn(msg, RuntimeWarning)\n",
        "/Library/Python/2.7/site-packages/scipy-0.13.0.dev_c31f167_20130514-py2.7-macosx-10.8-intel.egg/scipy/optimize/zeros.py:149: RuntimeWarning: Tolerance of 1.82166273121e+17 reached\n",
        "  warnings.warn(msg, RuntimeWarning)\n"
       ]
      },
      {
       "output_type": "stream",
       "stream": "stderr",
       "text": [
        "/Library/Python/2.7/site-packages/scipy-0.13.0.dev_c31f167_20130514-py2.7-macosx-10.8-intel.egg/scipy/optimize/zeros.py:149: RuntimeWarning: Tolerance of -4.62271267993e+16 reached\n",
        "  warnings.warn(msg, RuntimeWarning)\n",
        "/Library/Python/2.7/site-packages/scipy-0.13.0.dev_c31f167_20130514-py2.7-macosx-10.8-intel.egg/scipy/optimize/zeros.py:149: RuntimeWarning: Tolerance of 5.70470225709e+12 reached\n",
        "  warnings.warn(msg, RuntimeWarning)\n"
       ]
      },
      {
       "output_type": "stream",
       "stream": "stderr",
       "text": [
        "/Library/Python/2.7/site-packages/scipy-0.13.0.dev_c31f167_20130514-py2.7-macosx-10.8-intel.egg/scipy/optimize/zeros.py:149: RuntimeWarning: Tolerance of -2.05660212244e+13 reached\n",
        "  warnings.warn(msg, RuntimeWarning)\n",
        "/Library/Python/2.7/site-packages/scipy-0.13.0.dev_c31f167_20130514-py2.7-macosx-10.8-intel.egg/scipy/optimize/zeros.py:149: RuntimeWarning: Tolerance of 1.05592331822e+16 reached\n",
        "  warnings.warn(msg, RuntimeWarning)\n"
       ]
      },
      {
       "output_type": "stream",
       "stream": "stderr",
       "text": [
        "/Library/Python/2.7/site-packages/scipy-0.13.0.dev_c31f167_20130514-py2.7-macosx-10.8-intel.egg/scipy/optimize/zeros.py:149: RuntimeWarning: Tolerance of -4.7068447494e+15 reached\n",
        "  warnings.warn(msg, RuntimeWarning)\n",
        "/Library/Python/2.7/site-packages/scipy-0.13.0.dev_c31f167_20130514-py2.7-macosx-10.8-intel.egg/scipy/optimize/zeros.py:149: RuntimeWarning: Tolerance of 2.43068796032e+16 reached\n",
        "  warnings.warn(msg, RuntimeWarning)\n"
       ]
      },
      {
       "output_type": "stream",
       "stream": "stderr",
       "text": [
        "/Library/Python/2.7/site-packages/scipy-0.13.0.dev_c31f167_20130514-py2.7-macosx-10.8-intel.egg/scipy/optimize/zeros.py:149: RuntimeWarning: Tolerance of -1.02580557568e+15 reached\n",
        "  warnings.warn(msg, RuntimeWarning)\n",
        "/Library/Python/2.7/site-packages/scipy-0.13.0.dev_c31f167_20130514-py2.7-macosx-10.8-intel.egg/scipy/optimize/zeros.py:149: RuntimeWarning: Tolerance of 2.87844075982e+14 reached\n",
        "  warnings.warn(msg, RuntimeWarning)\n"
       ]
      },
      {
       "output_type": "stream",
       "stream": "stderr",
       "text": [
        "/Library/Python/2.7/site-packages/scipy-0.13.0.dev_c31f167_20130514-py2.7-macosx-10.8-intel.egg/scipy/optimize/zeros.py:149: RuntimeWarning: Tolerance of 8.19014267416e+16 reached\n",
        "  warnings.warn(msg, RuntimeWarning)\n",
        "/Library/Python/2.7/site-packages/scipy-0.13.0.dev_c31f167_20130514-py2.7-macosx-10.8-intel.egg/scipy/optimize/zeros.py:149: RuntimeWarning: Tolerance of -4.92972333566e+15 reached\n",
        "  warnings.warn(msg, RuntimeWarning)\n"
       ]
      },
      {
       "output_type": "stream",
       "stream": "stderr",
       "text": [
        "/Library/Python/2.7/site-packages/scipy-0.13.0.dev_c31f167_20130514-py2.7-macosx-10.8-intel.egg/scipy/optimize/zeros.py:149: RuntimeWarning: Tolerance of -1.21521794036e+16 reached\n",
        "  warnings.warn(msg, RuntimeWarning)\n",
        "/Library/Python/2.7/site-packages/scipy-0.13.0.dev_c31f167_20130514-py2.7-macosx-10.8-intel.egg/scipy/optimize/zeros.py:149: RuntimeWarning: Tolerance of -1.2132010589e+16 reached\n",
        "  warnings.warn(msg, RuntimeWarning)\n"
       ]
      },
      {
       "output_type": "stream",
       "stream": "stderr",
       "text": [
        "/Library/Python/2.7/site-packages/scipy-0.13.0.dev_c31f167_20130514-py2.7-macosx-10.8-intel.egg/scipy/optimize/zeros.py:149: RuntimeWarning: Tolerance of -9.3938470632e+14 reached\n",
        "  warnings.warn(msg, RuntimeWarning)\n",
        "/Library/Python/2.7/site-packages/scipy-0.13.0.dev_c31f167_20130514-py2.7-macosx-10.8-intel.egg/scipy/optimize/zeros.py:149: RuntimeWarning: Tolerance of 1.74799689586e+16 reached\n",
        "  warnings.warn(msg, RuntimeWarning)\n"
       ]
      },
      {
       "output_type": "stream",
       "stream": "stderr",
       "text": [
        "/Library/Python/2.7/site-packages/scipy-0.13.0.dev_c31f167_20130514-py2.7-macosx-10.8-intel.egg/scipy/optimize/zeros.py:149: RuntimeWarning: Tolerance of -1.40033580322e+15 reached\n",
        "  warnings.warn(msg, RuntimeWarning)\n",
        "/Library/Python/2.7/site-packages/scipy-0.13.0.dev_c31f167_20130514-py2.7-macosx-10.8-intel.egg/scipy/optimize/zeros.py:149: RuntimeWarning: Tolerance of -3.35985001514e+14 reached\n",
        "  warnings.warn(msg, RuntimeWarning)\n"
       ]
      },
      {
       "output_type": "stream",
       "stream": "stderr",
       "text": [
        "/Library/Python/2.7/site-packages/scipy-0.13.0.dev_c31f167_20130514-py2.7-macosx-10.8-intel.egg/scipy/optimize/zeros.py:149: RuntimeWarning: Tolerance of 1.58303913294e+16 reached\n",
        "  warnings.warn(msg, RuntimeWarning)\n",
        "/Library/Python/2.7/site-packages/scipy-0.13.0.dev_c31f167_20130514-py2.7-macosx-10.8-intel.egg/scipy/optimize/zeros.py:149: RuntimeWarning: Tolerance of 5.81918570798e+13 reached\n",
        "  warnings.warn(msg, RuntimeWarning)\n"
       ]
      },
      {
       "output_type": "stream",
       "stream": "stdout",
       "text": [
        "\n",
        "deleting item T1map_LL"
       ]
      },
      {
       "output_type": "stream",
       "stream": "stdout",
       "text": [
        "\n",
        "deleting item T1map_LL_fitdict"
       ]
      },
      {
       "output_type": "stream",
       "stream": "stderr",
       "text": [
        "WARNING:sarpy.io.BRUKERIO:NSLICES not equal to number of ACQ_obj_order\n"
       ]
      },
      {
       "output_type": "stream",
       "stream": "stderr",
       "text": [
        "/Library/Python/2.7/site-packages/scipy-0.13.0.dev_c31f167_20130514-py2.7-macosx-10.8-intel.egg/scipy/optimize/zeros.py:149: RuntimeWarning: Tolerance of -6.86626911842e+15 reached\n",
        "  warnings.warn(msg, RuntimeWarning)\n",
        "/Library/Python/2.7/site-packages/scipy-0.13.0.dev_c31f167_20130514-py2.7-macosx-10.8-intel.egg/scipy/optimize/zeros.py:149: RuntimeWarning: Tolerance of 6.83922564451e+16 reached\n",
        "  warnings.warn(msg, RuntimeWarning)\n"
       ]
      },
      {
       "output_type": "stream",
       "stream": "stderr",
       "text": [
        "/Library/Python/2.7/site-packages/scipy-0.13.0.dev_c31f167_20130514-py2.7-macosx-10.8-intel.egg/scipy/optimize/zeros.py:149: RuntimeWarning: Tolerance of -3.46398130048e+14 reached\n",
        "  warnings.warn(msg, RuntimeWarning)\n",
        "/Library/Python/2.7/site-packages/scipy-0.13.0.dev_c31f167_20130514-py2.7-macosx-10.8-intel.egg/scipy/optimize/zeros.py:149: RuntimeWarning: Tolerance of -1.00479025039e+17 reached\n",
        "  warnings.warn(msg, RuntimeWarning)\n"
       ]
      },
      {
       "output_type": "stream",
       "stream": "stderr",
       "text": [
        "/Library/Python/2.7/site-packages/scipy-0.13.0.dev_c31f167_20130514-py2.7-macosx-10.8-intel.egg/scipy/optimize/zeros.py:149: RuntimeWarning: Tolerance of -2.5482229824e+15 reached\n",
        "  warnings.warn(msg, RuntimeWarning)\n",
        "/Library/Python/2.7/site-packages/scipy-0.13.0.dev_c31f167_20130514-py2.7-macosx-10.8-intel.egg/scipy/optimize/zeros.py:149: RuntimeWarning: Tolerance of 4.32507478736e+16 reached\n",
        "  warnings.warn(msg, RuntimeWarning)\n"
       ]
      },
      {
       "output_type": "stream",
       "stream": "stderr",
       "text": [
        "/Library/Python/2.7/site-packages/scipy-0.13.0.dev_c31f167_20130514-py2.7-macosx-10.8-intel.egg/scipy/optimize/zeros.py:149: RuntimeWarning: Tolerance of -3.74274206184e+16 reached\n",
        "  warnings.warn(msg, RuntimeWarning)\n",
        "/Library/Python/2.7/site-packages/scipy-0.13.0.dev_c31f167_20130514-py2.7-macosx-10.8-intel.egg/scipy/optimize/zeros.py:149: RuntimeWarning: Tolerance of 8.73784820796e+15 reached\n",
        "  warnings.warn(msg, RuntimeWarning)\n"
       ]
      },
      {
       "output_type": "stream",
       "stream": "stderr",
       "text": [
        "/Library/Python/2.7/site-packages/scipy-0.13.0.dev_c31f167_20130514-py2.7-macosx-10.8-intel.egg/scipy/optimize/zeros.py:149: RuntimeWarning: Tolerance of -4.25019167741e+16 reached\n",
        "  warnings.warn(msg, RuntimeWarning)\n",
        "/Library/Python/2.7/site-packages/scipy-0.13.0.dev_c31f167_20130514-py2.7-macosx-10.8-intel.egg/scipy/optimize/zeros.py:149: RuntimeWarning: Tolerance of -6.10229668761e+15 reached\n",
        "  warnings.warn(msg, RuntimeWarning)\n"
       ]
      },
      {
       "output_type": "stream",
       "stream": "stderr",
       "text": [
        "/Library/Python/2.7/site-packages/scipy-0.13.0.dev_c31f167_20130514-py2.7-macosx-10.8-intel.egg/scipy/optimize/zeros.py:149: RuntimeWarning: Tolerance of -1.71448558935e+15 reached\n",
        "  warnings.warn(msg, RuntimeWarning)\n",
        "/Library/Python/2.7/site-packages/scipy-0.13.0.dev_c31f167_20130514-py2.7-macosx-10.8-intel.egg/scipy/optimize/zeros.py:149: RuntimeWarning: Tolerance of -3.28154439675e+13 reached\n",
        "  warnings.warn(msg, RuntimeWarning)\n"
       ]
      },
      {
       "output_type": "stream",
       "stream": "stderr",
       "text": [
        "/Library/Python/2.7/site-packages/scipy-0.13.0.dev_c31f167_20130514-py2.7-macosx-10.8-intel.egg/scipy/optimize/zeros.py:149: RuntimeWarning: Tolerance of -2.19996335952e+16 reached\n",
        "  warnings.warn(msg, RuntimeWarning)\n",
        "/Library/Python/2.7/site-packages/scipy-0.13.0.dev_c31f167_20130514-py2.7-macosx-10.8-intel.egg/scipy/optimize/zeros.py:149: RuntimeWarning: Tolerance of -2.55315072483e+15 reached\n",
        "  warnings.warn(msg, RuntimeWarning)\n"
       ]
      },
      {
       "output_type": "stream",
       "stream": "stderr",
       "text": [
        "/Library/Python/2.7/site-packages/scipy-0.13.0.dev_c31f167_20130514-py2.7-macosx-10.8-intel.egg/scipy/optimize/zeros.py:149: RuntimeWarning: Tolerance of -3.10588783243e+15 reached\n",
        "  warnings.warn(msg, RuntimeWarning)\n",
        "/Library/Python/2.7/site-packages/scipy-0.13.0.dev_c31f167_20130514-py2.7-macosx-10.8-intel.egg/scipy/optimize/zeros.py:149: RuntimeWarning: Tolerance of -137715667625.0 reached\n",
        "  warnings.warn(msg, RuntimeWarning)\n"
       ]
      },
      {
       "output_type": "stream",
       "stream": "stderr",
       "text": [
        "/Library/Python/2.7/site-packages/scipy-0.13.0.dev_c31f167_20130514-py2.7-macosx-10.8-intel.egg/scipy/optimize/zeros.py:149: RuntimeWarning: Tolerance of 3.82970004284e+16 reached\n",
        "  warnings.warn(msg, RuntimeWarning)\n",
        "/Library/Python/2.7/site-packages/scipy-0.13.0.dev_c31f167_20130514-py2.7-macosx-10.8-intel.egg/scipy/optimize/zeros.py:149: RuntimeWarning: Tolerance of 1.1674633829e+16 reached\n",
        "  warnings.warn(msg, RuntimeWarning)\n"
       ]
      },
      {
       "output_type": "stream",
       "stream": "stderr",
       "text": [
        "/Library/Python/2.7/site-packages/scipy-0.13.0.dev_c31f167_20130514-py2.7-macosx-10.8-intel.egg/scipy/optimize/zeros.py:149: RuntimeWarning: Tolerance of 1.26248509426e+17 reached\n",
        "  warnings.warn(msg, RuntimeWarning)\n",
        "/Library/Python/2.7/site-packages/scipy-0.13.0.dev_c31f167_20130514-py2.7-macosx-10.8-intel.egg/scipy/optimize/zeros.py:149: RuntimeWarning: Tolerance of 2.68076546319e+15 reached\n",
        "  warnings.warn(msg, RuntimeWarning)\n"
       ]
      },
      {
       "output_type": "stream",
       "stream": "stderr",
       "text": [
        "/Library/Python/2.7/site-packages/scipy-0.13.0.dev_c31f167_20130514-py2.7-macosx-10.8-intel.egg/scipy/optimize/zeros.py:149: RuntimeWarning: Tolerance of 1.2783696881e+15 reached\n",
        "  warnings.warn(msg, RuntimeWarning)\n",
        "/Library/Python/2.7/site-packages/scipy-0.13.0.dev_c31f167_20130514-py2.7-macosx-10.8-intel.egg/scipy/optimize/zeros.py:149: RuntimeWarning: Tolerance of -5.56184595739e+12 reached\n",
        "  warnings.warn(msg, RuntimeWarning)\n"
       ]
      },
      {
       "output_type": "stream",
       "stream": "stderr",
       "text": [
        "/Library/Python/2.7/site-packages/scipy-0.13.0.dev_c31f167_20130514-py2.7-macosx-10.8-intel.egg/scipy/optimize/zeros.py:149: RuntimeWarning: Tolerance of 1.11959562188e+16 reached\n",
        "  warnings.warn(msg, RuntimeWarning)\n",
        "/Library/Python/2.7/site-packages/scipy-0.13.0.dev_c31f167_20130514-py2.7-macosx-10.8-intel.egg/scipy/optimize/zeros.py:149: RuntimeWarning: Tolerance of 6.00894356228e+15 reached\n",
        "  warnings.warn(msg, RuntimeWarning)\n"
       ]
      },
      {
       "output_type": "stream",
       "stream": "stderr",
       "text": [
        "/Library/Python/2.7/site-packages/scipy-0.13.0.dev_c31f167_20130514-py2.7-macosx-10.8-intel.egg/scipy/optimize/zeros.py:149: RuntimeWarning: Tolerance of 2.47419839151e+16 reached\n",
        "  warnings.warn(msg, RuntimeWarning)\n",
        "/Library/Python/2.7/site-packages/scipy-0.13.0.dev_c31f167_20130514-py2.7-macosx-10.8-intel.egg/scipy/optimize/zeros.py:149: RuntimeWarning: Tolerance of -1.05031378808e+15 reached\n",
        "  warnings.warn(msg, RuntimeWarning)\n"
       ]
      },
      {
       "output_type": "stream",
       "stream": "stderr",
       "text": [
        "/Library/Python/2.7/site-packages/scipy-0.13.0.dev_c31f167_20130514-py2.7-macosx-10.8-intel.egg/scipy/optimize/zeros.py:149: RuntimeWarning: Tolerance of -2.62072805706e+15 reached\n",
        "  warnings.warn(msg, RuntimeWarning)\n",
        "/Library/Python/2.7/site-packages/scipy-0.13.0.dev_c31f167_20130514-py2.7-macosx-10.8-intel.egg/scipy/optimize/zeros.py:149: RuntimeWarning: Tolerance of -1.95689314626e+15 reached\n",
        "  warnings.warn(msg, RuntimeWarning)\n"
       ]
      },
      {
       "output_type": "stream",
       "stream": "stderr",
       "text": [
        "/Library/Python/2.7/site-packages/scipy-0.13.0.dev_c31f167_20130514-py2.7-macosx-10.8-intel.egg/scipy/optimize/zeros.py:149: RuntimeWarning: Tolerance of 7.55515577998e+13 reached\n",
        "  warnings.warn(msg, RuntimeWarning)\n",
        "/Library/Python/2.7/site-packages/scipy-0.13.0.dev_c31f167_20130514-py2.7-macosx-10.8-intel.egg/scipy/optimize/zeros.py:149: RuntimeWarning: Tolerance of 6.74141104247e+16 reached\n",
        "  warnings.warn(msg, RuntimeWarning)\n"
       ]
      },
      {
       "output_type": "stream",
       "stream": "stderr",
       "text": [
        "/Library/Python/2.7/site-packages/scipy-0.13.0.dev_c31f167_20130514-py2.7-macosx-10.8-intel.egg/scipy/optimize/zeros.py:149: RuntimeWarning: Tolerance of -1.19037553104e+15 reached\n",
        "  warnings.warn(msg, RuntimeWarning)\n",
        "/Library/Python/2.7/site-packages/scipy-0.13.0.dev_c31f167_20130514-py2.7-macosx-10.8-intel.egg/scipy/optimize/zeros.py:149: RuntimeWarning: Tolerance of 1.73494008562e+15 reached\n",
        "  warnings.warn(msg, RuntimeWarning)\n"
       ]
      },
      {
       "output_type": "stream",
       "stream": "stderr",
       "text": [
        "/Library/Python/2.7/site-packages/scipy-0.13.0.dev_c31f167_20130514-py2.7-macosx-10.8-intel.egg/scipy/optimize/zeros.py:149: RuntimeWarning: Tolerance of -8.77969934521e+13 reached\n",
        "  warnings.warn(msg, RuntimeWarning)\n",
        "/Library/Python/2.7/site-packages/scipy-0.13.0.dev_c31f167_20130514-py2.7-macosx-10.8-intel.egg/scipy/optimize/zeros.py:149: RuntimeWarning: Tolerance of -9.01745113694e+15 reached\n",
        "  warnings.warn(msg, RuntimeWarning)\n"
       ]
      },
      {
       "output_type": "stream",
       "stream": "stderr",
       "text": [
        "/Library/Python/2.7/site-packages/scipy-0.13.0.dev_c31f167_20130514-py2.7-macosx-10.8-intel.egg/scipy/optimize/zeros.py:149: RuntimeWarning: Tolerance of -1.30070664708e+16 reached\n",
        "  warnings.warn(msg, RuntimeWarning)\n",
        "/Library/Python/2.7/site-packages/scipy-0.13.0.dev_c31f167_20130514-py2.7-macosx-10.8-intel.egg/scipy/optimize/zeros.py:149: RuntimeWarning: Tolerance of 2.425023542e+16 reached\n",
        "  warnings.warn(msg, RuntimeWarning)\n"
       ]
      },
      {
       "output_type": "stream",
       "stream": "stderr",
       "text": [
        "/Library/Python/2.7/site-packages/scipy-0.13.0.dev_c31f167_20130514-py2.7-macosx-10.8-intel.egg/scipy/optimize/zeros.py:149: RuntimeWarning: Tolerance of 2.88887186216e+13 reached\n",
        "  warnings.warn(msg, RuntimeWarning)\n",
        "/Library/Python/2.7/site-packages/scipy-0.13.0.dev_c31f167_20130514-py2.7-macosx-10.8-intel.egg/scipy/optimize/zeros.py:149: RuntimeWarning: Tolerance of 2.9276645401e+16 reached\n",
        "  warnings.warn(msg, RuntimeWarning)\n"
       ]
      },
      {
       "output_type": "stream",
       "stream": "stderr",
       "text": [
        "/Library/Python/2.7/site-packages/scipy-0.13.0.dev_c31f167_20130514-py2.7-macosx-10.8-intel.egg/scipy/optimize/zeros.py:149: RuntimeWarning: Tolerance of -3.46278169455e+15 reached\n",
        "  warnings.warn(msg, RuntimeWarning)\n",
        "/Library/Python/2.7/site-packages/scipy-0.13.0.dev_c31f167_20130514-py2.7-macosx-10.8-intel.egg/scipy/optimize/zeros.py:149: RuntimeWarning: Tolerance of -8.41810545832e+16 reached\n",
        "  warnings.warn(msg, RuntimeWarning)\n"
       ]
      },
      {
       "output_type": "stream",
       "stream": "stderr",
       "text": [
        "/Library/Python/2.7/site-packages/scipy-0.13.0.dev_c31f167_20130514-py2.7-macosx-10.8-intel.egg/scipy/optimize/zeros.py:149: RuntimeWarning: Tolerance of 1.40943444375e+16 reached\n",
        "  warnings.warn(msg, RuntimeWarning)\n",
        "/Library/Python/2.7/site-packages/scipy-0.13.0.dev_c31f167_20130514-py2.7-macosx-10.8-intel.egg/scipy/optimize/zeros.py:149: RuntimeWarning: Tolerance of 2.09875051732e+16 reached\n",
        "  warnings.warn(msg, RuntimeWarning)\n"
       ]
      },
      {
       "output_type": "stream",
       "stream": "stderr",
       "text": [
        "/Library/Python/2.7/site-packages/scipy-0.13.0.dev_c31f167_20130514-py2.7-macosx-10.8-intel.egg/scipy/optimize/zeros.py:149: RuntimeWarning: Tolerance of -3.20171214856e+15 reached\n",
        "  warnings.warn(msg, RuntimeWarning)\n",
        "/Library/Python/2.7/site-packages/scipy-0.13.0.dev_c31f167_20130514-py2.7-macosx-10.8-intel.egg/scipy/optimize/zeros.py:149: RuntimeWarning: Tolerance of 3.84120245638e+14 reached\n",
        "  warnings.warn(msg, RuntimeWarning)\n"
       ]
      },
      {
       "output_type": "stream",
       "stream": "stderr",
       "text": [
        "/Library/Python/2.7/site-packages/scipy-0.13.0.dev_c31f167_20130514-py2.7-macosx-10.8-intel.egg/scipy/optimize/zeros.py:149: RuntimeWarning: Tolerance of 1.25088324067e+16 reached\n",
        "  warnings.warn(msg, RuntimeWarning)\n",
        "/Library/Python/2.7/site-packages/scipy-0.13.0.dev_c31f167_20130514-py2.7-macosx-10.8-intel.egg/scipy/optimize/zeros.py:149: RuntimeWarning: Tolerance of -6.18152096559e+15 reached\n",
        "  warnings.warn(msg, RuntimeWarning)\n"
       ]
      },
      {
       "output_type": "stream",
       "stream": "stderr",
       "text": [
        "/Library/Python/2.7/site-packages/scipy-0.13.0.dev_c31f167_20130514-py2.7-macosx-10.8-intel.egg/scipy/optimize/zeros.py:149: RuntimeWarning: Tolerance of 2.29344265555e+16 reached\n",
        "  warnings.warn(msg, RuntimeWarning)\n",
        "/Library/Python/2.7/site-packages/scipy-0.13.0.dev_c31f167_20130514-py2.7-macosx-10.8-intel.egg/scipy/optimize/zeros.py:149: RuntimeWarning: Tolerance of 2.62425701245e+16 reached\n",
        "  warnings.warn(msg, RuntimeWarning)\n"
       ]
      },
      {
       "output_type": "stream",
       "stream": "stderr",
       "text": [
        "/Library/Python/2.7/site-packages/scipy-0.13.0.dev_c31f167_20130514-py2.7-macosx-10.8-intel.egg/scipy/optimize/zeros.py:149: RuntimeWarning: Tolerance of -3.62913186317e+14 reached\n",
        "  warnings.warn(msg, RuntimeWarning)\n",
        "/Library/Python/2.7/site-packages/scipy-0.13.0.dev_c31f167_20130514-py2.7-macosx-10.8-intel.egg/scipy/optimize/zeros.py:149: RuntimeWarning: Tolerance of 1.80311988076e+15 reached\n",
        "  warnings.warn(msg, RuntimeWarning)\n"
       ]
      },
      {
       "output_type": "stream",
       "stream": "stderr",
       "text": [
        "/Library/Python/2.7/site-packages/scipy-0.13.0.dev_c31f167_20130514-py2.7-macosx-10.8-intel.egg/scipy/optimize/zeros.py:149: RuntimeWarning: Tolerance of 1.37557016301e+16 reached\n",
        "  warnings.warn(msg, RuntimeWarning)\n",
        "/Library/Python/2.7/site-packages/scipy-0.13.0.dev_c31f167_20130514-py2.7-macosx-10.8-intel.egg/scipy/optimize/zeros.py:149: RuntimeWarning: Tolerance of -2.78058112847e+16 reached\n",
        "  warnings.warn(msg, RuntimeWarning)\n"
       ]
      },
      {
       "output_type": "stream",
       "stream": "stderr",
       "text": [
        "/Library/Python/2.7/site-packages/scipy-0.13.0.dev_c31f167_20130514-py2.7-macosx-10.8-intel.egg/scipy/optimize/zeros.py:149: RuntimeWarning: Tolerance of -2.66634589572e+16 reached\n",
        "  warnings.warn(msg, RuntimeWarning)\n",
        "/Library/Python/2.7/site-packages/scipy-0.13.0.dev_c31f167_20130514-py2.7-macosx-10.8-intel.egg/scipy/optimize/zeros.py:149: RuntimeWarning: Tolerance of 3.61111157233e+16 reached\n",
        "  warnings.warn(msg, RuntimeWarning)\n"
       ]
      },
      {
       "output_type": "stream",
       "stream": "stderr",
       "text": [
        "/Library/Python/2.7/site-packages/scipy-0.13.0.dev_c31f167_20130514-py2.7-macosx-10.8-intel.egg/scipy/optimize/zeros.py:149: RuntimeWarning: Tolerance of -2.86065500711e+15 reached\n",
        "  warnings.warn(msg, RuntimeWarning)\n",
        "/Library/Python/2.7/site-packages/scipy-0.13.0.dev_c31f167_20130514-py2.7-macosx-10.8-intel.egg/scipy/optimize/zeros.py:149: RuntimeWarning: Tolerance of -4.9592684036e+16 reached\n",
        "  warnings.warn(msg, RuntimeWarning)\n"
       ]
      },
      {
       "output_type": "stream",
       "stream": "stderr",
       "text": [
        "/Library/Python/2.7/site-packages/scipy-0.13.0.dev_c31f167_20130514-py2.7-macosx-10.8-intel.egg/scipy/optimize/zeros.py:149: RuntimeWarning: Tolerance of -7.19660728786e+14 reached\n",
        "  warnings.warn(msg, RuntimeWarning)\n",
        "/Library/Python/2.7/site-packages/scipy-0.13.0.dev_c31f167_20130514-py2.7-macosx-10.8-intel.egg/scipy/optimize/zeros.py:149: RuntimeWarning: Tolerance of -1.84435777305e+15 reached\n",
        "  warnings.warn(msg, RuntimeWarning)\n"
       ]
      },
      {
       "output_type": "stream",
       "stream": "stderr",
       "text": [
        "/Library/Python/2.7/site-packages/scipy-0.13.0.dev_c31f167_20130514-py2.7-macosx-10.8-intel.egg/scipy/optimize/zeros.py:149: RuntimeWarning: Tolerance of -4.44640857905e+16 reached\n",
        "  warnings.warn(msg, RuntimeWarning)\n",
        "/Library/Python/2.7/site-packages/scipy-0.13.0.dev_c31f167_20130514-py2.7-macosx-10.8-intel.egg/scipy/optimize/zeros.py:149: RuntimeWarning: Tolerance of 2.04900217225e+14 reached\n",
        "  warnings.warn(msg, RuntimeWarning)\n"
       ]
      },
      {
       "output_type": "stream",
       "stream": "stderr",
       "text": [
        "/Library/Python/2.7/site-packages/scipy-0.13.0.dev_c31f167_20130514-py2.7-macosx-10.8-intel.egg/scipy/optimize/zeros.py:149: RuntimeWarning: Tolerance of 871546009528.0 reached\n",
        "  warnings.warn(msg, RuntimeWarning)\n",
        "/Library/Python/2.7/site-packages/scipy-0.13.0.dev_c31f167_20130514-py2.7-macosx-10.8-intel.egg/scipy/optimize/zeros.py:149: RuntimeWarning: Tolerance of -2.56496684017e+14 reached\n",
        "  warnings.warn(msg, RuntimeWarning)\n"
       ]
      },
      {
       "output_type": "stream",
       "stream": "stderr",
       "text": [
        "/Library/Python/2.7/site-packages/scipy-0.13.0.dev_c31f167_20130514-py2.7-macosx-10.8-intel.egg/scipy/optimize/zeros.py:149: RuntimeWarning: Tolerance of -2.00962679655e+16 reached\n",
        "  warnings.warn(msg, RuntimeWarning)\n",
        "/Library/Python/2.7/site-packages/scipy-0.13.0.dev_c31f167_20130514-py2.7-macosx-10.8-intel.egg/scipy/optimize/zeros.py:149: RuntimeWarning: Tolerance of 1.4384935196e+15 reached\n",
        "  warnings.warn(msg, RuntimeWarning)\n"
       ]
      },
      {
       "output_type": "stream",
       "stream": "stderr",
       "text": [
        "/Library/Python/2.7/site-packages/scipy-0.13.0.dev_c31f167_20130514-py2.7-macosx-10.8-intel.egg/scipy/optimize/zeros.py:149: RuntimeWarning: Tolerance of -6.72323633138e+14 reached\n",
        "  warnings.warn(msg, RuntimeWarning)\n",
        "/Library/Python/2.7/site-packages/scipy-0.13.0.dev_c31f167_20130514-py2.7-macosx-10.8-intel.egg/scipy/optimize/zeros.py:149: RuntimeWarning: Tolerance of -1.82074592967e+13 reached\n",
        "  warnings.warn(msg, RuntimeWarning)\n"
       ]
      },
      {
       "output_type": "stream",
       "stream": "stderr",
       "text": [
        "/Library/Python/2.7/site-packages/scipy-0.13.0.dev_c31f167_20130514-py2.7-macosx-10.8-intel.egg/scipy/optimize/zeros.py:149: RuntimeWarning: Tolerance of -4.41934125458e+15 reached\n",
        "  warnings.warn(msg, RuntimeWarning)\n",
        "/Library/Python/2.7/site-packages/scipy-0.13.0.dev_c31f167_20130514-py2.7-macosx-10.8-intel.egg/scipy/optimize/zeros.py:149: RuntimeWarning: Tolerance of -1.58793178685e+16 reached\n",
        "  warnings.warn(msg, RuntimeWarning)\n"
       ]
      },
      {
       "output_type": "stream",
       "stream": "stderr",
       "text": [
        "/Library/Python/2.7/site-packages/scipy-0.13.0.dev_c31f167_20130514-py2.7-macosx-10.8-intel.egg/scipy/optimize/zeros.py:149: RuntimeWarning: Tolerance of -2.77888219039e+15 reached\n",
        "  warnings.warn(msg, RuntimeWarning)\n",
        "/Library/Python/2.7/site-packages/scipy-0.13.0.dev_c31f167_20130514-py2.7-macosx-10.8-intel.egg/scipy/optimize/zeros.py:149: RuntimeWarning: Tolerance of 4.14438545704e-08 reached\n",
        "  warnings.warn(msg, RuntimeWarning)\n"
       ]
      },
      {
       "output_type": "stream",
       "stream": "stderr",
       "text": [
        "/Library/Python/2.7/site-packages/scipy-0.13.0.dev_c31f167_20130514-py2.7-macosx-10.8-intel.egg/scipy/optimize/zeros.py:149: RuntimeWarning: Tolerance of 4.64740309152e+14 reached\n",
        "  warnings.warn(msg, RuntimeWarning)\n",
        "/Library/Python/2.7/site-packages/scipy-0.13.0.dev_c31f167_20130514-py2.7-macosx-10.8-intel.egg/scipy/optimize/zeros.py:149: RuntimeWarning: Tolerance of 1.56937236211e+16 reached\n",
        "  warnings.warn(msg, RuntimeWarning)\n"
       ]
      },
      {
       "output_type": "stream",
       "stream": "stderr",
       "text": [
        "/Library/Python/2.7/site-packages/scipy-0.13.0.dev_c31f167_20130514-py2.7-macosx-10.8-intel.egg/scipy/optimize/zeros.py:149: RuntimeWarning: Tolerance of -2.81794210771e+12 reached\n",
        "  warnings.warn(msg, RuntimeWarning)\n",
        "/Library/Python/2.7/site-packages/scipy-0.13.0.dev_c31f167_20130514-py2.7-macosx-10.8-intel.egg/scipy/optimize/zeros.py:149: RuntimeWarning: Tolerance of 7.76237254478e+16 reached\n",
        "  warnings.warn(msg, RuntimeWarning)\n"
       ]
      },
      {
       "output_type": "stream",
       "stream": "stderr",
       "text": [
        "/Library/Python/2.7/site-packages/scipy-0.13.0.dev_c31f167_20130514-py2.7-macosx-10.8-intel.egg/scipy/optimize/zeros.py:149: RuntimeWarning: Tolerance of -1.14450781365e+13 reached\n",
        "  warnings.warn(msg, RuntimeWarning)\n",
        "/Library/Python/2.7/site-packages/scipy-0.13.0.dev_c31f167_20130514-py2.7-macosx-10.8-intel.egg/scipy/optimize/zeros.py:149: RuntimeWarning: Tolerance of -2.66999587365e+16 reached\n",
        "  warnings.warn(msg, RuntimeWarning)\n"
       ]
      },
      {
       "output_type": "stream",
       "stream": "stderr",
       "text": [
        "/Library/Python/2.7/site-packages/scipy-0.13.0.dev_c31f167_20130514-py2.7-macosx-10.8-intel.egg/scipy/optimize/zeros.py:149: RuntimeWarning: Tolerance of 6.11913678149e+14 reached\n",
        "  warnings.warn(msg, RuntimeWarning)\n",
        "/Library/Python/2.7/site-packages/scipy-0.13.0.dev_c31f167_20130514-py2.7-macosx-10.8-intel.egg/scipy/optimize/zeros.py:149: RuntimeWarning: Tolerance of 4.90689868883e+15 reached\n",
        "  warnings.warn(msg, RuntimeWarning)\n"
       ]
      },
      {
       "output_type": "stream",
       "stream": "stderr",
       "text": [
        "/Library/Python/2.7/site-packages/scipy-0.13.0.dev_c31f167_20130514-py2.7-macosx-10.8-intel.egg/scipy/optimize/zeros.py:149: RuntimeWarning: Tolerance of 1.88300958927e+18 reached\n",
        "  warnings.warn(msg, RuntimeWarning)\n",
        "/Library/Python/2.7/site-packages/scipy-0.13.0.dev_c31f167_20130514-py2.7-macosx-10.8-intel.egg/scipy/optimize/zeros.py:149: RuntimeWarning: Tolerance of -5.60392496239e+14 reached\n",
        "  warnings.warn(msg, RuntimeWarning)\n"
       ]
      },
      {
       "output_type": "stream",
       "stream": "stderr",
       "text": [
        "/Library/Python/2.7/site-packages/scipy-0.13.0.dev_c31f167_20130514-py2.7-macosx-10.8-intel.egg/scipy/optimize/zeros.py:149: RuntimeWarning: Tolerance of -1.85017131899e+16 reached\n",
        "  warnings.warn(msg, RuntimeWarning)\n",
        "/Library/Python/2.7/site-packages/scipy-0.13.0.dev_c31f167_20130514-py2.7-macosx-10.8-intel.egg/scipy/optimize/zeros.py:149: RuntimeWarning: Tolerance of 5.75314768475e+13 reached\n",
        "  warnings.warn(msg, RuntimeWarning)\n"
       ]
      },
      {
       "output_type": "stream",
       "stream": "stdout",
       "text": [
        "\n",
        "deleting item T1map_LL"
       ]
      },
      {
       "output_type": "stream",
       "stream": "stdout",
       "text": [
        "\n",
        "deleting item T1map_LL_fitdict"
       ]
      },
      {
       "output_type": "stream",
       "stream": "stderr",
       "text": [
        "/Library/Python/2.7/site-packages/scipy-0.13.0.dev_c31f167_20130514-py2.7-macosx-10.8-intel.egg/scipy/optimize/zeros.py:149: RuntimeWarning: Tolerance of 8.72765333832e+14 reached\n",
        "  warnings.warn(msg, RuntimeWarning)\n",
        "WARNING:sarpy.io.BRUKERIO:NSLICES not equal to number of ACQ_obj_order\n"
       ]
      },
      {
       "output_type": "stream",
       "stream": "stderr",
       "text": [
        "/Library/Python/2.7/site-packages/scipy-0.13.0.dev_c31f167_20130514-py2.7-macosx-10.8-intel.egg/scipy/optimize/zeros.py:149: RuntimeWarning: Tolerance of -1.24740185243e+16 reached\n",
        "  warnings.warn(msg, RuntimeWarning)\n",
        "/Library/Python/2.7/site-packages/scipy-0.13.0.dev_c31f167_20130514-py2.7-macosx-10.8-intel.egg/scipy/optimize/zeros.py:149: RuntimeWarning: Tolerance of 4.00150319926e+15 reached\n",
        "  warnings.warn(msg, RuntimeWarning)\n"
       ]
      },
      {
       "output_type": "stream",
       "stream": "stderr",
       "text": [
        "/Library/Python/2.7/site-packages/scipy-0.13.0.dev_c31f167_20130514-py2.7-macosx-10.8-intel.egg/scipy/optimize/zeros.py:149: RuntimeWarning: Tolerance of 5.53883268418e+16 reached\n",
        "  warnings.warn(msg, RuntimeWarning)\n",
        "/Library/Python/2.7/site-packages/scipy-0.13.0.dev_c31f167_20130514-py2.7-macosx-10.8-intel.egg/scipy/optimize/zeros.py:149: RuntimeWarning: Tolerance of 3.77517054375e+16 reached\n",
        "  warnings.warn(msg, RuntimeWarning)\n"
       ]
      },
      {
       "output_type": "stream",
       "stream": "stderr",
       "text": [
        "/Library/Python/2.7/site-packages/scipy-0.13.0.dev_c31f167_20130514-py2.7-macosx-10.8-intel.egg/scipy/optimize/zeros.py:149: RuntimeWarning: Tolerance of 8.90000406216e+14 reached\n",
        "  warnings.warn(msg, RuntimeWarning)\n",
        "/Library/Python/2.7/site-packages/scipy-0.13.0.dev_c31f167_20130514-py2.7-macosx-10.8-intel.egg/scipy/optimize/zeros.py:149: RuntimeWarning: Tolerance of -4.59500101541e+17 reached\n",
        "  warnings.warn(msg, RuntimeWarning)\n"
       ]
      },
      {
       "output_type": "stream",
       "stream": "stderr",
       "text": [
        "/Library/Python/2.7/site-packages/scipy-0.13.0.dev_c31f167_20130514-py2.7-macosx-10.8-intel.egg/scipy/optimize/zeros.py:149: RuntimeWarning: Tolerance of 5.90314232147e+14 reached\n",
        "  warnings.warn(msg, RuntimeWarning)\n",
        "/Library/Python/2.7/site-packages/scipy-0.13.0.dev_c31f167_20130514-py2.7-macosx-10.8-intel.egg/scipy/optimize/zeros.py:149: RuntimeWarning: Tolerance of 9.95381911895e+14 reached\n",
        "  warnings.warn(msg, RuntimeWarning)\n"
       ]
      },
      {
       "output_type": "stream",
       "stream": "stderr",
       "text": [
        "/Library/Python/2.7/site-packages/scipy-0.13.0.dev_c31f167_20130514-py2.7-macosx-10.8-intel.egg/scipy/optimize/zeros.py:149: RuntimeWarning: Tolerance of 1.66441556211e+14 reached\n",
        "  warnings.warn(msg, RuntimeWarning)\n",
        "/Library/Python/2.7/site-packages/scipy-0.13.0.dev_c31f167_20130514-py2.7-macosx-10.8-intel.egg/scipy/optimize/zeros.py:149: RuntimeWarning: Tolerance of 7.27979629137e+15 reached\n",
        "  warnings.warn(msg, RuntimeWarning)\n"
       ]
      },
      {
       "output_type": "stream",
       "stream": "stderr",
       "text": [
        "/Library/Python/2.7/site-packages/scipy-0.13.0.dev_c31f167_20130514-py2.7-macosx-10.8-intel.egg/scipy/optimize/zeros.py:149: RuntimeWarning: Tolerance of -8.67241776502e+13 reached\n",
        "  warnings.warn(msg, RuntimeWarning)\n",
        "/Library/Python/2.7/site-packages/scipy-0.13.0.dev_c31f167_20130514-py2.7-macosx-10.8-intel.egg/scipy/optimize/zeros.py:149: RuntimeWarning: Tolerance of -8.47882374165e+15 reached\n",
        "  warnings.warn(msg, RuntimeWarning)\n"
       ]
      },
      {
       "output_type": "stream",
       "stream": "stderr",
       "text": [
        "/Library/Python/2.7/site-packages/scipy-0.13.0.dev_c31f167_20130514-py2.7-macosx-10.8-intel.egg/scipy/optimize/zeros.py:149: RuntimeWarning: Tolerance of 9.81806671958e+14 reached\n",
        "  warnings.warn(msg, RuntimeWarning)\n",
        "/Library/Python/2.7/site-packages/scipy-0.13.0.dev_c31f167_20130514-py2.7-macosx-10.8-intel.egg/scipy/optimize/zeros.py:149: RuntimeWarning: Tolerance of -1.1794588465e+15 reached\n",
        "  warnings.warn(msg, RuntimeWarning)\n"
       ]
      },
      {
       "output_type": "stream",
       "stream": "stderr",
       "text": [
        "/Library/Python/2.7/site-packages/scipy-0.13.0.dev_c31f167_20130514-py2.7-macosx-10.8-intel.egg/scipy/optimize/zeros.py:149: RuntimeWarning: Tolerance of 2.59702387017e+15 reached\n",
        "  warnings.warn(msg, RuntimeWarning)\n",
        "/Library/Python/2.7/site-packages/scipy-0.13.0.dev_c31f167_20130514-py2.7-macosx-10.8-intel.egg/scipy/optimize/zeros.py:149: RuntimeWarning: Tolerance of -1.62430505768e+16 reached\n",
        "  warnings.warn(msg, RuntimeWarning)\n"
       ]
      },
      {
       "output_type": "stream",
       "stream": "stderr",
       "text": [
        "/Library/Python/2.7/site-packages/scipy-0.13.0.dev_c31f167_20130514-py2.7-macosx-10.8-intel.egg/scipy/optimize/zeros.py:149: RuntimeWarning: Tolerance of 8.26775275231e+14 reached\n",
        "  warnings.warn(msg, RuntimeWarning)\n",
        "/Library/Python/2.7/site-packages/scipy-0.13.0.dev_c31f167_20130514-py2.7-macosx-10.8-intel.egg/scipy/optimize/zeros.py:149: RuntimeWarning: Tolerance of 8.62612347637e+16 reached\n",
        "  warnings.warn(msg, RuntimeWarning)\n"
       ]
      },
      {
       "output_type": "stream",
       "stream": "stderr",
       "text": [
        "/Library/Python/2.7/site-packages/scipy-0.13.0.dev_c31f167_20130514-py2.7-macosx-10.8-intel.egg/scipy/optimize/zeros.py:149: RuntimeWarning: Tolerance of -1.28419531274e+16 reached\n",
        "  warnings.warn(msg, RuntimeWarning)\n",
        "/Library/Python/2.7/site-packages/scipy-0.13.0.dev_c31f167_20130514-py2.7-macosx-10.8-intel.egg/scipy/optimize/zeros.py:149: RuntimeWarning: Tolerance of 6.53804027304e+14 reached\n",
        "  warnings.warn(msg, RuntimeWarning)\n"
       ]
      },
      {
       "output_type": "stream",
       "stream": "stderr",
       "text": [
        "/Library/Python/2.7/site-packages/scipy-0.13.0.dev_c31f167_20130514-py2.7-macosx-10.8-intel.egg/scipy/optimize/zeros.py:149: RuntimeWarning: Tolerance of 4.10779652561e+16 reached\n",
        "  warnings.warn(msg, RuntimeWarning)\n",
        "/Library/Python/2.7/site-packages/scipy-0.13.0.dev_c31f167_20130514-py2.7-macosx-10.8-intel.egg/scipy/optimize/zeros.py:149: RuntimeWarning: Tolerance of 1.70966763834e+15 reached\n",
        "  warnings.warn(msg, RuntimeWarning)\n"
       ]
      },
      {
       "output_type": "stream",
       "stream": "stderr",
       "text": [
        "/Library/Python/2.7/site-packages/scipy-0.13.0.dev_c31f167_20130514-py2.7-macosx-10.8-intel.egg/scipy/optimize/zeros.py:149: RuntimeWarning: Tolerance of -3.40878049787e+14 reached\n",
        "  warnings.warn(msg, RuntimeWarning)\n",
        "/Library/Python/2.7/site-packages/scipy-0.13.0.dev_c31f167_20130514-py2.7-macosx-10.8-intel.egg/scipy/optimize/zeros.py:149: RuntimeWarning: Tolerance of 1.79504412519e+14 reached\n",
        "  warnings.warn(msg, RuntimeWarning)\n"
       ]
      },
      {
       "output_type": "stream",
       "stream": "stderr",
       "text": [
        "/Library/Python/2.7/site-packages/scipy-0.13.0.dev_c31f167_20130514-py2.7-macosx-10.8-intel.egg/scipy/optimize/zeros.py:149: RuntimeWarning: Tolerance of -1.32181470181e+16 reached\n",
        "  warnings.warn(msg, RuntimeWarning)\n",
        "/Library/Python/2.7/site-packages/scipy-0.13.0.dev_c31f167_20130514-py2.7-macosx-10.8-intel.egg/scipy/optimize/zeros.py:149: RuntimeWarning: Tolerance of -1.79325180897e+13 reached\n",
        "  warnings.warn(msg, RuntimeWarning)\n"
       ]
      },
      {
       "output_type": "stream",
       "stream": "stderr",
       "text": [
        "/Library/Python/2.7/site-packages/scipy-0.13.0.dev_c31f167_20130514-py2.7-macosx-10.8-intel.egg/scipy/optimize/zeros.py:149: RuntimeWarning: Tolerance of 4.47181694333e+13 reached\n",
        "  warnings.warn(msg, RuntimeWarning)\n",
        "/Library/Python/2.7/site-packages/scipy-0.13.0.dev_c31f167_20130514-py2.7-macosx-10.8-intel.egg/scipy/optimize/zeros.py:149: RuntimeWarning: Tolerance of -1.99457483078e+15 reached\n",
        "  warnings.warn(msg, RuntimeWarning)\n"
       ]
      },
      {
       "output_type": "stream",
       "stream": "stderr",
       "text": [
        "/Library/Python/2.7/site-packages/scipy-0.13.0.dev_c31f167_20130514-py2.7-macosx-10.8-intel.egg/scipy/optimize/zeros.py:149: RuntimeWarning: Tolerance of 1.03123935428e+16 reached\n",
        "  warnings.warn(msg, RuntimeWarning)\n",
        "/Library/Python/2.7/site-packages/scipy-0.13.0.dev_c31f167_20130514-py2.7-macosx-10.8-intel.egg/scipy/optimize/zeros.py:149: RuntimeWarning: Tolerance of 6.57932556753e+15 reached\n",
        "  warnings.warn(msg, RuntimeWarning)\n"
       ]
      },
      {
       "output_type": "stream",
       "stream": "stderr",
       "text": [
        "/Library/Python/2.7/site-packages/scipy-0.13.0.dev_c31f167_20130514-py2.7-macosx-10.8-intel.egg/scipy/optimize/zeros.py:149: RuntimeWarning: Tolerance of 4.70317900181e-08 reached\n",
        "  warnings.warn(msg, RuntimeWarning)\n",
        "/Library/Python/2.7/site-packages/scipy-0.13.0.dev_c31f167_20130514-py2.7-macosx-10.8-intel.egg/scipy/optimize/zeros.py:149: RuntimeWarning: Tolerance of -3.18781020066e+15 reached\n",
        "  warnings.warn(msg, RuntimeWarning)\n"
       ]
      },
      {
       "output_type": "stream",
       "stream": "stderr",
       "text": [
        "/Library/Python/2.7/site-packages/scipy-0.13.0.dev_c31f167_20130514-py2.7-macosx-10.8-intel.egg/scipy/optimize/zeros.py:149: RuntimeWarning: Tolerance of -2.32586942e+14 reached\n",
        "  warnings.warn(msg, RuntimeWarning)\n",
        "/Library/Python/2.7/site-packages/scipy-0.13.0.dev_c31f167_20130514-py2.7-macosx-10.8-intel.egg/scipy/optimize/zeros.py:149: RuntimeWarning: Tolerance of -2.56236818949e+13 reached\n",
        "  warnings.warn(msg, RuntimeWarning)\n"
       ]
      },
      {
       "output_type": "stream",
       "stream": "stderr",
       "text": [
        "/Library/Python/2.7/site-packages/scipy-0.13.0.dev_c31f167_20130514-py2.7-macosx-10.8-intel.egg/scipy/optimize/zeros.py:149: RuntimeWarning: Tolerance of 1.9549051898e+14 reached\n",
        "  warnings.warn(msg, RuntimeWarning)\n",
        "/Library/Python/2.7/site-packages/scipy-0.13.0.dev_c31f167_20130514-py2.7-macosx-10.8-intel.egg/scipy/optimize/zeros.py:149: RuntimeWarning: Tolerance of 1.14630316838e+17 reached\n",
        "  warnings.warn(msg, RuntimeWarning)\n"
       ]
      },
      {
       "output_type": "stream",
       "stream": "stderr",
       "text": [
        "/Library/Python/2.7/site-packages/scipy-0.13.0.dev_c31f167_20130514-py2.7-macosx-10.8-intel.egg/scipy/optimize/zeros.py:149: RuntimeWarning: Tolerance of -5.6267409655e+16 reached\n",
        "  warnings.warn(msg, RuntimeWarning)\n",
        "/Library/Python/2.7/site-packages/scipy-0.13.0.dev_c31f167_20130514-py2.7-macosx-10.8-intel.egg/scipy/optimize/zeros.py:149: RuntimeWarning: Tolerance of -6.72535652236e+15 reached\n",
        "  warnings.warn(msg, RuntimeWarning)\n"
       ]
      },
      {
       "output_type": "stream",
       "stream": "stderr",
       "text": [
        "/Library/Python/2.7/site-packages/scipy-0.13.0.dev_c31f167_20130514-py2.7-macosx-10.8-intel.egg/scipy/optimize/zeros.py:149: RuntimeWarning: Tolerance of 1.78281161275e+14 reached\n",
        "  warnings.warn(msg, RuntimeWarning)\n",
        "/Library/Python/2.7/site-packages/scipy-0.13.0.dev_c31f167_20130514-py2.7-macosx-10.8-intel.egg/scipy/optimize/zeros.py:149: RuntimeWarning: Tolerance of 3.01001928942e+16 reached\n",
        "  warnings.warn(msg, RuntimeWarning)\n"
       ]
      },
      {
       "output_type": "stream",
       "stream": "stderr",
       "text": [
        "/Library/Python/2.7/site-packages/scipy-0.13.0.dev_c31f167_20130514-py2.7-macosx-10.8-intel.egg/scipy/optimize/zeros.py:149: RuntimeWarning: Tolerance of -7.29401560302e+15 reached\n",
        "  warnings.warn(msg, RuntimeWarning)\n",
        "/Library/Python/2.7/site-packages/scipy-0.13.0.dev_c31f167_20130514-py2.7-macosx-10.8-intel.egg/scipy/optimize/zeros.py:149: RuntimeWarning: Tolerance of -1.53630513564e+16 reached\n",
        "  warnings.warn(msg, RuntimeWarning)\n"
       ]
      },
      {
       "output_type": "stream",
       "stream": "stderr",
       "text": [
        "/Library/Python/2.7/site-packages/scipy-0.13.0.dev_c31f167_20130514-py2.7-macosx-10.8-intel.egg/scipy/optimize/zeros.py:149: RuntimeWarning: Tolerance of -5.81487249485e+16 reached\n",
        "  warnings.warn(msg, RuntimeWarning)\n",
        "/Library/Python/2.7/site-packages/scipy-0.13.0.dev_c31f167_20130514-py2.7-macosx-10.8-intel.egg/scipy/optimize/zeros.py:149: RuntimeWarning: Tolerance of -2.25056892632e+16 reached\n",
        "  warnings.warn(msg, RuntimeWarning)\n"
       ]
      },
      {
       "output_type": "stream",
       "stream": "stderr",
       "text": [
        "/Library/Python/2.7/site-packages/scipy-0.13.0.dev_c31f167_20130514-py2.7-macosx-10.8-intel.egg/scipy/optimize/zeros.py:149: RuntimeWarning: Tolerance of -5.07309959372e+14 reached\n",
        "  warnings.warn(msg, RuntimeWarning)\n",
        "/Library/Python/2.7/site-packages/scipy-0.13.0.dev_c31f167_20130514-py2.7-macosx-10.8-intel.egg/scipy/optimize/zeros.py:149: RuntimeWarning: Tolerance of 2.18681100315e+15 reached\n",
        "  warnings.warn(msg, RuntimeWarning)\n"
       ]
      },
      {
       "output_type": "stream",
       "stream": "stderr",
       "text": [
        "/Library/Python/2.7/site-packages/scipy-0.13.0.dev_c31f167_20130514-py2.7-macosx-10.8-intel.egg/scipy/optimize/zeros.py:149: RuntimeWarning: Tolerance of 5.17829366366e+14 reached\n",
        "  warnings.warn(msg, RuntimeWarning)\n",
        "/Library/Python/2.7/site-packages/scipy-0.13.0.dev_c31f167_20130514-py2.7-macosx-10.8-intel.egg/scipy/optimize/zeros.py:149: RuntimeWarning: Tolerance of 8.61932826448e+13 reached\n",
        "  warnings.warn(msg, RuntimeWarning)\n"
       ]
      },
      {
       "output_type": "stream",
       "stream": "stderr",
       "text": [
        "/Library/Python/2.7/site-packages/scipy-0.13.0.dev_c31f167_20130514-py2.7-macosx-10.8-intel.egg/scipy/optimize/zeros.py:149: RuntimeWarning: Tolerance of 8.00052358338e+15 reached\n",
        "  warnings.warn(msg, RuntimeWarning)\n",
        "/Library/Python/2.7/site-packages/scipy-0.13.0.dev_c31f167_20130514-py2.7-macosx-10.8-intel.egg/scipy/optimize/zeros.py:149: RuntimeWarning: Tolerance of 2.13720227269e+15 reached\n",
        "  warnings.warn(msg, RuntimeWarning)\n"
       ]
      },
      {
       "output_type": "stream",
       "stream": "stderr",
       "text": [
        "/Library/Python/2.7/site-packages/scipy-0.13.0.dev_c31f167_20130514-py2.7-macosx-10.8-intel.egg/scipy/optimize/zeros.py:149: RuntimeWarning: Tolerance of -9.36446993541e+16 reached\n",
        "  warnings.warn(msg, RuntimeWarning)\n",
        "/Library/Python/2.7/site-packages/scipy-0.13.0.dev_c31f167_20130514-py2.7-macosx-10.8-intel.egg/scipy/optimize/zeros.py:149: RuntimeWarning: Tolerance of 7.70253360548e+13 reached\n",
        "  warnings.warn(msg, RuntimeWarning)\n"
       ]
      },
      {
       "output_type": "stream",
       "stream": "stderr",
       "text": [
        "/Library/Python/2.7/site-packages/scipy-0.13.0.dev_c31f167_20130514-py2.7-macosx-10.8-intel.egg/scipy/optimize/zeros.py:149: RuntimeWarning: Tolerance of 1.03140810722e+14 reached\n",
        "  warnings.warn(msg, RuntimeWarning)\n",
        "/Library/Python/2.7/site-packages/scipy-0.13.0.dev_c31f167_20130514-py2.7-macosx-10.8-intel.egg/scipy/optimize/zeros.py:149: RuntimeWarning: Tolerance of -5.60862719834e+16 reached\n",
        "  warnings.warn(msg, RuntimeWarning)\n"
       ]
      },
      {
       "output_type": "stream",
       "stream": "stderr",
       "text": [
        "/Library/Python/2.7/site-packages/scipy-0.13.0.dev_c31f167_20130514-py2.7-macosx-10.8-intel.egg/scipy/optimize/zeros.py:149: RuntimeWarning: Tolerance of 2.10208889231e+15 reached\n",
        "  warnings.warn(msg, RuntimeWarning)\n",
        "/Library/Python/2.7/site-packages/scipy-0.13.0.dev_c31f167_20130514-py2.7-macosx-10.8-intel.egg/scipy/optimize/zeros.py:149: RuntimeWarning: Tolerance of 5.65221780588e+14 reached\n",
        "  warnings.warn(msg, RuntimeWarning)\n"
       ]
      },
      {
       "output_type": "stream",
       "stream": "stderr",
       "text": [
        "/Library/Python/2.7/site-packages/scipy-0.13.0.dev_c31f167_20130514-py2.7-macosx-10.8-intel.egg/scipy/optimize/zeros.py:149: RuntimeWarning: Tolerance of -5.43639324495e+14 reached\n",
        "  warnings.warn(msg, RuntimeWarning)\n",
        "/Library/Python/2.7/site-packages/scipy-0.13.0.dev_c31f167_20130514-py2.7-macosx-10.8-intel.egg/scipy/optimize/zeros.py:149: RuntimeWarning: Tolerance of 5.12851262262e+14 reached\n",
        "  warnings.warn(msg, RuntimeWarning)\n"
       ]
      },
      {
       "output_type": "stream",
       "stream": "stderr",
       "text": [
        "/Library/Python/2.7/site-packages/scipy-0.13.0.dev_c31f167_20130514-py2.7-macosx-10.8-intel.egg/scipy/optimize/zeros.py:149: RuntimeWarning: Tolerance of 2.78308986066e+15 reached\n",
        "  warnings.warn(msg, RuntimeWarning)\n",
        "/Library/Python/2.7/site-packages/scipy-0.13.0.dev_c31f167_20130514-py2.7-macosx-10.8-intel.egg/scipy/optimize/zeros.py:149: RuntimeWarning: Tolerance of 7.88528050425e+16 reached\n",
        "  warnings.warn(msg, RuntimeWarning)\n"
       ]
      },
      {
       "output_type": "stream",
       "stream": "stderr",
       "text": [
        "/Library/Python/2.7/site-packages/scipy-0.13.0.dev_c31f167_20130514-py2.7-macosx-10.8-intel.egg/scipy/optimize/zeros.py:149: RuntimeWarning: Tolerance of 8.78188667154e+15 reached\n",
        "  warnings.warn(msg, RuntimeWarning)\n",
        "/Library/Python/2.7/site-packages/scipy-0.13.0.dev_c31f167_20130514-py2.7-macosx-10.8-intel.egg/scipy/optimize/zeros.py:149: RuntimeWarning: Tolerance of 1.92424787768e+15 reached\n",
        "  warnings.warn(msg, RuntimeWarning)\n"
       ]
      },
      {
       "output_type": "stream",
       "stream": "stderr",
       "text": [
        "/Library/Python/2.7/site-packages/scipy-0.13.0.dev_c31f167_20130514-py2.7-macosx-10.8-intel.egg/scipy/optimize/zeros.py:149: RuntimeWarning: Tolerance of -1.07159913403e+15 reached\n",
        "  warnings.warn(msg, RuntimeWarning)\n",
        "/Library/Python/2.7/site-packages/scipy-0.13.0.dev_c31f167_20130514-py2.7-macosx-10.8-intel.egg/scipy/optimize/zeros.py:149: RuntimeWarning: Tolerance of -1.13566391292e+15 reached\n",
        "  warnings.warn(msg, RuntimeWarning)\n"
       ]
      },
      {
       "output_type": "stream",
       "stream": "stderr",
       "text": [
        "/Library/Python/2.7/site-packages/scipy-0.13.0.dev_c31f167_20130514-py2.7-macosx-10.8-intel.egg/scipy/optimize/zeros.py:149: RuntimeWarning: Tolerance of 8.42645173082e+15 reached\n",
        "  warnings.warn(msg, RuntimeWarning)\n",
        "/Library/Python/2.7/site-packages/scipy-0.13.0.dev_c31f167_20130514-py2.7-macosx-10.8-intel.egg/scipy/optimize/zeros.py:149: RuntimeWarning: Tolerance of -4.8015342053e+12 reached\n",
        "  warnings.warn(msg, RuntimeWarning)\n"
       ]
      },
      {
       "output_type": "stream",
       "stream": "stderr",
       "text": [
        "/Library/Python/2.7/site-packages/scipy-0.13.0.dev_c31f167_20130514-py2.7-macosx-10.8-intel.egg/scipy/optimize/zeros.py:149: RuntimeWarning: Tolerance of 2.7024369623e+15 reached\n",
        "  warnings.warn(msg, RuntimeWarning)\n",
        "/Library/Python/2.7/site-packages/scipy-0.13.0.dev_c31f167_20130514-py2.7-macosx-10.8-intel.egg/scipy/optimize/zeros.py:149: RuntimeWarning: Tolerance of -1.1140760499e+15 reached\n",
        "  warnings.warn(msg, RuntimeWarning)\n"
       ]
      },
      {
       "output_type": "stream",
       "stream": "stderr",
       "text": [
        "/Library/Python/2.7/site-packages/scipy-0.13.0.dev_c31f167_20130514-py2.7-macosx-10.8-intel.egg/scipy/optimize/zeros.py:149: RuntimeWarning: Tolerance of -4.75332088351e+17 reached\n",
        "  warnings.warn(msg, RuntimeWarning)\n",
        "/Library/Python/2.7/site-packages/scipy-0.13.0.dev_c31f167_20130514-py2.7-macosx-10.8-intel.egg/scipy/optimize/zeros.py:149: RuntimeWarning: Tolerance of 2.91043474415e+12 reached\n",
        "  warnings.warn(msg, RuntimeWarning)\n"
       ]
      },
      {
       "output_type": "stream",
       "stream": "stderr",
       "text": [
        "/Library/Python/2.7/site-packages/scipy-0.13.0.dev_c31f167_20130514-py2.7-macosx-10.8-intel.egg/scipy/optimize/zeros.py:149: RuntimeWarning: Tolerance of -1.77153294025e+15 reached\n",
        "  warnings.warn(msg, RuntimeWarning)\n",
        "/Library/Python/2.7/site-packages/scipy-0.13.0.dev_c31f167_20130514-py2.7-macosx-10.8-intel.egg/scipy/optimize/zeros.py:149: RuntimeWarning: Tolerance of -8.84197957657e+15 reached\n",
        "  warnings.warn(msg, RuntimeWarning)\n"
       ]
      },
      {
       "output_type": "stream",
       "stream": "stderr",
       "text": [
        "/Library/Python/2.7/site-packages/scipy-0.13.0.dev_c31f167_20130514-py2.7-macosx-10.8-intel.egg/scipy/optimize/zeros.py:149: RuntimeWarning: Tolerance of 1.00262874474e+15 reached\n",
        "  warnings.warn(msg, RuntimeWarning)\n",
        "/Library/Python/2.7/site-packages/scipy-0.13.0.dev_c31f167_20130514-py2.7-macosx-10.8-intel.egg/scipy/optimize/zeros.py:149: RuntimeWarning: Tolerance of -426237137916.0 reached\n",
        "  warnings.warn(msg, RuntimeWarning)\n"
       ]
      },
      {
       "output_type": "stream",
       "stream": "stderr",
       "text": [
        "/Library/Python/2.7/site-packages/scipy-0.13.0.dev_c31f167_20130514-py2.7-macosx-10.8-intel.egg/scipy/optimize/zeros.py:149: RuntimeWarning: Tolerance of 1.71820348944e+14 reached\n",
        "  warnings.warn(msg, RuntimeWarning)\n",
        "/Library/Python/2.7/site-packages/scipy-0.13.0.dev_c31f167_20130514-py2.7-macosx-10.8-intel.egg/scipy/optimize/zeros.py:149: RuntimeWarning: Tolerance of 1.02923362989e+15 reached\n",
        "  warnings.warn(msg, RuntimeWarning)\n"
       ]
      },
      {
       "output_type": "stream",
       "stream": "stderr",
       "text": [
        "/Library/Python/2.7/site-packages/scipy-0.13.0.dev_c31f167_20130514-py2.7-macosx-10.8-intel.egg/scipy/optimize/zeros.py:149: RuntimeWarning: Tolerance of 6.78153701441e+14 reached\n",
        "  warnings.warn(msg, RuntimeWarning)\n",
        "/Library/Python/2.7/site-packages/scipy-0.13.0.dev_c31f167_20130514-py2.7-macosx-10.8-intel.egg/scipy/optimize/zeros.py:149: RuntimeWarning: Tolerance of -1.75688499651e+16 reached\n",
        "  warnings.warn(msg, RuntimeWarning)\n"
       ]
      },
      {
       "output_type": "stream",
       "stream": "stderr",
       "text": [
        "/Library/Python/2.7/site-packages/scipy-0.13.0.dev_c31f167_20130514-py2.7-macosx-10.8-intel.egg/scipy/optimize/zeros.py:149: RuntimeWarning: Tolerance of 4.24746669269e+15 reached\n",
        "  warnings.warn(msg, RuntimeWarning)\n",
        "/Library/Python/2.7/site-packages/scipy-0.13.0.dev_c31f167_20130514-py2.7-macosx-10.8-intel.egg/scipy/optimize/zeros.py:149: RuntimeWarning: Tolerance of -1.74565942381e+16 reached\n",
        "  warnings.warn(msg, RuntimeWarning)\n"
       ]
      },
      {
       "output_type": "stream",
       "stream": "stderr",
       "text": [
        "/Library/Python/2.7/site-packages/scipy-0.13.0.dev_c31f167_20130514-py2.7-macosx-10.8-intel.egg/scipy/optimize/zeros.py:149: RuntimeWarning: Tolerance of -5.95060670825e+15 reached\n",
        "  warnings.warn(msg, RuntimeWarning)\n",
        "/Library/Python/2.7/site-packages/scipy-0.13.0.dev_c31f167_20130514-py2.7-macosx-10.8-intel.egg/scipy/optimize/zeros.py:149: RuntimeWarning: Tolerance of -4.84580492507e+15 reached\n",
        "  warnings.warn(msg, RuntimeWarning)\n"
       ]
      },
      {
       "output_type": "stream",
       "stream": "stderr",
       "text": [
        "/Library/Python/2.7/site-packages/scipy-0.13.0.dev_c31f167_20130514-py2.7-macosx-10.8-intel.egg/scipy/optimize/zeros.py:149: RuntimeWarning: Tolerance of 2.14264904543e+16 reached\n",
        "  warnings.warn(msg, RuntimeWarning)\n",
        "/Library/Python/2.7/site-packages/scipy-0.13.0.dev_c31f167_20130514-py2.7-macosx-10.8-intel.egg/scipy/optimize/zeros.py:149: RuntimeWarning: Tolerance of 6.33642363096e+16 reached\n",
        "  warnings.warn(msg, RuntimeWarning)\n"
       ]
      },
      {
       "output_type": "stream",
       "stream": "stderr",
       "text": [
        "/Library/Python/2.7/site-packages/scipy-0.13.0.dev_c31f167_20130514-py2.7-macosx-10.8-intel.egg/scipy/optimize/zeros.py:149: RuntimeWarning: Tolerance of -4.48500945106e+16 reached\n",
        "  warnings.warn(msg, RuntimeWarning)\n",
        "/Library/Python/2.7/site-packages/scipy-0.13.0.dev_c31f167_20130514-py2.7-macosx-10.8-intel.egg/scipy/optimize/zeros.py:149: RuntimeWarning: Tolerance of 2.76951350782e+16 reached\n",
        "  warnings.warn(msg, RuntimeWarning)\n"
       ]
      },
      {
       "output_type": "stream",
       "stream": "stderr",
       "text": [
        "/Library/Python/2.7/site-packages/scipy-0.13.0.dev_c31f167_20130514-py2.7-macosx-10.8-intel.egg/scipy/optimize/zeros.py:149: RuntimeWarning: Tolerance of -1.03261216308e+16 reached\n",
        "  warnings.warn(msg, RuntimeWarning)\n",
        "/Library/Python/2.7/site-packages/scipy-0.13.0.dev_c31f167_20130514-py2.7-macosx-10.8-intel.egg/scipy/optimize/zeros.py:149: RuntimeWarning: Tolerance of -1.38148032455e+13 reached\n",
        "  warnings.warn(msg, RuntimeWarning)\n"
       ]
      },
      {
       "output_type": "stream",
       "stream": "stderr",
       "text": [
        "/Library/Python/2.7/site-packages/scipy-0.13.0.dev_c31f167_20130514-py2.7-macosx-10.8-intel.egg/scipy/optimize/zeros.py:149: RuntimeWarning: Tolerance of 1.58905583425e+15 reached\n",
        "  warnings.warn(msg, RuntimeWarning)\n",
        "/Library/Python/2.7/site-packages/scipy-0.13.0.dev_c31f167_20130514-py2.7-macosx-10.8-intel.egg/scipy/optimize/zeros.py:149: RuntimeWarning: Tolerance of 4.8875105399e+16 reached\n",
        "  warnings.warn(msg, RuntimeWarning)\n"
       ]
      },
      {
       "output_type": "stream",
       "stream": "stderr",
       "text": [
        "/Library/Python/2.7/site-packages/scipy-0.13.0.dev_c31f167_20130514-py2.7-macosx-10.8-intel.egg/scipy/optimize/zeros.py:149: RuntimeWarning: Tolerance of 1.44570309467e+15 reached\n",
        "  warnings.warn(msg, RuntimeWarning)\n",
        "/Library/Python/2.7/site-packages/scipy-0.13.0.dev_c31f167_20130514-py2.7-macosx-10.8-intel.egg/scipy/optimize/zeros.py:149: RuntimeWarning: Tolerance of 8.12796846787e+15 reached\n",
        "  warnings.warn(msg, RuntimeWarning)\n"
       ]
      },
      {
       "output_type": "stream",
       "stream": "stderr",
       "text": [
        "/Library/Python/2.7/site-packages/scipy-0.13.0.dev_c31f167_20130514-py2.7-macosx-10.8-intel.egg/scipy/optimize/zeros.py:149: RuntimeWarning: Tolerance of 3.69742179937e+15 reached\n",
        "  warnings.warn(msg, RuntimeWarning)\n",
        "/Library/Python/2.7/site-packages/scipy-0.13.0.dev_c31f167_20130514-py2.7-macosx-10.8-intel.egg/scipy/optimize/zeros.py:149: RuntimeWarning: Tolerance of -2.59317499047e+16 reached\n",
        "  warnings.warn(msg, RuntimeWarning)\n"
       ]
      },
      {
       "output_type": "stream",
       "stream": "stdout",
       "text": [
        "\n",
        "deleting item T1map_LL"
       ]
      },
      {
       "output_type": "stream",
       "stream": "stdout",
       "text": [
        "\n",
        "deleting item T1map_LL_fitdict"
       ]
      },
      {
       "output_type": "stream",
       "stream": "stderr",
       "text": [
        "WARNING:sarpy.io.BRUKERIO:NSLICES not equal to number of ACQ_obj_order\n"
       ]
      },
      {
       "output_type": "stream",
       "stream": "stderr",
       "text": [
        "/Library/Python/2.7/site-packages/scipy-0.13.0.dev_c31f167_20130514-py2.7-macosx-10.8-intel.egg/scipy/optimize/zeros.py:149: RuntimeWarning: Tolerance of 1.53586003027e+15 reached\n",
        "  warnings.warn(msg, RuntimeWarning)\n",
        "/Library/Python/2.7/site-packages/scipy-0.13.0.dev_c31f167_20130514-py2.7-macosx-10.8-intel.egg/scipy/optimize/zeros.py:149: RuntimeWarning: Tolerance of -7.97086015334e+16 reached\n",
        "  warnings.warn(msg, RuntimeWarning)\n"
       ]
      },
      {
       "output_type": "stream",
       "stream": "stderr",
       "text": [
        "/Library/Python/2.7/site-packages/scipy-0.13.0.dev_c31f167_20130514-py2.7-macosx-10.8-intel.egg/scipy/optimize/zeros.py:149: RuntimeWarning: Tolerance of -2.4029984427e+16 reached\n",
        "  warnings.warn(msg, RuntimeWarning)\n",
        "/Library/Python/2.7/site-packages/scipy-0.13.0.dev_c31f167_20130514-py2.7-macosx-10.8-intel.egg/scipy/optimize/zeros.py:149: RuntimeWarning: Tolerance of 2.87861896403e+15 reached\n",
        "  warnings.warn(msg, RuntimeWarning)\n"
       ]
      },
      {
       "output_type": "stream",
       "stream": "stderr",
       "text": [
        "/Library/Python/2.7/site-packages/scipy-0.13.0.dev_c31f167_20130514-py2.7-macosx-10.8-intel.egg/scipy/optimize/zeros.py:149: RuntimeWarning: Tolerance of 4.75894030411e+13 reached\n",
        "  warnings.warn(msg, RuntimeWarning)\n",
        "/Library/Python/2.7/site-packages/scipy-0.13.0.dev_c31f167_20130514-py2.7-macosx-10.8-intel.egg/scipy/optimize/zeros.py:149: RuntimeWarning: Tolerance of -1.07994690032e+16 reached\n",
        "  warnings.warn(msg, RuntimeWarning)\n"
       ]
      },
      {
       "output_type": "stream",
       "stream": "stderr",
       "text": [
        "/Library/Python/2.7/site-packages/scipy-0.13.0.dev_c31f167_20130514-py2.7-macosx-10.8-intel.egg/scipy/optimize/zeros.py:149: RuntimeWarning: Tolerance of 4.31695536697e+16 reached\n",
        "  warnings.warn(msg, RuntimeWarning)\n",
        "/Library/Python/2.7/site-packages/scipy-0.13.0.dev_c31f167_20130514-py2.7-macosx-10.8-intel.egg/scipy/optimize/zeros.py:149: RuntimeWarning: Tolerance of -1.13320869787e+17 reached\n",
        "  warnings.warn(msg, RuntimeWarning)\n"
       ]
      },
      {
       "output_type": "stream",
       "stream": "stderr",
       "text": [
        "/Library/Python/2.7/site-packages/scipy-0.13.0.dev_c31f167_20130514-py2.7-macosx-10.8-intel.egg/scipy/optimize/zeros.py:149: RuntimeWarning: Tolerance of -1.83504936551e+16 reached\n",
        "  warnings.warn(msg, RuntimeWarning)\n",
        "/Library/Python/2.7/site-packages/scipy-0.13.0.dev_c31f167_20130514-py2.7-macosx-10.8-intel.egg/scipy/optimize/zeros.py:149: RuntimeWarning: Tolerance of -2.37435997983e+15 reached\n",
        "  warnings.warn(msg, RuntimeWarning)\n"
       ]
      },
      {
       "output_type": "stream",
       "stream": "stderr",
       "text": [
        "/Library/Python/2.7/site-packages/scipy-0.13.0.dev_c31f167_20130514-py2.7-macosx-10.8-intel.egg/scipy/optimize/zeros.py:149: RuntimeWarning: Tolerance of 3.52437312312e+13 reached\n",
        "  warnings.warn(msg, RuntimeWarning)\n",
        "/Library/Python/2.7/site-packages/scipy-0.13.0.dev_c31f167_20130514-py2.7-macosx-10.8-intel.egg/scipy/optimize/zeros.py:149: RuntimeWarning: Tolerance of -6.75756064621e+14 reached\n",
        "  warnings.warn(msg, RuntimeWarning)\n"
       ]
      },
      {
       "output_type": "stream",
       "stream": "stderr",
       "text": [
        "/Library/Python/2.7/site-packages/scipy-0.13.0.dev_c31f167_20130514-py2.7-macosx-10.8-intel.egg/scipy/optimize/zeros.py:149: RuntimeWarning: Tolerance of -99367337.6562 reached\n",
        "  warnings.warn(msg, RuntimeWarning)\n",
        "/Library/Python/2.7/site-packages/scipy-0.13.0.dev_c31f167_20130514-py2.7-macosx-10.8-intel.egg/scipy/optimize/zeros.py:149: RuntimeWarning: Tolerance of 3.54766041539e+15 reached\n",
        "  warnings.warn(msg, RuntimeWarning)\n"
       ]
      },
      {
       "output_type": "stream",
       "stream": "stderr",
       "text": [
        "/Library/Python/2.7/site-packages/scipy-0.13.0.dev_c31f167_20130514-py2.7-macosx-10.8-intel.egg/scipy/optimize/zeros.py:149: RuntimeWarning: Tolerance of -2.7555635275e+16 reached\n",
        "  warnings.warn(msg, RuntimeWarning)\n",
        "/Library/Python/2.7/site-packages/scipy-0.13.0.dev_c31f167_20130514-py2.7-macosx-10.8-intel.egg/scipy/optimize/zeros.py:149: RuntimeWarning: Tolerance of 3.60414395788e+15 reached\n",
        "  warnings.warn(msg, RuntimeWarning)\n"
       ]
      },
      {
       "output_type": "stream",
       "stream": "stderr",
       "text": [
        "/Library/Python/2.7/site-packages/scipy-0.13.0.dev_c31f167_20130514-py2.7-macosx-10.8-intel.egg/scipy/optimize/zeros.py:149: RuntimeWarning: Tolerance of 1.07656330413e+14 reached\n",
        "  warnings.warn(msg, RuntimeWarning)\n",
        "/Library/Python/2.7/site-packages/scipy-0.13.0.dev_c31f167_20130514-py2.7-macosx-10.8-intel.egg/scipy/optimize/zeros.py:149: RuntimeWarning: Tolerance of 9.36674388677e+15 reached\n",
        "  warnings.warn(msg, RuntimeWarning)\n"
       ]
      },
      {
       "output_type": "stream",
       "stream": "stderr",
       "text": [
        "/Library/Python/2.7/site-packages/scipy-0.13.0.dev_c31f167_20130514-py2.7-macosx-10.8-intel.egg/scipy/optimize/zeros.py:149: RuntimeWarning: Tolerance of -4.45402664534e+15 reached\n",
        "  warnings.warn(msg, RuntimeWarning)\n",
        "/Library/Python/2.7/site-packages/scipy-0.13.0.dev_c31f167_20130514-py2.7-macosx-10.8-intel.egg/scipy/optimize/zeros.py:149: RuntimeWarning: Tolerance of 5.85422354324e+14 reached\n",
        "  warnings.warn(msg, RuntimeWarning)\n"
       ]
      },
      {
       "output_type": "stream",
       "stream": "stderr",
       "text": [
        "/Library/Python/2.7/site-packages/scipy-0.13.0.dev_c31f167_20130514-py2.7-macosx-10.8-intel.egg/scipy/optimize/zeros.py:149: RuntimeWarning: Tolerance of 9.98245643805e+14 reached\n",
        "  warnings.warn(msg, RuntimeWarning)\n",
        "/Library/Python/2.7/site-packages/scipy-0.13.0.dev_c31f167_20130514-py2.7-macosx-10.8-intel.egg/scipy/optimize/zeros.py:149: RuntimeWarning: Tolerance of -1.89846780535e+16 reached\n",
        "  warnings.warn(msg, RuntimeWarning)\n"
       ]
      },
      {
       "output_type": "stream",
       "stream": "stderr",
       "text": [
        "/Library/Python/2.7/site-packages/scipy-0.13.0.dev_c31f167_20130514-py2.7-macosx-10.8-intel.egg/scipy/optimize/zeros.py:149: RuntimeWarning: Tolerance of 7.40614007253e+15 reached\n",
        "  warnings.warn(msg, RuntimeWarning)\n",
        "/Library/Python/2.7/site-packages/scipy-0.13.0.dev_c31f167_20130514-py2.7-macosx-10.8-intel.egg/scipy/optimize/zeros.py:149: RuntimeWarning: Tolerance of 9.74296274662e+14 reached\n",
        "  warnings.warn(msg, RuntimeWarning)\n"
       ]
      },
      {
       "output_type": "stream",
       "stream": "stderr",
       "text": [
        "/Library/Python/2.7/site-packages/scipy-0.13.0.dev_c31f167_20130514-py2.7-macosx-10.8-intel.egg/scipy/optimize/zeros.py:149: RuntimeWarning: Tolerance of 2.08154448996e+15 reached\n",
        "  warnings.warn(msg, RuntimeWarning)\n",
        "/Library/Python/2.7/site-packages/scipy-0.13.0.dev_c31f167_20130514-py2.7-macosx-10.8-intel.egg/scipy/optimize/zeros.py:149: RuntimeWarning: Tolerance of -1.62274698417e+16 reached\n",
        "  warnings.warn(msg, RuntimeWarning)\n"
       ]
      },
      {
       "output_type": "stream",
       "stream": "stderr",
       "text": [
        "/Library/Python/2.7/site-packages/scipy-0.13.0.dev_c31f167_20130514-py2.7-macosx-10.8-intel.egg/scipy/optimize/zeros.py:149: RuntimeWarning: Tolerance of 3.96389926334e+15 reached\n",
        "  warnings.warn(msg, RuntimeWarning)\n",
        "/Library/Python/2.7/site-packages/scipy-0.13.0.dev_c31f167_20130514-py2.7-macosx-10.8-intel.egg/scipy/optimize/zeros.py:149: RuntimeWarning: Tolerance of 8.45403347609e+15 reached\n",
        "  warnings.warn(msg, RuntimeWarning)\n"
       ]
      },
      {
       "output_type": "stream",
       "stream": "stderr",
       "text": [
        "/Library/Python/2.7/site-packages/scipy-0.13.0.dev_c31f167_20130514-py2.7-macosx-10.8-intel.egg/scipy/optimize/zeros.py:149: RuntimeWarning: Tolerance of -3.15256511299e+15 reached\n",
        "  warnings.warn(msg, RuntimeWarning)\n",
        "/Library/Python/2.7/site-packages/scipy-0.13.0.dev_c31f167_20130514-py2.7-macosx-10.8-intel.egg/scipy/optimize/zeros.py:149: RuntimeWarning: Tolerance of 1.17910185667e+16 reached\n",
        "  warnings.warn(msg, RuntimeWarning)\n"
       ]
      },
      {
       "output_type": "stream",
       "stream": "stderr",
       "text": [
        "/Library/Python/2.7/site-packages/scipy-0.13.0.dev_c31f167_20130514-py2.7-macosx-10.8-intel.egg/scipy/optimize/zeros.py:149: RuntimeWarning: Tolerance of 1.27100706566e+17 reached\n",
        "  warnings.warn(msg, RuntimeWarning)\n",
        "/Library/Python/2.7/site-packages/scipy-0.13.0.dev_c31f167_20130514-py2.7-macosx-10.8-intel.egg/scipy/optimize/zeros.py:149: RuntimeWarning: Tolerance of 6.26703336677e+15 reached\n",
        "  warnings.warn(msg, RuntimeWarning)\n"
       ]
      },
      {
       "output_type": "stream",
       "stream": "stderr",
       "text": [
        "/Library/Python/2.7/site-packages/scipy-0.13.0.dev_c31f167_20130514-py2.7-macosx-10.8-intel.egg/scipy/optimize/zeros.py:149: RuntimeWarning: Tolerance of 1.09106774003e+16 reached\n",
        "  warnings.warn(msg, RuntimeWarning)\n",
        "/Library/Python/2.7/site-packages/scipy-0.13.0.dev_c31f167_20130514-py2.7-macosx-10.8-intel.egg/scipy/optimize/zeros.py:149: RuntimeWarning: Tolerance of 5.38811507975e+16 reached\n",
        "  warnings.warn(msg, RuntimeWarning)\n"
       ]
      },
      {
       "output_type": "stream",
       "stream": "stderr",
       "text": [
        "/Library/Python/2.7/site-packages/scipy-0.13.0.dev_c31f167_20130514-py2.7-macosx-10.8-intel.egg/scipy/optimize/zeros.py:149: RuntimeWarning: Tolerance of 2.20328600234e+16 reached\n",
        "  warnings.warn(msg, RuntimeWarning)\n",
        "/Library/Python/2.7/site-packages/scipy-0.13.0.dev_c31f167_20130514-py2.7-macosx-10.8-intel.egg/scipy/optimize/zeros.py:149: RuntimeWarning: Tolerance of -7.51628350968e+15 reached\n",
        "  warnings.warn(msg, RuntimeWarning)\n"
       ]
      },
      {
       "output_type": "stream",
       "stream": "stderr",
       "text": [
        "/Library/Python/2.7/site-packages/scipy-0.13.0.dev_c31f167_20130514-py2.7-macosx-10.8-intel.egg/scipy/optimize/zeros.py:149: RuntimeWarning: Tolerance of -4.8179008569e+14 reached\n",
        "  warnings.warn(msg, RuntimeWarning)\n",
        "/Library/Python/2.7/site-packages/scipy-0.13.0.dev_c31f167_20130514-py2.7-macosx-10.8-intel.egg/scipy/optimize/zeros.py:149: RuntimeWarning: Tolerance of 3.85387726499e+18 reached\n",
        "  warnings.warn(msg, RuntimeWarning)\n"
       ]
      },
      {
       "output_type": "stream",
       "stream": "stderr",
       "text": [
        "/Library/Python/2.7/site-packages/scipy-0.13.0.dev_c31f167_20130514-py2.7-macosx-10.8-intel.egg/scipy/optimize/zeros.py:149: RuntimeWarning: Tolerance of -4.52882556092e+16 reached\n",
        "  warnings.warn(msg, RuntimeWarning)\n",
        "/Library/Python/2.7/site-packages/scipy-0.13.0.dev_c31f167_20130514-py2.7-macosx-10.8-intel.egg/scipy/optimize/zeros.py:149: RuntimeWarning: Tolerance of 2.3555878693e+16 reached\n",
        "  warnings.warn(msg, RuntimeWarning)\n"
       ]
      },
      {
       "output_type": "stream",
       "stream": "stderr",
       "text": [
        "/Library/Python/2.7/site-packages/scipy-0.13.0.dev_c31f167_20130514-py2.7-macosx-10.8-intel.egg/scipy/optimize/zeros.py:149: RuntimeWarning: Tolerance of 7.54408174835e+14 reached\n",
        "  warnings.warn(msg, RuntimeWarning)\n",
        "/Library/Python/2.7/site-packages/scipy-0.13.0.dev_c31f167_20130514-py2.7-macosx-10.8-intel.egg/scipy/optimize/zeros.py:149: RuntimeWarning: Tolerance of 1.84286524798e+16 reached\n",
        "  warnings.warn(msg, RuntimeWarning)\n"
       ]
      },
      {
       "output_type": "stream",
       "stream": "stderr",
       "text": [
        "/Library/Python/2.7/site-packages/scipy-0.13.0.dev_c31f167_20130514-py2.7-macosx-10.8-intel.egg/scipy/optimize/zeros.py:149: RuntimeWarning: Tolerance of -4.8247640178e+14 reached\n",
        "  warnings.warn(msg, RuntimeWarning)\n",
        "/Library/Python/2.7/site-packages/scipy-0.13.0.dev_c31f167_20130514-py2.7-macosx-10.8-intel.egg/scipy/optimize/zeros.py:149: RuntimeWarning: Tolerance of 1.41118277322e+15 reached\n",
        "  warnings.warn(msg, RuntimeWarning)\n"
       ]
      },
      {
       "output_type": "stream",
       "stream": "stderr",
       "text": [
        "/Library/Python/2.7/site-packages/scipy-0.13.0.dev_c31f167_20130514-py2.7-macosx-10.8-intel.egg/scipy/optimize/zeros.py:149: RuntimeWarning: Tolerance of -1.7206716374e+17 reached\n",
        "  warnings.warn(msg, RuntimeWarning)\n",
        "/Library/Python/2.7/site-packages/scipy-0.13.0.dev_c31f167_20130514-py2.7-macosx-10.8-intel.egg/scipy/optimize/zeros.py:149: RuntimeWarning: Tolerance of -4.84428406708e+13 reached\n",
        "  warnings.warn(msg, RuntimeWarning)\n"
       ]
      },
      {
       "output_type": "stream",
       "stream": "stderr",
       "text": [
        "/Library/Python/2.7/site-packages/scipy-0.13.0.dev_c31f167_20130514-py2.7-macosx-10.8-intel.egg/scipy/optimize/zeros.py:149: RuntimeWarning: Tolerance of -8.37429674425e+15 reached\n",
        "  warnings.warn(msg, RuntimeWarning)\n",
        "/Library/Python/2.7/site-packages/scipy-0.13.0.dev_c31f167_20130514-py2.7-macosx-10.8-intel.egg/scipy/optimize/zeros.py:149: RuntimeWarning: Tolerance of -2.10250072618e+12 reached\n",
        "  warnings.warn(msg, RuntimeWarning)\n"
       ]
      },
      {
       "output_type": "stream",
       "stream": "stderr",
       "text": [
        "/Library/Python/2.7/site-packages/scipy-0.13.0.dev_c31f167_20130514-py2.7-macosx-10.8-intel.egg/scipy/optimize/zeros.py:149: RuntimeWarning: Tolerance of -2.37492862468e+14 reached\n",
        "  warnings.warn(msg, RuntimeWarning)\n",
        "/Library/Python/2.7/site-packages/scipy-0.13.0.dev_c31f167_20130514-py2.7-macosx-10.8-intel.egg/scipy/optimize/zeros.py:149: RuntimeWarning: Tolerance of -5.27849042562e+16 reached\n",
        "  warnings.warn(msg, RuntimeWarning)\n"
       ]
      },
      {
       "output_type": "stream",
       "stream": "stderr",
       "text": [
        "/Library/Python/2.7/site-packages/scipy-0.13.0.dev_c31f167_20130514-py2.7-macosx-10.8-intel.egg/scipy/optimize/zeros.py:149: RuntimeWarning: Tolerance of -6.50098588332e+14 reached\n",
        "  warnings.warn(msg, RuntimeWarning)\n",
        "/Library/Python/2.7/site-packages/scipy-0.13.0.dev_c31f167_20130514-py2.7-macosx-10.8-intel.egg/scipy/optimize/zeros.py:149: RuntimeWarning: Tolerance of -2.68843663976e+14 reached\n",
        "  warnings.warn(msg, RuntimeWarning)\n"
       ]
      },
      {
       "output_type": "stream",
       "stream": "stderr",
       "text": [
        "/Library/Python/2.7/site-packages/scipy-0.13.0.dev_c31f167_20130514-py2.7-macosx-10.8-intel.egg/scipy/optimize/zeros.py:149: RuntimeWarning: Tolerance of -3.36579343177e+13 reached\n",
        "  warnings.warn(msg, RuntimeWarning)\n",
        "/Library/Python/2.7/site-packages/scipy-0.13.0.dev_c31f167_20130514-py2.7-macosx-10.8-intel.egg/scipy/optimize/zeros.py:149: RuntimeWarning: Tolerance of 1.01694977027e+15 reached\n",
        "  warnings.warn(msg, RuntimeWarning)\n"
       ]
      },
      {
       "output_type": "stream",
       "stream": "stderr",
       "text": [
        "/Library/Python/2.7/site-packages/scipy-0.13.0.dev_c31f167_20130514-py2.7-macosx-10.8-intel.egg/scipy/optimize/zeros.py:149: RuntimeWarning: Tolerance of 1.96315705678e+18 reached\n",
        "  warnings.warn(msg, RuntimeWarning)\n",
        "/Library/Python/2.7/site-packages/scipy-0.13.0.dev_c31f167_20130514-py2.7-macosx-10.8-intel.egg/scipy/optimize/zeros.py:149: RuntimeWarning: Tolerance of 5.14953705922e+15 reached\n",
        "  warnings.warn(msg, RuntimeWarning)\n"
       ]
      },
      {
       "output_type": "stream",
       "stream": "stderr",
       "text": [
        "/Library/Python/2.7/site-packages/scipy-0.13.0.dev_c31f167_20130514-py2.7-macosx-10.8-intel.egg/scipy/optimize/zeros.py:149: RuntimeWarning: Tolerance of 1.42855964585e+15 reached\n",
        "  warnings.warn(msg, RuntimeWarning)\n",
        "/Library/Python/2.7/site-packages/scipy-0.13.0.dev_c31f167_20130514-py2.7-macosx-10.8-intel.egg/scipy/optimize/zeros.py:149: RuntimeWarning: Tolerance of 9.66629746974e+15 reached\n",
        "  warnings.warn(msg, RuntimeWarning)\n"
       ]
      },
      {
       "output_type": "stream",
       "stream": "stderr",
       "text": [
        "/Library/Python/2.7/site-packages/scipy-0.13.0.dev_c31f167_20130514-py2.7-macosx-10.8-intel.egg/scipy/optimize/zeros.py:149: RuntimeWarning: Tolerance of 4.56171061216e+15 reached\n",
        "  warnings.warn(msg, RuntimeWarning)\n",
        "/Library/Python/2.7/site-packages/scipy-0.13.0.dev_c31f167_20130514-py2.7-macosx-10.8-intel.egg/scipy/optimize/zeros.py:149: RuntimeWarning: Tolerance of -1.11434893584e+15 reached\n",
        "  warnings.warn(msg, RuntimeWarning)\n"
       ]
      },
      {
       "output_type": "stream",
       "stream": "stderr",
       "text": [
        "/Library/Python/2.7/site-packages/scipy-0.13.0.dev_c31f167_20130514-py2.7-macosx-10.8-intel.egg/scipy/optimize/zeros.py:149: RuntimeWarning: Tolerance of 8.69083398438e+14 reached\n",
        "  warnings.warn(msg, RuntimeWarning)\n",
        "/Library/Python/2.7/site-packages/scipy-0.13.0.dev_c31f167_20130514-py2.7-macosx-10.8-intel.egg/scipy/optimize/zeros.py:149: RuntimeWarning: Tolerance of -8.29925297705e+15 reached\n",
        "  warnings.warn(msg, RuntimeWarning)\n"
       ]
      },
      {
       "output_type": "stream",
       "stream": "stderr",
       "text": [
        "/Library/Python/2.7/site-packages/scipy-0.13.0.dev_c31f167_20130514-py2.7-macosx-10.8-intel.egg/scipy/optimize/zeros.py:149: RuntimeWarning: Tolerance of -6.74248160735e+14 reached\n",
        "  warnings.warn(msg, RuntimeWarning)\n",
        "/Library/Python/2.7/site-packages/scipy-0.13.0.dev_c31f167_20130514-py2.7-macosx-10.8-intel.egg/scipy/optimize/zeros.py:149: RuntimeWarning: Tolerance of -3.78893653846e+15 reached\n",
        "  warnings.warn(msg, RuntimeWarning)\n"
       ]
      },
      {
       "output_type": "stream",
       "stream": "stderr",
       "text": [
        "/Library/Python/2.7/site-packages/scipy-0.13.0.dev_c31f167_20130514-py2.7-macosx-10.8-intel.egg/scipy/optimize/zeros.py:149: RuntimeWarning: Tolerance of 2.40703183725e+15 reached\n",
        "  warnings.warn(msg, RuntimeWarning)\n",
        "/Library/Python/2.7/site-packages/scipy-0.13.0.dev_c31f167_20130514-py2.7-macosx-10.8-intel.egg/scipy/optimize/zeros.py:149: RuntimeWarning: Tolerance of 1.95677323912e+17 reached\n",
        "  warnings.warn(msg, RuntimeWarning)\n"
       ]
      },
      {
       "output_type": "stream",
       "stream": "stderr",
       "text": [
        "/Library/Python/2.7/site-packages/scipy-0.13.0.dev_c31f167_20130514-py2.7-macosx-10.8-intel.egg/scipy/optimize/zeros.py:149: RuntimeWarning: Tolerance of -6.13027781722e+12 reached\n",
        "  warnings.warn(msg, RuntimeWarning)\n",
        "/Library/Python/2.7/site-packages/scipy-0.13.0.dev_c31f167_20130514-py2.7-macosx-10.8-intel.egg/scipy/optimize/zeros.py:149: RuntimeWarning: Tolerance of -8.01226062064e+17 reached\n",
        "  warnings.warn(msg, RuntimeWarning)\n"
       ]
      },
      {
       "output_type": "stream",
       "stream": "stderr",
       "text": [
        "/Library/Python/2.7/site-packages/scipy-0.13.0.dev_c31f167_20130514-py2.7-macosx-10.8-intel.egg/scipy/optimize/zeros.py:149: RuntimeWarning: Tolerance of -3.10828363411e+17 reached\n",
        "  warnings.warn(msg, RuntimeWarning)\n",
        "/Library/Python/2.7/site-packages/scipy-0.13.0.dev_c31f167_20130514-py2.7-macosx-10.8-intel.egg/scipy/optimize/zeros.py:149: RuntimeWarning: Tolerance of -1.31015986055e+15 reached\n",
        "  warnings.warn(msg, RuntimeWarning)\n"
       ]
      },
      {
       "output_type": "stream",
       "stream": "stderr",
       "text": [
        "/Library/Python/2.7/site-packages/scipy-0.13.0.dev_c31f167_20130514-py2.7-macosx-10.8-intel.egg/scipy/optimize/zeros.py:149: RuntimeWarning: Tolerance of 1.86911861398e+15 reached\n",
        "  warnings.warn(msg, RuntimeWarning)\n",
        "/Library/Python/2.7/site-packages/scipy-0.13.0.dev_c31f167_20130514-py2.7-macosx-10.8-intel.egg/scipy/optimize/zeros.py:149: RuntimeWarning: Tolerance of -1.82942427433e+16 reached\n",
        "  warnings.warn(msg, RuntimeWarning)\n"
       ]
      },
      {
       "output_type": "stream",
       "stream": "stdout",
       "text": [
        "\n",
        "deleting item T1map_LL"
       ]
      },
      {
       "output_type": "stream",
       "stream": "stdout",
       "text": [
        "\n",
        "deleting item T1map_LL_fitdict"
       ]
      },
      {
       "output_type": "stream",
       "stream": "stderr",
       "text": [
        "WARNING:sarpy.io.BRUKERIO:NSLICES not equal to number of ACQ_obj_order\n"
       ]
      },
      {
       "output_type": "stream",
       "stream": "stderr",
       "text": [
        "/Library/Python/2.7/site-packages/scipy-0.13.0.dev_c31f167_20130514-py2.7-macosx-10.8-intel.egg/scipy/optimize/zeros.py:149: RuntimeWarning: Tolerance of 1.70034207018e+13 reached\n",
        "  warnings.warn(msg, RuntimeWarning)\n",
        "/Library/Python/2.7/site-packages/scipy-0.13.0.dev_c31f167_20130514-py2.7-macosx-10.8-intel.egg/scipy/optimize/zeros.py:149: RuntimeWarning: Tolerance of -6.02563504479e+15 reached\n",
        "  warnings.warn(msg, RuntimeWarning)\n"
       ]
      },
      {
       "output_type": "stream",
       "stream": "stderr",
       "text": [
        "/Library/Python/2.7/site-packages/scipy-0.13.0.dev_c31f167_20130514-py2.7-macosx-10.8-intel.egg/scipy/optimize/zeros.py:149: RuntimeWarning: Tolerance of -9.00767948349e+15 reached\n",
        "  warnings.warn(msg, RuntimeWarning)\n",
        "/Library/Python/2.7/site-packages/scipy-0.13.0.dev_c31f167_20130514-py2.7-macosx-10.8-intel.egg/scipy/optimize/zeros.py:149: RuntimeWarning: Tolerance of -1.04635100129e+15 reached\n",
        "  warnings.warn(msg, RuntimeWarning)\n"
       ]
      },
      {
       "output_type": "stream",
       "stream": "stderr",
       "text": [
        "/Library/Python/2.7/site-packages/scipy-0.13.0.dev_c31f167_20130514-py2.7-macosx-10.8-intel.egg/scipy/optimize/zeros.py:149: RuntimeWarning: Tolerance of -3.81378921417e+13 reached\n",
        "  warnings.warn(msg, RuntimeWarning)\n",
        "/Library/Python/2.7/site-packages/scipy-0.13.0.dev_c31f167_20130514-py2.7-macosx-10.8-intel.egg/scipy/optimize/zeros.py:149: RuntimeWarning: Tolerance of 1.23660101118e+14 reached\n",
        "  warnings.warn(msg, RuntimeWarning)\n"
       ]
      },
      {
       "output_type": "stream",
       "stream": "stderr",
       "text": [
        "/Library/Python/2.7/site-packages/scipy-0.13.0.dev_c31f167_20130514-py2.7-macosx-10.8-intel.egg/scipy/optimize/zeros.py:149: RuntimeWarning: Tolerance of -4.48130386454e+15 reached\n",
        "  warnings.warn(msg, RuntimeWarning)\n",
        "/Library/Python/2.7/site-packages/scipy-0.13.0.dev_c31f167_20130514-py2.7-macosx-10.8-intel.egg/scipy/optimize/zeros.py:149: RuntimeWarning: Tolerance of -7.11746316685e+14 reached\n",
        "  warnings.warn(msg, RuntimeWarning)\n"
       ]
      },
      {
       "output_type": "stream",
       "stream": "stderr",
       "text": [
        "/Library/Python/2.7/site-packages/scipy-0.13.0.dev_c31f167_20130514-py2.7-macosx-10.8-intel.egg/scipy/optimize/zeros.py:149: RuntimeWarning: Tolerance of 5.30066600155e+13 reached\n",
        "  warnings.warn(msg, RuntimeWarning)\n",
        "/Library/Python/2.7/site-packages/scipy-0.13.0.dev_c31f167_20130514-py2.7-macosx-10.8-intel.egg/scipy/optimize/zeros.py:149: RuntimeWarning: Tolerance of 6.4372381179e+14 reached\n",
        "  warnings.warn(msg, RuntimeWarning)\n"
       ]
      },
      {
       "output_type": "stream",
       "stream": "stderr",
       "text": [
        "/Library/Python/2.7/site-packages/scipy-0.13.0.dev_c31f167_20130514-py2.7-macosx-10.8-intel.egg/scipy/optimize/zeros.py:149: RuntimeWarning: Tolerance of -1.83939617212e+16 reached\n",
        "  warnings.warn(msg, RuntimeWarning)\n",
        "/Library/Python/2.7/site-packages/scipy-0.13.0.dev_c31f167_20130514-py2.7-macosx-10.8-intel.egg/scipy/optimize/zeros.py:149: RuntimeWarning: Tolerance of 5.28639540136e+15 reached\n",
        "  warnings.warn(msg, RuntimeWarning)\n"
       ]
      },
      {
       "output_type": "stream",
       "stream": "stderr",
       "text": [
        "/Library/Python/2.7/site-packages/scipy-0.13.0.dev_c31f167_20130514-py2.7-macosx-10.8-intel.egg/scipy/optimize/zeros.py:149: RuntimeWarning: Tolerance of 9.0989606688e+14 reached\n",
        "  warnings.warn(msg, RuntimeWarning)\n",
        "/Library/Python/2.7/site-packages/scipy-0.13.0.dev_c31f167_20130514-py2.7-macosx-10.8-intel.egg/scipy/optimize/zeros.py:149: RuntimeWarning: Tolerance of 1.6883280087e+16 reached\n",
        "  warnings.warn(msg, RuntimeWarning)\n"
       ]
      },
      {
       "output_type": "stream",
       "stream": "stderr",
       "text": [
        "/Library/Python/2.7/site-packages/scipy-0.13.0.dev_c31f167_20130514-py2.7-macosx-10.8-intel.egg/scipy/optimize/zeros.py:149: RuntimeWarning: Tolerance of -6.21171480471e+14 reached\n",
        "  warnings.warn(msg, RuntimeWarning)\n",
        "/Library/Python/2.7/site-packages/scipy-0.13.0.dev_c31f167_20130514-py2.7-macosx-10.8-intel.egg/scipy/optimize/zeros.py:149: RuntimeWarning: Tolerance of 4.26761946217e+12 reached\n",
        "  warnings.warn(msg, RuntimeWarning)\n"
       ]
      },
      {
       "output_type": "stream",
       "stream": "stderr",
       "text": [
        "/Library/Python/2.7/site-packages/scipy-0.13.0.dev_c31f167_20130514-py2.7-macosx-10.8-intel.egg/scipy/optimize/zeros.py:149: RuntimeWarning: Tolerance of 2.85925755852e+15 reached\n",
        "  warnings.warn(msg, RuntimeWarning)\n",
        "/Library/Python/2.7/site-packages/scipy-0.13.0.dev_c31f167_20130514-py2.7-macosx-10.8-intel.egg/scipy/optimize/zeros.py:149: RuntimeWarning: Tolerance of 1.17662104466e+16 reached\n",
        "  warnings.warn(msg, RuntimeWarning)\n"
       ]
      },
      {
       "output_type": "stream",
       "stream": "stderr",
       "text": [
        "/Library/Python/2.7/site-packages/scipy-0.13.0.dev_c31f167_20130514-py2.7-macosx-10.8-intel.egg/scipy/optimize/zeros.py:149: RuntimeWarning: Tolerance of -2.7944086575e+15 reached\n",
        "  warnings.warn(msg, RuntimeWarning)\n",
        "/Library/Python/2.7/site-packages/scipy-0.13.0.dev_c31f167_20130514-py2.7-macosx-10.8-intel.egg/scipy/optimize/zeros.py:149: RuntimeWarning: Tolerance of -2.86669502859e+14 reached\n",
        "  warnings.warn(msg, RuntimeWarning)\n"
       ]
      },
      {
       "output_type": "stream",
       "stream": "stderr",
       "text": [
        "/Library/Python/2.7/site-packages/scipy-0.13.0.dev_c31f167_20130514-py2.7-macosx-10.8-intel.egg/scipy/optimize/zeros.py:149: RuntimeWarning: Tolerance of -1.46781009095e+14 reached\n",
        "  warnings.warn(msg, RuntimeWarning)\n",
        "/Library/Python/2.7/site-packages/scipy-0.13.0.dev_c31f167_20130514-py2.7-macosx-10.8-intel.egg/scipy/optimize/zeros.py:149: RuntimeWarning: Tolerance of -9.73918542802e+15 reached\n",
        "  warnings.warn(msg, RuntimeWarning)\n"
       ]
      },
      {
       "output_type": "stream",
       "stream": "stderr",
       "text": [
        "/Library/Python/2.7/site-packages/scipy-0.13.0.dev_c31f167_20130514-py2.7-macosx-10.8-intel.egg/scipy/optimize/zeros.py:149: RuntimeWarning: Tolerance of -8.36538323989e+14 reached\n",
        "  warnings.warn(msg, RuntimeWarning)\n",
        "/Library/Python/2.7/site-packages/scipy-0.13.0.dev_c31f167_20130514-py2.7-macosx-10.8-intel.egg/scipy/optimize/zeros.py:149: RuntimeWarning: Tolerance of -1.8687231693e+15 reached\n",
        "  warnings.warn(msg, RuntimeWarning)\n"
       ]
      },
      {
       "output_type": "stream",
       "stream": "stderr",
       "text": [
        "/Library/Python/2.7/site-packages/scipy-0.13.0.dev_c31f167_20130514-py2.7-macosx-10.8-intel.egg/scipy/optimize/zeros.py:149: RuntimeWarning: Tolerance of -1.26891436699e+16 reached\n",
        "  warnings.warn(msg, RuntimeWarning)\n",
        "/Library/Python/2.7/site-packages/scipy-0.13.0.dev_c31f167_20130514-py2.7-macosx-10.8-intel.egg/scipy/optimize/zeros.py:149: RuntimeWarning: Tolerance of 4.39705092586e+13 reached\n",
        "  warnings.warn(msg, RuntimeWarning)\n"
       ]
      },
      {
       "output_type": "stream",
       "stream": "stderr",
       "text": [
        "/Library/Python/2.7/site-packages/scipy-0.13.0.dev_c31f167_20130514-py2.7-macosx-10.8-intel.egg/scipy/optimize/zeros.py:149: RuntimeWarning: Tolerance of 6.4453606824e+16 reached\n",
        "  warnings.warn(msg, RuntimeWarning)\n",
        "/Library/Python/2.7/site-packages/scipy-0.13.0.dev_c31f167_20130514-py2.7-macosx-10.8-intel.egg/scipy/optimize/zeros.py:149: RuntimeWarning: Tolerance of -2.6451118059e+14 reached\n",
        "  warnings.warn(msg, RuntimeWarning)\n"
       ]
      },
      {
       "output_type": "stream",
       "stream": "stderr",
       "text": [
        "/Library/Python/2.7/site-packages/scipy-0.13.0.dev_c31f167_20130514-py2.7-macosx-10.8-intel.egg/scipy/optimize/zeros.py:149: RuntimeWarning: Tolerance of -8.64341731418e+14 reached\n",
        "  warnings.warn(msg, RuntimeWarning)\n",
        "/Library/Python/2.7/site-packages/scipy-0.13.0.dev_c31f167_20130514-py2.7-macosx-10.8-intel.egg/scipy/optimize/zeros.py:149: RuntimeWarning: Tolerance of 3.73760166077e+16 reached\n",
        "  warnings.warn(msg, RuntimeWarning)\n"
       ]
      },
      {
       "output_type": "stream",
       "stream": "stderr",
       "text": [
        "/Library/Python/2.7/site-packages/scipy-0.13.0.dev_c31f167_20130514-py2.7-macosx-10.8-intel.egg/scipy/optimize/zeros.py:149: RuntimeWarning: Tolerance of -1.23124369728e+16 reached\n",
        "  warnings.warn(msg, RuntimeWarning)\n",
        "/Library/Python/2.7/site-packages/scipy-0.13.0.dev_c31f167_20130514-py2.7-macosx-10.8-intel.egg/scipy/optimize/zeros.py:149: RuntimeWarning: Tolerance of 9.05854627032e+14 reached\n",
        "  warnings.warn(msg, RuntimeWarning)\n"
       ]
      },
      {
       "output_type": "stream",
       "stream": "stderr",
       "text": [
        "/Library/Python/2.7/site-packages/scipy-0.13.0.dev_c31f167_20130514-py2.7-macosx-10.8-intel.egg/scipy/optimize/zeros.py:149: RuntimeWarning: Tolerance of -1.73704667751e+16 reached\n",
        "  warnings.warn(msg, RuntimeWarning)\n",
        "/Library/Python/2.7/site-packages/scipy-0.13.0.dev_c31f167_20130514-py2.7-macosx-10.8-intel.egg/scipy/optimize/zeros.py:149: RuntimeWarning: Tolerance of 3.15754591423e+16 reached\n",
        "  warnings.warn(msg, RuntimeWarning)\n"
       ]
      },
      {
       "output_type": "stream",
       "stream": "stderr",
       "text": [
        "/Library/Python/2.7/site-packages/scipy-0.13.0.dev_c31f167_20130514-py2.7-macosx-10.8-intel.egg/scipy/optimize/zeros.py:149: RuntimeWarning: Tolerance of -4.05077699387e+16 reached\n",
        "  warnings.warn(msg, RuntimeWarning)\n",
        "/Library/Python/2.7/site-packages/scipy-0.13.0.dev_c31f167_20130514-py2.7-macosx-10.8-intel.egg/scipy/optimize/zeros.py:149: RuntimeWarning: Tolerance of -1.87058085791e+17 reached\n",
        "  warnings.warn(msg, RuntimeWarning)\n"
       ]
      },
      {
       "output_type": "stream",
       "stream": "stderr",
       "text": [
        "/Library/Python/2.7/site-packages/scipy-0.13.0.dev_c31f167_20130514-py2.7-macosx-10.8-intel.egg/scipy/optimize/zeros.py:149: RuntimeWarning: Tolerance of -1.65490792764e+16 reached\n",
        "  warnings.warn(msg, RuntimeWarning)\n",
        "/Library/Python/2.7/site-packages/scipy-0.13.0.dev_c31f167_20130514-py2.7-macosx-10.8-intel.egg/scipy/optimize/zeros.py:149: RuntimeWarning: Tolerance of -2.31838393465e+16 reached\n",
        "  warnings.warn(msg, RuntimeWarning)\n"
       ]
      },
      {
       "output_type": "stream",
       "stream": "stderr",
       "text": [
        "/Library/Python/2.7/site-packages/scipy-0.13.0.dev_c31f167_20130514-py2.7-macosx-10.8-intel.egg/scipy/optimize/zeros.py:149: RuntimeWarning: Tolerance of -6.77586817845e+15 reached\n",
        "  warnings.warn(msg, RuntimeWarning)\n",
        "/Library/Python/2.7/site-packages/scipy-0.13.0.dev_c31f167_20130514-py2.7-macosx-10.8-intel.egg/scipy/optimize/zeros.py:149: RuntimeWarning: Tolerance of -3.65715315253e+15 reached\n",
        "  warnings.warn(msg, RuntimeWarning)\n"
       ]
      },
      {
       "output_type": "stream",
       "stream": "stderr",
       "text": [
        "/Library/Python/2.7/site-packages/scipy-0.13.0.dev_c31f167_20130514-py2.7-macosx-10.8-intel.egg/scipy/optimize/zeros.py:149: RuntimeWarning: Tolerance of 3.14057779979e+16 reached\n",
        "  warnings.warn(msg, RuntimeWarning)\n",
        "/Library/Python/2.7/site-packages/scipy-0.13.0.dev_c31f167_20130514-py2.7-macosx-10.8-intel.egg/scipy/optimize/zeros.py:149: RuntimeWarning: Tolerance of 5.81097339962e+15 reached\n",
        "  warnings.warn(msg, RuntimeWarning)\n"
       ]
      },
      {
       "output_type": "stream",
       "stream": "stderr",
       "text": [
        "/Library/Python/2.7/site-packages/scipy-0.13.0.dev_c31f167_20130514-py2.7-macosx-10.8-intel.egg/scipy/optimize/zeros.py:149: RuntimeWarning: Tolerance of 1.74837241729e+15 reached\n",
        "  warnings.warn(msg, RuntimeWarning)\n",
        "/Library/Python/2.7/site-packages/scipy-0.13.0.dev_c31f167_20130514-py2.7-macosx-10.8-intel.egg/scipy/optimize/zeros.py:149: RuntimeWarning: Tolerance of 3.36266043264e+15 reached\n",
        "  warnings.warn(msg, RuntimeWarning)\n"
       ]
      },
      {
       "output_type": "stream",
       "stream": "stderr",
       "text": [
        "/Library/Python/2.7/site-packages/scipy-0.13.0.dev_c31f167_20130514-py2.7-macosx-10.8-intel.egg/scipy/optimize/zeros.py:149: RuntimeWarning: Tolerance of -3.25247717132e+15 reached\n",
        "  warnings.warn(msg, RuntimeWarning)\n",
        "/Library/Python/2.7/site-packages/scipy-0.13.0.dev_c31f167_20130514-py2.7-macosx-10.8-intel.egg/scipy/optimize/zeros.py:149: RuntimeWarning: Tolerance of 1.02443439373e+15 reached\n",
        "  warnings.warn(msg, RuntimeWarning)\n"
       ]
      },
      {
       "output_type": "stream",
       "stream": "stderr",
       "text": [
        "/Library/Python/2.7/site-packages/scipy-0.13.0.dev_c31f167_20130514-py2.7-macosx-10.8-intel.egg/scipy/optimize/zeros.py:149: RuntimeWarning: Tolerance of -2.54146792048e+16 reached\n",
        "  warnings.warn(msg, RuntimeWarning)\n",
        "/Library/Python/2.7/site-packages/scipy-0.13.0.dev_c31f167_20130514-py2.7-macosx-10.8-intel.egg/scipy/optimize/zeros.py:149: RuntimeWarning: Tolerance of -1.15623760782e+15 reached\n",
        "  warnings.warn(msg, RuntimeWarning)\n"
       ]
      },
      {
       "output_type": "stream",
       "stream": "stderr",
       "text": [
        "/Library/Python/2.7/site-packages/scipy-0.13.0.dev_c31f167_20130514-py2.7-macosx-10.8-intel.egg/scipy/optimize/zeros.py:149: RuntimeWarning: Tolerance of 4.59805239879e+16 reached\n",
        "  warnings.warn(msg, RuntimeWarning)\n",
        "/Library/Python/2.7/site-packages/scipy-0.13.0.dev_c31f167_20130514-py2.7-macosx-10.8-intel.egg/scipy/optimize/zeros.py:149: RuntimeWarning: Tolerance of 1.98989584164e+15 reached\n",
        "  warnings.warn(msg, RuntimeWarning)\n"
       ]
      },
      {
       "output_type": "stream",
       "stream": "stderr",
       "text": [
        "/Library/Python/2.7/site-packages/scipy-0.13.0.dev_c31f167_20130514-py2.7-macosx-10.8-intel.egg/scipy/optimize/zeros.py:149: RuntimeWarning: Tolerance of 3.6198271538e+16 reached\n",
        "  warnings.warn(msg, RuntimeWarning)\n",
        "/Library/Python/2.7/site-packages/scipy-0.13.0.dev_c31f167_20130514-py2.7-macosx-10.8-intel.egg/scipy/optimize/zeros.py:149: RuntimeWarning: Tolerance of 7.39771721152e+14 reached\n",
        "  warnings.warn(msg, RuntimeWarning)\n"
       ]
      },
      {
       "output_type": "stream",
       "stream": "stderr",
       "text": [
        "/Library/Python/2.7/site-packages/scipy-0.13.0.dev_c31f167_20130514-py2.7-macosx-10.8-intel.egg/scipy/optimize/zeros.py:149: RuntimeWarning: Tolerance of -1.09624444406e+12 reached\n",
        "  warnings.warn(msg, RuntimeWarning)\n",
        "/Library/Python/2.7/site-packages/scipy-0.13.0.dev_c31f167_20130514-py2.7-macosx-10.8-intel.egg/scipy/optimize/zeros.py:149: RuntimeWarning: Tolerance of -6.31491351967e+16 reached\n",
        "  warnings.warn(msg, RuntimeWarning)\n"
       ]
      },
      {
       "output_type": "stream",
       "stream": "stderr",
       "text": [
        "/Library/Python/2.7/site-packages/scipy-0.13.0.dev_c31f167_20130514-py2.7-macosx-10.8-intel.egg/scipy/optimize/zeros.py:149: RuntimeWarning: Tolerance of 1.10251265869e+15 reached\n",
        "  warnings.warn(msg, RuntimeWarning)\n",
        "/Library/Python/2.7/site-packages/scipy-0.13.0.dev_c31f167_20130514-py2.7-macosx-10.8-intel.egg/scipy/optimize/zeros.py:149: RuntimeWarning: Tolerance of -1.05004732284e+16 reached\n",
        "  warnings.warn(msg, RuntimeWarning)\n"
       ]
      },
      {
       "output_type": "stream",
       "stream": "stderr",
       "text": [
        "/Library/Python/2.7/site-packages/scipy-0.13.0.dev_c31f167_20130514-py2.7-macosx-10.8-intel.egg/scipy/optimize/zeros.py:149: RuntimeWarning: Tolerance of -8.36511330913e+14 reached\n",
        "  warnings.warn(msg, RuntimeWarning)\n",
        "/Library/Python/2.7/site-packages/scipy-0.13.0.dev_c31f167_20130514-py2.7-macosx-10.8-intel.egg/scipy/optimize/zeros.py:149: RuntimeWarning: Tolerance of -2.22017100792e+15 reached\n",
        "  warnings.warn(msg, RuntimeWarning)\n"
       ]
      },
      {
       "output_type": "stream",
       "stream": "stderr",
       "text": [
        "/Library/Python/2.7/site-packages/scipy-0.13.0.dev_c31f167_20130514-py2.7-macosx-10.8-intel.egg/scipy/optimize/zeros.py:149: RuntimeWarning: Tolerance of 5.2814117899e+17 reached\n",
        "  warnings.warn(msg, RuntimeWarning)\n",
        "/Library/Python/2.7/site-packages/scipy-0.13.0.dev_c31f167_20130514-py2.7-macosx-10.8-intel.egg/scipy/optimize/zeros.py:149: RuntimeWarning: Tolerance of -1.04529786776e+14 reached\n",
        "  warnings.warn(msg, RuntimeWarning)\n"
       ]
      },
      {
       "output_type": "stream",
       "stream": "stderr",
       "text": [
        "/Library/Python/2.7/site-packages/scipy-0.13.0.dev_c31f167_20130514-py2.7-macosx-10.8-intel.egg/scipy/optimize/zeros.py:149: RuntimeWarning: Tolerance of -5.10238137857e+16 reached\n",
        "  warnings.warn(msg, RuntimeWarning)\n",
        "/Library/Python/2.7/site-packages/scipy-0.13.0.dev_c31f167_20130514-py2.7-macosx-10.8-intel.egg/scipy/optimize/zeros.py:149: RuntimeWarning: Tolerance of 5.89793893601e+15 reached\n",
        "  warnings.warn(msg, RuntimeWarning)\n"
       ]
      },
      {
       "output_type": "stream",
       "stream": "stderr",
       "text": [
        "/Library/Python/2.7/site-packages/scipy-0.13.0.dev_c31f167_20130514-py2.7-macosx-10.8-intel.egg/scipy/optimize/zeros.py:149: RuntimeWarning: Tolerance of -1.27895893665e+16 reached\n",
        "  warnings.warn(msg, RuntimeWarning)\n",
        "/Library/Python/2.7/site-packages/scipy-0.13.0.dev_c31f167_20130514-py2.7-macosx-10.8-intel.egg/scipy/optimize/zeros.py:149: RuntimeWarning: Tolerance of -8.62116849175e+15 reached\n",
        "  warnings.warn(msg, RuntimeWarning)\n"
       ]
      },
      {
       "output_type": "stream",
       "stream": "stderr",
       "text": [
        "/Library/Python/2.7/site-packages/scipy-0.13.0.dev_c31f167_20130514-py2.7-macosx-10.8-intel.egg/scipy/optimize/zeros.py:149: RuntimeWarning: Tolerance of 4.73594162192e+15 reached\n",
        "  warnings.warn(msg, RuntimeWarning)\n",
        "/Library/Python/2.7/site-packages/scipy-0.13.0.dev_c31f167_20130514-py2.7-macosx-10.8-intel.egg/scipy/optimize/zeros.py:149: RuntimeWarning: Tolerance of -4.74940033257e+13 reached\n",
        "  warnings.warn(msg, RuntimeWarning)\n"
       ]
      },
      {
       "output_type": "stream",
       "stream": "stderr",
       "text": [
        "/Library/Python/2.7/site-packages/scipy-0.13.0.dev_c31f167_20130514-py2.7-macosx-10.8-intel.egg/scipy/optimize/zeros.py:149: RuntimeWarning: Tolerance of -4.58790961418e+16 reached\n",
        "  warnings.warn(msg, RuntimeWarning)\n",
        "/Library/Python/2.7/site-packages/scipy-0.13.0.dev_c31f167_20130514-py2.7-macosx-10.8-intel.egg/scipy/optimize/zeros.py:149: RuntimeWarning: Tolerance of -5.01605910775e+15 reached\n",
        "  warnings.warn(msg, RuntimeWarning)\n"
       ]
      },
      {
       "output_type": "stream",
       "stream": "stderr",
       "text": [
        "/Library/Python/2.7/site-packages/scipy-0.13.0.dev_c31f167_20130514-py2.7-macosx-10.8-intel.egg/scipy/optimize/zeros.py:149: RuntimeWarning: Tolerance of 1.37183474356e+17 reached\n",
        "  warnings.warn(msg, RuntimeWarning)\n",
        "/Library/Python/2.7/site-packages/scipy-0.13.0.dev_c31f167_20130514-py2.7-macosx-10.8-intel.egg/scipy/optimize/zeros.py:149: RuntimeWarning: Tolerance of -1.71239285857e+16 reached\n",
        "  warnings.warn(msg, RuntimeWarning)\n"
       ]
      },
      {
       "output_type": "stream",
       "stream": "stderr",
       "text": [
        "/Library/Python/2.7/site-packages/scipy-0.13.0.dev_c31f167_20130514-py2.7-macosx-10.8-intel.egg/scipy/optimize/zeros.py:149: RuntimeWarning: Tolerance of 2.17717776024e+14 reached\n",
        "  warnings.warn(msg, RuntimeWarning)\n",
        "/Library/Python/2.7/site-packages/scipy-0.13.0.dev_c31f167_20130514-py2.7-macosx-10.8-intel.egg/scipy/optimize/zeros.py:149: RuntimeWarning: Tolerance of 3.7370187791e+15 reached\n",
        "  warnings.warn(msg, RuntimeWarning)\n"
       ]
      },
      {
       "output_type": "stream",
       "stream": "stderr",
       "text": [
        "/Library/Python/2.7/site-packages/scipy-0.13.0.dev_c31f167_20130514-py2.7-macosx-10.8-intel.egg/scipy/optimize/zeros.py:149: RuntimeWarning: Tolerance of 3.24862760134e+18 reached\n",
        "  warnings.warn(msg, RuntimeWarning)\n",
        "/Library/Python/2.7/site-packages/scipy-0.13.0.dev_c31f167_20130514-py2.7-macosx-10.8-intel.egg/scipy/optimize/zeros.py:149: RuntimeWarning: Tolerance of 2.04558021616e+14 reached\n",
        "  warnings.warn(msg, RuntimeWarning)\n"
       ]
      },
      {
       "output_type": "stream",
       "stream": "stderr",
       "text": [
        "/Library/Python/2.7/site-packages/scipy-0.13.0.dev_c31f167_20130514-py2.7-macosx-10.8-intel.egg/scipy/optimize/zeros.py:149: RuntimeWarning: Tolerance of 1.75574165832e+14 reached\n",
        "  warnings.warn(msg, RuntimeWarning)\n",
        "/Library/Python/2.7/site-packages/scipy-0.13.0.dev_c31f167_20130514-py2.7-macosx-10.8-intel.egg/scipy/optimize/zeros.py:149: RuntimeWarning: Tolerance of 4.78242617515e+15 reached\n",
        "  warnings.warn(msg, RuntimeWarning)\n"
       ]
      },
      {
       "output_type": "stream",
       "stream": "stderr",
       "text": [
        "/Library/Python/2.7/site-packages/scipy-0.13.0.dev_c31f167_20130514-py2.7-macosx-10.8-intel.egg/scipy/optimize/zeros.py:149: RuntimeWarning: Tolerance of 1.12411342278e+15 reached\n",
        "  warnings.warn(msg, RuntimeWarning)\n",
        "/Library/Python/2.7/site-packages/scipy-0.13.0.dev_c31f167_20130514-py2.7-macosx-10.8-intel.egg/scipy/optimize/zeros.py:149: RuntimeWarning: Tolerance of -1.23653442336e+16 reached\n",
        "  warnings.warn(msg, RuntimeWarning)\n"
       ]
      },
      {
       "output_type": "stream",
       "stream": "stdout",
       "text": [
        "\n",
        "deleting item T1map_LL"
       ]
      },
      {
       "output_type": "stream",
       "stream": "stdout",
       "text": [
        "\n",
        "deleting item T1map_LL_fitdict"
       ]
      },
      {
       "output_type": "stream",
       "stream": "stderr",
       "text": [
        "/Library/Python/2.7/site-packages/scipy-0.13.0.dev_c31f167_20130514-py2.7-macosx-10.8-intel.egg/scipy/optimize/zeros.py:149: RuntimeWarning: Tolerance of 6.501098107e+15 reached\n",
        "  warnings.warn(msg, RuntimeWarning)\n",
        "/Library/Python/2.7/site-packages/scipy-0.13.0.dev_c31f167_20130514-py2.7-macosx-10.8-intel.egg/scipy/optimize/zeros.py:149: RuntimeWarning: Tolerance of 4.88268226248e+16 reached\n",
        "  warnings.warn(msg, RuntimeWarning)\n",
        "WARNING:sarpy.io.BRUKERIO:NSLICES not equal to number of ACQ_obj_order\n"
       ]
      },
      {
       "output_type": "stream",
       "stream": "stderr",
       "text": [
        "/Library/Python/2.7/site-packages/scipy-0.13.0.dev_c31f167_20130514-py2.7-macosx-10.8-intel.egg/scipy/optimize/zeros.py:149: RuntimeWarning: Tolerance of 3.6670450429e+16 reached\n",
        "  warnings.warn(msg, RuntimeWarning)\n",
        "/Library/Python/2.7/site-packages/scipy-0.13.0.dev_c31f167_20130514-py2.7-macosx-10.8-intel.egg/scipy/optimize/zeros.py:149: RuntimeWarning: Tolerance of 6.54446174892e+15 reached\n",
        "  warnings.warn(msg, RuntimeWarning)\n"
       ]
      },
      {
       "output_type": "stream",
       "stream": "stderr",
       "text": [
        "/Library/Python/2.7/site-packages/scipy-0.13.0.dev_c31f167_20130514-py2.7-macosx-10.8-intel.egg/scipy/optimize/zeros.py:149: RuntimeWarning: Tolerance of -1.24644153798e+13 reached\n",
        "  warnings.warn(msg, RuntimeWarning)\n",
        "/Library/Python/2.7/site-packages/scipy-0.13.0.dev_c31f167_20130514-py2.7-macosx-10.8-intel.egg/scipy/optimize/zeros.py:149: RuntimeWarning: Tolerance of -8.05147436679e+15 reached\n",
        "  warnings.warn(msg, RuntimeWarning)\n"
       ]
      },
      {
       "output_type": "stream",
       "stream": "stderr",
       "text": [
        "/Library/Python/2.7/site-packages/scipy-0.13.0.dev_c31f167_20130514-py2.7-macosx-10.8-intel.egg/scipy/optimize/zeros.py:149: RuntimeWarning: Tolerance of 1.01687243157e+14 reached\n",
        "  warnings.warn(msg, RuntimeWarning)\n",
        "/Library/Python/2.7/site-packages/scipy-0.13.0.dev_c31f167_20130514-py2.7-macosx-10.8-intel.egg/scipy/optimize/zeros.py:149: RuntimeWarning: Tolerance of -2.15322396127e+14 reached\n",
        "  warnings.warn(msg, RuntimeWarning)\n"
       ]
      },
      {
       "output_type": "stream",
       "stream": "stderr",
       "text": [
        "/Library/Python/2.7/site-packages/scipy-0.13.0.dev_c31f167_20130514-py2.7-macosx-10.8-intel.egg/scipy/optimize/zeros.py:149: RuntimeWarning: Tolerance of 8.55013952093e+16 reached\n",
        "  warnings.warn(msg, RuntimeWarning)\n",
        "/Library/Python/2.7/site-packages/scipy-0.13.0.dev_c31f167_20130514-py2.7-macosx-10.8-intel.egg/scipy/optimize/zeros.py:149: RuntimeWarning: Tolerance of 5.66219178817e+15 reached\n",
        "  warnings.warn(msg, RuntimeWarning)\n"
       ]
      },
      {
       "output_type": "stream",
       "stream": "stderr",
       "text": [
        "/Library/Python/2.7/site-packages/scipy-0.13.0.dev_c31f167_20130514-py2.7-macosx-10.8-intel.egg/scipy/optimize/zeros.py:149: RuntimeWarning: Tolerance of -7.31865709163e+16 reached\n",
        "  warnings.warn(msg, RuntimeWarning)\n",
        "/Library/Python/2.7/site-packages/scipy-0.13.0.dev_c31f167_20130514-py2.7-macosx-10.8-intel.egg/scipy/optimize/zeros.py:149: RuntimeWarning: Tolerance of -2.25600637604e+16 reached\n",
        "  warnings.warn(msg, RuntimeWarning)\n"
       ]
      },
      {
       "output_type": "stream",
       "stream": "stderr",
       "text": [
        "/Library/Python/2.7/site-packages/scipy-0.13.0.dev_c31f167_20130514-py2.7-macosx-10.8-intel.egg/scipy/optimize/zeros.py:149: RuntimeWarning: Tolerance of -3.45028087314e+14 reached\n",
        "  warnings.warn(msg, RuntimeWarning)\n",
        "/Library/Python/2.7/site-packages/scipy-0.13.0.dev_c31f167_20130514-py2.7-macosx-10.8-intel.egg/scipy/optimize/zeros.py:149: RuntimeWarning: Tolerance of -4.7534752284e+13 reached\n",
        "  warnings.warn(msg, RuntimeWarning)\n"
       ]
      },
      {
       "output_type": "stream",
       "stream": "stderr",
       "text": [
        "/Library/Python/2.7/site-packages/scipy-0.13.0.dev_c31f167_20130514-py2.7-macosx-10.8-intel.egg/scipy/optimize/zeros.py:149: RuntimeWarning: Tolerance of 3.83377908108e+14 reached\n",
        "  warnings.warn(msg, RuntimeWarning)\n",
        "/Library/Python/2.7/site-packages/scipy-0.13.0.dev_c31f167_20130514-py2.7-macosx-10.8-intel.egg/scipy/optimize/zeros.py:149: RuntimeWarning: Tolerance of -4.17937967832e+14 reached\n",
        "  warnings.warn(msg, RuntimeWarning)\n"
       ]
      },
      {
       "output_type": "stream",
       "stream": "stderr",
       "text": [
        "/Library/Python/2.7/site-packages/scipy-0.13.0.dev_c31f167_20130514-py2.7-macosx-10.8-intel.egg/scipy/optimize/zeros.py:149: RuntimeWarning: Tolerance of -1.81059703864e+16 reached\n",
        "  warnings.warn(msg, RuntimeWarning)\n",
        "/Library/Python/2.7/site-packages/scipy-0.13.0.dev_c31f167_20130514-py2.7-macosx-10.8-intel.egg/scipy/optimize/zeros.py:149: RuntimeWarning: Tolerance of -7.65023500398e+13 reached\n",
        "  warnings.warn(msg, RuntimeWarning)\n"
       ]
      },
      {
       "output_type": "stream",
       "stream": "stderr",
       "text": [
        "/Library/Python/2.7/site-packages/scipy-0.13.0.dev_c31f167_20130514-py2.7-macosx-10.8-intel.egg/scipy/optimize/zeros.py:149: RuntimeWarning: Tolerance of -8.00276851305e+16 reached\n",
        "  warnings.warn(msg, RuntimeWarning)\n",
        "/Library/Python/2.7/site-packages/scipy-0.13.0.dev_c31f167_20130514-py2.7-macosx-10.8-intel.egg/scipy/optimize/zeros.py:149: RuntimeWarning: Tolerance of 4.83696743654e+15 reached\n",
        "  warnings.warn(msg, RuntimeWarning)\n"
       ]
      },
      {
       "output_type": "stream",
       "stream": "stderr",
       "text": [
        "/Library/Python/2.7/site-packages/scipy-0.13.0.dev_c31f167_20130514-py2.7-macosx-10.8-intel.egg/scipy/optimize/zeros.py:149: RuntimeWarning: Tolerance of 6.47428314946e+16 reached\n",
        "  warnings.warn(msg, RuntimeWarning)\n",
        "/Library/Python/2.7/site-packages/scipy-0.13.0.dev_c31f167_20130514-py2.7-macosx-10.8-intel.egg/scipy/optimize/zeros.py:149: RuntimeWarning: Tolerance of 3.98790642907e+15 reached\n",
        "  warnings.warn(msg, RuntimeWarning)\n"
       ]
      },
      {
       "output_type": "stream",
       "stream": "stderr",
       "text": [
        "/Library/Python/2.7/site-packages/scipy-0.13.0.dev_c31f167_20130514-py2.7-macosx-10.8-intel.egg/scipy/optimize/zeros.py:149: RuntimeWarning: Tolerance of 2.38976038099e+14 reached\n",
        "  warnings.warn(msg, RuntimeWarning)\n",
        "/Library/Python/2.7/site-packages/scipy-0.13.0.dev_c31f167_20130514-py2.7-macosx-10.8-intel.egg/scipy/optimize/zeros.py:149: RuntimeWarning: Tolerance of -209636451281.0 reached\n",
        "  warnings.warn(msg, RuntimeWarning)\n"
       ]
      },
      {
       "output_type": "stream",
       "stream": "stderr",
       "text": [
        "/Library/Python/2.7/site-packages/scipy-0.13.0.dev_c31f167_20130514-py2.7-macosx-10.8-intel.egg/scipy/optimize/zeros.py:149: RuntimeWarning: Tolerance of 1.24210518842e+16 reached\n",
        "  warnings.warn(msg, RuntimeWarning)\n",
        "/Library/Python/2.7/site-packages/scipy-0.13.0.dev_c31f167_20130514-py2.7-macosx-10.8-intel.egg/scipy/optimize/zeros.py:149: RuntimeWarning: Tolerance of 1.75436009295e+16 reached\n",
        "  warnings.warn(msg, RuntimeWarning)\n"
       ]
      },
      {
       "output_type": "stream",
       "stream": "stderr",
       "text": [
        "/Library/Python/2.7/site-packages/scipy-0.13.0.dev_c31f167_20130514-py2.7-macosx-10.8-intel.egg/scipy/optimize/zeros.py:149: RuntimeWarning: Tolerance of -2.54940241424e+15 reached\n",
        "  warnings.warn(msg, RuntimeWarning)\n",
        "/Library/Python/2.7/site-packages/scipy-0.13.0.dev_c31f167_20130514-py2.7-macosx-10.8-intel.egg/scipy/optimize/zeros.py:149: RuntimeWarning: Tolerance of -1.29445861646e+12 reached\n",
        "  warnings.warn(msg, RuntimeWarning)\n"
       ]
      },
      {
       "output_type": "stream",
       "stream": "stderr",
       "text": [
        "/Library/Python/2.7/site-packages/scipy-0.13.0.dev_c31f167_20130514-py2.7-macosx-10.8-intel.egg/scipy/optimize/zeros.py:149: RuntimeWarning: Tolerance of -2.37838219307e+17 reached\n",
        "  warnings.warn(msg, RuntimeWarning)\n",
        "/Library/Python/2.7/site-packages/scipy-0.13.0.dev_c31f167_20130514-py2.7-macosx-10.8-intel.egg/scipy/optimize/zeros.py:149: RuntimeWarning: Tolerance of -1.45115918034e+16 reached\n",
        "  warnings.warn(msg, RuntimeWarning)\n"
       ]
      },
      {
       "output_type": "stream",
       "stream": "stderr",
       "text": [
        "/Library/Python/2.7/site-packages/scipy-0.13.0.dev_c31f167_20130514-py2.7-macosx-10.8-intel.egg/scipy/optimize/zeros.py:149: RuntimeWarning: Tolerance of -1.23345625088e+16 reached\n",
        "  warnings.warn(msg, RuntimeWarning)\n",
        "/Library/Python/2.7/site-packages/scipy-0.13.0.dev_c31f167_20130514-py2.7-macosx-10.8-intel.egg/scipy/optimize/zeros.py:149: RuntimeWarning: Tolerance of -5.21046417691e+16 reached\n",
        "  warnings.warn(msg, RuntimeWarning)\n"
       ]
      },
      {
       "output_type": "stream",
       "stream": "stderr",
       "text": [
        "/Library/Python/2.7/site-packages/scipy-0.13.0.dev_c31f167_20130514-py2.7-macosx-10.8-intel.egg/scipy/optimize/zeros.py:149: RuntimeWarning: Tolerance of 5.14090061188e-07 reached\n",
        "  warnings.warn(msg, RuntimeWarning)\n",
        "/Library/Python/2.7/site-packages/scipy-0.13.0.dev_c31f167_20130514-py2.7-macosx-10.8-intel.egg/scipy/optimize/zeros.py:149: RuntimeWarning: Tolerance of -1.15750190739e+17 reached\n",
        "  warnings.warn(msg, RuntimeWarning)\n",
        "/Library/Python/2.7/site-packages/scipy-0.13.0.dev_c31f167_20130514-py2.7-macosx-10.8-intel.egg/scipy/optimize/zeros.py:149: RuntimeWarning: Tolerance of -1.10694018191e+15 reached\n",
        "  warnings.warn(msg, RuntimeWarning)\n"
       ]
      },
      {
       "output_type": "stream",
       "stream": "stderr",
       "text": [
        "/Library/Python/2.7/site-packages/scipy-0.13.0.dev_c31f167_20130514-py2.7-macosx-10.8-intel.egg/scipy/optimize/zeros.py:149: RuntimeWarning: Tolerance of 1.09288790928e+15 reached\n",
        "  warnings.warn(msg, RuntimeWarning)\n",
        "/Library/Python/2.7/site-packages/scipy-0.13.0.dev_c31f167_20130514-py2.7-macosx-10.8-intel.egg/scipy/optimize/zeros.py:149: RuntimeWarning: Tolerance of -1.35543966704e+17 reached\n",
        "  warnings.warn(msg, RuntimeWarning)\n"
       ]
      },
      {
       "output_type": "stream",
       "stream": "stderr",
       "text": [
        "/Library/Python/2.7/site-packages/scipy-0.13.0.dev_c31f167_20130514-py2.7-macosx-10.8-intel.egg/scipy/optimize/zeros.py:149: RuntimeWarning: Tolerance of 7.10840358192e+14 reached\n",
        "  warnings.warn(msg, RuntimeWarning)\n",
        "/Library/Python/2.7/site-packages/scipy-0.13.0.dev_c31f167_20130514-py2.7-macosx-10.8-intel.egg/scipy/optimize/zeros.py:149: RuntimeWarning: Tolerance of -1.12503767014e-06 reached\n",
        "  warnings.warn(msg, RuntimeWarning)\n"
       ]
      },
      {
       "output_type": "stream",
       "stream": "stderr",
       "text": [
        "/Library/Python/2.7/site-packages/scipy-0.13.0.dev_c31f167_20130514-py2.7-macosx-10.8-intel.egg/scipy/optimize/zeros.py:149: RuntimeWarning: Tolerance of -2.19533376844e+13 reached\n",
        "  warnings.warn(msg, RuntimeWarning)\n",
        "/Library/Python/2.7/site-packages/scipy-0.13.0.dev_c31f167_20130514-py2.7-macosx-10.8-intel.egg/scipy/optimize/zeros.py:149: RuntimeWarning: Tolerance of 1.84196814976e+16 reached\n",
        "  warnings.warn(msg, RuntimeWarning)\n"
       ]
      },
      {
       "output_type": "stream",
       "stream": "stderr",
       "text": [
        "/Library/Python/2.7/site-packages/scipy-0.13.0.dev_c31f167_20130514-py2.7-macosx-10.8-intel.egg/scipy/optimize/zeros.py:149: RuntimeWarning: Tolerance of 4.0234341335e+15 reached\n",
        "  warnings.warn(msg, RuntimeWarning)\n",
        "/Library/Python/2.7/site-packages/scipy-0.13.0.dev_c31f167_20130514-py2.7-macosx-10.8-intel.egg/scipy/optimize/zeros.py:149: RuntimeWarning: Tolerance of -5.64167020422e+12 reached\n",
        "  warnings.warn(msg, RuntimeWarning)\n"
       ]
      },
      {
       "output_type": "stream",
       "stream": "stderr",
       "text": [
        "/Library/Python/2.7/site-packages/scipy-0.13.0.dev_c31f167_20130514-py2.7-macosx-10.8-intel.egg/scipy/optimize/zeros.py:149: RuntimeWarning: Tolerance of 6.43053928428e+15 reached\n",
        "  warnings.warn(msg, RuntimeWarning)\n",
        "/Library/Python/2.7/site-packages/scipy-0.13.0.dev_c31f167_20130514-py2.7-macosx-10.8-intel.egg/scipy/optimize/zeros.py:149: RuntimeWarning: Tolerance of -4.41346040982e+16 reached\n",
        "  warnings.warn(msg, RuntimeWarning)\n"
       ]
      },
      {
       "output_type": "stream",
       "stream": "stderr",
       "text": [
        "/Library/Python/2.7/site-packages/scipy-0.13.0.dev_c31f167_20130514-py2.7-macosx-10.8-intel.egg/scipy/optimize/zeros.py:149: RuntimeWarning: Tolerance of 1.43312956868e+15 reached\n",
        "  warnings.warn(msg, RuntimeWarning)\n",
        "/Library/Python/2.7/site-packages/scipy-0.13.0.dev_c31f167_20130514-py2.7-macosx-10.8-intel.egg/scipy/optimize/zeros.py:149: RuntimeWarning: Tolerance of 5.06253367553e+15 reached\n",
        "  warnings.warn(msg, RuntimeWarning)\n"
       ]
      },
      {
       "output_type": "stream",
       "stream": "stderr",
       "text": [
        "/Library/Python/2.7/site-packages/scipy-0.13.0.dev_c31f167_20130514-py2.7-macosx-10.8-intel.egg/scipy/optimize/zeros.py:149: RuntimeWarning: Tolerance of -5.61048706303e+13 reached\n",
        "  warnings.warn(msg, RuntimeWarning)\n",
        "/Library/Python/2.7/site-packages/scipy-0.13.0.dev_c31f167_20130514-py2.7-macosx-10.8-intel.egg/scipy/optimize/zeros.py:149: RuntimeWarning: Tolerance of -1.43067574855e+16 reached\n",
        "  warnings.warn(msg, RuntimeWarning)\n"
       ]
      },
      {
       "output_type": "stream",
       "stream": "stderr",
       "text": [
        "/Library/Python/2.7/site-packages/scipy-0.13.0.dev_c31f167_20130514-py2.7-macosx-10.8-intel.egg/scipy/optimize/zeros.py:149: RuntimeWarning: Tolerance of 2.99047892622e+15 reached\n",
        "  warnings.warn(msg, RuntimeWarning)\n",
        "/Library/Python/2.7/site-packages/scipy-0.13.0.dev_c31f167_20130514-py2.7-macosx-10.8-intel.egg/scipy/optimize/zeros.py:149: RuntimeWarning: Tolerance of 1.33940749882e+16 reached\n",
        "  warnings.warn(msg, RuntimeWarning)\n"
       ]
      },
      {
       "output_type": "stream",
       "stream": "stdout",
       "text": [
        "\n",
        "deleting item T1map_LL"
       ]
      },
      {
       "output_type": "stream",
       "stream": "stdout",
       "text": [
        "\n",
        "deleting item T1map_LL_fitdict"
       ]
      },
      {
       "output_type": "stream",
       "stream": "stderr",
       "text": [
        "WARNING:sarpy.io.BRUKERIO:NSLICES not equal to number of ACQ_obj_order\n"
       ]
      },
      {
       "output_type": "stream",
       "stream": "stderr",
       "text": [
        "/Library/Python/2.7/site-packages/scipy-0.13.0.dev_c31f167_20130514-py2.7-macosx-10.8-intel.egg/scipy/optimize/zeros.py:149: RuntimeWarning: Tolerance of -9.26048269401e+14 reached\n",
        "  warnings.warn(msg, RuntimeWarning)\n",
        "/Library/Python/2.7/site-packages/scipy-0.13.0.dev_c31f167_20130514-py2.7-macosx-10.8-intel.egg/scipy/optimize/zeros.py:149: RuntimeWarning: Tolerance of -6.11399931059e+14 reached\n",
        "  warnings.warn(msg, RuntimeWarning)\n"
       ]
      },
      {
       "output_type": "stream",
       "stream": "stderr",
       "text": [
        "/Library/Python/2.7/site-packages/scipy-0.13.0.dev_c31f167_20130514-py2.7-macosx-10.8-intel.egg/scipy/optimize/zeros.py:149: RuntimeWarning: Tolerance of -7.70359123154e+14 reached\n",
        "  warnings.warn(msg, RuntimeWarning)\n",
        "/Library/Python/2.7/site-packages/scipy-0.13.0.dev_c31f167_20130514-py2.7-macosx-10.8-intel.egg/scipy/optimize/zeros.py:149: RuntimeWarning: Tolerance of 9.78064308543e+15 reached\n",
        "  warnings.warn(msg, RuntimeWarning)\n"
       ]
      },
      {
       "output_type": "stream",
       "stream": "stderr",
       "text": [
        "/Library/Python/2.7/site-packages/scipy-0.13.0.dev_c31f167_20130514-py2.7-macosx-10.8-intel.egg/scipy/optimize/zeros.py:149: RuntimeWarning: Tolerance of -4.1042337601e+15 reached\n",
        "  warnings.warn(msg, RuntimeWarning)\n",
        "/Library/Python/2.7/site-packages/scipy-0.13.0.dev_c31f167_20130514-py2.7-macosx-10.8-intel.egg/scipy/optimize/zeros.py:149: RuntimeWarning: Tolerance of -1.34539798662e+16 reached\n",
        "  warnings.warn(msg, RuntimeWarning)\n"
       ]
      },
      {
       "output_type": "stream",
       "stream": "stderr",
       "text": [
        "/Library/Python/2.7/site-packages/scipy-0.13.0.dev_c31f167_20130514-py2.7-macosx-10.8-intel.egg/scipy/optimize/zeros.py:149: RuntimeWarning: Tolerance of 5.91086434483e+15 reached\n",
        "  warnings.warn(msg, RuntimeWarning)\n",
        "/Library/Python/2.7/site-packages/scipy-0.13.0.dev_c31f167_20130514-py2.7-macosx-10.8-intel.egg/scipy/optimize/zeros.py:149: RuntimeWarning: Tolerance of -3.59233611242e+15 reached\n",
        "  warnings.warn(msg, RuntimeWarning)\n"
       ]
      },
      {
       "output_type": "stream",
       "stream": "stderr",
       "text": [
        "/Library/Python/2.7/site-packages/scipy-0.13.0.dev_c31f167_20130514-py2.7-macosx-10.8-intel.egg/scipy/optimize/zeros.py:149: RuntimeWarning: Tolerance of -3.35039814674e+13 reached\n",
        "  warnings.warn(msg, RuntimeWarning)\n",
        "/Library/Python/2.7/site-packages/scipy-0.13.0.dev_c31f167_20130514-py2.7-macosx-10.8-intel.egg/scipy/optimize/zeros.py:149: RuntimeWarning: Tolerance of 1.18354244503e+15 reached\n",
        "  warnings.warn(msg, RuntimeWarning)\n"
       ]
      },
      {
       "output_type": "stream",
       "stream": "stderr",
       "text": [
        "/Library/Python/2.7/site-packages/scipy-0.13.0.dev_c31f167_20130514-py2.7-macosx-10.8-intel.egg/scipy/optimize/zeros.py:149: RuntimeWarning: Tolerance of 1.20659832677e+16 reached\n",
        "  warnings.warn(msg, RuntimeWarning)\n",
        "/Library/Python/2.7/site-packages/scipy-0.13.0.dev_c31f167_20130514-py2.7-macosx-10.8-intel.egg/scipy/optimize/zeros.py:149: RuntimeWarning: Tolerance of 4.00950392763e+16 reached\n",
        "  warnings.warn(msg, RuntimeWarning)\n"
       ]
      },
      {
       "output_type": "stream",
       "stream": "stderr",
       "text": [
        "/Library/Python/2.7/site-packages/scipy-0.13.0.dev_c31f167_20130514-py2.7-macosx-10.8-intel.egg/scipy/optimize/zeros.py:149: RuntimeWarning: Tolerance of 9.97339098925e+16 reached\n",
        "  warnings.warn(msg, RuntimeWarning)\n",
        "/Library/Python/2.7/site-packages/scipy-0.13.0.dev_c31f167_20130514-py2.7-macosx-10.8-intel.egg/scipy/optimize/zeros.py:149: RuntimeWarning: Tolerance of -306678597092.0 reached\n",
        "  warnings.warn(msg, RuntimeWarning)\n"
       ]
      },
      {
       "output_type": "stream",
       "stream": "stderr",
       "text": [
        "/Library/Python/2.7/site-packages/scipy-0.13.0.dev_c31f167_20130514-py2.7-macosx-10.8-intel.egg/scipy/optimize/zeros.py:149: RuntimeWarning: Tolerance of -1.08178872541e+16 reached\n",
        "  warnings.warn(msg, RuntimeWarning)\n",
        "/Library/Python/2.7/site-packages/scipy-0.13.0.dev_c31f167_20130514-py2.7-macosx-10.8-intel.egg/scipy/optimize/zeros.py:149: RuntimeWarning: Tolerance of 1.32886603173e+16 reached\n",
        "  warnings.warn(msg, RuntimeWarning)\n"
       ]
      },
      {
       "output_type": "stream",
       "stream": "stderr",
       "text": [
        "/Library/Python/2.7/site-packages/scipy-0.13.0.dev_c31f167_20130514-py2.7-macosx-10.8-intel.egg/scipy/optimize/zeros.py:149: RuntimeWarning: Tolerance of 1.89172753177e+14 reached\n",
        "  warnings.warn(msg, RuntimeWarning)\n",
        "/Library/Python/2.7/site-packages/scipy-0.13.0.dev_c31f167_20130514-py2.7-macosx-10.8-intel.egg/scipy/optimize/zeros.py:149: RuntimeWarning: Tolerance of -8.04044071184e+13 reached\n",
        "  warnings.warn(msg, RuntimeWarning)\n"
       ]
      },
      {
       "output_type": "stream",
       "stream": "stderr",
       "text": [
        "/Library/Python/2.7/site-packages/scipy-0.13.0.dev_c31f167_20130514-py2.7-macosx-10.8-intel.egg/scipy/optimize/zeros.py:149: RuntimeWarning: Tolerance of -5.54250651433e+15 reached\n",
        "  warnings.warn(msg, RuntimeWarning)\n",
        "/Library/Python/2.7/site-packages/scipy-0.13.0.dev_c31f167_20130514-py2.7-macosx-10.8-intel.egg/scipy/optimize/zeros.py:149: RuntimeWarning: Tolerance of -5.91352477206e+13 reached\n",
        "  warnings.warn(msg, RuntimeWarning)\n"
       ]
      },
      {
       "output_type": "stream",
       "stream": "stderr",
       "text": [
        "/Library/Python/2.7/site-packages/scipy-0.13.0.dev_c31f167_20130514-py2.7-macosx-10.8-intel.egg/scipy/optimize/zeros.py:149: RuntimeWarning: Tolerance of -5.26080219499e+18 reached\n",
        "  warnings.warn(msg, RuntimeWarning)\n",
        "/Library/Python/2.7/site-packages/scipy-0.13.0.dev_c31f167_20130514-py2.7-macosx-10.8-intel.egg/scipy/optimize/zeros.py:149: RuntimeWarning: Tolerance of 3.57286903733e+16 reached\n",
        "  warnings.warn(msg, RuntimeWarning)\n"
       ]
      },
      {
       "output_type": "stream",
       "stream": "stderr",
       "text": [
        "/Library/Python/2.7/site-packages/scipy-0.13.0.dev_c31f167_20130514-py2.7-macosx-10.8-intel.egg/scipy/optimize/zeros.py:149: RuntimeWarning: Tolerance of -3.65043173033e+16 reached\n",
        "  warnings.warn(msg, RuntimeWarning)\n",
        "/Library/Python/2.7/site-packages/scipy-0.13.0.dev_c31f167_20130514-py2.7-macosx-10.8-intel.egg/scipy/optimize/zeros.py:149: RuntimeWarning: Tolerance of -2.45619797166e+15 reached\n",
        "  warnings.warn(msg, RuntimeWarning)\n"
       ]
      },
      {
       "output_type": "stream",
       "stream": "stderr",
       "text": [
        "/Library/Python/2.7/site-packages/scipy-0.13.0.dev_c31f167_20130514-py2.7-macosx-10.8-intel.egg/scipy/optimize/zeros.py:149: RuntimeWarning: Tolerance of -1.68864958329e+16 reached\n",
        "  warnings.warn(msg, RuntimeWarning)\n",
        "/Library/Python/2.7/site-packages/scipy-0.13.0.dev_c31f167_20130514-py2.7-macosx-10.8-intel.egg/scipy/optimize/zeros.py:149: RuntimeWarning: Tolerance of 2.19551950941e+16 reached\n",
        "  warnings.warn(msg, RuntimeWarning)\n"
       ]
      },
      {
       "output_type": "stream",
       "stream": "stderr",
       "text": [
        "/Library/Python/2.7/site-packages/scipy-0.13.0.dev_c31f167_20130514-py2.7-macosx-10.8-intel.egg/scipy/optimize/zeros.py:149: RuntimeWarning: Tolerance of -3.3509320679e+18 reached\n",
        "  warnings.warn(msg, RuntimeWarning)\n",
        "/Library/Python/2.7/site-packages/scipy-0.13.0.dev_c31f167_20130514-py2.7-macosx-10.8-intel.egg/scipy/optimize/zeros.py:149: RuntimeWarning: Tolerance of 1.32842674174e+14 reached\n",
        "  warnings.warn(msg, RuntimeWarning)\n"
       ]
      },
      {
       "output_type": "stream",
       "stream": "stderr",
       "text": [
        "/Library/Python/2.7/site-packages/scipy-0.13.0.dev_c31f167_20130514-py2.7-macosx-10.8-intel.egg/scipy/optimize/zeros.py:149: RuntimeWarning: Tolerance of 7.84439167832e+15 reached\n",
        "  warnings.warn(msg, RuntimeWarning)\n",
        "/Library/Python/2.7/site-packages/scipy-0.13.0.dev_c31f167_20130514-py2.7-macosx-10.8-intel.egg/scipy/optimize/zeros.py:149: RuntimeWarning: Tolerance of -1.23254824037e+15 reached\n",
        "  warnings.warn(msg, RuntimeWarning)\n"
       ]
      },
      {
       "output_type": "stream",
       "stream": "stderr",
       "text": [
        "/Library/Python/2.7/site-packages/scipy-0.13.0.dev_c31f167_20130514-py2.7-macosx-10.8-intel.egg/scipy/optimize/zeros.py:149: RuntimeWarning: Tolerance of -1.84244223872e+15 reached\n",
        "  warnings.warn(msg, RuntimeWarning)\n",
        "/Library/Python/2.7/site-packages/scipy-0.13.0.dev_c31f167_20130514-py2.7-macosx-10.8-intel.egg/scipy/optimize/zeros.py:149: RuntimeWarning: Tolerance of 1.96635498382e+16 reached\n",
        "  warnings.warn(msg, RuntimeWarning)\n"
       ]
      },
      {
       "output_type": "stream",
       "stream": "stderr",
       "text": [
        "/Library/Python/2.7/site-packages/scipy-0.13.0.dev_c31f167_20130514-py2.7-macosx-10.8-intel.egg/scipy/optimize/zeros.py:149: RuntimeWarning: Tolerance of -4.48121534606e+16 reached\n",
        "  warnings.warn(msg, RuntimeWarning)\n",
        "/Library/Python/2.7/site-packages/scipy-0.13.0.dev_c31f167_20130514-py2.7-macosx-10.8-intel.egg/scipy/optimize/zeros.py:149: RuntimeWarning: Tolerance of -8.19982223253e+14 reached\n",
        "  warnings.warn(msg, RuntimeWarning)\n"
       ]
      },
      {
       "output_type": "stream",
       "stream": "stderr",
       "text": [
        "/Library/Python/2.7/site-packages/scipy-0.13.0.dev_c31f167_20130514-py2.7-macosx-10.8-intel.egg/scipy/optimize/zeros.py:149: RuntimeWarning: Tolerance of -5.15756939766e+15 reached\n",
        "  warnings.warn(msg, RuntimeWarning)\n",
        "/Library/Python/2.7/site-packages/scipy-0.13.0.dev_c31f167_20130514-py2.7-macosx-10.8-intel.egg/scipy/optimize/zeros.py:149: RuntimeWarning: Tolerance of 7.99428787759e+15 reached\n",
        "  warnings.warn(msg, RuntimeWarning)\n"
       ]
      },
      {
       "output_type": "stream",
       "stream": "stderr",
       "text": [
        "/Library/Python/2.7/site-packages/scipy-0.13.0.dev_c31f167_20130514-py2.7-macosx-10.8-intel.egg/scipy/optimize/zeros.py:149: RuntimeWarning: Tolerance of -7.98081074243e+14 reached\n",
        "  warnings.warn(msg, RuntimeWarning)\n",
        "/Library/Python/2.7/site-packages/scipy-0.13.0.dev_c31f167_20130514-py2.7-macosx-10.8-intel.egg/scipy/optimize/zeros.py:149: RuntimeWarning: Tolerance of 1.31168703064e+16 reached\n",
        "  warnings.warn(msg, RuntimeWarning)\n"
       ]
      },
      {
       "output_type": "stream",
       "stream": "stderr",
       "text": [
        "/Library/Python/2.7/site-packages/scipy-0.13.0.dev_c31f167_20130514-py2.7-macosx-10.8-intel.egg/scipy/optimize/zeros.py:149: RuntimeWarning: Tolerance of -8.77673018569e+16 reached\n",
        "  warnings.warn(msg, RuntimeWarning)\n",
        "/Library/Python/2.7/site-packages/scipy-0.13.0.dev_c31f167_20130514-py2.7-macosx-10.8-intel.egg/scipy/optimize/zeros.py:149: RuntimeWarning: Tolerance of 2.77015227978e+12 reached\n",
        "  warnings.warn(msg, RuntimeWarning)\n"
       ]
      },
      {
       "output_type": "stream",
       "stream": "stderr",
       "text": [
        "/Library/Python/2.7/site-packages/scipy-0.13.0.dev_c31f167_20130514-py2.7-macosx-10.8-intel.egg/scipy/optimize/zeros.py:149: RuntimeWarning: Tolerance of 3.22541971294e+13 reached\n",
        "  warnings.warn(msg, RuntimeWarning)\n",
        "/Library/Python/2.7/site-packages/scipy-0.13.0.dev_c31f167_20130514-py2.7-macosx-10.8-intel.egg/scipy/optimize/zeros.py:149: RuntimeWarning: Tolerance of -2.14066187073e+16 reached\n",
        "  warnings.warn(msg, RuntimeWarning)\n"
       ]
      },
      {
       "output_type": "stream",
       "stream": "stderr",
       "text": [
        "/Library/Python/2.7/site-packages/scipy-0.13.0.dev_c31f167_20130514-py2.7-macosx-10.8-intel.egg/scipy/optimize/zeros.py:149: RuntimeWarning: Tolerance of 9.47756206753e+14 reached\n",
        "  warnings.warn(msg, RuntimeWarning)\n",
        "/Library/Python/2.7/site-packages/scipy-0.13.0.dev_c31f167_20130514-py2.7-macosx-10.8-intel.egg/scipy/optimize/zeros.py:149: RuntimeWarning: Tolerance of 1.16347971318e+16 reached\n",
        "  warnings.warn(msg, RuntimeWarning)\n"
       ]
      },
      {
       "output_type": "stream",
       "stream": "stderr",
       "text": [
        "/Library/Python/2.7/site-packages/scipy-0.13.0.dev_c31f167_20130514-py2.7-macosx-10.8-intel.egg/scipy/optimize/zeros.py:149: RuntimeWarning: Tolerance of 6.75186327574e+15 reached\n",
        "  warnings.warn(msg, RuntimeWarning)\n",
        "/Library/Python/2.7/site-packages/scipy-0.13.0.dev_c31f167_20130514-py2.7-macosx-10.8-intel.egg/scipy/optimize/zeros.py:149: RuntimeWarning: Tolerance of 2.12064558487e+16 reached\n",
        "  warnings.warn(msg, RuntimeWarning)\n"
       ]
      },
      {
       "output_type": "stream",
       "stream": "stderr",
       "text": [
        "/Library/Python/2.7/site-packages/scipy-0.13.0.dev_c31f167_20130514-py2.7-macosx-10.8-intel.egg/scipy/optimize/zeros.py:149: RuntimeWarning: Tolerance of -1.16483881596e+15 reached\n",
        "  warnings.warn(msg, RuntimeWarning)\n",
        "/Library/Python/2.7/site-packages/scipy-0.13.0.dev_c31f167_20130514-py2.7-macosx-10.8-intel.egg/scipy/optimize/zeros.py:149: RuntimeWarning: Tolerance of -7.06654567744e+16 reached\n",
        "  warnings.warn(msg, RuntimeWarning)\n"
       ]
      },
      {
       "output_type": "stream",
       "stream": "stderr",
       "text": [
        "/Library/Python/2.7/site-packages/scipy-0.13.0.dev_c31f167_20130514-py2.7-macosx-10.8-intel.egg/scipy/optimize/zeros.py:149: RuntimeWarning: Tolerance of 1.39132571716e+16 reached\n",
        "  warnings.warn(msg, RuntimeWarning)\n",
        "/Library/Python/2.7/site-packages/scipy-0.13.0.dev_c31f167_20130514-py2.7-macosx-10.8-intel.egg/scipy/optimize/zeros.py:149: RuntimeWarning: Tolerance of -3.50159149202e+15 reached\n",
        "  warnings.warn(msg, RuntimeWarning)\n"
       ]
      },
      {
       "output_type": "stream",
       "stream": "stderr",
       "text": [
        "/Library/Python/2.7/site-packages/scipy-0.13.0.dev_c31f167_20130514-py2.7-macosx-10.8-intel.egg/scipy/optimize/zeros.py:149: RuntimeWarning: Tolerance of 2.23754399678e+16 reached\n",
        "  warnings.warn(msg, RuntimeWarning)\n",
        "/Library/Python/2.7/site-packages/scipy-0.13.0.dev_c31f167_20130514-py2.7-macosx-10.8-intel.egg/scipy/optimize/zeros.py:149: RuntimeWarning: Tolerance of 3.21873394964e+15 reached\n",
        "  warnings.warn(msg, RuntimeWarning)\n"
       ]
      },
      {
       "output_type": "stream",
       "stream": "stderr",
       "text": [
        "/Library/Python/2.7/site-packages/scipy-0.13.0.dev_c31f167_20130514-py2.7-macosx-10.8-intel.egg/scipy/optimize/zeros.py:149: RuntimeWarning: Tolerance of -1.87538946213e+15 reached\n",
        "  warnings.warn(msg, RuntimeWarning)\n",
        "/Library/Python/2.7/site-packages/scipy-0.13.0.dev_c31f167_20130514-py2.7-macosx-10.8-intel.egg/scipy/optimize/zeros.py:149: RuntimeWarning: Tolerance of -2.06898275764e+16 reached\n",
        "  warnings.warn(msg, RuntimeWarning)\n"
       ]
      },
      {
       "output_type": "stream",
       "stream": "stderr",
       "text": [
        "/Library/Python/2.7/site-packages/scipy-0.13.0.dev_c31f167_20130514-py2.7-macosx-10.8-intel.egg/scipy/optimize/zeros.py:149: RuntimeWarning: Tolerance of 9.78572330969e+14 reached\n",
        "  warnings.warn(msg, RuntimeWarning)\n",
        "/Library/Python/2.7/site-packages/scipy-0.13.0.dev_c31f167_20130514-py2.7-macosx-10.8-intel.egg/scipy/optimize/zeros.py:149: RuntimeWarning: Tolerance of -2.99739432443e+15 reached\n",
        "  warnings.warn(msg, RuntimeWarning)\n"
       ]
      },
      {
       "output_type": "stream",
       "stream": "stderr",
       "text": [
        "/Library/Python/2.7/site-packages/scipy-0.13.0.dev_c31f167_20130514-py2.7-macosx-10.8-intel.egg/scipy/optimize/zeros.py:149: RuntimeWarning: Tolerance of -4.48091906464e+15 reached\n",
        "  warnings.warn(msg, RuntimeWarning)\n",
        "/Library/Python/2.7/site-packages/scipy-0.13.0.dev_c31f167_20130514-py2.7-macosx-10.8-intel.egg/scipy/optimize/zeros.py:149: RuntimeWarning: Tolerance of 5.66465889205e+15 reached\n",
        "  warnings.warn(msg, RuntimeWarning)\n"
       ]
      },
      {
       "output_type": "stream",
       "stream": "stderr",
       "text": [
        "/Library/Python/2.7/site-packages/scipy-0.13.0.dev_c31f167_20130514-py2.7-macosx-10.8-intel.egg/scipy/optimize/zeros.py:149: RuntimeWarning: Tolerance of 1.17811167965e+15 reached\n",
        "  warnings.warn(msg, RuntimeWarning)\n",
        "/Library/Python/2.7/site-packages/scipy-0.13.0.dev_c31f167_20130514-py2.7-macosx-10.8-intel.egg/scipy/optimize/zeros.py:149: RuntimeWarning: Tolerance of 5.65019574814e+12 reached\n",
        "  warnings.warn(msg, RuntimeWarning)\n"
       ]
      },
      {
       "output_type": "stream",
       "stream": "stderr",
       "text": [
        "/Library/Python/2.7/site-packages/scipy-0.13.0.dev_c31f167_20130514-py2.7-macosx-10.8-intel.egg/scipy/optimize/zeros.py:149: RuntimeWarning: Tolerance of -2.14962186138e+16 reached\n",
        "  warnings.warn(msg, RuntimeWarning)\n",
        "/Library/Python/2.7/site-packages/scipy-0.13.0.dev_c31f167_20130514-py2.7-macosx-10.8-intel.egg/scipy/optimize/zeros.py:149: RuntimeWarning: Tolerance of -1.98672533874e+15 reached\n",
        "  warnings.warn(msg, RuntimeWarning)\n"
       ]
      },
      {
       "output_type": "stream",
       "stream": "stderr",
       "text": [
        "/Library/Python/2.7/site-packages/scipy-0.13.0.dev_c31f167_20130514-py2.7-macosx-10.8-intel.egg/scipy/optimize/zeros.py:149: RuntimeWarning: Tolerance of -4.28626600672e+15 reached\n",
        "  warnings.warn(msg, RuntimeWarning)\n",
        "/Library/Python/2.7/site-packages/scipy-0.13.0.dev_c31f167_20130514-py2.7-macosx-10.8-intel.egg/scipy/optimize/zeros.py:149: RuntimeWarning: Tolerance of -8.63910318576e+14 reached\n",
        "  warnings.warn(msg, RuntimeWarning)\n"
       ]
      },
      {
       "output_type": "stream",
       "stream": "stderr",
       "text": [
        "/Library/Python/2.7/site-packages/scipy-0.13.0.dev_c31f167_20130514-py2.7-macosx-10.8-intel.egg/scipy/optimize/zeros.py:149: RuntimeWarning: Tolerance of 9.20266840791e+17 reached\n",
        "  warnings.warn(msg, RuntimeWarning)\n",
        "/Library/Python/2.7/site-packages/scipy-0.13.0.dev_c31f167_20130514-py2.7-macosx-10.8-intel.egg/scipy/optimize/zeros.py:149: RuntimeWarning: Tolerance of -6.42779785769e+16 reached\n",
        "  warnings.warn(msg, RuntimeWarning)\n"
       ]
      },
      {
       "output_type": "stream",
       "stream": "stderr",
       "text": [
        "/Library/Python/2.7/site-packages/scipy-0.13.0.dev_c31f167_20130514-py2.7-macosx-10.8-intel.egg/scipy/optimize/zeros.py:149: RuntimeWarning: Tolerance of 2.57964911652e+16 reached\n",
        "  warnings.warn(msg, RuntimeWarning)\n",
        "/Library/Python/2.7/site-packages/scipy-0.13.0.dev_c31f167_20130514-py2.7-macosx-10.8-intel.egg/scipy/optimize/zeros.py:149: RuntimeWarning: Tolerance of -9.46867922277e+15 reached\n",
        "  warnings.warn(msg, RuntimeWarning)\n"
       ]
      },
      {
       "output_type": "stream",
       "stream": "stderr",
       "text": [
        "/Library/Python/2.7/site-packages/scipy-0.13.0.dev_c31f167_20130514-py2.7-macosx-10.8-intel.egg/scipy/optimize/zeros.py:149: RuntimeWarning: Tolerance of -2.2582797007e+15 reached\n",
        "  warnings.warn(msg, RuntimeWarning)\n",
        "/Library/Python/2.7/site-packages/scipy-0.13.0.dev_c31f167_20130514-py2.7-macosx-10.8-intel.egg/scipy/optimize/zeros.py:149: RuntimeWarning: Tolerance of -3.02013594413e+14 reached\n",
        "  warnings.warn(msg, RuntimeWarning)\n"
       ]
      },
      {
       "output_type": "stream",
       "stream": "stderr",
       "text": [
        "/Library/Python/2.7/site-packages/scipy-0.13.0.dev_c31f167_20130514-py2.7-macosx-10.8-intel.egg/scipy/optimize/zeros.py:149: RuntimeWarning: Tolerance of -3.36395185617e+16 reached\n",
        "  warnings.warn(msg, RuntimeWarning)\n",
        "/Library/Python/2.7/site-packages/scipy-0.13.0.dev_c31f167_20130514-py2.7-macosx-10.8-intel.egg/scipy/optimize/zeros.py:149: RuntimeWarning: Tolerance of -1.82317187884e+15 reached\n",
        "  warnings.warn(msg, RuntimeWarning)\n"
       ]
      },
      {
       "output_type": "stream",
       "stream": "stderr",
       "text": [
        "/Library/Python/2.7/site-packages/scipy-0.13.0.dev_c31f167_20130514-py2.7-macosx-10.8-intel.egg/scipy/optimize/zeros.py:149: RuntimeWarning: Tolerance of -8.84478370962e+14 reached\n",
        "  warnings.warn(msg, RuntimeWarning)\n",
        "/Library/Python/2.7/site-packages/scipy-0.13.0.dev_c31f167_20130514-py2.7-macosx-10.8-intel.egg/scipy/optimize/zeros.py:149: RuntimeWarning: Tolerance of -1.09977129943e+14 reached\n",
        "  warnings.warn(msg, RuntimeWarning)\n"
       ]
      },
      {
       "output_type": "stream",
       "stream": "stderr",
       "text": [
        "/Library/Python/2.7/site-packages/scipy-0.13.0.dev_c31f167_20130514-py2.7-macosx-10.8-intel.egg/scipy/optimize/zeros.py:149: RuntimeWarning: Tolerance of 3.77185642719e-08 reached\n",
        "  warnings.warn(msg, RuntimeWarning)\n",
        "/Library/Python/2.7/site-packages/scipy-0.13.0.dev_c31f167_20130514-py2.7-macosx-10.8-intel.egg/scipy/optimize/zeros.py:149: RuntimeWarning: Tolerance of -7.31114946578e+15 reached\n",
        "  warnings.warn(msg, RuntimeWarning)\n"
       ]
      },
      {
       "output_type": "stream",
       "stream": "stderr",
       "text": [
        "/Library/Python/2.7/site-packages/scipy-0.13.0.dev_c31f167_20130514-py2.7-macosx-10.8-intel.egg/scipy/optimize/zeros.py:149: RuntimeWarning: Tolerance of -3.80108967973e+15 reached\n",
        "  warnings.warn(msg, RuntimeWarning)\n",
        "/Library/Python/2.7/site-packages/scipy-0.13.0.dev_c31f167_20130514-py2.7-macosx-10.8-intel.egg/scipy/optimize/zeros.py:149: RuntimeWarning: Tolerance of 1.71529324057e+18 reached\n",
        "  warnings.warn(msg, RuntimeWarning)\n"
       ]
      },
      {
       "output_type": "stream",
       "stream": "stderr",
       "text": [
        "/Library/Python/2.7/site-packages/scipy-0.13.0.dev_c31f167_20130514-py2.7-macosx-10.8-intel.egg/scipy/optimize/zeros.py:149: RuntimeWarning: Tolerance of -602465306584.0 reached\n",
        "  warnings.warn(msg, RuntimeWarning)\n",
        "/Library/Python/2.7/site-packages/scipy-0.13.0.dev_c31f167_20130514-py2.7-macosx-10.8-intel.egg/scipy/optimize/zeros.py:149: RuntimeWarning: Tolerance of -6.70131699232e+13 reached\n",
        "  warnings.warn(msg, RuntimeWarning)\n"
       ]
      },
      {
       "output_type": "stream",
       "stream": "stdout",
       "text": [
        "\n",
        "deleting item T1map_LL"
       ]
      },
      {
       "output_type": "stream",
       "stream": "stdout",
       "text": [
        "\n",
        "deleting item T1map_LL_fitdict"
       ]
      },
      {
       "output_type": "stream",
       "stream": "stdout",
       "text": [
        "\n",
        "deleting item vtc"
       ]
      },
      {
       "output_type": "stream",
       "stream": "stdout",
       "text": [
        "\n",
        "deleting item vtc"
       ]
      },
      {
       "output_type": "stream",
       "stream": "stdout",
       "text": [
        "\n",
        "deleting item vtc"
       ]
      },
      {
       "output_type": "stream",
       "stream": "stdout",
       "text": [
        "\n",
        "deleting item vtc"
       ]
      },
      {
       "output_type": "stream",
       "stream": "stdout",
       "text": [
        "\n",
        "vtc: Not found NecS3Hs08 and 0h-DCE1"
       ]
      },
      {
       "output_type": "stream",
       "stream": "stdout",
       "text": [
        "\n",
        "vtc: Not found NecS3Hs09 and 0h-DCE1\n",
        "vtc: Not found NecS3Hs10 and 0h-DCE1\n",
        "vtc: Not found NecS3Hs11 and 0h-DCE1\n",
        "vtc: Not found NecS3Hs12 and 0h-DCE1\n",
        "vtc: Not found NecS3Hs13 and 0h-DCE1\n",
        "vtc: Not found NecS3Hs14 and 0h-DCE1\n",
        "vtc: Not found NecS3Hs15 and 0h-DCE1\n",
        "deleting item vtc"
       ]
      },
      {
       "output_type": "stream",
       "stream": "stdout",
       "text": [
        "\n",
        "deleting item vtc"
       ]
      },
      {
       "output_type": "stream",
       "stream": "stdout",
       "text": [
        "\n",
        "deleting item vtc"
       ]
      },
      {
       "output_type": "stream",
       "stream": "stdout",
       "text": [
        "\n",
        "deleting item vtc"
       ]
      },
      {
       "output_type": "stream",
       "stream": "stdout",
       "text": [
        "\n",
        "deleting item vtc"
       ]
      },
      {
       "output_type": "stream",
       "stream": "stdout",
       "text": [
        "\n",
        "deleting item vtc"
       ]
      },
      {
       "output_type": "stream",
       "stream": "stdout",
       "text": [
        "\n",
        "deleting item vtc"
       ]
      },
      {
       "output_type": "stream",
       "stream": "stdout",
       "text": [
        "\n",
        "deleting item vtc"
       ]
      },
      {
       "output_type": "stream",
       "stream": "stdout",
       "text": [
        "\n",
        "deleting item vtc"
       ]
      },
      {
       "output_type": "stream",
       "stream": "stdout",
       "text": [
        "\n",
        "deleting item vtc"
       ]
      },
      {
       "output_type": "stream",
       "stream": "stdout",
       "text": [
        "\n",
        "deleting item vtc"
       ]
      },
      {
       "output_type": "stream",
       "stream": "stdout",
       "text": [
        "\n",
        "deleting item vtc"
       ]
      },
      {
       "output_type": "stream",
       "stream": "stdout",
       "text": [
        "\n"
       ]
      }
     ],
     "prompt_number": 5
    },
    {
     "cell_type": "markdown",
     "metadata": {},
     "source": [
      "## Step 4: Transfer ROIs to other scans via (resampling onto)"
     ]
    },
    {
     "cell_type": "code",
     "collapsed": false,
     "input": [
      "fFlag = True\n",
      "label = [] \n",
      "label.append('T1map_LL')\n",
      "label.append('auc60')\n",
      "\n",
      "for l in label:\n",
      "    sarpy.fmoosvi.wrappers.bulk_transfer_roi(masterlist,l, forceVal = fFlag)"
     ],
     "language": "python",
     "metadata": {},
     "outputs": [
      {
       "output_type": "stream",
       "stream": "stdout",
       "text": [
        "deleting item T1map_LL_roi\n",
        "bulk_transfer_roi: Success. Saved T1map_LL_roi in NecS3Hs02.iJ1/10"
       ]
      },
      {
       "output_type": "stream",
       "stream": "stdout",
       "text": [
        "\n",
        "deleting item T1map_LL_roi"
       ]
      },
      {
       "output_type": "stream",
       "stream": "stdout",
       "text": [
        "\n",
        "bulk_transfer_roi: Success. Saved T1map_LL_roi in NecS3Hs02.iK1/11"
       ]
      },
      {
       "output_type": "stream",
       "stream": "stdout",
       "text": [
        "\n",
        "deleting item T1map_LL_roi"
       ]
      },
      {
       "output_type": "stream",
       "stream": "stdout",
       "text": [
        "\n",
        "bulk_transfer_roi: Success. Saved T1map_LL_roi in NecS3Hs04.iJ1/9"
       ]
      },
      {
       "output_type": "stream",
       "stream": "stdout",
       "text": [
        "\n",
        "bulk_transfer_roi: Key roblem with roi src scan for study NecS3Hs04.iK1, maybe this study is extra"
       ]
      },
      {
       "output_type": "stream",
       "stream": "stdout",
       "text": [
        "\n",
        "bulk_transfer_roi: T1map_LL not found in study NecS3Hs04.iK1\n",
        "deleting item T1map_LL_roi"
       ]
      },
      {
       "output_type": "stream",
       "stream": "stdout",
       "text": [
        "\n",
        "bulk_transfer_roi: Success. Saved T1map_LL_roi in NecS3Hs04.iK2/10"
       ]
      },
      {
       "output_type": "stream",
       "stream": "stdout",
       "text": [
        "\n",
        "deleting item T1map_LL_roi"
       ]
      },
      {
       "output_type": "stream",
       "stream": "stdout",
       "text": [
        "\n",
        "bulk_transfer_roi: Success. Saved T1map_LL_roi in NecS3Hs05.iJ1/8"
       ]
      },
      {
       "output_type": "stream",
       "stream": "stdout",
       "text": [
        "\n",
        "deleting item T1map_LL_roi"
       ]
      },
      {
       "output_type": "stream",
       "stream": "stdout",
       "text": [
        "\n",
        "bulk_transfer_roi: Success. Saved T1map_LL_roi in NecS3Hs05.iK1/9"
       ]
      },
      {
       "output_type": "stream",
       "stream": "stdout",
       "text": [
        "\n",
        "deleting item T1map_LL_roi"
       ]
      },
      {
       "output_type": "stream",
       "stream": "stdout",
       "text": [
        "\n",
        "bulk_transfer_roi: Success. Saved T1map_LL_roi in NecS3Hs06.iJ1/7"
       ]
      },
      {
       "output_type": "stream",
       "stream": "stdout",
       "text": [
        "\n",
        "deleting item T1map_LL_roi"
       ]
      },
      {
       "output_type": "stream",
       "stream": "stdout",
       "text": [
        "\n",
        "bulk_transfer_roi: Success. Saved T1map_LL_roi in NecS3Hs06.iK1/11"
       ]
      },
      {
       "output_type": "stream",
       "stream": "stdout",
       "text": [
        "\n",
        "deleting item T1map_LL_roi"
       ]
      },
      {
       "output_type": "stream",
       "stream": "stdout",
       "text": [
        "\n",
        "bulk_transfer_roi: Success. Saved T1map_LL_roi in NecS3Hs08.iK1/7"
       ]
      },
      {
       "output_type": "stream",
       "stream": "stdout",
       "text": [
        "\n",
        "deleting item T1map_LL_roi"
       ]
      },
      {
       "output_type": "stream",
       "stream": "stdout",
       "text": [
        "\n",
        "bulk_transfer_roi: Success. Saved T1map_LL_roi in NecS3Hs08.iL1/8"
       ]
      },
      {
       "output_type": "stream",
       "stream": "stdout",
       "text": [
        "\n",
        "deleting item T1map_LL_roi"
       ]
      },
      {
       "output_type": "stream",
       "stream": "stdout",
       "text": [
        "\n",
        "bulk_transfer_roi: Success. Saved T1map_LL_roi in NecS3Hs09.iK1/7"
       ]
      },
      {
       "output_type": "stream",
       "stream": "stdout",
       "text": [
        "\n",
        "deleting item T1map_LL_roi"
       ]
      },
      {
       "output_type": "stream",
       "stream": "stdout",
       "text": [
        "\n",
        "bulk_transfer_roi: Success. Saved T1map_LL_roi in NecS3Hs09.iL1/24"
       ]
      },
      {
       "output_type": "stream",
       "stream": "stdout",
       "text": [
        "\n",
        "deleting item T1map_LL_roi"
       ]
      },
      {
       "output_type": "stream",
       "stream": "stdout",
       "text": [
        "\n",
        "bulk_transfer_roi: Success. Saved T1map_LL_roi in NecS3Hs10.iK1/6"
       ]
      },
      {
       "output_type": "stream",
       "stream": "stdout",
       "text": [
        "\n",
        "deleting item T1map_LL_roi"
       ]
      },
      {
       "output_type": "stream",
       "stream": "stdout",
       "text": [
        "\n",
        "bulk_transfer_roi: Success. Saved T1map_LL_roi in NecS3Hs10.iL1/9"
       ]
      },
      {
       "output_type": "stream",
       "stream": "stdout",
       "text": [
        "\n",
        "deleting item T1map_LL_roi"
       ]
      },
      {
       "output_type": "stream",
       "stream": "stdout",
       "text": [
        "\n",
        "bulk_transfer_roi: Success. Saved T1map_LL_roi in NecS3Hs11.iK1/9"
       ]
      },
      {
       "output_type": "stream",
       "stream": "stdout",
       "text": [
        "\n",
        "deleting item T1map_LL_roi"
       ]
      },
      {
       "output_type": "stream",
       "stream": "stdout",
       "text": [
        "\n",
        "bulk_transfer_roi: Success. Saved T1map_LL_roi in NecS3Hs11.iL1/8"
       ]
      },
      {
       "output_type": "stream",
       "stream": "stderr",
       "text": [
        "WARNING:sarpy.io.BRUKER_classes:SUBJECT_study_name not found in study: /Users/fmoosvi/bdata/stefan/nmr/NecS3Hs12.iM2\n"
       ]
      },
      {
       "output_type": "stream",
       "stream": "stdout",
       "text": [
        "\n",
        "deleting item T1map_LL_roi"
       ]
      },
      {
       "output_type": "stream",
       "stream": "stdout",
       "text": [
        "\n",
        "bulk_transfer_roi: Success. Saved T1map_LL_roi in NecS3Hs12.iL1/7"
       ]
      },
      {
       "output_type": "stream",
       "stream": "stdout",
       "text": [
        "\n",
        "bulk_transfer_roi: Key roblem with roi src scan for study NecS3Hs12.iM1, maybe this study is extra"
       ]
      },
      {
       "output_type": "stream",
       "stream": "stdout",
       "text": [
        "\n",
        "bulk_transfer_roi: T1map_LL not found in study NecS3Hs12.iM1\n",
        "bulk_transfer_roi: Key roblem with roi src scan for study NecS3Hs12.iM2, maybe this study is extra\n",
        "bulk_transfer_roi: T1map_LL not found in study NecS3Hs12.iM2\n",
        "deleting item T1map_LL_roi"
       ]
      },
      {
       "output_type": "stream",
       "stream": "stdout",
       "text": [
        "\n",
        "bulk_transfer_roi: Success. Saved T1map_LL_roi in NecS3Hs12.iM3/14"
       ]
      },
      {
       "output_type": "stream",
       "stream": "stdout",
       "text": [
        "\n",
        "deleting item T1map_LL_roi"
       ]
      },
      {
       "output_type": "stream",
       "stream": "stdout",
       "text": [
        "\n",
        "bulk_transfer_roi: Success. Saved T1map_LL_roi in NecS3Hs13.iL1/7"
       ]
      },
      {
       "output_type": "stream",
       "stream": "stdout",
       "text": [
        "\n",
        "deleting item T1map_LL_roi"
       ]
      },
      {
       "output_type": "stream",
       "stream": "stdout",
       "text": [
        "\n",
        "bulk_transfer_roi: Success. Saved T1map_LL_roi in NecS3Hs13.iM1/12"
       ]
      },
      {
       "output_type": "stream",
       "stream": "stdout",
       "text": [
        "\n",
        "deleting item T1map_LL_roi"
       ]
      },
      {
       "output_type": "stream",
       "stream": "stdout",
       "text": [
        "\n",
        "bulk_transfer_roi: Success. Saved T1map_LL_roi in NecS3Hs14.iL1/9"
       ]
      },
      {
       "output_type": "stream",
       "stream": "stdout",
       "text": [
        "\n",
        "deleting item T1map_LL_roi"
       ]
      },
      {
       "output_type": "stream",
       "stream": "stdout",
       "text": [
        "\n",
        "bulk_transfer_roi: Success. Saved T1map_LL_roi in NecS3Hs14.iM1/11"
       ]
      },
      {
       "output_type": "stream",
       "stream": "stdout",
       "text": [
        "\n",
        "deleting item T1map_LL_roi"
       ]
      },
      {
       "output_type": "stream",
       "stream": "stdout",
       "text": [
        "\n",
        "bulk_transfer_roi: Success. Saved T1map_LL_roi in NecS3Hs15.iL1/8"
       ]
      },
      {
       "output_type": "stream",
       "stream": "stdout",
       "text": [
        "\n",
        "deleting item T1map_LL_roi"
       ]
      },
      {
       "output_type": "stream",
       "stream": "stdout",
       "text": [
        "\n",
        "bulk_transfer_roi: Success. Saved T1map_LL_roi in NecS3Hs15.iM1/7"
       ]
      },
      {
       "output_type": "stream",
       "stream": "stdout",
       "text": [
        "\n",
        "Firas: you really need to fix this function so it uses the masterlist\n",
        "deleting item auc60_roi"
       ]
      },
      {
       "output_type": "stream",
       "stream": "stdout",
       "text": [
        "\n",
        "bulk_transfer_roi: Success. Saved auc60_roi in NecS3Hs02.iJ1/12"
       ]
      },
      {
       "output_type": "stream",
       "stream": "stdout",
       "text": [
        "\n",
        "deleting item auc60_roi"
       ]
      },
      {
       "output_type": "stream",
       "stream": "stdout",
       "text": [
        "\n",
        "bulk_transfer_roi: Success. Saved auc60_roi in NecS3Hs02.iK1/14"
       ]
      },
      {
       "output_type": "stream",
       "stream": "stdout",
       "text": [
        "\n",
        "deleting item auc60_roi"
       ]
      },
      {
       "output_type": "stream",
       "stream": "stdout",
       "text": [
        "\n",
        "bulk_transfer_roi: Success. Saved auc60_roi in NecS3Hs04.iJ1/11"
       ]
      },
      {
       "output_type": "stream",
       "stream": "stdout",
       "text": [
        "\n",
        "bulk_transfer_roi: Key roblem with roi src scan for study NecS3Hs04.iK1, maybe this study is extra"
       ]
      },
      {
       "output_type": "stream",
       "stream": "stdout",
       "text": [
        "\n",
        "bulk_transfer_roi: auc60 not found in study NecS3Hs04.iK1\n",
        "deleting item auc60_roi"
       ]
      },
      {
       "output_type": "stream",
       "stream": "stdout",
       "text": [
        "\n",
        "bulk_transfer_roi: Success. Saved auc60_roi in NecS3Hs04.iK2/23"
       ]
      },
      {
       "output_type": "stream",
       "stream": "stdout",
       "text": [
        "\n",
        "deleting item auc60_roi"
       ]
      },
      {
       "output_type": "stream",
       "stream": "stdout",
       "text": [
        "\n",
        "bulk_transfer_roi: Success. Saved auc60_roi in NecS3Hs05.iJ1/10"
       ]
      },
      {
       "output_type": "stream",
       "stream": "stdout",
       "text": [
        "\n",
        "deleting item auc60_roi"
       ]
      },
      {
       "output_type": "stream",
       "stream": "stdout",
       "text": [
        "\n",
        "bulk_transfer_roi: Success. Saved auc60_roi in NecS3Hs05.iK1/11"
       ]
      },
      {
       "output_type": "stream",
       "stream": "stdout",
       "text": [
        "\n",
        "deleting item auc60_roi"
       ]
      },
      {
       "output_type": "stream",
       "stream": "stdout",
       "text": [
        "\n",
        "bulk_transfer_roi: Success. Saved auc60_roi in NecS3Hs06.iJ1/9"
       ]
      },
      {
       "output_type": "stream",
       "stream": "stdout",
       "text": [
        "\n",
        "deleting item auc60_roi"
       ]
      },
      {
       "output_type": "stream",
       "stream": "stdout",
       "text": [
        "\n",
        "bulk_transfer_roi: Success. Saved auc60_roi in NecS3Hs06.iK1/13"
       ]
      },
      {
       "output_type": "stream",
       "stream": "stdout",
       "text": [
        "\n",
        "bulk_transfer_roi: auc60 not found in study NecS3Hs08.iK1"
       ]
      },
      {
       "output_type": "stream",
       "stream": "stdout",
       "text": [
        "\n",
        "deleting item auc60_roi"
       ]
      },
      {
       "output_type": "stream",
       "stream": "stdout",
       "text": [
        "\n",
        "bulk_transfer_roi: Success. Saved auc60_roi in NecS3Hs08.iL1/10"
       ]
      },
      {
       "output_type": "stream",
       "stream": "stdout",
       "text": [
        "\n",
        "bulk_transfer_roi: auc60 not found in study NecS3Hs09.iK1"
       ]
      },
      {
       "output_type": "stream",
       "stream": "stdout",
       "text": [
        "\n",
        "deleting item auc60_roi"
       ]
      },
      {
       "output_type": "stream",
       "stream": "stdout",
       "text": [
        "\n",
        "bulk_transfer_roi: Success. Saved auc60_roi in NecS3Hs09.iL1/13"
       ]
      },
      {
       "output_type": "stream",
       "stream": "stdout",
       "text": [
        "\n",
        "bulk_transfer_roi: auc60 not found in study NecS3Hs10.iK1"
       ]
      },
      {
       "output_type": "stream",
       "stream": "stdout",
       "text": [
        "\n",
        "deleting item auc60_roi"
       ]
      },
      {
       "output_type": "stream",
       "stream": "stdout",
       "text": [
        "\n",
        "bulk_transfer_roi: Success. Saved auc60_roi in NecS3Hs10.iL1/11"
       ]
      },
      {
       "output_type": "stream",
       "stream": "stdout",
       "text": [
        "\n",
        "bulk_transfer_roi: auc60 not found in study NecS3Hs11.iK1"
       ]
      },
      {
       "output_type": "stream",
       "stream": "stdout",
       "text": [
        "\n",
        "deleting item auc60_roi"
       ]
      },
      {
       "output_type": "stream",
       "stream": "stdout",
       "text": [
        "\n",
        "bulk_transfer_roi: Success. Saved auc60_roi in NecS3Hs11.iL1/10"
       ]
      },
      {
       "output_type": "stream",
       "stream": "stderr",
       "text": [
        "WARNING:sarpy.io.BRUKER_classes:SUBJECT_study_name not found in study: /Users/fmoosvi/bdata/stefan/nmr/NecS3Hs12.iM2\n"
       ]
      },
      {
       "output_type": "stream",
       "stream": "stdout",
       "text": [
        "\n",
        "bulk_transfer_roi: auc60 not found in study NecS3Hs12.iL1"
       ]
      },
      {
       "output_type": "stream",
       "stream": "stdout",
       "text": [
        "\n",
        "bulk_transfer_roi: Key roblem with roi src scan for study NecS3Hs12.iM1, maybe this study is extra"
       ]
      },
      {
       "output_type": "stream",
       "stream": "stdout",
       "text": [
        "\n",
        "bulk_transfer_roi: auc60 not found in study NecS3Hs12.iM1\n",
        "bulk_transfer_roi: Key roblem with roi src scan for study NecS3Hs12.iM2, maybe this study is extra\n",
        "bulk_transfer_roi: auc60 not found in study NecS3Hs12.iM2\n",
        "deleting item auc60_roi"
       ]
      },
      {
       "output_type": "stream",
       "stream": "stdout",
       "text": [
        "\n",
        "bulk_transfer_roi: Success. Saved auc60_roi in NecS3Hs12.iM3/16"
       ]
      },
      {
       "output_type": "stream",
       "stream": "stdout",
       "text": [
        "\n",
        "bulk_transfer_roi: auc60 not found in study NecS3Hs13.iL1"
       ]
      },
      {
       "output_type": "stream",
       "stream": "stdout",
       "text": [
        "\n",
        "deleting item auc60_roi"
       ]
      },
      {
       "output_type": "stream",
       "stream": "stdout",
       "text": [
        "\n",
        "bulk_transfer_roi: Success. Saved auc60_roi in NecS3Hs13.iM1/14"
       ]
      },
      {
       "output_type": "stream",
       "stream": "stdout",
       "text": [
        "\n",
        "bulk_transfer_roi: auc60 not found in study NecS3Hs14.iL1"
       ]
      },
      {
       "output_type": "stream",
       "stream": "stdout",
       "text": [
        "\n",
        "deleting item auc60_roi"
       ]
      },
      {
       "output_type": "stream",
       "stream": "stdout",
       "text": [
        "\n",
        "bulk_transfer_roi: Success. Saved auc60_roi in NecS3Hs14.iM1/13"
       ]
      },
      {
       "output_type": "stream",
       "stream": "stdout",
       "text": [
        "\n",
        "bulk_transfer_roi: auc60 not found in study NecS3Hs15.iL1"
       ]
      },
      {
       "output_type": "stream",
       "stream": "stdout",
       "text": [
        "\n",
        "deleting item auc60_roi"
       ]
      },
      {
       "output_type": "stream",
       "stream": "stdout",
       "text": [
        "\n",
        "bulk_transfer_roi: Success. Saved auc60_roi in NecS3Hs15.iM1/9"
       ]
      },
      {
       "output_type": "stream",
       "stream": "stdout",
       "text": [
        "\n",
        "Firas: you really need to fix this function so it uses the masterlist\n"
       ]
      }
     ],
     "prompt_number": 6
    },
    {
     "cell_type": "markdown",
     "metadata": {},
     "source": [
      "## Step 5: Perform advanced analyses (requiring ROIs or basic adata)"
     ]
    },
    {
     "cell_type": "code",
     "collapsed": false,
     "input": [
      "adv_analyze_list = []\n",
      "fFlag = True\n",
      "\n",
      "adv_analyze_list.append([ '0h-DCE1', 'ec','auc60_roi',fFlag])\n",
      "adv_analyze_list.append(['24h-DCE1','ec','auc60_roi',fFlag])\n",
      "\n",
      "adv_analyze_list.append([ '0h-DCE1', '0h-LL','T1map_LL','gd_conc',fFlag])\n",
      "adv_analyze_list.append(['24h-DCE1','24h-LL','T1map_LL','gd_conc',fFlag])\n",
      "\n",
      "adv_analyze_list.append([ '0h-DCE1', 'gd_conc','augc60',fFlag])\n",
      "adv_analyze_list.append(['24h-DCE1','gd_conc','augc60',fFlag])\n",
      "\n",
      "for items in adv_analyze_list:\n",
      "    \n",
      "    if items[1] == 'ec':\n",
      "        \n",
      "        sarpy.fmoosvi.wrappers.calc_enhancement_curve(masterlist,\n",
      "                                                      items[0],\n",
      "                                                      items[1],\n",
      "                                                      items[2],\n",
      "                                                      forceVal=items[3])\n",
      "\n",
      "    if items[3] == 'gd_conc':\n",
      "        \n",
      "        sarpy.fmoosvi.wrappers.conc_from_signal(masterlist, items[0],\n",
      "                                        data_label_T1map = items[1],\n",
      "                                        adata_label = items[2], \n",
      "                                        analysis_label = items[3],\n",
      "                                        forceVal = items[4])\n",
      "\n",
      "    elif items[2] == 'augc60':\n",
      "        \n",
      "        sarpy.fmoosvi.wrappers.calc_AUGC(masterlist,\n",
      "                                         items[0], items[1],\n",
      "                                         analysis_label=items[2],\n",
      "                                         forceVal = items[3])"
     ],
     "language": "python",
     "metadata": {},
     "outputs": [
      {
       "output_type": "stream",
       "stream": "stdout",
       "text": [
        "deleting item ec\n",
        "deleting item ec"
       ]
      },
      {
       "output_type": "stream",
       "stream": "stdout",
       "text": [
        "\n",
        "deleting item ec"
       ]
      },
      {
       "output_type": "stream",
       "stream": "stdout",
       "text": [
        "\n",
        "deleting item ec"
       ]
      },
      {
       "output_type": "stream",
       "stream": "stdout",
       "text": [
        "\n",
        "NecS3Hs08: Not found 0h-DCE1 and ec\n",
        "NecS3Hs09: Not found 0h-DCE1 and ec\n",
        "NecS3Hs10: Not found 0h-DCE1 and ec\n",
        "NecS3Hs11: Not found 0h-DCE1 and ec\n",
        "NecS3Hs12: Not found 0h-DCE1 and ec\n",
        "NecS3Hs13: Not found 0h-DCE1 and ec\n",
        "NecS3Hs14: Not found 0h-DCE1 and ec\n",
        "NecS3Hs15: Not found 0h-DCE1 and ec\n",
        "deleting item ec"
       ]
      },
      {
       "output_type": "stream",
       "stream": "stdout",
       "text": [
        "\n",
        "\n",
        " \n",
        " ***** Warning **** \n",
        " \n",
        " !!! Incomplete dce data for NecS3Hs04.iK2/23 \n",
        " \n"
       ]
      },
      {
       "output_type": "stream",
       "stream": "stdout",
       "text": [
        "\n",
        "Could not find the injection point, possibly okay0"
       ]
      },
      {
       "output_type": "stream",
       "stream": "stdout",
       "text": [
        "\n",
        "Could not find the injection point, possibly okay1\n",
        "Could not find the injection point, possibly okay2\n",
        "Could not find the injection point, possibly okay3\n",
        "deleting item ec"
       ]
      },
      {
       "output_type": "stream",
       "stream": "stdout",
       "text": [
        "\n",
        "deleting item ec"
       ]
      },
      {
       "output_type": "stream",
       "stream": "stdout",
       "text": [
        "\n",
        "deleting item ec"
       ]
      },
      {
       "output_type": "stream",
       "stream": "stdout",
       "text": [
        "\n",
        "deleting item ec"
       ]
      },
      {
       "output_type": "stream",
       "stream": "stdout",
       "text": [
        "\n",
        "deleting item ec"
       ]
      },
      {
       "output_type": "stream",
       "stream": "stdout",
       "text": [
        "\n",
        "deleting item ec"
       ]
      },
      {
       "output_type": "stream",
       "stream": "stdout",
       "text": [
        "\n",
        "deleting item ec"
       ]
      },
      {
       "output_type": "stream",
       "stream": "stdout",
       "text": [
        "\n",
        "deleting item ec"
       ]
      },
      {
       "output_type": "stream",
       "stream": "stdout",
       "text": [
        "\n",
        "deleting item ec"
       ]
      },
      {
       "output_type": "stream",
       "stream": "stdout",
       "text": [
        "\n",
        "deleting item ec"
       ]
      },
      {
       "output_type": "stream",
       "stream": "stdout",
       "text": [
        "\n",
        "deleting item ec"
       ]
      },
      {
       "output_type": "stream",
       "stream": "stderr",
       "text": [
        "/Library/Python/2.7/site-packages/scipy-0.13.0.dev_c31f167_20130514-py2.7-macosx-10.8-intel.egg/scipy/stats/stats.py:346: RuntimeWarning: invalid value encountered in true_divide\n",
        "  return np.mean(x,axis)/factor\n",
        "/phd/Dropbox/code/python/sarpy/fmoosvi/analysis.py:399: RuntimeWarning: invalid value encountered in log\n",
        "  T1[x,y,slice,inj_point:] = -TR / numpy.log(E2)\n"
       ]
      },
      {
       "output_type": "stream",
       "stream": "stdout",
       "text": [
        "\n",
        "deleting item gd_conc"
       ]
      },
      {
       "output_type": "stream",
       "stream": "stdout",
       "text": [
        "\n",
        "gd_conc: Success. Saved NecS3Hs02.iJ1/12"
       ]
      },
      {
       "output_type": "stream",
       "stream": "stdout",
       "text": [
        "\n",
        "deleting item gd_conc"
       ]
      },
      {
       "output_type": "stream",
       "stream": "stdout",
       "text": [
        "\n",
        "gd_conc: Success. Saved NecS3Hs04.iJ1/11"
       ]
      },
      {
       "output_type": "stream",
       "stream": "stdout",
       "text": [
        "\n",
        "deleting item gd_conc"
       ]
      },
      {
       "output_type": "stream",
       "stream": "stdout",
       "text": [
        "\n",
        "gd_conc: Success. Saved NecS3Hs05.iJ1/10"
       ]
      },
      {
       "output_type": "stream",
       "stream": "stdout",
       "text": [
        "\n",
        "deleting item gd_conc"
       ]
      },
      {
       "output_type": "stream",
       "stream": "stdout",
       "text": [
        "\n",
        "gd_conc: Success. Saved NecS3Hs06.iJ1/9"
       ]
      },
      {
       "output_type": "stream",
       "stream": "stdout",
       "text": [
        "\n",
        "gd_conc: Not found NecS3Hs06.iJ1/9 and 0h-DCE1\n",
        "gd_conc: Not found NecS3Hs06.iJ1/9 and 0h-DCE1\n",
        "gd_conc: Not found NecS3Hs06.iJ1/9 and 0h-DCE1\n",
        "gd_conc: Not found NecS3Hs06.iJ1/9 and 0h-DCE1\n",
        "gd_conc: Not found NecS3Hs06.iJ1/9 and 0h-DCE1\n",
        "gd_conc: Not found NecS3Hs06.iJ1/9 and 0h-DCE1\n",
        "gd_conc: Not found NecS3Hs06.iJ1/9 and 0h-DCE1\n",
        "gd_conc: Not found NecS3Hs06.iJ1/9 and 0h-DCE1\n",
        "deleting item gd_conc"
       ]
      },
      {
       "output_type": "stream",
       "stream": "stdout",
       "text": [
        "\n",
        "gd_conc: Success. Saved NecS3Hs02.iK1/14"
       ]
      },
      {
       "output_type": "stream",
       "stream": "stdout",
       "text": [
        "\n",
        "\n",
        " \n",
        " ***** Warning **** \n",
        " \n",
        " !!! Incomplete dce data for NecS3Hs04.iK2/23 \n",
        " \n"
       ]
      },
      {
       "output_type": "stream",
       "stream": "stdout",
       "text": [
        "\n",
        "Could not find the injection point, possibly okay0\n",
        "Could not find the injection point, possibly okay1\n",
        "Could not find the injection point, possibly okay2\n",
        "Could not find the injection point, possibly okay3\n",
        "deleting item gd_conc"
       ]
      },
      {
       "output_type": "stream",
       "stream": "stdout",
       "text": [
        "\n",
        "gd_conc: Success. Saved NecS3Hs04.iK2/23"
       ]
      },
      {
       "output_type": "stream",
       "stream": "stdout",
       "text": [
        "\n",
        "deleting item gd_conc"
       ]
      },
      {
       "output_type": "stream",
       "stream": "stdout",
       "text": [
        "\n",
        "gd_conc: Success. Saved NecS3Hs05.iK1/11"
       ]
      },
      {
       "output_type": "stream",
       "stream": "stdout",
       "text": [
        "\n",
        "deleting item gd_conc"
       ]
      },
      {
       "output_type": "stream",
       "stream": "stdout",
       "text": [
        "\n",
        "gd_conc: Success. Saved NecS3Hs06.iK1/13"
       ]
      },
      {
       "output_type": "stream",
       "stream": "stdout",
       "text": [
        "\n",
        "deleting item gd_conc"
       ]
      },
      {
       "output_type": "stream",
       "stream": "stdout",
       "text": [
        "\n",
        "gd_conc: Success. Saved NecS3Hs08.iL1/10"
       ]
      },
      {
       "output_type": "stream",
       "stream": "stdout",
       "text": [
        "\n",
        "deleting item gd_conc"
       ]
      },
      {
       "output_type": "stream",
       "stream": "stdout",
       "text": [
        "\n",
        "gd_conc: Success. Saved NecS3Hs09.iL1/13"
       ]
      },
      {
       "output_type": "stream",
       "stream": "stdout",
       "text": [
        "\n",
        "deleting item gd_conc"
       ]
      },
      {
       "output_type": "stream",
       "stream": "stdout",
       "text": [
        "\n",
        "gd_conc: Success. Saved NecS3Hs10.iL1/11"
       ]
      },
      {
       "output_type": "stream",
       "stream": "stdout",
       "text": [
        "\n",
        "deleting item gd_conc"
       ]
      },
      {
       "output_type": "stream",
       "stream": "stdout",
       "text": [
        "\n",
        "gd_conc: Success. Saved NecS3Hs11.iL1/10"
       ]
      },
      {
       "output_type": "stream",
       "stream": "stdout",
       "text": [
        "\n",
        "deleting item gd_conc"
       ]
      },
      {
       "output_type": "stream",
       "stream": "stdout",
       "text": [
        "\n",
        "gd_conc: Success. Saved NecS3Hs12.iM3/16"
       ]
      },
      {
       "output_type": "stream",
       "stream": "stdout",
       "text": [
        "\n",
        "deleting item gd_conc"
       ]
      },
      {
       "output_type": "stream",
       "stream": "stdout",
       "text": [
        "\n",
        "gd_conc: Success. Saved NecS3Hs13.iM1/14"
       ]
      },
      {
       "output_type": "stream",
       "stream": "stdout",
       "text": [
        "\n",
        "deleting item gd_conc"
       ]
      },
      {
       "output_type": "stream",
       "stream": "stdout",
       "text": [
        "\n",
        "gd_conc: Success. Saved NecS3Hs14.iM1/13"
       ]
      },
      {
       "output_type": "stream",
       "stream": "stdout",
       "text": [
        "\n",
        "deleting item gd_conc"
       ]
      },
      {
       "output_type": "stream",
       "stream": "stdout",
       "text": [
        "\n",
        "gd_conc: Success. Saved NecS3Hs15.iM1/9"
       ]
      },
      {
       "output_type": "stream",
       "stream": "stdout",
       "text": [
        "\n",
        "deleting item augc60"
       ]
      },
      {
       "output_type": "stream",
       "stream": "stdout",
       "text": [
        "\n",
        "augc60: Success. Saved NecS3Hs02.iJ1/12"
       ]
      },
      {
       "output_type": "stream",
       "stream": "stdout",
       "text": [
        "\n",
        "deleting item augc60"
       ]
      },
      {
       "output_type": "stream",
       "stream": "stdout",
       "text": [
        "\n",
        "augc60: Success. Saved NecS3Hs04.iJ1/11"
       ]
      },
      {
       "output_type": "stream",
       "stream": "stdout",
       "text": [
        "\n",
        "deleting item augc60"
       ]
      },
      {
       "output_type": "stream",
       "stream": "stdout",
       "text": [
        "\n",
        "augc60: Success. Saved NecS3Hs05.iJ1/10"
       ]
      },
      {
       "output_type": "stream",
       "stream": "stdout",
       "text": [
        "\n",
        "deleting item augc60"
       ]
      },
      {
       "output_type": "stream",
       "stream": "stdout",
       "text": [
        "\n",
        "augc60: Success. Saved NecS3Hs06.iJ1/9"
       ]
      },
      {
       "output_type": "stream",
       "stream": "stdout",
       "text": [
        "\n",
        "augc60: Not found NecS3Hs08 and 0h-DCE1\n",
        "deleting item augc60"
       ]
      },
      {
       "output_type": "stream",
       "stream": "stdout",
       "text": [
        "\n",
        "augc60: Success. Saved NecS3Hs06.iJ1/9"
       ]
      },
      {
       "output_type": "stream",
       "stream": "stdout",
       "text": [
        "\n",
        "augc60: Not found NecS3Hs09 and 0h-DCE1\n",
        "deleting item augc60"
       ]
      },
      {
       "output_type": "stream",
       "stream": "stdout",
       "text": [
        "\n",
        "augc60: Success. Saved NecS3Hs06.iJ1/9"
       ]
      },
      {
       "output_type": "stream",
       "stream": "stdout",
       "text": [
        "\n",
        "augc60: Not found NecS3Hs10 and 0h-DCE1\n",
        "deleting item augc60"
       ]
      },
      {
       "output_type": "stream",
       "stream": "stdout",
       "text": [
        "\n",
        "augc60: Success. Saved NecS3Hs06.iJ1/9"
       ]
      },
      {
       "output_type": "stream",
       "stream": "stdout",
       "text": [
        "\n",
        "augc60: Not found NecS3Hs11 and 0h-DCE1\n",
        "deleting item augc60"
       ]
      },
      {
       "output_type": "stream",
       "stream": "stdout",
       "text": [
        "\n",
        "augc60: Success. Saved NecS3Hs06.iJ1/9"
       ]
      },
      {
       "output_type": "stream",
       "stream": "stdout",
       "text": [
        "\n",
        "augc60: Not found NecS3Hs12 and 0h-DCE1\n",
        "deleting item augc60"
       ]
      },
      {
       "output_type": "stream",
       "stream": "stdout",
       "text": [
        "\n",
        "augc60: Success. Saved NecS3Hs06.iJ1/9"
       ]
      },
      {
       "output_type": "stream",
       "stream": "stdout",
       "text": [
        "\n",
        "augc60: Not found NecS3Hs13 and 0h-DCE1\n",
        "deleting item augc60"
       ]
      },
      {
       "output_type": "stream",
       "stream": "stdout",
       "text": [
        "\n",
        "augc60: Success. Saved NecS3Hs06.iJ1/9"
       ]
      },
      {
       "output_type": "stream",
       "stream": "stdout",
       "text": [
        "\n",
        "augc60: Not found NecS3Hs14 and 0h-DCE1\n",
        "deleting item augc60"
       ]
      },
      {
       "output_type": "stream",
       "stream": "stdout",
       "text": [
        "\n",
        "augc60: Success. Saved NecS3Hs06.iJ1/9"
       ]
      },
      {
       "output_type": "stream",
       "stream": "stdout",
       "text": [
        "\n",
        "augc60: Not found NecS3Hs15 and 0h-DCE1\n",
        "deleting item augc60"
       ]
      },
      {
       "output_type": "stream",
       "stream": "stdout",
       "text": [
        "\n",
        "augc60: Success. Saved NecS3Hs06.iJ1/9"
       ]
      },
      {
       "output_type": "stream",
       "stream": "stdout",
       "text": [
        "\n",
        "deleting item augc60"
       ]
      },
      {
       "output_type": "stream",
       "stream": "stdout",
       "text": [
        "\n",
        "augc60: Success. Saved NecS3Hs02.iK1/14"
       ]
      },
      {
       "output_type": "stream",
       "stream": "stdout",
       "text": [
        "\n",
        "\n",
        " \n",
        " ***** Warning **** \n",
        " \n",
        " !!! Incomplete dce data for NecS3Hs04.iK2/23 \n",
        " \n",
        " "
       ]
      },
      {
       "output_type": "stream",
       "stream": "stdout",
       "text": [
        "\n",
        "Could not find the injection point, possibly okay0\n",
        "Could not find the injection point, possibly okay1\n",
        "Could not find the injection point, possibly okay2\n",
        "Could not find the injection point, possibly okay3\n",
        "deleting item augc60"
       ]
      },
      {
       "output_type": "stream",
       "stream": "stdout",
       "text": [
        "\n",
        "augc60: Success. Saved NecS3Hs04.iK2/23"
       ]
      },
      {
       "output_type": "stream",
       "stream": "stdout",
       "text": [
        "\n",
        "deleting item augc60"
       ]
      },
      {
       "output_type": "stream",
       "stream": "stdout",
       "text": [
        "\n",
        "augc60: Success. Saved NecS3Hs05.iK1/11"
       ]
      },
      {
       "output_type": "stream",
       "stream": "stdout",
       "text": [
        "\n",
        "deleting item augc60"
       ]
      },
      {
       "output_type": "stream",
       "stream": "stdout",
       "text": [
        "\n",
        "augc60: Success. Saved NecS3Hs06.iK1/13"
       ]
      },
      {
       "output_type": "stream",
       "stream": "stdout",
       "text": [
        "\n",
        "deleting item augc60"
       ]
      },
      {
       "output_type": "stream",
       "stream": "stdout",
       "text": [
        "\n",
        "augc60: Success. Saved NecS3Hs08.iL1/10"
       ]
      },
      {
       "output_type": "stream",
       "stream": "stdout",
       "text": [
        "\n",
        "deleting item augc60"
       ]
      },
      {
       "output_type": "stream",
       "stream": "stdout",
       "text": [
        "\n",
        "augc60: Success. Saved NecS3Hs09.iL1/13"
       ]
      },
      {
       "output_type": "stream",
       "stream": "stdout",
       "text": [
        "\n",
        "deleting item augc60"
       ]
      },
      {
       "output_type": "stream",
       "stream": "stdout",
       "text": [
        "\n",
        "augc60: Success. Saved NecS3Hs10.iL1/11"
       ]
      },
      {
       "output_type": "stream",
       "stream": "stdout",
       "text": [
        "\n",
        "deleting item augc60"
       ]
      },
      {
       "output_type": "stream",
       "stream": "stdout",
       "text": [
        "\n",
        "augc60: Success. Saved NecS3Hs11.iL1/10"
       ]
      },
      {
       "output_type": "stream",
       "stream": "stdout",
       "text": [
        "\n",
        "deleting item augc60"
       ]
      },
      {
       "output_type": "stream",
       "stream": "stdout",
       "text": [
        "\n",
        "augc60: Success. Saved NecS3Hs12.iM3/16"
       ]
      },
      {
       "output_type": "stream",
       "stream": "stdout",
       "text": [
        "\n",
        "deleting item augc60"
       ]
      },
      {
       "output_type": "stream",
       "stream": "stdout",
       "text": [
        "\n",
        "augc60: Success. Saved NecS3Hs13.iM1/14"
       ]
      },
      {
       "output_type": "stream",
       "stream": "stdout",
       "text": [
        "\n",
        "deleting item augc60"
       ]
      },
      {
       "output_type": "stream",
       "stream": "stdout",
       "text": [
        "\n",
        "augc60: Success. Saved NecS3Hs14.iM1/13"
       ]
      },
      {
       "output_type": "stream",
       "stream": "stdout",
       "text": [
        "\n",
        "deleting item augc60"
       ]
      },
      {
       "output_type": "stream",
       "stream": "stdout",
       "text": [
        "\n",
        "augc60: Success. Saved NecS3Hs15.iM1/9"
       ]
      },
      {
       "output_type": "stream",
       "stream": "stdout",
       "text": [
        "\n"
       ]
      },
      {
       "output_type": "stream",
       "stream": "stderr",
       "text": [
        "/phd/Dropbox/code/python/sarpy/fmoosvi/analysis.py:399: RuntimeWarning: divide by zero encountered in double_scalars\n",
        "  T1[x,y,slice,inj_point:] = -TR / numpy.log(E2)\n"
       ]
      }
     ],
     "prompt_number": 7
    },
    {
     "cell_type": "markdown",
     "metadata": {},
     "source": [
      "## Step 5B: Transfer more ROIs"
     ]
    },
    {
     "cell_type": "code",
     "collapsed": false,
     "input": [
      "fFlag = True\n",
      "label = []\n",
      "label.append('augc60')\n",
      "\n",
      "for l in label:\n",
      "    sarpy.fmoosvi.wrappers.bulk_transfer_roi(masterlist,l,forceVal = fFlag)"
     ],
     "language": "python",
     "metadata": {},
     "outputs": [
      {
       "output_type": "stream",
       "stream": "stdout",
       "text": [
        "deleting item augc60_roi\n",
        "bulk_transfer_roi: Success. Saved augc60_roi in NecS3Hs02.iJ1/12"
       ]
      },
      {
       "output_type": "stream",
       "stream": "stdout",
       "text": [
        "\n",
        "deleting item augc60_roi"
       ]
      },
      {
       "output_type": "stream",
       "stream": "stdout",
       "text": [
        "\n",
        "bulk_transfer_roi: Success. Saved augc60_roi in NecS3Hs02.iK1/14"
       ]
      },
      {
       "output_type": "stream",
       "stream": "stdout",
       "text": [
        "\n",
        "deleting item augc60_roi"
       ]
      },
      {
       "output_type": "stream",
       "stream": "stdout",
       "text": [
        "\n",
        "bulk_transfer_roi: Success. Saved augc60_roi in NecS3Hs04.iJ1/11"
       ]
      },
      {
       "output_type": "stream",
       "stream": "stdout",
       "text": [
        "\n",
        "bulk_transfer_roi: Key roblem with roi src scan for study NecS3Hs04.iK1, maybe this study is extra"
       ]
      },
      {
       "output_type": "stream",
       "stream": "stdout",
       "text": [
        "\n",
        "bulk_transfer_roi: augc60 not found in study NecS3Hs04.iK1\n",
        "deleting item augc60_roi"
       ]
      },
      {
       "output_type": "stream",
       "stream": "stdout",
       "text": [
        "\n",
        "bulk_transfer_roi: Success. Saved augc60_roi in NecS3Hs04.iK2/23"
       ]
      },
      {
       "output_type": "stream",
       "stream": "stdout",
       "text": [
        "\n",
        "deleting item augc60_roi"
       ]
      },
      {
       "output_type": "stream",
       "stream": "stdout",
       "text": [
        "\n",
        "bulk_transfer_roi: Success. Saved augc60_roi in NecS3Hs05.iJ1/10"
       ]
      },
      {
       "output_type": "stream",
       "stream": "stdout",
       "text": [
        "\n",
        "deleting item augc60_roi"
       ]
      },
      {
       "output_type": "stream",
       "stream": "stdout",
       "text": [
        "\n",
        "bulk_transfer_roi: Success. Saved augc60_roi in NecS3Hs05.iK1/11"
       ]
      },
      {
       "output_type": "stream",
       "stream": "stdout",
       "text": [
        "\n",
        "deleting item augc60_roi"
       ]
      },
      {
       "output_type": "stream",
       "stream": "stdout",
       "text": [
        "\n",
        "bulk_transfer_roi: Success. Saved augc60_roi in NecS3Hs06.iJ1/9"
       ]
      },
      {
       "output_type": "stream",
       "stream": "stdout",
       "text": [
        "\n",
        "deleting item augc60_roi"
       ]
      },
      {
       "output_type": "stream",
       "stream": "stdout",
       "text": [
        "\n",
        "bulk_transfer_roi: Success. Saved augc60_roi in NecS3Hs06.iK1/13"
       ]
      },
      {
       "output_type": "stream",
       "stream": "stdout",
       "text": [
        "\n",
        "bulk_transfer_roi: augc60 not found in study NecS3Hs08.iK1"
       ]
      },
      {
       "output_type": "stream",
       "stream": "stdout",
       "text": [
        "\n",
        "deleting item augc60_roi"
       ]
      },
      {
       "output_type": "stream",
       "stream": "stdout",
       "text": [
        "\n",
        "bulk_transfer_roi: Success. Saved augc60_roi in NecS3Hs08.iL1/10"
       ]
      },
      {
       "output_type": "stream",
       "stream": "stdout",
       "text": [
        "\n",
        "bulk_transfer_roi: augc60 not found in study NecS3Hs09.iK1"
       ]
      },
      {
       "output_type": "stream",
       "stream": "stdout",
       "text": [
        "\n",
        "deleting item augc60_roi"
       ]
      },
      {
       "output_type": "stream",
       "stream": "stdout",
       "text": [
        "\n",
        "bulk_transfer_roi: Success. Saved augc60_roi in NecS3Hs09.iL1/13"
       ]
      },
      {
       "output_type": "stream",
       "stream": "stdout",
       "text": [
        "\n",
        "bulk_transfer_roi: augc60 not found in study NecS3Hs10.iK1"
       ]
      },
      {
       "output_type": "stream",
       "stream": "stdout",
       "text": [
        "\n",
        "deleting item augc60_roi"
       ]
      },
      {
       "output_type": "stream",
       "stream": "stdout",
       "text": [
        "\n",
        "bulk_transfer_roi: Success. Saved augc60_roi in NecS3Hs10.iL1/11"
       ]
      },
      {
       "output_type": "stream",
       "stream": "stdout",
       "text": [
        "\n",
        "bulk_transfer_roi: augc60 not found in study NecS3Hs11.iK1"
       ]
      },
      {
       "output_type": "stream",
       "stream": "stdout",
       "text": [
        "\n",
        "deleting item augc60_roi"
       ]
      },
      {
       "output_type": "stream",
       "stream": "stdout",
       "text": [
        "\n",
        "bulk_transfer_roi: Success. Saved augc60_roi in NecS3Hs11.iL1/10"
       ]
      },
      {
       "output_type": "stream",
       "stream": "stderr",
       "text": [
        "WARNING:sarpy.io.BRUKER_classes:SUBJECT_study_name not found in study: /Users/fmoosvi/bdata/stefan/nmr/NecS3Hs12.iM2\n"
       ]
      },
      {
       "output_type": "stream",
       "stream": "stdout",
       "text": [
        "\n",
        "bulk_transfer_roi: augc60 not found in study NecS3Hs12.iL1"
       ]
      },
      {
       "output_type": "stream",
       "stream": "stdout",
       "text": [
        "\n",
        "bulk_transfer_roi: Key roblem with roi src scan for study NecS3Hs12.iM1, maybe this study is extra"
       ]
      },
      {
       "output_type": "stream",
       "stream": "stdout",
       "text": [
        "\n",
        "bulk_transfer_roi: augc60 not found in study NecS3Hs12.iM1\n",
        "bulk_transfer_roi: Key roblem with roi src scan for study NecS3Hs12.iM2, maybe this study is extra\n",
        "bulk_transfer_roi: augc60 not found in study NecS3Hs12.iM2\n",
        "deleting item augc60_roi"
       ]
      },
      {
       "output_type": "stream",
       "stream": "stdout",
       "text": [
        "\n",
        "bulk_transfer_roi: Success. Saved augc60_roi in NecS3Hs12.iM3/16"
       ]
      },
      {
       "output_type": "stream",
       "stream": "stdout",
       "text": [
        "\n",
        "bulk_transfer_roi: augc60 not found in study NecS3Hs13.iL1"
       ]
      },
      {
       "output_type": "stream",
       "stream": "stdout",
       "text": [
        "\n",
        "deleting item augc60_roi"
       ]
      },
      {
       "output_type": "stream",
       "stream": "stdout",
       "text": [
        "\n",
        "bulk_transfer_roi: Success. Saved augc60_roi in NecS3Hs13.iM1/14"
       ]
      },
      {
       "output_type": "stream",
       "stream": "stdout",
       "text": [
        "\n",
        "bulk_transfer_roi: augc60 not found in study NecS3Hs14.iL1"
       ]
      },
      {
       "output_type": "stream",
       "stream": "stdout",
       "text": [
        "\n",
        "deleting item augc60_roi"
       ]
      },
      {
       "output_type": "stream",
       "stream": "stdout",
       "text": [
        "\n",
        "bulk_transfer_roi: Success. Saved augc60_roi in NecS3Hs14.iM1/13"
       ]
      },
      {
       "output_type": "stream",
       "stream": "stdout",
       "text": [
        "\n",
        "bulk_transfer_roi: augc60 not found in study NecS3Hs15.iL1"
       ]
      },
      {
       "output_type": "stream",
       "stream": "stdout",
       "text": [
        "\n",
        "deleting item augc60_roi"
       ]
      },
      {
       "output_type": "stream",
       "stream": "stdout",
       "text": [
        "\n",
        "bulk_transfer_roi: Success. Saved augc60_roi in NecS3Hs15.iM1/9"
       ]
      },
      {
       "output_type": "stream",
       "stream": "stdout",
       "text": [
        "\n",
        "Firas: you really need to fix this function so it uses the masterlist\n"
       ]
      }
     ],
     "prompt_number": 8
    },
    {
     "cell_type": "code",
     "collapsed": false,
     "input": [
      "print(datetime.now()-startTime)"
     ],
     "language": "python",
     "metadata": {},
     "outputs": [
      {
       "output_type": "stream",
       "stream": "stdout",
       "text": [
        "5:22:04.331905\n"
       ]
      }
     ],
     "prompt_number": 9
    },
    {
     "cell_type": "markdown",
     "metadata": {},
     "source": [
      "## Step 6: Averages"
     ]
    },
    {
     "cell_type": "code",
     "collapsed": false,
     "input": [
      "## T1 average\n",
      "\n",
      "data_label = ['0h-LL','24h-LL']\n",
      "adata_label = 'T1map_LL'\n",
      "roi_label = 'T1map_LL_roi'\n",
      "analysis_label = 'T1avg'\n",
      "fFlag = True\n",
      "\n",
      "for s in data_label:\n",
      "    sarpy.fmoosvi.wrappers.roi_average(masterlist,s, adata_label, roi_label,analysis_label,fFlag)"
     ],
     "language": "python",
     "metadata": {},
     "outputs": [
      {
       "output_type": "stream",
       "stream": "stdout",
       "text": [
        "deleting item T1avg\n",
        "T1avg: Success. Saved NecS3Hs02.iJ1/10\n",
        "deleting item T1avg"
       ]
      },
      {
       "output_type": "stream",
       "stream": "stdout",
       "text": [
        "\n",
        "T1avg: Success. Saved NecS3Hs04.iJ1/9\n",
        "deleting item T1avg"
       ]
      },
      {
       "output_type": "stream",
       "stream": "stdout",
       "text": [
        "\n",
        "T1avg: Success. Saved NecS3Hs05.iJ1/8\n",
        "deleting item T1avg"
       ]
      },
      {
       "output_type": "stream",
       "stream": "stdout",
       "text": [
        "\n",
        "T1avg: Success. Saved NecS3Hs06.iJ1/7\n",
        "deleting item T1avg"
       ]
      },
      {
       "output_type": "stream",
       "stream": "stdout",
       "text": [
        "\n",
        "T1avg: Success. Saved NecS3Hs08.iK1/7\n",
        "deleting item T1avg"
       ]
      },
      {
       "output_type": "stream",
       "stream": "stdout",
       "text": [
        "\n",
        "T1avg: Success. Saved NecS3Hs09.iK1/7\n",
        "deleting item T1avg"
       ]
      },
      {
       "output_type": "stream",
       "stream": "stdout",
       "text": [
        "\n",
        "T1avg: Success. Saved NecS3Hs10.iK1/6\n",
        "deleting item T1avg"
       ]
      },
      {
       "output_type": "stream",
       "stream": "stdout",
       "text": [
        "\n",
        "T1avg: Success. Saved NecS3Hs11.iK1/9\n",
        "deleting item T1avg"
       ]
      },
      {
       "output_type": "stream",
       "stream": "stdout",
       "text": [
        "\n",
        "T1avg: Success. Saved NecS3Hs12.iL1/7\n",
        "deleting item T1avg"
       ]
      },
      {
       "output_type": "stream",
       "stream": "stdout",
       "text": [
        "\n",
        "T1avg: Success. Saved NecS3Hs13.iL1/7\n",
        "deleting item T1avg"
       ]
      },
      {
       "output_type": "stream",
       "stream": "stdout",
       "text": [
        "\n",
        "T1avg: Success. Saved NecS3Hs14.iL1/9\n",
        "deleting item T1avg"
       ]
      },
      {
       "output_type": "stream",
       "stream": "stdout",
       "text": [
        "\n",
        "T1avg: Success. Saved NecS3Hs15.iL1/8\n",
        "deleting item T1avg"
       ]
      },
      {
       "output_type": "stream",
       "stream": "stdout",
       "text": [
        "\n",
        "T1avg: Success. Saved NecS3Hs02.iK1/11\n",
        "deleting item T1avg"
       ]
      },
      {
       "output_type": "stream",
       "stream": "stdout",
       "text": [
        "\n",
        "T1avg: Success. Saved NecS3Hs04.iK2/10\n",
        "deleting item T1avg"
       ]
      },
      {
       "output_type": "stream",
       "stream": "stdout",
       "text": [
        "\n",
        "T1avg: Success. Saved NecS3Hs05.iK1/9\n",
        "deleting item T1avg"
       ]
      },
      {
       "output_type": "stream",
       "stream": "stdout",
       "text": [
        "\n",
        "T1avg: Success. Saved NecS3Hs06.iK1/11\n",
        "deleting item T1avg"
       ]
      },
      {
       "output_type": "stream",
       "stream": "stdout",
       "text": [
        "\n",
        "T1avg: Success. Saved NecS3Hs08.iL1/8\n",
        "deleting item T1avg"
       ]
      },
      {
       "output_type": "stream",
       "stream": "stdout",
       "text": [
        "\n",
        "T1avg: Success. Saved NecS3Hs09.iL1/24\n",
        "deleting item T1avg"
       ]
      },
      {
       "output_type": "stream",
       "stream": "stdout",
       "text": [
        "\n",
        "T1avg: Success. Saved NecS3Hs10.iL1/9\n",
        "deleting item T1avg"
       ]
      },
      {
       "output_type": "stream",
       "stream": "stdout",
       "text": [
        "\n",
        "T1avg: Success. Saved NecS3Hs11.iL1/8\n",
        "deleting item T1avg"
       ]
      },
      {
       "output_type": "stream",
       "stream": "stdout",
       "text": [
        "\n",
        "T1avg: Success. Saved NecS3Hs12.iM3/14\n",
        "deleting item T1avg"
       ]
      },
      {
       "output_type": "stream",
       "stream": "stdout",
       "text": [
        "\n",
        "T1avg: Success. Saved NecS3Hs13.iM1/12\n",
        "deleting item T1avg"
       ]
      },
      {
       "output_type": "stream",
       "stream": "stdout",
       "text": [
        "\n",
        "T1avg: Success. Saved NecS3Hs14.iM1/11\n",
        "deleting item T1avg"
       ]
      },
      {
       "output_type": "stream",
       "stream": "stdout",
       "text": [
        "\n",
        "T1avg: Success. Saved NecS3Hs15.iM1/7\n"
       ]
      },
      {
       "output_type": "stream",
       "stream": "stderr",
       "text": [
        "/Library/Python/2.7/site-packages/scipy-0.13.0.dev_c31f167_20130514-py2.7-macosx-10.8-intel.egg/scipy/stats/stats.py:346: RuntimeWarning: invalid value encountered in double_scalars\n",
        "  return np.mean(x,axis)/factor\n"
       ]
      }
     ],
     "prompt_number": 10
    },
    {
     "cell_type": "code",
     "collapsed": false,
     "input": [
      "## AUC60\n",
      "\n",
      "data_label = ['24h-DCE1']\n",
      "adata_label = 'auc60'\n",
      "roi_label = 'auc60_roi'\n",
      "analysis_label = 'auc60avg'\n",
      "fFlag = True\n",
      "\n",
      "for s in data_label:\n",
      "    sarpy.fmoosvi.wrappers.roi_average(masterlist,s, adata_label, roi_label,analysis_label,fFlag)"
     ],
     "language": "python",
     "metadata": {},
     "outputs": [
      {
       "output_type": "stream",
       "stream": "stdout",
       "text": [
        "deleting item auc60avg\n",
        "auc60avg: Success. Saved NecS3Hs02.iK1/14\n",
        "deleting item auc60avg"
       ]
      },
      {
       "output_type": "stream",
       "stream": "stdout",
       "text": [
        "\n",
        "auc60avg: Success. Saved NecS3Hs04.iK2/23\n",
        "deleting item auc60avg"
       ]
      },
      {
       "output_type": "stream",
       "stream": "stdout",
       "text": [
        "\n",
        "auc60avg: Success. Saved NecS3Hs05.iK1/11\n",
        "deleting item auc60avg"
       ]
      },
      {
       "output_type": "stream",
       "stream": "stdout",
       "text": [
        "\n",
        "auc60avg: Success. Saved NecS3Hs06.iK1/13\n",
        "deleting item auc60avg"
       ]
      },
      {
       "output_type": "stream",
       "stream": "stdout",
       "text": [
        "\n",
        "auc60avg: Success. Saved NecS3Hs08.iL1/10"
       ]
      },
      {
       "output_type": "stream",
       "stream": "stdout",
       "text": [
        "\n",
        "deleting item auc60avg"
       ]
      },
      {
       "output_type": "stream",
       "stream": "stdout",
       "text": [
        "\n",
        "auc60avg: Success. Saved NecS3Hs09.iL1/13\n",
        "deleting item auc60avg"
       ]
      },
      {
       "output_type": "stream",
       "stream": "stdout",
       "text": [
        "\n",
        "auc60avg: Success. Saved NecS3Hs10.iL1/11\n",
        "deleting item auc60avg"
       ]
      },
      {
       "output_type": "stream",
       "stream": "stdout",
       "text": [
        "\n",
        "auc60avg: Success. Saved NecS3Hs11.iL1/10\n",
        "deleting item auc60avg"
       ]
      },
      {
       "output_type": "stream",
       "stream": "stdout",
       "text": [
        "\n",
        "auc60avg: Success. Saved NecS3Hs12.iM3/16\n",
        "deleting item auc60avg"
       ]
      },
      {
       "output_type": "stream",
       "stream": "stdout",
       "text": [
        "\n",
        "auc60avg: Success. Saved NecS3Hs13.iM1/14\n",
        "deleting item auc60avg"
       ]
      },
      {
       "output_type": "stream",
       "stream": "stdout",
       "text": [
        "\n",
        "auc60avg: Success. Saved NecS3Hs14.iM1/13\n",
        "deleting item auc60avg"
       ]
      },
      {
       "output_type": "stream",
       "stream": "stdout",
       "text": [
        "\n",
        "auc60avg: Success. Saved NecS3Hs15.iM1/9\n"
       ]
      }
     ],
     "prompt_number": 11
    },
    {
     "cell_type": "code",
     "collapsed": false,
     "input": [
      "## AUGC60\n",
      "\n",
      "data_label = ['24h-DCE1']\n",
      "adata_label = 'augc60'\n",
      "roi_label = 'augc60_roi'\n",
      "analysis_label = 'augc60avg'\n",
      "fFlag = True\n",
      "\n",
      "for s in data_label:\n",
      "    sarpy.fmoosvi.wrappers.roi_average(masterlist,s, adata_label, roi_label,analysis_label,fFlag)"
     ],
     "language": "python",
     "metadata": {},
     "outputs": [
      {
       "output_type": "stream",
       "stream": "stdout",
       "text": [
        "deleting item augc60avg\n",
        "augc60avg: Success. Saved NecS3Hs02.iK1/14\n",
        "deleting item augc60avg"
       ]
      },
      {
       "output_type": "stream",
       "stream": "stdout",
       "text": [
        "\n",
        "augc60avg: Success. Saved NecS3Hs04.iK2/23\n",
        "deleting item augc60avg"
       ]
      },
      {
       "output_type": "stream",
       "stream": "stdout",
       "text": [
        "\n",
        "augc60avg: Success. Saved NecS3Hs05.iK1/11\n",
        "deleting item augc60avg"
       ]
      },
      {
       "output_type": "stream",
       "stream": "stdout",
       "text": [
        "\n",
        "augc60avg: Success. Saved NecS3Hs06.iK1/13\n",
        "deleting item augc60avg"
       ]
      },
      {
       "output_type": "stream",
       "stream": "stdout",
       "text": [
        "\n",
        "augc60avg: Success. Saved NecS3Hs08.iL1/10\n",
        "deleting item augc60avg"
       ]
      },
      {
       "output_type": "stream",
       "stream": "stdout",
       "text": [
        "\n",
        "augc60avg: Success. Saved NecS3Hs09.iL1/13\n",
        "deleting item augc60avg"
       ]
      },
      {
       "output_type": "stream",
       "stream": "stdout",
       "text": [
        "\n",
        "augc60avg: Success. Saved NecS3Hs10.iL1/11\n",
        "deleting item augc60avg"
       ]
      },
      {
       "output_type": "stream",
       "stream": "stdout",
       "text": [
        "\n",
        "augc60avg: Success. Saved NecS3Hs11.iL1/10\n",
        "deleting item augc60avg"
       ]
      },
      {
       "output_type": "stream",
       "stream": "stdout",
       "text": [
        "\n",
        "augc60avg: Success. Saved NecS3Hs12.iM3/16\n",
        "deleting item augc60avg"
       ]
      },
      {
       "output_type": "stream",
       "stream": "stdout",
       "text": [
        "\n",
        "augc60avg: Success. Saved NecS3Hs13.iM1/14\n",
        "deleting item augc60avg"
       ]
      },
      {
       "output_type": "stream",
       "stream": "stdout",
       "text": [
        "\n",
        "augc60avg: Success. Saved NecS3Hs14.iM1/13\n",
        "deleting item augc60avg"
       ]
      },
      {
       "output_type": "stream",
       "stream": "stdout",
       "text": [
        "\n",
        "augc60avg: Success. Saved NecS3Hs15.iM1/9\n"
       ]
      }
     ],
     "prompt_number": 12
    },
    {
     "cell_type": "code",
     "collapsed": false,
     "input": [
      "### Export everything as as csv"
     ],
     "language": "python",
     "metadata": {},
     "outputs": [],
     "prompt_number": 13
    },
    {
     "cell_type": "code",
     "collapsed": false,
     "input": [
      "import sarpy\n",
      "csv_list = []\n",
      "\n",
      "csv_list.append(['0h-LL','T1avg'])\n",
      "csv_list.append(['24h-LL','T1avg'])\n",
      "csv_list.append(['24h-DCE1','auc60avg'])\n",
      "csv_list.append(['24h-DCE1','augc60avg'])\n",
      "\n",
      "for it in csv_list:\n",
      "    \n",
      "    sarpy.io.write_csv.write_csv(masterlist,it[0],it[1])"
     ],
     "language": "python",
     "metadata": {},
     "outputs": [],
     "prompt_number": 14
    },
    {
     "cell_type": "code",
     "collapsed": false,
     "input": [
      "# Print out T1 avgs for Necs3"
     ],
     "language": "python",
     "metadata": {},
     "outputs": [],
     "prompt_number": 15
    },
    {
     "cell_type": "code",
     "collapsed": false,
     "input": [
      "necs3 = sarpy.Experiment('NecS3').find_adata_scans()['T1avg']"
     ],
     "language": "python",
     "metadata": {},
     "outputs": [
      {
       "output_type": "stream",
       "stream": "stderr",
       "text": [
        "WARNING:sarpy.io.BRUKER_classes:SUBJECT_study_name not found in study: /Users/fmoosvi/bdata/stefan/nmr/NecS3Hs12.iM2\n"
       ]
      }
     ],
     "prompt_number": 16
    },
    {
     "cell_type": "code",
     "collapsed": false,
     "input": [
      " "
     ],
     "language": "python",
     "metadata": {},
     "outputs": [],
     "prompt_number": 16
    }
   ],
   "metadata": {}
  }
 ]
}