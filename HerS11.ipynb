{
 "metadata": {
  "name": ""
 },
 "nbformat": 3,
 "nbformat_minor": 0,
 "worksheets": [
  {
   "cells": [
    {
     "cell_type": "code",
     "collapsed": false,
     "input": [
      "import sarpy\n",
      "import sarpy.io\n",
      "import sarpy.io.bulk_analyze\n",
      "import sarpy.fmoosvi.analysis\n",
      "import sarpy.io.masterlist\n",
      "import sarpy.fmoosvi.getters\n",
      "import sarpy.fmoosvi.wrappers\n",
      "import sarpy.io.write_csv\n",
      "import collections\n",
      "import os\n",
      "\n",
      "masterlist = 'HerS11'\n",
      "config_file = 'HerS11/HerS11.config'"
     ],
     "language": "python",
     "metadata": {},
     "outputs": [],
     "prompt_number": 1
    },
    {
     "cell_type": "code",
     "collapsed": false,
     "input": [
      "sarpy.io.masterlist.generate(conf_file=config_file)"
     ],
     "language": "python",
     "metadata": {},
     "outputs": [
      {
       "output_type": "stream",
       "stream": "stdout",
       "text": [
        "loading config file HerS11/HerS11.config\n",
        "HerS11Bs05\n",
        "HerS11Bs06"
       ]
      },
      {
       "output_type": "stream",
       "stream": "stdout",
       "text": [
        "\n",
        "\t warning (SCAN #0 not found amongst the 03_RARE_T2w_hires) \"anatomy-0h-\" for HerS11Bs06"
       ]
      },
      {
       "output_type": "stream",
       "stream": "stdout",
       "text": [
        "\n",
        "\t warning (SCAN #0 not found amongst the 03_RARE_T2w_hires) \"anatomy-0h+\" for HerS11Bs06\n",
        "\t warning (SCAN #1 not found amongst the 06_FLASH2D.6sl-DCE) \"dce-0hb_HPG\" for HerS11Bs06\n",
        "\t warning (SCAN #2 not found amongst the ubcLL2_base_HCT_SQ) \"LL-0h+2\" for HerS11Bs06\n",
        "\t warning (STUDY #99 not found) \"LL-0h+3\" for HerS11Bs06\n",
        "HerS11Bs07\n",
        "HerS11Bs08"
       ]
      },
      {
       "output_type": "stream",
       "stream": "stdout",
       "text": [
        "\n",
        "HerS11Bs09"
       ]
      },
      {
       "output_type": "stream",
       "stream": "stdout",
       "text": [
        "\n",
        "HerS11Bs10"
       ]
      },
      {
       "output_type": "stream",
       "stream": "stdout",
       "text": [
        "\n",
        "\t warning (STUDY #99 not found) \"LL-0h+3\" for HerS11Bs10"
       ]
      },
      {
       "output_type": "stream",
       "stream": "stdout",
       "text": [
        "\n",
        "HerS11Bs11\n",
        "HerS11Bs12"
       ]
      },
      {
       "output_type": "stream",
       "stream": "stdout",
       "text": [
        "\n",
        "HerS11Bs13"
       ]
      },
      {
       "output_type": "stream",
       "stream": "stdout",
       "text": [
        "\n",
        "HerS11Bs14"
       ]
      },
      {
       "output_type": "stream",
       "stream": "stdout",
       "text": [
        "\n",
        "HerS11Bs15"
       ]
      },
      {
       "output_type": "stream",
       "stream": "stdout",
       "text": [
        "\n",
        "ignoring HerS11Bs01 HerS11Bs02"
       ]
      },
      {
       "output_type": "stream",
       "stream": "stdout",
       "text": [
        "\n",
        "wrote master_list to /Users/fmoosvi/sdata/HerS11/HerS11.json"
       ]
      },
      {
       "output_type": "stream",
       "stream": "stdout",
       "text": [
        "\n"
       ]
      }
     ],
     "prompt_number": 2
    },
    {
     "cell_type": "code",
     "collapsed": false,
     "input": [
      "fFlag = True\n",
      "\n",
      "sarpy.io.generate_rois.generate_rois(masterlist,'export', forceVal = fFlag)\n",
      "\n",
      "try:\n",
      "    sarpy.io.generate_rois.generate_rois(masterlist,'import', forceVal = fFlag)\n",
      "    sarpy.io.masterlist.generate(conf_file=config_file) # update bboxes\n",
      "except IOError:\n",
      "    pass"
     ],
     "language": "python",
     "metadata": {},
     "outputs": [
      {
       "output_type": "stream",
       "stream": "stdout",
       "text": [
        "Nifti images were processed in /Users/fmoosvi/sdata/HerS11/rois\n",
        "adata roi deleted in HerS11Bs05"
       ]
      },
      {
       "output_type": "stream",
       "stream": "stdout",
       "text": [
        "\n",
        "adata roi_weights deleted in HerS11Bs05"
       ]
      },
      {
       "output_type": "stream",
       "stream": "stdout",
       "text": [
        "\n",
        "h_generate_roi: saved HerS11Bs05.m91/4 roi label"
       ]
      },
      {
       "output_type": "stream",
       "stream": "stdout",
       "text": [
        "\n",
        "adata roi deleted in HerS11Bs06"
       ]
      },
      {
       "output_type": "stream",
       "stream": "stdout",
       "text": [
        "\n",
        "adata roi_weights deleted in HerS11Bs06"
       ]
      },
      {
       "output_type": "stream",
       "stream": "stdout",
       "text": [
        "\n",
        "h_generate_roi: saved HerS11Bs06.m91/4 roi label"
       ]
      },
      {
       "output_type": "stream",
       "stream": "stdout",
       "text": [
        "\n",
        "adata roi deleted in HerS11Bs07"
       ]
      },
      {
       "output_type": "stream",
       "stream": "stdout",
       "text": [
        "\n",
        "adata roi_weights deleted in HerS11Bs07"
       ]
      },
      {
       "output_type": "stream",
       "stream": "stdout",
       "text": [
        "\n",
        "h_generate_roi: saved HerS11Bs07.ma2/4 roi label"
       ]
      },
      {
       "output_type": "stream",
       "stream": "stdout",
       "text": [
        "\n",
        "adata roi deleted in HerS11Bs08"
       ]
      },
      {
       "output_type": "stream",
       "stream": "stdout",
       "text": [
        "\n",
        "adata roi_weights deleted in HerS11Bs08"
       ]
      },
      {
       "output_type": "stream",
       "stream": "stdout",
       "text": [
        "\n",
        "h_generate_roi: saved HerS11Bs08.ma1/4 roi label"
       ]
      },
      {
       "output_type": "stream",
       "stream": "stdout",
       "text": [
        "\n",
        "adata roi deleted in HerS11Bs09"
       ]
      },
      {
       "output_type": "stream",
       "stream": "stdout",
       "text": [
        "\n",
        "adata roi_weights deleted in HerS11Bs09"
       ]
      },
      {
       "output_type": "stream",
       "stream": "stdout",
       "text": [
        "\n",
        "h_generate_roi: saved HerS11Bs09.md1/4 roi label"
       ]
      },
      {
       "output_type": "stream",
       "stream": "stdout",
       "text": [
        "\n",
        "adata roi deleted in HerS11Bs10"
       ]
      },
      {
       "output_type": "stream",
       "stream": "stdout",
       "text": [
        "\n",
        "adata roi_weights deleted in HerS11Bs10"
       ]
      },
      {
       "output_type": "stream",
       "stream": "stdout",
       "text": [
        "\n",
        "h_generate_roi: saved HerS11Bs10.md1/4 roi label"
       ]
      },
      {
       "output_type": "stream",
       "stream": "stdout",
       "text": [
        "\n",
        "adata roi deleted in HerS11Bs11"
       ]
      },
      {
       "output_type": "stream",
       "stream": "stdout",
       "text": [
        "\n",
        "adata roi_weights deleted in HerS11Bs11"
       ]
      },
      {
       "output_type": "stream",
       "stream": "stdout",
       "text": [
        "\n",
        "h_generate_roi: saved HerS11Bs11.md1/4 roi label"
       ]
      },
      {
       "output_type": "stream",
       "stream": "stdout",
       "text": [
        "\n",
        "adata roi deleted in HerS11Bs12"
       ]
      },
      {
       "output_type": "stream",
       "stream": "stdout",
       "text": [
        "\n",
        "adata roi_weights deleted in HerS11Bs12"
       ]
      },
      {
       "output_type": "stream",
       "stream": "stdout",
       "text": [
        "\n",
        "h_generate_roi: saved HerS11Bs12.me1/4 roi label"
       ]
      },
      {
       "output_type": "stream",
       "stream": "stdout",
       "text": [
        "\n",
        "adata roi deleted in HerS11Bs13"
       ]
      },
      {
       "output_type": "stream",
       "stream": "stdout",
       "text": [
        "\n",
        "adata roi_weights deleted in HerS11Bs13"
       ]
      },
      {
       "output_type": "stream",
       "stream": "stdout",
       "text": [
        "\n",
        "h_generate_roi: saved HerS11Bs13.me1/4 roi label"
       ]
      },
      {
       "output_type": "stream",
       "stream": "stdout",
       "text": [
        "\n",
        "adata roi deleted in HerS11Bs14"
       ]
      },
      {
       "output_type": "stream",
       "stream": "stdout",
       "text": [
        "\n",
        "adata roi_weights deleted in HerS11Bs14"
       ]
      },
      {
       "output_type": "stream",
       "stream": "stdout",
       "text": [
        "\n",
        "h_generate_roi: saved HerS11Bs14.me1/4 roi label"
       ]
      },
      {
       "output_type": "stream",
       "stream": "stdout",
       "text": [
        "\n",
        "adata roi deleted in HerS11Bs15"
       ]
      },
      {
       "output_type": "stream",
       "stream": "stdout",
       "text": [
        "\n",
        "adata roi_weights deleted in HerS11Bs15"
       ]
      },
      {
       "output_type": "stream",
       "stream": "stdout",
       "text": [
        "\n",
        "h_generate_roi: saved HerS11Bs15.me1/4 roi label"
       ]
      },
      {
       "output_type": "stream",
       "stream": "stdout",
       "text": [
        "\n",
        "Nifti images were processed in /Users/fmoosvi/sdata/HerS11/rois\n",
        "loading config file HerS11/HerS11.config\n",
        "HerS11Bs05\n",
        "HerS11Bs06"
       ]
      },
      {
       "output_type": "stream",
       "stream": "stdout",
       "text": [
        "\n",
        "\t warning (SCAN #0 not found amongst the 03_RARE_T2w_hires) \"anatomy-0h-\" for HerS11Bs06"
       ]
      },
      {
       "output_type": "stream",
       "stream": "stdout",
       "text": [
        "\n",
        "\t warning (SCAN #0 not found amongst the 03_RARE_T2w_hires) \"anatomy-0h+\" for HerS11Bs06\n",
        "\t warning (SCAN #1 not found amongst the 06_FLASH2D.6sl-DCE) \"dce-0hb_HPG\" for HerS11Bs06\n",
        "\t warning (SCAN #2 not found amongst the ubcLL2_base_HCT_SQ) \"LL-0h+2\" for HerS11Bs06\n",
        "\t warning (STUDY #99 not found) \"LL-0h+3\" for HerS11Bs06\n",
        "HerS11Bs07\n",
        "HerS11Bs08"
       ]
      },
      {
       "output_type": "stream",
       "stream": "stdout",
       "text": [
        "\n",
        "HerS11Bs09"
       ]
      },
      {
       "output_type": "stream",
       "stream": "stdout",
       "text": [
        "\n",
        "HerS11Bs10"
       ]
      },
      {
       "output_type": "stream",
       "stream": "stdout",
       "text": [
        "\n",
        "\t warning (STUDY #99 not found) \"LL-0h+3\" for HerS11Bs10"
       ]
      },
      {
       "output_type": "stream",
       "stream": "stdout",
       "text": [
        "\n",
        "HerS11Bs11\n",
        "HerS11Bs12"
       ]
      },
      {
       "output_type": "stream",
       "stream": "stdout",
       "text": [
        "\n",
        "HerS11Bs13"
       ]
      },
      {
       "output_type": "stream",
       "stream": "stdout",
       "text": [
        "\n",
        "HerS11Bs14"
       ]
      },
      {
       "output_type": "stream",
       "stream": "stdout",
       "text": [
        "\n",
        "HerS11Bs15"
       ]
      },
      {
       "output_type": "stream",
       "stream": "stdout",
       "text": [
        "\n",
        "ignoring HerS11Bs01 HerS11Bs02"
       ]
      },
      {
       "output_type": "stream",
       "stream": "stdout",
       "text": [
        "\n",
        "wrote master_list to /Users/fmoosvi/sdata/HerS11/HerS11.json"
       ]
      },
      {
       "output_type": "stream",
       "stream": "stdout",
       "text": [
        "\n"
       ]
      }
     ],
     "prompt_number": "*"
    },
    {
     "cell_type": "code",
     "collapsed": false,
     "input": [
      "analyses = collections.OrderedDict()\n",
      "fFlag = True\n",
      "\n",
      "## AUC 60\n",
      "analyses['auc']={'scan_label':'dce-0ha.*',\n",
      "                 'adata_save_label':'auc60',\n",
      "                 'force_overwrite':fFlag}\n",
      "## VTC\n",
      "analyses['vtc']={'scan_label':'dce-0ha.*',\n",
      "                 'adata_save_label':'vtc',\n",
      "                 'force_overwrite':fFlag}\n",
      "## T1 Map\n",
      "analyses['T1_LL']={'scan_label':'LL*',\n",
      "                   'adata_save_label':'T1_LL',\n",
      "                   'force_overwrite':fFlag}\n",
      "\n",
      "for atype in analyses:\n",
      "    \n",
      "    toAnalyze = True    \n",
      "           \n",
      "    if atype == 'auc':\n",
      "            \n",
      "        def myfunc(dict_of_params):\n",
      "            import sarpy.fmoosvi.analysis            \n",
      "            reload(sarpy.fmoosvi.analysis)\n",
      "            \n",
      "            return sarpy.fmoosvi.analysis.h_calculate_AUC(**dict_of_params)\n",
      "\n",
      "    elif atype == 'T1_LL':\n",
      "\n",
      "        def myfunc(dict_of_params):\n",
      "        \n",
      "            import sarpy.fmoosvi.analysis\n",
      "            import sarpy.fmoosvi.getters\n",
      "            reload(sarpy.fmoosvi.analysis)\n",
      "            reload(sarpy.fmoosvi.getters)\n",
      "            \n",
      "            return sarpy.fmoosvi.analysis.h_fit_T1_LL_FAind(**dict_of_params)\n",
      "        \n",
      "    elif atype == 'vtc':\n",
      "\n",
      "        def myfunc(dict_of_params):\n",
      "        \n",
      "            import sarpy.fmoosvi.analysis\n",
      "            import sarpy.fmoosvi.getters\n",
      "            reload(sarpy.fmoosvi.analysis)\n",
      "            reload(sarpy.fmoosvi.getters)\n",
      "            \n",
      "            return sarpy.fmoosvi.analysis.h_generate_VTC(**dict_of_params)   \n",
      "        \n",
      "    else:\n",
      "        \n",
      "        toAnalyze = False        \n",
      "\n",
      "    if toAnalyze:\n",
      "        \n",
      "        an = sarpy.io.bulk_analyze.ParallelBulkAnalyzerFactory.from_function(\n",
      "                            myfunc,\n",
      "                            ipython_profile='sarlab',\n",
      "                            masterlist_fname=masterlist,\n",
      "                            **analyses[atype])\n",
      "        an.process()\n",
      "\n",
      "print('Analysis Complete')"
     ],
     "language": "python",
     "metadata": {},
     "outputs": [
      {
       "output_type": "stream",
       "stream": "stdout",
       "text": [
        "###########\n",
        "Currently, there are 16 clients running\n",
        "importing os on engine(s)"
       ]
      },
      {
       "output_type": "stream",
       "stream": "stdout",
       "text": [
        "\n",
        "importing sys on engine(s)\n",
        "importing sarpy on engine(s)\n",
        "importing sarpy.fmoosvi.analysis on engine(s)"
       ]
      },
      {
       "output_type": "stream",
       "stream": "stdout",
       "text": [
        "\n",
        "###########"
       ]
      },
      {
       "output_type": "stream",
       "stream": "stdout",
       "text": [
        "\n",
        "adata auc60 deleted in HerS11Bs11"
       ]
      },
      {
       "output_type": "stream",
       "stream": "stdout",
       "text": [
        "\n",
        "auc60 overwritten in HerS11Bs11.md1/11, job id ...c3df5 done on E 5 "
       ]
      },
      {
       "output_type": "stream",
       "stream": "stdout",
       "text": [
        "\n",
        "adata auc60 deleted in HerS11Bs08"
       ]
      },
      {
       "output_type": "stream",
       "stream": "stdout",
       "text": [
        "\n",
        "auc60 overwritten in HerS11Bs08.ma1/6, job id ...e9923 done on E 2 "
       ]
      },
      {
       "output_type": "stream",
       "stream": "stdout",
       "text": [
        "\n",
        "adata auc60 deleted in HerS11Bs10"
       ]
      },
      {
       "output_type": "stream",
       "stream": "stdout",
       "text": [
        "\n",
        "auc60 overwritten in HerS11Bs10.md1/11, job id ...c8f1b done on E 1 "
       ]
      },
      {
       "output_type": "stream",
       "stream": "stdout",
       "text": [
        "\n",
        "adata auc60 deleted in HerS11Bs08"
       ]
      },
      {
       "output_type": "stream",
       "stream": "stdout",
       "text": [
        "\n",
        "auc60 overwritten in HerS11Bs08.ma1/11, job id ...b2a3f done on E 3 "
       ]
      },
      {
       "output_type": "stream",
       "stream": "stdout",
       "text": [
        "\n",
        "adata auc60 deleted in HerS11Bs06"
       ]
      },
      {
       "output_type": "stream",
       "stream": "stdout",
       "text": [
        "\n",
        "auc60 overwritten in HerS11Bs06.m91/6, job id ...8f12e done on E 0 "
       ]
      },
      {
       "output_type": "stream",
       "stream": "stdout",
       "text": [
        "\n",
        "adata auc60 deleted in HerS11Bs10"
       ]
      },
      {
       "output_type": "stream",
       "stream": "stdout",
       "text": [
        "\n",
        "auc60 overwritten in HerS11Bs10.md1/6, job id ...153f3 done on E 4 "
       ]
      },
      {
       "output_type": "stream",
       "stream": "stdout",
       "text": [
        "\n",
        "adata auc60 deleted in HerS11Bs09"
       ]
      },
      {
       "output_type": "stream",
       "stream": "stdout",
       "text": [
        "\n",
        "auc60 overwritten in HerS11Bs09.md1/11, job id ...188c6 done on E 7 "
       ]
      },
      {
       "output_type": "stream",
       "stream": "stdout",
       "text": [
        "\n",
        "adata auc60 deleted in HerS11Bs11"
       ]
      },
      {
       "output_type": "stream",
       "stream": "stdout",
       "text": [
        "\n",
        "auc60 overwritten in HerS11Bs11.md1/6, job id ...c1a02 done on E 6 "
       ]
      },
      {
       "output_type": "stream",
       "stream": "stdout",
       "text": [
        "\n",
        "adata auc60 deleted in HerS11Bs09"
       ]
      },
      {
       "output_type": "stream",
       "stream": "stdout",
       "text": [
        "\n",
        "auc60 overwritten in HerS11Bs09.md1/6, job id ...ff828 done on E 9 "
       ]
      },
      {
       "output_type": "stream",
       "stream": "stdout",
       "text": [
        "\n",
        "adata auc60 deleted in HerS11Bs05"
       ]
      },
      {
       "output_type": "stream",
       "stream": "stdout",
       "text": [
        "\n",
        "auc60 overwritten in HerS11Bs05.m91/12, job id ...6035f done on E 13 "
       ]
      },
      {
       "output_type": "stream",
       "stream": "stdout",
       "text": [
        "\n",
        "adata auc60 deleted in HerS11Bs12"
       ]
      },
      {
       "output_type": "stream",
       "stream": "stdout",
       "text": [
        "\n",
        "auc60 overwritten in HerS11Bs12.me1/11, job id ...6ab8a done on E 15 "
       ]
      },
      {
       "output_type": "stream",
       "stream": "stdout",
       "text": [
        "\n",
        "adata auc60 deleted in HerS11Bs07"
       ]
      },
      {
       "output_type": "stream",
       "stream": "stdout",
       "text": [
        "\n",
        "auc60 overwritten in HerS11Bs07.ma2/11, job id ...eed8e done on E 11 "
       ]
      },
      {
       "output_type": "stream",
       "stream": "stdout",
       "text": [
        "\n",
        "adata auc60 deleted in HerS11Bs05"
       ]
      },
      {
       "output_type": "stream",
       "stream": "stdout",
       "text": [
        "\n",
        "auc60 overwritten in HerS11Bs05.m91/6, job id ...e1fd6 done on E 10 "
       ]
      },
      {
       "output_type": "stream",
       "stream": "stdout",
       "text": [
        "\n",
        "adata auc60 deleted in HerS11Bs06"
       ]
      },
      {
       "output_type": "stream",
       "stream": "stdout",
       "text": [
        "\n",
        "auc60 overwritten in HerS11Bs06.m91/6, job id ...90f3e done on E 14 "
       ]
      },
      {
       "output_type": "stream",
       "stream": "stdout",
       "text": [
        "\n",
        "adata auc60 deleted in HerS11Bs12"
       ]
      },
      {
       "output_type": "stream",
       "stream": "stdout",
       "text": [
        "\n",
        "auc60 overwritten in HerS11Bs12.me1/6, job id ...16ad8 done on E 12 "
       ]
      },
      {
       "output_type": "stream",
       "stream": "stdout",
       "text": [
        "\n",
        "adata auc60 deleted in HerS11Bs07"
       ]
      },
      {
       "output_type": "stream",
       "stream": "stdout",
       "text": [
        "\n",
        "auc60 overwritten in HerS11Bs07.ma2/6, job id ...f9296 done on E 8 "
       ]
      },
      {
       "output_type": "stream",
       "stream": "stdout",
       "text": [
        "\n",
        "adata auc60 deleted in HerS11Bs13"
       ]
      },
      {
       "output_type": "stream",
       "stream": "stdout",
       "text": [
        "\n",
        "auc60 overwritten in HerS11Bs13.me1/11, job id ...120ad done on E 5 "
       ]
      },
      {
       "output_type": "stream",
       "stream": "stdout",
       "text": [
        "\n",
        "adata auc60 deleted in HerS11Bs13"
       ]
      },
      {
       "output_type": "stream",
       "stream": "stdout",
       "text": [
        "\n",
        "auc60 overwritten in HerS11Bs13.me1/6, job id ...16dd8 done on E 2 "
       ]
      },
      {
       "output_type": "stream",
       "stream": "stdout",
       "text": [
        "\n",
        "adata auc60 deleted in HerS11Bs14"
       ]
      },
      {
       "output_type": "stream",
       "stream": "stdout",
       "text": [
        "\n",
        "auc60 overwritten in HerS11Bs14.me1/11, job id ...ee1be done on E 1 "
       ]
      },
      {
       "output_type": "stream",
       "stream": "stdout",
       "text": [
        "\n",
        "adata auc60 deleted in HerS11Bs15"
       ]
      },
      {
       "output_type": "stream",
       "stream": "stdout",
       "text": [
        "\n",
        "auc60 overwritten in HerS11Bs15.me1/6, job id ...2c642 done on E 7 "
       ]
      },
      {
       "output_type": "stream",
       "stream": "stdout",
       "text": [
        "\n",
        "adata auc60 deleted in HerS11Bs14"
       ]
      },
      {
       "output_type": "stream",
       "stream": "stdout",
       "text": [
        "\n",
        "auc60 overwritten in HerS11Bs14.me1/6, job id ...b441f done on E 3 "
       ]
      },
      {
       "output_type": "stream",
       "stream": "stdout",
       "text": [
        "\n",
        "adata auc60 deleted in HerS11Bs15"
       ]
      },
      {
       "output_type": "stream",
       "stream": "stdout",
       "text": [
        "\n",
        "auc60 overwritten in HerS11Bs15.me1/11, job id ...20617 done on E 4 "
       ]
      },
      {
       "output_type": "stream",
       "stream": "stdout",
       "text": [
        "\n",
        "###### Parallelized Code: 23.614125967 s \n",
        "\n",
        "###########\n",
        "Currently, there are 16 clients running\n",
        "importing os on engine(s)"
       ]
      },
      {
       "output_type": "stream",
       "stream": "stdout",
       "text": [
        "\n",
        "importing sys on engine(s)\n",
        "importing sarpy on engine(s)"
       ]
      },
      {
       "output_type": "stream",
       "stream": "stdout",
       "text": [
        "\n",
        "importing sarpy.fmoosvi.analysis on engine(s)\n",
        "###########"
       ]
      },
      {
       "output_type": "stream",
       "stream": "stdout",
       "text": [
        "\n",
        "adata vtc deleted in HerS11Bs05"
       ]
      },
      {
       "output_type": "stream",
       "stream": "stdout",
       "text": [
        "\n",
        "vtc overwritten in HerS11Bs05.m91/12, job id ...212f6 done on E 13 "
       ]
      },
      {
       "output_type": "stream",
       "stream": "stdout",
       "text": [
        "\n",
        "adata vtc deleted in HerS11Bs08"
       ]
      },
      {
       "output_type": "stream",
       "stream": "stdout",
       "text": [
        "\n",
        "vtc overwritten in HerS11Bs08.ma1/11, job id ...3c11a done on E 9 "
       ]
      },
      {
       "output_type": "stream",
       "stream": "stdout",
       "text": [
        "\n",
        "adata vtc deleted in HerS11Bs07"
       ]
      },
      {
       "output_type": "stream",
       "stream": "stdout",
       "text": [
        "\n",
        "vtc overwritten in HerS11Bs07.ma2/11, job id ...093f0 done on E 11 "
       ]
      },
      {
       "output_type": "stream",
       "stream": "stdout",
       "text": [
        "\n",
        "adata vtc deleted in HerS11Bs07"
       ]
      },
      {
       "output_type": "stream",
       "stream": "stdout",
       "text": [
        "\n",
        "vtc overwritten in HerS11Bs07.ma2/6, job id ...c4484 done on E 8 "
       ]
      },
      {
       "output_type": "stream",
       "stream": "stdout",
       "text": [
        "\n",
        "adata vtc deleted in HerS11Bs10"
       ]
      },
      {
       "output_type": "stream",
       "stream": "stdout",
       "text": [
        "\n",
        "vtc overwritten in HerS11Bs10.md1/6, job id ...7da2b done on E 2 "
       ]
      },
      {
       "output_type": "stream",
       "stream": "stdout",
       "text": [
        "\n",
        "adata vtc deleted in HerS11Bs12"
       ]
      },
      {
       "output_type": "stream",
       "stream": "stdout",
       "text": [
        "\n",
        "vtc overwritten in HerS11Bs12.me1/11, job id ...2d8ec done on E 4 "
       ]
      },
      {
       "output_type": "stream",
       "stream": "stdout",
       "text": [
        "\n",
        "adata vtc deleted in HerS11Bs06"
       ]
      },
      {
       "output_type": "stream",
       "stream": "stdout",
       "text": [
        "\n",
        "vtc overwritten in HerS11Bs06.m91/6, job id ...51dae done on E 0 "
       ]
      },
      {
       "output_type": "stream",
       "stream": "stdout",
       "text": [
        "\n",
        "adata vtc deleted in HerS11Bs10"
       ]
      },
      {
       "output_type": "stream",
       "stream": "stdout",
       "text": [
        "\n",
        "vtc overwritten in HerS11Bs10.md1/11, job id ...ee656 done on E 5 "
       ]
      },
      {
       "output_type": "stream",
       "stream": "stdout",
       "text": [
        "\n",
        "adata vtc deleted in HerS11Bs14"
       ]
      },
      {
       "output_type": "stream",
       "stream": "stdout",
       "text": [
        "\n",
        "vtc overwritten in HerS11Bs14.me1/6, job id ...23b73 done on E 15 "
       ]
      },
      {
       "output_type": "stream",
       "stream": "stdout",
       "text": [
        "\n",
        "adata vtc deleted in HerS11Bs12"
       ]
      },
      {
       "output_type": "stream",
       "stream": "stdout",
       "text": [
        "\n",
        "vtc overwritten in HerS11Bs12.me1/6, job id ...91211 done on E 7 "
       ]
      },
      {
       "output_type": "stream",
       "stream": "stdout",
       "text": [
        "\n",
        "adata vtc deleted in HerS11Bs15"
       ]
      },
      {
       "output_type": "stream",
       "stream": "stdout",
       "text": [
        "\n",
        "vtc overwritten in HerS11Bs15.me1/11, job id ...9c8cc done on E 12 "
       ]
      },
      {
       "output_type": "stream",
       "stream": "stdout",
       "text": [
        "\n",
        "adata vtc deleted in HerS11Bs13"
       ]
      },
      {
       "output_type": "stream",
       "stream": "stdout",
       "text": [
        "\n",
        "vtc overwritten in HerS11Bs13.me1/11, job id ...9144f done on E 13 "
       ]
      },
      {
       "output_type": "stream",
       "stream": "stdout",
       "text": [
        "\n",
        "adata vtc deleted in HerS11Bs09"
       ]
      },
      {
       "output_type": "stream",
       "stream": "stdout",
       "text": [
        "\n",
        "vtc overwritten in HerS11Bs09.md1/11, job id ...abbb0 done on E 15 "
       ]
      },
      {
       "output_type": "stream",
       "stream": "stdout",
       "text": [
        "\n",
        "adata vtc deleted in HerS11Bs09"
       ]
      },
      {
       "output_type": "stream",
       "stream": "stdout",
       "text": [
        "\n",
        "vtc overwritten in HerS11Bs09.md1/6, job id ...ec7d1 done on E 12 "
       ]
      },
      {
       "output_type": "stream",
       "stream": "stdout",
       "text": [
        "\n",
        "adata vtc deleted in HerS11Bs08"
       ]
      },
      {
       "output_type": "stream",
       "stream": "stdout",
       "text": [
        "\n",
        "vtc overwritten in HerS11Bs08.ma1/6, job id ...26994 done on E 6 "
       ]
      },
      {
       "output_type": "stream",
       "stream": "stdout",
       "text": [
        "\n",
        "adata vtc deleted in HerS11Bs14"
       ]
      },
      {
       "output_type": "stream",
       "stream": "stdout",
       "text": [
        "\n",
        "vtc overwritten in HerS11Bs14.me1/11, job id ...b0ef5 done on E 4 "
       ]
      },
      {
       "output_type": "stream",
       "stream": "stdout",
       "text": [
        "\n",
        "adata vtc deleted in HerS11Bs13"
       ]
      },
      {
       "output_type": "stream",
       "stream": "stdout",
       "text": [
        "\n",
        "vtc overwritten in HerS11Bs13.me1/6, job id ...9844e done on E 14 "
       ]
      },
      {
       "output_type": "stream",
       "stream": "stdout",
       "text": [
        "\n",
        "adata vtc deleted in HerS11Bs15"
       ]
      },
      {
       "output_type": "stream",
       "stream": "stdout",
       "text": [
        "\n",
        "vtc overwritten in HerS11Bs15.me1/6, job id ...625f0 done on E 11 "
       ]
      },
      {
       "output_type": "stream",
       "stream": "stdout",
       "text": [
        "\n",
        "adata vtc deleted in HerS11Bs05"
       ]
      },
      {
       "output_type": "stream",
       "stream": "stdout",
       "text": [
        "\n",
        "vtc overwritten in HerS11Bs05.m91/6, job id ...8dc7f done on E 10 "
       ]
      },
      {
       "output_type": "stream",
       "stream": "stdout",
       "text": [
        "\n",
        "adata vtc deleted in HerS11Bs06"
       ]
      },
      {
       "output_type": "stream",
       "stream": "stdout",
       "text": [
        "\n",
        "vtc overwritten in HerS11Bs06.m91/6, job id ...2738a done on E 14 "
       ]
      },
      {
       "output_type": "stream",
       "stream": "stdout",
       "text": [
        "\n",
        "adata vtc deleted in HerS11Bs11"
       ]
      },
      {
       "output_type": "stream",
       "stream": "stdout",
       "text": [
        "\n",
        "vtc overwritten in HerS11Bs11.md1/11, job id ...73851 done on E 1 "
       ]
      },
      {
       "output_type": "stream",
       "stream": "stdout",
       "text": [
        "\n",
        "adata vtc deleted in HerS11Bs11"
       ]
      },
      {
       "output_type": "stream",
       "stream": "stdout",
       "text": [
        "\n",
        "vtc overwritten in HerS11Bs11.md1/6, job id ...d337c done on E 3 "
       ]
      },
      {
       "output_type": "stream",
       "stream": "stdout",
       "text": [
        "\n",
        "###### Parallelized Code: 887.140209913 s \n",
        "\n",
        "###########"
       ]
      },
      {
       "output_type": "stream",
       "stream": "stdout",
       "text": [
        "\n",
        "Currently, there are 16 clients running\n",
        "importing os on engine(s)\n",
        "importing sys on engine(s)\n",
        "importing sarpy on engine(s)\n",
        "importing sarpy.fmoosvi.analysis on engine(s)\n",
        "###########"
       ]
      },
      {
       "output_type": "stream",
       "stream": "stdout",
       "text": [
        "\n",
        "adata T1_LL deleted in HerS11Bs08"
       ]
      },
      {
       "output_type": "stream",
       "stream": "stdout",
       "text": [
        "\n",
        "T1_LL overwritten in HerS11Bs08.ma1/12, job id ...ac757 done on E 13 "
       ]
      },
      {
       "output_type": "stream",
       "stream": "stdout",
       "text": [
        "\n",
        "adata T1_LL_fit deleted in HerS11Bs08\n",
        "T1_LL overwritten in HerS11Bs08.ma1/12, job id ...ac757 done on E 13 "
       ]
      },
      {
       "output_type": "stream",
       "stream": "stdout",
       "text": [
        "\n",
        "adata T1_LL deleted in HerS11Bs05"
       ]
      },
      {
       "output_type": "stream",
       "stream": "stdout",
       "text": [
        "\n",
        "T1_LL overwritten in HerS11Bs05.m91/13, job id ...c8338 done on E 10 "
       ]
      },
      {
       "output_type": "stream",
       "stream": "stdout",
       "text": [
        "\n",
        "adata T1_LL_fit deleted in HerS11Bs05\n",
        "T1_LL overwritten in HerS11Bs05.m91/13, job id ...c8338 done on E 10 "
       ]
      },
      {
       "output_type": "stream",
       "stream": "stdout",
       "text": [
        "\n",
        "adata T1_LL deleted in HerS11Bs06"
       ]
      },
      {
       "output_type": "stream",
       "stream": "stdout",
       "text": [
        "\n",
        "T1_LL overwritten in HerS11Bs06.m91/7, job id ...fc36a done on E 6 "
       ]
      },
      {
       "output_type": "stream",
       "stream": "stdout",
       "text": [
        "\n",
        "adata T1_LL_fit deleted in HerS11Bs06\n",
        "T1_LL overwritten in HerS11Bs06.m91/7, job id ...fc36a done on E 6 "
       ]
      },
      {
       "output_type": "stream",
       "stream": "stdout",
       "text": [
        "\n",
        "adata T1_LL deleted in HerS11Bs07"
       ]
      },
      {
       "output_type": "stream",
       "stream": "stdout",
       "text": [
        "\n",
        "T1_LL overwritten in HerS11Bs07.ma2/10, job id ...5f710 done on E 1 "
       ]
      },
      {
       "output_type": "stream",
       "stream": "stdout",
       "text": [
        "\n",
        "adata T1_LL_fit deleted in HerS11Bs07\n",
        "T1_LL overwritten in HerS11Bs07.ma2/10, job id ...5f710 done on E 1 "
       ]
      },
      {
       "output_type": "stream",
       "stream": "stdout",
       "text": [
        "\n",
        "adata T1_LL deleted in HerS11Bs07"
       ]
      },
      {
       "output_type": "stream",
       "stream": "stdout",
       "text": [
        "\n",
        "T1_LL overwritten in HerS11Bs07.ma2/5, job id ...35544 done on E 5 "
       ]
      },
      {
       "output_type": "stream",
       "stream": "stdout",
       "text": [
        "\n",
        "adata T1_LL_fit deleted in HerS11Bs07\n",
        "T1_LL overwritten in HerS11Bs07.ma2/5, job id ...35544 done on E 5 "
       ]
      },
      {
       "output_type": "stream",
       "stream": "stdout",
       "text": [
        "\n",
        "adata T1_LL deleted in HerS11Bs08"
       ]
      },
      {
       "output_type": "stream",
       "stream": "stdout",
       "text": [
        "\n",
        "T1_LL overwritten in HerS11Bs08.ma1/7, job id ...59ebb done on E 4 "
       ]
      },
      {
       "output_type": "stream",
       "stream": "stdout",
       "text": [
        "\n",
        "adata T1_LL_fit deleted in HerS11Bs08\n",
        "T1_LL overwritten in HerS11Bs08.ma1/7, job id ...59ebb done on E 4 "
       ]
      },
      {
       "output_type": "stream",
       "stream": "stdout",
       "text": [
        "\n",
        "adata T1_LL deleted in HerS11Bs08"
       ]
      },
      {
       "output_type": "stream",
       "stream": "stdout",
       "text": [
        "\n",
        "T1_LL overwritten in HerS11Bs08.ma1/10, job id ...83788 done on E 14 "
       ]
      },
      {
       "output_type": "stream",
       "stream": "stdout",
       "text": [
        "\n",
        "adata T1_LL_fit deleted in HerS11Bs08\n",
        "T1_LL overwritten in HerS11Bs08.ma1/10, job id ...83788 done on E 14 "
       ]
      },
      {
       "output_type": "stream",
       "stream": "stdout",
       "text": [
        "\n",
        "adata T1_LL deleted in HerS11Bs06"
       ]
      },
      {
       "output_type": "stream",
       "stream": "stdout",
       "text": [
        "\n",
        "T1_LL overwritten in HerS11Bs06.m91/5, job id ...c4596 done on E 9 "
       ]
      },
      {
       "output_type": "stream",
       "stream": "stdout",
       "text": [
        "\n",
        "adata T1_LL_fit deleted in HerS11Bs06\n",
        "T1_LL overwritten in HerS11Bs06.m91/5, job id ...c4596 done on E 9 "
       ]
      },
      {
       "output_type": "stream",
       "stream": "stdout",
       "text": [
        "\n",
        "adata T1_LL deleted in HerS11Bs08"
       ]
      },
      {
       "output_type": "stream",
       "stream": "stdout",
       "text": [
        "\n",
        "T1_LL overwritten in HerS11Bs08.ma1/5, job id ...7acfb done on E 7 "
       ]
      },
      {
       "output_type": "stream",
       "stream": "stdout",
       "text": [
        "\n",
        "adata T1_LL_fit deleted in HerS11Bs08\n",
        "T1_LL overwritten in HerS11Bs08.ma1/5, job id ...7acfb done on E 7 "
       ]
      },
      {
       "output_type": "stream",
       "stream": "stdout",
       "text": [
        "\n",
        "adata T1_LL deleted in HerS11Bs07"
       ]
      },
      {
       "output_type": "stream",
       "stream": "stdout",
       "text": [
        "\n",
        "T1_LL overwritten in HerS11Bs07.ma2/12, job id ...f38f5 done on E 2 "
       ]
      },
      {
       "output_type": "stream",
       "stream": "stdout",
       "text": [
        "\n",
        "adata T1_LL_fit deleted in HerS11Bs07\n",
        "T1_LL overwritten in HerS11Bs07.ma2/12, job id ...f38f5 done on E 2 "
       ]
      },
      {
       "output_type": "stream",
       "stream": "stdout",
       "text": [
        "\n",
        "adata T1_LL deleted in HerS11Bs05"
       ]
      },
      {
       "output_type": "stream",
       "stream": "stdout",
       "text": [
        "\n",
        "T1_LL overwritten in HerS11Bs05.m91/7, job id ...9142a done on E 8 "
       ]
      },
      {
       "output_type": "stream",
       "stream": "stdout",
       "text": [
        "\n",
        "adata T1_LL_fit deleted in HerS11Bs05\n",
        "T1_LL overwritten in HerS11Bs05.m91/7, job id ...9142a done on E 8 "
       ]
      },
      {
       "output_type": "stream",
       "stream": "stdout",
       "text": [
        "\n",
        "adata T1_LL deleted in HerS11Bs05"
       ]
      },
      {
       "output_type": "stream",
       "stream": "stdout",
       "text": [
        "\n",
        "T1_LL overwritten in HerS11Bs05.m91/5, job id ...5d0fd done on E 11 "
       ]
      },
      {
       "output_type": "stream",
       "stream": "stdout",
       "text": [
        "\n",
        "adata T1_LL_fit deleted in HerS11Bs05\n",
        "T1_LL overwritten in HerS11Bs05.m91/5, job id ...5d0fd done on E 11 "
       ]
      },
      {
       "output_type": "stream",
       "stream": "stdout",
       "text": [
        "\n",
        "adata T1_LL deleted in HerS11Bs07"
       ]
      },
      {
       "output_type": "stream",
       "stream": "stdout",
       "text": [
        "\n",
        "T1_LL overwritten in HerS11Bs07.ma2/7, job id ...5367d done on E 3 "
       ]
      },
      {
       "output_type": "stream",
       "stream": "stdout",
       "text": [
        "\n",
        "adata T1_LL_fit deleted in HerS11Bs07\n",
        "T1_LL overwritten in HerS11Bs07.ma2/7, job id ...5367d done on E 3 "
       ]
      },
      {
       "output_type": "stream",
       "stream": "stdout",
       "text": [
        "\n",
        "adata T1_LL deleted in HerS11Bs09"
       ]
      },
      {
       "output_type": "stream",
       "stream": "stdout",
       "text": [
        "\n",
        "T1_LL overwritten in HerS11Bs09.md1/12, job id ...322c4 done on E 12 "
       ]
      },
      {
       "output_type": "stream",
       "stream": "stdout",
       "text": [
        "\n",
        "adata T1_LL_fit deleted in HerS11Bs09\n",
        "T1_LL overwritten in HerS11Bs09.md1/12, job id ...322c4 done on E 12 "
       ]
      },
      {
       "output_type": "stream",
       "stream": "stdout",
       "text": [
        "\n",
        "adata T1_LL deleted in HerS11Bs13"
       ]
      },
      {
       "output_type": "stream",
       "stream": "stdout",
       "text": [
        "\n",
        "T1_LL overwritten in HerS11Bs13.me1/5, job id ...746d1 done on E 5 "
       ]
      },
      {
       "output_type": "stream",
       "stream": "stdout",
       "text": [
        "\n",
        "adata T1_LL_fit deleted in HerS11Bs13\n",
        "T1_LL overwritten in HerS11Bs13.me1/5, job id ...746d1 done on E 5 "
       ]
      },
      {
       "output_type": "stream",
       "stream": "stdout",
       "text": [
        "\n",
        "adata T1_LL deleted in HerS11Bs05"
       ]
      },
      {
       "output_type": "stream",
       "stream": "stdout",
       "text": [
        "\n",
        "T1_LL overwritten in HerS11Bs05.m91/10, job id ...9826e done on E 0 "
       ]
      },
      {
       "output_type": "stream",
       "stream": "stdout",
       "text": [
        "\n",
        "adata T1_LL_fit deleted in HerS11Bs05\n",
        "T1_LL overwritten in HerS11Bs05.m91/10, job id ...9826e done on E 0 "
       ]
      },
      {
       "output_type": "stream",
       "stream": "stdout",
       "text": [
        "\n",
        "adata T1_LL deleted in HerS11Bs14"
       ]
      },
      {
       "output_type": "stream",
       "stream": "stdout",
       "text": [
        "\n",
        "T1_LL overwritten in HerS11Bs14.me1/5, job id ...1cabd done on E 12 "
       ]
      },
      {
       "output_type": "stream",
       "stream": "stdout",
       "text": [
        "\n",
        "adata T1_LL_fit deleted in HerS11Bs14\n",
        "T1_LL overwritten in HerS11Bs14.me1/5, job id ...1cabd done on E 12 "
       ]
      },
      {
       "output_type": "stream",
       "stream": "stdout",
       "text": [
        "\n",
        "adata T1_LL deleted in HerS11Bs11"
       ]
      },
      {
       "output_type": "stream",
       "stream": "stdout",
       "text": [
        "\n",
        "T1_LL overwritten in HerS11Bs11.md1/12, job id ...fe405 done on E 6 "
       ]
      },
      {
       "output_type": "stream",
       "stream": "stdout",
       "text": [
        "\n",
        "adata T1_LL_fit deleted in HerS11Bs11\n",
        "T1_LL overwritten in HerS11Bs11.md1/12, job id ...fe405 done on E 6 "
       ]
      },
      {
       "output_type": "stream",
       "stream": "stdout",
       "text": [
        "\n",
        "adata T1_LL deleted in HerS11Bs09"
       ]
      },
      {
       "output_type": "stream",
       "stream": "stdout",
       "text": [
        "\n",
        "T1_LL overwritten in HerS11Bs09.md1/5, job id ...0ca73 done on E 15 "
       ]
      },
      {
       "output_type": "stream",
       "stream": "stdout",
       "text": [
        "\n",
        "adata T1_LL_fit deleted in HerS11Bs09\n",
        "T1_LL overwritten in HerS11Bs09.md1/5, job id ...0ca73 done on E 15 "
       ]
      },
      {
       "output_type": "stream",
       "stream": "stdout",
       "text": [
        "\n",
        "adata T1_LL deleted in HerS11Bs10"
       ]
      },
      {
       "output_type": "stream",
       "stream": "stdout",
       "text": [
        "\n",
        "T1_LL overwritten in HerS11Bs10.md1/5, job id ...2c83e done on E 9 "
       ]
      },
      {
       "output_type": "stream",
       "stream": "stdout",
       "text": [
        "\n",
        "adata T1_LL_fit deleted in HerS11Bs10\n",
        "T1_LL overwritten in HerS11Bs10.md1/5, job id ...2c83e done on E 9 "
       ]
      },
      {
       "output_type": "stream",
       "stream": "stdout",
       "text": [
        "\n",
        "adata T1_LL deleted in HerS11Bs12"
       ]
      },
      {
       "output_type": "stream",
       "stream": "stdout",
       "text": [
        "\n",
        "T1_LL overwritten in HerS11Bs12.me1/5, job id ...8b4e5 done on E 1 "
       ]
      },
      {
       "output_type": "stream",
       "stream": "stdout",
       "text": [
        "\n",
        "adata T1_LL_fit deleted in HerS11Bs12\n",
        "T1_LL overwritten in HerS11Bs12.me1/5, job id ...8b4e5 done on E 1 "
       ]
      },
      {
       "output_type": "stream",
       "stream": "stdout",
       "text": [
        "\n",
        "adata T1_LL deleted in HerS11Bs13"
       ]
      },
      {
       "output_type": "stream",
       "stream": "stdout",
       "text": [
        "\n",
        "T1_LL overwritten in HerS11Bs13.me1/12, job id ...37a04 done on E 15 "
       ]
      },
      {
       "output_type": "stream",
       "stream": "stdout",
       "text": [
        "\n",
        "adata T1_LL_fit deleted in HerS11Bs13\n",
        "T1_LL overwritten in HerS11Bs13.me1/12, job id ...37a04 done on E 15 "
       ]
      },
      {
       "output_type": "stream",
       "stream": "stdout",
       "text": [
        "\n",
        "adata T1_LL deleted in HerS11Bs15"
       ]
      },
      {
       "output_type": "stream",
       "stream": "stdout",
       "text": [
        "\n",
        "T1_LL overwritten in HerS11Bs15.me1/10, job id ...b7488 done on E 4 "
       ]
      },
      {
       "output_type": "stream",
       "stream": "stdout",
       "text": [
        "\n",
        "adata T1_LL_fit deleted in HerS11Bs15\n",
        "T1_LL overwritten in HerS11Bs15.me1/10, job id ...b7488 done on E 4 "
       ]
      },
      {
       "output_type": "stream",
       "stream": "stdout",
       "text": [
        "\n",
        "adata T1_LL deleted in HerS11Bs14"
       ]
      },
      {
       "output_type": "stream",
       "stream": "stdout",
       "text": [
        "\n",
        "T1_LL overwritten in HerS11Bs14.me1/7, job id ...bce6d done on E 13 "
       ]
      },
      {
       "output_type": "stream",
       "stream": "stdout",
       "text": [
        "\n",
        "adata T1_LL_fit deleted in HerS11Bs14\n",
        "T1_LL overwritten in HerS11Bs14.me1/7, job id ...bce6d done on E 13 "
       ]
      },
      {
       "output_type": "stream",
       "stream": "stdout",
       "text": [
        "\n",
        "adata T1_LL deleted in HerS11Bs13"
       ]
      },
      {
       "output_type": "stream",
       "stream": "stdout",
       "text": [
        "\n",
        "T1_LL overwritten in HerS11Bs13.me1/7, job id ...ead18 done on E 9 "
       ]
      },
      {
       "output_type": "stream",
       "stream": "stdout",
       "text": [
        "\n",
        "adata T1_LL_fit deleted in HerS11Bs13\n",
        "T1_LL overwritten in HerS11Bs13.me1/7, job id ...ead18 done on E 9 "
       ]
      },
      {
       "output_type": "stream",
       "stream": "stdout",
       "text": [
        "\n",
        "adata T1_LL deleted in HerS11Bs11"
       ]
      },
      {
       "output_type": "stream",
       "stream": "stdout",
       "text": [
        "\n",
        "T1_LL overwritten in HerS11Bs11.md1/10, job id ...470eb done on E 4 "
       ]
      },
      {
       "output_type": "stream",
       "stream": "stdout",
       "text": [
        "\n",
        "adata T1_LL_fit deleted in HerS11Bs11\n",
        "T1_LL overwritten in HerS11Bs11.md1/10, job id ...470eb done on E 4 "
       ]
      },
      {
       "output_type": "stream",
       "stream": "stdout",
       "text": [
        "\n",
        "adata T1_LL deleted in HerS11Bs12"
       ]
      },
      {
       "output_type": "stream",
       "stream": "stdout",
       "text": [
        "\n",
        "T1_LL overwritten in HerS11Bs12.me1/10, job id ...c18fc done on E 11 "
       ]
      },
      {
       "output_type": "stream",
       "stream": "stdout",
       "text": [
        "\n",
        "adata T1_LL_fit deleted in HerS11Bs12\n",
        "T1_LL overwritten in HerS11Bs12.me1/10, job id ...c18fc done on E 11 "
       ]
      },
      {
       "output_type": "stream",
       "stream": "stdout",
       "text": [
        "\n",
        "adata T1_LL deleted in HerS11Bs09"
       ]
      },
      {
       "output_type": "stream",
       "stream": "stdout",
       "text": [
        "\n",
        "T1_LL overwritten in HerS11Bs09.md1/7, job id ...ebd5a done on E 14 "
       ]
      },
      {
       "output_type": "stream",
       "stream": "stdout",
       "text": [
        "\n",
        "adata T1_LL_fit deleted in HerS11Bs09\n",
        "T1_LL overwritten in HerS11Bs09.md1/7, job id ...ebd5a done on E 14 "
       ]
      },
      {
       "output_type": "stream",
       "stream": "stdout",
       "text": [
        "\n",
        "adata T1_LL deleted in HerS11Bs15"
       ]
      },
      {
       "output_type": "stream",
       "stream": "stdout",
       "text": [
        "\n",
        "T1_LL overwritten in HerS11Bs15.me1/7, job id ...927dc done on E 14 "
       ]
      },
      {
       "output_type": "stream",
       "stream": "stdout",
       "text": [
        "\n",
        "adata T1_LL_fit deleted in HerS11Bs15\n",
        "T1_LL overwritten in HerS11Bs15.me1/7, job id ...927dc done on E 14 "
       ]
      },
      {
       "output_type": "stream",
       "stream": "stdout",
       "text": [
        "\n",
        "adata T1_LL deleted in HerS11Bs14"
       ]
      },
      {
       "output_type": "stream",
       "stream": "stdout",
       "text": [
        "\n",
        "T1_LL overwritten in HerS11Bs14.me1/10, job id ...0bedc done on E 8 "
       ]
      },
      {
       "output_type": "stream",
       "stream": "stdout",
       "text": [
        "\n",
        "adata T1_LL_fit deleted in HerS11Bs14\n",
        "T1_LL overwritten in HerS11Bs14.me1/10, job id ...0bedc done on E 8 "
       ]
      },
      {
       "output_type": "stream",
       "stream": "stdout",
       "text": [
        "\n",
        "adata T1_LL deleted in HerS11Bs15"
       ]
      },
      {
       "output_type": "stream",
       "stream": "stdout",
       "text": [
        "\n",
        "T1_LL overwritten in HerS11Bs15.me1/12, job id ...b6fa8 done on E 11 "
       ]
      }
     ],
     "prompt_number": "*"
    },
    {
     "cell_type": "markdown",
     "metadata": {},
     "source": [
      "## Transferring ROIs"
     ]
    },
    {
     "cell_type": "code",
     "collapsed": false,
     "input": [
      "import sarpy.fmoosvi.wrappers\n",
      "reload(sarpy.fmoosvi.wrappers)\n",
      "fFlag = True\n",
      "\n",
      "label = [] \n",
      "label.append('T1_LL')\n",
      "label.append('auc60')\n",
      "\n",
      "for l in label:\n",
      "    sarpy.fmoosvi.wrappers.bulk_transfer_roi(masterlist,l, forceVal = fFlag)\n"
     ],
     "language": "python",
     "metadata": {},
     "outputs": [
      {
       "output_type": "stream",
       "stream": "stdout",
       "text": [
        "adata T1_LL_roi deleted in HerS11Bs05\n",
        "Saved T1_LL_roi in HerS11Bs05.m91/5"
       ]
      },
      {
       "output_type": "stream",
       "stream": "stdout",
       "text": [
        "\n",
        "adata T1_LL_roi deleted in HerS11Bs05"
       ]
      },
      {
       "output_type": "stream",
       "stream": "stdout",
       "text": [
        "\n",
        "Saved T1_LL_roi in HerS11Bs05.m91/13"
       ]
      },
      {
       "output_type": "stream",
       "stream": "stdout",
       "text": [
        "\n",
        "adata T1_LL_roi deleted in HerS11Bs05"
       ]
      },
      {
       "output_type": "stream",
       "stream": "stdout",
       "text": [
        "\n",
        "Saved T1_LL_roi in HerS11Bs05.m91/10"
       ]
      },
      {
       "output_type": "stream",
       "stream": "stdout",
       "text": [
        "\n",
        "adata T1_LL_roi deleted in HerS11Bs05"
       ]
      },
      {
       "output_type": "stream",
       "stream": "stdout",
       "text": [
        "\n",
        "Saved T1_LL_roi in HerS11Bs05.m91/7"
       ]
      },
      {
       "output_type": "stream",
       "stream": "stdout",
       "text": [
        "\n",
        "adata T1_LL_roi deleted in HerS11Bs06"
       ]
      },
      {
       "output_type": "stream",
       "stream": "stdout",
       "text": [
        "\n",
        "Saved T1_LL_roi in HerS11Bs06.m91/5"
       ]
      },
      {
       "output_type": "stream",
       "stream": "stdout",
       "text": [
        "\n",
        "adata T1_LL_roi deleted in HerS11Bs06"
       ]
      },
      {
       "output_type": "stream",
       "stream": "stdout",
       "text": [
        "\n",
        "Saved T1_LL_roi in HerS11Bs06.m91/7"
       ]
      },
      {
       "output_type": "stream",
       "stream": "stdout",
       "text": [
        "\n",
        "adata T1_LL_roi deleted in HerS11Bs07"
       ]
      },
      {
       "output_type": "stream",
       "stream": "stdout",
       "text": [
        "\n",
        "Saved T1_LL_roi in HerS11Bs07.ma2/5"
       ]
      },
      {
       "output_type": "stream",
       "stream": "stdout",
       "text": [
        "\n",
        "adata T1_LL_roi deleted in HerS11Bs07"
       ]
      },
      {
       "output_type": "stream",
       "stream": "stdout",
       "text": [
        "\n",
        "Saved T1_LL_roi in HerS11Bs07.ma2/12"
       ]
      },
      {
       "output_type": "stream",
       "stream": "stdout",
       "text": [
        "\n",
        "adata T1_LL_roi deleted in HerS11Bs07"
       ]
      },
      {
       "output_type": "stream",
       "stream": "stdout",
       "text": [
        "\n",
        "Saved T1_LL_roi in HerS11Bs07.ma2/10"
       ]
      },
      {
       "output_type": "stream",
       "stream": "stdout",
       "text": [
        "\n",
        "adata T1_LL_roi deleted in HerS11Bs07"
       ]
      },
      {
       "output_type": "stream",
       "stream": "stdout",
       "text": [
        "\n",
        "Saved T1_LL_roi in HerS11Bs07.ma2/7"
       ]
      },
      {
       "output_type": "stream",
       "stream": "stdout",
       "text": [
        "\n",
        "adata T1_LL_roi deleted in HerS11Bs08"
       ]
      },
      {
       "output_type": "stream",
       "stream": "stdout",
       "text": [
        "\n",
        "Saved T1_LL_roi in HerS11Bs08.ma1/5"
       ]
      },
      {
       "output_type": "stream",
       "stream": "stdout",
       "text": [
        "\n",
        "adata T1_LL_roi deleted in HerS11Bs08"
       ]
      },
      {
       "output_type": "stream",
       "stream": "stdout",
       "text": [
        "\n",
        "Saved T1_LL_roi in HerS11Bs08.ma1/12"
       ]
      },
      {
       "output_type": "stream",
       "stream": "stdout",
       "text": [
        "\n",
        "adata T1_LL_roi deleted in HerS11Bs08"
       ]
      },
      {
       "output_type": "stream",
       "stream": "stdout",
       "text": [
        "\n",
        "Saved T1_LL_roi in HerS11Bs08.ma1/10"
       ]
      },
      {
       "output_type": "stream",
       "stream": "stdout",
       "text": [
        "\n",
        "adata T1_LL_roi deleted in HerS11Bs08"
       ]
      },
      {
       "output_type": "stream",
       "stream": "stdout",
       "text": [
        "\n",
        "Saved T1_LL_roi in HerS11Bs08.ma1/7"
       ]
      },
      {
       "output_type": "stream",
       "stream": "stdout",
       "text": [
        "\n",
        "adata T1_LL_roi deleted in HerS11Bs09"
       ]
      },
      {
       "output_type": "stream",
       "stream": "stdout",
       "text": [
        "\n",
        "Saved T1_LL_roi in HerS11Bs09.md1/5"
       ]
      },
      {
       "output_type": "stream",
       "stream": "stdout",
       "text": [
        "\n",
        "adata T1_LL_roi deleted in HerS11Bs09"
       ]
      },
      {
       "output_type": "stream",
       "stream": "stdout",
       "text": [
        "\n",
        "Saved T1_LL_roi in HerS11Bs09.md1/12"
       ]
      },
      {
       "output_type": "stream",
       "stream": "stdout",
       "text": [
        "\n",
        "adata T1_LL_roi deleted in HerS11Bs09"
       ]
      },
      {
       "output_type": "stream",
       "stream": "stdout",
       "text": [
        "\n",
        "Saved T1_LL_roi in HerS11Bs09.md1/10"
       ]
      },
      {
       "output_type": "stream",
       "stream": "stdout",
       "text": [
        "\n",
        "adata T1_LL_roi deleted in HerS11Bs09"
       ]
      },
      {
       "output_type": "stream",
       "stream": "stdout",
       "text": [
        "\n",
        "Saved T1_LL_roi in HerS11Bs09.md1/7"
       ]
      },
      {
       "output_type": "stream",
       "stream": "stdout",
       "text": [
        "\n",
        "adata T1_LL_roi deleted in HerS11Bs10"
       ]
      },
      {
       "output_type": "stream",
       "stream": "stdout",
       "text": [
        "\n",
        "Saved T1_LL_roi in HerS11Bs10.md1/5"
       ]
      },
      {
       "output_type": "stream",
       "stream": "stdout",
       "text": [
        "\n",
        "adata T1_LL_roi deleted in HerS11Bs10"
       ]
      },
      {
       "output_type": "stream",
       "stream": "stdout",
       "text": [
        "\n",
        "Saved T1_LL_roi in HerS11Bs10.md1/10"
       ]
      },
      {
       "output_type": "stream",
       "stream": "stdout",
       "text": [
        "\n",
        "adata T1_LL_roi deleted in HerS11Bs10"
       ]
      },
      {
       "output_type": "stream",
       "stream": "stdout",
       "text": [
        "\n",
        "Saved T1_LL_roi in HerS11Bs10.md1/7"
       ]
      },
      {
       "output_type": "stream",
       "stream": "stdout",
       "text": [
        "\n",
        "adata T1_LL_roi deleted in HerS11Bs11"
       ]
      },
      {
       "output_type": "stream",
       "stream": "stdout",
       "text": [
        "\n",
        "Saved T1_LL_roi in HerS11Bs11.md1/5"
       ]
      },
      {
       "output_type": "stream",
       "stream": "stdout",
       "text": [
        "\n",
        "adata T1_LL_roi deleted in HerS11Bs11"
       ]
      },
      {
       "output_type": "stream",
       "stream": "stdout",
       "text": [
        "\n",
        "Saved T1_LL_roi in HerS11Bs11.md1/12"
       ]
      },
      {
       "output_type": "stream",
       "stream": "stdout",
       "text": [
        "\n",
        "adata T1_LL_roi deleted in HerS11Bs11"
       ]
      },
      {
       "output_type": "stream",
       "stream": "stdout",
       "text": [
        "\n",
        "Saved T1_LL_roi in HerS11Bs11.md1/10"
       ]
      },
      {
       "output_type": "stream",
       "stream": "stdout",
       "text": [
        "\n",
        "adata T1_LL_roi deleted in HerS11Bs11"
       ]
      },
      {
       "output_type": "stream",
       "stream": "stdout",
       "text": [
        "\n",
        "Saved T1_LL_roi in HerS11Bs11.md1/7"
       ]
      },
      {
       "output_type": "stream",
       "stream": "stdout",
       "text": [
        "\n",
        "adata T1_LL_roi deleted in HerS11Bs12"
       ]
      },
      {
       "output_type": "stream",
       "stream": "stdout",
       "text": [
        "\n",
        "Saved T1_LL_roi in HerS11Bs12.me1/5"
       ]
      },
      {
       "output_type": "stream",
       "stream": "stdout",
       "text": [
        "\n",
        "adata T1_LL_roi deleted in HerS11Bs12"
       ]
      },
      {
       "output_type": "stream",
       "stream": "stdout",
       "text": [
        "\n",
        "Saved T1_LL_roi in HerS11Bs12.me1/12"
       ]
      },
      {
       "output_type": "stream",
       "stream": "stdout",
       "text": [
        "\n",
        "adata T1_LL_roi deleted in HerS11Bs12"
       ]
      },
      {
       "output_type": "stream",
       "stream": "stdout",
       "text": [
        "\n",
        "Saved T1_LL_roi in HerS11Bs12.me1/10"
       ]
      },
      {
       "output_type": "stream",
       "stream": "stdout",
       "text": [
        "\n",
        "adata T1_LL_roi deleted in HerS11Bs12"
       ]
      },
      {
       "output_type": "stream",
       "stream": "stdout",
       "text": [
        "\n",
        "Saved T1_LL_roi in HerS11Bs12.me1/7"
       ]
      },
      {
       "output_type": "stream",
       "stream": "stdout",
       "text": [
        "\n",
        "adata T1_LL_roi deleted in HerS11Bs13"
       ]
      },
      {
       "output_type": "stream",
       "stream": "stdout",
       "text": [
        "\n",
        "Saved T1_LL_roi in HerS11Bs13.me1/5"
       ]
      },
      {
       "output_type": "stream",
       "stream": "stdout",
       "text": [
        "\n",
        "adata T1_LL_roi deleted in HerS11Bs13"
       ]
      },
      {
       "output_type": "stream",
       "stream": "stdout",
       "text": [
        "\n",
        "Saved T1_LL_roi in HerS11Bs13.me1/12"
       ]
      },
      {
       "output_type": "stream",
       "stream": "stdout",
       "text": [
        "\n",
        "adata T1_LL_roi deleted in HerS11Bs13"
       ]
      },
      {
       "output_type": "stream",
       "stream": "stdout",
       "text": [
        "\n",
        "Saved T1_LL_roi in HerS11Bs13.me1/10"
       ]
      },
      {
       "output_type": "stream",
       "stream": "stdout",
       "text": [
        "\n",
        "adata T1_LL_roi deleted in HerS11Bs13"
       ]
      },
      {
       "output_type": "stream",
       "stream": "stdout",
       "text": [
        "\n",
        "Saved T1_LL_roi in HerS11Bs13.me1/7"
       ]
      },
      {
       "output_type": "stream",
       "stream": "stdout",
       "text": [
        "\n",
        "adata T1_LL_roi deleted in HerS11Bs14"
       ]
      },
      {
       "output_type": "stream",
       "stream": "stdout",
       "text": [
        "\n",
        "Saved T1_LL_roi in HerS11Bs14.me1/5"
       ]
      },
      {
       "output_type": "stream",
       "stream": "stdout",
       "text": [
        "\n",
        "adata T1_LL_roi deleted in HerS11Bs14"
       ]
      },
      {
       "output_type": "stream",
       "stream": "stdout",
       "text": [
        "\n",
        "Saved T1_LL_roi in HerS11Bs14.me1/12"
       ]
      },
      {
       "output_type": "stream",
       "stream": "stdout",
       "text": [
        "\n",
        "adata T1_LL_roi deleted in HerS11Bs14"
       ]
      },
      {
       "output_type": "stream",
       "stream": "stdout",
       "text": [
        "\n",
        "Saved T1_LL_roi in HerS11Bs14.me1/10"
       ]
      },
      {
       "output_type": "stream",
       "stream": "stdout",
       "text": [
        "\n",
        "adata T1_LL_roi deleted in HerS11Bs14"
       ]
      },
      {
       "output_type": "stream",
       "stream": "stdout",
       "text": [
        "\n",
        "Saved T1_LL_roi in HerS11Bs14.me1/7"
       ]
      },
      {
       "output_type": "stream",
       "stream": "stdout",
       "text": [
        "\n",
        "adata T1_LL_roi deleted in HerS11Bs15"
       ]
      },
      {
       "output_type": "stream",
       "stream": "stdout",
       "text": [
        "\n",
        "Saved T1_LL_roi in HerS11Bs15.me1/5"
       ]
      },
      {
       "output_type": "stream",
       "stream": "stdout",
       "text": [
        "\n",
        "adata T1_LL_roi deleted in HerS11Bs15"
       ]
      },
      {
       "output_type": "stream",
       "stream": "stdout",
       "text": [
        "\n",
        "Saved T1_LL_roi in HerS11Bs15.me1/12"
       ]
      },
      {
       "output_type": "stream",
       "stream": "stdout",
       "text": [
        "\n",
        "adata T1_LL_roi deleted in HerS11Bs15"
       ]
      },
      {
       "output_type": "stream",
       "stream": "stdout",
       "text": [
        "\n",
        "Saved T1_LL_roi in HerS11Bs15.me1/10"
       ]
      },
      {
       "output_type": "stream",
       "stream": "stdout",
       "text": [
        "\n",
        "adata T1_LL_roi deleted in HerS11Bs15"
       ]
      },
      {
       "output_type": "stream",
       "stream": "stdout",
       "text": [
        "\n",
        "Saved T1_LL_roi in HerS11Bs15.me1/7"
       ]
      },
      {
       "output_type": "stream",
       "stream": "stdout",
       "text": [
        "\n",
        "adata auc60_roi deleted in HerS11Bs05"
       ]
      },
      {
       "output_type": "stream",
       "stream": "stdout",
       "text": [
        "\n",
        "Saved auc60_roi in HerS11Bs05.m91/12"
       ]
      },
      {
       "output_type": "stream",
       "stream": "stdout",
       "text": [
        "\n",
        "adata auc60_roi deleted in HerS11Bs05"
       ]
      },
      {
       "output_type": "stream",
       "stream": "stdout",
       "text": [
        "\n",
        "Saved auc60_roi in HerS11Bs05.m91/6"
       ]
      },
      {
       "output_type": "stream",
       "stream": "stdout",
       "text": [
        "\n",
        "adata auc60_roi deleted in HerS11Bs06"
       ]
      },
      {
       "output_type": "stream",
       "stream": "stdout",
       "text": [
        "\n",
        "Saved auc60_roi in HerS11Bs06.m91/6"
       ]
      },
      {
       "output_type": "stream",
       "stream": "stdout",
       "text": [
        "\n",
        "adata auc60_roi deleted in HerS11Bs06"
       ]
      },
      {
       "output_type": "stream",
       "stream": "stdout",
       "text": [
        "\n",
        "Saved auc60_roi in HerS11Bs06.m91/6"
       ]
      },
      {
       "output_type": "stream",
       "stream": "stdout",
       "text": [
        "\n",
        "adata auc60_roi deleted in HerS11Bs07"
       ]
      },
      {
       "output_type": "stream",
       "stream": "stdout",
       "text": [
        "\n",
        "Saved auc60_roi in HerS11Bs07.ma2/11"
       ]
      },
      {
       "output_type": "stream",
       "stream": "stdout",
       "text": [
        "\n",
        "adata auc60_roi deleted in HerS11Bs07"
       ]
      },
      {
       "output_type": "stream",
       "stream": "stdout",
       "text": [
        "\n",
        "Saved auc60_roi in HerS11Bs07.ma2/6"
       ]
      },
      {
       "output_type": "stream",
       "stream": "stdout",
       "text": [
        "\n",
        "adata auc60_roi deleted in HerS11Bs08"
       ]
      },
      {
       "output_type": "stream",
       "stream": "stdout",
       "text": [
        "\n",
        "Saved auc60_roi in HerS11Bs08.ma1/11"
       ]
      },
      {
       "output_type": "stream",
       "stream": "stdout",
       "text": [
        "\n",
        "adata auc60_roi deleted in HerS11Bs08"
       ]
      },
      {
       "output_type": "stream",
       "stream": "stdout",
       "text": [
        "\n",
        "Saved auc60_roi in HerS11Bs08.ma1/6"
       ]
      },
      {
       "output_type": "stream",
       "stream": "stdout",
       "text": [
        "\n",
        "adata auc60_roi deleted in HerS11Bs09"
       ]
      },
      {
       "output_type": "stream",
       "stream": "stdout",
       "text": [
        "\n",
        "Saved auc60_roi in HerS11Bs09.md1/11"
       ]
      },
      {
       "output_type": "stream",
       "stream": "stdout",
       "text": [
        "\n",
        "adata auc60_roi deleted in HerS11Bs09"
       ]
      },
      {
       "output_type": "stream",
       "stream": "stdout",
       "text": [
        "\n",
        "Saved auc60_roi in HerS11Bs09.md1/6"
       ]
      },
      {
       "output_type": "stream",
       "stream": "stdout",
       "text": [
        "\n",
        "adata auc60_roi deleted in HerS11Bs10"
       ]
      },
      {
       "output_type": "stream",
       "stream": "stdout",
       "text": [
        "\n",
        "Saved auc60_roi in HerS11Bs10.md1/11"
       ]
      },
      {
       "output_type": "stream",
       "stream": "stdout",
       "text": [
        "\n",
        "adata auc60_roi deleted in HerS11Bs10"
       ]
      },
      {
       "output_type": "stream",
       "stream": "stdout",
       "text": [
        "\n",
        "Saved auc60_roi in HerS11Bs10.md1/6"
       ]
      },
      {
       "output_type": "stream",
       "stream": "stdout",
       "text": [
        "\n",
        "adata auc60_roi deleted in HerS11Bs11"
       ]
      },
      {
       "output_type": "stream",
       "stream": "stdout",
       "text": [
        "\n",
        "Saved auc60_roi in HerS11Bs11.md1/11"
       ]
      },
      {
       "output_type": "stream",
       "stream": "stdout",
       "text": [
        "\n",
        "adata auc60_roi deleted in HerS11Bs11"
       ]
      },
      {
       "output_type": "stream",
       "stream": "stdout",
       "text": [
        "\n",
        "Saved auc60_roi in HerS11Bs11.md1/6"
       ]
      },
      {
       "output_type": "stream",
       "stream": "stdout",
       "text": [
        "\n",
        "adata auc60_roi deleted in HerS11Bs12"
       ]
      },
      {
       "output_type": "stream",
       "stream": "stdout",
       "text": [
        "\n",
        "Saved auc60_roi in HerS11Bs12.me1/11"
       ]
      },
      {
       "output_type": "stream",
       "stream": "stdout",
       "text": [
        "\n",
        "adata auc60_roi deleted in HerS11Bs12"
       ]
      },
      {
       "output_type": "stream",
       "stream": "stdout",
       "text": [
        "\n",
        "Saved auc60_roi in HerS11Bs12.me1/6"
       ]
      },
      {
       "output_type": "stream",
       "stream": "stdout",
       "text": [
        "\n",
        "adata auc60_roi deleted in HerS11Bs13"
       ]
      },
      {
       "output_type": "stream",
       "stream": "stdout",
       "text": [
        "\n",
        "Saved auc60_roi in HerS11Bs13.me1/11"
       ]
      },
      {
       "output_type": "stream",
       "stream": "stdout",
       "text": [
        "\n",
        "adata auc60_roi deleted in HerS11Bs13"
       ]
      },
      {
       "output_type": "stream",
       "stream": "stdout",
       "text": [
        "\n",
        "Saved auc60_roi in HerS11Bs13.me1/6"
       ]
      },
      {
       "output_type": "stream",
       "stream": "stdout",
       "text": [
        "\n",
        "adata auc60_roi deleted in HerS11Bs14"
       ]
      },
      {
       "output_type": "stream",
       "stream": "stdout",
       "text": [
        "\n",
        "Saved auc60_roi in HerS11Bs14.me1/11"
       ]
      },
      {
       "output_type": "stream",
       "stream": "stdout",
       "text": [
        "\n",
        "adata auc60_roi deleted in HerS11Bs14"
       ]
      },
      {
       "output_type": "stream",
       "stream": "stdout",
       "text": [
        "\n",
        "Saved auc60_roi in HerS11Bs14.me1/6"
       ]
      },
      {
       "output_type": "stream",
       "stream": "stdout",
       "text": [
        "\n",
        "adata auc60_roi deleted in HerS11Bs15"
       ]
      },
      {
       "output_type": "stream",
       "stream": "stdout",
       "text": [
        "\n",
        "Saved auc60_roi in HerS11Bs15.me1/11"
       ]
      },
      {
       "output_type": "stream",
       "stream": "stdout",
       "text": [
        "\n",
        "adata auc60_roi deleted in HerS11Bs15"
       ]
      },
      {
       "output_type": "stream",
       "stream": "stdout",
       "text": [
        "\n",
        "Saved auc60_roi in HerS11Bs15.me1/6"
       ]
      },
      {
       "output_type": "stream",
       "stream": "stdout",
       "text": [
        "\n"
       ]
      }
     ],
     "prompt_number": 12
    },
    {
     "cell_type": "markdown",
     "metadata": {},
     "source": [
      "### Advanced Analyses"
     ]
    },
    {
     "cell_type": "code",
     "collapsed": false,
     "input": [
      "import sarpy.fmoosvi.analysis\n",
      "reload(sarpy.fmoosvi.analysis)\n",
      "\n",
      "advancedAnalyses = collections.OrderedDict()\n",
      "fFlag = False\n",
      "\n",
      "## Enhancement Curve\n",
      "advancedAnalyses['ec']={\n",
      "                         'scan_label':'dce-0ha.*',\n",
      "                         'adata_roi_label':'auc60_roi',\n",
      "                         'adata_save_label':'ec',\n",
      "                         'force_overwrite':fFlag\n",
      "                         }\n",
      "\n",
      "## Gd_conc - 0h HPG\n",
      "\n",
      "advancedAnalyses['gd_conc_0h_HPG']={\n",
      "                             'scan_label':'dce-0ha_HPG',\n",
      "                             'other_scan_label':'LL-0h-',\n",
      "                             'adata_label':'T1_LL',\n",
      "                             'relaxivity':1.075,\n",
      "                             'adata_save_label':'HPG_conc',\n",
      "                             'force_overwrite':fFlag\n",
      "                             }\n",
      "\n",
      "## Gd_conc - 0h\n",
      "advancedAnalyses['gd_conc_0h']={\n",
      "                             'scan_label':'dce-0ha_Gd',\n",
      "                             'other_scan_label':'LL-0h-',\n",
      "                             'adata_label':'T1_LL',\n",
      "                             'relaxivity':4.3e-3,\n",
      "                             'adata_save_label':'gd_conc',\n",
      "                             'force_overwrite':fFlag\n",
      "                             }\n",
      "\n",
      "## AUGC60 - 0h HPG\n",
      "advancedAnalyses['augc_0h_HPG']={\n",
      "                             'scan_label':'dce-0ha_HPG',\n",
      "                             'adata_label':'HPG_conc',\n",
      "                             'adata_save_label':'augc60',\n",
      "                             'force_overwrite':fFlag\n",
      "                             }\n",
      "\n",
      "## AUGC60 - 0h Gd\n",
      "advancedAnalyses['augc_0h']={\n",
      "                             'scan_label':'dce-0ha_Gd',\n",
      "                             'adata_label':'gd_conc',                             \n",
      "                             'adata_save_label':'augc60',\n",
      "                             'force_overwrite':fFlag\n",
      "                             }\n",
      "for atype in advancedAnalyses:\n",
      "\n",
      "    toAnalyze = True           \n",
      "    if 'ec' in atype:\n",
      "                   \n",
      "        def myfunc(dict_of_params):\n",
      "            import sarpy.fmoosvi.analysis            \n",
      "            reload(sarpy.fmoosvi.analysis)\n",
      "            \n",
      "            import sarpy.fmoosvi.getters\n",
      "            reload(sarpy.fmoosvi.getters)\n",
      "            \n",
      "            import sys\n",
      "\n",
      "            return sarpy.fmoosvi.analysis.h_enhancement_curve(**dict_of_params)\n",
      "    \n",
      "    elif 'gd_conc' in atype:\n",
      "\n",
      "        def myfunc(dict_of_params):\n",
      "        \n",
      "            import sarpy.fmoosvi.analysis            \n",
      "            reload(sarpy.fmoosvi.analysis)\n",
      "            \n",
      "            import sarpy.fmoosvi.getters\n",
      "            reload(sarpy.fmoosvi.getters)\n",
      "            \n",
      "            import sys\n",
      "            return sarpy.fmoosvi.analysis.h_conc_from_signal(**dict_of_params)\n",
      "        \n",
      "    elif 'augc' in atype:\n",
      "\n",
      "        def myfunc(dict_of_params):\n",
      "        \n",
      "            import sarpy.fmoosvi.analysis            \n",
      "            reload(sarpy.fmoosvi.analysis)\n",
      "            \n",
      "            import sarpy.fmoosvi.getters\n",
      "            reload(sarpy.fmoosvi.getters)\n",
      "            \n",
      "            import sys\n",
      "            return sarpy.fmoosvi.analysis.h_calculate_AUGC(**dict_of_params)\n",
      "    else:\n",
      "        \n",
      "        toAnalyze = False\n",
      "        \n",
      "    if toAnalyze:        \n",
      "\n",
      "        ## Create the factory, and then execute                \n",
      "        an = sarpy.io.bulk_analyze.ParallelBulkAnalyzerFactory.from_function(myfunc, \n",
      "                                                            masterlist_fname=masterlist, \n",
      "                                                            **advancedAnalyses[atype])\n",
      "        an.process()\n",
      "print 'Analyses complete'"
     ],
     "language": "python",
     "metadata": {},
     "outputs": [
      {
       "output_type": "stream",
       "stream": "stdout",
       "text": [
        "###########\n",
        "Currently, there are 16 clients running\n",
        "importing os on engine(s)\n",
        "importing sys on engine(s)\n",
        "importing sarpy on engine(s)\n",
        "importing sarpy.fmoosvi.analysis on engine(s)\n",
        "###########"
       ]
      },
      {
       "output_type": "stream",
       "stream": "stdout",
       "text": [
        "\n",
        "no scans fit the criterion so nothing was processed"
       ]
      },
      {
       "output_type": "stream",
       "stream": "stdout",
       "text": [
        "\n",
        "###### Parallelized Code: 1.41588711739 s \n",
        "\n",
        "###########\n",
        "Currently, there are 16 clients running\n",
        "importing os on engine(s)\n",
        "importing sys on engine(s)\n",
        "importing sarpy on engine(s)\n",
        "importing sarpy.fmoosvi.analysis on engine(s)"
       ]
      },
      {
       "output_type": "stream",
       "stream": "stdout",
       "text": [
        "\n",
        "###########"
       ]
      },
      {
       "output_type": "stream",
       "stream": "stdout",
       "text": [
        "\n",
        "no scans fit the criterion so nothing was processed"
       ]
      },
      {
       "output_type": "stream",
       "stream": "stdout",
       "text": [
        "\n",
        "###### Parallelized Code: 0.698317050934 s \n",
        "\n",
        "###########\n",
        "Currently, there are 16 clients running\n",
        "importing os on engine(s)\n",
        "importing sys on engine(s)"
       ]
      },
      {
       "output_type": "stream",
       "stream": "stdout",
       "text": [
        "\n",
        "importing sarpy on engine(s)\n",
        "importing sarpy.fmoosvi.analysis on engine(s)\n",
        "###########"
       ]
      },
      {
       "output_type": "stream",
       "stream": "stdout",
       "text": [
        "\n",
        "no scans fit the criterion so nothing was processed"
       ]
      },
      {
       "output_type": "stream",
       "stream": "stdout",
       "text": [
        "\n",
        "###### Parallelized Code: 0.682556867599 s \n",
        "\n",
        "###########\n",
        "Currently, there are 16 clients running\n",
        "importing os on engine(s)\n",
        "importing sys on engine(s)"
       ]
      },
      {
       "output_type": "stream",
       "stream": "stdout",
       "text": [
        "\n",
        "importing sarpy on engine(s)\n",
        "importing sarpy.fmoosvi.analysis on engine(s)\n",
        "###########"
       ]
      },
      {
       "output_type": "stream",
       "stream": "stdout",
       "text": [
        "\n",
        "no scans fit the criterion so nothing was processed"
       ]
      },
      {
       "output_type": "stream",
       "stream": "stdout",
       "text": [
        "\n",
        "###### Parallelized Code: 0.696809053421 s \n",
        "\n",
        "###########\n",
        "Currently, there are 16 clients running\n",
        "importing os on engine(s)\n",
        "importing sys on engine(s)"
       ]
      },
      {
       "output_type": "stream",
       "stream": "stdout",
       "text": [
        "\n",
        "importing sarpy on engine(s)\n",
        "importing sarpy.fmoosvi.analysis on engine(s)\n",
        "###########"
       ]
      },
      {
       "output_type": "stream",
       "stream": "stdout",
       "text": [
        "\n",
        "no scans fit the criterion so nothing was processed"
       ]
      },
      {
       "output_type": "stream",
       "stream": "stdout",
       "text": [
        "\n",
        "###### Parallelized Code: 0.68491601944 s \n",
        "\n",
        "Analyses complete\n"
       ]
      }
     ],
     "prompt_number": 2
    },
    {
     "cell_type": "code",
     "collapsed": false,
     "input": [
      "fFlag = True\n",
      "label = []\n",
      "label.append('augc60')\n",
      "\n",
      "for l in label:\n",
      "    sarpy.fmoosvi.wrappers.bulk_transfer_roi(masterlist,l,forceVal = fFlag)"
     ],
     "language": "python",
     "metadata": {},
     "outputs": [
      {
       "output_type": "stream",
       "stream": "stdout",
       "text": [
        "adata augc60_roi deleted in HerS11Bs05\n",
        "Saved augc60_roi in HerS11Bs05.m91/12"
       ]
      },
      {
       "output_type": "stream",
       "stream": "stdout",
       "text": [
        "\n",
        "adata augc60_roi deleted in HerS11Bs05"
       ]
      },
      {
       "output_type": "stream",
       "stream": "stdout",
       "text": [
        "\n",
        "Saved augc60_roi in HerS11Bs05.m91/6"
       ]
      },
      {
       "output_type": "stream",
       "stream": "stdout",
       "text": [
        "\n",
        "adata augc60_roi deleted in HerS11Bs06"
       ]
      },
      {
       "output_type": "stream",
       "stream": "stdout",
       "text": [
        "\n",
        "Saved augc60_roi in HerS11Bs06.m91/6"
       ]
      },
      {
       "output_type": "stream",
       "stream": "stdout",
       "text": [
        "\n",
        "adata augc60_roi deleted in HerS11Bs06"
       ]
      },
      {
       "output_type": "stream",
       "stream": "stdout",
       "text": [
        "\n",
        "Saved augc60_roi in HerS11Bs06.m91/6"
       ]
      },
      {
       "output_type": "stream",
       "stream": "stdout",
       "text": [
        "\n",
        "adata augc60_roi deleted in HerS11Bs07"
       ]
      },
      {
       "output_type": "stream",
       "stream": "stdout",
       "text": [
        "\n",
        "Saved augc60_roi in HerS11Bs07.ma2/11"
       ]
      },
      {
       "output_type": "stream",
       "stream": "stdout",
       "text": [
        "\n",
        "adata augc60_roi deleted in HerS11Bs07"
       ]
      },
      {
       "output_type": "stream",
       "stream": "stdout",
       "text": [
        "\n",
        "Saved augc60_roi in HerS11Bs07.ma2/6"
       ]
      },
      {
       "output_type": "stream",
       "stream": "stdout",
       "text": [
        "\n",
        "adata augc60_roi deleted in HerS11Bs08"
       ]
      },
      {
       "output_type": "stream",
       "stream": "stdout",
       "text": [
        "\n",
        "Saved augc60_roi in HerS11Bs08.ma1/11"
       ]
      },
      {
       "output_type": "stream",
       "stream": "stdout",
       "text": [
        "\n",
        "adata augc60_roi deleted in HerS11Bs08"
       ]
      },
      {
       "output_type": "stream",
       "stream": "stdout",
       "text": [
        "\n",
        "Saved augc60_roi in HerS11Bs08.ma1/6"
       ]
      },
      {
       "output_type": "stream",
       "stream": "stdout",
       "text": [
        "\n",
        "adata augc60_roi deleted in HerS11Bs09"
       ]
      },
      {
       "output_type": "stream",
       "stream": "stdout",
       "text": [
        "\n",
        "Saved augc60_roi in HerS11Bs09.md1/11"
       ]
      },
      {
       "output_type": "stream",
       "stream": "stdout",
       "text": [
        "\n",
        "adata augc60_roi deleted in HerS11Bs09"
       ]
      },
      {
       "output_type": "stream",
       "stream": "stdout",
       "text": [
        "\n",
        "Saved augc60_roi in HerS11Bs09.md1/6"
       ]
      },
      {
       "output_type": "stream",
       "stream": "stdout",
       "text": [
        "\n",
        "adata augc60_roi deleted in HerS11Bs10"
       ]
      },
      {
       "output_type": "stream",
       "stream": "stdout",
       "text": [
        "\n",
        "Saved augc60_roi in HerS11Bs10.md1/11"
       ]
      },
      {
       "output_type": "stream",
       "stream": "stdout",
       "text": [
        "\n",
        "adata augc60_roi deleted in HerS11Bs10"
       ]
      },
      {
       "output_type": "stream",
       "stream": "stdout",
       "text": [
        "\n",
        "Saved augc60_roi in HerS11Bs10.md1/6"
       ]
      },
      {
       "output_type": "stream",
       "stream": "stdout",
       "text": [
        "\n",
        "adata augc60_roi deleted in HerS11Bs11"
       ]
      },
      {
       "output_type": "stream",
       "stream": "stdout",
       "text": [
        "\n",
        "Saved augc60_roi in HerS11Bs11.md1/11"
       ]
      },
      {
       "output_type": "stream",
       "stream": "stdout",
       "text": [
        "\n",
        "adata augc60_roi deleted in HerS11Bs11"
       ]
      },
      {
       "output_type": "stream",
       "stream": "stdout",
       "text": [
        "\n",
        "Saved augc60_roi in HerS11Bs11.md1/6"
       ]
      },
      {
       "output_type": "stream",
       "stream": "stdout",
       "text": [
        "\n",
        "adata augc60_roi deleted in HerS11Bs12"
       ]
      },
      {
       "output_type": "stream",
       "stream": "stdout",
       "text": [
        "\n",
        "Saved augc60_roi in HerS11Bs12.me1/11"
       ]
      },
      {
       "output_type": "stream",
       "stream": "stdout",
       "text": [
        "\n",
        "adata augc60_roi deleted in HerS11Bs12"
       ]
      },
      {
       "output_type": "stream",
       "stream": "stdout",
       "text": [
        "\n",
        "Saved augc60_roi in HerS11Bs12.me1/6"
       ]
      },
      {
       "output_type": "stream",
       "stream": "stdout",
       "text": [
        "\n",
        "adata augc60_roi deleted in HerS11Bs13"
       ]
      },
      {
       "output_type": "stream",
       "stream": "stdout",
       "text": [
        "\n",
        "Saved augc60_roi in HerS11Bs13.me1/11"
       ]
      },
      {
       "output_type": "stream",
       "stream": "stdout",
       "text": [
        "\n",
        "adata augc60_roi deleted in HerS11Bs13"
       ]
      },
      {
       "output_type": "stream",
       "stream": "stdout",
       "text": [
        "\n",
        "Saved augc60_roi in HerS11Bs13.me1/6"
       ]
      },
      {
       "output_type": "stream",
       "stream": "stdout",
       "text": [
        "\n",
        "adata augc60_roi deleted in HerS11Bs14"
       ]
      },
      {
       "output_type": "stream",
       "stream": "stdout",
       "text": [
        "\n",
        "Saved augc60_roi in HerS11Bs14.me1/11"
       ]
      },
      {
       "output_type": "stream",
       "stream": "stdout",
       "text": [
        "\n",
        "adata augc60_roi deleted in HerS11Bs14"
       ]
      },
      {
       "output_type": "stream",
       "stream": "stdout",
       "text": [
        "\n",
        "Saved augc60_roi in HerS11Bs14.me1/6"
       ]
      },
      {
       "output_type": "stream",
       "stream": "stdout",
       "text": [
        "\n",
        "adata augc60_roi deleted in HerS11Bs15"
       ]
      },
      {
       "output_type": "stream",
       "stream": "stdout",
       "text": [
        "\n",
        "Saved augc60_roi in HerS11Bs15.me1/11"
       ]
      },
      {
       "output_type": "stream",
       "stream": "stdout",
       "text": [
        "\n",
        "adata augc60_roi deleted in HerS11Bs15"
       ]
      },
      {
       "output_type": "stream",
       "stream": "stdout",
       "text": [
        "\n",
        "Saved augc60_roi in HerS11Bs15.me1/6"
       ]
      },
      {
       "output_type": "stream",
       "stream": "stdout",
       "text": [
        "\n"
       ]
      }
     ],
     "prompt_number": 3
    },
    {
     "cell_type": "code",
     "collapsed": false,
     "input": [
      "fFlag = True\n",
      "\n",
      "deltaT1s = collections.OrderedDict()\n",
      "## Delta T1 - \n",
      "deltaT1s['deltaT1_1']={  'masterlist_name':masterlist,\n",
      "                         'T1map_1':'LL-0h-',\n",
      "                         'T1map_2':'LL-0h+1',\n",
      "                         'adata_label1':'T1_LL',\n",
      "                         'adata_save_label':'deltaT1_HPG1',\n",
      "                         'force_overwrite':fFlag\n",
      "                         }\n",
      "\n",
      "deltaT1s['deltaT1_2']={  'masterlist_name':masterlist,\n",
      "                         'T1map_1':'LL-0h-',\n",
      "                         'T1map_2':'LL-0h+2',\n",
      "                         'adata_label1':'T1_LL',\n",
      "                         'adata_save_label':'deltaT1_HPG2',\n",
      "                         'force_overwrite':fFlag\n",
      "                         }\n",
      "\n",
      "deltaT1s['deltaT1_3']={  'masterlist_name':masterlist,\n",
      "                         'T1map_1':'LL-0h-',\n",
      "                         'T1map_2':'LL-0h+3',\n",
      "                         'adata_label1':'T1_LL',\n",
      "                         'adata_save_label':'deltaT1_Gd',\n",
      "                         'force_overwrite':fFlag\n",
      "                         }\n",
      "\n",
      "deltaT1s['deltaT1_4']={  'masterlist_name':'HerS11',\n",
      "                         'T1map_1':'LL-0h+2',\n",
      "                         'T1map_2':'LL-0h+3',\n",
      "                         'adata_label1':'T1_LL',\n",
      "                         'adata_save_label':'deltaT1_GdHPG',\n",
      "                         'force_overwrite':fFlag\n",
      "                         }\n",
      "\n",
      "## Delta T1 - \n",
      "deltaT1s['deltaR1_1']={  'masterlist_name':masterlist,\n",
      "                         'T1map_1':'LL-0h-',\n",
      "                         'T1map_2':'LL-0h+1',\n",
      "                         'adata_label1':'T1_LL',\n",
      "                         'adata_save_label':'deltaR1_HPG1',\n",
      "                         'force_overwrite':fFlag\n",
      "                         }\n",
      "\n",
      "deltaT1s['deltaR1_2']={  'masterlist_name':masterlist,\n",
      "                         'T1map_1':'LL-0h-',\n",
      "                         'T1map_2':'LL-0h+2',\n",
      "                         'adata_label1':'T1_LL',\n",
      "                         'adata_save_label':'deltaR1_HPG2',\n",
      "                         'force_overwrite':fFlag\n",
      "                         }\n",
      "\n",
      "deltaT1s['deltaR1_3']={  'masterlist_name':masterlist,\n",
      "                         'T1map_1':'LL-0h-',\n",
      "                         'T1map_2':'LL-0h+3',\n",
      "                         'adata_label1':'T1_LL',\n",
      "                         'adata_save_label':'deltaR1_Gd',\n",
      "                         'force_overwrite':fFlag\n",
      "                         }\n",
      "\n",
      "deltaT1s['deltaR1_4']={  'masterlist_name':'HerS11',\n",
      "                         'T1map_1':'LL-0h+2',\n",
      "                         'T1map_2':'LL-0h+3',\n",
      "                         'adata_label1':'T1_LL',\n",
      "                         'adata_save_label':'deltaR1_GdHPG',\n",
      "                         'force_overwrite':fFlag\n",
      "                         }\n",
      "\n",
      "for k,v in deltaT1s.iteritems():\n",
      "    \n",
      "    sarpy.fmoosvi.wrappers.store_deltaT1(**deltaT1s[k])"
     ],
     "language": "python",
     "metadata": {},
     "outputs": [
      {
       "output_type": "stream",
       "stream": "stdout",
       "text": [
        "adata deltaT1_HPG1 deleted in HerS11Bs05\n",
        "deltaT1_HPG1: Saved HerS11Bs05.m91/7"
       ]
      },
      {
       "output_type": "stream",
       "stream": "stdout",
       "text": [
        "\n",
        "adata deltaT1_HPG1 deleted in HerS11Bs06"
       ]
      },
      {
       "output_type": "stream",
       "stream": "stdout",
       "text": [
        "\n",
        "deltaT1_HPG1: Saved HerS11Bs06.m91/7"
       ]
      },
      {
       "output_type": "stream",
       "stream": "stdout",
       "text": [
        "\n",
        "adata deltaT1_HPG1 deleted in HerS11Bs07"
       ]
      },
      {
       "output_type": "stream",
       "stream": "stdout",
       "text": [
        "\n",
        "deltaT1_HPG1: Saved HerS11Bs07.ma2/7"
       ]
      },
      {
       "output_type": "stream",
       "stream": "stdout",
       "text": [
        "\n",
        "adata deltaT1_HPG1 deleted in HerS11Bs08"
       ]
      },
      {
       "output_type": "stream",
       "stream": "stdout",
       "text": [
        "\n",
        "deltaT1_HPG1: Saved HerS11Bs08.ma1/7"
       ]
      },
      {
       "output_type": "stream",
       "stream": "stdout",
       "text": [
        "\n",
        "adata deltaT1_HPG1 deleted in HerS11Bs09"
       ]
      },
      {
       "output_type": "stream",
       "stream": "stdout",
       "text": [
        "\n",
        "deltaT1_HPG1: Saved HerS11Bs09.md1/7"
       ]
      },
      {
       "output_type": "stream",
       "stream": "stdout",
       "text": [
        "\n",
        "adata deltaT1_HPG1 deleted in HerS11Bs10"
       ]
      },
      {
       "output_type": "stream",
       "stream": "stdout",
       "text": [
        "\n",
        "deltaT1_HPG1: Saved HerS11Bs10.md1/7"
       ]
      },
      {
       "output_type": "stream",
       "stream": "stdout",
       "text": [
        "\n",
        "adata deltaT1_HPG1 deleted in HerS11Bs11"
       ]
      },
      {
       "output_type": "stream",
       "stream": "stdout",
       "text": [
        "\n",
        "deltaT1_HPG1: Saved HerS11Bs11.md1/7"
       ]
      },
      {
       "output_type": "stream",
       "stream": "stdout",
       "text": [
        "\n",
        "adata deltaT1_HPG1 deleted in HerS11Bs12"
       ]
      },
      {
       "output_type": "stream",
       "stream": "stdout",
       "text": [
        "\n",
        "deltaT1_HPG1: Saved HerS11Bs12.me1/7"
       ]
      },
      {
       "output_type": "stream",
       "stream": "stdout",
       "text": [
        "\n",
        "adata deltaT1_HPG1 deleted in HerS11Bs13"
       ]
      },
      {
       "output_type": "stream",
       "stream": "stdout",
       "text": [
        "\n",
        "deltaT1_HPG1: Saved HerS11Bs13.me1/7"
       ]
      },
      {
       "output_type": "stream",
       "stream": "stdout",
       "text": [
        "\n",
        "adata deltaT1_HPG1 deleted in HerS11Bs14"
       ]
      },
      {
       "output_type": "stream",
       "stream": "stdout",
       "text": [
        "\n",
        "deltaT1_HPG1: Saved HerS11Bs14.me1/7"
       ]
      },
      {
       "output_type": "stream",
       "stream": "stdout",
       "text": [
        "\n",
        "adata deltaT1_HPG1 deleted in HerS11Bs15"
       ]
      },
      {
       "output_type": "stream",
       "stream": "stdout",
       "text": [
        "\n",
        "deltaT1_HPG1: Saved HerS11Bs15.me1/7"
       ]
      },
      {
       "output_type": "stream",
       "stream": "stdout",
       "text": [
        "\n",
        "adata deltaT1_HPG2 deleted in HerS11Bs05"
       ]
      },
      {
       "output_type": "stream",
       "stream": "stdout",
       "text": [
        "\n",
        "deltaT1_HPG2: Saved HerS11Bs05.m91/10"
       ]
      },
      {
       "output_type": "stream",
       "stream": "stdout",
       "text": [
        "\n",
        "deltaT1_HPG2: Not found adata T1_LL or T1_LL in patient HerS11Bs06\n",
        "adata deltaT1_HPG2 deleted in HerS11Bs07"
       ]
      },
      {
       "output_type": "stream",
       "stream": "stdout",
       "text": [
        "\n",
        "deltaT1_HPG2: Saved HerS11Bs07.ma2/10"
       ]
      },
      {
       "output_type": "stream",
       "stream": "stdout",
       "text": [
        "\n",
        "adata deltaT1_HPG2 deleted in HerS11Bs08"
       ]
      },
      {
       "output_type": "stream",
       "stream": "stdout",
       "text": [
        "\n",
        "deltaT1_HPG2: Saved HerS11Bs08.ma1/10"
       ]
      },
      {
       "output_type": "stream",
       "stream": "stdout",
       "text": [
        "\n",
        "adata deltaT1_HPG2 deleted in HerS11Bs09"
       ]
      },
      {
       "output_type": "stream",
       "stream": "stdout",
       "text": [
        "\n",
        "deltaT1_HPG2: Saved HerS11Bs09.md1/10"
       ]
      },
      {
       "output_type": "stream",
       "stream": "stdout",
       "text": [
        "\n",
        "adata deltaT1_HPG2 deleted in HerS11Bs10"
       ]
      },
      {
       "output_type": "stream",
       "stream": "stdout",
       "text": [
        "\n",
        "deltaT1_HPG2: Saved HerS11Bs10.md1/10"
       ]
      },
      {
       "output_type": "stream",
       "stream": "stdout",
       "text": [
        "\n",
        "adata deltaT1_HPG2 deleted in HerS11Bs11"
       ]
      },
      {
       "output_type": "stream",
       "stream": "stdout",
       "text": [
        "\n",
        "deltaT1_HPG2: Saved HerS11Bs11.md1/10"
       ]
      },
      {
       "output_type": "stream",
       "stream": "stdout",
       "text": [
        "\n",
        "adata deltaT1_HPG2 deleted in HerS11Bs12"
       ]
      },
      {
       "output_type": "stream",
       "stream": "stdout",
       "text": [
        "\n",
        "deltaT1_HPG2: Saved HerS11Bs12.me1/10"
       ]
      },
      {
       "output_type": "stream",
       "stream": "stdout",
       "text": [
        "\n",
        "adata deltaT1_HPG2 deleted in HerS11Bs13"
       ]
      },
      {
       "output_type": "stream",
       "stream": "stdout",
       "text": [
        "\n",
        "deltaT1_HPG2: Saved HerS11Bs13.me1/10"
       ]
      },
      {
       "output_type": "stream",
       "stream": "stdout",
       "text": [
        "\n",
        "adata deltaT1_HPG2 deleted in HerS11Bs14"
       ]
      },
      {
       "output_type": "stream",
       "stream": "stdout",
       "text": [
        "\n",
        "deltaT1_HPG2: Saved HerS11Bs14.me1/10"
       ]
      },
      {
       "output_type": "stream",
       "stream": "stdout",
       "text": [
        "\n",
        "adata deltaT1_HPG2 deleted in HerS11Bs15"
       ]
      },
      {
       "output_type": "stream",
       "stream": "stdout",
       "text": [
        "\n",
        "deltaT1_HPG2: Saved HerS11Bs15.me1/10"
       ]
      },
      {
       "output_type": "stream",
       "stream": "stdout",
       "text": [
        "\n",
        "adata deltaT1_Gd deleted in HerS11Bs05"
       ]
      },
      {
       "output_type": "stream",
       "stream": "stdout",
       "text": [
        "\n",
        "deltaT1_Gd: Saved HerS11Bs05.m91/13"
       ]
      },
      {
       "output_type": "stream",
       "stream": "stdout",
       "text": [
        "\n",
        "deltaT1_Gd: Not found adata T1_LL or T1_LL in patient HerS11Bs06\n",
        "adata deltaT1_Gd deleted in HerS11Bs07"
       ]
      },
      {
       "output_type": "stream",
       "stream": "stdout",
       "text": [
        "\n",
        "deltaT1_Gd: Saved HerS11Bs07.ma2/12"
       ]
      },
      {
       "output_type": "stream",
       "stream": "stdout",
       "text": [
        "\n",
        "adata deltaT1_Gd deleted in HerS11Bs08"
       ]
      },
      {
       "output_type": "stream",
       "stream": "stdout",
       "text": [
        "\n",
        "deltaT1_Gd: Saved HerS11Bs08.ma1/12"
       ]
      },
      {
       "output_type": "stream",
       "stream": "stdout",
       "text": [
        "\n",
        "adata deltaT1_Gd deleted in HerS11Bs09"
       ]
      },
      {
       "output_type": "stream",
       "stream": "stdout",
       "text": [
        "\n",
        "deltaT1_Gd: Saved HerS11Bs09.md1/12"
       ]
      },
      {
       "output_type": "stream",
       "stream": "stdout",
       "text": [
        "\n",
        "deltaT1_Gd: Not found adata T1_LL or T1_LL in patient HerS11Bs10\n",
        "adata deltaT1_Gd deleted in HerS11Bs11"
       ]
      },
      {
       "output_type": "stream",
       "stream": "stdout",
       "text": [
        "\n",
        "deltaT1_Gd: Saved HerS11Bs11.md1/12"
       ]
      },
      {
       "output_type": "stream",
       "stream": "stdout",
       "text": [
        "\n",
        "adata deltaT1_Gd deleted in HerS11Bs12"
       ]
      },
      {
       "output_type": "stream",
       "stream": "stdout",
       "text": [
        "\n",
        "deltaT1_Gd: Saved HerS11Bs12.me1/12"
       ]
      },
      {
       "output_type": "stream",
       "stream": "stdout",
       "text": [
        "\n",
        "adata deltaT1_Gd deleted in HerS11Bs13"
       ]
      },
      {
       "output_type": "stream",
       "stream": "stdout",
       "text": [
        "\n",
        "deltaT1_Gd: Saved HerS11Bs13.me1/12"
       ]
      },
      {
       "output_type": "stream",
       "stream": "stdout",
       "text": [
        "\n",
        "adata deltaT1_Gd deleted in HerS11Bs14"
       ]
      },
      {
       "output_type": "stream",
       "stream": "stdout",
       "text": [
        "\n",
        "deltaT1_Gd: Saved HerS11Bs14.me1/12"
       ]
      },
      {
       "output_type": "stream",
       "stream": "stdout",
       "text": [
        "\n",
        "adata deltaT1_Gd deleted in HerS11Bs15"
       ]
      },
      {
       "output_type": "stream",
       "stream": "stdout",
       "text": [
        "\n",
        "deltaT1_Gd: Saved HerS11Bs15.me1/12"
       ]
      },
      {
       "output_type": "stream",
       "stream": "stdout",
       "text": [
        "\n",
        "adata deltaT1_GdHPG deleted in HerS11Bs05"
       ]
      },
      {
       "output_type": "stream",
       "stream": "stdout",
       "text": [
        "\n",
        "deltaT1_GdHPG: Saved HerS11Bs05.m91/13"
       ]
      },
      {
       "output_type": "stream",
       "stream": "stdout",
       "text": [
        "\n",
        "deltaT1_GdHPG: Not found adata T1_LL or T1_LL in patient HerS11Bs06\n",
        "adata deltaT1_GdHPG deleted in HerS11Bs07"
       ]
      },
      {
       "output_type": "stream",
       "stream": "stdout",
       "text": [
        "\n",
        "deltaT1_GdHPG: Saved HerS11Bs07.ma2/12"
       ]
      },
      {
       "output_type": "stream",
       "stream": "stdout",
       "text": [
        "\n",
        "adata deltaT1_GdHPG deleted in HerS11Bs08"
       ]
      },
      {
       "output_type": "stream",
       "stream": "stdout",
       "text": [
        "\n",
        "deltaT1_GdHPG: Saved HerS11Bs08.ma1/12"
       ]
      },
      {
       "output_type": "stream",
       "stream": "stdout",
       "text": [
        "\n",
        "adata deltaT1_GdHPG deleted in HerS11Bs09"
       ]
      },
      {
       "output_type": "stream",
       "stream": "stdout",
       "text": [
        "\n",
        "deltaT1_GdHPG: Saved HerS11Bs09.md1/12"
       ]
      },
      {
       "output_type": "stream",
       "stream": "stdout",
       "text": [
        "\n",
        "deltaT1_GdHPG: Not found adata T1_LL or T1_LL in patient HerS11Bs10\n",
        "adata deltaT1_GdHPG deleted in HerS11Bs11"
       ]
      },
      {
       "output_type": "stream",
       "stream": "stdout",
       "text": [
        "\n",
        "deltaT1_GdHPG: Saved HerS11Bs11.md1/12"
       ]
      },
      {
       "output_type": "stream",
       "stream": "stdout",
       "text": [
        "\n",
        "adata deltaT1_GdHPG deleted in HerS11Bs12"
       ]
      },
      {
       "output_type": "stream",
       "stream": "stdout",
       "text": [
        "\n",
        "deltaT1_GdHPG: Saved HerS11Bs12.me1/12"
       ]
      },
      {
       "output_type": "stream",
       "stream": "stdout",
       "text": [
        "\n",
        "adata deltaT1_GdHPG deleted in HerS11Bs13"
       ]
      },
      {
       "output_type": "stream",
       "stream": "stdout",
       "text": [
        "\n",
        "deltaT1_GdHPG: Saved HerS11Bs13.me1/12"
       ]
      },
      {
       "output_type": "stream",
       "stream": "stdout",
       "text": [
        "\n",
        "adata deltaT1_GdHPG deleted in HerS11Bs14"
       ]
      },
      {
       "output_type": "stream",
       "stream": "stdout",
       "text": [
        "\n",
        "deltaT1_GdHPG: Saved HerS11Bs14.me1/12"
       ]
      },
      {
       "output_type": "stream",
       "stream": "stdout",
       "text": [
        "\n",
        "adata deltaT1_GdHPG deleted in HerS11Bs15"
       ]
      },
      {
       "output_type": "stream",
       "stream": "stdout",
       "text": [
        "\n",
        "deltaT1_GdHPG: Saved HerS11Bs15.me1/12"
       ]
      },
      {
       "output_type": "stream",
       "stream": "stdout",
       "text": [
        "\n",
        "adata deltaR1_HPG1 deleted in HerS11Bs05"
       ]
      },
      {
       "output_type": "stream",
       "stream": "stdout",
       "text": [
        "\n",
        "deltaR1_HPG1: Saved HerS11Bs05.m91/7"
       ]
      },
      {
       "output_type": "stream",
       "stream": "stdout",
       "text": [
        "\n",
        "adata deltaR1_HPG1 deleted in HerS11Bs06"
       ]
      },
      {
       "output_type": "stream",
       "stream": "stdout",
       "text": [
        "\n",
        "deltaR1_HPG1: Saved HerS11Bs06.m91/7"
       ]
      },
      {
       "output_type": "stream",
       "stream": "stdout",
       "text": [
        "\n",
        "adata deltaR1_HPG1 deleted in HerS11Bs07"
       ]
      },
      {
       "output_type": "stream",
       "stream": "stdout",
       "text": [
        "\n",
        "deltaR1_HPG1: Saved HerS11Bs07.ma2/7"
       ]
      },
      {
       "output_type": "stream",
       "stream": "stdout",
       "text": [
        "\n",
        "adata deltaR1_HPG1 deleted in HerS11Bs08"
       ]
      },
      {
       "output_type": "stream",
       "stream": "stdout",
       "text": [
        "\n",
        "deltaR1_HPG1: Saved HerS11Bs08.ma1/7"
       ]
      },
      {
       "output_type": "stream",
       "stream": "stdout",
       "text": [
        "\n",
        "adata deltaR1_HPG1 deleted in HerS11Bs09"
       ]
      },
      {
       "output_type": "stream",
       "stream": "stdout",
       "text": [
        "\n",
        "deltaR1_HPG1: Saved HerS11Bs09.md1/7"
       ]
      },
      {
       "output_type": "stream",
       "stream": "stdout",
       "text": [
        "\n",
        "adata deltaR1_HPG1 deleted in HerS11Bs10"
       ]
      },
      {
       "output_type": "stream",
       "stream": "stdout",
       "text": [
        "\n",
        "deltaR1_HPG1: Saved HerS11Bs10.md1/7"
       ]
      },
      {
       "output_type": "stream",
       "stream": "stdout",
       "text": [
        "\n",
        "adata deltaR1_HPG1 deleted in HerS11Bs11"
       ]
      },
      {
       "output_type": "stream",
       "stream": "stdout",
       "text": [
        "\n",
        "deltaR1_HPG1: Saved HerS11Bs11.md1/7"
       ]
      },
      {
       "output_type": "stream",
       "stream": "stdout",
       "text": [
        "\n",
        "adata deltaR1_HPG1 deleted in HerS11Bs12"
       ]
      },
      {
       "output_type": "stream",
       "stream": "stdout",
       "text": [
        "\n",
        "deltaR1_HPG1: Saved HerS11Bs12.me1/7"
       ]
      },
      {
       "output_type": "stream",
       "stream": "stdout",
       "text": [
        "\n",
        "adata deltaR1_HPG1 deleted in HerS11Bs13"
       ]
      },
      {
       "output_type": "stream",
       "stream": "stdout",
       "text": [
        "\n",
        "deltaR1_HPG1: Saved HerS11Bs13.me1/7"
       ]
      },
      {
       "output_type": "stream",
       "stream": "stdout",
       "text": [
        "\n",
        "adata deltaR1_HPG1 deleted in HerS11Bs14"
       ]
      },
      {
       "output_type": "stream",
       "stream": "stdout",
       "text": [
        "\n",
        "deltaR1_HPG1: Saved HerS11Bs14.me1/7"
       ]
      },
      {
       "output_type": "stream",
       "stream": "stdout",
       "text": [
        "\n",
        "adata deltaR1_HPG1 deleted in HerS11Bs15"
       ]
      },
      {
       "output_type": "stream",
       "stream": "stdout",
       "text": [
        "\n",
        "deltaR1_HPG1: Saved HerS11Bs15.me1/7"
       ]
      },
      {
       "output_type": "stream",
       "stream": "stdout",
       "text": [
        "\n",
        "adata deltaR1_HPG2 deleted in HerS11Bs05"
       ]
      },
      {
       "output_type": "stream",
       "stream": "stdout",
       "text": [
        "\n",
        "deltaR1_HPG2: Saved HerS11Bs05.m91/10"
       ]
      },
      {
       "output_type": "stream",
       "stream": "stdout",
       "text": [
        "\n",
        "deltaR1_HPG2: Not found adata T1_LL or T1_LL in patient HerS11Bs06\n",
        "adata deltaR1_HPG2 deleted in HerS11Bs07"
       ]
      },
      {
       "output_type": "stream",
       "stream": "stdout",
       "text": [
        "\n",
        "deltaR1_HPG2: Saved HerS11Bs07.ma2/10"
       ]
      },
      {
       "output_type": "stream",
       "stream": "stdout",
       "text": [
        "\n",
        "adata deltaR1_HPG2 deleted in HerS11Bs08"
       ]
      },
      {
       "output_type": "stream",
       "stream": "stdout",
       "text": [
        "\n",
        "deltaR1_HPG2: Saved HerS11Bs08.ma1/10"
       ]
      },
      {
       "output_type": "stream",
       "stream": "stdout",
       "text": [
        "\n",
        "adata deltaR1_HPG2 deleted in HerS11Bs09"
       ]
      },
      {
       "output_type": "stream",
       "stream": "stdout",
       "text": [
        "\n",
        "deltaR1_HPG2: Saved HerS11Bs09.md1/10"
       ]
      },
      {
       "output_type": "stream",
       "stream": "stdout",
       "text": [
        "\n",
        "adata deltaR1_HPG2 deleted in HerS11Bs10"
       ]
      },
      {
       "output_type": "stream",
       "stream": "stdout",
       "text": [
        "\n",
        "deltaR1_HPG2: Saved HerS11Bs10.md1/10"
       ]
      },
      {
       "output_type": "stream",
       "stream": "stdout",
       "text": [
        "\n",
        "adata deltaR1_HPG2 deleted in HerS11Bs11"
       ]
      },
      {
       "output_type": "stream",
       "stream": "stdout",
       "text": [
        "\n",
        "deltaR1_HPG2: Saved HerS11Bs11.md1/10"
       ]
      },
      {
       "output_type": "stream",
       "stream": "stdout",
       "text": [
        "\n",
        "adata deltaR1_HPG2 deleted in HerS11Bs12"
       ]
      },
      {
       "output_type": "stream",
       "stream": "stdout",
       "text": [
        "\n",
        "deltaR1_HPG2: Saved HerS11Bs12.me1/10"
       ]
      },
      {
       "output_type": "stream",
       "stream": "stdout",
       "text": [
        "\n",
        "adata deltaR1_HPG2 deleted in HerS11Bs13"
       ]
      },
      {
       "output_type": "stream",
       "stream": "stdout",
       "text": [
        "\n",
        "deltaR1_HPG2: Saved HerS11Bs13.me1/10"
       ]
      },
      {
       "output_type": "stream",
       "stream": "stdout",
       "text": [
        "\n",
        "adata deltaR1_HPG2 deleted in HerS11Bs14"
       ]
      },
      {
       "output_type": "stream",
       "stream": "stdout",
       "text": [
        "\n",
        "deltaR1_HPG2: Saved HerS11Bs14.me1/10"
       ]
      },
      {
       "output_type": "stream",
       "stream": "stdout",
       "text": [
        "\n",
        "adata deltaR1_HPG2 deleted in HerS11Bs15"
       ]
      },
      {
       "output_type": "stream",
       "stream": "stdout",
       "text": [
        "\n",
        "deltaR1_HPG2: Saved HerS11Bs15.me1/10"
       ]
      },
      {
       "output_type": "stream",
       "stream": "stdout",
       "text": [
        "\n",
        "adata deltaR1_Gd deleted in HerS11Bs05"
       ]
      },
      {
       "output_type": "stream",
       "stream": "stdout",
       "text": [
        "\n",
        "deltaR1_Gd: Saved HerS11Bs05.m91/13"
       ]
      },
      {
       "output_type": "stream",
       "stream": "stdout",
       "text": [
        "\n",
        "deltaR1_Gd: Not found adata T1_LL or T1_LL in patient HerS11Bs06\n",
        "adata deltaR1_Gd deleted in HerS11Bs07"
       ]
      },
      {
       "output_type": "stream",
       "stream": "stdout",
       "text": [
        "\n",
        "deltaR1_Gd: Saved HerS11Bs07.ma2/12"
       ]
      },
      {
       "output_type": "stream",
       "stream": "stdout",
       "text": [
        "\n",
        "adata deltaR1_Gd deleted in HerS11Bs08"
       ]
      },
      {
       "output_type": "stream",
       "stream": "stdout",
       "text": [
        "\n",
        "deltaR1_Gd: Saved HerS11Bs08.ma1/12"
       ]
      },
      {
       "output_type": "stream",
       "stream": "stdout",
       "text": [
        "\n",
        "adata deltaR1_Gd deleted in HerS11Bs09"
       ]
      },
      {
       "output_type": "stream",
       "stream": "stdout",
       "text": [
        "\n",
        "deltaR1_Gd: Saved HerS11Bs09.md1/12"
       ]
      },
      {
       "output_type": "stream",
       "stream": "stdout",
       "text": [
        "\n",
        "deltaR1_Gd: Not found adata T1_LL or T1_LL in patient HerS11Bs10\n",
        "adata deltaR1_Gd deleted in HerS11Bs11"
       ]
      },
      {
       "output_type": "stream",
       "stream": "stdout",
       "text": [
        "\n",
        "deltaR1_Gd: Saved HerS11Bs11.md1/12"
       ]
      },
      {
       "output_type": "stream",
       "stream": "stdout",
       "text": [
        "\n",
        "adata deltaR1_Gd deleted in HerS11Bs12"
       ]
      },
      {
       "output_type": "stream",
       "stream": "stdout",
       "text": [
        "\n",
        "deltaR1_Gd: Saved HerS11Bs12.me1/12"
       ]
      },
      {
       "output_type": "stream",
       "stream": "stdout",
       "text": [
        "\n",
        "adata deltaR1_Gd deleted in HerS11Bs13"
       ]
      },
      {
       "output_type": "stream",
       "stream": "stdout",
       "text": [
        "\n",
        "deltaR1_Gd: Saved HerS11Bs13.me1/12"
       ]
      },
      {
       "output_type": "stream",
       "stream": "stdout",
       "text": [
        "\n",
        "adata deltaR1_Gd deleted in HerS11Bs14"
       ]
      },
      {
       "output_type": "stream",
       "stream": "stdout",
       "text": [
        "\n",
        "deltaR1_Gd: Saved HerS11Bs14.me1/12"
       ]
      },
      {
       "output_type": "stream",
       "stream": "stdout",
       "text": [
        "\n",
        "adata deltaR1_Gd deleted in HerS11Bs15"
       ]
      },
      {
       "output_type": "stream",
       "stream": "stdout",
       "text": [
        "\n",
        "deltaR1_Gd: Saved HerS11Bs15.me1/12"
       ]
      },
      {
       "output_type": "stream",
       "stream": "stdout",
       "text": [
        "\n",
        "adata deltaR1_GdHPG deleted in HerS11Bs05"
       ]
      },
      {
       "output_type": "stream",
       "stream": "stdout",
       "text": [
        "\n",
        "deltaR1_GdHPG: Saved HerS11Bs05.m91/13"
       ]
      },
      {
       "output_type": "stream",
       "stream": "stdout",
       "text": [
        "\n",
        "deltaR1_GdHPG: Not found adata T1_LL or T1_LL in patient HerS11Bs06\n",
        "adata deltaR1_GdHPG deleted in HerS11Bs07"
       ]
      },
      {
       "output_type": "stream",
       "stream": "stdout",
       "text": [
        "\n",
        "deltaR1_GdHPG: Saved HerS11Bs07.ma2/12"
       ]
      },
      {
       "output_type": "stream",
       "stream": "stdout",
       "text": [
        "\n",
        "adata deltaR1_GdHPG deleted in HerS11Bs08"
       ]
      },
      {
       "output_type": "stream",
       "stream": "stdout",
       "text": [
        "\n",
        "deltaR1_GdHPG: Saved HerS11Bs08.ma1/12"
       ]
      },
      {
       "output_type": "stream",
       "stream": "stdout",
       "text": [
        "\n",
        "adata deltaR1_GdHPG deleted in HerS11Bs09"
       ]
      },
      {
       "output_type": "stream",
       "stream": "stdout",
       "text": [
        "\n",
        "deltaR1_GdHPG: Saved HerS11Bs09.md1/12"
       ]
      },
      {
       "output_type": "stream",
       "stream": "stdout",
       "text": [
        "\n",
        "deltaR1_GdHPG: Not found adata T1_LL or T1_LL in patient HerS11Bs10\n",
        "adata deltaR1_GdHPG deleted in HerS11Bs11"
       ]
      },
      {
       "output_type": "stream",
       "stream": "stdout",
       "text": [
        "\n",
        "deltaR1_GdHPG: Saved HerS11Bs11.md1/12"
       ]
      },
      {
       "output_type": "stream",
       "stream": "stdout",
       "text": [
        "\n",
        "adata deltaR1_GdHPG deleted in HerS11Bs12"
       ]
      },
      {
       "output_type": "stream",
       "stream": "stdout",
       "text": [
        "\n",
        "deltaR1_GdHPG: Saved HerS11Bs12.me1/12"
       ]
      },
      {
       "output_type": "stream",
       "stream": "stdout",
       "text": [
        "\n",
        "adata deltaR1_GdHPG deleted in HerS11Bs13"
       ]
      },
      {
       "output_type": "stream",
       "stream": "stdout",
       "text": [
        "\n",
        "deltaR1_GdHPG: Saved HerS11Bs13.me1/12"
       ]
      },
      {
       "output_type": "stream",
       "stream": "stdout",
       "text": [
        "\n",
        "adata deltaR1_GdHPG deleted in HerS11Bs14"
       ]
      },
      {
       "output_type": "stream",
       "stream": "stdout",
       "text": [
        "\n",
        "deltaR1_GdHPG: Saved HerS11Bs14.me1/12"
       ]
      },
      {
       "output_type": "stream",
       "stream": "stdout",
       "text": [
        "\n",
        "adata deltaR1_GdHPG deleted in HerS11Bs15"
       ]
      },
      {
       "output_type": "stream",
       "stream": "stdout",
       "text": [
        "\n",
        "deltaR1_GdHPG: Saved HerS11Bs15.me1/12"
       ]
      },
      {
       "output_type": "stream",
       "stream": "stdout",
       "text": [
        "\n"
       ]
      }
     ],
     "prompt_number": 2
    },
    {
     "cell_type": "markdown",
     "metadata": {},
     "source": [
      "### Write data to CSV\n"
     ]
    },
    {
     "cell_type": "code",
     "collapsed": false,
     "input": [
      "adata_to_csv = []\n",
      "\n",
      "adata_to_csv.append(['dce-0ha_Gd','auc60'])\n",
      "adata_to_csv.append(['dce-0ha_HPG','auc60'])\n",
      "adata_to_csv.append(['dce-0ha_Gd','augc60'])\n",
      "adata_to_csv.append(['dce-0ha_HPG','augc60'])\n",
      "adata_to_csv.append(['LL-0h-','T1_LL'])\n",
      "adata_to_csv.append(['LL-0h+1','T1_LL'])\n",
      "adata_to_csv.append(['LL-0h+2','T1_LL'])\n",
      "adata_to_csv.append(['LL-0h+3','T1_LL'])\n",
      "adata_to_csv.append(['LL-0h+1','deltaT1_HPG1','T1_LL_roi'])\n",
      "adata_to_csv.append(['LL-0h+2','deltaT1_HPG2','T1_LL_roi'])\n",
      "adata_to_csv.append(['LL-0h+3','deltaT1_Gd','T1_LL_roi'])\n",
      "adata_to_csv.append(['LL-0h+3','deltaT1_GdHPG','T1_LL_roi'])\n",
      "\n",
      "adata_to_csv.append(['LL-0h+1','deltaR1_HPG1','T1_LL_roi'])\n",
      "adata_to_csv.append(['LL-0h+2','deltaR1_HPG2','T1_LL_roi'])\n",
      "adata_to_csv.append(['LL-0h+3','deltaR1_Gd','T1_LL_roi'])\n",
      "adata_to_csv.append(['LL-0h+3','deltaR1_GdHPG','T1_LL_roi'])\n",
      "\n",
      "\n",
      "for k in adata_to_csv:\n",
      "    \n",
      "    if len(k) ==2:\n",
      "        sarpy.io.write_csv.write_csv(masterlist,k[0],k[1])\n",
      "    else:\n",
      "        sarpy.io.write_csv.write_csv(masterlist,k[0],k[1],roi_override=k[2])"
     ],
     "language": "python",
     "metadata": {},
     "outputs": [
      {
       "output_type": "stream",
       "stream": "stdout",
       "text": [
        "write_csv: Not found HerS11Bs06 and LL-0h+2,T1_LL\n",
        "write_csv: Not found HerS11Bs06 and LL-0h+3,T1_LL"
       ]
      },
      {
       "output_type": "stream",
       "stream": "stdout",
       "text": [
        "\n",
        "write_csv: Not found HerS11Bs10 and LL-0h+3,T1_LL"
       ]
      },
      {
       "output_type": "stream",
       "stream": "stdout",
       "text": [
        "\n",
        "write_csv: Not found HerS11Bs06 and LL-0h+2,deltaT1_HPG2"
       ]
      },
      {
       "output_type": "stream",
       "stream": "stdout",
       "text": [
        "\n",
        "write_csv: Not found HerS11Bs06 and LL-0h+3,deltaT1_Gd"
       ]
      },
      {
       "output_type": "stream",
       "stream": "stdout",
       "text": [
        "\n",
        "write_csv: Not found HerS11Bs10 and LL-0h+3,deltaT1_Gd"
       ]
      },
      {
       "output_type": "stream",
       "stream": "stdout",
       "text": [
        "\n",
        "write_csv: Not found HerS11Bs06 and LL-0h+3,deltaT1_GdHPG"
       ]
      },
      {
       "output_type": "stream",
       "stream": "stdout",
       "text": [
        "\n",
        "write_csv: Not found HerS11Bs10 and LL-0h+3,deltaT1_GdHPG"
       ]
      },
      {
       "output_type": "stream",
       "stream": "stdout",
       "text": [
        "\n",
        "write_csv: Not found HerS11Bs06 and LL-0h+2,deltaR1_HPG2"
       ]
      },
      {
       "output_type": "stream",
       "stream": "stdout",
       "text": [
        "\n",
        "write_csv: Not found HerS11Bs06 and LL-0h+3,deltaR1_Gd"
       ]
      },
      {
       "output_type": "stream",
       "stream": "stdout",
       "text": [
        "\n",
        "write_csv: Not found HerS11Bs10 and LL-0h+3,deltaR1_Gd"
       ]
      },
      {
       "output_type": "stream",
       "stream": "stdout",
       "text": [
        "\n",
        "write_csv: Not found HerS11Bs06 and LL-0h+3,deltaR1_GdHPG"
       ]
      },
      {
       "output_type": "stream",
       "stream": "stdout",
       "text": [
        "\n",
        "write_csv: Not found HerS11Bs10 and LL-0h+3,deltaR1_GdHPG"
       ]
      },
      {
       "output_type": "stream",
       "stream": "stdout",
       "text": [
        "\n"
       ]
      },
      {
       "output_type": "stream",
       "stream": "stderr",
       "text": [
        "/System/Library/Frameworks/Python.framework/Versions/2.7/Extras/lib/python/scipy/stats/stats.py:298: RuntimeWarning: invalid value encountered in double_scalars\n",
        "  return np.mean(x,axis)/factor\n"
       ]
      }
     ],
     "prompt_number": 3
    },
    {
     "cell_type": "markdown",
     "metadata": {},
     "source": [
      "### Generating Tumourboards"
     ]
    },
    {
     "cell_type": "code",
     "collapsed": false,
     "input": [
      "tumourboards = []\n",
      "#tumourboards.append('HerS11/HerS11.TB')\n",
      "#tumourboards.append('HerS11/HerS11Deltas.TB')\n",
      "tumourboards.append('HerS11/HerS11DeltaR1.TB')\n",
      "\n",
      "os.chdir(os.path.expanduser(os.path.join('~','sarpy/python/sarpy/io')))"
     ],
     "language": "python",
     "metadata": {},
     "outputs": [],
     "prompt_number": 6
    },
    {
     "cell_type": "code",
     "collapsed": false,
     "input": [
      "for tb in tumourboards:\n",
      "    %run ./tumourboard.py -c $tb"
     ],
     "language": "python",
     "metadata": {},
     "outputs": [
      {
       "output_type": "stream",
       "stream": "stdout",
       "text": [
        "\n",
        "--------------------------------------------------------------------------------\n",
        "HerS11Bs05\n",
        "('roi-0h', u'HerS11Bs05.m91/4', '03_RARE_T2w_ax')"
       ]
      },
      {
       "output_type": "stream",
       "stream": "stdout",
       "text": [
        "\n",
        "('dce-0ha_HPG', u'HerS11Bs05.m91/6', '06_FLASH2D.6sl-DCE')"
       ]
      },
      {
       "output_type": "stream",
       "stream": "stdout",
       "text": [
        "\n",
        "('dce-0ha_Gd', u'HerS11Bs05.m91/12', '06_FLASH2D.6sl-DCE')"
       ]
      },
      {
       "output_type": "stream",
       "stream": "stdout",
       "text": [
        "\n",
        "('dce-0ha_Gd', u'HerS11Bs05.m91/12', '06_FLASH2D.6sl-DCE')"
       ]
      },
      {
       "output_type": "stream",
       "stream": "stdout",
       "text": [
        "\n",
        "('LL-0h+1', u'HerS11Bs05.m91/7', 'ubcLL2_base_HCT_SQ')"
       ]
      },
      {
       "output_type": "stream",
       "stream": "stdout",
       "text": [
        "\n",
        "('LL-0h+2', u'HerS11Bs05.m91/10', 'ubcLL2_base_HCT_SQ')"
       ]
      },
      {
       "output_type": "stream",
       "stream": "stdout",
       "text": [
        "\n",
        "('LL-0h+3', u'HerS11Bs05.m91/13', 'ubcLL2_base_HCT_SQ')"
       ]
      },
      {
       "output_type": "stream",
       "stream": "stdout",
       "text": [
        "\n",
        "('dce-0ha_Gd', u'HerS11Bs05.m91/12', '06_FLASH2D.6sl-DCE')"
       ]
      },
      {
       "output_type": "stream",
       "stream": "stdout",
       "text": [
        "\n",
        "\n",
        "--------------------------------------------------------------------------------\n",
        "HerS11Bs06"
       ]
      },
      {
       "output_type": "stream",
       "stream": "stdout",
       "text": [
        "\n",
        "('roi-0h', u'HerS11Bs06.m91/4', '03_RARE_T2w_ax')"
       ]
      },
      {
       "output_type": "stream",
       "stream": "stdout",
       "text": [
        "\n",
        "('dce-0ha_HPG', u'HerS11Bs06.m91/6', '06_FLASH2D.6sl-DCE')"
       ]
      },
      {
       "output_type": "stream",
       "stream": "stdout",
       "text": [
        "\n",
        "('dce-0ha_Gd', u'HerS11Bs06.m91/6', '06_FLASH2D.6sl-DCE')"
       ]
      },
      {
       "output_type": "stream",
       "stream": "stdout",
       "text": [
        "\n",
        "('dce-0ha_Gd', u'HerS11Bs06.m91/6', '06_FLASH2D.6sl-DCE')"
       ]
      },
      {
       "output_type": "stream",
       "stream": "stdout",
       "text": [
        "\n",
        "('LL-0h+1', u'HerS11Bs06.m91/7', 'ubcLL2_base_HCT_SQ')"
       ]
      },
      {
       "output_type": "stream",
       "stream": "stdout",
       "text": [
        "\n",
        "('dce-0ha_Gd', u'HerS11Bs06.m91/6', '06_FLASH2D.6sl-DCE')"
       ]
      },
      {
       "output_type": "stream",
       "stream": "stdout",
       "text": [
        "\n",
        "\n",
        "--------------------------------------------------------------------------------\n",
        "HerS11Bs07"
       ]
      },
      {
       "output_type": "stream",
       "stream": "stdout",
       "text": [
        "\n",
        "('roi-0h', u'HerS11Bs07.ma2/4', '03_RARE_T2w_ax')"
       ]
      },
      {
       "output_type": "stream",
       "stream": "stdout",
       "text": [
        "\n",
        "('dce-0ha_HPG', u'HerS11Bs07.ma2/6', '06_FLASH2D.6sl-DCE')"
       ]
      },
      {
       "output_type": "stream",
       "stream": "stdout",
       "text": [
        "\n",
        "('dce-0ha_Gd', u'HerS11Bs07.ma2/11', '06_FLASH2D.6sl-DCE')"
       ]
      },
      {
       "output_type": "stream",
       "stream": "stdout",
       "text": [
        "\n",
        "('dce-0ha_Gd', u'HerS11Bs07.ma2/11', '06_FLASH2D.6sl-DCE')"
       ]
      },
      {
       "output_type": "stream",
       "stream": "stdout",
       "text": [
        "\n",
        "('LL-0h+1', u'HerS11Bs07.ma2/7', 'ubcLL2_base_HCT_SQ')"
       ]
      },
      {
       "output_type": "stream",
       "stream": "stdout",
       "text": [
        "\n",
        "('LL-0h+2', u'HerS11Bs07.ma2/10', 'ubcLL2_base_HCT_SQ')"
       ]
      },
      {
       "output_type": "stream",
       "stream": "stdout",
       "text": [
        "\n",
        "('LL-0h+3', u'HerS11Bs07.ma2/12', 'ubcLL2_base_HCT_SQ')"
       ]
      },
      {
       "output_type": "stream",
       "stream": "stdout",
       "text": [
        "\n",
        "('dce-0ha_Gd', u'HerS11Bs07.ma2/11', '06_FLASH2D.6sl-DCE')"
       ]
      },
      {
       "output_type": "stream",
       "stream": "stdout",
       "text": [
        "\n",
        "\n",
        "--------------------------------------------------------------------------------\n",
        "HerS11Bs08"
       ]
      },
      {
       "output_type": "stream",
       "stream": "stdout",
       "text": [
        "\n",
        "('roi-0h', u'HerS11Bs08.ma1/4', '03_RARE_T2w_ax')"
       ]
      },
      {
       "output_type": "stream",
       "stream": "stdout",
       "text": [
        "\n",
        "('dce-0ha_HPG', u'HerS11Bs08.ma1/6', '06_FLASH2D.6sl-DCE')"
       ]
      },
      {
       "output_type": "stream",
       "stream": "stdout",
       "text": [
        "\n",
        "('dce-0ha_Gd', u'HerS11Bs08.ma1/11', '06_FLASH2D.6sl-DCE')"
       ]
      },
      {
       "output_type": "stream",
       "stream": "stdout",
       "text": [
        "\n",
        "('dce-0ha_Gd', u'HerS11Bs08.ma1/11', '06_FLASH2D.6sl-DCE')"
       ]
      },
      {
       "output_type": "stream",
       "stream": "stdout",
       "text": [
        "\n",
        "('LL-0h+1', u'HerS11Bs08.ma1/7', 'ubcLL2_base_HCT_SQ')"
       ]
      },
      {
       "output_type": "stream",
       "stream": "stdout",
       "text": [
        "\n",
        "('LL-0h+2', u'HerS11Bs08.ma1/10', 'ubcLL2_base_HCT_SQ')"
       ]
      },
      {
       "output_type": "stream",
       "stream": "stdout",
       "text": [
        "\n",
        "('LL-0h+3', u'HerS11Bs08.ma1/12', 'ubcLL2_base_HCT_SQ')"
       ]
      },
      {
       "output_type": "stream",
       "stream": "stdout",
       "text": [
        "\n",
        "('dce-0ha_Gd', u'HerS11Bs08.ma1/11', '06_FLASH2D.6sl-DCE')"
       ]
      },
      {
       "output_type": "stream",
       "stream": "stdout",
       "text": [
        "\n",
        "\n",
        "--------------------------------------------------------------------------------\n",
        "HerS11Bs09"
       ]
      },
      {
       "output_type": "stream",
       "stream": "stdout",
       "text": [
        "\n",
        "('roi-0h', u'HerS11Bs09.md1/4', '03_RARE_T2w_ax')"
       ]
      },
      {
       "output_type": "stream",
       "stream": "stdout",
       "text": [
        "\n",
        "('dce-0ha_HPG', u'HerS11Bs09.md1/6', '06_FLASH2D.6sl-DCE')"
       ]
      },
      {
       "output_type": "stream",
       "stream": "stdout",
       "text": [
        "\n",
        "('dce-0ha_Gd', u'HerS11Bs09.md1/11', '06_FLASH2D.6sl-DCE')"
       ]
      },
      {
       "output_type": "stream",
       "stream": "stdout",
       "text": [
        "\n",
        "('dce-0ha_Gd', u'HerS11Bs09.md1/11', '06_FLASH2D.6sl-DCE')"
       ]
      },
      {
       "output_type": "stream",
       "stream": "stdout",
       "text": [
        "\n",
        "('LL-0h+1', u'HerS11Bs09.md1/7', 'ubcLL2_base_HCT_SQ')"
       ]
      },
      {
       "output_type": "stream",
       "stream": "stdout",
       "text": [
        "\n",
        "('LL-0h+2', u'HerS11Bs09.md1/10', 'ubcLL2_base_HCT_SQ')"
       ]
      },
      {
       "output_type": "stream",
       "stream": "stdout",
       "text": [
        "\n",
        "('LL-0h+3', u'HerS11Bs09.md1/12', 'ubcLL2_base_HCT_SQ')"
       ]
      },
      {
       "output_type": "stream",
       "stream": "stdout",
       "text": [
        "\n",
        "('dce-0ha_Gd', u'HerS11Bs09.md1/11', '06_FLASH2D.6sl-DCE')"
       ]
      },
      {
       "output_type": "stream",
       "stream": "stdout",
       "text": [
        "\n",
        "\n",
        "--------------------------------------------------------------------------------\n",
        "HerS11Bs10"
       ]
      },
      {
       "output_type": "stream",
       "stream": "stdout",
       "text": [
        "\n",
        "('roi-0h', u'HerS11Bs10.md1/4', '03_RARE_T2w_ax')"
       ]
      },
      {
       "output_type": "stream",
       "stream": "stdout",
       "text": [
        "\n",
        "('dce-0ha_HPG', u'HerS11Bs10.md1/6', '06_FLASH2D.6sl-DCE')"
       ]
      },
      {
       "output_type": "stream",
       "stream": "stdout",
       "text": [
        "\n",
        "('dce-0ha_Gd', u'HerS11Bs10.md1/11', '06_FLASH2D.6sl-DCE')"
       ]
      },
      {
       "output_type": "stream",
       "stream": "stdout",
       "text": [
        "\n",
        "('dce-0ha_Gd', u'HerS11Bs10.md1/11', '06_FLASH2D.6sl-DCE')"
       ]
      },
      {
       "output_type": "stream",
       "stream": "stdout",
       "text": [
        "\n",
        "('LL-0h+1', u'HerS11Bs10.md1/7', 'ubcLL2_base_HCT_SQ')"
       ]
      },
      {
       "output_type": "stream",
       "stream": "stdout",
       "text": [
        "\n",
        "('LL-0h+2', u'HerS11Bs10.md1/10', 'ubcLL2_base_HCT_SQ')"
       ]
      },
      {
       "output_type": "stream",
       "stream": "stdout",
       "text": [
        "\n",
        "('dce-0ha_Gd', u'HerS11Bs10.md1/11', '06_FLASH2D.6sl-DCE')"
       ]
      },
      {
       "output_type": "stream",
       "stream": "stdout",
       "text": [
        "\n",
        "\n",
        "--------------------------------------------------------------------------------\n",
        "HerS11Bs11"
       ]
      },
      {
       "output_type": "stream",
       "stream": "stdout",
       "text": [
        "\n",
        "('roi-0h', u'HerS11Bs11.md1/4', '03_RARE_T2w_ax')"
       ]
      },
      {
       "output_type": "stream",
       "stream": "stdout",
       "text": [
        "\n",
        "('dce-0ha_HPG', u'HerS11Bs11.md1/6', '06_FLASH2D.6sl-DCE')"
       ]
      },
      {
       "output_type": "stream",
       "stream": "stdout",
       "text": [
        "\n",
        "('dce-0ha_Gd', u'HerS11Bs11.md1/11', '06_FLASH2D.6sl-DCE')"
       ]
      },
      {
       "output_type": "stream",
       "stream": "stdout",
       "text": [
        "\n",
        "('dce-0ha_Gd', u'HerS11Bs11.md1/11', '06_FLASH2D.6sl-DCE')"
       ]
      },
      {
       "output_type": "stream",
       "stream": "stdout",
       "text": [
        "\n",
        "('LL-0h+1', u'HerS11Bs11.md1/7', 'ubcLL2_base_HCT_SQ')"
       ]
      },
      {
       "output_type": "stream",
       "stream": "stdout",
       "text": [
        "\n",
        "('LL-0h+2', u'HerS11Bs11.md1/10', 'ubcLL2_base_HCT_SQ')"
       ]
      },
      {
       "output_type": "stream",
       "stream": "stdout",
       "text": [
        "\n",
        "('LL-0h+3', u'HerS11Bs11.md1/12', 'ubcLL2_base_HCT_SQ')"
       ]
      },
      {
       "output_type": "stream",
       "stream": "stdout",
       "text": [
        "\n",
        "('dce-0ha_Gd', u'HerS11Bs11.md1/11', '06_FLASH2D.6sl-DCE')"
       ]
      },
      {
       "output_type": "stream",
       "stream": "stdout",
       "text": [
        "\n",
        "\n",
        "--------------------------------------------------------------------------------\n",
        "HerS11Bs12"
       ]
      },
      {
       "output_type": "stream",
       "stream": "stdout",
       "text": [
        "\n",
        "('roi-0h', u'HerS11Bs12.me1/4', '03_RARE_T2w_ax')"
       ]
      },
      {
       "output_type": "stream",
       "stream": "stdout",
       "text": [
        "\n",
        "('dce-0ha_HPG', u'HerS11Bs12.me1/6', '06_FLASH2D.6sl-DCE')"
       ]
      },
      {
       "output_type": "stream",
       "stream": "stdout",
       "text": [
        "\n",
        "('dce-0ha_Gd', u'HerS11Bs12.me1/11', '06_FLASH2D.6sl-DCE')"
       ]
      },
      {
       "output_type": "stream",
       "stream": "stdout",
       "text": [
        "\n",
        "('dce-0ha_Gd', u'HerS11Bs12.me1/11', '06_FLASH2D.6sl-DCE')"
       ]
      },
      {
       "output_type": "stream",
       "stream": "stdout",
       "text": [
        "\n",
        "('LL-0h+1', u'HerS11Bs12.me1/7', 'ubcLL2_base_HCT_SQ')"
       ]
      },
      {
       "output_type": "stream",
       "stream": "stdout",
       "text": [
        "\n",
        "('LL-0h+2', u'HerS11Bs12.me1/10', 'ubcLL2_base_HCT_SQ')"
       ]
      },
      {
       "output_type": "stream",
       "stream": "stdout",
       "text": [
        "\n",
        "('LL-0h+3', u'HerS11Bs12.me1/12', 'ubcLL2_base_HCT_SQ')"
       ]
      },
      {
       "output_type": "stream",
       "stream": "stdout",
       "text": [
        "\n",
        "('dce-0ha_Gd', u'HerS11Bs12.me1/11', '06_FLASH2D.6sl-DCE')"
       ]
      },
      {
       "output_type": "stream",
       "stream": "stdout",
       "text": [
        "\n",
        "\n",
        "--------------------------------------------------------------------------------\n",
        "HerS11Bs13"
       ]
      },
      {
       "output_type": "stream",
       "stream": "stdout",
       "text": [
        "\n",
        "('roi-0h', u'HerS11Bs13.me1/4', '03_RARE_T2w_ax')"
       ]
      },
      {
       "output_type": "stream",
       "stream": "stdout",
       "text": [
        "\n",
        "('dce-0ha_HPG', u'HerS11Bs13.me1/6', '06_FLASH2D.6sl-DCE')"
       ]
      },
      {
       "output_type": "stream",
       "stream": "stdout",
       "text": [
        "\n",
        "('dce-0ha_Gd', u'HerS11Bs13.me1/11', '06_FLASH2D.6sl-DCE')"
       ]
      },
      {
       "output_type": "stream",
       "stream": "stdout",
       "text": [
        "\n",
        "('dce-0ha_Gd', u'HerS11Bs13.me1/11', '06_FLASH2D.6sl-DCE')"
       ]
      },
      {
       "output_type": "stream",
       "stream": "stdout",
       "text": [
        "\n",
        "('LL-0h+1', u'HerS11Bs13.me1/7', 'ubcLL2_base_HCT_SQ')"
       ]
      },
      {
       "output_type": "stream",
       "stream": "stdout",
       "text": [
        "\n",
        "('LL-0h+2', u'HerS11Bs13.me1/10', 'ubcLL2_base_HCT_SQ')"
       ]
      },
      {
       "output_type": "stream",
       "stream": "stdout",
       "text": [
        "\n",
        "('LL-0h+3', u'HerS11Bs13.me1/12', 'ubcLL2_base_HCT_SQ')"
       ]
      },
      {
       "output_type": "stream",
       "stream": "stdout",
       "text": [
        "\n",
        "('dce-0ha_Gd', u'HerS11Bs13.me1/11', '06_FLASH2D.6sl-DCE')"
       ]
      },
      {
       "output_type": "stream",
       "stream": "stdout",
       "text": [
        "\n",
        "\n",
        "--------------------------------------------------------------------------------\n",
        "HerS11Bs14"
       ]
      },
      {
       "output_type": "stream",
       "stream": "stdout",
       "text": [
        "\n",
        "('roi-0h', u'HerS11Bs14.me1/4', '03_RARE_T2w_ax')"
       ]
      },
      {
       "output_type": "stream",
       "stream": "stdout",
       "text": [
        "\n",
        "('dce-0ha_HPG', u'HerS11Bs14.me1/6', '06_FLASH2D.6sl-DCE')"
       ]
      },
      {
       "output_type": "stream",
       "stream": "stdout",
       "text": [
        "\n",
        "('dce-0ha_Gd', u'HerS11Bs14.me1/11', '06_FLASH2D.6sl-DCE')"
       ]
      },
      {
       "output_type": "stream",
       "stream": "stdout",
       "text": [
        "\n",
        "('dce-0ha_Gd', u'HerS11Bs14.me1/11', '06_FLASH2D.6sl-DCE')"
       ]
      },
      {
       "output_type": "stream",
       "stream": "stdout",
       "text": [
        "\n",
        "('LL-0h+1', u'HerS11Bs14.me1/7', 'ubcLL2_base_HCT_SQ')"
       ]
      },
      {
       "output_type": "stream",
       "stream": "stdout",
       "text": [
        "\n",
        "('LL-0h+2', u'HerS11Bs14.me1/10', 'ubcLL2_base_HCT_SQ')"
       ]
      },
      {
       "output_type": "stream",
       "stream": "stdout",
       "text": [
        "\n",
        "('LL-0h+3', u'HerS11Bs14.me1/12', 'ubcLL2_base_HCT_SQ')"
       ]
      },
      {
       "output_type": "stream",
       "stream": "stdout",
       "text": [
        "\n",
        "('dce-0ha_Gd', u'HerS11Bs14.me1/11', '06_FLASH2D.6sl-DCE')"
       ]
      },
      {
       "output_type": "stream",
       "stream": "stdout",
       "text": [
        "\n",
        "\n",
        "--------------------------------------------------------------------------------\n",
        "HerS11Bs15"
       ]
      },
      {
       "output_type": "stream",
       "stream": "stdout",
       "text": [
        "\n",
        "('roi-0h', u'HerS11Bs15.me1/4', '03_RARE_T2w_ax')"
       ]
      },
      {
       "output_type": "stream",
       "stream": "stdout",
       "text": [
        "\n",
        "('dce-0ha_HPG', u'HerS11Bs15.me1/6', '06_FLASH2D.6sl-DCE')"
       ]
      },
      {
       "output_type": "stream",
       "stream": "stdout",
       "text": [
        "\n",
        "('dce-0ha_Gd', u'HerS11Bs15.me1/11', '06_FLASH2D.6sl-DCE')"
       ]
      },
      {
       "output_type": "stream",
       "stream": "stdout",
       "text": [
        "\n",
        "('dce-0ha_Gd', u'HerS11Bs15.me1/11', '06_FLASH2D.6sl-DCE')"
       ]
      },
      {
       "output_type": "stream",
       "stream": "stdout",
       "text": [
        "\n",
        "('LL-0h+1', u'HerS11Bs15.me1/7', 'ubcLL2_base_HCT_SQ')"
       ]
      },
      {
       "output_type": "stream",
       "stream": "stdout",
       "text": [
        "\n",
        "('LL-0h+2', u'HerS11Bs15.me1/10', 'ubcLL2_base_HCT_SQ')"
       ]
      },
      {
       "output_type": "stream",
       "stream": "stdout",
       "text": [
        "\n",
        "('LL-0h+3', u'HerS11Bs15.me1/12', 'ubcLL2_base_HCT_SQ')"
       ]
      },
      {
       "output_type": "stream",
       "stream": "stdout",
       "text": [
        "\n",
        "('dce-0ha_Gd', u'HerS11Bs15.me1/11', '06_FLASH2D.6sl-DCE')"
       ]
      },
      {
       "output_type": "stream",
       "stream": "stdout",
       "text": [
        "\n"
       ]
      }
     ],
     "prompt_number": 8
    },
    {
     "cell_type": "code",
     "collapsed": false,
     "input": [],
     "language": "python",
     "metadata": {},
     "outputs": [],
     "prompt_number": 7
    },
    {
     "cell_type": "code",
     "collapsed": false,
     "input": [],
     "language": "python",
     "metadata": {},
     "outputs": []
    }
   ],
   "metadata": {}
  }
 ]
}