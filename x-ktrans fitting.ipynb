{
 "metadata": {
  "name": ""
 },
 "nbformat": 3,
 "nbformat_minor": 0,
 "worksheets": [
  {
   "cells": [
    {
     "cell_type": "code",
     "collapsed": false,
     "input": [
      "import sarpy\n",
      "import sarpy.fmoosvi.analysis\n",
      "from datetime import datetime\n",
      "import time\n",
      "\n",
      "#scan = sarpy.Scan('NecS3Hs02.iK1/14')\n",
      "scan = sarpy.Scan('NecS3Hs04.iK2/23')\n",
      "pylab.imshow(scan.adata['augc60'].data[24:26,58:60,3], vmin=0, vmax =15, interpolation='None')\n",
      "print scan.pdata[0].data.shape"
     ],
     "language": "python",
     "metadata": {},
     "outputs": [
      {
       "output_type": "stream",
       "stream": "stdout",
       "text": [
        "(64, 128, 6, 62)\n"
       ]
      },
      {
       "metadata": {},
       "output_type": "display_data",
       "png": "[encoded data removed]",
       "text": [
        "<matplotlib.figure.Figure at 0x118b65a90>"
       ]
      }
     ],
     "prompt_number": 10
    },
    {
     "cell_type": "markdown",
     "metadata": {},
     "source": [
      "### Testing of new ktrans fitting"
     ]
    },
    {
     "cell_type": "code",
     "collapsed": false,
     "input": [
      "from IPython.parallel.util import interactive\n",
      "func = interactive(lambda xyz:sarpy.fmoosvi.analysis.h_fit_PKhelper(xyz))"
     ],
     "language": "python",
     "metadata": {},
     "outputs": [],
     "prompt_number": 11
    },
    {
     "cell_type": "code",
     "collapsed": false,
     "input": [
      "t1= time.time()\n",
      "a=sarpy.fmoosvi.analysis.h_fit_PK(scan,func, bbox=array([20,21,60,61]), initial_guess=[.8, 1.9, 0.8, 0.05], model='2cxm', parallel=True)\n",
      "t2= time.time()\n",
      "print t2-t1"
     ],
     "language": "python",
     "metadata": {},
     "outputs": [
      {
       "output_type": "stream",
       "stream": "stdout",
       "text": [
        "Could not find the injection point, possibly okay0\n",
        "Could not find the injection point, possibly okay1\n",
        "Could not find the injection point, possibly okay2\n",
        "Could not find the injection point, possibly okay3\n",
        "importing sarpy on engine(s)"
       ]
      },
      {
       "ename": "CompositeError",
       "evalue": "one or more exceptions from call to method: <lambda>\n[1:apply]: TypeError: h_fit_PKhelper() takes exactly 8 arguments (1 given)\n[2:apply]: TypeError: h_fit_PKhelper() takes exactly 8 arguments (1 given)\n[12:apply]: TypeError: h_fit_PKhelper() takes exactly 8 arguments (1 given)\n[14:apply]: TypeError: h_fit_PKhelper() takes exactly 8 arguments (1 given)\n.... 20 more exceptions ...",
       "output_type": "pyerr",
       "traceback": [
        "[1:apply]: ",
        "\u001b[1;31m---------------------------------------------------------------------------\u001b[0m",
        "\u001b[1;31mTypeError\u001b[0m                                 Traceback (most recent call last)\u001b[1;32m<string>\u001b[0m in \u001b[0;36m<module>\u001b[1;34m()\u001b[0m",
        "\u001b[1;32m<ipython-input-11-96ef2e387de6>\u001b[0m in \u001b[0;36m<lambda>\u001b[1;34m(xyz)\u001b[0m",
        "\u001b[1;31mTypeError\u001b[0m: h_fit_PKhelper() takes exactly 8 arguments (1 given)",
        "",
        "[2:apply]: ",
        "\u001b[1;31m---------------------------------------------------------------------------\u001b[0m",
        "\u001b[1;31mTypeError\u001b[0m                                 Traceback (most recent call last)\u001b[1;32m<string>\u001b[0m in \u001b[0;36m<module>\u001b[1;34m()\u001b[0m",
        "\u001b[1;32m<ipython-input-11-96ef2e387de6>\u001b[0m in \u001b[0;36m<lambda>\u001b[1;34m(xyz)\u001b[0m",
        "\u001b[1;31mTypeError\u001b[0m: h_fit_PKhelper() takes exactly 8 arguments (1 given)",
        "",
        "[12:apply]: ",
        "\u001b[1;31m---------------------------------------------------------------------------\u001b[0m",
        "\u001b[1;31mTypeError\u001b[0m                                 Traceback (most recent call last)\u001b[1;32m<string>\u001b[0m in \u001b[0;36m<module>\u001b[1;34m()\u001b[0m",
        "\u001b[1;32m<ipython-input-11-96ef2e387de6>\u001b[0m in \u001b[0;36m<lambda>\u001b[1;34m(xyz)\u001b[0m",
        "\u001b[1;31mTypeError\u001b[0m: h_fit_PKhelper() takes exactly 8 arguments (1 given)",
        "",
        "[14:apply]: ",
        "\u001b[1;31m---------------------------------------------------------------------------\u001b[0m",
        "\u001b[1;31mTypeError\u001b[0m                                 Traceback (most recent call last)\u001b[1;32m<string>\u001b[0m in \u001b[0;36m<module>\u001b[1;34m()\u001b[0m",
        "\u001b[1;32m<ipython-input-11-96ef2e387de6>\u001b[0m in \u001b[0;36m<lambda>\u001b[1;34m(xyz)\u001b[0m",
        "\u001b[1;31mTypeError\u001b[0m: h_fit_PKhelper() takes exactly 8 arguments (1 given)",
        "",
        "... 20 more exceptions ..."
       ]
      },
      {
       "output_type": "stream",
       "stream": "stdout",
       "text": [
        "\n",
        "importing sarpy.fmoosvi.parallel on engine(s)\n",
        "importing sarpy.fmoosvi.analysis on engine(s)\n"
       ]
      }
     ],
     "prompt_number": 12
    },
    {
     "cell_type": "code",
     "collapsed": false,
     "input": [
      "a[4]"
     ],
     "language": "python",
     "metadata": {},
     "outputs": [
      {
       "metadata": {},
       "output_type": "pyout",
       "prompt_number": 13,
       "text": [
        "array([ 0.        ,  0.16911917,  0.33823834,  0.50735751,  0.67647668,\n",
        "        0.84559585,  0.96956047,  0.58601991,  0.37579385,  0.26056485,\n",
        "        0.19740558,  0.16278676,  0.1438115 ,  0.1334108 ,  0.12770997,\n",
        "        0.12458523,  0.1228725 ,  0.12193372,  0.12141916,  0.12113712,\n",
        "        0.12098252,  0.12089779,  0.12085134,  0.12082589,  0.12081193,\n",
        "        0.12080428,  0.12080009,  0.12079779,  0.12079653,  0.12079584,\n",
        "        0.12079547,  0.12079526,  0.12079514,  0.12079508,  0.12079505,\n",
        "        0.12079503,  0.12079502,  0.12079501,  0.12079501,  0.12079501,\n",
        "        0.12079501,  0.12079501,  0.12079501,  0.12079501,  0.12079501,\n",
        "        0.12079501,  0.12079501,  0.12079501,  0.12079501,  0.12079501,\n",
        "        0.12079501,  0.12079501,  0.12079501,  0.12079501,  0.12079501,\n",
        "        0.12079501,  0.12079501,  0.12079501,  0.12079501,  0.12079501,\n",
        "        0.12079501,  0.12079501,  0.12079501,  0.12079501,  0.12079501,\n",
        "        0.12079501,  0.12079501,  0.12079501,  0.12079501,  0.12079501,\n",
        "        0.12079501,  0.12079501,  0.12079501,  0.12079501,  0.12079501,\n",
        "        0.12079501,  0.12079501,  0.12079501,  0.12079501,  0.12079501,\n",
        "        0.12079501,  0.12079501,  0.12079501,  0.12079501,  0.12079501,\n",
        "        0.12079501])"
       ]
      }
     ],
     "prompt_number": 13
    },
    {
     "cell_type": "code",
     "collapsed": false,
     "input": [
      "scan.adata['augc60'].data[30,60,3]"
     ],
     "language": "python",
     "metadata": {},
     "outputs": [
      {
       "metadata": {},
       "output_type": "pyout",
       "prompt_number": 13,
       "text": [
        "0.23036988847989592"
       ]
      }
     ],
     "prompt_number": 13
    },
    {
     "cell_type": "code",
     "collapsed": false,
     "input": [
      "d = scan.adata['gd_conc'].data[30,60,3,:]\n",
      "pylab.plot(scan.adata['gd_conc'].data[42,58,3,:])\n",
      "pylab.plot(d)"
     ],
     "language": "python",
     "metadata": {},
     "outputs": [
      {
       "metadata": {},
       "output_type": "pyout",
       "prompt_number": 14,
       "text": [
        "[<matplotlib.lines.Line2D at 0x10efc0dd0>]"
       ]
      },
      {
       "metadata": {},
       "output_type": "display_data",
       "png": "[encoded data removed]",
       "text": [
        "<matplotlib.figure.Figure at 0x10efc0a50>"
       ]
      }
     ],
     "prompt_number": 14
    },
    {
     "cell_type": "code",
     "collapsed": false,
     "input": [
      "import random\n",
      "\n",
      "def get_random_initial_guess(numParams=4,range=None):\n",
      "    params = []\n",
      "    \n",
      "    if range is None:\n",
      "        range = []\n",
      "        for x in xrange(numParams):\n",
      "            range.append((0,1))\n",
      "            \n",
      "    for i in xrange(numParams):\n",
      "        params.append(random.uniform(range[i][0],range[i][1]))\n",
      " \n",
      "    return params"
     ],
     "language": "python",
     "metadata": {},
     "outputs": [],
     "prompt_number": 4
    },
    {
     "cell_type": "code",
     "collapsed": true,
     "input": [
      "#fits = []\n",
      "#\n",
      "#for trial in xrange(100):\n",
      "#    guess = get_random_initial_guess(4, range = [(.01,.9999),(.1,8),(.1,.99),(.001,.3)])\n",
      "#    # [.8, 1.9, 0.8, 0.05]\n",
      "#    fits.append(sarpy.fmoosvi.analysis.h_fit_PK(scan, test = (30,60,3), model='2cxm', initial_guess = guess))\n",
      "#    \n",
      "#    print guess\n",
      "#fp = array([f['fit_params'] for f in fits])\n",
      "#cur = array([f['fitted_ctr'] for f in fits])\n",
      "#hist(fp[:,3])\n",
      "#pylab.figure()\n",
      "#\n",
      "#for x in xrange(100):\n",
      "#    pylab.plot(cur[x,:],'r')\n",
      "#    pylab.xlim(4,6)\n",
      "#    pylab.ylim(0.15,0.2)"
     ],
     "language": "python",
     "metadata": {},
     "outputs": [
      {
       "ename": "KeyboardInterrupt",
       "evalue": "",
       "output_type": "pyerr",
       "traceback": [
        "\u001b[0;31m---------------------------------------------------------------------------\u001b[0m\n\u001b[0;31mKeyboardInterrupt\u001b[0m                         Traceback (most recent call last)",
        "\u001b[0;32m<ipython-input-5-c7c6ac74ac3c>\u001b[0m in \u001b[0;36m<module>\u001b[0;34m()\u001b[0m\n\u001b[1;32m      4\u001b[0m     \u001b[0mguess\u001b[0m \u001b[0;34m=\u001b[0m \u001b[0mget_random_initial_guess\u001b[0m\u001b[0;34m(\u001b[0m\u001b[0;36m4\u001b[0m\u001b[0;34m,\u001b[0m \u001b[0mrange\u001b[0m \u001b[0;34m=\u001b[0m \u001b[0;34m[\u001b[0m\u001b[0;34m(\u001b[0m\u001b[0;36m.01\u001b[0m\u001b[0;34m,\u001b[0m\u001b[0;36m.9999\u001b[0m\u001b[0;34m)\u001b[0m\u001b[0;34m,\u001b[0m\u001b[0;34m(\u001b[0m\u001b[0;36m.1\u001b[0m\u001b[0;34m,\u001b[0m\u001b[0;36m8\u001b[0m\u001b[0;34m)\u001b[0m\u001b[0;34m,\u001b[0m\u001b[0;34m(\u001b[0m\u001b[0;36m.1\u001b[0m\u001b[0;34m,\u001b[0m\u001b[0;36m.99\u001b[0m\u001b[0;34m)\u001b[0m\u001b[0;34m,\u001b[0m\u001b[0;34m(\u001b[0m\u001b[0;36m.001\u001b[0m\u001b[0;34m,\u001b[0m\u001b[0;36m.3\u001b[0m\u001b[0;34m)\u001b[0m\u001b[0;34m]\u001b[0m\u001b[0;34m)\u001b[0m\u001b[0;34m\u001b[0m\u001b[0m\n\u001b[1;32m      5\u001b[0m     \u001b[0;31m# [.8, 1.9, 0.8, 0.05]\u001b[0m\u001b[0;34m\u001b[0m\u001b[0;34m\u001b[0m\u001b[0m\n\u001b[0;32m----> 6\u001b[0;31m     \u001b[0mfits\u001b[0m\u001b[0;34m.\u001b[0m\u001b[0mappend\u001b[0m\u001b[0;34m(\u001b[0m\u001b[0msarpy\u001b[0m\u001b[0;34m.\u001b[0m\u001b[0mfmoosvi\u001b[0m\u001b[0;34m.\u001b[0m\u001b[0manalysis\u001b[0m\u001b[0;34m.\u001b[0m\u001b[0mh_fit_PK\u001b[0m\u001b[0;34m(\u001b[0m\u001b[0mscan\u001b[0m\u001b[0;34m,\u001b[0m \u001b[0mtest\u001b[0m \u001b[0;34m=\u001b[0m \u001b[0;34m(\u001b[0m\u001b[0;36m30\u001b[0m\u001b[0;34m,\u001b[0m\u001b[0;36m60\u001b[0m\u001b[0;34m,\u001b[0m\u001b[0;36m3\u001b[0m\u001b[0;34m)\u001b[0m\u001b[0;34m,\u001b[0m \u001b[0mmodel\u001b[0m\u001b[0;34m=\u001b[0m\u001b[0;34m'2cxm'\u001b[0m\u001b[0;34m,\u001b[0m \u001b[0minitial_guess\u001b[0m \u001b[0;34m=\u001b[0m \u001b[0mguess\u001b[0m\u001b[0;34m)\u001b[0m\u001b[0;34m)\u001b[0m\u001b[0;34m\u001b[0m\u001b[0m\n\u001b[0m\u001b[1;32m      7\u001b[0m \u001b[0;34m\u001b[0m\u001b[0m\n\u001b[1;32m      8\u001b[0m     \u001b[0;32mprint\u001b[0m \u001b[0mguess\u001b[0m\u001b[0;34m\u001b[0m\u001b[0m\n",
        "\u001b[0;32m/phd/Dropbox/code/python/sarpy/fmoosvi/analysis.pyc\u001b[0m in \u001b[0;36mh_fit_PK\u001b[0;34m(scan_object, adata_label, bbox, test, model, initial_guess, pdata_num)\u001b[0m\n\u001b[1;32m    521\u001b[0m                                                              \u001b[0minitial_params\u001b[0m \u001b[0;34m=\u001b[0m \u001b[0minitial_guess\u001b[0m\u001b[0;34m,\u001b[0m\u001b[0;34m\u001b[0m\u001b[0m\n\u001b[1;32m    522\u001b[0m                                                              \u001b[0mbounds\u001b[0m \u001b[0;34m=\u001b[0m \u001b[0mbounds\u001b[0m\u001b[0;34m,\u001b[0m\u001b[0;34m\u001b[0m\u001b[0m\n\u001b[0;32m--> 523\u001b[0;31m                                                              brute_ranges = None)\n\u001b[0m\u001b[1;32m    524\u001b[0m \u001b[0;34m\u001b[0m\u001b[0m\n\u001b[1;32m    525\u001b[0m                 \u001b[0;31m#TODO: IMPLEMENT GOODNESS OF FIT FOR PKM fits\u001b[0m\u001b[0;34m\u001b[0m\u001b[0;34m\u001b[0m\u001b[0m\n",
        "\u001b[0;32m/phd/Dropbox/code/python/sarpy/fmoosvi/PKlib.pyc\u001b[0m in \u001b[0;36mPKfit\u001b[0;34m(aif, targetfunc, time, model, initial_params, method, bounds, brute_ranges)\u001b[0m\n\u001b[1;32m    126\u001b[0m                                             \u001b[0mlower\u001b[0m\u001b[0;34m=\u001b[0m\u001b[0;34m[\u001b[0m\u001b[0mi\u001b[0m\u001b[0;34m[\u001b[0m\u001b[0;36m0\u001b[0m\u001b[0;34m]\u001b[0m \u001b[0;32mfor\u001b[0m \u001b[0mi\u001b[0m \u001b[0;32min\u001b[0m \u001b[0mbounds\u001b[0m\u001b[0;34m]\u001b[0m\u001b[0;34m,\u001b[0m\u001b[0;31m\\\u001b[0m\u001b[0;34m\u001b[0m\u001b[0m\n\u001b[1;32m    127\u001b[0m                                             \u001b[0mupper\u001b[0m\u001b[0;34m=\u001b[0m\u001b[0;34m[\u001b[0m\u001b[0mi\u001b[0m\u001b[0;34m[\u001b[0m\u001b[0;36m1\u001b[0m\u001b[0;34m]\u001b[0m \u001b[0;32mfor\u001b[0m \u001b[0mi\u001b[0m \u001b[0;32min\u001b[0m \u001b[0mbounds\u001b[0m\u001b[0;34m]\u001b[0m\u001b[0;34m,\u001b[0m\u001b[0;31m\\\u001b[0m\u001b[0;34m\u001b[0m\u001b[0m\n\u001b[0;32m--> 128\u001b[0;31m                                             dwell=1000)\n\u001b[0m\u001b[1;32m    129\u001b[0m \u001b[0;31m#        print(feval, iters, retval, T)\u001b[0m\u001b[0;34m\u001b[0m\u001b[0;34m\u001b[0m\u001b[0m\n\u001b[1;32m    130\u001b[0m \u001b[0;34m\u001b[0m\u001b[0m\n",
        "\u001b[0;32m/Library/Python/2.7/site-packages/scipy-0.13.0.dev_c31f167_20130514-py2.7-macosx-10.8-intel.egg/scipy/optimize/anneal.pyc\u001b[0m in \u001b[0;36manneal\u001b[0;34m(func, x0, args, schedule, full_output, T0, Tf, maxeval, maxaccept, maxiter, boltzmann, learn_rate, feps, quench, m, n, lower, upper, dwell, disp)\u001b[0m\n\u001b[1;32m    312\u001b[0m             'disp'      : disp}\n\u001b[1;32m    313\u001b[0m \u001b[0;34m\u001b[0m\u001b[0m\n\u001b[0;32m--> 314\u001b[0;31m     \u001b[0mres\u001b[0m \u001b[0;34m=\u001b[0m \u001b[0m_minimize_anneal\u001b[0m\u001b[0;34m(\u001b[0m\u001b[0mfunc\u001b[0m\u001b[0;34m,\u001b[0m \u001b[0mx0\u001b[0m\u001b[0;34m,\u001b[0m \u001b[0margs\u001b[0m\u001b[0;34m,\u001b[0m \u001b[0;34m**\u001b[0m\u001b[0mopts\u001b[0m\u001b[0;34m)\u001b[0m\u001b[0;34m\u001b[0m\u001b[0m\n\u001b[0m\u001b[1;32m    315\u001b[0m \u001b[0;34m\u001b[0m\u001b[0m\n\u001b[1;32m    316\u001b[0m     \u001b[0;32mif\u001b[0m \u001b[0mfull_output\u001b[0m\u001b[0;34m:\u001b[0m\u001b[0;34m\u001b[0m\u001b[0m\n",
        "\u001b[0;32m/Library/Python/2.7/site-packages/scipy-0.13.0.dev_c31f167_20130514-py2.7-macosx-10.8-intel.egg/scipy/optimize/anneal.pyc\u001b[0m in \u001b[0;36m_minimize_anneal\u001b[0;34m(func, x0, args, schedule, T0, Tf, maxfev, maxaccept, maxiter, boltzmann, learn_rate, ftol, quench, m, n, lower, upper, dwell, disp, **unknown_options)\u001b[0m\n\u001b[1;32m    397\u001b[0m     \u001b[0;32mwhile\u001b[0m \u001b[0;36m1\u001b[0m\u001b[0;34m:\u001b[0m\u001b[0;34m\u001b[0m\u001b[0m\n\u001b[1;32m    398\u001b[0m         \u001b[0;32mfor\u001b[0m \u001b[0mn\u001b[0m \u001b[0;32min\u001b[0m \u001b[0mxrange\u001b[0m\u001b[0;34m(\u001b[0m\u001b[0mdwell\u001b[0m\u001b[0;34m)\u001b[0m\u001b[0;34m:\u001b[0m\u001b[0;34m\u001b[0m\u001b[0m\n\u001b[0;32m--> 399\u001b[0;31m             \u001b[0mcurrent_state\u001b[0m\u001b[0;34m.\u001b[0m\u001b[0mx\u001b[0m \u001b[0;34m=\u001b[0m \u001b[0mschedule\u001b[0m\u001b[0;34m.\u001b[0m\u001b[0mupdate_guess\u001b[0m\u001b[0;34m(\u001b[0m\u001b[0mlast_state\u001b[0m\u001b[0;34m.\u001b[0m\u001b[0mx\u001b[0m\u001b[0;34m)\u001b[0m\u001b[0;34m\u001b[0m\u001b[0m\n\u001b[0m\u001b[1;32m    400\u001b[0m             \u001b[0mcurrent_state\u001b[0m\u001b[0;34m.\u001b[0m\u001b[0mcost\u001b[0m \u001b[0;34m=\u001b[0m \u001b[0mfunc\u001b[0m\u001b[0;34m(\u001b[0m\u001b[0mcurrent_state\u001b[0m\u001b[0;34m.\u001b[0m\u001b[0mx\u001b[0m\u001b[0;34m,\u001b[0m\u001b[0;34m*\u001b[0m\u001b[0margs\u001b[0m\u001b[0;34m)\u001b[0m\u001b[0;34m\u001b[0m\u001b[0m\n\u001b[1;32m    401\u001b[0m             \u001b[0mschedule\u001b[0m\u001b[0;34m.\u001b[0m\u001b[0mfeval\u001b[0m \u001b[0;34m+=\u001b[0m \u001b[0;36m1\u001b[0m\u001b[0;34m\u001b[0m\u001b[0m\n",
        "\u001b[0;32m/Library/Python/2.7/site-packages/scipy-0.13.0.dev_c31f167_20130514-py2.7-macosx-10.8-intel.egg/scipy/optimize/anneal.pyc\u001b[0m in \u001b[0;36mupdate_guess\u001b[0;34m(self, x0)\u001b[0m\n\u001b[1;32m    106\u001b[0m         \u001b[0mT\u001b[0m \u001b[0;34m=\u001b[0m \u001b[0mself\u001b[0m\u001b[0;34m.\u001b[0m\u001b[0mT\u001b[0m\u001b[0;34m\u001b[0m\u001b[0m\n\u001b[1;32m    107\u001b[0m         \u001b[0my\u001b[0m \u001b[0;34m=\u001b[0m \u001b[0msign\u001b[0m\u001b[0;34m(\u001b[0m\u001b[0mu\u001b[0m\u001b[0;34m-\u001b[0m\u001b[0;36m0.5\u001b[0m\u001b[0;34m)\u001b[0m\u001b[0;34m*\u001b[0m\u001b[0mT\u001b[0m\u001b[0;34m*\u001b[0m\u001b[0;34m(\u001b[0m\u001b[0;34m(\u001b[0m\u001b[0;36m1\u001b[0m\u001b[0;34m+\u001b[0m\u001b[0;36m1.0\u001b[0m\u001b[0;34m/\u001b[0m\u001b[0mT\u001b[0m\u001b[0;34m)\u001b[0m\u001b[0;34m**\u001b[0m\u001b[0mabs\u001b[0m\u001b[0;34m(\u001b[0m\u001b[0;36m2\u001b[0m\u001b[0;34m*\u001b[0m\u001b[0mu\u001b[0m\u001b[0;34m-\u001b[0m\u001b[0;36m1\u001b[0m\u001b[0;34m)\u001b[0m\u001b[0;34m-\u001b[0m\u001b[0;36m1.0\u001b[0m\u001b[0;34m)\u001b[0m\u001b[0;34m\u001b[0m\u001b[0m\n\u001b[0;32m--> 108\u001b[0;31m         \u001b[0mxc\u001b[0m \u001b[0;34m=\u001b[0m \u001b[0my\u001b[0m\u001b[0;34m*\u001b[0m\u001b[0;34m(\u001b[0m\u001b[0mself\u001b[0m\u001b[0;34m.\u001b[0m\u001b[0mupper\u001b[0m \u001b[0;34m-\u001b[0m \u001b[0mself\u001b[0m\u001b[0;34m.\u001b[0m\u001b[0mlower\u001b[0m\u001b[0;34m)\u001b[0m\u001b[0;34m\u001b[0m\u001b[0m\n\u001b[0m\u001b[1;32m    109\u001b[0m         \u001b[0mxnew\u001b[0m \u001b[0;34m=\u001b[0m \u001b[0mx0\u001b[0m \u001b[0;34m+\u001b[0m \u001b[0mxc\u001b[0m\u001b[0;34m\u001b[0m\u001b[0m\n\u001b[1;32m    110\u001b[0m         \u001b[0;32mreturn\u001b[0m \u001b[0mxnew\u001b[0m\u001b[0;34m\u001b[0m\u001b[0m\n",
        "\u001b[0;31mKeyboardInterrupt\u001b[0m: "
       ]
      }
     ],
     "prompt_number": 5
    },
    {
     "cell_type": "code",
     "collapsed": false,
     "input": [
      "\n",
      "pylab.plot(cur[5,:])"
     ],
     "language": "python",
     "metadata": {},
     "outputs": []
    },
    {
     "cell_type": "code",
     "collapsed": false,
     "input": [
      "cur"
     ],
     "language": "python",
     "metadata": {},
     "outputs": []
    },
    {
     "cell_type": "code",
     "collapsed": false,
     "input": [
      "startTime = datetime.now()\n",
      "dic=sarpy.fmoosvi.analysis.h_fit_PK(scan, model='2cxm', initial_guess = [.8, 1.9, 0.8, 0.05], bbox = array([35,40,60,65]))\n",
      "print(datetime.now()-startTime)"
     ],
     "language": "python",
     "metadata": {},
     "outputs": []
    },
    {
     "cell_type": "code",
     "collapsed": false,
     "input": [
      "from IPython.parallel import Client\n",
      "c = Client(profile='home')   # here is where the client establishes the connection\n",
      "lv = c.load_balanced_view()   # this object represents the engines (workers)\n",
      "lv.block = True\n",
      "\n",
      "model = '2cxm'\n",
      "initial_guess = [.8, 1.9, 0.8, 0.05]\n",
      "bbox = array([35,40,60,65])\n",
      "args = [scan, model, initial_guess, bbox]\n",
      "\n",
      "st2 = time.time()\n",
      "\n",
      "dview=c[:]\n",
      "dview.execute('import sarpy')\n",
      "\n",
      "dicpar = lv.map(sarpy.fmoosvi.analysis.h_fit_PK, args)\n",
      "et2 = time.time()\n",
      "print et2 - st2"
     ],
     "language": "python",
     "metadata": {},
     "outputs": [
      {
       "ename": "CompositeError",
       "evalue": "one or more exceptions from call to method: h_fit_PK\n[10:apply]: ImportError: No module named sarpy.io.BRUKER_classes\n[4:apply]: AttributeError: 'str' object has no attribute 'adata'\n[7:apply]: AttributeError: 'list' object has no attribute 'adata'\n[12:apply]: AttributeError: 'numpy.ndarray' object has no attribute 'adata'",
       "output_type": "pyerr",
       "traceback": [
        "[10:apply]: ",
        "\u001b[0;31m---------------------------------------------------------------------------\u001b[0m",
        "\u001b[0;31mImportError\u001b[0m                               Traceback (most recent call last)\u001b[0;32m/usr/lib/python2.7/dist-packages/IPython/zmq/serialize.pyc\u001b[0m in \u001b[0;36munpack_apply_message\u001b[0;34m(bufs, g, copy)\u001b[0m",
        "\u001b[1;32m    154\u001b[0m                     \u001b[0msa\u001b[0m\u001b[0;34m.\u001b[0m\u001b[0mdata\u001b[0m \u001b[0;34m=\u001b[0m \u001b[0mm\u001b[0m\u001b[0;34m.\u001b[0m\u001b[0mbytes\u001b[0m\u001b[0;34m\u001b[0m\u001b[0m",
        "\u001b[1;32m    155\u001b[0m \u001b[0;34m\u001b[0m\u001b[0m",
        "\u001b[0;32m--> 156\u001b[0;31m     \u001b[0margs\u001b[0m \u001b[0;34m=\u001b[0m \u001b[0muncanSequence\u001b[0m\u001b[0;34m(\u001b[0m\u001b[0mmap\u001b[0m\u001b[0;34m(\u001b[0m\u001b[0munserialize\u001b[0m\u001b[0;34m,\u001b[0m \u001b[0msargs\u001b[0m\u001b[0;34m)\u001b[0m\u001b[0;34m,\u001b[0m \u001b[0mg\u001b[0m\u001b[0;34m)\u001b[0m\u001b[0;34m\u001b[0m\u001b[0m",
        "\u001b[0m\u001b[1;32m    157\u001b[0m     \u001b[0mkwargs\u001b[0m \u001b[0;34m=\u001b[0m \u001b[0;34m{\u001b[0m\u001b[0;34m}\u001b[0m\u001b[0;34m\u001b[0m\u001b[0m",
        "\u001b[1;32m    158\u001b[0m     \u001b[0;32mfor\u001b[0m \u001b[0mk\u001b[0m \u001b[0;32min\u001b[0m \u001b[0msorted\u001b[0m\u001b[0;34m(\u001b[0m\u001b[0mskwargs\u001b[0m\u001b[0;34m.\u001b[0m\u001b[0miterkeys\u001b[0m\u001b[0;34m(\u001b[0m\u001b[0;34m)\u001b[0m\u001b[0;34m)\u001b[0m\u001b[0;34m:\u001b[0m\u001b[0;34m\u001b[0m\u001b[0m",
        "\u001b[0;32m/usr/lib/python2.7/dist-packages/IPython/utils/newserialized.pyc\u001b[0m in \u001b[0;36munserialize\u001b[0;34m(serialized)\u001b[0m",
        "\u001b[1;32m    175\u001b[0m \u001b[0;34m\u001b[0m\u001b[0m",
        "\u001b[1;32m    176\u001b[0m \u001b[0;32mdef\u001b[0m \u001b[0munserialize\u001b[0m\u001b[0;34m(\u001b[0m\u001b[0mserialized\u001b[0m\u001b[0;34m)\u001b[0m\u001b[0;34m:\u001b[0m\u001b[0;34m\u001b[0m\u001b[0m",
        "\u001b[0;32m--> 177\u001b[0;31m     \u001b[0;32mreturn\u001b[0m \u001b[0mUnSerializeIt\u001b[0m\u001b[0;34m(\u001b[0m\u001b[0mserialized\u001b[0m\u001b[0;34m)\u001b[0m\u001b[0;34m.\u001b[0m\u001b[0mgetObject\u001b[0m\u001b[0;34m(\u001b[0m\u001b[0;34m)\u001b[0m\u001b[0;34m\u001b[0m\u001b[0m",
        "\u001b[0m\u001b[0;32m/usr/lib/python2.7/dist-packages/IPython/utils/newserialized.pyc\u001b[0m in \u001b[0;36mgetObject\u001b[0;34m(self)\u001b[0m",
        "\u001b[1;32m    164\u001b[0m                 \u001b[0mresult\u001b[0m\u001b[0;34m.\u001b[0m\u001b[0mshape\u001b[0m \u001b[0;34m=\u001b[0m \u001b[0mself\u001b[0m\u001b[0;34m.\u001b[0m\u001b[0mserialized\u001b[0m\u001b[0;34m.\u001b[0m\u001b[0mmetadata\u001b[0m\u001b[0;34m[\u001b[0m\u001b[0;34m'shape'\u001b[0m\u001b[0;34m]\u001b[0m\u001b[0;34m\u001b[0m\u001b[0m",
        "\u001b[1;32m    165\u001b[0m         \u001b[0;32melif\u001b[0m \u001b[0mtypeDescriptor\u001b[0m \u001b[0;34m==\u001b[0m \u001b[0;34m'pickle'\u001b[0m\u001b[0;34m:\u001b[0m\u001b[0;34m\u001b[0m\u001b[0m",
        "\u001b[0;32m--> 166\u001b[0;31m             \u001b[0mresult\u001b[0m \u001b[0;34m=\u001b[0m \u001b[0mpickle\u001b[0m\u001b[0;34m.\u001b[0m\u001b[0mloads\u001b[0m\u001b[0;34m(\u001b[0m\u001b[0mself\u001b[0m\u001b[0;34m.\u001b[0m\u001b[0mserialized\u001b[0m\u001b[0;34m.\u001b[0m\u001b[0mgetData\u001b[0m\u001b[0;34m(\u001b[0m\u001b[0;34m)\u001b[0m\u001b[0;34m)\u001b[0m\u001b[0;34m\u001b[0m\u001b[0m",
        "\u001b[0m\u001b[1;32m    167\u001b[0m         \u001b[0;32melif\u001b[0m \u001b[0mtypeDescriptor\u001b[0m \u001b[0;32min\u001b[0m \u001b[0;34m(\u001b[0m\u001b[0;34m'bytes'\u001b[0m\u001b[0;34m,\u001b[0m \u001b[0;34m'buffer'\u001b[0m\u001b[0;34m)\u001b[0m\u001b[0;34m:\u001b[0m\u001b[0;34m\u001b[0m\u001b[0m",
        "\u001b[1;32m    168\u001b[0m             \u001b[0mresult\u001b[0m \u001b[0;34m=\u001b[0m \u001b[0mself\u001b[0m\u001b[0;34m.\u001b[0m\u001b[0mserialized\u001b[0m\u001b[0;34m.\u001b[0m\u001b[0mgetData\u001b[0m\u001b[0;34m(\u001b[0m\u001b[0;34m)\u001b[0m\u001b[0;34m\u001b[0m\u001b[0m",
        "\u001b[0;31mImportError\u001b[0m: No module named sarpy.io.BRUKER_classes",
        "",
        "[4:apply]: ",
        "\u001b[1;31m---------------------------------------------------------------------------\u001b[0m",
        "\u001b[1;31mAttributeError\u001b[0m                            Traceback (most recent call last)\u001b[1;32m<string>\u001b[0m in \u001b[0;36m<module>\u001b[1;34m()\u001b[0m",
        "\u001b[1;32m/phd/Dropbox/code/python/sarpy/fmoosvi/analysis.py\u001b[0m in \u001b[0;36mh_fit_PK\u001b[1;34m(scan_object, adata_label, bbox, test, model, initial_guess, pdata_num)\u001b[0m",
        "\u001b[1;31mAttributeError\u001b[0m: 'str' object has no attribute 'adata'",
        "",
        "[7:apply]: ",
        "\u001b[1;31m---------------------------------------------------------------------------\u001b[0m",
        "\u001b[1;31mAttributeError\u001b[0m                            Traceback (most recent call last)\u001b[1;32m<string>\u001b[0m in \u001b[0;36m<module>\u001b[1;34m()\u001b[0m",
        "\u001b[1;32m/phd/Dropbox/code/python/sarpy/fmoosvi/analysis.py\u001b[0m in \u001b[0;36mh_fit_PK\u001b[1;34m(scan_object, adata_label, bbox, test, model, initial_guess, pdata_num)\u001b[0m",
        "\u001b[1;31mAttributeError\u001b[0m: 'list' object has no attribute 'adata'",
        "",
        "[12:apply]: ",
        "\u001b[0;31m---------------------------------------------------------------------------\u001b[0m",
        "\u001b[0;31mAttributeError\u001b[0m                            Traceback (most recent call last)\u001b[0;32m<string>\u001b[0m in \u001b[0;36m<module>\u001b[0;34m()\u001b[0m",
        "\u001b[0;32m/phd/Dropbox/code/python/sarpy/fmoosvi/analysis.py\u001b[0m in \u001b[0;36mh_fit_PK\u001b[0;34m(scan_object, adata_label, bbox, test, model, initial_guess, pdata_num)\u001b[0m",
        "\u001b[0;31mAttributeError\u001b[0m: 'numpy.ndarray' object has no attribute 'adata'",
        ""
       ]
      }
     ],
     "prompt_number": 9
    },
    {
     "cell_type": "code",
     "collapsed": false,
     "input": [
      "dic2 = dic[35:40,60:65,3]"
     ],
     "language": "python",
     "metadata": {},
     "outputs": []
    },
    {
     "cell_type": "code",
     "collapsed": false,
     "input": [
      "mapm = numpy.empty(shape = [5,5,6])\n",
      "\n",
      "for x in xrange(5):\n",
      "    for y in xrange(5):\n",
      "\n",
      "        if dic2[x,y] is nan:\n",
      "            mapm[x,y,3] = numpy.nan\n",
      "        else:\n",
      "            mapm[x,y,3] = dic2[x,y]['fit_params'][0]"
     ],
     "language": "python",
     "metadata": {},
     "outputs": []
    },
    {
     "cell_type": "code",
     "collapsed": false,
     "input": [
      "pylab.imshow(mapm[:,:,3],interpolation='none')"
     ],
     "language": "python",
     "metadata": {},
     "outputs": []
    },
    {
     "cell_type": "code",
     "collapsed": false,
     "input": [
      "rc=Client(profile='home')\n",
      "dview=rc[:]\n",
      "dview.execute('import sarpy')"
     ],
     "language": "python",
     "metadata": {},
     "outputs": [],
     "prompt_number": 6
    },
    {
     "cell_type": "code",
     "collapsed": false,
     "input": [
      "dview"
     ],
     "language": "python",
     "metadata": {},
     "outputs": [
      {
       "output_type": "pyout",
       "prompt_number": 7,
       "text": [
        "<DirectView [0, 1, 2, 3,...]>"
       ]
      }
     ],
     "prompt_number": 7
    },
    {
     "cell_type": "code",
     "collapsed": false,
     "input": [],
     "language": "python",
     "metadata": {},
     "outputs": [
      {
       "output_type": "pyout",
       "prompt_number": 8,
       "text": [
        "<AsyncResult: execute>"
       ]
      }
     ],
     "prompt_number": 8
    },
    {
     "cell_type": "code",
     "collapsed": false,
     "input": [],
     "language": "python",
     "metadata": {},
     "outputs": []
    }
   ],
   "metadata": {}
  }
 ]
}