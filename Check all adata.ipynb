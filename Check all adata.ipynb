{
 "metadata": {
  "name": ""
 },
 "nbformat": 3,
 "nbformat_minor": 0,
 "worksheets": [
  {
   "cells": [
    {
     "cell_type": "code",
     "collapsed": false,
     "input": [
      "import sarpy\n",
      "reload(sarpy)"
     ],
     "language": "python",
     "metadata": {},
     "outputs": [
      {
       "metadata": {},
       "output_type": "pyout",
       "prompt_number": 1,
       "text": [
        "<module 'sarpy' from '/phd/Dropbox/code/python/sarpy/__init__.pyc'>"
       ]
      }
     ],
     "prompt_number": 1
    },
    {
     "cell_type": "code",
     "collapsed": false,
     "input": [
      "experiments = ['HerS10','HerS11','NecS1','NecS3','HerS3','HerS7']"
     ],
     "language": "python",
     "metadata": {},
     "outputs": [],
     "prompt_number": 2
    },
    {
     "cell_type": "markdown",
     "metadata": {},
     "source": [
      "## All adata in the experiments defined above"
     ]
    },
    {
     "cell_type": "code",
     "collapsed": false,
     "input": [
      "all_adata = set()\n",
      "\n",
      "for e in experiments:\n",
      "    \n",
      "    curr_adata = sarpy.Experiment(e).find_adata()\n",
      "    all_adata.update(curr_adata)"
     ],
     "language": "python",
     "metadata": {},
     "outputs": [],
     "prompt_number": 18
    },
    {
     "cell_type": "code",
     "collapsed": false,
     "input": [
      "list(all_adata)"
     ],
     "language": "python",
     "metadata": {},
     "outputs": [
      {
       "metadata": {},
       "output_type": "pyout",
       "prompt_number": 19,
       "text": [
        "[u'roi',\n",
        " u'PKfit_XTofts_fitdetails',\n",
        " u'auc60',\n",
        " u'PKfit_2CXM_ve',\n",
        " u'PKfit_Tofts_Ktrans',\n",
        " u'PKfit_XTofts_Ktrans',\n",
        " u'PKfit_Tofts_ve',\n",
        " u'PKfit_2CXM_vp',\n",
        " u'PKfit_2CXM_fitdetails',\n",
        " u'PKfit_2CXM_PS',\n",
        " u'vtc',\n",
        " u'PKfit_XTofts_vp',\n",
        " u'test_adata_dict',\n",
        " u'PKfit_2CXM_Fpl',\n",
        " u'PKfit_Tofts_fitdetails',\n",
        " u'PKfit_2CXM_Ktrans',\n",
        " u'PKfit_XTofts_ve']"
       ]
      }
     ],
     "prompt_number": 19
    },
    {
     "cell_type": "markdown",
     "metadata": {},
     "source": [
      "## Delete adatas"
     ]
    },
    {
     "cell_type": "code",
     "collapsed": false,
     "input": [
      "adatas_to_delete = ['T1_.*']"
     ],
     "language": "python",
     "metadata": {},
     "outputs": [],
     "prompt_number": 23
    },
    {
     "cell_type": "code",
     "collapsed": false,
     "input": [
      "for ad in adatas_to_delete:\n",
      "\n",
      "    for e in experiments:\n",
      "        \n",
      "        sarpy.Experiment(e).rm_adata(ad)      \n",
      "    "
     ],
     "language": "python",
     "metadata": {},
     "outputs": [
      {
       "output_type": "stream",
       "stream": "stdout",
       "text": [
        "adata T1_LL deleted in HerS10Do01\n",
        "adata T1_LL_roi deleted in HerS10Do01\n",
        "adata T1_LL_fit deleted in HerS10Do01\n",
        "adata T1_LL deleted in HerS10Do01"
       ]
      },
      {
       "output_type": "stream",
       "stream": "stdout",
       "text": [
        "\n",
        "adata T1_LL_roi deleted in HerS10Do01\n",
        "adata T1_LL_fit deleted in HerS10Do01\n",
        "adata T1_LL deleted in HerS10Do01"
       ]
      },
      {
       "output_type": "stream",
       "stream": "stdout",
       "text": [
        "\n",
        "adata T1_LL_roi deleted in HerS10Do01\n",
        "adata T1_LL_fit deleted in HerS10Do01\n",
        "adata T1_LL deleted in HerS10Do02"
       ]
      },
      {
       "output_type": "stream",
       "stream": "stdout",
       "text": [
        "\n",
        "adata T1_LL_roi deleted in HerS10Do02\n",
        "adata T1_LL_fit deleted in HerS10Do02\n",
        "adata T1_LL deleted in HerS10Do02"
       ]
      },
      {
       "output_type": "stream",
       "stream": "stdout",
       "text": [
        "\n",
        "adata T1_LL_roi deleted in HerS10Do02\n",
        "adata T1_LL_fit deleted in HerS10Do02\n",
        "adata T1_LL deleted in HerS10Do04"
       ]
      },
      {
       "output_type": "stream",
       "stream": "stdout",
       "text": [
        "\n",
        "adata T1_LL_roi deleted in HerS10Do04\n",
        "adata T1_LL_fit deleted in HerS10Do04\n",
        "adata T1_LL deleted in HerS10Do04"
       ]
      },
      {
       "output_type": "stream",
       "stream": "stdout",
       "text": [
        "\n",
        "adata T1_LL_roi deleted in HerS10Do04\n",
        "adata T1_LL_fit deleted in HerS10Do04\n",
        "adata T1_LL deleted in HerS10Do04"
       ]
      },
      {
       "output_type": "stream",
       "stream": "stdout",
       "text": [
        "\n",
        "adata T1_LL_roi deleted in HerS10Do04\n",
        "adata T1_LL_fit deleted in HerS10Do04\n",
        "adata T1_LL deleted in HerS10Do05"
       ]
      },
      {
       "output_type": "stream",
       "stream": "stdout",
       "text": [
        "\n",
        "adata T1_LL_roi deleted in HerS10Do05\n",
        "adata T1_LL_fit deleted in HerS10Do05\n",
        "adata T1_LL deleted in HerS10Do05"
       ]
      },
      {
       "output_type": "stream",
       "stream": "stdout",
       "text": [
        "\n",
        "adata T1_LL_roi deleted in HerS10Do05\n",
        "adata T1_LL_fit deleted in HerS10Do05\n",
        "adata T1_LL deleted in HerS10Do05"
       ]
      },
      {
       "output_type": "stream",
       "stream": "stdout",
       "text": [
        "\n",
        "adata T1_LL_roi deleted in HerS10Do05\n",
        "adata T1_LL_fit deleted in HerS10Do05\n",
        "adata T1_LL deleted in HerS10Do06"
       ]
      },
      {
       "output_type": "stream",
       "stream": "stdout",
       "text": [
        "\n",
        "adata T1_LL_roi deleted in HerS10Do06\n",
        "adata T1_LL_fit deleted in HerS10Do06\n",
        "adata T1_LL deleted in HerS10Do06"
       ]
      },
      {
       "output_type": "stream",
       "stream": "stdout",
       "text": [
        "\n",
        "adata T1_LL_roi deleted in HerS10Do06\n",
        "adata T1_LL_fit deleted in HerS10Do06\n",
        "adata T1_LL deleted in HerS10Do06"
       ]
      },
      {
       "output_type": "stream",
       "stream": "stdout",
       "text": [
        "\n",
        "adata T1_LL_roi deleted in HerS10Do06\n",
        "adata T1_LL_fit deleted in HerS10Do06\n",
        "adata T1_LL deleted in HerS10Do07"
       ]
      },
      {
       "output_type": "stream",
       "stream": "stdout",
       "text": [
        "\n",
        "adata T1_LL_roi deleted in HerS10Do07\n",
        "adata T1_LL_fit deleted in HerS10Do07\n",
        "adata T1_LL deleted in HerS10Do07"
       ]
      },
      {
       "output_type": "stream",
       "stream": "stdout",
       "text": [
        "\n",
        "adata T1_LL_roi deleted in HerS10Do07\n",
        "adata T1_LL_fit deleted in HerS10Do07\n",
        "adata T1_LL deleted in HerS10Do07"
       ]
      },
      {
       "output_type": "stream",
       "stream": "stdout",
       "text": [
        "\n",
        "adata T1_LL_roi deleted in HerS10Do07\n",
        "adata T1_LL_fit deleted in HerS10Do07\n",
        "adata T1_LL deleted in HerS10Do08"
       ]
      },
      {
       "output_type": "stream",
       "stream": "stdout",
       "text": [
        "\n",
        "adata T1_LL_roi deleted in HerS10Do08\n",
        "adata T1_LL_fit deleted in HerS10Do08\n",
        "adata T1_LL deleted in HerS10Do08"
       ]
      },
      {
       "output_type": "stream",
       "stream": "stdout",
       "text": [
        "\n",
        "adata T1_LL_roi deleted in HerS10Do08\n",
        "adata T1_LL_fit deleted in HerS10Do08\n",
        "adata T1_LL deleted in HerS10Do08"
       ]
      },
      {
       "output_type": "stream",
       "stream": "stdout",
       "text": [
        "\n",
        "adata T1_LL_roi deleted in HerS10Do08\n",
        "adata T1_LL_fit deleted in HerS10Do08\n",
        "adata T1_LL deleted in HerS10Do09"
       ]
      },
      {
       "output_type": "stream",
       "stream": "stdout",
       "text": [
        "\n",
        "adata T1_LL_roi deleted in HerS10Do09\n",
        "adata T1_LL_fit deleted in HerS10Do09\n",
        "adata T1_LL deleted in HerS10Do09"
       ]
      },
      {
       "output_type": "stream",
       "stream": "stdout",
       "text": [
        "\n",
        "adata T1_LL_roi deleted in HerS10Do09\n",
        "adata T1_LL_fit deleted in HerS10Do09\n",
        "adata T1_LL deleted in HerS10Do09"
       ]
      },
      {
       "output_type": "stream",
       "stream": "stdout",
       "text": [
        "\n",
        "adata T1_LL_roi deleted in HerS10Do09\n",
        "adata T1_LL_fit deleted in HerS10Do09\n",
        "adata T1_LL deleted in HerS10Do10"
       ]
      },
      {
       "output_type": "stream",
       "stream": "stdout",
       "text": [
        "\n",
        "adata T1_LL_roi deleted in HerS10Do10\n",
        "adata T1_LL_fit deleted in HerS10Do10\n",
        "adata T1_LL deleted in HerS10Do10"
       ]
      },
      {
       "output_type": "stream",
       "stream": "stdout",
       "text": [
        "\n",
        "adata T1_LL_roi deleted in HerS10Do10\n",
        "adata T1_LL_fit deleted in HerS10Do10\n",
        "adata T1_LL deleted in HerS10Do10"
       ]
      },
      {
       "output_type": "stream",
       "stream": "stdout",
       "text": [
        "\n",
        "adata T1_LL_roi deleted in HerS10Do10\n",
        "adata T1_LL_fit deleted in HerS10Do10\n",
        "adata T1_LL deleted in HerS10Do11"
       ]
      },
      {
       "output_type": "stream",
       "stream": "stdout",
       "text": [
        "\n",
        "adata T1_LL_roi deleted in HerS10Do11\n",
        "adata T1_LL_fit deleted in HerS10Do11\n",
        "adata T1_LL deleted in HerS10Do11"
       ]
      },
      {
       "output_type": "stream",
       "stream": "stdout",
       "text": [
        "\n",
        "adata T1_LL_roi deleted in HerS10Do11\n",
        "adata T1_LL_fit deleted in HerS10Do11\n",
        "adata T1_LL deleted in HerS10Do11"
       ]
      },
      {
       "output_type": "stream",
       "stream": "stdout",
       "text": [
        "\n",
        "adata T1_LL_roi deleted in HerS10Do11\n",
        "adata T1_LL_fit deleted in HerS10Do11\n",
        "adata T1_LL deleted in HerS10Do16"
       ]
      },
      {
       "output_type": "stream",
       "stream": "stdout",
       "text": [
        "\n",
        "adata T1_LL_roi deleted in HerS10Do16\n",
        "adata T1_LL_fit deleted in HerS10Do16\n",
        "adata T1_LL deleted in HerS10Do16"
       ]
      },
      {
       "output_type": "stream",
       "stream": "stdout",
       "text": [
        "\n",
        "adata T1_LL_roi deleted in HerS10Do16\n",
        "adata T1_LL_fit deleted in HerS10Do16\n",
        "adata T1_LL deleted in HerS10Do16"
       ]
      },
      {
       "output_type": "stream",
       "stream": "stdout",
       "text": [
        "\n",
        "adata T1_LL_roi deleted in HerS10Do16\n",
        "adata T1_LL_fit deleted in HerS10Do16\n",
        "adata T1_LL deleted in HerS10Do17"
       ]
      },
      {
       "output_type": "stream",
       "stream": "stdout",
       "text": [
        "\n",
        "adata T1_LL_roi deleted in HerS10Do17\n",
        "adata T1_LL deleted in HerS10Do17"
       ]
      },
      {
       "output_type": "stream",
       "stream": "stdout",
       "text": [
        "\n",
        "adata T1_LL_roi deleted in HerS10Do17\n",
        "adata T1_LL deleted in HerS10Do17"
       ]
      },
      {
       "output_type": "stream",
       "stream": "stdout",
       "text": [
        "\n",
        "adata T1_LL_roi deleted in HerS10Do17\n",
        "adata T1_LL deleted in HerS10Do18"
       ]
      },
      {
       "output_type": "stream",
       "stream": "stdout",
       "text": [
        "\n",
        "adata T1_LL_roi deleted in HerS10Do18\n",
        "adata T1_LL deleted in HerS10Do18"
       ]
      },
      {
       "output_type": "stream",
       "stream": "stdout",
       "text": [
        "\n",
        "adata T1_LL_roi deleted in HerS10Do18\n",
        "adata T1_LL deleted in HerS10Do18"
       ]
      },
      {
       "output_type": "stream",
       "stream": "stdout",
       "text": [
        "\n",
        "adata T1_LL_roi deleted in HerS10Do18\n",
        "adata T1_LL deleted in HerS10Do19"
       ]
      },
      {
       "output_type": "stream",
       "stream": "stdout",
       "text": [
        "\n",
        "adata T1_LL_roi deleted in HerS10Do19\n",
        "adata T1_LL deleted in HerS10Do19"
       ]
      },
      {
       "output_type": "stream",
       "stream": "stdout",
       "text": [
        "\n",
        "adata T1_LL_roi deleted in HerS10Do19\n",
        "adata T1_LL deleted in HerS10Do19"
       ]
      },
      {
       "output_type": "stream",
       "stream": "stdout",
       "text": [
        "\n",
        "adata T1_LL_roi deleted in HerS10Do19\n"
       ]
      }
     ],
     "prompt_number": 24
    },
    {
     "cell_type": "code",
     "collapsed": false,
     "input": [
      "import sarpy\n",
      "a=sarpy.Scan('NecS3Hs04.iJ1/11')\n",
      "print a.adata['PKfit_XTofts_Ktrans'].data.shape"
     ],
     "language": "python",
     "metadata": {},
     "outputs": [
      {
       "output_type": "stream",
       "stream": "stdout",
       "text": [
        "(64, 128, 1)\n"
       ]
      }
     ],
     "prompt_number": 1
    },
    {
     "cell_type": "code",
     "collapsed": false,
     "input": [
      "y=a.adata['PKfit_XTofts_Ktrans'].data[:,:,0]\n",
      "y[numpy.isfinite(y)]"
     ],
     "language": "python",
     "metadata": {},
     "outputs": [
      {
       "metadata": {},
       "output_type": "pyout",
       "prompt_number": 99,
       "text": [
        "array([  5.00000000e-03,   1.40415160e-04,   7.01213340e-04,\n",
        "         6.67614264e-04,   9.97745117e-04,   3.79814360e-04,\n",
        "         5.00000000e-03,   3.29905893e-04,   3.49464420e-04,\n",
        "         5.33075648e-04,   5.72113717e-04,   9.01742907e-04,\n",
        "         6.25066125e-04,   9.40741658e-04,   2.17374804e-04,\n",
        "         6.92317303e-05,   2.09174164e-04,   3.54584654e-04,\n",
        "         4.82078638e-04,   6.04719710e-04,   6.96051264e-04,\n",
        "         3.82736305e-03,   5.00000000e-03,   5.92092045e-04,\n",
        "         7.99652923e-04,   1.31068933e-04,   1.09346644e-04,\n",
        "         2.05916024e-04,   3.14616181e-04,   3.33242544e-04,\n",
        "         6.95793036e-04,   8.86175095e-04,   3.48988021e-03,\n",
        "         1.15077716e-03,   6.98896414e-04,   4.21527436e-04,\n",
        "         1.42937986e-04,   1.33087044e-04,   1.61879096e-04,\n",
        "         1.91838182e-04,   3.99405489e-04,   2.96383638e-04,\n",
        "         6.07121270e-04,   1.11611838e-03,   7.62018342e-04,\n",
        "         7.55610635e-04,   1.17814322e-03,   3.29169472e-04,\n",
        "         1.12026158e-04,   1.10084587e-04,   1.17249913e-04,\n",
        "         2.06639415e-04,   1.83311363e-04,   1.22166610e-04,\n",
        "         4.10469050e-04,   9.17860390e-04,   6.63570160e-04,\n",
        "         6.93249611e-04,   4.25847986e-04,   9.56385205e-04,\n",
        "         2.57630085e-04,   1.10078924e-04,   1.06459635e-04,\n",
        "         1.01993724e-04,   7.77114782e-05,   1.05711805e-04,\n",
        "         1.33762509e-04,   2.65189220e-04,   8.03596837e-04,\n",
        "         6.67457960e-04,   9.62932548e-04,   7.72327460e-04,\n",
        "         5.75870378e-04,   6.20009830e-04,   1.94605087e-04,\n",
        "         9.93235280e-05,   1.37667901e-04,   8.52138675e-05,\n",
        "         1.46587512e-04,   1.92643222e-04,   1.03465268e-04,\n",
        "         2.03059097e-04,   5.47214705e-04,   6.48540358e-04,\n",
        "         1.17788241e-03,   1.22969978e-03,   8.95455140e-04,\n",
        "         6.34713141e-04,   5.79126428e-04,   1.14585857e-03,\n",
        "         9.81579946e-04,   1.88864751e-03,   1.09698850e-03,\n",
        "         8.14115315e-04,   8.70453474e-04,   6.68686000e-04,\n",
        "         5.53644844e-04,   2.84809034e-04,   1.57252039e-04,\n",
        "         1.32952397e-04,   8.60088337e-05,   1.03191238e-04,\n",
        "         9.45970279e-05,   1.06599727e-04,   1.70768855e-04,\n",
        "         3.11268002e-04,   4.72977357e-04,   1.14791310e-03,\n",
        "         8.46194557e-04,   9.77510840e-04,   4.01919785e-04,\n",
        "         3.71228680e-04,   3.86610057e-04,   6.05105539e-04,\n",
        "         1.00470578e-03,   1.18340837e-03,   8.63667754e-04,\n",
        "         1.02709436e-03,   1.14939046e-03,   1.15676935e-03,\n",
        "         3.82883351e-04,   8.69061931e-04,   3.14072220e-04,\n",
        "         1.97346558e-04,   1.23408153e-04,   1.26497193e-04,\n",
        "         1.05057171e-04,   9.46676114e-05,   1.27909344e-04,\n",
        "         1.81264827e-04,   3.89691606e-04,   1.11686375e-03,\n",
        "         8.31931495e-04,   3.28120188e-04,   3.15010212e-04,\n",
        "         1.81808094e-04,   2.48713804e-04,   2.81985899e-04,\n",
        "         3.95346796e-04,   6.31506937e-04,   1.04966050e-03,\n",
        "         9.28895224e-04,   7.45529161e-04,   4.97589817e-04,\n",
        "         6.71763192e-04,   3.91457733e-04,   2.64934765e-04,\n",
        "         1.73512544e-04,   1.27833565e-04,   1.52142403e-04,\n",
        "         1.16873498e-04,   1.90900944e-04,   1.81504460e-04,\n",
        "         3.20281208e-04,   2.56966619e-04,   3.20712730e-04,\n",
        "         6.37920977e-04,   8.82713317e-04,   7.73975282e-04,\n",
        "         2.78090972e-04,   2.74581359e-04,   2.02797318e-04,\n",
        "         1.60575736e-04,   1.39012451e-04,   1.86242480e-04,\n",
        "         2.41157203e-04,   6.40752489e-04,   7.64860465e-04,\n",
        "         4.23737864e-04,   2.94166042e-04,   2.36780652e-04,\n",
        "         4.26076969e-04,   2.86611547e-04,   1.50112951e-04,\n",
        "         1.38064759e-04,   7.02656688e-05,   5.11289400e-05,\n",
        "         1.04748634e-04,   2.08878816e-04,   2.19417897e-04,\n",
        "         2.01357788e-04,   2.43430992e-04,   4.08268520e-04,\n",
        "         3.83863996e-04,   7.90607971e-04,   4.58620294e-04,\n",
        "         2.94931060e-04,   2.44149768e-04,   1.78841817e-04,\n",
        "         1.29309796e-04,   1.26335565e-04,   1.00494967e-04,\n",
        "         2.36403995e-04,   3.82985399e-04,   3.28291387e-04,\n",
        "         2.69968345e-04,   9.22504723e-05,   1.01958289e-04,\n",
        "         2.98069856e-04,   2.44374064e-04,   1.34736612e-04,\n",
        "         1.20853747e-04,   5.11806675e-05,   1.32969854e-04,\n",
        "         1.27545840e-04,   1.17529893e-04,   1.58374671e-04,\n",
        "         2.27895609e-04,   3.42280961e-04,   2.55766206e-04,\n",
        "         8.79098834e-04,   8.16871706e-04,   3.91550562e-04,\n",
        "         1.53564966e-04,   9.39171108e-05,   9.88875305e-05,\n",
        "         1.29087876e-04,   8.83384169e-05,   7.45355092e-05,\n",
        "         1.70782223e-04,   1.91459277e-04,   1.63206086e-04,\n",
        "         8.58789603e-05,   4.80791336e-05,   7.00860105e-05,\n",
        "         1.34535920e-04,   1.84255694e-04,   9.43594057e-05,\n",
        "         6.54505085e-05,   1.33849627e-04,   1.77949025e-04,\n",
        "         1.49297364e-04,   1.76478528e-04,   2.28161946e-04,\n",
        "         2.85541731e-04,   3.52583995e-04,   4.88869627e-04,\n",
        "         9.63770260e-04,   6.18876509e-04,   4.19200991e-04,\n",
        "         3.17806381e-04,   1.34226964e-04,   1.51975803e-04,\n",
        "         1.30644524e-04,   1.38370393e-04,   8.34176480e-05,\n",
        "         1.16047127e-04,   7.65634292e-05,   4.78175726e-05,\n",
        "         5.45175113e-05,   3.32275882e-05,   2.58060009e-05,\n",
        "         3.93494985e-05,   6.30080377e-05,   5.74980256e-05,\n",
        "         5.29754463e-05,   1.15691322e-04,   2.36731186e-04,\n",
        "         1.31147120e-04,   1.28257809e-04,   1.82407352e-04,\n",
        "         2.57560626e-04,   3.89351679e-04,   4.28017026e-04,\n",
        "         5.62126863e-04,   7.54488759e-04,   4.14877290e-04,\n",
        "         2.41475674e-04,   2.09862358e-04,   2.43202133e-04,\n",
        "         1.70398437e-04,   1.00031089e-04,   8.07051774e-05,\n",
        "         4.58949523e-05,   1.30941518e-03,   1.31555771e-03,\n",
        "         2.47192568e-05,   2.42179749e-05,   1.27130207e-03,\n",
        "         1.21677951e-03,   2.57964047e-05,   9.08171443e-04,\n",
        "         8.31974525e-05,   1.46215365e-04,   2.27732394e-04,\n",
        "         1.69332128e-04,   2.00339279e-04,   2.26333344e-04,\n",
        "         2.86360186e-04,   4.80290573e-04,   5.09102788e-04,\n",
        "         6.71635587e-04,   5.69869098e-04,   3.42690549e-04,\n",
        "         2.51644467e-04,   2.07988034e-04,   9.75442231e-05,\n",
        "         1.15212285e-03,   1.30551418e-03,   1.30857963e-03,\n",
        "         1.32423902e-03,   1.11966882e-03,   2.20391247e-05,\n",
        "         2.07095710e-05,   3.81879663e-05,   4.49570213e-05,\n",
        "         3.58586585e-05,   4.52495775e-05,   1.94778491e-04,\n",
        "         3.67525648e-04,   3.17409356e-04,   2.75492142e-04,\n",
        "         2.34482723e-04,   4.03847869e-04,   7.07968215e-04,\n",
        "         5.23623217e-04,   3.26613677e-04,   3.28709260e-04,\n",
        "         1.57979758e-04,   4.74494667e-05,   1.31767212e-03,\n",
        "         1.32598636e-03,   1.04138247e-03,   8.70853271e-04,\n",
        "         2.64765979e-05,   1.00569618e-03,   3.40345092e-05,\n",
        "         7.34121500e-05,   8.67878292e-05,   5.84123849e-04,\n",
        "         6.86260216e-05,   1.48771524e-04,   2.73141367e-04,\n",
        "         5.49808973e-04,   5.11909017e-04,   4.00303091e-04,\n",
        "         2.00299194e-03,   1.69068183e-03,   3.35408398e-04,\n",
        "         1.61999886e-04,   1.32309018e-04,   7.16237135e-05,\n",
        "         5.60738626e-05,   4.49950411e-05,   3.34098403e-05,\n",
        "         1.29575356e-03,   3.15226865e-05,   9.68893640e-04,\n",
        "         1.29061166e-04,   2.08805717e-04,   6.29751814e-05,\n",
        "         6.22993563e-05,   1.72783017e-04,   4.23816381e-04,\n",
        "         5.09213055e-04,   1.58923142e-03,   9.55012454e-04,\n",
        "         3.36450323e-04,   1.95987521e-04,   1.00518183e-04,\n",
        "         5.15700529e-05,   5.78462922e-05,   7.72875878e-05,\n",
        "         4.36607961e-05,   4.18713134e-05,   1.14175599e-03,\n",
        "         6.66260414e-05,   6.29539386e-05,   7.65103585e-05,\n",
        "         1.92630809e-04,   5.43206605e-04,   7.02398580e-04,\n",
        "         5.00000000e-03,   1.69177085e-03,   3.62621641e-04,\n",
        "         6.38008341e-05,   1.72048279e-04,   2.10125537e-04,\n",
        "         8.33255268e-05,   3.94636350e-05,   7.75495093e-04,\n",
        "         5.64289531e-05,   8.19850545e-05,   6.60182819e-05,\n",
        "         1.02203661e-04,   1.17721853e-04,   4.07338378e-04,\n",
        "         1.86419888e-04,   4.50581913e-04,   4.93115489e-04,\n",
        "         2.50533132e-04,   1.69237615e-04,   1.40708153e-04,\n",
        "         1.44120612e-04,   8.69551845e-05,   1.25419644e-03,\n",
        "         3.25415828e-04,   5.00000000e-03,   5.00000000e-03,\n",
        "         5.00000000e-03])"
       ]
      }
     ],
     "prompt_number": 99
    },
    {
     "cell_type": "code",
     "collapsed": false,
     "input": [
      "sarpy.Experiment('HerS11').find_adata()"
     ],
     "language": "python",
     "metadata": {},
     "outputs": [
      {
       "metadata": {},
       "output_type": "pyout",
       "prompt_number": 25,
       "text": [
        "{u'HPG_conc',\n",
        " u'HPG_conc_times',\n",
        " u'T1_LL',\n",
        " u'T1_LL_fit',\n",
        " u'T1_LL_roi',\n",
        " u'auc60',\n",
        " u'auc60_roi',\n",
        " u'augc60',\n",
        " u'augc60_roi',\n",
        " u'deltaR1_Gd',\n",
        " u'deltaR1_GdHPG',\n",
        " u'deltaR1_HPG1',\n",
        " u'deltaR1_HPG2',\n",
        " u'deltaT1_Gd',\n",
        " u'deltaT1_GdHPG',\n",
        " u'deltaT1_HPG1',\n",
        " u'deltaT1_HPG2',\n",
        " u'ec',\n",
        " u'gd_conc',\n",
        " u'gd_conc_times',\n",
        " u'roi',\n",
        " u'roi_weights',\n",
        " u'vtc'}"
       ]
      }
     ],
     "prompt_number": 25
    },
    {
     "cell_type": "code",
     "collapsed": false,
     "input": [],
     "language": "python",
     "metadata": {},
     "outputs": []
    },
    {
     "cell_type": "code",
     "collapsed": false,
     "input": [
      "t = pylab.imshow(a.pdata[0].data[:,:,0,3])\n",
      "t.set_clim(-1E-5,1E-4)"
     ],
     "language": "python",
     "metadata": {},
     "outputs": [
      {
       "metadata": {},
       "output_type": "display_data",
       "png": "[encoded data removed]",
       "text": [
        "<matplotlib.figure.Figure at 0x12b10b3d0>"
       ]
      }
     ],
     "prompt_number": 85
    },
    {
     "cell_type": "code",
     "collapsed": false,
     "input": [
      "a.scans[4].pdata[0].data.shape"
     ],
     "language": "python",
     "metadata": {},
     "outputs": [
      {
       "metadata": {},
       "output_type": "pyout",
       "prompt_number": 13,
       "text": [
        "(64, 128, 8, 30)"
       ]
      }
     ],
     "prompt_number": 13
    },
    {
     "cell_type": "code",
     "collapsed": false,
     "input": [
      "import sarpy.fmoosvi.getters as ge"
     ],
     "language": "python",
     "metadata": {},
     "outputs": [],
     "prompt_number": 25
    },
    {
     "cell_type": "code",
     "collapsed": false,
     "input": [
      "idx=ge.convert_bbox(a.shortdirname, numpy.array([0.0, 0.703125, 0.3671875, 0.71875]))\n",
      "print idx"
     ],
     "language": "python",
     "metadata": {},
     "outputs": [
      {
       "output_type": "stream",
       "stream": "stdout",
       "text": [
        "[ 0 45 47 92]\n"
       ]
      }
     ],
     "prompt_number": 31
    },
    {
     "cell_type": "code",
     "collapsed": false,
     "input": [
      "bfid.shape"
     ],
     "language": "python",
     "metadata": {},
     "outputs": [
      {
       "metadata": {},
       "output_type": "pyout",
       "prompt_number": 46,
       "text": [
        "(128, 64, 240, 1)"
       ]
      }
     ],
     "prompt_number": 46
    },
    {
     "cell_type": "code",
     "collapsed": false,
     "input": [
      "import sarpy, sarpy.io\n",
      "import sarpy.fmoosvi.getters as getters\n",
      "import numpy,pylab \n",
      "\n",
      "a=sarpy.Scan('HerS11Bs07.ma2/12')\n",
      "## Bruker stuff\n",
      "x = sarpy.io.BRUKERIO.fftbruker(a.fid)\n",
      "num_slices = getters.get_num_slices(a.shortdirname,0)                                        \n",
      "t1points = numpy.divide(x.shape[-2],num_slices)     \n",
      "\n",
      "data=numpy.fliplr(\n",
      "     numpy.flipud(numpy.transpose(x.reshape(x.shape[0], x.shape[1],t1points,num_slices),[1,0,3,2])))\n",
      "\n",
      "subplot(131)\n",
      "title('Source data for LL fit')\n",
      "pylab.imshow(a.pdata[0].data[0:45,47:92,5,1])\n",
      "\n",
      "subplot(132)\n",
      "title('Naiive fid recon')\n",
      "pylab.imshow(numpy.abs(data[0:45,47:92,5,1]))\n",
      "\n",
      "subplot(133)\n",
      "roi = a.adata['T1_LL_roi'].data\n",
      "rrdata = roi*a.adata['T1_LL'].data\n",
      "title('T1 fit for identical ROI')\n",
      "pylab.imshow(rrdata[0:45,47:92,5],vmin=0,vmax=5000)"
     ],
     "language": "python",
     "metadata": {},
     "outputs": [
      {
       "output_type": "stream",
       "stream": "stderr",
       "text": [
        "WARNING:sarpy.io.BRUKERIO:NSLICES not equal to number of ACQ_obj_order\n"
       ]
      },
      {
       "metadata": {},
       "output_type": "pyout",
       "prompt_number": 39,
       "text": [
        "<matplotlib.image.AxesImage at 0x127d96910>"
       ]
      },
      {
       "metadata": {},
       "output_type": "display_data",
       "png": "[encoded data removed]",
       "text": [
        "<matplotlib.figure.Figure at 0x120064710>"
       ]
      }
     ],
     "prompt_number": 39
    },
    {
     "cell_type": "code",
     "collapsed": false,
     "input": [
      "h = sarpy.Experiment('H')"
     ],
     "language": "python",
     "metadata": {},
     "outputs": [],
     "prompt_number": 57
    },
    {
     "cell_type": "code",
     "collapsed": false,
     "input": [
      "a=h.find_scan_by_protocol('.*LL.*')"
     ],
     "language": "python",
     "metadata": {},
     "outputs": [],
     "prompt_number": 62
    },
    {
     "cell_type": "code",
     "collapsed": false,
     "input": [
      "import sarpy\n",
      "s = sarpy.Experiment('NecS3')\n",
      "\n",
      "hope = s.find_adata_scans(flatten=True)['PK_XTofts_Ktrans']"
     ],
     "language": "python",
     "metadata": {},
     "outputs": [],
     "prompt_number": 21
    },
    {
     "cell_type": "code",
     "collapsed": false,
     "input": [
      "scn = sarpy.Scan('NecS3Hs04.iK2/23')\n",
      "g = scn.adata['PK_XTofts_Ktrans'].data\n",
      "print g.shape\n",
      "\n",
      "g[:,:,0]"
     ],
     "language": "python",
     "metadata": {},
     "outputs": [
      {
       "output_type": "stream",
       "stream": "stdout",
       "text": [
        "(64, 128, 6)\n"
       ]
      },
      {
       "metadata": {},
       "output_type": "pyout",
       "prompt_number": 22,
       "text": [
        "array([[ nan,  nan,  nan, ...,  nan,  nan,  nan],\n",
        "       [ nan,  nan,  nan, ...,  nan,  nan,  nan],\n",
        "       [ nan,  nan,  nan, ...,  nan,  nan,  nan],\n",
        "       ..., \n",
        "       [ nan,  nan,  nan, ...,  nan,  nan,  nan],\n",
        "       [ nan,  nan,  nan, ...,  nan,  nan,  nan],\n",
        "       [ nan,  nan,  nan, ...,  nan,  nan,  nan]])"
       ]
      }
     ],
     "prompt_number": 22
    },
    {
     "cell_type": "code",
     "collapsed": false,
     "input": [
      "for ss in hope:\n",
      "    \n",
      "    scn = sarpy.Scan(ss)\n",
      "    ad = scn.adata['PK_XTofts_Ktrans'].data\n",
      "    print ad[numpy.isfinite(ad)]"
     ],
     "language": "python",
     "metadata": {},
     "outputs": [
      {
       "output_type": "stream",
       "stream": "stdout",
       "text": [
        "[]\n",
        "[]\n",
        "[]"
       ]
      },
      {
       "output_type": "stream",
       "stream": "stdout",
       "text": [
        "\n",
        "[ 0.00076311]\n",
        "[]"
       ]
      },
      {
       "output_type": "stream",
       "stream": "stdout",
       "text": [
        "\n",
        "[]\n",
        "[]"
       ]
      },
      {
       "output_type": "stream",
       "stream": "stdout",
       "text": [
        "\n",
        "[]\n",
        "[]"
       ]
      },
      {
       "output_type": "stream",
       "stream": "stdout",
       "text": [
        "\n",
        "[]\n",
        "[]"
       ]
      },
      {
       "output_type": "stream",
       "stream": "stdout",
       "text": [
        "\n",
        "[]\n",
        "[]"
       ]
      },
      {
       "output_type": "stream",
       "stream": "stdout",
       "text": [
        "\n",
        "[]\n",
        "[]"
       ]
      },
      {
       "output_type": "stream",
       "stream": "stdout",
       "text": [
        "\n"
       ]
      }
     ],
     "prompt_number": 23
    },
    {
     "cell_type": "code",
     "collapsed": false,
     "input": [
      "hope"
     ],
     "language": "python",
     "metadata": {},
     "outputs": [
      {
       "metadata": {},
       "output_type": "pyout",
       "prompt_number": 24,
       "text": [
        "['NecS3Hs02.iJ1/12',\n",
        " 'NecS3Hs02.iK1/14',\n",
        " 'NecS3Hs04.iJ1/11',\n",
        " 'NecS3Hs04.iK2/23',\n",
        " 'NecS3Hs05.iJ1/10',\n",
        " 'NecS3Hs05.iK1/11',\n",
        " 'NecS3Hs06.iJ1/9',\n",
        " 'NecS3Hs06.iK1/13',\n",
        " 'NecS3Hs08.iL1/10',\n",
        " 'NecS3Hs09.iL1/13',\n",
        " 'NecS3Hs10.iL1/11',\n",
        " 'NecS3Hs11.iL1/10',\n",
        " 'NecS3Hs13.iM1/14',\n",
        " 'NecS3Hs14.iM1/13',\n",
        " 'NecS3Hs15.iM1/9']"
       ]
      }
     ],
     "prompt_number": 24
    },
    {
     "cell_type": "code",
     "collapsed": false,
     "input": [],
     "language": "python",
     "metadata": {},
     "outputs": []
    }
   ],
   "metadata": {}
  }
 ]
}