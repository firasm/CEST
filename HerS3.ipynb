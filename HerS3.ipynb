{
 "metadata": {
  "name": ""
 },
 "nbformat": 3,
 "nbformat_minor": 0,
 "worksheets": [
  {
   "cells": [
    {
     "cell_type": "markdown",
     "metadata": {},
     "source": [
      "### Basic Analyses"
     ]
    },
    {
     "cell_type": "code",
     "collapsed": false,
     "input": [
      "import sarpy\n",
      "import sarpy.io\n",
      "import sarpy.io.bulk_analyze\n",
      "import sarpy.fmoosvi.analysis\n",
      "import sarpy.io.masterlist\n",
      "import sarpy.fmoosvi.getters\n",
      "import sarpy.fmoosvi.wrappers\n",
      "import collections\n",
      "import os\n",
      "\n",
      "masterlist = 'HerS3'\n",
      "config_file = 'HerS3/HerS3.config'"
     ],
     "language": "python",
     "metadata": {},
     "outputs": [],
     "prompt_number": 1
    },
    {
     "cell_type": "code",
     "collapsed": false,
     "input": [
      "sarpy.io.masterlist.generate(conf_file=config_file)"
     ],
     "language": "python",
     "metadata": {},
     "outputs": [
      {
       "output_type": "stream",
       "stream": "stdout",
       "text": [
        "loading config file HerS3/HerS3.config\n",
        "herS3M01"
       ]
      },
      {
       "output_type": "stream",
       "stream": "stdout",
       "text": [
        "\n",
        "\t warning (SCAN #0 not found amongst the 08-Dyn-T2star-FLASH) \"T2star-0\" for herS3M01"
       ]
      },
      {
       "output_type": "stream",
       "stream": "stdout",
       "text": [
        "\n",
        "\t warning (SCAN #0 not found amongst the 08-Dyn-T2star-FLASH) \"T2star-1\" for herS3M01"
       ]
      },
      {
       "output_type": "stream",
       "stream": "stdout",
       "text": [
        "\n",
        "\t warning (SCAN #0 not found amongst the 08-Dyn-T2star-FLASH) \"T2star-2\" for herS3M01"
       ]
      },
      {
       "output_type": "stream",
       "stream": "stdout",
       "text": [
        "\n",
        "\t warning (STUDY #3 not found) \"roi-3\" for herS3M01\n",
        "\t warning (STUDY #3 not found) \"dce-3\" for herS3M01\n",
        "\t warning (STUDY #3 not found) \"T2star-3\" for herS3M01\n",
        "\t warning (STUDY #3 not found) \"diffusion-3\" for herS3M01\n",
        "\t warning (STUDY #4 not found) \"roi-4\" for herS3M01\n",
        "\t warning (STUDY #4 not found) \"dce-4\" for herS3M01\n",
        "\t warning (STUDY #4 not found) \"T2star-4\" for herS3M01\n",
        "\t warning (STUDY #4 not found) \"diffusion-4\" for herS3M01\n",
        "herS3M02\n",
        "\t warning (SCAN #0 not found amongst the 08-Dyn-T2star-FLASH) \"T2star-1\" for herS3M02"
       ]
      },
      {
       "output_type": "stream",
       "stream": "stdout",
       "text": [
        "\n",
        "\t warning (STUDY #3 not found) \"roi-3\" for herS3M02"
       ]
      },
      {
       "output_type": "stream",
       "stream": "stdout",
       "text": [
        "\n",
        "\t warning (STUDY #3 not found) \"dce-3\" for herS3M02\n",
        "\t warning (STUDY #3 not found) \"T2star-3\" for herS3M02\n",
        "\t warning (STUDY #3 not found) \"diffusion-3\" for herS3M02\n",
        "\t warning (STUDY #4 not found) \"roi-4\" for herS3M02\n",
        "\t warning (STUDY #4 not found) \"dce-4\" for herS3M02\n",
        "\t warning (STUDY #4 not found) \"T2star-4\" for herS3M02\n",
        "\t warning (STUDY #4 not found) \"diffusion-4\" for herS3M02\n",
        "herS3M03\n",
        "\t warning (SCAN #0 not found amongst the 08-Dyn-T2star-FLASH) \"T2star-1\" for herS3M03"
       ]
      },
      {
       "output_type": "stream",
       "stream": "stdout",
       "text": [
        "\n",
        "\t warning (STUDY #3 not found) \"roi-3\" for herS3M03"
       ]
      },
      {
       "output_type": "stream",
       "stream": "stdout",
       "text": [
        "\n",
        "\t warning (STUDY #3 not found) \"dce-3\" for herS3M03\n",
        "\t warning (STUDY #3 not found) \"T2star-3\" for herS3M03\n",
        "\t warning (STUDY #3 not found) \"diffusion-3\" for herS3M03\n",
        "\t warning (STUDY #4 not found) \"roi-4\" for herS3M03\n",
        "\t warning (STUDY #4 not found) \"dce-4\" for herS3M03\n",
        "\t warning (STUDY #4 not found) \"T2star-4\" for herS3M03\n",
        "\t warning (STUDY #4 not found) \"diffusion-4\" for herS3M03\n",
        "herS3M04\n",
        "\t warning (SCAN #0 not found amongst the 08-Dyn-T2star-FLASH) \"T2star-0\" for herS3M04"
       ]
      },
      {
       "output_type": "stream",
       "stream": "stdout",
       "text": [
        "\n",
        "\t warning (SCAN #0 not found amongst the 08-Dyn-T2star-FLASH) \"T2star-1\" for herS3M04"
       ]
      },
      {
       "output_type": "stream",
       "stream": "stdout",
       "text": [
        "\n",
        "\t warning (SCAN #0 not found amongst the 08-Dyn-T2star-FLASH) \"T2star-2\" for herS3M04"
       ]
      },
      {
       "output_type": "stream",
       "stream": "stdout",
       "text": [
        "\n",
        "\t warning (SCAN #0 not found amongst the 08-Dyn-T2star-FLASH) \"T2star-3\" for herS3M04"
       ]
      },
      {
       "output_type": "stream",
       "stream": "stdout",
       "text": [
        "\n",
        "\t warning (STUDY #4 not found) \"roi-4\" for herS3M04\n",
        "\t warning (STUDY #4 not found) \"dce-4\" for herS3M04\n",
        "\t warning (STUDY #4 not found) \"T2star-4\" for herS3M04\n",
        "\t warning (STUDY #4 not found) \"diffusion-4\" for herS3M04\n",
        "herS3M05\n",
        "\t warning (SCAN #0 not found amongst the 08-Dyn-T2star-FLASH) \"T2star-0\" for herS3M05"
       ]
      },
      {
       "output_type": "stream",
       "stream": "stdout",
       "text": [
        "\n",
        "\t warning (SCAN #0 not found amongst the 08-Dyn-T2star-FLASH) \"T2star-1\" for herS3M05"
       ]
      },
      {
       "output_type": "stream",
       "stream": "stdout",
       "text": [
        "\n",
        "\t warning (SCAN #0 not found amongst the 08-Dyn-T2star-FLASH) \"T2star-2\" for herS3M05"
       ]
      },
      {
       "output_type": "stream",
       "stream": "stdout",
       "text": [
        "\n",
        "\t warning (STUDY #3 not found) \"roi-3\" for herS3M05\n",
        "\t warning (STUDY #3 not found) \"dce-3\" for herS3M05\n",
        "\t warning (STUDY #3 not found) \"T2star-3\" for herS3M05\n",
        "\t warning (STUDY #3 not found) \"diffusion-3\" for herS3M05\n",
        "\t warning (STUDY #4 not found) \"roi-4\" for herS3M05\n",
        "\t warning (STUDY #4 not found) \"dce-4\" for herS3M05\n",
        "\t warning (STUDY #4 not found) \"T2star-4\" for herS3M05\n",
        "\t warning (STUDY #4 not found) \"diffusion-4\" for herS3M05\n",
        "herS3M06\n",
        "\t warning (SCAN #0 not found amongst the 08-Dyn-T2star-FLASH) \"T2star-1\" for herS3M06"
       ]
      },
      {
       "output_type": "stream",
       "stream": "stdout",
       "text": [
        "\n",
        "\t warning (STUDY #3 not found) \"roi-3\" for herS3M06"
       ]
      },
      {
       "output_type": "stream",
       "stream": "stdout",
       "text": [
        "\n",
        "\t warning (STUDY #3 not found) \"dce-3\" for herS3M06\n",
        "\t warning (STUDY #3 not found) \"T2star-3\" for herS3M06\n",
        "\t warning (STUDY #3 not found) \"diffusion-3\" for herS3M06\n",
        "\t warning (STUDY #4 not found) \"roi-4\" for herS3M06\n",
        "\t warning (STUDY #4 not found) \"dce-4\" for herS3M06\n",
        "\t warning (STUDY #4 not found) \"T2star-4\" for herS3M06\n",
        "\t warning (STUDY #4 not found) \"diffusion-4\" for herS3M06\n",
        "herS3M07\n",
        "\t warning (SCAN #0 not found amongst the 08-Dyn-T2star-FLASH) \"T2star-0\" for herS3M07"
       ]
      },
      {
       "output_type": "stream",
       "stream": "stdout",
       "text": [
        "\n",
        "\t warning (SCAN #0 not found amongst the 08-Dyn-T2star-FLASH) \"T2star-1\" for herS3M07"
       ]
      },
      {
       "output_type": "stream",
       "stream": "stdout",
       "text": [
        "\n",
        "\t warning (SCAN #0 not found amongst the 08-Dyn-T2star-FLASH) \"T2star-2\" for herS3M07"
       ]
      },
      {
       "output_type": "stream",
       "stream": "stdout",
       "text": [
        "\n",
        "\t warning (SCAN #0 not found amongst the 08-Dyn-T2star-FLASH) \"T2star-3\" for herS3M07"
       ]
      },
      {
       "output_type": "stream",
       "stream": "stdout",
       "text": [
        "\n",
        "\t warning (STUDY #4 not found) \"roi-4\" for herS3M07\n",
        "\t warning (STUDY #4 not found) \"dce-4\" for herS3M07\n",
        "\t warning (STUDY #4 not found) \"T2star-4\" for herS3M07\n",
        "\t warning (STUDY #4 not found) \"diffusion-4\" for herS3M07\n",
        "herS3M08\n",
        "\t warning (SCAN #0 not found amongst the 08-Dyn-T2star-FLASH) \"T2star-1\" for herS3M08"
       ]
      },
      {
       "output_type": "stream",
       "stream": "stdout",
       "text": [
        "\n",
        "\t warning (SCAN #0 not found amongst the 07-FLASH3D 07-FLASH3D-DCE) \"dce-4\" for herS3M08"
       ]
      },
      {
       "output_type": "stream",
       "stream": "stdout",
       "text": [
        "\n",
        "herS3M09\n",
        "\t warning (SCAN #0 not found amongst the 08-Dyn-T2star-FLASH) \"T2star-0\" for herS3M09"
       ]
      },
      {
       "output_type": "stream",
       "stream": "stdout",
       "text": [
        "\n",
        "\t warning (SCAN #0 not found amongst the 08-Dyn-T2star-FLASH) \"T2star-1\" for herS3M09"
       ]
      },
      {
       "output_type": "stream",
       "stream": "stdout",
       "text": [
        "\n",
        "\t warning (SCAN #0 not found amongst the 08-Dyn-T2star-FLASH) \"T2star-2\" for herS3M09"
       ]
      },
      {
       "output_type": "stream",
       "stream": "stdout",
       "text": [
        "\n",
        "\t warning (SCAN #0 not found amongst the 08-Dyn-T2star-FLASH) \"T2star-3\" for herS3M09"
       ]
      },
      {
       "output_type": "stream",
       "stream": "stdout",
       "text": [
        "\n",
        "\t warning (STUDY #4 not found) \"roi-4\" for herS3M09\n",
        "\t warning (STUDY #4 not found) \"dce-4\" for herS3M09\n",
        "\t warning (STUDY #4 not found) \"T2star-4\" for herS3M09\n",
        "\t warning (STUDY #4 not found) \"diffusion-4\" for herS3M09\n",
        "herS3M10\n",
        "\t warning (SCAN #0 not found amongst the 08-Dyn-T2star-FLASH) \"T2star-0\" for herS3M10"
       ]
      },
      {
       "output_type": "stream",
       "stream": "stdout",
       "text": [
        "\n",
        "\t warning (STUDY #1 not found) \"roi-1\" for herS3M10\n",
        "\t warning (STUDY #1 not found) \"dce-1\" for herS3M10\n",
        "\t warning (STUDY #1 not found) \"T2star-1\" for herS3M10\n",
        "\t warning (STUDY #1 not found) \"diffusion-1\" for herS3M10\n",
        "\t warning (STUDY #2 not found) \"roi-2\" for herS3M10\n",
        "\t warning (STUDY #2 not found) \"dce-2\" for herS3M10\n",
        "\t warning (STUDY #2 not found) \"T2star-2\" for herS3M10\n",
        "\t warning (STUDY #2 not found) \"diffusion-2\" for herS3M10\n",
        "\t warning (STUDY #3 not found) \"roi-3\" for herS3M10\n",
        "\t warning (STUDY #3 not found) \"dce-3\" for herS3M10\n",
        "\t warning (STUDY #3 not found) \"T2star-3\" for herS3M10\n",
        "\t warning (STUDY #3 not found) \"diffusion-3\" for herS3M10\n",
        "\t warning (STUDY #4 not found) \"roi-4\" for herS3M10\n",
        "\t warning (STUDY #4 not found) \"dce-4\" for herS3M10\n",
        "\t warning (STUDY #4 not found) \"T2star-4\" for herS3M10\n",
        "\t warning (STUDY #4 not found) \"diffusion-4\" for herS3M10\n",
        "herS3M11\n",
        "\t warning (SCAN #0 not found amongst the 08-Dyn-T2star-FLASH) \"T2star-1\" for herS3M11"
       ]
      },
      {
       "output_type": "stream",
       "stream": "stdout",
       "text": [
        "\n",
        "\t warning (STUDY #2 not found) \"roi-2\" for herS3M11\n",
        "\t warning (STUDY #2 not found) \"dce-2\" for herS3M11\n",
        "\t warning (STUDY #2 not found) \"T2star-2\" for herS3M11\n",
        "\t warning (STUDY #2 not found) \"diffusion-2\" for herS3M11\n",
        "\t warning (STUDY #3 not found) \"roi-3\" for herS3M11\n",
        "\t warning (STUDY #3 not found) \"dce-3\" for herS3M11\n",
        "\t warning (STUDY #3 not found) \"T2star-3\" for herS3M11\n",
        "\t warning (STUDY #3 not found) \"diffusion-3\" for herS3M11\n",
        "\t warning (STUDY #4 not found) \"roi-4\" for herS3M11\n",
        "\t warning (STUDY #4 not found) \"dce-4\" for herS3M11\n",
        "\t warning (STUDY #4 not found) \"T2star-4\" for herS3M11\n",
        "\t warning (STUDY #4 not found) \"diffusion-4\" for herS3M11\n",
        "herS3M12\n",
        "\t warning (SCAN #0 not found amongst the 08-Dyn-T2star-FLASH) \"T2star-0\" for herS3M12"
       ]
      },
      {
       "output_type": "stream",
       "stream": "stdout",
       "text": [
        "\n",
        "\t warning (SCAN #0 not found amongst the 08-Dyn-T2star-FLASH) \"T2star-1\" for herS3M12"
       ]
      },
      {
       "output_type": "stream",
       "stream": "stdout",
       "text": [
        "\n",
        "\t warning (SCAN #0 not found amongst the 08-Dyn-T2star-FLASH) \"T2star-2\" for herS3M12"
       ]
      },
      {
       "output_type": "stream",
       "stream": "stdout",
       "text": [
        "\n",
        "\t warning (SCAN #0 not found amongst the 08-Dyn-T2star-FLASH) \"T2star-3\" for herS3M12"
       ]
      },
      {
       "output_type": "stream",
       "stream": "stdout",
       "text": [
        "\n",
        "\t warning (STUDY #4 not found) \"roi-4\" for herS3M12\n",
        "\t warning (STUDY #4 not found) \"dce-4\" for herS3M12\n",
        "\t warning (STUDY #4 not found) \"T2star-4\" for herS3M12\n",
        "\t warning (STUDY #4 not found) \"diffusion-4\" for herS3M12\n",
        "herS3M13\n",
        "\t warning (SCAN #0 not found amongst the 08-Dyn-T2star-FLASH) \"T2star-0\" for herS3M13"
       ]
      },
      {
       "output_type": "stream",
       "stream": "stdout",
       "text": [
        "\n",
        "\t warning (SCAN #0 not found amongst the 08-Dyn-T2star-FLASH) \"T2star-1\" for herS3M13"
       ]
      },
      {
       "output_type": "stream",
       "stream": "stdout",
       "text": [
        "\n",
        "\t warning (SCAN #0 not found amongst the 08-Dyn-T2star-FLASH) \"T2star-2\" for herS3M13"
       ]
      },
      {
       "output_type": "stream",
       "stream": "stdout",
       "text": [
        "\n",
        "\t warning (SCAN #0 not found amongst the 08-Dyn-T2star-FLASH) \"T2star-3\" for herS3M13"
       ]
      },
      {
       "output_type": "stream",
       "stream": "stdout",
       "text": [
        "\n",
        "\t warning (STUDY #4 not found) \"roi-4\" for herS3M13\n",
        "\t warning (STUDY #4 not found) \"dce-4\" for herS3M13\n",
        "\t warning (STUDY #4 not found) \"T2star-4\" for herS3M13\n",
        "\t warning (STUDY #4 not found) \"diffusion-4\" for herS3M13\n",
        "herS3M14\n",
        "\t warning (SCAN #0 not found amongst the 08-Dyn-T2star-FLASH) \"T2star-0\" for herS3M14"
       ]
      },
      {
       "output_type": "stream",
       "stream": "stdout",
       "text": [
        "\n",
        "\t warning (SCAN #0 not found amongst the 08-Dyn-T2star-FLASH) \"T2star-1\" for herS3M14"
       ]
      },
      {
       "output_type": "stream",
       "stream": "stdout",
       "text": [
        "\n",
        "\t warning (STUDY #2 not found) \"roi-2\" for herS3M14\n",
        "\t warning (STUDY #2 not found) \"dce-2\" for herS3M14\n",
        "\t warning (STUDY #2 not found) \"T2star-2\" for herS3M14\n",
        "\t warning (STUDY #2 not found) \"diffusion-2\" for herS3M14\n",
        "\t warning (STUDY #3 not found) \"roi-3\" for herS3M14\n",
        "\t warning (STUDY #3 not found) \"dce-3\" for herS3M14\n",
        "\t warning (STUDY #3 not found) \"T2star-3\" for herS3M14\n",
        "\t warning (STUDY #3 not found) \"diffusion-3\" for herS3M14\n",
        "\t warning (STUDY #4 not found) \"roi-4\" for herS3M14\n",
        "\t warning (STUDY #4 not found) \"dce-4\" for herS3M14\n",
        "\t warning (STUDY #4 not found) \"T2star-4\" for herS3M14\n",
        "\t warning (STUDY #4 not found) \"diffusion-4\" for herS3M14\n",
        "herS3M15\n",
        "\t warning (SCAN #0 not found amongst the 08-Dyn-T2star-FLASH) \"T2star-0\" for herS3M15"
       ]
      },
      {
       "output_type": "stream",
       "stream": "stdout",
       "text": [
        "\n",
        "\t warning (SCAN #0 not found amongst the 08-Dyn-T2star-FLASH) \"T2star-1\" for herS3M15"
       ]
      },
      {
       "output_type": "stream",
       "stream": "stdout",
       "text": [
        "\n",
        "\t warning (SCAN #0 not found amongst the 08-Dyn-T2star-FLASH) \"T2star-2\" for herS3M15"
       ]
      },
      {
       "output_type": "stream",
       "stream": "stdout",
       "text": [
        "\n",
        "\t warning (SCAN #0 not found amongst the 08-Dyn-T2star-FLASH) \"T2star-3\" for herS3M15"
       ]
      },
      {
       "output_type": "stream",
       "stream": "stdout",
       "text": [
        "\n",
        "\t warning (SCAN #0 not found amongst the 07-FLASH3D 07-FLASH3D-DCE) \"dce-4\" for herS3M15"
       ]
      },
      {
       "output_type": "stream",
       "stream": "stdout",
       "text": [
        "\n",
        "\t warning (SCAN #0 not found amongst the 08-Dyn-T2star-FLASH) \"T2star-4\" for herS3M15\n",
        "herS3M16\n",
        "\t warning (SCAN #0 not found amongst the 08-Dyn-T2star-FLASH) \"T2star-0\" for herS3M16"
       ]
      },
      {
       "output_type": "stream",
       "stream": "stdout",
       "text": [
        "\n",
        "\t warning (SCAN #0 not found amongst the 08-Dyn-T2star-FLASH) \"T2star-1\" for herS3M16"
       ]
      },
      {
       "output_type": "stream",
       "stream": "stdout",
       "text": [
        "\n",
        "\t warning (STUDY #2 not found) \"roi-2\" for herS3M16\n",
        "\t warning (STUDY #2 not found) \"dce-2\" for herS3M16\n",
        "\t warning (STUDY #2 not found) \"T2star-2\" for herS3M16\n",
        "\t warning (STUDY #2 not found) \"diffusion-2\" for herS3M16\n",
        "\t warning (STUDY #3 not found) \"roi-3\" for herS3M16\n",
        "\t warning (STUDY #3 not found) \"dce-3\" for herS3M16\n",
        "\t warning (STUDY #3 not found) \"T2star-3\" for herS3M16\n",
        "\t warning (STUDY #3 not found) \"diffusion-3\" for herS3M16\n",
        "\t warning (STUDY #4 not found) \"roi-4\" for herS3M16\n",
        "\t warning (STUDY #4 not found) \"dce-4\" for herS3M16\n",
        "\t warning (STUDY #4 not found) \"T2star-4\" for herS3M16\n",
        "\t warning (STUDY #4 not found) \"diffusion-4\" for herS3M16\n",
        "herS3M17\n",
        "\t warning (SCAN #0 not found amongst the 08-Dyn-T2star-FLASH) \"T2star-0\" for herS3M17"
       ]
      },
      {
       "output_type": "stream",
       "stream": "stdout",
       "text": [
        "\n",
        "\t warning (SCAN #0 not found amongst the 08-Dyn-T2star-FLASH) \"T2star-1\" for herS3M17"
       ]
      },
      {
       "output_type": "stream",
       "stream": "stdout",
       "text": [
        "\n",
        "\t warning (STUDY #2 not found) \"roi-2\" for herS3M17\n",
        "\t warning (STUDY #2 not found) \"dce-2\" for herS3M17\n",
        "\t warning (STUDY #2 not found) \"T2star-2\" for herS3M17\n",
        "\t warning (STUDY #2 not found) \"diffusion-2\" for herS3M17\n",
        "\t warning (STUDY #3 not found) \"roi-3\" for herS3M17\n",
        "\t warning (STUDY #3 not found) \"dce-3\" for herS3M17\n",
        "\t warning (STUDY #3 not found) \"T2star-3\" for herS3M17\n",
        "\t warning (STUDY #3 not found) \"diffusion-3\" for herS3M17\n",
        "\t warning (STUDY #4 not found) \"roi-4\" for herS3M17\n",
        "\t warning (STUDY #4 not found) \"dce-4\" for herS3M17\n",
        "\t warning (STUDY #4 not found) \"T2star-4\" for herS3M17\n",
        "\t warning (STUDY #4 not found) \"diffusion-4\" for herS3M17\n",
        "herS3M19\n",
        "\t warning (SCAN #0 not found amongst the 08-Dyn-T2star-FLASH) \"T2star-0\" for herS3M19"
       ]
      },
      {
       "output_type": "stream",
       "stream": "stdout",
       "text": [
        "\n",
        "\t warning (SCAN #0 not found amongst the 08-Dyn-T2star-FLASH) \"T2star-1\" for herS3M19"
       ]
      },
      {
       "output_type": "stream",
       "stream": "stdout",
       "text": [
        "\n",
        "\t warning (SCAN #0 not found amongst the 08-Dyn-T2star-FLASH) \"T2star-2\" for herS3M19"
       ]
      },
      {
       "output_type": "stream",
       "stream": "stdout",
       "text": [
        "\n",
        "\t warning (SCAN #0 not found amongst the 08-Dyn-T2star-FLASH) \"T2star-3\" for herS3M19"
       ]
      },
      {
       "output_type": "stream",
       "stream": "stdout",
       "text": [
        "\n",
        "\t warning (STUDY #4 not found) \"roi-4\" for herS3M19\n",
        "\t warning (STUDY #4 not found) \"dce-4\" for herS3M19\n",
        "\t warning (STUDY #4 not found) \"T2star-4\" for herS3M19\n",
        "\t warning (STUDY #4 not found) \"diffusion-4\" for herS3M19\n",
        "herS3M20\n",
        "\t warning (SCAN #0 not found amongst the 08-Dyn-T2star-FLASH) \"T2star-0\" for herS3M20"
       ]
      },
      {
       "output_type": "stream",
       "stream": "stdout",
       "text": [
        "\n",
        "\t warning (SCAN #0 not found amongst the 04-16shot-EPI-dw-sl-1.0-1.5) \"diffusion-0\" for herS3M20\n",
        "\t warning (SCAN #0 not found amongst the 08-Dyn-T2star-FLASH) \"T2star-1\" for herS3M20"
       ]
      },
      {
       "output_type": "stream",
       "stream": "stdout",
       "text": [
        "\n",
        "\t warning (SCAN #0 not found amongst the 08-Dyn-T2star-FLASH) \"T2star-2\" for herS3M20"
       ]
      },
      {
       "output_type": "stream",
       "stream": "stdout",
       "text": [
        "\n",
        "\t warning (SCAN #0 not found amongst the 08-Dyn-T2star-FLASH) \"T2star-3\" for herS3M20"
       ]
      },
      {
       "output_type": "stream",
       "stream": "stdout",
       "text": [
        "\n",
        "\t warning (STUDY #4 not found) \"roi-4\" for herS3M20\n",
        "\t warning (STUDY #4 not found) \"dce-4\" for herS3M20\n",
        "\t warning (STUDY #4 not found) \"T2star-4\" for herS3M20\n",
        "\t warning (STUDY #4 not found) \"diffusion-4\" for herS3M20\n",
        "herS3M21\n",
        "\t warning (STUDY #4 not found) \"roi-4\" for herS3M21"
       ]
      },
      {
       "output_type": "stream",
       "stream": "stdout",
       "text": [
        "\n",
        "\t warning (STUDY #4 not found) \"dce-4\" for herS3M21\n",
        "\t warning (STUDY #4 not found) \"T2star-4\" for herS3M21\n",
        "\t warning (STUDY #4 not found) \"diffusion-4\" for herS3M21\n",
        "herS3M22\n",
        "\t warning (SCAN #-1 not found amongst the 03_RARE_T2w) \"roi-2\" for herS3M22"
       ]
      },
      {
       "output_type": "stream",
       "stream": "stdout",
       "text": [
        "\n",
        "\t warning (SCAN #0 not found amongst the 07-FLASH3D) \"dce-2\" for herS3M22\n",
        "\t warning (SCAN #0 not found amongst the 08-Dyn-T2star-FLASH) \"T2star-2\" for herS3M22\n",
        "\t warning (SCAN #0 not found amongst the 04-16shot-EPI-dw-sl-1.0-1.5) \"diffusion-2\" for herS3M22\n",
        "\t warning (SCAN #0 not found amongst the 07-FLASH3D 07-FLASH3D-DCE) \"dce-4\" for herS3M22"
       ]
      },
      {
       "output_type": "stream",
       "stream": "stdout",
       "text": [
        "\n",
        "herS3M23\n",
        "\t warning (SCAN #0 not found amongst the 08-Dyn-T2star-FLASH) \"T2star-0\" for herS3M23"
       ]
      },
      {
       "output_type": "stream",
       "stream": "stdout",
       "text": [
        "\n",
        "\t warning (STUDY #4 not found) \"roi-4\" for herS3M23"
       ]
      },
      {
       "output_type": "stream",
       "stream": "stdout",
       "text": [
        "\n",
        "\t warning (STUDY #4 not found) \"dce-4\" for herS3M23\n",
        "\t warning (STUDY #4 not found) \"T2star-4\" for herS3M23\n",
        "\t warning (STUDY #4 not found) \"diffusion-4\" for herS3M23\n",
        "wrote master_list to /Users/fmoosvi/sdata/HerS3/HerS3.json"
       ]
      },
      {
       "output_type": "stream",
       "stream": "stdout",
       "text": [
        "\n"
       ]
      }
     ],
     "prompt_number": 3
    },
    {
     "cell_type": "code",
     "collapsed": false,
     "input": [
      "fFlag = True\n",
      "\n",
      "sarpy.io.generate_rois.generate_rois(masterlist,'export', forceVal = fFlag)\n",
      "\n",
      "try:\n",
      "    sarpy.io.generate_rois.generate_rois(masterlist,'import', forceVal = fFlag)\n",
      "    sarpy.io.masterlist.generate(conf_file=config_file) # update bboxes\n",
      "except IOError:\n",
      "    pass"
     ],
     "language": "python",
     "metadata": {},
     "outputs": [
      {
       "output_type": "stream",
       "stream": "stdout",
       "text": [
        "\n",
        " \n",
        " ** WARNING ** \n",
        " \n",
        " Not found: herS3M01 and roi-4 \n",
        "\n",
        "\n",
        " \n",
        " ** WARNING ** \n",
        " \n",
        " Not found: herS3M01 and roi-3 \n"
       ]
      },
      {
       "output_type": "stream",
       "stream": "stdout",
       "text": [
        "\n",
        "\n",
        " \n",
        " ** WARNING ** \n",
        " \n",
        " Not found: herS3M02 and roi-4 \n",
        "\n",
        "\n",
        " \n",
        " ** WARNING ** \n",
        " \n",
        " Not found: herS3M02 and roi-3 \n"
       ]
      },
      {
       "output_type": "stream",
       "stream": "stdout",
       "text": [
        "\n",
        "\n",
        " \n",
        " ** WARNING ** \n",
        " \n",
        " Not found: herS3M03 and roi-4 \n",
        "\n",
        "\n",
        " \n",
        " ** WARNING ** \n",
        " \n",
        " Not found: herS3M03 and roi-3 \n"
       ]
      },
      {
       "output_type": "stream",
       "stream": "stdout",
       "text": [
        "\n",
        "\n",
        " \n",
        " ** WARNING ** \n",
        " \n",
        " Not found: herS3M04 and roi-4 \n",
        "\n",
        "\n",
        " \n",
        " ** WARNING ** \n",
        " \n",
        " Not found: herS3M05 and roi-4 \n"
       ]
      },
      {
       "output_type": "stream",
       "stream": "stdout",
       "text": [
        "\n",
        "\n",
        " \n",
        " ** WARNING ** \n",
        " \n",
        " Not found: herS3M05 and roi-3 \n"
       ]
      },
      {
       "output_type": "stream",
       "stream": "stdout",
       "text": [
        "\n",
        "\n",
        " \n",
        " ** WARNING ** \n",
        " \n",
        " Not found: herS3M06 and roi-4 \n",
        "\n",
        "\n",
        " \n",
        " ** WARNING ** \n",
        " \n",
        " Not found: herS3M06 and roi-3 \n"
       ]
      },
      {
       "output_type": "stream",
       "stream": "stdout",
       "text": [
        "\n",
        "\n",
        " \n",
        " ** WARNING ** \n",
        " \n",
        " Not found: herS3M07 and roi-4 \n",
        "\n",
        "\n",
        " \n",
        " ** WARNING ** \n",
        " \n",
        " Not found: herS3M09 and roi-4 \n"
       ]
      },
      {
       "output_type": "stream",
       "stream": "stdout",
       "text": [
        "\n",
        "\n",
        " \n",
        " ** WARNING ** \n",
        " \n",
        " Not found: herS3M10 and roi-4 \n"
       ]
      },
      {
       "output_type": "stream",
       "stream": "stdout",
       "text": [
        "\n",
        "\n",
        " \n",
        " ** WARNING ** \n",
        " \n",
        " Not found: herS3M10 and roi-1 \n"
       ]
      },
      {
       "output_type": "stream",
       "stream": "stdout",
       "text": [
        "\n",
        "\n",
        " \n",
        " ** WARNING ** \n",
        " \n",
        " Not found: herS3M10 and roi-2 \n",
        "\n",
        "\n",
        " \n",
        " ** WARNING ** \n",
        " \n",
        " Not found: herS3M10 and roi-3 \n",
        "\n",
        "\n",
        " \n",
        " ** WARNING ** \n",
        " \n",
        " Not found: herS3M11 and roi-4 \n",
        "\n",
        "\n",
        " \n",
        " ** WARNING ** \n",
        " \n",
        " Not found: herS3M11 and roi-2 \n"
       ]
      },
      {
       "output_type": "stream",
       "stream": "stdout",
       "text": [
        "\n",
        "\n",
        " \n",
        " ** WARNING ** \n",
        " \n",
        " Not found: herS3M11 and roi-3 \n",
        "\n",
        "\n",
        " \n",
        " ** WARNING ** \n",
        " \n",
        " Not found: herS3M12 and roi-4 \n",
        "\n",
        "\n",
        " \n",
        " ** WARNING ** \n",
        " \n",
        " Not found: herS3M13 and roi-4 \n"
       ]
      },
      {
       "output_type": "stream",
       "stream": "stdout",
       "text": [
        "\n",
        "\n",
        " \n",
        " ** WARNING ** \n",
        " \n",
        " Not found: herS3M14 and roi-4 \n"
       ]
      },
      {
       "output_type": "stream",
       "stream": "stdout",
       "text": [
        "\n",
        "\n",
        " \n",
        " ** WARNING ** \n",
        " \n",
        " Not found: herS3M14 and roi-2 \n"
       ]
      },
      {
       "output_type": "stream",
       "stream": "stdout",
       "text": [
        "\n",
        "\n",
        " \n",
        " ** WARNING ** \n",
        " \n",
        " Not found: herS3M14 and roi-3 \n",
        "\n",
        "\n",
        " \n",
        " ** WARNING ** \n",
        " \n",
        " Not found: herS3M16 and roi-4 \n"
       ]
      },
      {
       "output_type": "stream",
       "stream": "stdout",
       "text": [
        "\n",
        "\n",
        " \n",
        " ** WARNING ** \n",
        " \n",
        " Not found: herS3M16 and roi-2 \n"
       ]
      },
      {
       "output_type": "stream",
       "stream": "stdout",
       "text": [
        "\n",
        "\n",
        " \n",
        " ** WARNING ** \n",
        " \n",
        " Not found: herS3M16 and roi-3 \n",
        "\n",
        "\n",
        " \n",
        " ** WARNING ** \n",
        " \n",
        " Not found: herS3M17 and roi-4 \n",
        "\n",
        "\n",
        " \n",
        " ** WARNING ** \n",
        " \n",
        " Not found: herS3M17 and roi-2 \n"
       ]
      },
      {
       "output_type": "stream",
       "stream": "stdout",
       "text": [
        "\n",
        "\n",
        " \n",
        " ** WARNING ** \n",
        " \n",
        " Not found: herS3M17 and roi-3 \n",
        "\n",
        "\n",
        " \n",
        " ** WARNING ** \n",
        " \n",
        " Not found: herS3M19 and roi-4 \n",
        "\n",
        "\n",
        " \n",
        " ** WARNING ** \n",
        " \n",
        " Not found: herS3M20 and roi-4 \n"
       ]
      },
      {
       "output_type": "stream",
       "stream": "stdout",
       "text": [
        "\n",
        "\n",
        " \n",
        " ** WARNING ** \n",
        " \n",
        " Not found: herS3M21 and roi-4 \n"
       ]
      },
      {
       "output_type": "stream",
       "stream": "stdout",
       "text": [
        "\n",
        "\n",
        " \n",
        " ** WARNING ** \n",
        " \n",
        " Not found: herS3M22 and roi-2 \n"
       ]
      },
      {
       "output_type": "stream",
       "stream": "stdout",
       "text": [
        "\n",
        "\n",
        " \n",
        " ** WARNING ** \n",
        " \n",
        " Not found: herS3M23 and roi-4 \n"
       ]
      },
      {
       "output_type": "stream",
       "stream": "stdout",
       "text": [
        "\n",
        "Nifti images were processed in /Users/fmoosvi/sdata/HerS3/rois"
       ]
      },
      {
       "output_type": "stream",
       "stream": "stdout",
       "text": [
        "\n",
        "\n",
        " \n",
        " ** WARNING ** \n",
        " \n",
        " Not found: herS3M01 and roi-4 \n",
        "\n",
        "adata roi deleted in herS3M01"
       ]
      },
      {
       "output_type": "stream",
       "stream": "stdout",
       "text": [
        "\n",
        "adata roi_weights deleted in herS3M01"
       ]
      },
      {
       "output_type": "stream",
       "stream": "stdout",
       "text": [
        "\n",
        "h_generate_roi: saved herS3M01.3I1/10 roi label"
       ]
      },
      {
       "output_type": "stream",
       "stream": "stdout",
       "text": [
        "\n",
        "adata roi deleted in herS3M01"
       ]
      },
      {
       "output_type": "stream",
       "stream": "stdout",
       "text": [
        "\n",
        "adata roi_weights deleted in herS3M01"
       ]
      },
      {
       "output_type": "stream",
       "stream": "stdout",
       "text": [
        "\n",
        "h_generate_roi: saved herS3M01.3P1/4 roi label"
       ]
      },
      {
       "output_type": "stream",
       "stream": "stdout",
       "text": [
        "\n",
        "adata roi deleted in herS3M01"
       ]
      },
      {
       "output_type": "stream",
       "stream": "stdout",
       "text": [
        "\n",
        "adata roi_weights deleted in herS3M01"
       ]
      },
      {
       "output_type": "stream",
       "stream": "stdout",
       "text": [
        "\n",
        "h_generate_roi: saved herS3M01.3W1/4 roi label"
       ]
      },
      {
       "output_type": "stream",
       "stream": "stdout",
       "text": [
        "\n",
        "\n",
        " \n",
        " ** WARNING ** \n",
        " \n",
        " Not found: herS3M01 and roi-3 \n",
        "\n",
        "\n",
        " \n",
        " ** WARNING ** \n",
        " \n",
        " Not found: herS3M02 and roi-4 \n",
        "\n",
        "adata roi deleted in herS3M02"
       ]
      },
      {
       "output_type": "stream",
       "stream": "stdout",
       "text": [
        "\n",
        "adata roi_weights deleted in herS3M02"
       ]
      },
      {
       "output_type": "stream",
       "stream": "stdout",
       "text": [
        "\n",
        "h_generate_roi: saved herS3M02.3I1/4 roi label"
       ]
      },
      {
       "output_type": "stream",
       "stream": "stdout",
       "text": [
        "\n",
        "adata roi deleted in herS3M02"
       ]
      },
      {
       "output_type": "stream",
       "stream": "stdout",
       "text": [
        "\n",
        "adata roi_weights deleted in herS3M02"
       ]
      },
      {
       "output_type": "stream",
       "stream": "stdout",
       "text": [
        "\n",
        "h_generate_roi: saved herS3M02.3P1/4 roi label"
       ]
      },
      {
       "output_type": "stream",
       "stream": "stdout",
       "text": [
        "\n",
        "adata roi deleted in herS3M02"
       ]
      },
      {
       "output_type": "stream",
       "stream": "stdout",
       "text": [
        "\n",
        "adata roi_weights deleted in herS3M02"
       ]
      },
      {
       "output_type": "stream",
       "stream": "stdout",
       "text": [
        "\n",
        "h_generate_roi: saved herS3M02.3W1/4 roi label"
       ]
      },
      {
       "output_type": "stream",
       "stream": "stdout",
       "text": [
        "\n",
        "\n",
        " \n",
        " ** WARNING ** \n",
        " \n",
        " Not found: herS3M02 and roi-3 \n",
        "\n",
        "\n",
        " \n",
        " ** WARNING ** \n",
        " \n",
        " Not found: herS3M03 and roi-4 \n",
        "\n",
        "adata roi deleted in herS3M03"
       ]
      },
      {
       "output_type": "stream",
       "stream": "stdout",
       "text": [
        "\n",
        "adata roi_weights deleted in herS3M03"
       ]
      },
      {
       "output_type": "stream",
       "stream": "stdout",
       "text": [
        "\n",
        "h_generate_roi: saved herS3M03.3I1/4 roi label"
       ]
      },
      {
       "output_type": "stream",
       "stream": "stdout",
       "text": [
        "\n",
        "adata roi deleted in herS3M03"
       ]
      },
      {
       "output_type": "stream",
       "stream": "stdout",
       "text": [
        "\n",
        "adata roi_weights deleted in herS3M03"
       ]
      },
      {
       "output_type": "stream",
       "stream": "stdout",
       "text": [
        "\n",
        "h_generate_roi: saved herS3M03.3P1/4 roi label"
       ]
      },
      {
       "output_type": "stream",
       "stream": "stdout",
       "text": [
        "\n",
        "adata roi deleted in herS3M03"
       ]
      },
      {
       "output_type": "stream",
       "stream": "stdout",
       "text": [
        "\n",
        "adata roi_weights deleted in herS3M03"
       ]
      },
      {
       "output_type": "stream",
       "stream": "stdout",
       "text": [
        "\n",
        "h_generate_roi: saved herS3M03.3W1/4 roi label"
       ]
      },
      {
       "output_type": "stream",
       "stream": "stdout",
       "text": [
        "\n",
        "\n",
        " \n",
        " ** WARNING ** \n",
        " \n",
        " Not found: herS3M03 and roi-3 \n",
        "\n",
        "\n",
        " \n",
        " ** WARNING ** \n",
        " \n",
        " Not found: herS3M04 and roi-4 \n",
        "\n",
        "adata roi deleted in herS3M04"
       ]
      },
      {
       "output_type": "stream",
       "stream": "stdout",
       "text": [
        "\n",
        "adata roi_weights deleted in herS3M04"
       ]
      },
      {
       "output_type": "stream",
       "stream": "stdout",
       "text": [
        "\n",
        "h_generate_roi: saved herS3M04.3I1/4 roi label"
       ]
      },
      {
       "output_type": "stream",
       "stream": "stdout",
       "text": [
        "\n",
        "adata roi deleted in herS3M04"
       ]
      },
      {
       "output_type": "stream",
       "stream": "stdout",
       "text": [
        "\n",
        "adata roi_weights deleted in herS3M04"
       ]
      },
      {
       "output_type": "stream",
       "stream": "stdout",
       "text": [
        "\n",
        "h_generate_roi: saved herS3M04.3J1/4 roi label"
       ]
      },
      {
       "output_type": "stream",
       "stream": "stdout",
       "text": [
        "\n",
        "adata roi deleted in herS3M04"
       ]
      },
      {
       "output_type": "stream",
       "stream": "stdout",
       "text": [
        "\n",
        "adata roi_weights deleted in herS3M04"
       ]
      },
      {
       "output_type": "stream",
       "stream": "stdout",
       "text": [
        "\n",
        "h_generate_roi: saved herS3M04.3Q1/4 roi label"
       ]
      },
      {
       "output_type": "stream",
       "stream": "stdout",
       "text": [
        "\n",
        "adata roi deleted in herS3M04"
       ]
      },
      {
       "output_type": "stream",
       "stream": "stdout",
       "text": [
        "\n",
        "adata roi_weights deleted in herS3M04"
       ]
      },
      {
       "output_type": "stream",
       "stream": "stdout",
       "text": [
        "\n",
        "h_generate_roi: saved herS3M04.3X1/4 roi label"
       ]
      },
      {
       "output_type": "stream",
       "stream": "stdout",
       "text": [
        "\n",
        "\n",
        " \n",
        " ** WARNING ** \n",
        " \n",
        " Not found: herS3M05 and roi-4 \n",
        "\n",
        "adata roi deleted in herS3M05"
       ]
      },
      {
       "output_type": "stream",
       "stream": "stdout",
       "text": [
        "\n",
        "adata roi_weights deleted in herS3M05"
       ]
      },
      {
       "output_type": "stream",
       "stream": "stdout",
       "text": [
        "\n",
        "h_generate_roi: saved herS3M05.3I1/4 roi label"
       ]
      },
      {
       "output_type": "stream",
       "stream": "stdout",
       "text": [
        "\n",
        "adata roi deleted in herS3M05"
       ]
      },
      {
       "output_type": "stream",
       "stream": "stdout",
       "text": [
        "\n",
        "adata roi_weights deleted in herS3M05"
       ]
      },
      {
       "output_type": "stream",
       "stream": "stdout",
       "text": [
        "\n",
        "h_generate_roi: saved herS3M05.3P1/4 roi label"
       ]
      },
      {
       "output_type": "stream",
       "stream": "stdout",
       "text": [
        "\n",
        "adata roi deleted in herS3M05"
       ]
      },
      {
       "output_type": "stream",
       "stream": "stdout",
       "text": [
        "\n",
        "adata roi_weights deleted in herS3M05"
       ]
      },
      {
       "output_type": "stream",
       "stream": "stdout",
       "text": [
        "\n",
        "h_generate_roi: saved herS3M05.3W1/4 roi label"
       ]
      },
      {
       "output_type": "stream",
       "stream": "stdout",
       "text": [
        "\n",
        "\n",
        " \n",
        " ** WARNING ** \n",
        " \n",
        " Not found: herS3M05 and roi-3 \n",
        "\n",
        "\n",
        " \n",
        " ** WARNING ** \n",
        " \n",
        " Not found: herS3M06 and roi-4 \n",
        "\n",
        "adata roi deleted in herS3M06"
       ]
      },
      {
       "output_type": "stream",
       "stream": "stdout",
       "text": [
        "\n",
        "adata roi_weights deleted in herS3M06"
       ]
      },
      {
       "output_type": "stream",
       "stream": "stdout",
       "text": [
        "\n",
        "h_generate_roi: saved herS3M06.3I1/4 roi label"
       ]
      },
      {
       "output_type": "stream",
       "stream": "stdout",
       "text": [
        "\n",
        "adata roi deleted in herS3M06"
       ]
      },
      {
       "output_type": "stream",
       "stream": "stdout",
       "text": [
        "\n",
        "adata roi_weights deleted in herS3M06"
       ]
      },
      {
       "output_type": "stream",
       "stream": "stdout",
       "text": [
        "\n",
        "h_generate_roi: saved herS3M06.3P1/4 roi label"
       ]
      },
      {
       "output_type": "stream",
       "stream": "stdout",
       "text": [
        "\n",
        "adata roi deleted in herS3M06"
       ]
      },
      {
       "output_type": "stream",
       "stream": "stdout",
       "text": [
        "\n",
        "adata roi_weights deleted in herS3M06"
       ]
      },
      {
       "output_type": "stream",
       "stream": "stdout",
       "text": [
        "\n",
        "h_generate_roi: saved herS3M06.3W1/4 roi label"
       ]
      },
      {
       "output_type": "stream",
       "stream": "stdout",
       "text": [
        "\n",
        "\n",
        " \n",
        " ** WARNING ** \n",
        " \n",
        " Not found: herS3M06 and roi-3 \n",
        "\n",
        "\n",
        " \n",
        " ** WARNING ** \n",
        " \n",
        " Not found: herS3M07 and roi-4 \n",
        "\n",
        "adata roi deleted in herS3M07"
       ]
      },
      {
       "output_type": "stream",
       "stream": "stdout",
       "text": [
        "\n",
        "adata roi_weights deleted in herS3M07"
       ]
      },
      {
       "output_type": "stream",
       "stream": "stdout",
       "text": [
        "\n",
        "h_generate_roi: saved herS3M07.3I1/4 roi label"
       ]
      },
      {
       "output_type": "stream",
       "stream": "stdout",
       "text": [
        "\n",
        "adata roi deleted in herS3M07"
       ]
      },
      {
       "output_type": "stream",
       "stream": "stdout",
       "text": [
        "\n",
        "adata roi_weights deleted in herS3M07"
       ]
      },
      {
       "output_type": "stream",
       "stream": "stdout",
       "text": [
        "\n",
        "h_generate_roi: saved herS3M07.3J1/4 roi label"
       ]
      },
      {
       "output_type": "stream",
       "stream": "stdout",
       "text": [
        "\n",
        "adata roi deleted in herS3M07"
       ]
      },
      {
       "output_type": "stream",
       "stream": "stdout",
       "text": [
        "\n",
        "adata roi_weights deleted in herS3M07"
       ]
      },
      {
       "output_type": "stream",
       "stream": "stdout",
       "text": [
        "\n",
        "h_generate_roi: saved herS3M07.3Q1/4 roi label"
       ]
      },
      {
       "output_type": "stream",
       "stream": "stdout",
       "text": [
        "\n",
        "adata roi deleted in herS3M07"
       ]
      },
      {
       "output_type": "stream",
       "stream": "stdout",
       "text": [
        "\n",
        "adata roi_weights deleted in herS3M07"
       ]
      },
      {
       "output_type": "stream",
       "stream": "stdout",
       "text": [
        "\n",
        "h_generate_roi: saved herS3M07.3X1/4 roi label"
       ]
      },
      {
       "output_type": "stream",
       "stream": "stdout",
       "text": [
        "\n",
        "adata roi deleted in herS3M08"
       ]
      },
      {
       "output_type": "stream",
       "stream": "stdout",
       "text": [
        "\n",
        "adata roi_weights deleted in herS3M08"
       ]
      },
      {
       "output_type": "stream",
       "stream": "stdout",
       "text": [
        "\n",
        "h_generate_roi: saved herS3M08.441/4 roi label"
       ]
      },
      {
       "output_type": "stream",
       "stream": "stdout",
       "text": [
        "\n",
        "adata roi deleted in herS3M08"
       ]
      },
      {
       "output_type": "stream",
       "stream": "stdout",
       "text": [
        "\n",
        "adata roi_weights deleted in herS3M08"
       ]
      },
      {
       "output_type": "stream",
       "stream": "stdout",
       "text": [
        "\n",
        "h_generate_roi: saved herS3M08.3J1/4 roi label"
       ]
      },
      {
       "output_type": "stream",
       "stream": "stdout",
       "text": [
        "\n",
        "adata roi deleted in herS3M08"
       ]
      },
      {
       "output_type": "stream",
       "stream": "stdout",
       "text": [
        "\n",
        "adata roi_weights deleted in herS3M08"
       ]
      },
      {
       "output_type": "stream",
       "stream": "stdout",
       "text": [
        "\n",
        "h_generate_roi: saved herS3M08.3Q1/4 roi label"
       ]
      },
      {
       "output_type": "stream",
       "stream": "stdout",
       "text": [
        "\n",
        "adata roi deleted in herS3M08"
       ]
      },
      {
       "output_type": "stream",
       "stream": "stdout",
       "text": [
        "\n",
        "adata roi_weights deleted in herS3M08"
       ]
      },
      {
       "output_type": "stream",
       "stream": "stdout",
       "text": [
        "\n",
        "h_generate_roi: saved herS3M08.3X1/4 roi label"
       ]
      },
      {
       "output_type": "stream",
       "stream": "stdout",
       "text": [
        "\n",
        "adata roi deleted in herS3M08"
       ]
      },
      {
       "output_type": "stream",
       "stream": "stdout",
       "text": [
        "\n",
        "adata roi_weights deleted in herS3M08"
       ]
      },
      {
       "output_type": "stream",
       "stream": "stdout",
       "text": [
        "\n",
        "h_generate_roi: saved herS3M08.4b1/5 roi label"
       ]
      },
      {
       "output_type": "stream",
       "stream": "stdout",
       "text": [
        "\n",
        "\n",
        " \n",
        " ** WARNING ** \n",
        " \n",
        " Not found: herS3M09 and roi-4 \n",
        "\n",
        "adata roi deleted in herS3M09"
       ]
      },
      {
       "output_type": "stream",
       "stream": "stdout",
       "text": [
        "\n",
        "adata roi_weights deleted in herS3M09"
       ]
      },
      {
       "output_type": "stream",
       "stream": "stdout",
       "text": [
        "\n",
        "h_generate_roi: saved herS3M09.3J1/4 roi label"
       ]
      },
      {
       "output_type": "stream",
       "stream": "stdout",
       "text": [
        "\n",
        "adata roi deleted in herS3M09"
       ]
      },
      {
       "output_type": "stream",
       "stream": "stdout",
       "text": [
        "\n",
        "adata roi_weights deleted in herS3M09"
       ]
      },
      {
       "output_type": "stream",
       "stream": "stdout",
       "text": [
        "\n",
        "h_generate_roi: saved herS3M09.3L1/4 roi label"
       ]
      },
      {
       "output_type": "stream",
       "stream": "stdout",
       "text": [
        "\n",
        "adata roi deleted in herS3M09"
       ]
      },
      {
       "output_type": "stream",
       "stream": "stdout",
       "text": [
        "\n",
        "adata roi_weights deleted in herS3M09"
       ]
      },
      {
       "output_type": "stream",
       "stream": "stdout",
       "text": [
        "\n",
        "h_generate_roi: saved herS3M09.3Q1/16 roi label"
       ]
      },
      {
       "output_type": "stream",
       "stream": "stdout",
       "text": [
        "\n",
        "adata roi deleted in herS3M09"
       ]
      },
      {
       "output_type": "stream",
       "stream": "stdout",
       "text": [
        "\n",
        "adata roi_weights deleted in herS3M09"
       ]
      },
      {
       "output_type": "stream",
       "stream": "stdout",
       "text": [
        "\n",
        "h_generate_roi: saved herS3M09.3X1/4 roi label"
       ]
      },
      {
       "output_type": "stream",
       "stream": "stdout",
       "text": [
        "\n",
        "\n",
        " \n",
        " ** WARNING ** \n",
        " \n",
        " Not found: herS3M10 and roi-4 \n",
        "\n",
        "adata roi deleted in herS3M10"
       ]
      },
      {
       "output_type": "stream",
       "stream": "stdout",
       "text": [
        "\n",
        "adata roi_weights deleted in herS3M10"
       ]
      },
      {
       "output_type": "stream",
       "stream": "stdout",
       "text": [
        "\n",
        "h_generate_roi: saved herS3M10.3J1/4 roi label"
       ]
      },
      {
       "output_type": "stream",
       "stream": "stdout",
       "text": [
        "\n",
        "\n",
        " \n",
        " ** WARNING ** \n",
        " \n",
        " Not found: herS3M10 and roi-1 \n",
        "\n",
        "\n",
        " \n",
        " ** WARNING ** \n",
        " \n",
        " Not found: herS3M10 and roi-2 \n",
        "\n",
        "\n",
        " \n",
        " ** WARNING ** \n",
        " \n",
        " Not found: herS3M10 and roi-3 \n",
        "\n",
        "\n",
        " \n",
        " ** WARNING ** \n",
        " \n",
        " Not found: herS3M11 and roi-4 \n",
        "\n",
        "adata roi deleted in herS3M11"
       ]
      },
      {
       "output_type": "stream",
       "stream": "stdout",
       "text": [
        "\n",
        "adata roi_weights deleted in herS3M11"
       ]
      },
      {
       "output_type": "stream",
       "stream": "stdout",
       "text": [
        "\n",
        "h_generate_roi: saved herS3M11.3J1/4 roi label"
       ]
      },
      {
       "output_type": "stream",
       "stream": "stdout",
       "text": [
        "\n",
        "adata roi deleted in herS3M11"
       ]
      },
      {
       "output_type": "stream",
       "stream": "stdout",
       "text": [
        "\n",
        "adata roi_weights deleted in herS3M11"
       ]
      },
      {
       "output_type": "stream",
       "stream": "stdout",
       "text": [
        "\n",
        "h_generate_roi: saved herS3M11.3L1/4 roi label"
       ]
      },
      {
       "output_type": "stream",
       "stream": "stdout",
       "text": [
        "\n",
        "\n",
        " \n",
        " ** WARNING ** \n",
        " \n",
        " Not found: herS3M11 and roi-2 \n",
        "\n",
        "\n",
        " \n",
        " ** WARNING ** \n",
        " \n",
        " Not found: herS3M11 and roi-3 \n",
        "\n",
        "\n",
        " \n",
        " ** WARNING ** \n",
        " \n",
        " Not found: herS3M12 and roi-4 \n",
        "\n",
        "adata roi deleted in herS3M12"
       ]
      },
      {
       "output_type": "stream",
       "stream": "stdout",
       "text": [
        "\n",
        "adata roi_weights deleted in herS3M12"
       ]
      },
      {
       "output_type": "stream",
       "stream": "stdout",
       "text": [
        "\n",
        "h_generate_roi: saved herS3M12.3J1/4 roi label"
       ]
      },
      {
       "output_type": "stream",
       "stream": "stdout",
       "text": [
        "\n",
        "adata roi deleted in herS3M12"
       ]
      },
      {
       "output_type": "stream",
       "stream": "stdout",
       "text": [
        "\n",
        "adata roi_weights deleted in herS3M12"
       ]
      },
      {
       "output_type": "stream",
       "stream": "stdout",
       "text": [
        "\n",
        "h_generate_roi: saved herS3M12.3L1/4 roi label"
       ]
      },
      {
       "output_type": "stream",
       "stream": "stdout",
       "text": [
        "\n",
        "adata roi deleted in herS3M12"
       ]
      },
      {
       "output_type": "stream",
       "stream": "stdout",
       "text": [
        "\n",
        "adata roi_weights deleted in herS3M12"
       ]
      },
      {
       "output_type": "stream",
       "stream": "stdout",
       "text": [
        "\n",
        "h_generate_roi: saved herS3M12.3Q1/4 roi label"
       ]
      },
      {
       "output_type": "stream",
       "stream": "stdout",
       "text": [
        "\n",
        "adata roi deleted in herS3M12"
       ]
      },
      {
       "output_type": "stream",
       "stream": "stdout",
       "text": [
        "\n",
        "adata roi_weights deleted in herS3M12"
       ]
      },
      {
       "output_type": "stream",
       "stream": "stdout",
       "text": [
        "\n",
        "h_generate_roi: saved herS3M12.3X1/4 roi label"
       ]
      },
      {
       "output_type": "stream",
       "stream": "stdout",
       "text": [
        "\n",
        "\n",
        " \n",
        " ** WARNING ** \n",
        " \n",
        " Not found: herS3M13 and roi-4 \n",
        "\n",
        "adata roi deleted in herS3M13"
       ]
      },
      {
       "output_type": "stream",
       "stream": "stdout",
       "text": [
        "\n",
        "adata roi_weights deleted in herS3M13"
       ]
      },
      {
       "output_type": "stream",
       "stream": "stdout",
       "text": [
        "\n",
        "h_generate_roi: saved herS3M13.3J1/4 roi label"
       ]
      },
      {
       "output_type": "stream",
       "stream": "stdout",
       "text": [
        "\n",
        "adata roi deleted in herS3M13"
       ]
      },
      {
       "output_type": "stream",
       "stream": "stdout",
       "text": [
        "\n",
        "adata roi_weights deleted in herS3M13"
       ]
      },
      {
       "output_type": "stream",
       "stream": "stdout",
       "text": [
        "\n",
        "h_generate_roi: saved herS3M13.3Q1/4 roi label"
       ]
      },
      {
       "output_type": "stream",
       "stream": "stdout",
       "text": [
        "\n",
        "adata roi deleted in herS3M13"
       ]
      },
      {
       "output_type": "stream",
       "stream": "stdout",
       "text": [
        "\n",
        "adata roi_weights deleted in herS3M13"
       ]
      },
      {
       "output_type": "stream",
       "stream": "stdout",
       "text": [
        "\n",
        "h_generate_roi: saved herS3M13.3X1/4 roi label"
       ]
      },
      {
       "output_type": "stream",
       "stream": "stdout",
       "text": [
        "\n",
        "adata roi deleted in herS3M13"
       ]
      },
      {
       "output_type": "stream",
       "stream": "stdout",
       "text": [
        "\n",
        "adata roi_weights deleted in herS3M13"
       ]
      },
      {
       "output_type": "stream",
       "stream": "stdout",
       "text": [
        "\n",
        "h_generate_roi: saved herS3M13.441/4 roi label"
       ]
      },
      {
       "output_type": "stream",
       "stream": "stdout",
       "text": [
        "\n",
        "\n",
        " \n",
        " ** WARNING ** \n",
        " \n",
        " Not found: herS3M14 and roi-4 \n",
        "\n",
        "adata roi deleted in herS3M14"
       ]
      },
      {
       "output_type": "stream",
       "stream": "stdout",
       "text": [
        "\n",
        "adata roi_weights deleted in herS3M14"
       ]
      },
      {
       "output_type": "stream",
       "stream": "stdout",
       "text": [
        "\n",
        "h_generate_roi: saved herS3M14.3J1/4 roi label"
       ]
      },
      {
       "output_type": "stream",
       "stream": "stdout",
       "text": [
        "\n",
        "adata roi deleted in herS3M14"
       ]
      },
      {
       "output_type": "stream",
       "stream": "stdout",
       "text": [
        "\n",
        "adata roi_weights deleted in herS3M14"
       ]
      },
      {
       "output_type": "stream",
       "stream": "stdout",
       "text": [
        "\n",
        "h_generate_roi: saved herS3M14.3Q1/5 roi label"
       ]
      },
      {
       "output_type": "stream",
       "stream": "stdout",
       "text": [
        "\n",
        "\n",
        " \n",
        " ** WARNING ** \n",
        " \n",
        " Not found: herS3M14 and roi-2 \n",
        "\n",
        "\n",
        " \n",
        " ** WARNING ** \n",
        " \n",
        " Not found: herS3M14 and roi-3 \n",
        "\n",
        "adata roi deleted in herS3M15"
       ]
      },
      {
       "output_type": "stream",
       "stream": "stdout",
       "text": [
        "\n",
        "adata roi_weights deleted in herS3M15"
       ]
      },
      {
       "output_type": "stream",
       "stream": "stdout",
       "text": [
        "\n",
        "h_generate_roi: saved herS3M15.441/4 roi label"
       ]
      },
      {
       "output_type": "stream",
       "stream": "stdout",
       "text": [
        "\n",
        "adata roi deleted in herS3M15"
       ]
      },
      {
       "output_type": "stream",
       "stream": "stdout",
       "text": [
        "\n",
        "adata roi_weights deleted in herS3M15"
       ]
      },
      {
       "output_type": "stream",
       "stream": "stdout",
       "text": [
        "\n",
        "h_generate_roi: saved herS3M15.3L1/5 roi label"
       ]
      },
      {
       "output_type": "stream",
       "stream": "stdout",
       "text": [
        "\n",
        "adata roi deleted in herS3M15"
       ]
      },
      {
       "output_type": "stream",
       "stream": "stdout",
       "text": [
        "\n",
        "adata roi_weights deleted in herS3M15"
       ]
      },
      {
       "output_type": "stream",
       "stream": "stdout",
       "text": [
        "\n",
        "h_generate_roi: saved herS3M15.3Q1/5 roi label"
       ]
      },
      {
       "output_type": "stream",
       "stream": "stdout",
       "text": [
        "\n",
        "adata roi deleted in herS3M15"
       ]
      },
      {
       "output_type": "stream",
       "stream": "stdout",
       "text": [
        "\n",
        "adata roi_weights deleted in herS3M15"
       ]
      },
      {
       "output_type": "stream",
       "stream": "stdout",
       "text": [
        "\n",
        "h_generate_roi: saved herS3M15.3X1/4 roi label"
       ]
      },
      {
       "output_type": "stream",
       "stream": "stdout",
       "text": [
        "\n",
        "adata roi deleted in herS3M15"
       ]
      },
      {
       "output_type": "stream",
       "stream": "stdout",
       "text": [
        "\n",
        "adata roi_weights deleted in herS3M15"
       ]
      },
      {
       "output_type": "stream",
       "stream": "stdout",
       "text": [
        "\n",
        "h_generate_roi: saved herS3M15.4b1/8 roi label"
       ]
      },
      {
       "output_type": "stream",
       "stream": "stdout",
       "text": [
        "\n",
        "\n",
        " \n",
        " ** WARNING ** \n",
        " \n",
        " Not found: herS3M16 and roi-4 \n",
        "\n",
        "adata roi deleted in herS3M16"
       ]
      },
      {
       "output_type": "stream",
       "stream": "stdout",
       "text": [
        "\n",
        "adata roi_weights deleted in herS3M16"
       ]
      },
      {
       "output_type": "stream",
       "stream": "stdout",
       "text": [
        "\n",
        "h_generate_roi: saved herS3M16.3P1/4 roi label"
       ]
      },
      {
       "output_type": "stream",
       "stream": "stdout",
       "text": [
        "\n",
        "adata roi deleted in herS3M16"
       ]
      },
      {
       "output_type": "stream",
       "stream": "stdout",
       "text": [
        "\n",
        "adata roi_weights deleted in herS3M16"
       ]
      },
      {
       "output_type": "stream",
       "stream": "stdout",
       "text": [
        "\n",
        "h_generate_roi: saved herS3M16.431/5 roi label"
       ]
      },
      {
       "output_type": "stream",
       "stream": "stdout",
       "text": [
        "\n",
        "\n",
        " \n",
        " ** WARNING ** \n",
        " \n",
        " Not found: herS3M16 and roi-2 \n",
        "\n",
        "\n",
        " \n",
        " ** WARNING ** \n",
        " \n",
        " Not found: herS3M16 and roi-3 \n",
        "\n",
        "\n",
        " \n",
        " ** WARNING ** \n",
        " \n",
        " Not found: herS3M17 and roi-4 \n",
        "\n",
        "adata roi deleted in herS3M17"
       ]
      },
      {
       "output_type": "stream",
       "stream": "stdout",
       "text": [
        "\n",
        "adata roi_weights deleted in herS3M17"
       ]
      },
      {
       "output_type": "stream",
       "stream": "stdout",
       "text": [
        "\n",
        "h_generate_roi: saved herS3M17.3P1/4 roi label"
       ]
      },
      {
       "output_type": "stream",
       "stream": "stdout",
       "text": [
        "\n",
        "adata roi deleted in herS3M17"
       ]
      },
      {
       "output_type": "stream",
       "stream": "stdout",
       "text": [
        "\n",
        "adata roi_weights deleted in herS3M17"
       ]
      },
      {
       "output_type": "stream",
       "stream": "stdout",
       "text": [
        "\n",
        "h_generate_roi: saved herS3M17.431/4 roi label"
       ]
      },
      {
       "output_type": "stream",
       "stream": "stdout",
       "text": [
        "\n",
        "\n",
        " \n",
        " ** WARNING ** \n",
        " \n",
        " Not found: herS3M17 and roi-2 \n",
        "\n",
        "\n",
        " \n",
        " ** WARNING ** \n",
        " \n",
        " Not found: herS3M17 and roi-3 \n",
        "\n",
        "\n",
        " \n",
        " ** WARNING ** \n",
        " \n",
        " Not found: herS3M19 and roi-4 \n",
        "\n",
        "adata roi deleted in herS3M19"
       ]
      },
      {
       "output_type": "stream",
       "stream": "stdout",
       "text": [
        "\n",
        "adata roi_weights deleted in herS3M19"
       ]
      },
      {
       "output_type": "stream",
       "stream": "stdout",
       "text": [
        "\n",
        "h_generate_roi: saved herS3M19.3P1/4 roi label"
       ]
      },
      {
       "output_type": "stream",
       "stream": "stdout",
       "text": [
        "\n",
        "adata roi deleted in herS3M19"
       ]
      },
      {
       "output_type": "stream",
       "stream": "stdout",
       "text": [
        "\n",
        "adata roi_weights deleted in herS3M19"
       ]
      },
      {
       "output_type": "stream",
       "stream": "stdout",
       "text": [
        "\n",
        "h_generate_roi: saved herS3M19.4a1/4 roi label"
       ]
      },
      {
       "output_type": "stream",
       "stream": "stdout",
       "text": [
        "\n",
        "adata roi deleted in herS3M19"
       ]
      },
      {
       "output_type": "stream",
       "stream": "stdout",
       "text": [
        "\n",
        "adata roi_weights deleted in herS3M19"
       ]
      },
      {
       "output_type": "stream",
       "stream": "stdout",
       "text": [
        "\n",
        "h_generate_roi: saved herS3M19.4h1/5 roi label"
       ]
      },
      {
       "output_type": "stream",
       "stream": "stdout",
       "text": [
        "\n",
        "adata roi deleted in herS3M19"
       ]
      },
      {
       "output_type": "stream",
       "stream": "stdout",
       "text": [
        "\n",
        "adata roi_weights deleted in herS3M19"
       ]
      },
      {
       "output_type": "stream",
       "stream": "stdout",
       "text": [
        "\n",
        "h_generate_roi: saved herS3M19.431/4 roi label"
       ]
      },
      {
       "output_type": "stream",
       "stream": "stdout",
       "text": [
        "\n",
        "\n",
        " \n",
        " ** WARNING ** \n",
        " \n",
        " Not found: herS3M20 and roi-4 \n",
        "\n",
        "adata roi deleted in herS3M20"
       ]
      },
      {
       "output_type": "stream",
       "stream": "stdout",
       "text": [
        "\n",
        "adata roi_weights deleted in herS3M20"
       ]
      },
      {
       "output_type": "stream",
       "stream": "stdout",
       "text": [
        "\n",
        "h_generate_roi: saved herS3M20.3P1/4 roi label"
       ]
      },
      {
       "output_type": "stream",
       "stream": "stdout",
       "text": [
        "\n",
        "adata roi deleted in herS3M20"
       ]
      },
      {
       "output_type": "stream",
       "stream": "stdout",
       "text": [
        "\n",
        "adata roi_weights deleted in herS3M20"
       ]
      },
      {
       "output_type": "stream",
       "stream": "stdout",
       "text": [
        "\n",
        "h_generate_roi: saved herS3M20.4a1/7 roi label"
       ]
      },
      {
       "output_type": "stream",
       "stream": "stdout",
       "text": [
        "\n",
        "adata roi deleted in herS3M20"
       ]
      },
      {
       "output_type": "stream",
       "stream": "stdout",
       "text": [
        "\n",
        "adata roi_weights deleted in herS3M20"
       ]
      },
      {
       "output_type": "stream",
       "stream": "stdout",
       "text": [
        "\n",
        "h_generate_roi: saved herS3M20.4h1/4 roi label"
       ]
      },
      {
       "output_type": "stream",
       "stream": "stdout",
       "text": [
        "\n",
        "adata roi deleted in herS3M20"
       ]
      },
      {
       "output_type": "stream",
       "stream": "stdout",
       "text": [
        "\n",
        "adata roi_weights deleted in herS3M20"
       ]
      },
      {
       "output_type": "stream",
       "stream": "stdout",
       "text": [
        "\n",
        "h_generate_roi: saved herS3M20.431/4 roi label"
       ]
      },
      {
       "output_type": "stream",
       "stream": "stdout",
       "text": [
        "\n",
        "\n",
        " \n",
        " ** WARNING ** \n",
        " \n",
        " Not found: herS3M21 and roi-4 \n",
        "\n",
        "adata roi deleted in herS3M21"
       ]
      },
      {
       "output_type": "stream",
       "stream": "stdout",
       "text": [
        "\n",
        "adata roi_weights deleted in herS3M21"
       ]
      },
      {
       "output_type": "stream",
       "stream": "stdout",
       "text": [
        "\n",
        "h_generate_roi: saved herS3M21.3X1/4 roi label"
       ]
      },
      {
       "output_type": "stream",
       "stream": "stdout",
       "text": [
        "\n",
        "adata roi deleted in herS3M21"
       ]
      },
      {
       "output_type": "stream",
       "stream": "stdout",
       "text": [
        "\n",
        "adata roi_weights deleted in herS3M21"
       ]
      },
      {
       "output_type": "stream",
       "stream": "stdout",
       "text": [
        "\n",
        "h_generate_roi: saved herS3M21.4b1/14 roi label"
       ]
      },
      {
       "output_type": "stream",
       "stream": "stdout",
       "text": [
        "\n",
        "adata roi deleted in herS3M21"
       ]
      },
      {
       "output_type": "stream",
       "stream": "stdout",
       "text": [
        "\n",
        "adata roi_weights deleted in herS3M21"
       ]
      },
      {
       "output_type": "stream",
       "stream": "stdout",
       "text": [
        "\n",
        "h_generate_roi: saved herS3M21.4i1/7 roi label"
       ]
      },
      {
       "output_type": "stream",
       "stream": "stdout",
       "text": [
        "\n",
        "adata roi deleted in herS3M21"
       ]
      },
      {
       "output_type": "stream",
       "stream": "stdout",
       "text": [
        "\n",
        "adata roi_weights deleted in herS3M21"
       ]
      },
      {
       "output_type": "stream",
       "stream": "stdout",
       "text": [
        "\n",
        "h_generate_roi: saved herS3M21.441/4 roi label"
       ]
      },
      {
       "output_type": "stream",
       "stream": "stdout",
       "text": [
        "\n",
        "adata roi deleted in herS3M22"
       ]
      },
      {
       "output_type": "stream",
       "stream": "stdout",
       "text": [
        "\n",
        "adata roi_weights deleted in herS3M22"
       ]
      },
      {
       "output_type": "stream",
       "stream": "stdout",
       "text": [
        "\n",
        "h_generate_roi: saved herS3M22.441/4 roi label"
       ]
      },
      {
       "output_type": "stream",
       "stream": "stdout",
       "text": [
        "\n",
        "adata roi deleted in herS3M22"
       ]
      },
      {
       "output_type": "stream",
       "stream": "stdout",
       "text": [
        "\n",
        "adata roi_weights deleted in herS3M22"
       ]
      },
      {
       "output_type": "stream",
       "stream": "stdout",
       "text": [
        "\n",
        "h_generate_roi: saved herS3M22.3X1/4 roi label"
       ]
      },
      {
       "output_type": "stream",
       "stream": "stdout",
       "text": [
        "\n",
        "adata roi deleted in herS3M22"
       ]
      },
      {
       "output_type": "stream",
       "stream": "stdout",
       "text": [
        "\n",
        "adata roi_weights deleted in herS3M22"
       ]
      },
      {
       "output_type": "stream",
       "stream": "stdout",
       "text": [
        "\n",
        "h_generate_roi: saved herS3M22.4b1/3 roi label"
       ]
      },
      {
       "output_type": "stream",
       "stream": "stdout",
       "text": [
        "\n",
        "\n",
        " \n",
        " ** WARNING ** \n",
        " \n",
        " Not found: herS3M22 and roi-2 \n",
        "\n",
        "adata roi deleted in herS3M22"
       ]
      },
      {
       "output_type": "stream",
       "stream": "stdout",
       "text": [
        "\n",
        "adata roi_weights deleted in herS3M22"
       ]
      },
      {
       "output_type": "stream",
       "stream": "stdout",
       "text": [
        "\n",
        "h_generate_roi: saved herS3M22.4i2/10 roi label"
       ]
      },
      {
       "output_type": "stream",
       "stream": "stdout",
       "text": [
        "\n",
        "\n",
        " \n",
        " ** WARNING ** \n",
        " \n",
        " Not found: herS3M23 and roi-4 \n",
        "\n",
        "adata roi deleted in herS3M23"
       ]
      },
      {
       "output_type": "stream",
       "stream": "stdout",
       "text": [
        "\n",
        "adata roi_weights deleted in herS3M23"
       ]
      },
      {
       "output_type": "stream",
       "stream": "stdout",
       "text": [
        "\n",
        "h_generate_roi: saved herS3M23.3X1/4 roi label"
       ]
      },
      {
       "output_type": "stream",
       "stream": "stdout",
       "text": [
        "\n",
        "adata roi deleted in herS3M23"
       ]
      },
      {
       "output_type": "stream",
       "stream": "stdout",
       "text": [
        "\n",
        "adata roi_weights deleted in herS3M23"
       ]
      },
      {
       "output_type": "stream",
       "stream": "stdout",
       "text": [
        "\n",
        "h_generate_roi: saved herS3M23.4b1/5 roi label"
       ]
      },
      {
       "output_type": "stream",
       "stream": "stdout",
       "text": [
        "\n",
        "adata roi deleted in herS3M23"
       ]
      },
      {
       "output_type": "stream",
       "stream": "stdout",
       "text": [
        "\n",
        "adata roi_weights deleted in herS3M23"
       ]
      },
      {
       "output_type": "stream",
       "stream": "stdout",
       "text": [
        "\n",
        "h_generate_roi: saved herS3M23.4i1/4 roi label"
       ]
      },
      {
       "output_type": "stream",
       "stream": "stdout",
       "text": [
        "\n",
        "adata roi deleted in herS3M23"
       ]
      },
      {
       "output_type": "stream",
       "stream": "stdout",
       "text": [
        "\n",
        "adata roi_weights deleted in herS3M23"
       ]
      },
      {
       "output_type": "stream",
       "stream": "stdout",
       "text": [
        "\n",
        "h_generate_roi: saved herS3M23.441/8 roi label"
       ]
      },
      {
       "output_type": "stream",
       "stream": "stdout",
       "text": [
        "\n",
        "Nifti images were processed in /Users/fmoosvi/sdata/HerS3/rois\n",
        "loading config file HerS3/HerS3.config\n",
        "herS3M01"
       ]
      },
      {
       "output_type": "stream",
       "stream": "stdout",
       "text": [
        "\n",
        "\t warning (SCAN #0 not found amongst the 08-Dyn-T2star-FLASH) \"T2star-0\" for herS3M01"
       ]
      },
      {
       "output_type": "stream",
       "stream": "stdout",
       "text": [
        "\n",
        "\t warning (SCAN #0 not found amongst the 08-Dyn-T2star-FLASH) \"T2star-1\" for herS3M01"
       ]
      },
      {
       "output_type": "stream",
       "stream": "stdout",
       "text": [
        "\n",
        "\t warning (SCAN #0 not found amongst the 08-Dyn-T2star-FLASH) \"T2star-2\" for herS3M01"
       ]
      },
      {
       "output_type": "stream",
       "stream": "stdout",
       "text": [
        "\n",
        "\t warning (STUDY #3 not found) \"roi-3\" for herS3M01\n",
        "\t warning (STUDY #3 not found) \"dce-3\" for herS3M01\n",
        "\t warning (STUDY #3 not found) \"T2star-3\" for herS3M01\n",
        "\t warning (STUDY #3 not found) \"diffusion-3\" for herS3M01\n",
        "\t warning (STUDY #4 not found) \"roi-4\" for herS3M01\n",
        "\t warning (STUDY #4 not found) \"dce-4\" for herS3M01\n",
        "\t warning (STUDY #4 not found) \"T2star-4\" for herS3M01\n",
        "\t warning (STUDY #4 not found) \"diffusion-4\" for herS3M01\n",
        "herS3M02\n",
        "\t warning (SCAN #0 not found amongst the 08-Dyn-T2star-FLASH) \"T2star-1\" for herS3M02"
       ]
      },
      {
       "output_type": "stream",
       "stream": "stdout",
       "text": [
        "\n",
        "\t warning (STUDY #3 not found) \"roi-3\" for herS3M02"
       ]
      },
      {
       "output_type": "stream",
       "stream": "stdout",
       "text": [
        "\n",
        "\t warning (STUDY #3 not found) \"dce-3\" for herS3M02\n",
        "\t warning (STUDY #3 not found) \"T2star-3\" for herS3M02\n",
        "\t warning (STUDY #3 not found) \"diffusion-3\" for herS3M02\n",
        "\t warning (STUDY #4 not found) \"roi-4\" for herS3M02\n",
        "\t warning (STUDY #4 not found) \"dce-4\" for herS3M02\n",
        "\t warning (STUDY #4 not found) \"T2star-4\" for herS3M02\n",
        "\t warning (STUDY #4 not found) \"diffusion-4\" for herS3M02\n",
        "herS3M03\n",
        "\t warning (SCAN #0 not found amongst the 08-Dyn-T2star-FLASH) \"T2star-1\" for herS3M03"
       ]
      },
      {
       "output_type": "stream",
       "stream": "stdout",
       "text": [
        "\n",
        "\t warning (STUDY #3 not found) \"roi-3\" for herS3M03"
       ]
      },
      {
       "output_type": "stream",
       "stream": "stdout",
       "text": [
        "\n",
        "\t warning (STUDY #3 not found) \"dce-3\" for herS3M03\n",
        "\t warning (STUDY #3 not found) \"T2star-3\" for herS3M03\n",
        "\t warning (STUDY #3 not found) \"diffusion-3\" for herS3M03\n",
        "\t warning (STUDY #4 not found) \"roi-4\" for herS3M03\n",
        "\t warning (STUDY #4 not found) \"dce-4\" for herS3M03\n",
        "\t warning (STUDY #4 not found) \"T2star-4\" for herS3M03\n",
        "\t warning (STUDY #4 not found) \"diffusion-4\" for herS3M03\n",
        "herS3M04\n",
        "\t warning (SCAN #0 not found amongst the 08-Dyn-T2star-FLASH) \"T2star-0\" for herS3M04"
       ]
      },
      {
       "output_type": "stream",
       "stream": "stdout",
       "text": [
        "\n",
        "\t warning (SCAN #0 not found amongst the 08-Dyn-T2star-FLASH) \"T2star-1\" for herS3M04"
       ]
      },
      {
       "output_type": "stream",
       "stream": "stdout",
       "text": [
        "\n",
        "\t warning (SCAN #0 not found amongst the 08-Dyn-T2star-FLASH) \"T2star-2\" for herS3M04"
       ]
      },
      {
       "output_type": "stream",
       "stream": "stdout",
       "text": [
        "\n",
        "\t warning (SCAN #0 not found amongst the 08-Dyn-T2star-FLASH) \"T2star-3\" for herS3M04"
       ]
      },
      {
       "output_type": "stream",
       "stream": "stdout",
       "text": [
        "\n",
        "\t warning (STUDY #4 not found) \"roi-4\" for herS3M04\n",
        "\t warning (STUDY #4 not found) \"dce-4\" for herS3M04\n",
        "\t warning (STUDY #4 not found) \"T2star-4\" for herS3M04\n",
        "\t warning (STUDY #4 not found) \"diffusion-4\" for herS3M04\n",
        "herS3M05\n",
        "\t warning (SCAN #0 not found amongst the 08-Dyn-T2star-FLASH) \"T2star-0\" for herS3M05"
       ]
      },
      {
       "output_type": "stream",
       "stream": "stdout",
       "text": [
        "\n",
        "\t warning (SCAN #0 not found amongst the 08-Dyn-T2star-FLASH) \"T2star-1\" for herS3M05"
       ]
      },
      {
       "output_type": "stream",
       "stream": "stdout",
       "text": [
        "\n",
        "\t warning (SCAN #0 not found amongst the 08-Dyn-T2star-FLASH) \"T2star-2\" for herS3M05"
       ]
      },
      {
       "output_type": "stream",
       "stream": "stdout",
       "text": [
        "\n",
        "\t warning (STUDY #3 not found) \"roi-3\" for herS3M05\n",
        "\t warning (STUDY #3 not found) \"dce-3\" for herS3M05\n",
        "\t warning (STUDY #3 not found) \"T2star-3\" for herS3M05\n",
        "\t warning (STUDY #3 not found) \"diffusion-3\" for herS3M05\n",
        "\t warning (STUDY #4 not found) \"roi-4\" for herS3M05\n",
        "\t warning (STUDY #4 not found) \"dce-4\" for herS3M05\n",
        "\t warning (STUDY #4 not found) \"T2star-4\" for herS3M05\n",
        "\t warning (STUDY #4 not found) \"diffusion-4\" for herS3M05\n",
        "herS3M06\n",
        "\t warning (SCAN #0 not found amongst the 08-Dyn-T2star-FLASH) \"T2star-1\" for herS3M06"
       ]
      },
      {
       "output_type": "stream",
       "stream": "stdout",
       "text": [
        "\n",
        "\t warning (STUDY #3 not found) \"roi-3\" for herS3M06"
       ]
      },
      {
       "output_type": "stream",
       "stream": "stdout",
       "text": [
        "\n",
        "\t warning (STUDY #3 not found) \"dce-3\" for herS3M06\n",
        "\t warning (STUDY #3 not found) \"T2star-3\" for herS3M06\n",
        "\t warning (STUDY #3 not found) \"diffusion-3\" for herS3M06\n",
        "\t warning (STUDY #4 not found) \"roi-4\" for herS3M06\n",
        "\t warning (STUDY #4 not found) \"dce-4\" for herS3M06\n",
        "\t warning (STUDY #4 not found) \"T2star-4\" for herS3M06\n",
        "\t warning (STUDY #4 not found) \"diffusion-4\" for herS3M06\n",
        "herS3M07\n",
        "\t warning (SCAN #0 not found amongst the 08-Dyn-T2star-FLASH) \"T2star-0\" for herS3M07"
       ]
      },
      {
       "output_type": "stream",
       "stream": "stdout",
       "text": [
        "\n",
        "\t warning (SCAN #0 not found amongst the 08-Dyn-T2star-FLASH) \"T2star-1\" for herS3M07"
       ]
      },
      {
       "output_type": "stream",
       "stream": "stdout",
       "text": [
        "\n",
        "\t warning (SCAN #0 not found amongst the 08-Dyn-T2star-FLASH) \"T2star-2\" for herS3M07"
       ]
      },
      {
       "output_type": "stream",
       "stream": "stdout",
       "text": [
        "\n",
        "\t warning (SCAN #0 not found amongst the 08-Dyn-T2star-FLASH) \"T2star-3\" for herS3M07"
       ]
      },
      {
       "output_type": "stream",
       "stream": "stdout",
       "text": [
        "\n",
        "\t warning (STUDY #4 not found) \"roi-4\" for herS3M07\n",
        "\t warning (STUDY #4 not found) \"dce-4\" for herS3M07\n",
        "\t warning (STUDY #4 not found) \"T2star-4\" for herS3M07\n",
        "\t warning (STUDY #4 not found) \"diffusion-4\" for herS3M07\n",
        "herS3M08\n",
        "\t warning (SCAN #0 not found amongst the 08-Dyn-T2star-FLASH) \"T2star-1\" for herS3M08"
       ]
      },
      {
       "output_type": "stream",
       "stream": "stdout",
       "text": [
        "\n",
        "\t warning (SCAN #0 not found amongst the 07-FLASH3D 07-FLASH3D-DCE) \"dce-4\" for herS3M08"
       ]
      },
      {
       "output_type": "stream",
       "stream": "stdout",
       "text": [
        "\n",
        "herS3M09\n",
        "\t warning (SCAN #0 not found amongst the 08-Dyn-T2star-FLASH) \"T2star-0\" for herS3M09"
       ]
      },
      {
       "output_type": "stream",
       "stream": "stdout",
       "text": [
        "\n",
        "\t warning (SCAN #0 not found amongst the 08-Dyn-T2star-FLASH) \"T2star-1\" for herS3M09"
       ]
      },
      {
       "output_type": "stream",
       "stream": "stdout",
       "text": [
        "\n",
        "\t warning (SCAN #0 not found amongst the 08-Dyn-T2star-FLASH) \"T2star-2\" for herS3M09"
       ]
      },
      {
       "output_type": "stream",
       "stream": "stdout",
       "text": [
        "\n",
        "\t warning (SCAN #0 not found amongst the 08-Dyn-T2star-FLASH) \"T2star-3\" for herS3M09"
       ]
      },
      {
       "output_type": "stream",
       "stream": "stdout",
       "text": [
        "\n",
        "\t warning (STUDY #4 not found) \"roi-4\" for herS3M09\n",
        "\t warning (STUDY #4 not found) \"dce-4\" for herS3M09\n",
        "\t warning (STUDY #4 not found) \"T2star-4\" for herS3M09\n",
        "\t warning (STUDY #4 not found) \"diffusion-4\" for herS3M09\n",
        "herS3M10\n",
        "\t warning (SCAN #0 not found amongst the 08-Dyn-T2star-FLASH) \"T2star-0\" for herS3M10"
       ]
      },
      {
       "output_type": "stream",
       "stream": "stdout",
       "text": [
        "\n",
        "\t warning (STUDY #1 not found) \"roi-1\" for herS3M10\n",
        "\t warning (STUDY #1 not found) \"dce-1\" for herS3M10\n",
        "\t warning (STUDY #1 not found) \"T2star-1\" for herS3M10\n",
        "\t warning (STUDY #1 not found) \"diffusion-1\" for herS3M10\n",
        "\t warning (STUDY #2 not found) \"roi-2\" for herS3M10\n",
        "\t warning (STUDY #2 not found) \"dce-2\" for herS3M10\n",
        "\t warning (STUDY #2 not found) \"T2star-2\" for herS3M10\n",
        "\t warning (STUDY #2 not found) \"diffusion-2\" for herS3M10\n",
        "\t warning (STUDY #3 not found) \"roi-3\" for herS3M10\n",
        "\t warning (STUDY #3 not found) \"dce-3\" for herS3M10\n",
        "\t warning (STUDY #3 not found) \"T2star-3\" for herS3M10\n",
        "\t warning (STUDY #3 not found) \"diffusion-3\" for herS3M10\n",
        "\t warning (STUDY #4 not found) \"roi-4\" for herS3M10\n",
        "\t warning (STUDY #4 not found) \"dce-4\" for herS3M10\n",
        "\t warning (STUDY #4 not found) \"T2star-4\" for herS3M10\n",
        "\t warning (STUDY #4 not found) \"diffusion-4\" for herS3M10\n",
        "herS3M11\n",
        "\t warning (SCAN #0 not found amongst the 08-Dyn-T2star-FLASH) \"T2star-1\" for herS3M11"
       ]
      },
      {
       "output_type": "stream",
       "stream": "stdout",
       "text": [
        "\n",
        "\t warning (STUDY #2 not found) \"roi-2\" for herS3M11\n",
        "\t warning (STUDY #2 not found) \"dce-2\" for herS3M11\n",
        "\t warning (STUDY #2 not found) \"T2star-2\" for herS3M11\n",
        "\t warning (STUDY #2 not found) \"diffusion-2\" for herS3M11\n",
        "\t warning (STUDY #3 not found) \"roi-3\" for herS3M11\n",
        "\t warning (STUDY #3 not found) \"dce-3\" for herS3M11\n",
        "\t warning (STUDY #3 not found) \"T2star-3\" for herS3M11\n",
        "\t warning (STUDY #3 not found) \"diffusion-3\" for herS3M11\n",
        "\t warning (STUDY #4 not found) \"roi-4\" for herS3M11\n",
        "\t warning (STUDY #4 not found) \"dce-4\" for herS3M11\n",
        "\t warning (STUDY #4 not found) \"T2star-4\" for herS3M11\n",
        "\t warning (STUDY #4 not found) \"diffusion-4\" for herS3M11\n",
        "herS3M12\n",
        "\t warning (SCAN #0 not found amongst the 08-Dyn-T2star-FLASH) \"T2star-0\" for herS3M12"
       ]
      },
      {
       "output_type": "stream",
       "stream": "stdout",
       "text": [
        "\n",
        "\t warning (SCAN #0 not found amongst the 08-Dyn-T2star-FLASH) \"T2star-1\" for herS3M12"
       ]
      },
      {
       "output_type": "stream",
       "stream": "stdout",
       "text": [
        "\n",
        "\t warning (SCAN #0 not found amongst the 08-Dyn-T2star-FLASH) \"T2star-2\" for herS3M12"
       ]
      },
      {
       "output_type": "stream",
       "stream": "stdout",
       "text": [
        "\n",
        "\t warning (SCAN #0 not found amongst the 08-Dyn-T2star-FLASH) \"T2star-3\" for herS3M12"
       ]
      },
      {
       "output_type": "stream",
       "stream": "stdout",
       "text": [
        "\n",
        "\t warning (STUDY #4 not found) \"roi-4\" for herS3M12\n",
        "\t warning (STUDY #4 not found) \"dce-4\" for herS3M12\n",
        "\t warning (STUDY #4 not found) \"T2star-4\" for herS3M12\n",
        "\t warning (STUDY #4 not found) \"diffusion-4\" for herS3M12\n",
        "herS3M13\n",
        "\t warning (SCAN #0 not found amongst the 08-Dyn-T2star-FLASH) \"T2star-0\" for herS3M13"
       ]
      },
      {
       "output_type": "stream",
       "stream": "stdout",
       "text": [
        "\n",
        "\t warning (SCAN #0 not found amongst the 08-Dyn-T2star-FLASH) \"T2star-1\" for herS3M13"
       ]
      },
      {
       "output_type": "stream",
       "stream": "stdout",
       "text": [
        "\n",
        "\t warning (SCAN #0 not found amongst the 08-Dyn-T2star-FLASH) \"T2star-2\" for herS3M13"
       ]
      },
      {
       "output_type": "stream",
       "stream": "stdout",
       "text": [
        "\n",
        "\t warning (SCAN #0 not found amongst the 08-Dyn-T2star-FLASH) \"T2star-3\" for herS3M13"
       ]
      },
      {
       "output_type": "stream",
       "stream": "stdout",
       "text": [
        "\n",
        "\t warning (STUDY #4 not found) \"roi-4\" for herS3M13\n",
        "\t warning (STUDY #4 not found) \"dce-4\" for herS3M13\n",
        "\t warning (STUDY #4 not found) \"T2star-4\" for herS3M13\n",
        "\t warning (STUDY #4 not found) \"diffusion-4\" for herS3M13\n",
        "herS3M14\n",
        "\t warning (SCAN #0 not found amongst the 08-Dyn-T2star-FLASH) \"T2star-0\" for herS3M14"
       ]
      },
      {
       "output_type": "stream",
       "stream": "stdout",
       "text": [
        "\n",
        "\t warning (SCAN #0 not found amongst the 08-Dyn-T2star-FLASH) \"T2star-1\" for herS3M14"
       ]
      },
      {
       "output_type": "stream",
       "stream": "stdout",
       "text": [
        "\n",
        "\t warning (STUDY #2 not found) \"roi-2\" for herS3M14\n",
        "\t warning (STUDY #2 not found) \"dce-2\" for herS3M14\n",
        "\t warning (STUDY #2 not found) \"T2star-2\" for herS3M14\n",
        "\t warning (STUDY #2 not found) \"diffusion-2\" for herS3M14\n",
        "\t warning (STUDY #3 not found) \"roi-3\" for herS3M14\n",
        "\t warning (STUDY #3 not found) \"dce-3\" for herS3M14\n",
        "\t warning (STUDY #3 not found) \"T2star-3\" for herS3M14\n",
        "\t warning (STUDY #3 not found) \"diffusion-3\" for herS3M14\n",
        "\t warning (STUDY #4 not found) \"roi-4\" for herS3M14\n",
        "\t warning (STUDY #4 not found) \"dce-4\" for herS3M14\n",
        "\t warning (STUDY #4 not found) \"T2star-4\" for herS3M14\n",
        "\t warning (STUDY #4 not found) \"diffusion-4\" for herS3M14\n",
        "herS3M15\n",
        "\t warning (SCAN #0 not found amongst the 08-Dyn-T2star-FLASH) \"T2star-0\" for herS3M15"
       ]
      },
      {
       "output_type": "stream",
       "stream": "stdout",
       "text": [
        "\n",
        "\t warning (SCAN #0 not found amongst the 08-Dyn-T2star-FLASH) \"T2star-1\" for herS3M15"
       ]
      },
      {
       "output_type": "stream",
       "stream": "stdout",
       "text": [
        "\n",
        "\t warning (SCAN #0 not found amongst the 08-Dyn-T2star-FLASH) \"T2star-2\" for herS3M15"
       ]
      },
      {
       "output_type": "stream",
       "stream": "stdout",
       "text": [
        "\n",
        "\t warning (SCAN #0 not found amongst the 08-Dyn-T2star-FLASH) \"T2star-3\" for herS3M15"
       ]
      },
      {
       "output_type": "stream",
       "stream": "stdout",
       "text": [
        "\n",
        "\t warning (SCAN #0 not found amongst the 07-FLASH3D 07-FLASH3D-DCE) \"dce-4\" for herS3M15"
       ]
      },
      {
       "output_type": "stream",
       "stream": "stdout",
       "text": [
        "\n",
        "\t warning (SCAN #0 not found amongst the 08-Dyn-T2star-FLASH) \"T2star-4\" for herS3M15\n",
        "herS3M16\n",
        "\t warning (SCAN #0 not found amongst the 08-Dyn-T2star-FLASH) \"T2star-0\" for herS3M16"
       ]
      },
      {
       "output_type": "stream",
       "stream": "stdout",
       "text": [
        "\n",
        "\t warning (SCAN #0 not found amongst the 08-Dyn-T2star-FLASH) \"T2star-1\" for herS3M16"
       ]
      },
      {
       "output_type": "stream",
       "stream": "stdout",
       "text": [
        "\n",
        "\t warning (STUDY #2 not found) \"roi-2\" for herS3M16\n",
        "\t warning (STUDY #2 not found) \"dce-2\" for herS3M16\n",
        "\t warning (STUDY #2 not found) \"T2star-2\" for herS3M16\n",
        "\t warning (STUDY #2 not found) \"diffusion-2\" for herS3M16\n",
        "\t warning (STUDY #3 not found) \"roi-3\" for herS3M16\n",
        "\t warning (STUDY #3 not found) \"dce-3\" for herS3M16\n",
        "\t warning (STUDY #3 not found) \"T2star-3\" for herS3M16\n",
        "\t warning (STUDY #3 not found) \"diffusion-3\" for herS3M16\n",
        "\t warning (STUDY #4 not found) \"roi-4\" for herS3M16\n",
        "\t warning (STUDY #4 not found) \"dce-4\" for herS3M16\n",
        "\t warning (STUDY #4 not found) \"T2star-4\" for herS3M16\n",
        "\t warning (STUDY #4 not found) \"diffusion-4\" for herS3M16\n",
        "herS3M17\n",
        "\t warning (SCAN #0 not found amongst the 08-Dyn-T2star-FLASH) \"T2star-0\" for herS3M17"
       ]
      },
      {
       "output_type": "stream",
       "stream": "stdout",
       "text": [
        "\n",
        "\t warning (SCAN #0 not found amongst the 08-Dyn-T2star-FLASH) \"T2star-1\" for herS3M17"
       ]
      },
      {
       "output_type": "stream",
       "stream": "stdout",
       "text": [
        "\n",
        "\t warning (STUDY #2 not found) \"roi-2\" for herS3M17\n",
        "\t warning (STUDY #2 not found) \"dce-2\" for herS3M17\n",
        "\t warning (STUDY #2 not found) \"T2star-2\" for herS3M17\n",
        "\t warning (STUDY #2 not found) \"diffusion-2\" for herS3M17\n",
        "\t warning (STUDY #3 not found) \"roi-3\" for herS3M17\n",
        "\t warning (STUDY #3 not found) \"dce-3\" for herS3M17\n",
        "\t warning (STUDY #3 not found) \"T2star-3\" for herS3M17\n",
        "\t warning (STUDY #3 not found) \"diffusion-3\" for herS3M17\n",
        "\t warning (STUDY #4 not found) \"roi-4\" for herS3M17\n",
        "\t warning (STUDY #4 not found) \"dce-4\" for herS3M17\n",
        "\t warning (STUDY #4 not found) \"T2star-4\" for herS3M17\n",
        "\t warning (STUDY #4 not found) \"diffusion-4\" for herS3M17\n",
        "herS3M19\n",
        "\t warning (SCAN #0 not found amongst the 08-Dyn-T2star-FLASH) \"T2star-0\" for herS3M19"
       ]
      },
      {
       "output_type": "stream",
       "stream": "stdout",
       "text": [
        "\n",
        "\t warning (SCAN #0 not found amongst the 08-Dyn-T2star-FLASH) \"T2star-1\" for herS3M19"
       ]
      },
      {
       "output_type": "stream",
       "stream": "stdout",
       "text": [
        "\n",
        "\t warning (SCAN #0 not found amongst the 08-Dyn-T2star-FLASH) \"T2star-2\" for herS3M19"
       ]
      },
      {
       "output_type": "stream",
       "stream": "stdout",
       "text": [
        "\n",
        "\t warning (SCAN #0 not found amongst the 08-Dyn-T2star-FLASH) \"T2star-3\" for herS3M19"
       ]
      },
      {
       "output_type": "stream",
       "stream": "stdout",
       "text": [
        "\n",
        "\t warning (STUDY #4 not found) \"roi-4\" for herS3M19\n",
        "\t warning (STUDY #4 not found) \"dce-4\" for herS3M19\n",
        "\t warning (STUDY #4 not found) \"T2star-4\" for herS3M19\n",
        "\t warning (STUDY #4 not found) \"diffusion-4\" for herS3M19\n",
        "herS3M20\n",
        "\t warning (SCAN #0 not found amongst the 08-Dyn-T2star-FLASH) \"T2star-0\" for herS3M20"
       ]
      },
      {
       "output_type": "stream",
       "stream": "stdout",
       "text": [
        "\n",
        "\t warning (SCAN #0 not found amongst the 04-16shot-EPI-dw-sl-1.0-1.5) \"diffusion-0\" for herS3M20\n",
        "\t warning (SCAN #0 not found amongst the 08-Dyn-T2star-FLASH) \"T2star-1\" for herS3M20"
       ]
      },
      {
       "output_type": "stream",
       "stream": "stdout",
       "text": [
        "\n",
        "\t warning (SCAN #0 not found amongst the 08-Dyn-T2star-FLASH) \"T2star-2\" for herS3M20"
       ]
      },
      {
       "output_type": "stream",
       "stream": "stdout",
       "text": [
        "\n",
        "\t warning (SCAN #0 not found amongst the 08-Dyn-T2star-FLASH) \"T2star-3\" for herS3M20"
       ]
      },
      {
       "output_type": "stream",
       "stream": "stdout",
       "text": [
        "\n",
        "\t warning (STUDY #4 not found) \"roi-4\" for herS3M20\n",
        "\t warning (STUDY #4 not found) \"dce-4\" for herS3M20\n",
        "\t warning (STUDY #4 not found) \"T2star-4\" for herS3M20\n",
        "\t warning (STUDY #4 not found) \"diffusion-4\" for herS3M20\n",
        "herS3M21\n",
        "\t warning (STUDY #4 not found) \"roi-4\" for herS3M21"
       ]
      },
      {
       "output_type": "stream",
       "stream": "stdout",
       "text": [
        "\n",
        "\t warning (STUDY #4 not found) \"dce-4\" for herS3M21\n",
        "\t warning (STUDY #4 not found) \"T2star-4\" for herS3M21\n",
        "\t warning (STUDY #4 not found) \"diffusion-4\" for herS3M21\n",
        "herS3M22\n",
        "\t warning (SCAN #-1 not found amongst the 03_RARE_T2w) \"roi-2\" for herS3M22"
       ]
      },
      {
       "output_type": "stream",
       "stream": "stdout",
       "text": [
        "\n",
        "\t warning (SCAN #0 not found amongst the 07-FLASH3D) \"dce-2\" for herS3M22\n",
        "\t warning (SCAN #0 not found amongst the 08-Dyn-T2star-FLASH) \"T2star-2\" for herS3M22\n",
        "\t warning (SCAN #0 not found amongst the 04-16shot-EPI-dw-sl-1.0-1.5) \"diffusion-2\" for herS3M22\n",
        "\t warning (SCAN #0 not found amongst the 07-FLASH3D 07-FLASH3D-DCE) \"dce-4\" for herS3M22"
       ]
      },
      {
       "output_type": "stream",
       "stream": "stdout",
       "text": [
        "\n",
        "herS3M23\n",
        "\t warning (SCAN #0 not found amongst the 08-Dyn-T2star-FLASH) \"T2star-0\" for herS3M23"
       ]
      },
      {
       "output_type": "stream",
       "stream": "stdout",
       "text": [
        "\n",
        "\t warning (STUDY #4 not found) \"roi-4\" for herS3M23"
       ]
      },
      {
       "output_type": "stream",
       "stream": "stdout",
       "text": [
        "\n",
        "\t warning (STUDY #4 not found) \"dce-4\" for herS3M23\n",
        "\t warning (STUDY #4 not found) \"T2star-4\" for herS3M23\n",
        "\t warning (STUDY #4 not found) \"diffusion-4\" for herS3M23\n",
        "wrote master_list to /Users/fmoosvi/sdata/HerS3/HerS3.json"
       ]
      },
      {
       "output_type": "stream",
       "stream": "stdout",
       "text": [
        "\n"
       ]
      }
     ],
     "prompt_number": 4
    },
    {
     "cell_type": "code",
     "collapsed": false,
     "input": [
      "analyses = collections.OrderedDict()\n",
      "fFlag = True\n",
      "\n",
      "## AUC 60\n",
      "analyses['auc']={'scan_label':'dce-[0-9]*',\n",
      "                 'adata_save_label':'auc60',\n",
      "                 'force_overwrite':fFlag}\n",
      "## VTC\n",
      "analyses['vtc']={'scan_label':'dce-[0-9]*',\n",
      "                 'adata_save_label':'vtc',\n",
      "                 'force_overwrite':fFlag}\n",
      "## T1 Map\n",
      "\n",
      "\n",
      "for atype in analyses:\n",
      "    \n",
      "    toAnalyze = True\n",
      "           \n",
      "    if atype == 'auc':\n",
      "            \n",
      "        def myfunc(dict_of_params):\n",
      "            import sarpy.fmoosvi.analysis            \n",
      "            reload(sarpy.fmoosvi.analysis)\n",
      "            \n",
      "            return sarpy.fmoosvi.analysis.h_calculate_AUC(**dict_of_params)\n",
      "        \n",
      "    elif atype == 'vtc':\n",
      "        toAnalyze = False\n",
      "\n",
      "        def myfunc(dict_of_params):\n",
      "        \n",
      "            import sarpy.fmoosvi.analysis\n",
      "            import sarpy.fmoosvi.getters\n",
      "            reload(sarpy.fmoosvi.analysis)\n",
      "            reload(sarpy.fmoosvi.getters)\n",
      "            \n",
      "            return sarpy.fmoosvi.analysis.h_generate_VTC(**dict_of_params)   \n",
      "        \n",
      "    else:\n",
      "        \n",
      "        toAnalyze = False        \n",
      "\n",
      "    if toAnalyze:\n",
      "        \n",
      "        an = sarpy.io.bulk_analyze.ParallelBulkAnalyzerFactory.from_function(\n",
      "                            myfunc,\n",
      "                            ipython_profile='sarlab',\n",
      "                            masterlist_fname=masterlist,\n",
      "                            **analyses[atype])\n",
      "        an.process()\n",
      "\n",
      "print('Analysis Complete')"
     ],
     "language": "python",
     "metadata": {},
     "outputs": [
      {
       "output_type": "stream",
       "stream": "stdout",
       "text": [
        "###########\n",
        "Currently, there are 16 clients running\n",
        "importing os on engine(s)\n",
        "importing sys on engine(s)"
       ]
      },
      {
       "output_type": "stream",
       "stream": "stdout",
       "text": [
        "\n",
        "importing sarpy on engine(s)\n",
        "importing sarpy.fmoosvi.analysis on engine(s)\n",
        "###########"
       ]
      },
      {
       "output_type": "stream",
       "stream": "stdout",
       "text": [
        "\n",
        "ZeroDivisionError() for herS3M02.3W1/14 "
       ]
      },
      {
       "output_type": "stream",
       "stream": "stdout",
       "text": [
        "\n",
        "adata auc60 deleted in herS3M04"
       ]
      },
      {
       "output_type": "stream",
       "stream": "stdout",
       "text": [
        "\n",
        "auc60 overwritten in herS3M04.3J1/13, job id ...ddd58 done on E 15 "
       ]
      },
      {
       "output_type": "stream",
       "stream": "stdout",
       "text": [
        "\n",
        "adata auc60 deleted in herS3M05"
       ]
      },
      {
       "output_type": "stream",
       "stream": "stdout",
       "text": [
        "\n",
        "auc60 overwritten in herS3M05.3P1/13, job id ...12c8c done on E 8 "
       ]
      },
      {
       "output_type": "stream",
       "stream": "stdout",
       "text": [
        "\n",
        "adata auc60 deleted in herS3M05"
       ]
      },
      {
       "output_type": "stream",
       "stream": "stdout",
       "text": [
        "\n",
        "auc60 overwritten in herS3M05.3I1/13, job id ...ac03a done on E 9 "
       ]
      },
      {
       "output_type": "stream",
       "stream": "stdout",
       "text": [
        "\n",
        "adata auc60 deleted in herS3M03"
       ]
      },
      {
       "output_type": "stream",
       "stream": "stdout",
       "text": [
        "\n",
        "auc60 overwritten in herS3M03.3W1/14, job id ...962e5 done on E 10 "
       ]
      },
      {
       "output_type": "stream",
       "stream": "stdout",
       "text": [
        "\n",
        "adata auc60 deleted in herS3M01"
       ]
      },
      {
       "output_type": "stream",
       "stream": "stdout",
       "text": [
        "\n",
        "auc60 overwritten in herS3M01.3W1/13, job id ...d81c4 done on E 13 "
       ]
      },
      {
       "output_type": "stream",
       "stream": "stdout",
       "text": [
        "\n",
        "adata auc60 deleted in herS3M02"
       ]
      },
      {
       "output_type": "stream",
       "stream": "stdout",
       "text": [
        "\n",
        "auc60 overwritten in herS3M02.3I1/13, job id ...02922 done on E 3 "
       ]
      },
      {
       "output_type": "stream",
       "stream": "stdout",
       "text": [
        "\n",
        "adata auc60 deleted in herS3M02\n",
        "auc60 overwritten in herS3M02.3P1/13, job id ...0b012 done on E 2 "
       ]
      },
      {
       "output_type": "stream",
       "stream": "stdout",
       "text": [
        "\n",
        "adata auc60 deleted in herS3M04"
       ]
      },
      {
       "output_type": "stream",
       "stream": "stdout",
       "text": [
        "\n",
        "auc60 overwritten in herS3M04.3I1/13, job id ...d486a done on E 4 "
       ]
      },
      {
       "output_type": "stream",
       "stream": "stdout",
       "text": [
        "\n",
        "adata auc60 deleted in herS3M04"
       ]
      },
      {
       "output_type": "stream",
       "stream": "stdout",
       "text": [
        "\n",
        "auc60 overwritten in herS3M04.3X1/13, job id ...be166 done on E 12 "
       ]
      },
      {
       "output_type": "stream",
       "stream": "stdout",
       "text": [
        "\n",
        "adata auc60 deleted in herS3M01"
       ]
      },
      {
       "output_type": "stream",
       "stream": "stdout",
       "text": [
        "\n",
        "auc60 overwritten in herS3M01.3P1/13, job id ...1f840 done on E 1 "
       ]
      },
      {
       "output_type": "stream",
       "stream": "stdout",
       "text": [
        "\n",
        "adata auc60 deleted in herS3M05"
       ]
      },
      {
       "output_type": "stream",
       "stream": "stdout",
       "text": [
        "\n",
        "auc60 overwritten in herS3M05.3W1/13, job id ...01ac9 done on E 0 "
       ]
      },
      {
       "output_type": "stream",
       "stream": "stdout",
       "text": [
        "\n",
        "adata auc60 deleted in herS3M03"
       ]
      },
      {
       "output_type": "stream",
       "stream": "stdout",
       "text": [
        "\n",
        "auc60 overwritten in herS3M03.3I1/13, job id ...a7407 done on E 11 "
       ]
      },
      {
       "output_type": "stream",
       "stream": "stdout",
       "text": [
        "\n",
        "adata auc60 deleted in herS3M03\n",
        "auc60 overwritten in herS3M03.3P1/13, job id ...7ab69 done on E 7 "
       ]
      },
      {
       "output_type": "stream",
       "stream": "stdout",
       "text": [
        "\n",
        "AttributeError('NoneType' object has no attribute 'VisuCoreDim') for herS3M09.3X1/13 \n",
        "adata auc60 deleted in herS3M01"
       ]
      },
      {
       "output_type": "stream",
       "stream": "stdout",
       "text": [
        "\n",
        "auc60 overwritten in herS3M01.3I1/18, job id ...faad6 done on E 5 "
       ]
      },
      {
       "output_type": "stream",
       "stream": "stdout",
       "text": [
        "\n",
        "adata auc60 deleted in herS3M04\n",
        "auc60 overwritten in herS3M04.3Q1/13, job id ...b53e2 done on E 14 "
       ]
      },
      {
       "output_type": "stream",
       "stream": "stdout",
       "text": [
        "\n",
        "adata auc60 deleted in herS3M07\n",
        "auc60 overwritten in herS3M07.3Q1/13, job id ...89551 done on E 9 "
       ]
      },
      {
       "output_type": "stream",
       "stream": "stdout",
       "text": [
        "\n",
        "adata auc60 deleted in herS3M06\n",
        "auc60 overwritten in herS3M06.3I1/13, job id ...336b9 done on E 15 "
       ]
      },
      {
       "output_type": "stream",
       "stream": "stdout",
       "text": [
        "\n",
        "adata auc60 deleted in herS3M07"
       ]
      },
      {
       "output_type": "stream",
       "stream": "stdout",
       "text": [
        "\n",
        "auc60 overwritten in herS3M07.3J1/13, job id ...0d1de done on E 12 "
       ]
      },
      {
       "output_type": "stream",
       "stream": "stdout",
       "text": [
        "\n",
        "adata auc60 deleted in herS3M07"
       ]
      },
      {
       "output_type": "stream",
       "stream": "stdout",
       "text": [
        "\n",
        "auc60 overwritten in herS3M07.3I1/13, job id ...3179c done on E 8 "
       ]
      },
      {
       "output_type": "stream",
       "stream": "stdout",
       "text": [
        "\n",
        "adata auc60 deleted in herS3M13"
       ]
      },
      {
       "output_type": "stream",
       "stream": "stdout",
       "text": [
        "\n",
        "auc60 overwritten in herS3M13.3Q1/13, job id ...dec62 done on E 5 "
       ]
      },
      {
       "output_type": "stream",
       "stream": "stdout",
       "text": [
        "\n",
        "adata auc60 deleted in herS3M08"
       ]
      },
      {
       "output_type": "stream",
       "stream": "stdout",
       "text": [
        "\n",
        "auc60 overwritten in herS3M08.3J1/13, job id ...3be01 done on E 1 "
       ]
      },
      {
       "output_type": "stream",
       "stream": "stdout",
       "text": [
        "\n",
        "adata auc60 deleted in herS3M11"
       ]
      },
      {
       "output_type": "stream",
       "stream": "stdout",
       "text": [
        "\n",
        "auc60 overwritten in herS3M11.3J1/13, job id ...eecf3 done on E 3 "
       ]
      },
      {
       "output_type": "stream",
       "stream": "stdout",
       "text": [
        "\n",
        "adata auc60 deleted in herS3M09"
       ]
      },
      {
       "output_type": "stream",
       "stream": "stdout",
       "text": [
        "\n",
        "auc60 overwritten in herS3M09.3J1/13, job id ...deb17 done on E 0 "
       ]
      },
      {
       "output_type": "stream",
       "stream": "stdout",
       "text": [
        "\n",
        "adata auc60 deleted in herS3M09"
       ]
      },
      {
       "output_type": "stream",
       "stream": "stdout",
       "text": [
        "\n",
        "auc60 overwritten in herS3M09.3L1/13, job id ...5050b done on E 4 "
       ]
      },
      {
       "output_type": "stream",
       "stream": "stdout",
       "text": [
        "\n",
        "adata auc60 deleted in herS3M08"
       ]
      },
      {
       "output_type": "stream",
       "stream": "stdout",
       "text": [
        "\n",
        "auc60 overwritten in herS3M08.3X1/14, job id ...c85e2 done on E 14 "
       ]
      },
      {
       "output_type": "stream",
       "stream": "stdout",
       "text": [
        "\n",
        "adata auc60 deleted in herS3M07"
       ]
      },
      {
       "output_type": "stream",
       "stream": "stdout",
       "text": [
        "\n",
        "auc60 overwritten in herS3M07.3X1/13, job id ...8ee28 done on E 10 "
       ]
      },
      {
       "output_type": "stream",
       "stream": "stdout",
       "text": [
        "\n",
        "adata auc60 deleted in herS3M10"
       ]
      },
      {
       "output_type": "stream",
       "stream": "stdout",
       "text": [
        "\n",
        "auc60 overwritten in herS3M10.3J1/13, job id ...141a9 done on E 2 "
       ]
      },
      {
       "output_type": "stream",
       "stream": "stdout",
       "text": [
        "\n",
        "adata auc60 deleted in herS3M08"
       ]
      },
      {
       "output_type": "stream",
       "stream": "stdout",
       "text": [
        "\n",
        "auc60 overwritten in herS3M08.3Q1/13, job id ...04ed8 done on E 5 "
       ]
      },
      {
       "output_type": "stream",
       "stream": "stdout",
       "text": [
        "\n",
        "adata auc60 deleted in herS3M06"
       ]
      },
      {
       "output_type": "stream",
       "stream": "stdout",
       "text": [
        "\n",
        "auc60 overwritten in herS3M06.3P1/13, job id ...7d227 done on E 13 "
       ]
      },
      {
       "output_type": "stream",
       "stream": "stdout",
       "text": [
        "\n",
        "adata auc60 deleted in herS3M09"
       ]
      },
      {
       "output_type": "stream",
       "stream": "stdout",
       "text": [
        "\n",
        "auc60 overwritten in herS3M09.3Q1/13, job id ...671b4 done on E 7 "
       ]
      },
      {
       "output_type": "stream",
       "stream": "stdout",
       "text": [
        "\n",
        "AttributeError('NoneType' object has no attribute 'VisuCoreDim') for herS3M08.4b1/14 \n",
        "adata auc60 deleted in herS3M15"
       ]
      },
      {
       "output_type": "stream",
       "stream": "stdout",
       "text": [
        "\n",
        "auc60 overwritten in herS3M15.3L1/14, job id ...27e36 done on E 0 "
       ]
      },
      {
       "output_type": "stream",
       "stream": "stdout",
       "text": [
        "\n",
        "adata auc60 deleted in herS3M12\n",
        "auc60 overwritten in herS3M12.3J1/13, job id ...1de51 done on E 9 "
       ]
      },
      {
       "output_type": "stream",
       "stream": "stdout",
       "text": [
        "\n",
        "adata auc60 deleted in herS3M06"
       ]
      },
      {
       "output_type": "stream",
       "stream": "stdout",
       "text": [
        "\n",
        "auc60 overwritten in herS3M06.3W1/14, job id ...bd79a done on E 6 "
       ]
      },
      {
       "output_type": "stream",
       "stream": "stdout",
       "text": [
        "\n",
        "adata auc60 deleted in herS3M12\n",
        "auc60 overwritten in herS3M12.3L1/13, job id ...31c94 done on E 14 "
       ]
      },
      {
       "output_type": "stream",
       "stream": "stdout",
       "text": [
        "\n",
        "adata auc60 deleted in herS3M13"
       ]
      },
      {
       "output_type": "stream",
       "stream": "stdout",
       "text": [
        "\n",
        "auc60 overwritten in herS3M13.441/13, job id ...89895 done on E 12 "
       ]
      },
      {
       "output_type": "stream",
       "stream": "stdout",
       "text": [
        "\n",
        "adata auc60 deleted in herS3M13"
       ]
      },
      {
       "output_type": "stream",
       "stream": "stdout",
       "text": [
        "\n",
        "auc60 overwritten in herS3M13.3X1/13, job id ...65f31 done on E 13 "
       ]
      },
      {
       "output_type": "stream",
       "stream": "stdout",
       "text": [
        "\n",
        "adata auc60 deleted in herS3M15"
       ]
      },
      {
       "output_type": "stream",
       "stream": "stdout",
       "text": [
        "\n",
        "auc60 overwritten in herS3M15.3Q1/14, job id ...9ba91 done on E 7 "
       ]
      },
      {
       "output_type": "stream",
       "stream": "stdout",
       "text": [
        "\n",
        "adata auc60 deleted in herS3M14\n",
        "auc60 overwritten in herS3M14.3J1/13, job id ...3933f done on E 4 "
       ]
      },
      {
       "output_type": "stream",
       "stream": "stdout",
       "text": [
        "\n",
        "adata auc60 deleted in herS3M13\n",
        "auc60 overwritten in herS3M13.3J1/13, job id ...3f417 done on E 11 "
       ]
      },
      {
       "output_type": "stream",
       "stream": "stdout",
       "text": [
        "\n",
        "adata auc60 deleted in herS3M15\n",
        "auc60 overwritten in herS3M15.4b1/16, job id ...66486 done on E 2 "
       ]
      },
      {
       "output_type": "stream",
       "stream": "stdout",
       "text": [
        "\n",
        "adata auc60 deleted in herS3M15\n",
        "auc60 overwritten in herS3M15.3X1/13, job id ...849fe done on E 3 "
       ]
      },
      {
       "output_type": "stream",
       "stream": "stdout",
       "text": [
        "\n",
        "adata auc60 deleted in herS3M12\n",
        "auc60 overwritten in herS3M12.3Q1/13, job id ...6aa56 done on E 8 "
       ]
      },
      {
       "output_type": "stream",
       "stream": "stdout",
       "text": [
        "\n",
        "adata auc60 deleted in herS3M11"
       ]
      },
      {
       "output_type": "stream",
       "stream": "stdout",
       "text": [
        "\n",
        "auc60 overwritten in herS3M11.3L1/19, job id ...3cd50 done on E 10 "
       ]
      },
      {
       "output_type": "stream",
       "stream": "stdout",
       "text": [
        "\n",
        "adata auc60 deleted in herS3M14"
       ]
      },
      {
       "output_type": "stream",
       "stream": "stdout",
       "text": [
        "\n",
        "auc60 overwritten in herS3M14.3Q1/14, job id ...a4019 done on E 1 "
       ]
      },
      {
       "output_type": "stream",
       "stream": "stdout",
       "text": [
        "\n",
        "adata auc60 deleted in herS3M21"
       ]
      },
      {
       "output_type": "stream",
       "stream": "stdout",
       "text": [
        "\n",
        "auc60 overwritten in herS3M21.441/14, job id ...61ba8 done on E 2 "
       ]
      },
      {
       "output_type": "stream",
       "stream": "stdout",
       "text": [
        "\n",
        "adata auc60 deleted in herS3M21"
       ]
      },
      {
       "output_type": "stream",
       "stream": "stdout",
       "text": [
        "\n",
        "auc60 overwritten in herS3M21.4i1/16, job id ...18933 done on E 3 "
       ]
      },
      {
       "output_type": "stream",
       "stream": "stdout",
       "text": [
        "\n",
        "adata auc60 deleted in herS3M16"
       ]
      },
      {
       "output_type": "stream",
       "stream": "stdout",
       "text": [
        "\n",
        "auc60 overwritten in herS3M16.3P1/13, job id ...3646f done on E 5 "
       ]
      },
      {
       "output_type": "stream",
       "stream": "stdout",
       "text": [
        "\n",
        "adata auc60 deleted in herS3M21"
       ]
      },
      {
       "output_type": "stream",
       "stream": "stdout",
       "text": [
        "\n",
        "auc60 overwritten in herS3M21.3X1/14, job id ...17b1c done on E 0 "
       ]
      },
      {
       "output_type": "stream",
       "stream": "stdout",
       "text": [
        "\n",
        "adata auc60 deleted in herS3M12"
       ]
      },
      {
       "output_type": "stream",
       "stream": "stdout",
       "text": [
        "\n",
        "auc60 overwritten in herS3M12.3X1/13, job id ...963be done on E 15 "
       ]
      },
      {
       "output_type": "stream",
       "stream": "stdout",
       "text": [
        "\n",
        "adata auc60 deleted in herS3M20"
       ]
      },
      {
       "output_type": "stream",
       "stream": "stdout",
       "text": [
        "\n",
        "auc60 overwritten in herS3M20.431/13, job id ...0bab2 done on E 1 "
       ]
      },
      {
       "output_type": "stream",
       "stream": "stdout",
       "text": [
        "\n",
        "adata auc60 deleted in herS3M20"
       ]
      },
      {
       "output_type": "stream",
       "stream": "stdout",
       "text": [
        "\n",
        "auc60 overwritten in herS3M20.3P1/13, job id ...c6451 done on E 7 "
       ]
      },
      {
       "output_type": "stream",
       "stream": "stdout",
       "text": [
        "\n",
        "adata auc60 deleted in herS3M19"
       ]
      },
      {
       "output_type": "stream",
       "stream": "stdout",
       "text": [
        "\n",
        "auc60 overwritten in herS3M19.3P1/13, job id ...bfecd done on E 6 "
       ]
      },
      {
       "output_type": "stream",
       "stream": "stdout",
       "text": [
        "\n",
        "adata auc60 deleted in herS3M22\n",
        "auc60 overwritten in herS3M22.4i2/19, job id ...7c8b1 done on E 5 "
       ]
      },
      {
       "output_type": "stream",
       "stream": "stdout",
       "text": [
        "\n",
        "adata auc60 deleted in herS3M22"
       ]
      },
      {
       "output_type": "stream",
       "stream": "stdout",
       "text": [
        "\n",
        "auc60 overwritten in herS3M22.3X1/14, job id ...4297a done on E 3 "
       ]
      },
      {
       "output_type": "stream",
       "stream": "stdout",
       "text": [
        "\n",
        "adata auc60 deleted in herS3M23"
       ]
      },
      {
       "output_type": "stream",
       "stream": "stdout",
       "text": [
        "\n",
        "auc60 overwritten in herS3M23.4b1/14, job id ...6d4a8 done on E 6 "
       ]
      },
      {
       "output_type": "stream",
       "stream": "stdout",
       "text": [
        "\n",
        "adata auc60 deleted in herS3M23\n",
        "auc60 overwritten in herS3M23.441/18, job id ...1533d done on E 1 "
       ]
      },
      {
       "output_type": "stream",
       "stream": "stdout",
       "text": [
        "\n",
        "adata auc60 deleted in herS3M21\n",
        "auc60 overwritten in herS3M21.4b1/23, job id ...55a31 done on E 2 "
       ]
      },
      {
       "output_type": "stream",
       "stream": "stdout",
       "text": [
        "\n",
        "adata auc60 deleted in herS3M20\n",
        "auc60 overwritten in herS3M20.4a1/16, job id ...1210e done on E 4 "
       ]
      },
      {
       "output_type": "stream",
       "stream": "stdout",
       "text": [
        "\n",
        "adata auc60 deleted in herS3M22\n",
        "auc60 overwritten in herS3M22.4b1/12, job id ...2d1cc done on E 0 "
       ]
      },
      {
       "output_type": "stream",
       "stream": "stdout",
       "text": [
        "\n",
        "adata auc60 deleted in herS3M23"
       ]
      },
      {
       "output_type": "stream",
       "stream": "stdout",
       "text": [
        "\n",
        "auc60 overwritten in herS3M23.3X1/13, job id ...c1a93 done on E 7 "
       ]
      },
      {
       "output_type": "stream",
       "stream": "stdout",
       "text": [
        "\n",
        "adata auc60 deleted in herS3M23"
       ]
      },
      {
       "output_type": "stream",
       "stream": "stdout",
       "text": [
        "\n",
        "auc60 overwritten in herS3M23.4i1/14, job id ...a549e done on E 15 "
       ]
      },
      {
       "output_type": "stream",
       "stream": "stdout",
       "text": [
        "\n",
        "adata auc60 deleted in herS3M20"
       ]
      },
      {
       "output_type": "stream",
       "stream": "stdout",
       "text": [
        "\n",
        "auc60 overwritten in herS3M20.4h1/13, job id ...7082e done on E 11 "
       ]
      },
      {
       "output_type": "stream",
       "stream": "stdout",
       "text": [
        "\n",
        "adata auc60 deleted in herS3M19"
       ]
      },
      {
       "output_type": "stream",
       "stream": "stdout",
       "text": [
        "\n",
        "auc60 overwritten in herS3M19.431/13, job id ...093e8 done on E 8 "
       ]
      },
      {
       "output_type": "stream",
       "stream": "stdout",
       "text": [
        "\n",
        "adata auc60 deleted in herS3M17"
       ]
      },
      {
       "output_type": "stream",
       "stream": "stdout",
       "text": [
        "\n",
        "auc60 overwritten in herS3M17.431/13, job id ...6be8e done on E 14 "
       ]
      },
      {
       "output_type": "stream",
       "stream": "stdout",
       "text": [
        "\n",
        "adata auc60 deleted in herS3M19"
       ]
      },
      {
       "output_type": "stream",
       "stream": "stdout",
       "text": [
        "\n",
        "auc60 overwritten in herS3M19.4a1/13, job id ...231ac done on E 10 "
       ]
      },
      {
       "output_type": "stream",
       "stream": "stdout",
       "text": [
        "\n",
        "adata auc60 deleted in herS3M19"
       ]
      },
      {
       "output_type": "stream",
       "stream": "stdout",
       "text": [
        "\n",
        "auc60 overwritten in herS3M19.4h1/13, job id ...81beb done on E 12 "
       ]
      },
      {
       "output_type": "stream",
       "stream": "stdout",
       "text": [
        "\n",
        "adata auc60 deleted in herS3M17"
       ]
      },
      {
       "output_type": "stream",
       "stream": "stdout",
       "text": [
        "\n",
        "auc60 overwritten in herS3M17.3P1/13, job id ...523a9 done on E 13 "
       ]
      },
      {
       "output_type": "stream",
       "stream": "stdout",
       "text": [
        "\n",
        "adata auc60 deleted in herS3M16"
       ]
      },
      {
       "output_type": "stream",
       "stream": "stdout",
       "text": [
        "\n",
        "auc60 overwritten in herS3M16.431/14, job id ...92039 done on E 9 "
       ]
      },
      {
       "output_type": "stream",
       "stream": "stdout",
       "text": [
        "\n",
        "###### Parallelized Code: 104.87738204 s \n",
        "\n",
        "Analysis Complete\n"
       ]
      }
     ],
     "prompt_number": 5
    },
    {
     "cell_type": "markdown",
     "metadata": {},
     "source": [
      "### Transferring ROIs"
     ]
    },
    {
     "cell_type": "code",
     "collapsed": true,
     "input": [
      "masterlist_special = 'herS3'\n",
      "\n",
      "import sarpy.fmoosvi.wrappers\n",
      "reload(sarpy.fmoosvi.wrappers)\n",
      "fFlag = True\n",
      "\n",
      "label = []\n",
      "label.append('auc60')\n",
      "\n",
      "for l in label:\n",
      "    sarpy.fmoosvi.wrappers.bulk_transfer_roi(masterlist_special,l, forceVal = fFlag)"
     ],
     "language": "python",
     "metadata": {},
     "outputs": [
      {
       "output_type": "stream",
       "stream": "stdout",
       "text": [
        "adata or scan data not found for herS3M01.3I1/18\n",
        "adata or scan data not found for herS3M01.3P1/13\n",
        "adata or scan data not found for herS3M01.3W1/13\n",
        "adata or scan data not found for herS3M02.3I1/13\n",
        "adata or scan data not found for herS3M02.3P1/13\n",
        "adata or scan data not found for herS3M03.3I1/13\n",
        "adata or scan data not found for herS3M03.3P1/13\n",
        "adata or scan data not found for herS3M03.3W1/14\n",
        "adata or scan data not found for herS3M04.3I1/13\n",
        "adata or scan data not found for herS3M04.3J1/13"
       ]
      },
      {
       "output_type": "stream",
       "stream": "stdout",
       "text": [
        "\n",
        "adata or scan data not found for herS3M04.3Q1/13\n",
        "adata or scan data not found for herS3M04.3X1/13\n",
        "adata or scan data not found for herS3M05.3I1/13\n",
        "adata or scan data not found for herS3M05.3P1/13\n",
        "adata or scan data not found for herS3M05.3W1/13\n",
        "adata or scan data not found for herS3M06.3I1/13\n",
        "adata or scan data not found for herS3M06.3P1/13\n",
        "adata or scan data not found for herS3M06.3W1/14"
       ]
      },
      {
       "output_type": "stream",
       "stream": "stdout",
       "text": [
        "\n",
        "adata or scan data not found for herS3M07.3I1/13\n",
        "adata or scan data not found for herS3M07.3J1/13\n",
        "adata or scan data not found for herS3M07.3Q1/13\n",
        "adata or scan data not found for herS3M07.3X1/13\n",
        "adata or scan data not found for herS3M09.3J1/13"
       ]
      },
      {
       "output_type": "stream",
       "stream": "stdout",
       "text": [
        "\n",
        "adata or scan data not found for herS3M09.3L1/13\n",
        "adata or scan data not found for herS3M09.3Q1/13\n",
        "adata or scan data not found for herS3M10.3J1/13\n",
        "adata or scan data not found for herS3M11.3J1/13\n",
        "adata or scan data not found for herS3M11.3L1/19\n",
        "adata or scan data not found for herS3M12.3J1/13\n",
        "adata or scan data not found for herS3M12.3L1/13\n",
        "adata or scan data not found for herS3M12.3Q1/13\n",
        "adata or scan data not found for herS3M12.3X1/13"
       ]
      },
      {
       "output_type": "stream",
       "stream": "stdout",
       "text": [
        "\n",
        "adata or scan data not found for herS3M13.3J1/13\n",
        "adata or scan data not found for herS3M13.3Q1/13\n",
        "adata or scan data not found for herS3M13.3X1/13\n",
        "adata or scan data not found for herS3M13.441/13\n",
        "adata or scan data not found for herS3M14.3J1/13\n",
        "adata or scan data not found for herS3M14.3Q1/14\n",
        "adata or scan data not found for herS3M16.3P1/13"
       ]
      },
      {
       "output_type": "stream",
       "stream": "stdout",
       "text": [
        "\n",
        "adata or scan data not found for herS3M16.431/14\n",
        "adata or scan data not found for herS3M17.3P1/13\n",
        "adata or scan data not found for herS3M17.431/13\n",
        "adata or scan data not found for herS3M19.3P1/13\n",
        "adata or scan data not found for herS3M19.4a1/13"
       ]
      },
      {
       "output_type": "stream",
       "stream": "stdout",
       "text": [
        "\n",
        "adata or scan data not found for herS3M19.4h1/13\n",
        "adata or scan data not found for herS3M19.431/13\n",
        "adata or scan data not found for herS3M20.3P1/13\n",
        "adata or scan data not found for herS3M20.4a1/16\n",
        "adata or scan data not found for herS3M20.4h1/13"
       ]
      },
      {
       "output_type": "stream",
       "stream": "stdout",
       "text": [
        "\n",
        "adata or scan data not found for herS3M20.431/13\n",
        "adata or scan data not found for herS3M21.3X1/14\n",
        "adata or scan data not found for herS3M21.4b1/23\n",
        "adata or scan data not found for herS3M21.4i1/16\n",
        "adata or scan data not found for herS3M21.441/14\n",
        "adata or scan data not found for herS3M23.3X1/13"
       ]
      },
      {
       "output_type": "stream",
       "stream": "stdout",
       "text": [
        "\n",
        "adata or scan data not found for herS3M23.4b1/14\n",
        "adata or scan data not found for herS3M23.4i1/14\n",
        "adata or scan data not found for herS3M23.441/18\n",
        "\t Saved auc60_roi in herS3M01.3I1/18"
       ]
      },
      {
       "output_type": "stream",
       "stream": "stdout",
       "text": [
        "\n",
        "\t Saved auc60_roi in herS3M02.3I1/13"
       ]
      },
      {
       "output_type": "stream",
       "stream": "stdout",
       "text": [
        "\n",
        "\t Saved auc60_roi in herS3M03.3I1/13"
       ]
      },
      {
       "output_type": "stream",
       "stream": "stdout",
       "text": [
        "\n",
        "\t Saved auc60_roi in herS3M04.3I1/13"
       ]
      },
      {
       "output_type": "stream",
       "stream": "stdout",
       "text": [
        "\n",
        "\t Saved auc60_roi in herS3M05.3I1/13"
       ]
      },
      {
       "output_type": "stream",
       "stream": "stdout",
       "text": [
        "\n",
        "\t Saved auc60_roi in herS3M06.3I1/13"
       ]
      },
      {
       "output_type": "stream",
       "stream": "stdout",
       "text": [
        "\n",
        "\t Saved auc60_roi in herS3M07.3I1/13"
       ]
      },
      {
       "output_type": "stream",
       "stream": "stdout",
       "text": [
        "\n",
        "\t Saved auc60_roi in herS3M08.3J1/13"
       ]
      },
      {
       "output_type": "stream",
       "stream": "stdout",
       "text": [
        "\n",
        "\t Saved auc60_roi in herS3M09.3J1/13"
       ]
      },
      {
       "output_type": "stream",
       "stream": "stdout",
       "text": [
        "\n",
        "\t Saved auc60_roi in herS3M10.3J1/13"
       ]
      },
      {
       "output_type": "stream",
       "stream": "stdout",
       "text": [
        "\n",
        "\t Saved auc60_roi in herS3M11.3J1/13"
       ]
      },
      {
       "output_type": "stream",
       "stream": "stdout",
       "text": [
        "\n",
        "\t Saved auc60_roi in herS3M12.3J1/13"
       ]
      },
      {
       "output_type": "stream",
       "stream": "stdout",
       "text": [
        "\n",
        "\t Saved auc60_roi in herS3M13.3J1/13"
       ]
      },
      {
       "output_type": "stream",
       "stream": "stdout",
       "text": [
        "\n",
        "\t Saved auc60_roi in herS3M14.3J1/13"
       ]
      },
      {
       "output_type": "stream",
       "stream": "stdout",
       "text": [
        "\n",
        "\t Saved auc60_roi in herS3M15.3L1/14"
       ]
      },
      {
       "output_type": "stream",
       "stream": "stdout",
       "text": [
        "\n",
        "\t Saved auc60_roi in herS3M16.3P1/13"
       ]
      },
      {
       "output_type": "stream",
       "stream": "stdout",
       "text": [
        "\n",
        "\t Saved auc60_roi in herS3M17.3P1/13"
       ]
      },
      {
       "output_type": "stream",
       "stream": "stdout",
       "text": [
        "\n",
        "\t Saved auc60_roi in herS3M19.3P1/13"
       ]
      },
      {
       "output_type": "stream",
       "stream": "stdout",
       "text": [
        "\n",
        "\t Saved auc60_roi in herS3M20.3P1/13"
       ]
      },
      {
       "output_type": "stream",
       "stream": "stdout",
       "text": [
        "\n",
        "\t Saved auc60_roi in herS3M21.3X1/14"
       ]
      },
      {
       "output_type": "stream",
       "stream": "stdout",
       "text": [
        "\n",
        "\t Saved auc60_roi in herS3M22.3X1/14"
       ]
      },
      {
       "output_type": "stream",
       "stream": "stdout",
       "text": [
        "\n",
        "\t Saved auc60_roi in herS3M23.3X1/13"
       ]
      },
      {
       "output_type": "stream",
       "stream": "stdout",
       "text": [
        "\n",
        "\t Saved auc60_roi in herS3M01.3P1/13"
       ]
      },
      {
       "output_type": "stream",
       "stream": "stdout",
       "text": [
        "\n",
        "\t Saved auc60_roi in herS3M02.3P1/13"
       ]
      },
      {
       "output_type": "stream",
       "stream": "stdout",
       "text": [
        "\n",
        "\t Saved auc60_roi in herS3M03.3P1/13"
       ]
      },
      {
       "output_type": "stream",
       "stream": "stdout",
       "text": [
        "\n",
        "\t Saved auc60_roi in herS3M04.3J1/13"
       ]
      },
      {
       "output_type": "stream",
       "stream": "stdout",
       "text": [
        "\n",
        "\t Saved auc60_roi in herS3M05.3P1/13"
       ]
      },
      {
       "output_type": "stream",
       "stream": "stdout",
       "text": [
        "\n",
        "\t Saved auc60_roi in herS3M06.3P1/13"
       ]
      },
      {
       "output_type": "stream",
       "stream": "stdout",
       "text": [
        "\n",
        "\t Saved auc60_roi in herS3M07.3J1/13"
       ]
      },
      {
       "output_type": "stream",
       "stream": "stdout",
       "text": [
        "\n",
        "\t Saved auc60_roi in herS3M08.3Q1/13"
       ]
      },
      {
       "output_type": "stream",
       "stream": "stdout",
       "text": [
        "\n",
        "\t Saved auc60_roi in herS3M09.3L1/13"
       ]
      },
      {
       "output_type": "stream",
       "stream": "stdout",
       "text": [
        "\n",
        "adata or scan data not found for herS3M10.3J1/13\n",
        "\t Saved auc60_roi in herS3M11.3L1/19"
       ]
      },
      {
       "output_type": "stream",
       "stream": "stdout",
       "text": [
        "\n",
        "\t Saved auc60_roi in herS3M12.3L1/13"
       ]
      },
      {
       "output_type": "stream",
       "stream": "stdout",
       "text": [
        "\n",
        "\t Saved auc60_roi in herS3M13.3Q1/13"
       ]
      },
      {
       "output_type": "stream",
       "stream": "stdout",
       "text": [
        "\n",
        "\t Saved auc60_roi in herS3M14.3Q1/14"
       ]
      },
      {
       "output_type": "stream",
       "stream": "stdout",
       "text": [
        "\n",
        "\t Saved auc60_roi in herS3M15.3Q1/14"
       ]
      },
      {
       "output_type": "stream",
       "stream": "stdout",
       "text": [
        "\n",
        "\t Saved auc60_roi in herS3M16.431/14"
       ]
      },
      {
       "output_type": "stream",
       "stream": "stdout",
       "text": [
        "\n",
        "\t Saved auc60_roi in herS3M17.431/13"
       ]
      },
      {
       "output_type": "stream",
       "stream": "stdout",
       "text": [
        "\n",
        "\t Saved auc60_roi in herS3M19.4a1/13"
       ]
      },
      {
       "output_type": "stream",
       "stream": "stdout",
       "text": [
        "\n",
        "\t Saved auc60_roi in herS3M20.4a1/16"
       ]
      },
      {
       "output_type": "stream",
       "stream": "stdout",
       "text": [
        "\n",
        "\t Saved auc60_roi in herS3M21.4b1/23"
       ]
      },
      {
       "output_type": "stream",
       "stream": "stdout",
       "text": [
        "\n",
        "\t Saved auc60_roi in herS3M22.4b1/12"
       ]
      },
      {
       "output_type": "stream",
       "stream": "stdout",
       "text": [
        "\n",
        "\t Saved auc60_roi in herS3M23.4b1/14"
       ]
      },
      {
       "output_type": "stream",
       "stream": "stdout",
       "text": [
        "\n",
        "\t Saved auc60_roi in herS3M01.3W1/13"
       ]
      },
      {
       "output_type": "stream",
       "stream": "stdout",
       "text": [
        "\n",
        "\t Saved auc60_roi in herS3M03.3W1/14"
       ]
      },
      {
       "output_type": "stream",
       "stream": "stdout",
       "text": [
        "\n",
        "\t Saved auc60_roi in herS3M04.3Q1/13"
       ]
      },
      {
       "output_type": "stream",
       "stream": "stdout",
       "text": [
        "\n",
        "\t Saved auc60_roi in herS3M05.3W1/13"
       ]
      },
      {
       "output_type": "stream",
       "stream": "stdout",
       "text": [
        "\n",
        "\t Saved auc60_roi in herS3M06.3W1/14"
       ]
      },
      {
       "output_type": "stream",
       "stream": "stdout",
       "text": [
        "\n",
        "\t Saved auc60_roi in herS3M07.3Q1/13"
       ]
      },
      {
       "output_type": "stream",
       "stream": "stdout",
       "text": [
        "\n",
        "\t Saved auc60_roi in herS3M08.3X1/14"
       ]
      },
      {
       "output_type": "stream",
       "stream": "stdout",
       "text": [
        "\n",
        "\t Saved auc60_roi in herS3M09.3Q1/13"
       ]
      },
      {
       "output_type": "stream",
       "stream": "stdout",
       "text": [
        "\n",
        "adata or scan data not found for herS3M10.3J1/13\n",
        "adata or scan data not found for herS3M11.3J1/13\n",
        "adata or scan data not found for herS3M11.3L1/19\n",
        "\t Saved auc60_roi in herS3M12.3Q1/13"
       ]
      },
      {
       "output_type": "stream",
       "stream": "stdout",
       "text": [
        "\n",
        "\t Saved auc60_roi in herS3M13.3X1/13"
       ]
      },
      {
       "output_type": "stream",
       "stream": "stdout",
       "text": [
        "\n",
        "adata or scan data not found for herS3M14.3J1/13\n",
        "adata or scan data not found for herS3M14.3Q1/14\n",
        "\t Saved auc60_roi in herS3M15.3X1/13"
       ]
      },
      {
       "output_type": "stream",
       "stream": "stdout",
       "text": [
        "\n",
        "adata or scan data not found for herS3M16.3P1/13\n",
        "adata or scan data not found for herS3M16.431/14\n",
        "adata or scan data not found for herS3M17.3P1/13"
       ]
      },
      {
       "output_type": "stream",
       "stream": "stdout",
       "text": [
        "\n",
        "adata or scan data not found for herS3M17.431/13\n",
        "\t Saved auc60_roi in herS3M19.4h1/13"
       ]
      },
      {
       "output_type": "stream",
       "stream": "stdout",
       "text": [
        "\n",
        "\t Saved auc60_roi in herS3M20.4h1/13"
       ]
      },
      {
       "output_type": "stream",
       "stream": "stdout",
       "text": [
        "\n",
        "\t Saved auc60_roi in herS3M21.4i1/16"
       ]
      },
      {
       "output_type": "stream",
       "stream": "stdout",
       "text": [
        "\n",
        "adata or scan data not found for herS3M22.3X1/14\n",
        "adata or scan data not found for herS3M22.4b1/12\n",
        "adata or scan data not found for herS3M22.4i2/19\n",
        "\t Saved auc60_roi in herS3M23.4i1/14"
       ]
      },
      {
       "output_type": "stream",
       "stream": "stdout",
       "text": [
        "\n",
        "adata or scan data not found for herS3M01.3I1/18\n",
        "adata or scan data not found for herS3M01.3P1/13\n",
        "adata or scan data not found for herS3M01.3W1/13\n",
        "adata or scan data not found for herS3M02.3I1/13\n",
        "adata or scan data not found for herS3M02.3P1/13"
       ]
      },
      {
       "output_type": "stream",
       "stream": "stdout",
       "text": [
        "\n",
        "adata or scan data not found for herS3M03.3I1/13\n",
        "adata or scan data not found for herS3M03.3P1/13\n",
        "adata or scan data not found for herS3M03.3W1/14\n",
        "\t Saved auc60_roi in herS3M04.3X1/13"
       ]
      },
      {
       "output_type": "stream",
       "stream": "stdout",
       "text": [
        "\n",
        "adata or scan data not found for herS3M05.3I1/13\n",
        "adata or scan data not found for herS3M05.3P1/13\n",
        "adata or scan data not found for herS3M05.3W1/13\n",
        "adata or scan data not found for herS3M06.3I1/13\n",
        "adata or scan data not found for herS3M06.3P1/13\n",
        "adata or scan data not found for herS3M06.3W1/14\n",
        "\t Saved auc60_roi in herS3M07.3X1/13"
       ]
      },
      {
       "output_type": "stream",
       "stream": "stdout",
       "text": [
        "\n",
        "adata or scan data not found for herS3M10.3J1/13"
       ]
      },
      {
       "output_type": "stream",
       "stream": "stdout",
       "text": [
        "\n",
        "adata or scan data not found for herS3M11.3J1/13\n",
        "adata or scan data not found for herS3M11.3L1/19\n",
        "\t Saved auc60_roi in herS3M12.3X1/13"
       ]
      },
      {
       "output_type": "stream",
       "stream": "stdout",
       "text": [
        "\n",
        "\t Saved auc60_roi in herS3M13.441/13"
       ]
      },
      {
       "output_type": "stream",
       "stream": "stdout",
       "text": [
        "\n",
        "adata or scan data not found for herS3M14.3J1/13\n",
        "adata or scan data not found for herS3M14.3Q1/14\n",
        "\t Saved auc60_roi in herS3M15.4b1/16"
       ]
      },
      {
       "output_type": "stream",
       "stream": "stdout",
       "text": [
        "\n",
        "adata or scan data not found for herS3M16.3P1/13\n",
        "adata or scan data not found for herS3M16.431/14\n",
        "adata or scan data not found for herS3M17.3P1/13\n",
        "adata or scan data not found for herS3M17.431/13\n",
        "\t Saved auc60_roi in herS3M19.431/13"
       ]
      },
      {
       "output_type": "stream",
       "stream": "stdout",
       "text": [
        "\n",
        "\t Saved auc60_roi in herS3M20.431/13"
       ]
      },
      {
       "output_type": "stream",
       "stream": "stdout",
       "text": [
        "\n",
        "\t Saved auc60_roi in herS3M21.441/14"
       ]
      },
      {
       "output_type": "stream",
       "stream": "stdout",
       "text": [
        "\n",
        "\t Saved auc60_roi in herS3M22.4i2/19"
       ]
      },
      {
       "output_type": "stream",
       "stream": "stdout",
       "text": [
        "\n",
        "\t Saved auc60_roi in herS3M23.441/18"
       ]
      },
      {
       "output_type": "stream",
       "stream": "stdout",
       "text": [
        "\n"
       ]
      }
     ],
     "prompt_number": 5
    },
    {
     "cell_type": "markdown",
     "metadata": {},
     "source": [
      "### Advanced Analyses"
     ]
    },
    {
     "cell_type": "code",
     "collapsed": false,
     "input": [
      "import sarpy\n",
      "import sarpy.io.bulk_analyze\n",
      "import sarpy.fmoosvi.analysis\n",
      "import collections\n",
      "\n",
      "\n",
      "advancedAnalyses = collections.OrderedDict()\n",
      "fFlag = True\n",
      "\n",
      "## Enhancement Curve\n",
      "advancedAnalyses['ec']={\n",
      "                         'scan_label':'dce-[0-9]*',\n",
      "                         'adata_roi_label':'auc60_roi',\n",
      "                         'adata_save_label':'ec',\n",
      "                         'force_overwrite':fFlag\n",
      "                         }\n",
      "toAnalyze = True\n",
      "\n",
      "for atype in advancedAnalyses:\n",
      "           \n",
      "    if 'ec' in atype:\n",
      "            \n",
      "        def myfunc(dict_of_params):\n",
      "            import sarpy.fmoosvi.analysis            \n",
      "            reload(sarpy.fmoosvi.analysis)\n",
      "            \n",
      "            import sarpy.fmoosvi.getters\n",
      "            reload(sarpy.fmoosvi.getters)\n",
      "            \n",
      "            import sys\n",
      "\n",
      "            return sarpy.fmoosvi.analysis.h_enhancement_curve(**dict_of_params)      \n",
      "        \n",
      "## Create the factory, and then execute                \n",
      "    an = sarpy.io.bulk_analyze.ParallelBulkAnalyzerFactory.from_function(myfunc, \n",
      "                                                        masterlist_fname=masterlist, \n",
      "                                                        **advancedAnalyses[atype])\n",
      "    an.process()"
     ],
     "language": "python",
     "metadata": {},
     "outputs": [
      {
       "output_type": "stream",
       "stream": "stdout",
       "text": [
        "###########\n",
        "Currently, there are 16 clients running\n",
        "importing os on engine(s)\n",
        "importing sys on engine(s)\n",
        "importing sarpy on engine(s)\n",
        "importing sarpy.fmoosvi.analysis on engine(s)\n",
        "###########"
       ]
      },
      {
       "output_type": "stream",
       "stream": "stdout",
       "text": [
        "\n",
        "ec overwritten in herS3M05.3W1/13, job id ...546cf done on E 1 "
       ]
      },
      {
       "output_type": "stream",
       "stream": "stdout",
       "text": [
        "\n",
        "ec overwritten in herS3M03.3I1/13, job id ...09a13 done on E 4 "
       ]
      },
      {
       "output_type": "stream",
       "stream": "stdout",
       "text": [
        "\n",
        "ec overwritten in herS3M04.3Q1/13, job id ...e304c done on E 5 "
       ]
      },
      {
       "output_type": "stream",
       "stream": "stdout",
       "text": [
        "\n",
        "ec overwritten in herS3M04.3X1/13, job id ...984a7 done on E 3 "
       ]
      },
      {
       "output_type": "stream",
       "stream": "stdout",
       "text": [
        "\n",
        "ec overwritten in herS3M04.3I1/13, job id ...ac016 done on E 0 "
       ]
      },
      {
       "output_type": "stream",
       "stream": "stdout",
       "text": [
        "\n",
        "ec overwritten in herS3M03.3P1/13, job id ...38c39 done on E 2 "
       ]
      },
      {
       "output_type": "stream",
       "stream": "stdout",
       "text": [
        "\n",
        "ec overwritten in herS3M05.3I1/13, job id ...7152b done on E 7 "
       ]
      },
      {
       "output_type": "stream",
       "stream": "stdout",
       "text": [
        "\n",
        "ec overwritten in herS3M05.3P1/13, job id ...7765e done on E 6 "
       ]
      },
      {
       "output_type": "stream",
       "stream": "stdout",
       "text": [
        "\n",
        "ec overwritten in herS3M07.3I1/13, job id ...00b9b done on E 0 "
       ]
      },
      {
       "output_type": "stream",
       "stream": "stdout",
       "text": [
        "\n",
        "AttributeError('NoneType' object has no attribute '__dict__') for herS3M08.4b1/14 \n",
        "ec overwritten in herS3M07.3X1/13, job id ...e3260 done on E 5 "
       ]
      },
      {
       "output_type": "stream",
       "stream": "stdout",
       "text": [
        "\n",
        "ec overwritten in herS3M06.3I1/13, job id ...1e4b9 done on E 7 "
       ]
      },
      {
       "output_type": "stream",
       "stream": "stdout",
       "text": [
        "\n",
        "ec overwritten in herS3M06.3P1/13, job id ...80689 done on E 2 "
       ]
      },
      {
       "output_type": "stream",
       "stream": "stdout",
       "text": [
        "\n",
        "ec overwritten in herS3M07.3Q1/13, job id ...7591f done on E 3 "
       ]
      },
      {
       "output_type": "stream",
       "stream": "stdout",
       "text": [
        "\n",
        "ec overwritten in herS3M08.3X1/14, job id ...20014 done on E 6 "
       ]
      },
      {
       "output_type": "stream",
       "stream": "stdout",
       "text": [
        "\n",
        "AttributeError('NoneType' object has no attribute '__dict__') for herS3M09.3X1/13 \n",
        "ec overwritten in herS3M07.3J1/13, job id ...33bad done on E 4 "
       ]
      },
      {
       "output_type": "stream",
       "stream": "stdout",
       "text": [
        "\n",
        "ec overwritten in herS3M08.3Q1/13, job id ...a385b done on E 5 "
       ]
      },
      {
       "output_type": "stream",
       "stream": "stdout",
       "text": [
        "\n",
        "ec overwritten in herS3M08.3J1/13, job id ...f5509 done on E 0 "
       ]
      },
      {
       "output_type": "stream",
       "stream": "stdout",
       "text": [
        "\n",
        "ec overwritten in herS3M09.3Q1/13, job id ...4eba9 done on E 7 "
       ]
      },
      {
       "output_type": "stream",
       "stream": "stdout",
       "text": [
        "\n",
        "ec overwritten in herS3M09.3J1/13, job id ...39535 done on E 3 "
       ]
      },
      {
       "output_type": "stream",
       "stream": "stdout",
       "text": [
        "\n",
        "ec overwritten in herS3M10.3J1/13, job id ...7cfb7 done on E 4 "
       ]
      },
      {
       "output_type": "stream",
       "stream": "stdout",
       "text": [
        "\n",
        "ec overwritten in herS3M11.3J1/13, job id ...bcb24 done on E 2 "
       ]
      },
      {
       "output_type": "stream",
       "stream": "stdout",
       "text": [
        "\n",
        "ec overwritten in herS3M09.3L1/13, job id ...9583c done on E 6 "
       ]
      },
      {
       "output_type": "stream",
       "stream": "stdout",
       "text": [
        "\n",
        "ec overwritten in herS3M11.3L1/19, job id ...9e670 done on E 5 "
       ]
      },
      {
       "output_type": "stream",
       "stream": "stdout",
       "text": [
        "\n",
        "ec overwritten in herS3M12.3J1/13, job id ...9f4b0 done on E 3 "
       ]
      },
      {
       "output_type": "stream",
       "stream": "stdout",
       "text": [
        "\n",
        "ec overwritten in herS3M13.441/13, job id ...a9a00 done on E 6 "
       ]
      },
      {
       "output_type": "stream",
       "stream": "stdout",
       "text": [
        "\n",
        "ec overwritten in herS3M12.3L1/13, job id ...3a3cf done on E 4 "
       ]
      },
      {
       "output_type": "stream",
       "stream": "stdout",
       "text": [
        "\n",
        "ec overwritten in herS3M13.3X1/13, job id ...33ee6 done on E 2 "
       ]
      },
      {
       "output_type": "stream",
       "stream": "stdout",
       "text": [
        "\n",
        "ec overwritten in herS3M12.3Q1/13, job id ...e70c9 done on E 0 "
       ]
      },
      {
       "output_type": "stream",
       "stream": "stdout",
       "text": [
        "\n",
        "ec overwritten in herS3M13.3J1/13, job id ...3c742 done on E 5 "
       ]
      },
      {
       "output_type": "stream",
       "stream": "stdout",
       "text": [
        "\n",
        "ec overwritten in herS3M13.3Q1/13, job id ...88897 done on E 3 "
       ]
      },
      {
       "output_type": "stream",
       "stream": "stdout",
       "text": [
        "\n",
        "ec overwritten in herS3M15.3X1/13, job id ...5bf6d done on E 4 "
       ]
      },
      {
       "output_type": "stream",
       "stream": "stdout",
       "text": [
        "\n",
        "ec overwritten in herS3M14.3Q1/14, job id ...7af3d done on E 2 "
       ]
      },
      {
       "output_type": "stream",
       "stream": "stdout",
       "text": [
        "\n",
        "ec overwritten in herS3M14.3J1/13, job id ...3ab2a done on E 6 "
       ]
      },
      {
       "output_type": "stream",
       "stream": "stdout",
       "text": [
        "\n",
        "ec overwritten in herS3M15.4b1/16, job id ...7cf70 done on E 0 "
       ]
      },
      {
       "output_type": "stream",
       "stream": "stdout",
       "text": [
        "\n",
        "ec overwritten in herS3M06.3W1/14, job id ...eee98 done on E 1 "
       ]
      },
      {
       "output_type": "stream",
       "stream": "stdout",
       "text": [
        "\n",
        "ec overwritten in herS3M01.3W1/13, job id ...3d288 done on E 9 "
       ]
      },
      {
       "output_type": "stream",
       "stream": "stdout",
       "text": [
        "\n",
        "ec overwritten in herS3M01.3I1/18, job id ...7db10 done on E 13 "
       ]
      },
      {
       "output_type": "stream",
       "stream": "stdout",
       "text": [
        "\n",
        "ec overwritten in herS3M02.3I1/13, job id ...07764 done on E 8 "
       ]
      },
      {
       "output_type": "stream",
       "stream": "stdout",
       "text": [
        "\n",
        "ec overwritten in herS3M15.3L1/14, job id ...c2e67 done on E 5 "
       ]
      },
      {
       "output_type": "stream",
       "stream": "stdout",
       "text": [
        "\n",
        "ec overwritten in herS3M03.3W1/14, job id ...d19fe done on E 11 "
       ]
      },
      {
       "output_type": "stream",
       "stream": "stdout",
       "text": [
        "\n",
        "ec overwritten in herS3M01.3P1/13, job id ...dfec3 done on E 14 "
       ]
      },
      {
       "output_type": "stream",
       "stream": "stdout",
       "text": [
        "\n",
        "ec overwritten in herS3M02.3P1/13, job id ...337c0 done on E 10 "
       ]
      },
      {
       "output_type": "stream",
       "stream": "stdout",
       "text": [
        "\n",
        "ec overwritten in herS3M04.3J1/13, job id ...bdbfa done on E 15 "
       ]
      },
      {
       "output_type": "stream",
       "stream": "stdout",
       "text": [
        "\n",
        "ec overwritten in herS3M15.3Q1/14, job id ...44ee7 done on E 3 "
       ]
      },
      {
       "output_type": "stream",
       "stream": "stdout",
       "text": [
        "\n",
        "ec overwritten in herS3M21.441/14, job id ...e3d9b done on E 3 "
       ]
      },
      {
       "output_type": "stream",
       "stream": "stdout",
       "text": [
        "\n",
        "ec overwritten in herS3M21.4i1/16, job id ...16dfa done on E 15 "
       ]
      },
      {
       "output_type": "stream",
       "stream": "stdout",
       "text": [
        "\n",
        "ec overwritten in herS3M21.3X1/14, job id ...9f703 done on E 3 "
       ]
      },
      {
       "output_type": "stream",
       "stream": "stdout",
       "text": [
        "\n",
        "ec overwritten in herS3M22.4i2/19, job id ...434d0 done on E 3 "
       ]
      },
      {
       "output_type": "stream",
       "stream": "stdout",
       "text": [
        "\n",
        "ec overwritten in herS3M21.4b1/23, job id ...609c1 done on E 15 "
       ]
      },
      {
       "output_type": "stream",
       "stream": "stdout",
       "text": [
        "\n",
        "ec overwritten in herS3M12.3X1/13, job id ...b328e done on E 7 "
       ]
      },
      {
       "output_type": "stream",
       "stream": "stdout",
       "text": [
        "\n",
        "ec overwritten in herS3M22.4b1/12, job id ...e3a31 done on E 15 "
       ]
      },
      {
       "output_type": "stream",
       "stream": "stdout",
       "text": [
        "\n",
        "ec overwritten in herS3M19.431/13, job id ...754d7 done on E 9 "
       ]
      },
      {
       "output_type": "stream",
       "stream": "stdout",
       "text": [
        "\n",
        "ec overwritten in herS3M19.4a1/13, job id ...df429 done on E 8 "
       ]
      },
      {
       "output_type": "stream",
       "stream": "stdout",
       "text": [
        "\n",
        "ec overwritten in herS3M22.3X1/14, job id ...7ce72 done on E 3 "
       ]
      },
      {
       "output_type": "stream",
       "stream": "stdout",
       "text": [
        "\n",
        "ec overwritten in herS3M23.441/18, job id ...1bf6a done on E 15 "
       ]
      },
      {
       "output_type": "stream",
       "stream": "stdout",
       "text": [
        "\n",
        "ec overwritten in herS3M23.4i1/14, job id ...c32e6 done on E 7 "
       ]
      },
      {
       "output_type": "stream",
       "stream": "stdout",
       "text": [
        "\n",
        "ec overwritten in herS3M20.431/13, job id ...6c896 done on E 11 "
       ]
      },
      {
       "output_type": "stream",
       "stream": "stdout",
       "text": [
        "\n",
        "ec overwritten in herS3M23.4b1/14, job id ...4307e done on E 8 "
       ]
      },
      {
       "output_type": "stream",
       "stream": "stdout",
       "text": [
        "\n",
        "ec overwritten in herS3M20.3P1/13, job id ...7c9b5 done on E 14 "
       ]
      },
      {
       "output_type": "stream",
       "stream": "stdout",
       "text": [
        "\n",
        "ec overwritten in herS3M19.3P1/13, job id ...a9834 done on E 13 "
       ]
      },
      {
       "output_type": "stream",
       "stream": "stdout",
       "text": [
        "\n",
        "ec overwritten in herS3M17.431/13, job id ...8e537 done on E 6 "
       ]
      },
      {
       "output_type": "stream",
       "stream": "stdout",
       "text": [
        "\n",
        "ec overwritten in herS3M17.3P1/13, job id ...ee600 done on E 0 "
       ]
      },
      {
       "output_type": "stream",
       "stream": "stdout",
       "text": [
        "\n",
        "KeyError('auc60_roi') for herS3M02.3W1/14 \n",
        "ec overwritten in herS3M20.4a1/16, job id ...0fdca done on E 10 "
       ]
      },
      {
       "output_type": "stream",
       "stream": "stdout",
       "text": [
        "\n",
        "ec overwritten in herS3M16.3P1/13, job id ...6167b done on E 4 "
       ]
      },
      {
       "output_type": "stream",
       "stream": "stdout",
       "text": [
        "\n",
        "ec overwritten in herS3M19.4h1/13, job id ...bebba done on E 1 "
       ]
      },
      {
       "output_type": "stream",
       "stream": "stdout",
       "text": [
        "\n",
        "ec overwritten in herS3M16.431/14, job id ...a1e38 done on E 2 "
       ]
      },
      {
       "output_type": "stream",
       "stream": "stdout",
       "text": [
        "\n",
        "ec overwritten in herS3M20.4h1/13, job id ...75d2a done on E 5 "
       ]
      },
      {
       "output_type": "stream",
       "stream": "stdout",
       "text": [
        "\n",
        "ec overwritten in herS3M23.3X1/13, job id ...c85bc done on E 9 "
       ]
      },
      {
       "output_type": "stream",
       "stream": "stdout",
       "text": [
        "\n",
        "###### Parallelized Code: 31.8179340363 s \n",
        "\n"
       ]
      }
     ],
     "prompt_number": 7
    },
    {
     "cell_type": "code",
     "collapsed": false,
     "input": [
      "fFlag = True\n",
      "label = []\n",
      "#label.append('augc60')\n",
      "\n",
      "for l in label:\n",
      "    sarpy.fmoosvi.wrappers.bulk_transfer_roi(masterlist,l,forceVal = fFlag)"
     ],
     "language": "python",
     "metadata": {},
     "outputs": []
    },
    {
     "cell_type": "markdown",
     "metadata": {},
     "source": [
      "### Write data to CSV\n"
     ]
    },
    {
     "cell_type": "code",
     "collapsed": false,
     "input": [
      "adata_to_csv = []\n",
      "\n",
      "adata_to_csv.append(['dce-0','auc60'])\n",
      "\n",
      "#adata_to_csv.append(['dce-0ha_Gd','augc60'])\n",
      "#adata_to_csv.append(['dce-24ha_Gd','augc60'])\n",
      "#adata_to_csv.append(['dce-48ha_Gd','augc60'])\n",
      "\n",
      "\n",
      "for k in adata_to_csv:\n",
      "    \n",
      "    if len(k) ==2:\n",
      "        sarpy.io.write_csv.write_csv(masterlist,k[0],k[1])\n",
      "    else:\n",
      "        sarpy.io.write_csv.write_csv(masterlist,k[0],k[1],roi_override=k[2])"
     ],
     "language": "python",
     "metadata": {},
     "outputs": [
      {
       "output_type": "stream",
       "stream": "stderr",
       "text": [
        "/System/Library/Frameworks/Python.framework/Versions/2.7/Extras/lib/python/scipy/stats/stats.py:298: RuntimeWarning: invalid value encountered in double_scalars\n",
        "  return np.mean(x,axis)/factor\n"
       ]
      }
     ],
     "prompt_number": 2
    },
    {
     "cell_type": "markdown",
     "metadata": {},
     "source": [
      "### Generating Tumourboards"
     ]
    },
    {
     "cell_type": "code",
     "collapsed": false,
     "input": [
      "tumourboards = []\n",
      "tumourboards.append('HerS3/HerS3.TB')\n",
      "\n",
      "os.chdir(os.path.expanduser(os.path.join('~','sarpy/python/sarpy/io')))"
     ],
     "language": "python",
     "metadata": {},
     "outputs": [],
     "prompt_number": 9
    },
    {
     "cell_type": "code",
     "collapsed": false,
     "input": [
      "for tb in tumourboards:\n",
      "    %run ./tumourboard.py -c $tb"
     ],
     "language": "python",
     "metadata": {},
     "outputs": [
      {
       "output_type": "stream",
       "stream": "stdout",
       "text": [
        "\n",
        "--------------------------------------------------------------------------------\n",
        "herS3M01\n",
        "('roi-0', u'herS3M01.3I1/10', '03_RARE_T2w_ax')"
       ]
      },
      {
       "output_type": "stream",
       "stream": "stdout",
       "text": [
        "\n",
        "('dce-0', u'herS3M01.3I1/18', '07-FLASH3D-DCE')"
       ]
      },
      {
       "output_type": "stream",
       "stream": "stdout",
       "text": [
        "\n",
        "('roi-1', u'herS3M01.3P1/4', '03_RARE_T2w_ax')"
       ]
      },
      {
       "output_type": "stream",
       "stream": "stdout",
       "text": [
        "\n",
        "('dce-1', u'herS3M01.3P1/13', '07-FLASH3D-DCE')"
       ]
      },
      {
       "output_type": "stream",
       "stream": "stdout",
       "text": [
        "\n",
        "('roi-2', u'herS3M01.3W1/4', '03_RARE_T2w_ax')"
       ]
      },
      {
       "output_type": "stream",
       "stream": "stdout",
       "text": [
        "\n",
        "('dce-2', u'herS3M01.3W1/13', '07-FLASH3D-DCE')"
       ]
      },
      {
       "output_type": "stream",
       "stream": "stdout",
       "text": [
        "\n",
        "\n",
        "--------------------------------------------------------------------------------\n",
        "herS3M02"
       ]
      },
      {
       "output_type": "stream",
       "stream": "stdout",
       "text": [
        "\n",
        "('roi-0', u'herS3M02.3I1/4', '03_RARE_T2w_ax')"
       ]
      },
      {
       "output_type": "stream",
       "stream": "stdout",
       "text": [
        "\n",
        "('dce-0', u'herS3M02.3I1/13', '07-FLASH3D-DCE')"
       ]
      },
      {
       "output_type": "stream",
       "stream": "stdout",
       "text": [
        "\n",
        "('roi-1', u'herS3M02.3P1/4', '03_RARE_T2w_ax')"
       ]
      },
      {
       "output_type": "stream",
       "stream": "stdout",
       "text": [
        "\n",
        "('dce-1', u'herS3M02.3P1/13', '07-FLASH3D-DCE')"
       ]
      },
      {
       "output_type": "stream",
       "stream": "stdout",
       "text": [
        "\n",
        "('roi-2', u'herS3M02.3W1/4', '03_RARE_T2w_ax')"
       ]
      },
      {
       "output_type": "stream",
       "stream": "stdout",
       "text": [
        "\n",
        "('dce-2', u'herS3M02.3W1/14', '07-FLASH3D-DCE')"
       ]
      },
      {
       "output_type": "stream",
       "stream": "stdout",
       "text": [
        "\n",
        "Adata Scan failed for herS3M02,auc60 \n",
        " \n",
        "\n",
        "\n",
        "--------------------------------------------------------------------------------\n",
        "herS3M03"
       ]
      },
      {
       "output_type": "stream",
       "stream": "stdout",
       "text": [
        "\n",
        "('roi-0', u'herS3M03.3I1/4', '03_RARE_T2w_ax')"
       ]
      },
      {
       "output_type": "stream",
       "stream": "stdout",
       "text": [
        "\n",
        "('dce-0', u'herS3M03.3I1/13', '07-FLASH3D-DCE')"
       ]
      },
      {
       "output_type": "stream",
       "stream": "stdout",
       "text": [
        "\n",
        "('roi-1', u'herS3M03.3P1/4', '03_RARE_T2w_ax')"
       ]
      },
      {
       "output_type": "stream",
       "stream": "stdout",
       "text": [
        "\n",
        "('dce-1', u'herS3M03.3P1/13', '07-FLASH3D-DCE')"
       ]
      },
      {
       "output_type": "stream",
       "stream": "stdout",
       "text": [
        "\n",
        "('roi-2', u'herS3M03.3W1/4', '03_RARE_T2w_ax')"
       ]
      },
      {
       "output_type": "stream",
       "stream": "stdout",
       "text": [
        "\n",
        "('dce-2', u'herS3M03.3W1/14', '07-FLASH3D-DCE')"
       ]
      },
      {
       "output_type": "stream",
       "stream": "stdout",
       "text": [
        "\n",
        "\n",
        "--------------------------------------------------------------------------------\n",
        "herS3M04"
       ]
      },
      {
       "output_type": "stream",
       "stream": "stdout",
       "text": [
        "\n",
        "('roi-0', u'herS3M04.3I1/4', '03_RARE_T2w_ax')"
       ]
      },
      {
       "output_type": "stream",
       "stream": "stdout",
       "text": [
        "\n",
        "('dce-0', u'herS3M04.3I1/13', '07-FLASH3D-DCE')"
       ]
      },
      {
       "output_type": "stream",
       "stream": "stdout",
       "text": [
        "\n",
        "('roi-1', u'herS3M04.3J1/4', '03_RARE_T2w_ax')"
       ]
      },
      {
       "output_type": "stream",
       "stream": "stdout",
       "text": [
        "\n",
        "('dce-1', u'herS3M04.3J1/13', '07-FLASH3D-DCE')"
       ]
      },
      {
       "output_type": "stream",
       "stream": "stdout",
       "text": [
        "\n",
        "('roi-2', u'herS3M04.3Q1/4', '03_RARE_T2w_ax')"
       ]
      },
      {
       "output_type": "stream",
       "stream": "stdout",
       "text": [
        "\n",
        "('dce-2', u'herS3M04.3Q1/13', '07-FLASH3D-DCE')"
       ]
      },
      {
       "output_type": "stream",
       "stream": "stdout",
       "text": [
        "\n",
        "('roi-3', u'herS3M04.3X1/4', '03_RARE_T2w_ax')"
       ]
      },
      {
       "output_type": "stream",
       "stream": "stdout",
       "text": [
        "\n",
        "('dce-3', u'herS3M04.3X1/13', '07-FLASH3D-DCE')"
       ]
      },
      {
       "output_type": "stream",
       "stream": "stdout",
       "text": [
        "\n",
        "\n",
        "--------------------------------------------------------------------------------\n",
        "herS3M05"
       ]
      },
      {
       "output_type": "stream",
       "stream": "stdout",
       "text": [
        "\n",
        "('roi-0', u'herS3M05.3I1/4', '03_RARE_T2w_ax')"
       ]
      },
      {
       "output_type": "stream",
       "stream": "stdout",
       "text": [
        "\n",
        "('dce-0', u'herS3M05.3I1/13', '07-FLASH3D-DCE')"
       ]
      },
      {
       "output_type": "stream",
       "stream": "stdout",
       "text": [
        "\n",
        "('roi-1', u'herS3M05.3P1/4', '03_RARE_T2w_ax')"
       ]
      },
      {
       "output_type": "stream",
       "stream": "stdout",
       "text": [
        "\n",
        "('dce-1', u'herS3M05.3P1/13', '07-FLASH3D-DCE')"
       ]
      },
      {
       "output_type": "stream",
       "stream": "stdout",
       "text": [
        "\n",
        "('roi-2', u'herS3M05.3W1/4', '03_RARE_T2w_ax')"
       ]
      },
      {
       "output_type": "stream",
       "stream": "stdout",
       "text": [
        "\n",
        "('dce-2', u'herS3M05.3W1/13', '07-FLASH3D-DCE')"
       ]
      },
      {
       "output_type": "stream",
       "stream": "stdout",
       "text": [
        "\n",
        "\n",
        "--------------------------------------------------------------------------------\n",
        "herS3M06"
       ]
      },
      {
       "output_type": "stream",
       "stream": "stdout",
       "text": [
        "\n",
        "('roi-0', u'herS3M06.3I1/4', '03_RARE_T2w_ax')"
       ]
      },
      {
       "output_type": "stream",
       "stream": "stdout",
       "text": [
        "\n",
        "('dce-0', u'herS3M06.3I1/13', '07-FLASH3D-DCE')"
       ]
      },
      {
       "output_type": "stream",
       "stream": "stdout",
       "text": [
        "\n",
        "('roi-1', u'herS3M06.3P1/4', '03_RARE_T2w_ax')"
       ]
      },
      {
       "output_type": "stream",
       "stream": "stdout",
       "text": [
        "\n",
        "('dce-1', u'herS3M06.3P1/13', '07-FLASH3D-DCE')"
       ]
      },
      {
       "output_type": "stream",
       "stream": "stdout",
       "text": [
        "\n",
        "('roi-2', u'herS3M06.3W1/4', '03_RARE_T2w_ax')"
       ]
      },
      {
       "output_type": "stream",
       "stream": "stdout",
       "text": [
        "\n",
        "('dce-2', u'herS3M06.3W1/14', '07-FLASH3D-DCE')"
       ]
      },
      {
       "output_type": "stream",
       "stream": "stdout",
       "text": [
        "\n",
        "\n",
        "--------------------------------------------------------------------------------\n",
        "herS3M07"
       ]
      },
      {
       "output_type": "stream",
       "stream": "stdout",
       "text": [
        "\n",
        "('roi-0', u'herS3M07.3I1/4', '03_RARE_T2w_ax')"
       ]
      },
      {
       "output_type": "stream",
       "stream": "stdout",
       "text": [
        "\n",
        "('dce-0', u'herS3M07.3I1/13', '07-FLASH3D-DCE')"
       ]
      },
      {
       "output_type": "stream",
       "stream": "stdout",
       "text": [
        "\n",
        "('roi-1', u'herS3M07.3J1/4', '03_RARE_T2w_ax')"
       ]
      },
      {
       "output_type": "stream",
       "stream": "stdout",
       "text": [
        "\n",
        "('dce-1', u'herS3M07.3J1/13', '07-FLASH3D-DCE')"
       ]
      },
      {
       "output_type": "stream",
       "stream": "stdout",
       "text": [
        "\n",
        "('roi-2', u'herS3M07.3Q1/4', '03_RARE_T2w_ax')"
       ]
      },
      {
       "output_type": "stream",
       "stream": "stdout",
       "text": [
        "\n",
        "('dce-2', u'herS3M07.3Q1/13', '07-FLASH3D-DCE')"
       ]
      },
      {
       "output_type": "stream",
       "stream": "stdout",
       "text": [
        "\n",
        "('roi-3', u'herS3M07.3X1/4', '03_RARE_T2w_ax')"
       ]
      },
      {
       "output_type": "stream",
       "stream": "stdout",
       "text": [
        "\n",
        "('dce-3', u'herS3M07.3X1/13', '07-FLASH3D-DCE')"
       ]
      },
      {
       "output_type": "stream",
       "stream": "stdout",
       "text": [
        "\n",
        "\n",
        "--------------------------------------------------------------------------------\n",
        "herS3M08"
       ]
      },
      {
       "output_type": "stream",
       "stream": "stdout",
       "text": [
        "\n",
        "('roi-0', u'herS3M08.3J1/4', '03_RARE_T2w_ax')"
       ]
      },
      {
       "output_type": "stream",
       "stream": "stdout",
       "text": [
        "\n",
        "('dce-0', u'herS3M08.3J1/13', '07-FLASH3D-DCE')"
       ]
      },
      {
       "output_type": "stream",
       "stream": "stdout",
       "text": [
        "\n",
        "('roi-1', u'herS3M08.3Q1/4', '03_RARE_T2w_ax')"
       ]
      },
      {
       "output_type": "stream",
       "stream": "stdout",
       "text": [
        "\n",
        "('dce-1', u'herS3M08.3Q1/13', '07-FLASH3D-DCE')"
       ]
      },
      {
       "output_type": "stream",
       "stream": "stdout",
       "text": [
        "\n",
        "('roi-2', u'herS3M08.3X1/4', '03_RARE_T2w_ax')"
       ]
      },
      {
       "output_type": "stream",
       "stream": "stdout",
       "text": [
        "\n",
        "('dce-2', u'herS3M08.3X1/14', '07-FLASH3D-DCE')"
       ]
      },
      {
       "output_type": "stream",
       "stream": "stdout",
       "text": [
        "\n",
        "('roi-3', u'herS3M08.4b1/5', '03_RARE_T2w_ax')"
       ]
      },
      {
       "output_type": "stream",
       "stream": "stdout",
       "text": [
        "\n",
        "('dce-3', u'herS3M08.4b1/14', '07-FLASH3D-DCE')"
       ]
      },
      {
       "output_type": "stream",
       "stream": "stdout",
       "text": [
        "\n",
        "Adata Scan failed for herS3M08,auc60 \n",
        " \n"
       ]
      },
      {
       "output_type": "stream",
       "stream": "stdout",
       "text": [
        "\n",
        "('roi-4', u'herS3M08.441/4', '03_RARE_T2w_ax')"
       ]
      },
      {
       "output_type": "stream",
       "stream": "stdout",
       "text": [
        "\n",
        "\n",
        "--------------------------------------------------------------------------------\n",
        "herS3M09"
       ]
      },
      {
       "output_type": "stream",
       "stream": "stdout",
       "text": [
        "\n",
        "('roi-0', u'herS3M09.3J1/4', '03_RARE_T2w_ax')"
       ]
      },
      {
       "output_type": "stream",
       "stream": "stdout",
       "text": [
        "\n",
        "('dce-0', u'herS3M09.3J1/13', '07-FLASH3D-DCE')"
       ]
      },
      {
       "output_type": "stream",
       "stream": "stdout",
       "text": [
        "\n",
        "('roi-1', u'herS3M09.3L1/4', '03_RARE_T2w_ax')"
       ]
      },
      {
       "output_type": "stream",
       "stream": "stdout",
       "text": [
        "\n",
        "('dce-1', u'herS3M09.3L1/13', '07-FLASH3D-DCE')"
       ]
      },
      {
       "output_type": "stream",
       "stream": "stdout",
       "text": [
        "\n",
        "('roi-2', u'herS3M09.3Q1/16', '03_RARE_T2w_ax')"
       ]
      },
      {
       "output_type": "stream",
       "stream": "stdout",
       "text": [
        "\n",
        "('dce-2', u'herS3M09.3Q1/13', '07-FLASH3D-DCE')"
       ]
      },
      {
       "output_type": "stream",
       "stream": "stdout",
       "text": [
        "\n",
        "('roi-3', u'herS3M09.3X1/4', '03_RARE_T2w_ax')"
       ]
      },
      {
       "output_type": "stream",
       "stream": "stdout",
       "text": [
        "\n",
        "('dce-3', u'herS3M09.3X1/13', '07-FLASH3D-DCE')"
       ]
      },
      {
       "output_type": "stream",
       "stream": "stdout",
       "text": [
        "\n",
        "Adata Scan failed for herS3M09,auc60 \n",
        " \n"
       ]
      },
      {
       "output_type": "stream",
       "stream": "stdout",
       "text": [
        "\n",
        "\n",
        "--------------------------------------------------------------------------------\n",
        "herS3M10"
       ]
      },
      {
       "output_type": "stream",
       "stream": "stdout",
       "text": [
        "\n",
        "('roi-0', u'herS3M10.3J1/4', '03_RARE_T2w_ax')"
       ]
      },
      {
       "output_type": "stream",
       "stream": "stdout",
       "text": [
        "\n",
        "('dce-0', u'herS3M10.3J1/13', '07-FLASH3D-DCE')"
       ]
      },
      {
       "output_type": "stream",
       "stream": "stdout",
       "text": [
        "\n",
        "\n",
        "--------------------------------------------------------------------------------\n",
        "herS3M11"
       ]
      },
      {
       "output_type": "stream",
       "stream": "stdout",
       "text": [
        "\n",
        "('roi-0', u'herS3M11.3J1/4', '03_RARE_T2w_ax')"
       ]
      },
      {
       "output_type": "stream",
       "stream": "stdout",
       "text": [
        "\n",
        "('dce-0', u'herS3M11.3J1/13', '07-FLASH3D-DCE')"
       ]
      },
      {
       "output_type": "stream",
       "stream": "stdout",
       "text": [
        "\n",
        "('roi-1', u'herS3M11.3L1/4', '03_RARE_T2w_ax')"
       ]
      },
      {
       "output_type": "stream",
       "stream": "stdout",
       "text": [
        "\n",
        "('dce-1', u'herS3M11.3L1/19', '07-FLASH3D-DCE')"
       ]
      },
      {
       "output_type": "stream",
       "stream": "stdout",
       "text": [
        "\n",
        "\n",
        "--------------------------------------------------------------------------------\n",
        "herS3M12"
       ]
      },
      {
       "output_type": "stream",
       "stream": "stdout",
       "text": [
        "\n",
        "('roi-0', u'herS3M12.3J1/4', '03_RARE_T2w_ax')"
       ]
      },
      {
       "output_type": "stream",
       "stream": "stdout",
       "text": [
        "\n",
        "('dce-0', u'herS3M12.3J1/13', '07-FLASH3D-DCE')"
       ]
      },
      {
       "output_type": "stream",
       "stream": "stdout",
       "text": [
        "\n",
        "('roi-1', u'herS3M12.3L1/4', '03_RARE_T2w_ax')"
       ]
      },
      {
       "output_type": "stream",
       "stream": "stdout",
       "text": [
        "\n",
        "('dce-1', u'herS3M12.3L1/13', '07-FLASH3D-DCE')"
       ]
      },
      {
       "output_type": "stream",
       "stream": "stdout",
       "text": [
        "\n",
        "('roi-2', u'herS3M12.3Q1/4', '03_RARE_T2w_ax')"
       ]
      },
      {
       "output_type": "stream",
       "stream": "stdout",
       "text": [
        "\n",
        "('dce-2', u'herS3M12.3Q1/13', '07-FLASH3D-DCE')"
       ]
      },
      {
       "output_type": "stream",
       "stream": "stdout",
       "text": [
        "\n",
        "('roi-3', u'herS3M12.3X1/4', '03_RARE_T2w_ax')"
       ]
      },
      {
       "output_type": "stream",
       "stream": "stdout",
       "text": [
        "\n",
        "('dce-3', u'herS3M12.3X1/13', '07-FLASH3D-DCE')"
       ]
      },
      {
       "output_type": "stream",
       "stream": "stdout",
       "text": [
        "\n",
        "\n",
        "--------------------------------------------------------------------------------\n",
        "herS3M13"
       ]
      },
      {
       "output_type": "stream",
       "stream": "stdout",
       "text": [
        "\n",
        "('roi-0', u'herS3M13.3J1/4', '03_RARE_T2w_ax')"
       ]
      },
      {
       "output_type": "stream",
       "stream": "stdout",
       "text": [
        "\n",
        "('dce-0', u'herS3M13.3J1/13', '07-FLASH3D-DCE')"
       ]
      },
      {
       "output_type": "stream",
       "stream": "stdout",
       "text": [
        "\n",
        "('roi-1', u'herS3M13.3Q1/4', '03_RARE_T2w_ax')"
       ]
      },
      {
       "output_type": "stream",
       "stream": "stdout",
       "text": [
        "\n",
        "('dce-1', u'herS3M13.3Q1/13', '07-FLASH3D-DCE')"
       ]
      },
      {
       "output_type": "stream",
       "stream": "stdout",
       "text": [
        "\n",
        "('roi-2', u'herS3M13.3X1/4', '03_RARE_T2w_ax')"
       ]
      },
      {
       "output_type": "stream",
       "stream": "stdout",
       "text": [
        "\n",
        "('dce-2', u'herS3M13.3X1/13', '07-FLASH3D-DCE')"
       ]
      },
      {
       "output_type": "stream",
       "stream": "stdout",
       "text": [
        "\n",
        "('roi-3', u'herS3M13.441/4', '03_RARE_T2w_ax')"
       ]
      },
      {
       "output_type": "stream",
       "stream": "stdout",
       "text": [
        "\n",
        "('dce-3', u'herS3M13.441/13', '07-FLASH3D-DCE')"
       ]
      },
      {
       "output_type": "stream",
       "stream": "stdout",
       "text": [
        "\n",
        "\n",
        "--------------------------------------------------------------------------------\n",
        "herS3M14"
       ]
      },
      {
       "output_type": "stream",
       "stream": "stdout",
       "text": [
        "\n",
        "('roi-0', u'herS3M14.3J1/4', '03_RARE_T2w_ax')"
       ]
      },
      {
       "output_type": "stream",
       "stream": "stdout",
       "text": [
        "\n",
        "('dce-0', u'herS3M14.3J1/13', '07-FLASH3D-DCE')"
       ]
      },
      {
       "output_type": "stream",
       "stream": "stdout",
       "text": [
        "\n",
        "('roi-1', u'herS3M14.3Q1/5', '03_RARE_T2w_ax')"
       ]
      },
      {
       "output_type": "stream",
       "stream": "stdout",
       "text": [
        "\n",
        "('dce-1', u'herS3M14.3Q1/14', '07-FLASH3D-DCE')"
       ]
      },
      {
       "output_type": "stream",
       "stream": "stdout",
       "text": [
        "\n",
        "\n",
        "--------------------------------------------------------------------------------\n",
        "herS3M15"
       ]
      },
      {
       "output_type": "stream",
       "stream": "stdout",
       "text": [
        "\n",
        "('roi-0', u'herS3M15.3L1/5', '03_RARE_T2w_ax')"
       ]
      },
      {
       "output_type": "stream",
       "stream": "stdout",
       "text": [
        "\n",
        "('dce-0', u'herS3M15.3L1/14', '07-FLASH3D-DCE')"
       ]
      },
      {
       "output_type": "stream",
       "stream": "stdout",
       "text": [
        "\n",
        "('roi-1', u'herS3M15.3Q1/5', '03_RARE_T2w_ax')"
       ]
      },
      {
       "output_type": "stream",
       "stream": "stdout",
       "text": [
        "\n",
        "('dce-1', u'herS3M15.3Q1/14', '07-FLASH3D-DCE')"
       ]
      },
      {
       "output_type": "stream",
       "stream": "stdout",
       "text": [
        "\n",
        "('roi-2', u'herS3M15.3X1/4', '03_RARE_T2w_ax')"
       ]
      },
      {
       "output_type": "stream",
       "stream": "stdout",
       "text": [
        "\n",
        "('dce-2', u'herS3M15.3X1/13', '07-FLASH3D-DCE')"
       ]
      },
      {
       "output_type": "stream",
       "stream": "stdout",
       "text": [
        "\n",
        "('roi-3', u'herS3M15.4b1/8', '03_RARE_T2w_ax')"
       ]
      },
      {
       "output_type": "stream",
       "stream": "stdout",
       "text": [
        "\n",
        "('dce-3', u'herS3M15.4b1/16', '07-FLASH3D-DCE')"
       ]
      },
      {
       "output_type": "stream",
       "stream": "stdout",
       "text": [
        "\n",
        "('roi-4', u'herS3M15.441/4', '03_RARE_T2w_ax')"
       ]
      },
      {
       "output_type": "stream",
       "stream": "stdout",
       "text": [
        "\n",
        "\n",
        "--------------------------------------------------------------------------------\n",
        "herS3M16"
       ]
      },
      {
       "output_type": "stream",
       "stream": "stdout",
       "text": [
        "\n",
        "('roi-0', u'herS3M16.3P1/4', '03_RARE_T2w_ax')"
       ]
      },
      {
       "output_type": "stream",
       "stream": "stdout",
       "text": [
        "\n",
        "('dce-0', u'herS3M16.3P1/13', '07-FLASH3D-DCE')"
       ]
      },
      {
       "output_type": "stream",
       "stream": "stdout",
       "text": [
        "\n",
        "('roi-1', u'herS3M16.431/5', '03_RARE_T2w_ax')"
       ]
      },
      {
       "output_type": "stream",
       "stream": "stdout",
       "text": [
        "\n",
        "('dce-1', u'herS3M16.431/14', '07-FLASH3D-DCE')"
       ]
      },
      {
       "output_type": "stream",
       "stream": "stdout",
       "text": [
        "\n",
        "\n",
        "--------------------------------------------------------------------------------\n",
        "herS3M17"
       ]
      },
      {
       "output_type": "stream",
       "stream": "stdout",
       "text": [
        "\n",
        "('roi-0', u'herS3M17.3P1/4', '03_RARE_T2w_ax')"
       ]
      },
      {
       "output_type": "stream",
       "stream": "stdout",
       "text": [
        "\n",
        "('dce-0', u'herS3M17.3P1/13', '07-FLASH3D-DCE')"
       ]
      },
      {
       "output_type": "stream",
       "stream": "stdout",
       "text": [
        "\n",
        "('roi-1', u'herS3M17.431/4', '03_RARE_T2w_ax')"
       ]
      },
      {
       "output_type": "stream",
       "stream": "stdout",
       "text": [
        "\n",
        "('dce-1', u'herS3M17.431/13', '07-FLASH3D-DCE')"
       ]
      },
      {
       "output_type": "stream",
       "stream": "stdout",
       "text": [
        "\n",
        "\n",
        "--------------------------------------------------------------------------------\n",
        "herS3M19"
       ]
      },
      {
       "output_type": "stream",
       "stream": "stdout",
       "text": [
        "\n",
        "('roi-0', u'herS3M19.3P1/4', '03_RARE_T2w_ax')"
       ]
      },
      {
       "output_type": "stream",
       "stream": "stdout",
       "text": [
        "\n",
        "('dce-0', u'herS3M19.3P1/13', '07-FLASH3D-DCE')"
       ]
      },
      {
       "output_type": "stream",
       "stream": "stdout",
       "text": [
        "\n",
        "('roi-1', u'herS3M19.4a1/4', '03_RARE_T2w_ax')"
       ]
      },
      {
       "output_type": "stream",
       "stream": "stdout",
       "text": [
        "\n",
        "('dce-1', u'herS3M19.4a1/13', '07-FLASH3D-DCE')"
       ]
      },
      {
       "output_type": "stream",
       "stream": "stdout",
       "text": [
        "\n",
        "('roi-2', u'herS3M19.4h1/5', '03_RARE_T2w_ax')"
       ]
      },
      {
       "output_type": "stream",
       "stream": "stdout",
       "text": [
        "\n",
        "('dce-2', u'herS3M19.4h1/13', '07-FLASH3D-DCE')"
       ]
      },
      {
       "output_type": "stream",
       "stream": "stdout",
       "text": [
        "\n",
        "('roi-3', u'herS3M19.431/4', '03_RARE_T2w_ax')"
       ]
      },
      {
       "output_type": "stream",
       "stream": "stdout",
       "text": [
        "\n",
        "('dce-3', u'herS3M19.431/13', '07-FLASH3D-DCE')"
       ]
      },
      {
       "output_type": "stream",
       "stream": "stdout",
       "text": [
        "\n",
        "\n",
        "--------------------------------------------------------------------------------\n",
        "herS3M20"
       ]
      },
      {
       "output_type": "stream",
       "stream": "stdout",
       "text": [
        "\n",
        "('roi-0', u'herS3M20.3P1/4', '03_RARE_T2w_ax')"
       ]
      },
      {
       "output_type": "stream",
       "stream": "stdout",
       "text": [
        "\n",
        "('dce-0', u'herS3M20.3P1/13', '07-FLASH3D-DCE')"
       ]
      },
      {
       "output_type": "stream",
       "stream": "stdout",
       "text": [
        "\n",
        "('roi-1', u'herS3M20.4a1/7', '03_RARE_T2w_ax')"
       ]
      },
      {
       "output_type": "stream",
       "stream": "stdout",
       "text": [
        "\n",
        "('dce-1', u'herS3M20.4a1/16', '07-FLASH3D-DCE')"
       ]
      },
      {
       "output_type": "stream",
       "stream": "stdout",
       "text": [
        "\n",
        "('roi-2', u'herS3M20.4h1/4', '03_RARE_T2w_ax')"
       ]
      },
      {
       "output_type": "stream",
       "stream": "stdout",
       "text": [
        "\n",
        "('dce-2', u'herS3M20.4h1/13', '07-FLASH3D-DCE')"
       ]
      },
      {
       "output_type": "stream",
       "stream": "stdout",
       "text": [
        "\n",
        "('roi-3', u'herS3M20.431/4', '03_RARE_T2w_ax')"
       ]
      },
      {
       "output_type": "stream",
       "stream": "stdout",
       "text": [
        "\n",
        "('dce-3', u'herS3M20.431/13', '07-FLASH3D-DCE')"
       ]
      },
      {
       "output_type": "stream",
       "stream": "stdout",
       "text": [
        "\n",
        "\n",
        "--------------------------------------------------------------------------------\n",
        "herS3M21"
       ]
      },
      {
       "output_type": "stream",
       "stream": "stdout",
       "text": [
        "\n",
        "('roi-0', u'herS3M21.3X1/4', '03_RARE_T2w_ax')"
       ]
      },
      {
       "output_type": "stream",
       "stream": "stdout",
       "text": [
        "\n",
        "('dce-0', u'herS3M21.3X1/14', '07-FLASH3D-DCE')"
       ]
      },
      {
       "output_type": "stream",
       "stream": "stdout",
       "text": [
        "\n",
        "('roi-1', u'herS3M21.4b1/14', '03_RARE_T2w_ax')"
       ]
      },
      {
       "output_type": "stream",
       "stream": "stdout",
       "text": [
        "\n",
        "('dce-1', u'herS3M21.4b1/23', '07-FLASH3D-DCE')"
       ]
      },
      {
       "output_type": "stream",
       "stream": "stdout",
       "text": [
        "\n",
        "('roi-2', u'herS3M21.4i1/7', '03_RARE_T2w_ax')"
       ]
      },
      {
       "output_type": "stream",
       "stream": "stdout",
       "text": [
        "\n",
        "('dce-2', u'herS3M21.4i1/16', '07-FLASH3D-DCE')"
       ]
      },
      {
       "output_type": "stream",
       "stream": "stdout",
       "text": [
        "\n",
        "('roi-3', u'herS3M21.441/4', '03_RARE_T2w_ax')"
       ]
      },
      {
       "output_type": "stream",
       "stream": "stdout",
       "text": [
        "\n",
        "('dce-3', u'herS3M21.441/14', '07-FLASH3D-DCE')"
       ]
      },
      {
       "output_type": "stream",
       "stream": "stdout",
       "text": [
        "\n",
        "\n",
        "--------------------------------------------------------------------------------\n",
        "herS3M22"
       ]
      },
      {
       "output_type": "stream",
       "stream": "stdout",
       "text": [
        "\n",
        "('roi-0', u'herS3M22.3X1/4', '03_RARE_T2w_ax')"
       ]
      },
      {
       "output_type": "stream",
       "stream": "stdout",
       "text": [
        "\n",
        "('dce-0', u'herS3M22.3X1/14', '07-FLASH3D-DCE')"
       ]
      },
      {
       "output_type": "stream",
       "stream": "stdout",
       "text": [
        "\n",
        "('roi-1', u'herS3M22.4b1/3', '03_RARE_T2w_ax')"
       ]
      },
      {
       "output_type": "stream",
       "stream": "stdout",
       "text": [
        "\n",
        "('dce-1', u'herS3M22.4b1/12', '07-FLASH3D-DCE')"
       ]
      },
      {
       "output_type": "stream",
       "stream": "stdout",
       "text": [
        "\n",
        "('roi-3', u'herS3M22.4i2/10', '03_RARE_T2w_ax')"
       ]
      },
      {
       "output_type": "stream",
       "stream": "stdout",
       "text": [
        "\n",
        "('dce-3', u'herS3M22.4i2/19', '07-FLASH3D-DCE')"
       ]
      },
      {
       "output_type": "stream",
       "stream": "stdout",
       "text": [
        "\n",
        "('roi-4', u'herS3M22.441/4', '03_RARE_T2w_ax')"
       ]
      },
      {
       "output_type": "stream",
       "stream": "stdout",
       "text": [
        "\n",
        "\n",
        "--------------------------------------------------------------------------------\n",
        "herS3M23"
       ]
      },
      {
       "output_type": "stream",
       "stream": "stdout",
       "text": [
        "\n",
        "('roi-0', u'herS3M23.3X1/4', '03_RARE_T2w_ax')"
       ]
      },
      {
       "output_type": "stream",
       "stream": "stdout",
       "text": [
        "\n",
        "('dce-0', u'herS3M23.3X1/13', '07-FLASH3D-DCE')"
       ]
      },
      {
       "output_type": "stream",
       "stream": "stdout",
       "text": [
        "\n",
        "('roi-1', u'herS3M23.4b1/5', '03_RARE_T2w_ax')"
       ]
      },
      {
       "output_type": "stream",
       "stream": "stdout",
       "text": [
        "\n",
        "('dce-1', u'herS3M23.4b1/14', '07-FLASH3D-DCE')"
       ]
      },
      {
       "output_type": "stream",
       "stream": "stdout",
       "text": [
        "\n",
        "('roi-2', u'herS3M23.4i1/4', '03_RARE_T2w_ax')"
       ]
      },
      {
       "output_type": "stream",
       "stream": "stdout",
       "text": [
        "\n",
        "('dce-2', u'herS3M23.4i1/14', '07-FLASH3D-DCE')"
       ]
      },
      {
       "output_type": "stream",
       "stream": "stdout",
       "text": [
        "\n",
        "('roi-3', u'herS3M23.441/8', '03_RARE_T2w_ax')"
       ]
      },
      {
       "output_type": "stream",
       "stream": "stdout",
       "text": [
        "\n",
        "('dce-3', u'herS3M23.441/18', '07-FLASH3D-DCE')"
       ]
      },
      {
       "output_type": "stream",
       "stream": "stdout",
       "text": [
        "\n"
       ]
      }
     ],
     "prompt_number": 12
    },
    {
     "cell_type": "code",
     "collapsed": false,
     "input": [],
     "language": "python",
     "metadata": {},
     "outputs": []
    }
   ],
   "metadata": {}
  }
 ]
}