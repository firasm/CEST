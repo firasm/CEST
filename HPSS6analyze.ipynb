{
 "metadata": {
  "name": "HPSS6analyze"
 },
 "nbformat": 3,
 "nbformat_minor": 0,
 "worksheets": [
  {
   "cells": [
    {
     "cell_type": "markdown",
     "metadata": {},
     "source": [
      "This is a template for analyzing various animals using the new python setup.\n",
      "\n",
      "Change the name of the experiment in Step 0, and then again the names of the labels in Step 4. This template requires that the masterlist be already created using generate_masterlist.py"
     ]
    },
    {
     "cell_type": "markdown",
     "metadata": {},
     "source": [
      "#### Set imports and define the experiment name"
     ]
    },
    {
     "cell_type": "code",
     "collapsed": false,
     "input": [
      "import sarpy\n",
      "import sarpy.fmoosvi.wrappers\n",
      "from datetime import datetime\n",
      "from collections import defaultdict\n",
      "import os\n",
      "import sys\n",
      "import errno\n",
      "\n",
      "startTime = datetime.now()"
     ],
     "language": "python",
     "metadata": {},
     "outputs": [],
     "prompt_number": 1
    },
    {
     "cell_type": "markdown",
     "metadata": {},
     "source": [
      "## Step 0 - Specify experiment name"
     ]
    },
    {
     "cell_type": "code",
     "collapsed": false,
     "input": [
      "masterlist = 'HPSS6'"
     ],
     "language": "python",
     "metadata": {},
     "outputs": [],
     "prompt_number": 2
    },
    {
     "cell_type": "markdown",
     "metadata": {},
     "source": [
      "## Step 1: Export ROIs"
     ]
    },
    {
     "cell_type": "code",
     "collapsed": false,
     "input": [
      "path = os.path.expanduser(os.path.join('~','mdata',masterlist,'rois'))\n",
      "\n",
      "# See if the rois directory exists, if it doesn't create it\n",
      "try:\n",
      "    os.makedirs(path)\n",
      "except OSError as exception:\n",
      "    if exception.errno != errno.EEXIST:\n",
      "        raise\n",
      "        \n",
      "os.chdir(os.path.expanduser(os.path.join('~','sarpy','io')))\n",
      "\n",
      "%run generate_rois.py -m HPSS6 -d 0h-roi -i export -p /Users/fmoosvi/mdata/HPSS6/rois/"
     ],
     "language": "python",
     "metadata": {},
     "outputs": [
      {
       "output_type": "stream",
       "stream": "stdout",
       "text": [
        "Nifti images were processed in /Users/fmoosvi/mdata/HPSS6/rois/\n"
       ]
      }
     ],
     "prompt_number": 3
    },
    {
     "cell_type": "markdown",
     "metadata": {},
     "source": [
      "Now go ahead and draw ROIs using ImageJ. When you're done, just rename the files with an a appended at the very end. For e.g., the source file _HerS2Mo01_10.nii_ will turn into _HerS2Mo01_10a.nii_ once the ROI is drawn"
     ]
    },
    {
     "cell_type": "markdown",
     "metadata": {},
     "source": [
      "## Step 2: Import the drawn ROIs back in as adata, update the bounding boxes"
     ]
    },
    {
     "cell_type": "code",
     "collapsed": false,
     "input": [
      "%run generate_rois.py -m HPSS6 -d 0h-roi -i import -p /Users/fmoosvi/mdata/HPSS6/rois/\n"
     ],
     "language": "python",
     "metadata": {},
     "outputs": [
      {
       "output_type": "stream",
       "stream": "stdout",
       "text": [
        "deleting item roi\n",
        "h_generate_roi: saved roi in adata with generic 'roi' label"
       ]
      },
      {
       "output_type": "stream",
       "stream": "stdout",
       "text": [
        "\n",
        "deleting item roi"
       ]
      },
      {
       "output_type": "stream",
       "stream": "stdout",
       "text": [
        "\n",
        "h_generate_roi: saved roi in adata with generic 'roi' label"
       ]
      },
      {
       "output_type": "stream",
       "stream": "stdout",
       "text": [
        "\n",
        "Nifti images were processed in /Users/fmoosvi/mdata/HPSS6/rois/\n"
       ]
      }
     ],
     "prompt_number": 4
    },
    {
     "cell_type": "code",
     "collapsed": false,
     "input": [
      "%run update_bbox -m HPSS6 -s 0h-roi -a roi"
     ],
     "language": "python",
     "metadata": {},
     "outputs": [],
     "prompt_number": 5
    },
    {
     "cell_type": "markdown",
     "metadata": {},
     "source": [
      "## Step 3: Perform basic analyses (no ROIs required)"
     ]
    },
    {
     "cell_type": "code",
     "collapsed": false,
     "input": [
      "analyze_list = []\n",
      "\n",
      "fFlag = False # Set whether or not the scan need to be overwritten, default False\n",
      "\n",
      "analyze_list.append(['0h-roi','roi_check',fFlag])\n",
      "\n",
      "analyze_list.append(['dce1','auc60',fFlag])\n",
      "\n",
      "analyze_list.append(['LL_before','T1map_LL',fFlag])\n",
      "analyze_list.append(['LL_after','T1map_LL',fFlag])\n",
      "\n",
      "analyze_list.append(['dce1','vtc',fFlag])\n",
      "\n",
      "\n",
      "for items in analyze_list:\n",
      "                                              \n",
      "    if len(items) == 3:\n",
      "                  \n",
      "        sarpy.fmoosvi.wrappers.bulk_analyze(masterlist, items[0], items[1], forceVal = items[2])\n",
      "\n",
      "    else:\n",
      "        sarpy.fmoosvi.wrappers.bulk_analyze(masterlist, items[0], items[1], items[2], forceVal = items[3])"
     ],
     "language": "python",
     "metadata": {},
     "outputs": [
      {
       "output_type": "stream",
       "stream": "stdout",
       "text": [
        "roi_check: adata already exists HPSS6Ss03.iy1/5\n",
        "roi_check: adata already exists HPSS6Ss04.iy1/8\n",
        "auc60: adata already exists HPSS6Ss03.iy1/9"
       ]
      },
      {
       "output_type": "stream",
       "stream": "stdout",
       "text": [
        "\n",
        "auc60: adata already exists HPSS6Ss04.iy1/12"
       ]
      },
      {
       "output_type": "stream",
       "stream": "stdout",
       "text": [
        "\n",
        "T1map_LL: adata already exists HPSS6Ss03.iy1/7 "
       ]
      },
      {
       "output_type": "stream",
       "stream": "stdout",
       "text": [
        "\n",
        "T1map_LL: adata already exists HPSS6Ss04.iy1/10 "
       ]
      },
      {
       "output_type": "stream",
       "stream": "stdout",
       "text": [
        "\n",
        "T1map_LL: adata already exists HPSS6Ss03.iy1/22 "
       ]
      },
      {
       "output_type": "stream",
       "stream": "stdout",
       "text": [
        "\n",
        "T1map_LL: Not found HPSS6Ss04 and LL_after\n",
        "vtc: adata already exists HPSS6Ss03.iy1/9"
       ]
      },
      {
       "output_type": "stream",
       "stream": "stdout",
       "text": [
        "\n",
        "vtc: adata already exists HPSS6Ss04.iy1/12"
       ]
      },
      {
       "output_type": "stream",
       "stream": "stdout",
       "text": [
        "\n"
       ]
      }
     ],
     "prompt_number": 6
    },
    {
     "cell_type": "markdown",
     "metadata": {},
     "source": [
      "## Step 4: Transfer ROIs to other scans via (resampling onto)"
     ]
    },
    {
     "cell_type": "code",
     "collapsed": false,
     "input": [
      "label = []\n",
      "label.append('T1map_LL')\n",
      "label.append('auc60')\n",
      "\n",
      "for l in label:\n",
      "    sarpy.fmoosvi.wrappers.bulk_transfer_roi(masterlist,l)"
     ],
     "language": "python",
     "metadata": {},
     "outputs": [
      {
       "output_type": "stream",
       "stream": "stdout",
       "text": [
        "bulk_transfer_roi: T1map_LL_roi adata already exists HPSS6Ss03.iy1/7\n",
        "bulk_transfer_roi: Success. Saved T1map_LL_roi in HPSS6Ss03.iy1/22"
       ]
      },
      {
       "output_type": "stream",
       "stream": "stdout",
       "text": [
        "\n",
        "bulk_transfer_roi: T1map_LL_roi adata already exists HPSS6Ss04.iy1/10"
       ]
      },
      {
       "output_type": "stream",
       "stream": "stdout",
       "text": [
        "\n",
        "bulk_transfer_roi: auc60_roi adata already exists HPSS6Ss03.iy1/9"
       ]
      },
      {
       "output_type": "stream",
       "stream": "stdout",
       "text": [
        "\n",
        "bulk_transfer_roi: Success. Saved auc60_roi in HPSS6Ss03.iy1/17"
       ]
      },
      {
       "output_type": "stream",
       "stream": "stdout",
       "text": [
        "\n",
        "bulk_transfer_roi: auc60_roi adata already exists HPSS6Ss04.iy1/12"
       ]
      },
      {
       "output_type": "stream",
       "stream": "stdout",
       "text": [
        "\n",
        "bulk_transfer_roi: Success. Saved auc60_roi in HPSS6Ss04.iy1/19"
       ]
      },
      {
       "output_type": "stream",
       "stream": "stdout",
       "text": [
        "\n"
       ]
      }
     ],
     "prompt_number": 7
    },
    {
     "cell_type": "markdown",
     "metadata": {},
     "source": [
      "## Step 5: Perform advanced analyses (requiring ROIs or basic adata)"
     ]
    },
    {
     "cell_type": "code",
     "collapsed": false,
     "input": [
      "adv_analyze_list = []\n",
      "fFlag = False\n",
      "\n",
      "adv_analyze_list.append([ 'dce1', 'ec','auc60_roi',fFlag])\n",
      "\n",
      "adv_analyze_list.append([ 'dce1', 'LL_before','T1map_LL','gd_conc',fFlag])\n",
      "\n",
      "adv_analyze_list.append([ 'dce1', 'gd_conc','augc60',fFlag])\n",
      "\n",
      "\n",
      "for items in adv_analyze_list:\n",
      "    \n",
      "    if items[1] == 'ec':\n",
      "        \n",
      "        sarpy.fmoosvi.wrappers.calc_enhancement_curve(masterlist,\n",
      "                                                      items[0],items[1],\n",
      "                                                      items[2],forceVal=fFlag)\n",
      "\n",
      "    if items[3] == 'gd_conc':\n",
      "             \n",
      "        \n",
      "        sarpy.fmoosvi.wrappers.conc_from_signal(masterlist, items[0],\n",
      "                                        data_label_T1map = items[1],\n",
      "                                        adata_label = items[2], \n",
      "                                        analysis_label = items[3],\n",
      "                                        forceVal = fFlag)\n",
      "\n",
      "    elif items[2] == 'augc60':\n",
      "        \n",
      "        sarpy.fmoosvi.wrappers.calc_AUGC(masterlist,\n",
      "                                         items[0], items[1],\n",
      "                                         analysis_label=items[2],\n",
      "                                         forceVal = items[3])"
     ],
     "language": "python",
     "metadata": {},
     "outputs": [
      {
       "output_type": "stream",
       "stream": "stdout",
       "text": [
        "ec adata already exists HPSS6Ss03.iy1/9\n",
        "ec adata already exists HPSS6Ss04.iy1/12\n",
        "gd_conc: adata already exists HPSS6Ss03.iy1/9 "
       ]
      },
      {
       "output_type": "stream",
       "stream": "stdout",
       "text": [
        "\n",
        "gd_conc: adata already exists HPSS6Ss04.iy1/12 "
       ]
      },
      {
       "output_type": "stream",
       "stream": "stdout",
       "text": [
        "\n",
        "augc60: adata already exists HPSS6Ss03.iy1/9 "
       ]
      },
      {
       "output_type": "stream",
       "stream": "stdout",
       "text": [
        "\n",
        "augc60: adata already exists HPSS6Ss04.iy1/12 "
       ]
      },
      {
       "output_type": "stream",
       "stream": "stdout",
       "text": [
        "\n"
       ]
      }
     ],
     "prompt_number": 8
    },
    {
     "cell_type": "code",
     "collapsed": false,
     "input": [
      "print(datetime.now()-startTime)"
     ],
     "language": "python",
     "metadata": {},
     "outputs": [
      {
       "output_type": "stream",
       "stream": "stdout",
       "text": [
        "0:10:46.359506\n"
       ]
      }
     ],
     "prompt_number": 41
    }
   ],
   "metadata": {}
  }
 ]
}