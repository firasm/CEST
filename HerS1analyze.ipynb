{
 "metadata": {
  "name": "HerS1analyze"
 },
 "nbformat": 3,
 "nbformat_minor": 0,
 "worksheets": [
  {
   "cells": [
    {
     "cell_type": "markdown",
     "metadata": {},
     "source": [
      "This is a template for analyzing various animals using the new python setup.\n",
      "\n",
      "Change the name of the experiment in Step 0, and then again the names of the labels in Step 4. This template requires that the masterlist be already created using generate_masterlist.py"
     ]
    },
    {
     "cell_type": "markdown",
     "metadata": {},
     "source": [
      "#### Set imports and define the experiment name"
     ]
    },
    {
     "cell_type": "code",
     "collapsed": false,
     "input": [
      "import sarpy\n",
      "import sarpy.fmoosvi.wrappers\n",
      "from datetime import datetime\n",
      "from collections import defaultdict\n",
      "import os\n",
      "import sys\n",
      "import errno\n",
      "\n",
      "startTime = datetime.now()"
     ],
     "language": "python",
     "metadata": {},
     "outputs": [],
     "prompt_number": 1
    },
    {
     "cell_type": "markdown",
     "metadata": {},
     "source": [
      "## Step 0 - Specify experiment name"
     ]
    },
    {
     "cell_type": "code",
     "collapsed": false,
     "input": [
      "masterlist = 'HerS1'\n",
      "path = os.path.join(os.path.expanduser('~'),'sdata',masterlist,'rois')\n",
      "\n",
      "# See if the rois directory exists, if it doesn't create it\n",
      "try:\n",
      "    os.makedirs(path)\n",
      "except OSError as exception:\n",
      "    if exception.errno != errno.EEXIST:\n",
      "        raise"
     ],
     "language": "python",
     "metadata": {},
     "outputs": [],
     "prompt_number": 2
    },
    {
     "cell_type": "markdown",
     "metadata": {},
     "source": [
      "Sometimes it is necessary to remove ALL adata from an experiment, and just start over... (say a messed up master_list). Here's how to do this:"
     ]
    },
    {
     "cell_type": "code",
     "collapsed": false,
     "input": [
      "#exp = sarpy.Experiment('herS1')\n",
      "#adata_keys = exp.find_adata()\n",
      "\n",
      "#for k in adata_keys:\n",
      "#    exp.rm_adata(k)"
     ],
     "language": "python",
     "metadata": {},
     "outputs": [],
     "prompt_number": 3
    },
    {
     "cell_type": "markdown",
     "metadata": {},
     "source": [
      "## Step 1: Export ROIs"
     ]
    },
    {
     "cell_type": "code",
     "collapsed": false,
     "input": [
      "fFlag = False\n",
      "\n",
      "smart_label = []\n",
      "smart_label.append(['0h-roi','0h-',fFlag])\n",
      "\n",
      "for sm in smart_label:\n",
      "    sarpy.io.generate_rois.generate_rois(masterlist,sm[0],'roi','export', path, sm[2])"
     ],
     "language": "python",
     "metadata": {},
     "outputs": [
      {
       "output_type": "stream",
       "stream": "stdout",
       "text": [
        "Nifti images were processed in /Users/fmoosvi/sdata/HerS1/rois\n"
       ]
      }
     ],
     "prompt_number": 4
    },
    {
     "cell_type": "markdown",
     "metadata": {},
     "source": [
      "Now go ahead and draw ROIs using ImageJ. When you're done, just rename the files with an a appended at the very end. For e.g., the source file _HerS2Mo01_10.nii_ will turn into _HerS2Mo01_10a.nii_ once the ROI is drawn"
     ]
    },
    {
     "cell_type": "markdown",
     "metadata": {},
     "source": [
      "## Step 2: Import the drawn ROIs back in as adata, update the bounding boxes"
     ]
    },
    {
     "cell_type": "code",
     "collapsed": false,
     "input": [
      "for sm in smart_label:\n",
      "    sarpy.io.generate_rois.generate_rois(masterlist,sm[0],'roi','import', path, sm[2])\n",
      "    sarpy.io.update_bbox.update_bbox(masterlist,sm[0],'roi',sm[1])"
     ],
     "language": "python",
     "metadata": {},
     "outputs": [
      {
       "output_type": "stream",
       "stream": "stdout",
       "text": [
        "roi: adata already exists herS1Lo01.2g1/4 \n",
        "roi: adata already exists herS1Lo02.2e1/6 \n",
        "roi: adata already exists herS1Lo02B.2g1/4 \n",
        "roi: adata already exists herS1Lo03.2e1/4 \n",
        "roi: adata already exists herS1Lo04.2e1/4 \n",
        "roi: adata already exists herS1Ls01.2e1/5 \n",
        "roi: adata already exists herS1Ls02.2g1/4 "
       ]
      },
      {
       "output_type": "stream",
       "stream": "stdout",
       "text": [
        "\n",
        "roi: adata already exists herS1Ls03.2f1/4 \n",
        "roi: adata already exists herS1Ls05.2e1/5 \n",
        "roi: adata already exists herS1Mo02.251/4 \n",
        "roi: adata already exists herS1Mo03.251/4 \n",
        "roi: adata already exists herS1Mo04.271/4 \n",
        "roi: adata already exists herS1Mo05.271/4 "
       ]
      },
      {
       "output_type": "stream",
       "stream": "stdout",
       "text": [
        "\n",
        "roi: adata already exists herS1Mo06.2g1/4 \n",
        "roi: adata already exists herS1Ms02.251/5 \n",
        "roi: adata already exists herS1Ms03.271/4 \n",
        "roi: adata already exists herS1Ms04.271/4 \n",
        "roi: adata already exists herS1Ms05.271/4 \n",
        "roi: adata already exists herS1Ms06.2g1/3 "
       ]
      },
      {
       "output_type": "stream",
       "stream": "stdout",
       "text": [
        "\n",
        "roi: adata already exists herS1So02.2m1/4 \n",
        "roi: adata already exists herS1So03.2n1/4 \n",
        "roi: adata already exists herS1So04.2m1/4 \n",
        "roi: adata already exists herS1So05.2n1/4 \n",
        "roi: adata already exists herS1Ss01.2m1/4 \n",
        "roi: adata already exists herS1Ss02.2m1/4 "
       ]
      },
      {
       "output_type": "stream",
       "stream": "stdout",
       "text": [
        "\n",
        "roi: adata already exists herS1Ss03.2n1/4 \n",
        "roi: adata already exists herS1Ss04.2m1/4 \n",
        "roi: adata already exists herS1Ss06.2n1/4 \n",
        "Nifti images were processed in /Users/fmoosvi/sdata/HerS1/rois\n",
        "update_bbox: Success, updated file is: HerS1_updated.json"
       ]
      },
      {
       "output_type": "stream",
       "stream": "stdout",
       "text": [
        "\n"
       ]
      }
     ],
     "prompt_number": 5
    },
    {
     "cell_type": "markdown",
     "metadata": {},
     "source": [
      "## Step 3: Perform basic analyses (no ROIs required)"
     ]
    },
    {
     "cell_type": "code",
     "collapsed": false,
     "input": [
      "analyze_list = []\n",
      "\n",
      "fFlag = False # Set whether or not the scan need to be overwritten, default False\n",
      "\n",
      "analyze_list.append(['0h-roi','roi_check',fFlag])\n",
      "\n",
      "analyze_list.append(['0h-dce1','auc60',fFlag])\n",
      "\n",
      "for items in analyze_list:\n",
      "                                              \n",
      "    if len(items) == 3:\n",
      "                  \n",
      "        sarpy.fmoosvi.wrappers.bulk_analyze(masterlist, items[0], items[1], forceVal = items[2])\n",
      "\n",
      "    else:\n",
      "        sarpy.fmoosvi.wrappers.bulk_analyze(masterlist, items[0], items[1], items[2], forceVal = items[3])"
     ],
     "language": "python",
     "metadata": {},
     "outputs": []
    },
    {
     "cell_type": "markdown",
     "metadata": {},
     "source": [
      "## Step 4: Transfer ROIs to other scans via (resampling onto)"
     ]
    },
    {
     "cell_type": "code",
     "collapsed": false,
     "input": [
      "label = []\n",
      "label.append('auc60')\n",
      "\n",
      "# Need to make exception for herS1 because it takes its name is herS1 while files are HerS1\n",
      "for l in label:\n",
      "    sarpy.fmoosvi.wrappers.bulk_transfer_roi('herS1',l)"
     ],
     "language": "python",
     "metadata": {},
     "outputs": []
    },
    {
     "cell_type": "markdown",
     "metadata": {},
     "source": [
      "## Step 5: Perform advanced analyses (requiring ROIs or basic adata)"
     ]
    },
    {
     "cell_type": "code",
     "collapsed": false,
     "input": [
      "adv_analyze_list = []\n",
      "fFlag = False\n",
      "\n",
      "adv_analyze_list.append([ '0h-dce1', 'ec','auc60_roi',fFlag])\n",
      "\n",
      "# T1 map\n",
      "#adv_analyze_list.append([ '0h-DCE1', 'gd_conc','augc60',fFlag])\n",
      "\n",
      "for items in adv_analyze_list:\n",
      "    \n",
      "    if items[1] == 'ec':\n",
      "        sarpy.fmoosvi.wrappers.calc_enhancement_curve(masterlist,\n",
      "                                                      items[0],items[1],\n",
      "                                                      items[2],forceVal=fFlag)\n",
      "#\n",
      "#    if items[3] == 'gd_conc':\n",
      "#        \n",
      "#        sarpy.fmoosvi.wrappers.conc_from_signal(masterlist, items[0],\n",
      "#                                        data_label_T1map = items[1],\n",
      "#                                        adata_label = items[2], \n",
      "#                                        analysis_label = items[3],\n",
      "#                                        forceVal = fFlag)\n",
      "#\n",
      "#    elif items[2] == 'augc60':\n",
      "#        \n",
      "#        sarpy.fmoosvi.wrappers.calc_AUGC(masterlist,\n",
      "#                                         items[0], items[1],\n",
      "#                                         analysis_label=items[2],\n",
      "#                                         forceVal = items[3])"
     ],
     "language": "python",
     "metadata": {},
     "outputs": []
    },
    {
     "cell_type": "code",
     "collapsed": false,
     "input": [
      "print(datetime.now()-startTime)"
     ],
     "language": "python",
     "metadata": {},
     "outputs": []
    },
    {
     "cell_type": "code",
     "collapsed": false,
     "input": [],
     "language": "python",
     "metadata": {},
     "outputs": []
    },
    {
     "cell_type": "code",
     "collapsed": false,
     "input": [
      "exp = sarpy.Experiment('herS1')\n",
      "exp.rm_adata('ec')"
     ],
     "language": "python",
     "metadata": {},
     "outputs": []
    },
    {
     "cell_type": "code",
     "collapsed": false,
     "input": [
      "exp.find_adata()"
     ],
     "language": "python",
     "metadata": {},
     "outputs": []
    },
    {
     "cell_type": "code",
     "collapsed": false,
     "input": [],
     "language": "python",
     "metadata": {},
     "outputs": []
    }
   ],
   "metadata": {}
  }
 ]
}