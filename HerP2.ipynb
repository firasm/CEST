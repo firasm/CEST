{
 "metadata": {
  "name": ""
 },
 "nbformat": 3,
 "nbformat_minor": 0,
 "worksheets": [
  {
   "cells": [
    {
     "cell_type": "markdown",
     "metadata": {},
     "source": [
      "### Basic Analyses"
     ]
    },
    {
     "cell_type": "code",
     "collapsed": false,
     "input": [
      "import sarpy\n",
      "import sarpy.io\n",
      "import sarpy.io.bulk_analyze\n",
      "\n",
      "import sarpy.fmoosvi.analysis\n",
      "import sarpy.io.masterlist\n",
      "import sarpy.fmoosvi.getters\n",
      "import sarpy.fmoosvi.wrappers\n",
      "import sarpy.io.write_csv\n",
      "import collections\n",
      "import os\n",
      "\n",
      "masterlist = 'HerP2'\n",
      "config_file = 'HerP2/HerP2.config'"
     ],
     "language": "python",
     "metadata": {},
     "outputs": [],
     "prompt_number": 1
    },
    {
     "cell_type": "code",
     "collapsed": false,
     "input": [
      "sarpy.io.masterlist.generate(conf_file=config_file)"
     ],
     "language": "python",
     "metadata": {},
     "outputs": [
      {
       "output_type": "stream",
       "stream": "stdout",
       "text": [
        "loading config file HerP2/HerP2.config\n",
        "HerP2Bs01\n",
        "\t warning (SCAN #0 not found amongst the 03_RARE_T2w_coronal_hires) \"anat-0h\" for HerP2Bs01"
       ]
      },
      {
       "output_type": "stream",
       "stream": "stdout",
       "text": [
        "\n",
        "\t warning (SCAN #1 not found amongst the ubcLL2_base_HCT_SQ) \"LL-24h+\" for HerP2Bs01"
       ]
      },
      {
       "output_type": "stream",
       "stream": "stdout",
       "text": [
        "\n",
        "HerP2Bs02\n",
        "\t warning (SCAN #0 not found amongst the 03_RARE_T2w_coronal_hires) \"anat-0h\" for HerP2Bs02"
       ]
      },
      {
       "output_type": "stream",
       "stream": "stdout",
       "text": [
        "\n",
        "\t warning (SCAN #1 not found amongst the ubcLL2_base_HCT_SQ) \"LL-24h+\" for HerP2Bs02"
       ]
      },
      {
       "output_type": "stream",
       "stream": "stdout",
       "text": [
        "\n",
        "HerP2Bs03\n",
        "\t warning (SCAN #0 not found amongst the 03_RARE_T2w_coronal_hires) \"anat-0h\" for HerP2Bs03"
       ]
      },
      {
       "output_type": "stream",
       "stream": "stdout",
       "text": [
        "\n",
        "\t warning (SCAN #1 not found amongst the ubcLL2_base_HCT_SQ) \"LL-24h+\" for HerP2Bs03"
       ]
      },
      {
       "output_type": "stream",
       "stream": "stdout",
       "text": [
        "\n",
        "HerP2Bs04\n",
        "\t warning (SCAN #0 not found amongst the 03_RARE_T2w_coronal_hires) \"anat-0h\" for HerP2Bs04"
       ]
      },
      {
       "output_type": "stream",
       "stream": "stdout",
       "text": [
        "\n",
        "HerP2Bs05"
       ]
      },
      {
       "output_type": "stream",
       "stream": "stdout",
       "text": [
        "\n",
        "\t warning (SCAN #0 not found amongst the 03_RARE_T2w_coronal_hires) \"anat-0h\" for HerP2Bs05"
       ]
      },
      {
       "output_type": "stream",
       "stream": "stdout",
       "text": [
        "\n",
        "HerP2Bs06"
       ]
      },
      {
       "output_type": "stream",
       "stream": "stdout",
       "text": [
        "\n",
        "HerP2Bs07"
       ]
      },
      {
       "output_type": "stream",
       "stream": "stdout",
       "text": [
        "\n",
        "HerP2Bs08"
       ]
      },
      {
       "output_type": "stream",
       "stream": "stdout",
       "text": [
        "\n",
        "HerP2Bs09"
       ]
      },
      {
       "output_type": "stream",
       "stream": "stdout",
       "text": [
        "\n",
        "\t warning (SCAN #0 not found amongst the 03_RARE_T2w_coronal_hires) \"anat-0h\" for HerP2Bs09"
       ]
      },
      {
       "output_type": "stream",
       "stream": "stdout",
       "text": [
        "\n",
        "\t warning (SCAN #0 not found amongst the 03_RARE_T2w_coronal_hires) \"anat-24h\" for HerP2Bs09"
       ]
      },
      {
       "output_type": "stream",
       "stream": "stdout",
       "text": [
        "\n",
        "HerP2Bs10\n",
        "\t warning (SCAN #0 not found amongst the 03_RARE_T2w_coronal_hires) \"anat-0h\" for HerP2Bs10"
       ]
      },
      {
       "output_type": "stream",
       "stream": "stdout",
       "text": [
        "\n",
        "\t warning (SCAN #0 not found amongst the 03_RARE_T2w_coronal_hires) \"anat-24h\" for HerP2Bs10"
       ]
      },
      {
       "output_type": "stream",
       "stream": "stdout",
       "text": [
        "\n",
        "ignoring HerP2Bs11\n",
        "No rois were found, bboxes are likely incorrect. Proceed with caution!"
       ]
      },
      {
       "output_type": "stream",
       "stream": "stdout",
       "text": [
        "\n",
        "wrote master_list to /Users/fmoosvi/sdata/HerP2/HerP2.json\n"
       ]
      }
     ],
     "prompt_number": 3
    },
    {
     "cell_type": "code",
     "collapsed": false,
     "input": [
      "fFlag = True\n",
      "\n",
      "sarpy.io.generate_rois.generate_rois(masterlist,'export', forceVal = fFlag)\n",
      "\n",
      "try:\n",
      "    sarpy.io.generate_rois.generate_rois(masterlist,'import', forceVal = fFlag)\n",
      "    sarpy.io.masterlist.generate(conf_file=config_file) # update bboxes\n",
      "except IOError:\n",
      "    pass"
     ],
     "language": "python",
     "metadata": {},
     "outputs": [
      {
       "output_type": "stream",
       "stream": "stdout",
       "text": [
        "Nifti images were processed in /Users/fmoosvi/sdata/HerP2/rois\n",
        "h_generate_roi: saved HerP2Bs01.jK1/4 roi label"
       ]
      },
      {
       "output_type": "stream",
       "stream": "stdout",
       "text": [
        "\n",
        "h_generate_roi: saved HerP2Bs01.jJ1/6 roi label"
       ]
      },
      {
       "output_type": "stream",
       "stream": "stdout",
       "text": [
        "\n",
        "h_generate_roi: saved HerP2Bs02.jK1/5 roi label"
       ]
      },
      {
       "output_type": "stream",
       "stream": "stdout",
       "text": [
        "\n",
        "h_generate_roi: saved HerP2Bs02.jJ2/4 roi label"
       ]
      },
      {
       "output_type": "stream",
       "stream": "stdout",
       "text": [
        "\n",
        "h_generate_roi: saved HerP2Bs03.jL1/5 roi label"
       ]
      },
      {
       "output_type": "stream",
       "stream": "stdout",
       "text": [
        "\n",
        "h_generate_roi: saved HerP2Bs03.jK1/4 roi label"
       ]
      },
      {
       "output_type": "stream",
       "stream": "stdout",
       "text": [
        "\n",
        "h_generate_roi: saved HerP2Bs04.jL1/4 roi label"
       ]
      },
      {
       "output_type": "stream",
       "stream": "stdout",
       "text": [
        "\n",
        "h_generate_roi: saved HerP2Bs04.jK1/4 roi label"
       ]
      },
      {
       "output_type": "stream",
       "stream": "stdout",
       "text": [
        "\n",
        "h_generate_roi: saved HerP2Bs05.jL1/4 roi label"
       ]
      },
      {
       "output_type": "stream",
       "stream": "stdout",
       "text": [
        "\n",
        "h_generate_roi: saved HerP2Bs05.jK1/4 roi label"
       ]
      },
      {
       "output_type": "stream",
       "stream": "stdout",
       "text": [
        "\n",
        "h_generate_roi: saved HerP2Bs06.jU1/4 roi label"
       ]
      },
      {
       "output_type": "stream",
       "stream": "stdout",
       "text": [
        "\n",
        "h_generate_roi: saved HerP2Bs06.jT1/4 roi label"
       ]
      },
      {
       "output_type": "stream",
       "stream": "stdout",
       "text": [
        "\n",
        "h_generate_roi: saved HerP2Bs07.jU1/4 roi label"
       ]
      },
      {
       "output_type": "stream",
       "stream": "stdout",
       "text": [
        "\n",
        "h_generate_roi: saved HerP2Bs07.jT1/4 roi label"
       ]
      },
      {
       "output_type": "stream",
       "stream": "stdout",
       "text": [
        "\n",
        "h_generate_roi: saved HerP2Bs08.jU1/4 roi label"
       ]
      },
      {
       "output_type": "stream",
       "stream": "stdout",
       "text": [
        "\n",
        "h_generate_roi: saved HerP2Bs08.jT1/4 roi label"
       ]
      },
      {
       "output_type": "stream",
       "stream": "stdout",
       "text": [
        "\n",
        "h_generate_roi: saved HerP2Bs09.kq1/3 roi label"
       ]
      },
      {
       "output_type": "stream",
       "stream": "stdout",
       "text": [
        "\n",
        "h_generate_roi: saved HerP2Bs09.kp1/4 roi label"
       ]
      },
      {
       "output_type": "stream",
       "stream": "stdout",
       "text": [
        "\n",
        "h_generate_roi: saved HerP2Bs10.kq1/3 roi label"
       ]
      },
      {
       "output_type": "stream",
       "stream": "stdout",
       "text": [
        "\n",
        "h_generate_roi: saved HerP2Bs10.kp1/3 roi label"
       ]
      },
      {
       "output_type": "stream",
       "stream": "stdout",
       "text": [
        "\n",
        "Nifti images were processed in /Users/fmoosvi/sdata/HerP2/rois\n",
        "loading config file HerP2/HerP2.config\n",
        "HerP2Bs01"
       ]
      },
      {
       "output_type": "stream",
       "stream": "stdout",
       "text": [
        "\n",
        "\t warning (SCAN #0 not found amongst the 03_RARE_T2w_coronal_hires) \"anat-0h\" for HerP2Bs01"
       ]
      },
      {
       "output_type": "stream",
       "stream": "stdout",
       "text": [
        "\n",
        "\t warning (SCAN #1 not found amongst the ubcLL2_base_HCT_SQ) \"LL-24h+\" for HerP2Bs01"
       ]
      },
      {
       "output_type": "stream",
       "stream": "stdout",
       "text": [
        "\n",
        "HerP2Bs02\n",
        "\t warning (SCAN #0 not found amongst the 03_RARE_T2w_coronal_hires) \"anat-0h\" for HerP2Bs02"
       ]
      },
      {
       "output_type": "stream",
       "stream": "stdout",
       "text": [
        "\n",
        "\t warning (SCAN #1 not found amongst the ubcLL2_base_HCT_SQ) \"LL-24h+\" for HerP2Bs02"
       ]
      },
      {
       "output_type": "stream",
       "stream": "stdout",
       "text": [
        "\n",
        "HerP2Bs03\n",
        "\t warning (SCAN #0 not found amongst the 03_RARE_T2w_coronal_hires) \"anat-0h\" for HerP2Bs03"
       ]
      },
      {
       "output_type": "stream",
       "stream": "stdout",
       "text": [
        "\n",
        "\t warning (SCAN #1 not found amongst the ubcLL2_base_HCT_SQ) \"LL-24h+\" for HerP2Bs03"
       ]
      },
      {
       "output_type": "stream",
       "stream": "stdout",
       "text": [
        "\n",
        "HerP2Bs04\n",
        "\t warning (SCAN #0 not found amongst the 03_RARE_T2w_coronal_hires) \"anat-0h\" for HerP2Bs04"
       ]
      },
      {
       "output_type": "stream",
       "stream": "stdout",
       "text": [
        "\n",
        "HerP2Bs05"
       ]
      },
      {
       "output_type": "stream",
       "stream": "stdout",
       "text": [
        "\n",
        "\t warning (SCAN #0 not found amongst the 03_RARE_T2w_coronal_hires) \"anat-0h\" for HerP2Bs05"
       ]
      },
      {
       "output_type": "stream",
       "stream": "stdout",
       "text": [
        "\n",
        "HerP2Bs06"
       ]
      },
      {
       "output_type": "stream",
       "stream": "stdout",
       "text": [
        "\n",
        "HerP2Bs07"
       ]
      },
      {
       "output_type": "stream",
       "stream": "stdout",
       "text": [
        "\n",
        "HerP2Bs08"
       ]
      },
      {
       "output_type": "stream",
       "stream": "stdout",
       "text": [
        "\n",
        "HerP2Bs09"
       ]
      },
      {
       "output_type": "stream",
       "stream": "stdout",
       "text": [
        "\n",
        "\t warning (SCAN #0 not found amongst the 03_RARE_T2w_coronal_hires) \"anat-0h\" for HerP2Bs09"
       ]
      },
      {
       "output_type": "stream",
       "stream": "stdout",
       "text": [
        "\n",
        "\t warning (SCAN #0 not found amongst the 03_RARE_T2w_coronal_hires) \"anat-24h\" for HerP2Bs09"
       ]
      },
      {
       "output_type": "stream",
       "stream": "stdout",
       "text": [
        "\n",
        "HerP2Bs10\n",
        "\t warning (SCAN #0 not found amongst the 03_RARE_T2w_coronal_hires) \"anat-0h\" for HerP2Bs10"
       ]
      },
      {
       "output_type": "stream",
       "stream": "stdout",
       "text": [
        "\n",
        "\t warning (SCAN #0 not found amongst the 03_RARE_T2w_coronal_hires) \"anat-24h\" for HerP2Bs10"
       ]
      },
      {
       "output_type": "stream",
       "stream": "stdout",
       "text": [
        "\n",
        "ignoring HerP2Bs11\n",
        "wrote master_list to /Users/fmoosvi/sdata/HerP2/HerP2.json"
       ]
      },
      {
       "output_type": "stream",
       "stream": "stdout",
       "text": [
        "\n"
       ]
      }
     ],
     "prompt_number": 4
    },
    {
     "cell_type": "code",
     "collapsed": false,
     "input": [
      "analyses = collections.OrderedDict()\n",
      "fFlag = False\n",
      "\n",
      "## AUC 60\n",
      "analyses['auc']={'scan_label':'dce-[0-9]*',\n",
      "                 'adata_save_label':'auc60',\n",
      "                 'force_overwrite':fFlag}\n",
      "## VTC\n",
      "analyses['vtc']={'scan_label':'dce-[0-9]*',\n",
      "                 'adata_save_label':'vtc',\n",
      "                 'force_overwrite':fFlag}\n",
      "## T1 Map\n",
      "analyses['T1_LL']={'scan_label':'LL*',\n",
      "                   'adata_save_label':'T1_LL',\n",
      "                   'force_overwrite':fFlag}\n",
      "\n",
      "for atype in analyses:\n",
      "    \n",
      "    toAnalyze = True    \n",
      "           \n",
      "    if atype == 'auc':\n",
      "            \n",
      "        def myfunc(dict_of_params):\n",
      "            import sarpy.fmoosvi.analysis            \n",
      "            reload(sarpy.fmoosvi.analysis)\n",
      "            \n",
      "            return sarpy.fmoosvi.analysis.h_calculate_AUC(**dict_of_params)\n",
      "\n",
      "    elif atype == 'T1_LL':\n",
      "\n",
      "        def myfunc(dict_of_params):\n",
      "        \n",
      "            import sarpy.fmoosvi.analysis\n",
      "            import sarpy.fmoosvi.getters\n",
      "            reload(sarpy.fmoosvi.analysis)\n",
      "            reload(sarpy.fmoosvi.getters)\n",
      "            \n",
      "            return sarpy.fmoosvi.analysis.h_fit_T1_LL_FAind(**dict_of_params)\n",
      "        \n",
      "    elif atype == 'vtc':\n",
      "\n",
      "        def myfunc(dict_of_params):\n",
      "        \n",
      "            import sarpy.fmoosvi.analysis\n",
      "            import sarpy.fmoosvi.getters\n",
      "            reload(sarpy.fmoosvi.analysis)\n",
      "            reload(sarpy.fmoosvi.getters)\n",
      "            \n",
      "            return sarpy.fmoosvi.analysis.h_generate_VTC(**dict_of_params)   \n",
      "        \n",
      "    else:\n",
      "        \n",
      "        toAnalyze = False        \n",
      "\n",
      "    if toAnalyze:\n",
      "        \n",
      "        an = sarpy.io.bulk_analyze.ParallelBulkAnalyzerFactory.from_function(\n",
      "                            myfunc,\n",
      "                            ipython_profile='sarlab',\n",
      "                            masterlist_fname=masterlist,\n",
      "                            **analyses[atype])\n",
      "        an.process()\n",
      "\n",
      "print('Analysis Complete')"
     ],
     "language": "python",
     "metadata": {},
     "outputs": [
      {
       "output_type": "stream",
       "stream": "stdout",
       "text": [
        "###########\n",
        "Currently, there are 16 clients running\n",
        "importing os on engine(s)\n",
        "importing sys on engine(s)\n",
        "importing sarpy on engine(s)\n",
        "importing sarpy.fmoosvi.analysis on engine(s)\n",
        "###########"
       ]
      },
      {
       "output_type": "stream",
       "stream": "stdout",
       "text": [
        "\n",
        "no scans fit the criterion so nothing was processed"
       ]
      },
      {
       "output_type": "stream",
       "stream": "stdout",
       "text": [
        "\n",
        "###### Parallelized Code: 0.673481225967 s \n",
        "\n",
        "###########\n",
        "Currently, there are 16 clients running\n",
        "importing os on engine(s)\n",
        "importing sys on engine(s)"
       ]
      },
      {
       "output_type": "stream",
       "stream": "stdout",
       "text": [
        "\n",
        "importing sarpy on engine(s)\n",
        "importing sarpy.fmoosvi.analysis on engine(s)\n",
        "###########"
       ]
      },
      {
       "output_type": "stream",
       "stream": "stdout",
       "text": [
        "\n",
        "no scans fit the criterion so nothing was processed"
       ]
      },
      {
       "output_type": "stream",
       "stream": "stdout",
       "text": [
        "\n",
        "###### Parallelized Code: 0.699642896652 s \n",
        "\n",
        "###########\n",
        "Currently, there are 16 clients running\n",
        "importing os on engine(s)\n",
        "importing sys on engine(s)"
       ]
      },
      {
       "output_type": "stream",
       "stream": "stdout",
       "text": [
        "\n",
        "importing sarpy on engine(s)\n",
        "importing sarpy.fmoosvi.analysis on engine(s)\n",
        "###########"
       ]
      },
      {
       "output_type": "stream",
       "stream": "stdout",
       "text": [
        "\n",
        "no scans fit the criterion so nothing was processed"
       ]
      },
      {
       "output_type": "stream",
       "stream": "stdout",
       "text": [
        "\n",
        "###### Parallelized Code: 0.503130197525 s \n",
        "\n",
        "Analysis Complete\n"
       ]
      }
     ],
     "prompt_number": 3
    },
    {
     "cell_type": "markdown",
     "metadata": {},
     "source": [
      "### Transferring ROIs"
     ]
    },
    {
     "cell_type": "code",
     "collapsed": true,
     "input": [
      "import sarpy.fmoosvi.wrappers\n",
      "reload(sarpy.fmoosvi.wrappers)\n",
      "fFlag = True\n",
      "\n",
      "label = [] \n",
      "label.append('T1_LL')\n",
      "label.append('auc60')\n",
      "\n",
      "for l in label:\n",
      "    sarpy.fmoosvi.wrappers.bulk_transfer_roi(masterlist,l, forceVal = fFlag)"
     ],
     "language": "python",
     "metadata": {},
     "outputs": [
      {
       "output_type": "stream",
       "stream": "stdout",
       "text": [
        "Saved T1_LL_roi in HerP2Bs01.jK1/5\n",
        "Saved T1_LL_roi in HerP2Bs01.jJ1/2"
       ]
      },
      {
       "output_type": "stream",
       "stream": "stdout",
       "text": [
        "\n",
        "Saved T1_LL_roi in HerP2Bs02.jK1/6"
       ]
      },
      {
       "output_type": "stream",
       "stream": "stdout",
       "text": [
        "\n",
        "Saved T1_LL_roi in HerP2Bs02.jJ1/9"
       ]
      },
      {
       "output_type": "stream",
       "stream": "stdout",
       "text": [
        "\n",
        "Saved T1_LL_roi in HerP2Bs03.jL1/6"
       ]
      },
      {
       "output_type": "stream",
       "stream": "stdout",
       "text": [
        "\n",
        "Saved T1_LL_roi in HerP2Bs03.jK1/5"
       ]
      },
      {
       "output_type": "stream",
       "stream": "stdout",
       "text": [
        "\n",
        "Saved T1_LL_roi in HerP2Bs04.jL1/5"
       ]
      },
      {
       "output_type": "stream",
       "stream": "stdout",
       "text": [
        "\n",
        "Saved T1_LL_roi in HerP2Bs04.jL1/9"
       ]
      },
      {
       "output_type": "stream",
       "stream": "stdout",
       "text": [
        "\n",
        "Saved T1_LL_roi in HerP2Bs04.jK1/5"
       ]
      },
      {
       "output_type": "stream",
       "stream": "stdout",
       "text": [
        "\n",
        "Saved T1_LL_roi in HerP2Bs05.jL1/5"
       ]
      },
      {
       "output_type": "stream",
       "stream": "stdout",
       "text": [
        "\n",
        "Saved T1_LL_roi in HerP2Bs05.jL1/9"
       ]
      },
      {
       "output_type": "stream",
       "stream": "stdout",
       "text": [
        "\n",
        "Saved T1_LL_roi in HerP2Bs05.jK1/5"
       ]
      },
      {
       "output_type": "stream",
       "stream": "stdout",
       "text": [
        "\n",
        "Saved T1_LL_roi in HerP2Bs06.jU1/5"
       ]
      },
      {
       "output_type": "stream",
       "stream": "stdout",
       "text": [
        "\n",
        "Saved T1_LL_roi in HerP2Bs06.jU1/9"
       ]
      },
      {
       "output_type": "stream",
       "stream": "stdout",
       "text": [
        "\n",
        "Saved T1_LL_roi in HerP2Bs06.jT1/5"
       ]
      },
      {
       "output_type": "stream",
       "stream": "stdout",
       "text": [
        "\n",
        "Saved T1_LL_roi in HerP2Bs07.jU1/5"
       ]
      },
      {
       "output_type": "stream",
       "stream": "stdout",
       "text": [
        "\n",
        "Saved T1_LL_roi in HerP2Bs07.jU1/9"
       ]
      },
      {
       "output_type": "stream",
       "stream": "stdout",
       "text": [
        "\n",
        "Saved T1_LL_roi in HerP2Bs07.jT1/5"
       ]
      },
      {
       "output_type": "stream",
       "stream": "stdout",
       "text": [
        "\n",
        "Saved T1_LL_roi in HerP2Bs08.jU1/5"
       ]
      },
      {
       "output_type": "stream",
       "stream": "stdout",
       "text": [
        "\n",
        "Saved T1_LL_roi in HerP2Bs08.jU1/9"
       ]
      },
      {
       "output_type": "stream",
       "stream": "stdout",
       "text": [
        "\n",
        "Saved T1_LL_roi in HerP2Bs08.jT1/5"
       ]
      },
      {
       "output_type": "stream",
       "stream": "stdout",
       "text": [
        "\n",
        "Saved T1_LL_roi in HerP2Bs09.kq1/4"
       ]
      },
      {
       "output_type": "stream",
       "stream": "stdout",
       "text": [
        "\n",
        "Saved T1_LL_roi in HerP2Bs09.kq1/8"
       ]
      },
      {
       "output_type": "stream",
       "stream": "stdout",
       "text": [
        "\n",
        "Saved T1_LL_roi in HerP2Bs09.kp1/5"
       ]
      },
      {
       "output_type": "stream",
       "stream": "stdout",
       "text": [
        "\n",
        "Saved T1_LL_roi in HerP2Bs10.kq1/4"
       ]
      },
      {
       "output_type": "stream",
       "stream": "stdout",
       "text": [
        "\n",
        "Saved T1_LL_roi in HerP2Bs10.kq1/8"
       ]
      },
      {
       "output_type": "stream",
       "stream": "stdout",
       "text": [
        "\n",
        "Saved T1_LL_roi in HerP2Bs10.kp1/5"
       ]
      },
      {
       "output_type": "stream",
       "stream": "stdout",
       "text": [
        "\n",
        "adata auc60_roi deleted in HerP2Bs01"
       ]
      },
      {
       "output_type": "stream",
       "stream": "stdout",
       "text": [
        "\n",
        "Saved auc60_roi in HerP2Bs01.jK1/9"
       ]
      },
      {
       "output_type": "stream",
       "stream": "stdout",
       "text": [
        "\n",
        "adata auc60_roi deleted in HerP2Bs02"
       ]
      },
      {
       "output_type": "stream",
       "stream": "stdout",
       "text": [
        "\n",
        "Saved auc60_roi in HerP2Bs02.jK1/9"
       ]
      },
      {
       "output_type": "stream",
       "stream": "stdout",
       "text": [
        "\n",
        "adata auc60_roi deleted in HerP2Bs03"
       ]
      },
      {
       "output_type": "stream",
       "stream": "stdout",
       "text": [
        "\n",
        "Saved auc60_roi in HerP2Bs03.jL1/9"
       ]
      },
      {
       "output_type": "stream",
       "stream": "stdout",
       "text": [
        "\n",
        "adata auc60_roi deleted in HerP2Bs04"
       ]
      },
      {
       "output_type": "stream",
       "stream": "stdout",
       "text": [
        "\n",
        "Saved auc60_roi in HerP2Bs04.jL1/8"
       ]
      },
      {
       "output_type": "stream",
       "stream": "stdout",
       "text": [
        "\n",
        "adata auc60_roi deleted in HerP2Bs05"
       ]
      },
      {
       "output_type": "stream",
       "stream": "stdout",
       "text": [
        "\n",
        "Saved auc60_roi in HerP2Bs05.jL1/8"
       ]
      },
      {
       "output_type": "stream",
       "stream": "stdout",
       "text": [
        "\n",
        "adata auc60_roi deleted in HerP2Bs06"
       ]
      },
      {
       "output_type": "stream",
       "stream": "stdout",
       "text": [
        "\n",
        "Saved auc60_roi in HerP2Bs06.jU1/8"
       ]
      },
      {
       "output_type": "stream",
       "stream": "stdout",
       "text": [
        "\n",
        "adata auc60_roi deleted in HerP2Bs07"
       ]
      },
      {
       "output_type": "stream",
       "stream": "stdout",
       "text": [
        "\n",
        "Saved auc60_roi in HerP2Bs07.jU1/8"
       ]
      },
      {
       "output_type": "stream",
       "stream": "stdout",
       "text": [
        "\n",
        "adata auc60_roi deleted in HerP2Bs08"
       ]
      },
      {
       "output_type": "stream",
       "stream": "stdout",
       "text": [
        "\n",
        "Saved auc60_roi in HerP2Bs08.jU1/8"
       ]
      },
      {
       "output_type": "stream",
       "stream": "stdout",
       "text": [
        "\n",
        "adata auc60_roi deleted in HerP2Bs09"
       ]
      },
      {
       "output_type": "stream",
       "stream": "stdout",
       "text": [
        "\n",
        "Saved auc60_roi in HerP2Bs09.kq1/7"
       ]
      },
      {
       "output_type": "stream",
       "stream": "stdout",
       "text": [
        "\n",
        "adata auc60_roi deleted in HerP2Bs10"
       ]
      },
      {
       "output_type": "stream",
       "stream": "stdout",
       "text": [
        "\n",
        "Saved auc60_roi in HerP2Bs10.kq1/7"
       ]
      },
      {
       "output_type": "stream",
       "stream": "stdout",
       "text": [
        "\n"
       ]
      }
     ],
     "prompt_number": 6
    },
    {
     "cell_type": "markdown",
     "metadata": {},
     "source": [
      "### Advanced Analyses"
     ]
    },
    {
     "cell_type": "code",
     "collapsed": false,
     "input": [
      "import sarpy\n",
      "import sarpy.io.bulk_analyze\n",
      "import sarpy.fmoosvi.analysis\n",
      "import collections\n",
      "\n",
      "advancedAnalyses = collections.OrderedDict()\n",
      "fFlag = False\n",
      "\n",
      "## Enhancement Curve\n",
      "advancedAnalyses['ec']={\n",
      "                         'scan_label':'dce-[0-9]*ha',\n",
      "                         'adata_roi_label':'auc60_roi',\n",
      "                         'adata_save_label':'ec',\n",
      "                         'force_overwrite':fFlag\n",
      "                         }\n",
      "## Gd_conc - 24h\n",
      "advancedAnalyses['gd_conc_24h']={\n",
      "                             'scan_label':'dce-24ha',\n",
      "                             'other_scan_label':'LL-24h-',\n",
      "                             'adata_label':'T1_LL',\n",
      "                             'relaxivity':4.3e-3,\n",
      "                             'adata_save_label':'gd_conc',\n",
      "                             'force_overwrite':fFlag\n",
      "                             }\n",
      "## AUGC60 - 24h\n",
      "advancedAnalyses['augc_24h']={\n",
      "                             'scan_label':'dce-24ha',\n",
      "                             'other_scan_label':'LL-24h-',\n",
      "                             'adata_label':'gd_conc',\n",
      "                             'relaxivity':4.3e-3,\n",
      "                             'adata_save_label':'augc60',\n",
      "                             'force_overwrite':fFlag\n",
      "                             }\n",
      "for atype in advancedAnalyses:\n",
      "\n",
      "    toAnalyze = True\n",
      "    \n",
      "    if 'ec' in atype:\n",
      "                   \n",
      "        def myfunc(dict_of_params):\n",
      "            import sarpy.fmoosvi.analysis            \n",
      "            reload(sarpy.fmoosvi.analysis)\n",
      "            \n",
      "            import sarpy.fmoosvi.getters\n",
      "            reload(sarpy.fmoosvi.getters)\n",
      "            \n",
      "            import sys\n",
      "\n",
      "            return sarpy.fmoosvi.analysis.h_enhancement_curve(**dict_of_params)\n",
      "    \n",
      "    elif 'gd_conc' in atype:        \n",
      "        def myfunc(dict_of_params):\n",
      "        \n",
      "            import sarpy.fmoosvi.analysis            \n",
      "            reload(sarpy.fmoosvi.analysis)\n",
      "            \n",
      "            import sarpy.fmoosvi.getters\n",
      "            reload(sarpy.fmoosvi.getters)\n",
      "            \n",
      "            import sys\n",
      "            return sarpy.fmoosvi.analysis.h_conc_from_signal(**dict_of_params)\n",
      "        \n",
      "    elif 'augc' in atype:\n",
      "\n",
      "        def myfunc(dict_of_params):\n",
      "        \n",
      "            import sarpy.fmoosvi.analysis            \n",
      "            reload(sarpy.fmoosvi.analysis)\n",
      "            \n",
      "            import sarpy.fmoosvi.getters\n",
      "            reload(sarpy.fmoosvi.getters)\n",
      "            \n",
      "            import sys\n",
      "            return sarpy.fmoosvi.analysis.h_calculate_AUGC(**dict_of_params)\n",
      "    else:\n",
      "        \n",
      "        toAnalyze = False\n",
      "        \n",
      "    if toAnalyze:        \n",
      "\n",
      "        ## Create the factory, and then execute                \n",
      "        an = sarpy.io.bulk_analyze.ParallelBulkAnalyzerFactory.from_function(myfunc, \n",
      "                                                            masterlist_fname=masterlist, \n",
      "                                                            **advancedAnalyses[atype])\n",
      "        an.process()\n",
      "\n",
      "print 'Analyses complete'        "
     ],
     "language": "python",
     "metadata": {},
     "outputs": [
      {
       "output_type": "stream",
       "stream": "stdout",
       "text": [
        "###########\n",
        "Currently, there are 16 clients running\n",
        "importing os on engine(s)\n",
        "importing sys on engine(s)\n",
        "importing sarpy on engine(s)\n",
        "importing sarpy.fmoosvi.analysis on engine(s)\n",
        "###########"
       ]
      },
      {
       "output_type": "stream",
       "stream": "stdout",
       "text": [
        "\n",
        "no scans fit the criterion so nothing was processed"
       ]
      },
      {
       "output_type": "stream",
       "stream": "stdout",
       "text": [
        "\n",
        "###### Parallelized Code: 0.670035123825 s \n",
        "\n",
        "###########\n",
        "Currently, there are 16 clients running\n",
        "importing os on engine(s)\n",
        "importing sys on engine(s)\n",
        "importing sarpy on engine(s)"
       ]
      },
      {
       "output_type": "stream",
       "stream": "stdout",
       "text": [
        "\n",
        "importing sarpy.fmoosvi.analysis on engine(s)\n",
        "###########"
       ]
      },
      {
       "output_type": "stream",
       "stream": "stdout",
       "text": [
        "\n",
        "no scans fit the criterion so nothing was processed"
       ]
      },
      {
       "output_type": "stream",
       "stream": "stdout",
       "text": [
        "\n",
        "###### Parallelized Code: 0.647938966751 s \n",
        "\n",
        "###########\n",
        "Currently, there are 16 clients running\n",
        "importing os on engine(s)\n",
        "importing sys on engine(s)"
       ]
      },
      {
       "output_type": "stream",
       "stream": "stdout",
       "text": [
        "\n",
        "importing sarpy on engine(s)\n",
        "importing sarpy.fmoosvi.analysis on engine(s)\n",
        "###########"
       ]
      },
      {
       "output_type": "stream",
       "stream": "stdout",
       "text": [
        "\n",
        "augc60 saved in HerP2Bs06.jU1/8, job id ...1e29c done on E 15 "
       ]
      },
      {
       "output_type": "stream",
       "stream": "stdout",
       "text": [
        "\n",
        "augc60 saved in HerP2Bs09.kq1/7, job id ...f9fd9 done on E 12 "
       ]
      },
      {
       "output_type": "stream",
       "stream": "stdout",
       "text": [
        "\n",
        "augc60 saved in HerP2Bs03.jL1/9, job id ...78db3 done on E 14 "
       ]
      },
      {
       "output_type": "stream",
       "stream": "stdout",
       "text": [
        "\n",
        "###### Parallelized Code: 5.78205800056 s \n",
        "\n",
        "Analyses complete\n"
       ]
      }
     ],
     "prompt_number": 2
    },
    {
     "cell_type": "code",
     "collapsed": false,
     "input": [
      "fFlag = True\n",
      "label = []\n",
      "label.append('augc60')\n",
      "\n",
      "for l in label:\n",
      "    sarpy.fmoosvi.wrappers.bulk_transfer_roi(masterlist,l,forceVal = fFlag)"
     ],
     "language": "python",
     "metadata": {},
     "outputs": [
      {
       "output_type": "stream",
       "stream": "stdout",
       "text": [
        "Saved augc60_roi in HerP2Bs01.jK1/9\n",
        "Saved augc60_roi in HerP2Bs02.jK1/9"
       ]
      },
      {
       "output_type": "stream",
       "stream": "stdout",
       "text": [
        "\n",
        "Saved augc60_roi in HerP2Bs03.jL1/9"
       ]
      },
      {
       "output_type": "stream",
       "stream": "stdout",
       "text": [
        "\n",
        "Saved augc60_roi in HerP2Bs04.jL1/8"
       ]
      },
      {
       "output_type": "stream",
       "stream": "stdout",
       "text": [
        "\n",
        "Saved augc60_roi in HerP2Bs05.jL1/8"
       ]
      },
      {
       "output_type": "stream",
       "stream": "stdout",
       "text": [
        "\n",
        "Saved augc60_roi in HerP2Bs06.jU1/8"
       ]
      },
      {
       "output_type": "stream",
       "stream": "stdout",
       "text": [
        "\n",
        "Saved augc60_roi in HerP2Bs07.jU1/8"
       ]
      },
      {
       "output_type": "stream",
       "stream": "stdout",
       "text": [
        "\n",
        "Saved augc60_roi in HerP2Bs08.jU1/8"
       ]
      },
      {
       "output_type": "stream",
       "stream": "stdout",
       "text": [
        "\n",
        "Saved augc60_roi in HerP2Bs09.kq1/7"
       ]
      },
      {
       "output_type": "stream",
       "stream": "stdout",
       "text": [
        "\n",
        "Saved augc60_roi in HerP2Bs10.kq1/7"
       ]
      },
      {
       "output_type": "stream",
       "stream": "stdout",
       "text": [
        "\n"
       ]
      }
     ],
     "prompt_number": 4
    },
    {
     "cell_type": "code",
     "collapsed": false,
     "input": [
      "fFlag = True\n",
      "\n",
      "deltaT1s = collections.OrderedDict()\n",
      "## Delta T1 - \n",
      "deltaT1s['deltaT1']={  'masterlist_name':masterlist,\n",
      "                         'T1map_1':'LL-24h-',\n",
      "                         'T1map_2':'LL-24h+',\n",
      "                         'adata_label1':'T1_LL',\n",
      "                         'adata_save_label':'deltaT1',\n",
      "                         'force_overwrite':fFlag\n",
      "                         }\n",
      "\n",
      "for k,v in deltaT1s.iteritems():\n",
      "    \n",
      "    sarpy.fmoosvi.wrappers.store_deltaT1(**deltaT1s[k])"
     ],
     "language": "python",
     "metadata": {},
     "outputs": [
      {
       "output_type": "stream",
       "stream": "stdout",
       "text": [
        "deltaT1: Not found adata T1_LL or T1_LL in patient HerP2Bs01\n",
        "deltaT1: Not found adata T1_LL or T1_LL in patient HerP2Bs02\n",
        "deltaT1: Not found adata T1_LL or T1_LL in patient HerP2Bs03\n",
        "deltaT1: Saved HerP2Bs04.jL1/9"
       ]
      },
      {
       "output_type": "stream",
       "stream": "stdout",
       "text": [
        "\n",
        "deltaT1: Saved HerP2Bs05.jL1/9"
       ]
      },
      {
       "output_type": "stream",
       "stream": "stdout",
       "text": [
        "\n",
        "deltaT1: Saved HerP2Bs06.jU1/9"
       ]
      },
      {
       "output_type": "stream",
       "stream": "stdout",
       "text": [
        "\n",
        "deltaT1: Saved HerP2Bs07.jU1/9"
       ]
      },
      {
       "output_type": "stream",
       "stream": "stdout",
       "text": [
        "\n",
        "deltaT1: Saved HerP2Bs08.jU1/9"
       ]
      },
      {
       "output_type": "stream",
       "stream": "stdout",
       "text": [
        "\n",
        "deltaT1: Saved HerP2Bs09.kq1/8"
       ]
      },
      {
       "output_type": "stream",
       "stream": "stdout",
       "text": [
        "\n",
        "deltaT1: Saved HerP2Bs10.kq1/8"
       ]
      },
      {
       "output_type": "stream",
       "stream": "stdout",
       "text": [
        "\n"
       ]
      }
     ],
     "prompt_number": 5
    },
    {
     "cell_type": "markdown",
     "metadata": {},
     "source": [
      "### Write data to CSV"
     ]
    },
    {
     "cell_type": "code",
     "collapsed": false,
     "input": [
      "adata_to_csv = []\n",
      "\n",
      "adata_to_csv.append(['dce-24ha','auc60'])\n",
      "adata_to_csv.append(['dce-24ha','augc60'])\n",
      "adata_to_csv.append(['LL-0h','T1_LL'])\n",
      "adata_to_csv.append(['LL-24h-','T1_LL'])\n",
      "adata_to_csv.append(['LL-24h+','T1_LL'])\n",
      "adata_to_csv.append(['LL-24h+','deltaT1','T1_LL_roi'])\n",
      "\n",
      "for k in adata_to_csv:\n",
      "    \n",
      "    if len(k) ==2:\n",
      "        sarpy.io.write_csv.write_csv(masterlist,k[0],k[1])\n",
      "    else:\n",
      "        sarpy.io.write_csv.write_csv(masterlist,k[0],k[1],roi_override=k[2])"
     ],
     "language": "python",
     "metadata": {},
     "outputs": [
      {
       "output_type": "stream",
       "stream": "stdout",
       "text": [
        "write_csv: Not found HerP2Bs01 and LL-24h+,T1_LL\n",
        "write_csv: Not found HerP2Bs02 and LL-24h+,T1_LL\n",
        "write_csv: Not found HerP2Bs03 and LL-24h+,T1_LL\n",
        "write_csv: Not found HerP2Bs01 and LL-24h+,deltaT1"
       ]
      },
      {
       "output_type": "stream",
       "stream": "stdout",
       "text": [
        "\n",
        "write_csv: Not found HerP2Bs02 and LL-24h+,deltaT1\n",
        "write_csv: Not found HerP2Bs03 and LL-24h+,deltaT1\n"
       ]
      },
      {
       "output_type": "stream",
       "stream": "stderr",
       "text": [
        "/System/Library/Frameworks/Python.framework/Versions/2.7/Extras/lib/python/scipy/stats/stats.py:298: RuntimeWarning: invalid value encountered in double_scalars\n",
        "  return np.mean(x,axis)/factor\n"
       ]
      }
     ],
     "prompt_number": 2
    },
    {
     "cell_type": "markdown",
     "metadata": {},
     "source": [
      "### Generating Tumourboards"
     ]
    },
    {
     "cell_type": "code",
     "collapsed": false,
     "input": [
      "tumourboards = []\n",
      "tumourboards.append('HerP2/HerP2.TB')\n",
      "os.chdir(os.path.expanduser(os.path.join('~','sarpy/python/sarpy/io')))"
     ],
     "language": "python",
     "metadata": {},
     "outputs": [],
     "prompt_number": 9
    },
    {
     "cell_type": "code",
     "collapsed": false,
     "input": [
      "for tb in tumourboards:\n",
      "    %run ./tumourboard.py -c $tb"
     ],
     "language": "python",
     "metadata": {},
     "outputs": [
      {
       "output_type": "stream",
       "stream": "stdout",
       "text": [
        "\n",
        "--------------------------------------------------------------------------------\n",
        "HerP2Bs01\n",
        "('roi-0h', u'HerP2Bs01.jJ1/6', '03_RARE_T2w_ax')"
       ]
      },
      {
       "output_type": "stream",
       "stream": "stdout",
       "text": [
        "\n",
        "('LL-0h', u'HerP2Bs01.jJ1/2', 'ubcLL2_base_HCT_SQ(modified)')"
       ]
      },
      {
       "output_type": "stream",
       "stream": "stdout",
       "text": [
        "\n",
        "('roi-24h', u'HerP2Bs01.jK1/4', '03_RARE_T2w_ax')"
       ]
      },
      {
       "output_type": "stream",
       "stream": "stdout",
       "text": [
        "\n",
        "('LL-24h-', u'HerP2Bs01.jK1/5', 'ubcLL2_base_HCT_SQ')"
       ]
      },
      {
       "output_type": "stream",
       "stream": "stdout",
       "text": [
        "\n",
        "('dce-24ha', u'HerP2Bs01.jK1/9', '06_FLASH2D.6sl-DCE')"
       ]
      },
      {
       "output_type": "stream",
       "stream": "stdout",
       "text": [
        "\n",
        "('dce-24ha', u'HerP2Bs01.jK1/9', '06_FLASH2D.6sl-DCE')"
       ]
      },
      {
       "output_type": "stream",
       "stream": "stdout",
       "text": [
        "\n",
        "('dce-24ha', u'HerP2Bs01.jK1/9', '06_FLASH2D.6sl-DCE')"
       ]
      },
      {
       "output_type": "stream",
       "stream": "stdout",
       "text": [
        "\n",
        "\n",
        "--------------------------------------------------------------------------------\n",
        "HerP2Bs02"
       ]
      },
      {
       "output_type": "stream",
       "stream": "stdout",
       "text": [
        "\n",
        "('roi-0h', u'HerP2Bs02.jJ2/4', '03_RARE_T2w_ax')"
       ]
      },
      {
       "output_type": "stream",
       "stream": "stdout",
       "text": [
        "\n",
        "('LL-0h', u'HerP2Bs02.jJ1/9', 'ubcLL2_base_HCT_SQ')"
       ]
      },
      {
       "output_type": "stream",
       "stream": "stdout",
       "text": [
        "\n",
        "('roi-24h', u'HerP2Bs02.jK1/5', '03_RARE_T2w_ax')"
       ]
      },
      {
       "output_type": "stream",
       "stream": "stdout",
       "text": [
        "\n",
        "('LL-24h-', u'HerP2Bs02.jK1/6', 'ubcLL2_base_HCT_SQ')"
       ]
      },
      {
       "output_type": "stream",
       "stream": "stdout",
       "text": [
        "\n",
        "('dce-24ha', u'HerP2Bs02.jK1/9', '06_FLASH2D.6sl-DCE')"
       ]
      },
      {
       "output_type": "stream",
       "stream": "stdout",
       "text": [
        "\n",
        "('dce-24ha', u'HerP2Bs02.jK1/9', '06_FLASH2D.6sl-DCE')"
       ]
      },
      {
       "output_type": "stream",
       "stream": "stdout",
       "text": [
        "\n",
        "('dce-24ha', u'HerP2Bs02.jK1/9', '06_FLASH2D.6sl-DCE')"
       ]
      },
      {
       "output_type": "stream",
       "stream": "stdout",
       "text": [
        "\n",
        "\n",
        "--------------------------------------------------------------------------------\n",
        "HerP2Bs03"
       ]
      },
      {
       "output_type": "stream",
       "stream": "stdout",
       "text": [
        "\n",
        "('roi-0h', u'HerP2Bs03.jK1/4', '03_RARE_T2w_ax')"
       ]
      },
      {
       "output_type": "stream",
       "stream": "stdout",
       "text": [
        "\n",
        "('LL-0h', u'HerP2Bs03.jK1/5', 'ubcLL2_base_HCT_SQ')"
       ]
      },
      {
       "output_type": "stream",
       "stream": "stdout",
       "text": [
        "\n",
        "('roi-24h', u'HerP2Bs03.jL1/5', '03_RARE_T2w_ax')"
       ]
      },
      {
       "output_type": "stream",
       "stream": "stdout",
       "text": [
        "\n",
        "('LL-24h-', u'HerP2Bs03.jL1/6', 'ubcLL2_base_HCT_SQ')"
       ]
      },
      {
       "output_type": "stream",
       "stream": "stdout",
       "text": [
        "\n",
        "('dce-24ha', u'HerP2Bs03.jL1/9', '06_FLASH2D.6sl-DCE')"
       ]
      },
      {
       "output_type": "stream",
       "stream": "stdout",
       "text": [
        "\n",
        "('dce-24ha', u'HerP2Bs03.jL1/9', '06_FLASH2D.6sl-DCE')"
       ]
      },
      {
       "output_type": "stream",
       "stream": "stdout",
       "text": [
        "\n",
        "('dce-24ha', u'HerP2Bs03.jL1/9', '06_FLASH2D.6sl-DCE')"
       ]
      },
      {
       "output_type": "stream",
       "stream": "stdout",
       "text": [
        "\n",
        "\n",
        "--------------------------------------------------------------------------------\n",
        "HerP2Bs04"
       ]
      },
      {
       "output_type": "stream",
       "stream": "stdout",
       "text": [
        "\n",
        "('roi-0h', u'HerP2Bs04.jK1/4', '03_RARE_T2w_ax')"
       ]
      },
      {
       "output_type": "stream",
       "stream": "stdout",
       "text": [
        "\n",
        "('LL-0h', u'HerP2Bs04.jK1/5', 'ubcLL2_base_HCT_SQ')"
       ]
      },
      {
       "output_type": "stream",
       "stream": "stdout",
       "text": [
        "\n",
        "('roi-24h', u'HerP2Bs04.jL1/4', '03_RARE_T2w_ax')"
       ]
      },
      {
       "output_type": "stream",
       "stream": "stdout",
       "text": [
        "\n",
        "('LL-24h-', u'HerP2Bs04.jL1/5', 'ubcLL2_base_HCT_SQ')"
       ]
      },
      {
       "output_type": "stream",
       "stream": "stdout",
       "text": [
        "\n",
        "('LL-24h+', u'HerP2Bs04.jL1/9', 'ubcLL2_base_HCT_SQ')"
       ]
      },
      {
       "output_type": "stream",
       "stream": "stdout",
       "text": [
        "\n",
        "('dce-24ha', u'HerP2Bs04.jL1/8', '06_FLASH2D.6sl-DCE')"
       ]
      },
      {
       "output_type": "stream",
       "stream": "stdout",
       "text": [
        "\n",
        "('dce-24ha', u'HerP2Bs04.jL1/8', '06_FLASH2D.6sl-DCE')"
       ]
      },
      {
       "output_type": "stream",
       "stream": "stdout",
       "text": [
        "\n",
        "('dce-24ha', u'HerP2Bs04.jL1/8', '06_FLASH2D.6sl-DCE')"
       ]
      },
      {
       "output_type": "stream",
       "stream": "stdout",
       "text": [
        "\n",
        "\n",
        "--------------------------------------------------------------------------------\n",
        "HerP2Bs05"
       ]
      },
      {
       "output_type": "stream",
       "stream": "stdout",
       "text": [
        "\n",
        "('roi-0h', u'HerP2Bs05.jK1/4', '03_RARE_T2w_ax')"
       ]
      },
      {
       "output_type": "stream",
       "stream": "stdout",
       "text": [
        "\n",
        "('LL-0h', u'HerP2Bs05.jK1/5', 'ubcLL2_base_HCT_SQ')"
       ]
      },
      {
       "output_type": "stream",
       "stream": "stdout",
       "text": [
        "\n",
        "('roi-24h', u'HerP2Bs05.jL1/4', '03_RARE_T2w_ax')"
       ]
      },
      {
       "output_type": "stream",
       "stream": "stdout",
       "text": [
        "\n",
        "('LL-24h-', u'HerP2Bs05.jL1/5', 'ubcLL2_base_HCT_SQ')"
       ]
      },
      {
       "output_type": "stream",
       "stream": "stdout",
       "text": [
        "\n",
        "('LL-24h+', u'HerP2Bs05.jL1/9', 'ubcLL2_base_HCT_SQ')"
       ]
      },
      {
       "output_type": "stream",
       "stream": "stdout",
       "text": [
        "\n",
        "('dce-24ha', u'HerP2Bs05.jL1/8', '06_FLASH2D.6sl-DCE')"
       ]
      },
      {
       "output_type": "stream",
       "stream": "stdout",
       "text": [
        "\n",
        "('dce-24ha', u'HerP2Bs05.jL1/8', '06_FLASH2D.6sl-DCE')"
       ]
      },
      {
       "output_type": "stream",
       "stream": "stdout",
       "text": [
        "\n",
        "('dce-24ha', u'HerP2Bs05.jL1/8', '06_FLASH2D.6sl-DCE')"
       ]
      },
      {
       "output_type": "stream",
       "stream": "stdout",
       "text": [
        "\n",
        "\n",
        "--------------------------------------------------------------------------------\n",
        "HerP2Bs06"
       ]
      },
      {
       "output_type": "stream",
       "stream": "stdout",
       "text": [
        "\n",
        "('roi-0h', u'HerP2Bs06.jT1/4', '03_RARE_T2w_ax')"
       ]
      },
      {
       "output_type": "stream",
       "stream": "stdout",
       "text": [
        "\n",
        "('LL-0h', u'HerP2Bs06.jT1/5', 'ubcLL2_base_HCT_SQ')"
       ]
      },
      {
       "output_type": "stream",
       "stream": "stdout",
       "text": [
        "\n",
        "('roi-24h', u'HerP2Bs06.jU1/4', '03_RARE_T2w_ax')"
       ]
      },
      {
       "output_type": "stream",
       "stream": "stdout",
       "text": [
        "\n",
        "('LL-24h-', u'HerP2Bs06.jU1/5', 'ubcLL2_base_HCT_SQ')"
       ]
      },
      {
       "output_type": "stream",
       "stream": "stdout",
       "text": [
        "\n",
        "('LL-24h+', u'HerP2Bs06.jU1/9', 'ubcLL2_base_HCT_SQ')"
       ]
      },
      {
       "output_type": "stream",
       "stream": "stdout",
       "text": [
        "\n",
        "('dce-24ha', u'HerP2Bs06.jU1/8', '06_FLASH2D.6sl-DCE')"
       ]
      },
      {
       "output_type": "stream",
       "stream": "stdout",
       "text": [
        "\n",
        "('dce-24ha', u'HerP2Bs06.jU1/8', '06_FLASH2D.6sl-DCE')"
       ]
      },
      {
       "output_type": "stream",
       "stream": "stdout",
       "text": [
        "\n",
        "('dce-24ha', u'HerP2Bs06.jU1/8', '06_FLASH2D.6sl-DCE')"
       ]
      },
      {
       "output_type": "stream",
       "stream": "stdout",
       "text": [
        "\n",
        "\n",
        "--------------------------------------------------------------------------------\n",
        "HerP2Bs07"
       ]
      },
      {
       "output_type": "stream",
       "stream": "stdout",
       "text": [
        "\n",
        "('roi-0h', u'HerP2Bs07.jT1/4', '03_RARE_T2w_ax')"
       ]
      },
      {
       "output_type": "stream",
       "stream": "stdout",
       "text": [
        "\n",
        "('LL-0h', u'HerP2Bs07.jT1/5', 'ubcLL2_base_HCT_SQ')"
       ]
      },
      {
       "output_type": "stream",
       "stream": "stdout",
       "text": [
        "\n",
        "('roi-24h', u'HerP2Bs07.jU1/4', '03_RARE_T2w_ax')"
       ]
      },
      {
       "output_type": "stream",
       "stream": "stdout",
       "text": [
        "\n",
        "('LL-24h-', u'HerP2Bs07.jU1/5', 'ubcLL2_base_HCT_SQ')"
       ]
      },
      {
       "output_type": "stream",
       "stream": "stdout",
       "text": [
        "\n",
        "('LL-24h+', u'HerP2Bs07.jU1/9', 'ubcLL2_base_HCT_SQ')"
       ]
      },
      {
       "output_type": "stream",
       "stream": "stdout",
       "text": [
        "\n",
        "('dce-24ha', u'HerP2Bs07.jU1/8', '06_FLASH2D.6sl-DCE')"
       ]
      },
      {
       "output_type": "stream",
       "stream": "stdout",
       "text": [
        "\n",
        "('dce-24ha', u'HerP2Bs07.jU1/8', '06_FLASH2D.6sl-DCE')"
       ]
      },
      {
       "output_type": "stream",
       "stream": "stdout",
       "text": [
        "\n",
        "('dce-24ha', u'HerP2Bs07.jU1/8', '06_FLASH2D.6sl-DCE')"
       ]
      },
      {
       "output_type": "stream",
       "stream": "stdout",
       "text": [
        "\n",
        "\n",
        "--------------------------------------------------------------------------------\n",
        "HerP2Bs08"
       ]
      },
      {
       "output_type": "stream",
       "stream": "stdout",
       "text": [
        "\n",
        "('roi-0h', u'HerP2Bs08.jT1/4', '03_RARE_T2w_ax')"
       ]
      },
      {
       "output_type": "stream",
       "stream": "stdout",
       "text": [
        "\n",
        "('LL-0h', u'HerP2Bs08.jT1/5', 'ubcLL2_base_HCT_SQ')"
       ]
      },
      {
       "output_type": "stream",
       "stream": "stdout",
       "text": [
        "\n",
        "('roi-24h', u'HerP2Bs08.jU1/4', '03_RARE_T2w_ax')"
       ]
      },
      {
       "output_type": "stream",
       "stream": "stdout",
       "text": [
        "\n",
        "('LL-24h-', u'HerP2Bs08.jU1/5', 'ubcLL2_base_HCT_SQ')"
       ]
      },
      {
       "output_type": "stream",
       "stream": "stdout",
       "text": [
        "\n",
        "('LL-24h+', u'HerP2Bs08.jU1/9', 'ubcLL2_base_HCT_SQ')"
       ]
      },
      {
       "output_type": "stream",
       "stream": "stdout",
       "text": [
        "\n",
        "('dce-24ha', u'HerP2Bs08.jU1/8', '06_FLASH2D.6sl-DCE')"
       ]
      },
      {
       "output_type": "stream",
       "stream": "stdout",
       "text": [
        "\n",
        "('dce-24ha', u'HerP2Bs08.jU1/8', '06_FLASH2D.6sl-DCE')"
       ]
      },
      {
       "output_type": "stream",
       "stream": "stdout",
       "text": [
        "\n",
        "('dce-24ha', u'HerP2Bs08.jU1/8', '06_FLASH2D.6sl-DCE')"
       ]
      },
      {
       "output_type": "stream",
       "stream": "stdout",
       "text": [
        "\n",
        "\n",
        "--------------------------------------------------------------------------------\n",
        "HerP2Bs09"
       ]
      },
      {
       "output_type": "stream",
       "stream": "stdout",
       "text": [
        "\n",
        "('roi-0h', u'HerP2Bs09.kp1/4', '03_RARE_T2w_ax')"
       ]
      },
      {
       "output_type": "stream",
       "stream": "stdout",
       "text": [
        "\n",
        "('LL-0h', u'HerP2Bs09.kp1/5', 'ubcLL2_base_HCT_SQ')"
       ]
      },
      {
       "output_type": "stream",
       "stream": "stdout",
       "text": [
        "\n",
        "('roi-24h', u'HerP2Bs09.kq1/3', '03_RARE_T2w_ax')"
       ]
      },
      {
       "output_type": "stream",
       "stream": "stdout",
       "text": [
        "\n",
        "('LL-24h-', u'HerP2Bs09.kq1/4', 'ubcLL2_base_HCT_SQ')"
       ]
      },
      {
       "output_type": "stream",
       "stream": "stdout",
       "text": [
        "\n",
        "('LL-24h+', u'HerP2Bs09.kq1/8', 'ubcLL2_base_HCT_SQ')"
       ]
      },
      {
       "output_type": "stream",
       "stream": "stdout",
       "text": [
        "\n",
        "('dce-24ha', u'HerP2Bs09.kq1/7', '06_FLASH2D.6sl-DCE')"
       ]
      },
      {
       "output_type": "stream",
       "stream": "stdout",
       "text": [
        "\n",
        "('dce-24ha', u'HerP2Bs09.kq1/7', '06_FLASH2D.6sl-DCE')"
       ]
      },
      {
       "output_type": "stream",
       "stream": "stdout",
       "text": [
        "\n",
        "('dce-24ha', u'HerP2Bs09.kq1/7', '06_FLASH2D.6sl-DCE')"
       ]
      },
      {
       "output_type": "stream",
       "stream": "stdout",
       "text": [
        "\n",
        "\n",
        "--------------------------------------------------------------------------------\n",
        "HerP2Bs10"
       ]
      },
      {
       "output_type": "stream",
       "stream": "stdout",
       "text": [
        "\n",
        "('roi-0h', u'HerP2Bs10.kp1/3', '03_RARE_T2w_ax')"
       ]
      },
      {
       "output_type": "stream",
       "stream": "stdout",
       "text": [
        "\n",
        "('LL-0h', u'HerP2Bs10.kp1/5', 'ubcLL2_base_HCT_SQ')"
       ]
      },
      {
       "output_type": "stream",
       "stream": "stdout",
       "text": [
        "\n",
        "('roi-24h', u'HerP2Bs10.kq1/3', '03_RARE_T2w_ax')"
       ]
      },
      {
       "output_type": "stream",
       "stream": "stdout",
       "text": [
        "\n",
        "('LL-24h-', u'HerP2Bs10.kq1/4', 'ubcLL2_base_HCT_SQ')"
       ]
      },
      {
       "output_type": "stream",
       "stream": "stdout",
       "text": [
        "\n",
        "('LL-24h+', u'HerP2Bs10.kq1/8', 'ubcLL2_base_HCT_SQ')"
       ]
      },
      {
       "output_type": "stream",
       "stream": "stdout",
       "text": [
        "\n",
        "('dce-24ha', u'HerP2Bs10.kq1/7', '06_FLASH2D.6sl-DCE')"
       ]
      },
      {
       "output_type": "stream",
       "stream": "stdout",
       "text": [
        "\n",
        "('dce-24ha', u'HerP2Bs10.kq1/7', '06_FLASH2D.6sl-DCE')"
       ]
      },
      {
       "output_type": "stream",
       "stream": "stdout",
       "text": [
        "\n",
        "('dce-24ha', u'HerP2Bs10.kq1/7', '06_FLASH2D.6sl-DCE')"
       ]
      },
      {
       "output_type": "stream",
       "stream": "stdout",
       "text": [
        "\n"
       ]
      }
     ],
     "prompt_number": 11
    }
   ],
   "metadata": {}
  }
 ]
}