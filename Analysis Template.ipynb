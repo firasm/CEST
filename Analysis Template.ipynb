{
 "metadata": {
  "name": "Analysis Template"
 },
 "nbformat": 3,
 "nbformat_minor": 0,
 "worksheets": [
  {
   "cells": [
    {
     "cell_type": "markdown",
     "metadata": {},
     "source": [
      "This is a template for analyzing various animals using the new python setup.\n",
      "\n",
      "Change the name of the experiment in Step 0, and then again the names of the labels in Step 4. This template requires that the masterlist be already created using generate_masterlist.py"
     ]
    },
    {
     "cell_type": "markdown",
     "metadata": {},
     "source": [
      "#### Set imports and define the experiment name"
     ]
    },
    {
     "cell_type": "code",
     "collapsed": false,
     "input": [
      "import sarpy\n",
      "import sarpy.fmoosvi.wrappers\n",
      "from datetime import datetime\n",
      "from collections import defaultdict\n",
      "import os\n",
      "import sys\n",
      "import errno\n",
      "\n",
      "startTime = datetime.now()"
     ],
     "language": "python",
     "metadata": {},
     "outputs": [],
     "prompt_number": 1
    },
    {
     "cell_type": "markdown",
     "metadata": {},
     "source": [
      "## Step 0 - Specify experiment name"
     ]
    },
    {
     "cell_type": "code",
     "collapsed": false,
     "input": [
      "masterlist = 'NecS3'\n",
      "path = os.path.join(os.path.expanduser('~'),'sdata',masterlist,'rois')\n",
      "\n",
      "# See if the rois directory exists, if it doesn't create it\n",
      "try:\n",
      "    os.makedirs(path)\n",
      "except OSError as exception:\n",
      "    if exception.errno != errno.EEXIST:\n",
      "        raise"
     ],
     "language": "python",
     "metadata": {},
     "outputs": [],
     "prompt_number": 2
    },
    {
     "cell_type": "markdown",
     "metadata": {},
     "source": [
      "## Step 1: Export ROIs"
     ]
    },
    {
     "cell_type": "code",
     "collapsed": false,
     "input": [
      "fFlag = False\n",
      "\n",
      "smart_label = []\n",
      "smart_label.append(['0h-IR_A','0h-',fFlag])\n",
      "smart_label.append(['24h-IR_A','24h-',fFlag])\n",
      "\n",
      "for sm in smart_label:\n",
      "    sarpy.io.generate_rois.generate_rois(masterlist,sm[0],'roi','export', path, sm[2])"
     ],
     "language": "python",
     "metadata": {},
     "outputs": [
      {
       "output_type": "stream",
       "stream": "stdout",
       "text": [
        "Nifti images were processed in /Users/fmoosvi/sdata/NecS3/rois\n",
        "Nifti images were processed in /Users/fmoosvi/sdata/NecS3/rois"
       ]
      },
      {
       "output_type": "stream",
       "stream": "stdout",
       "text": [
        "\n"
       ]
      }
     ],
     "prompt_number": 3
    },
    {
     "cell_type": "markdown",
     "metadata": {},
     "source": [
      "Now go ahead and draw ROIs using ImageJ. When you're done, just rename the files with an a appended at the very end. For e.g., the source file _HerS2Mo01_10.nii_ will turn into _HerS2Mo01_10a.nii_ once the ROI is drawn"
     ]
    },
    {
     "cell_type": "markdown",
     "metadata": {},
     "source": [
      "## Step 2: Import the drawn ROIs back in as adata, update the bounding boxes"
     ]
    },
    {
     "cell_type": "code",
     "collapsed": false,
     "input": [
      "for sm in smart_label:\n",
      "    sarpy.io.generate_rois.generate_rois(masterlist,sm[0],'roi','import', path, sm[2])\n",
      "    sarpy.io.update_bbox.update_bbox(masterlist,sm[0],'roi',sm[1])"
     ],
     "language": "python",
     "metadata": {},
     "outputs": [
      {
       "output_type": "stream",
       "stream": "stdout",
       "text": [
        "roi: adata already exists NecS3Hs02.iJ1/11 \n",
        "roi: adata already exists NecS3Hs04.iJ1/10 \n",
        "roi: adata already exists NecS3Hs05.iJ1/9 \n",
        "roi: adata already exists NecS3Hs06.iJ1/8 \n",
        "roi: adata already exists NecS3Hs08.iK1/8 \n",
        "roi: adata already exists NecS3Hs09.iK1/8 \n",
        "roi: adata already exists NecS3Hs10.iK1/7 \n",
        "roi: adata already exists NecS3Hs11.iK1/10 "
       ]
      },
      {
       "output_type": "stream",
       "stream": "stdout",
       "text": [
        "\n",
        "roi: adata already exists NecS3Hs12.iL1/8 \n",
        "roi: adata already exists NecS3Hs13.iL1/8 \n",
        "roi: adata already exists NecS3Hs14.iL1/10 \n",
        "roi: adata already exists NecS3Hs15.iL1/9 \n",
        "Nifti images were processed in /Users/fmoosvi/sdata/NecS3/rois\n",
        "update_bbox: Success, updated file is: NecS3_updated.json"
       ]
      },
      {
       "output_type": "stream",
       "stream": "stdout",
       "text": [
        "\n",
        "roi: adata already exists NecS3Hs02.iK1/19 \n",
        "roi: adata already exists NecS3Hs04.iK2/11 "
       ]
      },
      {
       "output_type": "stream",
       "stream": "stdout",
       "text": [
        "\n",
        "roi: adata already exists NecS3Hs05.iK1/10 \n",
        "roi: adata already exists NecS3Hs06.iK1/12 \n",
        "roi: adata already exists NecS3Hs08.iL1/9 \n",
        "roi: adata already exists NecS3Hs09.iL1/12 "
       ]
      },
      {
       "output_type": "stream",
       "stream": "stdout",
       "text": [
        "\n",
        "roi: adata already exists NecS3Hs10.iL1/16 \n",
        "roi: adata already exists NecS3Hs11.iL1/9 \n",
        "roi: adata already exists NecS3Hs12.iM3/15 \n",
        "roi: adata already exists NecS3Hs13.iM1/13 \n",
        "roi: adata already exists NecS3Hs14.iM1/12 "
       ]
      },
      {
       "output_type": "stream",
       "stream": "stdout",
       "text": [
        "\n",
        "roi: adata already exists NecS3Hs15.iM1/8 \n",
        "Nifti images were processed in /Users/fmoosvi/sdata/NecS3/rois\n",
        "update_bbox: Success, updated file is: NecS3_updated.json"
       ]
      },
      {
       "output_type": "stream",
       "stream": "stdout",
       "text": [
        "\n"
       ]
      }
     ],
     "prompt_number": 4
    },
    {
     "cell_type": "markdown",
     "metadata": {},
     "source": [
      "## Step 3: Perform basic analyses (no ROIs required)"
     ]
    },
    {
     "cell_type": "code",
     "collapsed": false,
     "input": [
      "analyze_list = []\n",
      "\n",
      "fFlag = False # Set whether or not the scan need to be overwritten, default False\n",
      "\n",
      "analyze_list.append(['0h-IR_A','roi_check',fFlag])\n",
      "analyze_list.append(['24h-IR_A','roi_check',fFlag])\n",
      "\n",
      "analyze_list.append(['0h-DCE1','auc60',fFlag])\n",
      "analyze_list.append(['24h-DCE1','auc60',fFlag])\n",
      "\n",
      "analyze_list.append(['0h-LL','T1map_LL',fFlag])\n",
      "analyze_list.append(['24h-LL','T1map_LL',fFlag])\n",
      "\n",
      "analyze_list.append(['0h-DCE1','vtc',fFlag])\n",
      "analyze_list.append(['24h-DCE1','vtc',fFlag])\n",
      "\n",
      "for items in analyze_list:\n",
      "                                              \n",
      "    if len(items) == 3:\n",
      "        sarpy.fmoosvi.wrappers.bulk_analyze(masterlist, items[0], items[1], forceVal = items[2])\n",
      "    else:\n",
      "        sarpy.fmoosvi.wrappers.bulk_analyze(masterlist, items[0], items[1], items[2], forceVal = items[3])"
     ],
     "language": "python",
     "metadata": {},
     "outputs": []
    },
    {
     "cell_type": "markdown",
     "metadata": {},
     "source": [
      "## Step 4: Transfer ROIs to other scans via (resampling onto)"
     ]
    },
    {
     "cell_type": "code",
     "collapsed": false,
     "input": [
      "label = []\n",
      "label.append('T1map_LL')\n",
      "label.append('auc60')\n",
      "\n",
      "for l in label:\n",
      "    sarpy.fmoosvi.wrappers.bulk_transfer_roi(masterlist,l)"
     ],
     "language": "python",
     "metadata": {},
     "outputs": []
    },
    {
     "cell_type": "markdown",
     "metadata": {},
     "source": [
      "## Step 5: Perform advanced analyses (requiring ROIs or basic adata)"
     ]
    },
    {
     "cell_type": "code",
     "collapsed": false,
     "input": [
      "reload(sarpy.fmoosvi.analysis)\n",
      "adv_analyze_list = []\n",
      "fFlag = False\n",
      "\n",
      "adv_analyze_list.append([ '0h-DCE1', 'ec','auc60_roi',fFlag])\n",
      "adv_analyze_list.append(['24h-DCE1','ec','auc60_roi',fFlag])\n",
      "\n",
      "adv_analyze_list.append([ '0h-DCE1', '0h-LL','T1map_LL','gd_conc',fFlag])\n",
      "adv_analyze_list.append(['24h-DCE1','24h-LL','T1map_LL','gd_conc',fFlag])\n",
      "\n",
      "adv_analyze_list.append([ '0h-DCE1', 'gd_conc','augc60',fFlag])\n",
      "adv_analyze_list.append(['24h-DCE1','gd_conc','augc60',fFlag])\n",
      "\n",
      "for items in adv_analyze_list:\n",
      "    \n",
      "    if items[1] == 'ec':\n",
      "        \n",
      "        sarpy.fmoosvi.wrappers.calc_enhancement_curve(masterlist,\n",
      "                                                      items[0],\n",
      "                                                      items[1],\n",
      "                                                      items[2],\n",
      "                                                      forceVal=items[3])\n",
      "\n",
      "    if items[3] == 'gd_conc':\n",
      "        \n",
      "        sarpy.fmoosvi.wrappers.conc_from_signal(masterlist, items[0],\n",
      "                                        data_label_T1map = items[1],\n",
      "                                        adata_label = items[2], \n",
      "                                        analysis_label = items[3],\n",
      "                                        forceVal = items[4])\n",
      "\n",
      "    elif items[2] == 'augc60':\n",
      "        \n",
      "        sarpy.fmoosvi.wrappers.calc_AUGC(masterlist,\n",
      "                                         items[0], items[1],\n",
      "                                         analysis_label=items[2],\n",
      "                                         forceVal = items[3])"
     ],
     "language": "python",
     "metadata": {},
     "outputs": []
    },
    {
     "cell_type": "code",
     "collapsed": false,
     "input": [
      "print(datetime.now()-startTime)"
     ],
     "language": "python",
     "metadata": {},
     "outputs": []
    },
    {
     "cell_type": "markdown",
     "metadata": {},
     "source": [
      "\n",
      "## Beginning playing around with ROI distributions and analyses"
     ]
    },
    {
     "cell_type": "code",
     "collapsed": false,
     "input": [
      "import sarpy\n",
      "import numpy\n",
      "import pylab\n",
      "import scipy\n",
      "import sarpy.fmoosvi.analysis"
     ],
     "language": "python",
     "metadata": {},
     "outputs": []
    },
    {
     "cell_type": "code",
     "collapsed": false,
     "input": [
      "nec = sarpy.Experiment('NecS3')\n",
      "\n",
      "t1map = 'T1map_LL'\n",
      "t1map_roi = 'T1map_LL_roi'\n",
      "forceVal = False"
     ],
     "language": "python",
     "metadata": {},
     "outputs": []
    },
    {
     "cell_type": "code",
     "collapsed": false,
     "input": [
      "ll = nec.find_adata_scans()['T1map_LL']"
     ],
     "language": "python",
     "metadata": {},
     "outputs": []
    },
    {
     "cell_type": "code",
     "collapsed": false,
     "input": [
      "patients = set()\n",
      "\n",
      "forceVal = True\n",
      "\n",
      "for l in ll:\n",
      "    \n",
      "    s = sarpy.Scan(l[0])\n",
      "    d = s.adata[t1map].data * s.adata[t1map_roi].data\n",
      "       \n",
      "    try:\n",
      "        del avg_T1\n",
      "    except NameError:\n",
      "        pass\n",
      "    avg_T1 = []\n",
      "    \n",
      "    for slice in xrange(d.shape[-1]):\n",
      "        avg_T1.append(scipy.stats.nanmean(d[:,:,slice].flatten()))\n",
      "                        \n",
      "    patients.add(s.pdata[0].visu_pars.VisuSubjectName.strip('Reinsberg^'))\n",
      "    \n",
      "    s.store_adata(key = 'T1avg', data = numpy.array(avg_T1), force = forceVal)\n",
      "    \n",
      "    "
     ],
     "language": "python",
     "metadata": {},
     "outputs": []
    },
    {
     "cell_type": "code",
     "collapsed": false,
     "input": [
      "for p in patients:\n",
      "    \n",
      "    pat = sarpy.Patient(p)\n",
      "    \n",
      "    ps = pat.find_adata_scans()['T1avg']\n",
      "    \n",
      "    sc_m = []\n",
      "    for sc in ps:\n",
      "        sc_m.append(scipy.stats.nanmean(sarpy.Scan(sc[0]).adata['T1avg'].data))\n",
      "    \n",
      "    print('Patient {0}: {1},{2} \\n'.format(pat,sc_m[0],sc_m[1]))\n",
      "   \n",
      "        "
     ],
     "language": "python",
     "metadata": {},
     "outputs": []
    },
    {
     "cell_type": "code",
     "collapsed": false,
     "input": [
      "p = sarpy.Patient('NecS3Hs10')\n",
      "p.find_adata_scans()['T1avg']"
     ],
     "language": "python",
     "metadata": {},
     "outputs": []
    },
    {
     "cell_type": "code",
     "collapsed": false,
     "input": [
      "p.find_adata_scans()"
     ],
     "language": "python",
     "metadata": {},
     "outputs": []
    },
    {
     "cell_type": "code",
     "collapsed": false,
     "input": [],
     "language": "python",
     "metadata": {},
     "outputs": []
    }
   ],
   "metadata": {}
  }
 ]
}