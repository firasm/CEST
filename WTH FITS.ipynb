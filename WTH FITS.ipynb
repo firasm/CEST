{
 "metadata": {
  "name": "WTH FITS"
 },
 "nbformat": 3,
 "nbformat_minor": 0,
 "worksheets": [
  {
   "cells": [
    {
     "cell_type": "code",
     "collapsed": false,
     "input": [
      "import numpy\n",
      "import pylab\n",
      "import sarpy\n",
      "import sarpy.fmoosvi.analysis\n",
      "import sarpy.fmoosvi.getters as getters\n",
      "import scipy.optimize\n",
      "\n",
      "testScan = sarpy.Scan('HerP2Bs07.jU1/5')"
     ],
     "language": "python",
     "metadata": {},
     "outputs": [],
     "prompt_number": 1
    },
    {
     "cell_type": "markdown",
     "metadata": {},
     "source": [
      "### Fitting using my h_fit_T1_LL_FAind method..."
     ]
    },
    {
     "cell_type": "code",
     "collapsed": false,
     "input": [
      "newT1map,fr = sarpy.fmoosvi.analysis.h_fit_T1_LL_FAind(testScan, bbox = numpy.array([27,29,77,79]))\n",
      "\n",
      "T1eff = empty_like(newT1map)\n",
      "\n",
      "for slice in xrange(T1eff.shape[-1]):\n",
      "    for y in xrange(T1eff.shape[-2]):\n",
      "        for x in xrange(T1eff.shape[-3]):\n",
      "            try:\n",
      "                T1eff[x,y,slice] = fr[x,y,slice]['fit_params'][2]\n",
      "            except:\n",
      "                T1eff[x,y,slice] = numpy.nan"
     ],
     "language": "python",
     "metadata": {},
     "outputs": [
      {
       "output_type": "stream",
       "stream": "stderr",
       "text": [
        "WARNING:sarpy.io.BRUKERIO:NSLICES not equal to number of ACQ_obj_order\n"
       ]
      },
      {
       "output_type": "stream",
       "stream": "stderr",
       "text": [
        "/phd/Dropbox/code/python/sarpy/fmoosvi/analysis.py:579: RuntimeWarning: divide by zero encountered in double_scalars\n",
        "  return (1-2*numpy.exp(-Td/T1) + numpy.exp(-(Tp+Td)/T1))*((1-numpy.exp(-tao/T1_eff))/(1-numpy.exp(-tao/T1))) -c*(numpy.exp(-tao/T1_eff)/(numpy.exp(-tao/T1)))*numpy.exp(-(Tp+Td)/T1) - b\n",
        "/Library/Python/2.7/site-packages/scipy-0.13.0.dev_c31f167_20130514-py2.7-macosx-10.8-intel.egg/scipy/optimize/zeros.py:152: RuntimeWarning: invalid value encountered in double_scalars\n",
        "  p = p1 - q1*(p1 - p0)/(q1 - q0)\n",
        "/phd/Dropbox/code/python/sarpy/fmoosvi/analysis.py:576: RuntimeWarning: overflow encountered in exp\n",
        "  return a*(1-(1-b)*numpy.exp(-n*tao/T1_eff))*numpy.exp(1j*phi)\n"
       ]
      }
     ],
     "prompt_number": 2
    },
    {
     "cell_type": "markdown",
     "metadata": {},
     "source": [
      "### Manual fitting of one voxel"
     ]
    },
    {
     "cell_type": "code",
     "collapsed": false,
     "input": [
      "raw = sarpy.io.BRUKERIO.fftbruker(testScan.fid)\n",
      "num_slices = getters.get_num_slices(testScan) \n",
      "Nframes = testScan.method.Nframes\n",
      "\n",
      "t1points = numpy.divide(raw.shape[-2],num_slices)   \n",
      "dat=numpy.fliplr(numpy.flipud(numpy.transpose(raw.reshape(raw.shape[0],raw.shape[1],t1points,num_slices),[1,0,3,2])))\n",
      "test = dat[21,68,3]\n",
      "inversion_time = testScan.method.PVM_InversionTime\n",
      "tao = testScan.method.PVM_RepetitionTime\n",
      "\n",
      "total_TR=testScan.method.Inv_Rep_time\n",
      "\n",
      "n_data = numpy.linspace(0,29,30)\n",
      "\n",
      "\n",
      "params = [1e7, -100, 1000, 0]\n",
      "\n",
      "params[0] = numpy.real(numpy.mean(test[-5:]))\n",
      "params[1] = numpy.real(numpy.divide(-test[0],params[0]))\n",
      "params[2] = 1200\n",
      "params[3] = numpy.angle(numpy.mean(test[-5:]))\n",
      "\n",
      "fit_params,cov,infodict,mesg,ier = scipy.optimize.leastsq(sarpy.fmoosvi.analysis.h_residual_T1_FAind,params,args=(test,tao,n_data), full_output=True, maxfev = 200)\n",
      "fit = sarpy.fmoosvi.analysis.h_func_T1_FAind(fit_params,tao, n_data)\n",
      "\n",
      "if ier not in (0,1,2,3,4):\n",
      "    params[0] = numpy.real(test[0])\n",
      "    params[1] = numpy.real(numpy.divide(-test[0],params[0]))\n",
      "    params[2] = 1200\n",
      "    params[3] = numpy.angle(numpy.mean(test[-5:]))\n",
      "\n",
      "    fit_params,cov,infodict,mesg,ier = scipy.optimize.leastsq(sarpy.fmoosvi.analysis.h_residual_T1_FAind,params,args=(test,tao,n_data), full_output=True, maxfev = 200)\n",
      "    fit = sarpy.fmoosvi.analysis.h_func_T1_FAind(fit_params,tao, n_data)\n",
      "\n",
      "\n",
      "figsize(10,5)\n",
      "pylab.subplot(1,2,1)\n",
      "pylab.plot(n_data*tao,numpy.real(test),'bo')\n",
      "pylab.plot(n_data*tao,numpy.real(fit),'b')\n",
      "pylab.subplot(1,2,2)\n",
      "pylab.plot(n_data*tao,numpy.imag(test),'y+')\n",
      "pylab.plot(n_data*tao,numpy.imag(fit), 'y')\n",
      "print fit_params\n",
      "print params\n",
      "print mesg\n",
      "print \n",
      "\n",
      "figsize(10,5)\n",
      "pylab.subplot(1,2,1)\n",
      "pylab.plot(n_data*tao,numpy.real(test),'ro')\n",
      "pylab.plot(n_data*tao,numpy.real(fit),'r')\n",
      "pylab.subplot(1,2,2)\n",
      "pylab.plot(n_data*tao,numpy.imag(test),'g+')\n",
      "pylab.plot(n_data*tao,numpy.imag(fit), 'g')\n",
      "print 'failed initial guess: ', [numpy.real(numpy.mean(test[-5:])), numpy.real(numpy.divide(-test[0],params[0])), 1200, numpy.angle(numpy.mean(test[-5:]))]\n",
      "print 'modified initial guess: ', params\n",
      "print 'fit_params: ', fit_params\n",
      "print mesg\n",
      "print ier"
     ],
     "language": "python",
     "metadata": {},
     "outputs": [
      {
       "output_type": "stream",
       "stream": "stdout",
       "text": [
        "[  1.67411576e+06  -9.88390581e-01   8.88231498e+02  -2.12097180e-01]\n",
        "[array(-1628329.2583405264), array(-1.0), 1200, -0.21700921871884066]\n",
        "Both actual and predicted relative reductions in the sum of squares\n",
        "  are at most 0.000000\n",
        "\n",
        "failed initial guess:  [array(1629588.4800168406), array(-1.0), 1200, -0.21700921871884066]\n",
        "modified initial guess:  [array(-1628329.2583405264), array(-1.0), 1200, -0.21700921871884066]\n",
        "fit_params:  [  1.67411576e+06  -9.88390581e-01   8.88231498e+02  -2.12097180e-01]\n",
        "Both actual and predicted relative reductions in the sum of squares\n",
        "  are at most 0.000000\n",
        "1\n"
       ]
      },
      {
       "output_type": "display_data",
       "png": "[encoded data removed]"
      }
     ],
     "prompt_number": 3
    },
    {
     "cell_type": "code",
     "collapsed": false,
     "input": [
      "print T1eff[21,68,3]\n",
      "print fit_params[2]\n",
      "print fr[21,68,3]['fit_params'][2]"
     ],
     "language": "python",
     "metadata": {},
     "outputs": [
      {
       "output_type": "stream",
       "stream": "stdout",
       "text": [
        "888.231498102\n",
        "888.231498102\n",
        "888.231498102\n"
       ]
      }
     ],
     "prompt_number": 4
    },
    {
     "cell_type": "code",
     "collapsed": false,
     "input": [
      "print T1eff[28,78,3]"
     ],
     "language": "python",
     "metadata": {},
     "outputs": [
      {
       "output_type": "stream",
       "stream": "stdout",
       "text": [
        "828.410984977\n"
       ]
      }
     ],
     "prompt_number": 3
    },
    {
     "cell_type": "code",
     "collapsed": false,
     "input": [],
     "language": "python",
     "metadata": {},
     "outputs": []
    }
   ],
   "metadata": {}
  }
 ]
}