{
 "metadata": {
  "name": "RF1106 Relaxivity"
 },
 "nbformat": 3,
 "nbformat_minor": 0,
 "worksheets": [
  {
   "cells": [
    {
     "cell_type": "code",
     "collapsed": false,
     "input": [
      "import sarpy\n",
      "import numpy\n",
      "import pylab\n",
      "import sarpy.fmoosvi.analysis\n",
      "import sarpy.fmoosvi.wrappers"
     ],
     "language": "python",
     "metadata": {},
     "outputs": [],
     "prompt_number": 9
    },
    {
     "cell_type": "code",
     "collapsed": false,
     "input": [
      "dat = sarpy.Experiment('Dev')"
     ],
     "language": "python",
     "metadata": {},
     "outputs": [],
     "prompt_number": 10
    },
    {
     "cell_type": "code",
     "collapsed": false,
     "input": [
      "dat.studies[0].scans"
     ],
     "language": "python",
     "metadata": {},
     "outputs": [
      {
       "output_type": "pyout",
       "prompt_number": 11,
       "text": [
        "[Scan object: Scan(\"DevRF1106.jr1/1\")\n",
        "   protocol: 1-TriPilot-multi\n",
        "   TE = [3]\n",
        "   TR = [200]\n",
        "   FA = 30\n",
        "   FoV = [6, 6]\n",
        "   matrix = [256, 128],\n",
        " Scan object: Scan(\"DevRF1106.jr1/2\")\n",
        "   protocol: RARE_8_bas\n",
        "   TE = [56]\n",
        "   TR = [5000]\n",
        "   FA = 180\n",
        "   FoV = [8, 8]\n",
        "   matrix = [512, 256],\n",
        " Scan object: Scan(\"DevRF1106.jr1/3\")\n",
        "   protocol: FLASH_bas\n",
        "   TE = [6]\n",
        "   TR = [100]\n",
        "   FA = 30\n",
        "   FoV = [8, 8]\n",
        "   matrix = [512, 256],\n",
        " Scan object: Scan(\"DevRF1106.jr1/4\")\n",
        "   protocol: RARE_8_bas\n",
        "   TE = [56]\n",
        "   TR = [5000]\n",
        "   FA = 180\n",
        "   FoV = [8, 8]\n",
        "   matrix = [512, 256],\n",
        " Scan object: Scan(\"DevRF1106.jr1/5\")\n",
        "   protocol: RARE_8_bas\n",
        "   TE = [8.367]\n",
        "   TR = [4000]\n",
        "   FA = 180\n",
        "   FoV = [6, 4]\n",
        "   matrix = [300, 200],\n",
        " Scan object: Scan(\"DevRF1106.jr1/6\")\n",
        "   protocol: RARE_8_bas\n",
        "   TE = [8.367]\n",
        "   TR = [4000]\n",
        "   FA = 180\n",
        "   FoV = [6, 4]\n",
        "   matrix = [300, 200],\n",
        " Scan object: Scan(\"DevRF1106.jr1/7\")\n",
        "   protocol: RARE_8_bas\n",
        "   TE = [8.367]\n",
        "   TR = [4000]\n",
        "   FA = 180\n",
        "   FoV = [6, 4]\n",
        "   matrix = [300, 200],\n",
        " Scan object: Scan(\"DevRF1106.jr1/8\")\n",
        "   protocol: RARE_8_bas\n",
        "   TE = [8.367]\n",
        "   TR = [4000]\n",
        "   FA = 180\n",
        "   FoV = [6, 4]\n",
        "   matrix = [300, 200],\n",
        " Scan object: Scan(\"DevRF1106.jr1/9\")\n",
        "   protocol: RARE_8_bas\n",
        "   TE = [8.367]\n",
        "   TR = [4000]\n",
        "   FA = 180\n",
        "   FoV = [6, 4]\n",
        "   matrix = [300, 200],\n",
        " Scan object: Scan(\"DevRF1106.jr1/10\")\n",
        "   protocol: RARE_8_bas\n",
        "   TE = [8.367]\n",
        "   TR = [4000]\n",
        "   FA = 180\n",
        "   FoV = [6, 4]\n",
        "   matrix = [300, 200],\n",
        " Scan object: Scan(\"DevRF1106.jr1/11\")\n",
        "   protocol: RARE_8_bas\n",
        "   TE = [8.367]\n",
        "   TR = [4000]\n",
        "   FA = 180\n",
        "   FoV = [6, 4]\n",
        "   matrix = [300, 200],\n",
        " Scan object: Scan(\"DevRF1106.jr1/12\")\n",
        "   protocol: RARE_8_bas\n",
        "   TE = [8.367]\n",
        "   TR = [4000]\n",
        "   FA = 180\n",
        "   FoV = [6, 4]\n",
        "   matrix = [300, 200],\n",
        " Scan object: Scan(\"DevRF1106.jr1/13\")\n",
        "   protocol: RARE_8_bas\n",
        "   TE = [8.367]\n",
        "   TR = [4000]\n",
        "   FA = 180\n",
        "   FoV = [6, 4]\n",
        "   matrix = [300, 200],\n",
        " Scan object: Scan(\"DevRF1106.jr1/14\")\n",
        "   protocol: RARE_8_bas\n",
        "   TE = [8.367]\n",
        "   TR = [4000]\n",
        "   FA = 180\n",
        "   FoV = [6, 4]\n",
        "   matrix = [300, 200],\n",
        " Scan object: Scan(\"DevRF1106.jr1/15\")\n",
        "   protocol: RARE_8_bas\n",
        "   TE = [8.367]\n",
        "   TR = [4000]\n",
        "   FA = 180\n",
        "   FoV = [6, 4]\n",
        "   matrix = [300, 200],\n",
        " Scan object: Scan(\"DevRF1106.jr1/16\")\n",
        "   protocol: 04_ubcLL2\n",
        "   TE = [3.044]\n",
        "   TR = [200]\n",
        "   FA = 20\n",
        "   FoV = [6, 4]\n",
        "   matrix = [256, 64]]"
       ]
      }
     ],
     "prompt_number": 11
    },
    {
     "cell_type": "code",
     "collapsed": false,
     "input": [
      "ll = sarpy.Scan('DevRF1106.jr1/16')"
     ],
     "language": "python",
     "metadata": {},
     "outputs": [],
     "prompt_number": 12
    },
    {
     "cell_type": "code",
     "collapsed": false,
     "input": [
      "t1 = sarpy.fmoosvi.analysis.h_fit_T1_LL_FAind(ll)"
     ],
     "language": "python",
     "metadata": {},
     "outputs": [
      {
       "ename": "AssertionError",
       "evalue": "I am not clever enough to read Parallel acquired data, yet",
       "output_type": "pyerr",
       "traceback": [
        "\u001b[0;31m---------------------------------------------------------------------------\u001b[0m\n\u001b[0;31mAssertionError\u001b[0m                            Traceback (most recent call last)",
        "\u001b[0;32m<ipython-input-13-37078e9074dc>\u001b[0m in \u001b[0;36m<module>\u001b[0;34m()\u001b[0m\n\u001b[0;32m----> 1\u001b[0;31m \u001b[0mt1\u001b[0m \u001b[0;34m=\u001b[0m \u001b[0msarpy\u001b[0m\u001b[0;34m.\u001b[0m\u001b[0mfmoosvi\u001b[0m\u001b[0;34m.\u001b[0m\u001b[0manalysis\u001b[0m\u001b[0;34m.\u001b[0m\u001b[0mh_fit_T1_LL_FAind\u001b[0m\u001b[0;34m(\u001b[0m\u001b[0mll\u001b[0m\u001b[0;34m)\u001b[0m\u001b[0;34m\u001b[0m\u001b[0m\n\u001b[0m",
        "\u001b[0;32m/phd/Dropbox/code/python/sarpy/fmoosvi/analysis.pyc\u001b[0m in \u001b[0;36mh_fit_T1_LL_FAind\u001b[0;34m(scan_object, bbox, pdata_num, params)\u001b[0m\n\u001b[1;32m    602\u001b[0m         \u001b[0mparams\u001b[0m \u001b[0;34m=\u001b[0m \u001b[0;34m[\u001b[0m\u001b[0;36m0\u001b[0m\u001b[0;34m,\u001b[0m \u001b[0;36m0\u001b[0m\u001b[0;34m,\u001b[0m \u001b[0;36m0\u001b[0m\u001b[0;34m,\u001b[0m \u001b[0;36m0\u001b[0m\u001b[0;34m]\u001b[0m\u001b[0;34m\u001b[0m\u001b[0m\n\u001b[1;32m    603\u001b[0m     \u001b[0;31m## Setting parameters\u001b[0m\u001b[0;34m\u001b[0m\u001b[0;34m\u001b[0m\u001b[0m\n\u001b[0;32m--> 604\u001b[0;31m     \u001b[0mx\u001b[0m \u001b[0;34m=\u001b[0m \u001b[0msarpy\u001b[0m\u001b[0;34m.\u001b[0m\u001b[0mio\u001b[0m\u001b[0;34m.\u001b[0m\u001b[0mBRUKERIO\u001b[0m\u001b[0;34m.\u001b[0m\u001b[0mfftbruker\u001b[0m\u001b[0;34m(\u001b[0m\u001b[0mscan_object\u001b[0m\u001b[0;34m.\u001b[0m\u001b[0mfid\u001b[0m\u001b[0;34m)\u001b[0m\u001b[0;34m\u001b[0m\u001b[0m\n\u001b[0m\u001b[1;32m    605\u001b[0m     \u001b[0mnum_slices\u001b[0m \u001b[0;34m=\u001b[0m \u001b[0mgetters\u001b[0m\u001b[0;34m.\u001b[0m\u001b[0mget_num_slices\u001b[0m\u001b[0;34m(\u001b[0m\u001b[0mscan_object\u001b[0m\u001b[0;34m,\u001b[0m\u001b[0mpdata_num\u001b[0m\u001b[0;34m)\u001b[0m\u001b[0;34m\u001b[0m\u001b[0m\n\u001b[1;32m    606\u001b[0m     \u001b[0mt1points\u001b[0m \u001b[0;34m=\u001b[0m \u001b[0mnumpy\u001b[0m\u001b[0;34m.\u001b[0m\u001b[0mdivide\u001b[0m\u001b[0;34m(\u001b[0m\u001b[0mx\u001b[0m\u001b[0;34m.\u001b[0m\u001b[0mshape\u001b[0m\u001b[0;34m[\u001b[0m\u001b[0;34m-\u001b[0m\u001b[0;36m2\u001b[0m\u001b[0;34m]\u001b[0m\u001b[0;34m,\u001b[0m\u001b[0mnum_slices\u001b[0m\u001b[0;34m)\u001b[0m\u001b[0;34m\u001b[0m\u001b[0m\n",
        "\u001b[0;32m/phd/Dropbox/code/python/sarpy/io/lazy_property.pyc\u001b[0m in \u001b[0;36m__get__\u001b[0;34m(self, obj, cls)\u001b[0m\n\u001b[1;32m     44\u001b[0m         \u001b[0;32mif\u001b[0m \u001b[0mobj\u001b[0m \u001b[0;32mis\u001b[0m \u001b[0mNone\u001b[0m\u001b[0;34m:\u001b[0m\u001b[0;34m\u001b[0m\u001b[0m\n\u001b[1;32m     45\u001b[0m             \u001b[0;32mreturn\u001b[0m \u001b[0mNone\u001b[0m\u001b[0;34m\u001b[0m\u001b[0m\n\u001b[0;32m---> 46\u001b[0;31m         \u001b[0mvalue\u001b[0m \u001b[0;34m=\u001b[0m \u001b[0mself\u001b[0m\u001b[0;34m.\u001b[0m\u001b[0mfget\u001b[0m\u001b[0;34m(\u001b[0m\u001b[0mobj\u001b[0m\u001b[0;34m)\u001b[0m\u001b[0;34m\u001b[0m\u001b[0m\n\u001b[0m\u001b[1;32m     47\u001b[0m         \u001b[0;31m# the following overwrites the dict in the calling object\u001b[0m\u001b[0;34m\u001b[0m\u001b[0;34m\u001b[0m\u001b[0m\n\u001b[1;32m     48\u001b[0m         \u001b[0;31m# thereby erasing any access to this function (which)\u001b[0m\u001b[0;34m\u001b[0m\u001b[0;34m\u001b[0m\u001b[0m\n",
        "\u001b[0;32m/phd/Dropbox/code/python/sarpy/io/BRUKER_classes.pyc\u001b[0m in \u001b[0;36mfid\u001b[0;34m(self)\u001b[0m\n\u001b[1;32m    237\u001b[0m         kspace = BRUKERIO.readfid(os.path.join(self.dirname,'fid'),\n\u001b[1;32m    238\u001b[0m                                   \u001b[0macqp\u001b[0m\u001b[0;34m=\u001b[0m\u001b[0mself\u001b[0m\u001b[0;34m.\u001b[0m\u001b[0macqp\u001b[0m\u001b[0;34m.\u001b[0m\u001b[0m__dict__\u001b[0m\u001b[0;34m,\u001b[0m\u001b[0;34m\u001b[0m\u001b[0m\n\u001b[0;32m--> 239\u001b[0;31m                                   method=self.method.__dict__)['data']\n\u001b[0m\u001b[1;32m    240\u001b[0m         \u001b[0;32mreturn\u001b[0m \u001b[0mkspace\u001b[0m\u001b[0;34m\u001b[0m\u001b[0m\n\u001b[1;32m    241\u001b[0m \u001b[0;34m\u001b[0m\u001b[0m\n",
        "\u001b[0;32m/phd/Dropbox/code/python/sarpy/io/BRUKERIO.pyc\u001b[0m in \u001b[0;36mreadfid\u001b[0;34m(fptr, acqp, method, untouched)\u001b[0m\n\u001b[1;32m    465\u001b[0m     \u001b[0mlogger\u001b[0m\u001b[0;34m.\u001b[0m\u001b[0mdebug\u001b[0m\u001b[0;34m(\u001b[0m\u001b[0;34m'ACQ_size={0}'\u001b[0m\u001b[0;34m.\u001b[0m\u001b[0mformat\u001b[0m\u001b[0;34m(\u001b[0m\u001b[0mACQ_size\u001b[0m\u001b[0;34m)\u001b[0m\u001b[0;34m)\u001b[0m\u001b[0;34m\u001b[0m\u001b[0m\n\u001b[1;32m    466\u001b[0m     assert acqp['ACQ_experiment_mode'] == 'SingleExperiment',(\n\u001b[0;32m--> 467\u001b[0;31m             'I am not clever enough to read Parallel acquired data, yet')\n\u001b[0m\u001b[1;32m    468\u001b[0m     assert ACQ_dim == len(ACQ_size),(\n\u001b[1;32m    469\u001b[0m             'ACQ_dim = {0} != len(ACQ_size={1}) ??'.format(\n",
        "\u001b[0;31mAssertionError\u001b[0m: I am not clever enough to read Parallel acquired data, yet"
       ]
      }
     ],
     "prompt_number": 13
    },
    {
     "cell_type": "code",
     "collapsed": false,
     "input": [],
     "language": "python",
     "metadata": {},
     "outputs": []
    }
   ],
   "metadata": {}
  }
 ]
}