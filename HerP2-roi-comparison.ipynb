{
 "metadata": {
  "name": "HerP2-roi-comparison"
 },
 "nbformat": 3,
 "nbformat_minor": 0,
 "worksheets": [
  {
   "cells": [
    {
     "cell_type": "markdown",
     "metadata": {},
     "source": [
      "This is a template for analyzing various animals using the new python setup.\n",
      "\n",
      "Change the name of the experiment in Step 0, and then again the names of the labels in Step 4. This template requires that the masterlist be already created using generate_masterlist.py"
     ]
    },
    {
     "cell_type": "markdown",
     "metadata": {},
     "source": [
      "#### Set imports and define the experiment name"
     ]
    },
    {
     "cell_type": "code",
     "collapsed": false,
     "input": [
      "import sarpy\n",
      "import sarpy.fmoosvi.wrappers\n",
      "from datetime import datetime\n",
      "from collections import defaultdict\n",
      "import os\n",
      "import sys\n",
      "import errno\n",
      "\n",
      "startTime = datetime.now()"
     ],
     "language": "python",
     "metadata": {},
     "outputs": [],
     "prompt_number": 1
    },
    {
     "cell_type": "markdown",
     "metadata": {},
     "source": [
      "## Step 0 - Specify experiment name"
     ]
    },
    {
     "cell_type": "code",
     "collapsed": false,
     "input": [
      "masterlist = 'HerP2'\n",
      "path = os.path.join(os.path.expanduser('~'),'sdata',masterlist,'rois')\n",
      "\n",
      "# See if the rois directory exists, if it doesn't create it\n",
      "try:\n",
      "    os.makedirs(path)\n",
      "except OSError as exception:\n",
      "    if exception.errno != errno.EEXIST:\n",
      "        raise"
     ],
     "language": "python",
     "metadata": {},
     "outputs": [],
     "prompt_number": 2
    },
    {
     "cell_type": "markdown",
     "metadata": {},
     "source": [
      "## Step 1: Export ROIs"
     ]
    },
    {
     "cell_type": "code",
     "collapsed": false,
     "input": [
      "fFlag = True\n",
      "\n",
      "smart_label = []\n",
      "smart_label.append(['0h-roi','0h-',fFlag])\n",
      "smart_label.append(['24h-roi','24h-',fFlag])\n",
      "\n",
      "for sm in smart_label:\n",
      "    sarpy.io.generate_rois.generate_rois(masterlist,sm[0],'roi','export', path, sm[2])"
     ],
     "language": "python",
     "metadata": {},
     "outputs": [
      {
       "output_type": "stream",
       "stream": "stdout",
       "text": [
        "Nifti images were processed in /Users/fmoosvi/sdata/HerP2/rois\n",
        "Nifti images were processed in /Users/fmoosvi/sdata/HerP2/rois"
       ]
      },
      {
       "output_type": "stream",
       "stream": "stdout",
       "text": [
        "\n"
       ]
      }
     ],
     "prompt_number": 3
    },
    {
     "cell_type": "markdown",
     "metadata": {},
     "source": [
      "Now go ahead and draw ROIs using ImageJ. When you're done, just rename the files with an a appended at the very end. For e.g., the source file _HerS2Mo01_10.nii_ will turn into _HerS2Mo01_10a.nii_ once the ROI is drawn"
     ]
    },
    {
     "cell_type": "markdown",
     "metadata": {},
     "source": [
      "## Step 2: Import the drawn ROIs back in as adata, update the bounding boxes"
     ]
    },
    {
     "cell_type": "code",
     "collapsed": false,
     "input": [
      "peaks = None\n",
      "for sm in smart_label:\n",
      "    sarpy.io.generate_rois.generate_rois(masterlist,sm[0],'roi_old','import', path,peaks=peaks, forceVal = sm[2])\n",
      "    sarpy.io.update_bbox.update_bbox(masterlist,sm[0],'roi_old',sm[1])\n",
      "\n",
      "sarpy.io.update_bbox.update_bbox(masterlist,smart_label[1][0],'roi_old','\\-24h-')\n",
      "sarpy.io.update_bbox.update_bbox(masterlist,smart_label[1][0],'roi_old','\\+24h-')"
     ],
     "language": "python",
     "metadata": {},
     "outputs": [
      {
       "output_type": "stream",
       "stream": "stdout",
       "text": [
        "deleting item roi_old\n",
        "h_generate_roi: saved HerP2Bs01.jJ1/6 roi label"
       ]
      },
      {
       "output_type": "stream",
       "stream": "stdout",
       "text": [
        "\n",
        "deleting item roi_old"
       ]
      },
      {
       "output_type": "stream",
       "stream": "stdout",
       "text": [
        "\n",
        "h_generate_roi: saved HerP2Bs02.jJ2/4 roi label"
       ]
      },
      {
       "output_type": "stream",
       "stream": "stdout",
       "text": [
        "\n",
        "deleting item roi_old"
       ]
      },
      {
       "output_type": "stream",
       "stream": "stdout",
       "text": [
        "\n",
        "h_generate_roi: saved HerP2Bs03.jK1/4 roi label"
       ]
      },
      {
       "output_type": "stream",
       "stream": "stdout",
       "text": [
        "\n",
        "deleting item roi_old"
       ]
      },
      {
       "output_type": "stream",
       "stream": "stdout",
       "text": [
        "\n",
        "h_generate_roi: saved HerP2Bs04.jK1/4 roi label"
       ]
      },
      {
       "output_type": "stream",
       "stream": "stdout",
       "text": [
        "\n",
        "deleting item roi_old"
       ]
      },
      {
       "output_type": "stream",
       "stream": "stdout",
       "text": [
        "\n",
        "h_generate_roi: saved HerP2Bs05.jK1/4 roi label"
       ]
      },
      {
       "output_type": "stream",
       "stream": "stdout",
       "text": [
        "\n",
        "deleting item roi_old"
       ]
      },
      {
       "output_type": "stream",
       "stream": "stdout",
       "text": [
        "\n",
        "h_generate_roi: saved HerP2Bs06.jT1/4 roi label"
       ]
      },
      {
       "output_type": "stream",
       "stream": "stdout",
       "text": [
        "\n",
        "deleting item roi_old"
       ]
      },
      {
       "output_type": "stream",
       "stream": "stdout",
       "text": [
        "\n",
        "h_generate_roi: saved HerP2Bs07.jT1/4 roi label"
       ]
      },
      {
       "output_type": "stream",
       "stream": "stdout",
       "text": [
        "\n",
        "deleting item roi_old"
       ]
      },
      {
       "output_type": "stream",
       "stream": "stdout",
       "text": [
        "\n",
        "h_generate_roi: saved HerP2Bs08.jT1/4 roi label"
       ]
      },
      {
       "output_type": "stream",
       "stream": "stdout",
       "text": [
        "\n",
        "deleting item roi_old"
       ]
      },
      {
       "output_type": "stream",
       "stream": "stdout",
       "text": [
        "\n",
        "h_generate_roi: saved HerP2Bs09.kp1/4 roi label"
       ]
      },
      {
       "output_type": "stream",
       "stream": "stdout",
       "text": [
        "\n",
        "deleting item roi_old"
       ]
      },
      {
       "output_type": "stream",
       "stream": "stdout",
       "text": [
        "\n",
        "h_generate_roi: saved HerP2Bs10.kp1/3 roi label"
       ]
      },
      {
       "output_type": "stream",
       "stream": "stdout",
       "text": [
        "\n",
        "Nifti images were processed in /Users/fmoosvi/sdata/HerP2/rois\n",
        "update_bbox: Success, updated file is: HerP2_updated.json"
       ]
      },
      {
       "output_type": "stream",
       "stream": "stdout",
       "text": [
        "\n",
        "deleting item roi_old"
       ]
      },
      {
       "output_type": "stream",
       "stream": "stdout",
       "text": [
        "\n",
        "h_generate_roi: saved HerP2Bs01.jK1/4 roi label"
       ]
      },
      {
       "output_type": "stream",
       "stream": "stdout",
       "text": [
        "\n",
        "deleting item roi_old"
       ]
      },
      {
       "output_type": "stream",
       "stream": "stdout",
       "text": [
        "\n",
        "h_generate_roi: saved HerP2Bs02.jK1/5 roi label"
       ]
      },
      {
       "output_type": "stream",
       "stream": "stdout",
       "text": [
        "\n",
        "deleting item roi_old"
       ]
      },
      {
       "output_type": "stream",
       "stream": "stdout",
       "text": [
        "\n",
        "h_generate_roi: saved HerP2Bs03.jL1/5 roi label"
       ]
      },
      {
       "output_type": "stream",
       "stream": "stdout",
       "text": [
        "\n",
        "deleting item roi_old"
       ]
      },
      {
       "output_type": "stream",
       "stream": "stdout",
       "text": [
        "\n",
        "h_generate_roi: saved HerP2Bs04.jL1/4 roi label"
       ]
      },
      {
       "output_type": "stream",
       "stream": "stdout",
       "text": [
        "\n",
        "deleting item roi_old"
       ]
      },
      {
       "output_type": "stream",
       "stream": "stdout",
       "text": [
        "\n",
        "h_generate_roi: saved HerP2Bs05.jL1/4 roi label"
       ]
      },
      {
       "output_type": "stream",
       "stream": "stdout",
       "text": [
        "\n",
        "deleting item roi_old"
       ]
      },
      {
       "output_type": "stream",
       "stream": "stdout",
       "text": [
        "\n",
        "h_generate_roi: saved HerP2Bs06.jU1/4 roi label"
       ]
      },
      {
       "output_type": "stream",
       "stream": "stdout",
       "text": [
        "\n",
        "deleting item roi_old"
       ]
      },
      {
       "output_type": "stream",
       "stream": "stdout",
       "text": [
        "\n",
        "h_generate_roi: saved HerP2Bs07.jU1/4 roi label"
       ]
      },
      {
       "output_type": "stream",
       "stream": "stdout",
       "text": [
        "\n",
        "deleting item roi_old"
       ]
      },
      {
       "output_type": "stream",
       "stream": "stdout",
       "text": [
        "\n",
        "h_generate_roi: saved HerP2Bs08.jU1/4 roi label"
       ]
      },
      {
       "output_type": "stream",
       "stream": "stdout",
       "text": [
        "\n",
        "deleting item roi_old"
       ]
      },
      {
       "output_type": "stream",
       "stream": "stdout",
       "text": [
        "\n",
        "h_generate_roi: saved HerP2Bs09.kq1/3 roi label"
       ]
      },
      {
       "output_type": "stream",
       "stream": "stdout",
       "text": [
        "\n",
        "deleting item roi_old"
       ]
      },
      {
       "output_type": "stream",
       "stream": "stdout",
       "text": [
        "\n",
        "h_generate_roi: saved HerP2Bs10.kq1/3 roi label"
       ]
      },
      {
       "output_type": "stream",
       "stream": "stdout",
       "text": [
        "\n",
        "Nifti images were processed in /Users/fmoosvi/sdata/HerP2/rois\n",
        "update_bbox: Success, updated file is: HerP2_updated.json"
       ]
      },
      {
       "output_type": "stream",
       "stream": "stdout",
       "text": [
        "\n",
        "update_bbox: Success, updated file is: HerP2_updated.json"
       ]
      },
      {
       "output_type": "stream",
       "stream": "stdout",
       "text": [
        "\n",
        "update_bbox: Success, updated file is: HerP2_updated.json"
       ]
      },
      {
       "output_type": "stream",
       "stream": "stdout",
       "text": [
        "\n"
       ]
      }
     ],
     "prompt_number": 52
    },
    {
     "cell_type": "code",
     "collapsed": false,
     "input": [
      "peaks = 2\n",
      "for sm in smart_label:\n",
      "    sarpy.io.generate_rois.generate_rois(masterlist,sm[0],'roi','import', path,peaks=peaks, forceVal = sm[2])\n",
      "    sarpy.io.update_bbox.update_bbox(masterlist,sm[0],'roi',sm[1])\n",
      "\n",
      "sarpy.io.update_bbox.update_bbox(masterlist,smart_label[1][0],'roi','\\-24h-')\n",
      "sarpy.io.update_bbox.update_bbox(masterlist,smart_label[1][0],'roi','\\+24h-')"
     ],
     "language": "python",
     "metadata": {},
     "outputs": [
      {
       "output_type": "stream",
       "stream": "stdout",
       "text": [
        "deleting item roi\n",
        "h_generate_roi: saved HerP2Bs01.jJ1/6 roi label"
       ]
      },
      {
       "output_type": "stream",
       "stream": "stdout",
       "text": [
        "\n",
        "deleting item roi"
       ]
      },
      {
       "output_type": "stream",
       "stream": "stdout",
       "text": [
        "\n",
        "h_generate_roi: saved HerP2Bs02.jJ2/4 roi label"
       ]
      },
      {
       "output_type": "stream",
       "stream": "stdout",
       "text": [
        "\n",
        "deleting item roi"
       ]
      },
      {
       "output_type": "stream",
       "stream": "stdout",
       "text": [
        "\n",
        "h_generate_roi: saved HerP2Bs03.jK1/4 roi label"
       ]
      },
      {
       "output_type": "stream",
       "stream": "stdout",
       "text": [
        "\n",
        "deleting item roi"
       ]
      },
      {
       "output_type": "stream",
       "stream": "stdout",
       "text": [
        "\n",
        "h_generate_roi: saved HerP2Bs04.jK1/4 roi label"
       ]
      },
      {
       "output_type": "stream",
       "stream": "stdout",
       "text": [
        "\n",
        "deleting item roi"
       ]
      },
      {
       "output_type": "stream",
       "stream": "stdout",
       "text": [
        "\n",
        "h_generate_roi: saved HerP2Bs05.jK1/4 roi label"
       ]
      },
      {
       "output_type": "stream",
       "stream": "stdout",
       "text": [
        "\n",
        "deleting item roi"
       ]
      },
      {
       "output_type": "stream",
       "stream": "stdout",
       "text": [
        "\n",
        "h_generate_roi: saved HerP2Bs06.jT1/4 roi label"
       ]
      },
      {
       "output_type": "stream",
       "stream": "stdout",
       "text": [
        "\n",
        "deleting item roi"
       ]
      },
      {
       "output_type": "stream",
       "stream": "stdout",
       "text": [
        "\n",
        "h_generate_roi: saved HerP2Bs07.jT1/4 roi label"
       ]
      },
      {
       "output_type": "stream",
       "stream": "stdout",
       "text": [
        "\n",
        "deleting item roi"
       ]
      },
      {
       "output_type": "stream",
       "stream": "stdout",
       "text": [
        "\n",
        "h_generate_roi: saved HerP2Bs08.jT1/4 roi label"
       ]
      },
      {
       "output_type": "stream",
       "stream": "stdout",
       "text": [
        "\n",
        "deleting item roi"
       ]
      },
      {
       "output_type": "stream",
       "stream": "stdout",
       "text": [
        "\n",
        "h_generate_roi: saved HerP2Bs09.kp1/4 roi label"
       ]
      },
      {
       "output_type": "stream",
       "stream": "stdout",
       "text": [
        "\n",
        "deleting item roi"
       ]
      },
      {
       "output_type": "stream",
       "stream": "stdout",
       "text": [
        "\n",
        "h_generate_roi: saved HerP2Bs10.kp1/3 roi label"
       ]
      },
      {
       "output_type": "stream",
       "stream": "stdout",
       "text": [
        "\n",
        "Nifti images were processed in /Users/fmoosvi/sdata/HerP2/rois\n",
        "update_bbox: Success, updated file is: HerP2_updated.json"
       ]
      },
      {
       "output_type": "stream",
       "stream": "stdout",
       "text": [
        "\n",
        "deleting item roi"
       ]
      },
      {
       "output_type": "stream",
       "stream": "stdout",
       "text": [
        "\n",
        "h_generate_roi: saved HerP2Bs01.jK1/4 roi label"
       ]
      },
      {
       "output_type": "stream",
       "stream": "stdout",
       "text": [
        "\n",
        "deleting item roi"
       ]
      },
      {
       "output_type": "stream",
       "stream": "stdout",
       "text": [
        "\n",
        "h_generate_roi: saved HerP2Bs02.jK1/5 roi label"
       ]
      },
      {
       "output_type": "stream",
       "stream": "stdout",
       "text": [
        "\n",
        "deleting item roi"
       ]
      },
      {
       "output_type": "stream",
       "stream": "stdout",
       "text": [
        "\n",
        "h_generate_roi: saved HerP2Bs03.jL1/5 roi label"
       ]
      },
      {
       "output_type": "stream",
       "stream": "stdout",
       "text": [
        "\n",
        "deleting item roi"
       ]
      },
      {
       "output_type": "stream",
       "stream": "stdout",
       "text": [
        "\n",
        "h_generate_roi: saved HerP2Bs04.jL1/4 roi label"
       ]
      },
      {
       "output_type": "stream",
       "stream": "stdout",
       "text": [
        "\n",
        "deleting item roi"
       ]
      },
      {
       "output_type": "stream",
       "stream": "stdout",
       "text": [
        "\n",
        "h_generate_roi: saved HerP2Bs05.jL1/4 roi label"
       ]
      },
      {
       "output_type": "stream",
       "stream": "stdout",
       "text": [
        "\n",
        "deleting item roi"
       ]
      },
      {
       "output_type": "stream",
       "stream": "stdout",
       "text": [
        "\n",
        "h_generate_roi: saved HerP2Bs06.jU1/4 roi label"
       ]
      },
      {
       "output_type": "stream",
       "stream": "stdout",
       "text": [
        "\n",
        "deleting item roi"
       ]
      },
      {
       "output_type": "stream",
       "stream": "stdout",
       "text": [
        "\n",
        "h_generate_roi: saved HerP2Bs07.jU1/4 roi label"
       ]
      },
      {
       "output_type": "stream",
       "stream": "stdout",
       "text": [
        "\n",
        "deleting item roi"
       ]
      },
      {
       "output_type": "stream",
       "stream": "stdout",
       "text": [
        "\n",
        "h_generate_roi: saved HerP2Bs08.jU1/4 roi label"
       ]
      },
      {
       "output_type": "stream",
       "stream": "stdout",
       "text": [
        "\n",
        "deleting item roi"
       ]
      },
      {
       "output_type": "stream",
       "stream": "stdout",
       "text": [
        "\n",
        "h_generate_roi: saved HerP2Bs09.kq1/3 roi label"
       ]
      },
      {
       "output_type": "stream",
       "stream": "stdout",
       "text": [
        "\n",
        "deleting item roi"
       ]
      },
      {
       "output_type": "stream",
       "stream": "stdout",
       "text": [
        "\n",
        "h_generate_roi: saved HerP2Bs10.kq1/3 roi label"
       ]
      },
      {
       "output_type": "stream",
       "stream": "stdout",
       "text": [
        "\n",
        "Nifti images were processed in /Users/fmoosvi/sdata/HerP2/rois\n",
        "update_bbox: Success, updated file is: HerP2_updated.json"
       ]
      },
      {
       "output_type": "stream",
       "stream": "stdout",
       "text": [
        "\n",
        "update_bbox: Success, updated file is: HerP2_updated.json"
       ]
      },
      {
       "output_type": "stream",
       "stream": "stdout",
       "text": [
        "\n",
        "update_bbox: Success, updated file is: HerP2_updated.json"
       ]
      },
      {
       "output_type": "stream",
       "stream": "stdout",
       "text": [
        "\n"
       ]
      }
     ],
     "prompt_number": 28
    },
    {
     "cell_type": "markdown",
     "metadata": {},
     "source": [
      "## Step 4: Transfer ROIs to other scans via (resampling onto)"
     ]
    },
    {
     "cell_type": "code",
     "collapsed": false,
     "input": [
      "fFlag = True\n",
      "label = []\n",
      "label.append('T1map_LL')\n",
      "label.append('auc60')\n",
      "\n",
      "for l in label:\n",
      "    sarpy.fmoosvi.wrappers.bulk_transfer_roi(masterlist,l, roi_src_adata_label = 'roi_old', tag = '_old', forceVal = fFlag)"
     ],
     "language": "python",
     "metadata": {},
     "outputs": [
      {
       "output_type": "stream",
       "stream": "stdout",
       "text": [
        "deleting item T1map_LL_old_roi\n",
        "bulk_transfer_roi: Success. Saved T1map_LL_old_roi in HerP2Bs01.jJ1/2"
       ]
      },
      {
       "output_type": "stream",
       "stream": "stdout",
       "text": [
        "\n",
        "deleting item T1map_LL_old_roi"
       ]
      },
      {
       "output_type": "stream",
       "stream": "stdout",
       "text": [
        "\n",
        "bulk_transfer_roi: Success. Saved T1map_LL_old_roi in HerP2Bs01.jK1/5"
       ]
      },
      {
       "output_type": "stream",
       "stream": "stdout",
       "text": [
        "\n",
        "bulk_transfer_roi: Key roblem with roi src scan for study HerP2Bs02.jJ1, maybe this study is extra"
       ]
      },
      {
       "output_type": "stream",
       "stream": "stdout",
       "text": [
        "\n",
        "bulk_transfer_roi: T1map_LL not found in study HerP2Bs02.jJ1\n",
        "deleting item T1map_LL_old_roi"
       ]
      },
      {
       "output_type": "stream",
       "stream": "stdout",
       "text": [
        "\n",
        "bulk_transfer_roi: Success. Saved T1map_LL_old_roi in HerP2Bs02.jJ2/5"
       ]
      },
      {
       "output_type": "stream",
       "stream": "stdout",
       "text": [
        "\n",
        "deleting item T1map_LL_old_roi"
       ]
      },
      {
       "output_type": "stream",
       "stream": "stdout",
       "text": [
        "\n",
        "bulk_transfer_roi: Success. Saved T1map_LL_old_roi in HerP2Bs02.jK1/6"
       ]
      },
      {
       "output_type": "stream",
       "stream": "stdout",
       "text": [
        "\n",
        "deleting item T1map_LL_old_roi"
       ]
      },
      {
       "output_type": "stream",
       "stream": "stdout",
       "text": [
        "\n",
        "bulk_transfer_roi: Success. Saved T1map_LL_old_roi in HerP2Bs03.jK1/5"
       ]
      },
      {
       "output_type": "stream",
       "stream": "stdout",
       "text": [
        "\n",
        "deleting item T1map_LL_old_roi"
       ]
      },
      {
       "output_type": "stream",
       "stream": "stdout",
       "text": [
        "\n",
        "bulk_transfer_roi: Success. Saved T1map_LL_old_roi in HerP2Bs03.jL1/6"
       ]
      },
      {
       "output_type": "stream",
       "stream": "stdout",
       "text": [
        "\n",
        "deleting item T1map_LL_old_roi"
       ]
      },
      {
       "output_type": "stream",
       "stream": "stdout",
       "text": [
        "\n",
        "bulk_transfer_roi: Success. Saved T1map_LL_old_roi in HerP2Bs04.jK1/5"
       ]
      },
      {
       "output_type": "stream",
       "stream": "stdout",
       "text": [
        "\n",
        "deleting item T1map_LL_old_roi"
       ]
      },
      {
       "output_type": "stream",
       "stream": "stdout",
       "text": [
        "\n",
        "bulk_transfer_roi: Success. Saved T1map_LL_old_roi in HerP2Bs04.jL1/5"
       ]
      },
      {
       "output_type": "stream",
       "stream": "stdout",
       "text": [
        "\n",
        "deleting item T1map_LL_old_roi\n",
        "bulk_transfer_roi: Success. Saved T1map_LL_old_roi in HerP2Bs04.jL1/9"
       ]
      },
      {
       "output_type": "stream",
       "stream": "stdout",
       "text": [
        "\n",
        "deleting item T1map_LL_old_roi"
       ]
      },
      {
       "output_type": "stream",
       "stream": "stdout",
       "text": [
        "\n",
        "bulk_transfer_roi: Success. Saved T1map_LL_old_roi in HerP2Bs05.jK1/5"
       ]
      },
      {
       "output_type": "stream",
       "stream": "stdout",
       "text": [
        "\n",
        "deleting item T1map_LL_old_roi"
       ]
      },
      {
       "output_type": "stream",
       "stream": "stdout",
       "text": [
        "\n",
        "bulk_transfer_roi: Success. Saved T1map_LL_old_roi in HerP2Bs05.jL1/5"
       ]
      },
      {
       "output_type": "stream",
       "stream": "stdout",
       "text": [
        "\n",
        "deleting item T1map_LL_old_roi\n",
        "bulk_transfer_roi: Success. Saved T1map_LL_old_roi in HerP2Bs05.jL1/9"
       ]
      },
      {
       "output_type": "stream",
       "stream": "stdout",
       "text": [
        "\n",
        "deleting item T1map_LL_old_roi"
       ]
      },
      {
       "output_type": "stream",
       "stream": "stdout",
       "text": [
        "\n",
        "bulk_transfer_roi: Success. Saved T1map_LL_old_roi in HerP2Bs06.jT1/5"
       ]
      },
      {
       "output_type": "stream",
       "stream": "stdout",
       "text": [
        "\n",
        "deleting item T1map_LL_old_roi"
       ]
      },
      {
       "output_type": "stream",
       "stream": "stdout",
       "text": [
        "\n",
        "bulk_transfer_roi: Success. Saved T1map_LL_old_roi in HerP2Bs06.jU1/5"
       ]
      },
      {
       "output_type": "stream",
       "stream": "stdout",
       "text": [
        "\n",
        "deleting item T1map_LL_old_roi\n",
        "bulk_transfer_roi: Success. Saved T1map_LL_old_roi in HerP2Bs06.jU1/9"
       ]
      },
      {
       "output_type": "stream",
       "stream": "stdout",
       "text": [
        "\n",
        "deleting item T1map_LL_old_roi"
       ]
      },
      {
       "output_type": "stream",
       "stream": "stdout",
       "text": [
        "\n",
        "bulk_transfer_roi: Success. Saved T1map_LL_old_roi in HerP2Bs07.jT1/5"
       ]
      },
      {
       "output_type": "stream",
       "stream": "stdout",
       "text": [
        "\n",
        "deleting item T1map_LL_old_roi"
       ]
      },
      {
       "output_type": "stream",
       "stream": "stdout",
       "text": [
        "\n",
        "bulk_transfer_roi: Success. Saved T1map_LL_old_roi in HerP2Bs07.jU1/5"
       ]
      },
      {
       "output_type": "stream",
       "stream": "stdout",
       "text": [
        "\n",
        "deleting item T1map_LL_old_roi\n",
        "bulk_transfer_roi: Success. Saved T1map_LL_old_roi in HerP2Bs07.jU1/9"
       ]
      },
      {
       "output_type": "stream",
       "stream": "stdout",
       "text": [
        "\n",
        "deleting item T1map_LL_old_roi"
       ]
      },
      {
       "output_type": "stream",
       "stream": "stdout",
       "text": [
        "\n",
        "bulk_transfer_roi: Success. Saved T1map_LL_old_roi in HerP2Bs08.jT1/5"
       ]
      },
      {
       "output_type": "stream",
       "stream": "stdout",
       "text": [
        "\n",
        "deleting item T1map_LL_old_roi"
       ]
      },
      {
       "output_type": "stream",
       "stream": "stdout",
       "text": [
        "\n",
        "bulk_transfer_roi: Success. Saved T1map_LL_old_roi in HerP2Bs08.jU1/5"
       ]
      },
      {
       "output_type": "stream",
       "stream": "stdout",
       "text": [
        "\n",
        "deleting item T1map_LL_old_roi\n",
        "bulk_transfer_roi: Success. Saved T1map_LL_old_roi in HerP2Bs08.jU1/9"
       ]
      },
      {
       "output_type": "stream",
       "stream": "stdout",
       "text": [
        "\n",
        "deleting item T1map_LL_old_roi"
       ]
      },
      {
       "output_type": "stream",
       "stream": "stdout",
       "text": [
        "\n",
        "bulk_transfer_roi: Success. Saved T1map_LL_old_roi in HerP2Bs09.kp1/5"
       ]
      },
      {
       "output_type": "stream",
       "stream": "stdout",
       "text": [
        "\n",
        "deleting item T1map_LL_old_roi"
       ]
      },
      {
       "output_type": "stream",
       "stream": "stdout",
       "text": [
        "\n",
        "bulk_transfer_roi: Success. Saved T1map_LL_old_roi in HerP2Bs09.kq1/4"
       ]
      },
      {
       "output_type": "stream",
       "stream": "stdout",
       "text": [
        "\n",
        "deleting item T1map_LL_old_roi\n",
        "bulk_transfer_roi: Success. Saved T1map_LL_old_roi in HerP2Bs09.kq1/8"
       ]
      },
      {
       "output_type": "stream",
       "stream": "stdout",
       "text": [
        "\n",
        "deleting item T1map_LL_old_roi"
       ]
      },
      {
       "output_type": "stream",
       "stream": "stdout",
       "text": [
        "\n",
        "bulk_transfer_roi: Success. Saved T1map_LL_old_roi in HerP2Bs10.kp1/5"
       ]
      },
      {
       "output_type": "stream",
       "stream": "stdout",
       "text": [
        "\n",
        "deleting item T1map_LL_old_roi"
       ]
      },
      {
       "output_type": "stream",
       "stream": "stdout",
       "text": [
        "\n",
        "bulk_transfer_roi: Success. Saved T1map_LL_old_roi in HerP2Bs10.kq1/4"
       ]
      },
      {
       "output_type": "stream",
       "stream": "stdout",
       "text": [
        "\n",
        "deleting item T1map_LL_old_roi\n",
        "bulk_transfer_roi: Success. Saved T1map_LL_old_roi in HerP2Bs10.kq1/8"
       ]
      },
      {
       "output_type": "stream",
       "stream": "stdout",
       "text": [
        "\n",
        "Firas: you really need to fix this function so it uses the masterlist\n",
        "bulk_transfer_roi: auc60 not found in study HerP2Bs01.jJ1"
       ]
      },
      {
       "output_type": "stream",
       "stream": "stdout",
       "text": [
        "\n",
        "deleting item auc60_old_roi"
       ]
      },
      {
       "output_type": "stream",
       "stream": "stdout",
       "text": [
        "\n",
        "bulk_transfer_roi: Success. Saved auc60_old_roi in HerP2Bs01.jK1/9"
       ]
      },
      {
       "output_type": "stream",
       "stream": "stdout",
       "text": [
        "\n",
        "bulk_transfer_roi: Key roblem with roi src scan for study HerP2Bs02.jJ1, maybe this study is extra"
       ]
      },
      {
       "output_type": "stream",
       "stream": "stdout",
       "text": [
        "\n",
        "bulk_transfer_roi: auc60 not found in study HerP2Bs02.jJ1\n",
        "bulk_transfer_roi: auc60 not found in study HerP2Bs02.jJ2"
       ]
      },
      {
       "output_type": "stream",
       "stream": "stdout",
       "text": [
        "\n",
        "deleting item auc60_old_roi"
       ]
      },
      {
       "output_type": "stream",
       "stream": "stdout",
       "text": [
        "\n",
        "bulk_transfer_roi: Success. Saved auc60_old_roi in HerP2Bs02.jK1/9"
       ]
      },
      {
       "output_type": "stream",
       "stream": "stdout",
       "text": [
        "\n",
        "bulk_transfer_roi: auc60 not found in study HerP2Bs03.jK1"
       ]
      },
      {
       "output_type": "stream",
       "stream": "stdout",
       "text": [
        "\n",
        "deleting item auc60_old_roi"
       ]
      },
      {
       "output_type": "stream",
       "stream": "stdout",
       "text": [
        "\n",
        "bulk_transfer_roi: Success. Saved auc60_old_roi in HerP2Bs03.jL1/9"
       ]
      },
      {
       "output_type": "stream",
       "stream": "stdout",
       "text": [
        "\n",
        "bulk_transfer_roi: auc60 not found in study HerP2Bs04.jK1"
       ]
      },
      {
       "output_type": "stream",
       "stream": "stdout",
       "text": [
        "\n",
        "deleting item auc60_old_roi"
       ]
      },
      {
       "output_type": "stream",
       "stream": "stdout",
       "text": [
        "\n",
        "bulk_transfer_roi: Success. Saved auc60_old_roi in HerP2Bs04.jL1/8"
       ]
      },
      {
       "output_type": "stream",
       "stream": "stdout",
       "text": [
        "\n",
        "bulk_transfer_roi: auc60 not found in study HerP2Bs05.jK1"
       ]
      },
      {
       "output_type": "stream",
       "stream": "stdout",
       "text": [
        "\n",
        "deleting item auc60_old_roi"
       ]
      },
      {
       "output_type": "stream",
       "stream": "stdout",
       "text": [
        "\n",
        "bulk_transfer_roi: Success. Saved auc60_old_roi in HerP2Bs05.jL1/8"
       ]
      },
      {
       "output_type": "stream",
       "stream": "stdout",
       "text": [
        "\n",
        "bulk_transfer_roi: auc60 not found in study HerP2Bs06.jT1"
       ]
      },
      {
       "output_type": "stream",
       "stream": "stdout",
       "text": [
        "\n",
        "deleting item auc60_old_roi"
       ]
      },
      {
       "output_type": "stream",
       "stream": "stdout",
       "text": [
        "\n",
        "bulk_transfer_roi: Success. Saved auc60_old_roi in HerP2Bs06.jU1/8"
       ]
      },
      {
       "output_type": "stream",
       "stream": "stdout",
       "text": [
        "\n",
        "bulk_transfer_roi: auc60 not found in study HerP2Bs07.jT1"
       ]
      },
      {
       "output_type": "stream",
       "stream": "stdout",
       "text": [
        "\n",
        "deleting item auc60_old_roi"
       ]
      },
      {
       "output_type": "stream",
       "stream": "stdout",
       "text": [
        "\n",
        "bulk_transfer_roi: Success. Saved auc60_old_roi in HerP2Bs07.jU1/8"
       ]
      },
      {
       "output_type": "stream",
       "stream": "stdout",
       "text": [
        "\n",
        "bulk_transfer_roi: auc60 not found in study HerP2Bs08.jT1"
       ]
      },
      {
       "output_type": "stream",
       "stream": "stdout",
       "text": [
        "\n",
        "deleting item auc60_old_roi"
       ]
      },
      {
       "output_type": "stream",
       "stream": "stdout",
       "text": [
        "\n",
        "bulk_transfer_roi: Success. Saved auc60_old_roi in HerP2Bs08.jU1/8"
       ]
      },
      {
       "output_type": "stream",
       "stream": "stdout",
       "text": [
        "\n",
        "bulk_transfer_roi: auc60 not found in study HerP2Bs09.kp1"
       ]
      },
      {
       "output_type": "stream",
       "stream": "stdout",
       "text": [
        "\n",
        "deleting item auc60_old_roi"
       ]
      },
      {
       "output_type": "stream",
       "stream": "stdout",
       "text": [
        "\n",
        "bulk_transfer_roi: Success. Saved auc60_old_roi in HerP2Bs09.kq1/7"
       ]
      },
      {
       "output_type": "stream",
       "stream": "stdout",
       "text": [
        "\n",
        "bulk_transfer_roi: auc60 not found in study HerP2Bs10.kp1"
       ]
      },
      {
       "output_type": "stream",
       "stream": "stdout",
       "text": [
        "\n",
        "deleting item auc60_old_roi"
       ]
      },
      {
       "output_type": "stream",
       "stream": "stdout",
       "text": [
        "\n",
        "bulk_transfer_roi: Success. Saved auc60_old_roi in HerP2Bs10.kq1/7"
       ]
      },
      {
       "output_type": "stream",
       "stream": "stdout",
       "text": [
        "\n",
        "Firas: you really need to fix this function so it uses the masterlist\n"
       ]
      }
     ],
     "prompt_number": 4
    },
    {
     "cell_type": "code",
     "collapsed": false,
     "input": [
      "fFlag = True\n",
      "label = []\n",
      "label.append('augc60')\n",
      "\n",
      "for l in label:\n",
      "    sarpy.fmoosvi.wrappers.bulk_transfer_roi(masterlist,l,roi_src_adata_label = 'roi_old', tag = '_old', forceVal = fFlag)"
     ],
     "language": "python",
     "metadata": {},
     "outputs": [
      {
       "output_type": "stream",
       "stream": "stdout",
       "text": [
        "bulk_transfer_roi: augc60 not found in study HerP2Bs01.jJ1\n",
        "deleting item augc60_old_roi"
       ]
      },
      {
       "output_type": "stream",
       "stream": "stdout",
       "text": [
        "\n",
        "bulk_transfer_roi: Success. Saved augc60_old_roi in HerP2Bs01.jK1/9"
       ]
      },
      {
       "output_type": "stream",
       "stream": "stdout",
       "text": [
        "\n",
        "bulk_transfer_roi: Key roblem with roi src scan for study HerP2Bs02.jJ1, maybe this study is extra"
       ]
      },
      {
       "output_type": "stream",
       "stream": "stdout",
       "text": [
        "\n",
        "bulk_transfer_roi: augc60 not found in study HerP2Bs02.jJ1\n",
        "bulk_transfer_roi: augc60 not found in study HerP2Bs02.jJ2"
       ]
      },
      {
       "output_type": "stream",
       "stream": "stdout",
       "text": [
        "\n",
        "deleting item augc60_old_roi"
       ]
      },
      {
       "output_type": "stream",
       "stream": "stdout",
       "text": [
        "\n",
        "bulk_transfer_roi: Success. Saved augc60_old_roi in HerP2Bs02.jK1/9"
       ]
      },
      {
       "output_type": "stream",
       "stream": "stdout",
       "text": [
        "\n",
        "bulk_transfer_roi: augc60 not found in study HerP2Bs03.jK1"
       ]
      },
      {
       "output_type": "stream",
       "stream": "stdout",
       "text": [
        "\n",
        "deleting item augc60_old_roi"
       ]
      },
      {
       "output_type": "stream",
       "stream": "stdout",
       "text": [
        "\n",
        "bulk_transfer_roi: Success. Saved augc60_old_roi in HerP2Bs03.jL1/9"
       ]
      },
      {
       "output_type": "stream",
       "stream": "stdout",
       "text": [
        "\n",
        "bulk_transfer_roi: augc60 not found in study HerP2Bs04.jK1"
       ]
      },
      {
       "output_type": "stream",
       "stream": "stdout",
       "text": [
        "\n",
        "deleting item augc60_old_roi"
       ]
      },
      {
       "output_type": "stream",
       "stream": "stdout",
       "text": [
        "\n",
        "bulk_transfer_roi: Success. Saved augc60_old_roi in HerP2Bs04.jL1/8"
       ]
      },
      {
       "output_type": "stream",
       "stream": "stdout",
       "text": [
        "\n",
        "bulk_transfer_roi: augc60 not found in study HerP2Bs05.jK1"
       ]
      },
      {
       "output_type": "stream",
       "stream": "stdout",
       "text": [
        "\n",
        "deleting item augc60_old_roi"
       ]
      },
      {
       "output_type": "stream",
       "stream": "stdout",
       "text": [
        "\n",
        "bulk_transfer_roi: Success. Saved augc60_old_roi in HerP2Bs05.jL1/8"
       ]
      },
      {
       "output_type": "stream",
       "stream": "stdout",
       "text": [
        "\n",
        "bulk_transfer_roi: augc60 not found in study HerP2Bs06.jT1"
       ]
      },
      {
       "output_type": "stream",
       "stream": "stdout",
       "text": [
        "\n",
        "deleting item augc60_old_roi"
       ]
      },
      {
       "output_type": "stream",
       "stream": "stdout",
       "text": [
        "\n",
        "bulk_transfer_roi: Success. Saved augc60_old_roi in HerP2Bs06.jU1/8"
       ]
      },
      {
       "output_type": "stream",
       "stream": "stdout",
       "text": [
        "\n",
        "bulk_transfer_roi: augc60 not found in study HerP2Bs07.jT1"
       ]
      },
      {
       "output_type": "stream",
       "stream": "stdout",
       "text": [
        "\n",
        "deleting item augc60_old_roi"
       ]
      },
      {
       "output_type": "stream",
       "stream": "stdout",
       "text": [
        "\n",
        "bulk_transfer_roi: Success. Saved augc60_old_roi in HerP2Bs07.jU1/8"
       ]
      },
      {
       "output_type": "stream",
       "stream": "stdout",
       "text": [
        "\n",
        "bulk_transfer_roi: augc60 not found in study HerP2Bs08.jT1"
       ]
      },
      {
       "output_type": "stream",
       "stream": "stdout",
       "text": [
        "\n",
        "deleting item augc60_old_roi"
       ]
      },
      {
       "output_type": "stream",
       "stream": "stdout",
       "text": [
        "\n",
        "bulk_transfer_roi: Success. Saved augc60_old_roi in HerP2Bs08.jU1/8"
       ]
      },
      {
       "output_type": "stream",
       "stream": "stdout",
       "text": [
        "\n",
        "bulk_transfer_roi: augc60 not found in study HerP2Bs09.kp1"
       ]
      },
      {
       "output_type": "stream",
       "stream": "stdout",
       "text": [
        "\n",
        "deleting item augc60_old_roi"
       ]
      },
      {
       "output_type": "stream",
       "stream": "stdout",
       "text": [
        "\n",
        "bulk_transfer_roi: Success. Saved augc60_old_roi in HerP2Bs09.kq1/7"
       ]
      },
      {
       "output_type": "stream",
       "stream": "stdout",
       "text": [
        "\n",
        "bulk_transfer_roi: augc60 not found in study HerP2Bs10.kp1"
       ]
      },
      {
       "output_type": "stream",
       "stream": "stdout",
       "text": [
        "\n",
        "deleting item augc60_old_roi"
       ]
      },
      {
       "output_type": "stream",
       "stream": "stdout",
       "text": [
        "\n",
        "bulk_transfer_roi: Success. Saved augc60_old_roi in HerP2Bs10.kq1/7"
       ]
      },
      {
       "output_type": "stream",
       "stream": "stdout",
       "text": [
        "\n",
        "Firas: you really need to fix this function so it uses the masterlist\n"
       ]
      }
     ],
     "prompt_number": 6
    },
    {
     "cell_type": "code",
     "collapsed": false,
     "input": [
      "print(datetime.now()-startTime)"
     ],
     "language": "python",
     "metadata": {},
     "outputs": [
      {
       "output_type": "stream",
       "stream": "stdout",
       "text": [
        "0:38:38.454558\n"
       ]
      }
     ],
     "prompt_number": 21
    },
    {
     "cell_type": "markdown",
     "metadata": {},
     "source": [
      "## Step 6: Averages"
     ]
    },
    {
     "cell_type": "code",
     "collapsed": false,
     "input": [
      "## T1 average\n",
      "\n",
      "data_label = ['0h-LL','-24h-LL','+24h-LL']\n",
      "adata_label = 'T1map_LL'\n",
      "roi_label = 'T1map_LL_old_roi'\n",
      "analysis_label = 'T1avg_old'\n",
      "fFlag = True\n",
      "\n",
      "for s in data_label:\n",
      "    sarpy.fmoosvi.wrappers.roi_average(masterlist,s, adata_label, roi_label,analysis_label,fFlag)"
     ],
     "language": "python",
     "metadata": {},
     "outputs": [
      {
       "output_type": "stream",
       "stream": "stdout",
       "text": [
        "deleting item T1avg_old\n",
        "T1avg_old: Success. Saved HerP2Bs01.jJ1/2\n",
        "deleting item T1avg_old"
       ]
      },
      {
       "output_type": "stream",
       "stream": "stdout",
       "text": [
        "\n",
        "T1avg_old: Success. Saved HerP2Bs02.jJ2/5\n",
        "deleting item T1avg_old"
       ]
      },
      {
       "output_type": "stream",
       "stream": "stdout",
       "text": [
        "\n",
        "T1avg_old: Success. Saved HerP2Bs03.jK1/5\n",
        "deleting item T1avg_old"
       ]
      },
      {
       "output_type": "stream",
       "stream": "stdout",
       "text": [
        "\n",
        "T1avg_old: Success. Saved HerP2Bs04.jK1/5\n",
        "deleting item T1avg_old"
       ]
      },
      {
       "output_type": "stream",
       "stream": "stdout",
       "text": [
        "\n",
        "T1avg_old: Success. Saved HerP2Bs05.jK1/5\n",
        "deleting item T1avg_old"
       ]
      },
      {
       "output_type": "stream",
       "stream": "stdout",
       "text": [
        "\n",
        "T1avg_old: Success. Saved HerP2Bs06.jT1/5\n",
        "deleting item T1avg_old"
       ]
      },
      {
       "output_type": "stream",
       "stream": "stdout",
       "text": [
        "\n",
        "T1avg_old: Success. Saved HerP2Bs07.jT1/5\n",
        "deleting item T1avg_old"
       ]
      },
      {
       "output_type": "stream",
       "stream": "stdout",
       "text": [
        "\n",
        "T1avg_old: Success. Saved HerP2Bs08.jT1/5\n",
        "deleting item T1avg_old"
       ]
      },
      {
       "output_type": "stream",
       "stream": "stdout",
       "text": [
        "\n",
        "T1avg_old: Success. Saved HerP2Bs09.kp1/5\n",
        "deleting item T1avg_old"
       ]
      },
      {
       "output_type": "stream",
       "stream": "stdout",
       "text": [
        "\n",
        "T1avg_old: Success. Saved HerP2Bs10.kp1/5\n",
        "deleting item T1avg_old"
       ]
      },
      {
       "output_type": "stream",
       "stream": "stdout",
       "text": [
        "\n",
        "T1avg_old: Success. Saved HerP2Bs01.jK1/5\n",
        "deleting item T1avg_old"
       ]
      },
      {
       "output_type": "stream",
       "stream": "stdout",
       "text": [
        "\n",
        "T1avg_old: Success. Saved HerP2Bs02.jK1/6\n",
        "deleting item T1avg_old"
       ]
      },
      {
       "output_type": "stream",
       "stream": "stdout",
       "text": [
        "\n",
        "T1avg_old: Success. Saved HerP2Bs03.jL1/6\n",
        "deleting item T1avg_old"
       ]
      },
      {
       "output_type": "stream",
       "stream": "stdout",
       "text": [
        "\n",
        "T1avg_old: Success. Saved HerP2Bs04.jL1/5\n",
        "deleting item T1avg_old"
       ]
      },
      {
       "output_type": "stream",
       "stream": "stdout",
       "text": [
        "\n",
        "T1avg_old: Success. Saved HerP2Bs05.jL1/5\n",
        "deleting item T1avg_old"
       ]
      },
      {
       "output_type": "stream",
       "stream": "stdout",
       "text": [
        "\n",
        "T1avg_old: Success. Saved HerP2Bs06.jU1/5\n",
        "deleting item T1avg_old"
       ]
      },
      {
       "output_type": "stream",
       "stream": "stdout",
       "text": [
        "\n",
        "T1avg_old: Success. Saved HerP2Bs07.jU1/5\n",
        "deleting item T1avg_old"
       ]
      },
      {
       "output_type": "stream",
       "stream": "stdout",
       "text": [
        "\n",
        "T1avg_old: Success. Saved HerP2Bs08.jU1/5\n",
        "deleting item T1avg_old"
       ]
      },
      {
       "output_type": "stream",
       "stream": "stdout",
       "text": [
        "\n",
        "T1avg_old: Success. Saved HerP2Bs09.kq1/4\n",
        "deleting item T1avg_old"
       ]
      },
      {
       "output_type": "stream",
       "stream": "stdout",
       "text": [
        "\n",
        "T1avg_old: Success. Saved HerP2Bs10.kq1/4\n",
        "T1avg_old: Not found adata T1map_LL or T1map_LL_old_roi in patient HerP2Bs01\n",
        "T1avg_old: Not found adata T1map_LL or T1map_LL_old_roi in patient HerP2Bs02\n",
        "T1avg_old: Not found adata T1map_LL or T1map_LL_old_roi in patient HerP2Bs03\n",
        "deleting item T1avg_old"
       ]
      },
      {
       "output_type": "stream",
       "stream": "stdout",
       "text": [
        "\n",
        "T1avg_old: Success. Saved HerP2Bs04.jL1/9\n",
        "deleting item T1avg_old"
       ]
      },
      {
       "output_type": "stream",
       "stream": "stdout",
       "text": [
        "\n",
        "T1avg_old: Success. Saved HerP2Bs05.jL1/9\n",
        "deleting item T1avg_old"
       ]
      },
      {
       "output_type": "stream",
       "stream": "stdout",
       "text": [
        "\n",
        "T1avg_old: Success. Saved HerP2Bs06.jU1/9\n",
        "deleting item T1avg_old"
       ]
      },
      {
       "output_type": "stream",
       "stream": "stdout",
       "text": [
        "\n",
        "T1avg_old: Success. Saved HerP2Bs07.jU1/9\n",
        "deleting item T1avg_old"
       ]
      },
      {
       "output_type": "stream",
       "stream": "stdout",
       "text": [
        "\n",
        "T1avg_old: Success. Saved HerP2Bs08.jU1/9\n",
        "deleting item T1avg_old"
       ]
      },
      {
       "output_type": "stream",
       "stream": "stdout",
       "text": [
        "\n",
        "T1avg_old: Success. Saved HerP2Bs09.kq1/8\n",
        "deleting item T1avg_old"
       ]
      },
      {
       "output_type": "stream",
       "stream": "stdout",
       "text": [
        "\n",
        "T1avg_old: Success. Saved HerP2Bs10.kq1/8\n"
       ]
      },
      {
       "output_type": "stream",
       "stream": "stderr",
       "text": [
        "/Library/Python/2.7/site-packages/scipy-0.13.0.dev_c31f167_20130514-py2.7-macosx-10.8-intel.egg/scipy/stats/stats.py:346: RuntimeWarning: invalid value encountered in double_scalars\n",
        "  return np.mean(x,axis)/factor\n"
       ]
      }
     ],
     "prompt_number": 7
    },
    {
     "cell_type": "code",
     "collapsed": false,
     "input": [
      "## AUC60\n",
      "\n",
      "data_label = ['24h-DCE']\n",
      "adata_label = 'auc60'\n",
      "roi_label = 'auc60_old_roi'\n",
      "analysis_label = 'auc60avg_old'\n",
      "fFlag = True\n",
      "\n",
      "for s in data_label:\n",
      "    sarpy.fmoosvi.wrappers.roi_average(masterlist,s, adata_label, roi_label,analysis_label,fFlag)"
     ],
     "language": "python",
     "metadata": {},
     "outputs": [
      {
       "output_type": "stream",
       "stream": "stdout",
       "text": [
        "deleting item auc60avg_old\n",
        "auc60avg_old: Success. Saved HerP2Bs01.jK1/9\n",
        "deleting item auc60avg_old"
       ]
      },
      {
       "output_type": "stream",
       "stream": "stdout",
       "text": [
        "\n",
        "auc60avg_old: Success. Saved HerP2Bs02.jK1/9\n",
        "deleting item auc60avg_old"
       ]
      },
      {
       "output_type": "stream",
       "stream": "stdout",
       "text": [
        "\n",
        "auc60avg_old: Success. Saved HerP2Bs03.jL1/9\n",
        "deleting item auc60avg_old"
       ]
      },
      {
       "output_type": "stream",
       "stream": "stdout",
       "text": [
        "\n",
        "auc60avg_old: Success. Saved HerP2Bs04.jL1/8\n",
        "deleting item auc60avg_old"
       ]
      },
      {
       "output_type": "stream",
       "stream": "stdout",
       "text": [
        "\n",
        "auc60avg_old: Success. Saved HerP2Bs05.jL1/8\n",
        "deleting item auc60avg_old"
       ]
      },
      {
       "output_type": "stream",
       "stream": "stdout",
       "text": [
        "\n",
        "auc60avg_old: Success. Saved HerP2Bs06.jU1/8\n",
        "deleting item auc60avg_old"
       ]
      },
      {
       "output_type": "stream",
       "stream": "stdout",
       "text": [
        "\n",
        "auc60avg_old: Success. Saved HerP2Bs07.jU1/8\n",
        "deleting item auc60avg_old"
       ]
      },
      {
       "output_type": "stream",
       "stream": "stdout",
       "text": [
        "\n",
        "auc60avg_old: Success. Saved HerP2Bs08.jU1/8\n",
        "deleting item auc60avg_old"
       ]
      },
      {
       "output_type": "stream",
       "stream": "stdout",
       "text": [
        "\n",
        "auc60avg_old: Success. Saved HerP2Bs09.kq1/7\n",
        "deleting item auc60avg_old"
       ]
      },
      {
       "output_type": "stream",
       "stream": "stdout",
       "text": [
        "\n",
        "auc60avg_old: Success. Saved HerP2Bs10.kq1/7\n"
       ]
      }
     ],
     "prompt_number": 8
    },
    {
     "cell_type": "code",
     "collapsed": false,
     "input": [
      "## AUGC60\n",
      "\n",
      "data_label = ['24h-DCE']\n",
      "adata_label = 'augc60'\n",
      "roi_label = 'augc60_old_roi'\n",
      "analysis_label = 'augc60avg_old'\n",
      "fFlag = True\n",
      "\n",
      "for s in data_label:\n",
      "    sarpy.fmoosvi.wrappers.roi_average(masterlist,s, adata_label, roi_label,analysis_label,fFlag)"
     ],
     "language": "python",
     "metadata": {},
     "outputs": [
      {
       "output_type": "stream",
       "stream": "stdout",
       "text": [
        "deleting item augc60avg_old\n",
        "augc60avg_old: Success. Saved HerP2Bs01.jK1/9\n",
        "deleting item augc60avg_old"
       ]
      },
      {
       "output_type": "stream",
       "stream": "stdout",
       "text": [
        "\n",
        "augc60avg_old: Success. Saved HerP2Bs02.jK1/9\n",
        "deleting item augc60avg_old"
       ]
      },
      {
       "output_type": "stream",
       "stream": "stdout",
       "text": [
        "\n",
        "augc60avg_old: Success. Saved HerP2Bs03.jL1/9\n",
        "deleting item augc60avg_old"
       ]
      },
      {
       "output_type": "stream",
       "stream": "stdout",
       "text": [
        "\n",
        "augc60avg_old: Success. Saved HerP2Bs04.jL1/8\n",
        "deleting item augc60avg_old"
       ]
      },
      {
       "output_type": "stream",
       "stream": "stdout",
       "text": [
        "\n",
        "augc60avg_old: Success. Saved HerP2Bs05.jL1/8\n",
        "deleting item augc60avg_old"
       ]
      },
      {
       "output_type": "stream",
       "stream": "stdout",
       "text": [
        "\n",
        "augc60avg_old: Success. Saved HerP2Bs06.jU1/8\n",
        "deleting item augc60avg_old"
       ]
      },
      {
       "output_type": "stream",
       "stream": "stdout",
       "text": [
        "\n",
        "augc60avg_old: Success. Saved HerP2Bs07.jU1/8\n",
        "deleting item augc60avg_old"
       ]
      },
      {
       "output_type": "stream",
       "stream": "stdout",
       "text": [
        "\n",
        "augc60avg_old: Success. Saved HerP2Bs08.jU1/8\n",
        "deleting item augc60avg_old"
       ]
      },
      {
       "output_type": "stream",
       "stream": "stdout",
       "text": [
        "\n",
        "augc60avg_old: Success. Saved HerP2Bs09.kq1/7\n",
        "deleting item augc60avg_old"
       ]
      },
      {
       "output_type": "stream",
       "stream": "stdout",
       "text": [
        "\n",
        "augc60avg_old: Success. Saved HerP2Bs10.kq1/7\n"
       ]
      }
     ],
     "prompt_number": 9
    },
    {
     "cell_type": "code",
     "collapsed": false,
     "input": [
      "## Delta T1Gd Avg\n",
      "\n",
      "data_label = ['+24h-LL']\n",
      "adata_label = 'deltaT1gd'\n",
      "roi_label = 'T1map_LL_old_roi'\n",
      "analysis_label = 'deltaT1gdavg_old'\n",
      "fFlag = True\n",
      "\n",
      "for s in data_label:\n",
      "    sarpy.fmoosvi.wrappers.roi_average(masterlist,s, adata_label, roi_label,analysis_label,fFlag)"
     ],
     "language": "python",
     "metadata": {},
     "outputs": [
      {
       "output_type": "stream",
       "stream": "stdout",
       "text": [
        "deltaT1gdavg_old: Not found adata deltaT1gd or T1map_LL_old_roi in patient HerP2Bs01\n",
        "deltaT1gdavg_old: Not found adata deltaT1gd or T1map_LL_old_roi in patient HerP2Bs02\n",
        "deltaT1gdavg_old: Not found adata deltaT1gd or T1map_LL_old_roi in patient HerP2Bs03\n",
        "deleting item deltaT1gdavg_old"
       ]
      },
      {
       "output_type": "stream",
       "stream": "stdout",
       "text": [
        "\n",
        "deltaT1gdavg_old: Success. Saved HerP2Bs04.jL1/9\n",
        "deleting item deltaT1gdavg_old"
       ]
      },
      {
       "output_type": "stream",
       "stream": "stdout",
       "text": [
        "\n",
        "deltaT1gdavg_old: Success. Saved HerP2Bs05.jL1/9\n",
        "deleting item deltaT1gdavg_old"
       ]
      },
      {
       "output_type": "stream",
       "stream": "stdout",
       "text": [
        "\n",
        "deltaT1gdavg_old: Success. Saved HerP2Bs06.jU1/9\n",
        "deleting item deltaT1gdavg_old"
       ]
      },
      {
       "output_type": "stream",
       "stream": "stdout",
       "text": [
        "\n",
        "deltaT1gdavg_old: Success. Saved HerP2Bs07.jU1/9\n",
        "deleting item deltaT1gdavg_old"
       ]
      },
      {
       "output_type": "stream",
       "stream": "stdout",
       "text": [
        "\n",
        "deltaT1gdavg_old: Success. Saved HerP2Bs08.jU1/9\n",
        "deleting item deltaT1gdavg_old"
       ]
      },
      {
       "output_type": "stream",
       "stream": "stdout",
       "text": [
        "\n",
        "deltaT1gdavg_old: Success. Saved HerP2Bs09.kq1/8\n",
        "deleting item deltaT1gdavg_old"
       ]
      },
      {
       "output_type": "stream",
       "stream": "stdout",
       "text": [
        "\n",
        "deltaT1gdavg_old: Success. Saved HerP2Bs10.kq1/8\n"
       ]
      }
     ],
     "prompt_number": 10
    },
    {
     "cell_type": "markdown",
     "metadata": {},
     "source": [
      "### Export everything as as csv"
     ]
    },
    {
     "cell_type": "code",
     "collapsed": false,
     "input": [
      "import sarpy\n",
      "csv_list = []\n",
      "\n",
      "csv_list.append(['0h-LL','T1avg_old'])\n",
      "csv_list.append(['+24h-LL','T1avg_old'])\n",
      "csv_list.append(['-24h-LL','T1avg_old'])\n",
      "csv_list.append(['-24h-LL','T1avg_old'])\n",
      "csv_list.append(['+24h-LL','deltaT1gdavg_old'])\n",
      "csv_list.append(['24h-DCE','auc60avg_old'])\n",
      "csv_list.append(['24h-DCE','augc60avg_old'])\n",
      "\n",
      "for it in csv_list:\n",
      "    \n",
      "    sarpy.io.write_csv.write_csv(masterlist,it[0],it[1])"
     ],
     "language": "python",
     "metadata": {},
     "outputs": [
      {
       "output_type": "stream",
       "stream": "stdout",
       "text": [
        "write_csv: Not found HerP2Bs01 and +24h-LL,T1avg_old\n",
        "write_csv: Not found HerP2Bs02 and +24h-LL,T1avg_old\n",
        "write_csv: Not found HerP2Bs03 and +24h-LL,T1avg_old\n",
        "write_csv: Not found HerP2Bs01 and +24h-LL,deltaT1gdavg_old"
       ]
      },
      {
       "output_type": "stream",
       "stream": "stdout",
       "text": [
        "\n",
        "write_csv: Not found HerP2Bs02 and +24h-LL,deltaT1gdavg_old\n",
        "write_csv: Not found HerP2Bs03 and +24h-LL,deltaT1gdavg_old\n"
       ]
      }
     ],
     "prompt_number": 11
    },
    {
     "cell_type": "markdown",
     "metadata": {},
     "source": [
      "# Test on an animal"
     ]
    },
    {
     "cell_type": "code",
     "collapsed": false,
     "input": [
      "animal = sarpy.Experiment('HerP2').studies[6]\n",
      "animal"
     ],
     "language": "python",
     "metadata": {},
     "outputs": [
      {
       "output_type": "pyout",
       "prompt_number": 12,
       "text": [
        "Study object: Study(\"HerP2Bs03.jL1\")\n",
        "   subject: Reinsberg, HerP2Bs03\n",
        "   scans: 01_TRIPILOT_GE_bas\n",
        "          02_RARE_T2w_coronal\n",
        "          03_RARE_T2w_ax\n",
        "          03_RARE_T2w_ax\n",
        "          ubcLL2_base_HCT_SQ\n",
        "          bSB1mapFLASH_VC\n",
        "          03_RARE_T2w_coronal_hires\n",
        "          06_FLASH2D.6sl-DCE"
       ]
      }
     ],
     "prompt_number": 12
    },
    {
     "cell_type": "code",
     "collapsed": false,
     "input": [
      "animal.find_adata_scans()['auc60'][0]"
     ],
     "language": "python",
     "metadata": {},
     "outputs": [
      {
       "output_type": "pyout",
       "prompt_number": 13,
       "text": [
        "'HerP2Bs03.jL1/9'"
       ]
      }
     ],
     "prompt_number": 13
    },
    {
     "cell_type": "code",
     "collapsed": false,
     "input": [
      "### AUC60\n",
      "\n",
      "data = sarpy.Scan('HerP2Bs03.jL1/9').adata['auc60'].data\n",
      "mask1 = sarpy.Scan('HerP2Bs03.jL1/9').adata['auc60_roi'].data\n",
      "mask2 = sarpy.Scan('HerP2Bs03.jL1/9').adata['auc60_old_roi'].data\n",
      "\n",
      "mask1[numpy.isnan(mask1)] = 0\n",
      "mask2[numpy.isnan(mask2)] = 0\n",
      "data[numpy.isnan(data)] = 0"
     ],
     "language": "python",
     "metadata": {},
     "outputs": [],
     "prompt_number": 41
    },
    {
     "cell_type": "code",
     "collapsed": false,
     "input": [
      "pylab.imshow((data*mask1 - data*mask2)[:,:,0])"
     ],
     "language": "python",
     "metadata": {},
     "outputs": [
      {
       "output_type": "pyout",
       "prompt_number": 50,
       "text": [
        "<matplotlib.image.AxesImage at 0x11efbd9d0>"
       ]
      },
      {
       "output_type": "display_data",
       "png": "[encoded data removed]"
      }
     ],
     "prompt_number": 50
    },
    {
     "cell_type": "code",
     "collapsed": false,
     "input": [
      "numpy.mean( (data*mask1).flatten())"
     ],
     "language": "python",
     "metadata": {},
     "outputs": [
      {
       "output_type": "pyout",
       "prompt_number": 47,
       "text": [
        "0.92186282021469346"
       ]
      }
     ],
     "prompt_number": 47
    },
    {
     "cell_type": "code",
     "collapsed": false,
     "input": [
      "numpy.mean( (data*mask2).flatten())"
     ],
     "language": "python",
     "metadata": {},
     "outputs": [
      {
       "output_type": "pyout",
       "prompt_number": 48,
       "text": [
        "1.0655363072140229"
       ]
      }
     ],
     "prompt_number": 48
    },
    {
     "cell_type": "code",
     "collapsed": false,
     "input": [],
     "language": "python",
     "metadata": {},
     "outputs": []
    }
   ],
   "metadata": {}
  }
 ]
}