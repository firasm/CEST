{
 "metadata": {
  "name": ""
 },
 "nbformat": 3,
 "nbformat_minor": 0,
 "worksheets": [
  {
   "cells": [
    {
     "cell_type": "markdown",
     "metadata": {},
     "source": [
      "This is a template for analyzing various animals using the new python setup.\n",
      "\n",
      "Change the name of the experiment in Step 0, and then again the names of the labels in Step 4. This template requires that the masterlist be already created using generate_masterlist.py"
     ]
    },
    {
     "cell_type": "markdown",
     "metadata": {},
     "source": [
      "#### Set imports and define the experiment name"
     ]
    },
    {
     "cell_type": "code",
     "collapsed": false,
     "input": [
      "import sarpy\n",
      "import sarpy.fmoosvi.wrappers\n",
      "from datetime import datetime\n",
      "from collections import defaultdict\n",
      "import os\n",
      "import sys\n",
      "import errno\n",
      "reload(sarpy)\n",
      "\n",
      "startTime = datetime.now()"
     ],
     "language": "python",
     "metadata": {},
     "outputs": [],
     "prompt_number": 2
    },
    {
     "cell_type": "markdown",
     "metadata": {},
     "source": [
      "## Step 0 - Specify experiment name"
     ]
    },
    {
     "cell_type": "code",
     "collapsed": false,
     "input": [
      "masterlist = 'HerS7'\n",
      "path = os.path.join(os.path.expanduser('~'),'sdata',masterlist,'rois')\n",
      "\n",
      "# See if the rois directory exists, if it doesn't create it\n",
      "try:\n",
      "    os.makedirs(path)\n",
      "except OSError as exception:\n",
      "    if exception.errno != errno.EEXIST:\n",
      "        raise"
     ],
     "language": "python",
     "metadata": {},
     "outputs": [],
     "prompt_number": 3
    },
    {
     "cell_type": "markdown",
     "metadata": {},
     "source": [
      "## Step 1: Export ROIs"
     ]
    },
    {
     "cell_type": "code",
     "collapsed": false,
     "input": [
      "fFlag = False\n",
      "\n",
      "smart_label = []\n",
      "smart_label.append(['0h-roi','0h-',fFlag])\n",
      "smart_label.append(['48h-roi','48h-',fFlag])\n",
      "\n",
      "\n",
      "# Scaled version\n",
      "\n",
      "mod = 5\n",
      "\n",
      "for sm in smart_label:\n",
      "    sarpy.io.generate_rois.generate_rois(\n",
      "                      masterlist,sm[0],'roi','export', path, std_modifier = mod,rescale=True, forceVal=sm[2])\n",
      "    \n",
      "# Unscaled version\n",
      "\n",
      "#for sm in smart_label:\n",
      "#    sarpy.io.generate_rois.generate_rois(\n",
      "#                      masterlist,sm[0],'roi','export', path, forceVal=sm[2])"
     ],
     "language": "python",
     "metadata": {},
     "outputs": [
      {
       "output_type": "stream",
       "stream": "stdout",
       "text": [
        "Nifti images were processed in /Users/fmoosvi/sdata/HerS7/rois\n",
        "\n",
        " \n",
        " ** WARNING ** \n",
        " \n",
        " Not found: HerS7Ss01 and 48h-roi \n",
        "\n",
        "\n",
        " \n",
        " ** WARNING ** \n",
        " \n",
        " Not found: HerS7Ss03 and 48h-roi \n"
       ]
      },
      {
       "output_type": "stream",
       "stream": "stdout",
       "text": [
        "\n",
        "Nifti images were processed in /Users/fmoosvi/sdata/HerS7/rois"
       ]
      },
      {
       "output_type": "stream",
       "stream": "stdout",
       "text": [
        "\n"
       ]
      }
     ],
     "prompt_number": 4
    },
    {
     "cell_type": "markdown",
     "metadata": {},
     "source": [
      "Now go ahead and draw ROIs using ImageJ. When you're done, just rename the files with an a appended at the very end. For e.g., the source file _HerS2Mo01_10.nii_ will turn into _HerS2Mo01_10a.nii_ once the ROI is drawn"
     ]
    },
    {
     "cell_type": "markdown",
     "metadata": {},
     "source": [
      "## Step 2: Import the drawn ROIs back in as adata, update the bounding boxes"
     ]
    },
    {
     "cell_type": "code",
     "collapsed": false,
     "input": [
      "for sm in smart_label:\n",
      "    sarpy.io.generate_rois.generate_rois(masterlist,sm[0],'roi','import', path, sm[2])\n",
      "    sarpy.io.update_bbox.update_bbox(masterlist,sm[0],'roi',sm[1])\n",
      "\n",
      "sarpy.io.update_bbox.update_bbox(masterlist,smart_label[1][0],'roi')"
     ],
     "language": "python",
     "metadata": {},
     "outputs": [
      {
       "output_type": "stream",
       "stream": "stdout",
       "text": [
        "roi: adata already exists HerS7Ss01.fy1/4 \n",
        "roi: adata already exists HerS7Ss02.fA1/3 \n",
        "roi: adata already exists HerS7Ss03.fy1/6 \n",
        "roi: adata already exists HerS7Ss03day2.fA1/3 \n",
        "roi: adata already exists HerS7Ss04.fA1/4 \n",
        "roi: adata already exists HerS7Ss05.fA2/5 \n",
        "roi: adata already exists HerS7Ss06.fA1/4 "
       ]
      },
      {
       "output_type": "stream",
       "stream": "stdout",
       "text": [
        "\n",
        "roi: adata already exists HerS7Ss07.fA2/4 \n",
        "Nifti images were processed in /Users/fmoosvi/sdata/HerS7/rois\n",
        "update_bbox: Success, updated file is: HerS7_updated.json"
       ]
      },
      {
       "output_type": "stream",
       "stream": "stdout",
       "text": [
        "\n",
        "\n",
        " \n",
        " ** WARNING ** \n",
        " \n",
        " Not found: HerS7Ss01 and 48h-roi \n",
        "\n",
        "roi: adata already exists HerS7Ss02.fy1/4 \n",
        "\n",
        " \n",
        " ** WARNING ** \n",
        " \n",
        " Not found: HerS7Ss03 and 48h-roi \n",
        "\n",
        "roi: adata already exists HerS7Ss03day2.fA1/3 \n",
        "roi: adata already exists HerS7Ss04.fy1/4 \n",
        "roi: adata already exists HerS7Ss05.fC2/7 \n",
        "roi: adata already exists HerS7Ss06.fC1/4 "
       ]
      },
      {
       "output_type": "stream",
       "stream": "stdout",
       "text": [
        "\n",
        "roi: adata already exists HerS7Ss07.fC1/4 \n",
        "Nifti images were processed in /Users/fmoosvi/sdata/HerS7/rois\n",
        "update_bbox: Could not find HerS7Ss01, roi \n",
        "\n",
        "update_bbox: Could not find HerS7Ss03, roi \n",
        "\n",
        "update_bbox: Success, updated file is: HerS7_updated.json"
       ]
      },
      {
       "output_type": "stream",
       "stream": "stdout",
       "text": [
        "\n",
        "update_bbox: Could not find HerS7Ss01, roi \n",
        "\n",
        "update_bbox: Could not find HerS7Ss03, roi \n",
        "\n",
        "update_bbox: Success, updated file is: HerS7_updated.json"
       ]
      },
      {
       "output_type": "stream",
       "stream": "stdout",
       "text": [
        "\n"
       ]
      }
     ],
     "prompt_number": 5
    },
    {
     "cell_type": "markdown",
     "metadata": {},
     "source": [
      "## Step 3: Perform basic analyses (no ROIs required)"
     ]
    },
    {
     "cell_type": "code",
     "collapsed": false,
     "input": [
      "fFlag = True # Set whether or not the scan need to be overwritten, default False\n",
      "\n",
      "analyze_list = []\n",
      "\n",
      "analyze_list.append(['0h-dce1','auc60',fFlag])\n",
      "analyze_list.append(['48h-dce1','auc60',fFlag])\n",
      "\n",
      "analyze_list.append(['0h-dce1','vtc',fFlag])\n",
      "analyze_list.append(['48h-dce1','vtc',fFlag])\n",
      "\n",
      "\n",
      "for items in analyze_list:\n",
      "                                              \n",
      "    if len(items) == 3:\n",
      "                  \n",
      "        sarpy.fmoosvi.wrappers.bulk_analyze(masterlist, items[0], items[1], forceVal = items[2])\n",
      "\n",
      "    else:\n",
      "        sarpy.fmoosvi.wrappers.bulk_analyze(masterlist, items[0], items[1], items[2], forceVal = items[3])"
     ],
     "language": "python",
     "metadata": {},
     "outputs": [
      {
       "output_type": "stream",
       "stream": "stdout",
       "text": [
        "deleting item auc60\n",
        "deleting item auc60"
       ]
      },
      {
       "output_type": "stream",
       "stream": "stdout",
       "text": [
        "\n",
        "deleting item auc60"
       ]
      },
      {
       "output_type": "stream",
       "stream": "stdout",
       "text": [
        "\n",
        "deleting item auc60"
       ]
      },
      {
       "output_type": "stream",
       "stream": "stdout",
       "text": [
        "\n",
        "deleting item auc60"
       ]
      },
      {
       "output_type": "stream",
       "stream": "stdout",
       "text": [
        "\n",
        "deleting item auc60"
       ]
      },
      {
       "output_type": "stream",
       "stream": "stdout",
       "text": [
        "\n",
        "deleting item auc60"
       ]
      },
      {
       "output_type": "stream",
       "stream": "stdout",
       "text": [
        "\n",
        "deleting item auc60"
       ]
      },
      {
       "output_type": "stream",
       "stream": "stdout",
       "text": [
        "\n",
        "auc60: Not found HerS7Ss01 and 48h-dce1"
       ]
      },
      {
       "output_type": "stream",
       "stream": "stdout",
       "text": [
        "\n",
        "deleting item auc60"
       ]
      },
      {
       "output_type": "stream",
       "stream": "stdout",
       "text": [
        "\n",
        "auc60: Not found HerS7Ss03 and 48h-dce1"
       ]
      },
      {
       "output_type": "stream",
       "stream": "stdout",
       "text": [
        "\n",
        "deleting item auc60"
       ]
      },
      {
       "output_type": "stream",
       "stream": "stdout",
       "text": [
        "\n",
        "deleting item auc60"
       ]
      },
      {
       "output_type": "stream",
       "stream": "stdout",
       "text": [
        "\n",
        "deleting item auc60"
       ]
      },
      {
       "output_type": "stream",
       "stream": "stdout",
       "text": [
        "\n",
        "deleting item auc60"
       ]
      },
      {
       "output_type": "stream",
       "stream": "stdout",
       "text": [
        "\n",
        "deleting item auc60"
       ]
      },
      {
       "output_type": "stream",
       "stream": "stdout",
       "text": [
        "\n",
        "deleting item vtc"
       ]
      },
      {
       "output_type": "stream",
       "stream": "stdout",
       "text": [
        "\n",
        "deleting item vtc"
       ]
      },
      {
       "output_type": "stream",
       "stream": "stdout",
       "text": [
        "\n",
        "deleting item vtc"
       ]
      },
      {
       "output_type": "stream",
       "stream": "stdout",
       "text": [
        "\n",
        "deleting item vtc"
       ]
      },
      {
       "output_type": "stream",
       "stream": "stdout",
       "text": [
        "\n",
        "deleting item vtc"
       ]
      },
      {
       "output_type": "stream",
       "stream": "stdout",
       "text": [
        "\n",
        "deleting item vtc"
       ]
      },
      {
       "output_type": "stream",
       "stream": "stdout",
       "text": [
        "\n",
        "deleting item vtc"
       ]
      },
      {
       "output_type": "stream",
       "stream": "stdout",
       "text": [
        "\n",
        "deleting item vtc"
       ]
      },
      {
       "output_type": "stream",
       "stream": "stdout",
       "text": [
        "\n",
        "vtc: Not found HerS7Ss01 and 48h-dce1"
       ]
      },
      {
       "output_type": "stream",
       "stream": "stdout",
       "text": [
        "\n",
        "deleting item vtc"
       ]
      },
      {
       "output_type": "stream",
       "stream": "stdout",
       "text": [
        "\n",
        "vtc: Not found HerS7Ss03 and 48h-dce1"
       ]
      },
      {
       "output_type": "stream",
       "stream": "stdout",
       "text": [
        "\n",
        "deleting item vtc"
       ]
      },
      {
       "output_type": "stream",
       "stream": "stdout",
       "text": [
        "\n",
        "deleting item vtc"
       ]
      },
      {
       "output_type": "stream",
       "stream": "stdout",
       "text": [
        "\n",
        "deleting item vtc"
       ]
      },
      {
       "output_type": "stream",
       "stream": "stdout",
       "text": [
        "\n",
        "deleting item vtc"
       ]
      },
      {
       "output_type": "stream",
       "stream": "stdout",
       "text": [
        "\n",
        "deleting item vtc"
       ]
      },
      {
       "output_type": "stream",
       "stream": "stdout",
       "text": [
        "\n"
       ]
      }
     ],
     "prompt_number": 7
    },
    {
     "cell_type": "markdown",
     "metadata": {},
     "source": [
      "## Step 4: Transfer ROIs to other scans via (resampling onto)"
     ]
    },
    {
     "cell_type": "code",
     "collapsed": false,
     "input": [
      "fFlag = True\n",
      "reload(sarpy.fmoosvi.wrappers)\n",
      "label = []\n",
      "label.append('auc60')\n",
      "\n",
      "for l in label:\n",
      "    sarpy.fmoosvi.wrappers.bulk_transfer_roi(masterlist,l, forceVal = fFlag)"
     ],
     "language": "python",
     "metadata": {},
     "outputs": [
      {
       "output_type": "stream",
       "stream": "stderr",
       "text": [
        "WARNING:sarpy.io.BRUKER_classes:visu_pars file /Users/fmoosvi/bdata/stefan/nmr/HerS7Ss02.fA1/27/pdata/2 not found\n",
        "\n"
       ]
      },
      {
       "output_type": "stream",
       "stream": "stderr",
       "text": [
        "WARNING:sarpy.io.Adata_classes:Need precisely one parameter file *json, found: []\n"
       ]
      },
      {
       "output_type": "stream",
       "stream": "stderr",
       "text": [
        "WARNING:sarpy.io.Adata_classes:Could not load AData\n"
       ]
      },
      {
       "output_type": "stream",
       "stream": "stderr",
       "text": [
        "WARNING:sarpy.io.Adata_classes:Need precisely one parameter file *json, found: []\n"
       ]
      },
      {
       "output_type": "stream",
       "stream": "stderr",
       "text": [
        "WARNING:sarpy.io.Adata_classes:Could not load AData\n"
       ]
      },
      {
       "output_type": "stream",
       "stream": "stderr",
       "text": [
        "WARNING:sarpy.io.Adata_classes:Need precisely one parameter file *json, found: []\n"
       ]
      },
      {
       "output_type": "stream",
       "stream": "stderr",
       "text": [
        "WARNING:sarpy.io.Adata_classes:Could not load AData\n"
       ]
      },
      {
       "output_type": "stream",
       "stream": "stderr",
       "text": [
        "WARNING:sarpy.io.Adata_classes:Need precisely one parameter file *json, found: []\n"
       ]
      },
      {
       "output_type": "stream",
       "stream": "stderr",
       "text": [
        "WARNING:sarpy.io.Adata_classes:Could not load AData\n"
       ]
      },
      {
       "output_type": "stream",
       "stream": "stderr",
       "text": [
        "WARNING:sarpy.io.Adata_classes:Need precisely one parameter file *json, found: []\n"
       ]
      },
      {
       "output_type": "stream",
       "stream": "stderr",
       "text": [
        "WARNING:sarpy.io.Adata_classes:Could not load AData\n"
       ]
      },
      {
       "output_type": "stream",
       "stream": "stderr",
       "text": [
        "WARNING:sarpy.io.Adata_classes:Need precisely one parameter file *json, found: []\n"
       ]
      },
      {
       "output_type": "stream",
       "stream": "stderr",
       "text": [
        "WARNING:sarpy.io.Adata_classes:Could not load AData\n"
       ]
      },
      {
       "output_type": "stream",
       "stream": "stderr",
       "text": [
        "WARNING:sarpy.io.Adata_classes:Need precisely one parameter file *json, found: []\n"
       ]
      },
      {
       "output_type": "stream",
       "stream": "stderr",
       "text": [
        "WARNING:sarpy.io.Adata_classes:Could not load AData\n"
       ]
      },
      {
       "output_type": "stream",
       "stream": "stderr",
       "text": [
        "WARNING:sarpy.io.Adata_classes:Need precisely one parameter file *json, found: []\n"
       ]
      },
      {
       "output_type": "stream",
       "stream": "stderr",
       "text": [
        "WARNING:sarpy.io.Adata_classes:Could not load AData\n"
       ]
      },
      {
       "output_type": "stream",
       "stream": "stderr",
       "text": [
        "WARNING:sarpy.io.Adata_classes:Need precisely one parameter file *json, found: []\n"
       ]
      },
      {
       "output_type": "stream",
       "stream": "stderr",
       "text": [
        "WARNING:sarpy.io.Adata_classes:Could not load AData\n"
       ]
      },
      {
       "output_type": "stream",
       "stream": "stderr",
       "text": [
        "WARNING:sarpy.io.Adata_classes:Need precisely one parameter file *json, found: []\n"
       ]
      },
      {
       "output_type": "stream",
       "stream": "stderr",
       "text": [
        "WARNING:sarpy.io.Adata_classes:Could not load AData\n"
       ]
      },
      {
       "output_type": "stream",
       "stream": "stderr",
       "text": [
        "WARNING:sarpy.io.Adata_classes:Need precisely one parameter file *json, found: []\n"
       ]
      },
      {
       "output_type": "stream",
       "stream": "stderr",
       "text": [
        "WARNING:sarpy.io.Adata_classes:Could not load AData\n"
       ]
      },
      {
       "output_type": "stream",
       "stream": "stderr",
       "text": [
        "WARNING:sarpy.io.Adata_classes:Need precisely one parameter file *json, found: []\n"
       ]
      },
      {
       "output_type": "stream",
       "stream": "stderr",
       "text": [
        "WARNING:sarpy.io.Adata_classes:Could not load AData\n"
       ]
      },
      {
       "output_type": "stream",
       "stream": "stderr",
       "text": [
        "WARNING:sarpy.io.Adata_classes:Need precisely one parameter file *json, found: []\n"
       ]
      },
      {
       "output_type": "stream",
       "stream": "stderr",
       "text": [
        "WARNING:sarpy.io.Adata_classes:Could not load AData\n"
       ]
      },
      {
       "output_type": "stream",
       "stream": "stderr",
       "text": [
        "WARNING:sarpy.io.Adata_classes:Need precisely one parameter file *json, found: []\n"
       ]
      },
      {
       "output_type": "stream",
       "stream": "stderr",
       "text": [
        "WARNING:sarpy.io.Adata_classes:Could not load AData\n"
       ]
      },
      {
       "output_type": "stream",
       "stream": "stderr",
       "text": [
        "WARNING:sarpy.io.Adata_classes:Need precisely one parameter file *json, found: []\n"
       ]
      },
      {
       "output_type": "stream",
       "stream": "stderr",
       "text": [
        "WARNING:sarpy.io.Adata_classes:Could not load AData\n"
       ]
      },
      {
       "output_type": "stream",
       "stream": "stderr",
       "text": [
        "WARNING:sarpy.io.Adata_classes:Need precisely one parameter file *json, found: []\n"
       ]
      },
      {
       "output_type": "stream",
       "stream": "stderr",
       "text": [
        "WARNING:sarpy.io.Adata_classes:Could not load AData\n"
       ]
      },
      {
       "output_type": "stream",
       "stream": "stderr",
       "text": [
        "WARNING:sarpy.io.Adata_classes:Need precisely one parameter file *json, found: []\n"
       ]
      },
      {
       "output_type": "stream",
       "stream": "stderr",
       "text": [
        "WARNING:sarpy.io.Adata_classes:Could not load AData\n"
       ]
      },
      {
       "output_type": "stream",
       "stream": "stderr",
       "text": [
        "WARNING:sarpy.io.Adata_classes:Need precisely one parameter file *json, found: []\n"
       ]
      },
      {
       "output_type": "stream",
       "stream": "stderr",
       "text": [
        "WARNING:sarpy.io.Adata_classes:Could not load AData\n"
       ]
      },
      {
       "output_type": "stream",
       "stream": "stderr",
       "text": [
        "WARNING:sarpy.io.Adata_classes:Need precisely one parameter file *json, found: []\n"
       ]
      },
      {
       "output_type": "stream",
       "stream": "stderr",
       "text": [
        "WARNING:sarpy.io.Adata_classes:Could not load AData\n"
       ]
      },
      {
       "output_type": "stream",
       "stream": "stderr",
       "text": [
        "WARNING:sarpy.io.Adata_classes:Need precisely one parameter file *json, found: []\n"
       ]
      },
      {
       "output_type": "stream",
       "stream": "stderr",
       "text": [
        "WARNING:sarpy.io.Adata_classes:Could not load AData\n"
       ]
      },
      {
       "output_type": "stream",
       "stream": "stderr",
       "text": [
        "WARNING:sarpy.io.Adata_classes:Need precisely one parameter file *json, found: []\n"
       ]
      },
      {
       "output_type": "stream",
       "stream": "stderr",
       "text": [
        "WARNING:sarpy.io.Adata_classes:Could not load AData\n"
       ]
      },
      {
       "output_type": "stream",
       "stream": "stderr",
       "text": [
        "WARNING:sarpy.io.Adata_classes:Need precisely one parameter file *json, found: []\n"
       ]
      },
      {
       "output_type": "stream",
       "stream": "stderr",
       "text": [
        "WARNING:sarpy.io.Adata_classes:Could not load AData\n"
       ]
      },
      {
       "output_type": "stream",
       "stream": "stderr",
       "text": [
        "WARNING:sarpy.io.Adata_classes:Need precisely one parameter file *json, found: []\n"
       ]
      },
      {
       "output_type": "stream",
       "stream": "stderr",
       "text": [
        "WARNING:sarpy.io.Adata_classes:Could not load AData\n"
       ]
      },
      {
       "output_type": "stream",
       "stream": "stderr",
       "text": [
        "WARNING:sarpy.io.Adata_classes:Need precisely one parameter file *json, found: []\n"
       ]
      },
      {
       "output_type": "stream",
       "stream": "stderr",
       "text": [
        "WARNING:sarpy.io.Adata_classes:Could not load AData\n"
       ]
      },
      {
       "output_type": "stream",
       "stream": "stderr",
       "text": [
        "WARNING:sarpy.io.Adata_classes:Need precisely one parameter file *json, found: []\n"
       ]
      },
      {
       "output_type": "stream",
       "stream": "stderr",
       "text": [
        "WARNING:sarpy.io.Adata_classes:Could not load AData\n"
       ]
      },
      {
       "output_type": "stream",
       "stream": "stderr",
       "text": [
        "WARNING:sarpy.io.Adata_classes:Need precisely one parameter file *json, found: []\n"
       ]
      },
      {
       "output_type": "stream",
       "stream": "stderr",
       "text": [
        "WARNING:sarpy.io.Adata_classes:Could not load AData\n"
       ]
      },
      {
       "output_type": "stream",
       "stream": "stderr",
       "text": [
        "WARNING:sarpy.io.Adata_classes:Need precisely one parameter file *json, found: []\n"
       ]
      },
      {
       "output_type": "stream",
       "stream": "stderr",
       "text": [
        "WARNING:sarpy.io.Adata_classes:Could not load AData\n"
       ]
      },
      {
       "output_type": "stream",
       "stream": "stderr",
       "text": [
        "WARNING:sarpy.io.Adata_classes:Need precisely one parameter file *json, found: []\n"
       ]
      },
      {
       "output_type": "stream",
       "stream": "stderr",
       "text": [
        "WARNING:sarpy.io.Adata_classes:Could not load AData\n"
       ]
      },
      {
       "output_type": "stream",
       "stream": "stderr",
       "text": [
        "WARNING:sarpy.io.Adata_classes:Need precisely one parameter file *json, found: []\n"
       ]
      },
      {
       "output_type": "stream",
       "stream": "stderr",
       "text": [
        "WARNING:sarpy.io.Adata_classes:Could not load AData\n"
       ]
      },
      {
       "output_type": "stream",
       "stream": "stderr",
       "text": [
        "WARNING:sarpy.io.Adata_classes:Need precisely one parameter file *json, found: []\n"
       ]
      },
      {
       "output_type": "stream",
       "stream": "stderr",
       "text": [
        "WARNING:sarpy.io.Adata_classes:Could not load AData\n"
       ]
      },
      {
       "output_type": "stream",
       "stream": "stderr",
       "text": [
        "WARNING:sarpy.io.Adata_classes:Need precisely one parameter file *json, found: []\n"
       ]
      },
      {
       "output_type": "stream",
       "stream": "stderr",
       "text": [
        "WARNING:sarpy.io.Adata_classes:Could not load AData\n"
       ]
      },
      {
       "output_type": "stream",
       "stream": "stderr",
       "text": [
        "WARNING:sarpy.io.Adata_classes:Need precisely one parameter file *json, found: []\n"
       ]
      },
      {
       "output_type": "stream",
       "stream": "stderr",
       "text": [
        "WARNING:sarpy.io.Adata_classes:Could not load AData\n"
       ]
      },
      {
       "output_type": "stream",
       "stream": "stderr",
       "text": [
        "WARNING:sarpy.io.Adata_classes:Need precisely one parameter file *json, found: []\n"
       ]
      },
      {
       "output_type": "stream",
       "stream": "stderr",
       "text": [
        "WARNING:sarpy.io.Adata_classes:Could not load AData\n"
       ]
      },
      {
       "output_type": "stream",
       "stream": "stderr",
       "text": [
        "WARNING:sarpy.io.Adata_classes:Need precisely one parameter file *json, found: []\n"
       ]
      },
      {
       "output_type": "stream",
       "stream": "stderr",
       "text": [
        "WARNING:sarpy.io.Adata_classes:Could not load AData\n"
       ]
      },
      {
       "output_type": "stream",
       "stream": "stderr",
       "text": [
        "WARNING:sarpy.io.Adata_classes:Need precisely one parameter file *json, found: []\n"
       ]
      },
      {
       "output_type": "stream",
       "stream": "stderr",
       "text": [
        "WARNING:sarpy.io.Adata_classes:Could not load AData\n"
       ]
      },
      {
       "output_type": "stream",
       "stream": "stderr",
       "text": [
        "WARNING:sarpy.io.Adata_classes:Need precisely one parameter file *json, found: []\n"
       ]
      },
      {
       "output_type": "stream",
       "stream": "stderr",
       "text": [
        "WARNING:sarpy.io.Adata_classes:Could not load AData\n"
       ]
      },
      {
       "output_type": "stream",
       "stream": "stderr",
       "text": [
        "WARNING:sarpy.io.Adata_classes:Need precisely one parameter file *json, found: []\n"
       ]
      },
      {
       "output_type": "stream",
       "stream": "stderr",
       "text": [
        "WARNING:sarpy.io.Adata_classes:Could not load AData\n"
       ]
      },
      {
       "output_type": "stream",
       "stream": "stderr",
       "text": [
        "WARNING:sarpy.io.Adata_classes:Need precisely one parameter file *json, found: []\n"
       ]
      },
      {
       "output_type": "stream",
       "stream": "stderr",
       "text": [
        "WARNING:sarpy.io.Adata_classes:Could not load AData\n"
       ]
      },
      {
       "output_type": "stream",
       "stream": "stderr",
       "text": [
        "WARNING:sarpy.io.Adata_classes:Need precisely one parameter file *json, found: []\n"
       ]
      },
      {
       "output_type": "stream",
       "stream": "stderr",
       "text": [
        "WARNING:sarpy.io.Adata_classes:Could not load AData\n"
       ]
      },
      {
       "output_type": "stream",
       "stream": "stderr",
       "text": [
        "WARNING:sarpy.io.Adata_classes:Need precisely one parameter file *json, found: []\n"
       ]
      },
      {
       "output_type": "stream",
       "stream": "stderr",
       "text": [
        "WARNING:sarpy.io.Adata_classes:Could not load AData\n"
       ]
      },
      {
       "output_type": "stream",
       "stream": "stderr",
       "text": [
        "WARNING:sarpy.io.Adata_classes:Need precisely one parameter file *json, found: []\n"
       ]
      },
      {
       "output_type": "stream",
       "stream": "stderr",
       "text": [
        "WARNING:sarpy.io.Adata_classes:Could not load AData\n"
       ]
      },
      {
       "output_type": "stream",
       "stream": "stderr",
       "text": [
        "WARNING:sarpy.io.Adata_classes:Need precisely one parameter file *json, found: []\n"
       ]
      },
      {
       "output_type": "stream",
       "stream": "stderr",
       "text": [
        "WARNING:sarpy.io.Adata_classes:Could not load AData\n"
       ]
      },
      {
       "output_type": "stream",
       "stream": "stderr",
       "text": [
        "WARNING:sarpy.io.Adata_classes:Need precisely one parameter file *json, found: []\n"
       ]
      },
      {
       "output_type": "stream",
       "stream": "stderr",
       "text": [
        "WARNING:sarpy.io.Adata_classes:Could not load AData\n"
       ]
      },
      {
       "output_type": "stream",
       "stream": "stderr",
       "text": [
        "WARNING:sarpy.io.Adata_classes:Need precisely one parameter file *json, found: []\n"
       ]
      },
      {
       "output_type": "stream",
       "stream": "stderr",
       "text": [
        "WARNING:sarpy.io.Adata_classes:Could not load AData\n"
       ]
      },
      {
       "output_type": "stream",
       "stream": "stderr",
       "text": [
        "WARNING:sarpy.io.Adata_classes:Need precisely one parameter file *json, found: []\n"
       ]
      },
      {
       "output_type": "stream",
       "stream": "stderr",
       "text": [
        "WARNING:sarpy.io.Adata_classes:Could not load AData\n"
       ]
      },
      {
       "output_type": "stream",
       "stream": "stderr",
       "text": [
        "WARNING:sarpy.io.Adata_classes:Need precisely one parameter file *json, found: []\n"
       ]
      },
      {
       "output_type": "stream",
       "stream": "stderr",
       "text": [
        "WARNING:sarpy.io.Adata_classes:Could not load AData\n"
       ]
      },
      {
       "output_type": "stream",
       "stream": "stderr",
       "text": [
        "WARNING:sarpy.io.Adata_classes:Need precisely one parameter file *json, found: []\n"
       ]
      },
      {
       "output_type": "stream",
       "stream": "stderr",
       "text": [
        "WARNING:sarpy.io.Adata_classes:Could not load AData\n"
       ]
      },
      {
       "output_type": "stream",
       "stream": "stderr",
       "text": [
        "WARNING:sarpy.io.Adata_classes:Need precisely one parameter file *json, found: []\n"
       ]
      },
      {
       "output_type": "stream",
       "stream": "stderr",
       "text": [
        "WARNING:sarpy.io.Adata_classes:Could not load AData\n"
       ]
      },
      {
       "output_type": "stream",
       "stream": "stderr",
       "text": [
        "WARNING:sarpy.io.Adata_classes:Need precisely one parameter file *json, found: []\n"
       ]
      },
      {
       "output_type": "stream",
       "stream": "stderr",
       "text": [
        "WARNING:sarpy.io.Adata_classes:Could not load AData\n"
       ]
      },
      {
       "output_type": "stream",
       "stream": "stderr",
       "text": [
        "WARNING:sarpy.io.Adata_classes:Need precisely one parameter file *json, found: []\n"
       ]
      },
      {
       "output_type": "stream",
       "stream": "stderr",
       "text": [
        "WARNING:sarpy.io.Adata_classes:Could not load AData\n"
       ]
      },
      {
       "output_type": "stream",
       "stream": "stderr",
       "text": [
        "WARNING:sarpy.io.Adata_classes:Need precisely one parameter file *json, found: []\n"
       ]
      },
      {
       "output_type": "stream",
       "stream": "stderr",
       "text": [
        "WARNING:sarpy.io.Adata_classes:Could not load AData\n"
       ]
      },
      {
       "output_type": "stream",
       "stream": "stderr",
       "text": [
        "WARNING:sarpy.io.Adata_classes:Need precisely one parameter file *json, found: []\n"
       ]
      },
      {
       "output_type": "stream",
       "stream": "stderr",
       "text": [
        "WARNING:sarpy.io.Adata_classes:Could not load AData\n"
       ]
      },
      {
       "output_type": "stream",
       "stream": "stderr",
       "text": [
        "WARNING:sarpy.io.Adata_classes:Need precisely one parameter file *json, found: []\n"
       ]
      },
      {
       "output_type": "stream",
       "stream": "stderr",
       "text": [
        "WARNING:sarpy.io.Adata_classes:Could not load AData\n"
       ]
      },
      {
       "output_type": "stream",
       "stream": "stderr",
       "text": [
        "WARNING:sarpy.io.Adata_classes:Need precisely one parameter file *json, found: []\n"
       ]
      },
      {
       "output_type": "stream",
       "stream": "stderr",
       "text": [
        "WARNING:sarpy.io.Adata_classes:Could not load AData\n"
       ]
      },
      {
       "output_type": "stream",
       "stream": "stderr",
       "text": [
        "WARNING:sarpy.io.Adata_classes:Need precisely one parameter file *json, found: []\n"
       ]
      },
      {
       "output_type": "stream",
       "stream": "stderr",
       "text": [
        "WARNING:sarpy.io.Adata_classes:Could not load AData\n"
       ]
      },
      {
       "output_type": "stream",
       "stream": "stderr",
       "text": [
        "WARNING:sarpy.io.Adata_classes:Need precisely one parameter file *json, found: []\n"
       ]
      },
      {
       "output_type": "stream",
       "stream": "stderr",
       "text": [
        "WARNING:sarpy.io.Adata_classes:Could not load AData\n"
       ]
      },
      {
       "output_type": "stream",
       "stream": "stderr",
       "text": [
        "WARNING:sarpy.io.Adata_classes:Need precisely one parameter file *json, found: []\n"
       ]
      },
      {
       "output_type": "stream",
       "stream": "stderr",
       "text": [
        "WARNING:sarpy.io.Adata_classes:Could not load AData\n"
       ]
      },
      {
       "output_type": "stream",
       "stream": "stderr",
       "text": [
        "WARNING:sarpy.io.Adata_classes:Need precisely one parameter file *json, found: []\n"
       ]
      },
      {
       "output_type": "stream",
       "stream": "stderr",
       "text": [
        "WARNING:sarpy.io.Adata_classes:Could not load AData\n"
       ]
      },
      {
       "output_type": "stream",
       "stream": "stderr",
       "text": [
        "WARNING:sarpy.io.Adata_classes:Need precisely one parameter file *json, found: []\n"
       ]
      },
      {
       "output_type": "stream",
       "stream": "stderr",
       "text": [
        "WARNING:sarpy.io.Adata_classes:Could not load AData\n"
       ]
      },
      {
       "output_type": "stream",
       "stream": "stderr",
       "text": [
        "WARNING:sarpy.io.Adata_classes:Need precisely one parameter file *json, found: []\n"
       ]
      },
      {
       "output_type": "stream",
       "stream": "stderr",
       "text": [
        "WARNING:sarpy.io.Adata_classes:Could not load AData\n"
       ]
      },
      {
       "output_type": "stream",
       "stream": "stderr",
       "text": [
        "WARNING:sarpy.io.Adata_classes:Need precisely one parameter file *json, found: []\n"
       ]
      },
      {
       "output_type": "stream",
       "stream": "stderr",
       "text": [
        "WARNING:sarpy.io.Adata_classes:Could not load AData\n"
       ]
      },
      {
       "output_type": "stream",
       "stream": "stderr",
       "text": [
        "WARNING:sarpy.io.Adata_classes:Need precisely one parameter file *json, found: []\n"
       ]
      },
      {
       "output_type": "stream",
       "stream": "stderr",
       "text": [
        "WARNING:sarpy.io.Adata_classes:Could not load AData\n"
       ]
      },
      {
       "output_type": "stream",
       "stream": "stderr",
       "text": [
        "WARNING:sarpy.io.Adata_classes:Need precisely one parameter file *json, found: []\n"
       ]
      },
      {
       "output_type": "stream",
       "stream": "stderr",
       "text": [
        "WARNING:sarpy.io.Adata_classes:Could not load AData\n"
       ]
      },
      {
       "output_type": "stream",
       "stream": "stderr",
       "text": [
        "WARNING:sarpy.io.Adata_classes:Need precisely one parameter file *json, found: []\n"
       ]
      },
      {
       "output_type": "stream",
       "stream": "stderr",
       "text": [
        "WARNING:sarpy.io.Adata_classes:Could not load AData\n"
       ]
      },
      {
       "output_type": "stream",
       "stream": "stderr",
       "text": [
        "WARNING:sarpy.io.Adata_classes:Need precisely one parameter file *json, found: []\n"
       ]
      },
      {
       "output_type": "stream",
       "stream": "stderr",
       "text": [
        "WARNING:sarpy.io.Adata_classes:Could not load AData\n"
       ]
      },
      {
       "output_type": "stream",
       "stream": "stderr",
       "text": [
        "WARNING:sarpy.io.Adata_classes:Need precisely one parameter file *json, found: []\n"
       ]
      },
      {
       "output_type": "stream",
       "stream": "stderr",
       "text": [
        "WARNING:sarpy.io.Adata_classes:Could not load AData\n"
       ]
      },
      {
       "output_type": "stream",
       "stream": "stderr",
       "text": [
        "WARNING:sarpy.io.Adata_classes:Need precisely one parameter file *json, found: []\n"
       ]
      },
      {
       "output_type": "stream",
       "stream": "stderr",
       "text": [
        "WARNING:sarpy.io.Adata_classes:Could not load AData\n"
       ]
      },
      {
       "output_type": "stream",
       "stream": "stderr",
       "text": [
        "WARNING:sarpy.io.Adata_classes:Need precisely one parameter file *json, found: []\n"
       ]
      },
      {
       "output_type": "stream",
       "stream": "stderr",
       "text": [
        "WARNING:sarpy.io.Adata_classes:Could not load AData\n"
       ]
      },
      {
       "output_type": "stream",
       "stream": "stderr",
       "text": [
        "WARNING:sarpy.io.Adata_classes:Need precisely one parameter file *json, found: []\n"
       ]
      },
      {
       "output_type": "stream",
       "stream": "stderr",
       "text": [
        "WARNING:sarpy.io.Adata_classes:Could not load AData\n"
       ]
      },
      {
       "output_type": "stream",
       "stream": "stderr",
       "text": [
        "WARNING:sarpy.io.Adata_classes:Need precisely one parameter file *json, found: []\n"
       ]
      },
      {
       "output_type": "stream",
       "stream": "stderr",
       "text": [
        "WARNING:sarpy.io.Adata_classes:Could not load AData\n"
       ]
      },
      {
       "output_type": "stream",
       "stream": "stderr",
       "text": [
        "WARNING:sarpy.io.Adata_classes:Need precisely one parameter file *json, found: []\n"
       ]
      },
      {
       "output_type": "stream",
       "stream": "stderr",
       "text": [
        "WARNING:sarpy.io.Adata_classes:Could not load AData\n"
       ]
      },
      {
       "output_type": "stream",
       "stream": "stderr",
       "text": [
        "WARNING:sarpy.io.Adata_classes:Need precisely one parameter file *json, found: []\n"
       ]
      },
      {
       "output_type": "stream",
       "stream": "stderr",
       "text": [
        "WARNING:sarpy.io.Adata_classes:Could not load AData\n"
       ]
      },
      {
       "output_type": "stream",
       "stream": "stderr",
       "text": [
        "WARNING:sarpy.io.Adata_classes:Need precisely one parameter file *json, found: []\n"
       ]
      },
      {
       "output_type": "stream",
       "stream": "stderr",
       "text": [
        "WARNING:sarpy.io.Adata_classes:Could not load AData\n"
       ]
      },
      {
       "output_type": "stream",
       "stream": "stderr",
       "text": [
        "WARNING:sarpy.io.Adata_classes:Need precisely one parameter file *json, found: []\n"
       ]
      },
      {
       "output_type": "stream",
       "stream": "stderr",
       "text": [
        "WARNING:sarpy.io.Adata_classes:Could not load AData\n"
       ]
      },
      {
       "output_type": "stream",
       "stream": "stderr",
       "text": [
        "WARNING:sarpy.io.Adata_classes:Need precisely one parameter file *json, found: []\n"
       ]
      },
      {
       "output_type": "stream",
       "stream": "stderr",
       "text": [
        "WARNING:sarpy.io.Adata_classes:Could not load AData\n"
       ]
      },
      {
       "output_type": "stream",
       "stream": "stderr",
       "text": [
        "WARNING:sarpy.io.Adata_classes:Need precisely one parameter file *json, found: []\n"
       ]
      },
      {
       "output_type": "stream",
       "stream": "stderr",
       "text": [
        "WARNING:sarpy.io.Adata_classes:Could not load AData\n"
       ]
      },
      {
       "output_type": "stream",
       "stream": "stderr",
       "text": [
        "WARNING:sarpy.io.Adata_classes:Need precisely one parameter file *json, found: []\n"
       ]
      },
      {
       "output_type": "stream",
       "stream": "stderr",
       "text": [
        "WARNING:sarpy.io.Adata_classes:Could not load AData\n"
       ]
      },
      {
       "output_type": "stream",
       "stream": "stderr",
       "text": [
        "WARNING:sarpy.io.Adata_classes:Need precisely one parameter file *json, found: []\n"
       ]
      },
      {
       "output_type": "stream",
       "stream": "stderr",
       "text": [
        "WARNING:sarpy.io.Adata_classes:Could not load AData\n"
       ]
      },
      {
       "output_type": "stream",
       "stream": "stderr",
       "text": [
        "WARNING:sarpy.io.Adata_classes:Need precisely one parameter file *json, found: []\n"
       ]
      },
      {
       "output_type": "stream",
       "stream": "stderr",
       "text": [
        "WARNING:sarpy.io.Adata_classes:Could not load AData\n"
       ]
      },
      {
       "output_type": "stream",
       "stream": "stderr",
       "text": [
        "WARNING:sarpy.io.Adata_classes:Need precisely one parameter file *json, found: []\n"
       ]
      },
      {
       "output_type": "stream",
       "stream": "stderr",
       "text": [
        "WARNING:sarpy.io.Adata_classes:Could not load AData\n"
       ]
      },
      {
       "output_type": "stream",
       "stream": "stderr",
       "text": [
        "WARNING:sarpy.io.Adata_classes:Need precisely one parameter file *json, found: []\n"
       ]
      },
      {
       "output_type": "stream",
       "stream": "stderr",
       "text": [
        "WARNING:sarpy.io.Adata_classes:Could not load AData\n"
       ]
      },
      {
       "output_type": "stream",
       "stream": "stderr",
       "text": [
        "WARNING:sarpy.io.Adata_classes:Need precisely one parameter file *json, found: []\n"
       ]
      },
      {
       "output_type": "stream",
       "stream": "stderr",
       "text": [
        "WARNING:sarpy.io.Adata_classes:Could not load AData\n"
       ]
      },
      {
       "output_type": "stream",
       "stream": "stderr",
       "text": [
        "WARNING:sarpy.io.Adata_classes:Need precisely one parameter file *json, found: []\n"
       ]
      },
      {
       "output_type": "stream",
       "stream": "stderr",
       "text": [
        "WARNING:sarpy.io.Adata_classes:Could not load AData\n"
       ]
      },
      {
       "output_type": "stream",
       "stream": "stderr",
       "text": [
        "WARNING:sarpy.io.Adata_classes:Need precisely one parameter file *json, found: []\n"
       ]
      },
      {
       "output_type": "stream",
       "stream": "stderr",
       "text": [
        "WARNING:sarpy.io.Adata_classes:Could not load AData\n"
       ]
      },
      {
       "output_type": "stream",
       "stream": "stderr",
       "text": [
        "WARNING:sarpy.io.Adata_classes:Need precisely one parameter file *json, found: []\n"
       ]
      },
      {
       "output_type": "stream",
       "stream": "stderr",
       "text": [
        "WARNING:sarpy.io.Adata_classes:Could not load AData\n"
       ]
      },
      {
       "output_type": "stream",
       "stream": "stderr",
       "text": [
        "WARNING:sarpy.io.Adata_classes:Need precisely one parameter file *json, found: []\n"
       ]
      },
      {
       "output_type": "stream",
       "stream": "stderr",
       "text": [
        "WARNING:sarpy.io.Adata_classes:Could not load AData\n"
       ]
      },
      {
       "output_type": "stream",
       "stream": "stderr",
       "text": [
        "WARNING:sarpy.io.Adata_classes:Need precisely one parameter file *json, found: []\n"
       ]
      },
      {
       "output_type": "stream",
       "stream": "stderr",
       "text": [
        "WARNING:sarpy.io.Adata_classes:Could not load AData\n"
       ]
      },
      {
       "output_type": "stream",
       "stream": "stderr",
       "text": [
        "WARNING:sarpy.io.Adata_classes:Need precisely one parameter file *json, found: []\n"
       ]
      },
      {
       "output_type": "stream",
       "stream": "stderr",
       "text": [
        "WARNING:sarpy.io.Adata_classes:Could not load AData\n"
       ]
      },
      {
       "output_type": "stream",
       "stream": "stderr",
       "text": [
        "WARNING:sarpy.io.Adata_classes:Need precisely one parameter file *json, found: []\n"
       ]
      },
      {
       "output_type": "stream",
       "stream": "stderr",
       "text": [
        "WARNING:sarpy.io.Adata_classes:Could not load AData\n"
       ]
      },
      {
       "output_type": "stream",
       "stream": "stderr",
       "text": [
        "WARNING:sarpy.io.Adata_classes:Need precisely one parameter file *json, found: []\n"
       ]
      },
      {
       "output_type": "stream",
       "stream": "stderr",
       "text": [
        "WARNING:sarpy.io.Adata_classes:Could not load AData\n"
       ]
      },
      {
       "output_type": "stream",
       "stream": "stderr",
       "text": [
        "WARNING:sarpy.io.Adata_classes:Need precisely one parameter file *json, found: []\n"
       ]
      },
      {
       "output_type": "stream",
       "stream": "stderr",
       "text": [
        "WARNING:sarpy.io.Adata_classes:Could not load AData\n"
       ]
      },
      {
       "output_type": "stream",
       "stream": "stderr",
       "text": [
        "WARNING:sarpy.io.Adata_classes:Need precisely one parameter file *json, found: []\n"
       ]
      },
      {
       "output_type": "stream",
       "stream": "stderr",
       "text": [
        "WARNING:sarpy.io.Adata_classes:Could not load AData\n"
       ]
      },
      {
       "output_type": "stream",
       "stream": "stderr",
       "text": [
        "WARNING:sarpy.io.Adata_classes:Need precisely one parameter file *json, found: []\n"
       ]
      },
      {
       "output_type": "stream",
       "stream": "stderr",
       "text": [
        "WARNING:sarpy.io.Adata_classes:Could not load AData\n"
       ]
      },
      {
       "output_type": "stream",
       "stream": "stderr",
       "text": [
        "WARNING:sarpy.io.Adata_classes:Need precisely one parameter file *json, found: []\n"
       ]
      },
      {
       "output_type": "stream",
       "stream": "stderr",
       "text": [
        "WARNING:sarpy.io.Adata_classes:Could not load AData\n"
       ]
      },
      {
       "output_type": "stream",
       "stream": "stderr",
       "text": [
        "WARNING:sarpy.io.Adata_classes:Need precisely one parameter file *json, found: []\n"
       ]
      },
      {
       "output_type": "stream",
       "stream": "stderr",
       "text": [
        "WARNING:sarpy.io.Adata_classes:Could not load AData\n"
       ]
      },
      {
       "output_type": "stream",
       "stream": "stderr",
       "text": [
        "WARNING:sarpy.io.Adata_classes:Need precisely one parameter file *json, found: []\n"
       ]
      },
      {
       "output_type": "stream",
       "stream": "stderr",
       "text": [
        "WARNING:sarpy.io.Adata_classes:Could not load AData\n"
       ]
      },
      {
       "output_type": "stream",
       "stream": "stderr",
       "text": [
        "WARNING:sarpy.io.Adata_classes:Need precisely one parameter file *json, found: []\n"
       ]
      },
      {
       "output_type": "stream",
       "stream": "stderr",
       "text": [
        "WARNING:sarpy.io.Adata_classes:Could not load AData\n"
       ]
      },
      {
       "output_type": "stream",
       "stream": "stderr",
       "text": [
        "WARNING:sarpy.io.Adata_classes:Need precisely one parameter file *json, found: []\n"
       ]
      },
      {
       "output_type": "stream",
       "stream": "stderr",
       "text": [
        "WARNING:sarpy.io.Adata_classes:Could not load AData\n"
       ]
      },
      {
       "output_type": "stream",
       "stream": "stderr",
       "text": [
        "WARNING:sarpy.io.Adata_classes:Need precisely one parameter file *json, found: []\n"
       ]
      },
      {
       "output_type": "stream",
       "stream": "stderr",
       "text": [
        "WARNING:sarpy.io.Adata_classes:Could not load AData\n"
       ]
      },
      {
       "output_type": "stream",
       "stream": "stderr",
       "text": [
        "WARNING:sarpy.io.Adata_classes:Need precisely one parameter file *json, found: []\n"
       ]
      },
      {
       "output_type": "stream",
       "stream": "stderr",
       "text": [
        "WARNING:sarpy.io.Adata_classes:Could not load AData\n"
       ]
      },
      {
       "output_type": "stream",
       "stream": "stderr",
       "text": [
        "WARNING:sarpy.io.Adata_classes:Need precisely one parameter file *json, found: []\n"
       ]
      },
      {
       "output_type": "stream",
       "stream": "stderr",
       "text": [
        "WARNING:sarpy.io.Adata_classes:Could not load AData\n"
       ]
      },
      {
       "output_type": "stream",
       "stream": "stderr",
       "text": [
        "WARNING:sarpy.io.Adata_classes:Need precisely one parameter file *json, found: []\n"
       ]
      },
      {
       "output_type": "stream",
       "stream": "stderr",
       "text": [
        "WARNING:sarpy.io.Adata_classes:Could not load AData\n"
       ]
      },
      {
       "output_type": "stream",
       "stream": "stderr",
       "text": [
        "WARNING:sarpy.io.Adata_classes:Need precisely one parameter file *json, found: []\n"
       ]
      },
      {
       "output_type": "stream",
       "stream": "stderr",
       "text": [
        "WARNING:sarpy.io.Adata_classes:Could not load AData\n"
       ]
      },
      {
       "output_type": "stream",
       "stream": "stderr",
       "text": [
        "WARNING:sarpy.io.Adata_classes:Need precisely one parameter file *json, found: []\n"
       ]
      },
      {
       "output_type": "stream",
       "stream": "stderr",
       "text": [
        "WARNING:sarpy.io.Adata_classes:Could not load AData\n"
       ]
      },
      {
       "output_type": "stream",
       "stream": "stderr",
       "text": [
        "WARNING:sarpy.io.Adata_classes:Need precisely one parameter file *json, found: []\n"
       ]
      },
      {
       "output_type": "stream",
       "stream": "stderr",
       "text": [
        "WARNING:sarpy.io.Adata_classes:Could not load AData\n"
       ]
      },
      {
       "output_type": "stream",
       "stream": "stderr",
       "text": [
        "WARNING:sarpy.io.Adata_classes:Need precisely one parameter file *json, found: []\n"
       ]
      },
      {
       "output_type": "stream",
       "stream": "stderr",
       "text": [
        "WARNING:sarpy.io.Adata_classes:Could not load AData\n"
       ]
      },
      {
       "output_type": "stream",
       "stream": "stderr",
       "text": [
        "WARNING:sarpy.io.Adata_classes:Need precisely one parameter file *json, found: []\n"
       ]
      },
      {
       "output_type": "stream",
       "stream": "stderr",
       "text": [
        "WARNING:sarpy.io.Adata_classes:Could not load AData\n"
       ]
      },
      {
       "output_type": "stream",
       "stream": "stderr",
       "text": [
        "WARNING:sarpy.io.Adata_classes:Need precisely one parameter file *json, found: []\n"
       ]
      },
      {
       "output_type": "stream",
       "stream": "stderr",
       "text": [
        "WARNING:sarpy.io.Adata_classes:Could not load AData\n"
       ]
      },
      {
       "output_type": "stream",
       "stream": "stderr",
       "text": [
        "WARNING:sarpy.io.Adata_classes:Need precisely one parameter file *json, found: []\n"
       ]
      },
      {
       "output_type": "stream",
       "stream": "stderr",
       "text": [
        "WARNING:sarpy.io.Adata_classes:Could not load AData\n"
       ]
      },
      {
       "output_type": "stream",
       "stream": "stderr",
       "text": [
        "WARNING:sarpy.io.Adata_classes:Need precisely one parameter file *json, found: []\n"
       ]
      },
      {
       "output_type": "stream",
       "stream": "stderr",
       "text": [
        "WARNING:sarpy.io.Adata_classes:Could not load AData\n"
       ]
      },
      {
       "output_type": "stream",
       "stream": "stderr",
       "text": [
        "WARNING:sarpy.io.Adata_classes:Need precisely one parameter file *json, found: []\n"
       ]
      },
      {
       "output_type": "stream",
       "stream": "stderr",
       "text": [
        "WARNING:sarpy.io.Adata_classes:Could not load AData\n"
       ]
      },
      {
       "output_type": "stream",
       "stream": "stderr",
       "text": [
        "WARNING:sarpy.io.Adata_classes:Need precisely one parameter file *json, found: []\n"
       ]
      },
      {
       "output_type": "stream",
       "stream": "stderr",
       "text": [
        "WARNING:sarpy.io.Adata_classes:Could not load AData\n"
       ]
      },
      {
       "output_type": "stream",
       "stream": "stderr",
       "text": [
        "WARNING:sarpy.io.Adata_classes:Need precisely one parameter file *json, found: []\n"
       ]
      },
      {
       "output_type": "stream",
       "stream": "stderr",
       "text": [
        "WARNING:sarpy.io.Adata_classes:Could not load AData\n"
       ]
      },
      {
       "output_type": "stream",
       "stream": "stderr",
       "text": [
        "WARNING:sarpy.io.Adata_classes:Need precisely one parameter file *json, found: []\n"
       ]
      },
      {
       "output_type": "stream",
       "stream": "stderr",
       "text": [
        "WARNING:sarpy.io.Adata_classes:Could not load AData\n"
       ]
      },
      {
       "output_type": "stream",
       "stream": "stderr",
       "text": [
        "WARNING:sarpy.io.Adata_classes:Need precisely one parameter file *json, found: []\n"
       ]
      },
      {
       "output_type": "stream",
       "stream": "stderr",
       "text": [
        "WARNING:sarpy.io.Adata_classes:Could not load AData\n"
       ]
      },
      {
       "output_type": "stream",
       "stream": "stderr",
       "text": [
        "WARNING:sarpy.io.Adata_classes:Need precisely one parameter file *json, found: []\n"
       ]
      },
      {
       "output_type": "stream",
       "stream": "stderr",
       "text": [
        "WARNING:sarpy.io.Adata_classes:Could not load AData\n"
       ]
      },
      {
       "output_type": "stream",
       "stream": "stderr",
       "text": [
        "WARNING:sarpy.io.Adata_classes:Need precisely one parameter file *json, found: []\n"
       ]
      },
      {
       "output_type": "stream",
       "stream": "stderr",
       "text": [
        "WARNING:sarpy.io.Adata_classes:Could not load AData\n"
       ]
      },
      {
       "output_type": "stream",
       "stream": "stderr",
       "text": [
        "WARNING:sarpy.io.Adata_classes:Need precisely one parameter file *json, found: []\n"
       ]
      },
      {
       "output_type": "stream",
       "stream": "stderr",
       "text": [
        "WARNING:sarpy.io.Adata_classes:Could not load AData\n"
       ]
      },
      {
       "output_type": "stream",
       "stream": "stderr",
       "text": [
        "WARNING:sarpy.io.Adata_classes:Need precisely one parameter file *json, found: []\n"
       ]
      },
      {
       "output_type": "stream",
       "stream": "stderr",
       "text": [
        "WARNING:sarpy.io.Adata_classes:Could not load AData\n"
       ]
      },
      {
       "output_type": "stream",
       "stream": "stderr",
       "text": [
        "WARNING:sarpy.io.Adata_classes:Need precisely one parameter file *json, found: []\n"
       ]
      },
      {
       "output_type": "stream",
       "stream": "stderr",
       "text": [
        "WARNING:sarpy.io.Adata_classes:Could not load AData\n"
       ]
      },
      {
       "output_type": "stream",
       "stream": "stderr",
       "text": [
        "WARNING:sarpy.io.Adata_classes:Need precisely one parameter file *json, found: []\n"
       ]
      },
      {
       "output_type": "stream",
       "stream": "stderr",
       "text": [
        "WARNING:sarpy.io.Adata_classes:Could not load AData\n"
       ]
      },
      {
       "output_type": "stream",
       "stream": "stderr",
       "text": [
        "WARNING:sarpy.io.Adata_classes:Need precisely one parameter file *json, found: []\n"
       ]
      },
      {
       "output_type": "stream",
       "stream": "stderr",
       "text": [
        "WARNING:sarpy.io.Adata_classes:Could not load AData\n"
       ]
      },
      {
       "output_type": "stream",
       "stream": "stderr",
       "text": [
        "WARNING:sarpy.io.Adata_classes:Need precisely one parameter file *json, found: []\n"
       ]
      },
      {
       "output_type": "stream",
       "stream": "stderr",
       "text": [
        "WARNING:sarpy.io.Adata_classes:Could not load AData\n"
       ]
      },
      {
       "output_type": "stream",
       "stream": "stderr",
       "text": [
        "WARNING:sarpy.io.Adata_classes:Need precisely one parameter file *json, found: []\n"
       ]
      },
      {
       "output_type": "stream",
       "stream": "stderr",
       "text": [
        "WARNING:sarpy.io.Adata_classes:Could not load AData\n"
       ]
      },
      {
       "output_type": "stream",
       "stream": "stderr",
       "text": [
        "WARNING:sarpy.io.Adata_classes:Need precisely one parameter file *json, found: []\n"
       ]
      },
      {
       "output_type": "stream",
       "stream": "stderr",
       "text": [
        "WARNING:sarpy.io.Adata_classes:Could not load AData\n"
       ]
      },
      {
       "output_type": "stream",
       "stream": "stderr",
       "text": [
        "WARNING:sarpy.io.Adata_classes:Need precisely one parameter file *json, found: []\n"
       ]
      },
      {
       "output_type": "stream",
       "stream": "stderr",
       "text": [
        "WARNING:sarpy.io.Adata_classes:Could not load AData\n"
       ]
      },
      {
       "output_type": "stream",
       "stream": "stderr",
       "text": [
        "WARNING:sarpy.io.Adata_classes:Need precisely one parameter file *json, found: []\n"
       ]
      },
      {
       "output_type": "stream",
       "stream": "stderr",
       "text": [
        "WARNING:sarpy.io.Adata_classes:Could not load AData\n"
       ]
      },
      {
       "output_type": "stream",
       "stream": "stderr",
       "text": [
        "WARNING:sarpy.io.Adata_classes:Need precisely one parameter file *json, found: []\n"
       ]
      },
      {
       "output_type": "stream",
       "stream": "stderr",
       "text": [
        "WARNING:sarpy.io.Adata_classes:Could not load AData\n"
       ]
      },
      {
       "output_type": "stream",
       "stream": "stderr",
       "text": [
        "WARNING:sarpy.io.Adata_classes:Need precisely one parameter file *json, found: []\n"
       ]
      },
      {
       "output_type": "stream",
       "stream": "stderr",
       "text": [
        "WARNING:sarpy.io.Adata_classes:Could not load AData\n"
       ]
      },
      {
       "output_type": "stream",
       "stream": "stderr",
       "text": [
        "WARNING:sarpy.io.Adata_classes:Need precisely one parameter file *json, found: []\n"
       ]
      },
      {
       "output_type": "stream",
       "stream": "stderr",
       "text": [
        "WARNING:sarpy.io.Adata_classes:Could not load AData\n"
       ]
      },
      {
       "output_type": "stream",
       "stream": "stderr",
       "text": [
        "WARNING:sarpy.io.Adata_classes:Need precisely one parameter file *json, found: []\n"
       ]
      },
      {
       "output_type": "stream",
       "stream": "stderr",
       "text": [
        "WARNING:sarpy.io.Adata_classes:Could not load AData\n"
       ]
      },
      {
       "output_type": "stream",
       "stream": "stderr",
       "text": [
        "WARNING:sarpy.io.Adata_classes:Need precisely one parameter file *json, found: []\n"
       ]
      },
      {
       "output_type": "stream",
       "stream": "stderr",
       "text": [
        "WARNING:sarpy.io.Adata_classes:Could not load AData\n"
       ]
      },
      {
       "output_type": "stream",
       "stream": "stderr",
       "text": [
        "WARNING:sarpy.io.Adata_classes:Need precisely one parameter file *json, found: []\n"
       ]
      },
      {
       "output_type": "stream",
       "stream": "stderr",
       "text": [
        "WARNING:sarpy.io.Adata_classes:Could not load AData\n"
       ]
      },
      {
       "output_type": "stream",
       "stream": "stderr",
       "text": [
        "WARNING:sarpy.io.Adata_classes:Need precisely one parameter file *json, found: []\n"
       ]
      },
      {
       "output_type": "stream",
       "stream": "stderr",
       "text": [
        "WARNING:sarpy.io.Adata_classes:Could not load AData\n"
       ]
      },
      {
       "output_type": "stream",
       "stream": "stderr",
       "text": [
        "WARNING:sarpy.io.Adata_classes:Need precisely one parameter file *json, found: []\n"
       ]
      },
      {
       "output_type": "stream",
       "stream": "stderr",
       "text": [
        "WARNING:sarpy.io.Adata_classes:Could not load AData\n"
       ]
      },
      {
       "output_type": "stream",
       "stream": "stderr",
       "text": [
        "WARNING:sarpy.io.Adata_classes:Need precisely one parameter file *json, found: []\n"
       ]
      },
      {
       "output_type": "stream",
       "stream": "stderr",
       "text": [
        "WARNING:sarpy.io.Adata_classes:Could not load AData\n"
       ]
      },
      {
       "output_type": "stream",
       "stream": "stderr",
       "text": [
        "WARNING:sarpy.io.Adata_classes:Need precisely one parameter file *json, found: []\n"
       ]
      },
      {
       "output_type": "stream",
       "stream": "stderr",
       "text": [
        "WARNING:sarpy.io.Adata_classes:Could not load AData\n"
       ]
      },
      {
       "output_type": "stream",
       "stream": "stderr",
       "text": [
        "WARNING:sarpy.io.Adata_classes:Need precisely one parameter file *json, found: []\n"
       ]
      },
      {
       "output_type": "stream",
       "stream": "stderr",
       "text": [
        "WARNING:sarpy.io.Adata_classes:Could not load AData\n"
       ]
      },
      {
       "output_type": "stream",
       "stream": "stderr",
       "text": [
        "WARNING:sarpy.io.Adata_classes:Need precisely one parameter file *json, found: []\n"
       ]
      },
      {
       "output_type": "stream",
       "stream": "stderr",
       "text": [
        "WARNING:sarpy.io.Adata_classes:Could not load AData\n"
       ]
      },
      {
       "output_type": "stream",
       "stream": "stderr",
       "text": [
        "WARNING:sarpy.io.Adata_classes:Need precisely one parameter file *json, found: []\n"
       ]
      },
      {
       "output_type": "stream",
       "stream": "stderr",
       "text": [
        "WARNING:sarpy.io.Adata_classes:Could not load AData\n"
       ]
      },
      {
       "output_type": "stream",
       "stream": "stderr",
       "text": [
        "WARNING:sarpy.io.Adata_classes:Need precisely one parameter file *json, found: []\n"
       ]
      },
      {
       "output_type": "stream",
       "stream": "stderr",
       "text": [
        "WARNING:sarpy.io.Adata_classes:Could not load AData\n"
       ]
      },
      {
       "output_type": "stream",
       "stream": "stderr",
       "text": [
        "WARNING:sarpy.io.Adata_classes:Need precisely one parameter file *json, found: []\n"
       ]
      },
      {
       "output_type": "stream",
       "stream": "stderr",
       "text": [
        "WARNING:sarpy.io.Adata_classes:Could not load AData\n"
       ]
      },
      {
       "output_type": "stream",
       "stream": "stderr",
       "text": [
        "WARNING:sarpy.io.Adata_classes:Need precisely one parameter file *json, found: []\n"
       ]
      },
      {
       "output_type": "stream",
       "stream": "stderr",
       "text": [
        "WARNING:sarpy.io.Adata_classes:Could not load AData\n"
       ]
      },
      {
       "output_type": "stream",
       "stream": "stderr",
       "text": [
        "WARNING:sarpy.io.Adata_classes:Need precisely one parameter file *json, found: []\n"
       ]
      },
      {
       "output_type": "stream",
       "stream": "stderr",
       "text": [
        "WARNING:sarpy.io.Adata_classes:Could not load AData\n"
       ]
      },
      {
       "output_type": "stream",
       "stream": "stderr",
       "text": [
        "WARNING:sarpy.io.Adata_classes:Need precisely one parameter file *json, found: []\n"
       ]
      },
      {
       "output_type": "stream",
       "stream": "stderr",
       "text": [
        "WARNING:sarpy.io.Adata_classes:Could not load AData\n"
       ]
      },
      {
       "output_type": "stream",
       "stream": "stderr",
       "text": [
        "WARNING:sarpy.io.Adata_classes:Need precisely one parameter file *json, found: []\n"
       ]
      },
      {
       "output_type": "stream",
       "stream": "stderr",
       "text": [
        "WARNING:sarpy.io.Adata_classes:Could not load AData\n"
       ]
      },
      {
       "output_type": "stream",
       "stream": "stderr",
       "text": [
        "WARNING:sarpy.io.Adata_classes:Need precisely one parameter file *json, found: []\n"
       ]
      },
      {
       "output_type": "stream",
       "stream": "stderr",
       "text": [
        "WARNING:sarpy.io.Adata_classes:Could not load AData\n"
       ]
      },
      {
       "output_type": "stream",
       "stream": "stderr",
       "text": [
        "WARNING:sarpy.io.Adata_classes:Need precisely one parameter file *json, found: []\n"
       ]
      },
      {
       "output_type": "stream",
       "stream": "stderr",
       "text": [
        "WARNING:sarpy.io.Adata_classes:Could not load AData\n"
       ]
      },
      {
       "output_type": "stream",
       "stream": "stderr",
       "text": [
        "WARNING:sarpy.io.Adata_classes:Need precisely one parameter file *json, found: []\n"
       ]
      },
      {
       "output_type": "stream",
       "stream": "stderr",
       "text": [
        "WARNING:sarpy.io.Adata_classes:Could not load AData\n"
       ]
      },
      {
       "output_type": "stream",
       "stream": "stderr",
       "text": [
        "WARNING:sarpy.io.Adata_classes:Need precisely one parameter file *json, found: []\n"
       ]
      },
      {
       "output_type": "stream",
       "stream": "stderr",
       "text": [
        "WARNING:sarpy.io.Adata_classes:Could not load AData\n"
       ]
      },
      {
       "output_type": "stream",
       "stream": "stderr",
       "text": [
        "WARNING:sarpy.io.Adata_classes:Need precisely one parameter file *json, found: []\n"
       ]
      },
      {
       "output_type": "stream",
       "stream": "stderr",
       "text": [
        "WARNING:sarpy.io.Adata_classes:Could not load AData\n"
       ]
      },
      {
       "output_type": "stream",
       "stream": "stderr",
       "text": [
        "WARNING:sarpy.io.Adata_classes:Need precisely one parameter file *json, found: []\n"
       ]
      },
      {
       "output_type": "stream",
       "stream": "stderr",
       "text": [
        "WARNING:sarpy.io.Adata_classes:Could not load AData\n"
       ]
      },
      {
       "output_type": "stream",
       "stream": "stderr",
       "text": [
        "WARNING:sarpy.io.Adata_classes:Need precisely one parameter file *json, found: []\n"
       ]
      },
      {
       "output_type": "stream",
       "stream": "stderr",
       "text": [
        "WARNING:sarpy.io.Adata_classes:Could not load AData\n"
       ]
      },
      {
       "output_type": "stream",
       "stream": "stderr",
       "text": [
        "WARNING:sarpy.io.Adata_classes:Need precisely one parameter file *json, found: []\n"
       ]
      },
      {
       "output_type": "stream",
       "stream": "stderr",
       "text": [
        "WARNING:sarpy.io.Adata_classes:Could not load AData\n"
       ]
      },
      {
       "output_type": "stream",
       "stream": "stderr",
       "text": [
        "WARNING:sarpy.io.Adata_classes:Need precisely one parameter file *json, found: []\n"
       ]
      },
      {
       "output_type": "stream",
       "stream": "stderr",
       "text": [
        "WARNING:sarpy.io.Adata_classes:Could not load AData\n"
       ]
      },
      {
       "output_type": "stream",
       "stream": "stderr",
       "text": [
        "WARNING:sarpy.io.Adata_classes:Need precisely one parameter file *json, found: []\n"
       ]
      },
      {
       "output_type": "stream",
       "stream": "stderr",
       "text": [
        "WARNING:sarpy.io.Adata_classes:Could not load AData\n"
       ]
      },
      {
       "output_type": "stream",
       "stream": "stderr",
       "text": [
        "WARNING:sarpy.io.Adata_classes:Need precisely one parameter file *json, found: []\n"
       ]
      },
      {
       "output_type": "stream",
       "stream": "stderr",
       "text": [
        "WARNING:sarpy.io.Adata_classes:Could not load AData\n"
       ]
      },
      {
       "output_type": "stream",
       "stream": "stderr",
       "text": [
        "WARNING:sarpy.io.Adata_classes:Need precisely one parameter file *json, found: []\n"
       ]
      },
      {
       "output_type": "stream",
       "stream": "stderr",
       "text": [
        "WARNING:sarpy.io.Adata_classes:Could not load AData\n"
       ]
      },
      {
       "output_type": "stream",
       "stream": "stderr",
       "text": [
        "WARNING:sarpy.io.Adata_classes:Need precisely one parameter file *json, found: []\n"
       ]
      },
      {
       "output_type": "stream",
       "stream": "stderr",
       "text": [
        "WARNING:sarpy.io.Adata_classes:Could not load AData\n"
       ]
      },
      {
       "output_type": "stream",
       "stream": "stderr",
       "text": [
        "WARNING:sarpy.io.Adata_classes:Need precisely one parameter file *json, found: []\n"
       ]
      },
      {
       "output_type": "stream",
       "stream": "stderr",
       "text": [
        "WARNING:sarpy.io.Adata_classes:Could not load AData\n"
       ]
      },
      {
       "output_type": "stream",
       "stream": "stderr",
       "text": [
        "WARNING:sarpy.io.Adata_classes:Need precisely one parameter file *json, found: []\n"
       ]
      },
      {
       "output_type": "stream",
       "stream": "stderr",
       "text": [
        "WARNING:sarpy.io.Adata_classes:Could not load AData\n"
       ]
      },
      {
       "output_type": "stream",
       "stream": "stderr",
       "text": [
        "WARNING:sarpy.io.Adata_classes:Need precisely one parameter file *json, found: []\n"
       ]
      },
      {
       "output_type": "stream",
       "stream": "stderr",
       "text": [
        "WARNING:sarpy.io.Adata_classes:Could not load AData\n"
       ]
      },
      {
       "output_type": "stream",
       "stream": "stderr",
       "text": [
        "WARNING:sarpy.io.Adata_classes:Need precisely one parameter file *json, found: []\n"
       ]
      },
      {
       "output_type": "stream",
       "stream": "stderr",
       "text": [
        "WARNING:sarpy.io.Adata_classes:Could not load AData\n"
       ]
      },
      {
       "output_type": "stream",
       "stream": "stderr",
       "text": [
        "WARNING:sarpy.io.Adata_classes:Need precisely one parameter file *json, found: []\n"
       ]
      },
      {
       "output_type": "stream",
       "stream": "stderr",
       "text": [
        "WARNING:sarpy.io.Adata_classes:Could not load AData\n"
       ]
      },
      {
       "output_type": "stream",
       "stream": "stderr",
       "text": [
        "WARNING:sarpy.io.Adata_classes:Need precisely one parameter file *json, found: []\n"
       ]
      },
      {
       "output_type": "stream",
       "stream": "stderr",
       "text": [
        "WARNING:sarpy.io.Adata_classes:Could not load AData\n"
       ]
      },
      {
       "output_type": "stream",
       "stream": "stderr",
       "text": [
        "WARNING:sarpy.io.Adata_classes:Need precisely one parameter file *json, found: []\n"
       ]
      },
      {
       "output_type": "stream",
       "stream": "stderr",
       "text": [
        "WARNING:sarpy.io.Adata_classes:Could not load AData\n"
       ]
      },
      {
       "output_type": "stream",
       "stream": "stderr",
       "text": [
        "WARNING:sarpy.io.Adata_classes:Need precisely one parameter file *json, found: []\n"
       ]
      },
      {
       "output_type": "stream",
       "stream": "stderr",
       "text": [
        "WARNING:sarpy.io.Adata_classes:Could not load AData\n"
       ]
      },
      {
       "output_type": "stream",
       "stream": "stderr",
       "text": [
        "WARNING:sarpy.io.Adata_classes:Need precisely one parameter file *json, found: []\n"
       ]
      },
      {
       "output_type": "stream",
       "stream": "stderr",
       "text": [
        "WARNING:sarpy.io.Adata_classes:Could not load AData\n"
       ]
      },
      {
       "output_type": "stream",
       "stream": "stderr",
       "text": [
        "WARNING:sarpy.io.Adata_classes:Need precisely one parameter file *json, found: []\n"
       ]
      },
      {
       "output_type": "stream",
       "stream": "stderr",
       "text": [
        "WARNING:sarpy.io.Adata_classes:Could not load AData\n"
       ]
      },
      {
       "output_type": "stream",
       "stream": "stderr",
       "text": [
        "WARNING:sarpy.io.Adata_classes:Need precisely one parameter file *json, found: []\n"
       ]
      },
      {
       "output_type": "stream",
       "stream": "stderr",
       "text": [
        "WARNING:sarpy.io.Adata_classes:Could not load AData\n"
       ]
      },
      {
       "output_type": "stream",
       "stream": "stderr",
       "text": [
        "WARNING:sarpy.io.Adata_classes:Need precisely one parameter file *json, found: []\n"
       ]
      },
      {
       "output_type": "stream",
       "stream": "stderr",
       "text": [
        "WARNING:sarpy.io.Adata_classes:Could not load AData\n"
       ]
      },
      {
       "output_type": "stream",
       "stream": "stderr",
       "text": [
        "WARNING:sarpy.io.Adata_classes:Need precisely one parameter file *json, found: []\n"
       ]
      },
      {
       "output_type": "stream",
       "stream": "stderr",
       "text": [
        "WARNING:sarpy.io.Adata_classes:Could not load AData\n"
       ]
      },
      {
       "output_type": "stream",
       "stream": "stderr",
       "text": [
        "WARNING:sarpy.io.Adata_classes:Need precisely one parameter file *json, found: []\n"
       ]
      },
      {
       "output_type": "stream",
       "stream": "stderr",
       "text": [
        "WARNING:sarpy.io.Adata_classes:Could not load AData\n"
       ]
      },
      {
       "output_type": "stream",
       "stream": "stderr",
       "text": [
        "WARNING:sarpy.io.Adata_classes:Need precisely one parameter file *json, found: []\n"
       ]
      },
      {
       "output_type": "stream",
       "stream": "stderr",
       "text": [
        "WARNING:sarpy.io.Adata_classes:Could not load AData\n"
       ]
      },
      {
       "output_type": "stream",
       "stream": "stderr",
       "text": [
        "WARNING:sarpy.io.Adata_classes:Need precisely one parameter file *json, found: []\n"
       ]
      },
      {
       "output_type": "stream",
       "stream": "stderr",
       "text": [
        "WARNING:sarpy.io.Adata_classes:Could not load AData\n"
       ]
      },
      {
       "output_type": "stream",
       "stream": "stderr",
       "text": [
        "WARNING:sarpy.io.Adata_classes:Need precisely one parameter file *json, found: []\n"
       ]
      },
      {
       "output_type": "stream",
       "stream": "stderr",
       "text": [
        "WARNING:sarpy.io.Adata_classes:Could not load AData\n"
       ]
      },
      {
       "output_type": "stream",
       "stream": "stderr",
       "text": [
        "WARNING:sarpy.io.Adata_classes:Need precisely one parameter file *json, found: []\n"
       ]
      },
      {
       "output_type": "stream",
       "stream": "stderr",
       "text": [
        "WARNING:sarpy.io.Adata_classes:Could not load AData\n"
       ]
      },
      {
       "output_type": "stream",
       "stream": "stderr",
       "text": [
        "WARNING:sarpy.io.Adata_classes:Need precisely one parameter file *json, found: []\n"
       ]
      },
      {
       "output_type": "stream",
       "stream": "stderr",
       "text": [
        "WARNING:sarpy.io.Adata_classes:Could not load AData\n"
       ]
      },
      {
       "output_type": "stream",
       "stream": "stderr",
       "text": [
        "WARNING:sarpy.io.Adata_classes:Need precisely one parameter file *json, found: []\n"
       ]
      },
      {
       "output_type": "stream",
       "stream": "stderr",
       "text": [
        "WARNING:sarpy.io.Adata_classes:Could not load AData\n"
       ]
      },
      {
       "output_type": "stream",
       "stream": "stderr",
       "text": [
        "WARNING:sarpy.io.Adata_classes:Need precisely one parameter file *json, found: []\n"
       ]
      },
      {
       "output_type": "stream",
       "stream": "stderr",
       "text": [
        "WARNING:sarpy.io.Adata_classes:Could not load AData\n"
       ]
      },
      {
       "output_type": "stream",
       "stream": "stderr",
       "text": [
        "WARNING:sarpy.io.Adata_classes:Need precisely one parameter file *json, found: []\n"
       ]
      },
      {
       "output_type": "stream",
       "stream": "stderr",
       "text": [
        "WARNING:sarpy.io.Adata_classes:Could not load AData\n"
       ]
      },
      {
       "output_type": "stream",
       "stream": "stderr",
       "text": [
        "WARNING:sarpy.io.Adata_classes:Need precisely one parameter file *json, found: []\n"
       ]
      },
      {
       "output_type": "stream",
       "stream": "stderr",
       "text": [
        "WARNING:sarpy.io.Adata_classes:Could not load AData\n"
       ]
      },
      {
       "output_type": "stream",
       "stream": "stderr",
       "text": [
        "WARNING:sarpy.io.Adata_classes:Need precisely one parameter file *json, found: []\n"
       ]
      },
      {
       "output_type": "stream",
       "stream": "stderr",
       "text": [
        "WARNING:sarpy.io.Adata_classes:Could not load AData\n"
       ]
      },
      {
       "output_type": "stream",
       "stream": "stderr",
       "text": [
        "WARNING:sarpy.io.Adata_classes:Need precisely one parameter file *json, found: []\n"
       ]
      },
      {
       "output_type": "stream",
       "stream": "stderr",
       "text": [
        "WARNING:sarpy.io.Adata_classes:Could not load AData\n"
       ]
      },
      {
       "output_type": "stream",
       "stream": "stderr",
       "text": [
        "WARNING:sarpy.io.Adata_classes:Need precisely one parameter file *json, found: []\n"
       ]
      },
      {
       "output_type": "stream",
       "stream": "stderr",
       "text": [
        "WARNING:sarpy.io.Adata_classes:Could not load AData\n"
       ]
      },
      {
       "output_type": "stream",
       "stream": "stderr",
       "text": [
        "WARNING:sarpy.io.Adata_classes:Need precisely one parameter file *json, found: []\n"
       ]
      },
      {
       "output_type": "stream",
       "stream": "stderr",
       "text": [
        "WARNING:sarpy.io.Adata_classes:Could not load AData\n"
       ]
      },
      {
       "output_type": "stream",
       "stream": "stderr",
       "text": [
        "WARNING:sarpy.io.Adata_classes:Need precisely one parameter file *json, found: []\n"
       ]
      },
      {
       "output_type": "stream",
       "stream": "stderr",
       "text": [
        "WARNING:sarpy.io.Adata_classes:Could not load AData\n"
       ]
      },
      {
       "output_type": "stream",
       "stream": "stderr",
       "text": [
        "WARNING:sarpy.io.Adata_classes:Need precisely one parameter file *json, found: []\n"
       ]
      },
      {
       "output_type": "stream",
       "stream": "stderr",
       "text": [
        "WARNING:sarpy.io.Adata_classes:Could not load AData\n"
       ]
      },
      {
       "output_type": "stream",
       "stream": "stderr",
       "text": [
        "WARNING:sarpy.io.Adata_classes:Need precisely one parameter file *json, found: []\n"
       ]
      },
      {
       "output_type": "stream",
       "stream": "stderr",
       "text": [
        "WARNING:sarpy.io.Adata_classes:Could not load AData\n"
       ]
      },
      {
       "output_type": "stream",
       "stream": "stderr",
       "text": [
        "WARNING:sarpy.io.Adata_classes:Need precisely one parameter file *json, found: []\n"
       ]
      },
      {
       "output_type": "stream",
       "stream": "stderr",
       "text": [
        "WARNING:sarpy.io.Adata_classes:Could not load AData\n"
       ]
      },
      {
       "output_type": "stream",
       "stream": "stderr",
       "text": [
        "WARNING:sarpy.io.Adata_classes:Need precisely one parameter file *json, found: []\n"
       ]
      },
      {
       "output_type": "stream",
       "stream": "stderr",
       "text": [
        "WARNING:sarpy.io.Adata_classes:Could not load AData\n"
       ]
      },
      {
       "output_type": "stream",
       "stream": "stderr",
       "text": [
        "WARNING:sarpy.io.Adata_classes:Need precisely one parameter file *json, found: []\n"
       ]
      },
      {
       "output_type": "stream",
       "stream": "stderr",
       "text": [
        "WARNING:sarpy.io.Adata_classes:Could not load AData\n"
       ]
      },
      {
       "output_type": "stream",
       "stream": "stderr",
       "text": [
        "WARNING:sarpy.io.Adata_classes:Need precisely one parameter file *json, found: []\n"
       ]
      },
      {
       "output_type": "stream",
       "stream": "stderr",
       "text": [
        "WARNING:sarpy.io.Adata_classes:Could not load AData\n"
       ]
      },
      {
       "output_type": "stream",
       "stream": "stderr",
       "text": [
        "WARNING:sarpy.io.Adata_classes:Need precisely one parameter file *json, found: []\n"
       ]
      },
      {
       "output_type": "stream",
       "stream": "stderr",
       "text": [
        "WARNING:sarpy.io.Adata_classes:Could not load AData\n"
       ]
      },
      {
       "output_type": "stream",
       "stream": "stderr",
       "text": [
        "WARNING:sarpy.io.Adata_classes:Need precisely one parameter file *json, found: []\n"
       ]
      },
      {
       "output_type": "stream",
       "stream": "stderr",
       "text": [
        "WARNING:sarpy.io.Adata_classes:Could not load AData\n"
       ]
      },
      {
       "output_type": "stream",
       "stream": "stderr",
       "text": [
        "WARNING:sarpy.io.Adata_classes:Need precisely one parameter file *json, found: []\n"
       ]
      },
      {
       "output_type": "stream",
       "stream": "stderr",
       "text": [
        "WARNING:sarpy.io.Adata_classes:Could not load AData\n"
       ]
      },
      {
       "output_type": "stream",
       "stream": "stderr",
       "text": [
        "WARNING:sarpy.io.Adata_classes:Need precisely one parameter file *json, found: []\n"
       ]
      },
      {
       "output_type": "stream",
       "stream": "stderr",
       "text": [
        "WARNING:sarpy.io.Adata_classes:Could not load AData\n"
       ]
      },
      {
       "output_type": "stream",
       "stream": "stderr",
       "text": [
        "WARNING:sarpy.io.Adata_classes:Need precisely one parameter file *json, found: []\n"
       ]
      },
      {
       "output_type": "stream",
       "stream": "stderr",
       "text": [
        "WARNING:sarpy.io.Adata_classes:Could not load AData\n"
       ]
      },
      {
       "output_type": "stream",
       "stream": "stderr",
       "text": [
        "WARNING:sarpy.io.Adata_classes:Need precisely one parameter file *json, found: []\n"
       ]
      },
      {
       "output_type": "stream",
       "stream": "stderr",
       "text": [
        "WARNING:sarpy.io.Adata_classes:Could not load AData\n"
       ]
      },
      {
       "output_type": "stream",
       "stream": "stderr",
       "text": [
        "WARNING:sarpy.io.Adata_classes:Need precisely one parameter file *json, found: []\n"
       ]
      },
      {
       "output_type": "stream",
       "stream": "stderr",
       "text": [
        "WARNING:sarpy.io.Adata_classes:Could not load AData\n"
       ]
      },
      {
       "output_type": "stream",
       "stream": "stderr",
       "text": [
        "WARNING:sarpy.io.Adata_classes:Need precisely one parameter file *json, found: []\n"
       ]
      },
      {
       "output_type": "stream",
       "stream": "stderr",
       "text": [
        "WARNING:sarpy.io.Adata_classes:Could not load AData\n"
       ]
      },
      {
       "output_type": "stream",
       "stream": "stderr",
       "text": [
        "WARNING:sarpy.io.Adata_classes:Need precisely one parameter file *json, found: []\n"
       ]
      },
      {
       "output_type": "stream",
       "stream": "stderr",
       "text": [
        "WARNING:sarpy.io.Adata_classes:Could not load AData\n"
       ]
      },
      {
       "output_type": "stream",
       "stream": "stderr",
       "text": [
        "WARNING:sarpy.io.Adata_classes:Need precisely one parameter file *json, found: []\n"
       ]
      },
      {
       "output_type": "stream",
       "stream": "stderr",
       "text": [
        "WARNING:sarpy.io.Adata_classes:Could not load AData\n"
       ]
      },
      {
       "output_type": "stream",
       "stream": "stderr",
       "text": [
        "WARNING:sarpy.io.Adata_classes:Need precisely one parameter file *json, found: []\n"
       ]
      },
      {
       "output_type": "stream",
       "stream": "stderr",
       "text": [
        "WARNING:sarpy.io.Adata_classes:Could not load AData\n"
       ]
      },
      {
       "output_type": "stream",
       "stream": "stderr",
       "text": [
        "WARNING:sarpy.io.Adata_classes:Need precisely one parameter file *json, found: []\n"
       ]
      },
      {
       "output_type": "stream",
       "stream": "stderr",
       "text": [
        "WARNING:sarpy.io.Adata_classes:Could not load AData\n"
       ]
      },
      {
       "output_type": "stream",
       "stream": "stderr",
       "text": [
        "WARNING:sarpy.io.Adata_classes:Need precisely one parameter file *json, found: []\n"
       ]
      },
      {
       "output_type": "stream",
       "stream": "stderr",
       "text": [
        "WARNING:sarpy.io.Adata_classes:Could not load AData\n"
       ]
      },
      {
       "output_type": "stream",
       "stream": "stderr",
       "text": [
        "WARNING:sarpy.io.Adata_classes:Need precisely one parameter file *json, found: []\n"
       ]
      },
      {
       "output_type": "stream",
       "stream": "stderr",
       "text": [
        "WARNING:sarpy.io.Adata_classes:Could not load AData\n"
       ]
      },
      {
       "output_type": "stream",
       "stream": "stderr",
       "text": [
        "WARNING:sarpy.io.Adata_classes:Need precisely one parameter file *json, found: []\n"
       ]
      },
      {
       "output_type": "stream",
       "stream": "stderr",
       "text": [
        "WARNING:sarpy.io.Adata_classes:Could not load AData\n"
       ]
      },
      {
       "output_type": "stream",
       "stream": "stderr",
       "text": [
        "WARNING:sarpy.io.Adata_classes:Need precisely one parameter file *json, found: []\n"
       ]
      },
      {
       "output_type": "stream",
       "stream": "stderr",
       "text": [
        "WARNING:sarpy.io.Adata_classes:Could not load AData\n"
       ]
      },
      {
       "output_type": "stream",
       "stream": "stderr",
       "text": [
        "WARNING:sarpy.io.Adata_classes:Need precisely one parameter file *json, found: []\n"
       ]
      },
      {
       "output_type": "stream",
       "stream": "stderr",
       "text": [
        "WARNING:sarpy.io.Adata_classes:Could not load AData\n"
       ]
      },
      {
       "output_type": "stream",
       "stream": "stderr",
       "text": [
        "WARNING:sarpy.io.Adata_classes:Need precisely one parameter file *json, found: []\n"
       ]
      },
      {
       "output_type": "stream",
       "stream": "stderr",
       "text": [
        "WARNING:sarpy.io.Adata_classes:Could not load AData\n"
       ]
      },
      {
       "output_type": "stream",
       "stream": "stderr",
       "text": [
        "WARNING:sarpy.io.Adata_classes:Need precisely one parameter file *json, found: []\n"
       ]
      },
      {
       "output_type": "stream",
       "stream": "stderr",
       "text": [
        "WARNING:sarpy.io.Adata_classes:Could not load AData\n"
       ]
      },
      {
       "output_type": "stream",
       "stream": "stderr",
       "text": [
        "WARNING:sarpy.io.Adata_classes:Need precisely one parameter file *json, found: []\n"
       ]
      },
      {
       "output_type": "stream",
       "stream": "stderr",
       "text": [
        "WARNING:sarpy.io.Adata_classes:Could not load AData\n"
       ]
      },
      {
       "output_type": "stream",
       "stream": "stderr",
       "text": [
        "WARNING:sarpy.io.Adata_classes:Need precisely one parameter file *json, found: []\n"
       ]
      },
      {
       "output_type": "stream",
       "stream": "stderr",
       "text": [
        "WARNING:sarpy.io.Adata_classes:Could not load AData\n"
       ]
      },
      {
       "output_type": "stream",
       "stream": "stderr",
       "text": [
        "WARNING:sarpy.io.Adata_classes:Need precisely one parameter file *json, found: []\n"
       ]
      },
      {
       "output_type": "stream",
       "stream": "stderr",
       "text": [
        "WARNING:sarpy.io.Adata_classes:Could not load AData\n"
       ]
      },
      {
       "output_type": "stream",
       "stream": "stderr",
       "text": [
        "WARNING:sarpy.io.Adata_classes:Need precisely one parameter file *json, found: []\n"
       ]
      },
      {
       "output_type": "stream",
       "stream": "stderr",
       "text": [
        "WARNING:sarpy.io.Adata_classes:Could not load AData\n"
       ]
      },
      {
       "output_type": "stream",
       "stream": "stderr",
       "text": [
        "WARNING:sarpy.io.Adata_classes:Need precisely one parameter file *json, found: []\n"
       ]
      },
      {
       "output_type": "stream",
       "stream": "stderr",
       "text": [
        "WARNING:sarpy.io.Adata_classes:Could not load AData\n"
       ]
      },
      {
       "output_type": "stream",
       "stream": "stderr",
       "text": [
        "WARNING:sarpy.io.Adata_classes:Need precisely one parameter file *json, found: []\n"
       ]
      },
      {
       "output_type": "stream",
       "stream": "stderr",
       "text": [
        "WARNING:sarpy.io.Adata_classes:Could not load AData\n"
       ]
      },
      {
       "output_type": "stream",
       "stream": "stderr",
       "text": [
        "WARNING:sarpy.io.Adata_classes:Need precisely one parameter file *json, found: []\n"
       ]
      },
      {
       "output_type": "stream",
       "stream": "stderr",
       "text": [
        "WARNING:sarpy.io.Adata_classes:Could not load AData\n"
       ]
      },
      {
       "output_type": "stream",
       "stream": "stderr",
       "text": [
        "WARNING:sarpy.io.Adata_classes:Need precisely one parameter file *json, found: []\n"
       ]
      },
      {
       "output_type": "stream",
       "stream": "stderr",
       "text": [
        "WARNING:sarpy.io.Adata_classes:Could not load AData\n"
       ]
      },
      {
       "output_type": "stream",
       "stream": "stderr",
       "text": [
        "WARNING:sarpy.io.Adata_classes:Need precisely one parameter file *json, found: []\n"
       ]
      },
      {
       "output_type": "stream",
       "stream": "stderr",
       "text": [
        "WARNING:sarpy.io.Adata_classes:Could not load AData\n"
       ]
      },
      {
       "output_type": "stream",
       "stream": "stderr",
       "text": [
        "WARNING:sarpy.io.Adata_classes:Need precisely one parameter file *json, found: []\n"
       ]
      },
      {
       "output_type": "stream",
       "stream": "stderr",
       "text": [
        "WARNING:sarpy.io.Adata_classes:Could not load AData\n"
       ]
      },
      {
       "output_type": "stream",
       "stream": "stderr",
       "text": [
        "WARNING:sarpy.io.Adata_classes:Need precisely one parameter file *json, found: []\n"
       ]
      },
      {
       "output_type": "stream",
       "stream": "stderr",
       "text": [
        "WARNING:sarpy.io.Adata_classes:Could not load AData\n"
       ]
      },
      {
       "output_type": "stream",
       "stream": "stderr",
       "text": [
        "WARNING:sarpy.io.Adata_classes:Need precisely one parameter file *json, found: []\n"
       ]
      },
      {
       "output_type": "stream",
       "stream": "stderr",
       "text": [
        "WARNING:sarpy.io.Adata_classes:Could not load AData\n"
       ]
      },
      {
       "output_type": "stream",
       "stream": "stderr",
       "text": [
        "WARNING:sarpy.io.Adata_classes:Need precisely one parameter file *json, found: []\n"
       ]
      },
      {
       "output_type": "stream",
       "stream": "stderr",
       "text": [
        "WARNING:sarpy.io.Adata_classes:Could not load AData\n"
       ]
      },
      {
       "output_type": "stream",
       "stream": "stderr",
       "text": [
        "WARNING:sarpy.io.Adata_classes:Need precisely one parameter file *json, found: []\n"
       ]
      },
      {
       "output_type": "stream",
       "stream": "stderr",
       "text": [
        "WARNING:sarpy.io.Adata_classes:Could not load AData\n"
       ]
      },
      {
       "output_type": "stream",
       "stream": "stderr",
       "text": [
        "WARNING:sarpy.io.Adata_classes:Need precisely one parameter file *json, found: []\n"
       ]
      },
      {
       "output_type": "stream",
       "stream": "stderr",
       "text": [
        "WARNING:sarpy.io.Adata_classes:Could not load AData\n"
       ]
      },
      {
       "output_type": "stream",
       "stream": "stderr",
       "text": [
        "WARNING:sarpy.io.Adata_classes:Need precisely one parameter file *json, found: []\n"
       ]
      },
      {
       "output_type": "stream",
       "stream": "stderr",
       "text": [
        "WARNING:sarpy.io.Adata_classes:Could not load AData\n"
       ]
      },
      {
       "output_type": "stream",
       "stream": "stderr",
       "text": [
        "WARNING:sarpy.io.Adata_classes:Need precisely one parameter file *json, found: []\n"
       ]
      },
      {
       "output_type": "stream",
       "stream": "stderr",
       "text": [
        "WARNING:sarpy.io.Adata_classes:Could not load AData\n"
       ]
      },
      {
       "output_type": "stream",
       "stream": "stderr",
       "text": [
        "WARNING:sarpy.io.Adata_classes:Need precisely one parameter file *json, found: []\n"
       ]
      },
      {
       "output_type": "stream",
       "stream": "stderr",
       "text": [
        "WARNING:sarpy.io.Adata_classes:Could not load AData\n"
       ]
      },
      {
       "output_type": "stream",
       "stream": "stderr",
       "text": [
        "WARNING:sarpy.io.Adata_classes:Need precisely one parameter file *json, found: []\n"
       ]
      },
      {
       "output_type": "stream",
       "stream": "stderr",
       "text": [
        "WARNING:sarpy.io.Adata_classes:Could not load AData\n"
       ]
      },
      {
       "output_type": "stream",
       "stream": "stderr",
       "text": [
        "WARNING:sarpy.io.Adata_classes:Need precisely one parameter file *json, found: []\n"
       ]
      },
      {
       "output_type": "stream",
       "stream": "stderr",
       "text": [
        "WARNING:sarpy.io.Adata_classes:Could not load AData\n"
       ]
      },
      {
       "output_type": "stream",
       "stream": "stderr",
       "text": [
        "WARNING:sarpy.io.Adata_classes:Need precisely one parameter file *json, found: []\n"
       ]
      },
      {
       "output_type": "stream",
       "stream": "stderr",
       "text": [
        "WARNING:sarpy.io.Adata_classes:Could not load AData\n"
       ]
      },
      {
       "output_type": "stream",
       "stream": "stderr",
       "text": [
        "WARNING:sarpy.io.Adata_classes:Need precisely one parameter file *json, found: []\n"
       ]
      },
      {
       "output_type": "stream",
       "stream": "stderr",
       "text": [
        "WARNING:sarpy.io.Adata_classes:Could not load AData\n"
       ]
      },
      {
       "output_type": "stream",
       "stream": "stderr",
       "text": [
        "WARNING:sarpy.io.Adata_classes:Need precisely one parameter file *json, found: []\n"
       ]
      },
      {
       "output_type": "stream",
       "stream": "stderr",
       "text": [
        "WARNING:sarpy.io.Adata_classes:Could not load AData\n"
       ]
      },
      {
       "output_type": "stream",
       "stream": "stderr",
       "text": [
        "WARNING:sarpy.io.Adata_classes:Need precisely one parameter file *json, found: []\n"
       ]
      },
      {
       "output_type": "stream",
       "stream": "stderr",
       "text": [
        "WARNING:sarpy.io.Adata_classes:Could not load AData\n"
       ]
      },
      {
       "output_type": "stream",
       "stream": "stderr",
       "text": [
        "WARNING:sarpy.io.Adata_classes:Need precisely one parameter file *json, found: []\n"
       ]
      },
      {
       "output_type": "stream",
       "stream": "stderr",
       "text": [
        "WARNING:sarpy.io.Adata_classes:Could not load AData\n"
       ]
      },
      {
       "output_type": "stream",
       "stream": "stderr",
       "text": [
        "WARNING:sarpy.io.Adata_classes:Need precisely one parameter file *json, found: []\n"
       ]
      },
      {
       "output_type": "stream",
       "stream": "stderr",
       "text": [
        "WARNING:sarpy.io.Adata_classes:Could not load AData\n"
       ]
      },
      {
       "output_type": "stream",
       "stream": "stderr",
       "text": [
        "WARNING:sarpy.io.Adata_classes:Need precisely one parameter file *json, found: []\n"
       ]
      },
      {
       "output_type": "stream",
       "stream": "stderr",
       "text": [
        "WARNING:sarpy.io.Adata_classes:Could not load AData\n"
       ]
      },
      {
       "output_type": "stream",
       "stream": "stderr",
       "text": [
        "WARNING:sarpy.io.Adata_classes:Need precisely one parameter file *json, found: []\n"
       ]
      },
      {
       "output_type": "stream",
       "stream": "stderr",
       "text": [
        "WARNING:sarpy.io.Adata_classes:Could not load AData\n"
       ]
      },
      {
       "output_type": "stream",
       "stream": "stderr",
       "text": [
        "WARNING:sarpy.io.Adata_classes:Need precisely one parameter file *json, found: []\n"
       ]
      },
      {
       "output_type": "stream",
       "stream": "stderr",
       "text": [
        "WARNING:sarpy.io.Adata_classes:Could not load AData\n"
       ]
      },
      {
       "output_type": "stream",
       "stream": "stderr",
       "text": [
        "WARNING:sarpy.io.Adata_classes:Need precisely one parameter file *json, found: []\n"
       ]
      },
      {
       "output_type": "stream",
       "stream": "stderr",
       "text": [
        "WARNING:sarpy.io.Adata_classes:Could not load AData\n"
       ]
      },
      {
       "output_type": "stream",
       "stream": "stderr",
       "text": [
        "WARNING:sarpy.io.Adata_classes:Need precisely one parameter file *json, found: []\n"
       ]
      },
      {
       "output_type": "stream",
       "stream": "stderr",
       "text": [
        "WARNING:sarpy.io.Adata_classes:Could not load AData\n"
       ]
      },
      {
       "output_type": "stream",
       "stream": "stderr",
       "text": [
        "WARNING:sarpy.io.Adata_classes:Need precisely one parameter file *json, found: []\n"
       ]
      },
      {
       "output_type": "stream",
       "stream": "stderr",
       "text": [
        "WARNING:sarpy.io.Adata_classes:Could not load AData\n"
       ]
      },
      {
       "output_type": "stream",
       "stream": "stderr",
       "text": [
        "WARNING:sarpy.io.Adata_classes:Need precisely one parameter file *json, found: []\n"
       ]
      },
      {
       "output_type": "stream",
       "stream": "stderr",
       "text": [
        "WARNING:sarpy.io.Adata_classes:Could not load AData\n"
       ]
      },
      {
       "output_type": "stream",
       "stream": "stderr",
       "text": [
        "WARNING:sarpy.io.Adata_classes:Need precisely one parameter file *json, found: []\n"
       ]
      },
      {
       "output_type": "stream",
       "stream": "stderr",
       "text": [
        "WARNING:sarpy.io.Adata_classes:Could not load AData\n"
       ]
      },
      {
       "output_type": "stream",
       "stream": "stderr",
       "text": [
        "WARNING:sarpy.io.Adata_classes:Need precisely one parameter file *json, found: []\n"
       ]
      },
      {
       "output_type": "stream",
       "stream": "stderr",
       "text": [
        "WARNING:sarpy.io.Adata_classes:Could not load AData\n"
       ]
      },
      {
       "output_type": "stream",
       "stream": "stderr",
       "text": [
        "WARNING:sarpy.io.Adata_classes:Need precisely one parameter file *json, found: []\n"
       ]
      },
      {
       "output_type": "stream",
       "stream": "stderr",
       "text": [
        "WARNING:sarpy.io.Adata_classes:Could not load AData\n"
       ]
      },
      {
       "output_type": "stream",
       "stream": "stderr",
       "text": [
        "WARNING:sarpy.io.Adata_classes:Need precisely one parameter file *json, found: []\n"
       ]
      },
      {
       "output_type": "stream",
       "stream": "stderr",
       "text": [
        "WARNING:sarpy.io.Adata_classes:Could not load AData\n"
       ]
      },
      {
       "output_type": "stream",
       "stream": "stderr",
       "text": [
        "WARNING:sarpy.io.Adata_classes:Need precisely one parameter file *json, found: []\n"
       ]
      },
      {
       "output_type": "stream",
       "stream": "stderr",
       "text": [
        "WARNING:sarpy.io.Adata_classes:Could not load AData\n"
       ]
      },
      {
       "output_type": "stream",
       "stream": "stderr",
       "text": [
        "WARNING:sarpy.io.Adata_classes:Need precisely one parameter file *json, found: []\n"
       ]
      },
      {
       "output_type": "stream",
       "stream": "stderr",
       "text": [
        "WARNING:sarpy.io.Adata_classes:Could not load AData\n"
       ]
      },
      {
       "output_type": "stream",
       "stream": "stderr",
       "text": [
        "WARNING:sarpy.io.Adata_classes:Need precisely one parameter file *json, found: []\n"
       ]
      },
      {
       "output_type": "stream",
       "stream": "stderr",
       "text": [
        "WARNING:sarpy.io.Adata_classes:Could not load AData\n"
       ]
      },
      {
       "output_type": "stream",
       "stream": "stderr",
       "text": [
        "WARNING:sarpy.io.Adata_classes:Need precisely one parameter file *json, found: []\n"
       ]
      },
      {
       "output_type": "stream",
       "stream": "stderr",
       "text": [
        "WARNING:sarpy.io.Adata_classes:Could not load AData\n"
       ]
      },
      {
       "output_type": "stream",
       "stream": "stderr",
       "text": [
        "WARNING:sarpy.io.Adata_classes:Need precisely one parameter file *json, found: []\n"
       ]
      },
      {
       "output_type": "stream",
       "stream": "stderr",
       "text": [
        "WARNING:sarpy.io.Adata_classes:Could not load AData\n"
       ]
      },
      {
       "output_type": "stream",
       "stream": "stderr",
       "text": [
        "WARNING:sarpy.io.Adata_classes:Need precisely one parameter file *json, found: []\n"
       ]
      },
      {
       "output_type": "stream",
       "stream": "stderr",
       "text": [
        "WARNING:sarpy.io.Adata_classes:Could not load AData\n"
       ]
      },
      {
       "output_type": "stream",
       "stream": "stderr",
       "text": [
        "WARNING:sarpy.io.Adata_classes:Need precisely one parameter file *json, found: []\n"
       ]
      },
      {
       "output_type": "stream",
       "stream": "stderr",
       "text": [
        "WARNING:sarpy.io.Adata_classes:Could not load AData\n"
       ]
      },
      {
       "output_type": "stream",
       "stream": "stderr",
       "text": [
        "WARNING:sarpy.io.Adata_classes:Need precisely one parameter file *json, found: []\n"
       ]
      },
      {
       "output_type": "stream",
       "stream": "stderr",
       "text": [
        "WARNING:sarpy.io.Adata_classes:Could not load AData\n"
       ]
      },
      {
       "output_type": "stream",
       "stream": "stderr",
       "text": [
        "WARNING:sarpy.io.Adata_classes:Need precisely one parameter file *json, found: []\n"
       ]
      },
      {
       "output_type": "stream",
       "stream": "stderr",
       "text": [
        "WARNING:sarpy.io.Adata_classes:Could not load AData\n"
       ]
      },
      {
       "output_type": "stream",
       "stream": "stderr",
       "text": [
        "WARNING:sarpy.io.Adata_classes:Need precisely one parameter file *json, found: []\n"
       ]
      },
      {
       "output_type": "stream",
       "stream": "stderr",
       "text": [
        "WARNING:sarpy.io.Adata_classes:Could not load AData\n"
       ]
      },
      {
       "output_type": "stream",
       "stream": "stderr",
       "text": [
        "WARNING:sarpy.io.Adata_classes:Need precisely one parameter file *json, found: []\n"
       ]
      },
      {
       "output_type": "stream",
       "stream": "stderr",
       "text": [
        "WARNING:sarpy.io.Adata_classes:Could not load AData\n"
       ]
      },
      {
       "output_type": "stream",
       "stream": "stderr",
       "text": [
        "WARNING:sarpy.io.Adata_classes:Need precisely one parameter file *json, found: []\n"
       ]
      },
      {
       "output_type": "stream",
       "stream": "stderr",
       "text": [
        "WARNING:sarpy.io.Adata_classes:Could not load AData\n"
       ]
      },
      {
       "output_type": "stream",
       "stream": "stderr",
       "text": [
        "WARNING:sarpy.io.Adata_classes:Need precisely one parameter file *json, found: []\n"
       ]
      },
      {
       "output_type": "stream",
       "stream": "stderr",
       "text": [
        "WARNING:sarpy.io.Adata_classes:Could not load AData\n"
       ]
      },
      {
       "output_type": "stream",
       "stream": "stderr",
       "text": [
        "WARNING:sarpy.io.Adata_classes:Need precisely one parameter file *json, found: []\n"
       ]
      },
      {
       "output_type": "stream",
       "stream": "stderr",
       "text": [
        "WARNING:sarpy.io.Adata_classes:Could not load AData\n"
       ]
      },
      {
       "output_type": "stream",
       "stream": "stderr",
       "text": [
        "WARNING:sarpy.io.Adata_classes:Need precisely one parameter file *json, found: []\n"
       ]
      },
      {
       "output_type": "stream",
       "stream": "stderr",
       "text": [
        "WARNING:sarpy.io.Adata_classes:Could not load AData\n"
       ]
      },
      {
       "output_type": "stream",
       "stream": "stderr",
       "text": [
        "WARNING:sarpy.io.Adata_classes:Need precisely one parameter file *json, found: []\n"
       ]
      },
      {
       "output_type": "stream",
       "stream": "stderr",
       "text": [
        "WARNING:sarpy.io.Adata_classes:Could not load AData\n"
       ]
      },
      {
       "output_type": "stream",
       "stream": "stderr",
       "text": [
        "WARNING:sarpy.io.Adata_classes:Need precisely one parameter file *json, found: []\n"
       ]
      },
      {
       "output_type": "stream",
       "stream": "stderr",
       "text": [
        "WARNING:sarpy.io.Adata_classes:Could not load AData\n"
       ]
      },
      {
       "output_type": "stream",
       "stream": "stderr",
       "text": [
        "WARNING:sarpy.io.Adata_classes:Need precisely one parameter file *json, found: []\n"
       ]
      },
      {
       "output_type": "stream",
       "stream": "stderr",
       "text": [
        "WARNING:sarpy.io.Adata_classes:Could not load AData\n"
       ]
      },
      {
       "output_type": "stream",
       "stream": "stderr",
       "text": [
        "WARNING:sarpy.io.Adata_classes:Need precisely one parameter file *json, found: []\n"
       ]
      },
      {
       "output_type": "stream",
       "stream": "stderr",
       "text": [
        "WARNING:sarpy.io.Adata_classes:Could not load AData\n"
       ]
      },
      {
       "output_type": "stream",
       "stream": "stderr",
       "text": [
        "WARNING:sarpy.io.Adata_classes:Need precisely one parameter file *json, found: []\n"
       ]
      },
      {
       "output_type": "stream",
       "stream": "stderr",
       "text": [
        "WARNING:sarpy.io.Adata_classes:Could not load AData\n"
       ]
      },
      {
       "output_type": "stream",
       "stream": "stderr",
       "text": [
        "WARNING:sarpy.io.Adata_classes:Need precisely one parameter file *json, found: []\n"
       ]
      },
      {
       "output_type": "stream",
       "stream": "stderr",
       "text": [
        "WARNING:sarpy.io.Adata_classes:Could not load AData\n"
       ]
      },
      {
       "output_type": "stream",
       "stream": "stderr",
       "text": [
        "WARNING:sarpy.io.Adata_classes:Need precisely one parameter file *json, found: []\n"
       ]
      },
      {
       "output_type": "stream",
       "stream": "stderr",
       "text": [
        "WARNING:sarpy.io.Adata_classes:Could not load AData\n"
       ]
      },
      {
       "output_type": "stream",
       "stream": "stderr",
       "text": [
        "WARNING:sarpy.io.Adata_classes:Need precisely one parameter file *json, found: []\n"
       ]
      },
      {
       "output_type": "stream",
       "stream": "stderr",
       "text": [
        "WARNING:sarpy.io.Adata_classes:Could not load AData\n"
       ]
      },
      {
       "output_type": "stream",
       "stream": "stderr",
       "text": [
        "WARNING:sarpy.io.Adata_classes:Need precisely one parameter file *json, found: []\n"
       ]
      },
      {
       "output_type": "stream",
       "stream": "stderr",
       "text": [
        "WARNING:sarpy.io.Adata_classes:Could not load AData\n"
       ]
      },
      {
       "output_type": "stream",
       "stream": "stderr",
       "text": [
        "WARNING:sarpy.io.Adata_classes:Need precisely one parameter file *json, found: []\n"
       ]
      },
      {
       "output_type": "stream",
       "stream": "stderr",
       "text": [
        "WARNING:sarpy.io.Adata_classes:Could not load AData\n"
       ]
      },
      {
       "output_type": "stream",
       "stream": "stderr",
       "text": [
        "WARNING:sarpy.io.Adata_classes:Need precisely one parameter file *json, found: []\n"
       ]
      },
      {
       "output_type": "stream",
       "stream": "stderr",
       "text": [
        "WARNING:sarpy.io.Adata_classes:Could not load AData\n"
       ]
      },
      {
       "output_type": "stream",
       "stream": "stderr",
       "text": [
        "WARNING:sarpy.io.Adata_classes:Need precisely one parameter file *json, found: []\n"
       ]
      },
      {
       "output_type": "stream",
       "stream": "stderr",
       "text": [
        "WARNING:sarpy.io.Adata_classes:Could not load AData\n"
       ]
      },
      {
       "output_type": "stream",
       "stream": "stderr",
       "text": [
        "WARNING:sarpy.io.Adata_classes:Need precisely one parameter file *json, found: []\n"
       ]
      },
      {
       "output_type": "stream",
       "stream": "stderr",
       "text": [
        "WARNING:sarpy.io.Adata_classes:Could not load AData\n"
       ]
      },
      {
       "output_type": "stream",
       "stream": "stderr",
       "text": [
        "WARNING:sarpy.io.Adata_classes:Need precisely one parameter file *json, found: []\n"
       ]
      },
      {
       "output_type": "stream",
       "stream": "stderr",
       "text": [
        "WARNING:sarpy.io.Adata_classes:Could not load AData\n"
       ]
      },
      {
       "output_type": "stream",
       "stream": "stderr",
       "text": [
        "WARNING:sarpy.io.Adata_classes:Need precisely one parameter file *json, found: []\n"
       ]
      },
      {
       "output_type": "stream",
       "stream": "stderr",
       "text": [
        "WARNING:sarpy.io.Adata_classes:Could not load AData\n"
       ]
      },
      {
       "output_type": "stream",
       "stream": "stderr",
       "text": [
        "WARNING:sarpy.io.Adata_classes:Need precisely one parameter file *json, found: []\n"
       ]
      },
      {
       "output_type": "stream",
       "stream": "stderr",
       "text": [
        "WARNING:sarpy.io.Adata_classes:Could not load AData\n"
       ]
      },
      {
       "output_type": "stream",
       "stream": "stderr",
       "text": [
        "WARNING:sarpy.io.Adata_classes:Need precisely one parameter file *json, found: []\n"
       ]
      },
      {
       "output_type": "stream",
       "stream": "stderr",
       "text": [
        "WARNING:sarpy.io.Adata_classes:Could not load AData\n"
       ]
      },
      {
       "output_type": "stream",
       "stream": "stderr",
       "text": [
        "WARNING:sarpy.io.Adata_classes:Need precisely one parameter file *json, found: []\n"
       ]
      },
      {
       "output_type": "stream",
       "stream": "stderr",
       "text": [
        "WARNING:sarpy.io.Adata_classes:Could not load AData\n"
       ]
      },
      {
       "output_type": "stream",
       "stream": "stderr",
       "text": [
        "WARNING:sarpy.io.Adata_classes:Need precisely one parameter file *json, found: []\n"
       ]
      },
      {
       "output_type": "stream",
       "stream": "stderr",
       "text": [
        "WARNING:sarpy.io.Adata_classes:Could not load AData\n"
       ]
      },
      {
       "output_type": "stream",
       "stream": "stderr",
       "text": [
        "WARNING:sarpy.io.Adata_classes:Need precisely one parameter file *json, found: []\n"
       ]
      },
      {
       "output_type": "stream",
       "stream": "stderr",
       "text": [
        "WARNING:sarpy.io.Adata_classes:Could not load AData\n"
       ]
      },
      {
       "output_type": "stream",
       "stream": "stderr",
       "text": [
        "WARNING:sarpy.io.Adata_classes:Need precisely one parameter file *json, found: []\n"
       ]
      },
      {
       "output_type": "stream",
       "stream": "stderr",
       "text": [
        "WARNING:sarpy.io.Adata_classes:Could not load AData\n"
       ]
      },
      {
       "output_type": "stream",
       "stream": "stderr",
       "text": [
        "WARNING:sarpy.io.Adata_classes:Need precisely one parameter file *json, found: []\n"
       ]
      },
      {
       "output_type": "stream",
       "stream": "stderr",
       "text": [
        "WARNING:sarpy.io.Adata_classes:Could not load AData\n"
       ]
      },
      {
       "output_type": "stream",
       "stream": "stderr",
       "text": [
        "WARNING:sarpy.io.Adata_classes:Need precisely one parameter file *json, found: []\n"
       ]
      },
      {
       "output_type": "stream",
       "stream": "stderr",
       "text": [
        "WARNING:sarpy.io.Adata_classes:Could not load AData\n"
       ]
      },
      {
       "output_type": "stream",
       "stream": "stderr",
       "text": [
        "WARNING:sarpy.io.Adata_classes:Need precisely one parameter file *json, found: []\n"
       ]
      },
      {
       "output_type": "stream",
       "stream": "stderr",
       "text": [
        "WARNING:sarpy.io.Adata_classes:Could not load AData\n"
       ]
      },
      {
       "output_type": "stream",
       "stream": "stderr",
       "text": [
        "WARNING:sarpy.io.Adata_classes:Need precisely one parameter file *json, found: []\n"
       ]
      },
      {
       "output_type": "stream",
       "stream": "stderr",
       "text": [
        "WARNING:sarpy.io.Adata_classes:Could not load AData\n"
       ]
      },
      {
       "output_type": "stream",
       "stream": "stderr",
       "text": [
        "WARNING:sarpy.io.Adata_classes:Need precisely one parameter file *json, found: []\n"
       ]
      },
      {
       "output_type": "stream",
       "stream": "stderr",
       "text": [
        "WARNING:sarpy.io.Adata_classes:Could not load AData\n"
       ]
      },
      {
       "output_type": "stream",
       "stream": "stderr",
       "text": [
        "WARNING:sarpy.io.Adata_classes:Need precisely one parameter file *json, found: []\n"
       ]
      },
      {
       "output_type": "stream",
       "stream": "stderr",
       "text": [
        "WARNING:sarpy.io.Adata_classes:Could not load AData\n"
       ]
      },
      {
       "output_type": "stream",
       "stream": "stderr",
       "text": [
        "WARNING:sarpy.io.Adata_classes:Need precisely one parameter file *json, found: []\n"
       ]
      },
      {
       "output_type": "stream",
       "stream": "stderr",
       "text": [
        "WARNING:sarpy.io.Adata_classes:Could not load AData\n"
       ]
      },
      {
       "output_type": "stream",
       "stream": "stderr",
       "text": [
        "WARNING:sarpy.io.Adata_classes:Need precisely one parameter file *json, found: []\n"
       ]
      },
      {
       "output_type": "stream",
       "stream": "stderr",
       "text": [
        "WARNING:sarpy.io.Adata_classes:Could not load AData\n"
       ]
      },
      {
       "output_type": "stream",
       "stream": "stderr",
       "text": [
        "WARNING:sarpy.io.Adata_classes:Need precisely one parameter file *json, found: []\n"
       ]
      },
      {
       "output_type": "stream",
       "stream": "stderr",
       "text": [
        "WARNING:sarpy.io.Adata_classes:Could not load AData\n"
       ]
      },
      {
       "output_type": "stream",
       "stream": "stderr",
       "text": [
        "WARNING:sarpy.io.Adata_classes:Need precisely one parameter file *json, found: []\n"
       ]
      },
      {
       "output_type": "stream",
       "stream": "stderr",
       "text": [
        "WARNING:sarpy.io.Adata_classes:Could not load AData\n"
       ]
      },
      {
       "output_type": "stream",
       "stream": "stderr",
       "text": [
        "WARNING:sarpy.io.Adata_classes:Need precisely one parameter file *json, found: []\n"
       ]
      },
      {
       "output_type": "stream",
       "stream": "stderr",
       "text": [
        "WARNING:sarpy.io.Adata_classes:Could not load AData\n"
       ]
      },
      {
       "output_type": "stream",
       "stream": "stderr",
       "text": [
        "WARNING:sarpy.io.Adata_classes:Need precisely one parameter file *json, found: []\n"
       ]
      },
      {
       "output_type": "stream",
       "stream": "stderr",
       "text": [
        "WARNING:sarpy.io.Adata_classes:Could not load AData\n"
       ]
      },
      {
       "output_type": "stream",
       "stream": "stderr",
       "text": [
        "WARNING:sarpy.io.Adata_classes:Need precisely one parameter file *json, found: []\n"
       ]
      },
      {
       "output_type": "stream",
       "stream": "stderr",
       "text": [
        "WARNING:sarpy.io.Adata_classes:Could not load AData\n"
       ]
      },
      {
       "output_type": "stream",
       "stream": "stderr",
       "text": [
        "WARNING:sarpy.io.Adata_classes:Need precisely one parameter file *json, found: []\n"
       ]
      },
      {
       "output_type": "stream",
       "stream": "stderr",
       "text": [
        "WARNING:sarpy.io.Adata_classes:Could not load AData\n"
       ]
      },
      {
       "output_type": "stream",
       "stream": "stderr",
       "text": [
        "WARNING:sarpy.io.Adata_classes:Need precisely one parameter file *json, found: []\n"
       ]
      },
      {
       "output_type": "stream",
       "stream": "stderr",
       "text": [
        "WARNING:sarpy.io.Adata_classes:Could not load AData\n"
       ]
      },
      {
       "output_type": "stream",
       "stream": "stderr",
       "text": [
        "WARNING:sarpy.io.Adata_classes:Need precisely one parameter file *json, found: []\n"
       ]
      },
      {
       "output_type": "stream",
       "stream": "stderr",
       "text": [
        "WARNING:sarpy.io.Adata_classes:Could not load AData\n"
       ]
      },
      {
       "output_type": "stream",
       "stream": "stderr",
       "text": [
        "WARNING:sarpy.io.Adata_classes:Need precisely one parameter file *json, found: []\n"
       ]
      },
      {
       "output_type": "stream",
       "stream": "stderr",
       "text": [
        "WARNING:sarpy.io.Adata_classes:Could not load AData\n"
       ]
      },
      {
       "output_type": "stream",
       "stream": "stderr",
       "text": [
        "WARNING:sarpy.io.Adata_classes:Need precisely one parameter file *json, found: []\n"
       ]
      },
      {
       "output_type": "stream",
       "stream": "stderr",
       "text": [
        "WARNING:sarpy.io.Adata_classes:Could not load AData\n"
       ]
      },
      {
       "output_type": "stream",
       "stream": "stderr",
       "text": [
        "WARNING:sarpy.io.Adata_classes:Need precisely one parameter file *json, found: []\n"
       ]
      },
      {
       "output_type": "stream",
       "stream": "stderr",
       "text": [
        "WARNING:sarpy.io.Adata_classes:Could not load AData\n"
       ]
      },
      {
       "output_type": "stream",
       "stream": "stderr",
       "text": [
        "WARNING:sarpy.io.Adata_classes:Need precisely one parameter file *json, found: []\n"
       ]
      },
      {
       "output_type": "stream",
       "stream": "stderr",
       "text": [
        "WARNING:sarpy.io.Adata_classes:Could not load AData\n"
       ]
      },
      {
       "output_type": "stream",
       "stream": "stderr",
       "text": [
        "WARNING:sarpy.io.Adata_classes:Need precisely one parameter file *json, found: []\n"
       ]
      },
      {
       "output_type": "stream",
       "stream": "stderr",
       "text": [
        "WARNING:sarpy.io.Adata_classes:Could not load AData\n"
       ]
      },
      {
       "output_type": "stream",
       "stream": "stderr",
       "text": [
        "WARNING:sarpy.io.Adata_classes:Need precisely one parameter file *json, found: []\n"
       ]
      },
      {
       "output_type": "stream",
       "stream": "stderr",
       "text": [
        "WARNING:sarpy.io.Adata_classes:Could not load AData\n"
       ]
      },
      {
       "output_type": "stream",
       "stream": "stderr",
       "text": [
        "WARNING:sarpy.io.Adata_classes:Need precisely one parameter file *json, found: []\n"
       ]
      },
      {
       "output_type": "stream",
       "stream": "stderr",
       "text": [
        "WARNING:sarpy.io.Adata_classes:Could not load AData\n"
       ]
      },
      {
       "output_type": "stream",
       "stream": "stderr",
       "text": [
        "WARNING:sarpy.io.Adata_classes:Need precisely one parameter file *json, found: []\n"
       ]
      },
      {
       "output_type": "stream",
       "stream": "stderr",
       "text": [
        "WARNING:sarpy.io.Adata_classes:Could not load AData\n"
       ]
      },
      {
       "output_type": "stream",
       "stream": "stderr",
       "text": [
        "WARNING:sarpy.io.Adata_classes:Need precisely one parameter file *json, found: []\n"
       ]
      },
      {
       "output_type": "stream",
       "stream": "stderr",
       "text": [
        "WARNING:sarpy.io.Adata_classes:Could not load AData\n"
       ]
      },
      {
       "output_type": "stream",
       "stream": "stderr",
       "text": [
        "WARNING:sarpy.io.Adata_classes:Need precisely one parameter file *json, found: []\n"
       ]
      },
      {
       "output_type": "stream",
       "stream": "stderr",
       "text": [
        "WARNING:sarpy.io.Adata_classes:Could not load AData\n"
       ]
      },
      {
       "output_type": "stream",
       "stream": "stderr",
       "text": [
        "WARNING:sarpy.io.Adata_classes:Need precisely one parameter file *json, found: []\n"
       ]
      },
      {
       "output_type": "stream",
       "stream": "stderr",
       "text": [
        "WARNING:sarpy.io.Adata_classes:Could not load AData\n"
       ]
      },
      {
       "output_type": "stream",
       "stream": "stderr",
       "text": [
        "WARNING:sarpy.io.Adata_classes:Need precisely one parameter file *json, found: []\n"
       ]
      },
      {
       "output_type": "stream",
       "stream": "stderr",
       "text": [
        "WARNING:sarpy.io.Adata_classes:Could not load AData\n"
       ]
      },
      {
       "output_type": "stream",
       "stream": "stderr",
       "text": [
        "WARNING:sarpy.io.Adata_classes:Need precisely one parameter file *json, found: []\n"
       ]
      },
      {
       "output_type": "stream",
       "stream": "stderr",
       "text": [
        "WARNING:sarpy.io.Adata_classes:Could not load AData\n"
       ]
      },
      {
       "output_type": "stream",
       "stream": "stderr",
       "text": [
        "WARNING:sarpy.io.Adata_classes:Need precisely one parameter file *json, found: []\n"
       ]
      },
      {
       "output_type": "stream",
       "stream": "stderr",
       "text": [
        "WARNING:sarpy.io.Adata_classes:Could not load AData\n"
       ]
      },
      {
       "output_type": "stream",
       "stream": "stderr",
       "text": [
        "WARNING:sarpy.io.Adata_classes:Need precisely one parameter file *json, found: []\n"
       ]
      },
      {
       "output_type": "stream",
       "stream": "stderr",
       "text": [
        "WARNING:sarpy.io.Adata_classes:Could not load AData\n"
       ]
      },
      {
       "output_type": "stream",
       "stream": "stderr",
       "text": [
        "WARNING:sarpy.io.Adata_classes:Need precisely one parameter file *json, found: []\n"
       ]
      },
      {
       "output_type": "stream",
       "stream": "stderr",
       "text": [
        "WARNING:sarpy.io.Adata_classes:Could not load AData\n"
       ]
      },
      {
       "output_type": "stream",
       "stream": "stderr",
       "text": [
        "WARNING:sarpy.io.Adata_classes:Need precisely one parameter file *json, found: []\n"
       ]
      },
      {
       "output_type": "stream",
       "stream": "stderr",
       "text": [
        "WARNING:sarpy.io.Adata_classes:Could not load AData\n"
       ]
      },
      {
       "output_type": "stream",
       "stream": "stderr",
       "text": [
        "WARNING:sarpy.io.Adata_classes:Need precisely one parameter file *json, found: []\n"
       ]
      },
      {
       "output_type": "stream",
       "stream": "stderr",
       "text": [
        "WARNING:sarpy.io.Adata_classes:Could not load AData\n"
       ]
      },
      {
       "output_type": "stream",
       "stream": "stderr",
       "text": [
        "WARNING:sarpy.io.Adata_classes:Need precisely one parameter file *json, found: []\n"
       ]
      },
      {
       "output_type": "stream",
       "stream": "stderr",
       "text": [
        "WARNING:sarpy.io.Adata_classes:Could not load AData\n"
       ]
      },
      {
       "output_type": "stream",
       "stream": "stderr",
       "text": [
        "WARNING:sarpy.io.Adata_classes:Need precisely one parameter file *json, found: []\n"
       ]
      },
      {
       "output_type": "stream",
       "stream": "stderr",
       "text": [
        "WARNING:sarpy.io.Adata_classes:Could not load AData\n"
       ]
      },
      {
       "output_type": "stream",
       "stream": "stderr",
       "text": [
        "WARNING:sarpy.io.Adata_classes:Need precisely one parameter file *json, found: []\n"
       ]
      },
      {
       "output_type": "stream",
       "stream": "stderr",
       "text": [
        "WARNING:sarpy.io.Adata_classes:Could not load AData\n"
       ]
      },
      {
       "output_type": "stream",
       "stream": "stderr",
       "text": [
        "WARNING:sarpy.io.Adata_classes:Need precisely one parameter file *json, found: []\n"
       ]
      },
      {
       "output_type": "stream",
       "stream": "stderr",
       "text": [
        "WARNING:sarpy.io.Adata_classes:Could not load AData\n"
       ]
      },
      {
       "output_type": "stream",
       "stream": "stderr",
       "text": [
        "WARNING:sarpy.io.Adata_classes:Need precisely one parameter file *json, found: []\n"
       ]
      },
      {
       "output_type": "stream",
       "stream": "stderr",
       "text": [
        "WARNING:sarpy.io.Adata_classes:Could not load AData\n"
       ]
      },
      {
       "output_type": "stream",
       "stream": "stderr",
       "text": [
        "WARNING:sarpy.io.Adata_classes:Need precisely one parameter file *json, found: []\n"
       ]
      },
      {
       "output_type": "stream",
       "stream": "stderr",
       "text": [
        "WARNING:sarpy.io.Adata_classes:Could not load AData\n"
       ]
      },
      {
       "output_type": "stream",
       "stream": "stderr",
       "text": [
        "WARNING:sarpy.io.Adata_classes:Need precisely one parameter file *json, found: []\n"
       ]
      },
      {
       "output_type": "stream",
       "stream": "stderr",
       "text": [
        "WARNING:sarpy.io.Adata_classes:Could not load AData\n"
       ]
      },
      {
       "output_type": "stream",
       "stream": "stderr",
       "text": [
        "WARNING:sarpy.io.Adata_classes:Need precisely one parameter file *json, found: []\n"
       ]
      },
      {
       "output_type": "stream",
       "stream": "stderr",
       "text": [
        "WARNING:sarpy.io.Adata_classes:Could not load AData\n"
       ]
      },
      {
       "output_type": "stream",
       "stream": "stderr",
       "text": [
        "WARNING:sarpy.io.Adata_classes:Need precisely one parameter file *json, found: []\n"
       ]
      },
      {
       "output_type": "stream",
       "stream": "stderr",
       "text": [
        "WARNING:sarpy.io.Adata_classes:Could not load AData\n"
       ]
      },
      {
       "output_type": "stream",
       "stream": "stderr",
       "text": [
        "WARNING:sarpy.io.Adata_classes:Need precisely one parameter file *json, found: []\n"
       ]
      },
      {
       "output_type": "stream",
       "stream": "stderr",
       "text": [
        "WARNING:sarpy.io.Adata_classes:Could not load AData\n"
       ]
      },
      {
       "output_type": "stream",
       "stream": "stderr",
       "text": [
        "WARNING:sarpy.io.Adata_classes:Need precisely one parameter file *json, found: []\n"
       ]
      },
      {
       "output_type": "stream",
       "stream": "stderr",
       "text": [
        "WARNING:sarpy.io.Adata_classes:Could not load AData\n"
       ]
      },
      {
       "output_type": "stream",
       "stream": "stderr",
       "text": [
        "WARNING:sarpy.io.Adata_classes:Need precisely one parameter file *json, found: []\n"
       ]
      },
      {
       "output_type": "stream",
       "stream": "stderr",
       "text": [
        "WARNING:sarpy.io.Adata_classes:Could not load AData\n"
       ]
      },
      {
       "output_type": "stream",
       "stream": "stderr",
       "text": [
        "WARNING:sarpy.io.Adata_classes:Need precisely one parameter file *json, found: []\n"
       ]
      },
      {
       "output_type": "stream",
       "stream": "stderr",
       "text": [
        "WARNING:sarpy.io.Adata_classes:Could not load AData\n"
       ]
      },
      {
       "output_type": "stream",
       "stream": "stderr",
       "text": [
        "WARNING:sarpy.io.Adata_classes:Need precisely one parameter file *json, found: []\n"
       ]
      },
      {
       "output_type": "stream",
       "stream": "stderr",
       "text": [
        "WARNING:sarpy.io.Adata_classes:Could not load AData\n"
       ]
      },
      {
       "output_type": "stream",
       "stream": "stderr",
       "text": [
        "WARNING:sarpy.io.Adata_classes:Need precisely one parameter file *json, found: []\n"
       ]
      },
      {
       "output_type": "stream",
       "stream": "stderr",
       "text": [
        "WARNING:sarpy.io.Adata_classes:Could not load AData\n"
       ]
      },
      {
       "output_type": "stream",
       "stream": "stderr",
       "text": [
        "WARNING:sarpy.io.Adata_classes:Need precisely one parameter file *json, found: []\n"
       ]
      },
      {
       "output_type": "stream",
       "stream": "stderr",
       "text": [
        "WARNING:sarpy.io.Adata_classes:Could not load AData\n"
       ]
      },
      {
       "output_type": "stream",
       "stream": "stderr",
       "text": [
        "WARNING:sarpy.io.Adata_classes:Need precisely one parameter file *json, found: []\n"
       ]
      },
      {
       "output_type": "stream",
       "stream": "stderr",
       "text": [
        "WARNING:sarpy.io.Adata_classes:Could not load AData\n"
       ]
      },
      {
       "output_type": "stream",
       "stream": "stderr",
       "text": [
        "WARNING:sarpy.io.Adata_classes:Need precisely one parameter file *json, found: []\n"
       ]
      },
      {
       "output_type": "stream",
       "stream": "stderr",
       "text": [
        "WARNING:sarpy.io.Adata_classes:Could not load AData\n"
       ]
      },
      {
       "output_type": "stream",
       "stream": "stderr",
       "text": [
        "WARNING:sarpy.io.Adata_classes:Need precisely one parameter file *json, found: []\n"
       ]
      },
      {
       "output_type": "stream",
       "stream": "stderr",
       "text": [
        "WARNING:sarpy.io.Adata_classes:Could not load AData\n"
       ]
      },
      {
       "output_type": "stream",
       "stream": "stderr",
       "text": [
        "WARNING:sarpy.io.Adata_classes:Need precisely one parameter file *json, found: []\n"
       ]
      },
      {
       "output_type": "stream",
       "stream": "stderr",
       "text": [
        "WARNING:sarpy.io.Adata_classes:Could not load AData\n"
       ]
      },
      {
       "output_type": "stream",
       "stream": "stderr",
       "text": [
        "WARNING:sarpy.io.Adata_classes:Need precisely one parameter file *json, found: []\n"
       ]
      },
      {
       "output_type": "stream",
       "stream": "stderr",
       "text": [
        "WARNING:sarpy.io.Adata_classes:Could not load AData\n"
       ]
      },
      {
       "output_type": "stream",
       "stream": "stderr",
       "text": [
        "WARNING:sarpy.io.Adata_classes:Need precisely one parameter file *json, found: []\n"
       ]
      },
      {
       "output_type": "stream",
       "stream": "stderr",
       "text": [
        "WARNING:sarpy.io.Adata_classes:Could not load AData\n"
       ]
      },
      {
       "output_type": "stream",
       "stream": "stderr",
       "text": [
        "WARNING:sarpy.io.Adata_classes:Need precisely one parameter file *json, found: []\n"
       ]
      },
      {
       "output_type": "stream",
       "stream": "stderr",
       "text": [
        "WARNING:sarpy.io.Adata_classes:Could not load AData\n"
       ]
      },
      {
       "output_type": "stream",
       "stream": "stderr",
       "text": [
        "WARNING:sarpy.io.Adata_classes:Need precisely one parameter file *json, found: []\n"
       ]
      },
      {
       "output_type": "stream",
       "stream": "stderr",
       "text": [
        "WARNING:sarpy.io.Adata_classes:Could not load AData\n"
       ]
      },
      {
       "output_type": "stream",
       "stream": "stderr",
       "text": [
        "WARNING:sarpy.io.Adata_classes:Need precisely one parameter file *json, found: []\n"
       ]
      },
      {
       "output_type": "stream",
       "stream": "stderr",
       "text": [
        "WARNING:sarpy.io.Adata_classes:Could not load AData\n"
       ]
      },
      {
       "output_type": "stream",
       "stream": "stderr",
       "text": [
        "WARNING:sarpy.io.Adata_classes:Need precisely one parameter file *json, found: []\n"
       ]
      },
      {
       "output_type": "stream",
       "stream": "stderr",
       "text": [
        "WARNING:sarpy.io.Adata_classes:Could not load AData\n"
       ]
      },
      {
       "output_type": "stream",
       "stream": "stderr",
       "text": [
        "WARNING:sarpy.io.Adata_classes:Need precisely one parameter file *json, found: []\n"
       ]
      },
      {
       "output_type": "stream",
       "stream": "stderr",
       "text": [
        "WARNING:sarpy.io.Adata_classes:Could not load AData\n"
       ]
      },
      {
       "output_type": "stream",
       "stream": "stderr",
       "text": [
        "WARNING:sarpy.io.Adata_classes:Need precisely one parameter file *json, found: []\n"
       ]
      },
      {
       "output_type": "stream",
       "stream": "stderr",
       "text": [
        "WARNING:sarpy.io.Adata_classes:Could not load AData\n"
       ]
      },
      {
       "output_type": "stream",
       "stream": "stderr",
       "text": [
        "WARNING:sarpy.io.Adata_classes:Need precisely one parameter file *json, found: []\n"
       ]
      },
      {
       "output_type": "stream",
       "stream": "stderr",
       "text": [
        "WARNING:sarpy.io.Adata_classes:Could not load AData\n"
       ]
      },
      {
       "output_type": "stream",
       "stream": "stderr",
       "text": [
        "WARNING:sarpy.io.Adata_classes:Need precisely one parameter file *json, found: []\n"
       ]
      },
      {
       "output_type": "stream",
       "stream": "stderr",
       "text": [
        "WARNING:sarpy.io.Adata_classes:Could not load AData\n"
       ]
      },
      {
       "output_type": "stream",
       "stream": "stderr",
       "text": [
        "WARNING:sarpy.io.Adata_classes:Need precisely one parameter file *json, found: []\n"
       ]
      },
      {
       "output_type": "stream",
       "stream": "stderr",
       "text": [
        "WARNING:sarpy.io.Adata_classes:Could not load AData\n"
       ]
      },
      {
       "output_type": "stream",
       "stream": "stderr",
       "text": [
        "WARNING:sarpy.io.Adata_classes:Need precisely one parameter file *json, found: []\n"
       ]
      },
      {
       "output_type": "stream",
       "stream": "stderr",
       "text": [
        "WARNING:sarpy.io.Adata_classes:Could not load AData\n"
       ]
      },
      {
       "output_type": "stream",
       "stream": "stderr",
       "text": [
        "WARNING:sarpy.io.Adata_classes:Need precisely one parameter file *json, found: []\n"
       ]
      },
      {
       "output_type": "stream",
       "stream": "stderr",
       "text": [
        "WARNING:sarpy.io.Adata_classes:Could not load AData\n"
       ]
      },
      {
       "output_type": "stream",
       "stream": "stderr",
       "text": [
        "WARNING:sarpy.io.Adata_classes:Need precisely one parameter file *json, found: []\n"
       ]
      },
      {
       "output_type": "stream",
       "stream": "stderr",
       "text": [
        "WARNING:sarpy.io.Adata_classes:Could not load AData\n"
       ]
      },
      {
       "output_type": "stream",
       "stream": "stderr",
       "text": [
        "WARNING:sarpy.io.Adata_classes:Need precisely one parameter file *json, found: []\n"
       ]
      },
      {
       "output_type": "stream",
       "stream": "stderr",
       "text": [
        "WARNING:sarpy.io.Adata_classes:Could not load AData\n"
       ]
      },
      {
       "output_type": "stream",
       "stream": "stderr",
       "text": [
        "WARNING:sarpy.io.Adata_classes:Need precisely one parameter file *json, found: []\n"
       ]
      },
      {
       "output_type": "stream",
       "stream": "stderr",
       "text": [
        "WARNING:sarpy.io.Adata_classes:Could not load AData\n"
       ]
      },
      {
       "output_type": "stream",
       "stream": "stderr",
       "text": [
        "WARNING:sarpy.io.Adata_classes:Need precisely one parameter file *json, found: []\n"
       ]
      },
      {
       "output_type": "stream",
       "stream": "stderr",
       "text": [
        "WARNING:sarpy.io.Adata_classes:Could not load AData\n"
       ]
      },
      {
       "output_type": "stream",
       "stream": "stderr",
       "text": [
        "WARNING:sarpy.io.Adata_classes:Need precisely one parameter file *json, found: []\n"
       ]
      },
      {
       "output_type": "stream",
       "stream": "stderr",
       "text": [
        "WARNING:sarpy.io.Adata_classes:Could not load AData\n"
       ]
      },
      {
       "output_type": "stream",
       "stream": "stderr",
       "text": [
        "WARNING:sarpy.io.Adata_classes:Need precisely one parameter file *json, found: []\n"
       ]
      },
      {
       "output_type": "stream",
       "stream": "stderr",
       "text": [
        "WARNING:sarpy.io.Adata_classes:Could not load AData\n"
       ]
      },
      {
       "output_type": "stream",
       "stream": "stderr",
       "text": [
        "WARNING:sarpy.io.Adata_classes:Need precisely one parameter file *json, found: []\n"
       ]
      },
      {
       "output_type": "stream",
       "stream": "stderr",
       "text": [
        "WARNING:sarpy.io.Adata_classes:Could not load AData\n"
       ]
      },
      {
       "output_type": "stream",
       "stream": "stderr",
       "text": [
        "WARNING:sarpy.io.Adata_classes:Need precisely one parameter file *json, found: []\n"
       ]
      },
      {
       "output_type": "stream",
       "stream": "stderr",
       "text": [
        "WARNING:sarpy.io.Adata_classes:Could not load AData\n"
       ]
      },
      {
       "output_type": "stream",
       "stream": "stderr",
       "text": [
        "WARNING:sarpy.io.Adata_classes:Need precisely one parameter file *json, found: []\n"
       ]
      },
      {
       "output_type": "stream",
       "stream": "stderr",
       "text": [
        "WARNING:sarpy.io.Adata_classes:Could not load AData\n"
       ]
      },
      {
       "output_type": "stream",
       "stream": "stderr",
       "text": [
        "WARNING:sarpy.io.Adata_classes:Need precisely one parameter file *json, found: []\n"
       ]
      },
      {
       "output_type": "stream",
       "stream": "stderr",
       "text": [
        "WARNING:sarpy.io.Adata_classes:Could not load AData\n"
       ]
      },
      {
       "output_type": "stream",
       "stream": "stderr",
       "text": [
        "WARNING:sarpy.io.Adata_classes:Need precisely one parameter file *json, found: []\n"
       ]
      },
      {
       "output_type": "stream",
       "stream": "stderr",
       "text": [
        "WARNING:sarpy.io.Adata_classes:Could not load AData\n"
       ]
      },
      {
       "output_type": "stream",
       "stream": "stderr",
       "text": [
        "WARNING:sarpy.io.Adata_classes:Need precisely one parameter file *json, found: []\n"
       ]
      },
      {
       "output_type": "stream",
       "stream": "stderr",
       "text": [
        "WARNING:sarpy.io.Adata_classes:Could not load AData\n"
       ]
      },
      {
       "output_type": "stream",
       "stream": "stderr",
       "text": [
        "WARNING:sarpy.io.Adata_classes:Need precisely one parameter file *json, found: []\n"
       ]
      },
      {
       "output_type": "stream",
       "stream": "stderr",
       "text": [
        "WARNING:sarpy.io.Adata_classes:Could not load AData\n"
       ]
      },
      {
       "output_type": "stream",
       "stream": "stderr",
       "text": [
        "WARNING:sarpy.io.Adata_classes:Need precisely one parameter file *json, found: []\n"
       ]
      },
      {
       "output_type": "stream",
       "stream": "stderr",
       "text": [
        "WARNING:sarpy.io.Adata_classes:Could not load AData\n"
       ]
      },
      {
       "output_type": "stream",
       "stream": "stderr",
       "text": [
        "WARNING:sarpy.io.Adata_classes:Need precisely one parameter file *json, found: []\n"
       ]
      },
      {
       "output_type": "stream",
       "stream": "stderr",
       "text": [
        "WARNING:sarpy.io.Adata_classes:Could not load AData\n"
       ]
      },
      {
       "output_type": "stream",
       "stream": "stderr",
       "text": [
        "WARNING:sarpy.io.Adata_classes:Need precisely one parameter file *json, found: []\n"
       ]
      },
      {
       "output_type": "stream",
       "stream": "stderr",
       "text": [
        "WARNING:sarpy.io.Adata_classes:Could not load AData\n"
       ]
      },
      {
       "output_type": "stream",
       "stream": "stderr",
       "text": [
        "WARNING:sarpy.io.Adata_classes:Need precisely one parameter file *json, found: []\n"
       ]
      },
      {
       "output_type": "stream",
       "stream": "stderr",
       "text": [
        "WARNING:sarpy.io.Adata_classes:Could not load AData\n"
       ]
      },
      {
       "output_type": "stream",
       "stream": "stderr",
       "text": [
        "WARNING:sarpy.io.Adata_classes:Need precisely one parameter file *json, found: []\n"
       ]
      },
      {
       "output_type": "stream",
       "stream": "stderr",
       "text": [
        "WARNING:sarpy.io.Adata_classes:Could not load AData\n"
       ]
      },
      {
       "output_type": "stream",
       "stream": "stderr",
       "text": [
        "WARNING:sarpy.io.Adata_classes:Need precisely one parameter file *json, found: []\n"
       ]
      },
      {
       "output_type": "stream",
       "stream": "stderr",
       "text": [
        "WARNING:sarpy.io.Adata_classes:Could not load AData\n"
       ]
      },
      {
       "output_type": "stream",
       "stream": "stderr",
       "text": [
        "WARNING:sarpy.io.Adata_classes:Need precisely one parameter file *json, found: []\n"
       ]
      },
      {
       "output_type": "stream",
       "stream": "stderr",
       "text": [
        "WARNING:sarpy.io.Adata_classes:Could not load AData\n"
       ]
      },
      {
       "output_type": "stream",
       "stream": "stderr",
       "text": [
        "WARNING:sarpy.io.Adata_classes:Need precisely one parameter file *json, found: []\n"
       ]
      },
      {
       "output_type": "stream",
       "stream": "stderr",
       "text": [
        "WARNING:sarpy.io.Adata_classes:Could not load AData\n"
       ]
      },
      {
       "output_type": "stream",
       "stream": "stderr",
       "text": [
        "WARNING:sarpy.io.Adata_classes:Need precisely one parameter file *json, found: []\n"
       ]
      },
      {
       "output_type": "stream",
       "stream": "stderr",
       "text": [
        "WARNING:sarpy.io.Adata_classes:Could not load AData\n"
       ]
      },
      {
       "output_type": "stream",
       "stream": "stderr",
       "text": [
        "WARNING:sarpy.io.Adata_classes:Need precisely one parameter file *json, found: []\n"
       ]
      },
      {
       "output_type": "stream",
       "stream": "stderr",
       "text": [
        "WARNING:sarpy.io.Adata_classes:Could not load AData\n"
       ]
      },
      {
       "output_type": "stream",
       "stream": "stderr",
       "text": [
        "WARNING:sarpy.io.Adata_classes:Need precisely one parameter file *json, found: []\n"
       ]
      },
      {
       "output_type": "stream",
       "stream": "stderr",
       "text": [
        "WARNING:sarpy.io.Adata_classes:Could not load AData\n"
       ]
      },
      {
       "output_type": "stream",
       "stream": "stderr",
       "text": [
        "WARNING:sarpy.io.Adata_classes:Need precisely one parameter file *json, found: []\n"
       ]
      },
      {
       "output_type": "stream",
       "stream": "stderr",
       "text": [
        "WARNING:sarpy.io.Adata_classes:Could not load AData\n"
       ]
      },
      {
       "output_type": "stream",
       "stream": "stderr",
       "text": [
        "WARNING:sarpy.io.Adata_classes:Need precisely one parameter file *json, found: []\n"
       ]
      },
      {
       "output_type": "stream",
       "stream": "stderr",
       "text": [
        "WARNING:sarpy.io.Adata_classes:Could not load AData\n"
       ]
      },
      {
       "output_type": "stream",
       "stream": "stderr",
       "text": [
        "WARNING:sarpy.io.Adata_classes:Need precisely one parameter file *json, found: []\n"
       ]
      },
      {
       "output_type": "stream",
       "stream": "stderr",
       "text": [
        "WARNING:sarpy.io.Adata_classes:Could not load AData\n"
       ]
      },
      {
       "output_type": "stream",
       "stream": "stderr",
       "text": [
        "WARNING:sarpy.io.Adata_classes:Need precisely one parameter file *json, found: []\n"
       ]
      },
      {
       "output_type": "stream",
       "stream": "stderr",
       "text": [
        "WARNING:sarpy.io.Adata_classes:Could not load AData\n"
       ]
      },
      {
       "output_type": "stream",
       "stream": "stderr",
       "text": [
        "WARNING:sarpy.io.Adata_classes:Need precisely one parameter file *json, found: []\n"
       ]
      },
      {
       "output_type": "stream",
       "stream": "stderr",
       "text": [
        "WARNING:sarpy.io.Adata_classes:Could not load AData\n"
       ]
      },
      {
       "output_type": "stream",
       "stream": "stderr",
       "text": [
        "WARNING:sarpy.io.Adata_classes:Need precisely one parameter file *json, found: []\n"
       ]
      },
      {
       "output_type": "stream",
       "stream": "stderr",
       "text": [
        "WARNING:sarpy.io.Adata_classes:Could not load AData\n"
       ]
      },
      {
       "output_type": "stream",
       "stream": "stderr",
       "text": [
        "WARNING:sarpy.io.Adata_classes:Need precisely one parameter file *json, found: []\n"
       ]
      },
      {
       "output_type": "stream",
       "stream": "stderr",
       "text": [
        "WARNING:sarpy.io.Adata_classes:Could not load AData\n"
       ]
      },
      {
       "output_type": "stream",
       "stream": "stderr",
       "text": [
        "WARNING:sarpy.io.Adata_classes:Need precisely one parameter file *json, found: []\n"
       ]
      },
      {
       "output_type": "stream",
       "stream": "stderr",
       "text": [
        "WARNING:sarpy.io.Adata_classes:Could not load AData\n"
       ]
      },
      {
       "output_type": "stream",
       "stream": "stderr",
       "text": [
        "WARNING:sarpy.io.Adata_classes:Need precisely one parameter file *json, found: []\n"
       ]
      },
      {
       "output_type": "stream",
       "stream": "stderr",
       "text": [
        "WARNING:sarpy.io.Adata_classes:Could not load AData\n"
       ]
      },
      {
       "output_type": "stream",
       "stream": "stderr",
       "text": [
        "WARNING:sarpy.io.Adata_classes:Need precisely one parameter file *json, found: []\n"
       ]
      },
      {
       "output_type": "stream",
       "stream": "stderr",
       "text": [
        "WARNING:sarpy.io.Adata_classes:Could not load AData\n"
       ]
      },
      {
       "output_type": "stream",
       "stream": "stderr",
       "text": [
        "WARNING:sarpy.io.Adata_classes:Need precisely one parameter file *json, found: []\n"
       ]
      },
      {
       "output_type": "stream",
       "stream": "stderr",
       "text": [
        "WARNING:sarpy.io.Adata_classes:Could not load AData\n"
       ]
      },
      {
       "output_type": "stream",
       "stream": "stderr",
       "text": [
        "WARNING:sarpy.io.Adata_classes:Need precisely one parameter file *json, found: []\n"
       ]
      },
      {
       "output_type": "stream",
       "stream": "stderr",
       "text": [
        "WARNING:sarpy.io.Adata_classes:Could not load AData\n"
       ]
      },
      {
       "output_type": "stream",
       "stream": "stderr",
       "text": [
        "WARNING:sarpy.io.Adata_classes:Need precisely one parameter file *json, found: []\n"
       ]
      },
      {
       "output_type": "stream",
       "stream": "stderr",
       "text": [
        "WARNING:sarpy.io.Adata_classes:Could not load AData\n"
       ]
      },
      {
       "output_type": "stream",
       "stream": "stderr",
       "text": [
        "WARNING:sarpy.io.Adata_classes:Need precisely one parameter file *json, found: []\n"
       ]
      },
      {
       "output_type": "stream",
       "stream": "stderr",
       "text": [
        "WARNING:sarpy.io.Adata_classes:Could not load AData\n"
       ]
      },
      {
       "output_type": "stream",
       "stream": "stderr",
       "text": [
        "WARNING:sarpy.io.Adata_classes:Need precisely one parameter file *json, found: []\n"
       ]
      },
      {
       "output_type": "stream",
       "stream": "stderr",
       "text": [
        "WARNING:sarpy.io.Adata_classes:Could not load AData\n"
       ]
      },
      {
       "output_type": "stream",
       "stream": "stderr",
       "text": [
        "WARNING:sarpy.io.Adata_classes:Need precisely one parameter file *json, found: []\n"
       ]
      },
      {
       "output_type": "stream",
       "stream": "stderr",
       "text": [
        "WARNING:sarpy.io.Adata_classes:Could not load AData\n"
       ]
      },
      {
       "output_type": "stream",
       "stream": "stderr",
       "text": [
        "WARNING:sarpy.io.Adata_classes:Need precisely one parameter file *json, found: []\n"
       ]
      },
      {
       "output_type": "stream",
       "stream": "stderr",
       "text": [
        "WARNING:sarpy.io.Adata_classes:Could not load AData\n"
       ]
      },
      {
       "output_type": "stream",
       "stream": "stderr",
       "text": [
        "WARNING:sarpy.io.Adata_classes:Need precisely one parameter file *json, found: []\n"
       ]
      },
      {
       "output_type": "stream",
       "stream": "stderr",
       "text": [
        "WARNING:sarpy.io.Adata_classes:Could not load AData\n"
       ]
      },
      {
       "output_type": "stream",
       "stream": "stderr",
       "text": [
        "WARNING:sarpy.io.Adata_classes:Need precisely one parameter file *json, found: []\n"
       ]
      },
      {
       "output_type": "stream",
       "stream": "stderr",
       "text": [
        "WARNING:sarpy.io.Adata_classes:Could not load AData\n"
       ]
      },
      {
       "output_type": "stream",
       "stream": "stderr",
       "text": [
        "WARNING:sarpy.io.Adata_classes:Need precisely one parameter file *json, found: []\n"
       ]
      },
      {
       "output_type": "stream",
       "stream": "stderr",
       "text": [
        "WARNING:sarpy.io.Adata_classes:Could not load AData\n"
       ]
      },
      {
       "output_type": "stream",
       "stream": "stderr",
       "text": [
        "WARNING:sarpy.io.Adata_classes:Need precisely one parameter file *json, found: []\n"
       ]
      },
      {
       "output_type": "stream",
       "stream": "stderr",
       "text": [
        "WARNING:sarpy.io.Adata_classes:Could not load AData\n"
       ]
      },
      {
       "output_type": "stream",
       "stream": "stderr",
       "text": [
        "WARNING:sarpy.io.Adata_classes:Need precisely one parameter file *json, found: []\n"
       ]
      },
      {
       "output_type": "stream",
       "stream": "stderr",
       "text": [
        "WARNING:sarpy.io.Adata_classes:Could not load AData\n"
       ]
      },
      {
       "output_type": "stream",
       "stream": "stderr",
       "text": [
        "WARNING:sarpy.io.Adata_classes:Need precisely one parameter file *json, found: []\n"
       ]
      },
      {
       "output_type": "stream",
       "stream": "stderr",
       "text": [
        "WARNING:sarpy.io.Adata_classes:Could not load AData\n"
       ]
      },
      {
       "output_type": "stream",
       "stream": "stderr",
       "text": [
        "WARNING:sarpy.io.Adata_classes:Need precisely one parameter file *json, found: []\n"
       ]
      },
      {
       "output_type": "stream",
       "stream": "stderr",
       "text": [
        "WARNING:sarpy.io.Adata_classes:Could not load AData\n"
       ]
      },
      {
       "output_type": "stream",
       "stream": "stderr",
       "text": [
        "WARNING:sarpy.io.Adata_classes:Need precisely one parameter file *json, found: []\n"
       ]
      },
      {
       "output_type": "stream",
       "stream": "stderr",
       "text": [
        "WARNING:sarpy.io.Adata_classes:Could not load AData\n"
       ]
      },
      {
       "output_type": "stream",
       "stream": "stderr",
       "text": [
        "WARNING:sarpy.io.Adata_classes:Need precisely one parameter file *json, found: []\n"
       ]
      },
      {
       "output_type": "stream",
       "stream": "stderr",
       "text": [
        "WARNING:sarpy.io.Adata_classes:Could not load AData\n"
       ]
      },
      {
       "output_type": "stream",
       "stream": "stderr",
       "text": [
        "WARNING:sarpy.io.Adata_classes:Need precisely one parameter file *json, found: []\n"
       ]
      },
      {
       "output_type": "stream",
       "stream": "stderr",
       "text": [
        "WARNING:sarpy.io.Adata_classes:Could not load AData\n"
       ]
      },
      {
       "output_type": "stream",
       "stream": "stderr",
       "text": [
        "WARNING:sarpy.io.Adata_classes:Need precisely one parameter file *json, found: []\n"
       ]
      },
      {
       "output_type": "stream",
       "stream": "stderr",
       "text": [
        "WARNING:sarpy.io.Adata_classes:Could not load AData\n"
       ]
      },
      {
       "output_type": "stream",
       "stream": "stderr",
       "text": [
        "WARNING:sarpy.io.Adata_classes:Need precisely one parameter file *json, found: []\n"
       ]
      },
      {
       "output_type": "stream",
       "stream": "stderr",
       "text": [
        "WARNING:sarpy.io.Adata_classes:Could not load AData\n"
       ]
      },
      {
       "output_type": "stream",
       "stream": "stderr",
       "text": [
        "WARNING:sarpy.io.Adata_classes:Need precisely one parameter file *json, found: []\n"
       ]
      },
      {
       "output_type": "stream",
       "stream": "stderr",
       "text": [
        "WARNING:sarpy.io.Adata_classes:Could not load AData\n"
       ]
      },
      {
       "output_type": "stream",
       "stream": "stderr",
       "text": [
        "WARNING:sarpy.io.Adata_classes:Need precisely one parameter file *json, found: []\n"
       ]
      },
      {
       "output_type": "stream",
       "stream": "stderr",
       "text": [
        "WARNING:sarpy.io.Adata_classes:Could not load AData\n"
       ]
      },
      {
       "output_type": "stream",
       "stream": "stderr",
       "text": [
        "WARNING:sarpy.io.Adata_classes:Need precisely one parameter file *json, found: []\n"
       ]
      },
      {
       "output_type": "stream",
       "stream": "stderr",
       "text": [
        "WARNING:sarpy.io.Adata_classes:Could not load AData\n"
       ]
      },
      {
       "output_type": "stream",
       "stream": "stderr",
       "text": [
        "WARNING:sarpy.io.Adata_classes:Need precisely one parameter file *json, found: []\n"
       ]
      },
      {
       "output_type": "stream",
       "stream": "stderr",
       "text": [
        "WARNING:sarpy.io.Adata_classes:Could not load AData\n"
       ]
      },
      {
       "output_type": "stream",
       "stream": "stderr",
       "text": [
        "WARNING:sarpy.io.Adata_classes:Need precisely one parameter file *json, found: []\n"
       ]
      },
      {
       "output_type": "stream",
       "stream": "stderr",
       "text": [
        "WARNING:sarpy.io.Adata_classes:Could not load AData\n"
       ]
      },
      {
       "output_type": "stream",
       "stream": "stderr",
       "text": [
        "WARNING:sarpy.io.Adata_classes:Need precisely one parameter file *json, found: []\n"
       ]
      },
      {
       "output_type": "stream",
       "stream": "stderr",
       "text": [
        "WARNING:sarpy.io.Adata_classes:Could not load AData\n"
       ]
      },
      {
       "output_type": "stream",
       "stream": "stderr",
       "text": [
        "WARNING:sarpy.io.Adata_classes:Need precisely one parameter file *json, found: []\n"
       ]
      },
      {
       "output_type": "stream",
       "stream": "stderr",
       "text": [
        "WARNING:sarpy.io.Adata_classes:Could not load AData\n"
       ]
      },
      {
       "output_type": "stream",
       "stream": "stderr",
       "text": [
        "WARNING:sarpy.io.Adata_classes:Need precisely one parameter file *json, found: []\n"
       ]
      },
      {
       "output_type": "stream",
       "stream": "stderr",
       "text": [
        "WARNING:sarpy.io.Adata_classes:Could not load AData\n"
       ]
      },
      {
       "output_type": "stream",
       "stream": "stderr",
       "text": [
        "WARNING:sarpy.io.Adata_classes:Need precisely one parameter file *json, found: []\n"
       ]
      },
      {
       "output_type": "stream",
       "stream": "stderr",
       "text": [
        "WARNING:sarpy.io.Adata_classes:Could not load AData\n"
       ]
      },
      {
       "output_type": "stream",
       "stream": "stderr",
       "text": [
        "WARNING:sarpy.io.Adata_classes:Need precisely one parameter file *json, found: []\n"
       ]
      },
      {
       "output_type": "stream",
       "stream": "stderr",
       "text": [
        "WARNING:sarpy.io.Adata_classes:Could not load AData\n"
       ]
      },
      {
       "output_type": "stream",
       "stream": "stderr",
       "text": [
        "WARNING:sarpy.io.Adata_classes:Need precisely one parameter file *json, found: []\n"
       ]
      },
      {
       "output_type": "stream",
       "stream": "stderr",
       "text": [
        "WARNING:sarpy.io.Adata_classes:Could not load AData\n"
       ]
      },
      {
       "output_type": "stream",
       "stream": "stderr",
       "text": [
        "WARNING:sarpy.io.Adata_classes:Need precisely one parameter file *json, found: []\n"
       ]
      },
      {
       "output_type": "stream",
       "stream": "stderr",
       "text": [
        "WARNING:sarpy.io.Adata_classes:Could not load AData\n"
       ]
      },
      {
       "output_type": "stream",
       "stream": "stderr",
       "text": [
        "WARNING:sarpy.io.Adata_classes:Need precisely one parameter file *json, found: []\n"
       ]
      },
      {
       "output_type": "stream",
       "stream": "stderr",
       "text": [
        "WARNING:sarpy.io.Adata_classes:Could not load AData\n"
       ]
      },
      {
       "output_type": "stream",
       "stream": "stderr",
       "text": [
        "WARNING:sarpy.io.Adata_classes:Need precisely one parameter file *json, found: []\n"
       ]
      },
      {
       "output_type": "stream",
       "stream": "stderr",
       "text": [
        "WARNING:sarpy.io.Adata_classes:Could not load AData\n"
       ]
      },
      {
       "output_type": "stream",
       "stream": "stderr",
       "text": [
        "WARNING:sarpy.io.Adata_classes:Need precisely one parameter file *json, found: []\n"
       ]
      },
      {
       "output_type": "stream",
       "stream": "stderr",
       "text": [
        "WARNING:sarpy.io.Adata_classes:Could not load AData\n"
       ]
      },
      {
       "output_type": "stream",
       "stream": "stderr",
       "text": [
        "WARNING:sarpy.io.Adata_classes:Need precisely one parameter file *json, found: []\n"
       ]
      },
      {
       "output_type": "stream",
       "stream": "stderr",
       "text": [
        "WARNING:sarpy.io.Adata_classes:Could not load AData\n"
       ]
      },
      {
       "output_type": "stream",
       "stream": "stderr",
       "text": [
        "WARNING:sarpy.io.Adata_classes:Need precisely one parameter file *json, found: []\n"
       ]
      },
      {
       "output_type": "stream",
       "stream": "stderr",
       "text": [
        "WARNING:sarpy.io.Adata_classes:Could not load AData\n"
       ]
      },
      {
       "output_type": "stream",
       "stream": "stderr",
       "text": [
        "WARNING:sarpy.io.Adata_classes:Need precisely one parameter file *json, found: []\n"
       ]
      },
      {
       "output_type": "stream",
       "stream": "stderr",
       "text": [
        "WARNING:sarpy.io.Adata_classes:Could not load AData\n"
       ]
      },
      {
       "output_type": "stream",
       "stream": "stderr",
       "text": [
        "WARNING:sarpy.io.Adata_classes:Need precisely one parameter file *json, found: []\n"
       ]
      },
      {
       "output_type": "stream",
       "stream": "stderr",
       "text": [
        "WARNING:sarpy.io.Adata_classes:Could not load AData\n"
       ]
      },
      {
       "output_type": "stream",
       "stream": "stderr",
       "text": [
        "WARNING:sarpy.io.Adata_classes:Need precisely one parameter file *json, found: []\n"
       ]
      },
      {
       "output_type": "stream",
       "stream": "stderr",
       "text": [
        "WARNING:sarpy.io.Adata_classes:Could not load AData\n"
       ]
      },
      {
       "output_type": "stream",
       "stream": "stderr",
       "text": [
        "WARNING:sarpy.io.Adata_classes:Need precisely one parameter file *json, found: []\n"
       ]
      },
      {
       "output_type": "stream",
       "stream": "stderr",
       "text": [
        "WARNING:sarpy.io.Adata_classes:Could not load AData\n"
       ]
      },
      {
       "output_type": "stream",
       "stream": "stderr",
       "text": [
        "WARNING:sarpy.io.Adata_classes:Need precisely one parameter file *json, found: []\n"
       ]
      },
      {
       "output_type": "stream",
       "stream": "stderr",
       "text": [
        "WARNING:sarpy.io.Adata_classes:Could not load AData\n"
       ]
      },
      {
       "output_type": "stream",
       "stream": "stderr",
       "text": [
        "WARNING:sarpy.io.Adata_classes:Need precisely one parameter file *json, found: []\n"
       ]
      },
      {
       "output_type": "stream",
       "stream": "stderr",
       "text": [
        "WARNING:sarpy.io.Adata_classes:Could not load AData\n"
       ]
      },
      {
       "output_type": "stream",
       "stream": "stderr",
       "text": [
        "WARNING:sarpy.io.Adata_classes:Need precisely one parameter file *json, found: []\n"
       ]
      },
      {
       "output_type": "stream",
       "stream": "stderr",
       "text": [
        "WARNING:sarpy.io.Adata_classes:Could not load AData\n"
       ]
      },
      {
       "output_type": "stream",
       "stream": "stderr",
       "text": [
        "WARNING:sarpy.io.Adata_classes:Need precisely one parameter file *json, found: []\n"
       ]
      },
      {
       "output_type": "stream",
       "stream": "stderr",
       "text": [
        "WARNING:sarpy.io.Adata_classes:Could not load AData\n"
       ]
      },
      {
       "output_type": "stream",
       "stream": "stderr",
       "text": [
        "WARNING:sarpy.io.Adata_classes:Need precisely one parameter file *json, found: []\n"
       ]
      },
      {
       "output_type": "stream",
       "stream": "stderr",
       "text": [
        "WARNING:sarpy.io.Adata_classes:Could not load AData\n"
       ]
      },
      {
       "output_type": "stream",
       "stream": "stderr",
       "text": [
        "WARNING:sarpy.io.Adata_classes:Need precisely one parameter file *json, found: []\n"
       ]
      },
      {
       "output_type": "stream",
       "stream": "stderr",
       "text": [
        "WARNING:sarpy.io.Adata_classes:Could not load AData\n"
       ]
      },
      {
       "output_type": "stream",
       "stream": "stderr",
       "text": [
        "WARNING:sarpy.io.Adata_classes:Need precisely one parameter file *json, found: []\n"
       ]
      },
      {
       "output_type": "stream",
       "stream": "stderr",
       "text": [
        "WARNING:sarpy.io.Adata_classes:Could not load AData\n"
       ]
      },
      {
       "output_type": "stream",
       "stream": "stderr",
       "text": [
        "WARNING:sarpy.io.Adata_classes:Need precisely one parameter file *json, found: []\n"
       ]
      },
      {
       "output_type": "stream",
       "stream": "stderr",
       "text": [
        "WARNING:sarpy.io.Adata_classes:Could not load AData\n"
       ]
      },
      {
       "output_type": "stream",
       "stream": "stderr",
       "text": [
        "WARNING:sarpy.io.Adata_classes:Need precisely one parameter file *json, found: []\n"
       ]
      },
      {
       "output_type": "stream",
       "stream": "stderr",
       "text": [
        "WARNING:sarpy.io.Adata_classes:Could not load AData\n"
       ]
      },
      {
       "output_type": "stream",
       "stream": "stderr",
       "text": [
        "WARNING:sarpy.io.Adata_classes:Need precisely one parameter file *json, found: []\n"
       ]
      },
      {
       "output_type": "stream",
       "stream": "stderr",
       "text": [
        "WARNING:sarpy.io.Adata_classes:Could not load AData\n"
       ]
      },
      {
       "output_type": "stream",
       "stream": "stderr",
       "text": [
        "WARNING:sarpy.io.Adata_classes:Need precisely one parameter file *json, found: []\n"
       ]
      },
      {
       "output_type": "stream",
       "stream": "stderr",
       "text": [
        "WARNING:sarpy.io.Adata_classes:Could not load AData\n"
       ]
      },
      {
       "output_type": "stream",
       "stream": "stderr",
       "text": [
        "WARNING:sarpy.io.Adata_classes:Need precisely one parameter file *json, found: []\n"
       ]
      },
      {
       "output_type": "stream",
       "stream": "stderr",
       "text": [
        "WARNING:sarpy.io.Adata_classes:Could not load AData\n"
       ]
      },
      {
       "output_type": "stream",
       "stream": "stderr",
       "text": [
        "WARNING:sarpy.io.Adata_classes:Need precisely one parameter file *json, found: []\n"
       ]
      },
      {
       "output_type": "stream",
       "stream": "stderr",
       "text": [
        "WARNING:sarpy.io.Adata_classes:Could not load AData\n"
       ]
      },
      {
       "output_type": "stream",
       "stream": "stderr",
       "text": [
        "WARNING:sarpy.io.Adata_classes:Need precisely one parameter file *json, found: []\n"
       ]
      },
      {
       "output_type": "stream",
       "stream": "stderr",
       "text": [
        "WARNING:sarpy.io.Adata_classes:Could not load AData\n"
       ]
      },
      {
       "output_type": "stream",
       "stream": "stderr",
       "text": [
        "WARNING:sarpy.io.Adata_classes:Need precisely one parameter file *json, found: []\n"
       ]
      },
      {
       "output_type": "stream",
       "stream": "stderr",
       "text": [
        "WARNING:sarpy.io.Adata_classes:Could not load AData\n"
       ]
      },
      {
       "output_type": "stream",
       "stream": "stderr",
       "text": [
        "WARNING:sarpy.io.Adata_classes:Need precisely one parameter file *json, found: []\n"
       ]
      },
      {
       "output_type": "stream",
       "stream": "stderr",
       "text": [
        "WARNING:sarpy.io.Adata_classes:Could not load AData\n"
       ]
      },
      {
       "output_type": "stream",
       "stream": "stderr",
       "text": [
        "WARNING:sarpy.io.Adata_classes:Need precisely one parameter file *json, found: []\n"
       ]
      },
      {
       "output_type": "stream",
       "stream": "stderr",
       "text": [
        "WARNING:sarpy.io.Adata_classes:Could not load AData\n"
       ]
      },
      {
       "output_type": "stream",
       "stream": "stderr",
       "text": [
        "WARNING:sarpy.io.Adata_classes:Need precisely one parameter file *json, found: []\n"
       ]
      },
      {
       "output_type": "stream",
       "stream": "stderr",
       "text": [
        "WARNING:sarpy.io.Adata_classes:Could not load AData\n"
       ]
      },
      {
       "output_type": "stream",
       "stream": "stderr",
       "text": [
        "WARNING:sarpy.io.Adata_classes:Need precisely one parameter file *json, found: []\n"
       ]
      },
      {
       "output_type": "stream",
       "stream": "stderr",
       "text": [
        "WARNING:sarpy.io.Adata_classes:Could not load AData\n"
       ]
      },
      {
       "output_type": "stream",
       "stream": "stderr",
       "text": [
        "WARNING:sarpy.io.Adata_classes:Need precisely one parameter file *json, found: []\n"
       ]
      },
      {
       "output_type": "stream",
       "stream": "stderr",
       "text": [
        "WARNING:sarpy.io.Adata_classes:Could not load AData\n"
       ]
      },
      {
       "output_type": "stream",
       "stream": "stderr",
       "text": [
        "WARNING:sarpy.io.Adata_classes:Need precisely one parameter file *json, found: []\n"
       ]
      },
      {
       "output_type": "stream",
       "stream": "stderr",
       "text": [
        "WARNING:sarpy.io.Adata_classes:Could not load AData\n"
       ]
      },
      {
       "output_type": "stream",
       "stream": "stderr",
       "text": [
        "WARNING:sarpy.io.Adata_classes:Need precisely one parameter file *json, found: []\n"
       ]
      },
      {
       "output_type": "stream",
       "stream": "stderr",
       "text": [
        "WARNING:sarpy.io.Adata_classes:Could not load AData\n"
       ]
      },
      {
       "output_type": "stream",
       "stream": "stderr",
       "text": [
        "WARNING:sarpy.io.Adata_classes:Need precisely one parameter file *json, found: []\n"
       ]
      },
      {
       "output_type": "stream",
       "stream": "stderr",
       "text": [
        "WARNING:sarpy.io.Adata_classes:Could not load AData\n"
       ]
      },
      {
       "output_type": "stream",
       "stream": "stderr",
       "text": [
        "WARNING:sarpy.io.Adata_classes:Need precisely one parameter file *json, found: []\n"
       ]
      },
      {
       "output_type": "stream",
       "stream": "stderr",
       "text": [
        "WARNING:sarpy.io.Adata_classes:Could not load AData\n"
       ]
      },
      {
       "output_type": "stream",
       "stream": "stderr",
       "text": [
        "WARNING:sarpy.io.Adata_classes:Need precisely one parameter file *json, found: []\n"
       ]
      },
      {
       "output_type": "stream",
       "stream": "stderr",
       "text": [
        "WARNING:sarpy.io.Adata_classes:Could not load AData\n"
       ]
      },
      {
       "output_type": "stream",
       "stream": "stderr",
       "text": [
        "WARNING:sarpy.io.Adata_classes:Need precisely one parameter file *json, found: []\n"
       ]
      },
      {
       "output_type": "stream",
       "stream": "stderr",
       "text": [
        "WARNING:sarpy.io.Adata_classes:Could not load AData\n"
       ]
      },
      {
       "output_type": "stream",
       "stream": "stderr",
       "text": [
        "WARNING:sarpy.io.Adata_classes:Need precisely one parameter file *json, found: []\n"
       ]
      },
      {
       "output_type": "stream",
       "stream": "stderr",
       "text": [
        "WARNING:sarpy.io.Adata_classes:Could not load AData\n"
       ]
      },
      {
       "output_type": "stream",
       "stream": "stderr",
       "text": [
        "WARNING:sarpy.io.Adata_classes:Need precisely one parameter file *json, found: []\n"
       ]
      },
      {
       "output_type": "stream",
       "stream": "stderr",
       "text": [
        "WARNING:sarpy.io.Adata_classes:Could not load AData\n"
       ]
      },
      {
       "output_type": "stream",
       "stream": "stderr",
       "text": [
        "WARNING:sarpy.io.Adata_classes:Need precisely one parameter file *json, found: []\n"
       ]
      },
      {
       "output_type": "stream",
       "stream": "stderr",
       "text": [
        "WARNING:sarpy.io.Adata_classes:Could not load AData\n"
       ]
      },
      {
       "output_type": "stream",
       "stream": "stderr",
       "text": [
        "WARNING:sarpy.io.Adata_classes:Need precisely one parameter file *json, found: []\n"
       ]
      },
      {
       "output_type": "stream",
       "stream": "stderr",
       "text": [
        "WARNING:sarpy.io.Adata_classes:Could not load AData\n"
       ]
      },
      {
       "output_type": "stream",
       "stream": "stderr",
       "text": [
        "WARNING:sarpy.io.Adata_classes:Need precisely one parameter file *json, found: []\n"
       ]
      },
      {
       "output_type": "stream",
       "stream": "stderr",
       "text": [
        "WARNING:sarpy.io.Adata_classes:Could not load AData\n"
       ]
      },
      {
       "output_type": "stream",
       "stream": "stderr",
       "text": [
        "WARNING:sarpy.io.Adata_classes:Need precisely one parameter file *json, found: []\n"
       ]
      },
      {
       "output_type": "stream",
       "stream": "stderr",
       "text": [
        "WARNING:sarpy.io.Adata_classes:Could not load AData\n"
       ]
      },
      {
       "output_type": "stream",
       "stream": "stderr",
       "text": [
        "WARNING:sarpy.io.Adata_classes:Need precisely one parameter file *json, found: []\n"
       ]
      },
      {
       "output_type": "stream",
       "stream": "stderr",
       "text": [
        "WARNING:sarpy.io.Adata_classes:Could not load AData\n"
       ]
      },
      {
       "output_type": "stream",
       "stream": "stderr",
       "text": [
        "WARNING:sarpy.io.Adata_classes:Need precisely one parameter file *json, found: []\n"
       ]
      },
      {
       "output_type": "stream",
       "stream": "stderr",
       "text": [
        "WARNING:sarpy.io.Adata_classes:Could not load AData\n"
       ]
      },
      {
       "output_type": "stream",
       "stream": "stderr",
       "text": [
        "WARNING:sarpy.io.Adata_classes:Need precisely one parameter file *json, found: []\n"
       ]
      },
      {
       "output_type": "stream",
       "stream": "stderr",
       "text": [
        "WARNING:sarpy.io.Adata_classes:Could not load AData\n"
       ]
      },
      {
       "output_type": "stream",
       "stream": "stderr",
       "text": [
        "WARNING:sarpy.io.Adata_classes:Need precisely one parameter file *json, found: []\n"
       ]
      },
      {
       "output_type": "stream",
       "stream": "stderr",
       "text": [
        "WARNING:sarpy.io.Adata_classes:Could not load AData\n"
       ]
      },
      {
       "output_type": "stream",
       "stream": "stderr",
       "text": [
        "WARNING:sarpy.io.Adata_classes:Need precisely one parameter file *json, found: []\n"
       ]
      },
      {
       "output_type": "stream",
       "stream": "stderr",
       "text": [
        "WARNING:sarpy.io.Adata_classes:Could not load AData\n"
       ]
      },
      {
       "output_type": "stream",
       "stream": "stderr",
       "text": [
        "WARNING:sarpy.io.Adata_classes:Need precisely one parameter file *json, found: []\n"
       ]
      },
      {
       "output_type": "stream",
       "stream": "stderr",
       "text": [
        "WARNING:sarpy.io.Adata_classes:Could not load AData\n"
       ]
      },
      {
       "output_type": "stream",
       "stream": "stderr",
       "text": [
        "WARNING:sarpy.io.Adata_classes:Need precisely one parameter file *json, found: []\n"
       ]
      },
      {
       "output_type": "stream",
       "stream": "stderr",
       "text": [
        "WARNING:sarpy.io.Adata_classes:Could not load AData\n"
       ]
      },
      {
       "output_type": "stream",
       "stream": "stderr",
       "text": [
        "WARNING:sarpy.io.Adata_classes:Need precisely one parameter file *json, found: []\n"
       ]
      },
      {
       "output_type": "stream",
       "stream": "stderr",
       "text": [
        "WARNING:sarpy.io.Adata_classes:Could not load AData\n"
       ]
      },
      {
       "output_type": "stream",
       "stream": "stderr",
       "text": [
        "WARNING:sarpy.io.Adata_classes:Need precisely one parameter file *json, found: []\n"
       ]
      },
      {
       "output_type": "stream",
       "stream": "stderr",
       "text": [
        "WARNING:sarpy.io.Adata_classes:Could not load AData\n"
       ]
      },
      {
       "output_type": "stream",
       "stream": "stderr",
       "text": [
        "WARNING:sarpy.io.Adata_classes:Need precisely one parameter file *json, found: []\n"
       ]
      },
      {
       "output_type": "stream",
       "stream": "stderr",
       "text": [
        "WARNING:sarpy.io.Adata_classes:Could not load AData\n"
       ]
      },
      {
       "output_type": "stream",
       "stream": "stderr",
       "text": [
        "WARNING:sarpy.io.Adata_classes:Need precisely one parameter file *json, found: []\n"
       ]
      },
      {
       "output_type": "stream",
       "stream": "stderr",
       "text": [
        "WARNING:sarpy.io.Adata_classes:Could not load AData\n"
       ]
      },
      {
       "output_type": "stream",
       "stream": "stderr",
       "text": [
        "WARNING:sarpy.io.Adata_classes:Need precisely one parameter file *json, found: []\n"
       ]
      },
      {
       "output_type": "stream",
       "stream": "stderr",
       "text": [
        "WARNING:sarpy.io.Adata_classes:Could not load AData\n"
       ]
      },
      {
       "output_type": "stream",
       "stream": "stderr",
       "text": [
        "WARNING:sarpy.io.Adata_classes:Need precisely one parameter file *json, found: []\n"
       ]
      },
      {
       "output_type": "stream",
       "stream": "stderr",
       "text": [
        "WARNING:sarpy.io.Adata_classes:Could not load AData\n"
       ]
      },
      {
       "output_type": "stream",
       "stream": "stderr",
       "text": [
        "WARNING:sarpy.io.Adata_classes:Need precisely one parameter file *json, found: []\n"
       ]
      },
      {
       "output_type": "stream",
       "stream": "stderr",
       "text": [
        "WARNING:sarpy.io.Adata_classes:Could not load AData\n"
       ]
      },
      {
       "output_type": "stream",
       "stream": "stderr",
       "text": [
        "WARNING:sarpy.io.Adata_classes:Need precisely one parameter file *json, found: []\n"
       ]
      },
      {
       "output_type": "stream",
       "stream": "stderr",
       "text": [
        "WARNING:sarpy.io.Adata_classes:Could not load AData\n"
       ]
      },
      {
       "output_type": "stream",
       "stream": "stderr",
       "text": [
        "WARNING:sarpy.io.Adata_classes:Need precisely one parameter file *json, found: []\n"
       ]
      },
      {
       "output_type": "stream",
       "stream": "stderr",
       "text": [
        "WARNING:sarpy.io.Adata_classes:Could not load AData\n"
       ]
      },
      {
       "output_type": "stream",
       "stream": "stderr",
       "text": [
        "WARNING:sarpy.io.Adata_classes:Need precisely one parameter file *json, found: []\n"
       ]
      },
      {
       "output_type": "stream",
       "stream": "stderr",
       "text": [
        "WARNING:sarpy.io.Adata_classes:Could not load AData\n"
       ]
      },
      {
       "output_type": "stream",
       "stream": "stderr",
       "text": [
        "WARNING:sarpy.io.Adata_classes:Need precisely one parameter file *json, found: []\n"
       ]
      },
      {
       "output_type": "stream",
       "stream": "stderr",
       "text": [
        "WARNING:sarpy.io.Adata_classes:Could not load AData\n"
       ]
      },
      {
       "output_type": "stream",
       "stream": "stderr",
       "text": [
        "WARNING:sarpy.io.Adata_classes:Need precisely one parameter file *json, found: []\n"
       ]
      },
      {
       "output_type": "stream",
       "stream": "stderr",
       "text": [
        "WARNING:sarpy.io.Adata_classes:Could not load AData\n"
       ]
      },
      {
       "output_type": "stream",
       "stream": "stderr",
       "text": [
        "WARNING:sarpy.io.Adata_classes:Need precisely one parameter file *json, found: []\n"
       ]
      },
      {
       "output_type": "stream",
       "stream": "stderr",
       "text": [
        "WARNING:sarpy.io.Adata_classes:Could not load AData\n"
       ]
      },
      {
       "output_type": "stream",
       "stream": "stderr",
       "text": [
        "WARNING:sarpy.io.Adata_classes:Need precisely one parameter file *json, found: []\n"
       ]
      },
      {
       "output_type": "stream",
       "stream": "stderr",
       "text": [
        "WARNING:sarpy.io.Adata_classes:Could not load AData\n"
       ]
      },
      {
       "output_type": "stream",
       "stream": "stderr",
       "text": [
        "WARNING:sarpy.io.Adata_classes:Need precisely one parameter file *json, found: []\n"
       ]
      },
      {
       "output_type": "stream",
       "stream": "stderr",
       "text": [
        "WARNING:sarpy.io.Adata_classes:Could not load AData\n"
       ]
      },
      {
       "output_type": "stream",
       "stream": "stderr",
       "text": [
        "WARNING:sarpy.io.Adata_classes:Need precisely one parameter file *json, found: []\n"
       ]
      },
      {
       "output_type": "stream",
       "stream": "stderr",
       "text": [
        "WARNING:sarpy.io.Adata_classes:Could not load AData\n"
       ]
      },
      {
       "output_type": "stream",
       "stream": "stderr",
       "text": [
        "WARNING:sarpy.io.Adata_classes:Need precisely one parameter file *json, found: []\n"
       ]
      },
      {
       "output_type": "stream",
       "stream": "stderr",
       "text": [
        "WARNING:sarpy.io.Adata_classes:Could not load AData\n"
       ]
      },
      {
       "output_type": "stream",
       "stream": "stderr",
       "text": [
        "WARNING:sarpy.io.Adata_classes:Need precisely one parameter file *json, found: []\n"
       ]
      },
      {
       "output_type": "stream",
       "stream": "stderr",
       "text": [
        "WARNING:sarpy.io.Adata_classes:Could not load AData\n"
       ]
      },
      {
       "output_type": "stream",
       "stream": "stderr",
       "text": [
        "WARNING:sarpy.io.Adata_classes:Need precisely one parameter file *json, found: []\n"
       ]
      },
      {
       "output_type": "stream",
       "stream": "stderr",
       "text": [
        "WARNING:sarpy.io.Adata_classes:Could not load AData\n"
       ]
      },
      {
       "output_type": "stream",
       "stream": "stderr",
       "text": [
        "WARNING:sarpy.io.Adata_classes:Need precisely one parameter file *json, found: []\n"
       ]
      },
      {
       "output_type": "stream",
       "stream": "stderr",
       "text": [
        "WARNING:sarpy.io.Adata_classes:Could not load AData\n"
       ]
      },
      {
       "output_type": "stream",
       "stream": "stderr",
       "text": [
        "WARNING:sarpy.io.Adata_classes:Need precisely one parameter file *json, found: []\n"
       ]
      },
      {
       "output_type": "stream",
       "stream": "stderr",
       "text": [
        "WARNING:sarpy.io.Adata_classes:Could not load AData\n"
       ]
      },
      {
       "output_type": "stream",
       "stream": "stderr",
       "text": [
        "WARNING:sarpy.io.Adata_classes:Need precisely one parameter file *json, found: []\n"
       ]
      },
      {
       "output_type": "stream",
       "stream": "stderr",
       "text": [
        "WARNING:sarpy.io.Adata_classes:Could not load AData\n"
       ]
      },
      {
       "output_type": "stream",
       "stream": "stderr",
       "text": [
        "WARNING:sarpy.io.Adata_classes:Need precisely one parameter file *json, found: []\n"
       ]
      },
      {
       "output_type": "stream",
       "stream": "stderr",
       "text": [
        "WARNING:sarpy.io.Adata_classes:Could not load AData\n"
       ]
      },
      {
       "output_type": "stream",
       "stream": "stderr",
       "text": [
        "WARNING:sarpy.io.Adata_classes:Need precisely one parameter file *json, found: []\n"
       ]
      },
      {
       "output_type": "stream",
       "stream": "stderr",
       "text": [
        "WARNING:sarpy.io.Adata_classes:Could not load AData\n"
       ]
      },
      {
       "output_type": "stream",
       "stream": "stderr",
       "text": [
        "WARNING:sarpy.io.Adata_classes:Need precisely one parameter file *json, found: []\n"
       ]
      },
      {
       "output_type": "stream",
       "stream": "stderr",
       "text": [
        "WARNING:sarpy.io.Adata_classes:Could not load AData\n"
       ]
      },
      {
       "output_type": "stream",
       "stream": "stderr",
       "text": [
        "WARNING:sarpy.io.Adata_classes:Need precisely one parameter file *json, found: []\n"
       ]
      },
      {
       "output_type": "stream",
       "stream": "stderr",
       "text": [
        "WARNING:sarpy.io.Adata_classes:Could not load AData\n"
       ]
      },
      {
       "output_type": "stream",
       "stream": "stderr",
       "text": [
        "WARNING:sarpy.io.Adata_classes:Need precisely one parameter file *json, found: []\n"
       ]
      },
      {
       "output_type": "stream",
       "stream": "stderr",
       "text": [
        "WARNING:sarpy.io.Adata_classes:Could not load AData\n"
       ]
      },
      {
       "output_type": "stream",
       "stream": "stderr",
       "text": [
        "WARNING:sarpy.io.Adata_classes:Need precisely one parameter file *json, found: []\n"
       ]
      },
      {
       "output_type": "stream",
       "stream": "stderr",
       "text": [
        "WARNING:sarpy.io.Adata_classes:Could not load AData\n"
       ]
      },
      {
       "output_type": "stream",
       "stream": "stderr",
       "text": [
        "WARNING:sarpy.io.Adata_classes:Need precisely one parameter file *json, found: []\n"
       ]
      },
      {
       "output_type": "stream",
       "stream": "stderr",
       "text": [
        "WARNING:sarpy.io.Adata_classes:Could not load AData\n"
       ]
      },
      {
       "output_type": "stream",
       "stream": "stderr",
       "text": [
        "WARNING:sarpy.io.Adata_classes:Need precisely one parameter file *json, found: []\n"
       ]
      },
      {
       "output_type": "stream",
       "stream": "stderr",
       "text": [
        "WARNING:sarpy.io.Adata_classes:Could not load AData\n"
       ]
      },
      {
       "output_type": "stream",
       "stream": "stderr",
       "text": [
        "WARNING:sarpy.io.Adata_classes:Need precisely one parameter file *json, found: []\n"
       ]
      },
      {
       "output_type": "stream",
       "stream": "stderr",
       "text": [
        "WARNING:sarpy.io.Adata_classes:Could not load AData\n"
       ]
      },
      {
       "output_type": "stream",
       "stream": "stderr",
       "text": [
        "WARNING:sarpy.io.Adata_classes:Need precisely one parameter file *json, found: []\n"
       ]
      },
      {
       "output_type": "stream",
       "stream": "stderr",
       "text": [
        "WARNING:sarpy.io.Adata_classes:Could not load AData\n"
       ]
      },
      {
       "output_type": "stream",
       "stream": "stderr",
       "text": [
        "WARNING:sarpy.io.Adata_classes:Need precisely one parameter file *json, found: []\n"
       ]
      },
      {
       "output_type": "stream",
       "stream": "stderr",
       "text": [
        "WARNING:sarpy.io.Adata_classes:Could not load AData\n"
       ]
      },
      {
       "output_type": "stream",
       "stream": "stderr",
       "text": [
        "WARNING:sarpy.io.Adata_classes:Need precisely one parameter file *json, found: []\n"
       ]
      },
      {
       "output_type": "stream",
       "stream": "stderr",
       "text": [
        "WARNING:sarpy.io.Adata_classes:Could not load AData\n"
       ]
      },
      {
       "output_type": "stream",
       "stream": "stderr",
       "text": [
        "WARNING:sarpy.io.Adata_classes:Need precisely one parameter file *json, found: []\n"
       ]
      },
      {
       "output_type": "stream",
       "stream": "stderr",
       "text": [
        "WARNING:sarpy.io.Adata_classes:Could not load AData\n"
       ]
      },
      {
       "output_type": "stream",
       "stream": "stderr",
       "text": [
        "WARNING:sarpy.io.Adata_classes:Need precisely one parameter file *json, found: []\n"
       ]
      },
      {
       "output_type": "stream",
       "stream": "stderr",
       "text": [
        "WARNING:sarpy.io.Adata_classes:Could not load AData\n"
       ]
      },
      {
       "output_type": "stream",
       "stream": "stderr",
       "text": [
        "WARNING:sarpy.io.Adata_classes:Need precisely one parameter file *json, found: []\n"
       ]
      },
      {
       "output_type": "stream",
       "stream": "stderr",
       "text": [
        "WARNING:sarpy.io.Adata_classes:Could not load AData\n"
       ]
      },
      {
       "output_type": "stream",
       "stream": "stderr",
       "text": [
        "WARNING:sarpy.io.Adata_classes:Need precisely one parameter file *json, found: []\n"
       ]
      },
      {
       "output_type": "stream",
       "stream": "stderr",
       "text": [
        "WARNING:sarpy.io.Adata_classes:Could not load AData\n"
       ]
      },
      {
       "output_type": "stream",
       "stream": "stderr",
       "text": [
        "WARNING:sarpy.io.Adata_classes:Need precisely one parameter file *json, found: []\n"
       ]
      },
      {
       "output_type": "stream",
       "stream": "stderr",
       "text": [
        "WARNING:sarpy.io.Adata_classes:Could not load AData\n"
       ]
      },
      {
       "output_type": "stream",
       "stream": "stderr",
       "text": [
        "WARNING:sarpy.io.Adata_classes:Need precisely one parameter file *json, found: []\n"
       ]
      },
      {
       "output_type": "stream",
       "stream": "stderr",
       "text": [
        "WARNING:sarpy.io.Adata_classes:Could not load AData\n"
       ]
      },
      {
       "output_type": "stream",
       "stream": "stderr",
       "text": [
        "WARNING:sarpy.io.Adata_classes:Need precisely one parameter file *json, found: []\n"
       ]
      },
      {
       "output_type": "stream",
       "stream": "stderr",
       "text": [
        "WARNING:sarpy.io.Adata_classes:Could not load AData\n"
       ]
      },
      {
       "output_type": "stream",
       "stream": "stderr",
       "text": [
        "WARNING:sarpy.io.Adata_classes:Need precisely one parameter file *json, found: []\n"
       ]
      },
      {
       "output_type": "stream",
       "stream": "stderr",
       "text": [
        "WARNING:sarpy.io.Adata_classes:Could not load AData\n"
       ]
      },
      {
       "output_type": "stream",
       "stream": "stderr",
       "text": [
        "WARNING:sarpy.io.Adata_classes:Need precisely one parameter file *json, found: []\n"
       ]
      },
      {
       "output_type": "stream",
       "stream": "stderr",
       "text": [
        "WARNING:sarpy.io.Adata_classes:Could not load AData\n"
       ]
      },
      {
       "output_type": "stream",
       "stream": "stderr",
       "text": [
        "WARNING:sarpy.io.Adata_classes:Need precisely one parameter file *json, found: []\n"
       ]
      },
      {
       "output_type": "stream",
       "stream": "stderr",
       "text": [
        "WARNING:sarpy.io.Adata_classes:Could not load AData\n"
       ]
      },
      {
       "output_type": "stream",
       "stream": "stderr",
       "text": [
        "WARNING:sarpy.io.Adata_classes:Need precisely one parameter file *json, found: []\n"
       ]
      },
      {
       "output_type": "stream",
       "stream": "stderr",
       "text": [
        "WARNING:sarpy.io.Adata_classes:Could not load AData\n"
       ]
      },
      {
       "output_type": "stream",
       "stream": "stderr",
       "text": [
        "WARNING:sarpy.io.Adata_classes:Need precisely one parameter file *json, found: []\n"
       ]
      },
      {
       "output_type": "stream",
       "stream": "stderr",
       "text": [
        "WARNING:sarpy.io.Adata_classes:Could not load AData\n"
       ]
      },
      {
       "output_type": "stream",
       "stream": "stderr",
       "text": [
        "WARNING:sarpy.io.Adata_classes:Need precisely one parameter file *json, found: []\n"
       ]
      },
      {
       "output_type": "stream",
       "stream": "stderr",
       "text": [
        "WARNING:sarpy.io.Adata_classes:Could not load AData\n"
       ]
      },
      {
       "output_type": "stream",
       "stream": "stderr",
       "text": [
        "WARNING:sarpy.io.Adata_classes:Need precisely one parameter file *json, found: []\n"
       ]
      },
      {
       "output_type": "stream",
       "stream": "stderr",
       "text": [
        "WARNING:sarpy.io.Adata_classes:Could not load AData\n"
       ]
      },
      {
       "output_type": "stream",
       "stream": "stderr",
       "text": [
        "WARNING:sarpy.io.Adata_classes:Need precisely one parameter file *json, found: []\n"
       ]
      },
      {
       "output_type": "stream",
       "stream": "stderr",
       "text": [
        "WARNING:sarpy.io.Adata_classes:Could not load AData\n"
       ]
      },
      {
       "output_type": "stream",
       "stream": "stderr",
       "text": [
        "WARNING:sarpy.io.Adata_classes:Need precisely one parameter file *json, found: []\n"
       ]
      },
      {
       "output_type": "stream",
       "stream": "stderr",
       "text": [
        "WARNING:sarpy.io.Adata_classes:Could not load AData\n"
       ]
      },
      {
       "output_type": "stream",
       "stream": "stderr",
       "text": [
        "WARNING:sarpy.io.Adata_classes:Need precisely one parameter file *json, found: []\n"
       ]
      },
      {
       "output_type": "stream",
       "stream": "stderr",
       "text": [
        "WARNING:sarpy.io.Adata_classes:Could not load AData\n"
       ]
      },
      {
       "output_type": "stream",
       "stream": "stderr",
       "text": [
        "WARNING:sarpy.io.Adata_classes:Need precisely one parameter file *json, found: []\n"
       ]
      },
      {
       "output_type": "stream",
       "stream": "stderr",
       "text": [
        "WARNING:sarpy.io.Adata_classes:Could not load AData\n"
       ]
      },
      {
       "output_type": "stream",
       "stream": "stderr",
       "text": [
        "WARNING:sarpy.io.Adata_classes:Need precisely one parameter file *json, found: []\n"
       ]
      },
      {
       "output_type": "stream",
       "stream": "stderr",
       "text": [
        "WARNING:sarpy.io.Adata_classes:Could not load AData\n"
       ]
      },
      {
       "output_type": "stream",
       "stream": "stderr",
       "text": [
        "WARNING:sarpy.io.Adata_classes:Need precisely one parameter file *json, found: []\n"
       ]
      },
      {
       "output_type": "stream",
       "stream": "stderr",
       "text": [
        "WARNING:sarpy.io.Adata_classes:Could not load AData\n"
       ]
      },
      {
       "output_type": "stream",
       "stream": "stderr",
       "text": [
        "WARNING:sarpy.io.Adata_classes:Need precisely one parameter file *json, found: []\n"
       ]
      },
      {
       "output_type": "stream",
       "stream": "stderr",
       "text": [
        "WARNING:sarpy.io.Adata_classes:Could not load AData\n"
       ]
      },
      {
       "output_type": "stream",
       "stream": "stderr",
       "text": [
        "WARNING:sarpy.io.Adata_classes:Need precisely one parameter file *json, found: []\n"
       ]
      },
      {
       "output_type": "stream",
       "stream": "stderr",
       "text": [
        "WARNING:sarpy.io.Adata_classes:Could not load AData\n"
       ]
      },
      {
       "output_type": "stream",
       "stream": "stderr",
       "text": [
        "WARNING:sarpy.io.Adata_classes:Need precisely one parameter file *json, found: []\n"
       ]
      },
      {
       "output_type": "stream",
       "stream": "stderr",
       "text": [
        "WARNING:sarpy.io.Adata_classes:Could not load AData\n"
       ]
      },
      {
       "output_type": "stream",
       "stream": "stderr",
       "text": [
        "WARNING:sarpy.io.Adata_classes:Need precisely one parameter file *json, found: []\n"
       ]
      },
      {
       "output_type": "stream",
       "stream": "stderr",
       "text": [
        "WARNING:sarpy.io.Adata_classes:Could not load AData\n"
       ]
      },
      {
       "output_type": "stream",
       "stream": "stderr",
       "text": [
        "WARNING:sarpy.io.Adata_classes:Need precisely one parameter file *json, found: []\n"
       ]
      },
      {
       "output_type": "stream",
       "stream": "stderr",
       "text": [
        "WARNING:sarpy.io.Adata_classes:Could not load AData\n"
       ]
      },
      {
       "output_type": "stream",
       "stream": "stderr",
       "text": [
        "WARNING:sarpy.io.Adata_classes:Need precisely one parameter file *json, found: []\n"
       ]
      },
      {
       "output_type": "stream",
       "stream": "stderr",
       "text": [
        "WARNING:sarpy.io.Adata_classes:Could not load AData\n"
       ]
      },
      {
       "output_type": "stream",
       "stream": "stderr",
       "text": [
        "WARNING:sarpy.io.Adata_classes:Need precisely one parameter file *json, found: []\n"
       ]
      },
      {
       "output_type": "stream",
       "stream": "stderr",
       "text": [
        "WARNING:sarpy.io.Adata_classes:Could not load AData\n"
       ]
      },
      {
       "output_type": "stream",
       "stream": "stderr",
       "text": [
        "WARNING:sarpy.io.Adata_classes:Need precisely one parameter file *json, found: []\n"
       ]
      },
      {
       "output_type": "stream",
       "stream": "stderr",
       "text": [
        "WARNING:sarpy.io.Adata_classes:Could not load AData\n"
       ]
      },
      {
       "output_type": "stream",
       "stream": "stderr",
       "text": [
        "WARNING:sarpy.io.Adata_classes:Need precisely one parameter file *json, found: []\n"
       ]
      },
      {
       "output_type": "stream",
       "stream": "stderr",
       "text": [
        "WARNING:sarpy.io.Adata_classes:Could not load AData\n"
       ]
      },
      {
       "output_type": "stream",
       "stream": "stderr",
       "text": [
        "WARNING:sarpy.io.Adata_classes:Need precisely one parameter file *json, found: []\n"
       ]
      },
      {
       "output_type": "stream",
       "stream": "stderr",
       "text": [
        "WARNING:sarpy.io.Adata_classes:Could not load AData\n"
       ]
      },
      {
       "output_type": "stream",
       "stream": "stderr",
       "text": [
        "WARNING:sarpy.io.Adata_classes:Need precisely one parameter file *json, found: []\n"
       ]
      },
      {
       "output_type": "stream",
       "stream": "stderr",
       "text": [
        "WARNING:sarpy.io.Adata_classes:Could not load AData\n"
       ]
      },
      {
       "output_type": "stream",
       "stream": "stderr",
       "text": [
        "WARNING:sarpy.io.Adata_classes:Need precisely one parameter file *json, found: []\n"
       ]
      },
      {
       "output_type": "stream",
       "stream": "stderr",
       "text": [
        "WARNING:sarpy.io.Adata_classes:Could not load AData\n"
       ]
      },
      {
       "output_type": "stream",
       "stream": "stderr",
       "text": [
        "WARNING:sarpy.io.Adata_classes:Need precisely one parameter file *json, found: []\n"
       ]
      },
      {
       "output_type": "stream",
       "stream": "stderr",
       "text": [
        "WARNING:sarpy.io.Adata_classes:Could not load AData\n"
       ]
      },
      {
       "output_type": "stream",
       "stream": "stderr",
       "text": [
        "WARNING:sarpy.io.Adata_classes:Need precisely one parameter file *json, found: []\n"
       ]
      },
      {
       "output_type": "stream",
       "stream": "stderr",
       "text": [
        "WARNING:sarpy.io.Adata_classes:Could not load AData\n"
       ]
      },
      {
       "output_type": "stream",
       "stream": "stdout",
       "text": [
        "bulk_transfer_roi: Success. Saved auc60_roi in HerS7Ss01.fy1/27\n",
        "bulk_transfer_roi: Success. Saved auc60_roi in HerS7Ss02.fA1/26"
       ]
      },
      {
       "output_type": "stream",
       "stream": "stdout",
       "text": [
        "\n",
        "bulk_transfer_roi: Success. Saved auc60_roi in HerS7Ss02.fy1/27"
       ]
      },
      {
       "output_type": "stream",
       "stream": "stderr",
       "text": [
        "WARNING:sarpy.io.BRUKER_classes:loading studies of different SUBJECT_id(s) not permitted\n"
       ]
      },
      {
       "output_type": "stream",
       "stream": "stdout",
       "text": [
        "\n",
        "bulk_transfer_roi: Success. Saved auc60_roi in HerS7Ss03.fy1/29"
       ]
      },
      {
       "output_type": "stream",
       "stream": "stdout",
       "text": [
        "\n",
        "bulk_transfer_roi: Success. Saved auc60_roi in HerS7Ss03day2.fA1/26"
       ]
      },
      {
       "output_type": "stream",
       "stream": "stdout",
       "text": [
        "\n",
        "bulk_transfer_roi: Success. Saved auc60_roi in HerS7Ss04.fA1/27"
       ]
      },
      {
       "output_type": "stream",
       "stream": "stdout",
       "text": [
        "\n",
        "bulk_transfer_roi: Success. Saved auc60_roi in HerS7Ss04.fy1/27"
       ]
      },
      {
       "output_type": "stream",
       "stream": "stdout",
       "text": [
        "\n",
        "bulk_transfer_roi: Key roblem with roi src scan for study HerS7Ss05.fA1, maybe this study is extra"
       ]
      },
      {
       "output_type": "stream",
       "stream": "stdout",
       "text": [
        "\n",
        "bulk_transfer_roi: auc60 not found in study HerS7Ss05.fA1\n",
        "bulk_transfer_roi: Success. Saved auc60_roi in HerS7Ss05.fA2/28"
       ]
      },
      {
       "output_type": "stream",
       "stream": "stdout",
       "text": [
        "\n",
        "bulk_transfer_roi: Key roblem with roi src scan for study HerS7Ss05.fC1, maybe this study is extra\n",
        "bulk_transfer_roi: auc60 not found in study HerS7Ss05.fC1\n",
        "bulk_transfer_roi: Success. Saved auc60_roi in HerS7Ss05.fC2/30"
       ]
      },
      {
       "output_type": "stream",
       "stream": "stdout",
       "text": [
        "\n",
        "bulk_transfer_roi: Success. Saved auc60_roi in HerS7Ss06.fA1/27"
       ]
      },
      {
       "output_type": "stream",
       "stream": "stdout",
       "text": [
        "\n",
        "bulk_transfer_roi: Success. Saved auc60_roi in HerS7Ss06.fC1/27"
       ]
      },
      {
       "output_type": "stream",
       "stream": "stderr",
       "text": [
        "WARNING:sarpy.io.BRUKER_classes:SUBJECT_study_name not found in study: /Users/fmoosvi/bdata/stefan/nmr/HerS7Ss07.fA1\n"
       ]
      },
      {
       "output_type": "stream",
       "stream": "stdout",
       "text": [
        "\n",
        "bulk_transfer_roi: Key roblem with roi src scan for study HerS7Ss07.fA1, maybe this study is extra"
       ]
      },
      {
       "output_type": "stream",
       "stream": "stdout",
       "text": [
        "\n",
        "bulk_transfer_roi: auc60 not found in study HerS7Ss07.fA1\n",
        "bulk_transfer_roi: Success. Saved auc60_roi in HerS7Ss07.fA2/27"
       ]
      },
      {
       "output_type": "stream",
       "stream": "stdout",
       "text": [
        "\n",
        "bulk_transfer_roi: Success. Saved auc60_roi in HerS7Ss07.fC1/27"
       ]
      },
      {
       "output_type": "stream",
       "stream": "stdout",
       "text": [
        "\n",
        "Firas: you really need to fix this function so it uses the masterlist\n"
       ]
      }
     ],
     "prompt_number": 8
    },
    {
     "cell_type": "markdown",
     "metadata": {},
     "source": [
      "## Step 5: Perform advanced analyses (requiring ROIs or basic adata)"
     ]
    },
    {
     "cell_type": "code",
     "collapsed": false,
     "input": [
      "fFlag = True\n",
      "adv_analyze_list = []\n",
      "\n",
      "reload(sarpy.fmoosvi.analysis)\n",
      "reload(sarpy.fmoosvi.wrappers)\n",
      "\n",
      "adv_analyze_list.append(['0h-dce1','ec','auc60_roi',fFlag])\n",
      "adv_analyze_list.append(['48h-dce1','ec','auc60_roi',fFlag])\n",
      "\n",
      "#adv_analyze_list.append(['24h-DCE','-24h-LL','T1map_LL','gd_conc',fFlag])\n",
      "\n",
      "#adv_analyze_list.append(['24h-DCE','gd_conc','augc60',fFlag])\n",
      "\n",
      "#adv_analyze_list.append(['-24h-LL','+24h-LL','T1map_LL','deltaT1gd',fFlag])\n",
      "\n",
      "\n",
      "for items in adv_analyze_list:\n",
      "    \n",
      "    if items[1] == 'ec':\n",
      "        \n",
      "        sarpy.fmoosvi.wrappers.calc_enhancement_curve(masterlist,\n",
      "                                                      items[0],items[1],\n",
      "                                                      items[2],forceVal=fFlag)\n",
      "    if items[3] == 'gd_conc':\n",
      "        \n",
      "        sarpy.fmoosvi.wrappers.conc_from_signal(masterlist, items[0],\n",
      "                                        data_label_T1map = items[1],\n",
      "                                        adata_label = items[2], \n",
      "                                        analysis_label = items[3],\n",
      "                                        forceVal = fFlag)\n",
      "    elif items[2] == 'augc60':\n",
      "        \n",
      "        sarpy.fmoosvi.wrappers.calc_AUGC(masterlist,\n",
      "                                         items[0], items[1],\n",
      "                                         analysis_label=items[2],\n",
      "                                         forceVal = items[3])\n",
      "    elif items[3] == 'deltaT1gd':\n",
      "        sarpy.fmoosvi.wrappers.store_deltaT1(masterlist, \n",
      "                                         items[0],items[1],\n",
      "                                         adata_label1=items[2],\n",
      "                                         analysis_label=items[3],\n",
      "                                         forceVal = fFlag)"
     ],
     "language": "python",
     "metadata": {},
     "outputs": [
      {
       "output_type": "stream",
       "stream": "stdout",
       "text": [
        "HerS7Ss01: Not found 48h-dce1 and ec\n",
        "HerS7Ss03: Not found 48h-dce1 and ec"
       ]
      },
      {
       "output_type": "stream",
       "stream": "stdout",
       "text": [
        "\n",
        "deleting item ec"
       ]
      },
      {
       "output_type": "stream",
       "stream": "stdout",
       "text": [
        "\n"
       ]
      },
      {
       "output_type": "stream",
       "stream": "stderr",
       "text": [
        "/Library/Python/2.7/site-packages/scipy-0.13.0.dev_c31f167_20130514-py2.7-macosx-10.8-intel.egg/scipy/stats/stats.py:346: RuntimeWarning: invalid value encountered in true_divide\n",
        "  return np.mean(x,axis)/factor\n"
       ]
      }
     ],
     "prompt_number": 10
    },
    {
     "cell_type": "code",
     "collapsed": false,
     "input": [
      "print(datetime.now()-startTime)"
     ],
     "language": "python",
     "metadata": {},
     "outputs": [
      {
       "output_type": "stream",
       "stream": "stdout",
       "text": [
        "8:36:13.262757\n"
       ]
      }
     ],
     "prompt_number": 9
    },
    {
     "cell_type": "markdown",
     "metadata": {},
     "source": [
      "## Step 6: Averages"
     ]
    },
    {
     "cell_type": "code",
     "collapsed": false,
     "input": [
      "## AUC60\n",
      "fFlag = True\n",
      "\n",
      "data_label = ['0h-dce1','48h-dce1']\n",
      "adata_label = 'auc60'\n",
      "roi_label = 'auc60_roi'\n",
      "analysis_label = 'auc60avg'\n",
      "\n",
      "for s in data_label:\n",
      "    sarpy.fmoosvi.wrappers.roi_average(masterlist,s, adata_label, roi_label,analysis_label,False)"
     ],
     "language": "python",
     "metadata": {},
     "outputs": [
      {
       "output_type": "stream",
       "stream": "stdout",
       "text": [
        "auc60avg: Success. Saved HerS7Ss01.fy1/27\n",
        "auc60avg: Success. Saved HerS7Ss02.fA1/26"
       ]
      },
      {
       "output_type": "stream",
       "stream": "stdout",
       "text": [
        "\n",
        "auc60avg: Success. Saved HerS7Ss03.fy1/29"
       ]
      },
      {
       "output_type": "stream",
       "stream": "stdout",
       "text": [
        "\n",
        "auc60avg: Success. Saved HerS7Ss03day2.fA1/26"
       ]
      },
      {
       "output_type": "stream",
       "stream": "stdout",
       "text": [
        "\n",
        "auc60avg: Success. Saved HerS7Ss04.fA1/27"
       ]
      },
      {
       "output_type": "stream",
       "stream": "stdout",
       "text": [
        "\n",
        "auc60avg: Success. Saved HerS7Ss05.fA2/28"
       ]
      },
      {
       "output_type": "stream",
       "stream": "stdout",
       "text": [
        "\n",
        "auc60avg: Success. Saved HerS7Ss06.fA1/27"
       ]
      },
      {
       "output_type": "stream",
       "stream": "stdout",
       "text": [
        "\n",
        "auc60avg: Success. Saved HerS7Ss07.fA2/27"
       ]
      },
      {
       "output_type": "stream",
       "stream": "stdout",
       "text": [
        "\n",
        "auc60avg: Not found adata auc60 or auc60_roi in patient HerS7Ss01\n",
        "auc60avg: Success. Saved HerS7Ss02.fy1/27"
       ]
      },
      {
       "output_type": "stream",
       "stream": "stdout",
       "text": [
        "\n",
        "auc60avg: Not found adata auc60 or auc60_roi in patient HerS7Ss03\n",
        "auc60avg: adata already exists HerS7Ss03day2.fA1/26 "
       ]
      },
      {
       "output_type": "stream",
       "stream": "stdout",
       "text": [
        "\n",
        "auc60avg: Success. Saved HerS7Ss04.fy1/27"
       ]
      },
      {
       "output_type": "stream",
       "stream": "stdout",
       "text": [
        "\n",
        "auc60avg: Success. Saved HerS7Ss05.fC2/30"
       ]
      },
      {
       "output_type": "stream",
       "stream": "stdout",
       "text": [
        "\n",
        "auc60avg: Success. Saved HerS7Ss06.fC1/27"
       ]
      },
      {
       "output_type": "stream",
       "stream": "stdout",
       "text": [
        "\n",
        "auc60avg: Success. Saved HerS7Ss07.fC1/27"
       ]
      },
      {
       "output_type": "stream",
       "stream": "stdout",
       "text": [
        "\n"
       ]
      },
      {
       "output_type": "stream",
       "stream": "stderr",
       "text": [
        "/Library/Python/2.7/site-packages/scipy-0.13.0.dev_c31f167_20130514-py2.7-macosx-10.8-intel.egg/scipy/stats/stats.py:346: RuntimeWarning: invalid value encountered in double_scalars\n",
        "  return np.mean(x,axis)/factor\n"
       ]
      }
     ],
     "prompt_number": 14
    },
    {
     "cell_type": "code",
     "collapsed": false,
     "input": [
      "import sarpy\n",
      "csv_list = []\n",
      "\n",
      "csv_list.append(['0h-dce1','auc60avg'])\n",
      "csv_list.append(['48h-dce1','auc60avg'])\n",
      "\n",
      "for it in csv_list:\n",
      "    \n",
      "    sarpy.io.write_csv.write_csv(masterlist,it[0],it[1])"
     ],
     "language": "python",
     "metadata": {},
     "outputs": [
      {
       "output_type": "stream",
       "stream": "stdout",
       "text": [
        "write_csv: Not found HerS7Ss01 and 48h-dce1,auc60avg\n",
        "write_csv: Not found HerS7Ss03 and 48h-dce1,auc60avg"
       ]
      },
      {
       "output_type": "stream",
       "stream": "stdout",
       "text": [
        "\n"
       ]
      }
     ],
     "prompt_number": 17
    },
    {
     "cell_type": "code",
     "collapsed": false,
     "input": [],
     "language": "python",
     "metadata": {},
     "outputs": [],
     "prompt_number": 14
    }
   ],
   "metadata": {}
  }
 ]
}