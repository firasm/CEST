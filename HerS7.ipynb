{
 "metadata": {
  "name": ""
 },
 "nbformat": 3,
 "nbformat_minor": 0,
 "worksheets": [
  {
   "cells": [
    {
     "cell_type": "markdown",
     "metadata": {},
     "source": [
      "### Basic Analyses"
     ]
    },
    {
     "cell_type": "code",
     "collapsed": false,
     "input": [
      "import sarpy\n",
      "import sarpy.io\n",
      "import sarpy.io.bulk_analyze\n",
      "import sarpy.fmoosvi.analysis\n",
      "import sarpy.io.masterlist\n",
      "import sarpy.fmoosvi.getters\n",
      "import sarpy.fmoosvi.wrappers\n",
      "import collections\n",
      "import os\n",
      "\n",
      "masterlist = 'HerS7'\n",
      "config_file = 'HerS7/HerS7.config'"
     ],
     "language": "python",
     "metadata": {},
     "outputs": [],
     "prompt_number": 1
    },
    {
     "cell_type": "code",
     "collapsed": false,
     "input": [
      "sarpy.io.masterlist.generate(conf_file=config_file)"
     ],
     "language": "python",
     "metadata": {},
     "outputs": [
      {
       "output_type": "stream",
       "stream": "stdout",
       "text": [
        "loading config file HerS7/HerS7.config\n",
        "HerS7Ss01\n",
        "\t warning (STUDY #1 not found) \"roi-48h\" for HerS7Ss01"
       ]
      },
      {
       "output_type": "stream",
       "stream": "stdout",
       "text": [
        "\n",
        "\t warning (STUDY #1 not found) \"anatomy-48h\" for HerS7Ss01\n",
        "\t warning (STUDY #1 not found) \"dce-48ha\" for HerS7Ss01\n",
        "\t warning (STUDY #1 not found) \"dce-48hb\" for HerS7Ss01\n",
        "HerS7Ss02\n",
        "HerS7Ss03"
       ]
      },
      {
       "output_type": "stream",
       "stream": "stdout",
       "text": [
        "\n",
        "\t warning (STUDY #1 not found) \"roi-48h\" for HerS7Ss03"
       ]
      },
      {
       "output_type": "stream",
       "stream": "stdout",
       "text": [
        "\n",
        "\t warning (STUDY #1 not found) \"anatomy-48h\" for HerS7Ss03\n",
        "\t warning (STUDY #1 not found) \"dce-48ha\" for HerS7Ss03\n",
        "\t warning (STUDY #1 not found) \"dce-48hb\" for HerS7Ss03\n",
        "HerS7Ss03day2\n",
        "HerS7Ss04"
       ]
      },
      {
       "output_type": "stream",
       "stream": "stdout",
       "text": [
        "\n",
        "HerS7Ss05"
       ]
      },
      {
       "output_type": "stream",
       "stream": "stdout",
       "text": [
        "\n",
        "HerS7Ss06"
       ]
      },
      {
       "output_type": "stream",
       "stream": "stdout",
       "text": [
        "\n",
        "HerS7Ss07"
       ]
      },
      {
       "output_type": "stream",
       "stream": "stdout",
       "text": [
        "\n",
        "wrote master_list to /Users/fmoosvi/sdata/HerS7/HerS7.json"
       ]
      },
      {
       "output_type": "stream",
       "stream": "stdout",
       "text": [
        "\n"
       ]
      }
     ],
     "prompt_number": 6
    },
    {
     "cell_type": "code",
     "collapsed": false,
     "input": [
      "fFlag = True\n",
      "\n",
      "sarpy.io.generate_rois.generate_rois(masterlist,'export', forceVal = fFlag)\n",
      "\n",
      "try:\n",
      "    sarpy.io.generate_rois.generate_rois(masterlist,'import', forceVal = fFlag)\n",
      "    sarpy.io.masterlist.generate(conf_file=config_file) # update bboxes\n",
      "except IOError:\n",
      "    pass"
     ],
     "language": "python",
     "metadata": {},
     "outputs": [
      {
       "output_type": "stream",
       "stream": "stdout",
       "text": [
        "\n",
        " \n",
        " ** WARNING ** \n",
        " \n",
        " Not found: HerS7Ss01 and roi-48h \n",
        "\n",
        "\n",
        " \n",
        " ** WARNING ** \n",
        " \n",
        " Not found: HerS7Ss03 and roi-48h \n"
       ]
      },
      {
       "output_type": "stream",
       "stream": "stdout",
       "text": [
        "\n",
        "Nifti images were processed in /Users/fmoosvi/sdata/HerS7/rois"
       ]
      },
      {
       "output_type": "stream",
       "stream": "stdout",
       "text": [
        "\n",
        "\n",
        " \n",
        " ** WARNING ** \n",
        " \n",
        " Not found: HerS7Ss01 and roi-48h \n",
        "\n",
        "adata roi deleted in HerS7Ss01"
       ]
      },
      {
       "output_type": "stream",
       "stream": "stdout",
       "text": [
        "\n",
        "adata roi_weights deleted in HerS7Ss01"
       ]
      },
      {
       "output_type": "stream",
       "stream": "stdout",
       "text": [
        "\n",
        "h_generate_roi: saved HerS7Ss01.fy1/4 roi label"
       ]
      },
      {
       "output_type": "stream",
       "stream": "stdout",
       "text": [
        "\n",
        "adata roi deleted in HerS7Ss02"
       ]
      },
      {
       "output_type": "stream",
       "stream": "stdout",
       "text": [
        "\n",
        "adata roi_weights deleted in HerS7Ss02"
       ]
      },
      {
       "output_type": "stream",
       "stream": "stdout",
       "text": [
        "\n",
        "h_generate_roi: saved HerS7Ss02.fy1/4 roi label"
       ]
      },
      {
       "output_type": "stream",
       "stream": "stdout",
       "text": [
        "\n",
        "adata roi deleted in HerS7Ss02"
       ]
      },
      {
       "output_type": "stream",
       "stream": "stdout",
       "text": [
        "\n",
        "adata roi_weights deleted in HerS7Ss02"
       ]
      },
      {
       "output_type": "stream",
       "stream": "stdout",
       "text": [
        "\n",
        "h_generate_roi: saved HerS7Ss02.fA1/3 roi label"
       ]
      },
      {
       "output_type": "stream",
       "stream": "stdout",
       "text": [
        "\n",
        "\n",
        " \n",
        " ** WARNING ** \n",
        " \n",
        " Not found: HerS7Ss03 and roi-48h \n",
        "\n",
        "adata roi deleted in HerS7Ss03"
       ]
      },
      {
       "output_type": "stream",
       "stream": "stdout",
       "text": [
        "\n",
        "adata roi_weights deleted in HerS7Ss03"
       ]
      },
      {
       "output_type": "stream",
       "stream": "stdout",
       "text": [
        "\n",
        "h_generate_roi: saved HerS7Ss03.fy1/6 roi label"
       ]
      },
      {
       "output_type": "stream",
       "stream": "stdout",
       "text": [
        "\n",
        "adata roi deleted in HerS7Ss03day2"
       ]
      },
      {
       "output_type": "stream",
       "stream": "stdout",
       "text": [
        "\n",
        "adata roi_weights deleted in HerS7Ss03day2"
       ]
      },
      {
       "output_type": "stream",
       "stream": "stdout",
       "text": [
        "\n",
        "h_generate_roi: saved HerS7Ss03day2.fA1/3 roi label"
       ]
      },
      {
       "output_type": "stream",
       "stream": "stdout",
       "text": [
        "\n",
        "adata roi deleted in HerS7Ss03day2"
       ]
      },
      {
       "output_type": "stream",
       "stream": "stdout",
       "text": [
        "\n",
        "adata roi_weights deleted in HerS7Ss03day2"
       ]
      },
      {
       "output_type": "stream",
       "stream": "stdout",
       "text": [
        "\n",
        "h_generate_roi: saved HerS7Ss03day2.fA1/3 roi label"
       ]
      },
      {
       "output_type": "stream",
       "stream": "stdout",
       "text": [
        "\n",
        "adata roi deleted in HerS7Ss04"
       ]
      },
      {
       "output_type": "stream",
       "stream": "stdout",
       "text": [
        "\n",
        "adata roi_weights deleted in HerS7Ss04"
       ]
      },
      {
       "output_type": "stream",
       "stream": "stdout",
       "text": [
        "\n",
        "h_generate_roi: saved HerS7Ss04.fy1/4 roi label"
       ]
      },
      {
       "output_type": "stream",
       "stream": "stdout",
       "text": [
        "\n",
        "adata roi deleted in HerS7Ss04"
       ]
      },
      {
       "output_type": "stream",
       "stream": "stdout",
       "text": [
        "\n",
        "adata roi_weights deleted in HerS7Ss04"
       ]
      },
      {
       "output_type": "stream",
       "stream": "stdout",
       "text": [
        "\n",
        "h_generate_roi: saved HerS7Ss04.fA1/4 roi label"
       ]
      },
      {
       "output_type": "stream",
       "stream": "stdout",
       "text": [
        "\n",
        "adata roi deleted in HerS7Ss05"
       ]
      },
      {
       "output_type": "stream",
       "stream": "stdout",
       "text": [
        "\n",
        "adata roi_weights deleted in HerS7Ss05"
       ]
      },
      {
       "output_type": "stream",
       "stream": "stdout",
       "text": [
        "\n",
        "h_generate_roi: saved HerS7Ss05.fC2/7 roi label"
       ]
      },
      {
       "output_type": "stream",
       "stream": "stdout",
       "text": [
        "\n",
        "adata roi deleted in HerS7Ss05"
       ]
      },
      {
       "output_type": "stream",
       "stream": "stdout",
       "text": [
        "\n",
        "adata roi_weights deleted in HerS7Ss05"
       ]
      },
      {
       "output_type": "stream",
       "stream": "stdout",
       "text": [
        "\n",
        "h_generate_roi: saved HerS7Ss05.fA2/5 roi label"
       ]
      },
      {
       "output_type": "stream",
       "stream": "stdout",
       "text": [
        "\n",
        "adata roi deleted in HerS7Ss06"
       ]
      },
      {
       "output_type": "stream",
       "stream": "stdout",
       "text": [
        "\n",
        "adata roi_weights deleted in HerS7Ss06"
       ]
      },
      {
       "output_type": "stream",
       "stream": "stdout",
       "text": [
        "\n",
        "h_generate_roi: saved HerS7Ss06.fC1/4 roi label"
       ]
      },
      {
       "output_type": "stream",
       "stream": "stdout",
       "text": [
        "\n",
        "adata roi deleted in HerS7Ss06"
       ]
      },
      {
       "output_type": "stream",
       "stream": "stdout",
       "text": [
        "\n",
        "adata roi_weights deleted in HerS7Ss06"
       ]
      },
      {
       "output_type": "stream",
       "stream": "stdout",
       "text": [
        "\n",
        "h_generate_roi: saved HerS7Ss06.fA1/4 roi label"
       ]
      },
      {
       "output_type": "stream",
       "stream": "stdout",
       "text": [
        "\n",
        "adata roi deleted in HerS7Ss07"
       ]
      },
      {
       "output_type": "stream",
       "stream": "stdout",
       "text": [
        "\n",
        "adata roi_weights deleted in HerS7Ss07"
       ]
      },
      {
       "output_type": "stream",
       "stream": "stdout",
       "text": [
        "\n",
        "h_generate_roi: saved HerS7Ss07.fC1/4 roi label"
       ]
      },
      {
       "output_type": "stream",
       "stream": "stdout",
       "text": [
        "\n",
        "adata roi deleted in HerS7Ss07"
       ]
      },
      {
       "output_type": "stream",
       "stream": "stdout",
       "text": [
        "\n",
        "adata roi_weights deleted in HerS7Ss07"
       ]
      },
      {
       "output_type": "stream",
       "stream": "stdout",
       "text": [
        "\n",
        "h_generate_roi: saved HerS7Ss07.fA2/4 roi label"
       ]
      },
      {
       "output_type": "stream",
       "stream": "stdout",
       "text": [
        "\n",
        "Nifti images were processed in /Users/fmoosvi/sdata/HerS7/rois\n",
        "loading config file HerS7/HerS7.config\n",
        "HerS7Ss01"
       ]
      },
      {
       "output_type": "stream",
       "stream": "stdout",
       "text": [
        "\n",
        "\t warning (STUDY #1 not found) \"roi-48h\" for HerS7Ss01"
       ]
      },
      {
       "output_type": "stream",
       "stream": "stdout",
       "text": [
        "\n",
        "\t warning (STUDY #1 not found) \"anatomy-48h\" for HerS7Ss01\n",
        "\t warning (STUDY #1 not found) \"dce-48ha\" for HerS7Ss01\n",
        "\t warning (STUDY #1 not found) \"dce-48hb\" for HerS7Ss01\n",
        "HerS7Ss02\n",
        "HerS7Ss03"
       ]
      },
      {
       "output_type": "stream",
       "stream": "stdout",
       "text": [
        "\n",
        "\t warning (STUDY #1 not found) \"roi-48h\" for HerS7Ss03"
       ]
      },
      {
       "output_type": "stream",
       "stream": "stdout",
       "text": [
        "\n",
        "\t warning (STUDY #1 not found) \"anatomy-48h\" for HerS7Ss03\n",
        "\t warning (STUDY #1 not found) \"dce-48ha\" for HerS7Ss03\n",
        "\t warning (STUDY #1 not found) \"dce-48hb\" for HerS7Ss03\n",
        "HerS7Ss03day2\n",
        "HerS7Ss04"
       ]
      },
      {
       "output_type": "stream",
       "stream": "stdout",
       "text": [
        "\n",
        "HerS7Ss05"
       ]
      },
      {
       "output_type": "stream",
       "stream": "stdout",
       "text": [
        "\n",
        "HerS7Ss06"
       ]
      },
      {
       "output_type": "stream",
       "stream": "stdout",
       "text": [
        "\n",
        "HerS7Ss07"
       ]
      },
      {
       "output_type": "stream",
       "stream": "stdout",
       "text": [
        "\n",
        "wrote master_list to /Users/fmoosvi/sdata/HerS7/HerS7.json"
       ]
      },
      {
       "output_type": "stream",
       "stream": "stdout",
       "text": [
        "\n"
       ]
      }
     ],
     "prompt_number": 7
    },
    {
     "cell_type": "code",
     "collapsed": false,
     "input": [
      "analyses = collections.OrderedDict()\n",
      "fFlag = Trues\n",
      "\n",
      "## AUC 60\n",
      "analyses['auc']={'scan_label':'dce-[0-9]*',\n",
      "                 'adata_save_label':'auc60',\n",
      "                 'force_overwrite':fFlag}\n",
      "## VTC\n",
      "analyses['vtc']={'scan_label':'dce-[0-9]*',\n",
      "                 'adata_save_label':'vtc',\n",
      "                 'force_overwrite':fFlag}\n",
      "## T1 Map\n",
      "analyses['T1_LL']={'scan_label':'LL*',\n",
      "                   'adata_save_label':'T1_LL',\n",
      "                   'force_overwrite':fFlag}\n",
      "\n",
      "for atype in analyses:\n",
      "    \n",
      "    toAnalyze = True\n",
      "           \n",
      "    if atype == 'auc':\n",
      "            \n",
      "        def myfunc(dict_of_params):\n",
      "            import sarpy.fmoosvi.analysis            \n",
      "            reload(sarpy.fmoosvi.analysis)\n",
      "            \n",
      "            return sarpy.fmoosvi.analysis.h_calculate_AUC(**dict_of_params)\n",
      "\n",
      "    elif atype == 'T1_LL':\n",
      "\n",
      "        def myfunc(dict_of_params):\n",
      "        \n",
      "            import sarpy.fmoosvi.analysis\n",
      "            import sarpy.fmoosvi.getters\n",
      "            reload(sarpy.fmoosvi.analysis)\n",
      "            reload(sarpy.fmoosvi.getters)\n",
      "            \n",
      "            return sarpy.fmoosvi.analysis.h_fit_T1_LL_FAind(**dict_of_params)\n",
      "        \n",
      "    elif atype == 'vtc':\n",
      "\n",
      "        def myfunc(dict_of_params):\n",
      "        \n",
      "            import sarpy.fmoosvi.analysis\n",
      "            import sarpy.fmoosvi.getters\n",
      "            reload(sarpy.fmoosvi.analysis)\n",
      "            reload(sarpy.fmoosvi.getters)\n",
      "            \n",
      "            return sarpy.fmoosvi.analysis.h_generate_VTC(**dict_of_params)   \n",
      "        \n",
      "    else:\n",
      "        \n",
      "        toAnalyze = False        \n",
      "\n",
      "    if toAnalyze:\n",
      "        \n",
      "        an = sarpy.io.bulk_analyze.ParallelBulkAnalyzerFactory.from_function(\n",
      "                            myfunc,\n",
      "                            ipython_profile='sarlab',\n",
      "                            masterlist_fname=masterlist,\n",
      "                            **analyses[atype])\n",
      "        an.process()\n",
      "\n",
      "print('Analysis Complete')"
     ],
     "language": "python",
     "metadata": {},
     "outputs": [
      {
       "output_type": "stream",
       "stream": "stdout",
       "text": [
        "###########\n",
        "Currently, there are 16 clients running\n",
        "importing os on engine(s)\n",
        "importing sys on engine(s)\n",
        "importing sarpy on engine(s)\n",
        "importing sarpy.fmoosvi.analysis on engine(s)\n",
        "###########"
       ]
      },
      {
       "output_type": "stream",
       "stream": "stdout",
       "text": [
        "\n",
        "ValueError(If given, length of x along axis must be the same as y.) for HerS7Ss01.fy1/31 "
       ]
      },
      {
       "output_type": "stream",
       "stream": "stdout",
       "text": [
        "\n",
        "adata auc60 deleted in HerS7Ss03day2"
       ]
      },
      {
       "output_type": "stream",
       "stream": "stdout",
       "text": [
        "\n",
        "auc60 overwritten in HerS7Ss03day2.fA1/28, job id ...957b0 done on E 13 "
       ]
      },
      {
       "output_type": "stream",
       "stream": "stdout",
       "text": [
        "\n",
        "adata auc60 deleted in HerS7Ss03"
       ]
      },
      {
       "output_type": "stream",
       "stream": "stdout",
       "text": [
        "\n",
        "auc60 overwritten in HerS7Ss03.fy1/31, job id ...ef53f done on E 10 "
       ]
      },
      {
       "output_type": "stream",
       "stream": "stdout",
       "text": [
        "\n",
        "adata auc60 deleted in HerS7Ss02\n",
        "auc60 overwritten in HerS7Ss02.fy1/29, job id ...a82f0 done on E 9 "
       ]
      },
      {
       "output_type": "stream",
       "stream": "stdout",
       "text": [
        "\n",
        "adata auc60 deleted in HerS7Ss02\n",
        "auc60 overwritten in HerS7Ss02.fA1/28, job id ...66077 done on E 15 "
       ]
      },
      {
       "output_type": "stream",
       "stream": "stdout",
       "text": [
        "\n",
        "adata auc60 deleted in HerS7Ss04\n",
        "auc60 overwritten in HerS7Ss04.fy1/29, job id ...b23b5 done on E 12 "
       ]
      },
      {
       "output_type": "stream",
       "stream": "stdout",
       "text": [
        "\n",
        "adata auc60 deleted in HerS7Ss04\n",
        "auc60 overwritten in HerS7Ss04.fA1/29, job id ...694b3 done on E 8 "
       ]
      },
      {
       "output_type": "stream",
       "stream": "stdout",
       "text": [
        "\n",
        "adata auc60 deleted in HerS7Ss03day2"
       ]
      },
      {
       "output_type": "stream",
       "stream": "stdout",
       "text": [
        "\n",
        "auc60 overwritten in HerS7Ss03day2.fA1/28, job id ...37710 done on E 3 "
       ]
      },
      {
       "output_type": "stream",
       "stream": "stdout",
       "text": [
        "\n",
        "adata auc60 deleted in HerS7Ss01"
       ]
      },
      {
       "output_type": "stream",
       "stream": "stdout",
       "text": [
        "\n",
        "auc60 overwritten in HerS7Ss01.fy1/27, job id ...e33dc done on E 4 "
       ]
      },
      {
       "output_type": "stream",
       "stream": "stdout",
       "text": [
        "\n",
        "adata auc60 deleted in HerS7Ss05\n",
        "auc60 overwritten in HerS7Ss05.fC2/32, job id ...63646 done on E 13 "
       ]
      },
      {
       "output_type": "stream",
       "stream": "stdout",
       "text": [
        "\n",
        "adata auc60 deleted in HerS7Ss06\n",
        "auc60 overwritten in HerS7Ss06.fC1/29, job id ...4aa73 done on E 9 "
       ]
      },
      {
       "output_type": "stream",
       "stream": "stdout",
       "text": [
        "\n",
        "adata auc60 deleted in HerS7Ss04"
       ]
      },
      {
       "output_type": "stream",
       "stream": "stdout",
       "text": [
        "\n",
        "auc60 overwritten in HerS7Ss04.fA1/27, job id ...12f6e done on E 14 "
       ]
      },
      {
       "output_type": "stream",
       "stream": "stdout",
       "text": [
        "\n",
        "adata auc60 deleted in HerS7Ss02"
       ]
      },
      {
       "output_type": "stream",
       "stream": "stdout",
       "text": [
        "\n",
        "auc60 overwritten in HerS7Ss02.fy1/27, job id ...2776f done on E 11 "
       ]
      },
      {
       "output_type": "stream",
       "stream": "stdout",
       "text": [
        "\n",
        "adata auc60 deleted in HerS7Ss05\n",
        "auc60 overwritten in HerS7Ss05.fA2/30, job id ...24020 done on E 12 "
       ]
      },
      {
       "output_type": "stream",
       "stream": "stdout",
       "text": [
        "\n",
        "adata auc60 deleted in HerS7Ss06"
       ]
      },
      {
       "output_type": "stream",
       "stream": "stdout",
       "text": [
        "\n",
        "auc60 overwritten in HerS7Ss06.fA1/27, job id ...ee09c done on E 8 "
       ]
      },
      {
       "output_type": "stream",
       "stream": "stdout",
       "text": [
        "\n",
        "adata auc60 deleted in HerS7Ss03day2"
       ]
      },
      {
       "output_type": "stream",
       "stream": "stdout",
       "text": [
        "\n",
        "auc60 overwritten in HerS7Ss03day2.fA1/26, job id ...5963c done on E 2 "
       ]
      },
      {
       "output_type": "stream",
       "stream": "stdout",
       "text": [
        "\n",
        "adata auc60 deleted in HerS7Ss03"
       ]
      },
      {
       "output_type": "stream",
       "stream": "stdout",
       "text": [
        "\n",
        "auc60 overwritten in HerS7Ss03.fy1/29, job id ...ec6d6 done on E 5 "
       ]
      },
      {
       "output_type": "stream",
       "stream": "stdout",
       "text": [
        "\n",
        "adata auc60 deleted in HerS7Ss07"
       ]
      },
      {
       "output_type": "stream",
       "stream": "stdout",
       "text": [
        "\n",
        "auc60 overwritten in HerS7Ss07.fA2/27, job id ...9d0f2 done on E 13 "
       ]
      },
      {
       "output_type": "stream",
       "stream": "stdout",
       "text": [
        "\n",
        "adata auc60 deleted in HerS7Ss04"
       ]
      },
      {
       "output_type": "stream",
       "stream": "stdout",
       "text": [
        "\n",
        "auc60 overwritten in HerS7Ss04.fy1/27, job id ...d93d9 done on E 1 "
       ]
      },
      {
       "output_type": "stream",
       "stream": "stdout",
       "text": [
        "\n",
        "adata auc60 deleted in HerS7Ss06\n",
        "auc60 overwritten in HerS7Ss06.fA1/29, job id ...7c4d0 done on E 3 "
       ]
      },
      {
       "output_type": "stream",
       "stream": "stdout",
       "text": [
        "\n",
        "adata auc60 deleted in HerS7Ss02"
       ]
      },
      {
       "output_type": "stream",
       "stream": "stdout",
       "text": [
        "\n",
        "auc60 overwritten in HerS7Ss02.fA1/26, job id ...2079e done on E 0 "
       ]
      },
      {
       "output_type": "stream",
       "stream": "stdout",
       "text": [
        "\n",
        "adata auc60 deleted in HerS7Ss05"
       ]
      },
      {
       "output_type": "stream",
       "stream": "stdout",
       "text": [
        "\n",
        "auc60 overwritten in HerS7Ss05.fC2/30, job id ...a16d5 done on E 6 "
       ]
      },
      {
       "output_type": "stream",
       "stream": "stdout",
       "text": [
        "\n",
        "adata auc60 deleted in HerS7Ss06"
       ]
      },
      {
       "output_type": "stream",
       "stream": "stdout",
       "text": [
        "\n",
        "auc60 overwritten in HerS7Ss06.fC1/27, job id ...85f7b done on E 10 "
       ]
      },
      {
       "output_type": "stream",
       "stream": "stdout",
       "text": [
        "\n",
        "adata auc60 deleted in HerS7Ss05"
       ]
      },
      {
       "output_type": "stream",
       "stream": "stdout",
       "text": [
        "\n",
        "auc60 overwritten in HerS7Ss05.fA2/28, job id ...f65a2 done on E 15 "
       ]
      },
      {
       "output_type": "stream",
       "stream": "stdout",
       "text": [
        "\n",
        "adata auc60 deleted in HerS7Ss07"
       ]
      },
      {
       "output_type": "stream",
       "stream": "stdout",
       "text": [
        "\n",
        "auc60 overwritten in HerS7Ss07.fC1/29, job id ...15c0f done on E 11 "
       ]
      },
      {
       "output_type": "stream",
       "stream": "stdout",
       "text": [
        "\n",
        "adata auc60 deleted in HerS7Ss07"
       ]
      },
      {
       "output_type": "stream",
       "stream": "stdout",
       "text": [
        "\n",
        "auc60 overwritten in HerS7Ss07.fC1/27, job id ...5ef90 done on E 14 "
       ]
      },
      {
       "output_type": "stream",
       "stream": "stdout",
       "text": [
        "\n",
        "adata auc60 deleted in HerS7Ss07"
       ]
      },
      {
       "output_type": "stream",
       "stream": "stdout",
       "text": [
        "\n",
        "auc60 overwritten in HerS7Ss07.fA2/29, job id ...24afc done on E 12 "
       ]
      },
      {
       "output_type": "stream",
       "stream": "stdout",
       "text": [
        "\n",
        "adata auc60 deleted in HerS7Ss03day2"
       ]
      },
      {
       "output_type": "stream",
       "stream": "stdout",
       "text": [
        "\n",
        "auc60 overwritten in HerS7Ss03day2.fA1/26, job id ...6a492 done on E 7 "
       ]
      },
      {
       "output_type": "stream",
       "stream": "stdout",
       "text": [
        "\n",
        "###### Parallelized Code: 10.1545109749 s \n",
        "\n",
        "###########"
       ]
      },
      {
       "output_type": "stream",
       "stream": "stdout",
       "text": [
        "\n",
        "Currently, there are 16 clients running\n",
        "importing os on engine(s)"
       ]
      },
      {
       "output_type": "stream",
       "stream": "stdout",
       "text": [
        "\n",
        "importing sys on engine(s)\n",
        "importing sarpy on engine(s)"
       ]
      },
      {
       "output_type": "stream",
       "stream": "stdout",
       "text": [
        "\n",
        "importing sarpy.fmoosvi.analysis on engine(s)\n",
        "###########"
       ]
      },
      {
       "output_type": "stream",
       "stream": "stdout",
       "text": [
        "\n",
        "adata vtc deleted in HerS7Ss01"
       ]
      },
      {
       "output_type": "stream",
       "stream": "stdout",
       "text": [
        "\n",
        "vtc overwritten in HerS7Ss01.fy1/31, job id ...d1523 done on E 0 "
       ]
      },
      {
       "output_type": "stream",
       "stream": "stdout",
       "text": [
        "\n",
        "adata vtc deleted in HerS7Ss03"
       ]
      },
      {
       "output_type": "stream",
       "stream": "stdout",
       "text": [
        "\n",
        "vtc overwritten in HerS7Ss03.fy1/31, job id ...e18b6 done on E 15 "
       ]
      },
      {
       "output_type": "stream",
       "stream": "stdout",
       "text": [
        "\n",
        "adata vtc deleted in HerS7Ss07"
       ]
      },
      {
       "output_type": "stream",
       "stream": "stdout",
       "text": [
        "\n",
        "vtc overwritten in HerS7Ss07.fA2/27, job id ...48f6a done on E 9 "
       ]
      },
      {
       "output_type": "stream",
       "stream": "stdout",
       "text": [
        "\n",
        "adata vtc deleted in HerS7Ss06"
       ]
      },
      {
       "output_type": "stream",
       "stream": "stdout",
       "text": [
        "\n",
        "vtc overwritten in HerS7Ss06.fC1/27, job id ...ec49f done on E 11 "
       ]
      },
      {
       "output_type": "stream",
       "stream": "stdout",
       "text": [
        "\n",
        "adata vtc deleted in HerS7Ss07"
       ]
      },
      {
       "output_type": "stream",
       "stream": "stdout",
       "text": [
        "\n",
        "vtc overwritten in HerS7Ss07.fC1/29, job id ...bbdb9 done on E 1 "
       ]
      },
      {
       "output_type": "stream",
       "stream": "stdout",
       "text": [
        "\n",
        "adata vtc deleted in HerS7Ss02"
       ]
      },
      {
       "output_type": "stream",
       "stream": "stdout",
       "text": [
        "\n",
        "vtc overwritten in HerS7Ss02.fA1/26, job id ...5813b done on E 2 "
       ]
      },
      {
       "output_type": "stream",
       "stream": "stdout",
       "text": [
        "\n",
        "adata vtc deleted in HerS7Ss04"
       ]
      },
      {
       "output_type": "stream",
       "stream": "stdout",
       "text": [
        "\n",
        "vtc overwritten in HerS7Ss04.fy1/29, job id ...7da04 done on E 11 "
       ]
      },
      {
       "output_type": "stream",
       "stream": "stdout",
       "text": [
        "\n",
        "adata vtc deleted in HerS7Ss07"
       ]
      },
      {
       "output_type": "stream",
       "stream": "stdout",
       "text": [
        "\n",
        "vtc overwritten in HerS7Ss07.fC1/27, job id ...cee36 done on E 14 "
       ]
      },
      {
       "output_type": "stream",
       "stream": "stdout",
       "text": [
        "\n",
        "adata vtc deleted in HerS7Ss03day2"
       ]
      },
      {
       "output_type": "stream",
       "stream": "stdout",
       "text": [
        "\n",
        "vtc overwritten in HerS7Ss03day2.fA1/26, job id ...03c41 done on E 10 "
       ]
      },
      {
       "output_type": "stream",
       "stream": "stdout",
       "text": [
        "\n",
        "adata vtc deleted in HerS7Ss03day2"
       ]
      },
      {
       "output_type": "stream",
       "stream": "stdout",
       "text": [
        "\n",
        "vtc overwritten in HerS7Ss03day2.fA1/28, job id ...5eabb done on E 9 "
       ]
      },
      {
       "output_type": "stream",
       "stream": "stdout",
       "text": [
        "\n",
        "adata vtc deleted in HerS7Ss01"
       ]
      },
      {
       "output_type": "stream",
       "stream": "stdout",
       "text": [
        "\n",
        "vtc overwritten in HerS7Ss01.fy1/27, job id ...d8fa1 done on E 4 "
       ]
      },
      {
       "output_type": "stream",
       "stream": "stdout",
       "text": [
        "\n",
        "adata vtc deleted in HerS7Ss06"
       ]
      },
      {
       "output_type": "stream",
       "stream": "stdout",
       "text": [
        "\n",
        "vtc overwritten in HerS7Ss06.fA1/27, job id ...30abb done on E 3 "
       ]
      },
      {
       "output_type": "stream",
       "stream": "stdout",
       "text": [
        "\n",
        "adata vtc deleted in HerS7Ss05"
       ]
      },
      {
       "output_type": "stream",
       "stream": "stdout",
       "text": [
        "\n",
        "vtc overwritten in HerS7Ss05.fC2/30, job id ...be743 done on E 0 "
       ]
      },
      {
       "output_type": "stream",
       "stream": "stdout",
       "text": [
        "\n",
        "adata vtc deleted in HerS7Ss05"
       ]
      },
      {
       "output_type": "stream",
       "stream": "stdout",
       "text": [
        "\n",
        "vtc overwritten in HerS7Ss05.fC2/32, job id ...ee317 done on E 15 "
       ]
      },
      {
       "output_type": "stream",
       "stream": "stdout",
       "text": [
        "\n",
        "adata vtc deleted in HerS7Ss05"
       ]
      },
      {
       "output_type": "stream",
       "stream": "stdout",
       "text": [
        "\n",
        "vtc overwritten in HerS7Ss05.fA2/28, job id ...c0419 done on E 12 "
       ]
      },
      {
       "output_type": "stream",
       "stream": "stdout",
       "text": [
        "\n",
        "adata vtc deleted in HerS7Ss06"
       ]
      },
      {
       "output_type": "stream",
       "stream": "stdout",
       "text": [
        "\n",
        "vtc overwritten in HerS7Ss06.fC1/29, job id ...7c017 done on E 7 "
       ]
      },
      {
       "output_type": "stream",
       "stream": "stdout",
       "text": [
        "\n",
        "adata vtc deleted in HerS7Ss03day2"
       ]
      },
      {
       "output_type": "stream",
       "stream": "stdout",
       "text": [
        "\n",
        "vtc overwritten in HerS7Ss03day2.fA1/28, job id ...f6996 done on E 3 "
       ]
      },
      {
       "output_type": "stream",
       "stream": "stdout",
       "text": [
        "\n",
        "adata vtc deleted in HerS7Ss07"
       ]
      },
      {
       "output_type": "stream",
       "stream": "stdout",
       "text": [
        "\n",
        "vtc overwritten in HerS7Ss07.fA2/29, job id ...d6d96 done on E 8 "
       ]
      },
      {
       "output_type": "stream",
       "stream": "stdout",
       "text": [
        "\n",
        "adata vtc deleted in HerS7Ss03"
       ]
      },
      {
       "output_type": "stream",
       "stream": "stdout",
       "text": [
        "\n",
        "vtc overwritten in HerS7Ss03.fy1/29, job id ...b71e8 done on E 6 "
       ]
      },
      {
       "output_type": "stream",
       "stream": "stdout",
       "text": [
        "\n",
        "adata vtc deleted in HerS7Ss02"
       ]
      },
      {
       "output_type": "stream",
       "stream": "stdout",
       "text": [
        "\n",
        "vtc overwritten in HerS7Ss02.fy1/27, job id ...0fa9a done on E 5 "
       ]
      },
      {
       "output_type": "stream",
       "stream": "stdout",
       "text": [
        "\n",
        "adata vtc deleted in HerS7Ss03day2"
       ]
      },
      {
       "output_type": "stream",
       "stream": "stdout",
       "text": [
        "\n",
        "vtc overwritten in HerS7Ss03day2.fA1/26, job id ...45f9d done on E 8 "
       ]
      },
      {
       "output_type": "stream",
       "stream": "stdout",
       "text": [
        "\n",
        "adata vtc deleted in HerS7Ss06"
       ]
      },
      {
       "output_type": "stream",
       "stream": "stdout",
       "text": [
        "\n",
        "vtc overwritten in HerS7Ss06.fA1/29, job id ...4fc8f done on E 15 "
       ]
      },
      {
       "output_type": "stream",
       "stream": "stdout",
       "text": [
        "\n",
        "adata vtc deleted in HerS7Ss02"
       ]
      },
      {
       "output_type": "stream",
       "stream": "stdout",
       "text": [
        "\n",
        "vtc overwritten in HerS7Ss02.fy1/29, job id ...d075c done on E 7 "
       ]
      },
      {
       "output_type": "stream",
       "stream": "stdout",
       "text": [
        "\n",
        "adata vtc deleted in HerS7Ss05"
       ]
      },
      {
       "output_type": "stream",
       "stream": "stdout",
       "text": [
        "\n",
        "vtc overwritten in HerS7Ss05.fA2/30, job id ...925c4 done on E 9 "
       ]
      },
      {
       "output_type": "stream",
       "stream": "stdout",
       "text": [
        "\n",
        "adata vtc deleted in HerS7Ss04"
       ]
      },
      {
       "output_type": "stream",
       "stream": "stdout",
       "text": [
        "\n",
        "vtc overwritten in HerS7Ss04.fA1/29, job id ...3ef5d done on E 12 "
       ]
      },
      {
       "output_type": "stream",
       "stream": "stdout",
       "text": [
        "\n",
        "adata vtc deleted in HerS7Ss02"
       ]
      },
      {
       "output_type": "stream",
       "stream": "stdout",
       "text": [
        "\n",
        "vtc overwritten in HerS7Ss02.fA1/28, job id ...f3f7c done on E 1 "
       ]
      },
      {
       "output_type": "stream",
       "stream": "stdout",
       "text": [
        "\n",
        "adata vtc deleted in HerS7Ss04"
       ]
      },
      {
       "output_type": "stream",
       "stream": "stdout",
       "text": [
        "\n",
        "vtc overwritten in HerS7Ss04.fA1/27, job id ...ea2de done on E 13 "
       ]
      },
      {
       "output_type": "stream",
       "stream": "stdout",
       "text": [
        "\n",
        "adata vtc deleted in HerS7Ss04"
       ]
      },
      {
       "output_type": "stream",
       "stream": "stdout",
       "text": [
        "\n",
        "vtc overwritten in HerS7Ss04.fy1/27, job id ...b2a73 done on E 14 "
       ]
      },
      {
       "output_type": "stream",
       "stream": "stdout",
       "text": [
        "\n",
        "###### Parallelized Code: 569.3878088 s \n",
        "\n",
        "###########\n",
        "Currently, there are 16 clients running\n",
        "importing os on engine(s)"
       ]
      },
      {
       "output_type": "stream",
       "stream": "stdout",
       "text": [
        "\n",
        "importing sys on engine(s)\n",
        "importing sarpy on engine(s)\n",
        "importing sarpy.fmoosvi.analysis on engine(s)"
       ]
      },
      {
       "output_type": "stream",
       "stream": "stdout",
       "text": [
        "\n",
        "###########"
       ]
      },
      {
       "output_type": "stream",
       "stream": "stdout",
       "text": [
        "\n",
        "no scans fit the criterion so nothing was processed\n",
        "###### Parallelized Code: 0.000475168228149 s \n",
        "\n",
        "Analysis Complete\n"
       ]
      }
     ],
     "prompt_number": 2
    },
    {
     "cell_type": "markdown",
     "metadata": {},
     "source": [
      "### Transferring ROIs"
     ]
    },
    {
     "cell_type": "code",
     "collapsed": true,
     "input": [
      "import sarpy.fmoosvi.wrappers\n",
      "reload(sarpy.fmoosvi.wrappers)\n",
      "fFlag = True\n",
      "\n",
      "label = []\n",
      "#label.append('T1_LL')\n",
      "label.append('auc60')\n",
      "\n",
      "for l in label:\n",
      "    sarpy.fmoosvi.wrappers.bulk_transfer_roi(masterlist,l, forceVal = fFlag)"
     ],
     "language": "python",
     "metadata": {},
     "outputs": [
      {
       "output_type": "stream",
       "stream": "stdout",
       "text": [
        "adata or scan data not found for HerS7Ss01.fy1/27\n",
        "adata auc60_roi deleted in HerS7Ss02"
       ]
      },
      {
       "output_type": "stream",
       "stream": "stdout",
       "text": [
        "\n",
        "\t Saved auc60_roi in HerS7Ss02.fy1/27"
       ]
      },
      {
       "output_type": "stream",
       "stream": "stdout",
       "text": [
        "\n",
        "adata auc60_roi deleted in HerS7Ss02"
       ]
      },
      {
       "output_type": "stream",
       "stream": "stdout",
       "text": [
        "\n",
        "\t Saved auc60_roi in HerS7Ss02.fy1/29"
       ]
      },
      {
       "output_type": "stream",
       "stream": "stdout",
       "text": [
        "\n",
        "adata or scan data not found for HerS7Ss03.fy1/29"
       ]
      },
      {
       "output_type": "stream",
       "stream": "stdout",
       "text": [
        "\n",
        "adata or scan data not found for HerS7Ss03.fy1/31\n",
        "adata auc60_roi deleted in HerS7Ss03day2"
       ]
      },
      {
       "output_type": "stream",
       "stream": "stdout",
       "text": [
        "\n",
        "\t Saved auc60_roi in HerS7Ss03day2.fA1/26"
       ]
      },
      {
       "output_type": "stream",
       "stream": "stdout",
       "text": [
        "\n",
        "adata auc60_roi deleted in HerS7Ss03day2"
       ]
      },
      {
       "output_type": "stream",
       "stream": "stdout",
       "text": [
        "\n",
        "\t Saved auc60_roi in HerS7Ss03day2.fA1/28"
       ]
      },
      {
       "output_type": "stream",
       "stream": "stdout",
       "text": [
        "\n",
        "adata auc60_roi deleted in HerS7Ss04"
       ]
      },
      {
       "output_type": "stream",
       "stream": "stdout",
       "text": [
        "\n",
        "\t Saved auc60_roi in HerS7Ss04.fy1/27"
       ]
      },
      {
       "output_type": "stream",
       "stream": "stdout",
       "text": [
        "\n",
        "adata auc60_roi deleted in HerS7Ss04"
       ]
      },
      {
       "output_type": "stream",
       "stream": "stdout",
       "text": [
        "\n",
        "\t Saved auc60_roi in HerS7Ss04.fy1/29"
       ]
      },
      {
       "output_type": "stream",
       "stream": "stdout",
       "text": [
        "\n",
        "adata auc60_roi deleted in HerS7Ss05"
       ]
      },
      {
       "output_type": "stream",
       "stream": "stdout",
       "text": [
        "\n",
        "\t Saved auc60_roi in HerS7Ss05.fC2/30"
       ]
      },
      {
       "output_type": "stream",
       "stream": "stdout",
       "text": [
        "\n",
        "adata auc60_roi deleted in HerS7Ss05"
       ]
      },
      {
       "output_type": "stream",
       "stream": "stdout",
       "text": [
        "\n",
        "\t Saved auc60_roi in HerS7Ss05.fC2/32"
       ]
      },
      {
       "output_type": "stream",
       "stream": "stdout",
       "text": [
        "\n",
        "adata auc60_roi deleted in HerS7Ss06"
       ]
      },
      {
       "output_type": "stream",
       "stream": "stdout",
       "text": [
        "\n",
        "\t Saved auc60_roi in HerS7Ss06.fC1/27"
       ]
      },
      {
       "output_type": "stream",
       "stream": "stdout",
       "text": [
        "\n",
        "adata auc60_roi deleted in HerS7Ss06"
       ]
      },
      {
       "output_type": "stream",
       "stream": "stdout",
       "text": [
        "\n",
        "\t Saved auc60_roi in HerS7Ss06.fC1/29"
       ]
      },
      {
       "output_type": "stream",
       "stream": "stdout",
       "text": [
        "\n",
        "adata auc60_roi deleted in HerS7Ss07"
       ]
      },
      {
       "output_type": "stream",
       "stream": "stdout",
       "text": [
        "\n",
        "\t Saved auc60_roi in HerS7Ss07.fC1/27"
       ]
      },
      {
       "output_type": "stream",
       "stream": "stdout",
       "text": [
        "\n",
        "adata auc60_roi deleted in HerS7Ss07"
       ]
      },
      {
       "output_type": "stream",
       "stream": "stdout",
       "text": [
        "\n",
        "\t Saved auc60_roi in HerS7Ss07.fC1/29"
       ]
      },
      {
       "output_type": "stream",
       "stream": "stdout",
       "text": [
        "\n",
        "adata auc60_roi deleted in HerS7Ss01"
       ]
      },
      {
       "output_type": "stream",
       "stream": "stdout",
       "text": [
        "\n",
        "\t Saved auc60_roi in HerS7Ss01.fy1/27"
       ]
      },
      {
       "output_type": "stream",
       "stream": "stdout",
       "text": [
        "\n",
        "adata auc60_roi deleted in HerS7Ss02"
       ]
      },
      {
       "output_type": "stream",
       "stream": "stdout",
       "text": [
        "\n",
        "\t Saved auc60_roi in HerS7Ss02.fA1/26"
       ]
      },
      {
       "output_type": "stream",
       "stream": "stdout",
       "text": [
        "\n",
        "adata auc60_roi deleted in HerS7Ss02"
       ]
      },
      {
       "output_type": "stream",
       "stream": "stdout",
       "text": [
        "\n",
        "\t Saved auc60_roi in HerS7Ss02.fA1/28"
       ]
      },
      {
       "output_type": "stream",
       "stream": "stdout",
       "text": [
        "\n",
        "adata auc60_roi deleted in HerS7Ss03"
       ]
      },
      {
       "output_type": "stream",
       "stream": "stdout",
       "text": [
        "\n",
        "\t Saved auc60_roi in HerS7Ss03.fy1/29"
       ]
      },
      {
       "output_type": "stream",
       "stream": "stdout",
       "text": [
        "\n",
        "adata auc60_roi deleted in HerS7Ss03"
       ]
      },
      {
       "output_type": "stream",
       "stream": "stdout",
       "text": [
        "\n",
        "\t Saved auc60_roi in HerS7Ss03.fy1/31"
       ]
      },
      {
       "output_type": "stream",
       "stream": "stdout",
       "text": [
        "\n",
        "adata auc60_roi deleted in HerS7Ss03day2"
       ]
      },
      {
       "output_type": "stream",
       "stream": "stdout",
       "text": [
        "\n",
        "\t Saved auc60_roi in HerS7Ss03day2.fA1/26"
       ]
      },
      {
       "output_type": "stream",
       "stream": "stdout",
       "text": [
        "\n",
        "adata auc60_roi deleted in HerS7Ss03day2"
       ]
      },
      {
       "output_type": "stream",
       "stream": "stdout",
       "text": [
        "\n",
        "\t Saved auc60_roi in HerS7Ss03day2.fA1/28"
       ]
      },
      {
       "output_type": "stream",
       "stream": "stdout",
       "text": [
        "\n",
        "adata auc60_roi deleted in HerS7Ss04"
       ]
      },
      {
       "output_type": "stream",
       "stream": "stdout",
       "text": [
        "\n",
        "\t Saved auc60_roi in HerS7Ss04.fA1/27"
       ]
      },
      {
       "output_type": "stream",
       "stream": "stdout",
       "text": [
        "\n",
        "adata auc60_roi deleted in HerS7Ss04"
       ]
      },
      {
       "output_type": "stream",
       "stream": "stdout",
       "text": [
        "\n",
        "\t Saved auc60_roi in HerS7Ss04.fA1/29"
       ]
      },
      {
       "output_type": "stream",
       "stream": "stdout",
       "text": [
        "\n",
        "adata auc60_roi deleted in HerS7Ss05"
       ]
      },
      {
       "output_type": "stream",
       "stream": "stdout",
       "text": [
        "\n",
        "\t Saved auc60_roi in HerS7Ss05.fA2/28"
       ]
      },
      {
       "output_type": "stream",
       "stream": "stdout",
       "text": [
        "\n",
        "adata auc60_roi deleted in HerS7Ss05"
       ]
      },
      {
       "output_type": "stream",
       "stream": "stdout",
       "text": [
        "\n",
        "\t Saved auc60_roi in HerS7Ss05.fA2/30"
       ]
      },
      {
       "output_type": "stream",
       "stream": "stdout",
       "text": [
        "\n",
        "adata auc60_roi deleted in HerS7Ss06"
       ]
      },
      {
       "output_type": "stream",
       "stream": "stdout",
       "text": [
        "\n",
        "\t Saved auc60_roi in HerS7Ss06.fA1/27"
       ]
      },
      {
       "output_type": "stream",
       "stream": "stdout",
       "text": [
        "\n",
        "adata auc60_roi deleted in HerS7Ss06"
       ]
      },
      {
       "output_type": "stream",
       "stream": "stdout",
       "text": [
        "\n",
        "\t Saved auc60_roi in HerS7Ss06.fA1/29"
       ]
      },
      {
       "output_type": "stream",
       "stream": "stdout",
       "text": [
        "\n",
        "adata auc60_roi deleted in HerS7Ss07"
       ]
      },
      {
       "output_type": "stream",
       "stream": "stdout",
       "text": [
        "\n",
        "\t Saved auc60_roi in HerS7Ss07.fA2/27"
       ]
      },
      {
       "output_type": "stream",
       "stream": "stdout",
       "text": [
        "\n",
        "adata auc60_roi deleted in HerS7Ss07"
       ]
      },
      {
       "output_type": "stream",
       "stream": "stdout",
       "text": [
        "\n",
        "\t Saved auc60_roi in HerS7Ss07.fA2/29"
       ]
      },
      {
       "output_type": "stream",
       "stream": "stdout",
       "text": [
        "\n"
       ]
      }
     ],
     "prompt_number": 2
    },
    {
     "cell_type": "markdown",
     "metadata": {},
     "source": [
      "### Advanced Analyses"
     ]
    },
    {
     "cell_type": "code",
     "collapsed": false,
     "input": [
      "import sarpy\n",
      "import sarpy.io.bulk_analyze\n",
      "import sarpy.fmoosvi.analysis\n",
      "import collections\n",
      "\n",
      "\n",
      "advancedAnalyses = collections.OrderedDict()\n",
      "fFlag = True\n",
      "\n",
      "## Enhancement Curve\n",
      "advancedAnalyses['ec']={\n",
      "                         'scan_label':'dce-[0-9]*ha',\n",
      "                         'adata_roi_label':'auc60_roi',\n",
      "                         'adata_save_label':'ec',\n",
      "                         'force_overwrite':fFlag\n",
      "                         }\n",
      "\n",
      "## Gd_conc - 0h\n",
      "advancedAnalyses['gd_conc_0h']={\n",
      "                             'scan_label':'dce-0ha',\n",
      "                             'other_scan_label':'LL-0h-',\n",
      "                             'adata_label':'T1_LL',\n",
      "                             'relaxivity':4.3e-3,\n",
      "                             'adata_save_label':'gd_conc',\n",
      "                             'force_overwrite':fFlag\n",
      "                             }\n",
      "## Gd_conc - 24h\n",
      "advancedAnalyses['gd_conc_48h']={\n",
      "                             'scan_label':'dce-48ha',\n",
      "                             'other_scan_label':'LL-48h-',\n",
      "                             'adata_label':'T1_LL',\n",
      "                             'relaxivity':4.3e-3,\n",
      "                             'adata_save_label':'gd_conc',\n",
      "                             'force_overwrite':fFlag\n",
      "                             }\n",
      "\n",
      "## AUGC60 - 0h\n",
      "advancedAnalyses['augc_0h']={\n",
      "                             'scan_label':'dce-0ha',\n",
      "                             'other_scan_label':'LL-0h-',\n",
      "                             'adata_label':'gd_conc',\n",
      "                             'relaxivity':4.3e-3,\n",
      "                             'adata_save_label':'augc60',\n",
      "                             'force_overwrite':fFlag\n",
      "                             }\n",
      "\n",
      "\n",
      "## AUGC60 - 24h\n",
      "advancedAnalyses['augc_48h']={\n",
      "                             'scan_label':'dce-48ha',\n",
      "                             'other_scan_label':'LL-48h-',\n",
      "                             'adata_label':'gd_conc',\n",
      "                             'relaxivity':4.3e-3,\n",
      "                             'adata_save_label':'augc60',\n",
      "                             'force_overwrite':fFlag\n",
      "                             }\n",
      "toAnalyze = True\n",
      "\n",
      "for atype in advancedAnalyses:\n",
      "           \n",
      "    if 'ec' in atype:\n",
      "            \n",
      "        def myfunc(dict_of_params):\n",
      "            import sarpy.fmoosvi.analysis            \n",
      "            reload(sarpy.fmoosvi.analysis)\n",
      "            \n",
      "            import sarpy.fmoosvi.getters\n",
      "            reload(sarpy.fmoosvi.getters)\n",
      "            \n",
      "            import sys\n",
      "\n",
      "            return sarpy.fmoosvi.analysis.h_enhancement_curve(**dict_of_params)\n",
      "    \n",
      "    if 'gd_conc' in atype:\n",
      "\n",
      "        def myfunc(dict_of_params):\n",
      "        \n",
      "            import sarpy.fmoosvi.analysis            \n",
      "            reload(sarpy.fmoosvi.analysis)\n",
      "            \n",
      "            import sarpy.fmoosvi.getters\n",
      "            reload(sarpy.fmoosvi.getters)\n",
      "            \n",
      "            import sys\n",
      "            return sarpy.fmoosvi.analysis.h_conc_from_signal(**dict_of_params)\n",
      "        \n",
      "    if 'augc' in atype:\n",
      "\n",
      "        def myfunc(dict_of_params):\n",
      "        \n",
      "            import sarpy.fmoosvi.analysis            \n",
      "            reload(sarpy.fmoosvi.analysis)\n",
      "            \n",
      "            import sarpy.fmoosvi.getters\n",
      "            reload(sarpy.fmoosvi.getters)\n",
      "            \n",
      "            import sys\n",
      "            return sarpy.fmoosvi.analysis.h_calculate_AUGC(**dict_of_params)        \n",
      "        \n",
      "## Create the factory, and then execute                \n",
      "    an = sarpy.io.bulk_analyze.ParallelBulkAnalyzerFactory.from_function(myfunc, \n",
      "                                                        masterlist_fname=masterlist, \n",
      "                                                        **advancedAnalyses[atype])\n",
      "    an.process()"
     ],
     "language": "python",
     "metadata": {},
     "outputs": [
      {
       "output_type": "stream",
       "stream": "stdout",
       "text": [
        "###########\n",
        "Currently, there are 16 clients running\n",
        "importing os on engine(s)\n",
        "importing sys on engine(s)"
       ]
      },
      {
       "output_type": "stream",
       "stream": "stdout",
       "text": [
        "\n",
        "importing sarpy on engine(s)\n",
        "importing sarpy.fmoosvi.analysis on engine(s)\n",
        "###########"
       ]
      },
      {
       "output_type": "stream",
       "stream": "stdout",
       "text": [
        "\n",
        "ec overwritten in HerS7Ss02.fA1/26, job id ...9bc51 done on E 4 "
       ]
      },
      {
       "output_type": "stream",
       "stream": "stdout",
       "text": [
        "\n",
        "ec overwritten in HerS7Ss02.fy1/27, job id ...116f7 done on E 8 "
       ]
      },
      {
       "output_type": "stream",
       "stream": "stdout",
       "text": [
        "\n",
        "adata ec deleted in HerS7Ss03day2"
       ]
      },
      {
       "output_type": "stream",
       "stream": "stdout",
       "text": [
        "\n",
        "ec overwritten in HerS7Ss03day2.fA1/26, job id ...e551c done on E 2 "
       ]
      },
      {
       "output_type": "stream",
       "stream": "stdout",
       "text": [
        "\n",
        "adata ec deleted in HerS7Ss07"
       ]
      },
      {
       "output_type": "stream",
       "stream": "stdout",
       "text": [
        "\n",
        "ec overwritten in HerS7Ss07.fC1/27, job id ...328ba done on E 3 "
       ]
      },
      {
       "output_type": "stream",
       "stream": "stdout",
       "text": [
        "\n",
        "ec overwritten in HerS7Ss04.fA1/27, job id ...018fb done on E 13 "
       ]
      },
      {
       "output_type": "stream",
       "stream": "stdout",
       "text": [
        "\n",
        "adata ec deleted in HerS7Ss03day2"
       ]
      },
      {
       "output_type": "stream",
       "stream": "stdout",
       "text": [
        "\n",
        "ec overwritten in HerS7Ss03day2.fA1/26, job id ...26beb done on E 6 "
       ]
      },
      {
       "output_type": "stream",
       "stream": "stdout",
       "text": [
        "\n",
        "ec overwritten in HerS7Ss05.fC2/30, job id ...868f2 done on E 0 "
       ]
      },
      {
       "output_type": "stream",
       "stream": "stdout",
       "text": [
        "\n",
        "ec overwritten in HerS7Ss07.fA2/27, job id ...4619b done on E 15 "
       ]
      },
      {
       "output_type": "stream",
       "stream": "stdout",
       "text": [
        "\n",
        "ec overwritten in HerS7Ss04.fy1/27, job id ...770e1 done on E 10 "
       ]
      },
      {
       "output_type": "stream",
       "stream": "stdout",
       "text": [
        "\n",
        "ec overwritten in HerS7Ss06.fA1/27, job id ...0547e done on E 7 "
       ]
      },
      {
       "output_type": "stream",
       "stream": "stdout",
       "text": [
        "\n",
        "ec overwritten in HerS7Ss03.fy1/29, job id ...0ecad done on E 5 "
       ]
      },
      {
       "output_type": "stream",
       "stream": "stdout",
       "text": [
        "\n",
        "ec overwritten in HerS7Ss06.fC1/27, job id ...db9c6 done on E 11 "
       ]
      },
      {
       "output_type": "stream",
       "stream": "stdout",
       "text": [
        "\n",
        "ec overwritten in HerS7Ss01.fy1/27, job id ...fc482 done on E 9 "
       ]
      },
      {
       "output_type": "stream",
       "stream": "stdout",
       "text": [
        "\n",
        "ec overwritten in HerS7Ss05.fA2/28, job id ...fb383 done on E 12 "
       ]
      },
      {
       "output_type": "stream",
       "stream": "stdout",
       "text": [
        "\n",
        "###### Parallelized Code: 4.88257217407 s \n",
        "\n",
        "###########\n",
        "Currently, there are 16 clients running\n",
        "importing os on engine(s)"
       ]
      },
      {
       "output_type": "stream",
       "stream": "stdout",
       "text": [
        "\n",
        "importing sys on engine(s)\n",
        "importing sarpy on engine(s)\n",
        "importing sarpy.fmoosvi.analysis on engine(s)"
       ]
      },
      {
       "output_type": "stream",
       "stream": "stdout",
       "text": [
        "\n",
        "###########"
       ]
      },
      {
       "output_type": "stream",
       "stream": "stdout",
       "text": [
        "\n",
        "no scans fit the criterion so nothing was processed\n",
        "###### Parallelized Code: 0.0020751953125 s \n",
        "\n",
        "###########"
       ]
      },
      {
       "output_type": "stream",
       "stream": "stdout",
       "text": [
        "\n",
        "Currently, there are 16 clients running\n",
        "importing os on engine(s)"
       ]
      },
      {
       "output_type": "stream",
       "stream": "stdout",
       "text": [
        "\n",
        "importing sys on engine(s)\n",
        "importing sarpy on engine(s)\n",
        "importing sarpy.fmoosvi.analysis on engine(s)"
       ]
      },
      {
       "output_type": "stream",
       "stream": "stdout",
       "text": [
        "\n",
        "###########"
       ]
      },
      {
       "output_type": "stream",
       "stream": "stdout",
       "text": [
        "\n",
        "no scans fit the criterion so nothing was processed\n",
        "###### Parallelized Code: 0.0013210773468 s \n",
        "\n",
        "###########\n",
        "Currently, there are 16 clients running\n",
        "importing os on engine(s)\n",
        "importing sys on engine(s)"
       ]
      },
      {
       "output_type": "stream",
       "stream": "stdout",
       "text": [
        "\n",
        "importing sarpy on engine(s)\n",
        "importing sarpy.fmoosvi.analysis on engine(s)\n",
        "###########"
       ]
      },
      {
       "output_type": "stream",
       "stream": "stdout",
       "text": [
        "\n",
        "no scans fit the criterion so nothing was processed\n",
        "###### Parallelized Code: 0.00286412239075 s \n",
        "\n",
        "###########\n",
        "Currently, there are 16 clients running\n",
        "importing os on engine(s)\n",
        "importing sys on engine(s)"
       ]
      },
      {
       "output_type": "stream",
       "stream": "stdout",
       "text": [
        "\n",
        "importing sarpy on engine(s)\n",
        "importing sarpy.fmoosvi.analysis on engine(s)\n",
        "###########"
       ]
      },
      {
       "output_type": "stream",
       "stream": "stdout",
       "text": [
        "\n",
        "no scans fit the criterion so nothing was processed\n",
        "###### Parallelized Code: 0.00121784210205 s \n",
        "\n"
       ]
      }
     ],
     "prompt_number": 4
    },
    {
     "cell_type": "code",
     "collapsed": false,
     "input": [
      "fFlag = True\n",
      "label = []\n",
      "#label.append('augc60')\n",
      "\n",
      "for l in label:\n",
      "    sarpy.fmoosvi.wrappers.bulk_transfer_roi(masterlist,l,forceVal = fFlag)"
     ],
     "language": "python",
     "metadata": {},
     "outputs": [],
     "prompt_number": 6
    },
    {
     "cell_type": "markdown",
     "metadata": {},
     "source": [
      "### Write data to CSV\n"
     ]
    },
    {
     "cell_type": "code",
     "collapsed": false,
     "input": [
      "adata_to_csv = []\n",
      "\n",
      "adata_to_csv.append(['dce-0ha','auc60'])\n",
      "adata_to_csv.append(['dce-48ha','auc60'])\n",
      "\n",
      "#adata_to_csv.append(['dce-0ha_Gd','augc60'])\n",
      "#adata_to_csv.append(['dce-24ha_Gd','augc60'])\n",
      "#adata_to_csv.append(['dce-48ha_Gd','augc60'])\n",
      "\n",
      "\n",
      "for k in adata_to_csv:\n",
      "    \n",
      "    if len(k) ==2:\n",
      "        sarpy.io.write_csv.write_csv(masterlist,k[0],k[1])\n",
      "    else:\n",
      "        sarpy.io.write_csv.write_csv(masterlist,k[0],k[1],roi_override=k[2])"
     ],
     "language": "python",
     "metadata": {},
     "outputs": [
      {
       "output_type": "stream",
       "stream": "stdout",
       "text": [
        "write_csv: Not found HerS7Ss01 and dce-48ha,auc60\n",
        "write_csv: Not found HerS7Ss03 and dce-48ha,auc60"
       ]
      },
      {
       "output_type": "stream",
       "stream": "stdout",
       "text": [
        "\n"
       ]
      },
      {
       "output_type": "stream",
       "stream": "stderr",
       "text": [
        "/System/Library/Frameworks/Python.framework/Versions/2.7/Extras/lib/python/scipy/stats/stats.py:298: RuntimeWarning: invalid value encountered in double_scalars\n",
        "  return np.mean(x,axis)/factor\n"
       ]
      }
     ],
     "prompt_number": 2
    },
    {
     "cell_type": "markdown",
     "metadata": {},
     "source": [
      "### Generating Tumourboards"
     ]
    },
    {
     "cell_type": "code",
     "collapsed": false,
     "input": [
      "tumourboards = []\n",
      "tumourboards.append('HerS7/HerS7.TB')\n",
      "\n",
      "os.chdir(os.path.expanduser(os.path.join('~','sarpy/python/sarpy/io')))"
     ],
     "language": "python",
     "metadata": {},
     "outputs": [],
     "prompt_number": 10
    },
    {
     "cell_type": "code",
     "collapsed": false,
     "input": [
      "for tb in tumourboards:\n",
      "    %run ./tumourboard.py -c $tb"
     ],
     "language": "python",
     "metadata": {},
     "outputs": [
      {
       "output_type": "stream",
       "stream": "stdout",
       "text": [
        "\n",
        "--------------------------------------------------------------------------------\n",
        "HerS7Ss01\n",
        "('roi-0h', u'HerS7Ss01.fy1/4', '03_RARE_T2w_ax')"
       ]
      },
      {
       "output_type": "stream",
       "stream": "stdout",
       "text": [
        "\n",
        "('dce-0ha', u'HerS7Ss01.fy1/27', '05_FLASH2D-DCE')"
       ]
      },
      {
       "output_type": "stream",
       "stream": "stdout",
       "text": [
        "\n",
        "('dce-0ha', u'HerS7Ss01.fy1/27', '05_FLASH2D-DCE')"
       ]
      },
      {
       "output_type": "stream",
       "stream": "stdout",
       "text": [
        "\n",
        "\n",
        "--------------------------------------------------------------------------------\n",
        "HerS7Ss02"
       ]
      },
      {
       "output_type": "stream",
       "stream": "stdout",
       "text": [
        "\n",
        "('roi-0h', u'HerS7Ss02.fA1/3', '03_RARE_T2w_ax')"
       ]
      },
      {
       "output_type": "stream",
       "stream": "stdout",
       "text": [
        "\n",
        "('dce-0ha', u'HerS7Ss02.fA1/26', '05_FLASH2D-DCE')"
       ]
      },
      {
       "output_type": "stream",
       "stream": "stdout",
       "text": [
        "\n",
        "('dce-0ha', u'HerS7Ss02.fA1/26', '05_FLASH2D-DCE')"
       ]
      },
      {
       "output_type": "stream",
       "stream": "stdout",
       "text": [
        "\n",
        "('roi-48h', u'HerS7Ss02.fy1/4', '03_RARE_T2w_ax')"
       ]
      },
      {
       "output_type": "stream",
       "stream": "stdout",
       "text": [
        "\n",
        "('dce-48ha', u'HerS7Ss02.fy1/27', '05_FLASH2D-DCE')"
       ]
      },
      {
       "output_type": "stream",
       "stream": "stdout",
       "text": [
        "\n",
        "('dce-48ha', u'HerS7Ss02.fy1/27', '05_FLASH2D-DCE')"
       ]
      },
      {
       "output_type": "stream",
       "stream": "stdout",
       "text": [
        "\n",
        "\n",
        "--------------------------------------------------------------------------------\n",
        "HerS7Ss03"
       ]
      },
      {
       "output_type": "stream",
       "stream": "stdout",
       "text": [
        "\n",
        "('roi-0h', u'HerS7Ss03.fy1/6', '03_RARE_T2w_ax')"
       ]
      },
      {
       "output_type": "stream",
       "stream": "stdout",
       "text": [
        "\n",
        "('dce-0ha', u'HerS7Ss03.fy1/29', '05_FLASH2D-DCE')"
       ]
      },
      {
       "output_type": "stream",
       "stream": "stdout",
       "text": [
        "\n",
        "('dce-0ha', u'HerS7Ss03.fy1/29', '05_FLASH2D-DCE')"
       ]
      },
      {
       "output_type": "stream",
       "stream": "stdout",
       "text": [
        "\n",
        "\n",
        "--------------------------------------------------------------------------------\n",
        "HerS7Ss03day2"
       ]
      },
      {
       "output_type": "stream",
       "stream": "stdout",
       "text": [
        "\n",
        "('roi-0h', u'HerS7Ss03day2.fA1/3', '03_RARE_T2w_ax')"
       ]
      },
      {
       "output_type": "stream",
       "stream": "stdout",
       "text": [
        "\n",
        "('dce-0ha', u'HerS7Ss03day2.fA1/26', '05_FLASH2D-DCE')"
       ]
      },
      {
       "output_type": "stream",
       "stream": "stdout",
       "text": [
        "\n",
        "('dce-0ha', u'HerS7Ss03day2.fA1/26', '05_FLASH2D-DCE')"
       ]
      },
      {
       "output_type": "stream",
       "stream": "stdout",
       "text": [
        "\n",
        "('roi-48h', u'HerS7Ss03day2.fA1/3', '03_RARE_T2w_ax')"
       ]
      },
      {
       "output_type": "stream",
       "stream": "stdout",
       "text": [
        "\n",
        "('dce-48ha', u'HerS7Ss03day2.fA1/26', '05_FLASH2D-DCE')"
       ]
      },
      {
       "output_type": "stream",
       "stream": "stdout",
       "text": [
        "\n",
        "('dce-48ha', u'HerS7Ss03day2.fA1/26', '05_FLASH2D-DCE')"
       ]
      },
      {
       "output_type": "stream",
       "stream": "stdout",
       "text": [
        "\n",
        "\n",
        "--------------------------------------------------------------------------------\n",
        "HerS7Ss04"
       ]
      },
      {
       "output_type": "stream",
       "stream": "stdout",
       "text": [
        "\n",
        "('roi-0h', u'HerS7Ss04.fA1/4', '03_RARE_T2w_ax')"
       ]
      },
      {
       "output_type": "stream",
       "stream": "stdout",
       "text": [
        "\n",
        "('dce-0ha', u'HerS7Ss04.fA1/27', '05_FLASH2D-DCE')"
       ]
      },
      {
       "output_type": "stream",
       "stream": "stdout",
       "text": [
        "\n",
        "('dce-0ha', u'HerS7Ss04.fA1/27', '05_FLASH2D-DCE')"
       ]
      },
      {
       "output_type": "stream",
       "stream": "stdout",
       "text": [
        "\n",
        "('roi-48h', u'HerS7Ss04.fy1/4', '03_RARE_T2w_ax')"
       ]
      },
      {
       "output_type": "stream",
       "stream": "stdout",
       "text": [
        "\n",
        "('dce-48ha', u'HerS7Ss04.fy1/27', '05_FLASH2D-DCE')"
       ]
      },
      {
       "output_type": "stream",
       "stream": "stdout",
       "text": [
        "\n",
        "('dce-48ha', u'HerS7Ss04.fy1/27', '05_FLASH2D-DCE')"
       ]
      },
      {
       "output_type": "stream",
       "stream": "stdout",
       "text": [
        "\n",
        "\n",
        "--------------------------------------------------------------------------------\n",
        "HerS7Ss05"
       ]
      },
      {
       "output_type": "stream",
       "stream": "stdout",
       "text": [
        "\n",
        "('roi-0h', u'HerS7Ss05.fA2/5', '03_RARE_T2w_ax')"
       ]
      },
      {
       "output_type": "stream",
       "stream": "stdout",
       "text": [
        "\n",
        "('dce-0ha', u'HerS7Ss05.fA2/28', '05_FLASH2D-DCE')"
       ]
      },
      {
       "output_type": "stream",
       "stream": "stdout",
       "text": [
        "\n",
        "('dce-0ha', u'HerS7Ss05.fA2/28', '05_FLASH2D-DCE')"
       ]
      },
      {
       "output_type": "stream",
       "stream": "stdout",
       "text": [
        "\n",
        "('roi-48h', u'HerS7Ss05.fC2/7', '03_RARE_T2w_ax')"
       ]
      },
      {
       "output_type": "stream",
       "stream": "stdout",
       "text": [
        "\n",
        "('dce-48ha', u'HerS7Ss05.fC2/30', '05_FLASH2D-DCE')"
       ]
      },
      {
       "output_type": "stream",
       "stream": "stdout",
       "text": [
        "\n",
        "('dce-48ha', u'HerS7Ss05.fC2/30', '05_FLASH2D-DCE')"
       ]
      },
      {
       "output_type": "stream",
       "stream": "stdout",
       "text": [
        "\n",
        "\n",
        "--------------------------------------------------------------------------------\n",
        "HerS7Ss06"
       ]
      },
      {
       "output_type": "stream",
       "stream": "stdout",
       "text": [
        "\n",
        "('roi-0h', u'HerS7Ss06.fA1/4', '03_RARE_T2w_ax')"
       ]
      },
      {
       "output_type": "stream",
       "stream": "stdout",
       "text": [
        "\n",
        "('dce-0ha', u'HerS7Ss06.fA1/27', '05_FLASH2D-DCE')"
       ]
      },
      {
       "output_type": "stream",
       "stream": "stdout",
       "text": [
        "\n",
        "('dce-0ha', u'HerS7Ss06.fA1/27', '05_FLASH2D-DCE')"
       ]
      },
      {
       "output_type": "stream",
       "stream": "stdout",
       "text": [
        "\n",
        "('roi-48h', u'HerS7Ss06.fC1/4', '03_RARE_T2w_ax')"
       ]
      },
      {
       "output_type": "stream",
       "stream": "stdout",
       "text": [
        "\n",
        "('dce-48ha', u'HerS7Ss06.fC1/27', '05_FLASH2D-DCE')"
       ]
      },
      {
       "output_type": "stream",
       "stream": "stdout",
       "text": [
        "\n",
        "('dce-48ha', u'HerS7Ss06.fC1/27', '05_FLASH2D-DCE')"
       ]
      },
      {
       "output_type": "stream",
       "stream": "stdout",
       "text": [
        "\n",
        "\n",
        "--------------------------------------------------------------------------------\n",
        "HerS7Ss07"
       ]
      },
      {
       "output_type": "stream",
       "stream": "stdout",
       "text": [
        "\n",
        "('roi-0h', u'HerS7Ss07.fA2/4', '03_RARE_T2w_ax')"
       ]
      },
      {
       "output_type": "stream",
       "stream": "stdout",
       "text": [
        "\n",
        "('dce-0ha', u'HerS7Ss07.fA2/27', '05_FLASH2D-DCE')"
       ]
      },
      {
       "output_type": "stream",
       "stream": "stdout",
       "text": [
        "\n",
        "('dce-0ha', u'HerS7Ss07.fA2/27', '05_FLASH2D-DCE')"
       ]
      },
      {
       "output_type": "stream",
       "stream": "stdout",
       "text": [
        "\n",
        "('roi-48h', u'HerS7Ss07.fC1/4', '03_RARE_T2w_ax')"
       ]
      },
      {
       "output_type": "stream",
       "stream": "stdout",
       "text": [
        "\n",
        "('dce-48ha', u'HerS7Ss07.fC1/27', '05_FLASH2D-DCE')"
       ]
      },
      {
       "output_type": "stream",
       "stream": "stdout",
       "text": [
        "\n",
        "('dce-48ha', u'HerS7Ss07.fC1/27', '05_FLASH2D-DCE')"
       ]
      },
      {
       "output_type": "stream",
       "stream": "stdout",
       "text": [
        "\n"
       ]
      }
     ],
     "prompt_number": 12
    },
    {
     "cell_type": "code",
     "collapsed": false,
     "input": [],
     "language": "python",
     "metadata": {},
     "outputs": []
    }
   ],
   "metadata": {}
  }
 ]
}