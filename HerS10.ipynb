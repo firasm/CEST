{
 "metadata": {
  "name": ""
 },
 "nbformat": 3,
 "nbformat_minor": 0,
 "worksheets": [
  {
   "cells": [
    {
     "cell_type": "markdown",
     "metadata": {},
     "source": [
      "### Basic Analyses"
     ]
    },
    {
     "cell_type": "code",
     "collapsed": false,
     "input": [
      "import sarpy\n",
      "import sarpy.io\n",
      "import sarpy.io.bulk_analyze\n",
      "import sarpy.fmoosvi.analysis\n",
      "import sarpy.io.masterlist\n",
      "import sarpy.fmoosvi.getters\n",
      "import sarpy.fmoosvi.wrappers\n",
      "import sarpy.io.write_csv\n",
      "import collections\n",
      "import os\n",
      "\n",
      "masterlist = 'HerS10'\n",
      "config_file = 'HerS10/HerS10.config'"
     ],
     "language": "python",
     "metadata": {},
     "outputs": [],
     "prompt_number": 1
    },
    {
     "cell_type": "code",
     "collapsed": false,
     "input": [
      "sarpy.io.masterlist.generate(conf_file=config_file)"
     ],
     "language": "python",
     "metadata": {},
     "outputs": [
      {
       "output_type": "stream",
       "stream": "stdout",
       "text": [
        "loading config file HerS10/HerS10.config\n",
        "HerS10Do01"
       ]
      },
      {
       "output_type": "stream",
       "stream": "stdout",
       "text": [
        "\n",
        "HerS10Do02"
       ]
      },
      {
       "output_type": "stream",
       "stream": "stdout",
       "text": [
        "\n",
        "\t warning (SCAN #1 not found amongst the ubcLL2_base_HCT_SQ) \"LL-24h+\" for HerS10Do02"
       ]
      },
      {
       "output_type": "stream",
       "stream": "stdout",
       "text": [
        "\n",
        "\t warning (SCAN #0 not found amongst the 06_FLASH2D.6sl-DCE) \"dce-24ha\" for HerS10Do02\n",
        "HerS10Do04\n",
        "HerS10Do05"
       ]
      },
      {
       "output_type": "stream",
       "stream": "stdout",
       "text": [
        "\n",
        "HerS10Do06"
       ]
      },
      {
       "output_type": "stream",
       "stream": "stdout",
       "text": [
        "\n",
        "HerS10Do07"
       ]
      },
      {
       "output_type": "stream",
       "stream": "stdout",
       "text": [
        "\n",
        "HerS10Do08"
       ]
      },
      {
       "output_type": "stream",
       "stream": "stdout",
       "text": [
        "\n",
        "HerS10Do09"
       ]
      },
      {
       "output_type": "stream",
       "stream": "stdout",
       "text": [
        "\n",
        "HerS10Do10"
       ]
      },
      {
       "output_type": "stream",
       "stream": "stdout",
       "text": [
        "\n",
        "HerS10Do11"
       ]
      },
      {
       "output_type": "stream",
       "stream": "stdout",
       "text": [
        "\n",
        "HerS10Do16"
       ]
      },
      {
       "output_type": "stream",
       "stream": "stdout",
       "text": [
        "\n",
        "HerS10Do17"
       ]
      },
      {
       "output_type": "stream",
       "stream": "stdout",
       "text": [
        "\n",
        "HerS10Do18"
       ]
      },
      {
       "output_type": "stream",
       "stream": "stdout",
       "text": [
        "\n",
        "HerS10Do19"
       ]
      },
      {
       "output_type": "stream",
       "stream": "stdout",
       "text": [
        "\n",
        "ignoring HerS10Do03 HerS10Do20"
       ]
      },
      {
       "output_type": "stream",
       "stream": "stdout",
       "text": [
        "\n",
        "wrote master_list to /Users/fmoosvi/sdata/HerS10/HerS10.json"
       ]
      },
      {
       "output_type": "stream",
       "stream": "stdout",
       "text": [
        "\n"
       ]
      }
     ],
     "prompt_number": 2
    },
    {
     "cell_type": "code",
     "collapsed": false,
     "input": [
      "fFlag = True\n",
      "\n",
      "sarpy.io.generate_rois.generate_rois(masterlist,'export', forceVal = fFlag)\n",
      "\n",
      "try:\n",
      "    sarpy.io.generate_rois.generate_rois(masterlist,'import', forceVal = fFlag)\n",
      "    sarpy.io.masterlist.generate(conf_file=config_file) # update bboxes\n",
      "except IOError:\n",
      "    pass"
     ],
     "language": "python",
     "metadata": {},
     "outputs": [
      {
       "output_type": "stream",
       "stream": "stdout",
       "text": [
        "Nifti images were processed in /Users/fmoosvi/sdata/HerS10/rois\n",
        "adata roi deleted in HerS10Do01"
       ]
      },
      {
       "output_type": "stream",
       "stream": "stdout",
       "text": [
        "\n",
        "adata roi_weights deleted in HerS10Do01"
       ]
      },
      {
       "output_type": "stream",
       "stream": "stdout",
       "text": [
        "\n",
        "h_generate_roi: saved HerS10Do01.l01/4 roi label"
       ]
      },
      {
       "output_type": "stream",
       "stream": "stdout",
       "text": [
        "\n",
        "adata roi deleted in HerS10Do01"
       ]
      },
      {
       "output_type": "stream",
       "stream": "stdout",
       "text": [
        "\n",
        "adata roi_weights deleted in HerS10Do01"
       ]
      },
      {
       "output_type": "stream",
       "stream": "stdout",
       "text": [
        "\n",
        "h_generate_roi: saved HerS10Do01.kZ1/4 roi label"
       ]
      },
      {
       "output_type": "stream",
       "stream": "stdout",
       "text": [
        "\n",
        "adata roi deleted in HerS10Do02"
       ]
      },
      {
       "output_type": "stream",
       "stream": "stdout",
       "text": [
        "\n",
        "adata roi_weights deleted in HerS10Do02"
       ]
      },
      {
       "output_type": "stream",
       "stream": "stdout",
       "text": [
        "\n",
        "h_generate_roi: saved HerS10Do02.l01/3 roi label"
       ]
      },
      {
       "output_type": "stream",
       "stream": "stdout",
       "text": [
        "\n",
        "adata roi deleted in HerS10Do02"
       ]
      },
      {
       "output_type": "stream",
       "stream": "stdout",
       "text": [
        "\n",
        "adata roi_weights deleted in HerS10Do02"
       ]
      },
      {
       "output_type": "stream",
       "stream": "stdout",
       "text": [
        "\n",
        "h_generate_roi: saved HerS10Do02.kZ1/4 roi label"
       ]
      },
      {
       "output_type": "stream",
       "stream": "stdout",
       "text": [
        "\n",
        "adata roi deleted in HerS10Do04"
       ]
      },
      {
       "output_type": "stream",
       "stream": "stdout",
       "text": [
        "\n",
        "adata roi_weights deleted in HerS10Do04"
       ]
      },
      {
       "output_type": "stream",
       "stream": "stdout",
       "text": [
        "\n",
        "h_generate_roi: saved HerS10Do04.l01/3 roi label"
       ]
      },
      {
       "output_type": "stream",
       "stream": "stdout",
       "text": [
        "\n",
        "adata roi deleted in HerS10Do04"
       ]
      },
      {
       "output_type": "stream",
       "stream": "stdout",
       "text": [
        "\n",
        "adata roi_weights deleted in HerS10Do04"
       ]
      },
      {
       "output_type": "stream",
       "stream": "stdout",
       "text": [
        "\n",
        "h_generate_roi: saved HerS10Do04.kZ1/4 roi label"
       ]
      },
      {
       "output_type": "stream",
       "stream": "stdout",
       "text": [
        "\n",
        "adata roi deleted in HerS10Do05"
       ]
      },
      {
       "output_type": "stream",
       "stream": "stdout",
       "text": [
        "\n",
        "adata roi_weights deleted in HerS10Do05"
       ]
      },
      {
       "output_type": "stream",
       "stream": "stdout",
       "text": [
        "\n",
        "h_generate_roi: saved HerS10Do05.l01/3 roi label"
       ]
      },
      {
       "output_type": "stream",
       "stream": "stdout",
       "text": [
        "\n",
        "adata roi deleted in HerS10Do05"
       ]
      },
      {
       "output_type": "stream",
       "stream": "stdout",
       "text": [
        "\n",
        "adata roi_weights deleted in HerS10Do05"
       ]
      },
      {
       "output_type": "stream",
       "stream": "stdout",
       "text": [
        "\n",
        "h_generate_roi: saved HerS10Do05.kZ1/4 roi label"
       ]
      },
      {
       "output_type": "stream",
       "stream": "stdout",
       "text": [
        "\n",
        "adata roi deleted in HerS10Do06"
       ]
      },
      {
       "output_type": "stream",
       "stream": "stdout",
       "text": [
        "\n",
        "adata roi_weights deleted in HerS10Do06"
       ]
      },
      {
       "output_type": "stream",
       "stream": "stdout",
       "text": [
        "\n",
        "h_generate_roi: saved HerS10Do06.l11/4 roi label"
       ]
      },
      {
       "output_type": "stream",
       "stream": "stdout",
       "text": [
        "\n",
        "adata roi deleted in HerS10Do06"
       ]
      },
      {
       "output_type": "stream",
       "stream": "stdout",
       "text": [
        "\n",
        "adata roi_weights deleted in HerS10Do06"
       ]
      },
      {
       "output_type": "stream",
       "stream": "stdout",
       "text": [
        "\n",
        "h_generate_roi: saved HerS10Do06.l01/4 roi label"
       ]
      },
      {
       "output_type": "stream",
       "stream": "stdout",
       "text": [
        "\n",
        "adata roi deleted in HerS10Do07"
       ]
      },
      {
       "output_type": "stream",
       "stream": "stdout",
       "text": [
        "\n",
        "adata roi_weights deleted in HerS10Do07"
       ]
      },
      {
       "output_type": "stream",
       "stream": "stdout",
       "text": [
        "\n",
        "h_generate_roi: saved HerS10Do07.l11/4 roi label"
       ]
      },
      {
       "output_type": "stream",
       "stream": "stdout",
       "text": [
        "\n",
        "adata roi deleted in HerS10Do07"
       ]
      },
      {
       "output_type": "stream",
       "stream": "stdout",
       "text": [
        "\n",
        "adata roi_weights deleted in HerS10Do07"
       ]
      },
      {
       "output_type": "stream",
       "stream": "stdout",
       "text": [
        "\n",
        "h_generate_roi: saved HerS10Do07.l01/4 roi label"
       ]
      },
      {
       "output_type": "stream",
       "stream": "stdout",
       "text": [
        "\n",
        "adata roi deleted in HerS10Do08"
       ]
      },
      {
       "output_type": "stream",
       "stream": "stdout",
       "text": [
        "\n",
        "adata roi_weights deleted in HerS10Do08"
       ]
      },
      {
       "output_type": "stream",
       "stream": "stdout",
       "text": [
        "\n",
        "h_generate_roi: saved HerS10Do08.l11/4 roi label"
       ]
      },
      {
       "output_type": "stream",
       "stream": "stdout",
       "text": [
        "\n",
        "adata roi deleted in HerS10Do08"
       ]
      },
      {
       "output_type": "stream",
       "stream": "stdout",
       "text": [
        "\n",
        "adata roi_weights deleted in HerS10Do08"
       ]
      },
      {
       "output_type": "stream",
       "stream": "stdout",
       "text": [
        "\n",
        "h_generate_roi: saved HerS10Do08.l01/4 roi label"
       ]
      },
      {
       "output_type": "stream",
       "stream": "stdout",
       "text": [
        "\n",
        "adata roi deleted in HerS10Do09"
       ]
      },
      {
       "output_type": "stream",
       "stream": "stdout",
       "text": [
        "\n",
        "adata roi_weights deleted in HerS10Do09"
       ]
      },
      {
       "output_type": "stream",
       "stream": "stdout",
       "text": [
        "\n",
        "h_generate_roi: saved HerS10Do09.l11/3 roi label"
       ]
      },
      {
       "output_type": "stream",
       "stream": "stdout",
       "text": [
        "\n",
        "adata roi deleted in HerS10Do09"
       ]
      },
      {
       "output_type": "stream",
       "stream": "stdout",
       "text": [
        "\n",
        "adata roi_weights deleted in HerS10Do09"
       ]
      },
      {
       "output_type": "stream",
       "stream": "stdout",
       "text": [
        "\n",
        "h_generate_roi: saved HerS10Do09.l01/4 roi label"
       ]
      },
      {
       "output_type": "stream",
       "stream": "stdout",
       "text": [
        "\n",
        "adata roi deleted in HerS10Do10"
       ]
      },
      {
       "output_type": "stream",
       "stream": "stdout",
       "text": [
        "\n",
        "adata roi_weights deleted in HerS10Do10"
       ]
      },
      {
       "output_type": "stream",
       "stream": "stdout",
       "text": [
        "\n",
        "h_generate_roi: saved HerS10Do10.l11/3 roi label"
       ]
      },
      {
       "output_type": "stream",
       "stream": "stdout",
       "text": [
        "\n",
        "adata roi deleted in HerS10Do10"
       ]
      },
      {
       "output_type": "stream",
       "stream": "stdout",
       "text": [
        "\n",
        "adata roi_weights deleted in HerS10Do10"
       ]
      },
      {
       "output_type": "stream",
       "stream": "stdout",
       "text": [
        "\n",
        "h_generate_roi: saved HerS10Do10.l01/4 roi label"
       ]
      },
      {
       "output_type": "stream",
       "stream": "stdout",
       "text": [
        "\n",
        "adata roi deleted in HerS10Do11"
       ]
      },
      {
       "output_type": "stream",
       "stream": "stdout",
       "text": [
        "\n",
        "adata roi_weights deleted in HerS10Do11"
       ]
      },
      {
       "output_type": "stream",
       "stream": "stdout",
       "text": [
        "\n",
        "h_generate_roi: saved HerS10Do11.l11/3 roi label"
       ]
      },
      {
       "output_type": "stream",
       "stream": "stdout",
       "text": [
        "\n",
        "adata roi deleted in HerS10Do11"
       ]
      },
      {
       "output_type": "stream",
       "stream": "stdout",
       "text": [
        "\n",
        "adata roi_weights deleted in HerS10Do11"
       ]
      },
      {
       "output_type": "stream",
       "stream": "stdout",
       "text": [
        "\n",
        "h_generate_roi: saved HerS10Do11.l01/3 roi label"
       ]
      },
      {
       "output_type": "stream",
       "stream": "stdout",
       "text": [
        "\n",
        "adata roi deleted in HerS10Do16"
       ]
      },
      {
       "output_type": "stream",
       "stream": "stdout",
       "text": [
        "\n",
        "adata roi_weights deleted in HerS10Do16"
       ]
      },
      {
       "output_type": "stream",
       "stream": "stdout",
       "text": [
        "\n",
        "h_generate_roi: saved HerS10Do16.l71/3 roi label"
       ]
      },
      {
       "output_type": "stream",
       "stream": "stdout",
       "text": [
        "\n",
        "adata roi deleted in HerS10Do16"
       ]
      },
      {
       "output_type": "stream",
       "stream": "stdout",
       "text": [
        "\n",
        "adata roi_weights deleted in HerS10Do16"
       ]
      },
      {
       "output_type": "stream",
       "stream": "stdout",
       "text": [
        "\n",
        "h_generate_roi: saved HerS10Do16.l61/7 roi label"
       ]
      },
      {
       "output_type": "stream",
       "stream": "stdout",
       "text": [
        "\n",
        "adata roi deleted in HerS10Do17"
       ]
      },
      {
       "output_type": "stream",
       "stream": "stdout",
       "text": [
        "\n",
        "adata roi_weights deleted in HerS10Do17"
       ]
      },
      {
       "output_type": "stream",
       "stream": "stdout",
       "text": [
        "\n",
        "h_generate_roi: saved HerS10Do17.l71/3 roi label"
       ]
      },
      {
       "output_type": "stream",
       "stream": "stdout",
       "text": [
        "\n",
        "adata roi deleted in HerS10Do17"
       ]
      },
      {
       "output_type": "stream",
       "stream": "stdout",
       "text": [
        "\n",
        "adata roi_weights deleted in HerS10Do17"
       ]
      },
      {
       "output_type": "stream",
       "stream": "stdout",
       "text": [
        "\n",
        "h_generate_roi: saved HerS10Do17.l61/3 roi label"
       ]
      },
      {
       "output_type": "stream",
       "stream": "stdout",
       "text": [
        "\n",
        "adata roi deleted in HerS10Do18"
       ]
      },
      {
       "output_type": "stream",
       "stream": "stdout",
       "text": [
        "\n",
        "adata roi_weights deleted in HerS10Do18"
       ]
      },
      {
       "output_type": "stream",
       "stream": "stdout",
       "text": [
        "\n",
        "h_generate_roi: saved HerS10Do18.l71/4 roi label"
       ]
      },
      {
       "output_type": "stream",
       "stream": "stdout",
       "text": [
        "\n",
        "adata roi deleted in HerS10Do18"
       ]
      },
      {
       "output_type": "stream",
       "stream": "stdout",
       "text": [
        "\n",
        "adata roi_weights deleted in HerS10Do18"
       ]
      },
      {
       "output_type": "stream",
       "stream": "stdout",
       "text": [
        "\n",
        "h_generate_roi: saved HerS10Do18.l61/3 roi label"
       ]
      },
      {
       "output_type": "stream",
       "stream": "stdout",
       "text": [
        "\n",
        "adata roi deleted in HerS10Do19"
       ]
      },
      {
       "output_type": "stream",
       "stream": "stdout",
       "text": [
        "\n",
        "adata roi_weights deleted in HerS10Do19"
       ]
      },
      {
       "output_type": "stream",
       "stream": "stdout",
       "text": [
        "\n",
        "h_generate_roi: saved HerS10Do19.l71/3 roi label"
       ]
      },
      {
       "output_type": "stream",
       "stream": "stdout",
       "text": [
        "\n",
        "adata roi deleted in HerS10Do19"
       ]
      },
      {
       "output_type": "stream",
       "stream": "stdout",
       "text": [
        "\n",
        "adata roi_weights deleted in HerS10Do19"
       ]
      },
      {
       "output_type": "stream",
       "stream": "stdout",
       "text": [
        "\n",
        "h_generate_roi: saved HerS10Do19.l61/3 roi label"
       ]
      },
      {
       "output_type": "stream",
       "stream": "stdout",
       "text": [
        "\n",
        "Nifti images were processed in /Users/fmoosvi/sdata/HerS10/rois\n",
        "loading config file HerS10/HerS10.config\n",
        "HerS10Do01"
       ]
      },
      {
       "output_type": "stream",
       "stream": "stdout",
       "text": [
        "\n",
        "HerS10Do02"
       ]
      },
      {
       "output_type": "stream",
       "stream": "stdout",
       "text": [
        "\n",
        "\t warning (SCAN #1 not found amongst the ubcLL2_base_HCT_SQ) \"LL-24h+\" for HerS10Do02"
       ]
      },
      {
       "output_type": "stream",
       "stream": "stdout",
       "text": [
        "\n",
        "\t warning (SCAN #0 not found amongst the 06_FLASH2D.6sl-DCE) \"dce-24ha\" for HerS10Do02\n",
        "HerS10Do04\n",
        "HerS10Do05"
       ]
      },
      {
       "output_type": "stream",
       "stream": "stdout",
       "text": [
        "\n",
        "HerS10Do06"
       ]
      },
      {
       "output_type": "stream",
       "stream": "stdout",
       "text": [
        "\n",
        "HerS10Do07"
       ]
      },
      {
       "output_type": "stream",
       "stream": "stdout",
       "text": [
        "\n",
        "HerS10Do08"
       ]
      },
      {
       "output_type": "stream",
       "stream": "stdout",
       "text": [
        "\n",
        "HerS10Do09"
       ]
      },
      {
       "output_type": "stream",
       "stream": "stdout",
       "text": [
        "\n",
        "HerS10Do10"
       ]
      },
      {
       "output_type": "stream",
       "stream": "stdout",
       "text": [
        "\n",
        "HerS10Do11"
       ]
      },
      {
       "output_type": "stream",
       "stream": "stdout",
       "text": [
        "\n",
        "HerS10Do16"
       ]
      },
      {
       "output_type": "stream",
       "stream": "stdout",
       "text": [
        "\n",
        "HerS10Do17"
       ]
      },
      {
       "output_type": "stream",
       "stream": "stdout",
       "text": [
        "\n",
        "HerS10Do18"
       ]
      },
      {
       "output_type": "stream",
       "stream": "stdout",
       "text": [
        "\n",
        "HerS10Do19"
       ]
      },
      {
       "output_type": "stream",
       "stream": "stdout",
       "text": [
        "\n",
        "ignoring HerS10Do03 HerS10Do20"
       ]
      },
      {
       "output_type": "stream",
       "stream": "stdout",
       "text": [
        "\n",
        "wrote master_list to /Users/fmoosvi/sdata/HerS10/HerS10.json"
       ]
      },
      {
       "output_type": "stream",
       "stream": "stdout",
       "text": [
        "\n"
       ]
      }
     ],
     "prompt_number": 3
    },
    {
     "cell_type": "code",
     "collapsed": false,
     "input": [
      "analyses = collections.OrderedDict()\n",
      "fFlag = True\n",
      "\n",
      "## AUC 60\n",
      "analyses['auc']={'scan_label':'dce-[0-9]*',\n",
      "                 'adata_save_label':'auc60',\n",
      "                 'force_overwrite':fFlag}\n",
      "## VTC\n",
      "analyses['vtc']={'scan_label':'dce-[0-9]*',\n",
      "                 'adata_save_label':'vtc',\n",
      "                 'force_overwrite':fFlag}\n",
      "## T1 Map\n",
      "analyses['T1_LL']={'scan_label':'LL*',\n",
      "                   'adata_save_label':'T1_LL',\n",
      "                   'force_overwrite':fFlag}\n",
      "\n",
      "for atype in analyses:\n",
      "    \n",
      "    toAnalyze = True    \n",
      "           \n",
      "    if atype == 'auc':\n",
      "            \n",
      "        def myfunc(dict_of_params):\n",
      "            import sarpy.fmoosvi.analysis            \n",
      "            reload(sarpy.fmoosvi.analysis)\n",
      "            \n",
      "            return sarpy.fmoosvi.analysis.h_calculate_AUC(**dict_of_params)\n",
      "\n",
      "    elif atype == 'T1_LL':\n",
      "\n",
      "        def myfunc(dict_of_params):\n",
      "        \n",
      "            import sarpy.fmoosvi.analysis\n",
      "            import sarpy.fmoosvi.getters\n",
      "            reload(sarpy.fmoosvi.analysis)\n",
      "            reload(sarpy.fmoosvi.getters)\n",
      "            \n",
      "            return sarpy.fmoosvi.analysis.h_fit_T1_LL_FAind(**dict_of_params)\n",
      "        \n",
      "    elif atype == 'vtc':\n",
      "\n",
      "        def myfunc(dict_of_params):\n",
      "        \n",
      "            import sarpy.fmoosvi.analysis\n",
      "            import sarpy.fmoosvi.getters\n",
      "            reload(sarpy.fmoosvi.analysis)\n",
      "            reload(sarpy.fmoosvi.getters)\n",
      "            \n",
      "            return sarpy.fmoosvi.analysis.h_generate_VTC(**dict_of_params)   \n",
      "        \n",
      "    else:\n",
      "        \n",
      "        toAnalyze = False        \n",
      "\n",
      "    if toAnalyze:\n",
      "        \n",
      "        an = sarpy.io.bulk_analyze.ParallelBulkAnalyzerFactory.from_function(\n",
      "                            myfunc,\n",
      "                            ipython_profile='sarlab',\n",
      "                            masterlist_fname=masterlist,\n",
      "                            **analyses[atype])\n",
      "        an.process()\n",
      "\n",
      "print('Analysis Complete')"
     ],
     "language": "python",
     "metadata": {},
     "outputs": [
      {
       "output_type": "stream",
       "stream": "stdout",
       "text": [
        "###########\n",
        "Currently, there are 16 clients running\n",
        "importing os on engine(s)\n",
        "importing sys on engine(s)\n",
        "importing sarpy on engine(s)\n",
        "importing sarpy.fmoosvi.analysis on engine(s)"
       ]
      },
      {
       "output_type": "stream",
       "stream": "stdout",
       "text": [
        "\n",
        "###########"
       ]
      },
      {
       "output_type": "stream",
       "stream": "stdout",
       "text": [
        "\n",
        "adata auc60 deleted in HerS10Do08"
       ]
      },
      {
       "output_type": "stream",
       "stream": "stdout",
       "text": [
        "\n",
        "auc60 overwritten in HerS10Do08.l11/8, job id ...7d7c1 done on E 10 "
       ]
      },
      {
       "output_type": "stream",
       "stream": "stdout",
       "text": [
        "\n",
        "adata auc60 deleted in HerS10Do05"
       ]
      },
      {
       "output_type": "stream",
       "stream": "stdout",
       "text": [
        "\n",
        "auc60 overwritten in HerS10Do05.l01/7, job id ...d47d7 done on E 9 "
       ]
      },
      {
       "output_type": "stream",
       "stream": "stdout",
       "text": [
        "\n",
        "adata auc60 deleted in HerS10Do04"
       ]
      },
      {
       "output_type": "stream",
       "stream": "stdout",
       "text": [
        "\n",
        "auc60 overwritten in HerS10Do04.l01/7, job id ...0aa4b done on E 13 "
       ]
      },
      {
       "output_type": "stream",
       "stream": "stdout",
       "text": [
        "\n",
        "adata auc60 deleted in HerS10Do18"
       ]
      },
      {
       "output_type": "stream",
       "stream": "stdout",
       "text": [
        "\n",
        "auc60 overwritten in HerS10Do18.l71/8, job id ...10824 done on E 11 "
       ]
      },
      {
       "output_type": "stream",
       "stream": "stdout",
       "text": [
        "\n",
        "adata auc60 deleted in HerS10Do19"
       ]
      },
      {
       "output_type": "stream",
       "stream": "stdout",
       "text": [
        "\n",
        "auc60 overwritten in HerS10Do19.l71/7, job id ...88c78 done on E 8 "
       ]
      },
      {
       "output_type": "stream",
       "stream": "stdout",
       "text": [
        "\n",
        "adata auc60 deleted in HerS10Do07"
       ]
      },
      {
       "output_type": "stream",
       "stream": "stdout",
       "text": [
        "\n",
        "auc60 overwritten in HerS10Do07.l11/8, job id ...c988f done on E 6 "
       ]
      },
      {
       "output_type": "stream",
       "stream": "stdout",
       "text": [
        "\n",
        "adata auc60 deleted in HerS10Do10"
       ]
      },
      {
       "output_type": "stream",
       "stream": "stdout",
       "text": [
        "\n",
        "auc60 overwritten in HerS10Do10.l11/7, job id ...50049 done on E 2 "
       ]
      },
      {
       "output_type": "stream",
       "stream": "stdout",
       "text": [
        "\n",
        "adata auc60 deleted in HerS10Do01"
       ]
      },
      {
       "output_type": "stream",
       "stream": "stdout",
       "text": [
        "\n",
        "auc60 overwritten in HerS10Do01.l01/8, job id ...39b06 done on E 7 "
       ]
      },
      {
       "output_type": "stream",
       "stream": "stdout",
       "text": [
        "\n",
        "adata auc60 deleted in HerS10Do06"
       ]
      },
      {
       "output_type": "stream",
       "stream": "stdout",
       "text": [
        "\n",
        "auc60 overwritten in HerS10Do06.l11/8, job id ...0268a done on E 5 "
       ]
      },
      {
       "output_type": "stream",
       "stream": "stdout",
       "text": [
        "\n",
        "adata auc60 deleted in HerS10Do11"
       ]
      },
      {
       "output_type": "stream",
       "stream": "stdout",
       "text": [
        "\n",
        "auc60 overwritten in HerS10Do11.l11/7, job id ...0d113 done on E 0 "
       ]
      },
      {
       "output_type": "stream",
       "stream": "stdout",
       "text": [
        "\n",
        "adata auc60 deleted in HerS10Do09"
       ]
      },
      {
       "output_type": "stream",
       "stream": "stdout",
       "text": [
        "\n",
        "auc60 overwritten in HerS10Do09.l11/7, job id ...a3c5f done on E 4 "
       ]
      },
      {
       "output_type": "stream",
       "stream": "stdout",
       "text": [
        "\n",
        "adata auc60 deleted in HerS10Do17"
       ]
      },
      {
       "output_type": "stream",
       "stream": "stdout",
       "text": [
        "\n",
        "auc60 overwritten in HerS10Do17.l71/7, job id ...4862b done on E 1 "
       ]
      },
      {
       "output_type": "stream",
       "stream": "stdout",
       "text": [
        "\n",
        "adata auc60 deleted in HerS10Do16"
       ]
      },
      {
       "output_type": "stream",
       "stream": "stdout",
       "text": [
        "\n",
        "auc60 overwritten in HerS10Do16.l71/7, job id ...727e5 done on E 3 "
       ]
      },
      {
       "output_type": "stream",
       "stream": "stdout",
       "text": [
        "\n",
        "###### Parallelized Code: 20.7767910957 s \n",
        "\n",
        "###########\n",
        "Currently, there are 16 clients running\n",
        "importing os on engine(s)"
       ]
      },
      {
       "output_type": "stream",
       "stream": "stdout",
       "text": [
        "\n",
        "importing sys on engine(s)\n",
        "importing sarpy on engine(s)"
       ]
      },
      {
       "output_type": "stream",
       "stream": "stdout",
       "text": [
        "\n",
        "importing sarpy.fmoosvi.analysis on engine(s)\n",
        "###########"
       ]
      },
      {
       "output_type": "stream",
       "stream": "stdout",
       "text": [
        "\n",
        "adata vtc deleted in HerS10Do10"
       ]
      },
      {
       "output_type": "stream",
       "stream": "stdout",
       "text": [
        "\n",
        "vtc overwritten in HerS10Do10.l11/7, job id ...59198 done on E 6 "
       ]
      },
      {
       "output_type": "stream",
       "stream": "stdout",
       "text": [
        "\n",
        "adata vtc deleted in HerS10Do01"
       ]
      },
      {
       "output_type": "stream",
       "stream": "stdout",
       "text": [
        "\n",
        "vtc overwritten in HerS10Do01.l01/8, job id ...f414a done on E 14 "
       ]
      },
      {
       "output_type": "stream",
       "stream": "stdout",
       "text": [
        "\n",
        "adata vtc deleted in HerS10Do08"
       ]
      },
      {
       "output_type": "stream",
       "stream": "stdout",
       "text": [
        "\n",
        "vtc overwritten in HerS10Do08.l11/8, job id ...1b523 done on E 9 "
       ]
      },
      {
       "output_type": "stream",
       "stream": "stdout",
       "text": [
        "\n",
        "adata vtc deleted in HerS10Do06"
       ]
      },
      {
       "output_type": "stream",
       "stream": "stdout",
       "text": [
        "\n",
        "vtc overwritten in HerS10Do06.l11/8, job id ...7f6b0 done on E 7 "
       ]
      },
      {
       "output_type": "stream",
       "stream": "stdout",
       "text": [
        "\n",
        "adata vtc deleted in HerS10Do11"
       ]
      },
      {
       "output_type": "stream",
       "stream": "stdout",
       "text": [
        "\n",
        "vtc overwritten in HerS10Do11.l11/7, job id ...d7074 done on E 10 "
       ]
      },
      {
       "output_type": "stream",
       "stream": "stdout",
       "text": [
        "\n",
        "adata vtc deleted in HerS10Do19"
       ]
      },
      {
       "output_type": "stream",
       "stream": "stdout",
       "text": [
        "\n",
        "vtc overwritten in HerS10Do19.l71/7, job id ...ff9ff done on E 3 "
       ]
      },
      {
       "output_type": "stream",
       "stream": "stdout",
       "text": [
        "\n",
        "adata vtc deleted in HerS10Do17"
       ]
      },
      {
       "output_type": "stream",
       "stream": "stdout",
       "text": [
        "\n",
        "vtc overwritten in HerS10Do17.l71/7, job id ...780d0 done on E 2 "
       ]
      },
      {
       "output_type": "stream",
       "stream": "stdout",
       "text": [
        "\n",
        "adata vtc deleted in HerS10Do04"
       ]
      },
      {
       "output_type": "stream",
       "stream": "stdout",
       "text": [
        "\n",
        "vtc overwritten in HerS10Do04.l01/7, job id ...e878c done on E 15 "
       ]
      },
      {
       "output_type": "stream",
       "stream": "stdout",
       "text": [
        "\n",
        "adata vtc deleted in HerS10Do18"
       ]
      },
      {
       "output_type": "stream",
       "stream": "stdout",
       "text": [
        "\n",
        "vtc overwritten in HerS10Do18.l71/8, job id ...f0479 done on E 0 "
       ]
      },
      {
       "output_type": "stream",
       "stream": "stdout",
       "text": [
        "\n",
        "adata vtc deleted in HerS10Do16"
       ]
      },
      {
       "output_type": "stream",
       "stream": "stdout",
       "text": [
        "\n",
        "vtc overwritten in HerS10Do16.l71/7, job id ...cf7b2 done on E 4 "
       ]
      },
      {
       "output_type": "stream",
       "stream": "stdout",
       "text": [
        "\n",
        "adata vtc deleted in HerS10Do07"
       ]
      },
      {
       "output_type": "stream",
       "stream": "stdout",
       "text": [
        "\n",
        "vtc overwritten in HerS10Do07.l11/8, job id ...ec472 done on E 13 "
       ]
      },
      {
       "output_type": "stream",
       "stream": "stdout",
       "text": [
        "\n",
        "adata vtc deleted in HerS10Do05"
       ]
      },
      {
       "output_type": "stream",
       "stream": "stdout",
       "text": [
        "\n",
        "vtc overwritten in HerS10Do05.l01/7, job id ...77010 done on E 12 "
       ]
      },
      {
       "output_type": "stream",
       "stream": "stdout",
       "text": [
        "\n",
        "adata vtc deleted in HerS10Do09"
       ]
      },
      {
       "output_type": "stream",
       "stream": "stdout",
       "text": [
        "\n",
        "vtc overwritten in HerS10Do09.l11/7, job id ...c4b69 done on E 5 "
       ]
      },
      {
       "output_type": "stream",
       "stream": "stdout",
       "text": [
        "\n",
        "###### Parallelized Code: 665.648389101 s \n",
        "\n",
        "###########"
       ]
      },
      {
       "output_type": "stream",
       "stream": "stdout",
       "text": [
        "\n",
        "Currently, there are 16 clients running\n",
        "importing os on engine(s)"
       ]
      },
      {
       "output_type": "stream",
       "stream": "stdout",
       "text": [
        "\n",
        "importing sys on engine(s)\n",
        "importing sarpy on engine(s)\n",
        "importing sarpy.fmoosvi.analysis on engine(s)"
       ]
      },
      {
       "output_type": "stream",
       "stream": "stdout",
       "text": [
        "\n",
        "###########"
       ]
      },
      {
       "output_type": "stream",
       "stream": "stdout",
       "text": [
        "\n",
        "adata T1_LL deleted in HerS10Do02"
       ]
      },
      {
       "output_type": "stream",
       "stream": "stdout",
       "text": [
        "\n",
        "T1_LL overwritten in HerS10Do02.kZ1/5, job id ...49abf done on E 8 "
       ]
      },
      {
       "output_type": "stream",
       "stream": "stdout",
       "text": [
        "\n",
        "adata T1_LL_fit deleted in HerS10Do02\n",
        "T1_LL overwritten in HerS10Do02.kZ1/5, job id ...49abf done on E 8 "
       ]
      },
      {
       "output_type": "stream",
       "stream": "stdout",
       "text": [
        "\n",
        "adata T1_LL deleted in HerS10Do02"
       ]
      },
      {
       "output_type": "stream",
       "stream": "stdout",
       "text": [
        "\n",
        "T1_LL overwritten in HerS10Do02.l01/4, job id ...81187 done on E 14 "
       ]
      },
      {
       "output_type": "stream",
       "stream": "stdout",
       "text": [
        "\n",
        "adata T1_LL_fit deleted in HerS10Do02\n",
        "T1_LL overwritten in HerS10Do02.l01/4, job id ...81187 done on E 14 "
       ]
      },
      {
       "output_type": "stream",
       "stream": "stdout",
       "text": [
        "\n",
        "adata T1_LL deleted in HerS10Do01"
       ]
      },
      {
       "output_type": "stream",
       "stream": "stdout",
       "text": [
        "\n",
        "T1_LL overwritten in HerS10Do01.l01/9, job id ...30475 done on E 11 "
       ]
      },
      {
       "output_type": "stream",
       "stream": "stdout",
       "text": [
        "\n",
        "adata T1_LL_fit deleted in HerS10Do01\n",
        "T1_LL overwritten in HerS10Do01.l01/9, job id ...30475 done on E 11 "
       ]
      },
      {
       "output_type": "stream",
       "stream": "stdout",
       "text": [
        "\n",
        "adata T1_LL deleted in HerS10Do07"
       ]
      },
      {
       "output_type": "stream",
       "stream": "stdout",
       "text": [
        "\n",
        "T1_LL overwritten in HerS10Do07.l01/5, job id ...db10d done on E 2 "
       ]
      },
      {
       "output_type": "stream",
       "stream": "stdout",
       "text": [
        "\n",
        "adata T1_LL_fit deleted in HerS10Do07\n",
        "T1_LL overwritten in HerS10Do07.l01/5, job id ...db10d done on E 2 "
       ]
      },
      {
       "output_type": "stream",
       "stream": "stdout",
       "text": [
        "\n",
        "adata T1_LL deleted in HerS10Do04"
       ]
      },
      {
       "output_type": "stream",
       "stream": "stdout",
       "text": [
        "\n",
        "T1_LL overwritten in HerS10Do04.l01/4, job id ...977a6 done on E 12 "
       ]
      },
      {
       "output_type": "stream",
       "stream": "stdout",
       "text": [
        "\n",
        "adata T1_LL_fit deleted in HerS10Do04\n",
        "T1_LL overwritten in HerS10Do04.l01/4, job id ...977a6 done on E 12 "
       ]
      },
      {
       "output_type": "stream",
       "stream": "stdout",
       "text": [
        "\n",
        "adata T1_LL deleted in HerS10Do01"
       ]
      },
      {
       "output_type": "stream",
       "stream": "stdout",
       "text": [
        "\n",
        "T1_LL overwritten in HerS10Do01.l01/5, job id ...4fd59 done on E 1 "
       ]
      },
      {
       "output_type": "stream",
       "stream": "stdout",
       "text": [
        "\n",
        "adata T1_LL_fit deleted in HerS10Do01\n",
        "T1_LL overwritten in HerS10Do01.l01/5, job id ...4fd59 done on E 1 "
       ]
      },
      {
       "output_type": "stream",
       "stream": "stdout",
       "text": [
        "\n",
        "adata T1_LL deleted in HerS10Do01"
       ]
      },
      {
       "output_type": "stream",
       "stream": "stdout",
       "text": [
        "\n",
        "T1_LL overwritten in HerS10Do01.kZ1/5, job id ...86f7e done on E 3 "
       ]
      },
      {
       "output_type": "stream",
       "stream": "stdout",
       "text": [
        "\n",
        "adata T1_LL_fit deleted in HerS10Do01\n",
        "T1_LL overwritten in HerS10Do01.kZ1/5, job id ...86f7e done on E 3 "
       ]
      },
      {
       "output_type": "stream",
       "stream": "stdout",
       "text": [
        "\n",
        "adata T1_LL deleted in HerS10Do07"
       ]
      },
      {
       "output_type": "stream",
       "stream": "stdout",
       "text": [
        "\n",
        "T1_LL overwritten in HerS10Do07.l11/9, job id ...f7689 done on E 8 "
       ]
      },
      {
       "output_type": "stream",
       "stream": "stdout",
       "text": [
        "\n",
        "adata T1_LL_fit deleted in HerS10Do07\n",
        "T1_LL overwritten in HerS10Do07.l11/9, job id ...f7689 done on E 8 "
       ]
      },
      {
       "output_type": "stream",
       "stream": "stdout",
       "text": [
        "\n",
        "adata T1_LL deleted in HerS10Do05"
       ]
      },
      {
       "output_type": "stream",
       "stream": "stdout",
       "text": [
        "\n",
        "T1_LL overwritten in HerS10Do05.kZ1/5, job id ...20cac done on E 13 "
       ]
      },
      {
       "output_type": "stream",
       "stream": "stdout",
       "text": [
        "\n",
        "adata T1_LL_fit deleted in HerS10Do05\n",
        "T1_LL overwritten in HerS10Do05.kZ1/5, job id ...20cac done on E 13 "
       ]
      },
      {
       "output_type": "stream",
       "stream": "stdout",
       "text": [
        "\n",
        "adata T1_LL deleted in HerS10Do06"
       ]
      },
      {
       "output_type": "stream",
       "stream": "stdout",
       "text": [
        "\n",
        "T1_LL overwritten in HerS10Do06.l01/5, job id ...8fb00 done on E 6 "
       ]
      },
      {
       "output_type": "stream",
       "stream": "stdout",
       "text": [
        "\n",
        "adata T1_LL_fit deleted in HerS10Do06\n",
        "T1_LL overwritten in HerS10Do06.l01/5, job id ...8fb00 done on E 6 "
       ]
      },
      {
       "output_type": "stream",
       "stream": "stdout",
       "text": [
        "\n",
        "adata T1_LL deleted in HerS10Do05"
       ]
      },
      {
       "output_type": "stream",
       "stream": "stdout",
       "text": [
        "\n",
        "T1_LL overwritten in HerS10Do05.l01/8, job id ...f4875 done on E 5 "
       ]
      },
      {
       "output_type": "stream",
       "stream": "stdout",
       "text": [
        "\n",
        "adata T1_LL_fit deleted in HerS10Do05\n",
        "T1_LL overwritten in HerS10Do05.l01/8, job id ...f4875 done on E 5 "
       ]
      },
      {
       "output_type": "stream",
       "stream": "stdout",
       "text": [
        "\n",
        "adata T1_LL deleted in HerS10Do04"
       ]
      },
      {
       "output_type": "stream",
       "stream": "stdout",
       "text": [
        "\n",
        "T1_LL overwritten in HerS10Do04.kZ1/5, job id ...3b231 done on E 15 "
       ]
      },
      {
       "output_type": "stream",
       "stream": "stdout",
       "text": [
        "\n",
        "adata T1_LL_fit deleted in HerS10Do04\n",
        "T1_LL overwritten in HerS10Do04.kZ1/5, job id ...3b231 done on E 15 "
       ]
      },
      {
       "output_type": "stream",
       "stream": "stdout",
       "text": [
        "\n",
        "adata T1_LL deleted in HerS10Do05"
       ]
      },
      {
       "output_type": "stream",
       "stream": "stdout",
       "text": [
        "\n",
        "T1_LL overwritten in HerS10Do05.l01/4, job id ...12c84 done on E 9 "
       ]
      },
      {
       "output_type": "stream",
       "stream": "stdout",
       "text": [
        "\n",
        "adata T1_LL_fit deleted in HerS10Do05\n",
        "T1_LL overwritten in HerS10Do05.l01/4, job id ...12c84 done on E 9 "
       ]
      },
      {
       "output_type": "stream",
       "stream": "stdout",
       "text": [
        "\n",
        "adata T1_LL deleted in HerS10Do06"
       ]
      },
      {
       "output_type": "stream",
       "stream": "stdout",
       "text": [
        "\n",
        "T1_LL overwritten in HerS10Do06.l11/9, job id ...45fcb done on E 4 "
       ]
      },
      {
       "output_type": "stream",
       "stream": "stdout",
       "text": [
        "\n",
        "adata T1_LL_fit deleted in HerS10Do06\n",
        "T1_LL overwritten in HerS10Do06.l11/9, job id ...45fcb done on E 4 "
       ]
      },
      {
       "output_type": "stream",
       "stream": "stdout",
       "text": [
        "\n",
        "adata T1_LL deleted in HerS10Do08"
       ]
      },
      {
       "output_type": "stream",
       "stream": "stdout",
       "text": [
        "\n",
        "T1_LL overwritten in HerS10Do08.l11/5, job id ...22835 done on E 11 "
       ]
      },
      {
       "output_type": "stream",
       "stream": "stdout",
       "text": [
        "\n",
        "adata T1_LL_fit deleted in HerS10Do08\n",
        "T1_LL overwritten in HerS10Do08.l11/5, job id ...22835 done on E 11 "
       ]
      },
      {
       "output_type": "stream",
       "stream": "stdout",
       "text": [
        "\n",
        "adata T1_LL deleted in HerS10Do07"
       ]
      },
      {
       "output_type": "stream",
       "stream": "stdout",
       "text": [
        "\n",
        "T1_LL overwritten in HerS10Do07.l11/5, job id ...aa66c done on E 0 "
       ]
      },
      {
       "output_type": "stream",
       "stream": "stdout",
       "text": [
        "\n",
        "adata T1_LL_fit deleted in HerS10Do07\n",
        "T1_LL overwritten in HerS10Do07.l11/5, job id ...aa66c done on E 0 "
       ]
      },
      {
       "output_type": "stream",
       "stream": "stdout",
       "text": [
        "\n",
        "adata T1_LL deleted in HerS10Do04"
       ]
      },
      {
       "output_type": "stream",
       "stream": "stdout",
       "text": [
        "\n",
        "T1_LL overwritten in HerS10Do04.l01/8, job id ...92b55 done on E 7 "
       ]
      },
      {
       "output_type": "stream",
       "stream": "stdout",
       "text": [
        "\n",
        "adata T1_LL_fit deleted in HerS10Do04\n",
        "T1_LL overwritten in HerS10Do04.l01/8, job id ...92b55 done on E 7 "
       ]
      },
      {
       "output_type": "stream",
       "stream": "stdout",
       "text": [
        "\n",
        "adata T1_LL deleted in HerS10Do08"
       ]
      },
      {
       "output_type": "stream",
       "stream": "stdout",
       "text": [
        "\n",
        "T1_LL overwritten in HerS10Do08.l11/9, job id ...5360e done on E 12 "
       ]
      },
      {
       "output_type": "stream",
       "stream": "stdout",
       "text": [
        "\n",
        "adata T1_LL_fit deleted in HerS10Do08\n",
        "T1_LL overwritten in HerS10Do08.l11/9, job id ...5360e done on E 12 "
       ]
      },
      {
       "output_type": "stream",
       "stream": "stdout",
       "text": [
        "\n",
        "adata T1_LL deleted in HerS10Do06"
       ]
      },
      {
       "output_type": "stream",
       "stream": "stdout",
       "text": [
        "\n",
        "T1_LL overwritten in HerS10Do06.l11/5, job id ...d107f done on E 10 "
       ]
      },
      {
       "output_type": "stream",
       "stream": "stdout",
       "text": [
        "\n",
        "adata T1_LL_fit deleted in HerS10Do06\n",
        "T1_LL overwritten in HerS10Do06.l11/5, job id ...d107f done on E 10 "
       ]
      },
      {
       "output_type": "stream",
       "stream": "stdout",
       "text": [
        "\n",
        "adata T1_LL deleted in HerS10Do17"
       ]
      },
      {
       "output_type": "stream",
       "stream": "stdout",
       "text": [
        "\n",
        "T1_LL overwritten in HerS10Do17.l71/4, job id ...b1ed0 done on E 11 "
       ]
      },
      {
       "output_type": "stream",
       "stream": "stdout",
       "text": [
        "\n",
        "adata T1_LL_fit deleted in HerS10Do17\n",
        "T1_LL overwritten in HerS10Do17.l71/4, job id ...b1ed0 done on E 11 "
       ]
      },
      {
       "output_type": "stream",
       "stream": "stdout",
       "text": [
        "\n",
        "adata T1_LL deleted in HerS10Do16"
       ]
      },
      {
       "output_type": "stream",
       "stream": "stdout",
       "text": [
        "\n",
        "T1_LL overwritten in HerS10Do16.l71/8, job id ...fe67e done on E 13 "
       ]
      },
      {
       "output_type": "stream",
       "stream": "stdout",
       "text": [
        "\n",
        "adata T1_LL_fit deleted in HerS10Do16\n",
        "T1_LL overwritten in HerS10Do16.l71/8, job id ...fe67e done on E 13 "
       ]
      },
      {
       "output_type": "stream",
       "stream": "stdout",
       "text": [
        "\n",
        "adata T1_LL deleted in HerS10Do09"
       ]
      },
      {
       "output_type": "stream",
       "stream": "stdout",
       "text": [
        "\n",
        "T1_LL overwritten in HerS10Do09.l01/5, job id ...21559 done on E 2 "
       ]
      },
      {
       "output_type": "stream",
       "stream": "stdout",
       "text": [
        "\n",
        "adata T1_LL_fit deleted in HerS10Do09\n",
        "T1_LL overwritten in HerS10Do09.l01/5, job id ...21559 done on E 2 "
       ]
      },
      {
       "output_type": "stream",
       "stream": "stdout",
       "text": [
        "\n",
        "adata T1_LL deleted in HerS10Do09"
       ]
      },
      {
       "output_type": "stream",
       "stream": "stdout",
       "text": [
        "\n",
        "T1_LL overwritten in HerS10Do09.l11/4, job id ...9cda5 done on E 10 "
       ]
      },
      {
       "output_type": "stream",
       "stream": "stdout",
       "text": [
        "\n",
        "adata T1_LL_fit deleted in HerS10Do09\n",
        "T1_LL overwritten in HerS10Do09.l11/4, job id ...9cda5 done on E 10 "
       ]
      },
      {
       "output_type": "stream",
       "stream": "stdout",
       "text": [
        "\n",
        "adata T1_LL deleted in HerS10Do17"
       ]
      },
      {
       "output_type": "stream",
       "stream": "stdout",
       "text": [
        "\n",
        "T1_LL overwritten in HerS10Do17.l71/8, job id ...02223 done on E 8 "
       ]
      },
      {
       "output_type": "stream",
       "stream": "stdout",
       "text": [
        "\n",
        "adata T1_LL_fit deleted in HerS10Do17\n",
        "T1_LL overwritten in HerS10Do17.l71/8, job id ...02223 done on E 8 "
       ]
      },
      {
       "output_type": "stream",
       "stream": "stdout",
       "text": [
        "\n",
        "adata T1_LL deleted in HerS10Do16"
       ]
      },
      {
       "output_type": "stream",
       "stream": "stdout",
       "text": [
        "\n",
        "T1_LL overwritten in HerS10Do16.l61/8, job id ...e9882 done on E 15 "
       ]
      },
      {
       "output_type": "stream",
       "stream": "stdout",
       "text": [
        "\n",
        "adata T1_LL_fit deleted in HerS10Do16\n",
        "T1_LL overwritten in HerS10Do16.l61/8, job id ...e9882 done on E 15 "
       ]
      },
      {
       "output_type": "stream",
       "stream": "stdout",
       "text": [
        "\n",
        "adata T1_LL deleted in HerS10Do19"
       ]
      },
      {
       "output_type": "stream",
       "stream": "stdout",
       "text": [
        "\n",
        "T1_LL overwritten in HerS10Do19.l61/4, job id ...3d57e done on E 0 "
       ]
      },
      {
       "output_type": "stream",
       "stream": "stdout",
       "text": [
        "\n",
        "adata T1_LL_fit deleted in HerS10Do19\n",
        "T1_LL overwritten in HerS10Do19.l61/4, job id ...3d57e done on E 0 "
       ]
      },
      {
       "output_type": "stream",
       "stream": "stdout",
       "text": [
        "\n",
        "adata T1_LL deleted in HerS10Do18"
       ]
      },
      {
       "output_type": "stream",
       "stream": "stdout",
       "text": [
        "\n",
        "T1_LL overwritten in HerS10Do18.l61/4, job id ...15d13 done on E 13 "
       ]
      },
      {
       "output_type": "stream",
       "stream": "stdout",
       "text": [
        "\n",
        "adata T1_LL_fit deleted in HerS10Do18\n",
        "T1_LL overwritten in HerS10Do18.l61/4, job id ...15d13 done on E 13 "
       ]
      },
      {
       "output_type": "stream",
       "stream": "stdout",
       "text": [
        "\n",
        "adata T1_LL deleted in HerS10Do09"
       ]
      },
      {
       "output_type": "stream",
       "stream": "stdout",
       "text": [
        "\n",
        "T1_LL overwritten in HerS10Do09.l11/8, job id ...cc773 done on E 7 "
       ]
      },
      {
       "output_type": "stream",
       "stream": "stdout",
       "text": [
        "\n",
        "adata T1_LL_fit deleted in HerS10Do09\n",
        "T1_LL overwritten in HerS10Do09.l11/8, job id ...cc773 done on E 7 "
       ]
      },
      {
       "output_type": "stream",
       "stream": "stdout",
       "text": [
        "\n",
        "adata T1_LL deleted in HerS10Do19"
       ]
      },
      {
       "output_type": "stream",
       "stream": "stdout",
       "text": [
        "\n",
        "T1_LL overwritten in HerS10Do19.l71/4, job id ...c1c90 done on E 11 "
       ]
      },
      {
       "output_type": "stream",
       "stream": "stdout",
       "text": [
        "\n",
        "adata T1_LL_fit deleted in HerS10Do19\n",
        "T1_LL overwritten in HerS10Do19.l71/4, job id ...c1c90 done on E 11 "
       ]
      },
      {
       "output_type": "stream",
       "stream": "stdout",
       "text": [
        "\n",
        "adata T1_LL deleted in HerS10Do08"
       ]
      },
      {
       "output_type": "stream",
       "stream": "stdout",
       "text": [
        "\n",
        "T1_LL overwritten in HerS10Do08.l01/5, job id ...f65c5 done on E 14 "
       ]
      },
      {
       "output_type": "stream",
       "stream": "stdout",
       "text": [
        "\n",
        "adata T1_LL_fit deleted in HerS10Do08\n",
        "T1_LL overwritten in HerS10Do08.l01/5, job id ...f65c5 done on E 14 "
       ]
      },
      {
       "output_type": "stream",
       "stream": "stdout",
       "text": [
        "\n",
        "adata T1_LL deleted in HerS10Do10"
       ]
      },
      {
       "output_type": "stream",
       "stream": "stdout",
       "text": [
        "\n",
        "T1_LL overwritten in HerS10Do10.l11/4, job id ...f224a done on E 1 "
       ]
      },
      {
       "output_type": "stream",
       "stream": "stdout",
       "text": [
        "\n",
        "adata T1_LL_fit deleted in HerS10Do10\n",
        "T1_LL overwritten in HerS10Do10.l11/4, job id ...f224a done on E 1 "
       ]
      },
      {
       "output_type": "stream",
       "stream": "stdout",
       "text": [
        "\n",
        "adata T1_LL deleted in HerS10Do11"
       ]
      },
      {
       "output_type": "stream",
       "stream": "stdout",
       "text": [
        "\n",
        "T1_LL overwritten in HerS10Do11.l01/4, job id ...31aa5 done on E 0 "
       ]
      },
      {
       "output_type": "stream",
       "stream": "stdout",
       "text": [
        "\n",
        "adata T1_LL_fit deleted in HerS10Do11\n",
        "T1_LL overwritten in HerS10Do11.l01/4, job id ...31aa5 done on E 0 "
       ]
      },
      {
       "output_type": "stream",
       "stream": "stdout",
       "text": [
        "\n",
        "adata T1_LL deleted in HerS10Do10"
       ]
      },
      {
       "output_type": "stream",
       "stream": "stdout",
       "text": [
        "\n",
        "T1_LL overwritten in HerS10Do10.l01/5, job id ...773d7 done on E 9 "
       ]
      },
      {
       "output_type": "stream",
       "stream": "stdout",
       "text": [
        "\n",
        "adata T1_LL_fit deleted in HerS10Do10\n",
        "T1_LL overwritten in HerS10Do10.l01/5, job id ...773d7 done on E 9 "
       ]
      },
      {
       "output_type": "stream",
       "stream": "stdout",
       "text": [
        "\n",
        "adata T1_LL deleted in HerS10Do18"
       ]
      },
      {
       "output_type": "stream",
       "stream": "stdout",
       "text": [
        "\n",
        "T1_LL overwritten in HerS10Do18.l71/9, job id ...0e623 done on E 14 "
       ]
      },
      {
       "output_type": "stream",
       "stream": "stdout",
       "text": [
        "\n",
        "adata T1_LL_fit deleted in HerS10Do18\n",
        "T1_LL overwritten in HerS10Do18.l71/9, job id ...0e623 done on E 14 "
       ]
      },
      {
       "output_type": "stream",
       "stream": "stdout",
       "text": [
        "\n",
        "adata T1_LL deleted in HerS10Do17"
       ]
      },
      {
       "output_type": "stream",
       "stream": "stdout",
       "text": [
        "\n",
        "T1_LL overwritten in HerS10Do17.l61/4, job id ...1a3b0 done on E 12 "
       ]
      },
      {
       "output_type": "stream",
       "stream": "stdout",
       "text": [
        "\n",
        "adata T1_LL_fit deleted in HerS10Do17\n",
        "T1_LL overwritten in HerS10Do17.l61/4, job id ...1a3b0 done on E 12 "
       ]
      },
      {
       "output_type": "stream",
       "stream": "stdout",
       "text": [
        "\n",
        "adata T1_LL deleted in HerS10Do11"
       ]
      },
      {
       "output_type": "stream",
       "stream": "stdout",
       "text": [
        "\n",
        "T1_LL overwritten in HerS10Do11.l11/8, job id ...f593b done on E 6 "
       ]
      },
      {
       "output_type": "stream",
       "stream": "stdout",
       "text": [
        "\n",
        "adata T1_LL_fit deleted in HerS10Do11\n",
        "T1_LL overwritten in HerS10Do11.l11/8, job id ...f593b done on E 6 "
       ]
      },
      {
       "output_type": "stream",
       "stream": "stdout",
       "text": [
        "\n",
        "adata T1_LL deleted in HerS10Do11"
       ]
      },
      {
       "output_type": "stream",
       "stream": "stdout",
       "text": [
        "\n",
        "T1_LL overwritten in HerS10Do11.l11/4, job id ...dbc27 done on E 5 "
       ]
      },
      {
       "output_type": "stream",
       "stream": "stdout",
       "text": [
        "\n",
        "adata T1_LL_fit deleted in HerS10Do11\n",
        "T1_LL overwritten in HerS10Do11.l11/4, job id ...dbc27 done on E 5 "
       ]
      },
      {
       "output_type": "stream",
       "stream": "stdout",
       "text": [
        "\n",
        "adata T1_LL deleted in HerS10Do16"
       ]
      },
      {
       "output_type": "stream",
       "stream": "stdout",
       "text": [
        "\n",
        "T1_LL overwritten in HerS10Do16.l71/4, job id ...e8148 done on E 3 "
       ]
      },
      {
       "output_type": "stream",
       "stream": "stdout",
       "text": [
        "\n",
        "adata T1_LL_fit deleted in HerS10Do16\n",
        "T1_LL overwritten in HerS10Do16.l71/4, job id ...e8148 done on E 3 "
       ]
      },
      {
       "output_type": "stream",
       "stream": "stdout",
       "text": [
        "\n",
        "adata T1_LL deleted in HerS10Do10"
       ]
      },
      {
       "output_type": "stream",
       "stream": "stdout",
       "text": [
        "\n",
        "T1_LL overwritten in HerS10Do10.l11/8, job id ...f05c5 done on E 4 "
       ]
      },
      {
       "output_type": "stream",
       "stream": "stdout",
       "text": [
        "\n",
        "adata T1_LL_fit deleted in HerS10Do10\n",
        "T1_LL overwritten in HerS10Do10.l11/8, job id ...f05c5 done on E 4 "
       ]
      },
      {
       "output_type": "stream",
       "stream": "stdout",
       "text": [
        "\n",
        "adata T1_LL deleted in HerS10Do19"
       ]
      },
      {
       "output_type": "stream",
       "stream": "stdout",
       "text": [
        "\n",
        "T1_LL overwritten in HerS10Do19.l71/8, job id ...a7f2c done on E 8 "
       ]
      },
      {
       "output_type": "stream",
       "stream": "stdout",
       "text": [
        "\n",
        "adata T1_LL_fit deleted in HerS10Do19\n",
        "T1_LL overwritten in HerS10Do19.l71/8, job id ...a7f2c done on E 8 "
       ]
      },
      {
       "output_type": "stream",
       "stream": "stdout",
       "text": [
        "\n",
        "adata T1_LL deleted in HerS10Do18"
       ]
      },
      {
       "output_type": "stream",
       "stream": "stdout",
       "text": [
        "\n",
        "T1_LL overwritten in HerS10Do18.l71/5, job id ...bff1e done on E 10 "
       ]
      },
      {
       "output_type": "stream",
       "stream": "stdout",
       "text": [
        "\n",
        "adata T1_LL_fit deleted in HerS10Do18\n",
        "T1_LL overwritten in HerS10Do18.l71/5, job id ...bff1e done on E 10 "
       ]
      },
      {
       "output_type": "stream",
       "stream": "stdout",
       "text": [
        "\n",
        "###### Parallelized Code: 1971.33028102 s \n",
        "\n",
        "Analysis Complete\n"
       ]
      }
     ],
     "prompt_number": 4
    },
    {
     "cell_type": "markdown",
     "metadata": {},
     "source": [
      "### Transferring ROIs"
     ]
    },
    {
     "cell_type": "code",
     "collapsed": true,
     "input": [
      "import sarpy.fmoosvi.wrappers\n",
      "reload(sarpy.fmoosvi.wrappers)\n",
      "fFlag = True\n",
      "\n",
      "label = [] \n",
      "#label.append('T1_LL')\n",
      "label.append('auc60')\n",
      "\n",
      "for l in label:\n",
      "    sarpy.fmoosvi.wrappers.bulk_transfer_roi(masterlist,l, forceVal = fFlag)"
     ],
     "language": "python",
     "metadata": {},
     "outputs": [
      {
       "output_type": "stream",
       "stream": "stdout",
       "text": [
        "adata auc60_roi deleted in HerS10Do01\n",
        "Saved auc60_roi in HerS10Do01.l01/8"
       ]
      },
      {
       "output_type": "stream",
       "stream": "stdout",
       "text": [
        "\n",
        "adata auc60_roi deleted in HerS10Do04"
       ]
      },
      {
       "output_type": "stream",
       "stream": "stdout",
       "text": [
        "\n",
        "Saved auc60_roi in HerS10Do04.l01/7"
       ]
      },
      {
       "output_type": "stream",
       "stream": "stdout",
       "text": [
        "\n",
        "adata auc60_roi deleted in HerS10Do05"
       ]
      },
      {
       "output_type": "stream",
       "stream": "stdout",
       "text": [
        "\n",
        "Saved auc60_roi in HerS10Do05.l01/7"
       ]
      },
      {
       "output_type": "stream",
       "stream": "stdout",
       "text": [
        "\n",
        "adata auc60_roi deleted in HerS10Do06"
       ]
      },
      {
       "output_type": "stream",
       "stream": "stdout",
       "text": [
        "\n",
        "Saved auc60_roi in HerS10Do06.l11/8"
       ]
      },
      {
       "output_type": "stream",
       "stream": "stdout",
       "text": [
        "\n",
        "adata auc60_roi deleted in HerS10Do07"
       ]
      },
      {
       "output_type": "stream",
       "stream": "stdout",
       "text": [
        "\n",
        "Saved auc60_roi in HerS10Do07.l11/8"
       ]
      },
      {
       "output_type": "stream",
       "stream": "stdout",
       "text": [
        "\n",
        "adata auc60_roi deleted in HerS10Do08"
       ]
      },
      {
       "output_type": "stream",
       "stream": "stdout",
       "text": [
        "\n",
        "Saved auc60_roi in HerS10Do08.l11/8"
       ]
      },
      {
       "output_type": "stream",
       "stream": "stdout",
       "text": [
        "\n",
        "adata auc60_roi deleted in HerS10Do09"
       ]
      },
      {
       "output_type": "stream",
       "stream": "stdout",
       "text": [
        "\n",
        "Saved auc60_roi in HerS10Do09.l11/7"
       ]
      },
      {
       "output_type": "stream",
       "stream": "stdout",
       "text": [
        "\n",
        "adata auc60_roi deleted in HerS10Do10"
       ]
      },
      {
       "output_type": "stream",
       "stream": "stdout",
       "text": [
        "\n",
        "Saved auc60_roi in HerS10Do10.l11/7"
       ]
      },
      {
       "output_type": "stream",
       "stream": "stdout",
       "text": [
        "\n",
        "adata auc60_roi deleted in HerS10Do11"
       ]
      },
      {
       "output_type": "stream",
       "stream": "stdout",
       "text": [
        "\n",
        "Saved auc60_roi in HerS10Do11.l11/7"
       ]
      },
      {
       "output_type": "stream",
       "stream": "stdout",
       "text": [
        "\n",
        "adata auc60_roi deleted in HerS10Do16"
       ]
      },
      {
       "output_type": "stream",
       "stream": "stdout",
       "text": [
        "\n",
        "Saved auc60_roi in HerS10Do16.l71/7"
       ]
      },
      {
       "output_type": "stream",
       "stream": "stdout",
       "text": [
        "\n",
        "adata auc60_roi deleted in HerS10Do17"
       ]
      },
      {
       "output_type": "stream",
       "stream": "stdout",
       "text": [
        "\n",
        "Saved auc60_roi in HerS10Do17.l71/7"
       ]
      },
      {
       "output_type": "stream",
       "stream": "stdout",
       "text": [
        "\n",
        "adata auc60_roi deleted in HerS10Do18"
       ]
      },
      {
       "output_type": "stream",
       "stream": "stdout",
       "text": [
        "\n",
        "Saved auc60_roi in HerS10Do18.l71/8"
       ]
      },
      {
       "output_type": "stream",
       "stream": "stdout",
       "text": [
        "\n",
        "adata auc60_roi deleted in HerS10Do19"
       ]
      },
      {
       "output_type": "stream",
       "stream": "stdout",
       "text": [
        "\n",
        "Saved auc60_roi in HerS10Do19.l71/7"
       ]
      },
      {
       "output_type": "stream",
       "stream": "stdout",
       "text": [
        "\n"
       ]
      }
     ],
     "prompt_number": 5
    },
    {
     "cell_type": "markdown",
     "metadata": {},
     "source": [
      "### Advanced Analyses"
     ]
    },
    {
     "cell_type": "code",
     "collapsed": false,
     "input": [
      "import sarpy\n",
      "import sarpy.io.bulk_analyze\n",
      "import sarpy.fmoosvi.analysis\n",
      "import collections\n",
      "\n",
      "advancedAnalyses = collections.OrderedDict()\n",
      "fFlag = True\n",
      "\n",
      "## Enhancement Curve\n",
      "advancedAnalyses['ec']={\n",
      "                         'scan_label':'dce-[0-9]*ha',\n",
      "                         'adata_roi_label':'auc60_roi',\n",
      "                         'adata_save_label':'ec',\n",
      "                         'force_overwrite':fFlag\n",
      "                         }\n",
      "## Gd_conc - 0h\n",
      "advancedAnalyses['gd_conc_0h']={\n",
      "                             'scan_label':'dce-0ha',\n",
      "                             'other_scan_label':'LL-0h-',\n",
      "                             'adata_label':'T1_LL',\n",
      "                             'relaxivity':4.3e-3,\n",
      "                             'adata_save_label':'gd_conc',\n",
      "                             'force_overwrite':fFlag\n",
      "                             }\n",
      "## Gd_conc - 24h\n",
      "advancedAnalyses['gd_conc_24h']={\n",
      "                             'scan_label':'dce-24ha',\n",
      "                             'other_scan_label':'LL-24h-',\n",
      "                             'adata_label':'T1_LL',\n",
      "                             'relaxivity':4.3e-3,\n",
      "                             'adata_save_label':'gd_conc',\n",
      "                             'force_overwrite':fFlag\n",
      "                             }\n",
      "## AUGC60 - 24h\n",
      "advancedAnalyses['augc_24h']={\n",
      "                             'scan_label':'dce-24ha',\n",
      "                             'other_scan_label':'LL-24h-',\n",
      "                             'adata_label':'gd_conc',\n",
      "                             'relaxivity':4.3e-3,\n",
      "                             'adata_save_label':'augc60',\n",
      "                             'force_overwrite':fFlag\n",
      "                             }\n",
      "for atype in advancedAnalyses:\n",
      "\n",
      "    toAnalyze = True\n",
      "    \n",
      "    if 'ec' in atype:\n",
      "                   \n",
      "        def myfunc(dict_of_params):\n",
      "            import sarpy.fmoosvi.analysis            \n",
      "            reload(sarpy.fmoosvi.analysis)\n",
      "            \n",
      "            import sarpy.fmoosvi.getters\n",
      "            reload(sarpy.fmoosvi.getters)\n",
      "            \n",
      "            import sys\n",
      "\n",
      "            return sarpy.fmoosvi.analysis.h_enhancement_curve(**dict_of_params)\n",
      "    \n",
      "    elif 'gd_conc' in atype:        \n",
      "        def myfunc(dict_of_params):\n",
      "        \n",
      "            import sarpy.fmoosvi.analysis            \n",
      "            reload(sarpy.fmoosvi.analysis)\n",
      "            \n",
      "            import sarpy.fmoosvi.getters\n",
      "            reload(sarpy.fmoosvi.getters)\n",
      "            \n",
      "            import sys\n",
      "            return sarpy.fmoosvi.analysis.h_conc_from_signal(**dict_of_params)\n",
      "        \n",
      "    elif 'augc' in atype:\n",
      "\n",
      "        def myfunc(dict_of_params):\n",
      "        \n",
      "            import sarpy.fmoosvi.analysis            \n",
      "            reload(sarpy.fmoosvi.analysis)\n",
      "            \n",
      "            import sarpy.fmoosvi.getters\n",
      "            reload(sarpy.fmoosvi.getters)\n",
      "            \n",
      "            import sys\n",
      "            return sarpy.fmoosvi.analysis.h_calculate_AUGC(**dict_of_params)\n",
      "    else:\n",
      "        \n",
      "        toAnalyze = False\n",
      "        \n",
      "    if toAnalyze:        \n",
      "\n",
      "        ## Create the factory, and then execute                \n",
      "        an = sarpy.io.bulk_analyze.ParallelBulkAnalyzerFactory.from_function(myfunc, \n",
      "                                                            masterlist_fname=masterlist, \n",
      "                                                            **advancedAnalyses[atype])\n",
      "        an.process()\n",
      "\n",
      "print 'Analyses complete'        "
     ],
     "language": "python",
     "metadata": {},
     "outputs": [
      {
       "output_type": "stream",
       "stream": "stdout",
       "text": [
        "###########\n",
        "Currently, there are 16 clients running\n",
        "importing os on engine(s)"
       ]
      },
      {
       "output_type": "stream",
       "stream": "stdout",
       "text": [
        "\n",
        "importing sys on engine(s)\n",
        "importing sarpy on engine(s)\n",
        "importing sarpy.fmoosvi.analysis on engine(s)"
       ]
      },
      {
       "output_type": "stream",
       "stream": "stdout",
       "text": [
        "\n",
        "###########"
       ]
      },
      {
       "output_type": "stream",
       "stream": "stdout",
       "text": [
        "\n",
        "adata ec deleted in HerS10Do01"
       ]
      },
      {
       "output_type": "stream",
       "stream": "stdout",
       "text": [
        "\n",
        "ec overwritten in HerS10Do01.l01/8, job id ...75177 done on E 14 "
       ]
      },
      {
       "output_type": "stream",
       "stream": "stdout",
       "text": [
        "\n",
        "adata ec deleted in HerS10Do06"
       ]
      },
      {
       "output_type": "stream",
       "stream": "stdout",
       "text": [
        "\n",
        "ec overwritten in HerS10Do06.l11/8, job id ...98dc8 done on E 8 "
       ]
      },
      {
       "output_type": "stream",
       "stream": "stdout",
       "text": [
        "\n",
        "adata ec deleted in HerS10Do05"
       ]
      },
      {
       "output_type": "stream",
       "stream": "stdout",
       "text": [
        "\n",
        "ec overwritten in HerS10Do05.l01/7, job id ...9b13e done on E 11 "
       ]
      },
      {
       "output_type": "stream",
       "stream": "stdout",
       "text": [
        "\n",
        "KeyError('auc60_roi') for HerS10Do07.l11/8 \n",
        "adata ec deleted in HerS10Do10"
       ]
      },
      {
       "output_type": "stream",
       "stream": "stdout",
       "text": [
        "\n",
        "ec overwritten in HerS10Do10.l11/7, job id ...cc65f done on E 9 "
       ]
      },
      {
       "output_type": "stream",
       "stream": "stdout",
       "text": [
        "\n",
        "KeyError('auc60_roi') for HerS10Do08.l11/8 \n",
        "KeyError('auc60_roi') for HerS10Do04.l01/7 "
       ]
      },
      {
       "output_type": "stream",
       "stream": "stdout",
       "text": [
        "\n",
        "KeyError('auc60_roi') for HerS10Do11.l11/7 \n",
        "adata ec deleted in HerS10Do19"
       ]
      },
      {
       "output_type": "stream",
       "stream": "stdout",
       "text": [
        "\n",
        "ec overwritten in HerS10Do19.l71/7, job id ...1ff33 done on E 15 "
       ]
      },
      {
       "output_type": "stream",
       "stream": "stdout",
       "text": [
        "\n",
        "KeyError('auc60_roi') for HerS10Do17.l71/7 "
       ]
      },
      {
       "output_type": "stream",
       "stream": "stdout",
       "text": [
        "\n",
        "KeyError('auc60_roi') for HerS10Do09.l11/7 \n",
        "KeyError('auc60_roi') for HerS10Do18.l71/8 \n",
        "KeyError('auc60_roi') for HerS10Do16.l71/7 "
       ]
      },
      {
       "output_type": "stream",
       "stream": "stdout",
       "text": [
        "\n",
        "###### Parallelized Code: 7.24518799782 s \n",
        "\n",
        "###########\n",
        "Currently, there are 16 clients running\n",
        "importing os on engine(s)"
       ]
      },
      {
       "output_type": "stream",
       "stream": "stdout",
       "text": [
        "\n",
        "importing sys on engine(s)\n",
        "importing sarpy on engine(s)\n",
        "importing sarpy.fmoosvi.analysis on engine(s)"
       ]
      },
      {
       "output_type": "stream",
       "stream": "stdout",
       "text": [
        "\n",
        "###########"
       ]
      },
      {
       "output_type": "stream",
       "stream": "stdout",
       "text": [
        "\n",
        "no scans fit the criterion so nothing was processed\n",
        "###### Parallelized Code: 0.000608921051025 s \n",
        "\n",
        "###########\n",
        "Currently, there are 16 clients running\n",
        "importing os on engine(s)\n",
        "importing sys on engine(s)"
       ]
      },
      {
       "output_type": "stream",
       "stream": "stdout",
       "text": [
        "\n",
        "importing sarpy on engine(s)\n",
        "importing sarpy.fmoosvi.analysis on engine(s)\n",
        "###########"
       ]
      },
      {
       "output_type": "stream",
       "stream": "stdout",
       "text": [
        "\n",
        "KeyError('T1_LL') for HerS10Do07.l11/8 "
       ]
      },
      {
       "output_type": "stream",
       "stream": "stdout",
       "text": [
        "\n",
        "KeyError('T1_LL') for HerS10Do11.l11/7 "
       ]
      },
      {
       "output_type": "stream",
       "stream": "stdout",
       "text": [
        "\n",
        "KeyError('T1_LL') for HerS10Do10.l11/7 "
       ]
      },
      {
       "output_type": "stream",
       "stream": "stdout",
       "text": [
        "\n",
        "KeyError('T1_LL') for HerS10Do18.l71/8 \n",
        "KeyError('T1_LL') for HerS10Do16.l71/7 "
       ]
      },
      {
       "output_type": "stream",
       "stream": "stdout",
       "text": [
        "\n",
        "KeyError('T1_LL') for HerS10Do19.l71/7 \n",
        "adata gd_conc deleted in HerS10Do08"
       ]
      },
      {
       "output_type": "stream",
       "stream": "stdout",
       "text": [
        "\n",
        "gd_conc overwritten in HerS10Do08.l11/8, job id ...afc7d done on E 11 "
       ]
      },
      {
       "output_type": "stream",
       "stream": "stdout",
       "text": [
        "\n",
        "adata gd_conc_times deleted in HerS10Do08\n",
        "gd_conc overwritten in HerS10Do08.l11/8, job id ...afc7d done on E 11 "
       ]
      },
      {
       "output_type": "stream",
       "stream": "stdout",
       "text": [
        "\n",
        "adata gd_conc deleted in HerS10Do04"
       ]
      },
      {
       "output_type": "stream",
       "stream": "stdout",
       "text": [
        "\n",
        "gd_conc overwritten in HerS10Do04.l01/7, job id ...0a70f done on E 13 "
       ]
      },
      {
       "output_type": "stream",
       "stream": "stdout",
       "text": [
        "\n",
        "adata gd_conc_times deleted in HerS10Do04\n",
        "gd_conc overwritten in HerS10Do04.l01/7, job id ...0a70f done on E 13 "
       ]
      },
      {
       "output_type": "stream",
       "stream": "stdout",
       "text": [
        "\n",
        "adata gd_conc deleted in HerS10Do01"
       ]
      },
      {
       "output_type": "stream",
       "stream": "stdout",
       "text": [
        "\n",
        "gd_conc overwritten in HerS10Do01.l01/8, job id ...b671d done on E 12 "
       ]
      },
      {
       "output_type": "stream",
       "stream": "stdout",
       "text": [
        "\n",
        "adata gd_conc_times deleted in HerS10Do01\n",
        "gd_conc overwritten in HerS10Do01.l01/8, job id ...b671d done on E 12 "
       ]
      },
      {
       "output_type": "stream",
       "stream": "stdout",
       "text": [
        "\n",
        "adata gd_conc deleted in HerS10Do06"
       ]
      },
      {
       "output_type": "stream",
       "stream": "stdout",
       "text": [
        "\n",
        "gd_conc overwritten in HerS10Do06.l11/8, job id ...a19f9 done on E 14 "
       ]
      },
      {
       "output_type": "stream",
       "stream": "stdout",
       "text": [
        "\n",
        "adata gd_conc_times deleted in HerS10Do06\n",
        "gd_conc overwritten in HerS10Do06.l11/8, job id ...a19f9 done on E 14 "
       ]
      },
      {
       "output_type": "stream",
       "stream": "stdout",
       "text": [
        "\n",
        "adata gd_conc deleted in HerS10Do17"
       ]
      },
      {
       "output_type": "stream",
       "stream": "stdout",
       "text": [
        "\n",
        "gd_conc overwritten in HerS10Do17.l71/7, job id ...e0c1e done on E 9 "
       ]
      },
      {
       "output_type": "stream",
       "stream": "stdout",
       "text": [
        "\n",
        "adata gd_conc_times deleted in HerS10Do17\n",
        "gd_conc overwritten in HerS10Do17.l71/7, job id ...e0c1e done on E 9 "
       ]
      },
      {
       "output_type": "stream",
       "stream": "stdout",
       "text": [
        "\n",
        "adata gd_conc deleted in HerS10Do09"
       ]
      },
      {
       "output_type": "stream",
       "stream": "stdout",
       "text": [
        "\n",
        "gd_conc overwritten in HerS10Do09.l11/7, job id ...35fd6 done on E 8 "
       ]
      },
      {
       "output_type": "stream",
       "stream": "stdout",
       "text": [
        "\n",
        "adata gd_conc_times deleted in HerS10Do09\n",
        "gd_conc overwritten in HerS10Do09.l11/7, job id ...35fd6 done on E 8 "
       ]
      },
      {
       "output_type": "stream",
       "stream": "stdout",
       "text": [
        "\n",
        "adata gd_conc deleted in HerS10Do05"
       ]
      },
      {
       "output_type": "stream",
       "stream": "stdout",
       "text": [
        "\n",
        "gd_conc overwritten in HerS10Do05.l01/7, job id ...90583 done on E 10 "
       ]
      },
      {
       "output_type": "stream",
       "stream": "stdout",
       "text": [
        "\n",
        "adata gd_conc_times deleted in HerS10Do05\n",
        "gd_conc overwritten in HerS10Do05.l01/7, job id ...90583 done on E 10 "
       ]
      },
      {
       "output_type": "stream",
       "stream": "stdout",
       "text": [
        "\n",
        "###### Parallelized Code: 447.065647125 s \n",
        "\n",
        "###########"
       ]
      },
      {
       "output_type": "stream",
       "stream": "stdout",
       "text": [
        "\n",
        "Currently, there are 16 clients running\n",
        "importing os on engine(s)"
       ]
      },
      {
       "output_type": "stream",
       "stream": "stdout",
       "text": [
        "\n",
        "importing sys on engine(s)\n",
        "importing sarpy on engine(s)"
       ]
      },
      {
       "output_type": "stream",
       "stream": "stdout",
       "text": [
        "\n",
        "importing sarpy.fmoosvi.analysis on engine(s)\n",
        "###########"
       ]
      },
      {
       "output_type": "stream",
       "stream": "stdout",
       "text": [
        "\n",
        "KeyError() for HerS10Do19.l71/7 "
       ]
      },
      {
       "output_type": "stream",
       "stream": "stdout",
       "text": [
        "\n",
        "KeyError() for HerS10Do04.l01/7 \n",
        "KeyError() for HerS10Do10.l11/7 \n",
        "KeyError() for HerS10Do18.l71/8 \n",
        "KeyError() for HerS10Do17.l71/7 \n",
        "KeyError() for HerS10Do01.l01/8 \n",
        "adata augc60 deleted in HerS10Do05"
       ]
      },
      {
       "output_type": "stream",
       "stream": "stdout",
       "text": [
        "\n",
        "augc60 overwritten in HerS10Do05.l01/7, job id ...6cffb done on E 15 "
       ]
      },
      {
       "output_type": "stream",
       "stream": "stdout",
       "text": [
        "\n",
        "adata augc60 deleted in HerS10Do06"
       ]
      },
      {
       "output_type": "stream",
       "stream": "stdout",
       "text": [
        "\n",
        "augc60 overwritten in HerS10Do06.l11/8, job id ...8a8f1 done on E 12 "
       ]
      },
      {
       "output_type": "stream",
       "stream": "stdout",
       "text": [
        "\n",
        "adata augc60 deleted in HerS10Do11"
       ]
      },
      {
       "output_type": "stream",
       "stream": "stdout",
       "text": [
        "\n",
        "augc60 overwritten in HerS10Do11.l11/7, job id ...36eff done on E 11 "
       ]
      },
      {
       "output_type": "stream",
       "stream": "stdout",
       "text": [
        "\n",
        "adata augc60 deleted in HerS10Do07"
       ]
      },
      {
       "output_type": "stream",
       "stream": "stdout",
       "text": [
        "\n",
        "augc60 overwritten in HerS10Do07.l11/8, job id ...5c150 done on E 13 "
       ]
      },
      {
       "output_type": "stream",
       "stream": "stdout",
       "text": [
        "\n",
        "adata augc60 deleted in HerS10Do08"
       ]
      },
      {
       "output_type": "stream",
       "stream": "stdout",
       "text": [
        "\n",
        "augc60 overwritten in HerS10Do08.l11/8, job id ...99dc7 done on E 10 "
       ]
      },
      {
       "output_type": "stream",
       "stream": "stdout",
       "text": [
        "\n",
        "adata augc60 deleted in HerS10Do09"
       ]
      },
      {
       "output_type": "stream",
       "stream": "stdout",
       "text": [
        "\n",
        "augc60 overwritten in HerS10Do09.l11/7, job id ...a4be8 done on E 14 "
       ]
      },
      {
       "output_type": "stream",
       "stream": "stdout",
       "text": [
        "\n",
        "adata augc60 deleted in HerS10Do16"
       ]
      },
      {
       "output_type": "stream",
       "stream": "stdout",
       "text": [
        "\n",
        "augc60 overwritten in HerS10Do16.l71/7, job id ...d3670 done on E 8 "
       ]
      },
      {
       "output_type": "stream",
       "stream": "stdout",
       "text": [
        "\n",
        "###### Parallelized Code: 19.5133209229 s \n",
        "\n",
        "Analyses complete\n"
       ]
      }
     ],
     "prompt_number": 6
    },
    {
     "cell_type": "code",
     "collapsed": false,
     "input": [
      "fFlag = True\n",
      "label = []\n",
      "label.append('augc60')\n",
      "\n",
      "for l in label:\n",
      "    sarpy.fmoosvi.wrappers.bulk_transfer_roi(masterlist,l,forceVal = fFlag)"
     ],
     "language": "python",
     "metadata": {},
     "outputs": [
      {
       "output_type": "stream",
       "stream": "stdout",
       "text": [
        "adata augc60_roi deleted in HerS10Do01\n",
        "Saved augc60_roi in HerS10Do01.l01/8"
       ]
      },
      {
       "output_type": "stream",
       "stream": "stdout",
       "text": [
        "\n",
        "adata augc60_roi deleted in HerS10Do04"
       ]
      },
      {
       "output_type": "stream",
       "stream": "stdout",
       "text": [
        "\n",
        "Saved augc60_roi in HerS10Do04.l01/7"
       ]
      },
      {
       "output_type": "stream",
       "stream": "stdout",
       "text": [
        "\n",
        "adata augc60_roi deleted in HerS10Do05"
       ]
      },
      {
       "output_type": "stream",
       "stream": "stdout",
       "text": [
        "\n",
        "Saved augc60_roi in HerS10Do05.l01/7"
       ]
      },
      {
       "output_type": "stream",
       "stream": "stdout",
       "text": [
        "\n",
        "adata augc60_roi deleted in HerS10Do06"
       ]
      },
      {
       "output_type": "stream",
       "stream": "stdout",
       "text": [
        "\n",
        "Saved augc60_roi in HerS10Do06.l11/8"
       ]
      },
      {
       "output_type": "stream",
       "stream": "stdout",
       "text": [
        "\n",
        "adata augc60_roi deleted in HerS10Do07"
       ]
      },
      {
       "output_type": "stream",
       "stream": "stdout",
       "text": [
        "\n",
        "Saved augc60_roi in HerS10Do07.l11/8"
       ]
      },
      {
       "output_type": "stream",
       "stream": "stdout",
       "text": [
        "\n",
        "adata augc60_roi deleted in HerS10Do08"
       ]
      },
      {
       "output_type": "stream",
       "stream": "stdout",
       "text": [
        "\n",
        "Saved augc60_roi in HerS10Do08.l11/8"
       ]
      },
      {
       "output_type": "stream",
       "stream": "stdout",
       "text": [
        "\n",
        "adata augc60_roi deleted in HerS10Do09"
       ]
      },
      {
       "output_type": "stream",
       "stream": "stdout",
       "text": [
        "\n",
        "Saved augc60_roi in HerS10Do09.l11/7"
       ]
      },
      {
       "output_type": "stream",
       "stream": "stdout",
       "text": [
        "\n",
        "adata augc60_roi deleted in HerS10Do10"
       ]
      },
      {
       "output_type": "stream",
       "stream": "stdout",
       "text": [
        "\n",
        "Saved augc60_roi in HerS10Do10.l11/7"
       ]
      },
      {
       "output_type": "stream",
       "stream": "stdout",
       "text": [
        "\n",
        "adata augc60_roi deleted in HerS10Do11"
       ]
      },
      {
       "output_type": "stream",
       "stream": "stdout",
       "text": [
        "\n",
        "Saved augc60_roi in HerS10Do11.l11/7"
       ]
      },
      {
       "output_type": "stream",
       "stream": "stdout",
       "text": [
        "\n",
        "adata augc60_roi deleted in HerS10Do16"
       ]
      },
      {
       "output_type": "stream",
       "stream": "stdout",
       "text": [
        "\n",
        "Saved augc60_roi in HerS10Do16.l71/7"
       ]
      },
      {
       "output_type": "stream",
       "stream": "stdout",
       "text": [
        "\n",
        "adata augc60_roi deleted in HerS10Do17"
       ]
      },
      {
       "output_type": "stream",
       "stream": "stdout",
       "text": [
        "\n",
        "Saved augc60_roi in HerS10Do17.l71/7"
       ]
      },
      {
       "output_type": "stream",
       "stream": "stdout",
       "text": [
        "\n",
        "adata augc60_roi deleted in HerS10Do18"
       ]
      },
      {
       "output_type": "stream",
       "stream": "stdout",
       "text": [
        "\n",
        "Saved augc60_roi in HerS10Do18.l71/8"
       ]
      },
      {
       "output_type": "stream",
       "stream": "stdout",
       "text": [
        "\n",
        "adata augc60_roi deleted in HerS10Do19"
       ]
      },
      {
       "output_type": "stream",
       "stream": "stdout",
       "text": [
        "\n",
        "Saved augc60_roi in HerS10Do19.l71/7"
       ]
      },
      {
       "output_type": "stream",
       "stream": "stdout",
       "text": [
        "\n"
       ]
      }
     ],
     "prompt_number": 7
    },
    {
     "cell_type": "markdown",
     "metadata": {},
     "source": [
      "### Write data to CSV"
     ]
    },
    {
     "cell_type": "code",
     "collapsed": false,
     "input": [
      "adata_to_csv = []\n",
      "\n",
      "adata_to_csv.append(['dce-24ha','auc60'])\n",
      "adata_to_csv.append(['dce-24ha','augc60'])\n",
      "adata_to_csv.append(['LL-0h','T1_LL'])\n",
      "adata_to_csv.append(['LL-24h-','T1_LL'])\n",
      "adata_to_csv.append(['LL-24h+','T1_LL'])\n",
      "\n",
      "\n",
      "for k in adata_to_csv:\n",
      "    \n",
      "    if len(k) ==2:\n",
      "        sarpy.io.write_csv.write_csv(masterlist,k[0],k[1])\n",
      "    else:\n",
      "        sarpy.io.write_csv.write_csv(masterlist,k[0],k[1],roi_override=k[2])"
     ],
     "language": "python",
     "metadata": {},
     "outputs": [
      {
       "output_type": "stream",
       "stream": "stdout",
       "text": [
        "write_csv: Not found HerS10Do02 and dce-24ha,auc60\n",
        "write_csv: Not found HerS10Do02 and dce-24ha,augc60"
       ]
      },
      {
       "output_type": "stream",
       "stream": "stdout",
       "text": [
        "\n",
        "write_csv: Not found HerS10Do02 and LL-24h+,T1_LL"
       ]
      },
      {
       "output_type": "stream",
       "stream": "stdout",
       "text": [
        "\n"
       ]
      },
      {
       "output_type": "stream",
       "stream": "stderr",
       "text": [
        "/System/Library/Frameworks/Python.framework/Versions/2.7/Extras/lib/python/scipy/stats/stats.py:298: RuntimeWarning: invalid value encountered in double_scalars\n",
        "  return np.mean(x,axis)/factor\n"
       ]
      }
     ],
     "prompt_number": 2
    },
    {
     "cell_type": "code",
     "collapsed": false,
     "input": [
      "# Desperation ISMRM 2014\n",
      "\n",
      "adata_to_csv = []\n",
      "\n",
      "adata_to_csv.append(['dce-24ha','PK_XTofts_Ktrans','auc60_roi'])\n",
      "\n",
      "for k in adata_to_csv:\n",
      "    \n",
      "    if len(k) ==2:\n",
      "        sarpy.io.write_csv.write_csv(masterlist,k[0],k[1])\n",
      "    else:\n",
      "        sarpy.io.write_csv.write_csv(masterlist,k[0],k[1],roi_override=k[2])"
     ],
     "language": "python",
     "metadata": {},
     "outputs": [
      {
       "output_type": "stream",
       "stream": "stdout",
       "text": [
        "write_csv: Not found HerS10Do02 and dce-24ha,PK_XTofts_Ktrans\n",
        "write_csv: Not found HerS10Do04 and dce-24ha,PK_XTofts_Ktrans"
       ]
      },
      {
       "output_type": "stream",
       "stream": "stdout",
       "text": [
        "\n",
        "write_csv: Not found HerS10Do07 and dce-24ha,PK_XTofts_Ktrans"
       ]
      },
      {
       "output_type": "stream",
       "stream": "stdout",
       "text": [
        "\n",
        "write_csv: Not found HerS10Do18 and dce-24ha,PK_XTofts_Ktrans"
       ]
      },
      {
       "output_type": "stream",
       "stream": "stdout",
       "text": [
        "\n"
       ]
      }
     ],
     "prompt_number": 7
    },
    {
     "cell_type": "markdown",
     "metadata": {},
     "source": [
      "### Generating Tumourboards"
     ]
    },
    {
     "cell_type": "code",
     "collapsed": false,
     "input": [
      "tumourboards = []\n",
      "tumourboards.append('HerS10/HerS10.TB')\n",
      "#tumourboards.append('HerS10/HerS10-T1.TB')\n",
      "#tumourboards.append('HerS10/HerS10-vtc.TB')\n",
      "os.chdir(os.path.expanduser(os.path.join('~','sarpy/python/sarpy/io')))"
     ],
     "language": "python",
     "metadata": {},
     "outputs": [],
     "prompt_number": 4
    },
    {
     "cell_type": "code",
     "collapsed": false,
     "input": [
      "for tb in tumourboards:\n",
      "    %run ./tumourboard.py -c $tb"
     ],
     "language": "python",
     "metadata": {},
     "outputs": [
      {
       "output_type": "stream",
       "stream": "stdout",
       "text": [
        "\n",
        "--------------------------------------------------------------------------------\n",
        "HerS10Do01\n",
        "('roi-0h', u'HerS10Do01.kZ1/4', '03_RARE_T2w_ax')"
       ]
      },
      {
       "output_type": "stream",
       "stream": "stdout",
       "text": [
        "\n",
        "('LL-0h', u'HerS10Do01.kZ1/5', 'ubcLL2_base_HCT_SQ')"
       ]
      },
      {
       "output_type": "stream",
       "stream": "stdout",
       "text": [
        "\n",
        "('LL-0h', u'HerS10Do01.kZ1/5', 'ubcLL2_base_HCT_SQ')"
       ]
      },
      {
       "output_type": "stream",
       "stream": "stdout",
       "text": [
        "\n",
        "('LL-24h-', u'HerS10Do01.l01/5', 'ubcLL2_base_HCT_SQ')"
       ]
      },
      {
       "output_type": "stream",
       "stream": "stdout",
       "text": [
        "\n",
        "('LL-24h+', u'HerS10Do01.l01/9', 'ubcLL2_base_HCT_SQ')"
       ]
      },
      {
       "output_type": "stream",
       "stream": "stdout",
       "text": [
        "\n",
        "('LL-24h+', u'HerS10Do01.l01/9', 'ubcLL2_base_HCT_SQ')"
       ]
      },
      {
       "output_type": "stream",
       "stream": "stdout",
       "text": [
        "\n",
        "('dce-24ha', u'HerS10Do01.l01/8', '06_FLASH2D.6sl-DCE')"
       ]
      },
      {
       "output_type": "stream",
       "stream": "stdout",
       "text": [
        "\n",
        "('dce-24ha', u'HerS10Do01.l01/8', '06_FLASH2D.6sl-DCE')"
       ]
      },
      {
       "output_type": "stream",
       "stream": "stdout",
       "text": [
        "\n",
        "('dce-24ha', u'HerS10Do01.l01/8', '06_FLASH2D.6sl-DCE')"
       ]
      },
      {
       "output_type": "stream",
       "stream": "stdout",
       "text": [
        "\n",
        "\n",
        "--------------------------------------------------------------------------------\n",
        "HerS10Do02"
       ]
      },
      {
       "output_type": "stream",
       "stream": "stdout",
       "text": [
        "\n",
        "('roi-0h', u'HerS10Do02.kZ1/4', '03_RARE_T2w_ax')"
       ]
      },
      {
       "output_type": "stream",
       "stream": "stdout",
       "text": [
        "\n",
        "('LL-0h', u'HerS10Do02.kZ1/5', 'ubcLL2_base_HCT_SQ')"
       ]
      },
      {
       "output_type": "stream",
       "stream": "stdout",
       "text": [
        "\n",
        "('LL-0h', u'HerS10Do02.kZ1/5', 'ubcLL2_base_HCT_SQ')"
       ]
      },
      {
       "output_type": "stream",
       "stream": "stdout",
       "text": [
        "\n",
        "('LL-24h-', u'HerS10Do02.l01/4', 'ubcLL2_base_HCT_SQ')"
       ]
      },
      {
       "output_type": "stream",
       "stream": "stdout",
       "text": [
        "\n",
        "\n",
        "--------------------------------------------------------------------------------\n",
        "HerS10Do04"
       ]
      },
      {
       "output_type": "stream",
       "stream": "stdout",
       "text": [
        "\n",
        "('roi-0h', u'HerS10Do04.kZ1/4', '03_RARE_T2w_ax')"
       ]
      },
      {
       "output_type": "stream",
       "stream": "stdout",
       "text": [
        "\n",
        "('LL-0h', u'HerS10Do04.kZ1/5', 'ubcLL2_base_HCT_SQ')"
       ]
      },
      {
       "output_type": "stream",
       "stream": "stdout",
       "text": [
        "\n",
        "('LL-0h', u'HerS10Do04.kZ1/5', 'ubcLL2_base_HCT_SQ')"
       ]
      },
      {
       "output_type": "stream",
       "stream": "stdout",
       "text": [
        "\n",
        "('LL-24h-', u'HerS10Do04.l01/4', 'ubcLL2_base_HCT_SQ')"
       ]
      },
      {
       "output_type": "stream",
       "stream": "stdout",
       "text": [
        "\n",
        "('LL-24h+', u'HerS10Do04.l01/8', 'ubcLL2_base_HCT_SQ')"
       ]
      },
      {
       "output_type": "stream",
       "stream": "stdout",
       "text": [
        "\n",
        "('LL-24h+', u'HerS10Do04.l01/8', 'ubcLL2_base_HCT_SQ')"
       ]
      },
      {
       "output_type": "stream",
       "stream": "stdout",
       "text": [
        "\n",
        "('dce-24ha', u'HerS10Do04.l01/7', '06_FLASH2D.6sl-DCE')"
       ]
      },
      {
       "output_type": "stream",
       "stream": "stdout",
       "text": [
        "\n",
        "('dce-24ha', u'HerS10Do04.l01/7', '06_FLASH2D.6sl-DCE')"
       ]
      },
      {
       "output_type": "stream",
       "stream": "stdout",
       "text": [
        "\n",
        "('dce-24ha', u'HerS10Do04.l01/7', '06_FLASH2D.6sl-DCE')"
       ]
      },
      {
       "output_type": "stream",
       "stream": "stdout",
       "text": [
        "\n",
        "\n",
        "--------------------------------------------------------------------------------\n",
        "HerS10Do05"
       ]
      },
      {
       "output_type": "stream",
       "stream": "stdout",
       "text": [
        "\n",
        "('roi-0h', u'HerS10Do05.kZ1/4', '03_RARE_T2w_ax')"
       ]
      },
      {
       "output_type": "stream",
       "stream": "stdout",
       "text": [
        "\n",
        "('LL-0h', u'HerS10Do05.kZ1/5', 'ubcLL2_base_HCT_SQ')"
       ]
      },
      {
       "output_type": "stream",
       "stream": "stdout",
       "text": [
        "\n",
        "('LL-0h', u'HerS10Do05.kZ1/5', 'ubcLL2_base_HCT_SQ')"
       ]
      },
      {
       "output_type": "stream",
       "stream": "stdout",
       "text": [
        "\n",
        "('LL-24h-', u'HerS10Do05.l01/4', 'ubcLL2_base_HCT_SQ')"
       ]
      },
      {
       "output_type": "stream",
       "stream": "stdout",
       "text": [
        "\n",
        "('LL-24h+', u'HerS10Do05.l01/8', 'ubcLL2_base_HCT_SQ')"
       ]
      },
      {
       "output_type": "stream",
       "stream": "stdout",
       "text": [
        "\n",
        "('LL-24h+', u'HerS10Do05.l01/8', 'ubcLL2_base_HCT_SQ')"
       ]
      },
      {
       "output_type": "stream",
       "stream": "stdout",
       "text": [
        "\n",
        "('dce-24ha', u'HerS10Do05.l01/7', '06_FLASH2D.6sl-DCE')"
       ]
      },
      {
       "output_type": "stream",
       "stream": "stdout",
       "text": [
        "\n",
        "('dce-24ha', u'HerS10Do05.l01/7', '06_FLASH2D.6sl-DCE')"
       ]
      },
      {
       "output_type": "stream",
       "stream": "stdout",
       "text": [
        "\n",
        "('dce-24ha', u'HerS10Do05.l01/7', '06_FLASH2D.6sl-DCE')"
       ]
      },
      {
       "output_type": "stream",
       "stream": "stdout",
       "text": [
        "\n",
        "\n",
        "--------------------------------------------------------------------------------\n",
        "HerS10Do06"
       ]
      },
      {
       "output_type": "stream",
       "stream": "stdout",
       "text": [
        "\n",
        "('roi-0h', u'HerS10Do06.l01/4', '03_RARE_T2w_ax')"
       ]
      },
      {
       "output_type": "stream",
       "stream": "stdout",
       "text": [
        "\n",
        "('LL-0h', u'HerS10Do06.l01/5', 'ubcLL2_base_HCT_SQ')"
       ]
      },
      {
       "output_type": "stream",
       "stream": "stdout",
       "text": [
        "\n",
        "('LL-0h', u'HerS10Do06.l01/5', 'ubcLL2_base_HCT_SQ')"
       ]
      },
      {
       "output_type": "stream",
       "stream": "stdout",
       "text": [
        "\n",
        "('LL-24h-', u'HerS10Do06.l11/5', 'ubcLL2_base_HCT_SQ')"
       ]
      },
      {
       "output_type": "stream",
       "stream": "stdout",
       "text": [
        "\n",
        "('LL-24h+', u'HerS10Do06.l11/9', 'ubcLL2_base_HCT_SQ')"
       ]
      },
      {
       "output_type": "stream",
       "stream": "stdout",
       "text": [
        "\n",
        "('LL-24h+', u'HerS10Do06.l11/9', 'ubcLL2_base_HCT_SQ')"
       ]
      },
      {
       "output_type": "stream",
       "stream": "stdout",
       "text": [
        "\n",
        "('dce-24ha', u'HerS10Do06.l11/8', '06_FLASH2D.6sl-DCE')"
       ]
      },
      {
       "output_type": "stream",
       "stream": "stdout",
       "text": [
        "\n",
        "('dce-24ha', u'HerS10Do06.l11/8', '06_FLASH2D.6sl-DCE')"
       ]
      },
      {
       "output_type": "stream",
       "stream": "stdout",
       "text": [
        "\n",
        "('dce-24ha', u'HerS10Do06.l11/8', '06_FLASH2D.6sl-DCE')"
       ]
      },
      {
       "output_type": "stream",
       "stream": "stdout",
       "text": [
        "\n",
        "\n",
        "--------------------------------------------------------------------------------\n",
        "HerS10Do07"
       ]
      },
      {
       "output_type": "stream",
       "stream": "stdout",
       "text": [
        "\n",
        "('roi-0h', u'HerS10Do07.l01/4', '03_RARE_T2w_ax')"
       ]
      },
      {
       "output_type": "stream",
       "stream": "stdout",
       "text": [
        "\n",
        "('LL-0h', u'HerS10Do07.l01/5', 'ubcLL2_base_HCT_SQ')"
       ]
      },
      {
       "output_type": "stream",
       "stream": "stdout",
       "text": [
        "\n",
        "('LL-0h', u'HerS10Do07.l01/5', 'ubcLL2_base_HCT_SQ')"
       ]
      },
      {
       "output_type": "stream",
       "stream": "stdout",
       "text": [
        "\n",
        "('LL-24h-', u'HerS10Do07.l11/5', 'ubcLL2_base_HCT_SQ')"
       ]
      },
      {
       "output_type": "stream",
       "stream": "stdout",
       "text": [
        "\n",
        "('LL-24h+', u'HerS10Do07.l11/9', 'ubcLL2_base_HCT_SQ')"
       ]
      },
      {
       "output_type": "stream",
       "stream": "stdout",
       "text": [
        "\n",
        "('LL-24h+', u'HerS10Do07.l11/9', 'ubcLL2_base_HCT_SQ')"
       ]
      },
      {
       "output_type": "stream",
       "stream": "stdout",
       "text": [
        "\n",
        "('dce-24ha', u'HerS10Do07.l11/8', '06_FLASH2D.6sl-DCE')"
       ]
      },
      {
       "output_type": "stream",
       "stream": "stdout",
       "text": [
        "\n",
        "('dce-24ha', u'HerS10Do07.l11/8', '06_FLASH2D.6sl-DCE')"
       ]
      },
      {
       "output_type": "stream",
       "stream": "stdout",
       "text": [
        "\n",
        "('dce-24ha', u'HerS10Do07.l11/8', '06_FLASH2D.6sl-DCE')"
       ]
      },
      {
       "output_type": "stream",
       "stream": "stdout",
       "text": [
        "\n",
        "\n",
        "--------------------------------------------------------------------------------\n",
        "HerS10Do08"
       ]
      },
      {
       "output_type": "stream",
       "stream": "stdout",
       "text": [
        "\n",
        "('roi-0h', u'HerS10Do08.l01/4', '03_RARE_T2w_ax')"
       ]
      },
      {
       "output_type": "stream",
       "stream": "stdout",
       "text": [
        "\n",
        "('LL-0h', u'HerS10Do08.l01/5', 'ubcLL2_base_HCT_SQ')"
       ]
      },
      {
       "output_type": "stream",
       "stream": "stdout",
       "text": [
        "\n",
        "('LL-0h', u'HerS10Do08.l01/5', 'ubcLL2_base_HCT_SQ')"
       ]
      },
      {
       "output_type": "stream",
       "stream": "stdout",
       "text": [
        "\n",
        "('LL-24h-', u'HerS10Do08.l11/5', 'ubcLL2_base_HCT_SQ')"
       ]
      },
      {
       "output_type": "stream",
       "stream": "stdout",
       "text": [
        "\n",
        "('LL-24h+', u'HerS10Do08.l11/9', 'ubcLL2_base_HCT_SQ')"
       ]
      },
      {
       "output_type": "stream",
       "stream": "stdout",
       "text": [
        "\n",
        "('LL-24h+', u'HerS10Do08.l11/9', 'ubcLL2_base_HCT_SQ')"
       ]
      },
      {
       "output_type": "stream",
       "stream": "stdout",
       "text": [
        "\n",
        "('dce-24ha', u'HerS10Do08.l11/8', '06_FLASH2D.6sl-DCE')"
       ]
      },
      {
       "output_type": "stream",
       "stream": "stdout",
       "text": [
        "\n",
        "('dce-24ha', u'HerS10Do08.l11/8', '06_FLASH2D.6sl-DCE')"
       ]
      },
      {
       "output_type": "stream",
       "stream": "stdout",
       "text": [
        "\n",
        "('dce-24ha', u'HerS10Do08.l11/8', '06_FLASH2D.6sl-DCE')"
       ]
      },
      {
       "output_type": "stream",
       "stream": "stdout",
       "text": [
        "\n",
        "\n",
        "--------------------------------------------------------------------------------\n",
        "HerS10Do09"
       ]
      },
      {
       "output_type": "stream",
       "stream": "stdout",
       "text": [
        "\n",
        "('roi-0h', u'HerS10Do09.l01/4', '03_RARE_T2w_ax')"
       ]
      },
      {
       "output_type": "stream",
       "stream": "stdout",
       "text": [
        "\n",
        "('LL-0h', u'HerS10Do09.l01/5', 'ubcLL2_base_HCT_SQ')"
       ]
      },
      {
       "output_type": "stream",
       "stream": "stdout",
       "text": [
        "\n",
        "('LL-0h', u'HerS10Do09.l01/5', 'ubcLL2_base_HCT_SQ')"
       ]
      },
      {
       "output_type": "stream",
       "stream": "stdout",
       "text": [
        "\n",
        "('LL-24h-', u'HerS10Do09.l11/4', 'ubcLL2_base_HCT_SQ')"
       ]
      },
      {
       "output_type": "stream",
       "stream": "stdout",
       "text": [
        "\n",
        "('LL-24h+', u'HerS10Do09.l11/8', 'ubcLL2_base_HCT_SQ')"
       ]
      },
      {
       "output_type": "stream",
       "stream": "stdout",
       "text": [
        "\n",
        "('LL-24h+', u'HerS10Do09.l11/8', 'ubcLL2_base_HCT_SQ')"
       ]
      },
      {
       "output_type": "stream",
       "stream": "stdout",
       "text": [
        "\n",
        "('dce-24ha', u'HerS10Do09.l11/7', '06_FLASH2D.6sl-DCE')"
       ]
      },
      {
       "output_type": "stream",
       "stream": "stdout",
       "text": [
        "\n",
        "('dce-24ha', u'HerS10Do09.l11/7', '06_FLASH2D.6sl-DCE')"
       ]
      },
      {
       "output_type": "stream",
       "stream": "stdout",
       "text": [
        "\n",
        "('dce-24ha', u'HerS10Do09.l11/7', '06_FLASH2D.6sl-DCE')"
       ]
      },
      {
       "output_type": "stream",
       "stream": "stdout",
       "text": [
        "\n",
        "\n",
        "--------------------------------------------------------------------------------\n",
        "HerS10Do10"
       ]
      },
      {
       "output_type": "stream",
       "stream": "stdout",
       "text": [
        "\n",
        "('roi-0h', u'HerS10Do10.l01/4', '03_RARE_T2w_ax')"
       ]
      },
      {
       "output_type": "stream",
       "stream": "stdout",
       "text": [
        "\n",
        "('LL-0h', u'HerS10Do10.l01/5', 'ubcLL2_base_HCT_SQ')"
       ]
      },
      {
       "output_type": "stream",
       "stream": "stdout",
       "text": [
        "\n",
        "('LL-0h', u'HerS10Do10.l01/5', 'ubcLL2_base_HCT_SQ')"
       ]
      },
      {
       "output_type": "stream",
       "stream": "stdout",
       "text": [
        "\n",
        "('LL-24h-', u'HerS10Do10.l11/4', 'ubcLL2_base_HCT_SQ')"
       ]
      },
      {
       "output_type": "stream",
       "stream": "stdout",
       "text": [
        "\n",
        "('LL-24h+', u'HerS10Do10.l11/8', 'ubcLL2_base_HCT_SQ')"
       ]
      },
      {
       "output_type": "stream",
       "stream": "stdout",
       "text": [
        "\n",
        "('LL-24h+', u'HerS10Do10.l11/8', 'ubcLL2_base_HCT_SQ')"
       ]
      },
      {
       "output_type": "stream",
       "stream": "stdout",
       "text": [
        "\n",
        "('dce-24ha', u'HerS10Do10.l11/7', '06_FLASH2D.6sl-DCE')"
       ]
      },
      {
       "output_type": "stream",
       "stream": "stdout",
       "text": [
        "\n",
        "('dce-24ha', u'HerS10Do10.l11/7', '06_FLASH2D.6sl-DCE')"
       ]
      },
      {
       "output_type": "stream",
       "stream": "stdout",
       "text": [
        "\n",
        "('dce-24ha', u'HerS10Do10.l11/7', '06_FLASH2D.6sl-DCE')"
       ]
      },
      {
       "output_type": "stream",
       "stream": "stdout",
       "text": [
        "\n",
        "\n",
        "--------------------------------------------------------------------------------\n",
        "HerS10Do11"
       ]
      },
      {
       "output_type": "stream",
       "stream": "stdout",
       "text": [
        "\n",
        "('roi-0h', u'HerS10Do11.l01/3', '03_RARE_T2w_ax')"
       ]
      },
      {
       "output_type": "stream",
       "stream": "stdout",
       "text": [
        "\n",
        "('LL-0h', u'HerS10Do11.l01/4', 'ubcLL2_base_HCT_SQ')"
       ]
      },
      {
       "output_type": "stream",
       "stream": "stdout",
       "text": [
        "\n",
        "('LL-0h', u'HerS10Do11.l01/4', 'ubcLL2_base_HCT_SQ')"
       ]
      },
      {
       "output_type": "stream",
       "stream": "stdout",
       "text": [
        "\n",
        "('LL-24h-', u'HerS10Do11.l11/4', 'ubcLL2_base_HCT_SQ')"
       ]
      },
      {
       "output_type": "stream",
       "stream": "stdout",
       "text": [
        "\n",
        "('LL-24h+', u'HerS10Do11.l11/8', 'ubcLL2_base_HCT_SQ')"
       ]
      },
      {
       "output_type": "stream",
       "stream": "stdout",
       "text": [
        "\n",
        "('LL-24h+', u'HerS10Do11.l11/8', 'ubcLL2_base_HCT_SQ')"
       ]
      },
      {
       "output_type": "stream",
       "stream": "stdout",
       "text": [
        "\n",
        "('dce-24ha', u'HerS10Do11.l11/7', '06_FLASH2D.6sl-DCE')"
       ]
      },
      {
       "output_type": "stream",
       "stream": "stdout",
       "text": [
        "\n",
        "('dce-24ha', u'HerS10Do11.l11/7', '06_FLASH2D.6sl-DCE')"
       ]
      },
      {
       "output_type": "stream",
       "stream": "stdout",
       "text": [
        "\n",
        "('dce-24ha', u'HerS10Do11.l11/7', '06_FLASH2D.6sl-DCE')"
       ]
      },
      {
       "output_type": "stream",
       "stream": "stdout",
       "text": [
        "\n",
        "\n",
        "--------------------------------------------------------------------------------\n",
        "HerS10Do16"
       ]
      },
      {
       "output_type": "stream",
       "stream": "stdout",
       "text": [
        "\n",
        "('roi-0h', u'HerS10Do16.l61/7', '03_RARE_T2w_ax')"
       ]
      },
      {
       "output_type": "stream",
       "stream": "stdout",
       "text": [
        "\n",
        "('LL-0h', u'HerS10Do16.l61/8', 'ubcLL2_base_HCT_SQ')"
       ]
      },
      {
       "output_type": "stream",
       "stream": "stdout",
       "text": [
        "\n",
        "('LL-0h', u'HerS10Do16.l61/8', 'ubcLL2_base_HCT_SQ')"
       ]
      },
      {
       "output_type": "stream",
       "stream": "stdout",
       "text": [
        "\n",
        "('LL-24h-', u'HerS10Do16.l71/4', 'ubcLL2_base_HCT_SQ')"
       ]
      },
      {
       "output_type": "stream",
       "stream": "stdout",
       "text": [
        "\n",
        "('LL-24h+', u'HerS10Do16.l71/8', 'ubcLL2_base_HCT_SQ')"
       ]
      },
      {
       "output_type": "stream",
       "stream": "stdout",
       "text": [
        "\n",
        "('LL-24h+', u'HerS10Do16.l71/8', 'ubcLL2_base_HCT_SQ')"
       ]
      },
      {
       "output_type": "stream",
       "stream": "stdout",
       "text": [
        "\n",
        "('dce-24ha', u'HerS10Do16.l71/7', '06_FLASH2D.6sl-DCE')"
       ]
      },
      {
       "output_type": "stream",
       "stream": "stdout",
       "text": [
        "\n",
        "('dce-24ha', u'HerS10Do16.l71/7', '06_FLASH2D.6sl-DCE')"
       ]
      },
      {
       "output_type": "stream",
       "stream": "stdout",
       "text": [
        "\n",
        "('dce-24ha', u'HerS10Do16.l71/7', '06_FLASH2D.6sl-DCE')"
       ]
      },
      {
       "output_type": "stream",
       "stream": "stdout",
       "text": [
        "\n",
        "\n",
        "--------------------------------------------------------------------------------\n",
        "HerS10Do17"
       ]
      },
      {
       "output_type": "stream",
       "stream": "stdout",
       "text": [
        "\n",
        "('roi-0h', u'HerS10Do17.l61/3', '03_RARE_T2w_ax')"
       ]
      },
      {
       "output_type": "stream",
       "stream": "stdout",
       "text": [
        "\n",
        "('LL-0h', u'HerS10Do17.l61/4', 'ubcLL2_base_HCT_SQ')"
       ]
      },
      {
       "output_type": "stream",
       "stream": "stdout",
       "text": [
        "\n",
        "('LL-0h', u'HerS10Do17.l61/4', 'ubcLL2_base_HCT_SQ')"
       ]
      },
      {
       "output_type": "stream",
       "stream": "stdout",
       "text": [
        "\n",
        "('LL-24h-', u'HerS10Do17.l71/4', 'ubcLL2_base_HCT_SQ')"
       ]
      },
      {
       "output_type": "stream",
       "stream": "stdout",
       "text": [
        "\n",
        "('LL-24h+', u'HerS10Do17.l71/8', 'ubcLL2_base_HCT_SQ')"
       ]
      },
      {
       "output_type": "stream",
       "stream": "stdout",
       "text": [
        "\n",
        "('LL-24h+', u'HerS10Do17.l71/8', 'ubcLL2_base_HCT_SQ')"
       ]
      },
      {
       "output_type": "stream",
       "stream": "stdout",
       "text": [
        "\n",
        "('dce-24ha', u'HerS10Do17.l71/7', '06_FLASH2D.6sl-DCE')"
       ]
      },
      {
       "output_type": "stream",
       "stream": "stdout",
       "text": [
        "\n",
        "('dce-24ha', u'HerS10Do17.l71/7', '06_FLASH2D.6sl-DCE')"
       ]
      },
      {
       "output_type": "stream",
       "stream": "stdout",
       "text": [
        "\n",
        "('dce-24ha', u'HerS10Do17.l71/7', '06_FLASH2D.6sl-DCE')"
       ]
      },
      {
       "output_type": "stream",
       "stream": "stdout",
       "text": [
        "\n",
        "\n",
        "--------------------------------------------------------------------------------\n",
        "HerS10Do18"
       ]
      },
      {
       "output_type": "stream",
       "stream": "stdout",
       "text": [
        "\n",
        "('roi-0h', u'HerS10Do18.l61/3', '03_RARE_T2w_ax')"
       ]
      },
      {
       "output_type": "stream",
       "stream": "stdout",
       "text": [
        "\n",
        "('LL-0h', u'HerS10Do18.l61/4', 'ubcLL2_base_HCT_SQ')"
       ]
      },
      {
       "output_type": "stream",
       "stream": "stdout",
       "text": [
        "\n",
        "('LL-0h', u'HerS10Do18.l61/4', 'ubcLL2_base_HCT_SQ')"
       ]
      },
      {
       "output_type": "stream",
       "stream": "stdout",
       "text": [
        "\n",
        "('LL-24h-', u'HerS10Do18.l71/5', 'ubcLL2_base_HCT_SQ')"
       ]
      },
      {
       "output_type": "stream",
       "stream": "stdout",
       "text": [
        "\n",
        "('LL-24h+', u'HerS10Do18.l71/9', 'ubcLL2_base_HCT_SQ')"
       ]
      },
      {
       "output_type": "stream",
       "stream": "stdout",
       "text": [
        "\n",
        "('LL-24h+', u'HerS10Do18.l71/9', 'ubcLL2_base_HCT_SQ')"
       ]
      },
      {
       "output_type": "stream",
       "stream": "stdout",
       "text": [
        "\n",
        "('dce-24ha', u'HerS10Do18.l71/8', '06_FLASH2D.6sl-DCE')"
       ]
      },
      {
       "output_type": "stream",
       "stream": "stdout",
       "text": [
        "\n",
        "('dce-24ha', u'HerS10Do18.l71/8', '06_FLASH2D.6sl-DCE')"
       ]
      },
      {
       "output_type": "stream",
       "stream": "stdout",
       "text": [
        "\n",
        "('dce-24ha', u'HerS10Do18.l71/8', '06_FLASH2D.6sl-DCE')"
       ]
      },
      {
       "output_type": "stream",
       "stream": "stdout",
       "text": [
        "\n",
        "\n",
        "--------------------------------------------------------------------------------\n",
        "HerS10Do19"
       ]
      },
      {
       "output_type": "stream",
       "stream": "stdout",
       "text": [
        "\n",
        "('roi-0h', u'HerS10Do19.l61/3', '03_RARE_T2w_ax')"
       ]
      },
      {
       "output_type": "stream",
       "stream": "stdout",
       "text": [
        "\n",
        "('LL-0h', u'HerS10Do19.l61/4', 'ubcLL2_base_HCT_SQ')"
       ]
      },
      {
       "output_type": "stream",
       "stream": "stdout",
       "text": [
        "\n",
        "('LL-0h', u'HerS10Do19.l61/4', 'ubcLL2_base_HCT_SQ')"
       ]
      },
      {
       "output_type": "stream",
       "stream": "stdout",
       "text": [
        "\n",
        "('LL-24h-', u'HerS10Do19.l71/4', 'ubcLL2_base_HCT_SQ')"
       ]
      },
      {
       "output_type": "stream",
       "stream": "stdout",
       "text": [
        "\n",
        "('LL-24h+', u'HerS10Do19.l71/8', 'ubcLL2_base_HCT_SQ')"
       ]
      },
      {
       "output_type": "stream",
       "stream": "stdout",
       "text": [
        "\n",
        "('LL-24h+', u'HerS10Do19.l71/8', 'ubcLL2_base_HCT_SQ')"
       ]
      },
      {
       "output_type": "stream",
       "stream": "stdout",
       "text": [
        "\n",
        "('dce-24ha', u'HerS10Do19.l71/7', '06_FLASH2D.6sl-DCE')"
       ]
      },
      {
       "output_type": "stream",
       "stream": "stdout",
       "text": [
        "\n",
        "('dce-24ha', u'HerS10Do19.l71/7', '06_FLASH2D.6sl-DCE')"
       ]
      },
      {
       "output_type": "stream",
       "stream": "stdout",
       "text": [
        "\n",
        "('dce-24ha', u'HerS10Do19.l71/7', '06_FLASH2D.6sl-DCE')"
       ]
      },
      {
       "output_type": "stream",
       "stream": "stdout",
       "text": [
        "\n"
       ]
      }
     ],
     "prompt_number": 6
    },
    {
     "cell_type": "code",
     "collapsed": false,
     "input": [],
     "language": "python",
     "metadata": {},
     "outputs": []
    }
   ],
   "metadata": {}
  }
 ]
}