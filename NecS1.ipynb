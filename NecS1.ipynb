{
 "metadata": {
  "name": ""
 },
 "nbformat": 3,
 "nbformat_minor": 0,
 "worksheets": [
  {
   "cells": [
    {
     "cell_type": "markdown",
     "metadata": {},
     "source": [
      "### Basic Analyses"
     ]
    },
    {
     "cell_type": "code",
     "collapsed": false,
     "input": [
      "import sarpy\n",
      "import sarpy.io\n",
      "import sarpy.io.bulk_analyze\n",
      "import sarpy.fmoosvi.analysis\n",
      "import sarpy.io.masterlist\n",
      "import sarpy.fmoosvi.wrappers\n",
      "import collections\n",
      "import os\n",
      "\n",
      "\n",
      "masterlist = 'NecS1'\n",
      "config_file = 'NecS1/NecS1.config'"
     ],
     "language": "python",
     "metadata": {},
     "outputs": [],
     "prompt_number": 2
    },
    {
     "cell_type": "code",
     "collapsed": false,
     "input": [
      "sarpy.io.masterlist.generate(conf_file=config_file)"
     ],
     "language": "python",
     "metadata": {},
     "outputs": [
      {
       "output_type": "stream",
       "stream": "stdout",
       "text": [
        "loading config file NecS1/NecS1.config\n",
        "NecS1Hs02"
       ]
      },
      {
       "output_type": "stream",
       "stream": "stdout",
       "text": [
        "\n",
        "NecS1Hs03"
       ]
      },
      {
       "output_type": "stream",
       "stream": "stdout",
       "text": [
        "\n",
        "\t warning (SCAN #1 not found amongst the 05_IR-RARE-anatomy) \"IR-0h+\" for NecS1Hs03"
       ]
      },
      {
       "output_type": "stream",
       "stream": "stdout",
       "text": [
        "\n",
        "NecS1Hs05"
       ]
      },
      {
       "output_type": "stream",
       "stream": "stdout",
       "text": [
        "\n",
        "\t warning (SCAN #-2 not found amongst the 06_FLASH2D.6sl-DCE) \"dce-48ha\" for NecS1Hs05"
       ]
      },
      {
       "output_type": "stream",
       "stream": "stdout",
       "text": [
        "\n",
        "\t warning (SCAN #-1 not found amongst the 06_FLASH2D.6sl-DCE) \"dce-48hb\" for NecS1Hs05\n",
        "\t warning (SCAN #1 not found amongst the 05_IR-RARE-anatomy) \"IR-48h+\" for NecS1Hs05\n",
        "NecS1Hs06\n",
        "NecS1Hs08"
       ]
      },
      {
       "output_type": "stream",
       "stream": "stdout",
       "text": [
        "\n",
        "ignoring NecS1Hs04 NecS1Hs01 NecS1Hs07"
       ]
      },
      {
       "output_type": "stream",
       "stream": "stdout",
       "text": [
        "\n",
        "No rois were found, bboxes are likely incorrect. Proceed with caution!"
       ]
      },
      {
       "output_type": "stream",
       "stream": "stdout",
       "text": [
        "\n",
        "wrote master_list to /Users/fmoosvi/sdata/NecS1/NecS1.json\n"
       ]
      }
     ],
     "prompt_number": 2
    },
    {
     "cell_type": "code",
     "collapsed": false,
     "input": [
      "fFlag = True\n",
      "\n",
      "sarpy.io.generate_rois.generate_rois(masterlist,'export', forceVal = fFlag)\n",
      "\n",
      "try:\n",
      "    sarpy.io.generate_rois.generate_rois(masterlist,'import', forceVal = fFlag)\n",
      "    sarpy.io.masterlist.generate(conf_file=config_file) # update bboxes\n",
      "except IOError:\n",
      "    pass"
     ],
     "language": "python",
     "metadata": {},
     "outputs": [
      {
       "output_type": "stream",
       "stream": "stdout",
       "text": [
        "Nifti images were processed in /Users/fmoosvi/sdata/NecS1/rois\n",
        "h_generate_roi: saved NecS1Hs02.hj1/7 roi label"
       ]
      },
      {
       "output_type": "stream",
       "stream": "stdout",
       "text": [
        "\n",
        "h_generate_roi: saved NecS1Hs02.hk1/7 roi label"
       ]
      },
      {
       "output_type": "stream",
       "stream": "stdout",
       "text": [
        "\n",
        "h_generate_roi: saved NecS1Hs02.hi1/7 roi label"
       ]
      },
      {
       "output_type": "stream",
       "stream": "stdout",
       "text": [
        "\n",
        "h_generate_roi: saved NecS1Hs03.hj1/8 roi label"
       ]
      },
      {
       "output_type": "stream",
       "stream": "stdout",
       "text": [
        "\n",
        "h_generate_roi: saved NecS1Hs03.hk1/7 roi label"
       ]
      },
      {
       "output_type": "stream",
       "stream": "stdout",
       "text": [
        "\n",
        "h_generate_roi: saved NecS1Hs03.hi1/7 roi label"
       ]
      },
      {
       "output_type": "stream",
       "stream": "stdout",
       "text": [
        "\n",
        "h_generate_roi: saved NecS1Hs05.hj1/9 roi label"
       ]
      },
      {
       "output_type": "stream",
       "stream": "stdout",
       "text": [
        "\n",
        "h_generate_roi: saved NecS1Hs05.hk1/7 roi label"
       ]
      },
      {
       "output_type": "stream",
       "stream": "stdout",
       "text": [
        "\n",
        "h_generate_roi: saved NecS1Hs05.hi1/7 roi label"
       ]
      },
      {
       "output_type": "stream",
       "stream": "stdout",
       "text": [
        "\n",
        "h_generate_roi: saved NecS1Hs06.hj1/7 roi label"
       ]
      },
      {
       "output_type": "stream",
       "stream": "stdout",
       "text": [
        "\n",
        "h_generate_roi: saved NecS1Hs06.hk1/10 roi label"
       ]
      },
      {
       "output_type": "stream",
       "stream": "stdout",
       "text": [
        "\n",
        "h_generate_roi: saved NecS1Hs06.hi1/7 roi label"
       ]
      },
      {
       "output_type": "stream",
       "stream": "stdout",
       "text": [
        "\n",
        "h_generate_roi: saved NecS1Hs08.hj1/5 roi label"
       ]
      },
      {
       "output_type": "stream",
       "stream": "stdout",
       "text": [
        "\n",
        "h_generate_roi: saved NecS1Hs08.hk1/8 roi label"
       ]
      },
      {
       "output_type": "stream",
       "stream": "stdout",
       "text": [
        "\n",
        "h_generate_roi: saved NecS1Hs08.hi1/7 roi label"
       ]
      },
      {
       "output_type": "stream",
       "stream": "stdout",
       "text": [
        "\n",
        "Nifti images were processed in /Users/fmoosvi/sdata/NecS1/rois\n",
        "loading config file NecS1/NecS1.config\n",
        "NecS1Hs02\n",
        "NecS1Hs03"
       ]
      },
      {
       "output_type": "stream",
       "stream": "stdout",
       "text": [
        "\n",
        "\t warning (SCAN #1 not found amongst the 05_IR-RARE-anatomy) \"IR-0h+\" for NecS1Hs03"
       ]
      },
      {
       "output_type": "stream",
       "stream": "stdout",
       "text": [
        "\n",
        "NecS1Hs05"
       ]
      },
      {
       "output_type": "stream",
       "stream": "stdout",
       "text": [
        "\n",
        "\t warning (SCAN #-2 not found amongst the 06_FLASH2D.6sl-DCE) \"dce-48ha\" for NecS1Hs05"
       ]
      },
      {
       "output_type": "stream",
       "stream": "stdout",
       "text": [
        "\n",
        "\t warning (SCAN #-1 not found amongst the 06_FLASH2D.6sl-DCE) \"dce-48hb\" for NecS1Hs05\n",
        "\t warning (SCAN #1 not found amongst the 05_IR-RARE-anatomy) \"IR-48h+\" for NecS1Hs05\n",
        "NecS1Hs06\n",
        "NecS1Hs08"
       ]
      },
      {
       "output_type": "stream",
       "stream": "stdout",
       "text": [
        "\n",
        "ignoring NecS1Hs04 NecS1Hs01 NecS1Hs07"
       ]
      },
      {
       "output_type": "stream",
       "stream": "stdout",
       "text": [
        "\n",
        "wrote master_list to /Users/fmoosvi/sdata/NecS1/NecS1.json"
       ]
      },
      {
       "output_type": "stream",
       "stream": "stdout",
       "text": [
        "\n"
       ]
      }
     ],
     "prompt_number": 3
    },
    {
     "cell_type": "code",
     "collapsed": false,
     "input": [
      "analyses = collections.OrderedDict()\n",
      "fFlag = True\n",
      "\n",
      "## AUC 60\n",
      "analyses['auc']={'scan_label':'dce-[0-9]*ha',\n",
      "                 'adata_save_label':'auc60',\n",
      "                 'force_overwrite':fFlag}\n",
      "\n",
      "## VTC\n",
      "analyses['vtc']={'scan_label':'dce-[0-9]*ha',\n",
      "                 'adata_save_label':'vtc',\n",
      "                 'force_overwrite':fFlag}\n",
      "\n",
      "\n",
      "## T1 Map\n",
      "analyses['T1_LL']={'scan_label':'LL.*',\n",
      "                   'adata_save_label':'T1_LL',\n",
      "                   'force_overwrite':fFlag}\n",
      "\n",
      "for atype in analyses:\n",
      "           \n",
      "    if atype == 'auc':\n",
      "            \n",
      "        def myfunc(dict_of_params):\n",
      "            import sarpy.fmoosvi.analysis            \n",
      "            reload(sarpy.fmoosvi.analysis)\n",
      "            return sarpy.fmoosvi.analysis.h_calculate_AUC(**dict_of_params)\n",
      "\n",
      "    if atype == 'T1_LL':\n",
      "\n",
      "        def myfunc(dict_of_params):\n",
      "        \n",
      "            import sarpy.fmoosvi.analysis\n",
      "            import sarpy.fmoosvi.getters\n",
      "            reload(sarpy.fmoosvi.analysis)\n",
      "            reload(sarpy.fmoosvi.getters)\n",
      "            return sarpy.fmoosvi.analysis.h_fit_T1_LL_FAind(**dict_of_params)\n",
      "\n",
      "    an = sarpy.io.bulk_analyze.ParallelBulkAnalyzerFactory.from_function(\n",
      "                        myfunc,\n",
      "                        ipython_profile='sarlab',\n",
      "                        masterlist_fname=masterlist,\n",
      "                        **analyses[atype])\n",
      "\n",
      "            \n",
      "    an.process()"
     ],
     "language": "python",
     "metadata": {},
     "outputs": [
      {
       "output_type": "stream",
       "stream": "stdout",
       "text": [
        "###########\n",
        "Currently, there are 16 clients running\n",
        "importing os on engine(s)\n",
        "importing sys on engine(s)\n",
        "importing sarpy on engine(s)"
       ]
      },
      {
       "output_type": "stream",
       "stream": "stdout",
       "text": [
        "\n",
        "importing sarpy.fmoosvi.analysis on engine(s)\n",
        "###########"
       ]
      },
      {
       "output_type": "stream",
       "stream": "stdout",
       "text": [
        "\n",
        "adata auc60 deleted in NecS1Hs02"
       ]
      },
      {
       "output_type": "stream",
       "stream": "stdout",
       "text": [
        "\n",
        "auc60 overwritten in NecS1Hs02.hj1/8, job id ...a189b done on E 8 "
       ]
      },
      {
       "output_type": "stream",
       "stream": "stdout",
       "text": [
        "\n",
        "adata auc60 deleted in NecS1Hs02"
       ]
      },
      {
       "output_type": "stream",
       "stream": "stdout",
       "text": [
        "\n",
        "auc60 overwritten in NecS1Hs02.hi1/8, job id ...b4ded done on E 1 "
       ]
      },
      {
       "output_type": "stream",
       "stream": "stdout",
       "text": [
        "\n",
        "adata auc60 deleted in NecS1Hs06"
       ]
      },
      {
       "output_type": "stream",
       "stream": "stdout",
       "text": [
        "\n",
        "auc60 overwritten in NecS1Hs06.hj1/8, job id ...ff439 done on E 12 "
       ]
      },
      {
       "output_type": "stream",
       "stream": "stdout",
       "text": [
        "\n",
        "adata auc60 deleted in NecS1Hs08"
       ]
      },
      {
       "output_type": "stream",
       "stream": "stdout",
       "text": [
        "\n",
        "auc60 overwritten in NecS1Hs08.hi1/8, job id ...fad2e done on E 11 "
       ]
      },
      {
       "output_type": "stream",
       "stream": "stdout",
       "text": [
        "\n",
        "adata auc60 deleted in NecS1Hs06"
       ]
      },
      {
       "output_type": "stream",
       "stream": "stdout",
       "text": [
        "\n",
        "auc60 overwritten in NecS1Hs06.hi1/8, job id ...9159d done on E 13 "
       ]
      },
      {
       "output_type": "stream",
       "stream": "stdout",
       "text": [
        "\n",
        "adata auc60 deleted in NecS1Hs02"
       ]
      },
      {
       "output_type": "stream",
       "stream": "stdout",
       "text": [
        "\n",
        "auc60 overwritten in NecS1Hs02.hk1/8, job id ...5061c done on E 9 "
       ]
      },
      {
       "output_type": "stream",
       "stream": "stdout",
       "text": [
        "\n",
        "adata auc60 deleted in NecS1Hs06"
       ]
      },
      {
       "output_type": "stream",
       "stream": "stdout",
       "text": [
        "\n",
        "auc60 overwritten in NecS1Hs06.hk1/11, job id ...997a5 done on E 0 "
       ]
      },
      {
       "output_type": "stream",
       "stream": "stdout",
       "text": [
        "\n",
        "adata auc60 deleted in NecS1Hs05"
       ]
      },
      {
       "output_type": "stream",
       "stream": "stdout",
       "text": [
        "\n",
        "auc60 overwritten in NecS1Hs05.hi1/8, job id ...dc65c done on E 6 "
       ]
      },
      {
       "output_type": "stream",
       "stream": "stdout",
       "text": [
        "\n",
        "adata auc60 deleted in NecS1Hs05"
       ]
      },
      {
       "output_type": "stream",
       "stream": "stdout",
       "text": [
        "\n",
        "auc60 overwritten in NecS1Hs05.hj1/10, job id ...27e2c done on E 10 "
       ]
      },
      {
       "output_type": "stream",
       "stream": "stdout",
       "text": [
        "\n",
        "adata auc60 deleted in NecS1Hs03"
       ]
      },
      {
       "output_type": "stream",
       "stream": "stdout",
       "text": [
        "\n",
        "auc60 overwritten in NecS1Hs03.hi1/8, job id ...da650 done on E 4 "
       ]
      },
      {
       "output_type": "stream",
       "stream": "stdout",
       "text": [
        "\n",
        "adata auc60 deleted in NecS1Hs08"
       ]
      },
      {
       "output_type": "stream",
       "stream": "stdout",
       "text": [
        "\n",
        "auc60 overwritten in NecS1Hs08.hj1/6, job id ...addc9 done on E 3 "
       ]
      },
      {
       "output_type": "stream",
       "stream": "stdout",
       "text": [
        "\n",
        "adata auc60 deleted in NecS1Hs08"
       ]
      },
      {
       "output_type": "stream",
       "stream": "stdout",
       "text": [
        "\n",
        "auc60 overwritten in NecS1Hs08.hk1/9, job id ...5ee2a done on E 7 "
       ]
      },
      {
       "output_type": "stream",
       "stream": "stdout",
       "text": [
        "\n",
        "adata auc60 deleted in NecS1Hs03"
       ]
      },
      {
       "output_type": "stream",
       "stream": "stdout",
       "text": [
        "\n",
        "auc60 overwritten in NecS1Hs03.hj1/9, job id ...70967 done on E 2 "
       ]
      },
      {
       "output_type": "stream",
       "stream": "stdout",
       "text": [
        "\n",
        "adata auc60 deleted in NecS1Hs03"
       ]
      },
      {
       "output_type": "stream",
       "stream": "stdout",
       "text": [
        "\n",
        "auc60 overwritten in NecS1Hs03.hk1/8, job id ...6825f done on E 5 "
       ]
      },
      {
       "output_type": "stream",
       "stream": "stdout",
       "text": [
        "\n",
        "###### Parallelized Code: 11.8758289814 s \n",
        "\n",
        "###########\n",
        "Currently, there are 16 clients running\n",
        "importing os on engine(s)"
       ]
      },
      {
       "output_type": "stream",
       "stream": "stdout",
       "text": [
        "\n",
        "importing sys on engine(s)\n",
        "importing sarpy on engine(s)\n",
        "importing sarpy.fmoosvi.analysis on engine(s)"
       ]
      },
      {
       "output_type": "stream",
       "stream": "stdout",
       "text": [
        "\n",
        "###########"
       ]
      },
      {
       "output_type": "stream",
       "stream": "stdout",
       "text": [
        "\n",
        "adata vtc deleted in NecS1Hs05"
       ]
      },
      {
       "output_type": "stream",
       "stream": "stdout",
       "text": [
        "\n",
        "vtc overwritten in NecS1Hs05.hi1/8, job id ...ead69 done on E 5 "
       ]
      },
      {
       "output_type": "stream",
       "stream": "stdout",
       "text": [
        "\n",
        "adata vtc deleted in NecS1Hs03\n",
        "vtc overwritten in NecS1Hs03.hj1/9, job id ...71dd3 done on E 4 "
       ]
      },
      {
       "output_type": "stream",
       "stream": "stdout",
       "text": [
        "\n",
        "adata vtc deleted in NecS1Hs02\n",
        "vtc overwritten in NecS1Hs02.hj1/8, job id ...9a201 done on E 1 "
       ]
      },
      {
       "output_type": "stream",
       "stream": "stdout",
       "text": [
        "\n",
        "adata vtc deleted in NecS1Hs08"
       ]
      },
      {
       "output_type": "stream",
       "stream": "stdout",
       "text": [
        "\n",
        "vtc overwritten in NecS1Hs08.hi1/8, job id ...72f58 done on E 0 "
       ]
      },
      {
       "output_type": "stream",
       "stream": "stdout",
       "text": [
        "\n",
        "adata vtc deleted in NecS1Hs06\n",
        "vtc overwritten in NecS1Hs06.hi1/8, job id ...e36db done on E 6 "
       ]
      },
      {
       "output_type": "stream",
       "stream": "stdout",
       "text": [
        "\n",
        "adata vtc deleted in NecS1Hs05\n",
        "vtc overwritten in NecS1Hs05.hj1/10, job id ...d3deb done on E 2 "
       ]
      },
      {
       "output_type": "stream",
       "stream": "stdout",
       "text": [
        "\n",
        "adata vtc deleted in NecS1Hs08\n",
        "vtc overwritten in NecS1Hs08.hk1/9, job id ...27635 done on E 12 "
       ]
      },
      {
       "output_type": "stream",
       "stream": "stdout",
       "text": [
        "\n",
        "adata vtc deleted in NecS1Hs06\n",
        "vtc overwritten in NecS1Hs06.hj1/8, job id ...9e0ed done on E 13 "
       ]
      },
      {
       "output_type": "stream",
       "stream": "stdout",
       "text": [
        "\n",
        "adata vtc deleted in NecS1Hs02\n",
        "vtc overwritten in NecS1Hs02.hi1/8, job id ...9537b done on E 15 "
       ]
      },
      {
       "output_type": "stream",
       "stream": "stdout",
       "text": [
        "\n",
        "adata vtc deleted in NecS1Hs06\n",
        "vtc overwritten in NecS1Hs06.hk1/11, job id ...d3c00 done on E 10 "
       ]
      },
      {
       "output_type": "stream",
       "stream": "stdout",
       "text": [
        "\n",
        "adata vtc deleted in NecS1Hs08\n",
        "vtc overwritten in NecS1Hs08.hj1/6, job id ...90c43 done on E 11 "
       ]
      },
      {
       "output_type": "stream",
       "stream": "stdout",
       "text": [
        "\n",
        "adata vtc deleted in NecS1Hs03\n",
        "vtc overwritten in NecS1Hs03.hi1/8, job id ...29f3c done on E 9 "
       ]
      },
      {
       "output_type": "stream",
       "stream": "stdout",
       "text": [
        "\n",
        "adata vtc deleted in NecS1Hs02\n",
        "vtc overwritten in NecS1Hs02.hk1/8, job id ...7e5ed done on E 14 "
       ]
      },
      {
       "output_type": "stream",
       "stream": "stdout",
       "text": [
        "\n",
        "adata vtc deleted in NecS1Hs03\n",
        "vtc overwritten in NecS1Hs03.hk1/8, job id ...304e9 done on E 8 "
       ]
      },
      {
       "output_type": "stream",
       "stream": "stdout",
       "text": [
        "\n",
        "###### Parallelized Code: 7.1704890728 s \n",
        "\n",
        "###########\n",
        "Currently, there are 16 clients running\n",
        "importing os on engine(s)"
       ]
      },
      {
       "output_type": "stream",
       "stream": "stdout",
       "text": [
        "\n",
        "importing sys on engine(s)\n",
        "importing sarpy on engine(s)\n",
        "importing sarpy.fmoosvi.analysis on engine(s)"
       ]
      },
      {
       "output_type": "stream",
       "stream": "stdout",
       "text": [
        "\n",
        "###########"
       ]
      },
      {
       "output_type": "stream",
       "stream": "stdout",
       "text": [
        "\n",
        "adata T1_LL deleted in NecS1Hs03"
       ]
      },
      {
       "output_type": "stream",
       "stream": "stdout",
       "text": [
        "\n",
        "T1_LL overwritten in NecS1Hs03.hj1/7, job id ...29fc7 done on E 9 "
       ]
      },
      {
       "output_type": "stream",
       "stream": "stdout",
       "text": [
        "\n",
        "adata T1_LL_fit deleted in NecS1Hs03\n",
        "T1_LL overwritten in NecS1Hs03.hj1/7, job id ...29fc7 done on E 9 "
       ]
      },
      {
       "output_type": "stream",
       "stream": "stdout",
       "text": [
        "\n",
        "adata T1_LL deleted in NecS1Hs02"
       ]
      },
      {
       "output_type": "stream",
       "stream": "stdout",
       "text": [
        "\n",
        "T1_LL overwritten in NecS1Hs02.hj1/6, job id ...3a9a7 done on E 15 "
       ]
      },
      {
       "output_type": "stream",
       "stream": "stdout",
       "text": [
        "\n",
        "adata T1_LL_fit deleted in NecS1Hs02\n",
        "T1_LL overwritten in NecS1Hs02.hj1/6, job id ...3a9a7 done on E 15 "
       ]
      },
      {
       "output_type": "stream",
       "stream": "stdout",
       "text": [
        "\n",
        "adata T1_LL deleted in NecS1Hs08"
       ]
      },
      {
       "output_type": "stream",
       "stream": "stdout",
       "text": [
        "\n",
        "T1_LL overwritten in NecS1Hs08.hi1/6, job id ...13fbd done on E 13 "
       ]
      },
      {
       "output_type": "stream",
       "stream": "stdout",
       "text": [
        "\n",
        "adata T1_LL_fit deleted in NecS1Hs08\n",
        "T1_LL overwritten in NecS1Hs08.hi1/6, job id ...13fbd done on E 13 "
       ]
      },
      {
       "output_type": "stream",
       "stream": "stdout",
       "text": [
        "\n",
        "adata T1_LL deleted in NecS1Hs05"
       ]
      },
      {
       "output_type": "stream",
       "stream": "stdout",
       "text": [
        "\n",
        "T1_LL overwritten in NecS1Hs05.hi1/6, job id ...03692 done on E 8 "
       ]
      },
      {
       "output_type": "stream",
       "stream": "stdout",
       "text": [
        "\n",
        "adata T1_LL_fit deleted in NecS1Hs05\n",
        "T1_LL overwritten in NecS1Hs05.hi1/6, job id ...03692 done on E 8 "
       ]
      },
      {
       "output_type": "stream",
       "stream": "stdout",
       "text": [
        "\n",
        "adata T1_LL deleted in NecS1Hs02"
       ]
      },
      {
       "output_type": "stream",
       "stream": "stdout",
       "text": [
        "\n",
        "T1_LL overwritten in NecS1Hs02.hk1/6, job id ...f29ca done on E 3 "
       ]
      },
      {
       "output_type": "stream",
       "stream": "stdout",
       "text": [
        "\n",
        "adata T1_LL_fit deleted in NecS1Hs02\n",
        "T1_LL overwritten in NecS1Hs02.hk1/6, job id ...f29ca done on E 3 "
       ]
      },
      {
       "output_type": "stream",
       "stream": "stdout",
       "text": [
        "\n",
        "adata T1_LL deleted in NecS1Hs06"
       ]
      },
      {
       "output_type": "stream",
       "stream": "stdout",
       "text": [
        "\n",
        "T1_LL overwritten in NecS1Hs06.hj1/6, job id ...3757d done on E 10 "
       ]
      },
      {
       "output_type": "stream",
       "stream": "stdout",
       "text": [
        "\n",
        "adata T1_LL_fit deleted in NecS1Hs06\n",
        "T1_LL overwritten in NecS1Hs06.hj1/6, job id ...3757d done on E 10 "
       ]
      },
      {
       "output_type": "stream",
       "stream": "stdout",
       "text": [
        "\n",
        "adata T1_LL deleted in NecS1Hs06"
       ]
      },
      {
       "output_type": "stream",
       "stream": "stdout",
       "text": [
        "\n",
        "T1_LL overwritten in NecS1Hs06.hi1/6, job id ...763e7 done on E 2 "
       ]
      },
      {
       "output_type": "stream",
       "stream": "stdout",
       "text": [
        "\n",
        "adata T1_LL_fit deleted in NecS1Hs06\n",
        "T1_LL overwritten in NecS1Hs06.hi1/6, job id ...763e7 done on E 2 "
       ]
      },
      {
       "output_type": "stream",
       "stream": "stdout",
       "text": [
        "\n",
        "adata T1_LL deleted in NecS1Hs02"
       ]
      },
      {
       "output_type": "stream",
       "stream": "stdout",
       "text": [
        "\n",
        "T1_LL overwritten in NecS1Hs02.hi1/6, job id ...647a2 done on E 7 "
       ]
      },
      {
       "output_type": "stream",
       "stream": "stdout",
       "text": [
        "\n",
        "adata T1_LL_fit deleted in NecS1Hs02\n",
        "T1_LL overwritten in NecS1Hs02.hi1/6, job id ...647a2 done on E 7 "
       ]
      },
      {
       "output_type": "stream",
       "stream": "stdout",
       "text": [
        "\n",
        "adata T1_LL deleted in NecS1Hs03"
       ]
      },
      {
       "output_type": "stream",
       "stream": "stdout",
       "text": [
        "\n",
        "T1_LL overwritten in NecS1Hs03.hi1/6, job id ...ff544 done on E 14 "
       ]
      },
      {
       "output_type": "stream",
       "stream": "stdout",
       "text": [
        "\n",
        "adata T1_LL_fit deleted in NecS1Hs03\n",
        "T1_LL overwritten in NecS1Hs03.hi1/6, job id ...ff544 done on E 14 "
       ]
      },
      {
       "output_type": "stream",
       "stream": "stdout",
       "text": [
        "\n",
        "adata T1_LL deleted in NecS1Hs03"
       ]
      },
      {
       "output_type": "stream",
       "stream": "stdout",
       "text": [
        "\n",
        "T1_LL overwritten in NecS1Hs03.hk1/6, job id ...1f2e0 done on E 1 "
       ]
      },
      {
       "output_type": "stream",
       "stream": "stdout",
       "text": [
        "\n",
        "adata T1_LL_fit deleted in NecS1Hs03\n",
        "T1_LL overwritten in NecS1Hs03.hk1/6, job id ...1f2e0 done on E 1 "
       ]
      },
      {
       "output_type": "stream",
       "stream": "stdout",
       "text": [
        "\n",
        "adata T1_LL deleted in NecS1Hs08"
       ]
      },
      {
       "output_type": "stream",
       "stream": "stdout",
       "text": [
        "\n",
        "T1_LL overwritten in NecS1Hs08.hj1/4, job id ...4ae58 done on E 12 "
       ]
      },
      {
       "output_type": "stream",
       "stream": "stdout",
       "text": [
        "\n",
        "adata T1_LL_fit deleted in NecS1Hs08\n",
        "T1_LL overwritten in NecS1Hs08.hj1/4, job id ...4ae58 done on E 12 "
       ]
      },
      {
       "output_type": "stream",
       "stream": "stdout",
       "text": [
        "\n",
        "adata T1_LL deleted in NecS1Hs08"
       ]
      },
      {
       "output_type": "stream",
       "stream": "stdout",
       "text": [
        "\n",
        "T1_LL overwritten in NecS1Hs08.hk1/7, job id ...a31ec done on E 0 "
       ]
      },
      {
       "output_type": "stream",
       "stream": "stdout",
       "text": [
        "\n",
        "adata T1_LL_fit deleted in NecS1Hs08\n",
        "T1_LL overwritten in NecS1Hs08.hk1/7, job id ...a31ec done on E 0 "
       ]
      },
      {
       "output_type": "stream",
       "stream": "stdout",
       "text": [
        "\n",
        "adata T1_LL deleted in NecS1Hs05"
       ]
      },
      {
       "output_type": "stream",
       "stream": "stdout",
       "text": [
        "\n",
        "T1_LL overwritten in NecS1Hs05.hk1/6, job id ...6a6d7 done on E 4 "
       ]
      },
      {
       "output_type": "stream",
       "stream": "stdout",
       "text": [
        "\n",
        "adata T1_LL_fit deleted in NecS1Hs05\n",
        "T1_LL overwritten in NecS1Hs05.hk1/6, job id ...6a6d7 done on E 4 "
       ]
      },
      {
       "output_type": "stream",
       "stream": "stdout",
       "text": [
        "\n",
        "adata T1_LL deleted in NecS1Hs05"
       ]
      },
      {
       "output_type": "stream",
       "stream": "stdout",
       "text": [
        "\n",
        "T1_LL overwritten in NecS1Hs05.hj1/8, job id ...87e54 done on E 5 "
       ]
      },
      {
       "output_type": "stream",
       "stream": "stdout",
       "text": [
        "\n",
        "adata T1_LL_fit deleted in NecS1Hs05\n",
        "T1_LL overwritten in NecS1Hs05.hj1/8, job id ...87e54 done on E 5 "
       ]
      },
      {
       "output_type": "stream",
       "stream": "stdout",
       "text": [
        "\n",
        "adata T1_LL deleted in NecS1Hs06"
       ]
      },
      {
       "output_type": "stream",
       "stream": "stdout",
       "text": [
        "\n",
        "T1_LL overwritten in NecS1Hs06.hk1/9, job id ...de06c done on E 6 "
       ]
      },
      {
       "output_type": "stream",
       "stream": "stdout",
       "text": [
        "\n",
        "adata T1_LL_fit deleted in NecS1Hs06\n",
        "T1_LL overwritten in NecS1Hs06.hk1/9, job id ...de06c done on E 6 "
       ]
      },
      {
       "output_type": "stream",
       "stream": "stdout",
       "text": [
        "\n",
        "###### Parallelized Code: 498.928048849 s \n",
        "\n"
       ]
      }
     ],
     "prompt_number": 8
    },
    {
     "cell_type": "markdown",
     "metadata": {},
     "source": [
      "### Transferring ROIs"
     ]
    },
    {
     "cell_type": "code",
     "collapsed": true,
     "input": [
      "\n",
      "fFlag = True\n",
      "\n",
      "label = [] \n",
      "label.append('T1_LL')\n",
      "label.append('auc60')\n",
      "\n",
      "for l in label:\n",
      "    sarpy.fmoosvi.wrappers.bulk_transfer_roi(masterlist,l, forceVal = fFlag)"
     ],
     "language": "python",
     "metadata": {},
     "outputs": [
      {
       "output_type": "stream",
       "stream": "stdout",
       "text": [
        "adata T1_LL_roi deleted in NecS1Hs02\n",
        "\t Saved T1_LL_roi in NecS1Hs02.hj1/6"
       ]
      },
      {
       "output_type": "stream",
       "stream": "stdout",
       "text": [
        "\n",
        "adata T1_LL_roi deleted in NecS1Hs03"
       ]
      },
      {
       "output_type": "stream",
       "stream": "stdout",
       "text": [
        "\n",
        "\t Saved T1_LL_roi in NecS1Hs03.hj1/7"
       ]
      },
      {
       "output_type": "stream",
       "stream": "stdout",
       "text": [
        "\n",
        "adata T1_LL_roi deleted in NecS1Hs05"
       ]
      },
      {
       "output_type": "stream",
       "stream": "stdout",
       "text": [
        "\n",
        "\t Saved T1_LL_roi in NecS1Hs05.hj1/8"
       ]
      },
      {
       "output_type": "stream",
       "stream": "stdout",
       "text": [
        "\n",
        "adata T1_LL_roi deleted in NecS1Hs06"
       ]
      },
      {
       "output_type": "stream",
       "stream": "stdout",
       "text": [
        "\n",
        "\t Saved T1_LL_roi in NecS1Hs06.hj1/6"
       ]
      },
      {
       "output_type": "stream",
       "stream": "stdout",
       "text": [
        "\n",
        "adata T1_LL_roi deleted in NecS1Hs08"
       ]
      },
      {
       "output_type": "stream",
       "stream": "stdout",
       "text": [
        "\n",
        "\t Saved T1_LL_roi in NecS1Hs08.hj1/4"
       ]
      },
      {
       "output_type": "stream",
       "stream": "stdout",
       "text": [
        "\n",
        "adata T1_LL_roi deleted in NecS1Hs02"
       ]
      },
      {
       "output_type": "stream",
       "stream": "stdout",
       "text": [
        "\n",
        "\t Saved T1_LL_roi in NecS1Hs02.hk1/6"
       ]
      },
      {
       "output_type": "stream",
       "stream": "stdout",
       "text": [
        "\n",
        "adata T1_LL_roi deleted in NecS1Hs03"
       ]
      },
      {
       "output_type": "stream",
       "stream": "stdout",
       "text": [
        "\n",
        "\t Saved T1_LL_roi in NecS1Hs03.hk1/6"
       ]
      },
      {
       "output_type": "stream",
       "stream": "stdout",
       "text": [
        "\n",
        "adata T1_LL_roi deleted in NecS1Hs05"
       ]
      },
      {
       "output_type": "stream",
       "stream": "stdout",
       "text": [
        "\n",
        "\t Saved T1_LL_roi in NecS1Hs05.hk1/6"
       ]
      },
      {
       "output_type": "stream",
       "stream": "stdout",
       "text": [
        "\n",
        "adata T1_LL_roi deleted in NecS1Hs06"
       ]
      },
      {
       "output_type": "stream",
       "stream": "stdout",
       "text": [
        "\n",
        "\t Saved T1_LL_roi in NecS1Hs06.hk1/9"
       ]
      },
      {
       "output_type": "stream",
       "stream": "stdout",
       "text": [
        "\n",
        "adata T1_LL_roi deleted in NecS1Hs08"
       ]
      },
      {
       "output_type": "stream",
       "stream": "stdout",
       "text": [
        "\n",
        "\t Saved T1_LL_roi in NecS1Hs08.hk1/7"
       ]
      },
      {
       "output_type": "stream",
       "stream": "stdout",
       "text": [
        "\n",
        "adata T1_LL_roi deleted in NecS1Hs02"
       ]
      },
      {
       "output_type": "stream",
       "stream": "stdout",
       "text": [
        "\n",
        "\t Saved T1_LL_roi in NecS1Hs02.hi1/6"
       ]
      },
      {
       "output_type": "stream",
       "stream": "stdout",
       "text": [
        "\n",
        "adata T1_LL_roi deleted in NecS1Hs03"
       ]
      },
      {
       "output_type": "stream",
       "stream": "stdout",
       "text": [
        "\n",
        "\t Saved T1_LL_roi in NecS1Hs03.hi1/6"
       ]
      },
      {
       "output_type": "stream",
       "stream": "stdout",
       "text": [
        "\n",
        "adata T1_LL_roi deleted in NecS1Hs05"
       ]
      },
      {
       "output_type": "stream",
       "stream": "stdout",
       "text": [
        "\n",
        "\t Saved T1_LL_roi in NecS1Hs05.hi1/6"
       ]
      },
      {
       "output_type": "stream",
       "stream": "stdout",
       "text": [
        "\n",
        "adata T1_LL_roi deleted in NecS1Hs06"
       ]
      },
      {
       "output_type": "stream",
       "stream": "stdout",
       "text": [
        "\n",
        "\t Saved T1_LL_roi in NecS1Hs06.hi1/6"
       ]
      },
      {
       "output_type": "stream",
       "stream": "stdout",
       "text": [
        "\n",
        "adata T1_LL_roi deleted in NecS1Hs08"
       ]
      },
      {
       "output_type": "stream",
       "stream": "stdout",
       "text": [
        "\n",
        "\t Saved T1_LL_roi in NecS1Hs08.hi1/6"
       ]
      },
      {
       "output_type": "stream",
       "stream": "stdout",
       "text": [
        "\n",
        "adata auc60_roi deleted in NecS1Hs02"
       ]
      },
      {
       "output_type": "stream",
       "stream": "stdout",
       "text": [
        "\n",
        "\t Saved auc60_roi in NecS1Hs02.hj1/8"
       ]
      },
      {
       "output_type": "stream",
       "stream": "stdout",
       "text": [
        "\n",
        "adata auc60_roi deleted in NecS1Hs03"
       ]
      },
      {
       "output_type": "stream",
       "stream": "stdout",
       "text": [
        "\n",
        "\t Saved auc60_roi in NecS1Hs03.hj1/9"
       ]
      },
      {
       "output_type": "stream",
       "stream": "stdout",
       "text": [
        "\n",
        "adata auc60_roi deleted in NecS1Hs05"
       ]
      },
      {
       "output_type": "stream",
       "stream": "stdout",
       "text": [
        "\n",
        "\t Saved auc60_roi in NecS1Hs05.hj1/10"
       ]
      },
      {
       "output_type": "stream",
       "stream": "stdout",
       "text": [
        "\n",
        "adata auc60_roi deleted in NecS1Hs06"
       ]
      },
      {
       "output_type": "stream",
       "stream": "stdout",
       "text": [
        "\n",
        "\t Saved auc60_roi in NecS1Hs06.hj1/8"
       ]
      },
      {
       "output_type": "stream",
       "stream": "stdout",
       "text": [
        "\n",
        "adata auc60_roi deleted in NecS1Hs08"
       ]
      },
      {
       "output_type": "stream",
       "stream": "stdout",
       "text": [
        "\n",
        "\t Saved auc60_roi in NecS1Hs08.hj1/6"
       ]
      },
      {
       "output_type": "stream",
       "stream": "stdout",
       "text": [
        "\n",
        "adata auc60_roi deleted in NecS1Hs02"
       ]
      },
      {
       "output_type": "stream",
       "stream": "stdout",
       "text": [
        "\n",
        "\t Saved auc60_roi in NecS1Hs02.hk1/8"
       ]
      },
      {
       "output_type": "stream",
       "stream": "stdout",
       "text": [
        "\n",
        "adata auc60_roi deleted in NecS1Hs03"
       ]
      },
      {
       "output_type": "stream",
       "stream": "stdout",
       "text": [
        "\n",
        "\t Saved auc60_roi in NecS1Hs03.hk1/8"
       ]
      },
      {
       "output_type": "stream",
       "stream": "stdout",
       "text": [
        "\n",
        "adata auc60_roi deleted in NecS1Hs06"
       ]
      },
      {
       "output_type": "stream",
       "stream": "stdout",
       "text": [
        "\n",
        "\t Saved auc60_roi in NecS1Hs06.hk1/11"
       ]
      },
      {
       "output_type": "stream",
       "stream": "stdout",
       "text": [
        "\n",
        "adata auc60_roi deleted in NecS1Hs08"
       ]
      },
      {
       "output_type": "stream",
       "stream": "stdout",
       "text": [
        "\n",
        "\t Saved auc60_roi in NecS1Hs08.hk1/9"
       ]
      },
      {
       "output_type": "stream",
       "stream": "stdout",
       "text": [
        "\n",
        "adata auc60_roi deleted in NecS1Hs02"
       ]
      },
      {
       "output_type": "stream",
       "stream": "stdout",
       "text": [
        "\n",
        "\t Saved auc60_roi in NecS1Hs02.hi1/8"
       ]
      },
      {
       "output_type": "stream",
       "stream": "stdout",
       "text": [
        "\n",
        "adata auc60_roi deleted in NecS1Hs03"
       ]
      },
      {
       "output_type": "stream",
       "stream": "stdout",
       "text": [
        "\n",
        "\t Saved auc60_roi in NecS1Hs03.hi1/8"
       ]
      },
      {
       "output_type": "stream",
       "stream": "stdout",
       "text": [
        "\n",
        "adata auc60_roi deleted in NecS1Hs05"
       ]
      },
      {
       "output_type": "stream",
       "stream": "stdout",
       "text": [
        "\n",
        "\t Saved auc60_roi in NecS1Hs05.hi1/8"
       ]
      },
      {
       "output_type": "stream",
       "stream": "stdout",
       "text": [
        "\n",
        "adata auc60_roi deleted in NecS1Hs06"
       ]
      },
      {
       "output_type": "stream",
       "stream": "stdout",
       "text": [
        "\n",
        "\t Saved auc60_roi in NecS1Hs06.hi1/8"
       ]
      },
      {
       "output_type": "stream",
       "stream": "stdout",
       "text": [
        "\n",
        "adata auc60_roi deleted in NecS1Hs08"
       ]
      },
      {
       "output_type": "stream",
       "stream": "stdout",
       "text": [
        "\n",
        "\t Saved auc60_roi in NecS1Hs08.hi1/8"
       ]
      },
      {
       "output_type": "stream",
       "stream": "stdout",
       "text": [
        "\n"
       ]
      }
     ],
     "prompt_number": 2
    },
    {
     "cell_type": "markdown",
     "metadata": {},
     "source": [
      "### Advanced Analyses"
     ]
    },
    {
     "cell_type": "code",
     "collapsed": false,
     "input": [
      "import sarpy\n",
      "import sarpy.io.bulk_analyze\n",
      "import sarpy.fmoosvi.analysis\n",
      "import collections\n",
      "\n",
      "\n",
      "advancedAnalyses = collections.OrderedDict()\n",
      "fFlag = False\n",
      "\n",
      "## Enhancement Curve\n",
      "advancedAnalyses['ec']={\n",
      "                         'scan_label':'dce-[0-9]*ha',\n",
      "                         'adata_roi_label':'auc60_roi',\n",
      "                         'adata_save_label':'ec',\n",
      "                         'force_overwrite':fFlag\n",
      "                         }\n",
      "\n",
      "## Gd_conc - 0h\n",
      "advancedAnalyses['gd_conc_0h']={\n",
      "                             'scan_label':'dce-0ha',\n",
      "                             'other_scan_label':'LL-0h',\n",
      "                             'adata_label':'T1_LL',\n",
      "                             'relaxivity':4.3e-3,\n",
      "                             'adata_save_label':'gd_conc',\n",
      "                             'force_overwrite':fFlag\n",
      "                             }\n",
      "## Gd_conc - 24h\n",
      "advancedAnalyses['gd_conc_24h']={\n",
      "                             'scan_label':'dce-24ha',\n",
      "                             'other_scan_label':'LL-24h',\n",
      "                             'adata_label':'T1_LL',\n",
      "                             'relaxivity':4.3e-3,\n",
      "                             'adata_save_label':'gd_conc',\n",
      "                             'force_overwrite':fFlag\n",
      "                             }\n",
      "\n",
      "## Gd_conc - 48h\n",
      "advancedAnalyses['gd_conc_48h']={\n",
      "                             'scan_label':'dce-48ha',\n",
      "                             'other_scan_label':'LL-48h',\n",
      "                             'adata_label':'T1_LL',\n",
      "                             'relaxivity':4.3e-3,\n",
      "                             'adata_save_label':'gd_conc',\n",
      "                             'force_overwrite':fFlag\n",
      "                             }\n",
      "\n",
      "## Gd_conc - 0h\n",
      "advancedAnalyses['gd_conc_0h_stitched']={\n",
      "                             'scan_label':'dce-0ha',\n",
      "                             'other_scan_label':'LL-0h-',\n",
      "                             'adata_label':'T1_LL',\n",
      "                             'relaxivity':4.3e-3,\n",
      "                             'adata_save_label':'gd_conc_stitched',\n",
      "                             'masterlist_name': 'NecS3',\n",
      "                             'other_dce_label': 'dce-0hb',\n",
      "                             'force_overwrite':fFlag\n",
      "                             }\n",
      "## Gd_conc - 24h\n",
      "advancedAnalyses['gd_conc_24h_stitched']={\n",
      "                             'scan_label':'dce-24ha',\n",
      "                             'other_scan_label':'LL-24h-',\n",
      "                             'adata_label':'T1_LL',\n",
      "                             'relaxivity':4.3e-3,\n",
      "                             'adata_save_label':'gd_conc_stitched',\n",
      "                             'masterlist_name': masterlist,\n",
      "                             'other_dce_label': 'dce-24hb',                             \n",
      "                             'force_overwrite':fFlag\n",
      "                             }\n",
      "\n",
      "## Gd_conc - 48h\n",
      "advancedAnalyses['gd_conc_48h_stitched']={\n",
      "                             'scan_label':'dce-48ha',\n",
      "                             'other_scan_label':'LL-48h-',\n",
      "                             'adata_label':'T1_LL',\n",
      "                             'relaxivity':4.3e-3,\n",
      "                             'adata_save_label':'gd_conc_stitched',\n",
      "                             'masterlist_name': masterlist,\n",
      "                             'other_dce_label': 'dce-48hb',                             \n",
      "                             'force_overwrite':fFlag\n",
      "                             }\n",
      "\n",
      "\n",
      "## AUGC60 - 0h\n",
      "advancedAnalyses['augc_0h']={\n",
      "                             'scan_label':'dce-0ha',\n",
      "                             'other_scan_label':'LL-0h',\n",
      "                             'adata_label':'gd_conc',\n",
      "                             'relaxivity':4.3e-3,\n",
      "                             'adata_save_label':'augc60',\n",
      "                             'force_overwrite':fFlag\n",
      "                             }\n",
      "\n",
      "\n",
      "## AUGC60 - 24h\n",
      "advancedAnalyses['augc_24h']={\n",
      "                             'scan_label':'dce-24ha',\n",
      "                             'other_scan_label':'LL-24h',\n",
      "                             'adata_label':'gd_conc',\n",
      "                             'relaxivity':4.3e-3,\n",
      "                             'adata_save_label':'augc60',\n",
      "                             'force_overwrite':fFlag\n",
      "                             }\n",
      "## AUGC60 - 48h\n",
      "advancedAnalyses['augc_48h']={\n",
      "                             'scan_label':'dce-48ha',\n",
      "                             'other_scan_label':'LL-48h',\n",
      "                             'adata_label':'gd_conc',\n",
      "                             'relaxivity':4.3e-3,\n",
      "                             'adata_save_label':'augc60',\n",
      "                             'force_overwrite':fFlag\n",
      "                             }\n",
      "\n",
      "toAnalyze = False\n",
      "\n",
      "for atype in advancedAnalyses:\n",
      "    \n",
      "    toAnalyze = True\n",
      "    \n",
      "           \n",
      "    if 'ec' in atype:\n",
      "                   \n",
      "        def myfunc(dict_of_params):\n",
      "            import sarpy.fmoosvi.analysis            \n",
      "            reload(sarpy.fmoosvi.analysis)\n",
      "            \n",
      "            import sarpy.fmoosvi.getters\n",
      "            reload(sarpy.fmoosvi.getters)\n",
      "            \n",
      "            import sys\n",
      "\n",
      "            return sarpy.fmoosvi.analysis.h_enhancement_curve(**dict_of_params)\n",
      "    \n",
      "    elif 'gd_conc' in atype:\n",
      "\n",
      "        def myfunc(dict_of_params):\n",
      "        \n",
      "            import sarpy.fmoosvi.analysis            \n",
      "            reload(sarpy.fmoosvi.analysis)\n",
      "            \n",
      "            import sarpy.fmoosvi.getters\n",
      "            reload(sarpy.fmoosvi.getters)\n",
      "            \n",
      "            import sys\n",
      "            return sarpy.fmoosvi.analysis.h_conc_from_signal(**dict_of_params)\n",
      "        \n",
      "    elif 'augc' in atype:\n",
      "\n",
      "        def myfunc(dict_of_params):\n",
      "        \n",
      "            import sarpy.fmoosvi.analysis            \n",
      "            reload(sarpy.fmoosvi.analysis)\n",
      "            \n",
      "            import sarpy.fmoosvi.getters\n",
      "            reload(sarpy.fmoosvi.getters)\n",
      "            \n",
      "            import sys\n",
      "            toAnalyze = True\n",
      "            return sarpy.fmoosvi.analysis.h_calculate_AUGC(**dict_of_params)\n",
      "    else:\n",
      "        \n",
      "        toAnalyze = False\n",
      "        \n",
      "    if toAnalyze:        \n",
      "\n",
      "        ## Create the factory, and then execute                \n",
      "        an = sarpy.io.bulk_analyze.ParallelBulkAnalyzerFactory.from_function(myfunc, \n",
      "                                                            masterlist_fname=masterlist, \n",
      "                                                            **advancedAnalyses[atype])\n",
      "        an.process()\n",
      "        \n",
      "print 'Analyses complete'        "
     ],
     "language": "python",
     "metadata": {},
     "outputs": [],
     "prompt_number": "*"
    },
    {
     "cell_type": "code",
     "collapsed": false,
     "input": [
      "import sarpy.fmoosvi.wrappers\n",
      "\n",
      "fFlag = True\n",
      "label = []\n",
      "label.append('augc60')\n",
      "\n",
      "for l in label:\n",
      "    sarpy.fmoosvi.wrappers.bulk_transfer_roi(masterlist,l,forceVal = fFlag)"
     ],
     "language": "python",
     "metadata": {},
     "outputs": [
      {
       "output_type": "stream",
       "stream": "stdout",
       "text": [
        "adata augc60_roi deleted in NecS1Hs02\n",
        "\t Saved augc60_roi in NecS1Hs02.hj1/8"
       ]
      },
      {
       "output_type": "stream",
       "stream": "stdout",
       "text": [
        "\n",
        "adata augc60_roi deleted in NecS1Hs03"
       ]
      },
      {
       "output_type": "stream",
       "stream": "stdout",
       "text": [
        "\n",
        "\t Saved augc60_roi in NecS1Hs03.hj1/9"
       ]
      },
      {
       "output_type": "stream",
       "stream": "stdout",
       "text": [
        "\n",
        "adata augc60_roi deleted in NecS1Hs05"
       ]
      },
      {
       "output_type": "stream",
       "stream": "stdout",
       "text": [
        "\n",
        "\t Saved augc60_roi in NecS1Hs05.hj1/10"
       ]
      },
      {
       "output_type": "stream",
       "stream": "stdout",
       "text": [
        "\n",
        "adata augc60_roi deleted in NecS1Hs06"
       ]
      },
      {
       "output_type": "stream",
       "stream": "stdout",
       "text": [
        "\n",
        "\t Saved augc60_roi in NecS1Hs06.hj1/8"
       ]
      },
      {
       "output_type": "stream",
       "stream": "stdout",
       "text": [
        "\n",
        "adata augc60_roi deleted in NecS1Hs08"
       ]
      },
      {
       "output_type": "stream",
       "stream": "stdout",
       "text": [
        "\n",
        "\t Saved augc60_roi in NecS1Hs08.hj1/6"
       ]
      },
      {
       "output_type": "stream",
       "stream": "stdout",
       "text": [
        "\n",
        "\t Saved augc60_roi in NecS1Hs02.hk1/8"
       ]
      },
      {
       "output_type": "stream",
       "stream": "stdout",
       "text": [
        "\n",
        "\t Saved augc60_roi in NecS1Hs03.hk1/8"
       ]
      },
      {
       "output_type": "stream",
       "stream": "stdout",
       "text": [
        "\n",
        "\t Saved augc60_roi in NecS1Hs06.hk1/11"
       ]
      },
      {
       "output_type": "stream",
       "stream": "stdout",
       "text": [
        "\n",
        "\t Saved augc60_roi in NecS1Hs08.hk1/9"
       ]
      },
      {
       "output_type": "stream",
       "stream": "stdout",
       "text": [
        "\n",
        "\t Saved augc60_roi in NecS1Hs02.hi1/8"
       ]
      },
      {
       "output_type": "stream",
       "stream": "stdout",
       "text": [
        "\n",
        "\t Saved augc60_roi in NecS1Hs03.hi1/8"
       ]
      },
      {
       "output_type": "stream",
       "stream": "stdout",
       "text": [
        "\n",
        "adata augc60_roi deleted in NecS1Hs05"
       ]
      },
      {
       "output_type": "stream",
       "stream": "stdout",
       "text": [
        "\n",
        "\t Saved augc60_roi in NecS1Hs05.hi1/8"
       ]
      },
      {
       "output_type": "stream",
       "stream": "stdout",
       "text": [
        "\n",
        "adata augc60_roi deleted in NecS1Hs06"
       ]
      },
      {
       "output_type": "stream",
       "stream": "stdout",
       "text": [
        "\n",
        "\t Saved augc60_roi in NecS1Hs06.hi1/8"
       ]
      },
      {
       "output_type": "stream",
       "stream": "stdout",
       "text": [
        "\n",
        "adata augc60_roi deleted in NecS1Hs08"
       ]
      },
      {
       "output_type": "stream",
       "stream": "stdout",
       "text": [
        "\n",
        "\t Saved augc60_roi in NecS1Hs08.hi1/8"
       ]
      },
      {
       "output_type": "stream",
       "stream": "stdout",
       "text": [
        "\n"
       ]
      }
     ],
     "prompt_number": 4
    },
    {
     "cell_type": "code",
     "collapsed": false,
     "input": [
      "fFlag = True\n",
      "\n",
      "deltaT1s = collections.OrderedDict()\n",
      "## Delta T1 - \n",
      "deltaT1s['deltaT1_1']={  'masterlist_name':masterlist,\n",
      "                         'T1map_1':'LL-0h',\n",
      "                         'T1map_2':'LL-24h',\n",
      "                         'adata_label1':'T1_LL',\n",
      "                         'adata_save_label':'deltaT1',\n",
      "                         'force_overwrite':fFlag\n",
      "                         }\n",
      "\n",
      "deltaT1s['deltaT1_2']={  'masterlist_name':masterlist,\n",
      "                         'T1map_1':'LL-24h',\n",
      "                         'T1map_2':'LL-48h',\n",
      "                         'adata_label1':'T1_LL',\n",
      "                         'adata_save_label':'deltaT1',\n",
      "                         'force_overwrite':fFlag\n",
      "                         }\n",
      "\n",
      "for k,v in deltaT1s.iteritems():\n",
      "    \n",
      "    sarpy.fmoosvi.wrappers.store_deltaT1(**deltaT1s[k])"
     ],
     "language": "python",
     "metadata": {},
     "outputs": [
      {
       "output_type": "stream",
       "stream": "stdout",
       "text": [
        "adata deltaT1 deleted in NecS1Hs02\n",
        "deltaT1: Saved NecS1Hs02.hj1/6"
       ]
      },
      {
       "output_type": "stream",
       "stream": "stdout",
       "text": [
        "\n",
        "adata deltaT1 deleted in NecS1Hs03"
       ]
      },
      {
       "output_type": "stream",
       "stream": "stdout",
       "text": [
        "\n",
        "deltaT1: Saved NecS1Hs03.hj1/7"
       ]
      },
      {
       "output_type": "stream",
       "stream": "stdout",
       "text": [
        "\n",
        "adata deltaT1 deleted in NecS1Hs05"
       ]
      },
      {
       "output_type": "stream",
       "stream": "stdout",
       "text": [
        "\n",
        "deltaT1: Saved NecS1Hs05.hj1/8"
       ]
      },
      {
       "output_type": "stream",
       "stream": "stdout",
       "text": [
        "\n",
        "adata deltaT1 deleted in NecS1Hs06"
       ]
      },
      {
       "output_type": "stream",
       "stream": "stdout",
       "text": [
        "\n",
        "deltaT1: Saved NecS1Hs06.hj1/6"
       ]
      },
      {
       "output_type": "stream",
       "stream": "stdout",
       "text": [
        "\n",
        "adata deltaT1 deleted in NecS1Hs08"
       ]
      },
      {
       "output_type": "stream",
       "stream": "stdout",
       "text": [
        "\n",
        "deltaT1: Saved NecS1Hs08.hj1/4"
       ]
      },
      {
       "output_type": "stream",
       "stream": "stdout",
       "text": [
        "\n",
        "deltaT1: Saved NecS1Hs02.hk1/6"
       ]
      },
      {
       "output_type": "stream",
       "stream": "stdout",
       "text": [
        "\n",
        "deltaT1: Saved NecS1Hs03.hk1/6"
       ]
      },
      {
       "output_type": "stream",
       "stream": "stdout",
       "text": [
        "\n",
        "deltaT1: Saved NecS1Hs05.hk1/6"
       ]
      },
      {
       "output_type": "stream",
       "stream": "stdout",
       "text": [
        "\n",
        "deltaT1: Saved NecS1Hs06.hk1/9"
       ]
      },
      {
       "output_type": "stream",
       "stream": "stdout",
       "text": [
        "\n",
        "deltaT1: Saved NecS1Hs08.hk1/7"
       ]
      },
      {
       "output_type": "stream",
       "stream": "stdout",
       "text": [
        "\n"
       ]
      }
     ],
     "prompt_number": 6
    },
    {
     "cell_type": "markdown",
     "metadata": {},
     "source": [
      "### Write data to CSV"
     ]
    },
    {
     "cell_type": "code",
     "collapsed": false,
     "input": [
      "adata_to_csv = []\n",
      "\n",
      "adata_to_csv.append(['dce-0h','auc60'])\n",
      "adata_to_csv.append(['dce-0h','augc60'])\n",
      "adata_to_csv.append(['dce-24h','auc60'])\n",
      "adata_to_csv.append(['dce-24h','augc60'])\n",
      "adata_to_csv.append(['dce-48h','auc60'])\n",
      "adata_to_csv.append(['dce-48h','augc60'])\n",
      "adata_to_csv.append(['LL-0h','T1_LL'])\n",
      "adata_to_csv.append(['LL-24h','T1_LL'])\n",
      "adata_to_csv.append(['LL-48h','T1_LL'])\n",
      "adata_to_csv.append(['LL-24h','deltaT1','T1_LL_roi'])\n",
      "adata_to_csv.append(['LL-48h+','deltaT1','T1_LL_roi'])\n",
      "\n",
      "for k in adata_to_csv:\n",
      "    \n",
      "    if len(k) ==2:\n",
      "        sarpy.io.write_csv.write_csv(masterlist,k[0],k[1])\n",
      "    else:\n",
      "        sarpy.io.write_csv.write_csv(masterlist,k[0],k[1],roi_override=k[2])"
     ],
     "language": "python",
     "metadata": {},
     "outputs": [
      {
       "output_type": "stream",
       "stream": "stdout",
       "text": [
        "write_csv: Not found NecS1Hs02 and dce-0h,auc60\n",
        "write_csv: Not found NecS1Hs03 and dce-0h,auc60\n",
        "write_csv: Not found NecS1Hs05 and dce-0h,auc60\n",
        "write_csv: Not found NecS1Hs06 and dce-0h,auc60\n",
        "write_csv: Not found NecS1Hs08 and dce-0h,auc60\n",
        "write_csv: Not found NecS1Hs02 and dce-0h,augc60\n",
        "write_csv: Not found NecS1Hs03 and dce-0h,augc60\n",
        "write_csv: Not found NecS1Hs05 and dce-0h,augc60\n",
        "write_csv: Not found NecS1Hs06 and dce-0h,augc60\n",
        "write_csv: Not found NecS1Hs08 and dce-0h,augc60\n",
        "write_csv: Not found NecS1Hs02 and dce-24h,auc60\n",
        "write_csv: Not found NecS1Hs03 and dce-24h,auc60\n",
        "write_csv: Not found NecS1Hs05 and dce-24h,auc60\n",
        "write_csv: Not found NecS1Hs06 and dce-24h,auc60\n",
        "write_csv: Not found NecS1Hs08 and dce-24h,auc60\n",
        "write_csv: Not found NecS1Hs02 and dce-24h,augc60\n",
        "write_csv: Not found NecS1Hs03 and dce-24h,augc60\n",
        "write_csv: Not found NecS1Hs05 and dce-24h,augc60\n",
        "write_csv: Not found NecS1Hs06 and dce-24h,augc60\n",
        "write_csv: Not found NecS1Hs08 and dce-24h,augc60\n",
        "write_csv: Not found NecS1Hs02 and dce-48h,auc60\n",
        "write_csv: Not found NecS1Hs03 and dce-48h,auc60\n",
        "write_csv: Not found NecS1Hs05 and dce-48h,auc60\n",
        "write_csv: Not found NecS1Hs06 and dce-48h,auc60\n",
        "write_csv: Not found NecS1Hs08 and dce-48h,auc60\n",
        "write_csv: Not found NecS1Hs02 and dce-48h,augc60\n",
        "write_csv: Not found NecS1Hs03 and dce-48h,augc60\n",
        "write_csv: Not found NecS1Hs05 and dce-48h,augc60\n",
        "write_csv: Not found NecS1Hs06 and dce-48h,augc60\n",
        "write_csv: Not found NecS1Hs08 and dce-48h,augc60\n",
        "write_csv: Not found NecS1Hs02 and LL-48h+,deltaT1"
       ]
      },
      {
       "output_type": "stream",
       "stream": "stdout",
       "text": [
        "\n",
        "write_csv: Not found NecS1Hs03 and LL-48h+,deltaT1\n",
        "write_csv: Not found NecS1Hs05 and LL-48h+,deltaT1\n",
        "write_csv: Not found NecS1Hs06 and LL-48h+,deltaT1\n",
        "write_csv: Not found NecS1Hs08 and LL-48h+,deltaT1\n"
       ]
      },
      {
       "output_type": "stream",
       "stream": "stderr",
       "text": [
        "/System/Library/Frameworks/Python.framework/Versions/2.7/Extras/lib/python/scipy/stats/stats.py:298: RuntimeWarning: invalid value encountered in double_scalars\n",
        "  return np.mean(x,axis)/factor\n"
       ]
      }
     ],
     "prompt_number": 2
    },
    {
     "cell_type": "markdown",
     "metadata": {},
     "source": [
      "### Generating Tumourboards"
     ]
    },
    {
     "cell_type": "code",
     "collapsed": false,
     "input": [
      "tumourboards = []\n",
      "tumourboards.append('NecS1/NecS1.TB')\n",
      "\n",
      "os.chdir(os.path.expanduser(os.path.join('~','sarpy/python/sarpy/io')))"
     ],
     "language": "python",
     "metadata": {},
     "outputs": [],
     "prompt_number": 10
    },
    {
     "cell_type": "code",
     "collapsed": false,
     "input": [
      "for tb in tumourboards:\n",
      "    %run ./tumourboard.py -c $tb"
     ],
     "language": "python",
     "metadata": {},
     "outputs": [
      {
       "output_type": "stream",
       "stream": "stdout",
       "text": [
        "\n",
        "--------------------------------------------------------------------------------\n",
        "NecS1Hs02\n",
        "('IR-0h-', u'NecS1Hs02.hi1/7', '07_IR-RARE-anatomy')"
       ]
      },
      {
       "output_type": "stream",
       "stream": "stdout",
       "text": [
        "\n",
        "('IR-24h-', u'NecS1Hs02.hj1/7', '05_IR-RARE-anatomy')"
       ]
      },
      {
       "output_type": "stream",
       "stream": "stdout",
       "text": [
        "\n",
        "('IR-48h-', u'NecS1Hs02.hk1/7', '05_IR-RARE-anatomy')"
       ]
      },
      {
       "output_type": "stream",
       "stream": "stdout",
       "text": [
        "\n",
        "('LL-0h', u'NecS1Hs02.hi1/6', '04_ubcLL2')"
       ]
      },
      {
       "output_type": "stream",
       "stream": "stdout",
       "text": [
        "\n",
        "('LL-24h', u'NecS1Hs02.hj1/6', '04_ubcLL2')"
       ]
      },
      {
       "output_type": "stream",
       "stream": "stdout",
       "text": [
        "\n",
        "('LL-48h', u'NecS1Hs02.hk1/6', '04_ubcLL2')"
       ]
      },
      {
       "output_type": "stream",
       "stream": "stdout",
       "text": [
        "\n",
        "\n",
        "--------------------------------------------------------------------------------\n",
        "NecS1Hs03"
       ]
      },
      {
       "output_type": "stream",
       "stream": "stdout",
       "text": [
        "\n",
        "('IR-0h-', u'NecS1Hs03.hi1/7', '07_IR-RARE-anatomy')"
       ]
      },
      {
       "output_type": "stream",
       "stream": "stdout",
       "text": [
        "\n",
        "('IR-24h-', u'NecS1Hs03.hj1/8', '05_IR-RARE-anatomy')"
       ]
      },
      {
       "output_type": "stream",
       "stream": "stdout",
       "text": [
        "\n",
        "('IR-48h-', u'NecS1Hs03.hk1/7', '05_IR-RARE-anatomy')"
       ]
      },
      {
       "output_type": "stream",
       "stream": "stdout",
       "text": [
        "\n",
        "('LL-0h', u'NecS1Hs03.hi1/6', '04_ubcLL2')"
       ]
      },
      {
       "output_type": "stream",
       "stream": "stdout",
       "text": [
        "\n",
        "('LL-24h', u'NecS1Hs03.hj1/7', '04_ubcLL2')"
       ]
      },
      {
       "output_type": "stream",
       "stream": "stdout",
       "text": [
        "\n",
        "('LL-48h', u'NecS1Hs03.hk1/6', '04_ubcLL2')"
       ]
      },
      {
       "output_type": "stream",
       "stream": "stdout",
       "text": [
        "\n",
        "\n",
        "--------------------------------------------------------------------------------\n",
        "NecS1Hs05"
       ]
      },
      {
       "output_type": "stream",
       "stream": "stdout",
       "text": [
        "\n",
        "('IR-0h-', u'NecS1Hs05.hi1/7', '05_IR-RARE-anatomy')"
       ]
      },
      {
       "output_type": "stream",
       "stream": "stdout",
       "text": [
        "\n",
        "('IR-24h-', u'NecS1Hs05.hj1/9', '05_IR-RARE-anatomy')"
       ]
      },
      {
       "output_type": "stream",
       "stream": "stdout",
       "text": [
        "\n",
        "('IR-48h-', u'NecS1Hs05.hk1/7', '05_IR-RARE-anatomy')"
       ]
      },
      {
       "output_type": "stream",
       "stream": "stdout",
       "text": [
        "\n",
        "('LL-0h', u'NecS1Hs05.hi1/6', '04_ubcLL2')"
       ]
      },
      {
       "output_type": "stream",
       "stream": "stdout",
       "text": [
        "\n",
        "('LL-24h', u'NecS1Hs05.hj1/8', '04_ubcLL2')"
       ]
      },
      {
       "output_type": "stream",
       "stream": "stdout",
       "text": [
        "\n",
        "('LL-48h', u'NecS1Hs05.hk1/6', '04_ubcLL2')"
       ]
      },
      {
       "output_type": "stream",
       "stream": "stdout",
       "text": [
        "\n",
        "\n",
        "--------------------------------------------------------------------------------\n",
        "NecS1Hs06"
       ]
      },
      {
       "output_type": "stream",
       "stream": "stdout",
       "text": [
        "\n",
        "('IR-0h-', u'NecS1Hs06.hi1/7', '05_IR-RARE-anatomy')"
       ]
      },
      {
       "output_type": "stream",
       "stream": "stdout",
       "text": [
        "\n",
        "('IR-24h-', u'NecS1Hs06.hj1/7', '05_IR-RARE-anatomy')"
       ]
      },
      {
       "output_type": "stream",
       "stream": "stdout",
       "text": [
        "\n",
        "('IR-48h-', u'NecS1Hs06.hk1/10', '05_IR-RARE-anatomy')"
       ]
      },
      {
       "output_type": "stream",
       "stream": "stdout",
       "text": [
        "\n",
        "('LL-0h', u'NecS1Hs06.hi1/6', '04_ubcLL2')"
       ]
      },
      {
       "output_type": "stream",
       "stream": "stdout",
       "text": [
        "\n",
        "('LL-24h', u'NecS1Hs06.hj1/6', '04_ubcLL2')"
       ]
      },
      {
       "output_type": "stream",
       "stream": "stdout",
       "text": [
        "\n",
        "('LL-48h', u'NecS1Hs06.hk1/9', '04_ubcLL2')"
       ]
      },
      {
       "output_type": "stream",
       "stream": "stdout",
       "text": [
        "\n",
        "\n",
        "--------------------------------------------------------------------------------\n",
        "NecS1Hs08"
       ]
      },
      {
       "output_type": "stream",
       "stream": "stdout",
       "text": [
        "\n",
        "('IR-0h-', u'NecS1Hs08.hi1/7', '05_IR-RARE-anatomy')"
       ]
      },
      {
       "output_type": "stream",
       "stream": "stdout",
       "text": [
        "\n",
        "('IR-24h-', u'NecS1Hs08.hj1/5', '05_IR-RARE-anatomy')"
       ]
      },
      {
       "output_type": "stream",
       "stream": "stdout",
       "text": [
        "\n",
        "('IR-48h-', u'NecS1Hs08.hk1/8', '05_IR-RARE-anatomy')"
       ]
      },
      {
       "output_type": "stream",
       "stream": "stdout",
       "text": [
        "\n",
        "('LL-0h', u'NecS1Hs08.hi1/6', '04_ubcLL2')"
       ]
      },
      {
       "output_type": "stream",
       "stream": "stdout",
       "text": [
        "\n",
        "('LL-24h', u'NecS1Hs08.hj1/4', '04_ubcLL2')"
       ]
      },
      {
       "output_type": "stream",
       "stream": "stdout",
       "text": [
        "\n",
        "('LL-48h', u'NecS1Hs08.hk1/7', '04_ubcLL2')"
       ]
      },
      {
       "output_type": "stream",
       "stream": "stdout",
       "text": [
        "\n"
       ]
      }
     ],
     "prompt_number": 12
    },
    {
     "cell_type": "code",
     "collapsed": false,
     "input": [],
     "language": "python",
     "metadata": {},
     "outputs": []
    }
   ],
   "metadata": {}
  }
 ]
}