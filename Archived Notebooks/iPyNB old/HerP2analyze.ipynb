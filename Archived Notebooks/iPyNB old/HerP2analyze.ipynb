{
 "metadata": {
  "name": "HerP2analyze"
 },
 "nbformat": 3,
 "nbformat_minor": 0,
 "worksheets": [
  {
   "cells": [
    {
     "cell_type": "markdown",
     "metadata": {},
     "source": [
      "This is a template for analyzing various animals using the new python setup.\n",
      "\n",
      "Change the name of the experiment in Step 0, and then again the names of the labels in Step 4. This template requires that the masterlist be already created using generate_masterlist.py"
     ]
    },
    {
     "cell_type": "markdown",
     "metadata": {},
     "source": [
      "#### Set imports and define the experiment name"
     ]
    },
    {
     "cell_type": "code",
     "collapsed": false,
     "input": [
      "import sarpy\n",
      "import sarpy.fmoosvi.wrappers\n",
      "from datetime import datetime\n",
      "from collections import defaultdict\n",
      "import os\n",
      "import sys\n",
      "import errno\n",
      "\n",
      "startTime = datetime.now()"
     ],
     "language": "python",
     "metadata": {},
     "outputs": [],
     "prompt_number": 5
    },
    {
     "cell_type": "markdown",
     "metadata": {},
     "source": [
      "## Step 0 - Specify experiment name"
     ]
    },
    {
     "cell_type": "code",
     "collapsed": false,
     "input": [
      "masterlist = 'HerP2'\n",
      "path = os.path.join(os.path.expanduser('~'),'sdata',masterlist,'rois')\n",
      "\n",
      "# See if the rois directory exists, if it doesn't create it\n",
      "try:\n",
      "    os.makedirs(path)\n",
      "except OSError as exception:\n",
      "    if exception.errno != errno.EEXIST:\n",
      "        raise"
     ],
     "language": "python",
     "metadata": {},
     "outputs": [],
     "prompt_number": 6
    },
    {
     "cell_type": "markdown",
     "metadata": {},
     "source": [
      "## Step 1: Export ROIs"
     ]
    },
    {
     "cell_type": "code",
     "collapsed": false,
     "input": [
      "fFlag = True\n",
      "\n",
      "smart_label = []\n",
      "smart_label.append(['0h-roi','0h-',fFlag])\n",
      "smart_label.append(['24h-roi','24h-',fFlag])\n",
      "\n",
      "for sm in smart_label:\n",
      "    sarpy.io.generate_rois.generate_rois(masterlist,sm[0],'roi','export', path, sm[2])"
     ],
     "language": "python",
     "metadata": {},
     "outputs": [
      {
       "output_type": "stream",
       "stream": "stdout",
       "text": [
        "Nifti images were processed in /Users/fmoosvi/sdata/HerP2/rois\n",
        "Nifti images were processed in /Users/fmoosvi/sdata/HerP2/rois"
       ]
      },
      {
       "output_type": "stream",
       "stream": "stdout",
       "text": [
        "\n"
       ]
      }
     ],
     "prompt_number": 3
    },
    {
     "cell_type": "markdown",
     "metadata": {},
     "source": [
      "Now go ahead and draw ROIs using ImageJ. When you're done, just rename the files with an a appended at the very end. For e.g., the source file _HerS2Mo01_10.nii_ will turn into _HerS2Mo01_10a.nii_ once the ROI is drawn"
     ]
    },
    {
     "cell_type": "markdown",
     "metadata": {},
     "source": [
      "## Step 2: Import the drawn ROIs back in as adata, update the bounding boxes"
     ]
    },
    {
     "cell_type": "code",
     "collapsed": false,
     "input": [
      "peaks = 2\n",
      "for sm in smart_label:\n",
      "    sarpy.io.generate_rois.generate_rois(masterlist,sm[0],'roi','import', path,peaks=peaks, forceVal = sm[2])\n",
      "    sarpy.io.update_bbox.update_bbox(masterlist,sm[0],'roi',sm[1])\n",
      "\n",
      "sarpy.io.update_bbox.update_bbox(masterlist,smart_label[1][0],'roi','\\-24h-')\n",
      "sarpy.io.update_bbox.update_bbox(masterlist,smart_label[1][0],'roi','\\+24h-')"
     ],
     "language": "python",
     "metadata": {},
     "outputs": [
      {
       "output_type": "stream",
       "stream": "stdout",
       "text": [
        "deleting item roi\n",
        "h_generate_roi: saved HerP2Bs01.jJ1/6 roi label"
       ]
      },
      {
       "output_type": "stream",
       "stream": "stdout",
       "text": [
        "\n",
        "deleting item roi"
       ]
      },
      {
       "output_type": "stream",
       "stream": "stdout",
       "text": [
        "\n",
        "h_generate_roi: saved HerP2Bs02.jJ2/4 roi label"
       ]
      },
      {
       "output_type": "stream",
       "stream": "stdout",
       "text": [
        "\n",
        "deleting item roi"
       ]
      },
      {
       "output_type": "stream",
       "stream": "stdout",
       "text": [
        "\n",
        "h_generate_roi: saved HerP2Bs03.jK1/4 roi label"
       ]
      },
      {
       "output_type": "stream",
       "stream": "stdout",
       "text": [
        "\n",
        "deleting item roi"
       ]
      },
      {
       "output_type": "stream",
       "stream": "stdout",
       "text": [
        "\n",
        "h_generate_roi: saved HerP2Bs04.jK1/4 roi label"
       ]
      },
      {
       "output_type": "stream",
       "stream": "stdout",
       "text": [
        "\n",
        "deleting item roi"
       ]
      },
      {
       "output_type": "stream",
       "stream": "stdout",
       "text": [
        "\n",
        "h_generate_roi: saved HerP2Bs05.jK1/4 roi label"
       ]
      },
      {
       "output_type": "stream",
       "stream": "stdout",
       "text": [
        "\n",
        "deleting item roi"
       ]
      },
      {
       "output_type": "stream",
       "stream": "stdout",
       "text": [
        "\n",
        "h_generate_roi: saved HerP2Bs06.jT1/4 roi label"
       ]
      },
      {
       "output_type": "stream",
       "stream": "stdout",
       "text": [
        "\n",
        "deleting item roi"
       ]
      },
      {
       "output_type": "stream",
       "stream": "stdout",
       "text": [
        "\n",
        "h_generate_roi: saved HerP2Bs07.jT1/4 roi label"
       ]
      },
      {
       "output_type": "stream",
       "stream": "stdout",
       "text": [
        "\n",
        "deleting item roi"
       ]
      },
      {
       "output_type": "stream",
       "stream": "stdout",
       "text": [
        "\n",
        "h_generate_roi: saved HerP2Bs08.jT1/4 roi label"
       ]
      },
      {
       "output_type": "stream",
       "stream": "stdout",
       "text": [
        "\n",
        "deleting item roi"
       ]
      },
      {
       "output_type": "stream",
       "stream": "stdout",
       "text": [
        "\n",
        "h_generate_roi: saved HerP2Bs09.kp1/4 roi label"
       ]
      },
      {
       "output_type": "stream",
       "stream": "stdout",
       "text": [
        "\n",
        "deleting item roi"
       ]
      },
      {
       "output_type": "stream",
       "stream": "stdout",
       "text": [
        "\n",
        "h_generate_roi: saved HerP2Bs10.kp1/3 roi label"
       ]
      },
      {
       "output_type": "stream",
       "stream": "stdout",
       "text": [
        "\n",
        "Nifti images were processed in /Users/fmoosvi/sdata/HerP2/rois\n",
        "update_bbox: Success, updated file is: HerP2_updated.json"
       ]
      },
      {
       "output_type": "stream",
       "stream": "stdout",
       "text": [
        "\n",
        "deleting item roi"
       ]
      },
      {
       "output_type": "stream",
       "stream": "stdout",
       "text": [
        "\n",
        "h_generate_roi: saved HerP2Bs01.jK1/4 roi label"
       ]
      },
      {
       "output_type": "stream",
       "stream": "stdout",
       "text": [
        "\n",
        "deleting item roi"
       ]
      },
      {
       "output_type": "stream",
       "stream": "stdout",
       "text": [
        "\n",
        "h_generate_roi: saved HerP2Bs02.jK1/5 roi label"
       ]
      },
      {
       "output_type": "stream",
       "stream": "stdout",
       "text": [
        "\n",
        "deleting item roi"
       ]
      },
      {
       "output_type": "stream",
       "stream": "stdout",
       "text": [
        "\n",
        "h_generate_roi: saved HerP2Bs03.jL1/5 roi label"
       ]
      },
      {
       "output_type": "stream",
       "stream": "stdout",
       "text": [
        "\n",
        "deleting item roi"
       ]
      },
      {
       "output_type": "stream",
       "stream": "stdout",
       "text": [
        "\n",
        "h_generate_roi: saved HerP2Bs04.jL1/4 roi label"
       ]
      },
      {
       "output_type": "stream",
       "stream": "stdout",
       "text": [
        "\n",
        "deleting item roi"
       ]
      },
      {
       "output_type": "stream",
       "stream": "stdout",
       "text": [
        "\n",
        "h_generate_roi: saved HerP2Bs05.jL1/4 roi label"
       ]
      },
      {
       "output_type": "stream",
       "stream": "stdout",
       "text": [
        "\n",
        "deleting item roi"
       ]
      },
      {
       "output_type": "stream",
       "stream": "stdout",
       "text": [
        "\n",
        "h_generate_roi: saved HerP2Bs06.jU1/4 roi label"
       ]
      },
      {
       "output_type": "stream",
       "stream": "stdout",
       "text": [
        "\n",
        "deleting item roi"
       ]
      },
      {
       "output_type": "stream",
       "stream": "stdout",
       "text": [
        "\n",
        "h_generate_roi: saved HerP2Bs07.jU1/4 roi label"
       ]
      },
      {
       "output_type": "stream",
       "stream": "stdout",
       "text": [
        "\n",
        "deleting item roi"
       ]
      },
      {
       "output_type": "stream",
       "stream": "stdout",
       "text": [
        "\n",
        "h_generate_roi: saved HerP2Bs08.jU1/4 roi label"
       ]
      },
      {
       "output_type": "stream",
       "stream": "stdout",
       "text": [
        "\n",
        "deleting item roi"
       ]
      },
      {
       "output_type": "stream",
       "stream": "stdout",
       "text": [
        "\n",
        "h_generate_roi: saved HerP2Bs09.kq1/3 roi label"
       ]
      },
      {
       "output_type": "stream",
       "stream": "stdout",
       "text": [
        "\n",
        "deleting item roi"
       ]
      },
      {
       "output_type": "stream",
       "stream": "stdout",
       "text": [
        "\n",
        "h_generate_roi: saved HerP2Bs10.kq1/3 roi label"
       ]
      },
      {
       "output_type": "stream",
       "stream": "stdout",
       "text": [
        "\n",
        "Nifti images were processed in /Users/fmoosvi/sdata/HerP2/rois\n",
        "update_bbox: Success, updated file is: HerP2_updated.json"
       ]
      },
      {
       "output_type": "stream",
       "stream": "stdout",
       "text": [
        "\n",
        "update_bbox: Success, updated file is: HerP2_updated.json"
       ]
      },
      {
       "output_type": "stream",
       "stream": "stdout",
       "text": [
        "\n",
        "update_bbox: Success, updated file is: HerP2_updated.json"
       ]
      },
      {
       "output_type": "stream",
       "stream": "stdout",
       "text": [
        "\n"
       ]
      }
     ],
     "prompt_number": 4
    },
    {
     "cell_type": "markdown",
     "metadata": {},
     "source": [
      "## Step 3: Perform basic analyses (no ROIs required)"
     ]
    },
    {
     "cell_type": "code",
     "collapsed": false,
     "input": [
      "analyze_list = []\n",
      "\n",
      "fFlag = True # Set whether or not the scan need to be overwritten, default False\n",
      "\n",
      "analyze_list.append(['0h-roi','roi_check',fFlag])\n",
      "analyze_list.append(['24h-roi','roi_check',fFlag])\n",
      "\n",
      "analyze_list.append(['24h-DCE','auc60',fFlag])\n",
      "\n",
      "analyze_list.append(['0h-LL','T1map_LL',True])\n",
      "analyze_list.append(['-24h-LL','T1map_LL',True])\n",
      "analyze_list.append(['+24h-LL','T1map_LL',True])\n",
      "\n",
      "analyze_list.append(['24h-DCE','vtc',fFlag])\n",
      "\n",
      "for items in analyze_list:\n",
      "                                              \n",
      "    if len(items) == 3:\n",
      "                  \n",
      "        sarpy.fmoosvi.wrappers.bulk_analyze(masterlist, items[0], items[1], forceVal = items[2])\n",
      "\n",
      "    else:\n",
      "        sarpy.fmoosvi.wrappers.bulk_analyze(masterlist, items[0], items[1], items[2], forceVal = items[3])"
     ],
     "language": "python",
     "metadata": {},
     "outputs": [
      {
       "output_type": "stream",
       "stream": "stdout",
       "text": [
        "deleting item roi_check\n",
        "deleting item roi_check"
       ]
      },
      {
       "output_type": "stream",
       "stream": "stdout",
       "text": [
        "\n",
        "deleting item roi_check"
       ]
      },
      {
       "output_type": "stream",
       "stream": "stdout",
       "text": [
        "\n",
        "deleting item roi_check"
       ]
      },
      {
       "output_type": "stream",
       "stream": "stdout",
       "text": [
        "\n",
        "deleting item roi_check"
       ]
      },
      {
       "output_type": "stream",
       "stream": "stdout",
       "text": [
        "\n",
        "deleting item roi_check"
       ]
      },
      {
       "output_type": "stream",
       "stream": "stdout",
       "text": [
        "\n",
        "deleting item roi_check"
       ]
      },
      {
       "output_type": "stream",
       "stream": "stdout",
       "text": [
        "\n",
        "deleting item roi_check"
       ]
      },
      {
       "output_type": "stream",
       "stream": "stdout",
       "text": [
        "\n",
        "deleting item roi_check"
       ]
      },
      {
       "output_type": "stream",
       "stream": "stdout",
       "text": [
        "\n",
        "deleting item roi_check"
       ]
      },
      {
       "output_type": "stream",
       "stream": "stdout",
       "text": [
        "\n",
        "deleting item roi_check"
       ]
      },
      {
       "output_type": "stream",
       "stream": "stdout",
       "text": [
        "\n",
        "deleting item roi_check"
       ]
      },
      {
       "output_type": "stream",
       "stream": "stdout",
       "text": [
        "\n",
        "deleting item roi_check"
       ]
      },
      {
       "output_type": "stream",
       "stream": "stdout",
       "text": [
        "\n",
        "deleting item roi_check"
       ]
      },
      {
       "output_type": "stream",
       "stream": "stdout",
       "text": [
        "\n",
        "deleting item roi_check"
       ]
      },
      {
       "output_type": "stream",
       "stream": "stdout",
       "text": [
        "\n",
        "deleting item roi_check"
       ]
      },
      {
       "output_type": "stream",
       "stream": "stdout",
       "text": [
        "\n",
        "deleting item roi_check"
       ]
      },
      {
       "output_type": "stream",
       "stream": "stdout",
       "text": [
        "\n",
        "deleting item roi_check"
       ]
      },
      {
       "output_type": "stream",
       "stream": "stdout",
       "text": [
        "\n",
        "deleting item roi_check"
       ]
      },
      {
       "output_type": "stream",
       "stream": "stdout",
       "text": [
        "\n",
        "deleting item roi_check"
       ]
      },
      {
       "output_type": "stream",
       "stream": "stdout",
       "text": [
        "\n",
        "deleting item auc60"
       ]
      },
      {
       "output_type": "stream",
       "stream": "stdout",
       "text": [
        "\n",
        "deleting item auc60"
       ]
      },
      {
       "output_type": "stream",
       "stream": "stdout",
       "text": [
        "\n",
        "deleting item auc60"
       ]
      },
      {
       "output_type": "stream",
       "stream": "stdout",
       "text": [
        "\n",
        "deleting item auc60"
       ]
      },
      {
       "output_type": "stream",
       "stream": "stdout",
       "text": [
        "\n",
        "deleting item auc60"
       ]
      },
      {
       "output_type": "stream",
       "stream": "stdout",
       "text": [
        "\n",
        "deleting item auc60"
       ]
      },
      {
       "output_type": "stream",
       "stream": "stdout",
       "text": [
        "\n",
        "deleting item auc60"
       ]
      },
      {
       "output_type": "stream",
       "stream": "stdout",
       "text": [
        "\n",
        "deleting item auc60"
       ]
      },
      {
       "output_type": "stream",
       "stream": "stdout",
       "text": [
        "\n",
        "deleting item auc60"
       ]
      },
      {
       "output_type": "stream",
       "stream": "stdout",
       "text": [
        "\n",
        "deleting item auc60"
       ]
      },
      {
       "output_type": "stream",
       "stream": "stderr",
       "text": [
        "WARNING:sarpy.io.BRUKERIO:NSLICES not equal to number of ACQ_obj_order\n"
       ]
      },
      {
       "output_type": "stream",
       "stream": "stderr",
       "text": [
        "/phd/Dropbox/code/python/sarpy/fmoosvi/analysis.py:579: RuntimeWarning: divide by zero encountered in double_scalars\n",
        "  return (1-2*numpy.exp(-Td/T1) + numpy.exp(-(Tp+Td)/T1))*((1-numpy.exp(-tao/T1_eff))/(1-numpy.exp(-tao/T1))) -c*(numpy.exp(-tao/T1_eff)/(numpy.exp(-tao/T1)))*numpy.exp(-(Tp+Td)/T1) - b\n",
        "/Library/Python/2.7/site-packages/scipy-0.13.0.dev_c31f167_20130514-py2.7-macosx-10.8-intel.egg/scipy/optimize/zeros.py:152: RuntimeWarning: invalid value encountered in double_scalars\n",
        "  p = p1 - q1*(p1 - p0)/(q1 - q0)\n",
        "/phd/Dropbox/code/python/sarpy/fmoosvi/analysis.py:579: RuntimeWarning: invalid value encountered in double_scalars\n",
        "  return (1-2*numpy.exp(-Td/T1) + numpy.exp(-(Tp+Td)/T1))*((1-numpy.exp(-tao/T1_eff))/(1-numpy.exp(-tao/T1))) -c*(numpy.exp(-tao/T1_eff)/(numpy.exp(-tao/T1)))*numpy.exp(-(Tp+Td)/T1) - b\n"
       ]
      },
      {
       "output_type": "stream",
       "stream": "stderr",
       "text": [
        "/phd/Dropbox/code/python/sarpy/fmoosvi/analysis.py:576: RuntimeWarning: overflow encountered in exp\n",
        "  return a*(1-(1-b)*numpy.exp(-n*tao/T1_eff))*numpy.exp(1j*phi)\n",
        "/Library/Python/2.7/site-packages/scipy-0.13.0.dev_c31f167_20130514-py2.7-macosx-10.8-intel.egg/scipy/optimize/zeros.py:149: RuntimeWarning: Tolerance of -9.14753976253e+15 reached\n",
        "  warnings.warn(msg, RuntimeWarning)\n"
       ]
      },
      {
       "output_type": "stream",
       "stream": "stderr",
       "text": [
        "/phd/Dropbox/code/python/sarpy/fmoosvi/analysis.py:576: RuntimeWarning: overflow encountered in multiply\n",
        "  return a*(1-(1-b)*numpy.exp(-n*tao/T1_eff))*numpy.exp(1j*phi)\n",
        "/Library/Python/2.7/site-packages/scipy-0.13.0.dev_c31f167_20130514-py2.7-macosx-10.8-intel.egg/scipy/optimize/zeros.py:149: RuntimeWarning: Tolerance of -1.15850364319e+15 reached\n",
        "  warnings.warn(msg, RuntimeWarning)\n"
       ]
      },
      {
       "output_type": "stream",
       "stream": "stderr",
       "text": [
        "/Library/Python/2.7/site-packages/scipy-0.13.0.dev_c31f167_20130514-py2.7-macosx-10.8-intel.egg/scipy/optimize/zeros.py:149: RuntimeWarning: Tolerance of 5.85113151601e+14 reached\n",
        "  warnings.warn(msg, RuntimeWarning)\n",
        "/Library/Python/2.7/site-packages/scipy-0.13.0.dev_c31f167_20130514-py2.7-macosx-10.8-intel.egg/scipy/optimize/zeros.py:149: RuntimeWarning: Tolerance of -1.80292361581e+13 reached\n",
        "  warnings.warn(msg, RuntimeWarning)\n"
       ]
      },
      {
       "output_type": "stream",
       "stream": "stderr",
       "text": [
        "/Library/Python/2.7/site-packages/scipy-0.13.0.dev_c31f167_20130514-py2.7-macosx-10.8-intel.egg/scipy/optimize/zeros.py:149: RuntimeWarning: Tolerance of 9.77069301854e+14 reached\n",
        "  warnings.warn(msg, RuntimeWarning)\n",
        "/Library/Python/2.7/site-packages/scipy-0.13.0.dev_c31f167_20130514-py2.7-macosx-10.8-intel.egg/scipy/optimize/zeros.py:149: RuntimeWarning: Tolerance of 1.10374856862e+15 reached\n",
        "  warnings.warn(msg, RuntimeWarning)\n"
       ]
      },
      {
       "output_type": "stream",
       "stream": "stderr",
       "text": [
        "/Library/Python/2.7/site-packages/scipy-0.13.0.dev_c31f167_20130514-py2.7-macosx-10.8-intel.egg/scipy/optimize/zeros.py:149: RuntimeWarning: Tolerance of 9.56449582612e+13 reached\n",
        "  warnings.warn(msg, RuntimeWarning)\n",
        "/Library/Python/2.7/site-packages/scipy-0.13.0.dev_c31f167_20130514-py2.7-macosx-10.8-intel.egg/scipy/optimize/zeros.py:149: RuntimeWarning: Tolerance of 5.35837488113e+14 reached\n",
        "  warnings.warn(msg, RuntimeWarning)\n"
       ]
      },
      {
       "output_type": "stream",
       "stream": "stderr",
       "text": [
        "/Library/Python/2.7/site-packages/scipy-0.13.0.dev_c31f167_20130514-py2.7-macosx-10.8-intel.egg/scipy/optimize/zeros.py:149: RuntimeWarning: Tolerance of -4.97814846831e+15 reached\n",
        "  warnings.warn(msg, RuntimeWarning)\n",
        "/Library/Python/2.7/site-packages/scipy-0.13.0.dev_c31f167_20130514-py2.7-macosx-10.8-intel.egg/scipy/optimize/zeros.py:149: RuntimeWarning: Tolerance of 7.69432992608e+13 reached\n",
        "  warnings.warn(msg, RuntimeWarning)\n"
       ]
      },
      {
       "output_type": "stream",
       "stream": "stderr",
       "text": [
        "/Library/Python/2.7/site-packages/scipy-0.13.0.dev_c31f167_20130514-py2.7-macosx-10.8-intel.egg/scipy/optimize/zeros.py:149: RuntimeWarning: Tolerance of 2.8016443891e+13 reached\n",
        "  warnings.warn(msg, RuntimeWarning)\n",
        "/Library/Python/2.7/site-packages/scipy-0.13.0.dev_c31f167_20130514-py2.7-macosx-10.8-intel.egg/scipy/optimize/zeros.py:149: RuntimeWarning: Tolerance of -2.33135476066e+15 reached\n",
        "  warnings.warn(msg, RuntimeWarning)\n"
       ]
      },
      {
       "output_type": "stream",
       "stream": "stderr",
       "text": [
        "/phd/Dropbox/code/python/sarpy/fmoosvi/analysis.py:579: RuntimeWarning: overflow encountered in exp\n",
        "  return (1-2*numpy.exp(-Td/T1) + numpy.exp(-(Tp+Td)/T1))*((1-numpy.exp(-tao/T1_eff))/(1-numpy.exp(-tao/T1))) -c*(numpy.exp(-tao/T1_eff)/(numpy.exp(-tao/T1)))*numpy.exp(-(Tp+Td)/T1) - b\n",
        "/Library/Python/2.7/site-packages/scipy-0.13.0.dev_c31f167_20130514-py2.7-macosx-10.8-intel.egg/scipy/optimize/zeros.py:149: RuntimeWarning: Tolerance of -4.70317900181e-08 reached\n",
        "  warnings.warn(msg, RuntimeWarning)\n"
       ]
      },
      {
       "output_type": "stream",
       "stream": "stderr",
       "text": [
        "/Library/Python/2.7/site-packages/scipy-0.13.0.dev_c31f167_20130514-py2.7-macosx-10.8-intel.egg/scipy/optimize/zeros.py:149: RuntimeWarning: Tolerance of -3.53970236557e+14 reached\n",
        "  warnings.warn(msg, RuntimeWarning)\n",
        "/Library/Python/2.7/site-packages/scipy-0.13.0.dev_c31f167_20130514-py2.7-macosx-10.8-intel.egg/scipy/optimize/zeros.py:149: RuntimeWarning: Tolerance of 5.27042019112e+15 reached\n",
        "  warnings.warn(msg, RuntimeWarning)\n"
       ]
      },
      {
       "output_type": "stream",
       "stream": "stderr",
       "text": [
        "/Library/Python/2.7/site-packages/scipy-0.13.0.dev_c31f167_20130514-py2.7-macosx-10.8-intel.egg/scipy/optimize/zeros.py:149: RuntimeWarning: Tolerance of 2.5778867047e+15 reached\n",
        "  warnings.warn(msg, RuntimeWarning)\n",
        "/Library/Python/2.7/site-packages/scipy-0.13.0.dev_c31f167_20130514-py2.7-macosx-10.8-intel.egg/scipy/optimize/zeros.py:149: RuntimeWarning: Tolerance of 1.05033569459e+13 reached\n",
        "  warnings.warn(msg, RuntimeWarning)\n"
       ]
      },
      {
       "output_type": "stream",
       "stream": "stderr",
       "text": [
        "/Library/Python/2.7/site-packages/scipy-0.13.0.dev_c31f167_20130514-py2.7-macosx-10.8-intel.egg/scipy/optimize/zeros.py:149: RuntimeWarning: Tolerance of -3.79038225822e+15 reached\n",
        "  warnings.warn(msg, RuntimeWarning)\n",
        "/Library/Python/2.7/site-packages/scipy-0.13.0.dev_c31f167_20130514-py2.7-macosx-10.8-intel.egg/scipy/optimize/zeros.py:149: RuntimeWarning: Tolerance of -1.28522114167e+15 reached\n",
        "  warnings.warn(msg, RuntimeWarning)\n"
       ]
      },
      {
       "output_type": "stream",
       "stream": "stderr",
       "text": [
        "/Library/Python/2.7/site-packages/scipy-0.13.0.dev_c31f167_20130514-py2.7-macosx-10.8-intel.egg/scipy/optimize/zeros.py:149: RuntimeWarning: Tolerance of -2.89628696227e+15 reached\n",
        "  warnings.warn(msg, RuntimeWarning)\n",
        "/Library/Python/2.7/site-packages/scipy-0.13.0.dev_c31f167_20130514-py2.7-macosx-10.8-intel.egg/scipy/optimize/zeros.py:149: RuntimeWarning: Tolerance of 9.90446639526e+14 reached\n",
        "  warnings.warn(msg, RuntimeWarning)\n"
       ]
      },
      {
       "output_type": "stream",
       "stream": "stderr",
       "text": [
        "/Library/Python/2.7/site-packages/scipy-0.13.0.dev_c31f167_20130514-py2.7-macosx-10.8-intel.egg/scipy/optimize/zeros.py:149: RuntimeWarning: Tolerance of 1.77877458438e+12 reached\n",
        "  warnings.warn(msg, RuntimeWarning)\n",
        "/Library/Python/2.7/site-packages/scipy-0.13.0.dev_c31f167_20130514-py2.7-macosx-10.8-intel.egg/scipy/optimize/zeros.py:149: RuntimeWarning: Tolerance of 8.84022492252e+13 reached\n",
        "  warnings.warn(msg, RuntimeWarning)\n"
       ]
      },
      {
       "output_type": "stream",
       "stream": "stderr",
       "text": [
        "/Library/Python/2.7/site-packages/scipy-0.13.0.dev_c31f167_20130514-py2.7-macosx-10.8-intel.egg/scipy/optimize/zeros.py:149: RuntimeWarning: Tolerance of 4.06601280432e+14 reached\n",
        "  warnings.warn(msg, RuntimeWarning)\n",
        "/Library/Python/2.7/site-packages/scipy-0.13.0.dev_c31f167_20130514-py2.7-macosx-10.8-intel.egg/scipy/optimize/zeros.py:149: RuntimeWarning: Tolerance of -1.62072973991e+16 reached\n",
        "  warnings.warn(msg, RuntimeWarning)\n"
       ]
      },
      {
       "output_type": "stream",
       "stream": "stdout",
       "text": [
        "\n",
        "deleting item T1map_LL"
       ]
      },
      {
       "output_type": "stream",
       "stream": "stdout",
       "text": [
        "\n",
        "deleting item T1map_LL_fitdict"
       ]
      },
      {
       "output_type": "stream",
       "stream": "stderr",
       "text": [
        "/Library/Python/2.7/site-packages/scipy-0.13.0.dev_c31f167_20130514-py2.7-macosx-10.8-intel.egg/scipy/optimize/zeros.py:149: RuntimeWarning: Tolerance of 1.0772180067e+14 reached\n",
        "  warnings.warn(msg, RuntimeWarning)\n",
        "WARNING:sarpy.io.BRUKERIO:NSLICES not equal to number of ACQ_obj_order\n"
       ]
      },
      {
       "output_type": "stream",
       "stream": "stderr",
       "text": [
        "/Library/Python/2.7/site-packages/scipy-0.13.0.dev_c31f167_20130514-py2.7-macosx-10.8-intel.egg/scipy/optimize/zeros.py:149: RuntimeWarning: Tolerance of 2.23220714762e+15 reached\n",
        "  warnings.warn(msg, RuntimeWarning)\n",
        "/Library/Python/2.7/site-packages/scipy-0.13.0.dev_c31f167_20130514-py2.7-macosx-10.8-intel.egg/scipy/optimize/zeros.py:149: RuntimeWarning: Tolerance of 5.17947437497e+14 reached\n",
        "  warnings.warn(msg, RuntimeWarning)\n"
       ]
      },
      {
       "output_type": "stream",
       "stream": "stderr",
       "text": [
        "/Library/Python/2.7/site-packages/scipy-0.13.0.dev_c31f167_20130514-py2.7-macosx-10.8-intel.egg/scipy/optimize/zeros.py:149: RuntimeWarning: Tolerance of -3.23532421931e+14 reached\n",
        "  warnings.warn(msg, RuntimeWarning)\n",
        "/Library/Python/2.7/site-packages/scipy-0.13.0.dev_c31f167_20130514-py2.7-macosx-10.8-intel.egg/scipy/optimize/zeros.py:149: RuntimeWarning: Tolerance of 3.64055315575e+13 reached\n",
        "  warnings.warn(msg, RuntimeWarning)\n"
       ]
      },
      {
       "output_type": "stream",
       "stream": "stderr",
       "text": [
        "/Library/Python/2.7/site-packages/scipy-0.13.0.dev_c31f167_20130514-py2.7-macosx-10.8-intel.egg/scipy/optimize/zeros.py:149: RuntimeWarning: Tolerance of -3.3516634726e+15 reached\n",
        "  warnings.warn(msg, RuntimeWarning)\n",
        "/Library/Python/2.7/site-packages/scipy-0.13.0.dev_c31f167_20130514-py2.7-macosx-10.8-intel.egg/scipy/optimize/zeros.py:149: RuntimeWarning: Tolerance of -5.85507690096e+15 reached\n",
        "  warnings.warn(msg, RuntimeWarning)\n"
       ]
      },
      {
       "output_type": "stream",
       "stream": "stderr",
       "text": [
        "/Library/Python/2.7/site-packages/scipy-0.13.0.dev_c31f167_20130514-py2.7-macosx-10.8-intel.egg/scipy/optimize/zeros.py:149: RuntimeWarning: Tolerance of -3.34602182496e+15 reached\n",
        "  warnings.warn(msg, RuntimeWarning)\n",
        "/Library/Python/2.7/site-packages/scipy-0.13.0.dev_c31f167_20130514-py2.7-macosx-10.8-intel.egg/scipy/optimize/zeros.py:149: RuntimeWarning: Tolerance of 1.86364688955e+14 reached\n",
        "  warnings.warn(msg, RuntimeWarning)\n"
       ]
      },
      {
       "output_type": "stream",
       "stream": "stderr",
       "text": [
        "/Library/Python/2.7/site-packages/scipy-0.13.0.dev_c31f167_20130514-py2.7-macosx-10.8-intel.egg/scipy/optimize/zeros.py:149: RuntimeWarning: Tolerance of 2.00202617538e+14 reached\n",
        "  warnings.warn(msg, RuntimeWarning)\n",
        "/Library/Python/2.7/site-packages/scipy-0.13.0.dev_c31f167_20130514-py2.7-macosx-10.8-intel.egg/scipy/optimize/zeros.py:149: RuntimeWarning: Tolerance of 7.80235301597e+12 reached\n",
        "  warnings.warn(msg, RuntimeWarning)\n"
       ]
      },
      {
       "output_type": "stream",
       "stream": "stderr",
       "text": [
        "/Library/Python/2.7/site-packages/scipy-0.13.0.dev_c31f167_20130514-py2.7-macosx-10.8-intel.egg/scipy/optimize/zeros.py:149: RuntimeWarning: Tolerance of -1.8160790205e-08 reached\n",
        "  warnings.warn(msg, RuntimeWarning)\n",
        "/Library/Python/2.7/site-packages/scipy-0.13.0.dev_c31f167_20130514-py2.7-macosx-10.8-intel.egg/scipy/optimize/zeros.py:149: RuntimeWarning: Tolerance of 1.94508620506e+14 reached\n",
        "  warnings.warn(msg, RuntimeWarning)\n"
       ]
      },
      {
       "output_type": "stream",
       "stream": "stderr",
       "text": [
        "/Library/Python/2.7/site-packages/scipy-0.13.0.dev_c31f167_20130514-py2.7-macosx-10.8-intel.egg/scipy/optimize/zeros.py:149: RuntimeWarning: Tolerance of 2.6287203058e+13 reached\n",
        "  warnings.warn(msg, RuntimeWarning)\n",
        "/Library/Python/2.7/site-packages/scipy-0.13.0.dev_c31f167_20130514-py2.7-macosx-10.8-intel.egg/scipy/optimize/zeros.py:149: RuntimeWarning: Tolerance of 1.2250288173e+15 reached\n",
        "  warnings.warn(msg, RuntimeWarning)\n"
       ]
      },
      {
       "output_type": "stream",
       "stream": "stderr",
       "text": [
        "/Library/Python/2.7/site-packages/scipy-0.13.0.dev_c31f167_20130514-py2.7-macosx-10.8-intel.egg/scipy/optimize/zeros.py:149: RuntimeWarning: Tolerance of -2.54164723929e+14 reached\n",
        "  warnings.warn(msg, RuntimeWarning)\n",
        "/Library/Python/2.7/site-packages/scipy-0.13.0.dev_c31f167_20130514-py2.7-macosx-10.8-intel.egg/scipy/optimize/zeros.py:149: RuntimeWarning: Tolerance of 5.30405504358e+13 reached\n",
        "  warnings.warn(msg, RuntimeWarning)\n"
       ]
      },
      {
       "output_type": "stream",
       "stream": "stdout",
       "text": [
        "\n",
        "deleting item T1map_LL"
       ]
      },
      {
       "output_type": "stream",
       "stream": "stdout",
       "text": [
        "\n",
        "deleting item T1map_LL_fitdict"
       ]
      },
      {
       "output_type": "stream",
       "stream": "stderr",
       "text": [
        "WARNING:sarpy.io.BRUKERIO:NSLICES not equal to number of ACQ_obj_order\n"
       ]
      },
      {
       "output_type": "stream",
       "stream": "stderr",
       "text": [
        "/Library/Python/2.7/site-packages/scipy-0.13.0.dev_c31f167_20130514-py2.7-macosx-10.8-intel.egg/scipy/optimize/zeros.py:149: RuntimeWarning: Tolerance of -1.26454004811e+12 reached\n",
        "  warnings.warn(msg, RuntimeWarning)\n",
        "/Library/Python/2.7/site-packages/scipy-0.13.0.dev_c31f167_20130514-py2.7-macosx-10.8-intel.egg/scipy/optimize/zeros.py:149: RuntimeWarning: Tolerance of 2.01288310135e+16 reached\n",
        "  warnings.warn(msg, RuntimeWarning)\n"
       ]
      },
      {
       "output_type": "stream",
       "stream": "stderr",
       "text": [
        "/Library/Python/2.7/site-packages/scipy-0.13.0.dev_c31f167_20130514-py2.7-macosx-10.8-intel.egg/scipy/optimize/zeros.py:149: RuntimeWarning: Tolerance of -2.34393738263e+12 reached\n",
        "  warnings.warn(msg, RuntimeWarning)\n",
        "/Library/Python/2.7/site-packages/scipy-0.13.0.dev_c31f167_20130514-py2.7-macosx-10.8-intel.egg/scipy/optimize/zeros.py:149: RuntimeWarning: Tolerance of 6.06479990294e+14 reached\n",
        "  warnings.warn(msg, RuntimeWarning)\n"
       ]
      },
      {
       "output_type": "stream",
       "stream": "stderr",
       "text": [
        "/Library/Python/2.7/site-packages/scipy-0.13.0.dev_c31f167_20130514-py2.7-macosx-10.8-intel.egg/scipy/optimize/zeros.py:149: RuntimeWarning: Tolerance of 2.08546591215e+15 reached\n",
        "  warnings.warn(msg, RuntimeWarning)\n",
        "/Library/Python/2.7/site-packages/scipy-0.13.0.dev_c31f167_20130514-py2.7-macosx-10.8-intel.egg/scipy/optimize/zeros.py:149: RuntimeWarning: Tolerance of -2.15386970558e+15 reached\n",
        "  warnings.warn(msg, RuntimeWarning)\n"
       ]
      },
      {
       "output_type": "stream",
       "stream": "stderr",
       "text": [
        "/Library/Python/2.7/site-packages/scipy-0.13.0.dev_c31f167_20130514-py2.7-macosx-10.8-intel.egg/scipy/optimize/zeros.py:149: RuntimeWarning: Tolerance of -9201841165.5 reached\n",
        "  warnings.warn(msg, RuntimeWarning)\n",
        "/Library/Python/2.7/site-packages/scipy-0.13.0.dev_c31f167_20130514-py2.7-macosx-10.8-intel.egg/scipy/optimize/zeros.py:149: RuntimeWarning: Tolerance of -1.02627735436e+14 reached\n",
        "  warnings.warn(msg, RuntimeWarning)\n"
       ]
      },
      {
       "output_type": "stream",
       "stream": "stderr",
       "text": [
        "/Library/Python/2.7/site-packages/scipy-0.13.0.dev_c31f167_20130514-py2.7-macosx-10.8-intel.egg/scipy/optimize/zeros.py:149: RuntimeWarning: Tolerance of -1.48005691825e+15 reached\n",
        "  warnings.warn(msg, RuntimeWarning)\n",
        "/Library/Python/2.7/site-packages/scipy-0.13.0.dev_c31f167_20130514-py2.7-macosx-10.8-intel.egg/scipy/optimize/zeros.py:149: RuntimeWarning: Tolerance of 1.74024098661e+15 reached\n",
        "  warnings.warn(msg, RuntimeWarning)\n"
       ]
      },
      {
       "output_type": "stream",
       "stream": "stderr",
       "text": [
        "/Library/Python/2.7/site-packages/scipy-0.13.0.dev_c31f167_20130514-py2.7-macosx-10.8-intel.egg/scipy/optimize/zeros.py:149: RuntimeWarning: Tolerance of 2.90267178165e+14 reached\n",
        "  warnings.warn(msg, RuntimeWarning)\n",
        "/Library/Python/2.7/site-packages/scipy-0.13.0.dev_c31f167_20130514-py2.7-macosx-10.8-intel.egg/scipy/optimize/zeros.py:149: RuntimeWarning: Tolerance of -6.51802744209e+15 reached\n",
        "  warnings.warn(msg, RuntimeWarning)\n"
       ]
      },
      {
       "output_type": "stream",
       "stream": "stdout",
       "text": [
        "\n",
        "deleting item T1map_LL"
       ]
      },
      {
       "output_type": "stream",
       "stream": "stdout",
       "text": [
        "\n",
        "deleting item T1map_LL_fitdict"
       ]
      },
      {
       "output_type": "stream",
       "stream": "stderr",
       "text": [
        "/Library/Python/2.7/site-packages/scipy-0.13.0.dev_c31f167_20130514-py2.7-macosx-10.8-intel.egg/scipy/optimize/zeros.py:149: RuntimeWarning: Tolerance of 1.09712232118e+14 reached\n",
        "  warnings.warn(msg, RuntimeWarning)\n",
        "WARNING:sarpy.io.BRUKERIO:NSLICES not equal to number of ACQ_obj_order\n"
       ]
      },
      {
       "output_type": "stream",
       "stream": "stderr",
       "text": [
        "/Library/Python/2.7/site-packages/scipy-0.13.0.dev_c31f167_20130514-py2.7-macosx-10.8-intel.egg/scipy/optimize/zeros.py:149: RuntimeWarning: Tolerance of 1.47279721113e+16 reached\n",
        "  warnings.warn(msg, RuntimeWarning)\n",
        "/Library/Python/2.7/site-packages/scipy-0.13.0.dev_c31f167_20130514-py2.7-macosx-10.8-intel.egg/scipy/optimize/zeros.py:149: RuntimeWarning: Tolerance of -8.47384856777e+13 reached\n",
        "  warnings.warn(msg, RuntimeWarning)\n"
       ]
      },
      {
       "output_type": "stream",
       "stream": "stderr",
       "text": [
        "/Library/Python/2.7/site-packages/scipy-0.13.0.dev_c31f167_20130514-py2.7-macosx-10.8-intel.egg/scipy/optimize/zeros.py:149: RuntimeWarning: Tolerance of -1.62469228187e+14 reached\n",
        "  warnings.warn(msg, RuntimeWarning)\n",
        "/Library/Python/2.7/site-packages/scipy-0.13.0.dev_c31f167_20130514-py2.7-macosx-10.8-intel.egg/scipy/optimize/zeros.py:149: RuntimeWarning: Tolerance of -5.79600991002e+14 reached\n",
        "  warnings.warn(msg, RuntimeWarning)\n"
       ]
      },
      {
       "output_type": "stream",
       "stream": "stderr",
       "text": [
        "/Library/Python/2.7/site-packages/scipy-0.13.0.dev_c31f167_20130514-py2.7-macosx-10.8-intel.egg/scipy/optimize/zeros.py:149: RuntimeWarning: Tolerance of 5.09673576911e+13 reached\n",
        "  warnings.warn(msg, RuntimeWarning)\n",
        "/Library/Python/2.7/site-packages/scipy-0.13.0.dev_c31f167_20130514-py2.7-macosx-10.8-intel.egg/scipy/optimize/zeros.py:149: RuntimeWarning: Tolerance of 2.16679371344e+16 reached\n",
        "  warnings.warn(msg, RuntimeWarning)\n"
       ]
      },
      {
       "output_type": "stream",
       "stream": "stderr",
       "text": [
        "/Library/Python/2.7/site-packages/scipy-0.13.0.dev_c31f167_20130514-py2.7-macosx-10.8-intel.egg/scipy/optimize/zeros.py:149: RuntimeWarning: Tolerance of 1.07795571004e+14 reached\n",
        "  warnings.warn(msg, RuntimeWarning)\n",
        "/Library/Python/2.7/site-packages/scipy-0.13.0.dev_c31f167_20130514-py2.7-macosx-10.8-intel.egg/scipy/optimize/zeros.py:149: RuntimeWarning: Tolerance of 2.57966416354e+14 reached\n",
        "  warnings.warn(msg, RuntimeWarning)\n"
       ]
      },
      {
       "output_type": "stream",
       "stream": "stderr",
       "text": [
        "/Library/Python/2.7/site-packages/scipy-0.13.0.dev_c31f167_20130514-py2.7-macosx-10.8-intel.egg/scipy/optimize/zeros.py:149: RuntimeWarning: Tolerance of 8.52329078843e+15 reached\n",
        "  warnings.warn(msg, RuntimeWarning)\n",
        "/Library/Python/2.7/site-packages/scipy-0.13.0.dev_c31f167_20130514-py2.7-macosx-10.8-intel.egg/scipy/optimize/zeros.py:149: RuntimeWarning: Tolerance of 1.51843739395e+16 reached\n",
        "  warnings.warn(msg, RuntimeWarning)\n"
       ]
      },
      {
       "output_type": "stream",
       "stream": "stderr",
       "text": [
        "/Library/Python/2.7/site-packages/scipy-0.13.0.dev_c31f167_20130514-py2.7-macosx-10.8-intel.egg/scipy/optimize/zeros.py:149: RuntimeWarning: Tolerance of -7.70746566881e+13 reached\n",
        "  warnings.warn(msg, RuntimeWarning)\n",
        "/Library/Python/2.7/site-packages/scipy-0.13.0.dev_c31f167_20130514-py2.7-macosx-10.8-intel.egg/scipy/optimize/zeros.py:149: RuntimeWarning: Tolerance of 8.60563844048e+12 reached\n",
        "  warnings.warn(msg, RuntimeWarning)\n"
       ]
      },
      {
       "output_type": "stream",
       "stream": "stdout",
       "text": [
        "\n",
        "deleting item T1map_LL"
       ]
      },
      {
       "output_type": "stream",
       "stream": "stdout",
       "text": [
        "\n",
        "deleting item T1map_LL_fitdict"
       ]
      },
      {
       "output_type": "stream",
       "stream": "stderr",
       "text": [
        "/Library/Python/2.7/site-packages/scipy-0.13.0.dev_c31f167_20130514-py2.7-macosx-10.8-intel.egg/scipy/optimize/zeros.py:149: RuntimeWarning: Tolerance of 2.58915332162e+15 reached\n",
        "  warnings.warn(msg, RuntimeWarning)\n",
        "WARNING:sarpy.io.BRUKERIO:NSLICES not equal to number of ACQ_obj_order\n"
       ]
      },
      {
       "output_type": "stream",
       "stream": "stderr",
       "text": [
        "/Library/Python/2.7/site-packages/scipy-0.13.0.dev_c31f167_20130514-py2.7-macosx-10.8-intel.egg/scipy/optimize/zeros.py:149: RuntimeWarning: Tolerance of -1.48077304404e+14 reached\n",
        "  warnings.warn(msg, RuntimeWarning)\n",
        "/Library/Python/2.7/site-packages/scipy-0.13.0.dev_c31f167_20130514-py2.7-macosx-10.8-intel.egg/scipy/optimize/zeros.py:149: RuntimeWarning: Tolerance of 1.57355489895e+16 reached\n",
        "  warnings.warn(msg, RuntimeWarning)\n"
       ]
      },
      {
       "output_type": "stream",
       "stream": "stderr",
       "text": [
        "/Library/Python/2.7/site-packages/scipy-0.13.0.dev_c31f167_20130514-py2.7-macosx-10.8-intel.egg/scipy/optimize/zeros.py:149: RuntimeWarning: Tolerance of 1.25262279127e+14 reached\n",
        "  warnings.warn(msg, RuntimeWarning)\n",
        "/Library/Python/2.7/site-packages/scipy-0.13.0.dev_c31f167_20130514-py2.7-macosx-10.8-intel.egg/scipy/optimize/zeros.py:149: RuntimeWarning: Tolerance of 8.55971399728e+14 reached\n",
        "  warnings.warn(msg, RuntimeWarning)\n"
       ]
      },
      {
       "output_type": "stream",
       "stream": "stderr",
       "text": [
        "/Library/Python/2.7/site-packages/scipy-0.13.0.dev_c31f167_20130514-py2.7-macosx-10.8-intel.egg/scipy/optimize/zeros.py:149: RuntimeWarning: Tolerance of -8.14134144363e+14 reached\n",
        "  warnings.warn(msg, RuntimeWarning)\n",
        "/Library/Python/2.7/site-packages/scipy-0.13.0.dev_c31f167_20130514-py2.7-macosx-10.8-intel.egg/scipy/optimize/zeros.py:149: RuntimeWarning: Tolerance of 2.25427295117e+16 reached\n",
        "  warnings.warn(msg, RuntimeWarning)\n"
       ]
      },
      {
       "output_type": "stream",
       "stream": "stderr",
       "text": [
        "/Library/Python/2.7/site-packages/scipy-0.13.0.dev_c31f167_20130514-py2.7-macosx-10.8-intel.egg/scipy/optimize/zeros.py:149: RuntimeWarning: Tolerance of 7.13738339651e+14 reached\n",
        "  warnings.warn(msg, RuntimeWarning)\n",
        "/Library/Python/2.7/site-packages/scipy-0.13.0.dev_c31f167_20130514-py2.7-macosx-10.8-intel.egg/scipy/optimize/zeros.py:149: RuntimeWarning: Tolerance of 4.67136128654e+14 reached\n",
        "  warnings.warn(msg, RuntimeWarning)\n"
       ]
      },
      {
       "output_type": "stream",
       "stream": "stderr",
       "text": [
        "/Library/Python/2.7/site-packages/scipy-0.13.0.dev_c31f167_20130514-py2.7-macosx-10.8-intel.egg/scipy/optimize/zeros.py:149: RuntimeWarning: Tolerance of 5.06932983898e+14 reached\n",
        "  warnings.warn(msg, RuntimeWarning)\n",
        "/Library/Python/2.7/site-packages/scipy-0.13.0.dev_c31f167_20130514-py2.7-macosx-10.8-intel.egg/scipy/optimize/zeros.py:149: RuntimeWarning: Tolerance of 423994728080.0 reached\n",
        "  warnings.warn(msg, RuntimeWarning)\n"
       ]
      },
      {
       "output_type": "stream",
       "stream": "stderr",
       "text": [
        "/Library/Python/2.7/site-packages/scipy-0.13.0.dev_c31f167_20130514-py2.7-macosx-10.8-intel.egg/scipy/optimize/zeros.py:149: RuntimeWarning: Tolerance of -1.12856068173e+14 reached\n",
        "  warnings.warn(msg, RuntimeWarning)\n",
        "/Library/Python/2.7/site-packages/scipy-0.13.0.dev_c31f167_20130514-py2.7-macosx-10.8-intel.egg/scipy/optimize/zeros.py:149: RuntimeWarning: Tolerance of 1.48623026114e+14 reached\n",
        "  warnings.warn(msg, RuntimeWarning)\n"
       ]
      },
      {
       "output_type": "stream",
       "stream": "stderr",
       "text": [
        "/Library/Python/2.7/site-packages/scipy-0.13.0.dev_c31f167_20130514-py2.7-macosx-10.8-intel.egg/scipy/optimize/zeros.py:149: RuntimeWarning: Tolerance of -3.35917095271e+15 reached\n",
        "  warnings.warn(msg, RuntimeWarning)\n",
        "/Library/Python/2.7/site-packages/scipy-0.13.0.dev_c31f167_20130514-py2.7-macosx-10.8-intel.egg/scipy/optimize/zeros.py:149: RuntimeWarning: Tolerance of 1.0436085964e+14 reached\n",
        "  warnings.warn(msg, RuntimeWarning)\n"
       ]
      },
      {
       "output_type": "stream",
       "stream": "stderr",
       "text": [
        "/Library/Python/2.7/site-packages/scipy-0.13.0.dev_c31f167_20130514-py2.7-macosx-10.8-intel.egg/scipy/optimize/zeros.py:149: RuntimeWarning: Tolerance of -1.73434906025e+15 reached\n",
        "  warnings.warn(msg, RuntimeWarning)\n",
        "/Library/Python/2.7/site-packages/scipy-0.13.0.dev_c31f167_20130514-py2.7-macosx-10.8-intel.egg/scipy/optimize/zeros.py:149: RuntimeWarning: Tolerance of -1.26000531902e+16 reached\n",
        "  warnings.warn(msg, RuntimeWarning)\n"
       ]
      },
      {
       "output_type": "stream",
       "stream": "stderr",
       "text": [
        "/Library/Python/2.7/site-packages/scipy-0.13.0.dev_c31f167_20130514-py2.7-macosx-10.8-intel.egg/scipy/optimize/zeros.py:149: RuntimeWarning: Tolerance of 3.09974225903e+15 reached\n",
        "  warnings.warn(msg, RuntimeWarning)\n",
        "/Library/Python/2.7/site-packages/scipy-0.13.0.dev_c31f167_20130514-py2.7-macosx-10.8-intel.egg/scipy/optimize/zeros.py:149: RuntimeWarning: Tolerance of 5.2466744186e+15 reached\n",
        "  warnings.warn(msg, RuntimeWarning)\n"
       ]
      },
      {
       "output_type": "stream",
       "stream": "stderr",
       "text": [
        "/Library/Python/2.7/site-packages/scipy-0.13.0.dev_c31f167_20130514-py2.7-macosx-10.8-intel.egg/scipy/optimize/zeros.py:149: RuntimeWarning: Tolerance of 2.85366725791e+14 reached\n",
        "  warnings.warn(msg, RuntimeWarning)\n",
        "/Library/Python/2.7/site-packages/scipy-0.13.0.dev_c31f167_20130514-py2.7-macosx-10.8-intel.egg/scipy/optimize/zeros.py:149: RuntimeWarning: Tolerance of -3.90516354697e+14 reached\n",
        "  warnings.warn(msg, RuntimeWarning)\n"
       ]
      },
      {
       "output_type": "stream",
       "stream": "stdout",
       "text": [
        "\n",
        "deleting item T1map_LL"
       ]
      },
      {
       "output_type": "stream",
       "stream": "stdout",
       "text": [
        "\n",
        "deleting item T1map_LL_fitdict"
       ]
      },
      {
       "output_type": "stream",
       "stream": "stderr",
       "text": [
        "WARNING:sarpy.io.BRUKERIO:NSLICES not equal to number of ACQ_obj_order\n"
       ]
      },
      {
       "output_type": "stream",
       "stream": "stderr",
       "text": [
        "/Library/Python/2.7/site-packages/scipy-0.13.0.dev_c31f167_20130514-py2.7-macosx-10.8-intel.egg/scipy/optimize/zeros.py:149: RuntimeWarning: Tolerance of -3.9332592911e+15 reached\n",
        "  warnings.warn(msg, RuntimeWarning)\n",
        "/Library/Python/2.7/site-packages/scipy-0.13.0.dev_c31f167_20130514-py2.7-macosx-10.8-intel.egg/scipy/optimize/zeros.py:149: RuntimeWarning: Tolerance of -6.94582866873e+15 reached\n",
        "  warnings.warn(msg, RuntimeWarning)\n"
       ]
      },
      {
       "output_type": "stream",
       "stream": "stderr",
       "text": [
        "/Library/Python/2.7/site-packages/scipy-0.13.0.dev_c31f167_20130514-py2.7-macosx-10.8-intel.egg/scipy/optimize/zeros.py:149: RuntimeWarning: Tolerance of 5.02679034203e+13 reached\n",
        "  warnings.warn(msg, RuntimeWarning)\n",
        "/Library/Python/2.7/site-packages/scipy-0.13.0.dev_c31f167_20130514-py2.7-macosx-10.8-intel.egg/scipy/optimize/zeros.py:149: RuntimeWarning: Tolerance of 9.99739583356e+14 reached\n",
        "  warnings.warn(msg, RuntimeWarning)\n"
       ]
      },
      {
       "output_type": "stream",
       "stream": "stdout",
       "text": [
        "\n",
        "deleting item T1map_LL"
       ]
      },
      {
       "output_type": "stream",
       "stream": "stdout",
       "text": [
        "\n",
        "deleting item T1map_LL_fitdict"
       ]
      },
      {
       "output_type": "stream",
       "stream": "stderr",
       "text": [
        "/Library/Python/2.7/site-packages/scipy-0.13.0.dev_c31f167_20130514-py2.7-macosx-10.8-intel.egg/scipy/optimize/zeros.py:149: RuntimeWarning: Tolerance of -3.01770502244e+15 reached\n",
        "  warnings.warn(msg, RuntimeWarning)\n",
        "WARNING:sarpy.io.BRUKERIO:NSLICES not equal to number of ACQ_obj_order\n"
       ]
      },
      {
       "output_type": "stream",
       "stream": "stderr",
       "text": [
        "/Library/Python/2.7/site-packages/scipy-0.13.0.dev_c31f167_20130514-py2.7-macosx-10.8-intel.egg/scipy/optimize/zeros.py:149: RuntimeWarning: Tolerance of 1.49089511351e+15 reached\n",
        "  warnings.warn(msg, RuntimeWarning)\n",
        "/Library/Python/2.7/site-packages/scipy-0.13.0.dev_c31f167_20130514-py2.7-macosx-10.8-intel.egg/scipy/optimize/zeros.py:149: RuntimeWarning: Tolerance of -2.09430456955e+14 reached\n",
        "  warnings.warn(msg, RuntimeWarning)\n"
       ]
      },
      {
       "output_type": "stream",
       "stream": "stderr",
       "text": [
        "/Library/Python/2.7/site-packages/scipy-0.13.0.dev_c31f167_20130514-py2.7-macosx-10.8-intel.egg/scipy/optimize/zeros.py:149: RuntimeWarning: Tolerance of 6.20305688744e+15 reached\n",
        "  warnings.warn(msg, RuntimeWarning)\n",
        "/Library/Python/2.7/site-packages/scipy-0.13.0.dev_c31f167_20130514-py2.7-macosx-10.8-intel.egg/scipy/optimize/zeros.py:149: RuntimeWarning: Tolerance of 2.63274169108e+15 reached\n",
        "  warnings.warn(msg, RuntimeWarning)\n"
       ]
      },
      {
       "output_type": "stream",
       "stream": "stderr",
       "text": [
        "/Library/Python/2.7/site-packages/scipy-0.13.0.dev_c31f167_20130514-py2.7-macosx-10.8-intel.egg/scipy/optimize/zeros.py:149: RuntimeWarning: Tolerance of 4.32438124006e+15 reached\n",
        "  warnings.warn(msg, RuntimeWarning)\n",
        "/Library/Python/2.7/site-packages/scipy-0.13.0.dev_c31f167_20130514-py2.7-macosx-10.8-intel.egg/scipy/optimize/zeros.py:149: RuntimeWarning: Tolerance of 7.24521870809e+13 reached\n",
        "  warnings.warn(msg, RuntimeWarning)\n"
       ]
      },
      {
       "output_type": "stream",
       "stream": "stderr",
       "text": [
        "/Library/Python/2.7/site-packages/scipy-0.13.0.dev_c31f167_20130514-py2.7-macosx-10.8-intel.egg/scipy/optimize/zeros.py:149: RuntimeWarning: Tolerance of 2.88236277579e+15 reached\n",
        "  warnings.warn(msg, RuntimeWarning)\n",
        "/Library/Python/2.7/site-packages/scipy-0.13.0.dev_c31f167_20130514-py2.7-macosx-10.8-intel.egg/scipy/optimize/zeros.py:149: RuntimeWarning: Tolerance of -4.88869133642e+14 reached\n",
        "  warnings.warn(msg, RuntimeWarning)\n"
       ]
      },
      {
       "output_type": "stream",
       "stream": "stderr",
       "text": [
        "/Library/Python/2.7/site-packages/scipy-0.13.0.dev_c31f167_20130514-py2.7-macosx-10.8-intel.egg/scipy/optimize/zeros.py:149: RuntimeWarning: Tolerance of 3.22249579346e+15 reached\n",
        "  warnings.warn(msg, RuntimeWarning)\n",
        "/Library/Python/2.7/site-packages/scipy-0.13.0.dev_c31f167_20130514-py2.7-macosx-10.8-intel.egg/scipy/optimize/zeros.py:149: RuntimeWarning: Tolerance of 2.05341601842e+12 reached\n",
        "  warnings.warn(msg, RuntimeWarning)\n"
       ]
      },
      {
       "output_type": "stream",
       "stream": "stderr",
       "text": [
        "/Library/Python/2.7/site-packages/scipy-0.13.0.dev_c31f167_20130514-py2.7-macosx-10.8-intel.egg/scipy/optimize/zeros.py:149: RuntimeWarning: Tolerance of -6.69361264335e+14 reached\n",
        "  warnings.warn(msg, RuntimeWarning)\n",
        "/Library/Python/2.7/site-packages/scipy-0.13.0.dev_c31f167_20130514-py2.7-macosx-10.8-intel.egg/scipy/optimize/zeros.py:149: RuntimeWarning: Tolerance of 5.97578855055e+15 reached\n",
        "  warnings.warn(msg, RuntimeWarning)\n"
       ]
      },
      {
       "output_type": "stream",
       "stream": "stderr",
       "text": [
        "/Library/Python/2.7/site-packages/scipy-0.13.0.dev_c31f167_20130514-py2.7-macosx-10.8-intel.egg/scipy/optimize/zeros.py:149: RuntimeWarning: Tolerance of 3.53031895397e+14 reached\n",
        "  warnings.warn(msg, RuntimeWarning)\n",
        "/Library/Python/2.7/site-packages/scipy-0.13.0.dev_c31f167_20130514-py2.7-macosx-10.8-intel.egg/scipy/optimize/zeros.py:149: RuntimeWarning: Tolerance of 2.99523416307e+15 reached\n",
        "  warnings.warn(msg, RuntimeWarning)\n"
       ]
      },
      {
       "output_type": "stream",
       "stream": "stderr",
       "text": [
        "/Library/Python/2.7/site-packages/scipy-0.13.0.dev_c31f167_20130514-py2.7-macosx-10.8-intel.egg/scipy/optimize/zeros.py:149: RuntimeWarning: Tolerance of 8.47062150643e+12 reached\n",
        "  warnings.warn(msg, RuntimeWarning)\n",
        "/Library/Python/2.7/site-packages/scipy-0.13.0.dev_c31f167_20130514-py2.7-macosx-10.8-intel.egg/scipy/optimize/zeros.py:149: RuntimeWarning: Tolerance of 1.14831083291e+15 reached\n",
        "  warnings.warn(msg, RuntimeWarning)\n"
       ]
      },
      {
       "output_type": "stream",
       "stream": "stdout",
       "text": [
        "\n",
        "deleting item T1map_LL"
       ]
      },
      {
       "output_type": "stream",
       "stream": "stdout",
       "text": [
        "\n",
        "deleting item T1map_LL_fitdict"
       ]
      },
      {
       "output_type": "stream",
       "stream": "stderr",
       "text": [
        "/Library/Python/2.7/site-packages/scipy-0.13.0.dev_c31f167_20130514-py2.7-macosx-10.8-intel.egg/scipy/optimize/zeros.py:149: RuntimeWarning: Tolerance of -6.41815488363e+15 reached\n",
        "  warnings.warn(msg, RuntimeWarning)\n",
        "WARNING:sarpy.io.BRUKERIO:NSLICES not equal to number of ACQ_obj_order\n"
       ]
      },
      {
       "output_type": "stream",
       "stream": "stderr",
       "text": [
        "/Library/Python/2.7/site-packages/scipy-0.13.0.dev_c31f167_20130514-py2.7-macosx-10.8-intel.egg/scipy/optimize/zeros.py:149: RuntimeWarning: Tolerance of 2.48832842654e+14 reached\n",
        "  warnings.warn(msg, RuntimeWarning)\n",
        "/Library/Python/2.7/site-packages/scipy-0.13.0.dev_c31f167_20130514-py2.7-macosx-10.8-intel.egg/scipy/optimize/zeros.py:149: RuntimeWarning: Tolerance of 31706568578.0 reached\n",
        "  warnings.warn(msg, RuntimeWarning)\n"
       ]
      },
      {
       "output_type": "stream",
       "stream": "stderr",
       "text": [
        "/Library/Python/2.7/site-packages/scipy-0.13.0.dev_c31f167_20130514-py2.7-macosx-10.8-intel.egg/scipy/optimize/zeros.py:149: RuntimeWarning: Tolerance of -2.08579309812e+12 reached\n",
        "  warnings.warn(msg, RuntimeWarning)\n",
        "/Library/Python/2.7/site-packages/scipy-0.13.0.dev_c31f167_20130514-py2.7-macosx-10.8-intel.egg/scipy/optimize/zeros.py:149: RuntimeWarning: Tolerance of 198276175594.0 reached\n",
        "  warnings.warn(msg, RuntimeWarning)\n"
       ]
      },
      {
       "output_type": "stream",
       "stream": "stderr",
       "text": [
        "/Library/Python/2.7/site-packages/scipy-0.13.0.dev_c31f167_20130514-py2.7-macosx-10.8-intel.egg/scipy/optimize/zeros.py:149: RuntimeWarning: Tolerance of -3.89763412133e+15 reached\n",
        "  warnings.warn(msg, RuntimeWarning)\n",
        "/Library/Python/2.7/site-packages/scipy-0.13.0.dev_c31f167_20130514-py2.7-macosx-10.8-intel.egg/scipy/optimize/zeros.py:149: RuntimeWarning: Tolerance of 1.65643657784e+16 reached\n",
        "  warnings.warn(msg, RuntimeWarning)\n"
       ]
      },
      {
       "output_type": "stream",
       "stream": "stderr",
       "text": [
        "/Library/Python/2.7/site-packages/scipy-0.13.0.dev_c31f167_20130514-py2.7-macosx-10.8-intel.egg/scipy/optimize/zeros.py:149: RuntimeWarning: Tolerance of -3.10361335436e+15 reached\n",
        "  warnings.warn(msg, RuntimeWarning)\n",
        "/Library/Python/2.7/site-packages/scipy-0.13.0.dev_c31f167_20130514-py2.7-macosx-10.8-intel.egg/scipy/optimize/zeros.py:149: RuntimeWarning: Tolerance of -5.70269714871e+15 reached\n",
        "  warnings.warn(msg, RuntimeWarning)\n"
       ]
      },
      {
       "output_type": "stream",
       "stream": "stderr",
       "text": [
        "/Library/Python/2.7/site-packages/scipy-0.13.0.dev_c31f167_20130514-py2.7-macosx-10.8-intel.egg/scipy/optimize/zeros.py:149: RuntimeWarning: Tolerance of -2.67066727339e+14 reached\n",
        "  warnings.warn(msg, RuntimeWarning)\n",
        "/Library/Python/2.7/site-packages/scipy-0.13.0.dev_c31f167_20130514-py2.7-macosx-10.8-intel.egg/scipy/optimize/zeros.py:149: RuntimeWarning: Tolerance of -9.23193779392e+15 reached\n",
        "  warnings.warn(msg, RuntimeWarning)\n"
       ]
      },
      {
       "output_type": "stream",
       "stream": "stderr",
       "text": [
        "/Library/Python/2.7/site-packages/scipy-0.13.0.dev_c31f167_20130514-py2.7-macosx-10.8-intel.egg/scipy/optimize/zeros.py:149: RuntimeWarning: Tolerance of -4.59266267172e+15 reached\n",
        "  warnings.warn(msg, RuntimeWarning)\n",
        "/Library/Python/2.7/site-packages/scipy-0.13.0.dev_c31f167_20130514-py2.7-macosx-10.8-intel.egg/scipy/optimize/zeros.py:149: RuntimeWarning: Tolerance of -3.11273166977e+14 reached\n",
        "  warnings.warn(msg, RuntimeWarning)\n"
       ]
      },
      {
       "output_type": "stream",
       "stream": "stderr",
       "text": [
        "/Library/Python/2.7/site-packages/scipy-0.13.0.dev_c31f167_20130514-py2.7-macosx-10.8-intel.egg/scipy/optimize/zeros.py:149: RuntimeWarning: Tolerance of 1.47038179066e+16 reached\n",
        "  warnings.warn(msg, RuntimeWarning)\n",
        "/Library/Python/2.7/site-packages/scipy-0.13.0.dev_c31f167_20130514-py2.7-macosx-10.8-intel.egg/scipy/optimize/zeros.py:149: RuntimeWarning: Tolerance of -1.93438287901e+15 reached\n",
        "  warnings.warn(msg, RuntimeWarning)\n"
       ]
      },
      {
       "output_type": "stream",
       "stream": "stderr",
       "text": [
        "/Library/Python/2.7/site-packages/scipy-0.13.0.dev_c31f167_20130514-py2.7-macosx-10.8-intel.egg/scipy/optimize/zeros.py:149: RuntimeWarning: Tolerance of 5.106349053e+15 reached\n",
        "  warnings.warn(msg, RuntimeWarning)\n",
        "/Library/Python/2.7/site-packages/scipy-0.13.0.dev_c31f167_20130514-py2.7-macosx-10.8-intel.egg/scipy/optimize/zeros.py:149: RuntimeWarning: Tolerance of -1.48494994142e+15 reached\n",
        "  warnings.warn(msg, RuntimeWarning)\n"
       ]
      },
      {
       "output_type": "stream",
       "stream": "stderr",
       "text": [
        "/Library/Python/2.7/site-packages/scipy-0.13.0.dev_c31f167_20130514-py2.7-macosx-10.8-intel.egg/scipy/optimize/zeros.py:149: RuntimeWarning: Tolerance of -3.01472492876e+14 reached\n",
        "  warnings.warn(msg, RuntimeWarning)\n",
        "/Library/Python/2.7/site-packages/scipy-0.13.0.dev_c31f167_20130514-py2.7-macosx-10.8-intel.egg/scipy/optimize/zeros.py:149: RuntimeWarning: Tolerance of 1.02027278011e+15 reached\n",
        "  warnings.warn(msg, RuntimeWarning)\n"
       ]
      },
      {
       "output_type": "stream",
       "stream": "stderr",
       "text": [
        "/Library/Python/2.7/site-packages/scipy-0.13.0.dev_c31f167_20130514-py2.7-macosx-10.8-intel.egg/scipy/optimize/zeros.py:149: RuntimeWarning: Tolerance of -7.42252187611e+14 reached\n",
        "  warnings.warn(msg, RuntimeWarning)\n",
        "/Library/Python/2.7/site-packages/scipy-0.13.0.dev_c31f167_20130514-py2.7-macosx-10.8-intel.egg/scipy/optimize/zeros.py:149: RuntimeWarning: Tolerance of -1.36134299139e+14 reached\n",
        "  warnings.warn(msg, RuntimeWarning)\n"
       ]
      },
      {
       "output_type": "stream",
       "stream": "stderr",
       "text": [
        "/Library/Python/2.7/site-packages/scipy-0.13.0.dev_c31f167_20130514-py2.7-macosx-10.8-intel.egg/scipy/optimize/zeros.py:149: RuntimeWarning: Tolerance of -183512904208.0 reached\n",
        "  warnings.warn(msg, RuntimeWarning)\n",
        "/Library/Python/2.7/site-packages/scipy-0.13.0.dev_c31f167_20130514-py2.7-macosx-10.8-intel.egg/scipy/optimize/zeros.py:149: RuntimeWarning: Tolerance of 2.62110986507e+14 reached\n",
        "  warnings.warn(msg, RuntimeWarning)\n"
       ]
      },
      {
       "output_type": "stream",
       "stream": "stderr",
       "text": [
        "/Library/Python/2.7/site-packages/scipy-0.13.0.dev_c31f167_20130514-py2.7-macosx-10.8-intel.egg/scipy/optimize/zeros.py:149: RuntimeWarning: Tolerance of -1.67196578836e+14 reached\n",
        "  warnings.warn(msg, RuntimeWarning)\n",
        "/Library/Python/2.7/site-packages/scipy-0.13.0.dev_c31f167_20130514-py2.7-macosx-10.8-intel.egg/scipy/optimize/zeros.py:149: RuntimeWarning: Tolerance of -6.27649919417e+14 reached\n",
        "  warnings.warn(msg, RuntimeWarning)\n"
       ]
      },
      {
       "output_type": "stream",
       "stream": "stderr",
       "text": [
        "/Library/Python/2.7/site-packages/scipy-0.13.0.dev_c31f167_20130514-py2.7-macosx-10.8-intel.egg/scipy/optimize/zeros.py:149: RuntimeWarning: Tolerance of -5.90544260659e+14 reached\n",
        "  warnings.warn(msg, RuntimeWarning)\n",
        "/Library/Python/2.7/site-packages/scipy-0.13.0.dev_c31f167_20130514-py2.7-macosx-10.8-intel.egg/scipy/optimize/zeros.py:149: RuntimeWarning: Tolerance of 1.40746327385e+16 reached\n",
        "  warnings.warn(msg, RuntimeWarning)\n"
       ]
      },
      {
       "output_type": "stream",
       "stream": "stderr",
       "text": [
        "/Library/Python/2.7/site-packages/scipy-0.13.0.dev_c31f167_20130514-py2.7-macosx-10.8-intel.egg/scipy/optimize/zeros.py:149: RuntimeWarning: Tolerance of -5.56718569982e+15 reached\n",
        "  warnings.warn(msg, RuntimeWarning)\n",
        "/Library/Python/2.7/site-packages/scipy-0.13.0.dev_c31f167_20130514-py2.7-macosx-10.8-intel.egg/scipy/optimize/zeros.py:149: RuntimeWarning: Tolerance of 1.14512523891e+15 reached\n",
        "  warnings.warn(msg, RuntimeWarning)\n"
       ]
      },
      {
       "output_type": "stream",
       "stream": "stderr",
       "text": [
        "/Library/Python/2.7/site-packages/scipy-0.13.0.dev_c31f167_20130514-py2.7-macosx-10.8-intel.egg/scipy/optimize/zeros.py:149: RuntimeWarning: Tolerance of 1.19290867836e+15 reached\n",
        "  warnings.warn(msg, RuntimeWarning)\n",
        "/Library/Python/2.7/site-packages/scipy-0.13.0.dev_c31f167_20130514-py2.7-macosx-10.8-intel.egg/scipy/optimize/zeros.py:149: RuntimeWarning: Tolerance of 1.71201678612e+15 reached\n",
        "  warnings.warn(msg, RuntimeWarning)\n"
       ]
      },
      {
       "output_type": "stream",
       "stream": "stderr",
       "text": [
        "/Library/Python/2.7/site-packages/scipy-0.13.0.dev_c31f167_20130514-py2.7-macosx-10.8-intel.egg/scipy/optimize/zeros.py:149: RuntimeWarning: Tolerance of -1.85892980088e+16 reached\n",
        "  warnings.warn(msg, RuntimeWarning)\n",
        "/Library/Python/2.7/site-packages/scipy-0.13.0.dev_c31f167_20130514-py2.7-macosx-10.8-intel.egg/scipy/optimize/zeros.py:149: RuntimeWarning: Tolerance of 4.65059740898e+15 reached\n",
        "  warnings.warn(msg, RuntimeWarning)\n"
       ]
      },
      {
       "output_type": "stream",
       "stream": "stderr",
       "text": [
        "/Library/Python/2.7/site-packages/scipy-0.13.0.dev_c31f167_20130514-py2.7-macosx-10.8-intel.egg/scipy/optimize/zeros.py:149: RuntimeWarning: Tolerance of 2.59144625231e+15 reached\n",
        "  warnings.warn(msg, RuntimeWarning)\n",
        "/Library/Python/2.7/site-packages/scipy-0.13.0.dev_c31f167_20130514-py2.7-macosx-10.8-intel.egg/scipy/optimize/zeros.py:149: RuntimeWarning: Tolerance of 1.13687567197e+14 reached\n",
        "  warnings.warn(msg, RuntimeWarning)\n"
       ]
      },
      {
       "output_type": "stream",
       "stream": "stderr",
       "text": [
        "/Library/Python/2.7/site-packages/scipy-0.13.0.dev_c31f167_20130514-py2.7-macosx-10.8-intel.egg/scipy/optimize/zeros.py:149: RuntimeWarning: Tolerance of -3.55357188115e+15 reached\n",
        "  warnings.warn(msg, RuntimeWarning)\n",
        "/Library/Python/2.7/site-packages/scipy-0.13.0.dev_c31f167_20130514-py2.7-macosx-10.8-intel.egg/scipy/optimize/zeros.py:149: RuntimeWarning: Tolerance of -4.33858320091e+14 reached\n",
        "  warnings.warn(msg, RuntimeWarning)\n"
       ]
      },
      {
       "output_type": "stream",
       "stream": "stdout",
       "text": [
        "\n",
        "deleting item T1map_LL"
       ]
      },
      {
       "output_type": "stream",
       "stream": "stdout",
       "text": [
        "\n",
        "deleting item T1map_LL_fitdict"
       ]
      },
      {
       "output_type": "stream",
       "stream": "stderr",
       "text": [
        "WARNING:sarpy.io.BRUKERIO:NSLICES not equal to number of ACQ_obj_order\n"
       ]
      },
      {
       "output_type": "stream",
       "stream": "stderr",
       "text": [
        "/Library/Python/2.7/site-packages/scipy-0.13.0.dev_c31f167_20130514-py2.7-macosx-10.8-intel.egg/scipy/optimize/zeros.py:149: RuntimeWarning: Tolerance of 1.52899276241e+15 reached\n",
        "  warnings.warn(msg, RuntimeWarning)\n",
        "/Library/Python/2.7/site-packages/scipy-0.13.0.dev_c31f167_20130514-py2.7-macosx-10.8-intel.egg/scipy/optimize/zeros.py:149: RuntimeWarning: Tolerance of -6.65728759283e+15 reached\n",
        "  warnings.warn(msg, RuntimeWarning)\n"
       ]
      },
      {
       "output_type": "stream",
       "stream": "stderr",
       "text": [
        "/Library/Python/2.7/site-packages/scipy-0.13.0.dev_c31f167_20130514-py2.7-macosx-10.8-intel.egg/scipy/optimize/zeros.py:149: RuntimeWarning: Tolerance of 8.44734348282e+15 reached\n",
        "  warnings.warn(msg, RuntimeWarning)\n",
        "/Library/Python/2.7/site-packages/scipy-0.13.0.dev_c31f167_20130514-py2.7-macosx-10.8-intel.egg/scipy/optimize/zeros.py:149: RuntimeWarning: Tolerance of 2.92190988839e+15 reached\n",
        "  warnings.warn(msg, RuntimeWarning)\n"
       ]
      },
      {
       "output_type": "stream",
       "stream": "stderr",
       "text": [
        "/Library/Python/2.7/site-packages/scipy-0.13.0.dev_c31f167_20130514-py2.7-macosx-10.8-intel.egg/scipy/optimize/zeros.py:149: RuntimeWarning: Tolerance of -1.16203426653e+15 reached\n",
        "  warnings.warn(msg, RuntimeWarning)\n",
        "/Library/Python/2.7/site-packages/scipy-0.13.0.dev_c31f167_20130514-py2.7-macosx-10.8-intel.egg/scipy/optimize/zeros.py:149: RuntimeWarning: Tolerance of 3.82667908535e+15 reached\n",
        "  warnings.warn(msg, RuntimeWarning)\n"
       ]
      },
      {
       "output_type": "stream",
       "stream": "stderr",
       "text": [
        "/Library/Python/2.7/site-packages/scipy-0.13.0.dev_c31f167_20130514-py2.7-macosx-10.8-intel.egg/scipy/optimize/zeros.py:149: RuntimeWarning: Tolerance of -4.61949401457e+13 reached\n",
        "  warnings.warn(msg, RuntimeWarning)\n",
        "/Library/Python/2.7/site-packages/scipy-0.13.0.dev_c31f167_20130514-py2.7-macosx-10.8-intel.egg/scipy/optimize/zeros.py:149: RuntimeWarning: Tolerance of 5.00453745257e+15 reached\n",
        "  warnings.warn(msg, RuntimeWarning)\n"
       ]
      },
      {
       "output_type": "stream",
       "stream": "stderr",
       "text": [
        "/Library/Python/2.7/site-packages/scipy-0.13.0.dev_c31f167_20130514-py2.7-macosx-10.8-intel.egg/scipy/optimize/zeros.py:149: RuntimeWarning: Tolerance of 6.21902086423e+14 reached\n",
        "  warnings.warn(msg, RuntimeWarning)\n",
        "/Library/Python/2.7/site-packages/scipy-0.13.0.dev_c31f167_20130514-py2.7-macosx-10.8-intel.egg/scipy/optimize/zeros.py:149: RuntimeWarning: Tolerance of 9.39566698627e+13 reached\n",
        "  warnings.warn(msg, RuntimeWarning)\n"
       ]
      },
      {
       "output_type": "stream",
       "stream": "stdout",
       "text": [
        "\n",
        "deleting item T1map_LL"
       ]
      },
      {
       "output_type": "stream",
       "stream": "stdout",
       "text": [
        "\n",
        "deleting item T1map_LL_fitdict"
       ]
      },
      {
       "output_type": "stream",
       "stream": "stderr",
       "text": [
        "WARNING:sarpy.io.BRUKERIO:NSLICES not equal to number of ACQ_obj_order\n"
       ]
      },
      {
       "output_type": "stream",
       "stream": "stderr",
       "text": [
        "/Library/Python/2.7/site-packages/scipy-0.13.0.dev_c31f167_20130514-py2.7-macosx-10.8-intel.egg/scipy/optimize/zeros.py:149: RuntimeWarning: Tolerance of -1.0804150681e+16 reached\n",
        "  warnings.warn(msg, RuntimeWarning)\n",
        "/Library/Python/2.7/site-packages/scipy-0.13.0.dev_c31f167_20130514-py2.7-macosx-10.8-intel.egg/scipy/optimize/zeros.py:149: RuntimeWarning: Tolerance of 3.80247704519e+15 reached\n",
        "  warnings.warn(msg, RuntimeWarning)\n"
       ]
      },
      {
       "output_type": "stream",
       "stream": "stderr",
       "text": [
        "/Library/Python/2.7/site-packages/scipy-0.13.0.dev_c31f167_20130514-py2.7-macosx-10.8-intel.egg/scipy/optimize/zeros.py:149: RuntimeWarning: Tolerance of 1.25544679803e+14 reached\n",
        "  warnings.warn(msg, RuntimeWarning)\n",
        "/Library/Python/2.7/site-packages/scipy-0.13.0.dev_c31f167_20130514-py2.7-macosx-10.8-intel.egg/scipy/optimize/zeros.py:149: RuntimeWarning: Tolerance of -3.3222132145e+15 reached\n",
        "  warnings.warn(msg, RuntimeWarning)\n"
       ]
      },
      {
       "output_type": "stream",
       "stream": "stderr",
       "text": [
        "/Library/Python/2.7/site-packages/scipy-0.13.0.dev_c31f167_20130514-py2.7-macosx-10.8-intel.egg/scipy/optimize/zeros.py:149: RuntimeWarning: Tolerance of -3.62436303113e+13 reached\n",
        "  warnings.warn(msg, RuntimeWarning)\n",
        "/Library/Python/2.7/site-packages/scipy-0.13.0.dev_c31f167_20130514-py2.7-macosx-10.8-intel.egg/scipy/optimize/zeros.py:149: RuntimeWarning: Tolerance of 2.07713110265e+14 reached\n",
        "  warnings.warn(msg, RuntimeWarning)\n"
       ]
      },
      {
       "output_type": "stream",
       "stream": "stderr",
       "text": [
        "/Library/Python/2.7/site-packages/scipy-0.13.0.dev_c31f167_20130514-py2.7-macosx-10.8-intel.egg/scipy/optimize/zeros.py:149: RuntimeWarning: Tolerance of 1.93866184998e+15 reached\n",
        "  warnings.warn(msg, RuntimeWarning)\n",
        "/Library/Python/2.7/site-packages/scipy-0.13.0.dev_c31f167_20130514-py2.7-macosx-10.8-intel.egg/scipy/optimize/zeros.py:149: RuntimeWarning: Tolerance of 6.96170512456e+14 reached\n",
        "  warnings.warn(msg, RuntimeWarning)\n"
       ]
      },
      {
       "output_type": "stream",
       "stream": "stderr",
       "text": [
        "/Library/Python/2.7/site-packages/scipy-0.13.0.dev_c31f167_20130514-py2.7-macosx-10.8-intel.egg/scipy/optimize/zeros.py:149: RuntimeWarning: Tolerance of 1.23929849144e+15 reached\n",
        "  warnings.warn(msg, RuntimeWarning)\n",
        "/Library/Python/2.7/site-packages/scipy-0.13.0.dev_c31f167_20130514-py2.7-macosx-10.8-intel.egg/scipy/optimize/zeros.py:149: RuntimeWarning: Tolerance of -2.8210578025e+14 reached\n",
        "  warnings.warn(msg, RuntimeWarning)\n"
       ]
      },
      {
       "output_type": "stream",
       "stream": "stderr",
       "text": [
        "/Library/Python/2.7/site-packages/scipy-0.13.0.dev_c31f167_20130514-py2.7-macosx-10.8-intel.egg/scipy/optimize/zeros.py:149: RuntimeWarning: Tolerance of -1.25171471334e+14 reached\n",
        "  warnings.warn(msg, RuntimeWarning)\n",
        "/Library/Python/2.7/site-packages/scipy-0.13.0.dev_c31f167_20130514-py2.7-macosx-10.8-intel.egg/scipy/optimize/zeros.py:149: RuntimeWarning: Tolerance of 7.39239504142e+14 reached\n",
        "  warnings.warn(msg, RuntimeWarning)\n"
       ]
      },
      {
       "output_type": "stream",
       "stream": "stderr",
       "text": [
        "/Library/Python/2.7/site-packages/scipy-0.13.0.dev_c31f167_20130514-py2.7-macosx-10.8-intel.egg/scipy/optimize/zeros.py:149: RuntimeWarning: Tolerance of 1.08618639502e+14 reached\n",
        "  warnings.warn(msg, RuntimeWarning)\n",
        "/Library/Python/2.7/site-packages/scipy-0.13.0.dev_c31f167_20130514-py2.7-macosx-10.8-intel.egg/scipy/optimize/zeros.py:149: RuntimeWarning: Tolerance of -9.36660484599e+14 reached\n",
        "  warnings.warn(msg, RuntimeWarning)\n"
       ]
      },
      {
       "output_type": "stream",
       "stream": "stderr",
       "text": [
        "/Library/Python/2.7/site-packages/scipy-0.13.0.dev_c31f167_20130514-py2.7-macosx-10.8-intel.egg/scipy/optimize/zeros.py:149: RuntimeWarning: Tolerance of -1.66279957547e+12 reached\n",
        "  warnings.warn(msg, RuntimeWarning)\n",
        "/Library/Python/2.7/site-packages/scipy-0.13.0.dev_c31f167_20130514-py2.7-macosx-10.8-intel.egg/scipy/optimize/zeros.py:149: RuntimeWarning: Tolerance of -1.32012520587e+16 reached\n",
        "  warnings.warn(msg, RuntimeWarning)\n"
       ]
      },
      {
       "output_type": "stream",
       "stream": "stderr",
       "text": [
        "/Library/Python/2.7/site-packages/scipy-0.13.0.dev_c31f167_20130514-py2.7-macosx-10.8-intel.egg/scipy/optimize/zeros.py:149: RuntimeWarning: Tolerance of -4.75921386739e+14 reached\n",
        "  warnings.warn(msg, RuntimeWarning)\n",
        "/Library/Python/2.7/site-packages/scipy-0.13.0.dev_c31f167_20130514-py2.7-macosx-10.8-intel.egg/scipy/optimize/zeros.py:149: RuntimeWarning: Tolerance of -2.8057049397e+13 reached\n",
        "  warnings.warn(msg, RuntimeWarning)\n"
       ]
      },
      {
       "output_type": "stream",
       "stream": "stderr",
       "text": [
        "/Library/Python/2.7/site-packages/scipy-0.13.0.dev_c31f167_20130514-py2.7-macosx-10.8-intel.egg/scipy/optimize/zeros.py:149: RuntimeWarning: Tolerance of 5.02432649825e+15 reached\n",
        "  warnings.warn(msg, RuntimeWarning)\n",
        "/Library/Python/2.7/site-packages/scipy-0.13.0.dev_c31f167_20130514-py2.7-macosx-10.8-intel.egg/scipy/optimize/zeros.py:149: RuntimeWarning: Tolerance of -1.8623485002e+15 reached\n",
        "  warnings.warn(msg, RuntimeWarning)\n"
       ]
      },
      {
       "output_type": "stream",
       "stream": "stderr",
       "text": [
        "/Library/Python/2.7/site-packages/scipy-0.13.0.dev_c31f167_20130514-py2.7-macosx-10.8-intel.egg/scipy/optimize/zeros.py:149: RuntimeWarning: Tolerance of -2.89527966473e+14 reached\n",
        "  warnings.warn(msg, RuntimeWarning)\n",
        "/Library/Python/2.7/site-packages/scipy-0.13.0.dev_c31f167_20130514-py2.7-macosx-10.8-intel.egg/scipy/optimize/zeros.py:149: RuntimeWarning: Tolerance of 1.33785054775e+16 reached\n",
        "  warnings.warn(msg, RuntimeWarning)\n"
       ]
      },
      {
       "output_type": "stream",
       "stream": "stderr",
       "text": [
        "/Library/Python/2.7/site-packages/scipy-0.13.0.dev_c31f167_20130514-py2.7-macosx-10.8-intel.egg/scipy/optimize/zeros.py:149: RuntimeWarning: Tolerance of 3.36696854674e+12 reached\n",
        "  warnings.warn(msg, RuntimeWarning)\n",
        "/Library/Python/2.7/site-packages/scipy-0.13.0.dev_c31f167_20130514-py2.7-macosx-10.8-intel.egg/scipy/optimize/zeros.py:149: RuntimeWarning: Tolerance of 6.27935751997e+15 reached\n",
        "  warnings.warn(msg, RuntimeWarning)\n"
       ]
      },
      {
       "output_type": "stream",
       "stream": "stderr",
       "text": [
        "/Library/Python/2.7/site-packages/scipy-0.13.0.dev_c31f167_20130514-py2.7-macosx-10.8-intel.egg/scipy/optimize/zeros.py:149: RuntimeWarning: Tolerance of -1.73686066976e+13 reached\n",
        "  warnings.warn(msg, RuntimeWarning)\n",
        "/Library/Python/2.7/site-packages/scipy-0.13.0.dev_c31f167_20130514-py2.7-macosx-10.8-intel.egg/scipy/optimize/zeros.py:149: RuntimeWarning: Tolerance of 4.26503727789e+14 reached\n",
        "  warnings.warn(msg, RuntimeWarning)\n"
       ]
      },
      {
       "output_type": "stream",
       "stream": "stderr",
       "text": [
        "/Library/Python/2.7/site-packages/scipy-0.13.0.dev_c31f167_20130514-py2.7-macosx-10.8-intel.egg/scipy/optimize/zeros.py:149: RuntimeWarning: Tolerance of -1.4920227743e+15 reached\n",
        "  warnings.warn(msg, RuntimeWarning)\n",
        "/Library/Python/2.7/site-packages/scipy-0.13.0.dev_c31f167_20130514-py2.7-macosx-10.8-intel.egg/scipy/optimize/zeros.py:149: RuntimeWarning: Tolerance of -3.08399320446e+15 reached\n",
        "  warnings.warn(msg, RuntimeWarning)\n"
       ]
      },
      {
       "output_type": "stream",
       "stream": "stderr",
       "text": [
        "/Library/Python/2.7/site-packages/scipy-0.13.0.dev_c31f167_20130514-py2.7-macosx-10.8-intel.egg/scipy/optimize/zeros.py:149: RuntimeWarning: Tolerance of 1.70975912903e+15 reached\n",
        "  warnings.warn(msg, RuntimeWarning)\n",
        "/Library/Python/2.7/site-packages/scipy-0.13.0.dev_c31f167_20130514-py2.7-macosx-10.8-intel.egg/scipy/optimize/zeros.py:149: RuntimeWarning: Tolerance of 1.12004742201e+13 reached\n",
        "  warnings.warn(msg, RuntimeWarning)\n"
       ]
      },
      {
       "output_type": "stream",
       "stream": "stderr",
       "text": [
        "/Library/Python/2.7/site-packages/scipy-0.13.0.dev_c31f167_20130514-py2.7-macosx-10.8-intel.egg/scipy/optimize/zeros.py:149: RuntimeWarning: Tolerance of 5.90570646756e+13 reached\n",
        "  warnings.warn(msg, RuntimeWarning)\n",
        "/Library/Python/2.7/site-packages/scipy-0.13.0.dev_c31f167_20130514-py2.7-macosx-10.8-intel.egg/scipy/optimize/zeros.py:149: RuntimeWarning: Tolerance of 7.07833154863e+14 reached\n",
        "  warnings.warn(msg, RuntimeWarning)\n"
       ]
      },
      {
       "output_type": "stream",
       "stream": "stderr",
       "text": [
        "/Library/Python/2.7/site-packages/scipy-0.13.0.dev_c31f167_20130514-py2.7-macosx-10.8-intel.egg/scipy/optimize/zeros.py:149: RuntimeWarning: Tolerance of -1.42672160918e+14 reached\n",
        "  warnings.warn(msg, RuntimeWarning)\n",
        "/Library/Python/2.7/site-packages/scipy-0.13.0.dev_c31f167_20130514-py2.7-macosx-10.8-intel.egg/scipy/optimize/zeros.py:149: RuntimeWarning: Tolerance of -1.34495721573e+14 reached\n",
        "  warnings.warn(msg, RuntimeWarning)\n"
       ]
      },
      {
       "output_type": "stream",
       "stream": "stderr",
       "text": [
        "/Library/Python/2.7/site-packages/scipy-0.13.0.dev_c31f167_20130514-py2.7-macosx-10.8-intel.egg/scipy/optimize/zeros.py:149: RuntimeWarning: Tolerance of 5.59974653535e+14 reached\n",
        "  warnings.warn(msg, RuntimeWarning)\n",
        "/Library/Python/2.7/site-packages/scipy-0.13.0.dev_c31f167_20130514-py2.7-macosx-10.8-intel.egg/scipy/optimize/zeros.py:149: RuntimeWarning: Tolerance of -7.9890706018e+13 reached\n",
        "  warnings.warn(msg, RuntimeWarning)\n"
       ]
      },
      {
       "output_type": "stream",
       "stream": "stderr",
       "text": [
        "/Library/Python/2.7/site-packages/scipy-0.13.0.dev_c31f167_20130514-py2.7-macosx-10.8-intel.egg/scipy/optimize/zeros.py:149: RuntimeWarning: Tolerance of -2.38525608501e+15 reached\n",
        "  warnings.warn(msg, RuntimeWarning)\n",
        "/Library/Python/2.7/site-packages/scipy-0.13.0.dev_c31f167_20130514-py2.7-macosx-10.8-intel.egg/scipy/optimize/zeros.py:149: RuntimeWarning: Tolerance of -9.08227762749e+15 reached\n",
        "  warnings.warn(msg, RuntimeWarning)\n"
       ]
      },
      {
       "output_type": "stream",
       "stream": "stderr",
       "text": [
        "/Library/Python/2.7/site-packages/scipy-0.13.0.dev_c31f167_20130514-py2.7-macosx-10.8-intel.egg/scipy/optimize/zeros.py:149: RuntimeWarning: Tolerance of -2.49370077772e+13 reached\n",
        "  warnings.warn(msg, RuntimeWarning)\n",
        "/Library/Python/2.7/site-packages/scipy-0.13.0.dev_c31f167_20130514-py2.7-macosx-10.8-intel.egg/scipy/optimize/zeros.py:149: RuntimeWarning: Tolerance of -3.37823649138e+16 reached\n",
        "  warnings.warn(msg, RuntimeWarning)\n"
       ]
      },
      {
       "output_type": "stream",
       "stream": "stderr",
       "text": [
        "/Library/Python/2.7/site-packages/scipy-0.13.0.dev_c31f167_20130514-py2.7-macosx-10.8-intel.egg/scipy/optimize/zeros.py:149: RuntimeWarning: Tolerance of -1.44992296277e+16 reached\n",
        "  warnings.warn(msg, RuntimeWarning)\n",
        "/Library/Python/2.7/site-packages/scipy-0.13.0.dev_c31f167_20130514-py2.7-macosx-10.8-intel.egg/scipy/optimize/zeros.py:149: RuntimeWarning: Tolerance of 2.68921193111e+14 reached\n",
        "  warnings.warn(msg, RuntimeWarning)\n"
       ]
      },
      {
       "output_type": "stream",
       "stream": "stdout",
       "text": [
        "\n",
        "deleting item T1map_LL"
       ]
      },
      {
       "output_type": "stream",
       "stream": "stdout",
       "text": [
        "\n",
        "deleting item T1map_LL_fitdict"
       ]
      },
      {
       "output_type": "stream",
       "stream": "stderr",
       "text": [
        "WARNING:sarpy.io.BRUKERIO:NSLICES not equal to number of ACQ_obj_order\n"
       ]
      },
      {
       "output_type": "stream",
       "stream": "stderr",
       "text": [
        "/Library/Python/2.7/site-packages/scipy-0.13.0.dev_c31f167_20130514-py2.7-macosx-10.8-intel.egg/scipy/optimize/zeros.py:149: RuntimeWarning: Tolerance of 8.27848021904e+15 reached\n",
        "  warnings.warn(msg, RuntimeWarning)\n",
        "/Library/Python/2.7/site-packages/scipy-0.13.0.dev_c31f167_20130514-py2.7-macosx-10.8-intel.egg/scipy/optimize/zeros.py:149: RuntimeWarning: Tolerance of -8.92689974524e+15 reached\n",
        "  warnings.warn(msg, RuntimeWarning)\n"
       ]
      },
      {
       "output_type": "stream",
       "stream": "stderr",
       "text": [
        "/Library/Python/2.7/site-packages/scipy-0.13.0.dev_c31f167_20130514-py2.7-macosx-10.8-intel.egg/scipy/optimize/zeros.py:149: RuntimeWarning: Tolerance of -2.6343696507e+15 reached\n",
        "  warnings.warn(msg, RuntimeWarning)\n",
        "/Library/Python/2.7/site-packages/scipy-0.13.0.dev_c31f167_20130514-py2.7-macosx-10.8-intel.egg/scipy/optimize/zeros.py:149: RuntimeWarning: Tolerance of -2.66378609819e+16 reached\n",
        "  warnings.warn(msg, RuntimeWarning)\n"
       ]
      },
      {
       "output_type": "stream",
       "stream": "stdout",
       "text": [
        "\n",
        "deleting item T1map_LL"
       ]
      },
      {
       "output_type": "stream",
       "stream": "stdout",
       "text": [
        "\n",
        "deleting item T1map_LL_fitdict"
       ]
      },
      {
       "output_type": "stream",
       "stream": "stderr",
       "text": [
        "/Library/Python/2.7/site-packages/scipy-0.13.0.dev_c31f167_20130514-py2.7-macosx-10.8-intel.egg/scipy/optimize/zeros.py:149: RuntimeWarning: Tolerance of -3.29677976045e+15 reached\n",
        "  warnings.warn(msg, RuntimeWarning)\n",
        "WARNING:sarpy.io.BRUKERIO:NSLICES not equal to number of ACQ_obj_order\n"
       ]
      },
      {
       "output_type": "stream",
       "stream": "stderr",
       "text": [
        "/Library/Python/2.7/site-packages/scipy-0.13.0.dev_c31f167_20130514-py2.7-macosx-10.8-intel.egg/scipy/optimize/zeros.py:149: RuntimeWarning: Tolerance of -2.11434904011e+15 reached\n",
        "  warnings.warn(msg, RuntimeWarning)\n",
        "/Library/Python/2.7/site-packages/scipy-0.13.0.dev_c31f167_20130514-py2.7-macosx-10.8-intel.egg/scipy/optimize/zeros.py:149: RuntimeWarning: Tolerance of 3.62276825076e+14 reached\n",
        "  warnings.warn(msg, RuntimeWarning)\n"
       ]
      },
      {
       "output_type": "stream",
       "stream": "stderr",
       "text": [
        "/Library/Python/2.7/site-packages/scipy-0.13.0.dev_c31f167_20130514-py2.7-macosx-10.8-intel.egg/scipy/optimize/zeros.py:149: RuntimeWarning: Tolerance of 1.33550539817e+14 reached\n",
        "  warnings.warn(msg, RuntimeWarning)\n",
        "/Library/Python/2.7/site-packages/scipy-0.13.0.dev_c31f167_20130514-py2.7-macosx-10.8-intel.egg/scipy/optimize/zeros.py:149: RuntimeWarning: Tolerance of -5.30892009427e+15 reached\n",
        "  warnings.warn(msg, RuntimeWarning)\n"
       ]
      },
      {
       "output_type": "stream",
       "stream": "stderr",
       "text": [
        "/Library/Python/2.7/site-packages/scipy-0.13.0.dev_c31f167_20130514-py2.7-macosx-10.8-intel.egg/scipy/optimize/zeros.py:149: RuntimeWarning: Tolerance of -1.15988409838e+15 reached\n",
        "  warnings.warn(msg, RuntimeWarning)\n",
        "/Library/Python/2.7/site-packages/scipy-0.13.0.dev_c31f167_20130514-py2.7-macosx-10.8-intel.egg/scipy/optimize/zeros.py:149: RuntimeWarning: Tolerance of 4.33993863402e+15 reached\n",
        "  warnings.warn(msg, RuntimeWarning)\n"
       ]
      },
      {
       "output_type": "stream",
       "stream": "stderr",
       "text": [
        "/Library/Python/2.7/site-packages/scipy-0.13.0.dev_c31f167_20130514-py2.7-macosx-10.8-intel.egg/scipy/optimize/zeros.py:149: RuntimeWarning: Tolerance of 4.00926003137e+14 reached\n",
        "  warnings.warn(msg, RuntimeWarning)\n",
        "/Library/Python/2.7/site-packages/scipy-0.13.0.dev_c31f167_20130514-py2.7-macosx-10.8-intel.egg/scipy/optimize/zeros.py:149: RuntimeWarning: Tolerance of -1.17346644402e-07 reached\n",
        "  warnings.warn(msg, RuntimeWarning)\n"
       ]
      },
      {
       "output_type": "stream",
       "stream": "stdout",
       "text": [
        "\n",
        "deleting item T1map_LL"
       ]
      },
      {
       "output_type": "stream",
       "stream": "stdout",
       "text": [
        "\n",
        "deleting item T1map_LL_fitdict"
       ]
      },
      {
       "output_type": "stream",
       "stream": "stderr",
       "text": [
        "/Library/Python/2.7/site-packages/scipy-0.13.0.dev_c31f167_20130514-py2.7-macosx-10.8-intel.egg/scipy/optimize/zeros.py:149: RuntimeWarning: Tolerance of 1.21509537489e+15 reached\n",
        "  warnings.warn(msg, RuntimeWarning)\n",
        "WARNING:sarpy.io.BRUKERIO:NSLICES not equal to number of ACQ_obj_order\n"
       ]
      },
      {
       "output_type": "stream",
       "stream": "stderr",
       "text": [
        "/Library/Python/2.7/site-packages/scipy-0.13.0.dev_c31f167_20130514-py2.7-macosx-10.8-intel.egg/scipy/optimize/zeros.py:149: RuntimeWarning: Tolerance of 1.89227485388e+14 reached\n",
        "  warnings.warn(msg, RuntimeWarning)\n",
        "/Library/Python/2.7/site-packages/scipy-0.13.0.dev_c31f167_20130514-py2.7-macosx-10.8-intel.egg/scipy/optimize/zeros.py:149: RuntimeWarning: Tolerance of -9.52299374837e+14 reached\n",
        "  warnings.warn(msg, RuntimeWarning)\n"
       ]
      },
      {
       "output_type": "stream",
       "stream": "stderr",
       "text": [
        "/Library/Python/2.7/site-packages/scipy-0.13.0.dev_c31f167_20130514-py2.7-macosx-10.8-intel.egg/scipy/optimize/zeros.py:149: RuntimeWarning: Tolerance of -2.33760032525e+15 reached\n",
        "  warnings.warn(msg, RuntimeWarning)\n",
        "/Library/Python/2.7/site-packages/scipy-0.13.0.dev_c31f167_20130514-py2.7-macosx-10.8-intel.egg/scipy/optimize/zeros.py:149: RuntimeWarning: Tolerance of -6.03116753365e+14 reached\n",
        "  warnings.warn(msg, RuntimeWarning)\n"
       ]
      },
      {
       "output_type": "stream",
       "stream": "stderr",
       "text": [
        "/Library/Python/2.7/site-packages/scipy-0.13.0.dev_c31f167_20130514-py2.7-macosx-10.8-intel.egg/scipy/optimize/zeros.py:149: RuntimeWarning: Tolerance of -6.40603358609e+13 reached\n",
        "  warnings.warn(msg, RuntimeWarning)\n",
        "/Library/Python/2.7/site-packages/scipy-0.13.0.dev_c31f167_20130514-py2.7-macosx-10.8-intel.egg/scipy/optimize/zeros.py:149: RuntimeWarning: Tolerance of -3.03442729479e+14 reached\n",
        "  warnings.warn(msg, RuntimeWarning)\n"
       ]
      },
      {
       "output_type": "stream",
       "stream": "stderr",
       "text": [
        "/Library/Python/2.7/site-packages/scipy-0.13.0.dev_c31f167_20130514-py2.7-macosx-10.8-intel.egg/scipy/optimize/zeros.py:149: RuntimeWarning: Tolerance of -8.93623132107e+13 reached\n",
        "  warnings.warn(msg, RuntimeWarning)\n",
        "/Library/Python/2.7/site-packages/scipy-0.13.0.dev_c31f167_20130514-py2.7-macosx-10.8-intel.egg/scipy/optimize/zeros.py:149: RuntimeWarning: Tolerance of 6.03398935713e+13 reached\n",
        "  warnings.warn(msg, RuntimeWarning)\n"
       ]
      },
      {
       "output_type": "stream",
       "stream": "stdout",
       "text": [
        "\n",
        "deleting item T1map_LL"
       ]
      },
      {
       "output_type": "stream",
       "stream": "stdout",
       "text": [
        "\n",
        "deleting item T1map_LL_fitdict"
       ]
      },
      {
       "output_type": "stream",
       "stream": "stderr",
       "text": [
        "WARNING:sarpy.io.BRUKERIO:NSLICES not equal to number of ACQ_obj_order\n"
       ]
      },
      {
       "output_type": "stream",
       "stream": "stderr",
       "text": [
        "/Library/Python/2.7/site-packages/scipy-0.13.0.dev_c31f167_20130514-py2.7-macosx-10.8-intel.egg/scipy/optimize/zeros.py:149: RuntimeWarning: Tolerance of -4.39037397371e+14 reached\n",
        "  warnings.warn(msg, RuntimeWarning)\n",
        "/Library/Python/2.7/site-packages/scipy-0.13.0.dev_c31f167_20130514-py2.7-macosx-10.8-intel.egg/scipy/optimize/zeros.py:149: RuntimeWarning: Tolerance of -9.9447121088e+14 reached\n",
        "  warnings.warn(msg, RuntimeWarning)\n"
       ]
      },
      {
       "output_type": "stream",
       "stream": "stderr",
       "text": [
        "/Library/Python/2.7/site-packages/scipy-0.13.0.dev_c31f167_20130514-py2.7-macosx-10.8-intel.egg/scipy/optimize/zeros.py:149: RuntimeWarning: Tolerance of -7.48542521263e+13 reached\n",
        "  warnings.warn(msg, RuntimeWarning)\n",
        "/Library/Python/2.7/site-packages/scipy-0.13.0.dev_c31f167_20130514-py2.7-macosx-10.8-intel.egg/scipy/optimize/zeros.py:149: RuntimeWarning: Tolerance of -9.5572045693e+14 reached\n",
        "  warnings.warn(msg, RuntimeWarning)\n"
       ]
      },
      {
       "output_type": "stream",
       "stream": "stdout",
       "text": [
        "\n",
        "deleting item T1map_LL"
       ]
      },
      {
       "output_type": "stream",
       "stream": "stdout",
       "text": [
        "\n",
        "deleting item T1map_LL_fitdict"
       ]
      },
      {
       "output_type": "stream",
       "stream": "stderr",
       "text": [
        "WARNING:sarpy.io.BRUKERIO:NSLICES not equal to number of ACQ_obj_order\n"
       ]
      },
      {
       "output_type": "stream",
       "stream": "stderr",
       "text": [
        "/Library/Python/2.7/site-packages/scipy-0.13.0.dev_c31f167_20130514-py2.7-macosx-10.8-intel.egg/scipy/optimize/zeros.py:149: RuntimeWarning: Tolerance of -1.06426808731e+15 reached\n",
        "  warnings.warn(msg, RuntimeWarning)\n",
        "/Library/Python/2.7/site-packages/scipy-0.13.0.dev_c31f167_20130514-py2.7-macosx-10.8-intel.egg/scipy/optimize/zeros.py:149: RuntimeWarning: Tolerance of -1.13433668309e+16 reached\n",
        "  warnings.warn(msg, RuntimeWarning)\n"
       ]
      },
      {
       "output_type": "stream",
       "stream": "stdout",
       "text": [
        "\n",
        "deleting item T1map_LL"
       ]
      },
      {
       "output_type": "stream",
       "stream": "stdout",
       "text": [
        "\n",
        "deleting item T1map_LL_fitdict"
       ]
      },
      {
       "output_type": "stream",
       "stream": "stderr",
       "text": [
        "/Library/Python/2.7/site-packages/scipy-0.13.0.dev_c31f167_20130514-py2.7-macosx-10.8-intel.egg/scipy/optimize/zeros.py:149: RuntimeWarning: Tolerance of 3.77852417763e+15 reached\n",
        "  warnings.warn(msg, RuntimeWarning)\n",
        "WARNING:sarpy.io.BRUKERIO:NSLICES not equal to number of ACQ_obj_order\n"
       ]
      },
      {
       "output_type": "stream",
       "stream": "stderr",
       "text": [
        "/Library/Python/2.7/site-packages/scipy-0.13.0.dev_c31f167_20130514-py2.7-macosx-10.8-intel.egg/scipy/optimize/zeros.py:149: RuntimeWarning: Tolerance of 3.26412896132e+15 reached\n",
        "  warnings.warn(msg, RuntimeWarning)\n",
        "/Library/Python/2.7/site-packages/scipy-0.13.0.dev_c31f167_20130514-py2.7-macosx-10.8-intel.egg/scipy/optimize/zeros.py:149: RuntimeWarning: Tolerance of -2.35978409957e+15 reached\n",
        "  warnings.warn(msg, RuntimeWarning)\n"
       ]
      },
      {
       "output_type": "stream",
       "stream": "stdout",
       "text": [
        "\n",
        "deleting item T1map_LL"
       ]
      },
      {
       "output_type": "stream",
       "stream": "stdout",
       "text": [
        "\n",
        "deleting item T1map_LL_fitdict"
       ]
      },
      {
       "output_type": "stream",
       "stream": "stderr",
       "text": [
        "WARNING:sarpy.io.BRUKERIO:NSLICES not equal to number of ACQ_obj_order\n"
       ]
      },
      {
       "output_type": "stream",
       "stream": "stderr",
       "text": [
        "/Library/Python/2.7/site-packages/scipy-0.13.0.dev_c31f167_20130514-py2.7-macosx-10.8-intel.egg/scipy/optimize/zeros.py:149: RuntimeWarning: Tolerance of -8.81435453177e+15 reached\n",
        "  warnings.warn(msg, RuntimeWarning)\n",
        "/Library/Python/2.7/site-packages/scipy-0.13.0.dev_c31f167_20130514-py2.7-macosx-10.8-intel.egg/scipy/optimize/zeros.py:149: RuntimeWarning: Tolerance of -1.82514643316e+15 reached\n",
        "  warnings.warn(msg, RuntimeWarning)\n"
       ]
      },
      {
       "output_type": "stream",
       "stream": "stderr",
       "text": [
        "/Library/Python/2.7/site-packages/scipy-0.13.0.dev_c31f167_20130514-py2.7-macosx-10.8-intel.egg/scipy/optimize/zeros.py:149: RuntimeWarning: Tolerance of 1.72506490134e+15 reached\n",
        "  warnings.warn(msg, RuntimeWarning)\n",
        "/Library/Python/2.7/site-packages/scipy-0.13.0.dev_c31f167_20130514-py2.7-macosx-10.8-intel.egg/scipy/optimize/zeros.py:149: RuntimeWarning: Tolerance of -1.35667310619e+15 reached\n",
        "  warnings.warn(msg, RuntimeWarning)\n"
       ]
      },
      {
       "output_type": "stream",
       "stream": "stderr",
       "text": [
        "/Library/Python/2.7/site-packages/scipy-0.13.0.dev_c31f167_20130514-py2.7-macosx-10.8-intel.egg/scipy/optimize/zeros.py:149: RuntimeWarning: Tolerance of -1.58934967565e+15 reached\n",
        "  warnings.warn(msg, RuntimeWarning)\n",
        "/Library/Python/2.7/site-packages/scipy-0.13.0.dev_c31f167_20130514-py2.7-macosx-10.8-intel.egg/scipy/optimize/zeros.py:149: RuntimeWarning: Tolerance of -4.13731244135e+15 reached\n",
        "  warnings.warn(msg, RuntimeWarning)\n"
       ]
      },
      {
       "output_type": "stream",
       "stream": "stderr",
       "text": [
        "/Library/Python/2.7/site-packages/scipy-0.13.0.dev_c31f167_20130514-py2.7-macosx-10.8-intel.egg/scipy/optimize/zeros.py:149: RuntimeWarning: Tolerance of 3.17586121823e+14 reached\n",
        "  warnings.warn(msg, RuntimeWarning)\n",
        "/Library/Python/2.7/site-packages/scipy-0.13.0.dev_c31f167_20130514-py2.7-macosx-10.8-intel.egg/scipy/optimize/zeros.py:149: RuntimeWarning: Tolerance of -6.60334031435e+14 reached\n",
        "  warnings.warn(msg, RuntimeWarning)\n"
       ]
      },
      {
       "output_type": "stream",
       "stream": "stderr",
       "text": [
        "/Library/Python/2.7/site-packages/scipy-0.13.0.dev_c31f167_20130514-py2.7-macosx-10.8-intel.egg/scipy/optimize/zeros.py:149: RuntimeWarning: Tolerance of 1.03505517181e+14 reached\n",
        "  warnings.warn(msg, RuntimeWarning)\n",
        "/Library/Python/2.7/site-packages/scipy-0.13.0.dev_c31f167_20130514-py2.7-macosx-10.8-intel.egg/scipy/optimize/zeros.py:149: RuntimeWarning: Tolerance of 80837664480.0 reached\n",
        "  warnings.warn(msg, RuntimeWarning)\n"
       ]
      },
      {
       "output_type": "stream",
       "stream": "stderr",
       "text": [
        "/Library/Python/2.7/site-packages/scipy-0.13.0.dev_c31f167_20130514-py2.7-macosx-10.8-intel.egg/scipy/optimize/zeros.py:149: RuntimeWarning: Tolerance of 9.83206537234e+15 reached\n",
        "  warnings.warn(msg, RuntimeWarning)\n",
        "/Library/Python/2.7/site-packages/scipy-0.13.0.dev_c31f167_20130514-py2.7-macosx-10.8-intel.egg/scipy/optimize/zeros.py:149: RuntimeWarning: Tolerance of -3.42055637835e+15 reached\n",
        "  warnings.warn(msg, RuntimeWarning)\n"
       ]
      },
      {
       "output_type": "stream",
       "stream": "stdout",
       "text": [
        "\n",
        "deleting item T1map_LL"
       ]
      },
      {
       "output_type": "stream",
       "stream": "stdout",
       "text": [
        "\n",
        "deleting item T1map_LL_fitdict"
       ]
      },
      {
       "output_type": "stream",
       "stream": "stderr",
       "text": [
        "/Library/Python/2.7/site-packages/scipy-0.13.0.dev_c31f167_20130514-py2.7-macosx-10.8-intel.egg/scipy/optimize/zeros.py:149: RuntimeWarning: Tolerance of -8.78476732701e+13 reached\n",
        "  warnings.warn(msg, RuntimeWarning)\n",
        "WARNING:sarpy.io.BRUKERIO:NSLICES not equal to number of ACQ_obj_order\n"
       ]
      },
      {
       "output_type": "stream",
       "stream": "stderr",
       "text": [
        "/Library/Python/2.7/site-packages/scipy-0.13.0.dev_c31f167_20130514-py2.7-macosx-10.8-intel.egg/scipy/optimize/zeros.py:149: RuntimeWarning: Tolerance of 1.87240851835e+15 reached\n",
        "  warnings.warn(msg, RuntimeWarning)\n",
        "/Library/Python/2.7/site-packages/scipy-0.13.0.dev_c31f167_20130514-py2.7-macosx-10.8-intel.egg/scipy/optimize/zeros.py:149: RuntimeWarning: Tolerance of 1.50444150935e+14 reached\n",
        "  warnings.warn(msg, RuntimeWarning)\n"
       ]
      },
      {
       "output_type": "stream",
       "stream": "stderr",
       "text": [
        "/Library/Python/2.7/site-packages/scipy-0.13.0.dev_c31f167_20130514-py2.7-macosx-10.8-intel.egg/scipy/optimize/zeros.py:149: RuntimeWarning: Tolerance of -1.74047534507e+13 reached\n",
        "  warnings.warn(msg, RuntimeWarning)\n",
        "/Library/Python/2.7/site-packages/scipy-0.13.0.dev_c31f167_20130514-py2.7-macosx-10.8-intel.egg/scipy/optimize/zeros.py:149: RuntimeWarning: Tolerance of -2.60728315277e+15 reached\n",
        "  warnings.warn(msg, RuntimeWarning)\n"
       ]
      },
      {
       "output_type": "stream",
       "stream": "stderr",
       "text": [
        "/Library/Python/2.7/site-packages/scipy-0.13.0.dev_c31f167_20130514-py2.7-macosx-10.8-intel.egg/scipy/optimize/zeros.py:149: RuntimeWarning: Tolerance of -2.2150245244e+14 reached\n",
        "  warnings.warn(msg, RuntimeWarning)\n",
        "/Library/Python/2.7/site-packages/scipy-0.13.0.dev_c31f167_20130514-py2.7-macosx-10.8-intel.egg/scipy/optimize/zeros.py:149: RuntimeWarning: Tolerance of -4.16590950724e+13 reached\n",
        "  warnings.warn(msg, RuntimeWarning)\n"
       ]
      },
      {
       "output_type": "stream",
       "stream": "stderr",
       "text": [
        "/Library/Python/2.7/site-packages/scipy-0.13.0.dev_c31f167_20130514-py2.7-macosx-10.8-intel.egg/scipy/optimize/zeros.py:149: RuntimeWarning: Tolerance of 2.66682289076e+15 reached\n",
        "  warnings.warn(msg, RuntimeWarning)\n",
        "/Library/Python/2.7/site-packages/scipy-0.13.0.dev_c31f167_20130514-py2.7-macosx-10.8-intel.egg/scipy/optimize/zeros.py:149: RuntimeWarning: Tolerance of 4.47723461638e+14 reached\n",
        "  warnings.warn(msg, RuntimeWarning)\n"
       ]
      },
      {
       "output_type": "stream",
       "stream": "stderr",
       "text": [
        "/Library/Python/2.7/site-packages/scipy-0.13.0.dev_c31f167_20130514-py2.7-macosx-10.8-intel.egg/scipy/optimize/zeros.py:149: RuntimeWarning: Tolerance of -2.75234595621e+16 reached\n",
        "  warnings.warn(msg, RuntimeWarning)\n",
        "/Library/Python/2.7/site-packages/scipy-0.13.0.dev_c31f167_20130514-py2.7-macosx-10.8-intel.egg/scipy/optimize/zeros.py:149: RuntimeWarning: Tolerance of 2.88247642103e+14 reached\n",
        "  warnings.warn(msg, RuntimeWarning)\n"
       ]
      },
      {
       "output_type": "stream",
       "stream": "stderr",
       "text": [
        "/Library/Python/2.7/site-packages/scipy-0.13.0.dev_c31f167_20130514-py2.7-macosx-10.8-intel.egg/scipy/optimize/zeros.py:149: RuntimeWarning: Tolerance of 3.10519940916e+15 reached\n",
        "  warnings.warn(msg, RuntimeWarning)\n",
        "/Library/Python/2.7/site-packages/scipy-0.13.0.dev_c31f167_20130514-py2.7-macosx-10.8-intel.egg/scipy/optimize/zeros.py:149: RuntimeWarning: Tolerance of -1.24563675386e+15 reached\n",
        "  warnings.warn(msg, RuntimeWarning)\n"
       ]
      },
      {
       "output_type": "stream",
       "stream": "stderr",
       "text": [
        "/Library/Python/2.7/site-packages/scipy-0.13.0.dev_c31f167_20130514-py2.7-macosx-10.8-intel.egg/scipy/optimize/zeros.py:149: RuntimeWarning: Tolerance of 9.77289739862e+13 reached\n",
        "  warnings.warn(msg, RuntimeWarning)\n",
        "/Library/Python/2.7/site-packages/scipy-0.13.0.dev_c31f167_20130514-py2.7-macosx-10.8-intel.egg/scipy/optimize/zeros.py:149: RuntimeWarning: Tolerance of 1.14727158564e+14 reached\n",
        "  warnings.warn(msg, RuntimeWarning)\n"
       ]
      },
      {
       "output_type": "stream",
       "stream": "stderr",
       "text": [
        "/Library/Python/2.7/site-packages/scipy-0.13.0.dev_c31f167_20130514-py2.7-macosx-10.8-intel.egg/scipy/optimize/zeros.py:149: RuntimeWarning: Tolerance of 2.19931399291e+16 reached\n",
        "  warnings.warn(msg, RuntimeWarning)\n",
        "/Library/Python/2.7/site-packages/scipy-0.13.0.dev_c31f167_20130514-py2.7-macosx-10.8-intel.egg/scipy/optimize/zeros.py:149: RuntimeWarning: Tolerance of 8.09942181533e+15 reached\n",
        "  warnings.warn(msg, RuntimeWarning)\n"
       ]
      },
      {
       "output_type": "stream",
       "stream": "stderr",
       "text": [
        "/Library/Python/2.7/site-packages/scipy-0.13.0.dev_c31f167_20130514-py2.7-macosx-10.8-intel.egg/scipy/optimize/zeros.py:149: RuntimeWarning: Tolerance of 3.2230363103e+15 reached\n",
        "  warnings.warn(msg, RuntimeWarning)\n",
        "/Library/Python/2.7/site-packages/scipy-0.13.0.dev_c31f167_20130514-py2.7-macosx-10.8-intel.egg/scipy/optimize/zeros.py:149: RuntimeWarning: Tolerance of 7.11777532447e+14 reached\n",
        "  warnings.warn(msg, RuntimeWarning)\n"
       ]
      },
      {
       "output_type": "stream",
       "stream": "stdout",
       "text": [
        "\n",
        "deleting item T1map_LL"
       ]
      },
      {
       "output_type": "stream",
       "stream": "stdout",
       "text": [
        "\n",
        "deleting item T1map_LL_fitdict"
       ]
      },
      {
       "output_type": "stream",
       "stream": "stderr",
       "text": [
        "/Library/Python/2.7/site-packages/scipy-0.13.0.dev_c31f167_20130514-py2.7-macosx-10.8-intel.egg/scipy/optimize/zeros.py:149: RuntimeWarning: Tolerance of 1.60769908199e+16 reached\n",
        "  warnings.warn(msg, RuntimeWarning)\n",
        "WARNING:sarpy.io.BRUKERIO:NSLICES not equal to number of ACQ_obj_order\n"
       ]
      },
      {
       "output_type": "stream",
       "stream": "stderr",
       "text": [
        "/Library/Python/2.7/site-packages/scipy-0.13.0.dev_c31f167_20130514-py2.7-macosx-10.8-intel.egg/scipy/optimize/zeros.py:149: RuntimeWarning: Tolerance of 5.69712572964e+13 reached\n",
        "  warnings.warn(msg, RuntimeWarning)\n",
        "/Library/Python/2.7/site-packages/scipy-0.13.0.dev_c31f167_20130514-py2.7-macosx-10.8-intel.egg/scipy/optimize/zeros.py:149: RuntimeWarning: Tolerance of 1.55731602883e+13 reached\n",
        "  warnings.warn(msg, RuntimeWarning)\n"
       ]
      },
      {
       "output_type": "stream",
       "stream": "stderr",
       "text": [
        "/Library/Python/2.7/site-packages/scipy-0.13.0.dev_c31f167_20130514-py2.7-macosx-10.8-intel.egg/scipy/optimize/zeros.py:149: RuntimeWarning: Tolerance of -9.3324883878e+13 reached\n",
        "  warnings.warn(msg, RuntimeWarning)\n",
        "/Library/Python/2.7/site-packages/scipy-0.13.0.dev_c31f167_20130514-py2.7-macosx-10.8-intel.egg/scipy/optimize/zeros.py:149: RuntimeWarning: Tolerance of -7.64213719634e+14 reached\n",
        "  warnings.warn(msg, RuntimeWarning)\n"
       ]
      },
      {
       "output_type": "stream",
       "stream": "stderr",
       "text": [
        "/Library/Python/2.7/site-packages/scipy-0.13.0.dev_c31f167_20130514-py2.7-macosx-10.8-intel.egg/scipy/optimize/zeros.py:149: RuntimeWarning: Tolerance of -4.99834813499e+15 reached\n",
        "  warnings.warn(msg, RuntimeWarning)\n",
        "/Library/Python/2.7/site-packages/scipy-0.13.0.dev_c31f167_20130514-py2.7-macosx-10.8-intel.egg/scipy/optimize/zeros.py:149: RuntimeWarning: Tolerance of 1.10317004003e+13 reached\n",
        "  warnings.warn(msg, RuntimeWarning)\n"
       ]
      },
      {
       "output_type": "stream",
       "stream": "stderr",
       "text": [
        "/Library/Python/2.7/site-packages/scipy-0.13.0.dev_c31f167_20130514-py2.7-macosx-10.8-intel.egg/scipy/optimize/zeros.py:149: RuntimeWarning: Tolerance of -2.98480369491e+15 reached\n",
        "  warnings.warn(msg, RuntimeWarning)\n",
        "/Library/Python/2.7/site-packages/scipy-0.13.0.dev_c31f167_20130514-py2.7-macosx-10.8-intel.egg/scipy/optimize/zeros.py:149: RuntimeWarning: Tolerance of 7.56052218072e+15 reached\n",
        "  warnings.warn(msg, RuntimeWarning)\n"
       ]
      },
      {
       "output_type": "stream",
       "stream": "stdout",
       "text": [
        "\n",
        "deleting item T1map_LL"
       ]
      },
      {
       "output_type": "stream",
       "stream": "stdout",
       "text": [
        "\n",
        "deleting item T1map_LL_fitdict"
       ]
      },
      {
       "output_type": "stream",
       "stream": "stderr",
       "text": [
        "WARNING:sarpy.io.BRUKERIO:NSLICES not equal to number of ACQ_obj_order\n"
       ]
      },
      {
       "output_type": "stream",
       "stream": "stderr",
       "text": [
        "/Library/Python/2.7/site-packages/scipy-0.13.0.dev_c31f167_20130514-py2.7-macosx-10.8-intel.egg/scipy/optimize/zeros.py:149: RuntimeWarning: Tolerance of -8.53960478747e+15 reached\n",
        "  warnings.warn(msg, RuntimeWarning)\n",
        "/Library/Python/2.7/site-packages/scipy-0.13.0.dev_c31f167_20130514-py2.7-macosx-10.8-intel.egg/scipy/optimize/zeros.py:149: RuntimeWarning: Tolerance of -2.19032081185e+14 reached\n",
        "  warnings.warn(msg, RuntimeWarning)\n"
       ]
      },
      {
       "output_type": "stream",
       "stream": "stderr",
       "text": [
        "/Library/Python/2.7/site-packages/scipy-0.13.0.dev_c31f167_20130514-py2.7-macosx-10.8-intel.egg/scipy/optimize/zeros.py:149: RuntimeWarning: Tolerance of 6.39536265087e+15 reached\n",
        "  warnings.warn(msg, RuntimeWarning)\n",
        "/Library/Python/2.7/site-packages/scipy-0.13.0.dev_c31f167_20130514-py2.7-macosx-10.8-intel.egg/scipy/optimize/zeros.py:149: RuntimeWarning: Tolerance of 1.94329560979e+16 reached\n",
        "  warnings.warn(msg, RuntimeWarning)\n"
       ]
      },
      {
       "output_type": "stream",
       "stream": "stderr",
       "text": [
        "/Library/Python/2.7/site-packages/scipy-0.13.0.dev_c31f167_20130514-py2.7-macosx-10.8-intel.egg/scipy/optimize/zeros.py:149: RuntimeWarning: Tolerance of 4.50495126471e+15 reached\n",
        "  warnings.warn(msg, RuntimeWarning)\n",
        "/Library/Python/2.7/site-packages/scipy-0.13.0.dev_c31f167_20130514-py2.7-macosx-10.8-intel.egg/scipy/optimize/zeros.py:149: RuntimeWarning: Tolerance of 3.9304509391e+14 reached\n",
        "  warnings.warn(msg, RuntimeWarning)\n"
       ]
      },
      {
       "output_type": "stream",
       "stream": "stderr",
       "text": [
        "/Library/Python/2.7/site-packages/scipy-0.13.0.dev_c31f167_20130514-py2.7-macosx-10.8-intel.egg/scipy/optimize/zeros.py:149: RuntimeWarning: Tolerance of 1.34891150472e+14 reached\n",
        "  warnings.warn(msg, RuntimeWarning)\n",
        "/Library/Python/2.7/site-packages/scipy-0.13.0.dev_c31f167_20130514-py2.7-macosx-10.8-intel.egg/scipy/optimize/zeros.py:149: RuntimeWarning: Tolerance of 2.27920077133e+16 reached\n",
        "  warnings.warn(msg, RuntimeWarning)\n"
       ]
      },
      {
       "output_type": "stream",
       "stream": "stderr",
       "text": [
        "/Library/Python/2.7/site-packages/scipy-0.13.0.dev_c31f167_20130514-py2.7-macosx-10.8-intel.egg/scipy/optimize/zeros.py:149: RuntimeWarning: Tolerance of 1.622117198e+14 reached\n",
        "  warnings.warn(msg, RuntimeWarning)\n",
        "/Library/Python/2.7/site-packages/scipy-0.13.0.dev_c31f167_20130514-py2.7-macosx-10.8-intel.egg/scipy/optimize/zeros.py:149: RuntimeWarning: Tolerance of -2.144432008e+13 reached\n",
        "  warnings.warn(msg, RuntimeWarning)\n"
       ]
      },
      {
       "output_type": "stream",
       "stream": "stderr",
       "text": [
        "/Library/Python/2.7/site-packages/scipy-0.13.0.dev_c31f167_20130514-py2.7-macosx-10.8-intel.egg/scipy/optimize/zeros.py:149: RuntimeWarning: Tolerance of -5.53243131136e+13 reached\n",
        "  warnings.warn(msg, RuntimeWarning)\n",
        "/Library/Python/2.7/site-packages/scipy-0.13.0.dev_c31f167_20130514-py2.7-macosx-10.8-intel.egg/scipy/optimize/zeros.py:149: RuntimeWarning: Tolerance of 5.46526774262e+14 reached\n",
        "  warnings.warn(msg, RuntimeWarning)\n"
       ]
      },
      {
       "output_type": "stream",
       "stream": "stderr",
       "text": [
        "/Library/Python/2.7/site-packages/scipy-0.13.0.dev_c31f167_20130514-py2.7-macosx-10.8-intel.egg/scipy/optimize/zeros.py:149: RuntimeWarning: Tolerance of 2.52179678861e+15 reached\n",
        "  warnings.warn(msg, RuntimeWarning)\n",
        "/Library/Python/2.7/site-packages/scipy-0.13.0.dev_c31f167_20130514-py2.7-macosx-10.8-intel.egg/scipy/optimize/zeros.py:149: RuntimeWarning: Tolerance of -6.32484291677e+15 reached\n",
        "  warnings.warn(msg, RuntimeWarning)\n"
       ]
      },
      {
       "output_type": "stream",
       "stream": "stderr",
       "text": [
        "/Library/Python/2.7/site-packages/scipy-0.13.0.dev_c31f167_20130514-py2.7-macosx-10.8-intel.egg/scipy/optimize/zeros.py:149: RuntimeWarning: Tolerance of -1.76857098506e+14 reached\n",
        "  warnings.warn(msg, RuntimeWarning)\n",
        "/Library/Python/2.7/site-packages/scipy-0.13.0.dev_c31f167_20130514-py2.7-macosx-10.8-intel.egg/scipy/optimize/zeros.py:149: RuntimeWarning: Tolerance of 2.16182624286e+12 reached\n",
        "  warnings.warn(msg, RuntimeWarning)\n"
       ]
      },
      {
       "output_type": "stream",
       "stream": "stderr",
       "text": [
        "/Library/Python/2.7/site-packages/scipy-0.13.0.dev_c31f167_20130514-py2.7-macosx-10.8-intel.egg/scipy/optimize/zeros.py:149: RuntimeWarning: Tolerance of -1.70962018486e+13 reached\n",
        "  warnings.warn(msg, RuntimeWarning)\n",
        "/Library/Python/2.7/site-packages/scipy-0.13.0.dev_c31f167_20130514-py2.7-macosx-10.8-intel.egg/scipy/optimize/zeros.py:149: RuntimeWarning: Tolerance of 9.77325434495e+14 reached\n",
        "  warnings.warn(msg, RuntimeWarning)\n"
       ]
      },
      {
       "output_type": "stream",
       "stream": "stderr",
       "text": [
        "/Library/Python/2.7/site-packages/scipy-0.13.0.dev_c31f167_20130514-py2.7-macosx-10.8-intel.egg/scipy/optimize/zeros.py:149: RuntimeWarning: Tolerance of -1.10437684075e+13 reached\n",
        "  warnings.warn(msg, RuntimeWarning)\n",
        "/Library/Python/2.7/site-packages/scipy-0.13.0.dev_c31f167_20130514-py2.7-macosx-10.8-intel.egg/scipy/optimize/zeros.py:149: RuntimeWarning: Tolerance of -2.23220500155e+15 reached\n",
        "  warnings.warn(msg, RuntimeWarning)\n"
       ]
      },
      {
       "output_type": "stream",
       "stream": "stderr",
       "text": [
        "/Library/Python/2.7/site-packages/scipy-0.13.0.dev_c31f167_20130514-py2.7-macosx-10.8-intel.egg/scipy/optimize/zeros.py:149: RuntimeWarning: Tolerance of 4.80271450671e+16 reached\n",
        "  warnings.warn(msg, RuntimeWarning)\n",
        "/Library/Python/2.7/site-packages/scipy-0.13.0.dev_c31f167_20130514-py2.7-macosx-10.8-intel.egg/scipy/optimize/zeros.py:149: RuntimeWarning: Tolerance of -6.05937412782e+15 reached\n",
        "  warnings.warn(msg, RuntimeWarning)\n"
       ]
      },
      {
       "output_type": "stream",
       "stream": "stderr",
       "text": [
        "/Library/Python/2.7/site-packages/scipy-0.13.0.dev_c31f167_20130514-py2.7-macosx-10.8-intel.egg/scipy/optimize/zeros.py:149: RuntimeWarning: Tolerance of -2.40364653003e+14 reached\n",
        "  warnings.warn(msg, RuntimeWarning)\n",
        "/Library/Python/2.7/site-packages/scipy-0.13.0.dev_c31f167_20130514-py2.7-macosx-10.8-intel.egg/scipy/optimize/zeros.py:149: RuntimeWarning: Tolerance of 6.87501935288e+15 reached\n",
        "  warnings.warn(msg, RuntimeWarning)\n"
       ]
      },
      {
       "output_type": "stream",
       "stream": "stderr",
       "text": [
        "/Library/Python/2.7/site-packages/scipy-0.13.0.dev_c31f167_20130514-py2.7-macosx-10.8-intel.egg/scipy/optimize/zeros.py:149: RuntimeWarning: Tolerance of -3.81842255592e-08 reached\n",
        "  warnings.warn(msg, RuntimeWarning)\n",
        "/Library/Python/2.7/site-packages/scipy-0.13.0.dev_c31f167_20130514-py2.7-macosx-10.8-intel.egg/scipy/optimize/zeros.py:149: RuntimeWarning: Tolerance of 2.24659972984e+14 reached\n",
        "  warnings.warn(msg, RuntimeWarning)\n"
       ]
      },
      {
       "output_type": "stream",
       "stream": "stdout",
       "text": [
        "\n",
        "deleting item T1map_LL"
       ]
      },
      {
       "output_type": "stream",
       "stream": "stdout",
       "text": [
        "\n",
        "deleting item T1map_LL_fitdict"
       ]
      },
      {
       "output_type": "stream",
       "stream": "stdout",
       "text": [
        "\n",
        "T1map_LL: Not found HerP2Bs01 and +24h-LL"
       ]
      },
      {
       "output_type": "stream",
       "stream": "stderr",
       "text": [
        "WARNING:sarpy.io.BRUKERIO:NSLICES not equal to number of ACQ_obj_order\n"
       ]
      },
      {
       "output_type": "stream",
       "stream": "stderr",
       "text": [
        "/Library/Python/2.7/site-packages/scipy-0.13.0.dev_c31f167_20130514-py2.7-macosx-10.8-intel.egg/scipy/optimize/zeros.py:149: RuntimeWarning: Tolerance of 1.4896854791e+14 reached\n",
        "  warnings.warn(msg, RuntimeWarning)\n",
        "/Library/Python/2.7/site-packages/scipy-0.13.0.dev_c31f167_20130514-py2.7-macosx-10.8-intel.egg/scipy/optimize/zeros.py:149: RuntimeWarning: Tolerance of 1.81517520197e+18 reached\n",
        "  warnings.warn(msg, RuntimeWarning)\n"
       ]
      },
      {
       "output_type": "stream",
       "stream": "stderr",
       "text": [
        "/Library/Python/2.7/site-packages/scipy-0.13.0.dev_c31f167_20130514-py2.7-macosx-10.8-intel.egg/scipy/optimize/zeros.py:149: RuntimeWarning: Tolerance of -7.73305841548e+14 reached\n",
        "  warnings.warn(msg, RuntimeWarning)\n",
        "/Library/Python/2.7/site-packages/scipy-0.13.0.dev_c31f167_20130514-py2.7-macosx-10.8-intel.egg/scipy/optimize/zeros.py:149: RuntimeWarning: Tolerance of 3.66914661889e+14 reached\n",
        "  warnings.warn(msg, RuntimeWarning)\n"
       ]
      },
      {
       "output_type": "stream",
       "stream": "stderr",
       "text": [
        "/Library/Python/2.7/site-packages/scipy-0.13.0.dev_c31f167_20130514-py2.7-macosx-10.8-intel.egg/scipy/optimize/zeros.py:149: RuntimeWarning: Tolerance of -2.1316003436e+15 reached\n",
        "  warnings.warn(msg, RuntimeWarning)\n",
        "/Library/Python/2.7/site-packages/scipy-0.13.0.dev_c31f167_20130514-py2.7-macosx-10.8-intel.egg/scipy/optimize/zeros.py:149: RuntimeWarning: Tolerance of -4.22882591266e+15 reached\n",
        "  warnings.warn(msg, RuntimeWarning)\n"
       ]
      },
      {
       "output_type": "stream",
       "stream": "stderr",
       "text": [
        "/Library/Python/2.7/site-packages/scipy-0.13.0.dev_c31f167_20130514-py2.7-macosx-10.8-intel.egg/scipy/optimize/zeros.py:149: RuntimeWarning: Tolerance of 1.75227798067e+15 reached\n",
        "  warnings.warn(msg, RuntimeWarning)\n",
        "/Library/Python/2.7/site-packages/scipy-0.13.0.dev_c31f167_20130514-py2.7-macosx-10.8-intel.egg/scipy/optimize/zeros.py:149: RuntimeWarning: Tolerance of -3.5812460044e+15 reached\n",
        "  warnings.warn(msg, RuntimeWarning)\n"
       ]
      },
      {
       "output_type": "stream",
       "stream": "stderr",
       "text": [
        "/Library/Python/2.7/site-packages/scipy-0.13.0.dev_c31f167_20130514-py2.7-macosx-10.8-intel.egg/scipy/optimize/zeros.py:149: RuntimeWarning: Tolerance of 1.09654679283e+14 reached\n",
        "  warnings.warn(msg, RuntimeWarning)\n",
        "/Library/Python/2.7/site-packages/scipy-0.13.0.dev_c31f167_20130514-py2.7-macosx-10.8-intel.egg/scipy/optimize/zeros.py:149: RuntimeWarning: Tolerance of -3.91155481339e-07 reached\n",
        "  warnings.warn(msg, RuntimeWarning)\n"
       ]
      },
      {
       "output_type": "stream",
       "stream": "stdout",
       "text": [
        "\n",
        "T1map_LL: Not found HerP2Bs02 and +24h-LL\n",
        "T1map_LL: Not found HerP2Bs03 and +24h-LL\n",
        "deleting item T1map_LL"
       ]
      },
      {
       "output_type": "stream",
       "stream": "stdout",
       "text": [
        "\n",
        "deleting item T1map_LL_fitdict"
       ]
      },
      {
       "output_type": "stream",
       "stream": "stderr",
       "text": [
        "WARNING:sarpy.io.BRUKERIO:NSLICES not equal to number of ACQ_obj_order\n"
       ]
      },
      {
       "output_type": "stream",
       "stream": "stderr",
       "text": [
        "/Library/Python/2.7/site-packages/scipy-0.13.0.dev_c31f167_20130514-py2.7-macosx-10.8-intel.egg/scipy/optimize/zeros.py:149: RuntimeWarning: Tolerance of -1.64419910525e+16 reached\n",
        "  warnings.warn(msg, RuntimeWarning)\n",
        "/Library/Python/2.7/site-packages/scipy-0.13.0.dev_c31f167_20130514-py2.7-macosx-10.8-intel.egg/scipy/optimize/zeros.py:149: RuntimeWarning: Tolerance of 7.87090680705e+13 reached\n",
        "  warnings.warn(msg, RuntimeWarning)\n"
       ]
      },
      {
       "output_type": "stream",
       "stream": "stderr",
       "text": [
        "/Library/Python/2.7/site-packages/scipy-0.13.0.dev_c31f167_20130514-py2.7-macosx-10.8-intel.egg/scipy/optimize/zeros.py:149: RuntimeWarning: Tolerance of -3.12130118153e+14 reached\n",
        "  warnings.warn(msg, RuntimeWarning)\n",
        "/Library/Python/2.7/site-packages/scipy-0.13.0.dev_c31f167_20130514-py2.7-macosx-10.8-intel.egg/scipy/optimize/zeros.py:149: RuntimeWarning: Tolerance of 1.78592584033e+14 reached\n",
        "  warnings.warn(msg, RuntimeWarning)\n"
       ]
      },
      {
       "output_type": "stream",
       "stream": "stderr",
       "text": [
        "/Library/Python/2.7/site-packages/scipy-0.13.0.dev_c31f167_20130514-py2.7-macosx-10.8-intel.egg/scipy/optimize/zeros.py:149: RuntimeWarning: Tolerance of 8.9487894076e+12 reached\n",
        "  warnings.warn(msg, RuntimeWarning)\n",
        "/Library/Python/2.7/site-packages/scipy-0.13.0.dev_c31f167_20130514-py2.7-macosx-10.8-intel.egg/scipy/optimize/zeros.py:149: RuntimeWarning: Tolerance of -4.65661287308e-07 reached\n",
        "  warnings.warn(msg, RuntimeWarning)\n"
       ]
      },
      {
       "output_type": "stream",
       "stream": "stdout",
       "text": [
        "\n",
        "deleting item T1map_LL"
       ]
      },
      {
       "output_type": "stream",
       "stream": "stdout",
       "text": [
        "\n",
        "deleting item T1map_LL_fitdict"
       ]
      },
      {
       "output_type": "stream",
       "stream": "stderr",
       "text": [
        "/Library/Python/2.7/site-packages/scipy-0.13.0.dev_c31f167_20130514-py2.7-macosx-10.8-intel.egg/scipy/optimize/zeros.py:149: RuntimeWarning: Tolerance of 1.38038379885e+16 reached\n",
        "  warnings.warn(msg, RuntimeWarning)\n",
        "WARNING:sarpy.io.BRUKERIO:NSLICES not equal to number of ACQ_obj_order\n"
       ]
      },
      {
       "output_type": "stream",
       "stream": "stderr",
       "text": [
        "/Library/Python/2.7/site-packages/scipy-0.13.0.dev_c31f167_20130514-py2.7-macosx-10.8-intel.egg/scipy/optimize/zeros.py:149: RuntimeWarning: Tolerance of 8.89733255665e+15 reached\n",
        "  warnings.warn(msg, RuntimeWarning)\n",
        "/Library/Python/2.7/site-packages/scipy-0.13.0.dev_c31f167_20130514-py2.7-macosx-10.8-intel.egg/scipy/optimize/zeros.py:149: RuntimeWarning: Tolerance of -4.73300053902e+13 reached\n",
        "  warnings.warn(msg, RuntimeWarning)\n"
       ]
      },
      {
       "output_type": "stream",
       "stream": "stdout",
       "text": [
        "\n",
        "deleting item T1map_LL"
       ]
      },
      {
       "output_type": "stream",
       "stream": "stdout",
       "text": [
        "\n",
        "deleting item T1map_LL_fitdict"
       ]
      },
      {
       "output_type": "stream",
       "stream": "stderr",
       "text": [
        "/Library/Python/2.7/site-packages/scipy-0.13.0.dev_c31f167_20130514-py2.7-macosx-10.8-intel.egg/scipy/optimize/zeros.py:149: RuntimeWarning: Tolerance of -7.46598159619e+14 reached\n",
        "  warnings.warn(msg, RuntimeWarning)\n",
        "WARNING:sarpy.io.BRUKERIO:NSLICES not equal to number of ACQ_obj_order\n"
       ]
      },
      {
       "output_type": "stream",
       "stream": "stderr",
       "text": [
        "/Library/Python/2.7/site-packages/scipy-0.13.0.dev_c31f167_20130514-py2.7-macosx-10.8-intel.egg/scipy/optimize/zeros.py:149: RuntimeWarning: Tolerance of -2.26937709411e+13 reached\n",
        "  warnings.warn(msg, RuntimeWarning)\n",
        "/Library/Python/2.7/site-packages/scipy-0.13.0.dev_c31f167_20130514-py2.7-macosx-10.8-intel.egg/scipy/optimize/zeros.py:149: RuntimeWarning: Tolerance of 1.5325059118e+16 reached\n",
        "  warnings.warn(msg, RuntimeWarning)\n"
       ]
      },
      {
       "output_type": "stream",
       "stream": "stderr",
       "text": [
        "/Library/Python/2.7/site-packages/scipy-0.13.0.dev_c31f167_20130514-py2.7-macosx-10.8-intel.egg/scipy/optimize/zeros.py:149: RuntimeWarning: Tolerance of 1.29958793879e+16 reached\n",
        "  warnings.warn(msg, RuntimeWarning)\n",
        "/Library/Python/2.7/site-packages/scipy-0.13.0.dev_c31f167_20130514-py2.7-macosx-10.8-intel.egg/scipy/optimize/zeros.py:149: RuntimeWarning: Tolerance of -5.7499851645e+14 reached\n",
        "  warnings.warn(msg, RuntimeWarning)\n"
       ]
      },
      {
       "output_type": "stream",
       "stream": "stderr",
       "text": [
        "/Library/Python/2.7/site-packages/scipy-0.13.0.dev_c31f167_20130514-py2.7-macosx-10.8-intel.egg/scipy/optimize/zeros.py:149: RuntimeWarning: Tolerance of 1.96969564569e+16 reached\n",
        "  warnings.warn(msg, RuntimeWarning)\n",
        "/Library/Python/2.7/site-packages/scipy-0.13.0.dev_c31f167_20130514-py2.7-macosx-10.8-intel.egg/scipy/optimize/zeros.py:149: RuntimeWarning: Tolerance of 1.30218625621e+16 reached\n",
        "  warnings.warn(msg, RuntimeWarning)\n"
       ]
      },
      {
       "output_type": "stream",
       "stream": "stderr",
       "text": [
        "/Library/Python/2.7/site-packages/scipy-0.13.0.dev_c31f167_20130514-py2.7-macosx-10.8-intel.egg/scipy/optimize/zeros.py:149: RuntimeWarning: Tolerance of 8.13953871488e+14 reached\n",
        "  warnings.warn(msg, RuntimeWarning)\n",
        "/Library/Python/2.7/site-packages/scipy-0.13.0.dev_c31f167_20130514-py2.7-macosx-10.8-intel.egg/scipy/optimize/zeros.py:149: RuntimeWarning: Tolerance of 1.59218090631e+15 reached\n",
        "  warnings.warn(msg, RuntimeWarning)\n"
       ]
      },
      {
       "output_type": "stream",
       "stream": "stdout",
       "text": [
        "\n",
        "deleting item T1map_LL"
       ]
      },
      {
       "output_type": "stream",
       "stream": "stdout",
       "text": [
        "\n",
        "deleting item T1map_LL_fitdict"
       ]
      },
      {
       "output_type": "stream",
       "stream": "stderr",
       "text": [
        "WARNING:sarpy.io.BRUKERIO:NSLICES not equal to number of ACQ_obj_order\n"
       ]
      },
      {
       "output_type": "stream",
       "stream": "stderr",
       "text": [
        "/Library/Python/2.7/site-packages/scipy-0.13.0.dev_c31f167_20130514-py2.7-macosx-10.8-intel.egg/scipy/optimize/zeros.py:149: RuntimeWarning: Tolerance of -2.83234176848e+15 reached\n",
        "  warnings.warn(msg, RuntimeWarning)\n",
        "/Library/Python/2.7/site-packages/scipy-0.13.0.dev_c31f167_20130514-py2.7-macosx-10.8-intel.egg/scipy/optimize/zeros.py:149: RuntimeWarning: Tolerance of -2.73745236047e+15 reached\n",
        "  warnings.warn(msg, RuntimeWarning)\n"
       ]
      },
      {
       "output_type": "stream",
       "stream": "stderr",
       "text": [
        "/Library/Python/2.7/site-packages/scipy-0.13.0.dev_c31f167_20130514-py2.7-macosx-10.8-intel.egg/scipy/optimize/zeros.py:149: RuntimeWarning: Tolerance of -4.16166512278e+15 reached\n",
        "  warnings.warn(msg, RuntimeWarning)\n",
        "/Library/Python/2.7/site-packages/scipy-0.13.0.dev_c31f167_20130514-py2.7-macosx-10.8-intel.egg/scipy/optimize/zeros.py:149: RuntimeWarning: Tolerance of -7.1461328734e+15 reached\n",
        "  warnings.warn(msg, RuntimeWarning)\n"
       ]
      },
      {
       "output_type": "stream",
       "stream": "stderr",
       "text": [
        "/Library/Python/2.7/site-packages/scipy-0.13.0.dev_c31f167_20130514-py2.7-macosx-10.8-intel.egg/scipy/optimize/zeros.py:149: RuntimeWarning: Tolerance of 1.9022098941e+15 reached\n",
        "  warnings.warn(msg, RuntimeWarning)\n",
        "/Library/Python/2.7/site-packages/scipy-0.13.0.dev_c31f167_20130514-py2.7-macosx-10.8-intel.egg/scipy/optimize/zeros.py:149: RuntimeWarning: Tolerance of -4.4653231244e+15 reached\n",
        "  warnings.warn(msg, RuntimeWarning)\n"
       ]
      },
      {
       "output_type": "stream",
       "stream": "stderr",
       "text": [
        "/Library/Python/2.7/site-packages/scipy-0.13.0.dev_c31f167_20130514-py2.7-macosx-10.8-intel.egg/scipy/optimize/zeros.py:149: RuntimeWarning: Tolerance of 3.24348716119e+13 reached\n",
        "  warnings.warn(msg, RuntimeWarning)\n",
        "/Library/Python/2.7/site-packages/scipy-0.13.0.dev_c31f167_20130514-py2.7-macosx-10.8-intel.egg/scipy/optimize/zeros.py:149: RuntimeWarning: Tolerance of -7.9632359743e+14 reached\n",
        "  warnings.warn(msg, RuntimeWarning)\n"
       ]
      },
      {
       "output_type": "stream",
       "stream": "stderr",
       "text": [
        "/Library/Python/2.7/site-packages/scipy-0.13.0.dev_c31f167_20130514-py2.7-macosx-10.8-intel.egg/scipy/optimize/zeros.py:149: RuntimeWarning: Tolerance of -6.05034018727e+14 reached\n",
        "  warnings.warn(msg, RuntimeWarning)\n",
        "/Library/Python/2.7/site-packages/scipy-0.13.0.dev_c31f167_20130514-py2.7-macosx-10.8-intel.egg/scipy/optimize/zeros.py:149: RuntimeWarning: Tolerance of 2.52127201141e+15 reached\n",
        "  warnings.warn(msg, RuntimeWarning)\n"
       ]
      },
      {
       "output_type": "stream",
       "stream": "stderr",
       "text": [
        "/Library/Python/2.7/site-packages/scipy-0.13.0.dev_c31f167_20130514-py2.7-macosx-10.8-intel.egg/scipy/optimize/zeros.py:149: RuntimeWarning: Tolerance of -3.47486273343e+15 reached\n",
        "  warnings.warn(msg, RuntimeWarning)\n",
        "/Library/Python/2.7/site-packages/scipy-0.13.0.dev_c31f167_20130514-py2.7-macosx-10.8-intel.egg/scipy/optimize/zeros.py:149: RuntimeWarning: Tolerance of -2.97285542362e+14 reached\n",
        "  warnings.warn(msg, RuntimeWarning)\n"
       ]
      },
      {
       "output_type": "stream",
       "stream": "stderr",
       "text": [
        "/Library/Python/2.7/site-packages/scipy-0.13.0.dev_c31f167_20130514-py2.7-macosx-10.8-intel.egg/scipy/optimize/zeros.py:149: RuntimeWarning: Tolerance of 5.08837648625e+14 reached\n",
        "  warnings.warn(msg, RuntimeWarning)\n",
        "/Library/Python/2.7/site-packages/scipy-0.13.0.dev_c31f167_20130514-py2.7-macosx-10.8-intel.egg/scipy/optimize/zeros.py:149: RuntimeWarning: Tolerance of 2.11794891821e+12 reached\n",
        "  warnings.warn(msg, RuntimeWarning)\n"
       ]
      },
      {
       "output_type": "stream",
       "stream": "stderr",
       "text": [
        "/Library/Python/2.7/site-packages/scipy-0.13.0.dev_c31f167_20130514-py2.7-macosx-10.8-intel.egg/scipy/optimize/zeros.py:149: RuntimeWarning: Tolerance of -3.26949630505e+16 reached\n",
        "  warnings.warn(msg, RuntimeWarning)\n",
        "/Library/Python/2.7/site-packages/scipy-0.13.0.dev_c31f167_20130514-py2.7-macosx-10.8-intel.egg/scipy/optimize/zeros.py:149: RuntimeWarning: Tolerance of 1.12306669199e+15 reached\n",
        "  warnings.warn(msg, RuntimeWarning)\n"
       ]
      },
      {
       "output_type": "stream",
       "stream": "stdout",
       "text": [
        "\n",
        "deleting item T1map_LL"
       ]
      },
      {
       "output_type": "stream",
       "stream": "stdout",
       "text": [
        "\n",
        "deleting item T1map_LL_fitdict"
       ]
      },
      {
       "output_type": "stream",
       "stream": "stderr",
       "text": [
        "/Library/Python/2.7/site-packages/scipy-0.13.0.dev_c31f167_20130514-py2.7-macosx-10.8-intel.egg/scipy/optimize/zeros.py:149: RuntimeWarning: Tolerance of -1.80561872069e+16 reached\n",
        "  warnings.warn(msg, RuntimeWarning)\n",
        "WARNING:sarpy.io.BRUKERIO:NSLICES not equal to number of ACQ_obj_order\n"
       ]
      },
      {
       "output_type": "stream",
       "stream": "stderr",
       "text": [
        "/Library/Python/2.7/site-packages/scipy-0.13.0.dev_c31f167_20130514-py2.7-macosx-10.8-intel.egg/scipy/optimize/zeros.py:149: RuntimeWarning: Tolerance of -1.15173510394e+15 reached\n",
        "  warnings.warn(msg, RuntimeWarning)\n",
        "/Library/Python/2.7/site-packages/scipy-0.13.0.dev_c31f167_20130514-py2.7-macosx-10.8-intel.egg/scipy/optimize/zeros.py:149: RuntimeWarning: Tolerance of -6.72456474275e+14 reached\n",
        "  warnings.warn(msg, RuntimeWarning)\n"
       ]
      },
      {
       "output_type": "stream",
       "stream": "stdout",
       "text": [
        "\n",
        "deleting item T1map_LL"
       ]
      },
      {
       "output_type": "stream",
       "stream": "stdout",
       "text": [
        "\n",
        "deleting item T1map_LL_fitdict"
       ]
      },
      {
       "output_type": "stream",
       "stream": "stderr",
       "text": [
        "/Library/Python/2.7/site-packages/scipy-0.13.0.dev_c31f167_20130514-py2.7-macosx-10.8-intel.egg/scipy/optimize/zeros.py:149: RuntimeWarning: Tolerance of 9.45037422794e+12 reached\n",
        "  warnings.warn(msg, RuntimeWarning)\n",
        "WARNING:sarpy.io.BRUKERIO:NSLICES not equal to number of ACQ_obj_order\n"
       ]
      },
      {
       "output_type": "stream",
       "stream": "stderr",
       "text": [
        "/Library/Python/2.7/site-packages/scipy-0.13.0.dev_c31f167_20130514-py2.7-macosx-10.8-intel.egg/scipy/optimize/zeros.py:149: RuntimeWarning: Tolerance of -4.47324998708e+15 reached\n",
        "  warnings.warn(msg, RuntimeWarning)\n",
        "/Library/Python/2.7/site-packages/scipy-0.13.0.dev_c31f167_20130514-py2.7-macosx-10.8-intel.egg/scipy/optimize/zeros.py:149: RuntimeWarning: Tolerance of -2.74063742727e+15 reached\n",
        "  warnings.warn(msg, RuntimeWarning)\n"
       ]
      },
      {
       "output_type": "stream",
       "stream": "stderr",
       "text": [
        "/Library/Python/2.7/site-packages/scipy-0.13.0.dev_c31f167_20130514-py2.7-macosx-10.8-intel.egg/scipy/optimize/zeros.py:149: RuntimeWarning: Tolerance of 1.20738060356e+16 reached\n",
        "  warnings.warn(msg, RuntimeWarning)\n",
        "/Library/Python/2.7/site-packages/scipy-0.13.0.dev_c31f167_20130514-py2.7-macosx-10.8-intel.egg/scipy/optimize/zeros.py:149: RuntimeWarning: Tolerance of -7.54371285439e-08 reached\n",
        "  warnings.warn(msg, RuntimeWarning)\n"
       ]
      },
      {
       "output_type": "stream",
       "stream": "stderr",
       "text": [
        "/Library/Python/2.7/site-packages/scipy-0.13.0.dev_c31f167_20130514-py2.7-macosx-10.8-intel.egg/scipy/optimize/zeros.py:149: RuntimeWarning: Tolerance of 3.88827174902e-08 reached\n",
        "  warnings.warn(msg, RuntimeWarning)\n",
        "/Library/Python/2.7/site-packages/scipy-0.13.0.dev_c31f167_20130514-py2.7-macosx-10.8-intel.egg/scipy/optimize/zeros.py:149: RuntimeWarning: Tolerance of -4.493999924e+14 reached\n",
        "  warnings.warn(msg, RuntimeWarning)\n"
       ]
      },
      {
       "output_type": "stream",
       "stream": "stderr",
       "text": [
        "/Library/Python/2.7/site-packages/scipy-0.13.0.dev_c31f167_20130514-py2.7-macosx-10.8-intel.egg/scipy/optimize/zeros.py:149: RuntimeWarning: Tolerance of 3.52576395896e+12 reached\n",
        "  warnings.warn(msg, RuntimeWarning)\n",
        "/Library/Python/2.7/site-packages/scipy-0.13.0.dev_c31f167_20130514-py2.7-macosx-10.8-intel.egg/scipy/optimize/zeros.py:149: RuntimeWarning: Tolerance of 1.9942180453e+15 reached\n",
        "  warnings.warn(msg, RuntimeWarning)\n"
       ]
      },
      {
       "output_type": "stream",
       "stream": "stderr",
       "text": [
        "/Library/Python/2.7/site-packages/scipy-0.13.0.dev_c31f167_20130514-py2.7-macosx-10.8-intel.egg/scipy/optimize/zeros.py:149: RuntimeWarning: Tolerance of 1.19230030022e+16 reached\n",
        "  warnings.warn(msg, RuntimeWarning)\n",
        "/Library/Python/2.7/site-packages/scipy-0.13.0.dev_c31f167_20130514-py2.7-macosx-10.8-intel.egg/scipy/optimize/zeros.py:149: RuntimeWarning: Tolerance of -2.58064666913e+14 reached\n",
        "  warnings.warn(msg, RuntimeWarning)\n"
       ]
      },
      {
       "output_type": "stream",
       "stream": "stderr",
       "text": [
        "/Library/Python/2.7/site-packages/scipy-0.13.0.dev_c31f167_20130514-py2.7-macosx-10.8-intel.egg/scipy/optimize/zeros.py:149: RuntimeWarning: Tolerance of -3.567693771e+13 reached\n",
        "  warnings.warn(msg, RuntimeWarning)\n",
        "/Library/Python/2.7/site-packages/scipy-0.13.0.dev_c31f167_20130514-py2.7-macosx-10.8-intel.egg/scipy/optimize/zeros.py:149: RuntimeWarning: Tolerance of 2.79396772385e-08 reached\n",
        "  warnings.warn(msg, RuntimeWarning)\n"
       ]
      },
      {
       "output_type": "stream",
       "stream": "stderr",
       "text": [
        "/Library/Python/2.7/site-packages/scipy-0.13.0.dev_c31f167_20130514-py2.7-macosx-10.8-intel.egg/scipy/optimize/zeros.py:149: RuntimeWarning: Tolerance of -4.27381508582e+14 reached\n",
        "  warnings.warn(msg, RuntimeWarning)\n",
        "/Library/Python/2.7/site-packages/scipy-0.13.0.dev_c31f167_20130514-py2.7-macosx-10.8-intel.egg/scipy/optimize/zeros.py:149: RuntimeWarning: Tolerance of 8.82311798698e+14 reached\n",
        "  warnings.warn(msg, RuntimeWarning)\n"
       ]
      },
      {
       "output_type": "stream",
       "stream": "stderr",
       "text": [
        "/Library/Python/2.7/site-packages/scipy-0.13.0.dev_c31f167_20130514-py2.7-macosx-10.8-intel.egg/scipy/optimize/zeros.py:149: RuntimeWarning: Tolerance of 7.77654349804e-08 reached\n",
        "  warnings.warn(msg, RuntimeWarning)\n",
        "/Library/Python/2.7/site-packages/scipy-0.13.0.dev_c31f167_20130514-py2.7-macosx-10.8-intel.egg/scipy/optimize/zeros.py:149: RuntimeWarning: Tolerance of -1.51339918375e-08 reached\n",
        "  warnings.warn(msg, RuntimeWarning)\n"
       ]
      },
      {
       "output_type": "stream",
       "stream": "stderr",
       "text": [
        "/Library/Python/2.7/site-packages/scipy-0.13.0.dev_c31f167_20130514-py2.7-macosx-10.8-intel.egg/scipy/optimize/zeros.py:149: RuntimeWarning: Tolerance of -6.27573944374e+14 reached\n",
        "  warnings.warn(msg, RuntimeWarning)\n",
        "/Library/Python/2.7/site-packages/scipy-0.13.0.dev_c31f167_20130514-py2.7-macosx-10.8-intel.egg/scipy/optimize/zeros.py:149: RuntimeWarning: Tolerance of 8.37007846411e+14 reached\n",
        "  warnings.warn(msg, RuntimeWarning)\n"
       ]
      },
      {
       "output_type": "stream",
       "stream": "stderr",
       "text": [
        "/Library/Python/2.7/site-packages/scipy-0.13.0.dev_c31f167_20130514-py2.7-macosx-10.8-intel.egg/scipy/optimize/zeros.py:149: RuntimeWarning: Tolerance of -8.77051949866e+13 reached\n",
        "  warnings.warn(msg, RuntimeWarning)\n",
        "/Library/Python/2.7/site-packages/scipy-0.13.0.dev_c31f167_20130514-py2.7-macosx-10.8-intel.egg/scipy/optimize/zeros.py:149: RuntimeWarning: Tolerance of -6.981394848e+13 reached\n",
        "  warnings.warn(msg, RuntimeWarning)\n"
       ]
      },
      {
       "output_type": "stream",
       "stream": "stderr",
       "text": [
        "/Library/Python/2.7/site-packages/scipy-0.13.0.dev_c31f167_20130514-py2.7-macosx-10.8-intel.egg/scipy/optimize/zeros.py:149: RuntimeWarning: Tolerance of -6.88951064896e+14 reached\n",
        "  warnings.warn(msg, RuntimeWarning)\n",
        "/Library/Python/2.7/site-packages/scipy-0.13.0.dev_c31f167_20130514-py2.7-macosx-10.8-intel.egg/scipy/optimize/zeros.py:149: RuntimeWarning: Tolerance of 4.33923143014e+18 reached\n",
        "  warnings.warn(msg, RuntimeWarning)\n"
       ]
      },
      {
       "output_type": "stream",
       "stream": "stderr",
       "text": [
        "/Library/Python/2.7/site-packages/scipy-0.13.0.dev_c31f167_20130514-py2.7-macosx-10.8-intel.egg/scipy/optimize/zeros.py:149: RuntimeWarning: Tolerance of -1.18883882241e+15 reached\n",
        "  warnings.warn(msg, RuntimeWarning)\n",
        "/Library/Python/2.7/site-packages/scipy-0.13.0.dev_c31f167_20130514-py2.7-macosx-10.8-intel.egg/scipy/optimize/zeros.py:149: RuntimeWarning: Tolerance of -2.01486647926e+14 reached\n",
        "  warnings.warn(msg, RuntimeWarning)\n"
       ]
      },
      {
       "output_type": "stream",
       "stream": "stderr",
       "text": [
        "/Library/Python/2.7/site-packages/scipy-0.13.0.dev_c31f167_20130514-py2.7-macosx-10.8-intel.egg/scipy/optimize/zeros.py:149: RuntimeWarning: Tolerance of 3.64685989098e+15 reached\n",
        "  warnings.warn(msg, RuntimeWarning)\n",
        "/Library/Python/2.7/site-packages/scipy-0.13.0.dev_c31f167_20130514-py2.7-macosx-10.8-intel.egg/scipy/optimize/zeros.py:149: RuntimeWarning: Tolerance of -1.06305039418e+14 reached\n",
        "  warnings.warn(msg, RuntimeWarning)\n"
       ]
      },
      {
       "output_type": "stream",
       "stream": "stderr",
       "text": [
        "/Library/Python/2.7/site-packages/scipy-0.13.0.dev_c31f167_20130514-py2.7-macosx-10.8-intel.egg/scipy/optimize/zeros.py:149: RuntimeWarning: Tolerance of -2.07732103787e+16 reached\n",
        "  warnings.warn(msg, RuntimeWarning)\n",
        "/Library/Python/2.7/site-packages/scipy-0.13.0.dev_c31f167_20130514-py2.7-macosx-10.8-intel.egg/scipy/optimize/zeros.py:149: RuntimeWarning: Tolerance of -1.87829291489e+15 reached\n",
        "  warnings.warn(msg, RuntimeWarning)\n"
       ]
      },
      {
       "output_type": "stream",
       "stream": "stderr",
       "text": [
        "/Library/Python/2.7/site-packages/scipy-0.13.0.dev_c31f167_20130514-py2.7-macosx-10.8-intel.egg/scipy/optimize/zeros.py:149: RuntimeWarning: Tolerance of -1.9388378103e+15 reached\n",
        "  warnings.warn(msg, RuntimeWarning)\n",
        "/Library/Python/2.7/site-packages/scipy-0.13.0.dev_c31f167_20130514-py2.7-macosx-10.8-intel.egg/scipy/optimize/zeros.py:149: RuntimeWarning: Tolerance of -1.75009622378e+16 reached\n",
        "  warnings.warn(msg, RuntimeWarning)\n"
       ]
      },
      {
       "output_type": "stream",
       "stream": "stdout",
       "text": [
        "\n",
        "deleting item T1map_LL"
       ]
      },
      {
       "output_type": "stream",
       "stream": "stdout",
       "text": [
        "\n",
        "deleting item T1map_LL_fitdict"
       ]
      },
      {
       "output_type": "stream",
       "stream": "stdout",
       "text": [
        "\n",
        "deleting item vtc"
       ]
      },
      {
       "output_type": "stream",
       "stream": "stdout",
       "text": [
        "\n",
        "deleting item vtc"
       ]
      },
      {
       "output_type": "stream",
       "stream": "stdout",
       "text": [
        "\n",
        "deleting item vtc"
       ]
      },
      {
       "output_type": "stream",
       "stream": "stdout",
       "text": [
        "\n",
        "deleting item vtc"
       ]
      },
      {
       "output_type": "stream",
       "stream": "stdout",
       "text": [
        "\n",
        "deleting item vtc"
       ]
      },
      {
       "output_type": "stream",
       "stream": "stdout",
       "text": [
        "\n",
        "deleting item vtc"
       ]
      },
      {
       "output_type": "stream",
       "stream": "stdout",
       "text": [
        "\n",
        "deleting item vtc"
       ]
      },
      {
       "output_type": "stream",
       "stream": "stdout",
       "text": [
        "\n",
        "deleting item vtc"
       ]
      },
      {
       "output_type": "stream",
       "stream": "stdout",
       "text": [
        "\n",
        "deleting item vtc"
       ]
      },
      {
       "output_type": "stream",
       "stream": "stdout",
       "text": [
        "\n",
        "deleting item vtc"
       ]
      },
      {
       "output_type": "stream",
       "stream": "stdout",
       "text": [
        "\n"
       ]
      },
      {
       "output_type": "stream",
       "stream": "stderr",
       "text": [
        "/Library/Python/2.7/site-packages/scipy-0.13.0.dev_c31f167_20130514-py2.7-macosx-10.8-intel.egg/scipy/optimize/zeros.py:149: RuntimeWarning: Tolerance of 4.6284890225e+15 reached\n",
        "  warnings.warn(msg, RuntimeWarning)\n"
       ]
      }
     ],
     "prompt_number": 5
    },
    {
     "cell_type": "markdown",
     "metadata": {},
     "source": [
      "## Step 4: Transfer ROIs to other scans via (resampling onto)"
     ]
    },
    {
     "cell_type": "code",
     "collapsed": false,
     "input": [
      "fFlag = True\n",
      "label = []\n",
      "label.append('T1map_LL')\n",
      "label.append('auc60')\n",
      "\n",
      "for l in label:\n",
      "    sarpy.fmoosvi.wrappers.bulk_transfer_roi(masterlist,l, forceVal = fFlag)"
     ],
     "language": "python",
     "metadata": {},
     "outputs": [
      {
       "output_type": "stream",
       "stream": "stdout",
       "text": [
        "deleting item T1map_LL_roi\n",
        "bulk_transfer_roi: Success. Saved T1map_LL_roi in HerP2Bs01.jJ1/2"
       ]
      },
      {
       "output_type": "stream",
       "stream": "stdout",
       "text": [
        "\n",
        "deleting item T1map_LL_roi"
       ]
      },
      {
       "output_type": "stream",
       "stream": "stdout",
       "text": [
        "\n",
        "bulk_transfer_roi: Success. Saved T1map_LL_roi in HerP2Bs01.jK1/5"
       ]
      },
      {
       "output_type": "stream",
       "stream": "stdout",
       "text": [
        "\n",
        "bulk_transfer_roi: Key roblem with roi src scan for study HerP2Bs02.jJ1, maybe this study is extra"
       ]
      },
      {
       "output_type": "stream",
       "stream": "stdout",
       "text": [
        "\n",
        "bulk_transfer_roi: T1map_LL not found in study HerP2Bs02.jJ1\n",
        "deleting item T1map_LL_roi"
       ]
      },
      {
       "output_type": "stream",
       "stream": "stdout",
       "text": [
        "\n",
        "bulk_transfer_roi: Success. Saved T1map_LL_roi in HerP2Bs02.jJ2/5"
       ]
      },
      {
       "output_type": "stream",
       "stream": "stdout",
       "text": [
        "\n",
        "deleting item T1map_LL_roi"
       ]
      },
      {
       "output_type": "stream",
       "stream": "stdout",
       "text": [
        "\n",
        "bulk_transfer_roi: Success. Saved T1map_LL_roi in HerP2Bs02.jK1/6"
       ]
      },
      {
       "output_type": "stream",
       "stream": "stdout",
       "text": [
        "\n",
        "deleting item T1map_LL_roi"
       ]
      },
      {
       "output_type": "stream",
       "stream": "stdout",
       "text": [
        "\n",
        "bulk_transfer_roi: Success. Saved T1map_LL_roi in HerP2Bs03.jK1/5"
       ]
      },
      {
       "output_type": "stream",
       "stream": "stdout",
       "text": [
        "\n",
        "deleting item T1map_LL_roi"
       ]
      },
      {
       "output_type": "stream",
       "stream": "stdout",
       "text": [
        "\n",
        "bulk_transfer_roi: Success. Saved T1map_LL_roi in HerP2Bs03.jL1/6"
       ]
      },
      {
       "output_type": "stream",
       "stream": "stdout",
       "text": [
        "\n",
        "deleting item T1map_LL_roi"
       ]
      },
      {
       "output_type": "stream",
       "stream": "stdout",
       "text": [
        "\n",
        "bulk_transfer_roi: Success. Saved T1map_LL_roi in HerP2Bs04.jK1/5"
       ]
      },
      {
       "output_type": "stream",
       "stream": "stdout",
       "text": [
        "\n",
        "deleting item T1map_LL_roi"
       ]
      },
      {
       "output_type": "stream",
       "stream": "stdout",
       "text": [
        "\n",
        "bulk_transfer_roi: Success. Saved T1map_LL_roi in HerP2Bs04.jL1/5"
       ]
      },
      {
       "output_type": "stream",
       "stream": "stdout",
       "text": [
        "\n",
        "deleting item T1map_LL_roi"
       ]
      },
      {
       "output_type": "stream",
       "stream": "stdout",
       "text": [
        "\n",
        "bulk_transfer_roi: Success. Saved T1map_LL_roi in HerP2Bs04.jL1/9"
       ]
      },
      {
       "output_type": "stream",
       "stream": "stdout",
       "text": [
        "\n",
        "deleting item T1map_LL_roi"
       ]
      },
      {
       "output_type": "stream",
       "stream": "stdout",
       "text": [
        "\n",
        "bulk_transfer_roi: Success. Saved T1map_LL_roi in HerP2Bs05.jK1/5"
       ]
      },
      {
       "output_type": "stream",
       "stream": "stdout",
       "text": [
        "\n",
        "deleting item T1map_LL_roi"
       ]
      },
      {
       "output_type": "stream",
       "stream": "stdout",
       "text": [
        "\n",
        "bulk_transfer_roi: Success. Saved T1map_LL_roi in HerP2Bs05.jL1/5"
       ]
      },
      {
       "output_type": "stream",
       "stream": "stdout",
       "text": [
        "\n",
        "deleting item T1map_LL_roi"
       ]
      },
      {
       "output_type": "stream",
       "stream": "stdout",
       "text": [
        "\n",
        "bulk_transfer_roi: Success. Saved T1map_LL_roi in HerP2Bs05.jL1/9"
       ]
      },
      {
       "output_type": "stream",
       "stream": "stdout",
       "text": [
        "\n",
        "deleting item T1map_LL_roi"
       ]
      },
      {
       "output_type": "stream",
       "stream": "stdout",
       "text": [
        "\n",
        "bulk_transfer_roi: Success. Saved T1map_LL_roi in HerP2Bs06.jT1/5"
       ]
      },
      {
       "output_type": "stream",
       "stream": "stdout",
       "text": [
        "\n",
        "deleting item T1map_LL_roi"
       ]
      },
      {
       "output_type": "stream",
       "stream": "stdout",
       "text": [
        "\n",
        "bulk_transfer_roi: Success. Saved T1map_LL_roi in HerP2Bs06.jU1/5"
       ]
      },
      {
       "output_type": "stream",
       "stream": "stdout",
       "text": [
        "\n",
        "deleting item T1map_LL_roi\n",
        "bulk_transfer_roi: Success. Saved T1map_LL_roi in HerP2Bs06.jU1/9"
       ]
      },
      {
       "output_type": "stream",
       "stream": "stdout",
       "text": [
        "\n",
        "deleting item T1map_LL_roi"
       ]
      },
      {
       "output_type": "stream",
       "stream": "stdout",
       "text": [
        "\n",
        "bulk_transfer_roi: Success. Saved T1map_LL_roi in HerP2Bs07.jT1/5"
       ]
      },
      {
       "output_type": "stream",
       "stream": "stdout",
       "text": [
        "\n",
        "deleting item T1map_LL_roi"
       ]
      },
      {
       "output_type": "stream",
       "stream": "stdout",
       "text": [
        "\n",
        "bulk_transfer_roi: Success. Saved T1map_LL_roi in HerP2Bs07.jU1/5"
       ]
      },
      {
       "output_type": "stream",
       "stream": "stdout",
       "text": [
        "\n",
        "deleting item T1map_LL_roi"
       ]
      },
      {
       "output_type": "stream",
       "stream": "stdout",
       "text": [
        "\n",
        "bulk_transfer_roi: Success. Saved T1map_LL_roi in HerP2Bs07.jU1/9"
       ]
      },
      {
       "output_type": "stream",
       "stream": "stdout",
       "text": [
        "\n",
        "deleting item T1map_LL_roi"
       ]
      },
      {
       "output_type": "stream",
       "stream": "stdout",
       "text": [
        "\n",
        "bulk_transfer_roi: Success. Saved T1map_LL_roi in HerP2Bs08.jT1/5"
       ]
      },
      {
       "output_type": "stream",
       "stream": "stdout",
       "text": [
        "\n",
        "deleting item T1map_LL_roi"
       ]
      },
      {
       "output_type": "stream",
       "stream": "stdout",
       "text": [
        "\n",
        "bulk_transfer_roi: Success. Saved T1map_LL_roi in HerP2Bs08.jU1/5"
       ]
      },
      {
       "output_type": "stream",
       "stream": "stdout",
       "text": [
        "\n",
        "deleting item T1map_LL_roi"
       ]
      },
      {
       "output_type": "stream",
       "stream": "stdout",
       "text": [
        "\n",
        "bulk_transfer_roi: Success. Saved T1map_LL_roi in HerP2Bs08.jU1/9"
       ]
      },
      {
       "output_type": "stream",
       "stream": "stdout",
       "text": [
        "\n",
        "deleting item T1map_LL_roi"
       ]
      },
      {
       "output_type": "stream",
       "stream": "stdout",
       "text": [
        "\n",
        "bulk_transfer_roi: Success. Saved T1map_LL_roi in HerP2Bs09.kp1/5"
       ]
      },
      {
       "output_type": "stream",
       "stream": "stdout",
       "text": [
        "\n",
        "deleting item T1map_LL_roi"
       ]
      },
      {
       "output_type": "stream",
       "stream": "stdout",
       "text": [
        "\n",
        "bulk_transfer_roi: Success. Saved T1map_LL_roi in HerP2Bs09.kq1/4"
       ]
      },
      {
       "output_type": "stream",
       "stream": "stdout",
       "text": [
        "\n",
        "deleting item T1map_LL_roi"
       ]
      },
      {
       "output_type": "stream",
       "stream": "stdout",
       "text": [
        "\n",
        "bulk_transfer_roi: Success. Saved T1map_LL_roi in HerP2Bs09.kq1/8"
       ]
      },
      {
       "output_type": "stream",
       "stream": "stdout",
       "text": [
        "\n",
        "deleting item T1map_LL_roi"
       ]
      },
      {
       "output_type": "stream",
       "stream": "stdout",
       "text": [
        "\n",
        "bulk_transfer_roi: Success. Saved T1map_LL_roi in HerP2Bs10.kp1/5"
       ]
      },
      {
       "output_type": "stream",
       "stream": "stdout",
       "text": [
        "\n",
        "deleting item T1map_LL_roi"
       ]
      },
      {
       "output_type": "stream",
       "stream": "stdout",
       "text": [
        "\n",
        "bulk_transfer_roi: Success. Saved T1map_LL_roi in HerP2Bs10.kq1/4"
       ]
      },
      {
       "output_type": "stream",
       "stream": "stdout",
       "text": [
        "\n",
        "deleting item T1map_LL_roi"
       ]
      },
      {
       "output_type": "stream",
       "stream": "stdout",
       "text": [
        "\n",
        "bulk_transfer_roi: Success. Saved T1map_LL_roi in HerP2Bs10.kq1/8"
       ]
      },
      {
       "output_type": "stream",
       "stream": "stdout",
       "text": [
        "\n",
        "Firas: you really need to fix this function so it uses the masterlist\n",
        "bulk_transfer_roi: auc60 not found in study HerP2Bs01.jJ1"
       ]
      },
      {
       "output_type": "stream",
       "stream": "stdout",
       "text": [
        "\n",
        "deleting item auc60_roi"
       ]
      },
      {
       "output_type": "stream",
       "stream": "stdout",
       "text": [
        "\n",
        "bulk_transfer_roi: Success. Saved auc60_roi in HerP2Bs01.jK1/9"
       ]
      },
      {
       "output_type": "stream",
       "stream": "stdout",
       "text": [
        "\n",
        "bulk_transfer_roi: Key roblem with roi src scan for study HerP2Bs02.jJ1, maybe this study is extra"
       ]
      },
      {
       "output_type": "stream",
       "stream": "stdout",
       "text": [
        "\n",
        "bulk_transfer_roi: auc60 not found in study HerP2Bs02.jJ1\n",
        "bulk_transfer_roi: auc60 not found in study HerP2Bs02.jJ2"
       ]
      },
      {
       "output_type": "stream",
       "stream": "stdout",
       "text": [
        "\n",
        "deleting item auc60_roi"
       ]
      },
      {
       "output_type": "stream",
       "stream": "stdout",
       "text": [
        "\n",
        "bulk_transfer_roi: Success. Saved auc60_roi in HerP2Bs02.jK1/9"
       ]
      },
      {
       "output_type": "stream",
       "stream": "stdout",
       "text": [
        "\n",
        "bulk_transfer_roi: auc60 not found in study HerP2Bs03.jK1"
       ]
      },
      {
       "output_type": "stream",
       "stream": "stdout",
       "text": [
        "\n",
        "deleting item auc60_roi"
       ]
      },
      {
       "output_type": "stream",
       "stream": "stdout",
       "text": [
        "\n",
        "bulk_transfer_roi: Success. Saved auc60_roi in HerP2Bs03.jL1/9"
       ]
      },
      {
       "output_type": "stream",
       "stream": "stdout",
       "text": [
        "\n",
        "bulk_transfer_roi: auc60 not found in study HerP2Bs04.jK1"
       ]
      },
      {
       "output_type": "stream",
       "stream": "stdout",
       "text": [
        "\n",
        "deleting item auc60_roi"
       ]
      },
      {
       "output_type": "stream",
       "stream": "stdout",
       "text": [
        "\n",
        "bulk_transfer_roi: Success. Saved auc60_roi in HerP2Bs04.jL1/8"
       ]
      },
      {
       "output_type": "stream",
       "stream": "stdout",
       "text": [
        "\n",
        "bulk_transfer_roi: auc60 not found in study HerP2Bs05.jK1"
       ]
      },
      {
       "output_type": "stream",
       "stream": "stdout",
       "text": [
        "\n",
        "deleting item auc60_roi"
       ]
      },
      {
       "output_type": "stream",
       "stream": "stdout",
       "text": [
        "\n",
        "bulk_transfer_roi: Success. Saved auc60_roi in HerP2Bs05.jL1/8"
       ]
      },
      {
       "output_type": "stream",
       "stream": "stdout",
       "text": [
        "\n",
        "bulk_transfer_roi: auc60 not found in study HerP2Bs06.jT1"
       ]
      },
      {
       "output_type": "stream",
       "stream": "stdout",
       "text": [
        "\n",
        "deleting item auc60_roi"
       ]
      },
      {
       "output_type": "stream",
       "stream": "stdout",
       "text": [
        "\n",
        "bulk_transfer_roi: Success. Saved auc60_roi in HerP2Bs06.jU1/8"
       ]
      },
      {
       "output_type": "stream",
       "stream": "stdout",
       "text": [
        "\n",
        "bulk_transfer_roi: auc60 not found in study HerP2Bs07.jT1"
       ]
      },
      {
       "output_type": "stream",
       "stream": "stdout",
       "text": [
        "\n",
        "deleting item auc60_roi"
       ]
      },
      {
       "output_type": "stream",
       "stream": "stdout",
       "text": [
        "\n",
        "bulk_transfer_roi: Success. Saved auc60_roi in HerP2Bs07.jU1/8"
       ]
      },
      {
       "output_type": "stream",
       "stream": "stdout",
       "text": [
        "\n",
        "bulk_transfer_roi: auc60 not found in study HerP2Bs08.jT1"
       ]
      },
      {
       "output_type": "stream",
       "stream": "stdout",
       "text": [
        "\n",
        "deleting item auc60_roi"
       ]
      },
      {
       "output_type": "stream",
       "stream": "stdout",
       "text": [
        "\n",
        "bulk_transfer_roi: Success. Saved auc60_roi in HerP2Bs08.jU1/8"
       ]
      },
      {
       "output_type": "stream",
       "stream": "stdout",
       "text": [
        "\n",
        "bulk_transfer_roi: auc60 not found in study HerP2Bs09.kp1"
       ]
      },
      {
       "output_type": "stream",
       "stream": "stdout",
       "text": [
        "\n",
        "deleting item auc60_roi"
       ]
      },
      {
       "output_type": "stream",
       "stream": "stdout",
       "text": [
        "\n",
        "bulk_transfer_roi: Success. Saved auc60_roi in HerP2Bs09.kq1/7"
       ]
      },
      {
       "output_type": "stream",
       "stream": "stdout",
       "text": [
        "\n",
        "bulk_transfer_roi: auc60 not found in study HerP2Bs10.kp1"
       ]
      },
      {
       "output_type": "stream",
       "stream": "stdout",
       "text": [
        "\n",
        "deleting item auc60_roi"
       ]
      },
      {
       "output_type": "stream",
       "stream": "stdout",
       "text": [
        "\n",
        "bulk_transfer_roi: Success. Saved auc60_roi in HerP2Bs10.kq1/7"
       ]
      },
      {
       "output_type": "stream",
       "stream": "stdout",
       "text": [
        "\n",
        "Firas: you really need to fix this function so it uses the masterlist\n"
       ]
      }
     ],
     "prompt_number": 6
    },
    {
     "cell_type": "markdown",
     "metadata": {},
     "source": [
      "## Step 5: Perform advanced analyses (requiring ROIs or basic adata)"
     ]
    },
    {
     "cell_type": "code",
     "collapsed": false,
     "input": [
      "adv_analyze_list = []\n",
      "fFlag = True\n",
      "\n",
      "#adv_analyze_list.append(['24h-DCE','ec','auc60_roi',fFlag])\n",
      "adv_analyze_list.append(['24h-DCE','-24h-LL','T1map_LL','gd_conc',fFlag])\n",
      "adv_analyze_list.append(['24h-DCE','gd_conc','augc60',fFlag])\n",
      "adv_analyze_list.append(['-24h-LL','+24h-LL','T1map_LL','deltaT1gd',fFlag])\n",
      "\n",
      "for items in adv_analyze_list:\n",
      "    \n",
      "    if items[1] == 'ec':\n",
      "        \n",
      "        sarpy.fmoosvi.wrappers.calc_enhancement_curve(masterlist,\n",
      "                                                      items[0],items[1],\n",
      "                                                      items[2],forceVal=fFlag)\n",
      "    if items[3] == 'gd_conc':\n",
      "        \n",
      "        sarpy.fmoosvi.wrappers.conc_from_signal(masterlist, items[0],\n",
      "                                        data_label_T1map = items[1],\n",
      "                                        adata_label = items[2], \n",
      "                                        analysis_label = items[3],\n",
      "                                        forceVal = fFlag)\n",
      "    elif items[2] == 'augc60':\n",
      "        \n",
      "        sarpy.fmoosvi.wrappers.calc_AUGC(masterlist,\n",
      "                                         items[0], items[1],\n",
      "                                         analysis_label=items[2],\n",
      "                                         forceVal = items[3])\n",
      "        \n",
      "    elif items[3] == 'deltaT1gd':\n",
      "        sarpy.fmoosvi.wrappers.store_deltaT1(masterlist, \n",
      "                                         items[0],items[1],\n",
      "                                         adata_label1=items[2],\n",
      "                                         analysis_label=items[3],\n",
      "                                         forceVal = True)        "
     ],
     "language": "python",
     "metadata": {},
     "outputs": [
      {
       "output_type": "stream",
       "stream": "stderr",
       "text": [
        "/phd/Dropbox/code/python/sarpy/fmoosvi/analysis.py:400: RuntimeWarning: invalid value encountered in log\n",
        "  T1[x,y,slice,rep] = -TR / numpy.log(E2)\n",
        "/phd/Dropbox/code/python/sarpy/fmoosvi/analysis.py:400: RuntimeWarning: divide by zero encountered in double_scalars\n",
        "  T1[x,y,slice,rep] = -TR / numpy.log(E2)\n"
       ]
      },
      {
       "output_type": "stream",
       "stream": "stdout",
       "text": [
        "deleting item gd_conc\n",
        "gd_conc: Success. Saved HerP2Bs01.jK1/9"
       ]
      },
      {
       "output_type": "stream",
       "stream": "stdout",
       "text": [
        "\n",
        "deleting item gd_conc"
       ]
      },
      {
       "output_type": "stream",
       "stream": "stdout",
       "text": [
        "\n",
        "gd_conc: Success. Saved HerP2Bs02.jK1/9"
       ]
      },
      {
       "output_type": "stream",
       "stream": "stdout",
       "text": [
        "\n",
        "deleting item gd_conc"
       ]
      },
      {
       "output_type": "stream",
       "stream": "stdout",
       "text": [
        "\n",
        "gd_conc: Success. Saved HerP2Bs03.jL1/9"
       ]
      },
      {
       "output_type": "stream",
       "stream": "stdout",
       "text": [
        "\n",
        "deleting item gd_conc"
       ]
      },
      {
       "output_type": "stream",
       "stream": "stdout",
       "text": [
        "\n",
        "gd_conc: Success. Saved HerP2Bs04.jL1/8"
       ]
      },
      {
       "output_type": "stream",
       "stream": "stdout",
       "text": [
        "\n",
        "deleting item gd_conc"
       ]
      },
      {
       "output_type": "stream",
       "stream": "stdout",
       "text": [
        "\n",
        "gd_conc: Success. Saved HerP2Bs05.jL1/8"
       ]
      },
      {
       "output_type": "stream",
       "stream": "stdout",
       "text": [
        "\n",
        "deleting item gd_conc"
       ]
      },
      {
       "output_type": "stream",
       "stream": "stdout",
       "text": [
        "\n",
        "gd_conc: Success. Saved HerP2Bs06.jU1/8"
       ]
      },
      {
       "output_type": "stream",
       "stream": "stdout",
       "text": [
        "\n",
        "deleting item gd_conc"
       ]
      },
      {
       "output_type": "stream",
       "stream": "stdout",
       "text": [
        "\n",
        "gd_conc: Success. Saved HerP2Bs07.jU1/8"
       ]
      },
      {
       "output_type": "stream",
       "stream": "stdout",
       "text": [
        "\n",
        "deleting item gd_conc"
       ]
      },
      {
       "output_type": "stream",
       "stream": "stdout",
       "text": [
        "\n",
        "gd_conc: Success. Saved HerP2Bs08.jU1/8"
       ]
      },
      {
       "output_type": "stream",
       "stream": "stdout",
       "text": [
        "\n",
        "deleting item gd_conc"
       ]
      },
      {
       "output_type": "stream",
       "stream": "stdout",
       "text": [
        "\n",
        "gd_conc: Success. Saved HerP2Bs09.kq1/7"
       ]
      },
      {
       "output_type": "stream",
       "stream": "stdout",
       "text": [
        "\n",
        "deleting item gd_conc"
       ]
      },
      {
       "output_type": "stream",
       "stream": "stdout",
       "text": [
        "\n",
        "gd_conc: Success. Saved HerP2Bs10.kq1/7"
       ]
      },
      {
       "output_type": "stream",
       "stream": "stdout",
       "text": [
        "\n",
        "deleting item augc60"
       ]
      },
      {
       "output_type": "stream",
       "stream": "stdout",
       "text": [
        "\n",
        "augc60: Success. Saved HerP2Bs01.jK1/9"
       ]
      },
      {
       "output_type": "stream",
       "stream": "stdout",
       "text": [
        "\n",
        "deleting item augc60"
       ]
      },
      {
       "output_type": "stream",
       "stream": "stdout",
       "text": [
        "\n",
        "augc60: Success. Saved HerP2Bs02.jK1/9"
       ]
      },
      {
       "output_type": "stream",
       "stream": "stdout",
       "text": [
        "\n",
        "deleting item augc60"
       ]
      },
      {
       "output_type": "stream",
       "stream": "stdout",
       "text": [
        "\n",
        "augc60: Success. Saved HerP2Bs03.jL1/9"
       ]
      },
      {
       "output_type": "stream",
       "stream": "stdout",
       "text": [
        "\n",
        "deleting item augc60"
       ]
      },
      {
       "output_type": "stream",
       "stream": "stdout",
       "text": [
        "\n",
        "augc60: Success. Saved HerP2Bs04.jL1/8"
       ]
      },
      {
       "output_type": "stream",
       "stream": "stdout",
       "text": [
        "\n",
        "deleting item augc60"
       ]
      },
      {
       "output_type": "stream",
       "stream": "stdout",
       "text": [
        "\n",
        "augc60: Success. Saved HerP2Bs05.jL1/8"
       ]
      },
      {
       "output_type": "stream",
       "stream": "stdout",
       "text": [
        "\n",
        "deleting item augc60"
       ]
      },
      {
       "output_type": "stream",
       "stream": "stdout",
       "text": [
        "\n",
        "augc60: Success. Saved HerP2Bs06.jU1/8"
       ]
      },
      {
       "output_type": "stream",
       "stream": "stdout",
       "text": [
        "\n",
        "deleting item augc60"
       ]
      },
      {
       "output_type": "stream",
       "stream": "stdout",
       "text": [
        "\n",
        "augc60: Success. Saved HerP2Bs07.jU1/8"
       ]
      },
      {
       "output_type": "stream",
       "stream": "stdout",
       "text": [
        "\n",
        "deleting item augc60"
       ]
      },
      {
       "output_type": "stream",
       "stream": "stdout",
       "text": [
        "\n",
        "augc60: Success. Saved HerP2Bs08.jU1/8"
       ]
      },
      {
       "output_type": "stream",
       "stream": "stdout",
       "text": [
        "\n",
        "deleting item augc60"
       ]
      },
      {
       "output_type": "stream",
       "stream": "stdout",
       "text": [
        "\n",
        "augc60: Success. Saved HerP2Bs09.kq1/7"
       ]
      },
      {
       "output_type": "stream",
       "stream": "stdout",
       "text": [
        "\n",
        "deleting item augc60"
       ]
      },
      {
       "output_type": "stream",
       "stream": "stdout",
       "text": [
        "\n",
        "augc60: Success. Saved HerP2Bs10.kq1/7"
       ]
      },
      {
       "output_type": "stream",
       "stream": "stdout",
       "text": [
        "\n",
        "deltaT1gd: Not found adata T1map_LL or T1map_LL in patient HerP2Bs01"
       ]
      },
      {
       "output_type": "stream",
       "stream": "stdout",
       "text": [
        "\n",
        "deltaT1gd: Not found adata T1map_LL or T1map_LL in patient HerP2Bs02\n",
        "deltaT1gd: Not found adata T1map_LL or T1map_LL in patient HerP2Bs03\n",
        "deleting item deltaT1gd"
       ]
      },
      {
       "output_type": "stream",
       "stream": "stdout",
       "text": [
        "\n",
        "deltaT1gd: Success. Saved HerP2Bs04.jL1/9"
       ]
      },
      {
       "output_type": "stream",
       "stream": "stdout",
       "text": [
        "\n",
        "deleting item deltaT1gd"
       ]
      },
      {
       "output_type": "stream",
       "stream": "stdout",
       "text": [
        "\n",
        "deltaT1gd: Success. Saved HerP2Bs05.jL1/9"
       ]
      },
      {
       "output_type": "stream",
       "stream": "stdout",
       "text": [
        "\n",
        "deleting item deltaT1gd"
       ]
      },
      {
       "output_type": "stream",
       "stream": "stdout",
       "text": [
        "\n",
        "deltaT1gd: Success. Saved HerP2Bs06.jU1/9"
       ]
      },
      {
       "output_type": "stream",
       "stream": "stdout",
       "text": [
        "\n",
        "deleting item deltaT1gd"
       ]
      },
      {
       "output_type": "stream",
       "stream": "stdout",
       "text": [
        "\n",
        "deltaT1gd: Success. Saved HerP2Bs07.jU1/9"
       ]
      },
      {
       "output_type": "stream",
       "stream": "stdout",
       "text": [
        "\n",
        "deleting item deltaT1gd"
       ]
      },
      {
       "output_type": "stream",
       "stream": "stdout",
       "text": [
        "\n",
        "deltaT1gd: Success. Saved HerP2Bs08.jU1/9"
       ]
      },
      {
       "output_type": "stream",
       "stream": "stdout",
       "text": [
        "\n",
        "deleting item deltaT1gd"
       ]
      },
      {
       "output_type": "stream",
       "stream": "stdout",
       "text": [
        "\n",
        "deltaT1gd: Success. Saved HerP2Bs09.kq1/8"
       ]
      },
      {
       "output_type": "stream",
       "stream": "stdout",
       "text": [
        "\n",
        "deleting item deltaT1gd"
       ]
      },
      {
       "output_type": "stream",
       "stream": "stdout",
       "text": [
        "\n",
        "deltaT1gd: Success. Saved HerP2Bs10.kq1/8"
       ]
      },
      {
       "output_type": "stream",
       "stream": "stdout",
       "text": [
        "\n"
       ]
      }
     ],
     "prompt_number": 7
    },
    {
     "cell_type": "markdown",
     "metadata": {},
     "source": [
      "## Step 5B: Transfer more ROIs\n"
     ]
    },
    {
     "cell_type": "code",
     "collapsed": false,
     "input": [
      "fFlag = True\n",
      "label = []\n",
      "label.append('augc60')\n",
      "\n",
      "for l in label:\n",
      "    sarpy.fmoosvi.wrappers.bulk_transfer_roi(masterlist,l,forceVal = fFlag)"
     ],
     "language": "python",
     "metadata": {},
     "outputs": [
      {
       "output_type": "stream",
       "stream": "stdout",
       "text": [
        "bulk_transfer_roi: augc60 not found in study HerP2Bs01.jJ1\n",
        "deleting item augc60_roi"
       ]
      },
      {
       "output_type": "stream",
       "stream": "stdout",
       "text": [
        "\n",
        "bulk_transfer_roi: Success. Saved augc60_roi in HerP2Bs01.jK1/9"
       ]
      },
      {
       "output_type": "stream",
       "stream": "stdout",
       "text": [
        "\n",
        "bulk_transfer_roi: Key roblem with roi src scan for study HerP2Bs02.jJ1, maybe this study is extra"
       ]
      },
      {
       "output_type": "stream",
       "stream": "stdout",
       "text": [
        "\n",
        "bulk_transfer_roi: augc60 not found in study HerP2Bs02.jJ1\n",
        "bulk_transfer_roi: augc60 not found in study HerP2Bs02.jJ2"
       ]
      },
      {
       "output_type": "stream",
       "stream": "stdout",
       "text": [
        "\n",
        "deleting item augc60_roi"
       ]
      },
      {
       "output_type": "stream",
       "stream": "stdout",
       "text": [
        "\n",
        "bulk_transfer_roi: Success. Saved augc60_roi in HerP2Bs02.jK1/9"
       ]
      },
      {
       "output_type": "stream",
       "stream": "stdout",
       "text": [
        "\n",
        "bulk_transfer_roi: augc60 not found in study HerP2Bs03.jK1"
       ]
      },
      {
       "output_type": "stream",
       "stream": "stdout",
       "text": [
        "\n",
        "deleting item augc60_roi"
       ]
      },
      {
       "output_type": "stream",
       "stream": "stdout",
       "text": [
        "\n",
        "bulk_transfer_roi: Success. Saved augc60_roi in HerP2Bs03.jL1/9"
       ]
      },
      {
       "output_type": "stream",
       "stream": "stdout",
       "text": [
        "\n",
        "bulk_transfer_roi: augc60 not found in study HerP2Bs04.jK1"
       ]
      },
      {
       "output_type": "stream",
       "stream": "stdout",
       "text": [
        "\n",
        "deleting item augc60_roi"
       ]
      },
      {
       "output_type": "stream",
       "stream": "stdout",
       "text": [
        "\n",
        "bulk_transfer_roi: Success. Saved augc60_roi in HerP2Bs04.jL1/8"
       ]
      },
      {
       "output_type": "stream",
       "stream": "stdout",
       "text": [
        "\n",
        "bulk_transfer_roi: augc60 not found in study HerP2Bs05.jK1"
       ]
      },
      {
       "output_type": "stream",
       "stream": "stdout",
       "text": [
        "\n",
        "deleting item augc60_roi"
       ]
      },
      {
       "output_type": "stream",
       "stream": "stdout",
       "text": [
        "\n",
        "bulk_transfer_roi: Success. Saved augc60_roi in HerP2Bs05.jL1/8"
       ]
      },
      {
       "output_type": "stream",
       "stream": "stdout",
       "text": [
        "\n",
        "bulk_transfer_roi: augc60 not found in study HerP2Bs06.jT1"
       ]
      },
      {
       "output_type": "stream",
       "stream": "stdout",
       "text": [
        "\n",
        "deleting item augc60_roi"
       ]
      },
      {
       "output_type": "stream",
       "stream": "stdout",
       "text": [
        "\n",
        "bulk_transfer_roi: Success. Saved augc60_roi in HerP2Bs06.jU1/8"
       ]
      },
      {
       "output_type": "stream",
       "stream": "stdout",
       "text": [
        "\n",
        "bulk_transfer_roi: augc60 not found in study HerP2Bs07.jT1"
       ]
      },
      {
       "output_type": "stream",
       "stream": "stdout",
       "text": [
        "\n",
        "deleting item augc60_roi"
       ]
      },
      {
       "output_type": "stream",
       "stream": "stdout",
       "text": [
        "\n",
        "bulk_transfer_roi: Success. Saved augc60_roi in HerP2Bs07.jU1/8"
       ]
      },
      {
       "output_type": "stream",
       "stream": "stdout",
       "text": [
        "\n",
        "bulk_transfer_roi: augc60 not found in study HerP2Bs08.jT1"
       ]
      },
      {
       "output_type": "stream",
       "stream": "stdout",
       "text": [
        "\n",
        "deleting item augc60_roi"
       ]
      },
      {
       "output_type": "stream",
       "stream": "stdout",
       "text": [
        "\n",
        "bulk_transfer_roi: Success. Saved augc60_roi in HerP2Bs08.jU1/8"
       ]
      },
      {
       "output_type": "stream",
       "stream": "stdout",
       "text": [
        "\n",
        "bulk_transfer_roi: augc60 not found in study HerP2Bs09.kp1"
       ]
      },
      {
       "output_type": "stream",
       "stream": "stdout",
       "text": [
        "\n",
        "deleting item augc60_roi"
       ]
      },
      {
       "output_type": "stream",
       "stream": "stdout",
       "text": [
        "\n",
        "bulk_transfer_roi: Success. Saved augc60_roi in HerP2Bs09.kq1/7"
       ]
      },
      {
       "output_type": "stream",
       "stream": "stdout",
       "text": [
        "\n",
        "bulk_transfer_roi: augc60 not found in study HerP2Bs10.kp1"
       ]
      },
      {
       "output_type": "stream",
       "stream": "stdout",
       "text": [
        "\n",
        "deleting item augc60_roi"
       ]
      },
      {
       "output_type": "stream",
       "stream": "stdout",
       "text": [
        "\n",
        "bulk_transfer_roi: Success. Saved augc60_roi in HerP2Bs10.kq1/7"
       ]
      },
      {
       "output_type": "stream",
       "stream": "stdout",
       "text": [
        "\n",
        "Firas: you really need to fix this function so it uses the masterlist\n"
       ]
      }
     ],
     "prompt_number": 8
    },
    {
     "cell_type": "code",
     "collapsed": false,
     "input": [
      "print(datetime.now()-startTime)"
     ],
     "language": "python",
     "metadata": {},
     "outputs": [
      {
       "output_type": "stream",
       "stream": "stdout",
       "text": [
        "5:55:02.788976\n"
       ]
      }
     ],
     "prompt_number": 9
    },
    {
     "cell_type": "markdown",
     "metadata": {},
     "source": [
      "## Step 6: Averages"
     ]
    },
    {
     "cell_type": "code",
     "collapsed": false,
     "input": [
      "## T1 average\n",
      "\n",
      "data_label = ['0h-LL','-24h-LL','+24h-LL']\n",
      "adata_label = 'T1map_LL'\n",
      "roi_label = 'T1map_LL_roi'\n",
      "analysis_label = 'T1avg'\n",
      "fFlag = True\n",
      "\n",
      "for s in data_label:\n",
      "    sarpy.fmoosvi.wrappers.roi_average(masterlist,s, adata_label, roi_label,analysis_label,fFlag)"
     ],
     "language": "python",
     "metadata": {},
     "outputs": [
      {
       "output_type": "stream",
       "stream": "stdout",
       "text": [
        "deleting item T1avg\n",
        "T1avg: Success. Saved HerP2Bs01.jJ1/2\n",
        "deleting item T1avg"
       ]
      },
      {
       "output_type": "stream",
       "stream": "stdout",
       "text": [
        "\n",
        "T1avg: Success. Saved HerP2Bs02.jJ2/5\n",
        "deleting item T1avg"
       ]
      },
      {
       "output_type": "stream",
       "stream": "stdout",
       "text": [
        "\n",
        "T1avg: Success. Saved HerP2Bs03.jK1/5\n",
        "deleting item T1avg"
       ]
      },
      {
       "output_type": "stream",
       "stream": "stdout",
       "text": [
        "\n",
        "T1avg: Success. Saved HerP2Bs04.jK1/5\n",
        "deleting item T1avg"
       ]
      },
      {
       "output_type": "stream",
       "stream": "stdout",
       "text": [
        "\n",
        "T1avg: Success. Saved HerP2Bs05.jK1/5\n",
        "deleting item T1avg"
       ]
      },
      {
       "output_type": "stream",
       "stream": "stdout",
       "text": [
        "\n",
        "T1avg: Success. Saved HerP2Bs06.jT1/5\n",
        "deleting item T1avg"
       ]
      },
      {
       "output_type": "stream",
       "stream": "stdout",
       "text": [
        "\n",
        "T1avg: Success. Saved HerP2Bs07.jT1/5\n",
        "deleting item T1avg"
       ]
      },
      {
       "output_type": "stream",
       "stream": "stdout",
       "text": [
        "\n",
        "T1avg: Success. Saved HerP2Bs08.jT1/5\n",
        "deleting item T1avg"
       ]
      },
      {
       "output_type": "stream",
       "stream": "stdout",
       "text": [
        "\n",
        "T1avg: Success. Saved HerP2Bs09.kp1/5\n",
        "deleting item T1avg"
       ]
      },
      {
       "output_type": "stream",
       "stream": "stdout",
       "text": [
        "\n",
        "T1avg: Success. Saved HerP2Bs10.kp1/5\n",
        "deleting item T1avg"
       ]
      },
      {
       "output_type": "stream",
       "stream": "stdout",
       "text": [
        "\n",
        "T1avg: Success. Saved HerP2Bs01.jK1/5\n",
        "deleting item T1avg"
       ]
      },
      {
       "output_type": "stream",
       "stream": "stdout",
       "text": [
        "\n",
        "T1avg: Success. Saved HerP2Bs02.jK1/6\n",
        "deleting item T1avg"
       ]
      },
      {
       "output_type": "stream",
       "stream": "stdout",
       "text": [
        "\n",
        "T1avg: Success. Saved HerP2Bs03.jL1/6\n",
        "deleting item T1avg"
       ]
      },
      {
       "output_type": "stream",
       "stream": "stdout",
       "text": [
        "\n",
        "T1avg: Success. Saved HerP2Bs04.jL1/5\n",
        "deleting item T1avg"
       ]
      },
      {
       "output_type": "stream",
       "stream": "stdout",
       "text": [
        "\n",
        "T1avg: Success. Saved HerP2Bs05.jL1/5\n",
        "deleting item T1avg"
       ]
      },
      {
       "output_type": "stream",
       "stream": "stdout",
       "text": [
        "\n",
        "T1avg: Success. Saved HerP2Bs06.jU1/5\n",
        "deleting item T1avg"
       ]
      },
      {
       "output_type": "stream",
       "stream": "stdout",
       "text": [
        "\n",
        "T1avg: Success. Saved HerP2Bs07.jU1/5\n",
        "deleting item T1avg"
       ]
      },
      {
       "output_type": "stream",
       "stream": "stdout",
       "text": [
        "\n",
        "T1avg: Success. Saved HerP2Bs08.jU1/5\n",
        "deleting item T1avg"
       ]
      },
      {
       "output_type": "stream",
       "stream": "stdout",
       "text": [
        "\n",
        "T1avg: Success. Saved HerP2Bs09.kq1/4\n",
        "deleting item T1avg"
       ]
      },
      {
       "output_type": "stream",
       "stream": "stdout",
       "text": [
        "\n",
        "T1avg: Success. Saved HerP2Bs10.kq1/4\n",
        "T1avg: Not found adata T1map_LL or T1map_LL_roi in patient HerP2Bs01\n",
        "T1avg: Not found adata T1map_LL or T1map_LL_roi in patient HerP2Bs02\n",
        "T1avg: Not found adata T1map_LL or T1map_LL_roi in patient HerP2Bs03\n",
        "deleting item T1avg"
       ]
      },
      {
       "output_type": "stream",
       "stream": "stdout",
       "text": [
        "\n",
        "T1avg: Success. Saved HerP2Bs04.jL1/9\n",
        "deleting item T1avg"
       ]
      },
      {
       "output_type": "stream",
       "stream": "stdout",
       "text": [
        "\n",
        "T1avg: Success. Saved HerP2Bs05.jL1/9\n",
        "deleting item T1avg"
       ]
      },
      {
       "output_type": "stream",
       "stream": "stdout",
       "text": [
        "\n",
        "T1avg: Success. Saved HerP2Bs06.jU1/9\n",
        "deleting item T1avg"
       ]
      },
      {
       "output_type": "stream",
       "stream": "stdout",
       "text": [
        "\n",
        "T1avg: Success. Saved HerP2Bs07.jU1/9\n",
        "deleting item T1avg"
       ]
      },
      {
       "output_type": "stream",
       "stream": "stdout",
       "text": [
        "\n",
        "T1avg: Success. Saved HerP2Bs08.jU1/9\n",
        "deleting item T1avg"
       ]
      },
      {
       "output_type": "stream",
       "stream": "stdout",
       "text": [
        "\n",
        "T1avg: Success. Saved HerP2Bs09.kq1/8\n",
        "deleting item T1avg"
       ]
      },
      {
       "output_type": "stream",
       "stream": "stdout",
       "text": [
        "\n",
        "T1avg: Success. Saved HerP2Bs10.kq1/8\n"
       ]
      },
      {
       "output_type": "stream",
       "stream": "stderr",
       "text": [
        "/Library/Python/2.7/site-packages/scipy-0.13.0.dev_c31f167_20130514-py2.7-macosx-10.8-intel.egg/scipy/stats/stats.py:346: RuntimeWarning: invalid value encountered in double_scalars\n",
        "  return np.mean(x,axis)/factor\n"
       ]
      }
     ],
     "prompt_number": 10
    },
    {
     "cell_type": "code",
     "collapsed": false,
     "input": [
      "## AUC60\n",
      "\n",
      "data_label = ['24h-DCE']\n",
      "adata_label = 'auc60'\n",
      "roi_label = 'auc60_roi'\n",
      "analysis_label = 'auc60avg'\n",
      "fFlag = True\n",
      "\n",
      "for s in data_label:\n",
      "    sarpy.fmoosvi.wrappers.roi_average(masterlist,s, adata_label, roi_label,analysis_label,fFlag)"
     ],
     "language": "python",
     "metadata": {},
     "outputs": [
      {
       "output_type": "stream",
       "stream": "stdout",
       "text": [
        "deleting item auc60avg\n",
        "auc60avg: Success. Saved HerP2Bs01.jK1/9\n",
        "deleting item auc60avg"
       ]
      },
      {
       "output_type": "stream",
       "stream": "stdout",
       "text": [
        "\n",
        "auc60avg: Success. Saved HerP2Bs02.jK1/9\n",
        "deleting item auc60avg"
       ]
      },
      {
       "output_type": "stream",
       "stream": "stdout",
       "text": [
        "\n",
        "auc60avg: Success. Saved HerP2Bs03.jL1/9\n",
        "deleting item auc60avg"
       ]
      },
      {
       "output_type": "stream",
       "stream": "stdout",
       "text": [
        "\n",
        "auc60avg: Success. Saved HerP2Bs04.jL1/8\n",
        "deleting item auc60avg"
       ]
      },
      {
       "output_type": "stream",
       "stream": "stdout",
       "text": [
        "\n",
        "auc60avg: Success. Saved HerP2Bs05.jL1/8\n",
        "deleting item auc60avg"
       ]
      },
      {
       "output_type": "stream",
       "stream": "stdout",
       "text": [
        "\n",
        "auc60avg: Success. Saved HerP2Bs06.jU1/8\n",
        "deleting item auc60avg"
       ]
      },
      {
       "output_type": "stream",
       "stream": "stdout",
       "text": [
        "\n",
        "auc60avg: Success. Saved HerP2Bs07.jU1/8\n",
        "deleting item auc60avg"
       ]
      },
      {
       "output_type": "stream",
       "stream": "stdout",
       "text": [
        "\n",
        "auc60avg: Success. Saved HerP2Bs08.jU1/8\n",
        "deleting item auc60avg"
       ]
      },
      {
       "output_type": "stream",
       "stream": "stdout",
       "text": [
        "\n",
        "auc60avg: Success. Saved HerP2Bs09.kq1/7\n",
        "deleting item auc60avg"
       ]
      },
      {
       "output_type": "stream",
       "stream": "stdout",
       "text": [
        "\n",
        "auc60avg: Success. Saved HerP2Bs10.kq1/7\n"
       ]
      }
     ],
     "prompt_number": 11
    },
    {
     "cell_type": "code",
     "collapsed": false,
     "input": [
      "## AUGC60\n",
      "\n",
      "data_label = ['24h-DCE']\n",
      "adata_label = 'augc60'\n",
      "roi_label = 'augc60_roi'\n",
      "analysis_label = 'augc60avg'\n",
      "fFlag = True\n",
      "\n",
      "for s in data_label:\n",
      "    sarpy.fmoosvi.wrappers.roi_average(masterlist,s, adata_label, roi_label,analysis_label,fFlag)"
     ],
     "language": "python",
     "metadata": {},
     "outputs": [
      {
       "output_type": "stream",
       "stream": "stdout",
       "text": [
        "deleting item augc60avg\n",
        "augc60avg: Success. Saved HerP2Bs01.jK1/9\n",
        "deleting item augc60avg"
       ]
      },
      {
       "output_type": "stream",
       "stream": "stdout",
       "text": [
        "\n",
        "augc60avg: Success. Saved HerP2Bs02.jK1/9\n",
        "deleting item augc60avg"
       ]
      },
      {
       "output_type": "stream",
       "stream": "stdout",
       "text": [
        "\n",
        "augc60avg: Success. Saved HerP2Bs03.jL1/9\n",
        "deleting item augc60avg"
       ]
      },
      {
       "output_type": "stream",
       "stream": "stdout",
       "text": [
        "\n",
        "augc60avg: Success. Saved HerP2Bs04.jL1/8\n",
        "deleting item augc60avg"
       ]
      },
      {
       "output_type": "stream",
       "stream": "stdout",
       "text": [
        "\n",
        "augc60avg: Success. Saved HerP2Bs05.jL1/8\n",
        "deleting item augc60avg"
       ]
      },
      {
       "output_type": "stream",
       "stream": "stdout",
       "text": [
        "\n",
        "augc60avg: Success. Saved HerP2Bs06.jU1/8\n",
        "deleting item augc60avg"
       ]
      },
      {
       "output_type": "stream",
       "stream": "stdout",
       "text": [
        "\n",
        "augc60avg: Success. Saved HerP2Bs07.jU1/8\n",
        "deleting item augc60avg"
       ]
      },
      {
       "output_type": "stream",
       "stream": "stdout",
       "text": [
        "\n",
        "augc60avg: Success. Saved HerP2Bs08.jU1/8\n",
        "deleting item augc60avg"
       ]
      },
      {
       "output_type": "stream",
       "stream": "stdout",
       "text": [
        "\n",
        "augc60avg: Success. Saved HerP2Bs09.kq1/7\n",
        "deleting item augc60avg"
       ]
      },
      {
       "output_type": "stream",
       "stream": "stdout",
       "text": [
        "\n",
        "augc60avg: Success. Saved HerP2Bs10.kq1/7\n"
       ]
      }
     ],
     "prompt_number": 12
    },
    {
     "cell_type": "code",
     "collapsed": false,
     "input": [
      "## Delta T1Gd Avg\n",
      "\n",
      "data_label = ['+24h-LL']\n",
      "adata_label = 'deltaT1gd'\n",
      "roi_label = 'T1map_LL_roi'\n",
      "analysis_label = 'deltaT1gdavg'\n",
      "fFlag = True\n",
      "\n",
      "for s in data_label:\n",
      "    sarpy.fmoosvi.wrappers.roi_average(masterlist,s, adata_label, roi_label,analysis_label,fFlag)"
     ],
     "language": "python",
     "metadata": {},
     "outputs": [
      {
       "output_type": "stream",
       "stream": "stdout",
       "text": [
        "deltaT1gdavg: Not found adata deltaT1gd or T1map_LL_roi in patient HerP2Bs01\n",
        "deltaT1gdavg: Not found adata deltaT1gd or T1map_LL_roi in patient HerP2Bs02\n",
        "deltaT1gdavg: Not found adata deltaT1gd or T1map_LL_roi in patient HerP2Bs03\n",
        "deleting item deltaT1gdavg"
       ]
      },
      {
       "output_type": "stream",
       "stream": "stdout",
       "text": [
        "\n",
        "deltaT1gdavg: Success. Saved HerP2Bs04.jL1/9\n",
        "deleting item deltaT1gdavg"
       ]
      },
      {
       "output_type": "stream",
       "stream": "stdout",
       "text": [
        "\n",
        "deltaT1gdavg: Success. Saved HerP2Bs05.jL1/9\n",
        "deleting item deltaT1gdavg"
       ]
      },
      {
       "output_type": "stream",
       "stream": "stdout",
       "text": [
        "\n",
        "deltaT1gdavg: Success. Saved HerP2Bs06.jU1/9\n",
        "deleting item deltaT1gdavg"
       ]
      },
      {
       "output_type": "stream",
       "stream": "stdout",
       "text": [
        "\n",
        "deltaT1gdavg: Success. Saved HerP2Bs07.jU1/9\n",
        "deleting item deltaT1gdavg"
       ]
      },
      {
       "output_type": "stream",
       "stream": "stdout",
       "text": [
        "\n",
        "deltaT1gdavg: Success. Saved HerP2Bs08.jU1/9\n",
        "deleting item deltaT1gdavg"
       ]
      },
      {
       "output_type": "stream",
       "stream": "stdout",
       "text": [
        "\n",
        "deltaT1gdavg: Success. Saved HerP2Bs09.kq1/8\n",
        "deleting item deltaT1gdavg"
       ]
      },
      {
       "output_type": "stream",
       "stream": "stdout",
       "text": [
        "\n",
        "deltaT1gdavg: Success. Saved HerP2Bs10.kq1/8\n"
       ]
      }
     ],
     "prompt_number": 13
    },
    {
     "cell_type": "markdown",
     "metadata": {},
     "source": [
      "### Export everything as as csv"
     ]
    },
    {
     "cell_type": "code",
     "collapsed": false,
     "input": [
      "import sarpy\n",
      "csv_list = []\n",
      "\n",
      "csv_list.append(['0h-LL','T1avg'])\n",
      "csv_list.append(['+24h-LL','T1avg'])\n",
      "csv_list.append(['-24h-LL','T1avg'])\n",
      "csv_list.append(['-24h-LL','T1avg'])\n",
      "csv_list.append(['+24h-LL','deltaT1gdavg'])\n",
      "csv_list.append(['24h-DCE','auc60avg'])\n",
      "csv_list.append(['24h-DCE','augc60avg'])\n",
      "\n",
      "for it in csv_list:\n",
      "    \n",
      "    sarpy.io.write_csv.write_csv(masterlist,it[0],it[1])"
     ],
     "language": "python",
     "metadata": {},
     "outputs": [
      {
       "output_type": "stream",
       "stream": "stdout",
       "text": [
        "write_csv: Not found HerP2Bs01 and +24h-LL,T1avg\n",
        "write_csv: Not found HerP2Bs02 and +24h-LL,T1avg\n",
        "write_csv: Not found HerP2Bs03 and +24h-LL,T1avg\n",
        "write_csv: Not found HerP2Bs01 and +24h-LL,deltaT1gdavg"
       ]
      },
      {
       "output_type": "stream",
       "stream": "stdout",
       "text": [
        "\n",
        "write_csv: Not found HerP2Bs02 and +24h-LL,deltaT1gdavg\n",
        "write_csv: Not found HerP2Bs03 and +24h-LL,deltaT1gdavg\n"
       ]
      }
     ],
     "prompt_number": 14
    },
    {
     "cell_type": "code",
     "collapsed": false,
     "input": [
      "import sarpy\n",
      "sarpy.Experiment('HerP2').find_adata_scans()['gd_conc']"
     ],
     "language": "python",
     "metadata": {},
     "outputs": [
      {
       "output_type": "pyout",
       "prompt_number": 3,
       "text": [
        "[['HerP2Bs01.jK1/9'],\n",
        " ['HerP2Bs02.jK1/9'],\n",
        " ['HerP2Bs03.jL1/9'],\n",
        " ['HerP2Bs04.jL1/8'],\n",
        " ['HerP2Bs05.jL1/8'],\n",
        " ['HerP2Bs06.jU1/8'],\n",
        " ['HerP2Bs07.jU1/8'],\n",
        " ['HerP2Bs08.jU1/8'],\n",
        " ['HerP2Bs09.kq1/7'],\n",
        " ['HerP2Bs10.kq1/7'],\n",
        " ['HerP2Bs11.kq1/7']]"
       ]
      }
     ],
     "prompt_number": 3
    },
    {
     "cell_type": "code",
     "collapsed": false,
     "input": [
      "sarpy.Scan('HerP2Bs11.kq1/7').adata"
     ],
     "language": "python",
     "metadata": {},
     "outputs": [
      {
       "output_type": "pyout",
       "prompt_number": 4,
       "text": [
        "{u'augc60': Analysed data ('augc60') based on PDATA (uid=2.16.756.5.5.100.1384712661.18055.1371586792.409)\n",
        "  created on Tue Jul 23 03:08:58 2013\n",
        "  parent: /Users/fmoosvi/data/stefan/nmr/HerP2Bs11.kq1/7/pdata/1, u'auc60': Analysed data ('auc60') based on PDATA (uid=2.16.756.5.5.100.1384712661.18055.1371586792.409)\n",
        "  created on Tue Jul 23 01:44:14 2013\n",
        "  parent: /Users/fmoosvi/data/stefan/nmr/HerP2Bs11.kq1/7/pdata/1, u'gd_conc': Analysed data ('gd_conc') based on PDATA (uid=2.16.756.5.5.100.1384712661.18055.1371586792.409)\n",
        "  created on Tue Jul 23 03:07:10 2013\n",
        "  parent: /Users/fmoosvi/data/stefan/nmr/HerP2Bs11.kq1/7/pdata/1, u'vtc': Analysed data ('vtc') based on PDATA (uid=2.16.756.5.5.100.1384712661.18055.1371586792.409)\n",
        "  created on Tue Jul 23 02:19:34 2013\n",
        "  parent: /Users/fmoosvi/data/stefan/nmr/HerP2Bs11.kq1/7/pdata/1}"
       ]
      }
     ],
     "prompt_number": 4
    },
    {
     "cell_type": "code",
     "collapsed": false,
     "input": [],
     "language": "python",
     "metadata": {},
     "outputs": []
    }
   ],
   "metadata": {}
  }
 ]
}