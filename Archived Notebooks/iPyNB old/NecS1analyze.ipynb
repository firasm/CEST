{
 "metadata": {
  "name": ""
 },
 "nbformat": 3,
 "nbformat_minor": 0,
 "worksheets": [
  {
   "cells": [
    {
     "cell_type": "markdown",
     "metadata": {},
     "source": [
      "This is a template for analyzing various animals using the new python setup.\n",
      "\n",
      "Change the name of the experiment in Step 0, and then again the names of the labels in Step 4. This template requires that the masterlist be already created using generate_masterlist.py"
     ]
    },
    {
     "cell_type": "markdown",
     "metadata": {},
     "source": [
      "#### Set imports and define the experiment name"
     ]
    },
    {
     "cell_type": "code",
     "collapsed": false,
     "input": [
      "import sarpy\n",
      "import sarpy.fmoosvi.wrappers\n",
      "from datetime import datetime\n",
      "from collections import defaultdict\n",
      "import os\n",
      "import sys\n",
      "import errno\n",
      "\n",
      "startTime = datetime.now()"
     ],
     "language": "python",
     "metadata": {},
     "outputs": [],
     "prompt_number": 1
    },
    {
     "cell_type": "markdown",
     "metadata": {},
     "source": [
      "## Step 0 - Specify experiment name"
     ]
    },
    {
     "cell_type": "code",
     "collapsed": false,
     "input": [
      "masterlist = 'NecS1'\n",
      "path = os.path.join(os.path.expanduser('~'),'sdata',masterlist,'rois')\n",
      "\n",
      "# See if the rois directory exists, if it doesn't create it\n",
      "try:\n",
      "    os.makedirs(path)\n",
      "except OSError as exception:\n",
      "    if exception.errno != errno.EEXIST:\n",
      "        raise"
     ],
     "language": "python",
     "metadata": {},
     "outputs": [],
     "prompt_number": 2
    },
    {
     "cell_type": "markdown",
     "metadata": {},
     "source": [
      "## Step 1: Export ROIs"
     ]
    },
    {
     "cell_type": "code",
     "collapsed": false,
     "input": [
      "fFlag = False\n",
      "\n",
      "smart_label = []\n",
      "smart_label.append(['roi-0h',fFlag])\n",
      "smart_label.append(['roi-24h',fFlag])\n",
      "smart_label.append(['roi-48h',fFlag])\n",
      "\n",
      "for sm in smart_label:\n",
      "    sarpy.io.generate_rois.generate_rois(masterlist,sm[0],'roi','export', path, sm[1])\n",
      "    \n",
      "    try:\n",
      "        sarpy.io.generate_rois.generate_rois(masterlist,sm[0],'roi','import', path, sm[1])\n",
      "        \n",
      "    except IOError:\n",
      "        pass"
     ],
     "language": "python",
     "metadata": {},
     "outputs": [
      {
       "output_type": "stream",
       "stream": "stdout",
       "text": [
        "Nifti images were processed in /Users/fmoosvi/sdata/NecS1/rois\n",
        "h_generate_roi: saved NecS1Hs02.hi1/7 roi label"
       ]
      },
      {
       "output_type": "stream",
       "stream": "stdout",
       "text": [
        "\n",
        "h_generate_roi: saved NecS1Hs03.hi1/7 roi label"
       ]
      },
      {
       "output_type": "stream",
       "stream": "stdout",
       "text": [
        "\n",
        "h_generate_roi: saved NecS1Hs05.hi1/7 roi label"
       ]
      },
      {
       "output_type": "stream",
       "stream": "stdout",
       "text": [
        "\n",
        "h_generate_roi: saved NecS1Hs06.hi1/7 roi label"
       ]
      },
      {
       "output_type": "stream",
       "stream": "stdout",
       "text": [
        "\n",
        "h_generate_roi: saved NecS1Hs08.hi1/7 roi label"
       ]
      },
      {
       "output_type": "stream",
       "stream": "stdout",
       "text": [
        "\n",
        "Nifti images were processed in /Users/fmoosvi/sdata/NecS1/rois\n",
        "Nifti images were processed in /Users/fmoosvi/sdata/NecS1/rois"
       ]
      },
      {
       "output_type": "stream",
       "stream": "stdout",
       "text": [
        "\n",
        "h_generate_roi: saved NecS1Hs02.hj1/7 roi label"
       ]
      },
      {
       "output_type": "stream",
       "stream": "stdout",
       "text": [
        "\n",
        "h_generate_roi: saved NecS1Hs03.hj1/8 roi label"
       ]
      },
      {
       "output_type": "stream",
       "stream": "stdout",
       "text": [
        "\n",
        "h_generate_roi: saved NecS1Hs05.hj1/9 roi label"
       ]
      },
      {
       "output_type": "stream",
       "stream": "stdout",
       "text": [
        "\n",
        "h_generate_roi: saved NecS1Hs06.hj1/7 roi label"
       ]
      },
      {
       "output_type": "stream",
       "stream": "stdout",
       "text": [
        "\n",
        "h_generate_roi: saved NecS1Hs08.hj1/5 roi label"
       ]
      },
      {
       "output_type": "stream",
       "stream": "stdout",
       "text": [
        "\n",
        "Nifti images were processed in /Users/fmoosvi/sdata/NecS1/rois\n",
        "Nifti images were processed in /Users/fmoosvi/sdata/NecS1/rois"
       ]
      },
      {
       "output_type": "stream",
       "stream": "stdout",
       "text": [
        "\n",
        "h_generate_roi: saved NecS1Hs02.hk1/7 roi label"
       ]
      },
      {
       "output_type": "stream",
       "stream": "stdout",
       "text": [
        "\n",
        "h_generate_roi: saved NecS1Hs03.hk1/7 roi label"
       ]
      },
      {
       "output_type": "stream",
       "stream": "stdout",
       "text": [
        "\n",
        "h_generate_roi: saved NecS1Hs05.hk1/7 roi label"
       ]
      },
      {
       "output_type": "stream",
       "stream": "stdout",
       "text": [
        "\n",
        "h_generate_roi: saved NecS1Hs06.hk1/10 roi label"
       ]
      },
      {
       "output_type": "stream",
       "stream": "stdout",
       "text": [
        "\n",
        "h_generate_roi: saved NecS1Hs08.hk1/8 roi label"
       ]
      },
      {
       "output_type": "stream",
       "stream": "stdout",
       "text": [
        "\n",
        "Nifti images were processed in /Users/fmoosvi/sdata/NecS1/rois\n"
       ]
      }
     ],
     "prompt_number": 4
    },
    {
     "cell_type": "markdown",
     "metadata": {},
     "source": [
      "Now go ahead and draw ROIs using ImageJ. When you're done, just rename the files with an a appended at the very end. For e.g., the source file _HerS2Mo01_10.nii_ will turn into _HerS2Mo01_10a.nii_ once the ROI is drawn"
     ]
    },
    {
     "cell_type": "markdown",
     "metadata": {},
     "source": [
      "## Step 2: Import the drawn ROIs back in as adata, update the bounding boxes"
     ]
    },
    {
     "cell_type": "code",
     "collapsed": false,
     "input": [
      "for sm in smart_label:\n",
      "    sarpy.io.generate_rois.generate_rois(masterlist,sm[0],'roi','import', path, sm[2])\n",
      "    sarpy.io.update_bbox.update_bbox(masterlist,sm[0],'roi',sm[1])"
     ],
     "language": "python",
     "metadata": {},
     "outputs": [
      {
       "output_type": "stream",
       "stream": "stdout",
       "text": [
        "roi: adata already exists NecS1Hs02.hi1/7 \n",
        "roi: adata already exists NecS1Hs03.hi1/7 \n",
        "roi: adata already exists NecS1Hs05.hi1/7 \n",
        "roi: adata already exists NecS1Hs06.hi1/7 "
       ]
      },
      {
       "output_type": "stream",
       "stream": "stdout",
       "text": [
        "\n",
        "roi: adata already exists NecS1Hs08.hi1/7 \n",
        "Nifti images were processed in /Users/fmoosvi/sdata/NecS1/rois\n",
        "update_bbox: Success, updated file is: NecS1_updated.json"
       ]
      },
      {
       "output_type": "stream",
       "stream": "stdout",
       "text": [
        "\n",
        "roi: adata already exists NecS1Hs02.hj1/7 "
       ]
      },
      {
       "output_type": "stream",
       "stream": "stdout",
       "text": [
        "\n",
        "roi: adata already exists NecS1Hs03.hj1/8 "
       ]
      },
      {
       "output_type": "stream",
       "stream": "stdout",
       "text": [
        "\n",
        "roi: adata already exists NecS1Hs05.hj1/9 "
       ]
      },
      {
       "output_type": "stream",
       "stream": "stdout",
       "text": [
        "\n",
        "roi: adata already exists NecS1Hs06.hj1/7 "
       ]
      },
      {
       "output_type": "stream",
       "stream": "stdout",
       "text": [
        "\n",
        "roi: adata already exists NecS1Hs08.hj1/5 \n",
        "Nifti images were processed in /Users/fmoosvi/sdata/NecS1/rois\n",
        "update_bbox: Success, updated file is: NecS1_updated.json"
       ]
      },
      {
       "output_type": "stream",
       "stream": "stdout",
       "text": [
        "\n",
        "roi: adata already exists NecS1Hs02.hk1/7 "
       ]
      },
      {
       "output_type": "stream",
       "stream": "stdout",
       "text": [
        "\n",
        "roi: adata already exists NecS1Hs03.hk1/7 \n",
        "roi: adata already exists NecS1Hs05.hk1/7 "
       ]
      },
      {
       "output_type": "stream",
       "stream": "stdout",
       "text": [
        "\n",
        "roi: adata already exists NecS1Hs06.hk1/10 \n",
        "roi: adata already exists NecS1Hs08.hk1/8 "
       ]
      },
      {
       "output_type": "stream",
       "stream": "stdout",
       "text": [
        "\n",
        "Nifti images were processed in /Users/fmoosvi/sdata/NecS1/rois\n",
        "update_bbox: Success, updated file is: NecS1_updated.json"
       ]
      },
      {
       "output_type": "stream",
       "stream": "stdout",
       "text": [
        "\n"
       ]
      }
     ],
     "prompt_number": 4
    },
    {
     "cell_type": "markdown",
     "metadata": {},
     "source": [
      "## Step 3: Perform basic analyses (no ROIs required)"
     ]
    },
    {
     "cell_type": "code",
     "collapsed": false,
     "input": [
      "analyze_list = [] \n",
      "\n",
      "fFlag = True # Set whether or not the scan need to be overwritten, default False\n",
      "\n",
      "#analyze_list.append(['0h-IR_A','roi_check',fFlag])\n",
      "#analyze_list.append(['24h-IR_A','roi_check',fFlag])\n",
      "\n",
      "analyze_list.append(['0h-DCE1','auc60',fFlag])\n",
      "analyze_list.append(['24h-DCE1','auc60',fFlag])\n",
      "analyze_list.append(['48h-DCE1','auc60',fFlag])\n",
      "\n",
      "analyze_list.append(['0h-LL','T1map_LL',fFlag])\n",
      "analyze_list.append(['24h-LL','T1map_LL',fFlag])\n",
      "analyze_list.append(['48h-LL','T1map_LL',fFlag])\n",
      "\n",
      "analyze_list.append(['0h-DCE1','vtc',fFlag])\n",
      "analyze_list.append(['24h-DCE1','vtc',fFlag])\n",
      "analyze_list.append(['48h-DCE1','vtc',fFlag])\n",
      "\n",
      "for items in analyze_list:\n",
      "                                              \n",
      "    if len(items) == 3:\n",
      "        sarpy.fmoosvi.wrappers.bulk_analyze(masterlist, items[0], items[1], forceVal = items[2])\n",
      "    else:\n",
      "        sarpy.fmoosvi.wrappers.bulk_analyze(masterlist, items[0], items[1], items[2], forceVal = items[3])"
     ],
     "language": "python",
     "metadata": {},
     "outputs": [
      {
       "output_type": "stream",
       "stream": "stdout",
       "text": [
        "deleting item auc60\n",
        "deleting item auc60"
       ]
      },
      {
       "output_type": "stream",
       "stream": "stdout",
       "text": [
        "\n",
        "deleting item auc60"
       ]
      },
      {
       "output_type": "stream",
       "stream": "stdout",
       "text": [
        "\n",
        "deleting item auc60"
       ]
      },
      {
       "output_type": "stream",
       "stream": "stdout",
       "text": [
        "\n",
        "deleting item auc60"
       ]
      },
      {
       "output_type": "stream",
       "stream": "stdout",
       "text": [
        "\n",
        "deleting item auc60"
       ]
      },
      {
       "output_type": "stream",
       "stream": "stdout",
       "text": [
        "\n",
        "deleting item auc60"
       ]
      },
      {
       "output_type": "stream",
       "stream": "stdout",
       "text": [
        "\n",
        "deleting item auc60"
       ]
      },
      {
       "output_type": "stream",
       "stream": "stdout",
       "text": [
        "\n",
        "Could not find the injection point, possibly okay0"
       ]
      },
      {
       "output_type": "stream",
       "stream": "stdout",
       "text": [
        "\n",
        "Could not find the injection point, possibly okay1\n",
        "Could not find the injection point, possibly okay2\n",
        "Could not find the injection point, possibly okay3\n",
        "Could not find the injection point, possibly okay4\n",
        "Could not find the injection point, possibly okay0"
       ]
      },
      {
       "output_type": "stream",
       "stream": "stdout",
       "text": [
        "\n",
        "Could not find the injection point, possibly okay1\n",
        "Could not find the injection point, possibly okay2\n",
        "Could not find the injection point, possibly okay3\n",
        "Could not find the injection point, possibly okay4\n",
        "deleting item auc60"
       ]
      },
      {
       "output_type": "stream",
       "stream": "stdout",
       "text": [
        "\n",
        "deleting item auc60"
       ]
      },
      {
       "output_type": "stream",
       "stream": "stdout",
       "text": [
        "\n",
        "Could not find the injection point, possibly okay0"
       ]
      },
      {
       "output_type": "stream",
       "stream": "stdout",
       "text": [
        "\n",
        "Could not find the injection point, possibly okay1\n",
        "Could not find the injection point, possibly okay2\n",
        "Could not find the injection point, possibly okay5\n",
        "Could not find the injection point, possibly okay0"
       ]
      },
      {
       "output_type": "stream",
       "stream": "stdout",
       "text": [
        "\n",
        "Could not find the injection point, possibly okay1\n",
        "Could not find the injection point, possibly okay2\n",
        "Could not find the injection point, possibly okay5\n",
        "deleting item auc60"
       ]
      },
      {
       "output_type": "stream",
       "stream": "stdout",
       "text": [
        "\n",
        "deleting item auc60"
       ]
      },
      {
       "output_type": "stream",
       "stream": "stdout",
       "text": [
        "\n",
        "auc60: Not found NecS1Hs05 and 48h-DCE1"
       ]
      },
      {
       "output_type": "stream",
       "stream": "stdout",
       "text": [
        "\n",
        "Could not find the injection point, possibly okay1"
       ]
      },
      {
       "output_type": "stream",
       "stream": "stdout",
       "text": [
        "\n",
        "Could not find the injection point, possibly okay2\n",
        "Could not find the injection point, possibly okay1"
       ]
      },
      {
       "output_type": "stream",
       "stream": "stdout",
       "text": [
        "\n",
        "Could not find the injection point, possibly okay2\n",
        "deleting item auc60"
       ]
      },
      {
       "output_type": "stream",
       "stream": "stdout",
       "text": [
        "\n",
        "deleting item auc60"
       ]
      },
      {
       "output_type": "stream",
       "stream": "stderr",
       "text": [
        "WARNING:sarpy.io.BRUKERIO:NSLICES not equal to number of ACQ_obj_order\n"
       ]
      },
      {
       "output_type": "stream",
       "stream": "stderr",
       "text": [
        "/phd/Dropbox/code/python/sarpy/fmoosvi/analysis.py:579: RuntimeWarning: divide by zero encountered in double_scalars\n",
        "  return (1-2*numpy.exp(-Td/T1) + numpy.exp(-(Tp+Td)/T1))*((1-numpy.exp(-tao/T1_eff))/(1-numpy.exp(-tao/T1))) -c*(numpy.exp(-tao/T1_eff)/(numpy.exp(-tao/T1)))*numpy.exp(-(Tp+Td)/T1) - b\n",
        "/phd/Dropbox/code/python/sarpy/fmoosvi/analysis.py:579: RuntimeWarning: invalid value encountered in double_scalars\n",
        "  return (1-2*numpy.exp(-Td/T1) + numpy.exp(-(Tp+Td)/T1))*((1-numpy.exp(-tao/T1_eff))/(1-numpy.exp(-tao/T1))) -c*(numpy.exp(-tao/T1_eff)/(numpy.exp(-tao/T1)))*numpy.exp(-(Tp+Td)/T1) - b\n",
        "/Library/Python/2.7/site-packages/scipy-0.13.0.dev_c31f167_20130514-py2.7-macosx-10.8-intel.egg/scipy/optimize/zeros.py:152: RuntimeWarning: invalid value encountered in double_scalars\n",
        "  p = p1 - q1*(p1 - p0)/(q1 - q0)\n",
        "/phd/Dropbox/code/python/sarpy/fmoosvi/analysis.py:576: RuntimeWarning: overflow encountered in exp\n",
        "  return a*(1-(1-b)*numpy.exp(-n*tao/T1_eff))*numpy.exp(1j*phi)\n"
       ]
      },
      {
       "output_type": "stream",
       "stream": "stderr",
       "text": [
        "/phd/Dropbox/code/python/sarpy/fmoosvi/analysis.py:576: RuntimeWarning: overflow encountered in multiply\n",
        "  return a*(1-(1-b)*numpy.exp(-n*tao/T1_eff))*numpy.exp(1j*phi)\n",
        "/Library/Python/2.7/site-packages/scipy-0.13.0.dev_c31f167_20130514-py2.7-macosx-10.8-intel.egg/scipy/optimize/zeros.py:149: RuntimeWarning: Tolerance of 7.94325035103e+14 reached\n",
        "  warnings.warn(msg, RuntimeWarning)\n"
       ]
      },
      {
       "output_type": "stream",
       "stream": "stderr",
       "text": [
        "/Library/Python/2.7/site-packages/scipy-0.13.0.dev_c31f167_20130514-py2.7-macosx-10.8-intel.egg/scipy/optimize/zeros.py:149: RuntimeWarning: Tolerance of 5.22480670719e+16 reached\n",
        "  warnings.warn(msg, RuntimeWarning)\n",
        "/Library/Python/2.7/site-packages/scipy-0.13.0.dev_c31f167_20130514-py2.7-macosx-10.8-intel.egg/scipy/optimize/zeros.py:149: RuntimeWarning: Tolerance of 1.82806679792e+14 reached\n",
        "  warnings.warn(msg, RuntimeWarning)\n"
       ]
      },
      {
       "output_type": "stream",
       "stream": "stderr",
       "text": [
        "/Library/Python/2.7/site-packages/scipy-0.13.0.dev_c31f167_20130514-py2.7-macosx-10.8-intel.egg/scipy/optimize/zeros.py:149: RuntimeWarning: Tolerance of 2.05682876665e+15 reached\n",
        "  warnings.warn(msg, RuntimeWarning)\n",
        "/Library/Python/2.7/site-packages/scipy-0.13.0.dev_c31f167_20130514-py2.7-macosx-10.8-intel.egg/scipy/optimize/zeros.py:149: RuntimeWarning: Tolerance of -3.64427062854e+15 reached\n",
        "  warnings.warn(msg, RuntimeWarning)\n"
       ]
      },
      {
       "output_type": "stream",
       "stream": "stderr",
       "text": [
        "/Library/Python/2.7/site-packages/scipy-0.13.0.dev_c31f167_20130514-py2.7-macosx-10.8-intel.egg/scipy/optimize/zeros.py:149: RuntimeWarning: Tolerance of -1.45791897036e+13 reached\n",
        "  warnings.warn(msg, RuntimeWarning)\n",
        "/Library/Python/2.7/site-packages/scipy-0.13.0.dev_c31f167_20130514-py2.7-macosx-10.8-intel.egg/scipy/optimize/zeros.py:149: RuntimeWarning: Tolerance of 4.85038936358e+16 reached\n",
        "  warnings.warn(msg, RuntimeWarning)\n"
       ]
      },
      {
       "output_type": "stream",
       "stream": "stderr",
       "text": [
        "/Library/Python/2.7/site-packages/scipy-0.13.0.dev_c31f167_20130514-py2.7-macosx-10.8-intel.egg/scipy/optimize/zeros.py:149: RuntimeWarning: Tolerance of -1.55816348482e+14 reached\n",
        "  warnings.warn(msg, RuntimeWarning)\n",
        "/Library/Python/2.7/site-packages/scipy-0.13.0.dev_c31f167_20130514-py2.7-macosx-10.8-intel.egg/scipy/optimize/zeros.py:149: RuntimeWarning: Tolerance of -5.86095311554e+12 reached\n",
        "  warnings.warn(msg, RuntimeWarning)\n"
       ]
      },
      {
       "output_type": "stream",
       "stream": "stderr",
       "text": [
        "/Library/Python/2.7/site-packages/scipy-0.13.0.dev_c31f167_20130514-py2.7-macosx-10.8-intel.egg/scipy/optimize/zeros.py:149: RuntimeWarning: Tolerance of -2.91044598549e+16 reached\n",
        "  warnings.warn(msg, RuntimeWarning)\n",
        "/Library/Python/2.7/site-packages/scipy-0.13.0.dev_c31f167_20130514-py2.7-macosx-10.8-intel.egg/scipy/optimize/zeros.py:149: RuntimeWarning: Tolerance of 1.15909509547e+15 reached\n",
        "  warnings.warn(msg, RuntimeWarning)\n"
       ]
      },
      {
       "output_type": "stream",
       "stream": "stderr",
       "text": [
        "/Library/Python/2.7/site-packages/scipy-0.13.0.dev_c31f167_20130514-py2.7-macosx-10.8-intel.egg/scipy/optimize/zeros.py:149: RuntimeWarning: Tolerance of -1.19916023976e+17 reached\n",
        "  warnings.warn(msg, RuntimeWarning)\n",
        "/Library/Python/2.7/site-packages/scipy-0.13.0.dev_c31f167_20130514-py2.7-macosx-10.8-intel.egg/scipy/optimize/zeros.py:149: RuntimeWarning: Tolerance of -6.20751805994e+15 reached\n",
        "  warnings.warn(msg, RuntimeWarning)\n"
       ]
      },
      {
       "output_type": "stream",
       "stream": "stderr",
       "text": [
        "/Library/Python/2.7/site-packages/scipy-0.13.0.dev_c31f167_20130514-py2.7-macosx-10.8-intel.egg/scipy/optimize/zeros.py:149: RuntimeWarning: Tolerance of -3.80324619245e+15 reached\n",
        "  warnings.warn(msg, RuntimeWarning)\n",
        "/Library/Python/2.7/site-packages/scipy-0.13.0.dev_c31f167_20130514-py2.7-macosx-10.8-intel.egg/scipy/optimize/zeros.py:149: RuntimeWarning: Tolerance of -6.44495532173e+16 reached\n",
        "  warnings.warn(msg, RuntimeWarning)\n"
       ]
      },
      {
       "output_type": "stream",
       "stream": "stderr",
       "text": [
        "/Library/Python/2.7/site-packages/scipy-0.13.0.dev_c31f167_20130514-py2.7-macosx-10.8-intel.egg/scipy/optimize/zeros.py:149: RuntimeWarning: Tolerance of -4.38358986853e+14 reached\n",
        "  warnings.warn(msg, RuntimeWarning)\n",
        "/Library/Python/2.7/site-packages/scipy-0.13.0.dev_c31f167_20130514-py2.7-macosx-10.8-intel.egg/scipy/optimize/zeros.py:149: RuntimeWarning: Tolerance of 8.67352421418e+13 reached\n",
        "  warnings.warn(msg, RuntimeWarning)\n"
       ]
      },
      {
       "output_type": "stream",
       "stream": "stderr",
       "text": [
        "/Library/Python/2.7/site-packages/scipy-0.13.0.dev_c31f167_20130514-py2.7-macosx-10.8-intel.egg/scipy/optimize/zeros.py:149: RuntimeWarning: Tolerance of -1.03612994477e+17 reached\n",
        "  warnings.warn(msg, RuntimeWarning)\n",
        "/Library/Python/2.7/site-packages/scipy-0.13.0.dev_c31f167_20130514-py2.7-macosx-10.8-intel.egg/scipy/optimize/zeros.py:149: RuntimeWarning: Tolerance of -9.08546021987e+13 reached\n",
        "  warnings.warn(msg, RuntimeWarning)\n"
       ]
      },
      {
       "output_type": "stream",
       "stream": "stderr",
       "text": [
        "/Library/Python/2.7/site-packages/scipy-0.13.0.dev_c31f167_20130514-py2.7-macosx-10.8-intel.egg/scipy/optimize/zeros.py:149: RuntimeWarning: Tolerance of 2.26171907005e+15 reached\n",
        "  warnings.warn(msg, RuntimeWarning)\n",
        "/Library/Python/2.7/site-packages/scipy-0.13.0.dev_c31f167_20130514-py2.7-macosx-10.8-intel.egg/scipy/optimize/zeros.py:149: RuntimeWarning: Tolerance of 1.49555969135e+16 reached\n",
        "  warnings.warn(msg, RuntimeWarning)\n"
       ]
      },
      {
       "output_type": "stream",
       "stream": "stderr",
       "text": [
        "/Library/Python/2.7/site-packages/scipy-0.13.0.dev_c31f167_20130514-py2.7-macosx-10.8-intel.egg/scipy/optimize/zeros.py:149: RuntimeWarning: Tolerance of 2.146733944e+15 reached\n",
        "  warnings.warn(msg, RuntimeWarning)\n",
        "/phd/Dropbox/code/python/sarpy/fmoosvi/analysis.py:579: RuntimeWarning: overflow encountered in exp\n",
        "  return (1-2*numpy.exp(-Td/T1) + numpy.exp(-(Tp+Td)/T1))*((1-numpy.exp(-tao/T1_eff))/(1-numpy.exp(-tao/T1))) -c*(numpy.exp(-tao/T1_eff)/(numpy.exp(-tao/T1)))*numpy.exp(-(Tp+Td)/T1) - b\n"
       ]
      },
      {
       "output_type": "stream",
       "stream": "stderr",
       "text": [
        "/Library/Python/2.7/site-packages/scipy-0.13.0.dev_c31f167_20130514-py2.7-macosx-10.8-intel.egg/scipy/optimize/zeros.py:149: RuntimeWarning: Tolerance of -6.20070901772e+15 reached\n",
        "  warnings.warn(msg, RuntimeWarning)\n",
        "/Library/Python/2.7/site-packages/scipy-0.13.0.dev_c31f167_20130514-py2.7-macosx-10.8-intel.egg/scipy/optimize/zeros.py:149: RuntimeWarning: Tolerance of 3.44741753052e+17 reached\n",
        "  warnings.warn(msg, RuntimeWarning)\n"
       ]
      },
      {
       "output_type": "stream",
       "stream": "stderr",
       "text": [
        "/Library/Python/2.7/site-packages/scipy-0.13.0.dev_c31f167_20130514-py2.7-macosx-10.8-intel.egg/scipy/optimize/zeros.py:149: RuntimeWarning: Tolerance of 1.83287787322e+18 reached\n",
        "  warnings.warn(msg, RuntimeWarning)\n",
        "/Library/Python/2.7/site-packages/scipy-0.13.0.dev_c31f167_20130514-py2.7-macosx-10.8-intel.egg/scipy/optimize/zeros.py:149: RuntimeWarning: Tolerance of -3.47259726401e+14 reached\n",
        "  warnings.warn(msg, RuntimeWarning)\n"
       ]
      },
      {
       "output_type": "stream",
       "stream": "stderr",
       "text": [
        "/Library/Python/2.7/site-packages/scipy-0.13.0.dev_c31f167_20130514-py2.7-macosx-10.8-intel.egg/scipy/optimize/zeros.py:149: RuntimeWarning: Tolerance of -3.19306344631e+13 reached\n",
        "  warnings.warn(msg, RuntimeWarning)\n",
        "/Library/Python/2.7/site-packages/scipy-0.13.0.dev_c31f167_20130514-py2.7-macosx-10.8-intel.egg/scipy/optimize/zeros.py:149: RuntimeWarning: Tolerance of -7.65439064748e+16 reached\n",
        "  warnings.warn(msg, RuntimeWarning)\n"
       ]
      },
      {
       "output_type": "stream",
       "stream": "stderr",
       "text": [
        "/Library/Python/2.7/site-packages/scipy-0.13.0.dev_c31f167_20130514-py2.7-macosx-10.8-intel.egg/scipy/optimize/zeros.py:149: RuntimeWarning: Tolerance of 1.45082777127e+15 reached\n",
        "  warnings.warn(msg, RuntimeWarning)\n",
        "/Library/Python/2.7/site-packages/scipy-0.13.0.dev_c31f167_20130514-py2.7-macosx-10.8-intel.egg/scipy/optimize/zeros.py:149: RuntimeWarning: Tolerance of -1.92349411945e+13 reached\n",
        "  warnings.warn(msg, RuntimeWarning)\n"
       ]
      },
      {
       "output_type": "stream",
       "stream": "stderr",
       "text": [
        "/Library/Python/2.7/site-packages/scipy-0.13.0.dev_c31f167_20130514-py2.7-macosx-10.8-intel.egg/scipy/optimize/zeros.py:149: RuntimeWarning: Tolerance of -1.04056023865e+17 reached\n",
        "  warnings.warn(msg, RuntimeWarning)\n",
        "/Library/Python/2.7/site-packages/scipy-0.13.0.dev_c31f167_20130514-py2.7-macosx-10.8-intel.egg/scipy/optimize/zeros.py:149: RuntimeWarning: Tolerance of 1.92836358803e+15 reached\n",
        "  warnings.warn(msg, RuntimeWarning)\n"
       ]
      },
      {
       "output_type": "stream",
       "stream": "stderr",
       "text": [
        "/Library/Python/2.7/site-packages/scipy-0.13.0.dev_c31f167_20130514-py2.7-macosx-10.8-intel.egg/scipy/optimize/zeros.py:149: RuntimeWarning: Tolerance of -1.16326823276e+17 reached\n",
        "  warnings.warn(msg, RuntimeWarning)\n",
        "/Library/Python/2.7/site-packages/scipy-0.13.0.dev_c31f167_20130514-py2.7-macosx-10.8-intel.egg/scipy/optimize/zeros.py:149: RuntimeWarning: Tolerance of -8.19657198431e+15 reached\n",
        "  warnings.warn(msg, RuntimeWarning)\n"
       ]
      },
      {
       "output_type": "stream",
       "stream": "stderr",
       "text": [
        "/Library/Python/2.7/site-packages/scipy-0.13.0.dev_c31f167_20130514-py2.7-macosx-10.8-intel.egg/scipy/optimize/zeros.py:149: RuntimeWarning: Tolerance of -1.45456307744e+12 reached\n",
        "  warnings.warn(msg, RuntimeWarning)\n",
        "/Library/Python/2.7/site-packages/scipy-0.13.0.dev_c31f167_20130514-py2.7-macosx-10.8-intel.egg/scipy/optimize/zeros.py:149: RuntimeWarning: Tolerance of -1.41662602728e+16 reached\n",
        "  warnings.warn(msg, RuntimeWarning)\n"
       ]
      },
      {
       "output_type": "stream",
       "stream": "stderr",
       "text": [
        "/Library/Python/2.7/site-packages/scipy-0.13.0.dev_c31f167_20130514-py2.7-macosx-10.8-intel.egg/scipy/optimize/zeros.py:149: RuntimeWarning: Tolerance of -1.67007063394e+16 reached\n",
        "  warnings.warn(msg, RuntimeWarning)\n",
        "/Library/Python/2.7/site-packages/scipy-0.13.0.dev_c31f167_20130514-py2.7-macosx-10.8-intel.egg/scipy/optimize/zeros.py:149: RuntimeWarning: Tolerance of 9.98843461275e-08 reached\n",
        "  warnings.warn(msg, RuntimeWarning)\n"
       ]
      },
      {
       "output_type": "stream",
       "stream": "stderr",
       "text": [
        "/Library/Python/2.7/site-packages/scipy-0.13.0.dev_c31f167_20130514-py2.7-macosx-10.8-intel.egg/scipy/optimize/zeros.py:149: RuntimeWarning: Tolerance of -6.25643515497e+16 reached\n",
        "  warnings.warn(msg, RuntimeWarning)\n",
        "/Library/Python/2.7/site-packages/scipy-0.13.0.dev_c31f167_20130514-py2.7-macosx-10.8-intel.egg/scipy/optimize/zeros.py:149: RuntimeWarning: Tolerance of -1.59084837468e+15 reached\n",
        "  warnings.warn(msg, RuntimeWarning)\n"
       ]
      },
      {
       "output_type": "stream",
       "stream": "stderr",
       "text": [
        "/Library/Python/2.7/site-packages/scipy-0.13.0.dev_c31f167_20130514-py2.7-macosx-10.8-intel.egg/scipy/optimize/zeros.py:149: RuntimeWarning: Tolerance of -832766220519.0 reached\n",
        "  warnings.warn(msg, RuntimeWarning)\n",
        "/Library/Python/2.7/site-packages/scipy-0.13.0.dev_c31f167_20130514-py2.7-macosx-10.8-intel.egg/scipy/optimize/zeros.py:149: RuntimeWarning: Tolerance of 6.96727403075e+15 reached\n",
        "  warnings.warn(msg, RuntimeWarning)\n"
       ]
      },
      {
       "output_type": "stream",
       "stream": "stderr",
       "text": [
        "/Library/Python/2.7/site-packages/scipy-0.13.0.dev_c31f167_20130514-py2.7-macosx-10.8-intel.egg/scipy/optimize/zeros.py:149: RuntimeWarning: Tolerance of 2.91035690472e+15 reached\n",
        "  warnings.warn(msg, RuntimeWarning)\n",
        "/Library/Python/2.7/site-packages/scipy-0.13.0.dev_c31f167_20130514-py2.7-macosx-10.8-intel.egg/scipy/optimize/zeros.py:149: RuntimeWarning: Tolerance of 8.21504076923e+16 reached\n",
        "  warnings.warn(msg, RuntimeWarning)\n"
       ]
      },
      {
       "output_type": "stream",
       "stream": "stderr",
       "text": [
        "/Library/Python/2.7/site-packages/scipy-0.13.0.dev_c31f167_20130514-py2.7-macosx-10.8-intel.egg/scipy/optimize/zeros.py:149: RuntimeWarning: Tolerance of -463585865008.0 reached\n",
        "  warnings.warn(msg, RuntimeWarning)\n",
        "/Library/Python/2.7/site-packages/scipy-0.13.0.dev_c31f167_20130514-py2.7-macosx-10.8-intel.egg/scipy/optimize/zeros.py:149: RuntimeWarning: Tolerance of 2.02465729671e+15 reached\n",
        "  warnings.warn(msg, RuntimeWarning)\n"
       ]
      },
      {
       "output_type": "stream",
       "stream": "stderr",
       "text": [
        "/Library/Python/2.7/site-packages/scipy-0.13.0.dev_c31f167_20130514-py2.7-macosx-10.8-intel.egg/scipy/optimize/zeros.py:149: RuntimeWarning: Tolerance of 9.33513868415e+16 reached\n",
        "  warnings.warn(msg, RuntimeWarning)\n",
        "/Library/Python/2.7/site-packages/scipy-0.13.0.dev_c31f167_20130514-py2.7-macosx-10.8-intel.egg/scipy/optimize/zeros.py:149: RuntimeWarning: Tolerance of -1.07370338122e+15 reached\n",
        "  warnings.warn(msg, RuntimeWarning)\n"
       ]
      },
      {
       "output_type": "stream",
       "stream": "stderr",
       "text": [
        "/Library/Python/2.7/site-packages/scipy-0.13.0.dev_c31f167_20130514-py2.7-macosx-10.8-intel.egg/scipy/optimize/zeros.py:149: RuntimeWarning: Tolerance of 5.33151876099e+15 reached\n",
        "  warnings.warn(msg, RuntimeWarning)\n",
        "/Library/Python/2.7/site-packages/scipy-0.13.0.dev_c31f167_20130514-py2.7-macosx-10.8-intel.egg/scipy/optimize/zeros.py:149: RuntimeWarning: Tolerance of 7.27333092845e+13 reached\n",
        "  warnings.warn(msg, RuntimeWarning)\n"
       ]
      },
      {
       "output_type": "stream",
       "stream": "stderr",
       "text": [
        "/Library/Python/2.7/site-packages/scipy-0.13.0.dev_c31f167_20130514-py2.7-macosx-10.8-intel.egg/scipy/optimize/zeros.py:149: RuntimeWarning: Tolerance of 9.2028757743e+15 reached\n",
        "  warnings.warn(msg, RuntimeWarning)\n",
        "/Library/Python/2.7/site-packages/scipy-0.13.0.dev_c31f167_20130514-py2.7-macosx-10.8-intel.egg/scipy/optimize/zeros.py:149: RuntimeWarning: Tolerance of 6.13253457174e+14 reached\n",
        "  warnings.warn(msg, RuntimeWarning)\n"
       ]
      },
      {
       "output_type": "stream",
       "stream": "stderr",
       "text": [
        "/Library/Python/2.7/site-packages/scipy-0.13.0.dev_c31f167_20130514-py2.7-macosx-10.8-intel.egg/scipy/optimize/zeros.py:149: RuntimeWarning: Tolerance of 1.80869862308e+16 reached\n",
        "  warnings.warn(msg, RuntimeWarning)\n",
        "/Library/Python/2.7/site-packages/scipy-0.13.0.dev_c31f167_20130514-py2.7-macosx-10.8-intel.egg/scipy/optimize/zeros.py:149: RuntimeWarning: Tolerance of 4.15269109618e+14 reached\n",
        "  warnings.warn(msg, RuntimeWarning)\n"
       ]
      },
      {
       "output_type": "stream",
       "stream": "stderr",
       "text": [
        "/Library/Python/2.7/site-packages/scipy-0.13.0.dev_c31f167_20130514-py2.7-macosx-10.8-intel.egg/scipy/optimize/zeros.py:149: RuntimeWarning: Tolerance of -5.74748242763e+16 reached\n",
        "  warnings.warn(msg, RuntimeWarning)\n",
        "/Library/Python/2.7/site-packages/scipy-0.13.0.dev_c31f167_20130514-py2.7-macosx-10.8-intel.egg/scipy/optimize/zeros.py:149: RuntimeWarning: Tolerance of -3.00433073651e+15 reached\n",
        "  warnings.warn(msg, RuntimeWarning)\n"
       ]
      },
      {
       "output_type": "stream",
       "stream": "stderr",
       "text": [
        "/Library/Python/2.7/site-packages/scipy-0.13.0.dev_c31f167_20130514-py2.7-macosx-10.8-intel.egg/scipy/optimize/zeros.py:149: RuntimeWarning: Tolerance of -1.99292291538e+12 reached\n",
        "  warnings.warn(msg, RuntimeWarning)\n",
        "/Library/Python/2.7/site-packages/scipy-0.13.0.dev_c31f167_20130514-py2.7-macosx-10.8-intel.egg/scipy/optimize/zeros.py:149: RuntimeWarning: Tolerance of -9.65614109108e+14 reached\n",
        "  warnings.warn(msg, RuntimeWarning)\n"
       ]
      },
      {
       "output_type": "stream",
       "stream": "stderr",
       "text": [
        "/Library/Python/2.7/site-packages/scipy-0.13.0.dev_c31f167_20130514-py2.7-macosx-10.8-intel.egg/scipy/optimize/zeros.py:149: RuntimeWarning: Tolerance of -9.05471751507e+13 reached\n",
        "  warnings.warn(msg, RuntimeWarning)\n",
        "/Library/Python/2.7/site-packages/scipy-0.13.0.dev_c31f167_20130514-py2.7-macosx-10.8-intel.egg/scipy/optimize/zeros.py:149: RuntimeWarning: Tolerance of -1.51860378282e+16 reached\n",
        "  warnings.warn(msg, RuntimeWarning)\n"
       ]
      },
      {
       "output_type": "stream",
       "stream": "stderr",
       "text": [
        "/Library/Python/2.7/site-packages/scipy-0.13.0.dev_c31f167_20130514-py2.7-macosx-10.8-intel.egg/scipy/optimize/zeros.py:149: RuntimeWarning: Tolerance of 6.5403532972e+15 reached\n",
        "  warnings.warn(msg, RuntimeWarning)\n",
        "/Library/Python/2.7/site-packages/scipy-0.13.0.dev_c31f167_20130514-py2.7-macosx-10.8-intel.egg/scipy/optimize/zeros.py:149: RuntimeWarning: Tolerance of -4.23870793427e+16 reached\n",
        "  warnings.warn(msg, RuntimeWarning)\n"
       ]
      },
      {
       "output_type": "stream",
       "stream": "stderr",
       "text": [
        "/Library/Python/2.7/site-packages/scipy-0.13.0.dev_c31f167_20130514-py2.7-macosx-10.8-intel.egg/scipy/optimize/zeros.py:149: RuntimeWarning: Tolerance of 4.55452507441e+14 reached\n",
        "  warnings.warn(msg, RuntimeWarning)\n",
        "/Library/Python/2.7/site-packages/scipy-0.13.0.dev_c31f167_20130514-py2.7-macosx-10.8-intel.egg/scipy/optimize/zeros.py:149: RuntimeWarning: Tolerance of -8.31261228341e+16 reached\n",
        "  warnings.warn(msg, RuntimeWarning)\n"
       ]
      },
      {
       "output_type": "stream",
       "stream": "stderr",
       "text": [
        "/Library/Python/2.7/site-packages/scipy-0.13.0.dev_c31f167_20130514-py2.7-macosx-10.8-intel.egg/scipy/optimize/zeros.py:149: RuntimeWarning: Tolerance of -5.40085120118e+12 reached\n",
        "  warnings.warn(msg, RuntimeWarning)\n",
        "/Library/Python/2.7/site-packages/scipy-0.13.0.dev_c31f167_20130514-py2.7-macosx-10.8-intel.egg/scipy/optimize/zeros.py:149: RuntimeWarning: Tolerance of -1.17118655503e+14 reached\n",
        "  warnings.warn(msg, RuntimeWarning)\n"
       ]
      },
      {
       "output_type": "stream",
       "stream": "stderr",
       "text": [
        "/Library/Python/2.7/site-packages/scipy-0.13.0.dev_c31f167_20130514-py2.7-macosx-10.8-intel.egg/scipy/optimize/zeros.py:149: RuntimeWarning: Tolerance of -4.72508206207e+15 reached\n",
        "  warnings.warn(msg, RuntimeWarning)\n",
        "/Library/Python/2.7/site-packages/scipy-0.13.0.dev_c31f167_20130514-py2.7-macosx-10.8-intel.egg/scipy/optimize/zeros.py:149: RuntimeWarning: Tolerance of 6.30387641098e+15 reached\n",
        "  warnings.warn(msg, RuntimeWarning)\n"
       ]
      },
      {
       "output_type": "stream",
       "stream": "stderr",
       "text": [
        "/Library/Python/2.7/site-packages/scipy-0.13.0.dev_c31f167_20130514-py2.7-macosx-10.8-intel.egg/scipy/optimize/zeros.py:149: RuntimeWarning: Tolerance of -1.51788800581e+16 reached\n",
        "  warnings.warn(msg, RuntimeWarning)\n",
        "/Library/Python/2.7/site-packages/scipy-0.13.0.dev_c31f167_20130514-py2.7-macosx-10.8-intel.egg/scipy/optimize/zeros.py:149: RuntimeWarning: Tolerance of -1.79635655906e+14 reached\n",
        "  warnings.warn(msg, RuntimeWarning)\n"
       ]
      },
      {
       "output_type": "stream",
       "stream": "stderr",
       "text": [
        "/Library/Python/2.7/site-packages/scipy-0.13.0.dev_c31f167_20130514-py2.7-macosx-10.8-intel.egg/scipy/optimize/zeros.py:149: RuntimeWarning: Tolerance of -9.00851679979e+15 reached\n",
        "  warnings.warn(msg, RuntimeWarning)\n",
        "/Library/Python/2.7/site-packages/scipy-0.13.0.dev_c31f167_20130514-py2.7-macosx-10.8-intel.egg/scipy/optimize/zeros.py:149: RuntimeWarning: Tolerance of -2.4751831279e+14 reached\n",
        "  warnings.warn(msg, RuntimeWarning)\n"
       ]
      },
      {
       "output_type": "stream",
       "stream": "stderr",
       "text": [
        "/Library/Python/2.7/site-packages/scipy-0.13.0.dev_c31f167_20130514-py2.7-macosx-10.8-intel.egg/scipy/optimize/zeros.py:149: RuntimeWarning: Tolerance of -1.09785852157e+14 reached\n",
        "  warnings.warn(msg, RuntimeWarning)\n",
        "/Library/Python/2.7/site-packages/scipy-0.13.0.dev_c31f167_20130514-py2.7-macosx-10.8-intel.egg/scipy/optimize/zeros.py:149: RuntimeWarning: Tolerance of 1.94016087292e+16 reached\n",
        "  warnings.warn(msg, RuntimeWarning)\n"
       ]
      },
      {
       "output_type": "stream",
       "stream": "stderr",
       "text": [
        "/Library/Python/2.7/site-packages/scipy-0.13.0.dev_c31f167_20130514-py2.7-macosx-10.8-intel.egg/scipy/optimize/zeros.py:149: RuntimeWarning: Tolerance of 1.94947787894e+16 reached\n",
        "  warnings.warn(msg, RuntimeWarning)\n",
        "/Library/Python/2.7/site-packages/scipy-0.13.0.dev_c31f167_20130514-py2.7-macosx-10.8-intel.egg/scipy/optimize/zeros.py:149: RuntimeWarning: Tolerance of -2.38543167656e+16 reached\n",
        "  warnings.warn(msg, RuntimeWarning)\n"
       ]
      },
      {
       "output_type": "stream",
       "stream": "stderr",
       "text": [
        "/Library/Python/2.7/site-packages/scipy-0.13.0.dev_c31f167_20130514-py2.7-macosx-10.8-intel.egg/scipy/optimize/zeros.py:149: RuntimeWarning: Tolerance of 1.97974146674e+14 reached\n",
        "  warnings.warn(msg, RuntimeWarning)\n",
        "/Library/Python/2.7/site-packages/scipy-0.13.0.dev_c31f167_20130514-py2.7-macosx-10.8-intel.egg/scipy/optimize/zeros.py:149: RuntimeWarning: Tolerance of -5.14237515312e+15 reached\n",
        "  warnings.warn(msg, RuntimeWarning)\n"
       ]
      },
      {
       "output_type": "stream",
       "stream": "stderr",
       "text": [
        "/Library/Python/2.7/site-packages/scipy-0.13.0.dev_c31f167_20130514-py2.7-macosx-10.8-intel.egg/scipy/optimize/zeros.py:149: RuntimeWarning: Tolerance of 5.08265290541e+13 reached\n",
        "  warnings.warn(msg, RuntimeWarning)\n",
        "/Library/Python/2.7/site-packages/scipy-0.13.0.dev_c31f167_20130514-py2.7-macosx-10.8-intel.egg/scipy/optimize/zeros.py:149: RuntimeWarning: Tolerance of -2.02134023467e+15 reached\n",
        "  warnings.warn(msg, RuntimeWarning)\n"
       ]
      },
      {
       "output_type": "stream",
       "stream": "stderr",
       "text": [
        "/Library/Python/2.7/site-packages/scipy-0.13.0.dev_c31f167_20130514-py2.7-macosx-10.8-intel.egg/scipy/optimize/zeros.py:149: RuntimeWarning: Tolerance of 5.02352504259e+16 reached\n",
        "  warnings.warn(msg, RuntimeWarning)\n",
        "/Library/Python/2.7/site-packages/scipy-0.13.0.dev_c31f167_20130514-py2.7-macosx-10.8-intel.egg/scipy/optimize/zeros.py:149: RuntimeWarning: Tolerance of 808562668601.0 reached\n",
        "  warnings.warn(msg, RuntimeWarning)\n"
       ]
      },
      {
       "output_type": "stream",
       "stream": "stderr",
       "text": [
        "/Library/Python/2.7/site-packages/scipy-0.13.0.dev_c31f167_20130514-py2.7-macosx-10.8-intel.egg/scipy/optimize/zeros.py:149: RuntimeWarning: Tolerance of 3.15245819783e+16 reached\n",
        "  warnings.warn(msg, RuntimeWarning)\n",
        "/Library/Python/2.7/site-packages/scipy-0.13.0.dev_c31f167_20130514-py2.7-macosx-10.8-intel.egg/scipy/optimize/zeros.py:149: RuntimeWarning: Tolerance of 3.36958708418e+14 reached\n",
        "  warnings.warn(msg, RuntimeWarning)\n"
       ]
      },
      {
       "output_type": "stream",
       "stream": "stdout",
       "text": [
        "\n",
        "deleting item T1map_LL"
       ]
      },
      {
       "output_type": "stream",
       "stream": "stdout",
       "text": [
        "\n",
        "deleting item T1map_LL_fitdict"
       ]
      },
      {
       "output_type": "stream",
       "stream": "stderr",
       "text": [
        "/Library/Python/2.7/site-packages/scipy-0.13.0.dev_c31f167_20130514-py2.7-macosx-10.8-intel.egg/scipy/optimize/zeros.py:149: RuntimeWarning: Tolerance of 3.41940498883e+15 reached\n",
        "  warnings.warn(msg, RuntimeWarning)\n",
        "WARNING:sarpy.io.BRUKERIO:NSLICES not equal to number of ACQ_obj_order\n"
       ]
      },
      {
       "output_type": "stream",
       "stream": "stderr",
       "text": [
        "/Library/Python/2.7/site-packages/scipy-0.13.0.dev_c31f167_20130514-py2.7-macosx-10.8-intel.egg/scipy/optimize/zeros.py:149: RuntimeWarning: Tolerance of 9.63335533111e+13 reached\n",
        "  warnings.warn(msg, RuntimeWarning)\n",
        "/Library/Python/2.7/site-packages/scipy-0.13.0.dev_c31f167_20130514-py2.7-macosx-10.8-intel.egg/scipy/optimize/zeros.py:149: RuntimeWarning: Tolerance of -2.18046028491e+15 reached\n",
        "  warnings.warn(msg, RuntimeWarning)\n"
       ]
      },
      {
       "output_type": "stream",
       "stream": "stderr",
       "text": [
        "/Library/Python/2.7/site-packages/scipy-0.13.0.dev_c31f167_20130514-py2.7-macosx-10.8-intel.egg/scipy/optimize/zeros.py:149: RuntimeWarning: Tolerance of -1.89029378816e-08 reached\n",
        "  warnings.warn(msg, RuntimeWarning)\n",
        "/Library/Python/2.7/site-packages/scipy-0.13.0.dev_c31f167_20130514-py2.7-macosx-10.8-intel.egg/scipy/optimize/zeros.py:149: RuntimeWarning: Tolerance of 1.30674599407e+14 reached\n",
        "  warnings.warn(msg, RuntimeWarning)\n"
       ]
      },
      {
       "output_type": "stream",
       "stream": "stderr",
       "text": [
        "/Library/Python/2.7/site-packages/scipy-0.13.0.dev_c31f167_20130514-py2.7-macosx-10.8-intel.egg/scipy/optimize/zeros.py:149: RuntimeWarning: Tolerance of -2.7079485127e+15 reached\n",
        "  warnings.warn(msg, RuntimeWarning)\n",
        "/Library/Python/2.7/site-packages/scipy-0.13.0.dev_c31f167_20130514-py2.7-macosx-10.8-intel.egg/scipy/optimize/zeros.py:149: RuntimeWarning: Tolerance of -3.70343954329e+14 reached\n",
        "  warnings.warn(msg, RuntimeWarning)\n"
       ]
      },
      {
       "output_type": "stream",
       "stream": "stderr",
       "text": [
        "/Library/Python/2.7/site-packages/scipy-0.13.0.dev_c31f167_20130514-py2.7-macosx-10.8-intel.egg/scipy/optimize/zeros.py:149: RuntimeWarning: Tolerance of -9.33292200978e+15 reached\n",
        "  warnings.warn(msg, RuntimeWarning)\n",
        "/Library/Python/2.7/site-packages/scipy-0.13.0.dev_c31f167_20130514-py2.7-macosx-10.8-intel.egg/scipy/optimize/zeros.py:149: RuntimeWarning: Tolerance of -469284303744.0 reached\n",
        "  warnings.warn(msg, RuntimeWarning)\n"
       ]
      },
      {
       "output_type": "stream",
       "stream": "stderr",
       "text": [
        "/Library/Python/2.7/site-packages/scipy-0.13.0.dev_c31f167_20130514-py2.7-macosx-10.8-intel.egg/scipy/optimize/zeros.py:149: RuntimeWarning: Tolerance of 1.46394032243e+17 reached\n",
        "  warnings.warn(msg, RuntimeWarning)\n",
        "/Library/Python/2.7/site-packages/scipy-0.13.0.dev_c31f167_20130514-py2.7-macosx-10.8-intel.egg/scipy/optimize/zeros.py:149: RuntimeWarning: Tolerance of -3.69351778748e+14 reached\n",
        "  warnings.warn(msg, RuntimeWarning)\n"
       ]
      },
      {
       "output_type": "stream",
       "stream": "stderr",
       "text": [
        "/Library/Python/2.7/site-packages/scipy-0.13.0.dev_c31f167_20130514-py2.7-macosx-10.8-intel.egg/scipy/optimize/zeros.py:149: RuntimeWarning: Tolerance of -6.89569344317e+15 reached\n",
        "  warnings.warn(msg, RuntimeWarning)\n",
        "/Library/Python/2.7/site-packages/scipy-0.13.0.dev_c31f167_20130514-py2.7-macosx-10.8-intel.egg/scipy/optimize/zeros.py:149: RuntimeWarning: Tolerance of -9.35559859408e+16 reached\n",
        "  warnings.warn(msg, RuntimeWarning)\n"
       ]
      },
      {
       "output_type": "stream",
       "stream": "stderr",
       "text": [
        "/Library/Python/2.7/site-packages/scipy-0.13.0.dev_c31f167_20130514-py2.7-macosx-10.8-intel.egg/scipy/optimize/zeros.py:149: RuntimeWarning: Tolerance of -2.08618562237e+15 reached\n",
        "  warnings.warn(msg, RuntimeWarning)\n",
        "/Library/Python/2.7/site-packages/scipy-0.13.0.dev_c31f167_20130514-py2.7-macosx-10.8-intel.egg/scipy/optimize/zeros.py:149: RuntimeWarning: Tolerance of 1.43937107143e+14 reached\n",
        "  warnings.warn(msg, RuntimeWarning)\n"
       ]
      },
      {
       "output_type": "stream",
       "stream": "stderr",
       "text": [
        "/Library/Python/2.7/site-packages/scipy-0.13.0.dev_c31f167_20130514-py2.7-macosx-10.8-intel.egg/scipy/optimize/zeros.py:149: RuntimeWarning: Tolerance of 7.41518830645e+16 reached\n",
        "  warnings.warn(msg, RuntimeWarning)\n",
        "/Library/Python/2.7/site-packages/scipy-0.13.0.dev_c31f167_20130514-py2.7-macosx-10.8-intel.egg/scipy/optimize/zeros.py:149: RuntimeWarning: Tolerance of 8.58676405935e+15 reached\n",
        "  warnings.warn(msg, RuntimeWarning)\n"
       ]
      },
      {
       "output_type": "stream",
       "stream": "stderr",
       "text": [
        "/Library/Python/2.7/site-packages/scipy-0.13.0.dev_c31f167_20130514-py2.7-macosx-10.8-intel.egg/scipy/optimize/zeros.py:149: RuntimeWarning: Tolerance of -1.54717708856e+16 reached\n",
        "  warnings.warn(msg, RuntimeWarning)\n",
        "/Library/Python/2.7/site-packages/scipy-0.13.0.dev_c31f167_20130514-py2.7-macosx-10.8-intel.egg/scipy/optimize/zeros.py:149: RuntimeWarning: Tolerance of -6.03317049312e+13 reached\n",
        "  warnings.warn(msg, RuntimeWarning)\n"
       ]
      },
      {
       "output_type": "stream",
       "stream": "stderr",
       "text": [
        "/Library/Python/2.7/site-packages/scipy-0.13.0.dev_c31f167_20130514-py2.7-macosx-10.8-intel.egg/scipy/optimize/zeros.py:149: RuntimeWarning: Tolerance of 8.88724073058e+13 reached\n",
        "  warnings.warn(msg, RuntimeWarning)\n",
        "/Library/Python/2.7/site-packages/scipy-0.13.0.dev_c31f167_20130514-py2.7-macosx-10.8-intel.egg/scipy/optimize/zeros.py:149: RuntimeWarning: Tolerance of 8.35802001804e+15 reached\n",
        "  warnings.warn(msg, RuntimeWarning)\n"
       ]
      },
      {
       "output_type": "stream",
       "stream": "stderr",
       "text": [
        "/Library/Python/2.7/site-packages/scipy-0.13.0.dev_c31f167_20130514-py2.7-macosx-10.8-intel.egg/scipy/optimize/zeros.py:149: RuntimeWarning: Tolerance of 1.2705293029e+15 reached\n",
        "  warnings.warn(msg, RuntimeWarning)\n",
        "/Library/Python/2.7/site-packages/scipy-0.13.0.dev_c31f167_20130514-py2.7-macosx-10.8-intel.egg/scipy/optimize/zeros.py:149: RuntimeWarning: Tolerance of -7.19548202514e+16 reached\n",
        "  warnings.warn(msg, RuntimeWarning)\n"
       ]
      },
      {
       "output_type": "stream",
       "stream": "stderr",
       "text": [
        "/Library/Python/2.7/site-packages/scipy-0.13.0.dev_c31f167_20130514-py2.7-macosx-10.8-intel.egg/scipy/optimize/zeros.py:149: RuntimeWarning: Tolerance of -1.62591560782e+14 reached\n",
        "  warnings.warn(msg, RuntimeWarning)\n",
        "/Library/Python/2.7/site-packages/scipy-0.13.0.dev_c31f167_20130514-py2.7-macosx-10.8-intel.egg/scipy/optimize/zeros.py:149: RuntimeWarning: Tolerance of -4.00050937236e+15 reached\n",
        "  warnings.warn(msg, RuntimeWarning)\n"
       ]
      },
      {
       "output_type": "stream",
       "stream": "stderr",
       "text": [
        "/Library/Python/2.7/site-packages/scipy-0.13.0.dev_c31f167_20130514-py2.7-macosx-10.8-intel.egg/scipy/optimize/zeros.py:149: RuntimeWarning: Tolerance of 2.32313463451e+15 reached\n",
        "  warnings.warn(msg, RuntimeWarning)\n",
        "/Library/Python/2.7/site-packages/scipy-0.13.0.dev_c31f167_20130514-py2.7-macosx-10.8-intel.egg/scipy/optimize/zeros.py:149: RuntimeWarning: Tolerance of -2.90133192724e+15 reached\n",
        "  warnings.warn(msg, RuntimeWarning)\n"
       ]
      },
      {
       "output_type": "stream",
       "stream": "stderr",
       "text": [
        "/Library/Python/2.7/site-packages/scipy-0.13.0.dev_c31f167_20130514-py2.7-macosx-10.8-intel.egg/scipy/optimize/zeros.py:149: RuntimeWarning: Tolerance of -7.59535149608e+17 reached\n",
        "  warnings.warn(msg, RuntimeWarning)\n",
        "/Library/Python/2.7/site-packages/scipy-0.13.0.dev_c31f167_20130514-py2.7-macosx-10.8-intel.egg/scipy/optimize/zeros.py:149: RuntimeWarning: Tolerance of 1.24614786679e+16 reached\n",
        "  warnings.warn(msg, RuntimeWarning)\n"
       ]
      },
      {
       "output_type": "stream",
       "stream": "stderr",
       "text": [
        "/Library/Python/2.7/site-packages/scipy-0.13.0.dev_c31f167_20130514-py2.7-macosx-10.8-intel.egg/scipy/optimize/zeros.py:149: RuntimeWarning: Tolerance of -3.97640373808e+14 reached\n",
        "  warnings.warn(msg, RuntimeWarning)\n",
        "/Library/Python/2.7/site-packages/scipy-0.13.0.dev_c31f167_20130514-py2.7-macosx-10.8-intel.egg/scipy/optimize/zeros.py:149: RuntimeWarning: Tolerance of 2.64787375508e+16 reached\n",
        "  warnings.warn(msg, RuntimeWarning)\n"
       ]
      },
      {
       "output_type": "stream",
       "stream": "stderr",
       "text": [
        "/Library/Python/2.7/site-packages/scipy-0.13.0.dev_c31f167_20130514-py2.7-macosx-10.8-intel.egg/scipy/optimize/zeros.py:149: RuntimeWarning: Tolerance of -1.42275855251e+14 reached\n",
        "  warnings.warn(msg, RuntimeWarning)\n",
        "/Library/Python/2.7/site-packages/scipy-0.13.0.dev_c31f167_20130514-py2.7-macosx-10.8-intel.egg/scipy/optimize/zeros.py:149: RuntimeWarning: Tolerance of 1.07031841762e+16 reached\n",
        "  warnings.warn(msg, RuntimeWarning)\n"
       ]
      },
      {
       "output_type": "stream",
       "stream": "stderr",
       "text": [
        "/Library/Python/2.7/site-packages/scipy-0.13.0.dev_c31f167_20130514-py2.7-macosx-10.8-intel.egg/scipy/optimize/zeros.py:149: RuntimeWarning: Tolerance of 1.8435646757e+16 reached\n",
        "  warnings.warn(msg, RuntimeWarning)\n",
        "/Library/Python/2.7/site-packages/scipy-0.13.0.dev_c31f167_20130514-py2.7-macosx-10.8-intel.egg/scipy/optimize/zeros.py:149: RuntimeWarning: Tolerance of 3.32585238925e+16 reached\n",
        "  warnings.warn(msg, RuntimeWarning)\n"
       ]
      },
      {
       "output_type": "stream",
       "stream": "stderr",
       "text": [
        "/Library/Python/2.7/site-packages/scipy-0.13.0.dev_c31f167_20130514-py2.7-macosx-10.8-intel.egg/scipy/optimize/zeros.py:149: RuntimeWarning: Tolerance of -3.30607347159e+14 reached\n",
        "  warnings.warn(msg, RuntimeWarning)\n",
        "/Library/Python/2.7/site-packages/scipy-0.13.0.dev_c31f167_20130514-py2.7-macosx-10.8-intel.egg/scipy/optimize/zeros.py:149: RuntimeWarning: Tolerance of -2.87625391978e+15 reached\n",
        "  warnings.warn(msg, RuntimeWarning)\n"
       ]
      },
      {
       "output_type": "stream",
       "stream": "stderr",
       "text": [
        "/Library/Python/2.7/site-packages/scipy-0.13.0.dev_c31f167_20130514-py2.7-macosx-10.8-intel.egg/scipy/optimize/zeros.py:149: RuntimeWarning: Tolerance of 2.49131526923e+14 reached\n",
        "  warnings.warn(msg, RuntimeWarning)\n",
        "/Library/Python/2.7/site-packages/scipy-0.13.0.dev_c31f167_20130514-py2.7-macosx-10.8-intel.egg/scipy/optimize/zeros.py:149: RuntimeWarning: Tolerance of 2.28954037296e+15 reached\n",
        "  warnings.warn(msg, RuntimeWarning)\n"
       ]
      },
      {
       "output_type": "stream",
       "stream": "stderr",
       "text": [
        "/Library/Python/2.7/site-packages/scipy-0.13.0.dev_c31f167_20130514-py2.7-macosx-10.8-intel.egg/scipy/optimize/zeros.py:149: RuntimeWarning: Tolerance of 3.85544089137e+14 reached\n",
        "  warnings.warn(msg, RuntimeWarning)\n",
        "/Library/Python/2.7/site-packages/scipy-0.13.0.dev_c31f167_20130514-py2.7-macosx-10.8-intel.egg/scipy/optimize/zeros.py:149: RuntimeWarning: Tolerance of -5.93588065418e+15 reached\n",
        "  warnings.warn(msg, RuntimeWarning)\n"
       ]
      },
      {
       "output_type": "stream",
       "stream": "stderr",
       "text": [
        "/Library/Python/2.7/site-packages/scipy-0.13.0.dev_c31f167_20130514-py2.7-macosx-10.8-intel.egg/scipy/optimize/zeros.py:149: RuntimeWarning: Tolerance of 4.68581779097e+14 reached\n",
        "  warnings.warn(msg, RuntimeWarning)\n",
        "/Library/Python/2.7/site-packages/scipy-0.13.0.dev_c31f167_20130514-py2.7-macosx-10.8-intel.egg/scipy/optimize/zeros.py:149: RuntimeWarning: Tolerance of 3.64977458112e+14 reached\n",
        "  warnings.warn(msg, RuntimeWarning)\n"
       ]
      },
      {
       "output_type": "stream",
       "stream": "stderr",
       "text": [
        "/Library/Python/2.7/site-packages/scipy-0.13.0.dev_c31f167_20130514-py2.7-macosx-10.8-intel.egg/scipy/optimize/zeros.py:149: RuntimeWarning: Tolerance of -6.96230651067e+12 reached\n",
        "  warnings.warn(msg, RuntimeWarning)\n",
        "/Library/Python/2.7/site-packages/scipy-0.13.0.dev_c31f167_20130514-py2.7-macosx-10.8-intel.egg/scipy/optimize/zeros.py:149: RuntimeWarning: Tolerance of 7.40892571744e+14 reached\n",
        "  warnings.warn(msg, RuntimeWarning)\n"
       ]
      },
      {
       "output_type": "stream",
       "stream": "stderr",
       "text": [
        "/Library/Python/2.7/site-packages/scipy-0.13.0.dev_c31f167_20130514-py2.7-macosx-10.8-intel.egg/scipy/optimize/zeros.py:149: RuntimeWarning: Tolerance of 1.04850829096e+15 reached\n",
        "  warnings.warn(msg, RuntimeWarning)\n",
        "/Library/Python/2.7/site-packages/scipy-0.13.0.dev_c31f167_20130514-py2.7-macosx-10.8-intel.egg/scipy/optimize/zeros.py:149: RuntimeWarning: Tolerance of -3.90303288762e+14 reached\n",
        "  warnings.warn(msg, RuntimeWarning)\n"
       ]
      },
      {
       "output_type": "stream",
       "stream": "stderr",
       "text": [
        "/Library/Python/2.7/site-packages/scipy-0.13.0.dev_c31f167_20130514-py2.7-macosx-10.8-intel.egg/scipy/optimize/zeros.py:149: RuntimeWarning: Tolerance of -4.00858365197e+12 reached\n",
        "  warnings.warn(msg, RuntimeWarning)\n",
        "/Library/Python/2.7/site-packages/scipy-0.13.0.dev_c31f167_20130514-py2.7-macosx-10.8-intel.egg/scipy/optimize/zeros.py:149: RuntimeWarning: Tolerance of 5.7188649551e+15 reached\n",
        "  warnings.warn(msg, RuntimeWarning)\n"
       ]
      },
      {
       "output_type": "stream",
       "stream": "stderr",
       "text": [
        "/Library/Python/2.7/site-packages/scipy-0.13.0.dev_c31f167_20130514-py2.7-macosx-10.8-intel.egg/scipy/optimize/zeros.py:149: RuntimeWarning: Tolerance of -6.10265473083e+13 reached\n",
        "  warnings.warn(msg, RuntimeWarning)\n",
        "/Library/Python/2.7/site-packages/scipy-0.13.0.dev_c31f167_20130514-py2.7-macosx-10.8-intel.egg/scipy/optimize/zeros.py:149: RuntimeWarning: Tolerance of 6.91356143035e+15 reached\n",
        "  warnings.warn(msg, RuntimeWarning)\n"
       ]
      },
      {
       "output_type": "stream",
       "stream": "stderr",
       "text": [
        "/Library/Python/2.7/site-packages/scipy-0.13.0.dev_c31f167_20130514-py2.7-macosx-10.8-intel.egg/scipy/optimize/zeros.py:149: RuntimeWarning: Tolerance of 3.24478904031e+15 reached\n",
        "  warnings.warn(msg, RuntimeWarning)\n",
        "/Library/Python/2.7/site-packages/scipy-0.13.0.dev_c31f167_20130514-py2.7-macosx-10.8-intel.egg/scipy/optimize/zeros.py:149: RuntimeWarning: Tolerance of 5.45853109673e+16 reached\n",
        "  warnings.warn(msg, RuntimeWarning)\n"
       ]
      },
      {
       "output_type": "stream",
       "stream": "stderr",
       "text": [
        "/Library/Python/2.7/site-packages/scipy-0.13.0.dev_c31f167_20130514-py2.7-macosx-10.8-intel.egg/scipy/optimize/zeros.py:149: RuntimeWarning: Tolerance of -2.69606121949e+16 reached\n",
        "  warnings.warn(msg, RuntimeWarning)\n",
        "/Library/Python/2.7/site-packages/scipy-0.13.0.dev_c31f167_20130514-py2.7-macosx-10.8-intel.egg/scipy/optimize/zeros.py:149: RuntimeWarning: Tolerance of 1.07482909462e+16 reached\n",
        "  warnings.warn(msg, RuntimeWarning)\n"
       ]
      },
      {
       "output_type": "stream",
       "stream": "stderr",
       "text": [
        "/Library/Python/2.7/site-packages/scipy-0.13.0.dev_c31f167_20130514-py2.7-macosx-10.8-intel.egg/scipy/optimize/zeros.py:149: RuntimeWarning: Tolerance of -1.17545308174e+16 reached\n",
        "  warnings.warn(msg, RuntimeWarning)\n",
        "/Library/Python/2.7/site-packages/scipy-0.13.0.dev_c31f167_20130514-py2.7-macosx-10.8-intel.egg/scipy/optimize/zeros.py:149: RuntimeWarning: Tolerance of -1.26403347855e+16 reached\n",
        "  warnings.warn(msg, RuntimeWarning)\n"
       ]
      },
      {
       "output_type": "stream",
       "stream": "stderr",
       "text": [
        "/Library/Python/2.7/site-packages/scipy-0.13.0.dev_c31f167_20130514-py2.7-macosx-10.8-intel.egg/scipy/optimize/zeros.py:149: RuntimeWarning: Tolerance of -3.0173447895e+14 reached\n",
        "  warnings.warn(msg, RuntimeWarning)\n",
        "/Library/Python/2.7/site-packages/scipy-0.13.0.dev_c31f167_20130514-py2.7-macosx-10.8-intel.egg/scipy/optimize/zeros.py:149: RuntimeWarning: Tolerance of 3.92903489322e+14 reached\n",
        "  warnings.warn(msg, RuntimeWarning)\n"
       ]
      },
      {
       "output_type": "stream",
       "stream": "stderr",
       "text": [
        "/Library/Python/2.7/site-packages/scipy-0.13.0.dev_c31f167_20130514-py2.7-macosx-10.8-intel.egg/scipy/optimize/zeros.py:149: RuntimeWarning: Tolerance of -9.38709218697e+16 reached\n",
        "  warnings.warn(msg, RuntimeWarning)\n",
        "/Library/Python/2.7/site-packages/scipy-0.13.0.dev_c31f167_20130514-py2.7-macosx-10.8-intel.egg/scipy/optimize/zeros.py:149: RuntimeWarning: Tolerance of 5.7104814076e+15 reached\n",
        "  warnings.warn(msg, RuntimeWarning)\n"
       ]
      },
      {
       "output_type": "stream",
       "stream": "stderr",
       "text": [
        "/Library/Python/2.7/site-packages/scipy-0.13.0.dev_c31f167_20130514-py2.7-macosx-10.8-intel.egg/scipy/optimize/zeros.py:149: RuntimeWarning: Tolerance of -5.89777152201e+16 reached\n",
        "  warnings.warn(msg, RuntimeWarning)\n",
        "/Library/Python/2.7/site-packages/scipy-0.13.0.dev_c31f167_20130514-py2.7-macosx-10.8-intel.egg/scipy/optimize/zeros.py:149: RuntimeWarning: Tolerance of -8.65899998121e+15 reached\n",
        "  warnings.warn(msg, RuntimeWarning)\n"
       ]
      },
      {
       "output_type": "stream",
       "stream": "stderr",
       "text": [
        "/Library/Python/2.7/site-packages/scipy-0.13.0.dev_c31f167_20130514-py2.7-macosx-10.8-intel.egg/scipy/optimize/zeros.py:149: RuntimeWarning: Tolerance of 1.70467965366e+16 reached\n",
        "  warnings.warn(msg, RuntimeWarning)\n",
        "/Library/Python/2.7/site-packages/scipy-0.13.0.dev_c31f167_20130514-py2.7-macosx-10.8-intel.egg/scipy/optimize/zeros.py:149: RuntimeWarning: Tolerance of 3.17632820895e+18 reached\n",
        "  warnings.warn(msg, RuntimeWarning)\n"
       ]
      },
      {
       "output_type": "stream",
       "stream": "stderr",
       "text": [
        "/Library/Python/2.7/site-packages/scipy-0.13.0.dev_c31f167_20130514-py2.7-macosx-10.8-intel.egg/scipy/optimize/zeros.py:149: RuntimeWarning: Tolerance of 1.26902379683e+16 reached\n",
        "  warnings.warn(msg, RuntimeWarning)\n",
        "/Library/Python/2.7/site-packages/scipy-0.13.0.dev_c31f167_20130514-py2.7-macosx-10.8-intel.egg/scipy/optimize/zeros.py:149: RuntimeWarning: Tolerance of -9.96903434134e+16 reached\n",
        "  warnings.warn(msg, RuntimeWarning)\n"
       ]
      },
      {
       "output_type": "stream",
       "stream": "stderr",
       "text": [
        "/Library/Python/2.7/site-packages/scipy-0.13.0.dev_c31f167_20130514-py2.7-macosx-10.8-intel.egg/scipy/optimize/zeros.py:149: RuntimeWarning: Tolerance of -2.36143800278e+15 reached\n",
        "  warnings.warn(msg, RuntimeWarning)\n",
        "/Library/Python/2.7/site-packages/scipy-0.13.0.dev_c31f167_20130514-py2.7-macosx-10.8-intel.egg/scipy/optimize/zeros.py:149: RuntimeWarning: Tolerance of -1.11246974627e+15 reached\n",
        "  warnings.warn(msg, RuntimeWarning)\n"
       ]
      },
      {
       "output_type": "stream",
       "stream": "stdout",
       "text": [
        "\n",
        "deleting item T1map_LL"
       ]
      },
      {
       "output_type": "stream",
       "stream": "stdout",
       "text": [
        "\n",
        "deleting item T1map_LL_fitdict"
       ]
      },
      {
       "output_type": "stream",
       "stream": "stderr",
       "text": [
        "/Library/Python/2.7/site-packages/scipy-0.13.0.dev_c31f167_20130514-py2.7-macosx-10.8-intel.egg/scipy/optimize/zeros.py:149: RuntimeWarning: Tolerance of -1.2105534115e+15 reached\n",
        "  warnings.warn(msg, RuntimeWarning)\n",
        "WARNING:sarpy.io.BRUKERIO:NSLICES not equal to number of ACQ_obj_order\n"
       ]
      },
      {
       "output_type": "stream",
       "stream": "stderr",
       "text": [
        "/Library/Python/2.7/site-packages/scipy-0.13.0.dev_c31f167_20130514-py2.7-macosx-10.8-intel.egg/scipy/optimize/zeros.py:149: RuntimeWarning: Tolerance of -1.02553151414e+16 reached\n",
        "  warnings.warn(msg, RuntimeWarning)\n",
        "/Library/Python/2.7/site-packages/scipy-0.13.0.dev_c31f167_20130514-py2.7-macosx-10.8-intel.egg/scipy/optimize/zeros.py:149: RuntimeWarning: Tolerance of 2.4085589228e+15 reached\n",
        "  warnings.warn(msg, RuntimeWarning)\n"
       ]
      },
      {
       "output_type": "stream",
       "stream": "stderr",
       "text": [
        "/Library/Python/2.7/site-packages/scipy-0.13.0.dev_c31f167_20130514-py2.7-macosx-10.8-intel.egg/scipy/optimize/zeros.py:149: RuntimeWarning: Tolerance of -9.05452620669e+15 reached\n",
        "  warnings.warn(msg, RuntimeWarning)\n",
        "/Library/Python/2.7/site-packages/scipy-0.13.0.dev_c31f167_20130514-py2.7-macosx-10.8-intel.egg/scipy/optimize/zeros.py:149: RuntimeWarning: Tolerance of 1.7839179906e+16 reached\n",
        "  warnings.warn(msg, RuntimeWarning)\n"
       ]
      },
      {
       "output_type": "stream",
       "stream": "stderr",
       "text": [
        "/Library/Python/2.7/site-packages/scipy-0.13.0.dev_c31f167_20130514-py2.7-macosx-10.8-intel.egg/scipy/optimize/zeros.py:149: RuntimeWarning: Tolerance of -2.90589338813e+14 reached\n",
        "  warnings.warn(msg, RuntimeWarning)\n",
        "/Library/Python/2.7/site-packages/scipy-0.13.0.dev_c31f167_20130514-py2.7-macosx-10.8-intel.egg/scipy/optimize/zeros.py:149: RuntimeWarning: Tolerance of 3.5417321537e+16 reached\n",
        "  warnings.warn(msg, RuntimeWarning)\n"
       ]
      },
      {
       "output_type": "stream",
       "stream": "stderr",
       "text": [
        "/Library/Python/2.7/site-packages/scipy-0.13.0.dev_c31f167_20130514-py2.7-macosx-10.8-intel.egg/scipy/optimize/zeros.py:149: RuntimeWarning: Tolerance of -5.82965976214e+14 reached\n",
        "  warnings.warn(msg, RuntimeWarning)\n",
        "/Library/Python/2.7/site-packages/scipy-0.13.0.dev_c31f167_20130514-py2.7-macosx-10.8-intel.egg/scipy/optimize/zeros.py:149: RuntimeWarning: Tolerance of 4.02153116966e+16 reached\n",
        "  warnings.warn(msg, RuntimeWarning)\n"
       ]
      },
      {
       "output_type": "stream",
       "stream": "stderr",
       "text": [
        "/Library/Python/2.7/site-packages/scipy-0.13.0.dev_c31f167_20130514-py2.7-macosx-10.8-intel.egg/scipy/optimize/zeros.py:149: RuntimeWarning: Tolerance of -7.43717501064e+15 reached\n",
        "  warnings.warn(msg, RuntimeWarning)\n",
        "/Library/Python/2.7/site-packages/scipy-0.13.0.dev_c31f167_20130514-py2.7-macosx-10.8-intel.egg/scipy/optimize/zeros.py:149: RuntimeWarning: Tolerance of 3.37301361303e+15 reached\n",
        "  warnings.warn(msg, RuntimeWarning)\n"
       ]
      },
      {
       "output_type": "stream",
       "stream": "stderr",
       "text": [
        "/Library/Python/2.7/site-packages/scipy-0.13.0.dev_c31f167_20130514-py2.7-macosx-10.8-intel.egg/scipy/optimize/zeros.py:149: RuntimeWarning: Tolerance of -1.32763050269e+15 reached\n",
        "  warnings.warn(msg, RuntimeWarning)\n",
        "/Library/Python/2.7/site-packages/scipy-0.13.0.dev_c31f167_20130514-py2.7-macosx-10.8-intel.egg/scipy/optimize/zeros.py:149: RuntimeWarning: Tolerance of 3.18867491084e+14 reached\n",
        "  warnings.warn(msg, RuntimeWarning)\n"
       ]
      },
      {
       "output_type": "stream",
       "stream": "stderr",
       "text": [
        "/Library/Python/2.7/site-packages/scipy-0.13.0.dev_c31f167_20130514-py2.7-macosx-10.8-intel.egg/scipy/optimize/zeros.py:149: RuntimeWarning: Tolerance of -1.91060440638e+14 reached\n",
        "  warnings.warn(msg, RuntimeWarning)\n",
        "/Library/Python/2.7/site-packages/scipy-0.13.0.dev_c31f167_20130514-py2.7-macosx-10.8-intel.egg/scipy/optimize/zeros.py:149: RuntimeWarning: Tolerance of -1.56031752319e+15 reached\n",
        "  warnings.warn(msg, RuntimeWarning)\n"
       ]
      },
      {
       "output_type": "stream",
       "stream": "stderr",
       "text": [
        "/Library/Python/2.7/site-packages/scipy-0.13.0.dev_c31f167_20130514-py2.7-macosx-10.8-intel.egg/scipy/optimize/zeros.py:149: RuntimeWarning: Tolerance of -8.52698169706e+15 reached\n",
        "  warnings.warn(msg, RuntimeWarning)\n",
        "/Library/Python/2.7/site-packages/scipy-0.13.0.dev_c31f167_20130514-py2.7-macosx-10.8-intel.egg/scipy/optimize/zeros.py:149: RuntimeWarning: Tolerance of -4.87983915963e+16 reached\n",
        "  warnings.warn(msg, RuntimeWarning)\n"
       ]
      },
      {
       "output_type": "stream",
       "stream": "stderr",
       "text": [
        "/Library/Python/2.7/site-packages/scipy-0.13.0.dev_c31f167_20130514-py2.7-macosx-10.8-intel.egg/scipy/optimize/zeros.py:149: RuntimeWarning: Tolerance of -2.75989471876e+13 reached\n",
        "  warnings.warn(msg, RuntimeWarning)\n",
        "/Library/Python/2.7/site-packages/scipy-0.13.0.dev_c31f167_20130514-py2.7-macosx-10.8-intel.egg/scipy/optimize/zeros.py:149: RuntimeWarning: Tolerance of 1.69517172805e+17 reached\n",
        "  warnings.warn(msg, RuntimeWarning)\n"
       ]
      },
      {
       "output_type": "stream",
       "stream": "stderr",
       "text": [
        "/Library/Python/2.7/site-packages/scipy-0.13.0.dev_c31f167_20130514-py2.7-macosx-10.8-intel.egg/scipy/optimize/zeros.py:149: RuntimeWarning: Tolerance of -1.11982827456e+15 reached\n",
        "  warnings.warn(msg, RuntimeWarning)\n",
        "/Library/Python/2.7/site-packages/scipy-0.13.0.dev_c31f167_20130514-py2.7-macosx-10.8-intel.egg/scipy/optimize/zeros.py:149: RuntimeWarning: Tolerance of -5.31709288364e+14 reached\n",
        "  warnings.warn(msg, RuntimeWarning)\n"
       ]
      },
      {
       "output_type": "stream",
       "stream": "stderr",
       "text": [
        "/Library/Python/2.7/site-packages/scipy-0.13.0.dev_c31f167_20130514-py2.7-macosx-10.8-intel.egg/scipy/optimize/zeros.py:149: RuntimeWarning: Tolerance of 1.82999644518e+12 reached\n",
        "  warnings.warn(msg, RuntimeWarning)\n",
        "/Library/Python/2.7/site-packages/scipy-0.13.0.dev_c31f167_20130514-py2.7-macosx-10.8-intel.egg/scipy/optimize/zeros.py:149: RuntimeWarning: Tolerance of -4.56867290015e+15 reached\n",
        "  warnings.warn(msg, RuntimeWarning)\n"
       ]
      },
      {
       "output_type": "stream",
       "stream": "stderr",
       "text": [
        "/Library/Python/2.7/site-packages/scipy-0.13.0.dev_c31f167_20130514-py2.7-macosx-10.8-intel.egg/scipy/optimize/zeros.py:149: RuntimeWarning: Tolerance of 2.88969533743e+16 reached\n",
        "  warnings.warn(msg, RuntimeWarning)\n",
        "/Library/Python/2.7/site-packages/scipy-0.13.0.dev_c31f167_20130514-py2.7-macosx-10.8-intel.egg/scipy/optimize/zeros.py:149: RuntimeWarning: Tolerance of 1.98245660394e+16 reached\n",
        "  warnings.warn(msg, RuntimeWarning)\n"
       ]
      },
      {
       "output_type": "stream",
       "stream": "stderr",
       "text": [
        "/Library/Python/2.7/site-packages/scipy-0.13.0.dev_c31f167_20130514-py2.7-macosx-10.8-intel.egg/scipy/optimize/zeros.py:149: RuntimeWarning: Tolerance of 2.04646501585e+13 reached\n",
        "  warnings.warn(msg, RuntimeWarning)\n",
        "/Library/Python/2.7/site-packages/scipy-0.13.0.dev_c31f167_20130514-py2.7-macosx-10.8-intel.egg/scipy/optimize/zeros.py:149: RuntimeWarning: Tolerance of 1.9486429795e+16 reached\n",
        "  warnings.warn(msg, RuntimeWarning)\n"
       ]
      },
      {
       "output_type": "stream",
       "stream": "stderr",
       "text": [
        "/Library/Python/2.7/site-packages/scipy-0.13.0.dev_c31f167_20130514-py2.7-macosx-10.8-intel.egg/scipy/optimize/zeros.py:149: RuntimeWarning: Tolerance of -9.94821887446e+14 reached\n",
        "  warnings.warn(msg, RuntimeWarning)\n",
        "/Library/Python/2.7/site-packages/scipy-0.13.0.dev_c31f167_20130514-py2.7-macosx-10.8-intel.egg/scipy/optimize/zeros.py:149: RuntimeWarning: Tolerance of 2.02410562141e+16 reached\n",
        "  warnings.warn(msg, RuntimeWarning)\n"
       ]
      },
      {
       "output_type": "stream",
       "stream": "stderr",
       "text": [
        "/Library/Python/2.7/site-packages/scipy-0.13.0.dev_c31f167_20130514-py2.7-macosx-10.8-intel.egg/scipy/optimize/zeros.py:149: RuntimeWarning: Tolerance of -9.24277794964e+14 reached\n",
        "  warnings.warn(msg, RuntimeWarning)\n",
        "/Library/Python/2.7/site-packages/scipy-0.13.0.dev_c31f167_20130514-py2.7-macosx-10.8-intel.egg/scipy/optimize/zeros.py:149: RuntimeWarning: Tolerance of 1.08016265201e+15 reached\n",
        "  warnings.warn(msg, RuntimeWarning)\n"
       ]
      },
      {
       "output_type": "stream",
       "stream": "stderr",
       "text": [
        "/Library/Python/2.7/site-packages/scipy-0.13.0.dev_c31f167_20130514-py2.7-macosx-10.8-intel.egg/scipy/optimize/zeros.py:149: RuntimeWarning: Tolerance of -3.13260970661e+14 reached\n",
        "  warnings.warn(msg, RuntimeWarning)\n",
        "/Library/Python/2.7/site-packages/scipy-0.13.0.dev_c31f167_20130514-py2.7-macosx-10.8-intel.egg/scipy/optimize/zeros.py:149: RuntimeWarning: Tolerance of 2.92188845688e+15 reached\n",
        "  warnings.warn(msg, RuntimeWarning)\n"
       ]
      },
      {
       "output_type": "stream",
       "stream": "stderr",
       "text": [
        "/Library/Python/2.7/site-packages/scipy-0.13.0.dev_c31f167_20130514-py2.7-macosx-10.8-intel.egg/scipy/optimize/zeros.py:149: RuntimeWarning: Tolerance of 2.35622942782e+16 reached\n",
        "  warnings.warn(msg, RuntimeWarning)\n",
        "/Library/Python/2.7/site-packages/scipy-0.13.0.dev_c31f167_20130514-py2.7-macosx-10.8-intel.egg/scipy/optimize/zeros.py:149: RuntimeWarning: Tolerance of -2.98023223877e-08 reached\n",
        "  warnings.warn(msg, RuntimeWarning)\n"
       ]
      },
      {
       "output_type": "stream",
       "stream": "stderr",
       "text": [
        "/Library/Python/2.7/site-packages/scipy-0.13.0.dev_c31f167_20130514-py2.7-macosx-10.8-intel.egg/scipy/optimize/zeros.py:149: RuntimeWarning: Tolerance of 6.66451697146e+14 reached\n",
        "  warnings.warn(msg, RuntimeWarning)\n",
        "/Library/Python/2.7/site-packages/scipy-0.13.0.dev_c31f167_20130514-py2.7-macosx-10.8-intel.egg/scipy/optimize/zeros.py:149: RuntimeWarning: Tolerance of -2.35990970822e+16 reached\n",
        "  warnings.warn(msg, RuntimeWarning)\n"
       ]
      },
      {
       "output_type": "stream",
       "stream": "stderr",
       "text": [
        "/Library/Python/2.7/site-packages/scipy-0.13.0.dev_c31f167_20130514-py2.7-macosx-10.8-intel.egg/scipy/optimize/zeros.py:149: RuntimeWarning: Tolerance of 3.78046983609e+16 reached\n",
        "  warnings.warn(msg, RuntimeWarning)\n",
        "/Library/Python/2.7/site-packages/scipy-0.13.0.dev_c31f167_20130514-py2.7-macosx-10.8-intel.egg/scipy/optimize/zeros.py:149: RuntimeWarning: Tolerance of -1.2029554083e+13 reached\n",
        "  warnings.warn(msg, RuntimeWarning)\n"
       ]
      },
      {
       "output_type": "stream",
       "stream": "stderr",
       "text": [
        "/Library/Python/2.7/site-packages/scipy-0.13.0.dev_c31f167_20130514-py2.7-macosx-10.8-intel.egg/scipy/optimize/zeros.py:149: RuntimeWarning: Tolerance of 6.70374158593e+12 reached\n",
        "  warnings.warn(msg, RuntimeWarning)\n",
        "/Library/Python/2.7/site-packages/scipy-0.13.0.dev_c31f167_20130514-py2.7-macosx-10.8-intel.egg/scipy/optimize/zeros.py:149: RuntimeWarning: Tolerance of -4.53900001372e+16 reached\n",
        "  warnings.warn(msg, RuntimeWarning)\n"
       ]
      },
      {
       "output_type": "stream",
       "stream": "stderr",
       "text": [
        "/Library/Python/2.7/site-packages/scipy-0.13.0.dev_c31f167_20130514-py2.7-macosx-10.8-intel.egg/scipy/optimize/zeros.py:149: RuntimeWarning: Tolerance of 1.90307320846e+15 reached\n",
        "  warnings.warn(msg, RuntimeWarning)\n",
        "/Library/Python/2.7/site-packages/scipy-0.13.0.dev_c31f167_20130514-py2.7-macosx-10.8-intel.egg/scipy/optimize/zeros.py:149: RuntimeWarning: Tolerance of -1.3840191607e+16 reached\n",
        "  warnings.warn(msg, RuntimeWarning)\n"
       ]
      },
      {
       "output_type": "stream",
       "stream": "stderr",
       "text": [
        "/Library/Python/2.7/site-packages/scipy-0.13.0.dev_c31f167_20130514-py2.7-macosx-10.8-intel.egg/scipy/optimize/zeros.py:149: RuntimeWarning: Tolerance of 1.00174755035e+14 reached\n",
        "  warnings.warn(msg, RuntimeWarning)\n",
        "/Library/Python/2.7/site-packages/scipy-0.13.0.dev_c31f167_20130514-py2.7-macosx-10.8-intel.egg/scipy/optimize/zeros.py:149: RuntimeWarning: Tolerance of -9.83902056661e+15 reached\n",
        "  warnings.warn(msg, RuntimeWarning)\n"
       ]
      },
      {
       "output_type": "stream",
       "stream": "stderr",
       "text": [
        "/Library/Python/2.7/site-packages/scipy-0.13.0.dev_c31f167_20130514-py2.7-macosx-10.8-intel.egg/scipy/optimize/zeros.py:149: RuntimeWarning: Tolerance of -2.19584072411e+16 reached\n",
        "  warnings.warn(msg, RuntimeWarning)\n",
        "/Library/Python/2.7/site-packages/scipy-0.13.0.dev_c31f167_20130514-py2.7-macosx-10.8-intel.egg/scipy/optimize/zeros.py:149: RuntimeWarning: Tolerance of 5.48880630105e+16 reached\n",
        "  warnings.warn(msg, RuntimeWarning)\n"
       ]
      },
      {
       "output_type": "stream",
       "stream": "stderr",
       "text": [
        "/Library/Python/2.7/site-packages/scipy-0.13.0.dev_c31f167_20130514-py2.7-macosx-10.8-intel.egg/scipy/optimize/zeros.py:149: RuntimeWarning: Tolerance of -3.09678492291e+13 reached\n",
        "  warnings.warn(msg, RuntimeWarning)\n",
        "/Library/Python/2.7/site-packages/scipy-0.13.0.dev_c31f167_20130514-py2.7-macosx-10.8-intel.egg/scipy/optimize/zeros.py:149: RuntimeWarning: Tolerance of -1.16641733425e+17 reached\n",
        "  warnings.warn(msg, RuntimeWarning)\n"
       ]
      },
      {
       "output_type": "stream",
       "stream": "stderr",
       "text": [
        "/Library/Python/2.7/site-packages/scipy-0.13.0.dev_c31f167_20130514-py2.7-macosx-10.8-intel.egg/scipy/optimize/zeros.py:149: RuntimeWarning: Tolerance of 2.80730174746e+16 reached\n",
        "  warnings.warn(msg, RuntimeWarning)\n",
        "/Library/Python/2.7/site-packages/scipy-0.13.0.dev_c31f167_20130514-py2.7-macosx-10.8-intel.egg/scipy/optimize/zeros.py:149: RuntimeWarning: Tolerance of 6.46586248799e+14 reached\n",
        "  warnings.warn(msg, RuntimeWarning)\n"
       ]
      },
      {
       "output_type": "stream",
       "stream": "stderr",
       "text": [
        "/Library/Python/2.7/site-packages/scipy-0.13.0.dev_c31f167_20130514-py2.7-macosx-10.8-intel.egg/scipy/optimize/zeros.py:149: RuntimeWarning: Tolerance of 1.83573351367e+18 reached\n",
        "  warnings.warn(msg, RuntimeWarning)\n",
        "/Library/Python/2.7/site-packages/scipy-0.13.0.dev_c31f167_20130514-py2.7-macosx-10.8-intel.egg/scipy/optimize/zeros.py:149: RuntimeWarning: Tolerance of -1.03005819103e+16 reached\n",
        "  warnings.warn(msg, RuntimeWarning)\n"
       ]
      },
      {
       "output_type": "stream",
       "stream": "stderr",
       "text": [
        "/Library/Python/2.7/site-packages/scipy-0.13.0.dev_c31f167_20130514-py2.7-macosx-10.8-intel.egg/scipy/optimize/zeros.py:149: RuntimeWarning: Tolerance of -1.94232737867e+15 reached\n",
        "  warnings.warn(msg, RuntimeWarning)\n",
        "/Library/Python/2.7/site-packages/scipy-0.13.0.dev_c31f167_20130514-py2.7-macosx-10.8-intel.egg/scipy/optimize/zeros.py:149: RuntimeWarning: Tolerance of 2.13159611086e+16 reached\n",
        "  warnings.warn(msg, RuntimeWarning)\n"
       ]
      },
      {
       "output_type": "stream",
       "stream": "stderr",
       "text": [
        "/Library/Python/2.7/site-packages/scipy-0.13.0.dev_c31f167_20130514-py2.7-macosx-10.8-intel.egg/scipy/optimize/zeros.py:149: RuntimeWarning: Tolerance of -4.98773472935e+15 reached\n",
        "  warnings.warn(msg, RuntimeWarning)\n",
        "/Library/Python/2.7/site-packages/scipy-0.13.0.dev_c31f167_20130514-py2.7-macosx-10.8-intel.egg/scipy/optimize/zeros.py:149: RuntimeWarning: Tolerance of 6.52148137625e+15 reached\n",
        "  warnings.warn(msg, RuntimeWarning)\n"
       ]
      },
      {
       "output_type": "stream",
       "stream": "stderr",
       "text": [
        "/Library/Python/2.7/site-packages/scipy-0.13.0.dev_c31f167_20130514-py2.7-macosx-10.8-intel.egg/scipy/optimize/zeros.py:149: RuntimeWarning: Tolerance of 3.15654114037e+17 reached\n",
        "  warnings.warn(msg, RuntimeWarning)\n",
        "/Library/Python/2.7/site-packages/scipy-0.13.0.dev_c31f167_20130514-py2.7-macosx-10.8-intel.egg/scipy/optimize/zeros.py:149: RuntimeWarning: Tolerance of -4.62963505378e+16 reached\n",
        "  warnings.warn(msg, RuntimeWarning)\n"
       ]
      },
      {
       "output_type": "stream",
       "stream": "stderr",
       "text": [
        "/Library/Python/2.7/site-packages/scipy-0.13.0.dev_c31f167_20130514-py2.7-macosx-10.8-intel.egg/scipy/optimize/zeros.py:149: RuntimeWarning: Tolerance of -1.42696633694e+15 reached\n",
        "  warnings.warn(msg, RuntimeWarning)\n",
        "/Library/Python/2.7/site-packages/scipy-0.13.0.dev_c31f167_20130514-py2.7-macosx-10.8-intel.egg/scipy/optimize/zeros.py:149: RuntimeWarning: Tolerance of -6.5573387776e+15 reached\n",
        "  warnings.warn(msg, RuntimeWarning)\n"
       ]
      },
      {
       "output_type": "stream",
       "stream": "stderr",
       "text": [
        "/Library/Python/2.7/site-packages/scipy-0.13.0.dev_c31f167_20130514-py2.7-macosx-10.8-intel.egg/scipy/optimize/zeros.py:149: RuntimeWarning: Tolerance of -2.40691368241e+15 reached\n",
        "  warnings.warn(msg, RuntimeWarning)\n",
        "/Library/Python/2.7/site-packages/scipy-0.13.0.dev_c31f167_20130514-py2.7-macosx-10.8-intel.egg/scipy/optimize/zeros.py:149: RuntimeWarning: Tolerance of -7.78938143823e+14 reached\n",
        "  warnings.warn(msg, RuntimeWarning)\n"
       ]
      },
      {
       "output_type": "stream",
       "stream": "stderr",
       "text": [
        "/Library/Python/2.7/site-packages/scipy-0.13.0.dev_c31f167_20130514-py2.7-macosx-10.8-intel.egg/scipy/optimize/zeros.py:149: RuntimeWarning: Tolerance of -3.04578264265e+15 reached\n",
        "  warnings.warn(msg, RuntimeWarning)\n",
        "/Library/Python/2.7/site-packages/scipy-0.13.0.dev_c31f167_20130514-py2.7-macosx-10.8-intel.egg/scipy/optimize/zeros.py:149: RuntimeWarning: Tolerance of 3.01866705816e+16 reached\n",
        "  warnings.warn(msg, RuntimeWarning)\n"
       ]
      },
      {
       "output_type": "stream",
       "stream": "stderr",
       "text": [
        "/Library/Python/2.7/site-packages/scipy-0.13.0.dev_c31f167_20130514-py2.7-macosx-10.8-intel.egg/scipy/optimize/zeros.py:149: RuntimeWarning: Tolerance of 3.90646094651e+15 reached\n",
        "  warnings.warn(msg, RuntimeWarning)\n",
        "/Library/Python/2.7/site-packages/scipy-0.13.0.dev_c31f167_20130514-py2.7-macosx-10.8-intel.egg/scipy/optimize/zeros.py:149: RuntimeWarning: Tolerance of -1.05781551244e+17 reached\n",
        "  warnings.warn(msg, RuntimeWarning)\n"
       ]
      },
      {
       "output_type": "stream",
       "stream": "stderr",
       "text": [
        "/Library/Python/2.7/site-packages/scipy-0.13.0.dev_c31f167_20130514-py2.7-macosx-10.8-intel.egg/scipy/optimize/zeros.py:149: RuntimeWarning: Tolerance of 9.8285928458e+15 reached\n",
        "  warnings.warn(msg, RuntimeWarning)\n",
        "/Library/Python/2.7/site-packages/scipy-0.13.0.dev_c31f167_20130514-py2.7-macosx-10.8-intel.egg/scipy/optimize/zeros.py:149: RuntimeWarning: Tolerance of 1.13155692816e-06 reached\n",
        "  warnings.warn(msg, RuntimeWarning)\n"
       ]
      },
      {
       "output_type": "stream",
       "stream": "stderr",
       "text": [
        "/Library/Python/2.7/site-packages/scipy-0.13.0.dev_c31f167_20130514-py2.7-macosx-10.8-intel.egg/scipy/optimize/zeros.py:149: RuntimeWarning: Tolerance of 2.69599095234e+14 reached\n",
        "  warnings.warn(msg, RuntimeWarning)\n",
        "/Library/Python/2.7/site-packages/scipy-0.13.0.dev_c31f167_20130514-py2.7-macosx-10.8-intel.egg/scipy/optimize/zeros.py:149: RuntimeWarning: Tolerance of -1.07333691793e+16 reached\n",
        "  warnings.warn(msg, RuntimeWarning)\n"
       ]
      },
      {
       "output_type": "stream",
       "stream": "stderr",
       "text": [
        "/Library/Python/2.7/site-packages/scipy-0.13.0.dev_c31f167_20130514-py2.7-macosx-10.8-intel.egg/scipy/optimize/zeros.py:149: RuntimeWarning: Tolerance of -8.79060270007e+15 reached\n",
        "  warnings.warn(msg, RuntimeWarning)\n",
        "/Library/Python/2.7/site-packages/scipy-0.13.0.dev_c31f167_20130514-py2.7-macosx-10.8-intel.egg/scipy/optimize/zeros.py:149: RuntimeWarning: Tolerance of 1.16968705548e+16 reached\n",
        "  warnings.warn(msg, RuntimeWarning)\n"
       ]
      },
      {
       "output_type": "stream",
       "stream": "stderr",
       "text": [
        "/Library/Python/2.7/site-packages/scipy-0.13.0.dev_c31f167_20130514-py2.7-macosx-10.8-intel.egg/scipy/optimize/zeros.py:149: RuntimeWarning: Tolerance of 3.56353350861e+14 reached\n",
        "  warnings.warn(msg, RuntimeWarning)\n",
        "/Library/Python/2.7/site-packages/scipy-0.13.0.dev_c31f167_20130514-py2.7-macosx-10.8-intel.egg/scipy/optimize/zeros.py:149: RuntimeWarning: Tolerance of -1.74638684178e+15 reached\n",
        "  warnings.warn(msg, RuntimeWarning)\n"
       ]
      },
      {
       "output_type": "stream",
       "stream": "stderr",
       "text": [
        "/Library/Python/2.7/site-packages/scipy-0.13.0.dev_c31f167_20130514-py2.7-macosx-10.8-intel.egg/scipy/optimize/zeros.py:149: RuntimeWarning: Tolerance of -2.21322936093e+16 reached\n",
        "  warnings.warn(msg, RuntimeWarning)\n",
        "/Library/Python/2.7/site-packages/scipy-0.13.0.dev_c31f167_20130514-py2.7-macosx-10.8-intel.egg/scipy/optimize/zeros.py:149: RuntimeWarning: Tolerance of -6.18684693259e+12 reached\n",
        "  warnings.warn(msg, RuntimeWarning)\n"
       ]
      },
      {
       "output_type": "stream",
       "stream": "stderr",
       "text": [
        "/Library/Python/2.7/site-packages/scipy-0.13.0.dev_c31f167_20130514-py2.7-macosx-10.8-intel.egg/scipy/optimize/zeros.py:149: RuntimeWarning: Tolerance of -9.23192940894e+14 reached\n",
        "  warnings.warn(msg, RuntimeWarning)\n",
        "/Library/Python/2.7/site-packages/scipy-0.13.0.dev_c31f167_20130514-py2.7-macosx-10.8-intel.egg/scipy/optimize/zeros.py:149: RuntimeWarning: Tolerance of 1.32478359783e+16 reached\n",
        "  warnings.warn(msg, RuntimeWarning)\n"
       ]
      },
      {
       "output_type": "stream",
       "stream": "stdout",
       "text": [
        "\n",
        "deleting item T1map_LL"
       ]
      },
      {
       "output_type": "stream",
       "stream": "stdout",
       "text": [
        "\n",
        "deleting item T1map_LL_fitdict"
       ]
      },
      {
       "output_type": "stream",
       "stream": "stderr",
       "text": [
        "/Library/Python/2.7/site-packages/scipy-0.13.0.dev_c31f167_20130514-py2.7-macosx-10.8-intel.egg/scipy/optimize/zeros.py:149: RuntimeWarning: Tolerance of 1.05337713086e+16 reached\n",
        "  warnings.warn(msg, RuntimeWarning)\n",
        "WARNING:sarpy.io.BRUKERIO:NSLICES not equal to number of ACQ_obj_order\n"
       ]
      },
      {
       "output_type": "stream",
       "stream": "stderr",
       "text": [
        "/Library/Python/2.7/site-packages/scipy-0.13.0.dev_c31f167_20130514-py2.7-macosx-10.8-intel.egg/scipy/optimize/zeros.py:149: RuntimeWarning: Tolerance of -9.69493393099e+15 reached\n",
        "  warnings.warn(msg, RuntimeWarning)\n",
        "/Library/Python/2.7/site-packages/scipy-0.13.0.dev_c31f167_20130514-py2.7-macosx-10.8-intel.egg/scipy/optimize/zeros.py:149: RuntimeWarning: Tolerance of 7.07368686855e+16 reached\n",
        "  warnings.warn(msg, RuntimeWarning)\n"
       ]
      },
      {
       "output_type": "stream",
       "stream": "stderr",
       "text": [
        "/Library/Python/2.7/site-packages/scipy-0.13.0.dev_c31f167_20130514-py2.7-macosx-10.8-intel.egg/scipy/optimize/zeros.py:149: RuntimeWarning: Tolerance of -3.16589850809e+14 reached\n",
        "  warnings.warn(msg, RuntimeWarning)\n",
        "/Library/Python/2.7/site-packages/scipy-0.13.0.dev_c31f167_20130514-py2.7-macosx-10.8-intel.egg/scipy/optimize/zeros.py:149: RuntimeWarning: Tolerance of -3.03339999772e+16 reached\n",
        "  warnings.warn(msg, RuntimeWarning)\n"
       ]
      },
      {
       "output_type": "stream",
       "stream": "stderr",
       "text": [
        "/Library/Python/2.7/site-packages/scipy-0.13.0.dev_c31f167_20130514-py2.7-macosx-10.8-intel.egg/scipy/optimize/zeros.py:149: RuntimeWarning: Tolerance of -1.74729672602e+15 reached\n",
        "  warnings.warn(msg, RuntimeWarning)\n",
        "/Library/Python/2.7/site-packages/scipy-0.13.0.dev_c31f167_20130514-py2.7-macosx-10.8-intel.egg/scipy/optimize/zeros.py:149: RuntimeWarning: Tolerance of 4.83260594167e+16 reached\n",
        "  warnings.warn(msg, RuntimeWarning)\n"
       ]
      },
      {
       "output_type": "stream",
       "stream": "stderr",
       "text": [
        "/Library/Python/2.7/site-packages/scipy-0.13.0.dev_c31f167_20130514-py2.7-macosx-10.8-intel.egg/scipy/optimize/zeros.py:149: RuntimeWarning: Tolerance of 2.67233462315e+14 reached\n",
        "  warnings.warn(msg, RuntimeWarning)\n",
        "/Library/Python/2.7/site-packages/scipy-0.13.0.dev_c31f167_20130514-py2.7-macosx-10.8-intel.egg/scipy/optimize/zeros.py:149: RuntimeWarning: Tolerance of -5.02626162634e+16 reached\n",
        "  warnings.warn(msg, RuntimeWarning)\n"
       ]
      },
      {
       "output_type": "stream",
       "stream": "stderr",
       "text": [
        "/Library/Python/2.7/site-packages/scipy-0.13.0.dev_c31f167_20130514-py2.7-macosx-10.8-intel.egg/scipy/optimize/zeros.py:149: RuntimeWarning: Tolerance of -2.12290897475e+16 reached\n",
        "  warnings.warn(msg, RuntimeWarning)\n",
        "/Library/Python/2.7/site-packages/scipy-0.13.0.dev_c31f167_20130514-py2.7-macosx-10.8-intel.egg/scipy/optimize/zeros.py:149: RuntimeWarning: Tolerance of -1.38864588135e+17 reached\n",
        "  warnings.warn(msg, RuntimeWarning)\n"
       ]
      },
      {
       "output_type": "stream",
       "stream": "stderr",
       "text": [
        "/Library/Python/2.7/site-packages/scipy-0.13.0.dev_c31f167_20130514-py2.7-macosx-10.8-intel.egg/scipy/optimize/zeros.py:149: RuntimeWarning: Tolerance of -1.31992576121e+15 reached\n",
        "  warnings.warn(msg, RuntimeWarning)\n",
        "/Library/Python/2.7/site-packages/scipy-0.13.0.dev_c31f167_20130514-py2.7-macosx-10.8-intel.egg/scipy/optimize/zeros.py:149: RuntimeWarning: Tolerance of -2.4403045878e+14 reached\n",
        "  warnings.warn(msg, RuntimeWarning)\n"
       ]
      },
      {
       "output_type": "stream",
       "stream": "stderr",
       "text": [
        "/Library/Python/2.7/site-packages/scipy-0.13.0.dev_c31f167_20130514-py2.7-macosx-10.8-intel.egg/scipy/optimize/zeros.py:149: RuntimeWarning: Tolerance of -4.25625830793e+15 reached\n",
        "  warnings.warn(msg, RuntimeWarning)\n",
        "/Library/Python/2.7/site-packages/scipy-0.13.0.dev_c31f167_20130514-py2.7-macosx-10.8-intel.egg/scipy/optimize/zeros.py:149: RuntimeWarning: Tolerance of -4.99561615177e+14 reached\n",
        "  warnings.warn(msg, RuntimeWarning)\n"
       ]
      },
      {
       "output_type": "stream",
       "stream": "stderr",
       "text": [
        "/Library/Python/2.7/site-packages/scipy-0.13.0.dev_c31f167_20130514-py2.7-macosx-10.8-intel.egg/scipy/optimize/zeros.py:149: RuntimeWarning: Tolerance of 1.69436650763e+15 reached\n",
        "  warnings.warn(msg, RuntimeWarning)\n",
        "/Library/Python/2.7/site-packages/scipy-0.13.0.dev_c31f167_20130514-py2.7-macosx-10.8-intel.egg/scipy/optimize/zeros.py:149: RuntimeWarning: Tolerance of 1.33324192443e+17 reached\n",
        "  warnings.warn(msg, RuntimeWarning)\n"
       ]
      },
      {
       "output_type": "stream",
       "stream": "stderr",
       "text": [
        "/Library/Python/2.7/site-packages/scipy-0.13.0.dev_c31f167_20130514-py2.7-macosx-10.8-intel.egg/scipy/optimize/zeros.py:149: RuntimeWarning: Tolerance of -3.73793096545e+15 reached\n",
        "  warnings.warn(msg, RuntimeWarning)\n",
        "/Library/Python/2.7/site-packages/scipy-0.13.0.dev_c31f167_20130514-py2.7-macosx-10.8-intel.egg/scipy/optimize/zeros.py:149: RuntimeWarning: Tolerance of -9.08939153866e+16 reached\n",
        "  warnings.warn(msg, RuntimeWarning)\n"
       ]
      },
      {
       "output_type": "stream",
       "stream": "stderr",
       "text": [
        "/Library/Python/2.7/site-packages/scipy-0.13.0.dev_c31f167_20130514-py2.7-macosx-10.8-intel.egg/scipy/optimize/zeros.py:149: RuntimeWarning: Tolerance of 3.53895582555e+14 reached\n",
        "  warnings.warn(msg, RuntimeWarning)\n",
        "/Library/Python/2.7/site-packages/scipy-0.13.0.dev_c31f167_20130514-py2.7-macosx-10.8-intel.egg/scipy/optimize/zeros.py:149: RuntimeWarning: Tolerance of -8.74092004084e+12 reached\n",
        "  warnings.warn(msg, RuntimeWarning)\n"
       ]
      },
      {
       "output_type": "stream",
       "stream": "stderr",
       "text": [
        "/Library/Python/2.7/site-packages/scipy-0.13.0.dev_c31f167_20130514-py2.7-macosx-10.8-intel.egg/scipy/optimize/zeros.py:149: RuntimeWarning: Tolerance of 2.51441414294e+15 reached\n",
        "  warnings.warn(msg, RuntimeWarning)\n",
        "/Library/Python/2.7/site-packages/scipy-0.13.0.dev_c31f167_20130514-py2.7-macosx-10.8-intel.egg/scipy/optimize/zeros.py:149: RuntimeWarning: Tolerance of -3.34193623108e+16 reached\n",
        "  warnings.warn(msg, RuntimeWarning)\n"
       ]
      },
      {
       "output_type": "stream",
       "stream": "stderr",
       "text": [
        "/Library/Python/2.7/site-packages/scipy-0.13.0.dev_c31f167_20130514-py2.7-macosx-10.8-intel.egg/scipy/optimize/zeros.py:149: RuntimeWarning: Tolerance of -2.11516429631e+16 reached\n",
        "  warnings.warn(msg, RuntimeWarning)\n",
        "/Library/Python/2.7/site-packages/scipy-0.13.0.dev_c31f167_20130514-py2.7-macosx-10.8-intel.egg/scipy/optimize/zeros.py:149: RuntimeWarning: Tolerance of 4.6886756765e+16 reached\n",
        "  warnings.warn(msg, RuntimeWarning)\n"
       ]
      },
      {
       "output_type": "stream",
       "stream": "stderr",
       "text": [
        "/Library/Python/2.7/site-packages/scipy-0.13.0.dev_c31f167_20130514-py2.7-macosx-10.8-intel.egg/scipy/optimize/zeros.py:149: RuntimeWarning: Tolerance of 3.33379140748e+16 reached\n",
        "  warnings.warn(msg, RuntimeWarning)\n",
        "/Library/Python/2.7/site-packages/scipy-0.13.0.dev_c31f167_20130514-py2.7-macosx-10.8-intel.egg/scipy/optimize/zeros.py:149: RuntimeWarning: Tolerance of 5.87473554513e+16 reached\n",
        "  warnings.warn(msg, RuntimeWarning)\n"
       ]
      },
      {
       "output_type": "stream",
       "stream": "stderr",
       "text": [
        "/Library/Python/2.7/site-packages/scipy-0.13.0.dev_c31f167_20130514-py2.7-macosx-10.8-intel.egg/scipy/optimize/zeros.py:149: RuntimeWarning: Tolerance of -9.73923749424e+17 reached\n",
        "  warnings.warn(msg, RuntimeWarning)\n",
        "/Library/Python/2.7/site-packages/scipy-0.13.0.dev_c31f167_20130514-py2.7-macosx-10.8-intel.egg/scipy/optimize/zeros.py:149: RuntimeWarning: Tolerance of -4.18986490775e+16 reached\n",
        "  warnings.warn(msg, RuntimeWarning)\n"
       ]
      },
      {
       "output_type": "stream",
       "stream": "stderr",
       "text": [
        "/Library/Python/2.7/site-packages/scipy-0.13.0.dev_c31f167_20130514-py2.7-macosx-10.8-intel.egg/scipy/optimize/zeros.py:149: RuntimeWarning: Tolerance of 3.09448643251e+16 reached\n",
        "  warnings.warn(msg, RuntimeWarning)\n",
        "/Library/Python/2.7/site-packages/scipy-0.13.0.dev_c31f167_20130514-py2.7-macosx-10.8-intel.egg/scipy/optimize/zeros.py:149: RuntimeWarning: Tolerance of 1.68073848943e+16 reached\n",
        "  warnings.warn(msg, RuntimeWarning)\n"
       ]
      },
      {
       "output_type": "stream",
       "stream": "stderr",
       "text": [
        "/Library/Python/2.7/site-packages/scipy-0.13.0.dev_c31f167_20130514-py2.7-macosx-10.8-intel.egg/scipy/optimize/zeros.py:149: RuntimeWarning: Tolerance of -6.57571849414e+14 reached\n",
        "  warnings.warn(msg, RuntimeWarning)\n",
        "/Library/Python/2.7/site-packages/scipy-0.13.0.dev_c31f167_20130514-py2.7-macosx-10.8-intel.egg/scipy/optimize/zeros.py:149: RuntimeWarning: Tolerance of -5.69488185484e+16 reached\n",
        "  warnings.warn(msg, RuntimeWarning)\n"
       ]
      },
      {
       "output_type": "stream",
       "stream": "stderr",
       "text": [
        "/Library/Python/2.7/site-packages/scipy-0.13.0.dev_c31f167_20130514-py2.7-macosx-10.8-intel.egg/scipy/optimize/zeros.py:149: RuntimeWarning: Tolerance of 2.33719035592e+15 reached\n",
        "  warnings.warn(msg, RuntimeWarning)\n",
        "/Library/Python/2.7/site-packages/scipy-0.13.0.dev_c31f167_20130514-py2.7-macosx-10.8-intel.egg/scipy/optimize/zeros.py:149: RuntimeWarning: Tolerance of -837894043232.0 reached\n",
        "  warnings.warn(msg, RuntimeWarning)\n"
       ]
      },
      {
       "output_type": "stream",
       "stream": "stderr",
       "text": [
        "/Library/Python/2.7/site-packages/scipy-0.13.0.dev_c31f167_20130514-py2.7-macosx-10.8-intel.egg/scipy/optimize/zeros.py:149: RuntimeWarning: Tolerance of 3.55258201317e+16 reached\n",
        "  warnings.warn(msg, RuntimeWarning)\n",
        "/Library/Python/2.7/site-packages/scipy-0.13.0.dev_c31f167_20130514-py2.7-macosx-10.8-intel.egg/scipy/optimize/zeros.py:149: RuntimeWarning: Tolerance of -9.60642418304e+15 reached\n",
        "  warnings.warn(msg, RuntimeWarning)\n"
       ]
      },
      {
       "output_type": "stream",
       "stream": "stderr",
       "text": [
        "/Library/Python/2.7/site-packages/scipy-0.13.0.dev_c31f167_20130514-py2.7-macosx-10.8-intel.egg/scipy/optimize/zeros.py:149: RuntimeWarning: Tolerance of 1.52331744583e+16 reached\n",
        "  warnings.warn(msg, RuntimeWarning)\n",
        "/Library/Python/2.7/site-packages/scipy-0.13.0.dev_c31f167_20130514-py2.7-macosx-10.8-intel.egg/scipy/optimize/zeros.py:149: RuntimeWarning: Tolerance of 1.97948148821e+15 reached\n",
        "  warnings.warn(msg, RuntimeWarning)\n"
       ]
      },
      {
       "output_type": "stream",
       "stream": "stderr",
       "text": [
        "/Library/Python/2.7/site-packages/scipy-0.13.0.dev_c31f167_20130514-py2.7-macosx-10.8-intel.egg/scipy/optimize/zeros.py:149: RuntimeWarning: Tolerance of 1.87082278208e+12 reached\n",
        "  warnings.warn(msg, RuntimeWarning)\n",
        "/Library/Python/2.7/site-packages/scipy-0.13.0.dev_c31f167_20130514-py2.7-macosx-10.8-intel.egg/scipy/optimize/zeros.py:149: RuntimeWarning: Tolerance of -4.42961785528e+16 reached\n",
        "  warnings.warn(msg, RuntimeWarning)\n"
       ]
      },
      {
       "output_type": "stream",
       "stream": "stderr",
       "text": [
        "/Library/Python/2.7/site-packages/scipy-0.13.0.dev_c31f167_20130514-py2.7-macosx-10.8-intel.egg/scipy/optimize/zeros.py:149: RuntimeWarning: Tolerance of -7.71559738089e+16 reached\n",
        "  warnings.warn(msg, RuntimeWarning)\n",
        "/Library/Python/2.7/site-packages/scipy-0.13.0.dev_c31f167_20130514-py2.7-macosx-10.8-intel.egg/scipy/optimize/zeros.py:149: RuntimeWarning: Tolerance of -1.17504214584e+15 reached\n",
        "  warnings.warn(msg, RuntimeWarning)\n"
       ]
      },
      {
       "output_type": "stream",
       "stream": "stderr",
       "text": [
        "/Library/Python/2.7/site-packages/scipy-0.13.0.dev_c31f167_20130514-py2.7-macosx-10.8-intel.egg/scipy/optimize/zeros.py:149: RuntimeWarning: Tolerance of -2.06849129426e+15 reached\n",
        "  warnings.warn(msg, RuntimeWarning)\n",
        "/Library/Python/2.7/site-packages/scipy-0.13.0.dev_c31f167_20130514-py2.7-macosx-10.8-intel.egg/scipy/optimize/zeros.py:149: RuntimeWarning: Tolerance of -1.49468351436e+15 reached\n",
        "  warnings.warn(msg, RuntimeWarning)\n"
       ]
      },
      {
       "output_type": "stream",
       "stream": "stderr",
       "text": [
        "/Library/Python/2.7/site-packages/scipy-0.13.0.dev_c31f167_20130514-py2.7-macosx-10.8-intel.egg/scipy/optimize/zeros.py:149: RuntimeWarning: Tolerance of -3.78450604681e+15 reached\n",
        "  warnings.warn(msg, RuntimeWarning)\n",
        "/Library/Python/2.7/site-packages/scipy-0.13.0.dev_c31f167_20130514-py2.7-macosx-10.8-intel.egg/scipy/optimize/zeros.py:149: RuntimeWarning: Tolerance of -6.51643338327e+13 reached\n",
        "  warnings.warn(msg, RuntimeWarning)\n"
       ]
      },
      {
       "output_type": "stream",
       "stream": "stderr",
       "text": [
        "/Library/Python/2.7/site-packages/scipy-0.13.0.dev_c31f167_20130514-py2.7-macosx-10.8-intel.egg/scipy/optimize/zeros.py:149: RuntimeWarning: Tolerance of 131304327378.0 reached\n",
        "  warnings.warn(msg, RuntimeWarning)\n",
        "/Library/Python/2.7/site-packages/scipy-0.13.0.dev_c31f167_20130514-py2.7-macosx-10.8-intel.egg/scipy/optimize/zeros.py:149: RuntimeWarning: Tolerance of -5.96456517962e+14 reached\n",
        "  warnings.warn(msg, RuntimeWarning)\n"
       ]
      },
      {
       "output_type": "stream",
       "stream": "stderr",
       "text": [
        "/Library/Python/2.7/site-packages/scipy-0.13.0.dev_c31f167_20130514-py2.7-macosx-10.8-intel.egg/scipy/optimize/zeros.py:149: RuntimeWarning: Tolerance of 1.84912392323e+18 reached\n",
        "  warnings.warn(msg, RuntimeWarning)\n",
        "/Library/Python/2.7/site-packages/scipy-0.13.0.dev_c31f167_20130514-py2.7-macosx-10.8-intel.egg/scipy/optimize/zeros.py:149: RuntimeWarning: Tolerance of 2.31764768256e+15 reached\n",
        "  warnings.warn(msg, RuntimeWarning)\n"
       ]
      },
      {
       "output_type": "stream",
       "stream": "stderr",
       "text": [
        "/Library/Python/2.7/site-packages/scipy-0.13.0.dev_c31f167_20130514-py2.7-macosx-10.8-intel.egg/scipy/optimize/zeros.py:149: RuntimeWarning: Tolerance of -7.79002152638e+15 reached\n",
        "  warnings.warn(msg, RuntimeWarning)\n",
        "/Library/Python/2.7/site-packages/scipy-0.13.0.dev_c31f167_20130514-py2.7-macosx-10.8-intel.egg/scipy/optimize/zeros.py:149: RuntimeWarning: Tolerance of -4.73323830939e+18 reached\n",
        "  warnings.warn(msg, RuntimeWarning)\n"
       ]
      },
      {
       "output_type": "stream",
       "stream": "stderr",
       "text": [
        "/Library/Python/2.7/site-packages/scipy-0.13.0.dev_c31f167_20130514-py2.7-macosx-10.8-intel.egg/scipy/optimize/zeros.py:149: RuntimeWarning: Tolerance of -1.21290837955e+15 reached\n",
        "  warnings.warn(msg, RuntimeWarning)\n",
        "/Library/Python/2.7/site-packages/scipy-0.13.0.dev_c31f167_20130514-py2.7-macosx-10.8-intel.egg/scipy/optimize/zeros.py:149: RuntimeWarning: Tolerance of -1.26377540722e+16 reached\n",
        "  warnings.warn(msg, RuntimeWarning)\n"
       ]
      },
      {
       "output_type": "stream",
       "stream": "stderr",
       "text": [
        "/Library/Python/2.7/site-packages/scipy-0.13.0.dev_c31f167_20130514-py2.7-macosx-10.8-intel.egg/scipy/optimize/zeros.py:149: RuntimeWarning: Tolerance of 1.05916942509e+16 reached\n",
        "  warnings.warn(msg, RuntimeWarning)\n",
        "/Library/Python/2.7/site-packages/scipy-0.13.0.dev_c31f167_20130514-py2.7-macosx-10.8-intel.egg/scipy/optimize/zeros.py:149: RuntimeWarning: Tolerance of 6.20988380364e+15 reached\n",
        "  warnings.warn(msg, RuntimeWarning)\n"
       ]
      },
      {
       "output_type": "stream",
       "stream": "stderr",
       "text": [
        "/Library/Python/2.7/site-packages/scipy-0.13.0.dev_c31f167_20130514-py2.7-macosx-10.8-intel.egg/scipy/optimize/zeros.py:149: RuntimeWarning: Tolerance of -4.5375494554e+15 reached\n",
        "  warnings.warn(msg, RuntimeWarning)\n",
        "/Library/Python/2.7/site-packages/scipy-0.13.0.dev_c31f167_20130514-py2.7-macosx-10.8-intel.egg/scipy/optimize/zeros.py:149: RuntimeWarning: Tolerance of -2.16280516209e+14 reached\n",
        "  warnings.warn(msg, RuntimeWarning)\n"
       ]
      },
      {
       "output_type": "stream",
       "stream": "stderr",
       "text": [
        "/Library/Python/2.7/site-packages/scipy-0.13.0.dev_c31f167_20130514-py2.7-macosx-10.8-intel.egg/scipy/optimize/zeros.py:149: RuntimeWarning: Tolerance of -2.09010699408e+15 reached\n",
        "  warnings.warn(msg, RuntimeWarning)\n",
        "/Library/Python/2.7/site-packages/scipy-0.13.0.dev_c31f167_20130514-py2.7-macosx-10.8-intel.egg/scipy/optimize/zeros.py:149: RuntimeWarning: Tolerance of 1.93325259603e+16 reached\n",
        "  warnings.warn(msg, RuntimeWarning)\n"
       ]
      },
      {
       "output_type": "stream",
       "stream": "stderr",
       "text": [
        "/Library/Python/2.7/site-packages/scipy-0.13.0.dev_c31f167_20130514-py2.7-macosx-10.8-intel.egg/scipy/optimize/zeros.py:149: RuntimeWarning: Tolerance of 3.45851769282e+14 reached\n",
        "  warnings.warn(msg, RuntimeWarning)\n",
        "/Library/Python/2.7/site-packages/scipy-0.13.0.dev_c31f167_20130514-py2.7-macosx-10.8-intel.egg/scipy/optimize/zeros.py:149: RuntimeWarning: Tolerance of 1.09044308452e+16 reached\n",
        "  warnings.warn(msg, RuntimeWarning)\n"
       ]
      },
      {
       "output_type": "stream",
       "stream": "stderr",
       "text": [
        "/Library/Python/2.7/site-packages/scipy-0.13.0.dev_c31f167_20130514-py2.7-macosx-10.8-intel.egg/scipy/optimize/zeros.py:149: RuntimeWarning: Tolerance of 3.23930641571e+14 reached\n",
        "  warnings.warn(msg, RuntimeWarning)\n",
        "/Library/Python/2.7/site-packages/scipy-0.13.0.dev_c31f167_20130514-py2.7-macosx-10.8-intel.egg/scipy/optimize/zeros.py:149: RuntimeWarning: Tolerance of 1.27048360091e+16 reached\n",
        "  warnings.warn(msg, RuntimeWarning)\n"
       ]
      },
      {
       "output_type": "stream",
       "stream": "stderr",
       "text": [
        "/Library/Python/2.7/site-packages/scipy-0.13.0.dev_c31f167_20130514-py2.7-macosx-10.8-intel.egg/scipy/optimize/zeros.py:149: RuntimeWarning: Tolerance of -3.44611931976e+16 reached\n",
        "  warnings.warn(msg, RuntimeWarning)\n",
        "/Library/Python/2.7/site-packages/scipy-0.13.0.dev_c31f167_20130514-py2.7-macosx-10.8-intel.egg/scipy/optimize/zeros.py:149: RuntimeWarning: Tolerance of 4.73518617775e+16 reached\n",
        "  warnings.warn(msg, RuntimeWarning)\n"
       ]
      },
      {
       "output_type": "stream",
       "stream": "stderr",
       "text": [
        "/Library/Python/2.7/site-packages/scipy-0.13.0.dev_c31f167_20130514-py2.7-macosx-10.8-intel.egg/scipy/optimize/zeros.py:149: RuntimeWarning: Tolerance of 1.02303140282e+14 reached\n",
        "  warnings.warn(msg, RuntimeWarning)\n",
        "/Library/Python/2.7/site-packages/scipy-0.13.0.dev_c31f167_20130514-py2.7-macosx-10.8-intel.egg/scipy/optimize/zeros.py:149: RuntimeWarning: Tolerance of -4.98406041719e+15 reached\n",
        "  warnings.warn(msg, RuntimeWarning)\n"
       ]
      },
      {
       "output_type": "stream",
       "stream": "stderr",
       "text": [
        "/Library/Python/2.7/site-packages/scipy-0.13.0.dev_c31f167_20130514-py2.7-macosx-10.8-intel.egg/scipy/optimize/zeros.py:149: RuntimeWarning: Tolerance of 2.78070440331e+16 reached\n",
        "  warnings.warn(msg, RuntimeWarning)\n",
        "/Library/Python/2.7/site-packages/scipy-0.13.0.dev_c31f167_20130514-py2.7-macosx-10.8-intel.egg/scipy/optimize/zeros.py:149: RuntimeWarning: Tolerance of 2.44913126419e+14 reached\n",
        "  warnings.warn(msg, RuntimeWarning)\n"
       ]
      },
      {
       "output_type": "stream",
       "stream": "stderr",
       "text": [
        "/Library/Python/2.7/site-packages/scipy-0.13.0.dev_c31f167_20130514-py2.7-macosx-10.8-intel.egg/scipy/optimize/zeros.py:149: RuntimeWarning: Tolerance of 1.41769524973e+13 reached\n",
        "  warnings.warn(msg, RuntimeWarning)\n",
        "/Library/Python/2.7/site-packages/scipy-0.13.0.dev_c31f167_20130514-py2.7-macosx-10.8-intel.egg/scipy/optimize/zeros.py:149: RuntimeWarning: Tolerance of 4.15974670187e+16 reached\n",
        "  warnings.warn(msg, RuntimeWarning)\n"
       ]
      },
      {
       "output_type": "stream",
       "stream": "stderr",
       "text": [
        "/Library/Python/2.7/site-packages/scipy-0.13.0.dev_c31f167_20130514-py2.7-macosx-10.8-intel.egg/scipy/optimize/zeros.py:149: RuntimeWarning: Tolerance of 2.50539157491e+15 reached\n",
        "  warnings.warn(msg, RuntimeWarning)\n",
        "/Library/Python/2.7/site-packages/scipy-0.13.0.dev_c31f167_20130514-py2.7-macosx-10.8-intel.egg/scipy/optimize/zeros.py:149: RuntimeWarning: Tolerance of -8.33636044392e+15 reached\n",
        "  warnings.warn(msg, RuntimeWarning)\n"
       ]
      },
      {
       "output_type": "stream",
       "stream": "stderr",
       "text": [
        "/Library/Python/2.7/site-packages/scipy-0.13.0.dev_c31f167_20130514-py2.7-macosx-10.8-intel.egg/scipy/optimize/zeros.py:149: RuntimeWarning: Tolerance of 7.18295138101e+15 reached\n",
        "  warnings.warn(msg, RuntimeWarning)\n",
        "/Library/Python/2.7/site-packages/scipy-0.13.0.dev_c31f167_20130514-py2.7-macosx-10.8-intel.egg/scipy/optimize/zeros.py:149: RuntimeWarning: Tolerance of 731850357015.0 reached\n",
        "  warnings.warn(msg, RuntimeWarning)\n"
       ]
      },
      {
       "output_type": "stream",
       "stream": "stderr",
       "text": [
        "/Library/Python/2.7/site-packages/scipy-0.13.0.dev_c31f167_20130514-py2.7-macosx-10.8-intel.egg/scipy/optimize/zeros.py:149: RuntimeWarning: Tolerance of -6.89532683901e+15 reached\n",
        "  warnings.warn(msg, RuntimeWarning)\n",
        "/Library/Python/2.7/site-packages/scipy-0.13.0.dev_c31f167_20130514-py2.7-macosx-10.8-intel.egg/scipy/optimize/zeros.py:149: RuntimeWarning: Tolerance of 1.92977466828e+15 reached\n",
        "  warnings.warn(msg, RuntimeWarning)\n"
       ]
      },
      {
       "output_type": "stream",
       "stream": "stderr",
       "text": [
        "/Library/Python/2.7/site-packages/scipy-0.13.0.dev_c31f167_20130514-py2.7-macosx-10.8-intel.egg/scipy/optimize/zeros.py:149: RuntimeWarning: Tolerance of 1.43870265057e+16 reached\n",
        "  warnings.warn(msg, RuntimeWarning)\n",
        "/Library/Python/2.7/site-packages/scipy-0.13.0.dev_c31f167_20130514-py2.7-macosx-10.8-intel.egg/scipy/optimize/zeros.py:149: RuntimeWarning: Tolerance of 6.69116316457e+14 reached\n",
        "  warnings.warn(msg, RuntimeWarning)\n"
       ]
      },
      {
       "output_type": "stream",
       "stream": "stderr",
       "text": [
        "/Library/Python/2.7/site-packages/scipy-0.13.0.dev_c31f167_20130514-py2.7-macosx-10.8-intel.egg/scipy/optimize/zeros.py:149: RuntimeWarning: Tolerance of 2.01271484612e+14 reached\n",
        "  warnings.warn(msg, RuntimeWarning)\n",
        "/Library/Python/2.7/site-packages/scipy-0.13.0.dev_c31f167_20130514-py2.7-macosx-10.8-intel.egg/scipy/optimize/zeros.py:149: RuntimeWarning: Tolerance of 6.76261207e+14 reached\n",
        "  warnings.warn(msg, RuntimeWarning)\n"
       ]
      },
      {
       "output_type": "stream",
       "stream": "stderr",
       "text": [
        "/Library/Python/2.7/site-packages/scipy-0.13.0.dev_c31f167_20130514-py2.7-macosx-10.8-intel.egg/scipy/optimize/zeros.py:149: RuntimeWarning: Tolerance of -2.45295224713e+15 reached\n",
        "  warnings.warn(msg, RuntimeWarning)\n",
        "/Library/Python/2.7/site-packages/scipy-0.13.0.dev_c31f167_20130514-py2.7-macosx-10.8-intel.egg/scipy/optimize/zeros.py:149: RuntimeWarning: Tolerance of 3.5304562075e+12 reached\n",
        "  warnings.warn(msg, RuntimeWarning)\n"
       ]
      },
      {
       "output_type": "stream",
       "stream": "stderr",
       "text": [
        "/Library/Python/2.7/site-packages/scipy-0.13.0.dev_c31f167_20130514-py2.7-macosx-10.8-intel.egg/scipy/optimize/zeros.py:149: RuntimeWarning: Tolerance of 7.49078932156e+15 reached\n",
        "  warnings.warn(msg, RuntimeWarning)\n",
        "/Library/Python/2.7/site-packages/scipy-0.13.0.dev_c31f167_20130514-py2.7-macosx-10.8-intel.egg/scipy/optimize/zeros.py:149: RuntimeWarning: Tolerance of 6.82140784598e+15 reached\n",
        "  warnings.warn(msg, RuntimeWarning)\n"
       ]
      },
      {
       "output_type": "stream",
       "stream": "stderr",
       "text": [
        "/Library/Python/2.7/site-packages/scipy-0.13.0.dev_c31f167_20130514-py2.7-macosx-10.8-intel.egg/scipy/optimize/zeros.py:149: RuntimeWarning: Tolerance of 2.43468060132e+16 reached\n",
        "  warnings.warn(msg, RuntimeWarning)\n",
        "/Library/Python/2.7/site-packages/scipy-0.13.0.dev_c31f167_20130514-py2.7-macosx-10.8-intel.egg/scipy/optimize/zeros.py:149: RuntimeWarning: Tolerance of 2.69055426116e+15 reached\n",
        "  warnings.warn(msg, RuntimeWarning)\n"
       ]
      },
      {
       "output_type": "stream",
       "stream": "stderr",
       "text": [
        "/Library/Python/2.7/site-packages/scipy-0.13.0.dev_c31f167_20130514-py2.7-macosx-10.8-intel.egg/scipy/optimize/zeros.py:149: RuntimeWarning: Tolerance of -1.09810038977e+14 reached\n",
        "  warnings.warn(msg, RuntimeWarning)\n",
        "/Library/Python/2.7/site-packages/scipy-0.13.0.dev_c31f167_20130514-py2.7-macosx-10.8-intel.egg/scipy/optimize/zeros.py:149: RuntimeWarning: Tolerance of 9.4060635298e+16 reached\n",
        "  warnings.warn(msg, RuntimeWarning)\n"
       ]
      },
      {
       "output_type": "stream",
       "stream": "stderr",
       "text": [
        "/Library/Python/2.7/site-packages/scipy-0.13.0.dev_c31f167_20130514-py2.7-macosx-10.8-intel.egg/scipy/optimize/zeros.py:149: RuntimeWarning: Tolerance of -5.22739298055e+16 reached\n",
        "  warnings.warn(msg, RuntimeWarning)\n",
        "/Library/Python/2.7/site-packages/scipy-0.13.0.dev_c31f167_20130514-py2.7-macosx-10.8-intel.egg/scipy/optimize/zeros.py:149: RuntimeWarning: Tolerance of -1.38557928119e+15 reached\n",
        "  warnings.warn(msg, RuntimeWarning)\n"
       ]
      },
      {
       "output_type": "stream",
       "stream": "stderr",
       "text": [
        "/Library/Python/2.7/site-packages/scipy-0.13.0.dev_c31f167_20130514-py2.7-macosx-10.8-intel.egg/scipy/optimize/zeros.py:149: RuntimeWarning: Tolerance of 1.41955063282e+16 reached\n",
        "  warnings.warn(msg, RuntimeWarning)\n",
        "/Library/Python/2.7/site-packages/scipy-0.13.0.dev_c31f167_20130514-py2.7-macosx-10.8-intel.egg/scipy/optimize/zeros.py:149: RuntimeWarning: Tolerance of 4.143621832e+15 reached\n",
        "  warnings.warn(msg, RuntimeWarning)\n"
       ]
      },
      {
       "output_type": "stream",
       "stream": "stderr",
       "text": [
        "/Library/Python/2.7/site-packages/scipy-0.13.0.dev_c31f167_20130514-py2.7-macosx-10.8-intel.egg/scipy/optimize/zeros.py:149: RuntimeWarning: Tolerance of -8.42904194182e+14 reached\n",
        "  warnings.warn(msg, RuntimeWarning)\n",
        "/Library/Python/2.7/site-packages/scipy-0.13.0.dev_c31f167_20130514-py2.7-macosx-10.8-intel.egg/scipy/optimize/zeros.py:149: RuntimeWarning: Tolerance of 1.59547775397e+15 reached\n",
        "  warnings.warn(msg, RuntimeWarning)\n"
       ]
      },
      {
       "output_type": "stream",
       "stream": "stderr",
       "text": [
        "/Library/Python/2.7/site-packages/scipy-0.13.0.dev_c31f167_20130514-py2.7-macosx-10.8-intel.egg/scipy/optimize/zeros.py:149: RuntimeWarning: Tolerance of -5.68877006594e+13 reached\n",
        "  warnings.warn(msg, RuntimeWarning)\n",
        "/Library/Python/2.7/site-packages/scipy-0.13.0.dev_c31f167_20130514-py2.7-macosx-10.8-intel.egg/scipy/optimize/zeros.py:149: RuntimeWarning: Tolerance of -5.77902715662e+14 reached\n",
        "  warnings.warn(msg, RuntimeWarning)\n"
       ]
      },
      {
       "output_type": "stream",
       "stream": "stderr",
       "text": [
        "/Library/Python/2.7/site-packages/scipy-0.13.0.dev_c31f167_20130514-py2.7-macosx-10.8-intel.egg/scipy/optimize/zeros.py:149: RuntimeWarning: Tolerance of -7.64384490111e+15 reached\n",
        "  warnings.warn(msg, RuntimeWarning)\n",
        "/Library/Python/2.7/site-packages/scipy-0.13.0.dev_c31f167_20130514-py2.7-macosx-10.8-intel.egg/scipy/optimize/zeros.py:149: RuntimeWarning: Tolerance of 3.49351518904e+16 reached\n",
        "  warnings.warn(msg, RuntimeWarning)\n"
       ]
      },
      {
       "output_type": "stream",
       "stream": "stdout",
       "text": [
        "\n",
        "deleting item T1map_LL"
       ]
      },
      {
       "output_type": "stream",
       "stream": "stdout",
       "text": [
        "\n",
        "deleting item T1map_LL_fitdict"
       ]
      },
      {
       "output_type": "stream",
       "stream": "stderr",
       "text": [
        "/Library/Python/2.7/site-packages/scipy-0.13.0.dev_c31f167_20130514-py2.7-macosx-10.8-intel.egg/scipy/optimize/zeros.py:149: RuntimeWarning: Tolerance of 1.36882455476e+15 reached\n",
        "  warnings.warn(msg, RuntimeWarning)\n",
        "WARNING:sarpy.io.BRUKERIO:NSLICES not equal to number of ACQ_obj_order\n"
       ]
      },
      {
       "output_type": "stream",
       "stream": "stderr",
       "text": [
        "/Library/Python/2.7/site-packages/scipy-0.13.0.dev_c31f167_20130514-py2.7-macosx-10.8-intel.egg/scipy/optimize/zeros.py:149: RuntimeWarning: Tolerance of -4.11077861513e+14 reached\n",
        "  warnings.warn(msg, RuntimeWarning)\n",
        "/Library/Python/2.7/site-packages/scipy-0.13.0.dev_c31f167_20130514-py2.7-macosx-10.8-intel.egg/scipy/optimize/zeros.py:149: RuntimeWarning: Tolerance of -1.92977668282e+15 reached\n",
        "  warnings.warn(msg, RuntimeWarning)\n"
       ]
      },
      {
       "output_type": "stream",
       "stream": "stderr",
       "text": [
        "/Library/Python/2.7/site-packages/scipy-0.13.0.dev_c31f167_20130514-py2.7-macosx-10.8-intel.egg/scipy/optimize/zeros.py:149: RuntimeWarning: Tolerance of -4.15174312777e+16 reached\n",
        "  warnings.warn(msg, RuntimeWarning)\n",
        "/Library/Python/2.7/site-packages/scipy-0.13.0.dev_c31f167_20130514-py2.7-macosx-10.8-intel.egg/scipy/optimize/zeros.py:149: RuntimeWarning: Tolerance of -8.37533614965e+14 reached\n",
        "  warnings.warn(msg, RuntimeWarning)\n"
       ]
      },
      {
       "output_type": "stream",
       "stream": "stderr",
       "text": [
        "/Library/Python/2.7/site-packages/scipy-0.13.0.dev_c31f167_20130514-py2.7-macosx-10.8-intel.egg/scipy/optimize/zeros.py:149: RuntimeWarning: Tolerance of -2.62512426077e+13 reached\n",
        "  warnings.warn(msg, RuntimeWarning)\n",
        "/Library/Python/2.7/site-packages/scipy-0.13.0.dev_c31f167_20130514-py2.7-macosx-10.8-intel.egg/scipy/optimize/zeros.py:149: RuntimeWarning: Tolerance of 1.10988906087e+16 reached\n",
        "  warnings.warn(msg, RuntimeWarning)\n"
       ]
      },
      {
       "output_type": "stream",
       "stream": "stderr",
       "text": [
        "/Library/Python/2.7/site-packages/scipy-0.13.0.dev_c31f167_20130514-py2.7-macosx-10.8-intel.egg/scipy/optimize/zeros.py:149: RuntimeWarning: Tolerance of 1.32279431055e+13 reached\n",
        "  warnings.warn(msg, RuntimeWarning)\n",
        "/Library/Python/2.7/site-packages/scipy-0.13.0.dev_c31f167_20130514-py2.7-macosx-10.8-intel.egg/scipy/optimize/zeros.py:149: RuntimeWarning: Tolerance of -2.67723431554e+14 reached\n",
        "  warnings.warn(msg, RuntimeWarning)\n"
       ]
      },
      {
       "output_type": "stream",
       "stream": "stderr",
       "text": [
        "/Library/Python/2.7/site-packages/scipy-0.13.0.dev_c31f167_20130514-py2.7-macosx-10.8-intel.egg/scipy/optimize/zeros.py:149: RuntimeWarning: Tolerance of 2.84685952782e+16 reached\n",
        "  warnings.warn(msg, RuntimeWarning)\n",
        "/Library/Python/2.7/site-packages/scipy-0.13.0.dev_c31f167_20130514-py2.7-macosx-10.8-intel.egg/scipy/optimize/zeros.py:149: RuntimeWarning: Tolerance of 1.1635028085e+15 reached\n",
        "  warnings.warn(msg, RuntimeWarning)\n"
       ]
      },
      {
       "output_type": "stream",
       "stream": "stderr",
       "text": [
        "/Library/Python/2.7/site-packages/scipy-0.13.0.dev_c31f167_20130514-py2.7-macosx-10.8-intel.egg/scipy/optimize/zeros.py:149: RuntimeWarning: Tolerance of -2.74787985743e+16 reached\n",
        "  warnings.warn(msg, RuntimeWarning)\n",
        "/Library/Python/2.7/site-packages/scipy-0.13.0.dev_c31f167_20130514-py2.7-macosx-10.8-intel.egg/scipy/optimize/zeros.py:149: RuntimeWarning: Tolerance of 1.66122515151e+14 reached\n",
        "  warnings.warn(msg, RuntimeWarning)\n"
       ]
      },
      {
       "output_type": "stream",
       "stream": "stderr",
       "text": [
        "/Library/Python/2.7/site-packages/scipy-0.13.0.dev_c31f167_20130514-py2.7-macosx-10.8-intel.egg/scipy/optimize/zeros.py:149: RuntimeWarning: Tolerance of -2.90115151202e+15 reached\n",
        "  warnings.warn(msg, RuntimeWarning)\n",
        "/Library/Python/2.7/site-packages/scipy-0.13.0.dev_c31f167_20130514-py2.7-macosx-10.8-intel.egg/scipy/optimize/zeros.py:149: RuntimeWarning: Tolerance of 3.83828604755e+13 reached\n",
        "  warnings.warn(msg, RuntimeWarning)\n"
       ]
      },
      {
       "output_type": "stream",
       "stream": "stderr",
       "text": [
        "/Library/Python/2.7/site-packages/scipy-0.13.0.dev_c31f167_20130514-py2.7-macosx-10.8-intel.egg/scipy/optimize/zeros.py:149: RuntimeWarning: Tolerance of -2.30877147984e+16 reached\n",
        "  warnings.warn(msg, RuntimeWarning)\n",
        "/Library/Python/2.7/site-packages/scipy-0.13.0.dev_c31f167_20130514-py2.7-macosx-10.8-intel.egg/scipy/optimize/zeros.py:149: RuntimeWarning: Tolerance of -1.63911655109e+15 reached\n",
        "  warnings.warn(msg, RuntimeWarning)\n"
       ]
      },
      {
       "output_type": "stream",
       "stream": "stderr",
       "text": [
        "/Library/Python/2.7/site-packages/scipy-0.13.0.dev_c31f167_20130514-py2.7-macosx-10.8-intel.egg/scipy/optimize/zeros.py:149: RuntimeWarning: Tolerance of -3.4726794017e+15 reached\n",
        "  warnings.warn(msg, RuntimeWarning)\n",
        "/Library/Python/2.7/site-packages/scipy-0.13.0.dev_c31f167_20130514-py2.7-macosx-10.8-intel.egg/scipy/optimize/zeros.py:149: RuntimeWarning: Tolerance of 2.61551405118e+17 reached\n",
        "  warnings.warn(msg, RuntimeWarning)\n"
       ]
      },
      {
       "output_type": "stream",
       "stream": "stderr",
       "text": [
        "/Library/Python/2.7/site-packages/scipy-0.13.0.dev_c31f167_20130514-py2.7-macosx-10.8-intel.egg/scipy/optimize/zeros.py:149: RuntimeWarning: Tolerance of -2.91102579231e+14 reached\n",
        "  warnings.warn(msg, RuntimeWarning)\n",
        "/Library/Python/2.7/site-packages/scipy-0.13.0.dev_c31f167_20130514-py2.7-macosx-10.8-intel.egg/scipy/optimize/zeros.py:149: RuntimeWarning: Tolerance of -1.39945152818e+12 reached\n",
        "  warnings.warn(msg, RuntimeWarning)\n"
       ]
      },
      {
       "output_type": "stream",
       "stream": "stderr",
       "text": [
        "/Library/Python/2.7/site-packages/scipy-0.13.0.dev_c31f167_20130514-py2.7-macosx-10.8-intel.egg/scipy/optimize/zeros.py:149: RuntimeWarning: Tolerance of 2.11077115731e+17 reached\n",
        "  warnings.warn(msg, RuntimeWarning)\n",
        "/Library/Python/2.7/site-packages/scipy-0.13.0.dev_c31f167_20130514-py2.7-macosx-10.8-intel.egg/scipy/optimize/zeros.py:149: RuntimeWarning: Tolerance of -3.97364337026e+16 reached\n",
        "  warnings.warn(msg, RuntimeWarning)\n"
       ]
      },
      {
       "output_type": "stream",
       "stream": "stderr",
       "text": [
        "/Library/Python/2.7/site-packages/scipy-0.13.0.dev_c31f167_20130514-py2.7-macosx-10.8-intel.egg/scipy/optimize/zeros.py:149: RuntimeWarning: Tolerance of -3.01885503812e+15 reached\n",
        "  warnings.warn(msg, RuntimeWarning)\n",
        "/Library/Python/2.7/site-packages/scipy-0.13.0.dev_c31f167_20130514-py2.7-macosx-10.8-intel.egg/scipy/optimize/zeros.py:149: RuntimeWarning: Tolerance of 2.28230792262e+15 reached\n",
        "  warnings.warn(msg, RuntimeWarning)\n"
       ]
      },
      {
       "output_type": "stream",
       "stream": "stderr",
       "text": [
        "/Library/Python/2.7/site-packages/scipy-0.13.0.dev_c31f167_20130514-py2.7-macosx-10.8-intel.egg/scipy/optimize/zeros.py:149: RuntimeWarning: Tolerance of -1.09360456373e+15 reached\n",
        "  warnings.warn(msg, RuntimeWarning)\n",
        "/Library/Python/2.7/site-packages/scipy-0.13.0.dev_c31f167_20130514-py2.7-macosx-10.8-intel.egg/scipy/optimize/zeros.py:149: RuntimeWarning: Tolerance of -1.5599680311e+16 reached\n",
        "  warnings.warn(msg, RuntimeWarning)\n"
       ]
      },
      {
       "output_type": "stream",
       "stream": "stderr",
       "text": [
        "/Library/Python/2.7/site-packages/scipy-0.13.0.dev_c31f167_20130514-py2.7-macosx-10.8-intel.egg/scipy/optimize/zeros.py:149: RuntimeWarning: Tolerance of -6.07396133545e+14 reached\n",
        "  warnings.warn(msg, RuntimeWarning)\n",
        "/Library/Python/2.7/site-packages/scipy-0.13.0.dev_c31f167_20130514-py2.7-macosx-10.8-intel.egg/scipy/optimize/zeros.py:149: RuntimeWarning: Tolerance of 1.73790898614e+16 reached\n",
        "  warnings.warn(msg, RuntimeWarning)\n"
       ]
      },
      {
       "output_type": "stream",
       "stream": "stderr",
       "text": [
        "/Library/Python/2.7/site-packages/scipy-0.13.0.dev_c31f167_20130514-py2.7-macosx-10.8-intel.egg/scipy/optimize/zeros.py:149: RuntimeWarning: Tolerance of 4.73862086563e+15 reached\n",
        "  warnings.warn(msg, RuntimeWarning)\n",
        "/Library/Python/2.7/site-packages/scipy-0.13.0.dev_c31f167_20130514-py2.7-macosx-10.8-intel.egg/scipy/optimize/zeros.py:149: RuntimeWarning: Tolerance of -2.78088204454e+16 reached\n",
        "  warnings.warn(msg, RuntimeWarning)\n"
       ]
      },
      {
       "output_type": "stream",
       "stream": "stderr",
       "text": [
        "/Library/Python/2.7/site-packages/scipy-0.13.0.dev_c31f167_20130514-py2.7-macosx-10.8-intel.egg/scipy/optimize/zeros.py:149: RuntimeWarning: Tolerance of -2.2712013946e+16 reached\n",
        "  warnings.warn(msg, RuntimeWarning)\n",
        "/Library/Python/2.7/site-packages/scipy-0.13.0.dev_c31f167_20130514-py2.7-macosx-10.8-intel.egg/scipy/optimize/zeros.py:149: RuntimeWarning: Tolerance of 1.55148006362e+16 reached\n",
        "  warnings.warn(msg, RuntimeWarning)\n"
       ]
      },
      {
       "output_type": "stream",
       "stream": "stderr",
       "text": [
        "/Library/Python/2.7/site-packages/scipy-0.13.0.dev_c31f167_20130514-py2.7-macosx-10.8-intel.egg/scipy/optimize/zeros.py:149: RuntimeWarning: Tolerance of 1.62278043795e+14 reached\n",
        "  warnings.warn(msg, RuntimeWarning)\n",
        "/Library/Python/2.7/site-packages/scipy-0.13.0.dev_c31f167_20130514-py2.7-macosx-10.8-intel.egg/scipy/optimize/zeros.py:149: RuntimeWarning: Tolerance of -4.79034675591e+16 reached\n",
        "  warnings.warn(msg, RuntimeWarning)\n"
       ]
      },
      {
       "output_type": "stream",
       "stream": "stderr",
       "text": [
        "/Library/Python/2.7/site-packages/scipy-0.13.0.dev_c31f167_20130514-py2.7-macosx-10.8-intel.egg/scipy/optimize/zeros.py:149: RuntimeWarning: Tolerance of 2.10781898568e+16 reached\n",
        "  warnings.warn(msg, RuntimeWarning)\n",
        "/Library/Python/2.7/site-packages/scipy-0.13.0.dev_c31f167_20130514-py2.7-macosx-10.8-intel.egg/scipy/optimize/zeros.py:149: RuntimeWarning: Tolerance of 678688842898.0 reached\n",
        "  warnings.warn(msg, RuntimeWarning)\n"
       ]
      },
      {
       "output_type": "stream",
       "stream": "stderr",
       "text": [
        "/Library/Python/2.7/site-packages/scipy-0.13.0.dev_c31f167_20130514-py2.7-macosx-10.8-intel.egg/scipy/optimize/zeros.py:149: RuntimeWarning: Tolerance of 3.90689389158e+16 reached\n",
        "  warnings.warn(msg, RuntimeWarning)\n",
        "/Library/Python/2.7/site-packages/scipy-0.13.0.dev_c31f167_20130514-py2.7-macosx-10.8-intel.egg/scipy/optimize/zeros.py:149: RuntimeWarning: Tolerance of -4.56935416401e+17 reached\n",
        "  warnings.warn(msg, RuntimeWarning)\n"
       ]
      },
      {
       "output_type": "stream",
       "stream": "stderr",
       "text": [
        "/Library/Python/2.7/site-packages/scipy-0.13.0.dev_c31f167_20130514-py2.7-macosx-10.8-intel.egg/scipy/optimize/zeros.py:149: RuntimeWarning: Tolerance of 3.33999145516e+16 reached\n",
        "  warnings.warn(msg, RuntimeWarning)\n",
        "/Library/Python/2.7/site-packages/scipy-0.13.0.dev_c31f167_20130514-py2.7-macosx-10.8-intel.egg/scipy/optimize/zeros.py:149: RuntimeWarning: Tolerance of -9.81657555269e+13 reached\n",
        "  warnings.warn(msg, RuntimeWarning)\n"
       ]
      },
      {
       "output_type": "stream",
       "stream": "stderr",
       "text": [
        "/Library/Python/2.7/site-packages/scipy-0.13.0.dev_c31f167_20130514-py2.7-macosx-10.8-intel.egg/scipy/optimize/zeros.py:149: RuntimeWarning: Tolerance of -2.23282544475e+12 reached\n",
        "  warnings.warn(msg, RuntimeWarning)\n",
        "/Library/Python/2.7/site-packages/scipy-0.13.0.dev_c31f167_20130514-py2.7-macosx-10.8-intel.egg/scipy/optimize/zeros.py:149: RuntimeWarning: Tolerance of 4.41271319523e+14 reached\n",
        "  warnings.warn(msg, RuntimeWarning)\n"
       ]
      },
      {
       "output_type": "stream",
       "stream": "stderr",
       "text": [
        "/Library/Python/2.7/site-packages/scipy-0.13.0.dev_c31f167_20130514-py2.7-macosx-10.8-intel.egg/scipy/optimize/zeros.py:149: RuntimeWarning: Tolerance of 755935481368.0 reached\n",
        "  warnings.warn(msg, RuntimeWarning)\n",
        "/Library/Python/2.7/site-packages/scipy-0.13.0.dev_c31f167_20130514-py2.7-macosx-10.8-intel.egg/scipy/optimize/zeros.py:149: RuntimeWarning: Tolerance of -3.69775787746e+13 reached\n",
        "  warnings.warn(msg, RuntimeWarning)\n"
       ]
      },
      {
       "output_type": "stream",
       "stream": "stderr",
       "text": [
        "/Library/Python/2.7/site-packages/scipy-0.13.0.dev_c31f167_20130514-py2.7-macosx-10.8-intel.egg/scipy/optimize/zeros.py:149: RuntimeWarning: Tolerance of -5.00483816246e+13 reached\n",
        "  warnings.warn(msg, RuntimeWarning)\n",
        "/Library/Python/2.7/site-packages/scipy-0.13.0.dev_c31f167_20130514-py2.7-macosx-10.8-intel.egg/scipy/optimize/zeros.py:149: RuntimeWarning: Tolerance of 1.34073439931e+17 reached\n",
        "  warnings.warn(msg, RuntimeWarning)\n"
       ]
      },
      {
       "output_type": "stream",
       "stream": "stderr",
       "text": [
        "/Library/Python/2.7/site-packages/scipy-0.13.0.dev_c31f167_20130514-py2.7-macosx-10.8-intel.egg/scipy/optimize/zeros.py:149: RuntimeWarning: Tolerance of 7.97820648498e+14 reached\n",
        "  warnings.warn(msg, RuntimeWarning)\n",
        "/Library/Python/2.7/site-packages/scipy-0.13.0.dev_c31f167_20130514-py2.7-macosx-10.8-intel.egg/scipy/optimize/zeros.py:149: RuntimeWarning: Tolerance of 1.89640149107e+14 reached\n",
        "  warnings.warn(msg, RuntimeWarning)\n"
       ]
      },
      {
       "output_type": "stream",
       "stream": "stderr",
       "text": [
        "/Library/Python/2.7/site-packages/scipy-0.13.0.dev_c31f167_20130514-py2.7-macosx-10.8-intel.egg/scipy/optimize/zeros.py:149: RuntimeWarning: Tolerance of 5.49349626143e+14 reached\n",
        "  warnings.warn(msg, RuntimeWarning)\n",
        "/Library/Python/2.7/site-packages/scipy-0.13.0.dev_c31f167_20130514-py2.7-macosx-10.8-intel.egg/scipy/optimize/zeros.py:149: RuntimeWarning: Tolerance of 1.50505661521e+16 reached\n",
        "  warnings.warn(msg, RuntimeWarning)\n"
       ]
      },
      {
       "output_type": "stream",
       "stream": "stdout",
       "text": [
        "\n",
        "deleting item T1map_LL"
       ]
      },
      {
       "output_type": "stream",
       "stream": "stdout",
       "text": [
        "\n",
        "deleting item T1map_LL_fitdict"
       ]
      },
      {
       "output_type": "stream",
       "stream": "stderr",
       "text": [
        "WARNING:sarpy.io.BRUKERIO:NSLICES not equal to number of ACQ_obj_order\n"
       ]
      },
      {
       "output_type": "stream",
       "stream": "stderr",
       "text": [
        "/Library/Python/2.7/site-packages/scipy-0.13.0.dev_c31f167_20130514-py2.7-macosx-10.8-intel.egg/scipy/optimize/zeros.py:149: RuntimeWarning: Tolerance of -1.66354068013e+16 reached\n",
        "  warnings.warn(msg, RuntimeWarning)\n",
        "/Library/Python/2.7/site-packages/scipy-0.13.0.dev_c31f167_20130514-py2.7-macosx-10.8-intel.egg/scipy/optimize/zeros.py:149: RuntimeWarning: Tolerance of 5.63462174089e+15 reached\n",
        "  warnings.warn(msg, RuntimeWarning)\n"
       ]
      },
      {
       "output_type": "stream",
       "stream": "stderr",
       "text": [
        "/Library/Python/2.7/site-packages/scipy-0.13.0.dev_c31f167_20130514-py2.7-macosx-10.8-intel.egg/scipy/optimize/zeros.py:149: RuntimeWarning: Tolerance of -1.50949797817e+14 reached\n",
        "  warnings.warn(msg, RuntimeWarning)\n",
        "/Library/Python/2.7/site-packages/scipy-0.13.0.dev_c31f167_20130514-py2.7-macosx-10.8-intel.egg/scipy/optimize/zeros.py:149: RuntimeWarning: Tolerance of 6.52102014339e+15 reached\n",
        "  warnings.warn(msg, RuntimeWarning)\n"
       ]
      },
      {
       "output_type": "stream",
       "stream": "stderr",
       "text": [
        "/Library/Python/2.7/site-packages/scipy-0.13.0.dev_c31f167_20130514-py2.7-macosx-10.8-intel.egg/scipy/optimize/zeros.py:149: RuntimeWarning: Tolerance of 1.25966230258e+16 reached\n",
        "  warnings.warn(msg, RuntimeWarning)\n",
        "/Library/Python/2.7/site-packages/scipy-0.13.0.dev_c31f167_20130514-py2.7-macosx-10.8-intel.egg/scipy/optimize/zeros.py:149: RuntimeWarning: Tolerance of -4.54750231934e+14 reached\n",
        "  warnings.warn(msg, RuntimeWarning)\n"
       ]
      },
      {
       "output_type": "stream",
       "stream": "stderr",
       "text": [
        "/Library/Python/2.7/site-packages/scipy-0.13.0.dev_c31f167_20130514-py2.7-macosx-10.8-intel.egg/scipy/optimize/zeros.py:149: RuntimeWarning: Tolerance of 4.85484294077e+15 reached\n",
        "  warnings.warn(msg, RuntimeWarning)\n",
        "/Library/Python/2.7/site-packages/scipy-0.13.0.dev_c31f167_20130514-py2.7-macosx-10.8-intel.egg/scipy/optimize/zeros.py:149: RuntimeWarning: Tolerance of -1.08609294196e+15 reached\n",
        "  warnings.warn(msg, RuntimeWarning)\n"
       ]
      },
      {
       "output_type": "stream",
       "stream": "stderr",
       "text": [
        "/Library/Python/2.7/site-packages/scipy-0.13.0.dev_c31f167_20130514-py2.7-macosx-10.8-intel.egg/scipy/optimize/zeros.py:149: RuntimeWarning: Tolerance of 1.16122051898e+16 reached\n",
        "  warnings.warn(msg, RuntimeWarning)\n",
        "/Library/Python/2.7/site-packages/scipy-0.13.0.dev_c31f167_20130514-py2.7-macosx-10.8-intel.egg/scipy/optimize/zeros.py:149: RuntimeWarning: Tolerance of -2.11991797829e+15 reached\n",
        "  warnings.warn(msg, RuntimeWarning)\n"
       ]
      },
      {
       "output_type": "stream",
       "stream": "stderr",
       "text": [
        "/Library/Python/2.7/site-packages/scipy-0.13.0.dev_c31f167_20130514-py2.7-macosx-10.8-intel.egg/scipy/optimize/zeros.py:149: RuntimeWarning: Tolerance of -1.83065121982e+14 reached\n",
        "  warnings.warn(msg, RuntimeWarning)\n",
        "/Library/Python/2.7/site-packages/scipy-0.13.0.dev_c31f167_20130514-py2.7-macosx-10.8-intel.egg/scipy/optimize/zeros.py:149: RuntimeWarning: Tolerance of -5.22275986465e+15 reached\n",
        "  warnings.warn(msg, RuntimeWarning)\n"
       ]
      },
      {
       "output_type": "stream",
       "stream": "stderr",
       "text": [
        "/Library/Python/2.7/site-packages/scipy-0.13.0.dev_c31f167_20130514-py2.7-macosx-10.8-intel.egg/scipy/optimize/zeros.py:149: RuntimeWarning: Tolerance of -1.32587114868e+15 reached\n",
        "  warnings.warn(msg, RuntimeWarning)\n",
        "/Library/Python/2.7/site-packages/scipy-0.13.0.dev_c31f167_20130514-py2.7-macosx-10.8-intel.egg/scipy/optimize/zeros.py:149: RuntimeWarning: Tolerance of -8.23318113705e+15 reached\n",
        "  warnings.warn(msg, RuntimeWarning)\n"
       ]
      },
      {
       "output_type": "stream",
       "stream": "stderr",
       "text": [
        "/Library/Python/2.7/site-packages/scipy-0.13.0.dev_c31f167_20130514-py2.7-macosx-10.8-intel.egg/scipy/optimize/zeros.py:149: RuntimeWarning: Tolerance of -1.53462491991e+14 reached\n",
        "  warnings.warn(msg, RuntimeWarning)\n",
        "/Library/Python/2.7/site-packages/scipy-0.13.0.dev_c31f167_20130514-py2.7-macosx-10.8-intel.egg/scipy/optimize/zeros.py:149: RuntimeWarning: Tolerance of -4.73818845848e+16 reached\n",
        "  warnings.warn(msg, RuntimeWarning)\n"
       ]
      },
      {
       "output_type": "stream",
       "stream": "stderr",
       "text": [
        "/Library/Python/2.7/site-packages/scipy-0.13.0.dev_c31f167_20130514-py2.7-macosx-10.8-intel.egg/scipy/optimize/zeros.py:149: RuntimeWarning: Tolerance of -1.51029253019e+16 reached\n",
        "  warnings.warn(msg, RuntimeWarning)\n",
        "/Library/Python/2.7/site-packages/scipy-0.13.0.dev_c31f167_20130514-py2.7-macosx-10.8-intel.egg/scipy/optimize/zeros.py:149: RuntimeWarning: Tolerance of 2.05090025862e+15 reached\n",
        "  warnings.warn(msg, RuntimeWarning)\n"
       ]
      },
      {
       "output_type": "stream",
       "stream": "stderr",
       "text": [
        "/Library/Python/2.7/site-packages/scipy-0.13.0.dev_c31f167_20130514-py2.7-macosx-10.8-intel.egg/scipy/optimize/zeros.py:149: RuntimeWarning: Tolerance of -3.358836609e+16 reached\n",
        "  warnings.warn(msg, RuntimeWarning)\n",
        "/Library/Python/2.7/site-packages/scipy-0.13.0.dev_c31f167_20130514-py2.7-macosx-10.8-intel.egg/scipy/optimize/zeros.py:149: RuntimeWarning: Tolerance of 3.72562372231e+15 reached\n",
        "  warnings.warn(msg, RuntimeWarning)\n"
       ]
      },
      {
       "output_type": "stream",
       "stream": "stderr",
       "text": [
        "/Library/Python/2.7/site-packages/scipy-0.13.0.dev_c31f167_20130514-py2.7-macosx-10.8-intel.egg/scipy/optimize/zeros.py:149: RuntimeWarning: Tolerance of -3.85334715247e-08 reached\n",
        "  warnings.warn(msg, RuntimeWarning)\n",
        "/Library/Python/2.7/site-packages/scipy-0.13.0.dev_c31f167_20130514-py2.7-macosx-10.8-intel.egg/scipy/optimize/zeros.py:149: RuntimeWarning: Tolerance of 8.10046837909e+12 reached\n",
        "  warnings.warn(msg, RuntimeWarning)\n"
       ]
      },
      {
       "output_type": "stream",
       "stream": "stderr",
       "text": [
        "/Library/Python/2.7/site-packages/scipy-0.13.0.dev_c31f167_20130514-py2.7-macosx-10.8-intel.egg/scipy/optimize/zeros.py:149: RuntimeWarning: Tolerance of 1.97197120052e+18 reached\n",
        "  warnings.warn(msg, RuntimeWarning)\n",
        "/Library/Python/2.7/site-packages/scipy-0.13.0.dev_c31f167_20130514-py2.7-macosx-10.8-intel.egg/scipy/optimize/zeros.py:149: RuntimeWarning: Tolerance of -284221428569.0 reached\n",
        "  warnings.warn(msg, RuntimeWarning)\n"
       ]
      },
      {
       "output_type": "stream",
       "stream": "stderr",
       "text": [
        "/Library/Python/2.7/site-packages/scipy-0.13.0.dev_c31f167_20130514-py2.7-macosx-10.8-intel.egg/scipy/optimize/zeros.py:149: RuntimeWarning: Tolerance of -8.9777597895e+14 reached\n",
        "  warnings.warn(msg, RuntimeWarning)\n",
        "/Library/Python/2.7/site-packages/scipy-0.13.0.dev_c31f167_20130514-py2.7-macosx-10.8-intel.egg/scipy/optimize/zeros.py:149: RuntimeWarning: Tolerance of -6.83379151895e+15 reached\n",
        "  warnings.warn(msg, RuntimeWarning)\n"
       ]
      },
      {
       "output_type": "stream",
       "stream": "stderr",
       "text": [
        "/Library/Python/2.7/site-packages/scipy-0.13.0.dev_c31f167_20130514-py2.7-macosx-10.8-intel.egg/scipy/optimize/zeros.py:149: RuntimeWarning: Tolerance of -1.53668086562e+16 reached\n",
        "  warnings.warn(msg, RuntimeWarning)\n",
        "/Library/Python/2.7/site-packages/scipy-0.13.0.dev_c31f167_20130514-py2.7-macosx-10.8-intel.egg/scipy/optimize/zeros.py:149: RuntimeWarning: Tolerance of -1.53511236673e+16 reached\n",
        "  warnings.warn(msg, RuntimeWarning)\n"
       ]
      },
      {
       "output_type": "stream",
       "stream": "stderr",
       "text": [
        "/Library/Python/2.7/site-packages/scipy-0.13.0.dev_c31f167_20130514-py2.7-macosx-10.8-intel.egg/scipy/optimize/zeros.py:149: RuntimeWarning: Tolerance of 3.98336454579e+16 reached\n",
        "  warnings.warn(msg, RuntimeWarning)\n",
        "/Library/Python/2.7/site-packages/scipy-0.13.0.dev_c31f167_20130514-py2.7-macosx-10.8-intel.egg/scipy/optimize/zeros.py:149: RuntimeWarning: Tolerance of 5.58832940026e+14 reached\n",
        "  warnings.warn(msg, RuntimeWarning)\n"
       ]
      },
      {
       "output_type": "stream",
       "stream": "stderr",
       "text": [
        "/Library/Python/2.7/site-packages/scipy-0.13.0.dev_c31f167_20130514-py2.7-macosx-10.8-intel.egg/scipy/optimize/zeros.py:149: RuntimeWarning: Tolerance of -3.75900275296e+15 reached\n",
        "  warnings.warn(msg, RuntimeWarning)\n",
        "/Library/Python/2.7/site-packages/scipy-0.13.0.dev_c31f167_20130514-py2.7-macosx-10.8-intel.egg/scipy/optimize/zeros.py:149: RuntimeWarning: Tolerance of 1.98289518209e+16 reached\n",
        "  warnings.warn(msg, RuntimeWarning)\n"
       ]
      },
      {
       "output_type": "stream",
       "stream": "stderr",
       "text": [
        "/Library/Python/2.7/site-packages/scipy-0.13.0.dev_c31f167_20130514-py2.7-macosx-10.8-intel.egg/scipy/optimize/zeros.py:149: RuntimeWarning: Tolerance of 9.10015141703e+15 reached\n",
        "  warnings.warn(msg, RuntimeWarning)\n",
        "/Library/Python/2.7/site-packages/scipy-0.13.0.dev_c31f167_20130514-py2.7-macosx-10.8-intel.egg/scipy/optimize/zeros.py:149: RuntimeWarning: Tolerance of 6.33010159057e+15 reached\n",
        "  warnings.warn(msg, RuntimeWarning)\n"
       ]
      },
      {
       "output_type": "stream",
       "stream": "stderr",
       "text": [
        "/Library/Python/2.7/site-packages/scipy-0.13.0.dev_c31f167_20130514-py2.7-macosx-10.8-intel.egg/scipy/optimize/zeros.py:149: RuntimeWarning: Tolerance of 1.70962994887e+16 reached\n",
        "  warnings.warn(msg, RuntimeWarning)\n",
        "/Library/Python/2.7/site-packages/scipy-0.13.0.dev_c31f167_20130514-py2.7-macosx-10.8-intel.egg/scipy/optimize/zeros.py:149: RuntimeWarning: Tolerance of 1.98655448708e+15 reached\n",
        "  warnings.warn(msg, RuntimeWarning)\n"
       ]
      },
      {
       "output_type": "stream",
       "stream": "stderr",
       "text": [
        "/Library/Python/2.7/site-packages/scipy-0.13.0.dev_c31f167_20130514-py2.7-macosx-10.8-intel.egg/scipy/optimize/zeros.py:149: RuntimeWarning: Tolerance of -5.48564426419e+15 reached\n",
        "  warnings.warn(msg, RuntimeWarning)\n",
        "/Library/Python/2.7/site-packages/scipy-0.13.0.dev_c31f167_20130514-py2.7-macosx-10.8-intel.egg/scipy/optimize/zeros.py:149: RuntimeWarning: Tolerance of 4.03550393488e+16 reached\n",
        "  warnings.warn(msg, RuntimeWarning)\n"
       ]
      },
      {
       "output_type": "stream",
       "stream": "stderr",
       "text": [
        "/Library/Python/2.7/site-packages/scipy-0.13.0.dev_c31f167_20130514-py2.7-macosx-10.8-intel.egg/scipy/optimize/zeros.py:149: RuntimeWarning: Tolerance of 6.4885991425e+15 reached\n",
        "  warnings.warn(msg, RuntimeWarning)\n",
        "/Library/Python/2.7/site-packages/scipy-0.13.0.dev_c31f167_20130514-py2.7-macosx-10.8-intel.egg/scipy/optimize/zeros.py:149: RuntimeWarning: Tolerance of 8.43343869052e+16 reached\n",
        "  warnings.warn(msg, RuntimeWarning)\n"
       ]
      },
      {
       "output_type": "stream",
       "stream": "stderr",
       "text": [
        "/Library/Python/2.7/site-packages/scipy-0.13.0.dev_c31f167_20130514-py2.7-macosx-10.8-intel.egg/scipy/optimize/zeros.py:149: RuntimeWarning: Tolerance of 3.9315165967e+16 reached\n",
        "  warnings.warn(msg, RuntimeWarning)\n",
        "/Library/Python/2.7/site-packages/scipy-0.13.0.dev_c31f167_20130514-py2.7-macosx-10.8-intel.egg/scipy/optimize/zeros.py:149: RuntimeWarning: Tolerance of 3.82714083113e+16 reached\n",
        "  warnings.warn(msg, RuntimeWarning)\n"
       ]
      },
      {
       "output_type": "stream",
       "stream": "stderr",
       "text": [
        "/Library/Python/2.7/site-packages/scipy-0.13.0.dev_c31f167_20130514-py2.7-macosx-10.8-intel.egg/scipy/optimize/zeros.py:149: RuntimeWarning: Tolerance of 1.69758826073e+15 reached\n",
        "  warnings.warn(msg, RuntimeWarning)\n",
        "/Library/Python/2.7/site-packages/scipy-0.13.0.dev_c31f167_20130514-py2.7-macosx-10.8-intel.egg/scipy/optimize/zeros.py:149: RuntimeWarning: Tolerance of 6.70916061237e+15 reached\n",
        "  warnings.warn(msg, RuntimeWarning)\n"
       ]
      },
      {
       "output_type": "stream",
       "stream": "stderr",
       "text": [
        "/Library/Python/2.7/site-packages/scipy-0.13.0.dev_c31f167_20130514-py2.7-macosx-10.8-intel.egg/scipy/optimize/zeros.py:149: RuntimeWarning: Tolerance of -1.75869564061e+14 reached\n",
        "  warnings.warn(msg, RuntimeWarning)\n",
        "/Library/Python/2.7/site-packages/scipy-0.13.0.dev_c31f167_20130514-py2.7-macosx-10.8-intel.egg/scipy/optimize/zeros.py:149: RuntimeWarning: Tolerance of 3.20238173361e+16 reached\n",
        "  warnings.warn(msg, RuntimeWarning)\n"
       ]
      },
      {
       "output_type": "stream",
       "stream": "stderr",
       "text": [
        "/Library/Python/2.7/site-packages/scipy-0.13.0.dev_c31f167_20130514-py2.7-macosx-10.8-intel.egg/scipy/optimize/zeros.py:149: RuntimeWarning: Tolerance of -6.03331033871e+14 reached\n",
        "  warnings.warn(msg, RuntimeWarning)\n",
        "/Library/Python/2.7/site-packages/scipy-0.13.0.dev_c31f167_20130514-py2.7-macosx-10.8-intel.egg/scipy/optimize/zeros.py:149: RuntimeWarning: Tolerance of 4.95170415296e+15 reached\n",
        "  warnings.warn(msg, RuntimeWarning)\n"
       ]
      },
      {
       "output_type": "stream",
       "stream": "stderr",
       "text": [
        "/Library/Python/2.7/site-packages/scipy-0.13.0.dev_c31f167_20130514-py2.7-macosx-10.8-intel.egg/scipy/optimize/zeros.py:149: RuntimeWarning: Tolerance of 3.90427817669e+16 reached\n",
        "  warnings.warn(msg, RuntimeWarning)\n",
        "/Library/Python/2.7/site-packages/scipy-0.13.0.dev_c31f167_20130514-py2.7-macosx-10.8-intel.egg/scipy/optimize/zeros.py:149: RuntimeWarning: Tolerance of -4.02967868926e+15 reached\n",
        "  warnings.warn(msg, RuntimeWarning)\n"
       ]
      },
      {
       "output_type": "stream",
       "stream": "stderr",
       "text": [
        "/Library/Python/2.7/site-packages/scipy-0.13.0.dev_c31f167_20130514-py2.7-macosx-10.8-intel.egg/scipy/optimize/zeros.py:149: RuntimeWarning: Tolerance of 4.45180450573e+15 reached\n",
        "  warnings.warn(msg, RuntimeWarning)\n",
        "/Library/Python/2.7/site-packages/scipy-0.13.0.dev_c31f167_20130514-py2.7-macosx-10.8-intel.egg/scipy/optimize/zeros.py:149: RuntimeWarning: Tolerance of 2.56055833263e+16 reached\n",
        "  warnings.warn(msg, RuntimeWarning)\n"
       ]
      },
      {
       "output_type": "stream",
       "stream": "stderr",
       "text": [
        "/Library/Python/2.7/site-packages/scipy-0.13.0.dev_c31f167_20130514-py2.7-macosx-10.8-intel.egg/scipy/optimize/zeros.py:149: RuntimeWarning: Tolerance of 1.1283904314e-05 reached\n",
        "  warnings.warn(msg, RuntimeWarning)\n",
        "/Library/Python/2.7/site-packages/scipy-0.13.0.dev_c31f167_20130514-py2.7-macosx-10.8-intel.egg/scipy/optimize/zeros.py:149: RuntimeWarning: Tolerance of -2.19642290731e+13 reached\n",
        "  warnings.warn(msg, RuntimeWarning)\n"
       ]
      },
      {
       "output_type": "stream",
       "stream": "stderr",
       "text": [
        "/Library/Python/2.7/site-packages/scipy-0.13.0.dev_c31f167_20130514-py2.7-macosx-10.8-intel.egg/scipy/optimize/zeros.py:149: RuntimeWarning: Tolerance of 4.34942166661e+16 reached\n",
        "  warnings.warn(msg, RuntimeWarning)\n",
        "/Library/Python/2.7/site-packages/scipy-0.13.0.dev_c31f167_20130514-py2.7-macosx-10.8-intel.egg/scipy/optimize/zeros.py:149: RuntimeWarning: Tolerance of 8.95841979092e+12 reached\n",
        "  warnings.warn(msg, RuntimeWarning)\n"
       ]
      },
      {
       "output_type": "stream",
       "stream": "stderr",
       "text": [
        "/Library/Python/2.7/site-packages/scipy-0.13.0.dev_c31f167_20130514-py2.7-macosx-10.8-intel.egg/scipy/optimize/zeros.py:149: RuntimeWarning: Tolerance of 3.45476998996e+14 reached\n",
        "  warnings.warn(msg, RuntimeWarning)\n",
        "/Library/Python/2.7/site-packages/scipy-0.13.0.dev_c31f167_20130514-py2.7-macosx-10.8-intel.egg/scipy/optimize/zeros.py:149: RuntimeWarning: Tolerance of -9.653044609e+14 reached\n",
        "  warnings.warn(msg, RuntimeWarning)\n"
       ]
      },
      {
       "output_type": "stream",
       "stream": "stdout",
       "text": [
        "\n",
        "deleting item T1map_LL"
       ]
      },
      {
       "output_type": "stream",
       "stream": "stdout",
       "text": [
        "\n",
        "deleting item T1map_LL_fitdict"
       ]
      },
      {
       "output_type": "stream",
       "stream": "stderr",
       "text": [
        "WARNING:sarpy.io.BRUKERIO:NSLICES not equal to number of ACQ_obj_order\n"
       ]
      },
      {
       "output_type": "stream",
       "stream": "stderr",
       "text": [
        "/Library/Python/2.7/site-packages/scipy-0.13.0.dev_c31f167_20130514-py2.7-macosx-10.8-intel.egg/scipy/optimize/zeros.py:149: RuntimeWarning: Tolerance of 8.48323048924e+16 reached\n",
        "  warnings.warn(msg, RuntimeWarning)\n",
        "/Library/Python/2.7/site-packages/scipy-0.13.0.dev_c31f167_20130514-py2.7-macosx-10.8-intel.egg/scipy/optimize/zeros.py:149: RuntimeWarning: Tolerance of -2.58978497402e+15 reached\n",
        "  warnings.warn(msg, RuntimeWarning)\n"
       ]
      },
      {
       "output_type": "stream",
       "stream": "stderr",
       "text": [
        "/Library/Python/2.7/site-packages/scipy-0.13.0.dev_c31f167_20130514-py2.7-macosx-10.8-intel.egg/scipy/optimize/zeros.py:149: RuntimeWarning: Tolerance of 7.17677797348e+15 reached\n",
        "  warnings.warn(msg, RuntimeWarning)\n",
        "/Library/Python/2.7/site-packages/scipy-0.13.0.dev_c31f167_20130514-py2.7-macosx-10.8-intel.egg/scipy/optimize/zeros.py:149: RuntimeWarning: Tolerance of 3.22027987607e+16 reached\n",
        "  warnings.warn(msg, RuntimeWarning)\n"
       ]
      },
      {
       "output_type": "stream",
       "stream": "stderr",
       "text": [
        "/Library/Python/2.7/site-packages/scipy-0.13.0.dev_c31f167_20130514-py2.7-macosx-10.8-intel.egg/scipy/optimize/zeros.py:149: RuntimeWarning: Tolerance of -2.2247589555e+14 reached\n",
        "  warnings.warn(msg, RuntimeWarning)\n",
        "/Library/Python/2.7/site-packages/scipy-0.13.0.dev_c31f167_20130514-py2.7-macosx-10.8-intel.egg/scipy/optimize/zeros.py:149: RuntimeWarning: Tolerance of 5.49480450199e+14 reached\n",
        "  warnings.warn(msg, RuntimeWarning)\n"
       ]
      },
      {
       "output_type": "stream",
       "stream": "stderr",
       "text": [
        "/Library/Python/2.7/site-packages/scipy-0.13.0.dev_c31f167_20130514-py2.7-macosx-10.8-intel.egg/scipy/optimize/zeros.py:149: RuntimeWarning: Tolerance of -1.73372097962e+15 reached\n",
        "  warnings.warn(msg, RuntimeWarning)\n",
        "/Library/Python/2.7/site-packages/scipy-0.13.0.dev_c31f167_20130514-py2.7-macosx-10.8-intel.egg/scipy/optimize/zeros.py:149: RuntimeWarning: Tolerance of -1.50175765157e-08 reached\n",
        "  warnings.warn(msg, RuntimeWarning)\n"
       ]
      },
      {
       "output_type": "stream",
       "stream": "stderr",
       "text": [
        "/Library/Python/2.7/site-packages/scipy-0.13.0.dev_c31f167_20130514-py2.7-macosx-10.8-intel.egg/scipy/optimize/zeros.py:149: RuntimeWarning: Tolerance of 5.93717562543e+15 reached\n",
        "  warnings.warn(msg, RuntimeWarning)\n",
        "/Library/Python/2.7/site-packages/scipy-0.13.0.dev_c31f167_20130514-py2.7-macosx-10.8-intel.egg/scipy/optimize/zeros.py:149: RuntimeWarning: Tolerance of -1.65101717186e+15 reached\n",
        "  warnings.warn(msg, RuntimeWarning)\n"
       ]
      },
      {
       "output_type": "stream",
       "stream": "stderr",
       "text": [
        "/Library/Python/2.7/site-packages/scipy-0.13.0.dev_c31f167_20130514-py2.7-macosx-10.8-intel.egg/scipy/optimize/zeros.py:149: RuntimeWarning: Tolerance of 5.19476896517e+16 reached\n",
        "  warnings.warn(msg, RuntimeWarning)\n",
        "/Library/Python/2.7/site-packages/scipy-0.13.0.dev_c31f167_20130514-py2.7-macosx-10.8-intel.egg/scipy/optimize/zeros.py:149: RuntimeWarning: Tolerance of 1.9048332731e+15 reached\n",
        "  warnings.warn(msg, RuntimeWarning)\n"
       ]
      },
      {
       "output_type": "stream",
       "stream": "stderr",
       "text": [
        "/Library/Python/2.7/site-packages/scipy-0.13.0.dev_c31f167_20130514-py2.7-macosx-10.8-intel.egg/scipy/optimize/zeros.py:149: RuntimeWarning: Tolerance of -3.48689260868e+16 reached\n",
        "  warnings.warn(msg, RuntimeWarning)\n",
        "/Library/Python/2.7/site-packages/scipy-0.13.0.dev_c31f167_20130514-py2.7-macosx-10.8-intel.egg/scipy/optimize/zeros.py:149: RuntimeWarning: Tolerance of 1.02494559743e+16 reached\n",
        "  warnings.warn(msg, RuntimeWarning)\n"
       ]
      },
      {
       "output_type": "stream",
       "stream": "stderr",
       "text": [
        "/Library/Python/2.7/site-packages/scipy-0.13.0.dev_c31f167_20130514-py2.7-macosx-10.8-intel.egg/scipy/optimize/zeros.py:149: RuntimeWarning: Tolerance of -4.97720967718e+12 reached\n",
        "  warnings.warn(msg, RuntimeWarning)\n",
        "/Library/Python/2.7/site-packages/scipy-0.13.0.dev_c31f167_20130514-py2.7-macosx-10.8-intel.egg/scipy/optimize/zeros.py:149: RuntimeWarning: Tolerance of -9.10108265563e+16 reached\n",
        "  warnings.warn(msg, RuntimeWarning)\n"
       ]
      },
      {
       "output_type": "stream",
       "stream": "stderr",
       "text": [
        "/Library/Python/2.7/site-packages/scipy-0.13.0.dev_c31f167_20130514-py2.7-macosx-10.8-intel.egg/scipy/optimize/zeros.py:149: RuntimeWarning: Tolerance of 1.22276558064e+14 reached\n",
        "  warnings.warn(msg, RuntimeWarning)\n",
        "/Library/Python/2.7/site-packages/scipy-0.13.0.dev_c31f167_20130514-py2.7-macosx-10.8-intel.egg/scipy/optimize/zeros.py:149: RuntimeWarning: Tolerance of -2.87933733374e+15 reached\n",
        "  warnings.warn(msg, RuntimeWarning)\n"
       ]
      },
      {
       "output_type": "stream",
       "stream": "stderr",
       "text": [
        "/Library/Python/2.7/site-packages/scipy-0.13.0.dev_c31f167_20130514-py2.7-macosx-10.8-intel.egg/scipy/optimize/zeros.py:149: RuntimeWarning: Tolerance of -8.59318106051e+15 reached\n",
        "  warnings.warn(msg, RuntimeWarning)\n",
        "/Library/Python/2.7/site-packages/scipy-0.13.0.dev_c31f167_20130514-py2.7-macosx-10.8-intel.egg/scipy/optimize/zeros.py:149: RuntimeWarning: Tolerance of -3.50625616258e+13 reached\n",
        "  warnings.warn(msg, RuntimeWarning)\n"
       ]
      },
      {
       "output_type": "stream",
       "stream": "stderr",
       "text": [
        "/Library/Python/2.7/site-packages/scipy-0.13.0.dev_c31f167_20130514-py2.7-macosx-10.8-intel.egg/scipy/optimize/zeros.py:149: RuntimeWarning: Tolerance of 1.09509710279e+14 reached\n",
        "  warnings.warn(msg, RuntimeWarning)\n",
        "/Library/Python/2.7/site-packages/scipy-0.13.0.dev_c31f167_20130514-py2.7-macosx-10.8-intel.egg/scipy/optimize/zeros.py:149: RuntimeWarning: Tolerance of 1.66096525748e+15 reached\n",
        "  warnings.warn(msg, RuntimeWarning)\n"
       ]
      },
      {
       "output_type": "stream",
       "stream": "stderr",
       "text": [
        "/Library/Python/2.7/site-packages/scipy-0.13.0.dev_c31f167_20130514-py2.7-macosx-10.8-intel.egg/scipy/optimize/zeros.py:149: RuntimeWarning: Tolerance of -4.35547630889e+15 reached\n",
        "  warnings.warn(msg, RuntimeWarning)\n",
        "/Library/Python/2.7/site-packages/scipy-0.13.0.dev_c31f167_20130514-py2.7-macosx-10.8-intel.egg/scipy/optimize/zeros.py:149: RuntimeWarning: Tolerance of 1.04709273046e+16 reached\n",
        "  warnings.warn(msg, RuntimeWarning)\n"
       ]
      },
      {
       "output_type": "stream",
       "stream": "stderr",
       "text": [
        "/Library/Python/2.7/site-packages/scipy-0.13.0.dev_c31f167_20130514-py2.7-macosx-10.8-intel.egg/scipy/optimize/zeros.py:149: RuntimeWarning: Tolerance of -77526590176.0 reached\n",
        "  warnings.warn(msg, RuntimeWarning)\n",
        "/Library/Python/2.7/site-packages/scipy-0.13.0.dev_c31f167_20130514-py2.7-macosx-10.8-intel.egg/scipy/optimize/zeros.py:149: RuntimeWarning: Tolerance of -4.44595935257e+14 reached\n",
        "  warnings.warn(msg, RuntimeWarning)\n"
       ]
      },
      {
       "output_type": "stream",
       "stream": "stderr",
       "text": [
        "/Library/Python/2.7/site-packages/scipy-0.13.0.dev_c31f167_20130514-py2.7-macosx-10.8-intel.egg/scipy/optimize/zeros.py:149: RuntimeWarning: Tolerance of -4.62726251016e+16 reached\n",
        "  warnings.warn(msg, RuntimeWarning)\n",
        "/Library/Python/2.7/site-packages/scipy-0.13.0.dev_c31f167_20130514-py2.7-macosx-10.8-intel.egg/scipy/optimize/zeros.py:149: RuntimeWarning: Tolerance of 1.30912832083e+16 reached\n",
        "  warnings.warn(msg, RuntimeWarning)\n"
       ]
      },
      {
       "output_type": "stream",
       "stream": "stderr",
       "text": [
        "/Library/Python/2.7/site-packages/scipy-0.13.0.dev_c31f167_20130514-py2.7-macosx-10.8-intel.egg/scipy/optimize/zeros.py:149: RuntimeWarning: Tolerance of -1.18487918436e+13 reached\n",
        "  warnings.warn(msg, RuntimeWarning)\n",
        "/Library/Python/2.7/site-packages/scipy-0.13.0.dev_c31f167_20130514-py2.7-macosx-10.8-intel.egg/scipy/optimize/zeros.py:149: RuntimeWarning: Tolerance of -5.60327577833e+15 reached\n",
        "  warnings.warn(msg, RuntimeWarning)\n"
       ]
      },
      {
       "output_type": "stream",
       "stream": "stderr",
       "text": [
        "/Library/Python/2.7/site-packages/scipy-0.13.0.dev_c31f167_20130514-py2.7-macosx-10.8-intel.egg/scipy/optimize/zeros.py:149: RuntimeWarning: Tolerance of 1.35279164001e+12 reached\n",
        "  warnings.warn(msg, RuntimeWarning)\n",
        "/Library/Python/2.7/site-packages/scipy-0.13.0.dev_c31f167_20130514-py2.7-macosx-10.8-intel.egg/scipy/optimize/zeros.py:149: RuntimeWarning: Tolerance of -5.85947461292e+14 reached\n",
        "  warnings.warn(msg, RuntimeWarning)\n"
       ]
      },
      {
       "output_type": "stream",
       "stream": "stderr",
       "text": [
        "/Library/Python/2.7/site-packages/scipy-0.13.0.dev_c31f167_20130514-py2.7-macosx-10.8-intel.egg/scipy/optimize/zeros.py:149: RuntimeWarning: Tolerance of -2.51120899226e+15 reached\n",
        "  warnings.warn(msg, RuntimeWarning)\n",
        "/Library/Python/2.7/site-packages/scipy-0.13.0.dev_c31f167_20130514-py2.7-macosx-10.8-intel.egg/scipy/optimize/zeros.py:149: RuntimeWarning: Tolerance of 2.93641677166e+15 reached\n",
        "  warnings.warn(msg, RuntimeWarning)\n"
       ]
      },
      {
       "output_type": "stream",
       "stream": "stderr",
       "text": [
        "/Library/Python/2.7/site-packages/scipy-0.13.0.dev_c31f167_20130514-py2.7-macosx-10.8-intel.egg/scipy/optimize/zeros.py:149: RuntimeWarning: Tolerance of -2.21755665891e+16 reached\n",
        "  warnings.warn(msg, RuntimeWarning)\n",
        "/Library/Python/2.7/site-packages/scipy-0.13.0.dev_c31f167_20130514-py2.7-macosx-10.8-intel.egg/scipy/optimize/zeros.py:149: RuntimeWarning: Tolerance of 7.65779539186e+12 reached\n",
        "  warnings.warn(msg, RuntimeWarning)\n"
       ]
      },
      {
       "output_type": "stream",
       "stream": "stderr",
       "text": [
        "/Library/Python/2.7/site-packages/scipy-0.13.0.dev_c31f167_20130514-py2.7-macosx-10.8-intel.egg/scipy/optimize/zeros.py:149: RuntimeWarning: Tolerance of -3.88366011933e+14 reached\n",
        "  warnings.warn(msg, RuntimeWarning)\n",
        "/Library/Python/2.7/site-packages/scipy-0.13.0.dev_c31f167_20130514-py2.7-macosx-10.8-intel.egg/scipy/optimize/zeros.py:149: RuntimeWarning: Tolerance of -1.48573869489e+16 reached\n",
        "  warnings.warn(msg, RuntimeWarning)\n"
       ]
      },
      {
       "output_type": "stream",
       "stream": "stderr",
       "text": [
        "/Library/Python/2.7/site-packages/scipy-0.13.0.dev_c31f167_20130514-py2.7-macosx-10.8-intel.egg/scipy/optimize/zeros.py:149: RuntimeWarning: Tolerance of -5.74717061927e+14 reached\n",
        "  warnings.warn(msg, RuntimeWarning)\n",
        "/Library/Python/2.7/site-packages/scipy-0.13.0.dev_c31f167_20130514-py2.7-macosx-10.8-intel.egg/scipy/optimize/zeros.py:149: RuntimeWarning: Tolerance of -4.18334618982e+16 reached\n",
        "  warnings.warn(msg, RuntimeWarning)\n"
       ]
      },
      {
       "output_type": "stream",
       "stream": "stderr",
       "text": [
        "/Library/Python/2.7/site-packages/scipy-0.13.0.dev_c31f167_20130514-py2.7-macosx-10.8-intel.egg/scipy/optimize/zeros.py:149: RuntimeWarning: Tolerance of 1.13261408215e+16 reached\n",
        "  warnings.warn(msg, RuntimeWarning)\n",
        "/Library/Python/2.7/site-packages/scipy-0.13.0.dev_c31f167_20130514-py2.7-macosx-10.8-intel.egg/scipy/optimize/zeros.py:149: RuntimeWarning: Tolerance of -8.21386554248e+14 reached\n",
        "  warnings.warn(msg, RuntimeWarning)\n"
       ]
      },
      {
       "output_type": "stream",
       "stream": "stderr",
       "text": [
        "/Library/Python/2.7/site-packages/scipy-0.13.0.dev_c31f167_20130514-py2.7-macosx-10.8-intel.egg/scipy/optimize/zeros.py:149: RuntimeWarning: Tolerance of 8.39986252996e+13 reached\n",
        "  warnings.warn(msg, RuntimeWarning)\n",
        "/Library/Python/2.7/site-packages/scipy-0.13.0.dev_c31f167_20130514-py2.7-macosx-10.8-intel.egg/scipy/optimize/zeros.py:149: RuntimeWarning: Tolerance of -1.12762365231e+16 reached\n",
        "  warnings.warn(msg, RuntimeWarning)\n",
        "/Library/Python/2.7/site-packages/scipy-0.13.0.dev_c31f167_20130514-py2.7-macosx-10.8-intel.egg/scipy/optimize/zeros.py:149: RuntimeWarning: Tolerance of -2.85493933091e+15 reached\n",
        "  warnings.warn(msg, RuntimeWarning)\n"
       ]
      },
      {
       "output_type": "stream",
       "stream": "stderr",
       "text": [
        "/Library/Python/2.7/site-packages/scipy-0.13.0.dev_c31f167_20130514-py2.7-macosx-10.8-intel.egg/scipy/optimize/zeros.py:149: RuntimeWarning: Tolerance of 1.77122944486e+15 reached\n",
        "  warnings.warn(msg, RuntimeWarning)\n",
        "/Library/Python/2.7/site-packages/scipy-0.13.0.dev_c31f167_20130514-py2.7-macosx-10.8-intel.egg/scipy/optimize/zeros.py:149: RuntimeWarning: Tolerance of 5.04488964462e+15 reached\n",
        "  warnings.warn(msg, RuntimeWarning)\n"
       ]
      },
      {
       "output_type": "stream",
       "stream": "stderr",
       "text": [
        "/Library/Python/2.7/site-packages/scipy-0.13.0.dev_c31f167_20130514-py2.7-macosx-10.8-intel.egg/scipy/optimize/zeros.py:149: RuntimeWarning: Tolerance of 4.7302921917e+14 reached\n",
        "  warnings.warn(msg, RuntimeWarning)\n",
        "/Library/Python/2.7/site-packages/scipy-0.13.0.dev_c31f167_20130514-py2.7-macosx-10.8-intel.egg/scipy/optimize/zeros.py:149: RuntimeWarning: Tolerance of -2.27026557055e+18 reached\n",
        "  warnings.warn(msg, RuntimeWarning)\n"
       ]
      },
      {
       "output_type": "stream",
       "stream": "stderr",
       "text": [
        "/Library/Python/2.7/site-packages/scipy-0.13.0.dev_c31f167_20130514-py2.7-macosx-10.8-intel.egg/scipy/optimize/zeros.py:149: RuntimeWarning: Tolerance of -2.18691097041e+15 reached\n",
        "  warnings.warn(msg, RuntimeWarning)\n",
        "/Library/Python/2.7/site-packages/scipy-0.13.0.dev_c31f167_20130514-py2.7-macosx-10.8-intel.egg/scipy/optimize/zeros.py:149: RuntimeWarning: Tolerance of 2.20284244071e+16 reached\n",
        "  warnings.warn(msg, RuntimeWarning)\n"
       ]
      },
      {
       "output_type": "stream",
       "stream": "stderr",
       "text": [
        "/Library/Python/2.7/site-packages/scipy-0.13.0.dev_c31f167_20130514-py2.7-macosx-10.8-intel.egg/scipy/optimize/zeros.py:149: RuntimeWarning: Tolerance of -5.37965735869e+15 reached\n",
        "  warnings.warn(msg, RuntimeWarning)\n",
        "/Library/Python/2.7/site-packages/scipy-0.13.0.dev_c31f167_20130514-py2.7-macosx-10.8-intel.egg/scipy/optimize/zeros.py:149: RuntimeWarning: Tolerance of 3.06221490161e+16 reached\n",
        "  warnings.warn(msg, RuntimeWarning)\n"
       ]
      },
      {
       "output_type": "stream",
       "stream": "stderr",
       "text": [
        "/Library/Python/2.7/site-packages/scipy-0.13.0.dev_c31f167_20130514-py2.7-macosx-10.8-intel.egg/scipy/optimize/zeros.py:149: RuntimeWarning: Tolerance of -5.40082588391e+15 reached\n",
        "  warnings.warn(msg, RuntimeWarning)\n",
        "/Library/Python/2.7/site-packages/scipy-0.13.0.dev_c31f167_20130514-py2.7-macosx-10.8-intel.egg/scipy/optimize/zeros.py:149: RuntimeWarning: Tolerance of -3.42586002476e+16 reached\n",
        "  warnings.warn(msg, RuntimeWarning)\n"
       ]
      },
      {
       "output_type": "stream",
       "stream": "stderr",
       "text": [
        "/Library/Python/2.7/site-packages/scipy-0.13.0.dev_c31f167_20130514-py2.7-macosx-10.8-intel.egg/scipy/optimize/zeros.py:149: RuntimeWarning: Tolerance of -1.54007290844e+16 reached\n",
        "  warnings.warn(msg, RuntimeWarning)\n",
        "/Library/Python/2.7/site-packages/scipy-0.13.0.dev_c31f167_20130514-py2.7-macosx-10.8-intel.egg/scipy/optimize/zeros.py:149: RuntimeWarning: Tolerance of 4.85531788961e+16 reached\n",
        "  warnings.warn(msg, RuntimeWarning)\n"
       ]
      },
      {
       "output_type": "stream",
       "stream": "stderr",
       "text": [
        "/Library/Python/2.7/site-packages/scipy-0.13.0.dev_c31f167_20130514-py2.7-macosx-10.8-intel.egg/scipy/optimize/zeros.py:149: RuntimeWarning: Tolerance of 2.01659793345e+16 reached\n",
        "  warnings.warn(msg, RuntimeWarning)\n",
        "/Library/Python/2.7/site-packages/scipy-0.13.0.dev_c31f167_20130514-py2.7-macosx-10.8-intel.egg/scipy/optimize/zeros.py:149: RuntimeWarning: Tolerance of -2.04355533177e+14 reached\n",
        "  warnings.warn(msg, RuntimeWarning)\n"
       ]
      },
      {
       "output_type": "stream",
       "stream": "stderr",
       "text": [
        "/Library/Python/2.7/site-packages/scipy-0.13.0.dev_c31f167_20130514-py2.7-macosx-10.8-intel.egg/scipy/optimize/zeros.py:149: RuntimeWarning: Tolerance of -2.96554053138e+15 reached\n",
        "  warnings.warn(msg, RuntimeWarning)\n",
        "/Library/Python/2.7/site-packages/scipy-0.13.0.dev_c31f167_20130514-py2.7-macosx-10.8-intel.egg/scipy/optimize/zeros.py:149: RuntimeWarning: Tolerance of -1.16242980578e+17 reached\n",
        "  warnings.warn(msg, RuntimeWarning)\n"
       ]
      },
      {
       "output_type": "stream",
       "stream": "stderr",
       "text": [
        "/Library/Python/2.7/site-packages/scipy-0.13.0.dev_c31f167_20130514-py2.7-macosx-10.8-intel.egg/scipy/optimize/zeros.py:149: RuntimeWarning: Tolerance of 1.9031258511e+15 reached\n",
        "  warnings.warn(msg, RuntimeWarning)\n",
        "/Library/Python/2.7/site-packages/scipy-0.13.0.dev_c31f167_20130514-py2.7-macosx-10.8-intel.egg/scipy/optimize/zeros.py:149: RuntimeWarning: Tolerance of 1.39579853834e+16 reached\n",
        "  warnings.warn(msg, RuntimeWarning)\n"
       ]
      },
      {
       "output_type": "stream",
       "stream": "stderr",
       "text": [
        "/Library/Python/2.7/site-packages/scipy-0.13.0.dev_c31f167_20130514-py2.7-macosx-10.8-intel.egg/scipy/optimize/zeros.py:149: RuntimeWarning: Tolerance of -6.74699430309e+15 reached\n",
        "  warnings.warn(msg, RuntimeWarning)\n",
        "/Library/Python/2.7/site-packages/scipy-0.13.0.dev_c31f167_20130514-py2.7-macosx-10.8-intel.egg/scipy/optimize/zeros.py:149: RuntimeWarning: Tolerance of 3.02312835271e+15 reached\n",
        "  warnings.warn(msg, RuntimeWarning)\n"
       ]
      },
      {
       "output_type": "stream",
       "stream": "stderr",
       "text": [
        "/Library/Python/2.7/site-packages/scipy-0.13.0.dev_c31f167_20130514-py2.7-macosx-10.8-intel.egg/scipy/optimize/zeros.py:149: RuntimeWarning: Tolerance of 6.18908492965e+14 reached\n",
        "  warnings.warn(msg, RuntimeWarning)\n",
        "/Library/Python/2.7/site-packages/scipy-0.13.0.dev_c31f167_20130514-py2.7-macosx-10.8-intel.egg/scipy/optimize/zeros.py:149: RuntimeWarning: Tolerance of 2.07365576684e+16 reached\n",
        "  warnings.warn(msg, RuntimeWarning)\n"
       ]
      },
      {
       "output_type": "stream",
       "stream": "stderr",
       "text": [
        "/Library/Python/2.7/site-packages/scipy-0.13.0.dev_c31f167_20130514-py2.7-macosx-10.8-intel.egg/scipy/optimize/zeros.py:149: RuntimeWarning: Tolerance of -2.55325908198e+16 reached\n",
        "  warnings.warn(msg, RuntimeWarning)\n",
        "/Library/Python/2.7/site-packages/scipy-0.13.0.dev_c31f167_20130514-py2.7-macosx-10.8-intel.egg/scipy/optimize/zeros.py:149: RuntimeWarning: Tolerance of 2.88981095456e+15 reached\n",
        "  warnings.warn(msg, RuntimeWarning)\n"
       ]
      },
      {
       "output_type": "stream",
       "stream": "stderr",
       "text": [
        "/Library/Python/2.7/site-packages/scipy-0.13.0.dev_c31f167_20130514-py2.7-macosx-10.8-intel.egg/scipy/optimize/zeros.py:149: RuntimeWarning: Tolerance of -5.91235710548e+13 reached\n",
        "  warnings.warn(msg, RuntimeWarning)\n",
        "/Library/Python/2.7/site-packages/scipy-0.13.0.dev_c31f167_20130514-py2.7-macosx-10.8-intel.egg/scipy/optimize/zeros.py:149: RuntimeWarning: Tolerance of 1.42060442332e+16 reached\n",
        "  warnings.warn(msg, RuntimeWarning)\n"
       ]
      },
      {
       "output_type": "stream",
       "stream": "stdout",
       "text": [
        "\n",
        "deleting item T1map_LL"
       ]
      },
      {
       "output_type": "stream",
       "stream": "stdout",
       "text": [
        "\n",
        "deleting item T1map_LL_fitdict"
       ]
      },
      {
       "output_type": "stream",
       "stream": "stderr",
       "text": [
        "/Library/Python/2.7/site-packages/scipy-0.13.0.dev_c31f167_20130514-py2.7-macosx-10.8-intel.egg/scipy/optimize/zeros.py:149: RuntimeWarning: Tolerance of 1.5595605485e+16 reached\n",
        "  warnings.warn(msg, RuntimeWarning)\n",
        "WARNING:sarpy.io.BRUKERIO:NSLICES not equal to number of ACQ_obj_order\n"
       ]
      },
      {
       "output_type": "stream",
       "stream": "stderr",
       "text": [
        "/Library/Python/2.7/site-packages/scipy-0.13.0.dev_c31f167_20130514-py2.7-macosx-10.8-intel.egg/scipy/optimize/zeros.py:149: RuntimeWarning: Tolerance of 9.76669268441e+15 reached\n",
        "  warnings.warn(msg, RuntimeWarning)\n",
        "/Library/Python/2.7/site-packages/scipy-0.13.0.dev_c31f167_20130514-py2.7-macosx-10.8-intel.egg/scipy/optimize/zeros.py:149: RuntimeWarning: Tolerance of -1.30643242621e+15 reached\n",
        "  warnings.warn(msg, RuntimeWarning)\n"
       ]
      },
      {
       "output_type": "stream",
       "stream": "stderr",
       "text": [
        "/Library/Python/2.7/site-packages/scipy-0.13.0.dev_c31f167_20130514-py2.7-macosx-10.8-intel.egg/scipy/optimize/zeros.py:149: RuntimeWarning: Tolerance of -2.55674697203e+16 reached\n",
        "  warnings.warn(msg, RuntimeWarning)\n",
        "/Library/Python/2.7/site-packages/scipy-0.13.0.dev_c31f167_20130514-py2.7-macosx-10.8-intel.egg/scipy/optimize/zeros.py:149: RuntimeWarning: Tolerance of -5.57264381453e+15 reached\n",
        "  warnings.warn(msg, RuntimeWarning)\n"
       ]
      },
      {
       "output_type": "stream",
       "stream": "stderr",
       "text": [
        "/Library/Python/2.7/site-packages/scipy-0.13.0.dev_c31f167_20130514-py2.7-macosx-10.8-intel.egg/scipy/optimize/zeros.py:149: RuntimeWarning: Tolerance of -9.98865041468e+15 reached\n",
        "  warnings.warn(msg, RuntimeWarning)\n",
        "/Library/Python/2.7/site-packages/scipy-0.13.0.dev_c31f167_20130514-py2.7-macosx-10.8-intel.egg/scipy/optimize/zeros.py:149: RuntimeWarning: Tolerance of 7.94348164791e+16 reached\n",
        "  warnings.warn(msg, RuntimeWarning)\n"
       ]
      },
      {
       "output_type": "stream",
       "stream": "stderr",
       "text": [
        "/Library/Python/2.7/site-packages/scipy-0.13.0.dev_c31f167_20130514-py2.7-macosx-10.8-intel.egg/scipy/optimize/zeros.py:149: RuntimeWarning: Tolerance of -1.32324975323e+16 reached\n",
        "  warnings.warn(msg, RuntimeWarning)\n",
        "/Library/Python/2.7/site-packages/scipy-0.13.0.dev_c31f167_20130514-py2.7-macosx-10.8-intel.egg/scipy/optimize/zeros.py:149: RuntimeWarning: Tolerance of 8.34129424182e+12 reached\n",
        "  warnings.warn(msg, RuntimeWarning)\n"
       ]
      },
      {
       "output_type": "stream",
       "stream": "stderr",
       "text": [
        "/Library/Python/2.7/site-packages/scipy-0.13.0.dev_c31f167_20130514-py2.7-macosx-10.8-intel.egg/scipy/optimize/zeros.py:149: RuntimeWarning: Tolerance of -3.10493190718e+15 reached\n",
        "  warnings.warn(msg, RuntimeWarning)\n",
        "/Library/Python/2.7/site-packages/scipy-0.13.0.dev_c31f167_20130514-py2.7-macosx-10.8-intel.egg/scipy/optimize/zeros.py:149: RuntimeWarning: Tolerance of 6.9349623604e+15 reached\n",
        "  warnings.warn(msg, RuntimeWarning)\n"
       ]
      },
      {
       "output_type": "stream",
       "stream": "stderr",
       "text": [
        "/Library/Python/2.7/site-packages/scipy-0.13.0.dev_c31f167_20130514-py2.7-macosx-10.8-intel.egg/scipy/optimize/zeros.py:149: RuntimeWarning: Tolerance of 7.62335748475e+16 reached\n",
        "  warnings.warn(msg, RuntimeWarning)\n",
        "/Library/Python/2.7/site-packages/scipy-0.13.0.dev_c31f167_20130514-py2.7-macosx-10.8-intel.egg/scipy/optimize/zeros.py:149: RuntimeWarning: Tolerance of 2.33474349474e+15 reached\n",
        "  warnings.warn(msg, RuntimeWarning)\n"
       ]
      },
      {
       "output_type": "stream",
       "stream": "stderr",
       "text": [
        "/Library/Python/2.7/site-packages/scipy-0.13.0.dev_c31f167_20130514-py2.7-macosx-10.8-intel.egg/scipy/optimize/zeros.py:149: RuntimeWarning: Tolerance of -2.20798858898e+16 reached\n",
        "  warnings.warn(msg, RuntimeWarning)\n",
        "/Library/Python/2.7/site-packages/scipy-0.13.0.dev_c31f167_20130514-py2.7-macosx-10.8-intel.egg/scipy/optimize/zeros.py:149: RuntimeWarning: Tolerance of 1.97036010311e+14 reached\n",
        "  warnings.warn(msg, RuntimeWarning)\n"
       ]
      },
      {
       "output_type": "stream",
       "stream": "stderr",
       "text": [
        "/Library/Python/2.7/site-packages/scipy-0.13.0.dev_c31f167_20130514-py2.7-macosx-10.8-intel.egg/scipy/optimize/zeros.py:149: RuntimeWarning: Tolerance of 1.81907685929e+18 reached\n",
        "  warnings.warn(msg, RuntimeWarning)\n",
        "/Library/Python/2.7/site-packages/scipy-0.13.0.dev_c31f167_20130514-py2.7-macosx-10.8-intel.egg/scipy/optimize/zeros.py:149: RuntimeWarning: Tolerance of 2.67002766062e+16 reached\n",
        "  warnings.warn(msg, RuntimeWarning)\n"
       ]
      },
      {
       "output_type": "stream",
       "stream": "stderr",
       "text": [
        "/Library/Python/2.7/site-packages/scipy-0.13.0.dev_c31f167_20130514-py2.7-macosx-10.8-intel.egg/scipy/optimize/zeros.py:149: RuntimeWarning: Tolerance of 1.35555466006e+14 reached\n",
        "  warnings.warn(msg, RuntimeWarning)\n",
        "/Library/Python/2.7/site-packages/scipy-0.13.0.dev_c31f167_20130514-py2.7-macosx-10.8-intel.egg/scipy/optimize/zeros.py:149: RuntimeWarning: Tolerance of -1.30438529841e+16 reached\n",
        "  warnings.warn(msg, RuntimeWarning)\n"
       ]
      },
      {
       "output_type": "stream",
       "stream": "stderr",
       "text": [
        "/Library/Python/2.7/site-packages/scipy-0.13.0.dev_c31f167_20130514-py2.7-macosx-10.8-intel.egg/scipy/optimize/zeros.py:149: RuntimeWarning: Tolerance of 1.63516749249e+16 reached\n",
        "  warnings.warn(msg, RuntimeWarning)\n",
        "/Library/Python/2.7/site-packages/scipy-0.13.0.dev_c31f167_20130514-py2.7-macosx-10.8-intel.egg/scipy/optimize/zeros.py:149: RuntimeWarning: Tolerance of -7.82983830649e+14 reached\n",
        "  warnings.warn(msg, RuntimeWarning)\n"
       ]
      },
      {
       "output_type": "stream",
       "stream": "stderr",
       "text": [
        "/Library/Python/2.7/site-packages/scipy-0.13.0.dev_c31f167_20130514-py2.7-macosx-10.8-intel.egg/scipy/optimize/zeros.py:149: RuntimeWarning: Tolerance of 1.97793082333e+15 reached\n",
        "  warnings.warn(msg, RuntimeWarning)\n",
        "/Library/Python/2.7/site-packages/scipy-0.13.0.dev_c31f167_20130514-py2.7-macosx-10.8-intel.egg/scipy/optimize/zeros.py:149: RuntimeWarning: Tolerance of 2.08463523232e+15 reached\n",
        "  warnings.warn(msg, RuntimeWarning)\n"
       ]
      },
      {
       "output_type": "stream",
       "stream": "stderr",
       "text": [
        "/Library/Python/2.7/site-packages/scipy-0.13.0.dev_c31f167_20130514-py2.7-macosx-10.8-intel.egg/scipy/optimize/zeros.py:149: RuntimeWarning: Tolerance of -1.41852094191e+17 reached\n",
        "  warnings.warn(msg, RuntimeWarning)\n",
        "/Library/Python/2.7/site-packages/scipy-0.13.0.dev_c31f167_20130514-py2.7-macosx-10.8-intel.egg/scipy/optimize/zeros.py:149: RuntimeWarning: Tolerance of 1.59206589906e+16 reached\n",
        "  warnings.warn(msg, RuntimeWarning)\n"
       ]
      },
      {
       "output_type": "stream",
       "stream": "stderr",
       "text": [
        "/Library/Python/2.7/site-packages/scipy-0.13.0.dev_c31f167_20130514-py2.7-macosx-10.8-intel.egg/scipy/optimize/zeros.py:149: RuntimeWarning: Tolerance of -2.33406332163e+16 reached\n",
        "  warnings.warn(msg, RuntimeWarning)\n",
        "/Library/Python/2.7/site-packages/scipy-0.13.0.dev_c31f167_20130514-py2.7-macosx-10.8-intel.egg/scipy/optimize/zeros.py:149: RuntimeWarning: Tolerance of -4.60172998437e+15 reached\n",
        "  warnings.warn(msg, RuntimeWarning)\n"
       ]
      },
      {
       "output_type": "stream",
       "stream": "stderr",
       "text": [
        "/Library/Python/2.7/site-packages/scipy-0.13.0.dev_c31f167_20130514-py2.7-macosx-10.8-intel.egg/scipy/optimize/zeros.py:149: RuntimeWarning: Tolerance of -5.32081222897e+16 reached\n",
        "  warnings.warn(msg, RuntimeWarning)\n",
        "/Library/Python/2.7/site-packages/scipy-0.13.0.dev_c31f167_20130514-py2.7-macosx-10.8-intel.egg/scipy/optimize/zeros.py:149: RuntimeWarning: Tolerance of -2.99474885243e+15 reached\n",
        "  warnings.warn(msg, RuntimeWarning)\n",
        "/Library/Python/2.7/site-packages/scipy-0.13.0.dev_c31f167_20130514-py2.7-macosx-10.8-intel.egg/scipy/optimize/zeros.py:149: RuntimeWarning: Tolerance of -1.23238266299e+18 reached\n",
        "  warnings.warn(msg, RuntimeWarning)\n"
       ]
      },
      {
       "output_type": "stream",
       "stream": "stderr",
       "text": [
        "/Library/Python/2.7/site-packages/scipy-0.13.0.dev_c31f167_20130514-py2.7-macosx-10.8-intel.egg/scipy/optimize/zeros.py:149: RuntimeWarning: Tolerance of 2.35750147238e+15 reached\n",
        "  warnings.warn(msg, RuntimeWarning)\n",
        "/Library/Python/2.7/site-packages/scipy-0.13.0.dev_c31f167_20130514-py2.7-macosx-10.8-intel.egg/scipy/optimize/zeros.py:149: RuntimeWarning: Tolerance of -8.27665947294e+12 reached\n",
        "  warnings.warn(msg, RuntimeWarning)\n"
       ]
      },
      {
       "output_type": "stream",
       "stream": "stderr",
       "text": [
        "/Library/Python/2.7/site-packages/scipy-0.13.0.dev_c31f167_20130514-py2.7-macosx-10.8-intel.egg/scipy/optimize/zeros.py:149: RuntimeWarning: Tolerance of 3.82015061582e+15 reached\n",
        "  warnings.warn(msg, RuntimeWarning)\n",
        "/Library/Python/2.7/site-packages/scipy-0.13.0.dev_c31f167_20130514-py2.7-macosx-10.8-intel.egg/scipy/optimize/zeros.py:149: RuntimeWarning: Tolerance of -6.69863891113e+15 reached\n",
        "  warnings.warn(msg, RuntimeWarning)\n"
       ]
      },
      {
       "output_type": "stream",
       "stream": "stderr",
       "text": [
        "/Library/Python/2.7/site-packages/scipy-0.13.0.dev_c31f167_20130514-py2.7-macosx-10.8-intel.egg/scipy/optimize/zeros.py:149: RuntimeWarning: Tolerance of 7.14303132973e+12 reached\n",
        "  warnings.warn(msg, RuntimeWarning)\n",
        "/Library/Python/2.7/site-packages/scipy-0.13.0.dev_c31f167_20130514-py2.7-macosx-10.8-intel.egg/scipy/optimize/zeros.py:149: RuntimeWarning: Tolerance of 2.03030758705e+16 reached\n",
        "  warnings.warn(msg, RuntimeWarning)\n"
       ]
      },
      {
       "output_type": "stream",
       "stream": "stderr",
       "text": [
        "/Library/Python/2.7/site-packages/scipy-0.13.0.dev_c31f167_20130514-py2.7-macosx-10.8-intel.egg/scipy/optimize/zeros.py:149: RuntimeWarning: Tolerance of -2.69685934611e+16 reached\n",
        "  warnings.warn(msg, RuntimeWarning)\n",
        "/Library/Python/2.7/site-packages/scipy-0.13.0.dev_c31f167_20130514-py2.7-macosx-10.8-intel.egg/scipy/optimize/zeros.py:149: RuntimeWarning: Tolerance of -2.44785977756e+14 reached\n",
        "  warnings.warn(msg, RuntimeWarning)\n"
       ]
      },
      {
       "output_type": "stream",
       "stream": "stderr",
       "text": [
        "/Library/Python/2.7/site-packages/scipy-0.13.0.dev_c31f167_20130514-py2.7-macosx-10.8-intel.egg/scipy/optimize/zeros.py:149: RuntimeWarning: Tolerance of 4.48194438398e+15 reached\n",
        "  warnings.warn(msg, RuntimeWarning)\n",
        "/Library/Python/2.7/site-packages/scipy-0.13.0.dev_c31f167_20130514-py2.7-macosx-10.8-intel.egg/scipy/optimize/zeros.py:149: RuntimeWarning: Tolerance of -7633724710.5 reached\n",
        "  warnings.warn(msg, RuntimeWarning)\n"
       ]
      },
      {
       "output_type": "stream",
       "stream": "stderr",
       "text": [
        "/Library/Python/2.7/site-packages/scipy-0.13.0.dev_c31f167_20130514-py2.7-macosx-10.8-intel.egg/scipy/optimize/zeros.py:149: RuntimeWarning: Tolerance of 4.86419167777e+14 reached\n",
        "  warnings.warn(msg, RuntimeWarning)\n",
        "/Library/Python/2.7/site-packages/scipy-0.13.0.dev_c31f167_20130514-py2.7-macosx-10.8-intel.egg/scipy/optimize/zeros.py:149: RuntimeWarning: Tolerance of 2.14602688258e+14 reached\n",
        "  warnings.warn(msg, RuntimeWarning)\n"
       ]
      },
      {
       "output_type": "stream",
       "stream": "stderr",
       "text": [
        "/Library/Python/2.7/site-packages/scipy-0.13.0.dev_c31f167_20130514-py2.7-macosx-10.8-intel.egg/scipy/optimize/zeros.py:149: RuntimeWarning: Tolerance of -1.56599483198e+17 reached\n",
        "  warnings.warn(msg, RuntimeWarning)\n",
        "/Library/Python/2.7/site-packages/scipy-0.13.0.dev_c31f167_20130514-py2.7-macosx-10.8-intel.egg/scipy/optimize/zeros.py:149: RuntimeWarning: Tolerance of 1.38093723042e+17 reached\n",
        "  warnings.warn(msg, RuntimeWarning)\n"
       ]
      },
      {
       "output_type": "stream",
       "stream": "stderr",
       "text": [
        "/Library/Python/2.7/site-packages/scipy-0.13.0.dev_c31f167_20130514-py2.7-macosx-10.8-intel.egg/scipy/optimize/zeros.py:149: RuntimeWarning: Tolerance of -3.81305258699e+13 reached\n",
        "  warnings.warn(msg, RuntimeWarning)\n",
        "/Library/Python/2.7/site-packages/scipy-0.13.0.dev_c31f167_20130514-py2.7-macosx-10.8-intel.egg/scipy/optimize/zeros.py:149: RuntimeWarning: Tolerance of -2.14116250037e+16 reached\n",
        "  warnings.warn(msg, RuntimeWarning)\n"
       ]
      },
      {
       "output_type": "stream",
       "stream": "stderr",
       "text": [
        "/Library/Python/2.7/site-packages/scipy-0.13.0.dev_c31f167_20130514-py2.7-macosx-10.8-intel.egg/scipy/optimize/zeros.py:149: RuntimeWarning: Tolerance of 5.92139931136e+16 reached\n",
        "  warnings.warn(msg, RuntimeWarning)\n",
        "/Library/Python/2.7/site-packages/scipy-0.13.0.dev_c31f167_20130514-py2.7-macosx-10.8-intel.egg/scipy/optimize/zeros.py:149: RuntimeWarning: Tolerance of 1.02540054219e+16 reached\n",
        "  warnings.warn(msg, RuntimeWarning)\n"
       ]
      },
      {
       "output_type": "stream",
       "stream": "stderr",
       "text": [
        "/Library/Python/2.7/site-packages/scipy-0.13.0.dev_c31f167_20130514-py2.7-macosx-10.8-intel.egg/scipy/optimize/zeros.py:149: RuntimeWarning: Tolerance of 8.67897260775e+15 reached\n",
        "  warnings.warn(msg, RuntimeWarning)\n",
        "/Library/Python/2.7/site-packages/scipy-0.13.0.dev_c31f167_20130514-py2.7-macosx-10.8-intel.egg/scipy/optimize/zeros.py:149: RuntimeWarning: Tolerance of 9.68508821897e+13 reached\n",
        "  warnings.warn(msg, RuntimeWarning)\n"
       ]
      },
      {
       "output_type": "stream",
       "stream": "stderr",
       "text": [
        "/Library/Python/2.7/site-packages/scipy-0.13.0.dev_c31f167_20130514-py2.7-macosx-10.8-intel.egg/scipy/optimize/zeros.py:149: RuntimeWarning: Tolerance of 1.21714635777e+15 reached\n",
        "  warnings.warn(msg, RuntimeWarning)\n",
        "/Library/Python/2.7/site-packages/scipy-0.13.0.dev_c31f167_20130514-py2.7-macosx-10.8-intel.egg/scipy/optimize/zeros.py:149: RuntimeWarning: Tolerance of 3.91269171208e+13 reached\n",
        "  warnings.warn(msg, RuntimeWarning)\n"
       ]
      },
      {
       "output_type": "stream",
       "stream": "stderr",
       "text": [
        "/Library/Python/2.7/site-packages/scipy-0.13.0.dev_c31f167_20130514-py2.7-macosx-10.8-intel.egg/scipy/optimize/zeros.py:149: RuntimeWarning: Tolerance of 4.40112490351e+14 reached\n",
        "  warnings.warn(msg, RuntimeWarning)\n",
        "/Library/Python/2.7/site-packages/scipy-0.13.0.dev_c31f167_20130514-py2.7-macosx-10.8-intel.egg/scipy/optimize/zeros.py:149: RuntimeWarning: Tolerance of 3.67556016106e+16 reached\n",
        "  warnings.warn(msg, RuntimeWarning)\n"
       ]
      },
      {
       "output_type": "stream",
       "stream": "stderr",
       "text": [
        "/Library/Python/2.7/site-packages/scipy-0.13.0.dev_c31f167_20130514-py2.7-macosx-10.8-intel.egg/scipy/optimize/zeros.py:149: RuntimeWarning: Tolerance of 1.73747091251e+15 reached\n",
        "  warnings.warn(msg, RuntimeWarning)\n",
        "/Library/Python/2.7/site-packages/scipy-0.13.0.dev_c31f167_20130514-py2.7-macosx-10.8-intel.egg/scipy/optimize/zeros.py:149: RuntimeWarning: Tolerance of 2.18972371431e+16 reached\n",
        "  warnings.warn(msg, RuntimeWarning)\n",
        "/Library/Python/2.7/site-packages/scipy-0.13.0.dev_c31f167_20130514-py2.7-macosx-10.8-intel.egg/scipy/optimize/zeros.py:149: RuntimeWarning: Tolerance of -4.5588885618e+16 reached\n",
        "  warnings.warn(msg, RuntimeWarning)\n"
       ]
      },
      {
       "output_type": "stream",
       "stream": "stderr",
       "text": [
        "/Library/Python/2.7/site-packages/scipy-0.13.0.dev_c31f167_20130514-py2.7-macosx-10.8-intel.egg/scipy/optimize/zeros.py:149: RuntimeWarning: Tolerance of 3.22552111368e+15 reached\n",
        "  warnings.warn(msg, RuntimeWarning)\n",
        "/Library/Python/2.7/site-packages/scipy-0.13.0.dev_c31f167_20130514-py2.7-macosx-10.8-intel.egg/scipy/optimize/zeros.py:149: RuntimeWarning: Tolerance of -4.31287104054e+15 reached\n",
        "  warnings.warn(msg, RuntimeWarning)\n"
       ]
      },
      {
       "output_type": "stream",
       "stream": "stderr",
       "text": [
        "/Library/Python/2.7/site-packages/scipy-0.13.0.dev_c31f167_20130514-py2.7-macosx-10.8-intel.egg/scipy/optimize/zeros.py:149: RuntimeWarning: Tolerance of 4.11127363125e+15 reached\n",
        "  warnings.warn(msg, RuntimeWarning)\n",
        "/Library/Python/2.7/site-packages/scipy-0.13.0.dev_c31f167_20130514-py2.7-macosx-10.8-intel.egg/scipy/optimize/zeros.py:149: RuntimeWarning: Tolerance of -1.72085313493e+12 reached\n",
        "  warnings.warn(msg, RuntimeWarning)\n"
       ]
      },
      {
       "output_type": "stream",
       "stream": "stderr",
       "text": [
        "/Library/Python/2.7/site-packages/scipy-0.13.0.dev_c31f167_20130514-py2.7-macosx-10.8-intel.egg/scipy/optimize/zeros.py:149: RuntimeWarning: Tolerance of 8.54257574567e+14 reached\n",
        "  warnings.warn(msg, RuntimeWarning)\n",
        "/Library/Python/2.7/site-packages/scipy-0.13.0.dev_c31f167_20130514-py2.7-macosx-10.8-intel.egg/scipy/optimize/zeros.py:149: RuntimeWarning: Tolerance of -1.28929433646e+15 reached\n",
        "  warnings.warn(msg, RuntimeWarning)\n"
       ]
      },
      {
       "output_type": "stream",
       "stream": "stderr",
       "text": [
        "/Library/Python/2.7/site-packages/scipy-0.13.0.dev_c31f167_20130514-py2.7-macosx-10.8-intel.egg/scipy/optimize/zeros.py:149: RuntimeWarning: Tolerance of -1.16214025464e+14 reached\n",
        "  warnings.warn(msg, RuntimeWarning)\n",
        "/Library/Python/2.7/site-packages/scipy-0.13.0.dev_c31f167_20130514-py2.7-macosx-10.8-intel.egg/scipy/optimize/zeros.py:149: RuntimeWarning: Tolerance of -212464977976.0 reached\n",
        "  warnings.warn(msg, RuntimeWarning)\n"
       ]
      },
      {
       "output_type": "stream",
       "stream": "stderr",
       "text": [
        "/Library/Python/2.7/site-packages/scipy-0.13.0.dev_c31f167_20130514-py2.7-macosx-10.8-intel.egg/scipy/optimize/zeros.py:149: RuntimeWarning: Tolerance of 3.14020479473e+15 reached\n",
        "  warnings.warn(msg, RuntimeWarning)\n",
        "/Library/Python/2.7/site-packages/scipy-0.13.0.dev_c31f167_20130514-py2.7-macosx-10.8-intel.egg/scipy/optimize/zeros.py:149: RuntimeWarning: Tolerance of 2.77390221676e+15 reached\n",
        "  warnings.warn(msg, RuntimeWarning)\n"
       ]
      },
      {
       "output_type": "stream",
       "stream": "stderr",
       "text": [
        "/Library/Python/2.7/site-packages/scipy-0.13.0.dev_c31f167_20130514-py2.7-macosx-10.8-intel.egg/scipy/optimize/zeros.py:149: RuntimeWarning: Tolerance of 3.02557886016e+16 reached\n",
        "  warnings.warn(msg, RuntimeWarning)\n",
        "/Library/Python/2.7/site-packages/scipy-0.13.0.dev_c31f167_20130514-py2.7-macosx-10.8-intel.egg/scipy/optimize/zeros.py:149: RuntimeWarning: Tolerance of 1.25825481106e+14 reached\n",
        "  warnings.warn(msg, RuntimeWarning)\n"
       ]
      },
      {
       "output_type": "stream",
       "stream": "stderr",
       "text": [
        "/Library/Python/2.7/site-packages/scipy-0.13.0.dev_c31f167_20130514-py2.7-macosx-10.8-intel.egg/scipy/optimize/zeros.py:149: RuntimeWarning: Tolerance of -4.81077590794e+16 reached\n",
        "  warnings.warn(msg, RuntimeWarning)\n",
        "/Library/Python/2.7/site-packages/scipy-0.13.0.dev_c31f167_20130514-py2.7-macosx-10.8-intel.egg/scipy/optimize/zeros.py:149: RuntimeWarning: Tolerance of -4.27047176674e+16 reached\n",
        "  warnings.warn(msg, RuntimeWarning)\n"
       ]
      },
      {
       "output_type": "stream",
       "stream": "stderr",
       "text": [
        "/Library/Python/2.7/site-packages/scipy-0.13.0.dev_c31f167_20130514-py2.7-macosx-10.8-intel.egg/scipy/optimize/zeros.py:149: RuntimeWarning: Tolerance of 4.39594385436e+14 reached\n",
        "  warnings.warn(msg, RuntimeWarning)\n",
        "/Library/Python/2.7/site-packages/scipy-0.13.0.dev_c31f167_20130514-py2.7-macosx-10.8-intel.egg/scipy/optimize/zeros.py:149: RuntimeWarning: Tolerance of 7.89458174352e+15 reached\n",
        "  warnings.warn(msg, RuntimeWarning)\n"
       ]
      },
      {
       "output_type": "stream",
       "stream": "stderr",
       "text": [
        "/Library/Python/2.7/site-packages/scipy-0.13.0.dev_c31f167_20130514-py2.7-macosx-10.8-intel.egg/scipy/optimize/zeros.py:149: RuntimeWarning: Tolerance of 2.96078249242e+15 reached\n",
        "  warnings.warn(msg, RuntimeWarning)\n",
        "/Library/Python/2.7/site-packages/scipy-0.13.0.dev_c31f167_20130514-py2.7-macosx-10.8-intel.egg/scipy/optimize/zeros.py:149: RuntimeWarning: Tolerance of 1.47553341861e+18 reached\n",
        "  warnings.warn(msg, RuntimeWarning)\n"
       ]
      },
      {
       "output_type": "stream",
       "stream": "stderr",
       "text": [
        "/Library/Python/2.7/site-packages/scipy-0.13.0.dev_c31f167_20130514-py2.7-macosx-10.8-intel.egg/scipy/optimize/zeros.py:149: RuntimeWarning: Tolerance of -6.02363085549e+14 reached\n",
        "  warnings.warn(msg, RuntimeWarning)\n",
        "/Library/Python/2.7/site-packages/scipy-0.13.0.dev_c31f167_20130514-py2.7-macosx-10.8-intel.egg/scipy/optimize/zeros.py:149: RuntimeWarning: Tolerance of -5.98837184716e+14 reached\n",
        "  warnings.warn(msg, RuntimeWarning)\n"
       ]
      },
      {
       "output_type": "stream",
       "stream": "stderr",
       "text": [
        "/Library/Python/2.7/site-packages/scipy-0.13.0.dev_c31f167_20130514-py2.7-macosx-10.8-intel.egg/scipy/optimize/zeros.py:149: RuntimeWarning: Tolerance of 1.93746097858e+15 reached\n",
        "  warnings.warn(msg, RuntimeWarning)\n",
        "/Library/Python/2.7/site-packages/scipy-0.13.0.dev_c31f167_20130514-py2.7-macosx-10.8-intel.egg/scipy/optimize/zeros.py:149: RuntimeWarning: Tolerance of -4.95097227871e+13 reached\n",
        "  warnings.warn(msg, RuntimeWarning)\n"
       ]
      },
      {
       "output_type": "stream",
       "stream": "stderr",
       "text": [
        "/Library/Python/2.7/site-packages/scipy-0.13.0.dev_c31f167_20130514-py2.7-macosx-10.8-intel.egg/scipy/optimize/zeros.py:149: RuntimeWarning: Tolerance of 2.29075966234e+12 reached\n",
        "  warnings.warn(msg, RuntimeWarning)\n",
        "/Library/Python/2.7/site-packages/scipy-0.13.0.dev_c31f167_20130514-py2.7-macosx-10.8-intel.egg/scipy/optimize/zeros.py:149: RuntimeWarning: Tolerance of -6.46898422457e+16 reached\n",
        "  warnings.warn(msg, RuntimeWarning)\n"
       ]
      },
      {
       "output_type": "stream",
       "stream": "stderr",
       "text": [
        "/Library/Python/2.7/site-packages/scipy-0.13.0.dev_c31f167_20130514-py2.7-macosx-10.8-intel.egg/scipy/optimize/zeros.py:149: RuntimeWarning: Tolerance of 4.27451691038e+15 reached\n",
        "  warnings.warn(msg, RuntimeWarning)\n",
        "/Library/Python/2.7/site-packages/scipy-0.13.0.dev_c31f167_20130514-py2.7-macosx-10.8-intel.egg/scipy/optimize/zeros.py:149: RuntimeWarning: Tolerance of 1.09341856785e+15 reached\n",
        "  warnings.warn(msg, RuntimeWarning)\n"
       ]
      },
      {
       "output_type": "stream",
       "stream": "stderr",
       "text": [
        "/Library/Python/2.7/site-packages/scipy-0.13.0.dev_c31f167_20130514-py2.7-macosx-10.8-intel.egg/scipy/optimize/zeros.py:149: RuntimeWarning: Tolerance of -2.07664506454e+17 reached\n",
        "  warnings.warn(msg, RuntimeWarning)\n",
        "/Library/Python/2.7/site-packages/scipy-0.13.0.dev_c31f167_20130514-py2.7-macosx-10.8-intel.egg/scipy/optimize/zeros.py:149: RuntimeWarning: Tolerance of 1.99158040451e+14 reached\n",
        "  warnings.warn(msg, RuntimeWarning)\n"
       ]
      },
      {
       "output_type": "stream",
       "stream": "stderr",
       "text": [
        "/Library/Python/2.7/site-packages/scipy-0.13.0.dev_c31f167_20130514-py2.7-macosx-10.8-intel.egg/scipy/optimize/zeros.py:149: RuntimeWarning: Tolerance of 1.30382307976e+14 reached\n",
        "  warnings.warn(msg, RuntimeWarning)\n",
        "/Library/Python/2.7/site-packages/scipy-0.13.0.dev_c31f167_20130514-py2.7-macosx-10.8-intel.egg/scipy/optimize/zeros.py:149: RuntimeWarning: Tolerance of -1.01829247961e+16 reached\n",
        "  warnings.warn(msg, RuntimeWarning)\n"
       ]
      },
      {
       "output_type": "stream",
       "stream": "stderr",
       "text": [
        "/Library/Python/2.7/site-packages/scipy-0.13.0.dev_c31f167_20130514-py2.7-macosx-10.8-intel.egg/scipy/optimize/zeros.py:149: RuntimeWarning: Tolerance of -5.26939427782e+18 reached\n",
        "  warnings.warn(msg, RuntimeWarning)\n",
        "/Library/Python/2.7/site-packages/scipy-0.13.0.dev_c31f167_20130514-py2.7-macosx-10.8-intel.egg/scipy/optimize/zeros.py:149: RuntimeWarning: Tolerance of 1.7202508127e+14 reached\n",
        "  warnings.warn(msg, RuntimeWarning)\n"
       ]
      },
      {
       "output_type": "stream",
       "stream": "stderr",
       "text": [
        "/Library/Python/2.7/site-packages/scipy-0.13.0.dev_c31f167_20130514-py2.7-macosx-10.8-intel.egg/scipy/optimize/zeros.py:149: RuntimeWarning: Tolerance of -5.7270800942e+13 reached\n",
        "  warnings.warn(msg, RuntimeWarning)\n",
        "/Library/Python/2.7/site-packages/scipy-0.13.0.dev_c31f167_20130514-py2.7-macosx-10.8-intel.egg/scipy/optimize/zeros.py:149: RuntimeWarning: Tolerance of -1.4261306202e+16 reached\n",
        "  warnings.warn(msg, RuntimeWarning)\n"
       ]
      },
      {
       "output_type": "stream",
       "stream": "stderr",
       "text": [
        "/Library/Python/2.7/site-packages/scipy-0.13.0.dev_c31f167_20130514-py2.7-macosx-10.8-intel.egg/scipy/optimize/zeros.py:149: RuntimeWarning: Tolerance of 4.92950992502e+14 reached\n",
        "  warnings.warn(msg, RuntimeWarning)\n",
        "/Library/Python/2.7/site-packages/scipy-0.13.0.dev_c31f167_20130514-py2.7-macosx-10.8-intel.egg/scipy/optimize/zeros.py:149: RuntimeWarning: Tolerance of -4.60133150144e+16 reached\n",
        "  warnings.warn(msg, RuntimeWarning)\n"
       ]
      },
      {
       "output_type": "stream",
       "stream": "stderr",
       "text": [
        "/Library/Python/2.7/site-packages/scipy-0.13.0.dev_c31f167_20130514-py2.7-macosx-10.8-intel.egg/scipy/optimize/zeros.py:149: RuntimeWarning: Tolerance of 3.0649350433e+15 reached\n",
        "  warnings.warn(msg, RuntimeWarning)\n",
        "/Library/Python/2.7/site-packages/scipy-0.13.0.dev_c31f167_20130514-py2.7-macosx-10.8-intel.egg/scipy/optimize/zeros.py:149: RuntimeWarning: Tolerance of -1.95065823308e+16 reached\n",
        "  warnings.warn(msg, RuntimeWarning)\n"
       ]
      },
      {
       "output_type": "stream",
       "stream": "stderr",
       "text": [
        "/Library/Python/2.7/site-packages/scipy-0.13.0.dev_c31f167_20130514-py2.7-macosx-10.8-intel.egg/scipy/optimize/zeros.py:149: RuntimeWarning: Tolerance of 53742699520.0 reached\n",
        "  warnings.warn(msg, RuntimeWarning)\n",
        "/Library/Python/2.7/site-packages/scipy-0.13.0.dev_c31f167_20130514-py2.7-macosx-10.8-intel.egg/scipy/optimize/zeros.py:149: RuntimeWarning: Tolerance of 7.56637813028e+14 reached\n",
        "  warnings.warn(msg, RuntimeWarning)\n"
       ]
      },
      {
       "output_type": "stream",
       "stream": "stderr",
       "text": [
        "/Library/Python/2.7/site-packages/scipy-0.13.0.dev_c31f167_20130514-py2.7-macosx-10.8-intel.egg/scipy/optimize/zeros.py:149: RuntimeWarning: Tolerance of -1.42972657168e+16 reached\n",
        "  warnings.warn(msg, RuntimeWarning)\n",
        "/Library/Python/2.7/site-packages/scipy-0.13.0.dev_c31f167_20130514-py2.7-macosx-10.8-intel.egg/scipy/optimize/zeros.py:149: RuntimeWarning: Tolerance of -4.07583991893e+16 reached\n",
        "  warnings.warn(msg, RuntimeWarning)\n"
       ]
      },
      {
       "output_type": "stream",
       "stream": "stderr",
       "text": [
        "/Library/Python/2.7/site-packages/scipy-0.13.0.dev_c31f167_20130514-py2.7-macosx-10.8-intel.egg/scipy/optimize/zeros.py:149: RuntimeWarning: Tolerance of 2.76716248923e+16 reached\n",
        "  warnings.warn(msg, RuntimeWarning)\n",
        "/Library/Python/2.7/site-packages/scipy-0.13.0.dev_c31f167_20130514-py2.7-macosx-10.8-intel.egg/scipy/optimize/zeros.py:149: RuntimeWarning: Tolerance of -2.21059472493e+18 reached\n",
        "  warnings.warn(msg, RuntimeWarning)\n"
       ]
      },
      {
       "output_type": "stream",
       "stream": "stderr",
       "text": [
        "/Library/Python/2.7/site-packages/scipy-0.13.0.dev_c31f167_20130514-py2.7-macosx-10.8-intel.egg/scipy/optimize/zeros.py:149: RuntimeWarning: Tolerance of -8537313279.0 reached\n",
        "  warnings.warn(msg, RuntimeWarning)\n",
        "/Library/Python/2.7/site-packages/scipy-0.13.0.dev_c31f167_20130514-py2.7-macosx-10.8-intel.egg/scipy/optimize/zeros.py:149: RuntimeWarning: Tolerance of -3.50341452199e+15 reached\n",
        "  warnings.warn(msg, RuntimeWarning)\n"
       ]
      },
      {
       "output_type": "stream",
       "stream": "stderr",
       "text": [
        "/Library/Python/2.7/site-packages/scipy-0.13.0.dev_c31f167_20130514-py2.7-macosx-10.8-intel.egg/scipy/optimize/zeros.py:149: RuntimeWarning: Tolerance of -4.03294566622e+18 reached\n",
        "  warnings.warn(msg, RuntimeWarning)\n",
        "/Library/Python/2.7/site-packages/scipy-0.13.0.dev_c31f167_20130514-py2.7-macosx-10.8-intel.egg/scipy/optimize/zeros.py:149: RuntimeWarning: Tolerance of -1.2509258265e+16 reached\n",
        "  warnings.warn(msg, RuntimeWarning)\n"
       ]
      },
      {
       "output_type": "stream",
       "stream": "stderr",
       "text": [
        "/Library/Python/2.7/site-packages/scipy-0.13.0.dev_c31f167_20130514-py2.7-macosx-10.8-intel.egg/scipy/optimize/zeros.py:149: RuntimeWarning: Tolerance of 1.96546740553e+14 reached\n",
        "  warnings.warn(msg, RuntimeWarning)\n",
        "/Library/Python/2.7/site-packages/scipy-0.13.0.dev_c31f167_20130514-py2.7-macosx-10.8-intel.egg/scipy/optimize/zeros.py:149: RuntimeWarning: Tolerance of 5.81166383507e+16 reached\n",
        "  warnings.warn(msg, RuntimeWarning)\n"
       ]
      },
      {
       "output_type": "stream",
       "stream": "stdout",
       "text": [
        "\n",
        "deleting item T1map_LL"
       ]
      },
      {
       "output_type": "stream",
       "stream": "stdout",
       "text": [
        "\n",
        "deleting item T1map_LL_fitdict"
       ]
      },
      {
       "output_type": "stream",
       "stream": "stderr",
       "text": [
        "WARNING:sarpy.io.BRUKERIO:NSLICES not equal to number of ACQ_obj_order\n"
       ]
      },
      {
       "output_type": "stream",
       "stream": "stderr",
       "text": [
        "/Library/Python/2.7/site-packages/scipy-0.13.0.dev_c31f167_20130514-py2.7-macosx-10.8-intel.egg/scipy/optimize/zeros.py:149: RuntimeWarning: Tolerance of -8.58819261023e+13 reached\n",
        "  warnings.warn(msg, RuntimeWarning)\n",
        "/Library/Python/2.7/site-packages/scipy-0.13.0.dev_c31f167_20130514-py2.7-macosx-10.8-intel.egg/scipy/optimize/zeros.py:149: RuntimeWarning: Tolerance of 2.73185838343e+15 reached\n",
        "  warnings.warn(msg, RuntimeWarning)\n"
       ]
      },
      {
       "output_type": "stream",
       "stream": "stderr",
       "text": [
        "/Library/Python/2.7/site-packages/scipy-0.13.0.dev_c31f167_20130514-py2.7-macosx-10.8-intel.egg/scipy/optimize/zeros.py:149: RuntimeWarning: Tolerance of -3.54891683881e+15 reached\n",
        "  warnings.warn(msg, RuntimeWarning)\n",
        "/Library/Python/2.7/site-packages/scipy-0.13.0.dev_c31f167_20130514-py2.7-macosx-10.8-intel.egg/scipy/optimize/zeros.py:149: RuntimeWarning: Tolerance of 4.37592574285e+15 reached\n",
        "  warnings.warn(msg, RuntimeWarning)\n"
       ]
      },
      {
       "output_type": "stream",
       "stream": "stderr",
       "text": [
        "/Library/Python/2.7/site-packages/scipy-0.13.0.dev_c31f167_20130514-py2.7-macosx-10.8-intel.egg/scipy/optimize/zeros.py:149: RuntimeWarning: Tolerance of 3.64157208387e+15 reached\n",
        "  warnings.warn(msg, RuntimeWarning)\n",
        "/Library/Python/2.7/site-packages/scipy-0.13.0.dev_c31f167_20130514-py2.7-macosx-10.8-intel.egg/scipy/optimize/zeros.py:149: RuntimeWarning: Tolerance of -1.20706295056e+14 reached\n",
        "  warnings.warn(msg, RuntimeWarning)\n"
       ]
      },
      {
       "output_type": "stream",
       "stream": "stderr",
       "text": [
        "/Library/Python/2.7/site-packages/scipy-0.13.0.dev_c31f167_20130514-py2.7-macosx-10.8-intel.egg/scipy/optimize/zeros.py:149: RuntimeWarning: Tolerance of 3.22932392566e+15 reached\n",
        "  warnings.warn(msg, RuntimeWarning)\n",
        "/Library/Python/2.7/site-packages/scipy-0.13.0.dev_c31f167_20130514-py2.7-macosx-10.8-intel.egg/scipy/optimize/zeros.py:149: RuntimeWarning: Tolerance of 8.14326545609e+14 reached\n",
        "  warnings.warn(msg, RuntimeWarning)\n"
       ]
      },
      {
       "output_type": "stream",
       "stream": "stderr",
       "text": [
        "/Library/Python/2.7/site-packages/scipy-0.13.0.dev_c31f167_20130514-py2.7-macosx-10.8-intel.egg/scipy/optimize/zeros.py:149: RuntimeWarning: Tolerance of -2.50176024816e+16 reached\n",
        "  warnings.warn(msg, RuntimeWarning)\n",
        "/Library/Python/2.7/site-packages/scipy-0.13.0.dev_c31f167_20130514-py2.7-macosx-10.8-intel.egg/scipy/optimize/zeros.py:149: RuntimeWarning: Tolerance of 1.02558713585e+15 reached\n",
        "  warnings.warn(msg, RuntimeWarning)\n"
       ]
      },
      {
       "output_type": "stream",
       "stream": "stderr",
       "text": [
        "/Library/Python/2.7/site-packages/scipy-0.13.0.dev_c31f167_20130514-py2.7-macosx-10.8-intel.egg/scipy/optimize/zeros.py:149: RuntimeWarning: Tolerance of -2.25180797954e+15 reached\n",
        "  warnings.warn(msg, RuntimeWarning)\n",
        "/Library/Python/2.7/site-packages/scipy-0.13.0.dev_c31f167_20130514-py2.7-macosx-10.8-intel.egg/scipy/optimize/zeros.py:149: RuntimeWarning: Tolerance of 3.26035547832e+15 reached\n",
        "  warnings.warn(msg, RuntimeWarning)\n"
       ]
      },
      {
       "output_type": "stream",
       "stream": "stderr",
       "text": [
        "/Library/Python/2.7/site-packages/scipy-0.13.0.dev_c31f167_20130514-py2.7-macosx-10.8-intel.egg/scipy/optimize/zeros.py:149: RuntimeWarning: Tolerance of 8.86684516929e+14 reached\n",
        "  warnings.warn(msg, RuntimeWarning)\n",
        "/Library/Python/2.7/site-packages/scipy-0.13.0.dev_c31f167_20130514-py2.7-macosx-10.8-intel.egg/scipy/optimize/zeros.py:149: RuntimeWarning: Tolerance of 1.5758119548e+14 reached\n",
        "  warnings.warn(msg, RuntimeWarning)\n"
       ]
      },
      {
       "output_type": "stream",
       "stream": "stderr",
       "text": [
        "/Library/Python/2.7/site-packages/scipy-0.13.0.dev_c31f167_20130514-py2.7-macosx-10.8-intel.egg/scipy/optimize/zeros.py:149: RuntimeWarning: Tolerance of 6.98968712371e+15 reached\n",
        "  warnings.warn(msg, RuntimeWarning)\n",
        "/Library/Python/2.7/site-packages/scipy-0.13.0.dev_c31f167_20130514-py2.7-macosx-10.8-intel.egg/scipy/optimize/zeros.py:149: RuntimeWarning: Tolerance of -3.43129115981e+15 reached\n",
        "  warnings.warn(msg, RuntimeWarning)\n"
       ]
      },
      {
       "output_type": "stream",
       "stream": "stderr",
       "text": [
        "/Library/Python/2.7/site-packages/scipy-0.13.0.dev_c31f167_20130514-py2.7-macosx-10.8-intel.egg/scipy/optimize/zeros.py:149: RuntimeWarning: Tolerance of 7.93241830816e+16 reached\n",
        "  warnings.warn(msg, RuntimeWarning)\n",
        "/Library/Python/2.7/site-packages/scipy-0.13.0.dev_c31f167_20130514-py2.7-macosx-10.8-intel.egg/scipy/optimize/zeros.py:149: RuntimeWarning: Tolerance of -1.0804684374e+15 reached\n",
        "  warnings.warn(msg, RuntimeWarning)\n"
       ]
      },
      {
       "output_type": "stream",
       "stream": "stderr",
       "text": [
        "/Library/Python/2.7/site-packages/scipy-0.13.0.dev_c31f167_20130514-py2.7-macosx-10.8-intel.egg/scipy/optimize/zeros.py:149: RuntimeWarning: Tolerance of 8.94661519622e+15 reached\n",
        "  warnings.warn(msg, RuntimeWarning)\n",
        "/Library/Python/2.7/site-packages/scipy-0.13.0.dev_c31f167_20130514-py2.7-macosx-10.8-intel.egg/scipy/optimize/zeros.py:149: RuntimeWarning: Tolerance of -5.52277474427e+14 reached\n",
        "  warnings.warn(msg, RuntimeWarning)\n"
       ]
      },
      {
       "output_type": "stream",
       "stream": "stderr",
       "text": [
        "/Library/Python/2.7/site-packages/scipy-0.13.0.dev_c31f167_20130514-py2.7-macosx-10.8-intel.egg/scipy/optimize/zeros.py:149: RuntimeWarning: Tolerance of -5.57035308749e+15 reached\n",
        "  warnings.warn(msg, RuntimeWarning)\n",
        "/Library/Python/2.7/site-packages/scipy-0.13.0.dev_c31f167_20130514-py2.7-macosx-10.8-intel.egg/scipy/optimize/zeros.py:149: RuntimeWarning: Tolerance of -3.9988780388e+14 reached\n",
        "  warnings.warn(msg, RuntimeWarning)\n"
       ]
      },
      {
       "output_type": "stream",
       "stream": "stderr",
       "text": [
        "/Library/Python/2.7/site-packages/scipy-0.13.0.dev_c31f167_20130514-py2.7-macosx-10.8-intel.egg/scipy/optimize/zeros.py:149: RuntimeWarning: Tolerance of -7.14251322295e+15 reached\n",
        "  warnings.warn(msg, RuntimeWarning)\n",
        "/Library/Python/2.7/site-packages/scipy-0.13.0.dev_c31f167_20130514-py2.7-macosx-10.8-intel.egg/scipy/optimize/zeros.py:149: RuntimeWarning: Tolerance of 9.71175097959e+14 reached\n",
        "  warnings.warn(msg, RuntimeWarning)\n"
       ]
      },
      {
       "output_type": "stream",
       "stream": "stderr",
       "text": [
        "/Library/Python/2.7/site-packages/scipy-0.13.0.dev_c31f167_20130514-py2.7-macosx-10.8-intel.egg/scipy/optimize/zeros.py:149: RuntimeWarning: Tolerance of -8.15027654333e+15 reached\n",
        "  warnings.warn(msg, RuntimeWarning)\n",
        "/Library/Python/2.7/site-packages/scipy-0.13.0.dev_c31f167_20130514-py2.7-macosx-10.8-intel.egg/scipy/optimize/zeros.py:149: RuntimeWarning: Tolerance of 3.1118653121e+15 reached\n",
        "  warnings.warn(msg, RuntimeWarning)\n"
       ]
      },
      {
       "output_type": "stream",
       "stream": "stderr",
       "text": [
        "/Library/Python/2.7/site-packages/scipy-0.13.0.dev_c31f167_20130514-py2.7-macosx-10.8-intel.egg/scipy/optimize/zeros.py:149: RuntimeWarning: Tolerance of -2.39313754612e+14 reached\n",
        "  warnings.warn(msg, RuntimeWarning)\n",
        "/Library/Python/2.7/site-packages/scipy-0.13.0.dev_c31f167_20130514-py2.7-macosx-10.8-intel.egg/scipy/optimize/zeros.py:149: RuntimeWarning: Tolerance of 74517717571.0 reached\n",
        "  warnings.warn(msg, RuntimeWarning)\n"
       ]
      },
      {
       "output_type": "stream",
       "stream": "stderr",
       "text": [
        "/Library/Python/2.7/site-packages/scipy-0.13.0.dev_c31f167_20130514-py2.7-macosx-10.8-intel.egg/scipy/optimize/zeros.py:149: RuntimeWarning: Tolerance of 2.79255355695e+16 reached\n",
        "  warnings.warn(msg, RuntimeWarning)\n",
        "/Library/Python/2.7/site-packages/scipy-0.13.0.dev_c31f167_20130514-py2.7-macosx-10.8-intel.egg/scipy/optimize/zeros.py:149: RuntimeWarning: Tolerance of -2.16998159885e-07 reached\n",
        "  warnings.warn(msg, RuntimeWarning)\n"
       ]
      },
      {
       "output_type": "stream",
       "stream": "stderr",
       "text": [
        "/Library/Python/2.7/site-packages/scipy-0.13.0.dev_c31f167_20130514-py2.7-macosx-10.8-intel.egg/scipy/optimize/zeros.py:149: RuntimeWarning: Tolerance of -8.64860244738e+15 reached\n",
        "  warnings.warn(msg, RuntimeWarning)\n",
        "/Library/Python/2.7/site-packages/scipy-0.13.0.dev_c31f167_20130514-py2.7-macosx-10.8-intel.egg/scipy/optimize/zeros.py:149: RuntimeWarning: Tolerance of 2.04663192351e+15 reached\n",
        "  warnings.warn(msg, RuntimeWarning)\n"
       ]
      },
      {
       "output_type": "stream",
       "stream": "stderr",
       "text": [
        "/Library/Python/2.7/site-packages/scipy-0.13.0.dev_c31f167_20130514-py2.7-macosx-10.8-intel.egg/scipy/optimize/zeros.py:149: RuntimeWarning: Tolerance of 3.71731060959e+15 reached\n",
        "  warnings.warn(msg, RuntimeWarning)\n",
        "/Library/Python/2.7/site-packages/scipy-0.13.0.dev_c31f167_20130514-py2.7-macosx-10.8-intel.egg/scipy/optimize/zeros.py:149: RuntimeWarning: Tolerance of 3.89925005571e+14 reached\n",
        "  warnings.warn(msg, RuntimeWarning)\n"
       ]
      },
      {
       "output_type": "stream",
       "stream": "stderr",
       "text": [
        "/Library/Python/2.7/site-packages/scipy-0.13.0.dev_c31f167_20130514-py2.7-macosx-10.8-intel.egg/scipy/optimize/zeros.py:149: RuntimeWarning: Tolerance of -9.90475933236e+14 reached\n",
        "  warnings.warn(msg, RuntimeWarning)\n",
        "/Library/Python/2.7/site-packages/scipy-0.13.0.dev_c31f167_20130514-py2.7-macosx-10.8-intel.egg/scipy/optimize/zeros.py:149: RuntimeWarning: Tolerance of -1.01494562751e+15 reached\n",
        "  warnings.warn(msg, RuntimeWarning)\n"
       ]
      },
      {
       "output_type": "stream",
       "stream": "stderr",
       "text": [
        "/Library/Python/2.7/site-packages/scipy-0.13.0.dev_c31f167_20130514-py2.7-macosx-10.8-intel.egg/scipy/optimize/zeros.py:149: RuntimeWarning: Tolerance of -2.44779553759e+16 reached\n",
        "  warnings.warn(msg, RuntimeWarning)\n",
        "/Library/Python/2.7/site-packages/scipy-0.13.0.dev_c31f167_20130514-py2.7-macosx-10.8-intel.egg/scipy/optimize/zeros.py:149: RuntimeWarning: Tolerance of 2.01843069055e+16 reached\n",
        "  warnings.warn(msg, RuntimeWarning)\n"
       ]
      },
      {
       "output_type": "stream",
       "stream": "stderr",
       "text": [
        "/Library/Python/2.7/site-packages/scipy-0.13.0.dev_c31f167_20130514-py2.7-macosx-10.8-intel.egg/scipy/optimize/zeros.py:149: RuntimeWarning: Tolerance of 8.94024474162e+14 reached\n",
        "  warnings.warn(msg, RuntimeWarning)\n",
        "/Library/Python/2.7/site-packages/scipy-0.13.0.dev_c31f167_20130514-py2.7-macosx-10.8-intel.egg/scipy/optimize/zeros.py:149: RuntimeWarning: Tolerance of -4.93630678411e+15 reached\n",
        "  warnings.warn(msg, RuntimeWarning)\n"
       ]
      },
      {
       "output_type": "stream",
       "stream": "stderr",
       "text": [
        "/Library/Python/2.7/site-packages/scipy-0.13.0.dev_c31f167_20130514-py2.7-macosx-10.8-intel.egg/scipy/optimize/zeros.py:149: RuntimeWarning: Tolerance of 3.00703228495e+15 reached\n",
        "  warnings.warn(msg, RuntimeWarning)\n",
        "/Library/Python/2.7/site-packages/scipy-0.13.0.dev_c31f167_20130514-py2.7-macosx-10.8-intel.egg/scipy/optimize/zeros.py:149: RuntimeWarning: Tolerance of -5.5280929956e+13 reached\n",
        "  warnings.warn(msg, RuntimeWarning)\n"
       ]
      },
      {
       "output_type": "stream",
       "stream": "stderr",
       "text": [
        "/Library/Python/2.7/site-packages/scipy-0.13.0.dev_c31f167_20130514-py2.7-macosx-10.8-intel.egg/scipy/optimize/zeros.py:149: RuntimeWarning: Tolerance of -1.52529909509e+16 reached\n",
        "  warnings.warn(msg, RuntimeWarning)\n",
        "/Library/Python/2.7/site-packages/scipy-0.13.0.dev_c31f167_20130514-py2.7-macosx-10.8-intel.egg/scipy/optimize/zeros.py:149: RuntimeWarning: Tolerance of -5.49169570664e+16 reached\n",
        "  warnings.warn(msg, RuntimeWarning)\n"
       ]
      },
      {
       "output_type": "stream",
       "stream": "stderr",
       "text": [
        "/Library/Python/2.7/site-packages/scipy-0.13.0.dev_c31f167_20130514-py2.7-macosx-10.8-intel.egg/scipy/optimize/zeros.py:149: RuntimeWarning: Tolerance of -1.46630033481e+16 reached\n",
        "  warnings.warn(msg, RuntimeWarning)\n",
        "/Library/Python/2.7/site-packages/scipy-0.13.0.dev_c31f167_20130514-py2.7-macosx-10.8-intel.egg/scipy/optimize/zeros.py:149: RuntimeWarning: Tolerance of 1.29457594642e+16 reached\n",
        "  warnings.warn(msg, RuntimeWarning)\n"
       ]
      },
      {
       "output_type": "stream",
       "stream": "stderr",
       "text": [
        "/Library/Python/2.7/site-packages/scipy-0.13.0.dev_c31f167_20130514-py2.7-macosx-10.8-intel.egg/scipy/optimize/zeros.py:149: RuntimeWarning: Tolerance of -4.18577346851e+15 reached\n",
        "  warnings.warn(msg, RuntimeWarning)\n",
        "/Library/Python/2.7/site-packages/scipy-0.13.0.dev_c31f167_20130514-py2.7-macosx-10.8-intel.egg/scipy/optimize/zeros.py:149: RuntimeWarning: Tolerance of -4.73602774298e+14 reached\n",
        "  warnings.warn(msg, RuntimeWarning)\n"
       ]
      },
      {
       "output_type": "stream",
       "stream": "stderr",
       "text": [
        "/Library/Python/2.7/site-packages/scipy-0.13.0.dev_c31f167_20130514-py2.7-macosx-10.8-intel.egg/scipy/optimize/zeros.py:149: RuntimeWarning: Tolerance of 1.33615781582e+13 reached\n",
        "  warnings.warn(msg, RuntimeWarning)\n",
        "/Library/Python/2.7/site-packages/scipy-0.13.0.dev_c31f167_20130514-py2.7-macosx-10.8-intel.egg/scipy/optimize/zeros.py:149: RuntimeWarning: Tolerance of -1.31411731836e+14 reached\n",
        "  warnings.warn(msg, RuntimeWarning)\n"
       ]
      },
      {
       "output_type": "stream",
       "stream": "stderr",
       "text": [
        "/Library/Python/2.7/site-packages/scipy-0.13.0.dev_c31f167_20130514-py2.7-macosx-10.8-intel.egg/scipy/optimize/zeros.py:149: RuntimeWarning: Tolerance of -4.25648686075e+14 reached\n",
        "  warnings.warn(msg, RuntimeWarning)\n",
        "/Library/Python/2.7/site-packages/scipy-0.13.0.dev_c31f167_20130514-py2.7-macosx-10.8-intel.egg/scipy/optimize/zeros.py:149: RuntimeWarning: Tolerance of -5.75733761811e+16 reached\n",
        "  warnings.warn(msg, RuntimeWarning)\n"
       ]
      },
      {
       "output_type": "stream",
       "stream": "stderr",
       "text": [
        "/Library/Python/2.7/site-packages/scipy-0.13.0.dev_c31f167_20130514-py2.7-macosx-10.8-intel.egg/scipy/optimize/zeros.py:149: RuntimeWarning: Tolerance of 5.90827947355e+12 reached\n",
        "  warnings.warn(msg, RuntimeWarning)\n",
        "/Library/Python/2.7/site-packages/scipy-0.13.0.dev_c31f167_20130514-py2.7-macosx-10.8-intel.egg/scipy/optimize/zeros.py:149: RuntimeWarning: Tolerance of -1.48920958132e+13 reached\n",
        "  warnings.warn(msg, RuntimeWarning)\n"
       ]
      },
      {
       "output_type": "stream",
       "stream": "stderr",
       "text": [
        "/Library/Python/2.7/site-packages/scipy-0.13.0.dev_c31f167_20130514-py2.7-macosx-10.8-intel.egg/scipy/optimize/zeros.py:149: RuntimeWarning: Tolerance of -6.13410508051e+15 reached\n",
        "  warnings.warn(msg, RuntimeWarning)\n",
        "/Library/Python/2.7/site-packages/scipy-0.13.0.dev_c31f167_20130514-py2.7-macosx-10.8-intel.egg/scipy/optimize/zeros.py:149: RuntimeWarning: Tolerance of 4.32117107097e+15 reached\n",
        "  warnings.warn(msg, RuntimeWarning)\n"
       ]
      },
      {
       "output_type": "stream",
       "stream": "stderr",
       "text": [
        "/Library/Python/2.7/site-packages/scipy-0.13.0.dev_c31f167_20130514-py2.7-macosx-10.8-intel.egg/scipy/optimize/zeros.py:149: RuntimeWarning: Tolerance of 73715383509.0 reached\n",
        "  warnings.warn(msg, RuntimeWarning)\n",
        "/Library/Python/2.7/site-packages/scipy-0.13.0.dev_c31f167_20130514-py2.7-macosx-10.8-intel.egg/scipy/optimize/zeros.py:149: RuntimeWarning: Tolerance of 5.55480555265e+16 reached\n",
        "  warnings.warn(msg, RuntimeWarning)\n"
       ]
      },
      {
       "output_type": "stream",
       "stream": "stderr",
       "text": [
        "/Library/Python/2.7/site-packages/scipy-0.13.0.dev_c31f167_20130514-py2.7-macosx-10.8-intel.egg/scipy/optimize/zeros.py:149: RuntimeWarning: Tolerance of -7.81145356789e+12 reached\n",
        "  warnings.warn(msg, RuntimeWarning)\n",
        "/Library/Python/2.7/site-packages/scipy-0.13.0.dev_c31f167_20130514-py2.7-macosx-10.8-intel.egg/scipy/optimize/zeros.py:149: RuntimeWarning: Tolerance of -5.99331602389e+14 reached\n",
        "  warnings.warn(msg, RuntimeWarning)\n"
       ]
      },
      {
       "output_type": "stream",
       "stream": "stderr",
       "text": [
        "/Library/Python/2.7/site-packages/scipy-0.13.0.dev_c31f167_20130514-py2.7-macosx-10.8-intel.egg/scipy/optimize/zeros.py:149: RuntimeWarning: Tolerance of 1.86214195427e+14 reached\n",
        "  warnings.warn(msg, RuntimeWarning)\n",
        "/Library/Python/2.7/site-packages/scipy-0.13.0.dev_c31f167_20130514-py2.7-macosx-10.8-intel.egg/scipy/optimize/zeros.py:149: RuntimeWarning: Tolerance of 1.85965734059e+16 reached\n",
        "  warnings.warn(msg, RuntimeWarning)\n"
       ]
      },
      {
       "output_type": "stream",
       "stream": "stderr",
       "text": [
        "/Library/Python/2.7/site-packages/scipy-0.13.0.dev_c31f167_20130514-py2.7-macosx-10.8-intel.egg/scipy/optimize/zeros.py:149: RuntimeWarning: Tolerance of 3.19235733341e+16 reached\n",
        "  warnings.warn(msg, RuntimeWarning)\n",
        "/Library/Python/2.7/site-packages/scipy-0.13.0.dev_c31f167_20130514-py2.7-macosx-10.8-intel.egg/scipy/optimize/zeros.py:149: RuntimeWarning: Tolerance of -1.68658988791e+16 reached\n",
        "  warnings.warn(msg, RuntimeWarning)\n"
       ]
      },
      {
       "output_type": "stream",
       "stream": "stderr",
       "text": [
        "/Library/Python/2.7/site-packages/scipy-0.13.0.dev_c31f167_20130514-py2.7-macosx-10.8-intel.egg/scipy/optimize/zeros.py:149: RuntimeWarning: Tolerance of -4.22881373143e+15 reached\n",
        "  warnings.warn(msg, RuntimeWarning)\n",
        "/Library/Python/2.7/site-packages/scipy-0.13.0.dev_c31f167_20130514-py2.7-macosx-10.8-intel.egg/scipy/optimize/zeros.py:149: RuntimeWarning: Tolerance of 4.78568703205e+17 reached\n",
        "  warnings.warn(msg, RuntimeWarning)\n"
       ]
      },
      {
       "output_type": "stream",
       "stream": "stderr",
       "text": [
        "/Library/Python/2.7/site-packages/scipy-0.13.0.dev_c31f167_20130514-py2.7-macosx-10.8-intel.egg/scipy/optimize/zeros.py:149: RuntimeWarning: Tolerance of 1.40141838352e+17 reached\n",
        "  warnings.warn(msg, RuntimeWarning)\n",
        "/Library/Python/2.7/site-packages/scipy-0.13.0.dev_c31f167_20130514-py2.7-macosx-10.8-intel.egg/scipy/optimize/zeros.py:149: RuntimeWarning: Tolerance of -1.43935507043e+17 reached\n",
        "  warnings.warn(msg, RuntimeWarning)\n"
       ]
      },
      {
       "output_type": "stream",
       "stream": "stderr",
       "text": [
        "/Library/Python/2.7/site-packages/scipy-0.13.0.dev_c31f167_20130514-py2.7-macosx-10.8-intel.egg/scipy/optimize/zeros.py:149: RuntimeWarning: Tolerance of -2.68066454292e+15 reached\n",
        "  warnings.warn(msg, RuntimeWarning)\n",
        "/Library/Python/2.7/site-packages/scipy-0.13.0.dev_c31f167_20130514-py2.7-macosx-10.8-intel.egg/scipy/optimize/zeros.py:149: RuntimeWarning: Tolerance of -1.11119574004e+14 reached\n",
        "  warnings.warn(msg, RuntimeWarning)\n"
       ]
      },
      {
       "output_type": "stream",
       "stream": "stderr",
       "text": [
        "/Library/Python/2.7/site-packages/scipy-0.13.0.dev_c31f167_20130514-py2.7-macosx-10.8-intel.egg/scipy/optimize/zeros.py:149: RuntimeWarning: Tolerance of -1.01869248851e+16 reached\n",
        "  warnings.warn(msg, RuntimeWarning)\n",
        "/Library/Python/2.7/site-packages/scipy-0.13.0.dev_c31f167_20130514-py2.7-macosx-10.8-intel.egg/scipy/optimize/zeros.py:149: RuntimeWarning: Tolerance of -1.38357081292e+15 reached\n",
        "  warnings.warn(msg, RuntimeWarning)\n"
       ]
      },
      {
       "output_type": "stream",
       "stream": "stderr",
       "text": [
        "/Library/Python/2.7/site-packages/scipy-0.13.0.dev_c31f167_20130514-py2.7-macosx-10.8-intel.egg/scipy/optimize/zeros.py:149: RuntimeWarning: Tolerance of 8.71708106644e+15 reached\n",
        "  warnings.warn(msg, RuntimeWarning)\n",
        "/Library/Python/2.7/site-packages/scipy-0.13.0.dev_c31f167_20130514-py2.7-macosx-10.8-intel.egg/scipy/optimize/zeros.py:149: RuntimeWarning: Tolerance of 3.13688651156e+16 reached\n",
        "  warnings.warn(msg, RuntimeWarning)\n"
       ]
      },
      {
       "output_type": "stream",
       "stream": "stderr",
       "text": [
        "/Library/Python/2.7/site-packages/scipy-0.13.0.dev_c31f167_20130514-py2.7-macosx-10.8-intel.egg/scipy/optimize/zeros.py:149: RuntimeWarning: Tolerance of 1.74654237556e+16 reached\n",
        "  warnings.warn(msg, RuntimeWarning)\n",
        "/Library/Python/2.7/site-packages/scipy-0.13.0.dev_c31f167_20130514-py2.7-macosx-10.8-intel.egg/scipy/optimize/zeros.py:149: RuntimeWarning: Tolerance of -7.09305960652e+13 reached\n",
        "  warnings.warn(msg, RuntimeWarning)\n"
       ]
      },
      {
       "output_type": "stream",
       "stream": "stderr",
       "text": [
        "/Library/Python/2.7/site-packages/scipy-0.13.0.dev_c31f167_20130514-py2.7-macosx-10.8-intel.egg/scipy/optimize/zeros.py:149: RuntimeWarning: Tolerance of -6.54668282076e+15 reached\n",
        "  warnings.warn(msg, RuntimeWarning)\n",
        "/Library/Python/2.7/site-packages/scipy-0.13.0.dev_c31f167_20130514-py2.7-macosx-10.8-intel.egg/scipy/optimize/zeros.py:149: RuntimeWarning: Tolerance of -7.93308560013e+14 reached\n",
        "  warnings.warn(msg, RuntimeWarning)\n"
       ]
      },
      {
       "output_type": "stream",
       "stream": "stderr",
       "text": [
        "/Library/Python/2.7/site-packages/scipy-0.13.0.dev_c31f167_20130514-py2.7-macosx-10.8-intel.egg/scipy/optimize/zeros.py:149: RuntimeWarning: Tolerance of 2.86170420602e+14 reached\n",
        "  warnings.warn(msg, RuntimeWarning)\n",
        "/Library/Python/2.7/site-packages/scipy-0.13.0.dev_c31f167_20130514-py2.7-macosx-10.8-intel.egg/scipy/optimize/zeros.py:149: RuntimeWarning: Tolerance of -4.8394154193e+16 reached\n",
        "  warnings.warn(msg, RuntimeWarning)\n"
       ]
      },
      {
       "output_type": "stream",
       "stream": "stderr",
       "text": [
        "/Library/Python/2.7/site-packages/scipy-0.13.0.dev_c31f167_20130514-py2.7-macosx-10.8-intel.egg/scipy/optimize/zeros.py:149: RuntimeWarning: Tolerance of 2.48105128399e+16 reached\n",
        "  warnings.warn(msg, RuntimeWarning)\n",
        "/Library/Python/2.7/site-packages/scipy-0.13.0.dev_c31f167_20130514-py2.7-macosx-10.8-intel.egg/scipy/optimize/zeros.py:149: RuntimeWarning: Tolerance of -1.24047108356e+16 reached\n",
        "  warnings.warn(msg, RuntimeWarning)\n"
       ]
      },
      {
       "output_type": "stream",
       "stream": "stderr",
       "text": [
        "/Library/Python/2.7/site-packages/scipy-0.13.0.dev_c31f167_20130514-py2.7-macosx-10.8-intel.egg/scipy/optimize/zeros.py:149: RuntimeWarning: Tolerance of -7.20212125456e+15 reached\n",
        "  warnings.warn(msg, RuntimeWarning)\n",
        "/Library/Python/2.7/site-packages/scipy-0.13.0.dev_c31f167_20130514-py2.7-macosx-10.8-intel.egg/scipy/optimize/zeros.py:149: RuntimeWarning: Tolerance of -4.32690426259e+15 reached\n",
        "  warnings.warn(msg, RuntimeWarning)\n"
       ]
      },
      {
       "output_type": "stream",
       "stream": "stderr",
       "text": [
        "/Library/Python/2.7/site-packages/scipy-0.13.0.dev_c31f167_20130514-py2.7-macosx-10.8-intel.egg/scipy/optimize/zeros.py:149: RuntimeWarning: Tolerance of 5.29178846784e+15 reached\n",
        "  warnings.warn(msg, RuntimeWarning)\n",
        "/Library/Python/2.7/site-packages/scipy-0.13.0.dev_c31f167_20130514-py2.7-macosx-10.8-intel.egg/scipy/optimize/zeros.py:149: RuntimeWarning: Tolerance of -2.6536908906e+13 reached\n",
        "  warnings.warn(msg, RuntimeWarning)\n"
       ]
      },
      {
       "output_type": "stream",
       "stream": "stderr",
       "text": [
        "/Library/Python/2.7/site-packages/scipy-0.13.0.dev_c31f167_20130514-py2.7-macosx-10.8-intel.egg/scipy/optimize/zeros.py:149: RuntimeWarning: Tolerance of -3.01088341228e+16 reached\n",
        "  warnings.warn(msg, RuntimeWarning)\n",
        "/Library/Python/2.7/site-packages/scipy-0.13.0.dev_c31f167_20130514-py2.7-macosx-10.8-intel.egg/scipy/optimize/zeros.py:149: RuntimeWarning: Tolerance of -1.85877414901e+16 reached\n",
        "  warnings.warn(msg, RuntimeWarning)\n"
       ]
      },
      {
       "output_type": "stream",
       "stream": "stderr",
       "text": [
        "/Library/Python/2.7/site-packages/scipy-0.13.0.dev_c31f167_20130514-py2.7-macosx-10.8-intel.egg/scipy/optimize/zeros.py:149: RuntimeWarning: Tolerance of 4.81761246523e+14 reached\n",
        "  warnings.warn(msg, RuntimeWarning)\n",
        "/Library/Python/2.7/site-packages/scipy-0.13.0.dev_c31f167_20130514-py2.7-macosx-10.8-intel.egg/scipy/optimize/zeros.py:149: RuntimeWarning: Tolerance of 5.39655674727e+15 reached\n",
        "  warnings.warn(msg, RuntimeWarning)\n"
       ]
      },
      {
       "output_type": "stream",
       "stream": "stderr",
       "text": [
        "/Library/Python/2.7/site-packages/scipy-0.13.0.dev_c31f167_20130514-py2.7-macosx-10.8-intel.egg/scipy/optimize/zeros.py:149: RuntimeWarning: Tolerance of 4.78389901932e+15 reached\n",
        "  warnings.warn(msg, RuntimeWarning)\n",
        "/Library/Python/2.7/site-packages/scipy-0.13.0.dev_c31f167_20130514-py2.7-macosx-10.8-intel.egg/scipy/optimize/zeros.py:149: RuntimeWarning: Tolerance of 4.58578146761e+15 reached\n",
        "  warnings.warn(msg, RuntimeWarning)\n"
       ]
      },
      {
       "output_type": "stream",
       "stream": "stderr",
       "text": [
        "/Library/Python/2.7/site-packages/scipy-0.13.0.dev_c31f167_20130514-py2.7-macosx-10.8-intel.egg/scipy/optimize/zeros.py:149: RuntimeWarning: Tolerance of -3.92397611963e+16 reached\n",
        "  warnings.warn(msg, RuntimeWarning)\n",
        "/Library/Python/2.7/site-packages/scipy-0.13.0.dev_c31f167_20130514-py2.7-macosx-10.8-intel.egg/scipy/optimize/zeros.py:149: RuntimeWarning: Tolerance of -1.93566145313e+16 reached\n",
        "  warnings.warn(msg, RuntimeWarning)\n"
       ]
      },
      {
       "output_type": "stream",
       "stream": "stdout",
       "text": [
        "\n",
        "deleting item T1map_LL"
       ]
      },
      {
       "output_type": "stream",
       "stream": "stdout",
       "text": [
        "\n",
        "deleting item T1map_LL_fitdict"
       ]
      },
      {
       "output_type": "stream",
       "stream": "stderr",
       "text": [
        "WARNING:sarpy.io.BRUKERIO:NSLICES not equal to number of ACQ_obj_order\n"
       ]
      },
      {
       "output_type": "stream",
       "stream": "stderr",
       "text": [
        "/Library/Python/2.7/site-packages/scipy-0.13.0.dev_c31f167_20130514-py2.7-macosx-10.8-intel.egg/scipy/optimize/zeros.py:149: RuntimeWarning: Tolerance of -1.68919212521e+13 reached\n",
        "  warnings.warn(msg, RuntimeWarning)\n",
        "/Library/Python/2.7/site-packages/scipy-0.13.0.dev_c31f167_20130514-py2.7-macosx-10.8-intel.egg/scipy/optimize/zeros.py:149: RuntimeWarning: Tolerance of -3.65588050315e+14 reached\n",
        "  warnings.warn(msg, RuntimeWarning)\n"
       ]
      },
      {
       "output_type": "stream",
       "stream": "stderr",
       "text": [
        "/Library/Python/2.7/site-packages/scipy-0.13.0.dev_c31f167_20130514-py2.7-macosx-10.8-intel.egg/scipy/optimize/zeros.py:149: RuntimeWarning: Tolerance of -1.7725010234e+15 reached\n",
        "  warnings.warn(msg, RuntimeWarning)\n",
        "/Library/Python/2.7/site-packages/scipy-0.13.0.dev_c31f167_20130514-py2.7-macosx-10.8-intel.egg/scipy/optimize/zeros.py:149: RuntimeWarning: Tolerance of 1.48952707012e+14 reached\n",
        "  warnings.warn(msg, RuntimeWarning)\n"
       ]
      },
      {
       "output_type": "stream",
       "stream": "stderr",
       "text": [
        "/Library/Python/2.7/site-packages/scipy-0.13.0.dev_c31f167_20130514-py2.7-macosx-10.8-intel.egg/scipy/optimize/zeros.py:149: RuntimeWarning: Tolerance of -2.96071967656e+15 reached\n",
        "  warnings.warn(msg, RuntimeWarning)\n",
        "/Library/Python/2.7/site-packages/scipy-0.13.0.dev_c31f167_20130514-py2.7-macosx-10.8-intel.egg/scipy/optimize/zeros.py:149: RuntimeWarning: Tolerance of 2.85100153966e+16 reached\n",
        "  warnings.warn(msg, RuntimeWarning)\n"
       ]
      },
      {
       "output_type": "stream",
       "stream": "stderr",
       "text": [
        "/Library/Python/2.7/site-packages/scipy-0.13.0.dev_c31f167_20130514-py2.7-macosx-10.8-intel.egg/scipy/optimize/zeros.py:149: RuntimeWarning: Tolerance of 4.61939817226e+15 reached\n",
        "  warnings.warn(msg, RuntimeWarning)\n",
        "/Library/Python/2.7/site-packages/scipy-0.13.0.dev_c31f167_20130514-py2.7-macosx-10.8-intel.egg/scipy/optimize/zeros.py:149: RuntimeWarning: Tolerance of 4.44121707726e+14 reached\n",
        "  warnings.warn(msg, RuntimeWarning)\n"
       ]
      },
      {
       "output_type": "stream",
       "stream": "stderr",
       "text": [
        "/Library/Python/2.7/site-packages/scipy-0.13.0.dev_c31f167_20130514-py2.7-macosx-10.8-intel.egg/scipy/optimize/zeros.py:149: RuntimeWarning: Tolerance of 9.59568297088e+13 reached\n",
        "  warnings.warn(msg, RuntimeWarning)\n",
        "/Library/Python/2.7/site-packages/scipy-0.13.0.dev_c31f167_20130514-py2.7-macosx-10.8-intel.egg/scipy/optimize/zeros.py:149: RuntimeWarning: Tolerance of -1.56462192535e-07 reached\n",
        "  warnings.warn(msg, RuntimeWarning)\n"
       ]
      },
      {
       "output_type": "stream",
       "stream": "stderr",
       "text": [
        "/Library/Python/2.7/site-packages/scipy-0.13.0.dev_c31f167_20130514-py2.7-macosx-10.8-intel.egg/scipy/optimize/zeros.py:149: RuntimeWarning: Tolerance of -3.88150342839e+14 reached\n",
        "  warnings.warn(msg, RuntimeWarning)\n",
        "/Library/Python/2.7/site-packages/scipy-0.13.0.dev_c31f167_20130514-py2.7-macosx-10.8-intel.egg/scipy/optimize/zeros.py:149: RuntimeWarning: Tolerance of 8.96627680126e+14 reached\n",
        "  warnings.warn(msg, RuntimeWarning)\n"
       ]
      },
      {
       "output_type": "stream",
       "stream": "stderr",
       "text": [
        "/Library/Python/2.7/site-packages/scipy-0.13.0.dev_c31f167_20130514-py2.7-macosx-10.8-intel.egg/scipy/optimize/zeros.py:149: RuntimeWarning: Tolerance of 3.06743993217e+14 reached\n",
        "  warnings.warn(msg, RuntimeWarning)\n",
        "/Library/Python/2.7/site-packages/scipy-0.13.0.dev_c31f167_20130514-py2.7-macosx-10.8-intel.egg/scipy/optimize/zeros.py:149: RuntimeWarning: Tolerance of 3.30619513988e-08 reached\n",
        "  warnings.warn(msg, RuntimeWarning)\n"
       ]
      },
      {
       "output_type": "stream",
       "stream": "stderr",
       "text": [
        "/Library/Python/2.7/site-packages/scipy-0.13.0.dev_c31f167_20130514-py2.7-macosx-10.8-intel.egg/scipy/optimize/zeros.py:149: RuntimeWarning: Tolerance of -5.62817670556e+16 reached\n",
        "  warnings.warn(msg, RuntimeWarning)\n",
        "/Library/Python/2.7/site-packages/scipy-0.13.0.dev_c31f167_20130514-py2.7-macosx-10.8-intel.egg/scipy/optimize/zeros.py:149: RuntimeWarning: Tolerance of -4.69954282435e+16 reached\n",
        "  warnings.warn(msg, RuntimeWarning)\n"
       ]
      },
      {
       "output_type": "stream",
       "stream": "stderr",
       "text": [
        "/Library/Python/2.7/site-packages/scipy-0.13.0.dev_c31f167_20130514-py2.7-macosx-10.8-intel.egg/scipy/optimize/zeros.py:149: RuntimeWarning: Tolerance of 7.21499817818e+14 reached\n",
        "  warnings.warn(msg, RuntimeWarning)\n",
        "/Library/Python/2.7/site-packages/scipy-0.13.0.dev_c31f167_20130514-py2.7-macosx-10.8-intel.egg/scipy/optimize/zeros.py:149: RuntimeWarning: Tolerance of 2.42041610784e+14 reached\n",
        "  warnings.warn(msg, RuntimeWarning)\n"
       ]
      },
      {
       "output_type": "stream",
       "stream": "stderr",
       "text": [
        "/Library/Python/2.7/site-packages/scipy-0.13.0.dev_c31f167_20130514-py2.7-macosx-10.8-intel.egg/scipy/optimize/zeros.py:149: RuntimeWarning: Tolerance of 2.007066183e+13 reached\n",
        "  warnings.warn(msg, RuntimeWarning)\n",
        "/Library/Python/2.7/site-packages/scipy-0.13.0.dev_c31f167_20130514-py2.7-macosx-10.8-intel.egg/scipy/optimize/zeros.py:149: RuntimeWarning: Tolerance of -1.85948435563e+15 reached\n",
        "  warnings.warn(msg, RuntimeWarning)\n"
       ]
      },
      {
       "output_type": "stream",
       "stream": "stderr",
       "text": [
        "/Library/Python/2.7/site-packages/scipy-0.13.0.dev_c31f167_20130514-py2.7-macosx-10.8-intel.egg/scipy/optimize/zeros.py:149: RuntimeWarning: Tolerance of -1.02312592507e+16 reached\n",
        "  warnings.warn(msg, RuntimeWarning)\n",
        "/Library/Python/2.7/site-packages/scipy-0.13.0.dev_c31f167_20130514-py2.7-macosx-10.8-intel.egg/scipy/optimize/zeros.py:149: RuntimeWarning: Tolerance of 6.49346767118e+15 reached\n",
        "  warnings.warn(msg, RuntimeWarning)\n"
       ]
      },
      {
       "output_type": "stream",
       "stream": "stderr",
       "text": [
        "/Library/Python/2.7/site-packages/scipy-0.13.0.dev_c31f167_20130514-py2.7-macosx-10.8-intel.egg/scipy/optimize/zeros.py:149: RuntimeWarning: Tolerance of -2.36667092354e+14 reached\n",
        "  warnings.warn(msg, RuntimeWarning)\n",
        "/Library/Python/2.7/site-packages/scipy-0.13.0.dev_c31f167_20130514-py2.7-macosx-10.8-intel.egg/scipy/optimize/zeros.py:149: RuntimeWarning: Tolerance of 4.65232544478e+15 reached\n",
        "  warnings.warn(msg, RuntimeWarning)\n"
       ]
      },
      {
       "output_type": "stream",
       "stream": "stderr",
       "text": [
        "/Library/Python/2.7/site-packages/scipy-0.13.0.dev_c31f167_20130514-py2.7-macosx-10.8-intel.egg/scipy/optimize/zeros.py:149: RuntimeWarning: Tolerance of 6.40414327396e+12 reached\n",
        "  warnings.warn(msg, RuntimeWarning)\n",
        "/Library/Python/2.7/site-packages/scipy-0.13.0.dev_c31f167_20130514-py2.7-macosx-10.8-intel.egg/scipy/optimize/zeros.py:149: RuntimeWarning: Tolerance of 1.5131897723e+15 reached\n",
        "  warnings.warn(msg, RuntimeWarning)\n"
       ]
      },
      {
       "output_type": "stream",
       "stream": "stderr",
       "text": [
        "/Library/Python/2.7/site-packages/scipy-0.13.0.dev_c31f167_20130514-py2.7-macosx-10.8-intel.egg/scipy/optimize/zeros.py:149: RuntimeWarning: Tolerance of -8.38043974893e+13 reached\n",
        "  warnings.warn(msg, RuntimeWarning)\n",
        "/Library/Python/2.7/site-packages/scipy-0.13.0.dev_c31f167_20130514-py2.7-macosx-10.8-intel.egg/scipy/optimize/zeros.py:149: RuntimeWarning: Tolerance of -1.71002569285e+15 reached\n",
        "  warnings.warn(msg, RuntimeWarning)\n"
       ]
      },
      {
       "output_type": "stream",
       "stream": "stderr",
       "text": [
        "/Library/Python/2.7/site-packages/scipy-0.13.0.dev_c31f167_20130514-py2.7-macosx-10.8-intel.egg/scipy/optimize/zeros.py:149: RuntimeWarning: Tolerance of 2.68328273723e+12 reached\n",
        "  warnings.warn(msg, RuntimeWarning)\n",
        "/Library/Python/2.7/site-packages/scipy-0.13.0.dev_c31f167_20130514-py2.7-macosx-10.8-intel.egg/scipy/optimize/zeros.py:149: RuntimeWarning: Tolerance of 1.43306796781e+14 reached\n",
        "  warnings.warn(msg, RuntimeWarning)\n"
       ]
      },
      {
       "output_type": "stream",
       "stream": "stderr",
       "text": [
        "/Library/Python/2.7/site-packages/scipy-0.13.0.dev_c31f167_20130514-py2.7-macosx-10.8-intel.egg/scipy/optimize/zeros.py:149: RuntimeWarning: Tolerance of -6.96795022754e+14 reached\n",
        "  warnings.warn(msg, RuntimeWarning)\n",
        "/Library/Python/2.7/site-packages/scipy-0.13.0.dev_c31f167_20130514-py2.7-macosx-10.8-intel.egg/scipy/optimize/zeros.py:149: RuntimeWarning: Tolerance of 5.58931376167e+14 reached\n",
        "  warnings.warn(msg, RuntimeWarning)\n"
       ]
      },
      {
       "output_type": "stream",
       "stream": "stderr",
       "text": [
        "/Library/Python/2.7/site-packages/scipy-0.13.0.dev_c31f167_20130514-py2.7-macosx-10.8-intel.egg/scipy/optimize/zeros.py:149: RuntimeWarning: Tolerance of -1.8835341392e+16 reached\n",
        "  warnings.warn(msg, RuntimeWarning)\n",
        "/Library/Python/2.7/site-packages/scipy-0.13.0.dev_c31f167_20130514-py2.7-macosx-10.8-intel.egg/scipy/optimize/zeros.py:149: RuntimeWarning: Tolerance of 8.68374276719e+15 reached\n",
        "  warnings.warn(msg, RuntimeWarning)\n"
       ]
      },
      {
       "output_type": "stream",
       "stream": "stderr",
       "text": [
        "/Library/Python/2.7/site-packages/scipy-0.13.0.dev_c31f167_20130514-py2.7-macosx-10.8-intel.egg/scipy/optimize/zeros.py:149: RuntimeWarning: Tolerance of -2.62945358578e+16 reached\n",
        "  warnings.warn(msg, RuntimeWarning)\n",
        "/Library/Python/2.7/site-packages/scipy-0.13.0.dev_c31f167_20130514-py2.7-macosx-10.8-intel.egg/scipy/optimize/zeros.py:149: RuntimeWarning: Tolerance of 3.75060853004e+16 reached\n",
        "  warnings.warn(msg, RuntimeWarning)\n"
       ]
      },
      {
       "output_type": "stream",
       "stream": "stderr",
       "text": [
        "/Library/Python/2.7/site-packages/scipy-0.13.0.dev_c31f167_20130514-py2.7-macosx-10.8-intel.egg/scipy/optimize/zeros.py:149: RuntimeWarning: Tolerance of -1.83737331128e+16 reached\n",
        "  warnings.warn(msg, RuntimeWarning)\n",
        "/Library/Python/2.7/site-packages/scipy-0.13.0.dev_c31f167_20130514-py2.7-macosx-10.8-intel.egg/scipy/optimize/zeros.py:149: RuntimeWarning: Tolerance of -6.98495056966e+15 reached\n",
        "  warnings.warn(msg, RuntimeWarning)\n"
       ]
      },
      {
       "output_type": "stream",
       "stream": "stderr",
       "text": [
        "/Library/Python/2.7/site-packages/scipy-0.13.0.dev_c31f167_20130514-py2.7-macosx-10.8-intel.egg/scipy/optimize/zeros.py:149: RuntimeWarning: Tolerance of 3.35889723034e+15 reached\n",
        "  warnings.warn(msg, RuntimeWarning)\n",
        "/Library/Python/2.7/site-packages/scipy-0.13.0.dev_c31f167_20130514-py2.7-macosx-10.8-intel.egg/scipy/optimize/zeros.py:149: RuntimeWarning: Tolerance of 8.12031590789e+15 reached\n",
        "  warnings.warn(msg, RuntimeWarning)\n"
       ]
      },
      {
       "output_type": "stream",
       "stream": "stderr",
       "text": [
        "/Library/Python/2.7/site-packages/scipy-0.13.0.dev_c31f167_20130514-py2.7-macosx-10.8-intel.egg/scipy/optimize/zeros.py:149: RuntimeWarning: Tolerance of -3.03087885824e+16 reached\n",
        "  warnings.warn(msg, RuntimeWarning)\n",
        "/Library/Python/2.7/site-packages/scipy-0.13.0.dev_c31f167_20130514-py2.7-macosx-10.8-intel.egg/scipy/optimize/zeros.py:149: RuntimeWarning: Tolerance of -3.19242329845e+16 reached\n",
        "  warnings.warn(msg, RuntimeWarning)\n"
       ]
      },
      {
       "output_type": "stream",
       "stream": "stderr",
       "text": [
        "/Library/Python/2.7/site-packages/scipy-0.13.0.dev_c31f167_20130514-py2.7-macosx-10.8-intel.egg/scipy/optimize/zeros.py:149: RuntimeWarning: Tolerance of -4.17939321479e+14 reached\n",
        "  warnings.warn(msg, RuntimeWarning)\n",
        "/Library/Python/2.7/site-packages/scipy-0.13.0.dev_c31f167_20130514-py2.7-macosx-10.8-intel.egg/scipy/optimize/zeros.py:149: RuntimeWarning: Tolerance of -7.43381088711e+15 reached\n",
        "  warnings.warn(msg, RuntimeWarning)\n"
       ]
      },
      {
       "output_type": "stream",
       "stream": "stderr",
       "text": [
        "/Library/Python/2.7/site-packages/scipy-0.13.0.dev_c31f167_20130514-py2.7-macosx-10.8-intel.egg/scipy/optimize/zeros.py:149: RuntimeWarning: Tolerance of 1.68037543942e+17 reached\n",
        "  warnings.warn(msg, RuntimeWarning)\n",
        "/Library/Python/2.7/site-packages/scipy-0.13.0.dev_c31f167_20130514-py2.7-macosx-10.8-intel.egg/scipy/optimize/zeros.py:149: RuntimeWarning: Tolerance of 1.90165915834e+16 reached\n",
        "  warnings.warn(msg, RuntimeWarning)\n"
       ]
      },
      {
       "output_type": "stream",
       "stream": "stderr",
       "text": [
        "/Library/Python/2.7/site-packages/scipy-0.13.0.dev_c31f167_20130514-py2.7-macosx-10.8-intel.egg/scipy/optimize/zeros.py:149: RuntimeWarning: Tolerance of 6.7353826806e+16 reached\n",
        "  warnings.warn(msg, RuntimeWarning)\n",
        "/Library/Python/2.7/site-packages/scipy-0.13.0.dev_c31f167_20130514-py2.7-macosx-10.8-intel.egg/scipy/optimize/zeros.py:149: RuntimeWarning: Tolerance of 3.98597420869e+15 reached\n",
        "  warnings.warn(msg, RuntimeWarning)\n"
       ]
      },
      {
       "output_type": "stream",
       "stream": "stderr",
       "text": [
        "/Library/Python/2.7/site-packages/scipy-0.13.0.dev_c31f167_20130514-py2.7-macosx-10.8-intel.egg/scipy/optimize/zeros.py:149: RuntimeWarning: Tolerance of 2.91604608287e+15 reached\n",
        "  warnings.warn(msg, RuntimeWarning)\n",
        "/Library/Python/2.7/site-packages/scipy-0.13.0.dev_c31f167_20130514-py2.7-macosx-10.8-intel.egg/scipy/optimize/zeros.py:149: RuntimeWarning: Tolerance of -1.7509684694e+16 reached\n",
        "  warnings.warn(msg, RuntimeWarning)\n"
       ]
      },
      {
       "output_type": "stream",
       "stream": "stderr",
       "text": [
        "/Library/Python/2.7/site-packages/scipy-0.13.0.dev_c31f167_20130514-py2.7-macosx-10.8-intel.egg/scipy/optimize/zeros.py:149: RuntimeWarning: Tolerance of 2.10210965152e+16 reached\n",
        "  warnings.warn(msg, RuntimeWarning)\n",
        "/Library/Python/2.7/site-packages/scipy-0.13.0.dev_c31f167_20130514-py2.7-macosx-10.8-intel.egg/scipy/optimize/zeros.py:149: RuntimeWarning: Tolerance of -4.11154010305e+14 reached\n",
        "  warnings.warn(msg, RuntimeWarning)\n"
       ]
      },
      {
       "output_type": "stream",
       "stream": "stderr",
       "text": [
        "/Library/Python/2.7/site-packages/scipy-0.13.0.dev_c31f167_20130514-py2.7-macosx-10.8-intel.egg/scipy/optimize/zeros.py:149: RuntimeWarning: Tolerance of -1.78134764411e+14 reached\n",
        "  warnings.warn(msg, RuntimeWarning)\n",
        "/Library/Python/2.7/site-packages/scipy-0.13.0.dev_c31f167_20130514-py2.7-macosx-10.8-intel.egg/scipy/optimize/zeros.py:149: RuntimeWarning: Tolerance of 221076225712.0 reached\n",
        "  warnings.warn(msg, RuntimeWarning)\n"
       ]
      },
      {
       "output_type": "stream",
       "stream": "stderr",
       "text": [
        "/Library/Python/2.7/site-packages/scipy-0.13.0.dev_c31f167_20130514-py2.7-macosx-10.8-intel.egg/scipy/optimize/zeros.py:149: RuntimeWarning: Tolerance of 1.6128477279e+16 reached\n",
        "  warnings.warn(msg, RuntimeWarning)\n",
        "/Library/Python/2.7/site-packages/scipy-0.13.0.dev_c31f167_20130514-py2.7-macosx-10.8-intel.egg/scipy/optimize/zeros.py:149: RuntimeWarning: Tolerance of -1.784064807e-08 reached\n",
        "  warnings.warn(msg, RuntimeWarning)\n"
       ]
      },
      {
       "output_type": "stream",
       "stream": "stderr",
       "text": [
        "/Library/Python/2.7/site-packages/scipy-0.13.0.dev_c31f167_20130514-py2.7-macosx-10.8-intel.egg/scipy/optimize/zeros.py:149: RuntimeWarning: Tolerance of 2.13600323038e+16 reached\n",
        "  warnings.warn(msg, RuntimeWarning)\n",
        "/Library/Python/2.7/site-packages/scipy-0.13.0.dev_c31f167_20130514-py2.7-macosx-10.8-intel.egg/scipy/optimize/zeros.py:149: RuntimeWarning: Tolerance of -1.09997638149e+16 reached\n",
        "  warnings.warn(msg, RuntimeWarning)\n"
       ]
      },
      {
       "output_type": "stream",
       "stream": "stderr",
       "text": [
        "/Library/Python/2.7/site-packages/scipy-0.13.0.dev_c31f167_20130514-py2.7-macosx-10.8-intel.egg/scipy/optimize/zeros.py:149: RuntimeWarning: Tolerance of 3.91757965479e+15 reached\n",
        "  warnings.warn(msg, RuntimeWarning)\n",
        "/Library/Python/2.7/site-packages/scipy-0.13.0.dev_c31f167_20130514-py2.7-macosx-10.8-intel.egg/scipy/optimize/zeros.py:149: RuntimeWarning: Tolerance of 9.5371336971e+16 reached\n",
        "  warnings.warn(msg, RuntimeWarning)\n"
       ]
      },
      {
       "output_type": "stream",
       "stream": "stderr",
       "text": [
        "/Library/Python/2.7/site-packages/scipy-0.13.0.dev_c31f167_20130514-py2.7-macosx-10.8-intel.egg/scipy/optimize/zeros.py:149: RuntimeWarning: Tolerance of -1.22084811171e+18 reached\n",
        "  warnings.warn(msg, RuntimeWarning)\n",
        "/Library/Python/2.7/site-packages/scipy-0.13.0.dev_c31f167_20130514-py2.7-macosx-10.8-intel.egg/scipy/optimize/zeros.py:149: RuntimeWarning: Tolerance of -1.22364602561e+15 reached\n",
        "  warnings.warn(msg, RuntimeWarning)\n"
       ]
      },
      {
       "output_type": "stream",
       "stream": "stderr",
       "text": [
        "/Library/Python/2.7/site-packages/scipy-0.13.0.dev_c31f167_20130514-py2.7-macosx-10.8-intel.egg/scipy/optimize/zeros.py:149: RuntimeWarning: Tolerance of 3.39341086926e+14 reached\n",
        "  warnings.warn(msg, RuntimeWarning)\n",
        "/Library/Python/2.7/site-packages/scipy-0.13.0.dev_c31f167_20130514-py2.7-macosx-10.8-intel.egg/scipy/optimize/zeros.py:149: RuntimeWarning: Tolerance of -7.86642600198e+16 reached\n",
        "  warnings.warn(msg, RuntimeWarning)\n"
       ]
      },
      {
       "output_type": "stream",
       "stream": "stderr",
       "text": [
        "/Library/Python/2.7/site-packages/scipy-0.13.0.dev_c31f167_20130514-py2.7-macosx-10.8-intel.egg/scipy/optimize/zeros.py:149: RuntimeWarning: Tolerance of -1.29030399239e+15 reached\n",
        "  warnings.warn(msg, RuntimeWarning)\n",
        "/Library/Python/2.7/site-packages/scipy-0.13.0.dev_c31f167_20130514-py2.7-macosx-10.8-intel.egg/scipy/optimize/zeros.py:149: RuntimeWarning: Tolerance of -1.59760868155e+15 reached\n",
        "  warnings.warn(msg, RuntimeWarning)\n"
       ]
      },
      {
       "output_type": "stream",
       "stream": "stderr",
       "text": [
        "/Library/Python/2.7/site-packages/scipy-0.13.0.dev_c31f167_20130514-py2.7-macosx-10.8-intel.egg/scipy/optimize/zeros.py:149: RuntimeWarning: Tolerance of -3.76748376761e+16 reached\n",
        "  warnings.warn(msg, RuntimeWarning)\n",
        "/Library/Python/2.7/site-packages/scipy-0.13.0.dev_c31f167_20130514-py2.7-macosx-10.8-intel.egg/scipy/optimize/zeros.py:149: RuntimeWarning: Tolerance of -1.27053261462e+14 reached\n",
        "  warnings.warn(msg, RuntimeWarning)\n"
       ]
      },
      {
       "output_type": "stream",
       "stream": "stderr",
       "text": [
        "/Library/Python/2.7/site-packages/scipy-0.13.0.dev_c31f167_20130514-py2.7-macosx-10.8-intel.egg/scipy/optimize/zeros.py:149: RuntimeWarning: Tolerance of -6.94835609696e+16 reached\n",
        "  warnings.warn(msg, RuntimeWarning)\n",
        "/Library/Python/2.7/site-packages/scipy-0.13.0.dev_c31f167_20130514-py2.7-macosx-10.8-intel.egg/scipy/optimize/zeros.py:149: RuntimeWarning: Tolerance of -1.03857959969e+17 reached\n",
        "  warnings.warn(msg, RuntimeWarning)\n"
       ]
      },
      {
       "output_type": "stream",
       "stream": "stderr",
       "text": [
        "/Library/Python/2.7/site-packages/scipy-0.13.0.dev_c31f167_20130514-py2.7-macosx-10.8-intel.egg/scipy/optimize/zeros.py:149: RuntimeWarning: Tolerance of -2.35196830842e+13 reached\n",
        "  warnings.warn(msg, RuntimeWarning)\n",
        "/Library/Python/2.7/site-packages/scipy-0.13.0.dev_c31f167_20130514-py2.7-macosx-10.8-intel.egg/scipy/optimize/zeros.py:149: RuntimeWarning: Tolerance of -1.17470220092e+15 reached\n",
        "  warnings.warn(msg, RuntimeWarning)\n"
       ]
      },
      {
       "output_type": "stream",
       "stream": "stdout",
       "text": [
        "\n",
        "deleting item T1map_LL"
       ]
      },
      {
       "output_type": "stream",
       "stream": "stdout",
       "text": [
        "\n",
        "deleting item T1map_LL_fitdict"
       ]
      },
      {
       "output_type": "stream",
       "stream": "stderr",
       "text": [
        "/Library/Python/2.7/site-packages/scipy-0.13.0.dev_c31f167_20130514-py2.7-macosx-10.8-intel.egg/scipy/optimize/zeros.py:149: RuntimeWarning: Tolerance of 7.59854069258e+16 reached\n",
        "  warnings.warn(msg, RuntimeWarning)\n",
        "WARNING:sarpy.io.BRUKERIO:NSLICES not equal to number of ACQ_obj_order\n"
       ]
      },
      {
       "output_type": "stream",
       "stream": "stderr",
       "text": [
        "/Library/Python/2.7/site-packages/scipy-0.13.0.dev_c31f167_20130514-py2.7-macosx-10.8-intel.egg/scipy/optimize/zeros.py:149: RuntimeWarning: Tolerance of 1.52651478997e+16 reached\n",
        "  warnings.warn(msg, RuntimeWarning)\n",
        "/Library/Python/2.7/site-packages/scipy-0.13.0.dev_c31f167_20130514-py2.7-macosx-10.8-intel.egg/scipy/optimize/zeros.py:149: RuntimeWarning: Tolerance of -1.37475805114e+16 reached\n",
        "  warnings.warn(msg, RuntimeWarning)\n"
       ]
      },
      {
       "output_type": "stream",
       "stream": "stderr",
       "text": [
        "/Library/Python/2.7/site-packages/scipy-0.13.0.dev_c31f167_20130514-py2.7-macosx-10.8-intel.egg/scipy/optimize/zeros.py:149: RuntimeWarning: Tolerance of 1.54032679981e+14 reached\n",
        "  warnings.warn(msg, RuntimeWarning)\n",
        "/Library/Python/2.7/site-packages/scipy-0.13.0.dev_c31f167_20130514-py2.7-macosx-10.8-intel.egg/scipy/optimize/zeros.py:149: RuntimeWarning: Tolerance of -9.84560593745e+15 reached\n",
        "  warnings.warn(msg, RuntimeWarning)\n"
       ]
      },
      {
       "output_type": "stream",
       "stream": "stderr",
       "text": [
        "/Library/Python/2.7/site-packages/scipy-0.13.0.dev_c31f167_20130514-py2.7-macosx-10.8-intel.egg/scipy/optimize/zeros.py:149: RuntimeWarning: Tolerance of -2.43308022618e-08 reached\n",
        "  warnings.warn(msg, RuntimeWarning)\n",
        "/Library/Python/2.7/site-packages/scipy-0.13.0.dev_c31f167_20130514-py2.7-macosx-10.8-intel.egg/scipy/optimize/zeros.py:149: RuntimeWarning: Tolerance of -1.10923214472e+17 reached\n",
        "  warnings.warn(msg, RuntimeWarning)\n"
       ]
      },
      {
       "output_type": "stream",
       "stream": "stderr",
       "text": [
        "/Library/Python/2.7/site-packages/scipy-0.13.0.dev_c31f167_20130514-py2.7-macosx-10.8-intel.egg/scipy/optimize/zeros.py:149: RuntimeWarning: Tolerance of -9.51541570569e+15 reached\n",
        "  warnings.warn(msg, RuntimeWarning)\n",
        "/Library/Python/2.7/site-packages/scipy-0.13.0.dev_c31f167_20130514-py2.7-macosx-10.8-intel.egg/scipy/optimize/zeros.py:149: RuntimeWarning: Tolerance of -4.20260290938e+14 reached\n",
        "  warnings.warn(msg, RuntimeWarning)\n"
       ]
      },
      {
       "output_type": "stream",
       "stream": "stderr",
       "text": [
        "/Library/Python/2.7/site-packages/scipy-0.13.0.dev_c31f167_20130514-py2.7-macosx-10.8-intel.egg/scipy/optimize/zeros.py:149: RuntimeWarning: Tolerance of 1.39210400504e+15 reached\n",
        "  warnings.warn(msg, RuntimeWarning)\n",
        "/Library/Python/2.7/site-packages/scipy-0.13.0.dev_c31f167_20130514-py2.7-macosx-10.8-intel.egg/scipy/optimize/zeros.py:149: RuntimeWarning: Tolerance of -2.03367238857e+14 reached\n",
        "  warnings.warn(msg, RuntimeWarning)\n"
       ]
      },
      {
       "output_type": "stream",
       "stream": "stderr",
       "text": [
        "/Library/Python/2.7/site-packages/scipy-0.13.0.dev_c31f167_20130514-py2.7-macosx-10.8-intel.egg/scipy/optimize/zeros.py:149: RuntimeWarning: Tolerance of 8.9762590903e+14 reached\n",
        "  warnings.warn(msg, RuntimeWarning)\n",
        "/Library/Python/2.7/site-packages/scipy-0.13.0.dev_c31f167_20130514-py2.7-macosx-10.8-intel.egg/scipy/optimize/zeros.py:149: RuntimeWarning: Tolerance of -5.614442834e+16 reached\n",
        "  warnings.warn(msg, RuntimeWarning)\n"
       ]
      },
      {
       "output_type": "stream",
       "stream": "stderr",
       "text": [
        "/Library/Python/2.7/site-packages/scipy-0.13.0.dev_c31f167_20130514-py2.7-macosx-10.8-intel.egg/scipy/optimize/zeros.py:149: RuntimeWarning: Tolerance of -6.74870793685e+15 reached\n",
        "  warnings.warn(msg, RuntimeWarning)\n",
        "/Library/Python/2.7/site-packages/scipy-0.13.0.dev_c31f167_20130514-py2.7-macosx-10.8-intel.egg/scipy/optimize/zeros.py:149: RuntimeWarning: Tolerance of -3.9033828835e+14 reached\n",
        "  warnings.warn(msg, RuntimeWarning)\n"
       ]
      },
      {
       "output_type": "stream",
       "stream": "stderr",
       "text": [
        "/Library/Python/2.7/site-packages/scipy-0.13.0.dev_c31f167_20130514-py2.7-macosx-10.8-intel.egg/scipy/optimize/zeros.py:149: RuntimeWarning: Tolerance of -1.35058678707e+15 reached\n",
        "  warnings.warn(msg, RuntimeWarning)\n",
        "/Library/Python/2.7/site-packages/scipy-0.13.0.dev_c31f167_20130514-py2.7-macosx-10.8-intel.egg/scipy/optimize/zeros.py:149: RuntimeWarning: Tolerance of -4.36399092218e+15 reached\n",
        "  warnings.warn(msg, RuntimeWarning)\n"
       ]
      },
      {
       "output_type": "stream",
       "stream": "stderr",
       "text": [
        "/Library/Python/2.7/site-packages/scipy-0.13.0.dev_c31f167_20130514-py2.7-macosx-10.8-intel.egg/scipy/optimize/zeros.py:149: RuntimeWarning: Tolerance of 7.77880017816e+16 reached\n",
        "  warnings.warn(msg, RuntimeWarning)\n",
        "/Library/Python/2.7/site-packages/scipy-0.13.0.dev_c31f167_20130514-py2.7-macosx-10.8-intel.egg/scipy/optimize/zeros.py:149: RuntimeWarning: Tolerance of -1.48306429215e+17 reached\n",
        "  warnings.warn(msg, RuntimeWarning)\n"
       ]
      },
      {
       "output_type": "stream",
       "stream": "stderr",
       "text": [
        "/Library/Python/2.7/site-packages/scipy-0.13.0.dev_c31f167_20130514-py2.7-macosx-10.8-intel.egg/scipy/optimize/zeros.py:149: RuntimeWarning: Tolerance of 2.04013490052e+17 reached\n",
        "  warnings.warn(msg, RuntimeWarning)\n",
        "/Library/Python/2.7/site-packages/scipy-0.13.0.dev_c31f167_20130514-py2.7-macosx-10.8-intel.egg/scipy/optimize/zeros.py:149: RuntimeWarning: Tolerance of 7.13219697281e+14 reached\n",
        "  warnings.warn(msg, RuntimeWarning)\n"
       ]
      },
      {
       "output_type": "stream",
       "stream": "stderr",
       "text": [
        "/Library/Python/2.7/site-packages/scipy-0.13.0.dev_c31f167_20130514-py2.7-macosx-10.8-intel.egg/scipy/optimize/zeros.py:149: RuntimeWarning: Tolerance of 1.0402176727e+17 reached\n",
        "  warnings.warn(msg, RuntimeWarning)\n",
        "/Library/Python/2.7/site-packages/scipy-0.13.0.dev_c31f167_20130514-py2.7-macosx-10.8-intel.egg/scipy/optimize/zeros.py:149: RuntimeWarning: Tolerance of -1.09423966019e+14 reached\n",
        "  warnings.warn(msg, RuntimeWarning)\n"
       ]
      },
      {
       "output_type": "stream",
       "stream": "stderr",
       "text": [
        "/Library/Python/2.7/site-packages/scipy-0.13.0.dev_c31f167_20130514-py2.7-macosx-10.8-intel.egg/scipy/optimize/zeros.py:149: RuntimeWarning: Tolerance of -7.23291277467e+14 reached\n",
        "  warnings.warn(msg, RuntimeWarning)\n",
        "/Library/Python/2.7/site-packages/scipy-0.13.0.dev_c31f167_20130514-py2.7-macosx-10.8-intel.egg/scipy/optimize/zeros.py:149: RuntimeWarning: Tolerance of -3.98583364732e+17 reached\n",
        "  warnings.warn(msg, RuntimeWarning)\n"
       ]
      },
      {
       "output_type": "stream",
       "stream": "stderr",
       "text": [
        "/Library/Python/2.7/site-packages/scipy-0.13.0.dev_c31f167_20130514-py2.7-macosx-10.8-intel.egg/scipy/optimize/zeros.py:149: RuntimeWarning: Tolerance of 4.76162062959e+15 reached\n",
        "  warnings.warn(msg, RuntimeWarning)\n",
        "/Library/Python/2.7/site-packages/scipy-0.13.0.dev_c31f167_20130514-py2.7-macosx-10.8-intel.egg/scipy/optimize/zeros.py:149: RuntimeWarning: Tolerance of -5.55716706187e+16 reached\n",
        "  warnings.warn(msg, RuntimeWarning)\n"
       ]
      },
      {
       "output_type": "stream",
       "stream": "stderr",
       "text": [
        "/Library/Python/2.7/site-packages/scipy-0.13.0.dev_c31f167_20130514-py2.7-macosx-10.8-intel.egg/scipy/optimize/zeros.py:149: RuntimeWarning: Tolerance of -6.31707141886e+12 reached\n",
        "  warnings.warn(msg, RuntimeWarning)\n",
        "/Library/Python/2.7/site-packages/scipy-0.13.0.dev_c31f167_20130514-py2.7-macosx-10.8-intel.egg/scipy/optimize/zeros.py:149: RuntimeWarning: Tolerance of -8.14156487976e+14 reached\n",
        "  warnings.warn(msg, RuntimeWarning)\n"
       ]
      },
      {
       "output_type": "stream",
       "stream": "stderr",
       "text": [
        "/Library/Python/2.7/site-packages/scipy-0.13.0.dev_c31f167_20130514-py2.7-macosx-10.8-intel.egg/scipy/optimize/zeros.py:149: RuntimeWarning: Tolerance of 2.74202081823e+16 reached\n",
        "  warnings.warn(msg, RuntimeWarning)\n",
        "/Library/Python/2.7/site-packages/scipy-0.13.0.dev_c31f167_20130514-py2.7-macosx-10.8-intel.egg/scipy/optimize/zeros.py:149: RuntimeWarning: Tolerance of -3.31674423968e+16 reached\n",
        "  warnings.warn(msg, RuntimeWarning)\n"
       ]
      },
      {
       "output_type": "stream",
       "stream": "stderr",
       "text": [
        "/Library/Python/2.7/site-packages/scipy-0.13.0.dev_c31f167_20130514-py2.7-macosx-10.8-intel.egg/scipy/optimize/zeros.py:149: RuntimeWarning: Tolerance of 1.99413338144e+15 reached\n",
        "  warnings.warn(msg, RuntimeWarning)\n",
        "/Library/Python/2.7/site-packages/scipy-0.13.0.dev_c31f167_20130514-py2.7-macosx-10.8-intel.egg/scipy/optimize/zeros.py:149: RuntimeWarning: Tolerance of -5.76826463291e+15 reached\n",
        "  warnings.warn(msg, RuntimeWarning)\n"
       ]
      },
      {
       "output_type": "stream",
       "stream": "stderr",
       "text": [
        "/Library/Python/2.7/site-packages/scipy-0.13.0.dev_c31f167_20130514-py2.7-macosx-10.8-intel.egg/scipy/optimize/zeros.py:149: RuntimeWarning: Tolerance of 8.85625016449e+12 reached\n",
        "  warnings.warn(msg, RuntimeWarning)\n",
        "/Library/Python/2.7/site-packages/scipy-0.13.0.dev_c31f167_20130514-py2.7-macosx-10.8-intel.egg/scipy/optimize/zeros.py:149: RuntimeWarning: Tolerance of 4.83989631214e+14 reached\n",
        "  warnings.warn(msg, RuntimeWarning)\n"
       ]
      },
      {
       "output_type": "stream",
       "stream": "stderr",
       "text": [
        "/Library/Python/2.7/site-packages/scipy-0.13.0.dev_c31f167_20130514-py2.7-macosx-10.8-intel.egg/scipy/optimize/zeros.py:149: RuntimeWarning: Tolerance of 4.49579637418e+15 reached\n",
        "  warnings.warn(msg, RuntimeWarning)\n",
        "/Library/Python/2.7/site-packages/scipy-0.13.0.dev_c31f167_20130514-py2.7-macosx-10.8-intel.egg/scipy/optimize/zeros.py:149: RuntimeWarning: Tolerance of 6.89656074364e+15 reached\n",
        "  warnings.warn(msg, RuntimeWarning)\n"
       ]
      },
      {
       "output_type": "stream",
       "stream": "stderr",
       "text": [
        "/Library/Python/2.7/site-packages/scipy-0.13.0.dev_c31f167_20130514-py2.7-macosx-10.8-intel.egg/scipy/optimize/zeros.py:149: RuntimeWarning: Tolerance of 1.01286813479e+15 reached\n",
        "  warnings.warn(msg, RuntimeWarning)\n",
        "/Library/Python/2.7/site-packages/scipy-0.13.0.dev_c31f167_20130514-py2.7-macosx-10.8-intel.egg/scipy/optimize/zeros.py:149: RuntimeWarning: Tolerance of -2.16168577279e+14 reached\n",
        "  warnings.warn(msg, RuntimeWarning)\n"
       ]
      },
      {
       "output_type": "stream",
       "stream": "stderr",
       "text": [
        "/Library/Python/2.7/site-packages/scipy-0.13.0.dev_c31f167_20130514-py2.7-macosx-10.8-intel.egg/scipy/optimize/zeros.py:149: RuntimeWarning: Tolerance of 3.43277841606e+15 reached\n",
        "  warnings.warn(msg, RuntimeWarning)\n",
        "/Library/Python/2.7/site-packages/scipy-0.13.0.dev_c31f167_20130514-py2.7-macosx-10.8-intel.egg/scipy/optimize/zeros.py:149: RuntimeWarning: Tolerance of -6.68741822898e+14 reached\n",
        "  warnings.warn(msg, RuntimeWarning)\n"
       ]
      },
      {
       "output_type": "stream",
       "stream": "stderr",
       "text": [
        "/Library/Python/2.7/site-packages/scipy-0.13.0.dev_c31f167_20130514-py2.7-macosx-10.8-intel.egg/scipy/optimize/zeros.py:149: RuntimeWarning: Tolerance of 4.74139698735e+16 reached\n",
        "  warnings.warn(msg, RuntimeWarning)\n",
        "/Library/Python/2.7/site-packages/scipy-0.13.0.dev_c31f167_20130514-py2.7-macosx-10.8-intel.egg/scipy/optimize/zeros.py:149: RuntimeWarning: Tolerance of 9.97725066909e+16 reached\n",
        "  warnings.warn(msg, RuntimeWarning)\n"
       ]
      },
      {
       "output_type": "stream",
       "stream": "stderr",
       "text": [
        "/Library/Python/2.7/site-packages/scipy-0.13.0.dev_c31f167_20130514-py2.7-macosx-10.8-intel.egg/scipy/optimize/zeros.py:149: RuntimeWarning: Tolerance of 3.49346299445e+16 reached\n",
        "  warnings.warn(msg, RuntimeWarning)\n",
        "/Library/Python/2.7/site-packages/scipy-0.13.0.dev_c31f167_20130514-py2.7-macosx-10.8-intel.egg/scipy/optimize/zeros.py:149: RuntimeWarning: Tolerance of 2.44035664778e+15 reached\n",
        "  warnings.warn(msg, RuntimeWarning)\n"
       ]
      },
      {
       "output_type": "stream",
       "stream": "stderr",
       "text": [
        "/Library/Python/2.7/site-packages/scipy-0.13.0.dev_c31f167_20130514-py2.7-macosx-10.8-intel.egg/scipy/optimize/zeros.py:149: RuntimeWarning: Tolerance of -4.21991410373e+13 reached\n",
        "  warnings.warn(msg, RuntimeWarning)\n",
        "/Library/Python/2.7/site-packages/scipy-0.13.0.dev_c31f167_20130514-py2.7-macosx-10.8-intel.egg/scipy/optimize/zeros.py:149: RuntimeWarning: Tolerance of 8.53304224935e+16 reached\n",
        "  warnings.warn(msg, RuntimeWarning)\n"
       ]
      },
      {
       "output_type": "stream",
       "stream": "stderr",
       "text": [
        "/Library/Python/2.7/site-packages/scipy-0.13.0.dev_c31f167_20130514-py2.7-macosx-10.8-intel.egg/scipy/optimize/zeros.py:149: RuntimeWarning: Tolerance of -4.96065125958e+16 reached\n",
        "  warnings.warn(msg, RuntimeWarning)\n",
        "/Library/Python/2.7/site-packages/scipy-0.13.0.dev_c31f167_20130514-py2.7-macosx-10.8-intel.egg/scipy/optimize/zeros.py:149: RuntimeWarning: Tolerance of -5.94429373088e+12 reached\n",
        "  warnings.warn(msg, RuntimeWarning)\n"
       ]
      },
      {
       "output_type": "stream",
       "stream": "stderr",
       "text": [
        "/Library/Python/2.7/site-packages/scipy-0.13.0.dev_c31f167_20130514-py2.7-macosx-10.8-intel.egg/scipy/optimize/zeros.py:149: RuntimeWarning: Tolerance of -1.2739776674e+16 reached\n",
        "  warnings.warn(msg, RuntimeWarning)\n",
        "/Library/Python/2.7/site-packages/scipy-0.13.0.dev_c31f167_20130514-py2.7-macosx-10.8-intel.egg/scipy/optimize/zeros.py:149: RuntimeWarning: Tolerance of -208520836208.0 reached\n",
        "  warnings.warn(msg, RuntimeWarning)\n"
       ]
      },
      {
       "output_type": "stream",
       "stream": "stderr",
       "text": [
        "/Library/Python/2.7/site-packages/scipy-0.13.0.dev_c31f167_20130514-py2.7-macosx-10.8-intel.egg/scipy/optimize/zeros.py:149: RuntimeWarning: Tolerance of -6.44939297077e+15 reached\n",
        "  warnings.warn(msg, RuntimeWarning)\n",
        "/Library/Python/2.7/site-packages/scipy-0.13.0.dev_c31f167_20130514-py2.7-macosx-10.8-intel.egg/scipy/optimize/zeros.py:149: RuntimeWarning: Tolerance of 1.33509569635e+12 reached\n",
        "  warnings.warn(msg, RuntimeWarning)\n"
       ]
      },
      {
       "output_type": "stream",
       "stream": "stderr",
       "text": [
        "/Library/Python/2.7/site-packages/scipy-0.13.0.dev_c31f167_20130514-py2.7-macosx-10.8-intel.egg/scipy/optimize/zeros.py:149: RuntimeWarning: Tolerance of -6.86968926834e+15 reached\n",
        "  warnings.warn(msg, RuntimeWarning)\n",
        "/Library/Python/2.7/site-packages/scipy-0.13.0.dev_c31f167_20130514-py2.7-macosx-10.8-intel.egg/scipy/optimize/zeros.py:149: RuntimeWarning: Tolerance of 6.66303579687e+16 reached\n",
        "  warnings.warn(msg, RuntimeWarning)\n"
       ]
      },
      {
       "output_type": "stream",
       "stream": "stderr",
       "text": [
        "/Library/Python/2.7/site-packages/scipy-0.13.0.dev_c31f167_20130514-py2.7-macosx-10.8-intel.egg/scipy/optimize/zeros.py:149: RuntimeWarning: Tolerance of -1.13802311084e+17 reached\n",
        "  warnings.warn(msg, RuntimeWarning)\n",
        "/Library/Python/2.7/site-packages/scipy-0.13.0.dev_c31f167_20130514-py2.7-macosx-10.8-intel.egg/scipy/optimize/zeros.py:149: RuntimeWarning: Tolerance of 4.53926128924e+14 reached\n",
        "  warnings.warn(msg, RuntimeWarning)\n"
       ]
      },
      {
       "output_type": "stream",
       "stream": "stderr",
       "text": [
        "/Library/Python/2.7/site-packages/scipy-0.13.0.dev_c31f167_20130514-py2.7-macosx-10.8-intel.egg/scipy/optimize/zeros.py:149: RuntimeWarning: Tolerance of 5.25019580342e+15 reached\n",
        "  warnings.warn(msg, RuntimeWarning)\n",
        "/Library/Python/2.7/site-packages/scipy-0.13.0.dev_c31f167_20130514-py2.7-macosx-10.8-intel.egg/scipy/optimize/zeros.py:149: RuntimeWarning: Tolerance of 2.4492325336e+16 reached\n",
        "  warnings.warn(msg, RuntimeWarning)\n"
       ]
      },
      {
       "output_type": "stream",
       "stream": "stderr",
       "text": [
        "/Library/Python/2.7/site-packages/scipy-0.13.0.dev_c31f167_20130514-py2.7-macosx-10.8-intel.egg/scipy/optimize/zeros.py:149: RuntimeWarning: Tolerance of -5.26236139751e+13 reached\n",
        "  warnings.warn(msg, RuntimeWarning)\n",
        "/Library/Python/2.7/site-packages/scipy-0.13.0.dev_c31f167_20130514-py2.7-macosx-10.8-intel.egg/scipy/optimize/zeros.py:149: RuntimeWarning: Tolerance of 7.37246626699e+16 reached\n",
        "  warnings.warn(msg, RuntimeWarning)\n"
       ]
      },
      {
       "output_type": "stream",
       "stream": "stderr",
       "text": [
        "/Library/Python/2.7/site-packages/scipy-0.13.0.dev_c31f167_20130514-py2.7-macosx-10.8-intel.egg/scipy/optimize/zeros.py:149: RuntimeWarning: Tolerance of 1.51484864458e+15 reached\n",
        "  warnings.warn(msg, RuntimeWarning)\n",
        "/Library/Python/2.7/site-packages/scipy-0.13.0.dev_c31f167_20130514-py2.7-macosx-10.8-intel.egg/scipy/optimize/zeros.py:149: RuntimeWarning: Tolerance of -1.78503172749e+17 reached\n",
        "  warnings.warn(msg, RuntimeWarning)\n"
       ]
      },
      {
       "output_type": "stream",
       "stream": "stderr",
       "text": [
        "/Library/Python/2.7/site-packages/scipy-0.13.0.dev_c31f167_20130514-py2.7-macosx-10.8-intel.egg/scipy/optimize/zeros.py:149: RuntimeWarning: Tolerance of 4.46058607561e+14 reached\n",
        "  warnings.warn(msg, RuntimeWarning)\n",
        "/Library/Python/2.7/site-packages/scipy-0.13.0.dev_c31f167_20130514-py2.7-macosx-10.8-intel.egg/scipy/optimize/zeros.py:149: RuntimeWarning: Tolerance of 1.48621199057e+16 reached\n",
        "  warnings.warn(msg, RuntimeWarning)\n"
       ]
      },
      {
       "output_type": "stream",
       "stream": "stderr",
       "text": [
        "/Library/Python/2.7/site-packages/scipy-0.13.0.dev_c31f167_20130514-py2.7-macosx-10.8-intel.egg/scipy/optimize/zeros.py:149: RuntimeWarning: Tolerance of -9.9303752365e+15 reached\n",
        "  warnings.warn(msg, RuntimeWarning)\n",
        "/Library/Python/2.7/site-packages/scipy-0.13.0.dev_c31f167_20130514-py2.7-macosx-10.8-intel.egg/scipy/optimize/zeros.py:149: RuntimeWarning: Tolerance of 2.18487630414e+15 reached\n",
        "  warnings.warn(msg, RuntimeWarning)\n"
       ]
      },
      {
       "output_type": "stream",
       "stream": "stderr",
       "text": [
        "/Library/Python/2.7/site-packages/scipy-0.13.0.dev_c31f167_20130514-py2.7-macosx-10.8-intel.egg/scipy/optimize/zeros.py:149: RuntimeWarning: Tolerance of -3.31639012421e+16 reached\n",
        "  warnings.warn(msg, RuntimeWarning)\n",
        "/Library/Python/2.7/site-packages/scipy-0.13.0.dev_c31f167_20130514-py2.7-macosx-10.8-intel.egg/scipy/optimize/zeros.py:149: RuntimeWarning: Tolerance of 3.79309492752e+16 reached\n",
        "  warnings.warn(msg, RuntimeWarning)\n"
       ]
      },
      {
       "output_type": "stream",
       "stream": "stderr",
       "text": [
        "/Library/Python/2.7/site-packages/scipy-0.13.0.dev_c31f167_20130514-py2.7-macosx-10.8-intel.egg/scipy/optimize/zeros.py:149: RuntimeWarning: Tolerance of -3.25560072855e+13 reached\n",
        "  warnings.warn(msg, RuntimeWarning)\n",
        "/Library/Python/2.7/site-packages/scipy-0.13.0.dev_c31f167_20130514-py2.7-macosx-10.8-intel.egg/scipy/optimize/zeros.py:149: RuntimeWarning: Tolerance of 2.99332896248e-08 reached\n",
        "  warnings.warn(msg, RuntimeWarning)\n"
       ]
      },
      {
       "output_type": "stream",
       "stream": "stderr",
       "text": [
        "/Library/Python/2.7/site-packages/scipy-0.13.0.dev_c31f167_20130514-py2.7-macosx-10.8-intel.egg/scipy/optimize/zeros.py:149: RuntimeWarning: Tolerance of 1.55707606619e+16 reached\n",
        "  warnings.warn(msg, RuntimeWarning)\n",
        "/Library/Python/2.7/site-packages/scipy-0.13.0.dev_c31f167_20130514-py2.7-macosx-10.8-intel.egg/scipy/optimize/zeros.py:149: RuntimeWarning: Tolerance of 7.70070604617e+16 reached\n",
        "  warnings.warn(msg, RuntimeWarning)\n"
       ]
      },
      {
       "output_type": "stream",
       "stream": "stderr",
       "text": [
        "/Library/Python/2.7/site-packages/scipy-0.13.0.dev_c31f167_20130514-py2.7-macosx-10.8-intel.egg/scipy/optimize/zeros.py:149: RuntimeWarning: Tolerance of -5.7427883307e+15 reached\n",
        "  warnings.warn(msg, RuntimeWarning)\n",
        "/Library/Python/2.7/site-packages/scipy-0.13.0.dev_c31f167_20130514-py2.7-macosx-10.8-intel.egg/scipy/optimize/zeros.py:149: RuntimeWarning: Tolerance of 3.95992923518e+16 reached\n",
        "  warnings.warn(msg, RuntimeWarning)\n"
       ]
      },
      {
       "output_type": "stream",
       "stream": "stderr",
       "text": [
        "/Library/Python/2.7/site-packages/scipy-0.13.0.dev_c31f167_20130514-py2.7-macosx-10.8-intel.egg/scipy/optimize/zeros.py:149: RuntimeWarning: Tolerance of 2.99562415532e+14 reached\n",
        "  warnings.warn(msg, RuntimeWarning)\n",
        "/Library/Python/2.7/site-packages/scipy-0.13.0.dev_c31f167_20130514-py2.7-macosx-10.8-intel.egg/scipy/optimize/zeros.py:149: RuntimeWarning: Tolerance of -2.77968552208e+14 reached\n",
        "  warnings.warn(msg, RuntimeWarning)\n"
       ]
      },
      {
       "output_type": "stream",
       "stream": "stderr",
       "text": [
        "/Library/Python/2.7/site-packages/scipy-0.13.0.dev_c31f167_20130514-py2.7-macosx-10.8-intel.egg/scipy/optimize/zeros.py:149: RuntimeWarning: Tolerance of 1.98154259635e+16 reached\n",
        "  warnings.warn(msg, RuntimeWarning)\n",
        "/Library/Python/2.7/site-packages/scipy-0.13.0.dev_c31f167_20130514-py2.7-macosx-10.8-intel.egg/scipy/optimize/zeros.py:149: RuntimeWarning: Tolerance of -1.8160790205e-08 reached\n",
        "  warnings.warn(msg, RuntimeWarning)\n"
       ]
      },
      {
       "output_type": "stream",
       "stream": "stderr",
       "text": [
        "/Library/Python/2.7/site-packages/scipy-0.13.0.dev_c31f167_20130514-py2.7-macosx-10.8-intel.egg/scipy/optimize/zeros.py:149: RuntimeWarning: Tolerance of -3.88192101922e+15 reached\n",
        "  warnings.warn(msg, RuntimeWarning)\n",
        "/Library/Python/2.7/site-packages/scipy-0.13.0.dev_c31f167_20130514-py2.7-macosx-10.8-intel.egg/scipy/optimize/zeros.py:149: RuntimeWarning: Tolerance of -3.76630543413e+17 reached\n",
        "  warnings.warn(msg, RuntimeWarning)\n"
       ]
      },
      {
       "output_type": "stream",
       "stream": "stderr",
       "text": [
        "/Library/Python/2.7/site-packages/scipy-0.13.0.dev_c31f167_20130514-py2.7-macosx-10.8-intel.egg/scipy/optimize/zeros.py:149: RuntimeWarning: Tolerance of 5.26737459071e+13 reached\n",
        "  warnings.warn(msg, RuntimeWarning)\n",
        "/Library/Python/2.7/site-packages/scipy-0.13.0.dev_c31f167_20130514-py2.7-macosx-10.8-intel.egg/scipy/optimize/zeros.py:149: RuntimeWarning: Tolerance of -6.43023370514e+16 reached\n",
        "  warnings.warn(msg, RuntimeWarning)\n"
       ]
      },
      {
       "output_type": "stream",
       "stream": "stderr",
       "text": [
        "/Library/Python/2.7/site-packages/scipy-0.13.0.dev_c31f167_20130514-py2.7-macosx-10.8-intel.egg/scipy/optimize/zeros.py:149: RuntimeWarning: Tolerance of -3.73252789817e+15 reached\n",
        "  warnings.warn(msg, RuntimeWarning)\n",
        "/Library/Python/2.7/site-packages/scipy-0.13.0.dev_c31f167_20130514-py2.7-macosx-10.8-intel.egg/scipy/optimize/zeros.py:149: RuntimeWarning: Tolerance of -3.35041718344e+15 reached\n",
        "  warnings.warn(msg, RuntimeWarning)\n"
       ]
      },
      {
       "output_type": "stream",
       "stream": "stderr",
       "text": [
        "/Library/Python/2.7/site-packages/scipy-0.13.0.dev_c31f167_20130514-py2.7-macosx-10.8-intel.egg/scipy/optimize/zeros.py:149: RuntimeWarning: Tolerance of 8.56267243649e+16 reached\n",
        "  warnings.warn(msg, RuntimeWarning)\n",
        "/Library/Python/2.7/site-packages/scipy-0.13.0.dev_c31f167_20130514-py2.7-macosx-10.8-intel.egg/scipy/optimize/zeros.py:149: RuntimeWarning: Tolerance of 4.34776347662e+14 reached\n",
        "  warnings.warn(msg, RuntimeWarning)\n"
       ]
      },
      {
       "output_type": "stream",
       "stream": "stdout",
       "text": [
        "\n",
        "deleting item T1map_LL"
       ]
      },
      {
       "output_type": "stream",
       "stream": "stdout",
       "text": [
        "\n",
        "deleting item T1map_LL_fitdict"
       ]
      },
      {
       "output_type": "stream",
       "stream": "stderr",
       "text": [
        "WARNING:sarpy.io.BRUKERIO:NSLICES not equal to number of ACQ_obj_order\n"
       ]
      },
      {
       "output_type": "stream",
       "stream": "stderr",
       "text": [
        "/Library/Python/2.7/site-packages/scipy-0.13.0.dev_c31f167_20130514-py2.7-macosx-10.8-intel.egg/scipy/optimize/zeros.py:149: RuntimeWarning: Tolerance of 9.70628547066e+17 reached\n",
        "  warnings.warn(msg, RuntimeWarning)\n",
        "/Library/Python/2.7/site-packages/scipy-0.13.0.dev_c31f167_20130514-py2.7-macosx-10.8-intel.egg/scipy/optimize/zeros.py:149: RuntimeWarning: Tolerance of -2.48187733071e+16 reached\n",
        "  warnings.warn(msg, RuntimeWarning)\n"
       ]
      },
      {
       "output_type": "stream",
       "stream": "stderr",
       "text": [
        "/Library/Python/2.7/site-packages/scipy-0.13.0.dev_c31f167_20130514-py2.7-macosx-10.8-intel.egg/scipy/optimize/zeros.py:149: RuntimeWarning: Tolerance of -1.11235218256e+16 reached\n",
        "  warnings.warn(msg, RuntimeWarning)\n",
        "/Library/Python/2.7/site-packages/scipy-0.13.0.dev_c31f167_20130514-py2.7-macosx-10.8-intel.egg/scipy/optimize/zeros.py:149: RuntimeWarning: Tolerance of -1.13700044185e+16 reached\n",
        "  warnings.warn(msg, RuntimeWarning)\n"
       ]
      },
      {
       "output_type": "stream",
       "stream": "stderr",
       "text": [
        "/Library/Python/2.7/site-packages/scipy-0.13.0.dev_c31f167_20130514-py2.7-macosx-10.8-intel.egg/scipy/optimize/zeros.py:149: RuntimeWarning: Tolerance of -4.15794749405e+15 reached\n",
        "  warnings.warn(msg, RuntimeWarning)\n",
        "/Library/Python/2.7/site-packages/scipy-0.13.0.dev_c31f167_20130514-py2.7-macosx-10.8-intel.egg/scipy/optimize/zeros.py:149: RuntimeWarning: Tolerance of 2.98918563927e+14 reached\n",
        "  warnings.warn(msg, RuntimeWarning)\n"
       ]
      },
      {
       "output_type": "stream",
       "stream": "stderr",
       "text": [
        "/Library/Python/2.7/site-packages/scipy-0.13.0.dev_c31f167_20130514-py2.7-macosx-10.8-intel.egg/scipy/optimize/zeros.py:149: RuntimeWarning: Tolerance of -4.59933211072e+13 reached\n",
        "  warnings.warn(msg, RuntimeWarning)\n",
        "/Library/Python/2.7/site-packages/scipy-0.13.0.dev_c31f167_20130514-py2.7-macosx-10.8-intel.egg/scipy/optimize/zeros.py:149: RuntimeWarning: Tolerance of -1.07982874249e+14 reached\n",
        "  warnings.warn(msg, RuntimeWarning)\n"
       ]
      },
      {
       "output_type": "stream",
       "stream": "stderr",
       "text": [
        "/Library/Python/2.7/site-packages/scipy-0.13.0.dev_c31f167_20130514-py2.7-macosx-10.8-intel.egg/scipy/optimize/zeros.py:149: RuntimeWarning: Tolerance of 2.39714079851e+15 reached\n",
        "  warnings.warn(msg, RuntimeWarning)\n",
        "/Library/Python/2.7/site-packages/scipy-0.13.0.dev_c31f167_20130514-py2.7-macosx-10.8-intel.egg/scipy/optimize/zeros.py:149: RuntimeWarning: Tolerance of -7.74874658261e+14 reached\n",
        "  warnings.warn(msg, RuntimeWarning)\n"
       ]
      },
      {
       "output_type": "stream",
       "stream": "stderr",
       "text": [
        "/Library/Python/2.7/site-packages/scipy-0.13.0.dev_c31f167_20130514-py2.7-macosx-10.8-intel.egg/scipy/optimize/zeros.py:149: RuntimeWarning: Tolerance of -4.92188827016e+16 reached\n",
        "  warnings.warn(msg, RuntimeWarning)\n",
        "/Library/Python/2.7/site-packages/scipy-0.13.0.dev_c31f167_20130514-py2.7-macosx-10.8-intel.egg/scipy/optimize/zeros.py:149: RuntimeWarning: Tolerance of 3.05216771113e+12 reached\n",
        "  warnings.warn(msg, RuntimeWarning)\n"
       ]
      },
      {
       "output_type": "stream",
       "stream": "stderr",
       "text": [
        "/Library/Python/2.7/site-packages/scipy-0.13.0.dev_c31f167_20130514-py2.7-macosx-10.8-intel.egg/scipy/optimize/zeros.py:149: RuntimeWarning: Tolerance of 3.39277217862e+15 reached\n",
        "  warnings.warn(msg, RuntimeWarning)\n",
        "/Library/Python/2.7/site-packages/scipy-0.13.0.dev_c31f167_20130514-py2.7-macosx-10.8-intel.egg/scipy/optimize/zeros.py:149: RuntimeWarning: Tolerance of 1.9271955777e+16 reached\n",
        "  warnings.warn(msg, RuntimeWarning)\n"
       ]
      },
      {
       "output_type": "stream",
       "stream": "stderr",
       "text": [
        "/Library/Python/2.7/site-packages/scipy-0.13.0.dev_c31f167_20130514-py2.7-macosx-10.8-intel.egg/scipy/optimize/zeros.py:149: RuntimeWarning: Tolerance of 4.43475505997e+14 reached\n",
        "  warnings.warn(msg, RuntimeWarning)\n",
        "/Library/Python/2.7/site-packages/scipy-0.13.0.dev_c31f167_20130514-py2.7-macosx-10.8-intel.egg/scipy/optimize/zeros.py:149: RuntimeWarning: Tolerance of -9.79215617018e+14 reached\n",
        "  warnings.warn(msg, RuntimeWarning)\n"
       ]
      },
      {
       "output_type": "stream",
       "stream": "stderr",
       "text": [
        "/Library/Python/2.7/site-packages/scipy-0.13.0.dev_c31f167_20130514-py2.7-macosx-10.8-intel.egg/scipy/optimize/zeros.py:149: RuntimeWarning: Tolerance of 2.4895360767e+14 reached\n",
        "  warnings.warn(msg, RuntimeWarning)\n",
        "/Library/Python/2.7/site-packages/scipy-0.13.0.dev_c31f167_20130514-py2.7-macosx-10.8-intel.egg/scipy/optimize/zeros.py:149: RuntimeWarning: Tolerance of -6.3580225733e+12 reached\n",
        "  warnings.warn(msg, RuntimeWarning)\n"
       ]
      },
      {
       "output_type": "stream",
       "stream": "stderr",
       "text": [
        "/Library/Python/2.7/site-packages/scipy-0.13.0.dev_c31f167_20130514-py2.7-macosx-10.8-intel.egg/scipy/optimize/zeros.py:149: RuntimeWarning: Tolerance of 6.42539769298e+14 reached\n",
        "  warnings.warn(msg, RuntimeWarning)\n",
        "/Library/Python/2.7/site-packages/scipy-0.13.0.dev_c31f167_20130514-py2.7-macosx-10.8-intel.egg/scipy/optimize/zeros.py:149: RuntimeWarning: Tolerance of -2.25241292968e+15 reached\n",
        "  warnings.warn(msg, RuntimeWarning)\n"
       ]
      },
      {
       "output_type": "stream",
       "stream": "stderr",
       "text": [
        "/Library/Python/2.7/site-packages/scipy-0.13.0.dev_c31f167_20130514-py2.7-macosx-10.8-intel.egg/scipy/optimize/zeros.py:149: RuntimeWarning: Tolerance of -5.99437824907e+13 reached\n",
        "  warnings.warn(msg, RuntimeWarning)\n",
        "/Library/Python/2.7/site-packages/scipy-0.13.0.dev_c31f167_20130514-py2.7-macosx-10.8-intel.egg/scipy/optimize/zeros.py:149: RuntimeWarning: Tolerance of -6.27084289534e+15 reached\n",
        "  warnings.warn(msg, RuntimeWarning)\n"
       ]
      },
      {
       "output_type": "stream",
       "stream": "stderr",
       "text": [
        "/Library/Python/2.7/site-packages/scipy-0.13.0.dev_c31f167_20130514-py2.7-macosx-10.8-intel.egg/scipy/optimize/zeros.py:149: RuntimeWarning: Tolerance of -1.21246343567e+16 reached\n",
        "  warnings.warn(msg, RuntimeWarning)\n",
        "/Library/Python/2.7/site-packages/scipy-0.13.0.dev_c31f167_20130514-py2.7-macosx-10.8-intel.egg/scipy/optimize/zeros.py:149: RuntimeWarning: Tolerance of 3.14412422271e+15 reached\n",
        "  warnings.warn(msg, RuntimeWarning)\n"
       ]
      },
      {
       "output_type": "stream",
       "stream": "stderr",
       "text": [
        "/Library/Python/2.7/site-packages/scipy-0.13.0.dev_c31f167_20130514-py2.7-macosx-10.8-intel.egg/scipy/optimize/zeros.py:149: RuntimeWarning: Tolerance of 6.36165121228e+15 reached\n",
        "  warnings.warn(msg, RuntimeWarning)\n",
        "/Library/Python/2.7/site-packages/scipy-0.13.0.dev_c31f167_20130514-py2.7-macosx-10.8-intel.egg/scipy/optimize/zeros.py:149: RuntimeWarning: Tolerance of -3.61953271785e+15 reached\n",
        "  warnings.warn(msg, RuntimeWarning)\n"
       ]
      },
      {
       "output_type": "stream",
       "stream": "stderr",
       "text": [
        "/Library/Python/2.7/site-packages/scipy-0.13.0.dev_c31f167_20130514-py2.7-macosx-10.8-intel.egg/scipy/optimize/zeros.py:149: RuntimeWarning: Tolerance of -1.23985486823e+16 reached\n",
        "  warnings.warn(msg, RuntimeWarning)\n",
        "/Library/Python/2.7/site-packages/scipy-0.13.0.dev_c31f167_20130514-py2.7-macosx-10.8-intel.egg/scipy/optimize/zeros.py:149: RuntimeWarning: Tolerance of -2.85902128098e+15 reached\n",
        "  warnings.warn(msg, RuntimeWarning)\n"
       ]
      },
      {
       "output_type": "stream",
       "stream": "stderr",
       "text": [
        "/Library/Python/2.7/site-packages/scipy-0.13.0.dev_c31f167_20130514-py2.7-macosx-10.8-intel.egg/scipy/optimize/zeros.py:149: RuntimeWarning: Tolerance of 4.07222219378e+14 reached\n",
        "  warnings.warn(msg, RuntimeWarning)\n",
        "/Library/Python/2.7/site-packages/scipy-0.13.0.dev_c31f167_20130514-py2.7-macosx-10.8-intel.egg/scipy/optimize/zeros.py:149: RuntimeWarning: Tolerance of -2.37482069723e+15 reached\n",
        "  warnings.warn(msg, RuntimeWarning)\n"
       ]
      },
      {
       "output_type": "stream",
       "stream": "stderr",
       "text": [
        "/Library/Python/2.7/site-packages/scipy-0.13.0.dev_c31f167_20130514-py2.7-macosx-10.8-intel.egg/scipy/optimize/zeros.py:149: RuntimeWarning: Tolerance of -1.78198787013e+15 reached\n",
        "  warnings.warn(msg, RuntimeWarning)\n",
        "/Library/Python/2.7/site-packages/scipy-0.13.0.dev_c31f167_20130514-py2.7-macosx-10.8-intel.egg/scipy/optimize/zeros.py:149: RuntimeWarning: Tolerance of -5.25099283314e+14 reached\n",
        "  warnings.warn(msg, RuntimeWarning)\n"
       ]
      },
      {
       "output_type": "stream",
       "stream": "stderr",
       "text": [
        "/Library/Python/2.7/site-packages/scipy-0.13.0.dev_c31f167_20130514-py2.7-macosx-10.8-intel.egg/scipy/optimize/zeros.py:149: RuntimeWarning: Tolerance of -2.32189178397e+14 reached\n",
        "  warnings.warn(msg, RuntimeWarning)\n",
        "/Library/Python/2.7/site-packages/scipy-0.13.0.dev_c31f167_20130514-py2.7-macosx-10.8-intel.egg/scipy/optimize/zeros.py:149: RuntimeWarning: Tolerance of -1.0245106815e+15 reached\n",
        "  warnings.warn(msg, RuntimeWarning)\n"
       ]
      },
      {
       "output_type": "stream",
       "stream": "stderr",
       "text": [
        "/Library/Python/2.7/site-packages/scipy-0.13.0.dev_c31f167_20130514-py2.7-macosx-10.8-intel.egg/scipy/optimize/zeros.py:149: RuntimeWarning: Tolerance of 3.36008770819e+16 reached\n",
        "  warnings.warn(msg, RuntimeWarning)\n",
        "/Library/Python/2.7/site-packages/scipy-0.13.0.dev_c31f167_20130514-py2.7-macosx-10.8-intel.egg/scipy/optimize/zeros.py:149: RuntimeWarning: Tolerance of 1.51195516577e+16 reached\n",
        "  warnings.warn(msg, RuntimeWarning)\n"
       ]
      },
      {
       "output_type": "stream",
       "stream": "stderr",
       "text": [
        "/Library/Python/2.7/site-packages/scipy-0.13.0.dev_c31f167_20130514-py2.7-macosx-10.8-intel.egg/scipy/optimize/zeros.py:149: RuntimeWarning: Tolerance of -4.56372723338e+12 reached\n",
        "  warnings.warn(msg, RuntimeWarning)\n",
        "/Library/Python/2.7/site-packages/scipy-0.13.0.dev_c31f167_20130514-py2.7-macosx-10.8-intel.egg/scipy/optimize/zeros.py:149: RuntimeWarning: Tolerance of -7.35999984758e+14 reached\n",
        "  warnings.warn(msg, RuntimeWarning)\n"
       ]
      },
      {
       "output_type": "stream",
       "stream": "stderr",
       "text": [
        "/Library/Python/2.7/site-packages/scipy-0.13.0.dev_c31f167_20130514-py2.7-macosx-10.8-intel.egg/scipy/optimize/zeros.py:149: RuntimeWarning: Tolerance of -1.13803824431e+17 reached\n",
        "  warnings.warn(msg, RuntimeWarning)\n",
        "/Library/Python/2.7/site-packages/scipy-0.13.0.dev_c31f167_20130514-py2.7-macosx-10.8-intel.egg/scipy/optimize/zeros.py:149: RuntimeWarning: Tolerance of -4.46198287665e+15 reached\n",
        "  warnings.warn(msg, RuntimeWarning)\n"
       ]
      },
      {
       "output_type": "stream",
       "stream": "stderr",
       "text": [
        "/Library/Python/2.7/site-packages/scipy-0.13.0.dev_c31f167_20130514-py2.7-macosx-10.8-intel.egg/scipy/optimize/zeros.py:149: RuntimeWarning: Tolerance of -6.45837832336e+14 reached\n",
        "  warnings.warn(msg, RuntimeWarning)\n",
        "/Library/Python/2.7/site-packages/scipy-0.13.0.dev_c31f167_20130514-py2.7-macosx-10.8-intel.egg/scipy/optimize/zeros.py:149: RuntimeWarning: Tolerance of -6.798261688e+15 reached\n",
        "  warnings.warn(msg, RuntimeWarning)\n"
       ]
      },
      {
       "output_type": "stream",
       "stream": "stderr",
       "text": [
        "/Library/Python/2.7/site-packages/scipy-0.13.0.dev_c31f167_20130514-py2.7-macosx-10.8-intel.egg/scipy/optimize/zeros.py:149: RuntimeWarning: Tolerance of -2.00595948224e+16 reached\n",
        "  warnings.warn(msg, RuntimeWarning)\n",
        "/Library/Python/2.7/site-packages/scipy-0.13.0.dev_c31f167_20130514-py2.7-macosx-10.8-intel.egg/scipy/optimize/zeros.py:149: RuntimeWarning: Tolerance of -1.34796850528e+16 reached\n",
        "  warnings.warn(msg, RuntimeWarning)\n"
       ]
      },
      {
       "output_type": "stream",
       "stream": "stderr",
       "text": [
        "/Library/Python/2.7/site-packages/scipy-0.13.0.dev_c31f167_20130514-py2.7-macosx-10.8-intel.egg/scipy/optimize/zeros.py:149: RuntimeWarning: Tolerance of 3.56331484229e+15 reached\n",
        "  warnings.warn(msg, RuntimeWarning)\n",
        "/Library/Python/2.7/site-packages/scipy-0.13.0.dev_c31f167_20130514-py2.7-macosx-10.8-intel.egg/scipy/optimize/zeros.py:149: RuntimeWarning: Tolerance of 1.39263788601e+16 reached\n",
        "  warnings.warn(msg, RuntimeWarning)\n"
       ]
      },
      {
       "output_type": "stream",
       "stream": "stderr",
       "text": [
        "/Library/Python/2.7/site-packages/scipy-0.13.0.dev_c31f167_20130514-py2.7-macosx-10.8-intel.egg/scipy/optimize/zeros.py:149: RuntimeWarning: Tolerance of -4.6448231945e+12 reached\n",
        "  warnings.warn(msg, RuntimeWarning)\n",
        "/Library/Python/2.7/site-packages/scipy-0.13.0.dev_c31f167_20130514-py2.7-macosx-10.8-intel.egg/scipy/optimize/zeros.py:149: RuntimeWarning: Tolerance of 6.50634214625e+15 reached\n",
        "  warnings.warn(msg, RuntimeWarning)\n"
       ]
      },
      {
       "output_type": "stream",
       "stream": "stderr",
       "text": [
        "/Library/Python/2.7/site-packages/scipy-0.13.0.dev_c31f167_20130514-py2.7-macosx-10.8-intel.egg/scipy/optimize/zeros.py:149: RuntimeWarning: Tolerance of -1.86266287051e+15 reached\n",
        "  warnings.warn(msg, RuntimeWarning)\n",
        "/Library/Python/2.7/site-packages/scipy-0.13.0.dev_c31f167_20130514-py2.7-macosx-10.8-intel.egg/scipy/optimize/zeros.py:149: RuntimeWarning: Tolerance of -4.04146100704e+15 reached\n",
        "  warnings.warn(msg, RuntimeWarning)\n"
       ]
      },
      {
       "output_type": "stream",
       "stream": "stderr",
       "text": [
        "/Library/Python/2.7/site-packages/scipy-0.13.0.dev_c31f167_20130514-py2.7-macosx-10.8-intel.egg/scipy/optimize/zeros.py:149: RuntimeWarning: Tolerance of 6.49931929093e+13 reached\n",
        "  warnings.warn(msg, RuntimeWarning)\n",
        "/Library/Python/2.7/site-packages/scipy-0.13.0.dev_c31f167_20130514-py2.7-macosx-10.8-intel.egg/scipy/optimize/zeros.py:149: RuntimeWarning: Tolerance of -7.87364551302e+16 reached\n",
        "  warnings.warn(msg, RuntimeWarning)\n"
       ]
      },
      {
       "output_type": "stream",
       "stream": "stderr",
       "text": [
        "/Library/Python/2.7/site-packages/scipy-0.13.0.dev_c31f167_20130514-py2.7-macosx-10.8-intel.egg/scipy/optimize/zeros.py:149: RuntimeWarning: Tolerance of -1.02137049767e+16 reached\n",
        "  warnings.warn(msg, RuntimeWarning)\n",
        "/Library/Python/2.7/site-packages/scipy-0.13.0.dev_c31f167_20130514-py2.7-macosx-10.8-intel.egg/scipy/optimize/zeros.py:149: RuntimeWarning: Tolerance of 1.05481550066e+16 reached\n",
        "  warnings.warn(msg, RuntimeWarning)\n"
       ]
      },
      {
       "output_type": "stream",
       "stream": "stderr",
       "text": [
        "/Library/Python/2.7/site-packages/scipy-0.13.0.dev_c31f167_20130514-py2.7-macosx-10.8-intel.egg/scipy/optimize/zeros.py:149: RuntimeWarning: Tolerance of 5.38933024795e+14 reached\n",
        "  warnings.warn(msg, RuntimeWarning)\n",
        "/Library/Python/2.7/site-packages/scipy-0.13.0.dev_c31f167_20130514-py2.7-macosx-10.8-intel.egg/scipy/optimize/zeros.py:149: RuntimeWarning: Tolerance of 2.92567909242e+16 reached\n",
        "  warnings.warn(msg, RuntimeWarning)\n"
       ]
      },
      {
       "output_type": "stream",
       "stream": "stderr",
       "text": [
        "/Library/Python/2.7/site-packages/scipy-0.13.0.dev_c31f167_20130514-py2.7-macosx-10.8-intel.egg/scipy/optimize/zeros.py:149: RuntimeWarning: Tolerance of 8.29559499128e+13 reached\n",
        "  warnings.warn(msg, RuntimeWarning)\n",
        "/Library/Python/2.7/site-packages/scipy-0.13.0.dev_c31f167_20130514-py2.7-macosx-10.8-intel.egg/scipy/optimize/zeros.py:149: RuntimeWarning: Tolerance of 7.44473038192e+16 reached\n",
        "  warnings.warn(msg, RuntimeWarning)\n"
       ]
      },
      {
       "output_type": "stream",
       "stream": "stderr",
       "text": [
        "/Library/Python/2.7/site-packages/scipy-0.13.0.dev_c31f167_20130514-py2.7-macosx-10.8-intel.egg/scipy/optimize/zeros.py:149: RuntimeWarning: Tolerance of 3.14777009647e+16 reached\n",
        "  warnings.warn(msg, RuntimeWarning)\n",
        "/Library/Python/2.7/site-packages/scipy-0.13.0.dev_c31f167_20130514-py2.7-macosx-10.8-intel.egg/scipy/optimize/zeros.py:149: RuntimeWarning: Tolerance of -1.69139966888e+16 reached\n",
        "  warnings.warn(msg, RuntimeWarning)\n"
       ]
      },
      {
       "output_type": "stream",
       "stream": "stderr",
       "text": [
        "/Library/Python/2.7/site-packages/scipy-0.13.0.dev_c31f167_20130514-py2.7-macosx-10.8-intel.egg/scipy/optimize/zeros.py:149: RuntimeWarning: Tolerance of -8.12600891887e+16 reached\n",
        "  warnings.warn(msg, RuntimeWarning)\n",
        "/Library/Python/2.7/site-packages/scipy-0.13.0.dev_c31f167_20130514-py2.7-macosx-10.8-intel.egg/scipy/optimize/zeros.py:149: RuntimeWarning: Tolerance of -5.43647537601e+14 reached\n",
        "  warnings.warn(msg, RuntimeWarning)\n"
       ]
      },
      {
       "output_type": "stream",
       "stream": "stderr",
       "text": [
        "/Library/Python/2.7/site-packages/scipy-0.13.0.dev_c31f167_20130514-py2.7-macosx-10.8-intel.egg/scipy/optimize/zeros.py:149: RuntimeWarning: Tolerance of -5.20526580544e+16 reached\n",
        "  warnings.warn(msg, RuntimeWarning)\n",
        "/Library/Python/2.7/site-packages/scipy-0.13.0.dev_c31f167_20130514-py2.7-macosx-10.8-intel.egg/scipy/optimize/zeros.py:149: RuntimeWarning: Tolerance of 9.70086703362e+14 reached\n",
        "  warnings.warn(msg, RuntimeWarning)\n"
       ]
      },
      {
       "output_type": "stream",
       "stream": "stderr",
       "text": [
        "/Library/Python/2.7/site-packages/scipy-0.13.0.dev_c31f167_20130514-py2.7-macosx-10.8-intel.egg/scipy/optimize/zeros.py:149: RuntimeWarning: Tolerance of -5.69256076709e+15 reached\n",
        "  warnings.warn(msg, RuntimeWarning)\n",
        "/Library/Python/2.7/site-packages/scipy-0.13.0.dev_c31f167_20130514-py2.7-macosx-10.8-intel.egg/scipy/optimize/zeros.py:149: RuntimeWarning: Tolerance of 1.62130549814e+17 reached\n",
        "  warnings.warn(msg, RuntimeWarning)\n"
       ]
      },
      {
       "output_type": "stream",
       "stream": "stderr",
       "text": [
        "/Library/Python/2.7/site-packages/scipy-0.13.0.dev_c31f167_20130514-py2.7-macosx-10.8-intel.egg/scipy/optimize/zeros.py:149: RuntimeWarning: Tolerance of 4.88580461098e+16 reached\n",
        "  warnings.warn(msg, RuntimeWarning)\n",
        "/Library/Python/2.7/site-packages/scipy-0.13.0.dev_c31f167_20130514-py2.7-macosx-10.8-intel.egg/scipy/optimize/zeros.py:149: RuntimeWarning: Tolerance of 1.05106352964e+15 reached\n",
        "  warnings.warn(msg, RuntimeWarning)\n"
       ]
      },
      {
       "output_type": "stream",
       "stream": "stderr",
       "text": [
        "/Library/Python/2.7/site-packages/scipy-0.13.0.dev_c31f167_20130514-py2.7-macosx-10.8-intel.egg/scipy/optimize/zeros.py:149: RuntimeWarning: Tolerance of -2.28324734269e+16 reached\n",
        "  warnings.warn(msg, RuntimeWarning)\n",
        "/Library/Python/2.7/site-packages/scipy-0.13.0.dev_c31f167_20130514-py2.7-macosx-10.8-intel.egg/scipy/optimize/zeros.py:149: RuntimeWarning: Tolerance of 5.49992470588e+14 reached\n",
        "  warnings.warn(msg, RuntimeWarning)\n"
       ]
      },
      {
       "output_type": "stream",
       "stream": "stderr",
       "text": [
        "/Library/Python/2.7/site-packages/scipy-0.13.0.dev_c31f167_20130514-py2.7-macosx-10.8-intel.egg/scipy/optimize/zeros.py:149: RuntimeWarning: Tolerance of -1.20140612125e-07 reached\n",
        "  warnings.warn(msg, RuntimeWarning)\n",
        "/Library/Python/2.7/site-packages/scipy-0.13.0.dev_c31f167_20130514-py2.7-macosx-10.8-intel.egg/scipy/optimize/zeros.py:149: RuntimeWarning: Tolerance of 1.24187850744e+15 reached\n",
        "  warnings.warn(msg, RuntimeWarning)\n"
       ]
      },
      {
       "output_type": "stream",
       "stream": "stdout",
       "text": [
        "\n",
        "deleting item T1map_LL"
       ]
      },
      {
       "output_type": "stream",
       "stream": "stdout",
       "text": [
        "\n",
        "deleting item T1map_LL_fitdict"
       ]
      },
      {
       "output_type": "stream",
       "stream": "stderr",
       "text": [
        "/Library/Python/2.7/site-packages/scipy-0.13.0.dev_c31f167_20130514-py2.7-macosx-10.8-intel.egg/scipy/optimize/zeros.py:149: RuntimeWarning: Tolerance of -1.66712387631e+16 reached\n",
        "  warnings.warn(msg, RuntimeWarning)\n",
        "WARNING:sarpy.io.BRUKERIO:NSLICES not equal to number of ACQ_obj_order\n"
       ]
      },
      {
       "output_type": "stream",
       "stream": "stderr",
       "text": [
        "/Library/Python/2.7/site-packages/scipy-0.13.0.dev_c31f167_20130514-py2.7-macosx-10.8-intel.egg/scipy/optimize/zeros.py:149: RuntimeWarning: Tolerance of 3.71692800437e+15 reached\n",
        "  warnings.warn(msg, RuntimeWarning)\n",
        "/Library/Python/2.7/site-packages/scipy-0.13.0.dev_c31f167_20130514-py2.7-macosx-10.8-intel.egg/scipy/optimize/zeros.py:149: RuntimeWarning: Tolerance of -2.72769664504e+15 reached\n",
        "  warnings.warn(msg, RuntimeWarning)\n"
       ]
      },
      {
       "output_type": "stream",
       "stream": "stderr",
       "text": [
        "/Library/Python/2.7/site-packages/scipy-0.13.0.dev_c31f167_20130514-py2.7-macosx-10.8-intel.egg/scipy/optimize/zeros.py:149: RuntimeWarning: Tolerance of -7.45896984021e+15 reached\n",
        "  warnings.warn(msg, RuntimeWarning)\n",
        "/Library/Python/2.7/site-packages/scipy-0.13.0.dev_c31f167_20130514-py2.7-macosx-10.8-intel.egg/scipy/optimize/zeros.py:149: RuntimeWarning: Tolerance of 1.86993482361e+18 reached\n",
        "  warnings.warn(msg, RuntimeWarning)\n"
       ]
      },
      {
       "output_type": "stream",
       "stream": "stderr",
       "text": [
        "/Library/Python/2.7/site-packages/scipy-0.13.0.dev_c31f167_20130514-py2.7-macosx-10.8-intel.egg/scipy/optimize/zeros.py:149: RuntimeWarning: Tolerance of -5.84995139752e+15 reached\n",
        "  warnings.warn(msg, RuntimeWarning)\n",
        "/Library/Python/2.7/site-packages/scipy-0.13.0.dev_c31f167_20130514-py2.7-macosx-10.8-intel.egg/scipy/optimize/zeros.py:149: RuntimeWarning: Tolerance of -2.25913404044e+16 reached\n",
        "  warnings.warn(msg, RuntimeWarning)\n"
       ]
      },
      {
       "output_type": "stream",
       "stream": "stderr",
       "text": [
        "/Library/Python/2.7/site-packages/scipy-0.13.0.dev_c31f167_20130514-py2.7-macosx-10.8-intel.egg/scipy/optimize/zeros.py:149: RuntimeWarning: Tolerance of 2.9872519964e+16 reached\n",
        "  warnings.warn(msg, RuntimeWarning)\n",
        "/Library/Python/2.7/site-packages/scipy-0.13.0.dev_c31f167_20130514-py2.7-macosx-10.8-intel.egg/scipy/optimize/zeros.py:149: RuntimeWarning: Tolerance of 5.43283728894e+13 reached\n",
        "  warnings.warn(msg, RuntimeWarning)\n"
       ]
      },
      {
       "output_type": "stream",
       "stream": "stderr",
       "text": [
        "/Library/Python/2.7/site-packages/scipy-0.13.0.dev_c31f167_20130514-py2.7-macosx-10.8-intel.egg/scipy/optimize/zeros.py:149: RuntimeWarning: Tolerance of -1.45600543405e+16 reached\n",
        "  warnings.warn(msg, RuntimeWarning)\n",
        "/Library/Python/2.7/site-packages/scipy-0.13.0.dev_c31f167_20130514-py2.7-macosx-10.8-intel.egg/scipy/optimize/zeros.py:149: RuntimeWarning: Tolerance of -2.98964196681e+16 reached\n",
        "  warnings.warn(msg, RuntimeWarning)\n"
       ]
      },
      {
       "output_type": "stream",
       "stream": "stderr",
       "text": [
        "/Library/Python/2.7/site-packages/scipy-0.13.0.dev_c31f167_20130514-py2.7-macosx-10.8-intel.egg/scipy/optimize/zeros.py:149: RuntimeWarning: Tolerance of 1.08322390402e+16 reached\n",
        "  warnings.warn(msg, RuntimeWarning)\n",
        "/Library/Python/2.7/site-packages/scipy-0.13.0.dev_c31f167_20130514-py2.7-macosx-10.8-intel.egg/scipy/optimize/zeros.py:149: RuntimeWarning: Tolerance of -2.7103531108e+15 reached\n",
        "  warnings.warn(msg, RuntimeWarning)\n"
       ]
      },
      {
       "output_type": "stream",
       "stream": "stderr",
       "text": [
        "/Library/Python/2.7/site-packages/scipy-0.13.0.dev_c31f167_20130514-py2.7-macosx-10.8-intel.egg/scipy/optimize/zeros.py:149: RuntimeWarning: Tolerance of -1.59318031727e+15 reached\n",
        "  warnings.warn(msg, RuntimeWarning)\n",
        "/Library/Python/2.7/site-packages/scipy-0.13.0.dev_c31f167_20130514-py2.7-macosx-10.8-intel.egg/scipy/optimize/zeros.py:149: RuntimeWarning: Tolerance of 4.22772554555e+16 reached\n",
        "  warnings.warn(msg, RuntimeWarning)\n"
       ]
      },
      {
       "output_type": "stream",
       "stream": "stderr",
       "text": [
        "/Library/Python/2.7/site-packages/scipy-0.13.0.dev_c31f167_20130514-py2.7-macosx-10.8-intel.egg/scipy/optimize/zeros.py:149: RuntimeWarning: Tolerance of 59051122254.5 reached\n",
        "  warnings.warn(msg, RuntimeWarning)\n",
        "/Library/Python/2.7/site-packages/scipy-0.13.0.dev_c31f167_20130514-py2.7-macosx-10.8-intel.egg/scipy/optimize/zeros.py:149: RuntimeWarning: Tolerance of 1.3468923805e+14 reached\n",
        "  warnings.warn(msg, RuntimeWarning)\n"
       ]
      },
      {
       "output_type": "stream",
       "stream": "stderr",
       "text": [
        "/Library/Python/2.7/site-packages/scipy-0.13.0.dev_c31f167_20130514-py2.7-macosx-10.8-intel.egg/scipy/optimize/zeros.py:149: RuntimeWarning: Tolerance of 2.8033595537e+14 reached\n",
        "  warnings.warn(msg, RuntimeWarning)\n",
        "/Library/Python/2.7/site-packages/scipy-0.13.0.dev_c31f167_20130514-py2.7-macosx-10.8-intel.egg/scipy/optimize/zeros.py:149: RuntimeWarning: Tolerance of -7.80059682265e+14 reached\n",
        "  warnings.warn(msg, RuntimeWarning)\n"
       ]
      },
      {
       "output_type": "stream",
       "stream": "stderr",
       "text": [
        "/Library/Python/2.7/site-packages/scipy-0.13.0.dev_c31f167_20130514-py2.7-macosx-10.8-intel.egg/scipy/optimize/zeros.py:149: RuntimeWarning: Tolerance of -1.9093971503e+14 reached\n",
        "  warnings.warn(msg, RuntimeWarning)\n",
        "/Library/Python/2.7/site-packages/scipy-0.13.0.dev_c31f167_20130514-py2.7-macosx-10.8-intel.egg/scipy/optimize/zeros.py:149: RuntimeWarning: Tolerance of 8.35253834065e+14 reached\n",
        "  warnings.warn(msg, RuntimeWarning)\n"
       ]
      },
      {
       "output_type": "stream",
       "stream": "stderr",
       "text": [
        "/Library/Python/2.7/site-packages/scipy-0.13.0.dev_c31f167_20130514-py2.7-macosx-10.8-intel.egg/scipy/optimize/zeros.py:149: RuntimeWarning: Tolerance of -6.73709676366e+15 reached\n",
        "  warnings.warn(msg, RuntimeWarning)\n",
        "/Library/Python/2.7/site-packages/scipy-0.13.0.dev_c31f167_20130514-py2.7-macosx-10.8-intel.egg/scipy/optimize/zeros.py:149: RuntimeWarning: Tolerance of 5.57878940933e+14 reached\n",
        "  warnings.warn(msg, RuntimeWarning)\n"
       ]
      },
      {
       "output_type": "stream",
       "stream": "stderr",
       "text": [
        "/Library/Python/2.7/site-packages/scipy-0.13.0.dev_c31f167_20130514-py2.7-macosx-10.8-intel.egg/scipy/optimize/zeros.py:149: RuntimeWarning: Tolerance of -1.22213663604e+16 reached\n",
        "  warnings.warn(msg, RuntimeWarning)\n",
        "/Library/Python/2.7/site-packages/scipy-0.13.0.dev_c31f167_20130514-py2.7-macosx-10.8-intel.egg/scipy/optimize/zeros.py:149: RuntimeWarning: Tolerance of 4.64948994079e+16 reached\n",
        "  warnings.warn(msg, RuntimeWarning)\n"
       ]
      },
      {
       "output_type": "stream",
       "stream": "stderr",
       "text": [
        "/Library/Python/2.7/site-packages/scipy-0.13.0.dev_c31f167_20130514-py2.7-macosx-10.8-intel.egg/scipy/optimize/zeros.py:149: RuntimeWarning: Tolerance of -8.14149189774e+14 reached\n",
        "  warnings.warn(msg, RuntimeWarning)\n",
        "/Library/Python/2.7/site-packages/scipy-0.13.0.dev_c31f167_20130514-py2.7-macosx-10.8-intel.egg/scipy/optimize/zeros.py:149: RuntimeWarning: Tolerance of 2.57964960098e+16 reached\n",
        "  warnings.warn(msg, RuntimeWarning)\n"
       ]
      },
      {
       "output_type": "stream",
       "stream": "stderr",
       "text": [
        "/Library/Python/2.7/site-packages/scipy-0.13.0.dev_c31f167_20130514-py2.7-macosx-10.8-intel.egg/scipy/optimize/zeros.py:149: RuntimeWarning: Tolerance of -3.07564130087e+14 reached\n",
        "  warnings.warn(msg, RuntimeWarning)\n",
        "/Library/Python/2.7/site-packages/scipy-0.13.0.dev_c31f167_20130514-py2.7-macosx-10.8-intel.egg/scipy/optimize/zeros.py:149: RuntimeWarning: Tolerance of -9.15509611836e+14 reached\n",
        "  warnings.warn(msg, RuntimeWarning)\n"
       ]
      },
      {
       "output_type": "stream",
       "stream": "stderr",
       "text": [
        "/Library/Python/2.7/site-packages/scipy-0.13.0.dev_c31f167_20130514-py2.7-macosx-10.8-intel.egg/scipy/optimize/zeros.py:149: RuntimeWarning: Tolerance of 2.80632180449e+15 reached\n",
        "  warnings.warn(msg, RuntimeWarning)\n",
        "/Library/Python/2.7/site-packages/scipy-0.13.0.dev_c31f167_20130514-py2.7-macosx-10.8-intel.egg/scipy/optimize/zeros.py:149: RuntimeWarning: Tolerance of 23390215903.8 reached\n",
        "  warnings.warn(msg, RuntimeWarning)\n"
       ]
      },
      {
       "output_type": "stream",
       "stream": "stderr",
       "text": [
        "/Library/Python/2.7/site-packages/scipy-0.13.0.dev_c31f167_20130514-py2.7-macosx-10.8-intel.egg/scipy/optimize/zeros.py:149: RuntimeWarning: Tolerance of -3.30308011204e+16 reached\n",
        "  warnings.warn(msg, RuntimeWarning)\n",
        "/Library/Python/2.7/site-packages/scipy-0.13.0.dev_c31f167_20130514-py2.7-macosx-10.8-intel.egg/scipy/optimize/zeros.py:149: RuntimeWarning: Tolerance of -1.44318282887e+16 reached\n",
        "  warnings.warn(msg, RuntimeWarning)\n"
       ]
      },
      {
       "output_type": "stream",
       "stream": "stderr",
       "text": [
        "/Library/Python/2.7/site-packages/scipy-0.13.0.dev_c31f167_20130514-py2.7-macosx-10.8-intel.egg/scipy/optimize/zeros.py:149: RuntimeWarning: Tolerance of 2.52096914941e+15 reached\n",
        "  warnings.warn(msg, RuntimeWarning)\n",
        "/Library/Python/2.7/site-packages/scipy-0.13.0.dev_c31f167_20130514-py2.7-macosx-10.8-intel.egg/scipy/optimize/zeros.py:149: RuntimeWarning: Tolerance of -3.11216948709e+15 reached\n",
        "  warnings.warn(msg, RuntimeWarning)\n"
       ]
      },
      {
       "output_type": "stream",
       "stream": "stderr",
       "text": [
        "/Library/Python/2.7/site-packages/scipy-0.13.0.dev_c31f167_20130514-py2.7-macosx-10.8-intel.egg/scipy/optimize/zeros.py:149: RuntimeWarning: Tolerance of 3.20732403044e+16 reached\n",
        "  warnings.warn(msg, RuntimeWarning)\n",
        "/Library/Python/2.7/site-packages/scipy-0.13.0.dev_c31f167_20130514-py2.7-macosx-10.8-intel.egg/scipy/optimize/zeros.py:149: RuntimeWarning: Tolerance of 9.02494722691e+15 reached\n",
        "  warnings.warn(msg, RuntimeWarning)\n"
       ]
      },
      {
       "output_type": "stream",
       "stream": "stderr",
       "text": [
        "/Library/Python/2.7/site-packages/scipy-0.13.0.dev_c31f167_20130514-py2.7-macosx-10.8-intel.egg/scipy/optimize/zeros.py:149: RuntimeWarning: Tolerance of -5.50739340765e+15 reached\n",
        "  warnings.warn(msg, RuntimeWarning)\n",
        "/Library/Python/2.7/site-packages/scipy-0.13.0.dev_c31f167_20130514-py2.7-macosx-10.8-intel.egg/scipy/optimize/zeros.py:149: RuntimeWarning: Tolerance of 3.85250071854e+14 reached\n",
        "  warnings.warn(msg, RuntimeWarning)\n"
       ]
      },
      {
       "output_type": "stream",
       "stream": "stderr",
       "text": [
        "/Library/Python/2.7/site-packages/scipy-0.13.0.dev_c31f167_20130514-py2.7-macosx-10.8-intel.egg/scipy/optimize/zeros.py:149: RuntimeWarning: Tolerance of 1.7174396805e+13 reached\n",
        "  warnings.warn(msg, RuntimeWarning)\n",
        "/Library/Python/2.7/site-packages/scipy-0.13.0.dev_c31f167_20130514-py2.7-macosx-10.8-intel.egg/scipy/optimize/zeros.py:149: RuntimeWarning: Tolerance of 2.30875787886e+16 reached\n",
        "  warnings.warn(msg, RuntimeWarning)\n"
       ]
      },
      {
       "output_type": "stream",
       "stream": "stderr",
       "text": [
        "/Library/Python/2.7/site-packages/scipy-0.13.0.dev_c31f167_20130514-py2.7-macosx-10.8-intel.egg/scipy/optimize/zeros.py:149: RuntimeWarning: Tolerance of 9.43846333864e+15 reached\n",
        "  warnings.warn(msg, RuntimeWarning)\n",
        "/Library/Python/2.7/site-packages/scipy-0.13.0.dev_c31f167_20130514-py2.7-macosx-10.8-intel.egg/scipy/optimize/zeros.py:149: RuntimeWarning: Tolerance of -4.18934110877e+15 reached\n",
        "  warnings.warn(msg, RuntimeWarning)\n"
       ]
      },
      {
       "output_type": "stream",
       "stream": "stderr",
       "text": [
        "/Library/Python/2.7/site-packages/scipy-0.13.0.dev_c31f167_20130514-py2.7-macosx-10.8-intel.egg/scipy/optimize/zeros.py:149: RuntimeWarning: Tolerance of -1.22666030083e+18 reached\n",
        "  warnings.warn(msg, RuntimeWarning)\n",
        "/Library/Python/2.7/site-packages/scipy-0.13.0.dev_c31f167_20130514-py2.7-macosx-10.8-intel.egg/scipy/optimize/zeros.py:149: RuntimeWarning: Tolerance of 2.54228710378e+15 reached\n",
        "  warnings.warn(msg, RuntimeWarning)\n"
       ]
      },
      {
       "output_type": "stream",
       "stream": "stderr",
       "text": [
        "/Library/Python/2.7/site-packages/scipy-0.13.0.dev_c31f167_20130514-py2.7-macosx-10.8-intel.egg/scipy/optimize/zeros.py:149: RuntimeWarning: Tolerance of -2.10176277848e+15 reached\n",
        "  warnings.warn(msg, RuntimeWarning)\n",
        "/Library/Python/2.7/site-packages/scipy-0.13.0.dev_c31f167_20130514-py2.7-macosx-10.8-intel.egg/scipy/optimize/zeros.py:149: RuntimeWarning: Tolerance of -6.16964341942e+14 reached\n",
        "  warnings.warn(msg, RuntimeWarning)\n"
       ]
      },
      {
       "output_type": "stream",
       "stream": "stderr",
       "text": [
        "/Library/Python/2.7/site-packages/scipy-0.13.0.dev_c31f167_20130514-py2.7-macosx-10.8-intel.egg/scipy/optimize/zeros.py:149: RuntimeWarning: Tolerance of -6.25270854502e+14 reached\n",
        "  warnings.warn(msg, RuntimeWarning)\n",
        "/Library/Python/2.7/site-packages/scipy-0.13.0.dev_c31f167_20130514-py2.7-macosx-10.8-intel.egg/scipy/optimize/zeros.py:149: RuntimeWarning: Tolerance of 7.27093685859e+15 reached\n",
        "  warnings.warn(msg, RuntimeWarning)\n"
       ]
      },
      {
       "output_type": "stream",
       "stream": "stderr",
       "text": [
        "/Library/Python/2.7/site-packages/scipy-0.13.0.dev_c31f167_20130514-py2.7-macosx-10.8-intel.egg/scipy/optimize/zeros.py:149: RuntimeWarning: Tolerance of -6.57953275464e+15 reached\n",
        "  warnings.warn(msg, RuntimeWarning)\n",
        "/Library/Python/2.7/site-packages/scipy-0.13.0.dev_c31f167_20130514-py2.7-macosx-10.8-intel.egg/scipy/optimize/zeros.py:149: RuntimeWarning: Tolerance of 1.95598977555e+12 reached\n",
        "  warnings.warn(msg, RuntimeWarning)\n"
       ]
      },
      {
       "output_type": "stream",
       "stream": "stderr",
       "text": [
        "/Library/Python/2.7/site-packages/scipy-0.13.0.dev_c31f167_20130514-py2.7-macosx-10.8-intel.egg/scipy/optimize/zeros.py:149: RuntimeWarning: Tolerance of -1.13650457934e-07 reached\n",
        "  warnings.warn(msg, RuntimeWarning)\n",
        "/Library/Python/2.7/site-packages/scipy-0.13.0.dev_c31f167_20130514-py2.7-macosx-10.8-intel.egg/scipy/optimize/zeros.py:149: RuntimeWarning: Tolerance of 9.2185425395e+14 reached\n",
        "  warnings.warn(msg, RuntimeWarning)\n"
       ]
      },
      {
       "output_type": "stream",
       "stream": "stderr",
       "text": [
        "/Library/Python/2.7/site-packages/scipy-0.13.0.dev_c31f167_20130514-py2.7-macosx-10.8-intel.egg/scipy/optimize/zeros.py:149: RuntimeWarning: Tolerance of -1.6304086114e+16 reached\n",
        "  warnings.warn(msg, RuntimeWarning)\n",
        "/Library/Python/2.7/site-packages/scipy-0.13.0.dev_c31f167_20130514-py2.7-macosx-10.8-intel.egg/scipy/optimize/zeros.py:149: RuntimeWarning: Tolerance of 2.17947571425e+16 reached\n",
        "  warnings.warn(msg, RuntimeWarning)\n"
       ]
      },
      {
       "output_type": "stream",
       "stream": "stderr",
       "text": [
        "/Library/Python/2.7/site-packages/scipy-0.13.0.dev_c31f167_20130514-py2.7-macosx-10.8-intel.egg/scipy/optimize/zeros.py:149: RuntimeWarning: Tolerance of 4.34030563258e+15 reached\n",
        "  warnings.warn(msg, RuntimeWarning)\n",
        "/Library/Python/2.7/site-packages/scipy-0.13.0.dev_c31f167_20130514-py2.7-macosx-10.8-intel.egg/scipy/optimize/zeros.py:149: RuntimeWarning: Tolerance of 7.83695646925e+16 reached\n",
        "  warnings.warn(msg, RuntimeWarning)\n"
       ]
      },
      {
       "output_type": "stream",
       "stream": "stderr",
       "text": [
        "/Library/Python/2.7/site-packages/scipy-0.13.0.dev_c31f167_20130514-py2.7-macosx-10.8-intel.egg/scipy/optimize/zeros.py:149: RuntimeWarning: Tolerance of 2.80988127249e+15 reached\n",
        "  warnings.warn(msg, RuntimeWarning)\n",
        "/Library/Python/2.7/site-packages/scipy-0.13.0.dev_c31f167_20130514-py2.7-macosx-10.8-intel.egg/scipy/optimize/zeros.py:149: RuntimeWarning: Tolerance of -4.56233256385e+15 reached\n",
        "  warnings.warn(msg, RuntimeWarning)\n"
       ]
      },
      {
       "output_type": "stream",
       "stream": "stderr",
       "text": [
        "/Library/Python/2.7/site-packages/scipy-0.13.0.dev_c31f167_20130514-py2.7-macosx-10.8-intel.egg/scipy/optimize/zeros.py:149: RuntimeWarning: Tolerance of -4.22794094984e+15 reached\n",
        "  warnings.warn(msg, RuntimeWarning)\n",
        "/Library/Python/2.7/site-packages/scipy-0.13.0.dev_c31f167_20130514-py2.7-macosx-10.8-intel.egg/scipy/optimize/zeros.py:149: RuntimeWarning: Tolerance of 1.1047349628e+15 reached\n",
        "  warnings.warn(msg, RuntimeWarning)\n"
       ]
      },
      {
       "output_type": "stream",
       "stream": "stderr",
       "text": [
        "/Library/Python/2.7/site-packages/scipy-0.13.0.dev_c31f167_20130514-py2.7-macosx-10.8-intel.egg/scipy/optimize/zeros.py:149: RuntimeWarning: Tolerance of -7.15902217132e+15 reached\n",
        "  warnings.warn(msg, RuntimeWarning)\n",
        "/Library/Python/2.7/site-packages/scipy-0.13.0.dev_c31f167_20130514-py2.7-macosx-10.8-intel.egg/scipy/optimize/zeros.py:149: RuntimeWarning: Tolerance of 2.41426992286e+16 reached\n",
        "  warnings.warn(msg, RuntimeWarning)\n"
       ]
      },
      {
       "output_type": "stream",
       "stream": "stderr",
       "text": [
        "/Library/Python/2.7/site-packages/scipy-0.13.0.dev_c31f167_20130514-py2.7-macosx-10.8-intel.egg/scipy/optimize/zeros.py:149: RuntimeWarning: Tolerance of 5.91405459262e+14 reached\n",
        "  warnings.warn(msg, RuntimeWarning)\n",
        "/Library/Python/2.7/site-packages/scipy-0.13.0.dev_c31f167_20130514-py2.7-macosx-10.8-intel.egg/scipy/optimize/zeros.py:149: RuntimeWarning: Tolerance of -8.89382490846e+16 reached\n",
        "  warnings.warn(msg, RuntimeWarning)\n"
       ]
      },
      {
       "output_type": "stream",
       "stream": "stderr",
       "text": [
        "/Library/Python/2.7/site-packages/scipy-0.13.0.dev_c31f167_20130514-py2.7-macosx-10.8-intel.egg/scipy/optimize/zeros.py:149: RuntimeWarning: Tolerance of 2.10934948156e+16 reached\n",
        "  warnings.warn(msg, RuntimeWarning)\n",
        "/Library/Python/2.7/site-packages/scipy-0.13.0.dev_c31f167_20130514-py2.7-macosx-10.8-intel.egg/scipy/optimize/zeros.py:149: RuntimeWarning: Tolerance of -3.09131842602e+15 reached\n",
        "  warnings.warn(msg, RuntimeWarning)\n",
        "/Library/Python/2.7/site-packages/scipy-0.13.0.dev_c31f167_20130514-py2.7-macosx-10.8-intel.egg/scipy/optimize/zeros.py:149: RuntimeWarning: Tolerance of 3.06844446689e+14 reached\n",
        "  warnings.warn(msg, RuntimeWarning)\n"
       ]
      },
      {
       "output_type": "stream",
       "stream": "stderr",
       "text": [
        "/Library/Python/2.7/site-packages/scipy-0.13.0.dev_c31f167_20130514-py2.7-macosx-10.8-intel.egg/scipy/optimize/zeros.py:149: RuntimeWarning: Tolerance of 3.46568782983e+16 reached\n",
        "  warnings.warn(msg, RuntimeWarning)\n",
        "/Library/Python/2.7/site-packages/scipy-0.13.0.dev_c31f167_20130514-py2.7-macosx-10.8-intel.egg/scipy/optimize/zeros.py:149: RuntimeWarning: Tolerance of -2.64338741335e+14 reached\n",
        "  warnings.warn(msg, RuntimeWarning)\n"
       ]
      },
      {
       "output_type": "stream",
       "stream": "stderr",
       "text": [
        "/Library/Python/2.7/site-packages/scipy-0.13.0.dev_c31f167_20130514-py2.7-macosx-10.8-intel.egg/scipy/optimize/zeros.py:149: RuntimeWarning: Tolerance of -328265438204.0 reached\n",
        "  warnings.warn(msg, RuntimeWarning)\n",
        "/Library/Python/2.7/site-packages/scipy-0.13.0.dev_c31f167_20130514-py2.7-macosx-10.8-intel.egg/scipy/optimize/zeros.py:149: RuntimeWarning: Tolerance of -9.05919298829e+15 reached\n",
        "  warnings.warn(msg, RuntimeWarning)\n"
       ]
      },
      {
       "output_type": "stream",
       "stream": "stderr",
       "text": [
        "/Library/Python/2.7/site-packages/scipy-0.13.0.dev_c31f167_20130514-py2.7-macosx-10.8-intel.egg/scipy/optimize/zeros.py:149: RuntimeWarning: Tolerance of 1.33200872745e+17 reached\n",
        "  warnings.warn(msg, RuntimeWarning)\n",
        "/Library/Python/2.7/site-packages/scipy-0.13.0.dev_c31f167_20130514-py2.7-macosx-10.8-intel.egg/scipy/optimize/zeros.py:149: RuntimeWarning: Tolerance of -1.04748761887e+15 reached\n",
        "  warnings.warn(msg, RuntimeWarning)\n"
       ]
      },
      {
       "output_type": "stream",
       "stream": "stderr",
       "text": [
        "/Library/Python/2.7/site-packages/scipy-0.13.0.dev_c31f167_20130514-py2.7-macosx-10.8-intel.egg/scipy/optimize/zeros.py:149: RuntimeWarning: Tolerance of -4.64895785496e+16 reached\n",
        "  warnings.warn(msg, RuntimeWarning)\n",
        "/Library/Python/2.7/site-packages/scipy-0.13.0.dev_c31f167_20130514-py2.7-macosx-10.8-intel.egg/scipy/optimize/zeros.py:149: RuntimeWarning: Tolerance of -5.75778151194e+16 reached\n",
        "  warnings.warn(msg, RuntimeWarning)\n"
       ]
      },
      {
       "output_type": "stream",
       "stream": "stderr",
       "text": [
        "/Library/Python/2.7/site-packages/scipy-0.13.0.dev_c31f167_20130514-py2.7-macosx-10.8-intel.egg/scipy/optimize/zeros.py:149: RuntimeWarning: Tolerance of -1.80463065539e+16 reached\n",
        "  warnings.warn(msg, RuntimeWarning)\n",
        "/Library/Python/2.7/site-packages/scipy-0.13.0.dev_c31f167_20130514-py2.7-macosx-10.8-intel.egg/scipy/optimize/zeros.py:149: RuntimeWarning: Tolerance of -7.05230366093e+14 reached\n",
        "  warnings.warn(msg, RuntimeWarning)\n"
       ]
      },
      {
       "output_type": "stream",
       "stream": "stderr",
       "text": [
        "/Library/Python/2.7/site-packages/scipy-0.13.0.dev_c31f167_20130514-py2.7-macosx-10.8-intel.egg/scipy/optimize/zeros.py:149: RuntimeWarning: Tolerance of -1.18384532952e+16 reached\n",
        "  warnings.warn(msg, RuntimeWarning)\n",
        "/Library/Python/2.7/site-packages/scipy-0.13.0.dev_c31f167_20130514-py2.7-macosx-10.8-intel.egg/scipy/optimize/zeros.py:149: RuntimeWarning: Tolerance of -2.03574848962e+16 reached\n",
        "  warnings.warn(msg, RuntimeWarning)\n"
       ]
      },
      {
       "output_type": "stream",
       "stream": "stderr",
       "text": [
        "/Library/Python/2.7/site-packages/scipy-0.13.0.dev_c31f167_20130514-py2.7-macosx-10.8-intel.egg/scipy/optimize/zeros.py:149: RuntimeWarning: Tolerance of 1.38870227806e+16 reached\n",
        "  warnings.warn(msg, RuntimeWarning)\n",
        "/Library/Python/2.7/site-packages/scipy-0.13.0.dev_c31f167_20130514-py2.7-macosx-10.8-intel.egg/scipy/optimize/zeros.py:149: RuntimeWarning: Tolerance of -8.0671431338e+14 reached\n",
        "  warnings.warn(msg, RuntimeWarning)\n"
       ]
      },
      {
       "output_type": "stream",
       "stream": "stderr",
       "text": [
        "/Library/Python/2.7/site-packages/scipy-0.13.0.dev_c31f167_20130514-py2.7-macosx-10.8-intel.egg/scipy/optimize/zeros.py:149: RuntimeWarning: Tolerance of 3.803150576e+14 reached\n",
        "  warnings.warn(msg, RuntimeWarning)\n",
        "/Library/Python/2.7/site-packages/scipy-0.13.0.dev_c31f167_20130514-py2.7-macosx-10.8-intel.egg/scipy/optimize/zeros.py:149: RuntimeWarning: Tolerance of 5.26437802473e+15 reached\n",
        "  warnings.warn(msg, RuntimeWarning)\n"
       ]
      },
      {
       "output_type": "stream",
       "stream": "stderr",
       "text": [
        "/Library/Python/2.7/site-packages/scipy-0.13.0.dev_c31f167_20130514-py2.7-macosx-10.8-intel.egg/scipy/optimize/zeros.py:149: RuntimeWarning: Tolerance of 3.37478085822e+15 reached\n",
        "  warnings.warn(msg, RuntimeWarning)\n",
        "/Library/Python/2.7/site-packages/scipy-0.13.0.dev_c31f167_20130514-py2.7-macosx-10.8-intel.egg/scipy/optimize/zeros.py:149: RuntimeWarning: Tolerance of 1.54188314549e+14 reached\n",
        "  warnings.warn(msg, RuntimeWarning)\n"
       ]
      },
      {
       "output_type": "stream",
       "stream": "stderr",
       "text": [
        "/Library/Python/2.7/site-packages/scipy-0.13.0.dev_c31f167_20130514-py2.7-macosx-10.8-intel.egg/scipy/optimize/zeros.py:149: RuntimeWarning: Tolerance of 2.17013395202e+16 reached\n",
        "  warnings.warn(msg, RuntimeWarning)\n",
        "/Library/Python/2.7/site-packages/scipy-0.13.0.dev_c31f167_20130514-py2.7-macosx-10.8-intel.egg/scipy/optimize/zeros.py:149: RuntimeWarning: Tolerance of -1.46604756066e+13 reached\n",
        "  warnings.warn(msg, RuntimeWarning)\n"
       ]
      },
      {
       "output_type": "stream",
       "stream": "stderr",
       "text": [
        "/Library/Python/2.7/site-packages/scipy-0.13.0.dev_c31f167_20130514-py2.7-macosx-10.8-intel.egg/scipy/optimize/zeros.py:149: RuntimeWarning: Tolerance of -1.18877623982e+14 reached\n",
        "  warnings.warn(msg, RuntimeWarning)\n",
        "/Library/Python/2.7/site-packages/scipy-0.13.0.dev_c31f167_20130514-py2.7-macosx-10.8-intel.egg/scipy/optimize/zeros.py:149: RuntimeWarning: Tolerance of 1.32709315583e+13 reached\n",
        "  warnings.warn(msg, RuntimeWarning)\n"
       ]
      },
      {
       "output_type": "stream",
       "stream": "stderr",
       "text": [
        "/Library/Python/2.7/site-packages/scipy-0.13.0.dev_c31f167_20130514-py2.7-macosx-10.8-intel.egg/scipy/optimize/zeros.py:149: RuntimeWarning: Tolerance of 1.40899633383e+16 reached\n",
        "  warnings.warn(msg, RuntimeWarning)\n",
        "/Library/Python/2.7/site-packages/scipy-0.13.0.dev_c31f167_20130514-py2.7-macosx-10.8-intel.egg/scipy/optimize/zeros.py:149: RuntimeWarning: Tolerance of -5.2114584299e+14 reached\n",
        "  warnings.warn(msg, RuntimeWarning)\n"
       ]
      },
      {
       "output_type": "stream",
       "stream": "stderr",
       "text": [
        "/Library/Python/2.7/site-packages/scipy-0.13.0.dev_c31f167_20130514-py2.7-macosx-10.8-intel.egg/scipy/optimize/zeros.py:149: RuntimeWarning: Tolerance of 8.47137012179e+14 reached\n",
        "  warnings.warn(msg, RuntimeWarning)\n",
        "/Library/Python/2.7/site-packages/scipy-0.13.0.dev_c31f167_20130514-py2.7-macosx-10.8-intel.egg/scipy/optimize/zeros.py:149: RuntimeWarning: Tolerance of -2.84124556732e+18 reached\n",
        "  warnings.warn(msg, RuntimeWarning)\n"
       ]
      },
      {
       "output_type": "stream",
       "stream": "stdout",
       "text": [
        "\n",
        "deleting item T1map_LL"
       ]
      },
      {
       "output_type": "stream",
       "stream": "stdout",
       "text": [
        "\n",
        "deleting item T1map_LL_fitdict"
       ]
      },
      {
       "output_type": "stream",
       "stream": "stderr",
       "text": [
        "/Library/Python/2.7/site-packages/scipy-0.13.0.dev_c31f167_20130514-py2.7-macosx-10.8-intel.egg/scipy/optimize/zeros.py:149: RuntimeWarning: Tolerance of 1.49243964338e+18 reached\n",
        "  warnings.warn(msg, RuntimeWarning)\n",
        "WARNING:sarpy.io.BRUKERIO:NSLICES not equal to number of ACQ_obj_order\n"
       ]
      },
      {
       "output_type": "stream",
       "stream": "stderr",
       "text": [
        "/Library/Python/2.7/site-packages/scipy-0.13.0.dev_c31f167_20130514-py2.7-macosx-10.8-intel.egg/scipy/optimize/zeros.py:149: RuntimeWarning: Tolerance of -5.56554126863e+14 reached\n",
        "  warnings.warn(msg, RuntimeWarning)\n",
        "/Library/Python/2.7/site-packages/scipy-0.13.0.dev_c31f167_20130514-py2.7-macosx-10.8-intel.egg/scipy/optimize/zeros.py:149: RuntimeWarning: Tolerance of 1.15036990241e+17 reached\n",
        "  warnings.warn(msg, RuntimeWarning)\n"
       ]
      },
      {
       "output_type": "stream",
       "stream": "stderr",
       "text": [
        "/Library/Python/2.7/site-packages/scipy-0.13.0.dev_c31f167_20130514-py2.7-macosx-10.8-intel.egg/scipy/optimize/zeros.py:149: RuntimeWarning: Tolerance of 6.65491903202e+15 reached\n",
        "  warnings.warn(msg, RuntimeWarning)\n",
        "/Library/Python/2.7/site-packages/scipy-0.13.0.dev_c31f167_20130514-py2.7-macosx-10.8-intel.egg/scipy/optimize/zeros.py:149: RuntimeWarning: Tolerance of -4.20239139926e+16 reached\n",
        "  warnings.warn(msg, RuntimeWarning)\n"
       ]
      },
      {
       "output_type": "stream",
       "stream": "stderr",
       "text": [
        "/Library/Python/2.7/site-packages/scipy-0.13.0.dev_c31f167_20130514-py2.7-macosx-10.8-intel.egg/scipy/optimize/zeros.py:149: RuntimeWarning: Tolerance of 7.31208858342e+15 reached\n",
        "  warnings.warn(msg, RuntimeWarning)\n",
        "/Library/Python/2.7/site-packages/scipy-0.13.0.dev_c31f167_20130514-py2.7-macosx-10.8-intel.egg/scipy/optimize/zeros.py:149: RuntimeWarning: Tolerance of -2.59422578523e+15 reached\n",
        "  warnings.warn(msg, RuntimeWarning)\n"
       ]
      },
      {
       "output_type": "stream",
       "stream": "stderr",
       "text": [
        "/Library/Python/2.7/site-packages/scipy-0.13.0.dev_c31f167_20130514-py2.7-macosx-10.8-intel.egg/scipy/optimize/zeros.py:149: RuntimeWarning: Tolerance of -9.70820377259e+15 reached\n",
        "  warnings.warn(msg, RuntimeWarning)\n",
        "/Library/Python/2.7/site-packages/scipy-0.13.0.dev_c31f167_20130514-py2.7-macosx-10.8-intel.egg/scipy/optimize/zeros.py:149: RuntimeWarning: Tolerance of -1.3647930515e+16 reached\n",
        "  warnings.warn(msg, RuntimeWarning)\n"
       ]
      },
      {
       "output_type": "stream",
       "stream": "stderr",
       "text": [
        "/Library/Python/2.7/site-packages/scipy-0.13.0.dev_c31f167_20130514-py2.7-macosx-10.8-intel.egg/scipy/optimize/zeros.py:149: RuntimeWarning: Tolerance of 7.58807882963e+12 reached\n",
        "  warnings.warn(msg, RuntimeWarning)\n",
        "/Library/Python/2.7/site-packages/scipy-0.13.0.dev_c31f167_20130514-py2.7-macosx-10.8-intel.egg/scipy/optimize/zeros.py:149: RuntimeWarning: Tolerance of -4.66195845732e+15 reached\n",
        "  warnings.warn(msg, RuntimeWarning)\n"
       ]
      },
      {
       "output_type": "stream",
       "stream": "stderr",
       "text": [
        "/Library/Python/2.7/site-packages/scipy-0.13.0.dev_c31f167_20130514-py2.7-macosx-10.8-intel.egg/scipy/optimize/zeros.py:149: RuntimeWarning: Tolerance of 2.11956372335e+15 reached\n",
        "  warnings.warn(msg, RuntimeWarning)\n",
        "/Library/Python/2.7/site-packages/scipy-0.13.0.dev_c31f167_20130514-py2.7-macosx-10.8-intel.egg/scipy/optimize/zeros.py:149: RuntimeWarning: Tolerance of -8.79196427971e+15 reached\n",
        "  warnings.warn(msg, RuntimeWarning)\n"
       ]
      },
      {
       "output_type": "stream",
       "stream": "stderr",
       "text": [
        "/Library/Python/2.7/site-packages/scipy-0.13.0.dev_c31f167_20130514-py2.7-macosx-10.8-intel.egg/scipy/optimize/zeros.py:149: RuntimeWarning: Tolerance of -3.85960033845e+16 reached\n",
        "  warnings.warn(msg, RuntimeWarning)\n",
        "/Library/Python/2.7/site-packages/scipy-0.13.0.dev_c31f167_20130514-py2.7-macosx-10.8-intel.egg/scipy/optimize/zeros.py:149: RuntimeWarning: Tolerance of -3.31585593208e+16 reached\n",
        "  warnings.warn(msg, RuntimeWarning)\n"
       ]
      },
      {
       "output_type": "stream",
       "stream": "stderr",
       "text": [
        "/Library/Python/2.7/site-packages/scipy-0.13.0.dev_c31f167_20130514-py2.7-macosx-10.8-intel.egg/scipy/optimize/zeros.py:149: RuntimeWarning: Tolerance of 4.99402373664e+15 reached\n",
        "  warnings.warn(msg, RuntimeWarning)\n",
        "/Library/Python/2.7/site-packages/scipy-0.13.0.dev_c31f167_20130514-py2.7-macosx-10.8-intel.egg/scipy/optimize/zeros.py:149: RuntimeWarning: Tolerance of 344273860748.0 reached\n",
        "  warnings.warn(msg, RuntimeWarning)\n"
       ]
      },
      {
       "output_type": "stream",
       "stream": "stderr",
       "text": [
        "/Library/Python/2.7/site-packages/scipy-0.13.0.dev_c31f167_20130514-py2.7-macosx-10.8-intel.egg/scipy/optimize/zeros.py:149: RuntimeWarning: Tolerance of -8.91601147085e+16 reached\n",
        "  warnings.warn(msg, RuntimeWarning)\n",
        "/Library/Python/2.7/site-packages/scipy-0.13.0.dev_c31f167_20130514-py2.7-macosx-10.8-intel.egg/scipy/optimize/zeros.py:149: RuntimeWarning: Tolerance of -5.70205346889e+16 reached\n",
        "  warnings.warn(msg, RuntimeWarning)\n"
       ]
      },
      {
       "output_type": "stream",
       "stream": "stderr",
       "text": [
        "/Library/Python/2.7/site-packages/scipy-0.13.0.dev_c31f167_20130514-py2.7-macosx-10.8-intel.egg/scipy/optimize/zeros.py:149: RuntimeWarning: Tolerance of 8.60851602388e+16 reached\n",
        "  warnings.warn(msg, RuntimeWarning)\n",
        "/Library/Python/2.7/site-packages/scipy-0.13.0.dev_c31f167_20130514-py2.7-macosx-10.8-intel.egg/scipy/optimize/zeros.py:149: RuntimeWarning: Tolerance of 2.14697734972e+12 reached\n",
        "  warnings.warn(msg, RuntimeWarning)\n"
       ]
      },
      {
       "output_type": "stream",
       "stream": "stderr",
       "text": [
        "/Library/Python/2.7/site-packages/scipy-0.13.0.dev_c31f167_20130514-py2.7-macosx-10.8-intel.egg/scipy/optimize/zeros.py:149: RuntimeWarning: Tolerance of -4.55999986237e+15 reached\n",
        "  warnings.warn(msg, RuntimeWarning)\n",
        "/Library/Python/2.7/site-packages/scipy-0.13.0.dev_c31f167_20130514-py2.7-macosx-10.8-intel.egg/scipy/optimize/zeros.py:149: RuntimeWarning: Tolerance of -2.3515895009e-08 reached\n",
        "  warnings.warn(msg, RuntimeWarning)\n"
       ]
      },
      {
       "output_type": "stream",
       "stream": "stderr",
       "text": [
        "/Library/Python/2.7/site-packages/scipy-0.13.0.dev_c31f167_20130514-py2.7-macosx-10.8-intel.egg/scipy/optimize/zeros.py:149: RuntimeWarning: Tolerance of 1.25163757499e+16 reached\n",
        "  warnings.warn(msg, RuntimeWarning)\n",
        "/Library/Python/2.7/site-packages/scipy-0.13.0.dev_c31f167_20130514-py2.7-macosx-10.8-intel.egg/scipy/optimize/zeros.py:149: RuntimeWarning: Tolerance of -6.19452920051e+16 reached\n",
        "  warnings.warn(msg, RuntimeWarning)\n"
       ]
      },
      {
       "output_type": "stream",
       "stream": "stderr",
       "text": [
        "/Library/Python/2.7/site-packages/scipy-0.13.0.dev_c31f167_20130514-py2.7-macosx-10.8-intel.egg/scipy/optimize/zeros.py:149: RuntimeWarning: Tolerance of 1.83144583088e+16 reached\n",
        "  warnings.warn(msg, RuntimeWarning)\n",
        "/Library/Python/2.7/site-packages/scipy-0.13.0.dev_c31f167_20130514-py2.7-macosx-10.8-intel.egg/scipy/optimize/zeros.py:149: RuntimeWarning: Tolerance of -1.79649703541e+16 reached\n",
        "  warnings.warn(msg, RuntimeWarning)\n"
       ]
      },
      {
       "output_type": "stream",
       "stream": "stderr",
       "text": [
        "/Library/Python/2.7/site-packages/scipy-0.13.0.dev_c31f167_20130514-py2.7-macosx-10.8-intel.egg/scipy/optimize/zeros.py:149: RuntimeWarning: Tolerance of 9.52171529932e+14 reached\n",
        "  warnings.warn(msg, RuntimeWarning)\n",
        "/Library/Python/2.7/site-packages/scipy-0.13.0.dev_c31f167_20130514-py2.7-macosx-10.8-intel.egg/scipy/optimize/zeros.py:149: RuntimeWarning: Tolerance of -5.63360071876e+15 reached\n",
        "  warnings.warn(msg, RuntimeWarning)\n",
        "/Library/Python/2.7/site-packages/scipy-0.13.0.dev_c31f167_20130514-py2.7-macosx-10.8-intel.egg/scipy/optimize/zeros.py:149: RuntimeWarning: Tolerance of -5.51303111081e+15 reached\n",
        "  warnings.warn(msg, RuntimeWarning)\n"
       ]
      },
      {
       "output_type": "stream",
       "stream": "stderr",
       "text": [
        "/Library/Python/2.7/site-packages/scipy-0.13.0.dev_c31f167_20130514-py2.7-macosx-10.8-intel.egg/scipy/optimize/zeros.py:149: RuntimeWarning: Tolerance of -5.11797136479e+14 reached\n",
        "  warnings.warn(msg, RuntimeWarning)\n",
        "/Library/Python/2.7/site-packages/scipy-0.13.0.dev_c31f167_20130514-py2.7-macosx-10.8-intel.egg/scipy/optimize/zeros.py:149: RuntimeWarning: Tolerance of 5.72660055234e+14 reached\n",
        "  warnings.warn(msg, RuntimeWarning)\n"
       ]
      },
      {
       "output_type": "stream",
       "stream": "stderr",
       "text": [
        "/Library/Python/2.7/site-packages/scipy-0.13.0.dev_c31f167_20130514-py2.7-macosx-10.8-intel.egg/scipy/optimize/zeros.py:149: RuntimeWarning: Tolerance of -4.36337723589e+16 reached\n",
        "  warnings.warn(msg, RuntimeWarning)\n",
        "/Library/Python/2.7/site-packages/scipy-0.13.0.dev_c31f167_20130514-py2.7-macosx-10.8-intel.egg/scipy/optimize/zeros.py:149: RuntimeWarning: Tolerance of -6.69993559249e+14 reached\n",
        "  warnings.warn(msg, RuntimeWarning)\n"
       ]
      },
      {
       "output_type": "stream",
       "stream": "stderr",
       "text": [
        "/Library/Python/2.7/site-packages/scipy-0.13.0.dev_c31f167_20130514-py2.7-macosx-10.8-intel.egg/scipy/optimize/zeros.py:149: RuntimeWarning: Tolerance of 6.45090918652e+13 reached\n",
        "  warnings.warn(msg, RuntimeWarning)\n",
        "/Library/Python/2.7/site-packages/scipy-0.13.0.dev_c31f167_20130514-py2.7-macosx-10.8-intel.egg/scipy/optimize/zeros.py:149: RuntimeWarning: Tolerance of 2.55152476485e+14 reached\n",
        "  warnings.warn(msg, RuntimeWarning)\n"
       ]
      },
      {
       "output_type": "stream",
       "stream": "stderr",
       "text": [
        "/Library/Python/2.7/site-packages/scipy-0.13.0.dev_c31f167_20130514-py2.7-macosx-10.8-intel.egg/scipy/optimize/zeros.py:149: RuntimeWarning: Tolerance of -1.73371615755e+18 reached\n",
        "  warnings.warn(msg, RuntimeWarning)\n",
        "/Library/Python/2.7/site-packages/scipy-0.13.0.dev_c31f167_20130514-py2.7-macosx-10.8-intel.egg/scipy/optimize/zeros.py:149: RuntimeWarning: Tolerance of -8.71872538929e+15 reached\n",
        "  warnings.warn(msg, RuntimeWarning)\n"
       ]
      },
      {
       "output_type": "stream",
       "stream": "stderr",
       "text": [
        "/Library/Python/2.7/site-packages/scipy-0.13.0.dev_c31f167_20130514-py2.7-macosx-10.8-intel.egg/scipy/optimize/zeros.py:149: RuntimeWarning: Tolerance of 7.12380910114e+16 reached\n",
        "  warnings.warn(msg, RuntimeWarning)\n",
        "/Library/Python/2.7/site-packages/scipy-0.13.0.dev_c31f167_20130514-py2.7-macosx-10.8-intel.egg/scipy/optimize/zeros.py:149: RuntimeWarning: Tolerance of 3.26204560163e+15 reached\n",
        "  warnings.warn(msg, RuntimeWarning)\n"
       ]
      },
      {
       "output_type": "stream",
       "stream": "stderr",
       "text": [
        "/Library/Python/2.7/site-packages/scipy-0.13.0.dev_c31f167_20130514-py2.7-macosx-10.8-intel.egg/scipy/optimize/zeros.py:149: RuntimeWarning: Tolerance of -1.22231947487e+14 reached\n",
        "  warnings.warn(msg, RuntimeWarning)\n",
        "/Library/Python/2.7/site-packages/scipy-0.13.0.dev_c31f167_20130514-py2.7-macosx-10.8-intel.egg/scipy/optimize/zeros.py:149: RuntimeWarning: Tolerance of 1.9470369865e+14 reached\n",
        "  warnings.warn(msg, RuntimeWarning)\n"
       ]
      },
      {
       "output_type": "stream",
       "stream": "stderr",
       "text": [
        "/Library/Python/2.7/site-packages/scipy-0.13.0.dev_c31f167_20130514-py2.7-macosx-10.8-intel.egg/scipy/optimize/zeros.py:149: RuntimeWarning: Tolerance of -7.88334919735e+16 reached\n",
        "  warnings.warn(msg, RuntimeWarning)\n",
        "/Library/Python/2.7/site-packages/scipy-0.13.0.dev_c31f167_20130514-py2.7-macosx-10.8-intel.egg/scipy/optimize/zeros.py:149: RuntimeWarning: Tolerance of -1.40052169641e+16 reached\n",
        "  warnings.warn(msg, RuntimeWarning)\n"
       ]
      },
      {
       "output_type": "stream",
       "stream": "stderr",
       "text": [
        "/Library/Python/2.7/site-packages/scipy-0.13.0.dev_c31f167_20130514-py2.7-macosx-10.8-intel.egg/scipy/optimize/zeros.py:149: RuntimeWarning: Tolerance of -4.57978183466e+16 reached\n",
        "  warnings.warn(msg, RuntimeWarning)\n",
        "/Library/Python/2.7/site-packages/scipy-0.13.0.dev_c31f167_20130514-py2.7-macosx-10.8-intel.egg/scipy/optimize/zeros.py:149: RuntimeWarning: Tolerance of 1.36875792827e+16 reached\n",
        "  warnings.warn(msg, RuntimeWarning)\n"
       ]
      },
      {
       "output_type": "stream",
       "stream": "stderr",
       "text": [
        "/Library/Python/2.7/site-packages/scipy-0.13.0.dev_c31f167_20130514-py2.7-macosx-10.8-intel.egg/scipy/optimize/zeros.py:149: RuntimeWarning: Tolerance of 1.66860869942e+16 reached\n",
        "  warnings.warn(msg, RuntimeWarning)\n",
        "/Library/Python/2.7/site-packages/scipy-0.13.0.dev_c31f167_20130514-py2.7-macosx-10.8-intel.egg/scipy/optimize/zeros.py:149: RuntimeWarning: Tolerance of -1.01273184848e+15 reached\n",
        "  warnings.warn(msg, RuntimeWarning)\n"
       ]
      },
      {
       "output_type": "stream",
       "stream": "stderr",
       "text": [
        "/Library/Python/2.7/site-packages/scipy-0.13.0.dev_c31f167_20130514-py2.7-macosx-10.8-intel.egg/scipy/optimize/zeros.py:149: RuntimeWarning: Tolerance of -8.96787735155e+14 reached\n",
        "  warnings.warn(msg, RuntimeWarning)\n",
        "/Library/Python/2.7/site-packages/scipy-0.13.0.dev_c31f167_20130514-py2.7-macosx-10.8-intel.egg/scipy/optimize/zeros.py:149: RuntimeWarning: Tolerance of 3.81256669223e+14 reached\n",
        "  warnings.warn(msg, RuntimeWarning)\n"
       ]
      },
      {
       "output_type": "stream",
       "stream": "stderr",
       "text": [
        "/Library/Python/2.7/site-packages/scipy-0.13.0.dev_c31f167_20130514-py2.7-macosx-10.8-intel.egg/scipy/optimize/zeros.py:149: RuntimeWarning: Tolerance of 1.26557430152e+16 reached\n",
        "  warnings.warn(msg, RuntimeWarning)\n",
        "/Library/Python/2.7/site-packages/scipy-0.13.0.dev_c31f167_20130514-py2.7-macosx-10.8-intel.egg/scipy/optimize/zeros.py:149: RuntimeWarning: Tolerance of 4.22004435257e+15 reached\n",
        "  warnings.warn(msg, RuntimeWarning)\n"
       ]
      },
      {
       "output_type": "stream",
       "stream": "stderr",
       "text": [
        "/Library/Python/2.7/site-packages/scipy-0.13.0.dev_c31f167_20130514-py2.7-macosx-10.8-intel.egg/scipy/optimize/zeros.py:149: RuntimeWarning: Tolerance of -3.45904592156e+15 reached\n",
        "  warnings.warn(msg, RuntimeWarning)\n",
        "/Library/Python/2.7/site-packages/scipy-0.13.0.dev_c31f167_20130514-py2.7-macosx-10.8-intel.egg/scipy/optimize/zeros.py:149: RuntimeWarning: Tolerance of 5.23114296872e+14 reached\n",
        "  warnings.warn(msg, RuntimeWarning)\n"
       ]
      },
      {
       "output_type": "stream",
       "stream": "stderr",
       "text": [
        "/Library/Python/2.7/site-packages/scipy-0.13.0.dev_c31f167_20130514-py2.7-macosx-10.8-intel.egg/scipy/optimize/zeros.py:149: RuntimeWarning: Tolerance of 1.82305757624e+18 reached\n",
        "  warnings.warn(msg, RuntimeWarning)\n",
        "/Library/Python/2.7/site-packages/scipy-0.13.0.dev_c31f167_20130514-py2.7-macosx-10.8-intel.egg/scipy/optimize/zeros.py:149: RuntimeWarning: Tolerance of 9.60380988232e+13 reached\n",
        "  warnings.warn(msg, RuntimeWarning)\n"
       ]
      },
      {
       "output_type": "stream",
       "stream": "stderr",
       "text": [
        "/Library/Python/2.7/site-packages/scipy-0.13.0.dev_c31f167_20130514-py2.7-macosx-10.8-intel.egg/scipy/optimize/zeros.py:149: RuntimeWarning: Tolerance of 4.71321784703e+16 reached\n",
        "  warnings.warn(msg, RuntimeWarning)\n",
        "/Library/Python/2.7/site-packages/scipy-0.13.0.dev_c31f167_20130514-py2.7-macosx-10.8-intel.egg/scipy/optimize/zeros.py:149: RuntimeWarning: Tolerance of -1.36042060549e+14 reached\n",
        "  warnings.warn(msg, RuntimeWarning)\n"
       ]
      },
      {
       "output_type": "stream",
       "stream": "stderr",
       "text": [
        "/Library/Python/2.7/site-packages/scipy-0.13.0.dev_c31f167_20130514-py2.7-macosx-10.8-intel.egg/scipy/optimize/zeros.py:149: RuntimeWarning: Tolerance of -5.72812544239e+16 reached\n",
        "  warnings.warn(msg, RuntimeWarning)\n",
        "/Library/Python/2.7/site-packages/scipy-0.13.0.dev_c31f167_20130514-py2.7-macosx-10.8-intel.egg/scipy/optimize/zeros.py:149: RuntimeWarning: Tolerance of -1.2384799556e+15 reached\n",
        "  warnings.warn(msg, RuntimeWarning)\n"
       ]
      },
      {
       "output_type": "stream",
       "stream": "stderr",
       "text": [
        "/Library/Python/2.7/site-packages/scipy-0.13.0.dev_c31f167_20130514-py2.7-macosx-10.8-intel.egg/scipy/optimize/zeros.py:149: RuntimeWarning: Tolerance of 3.9916485548e-06 reached\n",
        "  warnings.warn(msg, RuntimeWarning)\n",
        "/Library/Python/2.7/site-packages/scipy-0.13.0.dev_c31f167_20130514-py2.7-macosx-10.8-intel.egg/scipy/optimize/zeros.py:149: RuntimeWarning: Tolerance of -3.96274515576e+13 reached\n",
        "  warnings.warn(msg, RuntimeWarning)\n"
       ]
      },
      {
       "output_type": "stream",
       "stream": "stderr",
       "text": [
        "/Library/Python/2.7/site-packages/scipy-0.13.0.dev_c31f167_20130514-py2.7-macosx-10.8-intel.egg/scipy/optimize/zeros.py:149: RuntimeWarning: Tolerance of -3.85331333559e+14 reached\n",
        "  warnings.warn(msg, RuntimeWarning)\n",
        "/Library/Python/2.7/site-packages/scipy-0.13.0.dev_c31f167_20130514-py2.7-macosx-10.8-intel.egg/scipy/optimize/zeros.py:149: RuntimeWarning: Tolerance of -7.31462995859e+15 reached\n",
        "  warnings.warn(msg, RuntimeWarning)\n"
       ]
      },
      {
       "output_type": "stream",
       "stream": "stderr",
       "text": [
        "/Library/Python/2.7/site-packages/scipy-0.13.0.dev_c31f167_20130514-py2.7-macosx-10.8-intel.egg/scipy/optimize/zeros.py:149: RuntimeWarning: Tolerance of -1.05412853707e+15 reached\n",
        "  warnings.warn(msg, RuntimeWarning)\n",
        "/Library/Python/2.7/site-packages/scipy-0.13.0.dev_c31f167_20130514-py2.7-macosx-10.8-intel.egg/scipy/optimize/zeros.py:149: RuntimeWarning: Tolerance of 2.58913446327e+15 reached\n",
        "  warnings.warn(msg, RuntimeWarning)\n"
       ]
      },
      {
       "output_type": "stream",
       "stream": "stderr",
       "text": [
        "/Library/Python/2.7/site-packages/scipy-0.13.0.dev_c31f167_20130514-py2.7-macosx-10.8-intel.egg/scipy/optimize/zeros.py:149: RuntimeWarning: Tolerance of 5.26198573933e+16 reached\n",
        "  warnings.warn(msg, RuntimeWarning)\n",
        "/Library/Python/2.7/site-packages/scipy-0.13.0.dev_c31f167_20130514-py2.7-macosx-10.8-intel.egg/scipy/optimize/zeros.py:149: RuntimeWarning: Tolerance of 2.22814651301e+15 reached\n",
        "  warnings.warn(msg, RuntimeWarning)\n"
       ]
      },
      {
       "output_type": "stream",
       "stream": "stderr",
       "text": [
        "/Library/Python/2.7/site-packages/scipy-0.13.0.dev_c31f167_20130514-py2.7-macosx-10.8-intel.egg/scipy/optimize/zeros.py:149: RuntimeWarning: Tolerance of 2.14792300213e+13 reached\n",
        "  warnings.warn(msg, RuntimeWarning)\n",
        "/Library/Python/2.7/site-packages/scipy-0.13.0.dev_c31f167_20130514-py2.7-macosx-10.8-intel.egg/scipy/optimize/zeros.py:149: RuntimeWarning: Tolerance of 1.3658522602e+15 reached\n",
        "  warnings.warn(msg, RuntimeWarning)\n"
       ]
      },
      {
       "output_type": "stream",
       "stream": "stderr",
       "text": [
        "/Library/Python/2.7/site-packages/scipy-0.13.0.dev_c31f167_20130514-py2.7-macosx-10.8-intel.egg/scipy/optimize/zeros.py:149: RuntimeWarning: Tolerance of 1.35130253888e+14 reached\n",
        "  warnings.warn(msg, RuntimeWarning)\n",
        "/Library/Python/2.7/site-packages/scipy-0.13.0.dev_c31f167_20130514-py2.7-macosx-10.8-intel.egg/scipy/optimize/zeros.py:149: RuntimeWarning: Tolerance of 2.2901588406e+14 reached\n",
        "  warnings.warn(msg, RuntimeWarning)\n"
       ]
      },
      {
       "output_type": "stream",
       "stream": "stderr",
       "text": [
        "/Library/Python/2.7/site-packages/scipy-0.13.0.dev_c31f167_20130514-py2.7-macosx-10.8-intel.egg/scipy/optimize/zeros.py:149: RuntimeWarning: Tolerance of -2.66643780702e+15 reached\n",
        "  warnings.warn(msg, RuntimeWarning)\n",
        "/Library/Python/2.7/site-packages/scipy-0.13.0.dev_c31f167_20130514-py2.7-macosx-10.8-intel.egg/scipy/optimize/zeros.py:149: RuntimeWarning: Tolerance of 46561932792.0 reached\n",
        "  warnings.warn(msg, RuntimeWarning)\n"
       ]
      },
      {
       "output_type": "stream",
       "stream": "stderr",
       "text": [
        "/Library/Python/2.7/site-packages/scipy-0.13.0.dev_c31f167_20130514-py2.7-macosx-10.8-intel.egg/scipy/optimize/zeros.py:149: RuntimeWarning: Tolerance of -1.31380685085e+14 reached\n",
        "  warnings.warn(msg, RuntimeWarning)\n",
        "/Library/Python/2.7/site-packages/scipy-0.13.0.dev_c31f167_20130514-py2.7-macosx-10.8-intel.egg/scipy/optimize/zeros.py:149: RuntimeWarning: Tolerance of -1.46036664407e+15 reached\n",
        "  warnings.warn(msg, RuntimeWarning)\n"
       ]
      },
      {
       "output_type": "stream",
       "stream": "stderr",
       "text": [
        "/Library/Python/2.7/site-packages/scipy-0.13.0.dev_c31f167_20130514-py2.7-macosx-10.8-intel.egg/scipy/optimize/zeros.py:149: RuntimeWarning: Tolerance of -5.97582295811e+16 reached\n",
        "  warnings.warn(msg, RuntimeWarning)\n",
        "/Library/Python/2.7/site-packages/scipy-0.13.0.dev_c31f167_20130514-py2.7-macosx-10.8-intel.egg/scipy/optimize/zeros.py:149: RuntimeWarning: Tolerance of -9.49220214261e+14 reached\n",
        "  warnings.warn(msg, RuntimeWarning)\n"
       ]
      },
      {
       "output_type": "stream",
       "stream": "stderr",
       "text": [
        "/Library/Python/2.7/site-packages/scipy-0.13.0.dev_c31f167_20130514-py2.7-macosx-10.8-intel.egg/scipy/optimize/zeros.py:149: RuntimeWarning: Tolerance of -9.5490751783e+14 reached\n",
        "  warnings.warn(msg, RuntimeWarning)\n",
        "/Library/Python/2.7/site-packages/scipy-0.13.0.dev_c31f167_20130514-py2.7-macosx-10.8-intel.egg/scipy/optimize/zeros.py:149: RuntimeWarning: Tolerance of -3.47039207964e+15 reached\n",
        "  warnings.warn(msg, RuntimeWarning)\n"
       ]
      },
      {
       "output_type": "stream",
       "stream": "stderr",
       "text": [
        "/Library/Python/2.7/site-packages/scipy-0.13.0.dev_c31f167_20130514-py2.7-macosx-10.8-intel.egg/scipy/optimize/zeros.py:149: RuntimeWarning: Tolerance of 3.46638262272e-06 reached\n",
        "  warnings.warn(msg, RuntimeWarning)\n",
        "/Library/Python/2.7/site-packages/scipy-0.13.0.dev_c31f167_20130514-py2.7-macosx-10.8-intel.egg/scipy/optimize/zeros.py:149: RuntimeWarning: Tolerance of -1.26950051319e+16 reached\n",
        "  warnings.warn(msg, RuntimeWarning)\n"
       ]
      },
      {
       "output_type": "stream",
       "stream": "stderr",
       "text": [
        "/Library/Python/2.7/site-packages/scipy-0.13.0.dev_c31f167_20130514-py2.7-macosx-10.8-intel.egg/scipy/optimize/zeros.py:149: RuntimeWarning: Tolerance of -4.95071002094e+16 reached\n",
        "  warnings.warn(msg, RuntimeWarning)\n",
        "/Library/Python/2.7/site-packages/scipy-0.13.0.dev_c31f167_20130514-py2.7-macosx-10.8-intel.egg/scipy/optimize/zeros.py:149: RuntimeWarning: Tolerance of -1.26180185731e+15 reached\n",
        "  warnings.warn(msg, RuntimeWarning)\n"
       ]
      },
      {
       "output_type": "stream",
       "stream": "stderr",
       "text": [
        "/Library/Python/2.7/site-packages/scipy-0.13.0.dev_c31f167_20130514-py2.7-macosx-10.8-intel.egg/scipy/optimize/zeros.py:149: RuntimeWarning: Tolerance of 1.97533344716e+15 reached\n",
        "  warnings.warn(msg, RuntimeWarning)\n",
        "/Library/Python/2.7/site-packages/scipy-0.13.0.dev_c31f167_20130514-py2.7-macosx-10.8-intel.egg/scipy/optimize/zeros.py:149: RuntimeWarning: Tolerance of 2.05429627404e+17 reached\n",
        "  warnings.warn(msg, RuntimeWarning)\n"
       ]
      },
      {
       "output_type": "stream",
       "stream": "stderr",
       "text": [
        "/Library/Python/2.7/site-packages/scipy-0.13.0.dev_c31f167_20130514-py2.7-macosx-10.8-intel.egg/scipy/optimize/zeros.py:149: RuntimeWarning: Tolerance of 1.09364702927e+15 reached\n",
        "  warnings.warn(msg, RuntimeWarning)\n",
        "/Library/Python/2.7/site-packages/scipy-0.13.0.dev_c31f167_20130514-py2.7-macosx-10.8-intel.egg/scipy/optimize/zeros.py:149: RuntimeWarning: Tolerance of 9.14853422507e+16 reached\n",
        "  warnings.warn(msg, RuntimeWarning)\n"
       ]
      },
      {
       "output_type": "stream",
       "stream": "stderr",
       "text": [
        "/Library/Python/2.7/site-packages/scipy-0.13.0.dev_c31f167_20130514-py2.7-macosx-10.8-intel.egg/scipy/optimize/zeros.py:149: RuntimeWarning: Tolerance of -1.2321825988e+14 reached\n",
        "  warnings.warn(msg, RuntimeWarning)\n",
        "/Library/Python/2.7/site-packages/scipy-0.13.0.dev_c31f167_20130514-py2.7-macosx-10.8-intel.egg/scipy/optimize/zeros.py:149: RuntimeWarning: Tolerance of 3.23310922658e+13 reached\n",
        "  warnings.warn(msg, RuntimeWarning)\n"
       ]
      },
      {
       "output_type": "stream",
       "stream": "stderr",
       "text": [
        "/Library/Python/2.7/site-packages/scipy-0.13.0.dev_c31f167_20130514-py2.7-macosx-10.8-intel.egg/scipy/optimize/zeros.py:149: RuntimeWarning: Tolerance of -7.39150320733e+13 reached\n",
        "  warnings.warn(msg, RuntimeWarning)\n",
        "/Library/Python/2.7/site-packages/scipy-0.13.0.dev_c31f167_20130514-py2.7-macosx-10.8-intel.egg/scipy/optimize/zeros.py:149: RuntimeWarning: Tolerance of -1.10617829765e+14 reached\n",
        "  warnings.warn(msg, RuntimeWarning)\n"
       ]
      },
      {
       "output_type": "stream",
       "stream": "stderr",
       "text": [
        "/Library/Python/2.7/site-packages/scipy-0.13.0.dev_c31f167_20130514-py2.7-macosx-10.8-intel.egg/scipy/optimize/zeros.py:149: RuntimeWarning: Tolerance of -4.47364681251e+15 reached\n",
        "  warnings.warn(msg, RuntimeWarning)\n",
        "/Library/Python/2.7/site-packages/scipy-0.13.0.dev_c31f167_20130514-py2.7-macosx-10.8-intel.egg/scipy/optimize/zeros.py:149: RuntimeWarning: Tolerance of 2.49240492003e+16 reached\n",
        "  warnings.warn(msg, RuntimeWarning)\n"
       ]
      },
      {
       "output_type": "stream",
       "stream": "stderr",
       "text": [
        "/Library/Python/2.7/site-packages/scipy-0.13.0.dev_c31f167_20130514-py2.7-macosx-10.8-intel.egg/scipy/optimize/zeros.py:149: RuntimeWarning: Tolerance of -1.08197893202e+16 reached\n",
        "  warnings.warn(msg, RuntimeWarning)\n",
        "/Library/Python/2.7/site-packages/scipy-0.13.0.dev_c31f167_20130514-py2.7-macosx-10.8-intel.egg/scipy/optimize/zeros.py:149: RuntimeWarning: Tolerance of 1.65567001007e+16 reached\n",
        "  warnings.warn(msg, RuntimeWarning)\n"
       ]
      },
      {
       "output_type": "stream",
       "stream": "stderr",
       "text": [
        "/Library/Python/2.7/site-packages/scipy-0.13.0.dev_c31f167_20130514-py2.7-macosx-10.8-intel.egg/scipy/optimize/zeros.py:149: RuntimeWarning: Tolerance of -2.1939787091e+16 reached\n",
        "  warnings.warn(msg, RuntimeWarning)\n",
        "/Library/Python/2.7/site-packages/scipy-0.13.0.dev_c31f167_20130514-py2.7-macosx-10.8-intel.egg/scipy/optimize/zeros.py:149: RuntimeWarning: Tolerance of 6.42319359994e+16 reached\n",
        "  warnings.warn(msg, RuntimeWarning)\n"
       ]
      },
      {
       "output_type": "stream",
       "stream": "stderr",
       "text": [
        "/Library/Python/2.7/site-packages/scipy-0.13.0.dev_c31f167_20130514-py2.7-macosx-10.8-intel.egg/scipy/optimize/zeros.py:149: RuntimeWarning: Tolerance of 2.33841513365e+16 reached\n",
        "  warnings.warn(msg, RuntimeWarning)\n",
        "/Library/Python/2.7/site-packages/scipy-0.13.0.dev_c31f167_20130514-py2.7-macosx-10.8-intel.egg/scipy/optimize/zeros.py:149: RuntimeWarning: Tolerance of 2.23353336688e+16 reached\n",
        "  warnings.warn(msg, RuntimeWarning)\n"
       ]
      },
      {
       "output_type": "stream",
       "stream": "stderr",
       "text": [
        "/Library/Python/2.7/site-packages/scipy-0.13.0.dev_c31f167_20130514-py2.7-macosx-10.8-intel.egg/scipy/optimize/zeros.py:149: RuntimeWarning: Tolerance of -4.06407564977e+15 reached\n",
        "  warnings.warn(msg, RuntimeWarning)\n",
        "/Library/Python/2.7/site-packages/scipy-0.13.0.dev_c31f167_20130514-py2.7-macosx-10.8-intel.egg/scipy/optimize/zeros.py:149: RuntimeWarning: Tolerance of -2.50635737984e+15 reached\n",
        "  warnings.warn(msg, RuntimeWarning)\n"
       ]
      },
      {
       "output_type": "stream",
       "stream": "stderr",
       "text": [
        "/Library/Python/2.7/site-packages/scipy-0.13.0.dev_c31f167_20130514-py2.7-macosx-10.8-intel.egg/scipy/optimize/zeros.py:149: RuntimeWarning: Tolerance of 4.63630056585e+14 reached\n",
        "  warnings.warn(msg, RuntimeWarning)\n",
        "/Library/Python/2.7/site-packages/scipy-0.13.0.dev_c31f167_20130514-py2.7-macosx-10.8-intel.egg/scipy/optimize/zeros.py:149: RuntimeWarning: Tolerance of -2.00173503898e+16 reached\n",
        "  warnings.warn(msg, RuntimeWarning)\n"
       ]
      },
      {
       "output_type": "stream",
       "stream": "stderr",
       "text": [
        "/Library/Python/2.7/site-packages/scipy-0.13.0.dev_c31f167_20130514-py2.7-macosx-10.8-intel.egg/scipy/optimize/zeros.py:149: RuntimeWarning: Tolerance of -6.95674752858e+16 reached\n",
        "  warnings.warn(msg, RuntimeWarning)\n",
        "/Library/Python/2.7/site-packages/scipy-0.13.0.dev_c31f167_20130514-py2.7-macosx-10.8-intel.egg/scipy/optimize/zeros.py:149: RuntimeWarning: Tolerance of 4.05137434396e+14 reached\n",
        "  warnings.warn(msg, RuntimeWarning)\n",
        "/Library/Python/2.7/site-packages/scipy-0.13.0.dev_c31f167_20130514-py2.7-macosx-10.8-intel.egg/scipy/optimize/zeros.py:149: RuntimeWarning: Tolerance of -858948354556.0 reached\n",
        "  warnings.warn(msg, RuntimeWarning)\n"
       ]
      },
      {
       "output_type": "stream",
       "stream": "stderr",
       "text": [
        "/Library/Python/2.7/site-packages/scipy-0.13.0.dev_c31f167_20130514-py2.7-macosx-10.8-intel.egg/scipy/optimize/zeros.py:149: RuntimeWarning: Tolerance of 2.8970602306e+15 reached\n",
        "  warnings.warn(msg, RuntimeWarning)\n",
        "/Library/Python/2.7/site-packages/scipy-0.13.0.dev_c31f167_20130514-py2.7-macosx-10.8-intel.egg/scipy/optimize/zeros.py:149: RuntimeWarning: Tolerance of 2.67338764323e+15 reached\n",
        "  warnings.warn(msg, RuntimeWarning)\n"
       ]
      },
      {
       "output_type": "stream",
       "stream": "stderr",
       "text": [
        "/Library/Python/2.7/site-packages/scipy-0.13.0.dev_c31f167_20130514-py2.7-macosx-10.8-intel.egg/scipy/optimize/zeros.py:149: RuntimeWarning: Tolerance of -5.90742465069e+15 reached\n",
        "  warnings.warn(msg, RuntimeWarning)\n",
        "/Library/Python/2.7/site-packages/scipy-0.13.0.dev_c31f167_20130514-py2.7-macosx-10.8-intel.egg/scipy/optimize/zeros.py:149: RuntimeWarning: Tolerance of -1.85337871983e+14 reached\n",
        "  warnings.warn(msg, RuntimeWarning)\n"
       ]
      },
      {
       "output_type": "stream",
       "stream": "stderr",
       "text": [
        "/Library/Python/2.7/site-packages/scipy-0.13.0.dev_c31f167_20130514-py2.7-macosx-10.8-intel.egg/scipy/optimize/zeros.py:149: RuntimeWarning: Tolerance of 7.85798307064e+15 reached\n",
        "  warnings.warn(msg, RuntimeWarning)\n",
        "/Library/Python/2.7/site-packages/scipy-0.13.0.dev_c31f167_20130514-py2.7-macosx-10.8-intel.egg/scipy/optimize/zeros.py:149: RuntimeWarning: Tolerance of 3.39057928268e+14 reached\n",
        "  warnings.warn(msg, RuntimeWarning)\n"
       ]
      },
      {
       "output_type": "stream",
       "stream": "stderr",
       "text": [
        "/Library/Python/2.7/site-packages/scipy-0.13.0.dev_c31f167_20130514-py2.7-macosx-10.8-intel.egg/scipy/optimize/zeros.py:149: RuntimeWarning: Tolerance of 5.35124489126e+15 reached\n",
        "  warnings.warn(msg, RuntimeWarning)\n",
        "/Library/Python/2.7/site-packages/scipy-0.13.0.dev_c31f167_20130514-py2.7-macosx-10.8-intel.egg/scipy/optimize/zeros.py:149: RuntimeWarning: Tolerance of -4.8145085321e+15 reached\n",
        "  warnings.warn(msg, RuntimeWarning)\n"
       ]
      },
      {
       "output_type": "stream",
       "stream": "stderr",
       "text": [
        "/Library/Python/2.7/site-packages/scipy-0.13.0.dev_c31f167_20130514-py2.7-macosx-10.8-intel.egg/scipy/optimize/zeros.py:149: RuntimeWarning: Tolerance of -1.89516688351e+15 reached\n",
        "  warnings.warn(msg, RuntimeWarning)\n",
        "/Library/Python/2.7/site-packages/scipy-0.13.0.dev_c31f167_20130514-py2.7-macosx-10.8-intel.egg/scipy/optimize/zeros.py:149: RuntimeWarning: Tolerance of 4.62450259521e+15 reached\n",
        "  warnings.warn(msg, RuntimeWarning)\n"
       ]
      },
      {
       "output_type": "stream",
       "stream": "stderr",
       "text": [
        "/Library/Python/2.7/site-packages/scipy-0.13.0.dev_c31f167_20130514-py2.7-macosx-10.8-intel.egg/scipy/optimize/zeros.py:149: RuntimeWarning: Tolerance of -3.47054188994e+14 reached\n",
        "  warnings.warn(msg, RuntimeWarning)\n",
        "/Library/Python/2.7/site-packages/scipy-0.13.0.dev_c31f167_20130514-py2.7-macosx-10.8-intel.egg/scipy/optimize/zeros.py:149: RuntimeWarning: Tolerance of -4.19070026023e+13 reached\n",
        "  warnings.warn(msg, RuntimeWarning)\n"
       ]
      },
      {
       "output_type": "stream",
       "stream": "stderr",
       "text": [
        "/Library/Python/2.7/site-packages/scipy-0.13.0.dev_c31f167_20130514-py2.7-macosx-10.8-intel.egg/scipy/optimize/zeros.py:149: RuntimeWarning: Tolerance of -4.95924887727e+16 reached\n",
        "  warnings.warn(msg, RuntimeWarning)\n",
        "/Library/Python/2.7/site-packages/scipy-0.13.0.dev_c31f167_20130514-py2.7-macosx-10.8-intel.egg/scipy/optimize/zeros.py:149: RuntimeWarning: Tolerance of 4.39341945069e+12 reached\n",
        "  warnings.warn(msg, RuntimeWarning)\n"
       ]
      },
      {
       "output_type": "stream",
       "stream": "stderr",
       "text": [
        "/Library/Python/2.7/site-packages/scipy-0.13.0.dev_c31f167_20130514-py2.7-macosx-10.8-intel.egg/scipy/optimize/zeros.py:149: RuntimeWarning: Tolerance of -1.90161284022e+16 reached\n",
        "  warnings.warn(msg, RuntimeWarning)\n",
        "/Library/Python/2.7/site-packages/scipy-0.13.0.dev_c31f167_20130514-py2.7-macosx-10.8-intel.egg/scipy/optimize/zeros.py:149: RuntimeWarning: Tolerance of 2.47330033765e+16 reached\n",
        "  warnings.warn(msg, RuntimeWarning)\n"
       ]
      },
      {
       "output_type": "stream",
       "stream": "stderr",
       "text": [
        "/Library/Python/2.7/site-packages/scipy-0.13.0.dev_c31f167_20130514-py2.7-macosx-10.8-intel.egg/scipy/optimize/zeros.py:149: RuntimeWarning: Tolerance of -1.05748401971e+15 reached\n",
        "  warnings.warn(msg, RuntimeWarning)\n",
        "/Library/Python/2.7/site-packages/scipy-0.13.0.dev_c31f167_20130514-py2.7-macosx-10.8-intel.egg/scipy/optimize/zeros.py:149: RuntimeWarning: Tolerance of 2.15972540145e+13 reached\n",
        "  warnings.warn(msg, RuntimeWarning)\n"
       ]
      },
      {
       "output_type": "stream",
       "stream": "stderr",
       "text": [
        "/Library/Python/2.7/site-packages/scipy-0.13.0.dev_c31f167_20130514-py2.7-macosx-10.8-intel.egg/scipy/optimize/zeros.py:149: RuntimeWarning: Tolerance of 7.82950046398e+15 reached\n",
        "  warnings.warn(msg, RuntimeWarning)\n",
        "/Library/Python/2.7/site-packages/scipy-0.13.0.dev_c31f167_20130514-py2.7-macosx-10.8-intel.egg/scipy/optimize/zeros.py:149: RuntimeWarning: Tolerance of 1.97989623201e+15 reached\n",
        "  warnings.warn(msg, RuntimeWarning)\n"
       ]
      },
      {
       "output_type": "stream",
       "stream": "stderr",
       "text": [
        "/Library/Python/2.7/site-packages/scipy-0.13.0.dev_c31f167_20130514-py2.7-macosx-10.8-intel.egg/scipy/optimize/zeros.py:149: RuntimeWarning: Tolerance of -3.20743271242e+15 reached\n",
        "  warnings.warn(msg, RuntimeWarning)\n",
        "/Library/Python/2.7/site-packages/scipy-0.13.0.dev_c31f167_20130514-py2.7-macosx-10.8-intel.egg/scipy/optimize/zeros.py:149: RuntimeWarning: Tolerance of -1.91160981201e+14 reached\n",
        "  warnings.warn(msg, RuntimeWarning)\n"
       ]
      },
      {
       "output_type": "stream",
       "stream": "stderr",
       "text": [
        "/Library/Python/2.7/site-packages/scipy-0.13.0.dev_c31f167_20130514-py2.7-macosx-10.8-intel.egg/scipy/optimize/zeros.py:149: RuntimeWarning: Tolerance of 1.7639448787e+15 reached\n",
        "  warnings.warn(msg, RuntimeWarning)\n",
        "/Library/Python/2.7/site-packages/scipy-0.13.0.dev_c31f167_20130514-py2.7-macosx-10.8-intel.egg/scipy/optimize/zeros.py:149: RuntimeWarning: Tolerance of -6.68975492928e+13 reached\n",
        "  warnings.warn(msg, RuntimeWarning)\n"
       ]
      },
      {
       "output_type": "stream",
       "stream": "stderr",
       "text": [
        "/Library/Python/2.7/site-packages/scipy-0.13.0.dev_c31f167_20130514-py2.7-macosx-10.8-intel.egg/scipy/optimize/zeros.py:149: RuntimeWarning: Tolerance of 1.94127459723e+15 reached\n",
        "  warnings.warn(msg, RuntimeWarning)\n",
        "/Library/Python/2.7/site-packages/scipy-0.13.0.dev_c31f167_20130514-py2.7-macosx-10.8-intel.egg/scipy/optimize/zeros.py:149: RuntimeWarning: Tolerance of -1.15525682681e+15 reached\n",
        "  warnings.warn(msg, RuntimeWarning)\n"
       ]
      },
      {
       "output_type": "stream",
       "stream": "stderr",
       "text": [
        "/Library/Python/2.7/site-packages/scipy-0.13.0.dev_c31f167_20130514-py2.7-macosx-10.8-intel.egg/scipy/optimize/zeros.py:149: RuntimeWarning: Tolerance of -2.43831766887e+15 reached\n",
        "  warnings.warn(msg, RuntimeWarning)\n",
        "/Library/Python/2.7/site-packages/scipy-0.13.0.dev_c31f167_20130514-py2.7-macosx-10.8-intel.egg/scipy/optimize/zeros.py:149: RuntimeWarning: Tolerance of 9.86833332234e+14 reached\n",
        "  warnings.warn(msg, RuntimeWarning)\n"
       ]
      },
      {
       "output_type": "stream",
       "stream": "stderr",
       "text": [
        "/Library/Python/2.7/site-packages/scipy-0.13.0.dev_c31f167_20130514-py2.7-macosx-10.8-intel.egg/scipy/optimize/zeros.py:149: RuntimeWarning: Tolerance of -1.80312349107e+14 reached\n",
        "  warnings.warn(msg, RuntimeWarning)\n",
        "/Library/Python/2.7/site-packages/scipy-0.13.0.dev_c31f167_20130514-py2.7-macosx-10.8-intel.egg/scipy/optimize/zeros.py:149: RuntimeWarning: Tolerance of -1.56606165274e+16 reached\n",
        "  warnings.warn(msg, RuntimeWarning)\n"
       ]
      },
      {
       "output_type": "stream",
       "stream": "stderr",
       "text": [
        "/Library/Python/2.7/site-packages/scipy-0.13.0.dev_c31f167_20130514-py2.7-macosx-10.8-intel.egg/scipy/optimize/zeros.py:149: RuntimeWarning: Tolerance of -4.47105906043e+16 reached\n",
        "  warnings.warn(msg, RuntimeWarning)\n",
        "/Library/Python/2.7/site-packages/scipy-0.13.0.dev_c31f167_20130514-py2.7-macosx-10.8-intel.egg/scipy/optimize/zeros.py:149: RuntimeWarning: Tolerance of 1.30063701772e+13 reached\n",
        "  warnings.warn(msg, RuntimeWarning)\n"
       ]
      },
      {
       "output_type": "stream",
       "stream": "stdout",
       "text": [
        "\n",
        "deleting item T1map_LL"
       ]
      },
      {
       "output_type": "stream",
       "stream": "stdout",
       "text": [
        "\n",
        "deleting item T1map_LL_fitdict"
       ]
      },
      {
       "output_type": "stream",
       "stream": "stderr",
       "text": [
        "/Library/Python/2.7/site-packages/scipy-0.13.0.dev_c31f167_20130514-py2.7-macosx-10.8-intel.egg/scipy/optimize/zeros.py:149: RuntimeWarning: Tolerance of 9.17025559986e+15 reached\n",
        "  warnings.warn(msg, RuntimeWarning)\n",
        "WARNING:sarpy.io.BRUKERIO:NSLICES not equal to number of ACQ_obj_order\n"
       ]
      },
      {
       "output_type": "stream",
       "stream": "stderr",
       "text": [
        "/Library/Python/2.7/site-packages/scipy-0.13.0.dev_c31f167_20130514-py2.7-macosx-10.8-intel.egg/scipy/optimize/zeros.py:149: RuntimeWarning: Tolerance of 2.24476267349e+14 reached\n",
        "  warnings.warn(msg, RuntimeWarning)\n",
        "/Library/Python/2.7/site-packages/scipy-0.13.0.dev_c31f167_20130514-py2.7-macosx-10.8-intel.egg/scipy/optimize/zeros.py:149: RuntimeWarning: Tolerance of 6.42924673639e+13 reached\n",
        "  warnings.warn(msg, RuntimeWarning)\n"
       ]
      },
      {
       "output_type": "stream",
       "stream": "stderr",
       "text": [
        "/Library/Python/2.7/site-packages/scipy-0.13.0.dev_c31f167_20130514-py2.7-macosx-10.8-intel.egg/scipy/optimize/zeros.py:149: RuntimeWarning: Tolerance of -3.7141598378e+15 reached\n",
        "  warnings.warn(msg, RuntimeWarning)\n",
        "/Library/Python/2.7/site-packages/scipy-0.13.0.dev_c31f167_20130514-py2.7-macosx-10.8-intel.egg/scipy/optimize/zeros.py:149: RuntimeWarning: Tolerance of 3.1244797202e+15 reached\n",
        "  warnings.warn(msg, RuntimeWarning)\n"
       ]
      },
      {
       "output_type": "stream",
       "stream": "stderr",
       "text": [
        "/Library/Python/2.7/site-packages/scipy-0.13.0.dev_c31f167_20130514-py2.7-macosx-10.8-intel.egg/scipy/optimize/zeros.py:149: RuntimeWarning: Tolerance of -1.90416731803e+14 reached\n",
        "  warnings.warn(msg, RuntimeWarning)\n",
        "/Library/Python/2.7/site-packages/scipy-0.13.0.dev_c31f167_20130514-py2.7-macosx-10.8-intel.egg/scipy/optimize/zeros.py:149: RuntimeWarning: Tolerance of -2.05762136845e+15 reached\n",
        "  warnings.warn(msg, RuntimeWarning)\n"
       ]
      },
      {
       "output_type": "stream",
       "stream": "stderr",
       "text": [
        "/Library/Python/2.7/site-packages/scipy-0.13.0.dev_c31f167_20130514-py2.7-macosx-10.8-intel.egg/scipy/optimize/zeros.py:149: RuntimeWarning: Tolerance of 1.44869415854e+17 reached\n",
        "  warnings.warn(msg, RuntimeWarning)\n",
        "/Library/Python/2.7/site-packages/scipy-0.13.0.dev_c31f167_20130514-py2.7-macosx-10.8-intel.egg/scipy/optimize/zeros.py:149: RuntimeWarning: Tolerance of -2.37379194095e+15 reached\n",
        "  warnings.warn(msg, RuntimeWarning)\n"
       ]
      },
      {
       "output_type": "stream",
       "stream": "stderr",
       "text": [
        "/Library/Python/2.7/site-packages/scipy-0.13.0.dev_c31f167_20130514-py2.7-macosx-10.8-intel.egg/scipy/optimize/zeros.py:149: RuntimeWarning: Tolerance of -1.9523825355e+16 reached\n",
        "  warnings.warn(msg, RuntimeWarning)\n",
        "/Library/Python/2.7/site-packages/scipy-0.13.0.dev_c31f167_20130514-py2.7-macosx-10.8-intel.egg/scipy/optimize/zeros.py:149: RuntimeWarning: Tolerance of -1.11923627668e+15 reached\n",
        "  warnings.warn(msg, RuntimeWarning)\n"
       ]
      },
      {
       "output_type": "stream",
       "stream": "stderr",
       "text": [
        "/Library/Python/2.7/site-packages/scipy-0.13.0.dev_c31f167_20130514-py2.7-macosx-10.8-intel.egg/scipy/optimize/zeros.py:149: RuntimeWarning: Tolerance of -1.72772924695e+17 reached\n",
        "  warnings.warn(msg, RuntimeWarning)\n",
        "/Library/Python/2.7/site-packages/scipy-0.13.0.dev_c31f167_20130514-py2.7-macosx-10.8-intel.egg/scipy/optimize/zeros.py:149: RuntimeWarning: Tolerance of 5.63143920997e+12 reached\n",
        "  warnings.warn(msg, RuntimeWarning)\n"
       ]
      },
      {
       "output_type": "stream",
       "stream": "stderr",
       "text": [
        "/Library/Python/2.7/site-packages/scipy-0.13.0.dev_c31f167_20130514-py2.7-macosx-10.8-intel.egg/scipy/optimize/zeros.py:149: RuntimeWarning: Tolerance of -2.01816565073e+14 reached\n",
        "  warnings.warn(msg, RuntimeWarning)\n",
        "/Library/Python/2.7/site-packages/scipy-0.13.0.dev_c31f167_20130514-py2.7-macosx-10.8-intel.egg/scipy/optimize/zeros.py:149: RuntimeWarning: Tolerance of 2.08413727449e+16 reached\n",
        "  warnings.warn(msg, RuntimeWarning)\n"
       ]
      },
      {
       "output_type": "stream",
       "stream": "stderr",
       "text": [
        "/Library/Python/2.7/site-packages/scipy-0.13.0.dev_c31f167_20130514-py2.7-macosx-10.8-intel.egg/scipy/optimize/zeros.py:149: RuntimeWarning: Tolerance of 34053472.3438 reached\n",
        "  warnings.warn(msg, RuntimeWarning)\n",
        "/Library/Python/2.7/site-packages/scipy-0.13.0.dev_c31f167_20130514-py2.7-macosx-10.8-intel.egg/scipy/optimize/zeros.py:149: RuntimeWarning: Tolerance of 1.0063817562e+14 reached\n",
        "  warnings.warn(msg, RuntimeWarning)\n"
       ]
      },
      {
       "output_type": "stream",
       "stream": "stderr",
       "text": [
        "/Library/Python/2.7/site-packages/scipy-0.13.0.dev_c31f167_20130514-py2.7-macosx-10.8-intel.egg/scipy/optimize/zeros.py:149: RuntimeWarning: Tolerance of 1.06124262436e+16 reached\n",
        "  warnings.warn(msg, RuntimeWarning)\n",
        "/Library/Python/2.7/site-packages/scipy-0.13.0.dev_c31f167_20130514-py2.7-macosx-10.8-intel.egg/scipy/optimize/zeros.py:149: RuntimeWarning: Tolerance of -1.87135778332e+15 reached\n",
        "  warnings.warn(msg, RuntimeWarning)\n"
       ]
      },
      {
       "output_type": "stream",
       "stream": "stderr",
       "text": [
        "/Library/Python/2.7/site-packages/scipy-0.13.0.dev_c31f167_20130514-py2.7-macosx-10.8-intel.egg/scipy/optimize/zeros.py:149: RuntimeWarning: Tolerance of 1.94156741103e+14 reached\n",
        "  warnings.warn(msg, RuntimeWarning)\n",
        "/Library/Python/2.7/site-packages/scipy-0.13.0.dev_c31f167_20130514-py2.7-macosx-10.8-intel.egg/scipy/optimize/zeros.py:149: RuntimeWarning: Tolerance of 1.14492811061e+16 reached\n",
        "  warnings.warn(msg, RuntimeWarning)\n"
       ]
      },
      {
       "output_type": "stream",
       "stream": "stderr",
       "text": [
        "/Library/Python/2.7/site-packages/scipy-0.13.0.dev_c31f167_20130514-py2.7-macosx-10.8-intel.egg/scipy/optimize/zeros.py:149: RuntimeWarning: Tolerance of 7.04951923573e+14 reached\n",
        "  warnings.warn(msg, RuntimeWarning)\n",
        "/Library/Python/2.7/site-packages/scipy-0.13.0.dev_c31f167_20130514-py2.7-macosx-10.8-intel.egg/scipy/optimize/zeros.py:149: RuntimeWarning: Tolerance of 3.84498815191e+14 reached\n",
        "  warnings.warn(msg, RuntimeWarning)\n"
       ]
      },
      {
       "output_type": "stream",
       "stream": "stderr",
       "text": [
        "/Library/Python/2.7/site-packages/scipy-0.13.0.dev_c31f167_20130514-py2.7-macosx-10.8-intel.egg/scipy/optimize/zeros.py:149: RuntimeWarning: Tolerance of -1.1443412962e+15 reached\n",
        "  warnings.warn(msg, RuntimeWarning)\n",
        "/Library/Python/2.7/site-packages/scipy-0.13.0.dev_c31f167_20130514-py2.7-macosx-10.8-intel.egg/scipy/optimize/zeros.py:149: RuntimeWarning: Tolerance of 2.22034908758e+15 reached\n",
        "  warnings.warn(msg, RuntimeWarning)\n"
       ]
      },
      {
       "output_type": "stream",
       "stream": "stderr",
       "text": [
        "/Library/Python/2.7/site-packages/scipy-0.13.0.dev_c31f167_20130514-py2.7-macosx-10.8-intel.egg/scipy/optimize/zeros.py:149: RuntimeWarning: Tolerance of -1.4880080864e+15 reached\n",
        "  warnings.warn(msg, RuntimeWarning)\n",
        "/Library/Python/2.7/site-packages/scipy-0.13.0.dev_c31f167_20130514-py2.7-macosx-10.8-intel.egg/scipy/optimize/zeros.py:149: RuntimeWarning: Tolerance of 1.50154348558e+16 reached\n",
        "  warnings.warn(msg, RuntimeWarning)\n"
       ]
      },
      {
       "output_type": "stream",
       "stream": "stderr",
       "text": [
        "/Library/Python/2.7/site-packages/scipy-0.13.0.dev_c31f167_20130514-py2.7-macosx-10.8-intel.egg/scipy/optimize/zeros.py:149: RuntimeWarning: Tolerance of -3.86354709292e+15 reached\n",
        "  warnings.warn(msg, RuntimeWarning)\n",
        "/Library/Python/2.7/site-packages/scipy-0.13.0.dev_c31f167_20130514-py2.7-macosx-10.8-intel.egg/scipy/optimize/zeros.py:149: RuntimeWarning: Tolerance of -3.02629065248e+16 reached\n",
        "  warnings.warn(msg, RuntimeWarning)\n"
       ]
      },
      {
       "output_type": "stream",
       "stream": "stderr",
       "text": [
        "/Library/Python/2.7/site-packages/scipy-0.13.0.dev_c31f167_20130514-py2.7-macosx-10.8-intel.egg/scipy/optimize/zeros.py:149: RuntimeWarning: Tolerance of -9.60127505301e+15 reached\n",
        "  warnings.warn(msg, RuntimeWarning)\n",
        "/Library/Python/2.7/site-packages/scipy-0.13.0.dev_c31f167_20130514-py2.7-macosx-10.8-intel.egg/scipy/optimize/zeros.py:149: RuntimeWarning: Tolerance of -1.08662279343e+17 reached\n",
        "  warnings.warn(msg, RuntimeWarning)\n"
       ]
      },
      {
       "output_type": "stream",
       "stream": "stderr",
       "text": [
        "/Library/Python/2.7/site-packages/scipy-0.13.0.dev_c31f167_20130514-py2.7-macosx-10.8-intel.egg/scipy/optimize/zeros.py:149: RuntimeWarning: Tolerance of 2.67464008007e+15 reached\n",
        "  warnings.warn(msg, RuntimeWarning)\n",
        "/Library/Python/2.7/site-packages/scipy-0.13.0.dev_c31f167_20130514-py2.7-macosx-10.8-intel.egg/scipy/optimize/zeros.py:149: RuntimeWarning: Tolerance of -8.15899276704e+15 reached\n",
        "  warnings.warn(msg, RuntimeWarning)\n"
       ]
      },
      {
       "output_type": "stream",
       "stream": "stderr",
       "text": [
        "/Library/Python/2.7/site-packages/scipy-0.13.0.dev_c31f167_20130514-py2.7-macosx-10.8-intel.egg/scipy/optimize/zeros.py:149: RuntimeWarning: Tolerance of -8.46633980441e+15 reached\n",
        "  warnings.warn(msg, RuntimeWarning)\n",
        "/Library/Python/2.7/site-packages/scipy-0.13.0.dev_c31f167_20130514-py2.7-macosx-10.8-intel.egg/scipy/optimize/zeros.py:149: RuntimeWarning: Tolerance of 1.87980936508e+12 reached\n",
        "  warnings.warn(msg, RuntimeWarning)\n"
       ]
      },
      {
       "output_type": "stream",
       "stream": "stderr",
       "text": [
        "/Library/Python/2.7/site-packages/scipy-0.13.0.dev_c31f167_20130514-py2.7-macosx-10.8-intel.egg/scipy/optimize/zeros.py:149: RuntimeWarning: Tolerance of 5.64383290502e+15 reached\n",
        "  warnings.warn(msg, RuntimeWarning)\n",
        "/Library/Python/2.7/site-packages/scipy-0.13.0.dev_c31f167_20130514-py2.7-macosx-10.8-intel.egg/scipy/optimize/zeros.py:149: RuntimeWarning: Tolerance of 5.06977362217e+15 reached\n",
        "  warnings.warn(msg, RuntimeWarning)\n"
       ]
      },
      {
       "output_type": "stream",
       "stream": "stderr",
       "text": [
        "/Library/Python/2.7/site-packages/scipy-0.13.0.dev_c31f167_20130514-py2.7-macosx-10.8-intel.egg/scipy/optimize/zeros.py:149: RuntimeWarning: Tolerance of 1.27214666037e+13 reached\n",
        "  warnings.warn(msg, RuntimeWarning)\n",
        "/Library/Python/2.7/site-packages/scipy-0.13.0.dev_c31f167_20130514-py2.7-macosx-10.8-intel.egg/scipy/optimize/zeros.py:149: RuntimeWarning: Tolerance of 1.22827192069e+15 reached\n",
        "  warnings.warn(msg, RuntimeWarning)\n"
       ]
      },
      {
       "output_type": "stream",
       "stream": "stderr",
       "text": [
        "/Library/Python/2.7/site-packages/scipy-0.13.0.dev_c31f167_20130514-py2.7-macosx-10.8-intel.egg/scipy/optimize/zeros.py:149: RuntimeWarning: Tolerance of -4.3374086604e+15 reached\n",
        "  warnings.warn(msg, RuntimeWarning)\n",
        "/Library/Python/2.7/site-packages/scipy-0.13.0.dev_c31f167_20130514-py2.7-macosx-10.8-intel.egg/scipy/optimize/zeros.py:149: RuntimeWarning: Tolerance of 4.67655734193e+13 reached\n",
        "  warnings.warn(msg, RuntimeWarning)\n"
       ]
      },
      {
       "output_type": "stream",
       "stream": "stderr",
       "text": [
        "/Library/Python/2.7/site-packages/scipy-0.13.0.dev_c31f167_20130514-py2.7-macosx-10.8-intel.egg/scipy/optimize/zeros.py:149: RuntimeWarning: Tolerance of -1.12175715799e+16 reached\n",
        "  warnings.warn(msg, RuntimeWarning)\n",
        "/Library/Python/2.7/site-packages/scipy-0.13.0.dev_c31f167_20130514-py2.7-macosx-10.8-intel.egg/scipy/optimize/zeros.py:149: RuntimeWarning: Tolerance of -1.77305431832e+14 reached\n",
        "  warnings.warn(msg, RuntimeWarning)\n"
       ]
      },
      {
       "output_type": "stream",
       "stream": "stderr",
       "text": [
        "/Library/Python/2.7/site-packages/scipy-0.13.0.dev_c31f167_20130514-py2.7-macosx-10.8-intel.egg/scipy/optimize/zeros.py:149: RuntimeWarning: Tolerance of -7.3599276808e+16 reached\n",
        "  warnings.warn(msg, RuntimeWarning)\n",
        "/Library/Python/2.7/site-packages/scipy-0.13.0.dev_c31f167_20130514-py2.7-macosx-10.8-intel.egg/scipy/optimize/zeros.py:149: RuntimeWarning: Tolerance of -7.14965755107e+15 reached\n",
        "  warnings.warn(msg, RuntimeWarning)\n"
       ]
      },
      {
       "output_type": "stream",
       "stream": "stderr",
       "text": [
        "/Library/Python/2.7/site-packages/scipy-0.13.0.dev_c31f167_20130514-py2.7-macosx-10.8-intel.egg/scipy/optimize/zeros.py:149: RuntimeWarning: Tolerance of 2.36855364016e+16 reached\n",
        "  warnings.warn(msg, RuntimeWarning)\n",
        "/Library/Python/2.7/site-packages/scipy-0.13.0.dev_c31f167_20130514-py2.7-macosx-10.8-intel.egg/scipy/optimize/zeros.py:149: RuntimeWarning: Tolerance of 3.25335191484e+16 reached\n",
        "  warnings.warn(msg, RuntimeWarning)\n"
       ]
      },
      {
       "output_type": "stream",
       "stream": "stderr",
       "text": [
        "/Library/Python/2.7/site-packages/scipy-0.13.0.dev_c31f167_20130514-py2.7-macosx-10.8-intel.egg/scipy/optimize/zeros.py:149: RuntimeWarning: Tolerance of -8.04584457359e+15 reached\n",
        "  warnings.warn(msg, RuntimeWarning)\n",
        "/Library/Python/2.7/site-packages/scipy-0.13.0.dev_c31f167_20130514-py2.7-macosx-10.8-intel.egg/scipy/optimize/zeros.py:149: RuntimeWarning: Tolerance of 4.6360230528e+15 reached\n",
        "  warnings.warn(msg, RuntimeWarning)\n"
       ]
      },
      {
       "output_type": "stream",
       "stream": "stderr",
       "text": [
        "/Library/Python/2.7/site-packages/scipy-0.13.0.dev_c31f167_20130514-py2.7-macosx-10.8-intel.egg/scipy/optimize/zeros.py:149: RuntimeWarning: Tolerance of 9.74055507934e+17 reached\n",
        "  warnings.warn(msg, RuntimeWarning)\n",
        "/Library/Python/2.7/site-packages/scipy-0.13.0.dev_c31f167_20130514-py2.7-macosx-10.8-intel.egg/scipy/optimize/zeros.py:149: RuntimeWarning: Tolerance of -2.78030237424e+16 reached\n",
        "  warnings.warn(msg, RuntimeWarning)\n"
       ]
      },
      {
       "output_type": "stream",
       "stream": "stderr",
       "text": [
        "/Library/Python/2.7/site-packages/scipy-0.13.0.dev_c31f167_20130514-py2.7-macosx-10.8-intel.egg/scipy/optimize/zeros.py:149: RuntimeWarning: Tolerance of 6.39158944625e+17 reached\n",
        "  warnings.warn(msg, RuntimeWarning)\n",
        "/Library/Python/2.7/site-packages/scipy-0.13.0.dev_c31f167_20130514-py2.7-macosx-10.8-intel.egg/scipy/optimize/zeros.py:149: RuntimeWarning: Tolerance of 3.85745679546e+15 reached\n",
        "  warnings.warn(msg, RuntimeWarning)\n"
       ]
      },
      {
       "output_type": "stream",
       "stream": "stderr",
       "text": [
        "/Library/Python/2.7/site-packages/scipy-0.13.0.dev_c31f167_20130514-py2.7-macosx-10.8-intel.egg/scipy/optimize/zeros.py:149: RuntimeWarning: Tolerance of -2.00941742448e+16 reached\n",
        "  warnings.warn(msg, RuntimeWarning)\n",
        "/Library/Python/2.7/site-packages/scipy-0.13.0.dev_c31f167_20130514-py2.7-macosx-10.8-intel.egg/scipy/optimize/zeros.py:149: RuntimeWarning: Tolerance of -9.42881021103e+16 reached\n",
        "  warnings.warn(msg, RuntimeWarning)\n"
       ]
      },
      {
       "output_type": "stream",
       "stream": "stderr",
       "text": [
        "/Library/Python/2.7/site-packages/scipy-0.13.0.dev_c31f167_20130514-py2.7-macosx-10.8-intel.egg/scipy/optimize/zeros.py:149: RuntimeWarning: Tolerance of 8.95873305876e+15 reached\n",
        "  warnings.warn(msg, RuntimeWarning)\n",
        "/Library/Python/2.7/site-packages/scipy-0.13.0.dev_c31f167_20130514-py2.7-macosx-10.8-intel.egg/scipy/optimize/zeros.py:149: RuntimeWarning: Tolerance of -1.546075513e+14 reached\n",
        "  warnings.warn(msg, RuntimeWarning)\n"
       ]
      },
      {
       "output_type": "stream",
       "stream": "stderr",
       "text": [
        "/Library/Python/2.7/site-packages/scipy-0.13.0.dev_c31f167_20130514-py2.7-macosx-10.8-intel.egg/scipy/optimize/zeros.py:149: RuntimeWarning: Tolerance of 2.1556785393e+16 reached\n",
        "  warnings.warn(msg, RuntimeWarning)\n",
        "/Library/Python/2.7/site-packages/scipy-0.13.0.dev_c31f167_20130514-py2.7-macosx-10.8-intel.egg/scipy/optimize/zeros.py:149: RuntimeWarning: Tolerance of -1.0114823346e+15 reached\n",
        "  warnings.warn(msg, RuntimeWarning)\n"
       ]
      },
      {
       "output_type": "stream",
       "stream": "stdout",
       "text": [
        "\n",
        "deleting item T1map_LL"
       ]
      },
      {
       "output_type": "stream",
       "stream": "stdout",
       "text": [
        "\n",
        "deleting item T1map_LL_fitdict"
       ]
      },
      {
       "output_type": "stream",
       "stream": "stdout",
       "text": [
        "\n",
        "deleting item vtc"
       ]
      },
      {
       "output_type": "stream",
       "stream": "stdout",
       "text": [
        "\n",
        "deleting item vtc"
       ]
      },
      {
       "output_type": "stream",
       "stream": "stdout",
       "text": [
        "\n",
        "deleting item vtc"
       ]
      },
      {
       "output_type": "stream",
       "stream": "stdout",
       "text": [
        "\n",
        "deleting item vtc"
       ]
      },
      {
       "output_type": "stream",
       "stream": "stdout",
       "text": [
        "\n",
        "deleting item vtc"
       ]
      },
      {
       "output_type": "stream",
       "stream": "stdout",
       "text": [
        "\n",
        "deleting item vtc"
       ]
      },
      {
       "output_type": "stream",
       "stream": "stdout",
       "text": [
        "\n",
        "deleting item vtc"
       ]
      },
      {
       "output_type": "stream",
       "stream": "stdout",
       "text": [
        "\n",
        "deleting item vtc"
       ]
      },
      {
       "output_type": "stream",
       "stream": "stdout",
       "text": [
        "\n",
        "deleting item vtc"
       ]
      },
      {
       "output_type": "stream",
       "stream": "stdout",
       "text": [
        "\n",
        "deleting item vtc"
       ]
      },
      {
       "output_type": "stream",
       "stream": "stdout",
       "text": [
        "\n",
        "deleting item vtc"
       ]
      },
      {
       "output_type": "stream",
       "stream": "stdout",
       "text": [
        "\n",
        "deleting item vtc"
       ]
      },
      {
       "output_type": "stream",
       "stream": "stdout",
       "text": [
        "\n",
        "vtc: Not found NecS1Hs05 and 48h-DCE1"
       ]
      },
      {
       "output_type": "stream",
       "stream": "stdout",
       "text": [
        "\n",
        "deleting item vtc"
       ]
      },
      {
       "output_type": "stream",
       "stream": "stdout",
       "text": [
        "\n",
        "deleting item vtc"
       ]
      },
      {
       "output_type": "stream",
       "stream": "stdout",
       "text": [
        "\n"
       ]
      },
      {
       "output_type": "stream",
       "stream": "stderr",
       "text": [
        "/Library/Python/2.7/site-packages/scipy-0.13.0.dev_c31f167_20130514-py2.7-macosx-10.8-intel.egg/scipy/optimize/zeros.py:149: RuntimeWarning: Tolerance of -5.9074409644e+15 reached\n",
        "  warnings.warn(msg, RuntimeWarning)\n"
       ]
      }
     ],
     "prompt_number": 5
    },
    {
     "cell_type": "markdown",
     "metadata": {},
     "source": [
      "## Step 4: Transfer ROIs to other scans via (resampling onto)"
     ]
    },
    {
     "cell_type": "code",
     "collapsed": false,
     "input": [
      "fFlag = True\n",
      "label = [] \n",
      "label.append('T1map_LL')\n",
      "label.append('auc60')\n",
      "\n",
      "for l in label:\n",
      "    sarpy.fmoosvi.wrappers.bulk_transfer_roi(masterlist,l, forceVal = fFlag)"
     ],
     "language": "python",
     "metadata": {},
     "outputs": [
      {
       "output_type": "stream",
       "stream": "stdout",
       "text": [
        "deleting item T1map_LL_roi\n",
        "bulk_transfer_roi: Success. Saved T1map_LL_roi in NecS1Hs02.hi1/6"
       ]
      },
      {
       "output_type": "stream",
       "stream": "stdout",
       "text": [
        "\n",
        "deleting item T1map_LL_roi"
       ]
      },
      {
       "output_type": "stream",
       "stream": "stdout",
       "text": [
        "\n",
        "bulk_transfer_roi: Success. Saved T1map_LL_roi in NecS1Hs02.hj1/6"
       ]
      },
      {
       "output_type": "stream",
       "stream": "stdout",
       "text": [
        "\n",
        "deleting item T1map_LL_roi"
       ]
      },
      {
       "output_type": "stream",
       "stream": "stdout",
       "text": [
        "\n",
        "bulk_transfer_roi: Success. Saved T1map_LL_roi in NecS1Hs02.hk1/6"
       ]
      },
      {
       "output_type": "stream",
       "stream": "stdout",
       "text": [
        "\n",
        "deleting item T1map_LL_roi"
       ]
      },
      {
       "output_type": "stream",
       "stream": "stdout",
       "text": [
        "\n",
        "bulk_transfer_roi: Success. Saved T1map_LL_roi in NecS1Hs03.hi1/6"
       ]
      },
      {
       "output_type": "stream",
       "stream": "stdout",
       "text": [
        "\n",
        "deleting item T1map_LL_roi"
       ]
      },
      {
       "output_type": "stream",
       "stream": "stdout",
       "text": [
        "\n",
        "bulk_transfer_roi: Success. Saved T1map_LL_roi in NecS1Hs03.hj1/7"
       ]
      },
      {
       "output_type": "stream",
       "stream": "stdout",
       "text": [
        "\n",
        "deleting item T1map_LL_roi"
       ]
      },
      {
       "output_type": "stream",
       "stream": "stdout",
       "text": [
        "\n",
        "bulk_transfer_roi: Success. Saved T1map_LL_roi in NecS1Hs03.hk1/6"
       ]
      },
      {
       "output_type": "stream",
       "stream": "stdout",
       "text": [
        "\n",
        "deleting item T1map_LL_roi"
       ]
      },
      {
       "output_type": "stream",
       "stream": "stdout",
       "text": [
        "\n",
        "bulk_transfer_roi: Success. Saved T1map_LL_roi in NecS1Hs05.hi1/6"
       ]
      },
      {
       "output_type": "stream",
       "stream": "stdout",
       "text": [
        "\n",
        "deleting item T1map_LL_roi"
       ]
      },
      {
       "output_type": "stream",
       "stream": "stdout",
       "text": [
        "\n",
        "bulk_transfer_roi: Success. Saved T1map_LL_roi in NecS1Hs05.hj1/8"
       ]
      },
      {
       "output_type": "stream",
       "stream": "stdout",
       "text": [
        "\n",
        "deleting item T1map_LL_roi"
       ]
      },
      {
       "output_type": "stream",
       "stream": "stdout",
       "text": [
        "\n",
        "bulk_transfer_roi: Success. Saved T1map_LL_roi in NecS1Hs05.hk1/6"
       ]
      },
      {
       "output_type": "stream",
       "stream": "stdout",
       "text": [
        "\n",
        "deleting item T1map_LL_roi"
       ]
      },
      {
       "output_type": "stream",
       "stream": "stdout",
       "text": [
        "\n",
        "bulk_transfer_roi: Success. Saved T1map_LL_roi in NecS1Hs06.hi1/6"
       ]
      },
      {
       "output_type": "stream",
       "stream": "stdout",
       "text": [
        "\n",
        "deleting item T1map_LL_roi"
       ]
      },
      {
       "output_type": "stream",
       "stream": "stdout",
       "text": [
        "\n",
        "bulk_transfer_roi: Success. Saved T1map_LL_roi in NecS1Hs06.hj1/6"
       ]
      },
      {
       "output_type": "stream",
       "stream": "stdout",
       "text": [
        "\n",
        "deleting item T1map_LL_roi"
       ]
      },
      {
       "output_type": "stream",
       "stream": "stdout",
       "text": [
        "\n",
        "bulk_transfer_roi: Success. Saved T1map_LL_roi in NecS1Hs06.hk1/9"
       ]
      },
      {
       "output_type": "stream",
       "stream": "stdout",
       "text": [
        "\n",
        "deleting item T1map_LL_roi"
       ]
      },
      {
       "output_type": "stream",
       "stream": "stdout",
       "text": [
        "\n",
        "bulk_transfer_roi: Success. Saved T1map_LL_roi in NecS1Hs08.hi1/6"
       ]
      },
      {
       "output_type": "stream",
       "stream": "stdout",
       "text": [
        "\n",
        "deleting item T1map_LL_roi"
       ]
      },
      {
       "output_type": "stream",
       "stream": "stdout",
       "text": [
        "\n",
        "bulk_transfer_roi: Success. Saved T1map_LL_roi in NecS1Hs08.hj1/4"
       ]
      },
      {
       "output_type": "stream",
       "stream": "stderr",
       "text": [
        "WARNING:sarpy.io.BRUKER_classes:Directory \"/Users/fmoosvi/bdata/stefan/nmr/NecS1Hs08.hk1/16\" did not contain processed data (2dseq)\n"
       ]
      },
      {
       "output_type": "stream",
       "stream": "stderr",
       "text": [
        "WARNING:sarpy.io.BRUKER_classes:visu_pars file /Users/fmoosvi/bdata/stefan/nmr/NecS1Hs08.hk1/16/pdata/1 not found\n",
        "\n"
       ]
      },
      {
       "output_type": "stream",
       "stream": "stderr",
       "text": [
        "WARNING:sarpy.io.Adata_classes:Need precisely one parameter file *json, found: []\n"
       ]
      },
      {
       "output_type": "stream",
       "stream": "stderr",
       "text": [
        "WARNING:sarpy.io.Adata_classes:Could not load AData\n"
       ]
      },
      {
       "output_type": "stream",
       "stream": "stderr",
       "text": [
        "WARNING:sarpy.io.Adata_classes:Need precisely one parameter file *json, found: []\n"
       ]
      },
      {
       "output_type": "stream",
       "stream": "stderr",
       "text": [
        "WARNING:sarpy.io.Adata_classes:Could not load AData\n"
       ]
      },
      {
       "output_type": "stream",
       "stream": "stderr",
       "text": [
        "WARNING:sarpy.io.Adata_classes:Need precisely one parameter file *json, found: []\n"
       ]
      },
      {
       "output_type": "stream",
       "stream": "stderr",
       "text": [
        "WARNING:sarpy.io.Adata_classes:Could not load AData\n"
       ]
      },
      {
       "output_type": "stream",
       "stream": "stderr",
       "text": [
        "WARNING:sarpy.io.Adata_classes:Need precisely one parameter file *json, found: []\n"
       ]
      },
      {
       "output_type": "stream",
       "stream": "stderr",
       "text": [
        "WARNING:sarpy.io.Adata_classes:Could not load AData\n"
       ]
      },
      {
       "output_type": "stream",
       "stream": "stderr",
       "text": [
        "WARNING:sarpy.io.Adata_classes:Need precisely one parameter file *json, found: []\n"
       ]
      },
      {
       "output_type": "stream",
       "stream": "stderr",
       "text": [
        "WARNING:sarpy.io.Adata_classes:Could not load AData\n"
       ]
      },
      {
       "output_type": "stream",
       "stream": "stderr",
       "text": [
        "WARNING:sarpy.io.Adata_classes:Need precisely one parameter file *json, found: []\n"
       ]
      },
      {
       "output_type": "stream",
       "stream": "stderr",
       "text": [
        "WARNING:sarpy.io.Adata_classes:Could not load AData\n"
       ]
      },
      {
       "output_type": "stream",
       "stream": "stderr",
       "text": [
        "WARNING:sarpy.io.Adata_classes:Need precisely one parameter file *json, found: []\n"
       ]
      },
      {
       "output_type": "stream",
       "stream": "stderr",
       "text": [
        "WARNING:sarpy.io.Adata_classes:Could not load AData\n"
       ]
      },
      {
       "output_type": "stream",
       "stream": "stderr",
       "text": [
        "WARNING:sarpy.io.Adata_classes:Need precisely one parameter file *json, found: []\n"
       ]
      },
      {
       "output_type": "stream",
       "stream": "stderr",
       "text": [
        "WARNING:sarpy.io.Adata_classes:Could not load AData\n"
       ]
      },
      {
       "output_type": "stream",
       "stream": "stderr",
       "text": [
        "WARNING:sarpy.io.Adata_classes:Need precisely one parameter file *json, found: []\n"
       ]
      },
      {
       "output_type": "stream",
       "stream": "stderr",
       "text": [
        "WARNING:sarpy.io.Adata_classes:Could not load AData\n"
       ]
      },
      {
       "output_type": "stream",
       "stream": "stderr",
       "text": [
        "WARNING:sarpy.io.Adata_classes:Need precisely one parameter file *json, found: []\n"
       ]
      },
      {
       "output_type": "stream",
       "stream": "stderr",
       "text": [
        "WARNING:sarpy.io.Adata_classes:Could not load AData\n"
       ]
      },
      {
       "output_type": "stream",
       "stream": "stderr",
       "text": [
        "WARNING:sarpy.io.Adata_classes:Need precisely one parameter file *json, found: []\n"
       ]
      },
      {
       "output_type": "stream",
       "stream": "stderr",
       "text": [
        "WARNING:sarpy.io.Adata_classes:Could not load AData\n"
       ]
      },
      {
       "output_type": "stream",
       "stream": "stderr",
       "text": [
        "WARNING:sarpy.io.Adata_classes:Need precisely one parameter file *json, found: []\n"
       ]
      },
      {
       "output_type": "stream",
       "stream": "stderr",
       "text": [
        "WARNING:sarpy.io.Adata_classes:Could not load AData\n"
       ]
      },
      {
       "output_type": "stream",
       "stream": "stderr",
       "text": [
        "WARNING:sarpy.io.Adata_classes:Need precisely one parameter file *json, found: []\n"
       ]
      },
      {
       "output_type": "stream",
       "stream": "stderr",
       "text": [
        "WARNING:sarpy.io.Adata_classes:Could not load AData\n"
       ]
      },
      {
       "output_type": "stream",
       "stream": "stderr",
       "text": [
        "WARNING:sarpy.io.Adata_classes:Need precisely one parameter file *json, found: []\n"
       ]
      },
      {
       "output_type": "stream",
       "stream": "stderr",
       "text": [
        "WARNING:sarpy.io.Adata_classes:Could not load AData\n"
       ]
      },
      {
       "output_type": "stream",
       "stream": "stderr",
       "text": [
        "WARNING:sarpy.io.Adata_classes:Need precisely one parameter file *json, found: []\n"
       ]
      },
      {
       "output_type": "stream",
       "stream": "stderr",
       "text": [
        "WARNING:sarpy.io.Adata_classes:Could not load AData\n"
       ]
      },
      {
       "output_type": "stream",
       "stream": "stderr",
       "text": [
        "WARNING:sarpy.io.Adata_classes:Need precisely one parameter file *json, found: []\n"
       ]
      },
      {
       "output_type": "stream",
       "stream": "stderr",
       "text": [
        "WARNING:sarpy.io.Adata_classes:Could not load AData\n"
       ]
      },
      {
       "output_type": "stream",
       "stream": "stderr",
       "text": [
        "WARNING:sarpy.io.Adata_classes:Need precisely one parameter file *json, found: []\n"
       ]
      },
      {
       "output_type": "stream",
       "stream": "stderr",
       "text": [
        "WARNING:sarpy.io.Adata_classes:Could not load AData\n"
       ]
      },
      {
       "output_type": "stream",
       "stream": "stderr",
       "text": [
        "WARNING:sarpy.io.Adata_classes:Need precisely one parameter file *json, found: []\n"
       ]
      },
      {
       "output_type": "stream",
       "stream": "stderr",
       "text": [
        "WARNING:sarpy.io.Adata_classes:Could not load AData\n"
       ]
      },
      {
       "output_type": "stream",
       "stream": "stderr",
       "text": [
        "WARNING:sarpy.io.Adata_classes:Need precisely one parameter file *json, found: []\n"
       ]
      },
      {
       "output_type": "stream",
       "stream": "stderr",
       "text": [
        "WARNING:sarpy.io.Adata_classes:Could not load AData\n"
       ]
      },
      {
       "output_type": "stream",
       "stream": "stderr",
       "text": [
        "WARNING:sarpy.io.Adata_classes:Need precisely one parameter file *json, found: []\n"
       ]
      },
      {
       "output_type": "stream",
       "stream": "stderr",
       "text": [
        "WARNING:sarpy.io.Adata_classes:Could not load AData\n"
       ]
      },
      {
       "output_type": "stream",
       "stream": "stderr",
       "text": [
        "WARNING:sarpy.io.Adata_classes:Need precisely one parameter file *json, found: []\n"
       ]
      },
      {
       "output_type": "stream",
       "stream": "stderr",
       "text": [
        "WARNING:sarpy.io.Adata_classes:Could not load AData\n"
       ]
      },
      {
       "output_type": "stream",
       "stream": "stderr",
       "text": [
        "WARNING:sarpy.io.Adata_classes:Need precisely one parameter file *json, found: []\n"
       ]
      },
      {
       "output_type": "stream",
       "stream": "stderr",
       "text": [
        "WARNING:sarpy.io.Adata_classes:Could not load AData\n"
       ]
      },
      {
       "output_type": "stream",
       "stream": "stderr",
       "text": [
        "WARNING:sarpy.io.Adata_classes:Need precisely one parameter file *json, found: []\n"
       ]
      },
      {
       "output_type": "stream",
       "stream": "stderr",
       "text": [
        "WARNING:sarpy.io.Adata_classes:Could not load AData\n"
       ]
      },
      {
       "output_type": "stream",
       "stream": "stderr",
       "text": [
        "WARNING:sarpy.io.Adata_classes:Need precisely one parameter file *json, found: []\n"
       ]
      },
      {
       "output_type": "stream",
       "stream": "stderr",
       "text": [
        "WARNING:sarpy.io.Adata_classes:Could not load AData\n"
       ]
      },
      {
       "output_type": "stream",
       "stream": "stderr",
       "text": [
        "WARNING:sarpy.io.Adata_classes:Need precisely one parameter file *json, found: []\n"
       ]
      },
      {
       "output_type": "stream",
       "stream": "stderr",
       "text": [
        "WARNING:sarpy.io.Adata_classes:Could not load AData\n"
       ]
      },
      {
       "output_type": "stream",
       "stream": "stderr",
       "text": [
        "WARNING:sarpy.io.Adata_classes:Need precisely one parameter file *json, found: []\n"
       ]
      },
      {
       "output_type": "stream",
       "stream": "stderr",
       "text": [
        "WARNING:sarpy.io.Adata_classes:Could not load AData\n"
       ]
      },
      {
       "output_type": "stream",
       "stream": "stderr",
       "text": [
        "WARNING:sarpy.io.Adata_classes:Need precisely one parameter file *json, found: []\n"
       ]
      },
      {
       "output_type": "stream",
       "stream": "stderr",
       "text": [
        "WARNING:sarpy.io.Adata_classes:Could not load AData\n"
       ]
      },
      {
       "output_type": "stream",
       "stream": "stderr",
       "text": [
        "WARNING:sarpy.io.Adata_classes:Need precisely one parameter file *json, found: []\n"
       ]
      },
      {
       "output_type": "stream",
       "stream": "stderr",
       "text": [
        "WARNING:sarpy.io.Adata_classes:Could not load AData\n"
       ]
      },
      {
       "output_type": "stream",
       "stream": "stderr",
       "text": [
        "WARNING:sarpy.io.Adata_classes:Need precisely one parameter file *json, found: []\n"
       ]
      },
      {
       "output_type": "stream",
       "stream": "stderr",
       "text": [
        "WARNING:sarpy.io.Adata_classes:Could not load AData\n"
       ]
      },
      {
       "output_type": "stream",
       "stream": "stderr",
       "text": [
        "WARNING:sarpy.io.Adata_classes:Need precisely one parameter file *json, found: []\n"
       ]
      },
      {
       "output_type": "stream",
       "stream": "stderr",
       "text": [
        "WARNING:sarpy.io.Adata_classes:Could not load AData\n"
       ]
      },
      {
       "output_type": "stream",
       "stream": "stderr",
       "text": [
        "WARNING:sarpy.io.Adata_classes:Need precisely one parameter file *json, found: []\n"
       ]
      },
      {
       "output_type": "stream",
       "stream": "stderr",
       "text": [
        "WARNING:sarpy.io.Adata_classes:Could not load AData\n"
       ]
      },
      {
       "output_type": "stream",
       "stream": "stderr",
       "text": [
        "WARNING:sarpy.io.Adata_classes:Need precisely one parameter file *json, found: []\n"
       ]
      },
      {
       "output_type": "stream",
       "stream": "stderr",
       "text": [
        "WARNING:sarpy.io.Adata_classes:Could not load AData\n"
       ]
      },
      {
       "output_type": "stream",
       "stream": "stderr",
       "text": [
        "WARNING:sarpy.io.Adata_classes:Need precisely one parameter file *json, found: []\n"
       ]
      },
      {
       "output_type": "stream",
       "stream": "stderr",
       "text": [
        "WARNING:sarpy.io.Adata_classes:Could not load AData\n"
       ]
      },
      {
       "output_type": "stream",
       "stream": "stderr",
       "text": [
        "WARNING:sarpy.io.Adata_classes:Need precisely one parameter file *json, found: []\n"
       ]
      },
      {
       "output_type": "stream",
       "stream": "stderr",
       "text": [
        "WARNING:sarpy.io.Adata_classes:Could not load AData\n"
       ]
      },
      {
       "output_type": "stream",
       "stream": "stderr",
       "text": [
        "WARNING:sarpy.io.Adata_classes:Need precisely one parameter file *json, found: []\n"
       ]
      },
      {
       "output_type": "stream",
       "stream": "stderr",
       "text": [
        "WARNING:sarpy.io.Adata_classes:Could not load AData\n"
       ]
      },
      {
       "output_type": "stream",
       "stream": "stderr",
       "text": [
        "WARNING:sarpy.io.Adata_classes:Need precisely one parameter file *json, found: []\n"
       ]
      },
      {
       "output_type": "stream",
       "stream": "stderr",
       "text": [
        "WARNING:sarpy.io.Adata_classes:Could not load AData\n"
       ]
      },
      {
       "output_type": "stream",
       "stream": "stderr",
       "text": [
        "WARNING:sarpy.io.Adata_classes:Need precisely one parameter file *json, found: []\n"
       ]
      },
      {
       "output_type": "stream",
       "stream": "stderr",
       "text": [
        "WARNING:sarpy.io.Adata_classes:Could not load AData\n"
       ]
      },
      {
       "output_type": "stream",
       "stream": "stderr",
       "text": [
        "WARNING:sarpy.io.Adata_classes:Need precisely one parameter file *json, found: []\n"
       ]
      },
      {
       "output_type": "stream",
       "stream": "stderr",
       "text": [
        "WARNING:sarpy.io.Adata_classes:Could not load AData\n"
       ]
      },
      {
       "output_type": "stream",
       "stream": "stderr",
       "text": [
        "WARNING:sarpy.io.Adata_classes:Need precisely one parameter file *json, found: []\n"
       ]
      },
      {
       "output_type": "stream",
       "stream": "stderr",
       "text": [
        "WARNING:sarpy.io.Adata_classes:Could not load AData\n"
       ]
      },
      {
       "output_type": "stream",
       "stream": "stderr",
       "text": [
        "WARNING:sarpy.io.Adata_classes:Need precisely one parameter file *json, found: []\n"
       ]
      },
      {
       "output_type": "stream",
       "stream": "stderr",
       "text": [
        "WARNING:sarpy.io.Adata_classes:Could not load AData\n"
       ]
      },
      {
       "output_type": "stream",
       "stream": "stderr",
       "text": [
        "WARNING:sarpy.io.Adata_classes:Need precisely one parameter file *json, found: []\n"
       ]
      },
      {
       "output_type": "stream",
       "stream": "stderr",
       "text": [
        "WARNING:sarpy.io.Adata_classes:Could not load AData\n"
       ]
      },
      {
       "output_type": "stream",
       "stream": "stderr",
       "text": [
        "WARNING:sarpy.io.Adata_classes:Need precisely one parameter file *json, found: []\n"
       ]
      },
      {
       "output_type": "stream",
       "stream": "stderr",
       "text": [
        "WARNING:sarpy.io.Adata_classes:Could not load AData\n"
       ]
      },
      {
       "output_type": "stream",
       "stream": "stderr",
       "text": [
        "WARNING:sarpy.io.Adata_classes:Need precisely one parameter file *json, found: []\n"
       ]
      },
      {
       "output_type": "stream",
       "stream": "stderr",
       "text": [
        "WARNING:sarpy.io.Adata_classes:Could not load AData\n"
       ]
      },
      {
       "output_type": "stream",
       "stream": "stderr",
       "text": [
        "WARNING:sarpy.io.Adata_classes:Need precisely one parameter file *json, found: []\n"
       ]
      },
      {
       "output_type": "stream",
       "stream": "stderr",
       "text": [
        "WARNING:sarpy.io.Adata_classes:Could not load AData\n"
       ]
      },
      {
       "output_type": "stream",
       "stream": "stderr",
       "text": [
        "WARNING:sarpy.io.Adata_classes:Need precisely one parameter file *json, found: []\n"
       ]
      },
      {
       "output_type": "stream",
       "stream": "stderr",
       "text": [
        "WARNING:sarpy.io.Adata_classes:Could not load AData\n"
       ]
      },
      {
       "output_type": "stream",
       "stream": "stderr",
       "text": [
        "WARNING:sarpy.io.Adata_classes:Need precisely one parameter file *json, found: []\n"
       ]
      },
      {
       "output_type": "stream",
       "stream": "stderr",
       "text": [
        "WARNING:sarpy.io.Adata_classes:Could not load AData\n"
       ]
      },
      {
       "output_type": "stream",
       "stream": "stderr",
       "text": [
        "WARNING:sarpy.io.Adata_classes:Need precisely one parameter file *json, found: []\n"
       ]
      },
      {
       "output_type": "stream",
       "stream": "stderr",
       "text": [
        "WARNING:sarpy.io.Adata_classes:Could not load AData\n"
       ]
      },
      {
       "output_type": "stream",
       "stream": "stderr",
       "text": [
        "WARNING:sarpy.io.Adata_classes:Need precisely one parameter file *json, found: []\n"
       ]
      },
      {
       "output_type": "stream",
       "stream": "stderr",
       "text": [
        "WARNING:sarpy.io.Adata_classes:Could not load AData\n"
       ]
      },
      {
       "output_type": "stream",
       "stream": "stderr",
       "text": [
        "WARNING:sarpy.io.Adata_classes:Need precisely one parameter file *json, found: []\n"
       ]
      },
      {
       "output_type": "stream",
       "stream": "stderr",
       "text": [
        "WARNING:sarpy.io.Adata_classes:Could not load AData\n"
       ]
      },
      {
       "output_type": "stream",
       "stream": "stderr",
       "text": [
        "WARNING:sarpy.io.Adata_classes:Need precisely one parameter file *json, found: []\n"
       ]
      },
      {
       "output_type": "stream",
       "stream": "stderr",
       "text": [
        "WARNING:sarpy.io.Adata_classes:Could not load AData\n"
       ]
      },
      {
       "output_type": "stream",
       "stream": "stderr",
       "text": [
        "WARNING:sarpy.io.Adata_classes:Need precisely one parameter file *json, found: []\n"
       ]
      },
      {
       "output_type": "stream",
       "stream": "stderr",
       "text": [
        "WARNING:sarpy.io.Adata_classes:Could not load AData\n"
       ]
      },
      {
       "output_type": "stream",
       "stream": "stderr",
       "text": [
        "WARNING:sarpy.io.Adata_classes:Need precisely one parameter file *json, found: []\n"
       ]
      },
      {
       "output_type": "stream",
       "stream": "stderr",
       "text": [
        "WARNING:sarpy.io.Adata_classes:Could not load AData\n"
       ]
      },
      {
       "output_type": "stream",
       "stream": "stderr",
       "text": [
        "WARNING:sarpy.io.Adata_classes:Need precisely one parameter file *json, found: []\n"
       ]
      },
      {
       "output_type": "stream",
       "stream": "stderr",
       "text": [
        "WARNING:sarpy.io.Adata_classes:Could not load AData\n"
       ]
      },
      {
       "output_type": "stream",
       "stream": "stderr",
       "text": [
        "WARNING:sarpy.io.Adata_classes:Need precisely one parameter file *json, found: []\n"
       ]
      },
      {
       "output_type": "stream",
       "stream": "stderr",
       "text": [
        "WARNING:sarpy.io.Adata_classes:Could not load AData\n"
       ]
      },
      {
       "output_type": "stream",
       "stream": "stderr",
       "text": [
        "WARNING:sarpy.io.Adata_classes:Need precisely one parameter file *json, found: []\n"
       ]
      },
      {
       "output_type": "stream",
       "stream": "stderr",
       "text": [
        "WARNING:sarpy.io.Adata_classes:Could not load AData\n"
       ]
      },
      {
       "output_type": "stream",
       "stream": "stderr",
       "text": [
        "WARNING:sarpy.io.Adata_classes:Need precisely one parameter file *json, found: []\n"
       ]
      },
      {
       "output_type": "stream",
       "stream": "stderr",
       "text": [
        "WARNING:sarpy.io.Adata_classes:Could not load AData\n"
       ]
      },
      {
       "output_type": "stream",
       "stream": "stderr",
       "text": [
        "WARNING:sarpy.io.Adata_classes:Need precisely one parameter file *json, found: []\n"
       ]
      },
      {
       "output_type": "stream",
       "stream": "stderr",
       "text": [
        "WARNING:sarpy.io.Adata_classes:Could not load AData\n"
       ]
      },
      {
       "output_type": "stream",
       "stream": "stderr",
       "text": [
        "WARNING:sarpy.io.Adata_classes:Need precisely one parameter file *json, found: []\n"
       ]
      },
      {
       "output_type": "stream",
       "stream": "stderr",
       "text": [
        "WARNING:sarpy.io.Adata_classes:Could not load AData\n"
       ]
      },
      {
       "output_type": "stream",
       "stream": "stderr",
       "text": [
        "WARNING:sarpy.io.Adata_classes:Need precisely one parameter file *json, found: []\n"
       ]
      },
      {
       "output_type": "stream",
       "stream": "stderr",
       "text": [
        "WARNING:sarpy.io.Adata_classes:Could not load AData\n"
       ]
      },
      {
       "output_type": "stream",
       "stream": "stderr",
       "text": [
        "WARNING:sarpy.io.Adata_classes:Need precisely one parameter file *json, found: []\n"
       ]
      },
      {
       "output_type": "stream",
       "stream": "stderr",
       "text": [
        "WARNING:sarpy.io.Adata_classes:Could not load AData\n"
       ]
      },
      {
       "output_type": "stream",
       "stream": "stderr",
       "text": [
        "WARNING:sarpy.io.Adata_classes:Need precisely one parameter file *json, found: []\n"
       ]
      },
      {
       "output_type": "stream",
       "stream": "stderr",
       "text": [
        "WARNING:sarpy.io.Adata_classes:Could not load AData\n"
       ]
      },
      {
       "output_type": "stream",
       "stream": "stderr",
       "text": [
        "WARNING:sarpy.io.Adata_classes:Need precisely one parameter file *json, found: []\n"
       ]
      },
      {
       "output_type": "stream",
       "stream": "stderr",
       "text": [
        "WARNING:sarpy.io.Adata_classes:Could not load AData\n"
       ]
      },
      {
       "output_type": "stream",
       "stream": "stderr",
       "text": [
        "WARNING:sarpy.io.Adata_classes:Need precisely one parameter file *json, found: []\n"
       ]
      },
      {
       "output_type": "stream",
       "stream": "stderr",
       "text": [
        "WARNING:sarpy.io.Adata_classes:Could not load AData\n"
       ]
      },
      {
       "output_type": "stream",
       "stream": "stderr",
       "text": [
        "WARNING:sarpy.io.Adata_classes:Need precisely one parameter file *json, found: []\n"
       ]
      },
      {
       "output_type": "stream",
       "stream": "stderr",
       "text": [
        "WARNING:sarpy.io.Adata_classes:Could not load AData\n"
       ]
      },
      {
       "output_type": "stream",
       "stream": "stderr",
       "text": [
        "WARNING:sarpy.io.Adata_classes:Need precisely one parameter file *json, found: []\n"
       ]
      },
      {
       "output_type": "stream",
       "stream": "stderr",
       "text": [
        "WARNING:sarpy.io.Adata_classes:Could not load AData\n"
       ]
      },
      {
       "output_type": "stream",
       "stream": "stderr",
       "text": [
        "WARNING:sarpy.io.Adata_classes:Need precisely one parameter file *json, found: []\n"
       ]
      },
      {
       "output_type": "stream",
       "stream": "stderr",
       "text": [
        "WARNING:sarpy.io.Adata_classes:Could not load AData\n"
       ]
      },
      {
       "output_type": "stream",
       "stream": "stderr",
       "text": [
        "WARNING:sarpy.io.Adata_classes:Need precisely one parameter file *json, found: []\n"
       ]
      },
      {
       "output_type": "stream",
       "stream": "stderr",
       "text": [
        "WARNING:sarpy.io.Adata_classes:Could not load AData\n"
       ]
      },
      {
       "output_type": "stream",
       "stream": "stderr",
       "text": [
        "WARNING:sarpy.io.Adata_classes:Need precisely one parameter file *json, found: []\n"
       ]
      },
      {
       "output_type": "stream",
       "stream": "stderr",
       "text": [
        "WARNING:sarpy.io.Adata_classes:Could not load AData\n"
       ]
      },
      {
       "output_type": "stream",
       "stream": "stderr",
       "text": [
        "WARNING:sarpy.io.Adata_classes:Need precisely one parameter file *json, found: []\n"
       ]
      },
      {
       "output_type": "stream",
       "stream": "stderr",
       "text": [
        "WARNING:sarpy.io.Adata_classes:Could not load AData\n"
       ]
      },
      {
       "output_type": "stream",
       "stream": "stderr",
       "text": [
        "WARNING:sarpy.io.Adata_classes:Need precisely one parameter file *json, found: []\n"
       ]
      },
      {
       "output_type": "stream",
       "stream": "stderr",
       "text": [
        "WARNING:sarpy.io.Adata_classes:Could not load AData\n"
       ]
      },
      {
       "output_type": "stream",
       "stream": "stderr",
       "text": [
        "WARNING:sarpy.io.Adata_classes:Need precisely one parameter file *json, found: []\n"
       ]
      },
      {
       "output_type": "stream",
       "stream": "stderr",
       "text": [
        "WARNING:sarpy.io.Adata_classes:Could not load AData\n"
       ]
      },
      {
       "output_type": "stream",
       "stream": "stderr",
       "text": [
        "WARNING:sarpy.io.Adata_classes:Need precisely one parameter file *json, found: []\n"
       ]
      },
      {
       "output_type": "stream",
       "stream": "stderr",
       "text": [
        "WARNING:sarpy.io.Adata_classes:Could not load AData\n"
       ]
      },
      {
       "output_type": "stream",
       "stream": "stderr",
       "text": [
        "WARNING:sarpy.io.Adata_classes:Need precisely one parameter file *json, found: []\n"
       ]
      },
      {
       "output_type": "stream",
       "stream": "stderr",
       "text": [
        "WARNING:sarpy.io.Adata_classes:Could not load AData\n"
       ]
      },
      {
       "output_type": "stream",
       "stream": "stderr",
       "text": [
        "WARNING:sarpy.io.Adata_classes:Need precisely one parameter file *json, found: []\n"
       ]
      },
      {
       "output_type": "stream",
       "stream": "stderr",
       "text": [
        "WARNING:sarpy.io.Adata_classes:Could not load AData\n"
       ]
      },
      {
       "output_type": "stream",
       "stream": "stderr",
       "text": [
        "WARNING:sarpy.io.Adata_classes:Need precisely one parameter file *json, found: []\n"
       ]
      },
      {
       "output_type": "stream",
       "stream": "stderr",
       "text": [
        "WARNING:sarpy.io.Adata_classes:Could not load AData\n"
       ]
      },
      {
       "output_type": "stream",
       "stream": "stderr",
       "text": [
        "WARNING:sarpy.io.Adata_classes:Need precisely one parameter file *json, found: []\n"
       ]
      },
      {
       "output_type": "stream",
       "stream": "stderr",
       "text": [
        "WARNING:sarpy.io.Adata_classes:Could not load AData\n"
       ]
      },
      {
       "output_type": "stream",
       "stream": "stderr",
       "text": [
        "WARNING:sarpy.io.Adata_classes:Need precisely one parameter file *json, found: []\n"
       ]
      },
      {
       "output_type": "stream",
       "stream": "stderr",
       "text": [
        "WARNING:sarpy.io.Adata_classes:Could not load AData\n"
       ]
      },
      {
       "output_type": "stream",
       "stream": "stderr",
       "text": [
        "WARNING:sarpy.io.Adata_classes:Need precisely one parameter file *json, found: []\n"
       ]
      },
      {
       "output_type": "stream",
       "stream": "stderr",
       "text": [
        "WARNING:sarpy.io.Adata_classes:Could not load AData\n"
       ]
      },
      {
       "output_type": "stream",
       "stream": "stderr",
       "text": [
        "WARNING:sarpy.io.Adata_classes:Need precisely one parameter file *json, found: []\n"
       ]
      },
      {
       "output_type": "stream",
       "stream": "stderr",
       "text": [
        "WARNING:sarpy.io.Adata_classes:Could not load AData\n"
       ]
      },
      {
       "output_type": "stream",
       "stream": "stderr",
       "text": [
        "WARNING:sarpy.io.Adata_classes:Need precisely one parameter file *json, found: []\n"
       ]
      },
      {
       "output_type": "stream",
       "stream": "stderr",
       "text": [
        "WARNING:sarpy.io.Adata_classes:Could not load AData\n"
       ]
      },
      {
       "output_type": "stream",
       "stream": "stderr",
       "text": [
        "WARNING:sarpy.io.Adata_classes:Need precisely one parameter file *json, found: []\n"
       ]
      },
      {
       "output_type": "stream",
       "stream": "stderr",
       "text": [
        "WARNING:sarpy.io.Adata_classes:Could not load AData\n"
       ]
      },
      {
       "output_type": "stream",
       "stream": "stderr",
       "text": [
        "WARNING:sarpy.io.Adata_classes:Need precisely one parameter file *json, found: []\n"
       ]
      },
      {
       "output_type": "stream",
       "stream": "stderr",
       "text": [
        "WARNING:sarpy.io.Adata_classes:Could not load AData\n"
       ]
      },
      {
       "output_type": "stream",
       "stream": "stderr",
       "text": [
        "WARNING:sarpy.io.Adata_classes:Need precisely one parameter file *json, found: []\n"
       ]
      },
      {
       "output_type": "stream",
       "stream": "stderr",
       "text": [
        "WARNING:sarpy.io.Adata_classes:Could not load AData\n"
       ]
      },
      {
       "output_type": "stream",
       "stream": "stderr",
       "text": [
        "WARNING:sarpy.io.Adata_classes:Need precisely one parameter file *json, found: []\n"
       ]
      },
      {
       "output_type": "stream",
       "stream": "stderr",
       "text": [
        "WARNING:sarpy.io.Adata_classes:Could not load AData\n"
       ]
      },
      {
       "output_type": "stream",
       "stream": "stderr",
       "text": [
        "WARNING:sarpy.io.Adata_classes:Need precisely one parameter file *json, found: []\n"
       ]
      },
      {
       "output_type": "stream",
       "stream": "stderr",
       "text": [
        "WARNING:sarpy.io.Adata_classes:Could not load AData\n"
       ]
      },
      {
       "output_type": "stream",
       "stream": "stderr",
       "text": [
        "WARNING:sarpy.io.Adata_classes:Need precisely one parameter file *json, found: []\n"
       ]
      },
      {
       "output_type": "stream",
       "stream": "stderr",
       "text": [
        "WARNING:sarpy.io.Adata_classes:Could not load AData\n"
       ]
      },
      {
       "output_type": "stream",
       "stream": "stderr",
       "text": [
        "WARNING:sarpy.io.Adata_classes:Need precisely one parameter file *json, found: []\n"
       ]
      },
      {
       "output_type": "stream",
       "stream": "stderr",
       "text": [
        "WARNING:sarpy.io.Adata_classes:Could not load AData\n"
       ]
      },
      {
       "output_type": "stream",
       "stream": "stderr",
       "text": [
        "WARNING:sarpy.io.Adata_classes:Need precisely one parameter file *json, found: []\n"
       ]
      },
      {
       "output_type": "stream",
       "stream": "stderr",
       "text": [
        "WARNING:sarpy.io.Adata_classes:Could not load AData\n"
       ]
      },
      {
       "output_type": "stream",
       "stream": "stderr",
       "text": [
        "WARNING:sarpy.io.Adata_classes:Need precisely one parameter file *json, found: []\n"
       ]
      },
      {
       "output_type": "stream",
       "stream": "stderr",
       "text": [
        "WARNING:sarpy.io.Adata_classes:Could not load AData\n"
       ]
      },
      {
       "output_type": "stream",
       "stream": "stderr",
       "text": [
        "WARNING:sarpy.io.Adata_classes:Need precisely one parameter file *json, found: []\n"
       ]
      },
      {
       "output_type": "stream",
       "stream": "stderr",
       "text": [
        "WARNING:sarpy.io.Adata_classes:Could not load AData\n"
       ]
      },
      {
       "output_type": "stream",
       "stream": "stderr",
       "text": [
        "WARNING:sarpy.io.Adata_classes:Need precisely one parameter file *json, found: []\n"
       ]
      },
      {
       "output_type": "stream",
       "stream": "stderr",
       "text": [
        "WARNING:sarpy.io.Adata_classes:Could not load AData\n"
       ]
      },
      {
       "output_type": "stream",
       "stream": "stderr",
       "text": [
        "WARNING:sarpy.io.Adata_classes:Need precisely one parameter file *json, found: []\n"
       ]
      },
      {
       "output_type": "stream",
       "stream": "stderr",
       "text": [
        "WARNING:sarpy.io.Adata_classes:Could not load AData\n"
       ]
      },
      {
       "output_type": "stream",
       "stream": "stderr",
       "text": [
        "WARNING:sarpy.io.Adata_classes:Need precisely one parameter file *json, found: []\n"
       ]
      },
      {
       "output_type": "stream",
       "stream": "stderr",
       "text": [
        "WARNING:sarpy.io.Adata_classes:Could not load AData\n"
       ]
      },
      {
       "output_type": "stream",
       "stream": "stderr",
       "text": [
        "WARNING:sarpy.io.Adata_classes:Need precisely one parameter file *json, found: []\n"
       ]
      },
      {
       "output_type": "stream",
       "stream": "stderr",
       "text": [
        "WARNING:sarpy.io.Adata_classes:Could not load AData\n"
       ]
      },
      {
       "output_type": "stream",
       "stream": "stderr",
       "text": [
        "WARNING:sarpy.io.Adata_classes:Need precisely one parameter file *json, found: []\n"
       ]
      },
      {
       "output_type": "stream",
       "stream": "stderr",
       "text": [
        "WARNING:sarpy.io.Adata_classes:Could not load AData\n"
       ]
      },
      {
       "output_type": "stream",
       "stream": "stderr",
       "text": [
        "WARNING:sarpy.io.Adata_classes:Need precisely one parameter file *json, found: []\n"
       ]
      },
      {
       "output_type": "stream",
       "stream": "stderr",
       "text": [
        "WARNING:sarpy.io.Adata_classes:Could not load AData\n"
       ]
      },
      {
       "output_type": "stream",
       "stream": "stderr",
       "text": [
        "WARNING:sarpy.io.Adata_classes:Need precisely one parameter file *json, found: []\n"
       ]
      },
      {
       "output_type": "stream",
       "stream": "stderr",
       "text": [
        "WARNING:sarpy.io.Adata_classes:Could not load AData\n"
       ]
      },
      {
       "output_type": "stream",
       "stream": "stderr",
       "text": [
        "WARNING:sarpy.io.Adata_classes:Need precisely one parameter file *json, found: []\n"
       ]
      },
      {
       "output_type": "stream",
       "stream": "stderr",
       "text": [
        "WARNING:sarpy.io.Adata_classes:Could not load AData\n"
       ]
      },
      {
       "output_type": "stream",
       "stream": "stderr",
       "text": [
        "WARNING:sarpy.io.Adata_classes:Need precisely one parameter file *json, found: []\n"
       ]
      },
      {
       "output_type": "stream",
       "stream": "stderr",
       "text": [
        "WARNING:sarpy.io.Adata_classes:Could not load AData\n"
       ]
      },
      {
       "output_type": "stream",
       "stream": "stderr",
       "text": [
        "WARNING:sarpy.io.Adata_classes:Need precisely one parameter file *json, found: []\n"
       ]
      },
      {
       "output_type": "stream",
       "stream": "stderr",
       "text": [
        "WARNING:sarpy.io.Adata_classes:Could not load AData\n"
       ]
      },
      {
       "output_type": "stream",
       "stream": "stderr",
       "text": [
        "WARNING:sarpy.io.Adata_classes:Need precisely one parameter file *json, found: []\n"
       ]
      },
      {
       "output_type": "stream",
       "stream": "stderr",
       "text": [
        "WARNING:sarpy.io.Adata_classes:Could not load AData\n"
       ]
      },
      {
       "output_type": "stream",
       "stream": "stderr",
       "text": [
        "WARNING:sarpy.io.Adata_classes:Need precisely one parameter file *json, found: []\n"
       ]
      },
      {
       "output_type": "stream",
       "stream": "stderr",
       "text": [
        "WARNING:sarpy.io.Adata_classes:Could not load AData\n"
       ]
      },
      {
       "output_type": "stream",
       "stream": "stderr",
       "text": [
        "WARNING:sarpy.io.Adata_classes:Need precisely one parameter file *json, found: []\n"
       ]
      },
      {
       "output_type": "stream",
       "stream": "stderr",
       "text": [
        "WARNING:sarpy.io.Adata_classes:Could not load AData\n"
       ]
      },
      {
       "output_type": "stream",
       "stream": "stderr",
       "text": [
        "WARNING:sarpy.io.Adata_classes:Need precisely one parameter file *json, found: []\n"
       ]
      },
      {
       "output_type": "stream",
       "stream": "stderr",
       "text": [
        "WARNING:sarpy.io.Adata_classes:Could not load AData\n"
       ]
      },
      {
       "output_type": "stream",
       "stream": "stderr",
       "text": [
        "WARNING:sarpy.io.Adata_classes:Need precisely one parameter file *json, found: []\n"
       ]
      },
      {
       "output_type": "stream",
       "stream": "stderr",
       "text": [
        "WARNING:sarpy.io.Adata_classes:Could not load AData\n"
       ]
      },
      {
       "output_type": "stream",
       "stream": "stderr",
       "text": [
        "WARNING:sarpy.io.Adata_classes:Need precisely one parameter file *json, found: []\n"
       ]
      },
      {
       "output_type": "stream",
       "stream": "stderr",
       "text": [
        "WARNING:sarpy.io.Adata_classes:Could not load AData\n"
       ]
      },
      {
       "output_type": "stream",
       "stream": "stderr",
       "text": [
        "WARNING:sarpy.io.Adata_classes:Need precisely one parameter file *json, found: []\n"
       ]
      },
      {
       "output_type": "stream",
       "stream": "stderr",
       "text": [
        "WARNING:sarpy.io.Adata_classes:Could not load AData\n"
       ]
      },
      {
       "output_type": "stream",
       "stream": "stderr",
       "text": [
        "WARNING:sarpy.io.Adata_classes:Need precisely one parameter file *json, found: []\n"
       ]
      },
      {
       "output_type": "stream",
       "stream": "stderr",
       "text": [
        "WARNING:sarpy.io.Adata_classes:Could not load AData\n"
       ]
      },
      {
       "output_type": "stream",
       "stream": "stderr",
       "text": [
        "WARNING:sarpy.io.Adata_classes:Need precisely one parameter file *json, found: []\n"
       ]
      },
      {
       "output_type": "stream",
       "stream": "stderr",
       "text": [
        "WARNING:sarpy.io.Adata_classes:Could not load AData\n"
       ]
      },
      {
       "output_type": "stream",
       "stream": "stderr",
       "text": [
        "WARNING:sarpy.io.Adata_classes:Need precisely one parameter file *json, found: []\n"
       ]
      },
      {
       "output_type": "stream",
       "stream": "stderr",
       "text": [
        "WARNING:sarpy.io.Adata_classes:Could not load AData\n"
       ]
      },
      {
       "output_type": "stream",
       "stream": "stderr",
       "text": [
        "WARNING:sarpy.io.Adata_classes:Need precisely one parameter file *json, found: []\n"
       ]
      },
      {
       "output_type": "stream",
       "stream": "stderr",
       "text": [
        "WARNING:sarpy.io.Adata_classes:Could not load AData\n"
       ]
      },
      {
       "output_type": "stream",
       "stream": "stderr",
       "text": [
        "WARNING:sarpy.io.Adata_classes:Need precisely one parameter file *json, found: []\n"
       ]
      },
      {
       "output_type": "stream",
       "stream": "stderr",
       "text": [
        "WARNING:sarpy.io.Adata_classes:Could not load AData\n"
       ]
      },
      {
       "output_type": "stream",
       "stream": "stderr",
       "text": [
        "WARNING:sarpy.io.Adata_classes:Need precisely one parameter file *json, found: []\n"
       ]
      },
      {
       "output_type": "stream",
       "stream": "stderr",
       "text": [
        "WARNING:sarpy.io.Adata_classes:Could not load AData\n"
       ]
      },
      {
       "output_type": "stream",
       "stream": "stderr",
       "text": [
        "WARNING:sarpy.io.Adata_classes:Need precisely one parameter file *json, found: []\n"
       ]
      },
      {
       "output_type": "stream",
       "stream": "stderr",
       "text": [
        "WARNING:sarpy.io.Adata_classes:Could not load AData\n"
       ]
      },
      {
       "output_type": "stream",
       "stream": "stderr",
       "text": [
        "WARNING:sarpy.io.Adata_classes:Need precisely one parameter file *json, found: []\n"
       ]
      },
      {
       "output_type": "stream",
       "stream": "stderr",
       "text": [
        "WARNING:sarpy.io.Adata_classes:Could not load AData\n"
       ]
      },
      {
       "output_type": "stream",
       "stream": "stderr",
       "text": [
        "WARNING:sarpy.io.Adata_classes:Need precisely one parameter file *json, found: []\n"
       ]
      },
      {
       "output_type": "stream",
       "stream": "stderr",
       "text": [
        "WARNING:sarpy.io.Adata_classes:Could not load AData\n"
       ]
      },
      {
       "output_type": "stream",
       "stream": "stderr",
       "text": [
        "WARNING:sarpy.io.Adata_classes:Need precisely one parameter file *json, found: []\n"
       ]
      },
      {
       "output_type": "stream",
       "stream": "stderr",
       "text": [
        "WARNING:sarpy.io.Adata_classes:Could not load AData\n"
       ]
      },
      {
       "output_type": "stream",
       "stream": "stderr",
       "text": [
        "WARNING:sarpy.io.Adata_classes:Need precisely one parameter file *json, found: []\n"
       ]
      },
      {
       "output_type": "stream",
       "stream": "stderr",
       "text": [
        "WARNING:sarpy.io.Adata_classes:Could not load AData\n"
       ]
      },
      {
       "output_type": "stream",
       "stream": "stderr",
       "text": [
        "WARNING:sarpy.io.Adata_classes:Need precisely one parameter file *json, found: []\n"
       ]
      },
      {
       "output_type": "stream",
       "stream": "stderr",
       "text": [
        "WARNING:sarpy.io.Adata_classes:Could not load AData\n"
       ]
      },
      {
       "output_type": "stream",
       "stream": "stderr",
       "text": [
        "WARNING:sarpy.io.Adata_classes:Need precisely one parameter file *json, found: []\n"
       ]
      },
      {
       "output_type": "stream",
       "stream": "stderr",
       "text": [
        "WARNING:sarpy.io.Adata_classes:Could not load AData\n"
       ]
      },
      {
       "output_type": "stream",
       "stream": "stderr",
       "text": [
        "WARNING:sarpy.io.Adata_classes:Need precisely one parameter file *json, found: []\n"
       ]
      },
      {
       "output_type": "stream",
       "stream": "stderr",
       "text": [
        "WARNING:sarpy.io.Adata_classes:Could not load AData\n"
       ]
      },
      {
       "output_type": "stream",
       "stream": "stderr",
       "text": [
        "WARNING:sarpy.io.Adata_classes:Need precisely one parameter file *json, found: []\n"
       ]
      },
      {
       "output_type": "stream",
       "stream": "stderr",
       "text": [
        "WARNING:sarpy.io.Adata_classes:Could not load AData\n"
       ]
      },
      {
       "output_type": "stream",
       "stream": "stderr",
       "text": [
        "WARNING:sarpy.io.Adata_classes:Need precisely one parameter file *json, found: []\n"
       ]
      },
      {
       "output_type": "stream",
       "stream": "stderr",
       "text": [
        "WARNING:sarpy.io.Adata_classes:Could not load AData\n"
       ]
      },
      {
       "output_type": "stream",
       "stream": "stderr",
       "text": [
        "WARNING:sarpy.io.Adata_classes:Need precisely one parameter file *json, found: []\n"
       ]
      },
      {
       "output_type": "stream",
       "stream": "stderr",
       "text": [
        "WARNING:sarpy.io.Adata_classes:Could not load AData\n"
       ]
      },
      {
       "output_type": "stream",
       "stream": "stderr",
       "text": [
        "WARNING:sarpy.io.Adata_classes:Need precisely one parameter file *json, found: []\n"
       ]
      },
      {
       "output_type": "stream",
       "stream": "stderr",
       "text": [
        "WARNING:sarpy.io.Adata_classes:Could not load AData\n"
       ]
      },
      {
       "output_type": "stream",
       "stream": "stderr",
       "text": [
        "WARNING:sarpy.io.Adata_classes:Need precisely one parameter file *json, found: []\n"
       ]
      },
      {
       "output_type": "stream",
       "stream": "stderr",
       "text": [
        "WARNING:sarpy.io.Adata_classes:Could not load AData\n"
       ]
      },
      {
       "output_type": "stream",
       "stream": "stderr",
       "text": [
        "WARNING:sarpy.io.Adata_classes:Need precisely one parameter file *json, found: []\n"
       ]
      },
      {
       "output_type": "stream",
       "stream": "stderr",
       "text": [
        "WARNING:sarpy.io.Adata_classes:Could not load AData\n"
       ]
      },
      {
       "output_type": "stream",
       "stream": "stderr",
       "text": [
        "WARNING:sarpy.io.Adata_classes:Need precisely one parameter file *json, found: []\n"
       ]
      },
      {
       "output_type": "stream",
       "stream": "stderr",
       "text": [
        "WARNING:sarpy.io.Adata_classes:Could not load AData\n"
       ]
      },
      {
       "output_type": "stream",
       "stream": "stderr",
       "text": [
        "WARNING:sarpy.io.Adata_classes:Need precisely one parameter file *json, found: []\n"
       ]
      },
      {
       "output_type": "stream",
       "stream": "stderr",
       "text": [
        "WARNING:sarpy.io.Adata_classes:Could not load AData\n"
       ]
      },
      {
       "output_type": "stream",
       "stream": "stderr",
       "text": [
        "WARNING:sarpy.io.Adata_classes:Need precisely one parameter file *json, found: []\n"
       ]
      },
      {
       "output_type": "stream",
       "stream": "stderr",
       "text": [
        "WARNING:sarpy.io.Adata_classes:Could not load AData\n"
       ]
      },
      {
       "output_type": "stream",
       "stream": "stderr",
       "text": [
        "WARNING:sarpy.io.Adata_classes:Need precisely one parameter file *json, found: []\n"
       ]
      },
      {
       "output_type": "stream",
       "stream": "stderr",
       "text": [
        "WARNING:sarpy.io.Adata_classes:Could not load AData\n"
       ]
      },
      {
       "output_type": "stream",
       "stream": "stderr",
       "text": [
        "WARNING:sarpy.io.Adata_classes:Need precisely one parameter file *json, found: []\n"
       ]
      },
      {
       "output_type": "stream",
       "stream": "stderr",
       "text": [
        "WARNING:sarpy.io.Adata_classes:Could not load AData\n"
       ]
      },
      {
       "output_type": "stream",
       "stream": "stderr",
       "text": [
        "WARNING:sarpy.io.Adata_classes:Need precisely one parameter file *json, found: []\n"
       ]
      },
      {
       "output_type": "stream",
       "stream": "stderr",
       "text": [
        "WARNING:sarpy.io.Adata_classes:Could not load AData\n"
       ]
      },
      {
       "output_type": "stream",
       "stream": "stderr",
       "text": [
        "WARNING:sarpy.io.Adata_classes:Need precisely one parameter file *json, found: []\n"
       ]
      },
      {
       "output_type": "stream",
       "stream": "stderr",
       "text": [
        "WARNING:sarpy.io.Adata_classes:Could not load AData\n"
       ]
      },
      {
       "output_type": "stream",
       "stream": "stderr",
       "text": [
        "WARNING:sarpy.io.Adata_classes:Need precisely one parameter file *json, found: []\n"
       ]
      },
      {
       "output_type": "stream",
       "stream": "stderr",
       "text": [
        "WARNING:sarpy.io.Adata_classes:Could not load AData\n"
       ]
      },
      {
       "output_type": "stream",
       "stream": "stderr",
       "text": [
        "WARNING:sarpy.io.Adata_classes:Need precisely one parameter file *json, found: []\n"
       ]
      },
      {
       "output_type": "stream",
       "stream": "stderr",
       "text": [
        "WARNING:sarpy.io.Adata_classes:Could not load AData\n"
       ]
      },
      {
       "output_type": "stream",
       "stream": "stderr",
       "text": [
        "WARNING:sarpy.io.Adata_classes:Need precisely one parameter file *json, found: []\n"
       ]
      },
      {
       "output_type": "stream",
       "stream": "stderr",
       "text": [
        "WARNING:sarpy.io.Adata_classes:Could not load AData\n"
       ]
      },
      {
       "output_type": "stream",
       "stream": "stderr",
       "text": [
        "WARNING:sarpy.io.Adata_classes:Need precisely one parameter file *json, found: []\n"
       ]
      },
      {
       "output_type": "stream",
       "stream": "stderr",
       "text": [
        "WARNING:sarpy.io.Adata_classes:Could not load AData\n"
       ]
      },
      {
       "output_type": "stream",
       "stream": "stderr",
       "text": [
        "WARNING:sarpy.io.Adata_classes:Need precisely one parameter file *json, found: []\n"
       ]
      },
      {
       "output_type": "stream",
       "stream": "stderr",
       "text": [
        "WARNING:sarpy.io.Adata_classes:Could not load AData\n"
       ]
      },
      {
       "output_type": "stream",
       "stream": "stderr",
       "text": [
        "WARNING:sarpy.io.Adata_classes:Need precisely one parameter file *json, found: []\n"
       ]
      },
      {
       "output_type": "stream",
       "stream": "stderr",
       "text": [
        "WARNING:sarpy.io.Adata_classes:Could not load AData\n"
       ]
      },
      {
       "output_type": "stream",
       "stream": "stderr",
       "text": [
        "WARNING:sarpy.io.Adata_classes:Need precisely one parameter file *json, found: []\n"
       ]
      },
      {
       "output_type": "stream",
       "stream": "stderr",
       "text": [
        "WARNING:sarpy.io.Adata_classes:Could not load AData\n"
       ]
      },
      {
       "output_type": "stream",
       "stream": "stderr",
       "text": [
        "WARNING:sarpy.io.Adata_classes:Need precisely one parameter file *json, found: []\n"
       ]
      },
      {
       "output_type": "stream",
       "stream": "stderr",
       "text": [
        "WARNING:sarpy.io.Adata_classes:Could not load AData\n"
       ]
      },
      {
       "output_type": "stream",
       "stream": "stderr",
       "text": [
        "WARNING:sarpy.io.Adata_classes:Need precisely one parameter file *json, found: []\n"
       ]
      },
      {
       "output_type": "stream",
       "stream": "stderr",
       "text": [
        "WARNING:sarpy.io.Adata_classes:Could not load AData\n"
       ]
      },
      {
       "output_type": "stream",
       "stream": "stderr",
       "text": [
        "WARNING:sarpy.io.Adata_classes:Need precisely one parameter file *json, found: []\n"
       ]
      },
      {
       "output_type": "stream",
       "stream": "stderr",
       "text": [
        "WARNING:sarpy.io.Adata_classes:Could not load AData\n"
       ]
      },
      {
       "output_type": "stream",
       "stream": "stderr",
       "text": [
        "WARNING:sarpy.io.Adata_classes:Need precisely one parameter file *json, found: []\n"
       ]
      },
      {
       "output_type": "stream",
       "stream": "stderr",
       "text": [
        "WARNING:sarpy.io.Adata_classes:Could not load AData\n"
       ]
      },
      {
       "output_type": "stream",
       "stream": "stderr",
       "text": [
        "WARNING:sarpy.io.Adata_classes:Need precisely one parameter file *json, found: []\n"
       ]
      },
      {
       "output_type": "stream",
       "stream": "stderr",
       "text": [
        "WARNING:sarpy.io.Adata_classes:Could not load AData\n"
       ]
      },
      {
       "output_type": "stream",
       "stream": "stderr",
       "text": [
        "WARNING:sarpy.io.Adata_classes:Need precisely one parameter file *json, found: []\n"
       ]
      },
      {
       "output_type": "stream",
       "stream": "stderr",
       "text": [
        "WARNING:sarpy.io.Adata_classes:Could not load AData\n"
       ]
      },
      {
       "output_type": "stream",
       "stream": "stderr",
       "text": [
        "WARNING:sarpy.io.Adata_classes:Need precisely one parameter file *json, found: []\n"
       ]
      },
      {
       "output_type": "stream",
       "stream": "stderr",
       "text": [
        "WARNING:sarpy.io.Adata_classes:Could not load AData\n"
       ]
      },
      {
       "output_type": "stream",
       "stream": "stderr",
       "text": [
        "WARNING:sarpy.io.Adata_classes:Need precisely one parameter file *json, found: []\n"
       ]
      },
      {
       "output_type": "stream",
       "stream": "stderr",
       "text": [
        "WARNING:sarpy.io.Adata_classes:Could not load AData\n"
       ]
      },
      {
       "output_type": "stream",
       "stream": "stderr",
       "text": [
        "WARNING:sarpy.io.Adata_classes:Need precisely one parameter file *json, found: []\n"
       ]
      },
      {
       "output_type": "stream",
       "stream": "stderr",
       "text": [
        "WARNING:sarpy.io.Adata_classes:Could not load AData\n"
       ]
      },
      {
       "output_type": "stream",
       "stream": "stderr",
       "text": [
        "WARNING:sarpy.io.Adata_classes:Need precisely one parameter file *json, found: []\n"
       ]
      },
      {
       "output_type": "stream",
       "stream": "stderr",
       "text": [
        "WARNING:sarpy.io.Adata_classes:Could not load AData\n"
       ]
      },
      {
       "output_type": "stream",
       "stream": "stderr",
       "text": [
        "WARNING:sarpy.io.Adata_classes:Need precisely one parameter file *json, found: []\n"
       ]
      },
      {
       "output_type": "stream",
       "stream": "stderr",
       "text": [
        "WARNING:sarpy.io.Adata_classes:Could not load AData\n"
       ]
      },
      {
       "output_type": "stream",
       "stream": "stderr",
       "text": [
        "WARNING:sarpy.io.Adata_classes:Need precisely one parameter file *json, found: []\n"
       ]
      },
      {
       "output_type": "stream",
       "stream": "stderr",
       "text": [
        "WARNING:sarpy.io.Adata_classes:Could not load AData\n"
       ]
      },
      {
       "output_type": "stream",
       "stream": "stderr",
       "text": [
        "WARNING:sarpy.io.Adata_classes:Need precisely one parameter file *json, found: []\n"
       ]
      },
      {
       "output_type": "stream",
       "stream": "stderr",
       "text": [
        "WARNING:sarpy.io.Adata_classes:Could not load AData\n"
       ]
      },
      {
       "output_type": "stream",
       "stream": "stderr",
       "text": [
        "WARNING:sarpy.io.Adata_classes:Need precisely one parameter file *json, found: []\n"
       ]
      },
      {
       "output_type": "stream",
       "stream": "stderr",
       "text": [
        "WARNING:sarpy.io.Adata_classes:Could not load AData\n"
       ]
      },
      {
       "output_type": "stream",
       "stream": "stderr",
       "text": [
        "WARNING:sarpy.io.Adata_classes:Need precisely one parameter file *json, found: []\n"
       ]
      },
      {
       "output_type": "stream",
       "stream": "stderr",
       "text": [
        "WARNING:sarpy.io.Adata_classes:Could not load AData\n"
       ]
      },
      {
       "output_type": "stream",
       "stream": "stderr",
       "text": [
        "WARNING:sarpy.io.Adata_classes:Need precisely one parameter file *json, found: []\n"
       ]
      },
      {
       "output_type": "stream",
       "stream": "stderr",
       "text": [
        "WARNING:sarpy.io.Adata_classes:Could not load AData\n"
       ]
      },
      {
       "output_type": "stream",
       "stream": "stderr",
       "text": [
        "WARNING:sarpy.io.Adata_classes:Need precisely one parameter file *json, found: []\n"
       ]
      },
      {
       "output_type": "stream",
       "stream": "stderr",
       "text": [
        "WARNING:sarpy.io.Adata_classes:Could not load AData\n"
       ]
      },
      {
       "output_type": "stream",
       "stream": "stderr",
       "text": [
        "WARNING:sarpy.io.Adata_classes:Need precisely one parameter file *json, found: []\n"
       ]
      },
      {
       "output_type": "stream",
       "stream": "stderr",
       "text": [
        "WARNING:sarpy.io.Adata_classes:Could not load AData\n"
       ]
      },
      {
       "output_type": "stream",
       "stream": "stderr",
       "text": [
        "WARNING:sarpy.io.Adata_classes:Need precisely one parameter file *json, found: []\n"
       ]
      },
      {
       "output_type": "stream",
       "stream": "stderr",
       "text": [
        "WARNING:sarpy.io.Adata_classes:Could not load AData\n"
       ]
      },
      {
       "output_type": "stream",
       "stream": "stderr",
       "text": [
        "WARNING:sarpy.io.Adata_classes:Need precisely one parameter file *json, found: []\n"
       ]
      },
      {
       "output_type": "stream",
       "stream": "stderr",
       "text": [
        "WARNING:sarpy.io.Adata_classes:Could not load AData\n"
       ]
      },
      {
       "output_type": "stream",
       "stream": "stderr",
       "text": [
        "WARNING:sarpy.io.Adata_classes:Need precisely one parameter file *json, found: []\n"
       ]
      },
      {
       "output_type": "stream",
       "stream": "stderr",
       "text": [
        "WARNING:sarpy.io.Adata_classes:Could not load AData\n"
       ]
      },
      {
       "output_type": "stream",
       "stream": "stderr",
       "text": [
        "WARNING:sarpy.io.Adata_classes:Need precisely one parameter file *json, found: []\n"
       ]
      },
      {
       "output_type": "stream",
       "stream": "stderr",
       "text": [
        "WARNING:sarpy.io.Adata_classes:Could not load AData\n"
       ]
      },
      {
       "output_type": "stream",
       "stream": "stderr",
       "text": [
        "WARNING:sarpy.io.Adata_classes:Need precisely one parameter file *json, found: []\n"
       ]
      },
      {
       "output_type": "stream",
       "stream": "stderr",
       "text": [
        "WARNING:sarpy.io.Adata_classes:Could not load AData\n"
       ]
      },
      {
       "output_type": "stream",
       "stream": "stderr",
       "text": [
        "WARNING:sarpy.io.Adata_classes:Need precisely one parameter file *json, found: []\n"
       ]
      },
      {
       "output_type": "stream",
       "stream": "stderr",
       "text": [
        "WARNING:sarpy.io.Adata_classes:Could not load AData\n"
       ]
      },
      {
       "output_type": "stream",
       "stream": "stderr",
       "text": [
        "WARNING:sarpy.io.Adata_classes:Need precisely one parameter file *json, found: []\n"
       ]
      },
      {
       "output_type": "stream",
       "stream": "stderr",
       "text": [
        "WARNING:sarpy.io.Adata_classes:Could not load AData\n"
       ]
      },
      {
       "output_type": "stream",
       "stream": "stderr",
       "text": [
        "WARNING:sarpy.io.Adata_classes:Need precisely one parameter file *json, found: []\n"
       ]
      },
      {
       "output_type": "stream",
       "stream": "stderr",
       "text": [
        "WARNING:sarpy.io.Adata_classes:Could not load AData\n"
       ]
      },
      {
       "output_type": "stream",
       "stream": "stderr",
       "text": [
        "WARNING:sarpy.io.Adata_classes:Need precisely one parameter file *json, found: []\n"
       ]
      },
      {
       "output_type": "stream",
       "stream": "stderr",
       "text": [
        "WARNING:sarpy.io.Adata_classes:Could not load AData\n"
       ]
      },
      {
       "output_type": "stream",
       "stream": "stderr",
       "text": [
        "WARNING:sarpy.io.Adata_classes:Need precisely one parameter file *json, found: []\n"
       ]
      },
      {
       "output_type": "stream",
       "stream": "stderr",
       "text": [
        "WARNING:sarpy.io.Adata_classes:Could not load AData\n"
       ]
      },
      {
       "output_type": "stream",
       "stream": "stderr",
       "text": [
        "WARNING:sarpy.io.Adata_classes:Need precisely one parameter file *json, found: []\n"
       ]
      },
      {
       "output_type": "stream",
       "stream": "stderr",
       "text": [
        "WARNING:sarpy.io.Adata_classes:Could not load AData\n"
       ]
      },
      {
       "output_type": "stream",
       "stream": "stderr",
       "text": [
        "WARNING:sarpy.io.Adata_classes:Need precisely one parameter file *json, found: []\n"
       ]
      },
      {
       "output_type": "stream",
       "stream": "stderr",
       "text": [
        "WARNING:sarpy.io.Adata_classes:Could not load AData\n"
       ]
      },
      {
       "output_type": "stream",
       "stream": "stderr",
       "text": [
        "WARNING:sarpy.io.Adata_classes:Need precisely one parameter file *json, found: []\n"
       ]
      },
      {
       "output_type": "stream",
       "stream": "stderr",
       "text": [
        "WARNING:sarpy.io.Adata_classes:Could not load AData\n"
       ]
      },
      {
       "output_type": "stream",
       "stream": "stderr",
       "text": [
        "WARNING:sarpy.io.Adata_classes:Need precisely one parameter file *json, found: []\n"
       ]
      },
      {
       "output_type": "stream",
       "stream": "stderr",
       "text": [
        "WARNING:sarpy.io.Adata_classes:Could not load AData\n"
       ]
      },
      {
       "output_type": "stream",
       "stream": "stderr",
       "text": [
        "WARNING:sarpy.io.Adata_classes:Need precisely one parameter file *json, found: []\n"
       ]
      },
      {
       "output_type": "stream",
       "stream": "stderr",
       "text": [
        "WARNING:sarpy.io.Adata_classes:Could not load AData\n"
       ]
      },
      {
       "output_type": "stream",
       "stream": "stderr",
       "text": [
        "WARNING:sarpy.io.Adata_classes:Need precisely one parameter file *json, found: []\n"
       ]
      },
      {
       "output_type": "stream",
       "stream": "stderr",
       "text": [
        "WARNING:sarpy.io.Adata_classes:Could not load AData\n"
       ]
      },
      {
       "output_type": "stream",
       "stream": "stderr",
       "text": [
        "WARNING:sarpy.io.Adata_classes:Need precisely one parameter file *json, found: []\n"
       ]
      },
      {
       "output_type": "stream",
       "stream": "stderr",
       "text": [
        "WARNING:sarpy.io.Adata_classes:Could not load AData\n"
       ]
      },
      {
       "output_type": "stream",
       "stream": "stderr",
       "text": [
        "WARNING:sarpy.io.Adata_classes:Need precisely one parameter file *json, found: []\n"
       ]
      },
      {
       "output_type": "stream",
       "stream": "stderr",
       "text": [
        "WARNING:sarpy.io.Adata_classes:Could not load AData\n"
       ]
      },
      {
       "output_type": "stream",
       "stream": "stderr",
       "text": [
        "WARNING:sarpy.io.Adata_classes:Need precisely one parameter file *json, found: []\n"
       ]
      },
      {
       "output_type": "stream",
       "stream": "stderr",
       "text": [
        "WARNING:sarpy.io.Adata_classes:Could not load AData\n"
       ]
      },
      {
       "output_type": "stream",
       "stream": "stderr",
       "text": [
        "WARNING:sarpy.io.Adata_classes:Need precisely one parameter file *json, found: []\n"
       ]
      },
      {
       "output_type": "stream",
       "stream": "stderr",
       "text": [
        "WARNING:sarpy.io.Adata_classes:Could not load AData\n"
       ]
      },
      {
       "output_type": "stream",
       "stream": "stderr",
       "text": [
        "WARNING:sarpy.io.Adata_classes:Need precisely one parameter file *json, found: []\n"
       ]
      },
      {
       "output_type": "stream",
       "stream": "stderr",
       "text": [
        "WARNING:sarpy.io.Adata_classes:Could not load AData\n"
       ]
      },
      {
       "output_type": "stream",
       "stream": "stderr",
       "text": [
        "WARNING:sarpy.io.Adata_classes:Need precisely one parameter file *json, found: []\n"
       ]
      },
      {
       "output_type": "stream",
       "stream": "stderr",
       "text": [
        "WARNING:sarpy.io.Adata_classes:Could not load AData\n"
       ]
      },
      {
       "output_type": "stream",
       "stream": "stderr",
       "text": [
        "WARNING:sarpy.io.Adata_classes:Need precisely one parameter file *json, found: []\n"
       ]
      },
      {
       "output_type": "stream",
       "stream": "stderr",
       "text": [
        "WARNING:sarpy.io.Adata_classes:Could not load AData\n"
       ]
      },
      {
       "output_type": "stream",
       "stream": "stderr",
       "text": [
        "WARNING:sarpy.io.Adata_classes:Need precisely one parameter file *json, found: []\n"
       ]
      },
      {
       "output_type": "stream",
       "stream": "stderr",
       "text": [
        "WARNING:sarpy.io.Adata_classes:Could not load AData\n"
       ]
      },
      {
       "output_type": "stream",
       "stream": "stderr",
       "text": [
        "WARNING:sarpy.io.Adata_classes:Need precisely one parameter file *json, found: []\n"
       ]
      },
      {
       "output_type": "stream",
       "stream": "stderr",
       "text": [
        "WARNING:sarpy.io.Adata_classes:Could not load AData\n"
       ]
      },
      {
       "output_type": "stream",
       "stream": "stderr",
       "text": [
        "WARNING:sarpy.io.Adata_classes:Need precisely one parameter file *json, found: []\n"
       ]
      },
      {
       "output_type": "stream",
       "stream": "stderr",
       "text": [
        "WARNING:sarpy.io.Adata_classes:Could not load AData\n"
       ]
      },
      {
       "output_type": "stream",
       "stream": "stderr",
       "text": [
        "WARNING:sarpy.io.Adata_classes:Need precisely one parameter file *json, found: []\n"
       ]
      },
      {
       "output_type": "stream",
       "stream": "stderr",
       "text": [
        "WARNING:sarpy.io.Adata_classes:Could not load AData\n"
       ]
      },
      {
       "output_type": "stream",
       "stream": "stderr",
       "text": [
        "WARNING:sarpy.io.Adata_classes:Need precisely one parameter file *json, found: []\n"
       ]
      },
      {
       "output_type": "stream",
       "stream": "stderr",
       "text": [
        "WARNING:sarpy.io.Adata_classes:Could not load AData\n"
       ]
      },
      {
       "output_type": "stream",
       "stream": "stderr",
       "text": [
        "WARNING:sarpy.io.Adata_classes:Need precisely one parameter file *json, found: []\n"
       ]
      },
      {
       "output_type": "stream",
       "stream": "stderr",
       "text": [
        "WARNING:sarpy.io.Adata_classes:Could not load AData\n"
       ]
      },
      {
       "output_type": "stream",
       "stream": "stderr",
       "text": [
        "WARNING:sarpy.io.Adata_classes:Need precisely one parameter file *json, found: []\n"
       ]
      },
      {
       "output_type": "stream",
       "stream": "stderr",
       "text": [
        "WARNING:sarpy.io.Adata_classes:Could not load AData\n"
       ]
      },
      {
       "output_type": "stream",
       "stream": "stderr",
       "text": [
        "WARNING:sarpy.io.Adata_classes:Need precisely one parameter file *json, found: []\n"
       ]
      },
      {
       "output_type": "stream",
       "stream": "stderr",
       "text": [
        "WARNING:sarpy.io.Adata_classes:Could not load AData\n"
       ]
      },
      {
       "output_type": "stream",
       "stream": "stderr",
       "text": [
        "WARNING:sarpy.io.Adata_classes:Need precisely one parameter file *json, found: []\n"
       ]
      },
      {
       "output_type": "stream",
       "stream": "stderr",
       "text": [
        "WARNING:sarpy.io.Adata_classes:Could not load AData\n"
       ]
      },
      {
       "output_type": "stream",
       "stream": "stderr",
       "text": [
        "WARNING:sarpy.io.Adata_classes:Need precisely one parameter file *json, found: []\n"
       ]
      },
      {
       "output_type": "stream",
       "stream": "stderr",
       "text": [
        "WARNING:sarpy.io.Adata_classes:Could not load AData\n"
       ]
      },
      {
       "output_type": "stream",
       "stream": "stderr",
       "text": [
        "WARNING:sarpy.io.Adata_classes:Need precisely one parameter file *json, found: []\n"
       ]
      },
      {
       "output_type": "stream",
       "stream": "stderr",
       "text": [
        "WARNING:sarpy.io.Adata_classes:Could not load AData\n"
       ]
      },
      {
       "output_type": "stream",
       "stream": "stderr",
       "text": [
        "WARNING:sarpy.io.Adata_classes:Need precisely one parameter file *json, found: []\n"
       ]
      },
      {
       "output_type": "stream",
       "stream": "stderr",
       "text": [
        "WARNING:sarpy.io.Adata_classes:Could not load AData\n"
       ]
      },
      {
       "output_type": "stream",
       "stream": "stderr",
       "text": [
        "WARNING:sarpy.io.Adata_classes:Need precisely one parameter file *json, found: []\n"
       ]
      },
      {
       "output_type": "stream",
       "stream": "stderr",
       "text": [
        "WARNING:sarpy.io.Adata_classes:Could not load AData\n"
       ]
      },
      {
       "output_type": "stream",
       "stream": "stderr",
       "text": [
        "WARNING:sarpy.io.Adata_classes:Need precisely one parameter file *json, found: []\n"
       ]
      },
      {
       "output_type": "stream",
       "stream": "stderr",
       "text": [
        "WARNING:sarpy.io.Adata_classes:Could not load AData\n"
       ]
      },
      {
       "output_type": "stream",
       "stream": "stderr",
       "text": [
        "WARNING:sarpy.io.Adata_classes:Need precisely one parameter file *json, found: []\n"
       ]
      },
      {
       "output_type": "stream",
       "stream": "stderr",
       "text": [
        "WARNING:sarpy.io.Adata_classes:Could not load AData\n"
       ]
      },
      {
       "output_type": "stream",
       "stream": "stderr",
       "text": [
        "WARNING:sarpy.io.Adata_classes:Need precisely one parameter file *json, found: []\n"
       ]
      },
      {
       "output_type": "stream",
       "stream": "stderr",
       "text": [
        "WARNING:sarpy.io.Adata_classes:Could not load AData\n"
       ]
      },
      {
       "output_type": "stream",
       "stream": "stderr",
       "text": [
        "WARNING:sarpy.io.Adata_classes:Need precisely one parameter file *json, found: []\n"
       ]
      },
      {
       "output_type": "stream",
       "stream": "stderr",
       "text": [
        "WARNING:sarpy.io.Adata_classes:Could not load AData\n"
       ]
      },
      {
       "output_type": "stream",
       "stream": "stderr",
       "text": [
        "WARNING:sarpy.io.Adata_classes:Need precisely one parameter file *json, found: []\n"
       ]
      },
      {
       "output_type": "stream",
       "stream": "stderr",
       "text": [
        "WARNING:sarpy.io.Adata_classes:Could not load AData\n"
       ]
      },
      {
       "output_type": "stream",
       "stream": "stderr",
       "text": [
        "WARNING:sarpy.io.Adata_classes:Need precisely one parameter file *json, found: []\n"
       ]
      },
      {
       "output_type": "stream",
       "stream": "stderr",
       "text": [
        "WARNING:sarpy.io.Adata_classes:Could not load AData\n"
       ]
      },
      {
       "output_type": "stream",
       "stream": "stderr",
       "text": [
        "WARNING:sarpy.io.Adata_classes:Need precisely one parameter file *json, found: []\n"
       ]
      },
      {
       "output_type": "stream",
       "stream": "stderr",
       "text": [
        "WARNING:sarpy.io.Adata_classes:Could not load AData\n"
       ]
      },
      {
       "output_type": "stream",
       "stream": "stderr",
       "text": [
        "WARNING:sarpy.io.Adata_classes:Need precisely one parameter file *json, found: []\n"
       ]
      },
      {
       "output_type": "stream",
       "stream": "stderr",
       "text": [
        "WARNING:sarpy.io.Adata_classes:Could not load AData\n"
       ]
      },
      {
       "output_type": "stream",
       "stream": "stderr",
       "text": [
        "WARNING:sarpy.io.Adata_classes:Need precisely one parameter file *json, found: []\n"
       ]
      },
      {
       "output_type": "stream",
       "stream": "stderr",
       "text": [
        "WARNING:sarpy.io.Adata_classes:Could not load AData\n"
       ]
      },
      {
       "output_type": "stream",
       "stream": "stderr",
       "text": [
        "WARNING:sarpy.io.Adata_classes:Need precisely one parameter file *json, found: []\n"
       ]
      },
      {
       "output_type": "stream",
       "stream": "stderr",
       "text": [
        "WARNING:sarpy.io.Adata_classes:Could not load AData\n"
       ]
      },
      {
       "output_type": "stream",
       "stream": "stderr",
       "text": [
        "WARNING:sarpy.io.Adata_classes:Need precisely one parameter file *json, found: []\n"
       ]
      },
      {
       "output_type": "stream",
       "stream": "stderr",
       "text": [
        "WARNING:sarpy.io.Adata_classes:Could not load AData\n"
       ]
      },
      {
       "output_type": "stream",
       "stream": "stderr",
       "text": [
        "WARNING:sarpy.io.Adata_classes:Need precisely one parameter file *json, found: []\n"
       ]
      },
      {
       "output_type": "stream",
       "stream": "stderr",
       "text": [
        "WARNING:sarpy.io.Adata_classes:Could not load AData\n"
       ]
      },
      {
       "output_type": "stream",
       "stream": "stderr",
       "text": [
        "WARNING:sarpy.io.Adata_classes:Need precisely one parameter file *json, found: []\n"
       ]
      },
      {
       "output_type": "stream",
       "stream": "stderr",
       "text": [
        "WARNING:sarpy.io.Adata_classes:Could not load AData\n"
       ]
      },
      {
       "output_type": "stream",
       "stream": "stderr",
       "text": [
        "WARNING:sarpy.io.Adata_classes:Need precisely one parameter file *json, found: []\n"
       ]
      },
      {
       "output_type": "stream",
       "stream": "stderr",
       "text": [
        "WARNING:sarpy.io.Adata_classes:Could not load AData\n"
       ]
      },
      {
       "output_type": "stream",
       "stream": "stderr",
       "text": [
        "WARNING:sarpy.io.Adata_classes:Need precisely one parameter file *json, found: []\n"
       ]
      },
      {
       "output_type": "stream",
       "stream": "stderr",
       "text": [
        "WARNING:sarpy.io.Adata_classes:Could not load AData\n"
       ]
      },
      {
       "output_type": "stream",
       "stream": "stderr",
       "text": [
        "WARNING:sarpy.io.Adata_classes:Need precisely one parameter file *json, found: []\n"
       ]
      },
      {
       "output_type": "stream",
       "stream": "stderr",
       "text": [
        "WARNING:sarpy.io.Adata_classes:Could not load AData\n"
       ]
      },
      {
       "output_type": "stream",
       "stream": "stderr",
       "text": [
        "WARNING:sarpy.io.Adata_classes:Need precisely one parameter file *json, found: []\n"
       ]
      },
      {
       "output_type": "stream",
       "stream": "stderr",
       "text": [
        "WARNING:sarpy.io.Adata_classes:Could not load AData\n"
       ]
      },
      {
       "output_type": "stream",
       "stream": "stderr",
       "text": [
        "WARNING:sarpy.io.Adata_classes:Need precisely one parameter file *json, found: []\n"
       ]
      },
      {
       "output_type": "stream",
       "stream": "stderr",
       "text": [
        "WARNING:sarpy.io.Adata_classes:Could not load AData\n"
       ]
      },
      {
       "output_type": "stream",
       "stream": "stderr",
       "text": [
        "WARNING:sarpy.io.Adata_classes:Need precisely one parameter file *json, found: []\n"
       ]
      },
      {
       "output_type": "stream",
       "stream": "stderr",
       "text": [
        "WARNING:sarpy.io.Adata_classes:Could not load AData\n"
       ]
      },
      {
       "output_type": "stream",
       "stream": "stderr",
       "text": [
        "WARNING:sarpy.io.Adata_classes:Need precisely one parameter file *json, found: []\n"
       ]
      },
      {
       "output_type": "stream",
       "stream": "stderr",
       "text": [
        "WARNING:sarpy.io.Adata_classes:Could not load AData\n"
       ]
      },
      {
       "output_type": "stream",
       "stream": "stderr",
       "text": [
        "WARNING:sarpy.io.Adata_classes:Need precisely one parameter file *json, found: []\n"
       ]
      },
      {
       "output_type": "stream",
       "stream": "stderr",
       "text": [
        "WARNING:sarpy.io.Adata_classes:Could not load AData\n"
       ]
      },
      {
       "output_type": "stream",
       "stream": "stderr",
       "text": [
        "WARNING:sarpy.io.Adata_classes:Need precisely one parameter file *json, found: []\n"
       ]
      },
      {
       "output_type": "stream",
       "stream": "stderr",
       "text": [
        "WARNING:sarpy.io.Adata_classes:Could not load AData\n"
       ]
      },
      {
       "output_type": "stream",
       "stream": "stderr",
       "text": [
        "WARNING:sarpy.io.Adata_classes:Need precisely one parameter file *json, found: []\n"
       ]
      },
      {
       "output_type": "stream",
       "stream": "stderr",
       "text": [
        "WARNING:sarpy.io.Adata_classes:Could not load AData\n"
       ]
      },
      {
       "output_type": "stream",
       "stream": "stderr",
       "text": [
        "WARNING:sarpy.io.Adata_classes:Need precisely one parameter file *json, found: []\n"
       ]
      },
      {
       "output_type": "stream",
       "stream": "stderr",
       "text": [
        "WARNING:sarpy.io.Adata_classes:Could not load AData\n"
       ]
      },
      {
       "output_type": "stream",
       "stream": "stderr",
       "text": [
        "WARNING:sarpy.io.Adata_classes:Need precisely one parameter file *json, found: []\n"
       ]
      },
      {
       "output_type": "stream",
       "stream": "stderr",
       "text": [
        "WARNING:sarpy.io.Adata_classes:Could not load AData\n"
       ]
      },
      {
       "output_type": "stream",
       "stream": "stderr",
       "text": [
        "WARNING:sarpy.io.Adata_classes:Need precisely one parameter file *json, found: []\n"
       ]
      },
      {
       "output_type": "stream",
       "stream": "stderr",
       "text": [
        "WARNING:sarpy.io.Adata_classes:Could not load AData\n"
       ]
      },
      {
       "output_type": "stream",
       "stream": "stderr",
       "text": [
        "WARNING:sarpy.io.Adata_classes:Need precisely one parameter file *json, found: []\n"
       ]
      },
      {
       "output_type": "stream",
       "stream": "stderr",
       "text": [
        "WARNING:sarpy.io.Adata_classes:Could not load AData\n"
       ]
      },
      {
       "output_type": "stream",
       "stream": "stderr",
       "text": [
        "WARNING:sarpy.io.Adata_classes:Need precisely one parameter file *json, found: []\n"
       ]
      },
      {
       "output_type": "stream",
       "stream": "stderr",
       "text": [
        "WARNING:sarpy.io.Adata_classes:Could not load AData\n"
       ]
      },
      {
       "output_type": "stream",
       "stream": "stderr",
       "text": [
        "WARNING:sarpy.io.Adata_classes:Need precisely one parameter file *json, found: []\n"
       ]
      },
      {
       "output_type": "stream",
       "stream": "stderr",
       "text": [
        "WARNING:sarpy.io.Adata_classes:Could not load AData\n"
       ]
      },
      {
       "output_type": "stream",
       "stream": "stderr",
       "text": [
        "WARNING:sarpy.io.Adata_classes:Need precisely one parameter file *json, found: []\n"
       ]
      },
      {
       "output_type": "stream",
       "stream": "stderr",
       "text": [
        "WARNING:sarpy.io.Adata_classes:Could not load AData\n"
       ]
      },
      {
       "output_type": "stream",
       "stream": "stderr",
       "text": [
        "WARNING:sarpy.io.Adata_classes:Need precisely one parameter file *json, found: []\n"
       ]
      },
      {
       "output_type": "stream",
       "stream": "stderr",
       "text": [
        "WARNING:sarpy.io.Adata_classes:Could not load AData\n"
       ]
      },
      {
       "output_type": "stream",
       "stream": "stderr",
       "text": [
        "WARNING:sarpy.io.Adata_classes:Need precisely one parameter file *json, found: []\n"
       ]
      },
      {
       "output_type": "stream",
       "stream": "stderr",
       "text": [
        "WARNING:sarpy.io.Adata_classes:Could not load AData\n"
       ]
      },
      {
       "output_type": "stream",
       "stream": "stderr",
       "text": [
        "WARNING:sarpy.io.Adata_classes:Need precisely one parameter file *json, found: []\n"
       ]
      },
      {
       "output_type": "stream",
       "stream": "stderr",
       "text": [
        "WARNING:sarpy.io.Adata_classes:Could not load AData\n"
       ]
      },
      {
       "output_type": "stream",
       "stream": "stderr",
       "text": [
        "WARNING:sarpy.io.Adata_classes:Need precisely one parameter file *json, found: []\n"
       ]
      },
      {
       "output_type": "stream",
       "stream": "stderr",
       "text": [
        "WARNING:sarpy.io.Adata_classes:Could not load AData\n"
       ]
      },
      {
       "output_type": "stream",
       "stream": "stderr",
       "text": [
        "WARNING:sarpy.io.Adata_classes:Need precisely one parameter file *json, found: []\n"
       ]
      },
      {
       "output_type": "stream",
       "stream": "stderr",
       "text": [
        "WARNING:sarpy.io.Adata_classes:Could not load AData\n"
       ]
      },
      {
       "output_type": "stream",
       "stream": "stderr",
       "text": [
        "WARNING:sarpy.io.Adata_classes:Need precisely one parameter file *json, found: []\n"
       ]
      },
      {
       "output_type": "stream",
       "stream": "stderr",
       "text": [
        "WARNING:sarpy.io.Adata_classes:Could not load AData\n"
       ]
      },
      {
       "output_type": "stream",
       "stream": "stderr",
       "text": [
        "WARNING:sarpy.io.Adata_classes:Need precisely one parameter file *json, found: []\n"
       ]
      },
      {
       "output_type": "stream",
       "stream": "stderr",
       "text": [
        "WARNING:sarpy.io.Adata_classes:Could not load AData\n"
       ]
      },
      {
       "output_type": "stream",
       "stream": "stderr",
       "text": [
        "WARNING:sarpy.io.Adata_classes:Need precisely one parameter file *json, found: []\n"
       ]
      },
      {
       "output_type": "stream",
       "stream": "stderr",
       "text": [
        "WARNING:sarpy.io.Adata_classes:Could not load AData\n"
       ]
      },
      {
       "output_type": "stream",
       "stream": "stderr",
       "text": [
        "WARNING:sarpy.io.Adata_classes:Need precisely one parameter file *json, found: []\n"
       ]
      },
      {
       "output_type": "stream",
       "stream": "stderr",
       "text": [
        "WARNING:sarpy.io.Adata_classes:Could not load AData\n"
       ]
      },
      {
       "output_type": "stream",
       "stream": "stderr",
       "text": [
        "WARNING:sarpy.io.Adata_classes:Need precisely one parameter file *json, found: []\n"
       ]
      },
      {
       "output_type": "stream",
       "stream": "stderr",
       "text": [
        "WARNING:sarpy.io.Adata_classes:Could not load AData\n"
       ]
      },
      {
       "output_type": "stream",
       "stream": "stderr",
       "text": [
        "WARNING:sarpy.io.Adata_classes:Need precisely one parameter file *json, found: []\n"
       ]
      },
      {
       "output_type": "stream",
       "stream": "stderr",
       "text": [
        "WARNING:sarpy.io.Adata_classes:Could not load AData\n"
       ]
      },
      {
       "output_type": "stream",
       "stream": "stderr",
       "text": [
        "WARNING:sarpy.io.Adata_classes:Need precisely one parameter file *json, found: []\n"
       ]
      },
      {
       "output_type": "stream",
       "stream": "stderr",
       "text": [
        "WARNING:sarpy.io.Adata_classes:Could not load AData\n"
       ]
      },
      {
       "output_type": "stream",
       "stream": "stderr",
       "text": [
        "WARNING:sarpy.io.Adata_classes:Need precisely one parameter file *json, found: []\n"
       ]
      },
      {
       "output_type": "stream",
       "stream": "stderr",
       "text": [
        "WARNING:sarpy.io.Adata_classes:Could not load AData\n"
       ]
      },
      {
       "output_type": "stream",
       "stream": "stderr",
       "text": [
        "WARNING:sarpy.io.Adata_classes:Need precisely one parameter file *json, found: []\n"
       ]
      },
      {
       "output_type": "stream",
       "stream": "stderr",
       "text": [
        "WARNING:sarpy.io.Adata_classes:Could not load AData\n"
       ]
      },
      {
       "output_type": "stream",
       "stream": "stderr",
       "text": [
        "WARNING:sarpy.io.Adata_classes:Need precisely one parameter file *json, found: []\n"
       ]
      },
      {
       "output_type": "stream",
       "stream": "stderr",
       "text": [
        "WARNING:sarpy.io.Adata_classes:Could not load AData\n"
       ]
      },
      {
       "output_type": "stream",
       "stream": "stderr",
       "text": [
        "WARNING:sarpy.io.Adata_classes:Need precisely one parameter file *json, found: []\n"
       ]
      },
      {
       "output_type": "stream",
       "stream": "stderr",
       "text": [
        "WARNING:sarpy.io.Adata_classes:Could not load AData\n"
       ]
      },
      {
       "output_type": "stream",
       "stream": "stderr",
       "text": [
        "WARNING:sarpy.io.Adata_classes:Need precisely one parameter file *json, found: []\n"
       ]
      },
      {
       "output_type": "stream",
       "stream": "stderr",
       "text": [
        "WARNING:sarpy.io.Adata_classes:Could not load AData\n"
       ]
      },
      {
       "output_type": "stream",
       "stream": "stderr",
       "text": [
        "WARNING:sarpy.io.Adata_classes:Need precisely one parameter file *json, found: []\n"
       ]
      },
      {
       "output_type": "stream",
       "stream": "stderr",
       "text": [
        "WARNING:sarpy.io.Adata_classes:Could not load AData\n"
       ]
      },
      {
       "output_type": "stream",
       "stream": "stderr",
       "text": [
        "WARNING:sarpy.io.Adata_classes:Need precisely one parameter file *json, found: []\n"
       ]
      },
      {
       "output_type": "stream",
       "stream": "stderr",
       "text": [
        "WARNING:sarpy.io.Adata_classes:Could not load AData\n"
       ]
      },
      {
       "output_type": "stream",
       "stream": "stderr",
       "text": [
        "WARNING:sarpy.io.Adata_classes:Need precisely one parameter file *json, found: []\n"
       ]
      },
      {
       "output_type": "stream",
       "stream": "stderr",
       "text": [
        "WARNING:sarpy.io.Adata_classes:Could not load AData\n"
       ]
      },
      {
       "output_type": "stream",
       "stream": "stderr",
       "text": [
        "WARNING:sarpy.io.Adata_classes:Need precisely one parameter file *json, found: []\n"
       ]
      },
      {
       "output_type": "stream",
       "stream": "stderr",
       "text": [
        "WARNING:sarpy.io.Adata_classes:Could not load AData\n"
       ]
      },
      {
       "output_type": "stream",
       "stream": "stderr",
       "text": [
        "WARNING:sarpy.io.Adata_classes:Need precisely one parameter file *json, found: []\n"
       ]
      },
      {
       "output_type": "stream",
       "stream": "stderr",
       "text": [
        "WARNING:sarpy.io.Adata_classes:Could not load AData\n"
       ]
      },
      {
       "output_type": "stream",
       "stream": "stderr",
       "text": [
        "WARNING:sarpy.io.Adata_classes:Need precisely one parameter file *json, found: []\n"
       ]
      },
      {
       "output_type": "stream",
       "stream": "stderr",
       "text": [
        "WARNING:sarpy.io.Adata_classes:Could not load AData\n"
       ]
      },
      {
       "output_type": "stream",
       "stream": "stderr",
       "text": [
        "WARNING:sarpy.io.Adata_classes:Need precisely one parameter file *json, found: []\n"
       ]
      },
      {
       "output_type": "stream",
       "stream": "stderr",
       "text": [
        "WARNING:sarpy.io.Adata_classes:Could not load AData\n"
       ]
      },
      {
       "output_type": "stream",
       "stream": "stderr",
       "text": [
        "WARNING:sarpy.io.Adata_classes:Need precisely one parameter file *json, found: []\n"
       ]
      },
      {
       "output_type": "stream",
       "stream": "stderr",
       "text": [
        "WARNING:sarpy.io.Adata_classes:Could not load AData\n"
       ]
      },
      {
       "output_type": "stream",
       "stream": "stderr",
       "text": [
        "WARNING:sarpy.io.Adata_classes:Need precisely one parameter file *json, found: []\n"
       ]
      },
      {
       "output_type": "stream",
       "stream": "stderr",
       "text": [
        "WARNING:sarpy.io.Adata_classes:Could not load AData\n"
       ]
      },
      {
       "output_type": "stream",
       "stream": "stderr",
       "text": [
        "WARNING:sarpy.io.Adata_classes:Need precisely one parameter file *json, found: []\n"
       ]
      },
      {
       "output_type": "stream",
       "stream": "stderr",
       "text": [
        "WARNING:sarpy.io.Adata_classes:Could not load AData\n"
       ]
      },
      {
       "output_type": "stream",
       "stream": "stderr",
       "text": [
        "WARNING:sarpy.io.Adata_classes:Need precisely one parameter file *json, found: []\n"
       ]
      },
      {
       "output_type": "stream",
       "stream": "stderr",
       "text": [
        "WARNING:sarpy.io.Adata_classes:Could not load AData\n"
       ]
      },
      {
       "output_type": "stream",
       "stream": "stderr",
       "text": [
        "WARNING:sarpy.io.Adata_classes:Need precisely one parameter file *json, found: []\n"
       ]
      },
      {
       "output_type": "stream",
       "stream": "stderr",
       "text": [
        "WARNING:sarpy.io.Adata_classes:Could not load AData\n"
       ]
      },
      {
       "output_type": "stream",
       "stream": "stderr",
       "text": [
        "WARNING:sarpy.io.Adata_classes:Need precisely one parameter file *json, found: []\n"
       ]
      },
      {
       "output_type": "stream",
       "stream": "stderr",
       "text": [
        "WARNING:sarpy.io.Adata_classes:Could not load AData\n"
       ]
      },
      {
       "output_type": "stream",
       "stream": "stderr",
       "text": [
        "WARNING:sarpy.io.Adata_classes:Need precisely one parameter file *json, found: []\n"
       ]
      },
      {
       "output_type": "stream",
       "stream": "stderr",
       "text": [
        "WARNING:sarpy.io.Adata_classes:Could not load AData\n"
       ]
      },
      {
       "output_type": "stream",
       "stream": "stderr",
       "text": [
        "WARNING:sarpy.io.Adata_classes:Need precisely one parameter file *json, found: []\n"
       ]
      },
      {
       "output_type": "stream",
       "stream": "stderr",
       "text": [
        "WARNING:sarpy.io.Adata_classes:Could not load AData\n"
       ]
      },
      {
       "output_type": "stream",
       "stream": "stderr",
       "text": [
        "WARNING:sarpy.io.Adata_classes:Need precisely one parameter file *json, found: []\n"
       ]
      },
      {
       "output_type": "stream",
       "stream": "stderr",
       "text": [
        "WARNING:sarpy.io.Adata_classes:Could not load AData\n"
       ]
      },
      {
       "output_type": "stream",
       "stream": "stderr",
       "text": [
        "WARNING:sarpy.io.Adata_classes:Need precisely one parameter file *json, found: []\n"
       ]
      },
      {
       "output_type": "stream",
       "stream": "stderr",
       "text": [
        "WARNING:sarpy.io.Adata_classes:Could not load AData\n"
       ]
      },
      {
       "output_type": "stream",
       "stream": "stderr",
       "text": [
        "WARNING:sarpy.io.Adata_classes:Need precisely one parameter file *json, found: []\n"
       ]
      },
      {
       "output_type": "stream",
       "stream": "stderr",
       "text": [
        "WARNING:sarpy.io.Adata_classes:Could not load AData\n"
       ]
      },
      {
       "output_type": "stream",
       "stream": "stderr",
       "text": [
        "WARNING:sarpy.io.Adata_classes:Need precisely one parameter file *json, found: []\n"
       ]
      },
      {
       "output_type": "stream",
       "stream": "stderr",
       "text": [
        "WARNING:sarpy.io.Adata_classes:Could not load AData\n"
       ]
      },
      {
       "output_type": "stream",
       "stream": "stderr",
       "text": [
        "WARNING:sarpy.io.Adata_classes:Need precisely one parameter file *json, found: []\n"
       ]
      },
      {
       "output_type": "stream",
       "stream": "stderr",
       "text": [
        "WARNING:sarpy.io.Adata_classes:Could not load AData\n"
       ]
      },
      {
       "output_type": "stream",
       "stream": "stderr",
       "text": [
        "WARNING:sarpy.io.Adata_classes:Need precisely one parameter file *json, found: []\n"
       ]
      },
      {
       "output_type": "stream",
       "stream": "stderr",
       "text": [
        "WARNING:sarpy.io.Adata_classes:Could not load AData\n"
       ]
      },
      {
       "output_type": "stream",
       "stream": "stderr",
       "text": [
        "WARNING:sarpy.io.Adata_classes:Need precisely one parameter file *json, found: []\n"
       ]
      },
      {
       "output_type": "stream",
       "stream": "stderr",
       "text": [
        "WARNING:sarpy.io.Adata_classes:Could not load AData\n"
       ]
      },
      {
       "output_type": "stream",
       "stream": "stderr",
       "text": [
        "WARNING:sarpy.io.Adata_classes:Need precisely one parameter file *json, found: []\n"
       ]
      },
      {
       "output_type": "stream",
       "stream": "stderr",
       "text": [
        "WARNING:sarpy.io.Adata_classes:Could not load AData\n"
       ]
      },
      {
       "output_type": "stream",
       "stream": "stderr",
       "text": [
        "WARNING:sarpy.io.Adata_classes:Need precisely one parameter file *json, found: []\n"
       ]
      },
      {
       "output_type": "stream",
       "stream": "stderr",
       "text": [
        "WARNING:sarpy.io.Adata_classes:Could not load AData\n"
       ]
      },
      {
       "output_type": "stream",
       "stream": "stderr",
       "text": [
        "WARNING:sarpy.io.Adata_classes:Need precisely one parameter file *json, found: []\n"
       ]
      },
      {
       "output_type": "stream",
       "stream": "stderr",
       "text": [
        "WARNING:sarpy.io.Adata_classes:Could not load AData\n"
       ]
      },
      {
       "output_type": "stream",
       "stream": "stderr",
       "text": [
        "WARNING:sarpy.io.Adata_classes:Need precisely one parameter file *json, found: []\n"
       ]
      },
      {
       "output_type": "stream",
       "stream": "stderr",
       "text": [
        "WARNING:sarpy.io.Adata_classes:Could not load AData\n"
       ]
      },
      {
       "output_type": "stream",
       "stream": "stderr",
       "text": [
        "WARNING:sarpy.io.Adata_classes:Need precisely one parameter file *json, found: []\n"
       ]
      },
      {
       "output_type": "stream",
       "stream": "stderr",
       "text": [
        "WARNING:sarpy.io.Adata_classes:Could not load AData\n"
       ]
      },
      {
       "output_type": "stream",
       "stream": "stderr",
       "text": [
        "WARNING:sarpy.io.Adata_classes:Need precisely one parameter file *json, found: []\n"
       ]
      },
      {
       "output_type": "stream",
       "stream": "stderr",
       "text": [
        "WARNING:sarpy.io.Adata_classes:Could not load AData\n"
       ]
      },
      {
       "output_type": "stream",
       "stream": "stderr",
       "text": [
        "WARNING:sarpy.io.Adata_classes:Need precisely one parameter file *json, found: []\n"
       ]
      },
      {
       "output_type": "stream",
       "stream": "stderr",
       "text": [
        "WARNING:sarpy.io.Adata_classes:Could not load AData\n"
       ]
      },
      {
       "output_type": "stream",
       "stream": "stderr",
       "text": [
        "WARNING:sarpy.io.Adata_classes:Need precisely one parameter file *json, found: []\n"
       ]
      },
      {
       "output_type": "stream",
       "stream": "stderr",
       "text": [
        "WARNING:sarpy.io.Adata_classes:Could not load AData\n"
       ]
      },
      {
       "output_type": "stream",
       "stream": "stderr",
       "text": [
        "WARNING:sarpy.io.Adata_classes:Need precisely one parameter file *json, found: []\n"
       ]
      },
      {
       "output_type": "stream",
       "stream": "stderr",
       "text": [
        "WARNING:sarpy.io.Adata_classes:Could not load AData\n"
       ]
      },
      {
       "output_type": "stream",
       "stream": "stderr",
       "text": [
        "WARNING:sarpy.io.Adata_classes:Need precisely one parameter file *json, found: []\n"
       ]
      },
      {
       "output_type": "stream",
       "stream": "stderr",
       "text": [
        "WARNING:sarpy.io.Adata_classes:Could not load AData\n"
       ]
      },
      {
       "output_type": "stream",
       "stream": "stderr",
       "text": [
        "WARNING:sarpy.io.Adata_classes:Need precisely one parameter file *json, found: []\n"
       ]
      },
      {
       "output_type": "stream",
       "stream": "stderr",
       "text": [
        "WARNING:sarpy.io.Adata_classes:Could not load AData\n"
       ]
      },
      {
       "output_type": "stream",
       "stream": "stderr",
       "text": [
        "WARNING:sarpy.io.Adata_classes:Need precisely one parameter file *json, found: []\n"
       ]
      },
      {
       "output_type": "stream",
       "stream": "stderr",
       "text": [
        "WARNING:sarpy.io.Adata_classes:Could not load AData\n"
       ]
      },
      {
       "output_type": "stream",
       "stream": "stderr",
       "text": [
        "WARNING:sarpy.io.Adata_classes:Need precisely one parameter file *json, found: []\n"
       ]
      },
      {
       "output_type": "stream",
       "stream": "stderr",
       "text": [
        "WARNING:sarpy.io.Adata_classes:Could not load AData\n"
       ]
      },
      {
       "output_type": "stream",
       "stream": "stderr",
       "text": [
        "WARNING:sarpy.io.Adata_classes:Need precisely one parameter file *json, found: []\n"
       ]
      },
      {
       "output_type": "stream",
       "stream": "stderr",
       "text": [
        "WARNING:sarpy.io.Adata_classes:Could not load AData\n"
       ]
      },
      {
       "output_type": "stream",
       "stream": "stderr",
       "text": [
        "WARNING:sarpy.io.Adata_classes:Need precisely one parameter file *json, found: []\n"
       ]
      },
      {
       "output_type": "stream",
       "stream": "stderr",
       "text": [
        "WARNING:sarpy.io.Adata_classes:Could not load AData\n"
       ]
      },
      {
       "output_type": "stream",
       "stream": "stderr",
       "text": [
        "WARNING:sarpy.io.Adata_classes:Need precisely one parameter file *json, found: []\n"
       ]
      },
      {
       "output_type": "stream",
       "stream": "stderr",
       "text": [
        "WARNING:sarpy.io.Adata_classes:Could not load AData\n"
       ]
      },
      {
       "output_type": "stream",
       "stream": "stderr",
       "text": [
        "WARNING:sarpy.io.Adata_classes:Need precisely one parameter file *json, found: []\n"
       ]
      },
      {
       "output_type": "stream",
       "stream": "stderr",
       "text": [
        "WARNING:sarpy.io.Adata_classes:Could not load AData\n"
       ]
      },
      {
       "output_type": "stream",
       "stream": "stderr",
       "text": [
        "WARNING:sarpy.io.Adata_classes:Need precisely one parameter file *json, found: []\n"
       ]
      },
      {
       "output_type": "stream",
       "stream": "stderr",
       "text": [
        "WARNING:sarpy.io.Adata_classes:Could not load AData\n"
       ]
      },
      {
       "output_type": "stream",
       "stream": "stderr",
       "text": [
        "WARNING:sarpy.io.Adata_classes:Need precisely one parameter file *json, found: []\n"
       ]
      },
      {
       "output_type": "stream",
       "stream": "stderr",
       "text": [
        "WARNING:sarpy.io.Adata_classes:Could not load AData\n"
       ]
      },
      {
       "output_type": "stream",
       "stream": "stderr",
       "text": [
        "WARNING:sarpy.io.Adata_classes:Need precisely one parameter file *json, found: []\n"
       ]
      },
      {
       "output_type": "stream",
       "stream": "stderr",
       "text": [
        "WARNING:sarpy.io.Adata_classes:Could not load AData\n"
       ]
      },
      {
       "output_type": "stream",
       "stream": "stderr",
       "text": [
        "WARNING:sarpy.io.Adata_classes:Need precisely one parameter file *json, found: []\n"
       ]
      },
      {
       "output_type": "stream",
       "stream": "stderr",
       "text": [
        "WARNING:sarpy.io.Adata_classes:Could not load AData\n"
       ]
      },
      {
       "output_type": "stream",
       "stream": "stderr",
       "text": [
        "WARNING:sarpy.io.Adata_classes:Need precisely one parameter file *json, found: []\n"
       ]
      },
      {
       "output_type": "stream",
       "stream": "stderr",
       "text": [
        "WARNING:sarpy.io.Adata_classes:Could not load AData\n"
       ]
      },
      {
       "output_type": "stream",
       "stream": "stderr",
       "text": [
        "WARNING:sarpy.io.Adata_classes:Need precisely one parameter file *json, found: []\n"
       ]
      },
      {
       "output_type": "stream",
       "stream": "stderr",
       "text": [
        "WARNING:sarpy.io.Adata_classes:Could not load AData\n"
       ]
      },
      {
       "output_type": "stream",
       "stream": "stderr",
       "text": [
        "WARNING:sarpy.io.Adata_classes:Need precisely one parameter file *json, found: []\n"
       ]
      },
      {
       "output_type": "stream",
       "stream": "stderr",
       "text": [
        "WARNING:sarpy.io.Adata_classes:Could not load AData\n"
       ]
      },
      {
       "output_type": "stream",
       "stream": "stderr",
       "text": [
        "WARNING:sarpy.io.Adata_classes:Need precisely one parameter file *json, found: []\n"
       ]
      },
      {
       "output_type": "stream",
       "stream": "stderr",
       "text": [
        "WARNING:sarpy.io.Adata_classes:Could not load AData\n"
       ]
      },
      {
       "output_type": "stream",
       "stream": "stderr",
       "text": [
        "WARNING:sarpy.io.Adata_classes:Need precisely one parameter file *json, found: []\n"
       ]
      },
      {
       "output_type": "stream",
       "stream": "stderr",
       "text": [
        "WARNING:sarpy.io.Adata_classes:Could not load AData\n"
       ]
      },
      {
       "output_type": "stream",
       "stream": "stderr",
       "text": [
        "WARNING:sarpy.io.Adata_classes:Need precisely one parameter file *json, found: []\n"
       ]
      },
      {
       "output_type": "stream",
       "stream": "stderr",
       "text": [
        "WARNING:sarpy.io.Adata_classes:Could not load AData\n"
       ]
      },
      {
       "output_type": "stream",
       "stream": "stderr",
       "text": [
        "WARNING:sarpy.io.Adata_classes:Need precisely one parameter file *json, found: []\n"
       ]
      },
      {
       "output_type": "stream",
       "stream": "stderr",
       "text": [
        "WARNING:sarpy.io.Adata_classes:Could not load AData\n"
       ]
      },
      {
       "output_type": "stream",
       "stream": "stderr",
       "text": [
        "WARNING:sarpy.io.Adata_classes:Need precisely one parameter file *json, found: []\n"
       ]
      },
      {
       "output_type": "stream",
       "stream": "stderr",
       "text": [
        "WARNING:sarpy.io.Adata_classes:Could not load AData\n"
       ]
      },
      {
       "output_type": "stream",
       "stream": "stderr",
       "text": [
        "WARNING:sarpy.io.Adata_classes:Need precisely one parameter file *json, found: []\n"
       ]
      },
      {
       "output_type": "stream",
       "stream": "stderr",
       "text": [
        "WARNING:sarpy.io.Adata_classes:Could not load AData\n"
       ]
      },
      {
       "output_type": "stream",
       "stream": "stderr",
       "text": [
        "WARNING:sarpy.io.Adata_classes:Need precisely one parameter file *json, found: []\n"
       ]
      },
      {
       "output_type": "stream",
       "stream": "stderr",
       "text": [
        "WARNING:sarpy.io.Adata_classes:Could not load AData\n"
       ]
      },
      {
       "output_type": "stream",
       "stream": "stderr",
       "text": [
        "WARNING:sarpy.io.Adata_classes:Need precisely one parameter file *json, found: []\n"
       ]
      },
      {
       "output_type": "stream",
       "stream": "stderr",
       "text": [
        "WARNING:sarpy.io.Adata_classes:Could not load AData\n"
       ]
      },
      {
       "output_type": "stream",
       "stream": "stderr",
       "text": [
        "WARNING:sarpy.io.Adata_classes:Need precisely one parameter file *json, found: []\n"
       ]
      },
      {
       "output_type": "stream",
       "stream": "stderr",
       "text": [
        "WARNING:sarpy.io.Adata_classes:Could not load AData\n"
       ]
      },
      {
       "output_type": "stream",
       "stream": "stderr",
       "text": [
        "WARNING:sarpy.io.Adata_classes:Need precisely one parameter file *json, found: []\n"
       ]
      },
      {
       "output_type": "stream",
       "stream": "stderr",
       "text": [
        "WARNING:sarpy.io.Adata_classes:Could not load AData\n"
       ]
      },
      {
       "output_type": "stream",
       "stream": "stderr",
       "text": [
        "WARNING:sarpy.io.Adata_classes:Need precisely one parameter file *json, found: []\n"
       ]
      },
      {
       "output_type": "stream",
       "stream": "stderr",
       "text": [
        "WARNING:sarpy.io.Adata_classes:Could not load AData\n"
       ]
      },
      {
       "output_type": "stream",
       "stream": "stderr",
       "text": [
        "WARNING:sarpy.io.Adata_classes:Need precisely one parameter file *json, found: []\n"
       ]
      },
      {
       "output_type": "stream",
       "stream": "stderr",
       "text": [
        "WARNING:sarpy.io.Adata_classes:Could not load AData\n"
       ]
      },
      {
       "output_type": "stream",
       "stream": "stderr",
       "text": [
        "WARNING:sarpy.io.Adata_classes:Need precisely one parameter file *json, found: []\n"
       ]
      },
      {
       "output_type": "stream",
       "stream": "stderr",
       "text": [
        "WARNING:sarpy.io.Adata_classes:Could not load AData\n"
       ]
      },
      {
       "output_type": "stream",
       "stream": "stderr",
       "text": [
        "WARNING:sarpy.io.Adata_classes:Need precisely one parameter file *json, found: []\n"
       ]
      },
      {
       "output_type": "stream",
       "stream": "stderr",
       "text": [
        "WARNING:sarpy.io.Adata_classes:Could not load AData\n"
       ]
      },
      {
       "output_type": "stream",
       "stream": "stderr",
       "text": [
        "WARNING:sarpy.io.Adata_classes:Need precisely one parameter file *json, found: []\n"
       ]
      },
      {
       "output_type": "stream",
       "stream": "stderr",
       "text": [
        "WARNING:sarpy.io.Adata_classes:Could not load AData\n"
       ]
      },
      {
       "output_type": "stream",
       "stream": "stderr",
       "text": [
        "WARNING:sarpy.io.Adata_classes:Need precisely one parameter file *json, found: []\n"
       ]
      },
      {
       "output_type": "stream",
       "stream": "stderr",
       "text": [
        "WARNING:sarpy.io.Adata_classes:Could not load AData\n"
       ]
      },
      {
       "output_type": "stream",
       "stream": "stderr",
       "text": [
        "WARNING:sarpy.io.Adata_classes:Need precisely one parameter file *json, found: []\n"
       ]
      },
      {
       "output_type": "stream",
       "stream": "stderr",
       "text": [
        "WARNING:sarpy.io.Adata_classes:Could not load AData\n"
       ]
      },
      {
       "output_type": "stream",
       "stream": "stderr",
       "text": [
        "WARNING:sarpy.io.Adata_classes:Need precisely one parameter file *json, found: []\n"
       ]
      },
      {
       "output_type": "stream",
       "stream": "stderr",
       "text": [
        "WARNING:sarpy.io.Adata_classes:Could not load AData\n"
       ]
      },
      {
       "output_type": "stream",
       "stream": "stderr",
       "text": [
        "WARNING:sarpy.io.Adata_classes:Need precisely one parameter file *json, found: []\n"
       ]
      },
      {
       "output_type": "stream",
       "stream": "stderr",
       "text": [
        "WARNING:sarpy.io.Adata_classes:Could not load AData\n"
       ]
      },
      {
       "output_type": "stream",
       "stream": "stderr",
       "text": [
        "WARNING:sarpy.io.Adata_classes:Need precisely one parameter file *json, found: []\n"
       ]
      },
      {
       "output_type": "stream",
       "stream": "stderr",
       "text": [
        "WARNING:sarpy.io.Adata_classes:Could not load AData\n"
       ]
      },
      {
       "output_type": "stream",
       "stream": "stderr",
       "text": [
        "WARNING:sarpy.io.Adata_classes:Need precisely one parameter file *json, found: []\n"
       ]
      },
      {
       "output_type": "stream",
       "stream": "stderr",
       "text": [
        "WARNING:sarpy.io.Adata_classes:Could not load AData\n"
       ]
      },
      {
       "output_type": "stream",
       "stream": "stderr",
       "text": [
        "WARNING:sarpy.io.Adata_classes:Need precisely one parameter file *json, found: []\n"
       ]
      },
      {
       "output_type": "stream",
       "stream": "stderr",
       "text": [
        "WARNING:sarpy.io.Adata_classes:Could not load AData\n"
       ]
      },
      {
       "output_type": "stream",
       "stream": "stderr",
       "text": [
        "WARNING:sarpy.io.Adata_classes:Need precisely one parameter file *json, found: []\n"
       ]
      },
      {
       "output_type": "stream",
       "stream": "stderr",
       "text": [
        "WARNING:sarpy.io.Adata_classes:Could not load AData\n"
       ]
      },
      {
       "output_type": "stream",
       "stream": "stderr",
       "text": [
        "WARNING:sarpy.io.Adata_classes:Need precisely one parameter file *json, found: []\n"
       ]
      },
      {
       "output_type": "stream",
       "stream": "stderr",
       "text": [
        "WARNING:sarpy.io.Adata_classes:Could not load AData\n"
       ]
      },
      {
       "output_type": "stream",
       "stream": "stderr",
       "text": [
        "WARNING:sarpy.io.Adata_classes:Need precisely one parameter file *json, found: []\n"
       ]
      },
      {
       "output_type": "stream",
       "stream": "stderr",
       "text": [
        "WARNING:sarpy.io.Adata_classes:Could not load AData\n"
       ]
      },
      {
       "output_type": "stream",
       "stream": "stderr",
       "text": [
        "WARNING:sarpy.io.Adata_classes:Need precisely one parameter file *json, found: []\n"
       ]
      },
      {
       "output_type": "stream",
       "stream": "stderr",
       "text": [
        "WARNING:sarpy.io.Adata_classes:Could not load AData\n"
       ]
      },
      {
       "output_type": "stream",
       "stream": "stderr",
       "text": [
        "WARNING:sarpy.io.Adata_classes:Need precisely one parameter file *json, found: []\n"
       ]
      },
      {
       "output_type": "stream",
       "stream": "stderr",
       "text": [
        "WARNING:sarpy.io.Adata_classes:Could not load AData\n"
       ]
      },
      {
       "output_type": "stream",
       "stream": "stderr",
       "text": [
        "WARNING:sarpy.io.Adata_classes:Need precisely one parameter file *json, found: []\n"
       ]
      },
      {
       "output_type": "stream",
       "stream": "stderr",
       "text": [
        "WARNING:sarpy.io.Adata_classes:Could not load AData\n"
       ]
      },
      {
       "output_type": "stream",
       "stream": "stderr",
       "text": [
        "WARNING:sarpy.io.Adata_classes:Need precisely one parameter file *json, found: []\n"
       ]
      },
      {
       "output_type": "stream",
       "stream": "stderr",
       "text": [
        "WARNING:sarpy.io.Adata_classes:Could not load AData\n"
       ]
      },
      {
       "output_type": "stream",
       "stream": "stderr",
       "text": [
        "WARNING:sarpy.io.Adata_classes:Need precisely one parameter file *json, found: []\n"
       ]
      },
      {
       "output_type": "stream",
       "stream": "stderr",
       "text": [
        "WARNING:sarpy.io.Adata_classes:Could not load AData\n"
       ]
      },
      {
       "output_type": "stream",
       "stream": "stderr",
       "text": [
        "WARNING:sarpy.io.Adata_classes:Need precisely one parameter file *json, found: []\n"
       ]
      },
      {
       "output_type": "stream",
       "stream": "stderr",
       "text": [
        "WARNING:sarpy.io.Adata_classes:Could not load AData\n"
       ]
      },
      {
       "output_type": "stream",
       "stream": "stderr",
       "text": [
        "WARNING:sarpy.io.Adata_classes:Need precisely one parameter file *json, found: []\n"
       ]
      },
      {
       "output_type": "stream",
       "stream": "stderr",
       "text": [
        "WARNING:sarpy.io.Adata_classes:Could not load AData\n"
       ]
      },
      {
       "output_type": "stream",
       "stream": "stderr",
       "text": [
        "WARNING:sarpy.io.Adata_classes:Need precisely one parameter file *json, found: []\n"
       ]
      },
      {
       "output_type": "stream",
       "stream": "stderr",
       "text": [
        "WARNING:sarpy.io.Adata_classes:Could not load AData\n"
       ]
      },
      {
       "output_type": "stream",
       "stream": "stderr",
       "text": [
        "WARNING:sarpy.io.Adata_classes:Need precisely one parameter file *json, found: []\n"
       ]
      },
      {
       "output_type": "stream",
       "stream": "stderr",
       "text": [
        "WARNING:sarpy.io.Adata_classes:Could not load AData\n"
       ]
      },
      {
       "output_type": "stream",
       "stream": "stderr",
       "text": [
        "WARNING:sarpy.io.Adata_classes:Need precisely one parameter file *json, found: []\n"
       ]
      },
      {
       "output_type": "stream",
       "stream": "stderr",
       "text": [
        "WARNING:sarpy.io.Adata_classes:Could not load AData\n"
       ]
      },
      {
       "output_type": "stream",
       "stream": "stderr",
       "text": [
        "WARNING:sarpy.io.Adata_classes:Need precisely one parameter file *json, found: []\n"
       ]
      },
      {
       "output_type": "stream",
       "stream": "stderr",
       "text": [
        "WARNING:sarpy.io.Adata_classes:Could not load AData\n"
       ]
      },
      {
       "output_type": "stream",
       "stream": "stderr",
       "text": [
        "WARNING:sarpy.io.Adata_classes:Need precisely one parameter file *json, found: []\n"
       ]
      },
      {
       "output_type": "stream",
       "stream": "stderr",
       "text": [
        "WARNING:sarpy.io.Adata_classes:Could not load AData\n"
       ]
      },
      {
       "output_type": "stream",
       "stream": "stderr",
       "text": [
        "WARNING:sarpy.io.Adata_classes:Need precisely one parameter file *json, found: []\n"
       ]
      },
      {
       "output_type": "stream",
       "stream": "stderr",
       "text": [
        "WARNING:sarpy.io.Adata_classes:Could not load AData\n"
       ]
      },
      {
       "output_type": "stream",
       "stream": "stderr",
       "text": [
        "WARNING:sarpy.io.Adata_classes:Need precisely one parameter file *json, found: []\n"
       ]
      },
      {
       "output_type": "stream",
       "stream": "stderr",
       "text": [
        "WARNING:sarpy.io.Adata_classes:Could not load AData\n"
       ]
      },
      {
       "output_type": "stream",
       "stream": "stderr",
       "text": [
        "WARNING:sarpy.io.Adata_classes:Need precisely one parameter file *json, found: []\n"
       ]
      },
      {
       "output_type": "stream",
       "stream": "stderr",
       "text": [
        "WARNING:sarpy.io.Adata_classes:Could not load AData\n"
       ]
      },
      {
       "output_type": "stream",
       "stream": "stderr",
       "text": [
        "WARNING:sarpy.io.Adata_classes:Need precisely one parameter file *json, found: []\n"
       ]
      },
      {
       "output_type": "stream",
       "stream": "stderr",
       "text": [
        "WARNING:sarpy.io.Adata_classes:Could not load AData\n"
       ]
      },
      {
       "output_type": "stream",
       "stream": "stderr",
       "text": [
        "WARNING:sarpy.io.Adata_classes:Need precisely one parameter file *json, found: []\n"
       ]
      },
      {
       "output_type": "stream",
       "stream": "stderr",
       "text": [
        "WARNING:sarpy.io.Adata_classes:Could not load AData\n"
       ]
      },
      {
       "output_type": "stream",
       "stream": "stderr",
       "text": [
        "WARNING:sarpy.io.Adata_classes:Need precisely one parameter file *json, found: []\n"
       ]
      },
      {
       "output_type": "stream",
       "stream": "stderr",
       "text": [
        "WARNING:sarpy.io.Adata_classes:Could not load AData\n"
       ]
      },
      {
       "output_type": "stream",
       "stream": "stderr",
       "text": [
        "WARNING:sarpy.io.Adata_classes:Need precisely one parameter file *json, found: []\n"
       ]
      },
      {
       "output_type": "stream",
       "stream": "stderr",
       "text": [
        "WARNING:sarpy.io.Adata_classes:Could not load AData\n"
       ]
      },
      {
       "output_type": "stream",
       "stream": "stderr",
       "text": [
        "WARNING:sarpy.io.Adata_classes:Need precisely one parameter file *json, found: []\n"
       ]
      },
      {
       "output_type": "stream",
       "stream": "stderr",
       "text": [
        "WARNING:sarpy.io.Adata_classes:Could not load AData\n"
       ]
      },
      {
       "output_type": "stream",
       "stream": "stderr",
       "text": [
        "WARNING:sarpy.io.Adata_classes:Need precisely one parameter file *json, found: []\n"
       ]
      },
      {
       "output_type": "stream",
       "stream": "stderr",
       "text": [
        "WARNING:sarpy.io.Adata_classes:Could not load AData\n"
       ]
      },
      {
       "output_type": "stream",
       "stream": "stderr",
       "text": [
        "WARNING:sarpy.io.Adata_classes:Need precisely one parameter file *json, found: []\n"
       ]
      },
      {
       "output_type": "stream",
       "stream": "stderr",
       "text": [
        "WARNING:sarpy.io.Adata_classes:Could not load AData\n"
       ]
      },
      {
       "output_type": "stream",
       "stream": "stderr",
       "text": [
        "WARNING:sarpy.io.Adata_classes:Need precisely one parameter file *json, found: []\n"
       ]
      },
      {
       "output_type": "stream",
       "stream": "stderr",
       "text": [
        "WARNING:sarpy.io.Adata_classes:Could not load AData\n"
       ]
      },
      {
       "output_type": "stream",
       "stream": "stderr",
       "text": [
        "WARNING:sarpy.io.Adata_classes:Need precisely one parameter file *json, found: []\n"
       ]
      },
      {
       "output_type": "stream",
       "stream": "stderr",
       "text": [
        "WARNING:sarpy.io.Adata_classes:Could not load AData\n"
       ]
      },
      {
       "output_type": "stream",
       "stream": "stderr",
       "text": [
        "WARNING:sarpy.io.Adata_classes:Need precisely one parameter file *json, found: []\n"
       ]
      },
      {
       "output_type": "stream",
       "stream": "stderr",
       "text": [
        "WARNING:sarpy.io.Adata_classes:Could not load AData\n"
       ]
      },
      {
       "output_type": "stream",
       "stream": "stderr",
       "text": [
        "WARNING:sarpy.io.Adata_classes:Need precisely one parameter file *json, found: []\n"
       ]
      },
      {
       "output_type": "stream",
       "stream": "stderr",
       "text": [
        "WARNING:sarpy.io.Adata_classes:Could not load AData\n"
       ]
      },
      {
       "output_type": "stream",
       "stream": "stderr",
       "text": [
        "WARNING:sarpy.io.Adata_classes:Need precisely one parameter file *json, found: []\n"
       ]
      },
      {
       "output_type": "stream",
       "stream": "stderr",
       "text": [
        "WARNING:sarpy.io.Adata_classes:Could not load AData\n"
       ]
      },
      {
       "output_type": "stream",
       "stream": "stderr",
       "text": [
        "WARNING:sarpy.io.Adata_classes:Need precisely one parameter file *json, found: []\n"
       ]
      },
      {
       "output_type": "stream",
       "stream": "stderr",
       "text": [
        "WARNING:sarpy.io.Adata_classes:Could not load AData\n"
       ]
      },
      {
       "output_type": "stream",
       "stream": "stderr",
       "text": [
        "WARNING:sarpy.io.Adata_classes:Need precisely one parameter file *json, found: []\n"
       ]
      },
      {
       "output_type": "stream",
       "stream": "stderr",
       "text": [
        "WARNING:sarpy.io.Adata_classes:Could not load AData\n"
       ]
      },
      {
       "output_type": "stream",
       "stream": "stderr",
       "text": [
        "WARNING:sarpy.io.Adata_classes:Need precisely one parameter file *json, found: []\n"
       ]
      },
      {
       "output_type": "stream",
       "stream": "stderr",
       "text": [
        "WARNING:sarpy.io.Adata_classes:Could not load AData\n"
       ]
      },
      {
       "output_type": "stream",
       "stream": "stderr",
       "text": [
        "WARNING:sarpy.io.Adata_classes:Need precisely one parameter file *json, found: []\n"
       ]
      },
      {
       "output_type": "stream",
       "stream": "stderr",
       "text": [
        "WARNING:sarpy.io.Adata_classes:Could not load AData\n"
       ]
      },
      {
       "output_type": "stream",
       "stream": "stderr",
       "text": [
        "WARNING:sarpy.io.Adata_classes:Need precisely one parameter file *json, found: []\n"
       ]
      },
      {
       "output_type": "stream",
       "stream": "stderr",
       "text": [
        "WARNING:sarpy.io.Adata_classes:Could not load AData\n"
       ]
      },
      {
       "output_type": "stream",
       "stream": "stderr",
       "text": [
        "WARNING:sarpy.io.Adata_classes:Need precisely one parameter file *json, found: []\n"
       ]
      },
      {
       "output_type": "stream",
       "stream": "stderr",
       "text": [
        "WARNING:sarpy.io.Adata_classes:Could not load AData\n"
       ]
      },
      {
       "output_type": "stream",
       "stream": "stderr",
       "text": [
        "WARNING:sarpy.io.Adata_classes:Need precisely one parameter file *json, found: []\n"
       ]
      },
      {
       "output_type": "stream",
       "stream": "stderr",
       "text": [
        "WARNING:sarpy.io.Adata_classes:Could not load AData\n"
       ]
      },
      {
       "output_type": "stream",
       "stream": "stderr",
       "text": [
        "WARNING:sarpy.io.Adata_classes:Need precisely one parameter file *json, found: []\n"
       ]
      },
      {
       "output_type": "stream",
       "stream": "stderr",
       "text": [
        "WARNING:sarpy.io.Adata_classes:Could not load AData\n"
       ]
      },
      {
       "output_type": "stream",
       "stream": "stderr",
       "text": [
        "WARNING:sarpy.io.Adata_classes:Need precisely one parameter file *json, found: []\n"
       ]
      },
      {
       "output_type": "stream",
       "stream": "stderr",
       "text": [
        "WARNING:sarpy.io.Adata_classes:Could not load AData\n"
       ]
      },
      {
       "output_type": "stream",
       "stream": "stderr",
       "text": [
        "WARNING:sarpy.io.Adata_classes:Need precisely one parameter file *json, found: []\n"
       ]
      },
      {
       "output_type": "stream",
       "stream": "stderr",
       "text": [
        "WARNING:sarpy.io.Adata_classes:Could not load AData\n"
       ]
      },
      {
       "output_type": "stream",
       "stream": "stderr",
       "text": [
        "WARNING:sarpy.io.Adata_classes:Need precisely one parameter file *json, found: []\n"
       ]
      },
      {
       "output_type": "stream",
       "stream": "stderr",
       "text": [
        "WARNING:sarpy.io.Adata_classes:Could not load AData\n"
       ]
      },
      {
       "output_type": "stream",
       "stream": "stderr",
       "text": [
        "WARNING:sarpy.io.Adata_classes:Need precisely one parameter file *json, found: []\n"
       ]
      },
      {
       "output_type": "stream",
       "stream": "stderr",
       "text": [
        "WARNING:sarpy.io.Adata_classes:Could not load AData\n"
       ]
      },
      {
       "output_type": "stream",
       "stream": "stderr",
       "text": [
        "WARNING:sarpy.io.Adata_classes:Need precisely one parameter file *json, found: []\n"
       ]
      },
      {
       "output_type": "stream",
       "stream": "stderr",
       "text": [
        "WARNING:sarpy.io.Adata_classes:Could not load AData\n"
       ]
      },
      {
       "output_type": "stream",
       "stream": "stderr",
       "text": [
        "WARNING:sarpy.io.Adata_classes:Need precisely one parameter file *json, found: []\n"
       ]
      },
      {
       "output_type": "stream",
       "stream": "stderr",
       "text": [
        "WARNING:sarpy.io.Adata_classes:Could not load AData\n"
       ]
      },
      {
       "output_type": "stream",
       "stream": "stderr",
       "text": [
        "WARNING:sarpy.io.Adata_classes:Need precisely one parameter file *json, found: []\n"
       ]
      },
      {
       "output_type": "stream",
       "stream": "stderr",
       "text": [
        "WARNING:sarpy.io.Adata_classes:Could not load AData\n"
       ]
      },
      {
       "output_type": "stream",
       "stream": "stderr",
       "text": [
        "WARNING:sarpy.io.Adata_classes:Need precisely one parameter file *json, found: []\n"
       ]
      },
      {
       "output_type": "stream",
       "stream": "stderr",
       "text": [
        "WARNING:sarpy.io.Adata_classes:Could not load AData\n"
       ]
      },
      {
       "output_type": "stream",
       "stream": "stderr",
       "text": [
        "WARNING:sarpy.io.Adata_classes:Need precisely one parameter file *json, found: []\n"
       ]
      },
      {
       "output_type": "stream",
       "stream": "stderr",
       "text": [
        "WARNING:sarpy.io.Adata_classes:Could not load AData\n"
       ]
      },
      {
       "output_type": "stream",
       "stream": "stderr",
       "text": [
        "WARNING:sarpy.io.Adata_classes:Need precisely one parameter file *json, found: []\n"
       ]
      },
      {
       "output_type": "stream",
       "stream": "stderr",
       "text": [
        "WARNING:sarpy.io.Adata_classes:Could not load AData\n"
       ]
      },
      {
       "output_type": "stream",
       "stream": "stderr",
       "text": [
        "WARNING:sarpy.io.Adata_classes:Need precisely one parameter file *json, found: []\n"
       ]
      },
      {
       "output_type": "stream",
       "stream": "stderr",
       "text": [
        "WARNING:sarpy.io.Adata_classes:Could not load AData\n"
       ]
      },
      {
       "output_type": "stream",
       "stream": "stderr",
       "text": [
        "WARNING:sarpy.io.Adata_classes:Need precisely one parameter file *json, found: []\n"
       ]
      },
      {
       "output_type": "stream",
       "stream": "stderr",
       "text": [
        "WARNING:sarpy.io.Adata_classes:Could not load AData\n"
       ]
      },
      {
       "output_type": "stream",
       "stream": "stderr",
       "text": [
        "WARNING:sarpy.io.Adata_classes:Need precisely one parameter file *json, found: []\n"
       ]
      },
      {
       "output_type": "stream",
       "stream": "stderr",
       "text": [
        "WARNING:sarpy.io.Adata_classes:Could not load AData\n"
       ]
      },
      {
       "output_type": "stream",
       "stream": "stderr",
       "text": [
        "WARNING:sarpy.io.Adata_classes:Need precisely one parameter file *json, found: []\n"
       ]
      },
      {
       "output_type": "stream",
       "stream": "stderr",
       "text": [
        "WARNING:sarpy.io.Adata_classes:Could not load AData\n"
       ]
      },
      {
       "output_type": "stream",
       "stream": "stderr",
       "text": [
        "WARNING:sarpy.io.Adata_classes:Need precisely one parameter file *json, found: []\n"
       ]
      },
      {
       "output_type": "stream",
       "stream": "stderr",
       "text": [
        "WARNING:sarpy.io.Adata_classes:Could not load AData\n"
       ]
      },
      {
       "output_type": "stream",
       "stream": "stderr",
       "text": [
        "WARNING:sarpy.io.Adata_classes:Need precisely one parameter file *json, found: []\n"
       ]
      },
      {
       "output_type": "stream",
       "stream": "stderr",
       "text": [
        "WARNING:sarpy.io.Adata_classes:Could not load AData\n"
       ]
      },
      {
       "output_type": "stream",
       "stream": "stderr",
       "text": [
        "WARNING:sarpy.io.Adata_classes:Need precisely one parameter file *json, found: []\n"
       ]
      },
      {
       "output_type": "stream",
       "stream": "stderr",
       "text": [
        "WARNING:sarpy.io.Adata_classes:Could not load AData\n"
       ]
      },
      {
       "output_type": "stream",
       "stream": "stderr",
       "text": [
        "WARNING:sarpy.io.Adata_classes:Need precisely one parameter file *json, found: []\n"
       ]
      },
      {
       "output_type": "stream",
       "stream": "stderr",
       "text": [
        "WARNING:sarpy.io.Adata_classes:Could not load AData\n"
       ]
      },
      {
       "output_type": "stream",
       "stream": "stderr",
       "text": [
        "WARNING:sarpy.io.Adata_classes:Need precisely one parameter file *json, found: []\n"
       ]
      },
      {
       "output_type": "stream",
       "stream": "stderr",
       "text": [
        "WARNING:sarpy.io.Adata_classes:Could not load AData\n"
       ]
      },
      {
       "output_type": "stream",
       "stream": "stderr",
       "text": [
        "WARNING:sarpy.io.Adata_classes:Need precisely one parameter file *json, found: []\n"
       ]
      },
      {
       "output_type": "stream",
       "stream": "stderr",
       "text": [
        "WARNING:sarpy.io.Adata_classes:Could not load AData\n"
       ]
      },
      {
       "output_type": "stream",
       "stream": "stderr",
       "text": [
        "WARNING:sarpy.io.Adata_classes:Need precisely one parameter file *json, found: []\n"
       ]
      },
      {
       "output_type": "stream",
       "stream": "stderr",
       "text": [
        "WARNING:sarpy.io.Adata_classes:Could not load AData\n"
       ]
      },
      {
       "output_type": "stream",
       "stream": "stderr",
       "text": [
        "WARNING:sarpy.io.Adata_classes:Need precisely one parameter file *json, found: []\n"
       ]
      },
      {
       "output_type": "stream",
       "stream": "stderr",
       "text": [
        "WARNING:sarpy.io.Adata_classes:Could not load AData\n"
       ]
      },
      {
       "output_type": "stream",
       "stream": "stderr",
       "text": [
        "WARNING:sarpy.io.Adata_classes:Need precisely one parameter file *json, found: []\n"
       ]
      },
      {
       "output_type": "stream",
       "stream": "stderr",
       "text": [
        "WARNING:sarpy.io.Adata_classes:Could not load AData\n"
       ]
      },
      {
       "output_type": "stream",
       "stream": "stderr",
       "text": [
        "WARNING:sarpy.io.Adata_classes:Need precisely one parameter file *json, found: []\n"
       ]
      },
      {
       "output_type": "stream",
       "stream": "stderr",
       "text": [
        "WARNING:sarpy.io.Adata_classes:Could not load AData\n"
       ]
      },
      {
       "output_type": "stream",
       "stream": "stderr",
       "text": [
        "WARNING:sarpy.io.Adata_classes:Need precisely one parameter file *json, found: []\n"
       ]
      },
      {
       "output_type": "stream",
       "stream": "stderr",
       "text": [
        "WARNING:sarpy.io.Adata_classes:Could not load AData\n"
       ]
      },
      {
       "output_type": "stream",
       "stream": "stderr",
       "text": [
        "WARNING:sarpy.io.Adata_classes:Need precisely one parameter file *json, found: []\n"
       ]
      },
      {
       "output_type": "stream",
       "stream": "stderr",
       "text": [
        "WARNING:sarpy.io.Adata_classes:Could not load AData\n"
       ]
      },
      {
       "output_type": "stream",
       "stream": "stderr",
       "text": [
        "WARNING:sarpy.io.Adata_classes:Need precisely one parameter file *json, found: []\n"
       ]
      },
      {
       "output_type": "stream",
       "stream": "stderr",
       "text": [
        "WARNING:sarpy.io.Adata_classes:Could not load AData\n"
       ]
      },
      {
       "output_type": "stream",
       "stream": "stderr",
       "text": [
        "WARNING:sarpy.io.Adata_classes:Need precisely one parameter file *json, found: []\n"
       ]
      },
      {
       "output_type": "stream",
       "stream": "stderr",
       "text": [
        "WARNING:sarpy.io.Adata_classes:Could not load AData\n"
       ]
      },
      {
       "output_type": "stream",
       "stream": "stderr",
       "text": [
        "WARNING:sarpy.io.Adata_classes:Need precisely one parameter file *json, found: []\n"
       ]
      },
      {
       "output_type": "stream",
       "stream": "stderr",
       "text": [
        "WARNING:sarpy.io.Adata_classes:Could not load AData\n"
       ]
      },
      {
       "output_type": "stream",
       "stream": "stderr",
       "text": [
        "WARNING:sarpy.io.Adata_classes:Need precisely one parameter file *json, found: []\n"
       ]
      },
      {
       "output_type": "stream",
       "stream": "stderr",
       "text": [
        "WARNING:sarpy.io.Adata_classes:Could not load AData\n"
       ]
      },
      {
       "output_type": "stream",
       "stream": "stderr",
       "text": [
        "WARNING:sarpy.io.Adata_classes:Need precisely one parameter file *json, found: []\n"
       ]
      },
      {
       "output_type": "stream",
       "stream": "stderr",
       "text": [
        "WARNING:sarpy.io.Adata_classes:Could not load AData\n"
       ]
      },
      {
       "output_type": "stream",
       "stream": "stderr",
       "text": [
        "WARNING:sarpy.io.Adata_classes:Need precisely one parameter file *json, found: []\n"
       ]
      },
      {
       "output_type": "stream",
       "stream": "stderr",
       "text": [
        "WARNING:sarpy.io.Adata_classes:Could not load AData\n"
       ]
      },
      {
       "output_type": "stream",
       "stream": "stderr",
       "text": [
        "WARNING:sarpy.io.Adata_classes:Need precisely one parameter file *json, found: []\n"
       ]
      },
      {
       "output_type": "stream",
       "stream": "stderr",
       "text": [
        "WARNING:sarpy.io.Adata_classes:Could not load AData\n"
       ]
      },
      {
       "output_type": "stream",
       "stream": "stderr",
       "text": [
        "WARNING:sarpy.io.Adata_classes:Need precisely one parameter file *json, found: []\n"
       ]
      },
      {
       "output_type": "stream",
       "stream": "stderr",
       "text": [
        "WARNING:sarpy.io.Adata_classes:Could not load AData\n"
       ]
      },
      {
       "output_type": "stream",
       "stream": "stderr",
       "text": [
        "WARNING:sarpy.io.Adata_classes:Need precisely one parameter file *json, found: []\n"
       ]
      },
      {
       "output_type": "stream",
       "stream": "stderr",
       "text": [
        "WARNING:sarpy.io.Adata_classes:Could not load AData\n"
       ]
      },
      {
       "output_type": "stream",
       "stream": "stderr",
       "text": [
        "WARNING:sarpy.io.Adata_classes:Need precisely one parameter file *json, found: []\n"
       ]
      },
      {
       "output_type": "stream",
       "stream": "stderr",
       "text": [
        "WARNING:sarpy.io.Adata_classes:Could not load AData\n"
       ]
      },
      {
       "output_type": "stream",
       "stream": "stderr",
       "text": [
        "WARNING:sarpy.io.Adata_classes:Need precisely one parameter file *json, found: []\n"
       ]
      },
      {
       "output_type": "stream",
       "stream": "stderr",
       "text": [
        "WARNING:sarpy.io.Adata_classes:Could not load AData\n"
       ]
      },
      {
       "output_type": "stream",
       "stream": "stderr",
       "text": [
        "WARNING:sarpy.io.Adata_classes:Need precisely one parameter file *json, found: []\n"
       ]
      },
      {
       "output_type": "stream",
       "stream": "stderr",
       "text": [
        "WARNING:sarpy.io.Adata_classes:Could not load AData\n"
       ]
      },
      {
       "output_type": "stream",
       "stream": "stderr",
       "text": [
        "WARNING:sarpy.io.Adata_classes:Need precisely one parameter file *json, found: []\n"
       ]
      },
      {
       "output_type": "stream",
       "stream": "stderr",
       "text": [
        "WARNING:sarpy.io.Adata_classes:Could not load AData\n"
       ]
      },
      {
       "output_type": "stream",
       "stream": "stderr",
       "text": [
        "WARNING:sarpy.io.Adata_classes:Need precisely one parameter file *json, found: []\n"
       ]
      },
      {
       "output_type": "stream",
       "stream": "stderr",
       "text": [
        "WARNING:sarpy.io.Adata_classes:Could not load AData\n"
       ]
      },
      {
       "output_type": "stream",
       "stream": "stderr",
       "text": [
        "WARNING:sarpy.io.Adata_classes:Need precisely one parameter file *json, found: []\n"
       ]
      },
      {
       "output_type": "stream",
       "stream": "stderr",
       "text": [
        "WARNING:sarpy.io.Adata_classes:Could not load AData\n"
       ]
      },
      {
       "output_type": "stream",
       "stream": "stderr",
       "text": [
        "WARNING:sarpy.io.Adata_classes:Need precisely one parameter file *json, found: []\n"
       ]
      },
      {
       "output_type": "stream",
       "stream": "stderr",
       "text": [
        "WARNING:sarpy.io.Adata_classes:Could not load AData\n"
       ]
      },
      {
       "output_type": "stream",
       "stream": "stderr",
       "text": [
        "WARNING:sarpy.io.Adata_classes:Need precisely one parameter file *json, found: []\n"
       ]
      },
      {
       "output_type": "stream",
       "stream": "stderr",
       "text": [
        "WARNING:sarpy.io.Adata_classes:Could not load AData\n"
       ]
      },
      {
       "output_type": "stream",
       "stream": "stderr",
       "text": [
        "WARNING:sarpy.io.Adata_classes:Need precisely one parameter file *json, found: []\n"
       ]
      },
      {
       "output_type": "stream",
       "stream": "stderr",
       "text": [
        "WARNING:sarpy.io.Adata_classes:Could not load AData\n"
       ]
      },
      {
       "output_type": "stream",
       "stream": "stderr",
       "text": [
        "WARNING:sarpy.io.Adata_classes:Need precisely one parameter file *json, found: []\n"
       ]
      },
      {
       "output_type": "stream",
       "stream": "stderr",
       "text": [
        "WARNING:sarpy.io.Adata_classes:Could not load AData\n"
       ]
      },
      {
       "output_type": "stream",
       "stream": "stderr",
       "text": [
        "WARNING:sarpy.io.Adata_classes:Need precisely one parameter file *json, found: []\n"
       ]
      },
      {
       "output_type": "stream",
       "stream": "stderr",
       "text": [
        "WARNING:sarpy.io.Adata_classes:Could not load AData\n"
       ]
      },
      {
       "output_type": "stream",
       "stream": "stderr",
       "text": [
        "WARNING:sarpy.io.Adata_classes:Need precisely one parameter file *json, found: []\n"
       ]
      },
      {
       "output_type": "stream",
       "stream": "stderr",
       "text": [
        "WARNING:sarpy.io.Adata_classes:Could not load AData\n"
       ]
      },
      {
       "output_type": "stream",
       "stream": "stderr",
       "text": [
        "WARNING:sarpy.io.Adata_classes:Need precisely one parameter file *json, found: []\n"
       ]
      },
      {
       "output_type": "stream",
       "stream": "stderr",
       "text": [
        "WARNING:sarpy.io.Adata_classes:Could not load AData\n"
       ]
      },
      {
       "output_type": "stream",
       "stream": "stderr",
       "text": [
        "WARNING:sarpy.io.Adata_classes:Need precisely one parameter file *json, found: []\n"
       ]
      },
      {
       "output_type": "stream",
       "stream": "stderr",
       "text": [
        "WARNING:sarpy.io.Adata_classes:Could not load AData\n"
       ]
      },
      {
       "output_type": "stream",
       "stream": "stderr",
       "text": [
        "WARNING:sarpy.io.Adata_classes:Need precisely one parameter file *json, found: []\n"
       ]
      },
      {
       "output_type": "stream",
       "stream": "stderr",
       "text": [
        "WARNING:sarpy.io.Adata_classes:Could not load AData\n"
       ]
      },
      {
       "output_type": "stream",
       "stream": "stderr",
       "text": [
        "WARNING:sarpy.io.Adata_classes:Need precisely one parameter file *json, found: []\n"
       ]
      },
      {
       "output_type": "stream",
       "stream": "stderr",
       "text": [
        "WARNING:sarpy.io.Adata_classes:Could not load AData\n"
       ]
      },
      {
       "output_type": "stream",
       "stream": "stderr",
       "text": [
        "WARNING:sarpy.io.Adata_classes:Need precisely one parameter file *json, found: []\n"
       ]
      },
      {
       "output_type": "stream",
       "stream": "stderr",
       "text": [
        "WARNING:sarpy.io.Adata_classes:Could not load AData\n"
       ]
      },
      {
       "output_type": "stream",
       "stream": "stderr",
       "text": [
        "WARNING:sarpy.io.Adata_classes:Need precisely one parameter file *json, found: []\n"
       ]
      },
      {
       "output_type": "stream",
       "stream": "stderr",
       "text": [
        "WARNING:sarpy.io.Adata_classes:Could not load AData\n"
       ]
      },
      {
       "output_type": "stream",
       "stream": "stderr",
       "text": [
        "WARNING:sarpy.io.Adata_classes:Need precisely one parameter file *json, found: []\n"
       ]
      },
      {
       "output_type": "stream",
       "stream": "stderr",
       "text": [
        "WARNING:sarpy.io.Adata_classes:Could not load AData\n"
       ]
      },
      {
       "output_type": "stream",
       "stream": "stderr",
       "text": [
        "WARNING:sarpy.io.Adata_classes:Need precisely one parameter file *json, found: []\n"
       ]
      },
      {
       "output_type": "stream",
       "stream": "stderr",
       "text": [
        "WARNING:sarpy.io.Adata_classes:Could not load AData\n"
       ]
      },
      {
       "output_type": "stream",
       "stream": "stderr",
       "text": [
        "WARNING:sarpy.io.Adata_classes:Need precisely one parameter file *json, found: []\n"
       ]
      },
      {
       "output_type": "stream",
       "stream": "stderr",
       "text": [
        "WARNING:sarpy.io.Adata_classes:Could not load AData\n"
       ]
      },
      {
       "output_type": "stream",
       "stream": "stderr",
       "text": [
        "WARNING:sarpy.io.Adata_classes:Need precisely one parameter file *json, found: []\n"
       ]
      },
      {
       "output_type": "stream",
       "stream": "stderr",
       "text": [
        "WARNING:sarpy.io.Adata_classes:Could not load AData\n"
       ]
      },
      {
       "output_type": "stream",
       "stream": "stderr",
       "text": [
        "WARNING:sarpy.io.Adata_classes:Need precisely one parameter file *json, found: []\n"
       ]
      },
      {
       "output_type": "stream",
       "stream": "stderr",
       "text": [
        "WARNING:sarpy.io.Adata_classes:Could not load AData\n"
       ]
      },
      {
       "output_type": "stream",
       "stream": "stderr",
       "text": [
        "WARNING:sarpy.io.Adata_classes:Need precisely one parameter file *json, found: []\n"
       ]
      },
      {
       "output_type": "stream",
       "stream": "stderr",
       "text": [
        "WARNING:sarpy.io.Adata_classes:Could not load AData\n"
       ]
      },
      {
       "output_type": "stream",
       "stream": "stderr",
       "text": [
        "WARNING:sarpy.io.Adata_classes:Need precisely one parameter file *json, found: []\n"
       ]
      },
      {
       "output_type": "stream",
       "stream": "stderr",
       "text": [
        "WARNING:sarpy.io.Adata_classes:Could not load AData\n"
       ]
      },
      {
       "output_type": "stream",
       "stream": "stderr",
       "text": [
        "WARNING:sarpy.io.Adata_classes:Need precisely one parameter file *json, found: []\n"
       ]
      },
      {
       "output_type": "stream",
       "stream": "stderr",
       "text": [
        "WARNING:sarpy.io.Adata_classes:Could not load AData\n"
       ]
      },
      {
       "output_type": "stream",
       "stream": "stderr",
       "text": [
        "WARNING:sarpy.io.Adata_classes:Need precisely one parameter file *json, found: []\n"
       ]
      },
      {
       "output_type": "stream",
       "stream": "stderr",
       "text": [
        "WARNING:sarpy.io.Adata_classes:Could not load AData\n"
       ]
      },
      {
       "output_type": "stream",
       "stream": "stderr",
       "text": [
        "WARNING:sarpy.io.Adata_classes:Need precisely one parameter file *json, found: []\n"
       ]
      },
      {
       "output_type": "stream",
       "stream": "stderr",
       "text": [
        "WARNING:sarpy.io.Adata_classes:Could not load AData\n"
       ]
      },
      {
       "output_type": "stream",
       "stream": "stderr",
       "text": [
        "WARNING:sarpy.io.Adata_classes:Need precisely one parameter file *json, found: []\n"
       ]
      },
      {
       "output_type": "stream",
       "stream": "stderr",
       "text": [
        "WARNING:sarpy.io.Adata_classes:Could not load AData\n"
       ]
      },
      {
       "output_type": "stream",
       "stream": "stderr",
       "text": [
        "WARNING:sarpy.io.Adata_classes:Need precisely one parameter file *json, found: []\n"
       ]
      },
      {
       "output_type": "stream",
       "stream": "stderr",
       "text": [
        "WARNING:sarpy.io.Adata_classes:Could not load AData\n"
       ]
      },
      {
       "output_type": "stream",
       "stream": "stderr",
       "text": [
        "WARNING:sarpy.io.Adata_classes:Need precisely one parameter file *json, found: []\n"
       ]
      },
      {
       "output_type": "stream",
       "stream": "stderr",
       "text": [
        "WARNING:sarpy.io.Adata_classes:Could not load AData\n"
       ]
      },
      {
       "output_type": "stream",
       "stream": "stderr",
       "text": [
        "WARNING:sarpy.io.Adata_classes:Need precisely one parameter file *json, found: []\n"
       ]
      },
      {
       "output_type": "stream",
       "stream": "stderr",
       "text": [
        "WARNING:sarpy.io.Adata_classes:Could not load AData\n"
       ]
      },
      {
       "output_type": "stream",
       "stream": "stderr",
       "text": [
        "WARNING:sarpy.io.Adata_classes:Need precisely one parameter file *json, found: []\n"
       ]
      },
      {
       "output_type": "stream",
       "stream": "stderr",
       "text": [
        "WARNING:sarpy.io.Adata_classes:Could not load AData\n"
       ]
      },
      {
       "output_type": "stream",
       "stream": "stderr",
       "text": [
        "WARNING:sarpy.io.Adata_classes:Need precisely one parameter file *json, found: []\n"
       ]
      },
      {
       "output_type": "stream",
       "stream": "stderr",
       "text": [
        "WARNING:sarpy.io.Adata_classes:Could not load AData\n"
       ]
      },
      {
       "output_type": "stream",
       "stream": "stderr",
       "text": [
        "WARNING:sarpy.io.Adata_classes:Need precisely one parameter file *json, found: []\n"
       ]
      },
      {
       "output_type": "stream",
       "stream": "stderr",
       "text": [
        "WARNING:sarpy.io.Adata_classes:Could not load AData\n"
       ]
      },
      {
       "output_type": "stream",
       "stream": "stderr",
       "text": [
        "WARNING:sarpy.io.Adata_classes:Need precisely one parameter file *json, found: []\n"
       ]
      },
      {
       "output_type": "stream",
       "stream": "stderr",
       "text": [
        "WARNING:sarpy.io.Adata_classes:Could not load AData\n"
       ]
      },
      {
       "output_type": "stream",
       "stream": "stderr",
       "text": [
        "WARNING:sarpy.io.Adata_classes:Need precisely one parameter file *json, found: []\n"
       ]
      },
      {
       "output_type": "stream",
       "stream": "stderr",
       "text": [
        "WARNING:sarpy.io.Adata_classes:Could not load AData\n"
       ]
      },
      {
       "output_type": "stream",
       "stream": "stderr",
       "text": [
        "WARNING:sarpy.io.Adata_classes:Need precisely one parameter file *json, found: []\n"
       ]
      },
      {
       "output_type": "stream",
       "stream": "stderr",
       "text": [
        "WARNING:sarpy.io.Adata_classes:Could not load AData\n"
       ]
      },
      {
       "output_type": "stream",
       "stream": "stderr",
       "text": [
        "WARNING:sarpy.io.Adata_classes:Need precisely one parameter file *json, found: []\n"
       ]
      },
      {
       "output_type": "stream",
       "stream": "stderr",
       "text": [
        "WARNING:sarpy.io.Adata_classes:Could not load AData\n"
       ]
      },
      {
       "output_type": "stream",
       "stream": "stderr",
       "text": [
        "WARNING:sarpy.io.Adata_classes:Need precisely one parameter file *json, found: []\n"
       ]
      },
      {
       "output_type": "stream",
       "stream": "stderr",
       "text": [
        "WARNING:sarpy.io.Adata_classes:Could not load AData\n"
       ]
      },
      {
       "output_type": "stream",
       "stream": "stderr",
       "text": [
        "WARNING:sarpy.io.Adata_classes:Need precisely one parameter file *json, found: []\n"
       ]
      },
      {
       "output_type": "stream",
       "stream": "stderr",
       "text": [
        "WARNING:sarpy.io.Adata_classes:Could not load AData\n"
       ]
      },
      {
       "output_type": "stream",
       "stream": "stderr",
       "text": [
        "WARNING:sarpy.io.Adata_classes:Need precisely one parameter file *json, found: []\n"
       ]
      },
      {
       "output_type": "stream",
       "stream": "stderr",
       "text": [
        "WARNING:sarpy.io.Adata_classes:Could not load AData\n"
       ]
      },
      {
       "output_type": "stream",
       "stream": "stderr",
       "text": [
        "WARNING:sarpy.io.Adata_classes:Need precisely one parameter file *json, found: []\n"
       ]
      },
      {
       "output_type": "stream",
       "stream": "stderr",
       "text": [
        "WARNING:sarpy.io.Adata_classes:Could not load AData\n"
       ]
      },
      {
       "output_type": "stream",
       "stream": "stderr",
       "text": [
        "WARNING:sarpy.io.Adata_classes:Need precisely one parameter file *json, found: []\n"
       ]
      },
      {
       "output_type": "stream",
       "stream": "stderr",
       "text": [
        "WARNING:sarpy.io.Adata_classes:Could not load AData\n"
       ]
      },
      {
       "output_type": "stream",
       "stream": "stderr",
       "text": [
        "WARNING:sarpy.io.Adata_classes:Need precisely one parameter file *json, found: []\n"
       ]
      },
      {
       "output_type": "stream",
       "stream": "stderr",
       "text": [
        "WARNING:sarpy.io.Adata_classes:Could not load AData\n"
       ]
      },
      {
       "output_type": "stream",
       "stream": "stderr",
       "text": [
        "WARNING:sarpy.io.Adata_classes:Need precisely one parameter file *json, found: []\n"
       ]
      },
      {
       "output_type": "stream",
       "stream": "stderr",
       "text": [
        "WARNING:sarpy.io.Adata_classes:Could not load AData\n"
       ]
      },
      {
       "output_type": "stream",
       "stream": "stderr",
       "text": [
        "WARNING:sarpy.io.Adata_classes:Need precisely one parameter file *json, found: []\n"
       ]
      },
      {
       "output_type": "stream",
       "stream": "stderr",
       "text": [
        "WARNING:sarpy.io.Adata_classes:Could not load AData\n"
       ]
      },
      {
       "output_type": "stream",
       "stream": "stderr",
       "text": [
        "WARNING:sarpy.io.Adata_classes:Need precisely one parameter file *json, found: []\n"
       ]
      },
      {
       "output_type": "stream",
       "stream": "stderr",
       "text": [
        "WARNING:sarpy.io.Adata_classes:Could not load AData\n"
       ]
      },
      {
       "output_type": "stream",
       "stream": "stderr",
       "text": [
        "WARNING:sarpy.io.Adata_classes:Need precisely one parameter file *json, found: []\n"
       ]
      },
      {
       "output_type": "stream",
       "stream": "stderr",
       "text": [
        "WARNING:sarpy.io.Adata_classes:Could not load AData\n"
       ]
      },
      {
       "output_type": "stream",
       "stream": "stderr",
       "text": [
        "WARNING:sarpy.io.Adata_classes:Need precisely one parameter file *json, found: []\n"
       ]
      },
      {
       "output_type": "stream",
       "stream": "stderr",
       "text": [
        "WARNING:sarpy.io.Adata_classes:Could not load AData\n"
       ]
      },
      {
       "output_type": "stream",
       "stream": "stderr",
       "text": [
        "WARNING:sarpy.io.Adata_classes:Need precisely one parameter file *json, found: []\n"
       ]
      },
      {
       "output_type": "stream",
       "stream": "stderr",
       "text": [
        "WARNING:sarpy.io.Adata_classes:Could not load AData\n"
       ]
      },
      {
       "output_type": "stream",
       "stream": "stderr",
       "text": [
        "WARNING:sarpy.io.Adata_classes:Need precisely one parameter file *json, found: []\n"
       ]
      },
      {
       "output_type": "stream",
       "stream": "stderr",
       "text": [
        "WARNING:sarpy.io.Adata_classes:Could not load AData\n"
       ]
      },
      {
       "output_type": "stream",
       "stream": "stderr",
       "text": [
        "WARNING:sarpy.io.Adata_classes:Need precisely one parameter file *json, found: []\n"
       ]
      },
      {
       "output_type": "stream",
       "stream": "stderr",
       "text": [
        "WARNING:sarpy.io.Adata_classes:Could not load AData\n"
       ]
      },
      {
       "output_type": "stream",
       "stream": "stderr",
       "text": [
        "WARNING:sarpy.io.Adata_classes:Need precisely one parameter file *json, found: []\n"
       ]
      },
      {
       "output_type": "stream",
       "stream": "stderr",
       "text": [
        "WARNING:sarpy.io.Adata_classes:Could not load AData\n"
       ]
      },
      {
       "output_type": "stream",
       "stream": "stderr",
       "text": [
        "WARNING:sarpy.io.Adata_classes:Need precisely one parameter file *json, found: []\n"
       ]
      },
      {
       "output_type": "stream",
       "stream": "stderr",
       "text": [
        "WARNING:sarpy.io.Adata_classes:Could not load AData\n"
       ]
      },
      {
       "output_type": "stream",
       "stream": "stderr",
       "text": [
        "WARNING:sarpy.io.Adata_classes:Need precisely one parameter file *json, found: []\n"
       ]
      },
      {
       "output_type": "stream",
       "stream": "stderr",
       "text": [
        "WARNING:sarpy.io.Adata_classes:Could not load AData\n"
       ]
      },
      {
       "output_type": "stream",
       "stream": "stderr",
       "text": [
        "WARNING:sarpy.io.Adata_classes:Need precisely one parameter file *json, found: []\n"
       ]
      },
      {
       "output_type": "stream",
       "stream": "stderr",
       "text": [
        "WARNING:sarpy.io.Adata_classes:Could not load AData\n"
       ]
      },
      {
       "output_type": "stream",
       "stream": "stderr",
       "text": [
        "WARNING:sarpy.io.Adata_classes:Need precisely one parameter file *json, found: []\n"
       ]
      },
      {
       "output_type": "stream",
       "stream": "stderr",
       "text": [
        "WARNING:sarpy.io.Adata_classes:Could not load AData\n"
       ]
      },
      {
       "output_type": "stream",
       "stream": "stderr",
       "text": [
        "WARNING:sarpy.io.Adata_classes:Need precisely one parameter file *json, found: []\n"
       ]
      },
      {
       "output_type": "stream",
       "stream": "stderr",
       "text": [
        "WARNING:sarpy.io.Adata_classes:Could not load AData\n"
       ]
      },
      {
       "output_type": "stream",
       "stream": "stderr",
       "text": [
        "WARNING:sarpy.io.Adata_classes:Need precisely one parameter file *json, found: []\n"
       ]
      },
      {
       "output_type": "stream",
       "stream": "stderr",
       "text": [
        "WARNING:sarpy.io.Adata_classes:Could not load AData\n"
       ]
      },
      {
       "output_type": "stream",
       "stream": "stderr",
       "text": [
        "WARNING:sarpy.io.Adata_classes:Need precisely one parameter file *json, found: []\n"
       ]
      },
      {
       "output_type": "stream",
       "stream": "stderr",
       "text": [
        "WARNING:sarpy.io.Adata_classes:Could not load AData\n"
       ]
      },
      {
       "output_type": "stream",
       "stream": "stderr",
       "text": [
        "WARNING:sarpy.io.Adata_classes:Need precisely one parameter file *json, found: []\n"
       ]
      },
      {
       "output_type": "stream",
       "stream": "stderr",
       "text": [
        "WARNING:sarpy.io.Adata_classes:Could not load AData\n"
       ]
      },
      {
       "output_type": "stream",
       "stream": "stderr",
       "text": [
        "WARNING:sarpy.io.Adata_classes:Need precisely one parameter file *json, found: []\n"
       ]
      },
      {
       "output_type": "stream",
       "stream": "stderr",
       "text": [
        "WARNING:sarpy.io.Adata_classes:Could not load AData\n"
       ]
      },
      {
       "output_type": "stream",
       "stream": "stderr",
       "text": [
        "WARNING:sarpy.io.Adata_classes:Need precisely one parameter file *json, found: []\n"
       ]
      },
      {
       "output_type": "stream",
       "stream": "stderr",
       "text": [
        "WARNING:sarpy.io.Adata_classes:Could not load AData\n"
       ]
      },
      {
       "output_type": "stream",
       "stream": "stderr",
       "text": [
        "WARNING:sarpy.io.Adata_classes:Need precisely one parameter file *json, found: []\n"
       ]
      },
      {
       "output_type": "stream",
       "stream": "stderr",
       "text": [
        "WARNING:sarpy.io.Adata_classes:Could not load AData\n"
       ]
      },
      {
       "output_type": "stream",
       "stream": "stderr",
       "text": [
        "WARNING:sarpy.io.Adata_classes:Need precisely one parameter file *json, found: []\n"
       ]
      },
      {
       "output_type": "stream",
       "stream": "stderr",
       "text": [
        "WARNING:sarpy.io.Adata_classes:Could not load AData\n"
       ]
      },
      {
       "output_type": "stream",
       "stream": "stderr",
       "text": [
        "WARNING:sarpy.io.Adata_classes:Need precisely one parameter file *json, found: []\n"
       ]
      },
      {
       "output_type": "stream",
       "stream": "stderr",
       "text": [
        "WARNING:sarpy.io.Adata_classes:Could not load AData\n"
       ]
      },
      {
       "output_type": "stream",
       "stream": "stderr",
       "text": [
        "WARNING:sarpy.io.Adata_classes:Need precisely one parameter file *json, found: []\n"
       ]
      },
      {
       "output_type": "stream",
       "stream": "stderr",
       "text": [
        "WARNING:sarpy.io.Adata_classes:Could not load AData\n"
       ]
      },
      {
       "output_type": "stream",
       "stream": "stderr",
       "text": [
        "WARNING:sarpy.io.Adata_classes:Need precisely one parameter file *json, found: []\n"
       ]
      },
      {
       "output_type": "stream",
       "stream": "stderr",
       "text": [
        "WARNING:sarpy.io.Adata_classes:Could not load AData\n"
       ]
      },
      {
       "output_type": "stream",
       "stream": "stderr",
       "text": [
        "WARNING:sarpy.io.Adata_classes:Need precisely one parameter file *json, found: []\n"
       ]
      },
      {
       "output_type": "stream",
       "stream": "stderr",
       "text": [
        "WARNING:sarpy.io.Adata_classes:Could not load AData\n"
       ]
      },
      {
       "output_type": "stream",
       "stream": "stderr",
       "text": [
        "WARNING:sarpy.io.Adata_classes:Need precisely one parameter file *json, found: []\n"
       ]
      },
      {
       "output_type": "stream",
       "stream": "stderr",
       "text": [
        "WARNING:sarpy.io.Adata_classes:Could not load AData\n"
       ]
      },
      {
       "output_type": "stream",
       "stream": "stderr",
       "text": [
        "WARNING:sarpy.io.Adata_classes:Need precisely one parameter file *json, found: []\n"
       ]
      },
      {
       "output_type": "stream",
       "stream": "stderr",
       "text": [
        "WARNING:sarpy.io.Adata_classes:Could not load AData\n"
       ]
      },
      {
       "output_type": "stream",
       "stream": "stderr",
       "text": [
        "WARNING:sarpy.io.Adata_classes:Need precisely one parameter file *json, found: []\n"
       ]
      },
      {
       "output_type": "stream",
       "stream": "stderr",
       "text": [
        "WARNING:sarpy.io.Adata_classes:Could not load AData\n"
       ]
      },
      {
       "output_type": "stream",
       "stream": "stderr",
       "text": [
        "WARNING:sarpy.io.Adata_classes:Need precisely one parameter file *json, found: []\n"
       ]
      },
      {
       "output_type": "stream",
       "stream": "stderr",
       "text": [
        "WARNING:sarpy.io.Adata_classes:Could not load AData\n"
       ]
      },
      {
       "output_type": "stream",
       "stream": "stderr",
       "text": [
        "WARNING:sarpy.io.Adata_classes:Need precisely one parameter file *json, found: []\n"
       ]
      },
      {
       "output_type": "stream",
       "stream": "stderr",
       "text": [
        "WARNING:sarpy.io.Adata_classes:Could not load AData\n"
       ]
      },
      {
       "output_type": "stream",
       "stream": "stderr",
       "text": [
        "WARNING:sarpy.io.Adata_classes:Need precisely one parameter file *json, found: []\n"
       ]
      },
      {
       "output_type": "stream",
       "stream": "stderr",
       "text": [
        "WARNING:sarpy.io.Adata_classes:Could not load AData\n"
       ]
      },
      {
       "output_type": "stream",
       "stream": "stderr",
       "text": [
        "WARNING:sarpy.io.Adata_classes:Need precisely one parameter file *json, found: []\n"
       ]
      },
      {
       "output_type": "stream",
       "stream": "stderr",
       "text": [
        "WARNING:sarpy.io.Adata_classes:Could not load AData\n"
       ]
      },
      {
       "output_type": "stream",
       "stream": "stderr",
       "text": [
        "WARNING:sarpy.io.Adata_classes:Need precisely one parameter file *json, found: []\n"
       ]
      },
      {
       "output_type": "stream",
       "stream": "stderr",
       "text": [
        "WARNING:sarpy.io.Adata_classes:Could not load AData\n"
       ]
      },
      {
       "output_type": "stream",
       "stream": "stderr",
       "text": [
        "WARNING:sarpy.io.Adata_classes:Need precisely one parameter file *json, found: []\n"
       ]
      },
      {
       "output_type": "stream",
       "stream": "stderr",
       "text": [
        "WARNING:sarpy.io.Adata_classes:Could not load AData\n"
       ]
      },
      {
       "output_type": "stream",
       "stream": "stderr",
       "text": [
        "WARNING:sarpy.io.Adata_classes:Need precisely one parameter file *json, found: []\n"
       ]
      },
      {
       "output_type": "stream",
       "stream": "stderr",
       "text": [
        "WARNING:sarpy.io.Adata_classes:Could not load AData\n"
       ]
      },
      {
       "output_type": "stream",
       "stream": "stderr",
       "text": [
        "WARNING:sarpy.io.Adata_classes:Need precisely one parameter file *json, found: []\n"
       ]
      },
      {
       "output_type": "stream",
       "stream": "stderr",
       "text": [
        "WARNING:sarpy.io.Adata_classes:Could not load AData\n"
       ]
      },
      {
       "output_type": "stream",
       "stream": "stderr",
       "text": [
        "WARNING:sarpy.io.Adata_classes:Need precisely one parameter file *json, found: []\n"
       ]
      },
      {
       "output_type": "stream",
       "stream": "stderr",
       "text": [
        "WARNING:sarpy.io.Adata_classes:Could not load AData\n"
       ]
      },
      {
       "output_type": "stream",
       "stream": "stderr",
       "text": [
        "WARNING:sarpy.io.Adata_classes:Need precisely one parameter file *json, found: []\n"
       ]
      },
      {
       "output_type": "stream",
       "stream": "stderr",
       "text": [
        "WARNING:sarpy.io.Adata_classes:Could not load AData\n"
       ]
      },
      {
       "output_type": "stream",
       "stream": "stderr",
       "text": [
        "WARNING:sarpy.io.Adata_classes:Need precisely one parameter file *json, found: []\n"
       ]
      },
      {
       "output_type": "stream",
       "stream": "stderr",
       "text": [
        "WARNING:sarpy.io.Adata_classes:Could not load AData\n"
       ]
      },
      {
       "output_type": "stream",
       "stream": "stderr",
       "text": [
        "WARNING:sarpy.io.Adata_classes:Need precisely one parameter file *json, found: []\n"
       ]
      },
      {
       "output_type": "stream",
       "stream": "stderr",
       "text": [
        "WARNING:sarpy.io.Adata_classes:Could not load AData\n"
       ]
      },
      {
       "output_type": "stream",
       "stream": "stderr",
       "text": [
        "WARNING:sarpy.io.Adata_classes:Need precisely one parameter file *json, found: []\n"
       ]
      },
      {
       "output_type": "stream",
       "stream": "stderr",
       "text": [
        "WARNING:sarpy.io.Adata_classes:Could not load AData\n"
       ]
      },
      {
       "output_type": "stream",
       "stream": "stderr",
       "text": [
        "WARNING:sarpy.io.Adata_classes:Need precisely one parameter file *json, found: []\n"
       ]
      },
      {
       "output_type": "stream",
       "stream": "stderr",
       "text": [
        "WARNING:sarpy.io.Adata_classes:Could not load AData\n"
       ]
      },
      {
       "output_type": "stream",
       "stream": "stderr",
       "text": [
        "WARNING:sarpy.io.Adata_classes:Need precisely one parameter file *json, found: []\n"
       ]
      },
      {
       "output_type": "stream",
       "stream": "stderr",
       "text": [
        "WARNING:sarpy.io.Adata_classes:Could not load AData\n"
       ]
      },
      {
       "output_type": "stream",
       "stream": "stderr",
       "text": [
        "WARNING:sarpy.io.Adata_classes:Need precisely one parameter file *json, found: []\n"
       ]
      },
      {
       "output_type": "stream",
       "stream": "stderr",
       "text": [
        "WARNING:sarpy.io.Adata_classes:Could not load AData\n"
       ]
      },
      {
       "output_type": "stream",
       "stream": "stderr",
       "text": [
        "WARNING:sarpy.io.Adata_classes:Need precisely one parameter file *json, found: []\n"
       ]
      },
      {
       "output_type": "stream",
       "stream": "stderr",
       "text": [
        "WARNING:sarpy.io.Adata_classes:Could not load AData\n"
       ]
      },
      {
       "output_type": "stream",
       "stream": "stderr",
       "text": [
        "WARNING:sarpy.io.Adata_classes:Need precisely one parameter file *json, found: []\n"
       ]
      },
      {
       "output_type": "stream",
       "stream": "stderr",
       "text": [
        "WARNING:sarpy.io.Adata_classes:Could not load AData\n"
       ]
      },
      {
       "output_type": "stream",
       "stream": "stderr",
       "text": [
        "WARNING:sarpy.io.Adata_classes:Need precisely one parameter file *json, found: []\n"
       ]
      },
      {
       "output_type": "stream",
       "stream": "stderr",
       "text": [
        "WARNING:sarpy.io.Adata_classes:Could not load AData\n"
       ]
      },
      {
       "output_type": "stream",
       "stream": "stderr",
       "text": [
        "WARNING:sarpy.io.Adata_classes:Need precisely one parameter file *json, found: []\n"
       ]
      },
      {
       "output_type": "stream",
       "stream": "stderr",
       "text": [
        "WARNING:sarpy.io.Adata_classes:Could not load AData\n"
       ]
      },
      {
       "output_type": "stream",
       "stream": "stderr",
       "text": [
        "WARNING:sarpy.io.Adata_classes:Need precisely one parameter file *json, found: []\n"
       ]
      },
      {
       "output_type": "stream",
       "stream": "stderr",
       "text": [
        "WARNING:sarpy.io.Adata_classes:Could not load AData\n"
       ]
      },
      {
       "output_type": "stream",
       "stream": "stderr",
       "text": [
        "WARNING:sarpy.io.Adata_classes:Need precisely one parameter file *json, found: []\n"
       ]
      },
      {
       "output_type": "stream",
       "stream": "stderr",
       "text": [
        "WARNING:sarpy.io.Adata_classes:Could not load AData\n"
       ]
      },
      {
       "output_type": "stream",
       "stream": "stderr",
       "text": [
        "WARNING:sarpy.io.Adata_classes:Need precisely one parameter file *json, found: []\n"
       ]
      },
      {
       "output_type": "stream",
       "stream": "stderr",
       "text": [
        "WARNING:sarpy.io.Adata_classes:Could not load AData\n"
       ]
      },
      {
       "output_type": "stream",
       "stream": "stderr",
       "text": [
        "WARNING:sarpy.io.Adata_classes:Need precisely one parameter file *json, found: []\n"
       ]
      },
      {
       "output_type": "stream",
       "stream": "stderr",
       "text": [
        "WARNING:sarpy.io.Adata_classes:Could not load AData\n"
       ]
      },
      {
       "output_type": "stream",
       "stream": "stderr",
       "text": [
        "WARNING:sarpy.io.Adata_classes:Need precisely one parameter file *json, found: []\n"
       ]
      },
      {
       "output_type": "stream",
       "stream": "stderr",
       "text": [
        "WARNING:sarpy.io.Adata_classes:Could not load AData\n"
       ]
      },
      {
       "output_type": "stream",
       "stream": "stderr",
       "text": [
        "WARNING:sarpy.io.Adata_classes:Need precisely one parameter file *json, found: []\n"
       ]
      },
      {
       "output_type": "stream",
       "stream": "stderr",
       "text": [
        "WARNING:sarpy.io.Adata_classes:Could not load AData\n"
       ]
      },
      {
       "output_type": "stream",
       "stream": "stderr",
       "text": [
        "WARNING:sarpy.io.Adata_classes:Need precisely one parameter file *json, found: []\n"
       ]
      },
      {
       "output_type": "stream",
       "stream": "stderr",
       "text": [
        "WARNING:sarpy.io.Adata_classes:Could not load AData\n"
       ]
      },
      {
       "output_type": "stream",
       "stream": "stderr",
       "text": [
        "WARNING:sarpy.io.Adata_classes:Need precisely one parameter file *json, found: []\n"
       ]
      },
      {
       "output_type": "stream",
       "stream": "stderr",
       "text": [
        "WARNING:sarpy.io.Adata_classes:Could not load AData\n"
       ]
      },
      {
       "output_type": "stream",
       "stream": "stderr",
       "text": [
        "WARNING:sarpy.io.Adata_classes:Need precisely one parameter file *json, found: []\n"
       ]
      },
      {
       "output_type": "stream",
       "stream": "stderr",
       "text": [
        "WARNING:sarpy.io.Adata_classes:Could not load AData\n"
       ]
      },
      {
       "output_type": "stream",
       "stream": "stderr",
       "text": [
        "WARNING:sarpy.io.Adata_classes:Need precisely one parameter file *json, found: []\n"
       ]
      },
      {
       "output_type": "stream",
       "stream": "stderr",
       "text": [
        "WARNING:sarpy.io.Adata_classes:Could not load AData\n"
       ]
      },
      {
       "output_type": "stream",
       "stream": "stderr",
       "text": [
        "WARNING:sarpy.io.Adata_classes:Need precisely one parameter file *json, found: []\n"
       ]
      },
      {
       "output_type": "stream",
       "stream": "stderr",
       "text": [
        "WARNING:sarpy.io.Adata_classes:Could not load AData\n"
       ]
      },
      {
       "output_type": "stream",
       "stream": "stderr",
       "text": [
        "WARNING:sarpy.io.Adata_classes:Need precisely one parameter file *json, found: []\n"
       ]
      },
      {
       "output_type": "stream",
       "stream": "stderr",
       "text": [
        "WARNING:sarpy.io.Adata_classes:Could not load AData\n"
       ]
      },
      {
       "output_type": "stream",
       "stream": "stderr",
       "text": [
        "WARNING:sarpy.io.Adata_classes:Need precisely one parameter file *json, found: []\n"
       ]
      },
      {
       "output_type": "stream",
       "stream": "stderr",
       "text": [
        "WARNING:sarpy.io.Adata_classes:Could not load AData\n"
       ]
      },
      {
       "output_type": "stream",
       "stream": "stderr",
       "text": [
        "WARNING:sarpy.io.Adata_classes:Need precisely one parameter file *json, found: []\n"
       ]
      },
      {
       "output_type": "stream",
       "stream": "stderr",
       "text": [
        "WARNING:sarpy.io.Adata_classes:Could not load AData\n"
       ]
      },
      {
       "output_type": "stream",
       "stream": "stderr",
       "text": [
        "WARNING:sarpy.io.Adata_classes:Need precisely one parameter file *json, found: []\n"
       ]
      },
      {
       "output_type": "stream",
       "stream": "stderr",
       "text": [
        "WARNING:sarpy.io.Adata_classes:Could not load AData\n"
       ]
      },
      {
       "output_type": "stream",
       "stream": "stderr",
       "text": [
        "WARNING:sarpy.io.Adata_classes:Need precisely one parameter file *json, found: []\n"
       ]
      },
      {
       "output_type": "stream",
       "stream": "stderr",
       "text": [
        "WARNING:sarpy.io.Adata_classes:Could not load AData\n"
       ]
      },
      {
       "output_type": "stream",
       "stream": "stderr",
       "text": [
        "WARNING:sarpy.io.Adata_classes:Need precisely one parameter file *json, found: []\n"
       ]
      },
      {
       "output_type": "stream",
       "stream": "stderr",
       "text": [
        "WARNING:sarpy.io.Adata_classes:Could not load AData\n"
       ]
      },
      {
       "output_type": "stream",
       "stream": "stderr",
       "text": [
        "WARNING:sarpy.io.Adata_classes:Need precisely one parameter file *json, found: []\n"
       ]
      },
      {
       "output_type": "stream",
       "stream": "stderr",
       "text": [
        "WARNING:sarpy.io.Adata_classes:Could not load AData\n"
       ]
      },
      {
       "output_type": "stream",
       "stream": "stderr",
       "text": [
        "WARNING:sarpy.io.Adata_classes:Need precisely one parameter file *json, found: []\n"
       ]
      },
      {
       "output_type": "stream",
       "stream": "stderr",
       "text": [
        "WARNING:sarpy.io.Adata_classes:Could not load AData\n"
       ]
      },
      {
       "output_type": "stream",
       "stream": "stderr",
       "text": [
        "WARNING:sarpy.io.Adata_classes:Need precisely one parameter file *json, found: []\n"
       ]
      },
      {
       "output_type": "stream",
       "stream": "stderr",
       "text": [
        "WARNING:sarpy.io.Adata_classes:Could not load AData\n"
       ]
      },
      {
       "output_type": "stream",
       "stream": "stderr",
       "text": [
        "WARNING:sarpy.io.Adata_classes:Need precisely one parameter file *json, found: []\n"
       ]
      },
      {
       "output_type": "stream",
       "stream": "stderr",
       "text": [
        "WARNING:sarpy.io.Adata_classes:Could not load AData\n"
       ]
      },
      {
       "output_type": "stream",
       "stream": "stderr",
       "text": [
        "WARNING:sarpy.io.Adata_classes:Need precisely one parameter file *json, found: []\n"
       ]
      },
      {
       "output_type": "stream",
       "stream": "stderr",
       "text": [
        "WARNING:sarpy.io.Adata_classes:Could not load AData\n"
       ]
      },
      {
       "output_type": "stream",
       "stream": "stderr",
       "text": [
        "WARNING:sarpy.io.Adata_classes:Need precisely one parameter file *json, found: []\n"
       ]
      },
      {
       "output_type": "stream",
       "stream": "stderr",
       "text": [
        "WARNING:sarpy.io.Adata_classes:Could not load AData\n"
       ]
      },
      {
       "output_type": "stream",
       "stream": "stderr",
       "text": [
        "WARNING:sarpy.io.Adata_classes:Need precisely one parameter file *json, found: []\n"
       ]
      },
      {
       "output_type": "stream",
       "stream": "stderr",
       "text": [
        "WARNING:sarpy.io.Adata_classes:Could not load AData\n"
       ]
      },
      {
       "output_type": "stream",
       "stream": "stderr",
       "text": [
        "WARNING:sarpy.io.Adata_classes:Need precisely one parameter file *json, found: []\n"
       ]
      },
      {
       "output_type": "stream",
       "stream": "stderr",
       "text": [
        "WARNING:sarpy.io.Adata_classes:Could not load AData\n"
       ]
      },
      {
       "output_type": "stream",
       "stream": "stderr",
       "text": [
        "WARNING:sarpy.io.Adata_classes:Need precisely one parameter file *json, found: []\n"
       ]
      },
      {
       "output_type": "stream",
       "stream": "stderr",
       "text": [
        "WARNING:sarpy.io.Adata_classes:Could not load AData\n"
       ]
      },
      {
       "output_type": "stream",
       "stream": "stderr",
       "text": [
        "WARNING:sarpy.io.Adata_classes:Need precisely one parameter file *json, found: []\n"
       ]
      },
      {
       "output_type": "stream",
       "stream": "stderr",
       "text": [
        "WARNING:sarpy.io.Adata_classes:Could not load AData\n"
       ]
      },
      {
       "output_type": "stream",
       "stream": "stderr",
       "text": [
        "WARNING:sarpy.io.Adata_classes:Need precisely one parameter file *json, found: []\n"
       ]
      },
      {
       "output_type": "stream",
       "stream": "stderr",
       "text": [
        "WARNING:sarpy.io.Adata_classes:Could not load AData\n"
       ]
      },
      {
       "output_type": "stream",
       "stream": "stderr",
       "text": [
        "WARNING:sarpy.io.Adata_classes:Need precisely one parameter file *json, found: []\n"
       ]
      },
      {
       "output_type": "stream",
       "stream": "stderr",
       "text": [
        "WARNING:sarpy.io.Adata_classes:Could not load AData\n"
       ]
      },
      {
       "output_type": "stream",
       "stream": "stderr",
       "text": [
        "WARNING:sarpy.io.Adata_classes:Need precisely one parameter file *json, found: []\n"
       ]
      },
      {
       "output_type": "stream",
       "stream": "stderr",
       "text": [
        "WARNING:sarpy.io.Adata_classes:Could not load AData\n"
       ]
      },
      {
       "output_type": "stream",
       "stream": "stderr",
       "text": [
        "WARNING:sarpy.io.Adata_classes:Need precisely one parameter file *json, found: []\n"
       ]
      },
      {
       "output_type": "stream",
       "stream": "stderr",
       "text": [
        "WARNING:sarpy.io.Adata_classes:Could not load AData\n"
       ]
      },
      {
       "output_type": "stream",
       "stream": "stderr",
       "text": [
        "WARNING:sarpy.io.Adata_classes:Need precisely one parameter file *json, found: []\n"
       ]
      },
      {
       "output_type": "stream",
       "stream": "stderr",
       "text": [
        "WARNING:sarpy.io.Adata_classes:Could not load AData\n"
       ]
      },
      {
       "output_type": "stream",
       "stream": "stderr",
       "text": [
        "WARNING:sarpy.io.Adata_classes:Need precisely one parameter file *json, found: []\n"
       ]
      },
      {
       "output_type": "stream",
       "stream": "stderr",
       "text": [
        "WARNING:sarpy.io.Adata_classes:Could not load AData\n"
       ]
      },
      {
       "output_type": "stream",
       "stream": "stderr",
       "text": [
        "WARNING:sarpy.io.Adata_classes:Need precisely one parameter file *json, found: []\n"
       ]
      },
      {
       "output_type": "stream",
       "stream": "stderr",
       "text": [
        "WARNING:sarpy.io.Adata_classes:Could not load AData\n"
       ]
      },
      {
       "output_type": "stream",
       "stream": "stderr",
       "text": [
        "WARNING:sarpy.io.Adata_classes:Need precisely one parameter file *json, found: []\n"
       ]
      },
      {
       "output_type": "stream",
       "stream": "stderr",
       "text": [
        "WARNING:sarpy.io.Adata_classes:Could not load AData\n"
       ]
      },
      {
       "output_type": "stream",
       "stream": "stderr",
       "text": [
        "WARNING:sarpy.io.Adata_classes:Need precisely one parameter file *json, found: []\n"
       ]
      },
      {
       "output_type": "stream",
       "stream": "stderr",
       "text": [
        "WARNING:sarpy.io.Adata_classes:Could not load AData\n"
       ]
      },
      {
       "output_type": "stream",
       "stream": "stderr",
       "text": [
        "WARNING:sarpy.io.Adata_classes:Need precisely one parameter file *json, found: []\n"
       ]
      },
      {
       "output_type": "stream",
       "stream": "stderr",
       "text": [
        "WARNING:sarpy.io.Adata_classes:Could not load AData\n"
       ]
      },
      {
       "output_type": "stream",
       "stream": "stderr",
       "text": [
        "WARNING:sarpy.io.Adata_classes:Need precisely one parameter file *json, found: []\n"
       ]
      },
      {
       "output_type": "stream",
       "stream": "stderr",
       "text": [
        "WARNING:sarpy.io.Adata_classes:Could not load AData\n"
       ]
      },
      {
       "output_type": "stream",
       "stream": "stderr",
       "text": [
        "WARNING:sarpy.io.Adata_classes:Need precisely one parameter file *json, found: []\n"
       ]
      },
      {
       "output_type": "stream",
       "stream": "stderr",
       "text": [
        "WARNING:sarpy.io.Adata_classes:Could not load AData\n"
       ]
      },
      {
       "output_type": "stream",
       "stream": "stderr",
       "text": [
        "WARNING:sarpy.io.Adata_classes:Need precisely one parameter file *json, found: []\n"
       ]
      },
      {
       "output_type": "stream",
       "stream": "stderr",
       "text": [
        "WARNING:sarpy.io.Adata_classes:Could not load AData\n"
       ]
      },
      {
       "output_type": "stream",
       "stream": "stderr",
       "text": [
        "WARNING:sarpy.io.Adata_classes:Need precisely one parameter file *json, found: []\n"
       ]
      },
      {
       "output_type": "stream",
       "stream": "stderr",
       "text": [
        "WARNING:sarpy.io.Adata_classes:Could not load AData\n"
       ]
      },
      {
       "output_type": "stream",
       "stream": "stderr",
       "text": [
        "WARNING:sarpy.io.Adata_classes:Need precisely one parameter file *json, found: []\n"
       ]
      },
      {
       "output_type": "stream",
       "stream": "stderr",
       "text": [
        "WARNING:sarpy.io.Adata_classes:Could not load AData\n"
       ]
      },
      {
       "output_type": "stream",
       "stream": "stdout",
       "text": [
        "\n",
        "deleting item T1map_LL_roi"
       ]
      },
      {
       "output_type": "stream",
       "stream": "stdout",
       "text": [
        "\n",
        "bulk_transfer_roi: Success. Saved T1map_LL_roi in NecS1Hs08.hk1/7"
       ]
      },
      {
       "output_type": "stream",
       "stream": "stdout",
       "text": [
        "\n",
        "Firas: you really need to fix this function so it uses the masterlist\n",
        "deleting item auc60_roi"
       ]
      },
      {
       "output_type": "stream",
       "stream": "stdout",
       "text": [
        "\n",
        "bulk_transfer_roi: Success. Saved auc60_roi in NecS1Hs02.hi1/8"
       ]
      },
      {
       "output_type": "stream",
       "stream": "stdout",
       "text": [
        "\n",
        "deleting item auc60_roi"
       ]
      },
      {
       "output_type": "stream",
       "stream": "stdout",
       "text": [
        "\n",
        "bulk_transfer_roi: Success. Saved auc60_roi in NecS1Hs02.hj1/8"
       ]
      },
      {
       "output_type": "stream",
       "stream": "stdout",
       "text": [
        "\n",
        "deleting item auc60_roi"
       ]
      },
      {
       "output_type": "stream",
       "stream": "stdout",
       "text": [
        "\n",
        "bulk_transfer_roi: Success. Saved auc60_roi in NecS1Hs02.hk1/8"
       ]
      },
      {
       "output_type": "stream",
       "stream": "stdout",
       "text": [
        "\n",
        "deleting item auc60_roi"
       ]
      },
      {
       "output_type": "stream",
       "stream": "stdout",
       "text": [
        "\n",
        "bulk_transfer_roi: Success. Saved auc60_roi in NecS1Hs03.hi1/8"
       ]
      },
      {
       "output_type": "stream",
       "stream": "stdout",
       "text": [
        "\n",
        "deleting item auc60_roi"
       ]
      },
      {
       "output_type": "stream",
       "stream": "stdout",
       "text": [
        "\n",
        "bulk_transfer_roi: Success. Saved auc60_roi in NecS1Hs03.hj1/9"
       ]
      },
      {
       "output_type": "stream",
       "stream": "stdout",
       "text": [
        "\n",
        "deleting item auc60_roi"
       ]
      },
      {
       "output_type": "stream",
       "stream": "stdout",
       "text": [
        "\n",
        "bulk_transfer_roi: Success. Saved auc60_roi in NecS1Hs03.hk1/8"
       ]
      },
      {
       "output_type": "stream",
       "stream": "stdout",
       "text": [
        "\n",
        "deleting item auc60_roi"
       ]
      },
      {
       "output_type": "stream",
       "stream": "stdout",
       "text": [
        "\n",
        "bulk_transfer_roi: Success. Saved auc60_roi in NecS1Hs05.hi1/8"
       ]
      },
      {
       "output_type": "stream",
       "stream": "stdout",
       "text": [
        "\n",
        "deleting item auc60_roi"
       ]
      },
      {
       "output_type": "stream",
       "stream": "stdout",
       "text": [
        "\n",
        "bulk_transfer_roi: Success. Saved auc60_roi in NecS1Hs05.hj1/10"
       ]
      },
      {
       "output_type": "stream",
       "stream": "stdout",
       "text": [
        "\n",
        "bulk_transfer_roi: auc60 not found in study NecS1Hs05.hk1"
       ]
      },
      {
       "output_type": "stream",
       "stream": "stdout",
       "text": [
        "\n",
        "deleting item auc60_roi"
       ]
      },
      {
       "output_type": "stream",
       "stream": "stdout",
       "text": [
        "\n",
        "bulk_transfer_roi: Success. Saved auc60_roi in NecS1Hs06.hi1/8"
       ]
      },
      {
       "output_type": "stream",
       "stream": "stdout",
       "text": [
        "\n",
        "deleting item auc60_roi"
       ]
      },
      {
       "output_type": "stream",
       "stream": "stdout",
       "text": [
        "\n",
        "bulk_transfer_roi: Success. Saved auc60_roi in NecS1Hs06.hj1/8"
       ]
      },
      {
       "output_type": "stream",
       "stream": "stdout",
       "text": [
        "\n",
        "deleting item auc60_roi"
       ]
      },
      {
       "output_type": "stream",
       "stream": "stdout",
       "text": [
        "\n",
        "bulk_transfer_roi: Success. Saved auc60_roi in NecS1Hs06.hk1/11"
       ]
      },
      {
       "output_type": "stream",
       "stream": "stdout",
       "text": [
        "\n",
        "deleting item auc60_roi"
       ]
      },
      {
       "output_type": "stream",
       "stream": "stdout",
       "text": [
        "\n",
        "bulk_transfer_roi: Success. Saved auc60_roi in NecS1Hs08.hi1/8"
       ]
      },
      {
       "output_type": "stream",
       "stream": "stdout",
       "text": [
        "\n",
        "deleting item auc60_roi"
       ]
      },
      {
       "output_type": "stream",
       "stream": "stdout",
       "text": [
        "\n",
        "bulk_transfer_roi: Success. Saved auc60_roi in NecS1Hs08.hj1/6"
       ]
      },
      {
       "output_type": "stream",
       "stream": "stderr",
       "text": [
        "WARNING:sarpy.io.BRUKER_classes:Directory \"/Users/fmoosvi/bdata/stefan/nmr/NecS1Hs08.hk1/16\" did not contain processed data (2dseq)\n"
       ]
      },
      {
       "output_type": "stream",
       "stream": "stderr",
       "text": [
        "WARNING:sarpy.io.BRUKER_classes:visu_pars file /Users/fmoosvi/bdata/stefan/nmr/NecS1Hs08.hk1/16/pdata/1 not found\n",
        "\n"
       ]
      },
      {
       "output_type": "stream",
       "stream": "stderr",
       "text": [
        "WARNING:sarpy.io.Adata_classes:Need precisely one parameter file *json, found: []\n"
       ]
      },
      {
       "output_type": "stream",
       "stream": "stderr",
       "text": [
        "WARNING:sarpy.io.Adata_classes:Could not load AData\n"
       ]
      },
      {
       "output_type": "stream",
       "stream": "stderr",
       "text": [
        "WARNING:sarpy.io.Adata_classes:Need precisely one parameter file *json, found: []\n"
       ]
      },
      {
       "output_type": "stream",
       "stream": "stderr",
       "text": [
        "WARNING:sarpy.io.Adata_classes:Could not load AData\n"
       ]
      },
      {
       "output_type": "stream",
       "stream": "stderr",
       "text": [
        "WARNING:sarpy.io.Adata_classes:Need precisely one parameter file *json, found: []\n"
       ]
      },
      {
       "output_type": "stream",
       "stream": "stderr",
       "text": [
        "WARNING:sarpy.io.Adata_classes:Could not load AData\n"
       ]
      },
      {
       "output_type": "stream",
       "stream": "stderr",
       "text": [
        "WARNING:sarpy.io.Adata_classes:Need precisely one parameter file *json, found: []\n"
       ]
      },
      {
       "output_type": "stream",
       "stream": "stderr",
       "text": [
        "WARNING:sarpy.io.Adata_classes:Could not load AData\n"
       ]
      },
      {
       "output_type": "stream",
       "stream": "stderr",
       "text": [
        "WARNING:sarpy.io.Adata_classes:Need precisely one parameter file *json, found: []\n"
       ]
      },
      {
       "output_type": "stream",
       "stream": "stderr",
       "text": [
        "WARNING:sarpy.io.Adata_classes:Could not load AData\n"
       ]
      },
      {
       "output_type": "stream",
       "stream": "stderr",
       "text": [
        "WARNING:sarpy.io.Adata_classes:Need precisely one parameter file *json, found: []\n"
       ]
      },
      {
       "output_type": "stream",
       "stream": "stderr",
       "text": [
        "WARNING:sarpy.io.Adata_classes:Could not load AData\n"
       ]
      },
      {
       "output_type": "stream",
       "stream": "stderr",
       "text": [
        "WARNING:sarpy.io.Adata_classes:Need precisely one parameter file *json, found: []\n"
       ]
      },
      {
       "output_type": "stream",
       "stream": "stderr",
       "text": [
        "WARNING:sarpy.io.Adata_classes:Could not load AData\n"
       ]
      },
      {
       "output_type": "stream",
       "stream": "stderr",
       "text": [
        "WARNING:sarpy.io.Adata_classes:Need precisely one parameter file *json, found: []\n"
       ]
      },
      {
       "output_type": "stream",
       "stream": "stderr",
       "text": [
        "WARNING:sarpy.io.Adata_classes:Could not load AData\n"
       ]
      },
      {
       "output_type": "stream",
       "stream": "stderr",
       "text": [
        "WARNING:sarpy.io.Adata_classes:Need precisely one parameter file *json, found: []\n"
       ]
      },
      {
       "output_type": "stream",
       "stream": "stderr",
       "text": [
        "WARNING:sarpy.io.Adata_classes:Could not load AData\n"
       ]
      },
      {
       "output_type": "stream",
       "stream": "stderr",
       "text": [
        "WARNING:sarpy.io.Adata_classes:Need precisely one parameter file *json, found: []\n"
       ]
      },
      {
       "output_type": "stream",
       "stream": "stderr",
       "text": [
        "WARNING:sarpy.io.Adata_classes:Could not load AData\n"
       ]
      },
      {
       "output_type": "stream",
       "stream": "stderr",
       "text": [
        "WARNING:sarpy.io.Adata_classes:Need precisely one parameter file *json, found: []\n"
       ]
      },
      {
       "output_type": "stream",
       "stream": "stderr",
       "text": [
        "WARNING:sarpy.io.Adata_classes:Could not load AData\n"
       ]
      },
      {
       "output_type": "stream",
       "stream": "stderr",
       "text": [
        "WARNING:sarpy.io.Adata_classes:Need precisely one parameter file *json, found: []\n"
       ]
      },
      {
       "output_type": "stream",
       "stream": "stderr",
       "text": [
        "WARNING:sarpy.io.Adata_classes:Could not load AData\n"
       ]
      },
      {
       "output_type": "stream",
       "stream": "stderr",
       "text": [
        "WARNING:sarpy.io.Adata_classes:Need precisely one parameter file *json, found: []\n"
       ]
      },
      {
       "output_type": "stream",
       "stream": "stderr",
       "text": [
        "WARNING:sarpy.io.Adata_classes:Could not load AData\n"
       ]
      },
      {
       "output_type": "stream",
       "stream": "stderr",
       "text": [
        "WARNING:sarpy.io.Adata_classes:Need precisely one parameter file *json, found: []\n"
       ]
      },
      {
       "output_type": "stream",
       "stream": "stderr",
       "text": [
        "WARNING:sarpy.io.Adata_classes:Could not load AData\n"
       ]
      },
      {
       "output_type": "stream",
       "stream": "stderr",
       "text": [
        "WARNING:sarpy.io.Adata_classes:Need precisely one parameter file *json, found: []\n"
       ]
      },
      {
       "output_type": "stream",
       "stream": "stderr",
       "text": [
        "WARNING:sarpy.io.Adata_classes:Could not load AData\n"
       ]
      },
      {
       "output_type": "stream",
       "stream": "stderr",
       "text": [
        "WARNING:sarpy.io.Adata_classes:Need precisely one parameter file *json, found: []\n"
       ]
      },
      {
       "output_type": "stream",
       "stream": "stderr",
       "text": [
        "WARNING:sarpy.io.Adata_classes:Could not load AData\n"
       ]
      },
      {
       "output_type": "stream",
       "stream": "stderr",
       "text": [
        "WARNING:sarpy.io.Adata_classes:Need precisely one parameter file *json, found: []\n"
       ]
      },
      {
       "output_type": "stream",
       "stream": "stderr",
       "text": [
        "WARNING:sarpy.io.Adata_classes:Could not load AData\n"
       ]
      },
      {
       "output_type": "stream",
       "stream": "stderr",
       "text": [
        "WARNING:sarpy.io.Adata_classes:Need precisely one parameter file *json, found: []\n"
       ]
      },
      {
       "output_type": "stream",
       "stream": "stderr",
       "text": [
        "WARNING:sarpy.io.Adata_classes:Could not load AData\n"
       ]
      },
      {
       "output_type": "stream",
       "stream": "stderr",
       "text": [
        "WARNING:sarpy.io.Adata_classes:Need precisely one parameter file *json, found: []\n"
       ]
      },
      {
       "output_type": "stream",
       "stream": "stderr",
       "text": [
        "WARNING:sarpy.io.Adata_classes:Could not load AData\n"
       ]
      },
      {
       "output_type": "stream",
       "stream": "stderr",
       "text": [
        "WARNING:sarpy.io.Adata_classes:Need precisely one parameter file *json, found: []\n"
       ]
      },
      {
       "output_type": "stream",
       "stream": "stderr",
       "text": [
        "WARNING:sarpy.io.Adata_classes:Could not load AData\n"
       ]
      },
      {
       "output_type": "stream",
       "stream": "stderr",
       "text": [
        "WARNING:sarpy.io.Adata_classes:Need precisely one parameter file *json, found: []\n"
       ]
      },
      {
       "output_type": "stream",
       "stream": "stderr",
       "text": [
        "WARNING:sarpy.io.Adata_classes:Could not load AData\n"
       ]
      },
      {
       "output_type": "stream",
       "stream": "stderr",
       "text": [
        "WARNING:sarpy.io.Adata_classes:Need precisely one parameter file *json, found: []\n"
       ]
      },
      {
       "output_type": "stream",
       "stream": "stderr",
       "text": [
        "WARNING:sarpy.io.Adata_classes:Could not load AData\n"
       ]
      },
      {
       "output_type": "stream",
       "stream": "stderr",
       "text": [
        "WARNING:sarpy.io.Adata_classes:Need precisely one parameter file *json, found: []\n"
       ]
      },
      {
       "output_type": "stream",
       "stream": "stderr",
       "text": [
        "WARNING:sarpy.io.Adata_classes:Could not load AData\n"
       ]
      },
      {
       "output_type": "stream",
       "stream": "stderr",
       "text": [
        "WARNING:sarpy.io.Adata_classes:Need precisely one parameter file *json, found: []\n"
       ]
      },
      {
       "output_type": "stream",
       "stream": "stderr",
       "text": [
        "WARNING:sarpy.io.Adata_classes:Could not load AData\n"
       ]
      },
      {
       "output_type": "stream",
       "stream": "stderr",
       "text": [
        "WARNING:sarpy.io.Adata_classes:Need precisely one parameter file *json, found: []\n"
       ]
      },
      {
       "output_type": "stream",
       "stream": "stderr",
       "text": [
        "WARNING:sarpy.io.Adata_classes:Could not load AData\n"
       ]
      },
      {
       "output_type": "stream",
       "stream": "stderr",
       "text": [
        "WARNING:sarpy.io.Adata_classes:Need precisely one parameter file *json, found: []\n"
       ]
      },
      {
       "output_type": "stream",
       "stream": "stderr",
       "text": [
        "WARNING:sarpy.io.Adata_classes:Could not load AData\n"
       ]
      },
      {
       "output_type": "stream",
       "stream": "stderr",
       "text": [
        "WARNING:sarpy.io.Adata_classes:Need precisely one parameter file *json, found: []\n"
       ]
      },
      {
       "output_type": "stream",
       "stream": "stderr",
       "text": [
        "WARNING:sarpy.io.Adata_classes:Could not load AData\n"
       ]
      },
      {
       "output_type": "stream",
       "stream": "stderr",
       "text": [
        "WARNING:sarpy.io.Adata_classes:Need precisely one parameter file *json, found: []\n"
       ]
      },
      {
       "output_type": "stream",
       "stream": "stderr",
       "text": [
        "WARNING:sarpy.io.Adata_classes:Could not load AData\n"
       ]
      },
      {
       "output_type": "stream",
       "stream": "stderr",
       "text": [
        "WARNING:sarpy.io.Adata_classes:Need precisely one parameter file *json, found: []\n"
       ]
      },
      {
       "output_type": "stream",
       "stream": "stderr",
       "text": [
        "WARNING:sarpy.io.Adata_classes:Could not load AData\n"
       ]
      },
      {
       "output_type": "stream",
       "stream": "stderr",
       "text": [
        "WARNING:sarpy.io.Adata_classes:Need precisely one parameter file *json, found: []\n"
       ]
      },
      {
       "output_type": "stream",
       "stream": "stderr",
       "text": [
        "WARNING:sarpy.io.Adata_classes:Could not load AData\n"
       ]
      },
      {
       "output_type": "stream",
       "stream": "stderr",
       "text": [
        "WARNING:sarpy.io.Adata_classes:Need precisely one parameter file *json, found: []\n"
       ]
      },
      {
       "output_type": "stream",
       "stream": "stderr",
       "text": [
        "WARNING:sarpy.io.Adata_classes:Could not load AData\n"
       ]
      },
      {
       "output_type": "stream",
       "stream": "stderr",
       "text": [
        "WARNING:sarpy.io.Adata_classes:Need precisely one parameter file *json, found: []\n"
       ]
      },
      {
       "output_type": "stream",
       "stream": "stderr",
       "text": [
        "WARNING:sarpy.io.Adata_classes:Could not load AData\n"
       ]
      },
      {
       "output_type": "stream",
       "stream": "stderr",
       "text": [
        "WARNING:sarpy.io.Adata_classes:Need precisely one parameter file *json, found: []\n"
       ]
      },
      {
       "output_type": "stream",
       "stream": "stderr",
       "text": [
        "WARNING:sarpy.io.Adata_classes:Could not load AData\n"
       ]
      },
      {
       "output_type": "stream",
       "stream": "stderr",
       "text": [
        "WARNING:sarpy.io.Adata_classes:Need precisely one parameter file *json, found: []\n"
       ]
      },
      {
       "output_type": "stream",
       "stream": "stderr",
       "text": [
        "WARNING:sarpy.io.Adata_classes:Could not load AData\n"
       ]
      },
      {
       "output_type": "stream",
       "stream": "stderr",
       "text": [
        "WARNING:sarpy.io.Adata_classes:Need precisely one parameter file *json, found: []\n"
       ]
      },
      {
       "output_type": "stream",
       "stream": "stderr",
       "text": [
        "WARNING:sarpy.io.Adata_classes:Could not load AData\n"
       ]
      },
      {
       "output_type": "stream",
       "stream": "stderr",
       "text": [
        "WARNING:sarpy.io.Adata_classes:Need precisely one parameter file *json, found: []\n"
       ]
      },
      {
       "output_type": "stream",
       "stream": "stderr",
       "text": [
        "WARNING:sarpy.io.Adata_classes:Could not load AData\n"
       ]
      },
      {
       "output_type": "stream",
       "stream": "stderr",
       "text": [
        "WARNING:sarpy.io.Adata_classes:Need precisely one parameter file *json, found: []\n"
       ]
      },
      {
       "output_type": "stream",
       "stream": "stderr",
       "text": [
        "WARNING:sarpy.io.Adata_classes:Could not load AData\n"
       ]
      },
      {
       "output_type": "stream",
       "stream": "stderr",
       "text": [
        "WARNING:sarpy.io.Adata_classes:Need precisely one parameter file *json, found: []\n"
       ]
      },
      {
       "output_type": "stream",
       "stream": "stderr",
       "text": [
        "WARNING:sarpy.io.Adata_classes:Could not load AData\n"
       ]
      },
      {
       "output_type": "stream",
       "stream": "stderr",
       "text": [
        "WARNING:sarpy.io.Adata_classes:Need precisely one parameter file *json, found: []\n"
       ]
      },
      {
       "output_type": "stream",
       "stream": "stderr",
       "text": [
        "WARNING:sarpy.io.Adata_classes:Could not load AData\n"
       ]
      },
      {
       "output_type": "stream",
       "stream": "stderr",
       "text": [
        "WARNING:sarpy.io.Adata_classes:Need precisely one parameter file *json, found: []\n"
       ]
      },
      {
       "output_type": "stream",
       "stream": "stderr",
       "text": [
        "WARNING:sarpy.io.Adata_classes:Could not load AData\n"
       ]
      },
      {
       "output_type": "stream",
       "stream": "stderr",
       "text": [
        "WARNING:sarpy.io.Adata_classes:Need precisely one parameter file *json, found: []\n"
       ]
      },
      {
       "output_type": "stream",
       "stream": "stderr",
       "text": [
        "WARNING:sarpy.io.Adata_classes:Could not load AData\n"
       ]
      },
      {
       "output_type": "stream",
       "stream": "stderr",
       "text": [
        "WARNING:sarpy.io.Adata_classes:Need precisely one parameter file *json, found: []\n"
       ]
      },
      {
       "output_type": "stream",
       "stream": "stderr",
       "text": [
        "WARNING:sarpy.io.Adata_classes:Could not load AData\n"
       ]
      },
      {
       "output_type": "stream",
       "stream": "stderr",
       "text": [
        "WARNING:sarpy.io.Adata_classes:Need precisely one parameter file *json, found: []\n"
       ]
      },
      {
       "output_type": "stream",
       "stream": "stderr",
       "text": [
        "WARNING:sarpy.io.Adata_classes:Could not load AData\n"
       ]
      },
      {
       "output_type": "stream",
       "stream": "stderr",
       "text": [
        "WARNING:sarpy.io.Adata_classes:Need precisely one parameter file *json, found: []\n"
       ]
      },
      {
       "output_type": "stream",
       "stream": "stderr",
       "text": [
        "WARNING:sarpy.io.Adata_classes:Could not load AData\n"
       ]
      },
      {
       "output_type": "stream",
       "stream": "stderr",
       "text": [
        "WARNING:sarpy.io.Adata_classes:Need precisely one parameter file *json, found: []\n"
       ]
      },
      {
       "output_type": "stream",
       "stream": "stderr",
       "text": [
        "WARNING:sarpy.io.Adata_classes:Could not load AData\n"
       ]
      },
      {
       "output_type": "stream",
       "stream": "stderr",
       "text": [
        "WARNING:sarpy.io.Adata_classes:Need precisely one parameter file *json, found: []\n"
       ]
      },
      {
       "output_type": "stream",
       "stream": "stderr",
       "text": [
        "WARNING:sarpy.io.Adata_classes:Could not load AData\n"
       ]
      },
      {
       "output_type": "stream",
       "stream": "stderr",
       "text": [
        "WARNING:sarpy.io.Adata_classes:Need precisely one parameter file *json, found: []\n"
       ]
      },
      {
       "output_type": "stream",
       "stream": "stderr",
       "text": [
        "WARNING:sarpy.io.Adata_classes:Could not load AData\n"
       ]
      },
      {
       "output_type": "stream",
       "stream": "stderr",
       "text": [
        "WARNING:sarpy.io.Adata_classes:Need precisely one parameter file *json, found: []\n"
       ]
      },
      {
       "output_type": "stream",
       "stream": "stderr",
       "text": [
        "WARNING:sarpy.io.Adata_classes:Could not load AData\n"
       ]
      },
      {
       "output_type": "stream",
       "stream": "stderr",
       "text": [
        "WARNING:sarpy.io.Adata_classes:Need precisely one parameter file *json, found: []\n"
       ]
      },
      {
       "output_type": "stream",
       "stream": "stderr",
       "text": [
        "WARNING:sarpy.io.Adata_classes:Could not load AData\n"
       ]
      },
      {
       "output_type": "stream",
       "stream": "stderr",
       "text": [
        "WARNING:sarpy.io.Adata_classes:Need precisely one parameter file *json, found: []\n"
       ]
      },
      {
       "output_type": "stream",
       "stream": "stderr",
       "text": [
        "WARNING:sarpy.io.Adata_classes:Could not load AData\n"
       ]
      },
      {
       "output_type": "stream",
       "stream": "stderr",
       "text": [
        "WARNING:sarpy.io.Adata_classes:Need precisely one parameter file *json, found: []\n"
       ]
      },
      {
       "output_type": "stream",
       "stream": "stderr",
       "text": [
        "WARNING:sarpy.io.Adata_classes:Could not load AData\n"
       ]
      },
      {
       "output_type": "stream",
       "stream": "stderr",
       "text": [
        "WARNING:sarpy.io.Adata_classes:Need precisely one parameter file *json, found: []\n"
       ]
      },
      {
       "output_type": "stream",
       "stream": "stderr",
       "text": [
        "WARNING:sarpy.io.Adata_classes:Could not load AData\n"
       ]
      },
      {
       "output_type": "stream",
       "stream": "stderr",
       "text": [
        "WARNING:sarpy.io.Adata_classes:Need precisely one parameter file *json, found: []\n"
       ]
      },
      {
       "output_type": "stream",
       "stream": "stderr",
       "text": [
        "WARNING:sarpy.io.Adata_classes:Could not load AData\n"
       ]
      },
      {
       "output_type": "stream",
       "stream": "stderr",
       "text": [
        "WARNING:sarpy.io.Adata_classes:Need precisely one parameter file *json, found: []\n"
       ]
      },
      {
       "output_type": "stream",
       "stream": "stderr",
       "text": [
        "WARNING:sarpy.io.Adata_classes:Could not load AData\n"
       ]
      },
      {
       "output_type": "stream",
       "stream": "stderr",
       "text": [
        "WARNING:sarpy.io.Adata_classes:Need precisely one parameter file *json, found: []\n"
       ]
      },
      {
       "output_type": "stream",
       "stream": "stderr",
       "text": [
        "WARNING:sarpy.io.Adata_classes:Could not load AData\n"
       ]
      },
      {
       "output_type": "stream",
       "stream": "stderr",
       "text": [
        "WARNING:sarpy.io.Adata_classes:Need precisely one parameter file *json, found: []\n"
       ]
      },
      {
       "output_type": "stream",
       "stream": "stderr",
       "text": [
        "WARNING:sarpy.io.Adata_classes:Could not load AData\n"
       ]
      },
      {
       "output_type": "stream",
       "stream": "stderr",
       "text": [
        "WARNING:sarpy.io.Adata_classes:Need precisely one parameter file *json, found: []\n"
       ]
      },
      {
       "output_type": "stream",
       "stream": "stderr",
       "text": [
        "WARNING:sarpy.io.Adata_classes:Could not load AData\n"
       ]
      },
      {
       "output_type": "stream",
       "stream": "stderr",
       "text": [
        "WARNING:sarpy.io.Adata_classes:Need precisely one parameter file *json, found: []\n"
       ]
      },
      {
       "output_type": "stream",
       "stream": "stderr",
       "text": [
        "WARNING:sarpy.io.Adata_classes:Could not load AData\n"
       ]
      },
      {
       "output_type": "stream",
       "stream": "stderr",
       "text": [
        "WARNING:sarpy.io.Adata_classes:Need precisely one parameter file *json, found: []\n"
       ]
      },
      {
       "output_type": "stream",
       "stream": "stderr",
       "text": [
        "WARNING:sarpy.io.Adata_classes:Could not load AData\n"
       ]
      },
      {
       "output_type": "stream",
       "stream": "stderr",
       "text": [
        "WARNING:sarpy.io.Adata_classes:Need precisely one parameter file *json, found: []\n"
       ]
      },
      {
       "output_type": "stream",
       "stream": "stderr",
       "text": [
        "WARNING:sarpy.io.Adata_classes:Could not load AData\n"
       ]
      },
      {
       "output_type": "stream",
       "stream": "stderr",
       "text": [
        "WARNING:sarpy.io.Adata_classes:Need precisely one parameter file *json, found: []\n"
       ]
      },
      {
       "output_type": "stream",
       "stream": "stderr",
       "text": [
        "WARNING:sarpy.io.Adata_classes:Could not load AData\n"
       ]
      },
      {
       "output_type": "stream",
       "stream": "stderr",
       "text": [
        "WARNING:sarpy.io.Adata_classes:Need precisely one parameter file *json, found: []\n"
       ]
      },
      {
       "output_type": "stream",
       "stream": "stderr",
       "text": [
        "WARNING:sarpy.io.Adata_classes:Could not load AData\n"
       ]
      },
      {
       "output_type": "stream",
       "stream": "stderr",
       "text": [
        "WARNING:sarpy.io.Adata_classes:Need precisely one parameter file *json, found: []\n"
       ]
      },
      {
       "output_type": "stream",
       "stream": "stderr",
       "text": [
        "WARNING:sarpy.io.Adata_classes:Could not load AData\n"
       ]
      },
      {
       "output_type": "stream",
       "stream": "stderr",
       "text": [
        "WARNING:sarpy.io.Adata_classes:Need precisely one parameter file *json, found: []\n"
       ]
      },
      {
       "output_type": "stream",
       "stream": "stderr",
       "text": [
        "WARNING:sarpy.io.Adata_classes:Could not load AData\n"
       ]
      },
      {
       "output_type": "stream",
       "stream": "stderr",
       "text": [
        "WARNING:sarpy.io.Adata_classes:Need precisely one parameter file *json, found: []\n"
       ]
      },
      {
       "output_type": "stream",
       "stream": "stderr",
       "text": [
        "WARNING:sarpy.io.Adata_classes:Could not load AData\n"
       ]
      },
      {
       "output_type": "stream",
       "stream": "stderr",
       "text": [
        "WARNING:sarpy.io.Adata_classes:Need precisely one parameter file *json, found: []\n"
       ]
      },
      {
       "output_type": "stream",
       "stream": "stderr",
       "text": [
        "WARNING:sarpy.io.Adata_classes:Could not load AData\n"
       ]
      },
      {
       "output_type": "stream",
       "stream": "stderr",
       "text": [
        "WARNING:sarpy.io.Adata_classes:Need precisely one parameter file *json, found: []\n"
       ]
      },
      {
       "output_type": "stream",
       "stream": "stderr",
       "text": [
        "WARNING:sarpy.io.Adata_classes:Could not load AData\n"
       ]
      },
      {
       "output_type": "stream",
       "stream": "stderr",
       "text": [
        "WARNING:sarpy.io.Adata_classes:Need precisely one parameter file *json, found: []\n"
       ]
      },
      {
       "output_type": "stream",
       "stream": "stderr",
       "text": [
        "WARNING:sarpy.io.Adata_classes:Could not load AData\n"
       ]
      },
      {
       "output_type": "stream",
       "stream": "stderr",
       "text": [
        "WARNING:sarpy.io.Adata_classes:Need precisely one parameter file *json, found: []\n"
       ]
      },
      {
       "output_type": "stream",
       "stream": "stderr",
       "text": [
        "WARNING:sarpy.io.Adata_classes:Could not load AData\n"
       ]
      },
      {
       "output_type": "stream",
       "stream": "stderr",
       "text": [
        "WARNING:sarpy.io.Adata_classes:Need precisely one parameter file *json, found: []\n"
       ]
      },
      {
       "output_type": "stream",
       "stream": "stderr",
       "text": [
        "WARNING:sarpy.io.Adata_classes:Could not load AData\n"
       ]
      },
      {
       "output_type": "stream",
       "stream": "stderr",
       "text": [
        "WARNING:sarpy.io.Adata_classes:Need precisely one parameter file *json, found: []\n"
       ]
      },
      {
       "output_type": "stream",
       "stream": "stderr",
       "text": [
        "WARNING:sarpy.io.Adata_classes:Could not load AData\n"
       ]
      },
      {
       "output_type": "stream",
       "stream": "stderr",
       "text": [
        "WARNING:sarpy.io.Adata_classes:Need precisely one parameter file *json, found: []\n"
       ]
      },
      {
       "output_type": "stream",
       "stream": "stderr",
       "text": [
        "WARNING:sarpy.io.Adata_classes:Could not load AData\n"
       ]
      },
      {
       "output_type": "stream",
       "stream": "stderr",
       "text": [
        "WARNING:sarpy.io.Adata_classes:Need precisely one parameter file *json, found: []\n"
       ]
      },
      {
       "output_type": "stream",
       "stream": "stderr",
       "text": [
        "WARNING:sarpy.io.Adata_classes:Could not load AData\n"
       ]
      },
      {
       "output_type": "stream",
       "stream": "stderr",
       "text": [
        "WARNING:sarpy.io.Adata_classes:Need precisely one parameter file *json, found: []\n"
       ]
      },
      {
       "output_type": "stream",
       "stream": "stderr",
       "text": [
        "WARNING:sarpy.io.Adata_classes:Could not load AData\n"
       ]
      },
      {
       "output_type": "stream",
       "stream": "stderr",
       "text": [
        "WARNING:sarpy.io.Adata_classes:Need precisely one parameter file *json, found: []\n"
       ]
      },
      {
       "output_type": "stream",
       "stream": "stderr",
       "text": [
        "WARNING:sarpy.io.Adata_classes:Could not load AData\n"
       ]
      },
      {
       "output_type": "stream",
       "stream": "stderr",
       "text": [
        "WARNING:sarpy.io.Adata_classes:Need precisely one parameter file *json, found: []\n"
       ]
      },
      {
       "output_type": "stream",
       "stream": "stderr",
       "text": [
        "WARNING:sarpy.io.Adata_classes:Could not load AData\n"
       ]
      },
      {
       "output_type": "stream",
       "stream": "stderr",
       "text": [
        "WARNING:sarpy.io.Adata_classes:Need precisely one parameter file *json, found: []\n"
       ]
      },
      {
       "output_type": "stream",
       "stream": "stderr",
       "text": [
        "WARNING:sarpy.io.Adata_classes:Could not load AData\n"
       ]
      },
      {
       "output_type": "stream",
       "stream": "stderr",
       "text": [
        "WARNING:sarpy.io.Adata_classes:Need precisely one parameter file *json, found: []\n"
       ]
      },
      {
       "output_type": "stream",
       "stream": "stderr",
       "text": [
        "WARNING:sarpy.io.Adata_classes:Could not load AData\n"
       ]
      },
      {
       "output_type": "stream",
       "stream": "stderr",
       "text": [
        "WARNING:sarpy.io.Adata_classes:Need precisely one parameter file *json, found: []\n"
       ]
      },
      {
       "output_type": "stream",
       "stream": "stderr",
       "text": [
        "WARNING:sarpy.io.Adata_classes:Could not load AData\n"
       ]
      },
      {
       "output_type": "stream",
       "stream": "stderr",
       "text": [
        "WARNING:sarpy.io.Adata_classes:Need precisely one parameter file *json, found: []\n"
       ]
      },
      {
       "output_type": "stream",
       "stream": "stderr",
       "text": [
        "WARNING:sarpy.io.Adata_classes:Could not load AData\n"
       ]
      },
      {
       "output_type": "stream",
       "stream": "stderr",
       "text": [
        "WARNING:sarpy.io.Adata_classes:Need precisely one parameter file *json, found: []\n"
       ]
      },
      {
       "output_type": "stream",
       "stream": "stderr",
       "text": [
        "WARNING:sarpy.io.Adata_classes:Could not load AData\n"
       ]
      },
      {
       "output_type": "stream",
       "stream": "stderr",
       "text": [
        "WARNING:sarpy.io.Adata_classes:Need precisely one parameter file *json, found: []\n"
       ]
      },
      {
       "output_type": "stream",
       "stream": "stderr",
       "text": [
        "WARNING:sarpy.io.Adata_classes:Could not load AData\n"
       ]
      },
      {
       "output_type": "stream",
       "stream": "stderr",
       "text": [
        "WARNING:sarpy.io.Adata_classes:Need precisely one parameter file *json, found: []\n"
       ]
      },
      {
       "output_type": "stream",
       "stream": "stderr",
       "text": [
        "WARNING:sarpy.io.Adata_classes:Could not load AData\n"
       ]
      },
      {
       "output_type": "stream",
       "stream": "stderr",
       "text": [
        "WARNING:sarpy.io.Adata_classes:Need precisely one parameter file *json, found: []\n"
       ]
      },
      {
       "output_type": "stream",
       "stream": "stderr",
       "text": [
        "WARNING:sarpy.io.Adata_classes:Could not load AData\n"
       ]
      },
      {
       "output_type": "stream",
       "stream": "stderr",
       "text": [
        "WARNING:sarpy.io.Adata_classes:Need precisely one parameter file *json, found: []\n"
       ]
      },
      {
       "output_type": "stream",
       "stream": "stderr",
       "text": [
        "WARNING:sarpy.io.Adata_classes:Could not load AData\n"
       ]
      },
      {
       "output_type": "stream",
       "stream": "stderr",
       "text": [
        "WARNING:sarpy.io.Adata_classes:Need precisely one parameter file *json, found: []\n"
       ]
      },
      {
       "output_type": "stream",
       "stream": "stderr",
       "text": [
        "WARNING:sarpy.io.Adata_classes:Could not load AData\n"
       ]
      },
      {
       "output_type": "stream",
       "stream": "stderr",
       "text": [
        "WARNING:sarpy.io.Adata_classes:Need precisely one parameter file *json, found: []\n"
       ]
      },
      {
       "output_type": "stream",
       "stream": "stderr",
       "text": [
        "WARNING:sarpy.io.Adata_classes:Could not load AData\n"
       ]
      },
      {
       "output_type": "stream",
       "stream": "stderr",
       "text": [
        "WARNING:sarpy.io.Adata_classes:Need precisely one parameter file *json, found: []\n"
       ]
      },
      {
       "output_type": "stream",
       "stream": "stderr",
       "text": [
        "WARNING:sarpy.io.Adata_classes:Could not load AData\n"
       ]
      },
      {
       "output_type": "stream",
       "stream": "stderr",
       "text": [
        "WARNING:sarpy.io.Adata_classes:Need precisely one parameter file *json, found: []\n"
       ]
      },
      {
       "output_type": "stream",
       "stream": "stderr",
       "text": [
        "WARNING:sarpy.io.Adata_classes:Could not load AData\n"
       ]
      },
      {
       "output_type": "stream",
       "stream": "stderr",
       "text": [
        "WARNING:sarpy.io.Adata_classes:Need precisely one parameter file *json, found: []\n"
       ]
      },
      {
       "output_type": "stream",
       "stream": "stderr",
       "text": [
        "WARNING:sarpy.io.Adata_classes:Could not load AData\n"
       ]
      },
      {
       "output_type": "stream",
       "stream": "stderr",
       "text": [
        "WARNING:sarpy.io.Adata_classes:Need precisely one parameter file *json, found: []\n"
       ]
      },
      {
       "output_type": "stream",
       "stream": "stderr",
       "text": [
        "WARNING:sarpy.io.Adata_classes:Could not load AData\n"
       ]
      },
      {
       "output_type": "stream",
       "stream": "stderr",
       "text": [
        "WARNING:sarpy.io.Adata_classes:Need precisely one parameter file *json, found: []\n"
       ]
      },
      {
       "output_type": "stream",
       "stream": "stderr",
       "text": [
        "WARNING:sarpy.io.Adata_classes:Could not load AData\n"
       ]
      },
      {
       "output_type": "stream",
       "stream": "stderr",
       "text": [
        "WARNING:sarpy.io.Adata_classes:Need precisely one parameter file *json, found: []\n"
       ]
      },
      {
       "output_type": "stream",
       "stream": "stderr",
       "text": [
        "WARNING:sarpy.io.Adata_classes:Could not load AData\n"
       ]
      },
      {
       "output_type": "stream",
       "stream": "stderr",
       "text": [
        "WARNING:sarpy.io.Adata_classes:Need precisely one parameter file *json, found: []\n"
       ]
      },
      {
       "output_type": "stream",
       "stream": "stderr",
       "text": [
        "WARNING:sarpy.io.Adata_classes:Could not load AData\n"
       ]
      },
      {
       "output_type": "stream",
       "stream": "stderr",
       "text": [
        "WARNING:sarpy.io.Adata_classes:Need precisely one parameter file *json, found: []\n"
       ]
      },
      {
       "output_type": "stream",
       "stream": "stderr",
       "text": [
        "WARNING:sarpy.io.Adata_classes:Could not load AData\n"
       ]
      },
      {
       "output_type": "stream",
       "stream": "stderr",
       "text": [
        "WARNING:sarpy.io.Adata_classes:Need precisely one parameter file *json, found: []\n"
       ]
      },
      {
       "output_type": "stream",
       "stream": "stderr",
       "text": [
        "WARNING:sarpy.io.Adata_classes:Could not load AData\n"
       ]
      },
      {
       "output_type": "stream",
       "stream": "stderr",
       "text": [
        "WARNING:sarpy.io.Adata_classes:Need precisely one parameter file *json, found: []\n"
       ]
      },
      {
       "output_type": "stream",
       "stream": "stderr",
       "text": [
        "WARNING:sarpy.io.Adata_classes:Could not load AData\n"
       ]
      },
      {
       "output_type": "stream",
       "stream": "stderr",
       "text": [
        "WARNING:sarpy.io.Adata_classes:Need precisely one parameter file *json, found: []\n"
       ]
      },
      {
       "output_type": "stream",
       "stream": "stderr",
       "text": [
        "WARNING:sarpy.io.Adata_classes:Could not load AData\n"
       ]
      },
      {
       "output_type": "stream",
       "stream": "stderr",
       "text": [
        "WARNING:sarpy.io.Adata_classes:Need precisely one parameter file *json, found: []\n"
       ]
      },
      {
       "output_type": "stream",
       "stream": "stderr",
       "text": [
        "WARNING:sarpy.io.Adata_classes:Could not load AData\n"
       ]
      },
      {
       "output_type": "stream",
       "stream": "stderr",
       "text": [
        "WARNING:sarpy.io.Adata_classes:Need precisely one parameter file *json, found: []\n"
       ]
      },
      {
       "output_type": "stream",
       "stream": "stderr",
       "text": [
        "WARNING:sarpy.io.Adata_classes:Could not load AData\n"
       ]
      },
      {
       "output_type": "stream",
       "stream": "stderr",
       "text": [
        "WARNING:sarpy.io.Adata_classes:Need precisely one parameter file *json, found: []\n"
       ]
      },
      {
       "output_type": "stream",
       "stream": "stderr",
       "text": [
        "WARNING:sarpy.io.Adata_classes:Could not load AData\n"
       ]
      },
      {
       "output_type": "stream",
       "stream": "stderr",
       "text": [
        "WARNING:sarpy.io.Adata_classes:Need precisely one parameter file *json, found: []\n"
       ]
      },
      {
       "output_type": "stream",
       "stream": "stderr",
       "text": [
        "WARNING:sarpy.io.Adata_classes:Could not load AData\n"
       ]
      },
      {
       "output_type": "stream",
       "stream": "stderr",
       "text": [
        "WARNING:sarpy.io.Adata_classes:Need precisely one parameter file *json, found: []\n"
       ]
      },
      {
       "output_type": "stream",
       "stream": "stderr",
       "text": [
        "WARNING:sarpy.io.Adata_classes:Could not load AData\n"
       ]
      },
      {
       "output_type": "stream",
       "stream": "stderr",
       "text": [
        "WARNING:sarpy.io.Adata_classes:Need precisely one parameter file *json, found: []\n"
       ]
      },
      {
       "output_type": "stream",
       "stream": "stderr",
       "text": [
        "WARNING:sarpy.io.Adata_classes:Could not load AData\n"
       ]
      },
      {
       "output_type": "stream",
       "stream": "stderr",
       "text": [
        "WARNING:sarpy.io.Adata_classes:Need precisely one parameter file *json, found: []\n"
       ]
      },
      {
       "output_type": "stream",
       "stream": "stderr",
       "text": [
        "WARNING:sarpy.io.Adata_classes:Could not load AData\n"
       ]
      },
      {
       "output_type": "stream",
       "stream": "stderr",
       "text": [
        "WARNING:sarpy.io.Adata_classes:Need precisely one parameter file *json, found: []\n"
       ]
      },
      {
       "output_type": "stream",
       "stream": "stderr",
       "text": [
        "WARNING:sarpy.io.Adata_classes:Could not load AData\n"
       ]
      },
      {
       "output_type": "stream",
       "stream": "stderr",
       "text": [
        "WARNING:sarpy.io.Adata_classes:Need precisely one parameter file *json, found: []\n"
       ]
      },
      {
       "output_type": "stream",
       "stream": "stderr",
       "text": [
        "WARNING:sarpy.io.Adata_classes:Could not load AData\n"
       ]
      },
      {
       "output_type": "stream",
       "stream": "stderr",
       "text": [
        "WARNING:sarpy.io.Adata_classes:Need precisely one parameter file *json, found: []\n"
       ]
      },
      {
       "output_type": "stream",
       "stream": "stderr",
       "text": [
        "WARNING:sarpy.io.Adata_classes:Could not load AData\n"
       ]
      },
      {
       "output_type": "stream",
       "stream": "stderr",
       "text": [
        "WARNING:sarpy.io.Adata_classes:Need precisely one parameter file *json, found: []\n"
       ]
      },
      {
       "output_type": "stream",
       "stream": "stderr",
       "text": [
        "WARNING:sarpy.io.Adata_classes:Could not load AData\n"
       ]
      },
      {
       "output_type": "stream",
       "stream": "stderr",
       "text": [
        "WARNING:sarpy.io.Adata_classes:Need precisely one parameter file *json, found: []\n"
       ]
      },
      {
       "output_type": "stream",
       "stream": "stderr",
       "text": [
        "WARNING:sarpy.io.Adata_classes:Could not load AData\n"
       ]
      },
      {
       "output_type": "stream",
       "stream": "stderr",
       "text": [
        "WARNING:sarpy.io.Adata_classes:Need precisely one parameter file *json, found: []\n"
       ]
      },
      {
       "output_type": "stream",
       "stream": "stderr",
       "text": [
        "WARNING:sarpy.io.Adata_classes:Could not load AData\n"
       ]
      },
      {
       "output_type": "stream",
       "stream": "stderr",
       "text": [
        "WARNING:sarpy.io.Adata_classes:Need precisely one parameter file *json, found: []\n"
       ]
      },
      {
       "output_type": "stream",
       "stream": "stderr",
       "text": [
        "WARNING:sarpy.io.Adata_classes:Could not load AData\n"
       ]
      },
      {
       "output_type": "stream",
       "stream": "stderr",
       "text": [
        "WARNING:sarpy.io.Adata_classes:Need precisely one parameter file *json, found: []\n"
       ]
      },
      {
       "output_type": "stream",
       "stream": "stderr",
       "text": [
        "WARNING:sarpy.io.Adata_classes:Could not load AData\n"
       ]
      },
      {
       "output_type": "stream",
       "stream": "stderr",
       "text": [
        "WARNING:sarpy.io.Adata_classes:Need precisely one parameter file *json, found: []\n"
       ]
      },
      {
       "output_type": "stream",
       "stream": "stderr",
       "text": [
        "WARNING:sarpy.io.Adata_classes:Could not load AData\n"
       ]
      },
      {
       "output_type": "stream",
       "stream": "stderr",
       "text": [
        "WARNING:sarpy.io.Adata_classes:Need precisely one parameter file *json, found: []\n"
       ]
      },
      {
       "output_type": "stream",
       "stream": "stderr",
       "text": [
        "WARNING:sarpy.io.Adata_classes:Could not load AData\n"
       ]
      },
      {
       "output_type": "stream",
       "stream": "stderr",
       "text": [
        "WARNING:sarpy.io.Adata_classes:Need precisely one parameter file *json, found: []\n"
       ]
      },
      {
       "output_type": "stream",
       "stream": "stderr",
       "text": [
        "WARNING:sarpy.io.Adata_classes:Could not load AData\n"
       ]
      },
      {
       "output_type": "stream",
       "stream": "stderr",
       "text": [
        "WARNING:sarpy.io.Adata_classes:Need precisely one parameter file *json, found: []\n"
       ]
      },
      {
       "output_type": "stream",
       "stream": "stderr",
       "text": [
        "WARNING:sarpy.io.Adata_classes:Could not load AData\n"
       ]
      },
      {
       "output_type": "stream",
       "stream": "stderr",
       "text": [
        "WARNING:sarpy.io.Adata_classes:Need precisely one parameter file *json, found: []\n"
       ]
      },
      {
       "output_type": "stream",
       "stream": "stderr",
       "text": [
        "WARNING:sarpy.io.Adata_classes:Could not load AData\n"
       ]
      },
      {
       "output_type": "stream",
       "stream": "stderr",
       "text": [
        "WARNING:sarpy.io.Adata_classes:Need precisely one parameter file *json, found: []\n"
       ]
      },
      {
       "output_type": "stream",
       "stream": "stderr",
       "text": [
        "WARNING:sarpy.io.Adata_classes:Could not load AData\n"
       ]
      },
      {
       "output_type": "stream",
       "stream": "stderr",
       "text": [
        "WARNING:sarpy.io.Adata_classes:Need precisely one parameter file *json, found: []\n"
       ]
      },
      {
       "output_type": "stream",
       "stream": "stderr",
       "text": [
        "WARNING:sarpy.io.Adata_classes:Could not load AData\n"
       ]
      },
      {
       "output_type": "stream",
       "stream": "stderr",
       "text": [
        "WARNING:sarpy.io.Adata_classes:Need precisely one parameter file *json, found: []\n"
       ]
      },
      {
       "output_type": "stream",
       "stream": "stderr",
       "text": [
        "WARNING:sarpy.io.Adata_classes:Could not load AData\n"
       ]
      },
      {
       "output_type": "stream",
       "stream": "stderr",
       "text": [
        "WARNING:sarpy.io.Adata_classes:Need precisely one parameter file *json, found: []\n"
       ]
      },
      {
       "output_type": "stream",
       "stream": "stderr",
       "text": [
        "WARNING:sarpy.io.Adata_classes:Could not load AData\n"
       ]
      },
      {
       "output_type": "stream",
       "stream": "stderr",
       "text": [
        "WARNING:sarpy.io.Adata_classes:Need precisely one parameter file *json, found: []\n"
       ]
      },
      {
       "output_type": "stream",
       "stream": "stderr",
       "text": [
        "WARNING:sarpy.io.Adata_classes:Could not load AData\n"
       ]
      },
      {
       "output_type": "stream",
       "stream": "stderr",
       "text": [
        "WARNING:sarpy.io.Adata_classes:Need precisely one parameter file *json, found: []\n"
       ]
      },
      {
       "output_type": "stream",
       "stream": "stderr",
       "text": [
        "WARNING:sarpy.io.Adata_classes:Could not load AData\n"
       ]
      },
      {
       "output_type": "stream",
       "stream": "stderr",
       "text": [
        "WARNING:sarpy.io.Adata_classes:Need precisely one parameter file *json, found: []\n"
       ]
      },
      {
       "output_type": "stream",
       "stream": "stderr",
       "text": [
        "WARNING:sarpy.io.Adata_classes:Could not load AData\n"
       ]
      },
      {
       "output_type": "stream",
       "stream": "stderr",
       "text": [
        "WARNING:sarpy.io.Adata_classes:Need precisely one parameter file *json, found: []\n"
       ]
      },
      {
       "output_type": "stream",
       "stream": "stderr",
       "text": [
        "WARNING:sarpy.io.Adata_classes:Could not load AData\n"
       ]
      },
      {
       "output_type": "stream",
       "stream": "stderr",
       "text": [
        "WARNING:sarpy.io.Adata_classes:Need precisely one parameter file *json, found: []\n"
       ]
      },
      {
       "output_type": "stream",
       "stream": "stderr",
       "text": [
        "WARNING:sarpy.io.Adata_classes:Could not load AData\n"
       ]
      },
      {
       "output_type": "stream",
       "stream": "stderr",
       "text": [
        "WARNING:sarpy.io.Adata_classes:Need precisely one parameter file *json, found: []\n"
       ]
      },
      {
       "output_type": "stream",
       "stream": "stderr",
       "text": [
        "WARNING:sarpy.io.Adata_classes:Could not load AData\n"
       ]
      },
      {
       "output_type": "stream",
       "stream": "stderr",
       "text": [
        "WARNING:sarpy.io.Adata_classes:Need precisely one parameter file *json, found: []\n"
       ]
      },
      {
       "output_type": "stream",
       "stream": "stderr",
       "text": [
        "WARNING:sarpy.io.Adata_classes:Could not load AData\n"
       ]
      },
      {
       "output_type": "stream",
       "stream": "stderr",
       "text": [
        "WARNING:sarpy.io.Adata_classes:Need precisely one parameter file *json, found: []\n"
       ]
      },
      {
       "output_type": "stream",
       "stream": "stderr",
       "text": [
        "WARNING:sarpy.io.Adata_classes:Could not load AData\n"
       ]
      },
      {
       "output_type": "stream",
       "stream": "stderr",
       "text": [
        "WARNING:sarpy.io.Adata_classes:Need precisely one parameter file *json, found: []\n"
       ]
      },
      {
       "output_type": "stream",
       "stream": "stderr",
       "text": [
        "WARNING:sarpy.io.Adata_classes:Could not load AData\n"
       ]
      },
      {
       "output_type": "stream",
       "stream": "stderr",
       "text": [
        "WARNING:sarpy.io.Adata_classes:Need precisely one parameter file *json, found: []\n"
       ]
      },
      {
       "output_type": "stream",
       "stream": "stderr",
       "text": [
        "WARNING:sarpy.io.Adata_classes:Could not load AData\n"
       ]
      },
      {
       "output_type": "stream",
       "stream": "stderr",
       "text": [
        "WARNING:sarpy.io.Adata_classes:Need precisely one parameter file *json, found: []\n"
       ]
      },
      {
       "output_type": "stream",
       "stream": "stderr",
       "text": [
        "WARNING:sarpy.io.Adata_classes:Could not load AData\n"
       ]
      },
      {
       "output_type": "stream",
       "stream": "stderr",
       "text": [
        "WARNING:sarpy.io.Adata_classes:Need precisely one parameter file *json, found: []\n"
       ]
      },
      {
       "output_type": "stream",
       "stream": "stderr",
       "text": [
        "WARNING:sarpy.io.Adata_classes:Could not load AData\n"
       ]
      },
      {
       "output_type": "stream",
       "stream": "stderr",
       "text": [
        "WARNING:sarpy.io.Adata_classes:Need precisely one parameter file *json, found: []\n"
       ]
      },
      {
       "output_type": "stream",
       "stream": "stderr",
       "text": [
        "WARNING:sarpy.io.Adata_classes:Could not load AData\n"
       ]
      },
      {
       "output_type": "stream",
       "stream": "stderr",
       "text": [
        "WARNING:sarpy.io.Adata_classes:Need precisely one parameter file *json, found: []\n"
       ]
      },
      {
       "output_type": "stream",
       "stream": "stderr",
       "text": [
        "WARNING:sarpy.io.Adata_classes:Could not load AData\n"
       ]
      },
      {
       "output_type": "stream",
       "stream": "stderr",
       "text": [
        "WARNING:sarpy.io.Adata_classes:Need precisely one parameter file *json, found: []\n"
       ]
      },
      {
       "output_type": "stream",
       "stream": "stderr",
       "text": [
        "WARNING:sarpy.io.Adata_classes:Could not load AData\n"
       ]
      },
      {
       "output_type": "stream",
       "stream": "stderr",
       "text": [
        "WARNING:sarpy.io.Adata_classes:Need precisely one parameter file *json, found: []\n"
       ]
      },
      {
       "output_type": "stream",
       "stream": "stderr",
       "text": [
        "WARNING:sarpy.io.Adata_classes:Could not load AData\n"
       ]
      },
      {
       "output_type": "stream",
       "stream": "stderr",
       "text": [
        "WARNING:sarpy.io.Adata_classes:Need precisely one parameter file *json, found: []\n"
       ]
      },
      {
       "output_type": "stream",
       "stream": "stderr",
       "text": [
        "WARNING:sarpy.io.Adata_classes:Could not load AData\n"
       ]
      },
      {
       "output_type": "stream",
       "stream": "stderr",
       "text": [
        "WARNING:sarpy.io.Adata_classes:Need precisely one parameter file *json, found: []\n"
       ]
      },
      {
       "output_type": "stream",
       "stream": "stderr",
       "text": [
        "WARNING:sarpy.io.Adata_classes:Could not load AData\n"
       ]
      },
      {
       "output_type": "stream",
       "stream": "stderr",
       "text": [
        "WARNING:sarpy.io.Adata_classes:Need precisely one parameter file *json, found: []\n"
       ]
      },
      {
       "output_type": "stream",
       "stream": "stderr",
       "text": [
        "WARNING:sarpy.io.Adata_classes:Could not load AData\n"
       ]
      },
      {
       "output_type": "stream",
       "stream": "stderr",
       "text": [
        "WARNING:sarpy.io.Adata_classes:Need precisely one parameter file *json, found: []\n"
       ]
      },
      {
       "output_type": "stream",
       "stream": "stderr",
       "text": [
        "WARNING:sarpy.io.Adata_classes:Could not load AData\n"
       ]
      },
      {
       "output_type": "stream",
       "stream": "stderr",
       "text": [
        "WARNING:sarpy.io.Adata_classes:Need precisely one parameter file *json, found: []\n"
       ]
      },
      {
       "output_type": "stream",
       "stream": "stderr",
       "text": [
        "WARNING:sarpy.io.Adata_classes:Could not load AData\n"
       ]
      },
      {
       "output_type": "stream",
       "stream": "stderr",
       "text": [
        "WARNING:sarpy.io.Adata_classes:Need precisely one parameter file *json, found: []\n"
       ]
      },
      {
       "output_type": "stream",
       "stream": "stderr",
       "text": [
        "WARNING:sarpy.io.Adata_classes:Could not load AData\n"
       ]
      },
      {
       "output_type": "stream",
       "stream": "stderr",
       "text": [
        "WARNING:sarpy.io.Adata_classes:Need precisely one parameter file *json, found: []\n"
       ]
      },
      {
       "output_type": "stream",
       "stream": "stderr",
       "text": [
        "WARNING:sarpy.io.Adata_classes:Could not load AData\n"
       ]
      },
      {
       "output_type": "stream",
       "stream": "stderr",
       "text": [
        "WARNING:sarpy.io.Adata_classes:Need precisely one parameter file *json, found: []\n"
       ]
      },
      {
       "output_type": "stream",
       "stream": "stderr",
       "text": [
        "WARNING:sarpy.io.Adata_classes:Could not load AData\n"
       ]
      },
      {
       "output_type": "stream",
       "stream": "stderr",
       "text": [
        "WARNING:sarpy.io.Adata_classes:Need precisely one parameter file *json, found: []\n"
       ]
      },
      {
       "output_type": "stream",
       "stream": "stderr",
       "text": [
        "WARNING:sarpy.io.Adata_classes:Could not load AData\n"
       ]
      },
      {
       "output_type": "stream",
       "stream": "stderr",
       "text": [
        "WARNING:sarpy.io.Adata_classes:Need precisely one parameter file *json, found: []\n"
       ]
      },
      {
       "output_type": "stream",
       "stream": "stderr",
       "text": [
        "WARNING:sarpy.io.Adata_classes:Could not load AData\n"
       ]
      },
      {
       "output_type": "stream",
       "stream": "stderr",
       "text": [
        "WARNING:sarpy.io.Adata_classes:Need precisely one parameter file *json, found: []\n"
       ]
      },
      {
       "output_type": "stream",
       "stream": "stderr",
       "text": [
        "WARNING:sarpy.io.Adata_classes:Could not load AData\n"
       ]
      },
      {
       "output_type": "stream",
       "stream": "stderr",
       "text": [
        "WARNING:sarpy.io.Adata_classes:Need precisely one parameter file *json, found: []\n"
       ]
      },
      {
       "output_type": "stream",
       "stream": "stderr",
       "text": [
        "WARNING:sarpy.io.Adata_classes:Could not load AData\n"
       ]
      },
      {
       "output_type": "stream",
       "stream": "stderr",
       "text": [
        "WARNING:sarpy.io.Adata_classes:Need precisely one parameter file *json, found: []\n"
       ]
      },
      {
       "output_type": "stream",
       "stream": "stderr",
       "text": [
        "WARNING:sarpy.io.Adata_classes:Could not load AData\n"
       ]
      },
      {
       "output_type": "stream",
       "stream": "stderr",
       "text": [
        "WARNING:sarpy.io.Adata_classes:Need precisely one parameter file *json, found: []\n"
       ]
      },
      {
       "output_type": "stream",
       "stream": "stderr",
       "text": [
        "WARNING:sarpy.io.Adata_classes:Could not load AData\n"
       ]
      },
      {
       "output_type": "stream",
       "stream": "stderr",
       "text": [
        "WARNING:sarpy.io.Adata_classes:Need precisely one parameter file *json, found: []\n"
       ]
      },
      {
       "output_type": "stream",
       "stream": "stderr",
       "text": [
        "WARNING:sarpy.io.Adata_classes:Could not load AData\n"
       ]
      },
      {
       "output_type": "stream",
       "stream": "stderr",
       "text": [
        "WARNING:sarpy.io.Adata_classes:Need precisely one parameter file *json, found: []\n"
       ]
      },
      {
       "output_type": "stream",
       "stream": "stderr",
       "text": [
        "WARNING:sarpy.io.Adata_classes:Could not load AData\n"
       ]
      },
      {
       "output_type": "stream",
       "stream": "stderr",
       "text": [
        "WARNING:sarpy.io.Adata_classes:Need precisely one parameter file *json, found: []\n"
       ]
      },
      {
       "output_type": "stream",
       "stream": "stderr",
       "text": [
        "WARNING:sarpy.io.Adata_classes:Could not load AData\n"
       ]
      },
      {
       "output_type": "stream",
       "stream": "stderr",
       "text": [
        "WARNING:sarpy.io.Adata_classes:Need precisely one parameter file *json, found: []\n"
       ]
      },
      {
       "output_type": "stream",
       "stream": "stderr",
       "text": [
        "WARNING:sarpy.io.Adata_classes:Could not load AData\n"
       ]
      },
      {
       "output_type": "stream",
       "stream": "stderr",
       "text": [
        "WARNING:sarpy.io.Adata_classes:Need precisely one parameter file *json, found: []\n"
       ]
      },
      {
       "output_type": "stream",
       "stream": "stderr",
       "text": [
        "WARNING:sarpy.io.Adata_classes:Could not load AData\n"
       ]
      },
      {
       "output_type": "stream",
       "stream": "stderr",
       "text": [
        "WARNING:sarpy.io.Adata_classes:Need precisely one parameter file *json, found: []\n"
       ]
      },
      {
       "output_type": "stream",
       "stream": "stderr",
       "text": [
        "WARNING:sarpy.io.Adata_classes:Could not load AData\n"
       ]
      },
      {
       "output_type": "stream",
       "stream": "stderr",
       "text": [
        "WARNING:sarpy.io.Adata_classes:Need precisely one parameter file *json, found: []\n"
       ]
      },
      {
       "output_type": "stream",
       "stream": "stderr",
       "text": [
        "WARNING:sarpy.io.Adata_classes:Could not load AData\n"
       ]
      },
      {
       "output_type": "stream",
       "stream": "stderr",
       "text": [
        "WARNING:sarpy.io.Adata_classes:Need precisely one parameter file *json, found: []\n"
       ]
      },
      {
       "output_type": "stream",
       "stream": "stderr",
       "text": [
        "WARNING:sarpy.io.Adata_classes:Could not load AData\n"
       ]
      },
      {
       "output_type": "stream",
       "stream": "stderr",
       "text": [
        "WARNING:sarpy.io.Adata_classes:Need precisely one parameter file *json, found: []\n"
       ]
      },
      {
       "output_type": "stream",
       "stream": "stderr",
       "text": [
        "WARNING:sarpy.io.Adata_classes:Could not load AData\n"
       ]
      },
      {
       "output_type": "stream",
       "stream": "stderr",
       "text": [
        "WARNING:sarpy.io.Adata_classes:Need precisely one parameter file *json, found: []\n"
       ]
      },
      {
       "output_type": "stream",
       "stream": "stderr",
       "text": [
        "WARNING:sarpy.io.Adata_classes:Could not load AData\n"
       ]
      },
      {
       "output_type": "stream",
       "stream": "stderr",
       "text": [
        "WARNING:sarpy.io.Adata_classes:Need precisely one parameter file *json, found: []\n"
       ]
      },
      {
       "output_type": "stream",
       "stream": "stderr",
       "text": [
        "WARNING:sarpy.io.Adata_classes:Could not load AData\n"
       ]
      },
      {
       "output_type": "stream",
       "stream": "stderr",
       "text": [
        "WARNING:sarpy.io.Adata_classes:Need precisely one parameter file *json, found: []\n"
       ]
      },
      {
       "output_type": "stream",
       "stream": "stderr",
       "text": [
        "WARNING:sarpy.io.Adata_classes:Could not load AData\n"
       ]
      },
      {
       "output_type": "stream",
       "stream": "stderr",
       "text": [
        "WARNING:sarpy.io.Adata_classes:Need precisely one parameter file *json, found: []\n"
       ]
      },
      {
       "output_type": "stream",
       "stream": "stderr",
       "text": [
        "WARNING:sarpy.io.Adata_classes:Could not load AData\n"
       ]
      },
      {
       "output_type": "stream",
       "stream": "stderr",
       "text": [
        "WARNING:sarpy.io.Adata_classes:Need precisely one parameter file *json, found: []\n"
       ]
      },
      {
       "output_type": "stream",
       "stream": "stderr",
       "text": [
        "WARNING:sarpy.io.Adata_classes:Could not load AData\n"
       ]
      },
      {
       "output_type": "stream",
       "stream": "stderr",
       "text": [
        "WARNING:sarpy.io.Adata_classes:Need precisely one parameter file *json, found: []\n"
       ]
      },
      {
       "output_type": "stream",
       "stream": "stderr",
       "text": [
        "WARNING:sarpy.io.Adata_classes:Could not load AData\n"
       ]
      },
      {
       "output_type": "stream",
       "stream": "stderr",
       "text": [
        "WARNING:sarpy.io.Adata_classes:Need precisely one parameter file *json, found: []\n"
       ]
      },
      {
       "output_type": "stream",
       "stream": "stderr",
       "text": [
        "WARNING:sarpy.io.Adata_classes:Could not load AData\n"
       ]
      },
      {
       "output_type": "stream",
       "stream": "stderr",
       "text": [
        "WARNING:sarpy.io.Adata_classes:Need precisely one parameter file *json, found: []\n"
       ]
      },
      {
       "output_type": "stream",
       "stream": "stderr",
       "text": [
        "WARNING:sarpy.io.Adata_classes:Could not load AData\n"
       ]
      },
      {
       "output_type": "stream",
       "stream": "stderr",
       "text": [
        "WARNING:sarpy.io.Adata_classes:Need precisely one parameter file *json, found: []\n"
       ]
      },
      {
       "output_type": "stream",
       "stream": "stderr",
       "text": [
        "WARNING:sarpy.io.Adata_classes:Could not load AData\n"
       ]
      },
      {
       "output_type": "stream",
       "stream": "stderr",
       "text": [
        "WARNING:sarpy.io.Adata_classes:Need precisely one parameter file *json, found: []\n"
       ]
      },
      {
       "output_type": "stream",
       "stream": "stderr",
       "text": [
        "WARNING:sarpy.io.Adata_classes:Could not load AData\n"
       ]
      },
      {
       "output_type": "stream",
       "stream": "stderr",
       "text": [
        "WARNING:sarpy.io.Adata_classes:Need precisely one parameter file *json, found: []\n"
       ]
      },
      {
       "output_type": "stream",
       "stream": "stderr",
       "text": [
        "WARNING:sarpy.io.Adata_classes:Could not load AData\n"
       ]
      },
      {
       "output_type": "stream",
       "stream": "stderr",
       "text": [
        "WARNING:sarpy.io.Adata_classes:Need precisely one parameter file *json, found: []\n"
       ]
      },
      {
       "output_type": "stream",
       "stream": "stderr",
       "text": [
        "WARNING:sarpy.io.Adata_classes:Could not load AData\n"
       ]
      },
      {
       "output_type": "stream",
       "stream": "stderr",
       "text": [
        "WARNING:sarpy.io.Adata_classes:Need precisely one parameter file *json, found: []\n"
       ]
      },
      {
       "output_type": "stream",
       "stream": "stderr",
       "text": [
        "WARNING:sarpy.io.Adata_classes:Could not load AData\n"
       ]
      },
      {
       "output_type": "stream",
       "stream": "stderr",
       "text": [
        "WARNING:sarpy.io.Adata_classes:Need precisely one parameter file *json, found: []\n"
       ]
      },
      {
       "output_type": "stream",
       "stream": "stderr",
       "text": [
        "WARNING:sarpy.io.Adata_classes:Could not load AData\n"
       ]
      },
      {
       "output_type": "stream",
       "stream": "stderr",
       "text": [
        "WARNING:sarpy.io.Adata_classes:Need precisely one parameter file *json, found: []\n"
       ]
      },
      {
       "output_type": "stream",
       "stream": "stderr",
       "text": [
        "WARNING:sarpy.io.Adata_classes:Could not load AData\n"
       ]
      },
      {
       "output_type": "stream",
       "stream": "stderr",
       "text": [
        "WARNING:sarpy.io.Adata_classes:Need precisely one parameter file *json, found: []\n"
       ]
      },
      {
       "output_type": "stream",
       "stream": "stderr",
       "text": [
        "WARNING:sarpy.io.Adata_classes:Could not load AData\n"
       ]
      },
      {
       "output_type": "stream",
       "stream": "stderr",
       "text": [
        "WARNING:sarpy.io.Adata_classes:Need precisely one parameter file *json, found: []\n"
       ]
      },
      {
       "output_type": "stream",
       "stream": "stderr",
       "text": [
        "WARNING:sarpy.io.Adata_classes:Could not load AData\n"
       ]
      },
      {
       "output_type": "stream",
       "stream": "stderr",
       "text": [
        "WARNING:sarpy.io.Adata_classes:Need precisely one parameter file *json, found: []\n"
       ]
      },
      {
       "output_type": "stream",
       "stream": "stderr",
       "text": [
        "WARNING:sarpy.io.Adata_classes:Could not load AData\n"
       ]
      },
      {
       "output_type": "stream",
       "stream": "stderr",
       "text": [
        "WARNING:sarpy.io.Adata_classes:Need precisely one parameter file *json, found: []\n"
       ]
      },
      {
       "output_type": "stream",
       "stream": "stderr",
       "text": [
        "WARNING:sarpy.io.Adata_classes:Could not load AData\n"
       ]
      },
      {
       "output_type": "stream",
       "stream": "stderr",
       "text": [
        "WARNING:sarpy.io.Adata_classes:Need precisely one parameter file *json, found: []\n"
       ]
      },
      {
       "output_type": "stream",
       "stream": "stderr",
       "text": [
        "WARNING:sarpy.io.Adata_classes:Could not load AData\n"
       ]
      },
      {
       "output_type": "stream",
       "stream": "stderr",
       "text": [
        "WARNING:sarpy.io.Adata_classes:Need precisely one parameter file *json, found: []\n"
       ]
      },
      {
       "output_type": "stream",
       "stream": "stderr",
       "text": [
        "WARNING:sarpy.io.Adata_classes:Could not load AData\n"
       ]
      },
      {
       "output_type": "stream",
       "stream": "stderr",
       "text": [
        "WARNING:sarpy.io.Adata_classes:Need precisely one parameter file *json, found: []\n"
       ]
      },
      {
       "output_type": "stream",
       "stream": "stderr",
       "text": [
        "WARNING:sarpy.io.Adata_classes:Could not load AData\n"
       ]
      },
      {
       "output_type": "stream",
       "stream": "stderr",
       "text": [
        "WARNING:sarpy.io.Adata_classes:Need precisely one parameter file *json, found: []\n"
       ]
      },
      {
       "output_type": "stream",
       "stream": "stderr",
       "text": [
        "WARNING:sarpy.io.Adata_classes:Could not load AData\n"
       ]
      },
      {
       "output_type": "stream",
       "stream": "stderr",
       "text": [
        "WARNING:sarpy.io.Adata_classes:Need precisely one parameter file *json, found: []\n"
       ]
      },
      {
       "output_type": "stream",
       "stream": "stderr",
       "text": [
        "WARNING:sarpy.io.Adata_classes:Could not load AData\n"
       ]
      },
      {
       "output_type": "stream",
       "stream": "stderr",
       "text": [
        "WARNING:sarpy.io.Adata_classes:Need precisely one parameter file *json, found: []\n"
       ]
      },
      {
       "output_type": "stream",
       "stream": "stderr",
       "text": [
        "WARNING:sarpy.io.Adata_classes:Could not load AData\n"
       ]
      },
      {
       "output_type": "stream",
       "stream": "stderr",
       "text": [
        "WARNING:sarpy.io.Adata_classes:Need precisely one parameter file *json, found: []\n"
       ]
      },
      {
       "output_type": "stream",
       "stream": "stderr",
       "text": [
        "WARNING:sarpy.io.Adata_classes:Could not load AData\n"
       ]
      },
      {
       "output_type": "stream",
       "stream": "stderr",
       "text": [
        "WARNING:sarpy.io.Adata_classes:Need precisely one parameter file *json, found: []\n"
       ]
      },
      {
       "output_type": "stream",
       "stream": "stderr",
       "text": [
        "WARNING:sarpy.io.Adata_classes:Could not load AData\n"
       ]
      },
      {
       "output_type": "stream",
       "stream": "stderr",
       "text": [
        "WARNING:sarpy.io.Adata_classes:Need precisely one parameter file *json, found: []\n"
       ]
      },
      {
       "output_type": "stream",
       "stream": "stderr",
       "text": [
        "WARNING:sarpy.io.Adata_classes:Could not load AData\n"
       ]
      },
      {
       "output_type": "stream",
       "stream": "stderr",
       "text": [
        "WARNING:sarpy.io.Adata_classes:Need precisely one parameter file *json, found: []\n"
       ]
      },
      {
       "output_type": "stream",
       "stream": "stderr",
       "text": [
        "WARNING:sarpy.io.Adata_classes:Could not load AData\n"
       ]
      },
      {
       "output_type": "stream",
       "stream": "stderr",
       "text": [
        "WARNING:sarpy.io.Adata_classes:Need precisely one parameter file *json, found: []\n"
       ]
      },
      {
       "output_type": "stream",
       "stream": "stderr",
       "text": [
        "WARNING:sarpy.io.Adata_classes:Could not load AData\n"
       ]
      },
      {
       "output_type": "stream",
       "stream": "stderr",
       "text": [
        "WARNING:sarpy.io.Adata_classes:Need precisely one parameter file *json, found: []\n"
       ]
      },
      {
       "output_type": "stream",
       "stream": "stderr",
       "text": [
        "WARNING:sarpy.io.Adata_classes:Could not load AData\n"
       ]
      },
      {
       "output_type": "stream",
       "stream": "stderr",
       "text": [
        "WARNING:sarpy.io.Adata_classes:Need precisely one parameter file *json, found: []\n"
       ]
      },
      {
       "output_type": "stream",
       "stream": "stderr",
       "text": [
        "WARNING:sarpy.io.Adata_classes:Could not load AData\n"
       ]
      },
      {
       "output_type": "stream",
       "stream": "stderr",
       "text": [
        "WARNING:sarpy.io.Adata_classes:Need precisely one parameter file *json, found: []\n"
       ]
      },
      {
       "output_type": "stream",
       "stream": "stderr",
       "text": [
        "WARNING:sarpy.io.Adata_classes:Could not load AData\n"
       ]
      },
      {
       "output_type": "stream",
       "stream": "stderr",
       "text": [
        "WARNING:sarpy.io.Adata_classes:Need precisely one parameter file *json, found: []\n"
       ]
      },
      {
       "output_type": "stream",
       "stream": "stderr",
       "text": [
        "WARNING:sarpy.io.Adata_classes:Could not load AData\n"
       ]
      },
      {
       "output_type": "stream",
       "stream": "stderr",
       "text": [
        "WARNING:sarpy.io.Adata_classes:Need precisely one parameter file *json, found: []\n"
       ]
      },
      {
       "output_type": "stream",
       "stream": "stderr",
       "text": [
        "WARNING:sarpy.io.Adata_classes:Could not load AData\n"
       ]
      },
      {
       "output_type": "stream",
       "stream": "stderr",
       "text": [
        "WARNING:sarpy.io.Adata_classes:Need precisely one parameter file *json, found: []\n"
       ]
      },
      {
       "output_type": "stream",
       "stream": "stderr",
       "text": [
        "WARNING:sarpy.io.Adata_classes:Could not load AData\n"
       ]
      },
      {
       "output_type": "stream",
       "stream": "stderr",
       "text": [
        "WARNING:sarpy.io.Adata_classes:Need precisely one parameter file *json, found: []\n"
       ]
      },
      {
       "output_type": "stream",
       "stream": "stderr",
       "text": [
        "WARNING:sarpy.io.Adata_classes:Could not load AData\n"
       ]
      },
      {
       "output_type": "stream",
       "stream": "stderr",
       "text": [
        "WARNING:sarpy.io.Adata_classes:Need precisely one parameter file *json, found: []\n"
       ]
      },
      {
       "output_type": "stream",
       "stream": "stderr",
       "text": [
        "WARNING:sarpy.io.Adata_classes:Could not load AData\n"
       ]
      },
      {
       "output_type": "stream",
       "stream": "stderr",
       "text": [
        "WARNING:sarpy.io.Adata_classes:Need precisely one parameter file *json, found: []\n"
       ]
      },
      {
       "output_type": "stream",
       "stream": "stderr",
       "text": [
        "WARNING:sarpy.io.Adata_classes:Could not load AData\n"
       ]
      },
      {
       "output_type": "stream",
       "stream": "stderr",
       "text": [
        "WARNING:sarpy.io.Adata_classes:Need precisely one parameter file *json, found: []\n"
       ]
      },
      {
       "output_type": "stream",
       "stream": "stderr",
       "text": [
        "WARNING:sarpy.io.Adata_classes:Could not load AData\n"
       ]
      },
      {
       "output_type": "stream",
       "stream": "stderr",
       "text": [
        "WARNING:sarpy.io.Adata_classes:Need precisely one parameter file *json, found: []\n"
       ]
      },
      {
       "output_type": "stream",
       "stream": "stderr",
       "text": [
        "WARNING:sarpy.io.Adata_classes:Could not load AData\n"
       ]
      },
      {
       "output_type": "stream",
       "stream": "stderr",
       "text": [
        "WARNING:sarpy.io.Adata_classes:Need precisely one parameter file *json, found: []\n"
       ]
      },
      {
       "output_type": "stream",
       "stream": "stderr",
       "text": [
        "WARNING:sarpy.io.Adata_classes:Could not load AData\n"
       ]
      },
      {
       "output_type": "stream",
       "stream": "stderr",
       "text": [
        "WARNING:sarpy.io.Adata_classes:Need precisely one parameter file *json, found: []\n"
       ]
      },
      {
       "output_type": "stream",
       "stream": "stderr",
       "text": [
        "WARNING:sarpy.io.Adata_classes:Could not load AData\n"
       ]
      },
      {
       "output_type": "stream",
       "stream": "stderr",
       "text": [
        "WARNING:sarpy.io.Adata_classes:Need precisely one parameter file *json, found: []\n"
       ]
      },
      {
       "output_type": "stream",
       "stream": "stderr",
       "text": [
        "WARNING:sarpy.io.Adata_classes:Could not load AData\n"
       ]
      },
      {
       "output_type": "stream",
       "stream": "stderr",
       "text": [
        "WARNING:sarpy.io.Adata_classes:Need precisely one parameter file *json, found: []\n"
       ]
      },
      {
       "output_type": "stream",
       "stream": "stderr",
       "text": [
        "WARNING:sarpy.io.Adata_classes:Could not load AData\n"
       ]
      },
      {
       "output_type": "stream",
       "stream": "stderr",
       "text": [
        "WARNING:sarpy.io.Adata_classes:Need precisely one parameter file *json, found: []\n"
       ]
      },
      {
       "output_type": "stream",
       "stream": "stderr",
       "text": [
        "WARNING:sarpy.io.Adata_classes:Could not load AData\n"
       ]
      },
      {
       "output_type": "stream",
       "stream": "stderr",
       "text": [
        "WARNING:sarpy.io.Adata_classes:Need precisely one parameter file *json, found: []\n"
       ]
      },
      {
       "output_type": "stream",
       "stream": "stderr",
       "text": [
        "WARNING:sarpy.io.Adata_classes:Could not load AData\n"
       ]
      },
      {
       "output_type": "stream",
       "stream": "stderr",
       "text": [
        "WARNING:sarpy.io.Adata_classes:Need precisely one parameter file *json, found: []\n"
       ]
      },
      {
       "output_type": "stream",
       "stream": "stderr",
       "text": [
        "WARNING:sarpy.io.Adata_classes:Could not load AData\n"
       ]
      },
      {
       "output_type": "stream",
       "stream": "stderr",
       "text": [
        "WARNING:sarpy.io.Adata_classes:Need precisely one parameter file *json, found: []\n"
       ]
      },
      {
       "output_type": "stream",
       "stream": "stderr",
       "text": [
        "WARNING:sarpy.io.Adata_classes:Could not load AData\n"
       ]
      },
      {
       "output_type": "stream",
       "stream": "stderr",
       "text": [
        "WARNING:sarpy.io.Adata_classes:Need precisely one parameter file *json, found: []\n"
       ]
      },
      {
       "output_type": "stream",
       "stream": "stderr",
       "text": [
        "WARNING:sarpy.io.Adata_classes:Could not load AData\n"
       ]
      },
      {
       "output_type": "stream",
       "stream": "stderr",
       "text": [
        "WARNING:sarpy.io.Adata_classes:Need precisely one parameter file *json, found: []\n"
       ]
      },
      {
       "output_type": "stream",
       "stream": "stderr",
       "text": [
        "WARNING:sarpy.io.Adata_classes:Could not load AData\n"
       ]
      },
      {
       "output_type": "stream",
       "stream": "stderr",
       "text": [
        "WARNING:sarpy.io.Adata_classes:Need precisely one parameter file *json, found: []\n"
       ]
      },
      {
       "output_type": "stream",
       "stream": "stderr",
       "text": [
        "WARNING:sarpy.io.Adata_classes:Could not load AData\n"
       ]
      },
      {
       "output_type": "stream",
       "stream": "stderr",
       "text": [
        "WARNING:sarpy.io.Adata_classes:Need precisely one parameter file *json, found: []\n"
       ]
      },
      {
       "output_type": "stream",
       "stream": "stderr",
       "text": [
        "WARNING:sarpy.io.Adata_classes:Could not load AData\n"
       ]
      },
      {
       "output_type": "stream",
       "stream": "stderr",
       "text": [
        "WARNING:sarpy.io.Adata_classes:Need precisely one parameter file *json, found: []\n"
       ]
      },
      {
       "output_type": "stream",
       "stream": "stderr",
       "text": [
        "WARNING:sarpy.io.Adata_classes:Could not load AData\n"
       ]
      },
      {
       "output_type": "stream",
       "stream": "stderr",
       "text": [
        "WARNING:sarpy.io.Adata_classes:Need precisely one parameter file *json, found: []\n"
       ]
      },
      {
       "output_type": "stream",
       "stream": "stderr",
       "text": [
        "WARNING:sarpy.io.Adata_classes:Could not load AData\n"
       ]
      },
      {
       "output_type": "stream",
       "stream": "stderr",
       "text": [
        "WARNING:sarpy.io.Adata_classes:Need precisely one parameter file *json, found: []\n"
       ]
      },
      {
       "output_type": "stream",
       "stream": "stderr",
       "text": [
        "WARNING:sarpy.io.Adata_classes:Could not load AData\n"
       ]
      },
      {
       "output_type": "stream",
       "stream": "stderr",
       "text": [
        "WARNING:sarpy.io.Adata_classes:Need precisely one parameter file *json, found: []\n"
       ]
      },
      {
       "output_type": "stream",
       "stream": "stderr",
       "text": [
        "WARNING:sarpy.io.Adata_classes:Could not load AData\n"
       ]
      },
      {
       "output_type": "stream",
       "stream": "stderr",
       "text": [
        "WARNING:sarpy.io.Adata_classes:Need precisely one parameter file *json, found: []\n"
       ]
      },
      {
       "output_type": "stream",
       "stream": "stderr",
       "text": [
        "WARNING:sarpy.io.Adata_classes:Could not load AData\n"
       ]
      },
      {
       "output_type": "stream",
       "stream": "stderr",
       "text": [
        "WARNING:sarpy.io.Adata_classes:Need precisely one parameter file *json, found: []\n"
       ]
      },
      {
       "output_type": "stream",
       "stream": "stderr",
       "text": [
        "WARNING:sarpy.io.Adata_classes:Could not load AData\n"
       ]
      },
      {
       "output_type": "stream",
       "stream": "stderr",
       "text": [
        "WARNING:sarpy.io.Adata_classes:Need precisely one parameter file *json, found: []\n"
       ]
      },
      {
       "output_type": "stream",
       "stream": "stderr",
       "text": [
        "WARNING:sarpy.io.Adata_classes:Could not load AData\n"
       ]
      },
      {
       "output_type": "stream",
       "stream": "stderr",
       "text": [
        "WARNING:sarpy.io.Adata_classes:Need precisely one parameter file *json, found: []\n"
       ]
      },
      {
       "output_type": "stream",
       "stream": "stderr",
       "text": [
        "WARNING:sarpy.io.Adata_classes:Could not load AData\n"
       ]
      },
      {
       "output_type": "stream",
       "stream": "stderr",
       "text": [
        "WARNING:sarpy.io.Adata_classes:Need precisely one parameter file *json, found: []\n"
       ]
      },
      {
       "output_type": "stream",
       "stream": "stderr",
       "text": [
        "WARNING:sarpy.io.Adata_classes:Could not load AData\n"
       ]
      },
      {
       "output_type": "stream",
       "stream": "stderr",
       "text": [
        "WARNING:sarpy.io.Adata_classes:Need precisely one parameter file *json, found: []\n"
       ]
      },
      {
       "output_type": "stream",
       "stream": "stderr",
       "text": [
        "WARNING:sarpy.io.Adata_classes:Could not load AData\n"
       ]
      },
      {
       "output_type": "stream",
       "stream": "stderr",
       "text": [
        "WARNING:sarpy.io.Adata_classes:Need precisely one parameter file *json, found: []\n"
       ]
      },
      {
       "output_type": "stream",
       "stream": "stderr",
       "text": [
        "WARNING:sarpy.io.Adata_classes:Could not load AData\n"
       ]
      },
      {
       "output_type": "stream",
       "stream": "stderr",
       "text": [
        "WARNING:sarpy.io.Adata_classes:Need precisely one parameter file *json, found: []\n"
       ]
      },
      {
       "output_type": "stream",
       "stream": "stderr",
       "text": [
        "WARNING:sarpy.io.Adata_classes:Could not load AData\n"
       ]
      },
      {
       "output_type": "stream",
       "stream": "stderr",
       "text": [
        "WARNING:sarpy.io.Adata_classes:Need precisely one parameter file *json, found: []\n"
       ]
      },
      {
       "output_type": "stream",
       "stream": "stderr",
       "text": [
        "WARNING:sarpy.io.Adata_classes:Could not load AData\n"
       ]
      },
      {
       "output_type": "stream",
       "stream": "stderr",
       "text": [
        "WARNING:sarpy.io.Adata_classes:Need precisely one parameter file *json, found: []\n"
       ]
      },
      {
       "output_type": "stream",
       "stream": "stderr",
       "text": [
        "WARNING:sarpy.io.Adata_classes:Could not load AData\n"
       ]
      },
      {
       "output_type": "stream",
       "stream": "stderr",
       "text": [
        "WARNING:sarpy.io.Adata_classes:Need precisely one parameter file *json, found: []\n"
       ]
      },
      {
       "output_type": "stream",
       "stream": "stderr",
       "text": [
        "WARNING:sarpy.io.Adata_classes:Could not load AData\n"
       ]
      },
      {
       "output_type": "stream",
       "stream": "stderr",
       "text": [
        "WARNING:sarpy.io.Adata_classes:Need precisely one parameter file *json, found: []\n"
       ]
      },
      {
       "output_type": "stream",
       "stream": "stderr",
       "text": [
        "WARNING:sarpy.io.Adata_classes:Could not load AData\n"
       ]
      },
      {
       "output_type": "stream",
       "stream": "stderr",
       "text": [
        "WARNING:sarpy.io.Adata_classes:Need precisely one parameter file *json, found: []\n"
       ]
      },
      {
       "output_type": "stream",
       "stream": "stderr",
       "text": [
        "WARNING:sarpy.io.Adata_classes:Could not load AData\n"
       ]
      },
      {
       "output_type": "stream",
       "stream": "stderr",
       "text": [
        "WARNING:sarpy.io.Adata_classes:Need precisely one parameter file *json, found: []\n"
       ]
      },
      {
       "output_type": "stream",
       "stream": "stderr",
       "text": [
        "WARNING:sarpy.io.Adata_classes:Could not load AData\n"
       ]
      },
      {
       "output_type": "stream",
       "stream": "stderr",
       "text": [
        "WARNING:sarpy.io.Adata_classes:Need precisely one parameter file *json, found: []\n"
       ]
      },
      {
       "output_type": "stream",
       "stream": "stderr",
       "text": [
        "WARNING:sarpy.io.Adata_classes:Could not load AData\n"
       ]
      },
      {
       "output_type": "stream",
       "stream": "stderr",
       "text": [
        "WARNING:sarpy.io.Adata_classes:Need precisely one parameter file *json, found: []\n"
       ]
      },
      {
       "output_type": "stream",
       "stream": "stderr",
       "text": [
        "WARNING:sarpy.io.Adata_classes:Could not load AData\n"
       ]
      },
      {
       "output_type": "stream",
       "stream": "stderr",
       "text": [
        "WARNING:sarpy.io.Adata_classes:Need precisely one parameter file *json, found: []\n"
       ]
      },
      {
       "output_type": "stream",
       "stream": "stderr",
       "text": [
        "WARNING:sarpy.io.Adata_classes:Could not load AData\n"
       ]
      },
      {
       "output_type": "stream",
       "stream": "stderr",
       "text": [
        "WARNING:sarpy.io.Adata_classes:Need precisely one parameter file *json, found: []\n"
       ]
      },
      {
       "output_type": "stream",
       "stream": "stderr",
       "text": [
        "WARNING:sarpy.io.Adata_classes:Could not load AData\n"
       ]
      },
      {
       "output_type": "stream",
       "stream": "stderr",
       "text": [
        "WARNING:sarpy.io.Adata_classes:Need precisely one parameter file *json, found: []\n"
       ]
      },
      {
       "output_type": "stream",
       "stream": "stderr",
       "text": [
        "WARNING:sarpy.io.Adata_classes:Could not load AData\n"
       ]
      },
      {
       "output_type": "stream",
       "stream": "stderr",
       "text": [
        "WARNING:sarpy.io.Adata_classes:Need precisely one parameter file *json, found: []\n"
       ]
      },
      {
       "output_type": "stream",
       "stream": "stderr",
       "text": [
        "WARNING:sarpy.io.Adata_classes:Could not load AData\n"
       ]
      },
      {
       "output_type": "stream",
       "stream": "stderr",
       "text": [
        "WARNING:sarpy.io.Adata_classes:Need precisely one parameter file *json, found: []\n"
       ]
      },
      {
       "output_type": "stream",
       "stream": "stderr",
       "text": [
        "WARNING:sarpy.io.Adata_classes:Could not load AData\n"
       ]
      },
      {
       "output_type": "stream",
       "stream": "stderr",
       "text": [
        "WARNING:sarpy.io.Adata_classes:Need precisely one parameter file *json, found: []\n"
       ]
      },
      {
       "output_type": "stream",
       "stream": "stderr",
       "text": [
        "WARNING:sarpy.io.Adata_classes:Could not load AData\n"
       ]
      },
      {
       "output_type": "stream",
       "stream": "stderr",
       "text": [
        "WARNING:sarpy.io.Adata_classes:Need precisely one parameter file *json, found: []\n"
       ]
      },
      {
       "output_type": "stream",
       "stream": "stderr",
       "text": [
        "WARNING:sarpy.io.Adata_classes:Could not load AData\n"
       ]
      },
      {
       "output_type": "stream",
       "stream": "stderr",
       "text": [
        "WARNING:sarpy.io.Adata_classes:Need precisely one parameter file *json, found: []\n"
       ]
      },
      {
       "output_type": "stream",
       "stream": "stderr",
       "text": [
        "WARNING:sarpy.io.Adata_classes:Could not load AData\n"
       ]
      },
      {
       "output_type": "stream",
       "stream": "stderr",
       "text": [
        "WARNING:sarpy.io.Adata_classes:Need precisely one parameter file *json, found: []\n"
       ]
      },
      {
       "output_type": "stream",
       "stream": "stderr",
       "text": [
        "WARNING:sarpy.io.Adata_classes:Could not load AData\n"
       ]
      },
      {
       "output_type": "stream",
       "stream": "stderr",
       "text": [
        "WARNING:sarpy.io.Adata_classes:Need precisely one parameter file *json, found: []\n"
       ]
      },
      {
       "output_type": "stream",
       "stream": "stderr",
       "text": [
        "WARNING:sarpy.io.Adata_classes:Could not load AData\n"
       ]
      },
      {
       "output_type": "stream",
       "stream": "stderr",
       "text": [
        "WARNING:sarpy.io.Adata_classes:Need precisely one parameter file *json, found: []\n"
       ]
      },
      {
       "output_type": "stream",
       "stream": "stderr",
       "text": [
        "WARNING:sarpy.io.Adata_classes:Could not load AData\n"
       ]
      },
      {
       "output_type": "stream",
       "stream": "stderr",
       "text": [
        "WARNING:sarpy.io.Adata_classes:Need precisely one parameter file *json, found: []\n"
       ]
      },
      {
       "output_type": "stream",
       "stream": "stderr",
       "text": [
        "WARNING:sarpy.io.Adata_classes:Could not load AData\n"
       ]
      },
      {
       "output_type": "stream",
       "stream": "stderr",
       "text": [
        "WARNING:sarpy.io.Adata_classes:Need precisely one parameter file *json, found: []\n"
       ]
      },
      {
       "output_type": "stream",
       "stream": "stderr",
       "text": [
        "WARNING:sarpy.io.Adata_classes:Could not load AData\n"
       ]
      },
      {
       "output_type": "stream",
       "stream": "stderr",
       "text": [
        "WARNING:sarpy.io.Adata_classes:Need precisely one parameter file *json, found: []\n"
       ]
      },
      {
       "output_type": "stream",
       "stream": "stderr",
       "text": [
        "WARNING:sarpy.io.Adata_classes:Could not load AData\n"
       ]
      },
      {
       "output_type": "stream",
       "stream": "stderr",
       "text": [
        "WARNING:sarpy.io.Adata_classes:Need precisely one parameter file *json, found: []\n"
       ]
      },
      {
       "output_type": "stream",
       "stream": "stderr",
       "text": [
        "WARNING:sarpy.io.Adata_classes:Could not load AData\n"
       ]
      },
      {
       "output_type": "stream",
       "stream": "stderr",
       "text": [
        "WARNING:sarpy.io.Adata_classes:Need precisely one parameter file *json, found: []\n"
       ]
      },
      {
       "output_type": "stream",
       "stream": "stderr",
       "text": [
        "WARNING:sarpy.io.Adata_classes:Could not load AData\n"
       ]
      },
      {
       "output_type": "stream",
       "stream": "stderr",
       "text": [
        "WARNING:sarpy.io.Adata_classes:Need precisely one parameter file *json, found: []\n"
       ]
      },
      {
       "output_type": "stream",
       "stream": "stderr",
       "text": [
        "WARNING:sarpy.io.Adata_classes:Could not load AData\n"
       ]
      },
      {
       "output_type": "stream",
       "stream": "stderr",
       "text": [
        "WARNING:sarpy.io.Adata_classes:Need precisely one parameter file *json, found: []\n"
       ]
      },
      {
       "output_type": "stream",
       "stream": "stderr",
       "text": [
        "WARNING:sarpy.io.Adata_classes:Could not load AData\n"
       ]
      },
      {
       "output_type": "stream",
       "stream": "stderr",
       "text": [
        "WARNING:sarpy.io.Adata_classes:Need precisely one parameter file *json, found: []\n"
       ]
      },
      {
       "output_type": "stream",
       "stream": "stderr",
       "text": [
        "WARNING:sarpy.io.Adata_classes:Could not load AData\n"
       ]
      },
      {
       "output_type": "stream",
       "stream": "stderr",
       "text": [
        "WARNING:sarpy.io.Adata_classes:Need precisely one parameter file *json, found: []\n"
       ]
      },
      {
       "output_type": "stream",
       "stream": "stderr",
       "text": [
        "WARNING:sarpy.io.Adata_classes:Could not load AData\n"
       ]
      },
      {
       "output_type": "stream",
       "stream": "stderr",
       "text": [
        "WARNING:sarpy.io.Adata_classes:Need precisely one parameter file *json, found: []\n"
       ]
      },
      {
       "output_type": "stream",
       "stream": "stderr",
       "text": [
        "WARNING:sarpy.io.Adata_classes:Could not load AData\n"
       ]
      },
      {
       "output_type": "stream",
       "stream": "stderr",
       "text": [
        "WARNING:sarpy.io.Adata_classes:Need precisely one parameter file *json, found: []\n"
       ]
      },
      {
       "output_type": "stream",
       "stream": "stderr",
       "text": [
        "WARNING:sarpy.io.Adata_classes:Could not load AData\n"
       ]
      },
      {
       "output_type": "stream",
       "stream": "stderr",
       "text": [
        "WARNING:sarpy.io.Adata_classes:Need precisely one parameter file *json, found: []\n"
       ]
      },
      {
       "output_type": "stream",
       "stream": "stderr",
       "text": [
        "WARNING:sarpy.io.Adata_classes:Could not load AData\n"
       ]
      },
      {
       "output_type": "stream",
       "stream": "stderr",
       "text": [
        "WARNING:sarpy.io.Adata_classes:Need precisely one parameter file *json, found: []\n"
       ]
      },
      {
       "output_type": "stream",
       "stream": "stderr",
       "text": [
        "WARNING:sarpy.io.Adata_classes:Could not load AData\n"
       ]
      },
      {
       "output_type": "stream",
       "stream": "stderr",
       "text": [
        "WARNING:sarpy.io.Adata_classes:Need precisely one parameter file *json, found: []\n"
       ]
      },
      {
       "output_type": "stream",
       "stream": "stderr",
       "text": [
        "WARNING:sarpy.io.Adata_classes:Could not load AData\n"
       ]
      },
      {
       "output_type": "stream",
       "stream": "stderr",
       "text": [
        "WARNING:sarpy.io.Adata_classes:Need precisely one parameter file *json, found: []\n"
       ]
      },
      {
       "output_type": "stream",
       "stream": "stderr",
       "text": [
        "WARNING:sarpy.io.Adata_classes:Could not load AData\n"
       ]
      },
      {
       "output_type": "stream",
       "stream": "stderr",
       "text": [
        "WARNING:sarpy.io.Adata_classes:Need precisely one parameter file *json, found: []\n"
       ]
      },
      {
       "output_type": "stream",
       "stream": "stderr",
       "text": [
        "WARNING:sarpy.io.Adata_classes:Could not load AData\n"
       ]
      },
      {
       "output_type": "stream",
       "stream": "stderr",
       "text": [
        "WARNING:sarpy.io.Adata_classes:Need precisely one parameter file *json, found: []\n"
       ]
      },
      {
       "output_type": "stream",
       "stream": "stderr",
       "text": [
        "WARNING:sarpy.io.Adata_classes:Could not load AData\n"
       ]
      },
      {
       "output_type": "stream",
       "stream": "stderr",
       "text": [
        "WARNING:sarpy.io.Adata_classes:Need precisely one parameter file *json, found: []\n"
       ]
      },
      {
       "output_type": "stream",
       "stream": "stderr",
       "text": [
        "WARNING:sarpy.io.Adata_classes:Could not load AData\n"
       ]
      },
      {
       "output_type": "stream",
       "stream": "stderr",
       "text": [
        "WARNING:sarpy.io.Adata_classes:Need precisely one parameter file *json, found: []\n"
       ]
      },
      {
       "output_type": "stream",
       "stream": "stderr",
       "text": [
        "WARNING:sarpy.io.Adata_classes:Could not load AData\n"
       ]
      },
      {
       "output_type": "stream",
       "stream": "stderr",
       "text": [
        "WARNING:sarpy.io.Adata_classes:Need precisely one parameter file *json, found: []\n"
       ]
      },
      {
       "output_type": "stream",
       "stream": "stderr",
       "text": [
        "WARNING:sarpy.io.Adata_classes:Could not load AData\n"
       ]
      },
      {
       "output_type": "stream",
       "stream": "stderr",
       "text": [
        "WARNING:sarpy.io.Adata_classes:Need precisely one parameter file *json, found: []\n"
       ]
      },
      {
       "output_type": "stream",
       "stream": "stderr",
       "text": [
        "WARNING:sarpy.io.Adata_classes:Could not load AData\n"
       ]
      },
      {
       "output_type": "stream",
       "stream": "stderr",
       "text": [
        "WARNING:sarpy.io.Adata_classes:Need precisely one parameter file *json, found: []\n"
       ]
      },
      {
       "output_type": "stream",
       "stream": "stderr",
       "text": [
        "WARNING:sarpy.io.Adata_classes:Could not load AData\n"
       ]
      },
      {
       "output_type": "stream",
       "stream": "stderr",
       "text": [
        "WARNING:sarpy.io.Adata_classes:Need precisely one parameter file *json, found: []\n"
       ]
      },
      {
       "output_type": "stream",
       "stream": "stderr",
       "text": [
        "WARNING:sarpy.io.Adata_classes:Could not load AData\n"
       ]
      },
      {
       "output_type": "stream",
       "stream": "stderr",
       "text": [
        "WARNING:sarpy.io.Adata_classes:Need precisely one parameter file *json, found: []\n"
       ]
      },
      {
       "output_type": "stream",
       "stream": "stderr",
       "text": [
        "WARNING:sarpy.io.Adata_classes:Could not load AData\n"
       ]
      },
      {
       "output_type": "stream",
       "stream": "stderr",
       "text": [
        "WARNING:sarpy.io.Adata_classes:Need precisely one parameter file *json, found: []\n"
       ]
      },
      {
       "output_type": "stream",
       "stream": "stderr",
       "text": [
        "WARNING:sarpy.io.Adata_classes:Could not load AData\n"
       ]
      },
      {
       "output_type": "stream",
       "stream": "stderr",
       "text": [
        "WARNING:sarpy.io.Adata_classes:Need precisely one parameter file *json, found: []\n"
       ]
      },
      {
       "output_type": "stream",
       "stream": "stderr",
       "text": [
        "WARNING:sarpy.io.Adata_classes:Could not load AData\n"
       ]
      },
      {
       "output_type": "stream",
       "stream": "stderr",
       "text": [
        "WARNING:sarpy.io.Adata_classes:Need precisely one parameter file *json, found: []\n"
       ]
      },
      {
       "output_type": "stream",
       "stream": "stderr",
       "text": [
        "WARNING:sarpy.io.Adata_classes:Could not load AData\n"
       ]
      },
      {
       "output_type": "stream",
       "stream": "stderr",
       "text": [
        "WARNING:sarpy.io.Adata_classes:Need precisely one parameter file *json, found: []\n"
       ]
      },
      {
       "output_type": "stream",
       "stream": "stderr",
       "text": [
        "WARNING:sarpy.io.Adata_classes:Could not load AData\n"
       ]
      },
      {
       "output_type": "stream",
       "stream": "stderr",
       "text": [
        "WARNING:sarpy.io.Adata_classes:Need precisely one parameter file *json, found: []\n"
       ]
      },
      {
       "output_type": "stream",
       "stream": "stderr",
       "text": [
        "WARNING:sarpy.io.Adata_classes:Could not load AData\n"
       ]
      },
      {
       "output_type": "stream",
       "stream": "stderr",
       "text": [
        "WARNING:sarpy.io.Adata_classes:Need precisely one parameter file *json, found: []\n"
       ]
      },
      {
       "output_type": "stream",
       "stream": "stderr",
       "text": [
        "WARNING:sarpy.io.Adata_classes:Could not load AData\n"
       ]
      },
      {
       "output_type": "stream",
       "stream": "stderr",
       "text": [
        "WARNING:sarpy.io.Adata_classes:Need precisely one parameter file *json, found: []\n"
       ]
      },
      {
       "output_type": "stream",
       "stream": "stderr",
       "text": [
        "WARNING:sarpy.io.Adata_classes:Could not load AData\n"
       ]
      },
      {
       "output_type": "stream",
       "stream": "stderr",
       "text": [
        "WARNING:sarpy.io.Adata_classes:Need precisely one parameter file *json, found: []\n"
       ]
      },
      {
       "output_type": "stream",
       "stream": "stderr",
       "text": [
        "WARNING:sarpy.io.Adata_classes:Could not load AData\n"
       ]
      },
      {
       "output_type": "stream",
       "stream": "stderr",
       "text": [
        "WARNING:sarpy.io.Adata_classes:Need precisely one parameter file *json, found: []\n"
       ]
      },
      {
       "output_type": "stream",
       "stream": "stderr",
       "text": [
        "WARNING:sarpy.io.Adata_classes:Could not load AData\n"
       ]
      },
      {
       "output_type": "stream",
       "stream": "stderr",
       "text": [
        "WARNING:sarpy.io.Adata_classes:Need precisely one parameter file *json, found: []\n"
       ]
      },
      {
       "output_type": "stream",
       "stream": "stderr",
       "text": [
        "WARNING:sarpy.io.Adata_classes:Could not load AData\n"
       ]
      },
      {
       "output_type": "stream",
       "stream": "stderr",
       "text": [
        "WARNING:sarpy.io.Adata_classes:Need precisely one parameter file *json, found: []\n"
       ]
      },
      {
       "output_type": "stream",
       "stream": "stderr",
       "text": [
        "WARNING:sarpy.io.Adata_classes:Could not load AData\n"
       ]
      },
      {
       "output_type": "stream",
       "stream": "stderr",
       "text": [
        "WARNING:sarpy.io.Adata_classes:Need precisely one parameter file *json, found: []\n"
       ]
      },
      {
       "output_type": "stream",
       "stream": "stderr",
       "text": [
        "WARNING:sarpy.io.Adata_classes:Could not load AData\n"
       ]
      },
      {
       "output_type": "stream",
       "stream": "stderr",
       "text": [
        "WARNING:sarpy.io.Adata_classes:Need precisely one parameter file *json, found: []\n"
       ]
      },
      {
       "output_type": "stream",
       "stream": "stderr",
       "text": [
        "WARNING:sarpy.io.Adata_classes:Could not load AData\n"
       ]
      },
      {
       "output_type": "stream",
       "stream": "stderr",
       "text": [
        "WARNING:sarpy.io.Adata_classes:Need precisely one parameter file *json, found: []\n"
       ]
      },
      {
       "output_type": "stream",
       "stream": "stderr",
       "text": [
        "WARNING:sarpy.io.Adata_classes:Could not load AData\n"
       ]
      },
      {
       "output_type": "stream",
       "stream": "stderr",
       "text": [
        "WARNING:sarpy.io.Adata_classes:Need precisely one parameter file *json, found: []\n"
       ]
      },
      {
       "output_type": "stream",
       "stream": "stderr",
       "text": [
        "WARNING:sarpy.io.Adata_classes:Could not load AData\n"
       ]
      },
      {
       "output_type": "stream",
       "stream": "stderr",
       "text": [
        "WARNING:sarpy.io.Adata_classes:Need precisely one parameter file *json, found: []\n"
       ]
      },
      {
       "output_type": "stream",
       "stream": "stderr",
       "text": [
        "WARNING:sarpy.io.Adata_classes:Could not load AData\n"
       ]
      },
      {
       "output_type": "stream",
       "stream": "stderr",
       "text": [
        "WARNING:sarpy.io.Adata_classes:Need precisely one parameter file *json, found: []\n"
       ]
      },
      {
       "output_type": "stream",
       "stream": "stderr",
       "text": [
        "WARNING:sarpy.io.Adata_classes:Could not load AData\n"
       ]
      },
      {
       "output_type": "stream",
       "stream": "stderr",
       "text": [
        "WARNING:sarpy.io.Adata_classes:Need precisely one parameter file *json, found: []\n"
       ]
      },
      {
       "output_type": "stream",
       "stream": "stderr",
       "text": [
        "WARNING:sarpy.io.Adata_classes:Could not load AData\n"
       ]
      },
      {
       "output_type": "stream",
       "stream": "stderr",
       "text": [
        "WARNING:sarpy.io.Adata_classes:Need precisely one parameter file *json, found: []\n"
       ]
      },
      {
       "output_type": "stream",
       "stream": "stderr",
       "text": [
        "WARNING:sarpy.io.Adata_classes:Could not load AData\n"
       ]
      },
      {
       "output_type": "stream",
       "stream": "stderr",
       "text": [
        "WARNING:sarpy.io.Adata_classes:Need precisely one parameter file *json, found: []\n"
       ]
      },
      {
       "output_type": "stream",
       "stream": "stderr",
       "text": [
        "WARNING:sarpy.io.Adata_classes:Could not load AData\n"
       ]
      },
      {
       "output_type": "stream",
       "stream": "stderr",
       "text": [
        "WARNING:sarpy.io.Adata_classes:Need precisely one parameter file *json, found: []\n"
       ]
      },
      {
       "output_type": "stream",
       "stream": "stderr",
       "text": [
        "WARNING:sarpy.io.Adata_classes:Could not load AData\n"
       ]
      },
      {
       "output_type": "stream",
       "stream": "stderr",
       "text": [
        "WARNING:sarpy.io.Adata_classes:Need precisely one parameter file *json, found: []\n"
       ]
      },
      {
       "output_type": "stream",
       "stream": "stderr",
       "text": [
        "WARNING:sarpy.io.Adata_classes:Could not load AData\n"
       ]
      },
      {
       "output_type": "stream",
       "stream": "stderr",
       "text": [
        "WARNING:sarpy.io.Adata_classes:Need precisely one parameter file *json, found: []\n"
       ]
      },
      {
       "output_type": "stream",
       "stream": "stderr",
       "text": [
        "WARNING:sarpy.io.Adata_classes:Could not load AData\n"
       ]
      },
      {
       "output_type": "stream",
       "stream": "stderr",
       "text": [
        "WARNING:sarpy.io.Adata_classes:Need precisely one parameter file *json, found: []\n"
       ]
      },
      {
       "output_type": "stream",
       "stream": "stderr",
       "text": [
        "WARNING:sarpy.io.Adata_classes:Could not load AData\n"
       ]
      },
      {
       "output_type": "stream",
       "stream": "stderr",
       "text": [
        "WARNING:sarpy.io.Adata_classes:Need precisely one parameter file *json, found: []\n"
       ]
      },
      {
       "output_type": "stream",
       "stream": "stderr",
       "text": [
        "WARNING:sarpy.io.Adata_classes:Could not load AData\n"
       ]
      },
      {
       "output_type": "stream",
       "stream": "stderr",
       "text": [
        "WARNING:sarpy.io.Adata_classes:Need precisely one parameter file *json, found: []\n"
       ]
      },
      {
       "output_type": "stream",
       "stream": "stderr",
       "text": [
        "WARNING:sarpy.io.Adata_classes:Could not load AData\n"
       ]
      },
      {
       "output_type": "stream",
       "stream": "stderr",
       "text": [
        "WARNING:sarpy.io.Adata_classes:Need precisely one parameter file *json, found: []\n"
       ]
      },
      {
       "output_type": "stream",
       "stream": "stderr",
       "text": [
        "WARNING:sarpy.io.Adata_classes:Could not load AData\n"
       ]
      },
      {
       "output_type": "stream",
       "stream": "stderr",
       "text": [
        "WARNING:sarpy.io.Adata_classes:Need precisely one parameter file *json, found: []\n"
       ]
      },
      {
       "output_type": "stream",
       "stream": "stderr",
       "text": [
        "WARNING:sarpy.io.Adata_classes:Could not load AData\n"
       ]
      },
      {
       "output_type": "stream",
       "stream": "stderr",
       "text": [
        "WARNING:sarpy.io.Adata_classes:Need precisely one parameter file *json, found: []\n"
       ]
      },
      {
       "output_type": "stream",
       "stream": "stderr",
       "text": [
        "WARNING:sarpy.io.Adata_classes:Could not load AData\n"
       ]
      },
      {
       "output_type": "stream",
       "stream": "stderr",
       "text": [
        "WARNING:sarpy.io.Adata_classes:Need precisely one parameter file *json, found: []\n"
       ]
      },
      {
       "output_type": "stream",
       "stream": "stderr",
       "text": [
        "WARNING:sarpy.io.Adata_classes:Could not load AData\n"
       ]
      },
      {
       "output_type": "stream",
       "stream": "stderr",
       "text": [
        "WARNING:sarpy.io.Adata_classes:Need precisely one parameter file *json, found: []\n"
       ]
      },
      {
       "output_type": "stream",
       "stream": "stderr",
       "text": [
        "WARNING:sarpy.io.Adata_classes:Could not load AData\n"
       ]
      },
      {
       "output_type": "stream",
       "stream": "stderr",
       "text": [
        "WARNING:sarpy.io.Adata_classes:Need precisely one parameter file *json, found: []\n"
       ]
      },
      {
       "output_type": "stream",
       "stream": "stderr",
       "text": [
        "WARNING:sarpy.io.Adata_classes:Could not load AData\n"
       ]
      },
      {
       "output_type": "stream",
       "stream": "stderr",
       "text": [
        "WARNING:sarpy.io.Adata_classes:Need precisely one parameter file *json, found: []\n"
       ]
      },
      {
       "output_type": "stream",
       "stream": "stderr",
       "text": [
        "WARNING:sarpy.io.Adata_classes:Could not load AData\n"
       ]
      },
      {
       "output_type": "stream",
       "stream": "stderr",
       "text": [
        "WARNING:sarpy.io.Adata_classes:Need precisely one parameter file *json, found: []\n"
       ]
      },
      {
       "output_type": "stream",
       "stream": "stderr",
       "text": [
        "WARNING:sarpy.io.Adata_classes:Could not load AData\n"
       ]
      },
      {
       "output_type": "stream",
       "stream": "stderr",
       "text": [
        "WARNING:sarpy.io.Adata_classes:Need precisely one parameter file *json, found: []\n"
       ]
      },
      {
       "output_type": "stream",
       "stream": "stderr",
       "text": [
        "WARNING:sarpy.io.Adata_classes:Could not load AData\n"
       ]
      },
      {
       "output_type": "stream",
       "stream": "stderr",
       "text": [
        "WARNING:sarpy.io.Adata_classes:Need precisely one parameter file *json, found: []\n"
       ]
      },
      {
       "output_type": "stream",
       "stream": "stderr",
       "text": [
        "WARNING:sarpy.io.Adata_classes:Could not load AData\n"
       ]
      },
      {
       "output_type": "stream",
       "stream": "stderr",
       "text": [
        "WARNING:sarpy.io.Adata_classes:Need precisely one parameter file *json, found: []\n"
       ]
      },
      {
       "output_type": "stream",
       "stream": "stderr",
       "text": [
        "WARNING:sarpy.io.Adata_classes:Could not load AData\n"
       ]
      },
      {
       "output_type": "stream",
       "stream": "stderr",
       "text": [
        "WARNING:sarpy.io.Adata_classes:Need precisely one parameter file *json, found: []\n"
       ]
      },
      {
       "output_type": "stream",
       "stream": "stderr",
       "text": [
        "WARNING:sarpy.io.Adata_classes:Could not load AData\n"
       ]
      },
      {
       "output_type": "stream",
       "stream": "stderr",
       "text": [
        "WARNING:sarpy.io.Adata_classes:Need precisely one parameter file *json, found: []\n"
       ]
      },
      {
       "output_type": "stream",
       "stream": "stderr",
       "text": [
        "WARNING:sarpy.io.Adata_classes:Could not load AData\n"
       ]
      },
      {
       "output_type": "stream",
       "stream": "stderr",
       "text": [
        "WARNING:sarpy.io.Adata_classes:Need precisely one parameter file *json, found: []\n"
       ]
      },
      {
       "output_type": "stream",
       "stream": "stderr",
       "text": [
        "WARNING:sarpy.io.Adata_classes:Could not load AData\n"
       ]
      },
      {
       "output_type": "stream",
       "stream": "stderr",
       "text": [
        "WARNING:sarpy.io.Adata_classes:Need precisely one parameter file *json, found: []\n"
       ]
      },
      {
       "output_type": "stream",
       "stream": "stderr",
       "text": [
        "WARNING:sarpy.io.Adata_classes:Could not load AData\n"
       ]
      },
      {
       "output_type": "stream",
       "stream": "stderr",
       "text": [
        "WARNING:sarpy.io.Adata_classes:Need precisely one parameter file *json, found: []\n"
       ]
      },
      {
       "output_type": "stream",
       "stream": "stderr",
       "text": [
        "WARNING:sarpy.io.Adata_classes:Could not load AData\n"
       ]
      },
      {
       "output_type": "stream",
       "stream": "stderr",
       "text": [
        "WARNING:sarpy.io.Adata_classes:Need precisely one parameter file *json, found: []\n"
       ]
      },
      {
       "output_type": "stream",
       "stream": "stderr",
       "text": [
        "WARNING:sarpy.io.Adata_classes:Could not load AData\n"
       ]
      },
      {
       "output_type": "stream",
       "stream": "stderr",
       "text": [
        "WARNING:sarpy.io.Adata_classes:Need precisely one parameter file *json, found: []\n"
       ]
      },
      {
       "output_type": "stream",
       "stream": "stderr",
       "text": [
        "WARNING:sarpy.io.Adata_classes:Could not load AData\n"
       ]
      },
      {
       "output_type": "stream",
       "stream": "stderr",
       "text": [
        "WARNING:sarpy.io.Adata_classes:Need precisely one parameter file *json, found: []\n"
       ]
      },
      {
       "output_type": "stream",
       "stream": "stderr",
       "text": [
        "WARNING:sarpy.io.Adata_classes:Could not load AData\n"
       ]
      },
      {
       "output_type": "stream",
       "stream": "stderr",
       "text": [
        "WARNING:sarpy.io.Adata_classes:Need precisely one parameter file *json, found: []\n"
       ]
      },
      {
       "output_type": "stream",
       "stream": "stderr",
       "text": [
        "WARNING:sarpy.io.Adata_classes:Could not load AData\n"
       ]
      },
      {
       "output_type": "stream",
       "stream": "stderr",
       "text": [
        "WARNING:sarpy.io.Adata_classes:Need precisely one parameter file *json, found: []\n"
       ]
      },
      {
       "output_type": "stream",
       "stream": "stderr",
       "text": [
        "WARNING:sarpy.io.Adata_classes:Could not load AData\n"
       ]
      },
      {
       "output_type": "stream",
       "stream": "stderr",
       "text": [
        "WARNING:sarpy.io.Adata_classes:Need precisely one parameter file *json, found: []\n"
       ]
      },
      {
       "output_type": "stream",
       "stream": "stderr",
       "text": [
        "WARNING:sarpy.io.Adata_classes:Could not load AData\n"
       ]
      },
      {
       "output_type": "stream",
       "stream": "stderr",
       "text": [
        "WARNING:sarpy.io.Adata_classes:Need precisely one parameter file *json, found: []\n"
       ]
      },
      {
       "output_type": "stream",
       "stream": "stderr",
       "text": [
        "WARNING:sarpy.io.Adata_classes:Could not load AData\n"
       ]
      },
      {
       "output_type": "stream",
       "stream": "stderr",
       "text": [
        "WARNING:sarpy.io.Adata_classes:Need precisely one parameter file *json, found: []\n"
       ]
      },
      {
       "output_type": "stream",
       "stream": "stderr",
       "text": [
        "WARNING:sarpy.io.Adata_classes:Could not load AData\n"
       ]
      },
      {
       "output_type": "stream",
       "stream": "stderr",
       "text": [
        "WARNING:sarpy.io.Adata_classes:Need precisely one parameter file *json, found: []\n"
       ]
      },
      {
       "output_type": "stream",
       "stream": "stderr",
       "text": [
        "WARNING:sarpy.io.Adata_classes:Could not load AData\n"
       ]
      },
      {
       "output_type": "stream",
       "stream": "stderr",
       "text": [
        "WARNING:sarpy.io.Adata_classes:Need precisely one parameter file *json, found: []\n"
       ]
      },
      {
       "output_type": "stream",
       "stream": "stderr",
       "text": [
        "WARNING:sarpy.io.Adata_classes:Could not load AData\n"
       ]
      },
      {
       "output_type": "stream",
       "stream": "stderr",
       "text": [
        "WARNING:sarpy.io.Adata_classes:Need precisely one parameter file *json, found: []\n"
       ]
      },
      {
       "output_type": "stream",
       "stream": "stderr",
       "text": [
        "WARNING:sarpy.io.Adata_classes:Could not load AData\n"
       ]
      },
      {
       "output_type": "stream",
       "stream": "stderr",
       "text": [
        "WARNING:sarpy.io.Adata_classes:Need precisely one parameter file *json, found: []\n"
       ]
      },
      {
       "output_type": "stream",
       "stream": "stderr",
       "text": [
        "WARNING:sarpy.io.Adata_classes:Could not load AData\n"
       ]
      },
      {
       "output_type": "stream",
       "stream": "stderr",
       "text": [
        "WARNING:sarpy.io.Adata_classes:Need precisely one parameter file *json, found: []\n"
       ]
      },
      {
       "output_type": "stream",
       "stream": "stderr",
       "text": [
        "WARNING:sarpy.io.Adata_classes:Could not load AData\n"
       ]
      },
      {
       "output_type": "stream",
       "stream": "stderr",
       "text": [
        "WARNING:sarpy.io.Adata_classes:Need precisely one parameter file *json, found: []\n"
       ]
      },
      {
       "output_type": "stream",
       "stream": "stderr",
       "text": [
        "WARNING:sarpy.io.Adata_classes:Could not load AData\n"
       ]
      },
      {
       "output_type": "stream",
       "stream": "stderr",
       "text": [
        "WARNING:sarpy.io.Adata_classes:Need precisely one parameter file *json, found: []\n"
       ]
      },
      {
       "output_type": "stream",
       "stream": "stderr",
       "text": [
        "WARNING:sarpy.io.Adata_classes:Could not load AData\n"
       ]
      },
      {
       "output_type": "stream",
       "stream": "stderr",
       "text": [
        "WARNING:sarpy.io.Adata_classes:Need precisely one parameter file *json, found: []\n"
       ]
      },
      {
       "output_type": "stream",
       "stream": "stderr",
       "text": [
        "WARNING:sarpy.io.Adata_classes:Could not load AData\n"
       ]
      },
      {
       "output_type": "stream",
       "stream": "stderr",
       "text": [
        "WARNING:sarpy.io.Adata_classes:Need precisely one parameter file *json, found: []\n"
       ]
      },
      {
       "output_type": "stream",
       "stream": "stderr",
       "text": [
        "WARNING:sarpy.io.Adata_classes:Could not load AData\n"
       ]
      },
      {
       "output_type": "stream",
       "stream": "stderr",
       "text": [
        "WARNING:sarpy.io.Adata_classes:Need precisely one parameter file *json, found: []\n"
       ]
      },
      {
       "output_type": "stream",
       "stream": "stderr",
       "text": [
        "WARNING:sarpy.io.Adata_classes:Could not load AData\n"
       ]
      },
      {
       "output_type": "stream",
       "stream": "stderr",
       "text": [
        "WARNING:sarpy.io.Adata_classes:Need precisely one parameter file *json, found: []\n"
       ]
      },
      {
       "output_type": "stream",
       "stream": "stderr",
       "text": [
        "WARNING:sarpy.io.Adata_classes:Could not load AData\n"
       ]
      },
      {
       "output_type": "stream",
       "stream": "stderr",
       "text": [
        "WARNING:sarpy.io.Adata_classes:Need precisely one parameter file *json, found: []\n"
       ]
      },
      {
       "output_type": "stream",
       "stream": "stderr",
       "text": [
        "WARNING:sarpy.io.Adata_classes:Could not load AData\n"
       ]
      },
      {
       "output_type": "stream",
       "stream": "stderr",
       "text": [
        "WARNING:sarpy.io.Adata_classes:Need precisely one parameter file *json, found: []\n"
       ]
      },
      {
       "output_type": "stream",
       "stream": "stderr",
       "text": [
        "WARNING:sarpy.io.Adata_classes:Could not load AData\n"
       ]
      },
      {
       "output_type": "stream",
       "stream": "stderr",
       "text": [
        "WARNING:sarpy.io.Adata_classes:Need precisely one parameter file *json, found: []\n"
       ]
      },
      {
       "output_type": "stream",
       "stream": "stderr",
       "text": [
        "WARNING:sarpy.io.Adata_classes:Could not load AData\n"
       ]
      },
      {
       "output_type": "stream",
       "stream": "stderr",
       "text": [
        "WARNING:sarpy.io.Adata_classes:Need precisely one parameter file *json, found: []\n"
       ]
      },
      {
       "output_type": "stream",
       "stream": "stderr",
       "text": [
        "WARNING:sarpy.io.Adata_classes:Could not load AData\n"
       ]
      },
      {
       "output_type": "stream",
       "stream": "stderr",
       "text": [
        "WARNING:sarpy.io.Adata_classes:Need precisely one parameter file *json, found: []\n"
       ]
      },
      {
       "output_type": "stream",
       "stream": "stderr",
       "text": [
        "WARNING:sarpy.io.Adata_classes:Could not load AData\n"
       ]
      },
      {
       "output_type": "stream",
       "stream": "stderr",
       "text": [
        "WARNING:sarpy.io.Adata_classes:Need precisely one parameter file *json, found: []\n"
       ]
      },
      {
       "output_type": "stream",
       "stream": "stderr",
       "text": [
        "WARNING:sarpy.io.Adata_classes:Could not load AData\n"
       ]
      },
      {
       "output_type": "stream",
       "stream": "stderr",
       "text": [
        "WARNING:sarpy.io.Adata_classes:Need precisely one parameter file *json, found: []\n"
       ]
      },
      {
       "output_type": "stream",
       "stream": "stderr",
       "text": [
        "WARNING:sarpy.io.Adata_classes:Could not load AData\n"
       ]
      },
      {
       "output_type": "stream",
       "stream": "stderr",
       "text": [
        "WARNING:sarpy.io.Adata_classes:Need precisely one parameter file *json, found: []\n"
       ]
      },
      {
       "output_type": "stream",
       "stream": "stderr",
       "text": [
        "WARNING:sarpy.io.Adata_classes:Could not load AData\n"
       ]
      },
      {
       "output_type": "stream",
       "stream": "stderr",
       "text": [
        "WARNING:sarpy.io.Adata_classes:Need precisely one parameter file *json, found: []\n"
       ]
      },
      {
       "output_type": "stream",
       "stream": "stderr",
       "text": [
        "WARNING:sarpy.io.Adata_classes:Could not load AData\n"
       ]
      },
      {
       "output_type": "stream",
       "stream": "stderr",
       "text": [
        "WARNING:sarpy.io.Adata_classes:Need precisely one parameter file *json, found: []\n"
       ]
      },
      {
       "output_type": "stream",
       "stream": "stderr",
       "text": [
        "WARNING:sarpy.io.Adata_classes:Could not load AData\n"
       ]
      },
      {
       "output_type": "stream",
       "stream": "stderr",
       "text": [
        "WARNING:sarpy.io.Adata_classes:Need precisely one parameter file *json, found: []\n"
       ]
      },
      {
       "output_type": "stream",
       "stream": "stderr",
       "text": [
        "WARNING:sarpy.io.Adata_classes:Could not load AData\n"
       ]
      },
      {
       "output_type": "stream",
       "stream": "stderr",
       "text": [
        "WARNING:sarpy.io.Adata_classes:Need precisely one parameter file *json, found: []\n"
       ]
      },
      {
       "output_type": "stream",
       "stream": "stderr",
       "text": [
        "WARNING:sarpy.io.Adata_classes:Could not load AData\n"
       ]
      },
      {
       "output_type": "stream",
       "stream": "stderr",
       "text": [
        "WARNING:sarpy.io.Adata_classes:Need precisely one parameter file *json, found: []\n"
       ]
      },
      {
       "output_type": "stream",
       "stream": "stderr",
       "text": [
        "WARNING:sarpy.io.Adata_classes:Could not load AData\n"
       ]
      },
      {
       "output_type": "stream",
       "stream": "stderr",
       "text": [
        "WARNING:sarpy.io.Adata_classes:Need precisely one parameter file *json, found: []\n"
       ]
      },
      {
       "output_type": "stream",
       "stream": "stderr",
       "text": [
        "WARNING:sarpy.io.Adata_classes:Could not load AData\n"
       ]
      },
      {
       "output_type": "stream",
       "stream": "stderr",
       "text": [
        "WARNING:sarpy.io.Adata_classes:Need precisely one parameter file *json, found: []\n"
       ]
      },
      {
       "output_type": "stream",
       "stream": "stderr",
       "text": [
        "WARNING:sarpy.io.Adata_classes:Could not load AData\n"
       ]
      },
      {
       "output_type": "stream",
       "stream": "stderr",
       "text": [
        "WARNING:sarpy.io.Adata_classes:Need precisely one parameter file *json, found: []\n"
       ]
      },
      {
       "output_type": "stream",
       "stream": "stderr",
       "text": [
        "WARNING:sarpy.io.Adata_classes:Could not load AData\n"
       ]
      },
      {
       "output_type": "stream",
       "stream": "stderr",
       "text": [
        "WARNING:sarpy.io.Adata_classes:Need precisely one parameter file *json, found: []\n"
       ]
      },
      {
       "output_type": "stream",
       "stream": "stderr",
       "text": [
        "WARNING:sarpy.io.Adata_classes:Could not load AData\n"
       ]
      },
      {
       "output_type": "stream",
       "stream": "stderr",
       "text": [
        "WARNING:sarpy.io.Adata_classes:Need precisely one parameter file *json, found: []\n"
       ]
      },
      {
       "output_type": "stream",
       "stream": "stderr",
       "text": [
        "WARNING:sarpy.io.Adata_classes:Could not load AData\n"
       ]
      },
      {
       "output_type": "stream",
       "stream": "stderr",
       "text": [
        "WARNING:sarpy.io.Adata_classes:Need precisely one parameter file *json, found: []\n"
       ]
      },
      {
       "output_type": "stream",
       "stream": "stderr",
       "text": [
        "WARNING:sarpy.io.Adata_classes:Could not load AData\n"
       ]
      },
      {
       "output_type": "stream",
       "stream": "stderr",
       "text": [
        "WARNING:sarpy.io.Adata_classes:Need precisely one parameter file *json, found: []\n"
       ]
      },
      {
       "output_type": "stream",
       "stream": "stderr",
       "text": [
        "WARNING:sarpy.io.Adata_classes:Could not load AData\n"
       ]
      },
      {
       "output_type": "stream",
       "stream": "stderr",
       "text": [
        "WARNING:sarpy.io.Adata_classes:Need precisely one parameter file *json, found: []\n"
       ]
      },
      {
       "output_type": "stream",
       "stream": "stderr",
       "text": [
        "WARNING:sarpy.io.Adata_classes:Could not load AData\n"
       ]
      },
      {
       "output_type": "stream",
       "stream": "stderr",
       "text": [
        "WARNING:sarpy.io.Adata_classes:Need precisely one parameter file *json, found: []\n"
       ]
      },
      {
       "output_type": "stream",
       "stream": "stderr",
       "text": [
        "WARNING:sarpy.io.Adata_classes:Could not load AData\n"
       ]
      },
      {
       "output_type": "stream",
       "stream": "stderr",
       "text": [
        "WARNING:sarpy.io.Adata_classes:Need precisely one parameter file *json, found: []\n"
       ]
      },
      {
       "output_type": "stream",
       "stream": "stderr",
       "text": [
        "WARNING:sarpy.io.Adata_classes:Could not load AData\n"
       ]
      },
      {
       "output_type": "stream",
       "stream": "stderr",
       "text": [
        "WARNING:sarpy.io.Adata_classes:Need precisely one parameter file *json, found: []\n"
       ]
      },
      {
       "output_type": "stream",
       "stream": "stderr",
       "text": [
        "WARNING:sarpy.io.Adata_classes:Could not load AData\n"
       ]
      },
      {
       "output_type": "stream",
       "stream": "stderr",
       "text": [
        "WARNING:sarpy.io.Adata_classes:Need precisely one parameter file *json, found: []\n"
       ]
      },
      {
       "output_type": "stream",
       "stream": "stderr",
       "text": [
        "WARNING:sarpy.io.Adata_classes:Could not load AData\n"
       ]
      },
      {
       "output_type": "stream",
       "stream": "stderr",
       "text": [
        "WARNING:sarpy.io.Adata_classes:Need precisely one parameter file *json, found: []\n"
       ]
      },
      {
       "output_type": "stream",
       "stream": "stderr",
       "text": [
        "WARNING:sarpy.io.Adata_classes:Could not load AData\n"
       ]
      },
      {
       "output_type": "stream",
       "stream": "stderr",
       "text": [
        "WARNING:sarpy.io.Adata_classes:Need precisely one parameter file *json, found: []\n"
       ]
      },
      {
       "output_type": "stream",
       "stream": "stderr",
       "text": [
        "WARNING:sarpy.io.Adata_classes:Could not load AData\n"
       ]
      },
      {
       "output_type": "stream",
       "stream": "stderr",
       "text": [
        "WARNING:sarpy.io.Adata_classes:Need precisely one parameter file *json, found: []\n"
       ]
      },
      {
       "output_type": "stream",
       "stream": "stderr",
       "text": [
        "WARNING:sarpy.io.Adata_classes:Could not load AData\n"
       ]
      },
      {
       "output_type": "stream",
       "stream": "stderr",
       "text": [
        "WARNING:sarpy.io.Adata_classes:Need precisely one parameter file *json, found: []\n"
       ]
      },
      {
       "output_type": "stream",
       "stream": "stderr",
       "text": [
        "WARNING:sarpy.io.Adata_classes:Could not load AData\n"
       ]
      },
      {
       "output_type": "stream",
       "stream": "stderr",
       "text": [
        "WARNING:sarpy.io.Adata_classes:Need precisely one parameter file *json, found: []\n"
       ]
      },
      {
       "output_type": "stream",
       "stream": "stderr",
       "text": [
        "WARNING:sarpy.io.Adata_classes:Could not load AData\n"
       ]
      },
      {
       "output_type": "stream",
       "stream": "stderr",
       "text": [
        "WARNING:sarpy.io.Adata_classes:Need precisely one parameter file *json, found: []\n"
       ]
      },
      {
       "output_type": "stream",
       "stream": "stderr",
       "text": [
        "WARNING:sarpy.io.Adata_classes:Could not load AData\n"
       ]
      },
      {
       "output_type": "stream",
       "stream": "stderr",
       "text": [
        "WARNING:sarpy.io.Adata_classes:Need precisely one parameter file *json, found: []\n"
       ]
      },
      {
       "output_type": "stream",
       "stream": "stderr",
       "text": [
        "WARNING:sarpy.io.Adata_classes:Could not load AData\n"
       ]
      },
      {
       "output_type": "stream",
       "stream": "stderr",
       "text": [
        "WARNING:sarpy.io.Adata_classes:Need precisely one parameter file *json, found: []\n"
       ]
      },
      {
       "output_type": "stream",
       "stream": "stderr",
       "text": [
        "WARNING:sarpy.io.Adata_classes:Could not load AData\n"
       ]
      },
      {
       "output_type": "stream",
       "stream": "stderr",
       "text": [
        "WARNING:sarpy.io.Adata_classes:Need precisely one parameter file *json, found: []\n"
       ]
      },
      {
       "output_type": "stream",
       "stream": "stderr",
       "text": [
        "WARNING:sarpy.io.Adata_classes:Could not load AData\n"
       ]
      },
      {
       "output_type": "stream",
       "stream": "stderr",
       "text": [
        "WARNING:sarpy.io.Adata_classes:Need precisely one parameter file *json, found: []\n"
       ]
      },
      {
       "output_type": "stream",
       "stream": "stderr",
       "text": [
        "WARNING:sarpy.io.Adata_classes:Could not load AData\n"
       ]
      },
      {
       "output_type": "stream",
       "stream": "stderr",
       "text": [
        "WARNING:sarpy.io.Adata_classes:Need precisely one parameter file *json, found: []\n"
       ]
      },
      {
       "output_type": "stream",
       "stream": "stderr",
       "text": [
        "WARNING:sarpy.io.Adata_classes:Could not load AData\n"
       ]
      },
      {
       "output_type": "stream",
       "stream": "stderr",
       "text": [
        "WARNING:sarpy.io.Adata_classes:Need precisely one parameter file *json, found: []\n"
       ]
      },
      {
       "output_type": "stream",
       "stream": "stderr",
       "text": [
        "WARNING:sarpy.io.Adata_classes:Could not load AData\n"
       ]
      },
      {
       "output_type": "stream",
       "stream": "stderr",
       "text": [
        "WARNING:sarpy.io.Adata_classes:Need precisely one parameter file *json, found: []\n"
       ]
      },
      {
       "output_type": "stream",
       "stream": "stderr",
       "text": [
        "WARNING:sarpy.io.Adata_classes:Could not load AData\n"
       ]
      },
      {
       "output_type": "stream",
       "stream": "stderr",
       "text": [
        "WARNING:sarpy.io.Adata_classes:Need precisely one parameter file *json, found: []\n"
       ]
      },
      {
       "output_type": "stream",
       "stream": "stderr",
       "text": [
        "WARNING:sarpy.io.Adata_classes:Could not load AData\n"
       ]
      },
      {
       "output_type": "stream",
       "stream": "stderr",
       "text": [
        "WARNING:sarpy.io.Adata_classes:Need precisely one parameter file *json, found: []\n"
       ]
      },
      {
       "output_type": "stream",
       "stream": "stderr",
       "text": [
        "WARNING:sarpy.io.Adata_classes:Could not load AData\n"
       ]
      },
      {
       "output_type": "stream",
       "stream": "stderr",
       "text": [
        "WARNING:sarpy.io.Adata_classes:Need precisely one parameter file *json, found: []\n"
       ]
      },
      {
       "output_type": "stream",
       "stream": "stderr",
       "text": [
        "WARNING:sarpy.io.Adata_classes:Could not load AData\n"
       ]
      },
      {
       "output_type": "stream",
       "stream": "stderr",
       "text": [
        "WARNING:sarpy.io.Adata_classes:Need precisely one parameter file *json, found: []\n"
       ]
      },
      {
       "output_type": "stream",
       "stream": "stderr",
       "text": [
        "WARNING:sarpy.io.Adata_classes:Could not load AData\n"
       ]
      },
      {
       "output_type": "stream",
       "stream": "stderr",
       "text": [
        "WARNING:sarpy.io.Adata_classes:Need precisely one parameter file *json, found: []\n"
       ]
      },
      {
       "output_type": "stream",
       "stream": "stderr",
       "text": [
        "WARNING:sarpy.io.Adata_classes:Could not load AData\n"
       ]
      },
      {
       "output_type": "stream",
       "stream": "stderr",
       "text": [
        "WARNING:sarpy.io.Adata_classes:Need precisely one parameter file *json, found: []\n"
       ]
      },
      {
       "output_type": "stream",
       "stream": "stderr",
       "text": [
        "WARNING:sarpy.io.Adata_classes:Could not load AData\n"
       ]
      },
      {
       "output_type": "stream",
       "stream": "stderr",
       "text": [
        "WARNING:sarpy.io.Adata_classes:Need precisely one parameter file *json, found: []\n"
       ]
      },
      {
       "output_type": "stream",
       "stream": "stderr",
       "text": [
        "WARNING:sarpy.io.Adata_classes:Could not load AData\n"
       ]
      },
      {
       "output_type": "stream",
       "stream": "stderr",
       "text": [
        "WARNING:sarpy.io.Adata_classes:Need precisely one parameter file *json, found: []\n"
       ]
      },
      {
       "output_type": "stream",
       "stream": "stderr",
       "text": [
        "WARNING:sarpy.io.Adata_classes:Could not load AData\n"
       ]
      },
      {
       "output_type": "stream",
       "stream": "stderr",
       "text": [
        "WARNING:sarpy.io.Adata_classes:Need precisely one parameter file *json, found: []\n"
       ]
      },
      {
       "output_type": "stream",
       "stream": "stderr",
       "text": [
        "WARNING:sarpy.io.Adata_classes:Could not load AData\n"
       ]
      },
      {
       "output_type": "stream",
       "stream": "stderr",
       "text": [
        "WARNING:sarpy.io.Adata_classes:Need precisely one parameter file *json, found: []\n"
       ]
      },
      {
       "output_type": "stream",
       "stream": "stderr",
       "text": [
        "WARNING:sarpy.io.Adata_classes:Could not load AData\n"
       ]
      },
      {
       "output_type": "stream",
       "stream": "stderr",
       "text": [
        "WARNING:sarpy.io.Adata_classes:Need precisely one parameter file *json, found: []\n"
       ]
      },
      {
       "output_type": "stream",
       "stream": "stderr",
       "text": [
        "WARNING:sarpy.io.Adata_classes:Could not load AData\n"
       ]
      },
      {
       "output_type": "stream",
       "stream": "stderr",
       "text": [
        "WARNING:sarpy.io.Adata_classes:Need precisely one parameter file *json, found: []\n"
       ]
      },
      {
       "output_type": "stream",
       "stream": "stderr",
       "text": [
        "WARNING:sarpy.io.Adata_classes:Could not load AData\n"
       ]
      },
      {
       "output_type": "stream",
       "stream": "stderr",
       "text": [
        "WARNING:sarpy.io.Adata_classes:Need precisely one parameter file *json, found: []\n"
       ]
      },
      {
       "output_type": "stream",
       "stream": "stderr",
       "text": [
        "WARNING:sarpy.io.Adata_classes:Could not load AData\n"
       ]
      },
      {
       "output_type": "stream",
       "stream": "stderr",
       "text": [
        "WARNING:sarpy.io.Adata_classes:Need precisely one parameter file *json, found: []\n"
       ]
      },
      {
       "output_type": "stream",
       "stream": "stderr",
       "text": [
        "WARNING:sarpy.io.Adata_classes:Could not load AData\n"
       ]
      },
      {
       "output_type": "stream",
       "stream": "stderr",
       "text": [
        "WARNING:sarpy.io.Adata_classes:Need precisely one parameter file *json, found: []\n"
       ]
      },
      {
       "output_type": "stream",
       "stream": "stderr",
       "text": [
        "WARNING:sarpy.io.Adata_classes:Could not load AData\n"
       ]
      },
      {
       "output_type": "stream",
       "stream": "stderr",
       "text": [
        "WARNING:sarpy.io.Adata_classes:Need precisely one parameter file *json, found: []\n"
       ]
      },
      {
       "output_type": "stream",
       "stream": "stderr",
       "text": [
        "WARNING:sarpy.io.Adata_classes:Could not load AData\n"
       ]
      },
      {
       "output_type": "stream",
       "stream": "stderr",
       "text": [
        "WARNING:sarpy.io.Adata_classes:Need precisely one parameter file *json, found: []\n"
       ]
      },
      {
       "output_type": "stream",
       "stream": "stderr",
       "text": [
        "WARNING:sarpy.io.Adata_classes:Could not load AData\n"
       ]
      },
      {
       "output_type": "stream",
       "stream": "stderr",
       "text": [
        "WARNING:sarpy.io.Adata_classes:Need precisely one parameter file *json, found: []\n"
       ]
      },
      {
       "output_type": "stream",
       "stream": "stderr",
       "text": [
        "WARNING:sarpy.io.Adata_classes:Could not load AData\n"
       ]
      },
      {
       "output_type": "stream",
       "stream": "stderr",
       "text": [
        "WARNING:sarpy.io.Adata_classes:Need precisely one parameter file *json, found: []\n"
       ]
      },
      {
       "output_type": "stream",
       "stream": "stderr",
       "text": [
        "WARNING:sarpy.io.Adata_classes:Could not load AData\n"
       ]
      },
      {
       "output_type": "stream",
       "stream": "stderr",
       "text": [
        "WARNING:sarpy.io.Adata_classes:Need precisely one parameter file *json, found: []\n"
       ]
      },
      {
       "output_type": "stream",
       "stream": "stderr",
       "text": [
        "WARNING:sarpy.io.Adata_classes:Could not load AData\n"
       ]
      },
      {
       "output_type": "stream",
       "stream": "stderr",
       "text": [
        "WARNING:sarpy.io.Adata_classes:Need precisely one parameter file *json, found: []\n"
       ]
      },
      {
       "output_type": "stream",
       "stream": "stderr",
       "text": [
        "WARNING:sarpy.io.Adata_classes:Could not load AData\n"
       ]
      },
      {
       "output_type": "stream",
       "stream": "stderr",
       "text": [
        "WARNING:sarpy.io.Adata_classes:Need precisely one parameter file *json, found: []\n"
       ]
      },
      {
       "output_type": "stream",
       "stream": "stderr",
       "text": [
        "WARNING:sarpy.io.Adata_classes:Could not load AData\n"
       ]
      },
      {
       "output_type": "stream",
       "stream": "stderr",
       "text": [
        "WARNING:sarpy.io.Adata_classes:Need precisely one parameter file *json, found: []\n"
       ]
      },
      {
       "output_type": "stream",
       "stream": "stderr",
       "text": [
        "WARNING:sarpy.io.Adata_classes:Could not load AData\n"
       ]
      },
      {
       "output_type": "stream",
       "stream": "stderr",
       "text": [
        "WARNING:sarpy.io.Adata_classes:Need precisely one parameter file *json, found: []\n"
       ]
      },
      {
       "output_type": "stream",
       "stream": "stderr",
       "text": [
        "WARNING:sarpy.io.Adata_classes:Could not load AData\n"
       ]
      },
      {
       "output_type": "stream",
       "stream": "stderr",
       "text": [
        "WARNING:sarpy.io.Adata_classes:Need precisely one parameter file *json, found: []\n"
       ]
      },
      {
       "output_type": "stream",
       "stream": "stderr",
       "text": [
        "WARNING:sarpy.io.Adata_classes:Could not load AData\n"
       ]
      },
      {
       "output_type": "stream",
       "stream": "stderr",
       "text": [
        "WARNING:sarpy.io.Adata_classes:Need precisely one parameter file *json, found: []\n"
       ]
      },
      {
       "output_type": "stream",
       "stream": "stderr",
       "text": [
        "WARNING:sarpy.io.Adata_classes:Could not load AData\n"
       ]
      },
      {
       "output_type": "stream",
       "stream": "stderr",
       "text": [
        "WARNING:sarpy.io.Adata_classes:Need precisely one parameter file *json, found: []\n"
       ]
      },
      {
       "output_type": "stream",
       "stream": "stderr",
       "text": [
        "WARNING:sarpy.io.Adata_classes:Could not load AData\n"
       ]
      },
      {
       "output_type": "stream",
       "stream": "stderr",
       "text": [
        "WARNING:sarpy.io.Adata_classes:Need precisely one parameter file *json, found: []\n"
       ]
      },
      {
       "output_type": "stream",
       "stream": "stderr",
       "text": [
        "WARNING:sarpy.io.Adata_classes:Could not load AData\n"
       ]
      },
      {
       "output_type": "stream",
       "stream": "stderr",
       "text": [
        "WARNING:sarpy.io.Adata_classes:Need precisely one parameter file *json, found: []\n"
       ]
      },
      {
       "output_type": "stream",
       "stream": "stderr",
       "text": [
        "WARNING:sarpy.io.Adata_classes:Could not load AData\n"
       ]
      },
      {
       "output_type": "stream",
       "stream": "stderr",
       "text": [
        "WARNING:sarpy.io.Adata_classes:Need precisely one parameter file *json, found: []\n"
       ]
      },
      {
       "output_type": "stream",
       "stream": "stderr",
       "text": [
        "WARNING:sarpy.io.Adata_classes:Could not load AData\n"
       ]
      },
      {
       "output_type": "stream",
       "stream": "stderr",
       "text": [
        "WARNING:sarpy.io.Adata_classes:Need precisely one parameter file *json, found: []\n"
       ]
      },
      {
       "output_type": "stream",
       "stream": "stderr",
       "text": [
        "WARNING:sarpy.io.Adata_classes:Could not load AData\n"
       ]
      },
      {
       "output_type": "stream",
       "stream": "stderr",
       "text": [
        "WARNING:sarpy.io.Adata_classes:Need precisely one parameter file *json, found: []\n"
       ]
      },
      {
       "output_type": "stream",
       "stream": "stderr",
       "text": [
        "WARNING:sarpy.io.Adata_classes:Could not load AData\n"
       ]
      },
      {
       "output_type": "stream",
       "stream": "stderr",
       "text": [
        "WARNING:sarpy.io.Adata_classes:Need precisely one parameter file *json, found: []\n"
       ]
      },
      {
       "output_type": "stream",
       "stream": "stderr",
       "text": [
        "WARNING:sarpy.io.Adata_classes:Could not load AData\n"
       ]
      },
      {
       "output_type": "stream",
       "stream": "stderr",
       "text": [
        "WARNING:sarpy.io.Adata_classes:Need precisely one parameter file *json, found: []\n"
       ]
      },
      {
       "output_type": "stream",
       "stream": "stderr",
       "text": [
        "WARNING:sarpy.io.Adata_classes:Could not load AData\n"
       ]
      },
      {
       "output_type": "stream",
       "stream": "stderr",
       "text": [
        "WARNING:sarpy.io.Adata_classes:Need precisely one parameter file *json, found: []\n"
       ]
      },
      {
       "output_type": "stream",
       "stream": "stderr",
       "text": [
        "WARNING:sarpy.io.Adata_classes:Could not load AData\n"
       ]
      },
      {
       "output_type": "stream",
       "stream": "stderr",
       "text": [
        "WARNING:sarpy.io.Adata_classes:Need precisely one parameter file *json, found: []\n"
       ]
      },
      {
       "output_type": "stream",
       "stream": "stderr",
       "text": [
        "WARNING:sarpy.io.Adata_classes:Could not load AData\n"
       ]
      },
      {
       "output_type": "stream",
       "stream": "stderr",
       "text": [
        "WARNING:sarpy.io.Adata_classes:Need precisely one parameter file *json, found: []\n"
       ]
      },
      {
       "output_type": "stream",
       "stream": "stderr",
       "text": [
        "WARNING:sarpy.io.Adata_classes:Could not load AData\n"
       ]
      },
      {
       "output_type": "stream",
       "stream": "stderr",
       "text": [
        "WARNING:sarpy.io.Adata_classes:Need precisely one parameter file *json, found: []\n"
       ]
      },
      {
       "output_type": "stream",
       "stream": "stderr",
       "text": [
        "WARNING:sarpy.io.Adata_classes:Could not load AData\n"
       ]
      },
      {
       "output_type": "stream",
       "stream": "stderr",
       "text": [
        "WARNING:sarpy.io.Adata_classes:Need precisely one parameter file *json, found: []\n"
       ]
      },
      {
       "output_type": "stream",
       "stream": "stderr",
       "text": [
        "WARNING:sarpy.io.Adata_classes:Could not load AData\n"
       ]
      },
      {
       "output_type": "stream",
       "stream": "stderr",
       "text": [
        "WARNING:sarpy.io.Adata_classes:Need precisely one parameter file *json, found: []\n"
       ]
      },
      {
       "output_type": "stream",
       "stream": "stderr",
       "text": [
        "WARNING:sarpy.io.Adata_classes:Could not load AData\n"
       ]
      },
      {
       "output_type": "stream",
       "stream": "stderr",
       "text": [
        "WARNING:sarpy.io.Adata_classes:Need precisely one parameter file *json, found: []\n"
       ]
      },
      {
       "output_type": "stream",
       "stream": "stderr",
       "text": [
        "WARNING:sarpy.io.Adata_classes:Could not load AData\n"
       ]
      },
      {
       "output_type": "stream",
       "stream": "stderr",
       "text": [
        "WARNING:sarpy.io.Adata_classes:Need precisely one parameter file *json, found: []\n"
       ]
      },
      {
       "output_type": "stream",
       "stream": "stderr",
       "text": [
        "WARNING:sarpy.io.Adata_classes:Could not load AData\n"
       ]
      },
      {
       "output_type": "stream",
       "stream": "stderr",
       "text": [
        "WARNING:sarpy.io.Adata_classes:Need precisely one parameter file *json, found: []\n"
       ]
      },
      {
       "output_type": "stream",
       "stream": "stderr",
       "text": [
        "WARNING:sarpy.io.Adata_classes:Could not load AData\n"
       ]
      },
      {
       "output_type": "stream",
       "stream": "stderr",
       "text": [
        "WARNING:sarpy.io.Adata_classes:Need precisely one parameter file *json, found: []\n"
       ]
      },
      {
       "output_type": "stream",
       "stream": "stderr",
       "text": [
        "WARNING:sarpy.io.Adata_classes:Could not load AData\n"
       ]
      },
      {
       "output_type": "stream",
       "stream": "stderr",
       "text": [
        "WARNING:sarpy.io.Adata_classes:Need precisely one parameter file *json, found: []\n"
       ]
      },
      {
       "output_type": "stream",
       "stream": "stderr",
       "text": [
        "WARNING:sarpy.io.Adata_classes:Could not load AData\n"
       ]
      },
      {
       "output_type": "stream",
       "stream": "stderr",
       "text": [
        "WARNING:sarpy.io.Adata_classes:Need precisely one parameter file *json, found: []\n"
       ]
      },
      {
       "output_type": "stream",
       "stream": "stderr",
       "text": [
        "WARNING:sarpy.io.Adata_classes:Could not load AData\n"
       ]
      },
      {
       "output_type": "stream",
       "stream": "stderr",
       "text": [
        "WARNING:sarpy.io.Adata_classes:Need precisely one parameter file *json, found: []\n"
       ]
      },
      {
       "output_type": "stream",
       "stream": "stderr",
       "text": [
        "WARNING:sarpy.io.Adata_classes:Could not load AData\n"
       ]
      },
      {
       "output_type": "stream",
       "stream": "stderr",
       "text": [
        "WARNING:sarpy.io.Adata_classes:Need precisely one parameter file *json, found: []\n"
       ]
      },
      {
       "output_type": "stream",
       "stream": "stderr",
       "text": [
        "WARNING:sarpy.io.Adata_classes:Could not load AData\n"
       ]
      },
      {
       "output_type": "stream",
       "stream": "stderr",
       "text": [
        "WARNING:sarpy.io.Adata_classes:Need precisely one parameter file *json, found: []\n"
       ]
      },
      {
       "output_type": "stream",
       "stream": "stderr",
       "text": [
        "WARNING:sarpy.io.Adata_classes:Could not load AData\n"
       ]
      },
      {
       "output_type": "stream",
       "stream": "stderr",
       "text": [
        "WARNING:sarpy.io.Adata_classes:Need precisely one parameter file *json, found: []\n"
       ]
      },
      {
       "output_type": "stream",
       "stream": "stderr",
       "text": [
        "WARNING:sarpy.io.Adata_classes:Could not load AData\n"
       ]
      },
      {
       "output_type": "stream",
       "stream": "stderr",
       "text": [
        "WARNING:sarpy.io.Adata_classes:Need precisely one parameter file *json, found: []\n"
       ]
      },
      {
       "output_type": "stream",
       "stream": "stderr",
       "text": [
        "WARNING:sarpy.io.Adata_classes:Could not load AData\n"
       ]
      },
      {
       "output_type": "stream",
       "stream": "stderr",
       "text": [
        "WARNING:sarpy.io.Adata_classes:Need precisely one parameter file *json, found: []\n"
       ]
      },
      {
       "output_type": "stream",
       "stream": "stderr",
       "text": [
        "WARNING:sarpy.io.Adata_classes:Could not load AData\n"
       ]
      },
      {
       "output_type": "stream",
       "stream": "stderr",
       "text": [
        "WARNING:sarpy.io.Adata_classes:Need precisely one parameter file *json, found: []\n"
       ]
      },
      {
       "output_type": "stream",
       "stream": "stderr",
       "text": [
        "WARNING:sarpy.io.Adata_classes:Could not load AData\n"
       ]
      },
      {
       "output_type": "stream",
       "stream": "stderr",
       "text": [
        "WARNING:sarpy.io.Adata_classes:Need precisely one parameter file *json, found: []\n"
       ]
      },
      {
       "output_type": "stream",
       "stream": "stderr",
       "text": [
        "WARNING:sarpy.io.Adata_classes:Could not load AData\n"
       ]
      },
      {
       "output_type": "stream",
       "stream": "stderr",
       "text": [
        "WARNING:sarpy.io.Adata_classes:Need precisely one parameter file *json, found: []\n"
       ]
      },
      {
       "output_type": "stream",
       "stream": "stderr",
       "text": [
        "WARNING:sarpy.io.Adata_classes:Could not load AData\n"
       ]
      },
      {
       "output_type": "stream",
       "stream": "stderr",
       "text": [
        "WARNING:sarpy.io.Adata_classes:Need precisely one parameter file *json, found: []\n"
       ]
      },
      {
       "output_type": "stream",
       "stream": "stderr",
       "text": [
        "WARNING:sarpy.io.Adata_classes:Could not load AData\n"
       ]
      },
      {
       "output_type": "stream",
       "stream": "stderr",
       "text": [
        "WARNING:sarpy.io.Adata_classes:Need precisely one parameter file *json, found: []\n"
       ]
      },
      {
       "output_type": "stream",
       "stream": "stderr",
       "text": [
        "WARNING:sarpy.io.Adata_classes:Could not load AData\n"
       ]
      },
      {
       "output_type": "stream",
       "stream": "stderr",
       "text": [
        "WARNING:sarpy.io.Adata_classes:Need precisely one parameter file *json, found: []\n"
       ]
      },
      {
       "output_type": "stream",
       "stream": "stderr",
       "text": [
        "WARNING:sarpy.io.Adata_classes:Could not load AData\n"
       ]
      },
      {
       "output_type": "stream",
       "stream": "stderr",
       "text": [
        "WARNING:sarpy.io.Adata_classes:Need precisely one parameter file *json, found: []\n"
       ]
      },
      {
       "output_type": "stream",
       "stream": "stderr",
       "text": [
        "WARNING:sarpy.io.Adata_classes:Could not load AData\n"
       ]
      },
      {
       "output_type": "stream",
       "stream": "stderr",
       "text": [
        "WARNING:sarpy.io.Adata_classes:Need precisely one parameter file *json, found: []\n"
       ]
      },
      {
       "output_type": "stream",
       "stream": "stderr",
       "text": [
        "WARNING:sarpy.io.Adata_classes:Could not load AData\n"
       ]
      },
      {
       "output_type": "stream",
       "stream": "stderr",
       "text": [
        "WARNING:sarpy.io.Adata_classes:Need precisely one parameter file *json, found: []\n"
       ]
      },
      {
       "output_type": "stream",
       "stream": "stderr",
       "text": [
        "WARNING:sarpy.io.Adata_classes:Could not load AData\n"
       ]
      },
      {
       "output_type": "stream",
       "stream": "stderr",
       "text": [
        "WARNING:sarpy.io.Adata_classes:Need precisely one parameter file *json, found: []\n"
       ]
      },
      {
       "output_type": "stream",
       "stream": "stderr",
       "text": [
        "WARNING:sarpy.io.Adata_classes:Could not load AData\n"
       ]
      },
      {
       "output_type": "stream",
       "stream": "stderr",
       "text": [
        "WARNING:sarpy.io.Adata_classes:Need precisely one parameter file *json, found: []\n"
       ]
      },
      {
       "output_type": "stream",
       "stream": "stderr",
       "text": [
        "WARNING:sarpy.io.Adata_classes:Could not load AData\n"
       ]
      },
      {
       "output_type": "stream",
       "stream": "stderr",
       "text": [
        "WARNING:sarpy.io.Adata_classes:Need precisely one parameter file *json, found: []\n"
       ]
      },
      {
       "output_type": "stream",
       "stream": "stderr",
       "text": [
        "WARNING:sarpy.io.Adata_classes:Could not load AData\n"
       ]
      },
      {
       "output_type": "stream",
       "stream": "stderr",
       "text": [
        "WARNING:sarpy.io.Adata_classes:Need precisely one parameter file *json, found: []\n"
       ]
      },
      {
       "output_type": "stream",
       "stream": "stderr",
       "text": [
        "WARNING:sarpy.io.Adata_classes:Could not load AData\n"
       ]
      },
      {
       "output_type": "stream",
       "stream": "stderr",
       "text": [
        "WARNING:sarpy.io.Adata_classes:Need precisely one parameter file *json, found: []\n"
       ]
      },
      {
       "output_type": "stream",
       "stream": "stderr",
       "text": [
        "WARNING:sarpy.io.Adata_classes:Could not load AData\n"
       ]
      },
      {
       "output_type": "stream",
       "stream": "stderr",
       "text": [
        "WARNING:sarpy.io.Adata_classes:Need precisely one parameter file *json, found: []\n"
       ]
      },
      {
       "output_type": "stream",
       "stream": "stderr",
       "text": [
        "WARNING:sarpy.io.Adata_classes:Could not load AData\n"
       ]
      },
      {
       "output_type": "stream",
       "stream": "stderr",
       "text": [
        "WARNING:sarpy.io.Adata_classes:Need precisely one parameter file *json, found: []\n"
       ]
      },
      {
       "output_type": "stream",
       "stream": "stderr",
       "text": [
        "WARNING:sarpy.io.Adata_classes:Could not load AData\n"
       ]
      },
      {
       "output_type": "stream",
       "stream": "stderr",
       "text": [
        "WARNING:sarpy.io.Adata_classes:Need precisely one parameter file *json, found: []\n"
       ]
      },
      {
       "output_type": "stream",
       "stream": "stderr",
       "text": [
        "WARNING:sarpy.io.Adata_classes:Could not load AData\n"
       ]
      },
      {
       "output_type": "stream",
       "stream": "stderr",
       "text": [
        "WARNING:sarpy.io.Adata_classes:Need precisely one parameter file *json, found: []\n"
       ]
      },
      {
       "output_type": "stream",
       "stream": "stderr",
       "text": [
        "WARNING:sarpy.io.Adata_classes:Could not load AData\n"
       ]
      },
      {
       "output_type": "stream",
       "stream": "stderr",
       "text": [
        "WARNING:sarpy.io.Adata_classes:Need precisely one parameter file *json, found: []\n"
       ]
      },
      {
       "output_type": "stream",
       "stream": "stderr",
       "text": [
        "WARNING:sarpy.io.Adata_classes:Could not load AData\n"
       ]
      },
      {
       "output_type": "stream",
       "stream": "stderr",
       "text": [
        "WARNING:sarpy.io.Adata_classes:Need precisely one parameter file *json, found: []\n"
       ]
      },
      {
       "output_type": "stream",
       "stream": "stderr",
       "text": [
        "WARNING:sarpy.io.Adata_classes:Could not load AData\n"
       ]
      },
      {
       "output_type": "stream",
       "stream": "stderr",
       "text": [
        "WARNING:sarpy.io.Adata_classes:Need precisely one parameter file *json, found: []\n"
       ]
      },
      {
       "output_type": "stream",
       "stream": "stderr",
       "text": [
        "WARNING:sarpy.io.Adata_classes:Could not load AData\n"
       ]
      },
      {
       "output_type": "stream",
       "stream": "stderr",
       "text": [
        "WARNING:sarpy.io.Adata_classes:Need precisely one parameter file *json, found: []\n"
       ]
      },
      {
       "output_type": "stream",
       "stream": "stderr",
       "text": [
        "WARNING:sarpy.io.Adata_classes:Could not load AData\n"
       ]
      },
      {
       "output_type": "stream",
       "stream": "stderr",
       "text": [
        "WARNING:sarpy.io.Adata_classes:Need precisely one parameter file *json, found: []\n"
       ]
      },
      {
       "output_type": "stream",
       "stream": "stderr",
       "text": [
        "WARNING:sarpy.io.Adata_classes:Could not load AData\n"
       ]
      },
      {
       "output_type": "stream",
       "stream": "stderr",
       "text": [
        "WARNING:sarpy.io.Adata_classes:Need precisely one parameter file *json, found: []\n"
       ]
      },
      {
       "output_type": "stream",
       "stream": "stderr",
       "text": [
        "WARNING:sarpy.io.Adata_classes:Could not load AData\n"
       ]
      },
      {
       "output_type": "stream",
       "stream": "stderr",
       "text": [
        "WARNING:sarpy.io.Adata_classes:Need precisely one parameter file *json, found: []\n"
       ]
      },
      {
       "output_type": "stream",
       "stream": "stderr",
       "text": [
        "WARNING:sarpy.io.Adata_classes:Could not load AData\n"
       ]
      },
      {
       "output_type": "stream",
       "stream": "stderr",
       "text": [
        "WARNING:sarpy.io.Adata_classes:Need precisely one parameter file *json, found: []\n"
       ]
      },
      {
       "output_type": "stream",
       "stream": "stderr",
       "text": [
        "WARNING:sarpy.io.Adata_classes:Could not load AData\n"
       ]
      },
      {
       "output_type": "stream",
       "stream": "stderr",
       "text": [
        "WARNING:sarpy.io.Adata_classes:Need precisely one parameter file *json, found: []\n"
       ]
      },
      {
       "output_type": "stream",
       "stream": "stderr",
       "text": [
        "WARNING:sarpy.io.Adata_classes:Could not load AData\n"
       ]
      },
      {
       "output_type": "stream",
       "stream": "stderr",
       "text": [
        "WARNING:sarpy.io.Adata_classes:Need precisely one parameter file *json, found: []\n"
       ]
      },
      {
       "output_type": "stream",
       "stream": "stderr",
       "text": [
        "WARNING:sarpy.io.Adata_classes:Could not load AData\n"
       ]
      },
      {
       "output_type": "stream",
       "stream": "stderr",
       "text": [
        "WARNING:sarpy.io.Adata_classes:Need precisely one parameter file *json, found: []\n"
       ]
      },
      {
       "output_type": "stream",
       "stream": "stderr",
       "text": [
        "WARNING:sarpy.io.Adata_classes:Could not load AData\n"
       ]
      },
      {
       "output_type": "stream",
       "stream": "stderr",
       "text": [
        "WARNING:sarpy.io.Adata_classes:Need precisely one parameter file *json, found: []\n"
       ]
      },
      {
       "output_type": "stream",
       "stream": "stderr",
       "text": [
        "WARNING:sarpy.io.Adata_classes:Could not load AData\n"
       ]
      },
      {
       "output_type": "stream",
       "stream": "stderr",
       "text": [
        "WARNING:sarpy.io.Adata_classes:Need precisely one parameter file *json, found: []\n"
       ]
      },
      {
       "output_type": "stream",
       "stream": "stderr",
       "text": [
        "WARNING:sarpy.io.Adata_classes:Could not load AData\n"
       ]
      },
      {
       "output_type": "stream",
       "stream": "stderr",
       "text": [
        "WARNING:sarpy.io.Adata_classes:Need precisely one parameter file *json, found: []\n"
       ]
      },
      {
       "output_type": "stream",
       "stream": "stderr",
       "text": [
        "WARNING:sarpy.io.Adata_classes:Could not load AData\n"
       ]
      },
      {
       "output_type": "stream",
       "stream": "stderr",
       "text": [
        "WARNING:sarpy.io.Adata_classes:Need precisely one parameter file *json, found: []\n"
       ]
      },
      {
       "output_type": "stream",
       "stream": "stderr",
       "text": [
        "WARNING:sarpy.io.Adata_classes:Could not load AData\n"
       ]
      },
      {
       "output_type": "stream",
       "stream": "stderr",
       "text": [
        "WARNING:sarpy.io.Adata_classes:Need precisely one parameter file *json, found: []\n"
       ]
      },
      {
       "output_type": "stream",
       "stream": "stderr",
       "text": [
        "WARNING:sarpy.io.Adata_classes:Could not load AData\n"
       ]
      },
      {
       "output_type": "stream",
       "stream": "stderr",
       "text": [
        "WARNING:sarpy.io.Adata_classes:Need precisely one parameter file *json, found: []\n"
       ]
      },
      {
       "output_type": "stream",
       "stream": "stderr",
       "text": [
        "WARNING:sarpy.io.Adata_classes:Could not load AData\n"
       ]
      },
      {
       "output_type": "stream",
       "stream": "stderr",
       "text": [
        "WARNING:sarpy.io.Adata_classes:Need precisely one parameter file *json, found: []\n"
       ]
      },
      {
       "output_type": "stream",
       "stream": "stderr",
       "text": [
        "WARNING:sarpy.io.Adata_classes:Could not load AData\n"
       ]
      },
      {
       "output_type": "stream",
       "stream": "stderr",
       "text": [
        "WARNING:sarpy.io.Adata_classes:Need precisely one parameter file *json, found: []\n"
       ]
      },
      {
       "output_type": "stream",
       "stream": "stderr",
       "text": [
        "WARNING:sarpy.io.Adata_classes:Could not load AData\n"
       ]
      },
      {
       "output_type": "stream",
       "stream": "stderr",
       "text": [
        "WARNING:sarpy.io.Adata_classes:Need precisely one parameter file *json, found: []\n"
       ]
      },
      {
       "output_type": "stream",
       "stream": "stderr",
       "text": [
        "WARNING:sarpy.io.Adata_classes:Could not load AData\n"
       ]
      },
      {
       "output_type": "stream",
       "stream": "stderr",
       "text": [
        "WARNING:sarpy.io.Adata_classes:Need precisely one parameter file *json, found: []\n"
       ]
      },
      {
       "output_type": "stream",
       "stream": "stderr",
       "text": [
        "WARNING:sarpy.io.Adata_classes:Could not load AData\n"
       ]
      },
      {
       "output_type": "stream",
       "stream": "stderr",
       "text": [
        "WARNING:sarpy.io.Adata_classes:Need precisely one parameter file *json, found: []\n"
       ]
      },
      {
       "output_type": "stream",
       "stream": "stderr",
       "text": [
        "WARNING:sarpy.io.Adata_classes:Could not load AData\n"
       ]
      },
      {
       "output_type": "stream",
       "stream": "stderr",
       "text": [
        "WARNING:sarpy.io.Adata_classes:Need precisely one parameter file *json, found: []\n"
       ]
      },
      {
       "output_type": "stream",
       "stream": "stderr",
       "text": [
        "WARNING:sarpy.io.Adata_classes:Could not load AData\n"
       ]
      },
      {
       "output_type": "stream",
       "stream": "stderr",
       "text": [
        "WARNING:sarpy.io.Adata_classes:Need precisely one parameter file *json, found: []\n"
       ]
      },
      {
       "output_type": "stream",
       "stream": "stderr",
       "text": [
        "WARNING:sarpy.io.Adata_classes:Could not load AData\n"
       ]
      },
      {
       "output_type": "stream",
       "stream": "stderr",
       "text": [
        "WARNING:sarpy.io.Adata_classes:Need precisely one parameter file *json, found: []\n"
       ]
      },
      {
       "output_type": "stream",
       "stream": "stderr",
       "text": [
        "WARNING:sarpy.io.Adata_classes:Could not load AData\n"
       ]
      },
      {
       "output_type": "stream",
       "stream": "stderr",
       "text": [
        "WARNING:sarpy.io.Adata_classes:Need precisely one parameter file *json, found: []\n"
       ]
      },
      {
       "output_type": "stream",
       "stream": "stderr",
       "text": [
        "WARNING:sarpy.io.Adata_classes:Could not load AData\n"
       ]
      },
      {
       "output_type": "stream",
       "stream": "stderr",
       "text": [
        "WARNING:sarpy.io.Adata_classes:Need precisely one parameter file *json, found: []\n"
       ]
      },
      {
       "output_type": "stream",
       "stream": "stderr",
       "text": [
        "WARNING:sarpy.io.Adata_classes:Could not load AData\n"
       ]
      },
      {
       "output_type": "stream",
       "stream": "stderr",
       "text": [
        "WARNING:sarpy.io.Adata_classes:Need precisely one parameter file *json, found: []\n"
       ]
      },
      {
       "output_type": "stream",
       "stream": "stderr",
       "text": [
        "WARNING:sarpy.io.Adata_classes:Could not load AData\n"
       ]
      },
      {
       "output_type": "stream",
       "stream": "stderr",
       "text": [
        "WARNING:sarpy.io.Adata_classes:Need precisely one parameter file *json, found: []\n"
       ]
      },
      {
       "output_type": "stream",
       "stream": "stderr",
       "text": [
        "WARNING:sarpy.io.Adata_classes:Could not load AData\n"
       ]
      },
      {
       "output_type": "stream",
       "stream": "stderr",
       "text": [
        "WARNING:sarpy.io.Adata_classes:Need precisely one parameter file *json, found: []\n"
       ]
      },
      {
       "output_type": "stream",
       "stream": "stderr",
       "text": [
        "WARNING:sarpy.io.Adata_classes:Could not load AData\n"
       ]
      },
      {
       "output_type": "stream",
       "stream": "stderr",
       "text": [
        "WARNING:sarpy.io.Adata_classes:Need precisely one parameter file *json, found: []\n"
       ]
      },
      {
       "output_type": "stream",
       "stream": "stderr",
       "text": [
        "WARNING:sarpy.io.Adata_classes:Could not load AData\n"
       ]
      },
      {
       "output_type": "stream",
       "stream": "stderr",
       "text": [
        "WARNING:sarpy.io.Adata_classes:Need precisely one parameter file *json, found: []\n"
       ]
      },
      {
       "output_type": "stream",
       "stream": "stderr",
       "text": [
        "WARNING:sarpy.io.Adata_classes:Could not load AData\n"
       ]
      },
      {
       "output_type": "stream",
       "stream": "stderr",
       "text": [
        "WARNING:sarpy.io.Adata_classes:Need precisely one parameter file *json, found: []\n"
       ]
      },
      {
       "output_type": "stream",
       "stream": "stderr",
       "text": [
        "WARNING:sarpy.io.Adata_classes:Could not load AData\n"
       ]
      },
      {
       "output_type": "stream",
       "stream": "stderr",
       "text": [
        "WARNING:sarpy.io.Adata_classes:Need precisely one parameter file *json, found: []\n"
       ]
      },
      {
       "output_type": "stream",
       "stream": "stderr",
       "text": [
        "WARNING:sarpy.io.Adata_classes:Could not load AData\n"
       ]
      },
      {
       "output_type": "stream",
       "stream": "stderr",
       "text": [
        "WARNING:sarpy.io.Adata_classes:Need precisely one parameter file *json, found: []\n"
       ]
      },
      {
       "output_type": "stream",
       "stream": "stderr",
       "text": [
        "WARNING:sarpy.io.Adata_classes:Could not load AData\n"
       ]
      },
      {
       "output_type": "stream",
       "stream": "stderr",
       "text": [
        "WARNING:sarpy.io.Adata_classes:Need precisely one parameter file *json, found: []\n"
       ]
      },
      {
       "output_type": "stream",
       "stream": "stderr",
       "text": [
        "WARNING:sarpy.io.Adata_classes:Could not load AData\n"
       ]
      },
      {
       "output_type": "stream",
       "stream": "stderr",
       "text": [
        "WARNING:sarpy.io.Adata_classes:Need precisely one parameter file *json, found: []\n"
       ]
      },
      {
       "output_type": "stream",
       "stream": "stderr",
       "text": [
        "WARNING:sarpy.io.Adata_classes:Could not load AData\n"
       ]
      },
      {
       "output_type": "stream",
       "stream": "stderr",
       "text": [
        "WARNING:sarpy.io.Adata_classes:Need precisely one parameter file *json, found: []\n"
       ]
      },
      {
       "output_type": "stream",
       "stream": "stderr",
       "text": [
        "WARNING:sarpy.io.Adata_classes:Could not load AData\n"
       ]
      },
      {
       "output_type": "stream",
       "stream": "stderr",
       "text": [
        "WARNING:sarpy.io.Adata_classes:Need precisely one parameter file *json, found: []\n"
       ]
      },
      {
       "output_type": "stream",
       "stream": "stderr",
       "text": [
        "WARNING:sarpy.io.Adata_classes:Could not load AData\n"
       ]
      },
      {
       "output_type": "stream",
       "stream": "stderr",
       "text": [
        "WARNING:sarpy.io.Adata_classes:Need precisely one parameter file *json, found: []\n"
       ]
      },
      {
       "output_type": "stream",
       "stream": "stderr",
       "text": [
        "WARNING:sarpy.io.Adata_classes:Could not load AData\n"
       ]
      },
      {
       "output_type": "stream",
       "stream": "stderr",
       "text": [
        "WARNING:sarpy.io.Adata_classes:Need precisely one parameter file *json, found: []\n"
       ]
      },
      {
       "output_type": "stream",
       "stream": "stderr",
       "text": [
        "WARNING:sarpy.io.Adata_classes:Could not load AData\n"
       ]
      },
      {
       "output_type": "stream",
       "stream": "stderr",
       "text": [
        "WARNING:sarpy.io.Adata_classes:Need precisely one parameter file *json, found: []\n"
       ]
      },
      {
       "output_type": "stream",
       "stream": "stderr",
       "text": [
        "WARNING:sarpy.io.Adata_classes:Could not load AData\n"
       ]
      },
      {
       "output_type": "stream",
       "stream": "stderr",
       "text": [
        "WARNING:sarpy.io.Adata_classes:Need precisely one parameter file *json, found: []\n"
       ]
      },
      {
       "output_type": "stream",
       "stream": "stderr",
       "text": [
        "WARNING:sarpy.io.Adata_classes:Could not load AData\n"
       ]
      },
      {
       "output_type": "stream",
       "stream": "stderr",
       "text": [
        "WARNING:sarpy.io.Adata_classes:Need precisely one parameter file *json, found: []\n"
       ]
      },
      {
       "output_type": "stream",
       "stream": "stderr",
       "text": [
        "WARNING:sarpy.io.Adata_classes:Could not load AData\n"
       ]
      },
      {
       "output_type": "stream",
       "stream": "stderr",
       "text": [
        "WARNING:sarpy.io.Adata_classes:Need precisely one parameter file *json, found: []\n"
       ]
      },
      {
       "output_type": "stream",
       "stream": "stderr",
       "text": [
        "WARNING:sarpy.io.Adata_classes:Could not load AData\n"
       ]
      },
      {
       "output_type": "stream",
       "stream": "stderr",
       "text": [
        "WARNING:sarpy.io.Adata_classes:Need precisely one parameter file *json, found: []\n"
       ]
      },
      {
       "output_type": "stream",
       "stream": "stderr",
       "text": [
        "WARNING:sarpy.io.Adata_classes:Could not load AData\n"
       ]
      },
      {
       "output_type": "stream",
       "stream": "stderr",
       "text": [
        "WARNING:sarpy.io.Adata_classes:Need precisely one parameter file *json, found: []\n"
       ]
      },
      {
       "output_type": "stream",
       "stream": "stderr",
       "text": [
        "WARNING:sarpy.io.Adata_classes:Could not load AData\n"
       ]
      },
      {
       "output_type": "stream",
       "stream": "stderr",
       "text": [
        "WARNING:sarpy.io.Adata_classes:Need precisely one parameter file *json, found: []\n"
       ]
      },
      {
       "output_type": "stream",
       "stream": "stderr",
       "text": [
        "WARNING:sarpy.io.Adata_classes:Could not load AData\n"
       ]
      },
      {
       "output_type": "stream",
       "stream": "stderr",
       "text": [
        "WARNING:sarpy.io.Adata_classes:Need precisely one parameter file *json, found: []\n"
       ]
      },
      {
       "output_type": "stream",
       "stream": "stderr",
       "text": [
        "WARNING:sarpy.io.Adata_classes:Could not load AData\n"
       ]
      },
      {
       "output_type": "stream",
       "stream": "stderr",
       "text": [
        "WARNING:sarpy.io.Adata_classes:Need precisely one parameter file *json, found: []\n"
       ]
      },
      {
       "output_type": "stream",
       "stream": "stderr",
       "text": [
        "WARNING:sarpy.io.Adata_classes:Could not load AData\n"
       ]
      },
      {
       "output_type": "stream",
       "stream": "stderr",
       "text": [
        "WARNING:sarpy.io.Adata_classes:Need precisely one parameter file *json, found: []\n"
       ]
      },
      {
       "output_type": "stream",
       "stream": "stderr",
       "text": [
        "WARNING:sarpy.io.Adata_classes:Could not load AData\n"
       ]
      },
      {
       "output_type": "stream",
       "stream": "stderr",
       "text": [
        "WARNING:sarpy.io.Adata_classes:Need precisely one parameter file *json, found: []\n"
       ]
      },
      {
       "output_type": "stream",
       "stream": "stderr",
       "text": [
        "WARNING:sarpy.io.Adata_classes:Could not load AData\n"
       ]
      },
      {
       "output_type": "stream",
       "stream": "stderr",
       "text": [
        "WARNING:sarpy.io.Adata_classes:Need precisely one parameter file *json, found: []\n"
       ]
      },
      {
       "output_type": "stream",
       "stream": "stderr",
       "text": [
        "WARNING:sarpy.io.Adata_classes:Could not load AData\n"
       ]
      },
      {
       "output_type": "stream",
       "stream": "stderr",
       "text": [
        "WARNING:sarpy.io.Adata_classes:Need precisely one parameter file *json, found: []\n"
       ]
      },
      {
       "output_type": "stream",
       "stream": "stderr",
       "text": [
        "WARNING:sarpy.io.Adata_classes:Could not load AData\n"
       ]
      },
      {
       "output_type": "stream",
       "stream": "stderr",
       "text": [
        "WARNING:sarpy.io.Adata_classes:Need precisely one parameter file *json, found: []\n"
       ]
      },
      {
       "output_type": "stream",
       "stream": "stderr",
       "text": [
        "WARNING:sarpy.io.Adata_classes:Could not load AData\n"
       ]
      },
      {
       "output_type": "stream",
       "stream": "stderr",
       "text": [
        "WARNING:sarpy.io.Adata_classes:Need precisely one parameter file *json, found: []\n"
       ]
      },
      {
       "output_type": "stream",
       "stream": "stderr",
       "text": [
        "WARNING:sarpy.io.Adata_classes:Could not load AData\n"
       ]
      },
      {
       "output_type": "stream",
       "stream": "stderr",
       "text": [
        "WARNING:sarpy.io.Adata_classes:Need precisely one parameter file *json, found: []\n"
       ]
      },
      {
       "output_type": "stream",
       "stream": "stderr",
       "text": [
        "WARNING:sarpy.io.Adata_classes:Could not load AData\n"
       ]
      },
      {
       "output_type": "stream",
       "stream": "stderr",
       "text": [
        "WARNING:sarpy.io.Adata_classes:Need precisely one parameter file *json, found: []\n"
       ]
      },
      {
       "output_type": "stream",
       "stream": "stderr",
       "text": [
        "WARNING:sarpy.io.Adata_classes:Could not load AData\n"
       ]
      },
      {
       "output_type": "stream",
       "stream": "stderr",
       "text": [
        "WARNING:sarpy.io.Adata_classes:Need precisely one parameter file *json, found: []\n"
       ]
      },
      {
       "output_type": "stream",
       "stream": "stderr",
       "text": [
        "WARNING:sarpy.io.Adata_classes:Could not load AData\n"
       ]
      },
      {
       "output_type": "stream",
       "stream": "stderr",
       "text": [
        "WARNING:sarpy.io.Adata_classes:Need precisely one parameter file *json, found: []\n"
       ]
      },
      {
       "output_type": "stream",
       "stream": "stderr",
       "text": [
        "WARNING:sarpy.io.Adata_classes:Could not load AData\n"
       ]
      },
      {
       "output_type": "stream",
       "stream": "stderr",
       "text": [
        "WARNING:sarpy.io.Adata_classes:Need precisely one parameter file *json, found: []\n"
       ]
      },
      {
       "output_type": "stream",
       "stream": "stderr",
       "text": [
        "WARNING:sarpy.io.Adata_classes:Could not load AData\n"
       ]
      },
      {
       "output_type": "stream",
       "stream": "stderr",
       "text": [
        "WARNING:sarpy.io.Adata_classes:Need precisely one parameter file *json, found: []\n"
       ]
      },
      {
       "output_type": "stream",
       "stream": "stderr",
       "text": [
        "WARNING:sarpy.io.Adata_classes:Could not load AData\n"
       ]
      },
      {
       "output_type": "stream",
       "stream": "stderr",
       "text": [
        "WARNING:sarpy.io.Adata_classes:Need precisely one parameter file *json, found: []\n"
       ]
      },
      {
       "output_type": "stream",
       "stream": "stderr",
       "text": [
        "WARNING:sarpy.io.Adata_classes:Could not load AData\n"
       ]
      },
      {
       "output_type": "stream",
       "stream": "stderr",
       "text": [
        "WARNING:sarpy.io.Adata_classes:Need precisely one parameter file *json, found: []\n"
       ]
      },
      {
       "output_type": "stream",
       "stream": "stderr",
       "text": [
        "WARNING:sarpy.io.Adata_classes:Could not load AData\n"
       ]
      },
      {
       "output_type": "stream",
       "stream": "stderr",
       "text": [
        "WARNING:sarpy.io.Adata_classes:Need precisely one parameter file *json, found: []\n"
       ]
      },
      {
       "output_type": "stream",
       "stream": "stderr",
       "text": [
        "WARNING:sarpy.io.Adata_classes:Could not load AData\n"
       ]
      },
      {
       "output_type": "stream",
       "stream": "stderr",
       "text": [
        "WARNING:sarpy.io.Adata_classes:Need precisely one parameter file *json, found: []\n"
       ]
      },
      {
       "output_type": "stream",
       "stream": "stderr",
       "text": [
        "WARNING:sarpy.io.Adata_classes:Could not load AData\n"
       ]
      },
      {
       "output_type": "stream",
       "stream": "stderr",
       "text": [
        "WARNING:sarpy.io.Adata_classes:Need precisely one parameter file *json, found: []\n"
       ]
      },
      {
       "output_type": "stream",
       "stream": "stderr",
       "text": [
        "WARNING:sarpy.io.Adata_classes:Could not load AData\n"
       ]
      },
      {
       "output_type": "stream",
       "stream": "stderr",
       "text": [
        "WARNING:sarpy.io.Adata_classes:Need precisely one parameter file *json, found: []\n"
       ]
      },
      {
       "output_type": "stream",
       "stream": "stderr",
       "text": [
        "WARNING:sarpy.io.Adata_classes:Could not load AData\n"
       ]
      },
      {
       "output_type": "stream",
       "stream": "stderr",
       "text": [
        "WARNING:sarpy.io.Adata_classes:Need precisely one parameter file *json, found: []\n"
       ]
      },
      {
       "output_type": "stream",
       "stream": "stderr",
       "text": [
        "WARNING:sarpy.io.Adata_classes:Could not load AData\n"
       ]
      },
      {
       "output_type": "stream",
       "stream": "stderr",
       "text": [
        "WARNING:sarpy.io.Adata_classes:Need precisely one parameter file *json, found: []\n"
       ]
      },
      {
       "output_type": "stream",
       "stream": "stderr",
       "text": [
        "WARNING:sarpy.io.Adata_classes:Could not load AData\n"
       ]
      },
      {
       "output_type": "stream",
       "stream": "stderr",
       "text": [
        "WARNING:sarpy.io.Adata_classes:Need precisely one parameter file *json, found: []\n"
       ]
      },
      {
       "output_type": "stream",
       "stream": "stderr",
       "text": [
        "WARNING:sarpy.io.Adata_classes:Could not load AData\n"
       ]
      },
      {
       "output_type": "stream",
       "stream": "stderr",
       "text": [
        "WARNING:sarpy.io.Adata_classes:Need precisely one parameter file *json, found: []\n"
       ]
      },
      {
       "output_type": "stream",
       "stream": "stderr",
       "text": [
        "WARNING:sarpy.io.Adata_classes:Could not load AData\n"
       ]
      },
      {
       "output_type": "stream",
       "stream": "stderr",
       "text": [
        "WARNING:sarpy.io.Adata_classes:Need precisely one parameter file *json, found: []\n"
       ]
      },
      {
       "output_type": "stream",
       "stream": "stderr",
       "text": [
        "WARNING:sarpy.io.Adata_classes:Could not load AData\n"
       ]
      },
      {
       "output_type": "stream",
       "stream": "stderr",
       "text": [
        "WARNING:sarpy.io.Adata_classes:Need precisely one parameter file *json, found: []\n"
       ]
      },
      {
       "output_type": "stream",
       "stream": "stderr",
       "text": [
        "WARNING:sarpy.io.Adata_classes:Could not load AData\n"
       ]
      },
      {
       "output_type": "stream",
       "stream": "stderr",
       "text": [
        "WARNING:sarpy.io.Adata_classes:Need precisely one parameter file *json, found: []\n"
       ]
      },
      {
       "output_type": "stream",
       "stream": "stderr",
       "text": [
        "WARNING:sarpy.io.Adata_classes:Could not load AData\n"
       ]
      },
      {
       "output_type": "stream",
       "stream": "stderr",
       "text": [
        "WARNING:sarpy.io.Adata_classes:Need precisely one parameter file *json, found: []\n"
       ]
      },
      {
       "output_type": "stream",
       "stream": "stderr",
       "text": [
        "WARNING:sarpy.io.Adata_classes:Could not load AData\n"
       ]
      },
      {
       "output_type": "stream",
       "stream": "stderr",
       "text": [
        "WARNING:sarpy.io.Adata_classes:Need precisely one parameter file *json, found: []\n"
       ]
      },
      {
       "output_type": "stream",
       "stream": "stderr",
       "text": [
        "WARNING:sarpy.io.Adata_classes:Could not load AData\n"
       ]
      },
      {
       "output_type": "stream",
       "stream": "stderr",
       "text": [
        "WARNING:sarpy.io.Adata_classes:Need precisely one parameter file *json, found: []\n"
       ]
      },
      {
       "output_type": "stream",
       "stream": "stderr",
       "text": [
        "WARNING:sarpy.io.Adata_classes:Could not load AData\n"
       ]
      },
      {
       "output_type": "stream",
       "stream": "stderr",
       "text": [
        "WARNING:sarpy.io.Adata_classes:Need precisely one parameter file *json, found: []\n"
       ]
      },
      {
       "output_type": "stream",
       "stream": "stderr",
       "text": [
        "WARNING:sarpy.io.Adata_classes:Could not load AData\n"
       ]
      },
      {
       "output_type": "stream",
       "stream": "stderr",
       "text": [
        "WARNING:sarpy.io.Adata_classes:Need precisely one parameter file *json, found: []\n"
       ]
      },
      {
       "output_type": "stream",
       "stream": "stderr",
       "text": [
        "WARNING:sarpy.io.Adata_classes:Could not load AData\n"
       ]
      },
      {
       "output_type": "stream",
       "stream": "stdout",
       "text": [
        "\n",
        "deleting item auc60_roi"
       ]
      },
      {
       "output_type": "stream",
       "stream": "stdout",
       "text": [
        "\n",
        "bulk_transfer_roi: Success. Saved auc60_roi in NecS1Hs08.hk1/9"
       ]
      },
      {
       "output_type": "stream",
       "stream": "stdout",
       "text": [
        "\n",
        "Firas: you really need to fix this function so it uses the masterlist\n"
       ]
      }
     ],
     "prompt_number": 6
    },
    {
     "cell_type": "markdown",
     "metadata": {},
     "source": [
      "## Step 5: Perform advanced analyses (requiring ROIs or basic adata)"
     ]
    },
    {
     "cell_type": "code",
     "collapsed": false,
     "input": [
      "adv_analyze_list = []\n",
      "fFlag = True\n",
      "\n",
      "adv_analyze_list.append([ '0h-DCE1', 'ec','auc60_roi',fFlag])\n",
      "adv_analyze_list.append(['24h-DCE1','ec','auc60_roi',fFlag])\n",
      "\n",
      "adv_analyze_list.append([ '0h-DCE1', '0h-LL','T1map_LL','gd_conc',fFlag])\n",
      "adv_analyze_list.append(['24h-DCE1','24h-LL','T1map_LL','gd_conc',fFlag])\n",
      "\n",
      "adv_analyze_list.append([ '0h-DCE1', 'gd_conc','augc60',fFlag])\n",
      "adv_analyze_list.append(['24h-DCE1','gd_conc','augc60',fFlag])\n",
      "\n",
      "for items in adv_analyze_list:\n",
      "    \n",
      "    if items[1] == 'ec':\n",
      "        \n",
      "        sarpy.fmoosvi.wrappers.calc_enhancement_curve(masterlist,\n",
      "                                                      items[0],\n",
      "                                                      items[1],\n",
      "                                                      items[2],\n",
      "                                                      forceVal=items[3])\n",
      "\n",
      "    if items[3] == 'gd_conc':\n",
      "        \n",
      "        sarpy.fmoosvi.wrappers.conc_from_signal(masterlist, items[0],\n",
      "                                        data_label_T1map = items[1],\n",
      "                                        adata_label = items[2], \n",
      "                                        analysis_label = items[3],\n",
      "                                        forceVal = items[4])\n",
      "\n",
      "    elif items[2] == 'augc60':\n",
      "        \n",
      "        sarpy.fmoosvi.wrappers.calc_AUGC(masterlist,\n",
      "                                         items[0], items[1],\n",
      "                                         analysis_label=items[2],\n",
      "                                         forceVal = items[3])"
     ],
     "language": "python",
     "metadata": {},
     "outputs": [
      {
       "output_type": "stream",
       "stream": "stdout",
       "text": [
        "deleting item ec\n",
        "deleting item ec"
       ]
      },
      {
       "output_type": "stream",
       "stream": "stdout",
       "text": [
        "\n",
        "deleting item ec"
       ]
      },
      {
       "output_type": "stream",
       "stream": "stdout",
       "text": [
        "\n",
        "deleting item ec"
       ]
      },
      {
       "output_type": "stream",
       "stream": "stdout",
       "text": [
        "\n",
        "deleting item ec"
       ]
      },
      {
       "output_type": "stream",
       "stream": "stdout",
       "text": [
        "\n",
        "deleting item ec"
       ]
      },
      {
       "output_type": "stream",
       "stream": "stdout",
       "text": [
        "\n",
        "deleting item ec"
       ]
      },
      {
       "output_type": "stream",
       "stream": "stdout",
       "text": [
        "\n",
        "deleting item ec"
       ]
      },
      {
       "output_type": "stream",
       "stream": "stdout",
       "text": [
        "\n",
        "Could not find the injection point, possibly okay0"
       ]
      },
      {
       "output_type": "stream",
       "stream": "stdout",
       "text": [
        "\n",
        "Could not find the injection point, possibly okay1\n",
        "Could not find the injection point, possibly okay2\n",
        "Could not find the injection point, possibly okay3\n",
        "Could not find the injection point, possibly okay4\n",
        "deleting item ec"
       ]
      },
      {
       "output_type": "stream",
       "stream": "stdout",
       "text": [
        "\n",
        "deleting item ec"
       ]
      },
      {
       "output_type": "stream",
       "stream": "stderr",
       "text": [
        "/Library/Python/2.7/site-packages/scipy-0.13.0.dev_c31f167_20130514-py2.7-macosx-10.8-intel.egg/scipy/stats/stats.py:346: RuntimeWarning: invalid value encountered in true_divide\n",
        "  return np.mean(x,axis)/factor\n",
        "/phd/Dropbox/code/python/sarpy/fmoosvi/analysis.py:400: RuntimeWarning: invalid value encountered in log\n",
        "  T1[x,y,slice,rep] = -TR / numpy.log(E2)\n"
       ]
      },
      {
       "output_type": "stream",
       "stream": "stdout",
       "text": [
        "\n",
        "deleting item gd_conc"
       ]
      },
      {
       "output_type": "stream",
       "stream": "stdout",
       "text": [
        "\n",
        "gd_conc: Success. Saved NecS1Hs02.hi1/8"
       ]
      },
      {
       "output_type": "stream",
       "stream": "stdout",
       "text": [
        "\n",
        "deleting item gd_conc"
       ]
      },
      {
       "output_type": "stream",
       "stream": "stdout",
       "text": [
        "\n",
        "gd_conc: Success. Saved NecS1Hs03.hi1/8"
       ]
      },
      {
       "output_type": "stream",
       "stream": "stdout",
       "text": [
        "\n",
        "deleting item gd_conc"
       ]
      },
      {
       "output_type": "stream",
       "stream": "stdout",
       "text": [
        "\n",
        "gd_conc: Success. Saved NecS1Hs05.hi1/8"
       ]
      },
      {
       "output_type": "stream",
       "stream": "stdout",
       "text": [
        "\n",
        "deleting item gd_conc"
       ]
      },
      {
       "output_type": "stream",
       "stream": "stdout",
       "text": [
        "\n",
        "gd_conc: Success. Saved NecS1Hs06.hi1/8"
       ]
      },
      {
       "output_type": "stream",
       "stream": "stdout",
       "text": [
        "\n",
        "deleting item gd_conc"
       ]
      },
      {
       "output_type": "stream",
       "stream": "stdout",
       "text": [
        "\n",
        "gd_conc: Success. Saved NecS1Hs08.hi1/8"
       ]
      },
      {
       "output_type": "stream",
       "stream": "stdout",
       "text": [
        "\n",
        "deleting item gd_conc"
       ]
      },
      {
       "output_type": "stream",
       "stream": "stdout",
       "text": [
        "\n",
        "gd_conc: Success. Saved NecS1Hs02.hj1/8"
       ]
      },
      {
       "output_type": "stream",
       "stream": "stdout",
       "text": [
        "\n",
        "deleting item gd_conc"
       ]
      },
      {
       "output_type": "stream",
       "stream": "stdout",
       "text": [
        "\n",
        "gd_conc: Success. Saved NecS1Hs03.hj1/9"
       ]
      },
      {
       "output_type": "stream",
       "stream": "stdout",
       "text": [
        "\n",
        "deleting item gd_conc"
       ]
      },
      {
       "output_type": "stream",
       "stream": "stdout",
       "text": [
        "\n",
        "gd_conc: Success. Saved NecS1Hs05.hj1/10"
       ]
      },
      {
       "output_type": "stream",
       "stream": "stdout",
       "text": [
        "\n",
        "Could not find the injection point, possibly okay0"
       ]
      },
      {
       "output_type": "stream",
       "stream": "stdout",
       "text": [
        "\n",
        "Could not find the injection point, possibly okay1\n",
        "Could not find the injection point, possibly okay2\n",
        "Could not find the injection point, possibly okay3\n",
        "Could not find the injection point, possibly okay4\n",
        "deleting item gd_conc"
       ]
      },
      {
       "output_type": "stream",
       "stream": "stdout",
       "text": [
        "\n",
        "gd_conc: Success. Saved NecS1Hs06.hj1/8"
       ]
      },
      {
       "output_type": "stream",
       "stream": "stdout",
       "text": [
        "\n",
        "deleting item gd_conc"
       ]
      },
      {
       "output_type": "stream",
       "stream": "stdout",
       "text": [
        "\n",
        "gd_conc: Success. Saved NecS1Hs08.hj1/6"
       ]
      },
      {
       "output_type": "stream",
       "stream": "stdout",
       "text": [
        "\n",
        "deleting item augc60"
       ]
      },
      {
       "output_type": "stream",
       "stream": "stdout",
       "text": [
        "\n",
        "augc60: Success. Saved NecS1Hs02.hi1/8"
       ]
      },
      {
       "output_type": "stream",
       "stream": "stdout",
       "text": [
        "\n",
        "deleting item augc60"
       ]
      },
      {
       "output_type": "stream",
       "stream": "stdout",
       "text": [
        "\n",
        "augc60: Success. Saved NecS1Hs03.hi1/8"
       ]
      },
      {
       "output_type": "stream",
       "stream": "stdout",
       "text": [
        "\n",
        "deleting item augc60"
       ]
      },
      {
       "output_type": "stream",
       "stream": "stdout",
       "text": [
        "\n",
        "augc60: Success. Saved NecS1Hs05.hi1/8"
       ]
      },
      {
       "output_type": "stream",
       "stream": "stdout",
       "text": [
        "\n",
        "deleting item augc60"
       ]
      },
      {
       "output_type": "stream",
       "stream": "stdout",
       "text": [
        "\n",
        "augc60: Success. Saved NecS1Hs06.hi1/8"
       ]
      },
      {
       "output_type": "stream",
       "stream": "stdout",
       "text": [
        "\n",
        "deleting item augc60"
       ]
      },
      {
       "output_type": "stream",
       "stream": "stdout",
       "text": [
        "\n",
        "augc60: Success. Saved NecS1Hs08.hi1/8"
       ]
      },
      {
       "output_type": "stream",
       "stream": "stdout",
       "text": [
        "\n",
        "deleting item augc60"
       ]
      },
      {
       "output_type": "stream",
       "stream": "stdout",
       "text": [
        "\n",
        "augc60: Success. Saved NecS1Hs02.hj1/8"
       ]
      },
      {
       "output_type": "stream",
       "stream": "stdout",
       "text": [
        "\n",
        "deleting item augc60"
       ]
      },
      {
       "output_type": "stream",
       "stream": "stdout",
       "text": [
        "\n",
        "augc60: Success. Saved NecS1Hs03.hj1/9"
       ]
      },
      {
       "output_type": "stream",
       "stream": "stdout",
       "text": [
        "\n",
        "deleting item augc60"
       ]
      },
      {
       "output_type": "stream",
       "stream": "stdout",
       "text": [
        "\n",
        "augc60: Success. Saved NecS1Hs05.hj1/10"
       ]
      },
      {
       "output_type": "stream",
       "stream": "stdout",
       "text": [
        "\n",
        "Could not find the injection point, possibly okay0"
       ]
      },
      {
       "output_type": "stream",
       "stream": "stdout",
       "text": [
        "\n",
        "Could not find the injection point, possibly okay1\n",
        "Could not find the injection point, possibly okay2\n",
        "Could not find the injection point, possibly okay3\n",
        "Could not find the injection point, possibly okay4\n",
        "deleting item augc60"
       ]
      },
      {
       "output_type": "stream",
       "stream": "stdout",
       "text": [
        "\n",
        "augc60: Success. Saved NecS1Hs06.hj1/8"
       ]
      },
      {
       "output_type": "stream",
       "stream": "stdout",
       "text": [
        "\n",
        "deleting item augc60"
       ]
      },
      {
       "output_type": "stream",
       "stream": "stdout",
       "text": [
        "\n",
        "augc60: Success. Saved NecS1Hs08.hj1/6"
       ]
      },
      {
       "output_type": "stream",
       "stream": "stdout",
       "text": [
        "\n"
       ]
      },
      {
       "output_type": "stream",
       "stream": "stderr",
       "text": [
        "/phd/Dropbox/code/python/sarpy/fmoosvi/analysis.py:400: RuntimeWarning: divide by zero encountered in double_scalars\n",
        "  T1[x,y,slice,rep] = -TR / numpy.log(E2)\n"
       ]
      }
     ],
     "prompt_number": 3
    },
    {
     "cell_type": "markdown",
     "metadata": {},
     "source": [
      "## Step 5B: Transfer more ROIs"
     ]
    },
    {
     "cell_type": "code",
     "collapsed": false,
     "input": [
      "fFlag = True\n",
      "label = []\n",
      "label.append('augc60')\n",
      "\n",
      "for l in label:\n",
      "    sarpy.fmoosvi.wrappers.bulk_transfer_roi(masterlist,l,forceVal = fFlag)"
     ],
     "language": "python",
     "metadata": {},
     "outputs": [
      {
       "output_type": "stream",
       "stream": "stdout",
       "text": [
        "deleting item augc60_roi\n",
        "bulk_transfer_roi: Success. Saved augc60_roi in NecS1Hs02.hi1/8"
       ]
      },
      {
       "output_type": "stream",
       "stream": "stdout",
       "text": [
        "\n",
        "deleting item augc60_roi"
       ]
      },
      {
       "output_type": "stream",
       "stream": "stdout",
       "text": [
        "\n",
        "bulk_transfer_roi: Success. Saved augc60_roi in NecS1Hs02.hj1/8"
       ]
      },
      {
       "output_type": "stream",
       "stream": "stdout",
       "text": [
        "\n",
        "bulk_transfer_roi: augc60 not found in study NecS1Hs02.hk1"
       ]
      },
      {
       "output_type": "stream",
       "stream": "stdout",
       "text": [
        "\n",
        "deleting item augc60_roi"
       ]
      },
      {
       "output_type": "stream",
       "stream": "stdout",
       "text": [
        "\n",
        "bulk_transfer_roi: Success. Saved augc60_roi in NecS1Hs03.hi1/8"
       ]
      },
      {
       "output_type": "stream",
       "stream": "stdout",
       "text": [
        "\n",
        "deleting item augc60_roi"
       ]
      },
      {
       "output_type": "stream",
       "stream": "stdout",
       "text": [
        "\n",
        "bulk_transfer_roi: Success. Saved augc60_roi in NecS1Hs03.hj1/9"
       ]
      },
      {
       "output_type": "stream",
       "stream": "stdout",
       "text": [
        "\n",
        "bulk_transfer_roi: augc60 not found in study NecS1Hs03.hk1"
       ]
      },
      {
       "output_type": "stream",
       "stream": "stdout",
       "text": [
        "\n",
        "deleting item augc60_roi"
       ]
      },
      {
       "output_type": "stream",
       "stream": "stdout",
       "text": [
        "\n",
        "bulk_transfer_roi: Success. Saved augc60_roi in NecS1Hs05.hi1/8"
       ]
      },
      {
       "output_type": "stream",
       "stream": "stdout",
       "text": [
        "\n",
        "deleting item augc60_roi"
       ]
      },
      {
       "output_type": "stream",
       "stream": "stdout",
       "text": [
        "\n",
        "bulk_transfer_roi: Success. Saved augc60_roi in NecS1Hs05.hj1/10"
       ]
      },
      {
       "output_type": "stream",
       "stream": "stdout",
       "text": [
        "\n",
        "bulk_transfer_roi: augc60 not found in study NecS1Hs05.hk1"
       ]
      },
      {
       "output_type": "stream",
       "stream": "stdout",
       "text": [
        "\n",
        "deleting item augc60_roi"
       ]
      },
      {
       "output_type": "stream",
       "stream": "stdout",
       "text": [
        "\n",
        "bulk_transfer_roi: Success. Saved augc60_roi in NecS1Hs06.hi1/8"
       ]
      },
      {
       "output_type": "stream",
       "stream": "stdout",
       "text": [
        "\n",
        "deleting item augc60_roi"
       ]
      },
      {
       "output_type": "stream",
       "stream": "stdout",
       "text": [
        "\n",
        "bulk_transfer_roi: Success. Saved augc60_roi in NecS1Hs06.hj1/8"
       ]
      },
      {
       "output_type": "stream",
       "stream": "stdout",
       "text": [
        "\n",
        "bulk_transfer_roi: augc60 not found in study NecS1Hs06.hk1"
       ]
      },
      {
       "output_type": "stream",
       "stream": "stdout",
       "text": [
        "\n",
        "deleting item augc60_roi"
       ]
      },
      {
       "output_type": "stream",
       "stream": "stdout",
       "text": [
        "\n",
        "bulk_transfer_roi: Success. Saved augc60_roi in NecS1Hs08.hi1/8"
       ]
      },
      {
       "output_type": "stream",
       "stream": "stdout",
       "text": [
        "\n",
        "deleting item augc60_roi"
       ]
      },
      {
       "output_type": "stream",
       "stream": "stdout",
       "text": [
        "\n",
        "bulk_transfer_roi: Success. Saved augc60_roi in NecS1Hs08.hj1/6"
       ]
      },
      {
       "output_type": "stream",
       "stream": "stderr",
       "text": [
        "WARNING:sarpy.io.BRUKER_classes:Directory \"/Users/fmoosvi/bdata/stefan/nmr/NecS1Hs08.hk1/16\" did not contain processed data (2dseq)\n"
       ]
      },
      {
       "output_type": "stream",
       "stream": "stderr",
       "text": [
        "WARNING:sarpy.io.BRUKER_classes:visu_pars file /Users/fmoosvi/bdata/stefan/nmr/NecS1Hs08.hk1/16/pdata/1 not found\n",
        "\n"
       ]
      },
      {
       "output_type": "stream",
       "stream": "stderr",
       "text": [
        "WARNING:sarpy.io.Adata_classes:Need precisely one parameter file *json, found: []\n"
       ]
      },
      {
       "output_type": "stream",
       "stream": "stderr",
       "text": [
        "WARNING:sarpy.io.Adata_classes:Could not load AData\n"
       ]
      },
      {
       "output_type": "stream",
       "stream": "stderr",
       "text": [
        "WARNING:sarpy.io.Adata_classes:Need precisely one parameter file *json, found: []\n"
       ]
      },
      {
       "output_type": "stream",
       "stream": "stderr",
       "text": [
        "WARNING:sarpy.io.Adata_classes:Could not load AData\n"
       ]
      },
      {
       "output_type": "stream",
       "stream": "stderr",
       "text": [
        "WARNING:sarpy.io.Adata_classes:Need precisely one parameter file *json, found: []\n"
       ]
      },
      {
       "output_type": "stream",
       "stream": "stderr",
       "text": [
        "WARNING:sarpy.io.Adata_classes:Could not load AData\n"
       ]
      },
      {
       "output_type": "stream",
       "stream": "stderr",
       "text": [
        "WARNING:sarpy.io.Adata_classes:Need precisely one parameter file *json, found: []\n"
       ]
      },
      {
       "output_type": "stream",
       "stream": "stderr",
       "text": [
        "WARNING:sarpy.io.Adata_classes:Could not load AData\n"
       ]
      },
      {
       "output_type": "stream",
       "stream": "stderr",
       "text": [
        "WARNING:sarpy.io.Adata_classes:Need precisely one parameter file *json, found: []\n"
       ]
      },
      {
       "output_type": "stream",
       "stream": "stderr",
       "text": [
        "WARNING:sarpy.io.Adata_classes:Could not load AData\n"
       ]
      },
      {
       "output_type": "stream",
       "stream": "stderr",
       "text": [
        "WARNING:sarpy.io.Adata_classes:Need precisely one parameter file *json, found: []\n"
       ]
      },
      {
       "output_type": "stream",
       "stream": "stderr",
       "text": [
        "WARNING:sarpy.io.Adata_classes:Could not load AData\n"
       ]
      },
      {
       "output_type": "stream",
       "stream": "stderr",
       "text": [
        "WARNING:sarpy.io.Adata_classes:Need precisely one parameter file *json, found: []\n"
       ]
      },
      {
       "output_type": "stream",
       "stream": "stderr",
       "text": [
        "WARNING:sarpy.io.Adata_classes:Could not load AData\n"
       ]
      },
      {
       "output_type": "stream",
       "stream": "stderr",
       "text": [
        "WARNING:sarpy.io.Adata_classes:Need precisely one parameter file *json, found: []\n"
       ]
      },
      {
       "output_type": "stream",
       "stream": "stderr",
       "text": [
        "WARNING:sarpy.io.Adata_classes:Could not load AData\n"
       ]
      },
      {
       "output_type": "stream",
       "stream": "stderr",
       "text": [
        "WARNING:sarpy.io.Adata_classes:Need precisely one parameter file *json, found: []\n"
       ]
      },
      {
       "output_type": "stream",
       "stream": "stderr",
       "text": [
        "WARNING:sarpy.io.Adata_classes:Could not load AData\n"
       ]
      },
      {
       "output_type": "stream",
       "stream": "stderr",
       "text": [
        "WARNING:sarpy.io.Adata_classes:Need precisely one parameter file *json, found: []\n"
       ]
      },
      {
       "output_type": "stream",
       "stream": "stderr",
       "text": [
        "WARNING:sarpy.io.Adata_classes:Could not load AData\n"
       ]
      },
      {
       "output_type": "stream",
       "stream": "stderr",
       "text": [
        "WARNING:sarpy.io.Adata_classes:Need precisely one parameter file *json, found: []\n"
       ]
      },
      {
       "output_type": "stream",
       "stream": "stderr",
       "text": [
        "WARNING:sarpy.io.Adata_classes:Could not load AData\n"
       ]
      },
      {
       "output_type": "stream",
       "stream": "stderr",
       "text": [
        "WARNING:sarpy.io.Adata_classes:Need precisely one parameter file *json, found: []\n"
       ]
      },
      {
       "output_type": "stream",
       "stream": "stderr",
       "text": [
        "WARNING:sarpy.io.Adata_classes:Could not load AData\n"
       ]
      },
      {
       "output_type": "stream",
       "stream": "stderr",
       "text": [
        "WARNING:sarpy.io.Adata_classes:Need precisely one parameter file *json, found: []\n"
       ]
      },
      {
       "output_type": "stream",
       "stream": "stderr",
       "text": [
        "WARNING:sarpy.io.Adata_classes:Could not load AData\n"
       ]
      },
      {
       "output_type": "stream",
       "stream": "stderr",
       "text": [
        "WARNING:sarpy.io.Adata_classes:Need precisely one parameter file *json, found: []\n"
       ]
      },
      {
       "output_type": "stream",
       "stream": "stderr",
       "text": [
        "WARNING:sarpy.io.Adata_classes:Could not load AData\n"
       ]
      },
      {
       "output_type": "stream",
       "stream": "stderr",
       "text": [
        "WARNING:sarpy.io.Adata_classes:Need precisely one parameter file *json, found: []\n"
       ]
      },
      {
       "output_type": "stream",
       "stream": "stderr",
       "text": [
        "WARNING:sarpy.io.Adata_classes:Could not load AData\n"
       ]
      },
      {
       "output_type": "stream",
       "stream": "stderr",
       "text": [
        "WARNING:sarpy.io.Adata_classes:Need precisely one parameter file *json, found: []\n"
       ]
      },
      {
       "output_type": "stream",
       "stream": "stderr",
       "text": [
        "WARNING:sarpy.io.Adata_classes:Could not load AData\n"
       ]
      },
      {
       "output_type": "stream",
       "stream": "stderr",
       "text": [
        "WARNING:sarpy.io.Adata_classes:Need precisely one parameter file *json, found: []\n"
       ]
      },
      {
       "output_type": "stream",
       "stream": "stderr",
       "text": [
        "WARNING:sarpy.io.Adata_classes:Could not load AData\n"
       ]
      },
      {
       "output_type": "stream",
       "stream": "stderr",
       "text": [
        "WARNING:sarpy.io.Adata_classes:Need precisely one parameter file *json, found: []\n"
       ]
      },
      {
       "output_type": "stream",
       "stream": "stderr",
       "text": [
        "WARNING:sarpy.io.Adata_classes:Could not load AData\n"
       ]
      },
      {
       "output_type": "stream",
       "stream": "stderr",
       "text": [
        "WARNING:sarpy.io.Adata_classes:Need precisely one parameter file *json, found: []\n"
       ]
      },
      {
       "output_type": "stream",
       "stream": "stderr",
       "text": [
        "WARNING:sarpy.io.Adata_classes:Could not load AData\n"
       ]
      },
      {
       "output_type": "stream",
       "stream": "stderr",
       "text": [
        "WARNING:sarpy.io.Adata_classes:Need precisely one parameter file *json, found: []\n"
       ]
      },
      {
       "output_type": "stream",
       "stream": "stderr",
       "text": [
        "WARNING:sarpy.io.Adata_classes:Could not load AData\n"
       ]
      },
      {
       "output_type": "stream",
       "stream": "stderr",
       "text": [
        "WARNING:sarpy.io.Adata_classes:Need precisely one parameter file *json, found: []\n"
       ]
      },
      {
       "output_type": "stream",
       "stream": "stderr",
       "text": [
        "WARNING:sarpy.io.Adata_classes:Could not load AData\n"
       ]
      },
      {
       "output_type": "stream",
       "stream": "stderr",
       "text": [
        "WARNING:sarpy.io.Adata_classes:Need precisely one parameter file *json, found: []\n"
       ]
      },
      {
       "output_type": "stream",
       "stream": "stderr",
       "text": [
        "WARNING:sarpy.io.Adata_classes:Could not load AData\n"
       ]
      },
      {
       "output_type": "stream",
       "stream": "stderr",
       "text": [
        "WARNING:sarpy.io.Adata_classes:Need precisely one parameter file *json, found: []\n"
       ]
      },
      {
       "output_type": "stream",
       "stream": "stderr",
       "text": [
        "WARNING:sarpy.io.Adata_classes:Could not load AData\n"
       ]
      },
      {
       "output_type": "stream",
       "stream": "stderr",
       "text": [
        "WARNING:sarpy.io.Adata_classes:Need precisely one parameter file *json, found: []\n"
       ]
      },
      {
       "output_type": "stream",
       "stream": "stderr",
       "text": [
        "WARNING:sarpy.io.Adata_classes:Could not load AData\n"
       ]
      },
      {
       "output_type": "stream",
       "stream": "stderr",
       "text": [
        "WARNING:sarpy.io.Adata_classes:Need precisely one parameter file *json, found: []\n"
       ]
      },
      {
       "output_type": "stream",
       "stream": "stderr",
       "text": [
        "WARNING:sarpy.io.Adata_classes:Could not load AData\n"
       ]
      },
      {
       "output_type": "stream",
       "stream": "stderr",
       "text": [
        "WARNING:sarpy.io.Adata_classes:Need precisely one parameter file *json, found: []\n"
       ]
      },
      {
       "output_type": "stream",
       "stream": "stderr",
       "text": [
        "WARNING:sarpy.io.Adata_classes:Could not load AData\n"
       ]
      },
      {
       "output_type": "stream",
       "stream": "stderr",
       "text": [
        "WARNING:sarpy.io.Adata_classes:Need precisely one parameter file *json, found: []\n"
       ]
      },
      {
       "output_type": "stream",
       "stream": "stderr",
       "text": [
        "WARNING:sarpy.io.Adata_classes:Could not load AData\n"
       ]
      },
      {
       "output_type": "stream",
       "stream": "stderr",
       "text": [
        "WARNING:sarpy.io.Adata_classes:Need precisely one parameter file *json, found: []\n"
       ]
      },
      {
       "output_type": "stream",
       "stream": "stderr",
       "text": [
        "WARNING:sarpy.io.Adata_classes:Could not load AData\n"
       ]
      },
      {
       "output_type": "stream",
       "stream": "stderr",
       "text": [
        "WARNING:sarpy.io.Adata_classes:Need precisely one parameter file *json, found: []\n"
       ]
      },
      {
       "output_type": "stream",
       "stream": "stderr",
       "text": [
        "WARNING:sarpy.io.Adata_classes:Could not load AData\n"
       ]
      },
      {
       "output_type": "stream",
       "stream": "stderr",
       "text": [
        "WARNING:sarpy.io.Adata_classes:Need precisely one parameter file *json, found: []\n"
       ]
      },
      {
       "output_type": "stream",
       "stream": "stderr",
       "text": [
        "WARNING:sarpy.io.Adata_classes:Could not load AData\n"
       ]
      },
      {
       "output_type": "stream",
       "stream": "stderr",
       "text": [
        "WARNING:sarpy.io.Adata_classes:Need precisely one parameter file *json, found: []\n"
       ]
      },
      {
       "output_type": "stream",
       "stream": "stderr",
       "text": [
        "WARNING:sarpy.io.Adata_classes:Could not load AData\n"
       ]
      },
      {
       "output_type": "stream",
       "stream": "stderr",
       "text": [
        "WARNING:sarpy.io.Adata_classes:Need precisely one parameter file *json, found: []\n"
       ]
      },
      {
       "output_type": "stream",
       "stream": "stderr",
       "text": [
        "WARNING:sarpy.io.Adata_classes:Could not load AData\n"
       ]
      },
      {
       "output_type": "stream",
       "stream": "stderr",
       "text": [
        "WARNING:sarpy.io.Adata_classes:Need precisely one parameter file *json, found: []\n"
       ]
      },
      {
       "output_type": "stream",
       "stream": "stderr",
       "text": [
        "WARNING:sarpy.io.Adata_classes:Could not load AData\n"
       ]
      },
      {
       "output_type": "stream",
       "stream": "stderr",
       "text": [
        "WARNING:sarpy.io.Adata_classes:Need precisely one parameter file *json, found: []\n"
       ]
      },
      {
       "output_type": "stream",
       "stream": "stderr",
       "text": [
        "WARNING:sarpy.io.Adata_classes:Could not load AData\n"
       ]
      },
      {
       "output_type": "stream",
       "stream": "stderr",
       "text": [
        "WARNING:sarpy.io.Adata_classes:Need precisely one parameter file *json, found: []\n"
       ]
      },
      {
       "output_type": "stream",
       "stream": "stderr",
       "text": [
        "WARNING:sarpy.io.Adata_classes:Could not load AData\n"
       ]
      },
      {
       "output_type": "stream",
       "stream": "stderr",
       "text": [
        "WARNING:sarpy.io.Adata_classes:Need precisely one parameter file *json, found: []\n"
       ]
      },
      {
       "output_type": "stream",
       "stream": "stderr",
       "text": [
        "WARNING:sarpy.io.Adata_classes:Could not load AData\n"
       ]
      },
      {
       "output_type": "stream",
       "stream": "stderr",
       "text": [
        "WARNING:sarpy.io.Adata_classes:Need precisely one parameter file *json, found: []\n"
       ]
      },
      {
       "output_type": "stream",
       "stream": "stderr",
       "text": [
        "WARNING:sarpy.io.Adata_classes:Could not load AData\n"
       ]
      },
      {
       "output_type": "stream",
       "stream": "stderr",
       "text": [
        "WARNING:sarpy.io.Adata_classes:Need precisely one parameter file *json, found: []\n"
       ]
      },
      {
       "output_type": "stream",
       "stream": "stderr",
       "text": [
        "WARNING:sarpy.io.Adata_classes:Could not load AData\n"
       ]
      },
      {
       "output_type": "stream",
       "stream": "stderr",
       "text": [
        "WARNING:sarpy.io.Adata_classes:Need precisely one parameter file *json, found: []\n"
       ]
      },
      {
       "output_type": "stream",
       "stream": "stderr",
       "text": [
        "WARNING:sarpy.io.Adata_classes:Could not load AData\n"
       ]
      },
      {
       "output_type": "stream",
       "stream": "stderr",
       "text": [
        "WARNING:sarpy.io.Adata_classes:Need precisely one parameter file *json, found: []\n"
       ]
      },
      {
       "output_type": "stream",
       "stream": "stderr",
       "text": [
        "WARNING:sarpy.io.Adata_classes:Could not load AData\n"
       ]
      },
      {
       "output_type": "stream",
       "stream": "stderr",
       "text": [
        "WARNING:sarpy.io.Adata_classes:Need precisely one parameter file *json, found: []\n"
       ]
      },
      {
       "output_type": "stream",
       "stream": "stderr",
       "text": [
        "WARNING:sarpy.io.Adata_classes:Could not load AData\n"
       ]
      },
      {
       "output_type": "stream",
       "stream": "stderr",
       "text": [
        "WARNING:sarpy.io.Adata_classes:Need precisely one parameter file *json, found: []\n"
       ]
      },
      {
       "output_type": "stream",
       "stream": "stderr",
       "text": [
        "WARNING:sarpy.io.Adata_classes:Could not load AData\n"
       ]
      },
      {
       "output_type": "stream",
       "stream": "stderr",
       "text": [
        "WARNING:sarpy.io.Adata_classes:Need precisely one parameter file *json, found: []\n"
       ]
      },
      {
       "output_type": "stream",
       "stream": "stderr",
       "text": [
        "WARNING:sarpy.io.Adata_classes:Could not load AData\n"
       ]
      },
      {
       "output_type": "stream",
       "stream": "stderr",
       "text": [
        "WARNING:sarpy.io.Adata_classes:Need precisely one parameter file *json, found: []\n"
       ]
      },
      {
       "output_type": "stream",
       "stream": "stderr",
       "text": [
        "WARNING:sarpy.io.Adata_classes:Could not load AData\n"
       ]
      },
      {
       "output_type": "stream",
       "stream": "stderr",
       "text": [
        "WARNING:sarpy.io.Adata_classes:Need precisely one parameter file *json, found: []\n"
       ]
      },
      {
       "output_type": "stream",
       "stream": "stderr",
       "text": [
        "WARNING:sarpy.io.Adata_classes:Could not load AData\n"
       ]
      },
      {
       "output_type": "stream",
       "stream": "stderr",
       "text": [
        "WARNING:sarpy.io.Adata_classes:Need precisely one parameter file *json, found: []\n"
       ]
      },
      {
       "output_type": "stream",
       "stream": "stderr",
       "text": [
        "WARNING:sarpy.io.Adata_classes:Could not load AData\n"
       ]
      },
      {
       "output_type": "stream",
       "stream": "stderr",
       "text": [
        "WARNING:sarpy.io.Adata_classes:Need precisely one parameter file *json, found: []\n"
       ]
      },
      {
       "output_type": "stream",
       "stream": "stderr",
       "text": [
        "WARNING:sarpy.io.Adata_classes:Could not load AData\n"
       ]
      },
      {
       "output_type": "stream",
       "stream": "stderr",
       "text": [
        "WARNING:sarpy.io.Adata_classes:Need precisely one parameter file *json, found: []\n"
       ]
      },
      {
       "output_type": "stream",
       "stream": "stderr",
       "text": [
        "WARNING:sarpy.io.Adata_classes:Could not load AData\n"
       ]
      },
      {
       "output_type": "stream",
       "stream": "stderr",
       "text": [
        "WARNING:sarpy.io.Adata_classes:Need precisely one parameter file *json, found: []\n"
       ]
      },
      {
       "output_type": "stream",
       "stream": "stderr",
       "text": [
        "WARNING:sarpy.io.Adata_classes:Could not load AData\n"
       ]
      },
      {
       "output_type": "stream",
       "stream": "stderr",
       "text": [
        "WARNING:sarpy.io.Adata_classes:Need precisely one parameter file *json, found: []\n"
       ]
      },
      {
       "output_type": "stream",
       "stream": "stderr",
       "text": [
        "WARNING:sarpy.io.Adata_classes:Could not load AData\n"
       ]
      },
      {
       "output_type": "stream",
       "stream": "stderr",
       "text": [
        "WARNING:sarpy.io.Adata_classes:Need precisely one parameter file *json, found: []\n"
       ]
      },
      {
       "output_type": "stream",
       "stream": "stderr",
       "text": [
        "WARNING:sarpy.io.Adata_classes:Could not load AData\n"
       ]
      },
      {
       "output_type": "stream",
       "stream": "stderr",
       "text": [
        "WARNING:sarpy.io.Adata_classes:Need precisely one parameter file *json, found: []\n"
       ]
      },
      {
       "output_type": "stream",
       "stream": "stderr",
       "text": [
        "WARNING:sarpy.io.Adata_classes:Could not load AData\n"
       ]
      },
      {
       "output_type": "stream",
       "stream": "stderr",
       "text": [
        "WARNING:sarpy.io.Adata_classes:Need precisely one parameter file *json, found: []\n"
       ]
      },
      {
       "output_type": "stream",
       "stream": "stderr",
       "text": [
        "WARNING:sarpy.io.Adata_classes:Could not load AData\n"
       ]
      },
      {
       "output_type": "stream",
       "stream": "stderr",
       "text": [
        "WARNING:sarpy.io.Adata_classes:Need precisely one parameter file *json, found: []\n"
       ]
      },
      {
       "output_type": "stream",
       "stream": "stderr",
       "text": [
        "WARNING:sarpy.io.Adata_classes:Could not load AData\n"
       ]
      },
      {
       "output_type": "stream",
       "stream": "stderr",
       "text": [
        "WARNING:sarpy.io.Adata_classes:Need precisely one parameter file *json, found: []\n"
       ]
      },
      {
       "output_type": "stream",
       "stream": "stderr",
       "text": [
        "WARNING:sarpy.io.Adata_classes:Could not load AData\n"
       ]
      },
      {
       "output_type": "stream",
       "stream": "stderr",
       "text": [
        "WARNING:sarpy.io.Adata_classes:Need precisely one parameter file *json, found: []\n"
       ]
      },
      {
       "output_type": "stream",
       "stream": "stderr",
       "text": [
        "WARNING:sarpy.io.Adata_classes:Could not load AData\n"
       ]
      },
      {
       "output_type": "stream",
       "stream": "stderr",
       "text": [
        "WARNING:sarpy.io.Adata_classes:Need precisely one parameter file *json, found: []\n"
       ]
      },
      {
       "output_type": "stream",
       "stream": "stderr",
       "text": [
        "WARNING:sarpy.io.Adata_classes:Could not load AData\n"
       ]
      },
      {
       "output_type": "stream",
       "stream": "stderr",
       "text": [
        "WARNING:sarpy.io.Adata_classes:Need precisely one parameter file *json, found: []\n"
       ]
      },
      {
       "output_type": "stream",
       "stream": "stderr",
       "text": [
        "WARNING:sarpy.io.Adata_classes:Could not load AData\n"
       ]
      },
      {
       "output_type": "stream",
       "stream": "stderr",
       "text": [
        "WARNING:sarpy.io.Adata_classes:Need precisely one parameter file *json, found: []\n"
       ]
      },
      {
       "output_type": "stream",
       "stream": "stderr",
       "text": [
        "WARNING:sarpy.io.Adata_classes:Could not load AData\n"
       ]
      },
      {
       "output_type": "stream",
       "stream": "stderr",
       "text": [
        "WARNING:sarpy.io.Adata_classes:Need precisely one parameter file *json, found: []\n"
       ]
      },
      {
       "output_type": "stream",
       "stream": "stderr",
       "text": [
        "WARNING:sarpy.io.Adata_classes:Could not load AData\n"
       ]
      },
      {
       "output_type": "stream",
       "stream": "stderr",
       "text": [
        "WARNING:sarpy.io.Adata_classes:Need precisely one parameter file *json, found: []\n"
       ]
      },
      {
       "output_type": "stream",
       "stream": "stderr",
       "text": [
        "WARNING:sarpy.io.Adata_classes:Could not load AData\n"
       ]
      },
      {
       "output_type": "stream",
       "stream": "stderr",
       "text": [
        "WARNING:sarpy.io.Adata_classes:Need precisely one parameter file *json, found: []\n"
       ]
      },
      {
       "output_type": "stream",
       "stream": "stderr",
       "text": [
        "WARNING:sarpy.io.Adata_classes:Could not load AData\n"
       ]
      },
      {
       "output_type": "stream",
       "stream": "stderr",
       "text": [
        "WARNING:sarpy.io.Adata_classes:Need precisely one parameter file *json, found: []\n"
       ]
      },
      {
       "output_type": "stream",
       "stream": "stderr",
       "text": [
        "WARNING:sarpy.io.Adata_classes:Could not load AData\n"
       ]
      },
      {
       "output_type": "stream",
       "stream": "stderr",
       "text": [
        "WARNING:sarpy.io.Adata_classes:Need precisely one parameter file *json, found: []\n"
       ]
      },
      {
       "output_type": "stream",
       "stream": "stderr",
       "text": [
        "WARNING:sarpy.io.Adata_classes:Could not load AData\n"
       ]
      },
      {
       "output_type": "stream",
       "stream": "stderr",
       "text": [
        "WARNING:sarpy.io.Adata_classes:Need precisely one parameter file *json, found: []\n"
       ]
      },
      {
       "output_type": "stream",
       "stream": "stderr",
       "text": [
        "WARNING:sarpy.io.Adata_classes:Could not load AData\n"
       ]
      },
      {
       "output_type": "stream",
       "stream": "stderr",
       "text": [
        "WARNING:sarpy.io.Adata_classes:Need precisely one parameter file *json, found: []\n"
       ]
      },
      {
       "output_type": "stream",
       "stream": "stderr",
       "text": [
        "WARNING:sarpy.io.Adata_classes:Could not load AData\n"
       ]
      },
      {
       "output_type": "stream",
       "stream": "stderr",
       "text": [
        "WARNING:sarpy.io.Adata_classes:Need precisely one parameter file *json, found: []\n"
       ]
      },
      {
       "output_type": "stream",
       "stream": "stderr",
       "text": [
        "WARNING:sarpy.io.Adata_classes:Could not load AData\n"
       ]
      },
      {
       "output_type": "stream",
       "stream": "stderr",
       "text": [
        "WARNING:sarpy.io.Adata_classes:Need precisely one parameter file *json, found: []\n"
       ]
      },
      {
       "output_type": "stream",
       "stream": "stderr",
       "text": [
        "WARNING:sarpy.io.Adata_classes:Could not load AData\n"
       ]
      },
      {
       "output_type": "stream",
       "stream": "stderr",
       "text": [
        "WARNING:sarpy.io.Adata_classes:Need precisely one parameter file *json, found: []\n"
       ]
      },
      {
       "output_type": "stream",
       "stream": "stderr",
       "text": [
        "WARNING:sarpy.io.Adata_classes:Could not load AData\n"
       ]
      },
      {
       "output_type": "stream",
       "stream": "stderr",
       "text": [
        "WARNING:sarpy.io.Adata_classes:Need precisely one parameter file *json, found: []\n"
       ]
      },
      {
       "output_type": "stream",
       "stream": "stderr",
       "text": [
        "WARNING:sarpy.io.Adata_classes:Could not load AData\n"
       ]
      },
      {
       "output_type": "stream",
       "stream": "stderr",
       "text": [
        "WARNING:sarpy.io.Adata_classes:Need precisely one parameter file *json, found: []\n"
       ]
      },
      {
       "output_type": "stream",
       "stream": "stderr",
       "text": [
        "WARNING:sarpy.io.Adata_classes:Could not load AData\n"
       ]
      },
      {
       "output_type": "stream",
       "stream": "stderr",
       "text": [
        "WARNING:sarpy.io.Adata_classes:Need precisely one parameter file *json, found: []\n"
       ]
      },
      {
       "output_type": "stream",
       "stream": "stderr",
       "text": [
        "WARNING:sarpy.io.Adata_classes:Could not load AData\n"
       ]
      },
      {
       "output_type": "stream",
       "stream": "stderr",
       "text": [
        "WARNING:sarpy.io.Adata_classes:Need precisely one parameter file *json, found: []\n"
       ]
      },
      {
       "output_type": "stream",
       "stream": "stderr",
       "text": [
        "WARNING:sarpy.io.Adata_classes:Could not load AData\n"
       ]
      },
      {
       "output_type": "stream",
       "stream": "stderr",
       "text": [
        "WARNING:sarpy.io.Adata_classes:Need precisely one parameter file *json, found: []\n"
       ]
      },
      {
       "output_type": "stream",
       "stream": "stderr",
       "text": [
        "WARNING:sarpy.io.Adata_classes:Could not load AData\n"
       ]
      },
      {
       "output_type": "stream",
       "stream": "stderr",
       "text": [
        "WARNING:sarpy.io.Adata_classes:Need precisely one parameter file *json, found: []\n"
       ]
      },
      {
       "output_type": "stream",
       "stream": "stderr",
       "text": [
        "WARNING:sarpy.io.Adata_classes:Could not load AData\n"
       ]
      },
      {
       "output_type": "stream",
       "stream": "stderr",
       "text": [
        "WARNING:sarpy.io.Adata_classes:Need precisely one parameter file *json, found: []\n"
       ]
      },
      {
       "output_type": "stream",
       "stream": "stderr",
       "text": [
        "WARNING:sarpy.io.Adata_classes:Could not load AData\n"
       ]
      },
      {
       "output_type": "stream",
       "stream": "stderr",
       "text": [
        "WARNING:sarpy.io.Adata_classes:Need precisely one parameter file *json, found: []\n"
       ]
      },
      {
       "output_type": "stream",
       "stream": "stderr",
       "text": [
        "WARNING:sarpy.io.Adata_classes:Could not load AData\n"
       ]
      },
      {
       "output_type": "stream",
       "stream": "stderr",
       "text": [
        "WARNING:sarpy.io.Adata_classes:Need precisely one parameter file *json, found: []\n"
       ]
      },
      {
       "output_type": "stream",
       "stream": "stderr",
       "text": [
        "WARNING:sarpy.io.Adata_classes:Could not load AData\n"
       ]
      },
      {
       "output_type": "stream",
       "stream": "stderr",
       "text": [
        "WARNING:sarpy.io.Adata_classes:Need precisely one parameter file *json, found: []\n"
       ]
      },
      {
       "output_type": "stream",
       "stream": "stderr",
       "text": [
        "WARNING:sarpy.io.Adata_classes:Could not load AData\n"
       ]
      },
      {
       "output_type": "stream",
       "stream": "stderr",
       "text": [
        "WARNING:sarpy.io.Adata_classes:Need precisely one parameter file *json, found: []\n"
       ]
      },
      {
       "output_type": "stream",
       "stream": "stderr",
       "text": [
        "WARNING:sarpy.io.Adata_classes:Could not load AData\n"
       ]
      },
      {
       "output_type": "stream",
       "stream": "stderr",
       "text": [
        "WARNING:sarpy.io.Adata_classes:Need precisely one parameter file *json, found: []\n"
       ]
      },
      {
       "output_type": "stream",
       "stream": "stderr",
       "text": [
        "WARNING:sarpy.io.Adata_classes:Could not load AData\n"
       ]
      },
      {
       "output_type": "stream",
       "stream": "stderr",
       "text": [
        "WARNING:sarpy.io.Adata_classes:Need precisely one parameter file *json, found: []\n"
       ]
      },
      {
       "output_type": "stream",
       "stream": "stderr",
       "text": [
        "WARNING:sarpy.io.Adata_classes:Could not load AData\n"
       ]
      },
      {
       "output_type": "stream",
       "stream": "stderr",
       "text": [
        "WARNING:sarpy.io.Adata_classes:Need precisely one parameter file *json, found: []\n"
       ]
      },
      {
       "output_type": "stream",
       "stream": "stderr",
       "text": [
        "WARNING:sarpy.io.Adata_classes:Could not load AData\n"
       ]
      },
      {
       "output_type": "stream",
       "stream": "stderr",
       "text": [
        "WARNING:sarpy.io.Adata_classes:Need precisely one parameter file *json, found: []\n"
       ]
      },
      {
       "output_type": "stream",
       "stream": "stderr",
       "text": [
        "WARNING:sarpy.io.Adata_classes:Could not load AData\n"
       ]
      },
      {
       "output_type": "stream",
       "stream": "stderr",
       "text": [
        "WARNING:sarpy.io.Adata_classes:Need precisely one parameter file *json, found: []\n"
       ]
      },
      {
       "output_type": "stream",
       "stream": "stderr",
       "text": [
        "WARNING:sarpy.io.Adata_classes:Could not load AData\n"
       ]
      },
      {
       "output_type": "stream",
       "stream": "stderr",
       "text": [
        "WARNING:sarpy.io.Adata_classes:Need precisely one parameter file *json, found: []\n"
       ]
      },
      {
       "output_type": "stream",
       "stream": "stderr",
       "text": [
        "WARNING:sarpy.io.Adata_classes:Could not load AData\n"
       ]
      },
      {
       "output_type": "stream",
       "stream": "stderr",
       "text": [
        "WARNING:sarpy.io.Adata_classes:Need precisely one parameter file *json, found: []\n"
       ]
      },
      {
       "output_type": "stream",
       "stream": "stderr",
       "text": [
        "WARNING:sarpy.io.Adata_classes:Could not load AData\n"
       ]
      },
      {
       "output_type": "stream",
       "stream": "stderr",
       "text": [
        "WARNING:sarpy.io.Adata_classes:Need precisely one parameter file *json, found: []\n"
       ]
      },
      {
       "output_type": "stream",
       "stream": "stderr",
       "text": [
        "WARNING:sarpy.io.Adata_classes:Could not load AData\n"
       ]
      },
      {
       "output_type": "stream",
       "stream": "stderr",
       "text": [
        "WARNING:sarpy.io.Adata_classes:Need precisely one parameter file *json, found: []\n"
       ]
      },
      {
       "output_type": "stream",
       "stream": "stderr",
       "text": [
        "WARNING:sarpy.io.Adata_classes:Could not load AData\n"
       ]
      },
      {
       "output_type": "stream",
       "stream": "stderr",
       "text": [
        "WARNING:sarpy.io.Adata_classes:Need precisely one parameter file *json, found: []\n"
       ]
      },
      {
       "output_type": "stream",
       "stream": "stderr",
       "text": [
        "WARNING:sarpy.io.Adata_classes:Could not load AData\n"
       ]
      },
      {
       "output_type": "stream",
       "stream": "stderr",
       "text": [
        "WARNING:sarpy.io.Adata_classes:Need precisely one parameter file *json, found: []\n"
       ]
      },
      {
       "output_type": "stream",
       "stream": "stderr",
       "text": [
        "WARNING:sarpy.io.Adata_classes:Could not load AData\n"
       ]
      },
      {
       "output_type": "stream",
       "stream": "stderr",
       "text": [
        "WARNING:sarpy.io.Adata_classes:Need precisely one parameter file *json, found: []\n"
       ]
      },
      {
       "output_type": "stream",
       "stream": "stderr",
       "text": [
        "WARNING:sarpy.io.Adata_classes:Could not load AData\n"
       ]
      },
      {
       "output_type": "stream",
       "stream": "stderr",
       "text": [
        "WARNING:sarpy.io.Adata_classes:Need precisely one parameter file *json, found: []\n"
       ]
      },
      {
       "output_type": "stream",
       "stream": "stderr",
       "text": [
        "WARNING:sarpy.io.Adata_classes:Could not load AData\n"
       ]
      },
      {
       "output_type": "stream",
       "stream": "stderr",
       "text": [
        "WARNING:sarpy.io.Adata_classes:Need precisely one parameter file *json, found: []\n"
       ]
      },
      {
       "output_type": "stream",
       "stream": "stderr",
       "text": [
        "WARNING:sarpy.io.Adata_classes:Could not load AData\n"
       ]
      },
      {
       "output_type": "stream",
       "stream": "stderr",
       "text": [
        "WARNING:sarpy.io.Adata_classes:Need precisely one parameter file *json, found: []\n"
       ]
      },
      {
       "output_type": "stream",
       "stream": "stderr",
       "text": [
        "WARNING:sarpy.io.Adata_classes:Could not load AData\n"
       ]
      },
      {
       "output_type": "stream",
       "stream": "stderr",
       "text": [
        "WARNING:sarpy.io.Adata_classes:Need precisely one parameter file *json, found: []\n"
       ]
      },
      {
       "output_type": "stream",
       "stream": "stderr",
       "text": [
        "WARNING:sarpy.io.Adata_classes:Could not load AData\n"
       ]
      },
      {
       "output_type": "stream",
       "stream": "stderr",
       "text": [
        "WARNING:sarpy.io.Adata_classes:Need precisely one parameter file *json, found: []\n"
       ]
      },
      {
       "output_type": "stream",
       "stream": "stderr",
       "text": [
        "WARNING:sarpy.io.Adata_classes:Could not load AData\n"
       ]
      },
      {
       "output_type": "stream",
       "stream": "stderr",
       "text": [
        "WARNING:sarpy.io.Adata_classes:Need precisely one parameter file *json, found: []\n"
       ]
      },
      {
       "output_type": "stream",
       "stream": "stderr",
       "text": [
        "WARNING:sarpy.io.Adata_classes:Could not load AData\n"
       ]
      },
      {
       "output_type": "stream",
       "stream": "stderr",
       "text": [
        "WARNING:sarpy.io.Adata_classes:Need precisely one parameter file *json, found: []\n"
       ]
      },
      {
       "output_type": "stream",
       "stream": "stderr",
       "text": [
        "WARNING:sarpy.io.Adata_classes:Could not load AData\n"
       ]
      },
      {
       "output_type": "stream",
       "stream": "stderr",
       "text": [
        "WARNING:sarpy.io.Adata_classes:Need precisely one parameter file *json, found: []\n"
       ]
      },
      {
       "output_type": "stream",
       "stream": "stderr",
       "text": [
        "WARNING:sarpy.io.Adata_classes:Could not load AData\n"
       ]
      },
      {
       "output_type": "stream",
       "stream": "stderr",
       "text": [
        "WARNING:sarpy.io.Adata_classes:Need precisely one parameter file *json, found: []\n"
       ]
      },
      {
       "output_type": "stream",
       "stream": "stderr",
       "text": [
        "WARNING:sarpy.io.Adata_classes:Could not load AData\n"
       ]
      },
      {
       "output_type": "stream",
       "stream": "stderr",
       "text": [
        "WARNING:sarpy.io.Adata_classes:Need precisely one parameter file *json, found: []\n"
       ]
      },
      {
       "output_type": "stream",
       "stream": "stderr",
       "text": [
        "WARNING:sarpy.io.Adata_classes:Could not load AData\n"
       ]
      },
      {
       "output_type": "stream",
       "stream": "stderr",
       "text": [
        "WARNING:sarpy.io.Adata_classes:Need precisely one parameter file *json, found: []\n"
       ]
      },
      {
       "output_type": "stream",
       "stream": "stderr",
       "text": [
        "WARNING:sarpy.io.Adata_classes:Could not load AData\n"
       ]
      },
      {
       "output_type": "stream",
       "stream": "stderr",
       "text": [
        "WARNING:sarpy.io.Adata_classes:Need precisely one parameter file *json, found: []\n"
       ]
      },
      {
       "output_type": "stream",
       "stream": "stderr",
       "text": [
        "WARNING:sarpy.io.Adata_classes:Could not load AData\n"
       ]
      },
      {
       "output_type": "stream",
       "stream": "stderr",
       "text": [
        "WARNING:sarpy.io.Adata_classes:Need precisely one parameter file *json, found: []\n"
       ]
      },
      {
       "output_type": "stream",
       "stream": "stderr",
       "text": [
        "WARNING:sarpy.io.Adata_classes:Could not load AData\n"
       ]
      },
      {
       "output_type": "stream",
       "stream": "stderr",
       "text": [
        "WARNING:sarpy.io.Adata_classes:Need precisely one parameter file *json, found: []\n"
       ]
      },
      {
       "output_type": "stream",
       "stream": "stderr",
       "text": [
        "WARNING:sarpy.io.Adata_classes:Could not load AData\n"
       ]
      },
      {
       "output_type": "stream",
       "stream": "stderr",
       "text": [
        "WARNING:sarpy.io.Adata_classes:Need precisely one parameter file *json, found: []\n"
       ]
      },
      {
       "output_type": "stream",
       "stream": "stderr",
       "text": [
        "WARNING:sarpy.io.Adata_classes:Could not load AData\n"
       ]
      },
      {
       "output_type": "stream",
       "stream": "stderr",
       "text": [
        "WARNING:sarpy.io.Adata_classes:Need precisely one parameter file *json, found: []\n"
       ]
      },
      {
       "output_type": "stream",
       "stream": "stderr",
       "text": [
        "WARNING:sarpy.io.Adata_classes:Could not load AData\n"
       ]
      },
      {
       "output_type": "stream",
       "stream": "stderr",
       "text": [
        "WARNING:sarpy.io.Adata_classes:Need precisely one parameter file *json, found: []\n"
       ]
      },
      {
       "output_type": "stream",
       "stream": "stderr",
       "text": [
        "WARNING:sarpy.io.Adata_classes:Could not load AData\n"
       ]
      },
      {
       "output_type": "stream",
       "stream": "stderr",
       "text": [
        "WARNING:sarpy.io.Adata_classes:Need precisely one parameter file *json, found: []\n"
       ]
      },
      {
       "output_type": "stream",
       "stream": "stderr",
       "text": [
        "WARNING:sarpy.io.Adata_classes:Could not load AData\n"
       ]
      },
      {
       "output_type": "stream",
       "stream": "stderr",
       "text": [
        "WARNING:sarpy.io.Adata_classes:Need precisely one parameter file *json, found: []\n"
       ]
      },
      {
       "output_type": "stream",
       "stream": "stderr",
       "text": [
        "WARNING:sarpy.io.Adata_classes:Could not load AData\n"
       ]
      },
      {
       "output_type": "stream",
       "stream": "stderr",
       "text": [
        "WARNING:sarpy.io.Adata_classes:Need precisely one parameter file *json, found: []\n"
       ]
      },
      {
       "output_type": "stream",
       "stream": "stderr",
       "text": [
        "WARNING:sarpy.io.Adata_classes:Could not load AData\n"
       ]
      },
      {
       "output_type": "stream",
       "stream": "stderr",
       "text": [
        "WARNING:sarpy.io.Adata_classes:Need precisely one parameter file *json, found: []\n"
       ]
      },
      {
       "output_type": "stream",
       "stream": "stderr",
       "text": [
        "WARNING:sarpy.io.Adata_classes:Could not load AData\n"
       ]
      },
      {
       "output_type": "stream",
       "stream": "stderr",
       "text": [
        "WARNING:sarpy.io.Adata_classes:Need precisely one parameter file *json, found: []\n"
       ]
      },
      {
       "output_type": "stream",
       "stream": "stderr",
       "text": [
        "WARNING:sarpy.io.Adata_classes:Could not load AData\n"
       ]
      },
      {
       "output_type": "stream",
       "stream": "stderr",
       "text": [
        "WARNING:sarpy.io.Adata_classes:Need precisely one parameter file *json, found: []\n"
       ]
      },
      {
       "output_type": "stream",
       "stream": "stderr",
       "text": [
        "WARNING:sarpy.io.Adata_classes:Could not load AData\n"
       ]
      },
      {
       "output_type": "stream",
       "stream": "stderr",
       "text": [
        "WARNING:sarpy.io.Adata_classes:Need precisely one parameter file *json, found: []\n"
       ]
      },
      {
       "output_type": "stream",
       "stream": "stderr",
       "text": [
        "WARNING:sarpy.io.Adata_classes:Could not load AData\n"
       ]
      },
      {
       "output_type": "stream",
       "stream": "stderr",
       "text": [
        "WARNING:sarpy.io.Adata_classes:Need precisely one parameter file *json, found: []\n"
       ]
      },
      {
       "output_type": "stream",
       "stream": "stderr",
       "text": [
        "WARNING:sarpy.io.Adata_classes:Could not load AData\n"
       ]
      },
      {
       "output_type": "stream",
       "stream": "stderr",
       "text": [
        "WARNING:sarpy.io.Adata_classes:Need precisely one parameter file *json, found: []\n"
       ]
      },
      {
       "output_type": "stream",
       "stream": "stderr",
       "text": [
        "WARNING:sarpy.io.Adata_classes:Could not load AData\n"
       ]
      },
      {
       "output_type": "stream",
       "stream": "stderr",
       "text": [
        "WARNING:sarpy.io.Adata_classes:Need precisely one parameter file *json, found: []\n"
       ]
      },
      {
       "output_type": "stream",
       "stream": "stderr",
       "text": [
        "WARNING:sarpy.io.Adata_classes:Could not load AData\n"
       ]
      },
      {
       "output_type": "stream",
       "stream": "stderr",
       "text": [
        "WARNING:sarpy.io.Adata_classes:Need precisely one parameter file *json, found: []\n"
       ]
      },
      {
       "output_type": "stream",
       "stream": "stderr",
       "text": [
        "WARNING:sarpy.io.Adata_classes:Could not load AData\n"
       ]
      },
      {
       "output_type": "stream",
       "stream": "stderr",
       "text": [
        "WARNING:sarpy.io.Adata_classes:Need precisely one parameter file *json, found: []\n"
       ]
      },
      {
       "output_type": "stream",
       "stream": "stderr",
       "text": [
        "WARNING:sarpy.io.Adata_classes:Could not load AData\n"
       ]
      },
      {
       "output_type": "stream",
       "stream": "stderr",
       "text": [
        "WARNING:sarpy.io.Adata_classes:Need precisely one parameter file *json, found: []\n"
       ]
      },
      {
       "output_type": "stream",
       "stream": "stderr",
       "text": [
        "WARNING:sarpy.io.Adata_classes:Could not load AData\n"
       ]
      },
      {
       "output_type": "stream",
       "stream": "stderr",
       "text": [
        "WARNING:sarpy.io.Adata_classes:Need precisely one parameter file *json, found: []\n"
       ]
      },
      {
       "output_type": "stream",
       "stream": "stderr",
       "text": [
        "WARNING:sarpy.io.Adata_classes:Could not load AData\n"
       ]
      },
      {
       "output_type": "stream",
       "stream": "stderr",
       "text": [
        "WARNING:sarpy.io.Adata_classes:Need precisely one parameter file *json, found: []\n"
       ]
      },
      {
       "output_type": "stream",
       "stream": "stderr",
       "text": [
        "WARNING:sarpy.io.Adata_classes:Could not load AData\n"
       ]
      },
      {
       "output_type": "stream",
       "stream": "stderr",
       "text": [
        "WARNING:sarpy.io.Adata_classes:Need precisely one parameter file *json, found: []\n"
       ]
      },
      {
       "output_type": "stream",
       "stream": "stderr",
       "text": [
        "WARNING:sarpy.io.Adata_classes:Could not load AData\n"
       ]
      },
      {
       "output_type": "stream",
       "stream": "stderr",
       "text": [
        "WARNING:sarpy.io.Adata_classes:Need precisely one parameter file *json, found: []\n"
       ]
      },
      {
       "output_type": "stream",
       "stream": "stderr",
       "text": [
        "WARNING:sarpy.io.Adata_classes:Could not load AData\n"
       ]
      },
      {
       "output_type": "stream",
       "stream": "stderr",
       "text": [
        "WARNING:sarpy.io.Adata_classes:Need precisely one parameter file *json, found: []\n"
       ]
      },
      {
       "output_type": "stream",
       "stream": "stderr",
       "text": [
        "WARNING:sarpy.io.Adata_classes:Could not load AData\n"
       ]
      },
      {
       "output_type": "stream",
       "stream": "stderr",
       "text": [
        "WARNING:sarpy.io.Adata_classes:Need precisely one parameter file *json, found: []\n"
       ]
      },
      {
       "output_type": "stream",
       "stream": "stderr",
       "text": [
        "WARNING:sarpy.io.Adata_classes:Could not load AData\n"
       ]
      },
      {
       "output_type": "stream",
       "stream": "stderr",
       "text": [
        "WARNING:sarpy.io.Adata_classes:Need precisely one parameter file *json, found: []\n"
       ]
      },
      {
       "output_type": "stream",
       "stream": "stderr",
       "text": [
        "WARNING:sarpy.io.Adata_classes:Could not load AData\n"
       ]
      },
      {
       "output_type": "stream",
       "stream": "stderr",
       "text": [
        "WARNING:sarpy.io.Adata_classes:Need precisely one parameter file *json, found: []\n"
       ]
      },
      {
       "output_type": "stream",
       "stream": "stderr",
       "text": [
        "WARNING:sarpy.io.Adata_classes:Could not load AData\n"
       ]
      },
      {
       "output_type": "stream",
       "stream": "stderr",
       "text": [
        "WARNING:sarpy.io.Adata_classes:Need precisely one parameter file *json, found: []\n"
       ]
      },
      {
       "output_type": "stream",
       "stream": "stderr",
       "text": [
        "WARNING:sarpy.io.Adata_classes:Could not load AData\n"
       ]
      },
      {
       "output_type": "stream",
       "stream": "stderr",
       "text": [
        "WARNING:sarpy.io.Adata_classes:Need precisely one parameter file *json, found: []\n"
       ]
      },
      {
       "output_type": "stream",
       "stream": "stderr",
       "text": [
        "WARNING:sarpy.io.Adata_classes:Could not load AData\n"
       ]
      },
      {
       "output_type": "stream",
       "stream": "stderr",
       "text": [
        "WARNING:sarpy.io.Adata_classes:Need precisely one parameter file *json, found: []\n"
       ]
      },
      {
       "output_type": "stream",
       "stream": "stderr",
       "text": [
        "WARNING:sarpy.io.Adata_classes:Could not load AData\n"
       ]
      },
      {
       "output_type": "stream",
       "stream": "stderr",
       "text": [
        "WARNING:sarpy.io.Adata_classes:Need precisely one parameter file *json, found: []\n"
       ]
      },
      {
       "output_type": "stream",
       "stream": "stderr",
       "text": [
        "WARNING:sarpy.io.Adata_classes:Could not load AData\n"
       ]
      },
      {
       "output_type": "stream",
       "stream": "stderr",
       "text": [
        "WARNING:sarpy.io.Adata_classes:Need precisely one parameter file *json, found: []\n"
       ]
      },
      {
       "output_type": "stream",
       "stream": "stderr",
       "text": [
        "WARNING:sarpy.io.Adata_classes:Could not load AData\n"
       ]
      },
      {
       "output_type": "stream",
       "stream": "stderr",
       "text": [
        "WARNING:sarpy.io.Adata_classes:Need precisely one parameter file *json, found: []\n"
       ]
      },
      {
       "output_type": "stream",
       "stream": "stderr",
       "text": [
        "WARNING:sarpy.io.Adata_classes:Could not load AData\n"
       ]
      },
      {
       "output_type": "stream",
       "stream": "stderr",
       "text": [
        "WARNING:sarpy.io.Adata_classes:Need precisely one parameter file *json, found: []\n"
       ]
      },
      {
       "output_type": "stream",
       "stream": "stderr",
       "text": [
        "WARNING:sarpy.io.Adata_classes:Could not load AData\n"
       ]
      },
      {
       "output_type": "stream",
       "stream": "stderr",
       "text": [
        "WARNING:sarpy.io.Adata_classes:Need precisely one parameter file *json, found: []\n"
       ]
      },
      {
       "output_type": "stream",
       "stream": "stderr",
       "text": [
        "WARNING:sarpy.io.Adata_classes:Could not load AData\n"
       ]
      },
      {
       "output_type": "stream",
       "stream": "stderr",
       "text": [
        "WARNING:sarpy.io.Adata_classes:Need precisely one parameter file *json, found: []\n"
       ]
      },
      {
       "output_type": "stream",
       "stream": "stderr",
       "text": [
        "WARNING:sarpy.io.Adata_classes:Could not load AData\n"
       ]
      },
      {
       "output_type": "stream",
       "stream": "stderr",
       "text": [
        "WARNING:sarpy.io.Adata_classes:Need precisely one parameter file *json, found: []\n"
       ]
      },
      {
       "output_type": "stream",
       "stream": "stderr",
       "text": [
        "WARNING:sarpy.io.Adata_classes:Could not load AData\n"
       ]
      },
      {
       "output_type": "stream",
       "stream": "stderr",
       "text": [
        "WARNING:sarpy.io.Adata_classes:Need precisely one parameter file *json, found: []\n"
       ]
      },
      {
       "output_type": "stream",
       "stream": "stderr",
       "text": [
        "WARNING:sarpy.io.Adata_classes:Could not load AData\n"
       ]
      },
      {
       "output_type": "stream",
       "stream": "stderr",
       "text": [
        "WARNING:sarpy.io.Adata_classes:Need precisely one parameter file *json, found: []\n"
       ]
      },
      {
       "output_type": "stream",
       "stream": "stderr",
       "text": [
        "WARNING:sarpy.io.Adata_classes:Could not load AData\n"
       ]
      },
      {
       "output_type": "stream",
       "stream": "stderr",
       "text": [
        "WARNING:sarpy.io.Adata_classes:Need precisely one parameter file *json, found: []\n"
       ]
      },
      {
       "output_type": "stream",
       "stream": "stderr",
       "text": [
        "WARNING:sarpy.io.Adata_classes:Could not load AData\n"
       ]
      },
      {
       "output_type": "stream",
       "stream": "stderr",
       "text": [
        "WARNING:sarpy.io.Adata_classes:Need precisely one parameter file *json, found: []\n"
       ]
      },
      {
       "output_type": "stream",
       "stream": "stderr",
       "text": [
        "WARNING:sarpy.io.Adata_classes:Could not load AData\n"
       ]
      },
      {
       "output_type": "stream",
       "stream": "stderr",
       "text": [
        "WARNING:sarpy.io.Adata_classes:Need precisely one parameter file *json, found: []\n"
       ]
      },
      {
       "output_type": "stream",
       "stream": "stderr",
       "text": [
        "WARNING:sarpy.io.Adata_classes:Could not load AData\n"
       ]
      },
      {
       "output_type": "stream",
       "stream": "stderr",
       "text": [
        "WARNING:sarpy.io.Adata_classes:Need precisely one parameter file *json, found: []\n"
       ]
      },
      {
       "output_type": "stream",
       "stream": "stderr",
       "text": [
        "WARNING:sarpy.io.Adata_classes:Could not load AData\n"
       ]
      },
      {
       "output_type": "stream",
       "stream": "stderr",
       "text": [
        "WARNING:sarpy.io.Adata_classes:Need precisely one parameter file *json, found: []\n"
       ]
      },
      {
       "output_type": "stream",
       "stream": "stderr",
       "text": [
        "WARNING:sarpy.io.Adata_classes:Could not load AData\n"
       ]
      },
      {
       "output_type": "stream",
       "stream": "stderr",
       "text": [
        "WARNING:sarpy.io.Adata_classes:Need precisely one parameter file *json, found: []\n"
       ]
      },
      {
       "output_type": "stream",
       "stream": "stderr",
       "text": [
        "WARNING:sarpy.io.Adata_classes:Could not load AData\n"
       ]
      },
      {
       "output_type": "stream",
       "stream": "stderr",
       "text": [
        "WARNING:sarpy.io.Adata_classes:Need precisely one parameter file *json, found: []\n"
       ]
      },
      {
       "output_type": "stream",
       "stream": "stderr",
       "text": [
        "WARNING:sarpy.io.Adata_classes:Could not load AData\n"
       ]
      },
      {
       "output_type": "stream",
       "stream": "stderr",
       "text": [
        "WARNING:sarpy.io.Adata_classes:Need precisely one parameter file *json, found: []\n"
       ]
      },
      {
       "output_type": "stream",
       "stream": "stderr",
       "text": [
        "WARNING:sarpy.io.Adata_classes:Could not load AData\n"
       ]
      },
      {
       "output_type": "stream",
       "stream": "stderr",
       "text": [
        "WARNING:sarpy.io.Adata_classes:Need precisely one parameter file *json, found: []\n"
       ]
      },
      {
       "output_type": "stream",
       "stream": "stderr",
       "text": [
        "WARNING:sarpy.io.Adata_classes:Could not load AData\n"
       ]
      },
      {
       "output_type": "stream",
       "stream": "stderr",
       "text": [
        "WARNING:sarpy.io.Adata_classes:Need precisely one parameter file *json, found: []\n"
       ]
      },
      {
       "output_type": "stream",
       "stream": "stderr",
       "text": [
        "WARNING:sarpy.io.Adata_classes:Could not load AData\n"
       ]
      },
      {
       "output_type": "stream",
       "stream": "stderr",
       "text": [
        "WARNING:sarpy.io.Adata_classes:Need precisely one parameter file *json, found: []\n"
       ]
      },
      {
       "output_type": "stream",
       "stream": "stderr",
       "text": [
        "WARNING:sarpy.io.Adata_classes:Could not load AData\n"
       ]
      },
      {
       "output_type": "stream",
       "stream": "stderr",
       "text": [
        "WARNING:sarpy.io.Adata_classes:Need precisely one parameter file *json, found: []\n"
       ]
      },
      {
       "output_type": "stream",
       "stream": "stderr",
       "text": [
        "WARNING:sarpy.io.Adata_classes:Could not load AData\n"
       ]
      },
      {
       "output_type": "stream",
       "stream": "stderr",
       "text": [
        "WARNING:sarpy.io.Adata_classes:Need precisely one parameter file *json, found: []\n"
       ]
      },
      {
       "output_type": "stream",
       "stream": "stderr",
       "text": [
        "WARNING:sarpy.io.Adata_classes:Could not load AData\n"
       ]
      },
      {
       "output_type": "stream",
       "stream": "stderr",
       "text": [
        "WARNING:sarpy.io.Adata_classes:Need precisely one parameter file *json, found: []\n"
       ]
      },
      {
       "output_type": "stream",
       "stream": "stderr",
       "text": [
        "WARNING:sarpy.io.Adata_classes:Could not load AData\n"
       ]
      },
      {
       "output_type": "stream",
       "stream": "stderr",
       "text": [
        "WARNING:sarpy.io.Adata_classes:Need precisely one parameter file *json, found: []\n"
       ]
      },
      {
       "output_type": "stream",
       "stream": "stderr",
       "text": [
        "WARNING:sarpy.io.Adata_classes:Could not load AData\n"
       ]
      },
      {
       "output_type": "stream",
       "stream": "stderr",
       "text": [
        "WARNING:sarpy.io.Adata_classes:Need precisely one parameter file *json, found: []\n"
       ]
      },
      {
       "output_type": "stream",
       "stream": "stderr",
       "text": [
        "WARNING:sarpy.io.Adata_classes:Could not load AData\n"
       ]
      },
      {
       "output_type": "stream",
       "stream": "stderr",
       "text": [
        "WARNING:sarpy.io.Adata_classes:Need precisely one parameter file *json, found: []\n"
       ]
      },
      {
       "output_type": "stream",
       "stream": "stderr",
       "text": [
        "WARNING:sarpy.io.Adata_classes:Could not load AData\n"
       ]
      },
      {
       "output_type": "stream",
       "stream": "stderr",
       "text": [
        "WARNING:sarpy.io.Adata_classes:Need precisely one parameter file *json, found: []\n"
       ]
      },
      {
       "output_type": "stream",
       "stream": "stderr",
       "text": [
        "WARNING:sarpy.io.Adata_classes:Could not load AData\n"
       ]
      },
      {
       "output_type": "stream",
       "stream": "stderr",
       "text": [
        "WARNING:sarpy.io.Adata_classes:Need precisely one parameter file *json, found: []\n"
       ]
      },
      {
       "output_type": "stream",
       "stream": "stderr",
       "text": [
        "WARNING:sarpy.io.Adata_classes:Could not load AData\n"
       ]
      },
      {
       "output_type": "stream",
       "stream": "stderr",
       "text": [
        "WARNING:sarpy.io.Adata_classes:Need precisely one parameter file *json, found: []\n"
       ]
      },
      {
       "output_type": "stream",
       "stream": "stderr",
       "text": [
        "WARNING:sarpy.io.Adata_classes:Could not load AData\n"
       ]
      },
      {
       "output_type": "stream",
       "stream": "stderr",
       "text": [
        "WARNING:sarpy.io.Adata_classes:Need precisely one parameter file *json, found: []\n"
       ]
      },
      {
       "output_type": "stream",
       "stream": "stderr",
       "text": [
        "WARNING:sarpy.io.Adata_classes:Could not load AData\n"
       ]
      },
      {
       "output_type": "stream",
       "stream": "stderr",
       "text": [
        "WARNING:sarpy.io.Adata_classes:Need precisely one parameter file *json, found: []\n"
       ]
      },
      {
       "output_type": "stream",
       "stream": "stderr",
       "text": [
        "WARNING:sarpy.io.Adata_classes:Could not load AData\n"
       ]
      },
      {
       "output_type": "stream",
       "stream": "stderr",
       "text": [
        "WARNING:sarpy.io.Adata_classes:Need precisely one parameter file *json, found: []\n"
       ]
      },
      {
       "output_type": "stream",
       "stream": "stderr",
       "text": [
        "WARNING:sarpy.io.Adata_classes:Could not load AData\n"
       ]
      },
      {
       "output_type": "stream",
       "stream": "stderr",
       "text": [
        "WARNING:sarpy.io.Adata_classes:Need precisely one parameter file *json, found: []\n"
       ]
      },
      {
       "output_type": "stream",
       "stream": "stderr",
       "text": [
        "WARNING:sarpy.io.Adata_classes:Could not load AData\n"
       ]
      },
      {
       "output_type": "stream",
       "stream": "stderr",
       "text": [
        "WARNING:sarpy.io.Adata_classes:Need precisely one parameter file *json, found: []\n"
       ]
      },
      {
       "output_type": "stream",
       "stream": "stderr",
       "text": [
        "WARNING:sarpy.io.Adata_classes:Could not load AData\n"
       ]
      },
      {
       "output_type": "stream",
       "stream": "stderr",
       "text": [
        "WARNING:sarpy.io.Adata_classes:Need precisely one parameter file *json, found: []\n"
       ]
      },
      {
       "output_type": "stream",
       "stream": "stderr",
       "text": [
        "WARNING:sarpy.io.Adata_classes:Could not load AData\n"
       ]
      },
      {
       "output_type": "stream",
       "stream": "stderr",
       "text": [
        "WARNING:sarpy.io.Adata_classes:Need precisely one parameter file *json, found: []\n"
       ]
      },
      {
       "output_type": "stream",
       "stream": "stderr",
       "text": [
        "WARNING:sarpy.io.Adata_classes:Could not load AData\n"
       ]
      },
      {
       "output_type": "stream",
       "stream": "stderr",
       "text": [
        "WARNING:sarpy.io.Adata_classes:Need precisely one parameter file *json, found: []\n"
       ]
      },
      {
       "output_type": "stream",
       "stream": "stderr",
       "text": [
        "WARNING:sarpy.io.Adata_classes:Could not load AData\n"
       ]
      },
      {
       "output_type": "stream",
       "stream": "stderr",
       "text": [
        "WARNING:sarpy.io.Adata_classes:Need precisely one parameter file *json, found: []\n"
       ]
      },
      {
       "output_type": "stream",
       "stream": "stderr",
       "text": [
        "WARNING:sarpy.io.Adata_classes:Could not load AData\n"
       ]
      },
      {
       "output_type": "stream",
       "stream": "stderr",
       "text": [
        "WARNING:sarpy.io.Adata_classes:Need precisely one parameter file *json, found: []\n"
       ]
      },
      {
       "output_type": "stream",
       "stream": "stderr",
       "text": [
        "WARNING:sarpy.io.Adata_classes:Could not load AData\n"
       ]
      },
      {
       "output_type": "stream",
       "stream": "stderr",
       "text": [
        "WARNING:sarpy.io.Adata_classes:Need precisely one parameter file *json, found: []\n"
       ]
      },
      {
       "output_type": "stream",
       "stream": "stderr",
       "text": [
        "WARNING:sarpy.io.Adata_classes:Could not load AData\n"
       ]
      },
      {
       "output_type": "stream",
       "stream": "stderr",
       "text": [
        "WARNING:sarpy.io.Adata_classes:Need precisely one parameter file *json, found: []\n"
       ]
      },
      {
       "output_type": "stream",
       "stream": "stderr",
       "text": [
        "WARNING:sarpy.io.Adata_classes:Could not load AData\n"
       ]
      },
      {
       "output_type": "stream",
       "stream": "stderr",
       "text": [
        "WARNING:sarpy.io.Adata_classes:Need precisely one parameter file *json, found: []\n"
       ]
      },
      {
       "output_type": "stream",
       "stream": "stderr",
       "text": [
        "WARNING:sarpy.io.Adata_classes:Could not load AData\n"
       ]
      },
      {
       "output_type": "stream",
       "stream": "stderr",
       "text": [
        "WARNING:sarpy.io.Adata_classes:Need precisely one parameter file *json, found: []\n"
       ]
      },
      {
       "output_type": "stream",
       "stream": "stderr",
       "text": [
        "WARNING:sarpy.io.Adata_classes:Could not load AData\n"
       ]
      },
      {
       "output_type": "stream",
       "stream": "stderr",
       "text": [
        "WARNING:sarpy.io.Adata_classes:Need precisely one parameter file *json, found: []\n"
       ]
      },
      {
       "output_type": "stream",
       "stream": "stderr",
       "text": [
        "WARNING:sarpy.io.Adata_classes:Could not load AData\n"
       ]
      },
      {
       "output_type": "stream",
       "stream": "stderr",
       "text": [
        "WARNING:sarpy.io.Adata_classes:Need precisely one parameter file *json, found: []\n"
       ]
      },
      {
       "output_type": "stream",
       "stream": "stderr",
       "text": [
        "WARNING:sarpy.io.Adata_classes:Could not load AData\n"
       ]
      },
      {
       "output_type": "stream",
       "stream": "stderr",
       "text": [
        "WARNING:sarpy.io.Adata_classes:Need precisely one parameter file *json, found: []\n"
       ]
      },
      {
       "output_type": "stream",
       "stream": "stderr",
       "text": [
        "WARNING:sarpy.io.Adata_classes:Could not load AData\n"
       ]
      },
      {
       "output_type": "stream",
       "stream": "stderr",
       "text": [
        "WARNING:sarpy.io.Adata_classes:Need precisely one parameter file *json, found: []\n"
       ]
      },
      {
       "output_type": "stream",
       "stream": "stderr",
       "text": [
        "WARNING:sarpy.io.Adata_classes:Could not load AData\n"
       ]
      },
      {
       "output_type": "stream",
       "stream": "stderr",
       "text": [
        "WARNING:sarpy.io.Adata_classes:Need precisely one parameter file *json, found: []\n"
       ]
      },
      {
       "output_type": "stream",
       "stream": "stderr",
       "text": [
        "WARNING:sarpy.io.Adata_classes:Could not load AData\n"
       ]
      },
      {
       "output_type": "stream",
       "stream": "stderr",
       "text": [
        "WARNING:sarpy.io.Adata_classes:Need precisely one parameter file *json, found: []\n"
       ]
      },
      {
       "output_type": "stream",
       "stream": "stderr",
       "text": [
        "WARNING:sarpy.io.Adata_classes:Could not load AData\n"
       ]
      },
      {
       "output_type": "stream",
       "stream": "stderr",
       "text": [
        "WARNING:sarpy.io.Adata_classes:Need precisely one parameter file *json, found: []\n"
       ]
      },
      {
       "output_type": "stream",
       "stream": "stderr",
       "text": [
        "WARNING:sarpy.io.Adata_classes:Could not load AData\n"
       ]
      },
      {
       "output_type": "stream",
       "stream": "stderr",
       "text": [
        "WARNING:sarpy.io.Adata_classes:Need precisely one parameter file *json, found: []\n"
       ]
      },
      {
       "output_type": "stream",
       "stream": "stderr",
       "text": [
        "WARNING:sarpy.io.Adata_classes:Could not load AData\n"
       ]
      },
      {
       "output_type": "stream",
       "stream": "stderr",
       "text": [
        "WARNING:sarpy.io.Adata_classes:Need precisely one parameter file *json, found: []\n"
       ]
      },
      {
       "output_type": "stream",
       "stream": "stderr",
       "text": [
        "WARNING:sarpy.io.Adata_classes:Could not load AData\n"
       ]
      },
      {
       "output_type": "stream",
       "stream": "stderr",
       "text": [
        "WARNING:sarpy.io.Adata_classes:Need precisely one parameter file *json, found: []\n"
       ]
      },
      {
       "output_type": "stream",
       "stream": "stderr",
       "text": [
        "WARNING:sarpy.io.Adata_classes:Could not load AData\n"
       ]
      },
      {
       "output_type": "stream",
       "stream": "stderr",
       "text": [
        "WARNING:sarpy.io.Adata_classes:Need precisely one parameter file *json, found: []\n"
       ]
      },
      {
       "output_type": "stream",
       "stream": "stderr",
       "text": [
        "WARNING:sarpy.io.Adata_classes:Could not load AData\n"
       ]
      },
      {
       "output_type": "stream",
       "stream": "stderr",
       "text": [
        "WARNING:sarpy.io.Adata_classes:Need precisely one parameter file *json, found: []\n"
       ]
      },
      {
       "output_type": "stream",
       "stream": "stderr",
       "text": [
        "WARNING:sarpy.io.Adata_classes:Could not load AData\n"
       ]
      },
      {
       "output_type": "stream",
       "stream": "stderr",
       "text": [
        "WARNING:sarpy.io.Adata_classes:Need precisely one parameter file *json, found: []\n"
       ]
      },
      {
       "output_type": "stream",
       "stream": "stderr",
       "text": [
        "WARNING:sarpy.io.Adata_classes:Could not load AData\n"
       ]
      },
      {
       "output_type": "stream",
       "stream": "stderr",
       "text": [
        "WARNING:sarpy.io.Adata_classes:Need precisely one parameter file *json, found: []\n"
       ]
      },
      {
       "output_type": "stream",
       "stream": "stderr",
       "text": [
        "WARNING:sarpy.io.Adata_classes:Could not load AData\n"
       ]
      },
      {
       "output_type": "stream",
       "stream": "stderr",
       "text": [
        "WARNING:sarpy.io.Adata_classes:Need precisely one parameter file *json, found: []\n"
       ]
      },
      {
       "output_type": "stream",
       "stream": "stderr",
       "text": [
        "WARNING:sarpy.io.Adata_classes:Could not load AData\n"
       ]
      },
      {
       "output_type": "stream",
       "stream": "stderr",
       "text": [
        "WARNING:sarpy.io.Adata_classes:Need precisely one parameter file *json, found: []\n"
       ]
      },
      {
       "output_type": "stream",
       "stream": "stderr",
       "text": [
        "WARNING:sarpy.io.Adata_classes:Could not load AData\n"
       ]
      },
      {
       "output_type": "stream",
       "stream": "stderr",
       "text": [
        "WARNING:sarpy.io.Adata_classes:Need precisely one parameter file *json, found: []\n"
       ]
      },
      {
       "output_type": "stream",
       "stream": "stderr",
       "text": [
        "WARNING:sarpy.io.Adata_classes:Could not load AData\n"
       ]
      },
      {
       "output_type": "stream",
       "stream": "stderr",
       "text": [
        "WARNING:sarpy.io.Adata_classes:Need precisely one parameter file *json, found: []\n"
       ]
      },
      {
       "output_type": "stream",
       "stream": "stderr",
       "text": [
        "WARNING:sarpy.io.Adata_classes:Could not load AData\n"
       ]
      },
      {
       "output_type": "stream",
       "stream": "stderr",
       "text": [
        "WARNING:sarpy.io.Adata_classes:Need precisely one parameter file *json, found: []\n"
       ]
      },
      {
       "output_type": "stream",
       "stream": "stderr",
       "text": [
        "WARNING:sarpy.io.Adata_classes:Could not load AData\n"
       ]
      },
      {
       "output_type": "stream",
       "stream": "stderr",
       "text": [
        "WARNING:sarpy.io.Adata_classes:Need precisely one parameter file *json, found: []\n"
       ]
      },
      {
       "output_type": "stream",
       "stream": "stderr",
       "text": [
        "WARNING:sarpy.io.Adata_classes:Could not load AData\n"
       ]
      },
      {
       "output_type": "stream",
       "stream": "stderr",
       "text": [
        "WARNING:sarpy.io.Adata_classes:Need precisely one parameter file *json, found: []\n"
       ]
      },
      {
       "output_type": "stream",
       "stream": "stderr",
       "text": [
        "WARNING:sarpy.io.Adata_classes:Could not load AData\n"
       ]
      },
      {
       "output_type": "stream",
       "stream": "stderr",
       "text": [
        "WARNING:sarpy.io.Adata_classes:Need precisely one parameter file *json, found: []\n"
       ]
      },
      {
       "output_type": "stream",
       "stream": "stderr",
       "text": [
        "WARNING:sarpy.io.Adata_classes:Could not load AData\n"
       ]
      },
      {
       "output_type": "stream",
       "stream": "stderr",
       "text": [
        "WARNING:sarpy.io.Adata_classes:Need precisely one parameter file *json, found: []\n"
       ]
      },
      {
       "output_type": "stream",
       "stream": "stderr",
       "text": [
        "WARNING:sarpy.io.Adata_classes:Could not load AData\n"
       ]
      },
      {
       "output_type": "stream",
       "stream": "stderr",
       "text": [
        "WARNING:sarpy.io.Adata_classes:Need precisely one parameter file *json, found: []\n"
       ]
      },
      {
       "output_type": "stream",
       "stream": "stderr",
       "text": [
        "WARNING:sarpy.io.Adata_classes:Could not load AData\n"
       ]
      },
      {
       "output_type": "stream",
       "stream": "stderr",
       "text": [
        "WARNING:sarpy.io.Adata_classes:Need precisely one parameter file *json, found: []\n"
       ]
      },
      {
       "output_type": "stream",
       "stream": "stderr",
       "text": [
        "WARNING:sarpy.io.Adata_classes:Could not load AData\n"
       ]
      },
      {
       "output_type": "stream",
       "stream": "stderr",
       "text": [
        "WARNING:sarpy.io.Adata_classes:Need precisely one parameter file *json, found: []\n"
       ]
      },
      {
       "output_type": "stream",
       "stream": "stderr",
       "text": [
        "WARNING:sarpy.io.Adata_classes:Could not load AData\n"
       ]
      },
      {
       "output_type": "stream",
       "stream": "stderr",
       "text": [
        "WARNING:sarpy.io.Adata_classes:Need precisely one parameter file *json, found: []\n"
       ]
      },
      {
       "output_type": "stream",
       "stream": "stderr",
       "text": [
        "WARNING:sarpy.io.Adata_classes:Could not load AData\n"
       ]
      },
      {
       "output_type": "stream",
       "stream": "stderr",
       "text": [
        "WARNING:sarpy.io.Adata_classes:Need precisely one parameter file *json, found: []\n"
       ]
      },
      {
       "output_type": "stream",
       "stream": "stderr",
       "text": [
        "WARNING:sarpy.io.Adata_classes:Could not load AData\n"
       ]
      },
      {
       "output_type": "stream",
       "stream": "stderr",
       "text": [
        "WARNING:sarpy.io.Adata_classes:Need precisely one parameter file *json, found: []\n"
       ]
      },
      {
       "output_type": "stream",
       "stream": "stderr",
       "text": [
        "WARNING:sarpy.io.Adata_classes:Could not load AData\n"
       ]
      },
      {
       "output_type": "stream",
       "stream": "stderr",
       "text": [
        "WARNING:sarpy.io.Adata_classes:Need precisely one parameter file *json, found: []\n"
       ]
      },
      {
       "output_type": "stream",
       "stream": "stderr",
       "text": [
        "WARNING:sarpy.io.Adata_classes:Could not load AData\n"
       ]
      },
      {
       "output_type": "stream",
       "stream": "stderr",
       "text": [
        "WARNING:sarpy.io.Adata_classes:Need precisely one parameter file *json, found: []\n"
       ]
      },
      {
       "output_type": "stream",
       "stream": "stderr",
       "text": [
        "WARNING:sarpy.io.Adata_classes:Could not load AData\n"
       ]
      },
      {
       "output_type": "stream",
       "stream": "stderr",
       "text": [
        "WARNING:sarpy.io.Adata_classes:Need precisely one parameter file *json, found: []\n"
       ]
      },
      {
       "output_type": "stream",
       "stream": "stderr",
       "text": [
        "WARNING:sarpy.io.Adata_classes:Could not load AData\n"
       ]
      },
      {
       "output_type": "stream",
       "stream": "stderr",
       "text": [
        "WARNING:sarpy.io.Adata_classes:Need precisely one parameter file *json, found: []\n"
       ]
      },
      {
       "output_type": "stream",
       "stream": "stderr",
       "text": [
        "WARNING:sarpy.io.Adata_classes:Could not load AData\n"
       ]
      },
      {
       "output_type": "stream",
       "stream": "stderr",
       "text": [
        "WARNING:sarpy.io.Adata_classes:Need precisely one parameter file *json, found: []\n"
       ]
      },
      {
       "output_type": "stream",
       "stream": "stderr",
       "text": [
        "WARNING:sarpy.io.Adata_classes:Could not load AData\n"
       ]
      },
      {
       "output_type": "stream",
       "stream": "stderr",
       "text": [
        "WARNING:sarpy.io.Adata_classes:Need precisely one parameter file *json, found: []\n"
       ]
      },
      {
       "output_type": "stream",
       "stream": "stderr",
       "text": [
        "WARNING:sarpy.io.Adata_classes:Could not load AData\n"
       ]
      },
      {
       "output_type": "stream",
       "stream": "stderr",
       "text": [
        "WARNING:sarpy.io.Adata_classes:Need precisely one parameter file *json, found: []\n"
       ]
      },
      {
       "output_type": "stream",
       "stream": "stderr",
       "text": [
        "WARNING:sarpy.io.Adata_classes:Could not load AData\n"
       ]
      },
      {
       "output_type": "stream",
       "stream": "stderr",
       "text": [
        "WARNING:sarpy.io.Adata_classes:Need precisely one parameter file *json, found: []\n"
       ]
      },
      {
       "output_type": "stream",
       "stream": "stderr",
       "text": [
        "WARNING:sarpy.io.Adata_classes:Could not load AData\n"
       ]
      },
      {
       "output_type": "stream",
       "stream": "stderr",
       "text": [
        "WARNING:sarpy.io.Adata_classes:Need precisely one parameter file *json, found: []\n"
       ]
      },
      {
       "output_type": "stream",
       "stream": "stderr",
       "text": [
        "WARNING:sarpy.io.Adata_classes:Could not load AData\n"
       ]
      },
      {
       "output_type": "stream",
       "stream": "stderr",
       "text": [
        "WARNING:sarpy.io.Adata_classes:Need precisely one parameter file *json, found: []\n"
       ]
      },
      {
       "output_type": "stream",
       "stream": "stderr",
       "text": [
        "WARNING:sarpy.io.Adata_classes:Could not load AData\n"
       ]
      },
      {
       "output_type": "stream",
       "stream": "stderr",
       "text": [
        "WARNING:sarpy.io.Adata_classes:Need precisely one parameter file *json, found: []\n"
       ]
      },
      {
       "output_type": "stream",
       "stream": "stderr",
       "text": [
        "WARNING:sarpy.io.Adata_classes:Could not load AData\n"
       ]
      },
      {
       "output_type": "stream",
       "stream": "stderr",
       "text": [
        "WARNING:sarpy.io.Adata_classes:Need precisely one parameter file *json, found: []\n"
       ]
      },
      {
       "output_type": "stream",
       "stream": "stderr",
       "text": [
        "WARNING:sarpy.io.Adata_classes:Could not load AData\n"
       ]
      },
      {
       "output_type": "stream",
       "stream": "stderr",
       "text": [
        "WARNING:sarpy.io.Adata_classes:Need precisely one parameter file *json, found: []\n"
       ]
      },
      {
       "output_type": "stream",
       "stream": "stderr",
       "text": [
        "WARNING:sarpy.io.Adata_classes:Could not load AData\n"
       ]
      },
      {
       "output_type": "stream",
       "stream": "stderr",
       "text": [
        "WARNING:sarpy.io.Adata_classes:Need precisely one parameter file *json, found: []\n"
       ]
      },
      {
       "output_type": "stream",
       "stream": "stderr",
       "text": [
        "WARNING:sarpy.io.Adata_classes:Could not load AData\n"
       ]
      },
      {
       "output_type": "stream",
       "stream": "stderr",
       "text": [
        "WARNING:sarpy.io.Adata_classes:Need precisely one parameter file *json, found: []\n"
       ]
      },
      {
       "output_type": "stream",
       "stream": "stderr",
       "text": [
        "WARNING:sarpy.io.Adata_classes:Could not load AData\n"
       ]
      },
      {
       "output_type": "stream",
       "stream": "stderr",
       "text": [
        "WARNING:sarpy.io.Adata_classes:Need precisely one parameter file *json, found: []\n"
       ]
      },
      {
       "output_type": "stream",
       "stream": "stderr",
       "text": [
        "WARNING:sarpy.io.Adata_classes:Could not load AData\n"
       ]
      },
      {
       "output_type": "stream",
       "stream": "stderr",
       "text": [
        "WARNING:sarpy.io.Adata_classes:Need precisely one parameter file *json, found: []\n"
       ]
      },
      {
       "output_type": "stream",
       "stream": "stderr",
       "text": [
        "WARNING:sarpy.io.Adata_classes:Could not load AData\n"
       ]
      },
      {
       "output_type": "stream",
       "stream": "stderr",
       "text": [
        "WARNING:sarpy.io.Adata_classes:Need precisely one parameter file *json, found: []\n"
       ]
      },
      {
       "output_type": "stream",
       "stream": "stderr",
       "text": [
        "WARNING:sarpy.io.Adata_classes:Could not load AData\n"
       ]
      },
      {
       "output_type": "stream",
       "stream": "stderr",
       "text": [
        "WARNING:sarpy.io.Adata_classes:Need precisely one parameter file *json, found: []\n"
       ]
      },
      {
       "output_type": "stream",
       "stream": "stderr",
       "text": [
        "WARNING:sarpy.io.Adata_classes:Could not load AData\n"
       ]
      },
      {
       "output_type": "stream",
       "stream": "stderr",
       "text": [
        "WARNING:sarpy.io.Adata_classes:Need precisely one parameter file *json, found: []\n"
       ]
      },
      {
       "output_type": "stream",
       "stream": "stderr",
       "text": [
        "WARNING:sarpy.io.Adata_classes:Could not load AData\n"
       ]
      },
      {
       "output_type": "stream",
       "stream": "stderr",
       "text": [
        "WARNING:sarpy.io.Adata_classes:Need precisely one parameter file *json, found: []\n"
       ]
      },
      {
       "output_type": "stream",
       "stream": "stderr",
       "text": [
        "WARNING:sarpy.io.Adata_classes:Could not load AData\n"
       ]
      },
      {
       "output_type": "stream",
       "stream": "stderr",
       "text": [
        "WARNING:sarpy.io.Adata_classes:Need precisely one parameter file *json, found: []\n"
       ]
      },
      {
       "output_type": "stream",
       "stream": "stderr",
       "text": [
        "WARNING:sarpy.io.Adata_classes:Could not load AData\n"
       ]
      },
      {
       "output_type": "stream",
       "stream": "stderr",
       "text": [
        "WARNING:sarpy.io.Adata_classes:Need precisely one parameter file *json, found: []\n"
       ]
      },
      {
       "output_type": "stream",
       "stream": "stderr",
       "text": [
        "WARNING:sarpy.io.Adata_classes:Could not load AData\n"
       ]
      },
      {
       "output_type": "stream",
       "stream": "stderr",
       "text": [
        "WARNING:sarpy.io.Adata_classes:Need precisely one parameter file *json, found: []\n"
       ]
      },
      {
       "output_type": "stream",
       "stream": "stderr",
       "text": [
        "WARNING:sarpy.io.Adata_classes:Could not load AData\n"
       ]
      },
      {
       "output_type": "stream",
       "stream": "stderr",
       "text": [
        "WARNING:sarpy.io.Adata_classes:Need precisely one parameter file *json, found: []\n"
       ]
      },
      {
       "output_type": "stream",
       "stream": "stderr",
       "text": [
        "WARNING:sarpy.io.Adata_classes:Could not load AData\n"
       ]
      },
      {
       "output_type": "stream",
       "stream": "stderr",
       "text": [
        "WARNING:sarpy.io.Adata_classes:Need precisely one parameter file *json, found: []\n"
       ]
      },
      {
       "output_type": "stream",
       "stream": "stderr",
       "text": [
        "WARNING:sarpy.io.Adata_classes:Could not load AData\n"
       ]
      },
      {
       "output_type": "stream",
       "stream": "stderr",
       "text": [
        "WARNING:sarpy.io.Adata_classes:Need precisely one parameter file *json, found: []\n"
       ]
      },
      {
       "output_type": "stream",
       "stream": "stderr",
       "text": [
        "WARNING:sarpy.io.Adata_classes:Could not load AData\n"
       ]
      },
      {
       "output_type": "stream",
       "stream": "stderr",
       "text": [
        "WARNING:sarpy.io.Adata_classes:Need precisely one parameter file *json, found: []\n"
       ]
      },
      {
       "output_type": "stream",
       "stream": "stderr",
       "text": [
        "WARNING:sarpy.io.Adata_classes:Could not load AData\n"
       ]
      },
      {
       "output_type": "stream",
       "stream": "stderr",
       "text": [
        "WARNING:sarpy.io.Adata_classes:Need precisely one parameter file *json, found: []\n"
       ]
      },
      {
       "output_type": "stream",
       "stream": "stderr",
       "text": [
        "WARNING:sarpy.io.Adata_classes:Could not load AData\n"
       ]
      },
      {
       "output_type": "stream",
       "stream": "stderr",
       "text": [
        "WARNING:sarpy.io.Adata_classes:Need precisely one parameter file *json, found: []\n"
       ]
      },
      {
       "output_type": "stream",
       "stream": "stderr",
       "text": [
        "WARNING:sarpy.io.Adata_classes:Could not load AData\n"
       ]
      },
      {
       "output_type": "stream",
       "stream": "stderr",
       "text": [
        "WARNING:sarpy.io.Adata_classes:Need precisely one parameter file *json, found: []\n"
       ]
      },
      {
       "output_type": "stream",
       "stream": "stderr",
       "text": [
        "WARNING:sarpy.io.Adata_classes:Could not load AData\n"
       ]
      },
      {
       "output_type": "stream",
       "stream": "stderr",
       "text": [
        "WARNING:sarpy.io.Adata_classes:Need precisely one parameter file *json, found: []\n"
       ]
      },
      {
       "output_type": "stream",
       "stream": "stderr",
       "text": [
        "WARNING:sarpy.io.Adata_classes:Could not load AData\n"
       ]
      },
      {
       "output_type": "stream",
       "stream": "stderr",
       "text": [
        "WARNING:sarpy.io.Adata_classes:Need precisely one parameter file *json, found: []\n"
       ]
      },
      {
       "output_type": "stream",
       "stream": "stderr",
       "text": [
        "WARNING:sarpy.io.Adata_classes:Could not load AData\n"
       ]
      },
      {
       "output_type": "stream",
       "stream": "stderr",
       "text": [
        "WARNING:sarpy.io.Adata_classes:Need precisely one parameter file *json, found: []\n"
       ]
      },
      {
       "output_type": "stream",
       "stream": "stderr",
       "text": [
        "WARNING:sarpy.io.Adata_classes:Could not load AData\n"
       ]
      },
      {
       "output_type": "stream",
       "stream": "stderr",
       "text": [
        "WARNING:sarpy.io.Adata_classes:Need precisely one parameter file *json, found: []\n"
       ]
      },
      {
       "output_type": "stream",
       "stream": "stderr",
       "text": [
        "WARNING:sarpy.io.Adata_classes:Could not load AData\n"
       ]
      },
      {
       "output_type": "stream",
       "stream": "stderr",
       "text": [
        "WARNING:sarpy.io.Adata_classes:Need precisely one parameter file *json, found: []\n"
       ]
      },
      {
       "output_type": "stream",
       "stream": "stderr",
       "text": [
        "WARNING:sarpy.io.Adata_classes:Could not load AData\n"
       ]
      },
      {
       "output_type": "stream",
       "stream": "stderr",
       "text": [
        "WARNING:sarpy.io.Adata_classes:Need precisely one parameter file *json, found: []\n"
       ]
      },
      {
       "output_type": "stream",
       "stream": "stderr",
       "text": [
        "WARNING:sarpy.io.Adata_classes:Could not load AData\n"
       ]
      },
      {
       "output_type": "stream",
       "stream": "stderr",
       "text": [
        "WARNING:sarpy.io.Adata_classes:Need precisely one parameter file *json, found: []\n"
       ]
      },
      {
       "output_type": "stream",
       "stream": "stderr",
       "text": [
        "WARNING:sarpy.io.Adata_classes:Could not load AData\n"
       ]
      },
      {
       "output_type": "stream",
       "stream": "stderr",
       "text": [
        "WARNING:sarpy.io.Adata_classes:Need precisely one parameter file *json, found: []\n"
       ]
      },
      {
       "output_type": "stream",
       "stream": "stderr",
       "text": [
        "WARNING:sarpy.io.Adata_classes:Could not load AData\n"
       ]
      },
      {
       "output_type": "stream",
       "stream": "stderr",
       "text": [
        "WARNING:sarpy.io.Adata_classes:Need precisely one parameter file *json, found: []\n"
       ]
      },
      {
       "output_type": "stream",
       "stream": "stderr",
       "text": [
        "WARNING:sarpy.io.Adata_classes:Could not load AData\n"
       ]
      },
      {
       "output_type": "stream",
       "stream": "stderr",
       "text": [
        "WARNING:sarpy.io.Adata_classes:Need precisely one parameter file *json, found: []\n"
       ]
      },
      {
       "output_type": "stream",
       "stream": "stderr",
       "text": [
        "WARNING:sarpy.io.Adata_classes:Could not load AData\n"
       ]
      },
      {
       "output_type": "stream",
       "stream": "stderr",
       "text": [
        "WARNING:sarpy.io.Adata_classes:Need precisely one parameter file *json, found: []\n"
       ]
      },
      {
       "output_type": "stream",
       "stream": "stderr",
       "text": [
        "WARNING:sarpy.io.Adata_classes:Could not load AData\n"
       ]
      },
      {
       "output_type": "stream",
       "stream": "stderr",
       "text": [
        "WARNING:sarpy.io.Adata_classes:Need precisely one parameter file *json, found: []\n"
       ]
      },
      {
       "output_type": "stream",
       "stream": "stderr",
       "text": [
        "WARNING:sarpy.io.Adata_classes:Could not load AData\n"
       ]
      },
      {
       "output_type": "stream",
       "stream": "stderr",
       "text": [
        "WARNING:sarpy.io.Adata_classes:Need precisely one parameter file *json, found: []\n"
       ]
      },
      {
       "output_type": "stream",
       "stream": "stderr",
       "text": [
        "WARNING:sarpy.io.Adata_classes:Could not load AData\n"
       ]
      },
      {
       "output_type": "stream",
       "stream": "stderr",
       "text": [
        "WARNING:sarpy.io.Adata_classes:Need precisely one parameter file *json, found: []\n"
       ]
      },
      {
       "output_type": "stream",
       "stream": "stderr",
       "text": [
        "WARNING:sarpy.io.Adata_classes:Could not load AData\n"
       ]
      },
      {
       "output_type": "stream",
       "stream": "stderr",
       "text": [
        "WARNING:sarpy.io.Adata_classes:Need precisely one parameter file *json, found: []\n"
       ]
      },
      {
       "output_type": "stream",
       "stream": "stderr",
       "text": [
        "WARNING:sarpy.io.Adata_classes:Could not load AData\n"
       ]
      },
      {
       "output_type": "stream",
       "stream": "stderr",
       "text": [
        "WARNING:sarpy.io.Adata_classes:Need precisely one parameter file *json, found: []\n"
       ]
      },
      {
       "output_type": "stream",
       "stream": "stderr",
       "text": [
        "WARNING:sarpy.io.Adata_classes:Could not load AData\n"
       ]
      },
      {
       "output_type": "stream",
       "stream": "stderr",
       "text": [
        "WARNING:sarpy.io.Adata_classes:Need precisely one parameter file *json, found: []\n"
       ]
      },
      {
       "output_type": "stream",
       "stream": "stderr",
       "text": [
        "WARNING:sarpy.io.Adata_classes:Could not load AData\n"
       ]
      },
      {
       "output_type": "stream",
       "stream": "stderr",
       "text": [
        "WARNING:sarpy.io.Adata_classes:Need precisely one parameter file *json, found: []\n"
       ]
      },
      {
       "output_type": "stream",
       "stream": "stderr",
       "text": [
        "WARNING:sarpy.io.Adata_classes:Could not load AData\n"
       ]
      },
      {
       "output_type": "stream",
       "stream": "stderr",
       "text": [
        "WARNING:sarpy.io.Adata_classes:Need precisely one parameter file *json, found: []\n"
       ]
      },
      {
       "output_type": "stream",
       "stream": "stderr",
       "text": [
        "WARNING:sarpy.io.Adata_classes:Could not load AData\n"
       ]
      },
      {
       "output_type": "stream",
       "stream": "stderr",
       "text": [
        "WARNING:sarpy.io.Adata_classes:Need precisely one parameter file *json, found: []\n"
       ]
      },
      {
       "output_type": "stream",
       "stream": "stderr",
       "text": [
        "WARNING:sarpy.io.Adata_classes:Could not load AData\n"
       ]
      },
      {
       "output_type": "stream",
       "stream": "stderr",
       "text": [
        "WARNING:sarpy.io.Adata_classes:Need precisely one parameter file *json, found: []\n"
       ]
      },
      {
       "output_type": "stream",
       "stream": "stderr",
       "text": [
        "WARNING:sarpy.io.Adata_classes:Could not load AData\n"
       ]
      },
      {
       "output_type": "stream",
       "stream": "stderr",
       "text": [
        "WARNING:sarpy.io.Adata_classes:Need precisely one parameter file *json, found: []\n"
       ]
      },
      {
       "output_type": "stream",
       "stream": "stderr",
       "text": [
        "WARNING:sarpy.io.Adata_classes:Could not load AData\n"
       ]
      },
      {
       "output_type": "stream",
       "stream": "stderr",
       "text": [
        "WARNING:sarpy.io.Adata_classes:Need precisely one parameter file *json, found: []\n"
       ]
      },
      {
       "output_type": "stream",
       "stream": "stderr",
       "text": [
        "WARNING:sarpy.io.Adata_classes:Could not load AData\n"
       ]
      },
      {
       "output_type": "stream",
       "stream": "stderr",
       "text": [
        "WARNING:sarpy.io.Adata_classes:Need precisely one parameter file *json, found: []\n"
       ]
      },
      {
       "output_type": "stream",
       "stream": "stderr",
       "text": [
        "WARNING:sarpy.io.Adata_classes:Could not load AData\n"
       ]
      },
      {
       "output_type": "stream",
       "stream": "stderr",
       "text": [
        "WARNING:sarpy.io.Adata_classes:Need precisely one parameter file *json, found: []\n"
       ]
      },
      {
       "output_type": "stream",
       "stream": "stderr",
       "text": [
        "WARNING:sarpy.io.Adata_classes:Could not load AData\n"
       ]
      },
      {
       "output_type": "stream",
       "stream": "stderr",
       "text": [
        "WARNING:sarpy.io.Adata_classes:Need precisely one parameter file *json, found: []\n"
       ]
      },
      {
       "output_type": "stream",
       "stream": "stderr",
       "text": [
        "WARNING:sarpy.io.Adata_classes:Could not load AData\n"
       ]
      },
      {
       "output_type": "stream",
       "stream": "stderr",
       "text": [
        "WARNING:sarpy.io.Adata_classes:Need precisely one parameter file *json, found: []\n"
       ]
      },
      {
       "output_type": "stream",
       "stream": "stderr",
       "text": [
        "WARNING:sarpy.io.Adata_classes:Could not load AData\n"
       ]
      },
      {
       "output_type": "stream",
       "stream": "stderr",
       "text": [
        "WARNING:sarpy.io.Adata_classes:Need precisely one parameter file *json, found: []\n"
       ]
      },
      {
       "output_type": "stream",
       "stream": "stderr",
       "text": [
        "WARNING:sarpy.io.Adata_classes:Could not load AData\n"
       ]
      },
      {
       "output_type": "stream",
       "stream": "stderr",
       "text": [
        "WARNING:sarpy.io.Adata_classes:Need precisely one parameter file *json, found: []\n"
       ]
      },
      {
       "output_type": "stream",
       "stream": "stderr",
       "text": [
        "WARNING:sarpy.io.Adata_classes:Could not load AData\n"
       ]
      },
      {
       "output_type": "stream",
       "stream": "stderr",
       "text": [
        "WARNING:sarpy.io.Adata_classes:Need precisely one parameter file *json, found: []\n"
       ]
      },
      {
       "output_type": "stream",
       "stream": "stderr",
       "text": [
        "WARNING:sarpy.io.Adata_classes:Could not load AData\n"
       ]
      },
      {
       "output_type": "stream",
       "stream": "stderr",
       "text": [
        "WARNING:sarpy.io.Adata_classes:Need precisely one parameter file *json, found: []\n"
       ]
      },
      {
       "output_type": "stream",
       "stream": "stderr",
       "text": [
        "WARNING:sarpy.io.Adata_classes:Could not load AData\n"
       ]
      },
      {
       "output_type": "stream",
       "stream": "stderr",
       "text": [
        "WARNING:sarpy.io.Adata_classes:Need precisely one parameter file *json, found: []\n"
       ]
      },
      {
       "output_type": "stream",
       "stream": "stderr",
       "text": [
        "WARNING:sarpy.io.Adata_classes:Could not load AData\n"
       ]
      },
      {
       "output_type": "stream",
       "stream": "stderr",
       "text": [
        "WARNING:sarpy.io.Adata_classes:Need precisely one parameter file *json, found: []\n"
       ]
      },
      {
       "output_type": "stream",
       "stream": "stderr",
       "text": [
        "WARNING:sarpy.io.Adata_classes:Could not load AData\n"
       ]
      },
      {
       "output_type": "stream",
       "stream": "stderr",
       "text": [
        "WARNING:sarpy.io.Adata_classes:Need precisely one parameter file *json, found: []\n"
       ]
      },
      {
       "output_type": "stream",
       "stream": "stderr",
       "text": [
        "WARNING:sarpy.io.Adata_classes:Could not load AData\n"
       ]
      },
      {
       "output_type": "stream",
       "stream": "stderr",
       "text": [
        "WARNING:sarpy.io.Adata_classes:Need precisely one parameter file *json, found: []\n"
       ]
      },
      {
       "output_type": "stream",
       "stream": "stderr",
       "text": [
        "WARNING:sarpy.io.Adata_classes:Could not load AData\n"
       ]
      },
      {
       "output_type": "stream",
       "stream": "stderr",
       "text": [
        "WARNING:sarpy.io.Adata_classes:Need precisely one parameter file *json, found: []\n"
       ]
      },
      {
       "output_type": "stream",
       "stream": "stderr",
       "text": [
        "WARNING:sarpy.io.Adata_classes:Could not load AData\n"
       ]
      },
      {
       "output_type": "stream",
       "stream": "stderr",
       "text": [
        "WARNING:sarpy.io.Adata_classes:Need precisely one parameter file *json, found: []\n"
       ]
      },
      {
       "output_type": "stream",
       "stream": "stderr",
       "text": [
        "WARNING:sarpy.io.Adata_classes:Could not load AData\n"
       ]
      },
      {
       "output_type": "stream",
       "stream": "stderr",
       "text": [
        "WARNING:sarpy.io.Adata_classes:Need precisely one parameter file *json, found: []\n"
       ]
      },
      {
       "output_type": "stream",
       "stream": "stderr",
       "text": [
        "WARNING:sarpy.io.Adata_classes:Could not load AData\n"
       ]
      },
      {
       "output_type": "stream",
       "stream": "stderr",
       "text": [
        "WARNING:sarpy.io.Adata_classes:Need precisely one parameter file *json, found: []\n"
       ]
      },
      {
       "output_type": "stream",
       "stream": "stderr",
       "text": [
        "WARNING:sarpy.io.Adata_classes:Could not load AData\n"
       ]
      },
      {
       "output_type": "stream",
       "stream": "stderr",
       "text": [
        "WARNING:sarpy.io.Adata_classes:Need precisely one parameter file *json, found: []\n"
       ]
      },
      {
       "output_type": "stream",
       "stream": "stderr",
       "text": [
        "WARNING:sarpy.io.Adata_classes:Could not load AData\n"
       ]
      },
      {
       "output_type": "stream",
       "stream": "stderr",
       "text": [
        "WARNING:sarpy.io.Adata_classes:Need precisely one parameter file *json, found: []\n"
       ]
      },
      {
       "output_type": "stream",
       "stream": "stderr",
       "text": [
        "WARNING:sarpy.io.Adata_classes:Could not load AData\n"
       ]
      },
      {
       "output_type": "stream",
       "stream": "stderr",
       "text": [
        "WARNING:sarpy.io.Adata_classes:Need precisely one parameter file *json, found: []\n"
       ]
      },
      {
       "output_type": "stream",
       "stream": "stderr",
       "text": [
        "WARNING:sarpy.io.Adata_classes:Could not load AData\n"
       ]
      },
      {
       "output_type": "stream",
       "stream": "stderr",
       "text": [
        "WARNING:sarpy.io.Adata_classes:Need precisely one parameter file *json, found: []\n"
       ]
      },
      {
       "output_type": "stream",
       "stream": "stderr",
       "text": [
        "WARNING:sarpy.io.Adata_classes:Could not load AData\n"
       ]
      },
      {
       "output_type": "stream",
       "stream": "stderr",
       "text": [
        "WARNING:sarpy.io.Adata_classes:Need precisely one parameter file *json, found: []\n"
       ]
      },
      {
       "output_type": "stream",
       "stream": "stderr",
       "text": [
        "WARNING:sarpy.io.Adata_classes:Could not load AData\n"
       ]
      },
      {
       "output_type": "stream",
       "stream": "stderr",
       "text": [
        "WARNING:sarpy.io.Adata_classes:Need precisely one parameter file *json, found: []\n"
       ]
      },
      {
       "output_type": "stream",
       "stream": "stderr",
       "text": [
        "WARNING:sarpy.io.Adata_classes:Could not load AData\n"
       ]
      },
      {
       "output_type": "stream",
       "stream": "stderr",
       "text": [
        "WARNING:sarpy.io.Adata_classes:Need precisely one parameter file *json, found: []\n"
       ]
      },
      {
       "output_type": "stream",
       "stream": "stderr",
       "text": [
        "WARNING:sarpy.io.Adata_classes:Could not load AData\n"
       ]
      },
      {
       "output_type": "stream",
       "stream": "stderr",
       "text": [
        "WARNING:sarpy.io.Adata_classes:Need precisely one parameter file *json, found: []\n"
       ]
      },
      {
       "output_type": "stream",
       "stream": "stderr",
       "text": [
        "WARNING:sarpy.io.Adata_classes:Could not load AData\n"
       ]
      },
      {
       "output_type": "stream",
       "stream": "stderr",
       "text": [
        "WARNING:sarpy.io.Adata_classes:Need precisely one parameter file *json, found: []\n"
       ]
      },
      {
       "output_type": "stream",
       "stream": "stderr",
       "text": [
        "WARNING:sarpy.io.Adata_classes:Could not load AData\n"
       ]
      },
      {
       "output_type": "stream",
       "stream": "stderr",
       "text": [
        "WARNING:sarpy.io.Adata_classes:Need precisely one parameter file *json, found: []\n"
       ]
      },
      {
       "output_type": "stream",
       "stream": "stderr",
       "text": [
        "WARNING:sarpy.io.Adata_classes:Could not load AData\n"
       ]
      },
      {
       "output_type": "stream",
       "stream": "stderr",
       "text": [
        "WARNING:sarpy.io.Adata_classes:Need precisely one parameter file *json, found: []\n"
       ]
      },
      {
       "output_type": "stream",
       "stream": "stderr",
       "text": [
        "WARNING:sarpy.io.Adata_classes:Could not load AData\n"
       ]
      },
      {
       "output_type": "stream",
       "stream": "stderr",
       "text": [
        "WARNING:sarpy.io.Adata_classes:Need precisely one parameter file *json, found: []\n"
       ]
      },
      {
       "output_type": "stream",
       "stream": "stderr",
       "text": [
        "WARNING:sarpy.io.Adata_classes:Could not load AData\n"
       ]
      },
      {
       "output_type": "stream",
       "stream": "stderr",
       "text": [
        "WARNING:sarpy.io.Adata_classes:Need precisely one parameter file *json, found: []\n"
       ]
      },
      {
       "output_type": "stream",
       "stream": "stderr",
       "text": [
        "WARNING:sarpy.io.Adata_classes:Could not load AData\n"
       ]
      },
      {
       "output_type": "stream",
       "stream": "stderr",
       "text": [
        "WARNING:sarpy.io.Adata_classes:Need precisely one parameter file *json, found: []\n"
       ]
      },
      {
       "output_type": "stream",
       "stream": "stderr",
       "text": [
        "WARNING:sarpy.io.Adata_classes:Could not load AData\n"
       ]
      },
      {
       "output_type": "stream",
       "stream": "stderr",
       "text": [
        "WARNING:sarpy.io.Adata_classes:Need precisely one parameter file *json, found: []\n"
       ]
      },
      {
       "output_type": "stream",
       "stream": "stderr",
       "text": [
        "WARNING:sarpy.io.Adata_classes:Could not load AData\n"
       ]
      },
      {
       "output_type": "stream",
       "stream": "stderr",
       "text": [
        "WARNING:sarpy.io.Adata_classes:Need precisely one parameter file *json, found: []\n"
       ]
      },
      {
       "output_type": "stream",
       "stream": "stderr",
       "text": [
        "WARNING:sarpy.io.Adata_classes:Could not load AData\n"
       ]
      },
      {
       "output_type": "stream",
       "stream": "stderr",
       "text": [
        "WARNING:sarpy.io.Adata_classes:Need precisely one parameter file *json, found: []\n"
       ]
      },
      {
       "output_type": "stream",
       "stream": "stderr",
       "text": [
        "WARNING:sarpy.io.Adata_classes:Could not load AData\n"
       ]
      },
      {
       "output_type": "stream",
       "stream": "stderr",
       "text": [
        "WARNING:sarpy.io.Adata_classes:Need precisely one parameter file *json, found: []\n"
       ]
      },
      {
       "output_type": "stream",
       "stream": "stderr",
       "text": [
        "WARNING:sarpy.io.Adata_classes:Could not load AData\n"
       ]
      },
      {
       "output_type": "stream",
       "stream": "stderr",
       "text": [
        "WARNING:sarpy.io.Adata_classes:Need precisely one parameter file *json, found: []\n"
       ]
      },
      {
       "output_type": "stream",
       "stream": "stderr",
       "text": [
        "WARNING:sarpy.io.Adata_classes:Could not load AData\n"
       ]
      },
      {
       "output_type": "stream",
       "stream": "stderr",
       "text": [
        "WARNING:sarpy.io.Adata_classes:Need precisely one parameter file *json, found: []\n"
       ]
      },
      {
       "output_type": "stream",
       "stream": "stderr",
       "text": [
        "WARNING:sarpy.io.Adata_classes:Could not load AData\n"
       ]
      },
      {
       "output_type": "stream",
       "stream": "stderr",
       "text": [
        "WARNING:sarpy.io.Adata_classes:Need precisely one parameter file *json, found: []\n"
       ]
      },
      {
       "output_type": "stream",
       "stream": "stderr",
       "text": [
        "WARNING:sarpy.io.Adata_classes:Could not load AData\n"
       ]
      },
      {
       "output_type": "stream",
       "stream": "stderr",
       "text": [
        "WARNING:sarpy.io.Adata_classes:Need precisely one parameter file *json, found: []\n"
       ]
      },
      {
       "output_type": "stream",
       "stream": "stderr",
       "text": [
        "WARNING:sarpy.io.Adata_classes:Could not load AData\n"
       ]
      },
      {
       "output_type": "stream",
       "stream": "stderr",
       "text": [
        "WARNING:sarpy.io.Adata_classes:Need precisely one parameter file *json, found: []\n"
       ]
      },
      {
       "output_type": "stream",
       "stream": "stderr",
       "text": [
        "WARNING:sarpy.io.Adata_classes:Could not load AData\n"
       ]
      },
      {
       "output_type": "stream",
       "stream": "stderr",
       "text": [
        "WARNING:sarpy.io.Adata_classes:Need precisely one parameter file *json, found: []\n"
       ]
      },
      {
       "output_type": "stream",
       "stream": "stderr",
       "text": [
        "WARNING:sarpy.io.Adata_classes:Could not load AData\n"
       ]
      },
      {
       "output_type": "stream",
       "stream": "stderr",
       "text": [
        "WARNING:sarpy.io.Adata_classes:Need precisely one parameter file *json, found: []\n"
       ]
      },
      {
       "output_type": "stream",
       "stream": "stderr",
       "text": [
        "WARNING:sarpy.io.Adata_classes:Could not load AData\n"
       ]
      },
      {
       "output_type": "stream",
       "stream": "stderr",
       "text": [
        "WARNING:sarpy.io.Adata_classes:Need precisely one parameter file *json, found: []\n"
       ]
      },
      {
       "output_type": "stream",
       "stream": "stderr",
       "text": [
        "WARNING:sarpy.io.Adata_classes:Could not load AData\n"
       ]
      },
      {
       "output_type": "stream",
       "stream": "stderr",
       "text": [
        "WARNING:sarpy.io.Adata_classes:Need precisely one parameter file *json, found: []\n"
       ]
      },
      {
       "output_type": "stream",
       "stream": "stderr",
       "text": [
        "WARNING:sarpy.io.Adata_classes:Could not load AData\n"
       ]
      },
      {
       "output_type": "stream",
       "stream": "stderr",
       "text": [
        "WARNING:sarpy.io.Adata_classes:Need precisely one parameter file *json, found: []\n"
       ]
      },
      {
       "output_type": "stream",
       "stream": "stderr",
       "text": [
        "WARNING:sarpy.io.Adata_classes:Could not load AData\n"
       ]
      },
      {
       "output_type": "stream",
       "stream": "stderr",
       "text": [
        "WARNING:sarpy.io.Adata_classes:Need precisely one parameter file *json, found: []\n"
       ]
      },
      {
       "output_type": "stream",
       "stream": "stderr",
       "text": [
        "WARNING:sarpy.io.Adata_classes:Could not load AData\n"
       ]
      },
      {
       "output_type": "stream",
       "stream": "stderr",
       "text": [
        "WARNING:sarpy.io.Adata_classes:Need precisely one parameter file *json, found: []\n"
       ]
      },
      {
       "output_type": "stream",
       "stream": "stderr",
       "text": [
        "WARNING:sarpy.io.Adata_classes:Could not load AData\n"
       ]
      },
      {
       "output_type": "stream",
       "stream": "stderr",
       "text": [
        "WARNING:sarpy.io.Adata_classes:Need precisely one parameter file *json, found: []\n"
       ]
      },
      {
       "output_type": "stream",
       "stream": "stderr",
       "text": [
        "WARNING:sarpy.io.Adata_classes:Could not load AData\n"
       ]
      },
      {
       "output_type": "stream",
       "stream": "stderr",
       "text": [
        "WARNING:sarpy.io.Adata_classes:Need precisely one parameter file *json, found: []\n"
       ]
      },
      {
       "output_type": "stream",
       "stream": "stderr",
       "text": [
        "WARNING:sarpy.io.Adata_classes:Could not load AData\n"
       ]
      },
      {
       "output_type": "stream",
       "stream": "stderr",
       "text": [
        "WARNING:sarpy.io.Adata_classes:Need precisely one parameter file *json, found: []\n"
       ]
      },
      {
       "output_type": "stream",
       "stream": "stderr",
       "text": [
        "WARNING:sarpy.io.Adata_classes:Could not load AData\n"
       ]
      },
      {
       "output_type": "stream",
       "stream": "stderr",
       "text": [
        "WARNING:sarpy.io.Adata_classes:Need precisely one parameter file *json, found: []\n"
       ]
      },
      {
       "output_type": "stream",
       "stream": "stderr",
       "text": [
        "WARNING:sarpy.io.Adata_classes:Could not load AData\n"
       ]
      },
      {
       "output_type": "stream",
       "stream": "stderr",
       "text": [
        "WARNING:sarpy.io.Adata_classes:Need precisely one parameter file *json, found: []\n"
       ]
      },
      {
       "output_type": "stream",
       "stream": "stderr",
       "text": [
        "WARNING:sarpy.io.Adata_classes:Could not load AData\n"
       ]
      },
      {
       "output_type": "stream",
       "stream": "stderr",
       "text": [
        "WARNING:sarpy.io.Adata_classes:Need precisely one parameter file *json, found: []\n"
       ]
      },
      {
       "output_type": "stream",
       "stream": "stderr",
       "text": [
        "WARNING:sarpy.io.Adata_classes:Could not load AData\n"
       ]
      },
      {
       "output_type": "stream",
       "stream": "stderr",
       "text": [
        "WARNING:sarpy.io.Adata_classes:Need precisely one parameter file *json, found: []\n"
       ]
      },
      {
       "output_type": "stream",
       "stream": "stderr",
       "text": [
        "WARNING:sarpy.io.Adata_classes:Could not load AData\n"
       ]
      },
      {
       "output_type": "stream",
       "stream": "stderr",
       "text": [
        "WARNING:sarpy.io.Adata_classes:Need precisely one parameter file *json, found: []\n"
       ]
      },
      {
       "output_type": "stream",
       "stream": "stderr",
       "text": [
        "WARNING:sarpy.io.Adata_classes:Could not load AData\n"
       ]
      },
      {
       "output_type": "stream",
       "stream": "stderr",
       "text": [
        "WARNING:sarpy.io.Adata_classes:Need precisely one parameter file *json, found: []\n"
       ]
      },
      {
       "output_type": "stream",
       "stream": "stderr",
       "text": [
        "WARNING:sarpy.io.Adata_classes:Could not load AData\n"
       ]
      },
      {
       "output_type": "stream",
       "stream": "stderr",
       "text": [
        "WARNING:sarpy.io.Adata_classes:Need precisely one parameter file *json, found: []\n"
       ]
      },
      {
       "output_type": "stream",
       "stream": "stderr",
       "text": [
        "WARNING:sarpy.io.Adata_classes:Could not load AData\n"
       ]
      },
      {
       "output_type": "stream",
       "stream": "stderr",
       "text": [
        "WARNING:sarpy.io.Adata_classes:Need precisely one parameter file *json, found: []\n"
       ]
      },
      {
       "output_type": "stream",
       "stream": "stderr",
       "text": [
        "WARNING:sarpy.io.Adata_classes:Could not load AData\n"
       ]
      },
      {
       "output_type": "stream",
       "stream": "stderr",
       "text": [
        "WARNING:sarpy.io.Adata_classes:Need precisely one parameter file *json, found: []\n"
       ]
      },
      {
       "output_type": "stream",
       "stream": "stderr",
       "text": [
        "WARNING:sarpy.io.Adata_classes:Could not load AData\n"
       ]
      },
      {
       "output_type": "stream",
       "stream": "stderr",
       "text": [
        "WARNING:sarpy.io.Adata_classes:Need precisely one parameter file *json, found: []\n"
       ]
      },
      {
       "output_type": "stream",
       "stream": "stderr",
       "text": [
        "WARNING:sarpy.io.Adata_classes:Could not load AData\n"
       ]
      },
      {
       "output_type": "stream",
       "stream": "stderr",
       "text": [
        "WARNING:sarpy.io.Adata_classes:Need precisely one parameter file *json, found: []\n"
       ]
      },
      {
       "output_type": "stream",
       "stream": "stderr",
       "text": [
        "WARNING:sarpy.io.Adata_classes:Could not load AData\n"
       ]
      },
      {
       "output_type": "stream",
       "stream": "stderr",
       "text": [
        "WARNING:sarpy.io.Adata_classes:Need precisely one parameter file *json, found: []\n"
       ]
      },
      {
       "output_type": "stream",
       "stream": "stderr",
       "text": [
        "WARNING:sarpy.io.Adata_classes:Could not load AData\n"
       ]
      },
      {
       "output_type": "stream",
       "stream": "stderr",
       "text": [
        "WARNING:sarpy.io.Adata_classes:Need precisely one parameter file *json, found: []\n"
       ]
      },
      {
       "output_type": "stream",
       "stream": "stderr",
       "text": [
        "WARNING:sarpy.io.Adata_classes:Could not load AData\n"
       ]
      },
      {
       "output_type": "stream",
       "stream": "stderr",
       "text": [
        "WARNING:sarpy.io.Adata_classes:Need precisely one parameter file *json, found: []\n"
       ]
      },
      {
       "output_type": "stream",
       "stream": "stderr",
       "text": [
        "WARNING:sarpy.io.Adata_classes:Could not load AData\n"
       ]
      },
      {
       "output_type": "stream",
       "stream": "stderr",
       "text": [
        "WARNING:sarpy.io.Adata_classes:Need precisely one parameter file *json, found: []\n"
       ]
      },
      {
       "output_type": "stream",
       "stream": "stderr",
       "text": [
        "WARNING:sarpy.io.Adata_classes:Could not load AData\n"
       ]
      },
      {
       "output_type": "stream",
       "stream": "stderr",
       "text": [
        "WARNING:sarpy.io.Adata_classes:Need precisely one parameter file *json, found: []\n"
       ]
      },
      {
       "output_type": "stream",
       "stream": "stderr",
       "text": [
        "WARNING:sarpy.io.Adata_classes:Could not load AData\n"
       ]
      },
      {
       "output_type": "stream",
       "stream": "stderr",
       "text": [
        "WARNING:sarpy.io.Adata_classes:Need precisely one parameter file *json, found: []\n"
       ]
      },
      {
       "output_type": "stream",
       "stream": "stderr",
       "text": [
        "WARNING:sarpy.io.Adata_classes:Could not load AData\n"
       ]
      },
      {
       "output_type": "stream",
       "stream": "stderr",
       "text": [
        "WARNING:sarpy.io.Adata_classes:Need precisely one parameter file *json, found: []\n"
       ]
      },
      {
       "output_type": "stream",
       "stream": "stderr",
       "text": [
        "WARNING:sarpy.io.Adata_classes:Could not load AData\n"
       ]
      },
      {
       "output_type": "stream",
       "stream": "stderr",
       "text": [
        "WARNING:sarpy.io.Adata_classes:Need precisely one parameter file *json, found: []\n"
       ]
      },
      {
       "output_type": "stream",
       "stream": "stderr",
       "text": [
        "WARNING:sarpy.io.Adata_classes:Could not load AData\n"
       ]
      },
      {
       "output_type": "stream",
       "stream": "stderr",
       "text": [
        "WARNING:sarpy.io.Adata_classes:Need precisely one parameter file *json, found: []\n"
       ]
      },
      {
       "output_type": "stream",
       "stream": "stderr",
       "text": [
        "WARNING:sarpy.io.Adata_classes:Could not load AData\n"
       ]
      },
      {
       "output_type": "stream",
       "stream": "stderr",
       "text": [
        "WARNING:sarpy.io.Adata_classes:Need precisely one parameter file *json, found: []\n"
       ]
      },
      {
       "output_type": "stream",
       "stream": "stderr",
       "text": [
        "WARNING:sarpy.io.Adata_classes:Could not load AData\n"
       ]
      },
      {
       "output_type": "stream",
       "stream": "stderr",
       "text": [
        "WARNING:sarpy.io.Adata_classes:Need precisely one parameter file *json, found: []\n"
       ]
      },
      {
       "output_type": "stream",
       "stream": "stderr",
       "text": [
        "WARNING:sarpy.io.Adata_classes:Could not load AData\n"
       ]
      },
      {
       "output_type": "stream",
       "stream": "stderr",
       "text": [
        "WARNING:sarpy.io.Adata_classes:Need precisely one parameter file *json, found: []\n"
       ]
      },
      {
       "output_type": "stream",
       "stream": "stderr",
       "text": [
        "WARNING:sarpy.io.Adata_classes:Could not load AData\n"
       ]
      },
      {
       "output_type": "stream",
       "stream": "stderr",
       "text": [
        "WARNING:sarpy.io.Adata_classes:Need precisely one parameter file *json, found: []\n"
       ]
      },
      {
       "output_type": "stream",
       "stream": "stderr",
       "text": [
        "WARNING:sarpy.io.Adata_classes:Could not load AData\n"
       ]
      },
      {
       "output_type": "stream",
       "stream": "stderr",
       "text": [
        "WARNING:sarpy.io.Adata_classes:Need precisely one parameter file *json, found: []\n"
       ]
      },
      {
       "output_type": "stream",
       "stream": "stderr",
       "text": [
        "WARNING:sarpy.io.Adata_classes:Could not load AData\n"
       ]
      },
      {
       "output_type": "stream",
       "stream": "stderr",
       "text": [
        "WARNING:sarpy.io.Adata_classes:Need precisely one parameter file *json, found: []\n"
       ]
      },
      {
       "output_type": "stream",
       "stream": "stderr",
       "text": [
        "WARNING:sarpy.io.Adata_classes:Could not load AData\n"
       ]
      },
      {
       "output_type": "stream",
       "stream": "stderr",
       "text": [
        "WARNING:sarpy.io.Adata_classes:Need precisely one parameter file *json, found: []\n"
       ]
      },
      {
       "output_type": "stream",
       "stream": "stderr",
       "text": [
        "WARNING:sarpy.io.Adata_classes:Could not load AData\n"
       ]
      },
      {
       "output_type": "stream",
       "stream": "stderr",
       "text": [
        "WARNING:sarpy.io.Adata_classes:Need precisely one parameter file *json, found: []\n"
       ]
      },
      {
       "output_type": "stream",
       "stream": "stderr",
       "text": [
        "WARNING:sarpy.io.Adata_classes:Could not load AData\n"
       ]
      },
      {
       "output_type": "stream",
       "stream": "stderr",
       "text": [
        "WARNING:sarpy.io.Adata_classes:Need precisely one parameter file *json, found: []\n"
       ]
      },
      {
       "output_type": "stream",
       "stream": "stderr",
       "text": [
        "WARNING:sarpy.io.Adata_classes:Could not load AData\n"
       ]
      },
      {
       "output_type": "stream",
       "stream": "stderr",
       "text": [
        "WARNING:sarpy.io.Adata_classes:Need precisely one parameter file *json, found: []\n"
       ]
      },
      {
       "output_type": "stream",
       "stream": "stderr",
       "text": [
        "WARNING:sarpy.io.Adata_classes:Could not load AData\n"
       ]
      },
      {
       "output_type": "stream",
       "stream": "stderr",
       "text": [
        "WARNING:sarpy.io.Adata_classes:Need precisely one parameter file *json, found: []\n"
       ]
      },
      {
       "output_type": "stream",
       "stream": "stderr",
       "text": [
        "WARNING:sarpy.io.Adata_classes:Could not load AData\n"
       ]
      },
      {
       "output_type": "stream",
       "stream": "stderr",
       "text": [
        "WARNING:sarpy.io.Adata_classes:Need precisely one parameter file *json, found: []\n"
       ]
      },
      {
       "output_type": "stream",
       "stream": "stderr",
       "text": [
        "WARNING:sarpy.io.Adata_classes:Could not load AData\n"
       ]
      },
      {
       "output_type": "stream",
       "stream": "stderr",
       "text": [
        "WARNING:sarpy.io.Adata_classes:Need precisely one parameter file *json, found: []\n"
       ]
      },
      {
       "output_type": "stream",
       "stream": "stderr",
       "text": [
        "WARNING:sarpy.io.Adata_classes:Could not load AData\n"
       ]
      },
      {
       "output_type": "stream",
       "stream": "stderr",
       "text": [
        "WARNING:sarpy.io.Adata_classes:Need precisely one parameter file *json, found: []\n"
       ]
      },
      {
       "output_type": "stream",
       "stream": "stderr",
       "text": [
        "WARNING:sarpy.io.Adata_classes:Could not load AData\n"
       ]
      },
      {
       "output_type": "stream",
       "stream": "stderr",
       "text": [
        "WARNING:sarpy.io.Adata_classes:Need precisely one parameter file *json, found: []\n"
       ]
      },
      {
       "output_type": "stream",
       "stream": "stderr",
       "text": [
        "WARNING:sarpy.io.Adata_classes:Could not load AData\n"
       ]
      },
      {
       "output_type": "stream",
       "stream": "stderr",
       "text": [
        "WARNING:sarpy.io.Adata_classes:Need precisely one parameter file *json, found: []\n"
       ]
      },
      {
       "output_type": "stream",
       "stream": "stderr",
       "text": [
        "WARNING:sarpy.io.Adata_classes:Could not load AData\n"
       ]
      },
      {
       "output_type": "stream",
       "stream": "stderr",
       "text": [
        "WARNING:sarpy.io.Adata_classes:Need precisely one parameter file *json, found: []\n"
       ]
      },
      {
       "output_type": "stream",
       "stream": "stderr",
       "text": [
        "WARNING:sarpy.io.Adata_classes:Could not load AData\n"
       ]
      },
      {
       "output_type": "stream",
       "stream": "stderr",
       "text": [
        "WARNING:sarpy.io.Adata_classes:Need precisely one parameter file *json, found: []\n"
       ]
      },
      {
       "output_type": "stream",
       "stream": "stderr",
       "text": [
        "WARNING:sarpy.io.Adata_classes:Could not load AData\n"
       ]
      },
      {
       "output_type": "stream",
       "stream": "stderr",
       "text": [
        "WARNING:sarpy.io.Adata_classes:Need precisely one parameter file *json, found: []\n"
       ]
      },
      {
       "output_type": "stream",
       "stream": "stderr",
       "text": [
        "WARNING:sarpy.io.Adata_classes:Could not load AData\n"
       ]
      },
      {
       "output_type": "stream",
       "stream": "stderr",
       "text": [
        "WARNING:sarpy.io.Adata_classes:Need precisely one parameter file *json, found: []\n"
       ]
      },
      {
       "output_type": "stream",
       "stream": "stderr",
       "text": [
        "WARNING:sarpy.io.Adata_classes:Could not load AData\n"
       ]
      },
      {
       "output_type": "stream",
       "stream": "stderr",
       "text": [
        "WARNING:sarpy.io.Adata_classes:Need precisely one parameter file *json, found: []\n"
       ]
      },
      {
       "output_type": "stream",
       "stream": "stderr",
       "text": [
        "WARNING:sarpy.io.Adata_classes:Could not load AData\n"
       ]
      },
      {
       "output_type": "stream",
       "stream": "stderr",
       "text": [
        "WARNING:sarpy.io.Adata_classes:Need precisely one parameter file *json, found: []\n"
       ]
      },
      {
       "output_type": "stream",
       "stream": "stderr",
       "text": [
        "WARNING:sarpy.io.Adata_classes:Could not load AData\n"
       ]
      },
      {
       "output_type": "stream",
       "stream": "stderr",
       "text": [
        "WARNING:sarpy.io.Adata_classes:Need precisely one parameter file *json, found: []\n"
       ]
      },
      {
       "output_type": "stream",
       "stream": "stderr",
       "text": [
        "WARNING:sarpy.io.Adata_classes:Could not load AData\n"
       ]
      },
      {
       "output_type": "stream",
       "stream": "stderr",
       "text": [
        "WARNING:sarpy.io.Adata_classes:Need precisely one parameter file *json, found: []\n"
       ]
      },
      {
       "output_type": "stream",
       "stream": "stderr",
       "text": [
        "WARNING:sarpy.io.Adata_classes:Could not load AData\n"
       ]
      },
      {
       "output_type": "stream",
       "stream": "stderr",
       "text": [
        "WARNING:sarpy.io.Adata_classes:Need precisely one parameter file *json, found: []\n"
       ]
      },
      {
       "output_type": "stream",
       "stream": "stderr",
       "text": [
        "WARNING:sarpy.io.Adata_classes:Could not load AData\n"
       ]
      },
      {
       "output_type": "stream",
       "stream": "stderr",
       "text": [
        "WARNING:sarpy.io.Adata_classes:Need precisely one parameter file *json, found: []\n"
       ]
      },
      {
       "output_type": "stream",
       "stream": "stderr",
       "text": [
        "WARNING:sarpy.io.Adata_classes:Could not load AData\n"
       ]
      },
      {
       "output_type": "stream",
       "stream": "stderr",
       "text": [
        "WARNING:sarpy.io.Adata_classes:Need precisely one parameter file *json, found: []\n"
       ]
      },
      {
       "output_type": "stream",
       "stream": "stderr",
       "text": [
        "WARNING:sarpy.io.Adata_classes:Could not load AData\n"
       ]
      },
      {
       "output_type": "stream",
       "stream": "stderr",
       "text": [
        "WARNING:sarpy.io.Adata_classes:Need precisely one parameter file *json, found: []\n"
       ]
      },
      {
       "output_type": "stream",
       "stream": "stderr",
       "text": [
        "WARNING:sarpy.io.Adata_classes:Could not load AData\n"
       ]
      },
      {
       "output_type": "stream",
       "stream": "stderr",
       "text": [
        "WARNING:sarpy.io.Adata_classes:Need precisely one parameter file *json, found: []\n"
       ]
      },
      {
       "output_type": "stream",
       "stream": "stderr",
       "text": [
        "WARNING:sarpy.io.Adata_classes:Could not load AData\n"
       ]
      },
      {
       "output_type": "stream",
       "stream": "stderr",
       "text": [
        "WARNING:sarpy.io.Adata_classes:Need precisely one parameter file *json, found: []\n"
       ]
      },
      {
       "output_type": "stream",
       "stream": "stderr",
       "text": [
        "WARNING:sarpy.io.Adata_classes:Could not load AData\n"
       ]
      },
      {
       "output_type": "stream",
       "stream": "stderr",
       "text": [
        "WARNING:sarpy.io.Adata_classes:Need precisely one parameter file *json, found: []\n"
       ]
      },
      {
       "output_type": "stream",
       "stream": "stderr",
       "text": [
        "WARNING:sarpy.io.Adata_classes:Could not load AData\n"
       ]
      },
      {
       "output_type": "stream",
       "stream": "stderr",
       "text": [
        "WARNING:sarpy.io.Adata_classes:Need precisely one parameter file *json, found: []\n"
       ]
      },
      {
       "output_type": "stream",
       "stream": "stderr",
       "text": [
        "WARNING:sarpy.io.Adata_classes:Could not load AData\n"
       ]
      },
      {
       "output_type": "stream",
       "stream": "stderr",
       "text": [
        "WARNING:sarpy.io.Adata_classes:Need precisely one parameter file *json, found: []\n"
       ]
      },
      {
       "output_type": "stream",
       "stream": "stderr",
       "text": [
        "WARNING:sarpy.io.Adata_classes:Could not load AData\n"
       ]
      },
      {
       "output_type": "stream",
       "stream": "stderr",
       "text": [
        "WARNING:sarpy.io.Adata_classes:Need precisely one parameter file *json, found: []\n"
       ]
      },
      {
       "output_type": "stream",
       "stream": "stderr",
       "text": [
        "WARNING:sarpy.io.Adata_classes:Could not load AData\n"
       ]
      },
      {
       "output_type": "stream",
       "stream": "stderr",
       "text": [
        "WARNING:sarpy.io.Adata_classes:Need precisely one parameter file *json, found: []\n"
       ]
      },
      {
       "output_type": "stream",
       "stream": "stderr",
       "text": [
        "WARNING:sarpy.io.Adata_classes:Could not load AData\n"
       ]
      },
      {
       "output_type": "stream",
       "stream": "stderr",
       "text": [
        "WARNING:sarpy.io.Adata_classes:Need precisely one parameter file *json, found: []\n"
       ]
      },
      {
       "output_type": "stream",
       "stream": "stderr",
       "text": [
        "WARNING:sarpy.io.Adata_classes:Could not load AData\n"
       ]
      },
      {
       "output_type": "stream",
       "stream": "stderr",
       "text": [
        "WARNING:sarpy.io.Adata_classes:Need precisely one parameter file *json, found: []\n"
       ]
      },
      {
       "output_type": "stream",
       "stream": "stderr",
       "text": [
        "WARNING:sarpy.io.Adata_classes:Could not load AData\n"
       ]
      },
      {
       "output_type": "stream",
       "stream": "stderr",
       "text": [
        "WARNING:sarpy.io.Adata_classes:Need precisely one parameter file *json, found: []\n"
       ]
      },
      {
       "output_type": "stream",
       "stream": "stderr",
       "text": [
        "WARNING:sarpy.io.Adata_classes:Could not load AData\n"
       ]
      },
      {
       "output_type": "stream",
       "stream": "stderr",
       "text": [
        "WARNING:sarpy.io.Adata_classes:Need precisely one parameter file *json, found: []\n"
       ]
      },
      {
       "output_type": "stream",
       "stream": "stderr",
       "text": [
        "WARNING:sarpy.io.Adata_classes:Could not load AData\n"
       ]
      },
      {
       "output_type": "stream",
       "stream": "stderr",
       "text": [
        "WARNING:sarpy.io.Adata_classes:Need precisely one parameter file *json, found: []\n"
       ]
      },
      {
       "output_type": "stream",
       "stream": "stderr",
       "text": [
        "WARNING:sarpy.io.Adata_classes:Could not load AData\n"
       ]
      },
      {
       "output_type": "stream",
       "stream": "stderr",
       "text": [
        "WARNING:sarpy.io.Adata_classes:Need precisely one parameter file *json, found: []\n"
       ]
      },
      {
       "output_type": "stream",
       "stream": "stderr",
       "text": [
        "WARNING:sarpy.io.Adata_classes:Could not load AData\n"
       ]
      },
      {
       "output_type": "stream",
       "stream": "stderr",
       "text": [
        "WARNING:sarpy.io.Adata_classes:Need precisely one parameter file *json, found: []\n"
       ]
      },
      {
       "output_type": "stream",
       "stream": "stderr",
       "text": [
        "WARNING:sarpy.io.Adata_classes:Could not load AData\n"
       ]
      },
      {
       "output_type": "stream",
       "stream": "stderr",
       "text": [
        "WARNING:sarpy.io.Adata_classes:Need precisely one parameter file *json, found: []\n"
       ]
      },
      {
       "output_type": "stream",
       "stream": "stderr",
       "text": [
        "WARNING:sarpy.io.Adata_classes:Could not load AData\n"
       ]
      },
      {
       "output_type": "stream",
       "stream": "stderr",
       "text": [
        "WARNING:sarpy.io.Adata_classes:Need precisely one parameter file *json, found: []\n"
       ]
      },
      {
       "output_type": "stream",
       "stream": "stderr",
       "text": [
        "WARNING:sarpy.io.Adata_classes:Could not load AData\n"
       ]
      },
      {
       "output_type": "stream",
       "stream": "stderr",
       "text": [
        "WARNING:sarpy.io.Adata_classes:Need precisely one parameter file *json, found: []\n"
       ]
      },
      {
       "output_type": "stream",
       "stream": "stderr",
       "text": [
        "WARNING:sarpy.io.Adata_classes:Could not load AData\n"
       ]
      },
      {
       "output_type": "stream",
       "stream": "stderr",
       "text": [
        "WARNING:sarpy.io.Adata_classes:Need precisely one parameter file *json, found: []\n"
       ]
      },
      {
       "output_type": "stream",
       "stream": "stderr",
       "text": [
        "WARNING:sarpy.io.Adata_classes:Could not load AData\n"
       ]
      },
      {
       "output_type": "stream",
       "stream": "stderr",
       "text": [
        "WARNING:sarpy.io.Adata_classes:Need precisely one parameter file *json, found: []\n"
       ]
      },
      {
       "output_type": "stream",
       "stream": "stderr",
       "text": [
        "WARNING:sarpy.io.Adata_classes:Could not load AData\n"
       ]
      },
      {
       "output_type": "stream",
       "stream": "stderr",
       "text": [
        "WARNING:sarpy.io.Adata_classes:Need precisely one parameter file *json, found: []\n"
       ]
      },
      {
       "output_type": "stream",
       "stream": "stderr",
       "text": [
        "WARNING:sarpy.io.Adata_classes:Could not load AData\n"
       ]
      },
      {
       "output_type": "stream",
       "stream": "stderr",
       "text": [
        "WARNING:sarpy.io.Adata_classes:Need precisely one parameter file *json, found: []\n"
       ]
      },
      {
       "output_type": "stream",
       "stream": "stderr",
       "text": [
        "WARNING:sarpy.io.Adata_classes:Could not load AData\n"
       ]
      },
      {
       "output_type": "stream",
       "stream": "stderr",
       "text": [
        "WARNING:sarpy.io.Adata_classes:Need precisely one parameter file *json, found: []\n"
       ]
      },
      {
       "output_type": "stream",
       "stream": "stderr",
       "text": [
        "WARNING:sarpy.io.Adata_classes:Could not load AData\n"
       ]
      },
      {
       "output_type": "stream",
       "stream": "stderr",
       "text": [
        "WARNING:sarpy.io.Adata_classes:Need precisely one parameter file *json, found: []\n"
       ]
      },
      {
       "output_type": "stream",
       "stream": "stderr",
       "text": [
        "WARNING:sarpy.io.Adata_classes:Could not load AData\n"
       ]
      },
      {
       "output_type": "stream",
       "stream": "stderr",
       "text": [
        "WARNING:sarpy.io.Adata_classes:Need precisely one parameter file *json, found: []\n"
       ]
      },
      {
       "output_type": "stream",
       "stream": "stderr",
       "text": [
        "WARNING:sarpy.io.Adata_classes:Could not load AData\n"
       ]
      },
      {
       "output_type": "stream",
       "stream": "stderr",
       "text": [
        "WARNING:sarpy.io.Adata_classes:Need precisely one parameter file *json, found: []\n"
       ]
      },
      {
       "output_type": "stream",
       "stream": "stderr",
       "text": [
        "WARNING:sarpy.io.Adata_classes:Could not load AData\n"
       ]
      },
      {
       "output_type": "stream",
       "stream": "stderr",
       "text": [
        "WARNING:sarpy.io.Adata_classes:Need precisely one parameter file *json, found: []\n"
       ]
      },
      {
       "output_type": "stream",
       "stream": "stderr",
       "text": [
        "WARNING:sarpy.io.Adata_classes:Could not load AData\n"
       ]
      },
      {
       "output_type": "stream",
       "stream": "stderr",
       "text": [
        "WARNING:sarpy.io.Adata_classes:Need precisely one parameter file *json, found: []\n"
       ]
      },
      {
       "output_type": "stream",
       "stream": "stderr",
       "text": [
        "WARNING:sarpy.io.Adata_classes:Could not load AData\n"
       ]
      },
      {
       "output_type": "stream",
       "stream": "stderr",
       "text": [
        "WARNING:sarpy.io.Adata_classes:Need precisely one parameter file *json, found: []\n"
       ]
      },
      {
       "output_type": "stream",
       "stream": "stderr",
       "text": [
        "WARNING:sarpy.io.Adata_classes:Could not load AData\n"
       ]
      },
      {
       "output_type": "stream",
       "stream": "stderr",
       "text": [
        "WARNING:sarpy.io.Adata_classes:Need precisely one parameter file *json, found: []\n"
       ]
      },
      {
       "output_type": "stream",
       "stream": "stderr",
       "text": [
        "WARNING:sarpy.io.Adata_classes:Could not load AData\n"
       ]
      },
      {
       "output_type": "stream",
       "stream": "stderr",
       "text": [
        "WARNING:sarpy.io.Adata_classes:Need precisely one parameter file *json, found: []\n"
       ]
      },
      {
       "output_type": "stream",
       "stream": "stderr",
       "text": [
        "WARNING:sarpy.io.Adata_classes:Could not load AData\n"
       ]
      },
      {
       "output_type": "stream",
       "stream": "stderr",
       "text": [
        "WARNING:sarpy.io.Adata_classes:Need precisely one parameter file *json, found: []\n"
       ]
      },
      {
       "output_type": "stream",
       "stream": "stderr",
       "text": [
        "WARNING:sarpy.io.Adata_classes:Could not load AData\n"
       ]
      },
      {
       "output_type": "stream",
       "stream": "stderr",
       "text": [
        "WARNING:sarpy.io.Adata_classes:Need precisely one parameter file *json, found: []\n"
       ]
      },
      {
       "output_type": "stream",
       "stream": "stderr",
       "text": [
        "WARNING:sarpy.io.Adata_classes:Could not load AData\n"
       ]
      },
      {
       "output_type": "stream",
       "stream": "stderr",
       "text": [
        "WARNING:sarpy.io.Adata_classes:Need precisely one parameter file *json, found: []\n"
       ]
      },
      {
       "output_type": "stream",
       "stream": "stderr",
       "text": [
        "WARNING:sarpy.io.Adata_classes:Could not load AData\n"
       ]
      },
      {
       "output_type": "stream",
       "stream": "stderr",
       "text": [
        "WARNING:sarpy.io.Adata_classes:Need precisely one parameter file *json, found: []\n"
       ]
      },
      {
       "output_type": "stream",
       "stream": "stderr",
       "text": [
        "WARNING:sarpy.io.Adata_classes:Could not load AData\n"
       ]
      },
      {
       "output_type": "stream",
       "stream": "stderr",
       "text": [
        "WARNING:sarpy.io.Adata_classes:Need precisely one parameter file *json, found: []\n"
       ]
      },
      {
       "output_type": "stream",
       "stream": "stderr",
       "text": [
        "WARNING:sarpy.io.Adata_classes:Could not load AData\n"
       ]
      },
      {
       "output_type": "stream",
       "stream": "stderr",
       "text": [
        "WARNING:sarpy.io.Adata_classes:Need precisely one parameter file *json, found: []\n"
       ]
      },
      {
       "output_type": "stream",
       "stream": "stderr",
       "text": [
        "WARNING:sarpy.io.Adata_classes:Could not load AData\n"
       ]
      },
      {
       "output_type": "stream",
       "stream": "stderr",
       "text": [
        "WARNING:sarpy.io.Adata_classes:Need precisely one parameter file *json, found: []\n"
       ]
      },
      {
       "output_type": "stream",
       "stream": "stderr",
       "text": [
        "WARNING:sarpy.io.Adata_classes:Could not load AData\n"
       ]
      },
      {
       "output_type": "stream",
       "stream": "stderr",
       "text": [
        "WARNING:sarpy.io.Adata_classes:Need precisely one parameter file *json, found: []\n"
       ]
      },
      {
       "output_type": "stream",
       "stream": "stderr",
       "text": [
        "WARNING:sarpy.io.Adata_classes:Could not load AData\n"
       ]
      },
      {
       "output_type": "stream",
       "stream": "stderr",
       "text": [
        "WARNING:sarpy.io.Adata_classes:Need precisely one parameter file *json, found: []\n"
       ]
      },
      {
       "output_type": "stream",
       "stream": "stderr",
       "text": [
        "WARNING:sarpy.io.Adata_classes:Could not load AData\n"
       ]
      },
      {
       "output_type": "stream",
       "stream": "stderr",
       "text": [
        "WARNING:sarpy.io.Adata_classes:Need precisely one parameter file *json, found: []\n"
       ]
      },
      {
       "output_type": "stream",
       "stream": "stderr",
       "text": [
        "WARNING:sarpy.io.Adata_classes:Could not load AData\n"
       ]
      },
      {
       "output_type": "stream",
       "stream": "stderr",
       "text": [
        "WARNING:sarpy.io.Adata_classes:Need precisely one parameter file *json, found: []\n"
       ]
      },
      {
       "output_type": "stream",
       "stream": "stderr",
       "text": [
        "WARNING:sarpy.io.Adata_classes:Could not load AData\n"
       ]
      },
      {
       "output_type": "stream",
       "stream": "stderr",
       "text": [
        "WARNING:sarpy.io.Adata_classes:Need precisely one parameter file *json, found: []\n"
       ]
      },
      {
       "output_type": "stream",
       "stream": "stderr",
       "text": [
        "WARNING:sarpy.io.Adata_classes:Could not load AData\n"
       ]
      },
      {
       "output_type": "stream",
       "stream": "stderr",
       "text": [
        "WARNING:sarpy.io.Adata_classes:Need precisely one parameter file *json, found: []\n"
       ]
      },
      {
       "output_type": "stream",
       "stream": "stderr",
       "text": [
        "WARNING:sarpy.io.Adata_classes:Could not load AData\n"
       ]
      },
      {
       "output_type": "stream",
       "stream": "stderr",
       "text": [
        "WARNING:sarpy.io.Adata_classes:Need precisely one parameter file *json, found: []\n"
       ]
      },
      {
       "output_type": "stream",
       "stream": "stderr",
       "text": [
        "WARNING:sarpy.io.Adata_classes:Could not load AData\n"
       ]
      },
      {
       "output_type": "stream",
       "stream": "stderr",
       "text": [
        "WARNING:sarpy.io.Adata_classes:Need precisely one parameter file *json, found: []\n"
       ]
      },
      {
       "output_type": "stream",
       "stream": "stderr",
       "text": [
        "WARNING:sarpy.io.Adata_classes:Could not load AData\n"
       ]
      },
      {
       "output_type": "stream",
       "stream": "stderr",
       "text": [
        "WARNING:sarpy.io.Adata_classes:Need precisely one parameter file *json, found: []\n"
       ]
      },
      {
       "output_type": "stream",
       "stream": "stderr",
       "text": [
        "WARNING:sarpy.io.Adata_classes:Could not load AData\n"
       ]
      },
      {
       "output_type": "stream",
       "stream": "stderr",
       "text": [
        "WARNING:sarpy.io.Adata_classes:Need precisely one parameter file *json, found: []\n"
       ]
      },
      {
       "output_type": "stream",
       "stream": "stderr",
       "text": [
        "WARNING:sarpy.io.Adata_classes:Could not load AData\n"
       ]
      },
      {
       "output_type": "stream",
       "stream": "stderr",
       "text": [
        "WARNING:sarpy.io.Adata_classes:Need precisely one parameter file *json, found: []\n"
       ]
      },
      {
       "output_type": "stream",
       "stream": "stderr",
       "text": [
        "WARNING:sarpy.io.Adata_classes:Could not load AData\n"
       ]
      },
      {
       "output_type": "stream",
       "stream": "stderr",
       "text": [
        "WARNING:sarpy.io.Adata_classes:Need precisely one parameter file *json, found: []\n"
       ]
      },
      {
       "output_type": "stream",
       "stream": "stderr",
       "text": [
        "WARNING:sarpy.io.Adata_classes:Could not load AData\n"
       ]
      },
      {
       "output_type": "stream",
       "stream": "stderr",
       "text": [
        "WARNING:sarpy.io.Adata_classes:Need precisely one parameter file *json, found: []\n"
       ]
      },
      {
       "output_type": "stream",
       "stream": "stderr",
       "text": [
        "WARNING:sarpy.io.Adata_classes:Could not load AData\n"
       ]
      },
      {
       "output_type": "stream",
       "stream": "stderr",
       "text": [
        "WARNING:sarpy.io.Adata_classes:Need precisely one parameter file *json, found: []\n"
       ]
      },
      {
       "output_type": "stream",
       "stream": "stderr",
       "text": [
        "WARNING:sarpy.io.Adata_classes:Could not load AData\n"
       ]
      },
      {
       "output_type": "stream",
       "stream": "stderr",
       "text": [
        "WARNING:sarpy.io.Adata_classes:Need precisely one parameter file *json, found: []\n"
       ]
      },
      {
       "output_type": "stream",
       "stream": "stderr",
       "text": [
        "WARNING:sarpy.io.Adata_classes:Could not load AData\n"
       ]
      },
      {
       "output_type": "stream",
       "stream": "stderr",
       "text": [
        "WARNING:sarpy.io.Adata_classes:Need precisely one parameter file *json, found: []\n"
       ]
      },
      {
       "output_type": "stream",
       "stream": "stderr",
       "text": [
        "WARNING:sarpy.io.Adata_classes:Could not load AData\n"
       ]
      },
      {
       "output_type": "stream",
       "stream": "stderr",
       "text": [
        "WARNING:sarpy.io.Adata_classes:Need precisely one parameter file *json, found: []\n"
       ]
      },
      {
       "output_type": "stream",
       "stream": "stderr",
       "text": [
        "WARNING:sarpy.io.Adata_classes:Could not load AData\n"
       ]
      },
      {
       "output_type": "stream",
       "stream": "stderr",
       "text": [
        "WARNING:sarpy.io.Adata_classes:Need precisely one parameter file *json, found: []\n"
       ]
      },
      {
       "output_type": "stream",
       "stream": "stderr",
       "text": [
        "WARNING:sarpy.io.Adata_classes:Could not load AData\n"
       ]
      },
      {
       "output_type": "stream",
       "stream": "stderr",
       "text": [
        "WARNING:sarpy.io.Adata_classes:Need precisely one parameter file *json, found: []\n"
       ]
      },
      {
       "output_type": "stream",
       "stream": "stderr",
       "text": [
        "WARNING:sarpy.io.Adata_classes:Could not load AData\n"
       ]
      },
      {
       "output_type": "stream",
       "stream": "stderr",
       "text": [
        "WARNING:sarpy.io.Adata_classes:Need precisely one parameter file *json, found: []\n"
       ]
      },
      {
       "output_type": "stream",
       "stream": "stderr",
       "text": [
        "WARNING:sarpy.io.Adata_classes:Could not load AData\n"
       ]
      },
      {
       "output_type": "stream",
       "stream": "stderr",
       "text": [
        "WARNING:sarpy.io.Adata_classes:Need precisely one parameter file *json, found: []\n"
       ]
      },
      {
       "output_type": "stream",
       "stream": "stderr",
       "text": [
        "WARNING:sarpy.io.Adata_classes:Could not load AData\n"
       ]
      },
      {
       "output_type": "stream",
       "stream": "stderr",
       "text": [
        "WARNING:sarpy.io.Adata_classes:Need precisely one parameter file *json, found: []\n"
       ]
      },
      {
       "output_type": "stream",
       "stream": "stderr",
       "text": [
        "WARNING:sarpy.io.Adata_classes:Could not load AData\n"
       ]
      },
      {
       "output_type": "stream",
       "stream": "stderr",
       "text": [
        "WARNING:sarpy.io.Adata_classes:Need precisely one parameter file *json, found: []\n"
       ]
      },
      {
       "output_type": "stream",
       "stream": "stderr",
       "text": [
        "WARNING:sarpy.io.Adata_classes:Could not load AData\n"
       ]
      },
      {
       "output_type": "stream",
       "stream": "stderr",
       "text": [
        "WARNING:sarpy.io.Adata_classes:Need precisely one parameter file *json, found: []\n"
       ]
      },
      {
       "output_type": "stream",
       "stream": "stderr",
       "text": [
        "WARNING:sarpy.io.Adata_classes:Could not load AData\n"
       ]
      },
      {
       "output_type": "stream",
       "stream": "stderr",
       "text": [
        "WARNING:sarpy.io.Adata_classes:Need precisely one parameter file *json, found: []\n"
       ]
      },
      {
       "output_type": "stream",
       "stream": "stderr",
       "text": [
        "WARNING:sarpy.io.Adata_classes:Could not load AData\n"
       ]
      },
      {
       "output_type": "stream",
       "stream": "stderr",
       "text": [
        "WARNING:sarpy.io.Adata_classes:Need precisely one parameter file *json, found: []\n"
       ]
      },
      {
       "output_type": "stream",
       "stream": "stderr",
       "text": [
        "WARNING:sarpy.io.Adata_classes:Could not load AData\n"
       ]
      },
      {
       "output_type": "stream",
       "stream": "stderr",
       "text": [
        "WARNING:sarpy.io.Adata_classes:Need precisely one parameter file *json, found: []\n"
       ]
      },
      {
       "output_type": "stream",
       "stream": "stderr",
       "text": [
        "WARNING:sarpy.io.Adata_classes:Could not load AData\n"
       ]
      },
      {
       "output_type": "stream",
       "stream": "stderr",
       "text": [
        "WARNING:sarpy.io.Adata_classes:Need precisely one parameter file *json, found: []\n"
       ]
      },
      {
       "output_type": "stream",
       "stream": "stderr",
       "text": [
        "WARNING:sarpy.io.Adata_classes:Could not load AData\n"
       ]
      },
      {
       "output_type": "stream",
       "stream": "stderr",
       "text": [
        "WARNING:sarpy.io.Adata_classes:Need precisely one parameter file *json, found: []\n"
       ]
      },
      {
       "output_type": "stream",
       "stream": "stderr",
       "text": [
        "WARNING:sarpy.io.Adata_classes:Could not load AData\n"
       ]
      },
      {
       "output_type": "stream",
       "stream": "stderr",
       "text": [
        "WARNING:sarpy.io.Adata_classes:Need precisely one parameter file *json, found: []\n"
       ]
      },
      {
       "output_type": "stream",
       "stream": "stderr",
       "text": [
        "WARNING:sarpy.io.Adata_classes:Could not load AData\n"
       ]
      },
      {
       "output_type": "stream",
       "stream": "stderr",
       "text": [
        "WARNING:sarpy.io.Adata_classes:Need precisely one parameter file *json, found: []\n"
       ]
      },
      {
       "output_type": "stream",
       "stream": "stderr",
       "text": [
        "WARNING:sarpy.io.Adata_classes:Could not load AData\n"
       ]
      },
      {
       "output_type": "stream",
       "stream": "stderr",
       "text": [
        "WARNING:sarpy.io.Adata_classes:Need precisely one parameter file *json, found: []\n"
       ]
      },
      {
       "output_type": "stream",
       "stream": "stderr",
       "text": [
        "WARNING:sarpy.io.Adata_classes:Could not load AData\n"
       ]
      },
      {
       "output_type": "stream",
       "stream": "stderr",
       "text": [
        "WARNING:sarpy.io.Adata_classes:Need precisely one parameter file *json, found: []\n"
       ]
      },
      {
       "output_type": "stream",
       "stream": "stderr",
       "text": [
        "WARNING:sarpy.io.Adata_classes:Could not load AData\n"
       ]
      },
      {
       "output_type": "stream",
       "stream": "stderr",
       "text": [
        "WARNING:sarpy.io.Adata_classes:Need precisely one parameter file *json, found: []\n"
       ]
      },
      {
       "output_type": "stream",
       "stream": "stderr",
       "text": [
        "WARNING:sarpy.io.Adata_classes:Could not load AData\n"
       ]
      },
      {
       "output_type": "stream",
       "stream": "stderr",
       "text": [
        "WARNING:sarpy.io.Adata_classes:Need precisely one parameter file *json, found: []\n"
       ]
      },
      {
       "output_type": "stream",
       "stream": "stderr",
       "text": [
        "WARNING:sarpy.io.Adata_classes:Could not load AData\n"
       ]
      },
      {
       "output_type": "stream",
       "stream": "stderr",
       "text": [
        "WARNING:sarpy.io.Adata_classes:Need precisely one parameter file *json, found: []\n"
       ]
      },
      {
       "output_type": "stream",
       "stream": "stderr",
       "text": [
        "WARNING:sarpy.io.Adata_classes:Could not load AData\n"
       ]
      },
      {
       "output_type": "stream",
       "stream": "stderr",
       "text": [
        "WARNING:sarpy.io.Adata_classes:Need precisely one parameter file *json, found: []\n"
       ]
      },
      {
       "output_type": "stream",
       "stream": "stderr",
       "text": [
        "WARNING:sarpy.io.Adata_classes:Could not load AData\n"
       ]
      },
      {
       "output_type": "stream",
       "stream": "stderr",
       "text": [
        "WARNING:sarpy.io.Adata_classes:Need precisely one parameter file *json, found: []\n"
       ]
      },
      {
       "output_type": "stream",
       "stream": "stderr",
       "text": [
        "WARNING:sarpy.io.Adata_classes:Could not load AData\n"
       ]
      },
      {
       "output_type": "stream",
       "stream": "stderr",
       "text": [
        "WARNING:sarpy.io.Adata_classes:Need precisely one parameter file *json, found: []\n"
       ]
      },
      {
       "output_type": "stream",
       "stream": "stderr",
       "text": [
        "WARNING:sarpy.io.Adata_classes:Could not load AData\n"
       ]
      },
      {
       "output_type": "stream",
       "stream": "stderr",
       "text": [
        "WARNING:sarpy.io.Adata_classes:Need precisely one parameter file *json, found: []\n"
       ]
      },
      {
       "output_type": "stream",
       "stream": "stderr",
       "text": [
        "WARNING:sarpy.io.Adata_classes:Could not load AData\n"
       ]
      },
      {
       "output_type": "stream",
       "stream": "stderr",
       "text": [
        "WARNING:sarpy.io.Adata_classes:Need precisely one parameter file *json, found: []\n"
       ]
      },
      {
       "output_type": "stream",
       "stream": "stderr",
       "text": [
        "WARNING:sarpy.io.Adata_classes:Could not load AData\n"
       ]
      },
      {
       "output_type": "stream",
       "stream": "stderr",
       "text": [
        "WARNING:sarpy.io.Adata_classes:Need precisely one parameter file *json, found: []\n"
       ]
      },
      {
       "output_type": "stream",
       "stream": "stderr",
       "text": [
        "WARNING:sarpy.io.Adata_classes:Could not load AData\n"
       ]
      },
      {
       "output_type": "stream",
       "stream": "stderr",
       "text": [
        "WARNING:sarpy.io.Adata_classes:Need precisely one parameter file *json, found: []\n"
       ]
      },
      {
       "output_type": "stream",
       "stream": "stderr",
       "text": [
        "WARNING:sarpy.io.Adata_classes:Could not load AData\n"
       ]
      },
      {
       "output_type": "stream",
       "stream": "stderr",
       "text": [
        "WARNING:sarpy.io.Adata_classes:Need precisely one parameter file *json, found: []\n"
       ]
      },
      {
       "output_type": "stream",
       "stream": "stderr",
       "text": [
        "WARNING:sarpy.io.Adata_classes:Could not load AData\n"
       ]
      },
      {
       "output_type": "stream",
       "stream": "stderr",
       "text": [
        "WARNING:sarpy.io.Adata_classes:Need precisely one parameter file *json, found: []\n"
       ]
      },
      {
       "output_type": "stream",
       "stream": "stderr",
       "text": [
        "WARNING:sarpy.io.Adata_classes:Could not load AData\n"
       ]
      },
      {
       "output_type": "stream",
       "stream": "stderr",
       "text": [
        "WARNING:sarpy.io.Adata_classes:Need precisely one parameter file *json, found: []\n"
       ]
      },
      {
       "output_type": "stream",
       "stream": "stderr",
       "text": [
        "WARNING:sarpy.io.Adata_classes:Could not load AData\n"
       ]
      },
      {
       "output_type": "stream",
       "stream": "stderr",
       "text": [
        "WARNING:sarpy.io.Adata_classes:Need precisely one parameter file *json, found: []\n"
       ]
      },
      {
       "output_type": "stream",
       "stream": "stderr",
       "text": [
        "WARNING:sarpy.io.Adata_classes:Could not load AData\n"
       ]
      },
      {
       "output_type": "stream",
       "stream": "stderr",
       "text": [
        "WARNING:sarpy.io.Adata_classes:Need precisely one parameter file *json, found: []\n"
       ]
      },
      {
       "output_type": "stream",
       "stream": "stderr",
       "text": [
        "WARNING:sarpy.io.Adata_classes:Could not load AData\n"
       ]
      },
      {
       "output_type": "stream",
       "stream": "stderr",
       "text": [
        "WARNING:sarpy.io.Adata_classes:Need precisely one parameter file *json, found: []\n"
       ]
      },
      {
       "output_type": "stream",
       "stream": "stderr",
       "text": [
        "WARNING:sarpy.io.Adata_classes:Could not load AData\n"
       ]
      },
      {
       "output_type": "stream",
       "stream": "stderr",
       "text": [
        "WARNING:sarpy.io.Adata_classes:Need precisely one parameter file *json, found: []\n"
       ]
      },
      {
       "output_type": "stream",
       "stream": "stderr",
       "text": [
        "WARNING:sarpy.io.Adata_classes:Could not load AData\n"
       ]
      },
      {
       "output_type": "stream",
       "stream": "stderr",
       "text": [
        "WARNING:sarpy.io.Adata_classes:Need precisely one parameter file *json, found: []\n"
       ]
      },
      {
       "output_type": "stream",
       "stream": "stderr",
       "text": [
        "WARNING:sarpy.io.Adata_classes:Could not load AData\n"
       ]
      },
      {
       "output_type": "stream",
       "stream": "stderr",
       "text": [
        "WARNING:sarpy.io.Adata_classes:Need precisely one parameter file *json, found: []\n"
       ]
      },
      {
       "output_type": "stream",
       "stream": "stderr",
       "text": [
        "WARNING:sarpy.io.Adata_classes:Could not load AData\n"
       ]
      },
      {
       "output_type": "stream",
       "stream": "stderr",
       "text": [
        "WARNING:sarpy.io.Adata_classes:Need precisely one parameter file *json, found: []\n"
       ]
      },
      {
       "output_type": "stream",
       "stream": "stderr",
       "text": [
        "WARNING:sarpy.io.Adata_classes:Could not load AData\n"
       ]
      },
      {
       "output_type": "stream",
       "stream": "stderr",
       "text": [
        "WARNING:sarpy.io.Adata_classes:Need precisely one parameter file *json, found: []\n"
       ]
      },
      {
       "output_type": "stream",
       "stream": "stderr",
       "text": [
        "WARNING:sarpy.io.Adata_classes:Could not load AData\n"
       ]
      },
      {
       "output_type": "stream",
       "stream": "stderr",
       "text": [
        "WARNING:sarpy.io.Adata_classes:Need precisely one parameter file *json, found: []\n"
       ]
      },
      {
       "output_type": "stream",
       "stream": "stderr",
       "text": [
        "WARNING:sarpy.io.Adata_classes:Could not load AData\n"
       ]
      },
      {
       "output_type": "stream",
       "stream": "stderr",
       "text": [
        "WARNING:sarpy.io.Adata_classes:Need precisely one parameter file *json, found: []\n"
       ]
      },
      {
       "output_type": "stream",
       "stream": "stderr",
       "text": [
        "WARNING:sarpy.io.Adata_classes:Could not load AData\n"
       ]
      },
      {
       "output_type": "stream",
       "stream": "stderr",
       "text": [
        "WARNING:sarpy.io.Adata_classes:Need precisely one parameter file *json, found: []\n"
       ]
      },
      {
       "output_type": "stream",
       "stream": "stderr",
       "text": [
        "WARNING:sarpy.io.Adata_classes:Could not load AData\n"
       ]
      },
      {
       "output_type": "stream",
       "stream": "stderr",
       "text": [
        "WARNING:sarpy.io.Adata_classes:Need precisely one parameter file *json, found: []\n"
       ]
      },
      {
       "output_type": "stream",
       "stream": "stderr",
       "text": [
        "WARNING:sarpy.io.Adata_classes:Could not load AData\n"
       ]
      },
      {
       "output_type": "stream",
       "stream": "stderr",
       "text": [
        "WARNING:sarpy.io.Adata_classes:Need precisely one parameter file *json, found: []\n"
       ]
      },
      {
       "output_type": "stream",
       "stream": "stderr",
       "text": [
        "WARNING:sarpy.io.Adata_classes:Could not load AData\n"
       ]
      },
      {
       "output_type": "stream",
       "stream": "stderr",
       "text": [
        "WARNING:sarpy.io.Adata_classes:Need precisely one parameter file *json, found: []\n"
       ]
      },
      {
       "output_type": "stream",
       "stream": "stderr",
       "text": [
        "WARNING:sarpy.io.Adata_classes:Could not load AData\n"
       ]
      },
      {
       "output_type": "stream",
       "stream": "stderr",
       "text": [
        "WARNING:sarpy.io.Adata_classes:Need precisely one parameter file *json, found: []\n"
       ]
      },
      {
       "output_type": "stream",
       "stream": "stderr",
       "text": [
        "WARNING:sarpy.io.Adata_classes:Could not load AData\n"
       ]
      },
      {
       "output_type": "stream",
       "stream": "stderr",
       "text": [
        "WARNING:sarpy.io.Adata_classes:Need precisely one parameter file *json, found: []\n"
       ]
      },
      {
       "output_type": "stream",
       "stream": "stderr",
       "text": [
        "WARNING:sarpy.io.Adata_classes:Could not load AData\n"
       ]
      },
      {
       "output_type": "stream",
       "stream": "stderr",
       "text": [
        "WARNING:sarpy.io.Adata_classes:Need precisely one parameter file *json, found: []\n"
       ]
      },
      {
       "output_type": "stream",
       "stream": "stderr",
       "text": [
        "WARNING:sarpy.io.Adata_classes:Could not load AData\n"
       ]
      },
      {
       "output_type": "stream",
       "stream": "stderr",
       "text": [
        "WARNING:sarpy.io.Adata_classes:Need precisely one parameter file *json, found: []\n"
       ]
      },
      {
       "output_type": "stream",
       "stream": "stderr",
       "text": [
        "WARNING:sarpy.io.Adata_classes:Could not load AData\n"
       ]
      },
      {
       "output_type": "stream",
       "stream": "stderr",
       "text": [
        "WARNING:sarpy.io.Adata_classes:Need precisely one parameter file *json, found: []\n"
       ]
      },
      {
       "output_type": "stream",
       "stream": "stderr",
       "text": [
        "WARNING:sarpy.io.Adata_classes:Could not load AData\n"
       ]
      },
      {
       "output_type": "stream",
       "stream": "stderr",
       "text": [
        "WARNING:sarpy.io.Adata_classes:Need precisely one parameter file *json, found: []\n"
       ]
      },
      {
       "output_type": "stream",
       "stream": "stderr",
       "text": [
        "WARNING:sarpy.io.Adata_classes:Could not load AData\n"
       ]
      },
      {
       "output_type": "stream",
       "stream": "stderr",
       "text": [
        "WARNING:sarpy.io.Adata_classes:Need precisely one parameter file *json, found: []\n"
       ]
      },
      {
       "output_type": "stream",
       "stream": "stderr",
       "text": [
        "WARNING:sarpy.io.Adata_classes:Could not load AData\n"
       ]
      },
      {
       "output_type": "stream",
       "stream": "stderr",
       "text": [
        "WARNING:sarpy.io.Adata_classes:Need precisely one parameter file *json, found: []\n"
       ]
      },
      {
       "output_type": "stream",
       "stream": "stderr",
       "text": [
        "WARNING:sarpy.io.Adata_classes:Could not load AData\n"
       ]
      },
      {
       "output_type": "stream",
       "stream": "stderr",
       "text": [
        "WARNING:sarpy.io.Adata_classes:Need precisely one parameter file *json, found: []\n"
       ]
      },
      {
       "output_type": "stream",
       "stream": "stderr",
       "text": [
        "WARNING:sarpy.io.Adata_classes:Could not load AData\n"
       ]
      },
      {
       "output_type": "stream",
       "stream": "stderr",
       "text": [
        "WARNING:sarpy.io.Adata_classes:Need precisely one parameter file *json, found: []\n"
       ]
      },
      {
       "output_type": "stream",
       "stream": "stderr",
       "text": [
        "WARNING:sarpy.io.Adata_classes:Could not load AData\n"
       ]
      },
      {
       "output_type": "stream",
       "stream": "stderr",
       "text": [
        "WARNING:sarpy.io.Adata_classes:Need precisely one parameter file *json, found: []\n"
       ]
      },
      {
       "output_type": "stream",
       "stream": "stderr",
       "text": [
        "WARNING:sarpy.io.Adata_classes:Could not load AData\n"
       ]
      },
      {
       "output_type": "stream",
       "stream": "stderr",
       "text": [
        "WARNING:sarpy.io.Adata_classes:Need precisely one parameter file *json, found: []\n"
       ]
      },
      {
       "output_type": "stream",
       "stream": "stderr",
       "text": [
        "WARNING:sarpy.io.Adata_classes:Could not load AData\n"
       ]
      },
      {
       "output_type": "stream",
       "stream": "stderr",
       "text": [
        "WARNING:sarpy.io.Adata_classes:Need precisely one parameter file *json, found: []\n"
       ]
      },
      {
       "output_type": "stream",
       "stream": "stderr",
       "text": [
        "WARNING:sarpy.io.Adata_classes:Could not load AData\n"
       ]
      },
      {
       "output_type": "stream",
       "stream": "stderr",
       "text": [
        "WARNING:sarpy.io.Adata_classes:Need precisely one parameter file *json, found: []\n"
       ]
      },
      {
       "output_type": "stream",
       "stream": "stderr",
       "text": [
        "WARNING:sarpy.io.Adata_classes:Could not load AData\n"
       ]
      },
      {
       "output_type": "stream",
       "stream": "stderr",
       "text": [
        "WARNING:sarpy.io.Adata_classes:Need precisely one parameter file *json, found: []\n"
       ]
      },
      {
       "output_type": "stream",
       "stream": "stderr",
       "text": [
        "WARNING:sarpy.io.Adata_classes:Could not load AData\n"
       ]
      },
      {
       "output_type": "stream",
       "stream": "stderr",
       "text": [
        "WARNING:sarpy.io.Adata_classes:Need precisely one parameter file *json, found: []\n"
       ]
      },
      {
       "output_type": "stream",
       "stream": "stderr",
       "text": [
        "WARNING:sarpy.io.Adata_classes:Could not load AData\n"
       ]
      },
      {
       "output_type": "stream",
       "stream": "stderr",
       "text": [
        "WARNING:sarpy.io.Adata_classes:Need precisely one parameter file *json, found: []\n"
       ]
      },
      {
       "output_type": "stream",
       "stream": "stderr",
       "text": [
        "WARNING:sarpy.io.Adata_classes:Could not load AData\n"
       ]
      },
      {
       "output_type": "stream",
       "stream": "stderr",
       "text": [
        "WARNING:sarpy.io.Adata_classes:Need precisely one parameter file *json, found: []\n"
       ]
      },
      {
       "output_type": "stream",
       "stream": "stderr",
       "text": [
        "WARNING:sarpy.io.Adata_classes:Could not load AData\n"
       ]
      },
      {
       "output_type": "stream",
       "stream": "stderr",
       "text": [
        "WARNING:sarpy.io.Adata_classes:Need precisely one parameter file *json, found: []\n"
       ]
      },
      {
       "output_type": "stream",
       "stream": "stderr",
       "text": [
        "WARNING:sarpy.io.Adata_classes:Could not load AData\n"
       ]
      },
      {
       "output_type": "stream",
       "stream": "stderr",
       "text": [
        "WARNING:sarpy.io.Adata_classes:Need precisely one parameter file *json, found: []\n"
       ]
      },
      {
       "output_type": "stream",
       "stream": "stderr",
       "text": [
        "WARNING:sarpy.io.Adata_classes:Could not load AData\n"
       ]
      },
      {
       "output_type": "stream",
       "stream": "stderr",
       "text": [
        "WARNING:sarpy.io.Adata_classes:Need precisely one parameter file *json, found: []\n"
       ]
      },
      {
       "output_type": "stream",
       "stream": "stderr",
       "text": [
        "WARNING:sarpy.io.Adata_classes:Could not load AData\n"
       ]
      },
      {
       "output_type": "stream",
       "stream": "stderr",
       "text": [
        "WARNING:sarpy.io.Adata_classes:Need precisely one parameter file *json, found: []\n"
       ]
      },
      {
       "output_type": "stream",
       "stream": "stderr",
       "text": [
        "WARNING:sarpy.io.Adata_classes:Could not load AData\n"
       ]
      },
      {
       "output_type": "stream",
       "stream": "stderr",
       "text": [
        "WARNING:sarpy.io.Adata_classes:Need precisely one parameter file *json, found: []\n"
       ]
      },
      {
       "output_type": "stream",
       "stream": "stderr",
       "text": [
        "WARNING:sarpy.io.Adata_classes:Could not load AData\n"
       ]
      },
      {
       "output_type": "stream",
       "stream": "stderr",
       "text": [
        "WARNING:sarpy.io.Adata_classes:Need precisely one parameter file *json, found: []\n"
       ]
      },
      {
       "output_type": "stream",
       "stream": "stderr",
       "text": [
        "WARNING:sarpy.io.Adata_classes:Could not load AData\n"
       ]
      },
      {
       "output_type": "stream",
       "stream": "stderr",
       "text": [
        "WARNING:sarpy.io.Adata_classes:Need precisely one parameter file *json, found: []\n"
       ]
      },
      {
       "output_type": "stream",
       "stream": "stderr",
       "text": [
        "WARNING:sarpy.io.Adata_classes:Could not load AData\n"
       ]
      },
      {
       "output_type": "stream",
       "stream": "stderr",
       "text": [
        "WARNING:sarpy.io.Adata_classes:Need precisely one parameter file *json, found: []\n"
       ]
      },
      {
       "output_type": "stream",
       "stream": "stderr",
       "text": [
        "WARNING:sarpy.io.Adata_classes:Could not load AData\n"
       ]
      },
      {
       "output_type": "stream",
       "stream": "stderr",
       "text": [
        "WARNING:sarpy.io.Adata_classes:Need precisely one parameter file *json, found: []\n"
       ]
      },
      {
       "output_type": "stream",
       "stream": "stderr",
       "text": [
        "WARNING:sarpy.io.Adata_classes:Could not load AData\n"
       ]
      },
      {
       "output_type": "stream",
       "stream": "stderr",
       "text": [
        "WARNING:sarpy.io.Adata_classes:Need precisely one parameter file *json, found: []\n"
       ]
      },
      {
       "output_type": "stream",
       "stream": "stderr",
       "text": [
        "WARNING:sarpy.io.Adata_classes:Could not load AData\n"
       ]
      },
      {
       "output_type": "stream",
       "stream": "stderr",
       "text": [
        "WARNING:sarpy.io.Adata_classes:Need precisely one parameter file *json, found: []\n"
       ]
      },
      {
       "output_type": "stream",
       "stream": "stderr",
       "text": [
        "WARNING:sarpy.io.Adata_classes:Could not load AData\n"
       ]
      },
      {
       "output_type": "stream",
       "stream": "stderr",
       "text": [
        "WARNING:sarpy.io.Adata_classes:Need precisely one parameter file *json, found: []\n"
       ]
      },
      {
       "output_type": "stream",
       "stream": "stderr",
       "text": [
        "WARNING:sarpy.io.Adata_classes:Could not load AData\n"
       ]
      },
      {
       "output_type": "stream",
       "stream": "stderr",
       "text": [
        "WARNING:sarpy.io.Adata_classes:Need precisely one parameter file *json, found: []\n"
       ]
      },
      {
       "output_type": "stream",
       "stream": "stderr",
       "text": [
        "WARNING:sarpy.io.Adata_classes:Could not load AData\n"
       ]
      },
      {
       "output_type": "stream",
       "stream": "stderr",
       "text": [
        "WARNING:sarpy.io.Adata_classes:Need precisely one parameter file *json, found: []\n"
       ]
      },
      {
       "output_type": "stream",
       "stream": "stderr",
       "text": [
        "WARNING:sarpy.io.Adata_classes:Could not load AData\n"
       ]
      },
      {
       "output_type": "stream",
       "stream": "stderr",
       "text": [
        "WARNING:sarpy.io.Adata_classes:Need precisely one parameter file *json, found: []\n"
       ]
      },
      {
       "output_type": "stream",
       "stream": "stderr",
       "text": [
        "WARNING:sarpy.io.Adata_classes:Could not load AData\n"
       ]
      },
      {
       "output_type": "stream",
       "stream": "stderr",
       "text": [
        "WARNING:sarpy.io.Adata_classes:Need precisely one parameter file *json, found: []\n"
       ]
      },
      {
       "output_type": "stream",
       "stream": "stderr",
       "text": [
        "WARNING:sarpy.io.Adata_classes:Could not load AData\n"
       ]
      },
      {
       "output_type": "stream",
       "stream": "stderr",
       "text": [
        "WARNING:sarpy.io.Adata_classes:Need precisely one parameter file *json, found: []\n"
       ]
      },
      {
       "output_type": "stream",
       "stream": "stderr",
       "text": [
        "WARNING:sarpy.io.Adata_classes:Could not load AData\n"
       ]
      },
      {
       "output_type": "stream",
       "stream": "stderr",
       "text": [
        "WARNING:sarpy.io.Adata_classes:Need precisely one parameter file *json, found: []\n"
       ]
      },
      {
       "output_type": "stream",
       "stream": "stderr",
       "text": [
        "WARNING:sarpy.io.Adata_classes:Could not load AData\n"
       ]
      },
      {
       "output_type": "stream",
       "stream": "stderr",
       "text": [
        "WARNING:sarpy.io.Adata_classes:Need precisely one parameter file *json, found: []\n"
       ]
      },
      {
       "output_type": "stream",
       "stream": "stderr",
       "text": [
        "WARNING:sarpy.io.Adata_classes:Could not load AData\n"
       ]
      },
      {
       "output_type": "stream",
       "stream": "stderr",
       "text": [
        "WARNING:sarpy.io.Adata_classes:Need precisely one parameter file *json, found: []\n"
       ]
      },
      {
       "output_type": "stream",
       "stream": "stderr",
       "text": [
        "WARNING:sarpy.io.Adata_classes:Could not load AData\n"
       ]
      },
      {
       "output_type": "stream",
       "stream": "stderr",
       "text": [
        "WARNING:sarpy.io.Adata_classes:Need precisely one parameter file *json, found: []\n"
       ]
      },
      {
       "output_type": "stream",
       "stream": "stderr",
       "text": [
        "WARNING:sarpy.io.Adata_classes:Could not load AData\n"
       ]
      },
      {
       "output_type": "stream",
       "stream": "stderr",
       "text": [
        "WARNING:sarpy.io.Adata_classes:Need precisely one parameter file *json, found: []\n"
       ]
      },
      {
       "output_type": "stream",
       "stream": "stderr",
       "text": [
        "WARNING:sarpy.io.Adata_classes:Could not load AData\n"
       ]
      },
      {
       "output_type": "stream",
       "stream": "stderr",
       "text": [
        "WARNING:sarpy.io.Adata_classes:Need precisely one parameter file *json, found: []\n"
       ]
      },
      {
       "output_type": "stream",
       "stream": "stderr",
       "text": [
        "WARNING:sarpy.io.Adata_classes:Could not load AData\n"
       ]
      },
      {
       "output_type": "stream",
       "stream": "stderr",
       "text": [
        "WARNING:sarpy.io.Adata_classes:Need precisely one parameter file *json, found: []\n"
       ]
      },
      {
       "output_type": "stream",
       "stream": "stderr",
       "text": [
        "WARNING:sarpy.io.Adata_classes:Could not load AData\n"
       ]
      },
      {
       "output_type": "stream",
       "stream": "stderr",
       "text": [
        "WARNING:sarpy.io.Adata_classes:Need precisely one parameter file *json, found: []\n"
       ]
      },
      {
       "output_type": "stream",
       "stream": "stderr",
       "text": [
        "WARNING:sarpy.io.Adata_classes:Could not load AData\n"
       ]
      },
      {
       "output_type": "stream",
       "stream": "stderr",
       "text": [
        "WARNING:sarpy.io.Adata_classes:Need precisely one parameter file *json, found: []\n"
       ]
      },
      {
       "output_type": "stream",
       "stream": "stderr",
       "text": [
        "WARNING:sarpy.io.Adata_classes:Could not load AData\n"
       ]
      },
      {
       "output_type": "stream",
       "stream": "stderr",
       "text": [
        "WARNING:sarpy.io.Adata_classes:Need precisely one parameter file *json, found: []\n"
       ]
      },
      {
       "output_type": "stream",
       "stream": "stderr",
       "text": [
        "WARNING:sarpy.io.Adata_classes:Could not load AData\n"
       ]
      },
      {
       "output_type": "stream",
       "stream": "stderr",
       "text": [
        "WARNING:sarpy.io.Adata_classes:Need precisely one parameter file *json, found: []\n"
       ]
      },
      {
       "output_type": "stream",
       "stream": "stderr",
       "text": [
        "WARNING:sarpy.io.Adata_classes:Could not load AData\n"
       ]
      },
      {
       "output_type": "stream",
       "stream": "stderr",
       "text": [
        "WARNING:sarpy.io.Adata_classes:Need precisely one parameter file *json, found: []\n"
       ]
      },
      {
       "output_type": "stream",
       "stream": "stderr",
       "text": [
        "WARNING:sarpy.io.Adata_classes:Could not load AData\n"
       ]
      },
      {
       "output_type": "stream",
       "stream": "stderr",
       "text": [
        "WARNING:sarpy.io.Adata_classes:Need precisely one parameter file *json, found: []\n"
       ]
      },
      {
       "output_type": "stream",
       "stream": "stderr",
       "text": [
        "WARNING:sarpy.io.Adata_classes:Could not load AData\n"
       ]
      },
      {
       "output_type": "stream",
       "stream": "stderr",
       "text": [
        "WARNING:sarpy.io.Adata_classes:Need precisely one parameter file *json, found: []\n"
       ]
      },
      {
       "output_type": "stream",
       "stream": "stderr",
       "text": [
        "WARNING:sarpy.io.Adata_classes:Could not load AData\n"
       ]
      },
      {
       "output_type": "stream",
       "stream": "stderr",
       "text": [
        "WARNING:sarpy.io.Adata_classes:Need precisely one parameter file *json, found: []\n"
       ]
      },
      {
       "output_type": "stream",
       "stream": "stderr",
       "text": [
        "WARNING:sarpy.io.Adata_classes:Could not load AData\n"
       ]
      },
      {
       "output_type": "stream",
       "stream": "stderr",
       "text": [
        "WARNING:sarpy.io.Adata_classes:Need precisely one parameter file *json, found: []\n"
       ]
      },
      {
       "output_type": "stream",
       "stream": "stderr",
       "text": [
        "WARNING:sarpy.io.Adata_classes:Could not load AData\n"
       ]
      },
      {
       "output_type": "stream",
       "stream": "stderr",
       "text": [
        "WARNING:sarpy.io.Adata_classes:Need precisely one parameter file *json, found: []\n"
       ]
      },
      {
       "output_type": "stream",
       "stream": "stderr",
       "text": [
        "WARNING:sarpy.io.Adata_classes:Could not load AData\n"
       ]
      },
      {
       "output_type": "stream",
       "stream": "stderr",
       "text": [
        "WARNING:sarpy.io.Adata_classes:Need precisely one parameter file *json, found: []\n"
       ]
      },
      {
       "output_type": "stream",
       "stream": "stderr",
       "text": [
        "WARNING:sarpy.io.Adata_classes:Could not load AData\n"
       ]
      },
      {
       "output_type": "stream",
       "stream": "stderr",
       "text": [
        "WARNING:sarpy.io.Adata_classes:Need precisely one parameter file *json, found: []\n"
       ]
      },
      {
       "output_type": "stream",
       "stream": "stderr",
       "text": [
        "WARNING:sarpy.io.Adata_classes:Could not load AData\n"
       ]
      },
      {
       "output_type": "stream",
       "stream": "stderr",
       "text": [
        "WARNING:sarpy.io.Adata_classes:Need precisely one parameter file *json, found: []\n"
       ]
      },
      {
       "output_type": "stream",
       "stream": "stderr",
       "text": [
        "WARNING:sarpy.io.Adata_classes:Could not load AData\n"
       ]
      },
      {
       "output_type": "stream",
       "stream": "stderr",
       "text": [
        "WARNING:sarpy.io.Adata_classes:Need precisely one parameter file *json, found: []\n"
       ]
      },
      {
       "output_type": "stream",
       "stream": "stderr",
       "text": [
        "WARNING:sarpy.io.Adata_classes:Could not load AData\n"
       ]
      },
      {
       "output_type": "stream",
       "stream": "stderr",
       "text": [
        "WARNING:sarpy.io.Adata_classes:Need precisely one parameter file *json, found: []\n"
       ]
      },
      {
       "output_type": "stream",
       "stream": "stderr",
       "text": [
        "WARNING:sarpy.io.Adata_classes:Could not load AData\n"
       ]
      },
      {
       "output_type": "stream",
       "stream": "stderr",
       "text": [
        "WARNING:sarpy.io.Adata_classes:Need precisely one parameter file *json, found: []\n"
       ]
      },
      {
       "output_type": "stream",
       "stream": "stderr",
       "text": [
        "WARNING:sarpy.io.Adata_classes:Could not load AData\n"
       ]
      },
      {
       "output_type": "stream",
       "stream": "stderr",
       "text": [
        "WARNING:sarpy.io.Adata_classes:Need precisely one parameter file *json, found: []\n"
       ]
      },
      {
       "output_type": "stream",
       "stream": "stderr",
       "text": [
        "WARNING:sarpy.io.Adata_classes:Could not load AData\n"
       ]
      },
      {
       "output_type": "stream",
       "stream": "stderr",
       "text": [
        "WARNING:sarpy.io.Adata_classes:Need precisely one parameter file *json, found: []\n"
       ]
      },
      {
       "output_type": "stream",
       "stream": "stderr",
       "text": [
        "WARNING:sarpy.io.Adata_classes:Could not load AData\n"
       ]
      },
      {
       "output_type": "stream",
       "stream": "stderr",
       "text": [
        "WARNING:sarpy.io.Adata_classes:Need precisely one parameter file *json, found: []\n"
       ]
      },
      {
       "output_type": "stream",
       "stream": "stderr",
       "text": [
        "WARNING:sarpy.io.Adata_classes:Could not load AData\n"
       ]
      },
      {
       "output_type": "stream",
       "stream": "stderr",
       "text": [
        "WARNING:sarpy.io.Adata_classes:Need precisely one parameter file *json, found: []\n"
       ]
      },
      {
       "output_type": "stream",
       "stream": "stderr",
       "text": [
        "WARNING:sarpy.io.Adata_classes:Could not load AData\n"
       ]
      },
      {
       "output_type": "stream",
       "stream": "stderr",
       "text": [
        "WARNING:sarpy.io.Adata_classes:Need precisely one parameter file *json, found: []\n"
       ]
      },
      {
       "output_type": "stream",
       "stream": "stderr",
       "text": [
        "WARNING:sarpy.io.Adata_classes:Could not load AData\n"
       ]
      },
      {
       "output_type": "stream",
       "stream": "stderr",
       "text": [
        "WARNING:sarpy.io.Adata_classes:Need precisely one parameter file *json, found: []\n"
       ]
      },
      {
       "output_type": "stream",
       "stream": "stderr",
       "text": [
        "WARNING:sarpy.io.Adata_classes:Could not load AData\n"
       ]
      },
      {
       "output_type": "stream",
       "stream": "stderr",
       "text": [
        "WARNING:sarpy.io.Adata_classes:Need precisely one parameter file *json, found: []\n"
       ]
      },
      {
       "output_type": "stream",
       "stream": "stderr",
       "text": [
        "WARNING:sarpy.io.Adata_classes:Could not load AData\n"
       ]
      },
      {
       "output_type": "stream",
       "stream": "stdout",
       "text": [
        "\n",
        "bulk_transfer_roi: augc60 not found in study NecS1Hs08.hk1"
       ]
      },
      {
       "output_type": "stream",
       "stream": "stdout",
       "text": [
        "\n",
        "Firas: you really need to fix this function so it uses the masterlist\n"
       ]
      }
     ],
     "prompt_number": 8
    },
    {
     "cell_type": "code",
     "collapsed": false,
     "input": [
      "print(datetime.now()-startTime)"
     ],
     "language": "python",
     "metadata": {},
     "outputs": [
      {
       "output_type": "stream",
       "stream": "stdout",
       "text": [
        "2:16:30.996397\n"
       ]
      }
     ],
     "prompt_number": 9
    },
    {
     "cell_type": "markdown",
     "metadata": {},
     "source": [
      "## Step 6: Averages"
     ]
    },
    {
     "cell_type": "code",
     "collapsed": false,
     "input": [
      "## T1 average\n",
      "\n",
      "data_label = ['0h-LL','24h-LL','48h-LL']\n",
      "adata_label = 'T1map_LL'\n",
      "roi_label = 'T1map_LL_roi'\n",
      "analysis_label = 'T1avg'\n",
      "fFlag = True\n",
      "\n",
      "for s in data_label:\n",
      "    sarpy.fmoosvi.wrappers.roi_average(masterlist,s, adata_label, roi_label,analysis_label,fFlag)"
     ],
     "language": "python",
     "metadata": {},
     "outputs": [
      {
       "output_type": "stream",
       "stream": "stdout",
       "text": [
        "deleting item T1avg\n",
        "T1avg: Success. Saved NecS1Hs02.hi1/6"
       ]
      },
      {
       "output_type": "stream",
       "stream": "stdout",
       "text": [
        "\n",
        "deleting item T1avg"
       ]
      },
      {
       "output_type": "stream",
       "stream": "stdout",
       "text": [
        "\n",
        "T1avg: Success. Saved NecS1Hs03.hi1/6"
       ]
      },
      {
       "output_type": "stream",
       "stream": "stdout",
       "text": [
        "\n",
        "deleting item T1avg"
       ]
      },
      {
       "output_type": "stream",
       "stream": "stdout",
       "text": [
        "\n",
        "T1avg: Success. Saved NecS1Hs05.hi1/6"
       ]
      },
      {
       "output_type": "stream",
       "stream": "stdout",
       "text": [
        "\n",
        "deleting item T1avg"
       ]
      },
      {
       "output_type": "stream",
       "stream": "stdout",
       "text": [
        "\n",
        "T1avg: Success. Saved NecS1Hs06.hi1/6"
       ]
      },
      {
       "output_type": "stream",
       "stream": "stdout",
       "text": [
        "\n",
        "deleting item T1avg"
       ]
      },
      {
       "output_type": "stream",
       "stream": "stdout",
       "text": [
        "\n",
        "T1avg: Success. Saved NecS1Hs08.hi1/6"
       ]
      },
      {
       "output_type": "stream",
       "stream": "stdout",
       "text": [
        "\n",
        "deleting item T1avg"
       ]
      },
      {
       "output_type": "stream",
       "stream": "stdout",
       "text": [
        "\n",
        "T1avg: Success. Saved NecS1Hs02.hj1/6"
       ]
      },
      {
       "output_type": "stream",
       "stream": "stdout",
       "text": [
        "\n",
        "deleting item T1avg"
       ]
      },
      {
       "output_type": "stream",
       "stream": "stdout",
       "text": [
        "\n",
        "T1avg: Success. Saved NecS1Hs03.hj1/7"
       ]
      },
      {
       "output_type": "stream",
       "stream": "stdout",
       "text": [
        "\n",
        "deleting item T1avg"
       ]
      },
      {
       "output_type": "stream",
       "stream": "stdout",
       "text": [
        "\n",
        "T1avg: Success. Saved NecS1Hs05.hj1/8"
       ]
      },
      {
       "output_type": "stream",
       "stream": "stdout",
       "text": [
        "\n",
        "deleting item T1avg"
       ]
      },
      {
       "output_type": "stream",
       "stream": "stdout",
       "text": [
        "\n",
        "T1avg: Success. Saved NecS1Hs06.hj1/6"
       ]
      },
      {
       "output_type": "stream",
       "stream": "stdout",
       "text": [
        "\n",
        "deleting item T1avg"
       ]
      },
      {
       "output_type": "stream",
       "stream": "stdout",
       "text": [
        "\n",
        "T1avg: Success. Saved NecS1Hs08.hj1/4"
       ]
      },
      {
       "output_type": "stream",
       "stream": "stdout",
       "text": [
        "\n",
        "deleting item T1avg"
       ]
      },
      {
       "output_type": "stream",
       "stream": "stdout",
       "text": [
        "\n",
        "T1avg: Success. Saved NecS1Hs02.hk1/6"
       ]
      },
      {
       "output_type": "stream",
       "stream": "stdout",
       "text": [
        "\n",
        "deleting item T1avg"
       ]
      },
      {
       "output_type": "stream",
       "stream": "stdout",
       "text": [
        "\n",
        "T1avg: Success. Saved NecS1Hs03.hk1/6"
       ]
      },
      {
       "output_type": "stream",
       "stream": "stdout",
       "text": [
        "\n",
        "deleting item T1avg"
       ]
      },
      {
       "output_type": "stream",
       "stream": "stdout",
       "text": [
        "\n",
        "T1avg: Success. Saved NecS1Hs05.hk1/6"
       ]
      },
      {
       "output_type": "stream",
       "stream": "stdout",
       "text": [
        "\n",
        "deleting item T1avg"
       ]
      },
      {
       "output_type": "stream",
       "stream": "stdout",
       "text": [
        "\n",
        "T1avg: Success. Saved NecS1Hs06.hk1/9"
       ]
      },
      {
       "output_type": "stream",
       "stream": "stdout",
       "text": [
        "\n",
        "deleting item T1avg"
       ]
      },
      {
       "output_type": "stream",
       "stream": "stdout",
       "text": [
        "\n",
        "T1avg: Success. Saved NecS1Hs08.hk1/7"
       ]
      },
      {
       "output_type": "stream",
       "stream": "stdout",
       "text": [
        "\n"
       ]
      },
      {
       "output_type": "stream",
       "stream": "stderr",
       "text": [
        "/Library/Python/2.7/site-packages/scipy-0.13.0.dev_c31f167_20130514-py2.7-macosx-10.8-intel.egg/scipy/stats/stats.py:346: RuntimeWarning: invalid value encountered in double_scalars\n",
        "  return np.mean(x,axis)/factor\n"
       ]
      }
     ],
     "prompt_number": 4
    },
    {
     "cell_type": "code",
     "collapsed": false,
     "input": [
      "## AUC60\n",
      "\n",
      "data_label = ['24h-DCE1']\n",
      "adata_label = 'auc60'\n",
      "roi_label = 'auc60_roi'\n",
      "analysis_label = 'auc60avg'\n",
      "fFlag = True\n",
      "\n",
      "for s in data_label:\n",
      "    sarpy.fmoosvi.wrappers.roi_average(masterlist,s, adata_label, roi_label,analysis_label,fFlag)"
     ],
     "language": "python",
     "metadata": {},
     "outputs": [
      {
       "output_type": "stream",
       "stream": "stdout",
       "text": [
        "deleting item auc60avg\n",
        "auc60avg: Success. Saved NecS1Hs02.hj1/8"
       ]
      },
      {
       "output_type": "stream",
       "stream": "stdout",
       "text": [
        "\n",
        "deleting item auc60avg"
       ]
      },
      {
       "output_type": "stream",
       "stream": "stdout",
       "text": [
        "\n",
        "auc60avg: Success. Saved NecS1Hs03.hj1/9"
       ]
      },
      {
       "output_type": "stream",
       "stream": "stdout",
       "text": [
        "\n",
        "deleting item auc60avg"
       ]
      },
      {
       "output_type": "stream",
       "stream": "stdout",
       "text": [
        "\n",
        "auc60avg: Success. Saved NecS1Hs05.hj1/10"
       ]
      },
      {
       "output_type": "stream",
       "stream": "stdout",
       "text": [
        "\n",
        "deleting item auc60avg"
       ]
      },
      {
       "output_type": "stream",
       "stream": "stdout",
       "text": [
        "\n",
        "auc60avg: Success. Saved NecS1Hs06.hj1/8"
       ]
      },
      {
       "output_type": "stream",
       "stream": "stdout",
       "text": [
        "\n",
        "deleting item auc60avg"
       ]
      },
      {
       "output_type": "stream",
       "stream": "stdout",
       "text": [
        "\n",
        "auc60avg: Success. Saved NecS1Hs08.hj1/6"
       ]
      },
      {
       "output_type": "stream",
       "stream": "stdout",
       "text": [
        "\n"
       ]
      }
     ],
     "prompt_number": 5
    },
    {
     "cell_type": "code",
     "collapsed": false,
     "input": [
      "## AUGC60\n",
      "\n",
      "data_label = ['24h-DCE1']\n",
      "adata_label = 'augc60'\n",
      "roi_label = 'augc60_roi'\n",
      "analysis_label = 'augc60avg'\n",
      "fFlag = True\n",
      "\n",
      "for s in data_label:\n",
      "    sarpy.fmoosvi.wrappers.roi_average(masterlist,s, adata_label, roi_label,analysis_label,fFlag)"
     ],
     "language": "python",
     "metadata": {},
     "outputs": [
      {
       "output_type": "stream",
       "stream": "stdout",
       "text": [
        "deleting item augc60avg\n",
        "augc60avg: Success. Saved NecS1Hs02.hj1/8"
       ]
      },
      {
       "output_type": "stream",
       "stream": "stdout",
       "text": [
        "\n",
        "deleting item augc60avg"
       ]
      },
      {
       "output_type": "stream",
       "stream": "stdout",
       "text": [
        "\n",
        "augc60avg: Success. Saved NecS1Hs03.hj1/9"
       ]
      },
      {
       "output_type": "stream",
       "stream": "stdout",
       "text": [
        "\n",
        "deleting item augc60avg"
       ]
      },
      {
       "output_type": "stream",
       "stream": "stdout",
       "text": [
        "\n",
        "augc60avg: Success. Saved NecS1Hs05.hj1/10"
       ]
      },
      {
       "output_type": "stream",
       "stream": "stdout",
       "text": [
        "\n",
        "deleting item augc60avg"
       ]
      },
      {
       "output_type": "stream",
       "stream": "stdout",
       "text": [
        "\n",
        "augc60avg: Success. Saved NecS1Hs06.hj1/8"
       ]
      },
      {
       "output_type": "stream",
       "stream": "stdout",
       "text": [
        "\n",
        "deleting item augc60avg"
       ]
      },
      {
       "output_type": "stream",
       "stream": "stdout",
       "text": [
        "\n",
        "augc60avg: Success. Saved NecS1Hs08.hj1/6"
       ]
      },
      {
       "output_type": "stream",
       "stream": "stdout",
       "text": [
        "\n"
       ]
      }
     ],
     "prompt_number": 6
    },
    {
     "cell_type": "markdown",
     "metadata": {},
     "source": [
      "### Export everything as as csv"
     ]
    },
    {
     "cell_type": "code",
     "collapsed": false,
     "input": [
      "import sarpy\n",
      "csv_list = []\n",
      "\n",
      "csv_list.append(['0h-LL','T1avg'])\n",
      "csv_list.append(['24h-LL','T1avg'])\n",
      "csv_list.append(['48h-LL','T1avg'])\n",
      "csv_list.append(['24h-DCE1','auc60avg'])\n",
      "csv_list.append(['24h-DCE1','augc60avg'])\n",
      "\n",
      "for it in csv_list:\n",
      "    \n",
      "    sarpy.io.write_csv.write_csv(masterlist,it[0],it[1])"
     ],
     "language": "python",
     "metadata": {},
     "outputs": [],
     "prompt_number": 7
    }
   ],
   "metadata": {}
  }
 ]
}