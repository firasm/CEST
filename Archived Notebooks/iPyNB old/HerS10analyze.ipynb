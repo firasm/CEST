{
 "metadata": {
  "name": ""
 },
 "nbformat": 3,
 "nbformat_minor": 0,
 "worksheets": [
  {
   "cells": [
    {
     "cell_type": "markdown",
     "metadata": {},
     "source": [
      "This is a template for analyzing various animals using the new python setup.\n",
      "\n",
      "Change the name of the experiment in Step 0, and then again the names of the labels in Step 4. This template requires that the masterlist be already created using generate_masterlist.py"
     ]
    },
    {
     "cell_type": "markdown",
     "metadata": {},
     "source": [
      "#### Set imports and define the experiment name"
     ]
    },
    {
     "cell_type": "code",
     "collapsed": false,
     "input": [
      "import sarpy\n",
      "import sarpy.fmoosvi.wrappers\n",
      "from datetime import datetime\n",
      "from collections import defaultdict\n",
      "import os\n",
      "import sys\n",
      "import errno\n",
      "reload(sarpy)\n",
      "\n",
      "startTime = datetime.now()"
     ],
     "language": "python",
     "metadata": {},
     "outputs": [],
     "prompt_number": 1
    },
    {
     "cell_type": "markdown",
     "metadata": {},
     "source": [
      "## Step 0 - Specify experiment name"
     ]
    },
    {
     "cell_type": "code",
     "collapsed": false,
     "input": [
      "masterlist = 'HerS10'\n",
      "path = os.path.join(os.path.expanduser('~'),'sdata',masterlist,'rois')\n",
      "\n",
      "# See if the rois directory exists, if it doesn't create it\n",
      "try:\n",
      "    os.makedirs(path)\n",
      "except OSError as exception:\n",
      "    if exception.errno != errno.EEXIST:\n",
      "        raise"
     ],
     "language": "python",
     "metadata": {},
     "outputs": [],
     "prompt_number": 2
    },
    {
     "cell_type": "markdown",
     "metadata": {},
     "source": [
      "## Step 1: Export ROIs"
     ]
    },
    {
     "cell_type": "code",
     "collapsed": false,
     "input": [
      "fFlag = False\n",
      "\n",
      "smart_label = []\n",
      "smart_label.append(['0h-roi','0h-',fFlag])\n",
      "smart_label.append(['24-roi','24h-',fFlag])\n",
      "\n",
      "\n",
      "# Scaled version\n",
      "\n",
      "mod = 5\n",
      "\n",
      "for sm in smart_label:\n",
      "    sarpy.io.generate_rois.generate_rois(\n",
      "                      masterlist,sm[0],'roi','export', path, std_modifier = mod,rescale=True, forceVal=sm[2])\n",
      "    \n",
      "# Unscaled version\n",
      "\n",
      "#for sm in smart_label:\n",
      "#    sarpy.io.generate_rois.generate_rois(\n",
      "#                      masterlist,sm[0],'roi','export', path, forceVal=sm[2])"
     ],
     "language": "python",
     "metadata": {},
     "outputs": [
      {
       "ename": "KeyError",
       "evalue": "'24-roi'",
       "output_type": "pyerr",
       "traceback": [
        "\u001b[0;31m---------------------------------------------------------------------------\u001b[0m\n\u001b[0;31mKeyError\u001b[0m                                  Traceback (most recent call last)",
        "\u001b[0;32m<ipython-input-12-0c49408a5f4e>\u001b[0m in \u001b[0;36m<module>\u001b[0;34m()\u001b[0m\n\u001b[1;32m     12\u001b[0m \u001b[0;32mfor\u001b[0m \u001b[0msm\u001b[0m \u001b[0;32min\u001b[0m \u001b[0msmart_label\u001b[0m\u001b[0;34m:\u001b[0m\u001b[0;34m\u001b[0m\u001b[0m\n\u001b[1;32m     13\u001b[0m     sarpy.io.generate_rois.generate_rois(\n\u001b[0;32m---> 14\u001b[0;31m                       masterlist,sm[0],'roi','export', path, std_modifier = mod,rescale=True, forceVal=sm[2])\n\u001b[0m\u001b[1;32m     15\u001b[0m \u001b[0;34m\u001b[0m\u001b[0m\n\u001b[1;32m     16\u001b[0m \u001b[0;31m# Unscaled version\u001b[0m\u001b[0;34m\u001b[0m\u001b[0;34m\u001b[0m\u001b[0m\n",
        "\u001b[0;32m/phd/Dropbox/code/python/sarpy/io/generate_rois.pyc\u001b[0m in \u001b[0;36mgenerate_rois\u001b[0;34m(masterlist_name, data_label, adata_label, ioType, path, rescale, std_modifier, peaks, forceVal)\u001b[0m\n\u001b[1;32m     39\u001b[0m \u001b[0;34m\u001b[0m\u001b[0m\n\u001b[1;32m     40\u001b[0m         \u001b[0;32mtry\u001b[0m\u001b[0;34m:\u001b[0m\u001b[0;34m\u001b[0m\u001b[0m\n\u001b[0;32m---> 41\u001b[0;31m             \u001b[0mscan\u001b[0m \u001b[0;34m=\u001b[0m \u001b[0msarpy\u001b[0m\u001b[0;34m.\u001b[0m\u001b[0mScan\u001b[0m\u001b[0;34m(\u001b[0m\u001b[0mv\u001b[0m\u001b[0;34m[\u001b[0m\u001b[0mdata_label\u001b[0m\u001b[0;34m]\u001b[0m\u001b[0;34m[\u001b[0m\u001b[0;36m0\u001b[0m\u001b[0;34m]\u001b[0m\u001b[0;34m)\u001b[0m\u001b[0;34m\u001b[0m\u001b[0m\n\u001b[0m\u001b[1;32m     42\u001b[0m \u001b[0;34m\u001b[0m\u001b[0m\n\u001b[1;32m     43\u001b[0m         \u001b[0;32mexcept\u001b[0m \u001b[0mIOError\u001b[0m\u001b[0;34m:\u001b[0m\u001b[0;34m\u001b[0m\u001b[0m\n",
        "\u001b[0;31mKeyError\u001b[0m: '24-roi'"
       ]
      },
      {
       "output_type": "stream",
       "stream": "stdout",
       "text": [
        "Nifti images were processed in /Users/fmoosvi/sdata/HerS10/rois\n"
       ]
      }
     ],
     "prompt_number": 12
    },
    {
     "cell_type": "markdown",
     "metadata": {},
     "source": [
      "Now go ahead and draw ROIs using ImageJ. When you're done, just rename the files with an a appended at the very end. For e.g., the source file _HerS2Mo01_10.nii_ will turn into _HerS2Mo01_10a.nii_ once the ROI is drawn"
     ]
    },
    {
     "cell_type": "markdown",
     "metadata": {},
     "source": [
      "## Step 2: Import the drawn ROIs back in as adata, update the bounding boxes"
     ]
    },
    {
     "cell_type": "code",
     "collapsed": false,
     "input": [
      "for sm in smart_label:\n",
      "    sarpy.io.generate_rois.generate_rois(masterlist,sm[0],'roi','import', path, sm[2])\n",
      "    sarpy.io.update_bbox.update_bbox(masterlist,sm[0],'roi',sm[1])\n",
      "\n",
      "sarpy.io.update_bbox.update_bbox(masterlist,smart_label[1][0],'roi')"
     ],
     "language": "python",
     "metadata": {},
     "outputs": [
      {
       "output_type": "stream",
       "stream": "stdout",
       "text": [
        "h_generate_roi: saved HerS7Ss01.fy1/4 roi label\n",
        "h_generate_roi: saved HerS7Ss02.fA1/3 roi label"
       ]
      },
      {
       "output_type": "stream",
       "stream": "stdout",
       "text": [
        "\n",
        "h_generate_roi: saved HerS7Ss03.fy1/6 roi label"
       ]
      },
      {
       "output_type": "stream",
       "stream": "stdout",
       "text": [
        "\n",
        "h_generate_roi: saved HerS7Ss03day2.fA1/3 roi label"
       ]
      },
      {
       "output_type": "stream",
       "stream": "stdout",
       "text": [
        "\n",
        "h_generate_roi: saved HerS7Ss04.fA1/4 roi label"
       ]
      },
      {
       "output_type": "stream",
       "stream": "stdout",
       "text": [
        "\n",
        "h_generate_roi: saved HerS7Ss05.fA2/5 roi label"
       ]
      },
      {
       "output_type": "stream",
       "stream": "stdout",
       "text": [
        "\n",
        "h_generate_roi: saved HerS7Ss06.fA1/4 roi label"
       ]
      },
      {
       "output_type": "stream",
       "stream": "stdout",
       "text": [
        "\n",
        "h_generate_roi: saved HerS7Ss07.fA2/4 roi label"
       ]
      },
      {
       "output_type": "stream",
       "stream": "stdout",
       "text": [
        "\n",
        "Nifti images were processed in /Users/fmoosvi/sdata/HerS7/rois\n",
        "update_bbox: Success, updated file is: HerS7_updated.json"
       ]
      },
      {
       "output_type": "stream",
       "stream": "stdout",
       "text": [
        "\n",
        "\n",
        " \n",
        " ** WARNING ** \n",
        " \n",
        " Not found: HerS7Ss01 and 48h-roi \n",
        "\n",
        "h_generate_roi: saved HerS7Ss02.fy1/4 roi label"
       ]
      },
      {
       "output_type": "stream",
       "stream": "stdout",
       "text": [
        "\n",
        "\n",
        " \n",
        " ** WARNING ** \n",
        " \n",
        " Not found: HerS7Ss03 and 48h-roi \n",
        "\n",
        "roi: adata already exists HerS7Ss03day2.fA1/3 \n",
        "h_generate_roi: saved HerS7Ss04.fy1/4 roi label"
       ]
      },
      {
       "output_type": "stream",
       "stream": "stdout",
       "text": [
        "\n",
        "h_generate_roi: saved HerS7Ss05.fC2/7 roi label"
       ]
      },
      {
       "output_type": "stream",
       "stream": "stdout",
       "text": [
        "\n",
        "h_generate_roi: saved HerS7Ss06.fC1/4 roi label"
       ]
      },
      {
       "output_type": "stream",
       "stream": "stdout",
       "text": [
        "\n",
        "h_generate_roi: saved HerS7Ss07.fC1/4 roi label"
       ]
      },
      {
       "output_type": "stream",
       "stream": "stdout",
       "text": [
        "\n",
        "Nifti images were processed in /Users/fmoosvi/sdata/HerS7/rois\n",
        "update_bbox: Could not find HerS7Ss01, roi \n",
        "\n",
        "update_bbox: Could not find HerS7Ss03, roi \n",
        "\n",
        "update_bbox: Success, updated file is: HerS7_updated.json"
       ]
      },
      {
       "output_type": "stream",
       "stream": "stdout",
       "text": [
        "\n",
        "update_bbox: Could not find HerS7Ss01, roi \n",
        "\n",
        "update_bbox: Could not find HerS7Ss03, roi \n",
        "\n",
        "update_bbox: Success, updated file is: HerS7_updated.json"
       ]
      },
      {
       "output_type": "stream",
       "stream": "stdout",
       "text": [
        "\n"
       ]
      }
     ],
     "prompt_number": 5
    },
    {
     "cell_type": "markdown",
     "metadata": {},
     "source": [
      "## Step 3: Perform basic analyses (no ROIs required)"
     ]
    },
    {
     "cell_type": "code",
     "collapsed": false,
     "input": [
      "fFlag = True # Set whether or not the scan need to be overwritten, default False\n",
      "\n",
      "analyze_list = []\n",
      "\n",
      "#analyze_list.append(['0h-roi','roi_check',fFlag])\n",
      "#analyze_list.append(['24h-roi','roi_check',fFlag])\n",
      "\n",
      "analyze_list.append(['24h-DCE','auc60',fFlag])\n",
      "\n",
      "analyze_list.append(['0h-LL','T1map_LL',fFlag])\n",
      "analyze_list.append(['-24h-LL','T1map_LL',fFlag])\n",
      "analyze_list.append(['+24h-LL','T1map_LL',fFlag])\n",
      "\n",
      "analyze_list.append(['24h-DCE','vtc',fFlag])\n",
      "\n",
      "for items in analyze_list:\n",
      "                                              \n",
      "    if len(items) == 3:\n",
      "                  \n",
      "        sarpy.fmoosvi.wrappers.bulk_analyze(masterlist, items[0], items[1], forceVal = items[2])\n",
      "\n",
      "    else:\n",
      "        sarpy.fmoosvi.wrappers.bulk_analyze(masterlist, items[0], items[1], items[2], forceVal = items[3])"
     ],
     "language": "python",
     "metadata": {},
     "outputs": [
      {
       "output_type": "stream",
       "stream": "stdout",
       "text": [
        "deleting item auc60\n",
        "auc60: Not found HerS10Do02 and 24h-DCE"
       ]
      },
      {
       "output_type": "stream",
       "stream": "stdout",
       "text": [
        "\n",
        "deleting item auc60"
       ]
      },
      {
       "output_type": "stream",
       "stream": "stdout",
       "text": [
        "\n",
        "deleting item auc60"
       ]
      },
      {
       "output_type": "stream",
       "stream": "stdout",
       "text": [
        "\n",
        "deleting item auc60"
       ]
      },
      {
       "output_type": "stream",
       "stream": "stdout",
       "text": [
        "\n",
        "deleting item auc60"
       ]
      },
      {
       "output_type": "stream",
       "stream": "stdout",
       "text": [
        "\n",
        "deleting item auc60"
       ]
      },
      {
       "output_type": "stream",
       "stream": "stdout",
       "text": [
        "\n",
        "deleting item auc60"
       ]
      },
      {
       "output_type": "stream",
       "stream": "stdout",
       "text": [
        "\n",
        "deleting item auc60"
       ]
      },
      {
       "output_type": "stream",
       "stream": "stdout",
       "text": [
        "\n",
        "deleting item auc60"
       ]
      },
      {
       "output_type": "stream",
       "stream": "stdout",
       "text": [
        "\n",
        "deleting item auc60"
       ]
      },
      {
       "output_type": "stream",
       "stream": "stdout",
       "text": [
        "\n",
        "deleting item auc60"
       ]
      },
      {
       "output_type": "stream",
       "stream": "stdout",
       "text": [
        "\n",
        "deleting item auc60"
       ]
      },
      {
       "output_type": "stream",
       "stream": "stdout",
       "text": [
        "\n",
        "deleting item auc60"
       ]
      },
      {
       "output_type": "stream",
       "stream": "stderr",
       "text": [
        "WARNING:sarpy.io.BRUKERIO:NSLICES not equal to number of ACQ_obj_order\n"
       ]
      },
      {
       "output_type": "stream",
       "stream": "stderr",
       "text": [
        "/phd/Dropbox/code/python/sarpy/fmoosvi/analysis.py:579: RuntimeWarning: divide by zero encountered in double_scalars\n",
        "  return (1-2*numpy.exp(-Td/T1) + numpy.exp(-(Tp+Td)/T1))*((1-numpy.exp(-tao/T1_eff))/(1-numpy.exp(-tao/T1))) -c*(numpy.exp(-tao/T1_eff)/(numpy.exp(-tao/T1)))*numpy.exp(-(Tp+Td)/T1) - b\n",
        "/Library/Python/2.7/site-packages/scipy-0.13.0.dev_c31f167_20130514-py2.7-macosx-10.8-intel.egg/scipy/optimize/zeros.py:152: RuntimeWarning: invalid value encountered in double_scalars\n",
        "  p = p1 - q1*(p1 - p0)/(q1 - q0)\n",
        "/phd/Dropbox/code/python/sarpy/fmoosvi/analysis.py:576: RuntimeWarning: overflow encountered in exp\n",
        "  return a*(1-(1-b)*numpy.exp(-n*tao/T1_eff))*numpy.exp(1j*phi)\n"
       ]
      },
      {
       "output_type": "stream",
       "stream": "stderr",
       "text": [
        "/phd/Dropbox/code/python/sarpy/fmoosvi/analysis.py:579: RuntimeWarning: invalid value encountered in double_scalars\n",
        "  return (1-2*numpy.exp(-Td/T1) + numpy.exp(-(Tp+Td)/T1))*((1-numpy.exp(-tao/T1_eff))/(1-numpy.exp(-tao/T1))) -c*(numpy.exp(-tao/T1_eff)/(numpy.exp(-tao/T1)))*numpy.exp(-(Tp+Td)/T1) - b\n",
        "/phd/Dropbox/code/python/sarpy/fmoosvi/analysis.py:576: RuntimeWarning: overflow encountered in multiply\n",
        "  return a*(1-(1-b)*numpy.exp(-n*tao/T1_eff))*numpy.exp(1j*phi)\n"
       ]
      },
      {
       "output_type": "stream",
       "stream": "stderr",
       "text": [
        "/phd/Dropbox/code/python/sarpy/fmoosvi/analysis.py:579: RuntimeWarning: overflow encountered in exp\n",
        "  return (1-2*numpy.exp(-Td/T1) + numpy.exp(-(Tp+Td)/T1))*((1-numpy.exp(-tao/T1_eff))/(1-numpy.exp(-tao/T1))) -c*(numpy.exp(-tao/T1_eff)/(numpy.exp(-tao/T1)))*numpy.exp(-(Tp+Td)/T1) - b\n",
        "/Library/Python/2.7/site-packages/scipy-0.13.0.dev_c31f167_20130514-py2.7-macosx-10.8-intel.egg/scipy/optimize/zeros.py:149: RuntimeWarning: Tolerance of 8.17480326948e+15 reached\n",
        "  warnings.warn(msg, RuntimeWarning)\n"
       ]
      },
      {
       "output_type": "stream",
       "stream": "stderr",
       "text": [
        "/Library/Python/2.7/site-packages/scipy-0.13.0.dev_c31f167_20130514-py2.7-macosx-10.8-intel.egg/scipy/optimize/zeros.py:149: RuntimeWarning: Tolerance of 4.71653340437e+15 reached\n",
        "  warnings.warn(msg, RuntimeWarning)\n",
        "/Library/Python/2.7/site-packages/scipy-0.13.0.dev_c31f167_20130514-py2.7-macosx-10.8-intel.egg/scipy/optimize/zeros.py:149: RuntimeWarning: Tolerance of -5.37644169648e+12 reached\n",
        "  warnings.warn(msg, RuntimeWarning)\n"
       ]
      },
      {
       "output_type": "stream",
       "stream": "stderr",
       "text": [
        "/Library/Python/2.7/site-packages/scipy-0.13.0.dev_c31f167_20130514-py2.7-macosx-10.8-intel.egg/scipy/optimize/zeros.py:149: RuntimeWarning: Tolerance of -5.15617735233e+15 reached\n",
        "  warnings.warn(msg, RuntimeWarning)\n",
        "/Library/Python/2.7/site-packages/scipy-0.13.0.dev_c31f167_20130514-py2.7-macosx-10.8-intel.egg/scipy/optimize/zeros.py:149: RuntimeWarning: Tolerance of -8.38388065356e+14 reached\n",
        "  warnings.warn(msg, RuntimeWarning)\n"
       ]
      },
      {
       "output_type": "stream",
       "stream": "stderr",
       "text": [
        "/Library/Python/2.7/site-packages/scipy-0.13.0.dev_c31f167_20130514-py2.7-macosx-10.8-intel.egg/scipy/optimize/zeros.py:149: RuntimeWarning: Tolerance of 3.6174587959e+13 reached\n",
        "  warnings.warn(msg, RuntimeWarning)\n",
        "/Library/Python/2.7/site-packages/scipy-0.13.0.dev_c31f167_20130514-py2.7-macosx-10.8-intel.egg/scipy/optimize/zeros.py:149: RuntimeWarning: Tolerance of -1.81125129586e+15 reached\n",
        "  warnings.warn(msg, RuntimeWarning)\n"
       ]
      },
      {
       "output_type": "stream",
       "stream": "stderr",
       "text": [
        "/Library/Python/2.7/site-packages/scipy-0.13.0.dev_c31f167_20130514-py2.7-macosx-10.8-intel.egg/scipy/optimize/zeros.py:149: RuntimeWarning: Tolerance of 9.67612286801e+13 reached\n",
        "  warnings.warn(msg, RuntimeWarning)\n",
        "/Library/Python/2.7/site-packages/scipy-0.13.0.dev_c31f167_20130514-py2.7-macosx-10.8-intel.egg/scipy/optimize/zeros.py:149: RuntimeWarning: Tolerance of -2.49457221284e+14 reached\n",
        "  warnings.warn(msg, RuntimeWarning)\n"
       ]
      },
      {
       "output_type": "stream",
       "stream": "stderr",
       "text": [
        "/Library/Python/2.7/site-packages/scipy-0.13.0.dev_c31f167_20130514-py2.7-macosx-10.8-intel.egg/scipy/optimize/zeros.py:149: RuntimeWarning: Tolerance of -1.82656790148e+15 reached\n",
        "  warnings.warn(msg, RuntimeWarning)\n",
        "/Library/Python/2.7/site-packages/scipy-0.13.0.dev_c31f167_20130514-py2.7-macosx-10.8-intel.egg/scipy/optimize/zeros.py:149: RuntimeWarning: Tolerance of -2.12772492759e+15 reached\n",
        "  warnings.warn(msg, RuntimeWarning)\n"
       ]
      },
      {
       "output_type": "stream",
       "stream": "stderr",
       "text": [
        "/Library/Python/2.7/site-packages/scipy-0.13.0.dev_c31f167_20130514-py2.7-macosx-10.8-intel.egg/scipy/optimize/zeros.py:149: RuntimeWarning: Tolerance of 1.21607314642e+16 reached\n",
        "  warnings.warn(msg, RuntimeWarning)\n",
        "/Library/Python/2.7/site-packages/scipy-0.13.0.dev_c31f167_20130514-py2.7-macosx-10.8-intel.egg/scipy/optimize/zeros.py:149: RuntimeWarning: Tolerance of 8.1116497433e+13 reached\n",
        "  warnings.warn(msg, RuntimeWarning)\n"
       ]
      },
      {
       "output_type": "stream",
       "stream": "stderr",
       "text": [
        "/Library/Python/2.7/site-packages/scipy-0.13.0.dev_c31f167_20130514-py2.7-macosx-10.8-intel.egg/scipy/optimize/zeros.py:149: RuntimeWarning: Tolerance of -1.78418700366e+12 reached\n",
        "  warnings.warn(msg, RuntimeWarning)\n",
        "/Library/Python/2.7/site-packages/scipy-0.13.0.dev_c31f167_20130514-py2.7-macosx-10.8-intel.egg/scipy/optimize/zeros.py:149: RuntimeWarning: Tolerance of 8.50829611268e+13 reached\n",
        "  warnings.warn(msg, RuntimeWarning)\n"
       ]
      },
      {
       "output_type": "stream",
       "stream": "stderr",
       "text": [
        "/Library/Python/2.7/site-packages/scipy-0.13.0.dev_c31f167_20130514-py2.7-macosx-10.8-intel.egg/scipy/optimize/zeros.py:149: RuntimeWarning: Tolerance of 1.52022647858e+16 reached\n",
        "  warnings.warn(msg, RuntimeWarning)\n",
        "/Library/Python/2.7/site-packages/scipy-0.13.0.dev_c31f167_20130514-py2.7-macosx-10.8-intel.egg/scipy/optimize/zeros.py:149: RuntimeWarning: Tolerance of -886629572580.0 reached\n",
        "  warnings.warn(msg, RuntimeWarning)\n"
       ]
      },
      {
       "output_type": "stream",
       "stream": "stderr",
       "text": [
        "/Library/Python/2.7/site-packages/scipy-0.13.0.dev_c31f167_20130514-py2.7-macosx-10.8-intel.egg/scipy/optimize/zeros.py:149: RuntimeWarning: Tolerance of -545117918738.0 reached\n",
        "  warnings.warn(msg, RuntimeWarning)\n",
        "/Library/Python/2.7/site-packages/scipy-0.13.0.dev_c31f167_20130514-py2.7-macosx-10.8-intel.egg/scipy/optimize/zeros.py:149: RuntimeWarning: Tolerance of -1.36331206191e+14 reached\n",
        "  warnings.warn(msg, RuntimeWarning)\n"
       ]
      },
      {
       "output_type": "stream",
       "stream": "stderr",
       "text": [
        "/Library/Python/2.7/site-packages/scipy-0.13.0.dev_c31f167_20130514-py2.7-macosx-10.8-intel.egg/scipy/optimize/zeros.py:149: RuntimeWarning: Tolerance of -1.01162678946e+14 reached\n",
        "  warnings.warn(msg, RuntimeWarning)\n",
        "/Library/Python/2.7/site-packages/scipy-0.13.0.dev_c31f167_20130514-py2.7-macosx-10.8-intel.egg/scipy/optimize/zeros.py:149: RuntimeWarning: Tolerance of -4.2034552336e+13 reached\n",
        "  warnings.warn(msg, RuntimeWarning)\n"
       ]
      },
      {
       "output_type": "stream",
       "stream": "stderr",
       "text": [
        "/Library/Python/2.7/site-packages/scipy-0.13.0.dev_c31f167_20130514-py2.7-macosx-10.8-intel.egg/scipy/optimize/zeros.py:149: RuntimeWarning: Tolerance of -2.13368389866e+16 reached\n",
        "  warnings.warn(msg, RuntimeWarning)\n",
        "/Library/Python/2.7/site-packages/scipy-0.13.0.dev_c31f167_20130514-py2.7-macosx-10.8-intel.egg/scipy/optimize/zeros.py:149: RuntimeWarning: Tolerance of -5.40570593397e+15 reached\n",
        "  warnings.warn(msg, RuntimeWarning)\n"
       ]
      },
      {
       "output_type": "stream",
       "stream": "stderr",
       "text": [
        "/Library/Python/2.7/site-packages/scipy-0.13.0.dev_c31f167_20130514-py2.7-macosx-10.8-intel.egg/scipy/optimize/zeros.py:149: RuntimeWarning: Tolerance of 6.49703860697e+15 reached\n",
        "  warnings.warn(msg, RuntimeWarning)\n",
        "/Library/Python/2.7/site-packages/scipy-0.13.0.dev_c31f167_20130514-py2.7-macosx-10.8-intel.egg/scipy/optimize/zeros.py:149: RuntimeWarning: Tolerance of 7.60465719393e+15 reached\n",
        "  warnings.warn(msg, RuntimeWarning)\n"
       ]
      },
      {
       "output_type": "stream",
       "stream": "stdout",
       "text": [
        "\n",
        "deleting item T1map_LL"
       ]
      },
      {
       "output_type": "stream",
       "stream": "stdout",
       "text": [
        "\n",
        "deleting item T1map_LL_fitdict"
       ]
      },
      {
       "output_type": "stream",
       "stream": "stderr",
       "text": [
        "WARNING:sarpy.io.BRUKERIO:NSLICES not equal to number of ACQ_obj_order\n"
       ]
      },
      {
       "output_type": "stream",
       "stream": "stderr",
       "text": [
        "/Library/Python/2.7/site-packages/scipy-0.13.0.dev_c31f167_20130514-py2.7-macosx-10.8-intel.egg/scipy/optimize/zeros.py:149: RuntimeWarning: Tolerance of -1.14772554021e+15 reached\n",
        "  warnings.warn(msg, RuntimeWarning)\n",
        "/Library/Python/2.7/site-packages/scipy-0.13.0.dev_c31f167_20130514-py2.7-macosx-10.8-intel.egg/scipy/optimize/zeros.py:149: RuntimeWarning: Tolerance of 3.0372269243e+15 reached\n",
        "  warnings.warn(msg, RuntimeWarning)\n"
       ]
      },
      {
       "output_type": "stream",
       "stream": "stderr",
       "text": [
        "/Library/Python/2.7/site-packages/scipy-0.13.0.dev_c31f167_20130514-py2.7-macosx-10.8-intel.egg/scipy/optimize/zeros.py:149: RuntimeWarning: Tolerance of 3.43866954114e+16 reached\n",
        "  warnings.warn(msg, RuntimeWarning)\n",
        "/Library/Python/2.7/site-packages/scipy-0.13.0.dev_c31f167_20130514-py2.7-macosx-10.8-intel.egg/scipy/optimize/zeros.py:149: RuntimeWarning: Tolerance of -2.87919036751e+13 reached\n",
        "  warnings.warn(msg, RuntimeWarning)\n"
       ]
      },
      {
       "output_type": "stream",
       "stream": "stderr",
       "text": [
        "/Library/Python/2.7/site-packages/scipy-0.13.0.dev_c31f167_20130514-py2.7-macosx-10.8-intel.egg/scipy/optimize/zeros.py:149: RuntimeWarning: Tolerance of -1.52153227487e+14 reached\n",
        "  warnings.warn(msg, RuntimeWarning)\n",
        "/Library/Python/2.7/site-packages/scipy-0.13.0.dev_c31f167_20130514-py2.7-macosx-10.8-intel.egg/scipy/optimize/zeros.py:149: RuntimeWarning: Tolerance of -1.09842212944e+16 reached\n",
        "  warnings.warn(msg, RuntimeWarning)\n"
       ]
      },
      {
       "output_type": "stream",
       "stream": "stderr",
       "text": [
        "/Library/Python/2.7/site-packages/scipy-0.13.0.dev_c31f167_20130514-py2.7-macosx-10.8-intel.egg/scipy/optimize/zeros.py:149: RuntimeWarning: Tolerance of 1.2401616437e+14 reached\n",
        "  warnings.warn(msg, RuntimeWarning)\n",
        "/Library/Python/2.7/site-packages/scipy-0.13.0.dev_c31f167_20130514-py2.7-macosx-10.8-intel.egg/scipy/optimize/zeros.py:149: RuntimeWarning: Tolerance of -4.06807757568e+15 reached\n",
        "  warnings.warn(msg, RuntimeWarning)\n"
       ]
      },
      {
       "output_type": "stream",
       "stream": "stderr",
       "text": [
        "/Library/Python/2.7/site-packages/scipy-0.13.0.dev_c31f167_20130514-py2.7-macosx-10.8-intel.egg/scipy/optimize/zeros.py:149: RuntimeWarning: Tolerance of -1.28342792857e+15 reached\n",
        "  warnings.warn(msg, RuntimeWarning)\n",
        "/Library/Python/2.7/site-packages/scipy-0.13.0.dev_c31f167_20130514-py2.7-macosx-10.8-intel.egg/scipy/optimize/zeros.py:149: RuntimeWarning: Tolerance of -1.10399414333e+13 reached\n",
        "  warnings.warn(msg, RuntimeWarning)\n"
       ]
      },
      {
       "output_type": "stream",
       "stream": "stderr",
       "text": [
        "/Library/Python/2.7/site-packages/scipy-0.13.0.dev_c31f167_20130514-py2.7-macosx-10.8-intel.egg/scipy/optimize/zeros.py:149: RuntimeWarning: Tolerance of 5.18751364598e+14 reached\n",
        "  warnings.warn(msg, RuntimeWarning)\n",
        "/Library/Python/2.7/site-packages/scipy-0.13.0.dev_c31f167_20130514-py2.7-macosx-10.8-intel.egg/scipy/optimize/zeros.py:149: RuntimeWarning: Tolerance of 1.28880512111e+15 reached\n",
        "  warnings.warn(msg, RuntimeWarning)\n"
       ]
      },
      {
       "output_type": "stream",
       "stream": "stderr",
       "text": [
        "/Library/Python/2.7/site-packages/scipy-0.13.0.dev_c31f167_20130514-py2.7-macosx-10.8-intel.egg/scipy/optimize/zeros.py:149: RuntimeWarning: Tolerance of 1.50368121244e+16 reached\n",
        "  warnings.warn(msg, RuntimeWarning)\n",
        "/Library/Python/2.7/site-packages/scipy-0.13.0.dev_c31f167_20130514-py2.7-macosx-10.8-intel.egg/scipy/optimize/zeros.py:149: RuntimeWarning: Tolerance of -1.18027477616e+14 reached\n",
        "  warnings.warn(msg, RuntimeWarning)\n"
       ]
      },
      {
       "output_type": "stream",
       "stream": "stderr",
       "text": [
        "/Library/Python/2.7/site-packages/scipy-0.13.0.dev_c31f167_20130514-py2.7-macosx-10.8-intel.egg/scipy/optimize/zeros.py:149: RuntimeWarning: Tolerance of -2.09877926879e+16 reached\n",
        "  warnings.warn(msg, RuntimeWarning)\n",
        "/Library/Python/2.7/site-packages/scipy-0.13.0.dev_c31f167_20130514-py2.7-macosx-10.8-intel.egg/scipy/optimize/zeros.py:149: RuntimeWarning: Tolerance of 3.38158457292e+14 reached\n",
        "  warnings.warn(msg, RuntimeWarning)\n"
       ]
      },
      {
       "output_type": "stream",
       "stream": "stdout",
       "text": [
        "\n",
        "deleting item T1map_LL"
       ]
      },
      {
       "output_type": "stream",
       "stream": "stdout",
       "text": [
        "\n",
        "deleting item T1map_LL_fitdict"
       ]
      },
      {
       "output_type": "stream",
       "stream": "stderr",
       "text": [
        "/Library/Python/2.7/site-packages/scipy-0.13.0.dev_c31f167_20130514-py2.7-macosx-10.8-intel.egg/scipy/optimize/zeros.py:149: RuntimeWarning: Tolerance of -3.16276985736e+15 reached\n",
        "  warnings.warn(msg, RuntimeWarning)\n",
        "WARNING:sarpy.io.BRUKERIO:NSLICES not equal to number of ACQ_obj_order\n"
       ]
      },
      {
       "output_type": "stream",
       "stream": "stderr",
       "text": [
        "/Library/Python/2.7/site-packages/scipy-0.13.0.dev_c31f167_20130514-py2.7-macosx-10.8-intel.egg/scipy/optimize/zeros.py:149: RuntimeWarning: Tolerance of 1.24954247089e+14 reached\n",
        "  warnings.warn(msg, RuntimeWarning)\n",
        "/Library/Python/2.7/site-packages/scipy-0.13.0.dev_c31f167_20130514-py2.7-macosx-10.8-intel.egg/scipy/optimize/zeros.py:149: RuntimeWarning: Tolerance of -7.95461119064e+13 reached\n",
        "  warnings.warn(msg, RuntimeWarning)\n"
       ]
      },
      {
       "output_type": "stream",
       "stream": "stderr",
       "text": [
        "/Library/Python/2.7/site-packages/scipy-0.13.0.dev_c31f167_20130514-py2.7-macosx-10.8-intel.egg/scipy/optimize/zeros.py:149: RuntimeWarning: Tolerance of -8.53217991124e+14 reached\n",
        "  warnings.warn(msg, RuntimeWarning)\n",
        "/Library/Python/2.7/site-packages/scipy-0.13.0.dev_c31f167_20130514-py2.7-macosx-10.8-intel.egg/scipy/optimize/zeros.py:149: RuntimeWarning: Tolerance of 9.85781801856e+15 reached\n",
        "  warnings.warn(msg, RuntimeWarning)\n"
       ]
      },
      {
       "output_type": "stream",
       "stream": "stderr",
       "text": [
        "/Library/Python/2.7/site-packages/scipy-0.13.0.dev_c31f167_20130514-py2.7-macosx-10.8-intel.egg/scipy/optimize/zeros.py:149: RuntimeWarning: Tolerance of 5.18580774097e+14 reached\n",
        "  warnings.warn(msg, RuntimeWarning)\n",
        "/Library/Python/2.7/site-packages/scipy-0.13.0.dev_c31f167_20130514-py2.7-macosx-10.8-intel.egg/scipy/optimize/zeros.py:149: RuntimeWarning: Tolerance of 2.43710042279e+16 reached\n",
        "  warnings.warn(msg, RuntimeWarning)\n"
       ]
      },
      {
       "output_type": "stream",
       "stream": "stderr",
       "text": [
        "/Library/Python/2.7/site-packages/scipy-0.13.0.dev_c31f167_20130514-py2.7-macosx-10.8-intel.egg/scipy/optimize/zeros.py:149: RuntimeWarning: Tolerance of 2.69661814429e+14 reached\n",
        "  warnings.warn(msg, RuntimeWarning)\n",
        "/Library/Python/2.7/site-packages/scipy-0.13.0.dev_c31f167_20130514-py2.7-macosx-10.8-intel.egg/scipy/optimize/zeros.py:149: RuntimeWarning: Tolerance of -1.50804173281e+16 reached\n",
        "  warnings.warn(msg, RuntimeWarning)\n"
       ]
      },
      {
       "output_type": "stream",
       "stream": "stderr",
       "text": [
        "/Library/Python/2.7/site-packages/scipy-0.13.0.dev_c31f167_20130514-py2.7-macosx-10.8-intel.egg/scipy/optimize/zeros.py:149: RuntimeWarning: Tolerance of 1.25614943531e+14 reached\n",
        "  warnings.warn(msg, RuntimeWarning)\n",
        "/Library/Python/2.7/site-packages/scipy-0.13.0.dev_c31f167_20130514-py2.7-macosx-10.8-intel.egg/scipy/optimize/zeros.py:149: RuntimeWarning: Tolerance of 3.41091843556e+14 reached\n",
        "  warnings.warn(msg, RuntimeWarning)\n"
       ]
      },
      {
       "output_type": "stream",
       "stream": "stderr",
       "text": [
        "/Library/Python/2.7/site-packages/scipy-0.13.0.dev_c31f167_20130514-py2.7-macosx-10.8-intel.egg/scipy/optimize/zeros.py:149: RuntimeWarning: Tolerance of -3.34402402726e+15 reached\n",
        "  warnings.warn(msg, RuntimeWarning)\n",
        "/Library/Python/2.7/site-packages/scipy-0.13.0.dev_c31f167_20130514-py2.7-macosx-10.8-intel.egg/scipy/optimize/zeros.py:149: RuntimeWarning: Tolerance of 6.90214801647e+14 reached\n",
        "  warnings.warn(msg, RuntimeWarning)\n"
       ]
      },
      {
       "output_type": "stream",
       "stream": "stderr",
       "text": [
        "/Library/Python/2.7/site-packages/scipy-0.13.0.dev_c31f167_20130514-py2.7-macosx-10.8-intel.egg/scipy/optimize/zeros.py:149: RuntimeWarning: Tolerance of 6.70089602687e+14 reached\n",
        "  warnings.warn(msg, RuntimeWarning)\n",
        "/Library/Python/2.7/site-packages/scipy-0.13.0.dev_c31f167_20130514-py2.7-macosx-10.8-intel.egg/scipy/optimize/zeros.py:149: RuntimeWarning: Tolerance of -2.86018542447e+16 reached\n",
        "  warnings.warn(msg, RuntimeWarning)\n"
       ]
      },
      {
       "output_type": "stream",
       "stream": "stderr",
       "text": [
        "/Library/Python/2.7/site-packages/scipy-0.13.0.dev_c31f167_20130514-py2.7-macosx-10.8-intel.egg/scipy/optimize/zeros.py:149: RuntimeWarning: Tolerance of 3.48759397487e+15 reached\n",
        "  warnings.warn(msg, RuntimeWarning)\n",
        "/Library/Python/2.7/site-packages/scipy-0.13.0.dev_c31f167_20130514-py2.7-macosx-10.8-intel.egg/scipy/optimize/zeros.py:149: RuntimeWarning: Tolerance of 9.40371534101e+15 reached\n",
        "  warnings.warn(msg, RuntimeWarning)\n"
       ]
      },
      {
       "output_type": "stream",
       "stream": "stderr",
       "text": [
        "/Library/Python/2.7/site-packages/scipy-0.13.0.dev_c31f167_20130514-py2.7-macosx-10.8-intel.egg/scipy/optimize/zeros.py:149: RuntimeWarning: Tolerance of 1.15714481764e+15 reached\n",
        "  warnings.warn(msg, RuntimeWarning)\n",
        "/Library/Python/2.7/site-packages/scipy-0.13.0.dev_c31f167_20130514-py2.7-macosx-10.8-intel.egg/scipy/optimize/zeros.py:149: RuntimeWarning: Tolerance of -8.82325559275e+15 reached\n",
        "  warnings.warn(msg, RuntimeWarning)\n"
       ]
      },
      {
       "output_type": "stream",
       "stream": "stderr",
       "text": [
        "/Library/Python/2.7/site-packages/scipy-0.13.0.dev_c31f167_20130514-py2.7-macosx-10.8-intel.egg/scipy/optimize/zeros.py:149: RuntimeWarning: Tolerance of 1.31305180119e+14 reached\n",
        "  warnings.warn(msg, RuntimeWarning)\n",
        "/Library/Python/2.7/site-packages/scipy-0.13.0.dev_c31f167_20130514-py2.7-macosx-10.8-intel.egg/scipy/optimize/zeros.py:149: RuntimeWarning: Tolerance of 7.60728034675e+15 reached\n",
        "  warnings.warn(msg, RuntimeWarning)\n"
       ]
      },
      {
       "output_type": "stream",
       "stream": "stderr",
       "text": [
        "/Library/Python/2.7/site-packages/scipy-0.13.0.dev_c31f167_20130514-py2.7-macosx-10.8-intel.egg/scipy/optimize/zeros.py:149: RuntimeWarning: Tolerance of -2.10344274533e+15 reached\n",
        "  warnings.warn(msg, RuntimeWarning)\n",
        "/Library/Python/2.7/site-packages/scipy-0.13.0.dev_c31f167_20130514-py2.7-macosx-10.8-intel.egg/scipy/optimize/zeros.py:149: RuntimeWarning: Tolerance of -1.75685266277e+14 reached\n",
        "  warnings.warn(msg, RuntimeWarning)\n"
       ]
      },
      {
       "output_type": "stream",
       "stream": "stderr",
       "text": [
        "/Library/Python/2.7/site-packages/scipy-0.13.0.dev_c31f167_20130514-py2.7-macosx-10.8-intel.egg/scipy/optimize/zeros.py:149: RuntimeWarning: Tolerance of 3.98157123956e+15 reached\n",
        "  warnings.warn(msg, RuntimeWarning)\n",
        "/Library/Python/2.7/site-packages/scipy-0.13.0.dev_c31f167_20130514-py2.7-macosx-10.8-intel.egg/scipy/optimize/zeros.py:149: RuntimeWarning: Tolerance of 6.2125065373e+15 reached\n",
        "  warnings.warn(msg, RuntimeWarning)\n"
       ]
      },
      {
       "output_type": "stream",
       "stream": "stderr",
       "text": [
        "/Library/Python/2.7/site-packages/scipy-0.13.0.dev_c31f167_20130514-py2.7-macosx-10.8-intel.egg/scipy/optimize/zeros.py:149: RuntimeWarning: Tolerance of -49083056288.0 reached\n",
        "  warnings.warn(msg, RuntimeWarning)\n",
        "/Library/Python/2.7/site-packages/scipy-0.13.0.dev_c31f167_20130514-py2.7-macosx-10.8-intel.egg/scipy/optimize/zeros.py:149: RuntimeWarning: Tolerance of 3.09251458753e+15 reached\n",
        "  warnings.warn(msg, RuntimeWarning)\n"
       ]
      },
      {
       "output_type": "stream",
       "stream": "stderr",
       "text": [
        "/Library/Python/2.7/site-packages/scipy-0.13.0.dev_c31f167_20130514-py2.7-macosx-10.8-intel.egg/scipy/optimize/zeros.py:149: RuntimeWarning: Tolerance of 9.63132488587e+12 reached\n",
        "  warnings.warn(msg, RuntimeWarning)\n",
        "/Library/Python/2.7/site-packages/scipy-0.13.0.dev_c31f167_20130514-py2.7-macosx-10.8-intel.egg/scipy/optimize/zeros.py:149: RuntimeWarning: Tolerance of -2.10370337916e+15 reached\n",
        "  warnings.warn(msg, RuntimeWarning)\n"
       ]
      },
      {
       "output_type": "stream",
       "stream": "stderr",
       "text": [
        "/Library/Python/2.7/site-packages/scipy-0.13.0.dev_c31f167_20130514-py2.7-macosx-10.8-intel.egg/scipy/optimize/zeros.py:149: RuntimeWarning: Tolerance of 1.83292908874e+16 reached\n",
        "  warnings.warn(msg, RuntimeWarning)\n",
        "/Library/Python/2.7/site-packages/scipy-0.13.0.dev_c31f167_20130514-py2.7-macosx-10.8-intel.egg/scipy/optimize/zeros.py:149: RuntimeWarning: Tolerance of 5.38201983835e+15 reached\n",
        "  warnings.warn(msg, RuntimeWarning)\n"
       ]
      },
      {
       "output_type": "stream",
       "stream": "stderr",
       "text": [
        "/Library/Python/2.7/site-packages/scipy-0.13.0.dev_c31f167_20130514-py2.7-macosx-10.8-intel.egg/scipy/optimize/zeros.py:149: RuntimeWarning: Tolerance of 1.1672241981e+14 reached\n",
        "  warnings.warn(msg, RuntimeWarning)\n",
        "/Library/Python/2.7/site-packages/scipy-0.13.0.dev_c31f167_20130514-py2.7-macosx-10.8-intel.egg/scipy/optimize/zeros.py:149: RuntimeWarning: Tolerance of 368070367036.0 reached\n",
        "  warnings.warn(msg, RuntimeWarning)\n"
       ]
      },
      {
       "output_type": "stream",
       "stream": "stderr",
       "text": [
        "/Library/Python/2.7/site-packages/scipy-0.13.0.dev_c31f167_20130514-py2.7-macosx-10.8-intel.egg/scipy/optimize/zeros.py:149: RuntimeWarning: Tolerance of 2.32462316675e+14 reached\n",
        "  warnings.warn(msg, RuntimeWarning)\n",
        "/Library/Python/2.7/site-packages/scipy-0.13.0.dev_c31f167_20130514-py2.7-macosx-10.8-intel.egg/scipy/optimize/zeros.py:149: RuntimeWarning: Tolerance of 1.45864693681e+14 reached\n",
        "  warnings.warn(msg, RuntimeWarning)\n"
       ]
      },
      {
       "output_type": "stream",
       "stream": "stderr",
       "text": [
        "/Library/Python/2.7/site-packages/scipy-0.13.0.dev_c31f167_20130514-py2.7-macosx-10.8-intel.egg/scipy/optimize/zeros.py:149: RuntimeWarning: Tolerance of -2.8586000514e+15 reached\n",
        "  warnings.warn(msg, RuntimeWarning)\n",
        "/Library/Python/2.7/site-packages/scipy-0.13.0.dev_c31f167_20130514-py2.7-macosx-10.8-intel.egg/scipy/optimize/zeros.py:149: RuntimeWarning: Tolerance of -3.93914310125e+14 reached\n",
        "  warnings.warn(msg, RuntimeWarning)\n"
       ]
      },
      {
       "output_type": "stream",
       "stream": "stderr",
       "text": [
        "/Library/Python/2.7/site-packages/scipy-0.13.0.dev_c31f167_20130514-py2.7-macosx-10.8-intel.egg/scipy/optimize/zeros.py:149: RuntimeWarning: Tolerance of -2.12801603182e+14 reached\n",
        "  warnings.warn(msg, RuntimeWarning)\n",
        "/Library/Python/2.7/site-packages/scipy-0.13.0.dev_c31f167_20130514-py2.7-macosx-10.8-intel.egg/scipy/optimize/zeros.py:149: RuntimeWarning: Tolerance of -1.72492718995e+15 reached\n",
        "  warnings.warn(msg, RuntimeWarning)\n"
       ]
      },
      {
       "output_type": "stream",
       "stream": "stderr",
       "text": [
        "/Library/Python/2.7/site-packages/scipy-0.13.0.dev_c31f167_20130514-py2.7-macosx-10.8-intel.egg/scipy/optimize/zeros.py:149: RuntimeWarning: Tolerance of 2.86666932454e+13 reached\n",
        "  warnings.warn(msg, RuntimeWarning)\n",
        "/Library/Python/2.7/site-packages/scipy-0.13.0.dev_c31f167_20130514-py2.7-macosx-10.8-intel.egg/scipy/optimize/zeros.py:149: RuntimeWarning: Tolerance of -8.43404437726e+13 reached\n",
        "  warnings.warn(msg, RuntimeWarning)\n"
       ]
      },
      {
       "output_type": "stream",
       "stream": "stderr",
       "text": [
        "/Library/Python/2.7/site-packages/scipy-0.13.0.dev_c31f167_20130514-py2.7-macosx-10.8-intel.egg/scipy/optimize/zeros.py:149: RuntimeWarning: Tolerance of 4.06785717512e+15 reached\n",
        "  warnings.warn(msg, RuntimeWarning)\n",
        "/Library/Python/2.7/site-packages/scipy-0.13.0.dev_c31f167_20130514-py2.7-macosx-10.8-intel.egg/scipy/optimize/zeros.py:149: RuntimeWarning: Tolerance of -3.07012021992e+15 reached\n",
        "  warnings.warn(msg, RuntimeWarning)\n"
       ]
      },
      {
       "output_type": "stream",
       "stream": "stderr",
       "text": [
        "/Library/Python/2.7/site-packages/scipy-0.13.0.dev_c31f167_20130514-py2.7-macosx-10.8-intel.egg/scipy/optimize/zeros.py:149: RuntimeWarning: Tolerance of -548499274821.0 reached\n",
        "  warnings.warn(msg, RuntimeWarning)\n",
        "/Library/Python/2.7/site-packages/scipy-0.13.0.dev_c31f167_20130514-py2.7-macosx-10.8-intel.egg/scipy/optimize/zeros.py:149: RuntimeWarning: Tolerance of 1.82793016537e+15 reached\n",
        "  warnings.warn(msg, RuntimeWarning)\n"
       ]
      },
      {
       "output_type": "stream",
       "stream": "stderr",
       "text": [
        "/Library/Python/2.7/site-packages/scipy-0.13.0.dev_c31f167_20130514-py2.7-macosx-10.8-intel.egg/scipy/optimize/zeros.py:149: RuntimeWarning: Tolerance of 1.84214545891e+18 reached\n",
        "  warnings.warn(msg, RuntimeWarning)\n",
        "/Library/Python/2.7/site-packages/scipy-0.13.0.dev_c31f167_20130514-py2.7-macosx-10.8-intel.egg/scipy/optimize/zeros.py:149: RuntimeWarning: Tolerance of 4.25212790503e+14 reached\n",
        "  warnings.warn(msg, RuntimeWarning)\n"
       ]
      },
      {
       "output_type": "stream",
       "stream": "stderr",
       "text": [
        "/Library/Python/2.7/site-packages/scipy-0.13.0.dev_c31f167_20130514-py2.7-macosx-10.8-intel.egg/scipy/optimize/zeros.py:149: RuntimeWarning: Tolerance of -3.03034149069e+13 reached\n",
        "  warnings.warn(msg, RuntimeWarning)\n",
        "/Library/Python/2.7/site-packages/scipy-0.13.0.dev_c31f167_20130514-py2.7-macosx-10.8-intel.egg/scipy/optimize/zeros.py:149: RuntimeWarning: Tolerance of 4.42345319984e+15 reached\n",
        "  warnings.warn(msg, RuntimeWarning)\n"
       ]
      },
      {
       "output_type": "stream",
       "stream": "stderr",
       "text": [
        "/Library/Python/2.7/site-packages/scipy-0.13.0.dev_c31f167_20130514-py2.7-macosx-10.8-intel.egg/scipy/optimize/zeros.py:149: RuntimeWarning: Tolerance of -4.89191925735e+14 reached\n",
        "  warnings.warn(msg, RuntimeWarning)\n",
        "/Library/Python/2.7/site-packages/scipy-0.13.0.dev_c31f167_20130514-py2.7-macosx-10.8-intel.egg/scipy/optimize/zeros.py:149: RuntimeWarning: Tolerance of 8.53949735374e+14 reached\n",
        "  warnings.warn(msg, RuntimeWarning)\n"
       ]
      },
      {
       "output_type": "stream",
       "stream": "stderr",
       "text": [
        "/Library/Python/2.7/site-packages/scipy-0.13.0.dev_c31f167_20130514-py2.7-macosx-10.8-intel.egg/scipy/optimize/zeros.py:149: RuntimeWarning: Tolerance of -3.31309224941e+12 reached\n",
        "  warnings.warn(msg, RuntimeWarning)\n",
        "/Library/Python/2.7/site-packages/scipy-0.13.0.dev_c31f167_20130514-py2.7-macosx-10.8-intel.egg/scipy/optimize/zeros.py:149: RuntimeWarning: Tolerance of 8.23399209687e+15 reached\n",
        "  warnings.warn(msg, RuntimeWarning)\n"
       ]
      },
      {
       "output_type": "stream",
       "stream": "stderr",
       "text": [
        "/Library/Python/2.7/site-packages/scipy-0.13.0.dev_c31f167_20130514-py2.7-macosx-10.8-intel.egg/scipy/optimize/zeros.py:149: RuntimeWarning: Tolerance of 2.601055256e+14 reached\n",
        "  warnings.warn(msg, RuntimeWarning)\n",
        "/Library/Python/2.7/site-packages/scipy-0.13.0.dev_c31f167_20130514-py2.7-macosx-10.8-intel.egg/scipy/optimize/zeros.py:149: RuntimeWarning: Tolerance of -1.64487419491e+15 reached\n",
        "  warnings.warn(msg, RuntimeWarning)\n"
       ]
      },
      {
       "output_type": "stream",
       "stream": "stderr",
       "text": [
        "/Library/Python/2.7/site-packages/scipy-0.13.0.dev_c31f167_20130514-py2.7-macosx-10.8-intel.egg/scipy/optimize/zeros.py:149: RuntimeWarning: Tolerance of -3.79823541783e+15 reached\n",
        "  warnings.warn(msg, RuntimeWarning)\n",
        "/Library/Python/2.7/site-packages/scipy-0.13.0.dev_c31f167_20130514-py2.7-macosx-10.8-intel.egg/scipy/optimize/zeros.py:149: RuntimeWarning: Tolerance of 3.29852071137e+15 reached\n",
        "  warnings.warn(msg, RuntimeWarning)\n"
       ]
      },
      {
       "output_type": "stream",
       "stream": "stderr",
       "text": [
        "/Library/Python/2.7/site-packages/scipy-0.13.0.dev_c31f167_20130514-py2.7-macosx-10.8-intel.egg/scipy/optimize/zeros.py:149: RuntimeWarning: Tolerance of 9.74382876788e+14 reached\n",
        "  warnings.warn(msg, RuntimeWarning)\n",
        "/Library/Python/2.7/site-packages/scipy-0.13.0.dev_c31f167_20130514-py2.7-macosx-10.8-intel.egg/scipy/optimize/zeros.py:149: RuntimeWarning: Tolerance of -8.58781877534e+15 reached\n",
        "  warnings.warn(msg, RuntimeWarning)\n"
       ]
      },
      {
       "output_type": "stream",
       "stream": "stderr",
       "text": [
        "/Library/Python/2.7/site-packages/scipy-0.13.0.dev_c31f167_20130514-py2.7-macosx-10.8-intel.egg/scipy/optimize/zeros.py:149: RuntimeWarning: Tolerance of -2.52652248663e+15 reached\n",
        "  warnings.warn(msg, RuntimeWarning)\n",
        "/Library/Python/2.7/site-packages/scipy-0.13.0.dev_c31f167_20130514-py2.7-macosx-10.8-intel.egg/scipy/optimize/zeros.py:149: RuntimeWarning: Tolerance of -7.81618421417e+14 reached\n",
        "  warnings.warn(msg, RuntimeWarning)\n"
       ]
      },
      {
       "output_type": "stream",
       "stream": "stderr",
       "text": [
        "/Library/Python/2.7/site-packages/scipy-0.13.0.dev_c31f167_20130514-py2.7-macosx-10.8-intel.egg/scipy/optimize/zeros.py:149: RuntimeWarning: Tolerance of 1.80834727727e+16 reached\n",
        "  warnings.warn(msg, RuntimeWarning)\n",
        "/Library/Python/2.7/site-packages/scipy-0.13.0.dev_c31f167_20130514-py2.7-macosx-10.8-intel.egg/scipy/optimize/zeros.py:149: RuntimeWarning: Tolerance of -5.45909097189e+14 reached\n",
        "  warnings.warn(msg, RuntimeWarning)\n"
       ]
      },
      {
       "output_type": "stream",
       "stream": "stderr",
       "text": [
        "/Library/Python/2.7/site-packages/scipy-0.13.0.dev_c31f167_20130514-py2.7-macosx-10.8-intel.egg/scipy/optimize/zeros.py:149: RuntimeWarning: Tolerance of -1.06661190105e+16 reached\n",
        "  warnings.warn(msg, RuntimeWarning)\n",
        "/Library/Python/2.7/site-packages/scipy-0.13.0.dev_c31f167_20130514-py2.7-macosx-10.8-intel.egg/scipy/optimize/zeros.py:149: RuntimeWarning: Tolerance of -2.45200645846e+15 reached\n",
        "  warnings.warn(msg, RuntimeWarning)\n"
       ]
      },
      {
       "output_type": "stream",
       "stream": "stdout",
       "text": [
        "\n",
        "deleting item T1map_LL"
       ]
      },
      {
       "output_type": "stream",
       "stream": "stdout",
       "text": [
        "\n",
        "deleting item T1map_LL_fitdict"
       ]
      },
      {
       "output_type": "stream",
       "stream": "stderr",
       "text": [
        "/Library/Python/2.7/site-packages/scipy-0.13.0.dev_c31f167_20130514-py2.7-macosx-10.8-intel.egg/scipy/optimize/zeros.py:149: RuntimeWarning: Tolerance of -123267417211.0 reached\n",
        "  warnings.warn(msg, RuntimeWarning)\n",
        "WARNING:sarpy.io.BRUKERIO:NSLICES not equal to number of ACQ_obj_order\n"
       ]
      },
      {
       "output_type": "stream",
       "stream": "stderr",
       "text": [
        "/Library/Python/2.7/site-packages/scipy-0.13.0.dev_c31f167_20130514-py2.7-macosx-10.8-intel.egg/scipy/optimize/zeros.py:149: RuntimeWarning: Tolerance of -1.82970787873e+15 reached\n",
        "  warnings.warn(msg, RuntimeWarning)\n",
        "/Library/Python/2.7/site-packages/scipy-0.13.0.dev_c31f167_20130514-py2.7-macosx-10.8-intel.egg/scipy/optimize/zeros.py:149: RuntimeWarning: Tolerance of 6.71531538812e+14 reached\n",
        "  warnings.warn(msg, RuntimeWarning)\n"
       ]
      },
      {
       "output_type": "stream",
       "stream": "stderr",
       "text": [
        "/Library/Python/2.7/site-packages/scipy-0.13.0.dev_c31f167_20130514-py2.7-macosx-10.8-intel.egg/scipy/optimize/zeros.py:149: RuntimeWarning: Tolerance of 3.56682115542e+15 reached\n",
        "  warnings.warn(msg, RuntimeWarning)\n",
        "/Library/Python/2.7/site-packages/scipy-0.13.0.dev_c31f167_20130514-py2.7-macosx-10.8-intel.egg/scipy/optimize/zeros.py:149: RuntimeWarning: Tolerance of 7.03741700746e+15 reached\n",
        "  warnings.warn(msg, RuntimeWarning)\n"
       ]
      },
      {
       "output_type": "stream",
       "stream": "stderr",
       "text": [
        "/Library/Python/2.7/site-packages/scipy-0.13.0.dev_c31f167_20130514-py2.7-macosx-10.8-intel.egg/scipy/optimize/zeros.py:149: RuntimeWarning: Tolerance of -9.71717799364e+12 reached\n",
        "  warnings.warn(msg, RuntimeWarning)\n",
        "/Library/Python/2.7/site-packages/scipy-0.13.0.dev_c31f167_20130514-py2.7-macosx-10.8-intel.egg/scipy/optimize/zeros.py:149: RuntimeWarning: Tolerance of -2.36615568468e+16 reached\n",
        "  warnings.warn(msg, RuntimeWarning)\n"
       ]
      },
      {
       "output_type": "stream",
       "stream": "stderr",
       "text": [
        "/Library/Python/2.7/site-packages/scipy-0.13.0.dev_c31f167_20130514-py2.7-macosx-10.8-intel.egg/scipy/optimize/zeros.py:149: RuntimeWarning: Tolerance of 7.05430887549e+13 reached\n",
        "  warnings.warn(msg, RuntimeWarning)\n",
        "/Library/Python/2.7/site-packages/scipy-0.13.0.dev_c31f167_20130514-py2.7-macosx-10.8-intel.egg/scipy/optimize/zeros.py:149: RuntimeWarning: Tolerance of -4.67184780351e+13 reached\n",
        "  warnings.warn(msg, RuntimeWarning)\n"
       ]
      },
      {
       "output_type": "stream",
       "stream": "stderr",
       "text": [
        "/Library/Python/2.7/site-packages/scipy-0.13.0.dev_c31f167_20130514-py2.7-macosx-10.8-intel.egg/scipy/optimize/zeros.py:149: RuntimeWarning: Tolerance of 1.06419939377e+15 reached\n",
        "  warnings.warn(msg, RuntimeWarning)\n",
        "/Library/Python/2.7/site-packages/scipy-0.13.0.dev_c31f167_20130514-py2.7-macosx-10.8-intel.egg/scipy/optimize/zeros.py:149: RuntimeWarning: Tolerance of -6.24631366609e+13 reached\n",
        "  warnings.warn(msg, RuntimeWarning)\n"
       ]
      },
      {
       "output_type": "stream",
       "stream": "stderr",
       "text": [
        "/Library/Python/2.7/site-packages/scipy-0.13.0.dev_c31f167_20130514-py2.7-macosx-10.8-intel.egg/scipy/optimize/zeros.py:149: RuntimeWarning: Tolerance of -2.70022696511e+16 reached\n",
        "  warnings.warn(msg, RuntimeWarning)\n",
        "/Library/Python/2.7/site-packages/scipy-0.13.0.dev_c31f167_20130514-py2.7-macosx-10.8-intel.egg/scipy/optimize/zeros.py:149: RuntimeWarning: Tolerance of 5.73261690664e+15 reached\n",
        "  warnings.warn(msg, RuntimeWarning)\n"
       ]
      },
      {
       "output_type": "stream",
       "stream": "stderr",
       "text": [
        "/Library/Python/2.7/site-packages/scipy-0.13.0.dev_c31f167_20130514-py2.7-macosx-10.8-intel.egg/scipy/optimize/zeros.py:149: RuntimeWarning: Tolerance of 5.93221689141e+13 reached\n",
        "  warnings.warn(msg, RuntimeWarning)\n",
        "/Library/Python/2.7/site-packages/scipy-0.13.0.dev_c31f167_20130514-py2.7-macosx-10.8-intel.egg/scipy/optimize/zeros.py:149: RuntimeWarning: Tolerance of 2.18486379747e+13 reached\n",
        "  warnings.warn(msg, RuntimeWarning)\n"
       ]
      },
      {
       "output_type": "stream",
       "stream": "stderr",
       "text": [
        "/Library/Python/2.7/site-packages/scipy-0.13.0.dev_c31f167_20130514-py2.7-macosx-10.8-intel.egg/scipy/optimize/zeros.py:149: RuntimeWarning: Tolerance of 3.23378256742e+15 reached\n",
        "  warnings.warn(msg, RuntimeWarning)\n",
        "/Library/Python/2.7/site-packages/scipy-0.13.0.dev_c31f167_20130514-py2.7-macosx-10.8-intel.egg/scipy/optimize/zeros.py:149: RuntimeWarning: Tolerance of 1.84695845697e+14 reached\n",
        "  warnings.warn(msg, RuntimeWarning)\n"
       ]
      },
      {
       "output_type": "stream",
       "stream": "stderr",
       "text": [
        "/Library/Python/2.7/site-packages/scipy-0.13.0.dev_c31f167_20130514-py2.7-macosx-10.8-intel.egg/scipy/optimize/zeros.py:149: RuntimeWarning: Tolerance of 5.64691835967e+13 reached\n",
        "  warnings.warn(msg, RuntimeWarning)\n",
        "/Library/Python/2.7/site-packages/scipy-0.13.0.dev_c31f167_20130514-py2.7-macosx-10.8-intel.egg/scipy/optimize/zeros.py:149: RuntimeWarning: Tolerance of -5.64671536088e+13 reached\n",
        "  warnings.warn(msg, RuntimeWarning)\n"
       ]
      },
      {
       "output_type": "stream",
       "stream": "stderr",
       "text": [
        "/Library/Python/2.7/site-packages/scipy-0.13.0.dev_c31f167_20130514-py2.7-macosx-10.8-intel.egg/scipy/optimize/zeros.py:149: RuntimeWarning: Tolerance of -2.38626985611e+14 reached\n",
        "  warnings.warn(msg, RuntimeWarning)\n",
        "/Library/Python/2.7/site-packages/scipy-0.13.0.dev_c31f167_20130514-py2.7-macosx-10.8-intel.egg/scipy/optimize/zeros.py:149: RuntimeWarning: Tolerance of -4.05487086079e+14 reached\n",
        "  warnings.warn(msg, RuntimeWarning)\n"
       ]
      },
      {
       "output_type": "stream",
       "stream": "stderr",
       "text": [
        "/Library/Python/2.7/site-packages/scipy-0.13.0.dev_c31f167_20130514-py2.7-macosx-10.8-intel.egg/scipy/optimize/zeros.py:149: RuntimeWarning: Tolerance of 4.96818710504e+14 reached\n",
        "  warnings.warn(msg, RuntimeWarning)\n",
        "/Library/Python/2.7/site-packages/scipy-0.13.0.dev_c31f167_20130514-py2.7-macosx-10.8-intel.egg/scipy/optimize/zeros.py:149: RuntimeWarning: Tolerance of -1.90112731619e+12 reached\n",
        "  warnings.warn(msg, RuntimeWarning)\n"
       ]
      },
      {
       "output_type": "stream",
       "stream": "stderr",
       "text": [
        "/Library/Python/2.7/site-packages/scipy-0.13.0.dev_c31f167_20130514-py2.7-macosx-10.8-intel.egg/scipy/optimize/zeros.py:149: RuntimeWarning: Tolerance of 1.10701918604e+15 reached\n",
        "  warnings.warn(msg, RuntimeWarning)\n",
        "/Library/Python/2.7/site-packages/scipy-0.13.0.dev_c31f167_20130514-py2.7-macosx-10.8-intel.egg/scipy/optimize/zeros.py:149: RuntimeWarning: Tolerance of -4.2446401409e+14 reached\n",
        "  warnings.warn(msg, RuntimeWarning)\n"
       ]
      },
      {
       "output_type": "stream",
       "stream": "stderr",
       "text": [
        "/Library/Python/2.7/site-packages/scipy-0.13.0.dev_c31f167_20130514-py2.7-macosx-10.8-intel.egg/scipy/optimize/zeros.py:149: RuntimeWarning: Tolerance of -1.1482397092e+13 reached\n",
        "  warnings.warn(msg, RuntimeWarning)\n",
        "/Library/Python/2.7/site-packages/scipy-0.13.0.dev_c31f167_20130514-py2.7-macosx-10.8-intel.egg/scipy/optimize/zeros.py:149: RuntimeWarning: Tolerance of -3.24668022341e+15 reached\n",
        "  warnings.warn(msg, RuntimeWarning)\n"
       ]
      },
      {
       "output_type": "stream",
       "stream": "stderr",
       "text": [
        "/Library/Python/2.7/site-packages/scipy-0.13.0.dev_c31f167_20130514-py2.7-macosx-10.8-intel.egg/scipy/optimize/zeros.py:149: RuntimeWarning: Tolerance of 3.56692794178e+15 reached\n",
        "  warnings.warn(msg, RuntimeWarning)\n",
        "/Library/Python/2.7/site-packages/scipy-0.13.0.dev_c31f167_20130514-py2.7-macosx-10.8-intel.egg/scipy/optimize/zeros.py:149: RuntimeWarning: Tolerance of 3.07436077255e+14 reached\n",
        "  warnings.warn(msg, RuntimeWarning)\n"
       ]
      },
      {
       "output_type": "stream",
       "stream": "stderr",
       "text": [
        "/Library/Python/2.7/site-packages/scipy-0.13.0.dev_c31f167_20130514-py2.7-macosx-10.8-intel.egg/scipy/optimize/zeros.py:149: RuntimeWarning: Tolerance of -1.89627858886e+14 reached\n",
        "  warnings.warn(msg, RuntimeWarning)\n",
        "/Library/Python/2.7/site-packages/scipy-0.13.0.dev_c31f167_20130514-py2.7-macosx-10.8-intel.egg/scipy/optimize/zeros.py:149: RuntimeWarning: Tolerance of 9.51695255935e-07 reached\n",
        "  warnings.warn(msg, RuntimeWarning)\n"
       ]
      },
      {
       "output_type": "stream",
       "stream": "stderr",
       "text": [
        "/Library/Python/2.7/site-packages/scipy-0.13.0.dev_c31f167_20130514-py2.7-macosx-10.8-intel.egg/scipy/optimize/zeros.py:149: RuntimeWarning: Tolerance of 4.56667604121e+13 reached\n",
        "  warnings.warn(msg, RuntimeWarning)\n",
        "/Library/Python/2.7/site-packages/scipy-0.13.0.dev_c31f167_20130514-py2.7-macosx-10.8-intel.egg/scipy/optimize/zeros.py:149: RuntimeWarning: Tolerance of -5.30636579342e+15 reached\n",
        "  warnings.warn(msg, RuntimeWarning)\n"
       ]
      },
      {
       "output_type": "stream",
       "stream": "stdout",
       "text": [
        "\n",
        "deleting item T1map_LL"
       ]
      },
      {
       "output_type": "stream",
       "stream": "stdout",
       "text": [
        "\n",
        "deleting item T1map_LL_fitdict"
       ]
      },
      {
       "output_type": "stream",
       "stream": "stderr",
       "text": [
        "WARNING:sarpy.io.BRUKERIO:NSLICES not equal to number of ACQ_obj_order\n"
       ]
      },
      {
       "output_type": "stream",
       "stream": "stderr",
       "text": [
        "/Library/Python/2.7/site-packages/scipy-0.13.0.dev_c31f167_20130514-py2.7-macosx-10.8-intel.egg/scipy/optimize/zeros.py:149: RuntimeWarning: Tolerance of -5.89320224271e+13 reached\n",
        "  warnings.warn(msg, RuntimeWarning)\n",
        "/Library/Python/2.7/site-packages/scipy-0.13.0.dev_c31f167_20130514-py2.7-macosx-10.8-intel.egg/scipy/optimize/zeros.py:149: RuntimeWarning: Tolerance of -9.83099547503e+13 reached\n",
        "  warnings.warn(msg, RuntimeWarning)\n"
       ]
      },
      {
       "output_type": "stream",
       "stream": "stderr",
       "text": [
        "/Library/Python/2.7/site-packages/scipy-0.13.0.dev_c31f167_20130514-py2.7-macosx-10.8-intel.egg/scipy/optimize/zeros.py:149: RuntimeWarning: Tolerance of 9.2276661272e+15 reached\n",
        "  warnings.warn(msg, RuntimeWarning)\n",
        "/Library/Python/2.7/site-packages/scipy-0.13.0.dev_c31f167_20130514-py2.7-macosx-10.8-intel.egg/scipy/optimize/zeros.py:149: RuntimeWarning: Tolerance of -1.34329349217e+15 reached\n",
        "  warnings.warn(msg, RuntimeWarning)\n"
       ]
      },
      {
       "output_type": "stream",
       "stream": "stderr",
       "text": [
        "/Library/Python/2.7/site-packages/scipy-0.13.0.dev_c31f167_20130514-py2.7-macosx-10.8-intel.egg/scipy/optimize/zeros.py:149: RuntimeWarning: Tolerance of 9.8290560115e+15 reached\n",
        "  warnings.warn(msg, RuntimeWarning)\n",
        "/Library/Python/2.7/site-packages/scipy-0.13.0.dev_c31f167_20130514-py2.7-macosx-10.8-intel.egg/scipy/optimize/zeros.py:149: RuntimeWarning: Tolerance of 4.24554820932e+15 reached\n",
        "  warnings.warn(msg, RuntimeWarning)\n"
       ]
      },
      {
       "output_type": "stream",
       "stream": "stderr",
       "text": [
        "/Library/Python/2.7/site-packages/scipy-0.13.0.dev_c31f167_20130514-py2.7-macosx-10.8-intel.egg/scipy/optimize/zeros.py:149: RuntimeWarning: Tolerance of -1.38623649816e+15 reached\n",
        "  warnings.warn(msg, RuntimeWarning)\n",
        "/Library/Python/2.7/site-packages/scipy-0.13.0.dev_c31f167_20130514-py2.7-macosx-10.8-intel.egg/scipy/optimize/zeros.py:149: RuntimeWarning: Tolerance of 2.61659746258e+12 reached\n",
        "  warnings.warn(msg, RuntimeWarning)\n"
       ]
      },
      {
       "output_type": "stream",
       "stream": "stderr",
       "text": [
        "/Library/Python/2.7/site-packages/scipy-0.13.0.dev_c31f167_20130514-py2.7-macosx-10.8-intel.egg/scipy/optimize/zeros.py:149: RuntimeWarning: Tolerance of 2.44087435405e+13 reached\n",
        "  warnings.warn(msg, RuntimeWarning)\n",
        "/Library/Python/2.7/site-packages/scipy-0.13.0.dev_c31f167_20130514-py2.7-macosx-10.8-intel.egg/scipy/optimize/zeros.py:149: RuntimeWarning: Tolerance of 2.19801613182e+16 reached\n",
        "  warnings.warn(msg, RuntimeWarning)\n"
       ]
      },
      {
       "output_type": "stream",
       "stream": "stderr",
       "text": [
        "/Library/Python/2.7/site-packages/scipy-0.13.0.dev_c31f167_20130514-py2.7-macosx-10.8-intel.egg/scipy/optimize/zeros.py:149: RuntimeWarning: Tolerance of -7.02846446217e+15 reached\n",
        "  warnings.warn(msg, RuntimeWarning)\n",
        "/Library/Python/2.7/site-packages/scipy-0.13.0.dev_c31f167_20130514-py2.7-macosx-10.8-intel.egg/scipy/optimize/zeros.py:149: RuntimeWarning: Tolerance of 3.41107250056e+15 reached\n",
        "  warnings.warn(msg, RuntimeWarning)\n"
       ]
      },
      {
       "output_type": "stream",
       "stream": "stderr",
       "text": [
        "/Library/Python/2.7/site-packages/scipy-0.13.0.dev_c31f167_20130514-py2.7-macosx-10.8-intel.egg/scipy/optimize/zeros.py:149: RuntimeWarning: Tolerance of 2.1821421964e+14 reached\n",
        "  warnings.warn(msg, RuntimeWarning)\n",
        "/Library/Python/2.7/site-packages/scipy-0.13.0.dev_c31f167_20130514-py2.7-macosx-10.8-intel.egg/scipy/optimize/zeros.py:149: RuntimeWarning: Tolerance of -6.19451924472e+15 reached\n",
        "  warnings.warn(msg, RuntimeWarning)\n"
       ]
      },
      {
       "output_type": "stream",
       "stream": "stderr",
       "text": [
        "/Library/Python/2.7/site-packages/scipy-0.13.0.dev_c31f167_20130514-py2.7-macosx-10.8-intel.egg/scipy/optimize/zeros.py:149: RuntimeWarning: Tolerance of -1.60285768088e+14 reached\n",
        "  warnings.warn(msg, RuntimeWarning)\n",
        "/Library/Python/2.7/site-packages/scipy-0.13.0.dev_c31f167_20130514-py2.7-macosx-10.8-intel.egg/scipy/optimize/zeros.py:149: RuntimeWarning: Tolerance of -4.12730798097e+15 reached\n",
        "  warnings.warn(msg, RuntimeWarning)\n"
       ]
      },
      {
       "output_type": "stream",
       "stream": "stderr",
       "text": [
        "/Library/Python/2.7/site-packages/scipy-0.13.0.dev_c31f167_20130514-py2.7-macosx-10.8-intel.egg/scipy/optimize/zeros.py:149: RuntimeWarning: Tolerance of -4.94536152943e+14 reached\n",
        "  warnings.warn(msg, RuntimeWarning)\n",
        "/Library/Python/2.7/site-packages/scipy-0.13.0.dev_c31f167_20130514-py2.7-macosx-10.8-intel.egg/scipy/optimize/zeros.py:149: RuntimeWarning: Tolerance of 2.77970856826e+16 reached\n",
        "  warnings.warn(msg, RuntimeWarning)\n"
       ]
      },
      {
       "output_type": "stream",
       "stream": "stderr",
       "text": [
        "/Library/Python/2.7/site-packages/scipy-0.13.0.dev_c31f167_20130514-py2.7-macosx-10.8-intel.egg/scipy/optimize/zeros.py:149: RuntimeWarning: Tolerance of 2.29320475789e+15 reached\n",
        "  warnings.warn(msg, RuntimeWarning)\n",
        "/Library/Python/2.7/site-packages/scipy-0.13.0.dev_c31f167_20130514-py2.7-macosx-10.8-intel.egg/scipy/optimize/zeros.py:149: RuntimeWarning: Tolerance of -6.21109571793e+15 reached\n",
        "  warnings.warn(msg, RuntimeWarning)\n"
       ]
      },
      {
       "output_type": "stream",
       "stream": "stderr",
       "text": [
        "/Library/Python/2.7/site-packages/scipy-0.13.0.dev_c31f167_20130514-py2.7-macosx-10.8-intel.egg/scipy/optimize/zeros.py:149: RuntimeWarning: Tolerance of 6.49615088758e+13 reached\n",
        "  warnings.warn(msg, RuntimeWarning)\n",
        "/Library/Python/2.7/site-packages/scipy-0.13.0.dev_c31f167_20130514-py2.7-macosx-10.8-intel.egg/scipy/optimize/zeros.py:149: RuntimeWarning: Tolerance of 1.39698386192e-07 reached\n",
        "  warnings.warn(msg, RuntimeWarning)\n"
       ]
      },
      {
       "output_type": "stream",
       "stream": "stderr",
       "text": [
        "/Library/Python/2.7/site-packages/scipy-0.13.0.dev_c31f167_20130514-py2.7-macosx-10.8-intel.egg/scipy/optimize/zeros.py:149: RuntimeWarning: Tolerance of 3.81144140857e+15 reached\n",
        "  warnings.warn(msg, RuntimeWarning)\n",
        "/Library/Python/2.7/site-packages/scipy-0.13.0.dev_c31f167_20130514-py2.7-macosx-10.8-intel.egg/scipy/optimize/zeros.py:149: RuntimeWarning: Tolerance of 6.19887093324e+14 reached\n",
        "  warnings.warn(msg, RuntimeWarning)\n"
       ]
      },
      {
       "output_type": "stream",
       "stream": "stderr",
       "text": [
        "/Library/Python/2.7/site-packages/scipy-0.13.0.dev_c31f167_20130514-py2.7-macosx-10.8-intel.egg/scipy/optimize/zeros.py:149: RuntimeWarning: Tolerance of 8.85405096201e+14 reached\n",
        "  warnings.warn(msg, RuntimeWarning)\n",
        "/Library/Python/2.7/site-packages/scipy-0.13.0.dev_c31f167_20130514-py2.7-macosx-10.8-intel.egg/scipy/optimize/zeros.py:149: RuntimeWarning: Tolerance of -8.62061727561e+15 reached\n",
        "  warnings.warn(msg, RuntimeWarning)\n"
       ]
      },
      {
       "output_type": "stream",
       "stream": "stderr",
       "text": [
        "/Library/Python/2.7/site-packages/scipy-0.13.0.dev_c31f167_20130514-py2.7-macosx-10.8-intel.egg/scipy/optimize/zeros.py:149: RuntimeWarning: Tolerance of -2.06628339739e+14 reached\n",
        "  warnings.warn(msg, RuntimeWarning)\n",
        "/Library/Python/2.7/site-packages/scipy-0.13.0.dev_c31f167_20130514-py2.7-macosx-10.8-intel.egg/scipy/optimize/zeros.py:149: RuntimeWarning: Tolerance of 9.3869825692e+14 reached\n",
        "  warnings.warn(msg, RuntimeWarning)\n"
       ]
      },
      {
       "output_type": "stream",
       "stream": "stderr",
       "text": [
        "/Library/Python/2.7/site-packages/scipy-0.13.0.dev_c31f167_20130514-py2.7-macosx-10.8-intel.egg/scipy/optimize/zeros.py:149: RuntimeWarning: Tolerance of 1.83002086215e+14 reached\n",
        "  warnings.warn(msg, RuntimeWarning)\n",
        "/Library/Python/2.7/site-packages/scipy-0.13.0.dev_c31f167_20130514-py2.7-macosx-10.8-intel.egg/scipy/optimize/zeros.py:149: RuntimeWarning: Tolerance of 3.01912615026e+12 reached\n",
        "  warnings.warn(msg, RuntimeWarning)\n"
       ]
      },
      {
       "output_type": "stream",
       "stream": "stderr",
       "text": [
        "/Library/Python/2.7/site-packages/scipy-0.13.0.dev_c31f167_20130514-py2.7-macosx-10.8-intel.egg/scipy/optimize/zeros.py:149: RuntimeWarning: Tolerance of 6.5384498391e+15 reached\n",
        "  warnings.warn(msg, RuntimeWarning)\n",
        "/Library/Python/2.7/site-packages/scipy-0.13.0.dev_c31f167_20130514-py2.7-macosx-10.8-intel.egg/scipy/optimize/zeros.py:149: RuntimeWarning: Tolerance of 4.14430360424e+14 reached\n",
        "  warnings.warn(msg, RuntimeWarning)\n"
       ]
      },
      {
       "output_type": "stream",
       "stream": "stderr",
       "text": [
        "/Library/Python/2.7/site-packages/scipy-0.13.0.dev_c31f167_20130514-py2.7-macosx-10.8-intel.egg/scipy/optimize/zeros.py:149: RuntimeWarning: Tolerance of 2.2947748619e+15 reached\n",
        "  warnings.warn(msg, RuntimeWarning)\n",
        "/Library/Python/2.7/site-packages/scipy-0.13.0.dev_c31f167_20130514-py2.7-macosx-10.8-intel.egg/scipy/optimize/zeros.py:149: RuntimeWarning: Tolerance of -3.18612224233e+15 reached\n",
        "  warnings.warn(msg, RuntimeWarning)\n"
       ]
      },
      {
       "output_type": "stream",
       "stream": "stderr",
       "text": [
        "/Library/Python/2.7/site-packages/scipy-0.13.0.dev_c31f167_20130514-py2.7-macosx-10.8-intel.egg/scipy/optimize/zeros.py:149: RuntimeWarning: Tolerance of 1.24446002128e+15 reached\n",
        "  warnings.warn(msg, RuntimeWarning)\n",
        "/Library/Python/2.7/site-packages/scipy-0.13.0.dev_c31f167_20130514-py2.7-macosx-10.8-intel.egg/scipy/optimize/zeros.py:149: RuntimeWarning: Tolerance of 103687231448.0 reached\n",
        "  warnings.warn(msg, RuntimeWarning)\n"
       ]
      },
      {
       "output_type": "stream",
       "stream": "stdout",
       "text": [
        "\n",
        "deleting item T1map_LL"
       ]
      },
      {
       "output_type": "stream",
       "stream": "stdout",
       "text": [
        "\n",
        "deleting item T1map_LL_fitdict"
       ]
      },
      {
       "output_type": "stream",
       "stream": "stderr",
       "text": [
        "WARNING:sarpy.io.BRUKERIO:NSLICES not equal to number of ACQ_obj_order\n"
       ]
      },
      {
       "output_type": "stream",
       "stream": "stderr",
       "text": [
        "/Library/Python/2.7/site-packages/scipy-0.13.0.dev_c31f167_20130514-py2.7-macosx-10.8-intel.egg/scipy/optimize/zeros.py:149: RuntimeWarning: Tolerance of -7.93640247916e+14 reached\n",
        "  warnings.warn(msg, RuntimeWarning)\n",
        "/Library/Python/2.7/site-packages/scipy-0.13.0.dev_c31f167_20130514-py2.7-macosx-10.8-intel.egg/scipy/optimize/zeros.py:149: RuntimeWarning: Tolerance of -3.19318357358e+16 reached\n",
        "  warnings.warn(msg, RuntimeWarning)\n"
       ]
      },
      {
       "output_type": "stream",
       "stream": "stderr",
       "text": [
        "/Library/Python/2.7/site-packages/scipy-0.13.0.dev_c31f167_20130514-py2.7-macosx-10.8-intel.egg/scipy/optimize/zeros.py:149: RuntimeWarning: Tolerance of -1.5726295943e+13 reached\n",
        "  warnings.warn(msg, RuntimeWarning)\n",
        "/Library/Python/2.7/site-packages/scipy-0.13.0.dev_c31f167_20130514-py2.7-macosx-10.8-intel.egg/scipy/optimize/zeros.py:149: RuntimeWarning: Tolerance of 6.17057231592e+14 reached\n",
        "  warnings.warn(msg, RuntimeWarning)\n"
       ]
      },
      {
       "output_type": "stream",
       "stream": "stderr",
       "text": [
        "/Library/Python/2.7/site-packages/scipy-0.13.0.dev_c31f167_20130514-py2.7-macosx-10.8-intel.egg/scipy/optimize/zeros.py:149: RuntimeWarning: Tolerance of 2.02742519398e+15 reached\n",
        "  warnings.warn(msg, RuntimeWarning)\n",
        "/Library/Python/2.7/site-packages/scipy-0.13.0.dev_c31f167_20130514-py2.7-macosx-10.8-intel.egg/scipy/optimize/zeros.py:149: RuntimeWarning: Tolerance of -4.00801679833e+14 reached\n",
        "  warnings.warn(msg, RuntimeWarning)\n"
       ]
      },
      {
       "output_type": "stream",
       "stream": "stderr",
       "text": [
        "/Library/Python/2.7/site-packages/scipy-0.13.0.dev_c31f167_20130514-py2.7-macosx-10.8-intel.egg/scipy/optimize/zeros.py:149: RuntimeWarning: Tolerance of -3.05881060394e+15 reached\n",
        "  warnings.warn(msg, RuntimeWarning)\n",
        "/Library/Python/2.7/site-packages/scipy-0.13.0.dev_c31f167_20130514-py2.7-macosx-10.8-intel.egg/scipy/optimize/zeros.py:149: RuntimeWarning: Tolerance of -2.42720792418e+14 reached\n",
        "  warnings.warn(msg, RuntimeWarning)\n"
       ]
      },
      {
       "output_type": "stream",
       "stream": "stderr",
       "text": [
        "/Library/Python/2.7/site-packages/scipy-0.13.0.dev_c31f167_20130514-py2.7-macosx-10.8-intel.egg/scipy/optimize/zeros.py:149: RuntimeWarning: Tolerance of -3.41719366599e+13 reached\n",
        "  warnings.warn(msg, RuntimeWarning)\n",
        "/Library/Python/2.7/site-packages/scipy-0.13.0.dev_c31f167_20130514-py2.7-macosx-10.8-intel.egg/scipy/optimize/zeros.py:149: RuntimeWarning: Tolerance of -7.63261908093e+15 reached\n",
        "  warnings.warn(msg, RuntimeWarning)\n"
       ]
      },
      {
       "output_type": "stream",
       "stream": "stderr",
       "text": [
        "/Library/Python/2.7/site-packages/scipy-0.13.0.dev_c31f167_20130514-py2.7-macosx-10.8-intel.egg/scipy/optimize/zeros.py:149: RuntimeWarning: Tolerance of 8.53825068402e+14 reached\n",
        "  warnings.warn(msg, RuntimeWarning)\n",
        "/Library/Python/2.7/site-packages/scipy-0.13.0.dev_c31f167_20130514-py2.7-macosx-10.8-intel.egg/scipy/optimize/zeros.py:149: RuntimeWarning: Tolerance of 3.90848374454e+14 reached\n",
        "  warnings.warn(msg, RuntimeWarning)\n"
       ]
      },
      {
       "output_type": "stream",
       "stream": "stderr",
       "text": [
        "/Library/Python/2.7/site-packages/scipy-0.13.0.dev_c31f167_20130514-py2.7-macosx-10.8-intel.egg/scipy/optimize/zeros.py:149: RuntimeWarning: Tolerance of 6.21878328694e+13 reached\n",
        "  warnings.warn(msg, RuntimeWarning)\n",
        "/Library/Python/2.7/site-packages/scipy-0.13.0.dev_c31f167_20130514-py2.7-macosx-10.8-intel.egg/scipy/optimize/zeros.py:149: RuntimeWarning: Tolerance of -1.04469619461e+16 reached\n",
        "  warnings.warn(msg, RuntimeWarning)\n"
       ]
      },
      {
       "output_type": "stream",
       "stream": "stderr",
       "text": [
        "/Library/Python/2.7/site-packages/scipy-0.13.0.dev_c31f167_20130514-py2.7-macosx-10.8-intel.egg/scipy/optimize/zeros.py:149: RuntimeWarning: Tolerance of -1.59204028676e+14 reached\n",
        "  warnings.warn(msg, RuntimeWarning)\n",
        "/Library/Python/2.7/site-packages/scipy-0.13.0.dev_c31f167_20130514-py2.7-macosx-10.8-intel.egg/scipy/optimize/zeros.py:149: RuntimeWarning: Tolerance of 1.03898330253e+14 reached\n",
        "  warnings.warn(msg, RuntimeWarning)\n"
       ]
      },
      {
       "output_type": "stream",
       "stream": "stderr",
       "text": [
        "/Library/Python/2.7/site-packages/scipy-0.13.0.dev_c31f167_20130514-py2.7-macosx-10.8-intel.egg/scipy/optimize/zeros.py:149: RuntimeWarning: Tolerance of -4.44569183882e+15 reached\n",
        "  warnings.warn(msg, RuntimeWarning)\n",
        "/Library/Python/2.7/site-packages/scipy-0.13.0.dev_c31f167_20130514-py2.7-macosx-10.8-intel.egg/scipy/optimize/zeros.py:149: RuntimeWarning: Tolerance of -2.77728413268e+15 reached\n",
        "  warnings.warn(msg, RuntimeWarning)\n"
       ]
      },
      {
       "output_type": "stream",
       "stream": "stderr",
       "text": [
        "/Library/Python/2.7/site-packages/scipy-0.13.0.dev_c31f167_20130514-py2.7-macosx-10.8-intel.egg/scipy/optimize/zeros.py:149: RuntimeWarning: Tolerance of -1.06636794687e+15 reached\n",
        "  warnings.warn(msg, RuntimeWarning)\n",
        "/Library/Python/2.7/site-packages/scipy-0.13.0.dev_c31f167_20130514-py2.7-macosx-10.8-intel.egg/scipy/optimize/zeros.py:149: RuntimeWarning: Tolerance of -1.96807708643e+15 reached\n",
        "  warnings.warn(msg, RuntimeWarning)\n"
       ]
      },
      {
       "output_type": "stream",
       "stream": "stdout",
       "text": [
        "\n",
        "deleting item T1map_LL"
       ]
      },
      {
       "output_type": "stream",
       "stream": "stdout",
       "text": [
        "\n",
        "deleting item T1map_LL_fitdict"
       ]
      },
      {
       "output_type": "stream",
       "stream": "stderr",
       "text": [
        "/Library/Python/2.7/site-packages/scipy-0.13.0.dev_c31f167_20130514-py2.7-macosx-10.8-intel.egg/scipy/optimize/zeros.py:149: RuntimeWarning: Tolerance of -1.21247671342e+14 reached\n",
        "  warnings.warn(msg, RuntimeWarning)\n",
        "WARNING:sarpy.io.BRUKERIO:NSLICES not equal to number of ACQ_obj_order\n"
       ]
      },
      {
       "output_type": "stream",
       "stream": "stderr",
       "text": [
        "/Library/Python/2.7/site-packages/scipy-0.13.0.dev_c31f167_20130514-py2.7-macosx-10.8-intel.egg/scipy/optimize/zeros.py:149: RuntimeWarning: Tolerance of -1.28798092777e+14 reached\n",
        "  warnings.warn(msg, RuntimeWarning)\n",
        "/Library/Python/2.7/site-packages/scipy-0.13.0.dev_c31f167_20130514-py2.7-macosx-10.8-intel.egg/scipy/optimize/zeros.py:149: RuntimeWarning: Tolerance of -4.02742556071e+13 reached\n",
        "  warnings.warn(msg, RuntimeWarning)\n"
       ]
      },
      {
       "output_type": "stream",
       "stream": "stderr",
       "text": [
        "/Library/Python/2.7/site-packages/scipy-0.13.0.dev_c31f167_20130514-py2.7-macosx-10.8-intel.egg/scipy/optimize/zeros.py:149: RuntimeWarning: Tolerance of -5.24160840156e+15 reached\n",
        "  warnings.warn(msg, RuntimeWarning)\n",
        "/Library/Python/2.7/site-packages/scipy-0.13.0.dev_c31f167_20130514-py2.7-macosx-10.8-intel.egg/scipy/optimize/zeros.py:149: RuntimeWarning: Tolerance of 1.03016814299e+13 reached\n",
        "  warnings.warn(msg, RuntimeWarning)\n"
       ]
      },
      {
       "output_type": "stream",
       "stream": "stderr",
       "text": [
        "/Library/Python/2.7/site-packages/scipy-0.13.0.dev_c31f167_20130514-py2.7-macosx-10.8-intel.egg/scipy/optimize/zeros.py:149: RuntimeWarning: Tolerance of -4.82303034561e+15 reached\n",
        "  warnings.warn(msg, RuntimeWarning)\n",
        "/Library/Python/2.7/site-packages/scipy-0.13.0.dev_c31f167_20130514-py2.7-macosx-10.8-intel.egg/scipy/optimize/zeros.py:149: RuntimeWarning: Tolerance of 1.11427334937e+16 reached\n",
        "  warnings.warn(msg, RuntimeWarning)\n"
       ]
      },
      {
       "output_type": "stream",
       "stream": "stderr",
       "text": [
        "/Library/Python/2.7/site-packages/scipy-0.13.0.dev_c31f167_20130514-py2.7-macosx-10.8-intel.egg/scipy/optimize/zeros.py:149: RuntimeWarning: Tolerance of -2.41292751277e+16 reached\n",
        "  warnings.warn(msg, RuntimeWarning)\n",
        "/Library/Python/2.7/site-packages/scipy-0.13.0.dev_c31f167_20130514-py2.7-macosx-10.8-intel.egg/scipy/optimize/zeros.py:149: RuntimeWarning: Tolerance of -296442871664.0 reached\n",
        "  warnings.warn(msg, RuntimeWarning)\n"
       ]
      },
      {
       "output_type": "stream",
       "stream": "stderr",
       "text": [
        "/Library/Python/2.7/site-packages/scipy-0.13.0.dev_c31f167_20130514-py2.7-macosx-10.8-intel.egg/scipy/optimize/zeros.py:149: RuntimeWarning: Tolerance of 6.27380468661e+14 reached\n",
        "  warnings.warn(msg, RuntimeWarning)\n",
        "/Library/Python/2.7/site-packages/scipy-0.13.0.dev_c31f167_20130514-py2.7-macosx-10.8-intel.egg/scipy/optimize/zeros.py:149: RuntimeWarning: Tolerance of 1.51835959348e+15 reached\n",
        "  warnings.warn(msg, RuntimeWarning)\n"
       ]
      },
      {
       "output_type": "stream",
       "stream": "stderr",
       "text": [
        "/Library/Python/2.7/site-packages/scipy-0.13.0.dev_c31f167_20130514-py2.7-macosx-10.8-intel.egg/scipy/optimize/zeros.py:149: RuntimeWarning: Tolerance of -3.57570360464e+14 reached\n",
        "  warnings.warn(msg, RuntimeWarning)\n",
        "/Library/Python/2.7/site-packages/scipy-0.13.0.dev_c31f167_20130514-py2.7-macosx-10.8-intel.egg/scipy/optimize/zeros.py:149: RuntimeWarning: Tolerance of -3.75994857439e+13 reached\n",
        "  warnings.warn(msg, RuntimeWarning)\n"
       ]
      },
      {
       "output_type": "stream",
       "stream": "stderr",
       "text": [
        "/Library/Python/2.7/site-packages/scipy-0.13.0.dev_c31f167_20130514-py2.7-macosx-10.8-intel.egg/scipy/optimize/zeros.py:149: RuntimeWarning: Tolerance of -4.34848687331e+14 reached\n",
        "  warnings.warn(msg, RuntimeWarning)\n",
        "/Library/Python/2.7/site-packages/scipy-0.13.0.dev_c31f167_20130514-py2.7-macosx-10.8-intel.egg/scipy/optimize/zeros.py:149: RuntimeWarning: Tolerance of 3.62974893817e+13 reached\n",
        "  warnings.warn(msg, RuntimeWarning)\n"
       ]
      },
      {
       "output_type": "stream",
       "stream": "stderr",
       "text": [
        "/Library/Python/2.7/site-packages/scipy-0.13.0.dev_c31f167_20130514-py2.7-macosx-10.8-intel.egg/scipy/optimize/zeros.py:149: RuntimeWarning: Tolerance of 3.70328670324e+15 reached\n",
        "  warnings.warn(msg, RuntimeWarning)\n",
        "/Library/Python/2.7/site-packages/scipy-0.13.0.dev_c31f167_20130514-py2.7-macosx-10.8-intel.egg/scipy/optimize/zeros.py:149: RuntimeWarning: Tolerance of 4.10490495256e+14 reached\n",
        "  warnings.warn(msg, RuntimeWarning)\n"
       ]
      },
      {
       "output_type": "stream",
       "stream": "stderr",
       "text": [
        "/Library/Python/2.7/site-packages/scipy-0.13.0.dev_c31f167_20130514-py2.7-macosx-10.8-intel.egg/scipy/optimize/zeros.py:149: RuntimeWarning: Tolerance of -5.39063407224e+14 reached\n",
        "  warnings.warn(msg, RuntimeWarning)\n",
        "/Library/Python/2.7/site-packages/scipy-0.13.0.dev_c31f167_20130514-py2.7-macosx-10.8-intel.egg/scipy/optimize/zeros.py:149: RuntimeWarning: Tolerance of 1.42855679389e+16 reached\n",
        "  warnings.warn(msg, RuntimeWarning)\n"
       ]
      },
      {
       "output_type": "stream",
       "stream": "stderr",
       "text": [
        "/Library/Python/2.7/site-packages/scipy-0.13.0.dev_c31f167_20130514-py2.7-macosx-10.8-intel.egg/scipy/optimize/zeros.py:149: RuntimeWarning: Tolerance of 1.50832381562e+16 reached\n",
        "  warnings.warn(msg, RuntimeWarning)\n",
        "/Library/Python/2.7/site-packages/scipy-0.13.0.dev_c31f167_20130514-py2.7-macosx-10.8-intel.egg/scipy/optimize/zeros.py:149: RuntimeWarning: Tolerance of 1.33024453371e+13 reached\n",
        "  warnings.warn(msg, RuntimeWarning)\n"
       ]
      },
      {
       "output_type": "stream",
       "stream": "stderr",
       "text": [
        "/Library/Python/2.7/site-packages/scipy-0.13.0.dev_c31f167_20130514-py2.7-macosx-10.8-intel.egg/scipy/optimize/zeros.py:149: RuntimeWarning: Tolerance of 6.75202172874e+15 reached\n",
        "  warnings.warn(msg, RuntimeWarning)\n",
        "/Library/Python/2.7/site-packages/scipy-0.13.0.dev_c31f167_20130514-py2.7-macosx-10.8-intel.egg/scipy/optimize/zeros.py:149: RuntimeWarning: Tolerance of -2.31796552591e+15 reached\n",
        "  warnings.warn(msg, RuntimeWarning)\n"
       ]
      },
      {
       "output_type": "stream",
       "stream": "stderr",
       "text": [
        "/Library/Python/2.7/site-packages/scipy-0.13.0.dev_c31f167_20130514-py2.7-macosx-10.8-intel.egg/scipy/optimize/zeros.py:149: RuntimeWarning: Tolerance of 3.77836670351e+15 reached\n",
        "  warnings.warn(msg, RuntimeWarning)\n",
        "/Library/Python/2.7/site-packages/scipy-0.13.0.dev_c31f167_20130514-py2.7-macosx-10.8-intel.egg/scipy/optimize/zeros.py:149: RuntimeWarning: Tolerance of 2.14659927312e+14 reached\n",
        "  warnings.warn(msg, RuntimeWarning)\n"
       ]
      },
      {
       "output_type": "stream",
       "stream": "stderr",
       "text": [
        "/Library/Python/2.7/site-packages/scipy-0.13.0.dev_c31f167_20130514-py2.7-macosx-10.8-intel.egg/scipy/optimize/zeros.py:149: RuntimeWarning: Tolerance of -1.68539284653e+15 reached\n",
        "  warnings.warn(msg, RuntimeWarning)\n",
        "/Library/Python/2.7/site-packages/scipy-0.13.0.dev_c31f167_20130514-py2.7-macosx-10.8-intel.egg/scipy/optimize/zeros.py:149: RuntimeWarning: Tolerance of 3.35444734346e+14 reached\n",
        "  warnings.warn(msg, RuntimeWarning)\n"
       ]
      },
      {
       "output_type": "stream",
       "stream": "stderr",
       "text": [
        "/Library/Python/2.7/site-packages/scipy-0.13.0.dev_c31f167_20130514-py2.7-macosx-10.8-intel.egg/scipy/optimize/zeros.py:149: RuntimeWarning: Tolerance of -4.66270667681e+15 reached\n",
        "  warnings.warn(msg, RuntimeWarning)\n",
        "/Library/Python/2.7/site-packages/scipy-0.13.0.dev_c31f167_20130514-py2.7-macosx-10.8-intel.egg/scipy/optimize/zeros.py:149: RuntimeWarning: Tolerance of -4.02306393999e+14 reached\n",
        "  warnings.warn(msg, RuntimeWarning)\n"
       ]
      },
      {
       "output_type": "stream",
       "stream": "stderr",
       "text": [
        "/Library/Python/2.7/site-packages/scipy-0.13.0.dev_c31f167_20130514-py2.7-macosx-10.8-intel.egg/scipy/optimize/zeros.py:149: RuntimeWarning: Tolerance of -7.23851931971e+14 reached\n",
        "  warnings.warn(msg, RuntimeWarning)\n",
        "/Library/Python/2.7/site-packages/scipy-0.13.0.dev_c31f167_20130514-py2.7-macosx-10.8-intel.egg/scipy/optimize/zeros.py:149: RuntimeWarning: Tolerance of 1.31740887384e+15 reached\n",
        "  warnings.warn(msg, RuntimeWarning)\n"
       ]
      },
      {
       "output_type": "stream",
       "stream": "stderr",
       "text": [
        "/Library/Python/2.7/site-packages/scipy-0.13.0.dev_c31f167_20130514-py2.7-macosx-10.8-intel.egg/scipy/optimize/zeros.py:149: RuntimeWarning: Tolerance of 4.98882413168e+15 reached\n",
        "  warnings.warn(msg, RuntimeWarning)\n",
        "/Library/Python/2.7/site-packages/scipy-0.13.0.dev_c31f167_20130514-py2.7-macosx-10.8-intel.egg/scipy/optimize/zeros.py:149: RuntimeWarning: Tolerance of 6.23654675892e+15 reached\n",
        "  warnings.warn(msg, RuntimeWarning)\n"
       ]
      },
      {
       "output_type": "stream",
       "stream": "stderr",
       "text": [
        "/Library/Python/2.7/site-packages/scipy-0.13.0.dev_c31f167_20130514-py2.7-macosx-10.8-intel.egg/scipy/optimize/zeros.py:149: RuntimeWarning: Tolerance of 2.3589623548e+16 reached\n",
        "  warnings.warn(msg, RuntimeWarning)\n",
        "/Library/Python/2.7/site-packages/scipy-0.13.0.dev_c31f167_20130514-py2.7-macosx-10.8-intel.egg/scipy/optimize/zeros.py:149: RuntimeWarning: Tolerance of -7.33856412251e+14 reached\n",
        "  warnings.warn(msg, RuntimeWarning)\n"
       ]
      },
      {
       "output_type": "stream",
       "stream": "stderr",
       "text": [
        "/Library/Python/2.7/site-packages/scipy-0.13.0.dev_c31f167_20130514-py2.7-macosx-10.8-intel.egg/scipy/optimize/zeros.py:149: RuntimeWarning: Tolerance of 1.62640492813e+15 reached\n",
        "  warnings.warn(msg, RuntimeWarning)\n",
        "/Library/Python/2.7/site-packages/scipy-0.13.0.dev_c31f167_20130514-py2.7-macosx-10.8-intel.egg/scipy/optimize/zeros.py:149: RuntimeWarning: Tolerance of -2.66462076251e+14 reached\n",
        "  warnings.warn(msg, RuntimeWarning)\n"
       ]
      },
      {
       "output_type": "stream",
       "stream": "stdout",
       "text": [
        "\n",
        "deleting item T1map_LL"
       ]
      },
      {
       "output_type": "stream",
       "stream": "stdout",
       "text": [
        "\n",
        "deleting item T1map_LL_fitdict"
       ]
      },
      {
       "output_type": "stream",
       "stream": "stderr",
       "text": [
        "/Library/Python/2.7/site-packages/scipy-0.13.0.dev_c31f167_20130514-py2.7-macosx-10.8-intel.egg/scipy/optimize/zeros.py:149: RuntimeWarning: Tolerance of 1.29911209202e+12 reached\n",
        "  warnings.warn(msg, RuntimeWarning)\n",
        "WARNING:sarpy.io.BRUKERIO:NSLICES not equal to number of ACQ_obj_order\n"
       ]
      },
      {
       "output_type": "stream",
       "stream": "stderr",
       "text": [
        "/Library/Python/2.7/site-packages/scipy-0.13.0.dev_c31f167_20130514-py2.7-macosx-10.8-intel.egg/scipy/optimize/zeros.py:149: RuntimeWarning: Tolerance of -7.533954892e+12 reached\n",
        "  warnings.warn(msg, RuntimeWarning)\n",
        "/Library/Python/2.7/site-packages/scipy-0.13.0.dev_c31f167_20130514-py2.7-macosx-10.8-intel.egg/scipy/optimize/zeros.py:149: RuntimeWarning: Tolerance of 4.7828270857e+15 reached\n",
        "  warnings.warn(msg, RuntimeWarning)\n"
       ]
      },
      {
       "output_type": "stream",
       "stream": "stderr",
       "text": [
        "/Library/Python/2.7/site-packages/scipy-0.13.0.dev_c31f167_20130514-py2.7-macosx-10.8-intel.egg/scipy/optimize/zeros.py:149: RuntimeWarning: Tolerance of 150630138672.0 reached\n",
        "  warnings.warn(msg, RuntimeWarning)\n",
        "/Library/Python/2.7/site-packages/scipy-0.13.0.dev_c31f167_20130514-py2.7-macosx-10.8-intel.egg/scipy/optimize/zeros.py:149: RuntimeWarning: Tolerance of -1.63917282106e+15 reached\n",
        "  warnings.warn(msg, RuntimeWarning)\n"
       ]
      },
      {
       "output_type": "stream",
       "stream": "stderr",
       "text": [
        "/Library/Python/2.7/site-packages/scipy-0.13.0.dev_c31f167_20130514-py2.7-macosx-10.8-intel.egg/scipy/optimize/zeros.py:149: RuntimeWarning: Tolerance of 6.47192982813e+14 reached\n",
        "  warnings.warn(msg, RuntimeWarning)\n",
        "/Library/Python/2.7/site-packages/scipy-0.13.0.dev_c31f167_20130514-py2.7-macosx-10.8-intel.egg/scipy/optimize/zeros.py:149: RuntimeWarning: Tolerance of -3.92589618711e+15 reached\n",
        "  warnings.warn(msg, RuntimeWarning)\n"
       ]
      },
      {
       "output_type": "stream",
       "stream": "stderr",
       "text": [
        "/Library/Python/2.7/site-packages/scipy-0.13.0.dev_c31f167_20130514-py2.7-macosx-10.8-intel.egg/scipy/optimize/zeros.py:149: RuntimeWarning: Tolerance of -3.69678584267e+13 reached\n",
        "  warnings.warn(msg, RuntimeWarning)\n",
        "/Library/Python/2.7/site-packages/scipy-0.13.0.dev_c31f167_20130514-py2.7-macosx-10.8-intel.egg/scipy/optimize/zeros.py:149: RuntimeWarning: Tolerance of -1.70232044537e+12 reached\n",
        "  warnings.warn(msg, RuntimeWarning)\n"
       ]
      },
      {
       "output_type": "stream",
       "stream": "stderr",
       "text": [
        "/Library/Python/2.7/site-packages/scipy-0.13.0.dev_c31f167_20130514-py2.7-macosx-10.8-intel.egg/scipy/optimize/zeros.py:149: RuntimeWarning: Tolerance of -1.88037962803e+16 reached\n",
        "  warnings.warn(msg, RuntimeWarning)\n",
        "/Library/Python/2.7/site-packages/scipy-0.13.0.dev_c31f167_20130514-py2.7-macosx-10.8-intel.egg/scipy/optimize/zeros.py:149: RuntimeWarning: Tolerance of -9.09166913124e+14 reached\n",
        "  warnings.warn(msg, RuntimeWarning)\n"
       ]
      },
      {
       "output_type": "stream",
       "stream": "stderr",
       "text": [
        "/Library/Python/2.7/site-packages/scipy-0.13.0.dev_c31f167_20130514-py2.7-macosx-10.8-intel.egg/scipy/optimize/zeros.py:149: RuntimeWarning: Tolerance of 5.71372437059e+15 reached\n",
        "  warnings.warn(msg, RuntimeWarning)\n",
        "/Library/Python/2.7/site-packages/scipy-0.13.0.dev_c31f167_20130514-py2.7-macosx-10.8-intel.egg/scipy/optimize/zeros.py:149: RuntimeWarning: Tolerance of -8.22341809501e+14 reached\n",
        "  warnings.warn(msg, RuntimeWarning)\n"
       ]
      },
      {
       "output_type": "stream",
       "stream": "stderr",
       "text": [
        "/Library/Python/2.7/site-packages/scipy-0.13.0.dev_c31f167_20130514-py2.7-macosx-10.8-intel.egg/scipy/optimize/zeros.py:149: RuntimeWarning: Tolerance of -1.15303370522e+15 reached\n",
        "  warnings.warn(msg, RuntimeWarning)\n",
        "/Library/Python/2.7/site-packages/scipy-0.13.0.dev_c31f167_20130514-py2.7-macosx-10.8-intel.egg/scipy/optimize/zeros.py:149: RuntimeWarning: Tolerance of -4.57788098106e+13 reached\n",
        "  warnings.warn(msg, RuntimeWarning)\n"
       ]
      },
      {
       "output_type": "stream",
       "stream": "stderr",
       "text": [
        "/Library/Python/2.7/site-packages/scipy-0.13.0.dev_c31f167_20130514-py2.7-macosx-10.8-intel.egg/scipy/optimize/zeros.py:149: RuntimeWarning: Tolerance of 4.41109034514e+14 reached\n",
        "  warnings.warn(msg, RuntimeWarning)\n",
        "/Library/Python/2.7/site-packages/scipy-0.13.0.dev_c31f167_20130514-py2.7-macosx-10.8-intel.egg/scipy/optimize/zeros.py:149: RuntimeWarning: Tolerance of -9.15681738006e+13 reached\n",
        "  warnings.warn(msg, RuntimeWarning)\n"
       ]
      },
      {
       "output_type": "stream",
       "stream": "stderr",
       "text": [
        "/Library/Python/2.7/site-packages/scipy-0.13.0.dev_c31f167_20130514-py2.7-macosx-10.8-intel.egg/scipy/optimize/zeros.py:149: RuntimeWarning: Tolerance of -3.19250859549e+15 reached\n",
        "  warnings.warn(msg, RuntimeWarning)\n",
        "/Library/Python/2.7/site-packages/scipy-0.13.0.dev_c31f167_20130514-py2.7-macosx-10.8-intel.egg/scipy/optimize/zeros.py:149: RuntimeWarning: Tolerance of -1.58498628319e+14 reached\n",
        "  warnings.warn(msg, RuntimeWarning)\n"
       ]
      },
      {
       "output_type": "stream",
       "stream": "stderr",
       "text": [
        "/Library/Python/2.7/site-packages/scipy-0.13.0.dev_c31f167_20130514-py2.7-macosx-10.8-intel.egg/scipy/optimize/zeros.py:149: RuntimeWarning: Tolerance of 1.95751117309e+13 reached\n",
        "  warnings.warn(msg, RuntimeWarning)\n",
        "/Library/Python/2.7/site-packages/scipy-0.13.0.dev_c31f167_20130514-py2.7-macosx-10.8-intel.egg/scipy/optimize/zeros.py:149: RuntimeWarning: Tolerance of 3.80609191247e+13 reached\n",
        "  warnings.warn(msg, RuntimeWarning)\n"
       ]
      },
      {
       "output_type": "stream",
       "stream": "stderr",
       "text": [
        "/Library/Python/2.7/site-packages/scipy-0.13.0.dev_c31f167_20130514-py2.7-macosx-10.8-intel.egg/scipy/optimize/zeros.py:149: RuntimeWarning: Tolerance of 6.77265224065e+15 reached\n",
        "  warnings.warn(msg, RuntimeWarning)\n",
        "/Library/Python/2.7/site-packages/scipy-0.13.0.dev_c31f167_20130514-py2.7-macosx-10.8-intel.egg/scipy/optimize/zeros.py:149: RuntimeWarning: Tolerance of 2.78328817535e+14 reached\n",
        "  warnings.warn(msg, RuntimeWarning)\n"
       ]
      },
      {
       "output_type": "stream",
       "stream": "stderr",
       "text": [
        "/Library/Python/2.7/site-packages/scipy-0.13.0.dev_c31f167_20130514-py2.7-macosx-10.8-intel.egg/scipy/optimize/zeros.py:149: RuntimeWarning: Tolerance of -2.06059100756e+15 reached\n",
        "  warnings.warn(msg, RuntimeWarning)\n",
        "/Library/Python/2.7/site-packages/scipy-0.13.0.dev_c31f167_20130514-py2.7-macosx-10.8-intel.egg/scipy/optimize/zeros.py:149: RuntimeWarning: Tolerance of -6.11391758174e+15 reached\n",
        "  warnings.warn(msg, RuntimeWarning)\n"
       ]
      },
      {
       "output_type": "stream",
       "stream": "stderr",
       "text": [
        "/Library/Python/2.7/site-packages/scipy-0.13.0.dev_c31f167_20130514-py2.7-macosx-10.8-intel.egg/scipy/optimize/zeros.py:149: RuntimeWarning: Tolerance of -345608018600.0 reached\n",
        "  warnings.warn(msg, RuntimeWarning)\n",
        "/Library/Python/2.7/site-packages/scipy-0.13.0.dev_c31f167_20130514-py2.7-macosx-10.8-intel.egg/scipy/optimize/zeros.py:149: RuntimeWarning: Tolerance of 2.26477063975e+13 reached\n",
        "  warnings.warn(msg, RuntimeWarning)\n"
       ]
      },
      {
       "output_type": "stream",
       "stream": "stderr",
       "text": [
        "/Library/Python/2.7/site-packages/scipy-0.13.0.dev_c31f167_20130514-py2.7-macosx-10.8-intel.egg/scipy/optimize/zeros.py:149: RuntimeWarning: Tolerance of -3.57756861658e+14 reached\n",
        "  warnings.warn(msg, RuntimeWarning)\n",
        "/Library/Python/2.7/site-packages/scipy-0.13.0.dev_c31f167_20130514-py2.7-macosx-10.8-intel.egg/scipy/optimize/zeros.py:149: RuntimeWarning: Tolerance of 2.11003274527e+14 reached\n",
        "  warnings.warn(msg, RuntimeWarning)\n"
       ]
      },
      {
       "output_type": "stream",
       "stream": "stderr",
       "text": [
        "/Library/Python/2.7/site-packages/scipy-0.13.0.dev_c31f167_20130514-py2.7-macosx-10.8-intel.egg/scipy/optimize/zeros.py:149: RuntimeWarning: Tolerance of 2.49315183559e+15 reached\n",
        "  warnings.warn(msg, RuntimeWarning)\n",
        "/Library/Python/2.7/site-packages/scipy-0.13.0.dev_c31f167_20130514-py2.7-macosx-10.8-intel.egg/scipy/optimize/zeros.py:149: RuntimeWarning: Tolerance of 3.20053458499e+15 reached\n",
        "  warnings.warn(msg, RuntimeWarning)\n"
       ]
      },
      {
       "output_type": "stream",
       "stream": "stderr",
       "text": [
        "/Library/Python/2.7/site-packages/scipy-0.13.0.dev_c31f167_20130514-py2.7-macosx-10.8-intel.egg/scipy/optimize/zeros.py:149: RuntimeWarning: Tolerance of 3.68189257816e+15 reached\n",
        "  warnings.warn(msg, RuntimeWarning)\n",
        "/Library/Python/2.7/site-packages/scipy-0.13.0.dev_c31f167_20130514-py2.7-macosx-10.8-intel.egg/scipy/optimize/zeros.py:149: RuntimeWarning: Tolerance of 1.89047087828e+14 reached\n",
        "  warnings.warn(msg, RuntimeWarning)\n"
       ]
      },
      {
       "output_type": "stream",
       "stream": "stderr",
       "text": [
        "/Library/Python/2.7/site-packages/scipy-0.13.0.dev_c31f167_20130514-py2.7-macosx-10.8-intel.egg/scipy/optimize/zeros.py:149: RuntimeWarning: Tolerance of 6.30937891983e+15 reached\n",
        "  warnings.warn(msg, RuntimeWarning)\n",
        "/Library/Python/2.7/site-packages/scipy-0.13.0.dev_c31f167_20130514-py2.7-macosx-10.8-intel.egg/scipy/optimize/zeros.py:149: RuntimeWarning: Tolerance of -6.01663839623e+14 reached\n",
        "  warnings.warn(msg, RuntimeWarning)\n"
       ]
      },
      {
       "output_type": "stream",
       "stream": "stderr",
       "text": [
        "/Library/Python/2.7/site-packages/scipy-0.13.0.dev_c31f167_20130514-py2.7-macosx-10.8-intel.egg/scipy/optimize/zeros.py:149: RuntimeWarning: Tolerance of -5.81688777631e+13 reached\n",
        "  warnings.warn(msg, RuntimeWarning)\n",
        "/Library/Python/2.7/site-packages/scipy-0.13.0.dev_c31f167_20130514-py2.7-macosx-10.8-intel.egg/scipy/optimize/zeros.py:149: RuntimeWarning: Tolerance of -5.96603517436e+15 reached\n",
        "  warnings.warn(msg, RuntimeWarning)\n"
       ]
      },
      {
       "output_type": "stream",
       "stream": "stderr",
       "text": [
        "/Library/Python/2.7/site-packages/scipy-0.13.0.dev_c31f167_20130514-py2.7-macosx-10.8-intel.egg/scipy/optimize/zeros.py:149: RuntimeWarning: Tolerance of -1.06203556626e+16 reached\n",
        "  warnings.warn(msg, RuntimeWarning)\n",
        "/Library/Python/2.7/site-packages/scipy-0.13.0.dev_c31f167_20130514-py2.7-macosx-10.8-intel.egg/scipy/optimize/zeros.py:149: RuntimeWarning: Tolerance of -1.92537519635e+16 reached\n",
        "  warnings.warn(msg, RuntimeWarning)\n"
       ]
      },
      {
       "output_type": "stream",
       "stream": "stderr",
       "text": [
        "/Library/Python/2.7/site-packages/scipy-0.13.0.dev_c31f167_20130514-py2.7-macosx-10.8-intel.egg/scipy/optimize/zeros.py:149: RuntimeWarning: Tolerance of 1.81275093062e+14 reached\n",
        "  warnings.warn(msg, RuntimeWarning)\n",
        "/Library/Python/2.7/site-packages/scipy-0.13.0.dev_c31f167_20130514-py2.7-macosx-10.8-intel.egg/scipy/optimize/zeros.py:149: RuntimeWarning: Tolerance of -8.46394762064e+13 reached\n",
        "  warnings.warn(msg, RuntimeWarning)\n"
       ]
      },
      {
       "output_type": "stream",
       "stream": "stderr",
       "text": [
        "/Library/Python/2.7/site-packages/scipy-0.13.0.dev_c31f167_20130514-py2.7-macosx-10.8-intel.egg/scipy/optimize/zeros.py:149: RuntimeWarning: Tolerance of -3.19440056455e+14 reached\n",
        "  warnings.warn(msg, RuntimeWarning)\n",
        "/Library/Python/2.7/site-packages/scipy-0.13.0.dev_c31f167_20130514-py2.7-macosx-10.8-intel.egg/scipy/optimize/zeros.py:149: RuntimeWarning: Tolerance of -7.61093384139e+15 reached\n",
        "  warnings.warn(msg, RuntimeWarning)\n"
       ]
      },
      {
       "output_type": "stream",
       "stream": "stderr",
       "text": [
        "/Library/Python/2.7/site-packages/scipy-0.13.0.dev_c31f167_20130514-py2.7-macosx-10.8-intel.egg/scipy/optimize/zeros.py:149: RuntimeWarning: Tolerance of -1.93280265546e+13 reached\n",
        "  warnings.warn(msg, RuntimeWarning)\n",
        "/Library/Python/2.7/site-packages/scipy-0.13.0.dev_c31f167_20130514-py2.7-macosx-10.8-intel.egg/scipy/optimize/zeros.py:149: RuntimeWarning: Tolerance of -5.71422256488e+14 reached\n",
        "  warnings.warn(msg, RuntimeWarning)\n"
       ]
      },
      {
       "output_type": "stream",
       "stream": "stderr",
       "text": [
        "/Library/Python/2.7/site-packages/scipy-0.13.0.dev_c31f167_20130514-py2.7-macosx-10.8-intel.egg/scipy/optimize/zeros.py:149: RuntimeWarning: Tolerance of -2.22811036356e+13 reached\n",
        "  warnings.warn(msg, RuntimeWarning)\n",
        "/Library/Python/2.7/site-packages/scipy-0.13.0.dev_c31f167_20130514-py2.7-macosx-10.8-intel.egg/scipy/optimize/zeros.py:149: RuntimeWarning: Tolerance of 3.29791794878e+14 reached\n",
        "  warnings.warn(msg, RuntimeWarning)\n"
       ]
      },
      {
       "output_type": "stream",
       "stream": "stdout",
       "text": [
        "\n",
        "deleting item T1map_LL"
       ]
      },
      {
       "output_type": "stream",
       "stream": "stdout",
       "text": [
        "\n",
        "deleting item T1map_LL_fitdict"
       ]
      },
      {
       "output_type": "stream",
       "stream": "stderr",
       "text": [
        "WARNING:sarpy.io.BRUKERIO:NSLICES not equal to number of ACQ_obj_order\n"
       ]
      },
      {
       "output_type": "stream",
       "stream": "stderr",
       "text": [
        "/Library/Python/2.7/site-packages/scipy-0.13.0.dev_c31f167_20130514-py2.7-macosx-10.8-intel.egg/scipy/optimize/zeros.py:149: RuntimeWarning: Tolerance of 1.41654754609e+15 reached\n",
        "  warnings.warn(msg, RuntimeWarning)\n",
        "/Library/Python/2.7/site-packages/scipy-0.13.0.dev_c31f167_20130514-py2.7-macosx-10.8-intel.egg/scipy/optimize/zeros.py:149: RuntimeWarning: Tolerance of 1.6894296961e+16 reached\n",
        "  warnings.warn(msg, RuntimeWarning)\n"
       ]
      },
      {
       "output_type": "stream",
       "stream": "stderr",
       "text": [
        "/Library/Python/2.7/site-packages/scipy-0.13.0.dev_c31f167_20130514-py2.7-macosx-10.8-intel.egg/scipy/optimize/zeros.py:149: RuntimeWarning: Tolerance of 1.12866885441e+15 reached\n",
        "  warnings.warn(msg, RuntimeWarning)\n",
        "/Library/Python/2.7/site-packages/scipy-0.13.0.dev_c31f167_20130514-py2.7-macosx-10.8-intel.egg/scipy/optimize/zeros.py:149: RuntimeWarning: Tolerance of -8.94033583825e+15 reached\n",
        "  warnings.warn(msg, RuntimeWarning)\n"
       ]
      },
      {
       "output_type": "stream",
       "stream": "stderr",
       "text": [
        "/Library/Python/2.7/site-packages/scipy-0.13.0.dev_c31f167_20130514-py2.7-macosx-10.8-intel.egg/scipy/optimize/zeros.py:149: RuntimeWarning: Tolerance of -2.42644230461e+14 reached\n",
        "  warnings.warn(msg, RuntimeWarning)\n",
        "/Library/Python/2.7/site-packages/scipy-0.13.0.dev_c31f167_20130514-py2.7-macosx-10.8-intel.egg/scipy/optimize/zeros.py:149: RuntimeWarning: Tolerance of -3.50797547951e+15 reached\n",
        "  warnings.warn(msg, RuntimeWarning)\n"
       ]
      },
      {
       "output_type": "stream",
       "stream": "stderr",
       "text": [
        "/Library/Python/2.7/site-packages/scipy-0.13.0.dev_c31f167_20130514-py2.7-macosx-10.8-intel.egg/scipy/optimize/zeros.py:149: RuntimeWarning: Tolerance of -2.57654087226e+14 reached\n",
        "  warnings.warn(msg, RuntimeWarning)\n",
        "/Library/Python/2.7/site-packages/scipy-0.13.0.dev_c31f167_20130514-py2.7-macosx-10.8-intel.egg/scipy/optimize/zeros.py:149: RuntimeWarning: Tolerance of 1.0233976708e+15 reached\n",
        "  warnings.warn(msg, RuntimeWarning)\n"
       ]
      },
      {
       "output_type": "stream",
       "stream": "stderr",
       "text": [
        "/Library/Python/2.7/site-packages/scipy-0.13.0.dev_c31f167_20130514-py2.7-macosx-10.8-intel.egg/scipy/optimize/zeros.py:149: RuntimeWarning: Tolerance of 1.16347331271e+16 reached\n",
        "  warnings.warn(msg, RuntimeWarning)\n",
        "/Library/Python/2.7/site-packages/scipy-0.13.0.dev_c31f167_20130514-py2.7-macosx-10.8-intel.egg/scipy/optimize/zeros.py:149: RuntimeWarning: Tolerance of 1.37729072253e+13 reached\n",
        "  warnings.warn(msg, RuntimeWarning)\n"
       ]
      },
      {
       "output_type": "stream",
       "stream": "stderr",
       "text": [
        "/Library/Python/2.7/site-packages/scipy-0.13.0.dev_c31f167_20130514-py2.7-macosx-10.8-intel.egg/scipy/optimize/zeros.py:149: RuntimeWarning: Tolerance of 6.68168981518e+15 reached\n",
        "  warnings.warn(msg, RuntimeWarning)\n",
        "/Library/Python/2.7/site-packages/scipy-0.13.0.dev_c31f167_20130514-py2.7-macosx-10.8-intel.egg/scipy/optimize/zeros.py:149: RuntimeWarning: Tolerance of 3.07657671032e+15 reached\n",
        "  warnings.warn(msg, RuntimeWarning)\n"
       ]
      },
      {
       "output_type": "stream",
       "stream": "stderr",
       "text": [
        "/Library/Python/2.7/site-packages/scipy-0.13.0.dev_c31f167_20130514-py2.7-macosx-10.8-intel.egg/scipy/optimize/zeros.py:149: RuntimeWarning: Tolerance of 2.96771154556e+15 reached\n",
        "  warnings.warn(msg, RuntimeWarning)\n",
        "/Library/Python/2.7/site-packages/scipy-0.13.0.dev_c31f167_20130514-py2.7-macosx-10.8-intel.egg/scipy/optimize/zeros.py:149: RuntimeWarning: Tolerance of 1.90389701064e+14 reached\n",
        "  warnings.warn(msg, RuntimeWarning)\n"
       ]
      },
      {
       "output_type": "stream",
       "stream": "stderr",
       "text": [
        "/Library/Python/2.7/site-packages/scipy-0.13.0.dev_c31f167_20130514-py2.7-macosx-10.8-intel.egg/scipy/optimize/zeros.py:149: RuntimeWarning: Tolerance of -9.32130584958e+14 reached\n",
        "  warnings.warn(msg, RuntimeWarning)\n",
        "/Library/Python/2.7/site-packages/scipy-0.13.0.dev_c31f167_20130514-py2.7-macosx-10.8-intel.egg/scipy/optimize/zeros.py:149: RuntimeWarning: Tolerance of 3.26019638472e+13 reached\n",
        "  warnings.warn(msg, RuntimeWarning)\n"
       ]
      },
      {
       "output_type": "stream",
       "stream": "stderr",
       "text": [
        "/Library/Python/2.7/site-packages/scipy-0.13.0.dev_c31f167_20130514-py2.7-macosx-10.8-intel.egg/scipy/optimize/zeros.py:149: RuntimeWarning: Tolerance of 1.16770220459e+14 reached\n",
        "  warnings.warn(msg, RuntimeWarning)\n",
        "/Library/Python/2.7/site-packages/scipy-0.13.0.dev_c31f167_20130514-py2.7-macosx-10.8-intel.egg/scipy/optimize/zeros.py:149: RuntimeWarning: Tolerance of -1.97906047106e-08 reached\n",
        "  warnings.warn(msg, RuntimeWarning)\n"
       ]
      },
      {
       "output_type": "stream",
       "stream": "stderr",
       "text": [
        "/Library/Python/2.7/site-packages/scipy-0.13.0.dev_c31f167_20130514-py2.7-macosx-10.8-intel.egg/scipy/optimize/zeros.py:149: RuntimeWarning: Tolerance of 2.15632291575e+16 reached\n",
        "  warnings.warn(msg, RuntimeWarning)\n",
        "/Library/Python/2.7/site-packages/scipy-0.13.0.dev_c31f167_20130514-py2.7-macosx-10.8-intel.egg/scipy/optimize/zeros.py:149: RuntimeWarning: Tolerance of -2.9463823602e+15 reached\n",
        "  warnings.warn(msg, RuntimeWarning)\n"
       ]
      },
      {
       "output_type": "stream",
       "stream": "stderr",
       "text": [
        "/Library/Python/2.7/site-packages/scipy-0.13.0.dev_c31f167_20130514-py2.7-macosx-10.8-intel.egg/scipy/optimize/zeros.py:149: RuntimeWarning: Tolerance of 3.14623960807e+16 reached\n",
        "  warnings.warn(msg, RuntimeWarning)\n",
        "/Library/Python/2.7/site-packages/scipy-0.13.0.dev_c31f167_20130514-py2.7-macosx-10.8-intel.egg/scipy/optimize/zeros.py:149: RuntimeWarning: Tolerance of 5.53946273807e+13 reached\n",
        "  warnings.warn(msg, RuntimeWarning)\n"
       ]
      },
      {
       "output_type": "stream",
       "stream": "stderr",
       "text": [
        "/Library/Python/2.7/site-packages/scipy-0.13.0.dev_c31f167_20130514-py2.7-macosx-10.8-intel.egg/scipy/optimize/zeros.py:149: RuntimeWarning: Tolerance of 2.30883620323e+14 reached\n",
        "  warnings.warn(msg, RuntimeWarning)\n",
        "/Library/Python/2.7/site-packages/scipy-0.13.0.dev_c31f167_20130514-py2.7-macosx-10.8-intel.egg/scipy/optimize/zeros.py:149: RuntimeWarning: Tolerance of 1.76503871204e+15 reached\n",
        "  warnings.warn(msg, RuntimeWarning)\n"
       ]
      },
      {
       "output_type": "stream",
       "stream": "stderr",
       "text": [
        "/Library/Python/2.7/site-packages/scipy-0.13.0.dev_c31f167_20130514-py2.7-macosx-10.8-intel.egg/scipy/optimize/zeros.py:149: RuntimeWarning: Tolerance of -8.25503609193e+15 reached\n",
        "  warnings.warn(msg, RuntimeWarning)\n",
        "/Library/Python/2.7/site-packages/scipy-0.13.0.dev_c31f167_20130514-py2.7-macosx-10.8-intel.egg/scipy/optimize/zeros.py:149: RuntimeWarning: Tolerance of 4.67435596323e+13 reached\n",
        "  warnings.warn(msg, RuntimeWarning)\n"
       ]
      },
      {
       "output_type": "stream",
       "stream": "stderr",
       "text": [
        "/Library/Python/2.7/site-packages/scipy-0.13.0.dev_c31f167_20130514-py2.7-macosx-10.8-intel.egg/scipy/optimize/zeros.py:149: RuntimeWarning: Tolerance of -57138478321.0 reached\n",
        "  warnings.warn(msg, RuntimeWarning)\n",
        "/Library/Python/2.7/site-packages/scipy-0.13.0.dev_c31f167_20130514-py2.7-macosx-10.8-intel.egg/scipy/optimize/zeros.py:149: RuntimeWarning: Tolerance of -4.37721610069e-08 reached\n",
        "  warnings.warn(msg, RuntimeWarning)\n"
       ]
      },
      {
       "output_type": "stream",
       "stream": "stderr",
       "text": [
        "/Library/Python/2.7/site-packages/scipy-0.13.0.dev_c31f167_20130514-py2.7-macosx-10.8-intel.egg/scipy/optimize/zeros.py:149: RuntimeWarning: Tolerance of 1.0473630493e+16 reached\n",
        "  warnings.warn(msg, RuntimeWarning)\n",
        "/Library/Python/2.7/site-packages/scipy-0.13.0.dev_c31f167_20130514-py2.7-macosx-10.8-intel.egg/scipy/optimize/zeros.py:149: RuntimeWarning: Tolerance of -1.3781490004e+14 reached\n",
        "  warnings.warn(msg, RuntimeWarning)\n"
       ]
      },
      {
       "output_type": "stream",
       "stream": "stderr",
       "text": [
        "/Library/Python/2.7/site-packages/scipy-0.13.0.dev_c31f167_20130514-py2.7-macosx-10.8-intel.egg/scipy/optimize/zeros.py:149: RuntimeWarning: Tolerance of -5.84680924027e+13 reached\n",
        "  warnings.warn(msg, RuntimeWarning)\n",
        "/Library/Python/2.7/site-packages/scipy-0.13.0.dev_c31f167_20130514-py2.7-macosx-10.8-intel.egg/scipy/optimize/zeros.py:149: RuntimeWarning: Tolerance of -2.56941074096e+14 reached\n",
        "  warnings.warn(msg, RuntimeWarning)\n"
       ]
      },
      {
       "output_type": "stream",
       "stream": "stderr",
       "text": [
        "/Library/Python/2.7/site-packages/scipy-0.13.0.dev_c31f167_20130514-py2.7-macosx-10.8-intel.egg/scipy/optimize/zeros.py:149: RuntimeWarning: Tolerance of 5.76392528708e+15 reached\n",
        "  warnings.warn(msg, RuntimeWarning)\n",
        "/Library/Python/2.7/site-packages/scipy-0.13.0.dev_c31f167_20130514-py2.7-macosx-10.8-intel.egg/scipy/optimize/zeros.py:149: RuntimeWarning: Tolerance of 5.25212652337e+15 reached\n",
        "  warnings.warn(msg, RuntimeWarning)\n"
       ]
      },
      {
       "output_type": "stream",
       "stream": "stderr",
       "text": [
        "/Library/Python/2.7/site-packages/scipy-0.13.0.dev_c31f167_20130514-py2.7-macosx-10.8-intel.egg/scipy/optimize/zeros.py:149: RuntimeWarning: Tolerance of -6.45751672593e+12 reached\n",
        "  warnings.warn(msg, RuntimeWarning)\n",
        "/Library/Python/2.7/site-packages/scipy-0.13.0.dev_c31f167_20130514-py2.7-macosx-10.8-intel.egg/scipy/optimize/zeros.py:149: RuntimeWarning: Tolerance of 1.39161830235e+13 reached\n",
        "  warnings.warn(msg, RuntimeWarning)\n"
       ]
      },
      {
       "output_type": "stream",
       "stream": "stderr",
       "text": [
        "/Library/Python/2.7/site-packages/scipy-0.13.0.dev_c31f167_20130514-py2.7-macosx-10.8-intel.egg/scipy/optimize/zeros.py:149: RuntimeWarning: Tolerance of -2.66483145893e+15 reached\n",
        "  warnings.warn(msg, RuntimeWarning)\n",
        "/Library/Python/2.7/site-packages/scipy-0.13.0.dev_c31f167_20130514-py2.7-macosx-10.8-intel.egg/scipy/optimize/zeros.py:149: RuntimeWarning: Tolerance of -2.19411093729e+16 reached\n",
        "  warnings.warn(msg, RuntimeWarning)\n"
       ]
      },
      {
       "output_type": "stream",
       "stream": "stderr",
       "text": [
        "/Library/Python/2.7/site-packages/scipy-0.13.0.dev_c31f167_20130514-py2.7-macosx-10.8-intel.egg/scipy/optimize/zeros.py:149: RuntimeWarning: Tolerance of -1.7306932348e+15 reached\n",
        "  warnings.warn(msg, RuntimeWarning)\n",
        "/Library/Python/2.7/site-packages/scipy-0.13.0.dev_c31f167_20130514-py2.7-macosx-10.8-intel.egg/scipy/optimize/zeros.py:149: RuntimeWarning: Tolerance of 1.15763250652e+16 reached\n",
        "  warnings.warn(msg, RuntimeWarning)\n"
       ]
      },
      {
       "output_type": "stream",
       "stream": "stderr",
       "text": [
        "/Library/Python/2.7/site-packages/scipy-0.13.0.dev_c31f167_20130514-py2.7-macosx-10.8-intel.egg/scipy/optimize/zeros.py:149: RuntimeWarning: Tolerance of -1.83317712548e+15 reached\n",
        "  warnings.warn(msg, RuntimeWarning)\n",
        "/Library/Python/2.7/site-packages/scipy-0.13.0.dev_c31f167_20130514-py2.7-macosx-10.8-intel.egg/scipy/optimize/zeros.py:149: RuntimeWarning: Tolerance of 1.31684676193e+15 reached\n",
        "  warnings.warn(msg, RuntimeWarning)\n"
       ]
      },
      {
       "output_type": "stream",
       "stream": "stderr",
       "text": [
        "/Library/Python/2.7/site-packages/scipy-0.13.0.dev_c31f167_20130514-py2.7-macosx-10.8-intel.egg/scipy/optimize/zeros.py:149: RuntimeWarning: Tolerance of -1.44108624399e+15 reached\n",
        "  warnings.warn(msg, RuntimeWarning)\n",
        "/Library/Python/2.7/site-packages/scipy-0.13.0.dev_c31f167_20130514-py2.7-macosx-10.8-intel.egg/scipy/optimize/zeros.py:149: RuntimeWarning: Tolerance of -5.46090463741e+15 reached\n",
        "  warnings.warn(msg, RuntimeWarning)\n"
       ]
      },
      {
       "output_type": "stream",
       "stream": "stderr",
       "text": [
        "/Library/Python/2.7/site-packages/scipy-0.13.0.dev_c31f167_20130514-py2.7-macosx-10.8-intel.egg/scipy/optimize/zeros.py:149: RuntimeWarning: Tolerance of -1.39381504451e+15 reached\n",
        "  warnings.warn(msg, RuntimeWarning)\n",
        "/Library/Python/2.7/site-packages/scipy-0.13.0.dev_c31f167_20130514-py2.7-macosx-10.8-intel.egg/scipy/optimize/zeros.py:149: RuntimeWarning: Tolerance of 1.9759486183e+15 reached\n",
        "  warnings.warn(msg, RuntimeWarning)\n"
       ]
      },
      {
       "output_type": "stream",
       "stream": "stderr",
       "text": [
        "/Library/Python/2.7/site-packages/scipy-0.13.0.dev_c31f167_20130514-py2.7-macosx-10.8-intel.egg/scipy/optimize/zeros.py:149: RuntimeWarning: Tolerance of -1.89796015748e+16 reached\n",
        "  warnings.warn(msg, RuntimeWarning)\n",
        "/Library/Python/2.7/site-packages/scipy-0.13.0.dev_c31f167_20130514-py2.7-macosx-10.8-intel.egg/scipy/optimize/zeros.py:149: RuntimeWarning: Tolerance of -1.09896063805e-07 reached\n",
        "  warnings.warn(msg, RuntimeWarning)\n"
       ]
      },
      {
       "output_type": "stream",
       "stream": "stderr",
       "text": [
        "/Library/Python/2.7/site-packages/scipy-0.13.0.dev_c31f167_20130514-py2.7-macosx-10.8-intel.egg/scipy/optimize/zeros.py:149: RuntimeWarning: Tolerance of 1.03336897145e+14 reached\n",
        "  warnings.warn(msg, RuntimeWarning)\n",
        "/Library/Python/2.7/site-packages/scipy-0.13.0.dev_c31f167_20130514-py2.7-macosx-10.8-intel.egg/scipy/optimize/zeros.py:149: RuntimeWarning: Tolerance of -8.93376725525e+15 reached\n",
        "  warnings.warn(msg, RuntimeWarning)\n"
       ]
      },
      {
       "output_type": "stream",
       "stream": "stderr",
       "text": [
        "/Library/Python/2.7/site-packages/scipy-0.13.0.dev_c31f167_20130514-py2.7-macosx-10.8-intel.egg/scipy/optimize/zeros.py:149: RuntimeWarning: Tolerance of 5.82982778987e+14 reached\n",
        "  warnings.warn(msg, RuntimeWarning)\n",
        "/Library/Python/2.7/site-packages/scipy-0.13.0.dev_c31f167_20130514-py2.7-macosx-10.8-intel.egg/scipy/optimize/zeros.py:149: RuntimeWarning: Tolerance of -3.56801319867e-06 reached\n",
        "  warnings.warn(msg, RuntimeWarning)\n"
       ]
      },
      {
       "output_type": "stream",
       "stream": "stdout",
       "text": [
        "\n",
        "deleting item T1map_LL"
       ]
      },
      {
       "output_type": "stream",
       "stream": "stdout",
       "text": [
        "\n",
        "deleting item T1map_LL_fitdict"
       ]
      },
      {
       "output_type": "stream",
       "stream": "stderr",
       "text": [
        "/Library/Python/2.7/site-packages/scipy-0.13.0.dev_c31f167_20130514-py2.7-macosx-10.8-intel.egg/scipy/optimize/zeros.py:149: RuntimeWarning: Tolerance of 4.92953668833e+15 reached\n",
        "  warnings.warn(msg, RuntimeWarning)\n",
        "WARNING:sarpy.io.BRUKERIO:NSLICES not equal to number of ACQ_obj_order\n"
       ]
      },
      {
       "output_type": "stream",
       "stream": "stderr",
       "text": [
        "/Library/Python/2.7/site-packages/scipy-0.13.0.dev_c31f167_20130514-py2.7-macosx-10.8-intel.egg/scipy/optimize/zeros.py:149: RuntimeWarning: Tolerance of -7.66144407521e+13 reached\n",
        "  warnings.warn(msg, RuntimeWarning)\n",
        "/Library/Python/2.7/site-packages/scipy-0.13.0.dev_c31f167_20130514-py2.7-macosx-10.8-intel.egg/scipy/optimize/zeros.py:149: RuntimeWarning: Tolerance of -9.02622338392e+14 reached\n",
        "  warnings.warn(msg, RuntimeWarning)\n"
       ]
      },
      {
       "output_type": "stream",
       "stream": "stderr",
       "text": [
        "/Library/Python/2.7/site-packages/scipy-0.13.0.dev_c31f167_20130514-py2.7-macosx-10.8-intel.egg/scipy/optimize/zeros.py:149: RuntimeWarning: Tolerance of -2.11357833518e+15 reached\n",
        "  warnings.warn(msg, RuntimeWarning)\n",
        "/Library/Python/2.7/site-packages/scipy-0.13.0.dev_c31f167_20130514-py2.7-macosx-10.8-intel.egg/scipy/optimize/zeros.py:149: RuntimeWarning: Tolerance of -6.34083100942e+12 reached\n",
        "  warnings.warn(msg, RuntimeWarning)\n"
       ]
      },
      {
       "output_type": "stream",
       "stream": "stderr",
       "text": [
        "/Library/Python/2.7/site-packages/scipy-0.13.0.dev_c31f167_20130514-py2.7-macosx-10.8-intel.egg/scipy/optimize/zeros.py:149: RuntimeWarning: Tolerance of 9.4057025808e+14 reached\n",
        "  warnings.warn(msg, RuntimeWarning)\n",
        "/Library/Python/2.7/site-packages/scipy-0.13.0.dev_c31f167_20130514-py2.7-macosx-10.8-intel.egg/scipy/optimize/zeros.py:149: RuntimeWarning: Tolerance of 5.80355869858e+14 reached\n",
        "  warnings.warn(msg, RuntimeWarning)\n"
       ]
      },
      {
       "output_type": "stream",
       "stream": "stderr",
       "text": [
        "/Library/Python/2.7/site-packages/scipy-0.13.0.dev_c31f167_20130514-py2.7-macosx-10.8-intel.egg/scipy/optimize/zeros.py:149: RuntimeWarning: Tolerance of -9.97262212946e+13 reached\n",
        "  warnings.warn(msg, RuntimeWarning)\n",
        "/Library/Python/2.7/site-packages/scipy-0.13.0.dev_c31f167_20130514-py2.7-macosx-10.8-intel.egg/scipy/optimize/zeros.py:149: RuntimeWarning: Tolerance of 1.93346185066e+13 reached\n",
        "  warnings.warn(msg, RuntimeWarning)\n"
       ]
      },
      {
       "output_type": "stream",
       "stream": "stderr",
       "text": [
        "/Library/Python/2.7/site-packages/scipy-0.13.0.dev_c31f167_20130514-py2.7-macosx-10.8-intel.egg/scipy/optimize/zeros.py:149: RuntimeWarning: Tolerance of -1.26089094721e+16 reached\n",
        "  warnings.warn(msg, RuntimeWarning)\n",
        "/Library/Python/2.7/site-packages/scipy-0.13.0.dev_c31f167_20130514-py2.7-macosx-10.8-intel.egg/scipy/optimize/zeros.py:149: RuntimeWarning: Tolerance of -3.92896819547e+15 reached\n",
        "  warnings.warn(msg, RuntimeWarning)\n"
       ]
      },
      {
       "output_type": "stream",
       "stream": "stderr",
       "text": [
        "/Library/Python/2.7/site-packages/scipy-0.13.0.dev_c31f167_20130514-py2.7-macosx-10.8-intel.egg/scipy/optimize/zeros.py:149: RuntimeWarning: Tolerance of 3.53936217434e+13 reached\n",
        "  warnings.warn(msg, RuntimeWarning)\n",
        "/Library/Python/2.7/site-packages/scipy-0.13.0.dev_c31f167_20130514-py2.7-macosx-10.8-intel.egg/scipy/optimize/zeros.py:149: RuntimeWarning: Tolerance of 6.35363651969e+15 reached\n",
        "  warnings.warn(msg, RuntimeWarning)\n"
       ]
      },
      {
       "output_type": "stream",
       "stream": "stderr",
       "text": [
        "/Library/Python/2.7/site-packages/scipy-0.13.0.dev_c31f167_20130514-py2.7-macosx-10.8-intel.egg/scipy/optimize/zeros.py:149: RuntimeWarning: Tolerance of 9.96728717081e+15 reached\n",
        "  warnings.warn(msg, RuntimeWarning)\n",
        "/Library/Python/2.7/site-packages/scipy-0.13.0.dev_c31f167_20130514-py2.7-macosx-10.8-intel.egg/scipy/optimize/zeros.py:149: RuntimeWarning: Tolerance of -5.03888176011e+15 reached\n",
        "  warnings.warn(msg, RuntimeWarning)\n"
       ]
      },
      {
       "output_type": "stream",
       "stream": "stderr",
       "text": [
        "/Library/Python/2.7/site-packages/scipy-0.13.0.dev_c31f167_20130514-py2.7-macosx-10.8-intel.egg/scipy/optimize/zeros.py:149: RuntimeWarning: Tolerance of 3.81724896403e+13 reached\n",
        "  warnings.warn(msg, RuntimeWarning)\n",
        "/Library/Python/2.7/site-packages/scipy-0.13.0.dev_c31f167_20130514-py2.7-macosx-10.8-intel.egg/scipy/optimize/zeros.py:149: RuntimeWarning: Tolerance of -1.65218756331e+15 reached\n",
        "  warnings.warn(msg, RuntimeWarning)\n"
       ]
      },
      {
       "output_type": "stream",
       "stream": "stderr",
       "text": [
        "/Library/Python/2.7/site-packages/scipy-0.13.0.dev_c31f167_20130514-py2.7-macosx-10.8-intel.egg/scipy/optimize/zeros.py:149: RuntimeWarning: Tolerance of 7.78919464417e+14 reached\n",
        "  warnings.warn(msg, RuntimeWarning)\n",
        "/Library/Python/2.7/site-packages/scipy-0.13.0.dev_c31f167_20130514-py2.7-macosx-10.8-intel.egg/scipy/optimize/zeros.py:149: RuntimeWarning: Tolerance of 1.97809928373e+16 reached\n",
        "  warnings.warn(msg, RuntimeWarning)\n"
       ]
      },
      {
       "output_type": "stream",
       "stream": "stderr",
       "text": [
        "/Library/Python/2.7/site-packages/scipy-0.13.0.dev_c31f167_20130514-py2.7-macosx-10.8-intel.egg/scipy/optimize/zeros.py:149: RuntimeWarning: Tolerance of -1.01367322852e+15 reached\n",
        "  warnings.warn(msg, RuntimeWarning)\n",
        "/Library/Python/2.7/site-packages/scipy-0.13.0.dev_c31f167_20130514-py2.7-macosx-10.8-intel.egg/scipy/optimize/zeros.py:149: RuntimeWarning: Tolerance of 3.49369164071e+14 reached\n",
        "  warnings.warn(msg, RuntimeWarning)\n"
       ]
      },
      {
       "output_type": "stream",
       "stream": "stderr",
       "text": [
        "/Library/Python/2.7/site-packages/scipy-0.13.0.dev_c31f167_20130514-py2.7-macosx-10.8-intel.egg/scipy/optimize/zeros.py:149: RuntimeWarning: Tolerance of -1.37496247325e+16 reached\n",
        "  warnings.warn(msg, RuntimeWarning)\n",
        "/Library/Python/2.7/site-packages/scipy-0.13.0.dev_c31f167_20130514-py2.7-macosx-10.8-intel.egg/scipy/optimize/zeros.py:149: RuntimeWarning: Tolerance of -3.94146350706e+14 reached\n",
        "  warnings.warn(msg, RuntimeWarning)\n"
       ]
      },
      {
       "output_type": "stream",
       "stream": "stderr",
       "text": [
        "/Library/Python/2.7/site-packages/scipy-0.13.0.dev_c31f167_20130514-py2.7-macosx-10.8-intel.egg/scipy/optimize/zeros.py:149: RuntimeWarning: Tolerance of 2.20088668288e+12 reached\n",
        "  warnings.warn(msg, RuntimeWarning)\n",
        "/Library/Python/2.7/site-packages/scipy-0.13.0.dev_c31f167_20130514-py2.7-macosx-10.8-intel.egg/scipy/optimize/zeros.py:149: RuntimeWarning: Tolerance of -1.94069070831e+15 reached\n",
        "  warnings.warn(msg, RuntimeWarning)\n"
       ]
      },
      {
       "output_type": "stream",
       "stream": "stderr",
       "text": [
        "/Library/Python/2.7/site-packages/scipy-0.13.0.dev_c31f167_20130514-py2.7-macosx-10.8-intel.egg/scipy/optimize/zeros.py:149: RuntimeWarning: Tolerance of -7.07918238699e+15 reached\n",
        "  warnings.warn(msg, RuntimeWarning)\n",
        "/Library/Python/2.7/site-packages/scipy-0.13.0.dev_c31f167_20130514-py2.7-macosx-10.8-intel.egg/scipy/optimize/zeros.py:149: RuntimeWarning: Tolerance of 1.35367115558e+13 reached\n",
        "  warnings.warn(msg, RuntimeWarning)\n"
       ]
      },
      {
       "output_type": "stream",
       "stream": "stderr",
       "text": [
        "/Library/Python/2.7/site-packages/scipy-0.13.0.dev_c31f167_20130514-py2.7-macosx-10.8-intel.egg/scipy/optimize/zeros.py:149: RuntimeWarning: Tolerance of -1.56742953698e+14 reached\n",
        "  warnings.warn(msg, RuntimeWarning)\n",
        "/Library/Python/2.7/site-packages/scipy-0.13.0.dev_c31f167_20130514-py2.7-macosx-10.8-intel.egg/scipy/optimize/zeros.py:149: RuntimeWarning: Tolerance of -3.53902578354e-08 reached\n",
        "  warnings.warn(msg, RuntimeWarning)\n"
       ]
      },
      {
       "output_type": "stream",
       "stream": "stdout",
       "text": [
        "\n",
        "deleting item T1map_LL"
       ]
      },
      {
       "output_type": "stream",
       "stream": "stdout",
       "text": [
        "\n",
        "deleting item T1map_LL_fitdict"
       ]
      },
      {
       "output_type": "stream",
       "stream": "stderr",
       "text": [
        "WARNING:sarpy.io.BRUKERIO:NSLICES not equal to number of ACQ_obj_order\n"
       ]
      },
      {
       "output_type": "stream",
       "stream": "stderr",
       "text": [
        "/Library/Python/2.7/site-packages/scipy-0.13.0.dev_c31f167_20130514-py2.7-macosx-10.8-intel.egg/scipy/optimize/zeros.py:149: RuntimeWarning: Tolerance of -1.03982890798e+16 reached\n",
        "  warnings.warn(msg, RuntimeWarning)\n",
        "/Library/Python/2.7/site-packages/scipy-0.13.0.dev_c31f167_20130514-py2.7-macosx-10.8-intel.egg/scipy/optimize/zeros.py:149: RuntimeWarning: Tolerance of -9.04628318243e+15 reached\n",
        "  warnings.warn(msg, RuntimeWarning)\n"
       ]
      },
      {
       "output_type": "stream",
       "stream": "stderr",
       "text": [
        "/Library/Python/2.7/site-packages/scipy-0.13.0.dev_c31f167_20130514-py2.7-macosx-10.8-intel.egg/scipy/optimize/zeros.py:149: RuntimeWarning: Tolerance of -9.63317643118e+13 reached\n",
        "  warnings.warn(msg, RuntimeWarning)\n",
        "/Library/Python/2.7/site-packages/scipy-0.13.0.dev_c31f167_20130514-py2.7-macosx-10.8-intel.egg/scipy/optimize/zeros.py:149: RuntimeWarning: Tolerance of 5.70002028155e+15 reached\n",
        "  warnings.warn(msg, RuntimeWarning)\n"
       ]
      },
      {
       "output_type": "stream",
       "stream": "stderr",
       "text": [
        "/Library/Python/2.7/site-packages/scipy-0.13.0.dev_c31f167_20130514-py2.7-macosx-10.8-intel.egg/scipy/optimize/zeros.py:149: RuntimeWarning: Tolerance of 1.43628454787e+14 reached\n",
        "  warnings.warn(msg, RuntimeWarning)\n",
        "/Library/Python/2.7/site-packages/scipy-0.13.0.dev_c31f167_20130514-py2.7-macosx-10.8-intel.egg/scipy/optimize/zeros.py:149: RuntimeWarning: Tolerance of 4.19054418292e+15 reached\n",
        "  warnings.warn(msg, RuntimeWarning)\n"
       ]
      },
      {
       "output_type": "stream",
       "stream": "stderr",
       "text": [
        "/Library/Python/2.7/site-packages/scipy-0.13.0.dev_c31f167_20130514-py2.7-macosx-10.8-intel.egg/scipy/optimize/zeros.py:149: RuntimeWarning: Tolerance of -1.20658275069e+15 reached\n",
        "  warnings.warn(msg, RuntimeWarning)\n",
        "/Library/Python/2.7/site-packages/scipy-0.13.0.dev_c31f167_20130514-py2.7-macosx-10.8-intel.egg/scipy/optimize/zeros.py:149: RuntimeWarning: Tolerance of -1.17478455723e+16 reached\n",
        "  warnings.warn(msg, RuntimeWarning)\n"
       ]
      },
      {
       "output_type": "stream",
       "stream": "stderr",
       "text": [
        "/Library/Python/2.7/site-packages/scipy-0.13.0.dev_c31f167_20130514-py2.7-macosx-10.8-intel.egg/scipy/optimize/zeros.py:149: RuntimeWarning: Tolerance of 3.03276279193e+13 reached\n",
        "  warnings.warn(msg, RuntimeWarning)\n",
        "/Library/Python/2.7/site-packages/scipy-0.13.0.dev_c31f167_20130514-py2.7-macosx-10.8-intel.egg/scipy/optimize/zeros.py:149: RuntimeWarning: Tolerance of -1.11744877151e+14 reached\n",
        "  warnings.warn(msg, RuntimeWarning)\n"
       ]
      },
      {
       "output_type": "stream",
       "stream": "stderr",
       "text": [
        "/Library/Python/2.7/site-packages/scipy-0.13.0.dev_c31f167_20130514-py2.7-macosx-10.8-intel.egg/scipy/optimize/zeros.py:149: RuntimeWarning: Tolerance of -1.95680008906e+14 reached\n",
        "  warnings.warn(msg, RuntimeWarning)\n",
        "/Library/Python/2.7/site-packages/scipy-0.13.0.dev_c31f167_20130514-py2.7-macosx-10.8-intel.egg/scipy/optimize/zeros.py:149: RuntimeWarning: Tolerance of -4.16205658557e+13 reached\n",
        "  warnings.warn(msg, RuntimeWarning)\n"
       ]
      },
      {
       "output_type": "stream",
       "stream": "stderr",
       "text": [
        "/Library/Python/2.7/site-packages/scipy-0.13.0.dev_c31f167_20130514-py2.7-macosx-10.8-intel.egg/scipy/optimize/zeros.py:149: RuntimeWarning: Tolerance of 1.84663804248e-08 reached\n",
        "  warnings.warn(msg, RuntimeWarning)\n",
        "/Library/Python/2.7/site-packages/scipy-0.13.0.dev_c31f167_20130514-py2.7-macosx-10.8-intel.egg/scipy/optimize/zeros.py:149: RuntimeWarning: Tolerance of -4.85172028896e+15 reached\n",
        "  warnings.warn(msg, RuntimeWarning)\n"
       ]
      },
      {
       "output_type": "stream",
       "stream": "stderr",
       "text": [
        "/Library/Python/2.7/site-packages/scipy-0.13.0.dev_c31f167_20130514-py2.7-macosx-10.8-intel.egg/scipy/optimize/zeros.py:149: RuntimeWarning: Tolerance of 1.58587630308e+13 reached\n",
        "  warnings.warn(msg, RuntimeWarning)\n",
        "/Library/Python/2.7/site-packages/scipy-0.13.0.dev_c31f167_20130514-py2.7-macosx-10.8-intel.egg/scipy/optimize/zeros.py:149: RuntimeWarning: Tolerance of 7.39570358481e+15 reached\n",
        "  warnings.warn(msg, RuntimeWarning)\n"
       ]
      },
      {
       "output_type": "stream",
       "stream": "stderr",
       "text": [
        "/Library/Python/2.7/site-packages/scipy-0.13.0.dev_c31f167_20130514-py2.7-macosx-10.8-intel.egg/scipy/optimize/zeros.py:149: RuntimeWarning: Tolerance of -4.0105496613e+15 reached\n",
        "  warnings.warn(msg, RuntimeWarning)\n",
        "/Library/Python/2.7/site-packages/scipy-0.13.0.dev_c31f167_20130514-py2.7-macosx-10.8-intel.egg/scipy/optimize/zeros.py:149: RuntimeWarning: Tolerance of -1.09125129602e+13 reached\n",
        "  warnings.warn(msg, RuntimeWarning)\n"
       ]
      },
      {
       "output_type": "stream",
       "stream": "stderr",
       "text": [
        "/Library/Python/2.7/site-packages/scipy-0.13.0.dev_c31f167_20130514-py2.7-macosx-10.8-intel.egg/scipy/optimize/zeros.py:149: RuntimeWarning: Tolerance of 1.53221705664e+12 reached\n",
        "  warnings.warn(msg, RuntimeWarning)\n",
        "/Library/Python/2.7/site-packages/scipy-0.13.0.dev_c31f167_20130514-py2.7-macosx-10.8-intel.egg/scipy/optimize/zeros.py:149: RuntimeWarning: Tolerance of 6.56529466017e+13 reached\n",
        "  warnings.warn(msg, RuntimeWarning)\n"
       ]
      },
      {
       "output_type": "stream",
       "stream": "stderr",
       "text": [
        "/Library/Python/2.7/site-packages/scipy-0.13.0.dev_c31f167_20130514-py2.7-macosx-10.8-intel.egg/scipy/optimize/zeros.py:149: RuntimeWarning: Tolerance of 2.22961422952e+14 reached\n",
        "  warnings.warn(msg, RuntimeWarning)\n",
        "/Library/Python/2.7/site-packages/scipy-0.13.0.dev_c31f167_20130514-py2.7-macosx-10.8-intel.egg/scipy/optimize/zeros.py:149: RuntimeWarning: Tolerance of 9.96180034962e+14 reached\n",
        "  warnings.warn(msg, RuntimeWarning)\n"
       ]
      },
      {
       "output_type": "stream",
       "stream": "stderr",
       "text": [
        "/Library/Python/2.7/site-packages/scipy-0.13.0.dev_c31f167_20130514-py2.7-macosx-10.8-intel.egg/scipy/optimize/zeros.py:149: RuntimeWarning: Tolerance of 2.45869159698e-07 reached\n",
        "  warnings.warn(msg, RuntimeWarning)\n",
        "/Library/Python/2.7/site-packages/scipy-0.13.0.dev_c31f167_20130514-py2.7-macosx-10.8-intel.egg/scipy/optimize/zeros.py:149: RuntimeWarning: Tolerance of -8.16320147661e+15 reached\n",
        "  warnings.warn(msg, RuntimeWarning)\n"
       ]
      },
      {
       "output_type": "stream",
       "stream": "stderr",
       "text": [
        "/Library/Python/2.7/site-packages/scipy-0.13.0.dev_c31f167_20130514-py2.7-macosx-10.8-intel.egg/scipy/optimize/zeros.py:149: RuntimeWarning: Tolerance of -0.000166386365891 reached\n",
        "  warnings.warn(msg, RuntimeWarning)\n",
        "/Library/Python/2.7/site-packages/scipy-0.13.0.dev_c31f167_20130514-py2.7-macosx-10.8-intel.egg/scipy/optimize/zeros.py:149: RuntimeWarning: Tolerance of 1.06442795743e+16 reached\n",
        "  warnings.warn(msg, RuntimeWarning)\n"
       ]
      },
      {
       "output_type": "stream",
       "stream": "stderr",
       "text": [
        "/Library/Python/2.7/site-packages/scipy-0.13.0.dev_c31f167_20130514-py2.7-macosx-10.8-intel.egg/scipy/optimize/zeros.py:149: RuntimeWarning: Tolerance of -6.05870932262e+14 reached\n",
        "  warnings.warn(msg, RuntimeWarning)\n",
        "/Library/Python/2.7/site-packages/scipy-0.13.0.dev_c31f167_20130514-py2.7-macosx-10.8-intel.egg/scipy/optimize/zeros.py:149: RuntimeWarning: Tolerance of -2.44002595531e+16 reached\n",
        "  warnings.warn(msg, RuntimeWarning)\n"
       ]
      },
      {
       "output_type": "stream",
       "stream": "stderr",
       "text": [
        "/Library/Python/2.7/site-packages/scipy-0.13.0.dev_c31f167_20130514-py2.7-macosx-10.8-intel.egg/scipy/optimize/zeros.py:149: RuntimeWarning: Tolerance of -438230262580.0 reached\n",
        "  warnings.warn(msg, RuntimeWarning)\n",
        "/Library/Python/2.7/site-packages/scipy-0.13.0.dev_c31f167_20130514-py2.7-macosx-10.8-intel.egg/scipy/optimize/zeros.py:149: RuntimeWarning: Tolerance of -1.17317036756e+16 reached\n",
        "  warnings.warn(msg, RuntimeWarning)\n"
       ]
      },
      {
       "output_type": "stream",
       "stream": "stderr",
       "text": [
        "/Library/Python/2.7/site-packages/scipy-0.13.0.dev_c31f167_20130514-py2.7-macosx-10.8-intel.egg/scipy/optimize/zeros.py:149: RuntimeWarning: Tolerance of -4.12152848373e+14 reached\n",
        "  warnings.warn(msg, RuntimeWarning)\n",
        "/Library/Python/2.7/site-packages/scipy-0.13.0.dev_c31f167_20130514-py2.7-macosx-10.8-intel.egg/scipy/optimize/zeros.py:149: RuntimeWarning: Tolerance of -1.67638063431e-08 reached\n",
        "  warnings.warn(msg, RuntimeWarning)\n"
       ]
      },
      {
       "output_type": "stream",
       "stream": "stderr",
       "text": [
        "/Library/Python/2.7/site-packages/scipy-0.13.0.dev_c31f167_20130514-py2.7-macosx-10.8-intel.egg/scipy/optimize/zeros.py:149: RuntimeWarning: Tolerance of 9.19054689483e+14 reached\n",
        "  warnings.warn(msg, RuntimeWarning)\n",
        "/Library/Python/2.7/site-packages/scipy-0.13.0.dev_c31f167_20130514-py2.7-macosx-10.8-intel.egg/scipy/optimize/zeros.py:149: RuntimeWarning: Tolerance of -2.03966246562e+14 reached\n",
        "  warnings.warn(msg, RuntimeWarning)\n"
       ]
      },
      {
       "output_type": "stream",
       "stream": "stderr",
       "text": [
        "/Library/Python/2.7/site-packages/scipy-0.13.0.dev_c31f167_20130514-py2.7-macosx-10.8-intel.egg/scipy/optimize/zeros.py:149: RuntimeWarning: Tolerance of 1.58324837685e-08 reached\n",
        "  warnings.warn(msg, RuntimeWarning)\n",
        "/Library/Python/2.7/site-packages/scipy-0.13.0.dev_c31f167_20130514-py2.7-macosx-10.8-intel.egg/scipy/optimize/zeros.py:149: RuntimeWarning: Tolerance of 5.11909531591e+14 reached\n",
        "  warnings.warn(msg, RuntimeWarning)\n"
       ]
      },
      {
       "output_type": "stream",
       "stream": "stderr",
       "text": [
        "/Library/Python/2.7/site-packages/scipy-0.13.0.dev_c31f167_20130514-py2.7-macosx-10.8-intel.egg/scipy/optimize/zeros.py:149: RuntimeWarning: Tolerance of -7.50674013584e+15 reached\n",
        "  warnings.warn(msg, RuntimeWarning)\n",
        "/Library/Python/2.7/site-packages/scipy-0.13.0.dev_c31f167_20130514-py2.7-macosx-10.8-intel.egg/scipy/optimize/zeros.py:149: RuntimeWarning: Tolerance of 8.65755913638e+15 reached\n",
        "  warnings.warn(msg, RuntimeWarning)\n"
       ]
      },
      {
       "output_type": "stream",
       "stream": "stderr",
       "text": [
        "/Library/Python/2.7/site-packages/scipy-0.13.0.dev_c31f167_20130514-py2.7-macosx-10.8-intel.egg/scipy/optimize/zeros.py:149: RuntimeWarning: Tolerance of -2.10084730654e+14 reached\n",
        "  warnings.warn(msg, RuntimeWarning)\n",
        "/Library/Python/2.7/site-packages/scipy-0.13.0.dev_c31f167_20130514-py2.7-macosx-10.8-intel.egg/scipy/optimize/zeros.py:149: RuntimeWarning: Tolerance of -3.29700364629e+14 reached\n",
        "  warnings.warn(msg, RuntimeWarning)\n"
       ]
      },
      {
       "output_type": "stream",
       "stream": "stderr",
       "text": [
        "/Library/Python/2.7/site-packages/scipy-0.13.0.dev_c31f167_20130514-py2.7-macosx-10.8-intel.egg/scipy/optimize/zeros.py:149: RuntimeWarning: Tolerance of 6.00929030501e+15 reached\n",
        "  warnings.warn(msg, RuntimeWarning)\n",
        "/Library/Python/2.7/site-packages/scipy-0.13.0.dev_c31f167_20130514-py2.7-macosx-10.8-intel.egg/scipy/optimize/zeros.py:149: RuntimeWarning: Tolerance of -3.90293174487e+13 reached\n",
        "  warnings.warn(msg, RuntimeWarning)\n"
       ]
      },
      {
       "output_type": "stream",
       "stream": "stderr",
       "text": [
        "/Library/Python/2.7/site-packages/scipy-0.13.0.dev_c31f167_20130514-py2.7-macosx-10.8-intel.egg/scipy/optimize/zeros.py:149: RuntimeWarning: Tolerance of 5.89988597045e+15 reached\n",
        "  warnings.warn(msg, RuntimeWarning)\n",
        "/Library/Python/2.7/site-packages/scipy-0.13.0.dev_c31f167_20130514-py2.7-macosx-10.8-intel.egg/scipy/optimize/zeros.py:149: RuntimeWarning: Tolerance of 8.48593236972e+14 reached\n",
        "  warnings.warn(msg, RuntimeWarning)\n"
       ]
      },
      {
       "output_type": "stream",
       "stream": "stderr",
       "text": [
        "/Library/Python/2.7/site-packages/scipy-0.13.0.dev_c31f167_20130514-py2.7-macosx-10.8-intel.egg/scipy/optimize/zeros.py:149: RuntimeWarning: Tolerance of -2.75041284517e+16 reached\n",
        "  warnings.warn(msg, RuntimeWarning)\n",
        "/Library/Python/2.7/site-packages/scipy-0.13.0.dev_c31f167_20130514-py2.7-macosx-10.8-intel.egg/scipy/optimize/zeros.py:149: RuntimeWarning: Tolerance of -4.29105495038e+14 reached\n",
        "  warnings.warn(msg, RuntimeWarning)\n"
       ]
      },
      {
       "output_type": "stream",
       "stream": "stderr",
       "text": [
        "/Library/Python/2.7/site-packages/scipy-0.13.0.dev_c31f167_20130514-py2.7-macosx-10.8-intel.egg/scipy/optimize/zeros.py:149: RuntimeWarning: Tolerance of -7.33764541641e+14 reached\n",
        "  warnings.warn(msg, RuntimeWarning)\n",
        "/Library/Python/2.7/site-packages/scipy-0.13.0.dev_c31f167_20130514-py2.7-macosx-10.8-intel.egg/scipy/optimize/zeros.py:149: RuntimeWarning: Tolerance of -5.85813904682e+14 reached\n",
        "  warnings.warn(msg, RuntimeWarning)\n"
       ]
      },
      {
       "output_type": "stream",
       "stream": "stderr",
       "text": [
        "/Library/Python/2.7/site-packages/scipy-0.13.0.dev_c31f167_20130514-py2.7-macosx-10.8-intel.egg/scipy/optimize/zeros.py:149: RuntimeWarning: Tolerance of -1.44282625113e+15 reached\n",
        "  warnings.warn(msg, RuntimeWarning)\n",
        "/Library/Python/2.7/site-packages/scipy-0.13.0.dev_c31f167_20130514-py2.7-macosx-10.8-intel.egg/scipy/optimize/zeros.py:149: RuntimeWarning: Tolerance of 5.36207380918e+14 reached\n",
        "  warnings.warn(msg, RuntimeWarning)\n"
       ]
      },
      {
       "output_type": "stream",
       "stream": "stderr",
       "text": [
        "/Library/Python/2.7/site-packages/scipy-0.13.0.dev_c31f167_20130514-py2.7-macosx-10.8-intel.egg/scipy/optimize/zeros.py:149: RuntimeWarning: Tolerance of 4.40343800834e+12 reached\n",
        "  warnings.warn(msg, RuntimeWarning)\n",
        "/Library/Python/2.7/site-packages/scipy-0.13.0.dev_c31f167_20130514-py2.7-macosx-10.8-intel.egg/scipy/optimize/zeros.py:149: RuntimeWarning: Tolerance of -1.12038217359e+16 reached\n",
        "  warnings.warn(msg, RuntimeWarning)\n"
       ]
      },
      {
       "output_type": "stream",
       "stream": "stderr",
       "text": [
        "/Library/Python/2.7/site-packages/scipy-0.13.0.dev_c31f167_20130514-py2.7-macosx-10.8-intel.egg/scipy/optimize/zeros.py:149: RuntimeWarning: Tolerance of 2.40292990614e+14 reached\n",
        "  warnings.warn(msg, RuntimeWarning)\n",
        "/Library/Python/2.7/site-packages/scipy-0.13.0.dev_c31f167_20130514-py2.7-macosx-10.8-intel.egg/scipy/optimize/zeros.py:149: RuntimeWarning: Tolerance of -3.3727842083e+15 reached\n",
        "  warnings.warn(msg, RuntimeWarning)\n"
       ]
      },
      {
       "output_type": "stream",
       "stream": "stderr",
       "text": [
        "/Library/Python/2.7/site-packages/scipy-0.13.0.dev_c31f167_20130514-py2.7-macosx-10.8-intel.egg/scipy/optimize/zeros.py:149: RuntimeWarning: Tolerance of 1.97222123986e+13 reached\n",
        "  warnings.warn(msg, RuntimeWarning)\n",
        "/Library/Python/2.7/site-packages/scipy-0.13.0.dev_c31f167_20130514-py2.7-macosx-10.8-intel.egg/scipy/optimize/zeros.py:149: RuntimeWarning: Tolerance of 8.91265381407e+13 reached\n",
        "  warnings.warn(msg, RuntimeWarning)\n"
       ]
      },
      {
       "output_type": "stream",
       "stream": "stderr",
       "text": [
        "/Library/Python/2.7/site-packages/scipy-0.13.0.dev_c31f167_20130514-py2.7-macosx-10.8-intel.egg/scipy/optimize/zeros.py:149: RuntimeWarning: Tolerance of -2.70083546638e-08 reached\n",
        "  warnings.warn(msg, RuntimeWarning)\n",
        "/Library/Python/2.7/site-packages/scipy-0.13.0.dev_c31f167_20130514-py2.7-macosx-10.8-intel.egg/scipy/optimize/zeros.py:149: RuntimeWarning: Tolerance of 1.86976217019e+14 reached\n",
        "  warnings.warn(msg, RuntimeWarning)\n"
       ]
      },
      {
       "output_type": "stream",
       "stream": "stderr",
       "text": [
        "/Library/Python/2.7/site-packages/scipy-0.13.0.dev_c31f167_20130514-py2.7-macosx-10.8-intel.egg/scipy/optimize/zeros.py:149: RuntimeWarning: Tolerance of -3.11883053648e+14 reached\n",
        "  warnings.warn(msg, RuntimeWarning)\n",
        "/Library/Python/2.7/site-packages/scipy-0.13.0.dev_c31f167_20130514-py2.7-macosx-10.8-intel.egg/scipy/optimize/zeros.py:149: RuntimeWarning: Tolerance of 4.41197397025e+13 reached\n",
        "  warnings.warn(msg, RuntimeWarning)\n"
       ]
      },
      {
       "output_type": "stream",
       "stream": "stderr",
       "text": [
        "/Library/Python/2.7/site-packages/scipy-0.13.0.dev_c31f167_20130514-py2.7-macosx-10.8-intel.egg/scipy/optimize/zeros.py:149: RuntimeWarning: Tolerance of 1.15606049989e+15 reached\n",
        "  warnings.warn(msg, RuntimeWarning)\n",
        "/Library/Python/2.7/site-packages/scipy-0.13.0.dev_c31f167_20130514-py2.7-macosx-10.8-intel.egg/scipy/optimize/zeros.py:149: RuntimeWarning: Tolerance of 5.4157640392e+15 reached\n",
        "  warnings.warn(msg, RuntimeWarning)\n"
       ]
      },
      {
       "output_type": "stream",
       "stream": "stderr",
       "text": [
        "/Library/Python/2.7/site-packages/scipy-0.13.0.dev_c31f167_20130514-py2.7-macosx-10.8-intel.egg/scipy/optimize/zeros.py:149: RuntimeWarning: Tolerance of 1.2665070093e+15 reached\n",
        "  warnings.warn(msg, RuntimeWarning)\n",
        "/Library/Python/2.7/site-packages/scipy-0.13.0.dev_c31f167_20130514-py2.7-macosx-10.8-intel.egg/scipy/optimize/zeros.py:149: RuntimeWarning: Tolerance of -2.58932938994e+14 reached\n",
        "  warnings.warn(msg, RuntimeWarning)\n"
       ]
      },
      {
       "output_type": "stream",
       "stream": "stderr",
       "text": [
        "/Library/Python/2.7/site-packages/scipy-0.13.0.dev_c31f167_20130514-py2.7-macosx-10.8-intel.egg/scipy/optimize/zeros.py:149: RuntimeWarning: Tolerance of 2.55197560942e+15 reached\n",
        "  warnings.warn(msg, RuntimeWarning)\n",
        "/Library/Python/2.7/site-packages/scipy-0.13.0.dev_c31f167_20130514-py2.7-macosx-10.8-intel.egg/scipy/optimize/zeros.py:149: RuntimeWarning: Tolerance of 2.87999212528e+14 reached\n",
        "  warnings.warn(msg, RuntimeWarning)\n"
       ]
      },
      {
       "output_type": "stream",
       "stream": "stderr",
       "text": [
        "/Library/Python/2.7/site-packages/scipy-0.13.0.dev_c31f167_20130514-py2.7-macosx-10.8-intel.egg/scipy/optimize/zeros.py:149: RuntimeWarning: Tolerance of 2.80595008028e+15 reached\n",
        "  warnings.warn(msg, RuntimeWarning)\n",
        "/Library/Python/2.7/site-packages/scipy-0.13.0.dev_c31f167_20130514-py2.7-macosx-10.8-intel.egg/scipy/optimize/zeros.py:149: RuntimeWarning: Tolerance of -1.58823187323e+13 reached\n",
        "  warnings.warn(msg, RuntimeWarning)\n"
       ]
      },
      {
       "output_type": "stream",
       "stream": "stderr",
       "text": [
        "/Library/Python/2.7/site-packages/scipy-0.13.0.dev_c31f167_20130514-py2.7-macosx-10.8-intel.egg/scipy/optimize/zeros.py:149: RuntimeWarning: Tolerance of -6.43189070329e+15 reached\n",
        "  warnings.warn(msg, RuntimeWarning)\n",
        "/Library/Python/2.7/site-packages/scipy-0.13.0.dev_c31f167_20130514-py2.7-macosx-10.8-intel.egg/scipy/optimize/zeros.py:149: RuntimeWarning: Tolerance of 2.14785307925e+13 reached\n",
        "  warnings.warn(msg, RuntimeWarning)\n"
       ]
      },
      {
       "output_type": "stream",
       "stream": "stderr",
       "text": [
        "/Library/Python/2.7/site-packages/scipy-0.13.0.dev_c31f167_20130514-py2.7-macosx-10.8-intel.egg/scipy/optimize/zeros.py:149: RuntimeWarning: Tolerance of -5.27880657916e+15 reached\n",
        "  warnings.warn(msg, RuntimeWarning)\n",
        "/Library/Python/2.7/site-packages/scipy-0.13.0.dev_c31f167_20130514-py2.7-macosx-10.8-intel.egg/scipy/optimize/zeros.py:149: RuntimeWarning: Tolerance of -1.09530240676e+14 reached\n",
        "  warnings.warn(msg, RuntimeWarning)\n"
       ]
      },
      {
       "output_type": "stream",
       "stream": "stderr",
       "text": [
        "/Library/Python/2.7/site-packages/scipy-0.13.0.dev_c31f167_20130514-py2.7-macosx-10.8-intel.egg/scipy/optimize/zeros.py:149: RuntimeWarning: Tolerance of -1.22298115529e+15 reached\n",
        "  warnings.warn(msg, RuntimeWarning)\n",
        "/Library/Python/2.7/site-packages/scipy-0.13.0.dev_c31f167_20130514-py2.7-macosx-10.8-intel.egg/scipy/optimize/zeros.py:149: RuntimeWarning: Tolerance of 3.5534378519e+16 reached\n",
        "  warnings.warn(msg, RuntimeWarning)\n"
       ]
      },
      {
       "output_type": "stream",
       "stream": "stderr",
       "text": [
        "/Library/Python/2.7/site-packages/scipy-0.13.0.dev_c31f167_20130514-py2.7-macosx-10.8-intel.egg/scipy/optimize/zeros.py:149: RuntimeWarning: Tolerance of -1.04545340356e+13 reached\n",
        "  warnings.warn(msg, RuntimeWarning)\n",
        "/Library/Python/2.7/site-packages/scipy-0.13.0.dev_c31f167_20130514-py2.7-macosx-10.8-intel.egg/scipy/optimize/zeros.py:149: RuntimeWarning: Tolerance of 1.37793357588e+16 reached\n",
        "  warnings.warn(msg, RuntimeWarning)\n"
       ]
      },
      {
       "output_type": "stream",
       "stream": "stderr",
       "text": [
        "/Library/Python/2.7/site-packages/scipy-0.13.0.dev_c31f167_20130514-py2.7-macosx-10.8-intel.egg/scipy/optimize/zeros.py:149: RuntimeWarning: Tolerance of -3.60258370588e+15 reached\n",
        "  warnings.warn(msg, RuntimeWarning)\n",
        "/Library/Python/2.7/site-packages/scipy-0.13.0.dev_c31f167_20130514-py2.7-macosx-10.8-intel.egg/scipy/optimize/zeros.py:149: RuntimeWarning: Tolerance of -1.90181481822e+15 reached\n",
        "  warnings.warn(msg, RuntimeWarning)\n"
       ]
      },
      {
       "output_type": "stream",
       "stream": "stderr",
       "text": [
        "/Library/Python/2.7/site-packages/scipy-0.13.0.dev_c31f167_20130514-py2.7-macosx-10.8-intel.egg/scipy/optimize/zeros.py:149: RuntimeWarning: Tolerance of -2.55433624008e+15 reached\n",
        "  warnings.warn(msg, RuntimeWarning)\n",
        "/Library/Python/2.7/site-packages/scipy-0.13.0.dev_c31f167_20130514-py2.7-macosx-10.8-intel.egg/scipy/optimize/zeros.py:149: RuntimeWarning: Tolerance of -3.21759433178e+15 reached\n",
        "  warnings.warn(msg, RuntimeWarning)\n"
       ]
      },
      {
       "output_type": "stream",
       "stream": "stderr",
       "text": [
        "/Library/Python/2.7/site-packages/scipy-0.13.0.dev_c31f167_20130514-py2.7-macosx-10.8-intel.egg/scipy/optimize/zeros.py:149: RuntimeWarning: Tolerance of -6.77544719523e+14 reached\n",
        "  warnings.warn(msg, RuntimeWarning)\n",
        "/Library/Python/2.7/site-packages/scipy-0.13.0.dev_c31f167_20130514-py2.7-macosx-10.8-intel.egg/scipy/optimize/zeros.py:149: RuntimeWarning: Tolerance of 5.00778941558e+15 reached\n",
        "  warnings.warn(msg, RuntimeWarning)\n"
       ]
      },
      {
       "output_type": "stream",
       "stream": "stderr",
       "text": [
        "/Library/Python/2.7/site-packages/scipy-0.13.0.dev_c31f167_20130514-py2.7-macosx-10.8-intel.egg/scipy/optimize/zeros.py:149: RuntimeWarning: Tolerance of 3.40173353458e+14 reached\n",
        "  warnings.warn(msg, RuntimeWarning)\n",
        "/Library/Python/2.7/site-packages/scipy-0.13.0.dev_c31f167_20130514-py2.7-macosx-10.8-intel.egg/scipy/optimize/zeros.py:149: RuntimeWarning: Tolerance of -5.68926395837e+12 reached\n",
        "  warnings.warn(msg, RuntimeWarning)\n"
       ]
      },
      {
       "output_type": "stream",
       "stream": "stderr",
       "text": [
        "/Library/Python/2.7/site-packages/scipy-0.13.0.dev_c31f167_20130514-py2.7-macosx-10.8-intel.egg/scipy/optimize/zeros.py:149: RuntimeWarning: Tolerance of 6.69736429934e+13 reached\n",
        "  warnings.warn(msg, RuntimeWarning)\n",
        "/Library/Python/2.7/site-packages/scipy-0.13.0.dev_c31f167_20130514-py2.7-macosx-10.8-intel.egg/scipy/optimize/zeros.py:149: RuntimeWarning: Tolerance of 1.1931574115e+16 reached\n",
        "  warnings.warn(msg, RuntimeWarning)\n"
       ]
      },
      {
       "output_type": "stream",
       "stream": "stdout",
       "text": [
        "\n",
        "deleting item T1map_LL"
       ]
      },
      {
       "output_type": "stream",
       "stream": "stdout",
       "text": [
        "\n",
        "deleting item T1map_LL_fitdict"
       ]
      },
      {
       "output_type": "stream",
       "stream": "stderr",
       "text": [
        "/Library/Python/2.7/site-packages/scipy-0.13.0.dev_c31f167_20130514-py2.7-macosx-10.8-intel.egg/scipy/optimize/zeros.py:149: RuntimeWarning: Tolerance of -57863947848.0 reached\n",
        "  warnings.warn(msg, RuntimeWarning)\n",
        "WARNING:sarpy.io.BRUKERIO:NSLICES not equal to number of ACQ_obj_order\n"
       ]
      },
      {
       "output_type": "stream",
       "stream": "stderr",
       "text": [
        "/Library/Python/2.7/site-packages/scipy-0.13.0.dev_c31f167_20130514-py2.7-macosx-10.8-intel.egg/scipy/optimize/zeros.py:149: RuntimeWarning: Tolerance of 2.00622908874e+15 reached\n",
        "  warnings.warn(msg, RuntimeWarning)\n",
        "/Library/Python/2.7/site-packages/scipy-0.13.0.dev_c31f167_20130514-py2.7-macosx-10.8-intel.egg/scipy/optimize/zeros.py:149: RuntimeWarning: Tolerance of -8.53354735284e+13 reached\n",
        "  warnings.warn(msg, RuntimeWarning)\n"
       ]
      },
      {
       "output_type": "stream",
       "stream": "stderr",
       "text": [
        "/Library/Python/2.7/site-packages/scipy-0.13.0.dev_c31f167_20130514-py2.7-macosx-10.8-intel.egg/scipy/optimize/zeros.py:149: RuntimeWarning: Tolerance of -1.71427054968e+15 reached\n",
        "  warnings.warn(msg, RuntimeWarning)\n",
        "/Library/Python/2.7/site-packages/scipy-0.13.0.dev_c31f167_20130514-py2.7-macosx-10.8-intel.egg/scipy/optimize/zeros.py:149: RuntimeWarning: Tolerance of 7.43754610359e+13 reached\n",
        "  warnings.warn(msg, RuntimeWarning)\n"
       ]
      },
      {
       "output_type": "stream",
       "stream": "stderr",
       "text": [
        "/Library/Python/2.7/site-packages/scipy-0.13.0.dev_c31f167_20130514-py2.7-macosx-10.8-intel.egg/scipy/optimize/zeros.py:149: RuntimeWarning: Tolerance of -3.83206611537e+14 reached\n",
        "  warnings.warn(msg, RuntimeWarning)\n",
        "/Library/Python/2.7/site-packages/scipy-0.13.0.dev_c31f167_20130514-py2.7-macosx-10.8-intel.egg/scipy/optimize/zeros.py:149: RuntimeWarning: Tolerance of 1.91397046047e+16 reached\n",
        "  warnings.warn(msg, RuntimeWarning)\n"
       ]
      },
      {
       "output_type": "stream",
       "stream": "stderr",
       "text": [
        "/Library/Python/2.7/site-packages/scipy-0.13.0.dev_c31f167_20130514-py2.7-macosx-10.8-intel.egg/scipy/optimize/zeros.py:149: RuntimeWarning: Tolerance of 1.35949208572e+14 reached\n",
        "  warnings.warn(msg, RuntimeWarning)\n",
        "/Library/Python/2.7/site-packages/scipy-0.13.0.dev_c31f167_20130514-py2.7-macosx-10.8-intel.egg/scipy/optimize/zeros.py:149: RuntimeWarning: Tolerance of 1.10421154649e+15 reached\n",
        "  warnings.warn(msg, RuntimeWarning)\n"
       ]
      },
      {
       "output_type": "stream",
       "stream": "stderr",
       "text": [
        "/Library/Python/2.7/site-packages/scipy-0.13.0.dev_c31f167_20130514-py2.7-macosx-10.8-intel.egg/scipy/optimize/zeros.py:149: RuntimeWarning: Tolerance of -2.47061252594e-05 reached\n",
        "  warnings.warn(msg, RuntimeWarning)\n",
        "/Library/Python/2.7/site-packages/scipy-0.13.0.dev_c31f167_20130514-py2.7-macosx-10.8-intel.egg/scipy/optimize/zeros.py:149: RuntimeWarning: Tolerance of 1.2183467201e+15 reached\n",
        "  warnings.warn(msg, RuntimeWarning)\n"
       ]
      },
      {
       "output_type": "stream",
       "stream": "stderr",
       "text": [
        "/Library/Python/2.7/site-packages/scipy-0.13.0.dev_c31f167_20130514-py2.7-macosx-10.8-intel.egg/scipy/optimize/zeros.py:149: RuntimeWarning: Tolerance of 2.38776727153e+14 reached\n",
        "  warnings.warn(msg, RuntimeWarning)\n",
        "/Library/Python/2.7/site-packages/scipy-0.13.0.dev_c31f167_20130514-py2.7-macosx-10.8-intel.egg/scipy/optimize/zeros.py:149: RuntimeWarning: Tolerance of 1.29262276107e+15 reached\n",
        "  warnings.warn(msg, RuntimeWarning)\n"
       ]
      },
      {
       "output_type": "stream",
       "stream": "stderr",
       "text": [
        "/Library/Python/2.7/site-packages/scipy-0.13.0.dev_c31f167_20130514-py2.7-macosx-10.8-intel.egg/scipy/optimize/zeros.py:149: RuntimeWarning: Tolerance of -4.39089373557e+15 reached\n",
        "  warnings.warn(msg, RuntimeWarning)\n",
        "/Library/Python/2.7/site-packages/scipy-0.13.0.dev_c31f167_20130514-py2.7-macosx-10.8-intel.egg/scipy/optimize/zeros.py:149: RuntimeWarning: Tolerance of 2.04397794875e+13 reached\n",
        "  warnings.warn(msg, RuntimeWarning)\n"
       ]
      },
      {
       "output_type": "stream",
       "stream": "stderr",
       "text": [
        "/Library/Python/2.7/site-packages/scipy-0.13.0.dev_c31f167_20130514-py2.7-macosx-10.8-intel.egg/scipy/optimize/zeros.py:149: RuntimeWarning: Tolerance of 4.11546934506e+14 reached\n",
        "  warnings.warn(msg, RuntimeWarning)\n",
        "/Library/Python/2.7/site-packages/scipy-0.13.0.dev_c31f167_20130514-py2.7-macosx-10.8-intel.egg/scipy/optimize/zeros.py:149: RuntimeWarning: Tolerance of 7.12160505834e+14 reached\n",
        "  warnings.warn(msg, RuntimeWarning)\n"
       ]
      },
      {
       "output_type": "stream",
       "stream": "stderr",
       "text": [
        "/Library/Python/2.7/site-packages/scipy-0.13.0.dev_c31f167_20130514-py2.7-macosx-10.8-intel.egg/scipy/optimize/zeros.py:149: RuntimeWarning: Tolerance of 7.41240930634e+13 reached\n",
        "  warnings.warn(msg, RuntimeWarning)\n",
        "/Library/Python/2.7/site-packages/scipy-0.13.0.dev_c31f167_20130514-py2.7-macosx-10.8-intel.egg/scipy/optimize/zeros.py:149: RuntimeWarning: Tolerance of -8.86952478013e+15 reached\n",
        "  warnings.warn(msg, RuntimeWarning)\n"
       ]
      },
      {
       "output_type": "stream",
       "stream": "stderr",
       "text": [
        "/Library/Python/2.7/site-packages/scipy-0.13.0.dev_c31f167_20130514-py2.7-macosx-10.8-intel.egg/scipy/optimize/zeros.py:149: RuntimeWarning: Tolerance of -615274555344.0 reached\n",
        "  warnings.warn(msg, RuntimeWarning)\n",
        "/Library/Python/2.7/site-packages/scipy-0.13.0.dev_c31f167_20130514-py2.7-macosx-10.8-intel.egg/scipy/optimize/zeros.py:149: RuntimeWarning: Tolerance of -2.95803565048e+15 reached\n",
        "  warnings.warn(msg, RuntimeWarning)\n"
       ]
      },
      {
       "output_type": "stream",
       "stream": "stderr",
       "text": [
        "/Library/Python/2.7/site-packages/scipy-0.13.0.dev_c31f167_20130514-py2.7-macosx-10.8-intel.egg/scipy/optimize/zeros.py:149: RuntimeWarning: Tolerance of 2.38279810937e+15 reached\n",
        "  warnings.warn(msg, RuntimeWarning)\n",
        "/Library/Python/2.7/site-packages/scipy-0.13.0.dev_c31f167_20130514-py2.7-macosx-10.8-intel.egg/scipy/optimize/zeros.py:149: RuntimeWarning: Tolerance of -4.02100949429e+15 reached\n",
        "  warnings.warn(msg, RuntimeWarning)\n"
       ]
      },
      {
       "output_type": "stream",
       "stream": "stdout",
       "text": [
        "\n",
        "deleting item T1map_LL"
       ]
      },
      {
       "output_type": "stream",
       "stream": "stdout",
       "text": [
        "\n",
        "deleting item T1map_LL_fitdict"
       ]
      },
      {
       "output_type": "stream",
       "stream": "stderr",
       "text": [
        "/Library/Python/2.7/site-packages/scipy-0.13.0.dev_c31f167_20130514-py2.7-macosx-10.8-intel.egg/scipy/optimize/zeros.py:149: RuntimeWarning: Tolerance of 3.79745939276e+14 reached\n",
        "  warnings.warn(msg, RuntimeWarning)\n",
        "WARNING:sarpy.io.BRUKERIO:NSLICES not equal to number of ACQ_obj_order\n"
       ]
      },
      {
       "output_type": "stream",
       "stream": "stderr",
       "text": [
        "/Library/Python/2.7/site-packages/scipy-0.13.0.dev_c31f167_20130514-py2.7-macosx-10.8-intel.egg/scipy/optimize/zeros.py:149: RuntimeWarning: Tolerance of -1.9921953874e+15 reached\n",
        "  warnings.warn(msg, RuntimeWarning)\n",
        "/Library/Python/2.7/site-packages/scipy-0.13.0.dev_c31f167_20130514-py2.7-macosx-10.8-intel.egg/scipy/optimize/zeros.py:149: RuntimeWarning: Tolerance of -1.93287487202e+14 reached\n",
        "  warnings.warn(msg, RuntimeWarning)\n"
       ]
      },
      {
       "output_type": "stream",
       "stream": "stderr",
       "text": [
        "/Library/Python/2.7/site-packages/scipy-0.13.0.dev_c31f167_20130514-py2.7-macosx-10.8-intel.egg/scipy/optimize/zeros.py:149: RuntimeWarning: Tolerance of 3.35709004386e+15 reached\n",
        "  warnings.warn(msg, RuntimeWarning)\n",
        "/Library/Python/2.7/site-packages/scipy-0.13.0.dev_c31f167_20130514-py2.7-macosx-10.8-intel.egg/scipy/optimize/zeros.py:149: RuntimeWarning: Tolerance of -1.43723932227e+15 reached\n",
        "  warnings.warn(msg, RuntimeWarning)\n"
       ]
      },
      {
       "output_type": "stream",
       "stream": "stderr",
       "text": [
        "/Library/Python/2.7/site-packages/scipy-0.13.0.dev_c31f167_20130514-py2.7-macosx-10.8-intel.egg/scipy/optimize/zeros.py:149: RuntimeWarning: Tolerance of -2.1408609263e+12 reached\n",
        "  warnings.warn(msg, RuntimeWarning)\n",
        "/Library/Python/2.7/site-packages/scipy-0.13.0.dev_c31f167_20130514-py2.7-macosx-10.8-intel.egg/scipy/optimize/zeros.py:149: RuntimeWarning: Tolerance of -9.75635188763e+15 reached\n",
        "  warnings.warn(msg, RuntimeWarning)\n"
       ]
      },
      {
       "output_type": "stream",
       "stream": "stderr",
       "text": [
        "/Library/Python/2.7/site-packages/scipy-0.13.0.dev_c31f167_20130514-py2.7-macosx-10.8-intel.egg/scipy/optimize/zeros.py:149: RuntimeWarning: Tolerance of -1.13802489255e+14 reached\n",
        "  warnings.warn(msg, RuntimeWarning)\n",
        "/Library/Python/2.7/site-packages/scipy-0.13.0.dev_c31f167_20130514-py2.7-macosx-10.8-intel.egg/scipy/optimize/zeros.py:149: RuntimeWarning: Tolerance of 1.40517209586e+16 reached\n",
        "  warnings.warn(msg, RuntimeWarning)\n"
       ]
      },
      {
       "output_type": "stream",
       "stream": "stderr",
       "text": [
        "/phd/Dropbox/code/python/sarpy/fmoosvi/analysis.py:579: RuntimeWarning: overflow encountered in double_scalars\n",
        "  return (1-2*numpy.exp(-Td/T1) + numpy.exp(-(Tp+Td)/T1))*((1-numpy.exp(-tao/T1_eff))/(1-numpy.exp(-tao/T1))) -c*(numpy.exp(-tao/T1_eff)/(numpy.exp(-tao/T1)))*numpy.exp(-(Tp+Td)/T1) - b\n",
        "/Library/Python/2.7/site-packages/scipy-0.13.0.dev_c31f167_20130514-py2.7-macosx-10.8-intel.egg/scipy/optimize/zeros.py:149: RuntimeWarning: Tolerance of 3.03286985796e+15 reached\n",
        "  warnings.warn(msg, RuntimeWarning)\n"
       ]
      },
      {
       "output_type": "stream",
       "stream": "stderr",
       "text": [
        "/Library/Python/2.7/site-packages/scipy-0.13.0.dev_c31f167_20130514-py2.7-macosx-10.8-intel.egg/scipy/optimize/zeros.py:149: RuntimeWarning: Tolerance of -3.49868833787e+14 reached\n",
        "  warnings.warn(msg, RuntimeWarning)\n",
        "/Library/Python/2.7/site-packages/scipy-0.13.0.dev_c31f167_20130514-py2.7-macosx-10.8-intel.egg/scipy/optimize/zeros.py:149: RuntimeWarning: Tolerance of 2.1479100771e+15 reached\n",
        "  warnings.warn(msg, RuntimeWarning)\n"
       ]
      },
      {
       "output_type": "stream",
       "stream": "stderr",
       "text": [
        "/Library/Python/2.7/site-packages/scipy-0.13.0.dev_c31f167_20130514-py2.7-macosx-10.8-intel.egg/scipy/optimize/zeros.py:149: RuntimeWarning: Tolerance of -1.27711529622e+16 reached\n",
        "  warnings.warn(msg, RuntimeWarning)\n",
        "/Library/Python/2.7/site-packages/scipy-0.13.0.dev_c31f167_20130514-py2.7-macosx-10.8-intel.egg/scipy/optimize/zeros.py:149: RuntimeWarning: Tolerance of 3.43475642124e+13 reached\n",
        "  warnings.warn(msg, RuntimeWarning)\n"
       ]
      },
      {
       "output_type": "stream",
       "stream": "stderr",
       "text": [
        "/Library/Python/2.7/site-packages/scipy-0.13.0.dev_c31f167_20130514-py2.7-macosx-10.8-intel.egg/scipy/optimize/zeros.py:149: RuntimeWarning: Tolerance of -1.59064728253e+15 reached\n",
        "  warnings.warn(msg, RuntimeWarning)\n",
        "/Library/Python/2.7/site-packages/scipy-0.13.0.dev_c31f167_20130514-py2.7-macosx-10.8-intel.egg/scipy/optimize/zeros.py:149: RuntimeWarning: Tolerance of -6.08121188641e+13 reached\n",
        "  warnings.warn(msg, RuntimeWarning)\n"
       ]
      },
      {
       "output_type": "stream",
       "stream": "stderr",
       "text": [
        "/Library/Python/2.7/site-packages/scipy-0.13.0.dev_c31f167_20130514-py2.7-macosx-10.8-intel.egg/scipy/optimize/zeros.py:149: RuntimeWarning: Tolerance of 2.03825490631e+16 reached\n",
        "  warnings.warn(msg, RuntimeWarning)\n",
        "/Library/Python/2.7/site-packages/scipy-0.13.0.dev_c31f167_20130514-py2.7-macosx-10.8-intel.egg/scipy/optimize/zeros.py:149: RuntimeWarning: Tolerance of -1.21611018311e+16 reached\n",
        "  warnings.warn(msg, RuntimeWarning)\n"
       ]
      },
      {
       "output_type": "stream",
       "stream": "stderr",
       "text": [
        "/Library/Python/2.7/site-packages/scipy-0.13.0.dev_c31f167_20130514-py2.7-macosx-10.8-intel.egg/scipy/optimize/zeros.py:149: RuntimeWarning: Tolerance of 1.52165618432e+16 reached\n",
        "  warnings.warn(msg, RuntimeWarning)\n",
        "/Library/Python/2.7/site-packages/scipy-0.13.0.dev_c31f167_20130514-py2.7-macosx-10.8-intel.egg/scipy/optimize/zeros.py:149: RuntimeWarning: Tolerance of -5.138599444e+15 reached\n",
        "  warnings.warn(msg, RuntimeWarning)\n"
       ]
      },
      {
       "output_type": "stream",
       "stream": "stderr",
       "text": [
        "/Library/Python/2.7/site-packages/scipy-0.13.0.dev_c31f167_20130514-py2.7-macosx-10.8-intel.egg/scipy/optimize/zeros.py:149: RuntimeWarning: Tolerance of -1.60789053664e+13 reached\n",
        "  warnings.warn(msg, RuntimeWarning)\n",
        "/Library/Python/2.7/site-packages/scipy-0.13.0.dev_c31f167_20130514-py2.7-macosx-10.8-intel.egg/scipy/optimize/zeros.py:149: RuntimeWarning: Tolerance of 5.22855992063e+15 reached\n",
        "  warnings.warn(msg, RuntimeWarning)\n"
       ]
      },
      {
       "output_type": "stream",
       "stream": "stderr",
       "text": [
        "/Library/Python/2.7/site-packages/scipy-0.13.0.dev_c31f167_20130514-py2.7-macosx-10.8-intel.egg/scipy/optimize/zeros.py:149: RuntimeWarning: Tolerance of 4.54868412467e+13 reached\n",
        "  warnings.warn(msg, RuntimeWarning)\n",
        "/Library/Python/2.7/site-packages/scipy-0.13.0.dev_c31f167_20130514-py2.7-macosx-10.8-intel.egg/scipy/optimize/zeros.py:149: RuntimeWarning: Tolerance of -8.11635493647e+14 reached\n",
        "  warnings.warn(msg, RuntimeWarning)\n"
       ]
      },
      {
       "output_type": "stream",
       "stream": "stderr",
       "text": [
        "/Library/Python/2.7/site-packages/scipy-0.13.0.dev_c31f167_20130514-py2.7-macosx-10.8-intel.egg/scipy/optimize/zeros.py:149: RuntimeWarning: Tolerance of -8.35907062359e+14 reached\n",
        "  warnings.warn(msg, RuntimeWarning)\n",
        "/Library/Python/2.7/site-packages/scipy-0.13.0.dev_c31f167_20130514-py2.7-macosx-10.8-intel.egg/scipy/optimize/zeros.py:149: RuntimeWarning: Tolerance of -8.96583545498e+15 reached\n",
        "  warnings.warn(msg, RuntimeWarning)\n"
       ]
      },
      {
       "output_type": "stream",
       "stream": "stderr",
       "text": [
        "/Library/Python/2.7/site-packages/scipy-0.13.0.dev_c31f167_20130514-py2.7-macosx-10.8-intel.egg/scipy/optimize/zeros.py:149: RuntimeWarning: Tolerance of -3.26823043147e+12 reached\n",
        "  warnings.warn(msg, RuntimeWarning)\n",
        "/Library/Python/2.7/site-packages/scipy-0.13.0.dev_c31f167_20130514-py2.7-macosx-10.8-intel.egg/scipy/optimize/zeros.py:149: RuntimeWarning: Tolerance of -7.19958928645e+14 reached\n",
        "  warnings.warn(msg, RuntimeWarning)\n"
       ]
      },
      {
       "output_type": "stream",
       "stream": "stderr",
       "text": [
        "/Library/Python/2.7/site-packages/scipy-0.13.0.dev_c31f167_20130514-py2.7-macosx-10.8-intel.egg/scipy/optimize/zeros.py:149: RuntimeWarning: Tolerance of 4.25765595833e+15 reached\n",
        "  warnings.warn(msg, RuntimeWarning)\n",
        "/Library/Python/2.7/site-packages/scipy-0.13.0.dev_c31f167_20130514-py2.7-macosx-10.8-intel.egg/scipy/optimize/zeros.py:149: RuntimeWarning: Tolerance of -7.43517463065e+14 reached\n",
        "  warnings.warn(msg, RuntimeWarning)\n"
       ]
      },
      {
       "output_type": "stream",
       "stream": "stdout",
       "text": [
        "\n",
        "deleting item T1map_LL"
       ]
      },
      {
       "output_type": "stream",
       "stream": "stdout",
       "text": [
        "\n",
        "deleting item T1map_LL_fitdict"
       ]
      },
      {
       "output_type": "stream",
       "stream": "stderr",
       "text": [
        "/Library/Python/2.7/site-packages/scipy-0.13.0.dev_c31f167_20130514-py2.7-macosx-10.8-intel.egg/scipy/optimize/zeros.py:149: RuntimeWarning: Tolerance of -1.34046386524e+15 reached\n",
        "  warnings.warn(msg, RuntimeWarning)\n",
        "WARNING:sarpy.io.BRUKERIO:NSLICES not equal to number of ACQ_obj_order\n"
       ]
      },
      {
       "output_type": "stream",
       "stream": "stderr",
       "text": [
        "/Library/Python/2.7/site-packages/scipy-0.13.0.dev_c31f167_20130514-py2.7-macosx-10.8-intel.egg/scipy/optimize/zeros.py:149: RuntimeWarning: Tolerance of 3.55143171776e+15 reached\n",
        "  warnings.warn(msg, RuntimeWarning)\n",
        "/Library/Python/2.7/site-packages/scipy-0.13.0.dev_c31f167_20130514-py2.7-macosx-10.8-intel.egg/scipy/optimize/zeros.py:149: RuntimeWarning: Tolerance of -2.42932164164e+15 reached\n",
        "  warnings.warn(msg, RuntimeWarning)\n"
       ]
      },
      {
       "output_type": "stream",
       "stream": "stderr",
       "text": [
        "/Library/Python/2.7/site-packages/scipy-0.13.0.dev_c31f167_20130514-py2.7-macosx-10.8-intel.egg/scipy/optimize/zeros.py:149: RuntimeWarning: Tolerance of 1.00335387388e+15 reached\n",
        "  warnings.warn(msg, RuntimeWarning)\n",
        "/Library/Python/2.7/site-packages/scipy-0.13.0.dev_c31f167_20130514-py2.7-macosx-10.8-intel.egg/scipy/optimize/zeros.py:149: RuntimeWarning: Tolerance of -299342108832.0 reached\n",
        "  warnings.warn(msg, RuntimeWarning)\n"
       ]
      },
      {
       "output_type": "stream",
       "stream": "stderr",
       "text": [
        "/Library/Python/2.7/site-packages/scipy-0.13.0.dev_c31f167_20130514-py2.7-macosx-10.8-intel.egg/scipy/optimize/zeros.py:149: RuntimeWarning: Tolerance of -1.58053136297e+14 reached\n",
        "  warnings.warn(msg, RuntimeWarning)\n",
        "/Library/Python/2.7/site-packages/scipy-0.13.0.dev_c31f167_20130514-py2.7-macosx-10.8-intel.egg/scipy/optimize/zeros.py:149: RuntimeWarning: Tolerance of 4.84690264382e+15 reached\n",
        "  warnings.warn(msg, RuntimeWarning)\n"
       ]
      },
      {
       "output_type": "stream",
       "stream": "stderr",
       "text": [
        "/Library/Python/2.7/site-packages/scipy-0.13.0.dev_c31f167_20130514-py2.7-macosx-10.8-intel.egg/scipy/optimize/zeros.py:149: RuntimeWarning: Tolerance of -6.29712737994e+14 reached\n",
        "  warnings.warn(msg, RuntimeWarning)\n",
        "/Library/Python/2.7/site-packages/scipy-0.13.0.dev_c31f167_20130514-py2.7-macosx-10.8-intel.egg/scipy/optimize/zeros.py:149: RuntimeWarning: Tolerance of 8.47100854942e+12 reached\n",
        "  warnings.warn(msg, RuntimeWarning)\n"
       ]
      },
      {
       "output_type": "stream",
       "stream": "stderr",
       "text": [
        "/Library/Python/2.7/site-packages/scipy-0.13.0.dev_c31f167_20130514-py2.7-macosx-10.8-intel.egg/scipy/optimize/zeros.py:149: RuntimeWarning: Tolerance of -2.25465248279e+14 reached\n",
        "  warnings.warn(msg, RuntimeWarning)\n",
        "/Library/Python/2.7/site-packages/scipy-0.13.0.dev_c31f167_20130514-py2.7-macosx-10.8-intel.egg/scipy/optimize/zeros.py:149: RuntimeWarning: Tolerance of -2.53815460418e+14 reached\n",
        "  warnings.warn(msg, RuntimeWarning)\n"
       ]
      },
      {
       "output_type": "stream",
       "stream": "stderr",
       "text": [
        "/Library/Python/2.7/site-packages/scipy-0.13.0.dev_c31f167_20130514-py2.7-macosx-10.8-intel.egg/scipy/optimize/zeros.py:149: RuntimeWarning: Tolerance of -4.97807949583e+14 reached\n",
        "  warnings.warn(msg, RuntimeWarning)\n",
        "/Library/Python/2.7/site-packages/scipy-0.13.0.dev_c31f167_20130514-py2.7-macosx-10.8-intel.egg/scipy/optimize/zeros.py:149: RuntimeWarning: Tolerance of 3.08805673968e+14 reached\n",
        "  warnings.warn(msg, RuntimeWarning)\n"
       ]
      },
      {
       "output_type": "stream",
       "stream": "stderr",
       "text": [
        "/Library/Python/2.7/site-packages/scipy-0.13.0.dev_c31f167_20130514-py2.7-macosx-10.8-intel.egg/scipy/optimize/zeros.py:149: RuntimeWarning: Tolerance of -1.21231591251e+15 reached\n",
        "  warnings.warn(msg, RuntimeWarning)\n",
        "/Library/Python/2.7/site-packages/scipy-0.13.0.dev_c31f167_20130514-py2.7-macosx-10.8-intel.egg/scipy/optimize/zeros.py:149: RuntimeWarning: Tolerance of -8.43333437462e+14 reached\n",
        "  warnings.warn(msg, RuntimeWarning)\n"
       ]
      },
      {
       "output_type": "stream",
       "stream": "stderr",
       "text": [
        "/Library/Python/2.7/site-packages/scipy-0.13.0.dev_c31f167_20130514-py2.7-macosx-10.8-intel.egg/scipy/optimize/zeros.py:149: RuntimeWarning: Tolerance of -3.699494589e+13 reached\n",
        "  warnings.warn(msg, RuntimeWarning)\n",
        "/Library/Python/2.7/site-packages/scipy-0.13.0.dev_c31f167_20130514-py2.7-macosx-10.8-intel.egg/scipy/optimize/zeros.py:149: RuntimeWarning: Tolerance of 1.33933084677e+16 reached\n",
        "  warnings.warn(msg, RuntimeWarning)\n"
       ]
      },
      {
       "output_type": "stream",
       "stream": "stderr",
       "text": [
        "/Library/Python/2.7/site-packages/scipy-0.13.0.dev_c31f167_20130514-py2.7-macosx-10.8-intel.egg/scipy/optimize/zeros.py:149: RuntimeWarning: Tolerance of -1.00366238832e+14 reached\n",
        "  warnings.warn(msg, RuntimeWarning)\n",
        "/Library/Python/2.7/site-packages/scipy-0.13.0.dev_c31f167_20130514-py2.7-macosx-10.8-intel.egg/scipy/optimize/zeros.py:149: RuntimeWarning: Tolerance of -647489816440.0 reached\n",
        "  warnings.warn(msg, RuntimeWarning)\n"
       ]
      },
      {
       "output_type": "stream",
       "stream": "stderr",
       "text": [
        "/Library/Python/2.7/site-packages/scipy-0.13.0.dev_c31f167_20130514-py2.7-macosx-10.8-intel.egg/scipy/optimize/zeros.py:149: RuntimeWarning: Tolerance of -3.25296595236e+13 reached\n",
        "  warnings.warn(msg, RuntimeWarning)\n",
        "/Library/Python/2.7/site-packages/scipy-0.13.0.dev_c31f167_20130514-py2.7-macosx-10.8-intel.egg/scipy/optimize/zeros.py:149: RuntimeWarning: Tolerance of 9.32557739896e+14 reached\n",
        "  warnings.warn(msg, RuntimeWarning)\n"
       ]
      },
      {
       "output_type": "stream",
       "stream": "stderr",
       "text": [
        "/Library/Python/2.7/site-packages/scipy-0.13.0.dev_c31f167_20130514-py2.7-macosx-10.8-intel.egg/scipy/optimize/zeros.py:149: RuntimeWarning: Tolerance of 3.38677038314e+15 reached\n",
        "  warnings.warn(msg, RuntimeWarning)\n",
        "/Library/Python/2.7/site-packages/scipy-0.13.0.dev_c31f167_20130514-py2.7-macosx-10.8-intel.egg/scipy/optimize/zeros.py:149: RuntimeWarning: Tolerance of -1.59662523309e+16 reached\n",
        "  warnings.warn(msg, RuntimeWarning)\n"
       ]
      },
      {
       "output_type": "stream",
       "stream": "stderr",
       "text": [
        "/Library/Python/2.7/site-packages/scipy-0.13.0.dev_c31f167_20130514-py2.7-macosx-10.8-intel.egg/scipy/optimize/zeros.py:149: RuntimeWarning: Tolerance of 2.98193798362e+12 reached\n",
        "  warnings.warn(msg, RuntimeWarning)\n",
        "/Library/Python/2.7/site-packages/scipy-0.13.0.dev_c31f167_20130514-py2.7-macosx-10.8-intel.egg/scipy/optimize/zeros.py:149: RuntimeWarning: Tolerance of -2.14589516246e+14 reached\n",
        "  warnings.warn(msg, RuntimeWarning)\n"
       ]
      },
      {
       "output_type": "stream",
       "stream": "stderr",
       "text": [
        "/Library/Python/2.7/site-packages/scipy-0.13.0.dev_c31f167_20130514-py2.7-macosx-10.8-intel.egg/scipy/optimize/zeros.py:149: RuntimeWarning: Tolerance of 1.44852827125e+15 reached\n",
        "  warnings.warn(msg, RuntimeWarning)\n",
        "/Library/Python/2.7/site-packages/scipy-0.13.0.dev_c31f167_20130514-py2.7-macosx-10.8-intel.egg/scipy/optimize/zeros.py:149: RuntimeWarning: Tolerance of -2.29328005349e+15 reached\n",
        "  warnings.warn(msg, RuntimeWarning)\n"
       ]
      },
      {
       "output_type": "stream",
       "stream": "stderr",
       "text": [
        "/Library/Python/2.7/site-packages/scipy-0.13.0.dev_c31f167_20130514-py2.7-macosx-10.8-intel.egg/scipy/optimize/zeros.py:149: RuntimeWarning: Tolerance of 1.26025891978e+15 reached\n",
        "  warnings.warn(msg, RuntimeWarning)\n",
        "/Library/Python/2.7/site-packages/scipy-0.13.0.dev_c31f167_20130514-py2.7-macosx-10.8-intel.egg/scipy/optimize/zeros.py:149: RuntimeWarning: Tolerance of -1.28584057305e+12 reached\n",
        "  warnings.warn(msg, RuntimeWarning)\n"
       ]
      },
      {
       "output_type": "stream",
       "stream": "stderr",
       "text": [
        "/Library/Python/2.7/site-packages/scipy-0.13.0.dev_c31f167_20130514-py2.7-macosx-10.8-intel.egg/scipy/optimize/zeros.py:149: RuntimeWarning: Tolerance of 1.08304280583e+16 reached\n",
        "  warnings.warn(msg, RuntimeWarning)\n",
        "/Library/Python/2.7/site-packages/scipy-0.13.0.dev_c31f167_20130514-py2.7-macosx-10.8-intel.egg/scipy/optimize/zeros.py:149: RuntimeWarning: Tolerance of -3.81520894354e+12 reached\n",
        "  warnings.warn(msg, RuntimeWarning)\n"
       ]
      },
      {
       "output_type": "stream",
       "stream": "stderr",
       "text": [
        "/Library/Python/2.7/site-packages/scipy-0.13.0.dev_c31f167_20130514-py2.7-macosx-10.8-intel.egg/scipy/optimize/zeros.py:149: RuntimeWarning: Tolerance of 9.71765101519e+14 reached\n",
        "  warnings.warn(msg, RuntimeWarning)\n",
        "/Library/Python/2.7/site-packages/scipy-0.13.0.dev_c31f167_20130514-py2.7-macosx-10.8-intel.egg/scipy/optimize/zeros.py:149: RuntimeWarning: Tolerance of -4.34926295415e+16 reached\n",
        "  warnings.warn(msg, RuntimeWarning)\n"
       ]
      },
      {
       "output_type": "stream",
       "stream": "stderr",
       "text": [
        "/Library/Python/2.7/site-packages/scipy-0.13.0.dev_c31f167_20130514-py2.7-macosx-10.8-intel.egg/scipy/optimize/zeros.py:149: RuntimeWarning: Tolerance of 3.05777132342e+13 reached\n",
        "  warnings.warn(msg, RuntimeWarning)\n",
        "/Library/Python/2.7/site-packages/scipy-0.13.0.dev_c31f167_20130514-py2.7-macosx-10.8-intel.egg/scipy/optimize/zeros.py:149: RuntimeWarning: Tolerance of 5.66500953702e+13 reached\n",
        "  warnings.warn(msg, RuntimeWarning)\n"
       ]
      },
      {
       "output_type": "stream",
       "stream": "stderr",
       "text": [
        "/Library/Python/2.7/site-packages/scipy-0.13.0.dev_c31f167_20130514-py2.7-macosx-10.8-intel.egg/scipy/optimize/zeros.py:149: RuntimeWarning: Tolerance of 2.1114979173e+15 reached\n",
        "  warnings.warn(msg, RuntimeWarning)\n",
        "/Library/Python/2.7/site-packages/scipy-0.13.0.dev_c31f167_20130514-py2.7-macosx-10.8-intel.egg/scipy/optimize/zeros.py:149: RuntimeWarning: Tolerance of -9.47535471124e+13 reached\n",
        "  warnings.warn(msg, RuntimeWarning)\n"
       ]
      },
      {
       "output_type": "stream",
       "stream": "stderr",
       "text": [
        "/Library/Python/2.7/site-packages/scipy-0.13.0.dev_c31f167_20130514-py2.7-macosx-10.8-intel.egg/scipy/optimize/zeros.py:149: RuntimeWarning: Tolerance of 1.03036176799e+15 reached\n",
        "  warnings.warn(msg, RuntimeWarning)\n",
        "/Library/Python/2.7/site-packages/scipy-0.13.0.dev_c31f167_20130514-py2.7-macosx-10.8-intel.egg/scipy/optimize/zeros.py:149: RuntimeWarning: Tolerance of -4.59428985663e+15 reached\n",
        "  warnings.warn(msg, RuntimeWarning)\n"
       ]
      },
      {
       "output_type": "stream",
       "stream": "stderr",
       "text": [
        "/Library/Python/2.7/site-packages/scipy-0.13.0.dev_c31f167_20130514-py2.7-macosx-10.8-intel.egg/scipy/optimize/zeros.py:149: RuntimeWarning: Tolerance of -3.5396581049e+15 reached\n",
        "  warnings.warn(msg, RuntimeWarning)\n",
        "/Library/Python/2.7/site-packages/scipy-0.13.0.dev_c31f167_20130514-py2.7-macosx-10.8-intel.egg/scipy/optimize/zeros.py:149: RuntimeWarning: Tolerance of -2.16416429229e+14 reached\n",
        "  warnings.warn(msg, RuntimeWarning)\n"
       ]
      },
      {
       "output_type": "stream",
       "stream": "stdout",
       "text": [
        "\n",
        "deleting item T1map_LL"
       ]
      },
      {
       "output_type": "stream",
       "stream": "stdout",
       "text": [
        "\n",
        "deleting item T1map_LL_fitdict"
       ]
      },
      {
       "output_type": "stream",
       "stream": "stderr",
       "text": [
        "/Library/Python/2.7/site-packages/scipy-0.13.0.dev_c31f167_20130514-py2.7-macosx-10.8-intel.egg/scipy/optimize/zeros.py:149: RuntimeWarning: Tolerance of 2.10633536947e+15 reached\n",
        "  warnings.warn(msg, RuntimeWarning)\n",
        "WARNING:sarpy.io.BRUKERIO:NSLICES not equal to number of ACQ_obj_order\n"
       ]
      },
      {
       "output_type": "stream",
       "stream": "stderr",
       "text": [
        "/Library/Python/2.7/site-packages/scipy-0.13.0.dev_c31f167_20130514-py2.7-macosx-10.8-intel.egg/scipy/optimize/zeros.py:149: RuntimeWarning: Tolerance of -4.08193689969e+14 reached\n",
        "  warnings.warn(msg, RuntimeWarning)\n",
        "/Library/Python/2.7/site-packages/scipy-0.13.0.dev_c31f167_20130514-py2.7-macosx-10.8-intel.egg/scipy/optimize/zeros.py:149: RuntimeWarning: Tolerance of -2.60608926714e+15 reached\n",
        "  warnings.warn(msg, RuntimeWarning)\n"
       ]
      },
      {
       "output_type": "stream",
       "stream": "stderr",
       "text": [
        "/Library/Python/2.7/site-packages/scipy-0.13.0.dev_c31f167_20130514-py2.7-macosx-10.8-intel.egg/scipy/optimize/zeros.py:149: RuntimeWarning: Tolerance of -487780031084.0 reached\n",
        "  warnings.warn(msg, RuntimeWarning)\n",
        "/Library/Python/2.7/site-packages/scipy-0.13.0.dev_c31f167_20130514-py2.7-macosx-10.8-intel.egg/scipy/optimize/zeros.py:149: RuntimeWarning: Tolerance of 3.87129238693e+15 reached\n",
        "  warnings.warn(msg, RuntimeWarning)\n"
       ]
      },
      {
       "output_type": "stream",
       "stream": "stderr",
       "text": [
        "/Library/Python/2.7/site-packages/scipy-0.13.0.dev_c31f167_20130514-py2.7-macosx-10.8-intel.egg/scipy/optimize/zeros.py:149: RuntimeWarning: Tolerance of -7.45273173426e+15 reached\n",
        "  warnings.warn(msg, RuntimeWarning)\n",
        "/Library/Python/2.7/site-packages/scipy-0.13.0.dev_c31f167_20130514-py2.7-macosx-10.8-intel.egg/scipy/optimize/zeros.py:149: RuntimeWarning: Tolerance of -3.05491231017e+13 reached\n",
        "  warnings.warn(msg, RuntimeWarning)\n"
       ]
      },
      {
       "output_type": "stream",
       "stream": "stderr",
       "text": [
        "/Library/Python/2.7/site-packages/scipy-0.13.0.dev_c31f167_20130514-py2.7-macosx-10.8-intel.egg/scipy/optimize/zeros.py:149: RuntimeWarning: Tolerance of 2.02236867323e+15 reached\n",
        "  warnings.warn(msg, RuntimeWarning)\n",
        "/Library/Python/2.7/site-packages/scipy-0.13.0.dev_c31f167_20130514-py2.7-macosx-10.8-intel.egg/scipy/optimize/zeros.py:149: RuntimeWarning: Tolerance of -3.023651355e+14 reached\n",
        "  warnings.warn(msg, RuntimeWarning)\n"
       ]
      },
      {
       "output_type": "stream",
       "stream": "stderr",
       "text": [
        "/Library/Python/2.7/site-packages/scipy-0.13.0.dev_c31f167_20130514-py2.7-macosx-10.8-intel.egg/scipy/optimize/zeros.py:149: RuntimeWarning: Tolerance of -7.44541725512e+14 reached\n",
        "  warnings.warn(msg, RuntimeWarning)\n",
        "/Library/Python/2.7/site-packages/scipy-0.13.0.dev_c31f167_20130514-py2.7-macosx-10.8-intel.egg/scipy/optimize/zeros.py:149: RuntimeWarning: Tolerance of -1.19453800494e+16 reached\n",
        "  warnings.warn(msg, RuntimeWarning)\n"
       ]
      },
      {
       "output_type": "stream",
       "stream": "stdout",
       "text": [
        "\n",
        "deleting item T1map_LL"
       ]
      },
      {
       "output_type": "stream",
       "stream": "stdout",
       "text": [
        "\n",
        "deleting item T1map_LL_fitdict"
       ]
      },
      {
       "output_type": "stream",
       "stream": "stderr",
       "text": [
        "/Library/Python/2.7/site-packages/scipy-0.13.0.dev_c31f167_20130514-py2.7-macosx-10.8-intel.egg/scipy/optimize/zeros.py:149: RuntimeWarning: Tolerance of 1.10465264072e+14 reached\n",
        "  warnings.warn(msg, RuntimeWarning)\n",
        "WARNING:sarpy.io.BRUKERIO:NSLICES not equal to number of ACQ_obj_order\n"
       ]
      },
      {
       "output_type": "stream",
       "stream": "stderr",
       "text": [
        "/Library/Python/2.7/site-packages/scipy-0.13.0.dev_c31f167_20130514-py2.7-macosx-10.8-intel.egg/scipy/optimize/zeros.py:149: RuntimeWarning: Tolerance of -7.47136313994e+14 reached\n",
        "  warnings.warn(msg, RuntimeWarning)\n",
        "/Library/Python/2.7/site-packages/scipy-0.13.0.dev_c31f167_20130514-py2.7-macosx-10.8-intel.egg/scipy/optimize/zeros.py:149: RuntimeWarning: Tolerance of -3.18733618462e+16 reached\n",
        "  warnings.warn(msg, RuntimeWarning)\n"
       ]
      },
      {
       "output_type": "stream",
       "stream": "stderr",
       "text": [
        "/Library/Python/2.7/site-packages/scipy-0.13.0.dev_c31f167_20130514-py2.7-macosx-10.8-intel.egg/scipy/optimize/zeros.py:149: RuntimeWarning: Tolerance of 1.11586032444e+15 reached\n",
        "  warnings.warn(msg, RuntimeWarning)\n",
        "/Library/Python/2.7/site-packages/scipy-0.13.0.dev_c31f167_20130514-py2.7-macosx-10.8-intel.egg/scipy/optimize/zeros.py:149: RuntimeWarning: Tolerance of 1.88602283061e+15 reached\n",
        "  warnings.warn(msg, RuntimeWarning)\n"
       ]
      },
      {
       "output_type": "stream",
       "stream": "stderr",
       "text": [
        "/Library/Python/2.7/site-packages/scipy-0.13.0.dev_c31f167_20130514-py2.7-macosx-10.8-intel.egg/scipy/optimize/zeros.py:149: RuntimeWarning: Tolerance of -3.65475285475e+15 reached\n",
        "  warnings.warn(msg, RuntimeWarning)\n",
        "/Library/Python/2.7/site-packages/scipy-0.13.0.dev_c31f167_20130514-py2.7-macosx-10.8-intel.egg/scipy/optimize/zeros.py:149: RuntimeWarning: Tolerance of 3.05085104096e+15 reached\n",
        "  warnings.warn(msg, RuntimeWarning)\n"
       ]
      },
      {
       "output_type": "stream",
       "stream": "stderr",
       "text": [
        "/Library/Python/2.7/site-packages/scipy-0.13.0.dev_c31f167_20130514-py2.7-macosx-10.8-intel.egg/scipy/optimize/zeros.py:149: RuntimeWarning: Tolerance of -6.23094738692e+15 reached\n",
        "  warnings.warn(msg, RuntimeWarning)\n",
        "/Library/Python/2.7/site-packages/scipy-0.13.0.dev_c31f167_20130514-py2.7-macosx-10.8-intel.egg/scipy/optimize/zeros.py:149: RuntimeWarning: Tolerance of 3.51080361465e+14 reached\n",
        "  warnings.warn(msg, RuntimeWarning)\n"
       ]
      },
      {
       "output_type": "stream",
       "stream": "stderr",
       "text": [
        "/Library/Python/2.7/site-packages/scipy-0.13.0.dev_c31f167_20130514-py2.7-macosx-10.8-intel.egg/scipy/optimize/zeros.py:149: RuntimeWarning: Tolerance of 2.11089433813e+15 reached\n",
        "  warnings.warn(msg, RuntimeWarning)\n",
        "/Library/Python/2.7/site-packages/scipy-0.13.0.dev_c31f167_20130514-py2.7-macosx-10.8-intel.egg/scipy/optimize/zeros.py:149: RuntimeWarning: Tolerance of 5.712116555e+13 reached\n",
        "  warnings.warn(msg, RuntimeWarning)\n"
       ]
      },
      {
       "output_type": "stream",
       "stream": "stderr",
       "text": [
        "/Library/Python/2.7/site-packages/scipy-0.13.0.dev_c31f167_20130514-py2.7-macosx-10.8-intel.egg/scipy/optimize/zeros.py:149: RuntimeWarning: Tolerance of -6.76091260975e+13 reached\n",
        "  warnings.warn(msg, RuntimeWarning)\n",
        "/Library/Python/2.7/site-packages/scipy-0.13.0.dev_c31f167_20130514-py2.7-macosx-10.8-intel.egg/scipy/optimize/zeros.py:149: RuntimeWarning: Tolerance of 2.43862029606e+13 reached\n",
        "  warnings.warn(msg, RuntimeWarning)\n"
       ]
      },
      {
       "output_type": "stream",
       "stream": "stderr",
       "text": [
        "/Library/Python/2.7/site-packages/scipy-0.13.0.dev_c31f167_20130514-py2.7-macosx-10.8-intel.egg/scipy/optimize/zeros.py:149: RuntimeWarning: Tolerance of -7.9827537395e+13 reached\n",
        "  warnings.warn(msg, RuntimeWarning)\n",
        "/Library/Python/2.7/site-packages/scipy-0.13.0.dev_c31f167_20130514-py2.7-macosx-10.8-intel.egg/scipy/optimize/zeros.py:149: RuntimeWarning: Tolerance of 6.38151904483e+15 reached\n",
        "  warnings.warn(msg, RuntimeWarning)\n"
       ]
      },
      {
       "output_type": "stream",
       "stream": "stderr",
       "text": [
        "/Library/Python/2.7/site-packages/scipy-0.13.0.dev_c31f167_20130514-py2.7-macosx-10.8-intel.egg/scipy/optimize/zeros.py:149: RuntimeWarning: Tolerance of -4.3434331829e+12 reached\n",
        "  warnings.warn(msg, RuntimeWarning)\n",
        "/Library/Python/2.7/site-packages/scipy-0.13.0.dev_c31f167_20130514-py2.7-macosx-10.8-intel.egg/scipy/optimize/zeros.py:149: RuntimeWarning: Tolerance of -5.59596914835e+14 reached\n",
        "  warnings.warn(msg, RuntimeWarning)\n"
       ]
      },
      {
       "output_type": "stream",
       "stream": "stderr",
       "text": [
        "/Library/Python/2.7/site-packages/scipy-0.13.0.dev_c31f167_20130514-py2.7-macosx-10.8-intel.egg/scipy/optimize/zeros.py:149: RuntimeWarning: Tolerance of -2.36268796824e+15 reached\n",
        "  warnings.warn(msg, RuntimeWarning)\n",
        "/Library/Python/2.7/site-packages/scipy-0.13.0.dev_c31f167_20130514-py2.7-macosx-10.8-intel.egg/scipy/optimize/zeros.py:149: RuntimeWarning: Tolerance of -8.32841677114e+14 reached\n",
        "  warnings.warn(msg, RuntimeWarning)\n"
       ]
      },
      {
       "output_type": "stream",
       "stream": "stderr",
       "text": [
        "/Library/Python/2.7/site-packages/scipy-0.13.0.dev_c31f167_20130514-py2.7-macosx-10.8-intel.egg/scipy/optimize/zeros.py:149: RuntimeWarning: Tolerance of -1.74982369689e+13 reached\n",
        "  warnings.warn(msg, RuntimeWarning)\n",
        "/Library/Python/2.7/site-packages/scipy-0.13.0.dev_c31f167_20130514-py2.7-macosx-10.8-intel.egg/scipy/optimize/zeros.py:149: RuntimeWarning: Tolerance of 1.02620558281e+13 reached\n",
        "  warnings.warn(msg, RuntimeWarning)\n"
       ]
      },
      {
       "output_type": "stream",
       "stream": "stderr",
       "text": [
        "/Library/Python/2.7/site-packages/scipy-0.13.0.dev_c31f167_20130514-py2.7-macosx-10.8-intel.egg/scipy/optimize/zeros.py:149: RuntimeWarning: Tolerance of -3.90158915326e+13 reached\n",
        "  warnings.warn(msg, RuntimeWarning)\n",
        "/Library/Python/2.7/site-packages/scipy-0.13.0.dev_c31f167_20130514-py2.7-macosx-10.8-intel.egg/scipy/optimize/zeros.py:149: RuntimeWarning: Tolerance of -4.36336641818e+14 reached\n",
        "  warnings.warn(msg, RuntimeWarning)\n"
       ]
      },
      {
       "output_type": "stream",
       "stream": "stderr",
       "text": [
        "/Library/Python/2.7/site-packages/scipy-0.13.0.dev_c31f167_20130514-py2.7-macosx-10.8-intel.egg/scipy/optimize/zeros.py:149: RuntimeWarning: Tolerance of -2.83716234498e+15 reached\n",
        "  warnings.warn(msg, RuntimeWarning)\n",
        "/Library/Python/2.7/site-packages/scipy-0.13.0.dev_c31f167_20130514-py2.7-macosx-10.8-intel.egg/scipy/optimize/zeros.py:149: RuntimeWarning: Tolerance of 5.75041384611e+14 reached\n",
        "  warnings.warn(msg, RuntimeWarning)\n"
       ]
      },
      {
       "output_type": "stream",
       "stream": "stderr",
       "text": [
        "/Library/Python/2.7/site-packages/scipy-0.13.0.dev_c31f167_20130514-py2.7-macosx-10.8-intel.egg/scipy/optimize/zeros.py:149: RuntimeWarning: Tolerance of -4.00813422506e+15 reached\n",
        "  warnings.warn(msg, RuntimeWarning)\n",
        "/Library/Python/2.7/site-packages/scipy-0.13.0.dev_c31f167_20130514-py2.7-macosx-10.8-intel.egg/scipy/optimize/zeros.py:149: RuntimeWarning: Tolerance of 7.07753531245e+13 reached\n",
        "  warnings.warn(msg, RuntimeWarning)\n"
       ]
      },
      {
       "output_type": "stream",
       "stream": "stdout",
       "text": [
        "\n",
        "deleting item T1map_LL"
       ]
      },
      {
       "output_type": "stream",
       "stream": "stdout",
       "text": [
        "\n",
        "deleting item T1map_LL_fitdict"
       ]
      },
      {
       "output_type": "stream",
       "stream": "stderr",
       "text": [
        "WARNING:sarpy.io.BRUKERIO:NSLICES not equal to number of ACQ_obj_order\n"
       ]
      },
      {
       "output_type": "stream",
       "stream": "stderr",
       "text": [
        "/Library/Python/2.7/site-packages/scipy-0.13.0.dev_c31f167_20130514-py2.7-macosx-10.8-intel.egg/scipy/optimize/zeros.py:149: RuntimeWarning: Tolerance of -3.38730190338e+13 reached\n",
        "  warnings.warn(msg, RuntimeWarning)\n",
        "/Library/Python/2.7/site-packages/scipy-0.13.0.dev_c31f167_20130514-py2.7-macosx-10.8-intel.egg/scipy/optimize/zeros.py:149: RuntimeWarning: Tolerance of 3.01674302639e+15 reached\n",
        "  warnings.warn(msg, RuntimeWarning)\n"
       ]
      },
      {
       "output_type": "stream",
       "stream": "stderr",
       "text": [
        "/Library/Python/2.7/site-packages/scipy-0.13.0.dev_c31f167_20130514-py2.7-macosx-10.8-intel.egg/scipy/optimize/zeros.py:149: RuntimeWarning: Tolerance of 8.1389801345e+13 reached\n",
        "  warnings.warn(msg, RuntimeWarning)\n",
        "/Library/Python/2.7/site-packages/scipy-0.13.0.dev_c31f167_20130514-py2.7-macosx-10.8-intel.egg/scipy/optimize/zeros.py:149: RuntimeWarning: Tolerance of 9.72249902206e+14 reached\n",
        "  warnings.warn(msg, RuntimeWarning)\n"
       ]
      },
      {
       "output_type": "stream",
       "stream": "stderr",
       "text": [
        "/Library/Python/2.7/site-packages/scipy-0.13.0.dev_c31f167_20130514-py2.7-macosx-10.8-intel.egg/scipy/optimize/zeros.py:149: RuntimeWarning: Tolerance of -4.42871390087e+14 reached\n",
        "  warnings.warn(msg, RuntimeWarning)\n",
        "/Library/Python/2.7/site-packages/scipy-0.13.0.dev_c31f167_20130514-py2.7-macosx-10.8-intel.egg/scipy/optimize/zeros.py:149: RuntimeWarning: Tolerance of 1.5596205046e+14 reached\n",
        "  warnings.warn(msg, RuntimeWarning)\n"
       ]
      },
      {
       "output_type": "stream",
       "stream": "stderr",
       "text": [
        "/Library/Python/2.7/site-packages/scipy-0.13.0.dev_c31f167_20130514-py2.7-macosx-10.8-intel.egg/scipy/optimize/zeros.py:149: RuntimeWarning: Tolerance of -1.54137602969e+13 reached\n",
        "  warnings.warn(msg, RuntimeWarning)\n",
        "/Library/Python/2.7/site-packages/scipy-0.13.0.dev_c31f167_20130514-py2.7-macosx-10.8-intel.egg/scipy/optimize/zeros.py:149: RuntimeWarning: Tolerance of -127354202284.0 reached\n",
        "  warnings.warn(msg, RuntimeWarning)\n"
       ]
      },
      {
       "output_type": "stream",
       "stream": "stderr",
       "text": [
        "/Library/Python/2.7/site-packages/scipy-0.13.0.dev_c31f167_20130514-py2.7-macosx-10.8-intel.egg/scipy/optimize/zeros.py:149: RuntimeWarning: Tolerance of -4.28064028439e+14 reached\n",
        "  warnings.warn(msg, RuntimeWarning)\n",
        "/Library/Python/2.7/site-packages/scipy-0.13.0.dev_c31f167_20130514-py2.7-macosx-10.8-intel.egg/scipy/optimize/zeros.py:149: RuntimeWarning: Tolerance of 2.65650812736e+14 reached\n",
        "  warnings.warn(msg, RuntimeWarning)\n"
       ]
      },
      {
       "output_type": "stream",
       "stream": "stderr",
       "text": [
        "/Library/Python/2.7/site-packages/scipy-0.13.0.dev_c31f167_20130514-py2.7-macosx-10.8-intel.egg/scipy/optimize/zeros.py:149: RuntimeWarning: Tolerance of -3.69618911057e+15 reached\n",
        "  warnings.warn(msg, RuntimeWarning)\n",
        "/Library/Python/2.7/site-packages/scipy-0.13.0.dev_c31f167_20130514-py2.7-macosx-10.8-intel.egg/scipy/optimize/zeros.py:149: RuntimeWarning: Tolerance of -2.49356515648e+15 reached\n",
        "  warnings.warn(msg, RuntimeWarning)\n"
       ]
      },
      {
       "output_type": "stream",
       "stream": "stderr",
       "text": [
        "/Library/Python/2.7/site-packages/scipy-0.13.0.dev_c31f167_20130514-py2.7-macosx-10.8-intel.egg/scipy/optimize/zeros.py:149: RuntimeWarning: Tolerance of 6.05936903744e+14 reached\n",
        "  warnings.warn(msg, RuntimeWarning)\n",
        "/Library/Python/2.7/site-packages/scipy-0.13.0.dev_c31f167_20130514-py2.7-macosx-10.8-intel.egg/scipy/optimize/zeros.py:149: RuntimeWarning: Tolerance of 6.39353063192e+14 reached\n",
        "  warnings.warn(msg, RuntimeWarning)\n"
       ]
      },
      {
       "output_type": "stream",
       "stream": "stdout",
       "text": [
        "\n",
        "deleting item T1map_LL"
       ]
      },
      {
       "output_type": "stream",
       "stream": "stdout",
       "text": [
        "\n",
        "deleting item T1map_LL_fitdict"
       ]
      },
      {
       "output_type": "stream",
       "stream": "stderr",
       "text": [
        "WARNING:sarpy.io.BRUKERIO:NSLICES not equal to number of ACQ_obj_order\n"
       ]
      },
      {
       "output_type": "stream",
       "stream": "stderr",
       "text": [
        "/Library/Python/2.7/site-packages/scipy-0.13.0.dev_c31f167_20130514-py2.7-macosx-10.8-intel.egg/scipy/optimize/zeros.py:149: RuntimeWarning: Tolerance of 8.03578787829e+13 reached\n",
        "  warnings.warn(msg, RuntimeWarning)\n",
        "/Library/Python/2.7/site-packages/scipy-0.13.0.dev_c31f167_20130514-py2.7-macosx-10.8-intel.egg/scipy/optimize/zeros.py:149: RuntimeWarning: Tolerance of 5.71640158275e+13 reached\n",
        "  warnings.warn(msg, RuntimeWarning)\n"
       ]
      },
      {
       "output_type": "stream",
       "stream": "stderr",
       "text": [
        "/Library/Python/2.7/site-packages/scipy-0.13.0.dev_c31f167_20130514-py2.7-macosx-10.8-intel.egg/scipy/optimize/zeros.py:149: RuntimeWarning: Tolerance of 2.78459408297e+13 reached\n",
        "  warnings.warn(msg, RuntimeWarning)\n",
        "/Library/Python/2.7/site-packages/scipy-0.13.0.dev_c31f167_20130514-py2.7-macosx-10.8-intel.egg/scipy/optimize/zeros.py:149: RuntimeWarning: Tolerance of 4.16993701804e+14 reached\n",
        "  warnings.warn(msg, RuntimeWarning)\n"
       ]
      },
      {
       "output_type": "stream",
       "stream": "stderr",
       "text": [
        "/Library/Python/2.7/site-packages/scipy-0.13.0.dev_c31f167_20130514-py2.7-macosx-10.8-intel.egg/scipy/optimize/zeros.py:149: RuntimeWarning: Tolerance of 8.05455533637e+15 reached\n",
        "  warnings.warn(msg, RuntimeWarning)\n",
        "/Library/Python/2.7/site-packages/scipy-0.13.0.dev_c31f167_20130514-py2.7-macosx-10.8-intel.egg/scipy/optimize/zeros.py:149: RuntimeWarning: Tolerance of 2.80216736345e+15 reached\n",
        "  warnings.warn(msg, RuntimeWarning)\n"
       ]
      },
      {
       "output_type": "stream",
       "stream": "stderr",
       "text": [
        "/Library/Python/2.7/site-packages/scipy-0.13.0.dev_c31f167_20130514-py2.7-macosx-10.8-intel.egg/scipy/optimize/zeros.py:149: RuntimeWarning: Tolerance of 2.88134999017e+15 reached\n",
        "  warnings.warn(msg, RuntimeWarning)\n",
        "/Library/Python/2.7/site-packages/scipy-0.13.0.dev_c31f167_20130514-py2.7-macosx-10.8-intel.egg/scipy/optimize/zeros.py:149: RuntimeWarning: Tolerance of 1.32250315718e+14 reached\n",
        "  warnings.warn(msg, RuntimeWarning)\n"
       ]
      },
      {
       "output_type": "stream",
       "stream": "stderr",
       "text": [
        "/Library/Python/2.7/site-packages/scipy-0.13.0.dev_c31f167_20130514-py2.7-macosx-10.8-intel.egg/scipy/optimize/zeros.py:149: RuntimeWarning: Tolerance of -8.63842726786e+15 reached\n",
        "  warnings.warn(msg, RuntimeWarning)\n",
        "/Library/Python/2.7/site-packages/scipy-0.13.0.dev_c31f167_20130514-py2.7-macosx-10.8-intel.egg/scipy/optimize/zeros.py:149: RuntimeWarning: Tolerance of 1.06205257444e+15 reached\n",
        "  warnings.warn(msg, RuntimeWarning)\n"
       ]
      },
      {
       "output_type": "stream",
       "stream": "stderr",
       "text": [
        "/Library/Python/2.7/site-packages/scipy-0.13.0.dev_c31f167_20130514-py2.7-macosx-10.8-intel.egg/scipy/optimize/zeros.py:149: RuntimeWarning: Tolerance of 4.44480454745e+16 reached\n",
        "  warnings.warn(msg, RuntimeWarning)\n",
        "/Library/Python/2.7/site-packages/scipy-0.13.0.dev_c31f167_20130514-py2.7-macosx-10.8-intel.egg/scipy/optimize/zeros.py:149: RuntimeWarning: Tolerance of -125644436088.0 reached\n",
        "  warnings.warn(msg, RuntimeWarning)\n"
       ]
      },
      {
       "output_type": "stream",
       "stream": "stderr",
       "text": [
        "/Library/Python/2.7/site-packages/scipy-0.13.0.dev_c31f167_20130514-py2.7-macosx-10.8-intel.egg/scipy/optimize/zeros.py:149: RuntimeWarning: Tolerance of -9.18603355947e+15 reached\n",
        "  warnings.warn(msg, RuntimeWarning)\n",
        "/Library/Python/2.7/site-packages/scipy-0.13.0.dev_c31f167_20130514-py2.7-macosx-10.8-intel.egg/scipy/optimize/zeros.py:149: RuntimeWarning: Tolerance of 3.27039874667e+12 reached\n",
        "  warnings.warn(msg, RuntimeWarning)\n"
       ]
      },
      {
       "output_type": "stream",
       "stream": "stdout",
       "text": [
        "\n",
        "deleting item T1map_LL"
       ]
      },
      {
       "output_type": "stream",
       "stream": "stdout",
       "text": [
        "\n",
        "deleting item T1map_LL_fitdict"
       ]
      },
      {
       "output_type": "stream",
       "stream": "stderr",
       "text": [
        "/Library/Python/2.7/site-packages/scipy-0.13.0.dev_c31f167_20130514-py2.7-macosx-10.8-intel.egg/scipy/optimize/zeros.py:149: RuntimeWarning: Tolerance of 1.85678505755e+16 reached\n",
        "  warnings.warn(msg, RuntimeWarning)\n",
        "WARNING:sarpy.io.BRUKERIO:NSLICES not equal to number of ACQ_obj_order\n"
       ]
      },
      {
       "output_type": "stream",
       "stream": "stderr",
       "text": [
        "/Library/Python/2.7/site-packages/scipy-0.13.0.dev_c31f167_20130514-py2.7-macosx-10.8-intel.egg/scipy/optimize/zeros.py:149: RuntimeWarning: Tolerance of 2.41150444395e+16 reached\n",
        "  warnings.warn(msg, RuntimeWarning)\n",
        "/Library/Python/2.7/site-packages/scipy-0.13.0.dev_c31f167_20130514-py2.7-macosx-10.8-intel.egg/scipy/optimize/zeros.py:149: RuntimeWarning: Tolerance of 2.21273375059e+15 reached\n",
        "  warnings.warn(msg, RuntimeWarning)\n"
       ]
      },
      {
       "output_type": "stream",
       "stream": "stderr",
       "text": [
        "/Library/Python/2.7/site-packages/scipy-0.13.0.dev_c31f167_20130514-py2.7-macosx-10.8-intel.egg/scipy/optimize/zeros.py:149: RuntimeWarning: Tolerance of -4.32784518547e+14 reached\n",
        "  warnings.warn(msg, RuntimeWarning)\n",
        "/Library/Python/2.7/site-packages/scipy-0.13.0.dev_c31f167_20130514-py2.7-macosx-10.8-intel.egg/scipy/optimize/zeros.py:149: RuntimeWarning: Tolerance of 7.80276570928e+15 reached\n",
        "  warnings.warn(msg, RuntimeWarning)\n"
       ]
      },
      {
       "output_type": "stream",
       "stream": "stderr",
       "text": [
        "/Library/Python/2.7/site-packages/scipy-0.13.0.dev_c31f167_20130514-py2.7-macosx-10.8-intel.egg/scipy/optimize/zeros.py:149: RuntimeWarning: Tolerance of -1.18282969692e+13 reached\n",
        "  warnings.warn(msg, RuntimeWarning)\n",
        "/Library/Python/2.7/site-packages/scipy-0.13.0.dev_c31f167_20130514-py2.7-macosx-10.8-intel.egg/scipy/optimize/zeros.py:149: RuntimeWarning: Tolerance of 1.17898177868e+14 reached\n",
        "  warnings.warn(msg, RuntimeWarning)\n"
       ]
      },
      {
       "output_type": "stream",
       "stream": "stderr",
       "text": [
        "/Library/Python/2.7/site-packages/scipy-0.13.0.dev_c31f167_20130514-py2.7-macosx-10.8-intel.egg/scipy/optimize/zeros.py:149: RuntimeWarning: Tolerance of 3.96537978468e+15 reached\n",
        "  warnings.warn(msg, RuntimeWarning)\n",
        "/Library/Python/2.7/site-packages/scipy-0.13.0.dev_c31f167_20130514-py2.7-macosx-10.8-intel.egg/scipy/optimize/zeros.py:149: RuntimeWarning: Tolerance of 1.86710637004e+16 reached\n",
        "  warnings.warn(msg, RuntimeWarning)\n"
       ]
      },
      {
       "output_type": "stream",
       "stream": "stderr",
       "text": [
        "/Library/Python/2.7/site-packages/scipy-0.13.0.dev_c31f167_20130514-py2.7-macosx-10.8-intel.egg/scipy/optimize/zeros.py:149: RuntimeWarning: Tolerance of 2.05654647648e+16 reached\n",
        "  warnings.warn(msg, RuntimeWarning)\n",
        "/Library/Python/2.7/site-packages/scipy-0.13.0.dev_c31f167_20130514-py2.7-macosx-10.8-intel.egg/scipy/optimize/zeros.py:149: RuntimeWarning: Tolerance of -6.78206420702e+12 reached\n",
        "  warnings.warn(msg, RuntimeWarning)\n"
       ]
      },
      {
       "output_type": "stream",
       "stream": "stderr",
       "text": [
        "/Library/Python/2.7/site-packages/scipy-0.13.0.dev_c31f167_20130514-py2.7-macosx-10.8-intel.egg/scipy/optimize/zeros.py:149: RuntimeWarning: Tolerance of 1.58512457913e+13 reached\n",
        "  warnings.warn(msg, RuntimeWarning)\n",
        "/Library/Python/2.7/site-packages/scipy-0.13.0.dev_c31f167_20130514-py2.7-macosx-10.8-intel.egg/scipy/optimize/zeros.py:149: RuntimeWarning: Tolerance of -8.24492697951e+13 reached\n",
        "  warnings.warn(msg, RuntimeWarning)\n"
       ]
      },
      {
       "output_type": "stream",
       "stream": "stdout",
       "text": [
        "\n",
        "deleting item T1map_LL"
       ]
      },
      {
       "output_type": "stream",
       "stream": "stdout",
       "text": [
        "\n",
        "deleting item T1map_LL_fitdict"
       ]
      },
      {
       "output_type": "stream",
       "stream": "stderr",
       "text": [
        "/Library/Python/2.7/site-packages/scipy-0.13.0.dev_c31f167_20130514-py2.7-macosx-10.8-intel.egg/scipy/optimize/zeros.py:149: RuntimeWarning: Tolerance of -2.38985778656e+13 reached\n",
        "  warnings.warn(msg, RuntimeWarning)\n",
        "WARNING:sarpy.io.BRUKERIO:NSLICES not equal to number of ACQ_obj_order\n"
       ]
      },
      {
       "output_type": "stream",
       "stream": "stderr",
       "text": [
        "/Library/Python/2.7/site-packages/scipy-0.13.0.dev_c31f167_20130514-py2.7-macosx-10.8-intel.egg/scipy/optimize/zeros.py:149: RuntimeWarning: Tolerance of -5.6291511466e+13 reached\n",
        "  warnings.warn(msg, RuntimeWarning)\n",
        "/Library/Python/2.7/site-packages/scipy-0.13.0.dev_c31f167_20130514-py2.7-macosx-10.8-intel.egg/scipy/optimize/zeros.py:149: RuntimeWarning: Tolerance of 1.88654606634e+13 reached\n",
        "  warnings.warn(msg, RuntimeWarning)\n"
       ]
      },
      {
       "output_type": "stream",
       "stream": "stderr",
       "text": [
        "/Library/Python/2.7/site-packages/scipy-0.13.0.dev_c31f167_20130514-py2.7-macosx-10.8-intel.egg/scipy/optimize/zeros.py:149: RuntimeWarning: Tolerance of 5.364652364e+15 reached\n",
        "  warnings.warn(msg, RuntimeWarning)\n",
        "/Library/Python/2.7/site-packages/scipy-0.13.0.dev_c31f167_20130514-py2.7-macosx-10.8-intel.egg/scipy/optimize/zeros.py:149: RuntimeWarning: Tolerance of 2.17579630462e+13 reached\n",
        "  warnings.warn(msg, RuntimeWarning)\n"
       ]
      },
      {
       "output_type": "stream",
       "stream": "stderr",
       "text": [
        "/Library/Python/2.7/site-packages/scipy-0.13.0.dev_c31f167_20130514-py2.7-macosx-10.8-intel.egg/scipy/optimize/zeros.py:149: RuntimeWarning: Tolerance of -4.2628362691e+15 reached\n",
        "  warnings.warn(msg, RuntimeWarning)\n",
        "/Library/Python/2.7/site-packages/scipy-0.13.0.dev_c31f167_20130514-py2.7-macosx-10.8-intel.egg/scipy/optimize/zeros.py:149: RuntimeWarning: Tolerance of -7.1312202571e+14 reached\n",
        "  warnings.warn(msg, RuntimeWarning)\n"
       ]
      },
      {
       "output_type": "stream",
       "stream": "stderr",
       "text": [
        "/Library/Python/2.7/site-packages/scipy-0.13.0.dev_c31f167_20130514-py2.7-macosx-10.8-intel.egg/scipy/optimize/zeros.py:149: RuntimeWarning: Tolerance of -2.41110235455e+16 reached\n",
        "  warnings.warn(msg, RuntimeWarning)\n",
        "/Library/Python/2.7/site-packages/scipy-0.13.0.dev_c31f167_20130514-py2.7-macosx-10.8-intel.egg/scipy/optimize/zeros.py:149: RuntimeWarning: Tolerance of 6.1861911507e+13 reached\n",
        "  warnings.warn(msg, RuntimeWarning)\n"
       ]
      },
      {
       "output_type": "stream",
       "stream": "stderr",
       "text": [
        "/Library/Python/2.7/site-packages/scipy-0.13.0.dev_c31f167_20130514-py2.7-macosx-10.8-intel.egg/scipy/optimize/zeros.py:149: RuntimeWarning: Tolerance of 2.27571199268e+14 reached\n",
        "  warnings.warn(msg, RuntimeWarning)\n",
        "/Library/Python/2.7/site-packages/scipy-0.13.0.dev_c31f167_20130514-py2.7-macosx-10.8-intel.egg/scipy/optimize/zeros.py:149: RuntimeWarning: Tolerance of -1.52566502509e+16 reached\n",
        "  warnings.warn(msg, RuntimeWarning)\n"
       ]
      },
      {
       "output_type": "stream",
       "stream": "stderr",
       "text": [
        "/Library/Python/2.7/site-packages/scipy-0.13.0.dev_c31f167_20130514-py2.7-macosx-10.8-intel.egg/scipy/optimize/zeros.py:149: RuntimeWarning: Tolerance of -4.08342462983e+14 reached\n",
        "  warnings.warn(msg, RuntimeWarning)\n",
        "/Library/Python/2.7/site-packages/scipy-0.13.0.dev_c31f167_20130514-py2.7-macosx-10.8-intel.egg/scipy/optimize/zeros.py:149: RuntimeWarning: Tolerance of 1.59002726531e+15 reached\n",
        "  warnings.warn(msg, RuntimeWarning)\n"
       ]
      },
      {
       "output_type": "stream",
       "stream": "stderr",
       "text": [
        "/Library/Python/2.7/site-packages/scipy-0.13.0.dev_c31f167_20130514-py2.7-macosx-10.8-intel.egg/scipy/optimize/zeros.py:149: RuntimeWarning: Tolerance of -1.18786553442e+15 reached\n",
        "  warnings.warn(msg, RuntimeWarning)\n",
        "/Library/Python/2.7/site-packages/scipy-0.13.0.dev_c31f167_20130514-py2.7-macosx-10.8-intel.egg/scipy/optimize/zeros.py:149: RuntimeWarning: Tolerance of -9.88285493523e+14 reached\n",
        "  warnings.warn(msg, RuntimeWarning)\n"
       ]
      },
      {
       "output_type": "stream",
       "stream": "stderr",
       "text": [
        "/Library/Python/2.7/site-packages/scipy-0.13.0.dev_c31f167_20130514-py2.7-macosx-10.8-intel.egg/scipy/optimize/zeros.py:149: RuntimeWarning: Tolerance of 1.47752763701e+13 reached\n",
        "  warnings.warn(msg, RuntimeWarning)\n",
        "/Library/Python/2.7/site-packages/scipy-0.13.0.dev_c31f167_20130514-py2.7-macosx-10.8-intel.egg/scipy/optimize/zeros.py:149: RuntimeWarning: Tolerance of 2.15410118201e+15 reached\n",
        "  warnings.warn(msg, RuntimeWarning)\n"
       ]
      },
      {
       "output_type": "stream",
       "stream": "stdout",
       "text": [
        "\n",
        "deleting item T1map_LL"
       ]
      },
      {
       "output_type": "stream",
       "stream": "stdout",
       "text": [
        "\n",
        "deleting item T1map_LL_fitdict"
       ]
      },
      {
       "output_type": "stream",
       "stream": "stderr",
       "text": [
        "/Library/Python/2.7/site-packages/scipy-0.13.0.dev_c31f167_20130514-py2.7-macosx-10.8-intel.egg/scipy/optimize/zeros.py:149: RuntimeWarning: Tolerance of -2.07219272852e-08 reached\n",
        "  warnings.warn(msg, RuntimeWarning)\n",
        "WARNING:sarpy.io.BRUKERIO:NSLICES not equal to number of ACQ_obj_order\n"
       ]
      },
      {
       "output_type": "stream",
       "stream": "stderr",
       "text": [
        "/Library/Python/2.7/site-packages/scipy-0.13.0.dev_c31f167_20130514-py2.7-macosx-10.8-intel.egg/scipy/optimize/zeros.py:149: RuntimeWarning: Tolerance of -1.22157825014e+16 reached\n",
        "  warnings.warn(msg, RuntimeWarning)\n",
        "/Library/Python/2.7/site-packages/scipy-0.13.0.dev_c31f167_20130514-py2.7-macosx-10.8-intel.egg/scipy/optimize/zeros.py:149: RuntimeWarning: Tolerance of -729465285478.0 reached\n",
        "  warnings.warn(msg, RuntimeWarning)\n"
       ]
      },
      {
       "output_type": "stream",
       "stream": "stderr",
       "text": [
        "/Library/Python/2.7/site-packages/scipy-0.13.0.dev_c31f167_20130514-py2.7-macosx-10.8-intel.egg/scipy/optimize/zeros.py:149: RuntimeWarning: Tolerance of -3.08228166835e+15 reached\n",
        "  warnings.warn(msg, RuntimeWarning)\n",
        "/Library/Python/2.7/site-packages/scipy-0.13.0.dev_c31f167_20130514-py2.7-macosx-10.8-intel.egg/scipy/optimize/zeros.py:149: RuntimeWarning: Tolerance of 3.08493140002e+15 reached\n",
        "  warnings.warn(msg, RuntimeWarning)\n"
       ]
      },
      {
       "output_type": "stream",
       "stream": "stderr",
       "text": [
        "/Library/Python/2.7/site-packages/scipy-0.13.0.dev_c31f167_20130514-py2.7-macosx-10.8-intel.egg/scipy/optimize/zeros.py:149: RuntimeWarning: Tolerance of -1.22189861962e+15 reached\n",
        "  warnings.warn(msg, RuntimeWarning)\n",
        "/Library/Python/2.7/site-packages/scipy-0.13.0.dev_c31f167_20130514-py2.7-macosx-10.8-intel.egg/scipy/optimize/zeros.py:149: RuntimeWarning: Tolerance of 6.25645902702e+14 reached\n",
        "  warnings.warn(msg, RuntimeWarning)\n"
       ]
      },
      {
       "output_type": "stream",
       "stream": "stderr",
       "text": [
        "/Library/Python/2.7/site-packages/scipy-0.13.0.dev_c31f167_20130514-py2.7-macosx-10.8-intel.egg/scipy/optimize/zeros.py:149: RuntimeWarning: Tolerance of -1.66877832611e+14 reached\n",
        "  warnings.warn(msg, RuntimeWarning)\n",
        "/Library/Python/2.7/site-packages/scipy-0.13.0.dev_c31f167_20130514-py2.7-macosx-10.8-intel.egg/scipy/optimize/zeros.py:149: RuntimeWarning: Tolerance of 9.59262251854e-08 reached\n",
        "  warnings.warn(msg, RuntimeWarning)\n"
       ]
      },
      {
       "output_type": "stream",
       "stream": "stdout",
       "text": [
        "\n",
        "deleting item T1map_LL"
       ]
      },
      {
       "output_type": "stream",
       "stream": "stdout",
       "text": [
        "\n",
        "deleting item T1map_LL_fitdict"
       ]
      },
      {
       "output_type": "stream",
       "stream": "stderr",
       "text": [
        "WARNING:sarpy.io.BRUKERIO:NSLICES not equal to number of ACQ_obj_order\n"
       ]
      },
      {
       "output_type": "stream",
       "stream": "stderr",
       "text": [
        "/Library/Python/2.7/site-packages/scipy-0.13.0.dev_c31f167_20130514-py2.7-macosx-10.8-intel.egg/scipy/optimize/zeros.py:149: RuntimeWarning: Tolerance of -1.04165214748e+15 reached\n",
        "  warnings.warn(msg, RuntimeWarning)\n",
        "/Library/Python/2.7/site-packages/scipy-0.13.0.dev_c31f167_20130514-py2.7-macosx-10.8-intel.egg/scipy/optimize/zeros.py:149: RuntimeWarning: Tolerance of -192324396411.0 reached\n",
        "  warnings.warn(msg, RuntimeWarning)\n"
       ]
      },
      {
       "output_type": "stream",
       "stream": "stderr",
       "text": [
        "/Library/Python/2.7/site-packages/scipy-0.13.0.dev_c31f167_20130514-py2.7-macosx-10.8-intel.egg/scipy/optimize/zeros.py:149: RuntimeWarning: Tolerance of -1.13613724484e+16 reached\n",
        "  warnings.warn(msg, RuntimeWarning)\n",
        "/Library/Python/2.7/site-packages/scipy-0.13.0.dev_c31f167_20130514-py2.7-macosx-10.8-intel.egg/scipy/optimize/zeros.py:149: RuntimeWarning: Tolerance of 3.40928769719e+15 reached\n",
        "  warnings.warn(msg, RuntimeWarning)\n"
       ]
      },
      {
       "output_type": "stream",
       "stream": "stderr",
       "text": [
        "/Library/Python/2.7/site-packages/scipy-0.13.0.dev_c31f167_20130514-py2.7-macosx-10.8-intel.egg/scipy/optimize/zeros.py:149: RuntimeWarning: Tolerance of -2.55332323696e+16 reached\n",
        "  warnings.warn(msg, RuntimeWarning)\n",
        "/Library/Python/2.7/site-packages/scipy-0.13.0.dev_c31f167_20130514-py2.7-macosx-10.8-intel.egg/scipy/optimize/zeros.py:149: RuntimeWarning: Tolerance of 4.13155068177e+15 reached\n",
        "  warnings.warn(msg, RuntimeWarning)\n"
       ]
      },
      {
       "output_type": "stream",
       "stream": "stderr",
       "text": [
        "/Library/Python/2.7/site-packages/scipy-0.13.0.dev_c31f167_20130514-py2.7-macosx-10.8-intel.egg/scipy/optimize/zeros.py:149: RuntimeWarning: Tolerance of 2.45803185082e+15 reached\n",
        "  warnings.warn(msg, RuntimeWarning)\n",
        "/Library/Python/2.7/site-packages/scipy-0.13.0.dev_c31f167_20130514-py2.7-macosx-10.8-intel.egg/scipy/optimize/zeros.py:149: RuntimeWarning: Tolerance of 3.13407194534e+15 reached\n",
        "  warnings.warn(msg, RuntimeWarning)\n"
       ]
      },
      {
       "output_type": "stream",
       "stream": "stderr",
       "text": [
        "/Library/Python/2.7/site-packages/scipy-0.13.0.dev_c31f167_20130514-py2.7-macosx-10.8-intel.egg/scipy/optimize/zeros.py:149: RuntimeWarning: Tolerance of -5.34819639097e+14 reached\n",
        "  warnings.warn(msg, RuntimeWarning)\n",
        "/Library/Python/2.7/site-packages/scipy-0.13.0.dev_c31f167_20130514-py2.7-macosx-10.8-intel.egg/scipy/optimize/zeros.py:149: RuntimeWarning: Tolerance of -5.17054822928e+14 reached\n",
        "  warnings.warn(msg, RuntimeWarning)\n"
       ]
      },
      {
       "output_type": "stream",
       "stream": "stderr",
       "text": [
        "/Library/Python/2.7/site-packages/scipy-0.13.0.dev_c31f167_20130514-py2.7-macosx-10.8-intel.egg/scipy/optimize/zeros.py:149: RuntimeWarning: Tolerance of -9.77681002668e+14 reached\n",
        "  warnings.warn(msg, RuntimeWarning)\n",
        "/Library/Python/2.7/site-packages/scipy-0.13.0.dev_c31f167_20130514-py2.7-macosx-10.8-intel.egg/scipy/optimize/zeros.py:149: RuntimeWarning: Tolerance of 3.91374656256e+15 reached\n",
        "  warnings.warn(msg, RuntimeWarning)\n"
       ]
      },
      {
       "output_type": "stream",
       "stream": "stderr",
       "text": [
        "/Library/Python/2.7/site-packages/scipy-0.13.0.dev_c31f167_20130514-py2.7-macosx-10.8-intel.egg/scipy/optimize/zeros.py:149: RuntimeWarning: Tolerance of 1.74202998687e+15 reached\n",
        "  warnings.warn(msg, RuntimeWarning)\n",
        "/Library/Python/2.7/site-packages/scipy-0.13.0.dev_c31f167_20130514-py2.7-macosx-10.8-intel.egg/scipy/optimize/zeros.py:149: RuntimeWarning: Tolerance of 2.13296895665e+15 reached\n",
        "  warnings.warn(msg, RuntimeWarning)\n"
       ]
      },
      {
       "output_type": "stream",
       "stream": "stderr",
       "text": [
        "/Library/Python/2.7/site-packages/scipy-0.13.0.dev_c31f167_20130514-py2.7-macosx-10.8-intel.egg/scipy/optimize/zeros.py:149: RuntimeWarning: Tolerance of -1.30317608075e+15 reached\n",
        "  warnings.warn(msg, RuntimeWarning)\n",
        "/Library/Python/2.7/site-packages/scipy-0.13.0.dev_c31f167_20130514-py2.7-macosx-10.8-intel.egg/scipy/optimize/zeros.py:149: RuntimeWarning: Tolerance of 3.83960046107e+12 reached\n",
        "  warnings.warn(msg, RuntimeWarning)\n"
       ]
      },
      {
       "output_type": "stream",
       "stream": "stderr",
       "text": [
        "/Library/Python/2.7/site-packages/scipy-0.13.0.dev_c31f167_20130514-py2.7-macosx-10.8-intel.egg/scipy/optimize/zeros.py:149: RuntimeWarning: Tolerance of 1.72324771496e+14 reached\n",
        "  warnings.warn(msg, RuntimeWarning)\n",
        "/Library/Python/2.7/site-packages/scipy-0.13.0.dev_c31f167_20130514-py2.7-macosx-10.8-intel.egg/scipy/optimize/zeros.py:149: RuntimeWarning: Tolerance of 1.22733668945e+15 reached\n",
        "  warnings.warn(msg, RuntimeWarning)\n"
       ]
      },
      {
       "output_type": "stream",
       "stream": "stderr",
       "text": [
        "/Library/Python/2.7/site-packages/scipy-0.13.0.dev_c31f167_20130514-py2.7-macosx-10.8-intel.egg/scipy/optimize/zeros.py:149: RuntimeWarning: Tolerance of -3.01511807963e+14 reached\n",
        "  warnings.warn(msg, RuntimeWarning)\n",
        "/Library/Python/2.7/site-packages/scipy-0.13.0.dev_c31f167_20130514-py2.7-macosx-10.8-intel.egg/scipy/optimize/zeros.py:149: RuntimeWarning: Tolerance of 3.16143439811e+15 reached\n",
        "  warnings.warn(msg, RuntimeWarning)\n"
       ]
      },
      {
       "output_type": "stream",
       "stream": "stderr",
       "text": [
        "/Library/Python/2.7/site-packages/scipy-0.13.0.dev_c31f167_20130514-py2.7-macosx-10.8-intel.egg/scipy/optimize/zeros.py:149: RuntimeWarning: Tolerance of 2.97505361402e+15 reached\n",
        "  warnings.warn(msg, RuntimeWarning)\n",
        "/Library/Python/2.7/site-packages/scipy-0.13.0.dev_c31f167_20130514-py2.7-macosx-10.8-intel.egg/scipy/optimize/zeros.py:149: RuntimeWarning: Tolerance of 2.58532443113e+17 reached\n",
        "  warnings.warn(msg, RuntimeWarning)\n"
       ]
      },
      {
       "output_type": "stream",
       "stream": "stderr",
       "text": [
        "/Library/Python/2.7/site-packages/scipy-0.13.0.dev_c31f167_20130514-py2.7-macosx-10.8-intel.egg/scipy/optimize/zeros.py:149: RuntimeWarning: Tolerance of -9.7799340413e+15 reached\n",
        "  warnings.warn(msg, RuntimeWarning)\n",
        "/Library/Python/2.7/site-packages/scipy-0.13.0.dev_c31f167_20130514-py2.7-macosx-10.8-intel.egg/scipy/optimize/zeros.py:149: RuntimeWarning: Tolerance of 4.06866629487e+15 reached\n",
        "  warnings.warn(msg, RuntimeWarning)\n"
       ]
      },
      {
       "output_type": "stream",
       "stream": "stderr",
       "text": [
        "/Library/Python/2.7/site-packages/scipy-0.13.0.dev_c31f167_20130514-py2.7-macosx-10.8-intel.egg/scipy/optimize/zeros.py:149: RuntimeWarning: Tolerance of -2.09814686171e+14 reached\n",
        "  warnings.warn(msg, RuntimeWarning)\n",
        "/Library/Python/2.7/site-packages/scipy-0.13.0.dev_c31f167_20130514-py2.7-macosx-10.8-intel.egg/scipy/optimize/zeros.py:149: RuntimeWarning: Tolerance of 4.17631000038e+13 reached\n",
        "  warnings.warn(msg, RuntimeWarning)\n"
       ]
      },
      {
       "output_type": "stream",
       "stream": "stderr",
       "text": [
        "/Library/Python/2.7/site-packages/scipy-0.13.0.dev_c31f167_20130514-py2.7-macosx-10.8-intel.egg/scipy/optimize/zeros.py:149: RuntimeWarning: Tolerance of 8.00937414169e-08 reached\n",
        "  warnings.warn(msg, RuntimeWarning)\n",
        "/Library/Python/2.7/site-packages/scipy-0.13.0.dev_c31f167_20130514-py2.7-macosx-10.8-intel.egg/scipy/optimize/zeros.py:149: RuntimeWarning: Tolerance of -2.99704899196e+15 reached\n",
        "  warnings.warn(msg, RuntimeWarning)\n"
       ]
      },
      {
       "output_type": "stream",
       "stream": "stdout",
       "text": [
        "\n",
        "deleting item T1map_LL"
       ]
      },
      {
       "output_type": "stream",
       "stream": "stdout",
       "text": [
        "\n",
        "deleting item T1map_LL_fitdict"
       ]
      },
      {
       "output_type": "stream",
       "stream": "stderr",
       "text": [
        "/Library/Python/2.7/site-packages/scipy-0.13.0.dev_c31f167_20130514-py2.7-macosx-10.8-intel.egg/scipy/optimize/zeros.py:149: RuntimeWarning: Tolerance of -1.62846133692e+15 reached\n",
        "  warnings.warn(msg, RuntimeWarning)\n",
        "WARNING:sarpy.io.BRUKERIO:NSLICES not equal to number of ACQ_obj_order\n"
       ]
      },
      {
       "output_type": "stream",
       "stream": "stderr",
       "text": [
        "/Library/Python/2.7/site-packages/scipy-0.13.0.dev_c31f167_20130514-py2.7-macosx-10.8-intel.egg/scipy/optimize/zeros.py:149: RuntimeWarning: Tolerance of -5.08974210906e+12 reached\n",
        "  warnings.warn(msg, RuntimeWarning)\n",
        "/Library/Python/2.7/site-packages/scipy-0.13.0.dev_c31f167_20130514-py2.7-macosx-10.8-intel.egg/scipy/optimize/zeros.py:149: RuntimeWarning: Tolerance of 5.69333443745e+15 reached\n",
        "  warnings.warn(msg, RuntimeWarning)\n"
       ]
      },
      {
       "output_type": "stream",
       "stream": "stderr",
       "text": [
        "/Library/Python/2.7/site-packages/scipy-0.13.0.dev_c31f167_20130514-py2.7-macosx-10.8-intel.egg/scipy/optimize/zeros.py:149: RuntimeWarning: Tolerance of 1.32144230836e+15 reached\n",
        "  warnings.warn(msg, RuntimeWarning)\n",
        "/Library/Python/2.7/site-packages/scipy-0.13.0.dev_c31f167_20130514-py2.7-macosx-10.8-intel.egg/scipy/optimize/zeros.py:149: RuntimeWarning: Tolerance of -1.1527202979e+16 reached\n",
        "  warnings.warn(msg, RuntimeWarning)\n"
       ]
      },
      {
       "output_type": "stream",
       "stream": "stderr",
       "text": [
        "/Library/Python/2.7/site-packages/scipy-0.13.0.dev_c31f167_20130514-py2.7-macosx-10.8-intel.egg/scipy/optimize/zeros.py:149: RuntimeWarning: Tolerance of 5.11075172177e+15 reached\n",
        "  warnings.warn(msg, RuntimeWarning)\n",
        "/Library/Python/2.7/site-packages/scipy-0.13.0.dev_c31f167_20130514-py2.7-macosx-10.8-intel.egg/scipy/optimize/zeros.py:149: RuntimeWarning: Tolerance of 5.73821617172e+12 reached\n",
        "  warnings.warn(msg, RuntimeWarning)\n"
       ]
      },
      {
       "output_type": "stream",
       "stream": "stderr",
       "text": [
        "/Library/Python/2.7/site-packages/scipy-0.13.0.dev_c31f167_20130514-py2.7-macosx-10.8-intel.egg/scipy/optimize/zeros.py:149: RuntimeWarning: Tolerance of -2.63591640572e+15 reached\n",
        "  warnings.warn(msg, RuntimeWarning)\n",
        "/Library/Python/2.7/site-packages/scipy-0.13.0.dev_c31f167_20130514-py2.7-macosx-10.8-intel.egg/scipy/optimize/zeros.py:149: RuntimeWarning: Tolerance of 2.93595138204e+13 reached\n",
        "  warnings.warn(msg, RuntimeWarning)\n"
       ]
      },
      {
       "output_type": "stream",
       "stream": "stderr",
       "text": [
        "/Library/Python/2.7/site-packages/scipy-0.13.0.dev_c31f167_20130514-py2.7-macosx-10.8-intel.egg/scipy/optimize/zeros.py:149: RuntimeWarning: Tolerance of 2.19946803966e+14 reached\n",
        "  warnings.warn(msg, RuntimeWarning)\n",
        "/Library/Python/2.7/site-packages/scipy-0.13.0.dev_c31f167_20130514-py2.7-macosx-10.8-intel.egg/scipy/optimize/zeros.py:149: RuntimeWarning: Tolerance of 47000013945.0 reached\n",
        "  warnings.warn(msg, RuntimeWarning)\n"
       ]
      },
      {
       "output_type": "stream",
       "stream": "stderr",
       "text": [
        "/Library/Python/2.7/site-packages/scipy-0.13.0.dev_c31f167_20130514-py2.7-macosx-10.8-intel.egg/scipy/optimize/zeros.py:149: RuntimeWarning: Tolerance of -4.32907365978e+15 reached\n",
        "  warnings.warn(msg, RuntimeWarning)\n",
        "/Library/Python/2.7/site-packages/scipy-0.13.0.dev_c31f167_20130514-py2.7-macosx-10.8-intel.egg/scipy/optimize/zeros.py:149: RuntimeWarning: Tolerance of 7.93662188425e+14 reached\n",
        "  warnings.warn(msg, RuntimeWarning)\n"
       ]
      },
      {
       "output_type": "stream",
       "stream": "stderr",
       "text": [
        "/Library/Python/2.7/site-packages/scipy-0.13.0.dev_c31f167_20130514-py2.7-macosx-10.8-intel.egg/scipy/optimize/zeros.py:149: RuntimeWarning: Tolerance of -2.3924418209e+14 reached\n",
        "  warnings.warn(msg, RuntimeWarning)\n",
        "/Library/Python/2.7/site-packages/scipy-0.13.0.dev_c31f167_20130514-py2.7-macosx-10.8-intel.egg/scipy/optimize/zeros.py:149: RuntimeWarning: Tolerance of 5.42265235286e+15 reached\n",
        "  warnings.warn(msg, RuntimeWarning)\n"
       ]
      },
      {
       "output_type": "stream",
       "stream": "stderr",
       "text": [
        "/Library/Python/2.7/site-packages/scipy-0.13.0.dev_c31f167_20130514-py2.7-macosx-10.8-intel.egg/scipy/optimize/zeros.py:149: RuntimeWarning: Tolerance of 3.3467261673e+14 reached\n",
        "  warnings.warn(msg, RuntimeWarning)\n",
        "/Library/Python/2.7/site-packages/scipy-0.13.0.dev_c31f167_20130514-py2.7-macosx-10.8-intel.egg/scipy/optimize/zeros.py:149: RuntimeWarning: Tolerance of 8.08806024623e+14 reached\n",
        "  warnings.warn(msg, RuntimeWarning)\n"
       ]
      },
      {
       "output_type": "stream",
       "stream": "stderr",
       "text": [
        "/Library/Python/2.7/site-packages/scipy-0.13.0.dev_c31f167_20130514-py2.7-macosx-10.8-intel.egg/scipy/optimize/zeros.py:149: RuntimeWarning: Tolerance of 1.46505151901e+16 reached\n",
        "  warnings.warn(msg, RuntimeWarning)\n",
        "/Library/Python/2.7/site-packages/scipy-0.13.0.dev_c31f167_20130514-py2.7-macosx-10.8-intel.egg/scipy/optimize/zeros.py:149: RuntimeWarning: Tolerance of -1.05294974123e+16 reached\n",
        "  warnings.warn(msg, RuntimeWarning)\n"
       ]
      },
      {
       "output_type": "stream",
       "stream": "stderr",
       "text": [
        "/Library/Python/2.7/site-packages/scipy-0.13.0.dev_c31f167_20130514-py2.7-macosx-10.8-intel.egg/scipy/optimize/zeros.py:149: RuntimeWarning: Tolerance of 1.15263658637e+16 reached\n",
        "  warnings.warn(msg, RuntimeWarning)\n",
        "/Library/Python/2.7/site-packages/scipy-0.13.0.dev_c31f167_20130514-py2.7-macosx-10.8-intel.egg/scipy/optimize/zeros.py:149: RuntimeWarning: Tolerance of -1.28856704155e+16 reached\n",
        "  warnings.warn(msg, RuntimeWarning)\n"
       ]
      },
      {
       "output_type": "stream",
       "stream": "stderr",
       "text": [
        "/Library/Python/2.7/site-packages/scipy-0.13.0.dev_c31f167_20130514-py2.7-macosx-10.8-intel.egg/scipy/optimize/zeros.py:149: RuntimeWarning: Tolerance of 4.68662364954e+12 reached\n",
        "  warnings.warn(msg, RuntimeWarning)\n",
        "/Library/Python/2.7/site-packages/scipy-0.13.0.dev_c31f167_20130514-py2.7-macosx-10.8-intel.egg/scipy/optimize/zeros.py:149: RuntimeWarning: Tolerance of 2.28797566418e+14 reached\n",
        "  warnings.warn(msg, RuntimeWarning)\n"
       ]
      },
      {
       "output_type": "stream",
       "stream": "stderr",
       "text": [
        "/Library/Python/2.7/site-packages/scipy-0.13.0.dev_c31f167_20130514-py2.7-macosx-10.8-intel.egg/scipy/optimize/zeros.py:149: RuntimeWarning: Tolerance of -1.65874819091e+14 reached\n",
        "  warnings.warn(msg, RuntimeWarning)\n",
        "/Library/Python/2.7/site-packages/scipy-0.13.0.dev_c31f167_20130514-py2.7-macosx-10.8-intel.egg/scipy/optimize/zeros.py:149: RuntimeWarning: Tolerance of 1.09066296191e+16 reached\n",
        "  warnings.warn(msg, RuntimeWarning)\n"
       ]
      },
      {
       "output_type": "stream",
       "stream": "stdout",
       "text": [
        "\n",
        "deleting item T1map_LL"
       ]
      },
      {
       "output_type": "stream",
       "stream": "stdout",
       "text": [
        "\n",
        "deleting item T1map_LL_fitdict"
       ]
      },
      {
       "output_type": "stream",
       "stream": "stderr",
       "text": [
        "WARNING:sarpy.io.BRUKERIO:NSLICES not equal to number of ACQ_obj_order\n"
       ]
      },
      {
       "output_type": "stream",
       "stream": "stderr",
       "text": [
        "/Library/Python/2.7/site-packages/scipy-0.13.0.dev_c31f167_20130514-py2.7-macosx-10.8-intel.egg/scipy/optimize/zeros.py:149: RuntimeWarning: Tolerance of -6.72292328112e+14 reached\n",
        "  warnings.warn(msg, RuntimeWarning)\n",
        "/Library/Python/2.7/site-packages/scipy-0.13.0.dev_c31f167_20130514-py2.7-macosx-10.8-intel.egg/scipy/optimize/zeros.py:149: RuntimeWarning: Tolerance of 5.52811839725e+14 reached\n",
        "  warnings.warn(msg, RuntimeWarning)\n"
       ]
      },
      {
       "output_type": "stream",
       "stream": "stderr",
       "text": [
        "/Library/Python/2.7/site-packages/scipy-0.13.0.dev_c31f167_20130514-py2.7-macosx-10.8-intel.egg/scipy/optimize/zeros.py:149: RuntimeWarning: Tolerance of 7.09824612643e+12 reached\n",
        "  warnings.warn(msg, RuntimeWarning)\n",
        "/Library/Python/2.7/site-packages/scipy-0.13.0.dev_c31f167_20130514-py2.7-macosx-10.8-intel.egg/scipy/optimize/zeros.py:149: RuntimeWarning: Tolerance of -1.99426153646e+13 reached\n",
        "  warnings.warn(msg, RuntimeWarning)\n"
       ]
      },
      {
       "output_type": "stream",
       "stream": "stderr",
       "text": [
        "/Library/Python/2.7/site-packages/scipy-0.13.0.dev_c31f167_20130514-py2.7-macosx-10.8-intel.egg/scipy/optimize/zeros.py:149: RuntimeWarning: Tolerance of 6.95913879505e+14 reached\n",
        "  warnings.warn(msg, RuntimeWarning)\n",
        "/Library/Python/2.7/site-packages/scipy-0.13.0.dev_c31f167_20130514-py2.7-macosx-10.8-intel.egg/scipy/optimize/zeros.py:149: RuntimeWarning: Tolerance of 6.41365420473e+14 reached\n",
        "  warnings.warn(msg, RuntimeWarning)\n"
       ]
      },
      {
       "output_type": "stream",
       "stream": "stderr",
       "text": [
        "/Library/Python/2.7/site-packages/scipy-0.13.0.dev_c31f167_20130514-py2.7-macosx-10.8-intel.egg/scipy/optimize/zeros.py:149: RuntimeWarning: Tolerance of 1.29746749449e+15 reached\n",
        "  warnings.warn(msg, RuntimeWarning)\n",
        "/Library/Python/2.7/site-packages/scipy-0.13.0.dev_c31f167_20130514-py2.7-macosx-10.8-intel.egg/scipy/optimize/zeros.py:149: RuntimeWarning: Tolerance of 1.81468634804e+13 reached\n",
        "  warnings.warn(msg, RuntimeWarning)\n"
       ]
      },
      {
       "output_type": "stream",
       "stream": "stderr",
       "text": [
        "/Library/Python/2.7/site-packages/scipy-0.13.0.dev_c31f167_20130514-py2.7-macosx-10.8-intel.egg/scipy/optimize/zeros.py:149: RuntimeWarning: Tolerance of -1.23671401921e+16 reached\n",
        "  warnings.warn(msg, RuntimeWarning)\n",
        "/Library/Python/2.7/site-packages/scipy-0.13.0.dev_c31f167_20130514-py2.7-macosx-10.8-intel.egg/scipy/optimize/zeros.py:149: RuntimeWarning: Tolerance of -1.90025252811e+15 reached\n",
        "  warnings.warn(msg, RuntimeWarning)\n"
       ]
      },
      {
       "output_type": "stream",
       "stream": "stderr",
       "text": [
        "/Library/Python/2.7/site-packages/scipy-0.13.0.dev_c31f167_20130514-py2.7-macosx-10.8-intel.egg/scipy/optimize/zeros.py:149: RuntimeWarning: Tolerance of -2.95666153403e+12 reached\n",
        "  warnings.warn(msg, RuntimeWarning)\n",
        "/Library/Python/2.7/site-packages/scipy-0.13.0.dev_c31f167_20130514-py2.7-macosx-10.8-intel.egg/scipy/optimize/zeros.py:149: RuntimeWarning: Tolerance of -4.2644134609e+14 reached\n",
        "  warnings.warn(msg, RuntimeWarning)\n"
       ]
      },
      {
       "output_type": "stream",
       "stream": "stderr",
       "text": [
        "/Library/Python/2.7/site-packages/scipy-0.13.0.dev_c31f167_20130514-py2.7-macosx-10.8-intel.egg/scipy/optimize/zeros.py:149: RuntimeWarning: Tolerance of 1.99797278086e+15 reached\n",
        "  warnings.warn(msg, RuntimeWarning)\n",
        "/Library/Python/2.7/site-packages/scipy-0.13.0.dev_c31f167_20130514-py2.7-macosx-10.8-intel.egg/scipy/optimize/zeros.py:149: RuntimeWarning: Tolerance of 2.51814457747e+14 reached\n",
        "  warnings.warn(msg, RuntimeWarning)\n"
       ]
      },
      {
       "output_type": "stream",
       "stream": "stderr",
       "text": [
        "/Library/Python/2.7/site-packages/scipy-0.13.0.dev_c31f167_20130514-py2.7-macosx-10.8-intel.egg/scipy/optimize/zeros.py:149: RuntimeWarning: Tolerance of -8.75572022427e+14 reached\n",
        "  warnings.warn(msg, RuntimeWarning)\n",
        "/Library/Python/2.7/site-packages/scipy-0.13.0.dev_c31f167_20130514-py2.7-macosx-10.8-intel.egg/scipy/optimize/zeros.py:149: RuntimeWarning: Tolerance of -1.36548871331e+15 reached\n",
        "  warnings.warn(msg, RuntimeWarning)\n"
       ]
      },
      {
       "output_type": "stream",
       "stream": "stderr",
       "text": [
        "/Library/Python/2.7/site-packages/scipy-0.13.0.dev_c31f167_20130514-py2.7-macosx-10.8-intel.egg/scipy/optimize/zeros.py:149: RuntimeWarning: Tolerance of -1.53519768511e+16 reached\n",
        "  warnings.warn(msg, RuntimeWarning)\n",
        "/Library/Python/2.7/site-packages/scipy-0.13.0.dev_c31f167_20130514-py2.7-macosx-10.8-intel.egg/scipy/optimize/zeros.py:149: RuntimeWarning: Tolerance of -4.53050452831e+14 reached\n",
        "  warnings.warn(msg, RuntimeWarning)\n"
       ]
      },
      {
       "output_type": "stream",
       "stream": "stderr",
       "text": [
        "/Library/Python/2.7/site-packages/scipy-0.13.0.dev_c31f167_20130514-py2.7-macosx-10.8-intel.egg/scipy/optimize/zeros.py:149: RuntimeWarning: Tolerance of -4.06248428741e+14 reached\n",
        "  warnings.warn(msg, RuntimeWarning)\n",
        "/Library/Python/2.7/site-packages/scipy-0.13.0.dev_c31f167_20130514-py2.7-macosx-10.8-intel.egg/scipy/optimize/zeros.py:149: RuntimeWarning: Tolerance of 2.23517417908e-08 reached\n",
        "  warnings.warn(msg, RuntimeWarning)\n"
       ]
      },
      {
       "output_type": "stream",
       "stream": "stderr",
       "text": [
        "/Library/Python/2.7/site-packages/scipy-0.13.0.dev_c31f167_20130514-py2.7-macosx-10.8-intel.egg/scipy/optimize/zeros.py:149: RuntimeWarning: Tolerance of -2.16862515932e+15 reached\n",
        "  warnings.warn(msg, RuntimeWarning)\n",
        "/Library/Python/2.7/site-packages/scipy-0.13.0.dev_c31f167_20130514-py2.7-macosx-10.8-intel.egg/scipy/optimize/zeros.py:149: RuntimeWarning: Tolerance of -4.05344455369e+14 reached\n",
        "  warnings.warn(msg, RuntimeWarning)\n"
       ]
      },
      {
       "output_type": "stream",
       "stream": "stderr",
       "text": [
        "/Library/Python/2.7/site-packages/scipy-0.13.0.dev_c31f167_20130514-py2.7-macosx-10.8-intel.egg/scipy/optimize/zeros.py:149: RuntimeWarning: Tolerance of 4.45729961407e+13 reached\n",
        "  warnings.warn(msg, RuntimeWarning)\n",
        "/Library/Python/2.7/site-packages/scipy-0.13.0.dev_c31f167_20130514-py2.7-macosx-10.8-intel.egg/scipy/optimize/zeros.py:149: RuntimeWarning: Tolerance of 9.1007058725e+14 reached\n",
        "  warnings.warn(msg, RuntimeWarning)\n"
       ]
      },
      {
       "output_type": "stream",
       "stream": "stderr",
       "text": [
        "/Library/Python/2.7/site-packages/scipy-0.13.0.dev_c31f167_20130514-py2.7-macosx-10.8-intel.egg/scipy/optimize/zeros.py:149: RuntimeWarning: Tolerance of -4.89724511234e+16 reached\n",
        "  warnings.warn(msg, RuntimeWarning)\n",
        "/Library/Python/2.7/site-packages/scipy-0.13.0.dev_c31f167_20130514-py2.7-macosx-10.8-intel.egg/scipy/optimize/zeros.py:149: RuntimeWarning: Tolerance of -5.91096284635e+14 reached\n",
        "  warnings.warn(msg, RuntimeWarning)\n"
       ]
      },
      {
       "output_type": "stream",
       "stream": "stderr",
       "text": [
        "/Library/Python/2.7/site-packages/scipy-0.13.0.dev_c31f167_20130514-py2.7-macosx-10.8-intel.egg/scipy/optimize/zeros.py:149: RuntimeWarning: Tolerance of -5.28530151999e+15 reached\n",
        "  warnings.warn(msg, RuntimeWarning)\n",
        "/Library/Python/2.7/site-packages/scipy-0.13.0.dev_c31f167_20130514-py2.7-macosx-10.8-intel.egg/scipy/optimize/zeros.py:149: RuntimeWarning: Tolerance of 1.53394063292e+16 reached\n",
        "  warnings.warn(msg, RuntimeWarning)\n"
       ]
      },
      {
       "output_type": "stream",
       "stream": "stderr",
       "text": [
        "/Library/Python/2.7/site-packages/scipy-0.13.0.dev_c31f167_20130514-py2.7-macosx-10.8-intel.egg/scipy/optimize/zeros.py:149: RuntimeWarning: Tolerance of 2.50883793084e+15 reached\n",
        "  warnings.warn(msg, RuntimeWarning)\n",
        "/Library/Python/2.7/site-packages/scipy-0.13.0.dev_c31f167_20130514-py2.7-macosx-10.8-intel.egg/scipy/optimize/zeros.py:149: RuntimeWarning: Tolerance of 8.59996789203e+14 reached\n",
        "  warnings.warn(msg, RuntimeWarning)\n"
       ]
      },
      {
       "output_type": "stream",
       "stream": "stderr",
       "text": [
        "/Library/Python/2.7/site-packages/scipy-0.13.0.dev_c31f167_20130514-py2.7-macosx-10.8-intel.egg/scipy/optimize/zeros.py:149: RuntimeWarning: Tolerance of -9.53102179771e+12 reached\n",
        "  warnings.warn(msg, RuntimeWarning)\n",
        "/Library/Python/2.7/site-packages/scipy-0.13.0.dev_c31f167_20130514-py2.7-macosx-10.8-intel.egg/scipy/optimize/zeros.py:149: RuntimeWarning: Tolerance of -8.72503249481e+14 reached\n",
        "  warnings.warn(msg, RuntimeWarning)\n"
       ]
      },
      {
       "output_type": "stream",
       "stream": "stderr",
       "text": [
        "/Library/Python/2.7/site-packages/scipy-0.13.0.dev_c31f167_20130514-py2.7-macosx-10.8-intel.egg/scipy/optimize/zeros.py:149: RuntimeWarning: Tolerance of -1.68715883076e+13 reached\n",
        "  warnings.warn(msg, RuntimeWarning)\n",
        "/Library/Python/2.7/site-packages/scipy-0.13.0.dev_c31f167_20130514-py2.7-macosx-10.8-intel.egg/scipy/optimize/zeros.py:149: RuntimeWarning: Tolerance of -2.12866534605e+15 reached\n",
        "  warnings.warn(msg, RuntimeWarning)\n"
       ]
      },
      {
       "output_type": "stream",
       "stream": "stderr",
       "text": [
        "/Library/Python/2.7/site-packages/scipy-0.13.0.dev_c31f167_20130514-py2.7-macosx-10.8-intel.egg/scipy/optimize/zeros.py:149: RuntimeWarning: Tolerance of 2.4875816836e+14 reached\n",
        "  warnings.warn(msg, RuntimeWarning)\n",
        "/Library/Python/2.7/site-packages/scipy-0.13.0.dev_c31f167_20130514-py2.7-macosx-10.8-intel.egg/scipy/optimize/zeros.py:149: RuntimeWarning: Tolerance of -1.55823186129e+15 reached\n",
        "  warnings.warn(msg, RuntimeWarning)\n"
       ]
      },
      {
       "output_type": "stream",
       "stream": "stdout",
       "text": [
        "\n",
        "deleting item T1map_LL"
       ]
      },
      {
       "output_type": "stream",
       "stream": "stdout",
       "text": [
        "\n",
        "deleting item T1map_LL_fitdict"
       ]
      },
      {
       "output_type": "stream",
       "stream": "stderr",
       "text": [
        "WARNING:sarpy.io.BRUKERIO:NSLICES not equal to number of ACQ_obj_order\n"
       ]
      },
      {
       "output_type": "stream",
       "stream": "stderr",
       "text": [
        "/Library/Python/2.7/site-packages/scipy-0.13.0.dev_c31f167_20130514-py2.7-macosx-10.8-intel.egg/scipy/optimize/zeros.py:149: RuntimeWarning: Tolerance of -1.86255766429e+13 reached\n",
        "  warnings.warn(msg, RuntimeWarning)\n",
        "/Library/Python/2.7/site-packages/scipy-0.13.0.dev_c31f167_20130514-py2.7-macosx-10.8-intel.egg/scipy/optimize/zeros.py:149: RuntimeWarning: Tolerance of -1.802928113e+16 reached\n",
        "  warnings.warn(msg, RuntimeWarning)\n"
       ]
      },
      {
       "output_type": "stream",
       "stream": "stderr",
       "text": [
        "/Library/Python/2.7/site-packages/scipy-0.13.0.dev_c31f167_20130514-py2.7-macosx-10.8-intel.egg/scipy/optimize/zeros.py:149: RuntimeWarning: Tolerance of 1.21913181033e+14 reached\n",
        "  warnings.warn(msg, RuntimeWarning)\n",
        "/Library/Python/2.7/site-packages/scipy-0.13.0.dev_c31f167_20130514-py2.7-macosx-10.8-intel.egg/scipy/optimize/zeros.py:149: RuntimeWarning: Tolerance of -9.719616933e+15 reached\n",
        "  warnings.warn(msg, RuntimeWarning)\n"
       ]
      },
      {
       "output_type": "stream",
       "stream": "stderr",
       "text": [
        "/Library/Python/2.7/site-packages/scipy-0.13.0.dev_c31f167_20130514-py2.7-macosx-10.8-intel.egg/scipy/optimize/zeros.py:149: RuntimeWarning: Tolerance of 2.39699554109e+15 reached\n",
        "  warnings.warn(msg, RuntimeWarning)\n",
        "/Library/Python/2.7/site-packages/scipy-0.13.0.dev_c31f167_20130514-py2.7-macosx-10.8-intel.egg/scipy/optimize/zeros.py:149: RuntimeWarning: Tolerance of -7.68575034492e+15 reached\n",
        "  warnings.warn(msg, RuntimeWarning)\n"
       ]
      },
      {
       "output_type": "stream",
       "stream": "stderr",
       "text": [
        "/Library/Python/2.7/site-packages/scipy-0.13.0.dev_c31f167_20130514-py2.7-macosx-10.8-intel.egg/scipy/optimize/zeros.py:149: RuntimeWarning: Tolerance of -2.53308487696e+12 reached\n",
        "  warnings.warn(msg, RuntimeWarning)\n",
        "/Library/Python/2.7/site-packages/scipy-0.13.0.dev_c31f167_20130514-py2.7-macosx-10.8-intel.egg/scipy/optimize/zeros.py:149: RuntimeWarning: Tolerance of -1.8947101247e+16 reached\n",
        "  warnings.warn(msg, RuntimeWarning)\n"
       ]
      },
      {
       "output_type": "stream",
       "stream": "stderr",
       "text": [
        "/Library/Python/2.7/site-packages/scipy-0.13.0.dev_c31f167_20130514-py2.7-macosx-10.8-intel.egg/scipy/optimize/zeros.py:149: RuntimeWarning: Tolerance of -4.19960581391e+15 reached\n",
        "  warnings.warn(msg, RuntimeWarning)\n",
        "/Library/Python/2.7/site-packages/scipy-0.13.0.dev_c31f167_20130514-py2.7-macosx-10.8-intel.egg/scipy/optimize/zeros.py:149: RuntimeWarning: Tolerance of 1.26232077563e+14 reached\n",
        "  warnings.warn(msg, RuntimeWarning)\n"
       ]
      },
      {
       "output_type": "stream",
       "stream": "stderr",
       "text": [
        "/Library/Python/2.7/site-packages/scipy-0.13.0.dev_c31f167_20130514-py2.7-macosx-10.8-intel.egg/scipy/optimize/zeros.py:149: RuntimeWarning: Tolerance of -6.69506400778e+13 reached\n",
        "  warnings.warn(msg, RuntimeWarning)\n",
        "/Library/Python/2.7/site-packages/scipy-0.13.0.dev_c31f167_20130514-py2.7-macosx-10.8-intel.egg/scipy/optimize/zeros.py:149: RuntimeWarning: Tolerance of 4.23309745677e+14 reached\n",
        "  warnings.warn(msg, RuntimeWarning)\n"
       ]
      },
      {
       "output_type": "stream",
       "stream": "stderr",
       "text": [
        "/Library/Python/2.7/site-packages/scipy-0.13.0.dev_c31f167_20130514-py2.7-macosx-10.8-intel.egg/scipy/optimize/zeros.py:149: RuntimeWarning: Tolerance of 1.26213455528e+16 reached\n",
        "  warnings.warn(msg, RuntimeWarning)\n",
        "/Library/Python/2.7/site-packages/scipy-0.13.0.dev_c31f167_20130514-py2.7-macosx-10.8-intel.egg/scipy/optimize/zeros.py:149: RuntimeWarning: Tolerance of 8.2148513376e+14 reached\n",
        "  warnings.warn(msg, RuntimeWarning)\n"
       ]
      },
      {
       "output_type": "stream",
       "stream": "stderr",
       "text": [
        "/Library/Python/2.7/site-packages/scipy-0.13.0.dev_c31f167_20130514-py2.7-macosx-10.8-intel.egg/scipy/optimize/zeros.py:149: RuntimeWarning: Tolerance of -1.62476947156e+14 reached\n",
        "  warnings.warn(msg, RuntimeWarning)\n",
        "/Library/Python/2.7/site-packages/scipy-0.13.0.dev_c31f167_20130514-py2.7-macosx-10.8-intel.egg/scipy/optimize/zeros.py:149: RuntimeWarning: Tolerance of 349633145826.0 reached\n",
        "  warnings.warn(msg, RuntimeWarning)\n"
       ]
      },
      {
       "output_type": "stream",
       "stream": "stderr",
       "text": [
        "/Library/Python/2.7/site-packages/scipy-0.13.0.dev_c31f167_20130514-py2.7-macosx-10.8-intel.egg/scipy/optimize/zeros.py:149: RuntimeWarning: Tolerance of 5.34894082138e+14 reached\n",
        "  warnings.warn(msg, RuntimeWarning)\n",
        "/Library/Python/2.7/site-packages/scipy-0.13.0.dev_c31f167_20130514-py2.7-macosx-10.8-intel.egg/scipy/optimize/zeros.py:149: RuntimeWarning: Tolerance of 1.20434707045e+16 reached\n",
        "  warnings.warn(msg, RuntimeWarning)\n"
       ]
      },
      {
       "output_type": "stream",
       "stream": "stdout",
       "text": [
        "\n",
        "deleting item T1map_LL"
       ]
      },
      {
       "output_type": "stream",
       "stream": "stdout",
       "text": [
        "\n",
        "deleting item T1map_LL_fitdict"
       ]
      },
      {
       "output_type": "stream",
       "stream": "stderr",
       "text": [
        "WARNING:sarpy.io.BRUKERIO:NSLICES not equal to number of ACQ_obj_order\n"
       ]
      },
      {
       "output_type": "stream",
       "stream": "stderr",
       "text": [
        "/Library/Python/2.7/site-packages/scipy-0.13.0.dev_c31f167_20130514-py2.7-macosx-10.8-intel.egg/scipy/optimize/zeros.py:149: RuntimeWarning: Tolerance of -1.53194627018e+15 reached\n",
        "  warnings.warn(msg, RuntimeWarning)\n",
        "/Library/Python/2.7/site-packages/scipy-0.13.0.dev_c31f167_20130514-py2.7-macosx-10.8-intel.egg/scipy/optimize/zeros.py:149: RuntimeWarning: Tolerance of -3.09397253463e+15 reached\n",
        "  warnings.warn(msg, RuntimeWarning)\n"
       ]
      },
      {
       "output_type": "stream",
       "stream": "stderr",
       "text": [
        "/Library/Python/2.7/site-packages/scipy-0.13.0.dev_c31f167_20130514-py2.7-macosx-10.8-intel.egg/scipy/optimize/zeros.py:149: RuntimeWarning: Tolerance of 2.10893365589e+16 reached\n",
        "  warnings.warn(msg, RuntimeWarning)\n",
        "/Library/Python/2.7/site-packages/scipy-0.13.0.dev_c31f167_20130514-py2.7-macosx-10.8-intel.egg/scipy/optimize/zeros.py:149: RuntimeWarning: Tolerance of -3.97388477328e+15 reached\n",
        "  warnings.warn(msg, RuntimeWarning)\n"
       ]
      },
      {
       "output_type": "stream",
       "stream": "stderr",
       "text": [
        "/Library/Python/2.7/site-packages/scipy-0.13.0.dev_c31f167_20130514-py2.7-macosx-10.8-intel.egg/scipy/optimize/zeros.py:149: RuntimeWarning: Tolerance of 3.57729935424e+12 reached\n",
        "  warnings.warn(msg, RuntimeWarning)\n",
        "/Library/Python/2.7/site-packages/scipy-0.13.0.dev_c31f167_20130514-py2.7-macosx-10.8-intel.egg/scipy/optimize/zeros.py:149: RuntimeWarning: Tolerance of 1.87280008438e+16 reached\n",
        "  warnings.warn(msg, RuntimeWarning)\n"
       ]
      },
      {
       "output_type": "stream",
       "stream": "stderr",
       "text": [
        "/Library/Python/2.7/site-packages/scipy-0.13.0.dev_c31f167_20130514-py2.7-macosx-10.8-intel.egg/scipy/optimize/zeros.py:149: RuntimeWarning: Tolerance of 1.8993935671e+15 reached\n",
        "  warnings.warn(msg, RuntimeWarning)\n",
        "/Library/Python/2.7/site-packages/scipy-0.13.0.dev_c31f167_20130514-py2.7-macosx-10.8-intel.egg/scipy/optimize/zeros.py:149: RuntimeWarning: Tolerance of 9.71275688774e+15 reached\n",
        "  warnings.warn(msg, RuntimeWarning)\n"
       ]
      },
      {
       "output_type": "stream",
       "stream": "stderr",
       "text": [
        "/Library/Python/2.7/site-packages/scipy-0.13.0.dev_c31f167_20130514-py2.7-macosx-10.8-intel.egg/scipy/optimize/zeros.py:149: RuntimeWarning: Tolerance of -7.96619065041e+13 reached\n",
        "  warnings.warn(msg, RuntimeWarning)\n",
        "/Library/Python/2.7/site-packages/scipy-0.13.0.dev_c31f167_20130514-py2.7-macosx-10.8-intel.egg/scipy/optimize/zeros.py:149: RuntimeWarning: Tolerance of -7.21792739791e+13 reached\n",
        "  warnings.warn(msg, RuntimeWarning)\n"
       ]
      },
      {
       "output_type": "stream",
       "stream": "stderr",
       "text": [
        "/Library/Python/2.7/site-packages/scipy-0.13.0.dev_c31f167_20130514-py2.7-macosx-10.8-intel.egg/scipy/optimize/zeros.py:149: RuntimeWarning: Tolerance of 1.13429567055e+15 reached\n",
        "  warnings.warn(msg, RuntimeWarning)\n",
        "/Library/Python/2.7/site-packages/scipy-0.13.0.dev_c31f167_20130514-py2.7-macosx-10.8-intel.egg/scipy/optimize/zeros.py:149: RuntimeWarning: Tolerance of -1.8277925154e+14 reached\n",
        "  warnings.warn(msg, RuntimeWarning)\n"
       ]
      },
      {
       "output_type": "stream",
       "stream": "stderr",
       "text": [
        "/Library/Python/2.7/site-packages/scipy-0.13.0.dev_c31f167_20130514-py2.7-macosx-10.8-intel.egg/scipy/optimize/zeros.py:149: RuntimeWarning: Tolerance of -1.0316020126e+15 reached\n",
        "  warnings.warn(msg, RuntimeWarning)\n",
        "/Library/Python/2.7/site-packages/scipy-0.13.0.dev_c31f167_20130514-py2.7-macosx-10.8-intel.egg/scipy/optimize/zeros.py:149: RuntimeWarning: Tolerance of -4.18188447425e+14 reached\n",
        "  warnings.warn(msg, RuntimeWarning)\n"
       ]
      },
      {
       "output_type": "stream",
       "stream": "stderr",
       "text": [
        "/Library/Python/2.7/site-packages/scipy-0.13.0.dev_c31f167_20130514-py2.7-macosx-10.8-intel.egg/scipy/optimize/zeros.py:149: RuntimeWarning: Tolerance of 4.71856848383e+14 reached\n",
        "  warnings.warn(msg, RuntimeWarning)\n",
        "/Library/Python/2.7/site-packages/scipy-0.13.0.dev_c31f167_20130514-py2.7-macosx-10.8-intel.egg/scipy/optimize/zeros.py:149: RuntimeWarning: Tolerance of -4.08821506426e-07 reached\n",
        "  warnings.warn(msg, RuntimeWarning)\n"
       ]
      },
      {
       "output_type": "stream",
       "stream": "stdout",
       "text": [
        "\n",
        "deleting item T1map_LL"
       ]
      },
      {
       "output_type": "stream",
       "stream": "stdout",
       "text": [
        "\n",
        "deleting item T1map_LL_fitdict"
       ]
      },
      {
       "output_type": "stream",
       "stream": "stderr",
       "text": [
        "WARNING:sarpy.io.BRUKERIO:NSLICES not equal to number of ACQ_obj_order\n"
       ]
      },
      {
       "output_type": "stream",
       "stream": "stderr",
       "text": [
        "/Library/Python/2.7/site-packages/scipy-0.13.0.dev_c31f167_20130514-py2.7-macosx-10.8-intel.egg/scipy/optimize/zeros.py:149: RuntimeWarning: Tolerance of 4.55384751637e+15 reached\n",
        "  warnings.warn(msg, RuntimeWarning)\n",
        "/Library/Python/2.7/site-packages/scipy-0.13.0.dev_c31f167_20130514-py2.7-macosx-10.8-intel.egg/scipy/optimize/zeros.py:149: RuntimeWarning: Tolerance of -1.39523068309e+14 reached\n",
        "  warnings.warn(msg, RuntimeWarning)\n"
       ]
      },
      {
       "output_type": "stream",
       "stream": "stderr",
       "text": [
        "/Library/Python/2.7/site-packages/scipy-0.13.0.dev_c31f167_20130514-py2.7-macosx-10.8-intel.egg/scipy/optimize/zeros.py:149: RuntimeWarning: Tolerance of 2.81898489634e+15 reached\n",
        "  warnings.warn(msg, RuntimeWarning)\n",
        "/Library/Python/2.7/site-packages/scipy-0.13.0.dev_c31f167_20130514-py2.7-macosx-10.8-intel.egg/scipy/optimize/zeros.py:149: RuntimeWarning: Tolerance of 3.37756302173e+14 reached\n",
        "  warnings.warn(msg, RuntimeWarning)\n"
       ]
      },
      {
       "output_type": "stream",
       "stream": "stderr",
       "text": [
        "/Library/Python/2.7/site-packages/scipy-0.13.0.dev_c31f167_20130514-py2.7-macosx-10.8-intel.egg/scipy/optimize/zeros.py:149: RuntimeWarning: Tolerance of -6.95644443117e+12 reached\n",
        "  warnings.warn(msg, RuntimeWarning)\n",
        "/Library/Python/2.7/site-packages/scipy-0.13.0.dev_c31f167_20130514-py2.7-macosx-10.8-intel.egg/scipy/optimize/zeros.py:149: RuntimeWarning: Tolerance of 8.57295921204e+13 reached\n",
        "  warnings.warn(msg, RuntimeWarning)\n"
       ]
      },
      {
       "output_type": "stream",
       "stream": "stderr",
       "text": [
        "/Library/Python/2.7/site-packages/scipy-0.13.0.dev_c31f167_20130514-py2.7-macosx-10.8-intel.egg/scipy/optimize/zeros.py:149: RuntimeWarning: Tolerance of 2.58976906692e+12 reached\n",
        "  warnings.warn(msg, RuntimeWarning)\n",
        "/Library/Python/2.7/site-packages/scipy-0.13.0.dev_c31f167_20130514-py2.7-macosx-10.8-intel.egg/scipy/optimize/zeros.py:149: RuntimeWarning: Tolerance of 3.69429202258e+14 reached\n",
        "  warnings.warn(msg, RuntimeWarning)\n"
       ]
      },
      {
       "output_type": "stream",
       "stream": "stderr",
       "text": [
        "/Library/Python/2.7/site-packages/scipy-0.13.0.dev_c31f167_20130514-py2.7-macosx-10.8-intel.egg/scipy/optimize/zeros.py:149: RuntimeWarning: Tolerance of -1.09171460319e+15 reached\n",
        "  warnings.warn(msg, RuntimeWarning)\n",
        "/Library/Python/2.7/site-packages/scipy-0.13.0.dev_c31f167_20130514-py2.7-macosx-10.8-intel.egg/scipy/optimize/zeros.py:149: RuntimeWarning: Tolerance of 7.10931415071e+14 reached\n",
        "  warnings.warn(msg, RuntimeWarning)\n"
       ]
      },
      {
       "output_type": "stream",
       "stream": "stderr",
       "text": [
        "/Library/Python/2.7/site-packages/scipy-0.13.0.dev_c31f167_20130514-py2.7-macosx-10.8-intel.egg/scipy/optimize/zeros.py:149: RuntimeWarning: Tolerance of -9.77486958228e+13 reached\n",
        "  warnings.warn(msg, RuntimeWarning)\n",
        "/Library/Python/2.7/site-packages/scipy-0.13.0.dev_c31f167_20130514-py2.7-macosx-10.8-intel.egg/scipy/optimize/zeros.py:149: RuntimeWarning: Tolerance of 4.48342816793e+15 reached\n",
        "  warnings.warn(msg, RuntimeWarning)\n"
       ]
      },
      {
       "output_type": "stream",
       "stream": "stderr",
       "text": [
        "/Library/Python/2.7/site-packages/scipy-0.13.0.dev_c31f167_20130514-py2.7-macosx-10.8-intel.egg/scipy/optimize/zeros.py:149: RuntimeWarning: Tolerance of 2.5417597787e+16 reached\n",
        "  warnings.warn(msg, RuntimeWarning)\n",
        "/Library/Python/2.7/site-packages/scipy-0.13.0.dev_c31f167_20130514-py2.7-macosx-10.8-intel.egg/scipy/optimize/zeros.py:149: RuntimeWarning: Tolerance of -1.252789204e+15 reached\n",
        "  warnings.warn(msg, RuntimeWarning)\n"
       ]
      },
      {
       "output_type": "stream",
       "stream": "stderr",
       "text": [
        "/Library/Python/2.7/site-packages/scipy-0.13.0.dev_c31f167_20130514-py2.7-macosx-10.8-intel.egg/scipy/optimize/zeros.py:149: RuntimeWarning: Tolerance of -2.00797199054e+15 reached\n",
        "  warnings.warn(msg, RuntimeWarning)\n",
        "/Library/Python/2.7/site-packages/scipy-0.13.0.dev_c31f167_20130514-py2.7-macosx-10.8-intel.egg/scipy/optimize/zeros.py:149: RuntimeWarning: Tolerance of -2.18201336992e+14 reached\n",
        "  warnings.warn(msg, RuntimeWarning)\n"
       ]
      },
      {
       "output_type": "stream",
       "stream": "stderr",
       "text": [
        "/Library/Python/2.7/site-packages/scipy-0.13.0.dev_c31f167_20130514-py2.7-macosx-10.8-intel.egg/scipy/optimize/zeros.py:149: RuntimeWarning: Tolerance of -1.54104782268e-08 reached\n",
        "  warnings.warn(msg, RuntimeWarning)\n",
        "/Library/Python/2.7/site-packages/scipy-0.13.0.dev_c31f167_20130514-py2.7-macosx-10.8-intel.egg/scipy/optimize/zeros.py:149: RuntimeWarning: Tolerance of -6.50772755684e+14 reached\n",
        "  warnings.warn(msg, RuntimeWarning)\n"
       ]
      },
      {
       "output_type": "stream",
       "stream": "stderr",
       "text": [
        "/Library/Python/2.7/site-packages/scipy-0.13.0.dev_c31f167_20130514-py2.7-macosx-10.8-intel.egg/scipy/optimize/zeros.py:149: RuntimeWarning: Tolerance of 2.86982930999e+15 reached\n",
        "  warnings.warn(msg, RuntimeWarning)\n",
        "/Library/Python/2.7/site-packages/scipy-0.13.0.dev_c31f167_20130514-py2.7-macosx-10.8-intel.egg/scipy/optimize/zeros.py:149: RuntimeWarning: Tolerance of 7.05077842806e+14 reached\n",
        "  warnings.warn(msg, RuntimeWarning)\n"
       ]
      },
      {
       "output_type": "stream",
       "stream": "stdout",
       "text": [
        "\n",
        "deleting item T1map_LL"
       ]
      },
      {
       "output_type": "stream",
       "stream": "stdout",
       "text": [
        "\n",
        "deleting item T1map_LL_fitdict"
       ]
      },
      {
       "output_type": "stream",
       "stream": "stderr",
       "text": [
        "WARNING:sarpy.io.BRUKERIO:NSLICES not equal to number of ACQ_obj_order\n"
       ]
      },
      {
       "output_type": "stream",
       "stream": "stderr",
       "text": [
        "/Library/Python/2.7/site-packages/scipy-0.13.0.dev_c31f167_20130514-py2.7-macosx-10.8-intel.egg/scipy/optimize/zeros.py:149: RuntimeWarning: Tolerance of 4.31428051912e+14 reached\n",
        "  warnings.warn(msg, RuntimeWarning)\n",
        "/Library/Python/2.7/site-packages/scipy-0.13.0.dev_c31f167_20130514-py2.7-macosx-10.8-intel.egg/scipy/optimize/zeros.py:149: RuntimeWarning: Tolerance of -8.34175732247e+15 reached\n",
        "  warnings.warn(msg, RuntimeWarning)\n"
       ]
      },
      {
       "output_type": "stream",
       "stream": "stderr",
       "text": [
        "/Library/Python/2.7/site-packages/scipy-0.13.0.dev_c31f167_20130514-py2.7-macosx-10.8-intel.egg/scipy/optimize/zeros.py:149: RuntimeWarning: Tolerance of -4.06254124146e+15 reached\n",
        "  warnings.warn(msg, RuntimeWarning)\n",
        "/Library/Python/2.7/site-packages/scipy-0.13.0.dev_c31f167_20130514-py2.7-macosx-10.8-intel.egg/scipy/optimize/zeros.py:149: RuntimeWarning: Tolerance of 1.03415705531e+16 reached\n",
        "  warnings.warn(msg, RuntimeWarning)\n"
       ]
      },
      {
       "output_type": "stream",
       "stream": "stderr",
       "text": [
        "/Library/Python/2.7/site-packages/scipy-0.13.0.dev_c31f167_20130514-py2.7-macosx-10.8-intel.egg/scipy/optimize/zeros.py:149: RuntimeWarning: Tolerance of 1.74453174029e+15 reached\n",
        "  warnings.warn(msg, RuntimeWarning)\n",
        "/Library/Python/2.7/site-packages/scipy-0.13.0.dev_c31f167_20130514-py2.7-macosx-10.8-intel.egg/scipy/optimize/zeros.py:149: RuntimeWarning: Tolerance of -5.4380988302e+15 reached\n",
        "  warnings.warn(msg, RuntimeWarning)\n"
       ]
      },
      {
       "output_type": "stream",
       "stream": "stderr",
       "text": [
        "/Library/Python/2.7/site-packages/scipy-0.13.0.dev_c31f167_20130514-py2.7-macosx-10.8-intel.egg/scipy/optimize/zeros.py:149: RuntimeWarning: Tolerance of -3.40090089949e+14 reached\n",
        "  warnings.warn(msg, RuntimeWarning)\n",
        "/Library/Python/2.7/site-packages/scipy-0.13.0.dev_c31f167_20130514-py2.7-macosx-10.8-intel.egg/scipy/optimize/zeros.py:149: RuntimeWarning: Tolerance of -8.69407582558e+15 reached\n",
        "  warnings.warn(msg, RuntimeWarning)\n"
       ]
      },
      {
       "output_type": "stream",
       "stream": "stderr",
       "text": [
        "/Library/Python/2.7/site-packages/scipy-0.13.0.dev_c31f167_20130514-py2.7-macosx-10.8-intel.egg/scipy/optimize/zeros.py:149: RuntimeWarning: Tolerance of -1.08432656978e+12 reached\n",
        "  warnings.warn(msg, RuntimeWarning)\n",
        "/Library/Python/2.7/site-packages/scipy-0.13.0.dev_c31f167_20130514-py2.7-macosx-10.8-intel.egg/scipy/optimize/zeros.py:149: RuntimeWarning: Tolerance of -3.13590503158e+13 reached\n",
        "  warnings.warn(msg, RuntimeWarning)\n"
       ]
      },
      {
       "output_type": "stream",
       "stream": "stderr",
       "text": [
        "/Library/Python/2.7/site-packages/scipy-0.13.0.dev_c31f167_20130514-py2.7-macosx-10.8-intel.egg/scipy/optimize/zeros.py:149: RuntimeWarning: Tolerance of -2.75951781436e+13 reached\n",
        "  warnings.warn(msg, RuntimeWarning)\n",
        "/Library/Python/2.7/site-packages/scipy-0.13.0.dev_c31f167_20130514-py2.7-macosx-10.8-intel.egg/scipy/optimize/zeros.py:149: RuntimeWarning: Tolerance of 1.90952517194e+13 reached\n",
        "  warnings.warn(msg, RuntimeWarning)\n"
       ]
      },
      {
       "output_type": "stream",
       "stream": "stderr",
       "text": [
        "/Library/Python/2.7/site-packages/scipy-0.13.0.dev_c31f167_20130514-py2.7-macosx-10.8-intel.egg/scipy/optimize/zeros.py:149: RuntimeWarning: Tolerance of -1.14595622381e+16 reached\n",
        "  warnings.warn(msg, RuntimeWarning)\n",
        "/Library/Python/2.7/site-packages/scipy-0.13.0.dev_c31f167_20130514-py2.7-macosx-10.8-intel.egg/scipy/optimize/zeros.py:149: RuntimeWarning: Tolerance of -8.80952256502e+15 reached\n",
        "  warnings.warn(msg, RuntimeWarning)\n"
       ]
      },
      {
       "output_type": "stream",
       "stream": "stderr",
       "text": [
        "/Library/Python/2.7/site-packages/scipy-0.13.0.dev_c31f167_20130514-py2.7-macosx-10.8-intel.egg/scipy/optimize/zeros.py:149: RuntimeWarning: Tolerance of -1.09635642403e+16 reached\n",
        "  warnings.warn(msg, RuntimeWarning)\n",
        "/Library/Python/2.7/site-packages/scipy-0.13.0.dev_c31f167_20130514-py2.7-macosx-10.8-intel.egg/scipy/optimize/zeros.py:149: RuntimeWarning: Tolerance of -4.71129557215e+15 reached\n",
        "  warnings.warn(msg, RuntimeWarning)\n"
       ]
      },
      {
       "output_type": "stream",
       "stream": "stderr",
       "text": [
        "/Library/Python/2.7/site-packages/scipy-0.13.0.dev_c31f167_20130514-py2.7-macosx-10.8-intel.egg/scipy/optimize/zeros.py:149: RuntimeWarning: Tolerance of -5.07422424508e+14 reached\n",
        "  warnings.warn(msg, RuntimeWarning)\n",
        "/Library/Python/2.7/site-packages/scipy-0.13.0.dev_c31f167_20130514-py2.7-macosx-10.8-intel.egg/scipy/optimize/zeros.py:149: RuntimeWarning: Tolerance of 2.94219393366e+14 reached\n",
        "  warnings.warn(msg, RuntimeWarning)\n"
       ]
      },
      {
       "output_type": "stream",
       "stream": "stderr",
       "text": [
        "/Library/Python/2.7/site-packages/scipy-0.13.0.dev_c31f167_20130514-py2.7-macosx-10.8-intel.egg/scipy/optimize/zeros.py:149: RuntimeWarning: Tolerance of 7.20850272908e+14 reached\n",
        "  warnings.warn(msg, RuntimeWarning)\n",
        "/Library/Python/2.7/site-packages/scipy-0.13.0.dev_c31f167_20130514-py2.7-macosx-10.8-intel.egg/scipy/optimize/zeros.py:149: RuntimeWarning: Tolerance of -1.76366652787e+14 reached\n",
        "  warnings.warn(msg, RuntimeWarning)\n"
       ]
      },
      {
       "output_type": "stream",
       "stream": "stdout",
       "text": [
        "\n",
        "deleting item T1map_LL"
       ]
      },
      {
       "output_type": "stream",
       "stream": "stdout",
       "text": [
        "\n",
        "deleting item T1map_LL_fitdict"
       ]
      },
      {
       "output_type": "stream",
       "stream": "stderr",
       "text": [
        "WARNING:sarpy.io.BRUKERIO:NSLICES not equal to number of ACQ_obj_order\n"
       ]
      },
      {
       "output_type": "stream",
       "stream": "stderr",
       "text": [
        "/Library/Python/2.7/site-packages/scipy-0.13.0.dev_c31f167_20130514-py2.7-macosx-10.8-intel.egg/scipy/optimize/zeros.py:149: RuntimeWarning: Tolerance of -388069654400.0 reached\n",
        "  warnings.warn(msg, RuntimeWarning)\n",
        "/Library/Python/2.7/site-packages/scipy-0.13.0.dev_c31f167_20130514-py2.7-macosx-10.8-intel.egg/scipy/optimize/zeros.py:149: RuntimeWarning: Tolerance of -9.53705177808e+13 reached\n",
        "  warnings.warn(msg, RuntimeWarning)\n"
       ]
      },
      {
       "output_type": "stream",
       "stream": "stderr",
       "text": [
        "/Library/Python/2.7/site-packages/scipy-0.13.0.dev_c31f167_20130514-py2.7-macosx-10.8-intel.egg/scipy/optimize/zeros.py:149: RuntimeWarning: Tolerance of -2.61608851276e+16 reached\n",
        "  warnings.warn(msg, RuntimeWarning)\n",
        "/Library/Python/2.7/site-packages/scipy-0.13.0.dev_c31f167_20130514-py2.7-macosx-10.8-intel.egg/scipy/optimize/zeros.py:149: RuntimeWarning: Tolerance of -8.51024943872e+15 reached\n",
        "  warnings.warn(msg, RuntimeWarning)\n"
       ]
      },
      {
       "output_type": "stream",
       "stream": "stderr",
       "text": [
        "/Library/Python/2.7/site-packages/scipy-0.13.0.dev_c31f167_20130514-py2.7-macosx-10.8-intel.egg/scipy/optimize/zeros.py:149: RuntimeWarning: Tolerance of -8.3970501867e+14 reached\n",
        "  warnings.warn(msg, RuntimeWarning)\n",
        "/Library/Python/2.7/site-packages/scipy-0.13.0.dev_c31f167_20130514-py2.7-macosx-10.8-intel.egg/scipy/optimize/zeros.py:149: RuntimeWarning: Tolerance of -3.34896589512e+13 reached\n",
        "  warnings.warn(msg, RuntimeWarning)\n"
       ]
      },
      {
       "output_type": "stream",
       "stream": "stderr",
       "text": [
        "/Library/Python/2.7/site-packages/scipy-0.13.0.dev_c31f167_20130514-py2.7-macosx-10.8-intel.egg/scipy/optimize/zeros.py:149: RuntimeWarning: Tolerance of -2.54185253844e+15 reached\n",
        "  warnings.warn(msg, RuntimeWarning)\n",
        "/Library/Python/2.7/site-packages/scipy-0.13.0.dev_c31f167_20130514-py2.7-macosx-10.8-intel.egg/scipy/optimize/zeros.py:149: RuntimeWarning: Tolerance of -1.04142884473e+15 reached\n",
        "  warnings.warn(msg, RuntimeWarning)\n"
       ]
      },
      {
       "output_type": "stream",
       "stream": "stdout",
       "text": [
        "\n",
        "deleting item T1map_LL"
       ]
      },
      {
       "output_type": "stream",
       "stream": "stdout",
       "text": [
        "\n",
        "deleting item T1map_LL_fitdict"
       ]
      },
      {
       "output_type": "stream",
       "stream": "stdout",
       "text": [
        "\n",
        "T1map_LL: Not found HerS10Do02 and +24h-LL"
       ]
      },
      {
       "output_type": "stream",
       "stream": "stderr",
       "text": [
        "WARNING:sarpy.io.BRUKERIO:NSLICES not equal to number of ACQ_obj_order\n"
       ]
      },
      {
       "output_type": "stream",
       "stream": "stderr",
       "text": [
        "/Library/Python/2.7/site-packages/scipy-0.13.0.dev_c31f167_20130514-py2.7-macosx-10.8-intel.egg/scipy/optimize/zeros.py:149: RuntimeWarning: Tolerance of 1.0596638402e+14 reached\n",
        "  warnings.warn(msg, RuntimeWarning)\n",
        "/Library/Python/2.7/site-packages/scipy-0.13.0.dev_c31f167_20130514-py2.7-macosx-10.8-intel.egg/scipy/optimize/zeros.py:149: RuntimeWarning: Tolerance of -1.32799252922e+16 reached\n",
        "  warnings.warn(msg, RuntimeWarning)\n"
       ]
      },
      {
       "output_type": "stream",
       "stream": "stderr",
       "text": [
        "/Library/Python/2.7/site-packages/scipy-0.13.0.dev_c31f167_20130514-py2.7-macosx-10.8-intel.egg/scipy/optimize/zeros.py:149: RuntimeWarning: Tolerance of -8.70321198578e+14 reached\n",
        "  warnings.warn(msg, RuntimeWarning)\n",
        "/Library/Python/2.7/site-packages/scipy-0.13.0.dev_c31f167_20130514-py2.7-macosx-10.8-intel.egg/scipy/optimize/zeros.py:149: RuntimeWarning: Tolerance of -906191810582.0 reached\n",
        "  warnings.warn(msg, RuntimeWarning)\n"
       ]
      },
      {
       "output_type": "stream",
       "stream": "stderr",
       "text": [
        "/Library/Python/2.7/site-packages/scipy-0.13.0.dev_c31f167_20130514-py2.7-macosx-10.8-intel.egg/scipy/optimize/zeros.py:149: RuntimeWarning: Tolerance of 3.94121224379e+14 reached\n",
        "  warnings.warn(msg, RuntimeWarning)\n",
        "/Library/Python/2.7/site-packages/scipy-0.13.0.dev_c31f167_20130514-py2.7-macosx-10.8-intel.egg/scipy/optimize/zeros.py:149: RuntimeWarning: Tolerance of -343412966968.0 reached\n",
        "  warnings.warn(msg, RuntimeWarning)\n"
       ]
      },
      {
       "output_type": "stream",
       "stream": "stderr",
       "text": [
        "/Library/Python/2.7/site-packages/scipy-0.13.0.dev_c31f167_20130514-py2.7-macosx-10.8-intel.egg/scipy/optimize/zeros.py:149: RuntimeWarning: Tolerance of 1.59442612832e+15 reached\n",
        "  warnings.warn(msg, RuntimeWarning)\n",
        "/Library/Python/2.7/site-packages/scipy-0.13.0.dev_c31f167_20130514-py2.7-macosx-10.8-intel.egg/scipy/optimize/zeros.py:149: RuntimeWarning: Tolerance of -7.31413595422e+13 reached\n",
        "  warnings.warn(msg, RuntimeWarning)\n"
       ]
      },
      {
       "output_type": "stream",
       "stream": "stderr",
       "text": [
        "/Library/Python/2.7/site-packages/scipy-0.13.0.dev_c31f167_20130514-py2.7-macosx-10.8-intel.egg/scipy/optimize/zeros.py:149: RuntimeWarning: Tolerance of -8.8228513889e+15 reached\n",
        "  warnings.warn(msg, RuntimeWarning)\n",
        "/Library/Python/2.7/site-packages/scipy-0.13.0.dev_c31f167_20130514-py2.7-macosx-10.8-intel.egg/scipy/optimize/zeros.py:149: RuntimeWarning: Tolerance of -2.92867647252e+13 reached\n",
        "  warnings.warn(msg, RuntimeWarning)\n"
       ]
      },
      {
       "output_type": "stream",
       "stream": "stderr",
       "text": [
        "/Library/Python/2.7/site-packages/scipy-0.13.0.dev_c31f167_20130514-py2.7-macosx-10.8-intel.egg/scipy/optimize/zeros.py:149: RuntimeWarning: Tolerance of 9.26895286719e+14 reached\n",
        "  warnings.warn(msg, RuntimeWarning)\n",
        "/Library/Python/2.7/site-packages/scipy-0.13.0.dev_c31f167_20130514-py2.7-macosx-10.8-intel.egg/scipy/optimize/zeros.py:149: RuntimeWarning: Tolerance of -1.91321370519e+14 reached\n",
        "  warnings.warn(msg, RuntimeWarning)\n"
       ]
      },
      {
       "output_type": "stream",
       "stream": "stderr",
       "text": [
        "/Library/Python/2.7/site-packages/scipy-0.13.0.dev_c31f167_20130514-py2.7-macosx-10.8-intel.egg/scipy/optimize/zeros.py:149: RuntimeWarning: Tolerance of -2.10711732507e-08 reached\n",
        "  warnings.warn(msg, RuntimeWarning)\n",
        "/Library/Python/2.7/site-packages/scipy-0.13.0.dev_c31f167_20130514-py2.7-macosx-10.8-intel.egg/scipy/optimize/zeros.py:149: RuntimeWarning: Tolerance of -1.26668859974e+15 reached\n",
        "  warnings.warn(msg, RuntimeWarning)\n"
       ]
      },
      {
       "output_type": "stream",
       "stream": "stderr",
       "text": [
        "/Library/Python/2.7/site-packages/scipy-0.13.0.dev_c31f167_20130514-py2.7-macosx-10.8-intel.egg/scipy/optimize/zeros.py:149: RuntimeWarning: Tolerance of -7.12419230701e+15 reached\n",
        "  warnings.warn(msg, RuntimeWarning)\n",
        "/Library/Python/2.7/site-packages/scipy-0.13.0.dev_c31f167_20130514-py2.7-macosx-10.8-intel.egg/scipy/optimize/zeros.py:149: RuntimeWarning: Tolerance of -3.96125319058e+15 reached\n",
        "  warnings.warn(msg, RuntimeWarning)\n"
       ]
      },
      {
       "output_type": "stream",
       "stream": "stderr",
       "text": [
        "/Library/Python/2.7/site-packages/scipy-0.13.0.dev_c31f167_20130514-py2.7-macosx-10.8-intel.egg/scipy/optimize/zeros.py:149: RuntimeWarning: Tolerance of 934591792885.0 reached\n",
        "  warnings.warn(msg, RuntimeWarning)\n",
        "/Library/Python/2.7/site-packages/scipy-0.13.0.dev_c31f167_20130514-py2.7-macosx-10.8-intel.egg/scipy/optimize/zeros.py:149: RuntimeWarning: Tolerance of 6.8784811835e+14 reached\n",
        "  warnings.warn(msg, RuntimeWarning)\n"
       ]
      },
      {
       "output_type": "stream",
       "stream": "stdout",
       "text": [
        "\n",
        "deleting item T1map_LL"
       ]
      },
      {
       "output_type": "stream",
       "stream": "stdout",
       "text": [
        "\n",
        "deleting item T1map_LL_fitdict"
       ]
      },
      {
       "output_type": "stream",
       "stream": "stderr",
       "text": [
        "/Library/Python/2.7/site-packages/scipy-0.13.0.dev_c31f167_20130514-py2.7-macosx-10.8-intel.egg/scipy/optimize/zeros.py:149: RuntimeWarning: Tolerance of -5.32178862221e+12 reached\n",
        "  warnings.warn(msg, RuntimeWarning)\n",
        "WARNING:sarpy.io.BRUKERIO:NSLICES not equal to number of ACQ_obj_order\n"
       ]
      },
      {
       "output_type": "stream",
       "stream": "stderr",
       "text": [
        "/Library/Python/2.7/site-packages/scipy-0.13.0.dev_c31f167_20130514-py2.7-macosx-10.8-intel.egg/scipy/optimize/zeros.py:149: RuntimeWarning: Tolerance of 4.89172245197e+14 reached\n",
        "  warnings.warn(msg, RuntimeWarning)\n",
        "/Library/Python/2.7/site-packages/scipy-0.13.0.dev_c31f167_20130514-py2.7-macosx-10.8-intel.egg/scipy/optimize/zeros.py:149: RuntimeWarning: Tolerance of 3.64082693768e+16 reached\n",
        "  warnings.warn(msg, RuntimeWarning)\n"
       ]
      },
      {
       "output_type": "stream",
       "stream": "stderr",
       "text": [
        "/Library/Python/2.7/site-packages/scipy-0.13.0.dev_c31f167_20130514-py2.7-macosx-10.8-intel.egg/scipy/optimize/zeros.py:149: RuntimeWarning: Tolerance of 1.53577837316e+16 reached\n",
        "  warnings.warn(msg, RuntimeWarning)\n",
        "/Library/Python/2.7/site-packages/scipy-0.13.0.dev_c31f167_20130514-py2.7-macosx-10.8-intel.egg/scipy/optimize/zeros.py:149: RuntimeWarning: Tolerance of 8.19181778755e+14 reached\n",
        "  warnings.warn(msg, RuntimeWarning)\n"
       ]
      },
      {
       "output_type": "stream",
       "stream": "stderr",
       "text": [
        "/Library/Python/2.7/site-packages/scipy-0.13.0.dev_c31f167_20130514-py2.7-macosx-10.8-intel.egg/scipy/optimize/zeros.py:149: RuntimeWarning: Tolerance of 1.09129816294e+15 reached\n",
        "  warnings.warn(msg, RuntimeWarning)\n",
        "/Library/Python/2.7/site-packages/scipy-0.13.0.dev_c31f167_20130514-py2.7-macosx-10.8-intel.egg/scipy/optimize/zeros.py:149: RuntimeWarning: Tolerance of 8.35617449798e+15 reached\n",
        "  warnings.warn(msg, RuntimeWarning)\n"
       ]
      },
      {
       "output_type": "stream",
       "stream": "stderr",
       "text": [
        "/Library/Python/2.7/site-packages/scipy-0.13.0.dev_c31f167_20130514-py2.7-macosx-10.8-intel.egg/scipy/optimize/zeros.py:149: RuntimeWarning: Tolerance of 1.24064395532e+13 reached\n",
        "  warnings.warn(msg, RuntimeWarning)\n",
        "/Library/Python/2.7/site-packages/scipy-0.13.0.dev_c31f167_20130514-py2.7-macosx-10.8-intel.egg/scipy/optimize/zeros.py:149: RuntimeWarning: Tolerance of 1.32752452541e+15 reached\n",
        "  warnings.warn(msg, RuntimeWarning)\n"
       ]
      },
      {
       "output_type": "stream",
       "stream": "stderr",
       "text": [
        "/Library/Python/2.7/site-packages/scipy-0.13.0.dev_c31f167_20130514-py2.7-macosx-10.8-intel.egg/scipy/optimize/zeros.py:149: RuntimeWarning: Tolerance of 9.80716902265e+15 reached\n",
        "  warnings.warn(msg, RuntimeWarning)\n",
        "/Library/Python/2.7/site-packages/scipy-0.13.0.dev_c31f167_20130514-py2.7-macosx-10.8-intel.egg/scipy/optimize/zeros.py:149: RuntimeWarning: Tolerance of -1.85340286565e+15 reached\n",
        "  warnings.warn(msg, RuntimeWarning)\n"
       ]
      },
      {
       "output_type": "stream",
       "stream": "stderr",
       "text": [
        "/Library/Python/2.7/site-packages/scipy-0.13.0.dev_c31f167_20130514-py2.7-macosx-10.8-intel.egg/scipy/optimize/zeros.py:149: RuntimeWarning: Tolerance of 7.74982339571e+14 reached\n",
        "  warnings.warn(msg, RuntimeWarning)\n",
        "/Library/Python/2.7/site-packages/scipy-0.13.0.dev_c31f167_20130514-py2.7-macosx-10.8-intel.egg/scipy/optimize/zeros.py:149: RuntimeWarning: Tolerance of -9.33160840373e+12 reached\n",
        "  warnings.warn(msg, RuntimeWarning)\n"
       ]
      },
      {
       "output_type": "stream",
       "stream": "stderr",
       "text": [
        "/Library/Python/2.7/site-packages/scipy-0.13.0.dev_c31f167_20130514-py2.7-macosx-10.8-intel.egg/scipy/optimize/zeros.py:149: RuntimeWarning: Tolerance of -3.02750367155e+15 reached\n",
        "  warnings.warn(msg, RuntimeWarning)\n",
        "/Library/Python/2.7/site-packages/scipy-0.13.0.dev_c31f167_20130514-py2.7-macosx-10.8-intel.egg/scipy/optimize/zeros.py:149: RuntimeWarning: Tolerance of 174986332579.0 reached\n",
        "  warnings.warn(msg, RuntimeWarning)\n"
       ]
      },
      {
       "output_type": "stream",
       "stream": "stderr",
       "text": [
        "/Library/Python/2.7/site-packages/scipy-0.13.0.dev_c31f167_20130514-py2.7-macosx-10.8-intel.egg/scipy/optimize/zeros.py:149: RuntimeWarning: Tolerance of 1.38055623302e+13 reached\n",
        "  warnings.warn(msg, RuntimeWarning)\n",
        "/Library/Python/2.7/site-packages/scipy-0.13.0.dev_c31f167_20130514-py2.7-macosx-10.8-intel.egg/scipy/optimize/zeros.py:149: RuntimeWarning: Tolerance of -1.72535705424e+15 reached\n",
        "  warnings.warn(msg, RuntimeWarning)\n"
       ]
      },
      {
       "output_type": "stream",
       "stream": "stderr",
       "text": [
        "/Library/Python/2.7/site-packages/scipy-0.13.0.dev_c31f167_20130514-py2.7-macosx-10.8-intel.egg/scipy/optimize/zeros.py:149: RuntimeWarning: Tolerance of -1.7562734138e+16 reached\n",
        "  warnings.warn(msg, RuntimeWarning)\n",
        "/Library/Python/2.7/site-packages/scipy-0.13.0.dev_c31f167_20130514-py2.7-macosx-10.8-intel.egg/scipy/optimize/zeros.py:149: RuntimeWarning: Tolerance of -3.101091277e+15 reached\n",
        "  warnings.warn(msg, RuntimeWarning)\n"
       ]
      },
      {
       "output_type": "stream",
       "stream": "stdout",
       "text": [
        "\n",
        "deleting item T1map_LL"
       ]
      },
      {
       "output_type": "stream",
       "stream": "stdout",
       "text": [
        "\n",
        "deleting item T1map_LL_fitdict"
       ]
      },
      {
       "output_type": "stream",
       "stream": "stderr",
       "text": [
        "WARNING:sarpy.io.BRUKERIO:NSLICES not equal to number of ACQ_obj_order\n"
       ]
      },
      {
       "output_type": "stream",
       "stream": "stderr",
       "text": [
        "/Library/Python/2.7/site-packages/scipy-0.13.0.dev_c31f167_20130514-py2.7-macosx-10.8-intel.egg/scipy/optimize/zeros.py:149: RuntimeWarning: Tolerance of -1.26880542348e+15 reached\n",
        "  warnings.warn(msg, RuntimeWarning)\n",
        "/Library/Python/2.7/site-packages/scipy-0.13.0.dev_c31f167_20130514-py2.7-macosx-10.8-intel.egg/scipy/optimize/zeros.py:149: RuntimeWarning: Tolerance of -1.87606638413e+14 reached\n",
        "  warnings.warn(msg, RuntimeWarning)\n"
       ]
      },
      {
       "output_type": "stream",
       "stream": "stderr",
       "text": [
        "/Library/Python/2.7/site-packages/scipy-0.13.0.dev_c31f167_20130514-py2.7-macosx-10.8-intel.egg/scipy/optimize/zeros.py:149: RuntimeWarning: Tolerance of 1.82886080425e+16 reached\n",
        "  warnings.warn(msg, RuntimeWarning)\n",
        "/Library/Python/2.7/site-packages/scipy-0.13.0.dev_c31f167_20130514-py2.7-macosx-10.8-intel.egg/scipy/optimize/zeros.py:149: RuntimeWarning: Tolerance of 8.92811340149e+15 reached\n",
        "  warnings.warn(msg, RuntimeWarning)\n"
       ]
      },
      {
       "output_type": "stream",
       "stream": "stderr",
       "text": [
        "/Library/Python/2.7/site-packages/scipy-0.13.0.dev_c31f167_20130514-py2.7-macosx-10.8-intel.egg/scipy/optimize/zeros.py:149: RuntimeWarning: Tolerance of -1.23484301001e+16 reached\n",
        "  warnings.warn(msg, RuntimeWarning)\n",
        "/Library/Python/2.7/site-packages/scipy-0.13.0.dev_c31f167_20130514-py2.7-macosx-10.8-intel.egg/scipy/optimize/zeros.py:149: RuntimeWarning: Tolerance of -1.58471510798e+13 reached\n",
        "  warnings.warn(msg, RuntimeWarning)\n"
       ]
      },
      {
       "output_type": "stream",
       "stream": "stderr",
       "text": [
        "/Library/Python/2.7/site-packages/scipy-0.13.0.dev_c31f167_20130514-py2.7-macosx-10.8-intel.egg/scipy/optimize/zeros.py:149: RuntimeWarning: Tolerance of 5.72192254686e+15 reached\n",
        "  warnings.warn(msg, RuntimeWarning)\n",
        "/Library/Python/2.7/site-packages/scipy-0.13.0.dev_c31f167_20130514-py2.7-macosx-10.8-intel.egg/scipy/optimize/zeros.py:149: RuntimeWarning: Tolerance of -1.69511797324e+12 reached\n",
        "  warnings.warn(msg, RuntimeWarning)\n"
       ]
      },
      {
       "output_type": "stream",
       "stream": "stderr",
       "text": [
        "/Library/Python/2.7/site-packages/scipy-0.13.0.dev_c31f167_20130514-py2.7-macosx-10.8-intel.egg/scipy/optimize/zeros.py:149: RuntimeWarning: Tolerance of -2.78712986112e+15 reached\n",
        "  warnings.warn(msg, RuntimeWarning)\n",
        "/Library/Python/2.7/site-packages/scipy-0.13.0.dev_c31f167_20130514-py2.7-macosx-10.8-intel.egg/scipy/optimize/zeros.py:149: RuntimeWarning: Tolerance of 8.40005651545e+15 reached\n",
        "  warnings.warn(msg, RuntimeWarning)\n"
       ]
      },
      {
       "output_type": "stream",
       "stream": "stderr",
       "text": [
        "/Library/Python/2.7/site-packages/scipy-0.13.0.dev_c31f167_20130514-py2.7-macosx-10.8-intel.egg/scipy/optimize/zeros.py:149: RuntimeWarning: Tolerance of -4.53889415825e+12 reached\n",
        "  warnings.warn(msg, RuntimeWarning)\n",
        "/Library/Python/2.7/site-packages/scipy-0.13.0.dev_c31f167_20130514-py2.7-macosx-10.8-intel.egg/scipy/optimize/zeros.py:149: RuntimeWarning: Tolerance of -1.51579356276e+16 reached\n",
        "  warnings.warn(msg, RuntimeWarning)\n"
       ]
      },
      {
       "output_type": "stream",
       "stream": "stderr",
       "text": [
        "/Library/Python/2.7/site-packages/scipy-0.13.0.dev_c31f167_20130514-py2.7-macosx-10.8-intel.egg/scipy/optimize/zeros.py:149: RuntimeWarning: Tolerance of -5.02964035385e+15 reached\n",
        "  warnings.warn(msg, RuntimeWarning)\n",
        "/Library/Python/2.7/site-packages/scipy-0.13.0.dev_c31f167_20130514-py2.7-macosx-10.8-intel.egg/scipy/optimize/zeros.py:149: RuntimeWarning: Tolerance of -586549678964.0 reached\n",
        "  warnings.warn(msg, RuntimeWarning)\n"
       ]
      },
      {
       "output_type": "stream",
       "stream": "stderr",
       "text": [
        "/Library/Python/2.7/site-packages/scipy-0.13.0.dev_c31f167_20130514-py2.7-macosx-10.8-intel.egg/scipy/optimize/zeros.py:149: RuntimeWarning: Tolerance of -5.54763456905e+14 reached\n",
        "  warnings.warn(msg, RuntimeWarning)\n",
        "/Library/Python/2.7/site-packages/scipy-0.13.0.dev_c31f167_20130514-py2.7-macosx-10.8-intel.egg/scipy/optimize/zeros.py:149: RuntimeWarning: Tolerance of 1.42048356257e+14 reached\n",
        "  warnings.warn(msg, RuntimeWarning)\n"
       ]
      },
      {
       "output_type": "stream",
       "stream": "stderr",
       "text": [
        "/Library/Python/2.7/site-packages/scipy-0.13.0.dev_c31f167_20130514-py2.7-macosx-10.8-intel.egg/scipy/optimize/zeros.py:149: RuntimeWarning: Tolerance of 1.10448267276e+16 reached\n",
        "  warnings.warn(msg, RuntimeWarning)\n",
        "/Library/Python/2.7/site-packages/scipy-0.13.0.dev_c31f167_20130514-py2.7-macosx-10.8-intel.egg/scipy/optimize/zeros.py:149: RuntimeWarning: Tolerance of 2.95246936975e+15 reached\n",
        "  warnings.warn(msg, RuntimeWarning)\n"
       ]
      },
      {
       "output_type": "stream",
       "stream": "stderr",
       "text": [
        "/Library/Python/2.7/site-packages/scipy-0.13.0.dev_c31f167_20130514-py2.7-macosx-10.8-intel.egg/scipy/optimize/zeros.py:149: RuntimeWarning: Tolerance of 4.66242967406e+14 reached\n",
        "  warnings.warn(msg, RuntimeWarning)\n",
        "/Library/Python/2.7/site-packages/scipy-0.13.0.dev_c31f167_20130514-py2.7-macosx-10.8-intel.egg/scipy/optimize/zeros.py:149: RuntimeWarning: Tolerance of -7.18555188787e+14 reached\n",
        "  warnings.warn(msg, RuntimeWarning)\n"
       ]
      },
      {
       "output_type": "stream",
       "stream": "stderr",
       "text": [
        "/Library/Python/2.7/site-packages/scipy-0.13.0.dev_c31f167_20130514-py2.7-macosx-10.8-intel.egg/scipy/optimize/zeros.py:149: RuntimeWarning: Tolerance of -1.21421465109e+15 reached\n",
        "  warnings.warn(msg, RuntimeWarning)\n",
        "/Library/Python/2.7/site-packages/scipy-0.13.0.dev_c31f167_20130514-py2.7-macosx-10.8-intel.egg/scipy/optimize/zeros.py:149: RuntimeWarning: Tolerance of -1.30931476229e+16 reached\n",
        "  warnings.warn(msg, RuntimeWarning)\n"
       ]
      },
      {
       "output_type": "stream",
       "stream": "stderr",
       "text": [
        "/Library/Python/2.7/site-packages/scipy-0.13.0.dev_c31f167_20130514-py2.7-macosx-10.8-intel.egg/scipy/optimize/zeros.py:149: RuntimeWarning: Tolerance of 5.99692444032e+14 reached\n",
        "  warnings.warn(msg, RuntimeWarning)\n",
        "/Library/Python/2.7/site-packages/scipy-0.13.0.dev_c31f167_20130514-py2.7-macosx-10.8-intel.egg/scipy/optimize/zeros.py:149: RuntimeWarning: Tolerance of -3.90580349787e+13 reached\n",
        "  warnings.warn(msg, RuntimeWarning)\n"
       ]
      },
      {
       "output_type": "stream",
       "stream": "stderr",
       "text": [
        "/Library/Python/2.7/site-packages/scipy-0.13.0.dev_c31f167_20130514-py2.7-macosx-10.8-intel.egg/scipy/optimize/zeros.py:149: RuntimeWarning: Tolerance of 1.13861602972e+15 reached\n",
        "  warnings.warn(msg, RuntimeWarning)\n",
        "/Library/Python/2.7/site-packages/scipy-0.13.0.dev_c31f167_20130514-py2.7-macosx-10.8-intel.egg/scipy/optimize/zeros.py:149: RuntimeWarning: Tolerance of 2.05807517581e+16 reached\n",
        "  warnings.warn(msg, RuntimeWarning)\n"
       ]
      },
      {
       "output_type": "stream",
       "stream": "stderr",
       "text": [
        "/Library/Python/2.7/site-packages/scipy-0.13.0.dev_c31f167_20130514-py2.7-macosx-10.8-intel.egg/scipy/optimize/zeros.py:149: RuntimeWarning: Tolerance of -2.39139019155e+15 reached\n",
        "  warnings.warn(msg, RuntimeWarning)\n",
        "/Library/Python/2.7/site-packages/scipy-0.13.0.dev_c31f167_20130514-py2.7-macosx-10.8-intel.egg/scipy/optimize/zeros.py:149: RuntimeWarning: Tolerance of -1.9318823038e+16 reached\n",
        "  warnings.warn(msg, RuntimeWarning)\n"
       ]
      },
      {
       "output_type": "stream",
       "stream": "stdout",
       "text": [
        "\n",
        "deleting item T1map_LL"
       ]
      },
      {
       "output_type": "stream",
       "stream": "stdout",
       "text": [
        "\n",
        "deleting item T1map_LL_fitdict"
       ]
      },
      {
       "output_type": "stream",
       "stream": "stderr",
       "text": [
        "WARNING:sarpy.io.BRUKERIO:NSLICES not equal to number of ACQ_obj_order\n"
       ]
      },
      {
       "output_type": "stream",
       "stream": "stderr",
       "text": [
        "/Library/Python/2.7/site-packages/scipy-0.13.0.dev_c31f167_20130514-py2.7-macosx-10.8-intel.egg/scipy/optimize/zeros.py:149: RuntimeWarning: Tolerance of 4.30848501857e+14 reached\n",
        "  warnings.warn(msg, RuntimeWarning)\n",
        "/Library/Python/2.7/site-packages/scipy-0.13.0.dev_c31f167_20130514-py2.7-macosx-10.8-intel.egg/scipy/optimize/zeros.py:149: RuntimeWarning: Tolerance of 2.71647614168e+15 reached\n",
        "  warnings.warn(msg, RuntimeWarning)\n"
       ]
      },
      {
       "output_type": "stream",
       "stream": "stderr",
       "text": [
        "/Library/Python/2.7/site-packages/scipy-0.13.0.dev_c31f167_20130514-py2.7-macosx-10.8-intel.egg/scipy/optimize/zeros.py:149: RuntimeWarning: Tolerance of -1.63919854407e+16 reached\n",
        "  warnings.warn(msg, RuntimeWarning)\n",
        "/Library/Python/2.7/site-packages/scipy-0.13.0.dev_c31f167_20130514-py2.7-macosx-10.8-intel.egg/scipy/optimize/zeros.py:149: RuntimeWarning: Tolerance of -4.37629569044e+14 reached\n",
        "  warnings.warn(msg, RuntimeWarning)\n"
       ]
      },
      {
       "output_type": "stream",
       "stream": "stderr",
       "text": [
        "/Library/Python/2.7/site-packages/scipy-0.13.0.dev_c31f167_20130514-py2.7-macosx-10.8-intel.egg/scipy/optimize/zeros.py:149: RuntimeWarning: Tolerance of 1.3778969847e+16 reached\n",
        "  warnings.warn(msg, RuntimeWarning)\n",
        "/Library/Python/2.7/site-packages/scipy-0.13.0.dev_c31f167_20130514-py2.7-macosx-10.8-intel.egg/scipy/optimize/zeros.py:149: RuntimeWarning: Tolerance of 4.09778901362e+16 reached\n",
        "  warnings.warn(msg, RuntimeWarning)\n"
       ]
      },
      {
       "output_type": "stream",
       "stream": "stderr",
       "text": [
        "/Library/Python/2.7/site-packages/scipy-0.13.0.dev_c31f167_20130514-py2.7-macosx-10.8-intel.egg/scipy/optimize/zeros.py:149: RuntimeWarning: Tolerance of 4.12473588334e+14 reached\n",
        "  warnings.warn(msg, RuntimeWarning)\n",
        "/Library/Python/2.7/site-packages/scipy-0.13.0.dev_c31f167_20130514-py2.7-macosx-10.8-intel.egg/scipy/optimize/zeros.py:149: RuntimeWarning: Tolerance of -4.5291565664e+15 reached\n",
        "  warnings.warn(msg, RuntimeWarning)\n"
       ]
      },
      {
       "output_type": "stream",
       "stream": "stderr",
       "text": [
        "/Library/Python/2.7/site-packages/scipy-0.13.0.dev_c31f167_20130514-py2.7-macosx-10.8-intel.egg/scipy/optimize/zeros.py:149: RuntimeWarning: Tolerance of 1.11394945828e+15 reached\n",
        "  warnings.warn(msg, RuntimeWarning)\n",
        "/Library/Python/2.7/site-packages/scipy-0.13.0.dev_c31f167_20130514-py2.7-macosx-10.8-intel.egg/scipy/optimize/zeros.py:149: RuntimeWarning: Tolerance of 5.08737336804e+15 reached\n",
        "  warnings.warn(msg, RuntimeWarning)\n"
       ]
      },
      {
       "output_type": "stream",
       "stream": "stderr",
       "text": [
        "/Library/Python/2.7/site-packages/scipy-0.13.0.dev_c31f167_20130514-py2.7-macosx-10.8-intel.egg/scipy/optimize/zeros.py:149: RuntimeWarning: Tolerance of 1.01229648451e+15 reached\n",
        "  warnings.warn(msg, RuntimeWarning)\n",
        "/Library/Python/2.7/site-packages/scipy-0.13.0.dev_c31f167_20130514-py2.7-macosx-10.8-intel.egg/scipy/optimize/zeros.py:149: RuntimeWarning: Tolerance of 5.0081618342e+15 reached\n",
        "  warnings.warn(msg, RuntimeWarning)\n"
       ]
      },
      {
       "output_type": "stream",
       "stream": "stderr",
       "text": [
        "/Library/Python/2.7/site-packages/scipy-0.13.0.dev_c31f167_20130514-py2.7-macosx-10.8-intel.egg/scipy/optimize/zeros.py:149: RuntimeWarning: Tolerance of -6.9080057703e+14 reached\n",
        "  warnings.warn(msg, RuntimeWarning)\n",
        "/Library/Python/2.7/site-packages/scipy-0.13.0.dev_c31f167_20130514-py2.7-macosx-10.8-intel.egg/scipy/optimize/zeros.py:149: RuntimeWarning: Tolerance of 7.1595791568e+15 reached\n",
        "  warnings.warn(msg, RuntimeWarning)\n"
       ]
      },
      {
       "output_type": "stream",
       "stream": "stdout",
       "text": [
        "\n",
        "deleting item T1map_LL"
       ]
      },
      {
       "output_type": "stream",
       "stream": "stdout",
       "text": [
        "\n",
        "deleting item T1map_LL_fitdict"
       ]
      },
      {
       "output_type": "stream",
       "stream": "stderr",
       "text": [
        "WARNING:sarpy.io.BRUKERIO:NSLICES not equal to number of ACQ_obj_order\n"
       ]
      },
      {
       "output_type": "stream",
       "stream": "stderr",
       "text": [
        "/Library/Python/2.7/site-packages/scipy-0.13.0.dev_c31f167_20130514-py2.7-macosx-10.8-intel.egg/scipy/optimize/zeros.py:149: RuntimeWarning: Tolerance of 1.23183018435e+15 reached\n",
        "  warnings.warn(msg, RuntimeWarning)\n",
        "/Library/Python/2.7/site-packages/scipy-0.13.0.dev_c31f167_20130514-py2.7-macosx-10.8-intel.egg/scipy/optimize/zeros.py:149: RuntimeWarning: Tolerance of -5.11089596242e+15 reached\n",
        "  warnings.warn(msg, RuntimeWarning)\n"
       ]
      },
      {
       "output_type": "stream",
       "stream": "stderr",
       "text": [
        "/Library/Python/2.7/site-packages/scipy-0.13.0.dev_c31f167_20130514-py2.7-macosx-10.8-intel.egg/scipy/optimize/zeros.py:149: RuntimeWarning: Tolerance of 2.94555813926e+12 reached\n",
        "  warnings.warn(msg, RuntimeWarning)\n",
        "/Library/Python/2.7/site-packages/scipy-0.13.0.dev_c31f167_20130514-py2.7-macosx-10.8-intel.egg/scipy/optimize/zeros.py:149: RuntimeWarning: Tolerance of -93652435527.0 reached\n",
        "  warnings.warn(msg, RuntimeWarning)\n"
       ]
      },
      {
       "output_type": "stream",
       "stream": "stdout",
       "text": [
        "\n",
        "deleting item T1map_LL"
       ]
      },
      {
       "output_type": "stream",
       "stream": "stdout",
       "text": [
        "\n",
        "deleting item T1map_LL_fitdict"
       ]
      },
      {
       "output_type": "stream",
       "stream": "stderr",
       "text": [
        "WARNING:sarpy.io.BRUKERIO:NSLICES not equal to number of ACQ_obj_order\n"
       ]
      },
      {
       "output_type": "stream",
       "stream": "stderr",
       "text": [
        "/Library/Python/2.7/site-packages/scipy-0.13.0.dev_c31f167_20130514-py2.7-macosx-10.8-intel.egg/scipy/optimize/zeros.py:149: RuntimeWarning: Tolerance of 1.6780186492e+15 reached\n",
        "  warnings.warn(msg, RuntimeWarning)\n",
        "/Library/Python/2.7/site-packages/scipy-0.13.0.dev_c31f167_20130514-py2.7-macosx-10.8-intel.egg/scipy/optimize/zeros.py:149: RuntimeWarning: Tolerance of 2.75093996688e+13 reached\n",
        "  warnings.warn(msg, RuntimeWarning)\n"
       ]
      },
      {
       "output_type": "stream",
       "stream": "stderr",
       "text": [
        "/Library/Python/2.7/site-packages/scipy-0.13.0.dev_c31f167_20130514-py2.7-macosx-10.8-intel.egg/scipy/optimize/zeros.py:149: RuntimeWarning: Tolerance of -4.4163349236e+14 reached\n",
        "  warnings.warn(msg, RuntimeWarning)\n",
        "/Library/Python/2.7/site-packages/scipy-0.13.0.dev_c31f167_20130514-py2.7-macosx-10.8-intel.egg/scipy/optimize/zeros.py:149: RuntimeWarning: Tolerance of 3.91939295411e+14 reached\n",
        "  warnings.warn(msg, RuntimeWarning)\n"
       ]
      },
      {
       "output_type": "stream",
       "stream": "stderr",
       "text": [
        "/Library/Python/2.7/site-packages/scipy-0.13.0.dev_c31f167_20130514-py2.7-macosx-10.8-intel.egg/scipy/optimize/zeros.py:149: RuntimeWarning: Tolerance of 1.46403469502e+14 reached\n",
        "  warnings.warn(msg, RuntimeWarning)\n",
        "/Library/Python/2.7/site-packages/scipy-0.13.0.dev_c31f167_20130514-py2.7-macosx-10.8-intel.egg/scipy/optimize/zeros.py:149: RuntimeWarning: Tolerance of -3.39394910702e+14 reached\n",
        "  warnings.warn(msg, RuntimeWarning)\n"
       ]
      },
      {
       "output_type": "stream",
       "stream": "stderr",
       "text": [
        "/Library/Python/2.7/site-packages/scipy-0.13.0.dev_c31f167_20130514-py2.7-macosx-10.8-intel.egg/scipy/optimize/zeros.py:149: RuntimeWarning: Tolerance of -1.21990217695e+15 reached\n",
        "  warnings.warn(msg, RuntimeWarning)\n",
        "/Library/Python/2.7/site-packages/scipy-0.13.0.dev_c31f167_20130514-py2.7-macosx-10.8-intel.egg/scipy/optimize/zeros.py:149: RuntimeWarning: Tolerance of -3.50215374155e+16 reached\n",
        "  warnings.warn(msg, RuntimeWarning)\n"
       ]
      },
      {
       "output_type": "stream",
       "stream": "stderr",
       "text": [
        "/Library/Python/2.7/site-packages/scipy-0.13.0.dev_c31f167_20130514-py2.7-macosx-10.8-intel.egg/scipy/optimize/zeros.py:149: RuntimeWarning: Tolerance of 7.06201585979e+15 reached\n",
        "  warnings.warn(msg, RuntimeWarning)\n",
        "/Library/Python/2.7/site-packages/scipy-0.13.0.dev_c31f167_20130514-py2.7-macosx-10.8-intel.egg/scipy/optimize/zeros.py:149: RuntimeWarning: Tolerance of 1.86193053924e+15 reached\n",
        "  warnings.warn(msg, RuntimeWarning)\n"
       ]
      },
      {
       "output_type": "stream",
       "stream": "stderr",
       "text": [
        "/Library/Python/2.7/site-packages/scipy-0.13.0.dev_c31f167_20130514-py2.7-macosx-10.8-intel.egg/scipy/optimize/zeros.py:149: RuntimeWarning: Tolerance of -3.62713970591e+14 reached\n",
        "  warnings.warn(msg, RuntimeWarning)\n",
        "/Library/Python/2.7/site-packages/scipy-0.13.0.dev_c31f167_20130514-py2.7-macosx-10.8-intel.egg/scipy/optimize/zeros.py:149: RuntimeWarning: Tolerance of 3.32129963201e+14 reached\n",
        "  warnings.warn(msg, RuntimeWarning)\n"
       ]
      },
      {
       "output_type": "stream",
       "stream": "stderr",
       "text": [
        "/Library/Python/2.7/site-packages/scipy-0.13.0.dev_c31f167_20130514-py2.7-macosx-10.8-intel.egg/scipy/optimize/zeros.py:149: RuntimeWarning: Tolerance of -3.00992402053e+13 reached\n",
        "  warnings.warn(msg, RuntimeWarning)\n",
        "/Library/Python/2.7/site-packages/scipy-0.13.0.dev_c31f167_20130514-py2.7-macosx-10.8-intel.egg/scipy/optimize/zeros.py:149: RuntimeWarning: Tolerance of -3.99556961646e+15 reached\n",
        "  warnings.warn(msg, RuntimeWarning)\n"
       ]
      },
      {
       "output_type": "stream",
       "stream": "stderr",
       "text": [
        "/Library/Python/2.7/site-packages/scipy-0.13.0.dev_c31f167_20130514-py2.7-macosx-10.8-intel.egg/scipy/optimize/zeros.py:149: RuntimeWarning: Tolerance of 3.66318534603e+15 reached\n",
        "  warnings.warn(msg, RuntimeWarning)\n",
        "/Library/Python/2.7/site-packages/scipy-0.13.0.dev_c31f167_20130514-py2.7-macosx-10.8-intel.egg/scipy/optimize/zeros.py:149: RuntimeWarning: Tolerance of 2.74709195022e+14 reached\n",
        "  warnings.warn(msg, RuntimeWarning)\n"
       ]
      },
      {
       "output_type": "stream",
       "stream": "stderr",
       "text": [
        "/Library/Python/2.7/site-packages/scipy-0.13.0.dev_c31f167_20130514-py2.7-macosx-10.8-intel.egg/scipy/optimize/zeros.py:149: RuntimeWarning: Tolerance of -1.28072132233e+16 reached\n",
        "  warnings.warn(msg, RuntimeWarning)\n",
        "/Library/Python/2.7/site-packages/scipy-0.13.0.dev_c31f167_20130514-py2.7-macosx-10.8-intel.egg/scipy/optimize/zeros.py:149: RuntimeWarning: Tolerance of 9.57516466012e+12 reached\n",
        "  warnings.warn(msg, RuntimeWarning)\n"
       ]
      },
      {
       "output_type": "stream",
       "stream": "stderr",
       "text": [
        "/Library/Python/2.7/site-packages/scipy-0.13.0.dev_c31f167_20130514-py2.7-macosx-10.8-intel.egg/scipy/optimize/zeros.py:149: RuntimeWarning: Tolerance of 9.85063351694e+14 reached\n",
        "  warnings.warn(msg, RuntimeWarning)\n",
        "/Library/Python/2.7/site-packages/scipy-0.13.0.dev_c31f167_20130514-py2.7-macosx-10.8-intel.egg/scipy/optimize/zeros.py:149: RuntimeWarning: Tolerance of 2.200966807e+14 reached\n",
        "  warnings.warn(msg, RuntimeWarning)\n"
       ]
      },
      {
       "output_type": "stream",
       "stream": "stderr",
       "text": [
        "/Library/Python/2.7/site-packages/scipy-0.13.0.dev_c31f167_20130514-py2.7-macosx-10.8-intel.egg/scipy/optimize/zeros.py:149: RuntimeWarning: Tolerance of 2.94409331004e+13 reached\n",
        "  warnings.warn(msg, RuntimeWarning)\n",
        "/Library/Python/2.7/site-packages/scipy-0.13.0.dev_c31f167_20130514-py2.7-macosx-10.8-intel.egg/scipy/optimize/zeros.py:149: RuntimeWarning: Tolerance of 3.72051156638e+15 reached\n",
        "  warnings.warn(msg, RuntimeWarning)\n"
       ]
      },
      {
       "output_type": "stream",
       "stream": "stderr",
       "text": [
        "/Library/Python/2.7/site-packages/scipy-0.13.0.dev_c31f167_20130514-py2.7-macosx-10.8-intel.egg/scipy/optimize/zeros.py:149: RuntimeWarning: Tolerance of -1.14382121991e+15 reached\n",
        "  warnings.warn(msg, RuntimeWarning)\n",
        "/Library/Python/2.7/site-packages/scipy-0.13.0.dev_c31f167_20130514-py2.7-macosx-10.8-intel.egg/scipy/optimize/zeros.py:149: RuntimeWarning: Tolerance of 4.62599594175e+15 reached\n",
        "  warnings.warn(msg, RuntimeWarning)\n"
       ]
      },
      {
       "output_type": "stream",
       "stream": "stderr",
       "text": [
        "/Library/Python/2.7/site-packages/scipy-0.13.0.dev_c31f167_20130514-py2.7-macosx-10.8-intel.egg/scipy/optimize/zeros.py:149: RuntimeWarning: Tolerance of 3.47617324079e+14 reached\n",
        "  warnings.warn(msg, RuntimeWarning)\n",
        "/Library/Python/2.7/site-packages/scipy-0.13.0.dev_c31f167_20130514-py2.7-macosx-10.8-intel.egg/scipy/optimize/zeros.py:149: RuntimeWarning: Tolerance of -6.65795572904e+13 reached\n",
        "  warnings.warn(msg, RuntimeWarning)\n"
       ]
      },
      {
       "output_type": "stream",
       "stream": "stderr",
       "text": [
        "/Library/Python/2.7/site-packages/scipy-0.13.0.dev_c31f167_20130514-py2.7-macosx-10.8-intel.egg/scipy/optimize/zeros.py:149: RuntimeWarning: Tolerance of 3.5558054436e+13 reached\n",
        "  warnings.warn(msg, RuntimeWarning)\n",
        "/Library/Python/2.7/site-packages/scipy-0.13.0.dev_c31f167_20130514-py2.7-macosx-10.8-intel.egg/scipy/optimize/zeros.py:149: RuntimeWarning: Tolerance of -6.24610876662e+14 reached\n",
        "  warnings.warn(msg, RuntimeWarning)\n"
       ]
      },
      {
       "output_type": "stream",
       "stream": "stdout",
       "text": [
        "\n",
        "deleting item T1map_LL"
       ]
      },
      {
       "output_type": "stream",
       "stream": "stdout",
       "text": [
        "\n",
        "deleting item T1map_LL_fitdict"
       ]
      },
      {
       "output_type": "stream",
       "stream": "stderr",
       "text": [
        "WARNING:sarpy.io.BRUKERIO:NSLICES not equal to number of ACQ_obj_order\n"
       ]
      },
      {
       "output_type": "stream",
       "stream": "stderr",
       "text": [
        "/Library/Python/2.7/site-packages/scipy-0.13.0.dev_c31f167_20130514-py2.7-macosx-10.8-intel.egg/scipy/optimize/zeros.py:149: RuntimeWarning: Tolerance of 1.29946292033e+15 reached\n",
        "  warnings.warn(msg, RuntimeWarning)\n",
        "/Library/Python/2.7/site-packages/scipy-0.13.0.dev_c31f167_20130514-py2.7-macosx-10.8-intel.egg/scipy/optimize/zeros.py:149: RuntimeWarning: Tolerance of 9.95326277472e+15 reached\n",
        "  warnings.warn(msg, RuntimeWarning)\n"
       ]
      },
      {
       "output_type": "stream",
       "stream": "stderr",
       "text": [
        "/Library/Python/2.7/site-packages/scipy-0.13.0.dev_c31f167_20130514-py2.7-macosx-10.8-intel.egg/scipy/optimize/zeros.py:149: RuntimeWarning: Tolerance of 5.7486258841e+14 reached\n",
        "  warnings.warn(msg, RuntimeWarning)\n",
        "/Library/Python/2.7/site-packages/scipy-0.13.0.dev_c31f167_20130514-py2.7-macosx-10.8-intel.egg/scipy/optimize/zeros.py:149: RuntimeWarning: Tolerance of 3.20034867239e+14 reached\n",
        "  warnings.warn(msg, RuntimeWarning)\n"
       ]
      },
      {
       "output_type": "stream",
       "stream": "stderr",
       "text": [
        "/Library/Python/2.7/site-packages/scipy-0.13.0.dev_c31f167_20130514-py2.7-macosx-10.8-intel.egg/scipy/optimize/zeros.py:149: RuntimeWarning: Tolerance of 3.07561824446e+16 reached\n",
        "  warnings.warn(msg, RuntimeWarning)\n",
        "/Library/Python/2.7/site-packages/scipy-0.13.0.dev_c31f167_20130514-py2.7-macosx-10.8-intel.egg/scipy/optimize/zeros.py:149: RuntimeWarning: Tolerance of -4.85253518185e+13 reached\n",
        "  warnings.warn(msg, RuntimeWarning)\n"
       ]
      },
      {
       "output_type": "stream",
       "stream": "stderr",
       "text": [
        "/Library/Python/2.7/site-packages/scipy-0.13.0.dev_c31f167_20130514-py2.7-macosx-10.8-intel.egg/scipy/optimize/zeros.py:149: RuntimeWarning: Tolerance of -9.45848901606e+14 reached\n",
        "  warnings.warn(msg, RuntimeWarning)\n",
        "/Library/Python/2.7/site-packages/scipy-0.13.0.dev_c31f167_20130514-py2.7-macosx-10.8-intel.egg/scipy/optimize/zeros.py:149: RuntimeWarning: Tolerance of -6.70086592436e-07 reached\n",
        "  warnings.warn(msg, RuntimeWarning)\n"
       ]
      },
      {
       "output_type": "stream",
       "stream": "stderr",
       "text": [
        "/Library/Python/2.7/site-packages/scipy-0.13.0.dev_c31f167_20130514-py2.7-macosx-10.8-intel.egg/scipy/optimize/zeros.py:149: RuntimeWarning: Tolerance of 3.28278264378e+16 reached\n",
        "  warnings.warn(msg, RuntimeWarning)\n",
        "/Library/Python/2.7/site-packages/scipy-0.13.0.dev_c31f167_20130514-py2.7-macosx-10.8-intel.egg/scipy/optimize/zeros.py:149: RuntimeWarning: Tolerance of -7.66665710998e+13 reached\n",
        "  warnings.warn(msg, RuntimeWarning)\n"
       ]
      },
      {
       "output_type": "stream",
       "stream": "stderr",
       "text": [
        "/Library/Python/2.7/site-packages/scipy-0.13.0.dev_c31f167_20130514-py2.7-macosx-10.8-intel.egg/scipy/optimize/zeros.py:149: RuntimeWarning: Tolerance of -6.7915797004e+14 reached\n",
        "  warnings.warn(msg, RuntimeWarning)\n",
        "/Library/Python/2.7/site-packages/scipy-0.13.0.dev_c31f167_20130514-py2.7-macosx-10.8-intel.egg/scipy/optimize/zeros.py:149: RuntimeWarning: Tolerance of 3.56301672722e+14 reached\n",
        "  warnings.warn(msg, RuntimeWarning)\n"
       ]
      },
      {
       "output_type": "stream",
       "stream": "stderr",
       "text": [
        "/Library/Python/2.7/site-packages/scipy-0.13.0.dev_c31f167_20130514-py2.7-macosx-10.8-intel.egg/scipy/optimize/zeros.py:149: RuntimeWarning: Tolerance of -2.15938066261e+13 reached\n",
        "  warnings.warn(msg, RuntimeWarning)\n",
        "/Library/Python/2.7/site-packages/scipy-0.13.0.dev_c31f167_20130514-py2.7-macosx-10.8-intel.egg/scipy/optimize/zeros.py:149: RuntimeWarning: Tolerance of 5.0582046687e+15 reached\n",
        "  warnings.warn(msg, RuntimeWarning)\n"
       ]
      },
      {
       "output_type": "stream",
       "stream": "stderr",
       "text": [
        "/Library/Python/2.7/site-packages/scipy-0.13.0.dev_c31f167_20130514-py2.7-macosx-10.8-intel.egg/scipy/optimize/zeros.py:149: RuntimeWarning: Tolerance of -2.58016669212e+14 reached\n",
        "  warnings.warn(msg, RuntimeWarning)\n",
        "/Library/Python/2.7/site-packages/scipy-0.13.0.dev_c31f167_20130514-py2.7-macosx-10.8-intel.egg/scipy/optimize/zeros.py:149: RuntimeWarning: Tolerance of 3.00719094736e+14 reached\n",
        "  warnings.warn(msg, RuntimeWarning)\n"
       ]
      },
      {
       "output_type": "stream",
       "stream": "stderr",
       "text": [
        "/Library/Python/2.7/site-packages/scipy-0.13.0.dev_c31f167_20130514-py2.7-macosx-10.8-intel.egg/scipy/optimize/zeros.py:149: RuntimeWarning: Tolerance of 3.42073284175e+15 reached\n",
        "  warnings.warn(msg, RuntimeWarning)\n",
        "/Library/Python/2.7/site-packages/scipy-0.13.0.dev_c31f167_20130514-py2.7-macosx-10.8-intel.egg/scipy/optimize/zeros.py:149: RuntimeWarning: Tolerance of -2.75335751763e+12 reached\n",
        "  warnings.warn(msg, RuntimeWarning)\n"
       ]
      },
      {
       "output_type": "stream",
       "stream": "stderr",
       "text": [
        "/Library/Python/2.7/site-packages/scipy-0.13.0.dev_c31f167_20130514-py2.7-macosx-10.8-intel.egg/scipy/optimize/zeros.py:149: RuntimeWarning: Tolerance of -1.74385194037e+16 reached\n",
        "  warnings.warn(msg, RuntimeWarning)\n",
        "/Library/Python/2.7/site-packages/scipy-0.13.0.dev_c31f167_20130514-py2.7-macosx-10.8-intel.egg/scipy/optimize/zeros.py:149: RuntimeWarning: Tolerance of -3.23452630442e+12 reached\n",
        "  warnings.warn(msg, RuntimeWarning)\n"
       ]
      },
      {
       "output_type": "stream",
       "stream": "stdout",
       "text": [
        "\n",
        "deleting item T1map_LL"
       ]
      },
      {
       "output_type": "stream",
       "stream": "stdout",
       "text": [
        "\n",
        "deleting item T1map_LL_fitdict"
       ]
      },
      {
       "output_type": "stream",
       "stream": "stderr",
       "text": [
        "WARNING:sarpy.io.BRUKERIO:NSLICES not equal to number of ACQ_obj_order\n"
       ]
      },
      {
       "output_type": "stream",
       "stream": "stderr",
       "text": [
        "/Library/Python/2.7/site-packages/scipy-0.13.0.dev_c31f167_20130514-py2.7-macosx-10.8-intel.egg/scipy/optimize/zeros.py:149: RuntimeWarning: Tolerance of -2.57288681507e+15 reached\n",
        "  warnings.warn(msg, RuntimeWarning)\n",
        "/Library/Python/2.7/site-packages/scipy-0.13.0.dev_c31f167_20130514-py2.7-macosx-10.8-intel.egg/scipy/optimize/zeros.py:149: RuntimeWarning: Tolerance of 4.01648394845e+16 reached\n",
        "  warnings.warn(msg, RuntimeWarning)\n"
       ]
      },
      {
       "output_type": "stream",
       "stream": "stderr",
       "text": [
        "/Library/Python/2.7/site-packages/scipy-0.13.0.dev_c31f167_20130514-py2.7-macosx-10.8-intel.egg/scipy/optimize/zeros.py:149: RuntimeWarning: Tolerance of -5.97845424767e+15 reached\n",
        "  warnings.warn(msg, RuntimeWarning)\n",
        "/Library/Python/2.7/site-packages/scipy-0.13.0.dev_c31f167_20130514-py2.7-macosx-10.8-intel.egg/scipy/optimize/zeros.py:149: RuntimeWarning: Tolerance of 6.48315798434e+14 reached\n",
        "  warnings.warn(msg, RuntimeWarning)\n"
       ]
      },
      {
       "output_type": "stream",
       "stream": "stderr",
       "text": [
        "/Library/Python/2.7/site-packages/scipy-0.13.0.dev_c31f167_20130514-py2.7-macosx-10.8-intel.egg/scipy/optimize/zeros.py:149: RuntimeWarning: Tolerance of -4.54086710801e+16 reached\n",
        "  warnings.warn(msg, RuntimeWarning)\n",
        "/Library/Python/2.7/site-packages/scipy-0.13.0.dev_c31f167_20130514-py2.7-macosx-10.8-intel.egg/scipy/optimize/zeros.py:149: RuntimeWarning: Tolerance of -8.69310193377e+14 reached\n",
        "  warnings.warn(msg, RuntimeWarning)\n"
       ]
      },
      {
       "output_type": "stream",
       "stream": "stderr",
       "text": [
        "/Library/Python/2.7/site-packages/scipy-0.13.0.dev_c31f167_20130514-py2.7-macosx-10.8-intel.egg/scipy/optimize/zeros.py:149: RuntimeWarning: Tolerance of 5.72268534332e+14 reached\n",
        "  warnings.warn(msg, RuntimeWarning)\n",
        "/Library/Python/2.7/site-packages/scipy-0.13.0.dev_c31f167_20130514-py2.7-macosx-10.8-intel.egg/scipy/optimize/zeros.py:149: RuntimeWarning: Tolerance of -3.68784272514e+15 reached\n",
        "  warnings.warn(msg, RuntimeWarning)\n"
       ]
      },
      {
       "output_type": "stream",
       "stream": "stderr",
       "text": [
        "/Library/Python/2.7/site-packages/scipy-0.13.0.dev_c31f167_20130514-py2.7-macosx-10.8-intel.egg/scipy/optimize/zeros.py:149: RuntimeWarning: Tolerance of 831838941096.0 reached\n",
        "  warnings.warn(msg, RuntimeWarning)\n",
        "/Library/Python/2.7/site-packages/scipy-0.13.0.dev_c31f167_20130514-py2.7-macosx-10.8-intel.egg/scipy/optimize/zeros.py:149: RuntimeWarning: Tolerance of 1.40347368347e+15 reached\n",
        "  warnings.warn(msg, RuntimeWarning)\n"
       ]
      },
      {
       "output_type": "stream",
       "stream": "stderr",
       "text": [
        "/Library/Python/2.7/site-packages/scipy-0.13.0.dev_c31f167_20130514-py2.7-macosx-10.8-intel.egg/scipy/optimize/zeros.py:149: RuntimeWarning: Tolerance of 3.81926655672e+16 reached\n",
        "  warnings.warn(msg, RuntimeWarning)\n",
        "/Library/Python/2.7/site-packages/scipy-0.13.0.dev_c31f167_20130514-py2.7-macosx-10.8-intel.egg/scipy/optimize/zeros.py:149: RuntimeWarning: Tolerance of 1.32067398175e+15 reached\n",
        "  warnings.warn(msg, RuntimeWarning)\n"
       ]
      },
      {
       "output_type": "stream",
       "stream": "stderr",
       "text": [
        "/Library/Python/2.7/site-packages/scipy-0.13.0.dev_c31f167_20130514-py2.7-macosx-10.8-intel.egg/scipy/optimize/zeros.py:149: RuntimeWarning: Tolerance of -1.54825036193e+15 reached\n",
        "  warnings.warn(msg, RuntimeWarning)\n",
        "/Library/Python/2.7/site-packages/scipy-0.13.0.dev_c31f167_20130514-py2.7-macosx-10.8-intel.egg/scipy/optimize/zeros.py:149: RuntimeWarning: Tolerance of 3.51403629998e+15 reached\n",
        "  warnings.warn(msg, RuntimeWarning)\n"
       ]
      },
      {
       "output_type": "stream",
       "stream": "stderr",
       "text": [
        "/Library/Python/2.7/site-packages/scipy-0.13.0.dev_c31f167_20130514-py2.7-macosx-10.8-intel.egg/scipy/optimize/zeros.py:149: RuntimeWarning: Tolerance of 6.28260809675e+15 reached\n",
        "  warnings.warn(msg, RuntimeWarning)\n",
        "/Library/Python/2.7/site-packages/scipy-0.13.0.dev_c31f167_20130514-py2.7-macosx-10.8-intel.egg/scipy/optimize/zeros.py:149: RuntimeWarning: Tolerance of 1.32954263041e+16 reached\n",
        "  warnings.warn(msg, RuntimeWarning)\n"
       ]
      },
      {
       "output_type": "stream",
       "stream": "stderr",
       "text": [
        "/Library/Python/2.7/site-packages/scipy-0.13.0.dev_c31f167_20130514-py2.7-macosx-10.8-intel.egg/scipy/optimize/zeros.py:149: RuntimeWarning: Tolerance of -1.12371182175e+16 reached\n",
        "  warnings.warn(msg, RuntimeWarning)\n",
        "/Library/Python/2.7/site-packages/scipy-0.13.0.dev_c31f167_20130514-py2.7-macosx-10.8-intel.egg/scipy/optimize/zeros.py:149: RuntimeWarning: Tolerance of 1.31699641341e+16 reached\n",
        "  warnings.warn(msg, RuntimeWarning)\n"
       ]
      },
      {
       "output_type": "stream",
       "stream": "stderr",
       "text": [
        "/Library/Python/2.7/site-packages/scipy-0.13.0.dev_c31f167_20130514-py2.7-macosx-10.8-intel.egg/scipy/optimize/zeros.py:149: RuntimeWarning: Tolerance of 3.43047456269e+12 reached\n",
        "  warnings.warn(msg, RuntimeWarning)\n",
        "/Library/Python/2.7/site-packages/scipy-0.13.0.dev_c31f167_20130514-py2.7-macosx-10.8-intel.egg/scipy/optimize/zeros.py:149: RuntimeWarning: Tolerance of 7.09420109173e+15 reached\n",
        "  warnings.warn(msg, RuntimeWarning)\n"
       ]
      },
      {
       "output_type": "stream",
       "stream": "stderr",
       "text": [
        "/Library/Python/2.7/site-packages/scipy-0.13.0.dev_c31f167_20130514-py2.7-macosx-10.8-intel.egg/scipy/optimize/zeros.py:149: RuntimeWarning: Tolerance of -7.69662339861e+15 reached\n",
        "  warnings.warn(msg, RuntimeWarning)\n",
        "/Library/Python/2.7/site-packages/scipy-0.13.0.dev_c31f167_20130514-py2.7-macosx-10.8-intel.egg/scipy/optimize/zeros.py:149: RuntimeWarning: Tolerance of 4.12837835029e-07 reached\n",
        "  warnings.warn(msg, RuntimeWarning)\n"
       ]
      },
      {
       "output_type": "stream",
       "stream": "stderr",
       "text": [
        "/Library/Python/2.7/site-packages/scipy-0.13.0.dev_c31f167_20130514-py2.7-macosx-10.8-intel.egg/scipy/optimize/zeros.py:149: RuntimeWarning: Tolerance of -113637875012.0 reached\n",
        "  warnings.warn(msg, RuntimeWarning)\n",
        "/Library/Python/2.7/site-packages/scipy-0.13.0.dev_c31f167_20130514-py2.7-macosx-10.8-intel.egg/scipy/optimize/zeros.py:149: RuntimeWarning: Tolerance of -1.13251360355e+14 reached\n",
        "  warnings.warn(msg, RuntimeWarning)\n"
       ]
      },
      {
       "output_type": "stream",
       "stream": "stderr",
       "text": [
        "/Library/Python/2.7/site-packages/scipy-0.13.0.dev_c31f167_20130514-py2.7-macosx-10.8-intel.egg/scipy/optimize/zeros.py:149: RuntimeWarning: Tolerance of 1.11678296758e+15 reached\n",
        "  warnings.warn(msg, RuntimeWarning)\n",
        "/Library/Python/2.7/site-packages/scipy-0.13.0.dev_c31f167_20130514-py2.7-macosx-10.8-intel.egg/scipy/optimize/zeros.py:149: RuntimeWarning: Tolerance of 5.22632763544e+15 reached\n",
        "  warnings.warn(msg, RuntimeWarning)\n"
       ]
      },
      {
       "output_type": "stream",
       "stream": "stderr",
       "text": [
        "/Library/Python/2.7/site-packages/scipy-0.13.0.dev_c31f167_20130514-py2.7-macosx-10.8-intel.egg/scipy/optimize/zeros.py:149: RuntimeWarning: Tolerance of -5.42018718982e+15 reached\n",
        "  warnings.warn(msg, RuntimeWarning)\n",
        "/Library/Python/2.7/site-packages/scipy-0.13.0.dev_c31f167_20130514-py2.7-macosx-10.8-intel.egg/scipy/optimize/zeros.py:149: RuntimeWarning: Tolerance of -3.19128236998e+15 reached\n",
        "  warnings.warn(msg, RuntimeWarning)\n"
       ]
      },
      {
       "output_type": "stream",
       "stream": "stderr",
       "text": [
        "/Library/Python/2.7/site-packages/scipy-0.13.0.dev_c31f167_20130514-py2.7-macosx-10.8-intel.egg/scipy/optimize/zeros.py:149: RuntimeWarning: Tolerance of -1.28161577059e+15 reached\n",
        "  warnings.warn(msg, RuntimeWarning)\n",
        "/Library/Python/2.7/site-packages/scipy-0.13.0.dev_c31f167_20130514-py2.7-macosx-10.8-intel.egg/scipy/optimize/zeros.py:149: RuntimeWarning: Tolerance of 8.41003007205e+15 reached\n",
        "  warnings.warn(msg, RuntimeWarning)\n"
       ]
      },
      {
       "output_type": "stream",
       "stream": "stdout",
       "text": [
        "\n",
        "deleting item T1map_LL"
       ]
      },
      {
       "output_type": "stream",
       "stream": "stdout",
       "text": [
        "\n",
        "deleting item T1map_LL_fitdict"
       ]
      },
      {
       "output_type": "stream",
       "stream": "stderr",
       "text": [
        "/Library/Python/2.7/site-packages/scipy-0.13.0.dev_c31f167_20130514-py2.7-macosx-10.8-intel.egg/scipy/optimize/zeros.py:149: RuntimeWarning: Tolerance of -1.64134043174e+13 reached\n",
        "  warnings.warn(msg, RuntimeWarning)\n",
        "WARNING:sarpy.io.BRUKERIO:NSLICES not equal to number of ACQ_obj_order\n"
       ]
      },
      {
       "output_type": "stream",
       "stream": "stderr",
       "text": [
        "/Library/Python/2.7/site-packages/scipy-0.13.0.dev_c31f167_20130514-py2.7-macosx-10.8-intel.egg/scipy/optimize/zeros.py:149: RuntimeWarning: Tolerance of -3.38234804098e+14 reached\n",
        "  warnings.warn(msg, RuntimeWarning)\n",
        "/Library/Python/2.7/site-packages/scipy-0.13.0.dev_c31f167_20130514-py2.7-macosx-10.8-intel.egg/scipy/optimize/zeros.py:149: RuntimeWarning: Tolerance of -2.52868811937e+16 reached\n",
        "  warnings.warn(msg, RuntimeWarning)\n"
       ]
      },
      {
       "output_type": "stream",
       "stream": "stderr",
       "text": [
        "/Library/Python/2.7/site-packages/scipy-0.13.0.dev_c31f167_20130514-py2.7-macosx-10.8-intel.egg/scipy/optimize/zeros.py:149: RuntimeWarning: Tolerance of 2.34170955636e+16 reached\n",
        "  warnings.warn(msg, RuntimeWarning)\n",
        "/Library/Python/2.7/site-packages/scipy-0.13.0.dev_c31f167_20130514-py2.7-macosx-10.8-intel.egg/scipy/optimize/zeros.py:149: RuntimeWarning: Tolerance of -7.02788885084e+14 reached\n",
        "  warnings.warn(msg, RuntimeWarning)\n"
       ]
      },
      {
       "output_type": "stream",
       "stream": "stderr",
       "text": [
        "/Library/Python/2.7/site-packages/scipy-0.13.0.dev_c31f167_20130514-py2.7-macosx-10.8-intel.egg/scipy/optimize/zeros.py:149: RuntimeWarning: Tolerance of -2.44408454221e+16 reached\n",
        "  warnings.warn(msg, RuntimeWarning)\n",
        "/Library/Python/2.7/site-packages/scipy-0.13.0.dev_c31f167_20130514-py2.7-macosx-10.8-intel.egg/scipy/optimize/zeros.py:149: RuntimeWarning: Tolerance of 1.61816290427e+16 reached\n",
        "  warnings.warn(msg, RuntimeWarning)\n"
       ]
      },
      {
       "output_type": "stream",
       "stream": "stderr",
       "text": [
        "/Library/Python/2.7/site-packages/scipy-0.13.0.dev_c31f167_20130514-py2.7-macosx-10.8-intel.egg/scipy/optimize/zeros.py:149: RuntimeWarning: Tolerance of -3.67211799771e+14 reached\n",
        "  warnings.warn(msg, RuntimeWarning)\n",
        "/Library/Python/2.7/site-packages/scipy-0.13.0.dev_c31f167_20130514-py2.7-macosx-10.8-intel.egg/scipy/optimize/zeros.py:149: RuntimeWarning: Tolerance of 2.78600654269e+14 reached\n",
        "  warnings.warn(msg, RuntimeWarning)\n"
       ]
      },
      {
       "output_type": "stream",
       "stream": "stderr",
       "text": [
        "/Library/Python/2.7/site-packages/scipy-0.13.0.dev_c31f167_20130514-py2.7-macosx-10.8-intel.egg/scipy/optimize/zeros.py:149: RuntimeWarning: Tolerance of 2.009547332e+15 reached\n",
        "  warnings.warn(msg, RuntimeWarning)\n",
        "/Library/Python/2.7/site-packages/scipy-0.13.0.dev_c31f167_20130514-py2.7-macosx-10.8-intel.egg/scipy/optimize/zeros.py:149: RuntimeWarning: Tolerance of -8.48425440899e+13 reached\n",
        "  warnings.warn(msg, RuntimeWarning)\n"
       ]
      },
      {
       "output_type": "stream",
       "stream": "stderr",
       "text": [
        "/Library/Python/2.7/site-packages/scipy-0.13.0.dev_c31f167_20130514-py2.7-macosx-10.8-intel.egg/scipy/optimize/zeros.py:149: RuntimeWarning: Tolerance of -1.82182171672e+14 reached\n",
        "  warnings.warn(msg, RuntimeWarning)\n",
        "/Library/Python/2.7/site-packages/scipy-0.13.0.dev_c31f167_20130514-py2.7-macosx-10.8-intel.egg/scipy/optimize/zeros.py:149: RuntimeWarning: Tolerance of -7.65526641579e+13 reached\n",
        "  warnings.warn(msg, RuntimeWarning)\n"
       ]
      },
      {
       "output_type": "stream",
       "stream": "stderr",
       "text": [
        "/Library/Python/2.7/site-packages/scipy-0.13.0.dev_c31f167_20130514-py2.7-macosx-10.8-intel.egg/scipy/optimize/zeros.py:149: RuntimeWarning: Tolerance of 5.69073573476e+13 reached\n",
        "  warnings.warn(msg, RuntimeWarning)\n",
        "/Library/Python/2.7/site-packages/scipy-0.13.0.dev_c31f167_20130514-py2.7-macosx-10.8-intel.egg/scipy/optimize/zeros.py:149: RuntimeWarning: Tolerance of -3.24972534732e+14 reached\n",
        "  warnings.warn(msg, RuntimeWarning)\n"
       ]
      },
      {
       "output_type": "stream",
       "stream": "stderr",
       "text": [
        "/Library/Python/2.7/site-packages/scipy-0.13.0.dev_c31f167_20130514-py2.7-macosx-10.8-intel.egg/scipy/optimize/zeros.py:149: RuntimeWarning: Tolerance of 4.47278265916e+14 reached\n",
        "  warnings.warn(msg, RuntimeWarning)\n",
        "/Library/Python/2.7/site-packages/scipy-0.13.0.dev_c31f167_20130514-py2.7-macosx-10.8-intel.egg/scipy/optimize/zeros.py:149: RuntimeWarning: Tolerance of -5.04348899201e+15 reached\n",
        "  warnings.warn(msg, RuntimeWarning)\n"
       ]
      },
      {
       "output_type": "stream",
       "stream": "stderr",
       "text": [
        "/Library/Python/2.7/site-packages/scipy-0.13.0.dev_c31f167_20130514-py2.7-macosx-10.8-intel.egg/scipy/optimize/zeros.py:149: RuntimeWarning: Tolerance of -1.70937735794e+14 reached\n",
        "  warnings.warn(msg, RuntimeWarning)\n",
        "/Library/Python/2.7/site-packages/scipy-0.13.0.dev_c31f167_20130514-py2.7-macosx-10.8-intel.egg/scipy/optimize/zeros.py:149: RuntimeWarning: Tolerance of -2.59933928043e+14 reached\n",
        "  warnings.warn(msg, RuntimeWarning)\n"
       ]
      },
      {
       "output_type": "stream",
       "stream": "stdout",
       "text": [
        "\n",
        "deleting item T1map_LL"
       ]
      },
      {
       "output_type": "stream",
       "stream": "stdout",
       "text": [
        "\n",
        "deleting item T1map_LL_fitdict"
       ]
      },
      {
       "output_type": "stream",
       "stream": "stderr",
       "text": [
        "WARNING:sarpy.io.BRUKERIO:NSLICES not equal to number of ACQ_obj_order\n"
       ]
      },
      {
       "output_type": "stream",
       "stream": "stderr",
       "text": [
        "/Library/Python/2.7/site-packages/scipy-0.13.0.dev_c31f167_20130514-py2.7-macosx-10.8-intel.egg/scipy/optimize/zeros.py:149: RuntimeWarning: Tolerance of -7.59804483815e+14 reached\n",
        "  warnings.warn(msg, RuntimeWarning)\n",
        "/Library/Python/2.7/site-packages/scipy-0.13.0.dev_c31f167_20130514-py2.7-macosx-10.8-intel.egg/scipy/optimize/zeros.py:149: RuntimeWarning: Tolerance of -1.25102082992e+15 reached\n",
        "  warnings.warn(msg, RuntimeWarning)\n"
       ]
      },
      {
       "output_type": "stream",
       "stream": "stderr",
       "text": [
        "/Library/Python/2.7/site-packages/scipy-0.13.0.dev_c31f167_20130514-py2.7-macosx-10.8-intel.egg/scipy/optimize/zeros.py:149: RuntimeWarning: Tolerance of 3.33803570515e+14 reached\n",
        "  warnings.warn(msg, RuntimeWarning)\n",
        "/Library/Python/2.7/site-packages/scipy-0.13.0.dev_c31f167_20130514-py2.7-macosx-10.8-intel.egg/scipy/optimize/zeros.py:149: RuntimeWarning: Tolerance of -1.65044932973e+16 reached\n",
        "  warnings.warn(msg, RuntimeWarning)\n"
       ]
      },
      {
       "output_type": "stream",
       "stream": "stdout",
       "text": [
        "\n",
        "deleting item T1map_LL"
       ]
      },
      {
       "output_type": "stream",
       "stream": "stdout",
       "text": [
        "\n",
        "deleting item T1map_LL_fitdict"
       ]
      },
      {
       "output_type": "stream",
       "stream": "stderr",
       "text": [
        "/Library/Python/2.7/site-packages/scipy-0.13.0.dev_c31f167_20130514-py2.7-macosx-10.8-intel.egg/scipy/optimize/zeros.py:149: RuntimeWarning: Tolerance of -1.94679533647e+15 reached\n",
        "  warnings.warn(msg, RuntimeWarning)\n",
        "WARNING:sarpy.io.BRUKERIO:NSLICES not equal to number of ACQ_obj_order\n"
       ]
      },
      {
       "output_type": "stream",
       "stream": "stderr",
       "text": [
        "/Library/Python/2.7/site-packages/scipy-0.13.0.dev_c31f167_20130514-py2.7-macosx-10.8-intel.egg/scipy/optimize/zeros.py:149: RuntimeWarning: Tolerance of -2.55818367836e+15 reached\n",
        "  warnings.warn(msg, RuntimeWarning)\n",
        "/Library/Python/2.7/site-packages/scipy-0.13.0.dev_c31f167_20130514-py2.7-macosx-10.8-intel.egg/scipy/optimize/zeros.py:149: RuntimeWarning: Tolerance of -3.2459495161e+13 reached\n",
        "  warnings.warn(msg, RuntimeWarning)\n"
       ]
      },
      {
       "output_type": "stream",
       "stream": "stderr",
       "text": [
        "/Library/Python/2.7/site-packages/scipy-0.13.0.dev_c31f167_20130514-py2.7-macosx-10.8-intel.egg/scipy/optimize/zeros.py:149: RuntimeWarning: Tolerance of 8.45781121368e+13 reached\n",
        "  warnings.warn(msg, RuntimeWarning)\n",
        "/Library/Python/2.7/site-packages/scipy-0.13.0.dev_c31f167_20130514-py2.7-macosx-10.8-intel.egg/scipy/optimize/zeros.py:149: RuntimeWarning: Tolerance of -4.13047047137e+15 reached\n",
        "  warnings.warn(msg, RuntimeWarning)\n"
       ]
      },
      {
       "output_type": "stream",
       "stream": "stderr",
       "text": [
        "/Library/Python/2.7/site-packages/scipy-0.13.0.dev_c31f167_20130514-py2.7-macosx-10.8-intel.egg/scipy/optimize/zeros.py:149: RuntimeWarning: Tolerance of -2.51166633636e+14 reached\n",
        "  warnings.warn(msg, RuntimeWarning)\n",
        "/Library/Python/2.7/site-packages/scipy-0.13.0.dev_c31f167_20130514-py2.7-macosx-10.8-intel.egg/scipy/optimize/zeros.py:149: RuntimeWarning: Tolerance of 4.64284932742e+15 reached\n",
        "  warnings.warn(msg, RuntimeWarning)\n"
       ]
      },
      {
       "output_type": "stream",
       "stream": "stderr",
       "text": [
        "/Library/Python/2.7/site-packages/scipy-0.13.0.dev_c31f167_20130514-py2.7-macosx-10.8-intel.egg/scipy/optimize/zeros.py:149: RuntimeWarning: Tolerance of -5.68064606388e+14 reached\n",
        "  warnings.warn(msg, RuntimeWarning)\n",
        "/Library/Python/2.7/site-packages/scipy-0.13.0.dev_c31f167_20130514-py2.7-macosx-10.8-intel.egg/scipy/optimize/zeros.py:149: RuntimeWarning: Tolerance of 4.82522547409e+14 reached\n",
        "  warnings.warn(msg, RuntimeWarning)\n"
       ]
      },
      {
       "output_type": "stream",
       "stream": "stderr",
       "text": [
        "/Library/Python/2.7/site-packages/scipy-0.13.0.dev_c31f167_20130514-py2.7-macosx-10.8-intel.egg/scipy/optimize/zeros.py:149: RuntimeWarning: Tolerance of -3.19383972597e+14 reached\n",
        "  warnings.warn(msg, RuntimeWarning)\n",
        "/Library/Python/2.7/site-packages/scipy-0.13.0.dev_c31f167_20130514-py2.7-macosx-10.8-intel.egg/scipy/optimize/zeros.py:149: RuntimeWarning: Tolerance of 6.06327754485e+15 reached\n",
        "  warnings.warn(msg, RuntimeWarning)\n"
       ]
      },
      {
       "output_type": "stream",
       "stream": "stdout",
       "text": [
        "\n",
        "deleting item T1map_LL"
       ]
      },
      {
       "output_type": "stream",
       "stream": "stdout",
       "text": [
        "\n",
        "deleting item T1map_LL_fitdict"
       ]
      },
      {
       "output_type": "stream",
       "stream": "stderr",
       "text": [
        "WARNING:sarpy.io.BRUKERIO:NSLICES not equal to number of ACQ_obj_order\n"
       ]
      },
      {
       "output_type": "stream",
       "stream": "stderr",
       "text": [
        "/Library/Python/2.7/site-packages/scipy-0.13.0.dev_c31f167_20130514-py2.7-macosx-10.8-intel.egg/scipy/optimize/zeros.py:149: RuntimeWarning: Tolerance of -3.42129227685e+14 reached\n",
        "  warnings.warn(msg, RuntimeWarning)\n",
        "/Library/Python/2.7/site-packages/scipy-0.13.0.dev_c31f167_20130514-py2.7-macosx-10.8-intel.egg/scipy/optimize/zeros.py:149: RuntimeWarning: Tolerance of 3.7551626425e+15 reached\n",
        "  warnings.warn(msg, RuntimeWarning)\n"
       ]
      },
      {
       "output_type": "stream",
       "stream": "stderr",
       "text": [
        "/Library/Python/2.7/site-packages/scipy-0.13.0.dev_c31f167_20130514-py2.7-macosx-10.8-intel.egg/scipy/optimize/zeros.py:149: RuntimeWarning: Tolerance of 2.60763312412e+15 reached\n",
        "  warnings.warn(msg, RuntimeWarning)\n",
        "/Library/Python/2.7/site-packages/scipy-0.13.0.dev_c31f167_20130514-py2.7-macosx-10.8-intel.egg/scipy/optimize/zeros.py:149: RuntimeWarning: Tolerance of 6.44935434718e+14 reached\n",
        "  warnings.warn(msg, RuntimeWarning)\n"
       ]
      },
      {
       "output_type": "stream",
       "stream": "stderr",
       "text": [
        "/Library/Python/2.7/site-packages/scipy-0.13.0.dev_c31f167_20130514-py2.7-macosx-10.8-intel.egg/scipy/optimize/zeros.py:149: RuntimeWarning: Tolerance of 2.79815650862e+14 reached\n",
        "  warnings.warn(msg, RuntimeWarning)\n",
        "/Library/Python/2.7/site-packages/scipy-0.13.0.dev_c31f167_20130514-py2.7-macosx-10.8-intel.egg/scipy/optimize/zeros.py:149: RuntimeWarning: Tolerance of -5.4348160314e+15 reached\n",
        "  warnings.warn(msg, RuntimeWarning)\n"
       ]
      },
      {
       "output_type": "stream",
       "stream": "stderr",
       "text": [
        "/Library/Python/2.7/site-packages/scipy-0.13.0.dev_c31f167_20130514-py2.7-macosx-10.8-intel.egg/scipy/optimize/zeros.py:149: RuntimeWarning: Tolerance of -2.08081962205e+15 reached\n",
        "  warnings.warn(msg, RuntimeWarning)\n",
        "/Library/Python/2.7/site-packages/scipy-0.13.0.dev_c31f167_20130514-py2.7-macosx-10.8-intel.egg/scipy/optimize/zeros.py:149: RuntimeWarning: Tolerance of -1.64249095538e+14 reached\n",
        "  warnings.warn(msg, RuntimeWarning)\n"
       ]
      },
      {
       "output_type": "stream",
       "stream": "stderr",
       "text": [
        "/Library/Python/2.7/site-packages/scipy-0.13.0.dev_c31f167_20130514-py2.7-macosx-10.8-intel.egg/scipy/optimize/zeros.py:149: RuntimeWarning: Tolerance of 2.11423500859e+12 reached\n",
        "  warnings.warn(msg, RuntimeWarning)\n",
        "/Library/Python/2.7/site-packages/scipy-0.13.0.dev_c31f167_20130514-py2.7-macosx-10.8-intel.egg/scipy/optimize/zeros.py:149: RuntimeWarning: Tolerance of 1.93301366417e+13 reached\n",
        "  warnings.warn(msg, RuntimeWarning)\n"
       ]
      },
      {
       "output_type": "stream",
       "stream": "stderr",
       "text": [
        "/Library/Python/2.7/site-packages/scipy-0.13.0.dev_c31f167_20130514-py2.7-macosx-10.8-intel.egg/scipy/optimize/zeros.py:149: RuntimeWarning: Tolerance of 7.80751404238e+15 reached\n",
        "  warnings.warn(msg, RuntimeWarning)\n",
        "/Library/Python/2.7/site-packages/scipy-0.13.0.dev_c31f167_20130514-py2.7-macosx-10.8-intel.egg/scipy/optimize/zeros.py:149: RuntimeWarning: Tolerance of 2.51826043994e+15 reached\n",
        "  warnings.warn(msg, RuntimeWarning)\n"
       ]
      },
      {
       "output_type": "stream",
       "stream": "stderr",
       "text": [
        "/Library/Python/2.7/site-packages/scipy-0.13.0.dev_c31f167_20130514-py2.7-macosx-10.8-intel.egg/scipy/optimize/zeros.py:149: RuntimeWarning: Tolerance of -1.55107570845e+14 reached\n",
        "  warnings.warn(msg, RuntimeWarning)\n",
        "/Library/Python/2.7/site-packages/scipy-0.13.0.dev_c31f167_20130514-py2.7-macosx-10.8-intel.egg/scipy/optimize/zeros.py:149: RuntimeWarning: Tolerance of 8.65896685421e+15 reached\n",
        "  warnings.warn(msg, RuntimeWarning)\n"
       ]
      },
      {
       "output_type": "stream",
       "stream": "stderr",
       "text": [
        "/Library/Python/2.7/site-packages/scipy-0.13.0.dev_c31f167_20130514-py2.7-macosx-10.8-intel.egg/scipy/optimize/zeros.py:149: RuntimeWarning: Tolerance of -3.42600416304e+15 reached\n",
        "  warnings.warn(msg, RuntimeWarning)\n",
        "/Library/Python/2.7/site-packages/scipy-0.13.0.dev_c31f167_20130514-py2.7-macosx-10.8-intel.egg/scipy/optimize/zeros.py:149: RuntimeWarning: Tolerance of -1.70808971402e+14 reached\n",
        "  warnings.warn(msg, RuntimeWarning)\n"
       ]
      },
      {
       "output_type": "stream",
       "stream": "stdout",
       "text": [
        "\n",
        "deleting item T1map_LL"
       ]
      },
      {
       "output_type": "stream",
       "stream": "stdout",
       "text": [
        "\n",
        "deleting item T1map_LL_fitdict"
       ]
      },
      {
       "output_type": "stream",
       "stream": "stdout",
       "text": [
        "\n",
        "deleting item vtc"
       ]
      },
      {
       "output_type": "stream",
       "stream": "stdout",
       "text": [
        "\n",
        "vtc: Not found HerS10Do02 and 24h-DCE"
       ]
      },
      {
       "output_type": "stream",
       "stream": "stdout",
       "text": [
        "\n",
        "deleting item vtc"
       ]
      },
      {
       "output_type": "stream",
       "stream": "stdout",
       "text": [
        "\n",
        "deleting item vtc"
       ]
      },
      {
       "output_type": "stream",
       "stream": "stdout",
       "text": [
        "\n",
        "deleting item vtc"
       ]
      },
      {
       "output_type": "stream",
       "stream": "stdout",
       "text": [
        "\n",
        "deleting item vtc"
       ]
      },
      {
       "output_type": "stream",
       "stream": "stdout",
       "text": [
        "\n",
        "deleting item vtc"
       ]
      },
      {
       "output_type": "stream",
       "stream": "stdout",
       "text": [
        "\n",
        "deleting item vtc"
       ]
      },
      {
       "output_type": "stream",
       "stream": "stdout",
       "text": [
        "\n",
        "deleting item vtc"
       ]
      },
      {
       "output_type": "stream",
       "stream": "stdout",
       "text": [
        "\n",
        "deleting item vtc"
       ]
      },
      {
       "output_type": "stream",
       "stream": "stdout",
       "text": [
        "\n",
        "deleting item vtc"
       ]
      },
      {
       "output_type": "stream",
       "stream": "stdout",
       "text": [
        "\n",
        "deleting item vtc"
       ]
      },
      {
       "output_type": "stream",
       "stream": "stdout",
       "text": [
        "\n",
        "deleting item vtc"
       ]
      },
      {
       "output_type": "stream",
       "stream": "stdout",
       "text": [
        "\n",
        "deleting item vtc"
       ]
      },
      {
       "output_type": "stream",
       "stream": "stdout",
       "text": [
        "\n"
       ]
      },
      {
       "output_type": "stream",
       "stream": "stderr",
       "text": [
        "/Library/Python/2.7/site-packages/scipy-0.13.0.dev_c31f167_20130514-py2.7-macosx-10.8-intel.egg/scipy/optimize/zeros.py:149: RuntimeWarning: Tolerance of -5.68873755984e+13 reached\n",
        "  warnings.warn(msg, RuntimeWarning)\n"
       ]
      }
     ],
     "prompt_number": 5
    },
    {
     "cell_type": "markdown",
     "metadata": {},
     "source": [
      "## Step 4: Transfer ROIs to other scans via (resampling onto)"
     ]
    },
    {
     "cell_type": "code",
     "collapsed": false,
     "input": [
      "fFlag = True\n",
      "reload(sarpy.fmoosvi.wrappers)\n",
      "label = []\n",
      "label.append('T1map_LL')\n",
      "label.append('auc60')\n",
      "\n",
      "for l in label:\n",
      "    sarpy.fmoosvi.wrappers.bulk_transfer_roi(masterlist,l, forceVal = fFlag)"
     ],
     "language": "python",
     "metadata": {},
     "outputs": [
      {
       "output_type": "stream",
       "stream": "stdout",
       "text": [
        "deleting item T1map_LL_roi\n",
        "bulk_transfer_roi: Success. Saved T1map_LL_roi in HerS10Do01.kZ1/5"
       ]
      },
      {
       "output_type": "stream",
       "stream": "stdout",
       "text": [
        "\n",
        "deleting item T1map_LL_roi"
       ]
      },
      {
       "output_type": "stream",
       "stream": "stdout",
       "text": [
        "\n",
        "bulk_transfer_roi: Success. Saved T1map_LL_roi in HerS10Do01.l01/5"
       ]
      },
      {
       "output_type": "stream",
       "stream": "stdout",
       "text": [
        "\n",
        "deleting item T1map_LL_roi\n",
        "bulk_transfer_roi: Success. Saved T1map_LL_roi in HerS10Do01.l01/9"
       ]
      },
      {
       "output_type": "stream",
       "stream": "stdout",
       "text": [
        "\n",
        "deleting item T1map_LL_roi"
       ]
      },
      {
       "output_type": "stream",
       "stream": "stdout",
       "text": [
        "\n",
        "bulk_transfer_roi: Success. Saved T1map_LL_roi in HerS10Do02.kZ1/5"
       ]
      },
      {
       "output_type": "stream",
       "stream": "stdout",
       "text": [
        "\n",
        "deleting item T1map_LL_roi"
       ]
      },
      {
       "output_type": "stream",
       "stream": "stdout",
       "text": [
        "\n",
        "bulk_transfer_roi: Success. Saved T1map_LL_roi in HerS10Do02.l01/4"
       ]
      },
      {
       "output_type": "stream",
       "stream": "stdout",
       "text": [
        "\n",
        "deleting item T1map_LL_roi"
       ]
      },
      {
       "output_type": "stream",
       "stream": "stdout",
       "text": [
        "\n",
        "bulk_transfer_roi: Success. Saved T1map_LL_roi in HerS10Do04.kZ1/5"
       ]
      },
      {
       "output_type": "stream",
       "stream": "stdout",
       "text": [
        "\n",
        "deleting item T1map_LL_roi"
       ]
      },
      {
       "output_type": "stream",
       "stream": "stdout",
       "text": [
        "\n",
        "bulk_transfer_roi: Success. Saved T1map_LL_roi in HerS10Do04.l01/4"
       ]
      },
      {
       "output_type": "stream",
       "stream": "stdout",
       "text": [
        "\n",
        "deleting item T1map_LL_roi\n",
        "bulk_transfer_roi: Success. Saved T1map_LL_roi in HerS10Do04.l01/8"
       ]
      },
      {
       "output_type": "stream",
       "stream": "stdout",
       "text": [
        "\n",
        "deleting item T1map_LL_roi"
       ]
      },
      {
       "output_type": "stream",
       "stream": "stdout",
       "text": [
        "\n",
        "bulk_transfer_roi: Success. Saved T1map_LL_roi in HerS10Do05.kZ1/5"
       ]
      },
      {
       "output_type": "stream",
       "stream": "stdout",
       "text": [
        "\n",
        "deleting item T1map_LL_roi"
       ]
      },
      {
       "output_type": "stream",
       "stream": "stdout",
       "text": [
        "\n",
        "bulk_transfer_roi: Success. Saved T1map_LL_roi in HerS10Do05.l01/4"
       ]
      },
      {
       "output_type": "stream",
       "stream": "stdout",
       "text": [
        "\n",
        "deleting item T1map_LL_roi\n",
        "bulk_transfer_roi: Success. Saved T1map_LL_roi in HerS10Do05.l01/8"
       ]
      },
      {
       "output_type": "stream",
       "stream": "stdout",
       "text": [
        "\n",
        "deleting item T1map_LL_roi"
       ]
      },
      {
       "output_type": "stream",
       "stream": "stdout",
       "text": [
        "\n",
        "bulk_transfer_roi: Success. Saved T1map_LL_roi in HerS10Do06.l01/5"
       ]
      },
      {
       "output_type": "stream",
       "stream": "stdout",
       "text": [
        "\n",
        "deleting item T1map_LL_roi"
       ]
      },
      {
       "output_type": "stream",
       "stream": "stdout",
       "text": [
        "\n",
        "bulk_transfer_roi: Success. Saved T1map_LL_roi in HerS10Do06.l11/5"
       ]
      },
      {
       "output_type": "stream",
       "stream": "stdout",
       "text": [
        "\n",
        "deleting item T1map_LL_roi\n",
        "bulk_transfer_roi: Success. Saved T1map_LL_roi in HerS10Do06.l11/9"
       ]
      },
      {
       "output_type": "stream",
       "stream": "stdout",
       "text": [
        "\n",
        "deleting item T1map_LL_roi"
       ]
      },
      {
       "output_type": "stream",
       "stream": "stdout",
       "text": [
        "\n",
        "bulk_transfer_roi: Success. Saved T1map_LL_roi in HerS10Do07.l01/5"
       ]
      },
      {
       "output_type": "stream",
       "stream": "stdout",
       "text": [
        "\n",
        "deleting item T1map_LL_roi"
       ]
      },
      {
       "output_type": "stream",
       "stream": "stdout",
       "text": [
        "\n",
        "bulk_transfer_roi: Success. Saved T1map_LL_roi in HerS10Do07.l11/5"
       ]
      },
      {
       "output_type": "stream",
       "stream": "stdout",
       "text": [
        "\n",
        "deleting item T1map_LL_roi\n",
        "bulk_transfer_roi: Success. Saved T1map_LL_roi in HerS10Do07.l11/9"
       ]
      },
      {
       "output_type": "stream",
       "stream": "stdout",
       "text": [
        "\n",
        "deleting item T1map_LL_roi"
       ]
      },
      {
       "output_type": "stream",
       "stream": "stdout",
       "text": [
        "\n",
        "bulk_transfer_roi: Success. Saved T1map_LL_roi in HerS10Do08.l01/5"
       ]
      },
      {
       "output_type": "stream",
       "stream": "stdout",
       "text": [
        "\n",
        "deleting item T1map_LL_roi"
       ]
      },
      {
       "output_type": "stream",
       "stream": "stdout",
       "text": [
        "\n",
        "bulk_transfer_roi: Success. Saved T1map_LL_roi in HerS10Do08.l11/5"
       ]
      },
      {
       "output_type": "stream",
       "stream": "stdout",
       "text": [
        "\n",
        "deleting item T1map_LL_roi\n",
        "bulk_transfer_roi: Success. Saved T1map_LL_roi in HerS10Do08.l11/9"
       ]
      },
      {
       "output_type": "stream",
       "stream": "stdout",
       "text": [
        "\n",
        "deleting item T1map_LL_roi"
       ]
      },
      {
       "output_type": "stream",
       "stream": "stdout",
       "text": [
        "\n",
        "bulk_transfer_roi: Success. Saved T1map_LL_roi in HerS10Do09.l01/5"
       ]
      },
      {
       "output_type": "stream",
       "stream": "stdout",
       "text": [
        "\n",
        "deleting item T1map_LL_roi"
       ]
      },
      {
       "output_type": "stream",
       "stream": "stdout",
       "text": [
        "\n",
        "bulk_transfer_roi: Success. Saved T1map_LL_roi in HerS10Do09.l11/4"
       ]
      },
      {
       "output_type": "stream",
       "stream": "stdout",
       "text": [
        "\n",
        "deleting item T1map_LL_roi\n",
        "bulk_transfer_roi: Success. Saved T1map_LL_roi in HerS10Do09.l11/8"
       ]
      },
      {
       "output_type": "stream",
       "stream": "stdout",
       "text": [
        "\n",
        "deleting item T1map_LL_roi"
       ]
      },
      {
       "output_type": "stream",
       "stream": "stdout",
       "text": [
        "\n",
        "bulk_transfer_roi: Success. Saved T1map_LL_roi in HerS10Do10.l01/5"
       ]
      },
      {
       "output_type": "stream",
       "stream": "stdout",
       "text": [
        "\n",
        "deleting item T1map_LL_roi"
       ]
      },
      {
       "output_type": "stream",
       "stream": "stdout",
       "text": [
        "\n",
        "bulk_transfer_roi: Success. Saved T1map_LL_roi in HerS10Do10.l11/4"
       ]
      },
      {
       "output_type": "stream",
       "stream": "stdout",
       "text": [
        "\n",
        "deleting item T1map_LL_roi\n",
        "bulk_transfer_roi: Success. Saved T1map_LL_roi in HerS10Do10.l11/8"
       ]
      },
      {
       "output_type": "stream",
       "stream": "stdout",
       "text": [
        "\n",
        "deleting item T1map_LL_roi"
       ]
      },
      {
       "output_type": "stream",
       "stream": "stdout",
       "text": [
        "\n",
        "bulk_transfer_roi: Success. Saved T1map_LL_roi in HerS10Do11.l01/4"
       ]
      },
      {
       "output_type": "stream",
       "stream": "stdout",
       "text": [
        "\n",
        "deleting item T1map_LL_roi"
       ]
      },
      {
       "output_type": "stream",
       "stream": "stdout",
       "text": [
        "\n",
        "bulk_transfer_roi: Success. Saved T1map_LL_roi in HerS10Do11.l11/4"
       ]
      },
      {
       "output_type": "stream",
       "stream": "stdout",
       "text": [
        "\n",
        "deleting item T1map_LL_roi\n",
        "bulk_transfer_roi: Success. Saved T1map_LL_roi in HerS10Do11.l11/8"
       ]
      },
      {
       "output_type": "stream",
       "stream": "stdout",
       "text": [
        "\n",
        "deleting item T1map_LL_roi"
       ]
      },
      {
       "output_type": "stream",
       "stream": "stdout",
       "text": [
        "\n",
        "bulk_transfer_roi: Success. Saved T1map_LL_roi in HerS10Do16.l61/8"
       ]
      },
      {
       "output_type": "stream",
       "stream": "stdout",
       "text": [
        "\n",
        "deleting item T1map_LL_roi"
       ]
      },
      {
       "output_type": "stream",
       "stream": "stdout",
       "text": [
        "\n",
        "bulk_transfer_roi: Success. Saved T1map_LL_roi in HerS10Do16.l71/4"
       ]
      },
      {
       "output_type": "stream",
       "stream": "stdout",
       "text": [
        "\n",
        "deleting item T1map_LL_roi\n",
        "bulk_transfer_roi: Success. Saved T1map_LL_roi in HerS10Do16.l71/8"
       ]
      },
      {
       "output_type": "stream",
       "stream": "stdout",
       "text": [
        "\n",
        "deleting item T1map_LL_roi"
       ]
      },
      {
       "output_type": "stream",
       "stream": "stdout",
       "text": [
        "\n",
        "bulk_transfer_roi: Success. Saved T1map_LL_roi in HerS10Do17.l61/4"
       ]
      },
      {
       "output_type": "stream",
       "stream": "stdout",
       "text": [
        "\n",
        "deleting item T1map_LL_roi"
       ]
      },
      {
       "output_type": "stream",
       "stream": "stdout",
       "text": [
        "\n",
        "bulk_transfer_roi: Success. Saved T1map_LL_roi in HerS10Do17.l71/4"
       ]
      },
      {
       "output_type": "stream",
       "stream": "stdout",
       "text": [
        "\n",
        "deleting item T1map_LL_roi\n",
        "bulk_transfer_roi: Success. Saved T1map_LL_roi in HerS10Do17.l71/8"
       ]
      },
      {
       "output_type": "stream",
       "stream": "stdout",
       "text": [
        "\n",
        "deleting item T1map_LL_roi"
       ]
      },
      {
       "output_type": "stream",
       "stream": "stdout",
       "text": [
        "\n",
        "bulk_transfer_roi: Success. Saved T1map_LL_roi in HerS10Do18.l61/4"
       ]
      },
      {
       "output_type": "stream",
       "stream": "stdout",
       "text": [
        "\n",
        "deleting item T1map_LL_roi"
       ]
      },
      {
       "output_type": "stream",
       "stream": "stdout",
       "text": [
        "\n",
        "bulk_transfer_roi: Success. Saved T1map_LL_roi in HerS10Do18.l71/5"
       ]
      },
      {
       "output_type": "stream",
       "stream": "stdout",
       "text": [
        "\n",
        "deleting item T1map_LL_roi\n",
        "bulk_transfer_roi: Success. Saved T1map_LL_roi in HerS10Do18.l71/9"
       ]
      },
      {
       "output_type": "stream",
       "stream": "stdout",
       "text": [
        "\n",
        "deleting item T1map_LL_roi"
       ]
      },
      {
       "output_type": "stream",
       "stream": "stdout",
       "text": [
        "\n",
        "bulk_transfer_roi: Success. Saved T1map_LL_roi in HerS10Do19.l61/4"
       ]
      },
      {
       "output_type": "stream",
       "stream": "stdout",
       "text": [
        "\n",
        "deleting item T1map_LL_roi"
       ]
      },
      {
       "output_type": "stream",
       "stream": "stdout",
       "text": [
        "\n",
        "bulk_transfer_roi: Success. Saved T1map_LL_roi in HerS10Do19.l71/4"
       ]
      },
      {
       "output_type": "stream",
       "stream": "stdout",
       "text": [
        "\n",
        "deleting item T1map_LL_roi\n",
        "bulk_transfer_roi: Success. Saved T1map_LL_roi in HerS10Do19.l71/8"
       ]
      },
      {
       "output_type": "stream",
       "stream": "stdout",
       "text": [
        "\n",
        "Firas: you really need to fix this function so it uses the masterlist\n",
        "bulk_transfer_roi: auc60 not found in study HerS10Do01.kZ1"
       ]
      },
      {
       "output_type": "stream",
       "stream": "stdout",
       "text": [
        "\n",
        "deleting item auc60_roi"
       ]
      },
      {
       "output_type": "stream",
       "stream": "stdout",
       "text": [
        "\n",
        "bulk_transfer_roi: Success. Saved auc60_roi in HerS10Do01.l01/8"
       ]
      },
      {
       "output_type": "stream",
       "stream": "stdout",
       "text": [
        "\n",
        "bulk_transfer_roi: auc60 not found in study HerS10Do02.kZ1"
       ]
      },
      {
       "output_type": "stream",
       "stream": "stdout",
       "text": [
        "\n",
        "bulk_transfer_roi: auc60 not found in study HerS10Do02.l01"
       ]
      },
      {
       "output_type": "stream",
       "stream": "stdout",
       "text": [
        "\n",
        "bulk_transfer_roi: auc60 not found in study HerS10Do04.kZ1"
       ]
      },
      {
       "output_type": "stream",
       "stream": "stdout",
       "text": [
        "\n",
        "deleting item auc60_roi"
       ]
      },
      {
       "output_type": "stream",
       "stream": "stdout",
       "text": [
        "\n",
        "bulk_transfer_roi: Success. Saved auc60_roi in HerS10Do04.l01/7"
       ]
      },
      {
       "output_type": "stream",
       "stream": "stdout",
       "text": [
        "\n",
        "bulk_transfer_roi: auc60 not found in study HerS10Do05.kZ1"
       ]
      },
      {
       "output_type": "stream",
       "stream": "stdout",
       "text": [
        "\n",
        "deleting item auc60_roi"
       ]
      },
      {
       "output_type": "stream",
       "stream": "stdout",
       "text": [
        "\n",
        "bulk_transfer_roi: Success. Saved auc60_roi in HerS10Do05.l01/7"
       ]
      },
      {
       "output_type": "stream",
       "stream": "stdout",
       "text": [
        "\n",
        "bulk_transfer_roi: auc60 not found in study HerS10Do06.l01"
       ]
      },
      {
       "output_type": "stream",
       "stream": "stdout",
       "text": [
        "\n",
        "deleting item auc60_roi"
       ]
      },
      {
       "output_type": "stream",
       "stream": "stdout",
       "text": [
        "\n",
        "bulk_transfer_roi: Success. Saved auc60_roi in HerS10Do06.l11/8"
       ]
      },
      {
       "output_type": "stream",
       "stream": "stdout",
       "text": [
        "\n",
        "bulk_transfer_roi: auc60 not found in study HerS10Do07.l01"
       ]
      },
      {
       "output_type": "stream",
       "stream": "stdout",
       "text": [
        "\n",
        "deleting item auc60_roi"
       ]
      },
      {
       "output_type": "stream",
       "stream": "stdout",
       "text": [
        "\n",
        "bulk_transfer_roi: Success. Saved auc60_roi in HerS10Do07.l11/8"
       ]
      },
      {
       "output_type": "stream",
       "stream": "stdout",
       "text": [
        "\n",
        "bulk_transfer_roi: auc60 not found in study HerS10Do08.l01"
       ]
      },
      {
       "output_type": "stream",
       "stream": "stdout",
       "text": [
        "\n",
        "deleting item auc60_roi"
       ]
      },
      {
       "output_type": "stream",
       "stream": "stdout",
       "text": [
        "\n",
        "bulk_transfer_roi: Success. Saved auc60_roi in HerS10Do08.l11/8"
       ]
      },
      {
       "output_type": "stream",
       "stream": "stdout",
       "text": [
        "\n",
        "bulk_transfer_roi: auc60 not found in study HerS10Do09.l01"
       ]
      },
      {
       "output_type": "stream",
       "stream": "stdout",
       "text": [
        "\n",
        "deleting item auc60_roi"
       ]
      },
      {
       "output_type": "stream",
       "stream": "stdout",
       "text": [
        "\n",
        "bulk_transfer_roi: Success. Saved auc60_roi in HerS10Do09.l11/7"
       ]
      },
      {
       "output_type": "stream",
       "stream": "stdout",
       "text": [
        "\n",
        "bulk_transfer_roi: auc60 not found in study HerS10Do10.l01"
       ]
      },
      {
       "output_type": "stream",
       "stream": "stdout",
       "text": [
        "\n",
        "deleting item auc60_roi"
       ]
      },
      {
       "output_type": "stream",
       "stream": "stdout",
       "text": [
        "\n",
        "bulk_transfer_roi: Success. Saved auc60_roi in HerS10Do10.l11/7"
       ]
      },
      {
       "output_type": "stream",
       "stream": "stdout",
       "text": [
        "\n",
        "bulk_transfer_roi: auc60 not found in study HerS10Do11.l01"
       ]
      },
      {
       "output_type": "stream",
       "stream": "stdout",
       "text": [
        "\n",
        "deleting item auc60_roi"
       ]
      },
      {
       "output_type": "stream",
       "stream": "stdout",
       "text": [
        "\n",
        "bulk_transfer_roi: Success. Saved auc60_roi in HerS10Do11.l11/7"
       ]
      },
      {
       "output_type": "stream",
       "stream": "stdout",
       "text": [
        "\n",
        "bulk_transfer_roi: auc60 not found in study HerS10Do16.l61"
       ]
      },
      {
       "output_type": "stream",
       "stream": "stdout",
       "text": [
        "\n",
        "deleting item auc60_roi"
       ]
      },
      {
       "output_type": "stream",
       "stream": "stdout",
       "text": [
        "\n",
        "bulk_transfer_roi: Success. Saved auc60_roi in HerS10Do16.l71/7"
       ]
      },
      {
       "output_type": "stream",
       "stream": "stdout",
       "text": [
        "\n",
        "bulk_transfer_roi: auc60 not found in study HerS10Do17.l61"
       ]
      },
      {
       "output_type": "stream",
       "stream": "stdout",
       "text": [
        "\n",
        "deleting item auc60_roi"
       ]
      },
      {
       "output_type": "stream",
       "stream": "stdout",
       "text": [
        "\n",
        "bulk_transfer_roi: Success. Saved auc60_roi in HerS10Do17.l71/7"
       ]
      },
      {
       "output_type": "stream",
       "stream": "stdout",
       "text": [
        "\n",
        "bulk_transfer_roi: auc60 not found in study HerS10Do18.l61"
       ]
      },
      {
       "output_type": "stream",
       "stream": "stdout",
       "text": [
        "\n",
        "deleting item auc60_roi"
       ]
      },
      {
       "output_type": "stream",
       "stream": "stdout",
       "text": [
        "\n",
        "bulk_transfer_roi: Success. Saved auc60_roi in HerS10Do18.l71/8"
       ]
      },
      {
       "output_type": "stream",
       "stream": "stdout",
       "text": [
        "\n",
        "bulk_transfer_roi: auc60 not found in study HerS10Do19.l61"
       ]
      },
      {
       "output_type": "stream",
       "stream": "stdout",
       "text": [
        "\n",
        "deleting item auc60_roi"
       ]
      },
      {
       "output_type": "stream",
       "stream": "stdout",
       "text": [
        "\n",
        "bulk_transfer_roi: Success. Saved auc60_roi in HerS10Do19.l71/7"
       ]
      },
      {
       "output_type": "stream",
       "stream": "stdout",
       "text": [
        "\n",
        "Firas: you really need to fix this function so it uses the masterlist\n"
       ]
      }
     ],
     "prompt_number": 6
    },
    {
     "cell_type": "markdown",
     "metadata": {},
     "source": [
      "## Step 5: Perform advanced analyses (requiring ROIs or basic adata)"
     ]
    },
    {
     "cell_type": "code",
     "collapsed": false,
     "input": [
      "fFlag = True\n",
      "adv_analyze_list = []\n",
      "\n",
      "reload(sarpy.fmoosvi.analysis)\n",
      "reload(sarpy.fmoosvi.wrappers)\n",
      "\n",
      "adv_analyze_list.append(['24h-DCE','ec','auc60_roi',fFlag])\n",
      "\n",
      "adv_analyze_list.append(['24h-DCE','-24h-LL','T1map_LL','gd_conc',fFlag])\n",
      "\n",
      "adv_analyze_list.append(['24h-DCE','gd_conc','augc60',fFlag])\n",
      "\n",
      "adv_analyze_list.append(['-24h-LL','+24h-LL','T1map_LL','deltaT1gd',fFlag])\n",
      "\n",
      "\n",
      "for items in adv_analyze_list:\n",
      "    \n",
      "    if items[1] == 'ec':\n",
      "        \n",
      "        sarpy.fmoosvi.wrappers.calc_enhancement_curve(masterlist,\n",
      "                                                      items[0],items[1],\n",
      "                                                      items[2],forceVal=fFlag)\n",
      "    if items[3] == 'gd_conc':\n",
      "        \n",
      "        sarpy.fmoosvi.wrappers.conc_from_signal(masterlist, items[0],\n",
      "                                        data_label_T1map = items[1],\n",
      "                                        adata_label = items[2], \n",
      "                                        analysis_label = items[3],\n",
      "                                        forceVal = fFlag)\n",
      "    elif items[2] == 'augc60':\n",
      "        \n",
      "        sarpy.fmoosvi.wrappers.calc_AUGC(masterlist,\n",
      "                                         items[0], items[1],\n",
      "                                         analysis_label=items[2],\n",
      "                                         forceVal = items[3])\n",
      "    elif items[3] == 'deltaT1gd':\n",
      "        sarpy.fmoosvi.wrappers.store_deltaT1(masterlist, \n",
      "                                         items[0],items[1],\n",
      "                                         adata_label1=items[2],\n",
      "                                         analysis_label=items[3],\n",
      "                                         forceVal = fFlag)"
     ],
     "language": "python",
     "metadata": {},
     "outputs": [
      {
       "output_type": "stream",
       "stream": "stdout",
       "text": [
        "deleting item ec\n",
        "HerS10Do02: Not found 24h-DCE and ec"
       ]
      },
      {
       "output_type": "stream",
       "stream": "stdout",
       "text": [
        "\n",
        "deleting item ec"
       ]
      },
      {
       "output_type": "stream",
       "stream": "stdout",
       "text": [
        "\n",
        "deleting item ec"
       ]
      },
      {
       "output_type": "stream",
       "stream": "stdout",
       "text": [
        "\n",
        "deleting item ec"
       ]
      },
      {
       "output_type": "stream",
       "stream": "stdout",
       "text": [
        "\n",
        "deleting item ec"
       ]
      },
      {
       "output_type": "stream",
       "stream": "stdout",
       "text": [
        "\n",
        "deleting item ec"
       ]
      },
      {
       "output_type": "stream",
       "stream": "stdout",
       "text": [
        "\n",
        "deleting item ec"
       ]
      },
      {
       "output_type": "stream",
       "stream": "stdout",
       "text": [
        "\n",
        "deleting item ec"
       ]
      },
      {
       "output_type": "stream",
       "stream": "stdout",
       "text": [
        "\n",
        "deleting item ec"
       ]
      },
      {
       "output_type": "stream",
       "stream": "stdout",
       "text": [
        "\n",
        "deleting item ec"
       ]
      },
      {
       "output_type": "stream",
       "stream": "stdout",
       "text": [
        "\n",
        "deleting item ec"
       ]
      },
      {
       "output_type": "stream",
       "stream": "stdout",
       "text": [
        "\n",
        "deleting item ec"
       ]
      },
      {
       "output_type": "stream",
       "stream": "stdout",
       "text": [
        "\n",
        "deleting item ec"
       ]
      },
      {
       "output_type": "stream",
       "stream": "stderr",
       "text": [
        "/Library/Python/2.7/site-packages/scipy-0.13.0.dev_c31f167_20130514-py2.7-macosx-10.8-intel.egg/scipy/stats/stats.py:346: RuntimeWarning: invalid value encountered in true_divide\n",
        "  return np.mean(x,axis)/factor\n",
        "/phd/Dropbox/code/python/sarpy/fmoosvi/analysis.py:387: RuntimeWarning: divide by zero encountered in double_scalars\n",
        "  E1 = numpy.exp(-TR/data_t1map[x,y,slice])\n"
       ]
      },
      {
       "output_type": "stream",
       "stream": "stderr",
       "text": [
        "/phd/Dropbox/code/python/sarpy/fmoosvi/analysis.py:400: RuntimeWarning: invalid value encountered in log\n",
        "  T1[x,y,slice,rep] = -TR / numpy.log(E2)\n",
        "/phd/Dropbox/code/python/sarpy/fmoosvi/analysis.py:400: RuntimeWarning: divide by zero encountered in log\n",
        "  T1[x,y,slice,rep] = -TR / numpy.log(E2)\n"
       ]
      },
      {
       "output_type": "stream",
       "stream": "stderr",
       "text": [
        "/phd/Dropbox/code/python/sarpy/fmoosvi/analysis.py:400: RuntimeWarning: divide by zero encountered in double_scalars\n",
        "  T1[x,y,slice,rep] = -TR / numpy.log(E2)\n",
        "/phd/Dropbox/code/python/sarpy/fmoosvi/analysis.py:406: RuntimeWarning: divide by zero encountered in true_divide\n",
        "  conc = (1/relaxivity) * ( (1/T1) - (1/T1baseline) )\n"
       ]
      },
      {
       "output_type": "stream",
       "stream": "stdout",
       "text": [
        "\n",
        "deleting item gd_conc"
       ]
      },
      {
       "output_type": "stream",
       "stream": "stdout",
       "text": [
        "\n",
        "gd_conc: Success. Saved HerS10Do01.l01/8"
       ]
      },
      {
       "output_type": "stream",
       "stream": "stdout",
       "text": [
        "\n",
        "gd_conc: Not found HerS10Do01.l01/8 and 24h-DCE"
       ]
      },
      {
       "output_type": "stream",
       "stream": "stdout",
       "text": [
        "\n",
        "deleting item gd_conc"
       ]
      },
      {
       "output_type": "stream",
       "stream": "stdout",
       "text": [
        "\n",
        "gd_conc: Success. Saved HerS10Do04.l01/7"
       ]
      },
      {
       "output_type": "stream",
       "stream": "stdout",
       "text": [
        "\n",
        "deleting item gd_conc"
       ]
      },
      {
       "output_type": "stream",
       "stream": "stdout",
       "text": [
        "\n",
        "gd_conc: Success. Saved HerS10Do05.l01/7"
       ]
      },
      {
       "output_type": "stream",
       "stream": "stdout",
       "text": [
        "\n",
        "deleting item gd_conc"
       ]
      },
      {
       "output_type": "stream",
       "stream": "stdout",
       "text": [
        "\n",
        "gd_conc: Success. Saved HerS10Do06.l11/8"
       ]
      },
      {
       "output_type": "stream",
       "stream": "stdout",
       "text": [
        "\n",
        "deleting item gd_conc"
       ]
      },
      {
       "output_type": "stream",
       "stream": "stdout",
       "text": [
        "\n",
        "gd_conc: Success. Saved HerS10Do07.l11/8"
       ]
      },
      {
       "output_type": "stream",
       "stream": "stdout",
       "text": [
        "\n",
        "deleting item gd_conc"
       ]
      },
      {
       "output_type": "stream",
       "stream": "stdout",
       "text": [
        "\n",
        "gd_conc: Success. Saved HerS10Do08.l11/8"
       ]
      },
      {
       "output_type": "stream",
       "stream": "stdout",
       "text": [
        "\n",
        "deleting item gd_conc"
       ]
      },
      {
       "output_type": "stream",
       "stream": "stdout",
       "text": [
        "\n",
        "gd_conc: Success. Saved HerS10Do09.l11/7"
       ]
      },
      {
       "output_type": "stream",
       "stream": "stdout",
       "text": [
        "\n",
        "deleting item gd_conc"
       ]
      },
      {
       "output_type": "stream",
       "stream": "stdout",
       "text": [
        "\n",
        "gd_conc: Success. Saved HerS10Do10.l11/7"
       ]
      },
      {
       "output_type": "stream",
       "stream": "stdout",
       "text": [
        "\n",
        "deleting item gd_conc"
       ]
      },
      {
       "output_type": "stream",
       "stream": "stdout",
       "text": [
        "\n",
        "gd_conc: Success. Saved HerS10Do11.l11/7"
       ]
      },
      {
       "output_type": "stream",
       "stream": "stdout",
       "text": [
        "\n",
        "deleting item gd_conc"
       ]
      },
      {
       "output_type": "stream",
       "stream": "stdout",
       "text": [
        "\n",
        "gd_conc: Success. Saved HerS10Do16.l71/7"
       ]
      },
      {
       "output_type": "stream",
       "stream": "stdout",
       "text": [
        "\n",
        "deleting item gd_conc"
       ]
      },
      {
       "output_type": "stream",
       "stream": "stdout",
       "text": [
        "\n",
        "gd_conc: Success. Saved HerS10Do17.l71/7"
       ]
      },
      {
       "output_type": "stream",
       "stream": "stdout",
       "text": [
        "\n",
        "deleting item gd_conc"
       ]
      },
      {
       "output_type": "stream",
       "stream": "stdout",
       "text": [
        "\n",
        "gd_conc: Success. Saved HerS10Do18.l71/8"
       ]
      },
      {
       "output_type": "stream",
       "stream": "stdout",
       "text": [
        "\n",
        "deleting item gd_conc"
       ]
      },
      {
       "output_type": "stream",
       "stream": "stdout",
       "text": [
        "\n",
        "gd_conc: Success. Saved HerS10Do19.l71/7"
       ]
      },
      {
       "output_type": "stream",
       "stream": "stdout",
       "text": [
        "\n",
        "deleting item augc60"
       ]
      },
      {
       "output_type": "stream",
       "stream": "stdout",
       "text": [
        "\n",
        "augc60: Success. Saved HerS10Do01.l01/8"
       ]
      },
      {
       "output_type": "stream",
       "stream": "stdout",
       "text": [
        "\n",
        "augc60: Not found HerS10Do02 and 24h-DCE\n",
        "deleting item augc60"
       ]
      },
      {
       "output_type": "stream",
       "stream": "stdout",
       "text": [
        "\n",
        "augc60: Success. Saved HerS10Do01.l01/8"
       ]
      },
      {
       "output_type": "stream",
       "stream": "stdout",
       "text": [
        "\n",
        "deleting item augc60"
       ]
      },
      {
       "output_type": "stream",
       "stream": "stdout",
       "text": [
        "\n",
        "augc60: Success. Saved HerS10Do04.l01/7"
       ]
      },
      {
       "output_type": "stream",
       "stream": "stdout",
       "text": [
        "\n",
        "deleting item augc60"
       ]
      },
      {
       "output_type": "stream",
       "stream": "stdout",
       "text": [
        "\n",
        "augc60: Success. Saved HerS10Do05.l01/7"
       ]
      },
      {
       "output_type": "stream",
       "stream": "stdout",
       "text": [
        "\n",
        "deleting item augc60"
       ]
      },
      {
       "output_type": "stream",
       "stream": "stdout",
       "text": [
        "\n",
        "augc60: Success. Saved HerS10Do06.l11/8"
       ]
      },
      {
       "output_type": "stream",
       "stream": "stdout",
       "text": [
        "\n",
        "deleting item augc60"
       ]
      },
      {
       "output_type": "stream",
       "stream": "stdout",
       "text": [
        "\n",
        "augc60: Success. Saved HerS10Do07.l11/8"
       ]
      },
      {
       "output_type": "stream",
       "stream": "stdout",
       "text": [
        "\n",
        "deleting item augc60"
       ]
      },
      {
       "output_type": "stream",
       "stream": "stdout",
       "text": [
        "\n",
        "augc60: Success. Saved HerS10Do08.l11/8"
       ]
      },
      {
       "output_type": "stream",
       "stream": "stdout",
       "text": [
        "\n",
        "deleting item augc60"
       ]
      },
      {
       "output_type": "stream",
       "stream": "stdout",
       "text": [
        "\n",
        "augc60: Success. Saved HerS10Do09.l11/7"
       ]
      },
      {
       "output_type": "stream",
       "stream": "stdout",
       "text": [
        "\n",
        "deleting item augc60"
       ]
      },
      {
       "output_type": "stream",
       "stream": "stdout",
       "text": [
        "\n",
        "augc60: Success. Saved HerS10Do10.l11/7"
       ]
      },
      {
       "output_type": "stream",
       "stream": "stdout",
       "text": [
        "\n",
        "deleting item augc60"
       ]
      },
      {
       "output_type": "stream",
       "stream": "stdout",
       "text": [
        "\n",
        "augc60: Success. Saved HerS10Do11.l11/7"
       ]
      },
      {
       "output_type": "stream",
       "stream": "stdout",
       "text": [
        "\n",
        "deleting item augc60"
       ]
      },
      {
       "output_type": "stream",
       "stream": "stdout",
       "text": [
        "\n",
        "augc60: Success. Saved HerS10Do16.l71/7"
       ]
      },
      {
       "output_type": "stream",
       "stream": "stdout",
       "text": [
        "\n",
        "deleting item augc60"
       ]
      },
      {
       "output_type": "stream",
       "stream": "stdout",
       "text": [
        "\n",
        "augc60: Success. Saved HerS10Do17.l71/7"
       ]
      },
      {
       "output_type": "stream",
       "stream": "stdout",
       "text": [
        "\n",
        "deleting item augc60"
       ]
      },
      {
       "output_type": "stream",
       "stream": "stdout",
       "text": [
        "\n",
        "augc60: Success. Saved HerS10Do18.l71/8"
       ]
      },
      {
       "output_type": "stream",
       "stream": "stdout",
       "text": [
        "\n",
        "deleting item augc60"
       ]
      },
      {
       "output_type": "stream",
       "stream": "stdout",
       "text": [
        "\n",
        "augc60: Success. Saved HerS10Do19.l71/7"
       ]
      },
      {
       "output_type": "stream",
       "stream": "stdout",
       "text": [
        "\n",
        "deleting item deltaT1gd"
       ]
      },
      {
       "output_type": "stream",
       "stream": "stdout",
       "text": [
        "\n",
        "deltaT1gd: Success. Saved HerS10Do01.l01/9"
       ]
      },
      {
       "output_type": "stream",
       "stream": "stdout",
       "text": [
        "\n",
        "deltaT1gd: Not found adata T1map_LL or T1map_LL in patient HerS10Do02\n",
        "deleting item deltaT1gd"
       ]
      },
      {
       "output_type": "stream",
       "stream": "stdout",
       "text": [
        "\n",
        "deltaT1gd: Success. Saved HerS10Do04.l01/8"
       ]
      },
      {
       "output_type": "stream",
       "stream": "stdout",
       "text": [
        "\n",
        "deleting item deltaT1gd"
       ]
      },
      {
       "output_type": "stream",
       "stream": "stdout",
       "text": [
        "\n",
        "deltaT1gd: Success. Saved HerS10Do05.l01/8"
       ]
      },
      {
       "output_type": "stream",
       "stream": "stdout",
       "text": [
        "\n",
        "deleting item deltaT1gd"
       ]
      },
      {
       "output_type": "stream",
       "stream": "stdout",
       "text": [
        "\n",
        "deltaT1gd: Success. Saved HerS10Do06.l11/9"
       ]
      },
      {
       "output_type": "stream",
       "stream": "stdout",
       "text": [
        "\n",
        "deleting item deltaT1gd"
       ]
      },
      {
       "output_type": "stream",
       "stream": "stdout",
       "text": [
        "\n",
        "deltaT1gd: Success. Saved HerS10Do07.l11/9"
       ]
      },
      {
       "output_type": "stream",
       "stream": "stdout",
       "text": [
        "\n",
        "deleting item deltaT1gd"
       ]
      },
      {
       "output_type": "stream",
       "stream": "stdout",
       "text": [
        "\n",
        "deltaT1gd: Success. Saved HerS10Do08.l11/9"
       ]
      },
      {
       "output_type": "stream",
       "stream": "stdout",
       "text": [
        "\n",
        "deleting item deltaT1gd"
       ]
      },
      {
       "output_type": "stream",
       "stream": "stdout",
       "text": [
        "\n",
        "deltaT1gd: Success. Saved HerS10Do09.l11/8"
       ]
      },
      {
       "output_type": "stream",
       "stream": "stdout",
       "text": [
        "\n",
        "deleting item deltaT1gd"
       ]
      },
      {
       "output_type": "stream",
       "stream": "stdout",
       "text": [
        "\n",
        "deltaT1gd: Success. Saved HerS10Do10.l11/8"
       ]
      },
      {
       "output_type": "stream",
       "stream": "stdout",
       "text": [
        "\n",
        "deleting item deltaT1gd"
       ]
      },
      {
       "output_type": "stream",
       "stream": "stdout",
       "text": [
        "\n",
        "deltaT1gd: Success. Saved HerS10Do11.l11/8"
       ]
      },
      {
       "output_type": "stream",
       "stream": "stdout",
       "text": [
        "\n",
        "deleting item deltaT1gd"
       ]
      },
      {
       "output_type": "stream",
       "stream": "stdout",
       "text": [
        "\n",
        "deltaT1gd: Success. Saved HerS10Do16.l71/8"
       ]
      },
      {
       "output_type": "stream",
       "stream": "stdout",
       "text": [
        "\n",
        "deleting item deltaT1gd"
       ]
      },
      {
       "output_type": "stream",
       "stream": "stdout",
       "text": [
        "\n",
        "deltaT1gd: Success. Saved HerS10Do17.l71/8"
       ]
      },
      {
       "output_type": "stream",
       "stream": "stdout",
       "text": [
        "\n",
        "deleting item deltaT1gd"
       ]
      },
      {
       "output_type": "stream",
       "stream": "stdout",
       "text": [
        "\n",
        "deltaT1gd: Success. Saved HerS10Do18.l71/9"
       ]
      },
      {
       "output_type": "stream",
       "stream": "stdout",
       "text": [
        "\n",
        "deleting item deltaT1gd"
       ]
      },
      {
       "output_type": "stream",
       "stream": "stdout",
       "text": [
        "\n",
        "deltaT1gd: Success. Saved HerS10Do19.l71/8"
       ]
      },
      {
       "output_type": "stream",
       "stream": "stdout",
       "text": [
        "\n"
       ]
      },
      {
       "output_type": "stream",
       "stream": "stderr",
       "text": [
        "/phd/Dropbox/code/python/sarpy/fmoosvi/analysis.py:406: RuntimeWarning: invalid value encountered in subtract\n",
        "  conc = (1/relaxivity) * ( (1/T1) - (1/T1baseline) )\n"
       ]
      }
     ],
     "prompt_number": 4
    },
    {
     "cell_type": "code",
     "collapsed": false,
     "input": [
      "fFlag = True\n",
      "label = []\n",
      "label.append('augc60')\n",
      "\n",
      "for l in label:\n",
      "    sarpy.fmoosvi.wrappers.bulk_transfer_roi(masterlist,l, forceVal = fFlag)"
     ],
     "language": "python",
     "metadata": {},
     "outputs": [
      {
       "output_type": "stream",
       "stream": "stdout",
       "text": [
        "bulk_transfer_roi: augc60 not found in study HerS10Do01.kZ1\n",
        "deleting item augc60_roi"
       ]
      },
      {
       "output_type": "stream",
       "stream": "stdout",
       "text": [
        "\n",
        "bulk_transfer_roi: Success. Saved augc60_roi in HerS10Do01.l01/8"
       ]
      },
      {
       "output_type": "stream",
       "stream": "stdout",
       "text": [
        "\n",
        "bulk_transfer_roi: augc60 not found in study HerS10Do02.kZ1"
       ]
      },
      {
       "output_type": "stream",
       "stream": "stdout",
       "text": [
        "\n",
        "bulk_transfer_roi: augc60 not found in study HerS10Do02.l01"
       ]
      },
      {
       "output_type": "stream",
       "stream": "stdout",
       "text": [
        "\n",
        "bulk_transfer_roi: augc60 not found in study HerS10Do04.kZ1"
       ]
      },
      {
       "output_type": "stream",
       "stream": "stdout",
       "text": [
        "\n",
        "deleting item augc60_roi"
       ]
      },
      {
       "output_type": "stream",
       "stream": "stdout",
       "text": [
        "\n",
        "bulk_transfer_roi: Success. Saved augc60_roi in HerS10Do04.l01/7"
       ]
      },
      {
       "output_type": "stream",
       "stream": "stdout",
       "text": [
        "\n",
        "bulk_transfer_roi: augc60 not found in study HerS10Do05.kZ1"
       ]
      },
      {
       "output_type": "stream",
       "stream": "stdout",
       "text": [
        "\n",
        "deleting item augc60_roi"
       ]
      },
      {
       "output_type": "stream",
       "stream": "stdout",
       "text": [
        "\n",
        "bulk_transfer_roi: Success. Saved augc60_roi in HerS10Do05.l01/7"
       ]
      },
      {
       "output_type": "stream",
       "stream": "stdout",
       "text": [
        "\n",
        "bulk_transfer_roi: augc60 not found in study HerS10Do06.l01"
       ]
      },
      {
       "output_type": "stream",
       "stream": "stdout",
       "text": [
        "\n",
        "deleting item augc60_roi"
       ]
      },
      {
       "output_type": "stream",
       "stream": "stdout",
       "text": [
        "\n",
        "bulk_transfer_roi: Success. Saved augc60_roi in HerS10Do06.l11/8"
       ]
      },
      {
       "output_type": "stream",
       "stream": "stdout",
       "text": [
        "\n",
        "bulk_transfer_roi: augc60 not found in study HerS10Do07.l01"
       ]
      },
      {
       "output_type": "stream",
       "stream": "stdout",
       "text": [
        "\n",
        "deleting item augc60_roi"
       ]
      },
      {
       "output_type": "stream",
       "stream": "stdout",
       "text": [
        "\n",
        "bulk_transfer_roi: Success. Saved augc60_roi in HerS10Do07.l11/8"
       ]
      },
      {
       "output_type": "stream",
       "stream": "stdout",
       "text": [
        "\n",
        "bulk_transfer_roi: augc60 not found in study HerS10Do08.l01"
       ]
      },
      {
       "output_type": "stream",
       "stream": "stdout",
       "text": [
        "\n",
        "deleting item augc60_roi"
       ]
      },
      {
       "output_type": "stream",
       "stream": "stdout",
       "text": [
        "\n",
        "bulk_transfer_roi: Success. Saved augc60_roi in HerS10Do08.l11/8"
       ]
      },
      {
       "output_type": "stream",
       "stream": "stdout",
       "text": [
        "\n",
        "bulk_transfer_roi: augc60 not found in study HerS10Do09.l01"
       ]
      },
      {
       "output_type": "stream",
       "stream": "stdout",
       "text": [
        "\n",
        "deleting item augc60_roi"
       ]
      },
      {
       "output_type": "stream",
       "stream": "stdout",
       "text": [
        "\n",
        "bulk_transfer_roi: Success. Saved augc60_roi in HerS10Do09.l11/7"
       ]
      },
      {
       "output_type": "stream",
       "stream": "stdout",
       "text": [
        "\n",
        "bulk_transfer_roi: augc60 not found in study HerS10Do10.l01"
       ]
      },
      {
       "output_type": "stream",
       "stream": "stdout",
       "text": [
        "\n",
        "deleting item augc60_roi"
       ]
      },
      {
       "output_type": "stream",
       "stream": "stdout",
       "text": [
        "\n",
        "bulk_transfer_roi: Success. Saved augc60_roi in HerS10Do10.l11/7"
       ]
      },
      {
       "output_type": "stream",
       "stream": "stdout",
       "text": [
        "\n",
        "bulk_transfer_roi: augc60 not found in study HerS10Do11.l01"
       ]
      },
      {
       "output_type": "stream",
       "stream": "stdout",
       "text": [
        "\n",
        "deleting item augc60_roi"
       ]
      },
      {
       "output_type": "stream",
       "stream": "stdout",
       "text": [
        "\n",
        "bulk_transfer_roi: Success. Saved augc60_roi in HerS10Do11.l11/7"
       ]
      },
      {
       "output_type": "stream",
       "stream": "stdout",
       "text": [
        "\n",
        "bulk_transfer_roi: augc60 not found in study HerS10Do16.l61"
       ]
      },
      {
       "output_type": "stream",
       "stream": "stdout",
       "text": [
        "\n",
        "deleting item augc60_roi"
       ]
      },
      {
       "output_type": "stream",
       "stream": "stdout",
       "text": [
        "\n",
        "bulk_transfer_roi: Success. Saved augc60_roi in HerS10Do16.l71/7"
       ]
      },
      {
       "output_type": "stream",
       "stream": "stdout",
       "text": [
        "\n",
        "bulk_transfer_roi: augc60 not found in study HerS10Do17.l61"
       ]
      },
      {
       "output_type": "stream",
       "stream": "stdout",
       "text": [
        "\n",
        "deleting item augc60_roi"
       ]
      },
      {
       "output_type": "stream",
       "stream": "stdout",
       "text": [
        "\n",
        "bulk_transfer_roi: Success. Saved augc60_roi in HerS10Do17.l71/7"
       ]
      },
      {
       "output_type": "stream",
       "stream": "stdout",
       "text": [
        "\n",
        "bulk_transfer_roi: augc60 not found in study HerS10Do18.l61"
       ]
      },
      {
       "output_type": "stream",
       "stream": "stdout",
       "text": [
        "\n",
        "deleting item augc60_roi"
       ]
      },
      {
       "output_type": "stream",
       "stream": "stdout",
       "text": [
        "\n",
        "bulk_transfer_roi: Success. Saved augc60_roi in HerS10Do18.l71/8"
       ]
      },
      {
       "output_type": "stream",
       "stream": "stdout",
       "text": [
        "\n",
        "bulk_transfer_roi: augc60 not found in study HerS10Do19.l61"
       ]
      },
      {
       "output_type": "stream",
       "stream": "stdout",
       "text": [
        "\n",
        "deleting item augc60_roi"
       ]
      },
      {
       "output_type": "stream",
       "stream": "stdout",
       "text": [
        "\n",
        "bulk_transfer_roi: Success. Saved augc60_roi in HerS10Do19.l71/7"
       ]
      },
      {
       "output_type": "stream",
       "stream": "stdout",
       "text": [
        "\n",
        "Firas: you really need to fix this function so it uses the masterlist\n"
       ]
      }
     ],
     "prompt_number": 8
    },
    {
     "cell_type": "code",
     "collapsed": false,
     "input": [
      "print(datetime.now()-startTime)"
     ],
     "language": "python",
     "metadata": {},
     "outputs": [
      {
       "output_type": "stream",
       "stream": "stdout",
       "text": [
        "8:36:13.262757\n"
       ]
      }
     ],
     "prompt_number": 9
    },
    {
     "cell_type": "markdown",
     "metadata": {},
     "source": [
      "## Step 6: Averages"
     ]
    },
    {
     "cell_type": "code",
     "collapsed": false,
     "input": [
      "## T1 average\n",
      "\n",
      "fFlag = True\n",
      "\n",
      "data_label = ['0h-LL','-24h-LL','+24h-LL']\n",
      "adata_label = 'T1map_LL'\n",
      "roi_label = 'T1map_LL_roi'\n",
      "analysis_label = 'T1avg'\n",
      "\n",
      "\n",
      "for s in data_label:\n",
      "    sarpy.fmoosvi.wrappers.roi_average(masterlist,s, adata_label, roi_label,analysis_label,fFlag)"
     ],
     "language": "python",
     "metadata": {},
     "outputs": [
      {
       "output_type": "stream",
       "stream": "stdout",
       "text": [
        "deleting item T1avg\n",
        "T1avg: Success. Saved HerS10Do01.kZ1/5"
       ]
      },
      {
       "output_type": "stream",
       "stream": "stdout",
       "text": [
        "\n",
        "deleting item T1avg"
       ]
      },
      {
       "output_type": "stream",
       "stream": "stdout",
       "text": [
        "\n",
        "T1avg: Success. Saved HerS10Do02.kZ1/5"
       ]
      },
      {
       "output_type": "stream",
       "stream": "stdout",
       "text": [
        "\n",
        "deleting item T1avg"
       ]
      },
      {
       "output_type": "stream",
       "stream": "stdout",
       "text": [
        "\n",
        "T1avg: Success. Saved HerS10Do04.kZ1/5"
       ]
      },
      {
       "output_type": "stream",
       "stream": "stdout",
       "text": [
        "\n",
        "deleting item T1avg"
       ]
      },
      {
       "output_type": "stream",
       "stream": "stdout",
       "text": [
        "\n",
        "T1avg: Success. Saved HerS10Do05.kZ1/5"
       ]
      },
      {
       "output_type": "stream",
       "stream": "stdout",
       "text": [
        "\n",
        "deleting item T1avg"
       ]
      },
      {
       "output_type": "stream",
       "stream": "stdout",
       "text": [
        "\n",
        "T1avg: Success. Saved HerS10Do06.l01/5"
       ]
      },
      {
       "output_type": "stream",
       "stream": "stdout",
       "text": [
        "\n",
        "deleting item T1avg"
       ]
      },
      {
       "output_type": "stream",
       "stream": "stdout",
       "text": [
        "\n",
        "T1avg: Success. Saved HerS10Do07.l01/5"
       ]
      },
      {
       "output_type": "stream",
       "stream": "stdout",
       "text": [
        "\n",
        "deleting item T1avg"
       ]
      },
      {
       "output_type": "stream",
       "stream": "stdout",
       "text": [
        "\n",
        "T1avg: Success. Saved HerS10Do08.l01/5"
       ]
      },
      {
       "output_type": "stream",
       "stream": "stdout",
       "text": [
        "\n",
        "deleting item T1avg"
       ]
      },
      {
       "output_type": "stream",
       "stream": "stdout",
       "text": [
        "\n",
        "T1avg: Success. Saved HerS10Do09.l01/5"
       ]
      },
      {
       "output_type": "stream",
       "stream": "stdout",
       "text": [
        "\n",
        "deleting item T1avg"
       ]
      },
      {
       "output_type": "stream",
       "stream": "stdout",
       "text": [
        "\n",
        "T1avg: Success. Saved HerS10Do10.l01/5"
       ]
      },
      {
       "output_type": "stream",
       "stream": "stdout",
       "text": [
        "\n",
        "deleting item T1avg"
       ]
      },
      {
       "output_type": "stream",
       "stream": "stdout",
       "text": [
        "\n",
        "T1avg: Success. Saved HerS10Do11.l01/4"
       ]
      },
      {
       "output_type": "stream",
       "stream": "stdout",
       "text": [
        "\n",
        "deleting item T1avg"
       ]
      },
      {
       "output_type": "stream",
       "stream": "stdout",
       "text": [
        "\n",
        "T1avg: Success. Saved HerS10Do16.l61/8"
       ]
      },
      {
       "output_type": "stream",
       "stream": "stdout",
       "text": [
        "\n",
        "deleting item T1avg"
       ]
      },
      {
       "output_type": "stream",
       "stream": "stdout",
       "text": [
        "\n",
        "T1avg: Success. Saved HerS10Do17.l61/4"
       ]
      },
      {
       "output_type": "stream",
       "stream": "stdout",
       "text": [
        "\n",
        "deleting item T1avg"
       ]
      },
      {
       "output_type": "stream",
       "stream": "stdout",
       "text": [
        "\n",
        "T1avg: Success. Saved HerS10Do18.l61/4"
       ]
      },
      {
       "output_type": "stream",
       "stream": "stdout",
       "text": [
        "\n",
        "deleting item T1avg"
       ]
      },
      {
       "output_type": "stream",
       "stream": "stdout",
       "text": [
        "\n",
        "T1avg: Success. Saved HerS10Do19.l61/4"
       ]
      },
      {
       "output_type": "stream",
       "stream": "stdout",
       "text": [
        "\n",
        "deleting item T1avg"
       ]
      },
      {
       "output_type": "stream",
       "stream": "stdout",
       "text": [
        "\n",
        "T1avg: Success. Saved HerS10Do01.l01/5"
       ]
      },
      {
       "output_type": "stream",
       "stream": "stdout",
       "text": [
        "\n",
        "deleting item T1avg"
       ]
      },
      {
       "output_type": "stream",
       "stream": "stdout",
       "text": [
        "\n",
        "T1avg: Success. Saved HerS10Do02.l01/4"
       ]
      },
      {
       "output_type": "stream",
       "stream": "stdout",
       "text": [
        "\n",
        "deleting item T1avg"
       ]
      },
      {
       "output_type": "stream",
       "stream": "stdout",
       "text": [
        "\n",
        "T1avg: Success. Saved HerS10Do04.l01/4"
       ]
      },
      {
       "output_type": "stream",
       "stream": "stdout",
       "text": [
        "\n",
        "deleting item T1avg"
       ]
      },
      {
       "output_type": "stream",
       "stream": "stdout",
       "text": [
        "\n",
        "T1avg: Success. Saved HerS10Do05.l01/4"
       ]
      },
      {
       "output_type": "stream",
       "stream": "stdout",
       "text": [
        "\n",
        "deleting item T1avg"
       ]
      },
      {
       "output_type": "stream",
       "stream": "stdout",
       "text": [
        "\n",
        "T1avg: Success. Saved HerS10Do06.l11/5"
       ]
      },
      {
       "output_type": "stream",
       "stream": "stdout",
       "text": [
        "\n",
        "deleting item T1avg"
       ]
      },
      {
       "output_type": "stream",
       "stream": "stdout",
       "text": [
        "\n",
        "T1avg: Success. Saved HerS10Do07.l11/5"
       ]
      },
      {
       "output_type": "stream",
       "stream": "stdout",
       "text": [
        "\n",
        "deleting item T1avg"
       ]
      },
      {
       "output_type": "stream",
       "stream": "stdout",
       "text": [
        "\n",
        "T1avg: Success. Saved HerS10Do08.l11/5"
       ]
      },
      {
       "output_type": "stream",
       "stream": "stdout",
       "text": [
        "\n",
        "deleting item T1avg"
       ]
      },
      {
       "output_type": "stream",
       "stream": "stdout",
       "text": [
        "\n",
        "T1avg: Success. Saved HerS10Do09.l11/4"
       ]
      },
      {
       "output_type": "stream",
       "stream": "stdout",
       "text": [
        "\n",
        "deleting item T1avg"
       ]
      },
      {
       "output_type": "stream",
       "stream": "stdout",
       "text": [
        "\n",
        "T1avg: Success. Saved HerS10Do10.l11/4"
       ]
      },
      {
       "output_type": "stream",
       "stream": "stdout",
       "text": [
        "\n",
        "deleting item T1avg"
       ]
      },
      {
       "output_type": "stream",
       "stream": "stdout",
       "text": [
        "\n",
        "T1avg: Success. Saved HerS10Do11.l11/4"
       ]
      },
      {
       "output_type": "stream",
       "stream": "stdout",
       "text": [
        "\n",
        "deleting item T1avg"
       ]
      },
      {
       "output_type": "stream",
       "stream": "stdout",
       "text": [
        "\n",
        "deleting item T1avg_weights"
       ]
      },
      {
       "output_type": "stream",
       "stream": "stdout",
       "text": [
        "\n",
        "T1avg: Success. Saved HerS10Do16.l71/4"
       ]
      },
      {
       "output_type": "stream",
       "stream": "stdout",
       "text": [
        "\n",
        "deleting item T1avg"
       ]
      },
      {
       "output_type": "stream",
       "stream": "stdout",
       "text": [
        "\n",
        "deleting item T1avg_weights"
       ]
      },
      {
       "output_type": "stream",
       "stream": "stdout",
       "text": [
        "\n",
        "T1avg: Success. Saved HerS10Do17.l71/4"
       ]
      },
      {
       "output_type": "stream",
       "stream": "stdout",
       "text": [
        "\n",
        "deleting item T1avg"
       ]
      },
      {
       "output_type": "stream",
       "stream": "stdout",
       "text": [
        "\n",
        "deleting item T1avg_weights"
       ]
      },
      {
       "output_type": "stream",
       "stream": "stdout",
       "text": [
        "\n",
        "T1avg: Success. Saved HerS10Do18.l71/5"
       ]
      },
      {
       "output_type": "stream",
       "stream": "stdout",
       "text": [
        "\n",
        "deleting item T1avg"
       ]
      },
      {
       "output_type": "stream",
       "stream": "stdout",
       "text": [
        "\n",
        "deleting item T1avg_weights"
       ]
      },
      {
       "output_type": "stream",
       "stream": "stdout",
       "text": [
        "\n",
        "T1avg: Success. Saved HerS10Do19.l71/4"
       ]
      },
      {
       "output_type": "stream",
       "stream": "stdout",
       "text": [
        "\n",
        "deleting item T1avg"
       ]
      },
      {
       "output_type": "stream",
       "stream": "stdout",
       "text": [
        "\n",
        "T1avg: Success. Saved HerS10Do01.l01/9"
       ]
      },
      {
       "output_type": "stream",
       "stream": "stdout",
       "text": [
        "\n",
        "T1avg: Not found adata T1map_LL or T1map_LL_roi in patient HerS10Do02\n",
        "deleting item T1avg"
       ]
      },
      {
       "output_type": "stream",
       "stream": "stdout",
       "text": [
        "\n",
        "T1avg: Success. Saved HerS10Do04.l01/8"
       ]
      },
      {
       "output_type": "stream",
       "stream": "stdout",
       "text": [
        "\n",
        "deleting item T1avg"
       ]
      },
      {
       "output_type": "stream",
       "stream": "stdout",
       "text": [
        "\n",
        "T1avg: Success. Saved HerS10Do05.l01/8"
       ]
      },
      {
       "output_type": "stream",
       "stream": "stdout",
       "text": [
        "\n",
        "deleting item T1avg"
       ]
      },
      {
       "output_type": "stream",
       "stream": "stdout",
       "text": [
        "\n",
        "T1avg: Success. Saved HerS10Do06.l11/9"
       ]
      },
      {
       "output_type": "stream",
       "stream": "stdout",
       "text": [
        "\n",
        "deleting item T1avg"
       ]
      },
      {
       "output_type": "stream",
       "stream": "stdout",
       "text": [
        "\n",
        "T1avg: Success. Saved HerS10Do07.l11/9"
       ]
      },
      {
       "output_type": "stream",
       "stream": "stdout",
       "text": [
        "\n",
        "deleting item T1avg"
       ]
      },
      {
       "output_type": "stream",
       "stream": "stdout",
       "text": [
        "\n",
        "T1avg: Success. Saved HerS10Do08.l11/9"
       ]
      },
      {
       "output_type": "stream",
       "stream": "stdout",
       "text": [
        "\n",
        "deleting item T1avg"
       ]
      },
      {
       "output_type": "stream",
       "stream": "stdout",
       "text": [
        "\n",
        "T1avg: Success. Saved HerS10Do09.l11/8"
       ]
      },
      {
       "output_type": "stream",
       "stream": "stdout",
       "text": [
        "\n",
        "deleting item T1avg"
       ]
      },
      {
       "output_type": "stream",
       "stream": "stdout",
       "text": [
        "\n",
        "T1avg: Success. Saved HerS10Do10.l11/8"
       ]
      },
      {
       "output_type": "stream",
       "stream": "stdout",
       "text": [
        "\n",
        "deleting item T1avg"
       ]
      },
      {
       "output_type": "stream",
       "stream": "stdout",
       "text": [
        "\n",
        "deleting item T1avg_weights"
       ]
      },
      {
       "output_type": "stream",
       "stream": "stdout",
       "text": [
        "\n",
        "T1avg: Success. Saved HerS10Do11.l11/8"
       ]
      },
      {
       "output_type": "stream",
       "stream": "stdout",
       "text": [
        "\n",
        "deleting item T1avg"
       ]
      },
      {
       "output_type": "stream",
       "stream": "stdout",
       "text": [
        "\n",
        "deleting item T1avg_weights"
       ]
      },
      {
       "output_type": "stream",
       "stream": "stdout",
       "text": [
        "\n",
        "T1avg: Success. Saved HerS10Do16.l71/8"
       ]
      },
      {
       "output_type": "stream",
       "stream": "stdout",
       "text": [
        "\n",
        "deleting item T1avg"
       ]
      },
      {
       "output_type": "stream",
       "stream": "stdout",
       "text": [
        "\n",
        "deleting item T1avg_weights"
       ]
      },
      {
       "output_type": "stream",
       "stream": "stdout",
       "text": [
        "\n",
        "T1avg: Success. Saved HerS10Do17.l71/8"
       ]
      },
      {
       "output_type": "stream",
       "stream": "stdout",
       "text": [
        "\n",
        "deleting item T1avg"
       ]
      },
      {
       "output_type": "stream",
       "stream": "stdout",
       "text": [
        "\n",
        "deleting item T1avg_weights"
       ]
      },
      {
       "output_type": "stream",
       "stream": "stdout",
       "text": [
        "\n",
        "T1avg: Success. Saved HerS10Do18.l71/9"
       ]
      },
      {
       "output_type": "stream",
       "stream": "stdout",
       "text": [
        "\n",
        "deleting item T1avg"
       ]
      },
      {
       "output_type": "stream",
       "stream": "stdout",
       "text": [
        "\n",
        "deleting item T1avg_weights"
       ]
      },
      {
       "output_type": "stream",
       "stream": "stdout",
       "text": [
        "\n",
        "T1avg: Success. Saved HerS10Do19.l71/8"
       ]
      },
      {
       "output_type": "stream",
       "stream": "stdout",
       "text": [
        "\n"
       ]
      },
      {
       "output_type": "stream",
       "stream": "stderr",
       "text": [
        "/Library/Python/2.7/site-packages/scipy-0.13.0.dev_c31f167_20130514-py2.7-macosx-10.8-intel.egg/scipy/stats/stats.py:346: RuntimeWarning: invalid value encountered in double_scalars\n",
        "  return np.mean(x,axis)/factor\n"
       ]
      }
     ],
     "prompt_number": 4
    },
    {
     "cell_type": "code",
     "collapsed": false,
     "input": [
      "## AUC60\n",
      "fFlag = True\n",
      "\n",
      "data_label = ['24h-DCE']\n",
      "adata_label = 'auc60'\n",
      "roi_label = 'auc60_roi'\n",
      "analysis_label = 'auc60avg'\n",
      "\n",
      "for s in data_label:\n",
      "    sarpy.fmoosvi.wrappers.roi_average(masterlist,s, adata_label, roi_label,analysis_label,fFlag)"
     ],
     "language": "python",
     "metadata": {},
     "outputs": [
      {
       "output_type": "stream",
       "stream": "stdout",
       "text": [
        "deleting item auc60avg\n",
        "auc60avg: Success. Saved HerS10Do01.l01/8"
       ]
      },
      {
       "output_type": "stream",
       "stream": "stdout",
       "text": [
        "\n",
        "auc60avg: Not found adata auc60 or auc60_roi in patient HerS10Do02\n",
        "deleting item auc60avg"
       ]
      },
      {
       "output_type": "stream",
       "stream": "stdout",
       "text": [
        "\n",
        "auc60avg: Success. Saved HerS10Do04.l01/7"
       ]
      },
      {
       "output_type": "stream",
       "stream": "stdout",
       "text": [
        "\n",
        "deleting item auc60avg"
       ]
      },
      {
       "output_type": "stream",
       "stream": "stdout",
       "text": [
        "\n",
        "auc60avg: Success. Saved HerS10Do05.l01/7"
       ]
      },
      {
       "output_type": "stream",
       "stream": "stdout",
       "text": [
        "\n",
        "deleting item auc60avg"
       ]
      },
      {
       "output_type": "stream",
       "stream": "stdout",
       "text": [
        "\n",
        "auc60avg: Success. Saved HerS10Do06.l11/8"
       ]
      },
      {
       "output_type": "stream",
       "stream": "stdout",
       "text": [
        "\n",
        "deleting item auc60avg"
       ]
      },
      {
       "output_type": "stream",
       "stream": "stdout",
       "text": [
        "\n",
        "auc60avg: Success. Saved HerS10Do07.l11/8"
       ]
      },
      {
       "output_type": "stream",
       "stream": "stdout",
       "text": [
        "\n",
        "deleting item auc60avg"
       ]
      },
      {
       "output_type": "stream",
       "stream": "stdout",
       "text": [
        "\n",
        "auc60avg: Success. Saved HerS10Do08.l11/8"
       ]
      },
      {
       "output_type": "stream",
       "stream": "stdout",
       "text": [
        "\n",
        "deleting item auc60avg"
       ]
      },
      {
       "output_type": "stream",
       "stream": "stdout",
       "text": [
        "\n",
        "auc60avg: Success. Saved HerS10Do09.l11/7"
       ]
      },
      {
       "output_type": "stream",
       "stream": "stdout",
       "text": [
        "\n",
        "deleting item auc60avg"
       ]
      },
      {
       "output_type": "stream",
       "stream": "stdout",
       "text": [
        "\n",
        "auc60avg: Success. Saved HerS10Do10.l11/7"
       ]
      },
      {
       "output_type": "stream",
       "stream": "stdout",
       "text": [
        "\n",
        "deleting item auc60avg"
       ]
      },
      {
       "output_type": "stream",
       "stream": "stdout",
       "text": [
        "\n",
        "auc60avg: Success. Saved HerS10Do11.l11/7"
       ]
      },
      {
       "output_type": "stream",
       "stream": "stdout",
       "text": [
        "\n",
        "deleting item auc60avg"
       ]
      },
      {
       "output_type": "stream",
       "stream": "stdout",
       "text": [
        "\n",
        "auc60avg: Success. Saved HerS10Do16.l71/7"
       ]
      },
      {
       "output_type": "stream",
       "stream": "stdout",
       "text": [
        "\n",
        "deleting item auc60avg"
       ]
      },
      {
       "output_type": "stream",
       "stream": "stdout",
       "text": [
        "\n",
        "auc60avg: Success. Saved HerS10Do17.l71/7"
       ]
      },
      {
       "output_type": "stream",
       "stream": "stdout",
       "text": [
        "\n",
        "deleting item auc60avg"
       ]
      },
      {
       "output_type": "stream",
       "stream": "stdout",
       "text": [
        "\n",
        "auc60avg: Success. Saved HerS10Do18.l71/8"
       ]
      },
      {
       "output_type": "stream",
       "stream": "stdout",
       "text": [
        "\n",
        "deleting item auc60avg"
       ]
      },
      {
       "output_type": "stream",
       "stream": "stdout",
       "text": [
        "\n",
        "auc60avg: Success. Saved HerS10Do19.l71/7"
       ]
      },
      {
       "output_type": "stream",
       "stream": "stdout",
       "text": [
        "\n"
       ]
      }
     ],
     "prompt_number": 5
    },
    {
     "cell_type": "code",
     "collapsed": false,
     "input": [
      "## AUGC60\n",
      "fFlag = True\n",
      "\n",
      "data_label = ['24h-DCE']\n",
      "adata_label = 'augc60'\n",
      "roi_label = 'augc60_roi'\n",
      "analysis_label = 'augc60avg'\n",
      "\n",
      "for s in data_label:\n",
      "    sarpy.fmoosvi.wrappers.roi_average(masterlist,s, adata_label, roi_label,analysis_label,fFlag)"
     ],
     "language": "python",
     "metadata": {},
     "outputs": [
      {
       "output_type": "stream",
       "stream": "stdout",
       "text": [
        "deleting item augc60avg\n",
        "augc60avg: Success. Saved HerS10Do01.l01/8"
       ]
      },
      {
       "output_type": "stream",
       "stream": "stdout",
       "text": [
        "\n",
        "augc60avg: Not found adata augc60 or augc60_roi in patient HerS10Do02\n",
        "deleting item augc60avg"
       ]
      },
      {
       "output_type": "stream",
       "stream": "stdout",
       "text": [
        "\n",
        "augc60avg: Success. Saved HerS10Do04.l01/7"
       ]
      },
      {
       "output_type": "stream",
       "stream": "stdout",
       "text": [
        "\n",
        "deleting item augc60avg"
       ]
      },
      {
       "output_type": "stream",
       "stream": "stdout",
       "text": [
        "\n",
        "augc60avg: Success. Saved HerS10Do05.l01/7"
       ]
      },
      {
       "output_type": "stream",
       "stream": "stdout",
       "text": [
        "\n",
        "deleting item augc60avg"
       ]
      },
      {
       "output_type": "stream",
       "stream": "stdout",
       "text": [
        "\n",
        "augc60avg: Success. Saved HerS10Do06.l11/8"
       ]
      },
      {
       "output_type": "stream",
       "stream": "stdout",
       "text": [
        "\n",
        "deleting item augc60avg"
       ]
      },
      {
       "output_type": "stream",
       "stream": "stdout",
       "text": [
        "\n",
        "augc60avg: Success. Saved HerS10Do07.l11/8"
       ]
      },
      {
       "output_type": "stream",
       "stream": "stdout",
       "text": [
        "\n",
        "deleting item augc60avg"
       ]
      },
      {
       "output_type": "stream",
       "stream": "stdout",
       "text": [
        "\n",
        "augc60avg: Success. Saved HerS10Do08.l11/8"
       ]
      },
      {
       "output_type": "stream",
       "stream": "stdout",
       "text": [
        "\n",
        "deleting item augc60avg"
       ]
      },
      {
       "output_type": "stream",
       "stream": "stdout",
       "text": [
        "\n",
        "augc60avg: Success. Saved HerS10Do09.l11/7"
       ]
      },
      {
       "output_type": "stream",
       "stream": "stdout",
       "text": [
        "\n",
        "deleting item augc60avg"
       ]
      },
      {
       "output_type": "stream",
       "stream": "stdout",
       "text": [
        "\n",
        "augc60avg: Success. Saved HerS10Do10.l11/7"
       ]
      },
      {
       "output_type": "stream",
       "stream": "stdout",
       "text": [
        "\n",
        "deleting item augc60avg"
       ]
      },
      {
       "output_type": "stream",
       "stream": "stdout",
       "text": [
        "\n",
        "augc60avg: Success. Saved HerS10Do11.l11/7"
       ]
      },
      {
       "output_type": "stream",
       "stream": "stdout",
       "text": [
        "\n",
        "deleting item augc60avg"
       ]
      },
      {
       "output_type": "stream",
       "stream": "stdout",
       "text": [
        "\n",
        "augc60avg: Success. Saved HerS10Do16.l71/7"
       ]
      },
      {
       "output_type": "stream",
       "stream": "stdout",
       "text": [
        "\n",
        "deleting item augc60avg"
       ]
      },
      {
       "output_type": "stream",
       "stream": "stdout",
       "text": [
        "\n",
        "augc60avg: Success. Saved HerS10Do17.l71/7"
       ]
      },
      {
       "output_type": "stream",
       "stream": "stdout",
       "text": [
        "\n",
        "deleting item augc60avg"
       ]
      },
      {
       "output_type": "stream",
       "stream": "stdout",
       "text": [
        "\n",
        "augc60avg: Success. Saved HerS10Do18.l71/8"
       ]
      },
      {
       "output_type": "stream",
       "stream": "stdout",
       "text": [
        "\n",
        "deleting item augc60avg"
       ]
      },
      {
       "output_type": "stream",
       "stream": "stdout",
       "text": [
        "\n",
        "augc60avg: Success. Saved HerS10Do19.l71/7"
       ]
      },
      {
       "output_type": "stream",
       "stream": "stdout",
       "text": [
        "\n"
       ]
      }
     ],
     "prompt_number": 58
    },
    {
     "cell_type": "code",
     "collapsed": false,
     "input": [
      "## Delta T1Gd Avg\n",
      "fFlag = True\n",
      "\n",
      "data_label = ['+24h-LL']\n",
      "adata_label = 'deltaT1gd'\n",
      "roi_label = 'T1map_LL_roi'\n",
      "analysis_label = 'deltaT1gdavg'\n",
      "\n",
      "for s in data_label:\n",
      "    sarpy.fmoosvi.wrappers.roi_average(masterlist,s, adata_label, roi_label,analysis_label,fFlag)"
     ],
     "language": "python",
     "metadata": {},
     "outputs": [
      {
       "output_type": "stream",
       "stream": "stdout",
       "text": [
        "deleting item deltaT1gdavg\n",
        "deleting item deltaT1gdavg_weights"
       ]
      },
      {
       "output_type": "stream",
       "stream": "stdout",
       "text": [
        "\n",
        "deltaT1gdavg: Success. Saved HerS10Do01.l01/9"
       ]
      },
      {
       "output_type": "stream",
       "stream": "stdout",
       "text": [
        "\n",
        "deltaT1gdavg: Not found adata deltaT1gd or T1map_LL_roi in patient HerS10Do02\n",
        "deleting item deltaT1gdavg"
       ]
      },
      {
       "output_type": "stream",
       "stream": "stdout",
       "text": [
        "\n",
        "deleting item deltaT1gdavg_weights"
       ]
      },
      {
       "output_type": "stream",
       "stream": "stdout",
       "text": [
        "\n",
        "deltaT1gdavg: Success. Saved HerS10Do04.l01/8"
       ]
      },
      {
       "output_type": "stream",
       "stream": "stdout",
       "text": [
        "\n",
        "deleting item deltaT1gdavg"
       ]
      },
      {
       "output_type": "stream",
       "stream": "stdout",
       "text": [
        "\n",
        "deleting item deltaT1gdavg_weights"
       ]
      },
      {
       "output_type": "stream",
       "stream": "stdout",
       "text": [
        "\n",
        "deltaT1gdavg: Success. Saved HerS10Do05.l01/8"
       ]
      },
      {
       "output_type": "stream",
       "stream": "stdout",
       "text": [
        "\n",
        "deleting item deltaT1gdavg"
       ]
      },
      {
       "output_type": "stream",
       "stream": "stdout",
       "text": [
        "\n",
        "deleting item deltaT1gdavg_weights"
       ]
      },
      {
       "output_type": "stream",
       "stream": "stdout",
       "text": [
        "\n",
        "deltaT1gdavg: Success. Saved HerS10Do06.l11/9"
       ]
      },
      {
       "output_type": "stream",
       "stream": "stdout",
       "text": [
        "\n",
        "deleting item deltaT1gdavg"
       ]
      },
      {
       "output_type": "stream",
       "stream": "stdout",
       "text": [
        "\n",
        "deleting item deltaT1gdavg_weights"
       ]
      },
      {
       "output_type": "stream",
       "stream": "stdout",
       "text": [
        "\n",
        "deltaT1gdavg: Success. Saved HerS10Do07.l11/9"
       ]
      },
      {
       "output_type": "stream",
       "stream": "stdout",
       "text": [
        "\n",
        "deleting item deltaT1gdavg"
       ]
      },
      {
       "output_type": "stream",
       "stream": "stdout",
       "text": [
        "\n",
        "deleting item deltaT1gdavg_weights"
       ]
      },
      {
       "output_type": "stream",
       "stream": "stdout",
       "text": [
        "\n",
        "deltaT1gdavg: Success. Saved HerS10Do08.l11/9"
       ]
      },
      {
       "output_type": "stream",
       "stream": "stdout",
       "text": [
        "\n",
        "deleting item deltaT1gdavg"
       ]
      },
      {
       "output_type": "stream",
       "stream": "stdout",
       "text": [
        "\n",
        "deleting item deltaT1gdavg_weights"
       ]
      },
      {
       "output_type": "stream",
       "stream": "stdout",
       "text": [
        "\n",
        "deltaT1gdavg: Success. Saved HerS10Do09.l11/8"
       ]
      },
      {
       "output_type": "stream",
       "stream": "stdout",
       "text": [
        "\n",
        "deleting item deltaT1gdavg"
       ]
      },
      {
       "output_type": "stream",
       "stream": "stdout",
       "text": [
        "\n",
        "deleting item deltaT1gdavg_weights"
       ]
      },
      {
       "output_type": "stream",
       "stream": "stdout",
       "text": [
        "\n",
        "deltaT1gdavg: Success. Saved HerS10Do10.l11/8"
       ]
      },
      {
       "output_type": "stream",
       "stream": "stdout",
       "text": [
        "\n",
        "deleting item deltaT1gdavg"
       ]
      },
      {
       "output_type": "stream",
       "stream": "stdout",
       "text": [
        "\n",
        "deleting item deltaT1gdavg_weights"
       ]
      },
      {
       "output_type": "stream",
       "stream": "stdout",
       "text": [
        "\n",
        "deltaT1gdavg: Success. Saved HerS10Do11.l11/8"
       ]
      },
      {
       "output_type": "stream",
       "stream": "stdout",
       "text": [
        "\n",
        "deleting item deltaT1gdavg"
       ]
      },
      {
       "output_type": "stream",
       "stream": "stdout",
       "text": [
        "\n",
        "deleting item deltaT1gdavg_weights"
       ]
      },
      {
       "output_type": "stream",
       "stream": "stdout",
       "text": [
        "\n",
        "deltaT1gdavg: Success. Saved HerS10Do16.l71/8"
       ]
      },
      {
       "output_type": "stream",
       "stream": "stdout",
       "text": [
        "\n",
        "deleting item deltaT1gdavg"
       ]
      },
      {
       "output_type": "stream",
       "stream": "stdout",
       "text": [
        "\n",
        "deleting item deltaT1gdavg_weights"
       ]
      },
      {
       "output_type": "stream",
       "stream": "stdout",
       "text": [
        "\n",
        "deltaT1gdavg: Success. Saved HerS10Do17.l71/8"
       ]
      },
      {
       "output_type": "stream",
       "stream": "stdout",
       "text": [
        "\n",
        "deleting item deltaT1gdavg"
       ]
      },
      {
       "output_type": "stream",
       "stream": "stdout",
       "text": [
        "\n",
        "deleting item deltaT1gdavg_weights"
       ]
      },
      {
       "output_type": "stream",
       "stream": "stdout",
       "text": [
        "\n",
        "deltaT1gdavg: Success. Saved HerS10Do18.l71/9"
       ]
      },
      {
       "output_type": "stream",
       "stream": "stdout",
       "text": [
        "\n",
        "deleting item deltaT1gdavg"
       ]
      },
      {
       "output_type": "stream",
       "stream": "stdout",
       "text": [
        "\n",
        "deleting item deltaT1gdavg_weights"
       ]
      },
      {
       "output_type": "stream",
       "stream": "stdout",
       "text": [
        "\n",
        "deltaT1gdavg: Success. Saved HerS10Do19.l71/8"
       ]
      },
      {
       "output_type": "stream",
       "stream": "stdout",
       "text": [
        "\n"
       ]
      }
     ],
     "prompt_number": 6
    },
    {
     "cell_type": "code",
     "collapsed": false,
     "input": [
      "import sarpy\n",
      "csv_list = []\n",
      "\n",
      "csv_list.append(['0h-LL','T1avg'])\n",
      "csv_list.append(['+24h-LL','T1avg'])\n",
      "csv_list.append(['-24h-LL','T1avg'])\n",
      "csv_list.append(['+24h-LL','deltaT1gdavg'])\n",
      "csv_list.append(['24h-DCE','auc60avg'])\n",
      "csv_list.append(['24h-DCE','augc60avg'])\n",
      "\n",
      "for it in csv_list:\n",
      "    \n",
      "    sarpy.io.write_csv.write_csv(masterlist,it[0],it[1])"
     ],
     "language": "python",
     "metadata": {},
     "outputs": [
      {
       "output_type": "stream",
       "stream": "stdout",
       "text": [
        "write_csv: Not found HerS10Do02 and +24h-LL,T1avg\n",
        "write_csv: Not found HerS10Do02 and +24h-LL,deltaT1gdavg"
       ]
      },
      {
       "output_type": "stream",
       "stream": "stdout",
       "text": [
        "\n",
        "write_csv: Not found HerS10Do02 and 24h-DCE,auc60avg"
       ]
      },
      {
       "output_type": "stream",
       "stream": "stdout",
       "text": [
        "\n",
        "write_csv: Not found HerS10Do02 and 24h-DCE,augc60avg"
       ]
      },
      {
       "output_type": "stream",
       "stream": "stdout",
       "text": [
        "\n"
       ]
      }
     ],
     "prompt_number": 3
    },
    {
     "cell_type": "code",
     "collapsed": false,
     "input": [
      "### checking anatomy"
     ],
     "language": "python",
     "metadata": {},
     "outputs": [],
     "prompt_number": 4
    },
    {
     "cell_type": "code",
     "collapsed": false,
     "input": [
      "s = sarpy.Experiment('HerS10Do07')"
     ],
     "language": "python",
     "metadata": {},
     "outputs": [],
     "prompt_number": 7
    },
    {
     "cell_type": "code",
     "collapsed": false,
     "input": [
      "s.find_scan_by_protocol('.*RARE.*')"
     ],
     "language": "python",
     "metadata": {},
     "outputs": [
      {
       "metadata": {},
       "output_type": "pyout",
       "prompt_number": 8,
       "text": [
        "[Scan object: Scan(\"HerS10Do07.l01/2\")\n",
        "   protocol: 02_RARE_T2w_coronal\n",
        "   TE = [42.984]\n",
        "   TR = [4249.802]\n",
        "   FA = 178.3\n",
        "   FoV = [4, 4]\n",
        "   matrix = [512, 128],\n",
        " Scan object: Scan(\"HerS10Do07.l01/3\")\n",
        "   protocol: 03_RARE_T2w_ax\n",
        "   TE = [42.984]\n",
        "   TR = [4249.802]\n",
        "   FA = 178.3\n",
        "   FoV = [4.2624, 2.1312]\n",
        "   matrix = [256, 64],\n",
        " Scan object: Scan(\"HerS10Do07.l01/4\")\n",
        "   protocol: 03_RARE_T2w_ax\n",
        "   TE = [42.984]\n",
        "   TR = [4249.802]\n",
        "   FA = 178.3\n",
        "   FoV = [4.2624, 2.1312]\n",
        "   matrix = [256, 64],\n",
        " Scan object: Scan(\"HerS10Do07.l01/7\")\n",
        "   protocol: 03_RARE_T2w_hires\n",
        "   TE = [42.984]\n",
        "   TR = [4140.087]\n",
        "   FA = 180\n",
        "   FoV = [2, 1.9968]\n",
        "   matrix = [512, 256],\n",
        " Scan object: Scan(\"HerS10Do07.l11/2\")\n",
        "   protocol: 02_RARE_T2w_coronal\n",
        "   TE = [42.984]\n",
        "   TR = [4249.802]\n",
        "   FA = 178.3\n",
        "   FoV = [4, 4]\n",
        "   matrix = [512, 128],\n",
        " Scan object: Scan(\"HerS10Do07.l11/3\")\n",
        "   protocol: 03_RARE_T2w_ax\n",
        "   TE = [42.984]\n",
        "   TR = [4249.802]\n",
        "   FA = 178.3\n",
        "   FoV = [4.2624, 2.1312]\n",
        "   matrix = [256, 64],\n",
        " Scan object: Scan(\"HerS10Do07.l11/4\")\n",
        "   protocol: 03_RARE_T2w_ax\n",
        "   TE = [42.984]\n",
        "   TR = [4249.802]\n",
        "   FA = 178.3\n",
        "   FoV = [4.2624, 2.1312]\n",
        "   matrix = [256, 64],\n",
        " Scan object: Scan(\"HerS10Do07.l11/7\")\n",
        "   protocol: 03_RARE_T2w_hires\n",
        "   TE = [42.984]\n",
        "   TR = [4140.087]\n",
        "   FA = 180\n",
        "   FoV = [2, 1.9968]\n",
        "   matrix = [512, 256]]"
       ]
      }
     ],
     "prompt_number": 8
    },
    {
     "cell_type": "code",
     "collapsed": false,
     "input": [
      "rare = sarpy.Scan('HerS10Do06.l11/3')"
     ],
     "language": "python",
     "metadata": {},
     "outputs": [],
     "prompt_number": 9
    },
    {
     "cell_type": "code",
     "collapsed": false,
     "input": [
      "a=rare.pdata[0].visu_pars"
     ],
     "language": "python",
     "metadata": {},
     "outputs": [],
     "prompt_number": 14
    },
    {
     "cell_type": "code",
     "collapsed": false,
     "input": [
      "a.VisuCorePosition+5.25"
     ],
     "language": "python",
     "metadata": {},
     "outputs": [
      {
       "metadata": {},
       "output_type": "pyout",
       "prompt_number": 20,
       "text": [
        "array([[-16.062,  -5.406,   0.   ],\n",
        "       [-16.062,  -5.406,   1.5  ],\n",
        "       [-16.062,  -5.406,   3.   ],\n",
        "       [-16.062,  -5.406,   4.5  ],\n",
        "       [-16.062,  -5.406,   6.   ],\n",
        "       [-16.062,  -5.406,   7.5  ],\n",
        "       [-16.062,  -5.406,   9.   ],\n",
        "       [-16.062,  -5.406,  10.5  ]])"
       ]
      }
     ],
     "prompt_number": 20
    },
    {
     "cell_type": "code",
     "collapsed": false,
     "input": [
      "sarpy.Scan(\"HerS10Do07.l11/5\").pdata[0].visu_pars.VisuCorePosition"
     ],
     "language": "python",
     "metadata": {},
     "outputs": [
      {
       "metadata": {},
       "output_type": "pyout",
       "prompt_number": 23,
       "text": [
        "array([[-20.82175211, -10.78573298,  -4.78923617],\n",
        "       [-21.05326587, -10.68235206,  -3.31082021],\n",
        "       [-21.28477964, -10.57897115,  -1.83240424],\n",
        "       [-21.5162934 , -10.47559023,  -0.35398828],\n",
        "       [-21.74780716, -10.37220932,   1.12442769],\n",
        "       [-21.97932092, -10.2688284 ,   2.60284365],\n",
        "       [-22.21083468, -10.16544749,   4.08125962],\n",
        "       [-22.44234844, -10.06206657,   5.55967558]])"
       ]
      }
     ],
     "prompt_number": 23
    },
    {
     "cell_type": "code",
     "collapsed": false,
     "input": [],
     "language": "python",
     "metadata": {},
     "outputs": []
    }
   ],
   "metadata": {}
  }
 ]
}