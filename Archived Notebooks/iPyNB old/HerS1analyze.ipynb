{
 "metadata": {
  "name": ""
 },
 "nbformat": 3,
 "nbformat_minor": 0,
 "worksheets": [
  {
   "cells": [
    {
     "cell_type": "markdown",
     "metadata": {},
     "source": [
      "This is a template for analyzing various animals using the new python setup.\n",
      "\n",
      "Change the name of the experiment in Step 0, and then again the names of the labels in Step 4. This template requires that the masterlist be already created using generate_masterlist.py"
     ]
    },
    {
     "cell_type": "markdown",
     "metadata": {},
     "source": [
      "#### Set imports and define the experiment name"
     ]
    },
    {
     "cell_type": "code",
     "collapsed": false,
     "input": [
      "import sarpy\n",
      "import sarpy.fmoosvi.wrappers\n",
      "from datetime import datetime\n",
      "from collections import defaultdict\n",
      "import os\n",
      "import sys\n",
      "import errno\n",
      "\n",
      "startTime = datetime.now()"
     ],
     "language": "python",
     "metadata": {},
     "outputs": [],
     "prompt_number": 1
    },
    {
     "cell_type": "markdown",
     "metadata": {},
     "source": [
      "## Step 0 - Specify experiment name"
     ]
    },
    {
     "cell_type": "code",
     "collapsed": false,
     "input": [
      "masterlist = 'HerS1'\n",
      "path = os.path.join(os.path.expanduser('~'),'sdata',masterlist,'rois')\n",
      "\n",
      "# See if the rois directory exists, if it doesn't create it\n",
      "try:\n",
      "    os.makedirs(path)\n",
      "except OSError as exception:\n",
      "    if exception.errno != errno.EEXIST:\n",
      "        raise"
     ],
     "language": "python",
     "metadata": {},
     "outputs": [],
     "prompt_number": 2
    },
    {
     "cell_type": "markdown",
     "metadata": {},
     "source": [
      "Sometimes it is necessary to remove ALL adata from an experiment, and just start over... (say a messed up master_list). Here's how to do this:"
     ]
    },
    {
     "cell_type": "code",
     "collapsed": false,
     "input": [
      "#exp = sarpy.Experiment('herS1')\n",
      "#adata_keys = exp.find_adata()\n",
      "\n",
      "#for k in adata_keys:\n",
      "#    exp.rm_adata(k)"
     ],
     "language": "python",
     "metadata": {},
     "outputs": [],
     "prompt_number": 3
    },
    {
     "cell_type": "markdown",
     "metadata": {},
     "source": [
      "## Step 1: Export ROIs"
     ]
    },
    {
     "cell_type": "code",
     "collapsed": false,
     "input": [
      "fFlag = False\n",
      "\n",
      "smart_label = []\n",
      "smart_label.append(['0h-roi','0h-',fFlag])\n",
      "\n",
      "for sm in smart_label:\n",
      "    sarpy.io.generate_rois.generate_rois(masterlist,sm[0],'roi','export', path, sm[2])"
     ],
     "language": "python",
     "metadata": {},
     "outputs": [
      {
       "output_type": "stream",
       "stream": "stdout",
       "text": [
        "Nifti images were processed in /Users/fmoosvi/sdata/HerS1/rois\n"
       ]
      }
     ],
     "prompt_number": 4
    },
    {
     "cell_type": "markdown",
     "metadata": {},
     "source": [
      "Now go ahead and draw ROIs using ImageJ. When you're done, just rename the files with an a appended at the very end. For e.g., the source file _HerS2Mo01_10.nii_ will turn into _HerS2Mo01_10a.nii_ once the ROI is drawn"
     ]
    },
    {
     "cell_type": "markdown",
     "metadata": {},
     "source": [
      "## Step 2: Import the drawn ROIs back in as adata, update the bounding boxes"
     ]
    },
    {
     "cell_type": "code",
     "collapsed": false,
     "input": [
      "for sm in smart_label:\n",
      "    sarpy.io.generate_rois.generate_rois(masterlist,sm[0],'roi','import', path, sm[2])\n",
      "    sarpy.io.update_bbox.update_bbox(masterlist,sm[0],'roi',sm[1])"
     ],
     "language": "python",
     "metadata": {},
     "outputs": [
      {
       "output_type": "stream",
       "stream": "stdout",
       "text": [
        "roi: adata already exists herS1Lo01.2g1/4 \n",
        "roi: adata already exists herS1Lo02.2e1/6 \n",
        "roi: adata already exists herS1Lo02B.2g1/4 \n",
        "roi: adata already exists herS1Lo03.2e1/4 \n",
        "roi: adata already exists herS1Lo04.2e1/4 "
       ]
      },
      {
       "output_type": "stream",
       "stream": "stdout",
       "text": [
        "\n",
        "roi: adata already exists herS1Ls01.2e1/5 \n",
        "roi: adata already exists herS1Ls02.2g1/4 \n",
        "roi: adata already exists herS1Ls03.2f1/4 "
       ]
      },
      {
       "output_type": "stream",
       "stream": "stdout",
       "text": [
        "\n",
        "roi: adata already exists herS1Ls05.2e1/5 \n",
        "roi: adata already exists herS1Mo02.251/4 "
       ]
      },
      {
       "output_type": "stream",
       "stream": "stdout",
       "text": [
        "\n",
        "roi: adata already exists herS1Mo03.251/4 \n",
        "roi: adata already exists herS1Mo04.271/4 "
       ]
      },
      {
       "output_type": "stream",
       "stream": "stdout",
       "text": [
        "\n",
        "roi: adata already exists herS1Mo05.271/4 \n",
        "roi: adata already exists herS1Mo06.2g1/4 \n",
        "roi: adata already exists herS1Ms02.251/5 "
       ]
      },
      {
       "output_type": "stream",
       "stream": "stdout",
       "text": [
        "\n",
        "roi: adata already exists herS1Ms03.271/4 \n",
        "roi: adata already exists herS1Ms04.271/4 "
       ]
      },
      {
       "output_type": "stream",
       "stream": "stdout",
       "text": [
        "\n",
        "roi: adata already exists herS1Ms05.271/4 \n",
        "roi: adata already exists herS1Ms06.2g1/3 \n",
        "roi: adata already exists herS1So02.2m1/4 "
       ]
      },
      {
       "output_type": "stream",
       "stream": "stdout",
       "text": [
        "\n",
        "roi: adata already exists herS1So03.2n1/4 \n",
        "roi: adata already exists herS1So04.2m1/4 "
       ]
      },
      {
       "output_type": "stream",
       "stream": "stdout",
       "text": [
        "\n",
        "roi: adata already exists herS1So05.2n1/4 "
       ]
      },
      {
       "output_type": "stream",
       "stream": "stdout",
       "text": [
        "\n",
        "roi: adata already exists herS1Ss01.2m1/4 "
       ]
      },
      {
       "output_type": "stream",
       "stream": "stdout",
       "text": [
        "\n",
        "roi: adata already exists herS1Ss02.2m1/4 \n",
        "roi: adata already exists herS1Ss03.2n1/4 "
       ]
      },
      {
       "output_type": "stream",
       "stream": "stdout",
       "text": [
        "\n",
        "roi: adata already exists herS1Ss04.2m1/4 \n",
        "roi: adata already exists herS1Ss06.2n1/4 "
       ]
      },
      {
       "output_type": "stream",
       "stream": "stdout",
       "text": [
        "\n",
        "Nifti images were processed in /Users/fmoosvi/sdata/HerS1/rois\n",
        "update_bbox: Success, updated file is: HerS1_updated.json"
       ]
      },
      {
       "output_type": "stream",
       "stream": "stdout",
       "text": [
        "\n"
       ]
      }
     ],
     "prompt_number": 5
    },
    {
     "cell_type": "markdown",
     "metadata": {},
     "source": [
      "## Step 3: Perform basic analyses (no ROIs required)"
     ]
    },
    {
     "cell_type": "code",
     "collapsed": false,
     "input": [
      "analyze_list = []\n",
      "\n",
      "fFlag = True # Set whether or not the scan need to be overwritten, default False\n",
      "\n",
      "analyze_list.append(['0h-roi','roi_check',fFlag])\n",
      "\n",
      "analyze_list.append(['0h-dce1','auc60',fFlag])\n",
      "\n",
      "for items in analyze_list:\n",
      "                                              \n",
      "    if len(items) == 3:\n",
      "                  \n",
      "        sarpy.fmoosvi.wrappers.bulk_analyze(masterlist, items[0], items[1], forceVal = items[2])\n",
      "\n",
      "    else:\n",
      "        sarpy.fmoosvi.wrappers.bulk_analyze(masterlist, items[0], items[1], items[2], forceVal = items[3])"
     ],
     "language": "python",
     "metadata": {},
     "outputs": [
      {
       "output_type": "stream",
       "stream": "stdout",
       "text": [
        "deleting item roi_check\n",
        "deleting item roi_check"
       ]
      },
      {
       "output_type": "stream",
       "stream": "stdout",
       "text": [
        "\n",
        "deleting item roi_check"
       ]
      },
      {
       "output_type": "stream",
       "stream": "stdout",
       "text": [
        "\n",
        "deleting item roi_check"
       ]
      },
      {
       "output_type": "stream",
       "stream": "stdout",
       "text": [
        "\n",
        "deleting item roi_check"
       ]
      },
      {
       "output_type": "stream",
       "stream": "stdout",
       "text": [
        "\n",
        "deleting item roi_check"
       ]
      },
      {
       "output_type": "stream",
       "stream": "stdout",
       "text": [
        "\n",
        "deleting item roi_check"
       ]
      },
      {
       "output_type": "stream",
       "stream": "stdout",
       "text": [
        "\n",
        "deleting item roi_check"
       ]
      },
      {
       "output_type": "stream",
       "stream": "stdout",
       "text": [
        "\n",
        "deleting item roi_check"
       ]
      },
      {
       "output_type": "stream",
       "stream": "stdout",
       "text": [
        "\n",
        "deleting item roi_check"
       ]
      },
      {
       "output_type": "stream",
       "stream": "stdout",
       "text": [
        "\n",
        "deleting item roi_check"
       ]
      },
      {
       "output_type": "stream",
       "stream": "stdout",
       "text": [
        "\n",
        "deleting item roi_check"
       ]
      },
      {
       "output_type": "stream",
       "stream": "stdout",
       "text": [
        "\n",
        "deleting item roi_check"
       ]
      },
      {
       "output_type": "stream",
       "stream": "stdout",
       "text": [
        "\n",
        "deleting item roi_check"
       ]
      },
      {
       "output_type": "stream",
       "stream": "stdout",
       "text": [
        "\n",
        "deleting item roi_check"
       ]
      },
      {
       "output_type": "stream",
       "stream": "stdout",
       "text": [
        "\n",
        "deleting item roi_check"
       ]
      },
      {
       "output_type": "stream",
       "stream": "stdout",
       "text": [
        "\n",
        "deleting item roi_check"
       ]
      },
      {
       "output_type": "stream",
       "stream": "stdout",
       "text": [
        "\n",
        "deleting item roi_check"
       ]
      },
      {
       "output_type": "stream",
       "stream": "stdout",
       "text": [
        "\n",
        "deleting item roi_check"
       ]
      },
      {
       "output_type": "stream",
       "stream": "stdout",
       "text": [
        "\n",
        "deleting item roi_check"
       ]
      },
      {
       "output_type": "stream",
       "stream": "stdout",
       "text": [
        "\n",
        "deleting item roi_check"
       ]
      },
      {
       "output_type": "stream",
       "stream": "stdout",
       "text": [
        "\n",
        "deleting item roi_check"
       ]
      },
      {
       "output_type": "stream",
       "stream": "stdout",
       "text": [
        "\n",
        "deleting item roi_check"
       ]
      },
      {
       "output_type": "stream",
       "stream": "stdout",
       "text": [
        "\n",
        "deleting item roi_check"
       ]
      },
      {
       "output_type": "stream",
       "stream": "stdout",
       "text": [
        "\n",
        "deleting item roi_check"
       ]
      },
      {
       "output_type": "stream",
       "stream": "stdout",
       "text": [
        "\n",
        "deleting item roi_check"
       ]
      },
      {
       "output_type": "stream",
       "stream": "stdout",
       "text": [
        "\n",
        "deleting item roi_check"
       ]
      },
      {
       "output_type": "stream",
       "stream": "stdout",
       "text": [
        "\n",
        "deleting item roi_check"
       ]
      },
      {
       "output_type": "stream",
       "stream": "stdout",
       "text": [
        "\n",
        "auc60: Not found herS1Lo01 and 0h-dce1"
       ]
      },
      {
       "output_type": "stream",
       "stream": "stdout",
       "text": [
        "\n",
        "\n",
        " \n",
        " ***** Warning **** \n",
        " \n",
        " !!! Incomplete dce data for herS1Lo02.2e1/19"
       ]
      },
      {
       "output_type": "stream",
       "stream": "stdout",
       "text": [
        "\n",
        "Could not find the injection point, possibly okay6\n",
        "\n",
        " \n",
        " ***** Warning **** \n",
        " \n",
        " !!! Incomplete dce data for herS1Lo02.2e1/19 \n",
        " \n",
        "\n",
        "Could not find the injection point, possibly okay6"
       ]
      },
      {
       "output_type": "stream",
       "stream": "stdout",
       "text": [
        "\n",
        "deleting item auc60"
       ]
      },
      {
       "output_type": "stream",
       "stream": "stdout",
       "text": [
        "\n",
        "deleting item auc60"
       ]
      },
      {
       "output_type": "stream",
       "stream": "stdout",
       "text": [
        "\n",
        "\n",
        " \n",
        " ***** Warning **** \n",
        " \n",
        " !!! Incomplete dce data for herS1Lo03.2e1/17"
       ]
      },
      {
       "output_type": "stream",
       "stream": "stdout",
       "text": [
        "\n",
        "\n",
        " \n",
        " ***** Warning **** \n",
        " \n",
        " !!! Incomplete dce data for herS1Lo03.2e1/17 \n",
        " \n"
       ]
      },
      {
       "output_type": "stream",
       "stream": "stdout",
       "text": [
        "\n",
        "deleting item auc60"
       ]
      },
      {
       "output_type": "stream",
       "stream": "stdout",
       "text": [
        "\n",
        "deleting item auc60"
       ]
      },
      {
       "output_type": "stream",
       "stream": "stdout",
       "text": [
        "\n",
        "deleting item auc60"
       ]
      },
      {
       "output_type": "stream",
       "stream": "stdout",
       "text": [
        "\n",
        "deleting item auc60"
       ]
      },
      {
       "output_type": "stream",
       "stream": "stdout",
       "text": [
        "\n",
        "deleting item auc60"
       ]
      },
      {
       "output_type": "stream",
       "stream": "stdout",
       "text": [
        "\n",
        "deleting item auc60"
       ]
      },
      {
       "output_type": "stream",
       "stream": "stdout",
       "text": [
        "\n",
        "deleting item auc60"
       ]
      },
      {
       "output_type": "stream",
       "stream": "stdout",
       "text": [
        "\n",
        "deleting item auc60"
       ]
      },
      {
       "output_type": "stream",
       "stream": "stdout",
       "text": [
        "\n",
        "deleting item auc60"
       ]
      },
      {
       "output_type": "stream",
       "stream": "stdout",
       "text": [
        "\n",
        "\n",
        " \n",
        " ***** Warning **** \n",
        " \n",
        " !!! Incomplete dce data for herS1Mo05.271/17"
       ]
      },
      {
       "output_type": "stream",
       "stream": "stdout",
       "text": [
        "\n",
        "\n",
        " \n",
        " ***** Warning **** \n",
        " \n",
        " !!! Incomplete dce data for herS1Mo05.271/17 \n",
        " \n"
       ]
      },
      {
       "output_type": "stream",
       "stream": "stdout",
       "text": [
        "\n",
        "deleting item auc60"
       ]
      },
      {
       "output_type": "stream",
       "stream": "stdout",
       "text": [
        "\n",
        "deleting item auc60"
       ]
      },
      {
       "output_type": "stream",
       "stream": "stdout",
       "text": [
        "\n",
        "\n",
        " \n",
        " ***** Warning **** \n",
        " \n",
        " !!! Incomplete dce data for herS1Ms02.251/18"
       ]
      },
      {
       "output_type": "stream",
       "stream": "stdout",
       "text": [
        "\n",
        "\n",
        " \n",
        " ***** Warning **** \n",
        " \n",
        " !!! Incomplete dce data for herS1Ms02.251/18 \n",
        " \n"
       ]
      },
      {
       "output_type": "stream",
       "stream": "stdout",
       "text": [
        "\n",
        "deleting item auc60"
       ]
      },
      {
       "output_type": "stream",
       "stream": "stdout",
       "text": [
        "\n",
        "deleting item auc60"
       ]
      },
      {
       "output_type": "stream",
       "stream": "stdout",
       "text": [
        "\n",
        "deleting item auc60"
       ]
      },
      {
       "output_type": "stream",
       "stream": "stdout",
       "text": [
        "\n",
        "deleting item auc60"
       ]
      },
      {
       "output_type": "stream",
       "stream": "stdout",
       "text": [
        "\n",
        "deleting item auc60"
       ]
      },
      {
       "output_type": "stream",
       "stream": "stdout",
       "text": [
        "\n",
        "deleting item auc60"
       ]
      },
      {
       "output_type": "stream",
       "stream": "stdout",
       "text": [
        "\n",
        "deleting item auc60"
       ]
      },
      {
       "output_type": "stream",
       "stream": "stdout",
       "text": [
        "\n",
        "deleting item auc60"
       ]
      },
      {
       "output_type": "stream",
       "stream": "stdout",
       "text": [
        "\n",
        "deleting item auc60"
       ]
      },
      {
       "output_type": "stream",
       "stream": "stdout",
       "text": [
        "\n",
        "deleting item auc60"
       ]
      },
      {
       "output_type": "stream",
       "stream": "stdout",
       "text": [
        "\n",
        "deleting item auc60"
       ]
      },
      {
       "output_type": "stream",
       "stream": "stdout",
       "text": [
        "\n",
        "deleting item auc60"
       ]
      },
      {
       "output_type": "stream",
       "stream": "stdout",
       "text": [
        "\n",
        "deleting item auc60"
       ]
      },
      {
       "output_type": "stream",
       "stream": "stdout",
       "text": [
        "\n",
        "deleting item auc60"
       ]
      },
      {
       "output_type": "stream",
       "stream": "stdout",
       "text": [
        "\n"
       ]
      }
     ],
     "prompt_number": 18
    },
    {
     "cell_type": "markdown",
     "metadata": {},
     "source": [
      "## Step 4: Transfer ROIs to other scans via (resampling onto)"
     ]
    },
    {
     "cell_type": "code",
     "collapsed": false,
     "input": [
      "label = []\n",
      "label.append('auc60')\n",
      "\n",
      "# Need to make exception for herS1 because it takes its name is herS1 while files are HerS1\n",
      "for l in label:\n",
      "    sarpy.fmoosvi.wrappers.bulk_transfer_roi('herS1',l, forceVal=True)"
     ],
     "language": "python",
     "metadata": {},
     "outputs": [
      {
       "output_type": "stream",
       "stream": "stdout",
       "text": [
        "\n",
        "bulk_transfer_roi: Key roblem with roi src scan for study herS1Mo02.251, maybe this study is extra"
       ]
      },
      {
       "output_type": "stream",
       "stream": "stdout",
       "text": [
        "\n",
        "bulk_transfer_roi: auc60_roi adata already exists herS1Mo02.251/14"
       ]
      },
      {
       "output_type": "stream",
       "stream": "stdout",
       "text": [
        "\n",
        "bulk_transfer_roi: Key roblem with roi src scan for study herS1Mo03.251, maybe this study is extra"
       ]
      },
      {
       "output_type": "stream",
       "stream": "stdout",
       "text": [
        "\n",
        "bulk_transfer_roi: auc60_roi adata already exists herS1Mo03.251/17"
       ]
      },
      {
       "output_type": "stream",
       "stream": "stdout",
       "text": [
        "\n",
        "bulk_transfer_roi: Key roblem with roi src scan for study herS1Mo04.271, maybe this study is extra"
       ]
      },
      {
       "output_type": "stream",
       "stream": "stdout",
       "text": [
        "\n",
        "bulk_transfer_roi: auc60_roi adata already exists herS1Mo04.271/17"
       ]
      },
      {
       "output_type": "stream",
       "stream": "stdout",
       "text": [
        "\n",
        "bulk_transfer_roi: Key roblem with roi src scan for study herS1Mo05.271, maybe this study is extra"
       ]
      },
      {
       "output_type": "stream",
       "stream": "stdout",
       "text": [
        "\n",
        "bulk_transfer_roi: auc60_roi adata already exists herS1Mo05.271/17"
       ]
      },
      {
       "output_type": "stream",
       "stream": "stdout",
       "text": [
        "\n",
        "bulk_transfer_roi: Key roblem with roi src scan for study herS1Mo06.2g1, maybe this study is extra"
       ]
      },
      {
       "output_type": "stream",
       "stream": "stdout",
       "text": [
        "\n",
        "bulk_transfer_roi: auc60_roi adata already exists herS1Mo06.2g1/14"
       ]
      },
      {
       "output_type": "stream",
       "stream": "stdout",
       "text": [
        "\n",
        "bulk_transfer_roi: Key roblem with roi src scan for study herS1Ms02.251, maybe this study is extra"
       ]
      },
      {
       "output_type": "stream",
       "stream": "stdout",
       "text": [
        "\n",
        "bulk_transfer_roi: auc60_roi adata already exists herS1Ms02.251/18"
       ]
      },
      {
       "output_type": "stream",
       "stream": "stdout",
       "text": [
        "\n",
        "bulk_transfer_roi: Key roblem with roi src scan for study herS1Ms03.271, maybe this study is extra"
       ]
      },
      {
       "output_type": "stream",
       "stream": "stdout",
       "text": [
        "\n",
        "bulk_transfer_roi: auc60_roi adata already exists herS1Ms03.271/17"
       ]
      },
      {
       "output_type": "stream",
       "stream": "stdout",
       "text": [
        "\n",
        "bulk_transfer_roi: Key roblem with roi src scan for study herS1Ms04.271, maybe this study is extra"
       ]
      },
      {
       "output_type": "stream",
       "stream": "stdout",
       "text": [
        "\n",
        "bulk_transfer_roi: auc60_roi adata already exists herS1Ms04.271/17"
       ]
      },
      {
       "output_type": "stream",
       "stream": "stdout",
       "text": [
        "\n",
        "bulk_transfer_roi: Key roblem with roi src scan for study herS1Ms05.271, maybe this study is extra"
       ]
      },
      {
       "output_type": "stream",
       "stream": "stdout",
       "text": [
        "\n",
        "bulk_transfer_roi: auc60_roi adata already exists herS1Ms05.271/17"
       ]
      },
      {
       "output_type": "stream",
       "stream": "stdout",
       "text": [
        "\n",
        "bulk_transfer_roi: Key roblem with roi src scan for study herS1Ms06.2g1, maybe this study is extra"
       ]
      },
      {
       "output_type": "stream",
       "stream": "stdout",
       "text": [
        "\n",
        "bulk_transfer_roi: auc60_roi adata already exists herS1Ms06.2g1/13"
       ]
      },
      {
       "output_type": "stream",
       "stream": "stdout",
       "text": [
        "\n",
        "bulk_transfer_roi: Key roblem with roi src scan for study herS1So02.2m1, maybe this study is extra"
       ]
      },
      {
       "output_type": "stream",
       "stream": "stdout",
       "text": [
        "\n",
        "bulk_transfer_roi: auc60_roi adata already exists herS1So02.2m1/14"
       ]
      },
      {
       "output_type": "stream",
       "stream": "stdout",
       "text": [
        "\n",
        "bulk_transfer_roi: Key roblem with roi src scan for study herS1So03.2n1, maybe this study is extra"
       ]
      },
      {
       "output_type": "stream",
       "stream": "stdout",
       "text": [
        "\n",
        "bulk_transfer_roi: auc60_roi adata already exists herS1So03.2n1/14"
       ]
      },
      {
       "output_type": "stream",
       "stream": "stdout",
       "text": [
        "\n",
        "bulk_transfer_roi: Key roblem with roi src scan for study herS1So04.2m1, maybe this study is extra"
       ]
      },
      {
       "output_type": "stream",
       "stream": "stdout",
       "text": [
        "\n",
        "bulk_transfer_roi: auc60_roi adata already exists herS1So04.2m1/14"
       ]
      },
      {
       "output_type": "stream",
       "stream": "stdout",
       "text": [
        "\n",
        "bulk_transfer_roi: Key roblem with roi src scan for study herS1So05.2n1, maybe this study is extra"
       ]
      },
      {
       "output_type": "stream",
       "stream": "stdout",
       "text": [
        "\n",
        "bulk_transfer_roi: auc60_roi adata already exists herS1So05.2n1/14"
       ]
      },
      {
       "output_type": "stream",
       "stream": "stdout",
       "text": [
        "\n",
        "bulk_transfer_roi: Key roblem with roi src scan for study herS1Ss01.2m1, maybe this study is extra"
       ]
      },
      {
       "output_type": "stream",
       "stream": "stdout",
       "text": [
        "\n",
        "bulk_transfer_roi: auc60_roi adata already exists herS1Ss01.2m1/14"
       ]
      },
      {
       "output_type": "stream",
       "stream": "stdout",
       "text": [
        "\n",
        "bulk_transfer_roi: Key roblem with roi src scan for study herS1Ss01.2n1, maybe this study is extra"
       ]
      },
      {
       "output_type": "stream",
       "stream": "stdout",
       "text": [
        "\n",
        "bulk_transfer_roi: auc60 not found in study herS1Ss01.2n1\n",
        "bulk_transfer_roi: Key roblem with roi src scan for study herS1Ss02.2m1, maybe this study is extra"
       ]
      },
      {
       "output_type": "stream",
       "stream": "stdout",
       "text": [
        "\n",
        "bulk_transfer_roi: auc60_roi adata already exists herS1Ss02.2m1/14"
       ]
      },
      {
       "output_type": "stream",
       "stream": "stdout",
       "text": [
        "\n",
        "bulk_transfer_roi: Key roblem with roi src scan for study herS1Ss03.2n1, maybe this study is extra"
       ]
      },
      {
       "output_type": "stream",
       "stream": "stdout",
       "text": [
        "\n",
        "bulk_transfer_roi: auc60_roi adata already exists herS1Ss03.2n1/14"
       ]
      },
      {
       "output_type": "stream",
       "stream": "stdout",
       "text": [
        "\n",
        "bulk_transfer_roi: Key roblem with roi src scan for study herS1Ss04.2m1, maybe this study is extra"
       ]
      },
      {
       "output_type": "stream",
       "stream": "stdout",
       "text": [
        "\n",
        "bulk_transfer_roi: auc60_roi adata already exists herS1Ss04.2m1/14"
       ]
      },
      {
       "output_type": "stream",
       "stream": "stdout",
       "text": [
        "\n",
        "bulk_transfer_roi: Key roblem with roi src scan for study herS1Ss06.2n1, maybe this study is extra"
       ]
      },
      {
       "output_type": "stream",
       "stream": "stdout",
       "text": [
        "\n",
        "bulk_transfer_roi: auc60_roi adata already exists herS1Ss06.2n1/14"
       ]
      },
      {
       "output_type": "stream",
       "stream": "stdout",
       "text": [
        "\n",
        "Firas: you really need to fix this function so it uses the masterlist\n"
       ]
      },
      {
       "output_type": "stream",
       "stream": "stdout",
       "text": [
        "bulk_transfer_roi: Key roblem with roi src scan for study herS1Lo01.2e1, maybe this study is extra\n",
        "bulk_transfer_roi: auc60 not found in study herS1Lo01.2e1\n",
        "bulk_transfer_roi: auc60 not found in study herS1Lo01.2g1"
       ]
      },
      {
       "output_type": "stream",
       "stream": "stderr",
       "text": [
        "WARNING:sarpy.io.BRUKER_classes:loading studies of different SUBJECT_id(s) not permitted\n"
       ]
      },
      {
       "output_type": "stream",
       "stream": "stdout",
       "text": [
        "\n",
        "deleting item auc60_roi"
       ]
      },
      {
       "output_type": "stream",
       "stream": "stdout",
       "text": [
        "\n",
        "bulk_transfer_roi: Success. Saved auc60_roi in herS1Lo02.2e1/19"
       ]
      },
      {
       "output_type": "stream",
       "stream": "stdout",
       "text": [
        "\n",
        "deleting item auc60_roi"
       ]
      },
      {
       "output_type": "stream",
       "stream": "stdout",
       "text": [
        "\n",
        "bulk_transfer_roi: Success. Saved auc60_roi in herS1Lo02B.2g1/14"
       ]
      },
      {
       "output_type": "stream",
       "stream": "stdout",
       "text": [
        "\n",
        "deleting item auc60_roi"
       ]
      },
      {
       "output_type": "stream",
       "stream": "stdout",
       "text": [
        "\n",
        "bulk_transfer_roi: Success. Saved auc60_roi in herS1Lo03.2e1/17"
       ]
      },
      {
       "output_type": "stream",
       "stream": "stdout",
       "text": [
        "\n",
        "deleting item auc60_roi"
       ]
      },
      {
       "output_type": "stream",
       "stream": "stdout",
       "text": [
        "\n",
        "bulk_transfer_roi: Success. Saved auc60_roi in herS1Lo04.2e1/14"
       ]
      },
      {
       "output_type": "stream",
       "stream": "stdout",
       "text": [
        "\n",
        "deleting item auc60_roi"
       ]
      },
      {
       "output_type": "stream",
       "stream": "stdout",
       "text": [
        "\n",
        "bulk_transfer_roi: Success. Saved auc60_roi in herS1Ls01.2e1/18"
       ]
      },
      {
       "output_type": "stream",
       "stream": "stdout",
       "text": [
        "\n",
        "deleting item auc60_roi"
       ]
      },
      {
       "output_type": "stream",
       "stream": "stdout",
       "text": [
        "\n",
        "bulk_transfer_roi: Success. Saved auc60_roi in herS1Ls02.2g1/14"
       ]
      },
      {
       "output_type": "stream",
       "stream": "stdout",
       "text": [
        "\n",
        "deleting item auc60_roi"
       ]
      },
      {
       "output_type": "stream",
       "stream": "stdout",
       "text": [
        "\n",
        "bulk_transfer_roi: Success. Saved auc60_roi in herS1Ls03.2f1/14"
       ]
      },
      {
       "output_type": "stream",
       "stream": "stdout",
       "text": [
        "\n",
        "deleting item auc60_roi"
       ]
      },
      {
       "output_type": "stream",
       "stream": "stdout",
       "text": [
        "\n",
        "bulk_transfer_roi: Success. Saved auc60_roi in herS1Ls05.2e1/15"
       ]
      },
      {
       "output_type": "stream",
       "stream": "stdout",
       "text": [
        "\n",
        "deleting item auc60_roi"
       ]
      },
      {
       "output_type": "stream",
       "stream": "stdout",
       "text": [
        "\n",
        "bulk_transfer_roi: Success. Saved auc60_roi in herS1Mo02.251/14"
       ]
      },
      {
       "output_type": "stream",
       "stream": "stdout",
       "text": [
        "\n",
        "deleting item auc60_roi"
       ]
      },
      {
       "output_type": "stream",
       "stream": "stdout",
       "text": [
        "\n",
        "bulk_transfer_roi: Success. Saved auc60_roi in herS1Mo03.251/17"
       ]
      },
      {
       "output_type": "stream",
       "stream": "stdout",
       "text": [
        "\n",
        "deleting item auc60_roi"
       ]
      },
      {
       "output_type": "stream",
       "stream": "stdout",
       "text": [
        "\n",
        "bulk_transfer_roi: Success. Saved auc60_roi in herS1Mo04.271/17"
       ]
      },
      {
       "output_type": "stream",
       "stream": "stdout",
       "text": [
        "\n",
        "deleting item auc60_roi"
       ]
      },
      {
       "output_type": "stream",
       "stream": "stdout",
       "text": [
        "\n",
        "bulk_transfer_roi: Success. Saved auc60_roi in herS1Mo05.271/17"
       ]
      },
      {
       "output_type": "stream",
       "stream": "stdout",
       "text": [
        "\n",
        "deleting item auc60_roi"
       ]
      },
      {
       "output_type": "stream",
       "stream": "stdout",
       "text": [
        "\n",
        "bulk_transfer_roi: Success. Saved auc60_roi in herS1Mo06.2g1/14"
       ]
      },
      {
       "output_type": "stream",
       "stream": "stdout",
       "text": [
        "\n",
        "deleting item auc60_roi"
       ]
      },
      {
       "output_type": "stream",
       "stream": "stdout",
       "text": [
        "\n",
        "bulk_transfer_roi: Success. Saved auc60_roi in herS1Ms02.251/18"
       ]
      },
      {
       "output_type": "stream",
       "stream": "stdout",
       "text": [
        "\n",
        "deleting item auc60_roi"
       ]
      },
      {
       "output_type": "stream",
       "stream": "stdout",
       "text": [
        "\n",
        "bulk_transfer_roi: Success. Saved auc60_roi in herS1Ms03.271/17"
       ]
      },
      {
       "output_type": "stream",
       "stream": "stdout",
       "text": [
        "\n",
        "deleting item auc60_roi"
       ]
      },
      {
       "output_type": "stream",
       "stream": "stdout",
       "text": [
        "\n",
        "bulk_transfer_roi: Success. Saved auc60_roi in herS1Ms04.271/17"
       ]
      },
      {
       "output_type": "stream",
       "stream": "stdout",
       "text": [
        "\n",
        "deleting item auc60_roi"
       ]
      },
      {
       "output_type": "stream",
       "stream": "stdout",
       "text": [
        "\n",
        "bulk_transfer_roi: Success. Saved auc60_roi in herS1Ms05.271/17"
       ]
      },
      {
       "output_type": "stream",
       "stream": "stdout",
       "text": [
        "\n",
        "deleting item auc60_roi"
       ]
      },
      {
       "output_type": "stream",
       "stream": "stdout",
       "text": [
        "\n",
        "bulk_transfer_roi: Success. Saved auc60_roi in herS1Ms06.2g1/13"
       ]
      },
      {
       "output_type": "stream",
       "stream": "stdout",
       "text": [
        "\n",
        "deleting item auc60_roi"
       ]
      },
      {
       "output_type": "stream",
       "stream": "stdout",
       "text": [
        "\n",
        "bulk_transfer_roi: Success. Saved auc60_roi in herS1So02.2m1/14"
       ]
      },
      {
       "output_type": "stream",
       "stream": "stdout",
       "text": [
        "\n",
        "deleting item auc60_roi"
       ]
      },
      {
       "output_type": "stream",
       "stream": "stdout",
       "text": [
        "\n",
        "bulk_transfer_roi: Success. Saved auc60_roi in herS1So03.2n1/14"
       ]
      },
      {
       "output_type": "stream",
       "stream": "stdout",
       "text": [
        "\n",
        "deleting item auc60_roi"
       ]
      },
      {
       "output_type": "stream",
       "stream": "stdout",
       "text": [
        "\n",
        "bulk_transfer_roi: Success. Saved auc60_roi in herS1So04.2m1/14"
       ]
      },
      {
       "output_type": "stream",
       "stream": "stdout",
       "text": [
        "\n",
        "deleting item auc60_roi"
       ]
      },
      {
       "output_type": "stream",
       "stream": "stdout",
       "text": [
        "\n",
        "bulk_transfer_roi: Success. Saved auc60_roi in herS1So05.2n1/14"
       ]
      },
      {
       "output_type": "stream",
       "stream": "stdout",
       "text": [
        "\n",
        "deleting item auc60_roi"
       ]
      },
      {
       "output_type": "stream",
       "stream": "stdout",
       "text": [
        "\n",
        "bulk_transfer_roi: Success. Saved auc60_roi in herS1Ss01.2m1/14"
       ]
      },
      {
       "output_type": "stream",
       "stream": "stdout",
       "text": [
        "\n",
        "bulk_transfer_roi: Key roblem with roi src scan for study herS1Ss01.2n1, maybe this study is extra"
       ]
      },
      {
       "output_type": "stream",
       "stream": "stdout",
       "text": [
        "\n",
        "bulk_transfer_roi: auc60 not found in study herS1Ss01.2n1\n",
        "deleting item auc60_roi"
       ]
      },
      {
       "output_type": "stream",
       "stream": "stdout",
       "text": [
        "\n",
        "bulk_transfer_roi: Success. Saved auc60_roi in herS1Ss02.2m1/14"
       ]
      },
      {
       "output_type": "stream",
       "stream": "stdout",
       "text": [
        "\n",
        "deleting item auc60_roi"
       ]
      },
      {
       "output_type": "stream",
       "stream": "stdout",
       "text": [
        "\n",
        "bulk_transfer_roi: Success. Saved auc60_roi in herS1Ss03.2n1/14"
       ]
      },
      {
       "output_type": "stream",
       "stream": "stdout",
       "text": [
        "\n",
        "deleting item auc60_roi"
       ]
      },
      {
       "output_type": "stream",
       "stream": "stdout",
       "text": [
        "\n",
        "bulk_transfer_roi: Success. Saved auc60_roi in herS1Ss04.2m1/14"
       ]
      },
      {
       "output_type": "stream",
       "stream": "stdout",
       "text": [
        "\n",
        "deleting item auc60_roi"
       ]
      },
      {
       "output_type": "stream",
       "stream": "stdout",
       "text": [
        "\n",
        "bulk_transfer_roi: Success. Saved auc60_roi in herS1Ss06.2n1/14"
       ]
      },
      {
       "output_type": "stream",
       "stream": "stdout",
       "text": [
        "\n",
        "Firas: you really need to fix this function so it uses the masterlist\n"
       ]
      }
     ],
     "prompt_number": 21
    },
    {
     "cell_type": "markdown",
     "metadata": {},
     "source": [
      "## Step 5: Perform advanced analyses (requiring ROIs or basic adata)"
     ]
    },
    {
     "cell_type": "code",
     "collapsed": false,
     "input": [
      "adv_analyze_list = []\n",
      "fFlag = True\n",
      "\n",
      "adv_analyze_list.append([ '0h-dce1', 'ec','auc60_roi',fFlag])\n",
      "\n",
      "# T1 map\n",
      "#adv_analyze_list.append([ '0h-DCE1', 'gd_conc','augc60',fFlag])\n",
      "\n",
      "for items in adv_analyze_list:\n",
      "    \n",
      "    if items[1] == 'ec':\n",
      "        sarpy.fmoosvi.wrappers.calc_enhancement_curve(masterlist,\n",
      "                                                      items[0],items[1],\n",
      "                                                      items[2],forceVal=fFlag)\n",
      "#\n",
      "#    if items[3] == 'gd_conc':\n",
      "#        \n",
      "#        sarpy.fmoosvi.wrappers.conc_from_signal(masterlist, items[0],\n",
      "#                                        data_label_T1map = items[1],\n",
      "#                                        adata_label = items[2], \n",
      "\n",
      "\n",
      "#                                        analysis_label = items[3],\n",
      "#                                        forceVal = fFlag)\n",
      "#\n",
      "#    elif items[2] == 'augc60':\n",
      "#        \n",
      "#        sarpy.fmoosvi.wrappers.calc_AUGC(masterlist,\n",
      "#                                         items[0], items[1],\n",
      "#                                         analysis_label=items[2],\n",
      "#                                         forceVal = items[3])"
     ],
     "language": "python",
     "metadata": {},
     "outputs": [
      {
       "output_type": "stream",
       "stream": "stdout",
       "text": [
        "herS1Lo01: Not found 0h-dce1 and ec\n",
        "\n",
        " \n",
        " ***** Warning **** \n",
        " \n",
        " !!! Incomplete dce data for herS1Lo02.2e1/19 \n",
        " \n"
       ]
      },
      {
       "output_type": "stream",
       "stream": "stdout",
       "text": [
        "\n",
        "Could not find the injection point, possibly okay6"
       ]
      },
      {
       "output_type": "stream",
       "stream": "stdout",
       "text": [
        "\n",
        "deleting item ec"
       ]
      },
      {
       "output_type": "stream",
       "stream": "stdout",
       "text": [
        "\n",
        "deleting item ec"
       ]
      },
      {
       "output_type": "stream",
       "stream": "stdout",
       "text": [
        "\n",
        "\n",
        " \n",
        " ***** Warning **** \n",
        " \n",
        " !!! Incomplete dce data for herS1Lo03.2e1/17 \n",
        " \n"
       ]
      },
      {
       "output_type": "stream",
       "stream": "stdout",
       "text": [
        "\n",
        "deleting item ec"
       ]
      },
      {
       "output_type": "stream",
       "stream": "stdout",
       "text": [
        "\n",
        "deleting item ec"
       ]
      },
      {
       "output_type": "stream",
       "stream": "stdout",
       "text": [
        "\n",
        "deleting item ec"
       ]
      },
      {
       "output_type": "stream",
       "stream": "stdout",
       "text": [
        "\n",
        "deleting item ec"
       ]
      },
      {
       "output_type": "stream",
       "stream": "stdout",
       "text": [
        "\n",
        "deleting item ec"
       ]
      },
      {
       "output_type": "stream",
       "stream": "stdout",
       "text": [
        "\n",
        "deleting item ec"
       ]
      },
      {
       "output_type": "stream",
       "stream": "stdout",
       "text": [
        "\n",
        "deleting item ec"
       ]
      },
      {
       "output_type": "stream",
       "stream": "stdout",
       "text": [
        "\n",
        "deleting item ec"
       ]
      },
      {
       "output_type": "stream",
       "stream": "stdout",
       "text": [
        "\n",
        "deleting item ec"
       ]
      },
      {
       "output_type": "stream",
       "stream": "stdout",
       "text": [
        "\n",
        "\n",
        " \n",
        " ***** Warning **** \n",
        " \n",
        " !!! Incomplete dce data for herS1Mo05.271/17 \n",
        " \n"
       ]
      },
      {
       "output_type": "stream",
       "stream": "stdout",
       "text": [
        "\n",
        "deleting item ec"
       ]
      },
      {
       "output_type": "stream",
       "stream": "stdout",
       "text": [
        "\n",
        "\n",
        " \n",
        " ***** Warning **** \n",
        " \n",
        " !!! Incomplete dce data for herS1Ms02.251/18 \n",
        " \n"
       ]
      },
      {
       "output_type": "stream",
       "stream": "stdout",
       "text": [
        "\n",
        "deleting item ec"
       ]
      },
      {
       "output_type": "stream",
       "stream": "stdout",
       "text": [
        "\n",
        "deleting item ec"
       ]
      },
      {
       "output_type": "stream",
       "stream": "stdout",
       "text": [
        "\n",
        "deleting item ec"
       ]
      },
      {
       "output_type": "stream",
       "stream": "stdout",
       "text": [
        "\n",
        "deleting item ec"
       ]
      },
      {
       "output_type": "stream",
       "stream": "stdout",
       "text": [
        "\n",
        "deleting item ec"
       ]
      },
      {
       "output_type": "stream",
       "stream": "stdout",
       "text": [
        "\n",
        "deleting item ec"
       ]
      },
      {
       "output_type": "stream",
       "stream": "stdout",
       "text": [
        "\n",
        "deleting item ec"
       ]
      },
      {
       "output_type": "stream",
       "stream": "stdout",
       "text": [
        "\n",
        "deleting item ec"
       ]
      },
      {
       "output_type": "stream",
       "stream": "stdout",
       "text": [
        "\n",
        "deleting item ec"
       ]
      },
      {
       "output_type": "stream",
       "stream": "stdout",
       "text": [
        "\n",
        "deleting item ec"
       ]
      },
      {
       "output_type": "stream",
       "stream": "stdout",
       "text": [
        "\n",
        "deleting item ec"
       ]
      },
      {
       "output_type": "stream",
       "stream": "stdout",
       "text": [
        "\n",
        "deleting item ec"
       ]
      },
      {
       "output_type": "stream",
       "stream": "stdout",
       "text": [
        "\n",
        "deleting item ec"
       ]
      },
      {
       "output_type": "stream",
       "stream": "stdout",
       "text": [
        "\n",
        "deleting item ec"
       ]
      },
      {
       "output_type": "stream",
       "stream": "stdout",
       "text": [
        "\n"
       ]
      },
      {
       "output_type": "stream",
       "stream": "stderr",
       "text": [
        "/Library/Python/2.7/site-packages/scipy-0.13.0.dev_c31f167_20130514-py2.7-macosx-10.8-intel.egg/scipy/stats/stats.py:346: RuntimeWarning: invalid value encountered in true_divide\n",
        "  return np.mean(x,axis)/factor\n"
       ]
      }
     ],
     "prompt_number": 22
    },
    {
     "cell_type": "code",
     "collapsed": false,
     "input": [
      "print(datetime.now()-startTime)"
     ],
     "language": "python",
     "metadata": {},
     "outputs": [
      {
       "output_type": "stream",
       "stream": "stdout",
       "text": [
        "0:20:10.056063\n"
       ]
      }
     ],
     "prompt_number": 23
    },
    {
     "cell_type": "markdown",
     "metadata": {},
     "source": [
      "## Step 6. Averages"
     ]
    },
    {
     "cell_type": "code",
     "collapsed": false,
     "input": [
      "## AUC60\n",
      "fFlag = True\n",
      "\n",
      "data_label = ['0h-dce1']\n",
      "adata_label = 'auc60'\n",
      "roi_label = 'auc60_roi'\n",
      "analysis_label = 'auc60avg'\n",
      "\n",
      "for s in data_label:\n",
      "    sarpy.fmoosvi.wrappers.roi_average(masterlist,s, adata_label, roi_label,analysis_label,fFlag)"
     ],
     "language": "python",
     "metadata": {},
     "outputs": [
      {
       "output_type": "stream",
       "stream": "stdout",
       "text": [
        "auc60avg: Not found adata auc60 or auc60_roi in patient herS1Lo01\n",
        "deleting item auc60avg"
       ]
      },
      {
       "output_type": "stream",
       "stream": "stdout",
       "text": [
        "\n",
        "deleting item auc60avg_weights"
       ]
      },
      {
       "output_type": "stream",
       "stream": "stdout",
       "text": [
        "\n",
        "auc60avg: Success. Saved herS1Lo02.2e1/19"
       ]
      },
      {
       "output_type": "stream",
       "stream": "stdout",
       "text": [
        "\n",
        "deleting item auc60avg"
       ]
      },
      {
       "output_type": "stream",
       "stream": "stdout",
       "text": [
        "\n",
        "deleting item auc60avg_weights"
       ]
      },
      {
       "output_type": "stream",
       "stream": "stdout",
       "text": [
        "\n",
        "auc60avg: Success. Saved herS1Lo02B.2g1/14"
       ]
      },
      {
       "output_type": "stream",
       "stream": "stdout",
       "text": [
        "\n",
        "deleting item auc60avg"
       ]
      },
      {
       "output_type": "stream",
       "stream": "stdout",
       "text": [
        "\n",
        "deleting item auc60avg_weights"
       ]
      },
      {
       "output_type": "stream",
       "stream": "stdout",
       "text": [
        "\n",
        "auc60avg: Success. Saved herS1Lo03.2e1/17"
       ]
      },
      {
       "output_type": "stream",
       "stream": "stdout",
       "text": [
        "\n",
        "deleting item auc60avg"
       ]
      },
      {
       "output_type": "stream",
       "stream": "stdout",
       "text": [
        "\n",
        "deleting item auc60avg_weights"
       ]
      },
      {
       "output_type": "stream",
       "stream": "stdout",
       "text": [
        "\n",
        "auc60avg: Success. Saved herS1Lo04.2e1/14"
       ]
      },
      {
       "output_type": "stream",
       "stream": "stdout",
       "text": [
        "\n",
        "deleting item auc60avg"
       ]
      },
      {
       "output_type": "stream",
       "stream": "stdout",
       "text": [
        "\n",
        "deleting item auc60avg_weights"
       ]
      },
      {
       "output_type": "stream",
       "stream": "stdout",
       "text": [
        "\n",
        "auc60avg: Success. Saved herS1Ls01.2e1/18"
       ]
      },
      {
       "output_type": "stream",
       "stream": "stdout",
       "text": [
        "\n",
        "deleting item auc60avg"
       ]
      },
      {
       "output_type": "stream",
       "stream": "stdout",
       "text": [
        "\n",
        "deleting item auc60avg_weights"
       ]
      },
      {
       "output_type": "stream",
       "stream": "stdout",
       "text": [
        "\n",
        "auc60avg: Success. Saved herS1Ls02.2g1/14"
       ]
      },
      {
       "output_type": "stream",
       "stream": "stdout",
       "text": [
        "\n",
        "deleting item auc60avg"
       ]
      },
      {
       "output_type": "stream",
       "stream": "stdout",
       "text": [
        "\n",
        "deleting item auc60avg_weights"
       ]
      },
      {
       "output_type": "stream",
       "stream": "stdout",
       "text": [
        "\n",
        "auc60avg: Success. Saved herS1Ls03.2f1/14"
       ]
      },
      {
       "output_type": "stream",
       "stream": "stdout",
       "text": [
        "\n",
        "deleting item auc60avg"
       ]
      },
      {
       "output_type": "stream",
       "stream": "stdout",
       "text": [
        "\n",
        "deleting item auc60avg_weights"
       ]
      },
      {
       "output_type": "stream",
       "stream": "stdout",
       "text": [
        "\n",
        "auc60avg: Success. Saved herS1Ls05.2e1/15"
       ]
      },
      {
       "output_type": "stream",
       "stream": "stdout",
       "text": [
        "\n",
        "deleting item auc60avg"
       ]
      },
      {
       "output_type": "stream",
       "stream": "stdout",
       "text": [
        "\n",
        "deleting item auc60avg_weights"
       ]
      },
      {
       "output_type": "stream",
       "stream": "stdout",
       "text": [
        "\n",
        "auc60avg: Success. Saved herS1Mo02.251/14"
       ]
      },
      {
       "output_type": "stream",
       "stream": "stdout",
       "text": [
        "\n",
        "deleting item auc60avg"
       ]
      },
      {
       "output_type": "stream",
       "stream": "stdout",
       "text": [
        "\n",
        "deleting item auc60avg_weights"
       ]
      },
      {
       "output_type": "stream",
       "stream": "stdout",
       "text": [
        "\n",
        "auc60avg: Success. Saved herS1Mo03.251/17"
       ]
      },
      {
       "output_type": "stream",
       "stream": "stdout",
       "text": [
        "\n",
        "deleting item auc60avg"
       ]
      },
      {
       "output_type": "stream",
       "stream": "stdout",
       "text": [
        "\n",
        "deleting item auc60avg_weights"
       ]
      },
      {
       "output_type": "stream",
       "stream": "stdout",
       "text": [
        "\n",
        "auc60avg: Success. Saved herS1Mo04.271/17"
       ]
      },
      {
       "output_type": "stream",
       "stream": "stdout",
       "text": [
        "\n",
        "deleting item auc60avg"
       ]
      },
      {
       "output_type": "stream",
       "stream": "stdout",
       "text": [
        "\n",
        "deleting item auc60avg_weights"
       ]
      },
      {
       "output_type": "stream",
       "stream": "stdout",
       "text": [
        "\n",
        "auc60avg: Success. Saved herS1Mo05.271/17"
       ]
      },
      {
       "output_type": "stream",
       "stream": "stdout",
       "text": [
        "\n",
        "deleting item auc60avg"
       ]
      },
      {
       "output_type": "stream",
       "stream": "stdout",
       "text": [
        "\n",
        "deleting item auc60avg_weights"
       ]
      },
      {
       "output_type": "stream",
       "stream": "stdout",
       "text": [
        "\n",
        "auc60avg: Success. Saved herS1Mo06.2g1/14"
       ]
      },
      {
       "output_type": "stream",
       "stream": "stdout",
       "text": [
        "\n",
        "deleting item auc60avg"
       ]
      },
      {
       "output_type": "stream",
       "stream": "stdout",
       "text": [
        "\n",
        "deleting item auc60avg_weights"
       ]
      },
      {
       "output_type": "stream",
       "stream": "stdout",
       "text": [
        "\n",
        "auc60avg: Success. Saved herS1Ms02.251/18"
       ]
      },
      {
       "output_type": "stream",
       "stream": "stdout",
       "text": [
        "\n",
        "deleting item auc60avg"
       ]
      },
      {
       "output_type": "stream",
       "stream": "stdout",
       "text": [
        "\n",
        "deleting item auc60avg_weights"
       ]
      },
      {
       "output_type": "stream",
       "stream": "stdout",
       "text": [
        "\n",
        "auc60avg: Success. Saved herS1Ms03.271/17"
       ]
      },
      {
       "output_type": "stream",
       "stream": "stdout",
       "text": [
        "\n",
        "deleting item auc60avg"
       ]
      },
      {
       "output_type": "stream",
       "stream": "stdout",
       "text": [
        "\n",
        "deleting item auc60avg_weights"
       ]
      },
      {
       "output_type": "stream",
       "stream": "stdout",
       "text": [
        "\n",
        "auc60avg: Success. Saved herS1Ms04.271/17"
       ]
      },
      {
       "output_type": "stream",
       "stream": "stdout",
       "text": [
        "\n",
        "deleting item auc60avg"
       ]
      },
      {
       "output_type": "stream",
       "stream": "stdout",
       "text": [
        "\n",
        "deleting item auc60avg_weights"
       ]
      },
      {
       "output_type": "stream",
       "stream": "stdout",
       "text": [
        "\n",
        "auc60avg: Success. Saved herS1Ms05.271/17"
       ]
      },
      {
       "output_type": "stream",
       "stream": "stdout",
       "text": [
        "\n",
        "deleting item auc60avg"
       ]
      },
      {
       "output_type": "stream",
       "stream": "stdout",
       "text": [
        "\n",
        "deleting item auc60avg_weights"
       ]
      },
      {
       "output_type": "stream",
       "stream": "stdout",
       "text": [
        "\n",
        "auc60avg: Success. Saved herS1Ms06.2g1/13"
       ]
      },
      {
       "output_type": "stream",
       "stream": "stdout",
       "text": [
        "\n",
        "deleting item auc60avg"
       ]
      },
      {
       "output_type": "stream",
       "stream": "stdout",
       "text": [
        "\n",
        "deleting item auc60avg_weights"
       ]
      },
      {
       "output_type": "stream",
       "stream": "stdout",
       "text": [
        "\n",
        "auc60avg: Success. Saved herS1So02.2m1/14"
       ]
      },
      {
       "output_type": "stream",
       "stream": "stdout",
       "text": [
        "\n",
        "deleting item auc60avg"
       ]
      },
      {
       "output_type": "stream",
       "stream": "stdout",
       "text": [
        "\n",
        "deleting item auc60avg_weights"
       ]
      },
      {
       "output_type": "stream",
       "stream": "stdout",
       "text": [
        "\n",
        "auc60avg: Success. Saved herS1So03.2n1/14"
       ]
      },
      {
       "output_type": "stream",
       "stream": "stdout",
       "text": [
        "\n",
        "deleting item auc60avg"
       ]
      },
      {
       "output_type": "stream",
       "stream": "stdout",
       "text": [
        "\n",
        "deleting item auc60avg_weights"
       ]
      },
      {
       "output_type": "stream",
       "stream": "stdout",
       "text": [
        "\n",
        "auc60avg: Success. Saved herS1So04.2m1/14"
       ]
      },
      {
       "output_type": "stream",
       "stream": "stdout",
       "text": [
        "\n",
        "deleting item auc60avg"
       ]
      },
      {
       "output_type": "stream",
       "stream": "stdout",
       "text": [
        "\n",
        "deleting item auc60avg_weights"
       ]
      },
      {
       "output_type": "stream",
       "stream": "stdout",
       "text": [
        "\n",
        "auc60avg: Success. Saved herS1So05.2n1/14"
       ]
      },
      {
       "output_type": "stream",
       "stream": "stdout",
       "text": [
        "\n",
        "deleting item auc60avg"
       ]
      },
      {
       "output_type": "stream",
       "stream": "stdout",
       "text": [
        "\n",
        "deleting item auc60avg_weights"
       ]
      },
      {
       "output_type": "stream",
       "stream": "stdout",
       "text": [
        "\n",
        "auc60avg: Success. Saved herS1Ss01.2m1/14"
       ]
      },
      {
       "output_type": "stream",
       "stream": "stdout",
       "text": [
        "\n",
        "deleting item auc60avg"
       ]
      },
      {
       "output_type": "stream",
       "stream": "stdout",
       "text": [
        "\n",
        "deleting item auc60avg_weights"
       ]
      },
      {
       "output_type": "stream",
       "stream": "stdout",
       "text": [
        "\n",
        "auc60avg: Success. Saved herS1Ss02.2m1/14"
       ]
      },
      {
       "output_type": "stream",
       "stream": "stdout",
       "text": [
        "\n",
        "deleting item auc60avg"
       ]
      },
      {
       "output_type": "stream",
       "stream": "stdout",
       "text": [
        "\n",
        "deleting item auc60avg_weights"
       ]
      },
      {
       "output_type": "stream",
       "stream": "stdout",
       "text": [
        "\n",
        "auc60avg: Success. Saved herS1Ss03.2n1/14"
       ]
      },
      {
       "output_type": "stream",
       "stream": "stdout",
       "text": [
        "\n",
        "deleting item auc60avg"
       ]
      },
      {
       "output_type": "stream",
       "stream": "stdout",
       "text": [
        "\n",
        "deleting item auc60avg_weights"
       ]
      },
      {
       "output_type": "stream",
       "stream": "stdout",
       "text": [
        "\n",
        "auc60avg: Success. Saved herS1Ss04.2m1/14"
       ]
      },
      {
       "output_type": "stream",
       "stream": "stdout",
       "text": [
        "\n",
        "deleting item auc60avg"
       ]
      },
      {
       "output_type": "stream",
       "stream": "stdout",
       "text": [
        "\n",
        "deleting item auc60avg_weights"
       ]
      },
      {
       "output_type": "stream",
       "stream": "stdout",
       "text": [
        "\n",
        "auc60avg: Success. Saved herS1Ss06.2n1/14"
       ]
      },
      {
       "output_type": "stream",
       "stream": "stdout",
       "text": [
        "\n"
       ]
      }
     ],
     "prompt_number": 26
    },
    {
     "cell_type": "code",
     "collapsed": false,
     "input": [
      "import sarpy\n",
      "csv_list = []\n",
      "\n",
      "csv_list.append(['0h-dce1','auc60avg'])\n",
      "\n",
      "for it in csv_list:\n",
      "    \n",
      "    sarpy.io.write_csv.write_csv(masterlist,it[0],it[1])"
     ],
     "language": "python",
     "metadata": {},
     "outputs": [
      {
       "output_type": "stream",
       "stream": "stdout",
       "text": [
        "write_csv: Not found herS1Lo01 and 0h-dce1,auc60avg\n"
       ]
      }
     ],
     "prompt_number": 25
    },
    {
     "cell_type": "code",
     "collapsed": false,
     "input": [],
     "language": "python",
     "metadata": {},
     "outputs": []
    },
    {
     "cell_type": "code",
     "collapsed": false,
     "input": [
      "import sarpy\n",
      "hers1 = sarpy.Experiment('herS1Mo05.271')"
     ],
     "language": "python",
     "metadata": {},
     "outputs": [],
     "prompt_number": 8
    },
    {
     "cell_type": "code",
     "collapsed": false,
     "input": [
      "a=hers1.studies[0].find_scan_by_protocol('.*DCE.*')\n",
      "a."
     ],
     "language": "python",
     "metadata": {},
     "outputs": [
      {
       "metadata": {},
       "output_type": "pyout",
       "prompt_number": 16,
       "text": [
        "[Scan object: Scan(\"herS1Mo05.271/17\")\n",
        "   protocol: 06_FLASH2D_DCE\n",
        "   TE = [2.145]\n",
        "   TR = [103.85]\n",
        "   FA = 75\n",
        "   FoV = [4.26, 1.9]\n",
        "   matrix = [256, 57]]"
       ]
      }
     ],
     "prompt_number": 16
    },
    {
     "cell_type": "code",
     "collapsed": false,
     "input": [
      "hers1.find_adata_scans()"
     ],
     "language": "python",
     "metadata": {},
     "outputs": [
      {
       "metadata": {},
       "output_type": "pyout",
       "prompt_number": 4,
       "text": [
        "{u'auc60': [['herS1Lo02.2e1/19'],\n",
        "  ['herS1Lo02B.2g1/14'],\n",
        "  ['herS1Lo03.2e1/17'],\n",
        "  ['herS1Lo04.2e1/14'],\n",
        "  ['herS1Lo05.2f1/13'],\n",
        "  ['herS1Ls01.2e1/18'],\n",
        "  ['herS1Ls02.2g1/14'],\n",
        "  ['herS1Ls03.2f1/14'],\n",
        "  ['herS1Ls05.2e1/15'],\n",
        "  ['herS1Mo02.251/14'],\n",
        "  ['herS1Mo03.251/17'],\n",
        "  ['herS1Mo04.271/17'],\n",
        "  ['herS1Mo06.2g1/14'],\n",
        "  ['herS1Ms02.251/18'],\n",
        "  ['herS1Ms03.271/17'],\n",
        "  ['herS1Ms04.271/17'],\n",
        "  ['herS1Ms05.271/17'],\n",
        "  ['herS1Ms06.2g1/13'],\n",
        "  ['herS1So02.2m1/14'],\n",
        "  ['herS1So03.2n1/14'],\n",
        "  ['herS1So04.2m1/14'],\n",
        "  ['herS1So05.2n1/14'],\n",
        "  ['herS1Ss01.2m1/14'],\n",
        "  ['herS1Ss02.2m1/14'],\n",
        "  ['herS1Ss03.2n1/14'],\n",
        "  ['herS1Ss04.2m1/14'],\n",
        "  ['herS1Ss06.2n1/14']],\n",
        " u'auc60_roi': [['herS1Lo02.2e1/19'],\n",
        "  ['herS1Lo02B.2g1/14'],\n",
        "  ['herS1Lo03.2e1/17'],\n",
        "  ['herS1Lo04.2e1/14'],\n",
        "  ['herS1Ls01.2e1/18'],\n",
        "  ['herS1Ls02.2g1/14'],\n",
        "  ['herS1Ls03.2f1/14'],\n",
        "  ['herS1Ls05.2e1/15'],\n",
        "  ['herS1Mo02.251/14'],\n",
        "  ['herS1Mo03.251/17'],\n",
        "  ['herS1Mo04.271/17'],\n",
        "  ['herS1Mo06.2g1/14'],\n",
        "  ['herS1Ms02.251/18'],\n",
        "  ['herS1Ms03.271/17'],\n",
        "  ['herS1Ms04.271/17'],\n",
        "  ['herS1Ms05.271/17'],\n",
        "  ['herS1Ms06.2g1/13'],\n",
        "  ['herS1So02.2m1/14'],\n",
        "  ['herS1So03.2n1/14'],\n",
        "  ['herS1So04.2m1/14'],\n",
        "  ['herS1So05.2n1/14'],\n",
        "  ['herS1Ss01.2m1/14'],\n",
        "  ['herS1Ss02.2m1/14'],\n",
        "  ['herS1Ss03.2n1/14'],\n",
        "  ['herS1Ss04.2m1/14'],\n",
        "  ['herS1Ss06.2n1/14']],\n",
        " u'ec': [['herS1Lo02.2e1/19'],\n",
        "  ['herS1Lo02B.2g1/14'],\n",
        "  ['herS1Lo03.2e1/17'],\n",
        "  ['herS1Lo04.2e1/14'],\n",
        "  ['herS1Ls01.2e1/18'],\n",
        "  ['herS1Ls02.2g1/14'],\n",
        "  ['herS1Ls03.2f1/14'],\n",
        "  ['herS1Ls05.2e1/15'],\n",
        "  ['herS1Mo02.251/14'],\n",
        "  ['herS1Mo03.251/17'],\n",
        "  ['herS1Mo04.271/17'],\n",
        "  ['herS1Mo06.2g1/14'],\n",
        "  ['herS1Ms02.251/18'],\n",
        "  ['herS1Ms03.271/17'],\n",
        "  ['herS1Ms04.271/17'],\n",
        "  ['herS1Ms05.271/17'],\n",
        "  ['herS1Ms06.2g1/13'],\n",
        "  ['herS1So02.2m1/14'],\n",
        "  ['herS1So03.2n1/14'],\n",
        "  ['herS1So04.2m1/14'],\n",
        "  ['herS1So05.2n1/14'],\n",
        "  ['herS1Ss01.2m1/14'],\n",
        "  ['herS1Ss02.2m1/14'],\n",
        "  ['herS1Ss03.2n1/14'],\n",
        "  ['herS1Ss04.2m1/14'],\n",
        "  ['herS1Ss06.2n1/14']],\n",
        " u'roi': [['herS1Lo01.2g1/4'],\n",
        "  ['herS1Lo02.2e1/6'],\n",
        "  ['herS1Lo02B.2g1/4'],\n",
        "  ['herS1Lo03.2e1/4'],\n",
        "  ['herS1Lo04.2e1/4'],\n",
        "  ['herS1Ls01.2e1/5'],\n",
        "  ['herS1Ls02.2g1/4'],\n",
        "  ['herS1Ls03.2f1/4'],\n",
        "  ['herS1Ls05.2e1/5'],\n",
        "  ['herS1Mo02.251/4'],\n",
        "  ['herS1Mo03.251/4'],\n",
        "  ['herS1Mo04.271/4'],\n",
        "  ['herS1Mo05.271/4'],\n",
        "  ['herS1Mo06.2g1/4'],\n",
        "  ['herS1Ms02.251/5'],\n",
        "  ['herS1Ms03.271/4'],\n",
        "  ['herS1Ms04.271/4'],\n",
        "  ['herS1Ms05.271/4'],\n",
        "  ['herS1Ms06.2g1/3'],\n",
        "  ['herS1So02.2m1/4'],\n",
        "  ['herS1So03.2n1/4'],\n",
        "  ['herS1So04.2m1/4'],\n",
        "  ['herS1So05.2n1/4'],\n",
        "  ['herS1Ss01.2m1/4'],\n",
        "  ['herS1Ss02.2m1/4'],\n",
        "  ['herS1Ss03.2n1/4'],\n",
        "  ['herS1Ss04.2m1/4'],\n",
        "  ['herS1Ss06.2n1/4']],\n",
        " u'roi_check': [['herS1Lo01.2g1/4'],\n",
        "  ['herS1Lo02.2e1/6'],\n",
        "  ['herS1Lo02B.2g1/4'],\n",
        "  ['herS1Lo03.2e1/4'],\n",
        "  ['herS1Lo04.2e1/4'],\n",
        "  ['herS1Ls01.2e1/5'],\n",
        "  ['herS1Ls02.2g1/4'],\n",
        "  ['herS1Ls03.2f1/4'],\n",
        "  ['herS1Ls05.2e1/5'],\n",
        "  ['herS1Mo02.251/4'],\n",
        "  ['herS1Mo03.251/4'],\n",
        "  ['herS1Mo04.271/4'],\n",
        "  ['herS1Mo05.271/4'],\n",
        "  ['herS1Mo06.2g1/4'],\n",
        "  ['herS1Ms02.251/5'],\n",
        "  ['herS1Ms03.271/4'],\n",
        "  ['herS1Ms04.271/4'],\n",
        "  ['herS1Ms05.271/4'],\n",
        "  ['herS1Ms06.2g1/3'],\n",
        "  ['herS1So02.2m1/4'],\n",
        "  ['herS1So03.2n1/4'],\n",
        "  ['herS1So04.2m1/4'],\n",
        "  ['herS1So05.2n1/4'],\n",
        "  ['herS1Ss01.2m1/4'],\n",
        "  ['herS1Ss02.2m1/4'],\n",
        "  ['herS1Ss03.2n1/4'],\n",
        "  ['herS1Ss04.2m1/4'],\n",
        "  ['herS1Ss06.2n1/4']]}"
       ]
      }
     ],
     "prompt_number": 4
    },
    {
     "cell_type": "code",
     "collapsed": false,
     "input": [
      "hers1.find_scan_by_protocol('.*DCE.*')"
     ],
     "language": "python",
     "metadata": {},
     "outputs": [
      {
       "metadata": {},
       "output_type": "pyout",
       "prompt_number": 5,
       "text": [
        "[Scan object: Scan(\"herS1Lo01.2g1/14\")\n",
        "   protocol: 06_FLASH2D_DCE\n",
        "   TE = [2.145]\n",
        "   TR = [103.85]\n",
        "   FA = 75\n",
        "   FoV = [4.26, 1.9]\n",
        "   matrix = [256, 57],\n",
        " Scan object: Scan(\"herS1Lo02.2e1/19\")\n",
        "   protocol: 06_FLASH2D_DCE\n",
        "   TE = [2.145]\n",
        "   TR = [103.85]\n",
        "   FA = 75\n",
        "   FoV = [4.26, 1.9]\n",
        "   matrix = [256, 57],\n",
        " Scan object: Scan(\"herS1Lo02B.2g1/14\")\n",
        "   protocol: 06_FLASH2D_DCE\n",
        "   TE = [2.145]\n",
        "   TR = [103.85]\n",
        "   FA = 75\n",
        "   FoV = [4.26, 1.9]\n",
        "   matrix = [256, 57],\n",
        " Scan object: Scan(\"herS1Lo03.2e1/17\")\n",
        "   protocol: 06_FLASH2D_DCE\n",
        "   TE = [2.145]\n",
        "   TR = [103.85]\n",
        "   FA = 75\n",
        "   FoV = [4.26, 1.9]\n",
        "   matrix = [256, 57],\n",
        " Scan object: Scan(\"herS1Lo04.2e1/14\")\n",
        "   protocol: 06_FLASH2D_DCE\n",
        "   TE = [2.145]\n",
        "   TR = [103.85]\n",
        "   FA = 75\n",
        "   FoV = [4.26, 1.9]\n",
        "   matrix = [256, 57],\n",
        " Scan object: Scan(\"herS1Lo05.2f1/13\")\n",
        "   protocol: 06_FLASH2D_DCE\n",
        "   TE = [2.145]\n",
        "   TR = [103.85]\n",
        "   FA = 75\n",
        "   FoV = [4.26, 1.9]\n",
        "   matrix = [256, 57],\n",
        " Scan object: Scan(\"herS1Ls01.2e1/18\")\n",
        "   protocol: 06_FLASH2D_DCE\n",
        "   TE = [2.145]\n",
        "   TR = [103.85]\n",
        "   FA = 75\n",
        "   FoV = [4.26, 1.9]\n",
        "   matrix = [256, 57],\n",
        " Scan object: Scan(\"herS1Ls02.2g1/14\")\n",
        "   protocol: 06_FLASH2D_DCE\n",
        "   TE = [2.145]\n",
        "   TR = [103.85]\n",
        "   FA = 75\n",
        "   FoV = [4.26, 1.9]\n",
        "   matrix = [256, 57],\n",
        " Scan object: Scan(\"herS1Ls03.2f1/14\")\n",
        "   protocol: 06_FLASH2D_DCE\n",
        "   TE = [2.145]\n",
        "   TR = [103.85]\n",
        "   FA = 75\n",
        "   FoV = [4.26, 1.9]\n",
        "   matrix = [256, 57],\n",
        " Scan object: Scan(\"herS1Ls05.2e1/15\")\n",
        "   protocol: 06_FLASH2D_DCE\n",
        "   TE = [2.145]\n",
        "   TR = [103.85]\n",
        "   FA = 75\n",
        "   FoV = [4.26, 1.9]\n",
        "   matrix = [256, 57],\n",
        " Scan object: Scan(\"herS1Mo02.251/14\")\n",
        "   protocol: 06_FLASH2D_DCE\n",
        "   TE = [2.145]\n",
        "   TR = [103.85]\n",
        "   FA = 75\n",
        "   FoV = [4.26, 1.9]\n",
        "   matrix = [256, 57],\n",
        " Scan object: Scan(\"herS1Mo03.251/17\")\n",
        "   protocol: 06_FLASH2D_DCE\n",
        "   TE = [2.145]\n",
        "   TR = [103.85]\n",
        "   FA = 60\n",
        "   FoV = [4.26, 1.9]\n",
        "   matrix = [256, 57],\n",
        " Scan object: Scan(\"herS1Mo04.271/17\")\n",
        "   protocol: 06_FLASH2D_DCE\n",
        "   TE = [2.145]\n",
        "   TR = [103.85]\n",
        "   FA = 75\n",
        "   FoV = [4.26, 1.9]\n",
        "   matrix = [256, 57],\n",
        " Scan object: Scan(\"herS1Mo05.271/17\")\n",
        "   protocol: 06_FLASH2D_DCE\n",
        "   TE = [2.145]\n",
        "   TR = [103.85]\n",
        "   FA = 75\n",
        "   FoV = [4.26, 1.9]\n",
        "   matrix = [256, 57],\n",
        " Scan object: Scan(\"herS1Mo06.2g1/14\")\n",
        "   protocol: 06_FLASH2D_DCE\n",
        "   TE = [2.145]\n",
        "   TR = [103.85]\n",
        "   FA = 75\n",
        "   FoV = [4.26, 1.9]\n",
        "   matrix = [256, 57],\n",
        " Scan object: Scan(\"herS1Ms02.251/18\")\n",
        "   protocol: 06_FLASH2D_DCE\n",
        "   TE = [2.145]\n",
        "   TR = [103.85]\n",
        "   FA = 75\n",
        "   FoV = [4.26, 1.9]\n",
        "   matrix = [256, 57],\n",
        " Scan object: Scan(\"herS1Ms03.271/17\")\n",
        "   protocol: 06_FLASH2D_DCE\n",
        "   TE = [2.145]\n",
        "   TR = [103.85]\n",
        "   FA = 75\n",
        "   FoV = [4.26, 1.9]\n",
        "   matrix = [256, 57],\n",
        " Scan object: Scan(\"herS1Ms04.271/17\")\n",
        "   protocol: 06_FLASH2D_DCE\n",
        "   TE = [2.145]\n",
        "   TR = [103.85]\n",
        "   FA = 75\n",
        "   FoV = [4.26, 1.9]\n",
        "   matrix = [256, 57],\n",
        " Scan object: Scan(\"herS1Ms05.271/17\")\n",
        "   protocol: 06_FLASH2D_DCE\n",
        "   TE = [2.145]\n",
        "   TR = [103.85]\n",
        "   FA = 75\n",
        "   FoV = [4.26, 1.9]\n",
        "   matrix = [256, 57],\n",
        " Scan object: Scan(\"herS1Ms06.2g1/13\")\n",
        "   protocol: 06_FLASH2D_DCE\n",
        "   TE = [2.145]\n",
        "   TR = [103.85]\n",
        "   FA = 75\n",
        "   FoV = [4.26, 1.9]\n",
        "   matrix = [256, 57],\n",
        " Scan object: Scan(\"herS1So02.2m1/14\")\n",
        "   protocol: 06_FLASH2D_DCE\n",
        "   TE = [2.145]\n",
        "   TR = [103.85]\n",
        "   FA = 75\n",
        "   FoV = [4.26, 1.9]\n",
        "   matrix = [256, 57],\n",
        " Scan object: Scan(\"herS1So03.2n1/14\")\n",
        "   protocol: 06_FLASH2D_DCE\n",
        "   TE = [2.145]\n",
        "   TR = [103.85]\n",
        "   FA = 75\n",
        "   FoV = [4.26, 1.9]\n",
        "   matrix = [256, 57],\n",
        " Scan object: Scan(\"herS1So04.2m1/14\")\n",
        "   protocol: 06_FLASH2D_DCE\n",
        "   TE = [2.145]\n",
        "   TR = [103.85]\n",
        "   FA = 75\n",
        "   FoV = [4.26, 1.9]\n",
        "   matrix = [256, 57],\n",
        " Scan object: Scan(\"herS1So05.2n1/14\")\n",
        "   protocol: 06_FLASH2D_DCE\n",
        "   TE = [2.145]\n",
        "   TR = [103.85]\n",
        "   FA = 75\n",
        "   FoV = [4.26, 1.9]\n",
        "   matrix = [256, 57],\n",
        " Scan object: Scan(\"herS1Ss01.2m1/14\")\n",
        "   protocol: 06_FLASH2D_DCE\n",
        "   TE = [2.145]\n",
        "   TR = [103.85]\n",
        "   FA = 75\n",
        "   FoV = [4.26, 1.9]\n",
        "   matrix = [256, 57],\n",
        " Scan object: Scan(\"herS1Ss01.2n1/14\")\n",
        "   protocol: 06_FLASH2D_DCE\n",
        "   TE = [2.145]\n",
        "   TR = [103.85]\n",
        "   FA = 75\n",
        "   FoV = [4.26, 1.9]\n",
        "   matrix = [256, 57],\n",
        " Scan object: Scan(\"herS1Ss02.2m1/14\")\n",
        "   protocol: 06_FLASH2D_DCE\n",
        "   TE = [2.145]\n",
        "   TR = [103.85]\n",
        "   FA = 75\n",
        "   FoV = [4.26, 1.9]\n",
        "   matrix = [256, 57],\n",
        " Scan object: Scan(\"herS1Ss03.2n1/14\")\n",
        "   protocol: 06_FLASH2D_DCE\n",
        "   TE = [2.145]\n",
        "   TR = [103.85]\n",
        "   FA = 75\n",
        "   FoV = [4.26, 1.9]\n",
        "   matrix = [256, 57],\n",
        " Scan object: Scan(\"herS1Ss04.2m1/14\")\n",
        "   protocol: 06_FLASH2D_DCE\n",
        "   TE = [2.145]\n",
        "   TR = [103.85]\n",
        "   FA = 75\n",
        "   FoV = [4.26, 1.9]\n",
        "   matrix = [256, 57],\n",
        " Scan object: Scan(\"herS1Ss06.2n1/14\")\n",
        "   protocol: 06_FLASH2D_DCE\n",
        "   TE = [2.145]\n",
        "   TR = [103.85]\n",
        "   FA = 75\n",
        "   FoV = [4.26, 1.9]\n",
        "   matrix = [256, 57]]"
       ]
      }
     ],
     "prompt_number": 5
    },
    {
     "cell_type": "code",
     "collapsed": false,
     "input": [],
     "language": "python",
     "metadata": {},
     "outputs": []
    }
   ],
   "metadata": {}
  }
 ]
}