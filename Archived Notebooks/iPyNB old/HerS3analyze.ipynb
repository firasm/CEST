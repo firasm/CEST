{
 "metadata": {
  "name": "HerS3analyze"
 },
 "nbformat": 3,
 "nbformat_minor": 0,
 "worksheets": [
  {
   "cells": [
    {
     "cell_type": "markdown",
     "metadata": {},
     "source": [
      "This is a template for analyzing various animals using the new python setup.\n",
      "\n",
      "Change the name of the experiment in Step 0, and then again the names of the labels in Step 4. This template requires that the masterlist be already created using generate_masterlist.py"
     ]
    },
    {
     "cell_type": "markdown",
     "metadata": {},
     "source": [
      "#### Set imports and define the experiment name"
     ]
    },
    {
     "cell_type": "code",
     "collapsed": false,
     "input": [
      "import sarpy\n",
      "import sarpy.fmoosvi.wrappers\n",
      "from datetime import datetime\n",
      "from collections import defaultdict\n",
      "import os\n",
      "import sys\n",
      "import errno\n",
      "\n",
      "startTime = datetime.now()"
     ],
     "language": "python",
     "metadata": {},
     "outputs": [],
     "prompt_number": 3
    },
    {
     "cell_type": "markdown",
     "metadata": {},
     "source": [
      "## Step 0 - Specify experiment name"
     ]
    },
    {
     "cell_type": "code",
     "collapsed": false,
     "input": [
      "masterlist = 'HerS3'\n",
      "path = os.path.join(os.path.expanduser('~'),'sdata',masterlist,'rois')\n",
      "\n",
      "# See if the rois directory exists, if it doesn't create it\n",
      "try:\n",
      "    os.makedirs(path)\n",
      "except OSError as exception:\n",
      "    if exception.errno != errno.EEXIST:\n",
      "        raise"
     ],
     "language": "python",
     "metadata": {},
     "outputs": [],
     "prompt_number": 4
    },
    {
     "cell_type": "markdown",
     "metadata": {},
     "source": [
      "Sometimes it is necessary to remove ALL adata from an experiment, and just start over... (say a messed up master_list). Here's how to do this:"
     ]
    },
    {
     "cell_type": "code",
     "collapsed": false,
     "input": [
      "#exp = sarpy.Experiment('HerS3')\n",
      "#adata_keys = exp.find_adata()\n",
      "\n",
      "#for k in adata_keys:\n",
      "#    exp.rm_adata(k)"
     ],
     "language": "python",
     "metadata": {},
     "outputs": [],
     "prompt_number": 12
    },
    {
     "cell_type": "markdown",
     "metadata": {},
     "source": [
      "## Step 1: Export ROIs"
     ]
    },
    {
     "cell_type": "code",
     "collapsed": false,
     "input": [
      "fFlag = False\n",
      "\n",
      "smart_label = []\n",
      "smart_label.append(['0-roi','0-',fFlag])\n",
      "smart_label.append(['1-roi','1-',fFlag])\n",
      "smart_label.append(['2-roi','2-',fFlag])\n",
      "smart_label.append(['3-roi','3-',fFlag])\n",
      "smart_label.append(['4-roi','4-',fFlag])\n",
      "\n",
      "for sm in smart_label:\n",
      "    sarpy.io.generate_rois.generate_rois(masterlist,sm[0],'roi','export', path, sm[2])"
     ],
     "language": "python",
     "metadata": {},
     "outputs": [
      {
       "output_type": "stream",
       "stream": "stdout",
       "text": [
        "Nifti images were processed in /Users/fmoosvi/sdata/HerS3/rois\n",
        "\n",
        " \n",
        " ** WARNING ** \n",
        " \n",
        " Not found: herS3M10 and 1-roi \n"
       ]
      },
      {
       "output_type": "stream",
       "stream": "stdout",
       "text": [
        "\n",
        "Nifti images were processed in /Users/fmoosvi/sdata/HerS3/rois"
       ]
      },
      {
       "output_type": "stream",
       "stream": "stdout",
       "text": [
        "\n",
        "\n",
        " \n",
        " ** WARNING ** \n",
        " \n",
        " Not found: herS3M10 and 2-roi \n"
       ]
      },
      {
       "output_type": "stream",
       "stream": "stdout",
       "text": [
        "\n",
        "\n",
        " \n",
        " ** WARNING ** \n",
        " \n",
        " Not found: herS3M11 and 2-roi \n",
        "\n",
        "\n",
        " \n",
        " ** WARNING ** \n",
        " \n",
        " Not found: herS3M14 and 2-roi \n"
       ]
      },
      {
       "output_type": "stream",
       "stream": "stdout",
       "text": [
        "\n",
        "\n",
        " \n",
        " ** WARNING ** \n",
        " \n",
        " Not found: herS3M16 and 2-roi \n"
       ]
      },
      {
       "output_type": "stream",
       "stream": "stdout",
       "text": [
        "\n",
        "\n",
        " \n",
        " ** WARNING ** \n",
        " \n",
        " Not found: herS3M17 and 2-roi \n",
        "\n",
        "\n",
        " \n",
        " ** WARNING ** \n",
        " \n",
        " Not found: herS3M22 and 2-roi \n"
       ]
      },
      {
       "output_type": "stream",
       "stream": "stdout",
       "text": [
        "\n",
        "Nifti images were processed in /Users/fmoosvi/sdata/HerS3/rois"
       ]
      },
      {
       "output_type": "stream",
       "stream": "stdout",
       "text": [
        "\n",
        "\n",
        " \n",
        " ** WARNING ** \n",
        " \n",
        " Not found: herS3M01 and 3-roi \n",
        "\n",
        "\n",
        " \n",
        " ** WARNING ** \n",
        " \n",
        " Not found: herS3M02 and 3-roi \n",
        "\n",
        "\n",
        " \n",
        " ** WARNING ** \n",
        " \n",
        " Not found: herS3M03 and 3-roi \n",
        "\n",
        "\n",
        " \n",
        " ** WARNING ** \n",
        " \n",
        " Not found: herS3M05 and 3-roi \n"
       ]
      },
      {
       "output_type": "stream",
       "stream": "stdout",
       "text": [
        "\n",
        "\n",
        " \n",
        " ** WARNING ** \n",
        " \n",
        " Not found: herS3M06 and 3-roi \n",
        "\n",
        "\n",
        " \n",
        " ** WARNING ** \n",
        " \n",
        " Not found: herS3M10 and 3-roi \n"
       ]
      },
      {
       "output_type": "stream",
       "stream": "stdout",
       "text": [
        "\n",
        "\n",
        " \n",
        " ** WARNING ** \n",
        " \n",
        " Not found: herS3M11 and 3-roi \n",
        "\n",
        "\n",
        " \n",
        " ** WARNING ** \n",
        " \n",
        " Not found: herS3M14 and 3-roi \n"
       ]
      },
      {
       "output_type": "stream",
       "stream": "stdout",
       "text": [
        "\n",
        "\n",
        " \n",
        " ** WARNING ** \n",
        " \n",
        " Not found: herS3M16 and 3-roi \n"
       ]
      },
      {
       "output_type": "stream",
       "stream": "stdout",
       "text": [
        "\n",
        "\n",
        " \n",
        " ** WARNING ** \n",
        " \n",
        " Not found: herS3M17 and 3-roi \n",
        "\n",
        "Nifti images were processed in /Users/fmoosvi/sdata/HerS3/rois"
       ]
      },
      {
       "output_type": "stream",
       "stream": "stdout",
       "text": [
        "\n",
        "\n",
        " \n",
        " ** WARNING ** \n",
        " \n",
        " Not found: herS3M01 and 4-roi \n",
        "\n",
        "\n",
        " \n",
        " ** WARNING ** \n",
        " \n",
        " Not found: herS3M02 and 4-roi \n",
        "\n",
        "\n",
        " \n",
        " ** WARNING ** \n",
        " \n",
        " Not found: herS3M03 and 4-roi \n",
        "\n",
        "\n",
        " \n",
        " ** WARNING ** \n",
        " \n",
        " Not found: herS3M04 and 4-roi \n",
        "\n",
        "\n",
        " \n",
        " ** WARNING ** \n",
        " \n",
        " Not found: herS3M05 and 4-roi \n",
        "\n",
        "\n",
        " \n",
        " ** WARNING ** \n",
        " \n",
        " Not found: herS3M06 and 4-roi \n",
        "\n",
        "\n",
        " \n",
        " ** WARNING ** \n",
        " \n",
        " Not found: herS3M07 and 4-roi \n",
        "\n",
        "\n",
        " \n",
        " ** WARNING ** \n",
        " \n",
        " Not found: herS3M09 and 4-roi \n"
       ]
      },
      {
       "output_type": "stream",
       "stream": "stdout",
       "text": [
        "\n",
        "\n",
        " \n",
        " ** WARNING ** \n",
        " \n",
        " Not found: herS3M10 and 4-roi \n",
        "\n",
        "\n",
        " \n",
        " ** WARNING ** \n",
        " \n",
        " Not found: herS3M11 and 4-roi \n",
        "\n",
        "\n",
        " \n",
        " ** WARNING ** \n",
        " \n",
        " Not found: herS3M12 and 4-roi \n",
        "\n",
        "\n",
        " \n",
        " ** WARNING ** \n",
        " \n",
        " Not found: herS3M13 and 4-roi \n",
        "\n",
        "\n",
        " \n",
        " ** WARNING ** \n",
        " \n",
        " Not found: herS3M14 and 4-roi \n",
        "\n",
        "\n",
        " \n",
        " ** WARNING ** \n",
        " \n",
        " Not found: herS3M16 and 4-roi \n"
       ]
      },
      {
       "output_type": "stream",
       "stream": "stdout",
       "text": [
        "\n",
        "\n",
        " \n",
        " ** WARNING ** \n",
        " \n",
        " Not found: herS3M17 and 4-roi \n",
        "\n",
        "\n",
        " \n",
        " ** WARNING ** \n",
        " \n",
        " Not found: herS3M19 and 4-roi \n",
        "\n",
        "\n",
        " \n",
        " ** WARNING ** \n",
        " \n",
        " Not found: herS3M20 and 4-roi \n",
        "\n",
        "\n",
        " \n",
        " ** WARNING ** \n",
        " \n",
        " Not found: herS3M21 and 4-roi \n",
        "\n",
        "\n",
        " \n",
        " ** WARNING ** \n",
        " \n",
        " Not found: herS3M23 and 4-roi \n"
       ]
      },
      {
       "output_type": "stream",
       "stream": "stdout",
       "text": [
        "\n",
        "Nifti images were processed in /Users/fmoosvi/sdata/HerS3/rois\n"
       ]
      }
     ],
     "prompt_number": 13
    },
    {
     "cell_type": "markdown",
     "metadata": {},
     "source": [
      "Now go ahead and draw ROIs using ImageJ. When you're done, just rename the files with an a appended at the very end. For e.g., the source file _HerS2Mo01_10.nii_ will turn into _HerS2Mo01_10a.nii_ once the ROI is drawn"
     ]
    },
    {
     "cell_type": "markdown",
     "metadata": {},
     "source": [
      "## Step 2: Import the drawn ROIs back in as adata, update the bounding boxes"
     ]
    },
    {
     "cell_type": "code",
     "collapsed": false,
     "input": [
      "for sm in smart_label:\n",
      "    sarpy.io.generate_rois.generate_rois(masterlist,sm[0],'roi','import', path, sm[2])\n",
      "    sarpy.io.update_bbox.update_bbox(masterlist,sm[0],'roi',sm[1])"
     ],
     "language": "python",
     "metadata": {},
     "outputs": [
      {
       "output_type": "stream",
       "stream": "stdout",
       "text": [
        "roi: adata already exists herS3M01.3I1/10 \n",
        "roi: adata already exists herS3M02.3I1/4 "
       ]
      },
      {
       "output_type": "stream",
       "stream": "stdout",
       "text": [
        "\n",
        "roi: adata already exists herS3M03.3I1/4 \n",
        "roi: adata already exists herS3M04.3I1/4 "
       ]
      },
      {
       "output_type": "stream",
       "stream": "stdout",
       "text": [
        "\n",
        "roi: adata already exists herS3M05.3I1/4 \n",
        "roi: adata already exists herS3M06.3I1/4 "
       ]
      },
      {
       "output_type": "stream",
       "stream": "stdout",
       "text": [
        "\n",
        "roi: adata already exists herS3M07.3I1/4 \n",
        "roi: adata already exists herS3M08.3J1/4 "
       ]
      },
      {
       "output_type": "stream",
       "stream": "stdout",
       "text": [
        "\n",
        "roi: adata already exists herS3M09.3J1/4 \n",
        "roi: adata already exists herS3M10.3J1/4 "
       ]
      },
      {
       "output_type": "stream",
       "stream": "stdout",
       "text": [
        "\n",
        "roi: adata already exists herS3M11.3J1/4 \n",
        "roi: adata already exists herS3M12.3J1/4 "
       ]
      },
      {
       "output_type": "stream",
       "stream": "stdout",
       "text": [
        "\n",
        "roi: adata already exists herS3M13.3J1/4 \n",
        "roi: adata already exists herS3M14.3J1/4 "
       ]
      },
      {
       "output_type": "stream",
       "stream": "stdout",
       "text": [
        "\n",
        "roi: adata already exists herS3M15.3L1/5 \n",
        "roi: adata already exists herS3M16.3P1/4 "
       ]
      },
      {
       "output_type": "stream",
       "stream": "stdout",
       "text": [
        "\n",
        "roi: adata already exists herS3M17.3P1/4 \n",
        "roi: adata already exists herS3M19.3P1/4 "
       ]
      },
      {
       "output_type": "stream",
       "stream": "stdout",
       "text": [
        "\n",
        "roi: adata already exists herS3M20.3P1/4 \n",
        "roi: adata already exists herS3M21.3X1/4 "
       ]
      },
      {
       "output_type": "stream",
       "stream": "stdout",
       "text": [
        "\n",
        "roi: adata already exists herS3M22.3X1/4 \n",
        "roi: adata already exists herS3M23.3X1/4 "
       ]
      },
      {
       "output_type": "stream",
       "stream": "stdout",
       "text": [
        "\n",
        "Nifti images were processed in /Users/fmoosvi/sdata/HerS3/rois\n",
        "update_bbox: Success, updated file is: HerS3_updated.json"
       ]
      },
      {
       "output_type": "stream",
       "stream": "stdout",
       "text": [
        "\n",
        "roi: adata already exists herS3M01.3P1/4 \n",
        "roi: adata already exists herS3M02.3P1/4 "
       ]
      },
      {
       "output_type": "stream",
       "stream": "stdout",
       "text": [
        "\n",
        "roi: adata already exists herS3M03.3P1/4 \n",
        "roi: adata already exists herS3M04.3J1/4 "
       ]
      },
      {
       "output_type": "stream",
       "stream": "stdout",
       "text": [
        "\n",
        "roi: adata already exists herS3M05.3P1/4 "
       ]
      },
      {
       "output_type": "stream",
       "stream": "stdout",
       "text": [
        "\n",
        "roi: adata already exists herS3M06.3P1/4 "
       ]
      },
      {
       "output_type": "stream",
       "stream": "stdout",
       "text": [
        "\n",
        "roi: adata already exists herS3M07.3J1/4 \n",
        "roi: adata already exists herS3M08.3Q1/4 "
       ]
      },
      {
       "output_type": "stream",
       "stream": "stdout",
       "text": [
        "\n",
        "roi: adata already exists herS3M09.3L1/4 \n",
        "\n",
        " \n",
        " ** WARNING ** \n",
        " \n",
        " Not found: herS3M10 and 1-roi \n",
        "\n",
        "roi: adata already exists herS3M11.3L1/4 "
       ]
      },
      {
       "output_type": "stream",
       "stream": "stdout",
       "text": [
        "\n",
        "roi: adata already exists herS3M12.3L1/4 \n",
        "roi: adata already exists herS3M13.3Q1/4 "
       ]
      },
      {
       "output_type": "stream",
       "stream": "stdout",
       "text": [
        "\n",
        "roi: adata already exists herS3M14.3Q1/5 \n",
        "roi: adata already exists herS3M15.3Q1/5 \n",
        "roi: adata already exists herS3M16.431/5 "
       ]
      },
      {
       "output_type": "stream",
       "stream": "stdout",
       "text": [
        "\n",
        "roi: adata already exists herS3M17.431/4 \n",
        "roi: adata already exists herS3M19.4a1/4 \n",
        "roi: adata already exists herS3M20.4a1/7 "
       ]
      },
      {
       "output_type": "stream",
       "stream": "stdout",
       "text": [
        "\n",
        "roi: adata already exists herS3M21.4b1/14 \n",
        "roi: adata already exists herS3M22.4b1/3 "
       ]
      },
      {
       "output_type": "stream",
       "stream": "stdout",
       "text": [
        "\n",
        "roi: adata already exists herS3M23.4b1/5 "
       ]
      },
      {
       "output_type": "stream",
       "stream": "stdout",
       "text": [
        "\n",
        "Nifti images were processed in /Users/fmoosvi/sdata/HerS3/rois\n",
        "update_bbox: Could not find herS3M10, roi \n"
       ]
      },
      {
       "output_type": "stream",
       "stream": "stdout",
       "text": [
        "\n",
        "update_bbox: Success, updated file is: HerS3_updated.json"
       ]
      },
      {
       "output_type": "stream",
       "stream": "stdout",
       "text": [
        "\n",
        "roi: adata already exists herS3M01.3W1/4 "
       ]
      },
      {
       "output_type": "stream",
       "stream": "stdout",
       "text": [
        "\n",
        "roi: adata already exists herS3M02.3W1/4 "
       ]
      },
      {
       "output_type": "stream",
       "stream": "stdout",
       "text": [
        "\n",
        "roi: adata already exists herS3M03.3W1/4 "
       ]
      },
      {
       "output_type": "stream",
       "stream": "stdout",
       "text": [
        "\n",
        "roi: adata already exists herS3M04.3Q1/4 \n",
        "roi: adata already exists herS3M05.3W1/4 "
       ]
      },
      {
       "output_type": "stream",
       "stream": "stdout",
       "text": [
        "\n",
        "roi: adata already exists herS3M06.3W1/4 \n",
        "roi: adata already exists herS3M07.3Q1/4 "
       ]
      },
      {
       "output_type": "stream",
       "stream": "stdout",
       "text": [
        "\n",
        "roi: adata already exists herS3M08.3X1/4 "
       ]
      },
      {
       "output_type": "stream",
       "stream": "stdout",
       "text": [
        "\n",
        "roi: adata already exists herS3M09.3Q1/16 "
       ]
      },
      {
       "output_type": "stream",
       "stream": "stdout",
       "text": [
        "\n",
        "\n",
        " \n",
        " ** WARNING ** \n",
        " \n",
        " Not found: herS3M10 and 2-roi \n",
        "\n",
        "\n",
        " \n",
        " ** WARNING ** \n",
        " \n",
        " Not found: herS3M11 and 2-roi \n",
        "\n",
        "roi: adata already exists herS3M12.3Q1/4 \n",
        "roi: adata already exists herS3M13.3X1/4 "
       ]
      },
      {
       "output_type": "stream",
       "stream": "stdout",
       "text": [
        "\n",
        "\n",
        " \n",
        " ** WARNING ** \n",
        " \n",
        " Not found: herS3M14 and 2-roi \n",
        "\n",
        "roi: adata already exists herS3M15.3X1/4 "
       ]
      },
      {
       "output_type": "stream",
       "stream": "stdout",
       "text": [
        "\n",
        "\n",
        " \n",
        " ** WARNING ** \n",
        " \n",
        " Not found: herS3M16 and 2-roi \n",
        "\n",
        "\n",
        " \n",
        " ** WARNING ** \n",
        " \n",
        " Not found: herS3M17 and 2-roi \n",
        "\n",
        "roi: adata already exists herS3M19.4h1/5 \n",
        "roi: adata already exists herS3M20.4h1/4 "
       ]
      },
      {
       "output_type": "stream",
       "stream": "stdout",
       "text": [
        "\n",
        "roi: adata already exists herS3M21.4i1/7 \n",
        "\n",
        " \n",
        " ** WARNING ** \n",
        " \n",
        " Not found: herS3M22 and 2-roi \n",
        "\n",
        "roi: adata already exists herS3M23.4i1/4 "
       ]
      },
      {
       "output_type": "stream",
       "stream": "stdout",
       "text": [
        "\n",
        "Nifti images were processed in /Users/fmoosvi/sdata/HerS3/rois\n",
        "update_bbox: Could not find herS3M10, roi \n"
       ]
      },
      {
       "output_type": "stream",
       "stream": "stdout",
       "text": [
        "\n",
        "update_bbox: Could not find herS3M11, roi \n",
        "\n",
        "update_bbox: Could not find herS3M14, roi \n"
       ]
      },
      {
       "output_type": "stream",
       "stream": "stdout",
       "text": [
        "\n",
        "update_bbox: Could not find herS3M16, roi \n"
       ]
      },
      {
       "output_type": "stream",
       "stream": "stdout",
       "text": [
        "\n",
        "update_bbox: Could not find herS3M17, roi \n",
        "\n",
        "update_bbox: Could not find herS3M22, roi \n"
       ]
      },
      {
       "output_type": "stream",
       "stream": "stdout",
       "text": [
        "\n",
        "update_bbox: Success, updated file is: HerS3_updated.json"
       ]
      },
      {
       "output_type": "stream",
       "stream": "stdout",
       "text": [
        "\n",
        "\n",
        " \n",
        " ** WARNING ** \n",
        " \n",
        " Not found: herS3M01 and 3-roi \n",
        "\n",
        "\n",
        " \n",
        " ** WARNING ** \n",
        " \n",
        " Not found: herS3M02 and 3-roi \n",
        "\n",
        "\n",
        " \n",
        " ** WARNING ** \n",
        " \n",
        " Not found: herS3M03 and 3-roi \n",
        "\n",
        "roi: adata already exists herS3M04.3X1/4 \n",
        "\n",
        " \n",
        " ** WARNING ** \n",
        " \n",
        " Not found: herS3M05 and 3-roi \n",
        "\n",
        "\n",
        " \n",
        " ** WARNING ** \n",
        " \n",
        " Not found: herS3M06 and 3-roi \n",
        "\n",
        "roi: adata already exists herS3M07.3X1/4 "
       ]
      },
      {
       "output_type": "stream",
       "stream": "stdout",
       "text": [
        "\n",
        "roi: adata already exists herS3M08.4b1/5 "
       ]
      },
      {
       "output_type": "stream",
       "stream": "stdout",
       "text": [
        "\n",
        "roi: adata already exists herS3M09.3X1/4 \n",
        "\n",
        " \n",
        " ** WARNING ** \n",
        " \n",
        " Not found: herS3M10 and 3-roi \n",
        "\n",
        "\n",
        " \n",
        " ** WARNING ** \n",
        " \n",
        " Not found: herS3M11 and 3-roi \n",
        "\n",
        "roi: adata already exists herS3M12.3X1/4 "
       ]
      },
      {
       "output_type": "stream",
       "stream": "stdout",
       "text": [
        "\n",
        "roi: adata already exists herS3M13.441/4 \n",
        "\n",
        " \n",
        " ** WARNING ** \n",
        " \n",
        " Not found: herS3M14 and 3-roi \n",
        "\n",
        "roi: adata already exists herS3M15.4b1/8 "
       ]
      },
      {
       "output_type": "stream",
       "stream": "stdout",
       "text": [
        "\n",
        "\n",
        " \n",
        " ** WARNING ** \n",
        " \n",
        " Not found: herS3M16 and 3-roi \n",
        "\n",
        "\n",
        " \n",
        " ** WARNING ** \n",
        " \n",
        " Not found: herS3M17 and 3-roi \n",
        "\n",
        "roi: adata already exists herS3M19.431/4 \n",
        "roi: adata already exists herS3M20.431/4 \n",
        "roi: adata already exists herS3M21.441/4 "
       ]
      },
      {
       "output_type": "stream",
       "stream": "stdout",
       "text": [
        "\n",
        "roi: adata already exists herS3M22.4i2/10 \n",
        "roi: adata already exists herS3M23.441/8 \n",
        "Nifti images were processed in /Users/fmoosvi/sdata/HerS3/rois\n",
        "update_bbox: Could not find herS3M01, roi \n",
        "\n",
        "update_bbox: Could not find herS3M02, roi \n",
        "\n",
        "update_bbox: Could not find herS3M03, roi \n",
        "\n",
        "update_bbox: Could not find herS3M05, roi \n"
       ]
      },
      {
       "output_type": "stream",
       "stream": "stdout",
       "text": [
        "\n",
        "update_bbox: Could not find herS3M06, roi \n",
        "\n",
        "update_bbox: Could not find herS3M10, roi \n"
       ]
      },
      {
       "output_type": "stream",
       "stream": "stdout",
       "text": [
        "\n",
        "update_bbox: Could not find herS3M11, roi \n",
        "\n",
        "update_bbox: Could not find herS3M14, roi \n"
       ]
      },
      {
       "output_type": "stream",
       "stream": "stdout",
       "text": [
        "\n",
        "update_bbox: Could not find herS3M16, roi \n"
       ]
      },
      {
       "output_type": "stream",
       "stream": "stdout",
       "text": [
        "\n",
        "update_bbox: Could not find herS3M17, roi \n",
        "\n",
        "update_bbox: Success, updated file is: HerS3_updated.json"
       ]
      },
      {
       "output_type": "stream",
       "stream": "stdout",
       "text": [
        "\n",
        "\n",
        " \n",
        " ** WARNING ** \n",
        " \n",
        " Not found: herS3M01 and 4-roi \n",
        "\n",
        "\n",
        " \n",
        " ** WARNING ** \n",
        " \n",
        " Not found: herS3M02 and 4-roi \n",
        "\n",
        "\n",
        " \n",
        " ** WARNING ** \n",
        " \n",
        " Not found: herS3M03 and 4-roi \n",
        "\n",
        "\n",
        " \n",
        " ** WARNING ** \n",
        " \n",
        " Not found: herS3M04 and 4-roi \n",
        "\n",
        "\n",
        " \n",
        " ** WARNING ** \n",
        " \n",
        " Not found: herS3M05 and 4-roi \n",
        "\n",
        "\n",
        " \n",
        " ** WARNING ** \n",
        " \n",
        " Not found: herS3M06 and 4-roi \n",
        "\n",
        "\n",
        " \n",
        " ** WARNING ** \n",
        " \n",
        " Not found: herS3M07 and 4-roi \n",
        "\n",
        "h_generate_roi: saved herS3M08.441/4 roi label"
       ]
      },
      {
       "output_type": "stream",
       "stream": "stdout",
       "text": [
        "\n",
        "\n",
        " \n",
        " ** WARNING ** \n",
        " \n",
        " Not found: herS3M09 and 4-roi \n",
        "\n",
        "\n",
        " \n",
        " ** WARNING ** \n",
        " \n",
        " Not found: herS3M10 and 4-roi \n",
        "\n",
        "\n",
        " \n",
        " ** WARNING ** \n",
        " \n",
        " Not found: herS3M11 and 4-roi \n",
        "\n",
        "\n",
        " \n",
        " ** WARNING ** \n",
        " \n",
        " Not found: herS3M12 and 4-roi \n",
        "\n",
        "\n",
        " \n",
        " ** WARNING ** \n",
        " \n",
        " Not found: herS3M13 and 4-roi \n",
        "\n",
        "\n",
        " \n",
        " ** WARNING ** \n",
        " \n",
        " Not found: herS3M14 and 4-roi \n",
        "\n",
        "h_generate_roi: saved herS3M15.441/4 roi label"
       ]
      },
      {
       "output_type": "stream",
       "stream": "stdout",
       "text": [
        "\n",
        "\n",
        " \n",
        " ** WARNING ** \n",
        " \n",
        " Not found: herS3M16 and 4-roi \n",
        "\n",
        "\n",
        " \n",
        " ** WARNING ** \n",
        " \n",
        " Not found: herS3M17 and 4-roi \n",
        "\n",
        "\n",
        " \n",
        " ** WARNING ** \n",
        " \n",
        " Not found: herS3M19 and 4-roi \n",
        "\n",
        "\n",
        " \n",
        " ** WARNING ** \n",
        " \n",
        " Not found: herS3M20 and 4-roi \n",
        "\n",
        "\n",
        " \n",
        " ** WARNING ** \n",
        " \n",
        " Not found: herS3M21 and 4-roi \n",
        "\n",
        "h_generate_roi: saved herS3M22.441/4 roi label"
       ]
      },
      {
       "output_type": "stream",
       "stream": "stdout",
       "text": [
        "\n",
        "\n",
        " \n",
        " ** WARNING ** \n",
        " \n",
        " Not found: herS3M23 and 4-roi \n",
        "\n",
        "Nifti images were processed in /Users/fmoosvi/sdata/HerS3/rois\n",
        "update_bbox: Could not find herS3M01, roi \n",
        "\n",
        "update_bbox: Could not find herS3M02, roi \n",
        "\n",
        "update_bbox: Could not find herS3M03, roi \n",
        "\n",
        "update_bbox: Could not find herS3M04, roi \n",
        "\n",
        "update_bbox: Could not find herS3M05, roi \n",
        "\n",
        "update_bbox: Could not find herS3M06, roi \n",
        "\n",
        "update_bbox: Could not find herS3M07, roi \n",
        "\n",
        "update_bbox: Could not find herS3M09, roi \n"
       ]
      },
      {
       "output_type": "stream",
       "stream": "stdout",
       "text": [
        "\n",
        "update_bbox: Could not find herS3M10, roi \n",
        "\n",
        "update_bbox: Could not find herS3M11, roi \n",
        "\n",
        "update_bbox: Could not find herS3M12, roi \n",
        "\n",
        "update_bbox: Could not find herS3M13, roi \n",
        "\n",
        "update_bbox: Could not find herS3M14, roi \n",
        "\n",
        "update_bbox: Could not find herS3M16, roi \n"
       ]
      },
      {
       "output_type": "stream",
       "stream": "stdout",
       "text": [
        "\n",
        "update_bbox: Could not find herS3M17, roi \n",
        "\n",
        "update_bbox: Could not find herS3M19, roi \n",
        "\n",
        "update_bbox: Could not find herS3M20, roi \n",
        "\n",
        "update_bbox: Could not find herS3M21, roi \n",
        "\n",
        "update_bbox: Could not find herS3M23, roi \n"
       ]
      },
      {
       "output_type": "stream",
       "stream": "stdout",
       "text": [
        "\n",
        "update_bbox: Success, updated file is: HerS3_updated.json"
       ]
      },
      {
       "output_type": "stream",
       "stream": "stdout",
       "text": [
        "\n"
       ]
      }
     ],
     "prompt_number": 14
    },
    {
     "cell_type": "markdown",
     "metadata": {},
     "source": [
      "## Step 3: Perform basic analyses (no ROIs required)"
     ]
    },
    {
     "cell_type": "code",
     "collapsed": false,
     "input": [
      "analyze_list = []\n",
      "\n",
      "fFlag = False # Set whether or not the scan need to be overwritten, default False\n",
      "\n",
      "analyze_list.append(['0-roi','roi_check',fFlag])\n",
      "analyze_list.append(['1-roi','roi_check',fFlag])\n",
      "analyze_list.append(['2-roi','roi_check',fFlag])\n",
      "analyze_list.append(['3-roi','roi_check',fFlag])\n",
      "analyze_list.append(['4-roi','roi_check',fFlag])\n",
      "\n",
      "analyze_list.append(['0-dce','auc60',fFlag])\n",
      "analyze_list.append(['1-dce','auc60',fFlag])\n",
      "analyze_list.append(['2-dce','auc60',fFlag])\n",
      "analyze_list.append(['3-dce','auc60',fFlag])\n",
      "analyze_list.append(['4-dce','auc60',fFlag])\n",
      "\n",
      "for items in analyze_list:\n",
      "                                              \n",
      "    if len(items) == 3:\n",
      "                  \n",
      "        sarpy.fmoosvi.wrappers.bulk_analyze(masterlist, items[0], items[1], forceVal = items[2])\n",
      "\n",
      "    else:\n",
      "        sarpy.fmoosvi.wrappers.bulk_analyze(masterlist, items[0], items[1], items[2], forceVal = items[3])"
     ],
     "language": "python",
     "metadata": {},
     "outputs": [
      {
       "output_type": "stream",
       "stream": "stdout",
       "text": [
        "roi_check: adata already exists herS3M01.3I1/10\n",
        "roi_check: adata already exists herS3M02.3I1/4\n",
        "roi_check: adata already exists herS3M03.3I1/4\n",
        "roi_check: adata already exists herS3M04.3I1/4"
       ]
      },
      {
       "output_type": "stream",
       "stream": "stdout",
       "text": [
        "\n",
        "roi_check: adata already exists herS3M05.3I1/4\n",
        "roi_check: adata already exists herS3M06.3I1/4\n",
        "roi_check: adata already exists herS3M07.3I1/4"
       ]
      },
      {
       "output_type": "stream",
       "stream": "stdout",
       "text": [
        "\n",
        "roi_check: adata already exists herS3M08.3J1/4\n",
        "roi_check: adata already exists herS3M09.3J1/4"
       ]
      },
      {
       "output_type": "stream",
       "stream": "stdout",
       "text": [
        "\n",
        "roi_check: adata already exists herS3M10.3J1/4\n",
        "roi_check: adata already exists herS3M11.3J1/4"
       ]
      },
      {
       "output_type": "stream",
       "stream": "stdout",
       "text": [
        "\n",
        "roi_check: adata already exists herS3M12.3J1/4\n",
        "roi_check: adata already exists herS3M13.3J1/4\n",
        "roi_check: adata already exists herS3M14.3J1/4"
       ]
      },
      {
       "output_type": "stream",
       "stream": "stdout",
       "text": [
        "\n",
        "roi_check: adata already exists herS3M15.3L1/5\n",
        "roi_check: adata already exists herS3M16.3P1/4\n",
        "roi_check: adata already exists herS3M17.3P1/4"
       ]
      },
      {
       "output_type": "stream",
       "stream": "stdout",
       "text": [
        "\n",
        "roi_check: adata already exists herS3M19.3P1/4\n",
        "roi_check: adata already exists herS3M20.3P1/4\n",
        "roi_check: adata already exists herS3M21.3X1/4"
       ]
      },
      {
       "output_type": "stream",
       "stream": "stdout",
       "text": [
        "\n",
        "roi_check: adata already exists herS3M22.3X1/4\n",
        "roi_check: adata already exists herS3M23.3X1/4"
       ]
      },
      {
       "output_type": "stream",
       "stream": "stdout",
       "text": [
        "\n",
        "roi_check: adata already exists herS3M01.3P1/4\n",
        "roi_check: adata already exists herS3M02.3P1/4"
       ]
      },
      {
       "output_type": "stream",
       "stream": "stdout",
       "text": [
        "\n",
        "roi_check: adata already exists herS3M03.3P1/4\n",
        "roi_check: adata already exists herS3M04.3J1/4\n",
        "roi_check: adata already exists herS3M05.3P1/4"
       ]
      },
      {
       "output_type": "stream",
       "stream": "stdout",
       "text": [
        "\n",
        "roi_check: adata already exists herS3M06.3P1/4\n",
        "roi_check: adata already exists herS3M07.3J1/4\n",
        "roi_check: adata already exists herS3M08.3Q1/4"
       ]
      },
      {
       "output_type": "stream",
       "stream": "stdout",
       "text": [
        "\n",
        "roi_check: adata already exists herS3M09.3L1/4\n",
        "roi_check: Not found herS3M10 and 1-roi\n",
        "roi_check: adata already exists herS3M11.3L1/4\n",
        "roi_check: adata already exists herS3M12.3L1/4"
       ]
      },
      {
       "output_type": "stream",
       "stream": "stdout",
       "text": [
        "\n",
        "roi_check: adata already exists herS3M13.3Q1/4\n",
        "roi_check: adata already exists herS3M14.3Q1/5"
       ]
      },
      {
       "output_type": "stream",
       "stream": "stdout",
       "text": [
        "\n",
        "roi_check: adata already exists herS3M15.3Q1/5\n",
        "roi_check: adata already exists herS3M16.431/5\n",
        "roi_check: adata already exists herS3M17.431/4"
       ]
      },
      {
       "output_type": "stream",
       "stream": "stdout",
       "text": [
        "\n",
        "roi_check: adata already exists herS3M19.4a1/4\n",
        "roi_check: adata already exists herS3M20.4a1/7\n",
        "roi_check: adata already exists herS3M21.4b1/14"
       ]
      },
      {
       "output_type": "stream",
       "stream": "stdout",
       "text": [
        "\n",
        "roi_check: adata already exists herS3M22.4b1/3\n",
        "roi_check: adata already exists herS3M23.4b1/5\n",
        "roi_check: adata already exists herS3M01.3W1/4"
       ]
      },
      {
       "output_type": "stream",
       "stream": "stdout",
       "text": [
        "\n",
        "roi_check: adata already exists herS3M02.3W1/4\n",
        "roi_check: adata already exists herS3M03.3W1/4"
       ]
      },
      {
       "output_type": "stream",
       "stream": "stdout",
       "text": [
        "\n",
        "roi_check: adata already exists herS3M04.3Q1/4\n",
        "roi_check: adata already exists herS3M05.3W1/4"
       ]
      },
      {
       "output_type": "stream",
       "stream": "stdout",
       "text": [
        "\n",
        "roi_check: adata already exists herS3M06.3W1/4\n",
        "roi_check: adata already exists herS3M07.3Q1/4\n",
        "roi_check: adata already exists herS3M08.3X1/4"
       ]
      },
      {
       "output_type": "stream",
       "stream": "stdout",
       "text": [
        "\n",
        "roi_check: adata already exists herS3M09.3Q1/16\n",
        "roi_check: Not found herS3M10 and 2-roi\n",
        "roi_check: Not found herS3M11 and 2-roi\n",
        "roi_check: adata already exists herS3M12.3Q1/4\n",
        "roi_check: adata already exists herS3M13.3X1/4"
       ]
      },
      {
       "output_type": "stream",
       "stream": "stdout",
       "text": [
        "\n",
        "roi_check: Not found herS3M14 and 2-roi\n",
        "roi_check: adata already exists herS3M15.3X1/4\n",
        "roi_check: Not found herS3M16 and 2-roi\n",
        "roi_check: Not found herS3M17 and 2-roi\n",
        "roi_check: adata already exists herS3M19.4h1/5"
       ]
      },
      {
       "output_type": "stream",
       "stream": "stdout",
       "text": [
        "\n",
        "roi_check: adata already exists herS3M20.4h1/4\n",
        "roi_check: adata already exists herS3M21.4i1/7\n",
        "roi_check: Not found herS3M22 and 2-roi\n",
        "roi_check: adata already exists herS3M23.4i1/4"
       ]
      },
      {
       "output_type": "stream",
       "stream": "stdout",
       "text": [
        "\n",
        "roi_check: Not found herS3M01 and 3-roi\n",
        "roi_check: Not found herS3M02 and 3-roi\n",
        "roi_check: Not found herS3M03 and 3-roi\n",
        "roi_check: adata already exists herS3M04.3X1/4\n",
        "roi_check: Not found herS3M05 and 3-roi\n",
        "roi_check: Not found herS3M06 and 3-roi\n",
        "roi_check: adata already exists herS3M07.3X1/4"
       ]
      },
      {
       "output_type": "stream",
       "stream": "stdout",
       "text": [
        "\n",
        "roi_check: adata already exists herS3M08.4b1/5\n",
        "roi_check: adata already exists herS3M09.3X1/4"
       ]
      },
      {
       "output_type": "stream",
       "stream": "stdout",
       "text": [
        "\n",
        "roi_check: Not found herS3M10 and 3-roi\n",
        "roi_check: Not found herS3M11 and 3-roi\n",
        "roi_check: adata already exists herS3M12.3X1/4\n",
        "roi_check: adata already exists herS3M13.441/4"
       ]
      },
      {
       "output_type": "stream",
       "stream": "stdout",
       "text": [
        "\n",
        "roi_check: Not found herS3M14 and 3-roi\n",
        "roi_check: adata already exists herS3M15.4b1/8\n",
        "roi_check: Not found herS3M16 and 3-roi\n",
        "roi_check: Not found herS3M17 and 3-roi\n",
        "roi_check: adata already exists herS3M19.431/4"
       ]
      },
      {
       "output_type": "stream",
       "stream": "stdout",
       "text": [
        "\n",
        "roi_check: adata already exists herS3M20.431/4\n",
        "roi_check: adata already exists herS3M21.441/4"
       ]
      },
      {
       "output_type": "stream",
       "stream": "stdout",
       "text": [
        "\n",
        "roi_check: adata already exists herS3M22.4i2/10\n",
        "roi_check: adata already exists herS3M23.441/8"
       ]
      },
      {
       "output_type": "stream",
       "stream": "stdout",
       "text": [
        "\n",
        "roi_check: Not found herS3M01 and 4-roi\n",
        "roi_check: Not found herS3M02 and 4-roi\n",
        "roi_check: Not found herS3M03 and 4-roi\n",
        "roi_check: Not found herS3M04 and 4-roi\n",
        "roi_check: Not found herS3M05 and 4-roi\n",
        "roi_check: Not found herS3M06 and 4-roi\n",
        "roi_check: Not found herS3M07 and 4-roi\n",
        "roi_check: Not found herS3M09 and 4-roi"
       ]
      },
      {
       "output_type": "stream",
       "stream": "stdout",
       "text": [
        "\n",
        "roi_check: Not found herS3M10 and 4-roi\n",
        "roi_check: Not found herS3M11 and 4-roi\n",
        "roi_check: Not found herS3M12 and 4-roi\n",
        "roi_check: Not found herS3M13 and 4-roi\n",
        "roi_check: Not found herS3M14 and 4-roi\n",
        "roi_check: Not found herS3M16 and 4-roi"
       ]
      },
      {
       "output_type": "stream",
       "stream": "stdout",
       "text": [
        "\n",
        "roi_check: Not found herS3M17 and 4-roi\n",
        "roi_check: Not found herS3M19 and 4-roi\n",
        "roi_check: Not found herS3M20 and 4-roi\n",
        "roi_check: Not found herS3M21 and 4-roi\n",
        "roi_check: Not found herS3M23 and 4-roi"
       ]
      },
      {
       "output_type": "stream",
       "stream": "stdout",
       "text": [
        "\n",
        "auc60: adata already exists herS3M01.3I1/18"
       ]
      },
      {
       "output_type": "stream",
       "stream": "stdout",
       "text": [
        "\n",
        "auc60: adata already exists herS3M02.3I1/13"
       ]
      },
      {
       "output_type": "stream",
       "stream": "stdout",
       "text": [
        "\n",
        "auc60: adata already exists herS3M03.3I1/13"
       ]
      },
      {
       "output_type": "stream",
       "stream": "stdout",
       "text": [
        "\n",
        "auc60: adata already exists herS3M04.3I1/13"
       ]
      },
      {
       "output_type": "stream",
       "stream": "stdout",
       "text": [
        "\n",
        "auc60: adata already exists herS3M05.3I1/13"
       ]
      },
      {
       "output_type": "stream",
       "stream": "stdout",
       "text": [
        "\n",
        "auc60: adata already exists herS3M06.3I1/13"
       ]
      },
      {
       "output_type": "stream",
       "stream": "stdout",
       "text": [
        "\n",
        "auc60: adata already exists herS3M07.3I1/13"
       ]
      },
      {
       "output_type": "stream",
       "stream": "stdout",
       "text": [
        "\n",
        "auc60: adata already exists herS3M08.3J1/13"
       ]
      },
      {
       "output_type": "stream",
       "stream": "stdout",
       "text": [
        "\n",
        "auc60: adata already exists herS3M09.3J1/13"
       ]
      },
      {
       "output_type": "stream",
       "stream": "stdout",
       "text": [
        "\n",
        "auc60: adata already exists herS3M10.3J1/13"
       ]
      },
      {
       "output_type": "stream",
       "stream": "stdout",
       "text": [
        "\n",
        "auc60: adata already exists herS3M11.3J1/13"
       ]
      },
      {
       "output_type": "stream",
       "stream": "stdout",
       "text": [
        "\n",
        "auc60: adata already exists herS3M12.3J1/13"
       ]
      },
      {
       "output_type": "stream",
       "stream": "stdout",
       "text": [
        "\n",
        "auc60: adata already exists herS3M13.3J1/13"
       ]
      },
      {
       "output_type": "stream",
       "stream": "stdout",
       "text": [
        "\n",
        "auc60: adata already exists herS3M14.3J1/13"
       ]
      },
      {
       "output_type": "stream",
       "stream": "stdout",
       "text": [
        "\n",
        "auc60: adata already exists herS3M15.3L1/14"
       ]
      },
      {
       "output_type": "stream",
       "stream": "stdout",
       "text": [
        "\n",
        "auc60: adata already exists herS3M16.3P1/13"
       ]
      },
      {
       "output_type": "stream",
       "stream": "stdout",
       "text": [
        "\n",
        "auc60: adata already exists herS3M17.3P1/13"
       ]
      },
      {
       "output_type": "stream",
       "stream": "stdout",
       "text": [
        "\n",
        "auc60: adata already exists herS3M19.3P1/13"
       ]
      },
      {
       "output_type": "stream",
       "stream": "stdout",
       "text": [
        "\n",
        "auc60: adata already exists herS3M20.3P1/13"
       ]
      },
      {
       "output_type": "stream",
       "stream": "stdout",
       "text": [
        "\n",
        "auc60: adata already exists herS3M21.3X1/14"
       ]
      },
      {
       "output_type": "stream",
       "stream": "stdout",
       "text": [
        "\n",
        "auc60: adata already exists herS3M22.3X1/14"
       ]
      },
      {
       "output_type": "stream",
       "stream": "stdout",
       "text": [
        "\n",
        "auc60: adata already exists herS3M23.3X1/13"
       ]
      },
      {
       "output_type": "stream",
       "stream": "stdout",
       "text": [
        "\n",
        "auc60: adata already exists herS3M01.3P1/13"
       ]
      },
      {
       "output_type": "stream",
       "stream": "stdout",
       "text": [
        "\n",
        "auc60: adata already exists herS3M02.3P1/13"
       ]
      },
      {
       "output_type": "stream",
       "stream": "stdout",
       "text": [
        "\n",
        "auc60: adata already exists herS3M03.3P1/13"
       ]
      },
      {
       "output_type": "stream",
       "stream": "stdout",
       "text": [
        "\n",
        "auc60: adata already exists herS3M04.3J1/13"
       ]
      },
      {
       "output_type": "stream",
       "stream": "stdout",
       "text": [
        "\n",
        "auc60: adata already exists herS3M05.3P1/13"
       ]
      },
      {
       "output_type": "stream",
       "stream": "stdout",
       "text": [
        "\n",
        "auc60: adata already exists herS3M06.3P1/13"
       ]
      },
      {
       "output_type": "stream",
       "stream": "stdout",
       "text": [
        "\n",
        "auc60: adata already exists herS3M07.3J1/13"
       ]
      },
      {
       "output_type": "stream",
       "stream": "stdout",
       "text": [
        "\n",
        "auc60: adata already exists herS3M08.3Q1/13"
       ]
      },
      {
       "output_type": "stream",
       "stream": "stdout",
       "text": [
        "\n",
        "auc60: adata already exists herS3M09.3L1/13"
       ]
      },
      {
       "output_type": "stream",
       "stream": "stdout",
       "text": [
        "\n",
        "auc60: Not found herS3M10 and 1-dce\n",
        "auc60: adata already exists herS3M11.3L1/19"
       ]
      },
      {
       "output_type": "stream",
       "stream": "stdout",
       "text": [
        "\n",
        "auc60: adata already exists herS3M12.3L1/13"
       ]
      },
      {
       "output_type": "stream",
       "stream": "stdout",
       "text": [
        "\n",
        "auc60: adata already exists herS3M13.3Q1/13"
       ]
      },
      {
       "output_type": "stream",
       "stream": "stdout",
       "text": [
        "\n",
        "auc60: adata already exists herS3M14.3Q1/14"
       ]
      },
      {
       "output_type": "stream",
       "stream": "stdout",
       "text": [
        "\n",
        "auc60: adata already exists herS3M15.3Q1/14"
       ]
      },
      {
       "output_type": "stream",
       "stream": "stdout",
       "text": [
        "\n",
        "auc60: adata already exists herS3M16.431/14"
       ]
      },
      {
       "output_type": "stream",
       "stream": "stdout",
       "text": [
        "\n",
        "auc60: adata already exists herS3M17.431/13"
       ]
      },
      {
       "output_type": "stream",
       "stream": "stdout",
       "text": [
        "\n",
        "auc60: adata already exists herS3M19.4a1/13"
       ]
      },
      {
       "output_type": "stream",
       "stream": "stdout",
       "text": [
        "\n",
        "auc60: adata already exists herS3M20.4a1/16"
       ]
      },
      {
       "output_type": "stream",
       "stream": "stdout",
       "text": [
        "\n",
        "auc60: adata already exists herS3M21.4b1/23"
       ]
      },
      {
       "output_type": "stream",
       "stream": "stdout",
       "text": [
        "\n",
        "auc60: adata already exists herS3M22.4b1/12"
       ]
      },
      {
       "output_type": "stream",
       "stream": "stdout",
       "text": [
        "\n",
        "auc60: adata already exists herS3M23.4b1/14"
       ]
      },
      {
       "output_type": "stream",
       "stream": "stdout",
       "text": [
        "\n",
        "auc60: adata already exists herS3M01.3W1/13"
       ]
      },
      {
       "output_type": "stream",
       "stream": "stdout",
       "text": [
        "\n",
        "\n",
        " \n",
        " ***** Warning **** \n",
        " \n",
        " !!! Incomplete dce data for herS3M02.3W1/14"
       ]
      },
      {
       "output_type": "stream",
       "stream": "stdout",
       "text": [
        "\n",
        "h_calculate_auc: Insufficient data for AUC (0 reps) in scan herS3M02.3W1/14\n",
        "auc60: adata already exists herS3M03.3W1/14"
       ]
      },
      {
       "output_type": "stream",
       "stream": "stdout",
       "text": [
        "\n",
        "auc60: adata already exists herS3M04.3Q1/13"
       ]
      },
      {
       "output_type": "stream",
       "stream": "stdout",
       "text": [
        "\n",
        "auc60: adata already exists herS3M05.3W1/13"
       ]
      },
      {
       "output_type": "stream",
       "stream": "stdout",
       "text": [
        "\n",
        "auc60: adata already exists herS3M06.3W1/14"
       ]
      },
      {
       "output_type": "stream",
       "stream": "stdout",
       "text": [
        "\n",
        "auc60: adata already exists herS3M07.3Q1/13"
       ]
      },
      {
       "output_type": "stream",
       "stream": "stdout",
       "text": [
        "\n",
        "auc60: adata already exists herS3M08.3X1/14"
       ]
      },
      {
       "output_type": "stream",
       "stream": "stdout",
       "text": [
        "\n",
        "auc60: adata already exists herS3M09.3Q1/13"
       ]
      },
      {
       "output_type": "stream",
       "stream": "stdout",
       "text": [
        "\n",
        "auc60: Not found herS3M10 and 2-dce\n",
        "auc60: Not found herS3M11 and 2-dce\n",
        "auc60: adata already exists herS3M12.3Q1/13"
       ]
      },
      {
       "output_type": "stream",
       "stream": "stdout",
       "text": [
        "\n",
        "auc60: adata already exists herS3M13.3X1/13"
       ]
      },
      {
       "output_type": "stream",
       "stream": "stdout",
       "text": [
        "\n",
        "auc60: Not found herS3M14 and 2-dce\n",
        "auc60: adata already exists herS3M15.3X1/13"
       ]
      },
      {
       "output_type": "stream",
       "stream": "stdout",
       "text": [
        "\n",
        "auc60: Not found herS3M16 and 2-dce\n",
        "auc60: Not found herS3M17 and 2-dce\n",
        "auc60: adata already exists herS3M19.4h1/13"
       ]
      },
      {
       "output_type": "stream",
       "stream": "stdout",
       "text": [
        "\n",
        "auc60: adata already exists herS3M20.4h1/13"
       ]
      },
      {
       "output_type": "stream",
       "stream": "stdout",
       "text": [
        "\n",
        "auc60: adata already exists herS3M21.4i1/16"
       ]
      },
      {
       "output_type": "stream",
       "stream": "stdout",
       "text": [
        "\n",
        "auc60: Not found herS3M22 and 2-dce\n",
        "auc60: adata already exists herS3M23.4i1/14"
       ]
      },
      {
       "output_type": "stream",
       "stream": "stdout",
       "text": [
        "\n",
        "auc60: Not found herS3M01 and 3-dce\n",
        "auc60: Not found herS3M02 and 3-dce\n",
        "auc60: Not found herS3M03 and 3-dce\n",
        "auc60: adata already exists herS3M04.3X1/13"
       ]
      },
      {
       "output_type": "stream",
       "stream": "stdout",
       "text": [
        "\n",
        "auc60: Not found herS3M05 and 3-dce\n",
        "auc60: Not found herS3M06 and 3-dce\n",
        "auc60: adata already exists herS3M07.3X1/13"
       ]
      },
      {
       "output_type": "stream",
       "stream": "stderr",
       "text": [
        "WARNING:sarpy.io.BRUKER_classes:Directory \"/Users/fmoosvi/bdata/stefan/nmr/herS3M08.4b1/14\" did not contain processed data (2dseq)\n"
       ]
      },
      {
       "output_type": "stream",
       "stream": "stderr",
       "text": [
        "WARNING:sarpy.io.BRUKER_classes:Directory \"/Users/fmoosvi/bdata/stefan/nmr/herS3M08.4b1/14\" did not contain processed data (2dseq)\n"
       ]
      },
      {
       "output_type": "stream",
       "stream": "stderr",
       "text": [
        "WARNING:sarpy.io.BRUKER_classes:visu_pars file /Users/fmoosvi/bdata/stefan/nmr/herS3M08.4b1/14/pdata/1 not found\n",
        "\n"
       ]
      },
      {
       "ename": "AttributeError",
       "evalue": "'NoneType' object has no attribute '__dict__'",
       "output_type": "pyerr",
       "traceback": [
        "\u001b[0;31m---------------------------------------------------------------------------\u001b[0m\n\u001b[0;31mAttributeError\u001b[0m                            Traceback (most recent call last)",
        "\u001b[0;32m<ipython-input-15-8ca9ead9dcf5>\u001b[0m in \u001b[0;36m<module>\u001b[0;34m()\u001b[0m\n\u001b[1;32m     19\u001b[0m     \u001b[0;32mif\u001b[0m \u001b[0mlen\u001b[0m\u001b[0;34m(\u001b[0m\u001b[0mitems\u001b[0m\u001b[0;34m)\u001b[0m \u001b[0;34m==\u001b[0m \u001b[0;36m3\u001b[0m\u001b[0;34m:\u001b[0m\u001b[0;34m\u001b[0m\u001b[0m\n\u001b[1;32m     20\u001b[0m \u001b[0;34m\u001b[0m\u001b[0m\n\u001b[0;32m---> 21\u001b[0;31m         \u001b[0msarpy\u001b[0m\u001b[0;34m.\u001b[0m\u001b[0mfmoosvi\u001b[0m\u001b[0;34m.\u001b[0m\u001b[0mwrappers\u001b[0m\u001b[0;34m.\u001b[0m\u001b[0mbulk_analyze\u001b[0m\u001b[0;34m(\u001b[0m\u001b[0mmasterlist\u001b[0m\u001b[0;34m,\u001b[0m \u001b[0mitems\u001b[0m\u001b[0;34m[\u001b[0m\u001b[0;36m0\u001b[0m\u001b[0;34m]\u001b[0m\u001b[0;34m,\u001b[0m \u001b[0mitems\u001b[0m\u001b[0;34m[\u001b[0m\u001b[0;36m1\u001b[0m\u001b[0;34m]\u001b[0m\u001b[0;34m,\u001b[0m \u001b[0mforceVal\u001b[0m \u001b[0;34m=\u001b[0m \u001b[0mitems\u001b[0m\u001b[0;34m[\u001b[0m\u001b[0;36m2\u001b[0m\u001b[0;34m]\u001b[0m\u001b[0;34m)\u001b[0m\u001b[0;34m\u001b[0m\u001b[0m\n\u001b[0m\u001b[1;32m     22\u001b[0m \u001b[0;34m\u001b[0m\u001b[0m\n\u001b[1;32m     23\u001b[0m     \u001b[0;32melse\u001b[0m\u001b[0;34m:\u001b[0m\u001b[0;34m\u001b[0m\u001b[0m\n",
        "\u001b[0;32m/phd/Dropbox/code/python/sarpy/fmoosvi/wrappers.pyc\u001b[0m in \u001b[0;36mbulk_analyze\u001b[0;34m(masterlist_name, data_label, analysis_label, forceVal)\u001b[0m\n\u001b[1;32m     44\u001b[0m             \u001b[0;32mtry\u001b[0m\u001b[0;34m:\u001b[0m\u001b[0;34m\u001b[0m\u001b[0m\n\u001b[1;32m     45\u001b[0m                 \u001b[0mscan\u001b[0m \u001b[0;34m=\u001b[0m \u001b[0msarpy\u001b[0m\u001b[0;34m.\u001b[0m\u001b[0mScan\u001b[0m\u001b[0;34m(\u001b[0m\u001b[0mv\u001b[0m\u001b[0;34m[\u001b[0m\u001b[0mdata_label\u001b[0m\u001b[0;34m]\u001b[0m\u001b[0;34m[\u001b[0m\u001b[0;36m0\u001b[0m\u001b[0;34m]\u001b[0m\u001b[0;34m)\u001b[0m\u001b[0;34m\u001b[0m\u001b[0m\n\u001b[0;32m---> 46\u001b[0;31m                 \u001b[0mbbox\u001b[0m \u001b[0;34m=\u001b[0m \u001b[0msarpy\u001b[0m\u001b[0;34m.\u001b[0m\u001b[0mfmoosvi\u001b[0m\u001b[0;34m.\u001b[0m\u001b[0mgetters\u001b[0m\u001b[0;34m.\u001b[0m\u001b[0mget_bbox\u001b[0m\u001b[0;34m(\u001b[0m\u001b[0mv\u001b[0m\u001b[0;34m,\u001b[0m \u001b[0mdata_label\u001b[0m\u001b[0;34m)\u001b[0m\u001b[0;34m\u001b[0m\u001b[0m\n\u001b[0m\u001b[1;32m     47\u001b[0m \u001b[0;34m\u001b[0m\u001b[0m\n\u001b[1;32m     48\u001b[0m                 \u001b[0;32mif\u001b[0m \u001b[0;34m(\u001b[0m\u001b[0;32mnot\u001b[0m \u001b[0manalysis_label\u001b[0m \u001b[0;32min\u001b[0m \u001b[0mscan\u001b[0m\u001b[0;34m.\u001b[0m\u001b[0madata\u001b[0m\u001b[0;34m.\u001b[0m\u001b[0mkeys\u001b[0m\u001b[0;34m(\u001b[0m\u001b[0;34m)\u001b[0m\u001b[0;34m)\u001b[0m \u001b[0;32mor\u001b[0m \u001b[0mforceVal\u001b[0m \u001b[0;32mis\u001b[0m \u001b[0mTrue\u001b[0m\u001b[0;34m:\u001b[0m\u001b[0;34m\u001b[0m\u001b[0m\n",
        "\u001b[0;32m/phd/Dropbox/code/python/sarpy/fmoosvi/getters.pyc\u001b[0m in \u001b[0;36mget_bbox\u001b[0;34m(masterlist_value, data_label, type)\u001b[0m\n\u001b[1;32m    183\u001b[0m \u001b[0;34m\u001b[0m\u001b[0m\n\u001b[1;32m    184\u001b[0m     \u001b[0mdata\u001b[0m \u001b[0;34m=\u001b[0m \u001b[0msarpy\u001b[0m\u001b[0;34m.\u001b[0m\u001b[0mScan\u001b[0m\u001b[0;34m(\u001b[0m\u001b[0mmasterlist_value\u001b[0m\u001b[0;34m[\u001b[0m\u001b[0mdata_label\u001b[0m\u001b[0;34m]\u001b[0m\u001b[0;34m[\u001b[0m\u001b[0;36m0\u001b[0m\u001b[0;34m]\u001b[0m\u001b[0;34m)\u001b[0m\u001b[0;34m\u001b[0m\u001b[0m\n\u001b[0;32m--> 185\u001b[0;31m     \u001b[0mshape\u001b[0m \u001b[0;34m=\u001b[0m \u001b[0mdata\u001b[0m\u001b[0;34m.\u001b[0m\u001b[0mpdata\u001b[0m\u001b[0;34m[\u001b[0m\u001b[0;36m0\u001b[0m\u001b[0;34m]\u001b[0m\u001b[0;34m.\u001b[0m\u001b[0mdata\u001b[0m\u001b[0;34m.\u001b[0m\u001b[0mshape\u001b[0m\u001b[0;34m\u001b[0m\u001b[0m\n\u001b[0m\u001b[1;32m    186\u001b[0m \u001b[0;34m\u001b[0m\u001b[0m\n\u001b[1;32m    187\u001b[0m     \u001b[0mbbox\u001b[0m \u001b[0;34m=\u001b[0m \u001b[0mnumpy\u001b[0m\u001b[0;34m.\u001b[0m\u001b[0marray\u001b[0m\u001b[0;34m(\u001b[0m\u001b[0;34m[\u001b[0m\u001b[0mfloat\u001b[0m\u001b[0;34m(\u001b[0m\u001b[0mx\u001b[0m\u001b[0;34m)\u001b[0m \u001b[0;32mfor\u001b[0m \u001b[0mx\u001b[0m \u001b[0;32min\u001b[0m \u001b[0mmasterlist_value\u001b[0m\u001b[0;34m[\u001b[0m\u001b[0mdata_label\u001b[0m\u001b[0;34m]\u001b[0m\u001b[0;34m[\u001b[0m\u001b[0;36m1\u001b[0m\u001b[0;34m]\u001b[0m\u001b[0;34m]\u001b[0m\u001b[0;34m)\u001b[0m\u001b[0;34m\u001b[0m\u001b[0m\n",
        "\u001b[0;32m/phd/Dropbox/code/python/sarpy/io/lazy_property.pyc\u001b[0m in \u001b[0;36m__get__\u001b[0;34m(self, obj, cls)\u001b[0m\n\u001b[1;32m     44\u001b[0m         \u001b[0;32mif\u001b[0m \u001b[0mobj\u001b[0m \u001b[0;32mis\u001b[0m \u001b[0mNone\u001b[0m\u001b[0;34m:\u001b[0m\u001b[0;34m\u001b[0m\u001b[0m\n\u001b[1;32m     45\u001b[0m             \u001b[0;32mreturn\u001b[0m \u001b[0mNone\u001b[0m\u001b[0;34m\u001b[0m\u001b[0m\n\u001b[0;32m---> 46\u001b[0;31m         \u001b[0mvalue\u001b[0m \u001b[0;34m=\u001b[0m \u001b[0mself\u001b[0m\u001b[0;34m.\u001b[0m\u001b[0mfget\u001b[0m\u001b[0;34m(\u001b[0m\u001b[0mobj\u001b[0m\u001b[0;34m)\u001b[0m\u001b[0;34m\u001b[0m\u001b[0m\n\u001b[0m\u001b[1;32m     47\u001b[0m         \u001b[0;31m# the following overwrites the dict in the calling object\u001b[0m\u001b[0;34m\u001b[0m\u001b[0;34m\u001b[0m\u001b[0m\n\u001b[1;32m     48\u001b[0m         \u001b[0;31m# thereby erasing any access to this function (which)\u001b[0m\u001b[0;34m\u001b[0m\u001b[0;34m\u001b[0m\u001b[0m\n",
        "\u001b[0;32m/phd/Dropbox/code/python/sarpy/io/BRUKER_classes.pyc\u001b[0m in \u001b[0;36mdata\u001b[0;34m(self)\u001b[0m\n\u001b[1;32m    110\u001b[0m     \u001b[0;32mdef\u001b[0m \u001b[0mdata\u001b[0m\u001b[0;34m(\u001b[0m\u001b[0mself\u001b[0m\u001b[0;34m)\u001b[0m\u001b[0;34m:\u001b[0m\u001b[0;34m\u001b[0m\u001b[0m\n\u001b[1;32m    111\u001b[0m         dta = BRUKERIO.read2dseq(os.path.join(self.filename),\n\u001b[0;32m--> 112\u001b[0;31m                                  visu_pars=self.visu_pars.__dict__)\n\u001b[0m\u001b[1;32m    113\u001b[0m         \u001b[0msetattr\u001b[0m\u001b[0;34m(\u001b[0m\u001b[0mself\u001b[0m\u001b[0;34m,\u001b[0m \u001b[0;34m'dimdesc'\u001b[0m\u001b[0;34m,\u001b[0m \u001b[0mdta\u001b[0m\u001b[0;34m[\u001b[0m\u001b[0;34m'dimdesc'\u001b[0m\u001b[0;34m]\u001b[0m\u001b[0;34m)\u001b[0m\u001b[0;34m\u001b[0m\u001b[0m\n\u001b[1;32m    114\u001b[0m         \u001b[0msetattr\u001b[0m\u001b[0;34m(\u001b[0m\u001b[0mself\u001b[0m\u001b[0;34m,\u001b[0m \u001b[0;34m'dimcomment'\u001b[0m\u001b[0;34m,\u001b[0m \u001b[0mdta\u001b[0m\u001b[0;34m[\u001b[0m\u001b[0;34m'dimcomment'\u001b[0m\u001b[0;34m]\u001b[0m\u001b[0;34m)\u001b[0m\u001b[0;34m\u001b[0m\u001b[0m\n",
        "\u001b[0;31mAttributeError\u001b[0m: 'NoneType' object has no attribute '__dict__'"
       ]
      },
      {
       "output_type": "stream",
       "stream": "stdout",
       "text": [
        "\n"
       ]
      }
     ],
     "prompt_number": 15
    },
    {
     "cell_type": "markdown",
     "metadata": {},
     "source": [
      "## Step 4: Transfer ROIs to other scans via (resampling onto)"
     ]
    },
    {
     "cell_type": "code",
     "collapsed": false,
     "input": [
      "label = []\n",
      "label.append('auc60')\n",
      "\n",
      "# Need to make exception for herS1 because it takes its name is herS1 while files are HerS1\n",
      "for l in label:\n",
      "    sarpy.fmoosvi.wrappers.bulk_transfer_roi(masterlist ,l)"
     ],
     "language": "python",
     "metadata": {},
     "outputs": [
      {
       "output_type": "stream",
       "stream": "stdout",
       "text": [
        "bulk_transfer_roi: Success. Saved auc60_roi in herS3M01.3I1/18\n",
        "bulk_transfer_roi: Success. Saved auc60_roi in herS3M01.3P1/13"
       ]
      },
      {
       "output_type": "stream",
       "stream": "stdout",
       "text": [
        "\n",
        "bulk_transfer_roi: Success. Saved auc60_roi in herS3M01.3W1/13"
       ]
      },
      {
       "output_type": "stream",
       "stream": "stdout",
       "text": [
        "\n",
        "bulk_transfer_roi: Success. Saved auc60_roi in herS3M02.3I1/13"
       ]
      },
      {
       "output_type": "stream",
       "stream": "stdout",
       "text": [
        "\n",
        "bulk_transfer_roi: Success. Saved auc60_roi in herS3M02.3P1/13"
       ]
      },
      {
       "output_type": "stream",
       "stream": "stdout",
       "text": [
        "\n",
        "bulk_transfer_roi: auc60 not found in study herS3M02.3W1"
       ]
      },
      {
       "output_type": "stream",
       "stream": "stdout",
       "text": [
        "\n",
        "bulk_transfer_roi: Success. Saved auc60_roi in herS3M03.3I1/13"
       ]
      },
      {
       "output_type": "stream",
       "stream": "stdout",
       "text": [
        "\n",
        "bulk_transfer_roi: Success. Saved auc60_roi in herS3M03.3P1/13"
       ]
      },
      {
       "output_type": "stream",
       "stream": "stdout",
       "text": [
        "\n",
        "bulk_transfer_roi: Success. Saved auc60_roi in herS3M03.3W1/14"
       ]
      },
      {
       "output_type": "stream",
       "stream": "stdout",
       "text": [
        "\n",
        "bulk_transfer_roi: Success. Saved auc60_roi in herS3M04.3I1/13"
       ]
      },
      {
       "output_type": "stream",
       "stream": "stdout",
       "text": [
        "\n",
        "bulk_transfer_roi: Success. Saved auc60_roi in herS3M04.3J1/13"
       ]
      },
      {
       "output_type": "stream",
       "stream": "stdout",
       "text": [
        "\n",
        "bulk_transfer_roi: Success. Saved auc60_roi in herS3M04.3Q1/13"
       ]
      },
      {
       "output_type": "stream",
       "stream": "stdout",
       "text": [
        "\n",
        "bulk_transfer_roi: Success. Saved auc60_roi in herS3M04.3X1/13"
       ]
      },
      {
       "output_type": "stream",
       "stream": "stdout",
       "text": [
        "\n",
        "bulk_transfer_roi: Success. Saved auc60_roi in herS3M05.3I1/13"
       ]
      },
      {
       "output_type": "stream",
       "stream": "stdout",
       "text": [
        "\n",
        "bulk_transfer_roi: Success. Saved auc60_roi in herS3M05.3P1/13"
       ]
      },
      {
       "output_type": "stream",
       "stream": "stdout",
       "text": [
        "\n",
        "bulk_transfer_roi: Success. Saved auc60_roi in herS3M05.3W1/13"
       ]
      },
      {
       "output_type": "stream",
       "stream": "stdout",
       "text": [
        "\n",
        "bulk_transfer_roi: Success. Saved auc60_roi in herS3M06.3I1/13"
       ]
      },
      {
       "output_type": "stream",
       "stream": "stdout",
       "text": [
        "\n",
        "bulk_transfer_roi: Success. Saved auc60_roi in herS3M06.3P1/13"
       ]
      },
      {
       "output_type": "stream",
       "stream": "stdout",
       "text": [
        "\n",
        "bulk_transfer_roi: Success. Saved auc60_roi in herS3M06.3W1/14"
       ]
      },
      {
       "output_type": "stream",
       "stream": "stdout",
       "text": [
        "\n",
        "bulk_transfer_roi: Success. Saved auc60_roi in herS3M07.3I1/13"
       ]
      },
      {
       "output_type": "stream",
       "stream": "stdout",
       "text": [
        "\n",
        "bulk_transfer_roi: Success. Saved auc60_roi in herS3M07.3J1/13"
       ]
      },
      {
       "output_type": "stream",
       "stream": "stdout",
       "text": [
        "\n",
        "bulk_transfer_roi: Success. Saved auc60_roi in herS3M07.3Q1/13"
       ]
      },
      {
       "output_type": "stream",
       "stream": "stdout",
       "text": [
        "\n",
        "bulk_transfer_roi: Success. Saved auc60_roi in herS3M07.3X1/13"
       ]
      },
      {
       "output_type": "stream",
       "stream": "stdout",
       "text": [
        "\n",
        "bulk_transfer_roi: Success. Saved auc60_roi in herS3M08.3J1/13"
       ]
      },
      {
       "output_type": "stream",
       "stream": "stdout",
       "text": [
        "\n",
        "bulk_transfer_roi: Success. Saved auc60_roi in herS3M08.3Q1/13"
       ]
      },
      {
       "output_type": "stream",
       "stream": "stdout",
       "text": [
        "\n",
        "bulk_transfer_roi: Success. Saved auc60_roi in herS3M08.3X1/14"
       ]
      },
      {
       "output_type": "stream",
       "stream": "stderr",
       "text": [
        "WARNING:sarpy.io.BRUKER_classes:Directory \"/Users/fmoosvi/bdata/stefan/nmr/herS3M08.4b1/14\" did not contain processed data (2dseq)\n"
       ]
      },
      {
       "output_type": "stream",
       "stream": "stderr",
       "text": [
        "WARNING:sarpy.io.BRUKER_classes:visu_pars file /Users/fmoosvi/bdata/stefan/nmr/herS3M08.4b1/14/pdata/1 not found\n",
        "\n"
       ]
      },
      {
       "output_type": "stream",
       "stream": "stderr",
       "text": [
        "WARNING:sarpy.io.Adata_classes:Need precisely one parameter file *json, found: []\n"
       ]
      },
      {
       "output_type": "stream",
       "stream": "stderr",
       "text": [
        "WARNING:sarpy.io.Adata_classes:Could not load AData\n"
       ]
      },
      {
       "output_type": "stream",
       "stream": "stderr",
       "text": [
        "WARNING:sarpy.io.Adata_classes:Need precisely one parameter file *json, found: []\n"
       ]
      },
      {
       "output_type": "stream",
       "stream": "stderr",
       "text": [
        "WARNING:sarpy.io.Adata_classes:Could not load AData\n"
       ]
      },
      {
       "output_type": "stream",
       "stream": "stderr",
       "text": [
        "WARNING:sarpy.io.Adata_classes:Need precisely one parameter file *json, found: []\n"
       ]
      },
      {
       "output_type": "stream",
       "stream": "stderr",
       "text": [
        "WARNING:sarpy.io.Adata_classes:Could not load AData\n"
       ]
      },
      {
       "output_type": "stream",
       "stream": "stderr",
       "text": [
        "WARNING:sarpy.io.Adata_classes:Need precisely one parameter file *json, found: []\n"
       ]
      },
      {
       "output_type": "stream",
       "stream": "stderr",
       "text": [
        "WARNING:sarpy.io.Adata_classes:Could not load AData\n"
       ]
      },
      {
       "output_type": "stream",
       "stream": "stderr",
       "text": [
        "WARNING:sarpy.io.Adata_classes:Need precisely one parameter file *json, found: []\n"
       ]
      },
      {
       "output_type": "stream",
       "stream": "stderr",
       "text": [
        "WARNING:sarpy.io.Adata_classes:Could not load AData\n"
       ]
      },
      {
       "output_type": "stream",
       "stream": "stderr",
       "text": [
        "WARNING:sarpy.io.Adata_classes:Need precisely one parameter file *json, found: []\n"
       ]
      },
      {
       "output_type": "stream",
       "stream": "stderr",
       "text": [
        "WARNING:sarpy.io.Adata_classes:Could not load AData\n"
       ]
      },
      {
       "output_type": "stream",
       "stream": "stderr",
       "text": [
        "WARNING:sarpy.io.Adata_classes:Need precisely one parameter file *json, found: []\n"
       ]
      },
      {
       "output_type": "stream",
       "stream": "stderr",
       "text": [
        "WARNING:sarpy.io.Adata_classes:Could not load AData\n"
       ]
      },
      {
       "output_type": "stream",
       "stream": "stderr",
       "text": [
        "WARNING:sarpy.io.Adata_classes:Need precisely one parameter file *json, found: []\n"
       ]
      },
      {
       "output_type": "stream",
       "stream": "stderr",
       "text": [
        "WARNING:sarpy.io.Adata_classes:Could not load AData\n"
       ]
      },
      {
       "output_type": "stream",
       "stream": "stderr",
       "text": [
        "WARNING:sarpy.io.Adata_classes:Need precisely one parameter file *json, found: []\n"
       ]
      },
      {
       "output_type": "stream",
       "stream": "stderr",
       "text": [
        "WARNING:sarpy.io.Adata_classes:Could not load AData\n"
       ]
      },
      {
       "output_type": "stream",
       "stream": "stderr",
       "text": [
        "WARNING:sarpy.io.Adata_classes:Need precisely one parameter file *json, found: []\n"
       ]
      },
      {
       "output_type": "stream",
       "stream": "stderr",
       "text": [
        "WARNING:sarpy.io.Adata_classes:Could not load AData\n"
       ]
      },
      {
       "output_type": "stream",
       "stream": "stderr",
       "text": [
        "WARNING:sarpy.io.Adata_classes:Need precisely one parameter file *json, found: []\n"
       ]
      },
      {
       "output_type": "stream",
       "stream": "stderr",
       "text": [
        "WARNING:sarpy.io.Adata_classes:Could not load AData\n"
       ]
      },
      {
       "output_type": "stream",
       "stream": "stderr",
       "text": [
        "WARNING:sarpy.io.Adata_classes:Need precisely one parameter file *json, found: []\n"
       ]
      },
      {
       "output_type": "stream",
       "stream": "stderr",
       "text": [
        "WARNING:sarpy.io.Adata_classes:Could not load AData\n"
       ]
      },
      {
       "output_type": "stream",
       "stream": "stderr",
       "text": [
        "WARNING:sarpy.io.Adata_classes:Need precisely one parameter file *json, found: []\n"
       ]
      },
      {
       "output_type": "stream",
       "stream": "stderr",
       "text": [
        "WARNING:sarpy.io.Adata_classes:Could not load AData\n"
       ]
      },
      {
       "output_type": "stream",
       "stream": "stderr",
       "text": [
        "WARNING:sarpy.io.Adata_classes:Need precisely one parameter file *json, found: []\n"
       ]
      },
      {
       "output_type": "stream",
       "stream": "stderr",
       "text": [
        "WARNING:sarpy.io.Adata_classes:Could not load AData\n"
       ]
      },
      {
       "output_type": "stream",
       "stream": "stderr",
       "text": [
        "WARNING:sarpy.io.Adata_classes:Need precisely one parameter file *json, found: []\n"
       ]
      },
      {
       "output_type": "stream",
       "stream": "stderr",
       "text": [
        "WARNING:sarpy.io.Adata_classes:Could not load AData\n"
       ]
      },
      {
       "output_type": "stream",
       "stream": "stderr",
       "text": [
        "WARNING:sarpy.io.Adata_classes:Need precisely one parameter file *json, found: []\n"
       ]
      },
      {
       "output_type": "stream",
       "stream": "stderr",
       "text": [
        "WARNING:sarpy.io.Adata_classes:Could not load AData\n"
       ]
      },
      {
       "output_type": "stream",
       "stream": "stderr",
       "text": [
        "WARNING:sarpy.io.Adata_classes:Need precisely one parameter file *json, found: []\n"
       ]
      },
      {
       "output_type": "stream",
       "stream": "stderr",
       "text": [
        "WARNING:sarpy.io.Adata_classes:Could not load AData\n"
       ]
      },
      {
       "output_type": "stream",
       "stream": "stderr",
       "text": [
        "WARNING:sarpy.io.Adata_classes:Need precisely one parameter file *json, found: []\n"
       ]
      },
      {
       "output_type": "stream",
       "stream": "stderr",
       "text": [
        "WARNING:sarpy.io.Adata_classes:Could not load AData\n"
       ]
      },
      {
       "output_type": "stream",
       "stream": "stderr",
       "text": [
        "WARNING:sarpy.io.Adata_classes:Need precisely one parameter file *json, found: []\n"
       ]
      },
      {
       "output_type": "stream",
       "stream": "stderr",
       "text": [
        "WARNING:sarpy.io.Adata_classes:Could not load AData\n"
       ]
      },
      {
       "output_type": "stream",
       "stream": "stderr",
       "text": [
        "WARNING:sarpy.io.Adata_classes:Need precisely one parameter file *json, found: []\n"
       ]
      },
      {
       "output_type": "stream",
       "stream": "stderr",
       "text": [
        "WARNING:sarpy.io.Adata_classes:Could not load AData\n"
       ]
      },
      {
       "output_type": "stream",
       "stream": "stderr",
       "text": [
        "WARNING:sarpy.io.Adata_classes:Need precisely one parameter file *json, found: []\n"
       ]
      },
      {
       "output_type": "stream",
       "stream": "stderr",
       "text": [
        "WARNING:sarpy.io.Adata_classes:Could not load AData\n"
       ]
      },
      {
       "output_type": "stream",
       "stream": "stderr",
       "text": [
        "WARNING:sarpy.io.Adata_classes:Need precisely one parameter file *json, found: []\n"
       ]
      },
      {
       "output_type": "stream",
       "stream": "stderr",
       "text": [
        "WARNING:sarpy.io.Adata_classes:Could not load AData\n"
       ]
      },
      {
       "output_type": "stream",
       "stream": "stderr",
       "text": [
        "WARNING:sarpy.io.Adata_classes:Need precisely one parameter file *json, found: []\n"
       ]
      },
      {
       "output_type": "stream",
       "stream": "stderr",
       "text": [
        "WARNING:sarpy.io.Adata_classes:Could not load AData\n"
       ]
      },
      {
       "output_type": "stream",
       "stream": "stderr",
       "text": [
        "WARNING:sarpy.io.Adata_classes:Need precisely one parameter file *json, found: []\n"
       ]
      },
      {
       "output_type": "stream",
       "stream": "stderr",
       "text": [
        "WARNING:sarpy.io.Adata_classes:Could not load AData\n"
       ]
      },
      {
       "output_type": "stream",
       "stream": "stderr",
       "text": [
        "WARNING:sarpy.io.Adata_classes:Need precisely one parameter file *json, found: []\n"
       ]
      },
      {
       "output_type": "stream",
       "stream": "stderr",
       "text": [
        "WARNING:sarpy.io.Adata_classes:Could not load AData\n"
       ]
      },
      {
       "output_type": "stream",
       "stream": "stderr",
       "text": [
        "WARNING:sarpy.io.Adata_classes:Need precisely one parameter file *json, found: []\n"
       ]
      },
      {
       "output_type": "stream",
       "stream": "stderr",
       "text": [
        "WARNING:sarpy.io.Adata_classes:Could not load AData\n"
       ]
      },
      {
       "output_type": "stream",
       "stream": "stderr",
       "text": [
        "WARNING:sarpy.io.Adata_classes:Need precisely one parameter file *json, found: []\n"
       ]
      },
      {
       "output_type": "stream",
       "stream": "stderr",
       "text": [
        "WARNING:sarpy.io.Adata_classes:Could not load AData\n"
       ]
      },
      {
       "output_type": "stream",
       "stream": "stderr",
       "text": [
        "WARNING:sarpy.io.Adata_classes:Need precisely one parameter file *json, found: []\n"
       ]
      },
      {
       "output_type": "stream",
       "stream": "stderr",
       "text": [
        "WARNING:sarpy.io.Adata_classes:Could not load AData\n"
       ]
      },
      {
       "output_type": "stream",
       "stream": "stderr",
       "text": [
        "WARNING:sarpy.io.Adata_classes:Need precisely one parameter file *json, found: []\n"
       ]
      },
      {
       "output_type": "stream",
       "stream": "stderr",
       "text": [
        "WARNING:sarpy.io.Adata_classes:Could not load AData\n"
       ]
      },
      {
       "output_type": "stream",
       "stream": "stderr",
       "text": [
        "WARNING:sarpy.io.Adata_classes:Need precisely one parameter file *json, found: []\n"
       ]
      },
      {
       "output_type": "stream",
       "stream": "stderr",
       "text": [
        "WARNING:sarpy.io.Adata_classes:Could not load AData\n"
       ]
      },
      {
       "output_type": "stream",
       "stream": "stderr",
       "text": [
        "WARNING:sarpy.io.Adata_classes:Need precisely one parameter file *json, found: []\n"
       ]
      },
      {
       "output_type": "stream",
       "stream": "stderr",
       "text": [
        "WARNING:sarpy.io.Adata_classes:Could not load AData\n"
       ]
      },
      {
       "output_type": "stream",
       "stream": "stderr",
       "text": [
        "WARNING:sarpy.io.Adata_classes:Need precisely one parameter file *json, found: []\n"
       ]
      },
      {
       "output_type": "stream",
       "stream": "stderr",
       "text": [
        "WARNING:sarpy.io.Adata_classes:Could not load AData\n"
       ]
      },
      {
       "output_type": "stream",
       "stream": "stderr",
       "text": [
        "WARNING:sarpy.io.Adata_classes:Need precisely one parameter file *json, found: []\n"
       ]
      },
      {
       "output_type": "stream",
       "stream": "stderr",
       "text": [
        "WARNING:sarpy.io.Adata_classes:Could not load AData\n"
       ]
      },
      {
       "output_type": "stream",
       "stream": "stderr",
       "text": [
        "WARNING:sarpy.io.Adata_classes:Need precisely one parameter file *json, found: []\n"
       ]
      },
      {
       "output_type": "stream",
       "stream": "stderr",
       "text": [
        "WARNING:sarpy.io.Adata_classes:Could not load AData\n"
       ]
      },
      {
       "output_type": "stream",
       "stream": "stderr",
       "text": [
        "WARNING:sarpy.io.Adata_classes:Need precisely one parameter file *json, found: []\n"
       ]
      },
      {
       "output_type": "stream",
       "stream": "stderr",
       "text": [
        "WARNING:sarpy.io.Adata_classes:Could not load AData\n"
       ]
      },
      {
       "output_type": "stream",
       "stream": "stderr",
       "text": [
        "WARNING:sarpy.io.Adata_classes:Need precisely one parameter file *json, found: []\n"
       ]
      },
      {
       "output_type": "stream",
       "stream": "stderr",
       "text": [
        "WARNING:sarpy.io.Adata_classes:Could not load AData\n"
       ]
      },
      {
       "output_type": "stream",
       "stream": "stderr",
       "text": [
        "WARNING:sarpy.io.Adata_classes:Need precisely one parameter file *json, found: []\n"
       ]
      },
      {
       "output_type": "stream",
       "stream": "stderr",
       "text": [
        "WARNING:sarpy.io.Adata_classes:Could not load AData\n"
       ]
      },
      {
       "output_type": "stream",
       "stream": "stderr",
       "text": [
        "WARNING:sarpy.io.Adata_classes:Need precisely one parameter file *json, found: []\n"
       ]
      },
      {
       "output_type": "stream",
       "stream": "stderr",
       "text": [
        "WARNING:sarpy.io.Adata_classes:Could not load AData\n"
       ]
      },
      {
       "output_type": "stream",
       "stream": "stderr",
       "text": [
        "WARNING:sarpy.io.Adata_classes:Need precisely one parameter file *json, found: []\n"
       ]
      },
      {
       "output_type": "stream",
       "stream": "stderr",
       "text": [
        "WARNING:sarpy.io.Adata_classes:Could not load AData\n"
       ]
      },
      {
       "output_type": "stream",
       "stream": "stderr",
       "text": [
        "WARNING:sarpy.io.Adata_classes:Need precisely one parameter file *json, found: []\n"
       ]
      },
      {
       "output_type": "stream",
       "stream": "stderr",
       "text": [
        "WARNING:sarpy.io.Adata_classes:Could not load AData\n"
       ]
      },
      {
       "output_type": "stream",
       "stream": "stderr",
       "text": [
        "WARNING:sarpy.io.Adata_classes:Need precisely one parameter file *json, found: []\n"
       ]
      },
      {
       "output_type": "stream",
       "stream": "stderr",
       "text": [
        "WARNING:sarpy.io.Adata_classes:Could not load AData\n"
       ]
      },
      {
       "output_type": "stream",
       "stream": "stderr",
       "text": [
        "WARNING:sarpy.io.Adata_classes:Need precisely one parameter file *json, found: []\n"
       ]
      },
      {
       "output_type": "stream",
       "stream": "stderr",
       "text": [
        "WARNING:sarpy.io.Adata_classes:Could not load AData\n"
       ]
      },
      {
       "output_type": "stream",
       "stream": "stderr",
       "text": [
        "WARNING:sarpy.io.Adata_classes:Need precisely one parameter file *json, found: []\n"
       ]
      },
      {
       "output_type": "stream",
       "stream": "stderr",
       "text": [
        "WARNING:sarpy.io.Adata_classes:Could not load AData\n"
       ]
      },
      {
       "output_type": "stream",
       "stream": "stderr",
       "text": [
        "WARNING:sarpy.io.Adata_classes:Need precisely one parameter file *json, found: []\n"
       ]
      },
      {
       "output_type": "stream",
       "stream": "stderr",
       "text": [
        "WARNING:sarpy.io.Adata_classes:Could not load AData\n"
       ]
      },
      {
       "output_type": "stream",
       "stream": "stderr",
       "text": [
        "WARNING:sarpy.io.Adata_classes:Need precisely one parameter file *json, found: []\n"
       ]
      },
      {
       "output_type": "stream",
       "stream": "stderr",
       "text": [
        "WARNING:sarpy.io.Adata_classes:Could not load AData\n"
       ]
      },
      {
       "output_type": "stream",
       "stream": "stderr",
       "text": [
        "WARNING:sarpy.io.Adata_classes:Need precisely one parameter file *json, found: []\n"
       ]
      },
      {
       "output_type": "stream",
       "stream": "stderr",
       "text": [
        "WARNING:sarpy.io.Adata_classes:Could not load AData\n"
       ]
      },
      {
       "output_type": "stream",
       "stream": "stderr",
       "text": [
        "WARNING:sarpy.io.Adata_classes:Need precisely one parameter file *json, found: []\n"
       ]
      },
      {
       "output_type": "stream",
       "stream": "stderr",
       "text": [
        "WARNING:sarpy.io.Adata_classes:Could not load AData\n"
       ]
      },
      {
       "output_type": "stream",
       "stream": "stderr",
       "text": [
        "WARNING:sarpy.io.Adata_classes:Need precisely one parameter file *json, found: []\n"
       ]
      },
      {
       "output_type": "stream",
       "stream": "stderr",
       "text": [
        "WARNING:sarpy.io.Adata_classes:Could not load AData\n"
       ]
      },
      {
       "output_type": "stream",
       "stream": "stderr",
       "text": [
        "WARNING:sarpy.io.Adata_classes:Need precisely one parameter file *json, found: []\n"
       ]
      },
      {
       "output_type": "stream",
       "stream": "stderr",
       "text": [
        "WARNING:sarpy.io.Adata_classes:Could not load AData\n"
       ]
      },
      {
       "output_type": "stream",
       "stream": "stderr",
       "text": [
        "WARNING:sarpy.io.Adata_classes:Need precisely one parameter file *json, found: []\n"
       ]
      },
      {
       "output_type": "stream",
       "stream": "stderr",
       "text": [
        "WARNING:sarpy.io.Adata_classes:Could not load AData\n"
       ]
      },
      {
       "output_type": "stream",
       "stream": "stderr",
       "text": [
        "WARNING:sarpy.io.Adata_classes:Need precisely one parameter file *json, found: []\n"
       ]
      },
      {
       "output_type": "stream",
       "stream": "stderr",
       "text": [
        "WARNING:sarpy.io.Adata_classes:Could not load AData\n"
       ]
      },
      {
       "output_type": "stream",
       "stream": "stderr",
       "text": [
        "WARNING:sarpy.io.Adata_classes:Need precisely one parameter file *json, found: []\n"
       ]
      },
      {
       "output_type": "stream",
       "stream": "stderr",
       "text": [
        "WARNING:sarpy.io.Adata_classes:Could not load AData\n"
       ]
      },
      {
       "output_type": "stream",
       "stream": "stderr",
       "text": [
        "WARNING:sarpy.io.Adata_classes:Need precisely one parameter file *json, found: []\n"
       ]
      },
      {
       "output_type": "stream",
       "stream": "stderr",
       "text": [
        "WARNING:sarpy.io.Adata_classes:Could not load AData\n"
       ]
      },
      {
       "output_type": "stream",
       "stream": "stderr",
       "text": [
        "WARNING:sarpy.io.Adata_classes:Need precisely one parameter file *json, found: []\n"
       ]
      },
      {
       "output_type": "stream",
       "stream": "stderr",
       "text": [
        "WARNING:sarpy.io.Adata_classes:Could not load AData\n"
       ]
      },
      {
       "output_type": "stream",
       "stream": "stderr",
       "text": [
        "WARNING:sarpy.io.Adata_classes:Need precisely one parameter file *json, found: []\n"
       ]
      },
      {
       "output_type": "stream",
       "stream": "stderr",
       "text": [
        "WARNING:sarpy.io.Adata_classes:Could not load AData\n"
       ]
      },
      {
       "output_type": "stream",
       "stream": "stderr",
       "text": [
        "WARNING:sarpy.io.Adata_classes:Need precisely one parameter file *json, found: []\n"
       ]
      },
      {
       "output_type": "stream",
       "stream": "stderr",
       "text": [
        "WARNING:sarpy.io.Adata_classes:Could not load AData\n"
       ]
      },
      {
       "output_type": "stream",
       "stream": "stderr",
       "text": [
        "WARNING:sarpy.io.Adata_classes:Need precisely one parameter file *json, found: []\n"
       ]
      },
      {
       "output_type": "stream",
       "stream": "stderr",
       "text": [
        "WARNING:sarpy.io.Adata_classes:Could not load AData\n"
       ]
      },
      {
       "output_type": "stream",
       "stream": "stderr",
       "text": [
        "WARNING:sarpy.io.Adata_classes:Need precisely one parameter file *json, found: []\n"
       ]
      },
      {
       "output_type": "stream",
       "stream": "stderr",
       "text": [
        "WARNING:sarpy.io.Adata_classes:Could not load AData\n"
       ]
      },
      {
       "output_type": "stream",
       "stream": "stderr",
       "text": [
        "WARNING:sarpy.io.Adata_classes:Need precisely one parameter file *json, found: []\n"
       ]
      },
      {
       "output_type": "stream",
       "stream": "stderr",
       "text": [
        "WARNING:sarpy.io.Adata_classes:Could not load AData\n"
       ]
      },
      {
       "output_type": "stream",
       "stream": "stderr",
       "text": [
        "WARNING:sarpy.io.Adata_classes:Need precisely one parameter file *json, found: []\n"
       ]
      },
      {
       "output_type": "stream",
       "stream": "stderr",
       "text": [
        "WARNING:sarpy.io.Adata_classes:Could not load AData\n"
       ]
      },
      {
       "output_type": "stream",
       "stream": "stderr",
       "text": [
        "WARNING:sarpy.io.Adata_classes:Need precisely one parameter file *json, found: []\n"
       ]
      },
      {
       "output_type": "stream",
       "stream": "stderr",
       "text": [
        "WARNING:sarpy.io.Adata_classes:Could not load AData\n"
       ]
      },
      {
       "output_type": "stream",
       "stream": "stderr",
       "text": [
        "WARNING:sarpy.io.Adata_classes:Need precisely one parameter file *json, found: []\n"
       ]
      },
      {
       "output_type": "stream",
       "stream": "stderr",
       "text": [
        "WARNING:sarpy.io.Adata_classes:Could not load AData\n"
       ]
      },
      {
       "output_type": "stream",
       "stream": "stderr",
       "text": [
        "WARNING:sarpy.io.Adata_classes:Need precisely one parameter file *json, found: []\n"
       ]
      },
      {
       "output_type": "stream",
       "stream": "stderr",
       "text": [
        "WARNING:sarpy.io.Adata_classes:Could not load AData\n"
       ]
      },
      {
       "output_type": "stream",
       "stream": "stderr",
       "text": [
        "WARNING:sarpy.io.Adata_classes:Need precisely one parameter file *json, found: []\n"
       ]
      },
      {
       "output_type": "stream",
       "stream": "stderr",
       "text": [
        "WARNING:sarpy.io.Adata_classes:Could not load AData\n"
       ]
      },
      {
       "output_type": "stream",
       "stream": "stderr",
       "text": [
        "WARNING:sarpy.io.Adata_classes:Need precisely one parameter file *json, found: []\n"
       ]
      },
      {
       "output_type": "stream",
       "stream": "stderr",
       "text": [
        "WARNING:sarpy.io.Adata_classes:Could not load AData\n"
       ]
      },
      {
       "output_type": "stream",
       "stream": "stderr",
       "text": [
        "WARNING:sarpy.io.Adata_classes:Need precisely one parameter file *json, found: []\n"
       ]
      },
      {
       "output_type": "stream",
       "stream": "stderr",
       "text": [
        "WARNING:sarpy.io.Adata_classes:Could not load AData\n"
       ]
      },
      {
       "output_type": "stream",
       "stream": "stderr",
       "text": [
        "WARNING:sarpy.io.Adata_classes:Need precisely one parameter file *json, found: []\n"
       ]
      },
      {
       "output_type": "stream",
       "stream": "stderr",
       "text": [
        "WARNING:sarpy.io.Adata_classes:Could not load AData\n"
       ]
      },
      {
       "output_type": "stream",
       "stream": "stderr",
       "text": [
        "WARNING:sarpy.io.Adata_classes:Need precisely one parameter file *json, found: []\n"
       ]
      },
      {
       "output_type": "stream",
       "stream": "stderr",
       "text": [
        "WARNING:sarpy.io.Adata_classes:Could not load AData\n"
       ]
      },
      {
       "output_type": "stream",
       "stream": "stderr",
       "text": [
        "WARNING:sarpy.io.Adata_classes:Need precisely one parameter file *json, found: []\n"
       ]
      },
      {
       "output_type": "stream",
       "stream": "stderr",
       "text": [
        "WARNING:sarpy.io.Adata_classes:Could not load AData\n"
       ]
      },
      {
       "output_type": "stream",
       "stream": "stderr",
       "text": [
        "WARNING:sarpy.io.Adata_classes:Need precisely one parameter file *json, found: []\n"
       ]
      },
      {
       "output_type": "stream",
       "stream": "stderr",
       "text": [
        "WARNING:sarpy.io.Adata_classes:Could not load AData\n"
       ]
      },
      {
       "output_type": "stream",
       "stream": "stderr",
       "text": [
        "WARNING:sarpy.io.Adata_classes:Need precisely one parameter file *json, found: []\n"
       ]
      },
      {
       "output_type": "stream",
       "stream": "stderr",
       "text": [
        "WARNING:sarpy.io.Adata_classes:Could not load AData\n"
       ]
      },
      {
       "output_type": "stream",
       "stream": "stderr",
       "text": [
        "WARNING:sarpy.io.Adata_classes:Need precisely one parameter file *json, found: []\n"
       ]
      },
      {
       "output_type": "stream",
       "stream": "stderr",
       "text": [
        "WARNING:sarpy.io.Adata_classes:Could not load AData\n"
       ]
      },
      {
       "output_type": "stream",
       "stream": "stderr",
       "text": [
        "WARNING:sarpy.io.Adata_classes:Need precisely one parameter file *json, found: []\n"
       ]
      },
      {
       "output_type": "stream",
       "stream": "stderr",
       "text": [
        "WARNING:sarpy.io.Adata_classes:Could not load AData\n"
       ]
      },
      {
       "output_type": "stream",
       "stream": "stderr",
       "text": [
        "WARNING:sarpy.io.Adata_classes:Need precisely one parameter file *json, found: []\n"
       ]
      },
      {
       "output_type": "stream",
       "stream": "stderr",
       "text": [
        "WARNING:sarpy.io.Adata_classes:Could not load AData\n"
       ]
      },
      {
       "output_type": "stream",
       "stream": "stderr",
       "text": [
        "WARNING:sarpy.io.Adata_classes:Need precisely one parameter file *json, found: []\n"
       ]
      },
      {
       "output_type": "stream",
       "stream": "stderr",
       "text": [
        "WARNING:sarpy.io.Adata_classes:Could not load AData\n"
       ]
      },
      {
       "output_type": "stream",
       "stream": "stderr",
       "text": [
        "WARNING:sarpy.io.Adata_classes:Need precisely one parameter file *json, found: []\n"
       ]
      },
      {
       "output_type": "stream",
       "stream": "stderr",
       "text": [
        "WARNING:sarpy.io.Adata_classes:Could not load AData\n"
       ]
      },
      {
       "output_type": "stream",
       "stream": "stderr",
       "text": [
        "WARNING:sarpy.io.Adata_classes:Need precisely one parameter file *json, found: []\n"
       ]
      },
      {
       "output_type": "stream",
       "stream": "stderr",
       "text": [
        "WARNING:sarpy.io.Adata_classes:Could not load AData\n"
       ]
      },
      {
       "output_type": "stream",
       "stream": "stderr",
       "text": [
        "WARNING:sarpy.io.Adata_classes:Need precisely one parameter file *json, found: []\n"
       ]
      },
      {
       "output_type": "stream",
       "stream": "stderr",
       "text": [
        "WARNING:sarpy.io.Adata_classes:Could not load AData\n"
       ]
      },
      {
       "output_type": "stream",
       "stream": "stderr",
       "text": [
        "WARNING:sarpy.io.Adata_classes:Need precisely one parameter file *json, found: []\n"
       ]
      },
      {
       "output_type": "stream",
       "stream": "stderr",
       "text": [
        "WARNING:sarpy.io.Adata_classes:Could not load AData\n"
       ]
      },
      {
       "output_type": "stream",
       "stream": "stderr",
       "text": [
        "WARNING:sarpy.io.Adata_classes:Need precisely one parameter file *json, found: []\n"
       ]
      },
      {
       "output_type": "stream",
       "stream": "stderr",
       "text": [
        "WARNING:sarpy.io.Adata_classes:Could not load AData\n"
       ]
      },
      {
       "output_type": "stream",
       "stream": "stderr",
       "text": [
        "WARNING:sarpy.io.Adata_classes:Need precisely one parameter file *json, found: []\n"
       ]
      },
      {
       "output_type": "stream",
       "stream": "stderr",
       "text": [
        "WARNING:sarpy.io.Adata_classes:Could not load AData\n"
       ]
      },
      {
       "output_type": "stream",
       "stream": "stderr",
       "text": [
        "WARNING:sarpy.io.Adata_classes:Need precisely one parameter file *json, found: []\n"
       ]
      },
      {
       "output_type": "stream",
       "stream": "stderr",
       "text": [
        "WARNING:sarpy.io.Adata_classes:Could not load AData\n"
       ]
      },
      {
       "output_type": "stream",
       "stream": "stderr",
       "text": [
        "WARNING:sarpy.io.Adata_classes:Need precisely one parameter file *json, found: []\n"
       ]
      },
      {
       "output_type": "stream",
       "stream": "stderr",
       "text": [
        "WARNING:sarpy.io.Adata_classes:Could not load AData\n"
       ]
      },
      {
       "output_type": "stream",
       "stream": "stderr",
       "text": [
        "WARNING:sarpy.io.Adata_classes:Need precisely one parameter file *json, found: []\n"
       ]
      },
      {
       "output_type": "stream",
       "stream": "stderr",
       "text": [
        "WARNING:sarpy.io.Adata_classes:Could not load AData\n"
       ]
      },
      {
       "output_type": "stream",
       "stream": "stderr",
       "text": [
        "WARNING:sarpy.io.Adata_classes:Need precisely one parameter file *json, found: []\n"
       ]
      },
      {
       "output_type": "stream",
       "stream": "stderr",
       "text": [
        "WARNING:sarpy.io.Adata_classes:Could not load AData\n"
       ]
      },
      {
       "output_type": "stream",
       "stream": "stderr",
       "text": [
        "WARNING:sarpy.io.Adata_classes:Need precisely one parameter file *json, found: []\n"
       ]
      },
      {
       "output_type": "stream",
       "stream": "stderr",
       "text": [
        "WARNING:sarpy.io.Adata_classes:Could not load AData\n"
       ]
      },
      {
       "output_type": "stream",
       "stream": "stderr",
       "text": [
        "WARNING:sarpy.io.Adata_classes:Need precisely one parameter file *json, found: []\n"
       ]
      },
      {
       "output_type": "stream",
       "stream": "stderr",
       "text": [
        "WARNING:sarpy.io.Adata_classes:Could not load AData\n"
       ]
      },
      {
       "output_type": "stream",
       "stream": "stderr",
       "text": [
        "WARNING:sarpy.io.Adata_classes:Need precisely one parameter file *json, found: []\n"
       ]
      },
      {
       "output_type": "stream",
       "stream": "stderr",
       "text": [
        "WARNING:sarpy.io.Adata_classes:Could not load AData\n"
       ]
      },
      {
       "output_type": "stream",
       "stream": "stderr",
       "text": [
        "WARNING:sarpy.io.Adata_classes:Need precisely one parameter file *json, found: []\n"
       ]
      },
      {
       "output_type": "stream",
       "stream": "stderr",
       "text": [
        "WARNING:sarpy.io.Adata_classes:Could not load AData\n"
       ]
      },
      {
       "output_type": "stream",
       "stream": "stderr",
       "text": [
        "WARNING:sarpy.io.Adata_classes:Need precisely one parameter file *json, found: []\n"
       ]
      },
      {
       "output_type": "stream",
       "stream": "stderr",
       "text": [
        "WARNING:sarpy.io.Adata_classes:Could not load AData\n"
       ]
      },
      {
       "output_type": "stream",
       "stream": "stderr",
       "text": [
        "WARNING:sarpy.io.Adata_classes:Need precisely one parameter file *json, found: []\n"
       ]
      },
      {
       "output_type": "stream",
       "stream": "stderr",
       "text": [
        "WARNING:sarpy.io.Adata_classes:Could not load AData\n"
       ]
      },
      {
       "output_type": "stream",
       "stream": "stderr",
       "text": [
        "WARNING:sarpy.io.Adata_classes:Need precisely one parameter file *json, found: []\n"
       ]
      },
      {
       "output_type": "stream",
       "stream": "stderr",
       "text": [
        "WARNING:sarpy.io.Adata_classes:Could not load AData\n"
       ]
      },
      {
       "output_type": "stream",
       "stream": "stderr",
       "text": [
        "WARNING:sarpy.io.Adata_classes:Need precisely one parameter file *json, found: []\n"
       ]
      },
      {
       "output_type": "stream",
       "stream": "stderr",
       "text": [
        "WARNING:sarpy.io.Adata_classes:Could not load AData\n"
       ]
      },
      {
       "output_type": "stream",
       "stream": "stderr",
       "text": [
        "WARNING:sarpy.io.Adata_classes:Need precisely one parameter file *json, found: []\n"
       ]
      },
      {
       "output_type": "stream",
       "stream": "stderr",
       "text": [
        "WARNING:sarpy.io.Adata_classes:Could not load AData\n"
       ]
      },
      {
       "output_type": "stream",
       "stream": "stderr",
       "text": [
        "WARNING:sarpy.io.Adata_classes:Need precisely one parameter file *json, found: []\n"
       ]
      },
      {
       "output_type": "stream",
       "stream": "stderr",
       "text": [
        "WARNING:sarpy.io.Adata_classes:Could not load AData\n"
       ]
      },
      {
       "output_type": "stream",
       "stream": "stderr",
       "text": [
        "WARNING:sarpy.io.Adata_classes:Need precisely one parameter file *json, found: []\n"
       ]
      },
      {
       "output_type": "stream",
       "stream": "stderr",
       "text": [
        "WARNING:sarpy.io.Adata_classes:Could not load AData\n"
       ]
      },
      {
       "output_type": "stream",
       "stream": "stderr",
       "text": [
        "WARNING:sarpy.io.Adata_classes:Need precisely one parameter file *json, found: []\n"
       ]
      },
      {
       "output_type": "stream",
       "stream": "stderr",
       "text": [
        "WARNING:sarpy.io.Adata_classes:Could not load AData\n"
       ]
      },
      {
       "output_type": "stream",
       "stream": "stderr",
       "text": [
        "WARNING:sarpy.io.Adata_classes:Need precisely one parameter file *json, found: []\n"
       ]
      },
      {
       "output_type": "stream",
       "stream": "stderr",
       "text": [
        "WARNING:sarpy.io.Adata_classes:Could not load AData\n"
       ]
      },
      {
       "output_type": "stream",
       "stream": "stderr",
       "text": [
        "WARNING:sarpy.io.Adata_classes:Need precisely one parameter file *json, found: []\n"
       ]
      },
      {
       "output_type": "stream",
       "stream": "stderr",
       "text": [
        "WARNING:sarpy.io.Adata_classes:Could not load AData\n"
       ]
      },
      {
       "output_type": "stream",
       "stream": "stderr",
       "text": [
        "WARNING:sarpy.io.Adata_classes:Need precisely one parameter file *json, found: []\n"
       ]
      },
      {
       "output_type": "stream",
       "stream": "stderr",
       "text": [
        "WARNING:sarpy.io.Adata_classes:Could not load AData\n"
       ]
      },
      {
       "output_type": "stream",
       "stream": "stderr",
       "text": [
        "WARNING:sarpy.io.Adata_classes:Need precisely one parameter file *json, found: []\n"
       ]
      },
      {
       "output_type": "stream",
       "stream": "stderr",
       "text": [
        "WARNING:sarpy.io.Adata_classes:Could not load AData\n"
       ]
      },
      {
       "output_type": "stream",
       "stream": "stderr",
       "text": [
        "WARNING:sarpy.io.Adata_classes:Need precisely one parameter file *json, found: []\n"
       ]
      },
      {
       "output_type": "stream",
       "stream": "stderr",
       "text": [
        "WARNING:sarpy.io.Adata_classes:Could not load AData\n"
       ]
      },
      {
       "output_type": "stream",
       "stream": "stderr",
       "text": [
        "WARNING:sarpy.io.Adata_classes:Need precisely one parameter file *json, found: []\n"
       ]
      },
      {
       "output_type": "stream",
       "stream": "stderr",
       "text": [
        "WARNING:sarpy.io.Adata_classes:Could not load AData\n"
       ]
      },
      {
       "output_type": "stream",
       "stream": "stderr",
       "text": [
        "WARNING:sarpy.io.Adata_classes:Need precisely one parameter file *json, found: []\n"
       ]
      },
      {
       "output_type": "stream",
       "stream": "stderr",
       "text": [
        "WARNING:sarpy.io.Adata_classes:Could not load AData\n"
       ]
      },
      {
       "output_type": "stream",
       "stream": "stderr",
       "text": [
        "WARNING:sarpy.io.Adata_classes:Need precisely one parameter file *json, found: []\n"
       ]
      },
      {
       "output_type": "stream",
       "stream": "stderr",
       "text": [
        "WARNING:sarpy.io.Adata_classes:Could not load AData\n"
       ]
      },
      {
       "output_type": "stream",
       "stream": "stderr",
       "text": [
        "WARNING:sarpy.io.Adata_classes:Need precisely one parameter file *json, found: []\n"
       ]
      },
      {
       "output_type": "stream",
       "stream": "stderr",
       "text": [
        "WARNING:sarpy.io.Adata_classes:Could not load AData\n"
       ]
      },
      {
       "output_type": "stream",
       "stream": "stderr",
       "text": [
        "WARNING:sarpy.io.Adata_classes:Need precisely one parameter file *json, found: []\n"
       ]
      },
      {
       "output_type": "stream",
       "stream": "stderr",
       "text": [
        "WARNING:sarpy.io.Adata_classes:Could not load AData\n"
       ]
      },
      {
       "output_type": "stream",
       "stream": "stderr",
       "text": [
        "WARNING:sarpy.io.Adata_classes:Need precisely one parameter file *json, found: []\n"
       ]
      },
      {
       "output_type": "stream",
       "stream": "stderr",
       "text": [
        "WARNING:sarpy.io.Adata_classes:Could not load AData\n"
       ]
      },
      {
       "output_type": "stream",
       "stream": "stderr",
       "text": [
        "WARNING:sarpy.io.Adata_classes:Need precisely one parameter file *json, found: []\n"
       ]
      },
      {
       "output_type": "stream",
       "stream": "stderr",
       "text": [
        "WARNING:sarpy.io.Adata_classes:Could not load AData\n"
       ]
      },
      {
       "output_type": "stream",
       "stream": "stderr",
       "text": [
        "WARNING:sarpy.io.Adata_classes:Need precisely one parameter file *json, found: []\n"
       ]
      },
      {
       "output_type": "stream",
       "stream": "stderr",
       "text": [
        "WARNING:sarpy.io.Adata_classes:Could not load AData\n"
       ]
      },
      {
       "output_type": "stream",
       "stream": "stderr",
       "text": [
        "WARNING:sarpy.io.Adata_classes:Need precisely one parameter file *json, found: []\n"
       ]
      },
      {
       "output_type": "stream",
       "stream": "stderr",
       "text": [
        "WARNING:sarpy.io.Adata_classes:Could not load AData\n"
       ]
      },
      {
       "output_type": "stream",
       "stream": "stderr",
       "text": [
        "WARNING:sarpy.io.Adata_classes:Need precisely one parameter file *json, found: []\n"
       ]
      },
      {
       "output_type": "stream",
       "stream": "stderr",
       "text": [
        "WARNING:sarpy.io.Adata_classes:Could not load AData\n"
       ]
      },
      {
       "output_type": "stream",
       "stream": "stderr",
       "text": [
        "WARNING:sarpy.io.Adata_classes:Need precisely one parameter file *json, found: []\n"
       ]
      },
      {
       "output_type": "stream",
       "stream": "stderr",
       "text": [
        "WARNING:sarpy.io.Adata_classes:Could not load AData\n"
       ]
      },
      {
       "output_type": "stream",
       "stream": "stderr",
       "text": [
        "WARNING:sarpy.io.Adata_classes:Need precisely one parameter file *json, found: []\n"
       ]
      },
      {
       "output_type": "stream",
       "stream": "stderr",
       "text": [
        "WARNING:sarpy.io.Adata_classes:Could not load AData\n"
       ]
      },
      {
       "output_type": "stream",
       "stream": "stderr",
       "text": [
        "WARNING:sarpy.io.Adata_classes:Need precisely one parameter file *json, found: []\n"
       ]
      },
      {
       "output_type": "stream",
       "stream": "stderr",
       "text": [
        "WARNING:sarpy.io.Adata_classes:Could not load AData\n"
       ]
      },
      {
       "output_type": "stream",
       "stream": "stderr",
       "text": [
        "WARNING:sarpy.io.Adata_classes:Need precisely one parameter file *json, found: []\n"
       ]
      },
      {
       "output_type": "stream",
       "stream": "stderr",
       "text": [
        "WARNING:sarpy.io.Adata_classes:Could not load AData\n"
       ]
      },
      {
       "output_type": "stream",
       "stream": "stderr",
       "text": [
        "WARNING:sarpy.io.Adata_classes:Need precisely one parameter file *json, found: []\n"
       ]
      },
      {
       "output_type": "stream",
       "stream": "stderr",
       "text": [
        "WARNING:sarpy.io.Adata_classes:Could not load AData\n"
       ]
      },
      {
       "output_type": "stream",
       "stream": "stderr",
       "text": [
        "WARNING:sarpy.io.Adata_classes:Need precisely one parameter file *json, found: []\n"
       ]
      },
      {
       "output_type": "stream",
       "stream": "stderr",
       "text": [
        "WARNING:sarpy.io.Adata_classes:Could not load AData\n"
       ]
      },
      {
       "output_type": "stream",
       "stream": "stderr",
       "text": [
        "WARNING:sarpy.io.Adata_classes:Need precisely one parameter file *json, found: []\n"
       ]
      },
      {
       "output_type": "stream",
       "stream": "stderr",
       "text": [
        "WARNING:sarpy.io.Adata_classes:Could not load AData\n"
       ]
      },
      {
       "output_type": "stream",
       "stream": "stderr",
       "text": [
        "WARNING:sarpy.io.Adata_classes:Need precisely one parameter file *json, found: []\n"
       ]
      },
      {
       "output_type": "stream",
       "stream": "stderr",
       "text": [
        "WARNING:sarpy.io.Adata_classes:Could not load AData\n"
       ]
      },
      {
       "output_type": "stream",
       "stream": "stderr",
       "text": [
        "WARNING:sarpy.io.Adata_classes:Need precisely one parameter file *json, found: []\n"
       ]
      },
      {
       "output_type": "stream",
       "stream": "stderr",
       "text": [
        "WARNING:sarpy.io.Adata_classes:Could not load AData\n"
       ]
      },
      {
       "output_type": "stream",
       "stream": "stderr",
       "text": [
        "WARNING:sarpy.io.Adata_classes:Need precisely one parameter file *json, found: []\n"
       ]
      },
      {
       "output_type": "stream",
       "stream": "stderr",
       "text": [
        "WARNING:sarpy.io.Adata_classes:Could not load AData\n"
       ]
      },
      {
       "output_type": "stream",
       "stream": "stderr",
       "text": [
        "WARNING:sarpy.io.Adata_classes:Need precisely one parameter file *json, found: []\n"
       ]
      },
      {
       "output_type": "stream",
       "stream": "stderr",
       "text": [
        "WARNING:sarpy.io.Adata_classes:Could not load AData\n"
       ]
      },
      {
       "output_type": "stream",
       "stream": "stderr",
       "text": [
        "WARNING:sarpy.io.Adata_classes:Need precisely one parameter file *json, found: []\n"
       ]
      },
      {
       "output_type": "stream",
       "stream": "stderr",
       "text": [
        "WARNING:sarpy.io.Adata_classes:Could not load AData\n"
       ]
      },
      {
       "output_type": "stream",
       "stream": "stderr",
       "text": [
        "WARNING:sarpy.io.Adata_classes:Need precisely one parameter file *json, found: []\n"
       ]
      },
      {
       "output_type": "stream",
       "stream": "stderr",
       "text": [
        "WARNING:sarpy.io.Adata_classes:Could not load AData\n"
       ]
      },
      {
       "output_type": "stream",
       "stream": "stderr",
       "text": [
        "WARNING:sarpy.io.Adata_classes:Need precisely one parameter file *json, found: []\n"
       ]
      },
      {
       "output_type": "stream",
       "stream": "stderr",
       "text": [
        "WARNING:sarpy.io.Adata_classes:Could not load AData\n"
       ]
      },
      {
       "output_type": "stream",
       "stream": "stderr",
       "text": [
        "WARNING:sarpy.io.Adata_classes:Need precisely one parameter file *json, found: []\n"
       ]
      },
      {
       "output_type": "stream",
       "stream": "stderr",
       "text": [
        "WARNING:sarpy.io.Adata_classes:Could not load AData\n"
       ]
      },
      {
       "output_type": "stream",
       "stream": "stderr",
       "text": [
        "WARNING:sarpy.io.Adata_classes:Need precisely one parameter file *json, found: []\n"
       ]
      },
      {
       "output_type": "stream",
       "stream": "stderr",
       "text": [
        "WARNING:sarpy.io.Adata_classes:Could not load AData\n"
       ]
      },
      {
       "output_type": "stream",
       "stream": "stderr",
       "text": [
        "WARNING:sarpy.io.Adata_classes:Need precisely one parameter file *json, found: []\n"
       ]
      },
      {
       "output_type": "stream",
       "stream": "stderr",
       "text": [
        "WARNING:sarpy.io.Adata_classes:Could not load AData\n"
       ]
      },
      {
       "output_type": "stream",
       "stream": "stderr",
       "text": [
        "WARNING:sarpy.io.Adata_classes:Need precisely one parameter file *json, found: []\n"
       ]
      },
      {
       "output_type": "stream",
       "stream": "stderr",
       "text": [
        "WARNING:sarpy.io.Adata_classes:Could not load AData\n"
       ]
      },
      {
       "output_type": "stream",
       "stream": "stderr",
       "text": [
        "WARNING:sarpy.io.Adata_classes:Need precisely one parameter file *json, found: []\n"
       ]
      },
      {
       "output_type": "stream",
       "stream": "stderr",
       "text": [
        "WARNING:sarpy.io.Adata_classes:Could not load AData\n"
       ]
      },
      {
       "output_type": "stream",
       "stream": "stderr",
       "text": [
        "WARNING:sarpy.io.Adata_classes:Need precisely one parameter file *json, found: []\n"
       ]
      },
      {
       "output_type": "stream",
       "stream": "stderr",
       "text": [
        "WARNING:sarpy.io.Adata_classes:Could not load AData\n"
       ]
      },
      {
       "output_type": "stream",
       "stream": "stderr",
       "text": [
        "WARNING:sarpy.io.Adata_classes:Need precisely one parameter file *json, found: []\n"
       ]
      },
      {
       "output_type": "stream",
       "stream": "stderr",
       "text": [
        "WARNING:sarpy.io.Adata_classes:Could not load AData\n"
       ]
      },
      {
       "output_type": "stream",
       "stream": "stderr",
       "text": [
        "WARNING:sarpy.io.Adata_classes:Need precisely one parameter file *json, found: []\n"
       ]
      },
      {
       "output_type": "stream",
       "stream": "stderr",
       "text": [
        "WARNING:sarpy.io.Adata_classes:Could not load AData\n"
       ]
      },
      {
       "output_type": "stream",
       "stream": "stderr",
       "text": [
        "WARNING:sarpy.io.Adata_classes:Need precisely one parameter file *json, found: []\n"
       ]
      },
      {
       "output_type": "stream",
       "stream": "stderr",
       "text": [
        "WARNING:sarpy.io.Adata_classes:Could not load AData\n"
       ]
      },
      {
       "output_type": "stream",
       "stream": "stderr",
       "text": [
        "WARNING:sarpy.io.Adata_classes:Need precisely one parameter file *json, found: []\n"
       ]
      },
      {
       "output_type": "stream",
       "stream": "stderr",
       "text": [
        "WARNING:sarpy.io.Adata_classes:Could not load AData\n"
       ]
      },
      {
       "output_type": "stream",
       "stream": "stderr",
       "text": [
        "WARNING:sarpy.io.Adata_classes:Need precisely one parameter file *json, found: []\n"
       ]
      },
      {
       "output_type": "stream",
       "stream": "stderr",
       "text": [
        "WARNING:sarpy.io.Adata_classes:Could not load AData\n"
       ]
      },
      {
       "output_type": "stream",
       "stream": "stderr",
       "text": [
        "WARNING:sarpy.io.Adata_classes:Need precisely one parameter file *json, found: []\n"
       ]
      },
      {
       "output_type": "stream",
       "stream": "stderr",
       "text": [
        "WARNING:sarpy.io.Adata_classes:Could not load AData\n"
       ]
      },
      {
       "output_type": "stream",
       "stream": "stderr",
       "text": [
        "WARNING:sarpy.io.Adata_classes:Need precisely one parameter file *json, found: []\n"
       ]
      },
      {
       "output_type": "stream",
       "stream": "stderr",
       "text": [
        "WARNING:sarpy.io.Adata_classes:Could not load AData\n"
       ]
      },
      {
       "output_type": "stream",
       "stream": "stderr",
       "text": [
        "WARNING:sarpy.io.Adata_classes:Need precisely one parameter file *json, found: []\n"
       ]
      },
      {
       "output_type": "stream",
       "stream": "stderr",
       "text": [
        "WARNING:sarpy.io.Adata_classes:Could not load AData\n"
       ]
      },
      {
       "output_type": "stream",
       "stream": "stderr",
       "text": [
        "WARNING:sarpy.io.Adata_classes:Need precisely one parameter file *json, found: []\n"
       ]
      },
      {
       "output_type": "stream",
       "stream": "stderr",
       "text": [
        "WARNING:sarpy.io.Adata_classes:Could not load AData\n"
       ]
      },
      {
       "output_type": "stream",
       "stream": "stderr",
       "text": [
        "WARNING:sarpy.io.Adata_classes:Need precisely one parameter file *json, found: []\n"
       ]
      },
      {
       "output_type": "stream",
       "stream": "stderr",
       "text": [
        "WARNING:sarpy.io.Adata_classes:Could not load AData\n"
       ]
      },
      {
       "output_type": "stream",
       "stream": "stderr",
       "text": [
        "WARNING:sarpy.io.Adata_classes:Need precisely one parameter file *json, found: []\n"
       ]
      },
      {
       "output_type": "stream",
       "stream": "stderr",
       "text": [
        "WARNING:sarpy.io.Adata_classes:Could not load AData\n"
       ]
      },
      {
       "output_type": "stream",
       "stream": "stderr",
       "text": [
        "WARNING:sarpy.io.Adata_classes:Need precisely one parameter file *json, found: []\n"
       ]
      },
      {
       "output_type": "stream",
       "stream": "stderr",
       "text": [
        "WARNING:sarpy.io.Adata_classes:Could not load AData\n"
       ]
      },
      {
       "output_type": "stream",
       "stream": "stderr",
       "text": [
        "WARNING:sarpy.io.Adata_classes:Need precisely one parameter file *json, found: []\n"
       ]
      },
      {
       "output_type": "stream",
       "stream": "stderr",
       "text": [
        "WARNING:sarpy.io.Adata_classes:Could not load AData\n"
       ]
      },
      {
       "output_type": "stream",
       "stream": "stderr",
       "text": [
        "WARNING:sarpy.io.Adata_classes:Need precisely one parameter file *json, found: []\n"
       ]
      },
      {
       "output_type": "stream",
       "stream": "stderr",
       "text": [
        "WARNING:sarpy.io.Adata_classes:Could not load AData\n"
       ]
      },
      {
       "output_type": "stream",
       "stream": "stderr",
       "text": [
        "WARNING:sarpy.io.Adata_classes:Need precisely one parameter file *json, found: []\n"
       ]
      },
      {
       "output_type": "stream",
       "stream": "stderr",
       "text": [
        "WARNING:sarpy.io.Adata_classes:Could not load AData\n"
       ]
      },
      {
       "output_type": "stream",
       "stream": "stderr",
       "text": [
        "WARNING:sarpy.io.Adata_classes:Need precisely one parameter file *json, found: []\n"
       ]
      },
      {
       "output_type": "stream",
       "stream": "stderr",
       "text": [
        "WARNING:sarpy.io.Adata_classes:Could not load AData\n"
       ]
      },
      {
       "output_type": "stream",
       "stream": "stderr",
       "text": [
        "WARNING:sarpy.io.Adata_classes:Need precisely one parameter file *json, found: []\n"
       ]
      },
      {
       "output_type": "stream",
       "stream": "stderr",
       "text": [
        "WARNING:sarpy.io.Adata_classes:Could not load AData\n"
       ]
      },
      {
       "output_type": "stream",
       "stream": "stderr",
       "text": [
        "WARNING:sarpy.io.Adata_classes:Need precisely one parameter file *json, found: []\n"
       ]
      },
      {
       "output_type": "stream",
       "stream": "stderr",
       "text": [
        "WARNING:sarpy.io.Adata_classes:Could not load AData\n"
       ]
      },
      {
       "output_type": "stream",
       "stream": "stderr",
       "text": [
        "WARNING:sarpy.io.Adata_classes:Need precisely one parameter file *json, found: []\n"
       ]
      },
      {
       "output_type": "stream",
       "stream": "stderr",
       "text": [
        "WARNING:sarpy.io.Adata_classes:Could not load AData\n"
       ]
      },
      {
       "output_type": "stream",
       "stream": "stderr",
       "text": [
        "WARNING:sarpy.io.Adata_classes:Need precisely one parameter file *json, found: []\n"
       ]
      },
      {
       "output_type": "stream",
       "stream": "stderr",
       "text": [
        "WARNING:sarpy.io.Adata_classes:Could not load AData\n"
       ]
      },
      {
       "output_type": "stream",
       "stream": "stderr",
       "text": [
        "WARNING:sarpy.io.Adata_classes:Need precisely one parameter file *json, found: []\n"
       ]
      },
      {
       "output_type": "stream",
       "stream": "stderr",
       "text": [
        "WARNING:sarpy.io.Adata_classes:Could not load AData\n"
       ]
      },
      {
       "output_type": "stream",
       "stream": "stderr",
       "text": [
        "WARNING:sarpy.io.Adata_classes:Need precisely one parameter file *json, found: []\n"
       ]
      },
      {
       "output_type": "stream",
       "stream": "stderr",
       "text": [
        "WARNING:sarpy.io.Adata_classes:Could not load AData\n"
       ]
      },
      {
       "output_type": "stream",
       "stream": "stderr",
       "text": [
        "WARNING:sarpy.io.Adata_classes:Need precisely one parameter file *json, found: []\n"
       ]
      },
      {
       "output_type": "stream",
       "stream": "stderr",
       "text": [
        "WARNING:sarpy.io.Adata_classes:Could not load AData\n"
       ]
      },
      {
       "output_type": "stream",
       "stream": "stderr",
       "text": [
        "WARNING:sarpy.io.Adata_classes:Need precisely one parameter file *json, found: []\n"
       ]
      },
      {
       "output_type": "stream",
       "stream": "stderr",
       "text": [
        "WARNING:sarpy.io.Adata_classes:Could not load AData\n"
       ]
      },
      {
       "output_type": "stream",
       "stream": "stderr",
       "text": [
        "WARNING:sarpy.io.Adata_classes:Need precisely one parameter file *json, found: []\n"
       ]
      },
      {
       "output_type": "stream",
       "stream": "stderr",
       "text": [
        "WARNING:sarpy.io.Adata_classes:Could not load AData\n"
       ]
      },
      {
       "output_type": "stream",
       "stream": "stderr",
       "text": [
        "WARNING:sarpy.io.Adata_classes:Need precisely one parameter file *json, found: []\n"
       ]
      },
      {
       "output_type": "stream",
       "stream": "stderr",
       "text": [
        "WARNING:sarpy.io.Adata_classes:Could not load AData\n"
       ]
      },
      {
       "output_type": "stream",
       "stream": "stderr",
       "text": [
        "WARNING:sarpy.io.Adata_classes:Need precisely one parameter file *json, found: []\n"
       ]
      },
      {
       "output_type": "stream",
       "stream": "stderr",
       "text": [
        "WARNING:sarpy.io.Adata_classes:Could not load AData\n"
       ]
      },
      {
       "output_type": "stream",
       "stream": "stderr",
       "text": [
        "WARNING:sarpy.io.Adata_classes:Need precisely one parameter file *json, found: []\n"
       ]
      },
      {
       "output_type": "stream",
       "stream": "stderr",
       "text": [
        "WARNING:sarpy.io.Adata_classes:Could not load AData\n"
       ]
      },
      {
       "output_type": "stream",
       "stream": "stderr",
       "text": [
        "WARNING:sarpy.io.Adata_classes:Need precisely one parameter file *json, found: []\n"
       ]
      },
      {
       "output_type": "stream",
       "stream": "stderr",
       "text": [
        "WARNING:sarpy.io.Adata_classes:Could not load AData\n"
       ]
      },
      {
       "output_type": "stream",
       "stream": "stderr",
       "text": [
        "WARNING:sarpy.io.Adata_classes:Need precisely one parameter file *json, found: []\n"
       ]
      },
      {
       "output_type": "stream",
       "stream": "stderr",
       "text": [
        "WARNING:sarpy.io.Adata_classes:Could not load AData\n"
       ]
      },
      {
       "output_type": "stream",
       "stream": "stderr",
       "text": [
        "WARNING:sarpy.io.Adata_classes:Need precisely one parameter file *json, found: []\n"
       ]
      },
      {
       "output_type": "stream",
       "stream": "stderr",
       "text": [
        "WARNING:sarpy.io.Adata_classes:Could not load AData\n"
       ]
      },
      {
       "output_type": "stream",
       "stream": "stderr",
       "text": [
        "WARNING:sarpy.io.Adata_classes:Need precisely one parameter file *json, found: []\n"
       ]
      },
      {
       "output_type": "stream",
       "stream": "stderr",
       "text": [
        "WARNING:sarpy.io.Adata_classes:Could not load AData\n"
       ]
      },
      {
       "output_type": "stream",
       "stream": "stderr",
       "text": [
        "WARNING:sarpy.io.Adata_classes:Need precisely one parameter file *json, found: []\n"
       ]
      },
      {
       "output_type": "stream",
       "stream": "stderr",
       "text": [
        "WARNING:sarpy.io.Adata_classes:Could not load AData\n"
       ]
      },
      {
       "output_type": "stream",
       "stream": "stderr",
       "text": [
        "WARNING:sarpy.io.Adata_classes:Need precisely one parameter file *json, found: []\n"
       ]
      },
      {
       "output_type": "stream",
       "stream": "stderr",
       "text": [
        "WARNING:sarpy.io.Adata_classes:Could not load AData\n"
       ]
      },
      {
       "output_type": "stream",
       "stream": "stderr",
       "text": [
        "WARNING:sarpy.io.Adata_classes:Need precisely one parameter file *json, found: []\n"
       ]
      },
      {
       "output_type": "stream",
       "stream": "stderr",
       "text": [
        "WARNING:sarpy.io.Adata_classes:Could not load AData\n"
       ]
      },
      {
       "output_type": "stream",
       "stream": "stderr",
       "text": [
        "WARNING:sarpy.io.Adata_classes:Need precisely one parameter file *json, found: []\n"
       ]
      },
      {
       "output_type": "stream",
       "stream": "stderr",
       "text": [
        "WARNING:sarpy.io.Adata_classes:Could not load AData\n"
       ]
      },
      {
       "output_type": "stream",
       "stream": "stderr",
       "text": [
        "WARNING:sarpy.io.Adata_classes:Need precisely one parameter file *json, found: []\n"
       ]
      },
      {
       "output_type": "stream",
       "stream": "stderr",
       "text": [
        "WARNING:sarpy.io.Adata_classes:Could not load AData\n"
       ]
      },
      {
       "output_type": "stream",
       "stream": "stderr",
       "text": [
        "WARNING:sarpy.io.Adata_classes:Need precisely one parameter file *json, found: []\n"
       ]
      },
      {
       "output_type": "stream",
       "stream": "stderr",
       "text": [
        "WARNING:sarpy.io.Adata_classes:Could not load AData\n"
       ]
      },
      {
       "output_type": "stream",
       "stream": "stderr",
       "text": [
        "WARNING:sarpy.io.Adata_classes:Need precisely one parameter file *json, found: []\n"
       ]
      },
      {
       "output_type": "stream",
       "stream": "stderr",
       "text": [
        "WARNING:sarpy.io.Adata_classes:Could not load AData\n"
       ]
      },
      {
       "output_type": "stream",
       "stream": "stderr",
       "text": [
        "WARNING:sarpy.io.Adata_classes:Need precisely one parameter file *json, found: []\n"
       ]
      },
      {
       "output_type": "stream",
       "stream": "stderr",
       "text": [
        "WARNING:sarpy.io.Adata_classes:Could not load AData\n"
       ]
      },
      {
       "output_type": "stream",
       "stream": "stderr",
       "text": [
        "WARNING:sarpy.io.Adata_classes:Need precisely one parameter file *json, found: []\n"
       ]
      },
      {
       "output_type": "stream",
       "stream": "stderr",
       "text": [
        "WARNING:sarpy.io.Adata_classes:Could not load AData\n"
       ]
      },
      {
       "output_type": "stream",
       "stream": "stderr",
       "text": [
        "WARNING:sarpy.io.Adata_classes:Need precisely one parameter file *json, found: []\n"
       ]
      },
      {
       "output_type": "stream",
       "stream": "stderr",
       "text": [
        "WARNING:sarpy.io.Adata_classes:Could not load AData\n"
       ]
      },
      {
       "output_type": "stream",
       "stream": "stderr",
       "text": [
        "WARNING:sarpy.io.Adata_classes:Need precisely one parameter file *json, found: []\n"
       ]
      },
      {
       "output_type": "stream",
       "stream": "stderr",
       "text": [
        "WARNING:sarpy.io.Adata_classes:Could not load AData\n"
       ]
      },
      {
       "output_type": "stream",
       "stream": "stderr",
       "text": [
        "WARNING:sarpy.io.Adata_classes:Need precisely one parameter file *json, found: []\n"
       ]
      },
      {
       "output_type": "stream",
       "stream": "stderr",
       "text": [
        "WARNING:sarpy.io.Adata_classes:Could not load AData\n"
       ]
      },
      {
       "output_type": "stream",
       "stream": "stderr",
       "text": [
        "WARNING:sarpy.io.Adata_classes:Need precisely one parameter file *json, found: []\n"
       ]
      },
      {
       "output_type": "stream",
       "stream": "stderr",
       "text": [
        "WARNING:sarpy.io.Adata_classes:Could not load AData\n"
       ]
      },
      {
       "output_type": "stream",
       "stream": "stderr",
       "text": [
        "WARNING:sarpy.io.Adata_classes:Need precisely one parameter file *json, found: []\n"
       ]
      },
      {
       "output_type": "stream",
       "stream": "stderr",
       "text": [
        "WARNING:sarpy.io.Adata_classes:Could not load AData\n"
       ]
      },
      {
       "output_type": "stream",
       "stream": "stderr",
       "text": [
        "WARNING:sarpy.io.Adata_classes:Need precisely one parameter file *json, found: []\n"
       ]
      },
      {
       "output_type": "stream",
       "stream": "stderr",
       "text": [
        "WARNING:sarpy.io.Adata_classes:Could not load AData\n"
       ]
      },
      {
       "output_type": "stream",
       "stream": "stderr",
       "text": [
        "WARNING:sarpy.io.Adata_classes:Need precisely one parameter file *json, found: []\n"
       ]
      },
      {
       "output_type": "stream",
       "stream": "stderr",
       "text": [
        "WARNING:sarpy.io.Adata_classes:Could not load AData\n"
       ]
      },
      {
       "output_type": "stream",
       "stream": "stderr",
       "text": [
        "WARNING:sarpy.io.Adata_classes:Need precisely one parameter file *json, found: []\n"
       ]
      },
      {
       "output_type": "stream",
       "stream": "stderr",
       "text": [
        "WARNING:sarpy.io.Adata_classes:Could not load AData\n"
       ]
      },
      {
       "output_type": "stream",
       "stream": "stderr",
       "text": [
        "WARNING:sarpy.io.Adata_classes:Need precisely one parameter file *json, found: []\n"
       ]
      },
      {
       "output_type": "stream",
       "stream": "stderr",
       "text": [
        "WARNING:sarpy.io.Adata_classes:Could not load AData\n"
       ]
      },
      {
       "output_type": "stream",
       "stream": "stderr",
       "text": [
        "WARNING:sarpy.io.Adata_classes:Need precisely one parameter file *json, found: []\n"
       ]
      },
      {
       "output_type": "stream",
       "stream": "stderr",
       "text": [
        "WARNING:sarpy.io.Adata_classes:Could not load AData\n"
       ]
      },
      {
       "output_type": "stream",
       "stream": "stderr",
       "text": [
        "WARNING:sarpy.io.Adata_classes:Need precisely one parameter file *json, found: []\n"
       ]
      },
      {
       "output_type": "stream",
       "stream": "stderr",
       "text": [
        "WARNING:sarpy.io.Adata_classes:Could not load AData\n"
       ]
      },
      {
       "output_type": "stream",
       "stream": "stderr",
       "text": [
        "WARNING:sarpy.io.Adata_classes:Need precisely one parameter file *json, found: []\n"
       ]
      },
      {
       "output_type": "stream",
       "stream": "stderr",
       "text": [
        "WARNING:sarpy.io.Adata_classes:Could not load AData\n"
       ]
      },
      {
       "output_type": "stream",
       "stream": "stderr",
       "text": [
        "WARNING:sarpy.io.Adata_classes:Need precisely one parameter file *json, found: []\n"
       ]
      },
      {
       "output_type": "stream",
       "stream": "stderr",
       "text": [
        "WARNING:sarpy.io.Adata_classes:Could not load AData\n"
       ]
      },
      {
       "output_type": "stream",
       "stream": "stderr",
       "text": [
        "WARNING:sarpy.io.Adata_classes:Need precisely one parameter file *json, found: []\n"
       ]
      },
      {
       "output_type": "stream",
       "stream": "stderr",
       "text": [
        "WARNING:sarpy.io.Adata_classes:Could not load AData\n"
       ]
      },
      {
       "output_type": "stream",
       "stream": "stderr",
       "text": [
        "WARNING:sarpy.io.Adata_classes:Need precisely one parameter file *json, found: []\n"
       ]
      },
      {
       "output_type": "stream",
       "stream": "stderr",
       "text": [
        "WARNING:sarpy.io.Adata_classes:Could not load AData\n"
       ]
      },
      {
       "output_type": "stream",
       "stream": "stderr",
       "text": [
        "WARNING:sarpy.io.Adata_classes:Need precisely one parameter file *json, found: []\n"
       ]
      },
      {
       "output_type": "stream",
       "stream": "stderr",
       "text": [
        "WARNING:sarpy.io.Adata_classes:Could not load AData\n"
       ]
      },
      {
       "output_type": "stream",
       "stream": "stderr",
       "text": [
        "WARNING:sarpy.io.Adata_classes:Need precisely one parameter file *json, found: []\n"
       ]
      },
      {
       "output_type": "stream",
       "stream": "stderr",
       "text": [
        "WARNING:sarpy.io.Adata_classes:Could not load AData\n"
       ]
      },
      {
       "output_type": "stream",
       "stream": "stderr",
       "text": [
        "WARNING:sarpy.io.Adata_classes:Need precisely one parameter file *json, found: []\n"
       ]
      },
      {
       "output_type": "stream",
       "stream": "stderr",
       "text": [
        "WARNING:sarpy.io.Adata_classes:Could not load AData\n"
       ]
      },
      {
       "output_type": "stream",
       "stream": "stderr",
       "text": [
        "WARNING:sarpy.io.Adata_classes:Need precisely one parameter file *json, found: []\n"
       ]
      },
      {
       "output_type": "stream",
       "stream": "stderr",
       "text": [
        "WARNING:sarpy.io.Adata_classes:Could not load AData\n"
       ]
      },
      {
       "output_type": "stream",
       "stream": "stderr",
       "text": [
        "WARNING:sarpy.io.Adata_classes:Need precisely one parameter file *json, found: []\n"
       ]
      },
      {
       "output_type": "stream",
       "stream": "stderr",
       "text": [
        "WARNING:sarpy.io.Adata_classes:Could not load AData\n"
       ]
      },
      {
       "output_type": "stream",
       "stream": "stderr",
       "text": [
        "WARNING:sarpy.io.Adata_classes:Need precisely one parameter file *json, found: []\n"
       ]
      },
      {
       "output_type": "stream",
       "stream": "stderr",
       "text": [
        "WARNING:sarpy.io.Adata_classes:Could not load AData\n"
       ]
      },
      {
       "output_type": "stream",
       "stream": "stderr",
       "text": [
        "WARNING:sarpy.io.Adata_classes:Need precisely one parameter file *json, found: []\n"
       ]
      },
      {
       "output_type": "stream",
       "stream": "stderr",
       "text": [
        "WARNING:sarpy.io.Adata_classes:Could not load AData\n"
       ]
      },
      {
       "output_type": "stream",
       "stream": "stderr",
       "text": [
        "WARNING:sarpy.io.Adata_classes:Need precisely one parameter file *json, found: []\n"
       ]
      },
      {
       "output_type": "stream",
       "stream": "stderr",
       "text": [
        "WARNING:sarpy.io.Adata_classes:Could not load AData\n"
       ]
      },
      {
       "output_type": "stream",
       "stream": "stderr",
       "text": [
        "WARNING:sarpy.io.Adata_classes:Need precisely one parameter file *json, found: []\n"
       ]
      },
      {
       "output_type": "stream",
       "stream": "stderr",
       "text": [
        "WARNING:sarpy.io.Adata_classes:Could not load AData\n"
       ]
      },
      {
       "output_type": "stream",
       "stream": "stderr",
       "text": [
        "WARNING:sarpy.io.Adata_classes:Need precisely one parameter file *json, found: []\n"
       ]
      },
      {
       "output_type": "stream",
       "stream": "stderr",
       "text": [
        "WARNING:sarpy.io.Adata_classes:Could not load AData\n"
       ]
      },
      {
       "output_type": "stream",
       "stream": "stderr",
       "text": [
        "WARNING:sarpy.io.Adata_classes:Need precisely one parameter file *json, found: []\n"
       ]
      },
      {
       "output_type": "stream",
       "stream": "stderr",
       "text": [
        "WARNING:sarpy.io.Adata_classes:Could not load AData\n"
       ]
      },
      {
       "output_type": "stream",
       "stream": "stderr",
       "text": [
        "WARNING:sarpy.io.Adata_classes:Need precisely one parameter file *json, found: []\n"
       ]
      },
      {
       "output_type": "stream",
       "stream": "stderr",
       "text": [
        "WARNING:sarpy.io.Adata_classes:Could not load AData\n"
       ]
      },
      {
       "output_type": "stream",
       "stream": "stderr",
       "text": [
        "WARNING:sarpy.io.Adata_classes:Need precisely one parameter file *json, found: []\n"
       ]
      },
      {
       "output_type": "stream",
       "stream": "stderr",
       "text": [
        "WARNING:sarpy.io.Adata_classes:Could not load AData\n"
       ]
      },
      {
       "output_type": "stream",
       "stream": "stderr",
       "text": [
        "WARNING:sarpy.io.Adata_classes:Need precisely one parameter file *json, found: []\n"
       ]
      },
      {
       "output_type": "stream",
       "stream": "stderr",
       "text": [
        "WARNING:sarpy.io.Adata_classes:Could not load AData\n"
       ]
      },
      {
       "output_type": "stream",
       "stream": "stderr",
       "text": [
        "WARNING:sarpy.io.Adata_classes:Need precisely one parameter file *json, found: []\n"
       ]
      },
      {
       "output_type": "stream",
       "stream": "stderr",
       "text": [
        "WARNING:sarpy.io.Adata_classes:Could not load AData\n"
       ]
      },
      {
       "output_type": "stream",
       "stream": "stderr",
       "text": [
        "WARNING:sarpy.io.Adata_classes:Need precisely one parameter file *json, found: []\n"
       ]
      },
      {
       "output_type": "stream",
       "stream": "stderr",
       "text": [
        "WARNING:sarpy.io.Adata_classes:Could not load AData\n"
       ]
      },
      {
       "output_type": "stream",
       "stream": "stderr",
       "text": [
        "WARNING:sarpy.io.Adata_classes:Need precisely one parameter file *json, found: []\n"
       ]
      },
      {
       "output_type": "stream",
       "stream": "stderr",
       "text": [
        "WARNING:sarpy.io.Adata_classes:Could not load AData\n"
       ]
      },
      {
       "output_type": "stream",
       "stream": "stderr",
       "text": [
        "WARNING:sarpy.io.Adata_classes:Need precisely one parameter file *json, found: []\n"
       ]
      },
      {
       "output_type": "stream",
       "stream": "stderr",
       "text": [
        "WARNING:sarpy.io.Adata_classes:Could not load AData\n"
       ]
      },
      {
       "output_type": "stream",
       "stream": "stderr",
       "text": [
        "WARNING:sarpy.io.Adata_classes:Need precisely one parameter file *json, found: []\n"
       ]
      },
      {
       "output_type": "stream",
       "stream": "stderr",
       "text": [
        "WARNING:sarpy.io.Adata_classes:Could not load AData\n"
       ]
      },
      {
       "output_type": "stream",
       "stream": "stderr",
       "text": [
        "WARNING:sarpy.io.Adata_classes:Need precisely one parameter file *json, found: []\n"
       ]
      },
      {
       "output_type": "stream",
       "stream": "stderr",
       "text": [
        "WARNING:sarpy.io.Adata_classes:Could not load AData\n"
       ]
      },
      {
       "output_type": "stream",
       "stream": "stderr",
       "text": [
        "WARNING:sarpy.io.Adata_classes:Need precisely one parameter file *json, found: []\n"
       ]
      },
      {
       "output_type": "stream",
       "stream": "stderr",
       "text": [
        "WARNING:sarpy.io.Adata_classes:Could not load AData\n"
       ]
      },
      {
       "output_type": "stream",
       "stream": "stderr",
       "text": [
        "WARNING:sarpy.io.Adata_classes:Need precisely one parameter file *json, found: []\n"
       ]
      },
      {
       "output_type": "stream",
       "stream": "stderr",
       "text": [
        "WARNING:sarpy.io.Adata_classes:Could not load AData\n"
       ]
      },
      {
       "output_type": "stream",
       "stream": "stderr",
       "text": [
        "WARNING:sarpy.io.Adata_classes:Need precisely one parameter file *json, found: []\n"
       ]
      },
      {
       "output_type": "stream",
       "stream": "stderr",
       "text": [
        "WARNING:sarpy.io.Adata_classes:Could not load AData\n"
       ]
      },
      {
       "output_type": "stream",
       "stream": "stderr",
       "text": [
        "WARNING:sarpy.io.Adata_classes:Need precisely one parameter file *json, found: []\n"
       ]
      },
      {
       "output_type": "stream",
       "stream": "stderr",
       "text": [
        "WARNING:sarpy.io.Adata_classes:Could not load AData\n"
       ]
      },
      {
       "output_type": "stream",
       "stream": "stderr",
       "text": [
        "WARNING:sarpy.io.Adata_classes:Need precisely one parameter file *json, found: []\n"
       ]
      },
      {
       "output_type": "stream",
       "stream": "stderr",
       "text": [
        "WARNING:sarpy.io.Adata_classes:Could not load AData\n"
       ]
      },
      {
       "output_type": "stream",
       "stream": "stderr",
       "text": [
        "WARNING:sarpy.io.Adata_classes:Need precisely one parameter file *json, found: []\n"
       ]
      },
      {
       "output_type": "stream",
       "stream": "stderr",
       "text": [
        "WARNING:sarpy.io.Adata_classes:Could not load AData\n"
       ]
      },
      {
       "output_type": "stream",
       "stream": "stderr",
       "text": [
        "WARNING:sarpy.io.Adata_classes:Need precisely one parameter file *json, found: []\n"
       ]
      },
      {
       "output_type": "stream",
       "stream": "stderr",
       "text": [
        "WARNING:sarpy.io.Adata_classes:Could not load AData\n"
       ]
      },
      {
       "output_type": "stream",
       "stream": "stderr",
       "text": [
        "WARNING:sarpy.io.Adata_classes:Need precisely one parameter file *json, found: []\n"
       ]
      },
      {
       "output_type": "stream",
       "stream": "stderr",
       "text": [
        "WARNING:sarpy.io.Adata_classes:Could not load AData\n"
       ]
      },
      {
       "output_type": "stream",
       "stream": "stderr",
       "text": [
        "WARNING:sarpy.io.Adata_classes:Need precisely one parameter file *json, found: []\n"
       ]
      },
      {
       "output_type": "stream",
       "stream": "stderr",
       "text": [
        "WARNING:sarpy.io.Adata_classes:Could not load AData\n"
       ]
      },
      {
       "output_type": "stream",
       "stream": "stderr",
       "text": [
        "WARNING:sarpy.io.Adata_classes:Need precisely one parameter file *json, found: []\n"
       ]
      },
      {
       "output_type": "stream",
       "stream": "stderr",
       "text": [
        "WARNING:sarpy.io.Adata_classes:Could not load AData\n"
       ]
      },
      {
       "output_type": "stream",
       "stream": "stderr",
       "text": [
        "WARNING:sarpy.io.Adata_classes:Need precisely one parameter file *json, found: []\n"
       ]
      },
      {
       "output_type": "stream",
       "stream": "stderr",
       "text": [
        "WARNING:sarpy.io.Adata_classes:Could not load AData\n"
       ]
      },
      {
       "output_type": "stream",
       "stream": "stderr",
       "text": [
        "WARNING:sarpy.io.Adata_classes:Need precisely one parameter file *json, found: []\n"
       ]
      },
      {
       "output_type": "stream",
       "stream": "stderr",
       "text": [
        "WARNING:sarpy.io.Adata_classes:Could not load AData\n"
       ]
      },
      {
       "output_type": "stream",
       "stream": "stderr",
       "text": [
        "WARNING:sarpy.io.Adata_classes:Need precisely one parameter file *json, found: []\n"
       ]
      },
      {
       "output_type": "stream",
       "stream": "stderr",
       "text": [
        "WARNING:sarpy.io.Adata_classes:Could not load AData\n"
       ]
      },
      {
       "output_type": "stream",
       "stream": "stderr",
       "text": [
        "WARNING:sarpy.io.Adata_classes:Need precisely one parameter file *json, found: []\n"
       ]
      },
      {
       "output_type": "stream",
       "stream": "stderr",
       "text": [
        "WARNING:sarpy.io.Adata_classes:Could not load AData\n"
       ]
      },
      {
       "output_type": "stream",
       "stream": "stderr",
       "text": [
        "WARNING:sarpy.io.Adata_classes:Need precisely one parameter file *json, found: []\n"
       ]
      },
      {
       "output_type": "stream",
       "stream": "stderr",
       "text": [
        "WARNING:sarpy.io.Adata_classes:Could not load AData\n"
       ]
      },
      {
       "output_type": "stream",
       "stream": "stderr",
       "text": [
        "WARNING:sarpy.io.Adata_classes:Need precisely one parameter file *json, found: []\n"
       ]
      },
      {
       "output_type": "stream",
       "stream": "stderr",
       "text": [
        "WARNING:sarpy.io.Adata_classes:Could not load AData\n"
       ]
      },
      {
       "output_type": "stream",
       "stream": "stderr",
       "text": [
        "WARNING:sarpy.io.Adata_classes:Need precisely one parameter file *json, found: []\n"
       ]
      },
      {
       "output_type": "stream",
       "stream": "stderr",
       "text": [
        "WARNING:sarpy.io.Adata_classes:Could not load AData\n"
       ]
      },
      {
       "output_type": "stream",
       "stream": "stderr",
       "text": [
        "WARNING:sarpy.io.Adata_classes:Need precisely one parameter file *json, found: []\n"
       ]
      },
      {
       "output_type": "stream",
       "stream": "stderr",
       "text": [
        "WARNING:sarpy.io.Adata_classes:Could not load AData\n"
       ]
      },
      {
       "output_type": "stream",
       "stream": "stderr",
       "text": [
        "WARNING:sarpy.io.Adata_classes:Need precisely one parameter file *json, found: []\n"
       ]
      },
      {
       "output_type": "stream",
       "stream": "stderr",
       "text": [
        "WARNING:sarpy.io.Adata_classes:Could not load AData\n"
       ]
      },
      {
       "output_type": "stream",
       "stream": "stderr",
       "text": [
        "WARNING:sarpy.io.Adata_classes:Need precisely one parameter file *json, found: []\n"
       ]
      },
      {
       "output_type": "stream",
       "stream": "stderr",
       "text": [
        "WARNING:sarpy.io.Adata_classes:Could not load AData\n"
       ]
      },
      {
       "output_type": "stream",
       "stream": "stderr",
       "text": [
        "WARNING:sarpy.io.Adata_classes:Need precisely one parameter file *json, found: []\n"
       ]
      },
      {
       "output_type": "stream",
       "stream": "stderr",
       "text": [
        "WARNING:sarpy.io.Adata_classes:Could not load AData\n"
       ]
      },
      {
       "output_type": "stream",
       "stream": "stderr",
       "text": [
        "WARNING:sarpy.io.Adata_classes:Need precisely one parameter file *json, found: []\n"
       ]
      },
      {
       "output_type": "stream",
       "stream": "stderr",
       "text": [
        "WARNING:sarpy.io.Adata_classes:Could not load AData\n"
       ]
      },
      {
       "output_type": "stream",
       "stream": "stderr",
       "text": [
        "WARNING:sarpy.io.Adata_classes:Need precisely one parameter file *json, found: []\n"
       ]
      },
      {
       "output_type": "stream",
       "stream": "stderr",
       "text": [
        "WARNING:sarpy.io.Adata_classes:Could not load AData\n"
       ]
      },
      {
       "output_type": "stream",
       "stream": "stderr",
       "text": [
        "WARNING:sarpy.io.Adata_classes:Need precisely one parameter file *json, found: []\n"
       ]
      },
      {
       "output_type": "stream",
       "stream": "stderr",
       "text": [
        "WARNING:sarpy.io.Adata_classes:Could not load AData\n"
       ]
      },
      {
       "output_type": "stream",
       "stream": "stderr",
       "text": [
        "WARNING:sarpy.io.Adata_classes:Need precisely one parameter file *json, found: []\n"
       ]
      },
      {
       "output_type": "stream",
       "stream": "stderr",
       "text": [
        "WARNING:sarpy.io.Adata_classes:Could not load AData\n"
       ]
      },
      {
       "output_type": "stream",
       "stream": "stderr",
       "text": [
        "WARNING:sarpy.io.Adata_classes:Need precisely one parameter file *json, found: []\n"
       ]
      },
      {
       "output_type": "stream",
       "stream": "stderr",
       "text": [
        "WARNING:sarpy.io.Adata_classes:Could not load AData\n"
       ]
      },
      {
       "output_type": "stream",
       "stream": "stderr",
       "text": [
        "WARNING:sarpy.io.Adata_classes:Need precisely one parameter file *json, found: []\n"
       ]
      },
      {
       "output_type": "stream",
       "stream": "stderr",
       "text": [
        "WARNING:sarpy.io.Adata_classes:Could not load AData\n"
       ]
      },
      {
       "output_type": "stream",
       "stream": "stderr",
       "text": [
        "WARNING:sarpy.io.Adata_classes:Need precisely one parameter file *json, found: []\n"
       ]
      },
      {
       "output_type": "stream",
       "stream": "stderr",
       "text": [
        "WARNING:sarpy.io.Adata_classes:Could not load AData\n"
       ]
      },
      {
       "output_type": "stream",
       "stream": "stderr",
       "text": [
        "WARNING:sarpy.io.Adata_classes:Need precisely one parameter file *json, found: []\n"
       ]
      },
      {
       "output_type": "stream",
       "stream": "stderr",
       "text": [
        "WARNING:sarpy.io.Adata_classes:Could not load AData\n"
       ]
      },
      {
       "output_type": "stream",
       "stream": "stderr",
       "text": [
        "WARNING:sarpy.io.Adata_classes:Need precisely one parameter file *json, found: []\n"
       ]
      },
      {
       "output_type": "stream",
       "stream": "stderr",
       "text": [
        "WARNING:sarpy.io.Adata_classes:Could not load AData\n"
       ]
      },
      {
       "output_type": "stream",
       "stream": "stderr",
       "text": [
        "WARNING:sarpy.io.Adata_classes:Need precisely one parameter file *json, found: []\n"
       ]
      },
      {
       "output_type": "stream",
       "stream": "stderr",
       "text": [
        "WARNING:sarpy.io.Adata_classes:Could not load AData\n"
       ]
      },
      {
       "output_type": "stream",
       "stream": "stderr",
       "text": [
        "WARNING:sarpy.io.Adata_classes:Need precisely one parameter file *json, found: []\n"
       ]
      },
      {
       "output_type": "stream",
       "stream": "stderr",
       "text": [
        "WARNING:sarpy.io.Adata_classes:Could not load AData\n"
       ]
      },
      {
       "output_type": "stream",
       "stream": "stderr",
       "text": [
        "WARNING:sarpy.io.Adata_classes:Need precisely one parameter file *json, found: []\n"
       ]
      },
      {
       "output_type": "stream",
       "stream": "stderr",
       "text": [
        "WARNING:sarpy.io.Adata_classes:Could not load AData\n"
       ]
      },
      {
       "output_type": "stream",
       "stream": "stderr",
       "text": [
        "WARNING:sarpy.io.Adata_classes:Need precisely one parameter file *json, found: []\n"
       ]
      },
      {
       "output_type": "stream",
       "stream": "stderr",
       "text": [
        "WARNING:sarpy.io.Adata_classes:Could not load AData\n"
       ]
      },
      {
       "output_type": "stream",
       "stream": "stderr",
       "text": [
        "WARNING:sarpy.io.Adata_classes:Need precisely one parameter file *json, found: []\n"
       ]
      },
      {
       "output_type": "stream",
       "stream": "stderr",
       "text": [
        "WARNING:sarpy.io.Adata_classes:Could not load AData\n"
       ]
      },
      {
       "output_type": "stream",
       "stream": "stderr",
       "text": [
        "WARNING:sarpy.io.Adata_classes:Need precisely one parameter file *json, found: []\n"
       ]
      },
      {
       "output_type": "stream",
       "stream": "stderr",
       "text": [
        "WARNING:sarpy.io.Adata_classes:Could not load AData\n"
       ]
      },
      {
       "output_type": "stream",
       "stream": "stderr",
       "text": [
        "WARNING:sarpy.io.Adata_classes:Need precisely one parameter file *json, found: []\n"
       ]
      },
      {
       "output_type": "stream",
       "stream": "stderr",
       "text": [
        "WARNING:sarpy.io.Adata_classes:Could not load AData\n"
       ]
      },
      {
       "output_type": "stream",
       "stream": "stderr",
       "text": [
        "WARNING:sarpy.io.Adata_classes:Need precisely one parameter file *json, found: []\n"
       ]
      },
      {
       "output_type": "stream",
       "stream": "stderr",
       "text": [
        "WARNING:sarpy.io.Adata_classes:Could not load AData\n"
       ]
      },
      {
       "output_type": "stream",
       "stream": "stderr",
       "text": [
        "WARNING:sarpy.io.Adata_classes:Need precisely one parameter file *json, found: []\n"
       ]
      },
      {
       "output_type": "stream",
       "stream": "stderr",
       "text": [
        "WARNING:sarpy.io.Adata_classes:Could not load AData\n"
       ]
      },
      {
       "output_type": "stream",
       "stream": "stderr",
       "text": [
        "WARNING:sarpy.io.Adata_classes:Need precisely one parameter file *json, found: []\n"
       ]
      },
      {
       "output_type": "stream",
       "stream": "stderr",
       "text": [
        "WARNING:sarpy.io.Adata_classes:Could not load AData\n"
       ]
      },
      {
       "output_type": "stream",
       "stream": "stderr",
       "text": [
        "WARNING:sarpy.io.Adata_classes:Need precisely one parameter file *json, found: []\n"
       ]
      },
      {
       "output_type": "stream",
       "stream": "stderr",
       "text": [
        "WARNING:sarpy.io.Adata_classes:Could not load AData\n"
       ]
      },
      {
       "output_type": "stream",
       "stream": "stderr",
       "text": [
        "WARNING:sarpy.io.Adata_classes:Need precisely one parameter file *json, found: []\n"
       ]
      },
      {
       "output_type": "stream",
       "stream": "stderr",
       "text": [
        "WARNING:sarpy.io.Adata_classes:Could not load AData\n"
       ]
      },
      {
       "output_type": "stream",
       "stream": "stderr",
       "text": [
        "WARNING:sarpy.io.Adata_classes:Need precisely one parameter file *json, found: []\n"
       ]
      },
      {
       "output_type": "stream",
       "stream": "stderr",
       "text": [
        "WARNING:sarpy.io.Adata_classes:Could not load AData\n"
       ]
      },
      {
       "output_type": "stream",
       "stream": "stderr",
       "text": [
        "WARNING:sarpy.io.Adata_classes:Need precisely one parameter file *json, found: []\n"
       ]
      },
      {
       "output_type": "stream",
       "stream": "stderr",
       "text": [
        "WARNING:sarpy.io.Adata_classes:Could not load AData\n"
       ]
      },
      {
       "output_type": "stream",
       "stream": "stderr",
       "text": [
        "WARNING:sarpy.io.Adata_classes:Need precisely one parameter file *json, found: []\n"
       ]
      },
      {
       "output_type": "stream",
       "stream": "stderr",
       "text": [
        "WARNING:sarpy.io.Adata_classes:Could not load AData\n"
       ]
      },
      {
       "output_type": "stream",
       "stream": "stderr",
       "text": [
        "WARNING:sarpy.io.Adata_classes:Need precisely one parameter file *json, found: []\n"
       ]
      },
      {
       "output_type": "stream",
       "stream": "stderr",
       "text": [
        "WARNING:sarpy.io.Adata_classes:Could not load AData\n"
       ]
      },
      {
       "output_type": "stream",
       "stream": "stderr",
       "text": [
        "WARNING:sarpy.io.Adata_classes:Need precisely one parameter file *json, found: []\n"
       ]
      },
      {
       "output_type": "stream",
       "stream": "stderr",
       "text": [
        "WARNING:sarpy.io.Adata_classes:Could not load AData\n"
       ]
      },
      {
       "output_type": "stream",
       "stream": "stderr",
       "text": [
        "WARNING:sarpy.io.Adata_classes:Need precisely one parameter file *json, found: []\n"
       ]
      },
      {
       "output_type": "stream",
       "stream": "stderr",
       "text": [
        "WARNING:sarpy.io.Adata_classes:Could not load AData\n"
       ]
      },
      {
       "output_type": "stream",
       "stream": "stderr",
       "text": [
        "WARNING:sarpy.io.Adata_classes:Need precisely one parameter file *json, found: []\n"
       ]
      },
      {
       "output_type": "stream",
       "stream": "stderr",
       "text": [
        "WARNING:sarpy.io.Adata_classes:Could not load AData\n"
       ]
      },
      {
       "output_type": "stream",
       "stream": "stderr",
       "text": [
        "WARNING:sarpy.io.Adata_classes:Need precisely one parameter file *json, found: []\n"
       ]
      },
      {
       "output_type": "stream",
       "stream": "stderr",
       "text": [
        "WARNING:sarpy.io.Adata_classes:Could not load AData\n"
       ]
      },
      {
       "output_type": "stream",
       "stream": "stderr",
       "text": [
        "WARNING:sarpy.io.Adata_classes:Need precisely one parameter file *json, found: []\n"
       ]
      },
      {
       "output_type": "stream",
       "stream": "stderr",
       "text": [
        "WARNING:sarpy.io.Adata_classes:Could not load AData\n"
       ]
      },
      {
       "output_type": "stream",
       "stream": "stderr",
       "text": [
        "WARNING:sarpy.io.Adata_classes:Need precisely one parameter file *json, found: []\n"
       ]
      },
      {
       "output_type": "stream",
       "stream": "stderr",
       "text": [
        "WARNING:sarpy.io.Adata_classes:Could not load AData\n"
       ]
      },
      {
       "output_type": "stream",
       "stream": "stderr",
       "text": [
        "WARNING:sarpy.io.Adata_classes:Need precisely one parameter file *json, found: []\n"
       ]
      },
      {
       "output_type": "stream",
       "stream": "stderr",
       "text": [
        "WARNING:sarpy.io.Adata_classes:Could not load AData\n"
       ]
      },
      {
       "output_type": "stream",
       "stream": "stderr",
       "text": [
        "WARNING:sarpy.io.Adata_classes:Need precisely one parameter file *json, found: []\n"
       ]
      },
      {
       "output_type": "stream",
       "stream": "stderr",
       "text": [
        "WARNING:sarpy.io.Adata_classes:Could not load AData\n"
       ]
      },
      {
       "output_type": "stream",
       "stream": "stderr",
       "text": [
        "WARNING:sarpy.io.Adata_classes:Need precisely one parameter file *json, found: []\n"
       ]
      },
      {
       "output_type": "stream",
       "stream": "stderr",
       "text": [
        "WARNING:sarpy.io.Adata_classes:Could not load AData\n"
       ]
      },
      {
       "output_type": "stream",
       "stream": "stderr",
       "text": [
        "WARNING:sarpy.io.Adata_classes:Need precisely one parameter file *json, found: []\n"
       ]
      },
      {
       "output_type": "stream",
       "stream": "stderr",
       "text": [
        "WARNING:sarpy.io.Adata_classes:Could not load AData\n"
       ]
      },
      {
       "output_type": "stream",
       "stream": "stderr",
       "text": [
        "WARNING:sarpy.io.Adata_classes:Need precisely one parameter file *json, found: []\n"
       ]
      },
      {
       "output_type": "stream",
       "stream": "stderr",
       "text": [
        "WARNING:sarpy.io.Adata_classes:Could not load AData\n"
       ]
      },
      {
       "output_type": "stream",
       "stream": "stderr",
       "text": [
        "WARNING:sarpy.io.Adata_classes:Need precisely one parameter file *json, found: []\n"
       ]
      },
      {
       "output_type": "stream",
       "stream": "stderr",
       "text": [
        "WARNING:sarpy.io.Adata_classes:Could not load AData\n"
       ]
      },
      {
       "output_type": "stream",
       "stream": "stderr",
       "text": [
        "WARNING:sarpy.io.Adata_classes:Need precisely one parameter file *json, found: []\n"
       ]
      },
      {
       "output_type": "stream",
       "stream": "stderr",
       "text": [
        "WARNING:sarpy.io.Adata_classes:Could not load AData\n"
       ]
      },
      {
       "output_type": "stream",
       "stream": "stderr",
       "text": [
        "WARNING:sarpy.io.Adata_classes:Need precisely one parameter file *json, found: []\n"
       ]
      },
      {
       "output_type": "stream",
       "stream": "stderr",
       "text": [
        "WARNING:sarpy.io.Adata_classes:Could not load AData\n"
       ]
      },
      {
       "output_type": "stream",
       "stream": "stderr",
       "text": [
        "WARNING:sarpy.io.Adata_classes:Need precisely one parameter file *json, found: []\n"
       ]
      },
      {
       "output_type": "stream",
       "stream": "stderr",
       "text": [
        "WARNING:sarpy.io.Adata_classes:Could not load AData\n"
       ]
      },
      {
       "output_type": "stream",
       "stream": "stderr",
       "text": [
        "WARNING:sarpy.io.Adata_classes:Need precisely one parameter file *json, found: []\n"
       ]
      },
      {
       "output_type": "stream",
       "stream": "stderr",
       "text": [
        "WARNING:sarpy.io.Adata_classes:Could not load AData\n"
       ]
      },
      {
       "output_type": "stream",
       "stream": "stderr",
       "text": [
        "WARNING:sarpy.io.Adata_classes:Need precisely one parameter file *json, found: []\n"
       ]
      },
      {
       "output_type": "stream",
       "stream": "stderr",
       "text": [
        "WARNING:sarpy.io.Adata_classes:Could not load AData\n"
       ]
      },
      {
       "output_type": "stream",
       "stream": "stderr",
       "text": [
        "WARNING:sarpy.io.Adata_classes:Need precisely one parameter file *json, found: []\n"
       ]
      },
      {
       "output_type": "stream",
       "stream": "stderr",
       "text": [
        "WARNING:sarpy.io.Adata_classes:Could not load AData\n"
       ]
      },
      {
       "output_type": "stream",
       "stream": "stderr",
       "text": [
        "WARNING:sarpy.io.Adata_classes:Need precisely one parameter file *json, found: []\n"
       ]
      },
      {
       "output_type": "stream",
       "stream": "stderr",
       "text": [
        "WARNING:sarpy.io.Adata_classes:Could not load AData\n"
       ]
      },
      {
       "output_type": "stream",
       "stream": "stderr",
       "text": [
        "WARNING:sarpy.io.Adata_classes:Need precisely one parameter file *json, found: []\n"
       ]
      },
      {
       "output_type": "stream",
       "stream": "stderr",
       "text": [
        "WARNING:sarpy.io.Adata_classes:Could not load AData\n"
       ]
      },
      {
       "output_type": "stream",
       "stream": "stderr",
       "text": [
        "WARNING:sarpy.io.Adata_classes:Need precisely one parameter file *json, found: []\n"
       ]
      },
      {
       "output_type": "stream",
       "stream": "stderr",
       "text": [
        "WARNING:sarpy.io.Adata_classes:Could not load AData\n"
       ]
      },
      {
       "output_type": "stream",
       "stream": "stderr",
       "text": [
        "WARNING:sarpy.io.Adata_classes:Need precisely one parameter file *json, found: []\n"
       ]
      },
      {
       "output_type": "stream",
       "stream": "stderr",
       "text": [
        "WARNING:sarpy.io.Adata_classes:Could not load AData\n"
       ]
      },
      {
       "output_type": "stream",
       "stream": "stderr",
       "text": [
        "WARNING:sarpy.io.Adata_classes:Need precisely one parameter file *json, found: []\n"
       ]
      },
      {
       "output_type": "stream",
       "stream": "stderr",
       "text": [
        "WARNING:sarpy.io.Adata_classes:Could not load AData\n"
       ]
      },
      {
       "output_type": "stream",
       "stream": "stderr",
       "text": [
        "WARNING:sarpy.io.Adata_classes:Need precisely one parameter file *json, found: []\n"
       ]
      },
      {
       "output_type": "stream",
       "stream": "stderr",
       "text": [
        "WARNING:sarpy.io.Adata_classes:Could not load AData\n"
       ]
      },
      {
       "output_type": "stream",
       "stream": "stderr",
       "text": [
        "WARNING:sarpy.io.Adata_classes:Need precisely one parameter file *json, found: []\n"
       ]
      },
      {
       "output_type": "stream",
       "stream": "stderr",
       "text": [
        "WARNING:sarpy.io.Adata_classes:Could not load AData\n"
       ]
      },
      {
       "output_type": "stream",
       "stream": "stderr",
       "text": [
        "WARNING:sarpy.io.Adata_classes:Need precisely one parameter file *json, found: []\n"
       ]
      },
      {
       "output_type": "stream",
       "stream": "stderr",
       "text": [
        "WARNING:sarpy.io.Adata_classes:Could not load AData\n"
       ]
      },
      {
       "output_type": "stream",
       "stream": "stderr",
       "text": [
        "WARNING:sarpy.io.Adata_classes:Need precisely one parameter file *json, found: []\n"
       ]
      },
      {
       "output_type": "stream",
       "stream": "stderr",
       "text": [
        "WARNING:sarpy.io.Adata_classes:Could not load AData\n"
       ]
      },
      {
       "output_type": "stream",
       "stream": "stderr",
       "text": [
        "WARNING:sarpy.io.Adata_classes:Need precisely one parameter file *json, found: []\n"
       ]
      },
      {
       "output_type": "stream",
       "stream": "stderr",
       "text": [
        "WARNING:sarpy.io.Adata_classes:Could not load AData\n"
       ]
      },
      {
       "output_type": "stream",
       "stream": "stderr",
       "text": [
        "WARNING:sarpy.io.Adata_classes:Need precisely one parameter file *json, found: []\n"
       ]
      },
      {
       "output_type": "stream",
       "stream": "stderr",
       "text": [
        "WARNING:sarpy.io.Adata_classes:Could not load AData\n"
       ]
      },
      {
       "output_type": "stream",
       "stream": "stderr",
       "text": [
        "WARNING:sarpy.io.Adata_classes:Need precisely one parameter file *json, found: []\n"
       ]
      },
      {
       "output_type": "stream",
       "stream": "stderr",
       "text": [
        "WARNING:sarpy.io.Adata_classes:Could not load AData\n"
       ]
      },
      {
       "output_type": "stream",
       "stream": "stderr",
       "text": [
        "WARNING:sarpy.io.Adata_classes:Need precisely one parameter file *json, found: []\n"
       ]
      },
      {
       "output_type": "stream",
       "stream": "stderr",
       "text": [
        "WARNING:sarpy.io.Adata_classes:Could not load AData\n"
       ]
      },
      {
       "output_type": "stream",
       "stream": "stderr",
       "text": [
        "WARNING:sarpy.io.Adata_classes:Need precisely one parameter file *json, found: []\n"
       ]
      },
      {
       "output_type": "stream",
       "stream": "stderr",
       "text": [
        "WARNING:sarpy.io.Adata_classes:Could not load AData\n"
       ]
      },
      {
       "output_type": "stream",
       "stream": "stderr",
       "text": [
        "WARNING:sarpy.io.Adata_classes:Need precisely one parameter file *json, found: []\n"
       ]
      },
      {
       "output_type": "stream",
       "stream": "stderr",
       "text": [
        "WARNING:sarpy.io.Adata_classes:Could not load AData\n"
       ]
      },
      {
       "output_type": "stream",
       "stream": "stderr",
       "text": [
        "WARNING:sarpy.io.Adata_classes:Need precisely one parameter file *json, found: []\n"
       ]
      },
      {
       "output_type": "stream",
       "stream": "stderr",
       "text": [
        "WARNING:sarpy.io.Adata_classes:Could not load AData\n"
       ]
      },
      {
       "output_type": "stream",
       "stream": "stderr",
       "text": [
        "WARNING:sarpy.io.Adata_classes:Need precisely one parameter file *json, found: []\n"
       ]
      },
      {
       "output_type": "stream",
       "stream": "stderr",
       "text": [
        "WARNING:sarpy.io.Adata_classes:Could not load AData\n"
       ]
      },
      {
       "output_type": "stream",
       "stream": "stderr",
       "text": [
        "WARNING:sarpy.io.Adata_classes:Need precisely one parameter file *json, found: []\n"
       ]
      },
      {
       "output_type": "stream",
       "stream": "stderr",
       "text": [
        "WARNING:sarpy.io.Adata_classes:Could not load AData\n"
       ]
      },
      {
       "output_type": "stream",
       "stream": "stderr",
       "text": [
        "WARNING:sarpy.io.Adata_classes:Need precisely one parameter file *json, found: []\n"
       ]
      },
      {
       "output_type": "stream",
       "stream": "stderr",
       "text": [
        "WARNING:sarpy.io.Adata_classes:Could not load AData\n"
       ]
      },
      {
       "output_type": "stream",
       "stream": "stderr",
       "text": [
        "WARNING:sarpy.io.Adata_classes:Need precisely one parameter file *json, found: []\n"
       ]
      },
      {
       "output_type": "stream",
       "stream": "stderr",
       "text": [
        "WARNING:sarpy.io.Adata_classes:Could not load AData\n"
       ]
      },
      {
       "output_type": "stream",
       "stream": "stderr",
       "text": [
        "WARNING:sarpy.io.Adata_classes:Need precisely one parameter file *json, found: []\n"
       ]
      },
      {
       "output_type": "stream",
       "stream": "stderr",
       "text": [
        "WARNING:sarpy.io.Adata_classes:Could not load AData\n"
       ]
      },
      {
       "output_type": "stream",
       "stream": "stderr",
       "text": [
        "WARNING:sarpy.io.Adata_classes:Need precisely one parameter file *json, found: []\n"
       ]
      },
      {
       "output_type": "stream",
       "stream": "stderr",
       "text": [
        "WARNING:sarpy.io.Adata_classes:Could not load AData\n"
       ]
      },
      {
       "output_type": "stream",
       "stream": "stderr",
       "text": [
        "WARNING:sarpy.io.Adata_classes:Need precisely one parameter file *json, found: []\n"
       ]
      },
      {
       "output_type": "stream",
       "stream": "stderr",
       "text": [
        "WARNING:sarpy.io.Adata_classes:Could not load AData\n"
       ]
      },
      {
       "output_type": "stream",
       "stream": "stderr",
       "text": [
        "WARNING:sarpy.io.Adata_classes:Need precisely one parameter file *json, found: []\n"
       ]
      },
      {
       "output_type": "stream",
       "stream": "stderr",
       "text": [
        "WARNING:sarpy.io.Adata_classes:Could not load AData\n"
       ]
      },
      {
       "output_type": "stream",
       "stream": "stderr",
       "text": [
        "WARNING:sarpy.io.Adata_classes:Need precisely one parameter file *json, found: []\n"
       ]
      },
      {
       "output_type": "stream",
       "stream": "stderr",
       "text": [
        "WARNING:sarpy.io.Adata_classes:Could not load AData\n"
       ]
      },
      {
       "output_type": "stream",
       "stream": "stderr",
       "text": [
        "WARNING:sarpy.io.Adata_classes:Need precisely one parameter file *json, found: []\n"
       ]
      },
      {
       "output_type": "stream",
       "stream": "stderr",
       "text": [
        "WARNING:sarpy.io.Adata_classes:Could not load AData\n"
       ]
      },
      {
       "output_type": "stream",
       "stream": "stderr",
       "text": [
        "WARNING:sarpy.io.Adata_classes:Need precisely one parameter file *json, found: []\n"
       ]
      },
      {
       "output_type": "stream",
       "stream": "stderr",
       "text": [
        "WARNING:sarpy.io.Adata_classes:Could not load AData\n"
       ]
      },
      {
       "output_type": "stream",
       "stream": "stderr",
       "text": [
        "WARNING:sarpy.io.Adata_classes:Need precisely one parameter file *json, found: []\n"
       ]
      },
      {
       "output_type": "stream",
       "stream": "stderr",
       "text": [
        "WARNING:sarpy.io.Adata_classes:Could not load AData\n"
       ]
      },
      {
       "output_type": "stream",
       "stream": "stderr",
       "text": [
        "WARNING:sarpy.io.Adata_classes:Need precisely one parameter file *json, found: []\n"
       ]
      },
      {
       "output_type": "stream",
       "stream": "stderr",
       "text": [
        "WARNING:sarpy.io.Adata_classes:Could not load AData\n"
       ]
      },
      {
       "output_type": "stream",
       "stream": "stderr",
       "text": [
        "WARNING:sarpy.io.Adata_classes:Need precisely one parameter file *json, found: []\n"
       ]
      },
      {
       "output_type": "stream",
       "stream": "stderr",
       "text": [
        "WARNING:sarpy.io.Adata_classes:Could not load AData\n"
       ]
      },
      {
       "output_type": "stream",
       "stream": "stderr",
       "text": [
        "WARNING:sarpy.io.Adata_classes:Need precisely one parameter file *json, found: []\n"
       ]
      },
      {
       "output_type": "stream",
       "stream": "stderr",
       "text": [
        "WARNING:sarpy.io.Adata_classes:Could not load AData\n"
       ]
      },
      {
       "output_type": "stream",
       "stream": "stderr",
       "text": [
        "WARNING:sarpy.io.Adata_classes:Need precisely one parameter file *json, found: []\n"
       ]
      },
      {
       "output_type": "stream",
       "stream": "stderr",
       "text": [
        "WARNING:sarpy.io.Adata_classes:Could not load AData\n"
       ]
      },
      {
       "output_type": "stream",
       "stream": "stderr",
       "text": [
        "WARNING:sarpy.io.Adata_classes:Need precisely one parameter file *json, found: []\n"
       ]
      },
      {
       "output_type": "stream",
       "stream": "stderr",
       "text": [
        "WARNING:sarpy.io.Adata_classes:Could not load AData\n"
       ]
      },
      {
       "output_type": "stream",
       "stream": "stderr",
       "text": [
        "WARNING:sarpy.io.Adata_classes:Need precisely one parameter file *json, found: []\n"
       ]
      },
      {
       "output_type": "stream",
       "stream": "stderr",
       "text": [
        "WARNING:sarpy.io.Adata_classes:Could not load AData\n"
       ]
      },
      {
       "output_type": "stream",
       "stream": "stderr",
       "text": [
        "WARNING:sarpy.io.Adata_classes:Need precisely one parameter file *json, found: []\n"
       ]
      },
      {
       "output_type": "stream",
       "stream": "stderr",
       "text": [
        "WARNING:sarpy.io.Adata_classes:Could not load AData\n"
       ]
      },
      {
       "output_type": "stream",
       "stream": "stderr",
       "text": [
        "WARNING:sarpy.io.Adata_classes:Need precisely one parameter file *json, found: []\n"
       ]
      },
      {
       "output_type": "stream",
       "stream": "stderr",
       "text": [
        "WARNING:sarpy.io.Adata_classes:Could not load AData\n"
       ]
      },
      {
       "output_type": "stream",
       "stream": "stderr",
       "text": [
        "WARNING:sarpy.io.Adata_classes:Need precisely one parameter file *json, found: []\n"
       ]
      },
      {
       "output_type": "stream",
       "stream": "stderr",
       "text": [
        "WARNING:sarpy.io.Adata_classes:Could not load AData\n"
       ]
      },
      {
       "output_type": "stream",
       "stream": "stderr",
       "text": [
        "WARNING:sarpy.io.Adata_classes:Need precisely one parameter file *json, found: []\n"
       ]
      },
      {
       "output_type": "stream",
       "stream": "stderr",
       "text": [
        "WARNING:sarpy.io.Adata_classes:Could not load AData\n"
       ]
      },
      {
       "output_type": "stream",
       "stream": "stderr",
       "text": [
        "WARNING:sarpy.io.Adata_classes:Need precisely one parameter file *json, found: []\n"
       ]
      },
      {
       "output_type": "stream",
       "stream": "stderr",
       "text": [
        "WARNING:sarpy.io.Adata_classes:Could not load AData\n"
       ]
      },
      {
       "output_type": "stream",
       "stream": "stderr",
       "text": [
        "WARNING:sarpy.io.Adata_classes:Need precisely one parameter file *json, found: []\n"
       ]
      },
      {
       "output_type": "stream",
       "stream": "stderr",
       "text": [
        "WARNING:sarpy.io.Adata_classes:Could not load AData\n"
       ]
      },
      {
       "output_type": "stream",
       "stream": "stderr",
       "text": [
        "WARNING:sarpy.io.Adata_classes:Need precisely one parameter file *json, found: []\n"
       ]
      },
      {
       "output_type": "stream",
       "stream": "stderr",
       "text": [
        "WARNING:sarpy.io.Adata_classes:Could not load AData\n"
       ]
      },
      {
       "output_type": "stream",
       "stream": "stderr",
       "text": [
        "WARNING:sarpy.io.Adata_classes:Need precisely one parameter file *json, found: []\n"
       ]
      },
      {
       "output_type": "stream",
       "stream": "stderr",
       "text": [
        "WARNING:sarpy.io.Adata_classes:Could not load AData\n"
       ]
      },
      {
       "output_type": "stream",
       "stream": "stderr",
       "text": [
        "WARNING:sarpy.io.Adata_classes:Need precisely one parameter file *json, found: []\n"
       ]
      },
      {
       "output_type": "stream",
       "stream": "stderr",
       "text": [
        "WARNING:sarpy.io.Adata_classes:Could not load AData\n"
       ]
      },
      {
       "output_type": "stream",
       "stream": "stderr",
       "text": [
        "WARNING:sarpy.io.Adata_classes:Need precisely one parameter file *json, found: []\n"
       ]
      },
      {
       "output_type": "stream",
       "stream": "stderr",
       "text": [
        "WARNING:sarpy.io.Adata_classes:Could not load AData\n"
       ]
      },
      {
       "output_type": "stream",
       "stream": "stderr",
       "text": [
        "WARNING:sarpy.io.Adata_classes:Need precisely one parameter file *json, found: []\n"
       ]
      },
      {
       "output_type": "stream",
       "stream": "stderr",
       "text": [
        "WARNING:sarpy.io.Adata_classes:Could not load AData\n"
       ]
      },
      {
       "output_type": "stream",
       "stream": "stderr",
       "text": [
        "WARNING:sarpy.io.Adata_classes:Need precisely one parameter file *json, found: []\n"
       ]
      },
      {
       "output_type": "stream",
       "stream": "stderr",
       "text": [
        "WARNING:sarpy.io.Adata_classes:Could not load AData\n"
       ]
      },
      {
       "output_type": "stream",
       "stream": "stderr",
       "text": [
        "WARNING:sarpy.io.Adata_classes:Need precisely one parameter file *json, found: []\n"
       ]
      },
      {
       "output_type": "stream",
       "stream": "stderr",
       "text": [
        "WARNING:sarpy.io.Adata_classes:Could not load AData\n"
       ]
      },
      {
       "output_type": "stream",
       "stream": "stderr",
       "text": [
        "WARNING:sarpy.io.Adata_classes:Need precisely one parameter file *json, found: []\n"
       ]
      },
      {
       "output_type": "stream",
       "stream": "stderr",
       "text": [
        "WARNING:sarpy.io.Adata_classes:Could not load AData\n"
       ]
      },
      {
       "output_type": "stream",
       "stream": "stderr",
       "text": [
        "WARNING:sarpy.io.Adata_classes:Need precisely one parameter file *json, found: []\n"
       ]
      },
      {
       "output_type": "stream",
       "stream": "stderr",
       "text": [
        "WARNING:sarpy.io.Adata_classes:Could not load AData\n"
       ]
      },
      {
       "output_type": "stream",
       "stream": "stderr",
       "text": [
        "WARNING:sarpy.io.Adata_classes:Need precisely one parameter file *json, found: []\n"
       ]
      },
      {
       "output_type": "stream",
       "stream": "stderr",
       "text": [
        "WARNING:sarpy.io.Adata_classes:Could not load AData\n"
       ]
      },
      {
       "output_type": "stream",
       "stream": "stderr",
       "text": [
        "WARNING:sarpy.io.Adata_classes:Need precisely one parameter file *json, found: []\n"
       ]
      },
      {
       "output_type": "stream",
       "stream": "stderr",
       "text": [
        "WARNING:sarpy.io.Adata_classes:Could not load AData\n"
       ]
      },
      {
       "output_type": "stream",
       "stream": "stderr",
       "text": [
        "WARNING:sarpy.io.Adata_classes:Need precisely one parameter file *json, found: []\n"
       ]
      },
      {
       "output_type": "stream",
       "stream": "stderr",
       "text": [
        "WARNING:sarpy.io.Adata_classes:Could not load AData\n"
       ]
      },
      {
       "output_type": "stream",
       "stream": "stderr",
       "text": [
        "WARNING:sarpy.io.Adata_classes:Need precisely one parameter file *json, found: []\n"
       ]
      },
      {
       "output_type": "stream",
       "stream": "stderr",
       "text": [
        "WARNING:sarpy.io.Adata_classes:Could not load AData\n"
       ]
      },
      {
       "output_type": "stream",
       "stream": "stderr",
       "text": [
        "WARNING:sarpy.io.Adata_classes:Need precisely one parameter file *json, found: []\n"
       ]
      },
      {
       "output_type": "stream",
       "stream": "stderr",
       "text": [
        "WARNING:sarpy.io.Adata_classes:Could not load AData\n"
       ]
      },
      {
       "output_type": "stream",
       "stream": "stderr",
       "text": [
        "WARNING:sarpy.io.Adata_classes:Need precisely one parameter file *json, found: []\n"
       ]
      },
      {
       "output_type": "stream",
       "stream": "stderr",
       "text": [
        "WARNING:sarpy.io.Adata_classes:Could not load AData\n"
       ]
      },
      {
       "output_type": "stream",
       "stream": "stderr",
       "text": [
        "WARNING:sarpy.io.Adata_classes:Need precisely one parameter file *json, found: []\n"
       ]
      },
      {
       "output_type": "stream",
       "stream": "stderr",
       "text": [
        "WARNING:sarpy.io.Adata_classes:Could not load AData\n"
       ]
      },
      {
       "output_type": "stream",
       "stream": "stderr",
       "text": [
        "WARNING:sarpy.io.Adata_classes:Need precisely one parameter file *json, found: []\n"
       ]
      },
      {
       "output_type": "stream",
       "stream": "stderr",
       "text": [
        "WARNING:sarpy.io.Adata_classes:Could not load AData\n"
       ]
      },
      {
       "output_type": "stream",
       "stream": "stderr",
       "text": [
        "WARNING:sarpy.io.Adata_classes:Need precisely one parameter file *json, found: []\n"
       ]
      },
      {
       "output_type": "stream",
       "stream": "stderr",
       "text": [
        "WARNING:sarpy.io.Adata_classes:Could not load AData\n"
       ]
      },
      {
       "output_type": "stream",
       "stream": "stderr",
       "text": [
        "WARNING:sarpy.io.Adata_classes:Need precisely one parameter file *json, found: []\n"
       ]
      },
      {
       "output_type": "stream",
       "stream": "stderr",
       "text": [
        "WARNING:sarpy.io.Adata_classes:Could not load AData\n"
       ]
      },
      {
       "output_type": "stream",
       "stream": "stderr",
       "text": [
        "WARNING:sarpy.io.Adata_classes:Need precisely one parameter file *json, found: []\n"
       ]
      },
      {
       "output_type": "stream",
       "stream": "stderr",
       "text": [
        "WARNING:sarpy.io.Adata_classes:Could not load AData\n"
       ]
      },
      {
       "output_type": "stream",
       "stream": "stderr",
       "text": [
        "WARNING:sarpy.io.Adata_classes:Need precisely one parameter file *json, found: []\n"
       ]
      },
      {
       "output_type": "stream",
       "stream": "stderr",
       "text": [
        "WARNING:sarpy.io.Adata_classes:Could not load AData\n"
       ]
      },
      {
       "output_type": "stream",
       "stream": "stderr",
       "text": [
        "WARNING:sarpy.io.Adata_classes:Need precisely one parameter file *json, found: []\n"
       ]
      },
      {
       "output_type": "stream",
       "stream": "stderr",
       "text": [
        "WARNING:sarpy.io.Adata_classes:Could not load AData\n"
       ]
      },
      {
       "output_type": "stream",
       "stream": "stderr",
       "text": [
        "WARNING:sarpy.io.Adata_classes:Need precisely one parameter file *json, found: []\n"
       ]
      },
      {
       "output_type": "stream",
       "stream": "stderr",
       "text": [
        "WARNING:sarpy.io.Adata_classes:Could not load AData\n"
       ]
      },
      {
       "output_type": "stream",
       "stream": "stderr",
       "text": [
        "WARNING:sarpy.io.Adata_classes:Need precisely one parameter file *json, found: []\n"
       ]
      },
      {
       "output_type": "stream",
       "stream": "stderr",
       "text": [
        "WARNING:sarpy.io.Adata_classes:Could not load AData\n"
       ]
      },
      {
       "output_type": "stream",
       "stream": "stderr",
       "text": [
        "WARNING:sarpy.io.Adata_classes:Need precisely one parameter file *json, found: []\n"
       ]
      },
      {
       "output_type": "stream",
       "stream": "stderr",
       "text": [
        "WARNING:sarpy.io.Adata_classes:Could not load AData\n"
       ]
      },
      {
       "output_type": "stream",
       "stream": "stderr",
       "text": [
        "WARNING:sarpy.io.Adata_classes:Need precisely one parameter file *json, found: []\n"
       ]
      },
      {
       "output_type": "stream",
       "stream": "stderr",
       "text": [
        "WARNING:sarpy.io.Adata_classes:Could not load AData\n"
       ]
      },
      {
       "output_type": "stream",
       "stream": "stderr",
       "text": [
        "WARNING:sarpy.io.Adata_classes:Need precisely one parameter file *json, found: []\n"
       ]
      },
      {
       "output_type": "stream",
       "stream": "stderr",
       "text": [
        "WARNING:sarpy.io.Adata_classes:Could not load AData\n"
       ]
      },
      {
       "output_type": "stream",
       "stream": "stderr",
       "text": [
        "WARNING:sarpy.io.Adata_classes:Need precisely one parameter file *json, found: []\n"
       ]
      },
      {
       "output_type": "stream",
       "stream": "stderr",
       "text": [
        "WARNING:sarpy.io.Adata_classes:Could not load AData\n"
       ]
      },
      {
       "output_type": "stream",
       "stream": "stderr",
       "text": [
        "WARNING:sarpy.io.Adata_classes:Need precisely one parameter file *json, found: []\n"
       ]
      },
      {
       "output_type": "stream",
       "stream": "stderr",
       "text": [
        "WARNING:sarpy.io.Adata_classes:Could not load AData\n"
       ]
      },
      {
       "output_type": "stream",
       "stream": "stderr",
       "text": [
        "WARNING:sarpy.io.Adata_classes:Need precisely one parameter file *json, found: []\n"
       ]
      },
      {
       "output_type": "stream",
       "stream": "stderr",
       "text": [
        "WARNING:sarpy.io.Adata_classes:Could not load AData\n"
       ]
      },
      {
       "output_type": "stream",
       "stream": "stderr",
       "text": [
        "WARNING:sarpy.io.Adata_classes:Need precisely one parameter file *json, found: []\n"
       ]
      },
      {
       "output_type": "stream",
       "stream": "stderr",
       "text": [
        "WARNING:sarpy.io.Adata_classes:Could not load AData\n"
       ]
      },
      {
       "output_type": "stream",
       "stream": "stderr",
       "text": [
        "WARNING:sarpy.io.Adata_classes:Need precisely one parameter file *json, found: []\n"
       ]
      },
      {
       "output_type": "stream",
       "stream": "stderr",
       "text": [
        "WARNING:sarpy.io.Adata_classes:Could not load AData\n"
       ]
      },
      {
       "output_type": "stream",
       "stream": "stderr",
       "text": [
        "WARNING:sarpy.io.Adata_classes:Need precisely one parameter file *json, found: []\n"
       ]
      },
      {
       "output_type": "stream",
       "stream": "stderr",
       "text": [
        "WARNING:sarpy.io.Adata_classes:Could not load AData\n"
       ]
      },
      {
       "output_type": "stream",
       "stream": "stderr",
       "text": [
        "WARNING:sarpy.io.Adata_classes:Need precisely one parameter file *json, found: []\n"
       ]
      },
      {
       "output_type": "stream",
       "stream": "stderr",
       "text": [
        "WARNING:sarpy.io.Adata_classes:Could not load AData\n"
       ]
      },
      {
       "output_type": "stream",
       "stream": "stderr",
       "text": [
        "WARNING:sarpy.io.Adata_classes:Need precisely one parameter file *json, found: []\n"
       ]
      },
      {
       "output_type": "stream",
       "stream": "stderr",
       "text": [
        "WARNING:sarpy.io.Adata_classes:Could not load AData\n"
       ]
      },
      {
       "output_type": "stream",
       "stream": "stderr",
       "text": [
        "WARNING:sarpy.io.Adata_classes:Need precisely one parameter file *json, found: []\n"
       ]
      },
      {
       "output_type": "stream",
       "stream": "stderr",
       "text": [
        "WARNING:sarpy.io.Adata_classes:Could not load AData\n"
       ]
      },
      {
       "output_type": "stream",
       "stream": "stderr",
       "text": [
        "WARNING:sarpy.io.Adata_classes:Need precisely one parameter file *json, found: []\n"
       ]
      },
      {
       "output_type": "stream",
       "stream": "stderr",
       "text": [
        "WARNING:sarpy.io.Adata_classes:Could not load AData\n"
       ]
      },
      {
       "output_type": "stream",
       "stream": "stderr",
       "text": [
        "WARNING:sarpy.io.Adata_classes:Need precisely one parameter file *json, found: []\n"
       ]
      },
      {
       "output_type": "stream",
       "stream": "stderr",
       "text": [
        "WARNING:sarpy.io.Adata_classes:Could not load AData\n"
       ]
      },
      {
       "output_type": "stream",
       "stream": "stderr",
       "text": [
        "WARNING:sarpy.io.Adata_classes:Need precisely one parameter file *json, found: []\n"
       ]
      },
      {
       "output_type": "stream",
       "stream": "stderr",
       "text": [
        "WARNING:sarpy.io.Adata_classes:Could not load AData\n"
       ]
      },
      {
       "output_type": "stream",
       "stream": "stderr",
       "text": [
        "WARNING:sarpy.io.Adata_classes:Need precisely one parameter file *json, found: []\n"
       ]
      },
      {
       "output_type": "stream",
       "stream": "stderr",
       "text": [
        "WARNING:sarpy.io.Adata_classes:Could not load AData\n"
       ]
      },
      {
       "output_type": "stream",
       "stream": "stderr",
       "text": [
        "WARNING:sarpy.io.Adata_classes:Need precisely one parameter file *json, found: []\n"
       ]
      },
      {
       "output_type": "stream",
       "stream": "stderr",
       "text": [
        "WARNING:sarpy.io.Adata_classes:Could not load AData\n"
       ]
      },
      {
       "output_type": "stream",
       "stream": "stderr",
       "text": [
        "WARNING:sarpy.io.Adata_classes:Need precisely one parameter file *json, found: []\n"
       ]
      },
      {
       "output_type": "stream",
       "stream": "stderr",
       "text": [
        "WARNING:sarpy.io.Adata_classes:Could not load AData\n"
       ]
      },
      {
       "output_type": "stream",
       "stream": "stderr",
       "text": [
        "WARNING:sarpy.io.Adata_classes:Need precisely one parameter file *json, found: []\n"
       ]
      },
      {
       "output_type": "stream",
       "stream": "stderr",
       "text": [
        "WARNING:sarpy.io.Adata_classes:Could not load AData\n"
       ]
      },
      {
       "output_type": "stream",
       "stream": "stderr",
       "text": [
        "WARNING:sarpy.io.Adata_classes:Need precisely one parameter file *json, found: []\n"
       ]
      },
      {
       "output_type": "stream",
       "stream": "stderr",
       "text": [
        "WARNING:sarpy.io.Adata_classes:Could not load AData\n"
       ]
      },
      {
       "output_type": "stream",
       "stream": "stderr",
       "text": [
        "WARNING:sarpy.io.Adata_classes:Need precisely one parameter file *json, found: []\n"
       ]
      },
      {
       "output_type": "stream",
       "stream": "stderr",
       "text": [
        "WARNING:sarpy.io.Adata_classes:Could not load AData\n"
       ]
      },
      {
       "output_type": "stream",
       "stream": "stderr",
       "text": [
        "WARNING:sarpy.io.Adata_classes:Need precisely one parameter file *json, found: []\n"
       ]
      },
      {
       "output_type": "stream",
       "stream": "stderr",
       "text": [
        "WARNING:sarpy.io.Adata_classes:Could not load AData\n"
       ]
      },
      {
       "output_type": "stream",
       "stream": "stderr",
       "text": [
        "WARNING:sarpy.io.Adata_classes:Need precisely one parameter file *json, found: []\n"
       ]
      },
      {
       "output_type": "stream",
       "stream": "stderr",
       "text": [
        "WARNING:sarpy.io.Adata_classes:Could not load AData\n"
       ]
      },
      {
       "output_type": "stream",
       "stream": "stderr",
       "text": [
        "WARNING:sarpy.io.Adata_classes:Need precisely one parameter file *json, found: []\n"
       ]
      },
      {
       "output_type": "stream",
       "stream": "stderr",
       "text": [
        "WARNING:sarpy.io.Adata_classes:Could not load AData\n"
       ]
      },
      {
       "output_type": "stream",
       "stream": "stderr",
       "text": [
        "WARNING:sarpy.io.Adata_classes:Need precisely one parameter file *json, found: []\n"
       ]
      },
      {
       "output_type": "stream",
       "stream": "stderr",
       "text": [
        "WARNING:sarpy.io.Adata_classes:Could not load AData\n"
       ]
      },
      {
       "output_type": "stream",
       "stream": "stderr",
       "text": [
        "WARNING:sarpy.io.Adata_classes:Need precisely one parameter file *json, found: []\n"
       ]
      },
      {
       "output_type": "stream",
       "stream": "stderr",
       "text": [
        "WARNING:sarpy.io.Adata_classes:Could not load AData\n"
       ]
      },
      {
       "output_type": "stream",
       "stream": "stderr",
       "text": [
        "WARNING:sarpy.io.Adata_classes:Need precisely one parameter file *json, found: []\n"
       ]
      },
      {
       "output_type": "stream",
       "stream": "stderr",
       "text": [
        "WARNING:sarpy.io.Adata_classes:Could not load AData\n"
       ]
      },
      {
       "output_type": "stream",
       "stream": "stderr",
       "text": [
        "WARNING:sarpy.io.Adata_classes:Need precisely one parameter file *json, found: []\n"
       ]
      },
      {
       "output_type": "stream",
       "stream": "stderr",
       "text": [
        "WARNING:sarpy.io.Adata_classes:Could not load AData\n"
       ]
      },
      {
       "output_type": "stream",
       "stream": "stderr",
       "text": [
        "WARNING:sarpy.io.Adata_classes:Need precisely one parameter file *json, found: []\n"
       ]
      },
      {
       "output_type": "stream",
       "stream": "stderr",
       "text": [
        "WARNING:sarpy.io.Adata_classes:Could not load AData\n"
       ]
      },
      {
       "output_type": "stream",
       "stream": "stderr",
       "text": [
        "WARNING:sarpy.io.Adata_classes:Need precisely one parameter file *json, found: []\n"
       ]
      },
      {
       "output_type": "stream",
       "stream": "stderr",
       "text": [
        "WARNING:sarpy.io.Adata_classes:Could not load AData\n"
       ]
      },
      {
       "output_type": "stream",
       "stream": "stderr",
       "text": [
        "WARNING:sarpy.io.Adata_classes:Need precisely one parameter file *json, found: []\n"
       ]
      },
      {
       "output_type": "stream",
       "stream": "stderr",
       "text": [
        "WARNING:sarpy.io.Adata_classes:Could not load AData\n"
       ]
      },
      {
       "output_type": "stream",
       "stream": "stderr",
       "text": [
        "WARNING:sarpy.io.Adata_classes:Need precisely one parameter file *json, found: []\n"
       ]
      },
      {
       "output_type": "stream",
       "stream": "stderr",
       "text": [
        "WARNING:sarpy.io.Adata_classes:Could not load AData\n"
       ]
      },
      {
       "output_type": "stream",
       "stream": "stderr",
       "text": [
        "WARNING:sarpy.io.Adata_classes:Need precisely one parameter file *json, found: []\n"
       ]
      },
      {
       "output_type": "stream",
       "stream": "stderr",
       "text": [
        "WARNING:sarpy.io.Adata_classes:Could not load AData\n"
       ]
      },
      {
       "output_type": "stream",
       "stream": "stderr",
       "text": [
        "WARNING:sarpy.io.Adata_classes:Need precisely one parameter file *json, found: []\n"
       ]
      },
      {
       "output_type": "stream",
       "stream": "stderr",
       "text": [
        "WARNING:sarpy.io.Adata_classes:Could not load AData\n"
       ]
      },
      {
       "output_type": "stream",
       "stream": "stderr",
       "text": [
        "WARNING:sarpy.io.Adata_classes:Need precisely one parameter file *json, found: []\n"
       ]
      },
      {
       "output_type": "stream",
       "stream": "stderr",
       "text": [
        "WARNING:sarpy.io.Adata_classes:Could not load AData\n"
       ]
      },
      {
       "output_type": "stream",
       "stream": "stderr",
       "text": [
        "WARNING:sarpy.io.Adata_classes:Need precisely one parameter file *json, found: []\n"
       ]
      },
      {
       "output_type": "stream",
       "stream": "stderr",
       "text": [
        "WARNING:sarpy.io.Adata_classes:Could not load AData\n"
       ]
      },
      {
       "output_type": "stream",
       "stream": "stderr",
       "text": [
        "WARNING:sarpy.io.Adata_classes:Need precisely one parameter file *json, found: []\n"
       ]
      },
      {
       "output_type": "stream",
       "stream": "stderr",
       "text": [
        "WARNING:sarpy.io.Adata_classes:Could not load AData\n"
       ]
      },
      {
       "output_type": "stream",
       "stream": "stderr",
       "text": [
        "WARNING:sarpy.io.Adata_classes:Need precisely one parameter file *json, found: []\n"
       ]
      },
      {
       "output_type": "stream",
       "stream": "stderr",
       "text": [
        "WARNING:sarpy.io.Adata_classes:Could not load AData\n"
       ]
      },
      {
       "output_type": "stream",
       "stream": "stderr",
       "text": [
        "WARNING:sarpy.io.Adata_classes:Need precisely one parameter file *json, found: []\n"
       ]
      },
      {
       "output_type": "stream",
       "stream": "stderr",
       "text": [
        "WARNING:sarpy.io.Adata_classes:Could not load AData\n"
       ]
      },
      {
       "output_type": "stream",
       "stream": "stderr",
       "text": [
        "WARNING:sarpy.io.Adata_classes:Need precisely one parameter file *json, found: []\n"
       ]
      },
      {
       "output_type": "stream",
       "stream": "stderr",
       "text": [
        "WARNING:sarpy.io.Adata_classes:Could not load AData\n"
       ]
      },
      {
       "output_type": "stream",
       "stream": "stderr",
       "text": [
        "WARNING:sarpy.io.Adata_classes:Need precisely one parameter file *json, found: []\n"
       ]
      },
      {
       "output_type": "stream",
       "stream": "stderr",
       "text": [
        "WARNING:sarpy.io.Adata_classes:Could not load AData\n"
       ]
      },
      {
       "output_type": "stream",
       "stream": "stderr",
       "text": [
        "WARNING:sarpy.io.Adata_classes:Need precisely one parameter file *json, found: []\n"
       ]
      },
      {
       "output_type": "stream",
       "stream": "stderr",
       "text": [
        "WARNING:sarpy.io.Adata_classes:Could not load AData\n"
       ]
      },
      {
       "output_type": "stream",
       "stream": "stderr",
       "text": [
        "WARNING:sarpy.io.Adata_classes:Need precisely one parameter file *json, found: []\n"
       ]
      },
      {
       "output_type": "stream",
       "stream": "stderr",
       "text": [
        "WARNING:sarpy.io.Adata_classes:Could not load AData\n"
       ]
      },
      {
       "output_type": "stream",
       "stream": "stderr",
       "text": [
        "WARNING:sarpy.io.Adata_classes:Need precisely one parameter file *json, found: []\n"
       ]
      },
      {
       "output_type": "stream",
       "stream": "stderr",
       "text": [
        "WARNING:sarpy.io.Adata_classes:Could not load AData\n"
       ]
      },
      {
       "output_type": "stream",
       "stream": "stderr",
       "text": [
        "WARNING:sarpy.io.Adata_classes:Need precisely one parameter file *json, found: []\n"
       ]
      },
      {
       "output_type": "stream",
       "stream": "stderr",
       "text": [
        "WARNING:sarpy.io.Adata_classes:Could not load AData\n"
       ]
      },
      {
       "output_type": "stream",
       "stream": "stderr",
       "text": [
        "WARNING:sarpy.io.Adata_classes:Need precisely one parameter file *json, found: []\n"
       ]
      },
      {
       "output_type": "stream",
       "stream": "stderr",
       "text": [
        "WARNING:sarpy.io.Adata_classes:Could not load AData\n"
       ]
      },
      {
       "output_type": "stream",
       "stream": "stderr",
       "text": [
        "WARNING:sarpy.io.Adata_classes:Need precisely one parameter file *json, found: []\n"
       ]
      },
      {
       "output_type": "stream",
       "stream": "stderr",
       "text": [
        "WARNING:sarpy.io.Adata_classes:Could not load AData\n"
       ]
      },
      {
       "output_type": "stream",
       "stream": "stderr",
       "text": [
        "WARNING:sarpy.io.Adata_classes:Need precisely one parameter file *json, found: []\n"
       ]
      },
      {
       "output_type": "stream",
       "stream": "stderr",
       "text": [
        "WARNING:sarpy.io.Adata_classes:Could not load AData\n"
       ]
      },
      {
       "output_type": "stream",
       "stream": "stderr",
       "text": [
        "WARNING:sarpy.io.Adata_classes:Need precisely one parameter file *json, found: []\n"
       ]
      },
      {
       "output_type": "stream",
       "stream": "stderr",
       "text": [
        "WARNING:sarpy.io.Adata_classes:Could not load AData\n"
       ]
      },
      {
       "output_type": "stream",
       "stream": "stderr",
       "text": [
        "WARNING:sarpy.io.Adata_classes:Need precisely one parameter file *json, found: []\n"
       ]
      },
      {
       "output_type": "stream",
       "stream": "stderr",
       "text": [
        "WARNING:sarpy.io.Adata_classes:Could not load AData\n"
       ]
      },
      {
       "output_type": "stream",
       "stream": "stderr",
       "text": [
        "WARNING:sarpy.io.Adata_classes:Need precisely one parameter file *json, found: []\n"
       ]
      },
      {
       "output_type": "stream",
       "stream": "stderr",
       "text": [
        "WARNING:sarpy.io.Adata_classes:Could not load AData\n"
       ]
      },
      {
       "output_type": "stream",
       "stream": "stderr",
       "text": [
        "WARNING:sarpy.io.Adata_classes:Need precisely one parameter file *json, found: []\n"
       ]
      },
      {
       "output_type": "stream",
       "stream": "stderr",
       "text": [
        "WARNING:sarpy.io.Adata_classes:Could not load AData\n"
       ]
      },
      {
       "output_type": "stream",
       "stream": "stderr",
       "text": [
        "WARNING:sarpy.io.Adata_classes:Need precisely one parameter file *json, found: []\n"
       ]
      },
      {
       "output_type": "stream",
       "stream": "stderr",
       "text": [
        "WARNING:sarpy.io.Adata_classes:Could not load AData\n"
       ]
      },
      {
       "output_type": "stream",
       "stream": "stderr",
       "text": [
        "WARNING:sarpy.io.Adata_classes:Need precisely one parameter file *json, found: []\n"
       ]
      },
      {
       "output_type": "stream",
       "stream": "stderr",
       "text": [
        "WARNING:sarpy.io.Adata_classes:Could not load AData\n"
       ]
      },
      {
       "output_type": "stream",
       "stream": "stderr",
       "text": [
        "WARNING:sarpy.io.Adata_classes:Need precisely one parameter file *json, found: []\n"
       ]
      },
      {
       "output_type": "stream",
       "stream": "stderr",
       "text": [
        "WARNING:sarpy.io.Adata_classes:Could not load AData\n"
       ]
      },
      {
       "output_type": "stream",
       "stream": "stderr",
       "text": [
        "WARNING:sarpy.io.Adata_classes:Need precisely one parameter file *json, found: []\n"
       ]
      },
      {
       "output_type": "stream",
       "stream": "stderr",
       "text": [
        "WARNING:sarpy.io.Adata_classes:Could not load AData\n"
       ]
      },
      {
       "output_type": "stream",
       "stream": "stderr",
       "text": [
        "WARNING:sarpy.io.Adata_classes:Need precisely one parameter file *json, found: []\n"
       ]
      },
      {
       "output_type": "stream",
       "stream": "stderr",
       "text": [
        "WARNING:sarpy.io.Adata_classes:Could not load AData\n"
       ]
      },
      {
       "output_type": "stream",
       "stream": "stderr",
       "text": [
        "WARNING:sarpy.io.Adata_classes:Need precisely one parameter file *json, found: []\n"
       ]
      },
      {
       "output_type": "stream",
       "stream": "stderr",
       "text": [
        "WARNING:sarpy.io.Adata_classes:Could not load AData\n"
       ]
      },
      {
       "output_type": "stream",
       "stream": "stderr",
       "text": [
        "WARNING:sarpy.io.Adata_classes:Need precisely one parameter file *json, found: []\n"
       ]
      },
      {
       "output_type": "stream",
       "stream": "stderr",
       "text": [
        "WARNING:sarpy.io.Adata_classes:Could not load AData\n"
       ]
      },
      {
       "output_type": "stream",
       "stream": "stderr",
       "text": [
        "WARNING:sarpy.io.Adata_classes:Need precisely one parameter file *json, found: []\n"
       ]
      },
      {
       "output_type": "stream",
       "stream": "stderr",
       "text": [
        "WARNING:sarpy.io.Adata_classes:Could not load AData\n"
       ]
      },
      {
       "output_type": "stream",
       "stream": "stderr",
       "text": [
        "WARNING:sarpy.io.Adata_classes:Need precisely one parameter file *json, found: []\n"
       ]
      },
      {
       "output_type": "stream",
       "stream": "stderr",
       "text": [
        "WARNING:sarpy.io.Adata_classes:Could not load AData\n"
       ]
      },
      {
       "output_type": "stream",
       "stream": "stderr",
       "text": [
        "WARNING:sarpy.io.Adata_classes:Need precisely one parameter file *json, found: []\n"
       ]
      },
      {
       "output_type": "stream",
       "stream": "stderr",
       "text": [
        "WARNING:sarpy.io.Adata_classes:Could not load AData\n"
       ]
      },
      {
       "output_type": "stream",
       "stream": "stderr",
       "text": [
        "WARNING:sarpy.io.Adata_classes:Need precisely one parameter file *json, found: []\n"
       ]
      },
      {
       "output_type": "stream",
       "stream": "stderr",
       "text": [
        "WARNING:sarpy.io.Adata_classes:Could not load AData\n"
       ]
      },
      {
       "output_type": "stream",
       "stream": "stderr",
       "text": [
        "WARNING:sarpy.io.Adata_classes:Need precisely one parameter file *json, found: []\n"
       ]
      },
      {
       "output_type": "stream",
       "stream": "stderr",
       "text": [
        "WARNING:sarpy.io.Adata_classes:Could not load AData\n"
       ]
      },
      {
       "output_type": "stream",
       "stream": "stderr",
       "text": [
        "WARNING:sarpy.io.Adata_classes:Need precisely one parameter file *json, found: []\n"
       ]
      },
      {
       "output_type": "stream",
       "stream": "stderr",
       "text": [
        "WARNING:sarpy.io.Adata_classes:Could not load AData\n"
       ]
      },
      {
       "output_type": "stream",
       "stream": "stderr",
       "text": [
        "WARNING:sarpy.io.Adata_classes:Need precisely one parameter file *json, found: []\n"
       ]
      },
      {
       "output_type": "stream",
       "stream": "stderr",
       "text": [
        "WARNING:sarpy.io.Adata_classes:Could not load AData\n"
       ]
      },
      {
       "output_type": "stream",
       "stream": "stderr",
       "text": [
        "WARNING:sarpy.io.Adata_classes:Need precisely one parameter file *json, found: []\n"
       ]
      },
      {
       "output_type": "stream",
       "stream": "stderr",
       "text": [
        "WARNING:sarpy.io.Adata_classes:Could not load AData\n"
       ]
      },
      {
       "output_type": "stream",
       "stream": "stderr",
       "text": [
        "WARNING:sarpy.io.Adata_classes:Need precisely one parameter file *json, found: []\n"
       ]
      },
      {
       "output_type": "stream",
       "stream": "stderr",
       "text": [
        "WARNING:sarpy.io.Adata_classes:Could not load AData\n"
       ]
      },
      {
       "output_type": "stream",
       "stream": "stderr",
       "text": [
        "WARNING:sarpy.io.Adata_classes:Need precisely one parameter file *json, found: []\n"
       ]
      },
      {
       "output_type": "stream",
       "stream": "stderr",
       "text": [
        "WARNING:sarpy.io.Adata_classes:Could not load AData\n"
       ]
      },
      {
       "output_type": "stream",
       "stream": "stderr",
       "text": [
        "WARNING:sarpy.io.Adata_classes:Need precisely one parameter file *json, found: []\n"
       ]
      },
      {
       "output_type": "stream",
       "stream": "stderr",
       "text": [
        "WARNING:sarpy.io.Adata_classes:Could not load AData\n"
       ]
      },
      {
       "output_type": "stream",
       "stream": "stderr",
       "text": [
        "WARNING:sarpy.io.Adata_classes:Need precisely one parameter file *json, found: []\n"
       ]
      },
      {
       "output_type": "stream",
       "stream": "stderr",
       "text": [
        "WARNING:sarpy.io.Adata_classes:Could not load AData\n"
       ]
      },
      {
       "output_type": "stream",
       "stream": "stderr",
       "text": [
        "WARNING:sarpy.io.Adata_classes:Need precisely one parameter file *json, found: []\n"
       ]
      },
      {
       "output_type": "stream",
       "stream": "stderr",
       "text": [
        "WARNING:sarpy.io.Adata_classes:Could not load AData\n"
       ]
      },
      {
       "output_type": "stream",
       "stream": "stderr",
       "text": [
        "WARNING:sarpy.io.Adata_classes:Need precisely one parameter file *json, found: []\n"
       ]
      },
      {
       "output_type": "stream",
       "stream": "stderr",
       "text": [
        "WARNING:sarpy.io.Adata_classes:Could not load AData\n"
       ]
      },
      {
       "output_type": "stream",
       "stream": "stderr",
       "text": [
        "WARNING:sarpy.io.Adata_classes:Need precisely one parameter file *json, found: []\n"
       ]
      },
      {
       "output_type": "stream",
       "stream": "stderr",
       "text": [
        "WARNING:sarpy.io.Adata_classes:Could not load AData\n"
       ]
      },
      {
       "output_type": "stream",
       "stream": "stderr",
       "text": [
        "WARNING:sarpy.io.Adata_classes:Need precisely one parameter file *json, found: []\n"
       ]
      },
      {
       "output_type": "stream",
       "stream": "stderr",
       "text": [
        "WARNING:sarpy.io.Adata_classes:Could not load AData\n"
       ]
      },
      {
       "output_type": "stream",
       "stream": "stderr",
       "text": [
        "WARNING:sarpy.io.Adata_classes:Need precisely one parameter file *json, found: []\n"
       ]
      },
      {
       "output_type": "stream",
       "stream": "stderr",
       "text": [
        "WARNING:sarpy.io.Adata_classes:Could not load AData\n"
       ]
      },
      {
       "output_type": "stream",
       "stream": "stderr",
       "text": [
        "WARNING:sarpy.io.Adata_classes:Need precisely one parameter file *json, found: []\n"
       ]
      },
      {
       "output_type": "stream",
       "stream": "stderr",
       "text": [
        "WARNING:sarpy.io.Adata_classes:Could not load AData\n"
       ]
      },
      {
       "output_type": "stream",
       "stream": "stderr",
       "text": [
        "WARNING:sarpy.io.Adata_classes:Need precisely one parameter file *json, found: []\n"
       ]
      },
      {
       "output_type": "stream",
       "stream": "stderr",
       "text": [
        "WARNING:sarpy.io.Adata_classes:Could not load AData\n"
       ]
      },
      {
       "output_type": "stream",
       "stream": "stderr",
       "text": [
        "WARNING:sarpy.io.Adata_classes:Need precisely one parameter file *json, found: []\n"
       ]
      },
      {
       "output_type": "stream",
       "stream": "stderr",
       "text": [
        "WARNING:sarpy.io.Adata_classes:Could not load AData\n"
       ]
      },
      {
       "output_type": "stream",
       "stream": "stderr",
       "text": [
        "WARNING:sarpy.io.Adata_classes:Need precisely one parameter file *json, found: []\n"
       ]
      },
      {
       "output_type": "stream",
       "stream": "stderr",
       "text": [
        "WARNING:sarpy.io.Adata_classes:Could not load AData\n"
       ]
      },
      {
       "output_type": "stream",
       "stream": "stderr",
       "text": [
        "WARNING:sarpy.io.Adata_classes:Need precisely one parameter file *json, found: []\n"
       ]
      },
      {
       "output_type": "stream",
       "stream": "stderr",
       "text": [
        "WARNING:sarpy.io.Adata_classes:Could not load AData\n"
       ]
      },
      {
       "output_type": "stream",
       "stream": "stderr",
       "text": [
        "WARNING:sarpy.io.Adata_classes:Need precisely one parameter file *json, found: []\n"
       ]
      },
      {
       "output_type": "stream",
       "stream": "stderr",
       "text": [
        "WARNING:sarpy.io.Adata_classes:Could not load AData\n"
       ]
      },
      {
       "output_type": "stream",
       "stream": "stderr",
       "text": [
        "WARNING:sarpy.io.Adata_classes:Need precisely one parameter file *json, found: []\n"
       ]
      },
      {
       "output_type": "stream",
       "stream": "stderr",
       "text": [
        "WARNING:sarpy.io.Adata_classes:Could not load AData\n"
       ]
      },
      {
       "output_type": "stream",
       "stream": "stderr",
       "text": [
        "WARNING:sarpy.io.Adata_classes:Need precisely one parameter file *json, found: []\n"
       ]
      },
      {
       "output_type": "stream",
       "stream": "stderr",
       "text": [
        "WARNING:sarpy.io.Adata_classes:Could not load AData\n"
       ]
      },
      {
       "output_type": "stream",
       "stream": "stderr",
       "text": [
        "WARNING:sarpy.io.Adata_classes:Need precisely one parameter file *json, found: []\n"
       ]
      },
      {
       "output_type": "stream",
       "stream": "stderr",
       "text": [
        "WARNING:sarpy.io.Adata_classes:Could not load AData\n"
       ]
      },
      {
       "output_type": "stream",
       "stream": "stderr",
       "text": [
        "WARNING:sarpy.io.Adata_classes:Need precisely one parameter file *json, found: []\n"
       ]
      },
      {
       "output_type": "stream",
       "stream": "stderr",
       "text": [
        "WARNING:sarpy.io.Adata_classes:Could not load AData\n"
       ]
      },
      {
       "output_type": "stream",
       "stream": "stderr",
       "text": [
        "WARNING:sarpy.io.Adata_classes:Need precisely one parameter file *json, found: []\n"
       ]
      },
      {
       "output_type": "stream",
       "stream": "stderr",
       "text": [
        "WARNING:sarpy.io.Adata_classes:Could not load AData\n"
       ]
      },
      {
       "output_type": "stream",
       "stream": "stderr",
       "text": [
        "WARNING:sarpy.io.Adata_classes:Need precisely one parameter file *json, found: []\n"
       ]
      },
      {
       "output_type": "stream",
       "stream": "stderr",
       "text": [
        "WARNING:sarpy.io.Adata_classes:Could not load AData\n"
       ]
      },
      {
       "output_type": "stream",
       "stream": "stderr",
       "text": [
        "WARNING:sarpy.io.Adata_classes:Need precisely one parameter file *json, found: []\n"
       ]
      },
      {
       "output_type": "stream",
       "stream": "stderr",
       "text": [
        "WARNING:sarpy.io.Adata_classes:Could not load AData\n"
       ]
      },
      {
       "output_type": "stream",
       "stream": "stderr",
       "text": [
        "WARNING:sarpy.io.Adata_classes:Need precisely one parameter file *json, found: []\n"
       ]
      },
      {
       "output_type": "stream",
       "stream": "stderr",
       "text": [
        "WARNING:sarpy.io.Adata_classes:Could not load AData\n"
       ]
      },
      {
       "output_type": "stream",
       "stream": "stderr",
       "text": [
        "WARNING:sarpy.io.Adata_classes:Need precisely one parameter file *json, found: []\n"
       ]
      },
      {
       "output_type": "stream",
       "stream": "stderr",
       "text": [
        "WARNING:sarpy.io.Adata_classes:Could not load AData\n"
       ]
      },
      {
       "output_type": "stream",
       "stream": "stderr",
       "text": [
        "WARNING:sarpy.io.Adata_classes:Need precisely one parameter file *json, found: []\n"
       ]
      },
      {
       "output_type": "stream",
       "stream": "stderr",
       "text": [
        "WARNING:sarpy.io.Adata_classes:Could not load AData\n"
       ]
      },
      {
       "output_type": "stream",
       "stream": "stderr",
       "text": [
        "WARNING:sarpy.io.Adata_classes:Need precisely one parameter file *json, found: []\n"
       ]
      },
      {
       "output_type": "stream",
       "stream": "stderr",
       "text": [
        "WARNING:sarpy.io.Adata_classes:Could not load AData\n"
       ]
      },
      {
       "output_type": "stream",
       "stream": "stderr",
       "text": [
        "WARNING:sarpy.io.Adata_classes:Need precisely one parameter file *json, found: []\n"
       ]
      },
      {
       "output_type": "stream",
       "stream": "stderr",
       "text": [
        "WARNING:sarpy.io.Adata_classes:Could not load AData\n"
       ]
      },
      {
       "output_type": "stream",
       "stream": "stderr",
       "text": [
        "WARNING:sarpy.io.Adata_classes:Need precisely one parameter file *json, found: []\n"
       ]
      },
      {
       "output_type": "stream",
       "stream": "stderr",
       "text": [
        "WARNING:sarpy.io.Adata_classes:Could not load AData\n"
       ]
      },
      {
       "output_type": "stream",
       "stream": "stderr",
       "text": [
        "WARNING:sarpy.io.Adata_classes:Need precisely one parameter file *json, found: []\n"
       ]
      },
      {
       "output_type": "stream",
       "stream": "stderr",
       "text": [
        "WARNING:sarpy.io.Adata_classes:Could not load AData\n"
       ]
      },
      {
       "output_type": "stream",
       "stream": "stderr",
       "text": [
        "WARNING:sarpy.io.Adata_classes:Need precisely one parameter file *json, found: []\n"
       ]
      },
      {
       "output_type": "stream",
       "stream": "stderr",
       "text": [
        "WARNING:sarpy.io.Adata_classes:Could not load AData\n"
       ]
      },
      {
       "output_type": "stream",
       "stream": "stderr",
       "text": [
        "WARNING:sarpy.io.Adata_classes:Need precisely one parameter file *json, found: []\n"
       ]
      },
      {
       "output_type": "stream",
       "stream": "stderr",
       "text": [
        "WARNING:sarpy.io.Adata_classes:Could not load AData\n"
       ]
      },
      {
       "output_type": "stream",
       "stream": "stderr",
       "text": [
        "WARNING:sarpy.io.Adata_classes:Need precisely one parameter file *json, found: []\n"
       ]
      },
      {
       "output_type": "stream",
       "stream": "stderr",
       "text": [
        "WARNING:sarpy.io.Adata_classes:Could not load AData\n"
       ]
      },
      {
       "output_type": "stream",
       "stream": "stderr",
       "text": [
        "WARNING:sarpy.io.Adata_classes:Need precisely one parameter file *json, found: []\n"
       ]
      },
      {
       "output_type": "stream",
       "stream": "stderr",
       "text": [
        "WARNING:sarpy.io.Adata_classes:Could not load AData\n"
       ]
      },
      {
       "output_type": "stream",
       "stream": "stderr",
       "text": [
        "WARNING:sarpy.io.Adata_classes:Need precisely one parameter file *json, found: []\n"
       ]
      },
      {
       "output_type": "stream",
       "stream": "stderr",
       "text": [
        "WARNING:sarpy.io.Adata_classes:Could not load AData\n"
       ]
      },
      {
       "output_type": "stream",
       "stream": "stderr",
       "text": [
        "WARNING:sarpy.io.Adata_classes:Need precisely one parameter file *json, found: []\n"
       ]
      },
      {
       "output_type": "stream",
       "stream": "stderr",
       "text": [
        "WARNING:sarpy.io.Adata_classes:Could not load AData\n"
       ]
      },
      {
       "output_type": "stream",
       "stream": "stderr",
       "text": [
        "WARNING:sarpy.io.Adata_classes:Need precisely one parameter file *json, found: []\n"
       ]
      },
      {
       "output_type": "stream",
       "stream": "stderr",
       "text": [
        "WARNING:sarpy.io.Adata_classes:Could not load AData\n"
       ]
      },
      {
       "output_type": "stream",
       "stream": "stderr",
       "text": [
        "WARNING:sarpy.io.Adata_classes:Need precisely one parameter file *json, found: []\n"
       ]
      },
      {
       "output_type": "stream",
       "stream": "stderr",
       "text": [
        "WARNING:sarpy.io.Adata_classes:Could not load AData\n"
       ]
      },
      {
       "output_type": "stream",
       "stream": "stderr",
       "text": [
        "WARNING:sarpy.io.Adata_classes:Need precisely one parameter file *json, found: []\n"
       ]
      },
      {
       "output_type": "stream",
       "stream": "stderr",
       "text": [
        "WARNING:sarpy.io.Adata_classes:Could not load AData\n"
       ]
      },
      {
       "output_type": "stream",
       "stream": "stderr",
       "text": [
        "WARNING:sarpy.io.Adata_classes:Need precisely one parameter file *json, found: []\n"
       ]
      },
      {
       "output_type": "stream",
       "stream": "stderr",
       "text": [
        "WARNING:sarpy.io.Adata_classes:Could not load AData\n"
       ]
      },
      {
       "output_type": "stream",
       "stream": "stderr",
       "text": [
        "WARNING:sarpy.io.Adata_classes:Need precisely one parameter file *json, found: []\n"
       ]
      },
      {
       "output_type": "stream",
       "stream": "stderr",
       "text": [
        "WARNING:sarpy.io.Adata_classes:Could not load AData\n"
       ]
      },
      {
       "output_type": "stream",
       "stream": "stderr",
       "text": [
        "WARNING:sarpy.io.Adata_classes:Need precisely one parameter file *json, found: []\n"
       ]
      },
      {
       "output_type": "stream",
       "stream": "stderr",
       "text": [
        "WARNING:sarpy.io.Adata_classes:Could not load AData\n"
       ]
      },
      {
       "output_type": "stream",
       "stream": "stderr",
       "text": [
        "WARNING:sarpy.io.Adata_classes:Need precisely one parameter file *json, found: []\n"
       ]
      },
      {
       "output_type": "stream",
       "stream": "stderr",
       "text": [
        "WARNING:sarpy.io.Adata_classes:Could not load AData\n"
       ]
      },
      {
       "output_type": "stream",
       "stream": "stderr",
       "text": [
        "WARNING:sarpy.io.Adata_classes:Need precisely one parameter file *json, found: []\n"
       ]
      },
      {
       "output_type": "stream",
       "stream": "stderr",
       "text": [
        "WARNING:sarpy.io.Adata_classes:Could not load AData\n"
       ]
      },
      {
       "output_type": "stream",
       "stream": "stderr",
       "text": [
        "WARNING:sarpy.io.Adata_classes:Need precisely one parameter file *json, found: []\n"
       ]
      },
      {
       "output_type": "stream",
       "stream": "stderr",
       "text": [
        "WARNING:sarpy.io.Adata_classes:Could not load AData\n"
       ]
      },
      {
       "output_type": "stream",
       "stream": "stderr",
       "text": [
        "WARNING:sarpy.io.Adata_classes:Need precisely one parameter file *json, found: []\n"
       ]
      },
      {
       "output_type": "stream",
       "stream": "stderr",
       "text": [
        "WARNING:sarpy.io.Adata_classes:Could not load AData\n"
       ]
      },
      {
       "output_type": "stream",
       "stream": "stderr",
       "text": [
        "WARNING:sarpy.io.Adata_classes:Need precisely one parameter file *json, found: []\n"
       ]
      },
      {
       "output_type": "stream",
       "stream": "stderr",
       "text": [
        "WARNING:sarpy.io.Adata_classes:Could not load AData\n"
       ]
      },
      {
       "output_type": "stream",
       "stream": "stderr",
       "text": [
        "WARNING:sarpy.io.Adata_classes:Need precisely one parameter file *json, found: []\n"
       ]
      },
      {
       "output_type": "stream",
       "stream": "stderr",
       "text": [
        "WARNING:sarpy.io.Adata_classes:Could not load AData\n"
       ]
      },
      {
       "output_type": "stream",
       "stream": "stderr",
       "text": [
        "WARNING:sarpy.io.Adata_classes:Need precisely one parameter file *json, found: []\n"
       ]
      },
      {
       "output_type": "stream",
       "stream": "stderr",
       "text": [
        "WARNING:sarpy.io.Adata_classes:Could not load AData\n"
       ]
      },
      {
       "output_type": "stream",
       "stream": "stderr",
       "text": [
        "WARNING:sarpy.io.Adata_classes:Need precisely one parameter file *json, found: []\n"
       ]
      },
      {
       "output_type": "stream",
       "stream": "stderr",
       "text": [
        "WARNING:sarpy.io.Adata_classes:Could not load AData\n"
       ]
      },
      {
       "output_type": "stream",
       "stream": "stderr",
       "text": [
        "WARNING:sarpy.io.Adata_classes:Need precisely one parameter file *json, found: []\n"
       ]
      },
      {
       "output_type": "stream",
       "stream": "stderr",
       "text": [
        "WARNING:sarpy.io.Adata_classes:Could not load AData\n"
       ]
      },
      {
       "output_type": "stream",
       "stream": "stderr",
       "text": [
        "WARNING:sarpy.io.Adata_classes:Need precisely one parameter file *json, found: []\n"
       ]
      },
      {
       "output_type": "stream",
       "stream": "stderr",
       "text": [
        "WARNING:sarpy.io.Adata_classes:Could not load AData\n"
       ]
      },
      {
       "output_type": "stream",
       "stream": "stderr",
       "text": [
        "WARNING:sarpy.io.Adata_classes:Need precisely one parameter file *json, found: []\n"
       ]
      },
      {
       "output_type": "stream",
       "stream": "stderr",
       "text": [
        "WARNING:sarpy.io.Adata_classes:Could not load AData\n"
       ]
      },
      {
       "output_type": "stream",
       "stream": "stderr",
       "text": [
        "WARNING:sarpy.io.Adata_classes:Need precisely one parameter file *json, found: []\n"
       ]
      },
      {
       "output_type": "stream",
       "stream": "stderr",
       "text": [
        "WARNING:sarpy.io.Adata_classes:Could not load AData\n"
       ]
      },
      {
       "output_type": "stream",
       "stream": "stderr",
       "text": [
        "WARNING:sarpy.io.Adata_classes:Need precisely one parameter file *json, found: []\n"
       ]
      },
      {
       "output_type": "stream",
       "stream": "stderr",
       "text": [
        "WARNING:sarpy.io.Adata_classes:Could not load AData\n"
       ]
      },
      {
       "output_type": "stream",
       "stream": "stderr",
       "text": [
        "WARNING:sarpy.io.Adata_classes:Need precisely one parameter file *json, found: []\n"
       ]
      },
      {
       "output_type": "stream",
       "stream": "stderr",
       "text": [
        "WARNING:sarpy.io.Adata_classes:Could not load AData\n"
       ]
      },
      {
       "output_type": "stream",
       "stream": "stderr",
       "text": [
        "WARNING:sarpy.io.Adata_classes:Need precisely one parameter file *json, found: []\n"
       ]
      },
      {
       "output_type": "stream",
       "stream": "stderr",
       "text": [
        "WARNING:sarpy.io.Adata_classes:Could not load AData\n"
       ]
      },
      {
       "output_type": "stream",
       "stream": "stderr",
       "text": [
        "WARNING:sarpy.io.Adata_classes:Need precisely one parameter file *json, found: []\n"
       ]
      },
      {
       "output_type": "stream",
       "stream": "stderr",
       "text": [
        "WARNING:sarpy.io.Adata_classes:Could not load AData\n"
       ]
      },
      {
       "output_type": "stream",
       "stream": "stderr",
       "text": [
        "WARNING:sarpy.io.Adata_classes:Need precisely one parameter file *json, found: []\n"
       ]
      },
      {
       "output_type": "stream",
       "stream": "stderr",
       "text": [
        "WARNING:sarpy.io.Adata_classes:Could not load AData\n"
       ]
      },
      {
       "output_type": "stream",
       "stream": "stderr",
       "text": [
        "WARNING:sarpy.io.Adata_classes:Need precisely one parameter file *json, found: []\n"
       ]
      },
      {
       "output_type": "stream",
       "stream": "stderr",
       "text": [
        "WARNING:sarpy.io.Adata_classes:Could not load AData\n"
       ]
      },
      {
       "output_type": "stream",
       "stream": "stderr",
       "text": [
        "WARNING:sarpy.io.Adata_classes:Need precisely one parameter file *json, found: []\n"
       ]
      },
      {
       "output_type": "stream",
       "stream": "stderr",
       "text": [
        "WARNING:sarpy.io.Adata_classes:Could not load AData\n"
       ]
      },
      {
       "output_type": "stream",
       "stream": "stderr",
       "text": [
        "WARNING:sarpy.io.Adata_classes:Need precisely one parameter file *json, found: []\n"
       ]
      },
      {
       "output_type": "stream",
       "stream": "stderr",
       "text": [
        "WARNING:sarpy.io.Adata_classes:Could not load AData\n"
       ]
      },
      {
       "output_type": "stream",
       "stream": "stderr",
       "text": [
        "WARNING:sarpy.io.Adata_classes:Need precisely one parameter file *json, found: []\n"
       ]
      },
      {
       "output_type": "stream",
       "stream": "stderr",
       "text": [
        "WARNING:sarpy.io.Adata_classes:Could not load AData\n"
       ]
      },
      {
       "output_type": "stream",
       "stream": "stderr",
       "text": [
        "WARNING:sarpy.io.Adata_classes:Need precisely one parameter file *json, found: []\n"
       ]
      },
      {
       "output_type": "stream",
       "stream": "stderr",
       "text": [
        "WARNING:sarpy.io.Adata_classes:Could not load AData\n"
       ]
      },
      {
       "output_type": "stream",
       "stream": "stderr",
       "text": [
        "WARNING:sarpy.io.Adata_classes:Need precisely one parameter file *json, found: []\n"
       ]
      },
      {
       "output_type": "stream",
       "stream": "stderr",
       "text": [
        "WARNING:sarpy.io.Adata_classes:Could not load AData\n"
       ]
      },
      {
       "output_type": "stream",
       "stream": "stderr",
       "text": [
        "WARNING:sarpy.io.Adata_classes:Need precisely one parameter file *json, found: []\n"
       ]
      },
      {
       "output_type": "stream",
       "stream": "stderr",
       "text": [
        "WARNING:sarpy.io.Adata_classes:Could not load AData\n"
       ]
      },
      {
       "output_type": "stream",
       "stream": "stderr",
       "text": [
        "WARNING:sarpy.io.Adata_classes:Need precisely one parameter file *json, found: []\n"
       ]
      },
      {
       "output_type": "stream",
       "stream": "stderr",
       "text": [
        "WARNING:sarpy.io.Adata_classes:Could not load AData\n"
       ]
      },
      {
       "output_type": "stream",
       "stream": "stderr",
       "text": [
        "WARNING:sarpy.io.Adata_classes:Need precisely one parameter file *json, found: []\n"
       ]
      },
      {
       "output_type": "stream",
       "stream": "stderr",
       "text": [
        "WARNING:sarpy.io.Adata_classes:Could not load AData\n"
       ]
      },
      {
       "output_type": "stream",
       "stream": "stderr",
       "text": [
        "WARNING:sarpy.io.Adata_classes:Need precisely one parameter file *json, found: []\n"
       ]
      },
      {
       "output_type": "stream",
       "stream": "stderr",
       "text": [
        "WARNING:sarpy.io.Adata_classes:Could not load AData\n"
       ]
      },
      {
       "output_type": "stream",
       "stream": "stderr",
       "text": [
        "WARNING:sarpy.io.Adata_classes:Need precisely one parameter file *json, found: []\n"
       ]
      },
      {
       "output_type": "stream",
       "stream": "stderr",
       "text": [
        "WARNING:sarpy.io.Adata_classes:Could not load AData\n"
       ]
      },
      {
       "output_type": "stream",
       "stream": "stderr",
       "text": [
        "WARNING:sarpy.io.Adata_classes:Need precisely one parameter file *json, found: []\n"
       ]
      },
      {
       "output_type": "stream",
       "stream": "stderr",
       "text": [
        "WARNING:sarpy.io.Adata_classes:Could not load AData\n"
       ]
      },
      {
       "output_type": "stream",
       "stream": "stderr",
       "text": [
        "WARNING:sarpy.io.Adata_classes:Need precisely one parameter file *json, found: []\n"
       ]
      },
      {
       "output_type": "stream",
       "stream": "stderr",
       "text": [
        "WARNING:sarpy.io.Adata_classes:Could not load AData\n"
       ]
      },
      {
       "output_type": "stream",
       "stream": "stderr",
       "text": [
        "WARNING:sarpy.io.Adata_classes:Need precisely one parameter file *json, found: []\n"
       ]
      },
      {
       "output_type": "stream",
       "stream": "stderr",
       "text": [
        "WARNING:sarpy.io.Adata_classes:Could not load AData\n"
       ]
      },
      {
       "output_type": "stream",
       "stream": "stderr",
       "text": [
        "WARNING:sarpy.io.Adata_classes:Need precisely one parameter file *json, found: []\n"
       ]
      },
      {
       "output_type": "stream",
       "stream": "stderr",
       "text": [
        "WARNING:sarpy.io.Adata_classes:Could not load AData\n"
       ]
      },
      {
       "output_type": "stream",
       "stream": "stderr",
       "text": [
        "WARNING:sarpy.io.Adata_classes:Need precisely one parameter file *json, found: []\n"
       ]
      },
      {
       "output_type": "stream",
       "stream": "stderr",
       "text": [
        "WARNING:sarpy.io.Adata_classes:Could not load AData\n"
       ]
      },
      {
       "output_type": "stream",
       "stream": "stderr",
       "text": [
        "WARNING:sarpy.io.Adata_classes:Need precisely one parameter file *json, found: []\n"
       ]
      },
      {
       "output_type": "stream",
       "stream": "stderr",
       "text": [
        "WARNING:sarpy.io.Adata_classes:Could not load AData\n"
       ]
      },
      {
       "output_type": "stream",
       "stream": "stderr",
       "text": [
        "WARNING:sarpy.io.Adata_classes:Need precisely one parameter file *json, found: []\n"
       ]
      },
      {
       "output_type": "stream",
       "stream": "stderr",
       "text": [
        "WARNING:sarpy.io.Adata_classes:Could not load AData\n"
       ]
      },
      {
       "output_type": "stream",
       "stream": "stderr",
       "text": [
        "WARNING:sarpy.io.Adata_classes:Need precisely one parameter file *json, found: []\n"
       ]
      },
      {
       "output_type": "stream",
       "stream": "stderr",
       "text": [
        "WARNING:sarpy.io.Adata_classes:Could not load AData\n"
       ]
      },
      {
       "output_type": "stream",
       "stream": "stderr",
       "text": [
        "WARNING:sarpy.io.Adata_classes:Need precisely one parameter file *json, found: []\n"
       ]
      },
      {
       "output_type": "stream",
       "stream": "stderr",
       "text": [
        "WARNING:sarpy.io.Adata_classes:Could not load AData\n"
       ]
      },
      {
       "output_type": "stream",
       "stream": "stderr",
       "text": [
        "WARNING:sarpy.io.Adata_classes:Need precisely one parameter file *json, found: []\n"
       ]
      },
      {
       "output_type": "stream",
       "stream": "stderr",
       "text": [
        "WARNING:sarpy.io.Adata_classes:Could not load AData\n"
       ]
      },
      {
       "output_type": "stream",
       "stream": "stderr",
       "text": [
        "WARNING:sarpy.io.Adata_classes:Need precisely one parameter file *json, found: []\n"
       ]
      },
      {
       "output_type": "stream",
       "stream": "stderr",
       "text": [
        "WARNING:sarpy.io.Adata_classes:Could not load AData\n"
       ]
      },
      {
       "output_type": "stream",
       "stream": "stderr",
       "text": [
        "WARNING:sarpy.io.Adata_classes:Need precisely one parameter file *json, found: []\n"
       ]
      },
      {
       "output_type": "stream",
       "stream": "stderr",
       "text": [
        "WARNING:sarpy.io.Adata_classes:Could not load AData\n"
       ]
      },
      {
       "output_type": "stream",
       "stream": "stderr",
       "text": [
        "WARNING:sarpy.io.Adata_classes:Need precisely one parameter file *json, found: []\n"
       ]
      },
      {
       "output_type": "stream",
       "stream": "stderr",
       "text": [
        "WARNING:sarpy.io.Adata_classes:Could not load AData\n"
       ]
      },
      {
       "output_type": "stream",
       "stream": "stderr",
       "text": [
        "WARNING:sarpy.io.Adata_classes:Need precisely one parameter file *json, found: []\n"
       ]
      },
      {
       "output_type": "stream",
       "stream": "stderr",
       "text": [
        "WARNING:sarpy.io.Adata_classes:Could not load AData\n"
       ]
      },
      {
       "output_type": "stream",
       "stream": "stderr",
       "text": [
        "WARNING:sarpy.io.Adata_classes:Need precisely one parameter file *json, found: []\n"
       ]
      },
      {
       "output_type": "stream",
       "stream": "stderr",
       "text": [
        "WARNING:sarpy.io.Adata_classes:Could not load AData\n"
       ]
      },
      {
       "output_type": "stream",
       "stream": "stderr",
       "text": [
        "WARNING:sarpy.io.Adata_classes:Need precisely one parameter file *json, found: []\n"
       ]
      },
      {
       "output_type": "stream",
       "stream": "stderr",
       "text": [
        "WARNING:sarpy.io.Adata_classes:Could not load AData\n"
       ]
      },
      {
       "output_type": "stream",
       "stream": "stderr",
       "text": [
        "WARNING:sarpy.io.Adata_classes:Need precisely one parameter file *json, found: []\n"
       ]
      },
      {
       "output_type": "stream",
       "stream": "stderr",
       "text": [
        "WARNING:sarpy.io.Adata_classes:Could not load AData\n"
       ]
      },
      {
       "output_type": "stream",
       "stream": "stderr",
       "text": [
        "WARNING:sarpy.io.Adata_classes:Need precisely one parameter file *json, found: []\n"
       ]
      },
      {
       "output_type": "stream",
       "stream": "stderr",
       "text": [
        "WARNING:sarpy.io.Adata_classes:Could not load AData\n"
       ]
      },
      {
       "output_type": "stream",
       "stream": "stderr",
       "text": [
        "WARNING:sarpy.io.Adata_classes:Need precisely one parameter file *json, found: []\n"
       ]
      },
      {
       "output_type": "stream",
       "stream": "stderr",
       "text": [
        "WARNING:sarpy.io.Adata_classes:Could not load AData\n"
       ]
      },
      {
       "output_type": "stream",
       "stream": "stderr",
       "text": [
        "WARNING:sarpy.io.Adata_classes:Need precisely one parameter file *json, found: []\n"
       ]
      },
      {
       "output_type": "stream",
       "stream": "stderr",
       "text": [
        "WARNING:sarpy.io.Adata_classes:Could not load AData\n"
       ]
      },
      {
       "output_type": "stream",
       "stream": "stderr",
       "text": [
        "WARNING:sarpy.io.Adata_classes:Need precisely one parameter file *json, found: []\n"
       ]
      },
      {
       "output_type": "stream",
       "stream": "stderr",
       "text": [
        "WARNING:sarpy.io.Adata_classes:Could not load AData\n"
       ]
      },
      {
       "output_type": "stream",
       "stream": "stderr",
       "text": [
        "WARNING:sarpy.io.Adata_classes:Need precisely one parameter file *json, found: []\n"
       ]
      },
      {
       "output_type": "stream",
       "stream": "stderr",
       "text": [
        "WARNING:sarpy.io.Adata_classes:Could not load AData\n"
       ]
      },
      {
       "output_type": "stream",
       "stream": "stderr",
       "text": [
        "WARNING:sarpy.io.Adata_classes:Need precisely one parameter file *json, found: []\n"
       ]
      },
      {
       "output_type": "stream",
       "stream": "stderr",
       "text": [
        "WARNING:sarpy.io.Adata_classes:Could not load AData\n"
       ]
      },
      {
       "output_type": "stream",
       "stream": "stderr",
       "text": [
        "WARNING:sarpy.io.Adata_classes:Need precisely one parameter file *json, found: []\n"
       ]
      },
      {
       "output_type": "stream",
       "stream": "stderr",
       "text": [
        "WARNING:sarpy.io.Adata_classes:Could not load AData\n"
       ]
      },
      {
       "output_type": "stream",
       "stream": "stderr",
       "text": [
        "WARNING:sarpy.io.Adata_classes:Need precisely one parameter file *json, found: []\n"
       ]
      },
      {
       "output_type": "stream",
       "stream": "stderr",
       "text": [
        "WARNING:sarpy.io.Adata_classes:Could not load AData\n"
       ]
      },
      {
       "output_type": "stream",
       "stream": "stderr",
       "text": [
        "WARNING:sarpy.io.Adata_classes:Need precisely one parameter file *json, found: []\n"
       ]
      },
      {
       "output_type": "stream",
       "stream": "stderr",
       "text": [
        "WARNING:sarpy.io.Adata_classes:Could not load AData\n"
       ]
      },
      {
       "output_type": "stream",
       "stream": "stderr",
       "text": [
        "WARNING:sarpy.io.Adata_classes:Need precisely one parameter file *json, found: []\n"
       ]
      },
      {
       "output_type": "stream",
       "stream": "stderr",
       "text": [
        "WARNING:sarpy.io.Adata_classes:Could not load AData\n"
       ]
      },
      {
       "output_type": "stream",
       "stream": "stderr",
       "text": [
        "WARNING:sarpy.io.Adata_classes:Need precisely one parameter file *json, found: []\n"
       ]
      },
      {
       "output_type": "stream",
       "stream": "stderr",
       "text": [
        "WARNING:sarpy.io.Adata_classes:Could not load AData\n"
       ]
      },
      {
       "output_type": "stream",
       "stream": "stderr",
       "text": [
        "WARNING:sarpy.io.Adata_classes:Need precisely one parameter file *json, found: []\n"
       ]
      },
      {
       "output_type": "stream",
       "stream": "stderr",
       "text": [
        "WARNING:sarpy.io.Adata_classes:Could not load AData\n"
       ]
      },
      {
       "output_type": "stream",
       "stream": "stderr",
       "text": [
        "WARNING:sarpy.io.Adata_classes:Need precisely one parameter file *json, found: []\n"
       ]
      },
      {
       "output_type": "stream",
       "stream": "stderr",
       "text": [
        "WARNING:sarpy.io.Adata_classes:Could not load AData\n"
       ]
      },
      {
       "output_type": "stream",
       "stream": "stderr",
       "text": [
        "WARNING:sarpy.io.Adata_classes:Need precisely one parameter file *json, found: []\n"
       ]
      },
      {
       "output_type": "stream",
       "stream": "stderr",
       "text": [
        "WARNING:sarpy.io.Adata_classes:Could not load AData\n"
       ]
      },
      {
       "output_type": "stream",
       "stream": "stderr",
       "text": [
        "WARNING:sarpy.io.Adata_classes:Need precisely one parameter file *json, found: []\n"
       ]
      },
      {
       "output_type": "stream",
       "stream": "stderr",
       "text": [
        "WARNING:sarpy.io.Adata_classes:Could not load AData\n"
       ]
      },
      {
       "output_type": "stream",
       "stream": "stderr",
       "text": [
        "WARNING:sarpy.io.Adata_classes:Need precisely one parameter file *json, found: []\n"
       ]
      },
      {
       "output_type": "stream",
       "stream": "stderr",
       "text": [
        "WARNING:sarpy.io.Adata_classes:Could not load AData\n"
       ]
      },
      {
       "output_type": "stream",
       "stream": "stderr",
       "text": [
        "WARNING:sarpy.io.Adata_classes:Need precisely one parameter file *json, found: []\n"
       ]
      },
      {
       "output_type": "stream",
       "stream": "stderr",
       "text": [
        "WARNING:sarpy.io.Adata_classes:Could not load AData\n"
       ]
      },
      {
       "output_type": "stream",
       "stream": "stderr",
       "text": [
        "WARNING:sarpy.io.Adata_classes:Need precisely one parameter file *json, found: []\n"
       ]
      },
      {
       "output_type": "stream",
       "stream": "stderr",
       "text": [
        "WARNING:sarpy.io.Adata_classes:Could not load AData\n"
       ]
      },
      {
       "output_type": "stream",
       "stream": "stderr",
       "text": [
        "WARNING:sarpy.io.Adata_classes:Need precisely one parameter file *json, found: []\n"
       ]
      },
      {
       "output_type": "stream",
       "stream": "stderr",
       "text": [
        "WARNING:sarpy.io.Adata_classes:Could not load AData\n"
       ]
      },
      {
       "output_type": "stream",
       "stream": "stderr",
       "text": [
        "WARNING:sarpy.io.Adata_classes:Need precisely one parameter file *json, found: []\n"
       ]
      },
      {
       "output_type": "stream",
       "stream": "stderr",
       "text": [
        "WARNING:sarpy.io.Adata_classes:Could not load AData\n"
       ]
      },
      {
       "output_type": "stream",
       "stream": "stderr",
       "text": [
        "WARNING:sarpy.io.Adata_classes:Need precisely one parameter file *json, found: []\n"
       ]
      },
      {
       "output_type": "stream",
       "stream": "stderr",
       "text": [
        "WARNING:sarpy.io.Adata_classes:Could not load AData\n"
       ]
      },
      {
       "output_type": "stream",
       "stream": "stderr",
       "text": [
        "WARNING:sarpy.io.Adata_classes:Need precisely one parameter file *json, found: []\n"
       ]
      },
      {
       "output_type": "stream",
       "stream": "stderr",
       "text": [
        "WARNING:sarpy.io.Adata_classes:Could not load AData\n"
       ]
      },
      {
       "output_type": "stream",
       "stream": "stderr",
       "text": [
        "WARNING:sarpy.io.Adata_classes:Need precisely one parameter file *json, found: []\n"
       ]
      },
      {
       "output_type": "stream",
       "stream": "stderr",
       "text": [
        "WARNING:sarpy.io.Adata_classes:Could not load AData\n"
       ]
      },
      {
       "output_type": "stream",
       "stream": "stderr",
       "text": [
        "WARNING:sarpy.io.Adata_classes:Need precisely one parameter file *json, found: []\n"
       ]
      },
      {
       "output_type": "stream",
       "stream": "stderr",
       "text": [
        "WARNING:sarpy.io.Adata_classes:Could not load AData\n"
       ]
      },
      {
       "output_type": "stream",
       "stream": "stderr",
       "text": [
        "WARNING:sarpy.io.Adata_classes:Need precisely one parameter file *json, found: []\n"
       ]
      },
      {
       "output_type": "stream",
       "stream": "stderr",
       "text": [
        "WARNING:sarpy.io.Adata_classes:Could not load AData\n"
       ]
      },
      {
       "output_type": "stream",
       "stream": "stderr",
       "text": [
        "WARNING:sarpy.io.Adata_classes:Need precisely one parameter file *json, found: []\n"
       ]
      },
      {
       "output_type": "stream",
       "stream": "stderr",
       "text": [
        "WARNING:sarpy.io.Adata_classes:Could not load AData\n"
       ]
      },
      {
       "output_type": "stream",
       "stream": "stderr",
       "text": [
        "WARNING:sarpy.io.Adata_classes:Need precisely one parameter file *json, found: []\n"
       ]
      },
      {
       "output_type": "stream",
       "stream": "stderr",
       "text": [
        "WARNING:sarpy.io.Adata_classes:Could not load AData\n"
       ]
      },
      {
       "output_type": "stream",
       "stream": "stderr",
       "text": [
        "WARNING:sarpy.io.Adata_classes:Need precisely one parameter file *json, found: []\n"
       ]
      },
      {
       "output_type": "stream",
       "stream": "stderr",
       "text": [
        "WARNING:sarpy.io.Adata_classes:Could not load AData\n"
       ]
      },
      {
       "output_type": "stream",
       "stream": "stderr",
       "text": [
        "WARNING:sarpy.io.Adata_classes:Need precisely one parameter file *json, found: []\n"
       ]
      },
      {
       "output_type": "stream",
       "stream": "stderr",
       "text": [
        "WARNING:sarpy.io.Adata_classes:Could not load AData\n"
       ]
      },
      {
       "output_type": "stream",
       "stream": "stderr",
       "text": [
        "WARNING:sarpy.io.Adata_classes:Need precisely one parameter file *json, found: []\n"
       ]
      },
      {
       "output_type": "stream",
       "stream": "stderr",
       "text": [
        "WARNING:sarpy.io.Adata_classes:Could not load AData\n"
       ]
      },
      {
       "output_type": "stream",
       "stream": "stdout",
       "text": [
        "\n",
        "bulk_transfer_roi: auc60 not found in study herS3M08.4b1"
       ]
      },
      {
       "output_type": "stream",
       "stream": "stdout",
       "text": [
        "\n",
        "bulk_transfer_roi: auc60 not found in study herS3M08.441"
       ]
      },
      {
       "output_type": "stream",
       "stream": "stdout",
       "text": [
        "\n",
        "bulk_transfer_roi: Success. Saved auc60_roi in herS3M09.3J1/13"
       ]
      },
      {
       "output_type": "stream",
       "stream": "stdout",
       "text": [
        "\n",
        "bulk_transfer_roi: Success. Saved auc60_roi in herS3M09.3L1/13"
       ]
      },
      {
       "output_type": "stream",
       "stream": "stdout",
       "text": [
        "\n",
        "bulk_transfer_roi: Success. Saved auc60_roi in herS3M09.3Q1/13"
       ]
      },
      {
       "output_type": "stream",
       "stream": "stderr",
       "text": [
        "WARNING:sarpy.io.BRUKER_classes:Directory \"/Users/fmoosvi/bdata/stefan/nmr/herS3M09.3X1/13\" did not contain processed data (2dseq)\n"
       ]
      },
      {
       "output_type": "stream",
       "stream": "stderr",
       "text": [
        "WARNING:sarpy.io.BRUKER_classes:visu_pars file /Users/fmoosvi/bdata/stefan/nmr/herS3M09.3X1/13/pdata/1 not found\n",
        "\n"
       ]
      },
      {
       "output_type": "stream",
       "stream": "stderr",
       "text": [
        "WARNING:sarpy.io.Adata_classes:Need precisely one parameter file *json, found: []\n"
       ]
      },
      {
       "output_type": "stream",
       "stream": "stderr",
       "text": [
        "WARNING:sarpy.io.Adata_classes:Could not load AData\n"
       ]
      },
      {
       "output_type": "stream",
       "stream": "stderr",
       "text": [
        "WARNING:sarpy.io.Adata_classes:Need precisely one parameter file *json, found: []\n"
       ]
      },
      {
       "output_type": "stream",
       "stream": "stderr",
       "text": [
        "WARNING:sarpy.io.Adata_classes:Could not load AData\n"
       ]
      },
      {
       "output_type": "stream",
       "stream": "stderr",
       "text": [
        "WARNING:sarpy.io.Adata_classes:Need precisely one parameter file *json, found: []\n"
       ]
      },
      {
       "output_type": "stream",
       "stream": "stderr",
       "text": [
        "WARNING:sarpy.io.Adata_classes:Could not load AData\n"
       ]
      },
      {
       "output_type": "stream",
       "stream": "stderr",
       "text": [
        "WARNING:sarpy.io.Adata_classes:Need precisely one parameter file *json, found: []\n"
       ]
      },
      {
       "output_type": "stream",
       "stream": "stderr",
       "text": [
        "WARNING:sarpy.io.Adata_classes:Could not load AData\n"
       ]
      },
      {
       "output_type": "stream",
       "stream": "stderr",
       "text": [
        "WARNING:sarpy.io.Adata_classes:Need precisely one parameter file *json, found: []\n"
       ]
      },
      {
       "output_type": "stream",
       "stream": "stderr",
       "text": [
        "WARNING:sarpy.io.Adata_classes:Could not load AData\n"
       ]
      },
      {
       "output_type": "stream",
       "stream": "stderr",
       "text": [
        "WARNING:sarpy.io.Adata_classes:Need precisely one parameter file *json, found: []\n"
       ]
      },
      {
       "output_type": "stream",
       "stream": "stderr",
       "text": [
        "WARNING:sarpy.io.Adata_classes:Could not load AData\n"
       ]
      },
      {
       "output_type": "stream",
       "stream": "stderr",
       "text": [
        "WARNING:sarpy.io.Adata_classes:Need precisely one parameter file *json, found: []\n"
       ]
      },
      {
       "output_type": "stream",
       "stream": "stderr",
       "text": [
        "WARNING:sarpy.io.Adata_classes:Could not load AData\n"
       ]
      },
      {
       "output_type": "stream",
       "stream": "stderr",
       "text": [
        "WARNING:sarpy.io.Adata_classes:Need precisely one parameter file *json, found: []\n"
       ]
      },
      {
       "output_type": "stream",
       "stream": "stderr",
       "text": [
        "WARNING:sarpy.io.Adata_classes:Could not load AData\n"
       ]
      },
      {
       "output_type": "stream",
       "stream": "stderr",
       "text": [
        "WARNING:sarpy.io.Adata_classes:Need precisely one parameter file *json, found: []\n"
       ]
      },
      {
       "output_type": "stream",
       "stream": "stderr",
       "text": [
        "WARNING:sarpy.io.Adata_classes:Could not load AData\n"
       ]
      },
      {
       "output_type": "stream",
       "stream": "stderr",
       "text": [
        "WARNING:sarpy.io.Adata_classes:Need precisely one parameter file *json, found: []\n"
       ]
      },
      {
       "output_type": "stream",
       "stream": "stderr",
       "text": [
        "WARNING:sarpy.io.Adata_classes:Could not load AData\n"
       ]
      },
      {
       "output_type": "stream",
       "stream": "stderr",
       "text": [
        "WARNING:sarpy.io.Adata_classes:Need precisely one parameter file *json, found: []\n"
       ]
      },
      {
       "output_type": "stream",
       "stream": "stderr",
       "text": [
        "WARNING:sarpy.io.Adata_classes:Could not load AData\n"
       ]
      },
      {
       "output_type": "stream",
       "stream": "stderr",
       "text": [
        "WARNING:sarpy.io.Adata_classes:Need precisely one parameter file *json, found: []\n"
       ]
      },
      {
       "output_type": "stream",
       "stream": "stderr",
       "text": [
        "WARNING:sarpy.io.Adata_classes:Could not load AData\n"
       ]
      },
      {
       "output_type": "stream",
       "stream": "stderr",
       "text": [
        "WARNING:sarpy.io.Adata_classes:Need precisely one parameter file *json, found: []\n"
       ]
      },
      {
       "output_type": "stream",
       "stream": "stderr",
       "text": [
        "WARNING:sarpy.io.Adata_classes:Could not load AData\n"
       ]
      },
      {
       "output_type": "stream",
       "stream": "stderr",
       "text": [
        "WARNING:sarpy.io.Adata_classes:Need precisely one parameter file *json, found: []\n"
       ]
      },
      {
       "output_type": "stream",
       "stream": "stderr",
       "text": [
        "WARNING:sarpy.io.Adata_classes:Could not load AData\n"
       ]
      },
      {
       "output_type": "stream",
       "stream": "stderr",
       "text": [
        "WARNING:sarpy.io.Adata_classes:Need precisely one parameter file *json, found: []\n"
       ]
      },
      {
       "output_type": "stream",
       "stream": "stderr",
       "text": [
        "WARNING:sarpy.io.Adata_classes:Could not load AData\n"
       ]
      },
      {
       "output_type": "stream",
       "stream": "stderr",
       "text": [
        "WARNING:sarpy.io.Adata_classes:Need precisely one parameter file *json, found: []\n"
       ]
      },
      {
       "output_type": "stream",
       "stream": "stderr",
       "text": [
        "WARNING:sarpy.io.Adata_classes:Could not load AData\n"
       ]
      },
      {
       "output_type": "stream",
       "stream": "stderr",
       "text": [
        "WARNING:sarpy.io.Adata_classes:Need precisely one parameter file *json, found: []\n"
       ]
      },
      {
       "output_type": "stream",
       "stream": "stderr",
       "text": [
        "WARNING:sarpy.io.Adata_classes:Could not load AData\n"
       ]
      },
      {
       "output_type": "stream",
       "stream": "stderr",
       "text": [
        "WARNING:sarpy.io.Adata_classes:Need precisely one parameter file *json, found: []\n"
       ]
      },
      {
       "output_type": "stream",
       "stream": "stderr",
       "text": [
        "WARNING:sarpy.io.Adata_classes:Could not load AData\n"
       ]
      },
      {
       "output_type": "stream",
       "stream": "stderr",
       "text": [
        "WARNING:sarpy.io.Adata_classes:Need precisely one parameter file *json, found: []\n"
       ]
      },
      {
       "output_type": "stream",
       "stream": "stderr",
       "text": [
        "WARNING:sarpy.io.Adata_classes:Could not load AData\n"
       ]
      },
      {
       "output_type": "stream",
       "stream": "stderr",
       "text": [
        "WARNING:sarpy.io.Adata_classes:Need precisely one parameter file *json, found: []\n"
       ]
      },
      {
       "output_type": "stream",
       "stream": "stderr",
       "text": [
        "WARNING:sarpy.io.Adata_classes:Could not load AData\n"
       ]
      },
      {
       "output_type": "stream",
       "stream": "stderr",
       "text": [
        "WARNING:sarpy.io.Adata_classes:Need precisely one parameter file *json, found: []\n"
       ]
      },
      {
       "output_type": "stream",
       "stream": "stderr",
       "text": [
        "WARNING:sarpy.io.Adata_classes:Could not load AData\n"
       ]
      },
      {
       "output_type": "stream",
       "stream": "stderr",
       "text": [
        "WARNING:sarpy.io.Adata_classes:Need precisely one parameter file *json, found: []\n"
       ]
      },
      {
       "output_type": "stream",
       "stream": "stderr",
       "text": [
        "WARNING:sarpy.io.Adata_classes:Could not load AData\n"
       ]
      },
      {
       "output_type": "stream",
       "stream": "stderr",
       "text": [
        "WARNING:sarpy.io.Adata_classes:Need precisely one parameter file *json, found: []\n"
       ]
      },
      {
       "output_type": "stream",
       "stream": "stderr",
       "text": [
        "WARNING:sarpy.io.Adata_classes:Could not load AData\n"
       ]
      },
      {
       "output_type": "stream",
       "stream": "stderr",
       "text": [
        "WARNING:sarpy.io.Adata_classes:Need precisely one parameter file *json, found: []\n"
       ]
      },
      {
       "output_type": "stream",
       "stream": "stderr",
       "text": [
        "WARNING:sarpy.io.Adata_classes:Could not load AData\n"
       ]
      },
      {
       "output_type": "stream",
       "stream": "stderr",
       "text": [
        "WARNING:sarpy.io.Adata_classes:Need precisely one parameter file *json, found: []\n"
       ]
      },
      {
       "output_type": "stream",
       "stream": "stderr",
       "text": [
        "WARNING:sarpy.io.Adata_classes:Could not load AData\n"
       ]
      },
      {
       "output_type": "stream",
       "stream": "stderr",
       "text": [
        "WARNING:sarpy.io.Adata_classes:Need precisely one parameter file *json, found: []\n"
       ]
      },
      {
       "output_type": "stream",
       "stream": "stderr",
       "text": [
        "WARNING:sarpy.io.Adata_classes:Could not load AData\n"
       ]
      },
      {
       "output_type": "stream",
       "stream": "stderr",
       "text": [
        "WARNING:sarpy.io.Adata_classes:Need precisely one parameter file *json, found: []\n"
       ]
      },
      {
       "output_type": "stream",
       "stream": "stderr",
       "text": [
        "WARNING:sarpy.io.Adata_classes:Could not load AData\n"
       ]
      },
      {
       "output_type": "stream",
       "stream": "stderr",
       "text": [
        "WARNING:sarpy.io.Adata_classes:Need precisely one parameter file *json, found: []\n"
       ]
      },
      {
       "output_type": "stream",
       "stream": "stderr",
       "text": [
        "WARNING:sarpy.io.Adata_classes:Could not load AData\n"
       ]
      },
      {
       "output_type": "stream",
       "stream": "stderr",
       "text": [
        "WARNING:sarpy.io.Adata_classes:Need precisely one parameter file *json, found: []\n"
       ]
      },
      {
       "output_type": "stream",
       "stream": "stderr",
       "text": [
        "WARNING:sarpy.io.Adata_classes:Could not load AData\n"
       ]
      },
      {
       "output_type": "stream",
       "stream": "stderr",
       "text": [
        "WARNING:sarpy.io.Adata_classes:Need precisely one parameter file *json, found: []\n"
       ]
      },
      {
       "output_type": "stream",
       "stream": "stderr",
       "text": [
        "WARNING:sarpy.io.Adata_classes:Could not load AData\n"
       ]
      },
      {
       "output_type": "stream",
       "stream": "stderr",
       "text": [
        "WARNING:sarpy.io.Adata_classes:Need precisely one parameter file *json, found: []\n"
       ]
      },
      {
       "output_type": "stream",
       "stream": "stderr",
       "text": [
        "WARNING:sarpy.io.Adata_classes:Could not load AData\n"
       ]
      },
      {
       "output_type": "stream",
       "stream": "stderr",
       "text": [
        "WARNING:sarpy.io.Adata_classes:Need precisely one parameter file *json, found: []\n"
       ]
      },
      {
       "output_type": "stream",
       "stream": "stderr",
       "text": [
        "WARNING:sarpy.io.Adata_classes:Could not load AData\n"
       ]
      },
      {
       "output_type": "stream",
       "stream": "stderr",
       "text": [
        "WARNING:sarpy.io.Adata_classes:Need precisely one parameter file *json, found: []\n"
       ]
      },
      {
       "output_type": "stream",
       "stream": "stderr",
       "text": [
        "WARNING:sarpy.io.Adata_classes:Could not load AData\n"
       ]
      },
      {
       "output_type": "stream",
       "stream": "stderr",
       "text": [
        "WARNING:sarpy.io.Adata_classes:Need precisely one parameter file *json, found: []\n"
       ]
      },
      {
       "output_type": "stream",
       "stream": "stderr",
       "text": [
        "WARNING:sarpy.io.Adata_classes:Could not load AData\n"
       ]
      },
      {
       "output_type": "stream",
       "stream": "stderr",
       "text": [
        "WARNING:sarpy.io.Adata_classes:Need precisely one parameter file *json, found: []\n"
       ]
      },
      {
       "output_type": "stream",
       "stream": "stderr",
       "text": [
        "WARNING:sarpy.io.Adata_classes:Could not load AData\n"
       ]
      },
      {
       "output_type": "stream",
       "stream": "stderr",
       "text": [
        "WARNING:sarpy.io.Adata_classes:Need precisely one parameter file *json, found: []\n"
       ]
      },
      {
       "output_type": "stream",
       "stream": "stderr",
       "text": [
        "WARNING:sarpy.io.Adata_classes:Could not load AData\n"
       ]
      },
      {
       "output_type": "stream",
       "stream": "stderr",
       "text": [
        "WARNING:sarpy.io.Adata_classes:Need precisely one parameter file *json, found: []\n"
       ]
      },
      {
       "output_type": "stream",
       "stream": "stderr",
       "text": [
        "WARNING:sarpy.io.Adata_classes:Could not load AData\n"
       ]
      },
      {
       "output_type": "stream",
       "stream": "stderr",
       "text": [
        "WARNING:sarpy.io.Adata_classes:Need precisely one parameter file *json, found: []\n"
       ]
      },
      {
       "output_type": "stream",
       "stream": "stderr",
       "text": [
        "WARNING:sarpy.io.Adata_classes:Could not load AData\n"
       ]
      },
      {
       "output_type": "stream",
       "stream": "stderr",
       "text": [
        "WARNING:sarpy.io.Adata_classes:Need precisely one parameter file *json, found: []\n"
       ]
      },
      {
       "output_type": "stream",
       "stream": "stderr",
       "text": [
        "WARNING:sarpy.io.Adata_classes:Could not load AData\n"
       ]
      },
      {
       "output_type": "stream",
       "stream": "stderr",
       "text": [
        "WARNING:sarpy.io.Adata_classes:Need precisely one parameter file *json, found: []\n"
       ]
      },
      {
       "output_type": "stream",
       "stream": "stderr",
       "text": [
        "WARNING:sarpy.io.Adata_classes:Could not load AData\n"
       ]
      },
      {
       "output_type": "stream",
       "stream": "stderr",
       "text": [
        "WARNING:sarpy.io.Adata_classes:Need precisely one parameter file *json, found: []\n"
       ]
      },
      {
       "output_type": "stream",
       "stream": "stderr",
       "text": [
        "WARNING:sarpy.io.Adata_classes:Could not load AData\n"
       ]
      },
      {
       "output_type": "stream",
       "stream": "stderr",
       "text": [
        "WARNING:sarpy.io.Adata_classes:Need precisely one parameter file *json, found: []\n"
       ]
      },
      {
       "output_type": "stream",
       "stream": "stderr",
       "text": [
        "WARNING:sarpy.io.Adata_classes:Could not load AData\n"
       ]
      },
      {
       "output_type": "stream",
       "stream": "stderr",
       "text": [
        "WARNING:sarpy.io.Adata_classes:Need precisely one parameter file *json, found: []\n"
       ]
      },
      {
       "output_type": "stream",
       "stream": "stderr",
       "text": [
        "WARNING:sarpy.io.Adata_classes:Could not load AData\n"
       ]
      },
      {
       "output_type": "stream",
       "stream": "stderr",
       "text": [
        "WARNING:sarpy.io.Adata_classes:Need precisely one parameter file *json, found: []\n"
       ]
      },
      {
       "output_type": "stream",
       "stream": "stderr",
       "text": [
        "WARNING:sarpy.io.Adata_classes:Could not load AData\n"
       ]
      },
      {
       "output_type": "stream",
       "stream": "stderr",
       "text": [
        "WARNING:sarpy.io.Adata_classes:Need precisely one parameter file *json, found: []\n"
       ]
      },
      {
       "output_type": "stream",
       "stream": "stderr",
       "text": [
        "WARNING:sarpy.io.Adata_classes:Could not load AData\n"
       ]
      },
      {
       "output_type": "stream",
       "stream": "stderr",
       "text": [
        "WARNING:sarpy.io.Adata_classes:Need precisely one parameter file *json, found: []\n"
       ]
      },
      {
       "output_type": "stream",
       "stream": "stderr",
       "text": [
        "WARNING:sarpy.io.Adata_classes:Could not load AData\n"
       ]
      },
      {
       "output_type": "stream",
       "stream": "stderr",
       "text": [
        "WARNING:sarpy.io.Adata_classes:Need precisely one parameter file *json, found: []\n"
       ]
      },
      {
       "output_type": "stream",
       "stream": "stderr",
       "text": [
        "WARNING:sarpy.io.Adata_classes:Could not load AData\n"
       ]
      },
      {
       "output_type": "stream",
       "stream": "stderr",
       "text": [
        "WARNING:sarpy.io.Adata_classes:Need precisely one parameter file *json, found: []\n"
       ]
      },
      {
       "output_type": "stream",
       "stream": "stderr",
       "text": [
        "WARNING:sarpy.io.Adata_classes:Could not load AData\n"
       ]
      },
      {
       "output_type": "stream",
       "stream": "stderr",
       "text": [
        "WARNING:sarpy.io.Adata_classes:Need precisely one parameter file *json, found: []\n"
       ]
      },
      {
       "output_type": "stream",
       "stream": "stderr",
       "text": [
        "WARNING:sarpy.io.Adata_classes:Could not load AData\n"
       ]
      },
      {
       "output_type": "stream",
       "stream": "stderr",
       "text": [
        "WARNING:sarpy.io.Adata_classes:Need precisely one parameter file *json, found: []\n"
       ]
      },
      {
       "output_type": "stream",
       "stream": "stderr",
       "text": [
        "WARNING:sarpy.io.Adata_classes:Could not load AData\n"
       ]
      },
      {
       "output_type": "stream",
       "stream": "stderr",
       "text": [
        "WARNING:sarpy.io.Adata_classes:Need precisely one parameter file *json, found: []\n"
       ]
      },
      {
       "output_type": "stream",
       "stream": "stderr",
       "text": [
        "WARNING:sarpy.io.Adata_classes:Could not load AData\n"
       ]
      },
      {
       "output_type": "stream",
       "stream": "stderr",
       "text": [
        "WARNING:sarpy.io.Adata_classes:Need precisely one parameter file *json, found: []\n"
       ]
      },
      {
       "output_type": "stream",
       "stream": "stderr",
       "text": [
        "WARNING:sarpy.io.Adata_classes:Could not load AData\n"
       ]
      },
      {
       "output_type": "stream",
       "stream": "stderr",
       "text": [
        "WARNING:sarpy.io.Adata_classes:Need precisely one parameter file *json, found: []\n"
       ]
      },
      {
       "output_type": "stream",
       "stream": "stderr",
       "text": [
        "WARNING:sarpy.io.Adata_classes:Could not load AData\n"
       ]
      },
      {
       "output_type": "stream",
       "stream": "stderr",
       "text": [
        "WARNING:sarpy.io.Adata_classes:Need precisely one parameter file *json, found: []\n"
       ]
      },
      {
       "output_type": "stream",
       "stream": "stderr",
       "text": [
        "WARNING:sarpy.io.Adata_classes:Could not load AData\n"
       ]
      },
      {
       "output_type": "stream",
       "stream": "stderr",
       "text": [
        "WARNING:sarpy.io.Adata_classes:Need precisely one parameter file *json, found: []\n"
       ]
      },
      {
       "output_type": "stream",
       "stream": "stderr",
       "text": [
        "WARNING:sarpy.io.Adata_classes:Could not load AData\n"
       ]
      },
      {
       "output_type": "stream",
       "stream": "stderr",
       "text": [
        "WARNING:sarpy.io.Adata_classes:Need precisely one parameter file *json, found: []\n"
       ]
      },
      {
       "output_type": "stream",
       "stream": "stderr",
       "text": [
        "WARNING:sarpy.io.Adata_classes:Could not load AData\n"
       ]
      },
      {
       "output_type": "stream",
       "stream": "stderr",
       "text": [
        "WARNING:sarpy.io.Adata_classes:Need precisely one parameter file *json, found: []\n"
       ]
      },
      {
       "output_type": "stream",
       "stream": "stderr",
       "text": [
        "WARNING:sarpy.io.Adata_classes:Could not load AData\n"
       ]
      },
      {
       "output_type": "stream",
       "stream": "stderr",
       "text": [
        "WARNING:sarpy.io.Adata_classes:Need precisely one parameter file *json, found: []\n"
       ]
      },
      {
       "output_type": "stream",
       "stream": "stderr",
       "text": [
        "WARNING:sarpy.io.Adata_classes:Could not load AData\n"
       ]
      },
      {
       "output_type": "stream",
       "stream": "stderr",
       "text": [
        "WARNING:sarpy.io.Adata_classes:Need precisely one parameter file *json, found: []\n"
       ]
      },
      {
       "output_type": "stream",
       "stream": "stderr",
       "text": [
        "WARNING:sarpy.io.Adata_classes:Could not load AData\n"
       ]
      },
      {
       "output_type": "stream",
       "stream": "stderr",
       "text": [
        "WARNING:sarpy.io.Adata_classes:Need precisely one parameter file *json, found: []\n"
       ]
      },
      {
       "output_type": "stream",
       "stream": "stderr",
       "text": [
        "WARNING:sarpy.io.Adata_classes:Could not load AData\n"
       ]
      },
      {
       "output_type": "stream",
       "stream": "stderr",
       "text": [
        "WARNING:sarpy.io.Adata_classes:Need precisely one parameter file *json, found: []\n"
       ]
      },
      {
       "output_type": "stream",
       "stream": "stderr",
       "text": [
        "WARNING:sarpy.io.Adata_classes:Could not load AData\n"
       ]
      },
      {
       "output_type": "stream",
       "stream": "stderr",
       "text": [
        "WARNING:sarpy.io.Adata_classes:Need precisely one parameter file *json, found: []\n"
       ]
      },
      {
       "output_type": "stream",
       "stream": "stderr",
       "text": [
        "WARNING:sarpy.io.Adata_classes:Could not load AData\n"
       ]
      },
      {
       "output_type": "stream",
       "stream": "stderr",
       "text": [
        "WARNING:sarpy.io.Adata_classes:Need precisely one parameter file *json, found: []\n"
       ]
      },
      {
       "output_type": "stream",
       "stream": "stderr",
       "text": [
        "WARNING:sarpy.io.Adata_classes:Could not load AData\n"
       ]
      },
      {
       "output_type": "stream",
       "stream": "stderr",
       "text": [
        "WARNING:sarpy.io.Adata_classes:Need precisely one parameter file *json, found: []\n"
       ]
      },
      {
       "output_type": "stream",
       "stream": "stderr",
       "text": [
        "WARNING:sarpy.io.Adata_classes:Could not load AData\n"
       ]
      },
      {
       "output_type": "stream",
       "stream": "stderr",
       "text": [
        "WARNING:sarpy.io.Adata_classes:Need precisely one parameter file *json, found: []\n"
       ]
      },
      {
       "output_type": "stream",
       "stream": "stderr",
       "text": [
        "WARNING:sarpy.io.Adata_classes:Could not load AData\n"
       ]
      },
      {
       "output_type": "stream",
       "stream": "stderr",
       "text": [
        "WARNING:sarpy.io.Adata_classes:Need precisely one parameter file *json, found: []\n"
       ]
      },
      {
       "output_type": "stream",
       "stream": "stderr",
       "text": [
        "WARNING:sarpy.io.Adata_classes:Could not load AData\n"
       ]
      },
      {
       "output_type": "stream",
       "stream": "stderr",
       "text": [
        "WARNING:sarpy.io.Adata_classes:Need precisely one parameter file *json, found: []\n"
       ]
      },
      {
       "output_type": "stream",
       "stream": "stderr",
       "text": [
        "WARNING:sarpy.io.Adata_classes:Could not load AData\n"
       ]
      },
      {
       "output_type": "stream",
       "stream": "stderr",
       "text": [
        "WARNING:sarpy.io.Adata_classes:Need precisely one parameter file *json, found: []\n"
       ]
      },
      {
       "output_type": "stream",
       "stream": "stderr",
       "text": [
        "WARNING:sarpy.io.Adata_classes:Could not load AData\n"
       ]
      },
      {
       "output_type": "stream",
       "stream": "stderr",
       "text": [
        "WARNING:sarpy.io.Adata_classes:Need precisely one parameter file *json, found: []\n"
       ]
      },
      {
       "output_type": "stream",
       "stream": "stderr",
       "text": [
        "WARNING:sarpy.io.Adata_classes:Could not load AData\n"
       ]
      },
      {
       "output_type": "stream",
       "stream": "stderr",
       "text": [
        "WARNING:sarpy.io.Adata_classes:Need precisely one parameter file *json, found: []\n"
       ]
      },
      {
       "output_type": "stream",
       "stream": "stderr",
       "text": [
        "WARNING:sarpy.io.Adata_classes:Could not load AData\n"
       ]
      },
      {
       "output_type": "stream",
       "stream": "stderr",
       "text": [
        "WARNING:sarpy.io.Adata_classes:Need precisely one parameter file *json, found: []\n"
       ]
      },
      {
       "output_type": "stream",
       "stream": "stderr",
       "text": [
        "WARNING:sarpy.io.Adata_classes:Could not load AData\n"
       ]
      },
      {
       "output_type": "stream",
       "stream": "stderr",
       "text": [
        "WARNING:sarpy.io.Adata_classes:Need precisely one parameter file *json, found: []\n"
       ]
      },
      {
       "output_type": "stream",
       "stream": "stderr",
       "text": [
        "WARNING:sarpy.io.Adata_classes:Could not load AData\n"
       ]
      },
      {
       "output_type": "stream",
       "stream": "stderr",
       "text": [
        "WARNING:sarpy.io.Adata_classes:Need precisely one parameter file *json, found: []\n"
       ]
      },
      {
       "output_type": "stream",
       "stream": "stderr",
       "text": [
        "WARNING:sarpy.io.Adata_classes:Could not load AData\n"
       ]
      },
      {
       "output_type": "stream",
       "stream": "stderr",
       "text": [
        "WARNING:sarpy.io.Adata_classes:Need precisely one parameter file *json, found: []\n"
       ]
      },
      {
       "output_type": "stream",
       "stream": "stderr",
       "text": [
        "WARNING:sarpy.io.Adata_classes:Could not load AData\n"
       ]
      },
      {
       "output_type": "stream",
       "stream": "stderr",
       "text": [
        "WARNING:sarpy.io.Adata_classes:Need precisely one parameter file *json, found: []\n"
       ]
      },
      {
       "output_type": "stream",
       "stream": "stderr",
       "text": [
        "WARNING:sarpy.io.Adata_classes:Could not load AData\n"
       ]
      },
      {
       "output_type": "stream",
       "stream": "stderr",
       "text": [
        "WARNING:sarpy.io.Adata_classes:Need precisely one parameter file *json, found: []\n"
       ]
      },
      {
       "output_type": "stream",
       "stream": "stderr",
       "text": [
        "WARNING:sarpy.io.Adata_classes:Could not load AData\n"
       ]
      },
      {
       "output_type": "stream",
       "stream": "stderr",
       "text": [
        "WARNING:sarpy.io.Adata_classes:Need precisely one parameter file *json, found: []\n"
       ]
      },
      {
       "output_type": "stream",
       "stream": "stderr",
       "text": [
        "WARNING:sarpy.io.Adata_classes:Could not load AData\n"
       ]
      },
      {
       "output_type": "stream",
       "stream": "stderr",
       "text": [
        "WARNING:sarpy.io.Adata_classes:Need precisely one parameter file *json, found: []\n"
       ]
      },
      {
       "output_type": "stream",
       "stream": "stderr",
       "text": [
        "WARNING:sarpy.io.Adata_classes:Could not load AData\n"
       ]
      },
      {
       "output_type": "stream",
       "stream": "stderr",
       "text": [
        "WARNING:sarpy.io.Adata_classes:Need precisely one parameter file *json, found: []\n"
       ]
      },
      {
       "output_type": "stream",
       "stream": "stderr",
       "text": [
        "WARNING:sarpy.io.Adata_classes:Could not load AData\n"
       ]
      },
      {
       "output_type": "stream",
       "stream": "stderr",
       "text": [
        "WARNING:sarpy.io.Adata_classes:Need precisely one parameter file *json, found: []\n"
       ]
      },
      {
       "output_type": "stream",
       "stream": "stderr",
       "text": [
        "WARNING:sarpy.io.Adata_classes:Could not load AData\n"
       ]
      },
      {
       "output_type": "stream",
       "stream": "stderr",
       "text": [
        "WARNING:sarpy.io.Adata_classes:Need precisely one parameter file *json, found: []\n"
       ]
      },
      {
       "output_type": "stream",
       "stream": "stderr",
       "text": [
        "WARNING:sarpy.io.Adata_classes:Could not load AData\n"
       ]
      },
      {
       "output_type": "stream",
       "stream": "stderr",
       "text": [
        "WARNING:sarpy.io.Adata_classes:Need precisely one parameter file *json, found: []\n"
       ]
      },
      {
       "output_type": "stream",
       "stream": "stderr",
       "text": [
        "WARNING:sarpy.io.Adata_classes:Could not load AData\n"
       ]
      },
      {
       "output_type": "stream",
       "stream": "stderr",
       "text": [
        "WARNING:sarpy.io.Adata_classes:Need precisely one parameter file *json, found: []\n"
       ]
      },
      {
       "output_type": "stream",
       "stream": "stderr",
       "text": [
        "WARNING:sarpy.io.Adata_classes:Could not load AData\n"
       ]
      },
      {
       "output_type": "stream",
       "stream": "stderr",
       "text": [
        "WARNING:sarpy.io.Adata_classes:Need precisely one parameter file *json, found: []\n"
       ]
      },
      {
       "output_type": "stream",
       "stream": "stderr",
       "text": [
        "WARNING:sarpy.io.Adata_classes:Could not load AData\n"
       ]
      },
      {
       "output_type": "stream",
       "stream": "stderr",
       "text": [
        "WARNING:sarpy.io.Adata_classes:Need precisely one parameter file *json, found: []\n"
       ]
      },
      {
       "output_type": "stream",
       "stream": "stderr",
       "text": [
        "WARNING:sarpy.io.Adata_classes:Could not load AData\n"
       ]
      },
      {
       "output_type": "stream",
       "stream": "stderr",
       "text": [
        "WARNING:sarpy.io.Adata_classes:Need precisely one parameter file *json, found: []\n"
       ]
      },
      {
       "output_type": "stream",
       "stream": "stderr",
       "text": [
        "WARNING:sarpy.io.Adata_classes:Could not load AData\n"
       ]
      },
      {
       "output_type": "stream",
       "stream": "stderr",
       "text": [
        "WARNING:sarpy.io.Adata_classes:Need precisely one parameter file *json, found: []\n"
       ]
      },
      {
       "output_type": "stream",
       "stream": "stderr",
       "text": [
        "WARNING:sarpy.io.Adata_classes:Could not load AData\n"
       ]
      },
      {
       "output_type": "stream",
       "stream": "stderr",
       "text": [
        "WARNING:sarpy.io.Adata_classes:Need precisely one parameter file *json, found: []\n"
       ]
      },
      {
       "output_type": "stream",
       "stream": "stderr",
       "text": [
        "WARNING:sarpy.io.Adata_classes:Could not load AData\n"
       ]
      },
      {
       "output_type": "stream",
       "stream": "stderr",
       "text": [
        "WARNING:sarpy.io.Adata_classes:Need precisely one parameter file *json, found: []\n"
       ]
      },
      {
       "output_type": "stream",
       "stream": "stderr",
       "text": [
        "WARNING:sarpy.io.Adata_classes:Could not load AData\n"
       ]
      },
      {
       "output_type": "stream",
       "stream": "stderr",
       "text": [
        "WARNING:sarpy.io.Adata_classes:Need precisely one parameter file *json, found: []\n"
       ]
      },
      {
       "output_type": "stream",
       "stream": "stderr",
       "text": [
        "WARNING:sarpy.io.Adata_classes:Could not load AData\n"
       ]
      },
      {
       "output_type": "stream",
       "stream": "stderr",
       "text": [
        "WARNING:sarpy.io.Adata_classes:Need precisely one parameter file *json, found: []\n"
       ]
      },
      {
       "output_type": "stream",
       "stream": "stderr",
       "text": [
        "WARNING:sarpy.io.Adata_classes:Could not load AData\n"
       ]
      },
      {
       "output_type": "stream",
       "stream": "stderr",
       "text": [
        "WARNING:sarpy.io.Adata_classes:Need precisely one parameter file *json, found: []\n"
       ]
      },
      {
       "output_type": "stream",
       "stream": "stderr",
       "text": [
        "WARNING:sarpy.io.Adata_classes:Could not load AData\n"
       ]
      },
      {
       "output_type": "stream",
       "stream": "stderr",
       "text": [
        "WARNING:sarpy.io.Adata_classes:Need precisely one parameter file *json, found: []\n"
       ]
      },
      {
       "output_type": "stream",
       "stream": "stderr",
       "text": [
        "WARNING:sarpy.io.Adata_classes:Could not load AData\n"
       ]
      },
      {
       "output_type": "stream",
       "stream": "stderr",
       "text": [
        "WARNING:sarpy.io.Adata_classes:Need precisely one parameter file *json, found: []\n"
       ]
      },
      {
       "output_type": "stream",
       "stream": "stderr",
       "text": [
        "WARNING:sarpy.io.Adata_classes:Could not load AData\n"
       ]
      },
      {
       "output_type": "stream",
       "stream": "stderr",
       "text": [
        "WARNING:sarpy.io.Adata_classes:Need precisely one parameter file *json, found: []\n"
       ]
      },
      {
       "output_type": "stream",
       "stream": "stderr",
       "text": [
        "WARNING:sarpy.io.Adata_classes:Could not load AData\n"
       ]
      },
      {
       "output_type": "stream",
       "stream": "stderr",
       "text": [
        "WARNING:sarpy.io.Adata_classes:Need precisely one parameter file *json, found: []\n"
       ]
      },
      {
       "output_type": "stream",
       "stream": "stderr",
       "text": [
        "WARNING:sarpy.io.Adata_classes:Could not load AData\n"
       ]
      },
      {
       "output_type": "stream",
       "stream": "stderr",
       "text": [
        "WARNING:sarpy.io.Adata_classes:Need precisely one parameter file *json, found: []\n"
       ]
      },
      {
       "output_type": "stream",
       "stream": "stderr",
       "text": [
        "WARNING:sarpy.io.Adata_classes:Could not load AData\n"
       ]
      },
      {
       "output_type": "stream",
       "stream": "stderr",
       "text": [
        "WARNING:sarpy.io.Adata_classes:Need precisely one parameter file *json, found: []\n"
       ]
      },
      {
       "output_type": "stream",
       "stream": "stderr",
       "text": [
        "WARNING:sarpy.io.Adata_classes:Could not load AData\n"
       ]
      },
      {
       "output_type": "stream",
       "stream": "stderr",
       "text": [
        "WARNING:sarpy.io.Adata_classes:Need precisely one parameter file *json, found: []\n"
       ]
      },
      {
       "output_type": "stream",
       "stream": "stderr",
       "text": [
        "WARNING:sarpy.io.Adata_classes:Could not load AData\n"
       ]
      },
      {
       "output_type": "stream",
       "stream": "stderr",
       "text": [
        "WARNING:sarpy.io.Adata_classes:Need precisely one parameter file *json, found: []\n"
       ]
      },
      {
       "output_type": "stream",
       "stream": "stderr",
       "text": [
        "WARNING:sarpy.io.Adata_classes:Could not load AData\n"
       ]
      },
      {
       "output_type": "stream",
       "stream": "stderr",
       "text": [
        "WARNING:sarpy.io.Adata_classes:Need precisely one parameter file *json, found: []\n"
       ]
      },
      {
       "output_type": "stream",
       "stream": "stderr",
       "text": [
        "WARNING:sarpy.io.Adata_classes:Could not load AData\n"
       ]
      },
      {
       "output_type": "stream",
       "stream": "stderr",
       "text": [
        "WARNING:sarpy.io.Adata_classes:Need precisely one parameter file *json, found: []\n"
       ]
      },
      {
       "output_type": "stream",
       "stream": "stderr",
       "text": [
        "WARNING:sarpy.io.Adata_classes:Could not load AData\n"
       ]
      },
      {
       "output_type": "stream",
       "stream": "stderr",
       "text": [
        "WARNING:sarpy.io.Adata_classes:Need precisely one parameter file *json, found: []\n"
       ]
      },
      {
       "output_type": "stream",
       "stream": "stderr",
       "text": [
        "WARNING:sarpy.io.Adata_classes:Could not load AData\n"
       ]
      },
      {
       "output_type": "stream",
       "stream": "stderr",
       "text": [
        "WARNING:sarpy.io.Adata_classes:Need precisely one parameter file *json, found: []\n"
       ]
      },
      {
       "output_type": "stream",
       "stream": "stderr",
       "text": [
        "WARNING:sarpy.io.Adata_classes:Could not load AData\n"
       ]
      },
      {
       "output_type": "stream",
       "stream": "stderr",
       "text": [
        "WARNING:sarpy.io.Adata_classes:Need precisely one parameter file *json, found: []\n"
       ]
      },
      {
       "output_type": "stream",
       "stream": "stderr",
       "text": [
        "WARNING:sarpy.io.Adata_classes:Could not load AData\n"
       ]
      },
      {
       "output_type": "stream",
       "stream": "stderr",
       "text": [
        "WARNING:sarpy.io.Adata_classes:Need precisely one parameter file *json, found: []\n"
       ]
      },
      {
       "output_type": "stream",
       "stream": "stderr",
       "text": [
        "WARNING:sarpy.io.Adata_classes:Could not load AData\n"
       ]
      },
      {
       "output_type": "stream",
       "stream": "stderr",
       "text": [
        "WARNING:sarpy.io.Adata_classes:Need precisely one parameter file *json, found: []\n"
       ]
      },
      {
       "output_type": "stream",
       "stream": "stderr",
       "text": [
        "WARNING:sarpy.io.Adata_classes:Could not load AData\n"
       ]
      },
      {
       "output_type": "stream",
       "stream": "stderr",
       "text": [
        "WARNING:sarpy.io.Adata_classes:Need precisely one parameter file *json, found: []\n"
       ]
      },
      {
       "output_type": "stream",
       "stream": "stderr",
       "text": [
        "WARNING:sarpy.io.Adata_classes:Could not load AData\n"
       ]
      },
      {
       "output_type": "stream",
       "stream": "stderr",
       "text": [
        "WARNING:sarpy.io.Adata_classes:Need precisely one parameter file *json, found: []\n"
       ]
      },
      {
       "output_type": "stream",
       "stream": "stderr",
       "text": [
        "WARNING:sarpy.io.Adata_classes:Could not load AData\n"
       ]
      },
      {
       "output_type": "stream",
       "stream": "stderr",
       "text": [
        "WARNING:sarpy.io.Adata_classes:Need precisely one parameter file *json, found: []\n"
       ]
      },
      {
       "output_type": "stream",
       "stream": "stderr",
       "text": [
        "WARNING:sarpy.io.Adata_classes:Could not load AData\n"
       ]
      },
      {
       "output_type": "stream",
       "stream": "stderr",
       "text": [
        "WARNING:sarpy.io.Adata_classes:Need precisely one parameter file *json, found: []\n"
       ]
      },
      {
       "output_type": "stream",
       "stream": "stderr",
       "text": [
        "WARNING:sarpy.io.Adata_classes:Could not load AData\n"
       ]
      },
      {
       "output_type": "stream",
       "stream": "stderr",
       "text": [
        "WARNING:sarpy.io.Adata_classes:Need precisely one parameter file *json, found: []\n"
       ]
      },
      {
       "output_type": "stream",
       "stream": "stderr",
       "text": [
        "WARNING:sarpy.io.Adata_classes:Could not load AData\n"
       ]
      },
      {
       "output_type": "stream",
       "stream": "stderr",
       "text": [
        "WARNING:sarpy.io.Adata_classes:Need precisely one parameter file *json, found: []\n"
       ]
      },
      {
       "output_type": "stream",
       "stream": "stderr",
       "text": [
        "WARNING:sarpy.io.Adata_classes:Could not load AData\n"
       ]
      },
      {
       "output_type": "stream",
       "stream": "stderr",
       "text": [
        "WARNING:sarpy.io.Adata_classes:Need precisely one parameter file *json, found: []\n"
       ]
      },
      {
       "output_type": "stream",
       "stream": "stderr",
       "text": [
        "WARNING:sarpy.io.Adata_classes:Could not load AData\n"
       ]
      },
      {
       "output_type": "stream",
       "stream": "stderr",
       "text": [
        "WARNING:sarpy.io.Adata_classes:Need precisely one parameter file *json, found: []\n"
       ]
      },
      {
       "output_type": "stream",
       "stream": "stderr",
       "text": [
        "WARNING:sarpy.io.Adata_classes:Could not load AData\n"
       ]
      },
      {
       "output_type": "stream",
       "stream": "stderr",
       "text": [
        "WARNING:sarpy.io.Adata_classes:Need precisely one parameter file *json, found: []\n"
       ]
      },
      {
       "output_type": "stream",
       "stream": "stderr",
       "text": [
        "WARNING:sarpy.io.Adata_classes:Could not load AData\n"
       ]
      },
      {
       "output_type": "stream",
       "stream": "stderr",
       "text": [
        "WARNING:sarpy.io.Adata_classes:Need precisely one parameter file *json, found: []\n"
       ]
      },
      {
       "output_type": "stream",
       "stream": "stderr",
       "text": [
        "WARNING:sarpy.io.Adata_classes:Could not load AData\n"
       ]
      },
      {
       "output_type": "stream",
       "stream": "stderr",
       "text": [
        "WARNING:sarpy.io.Adata_classes:Need precisely one parameter file *json, found: []\n"
       ]
      },
      {
       "output_type": "stream",
       "stream": "stderr",
       "text": [
        "WARNING:sarpy.io.Adata_classes:Could not load AData\n"
       ]
      },
      {
       "output_type": "stream",
       "stream": "stderr",
       "text": [
        "WARNING:sarpy.io.Adata_classes:Need precisely one parameter file *json, found: []\n"
       ]
      },
      {
       "output_type": "stream",
       "stream": "stderr",
       "text": [
        "WARNING:sarpy.io.Adata_classes:Could not load AData\n"
       ]
      },
      {
       "output_type": "stream",
       "stream": "stderr",
       "text": [
        "WARNING:sarpy.io.Adata_classes:Need precisely one parameter file *json, found: []\n"
       ]
      },
      {
       "output_type": "stream",
       "stream": "stderr",
       "text": [
        "WARNING:sarpy.io.Adata_classes:Could not load AData\n"
       ]
      },
      {
       "output_type": "stream",
       "stream": "stderr",
       "text": [
        "WARNING:sarpy.io.Adata_classes:Need precisely one parameter file *json, found: []\n"
       ]
      },
      {
       "output_type": "stream",
       "stream": "stderr",
       "text": [
        "WARNING:sarpy.io.Adata_classes:Could not load AData\n"
       ]
      },
      {
       "output_type": "stream",
       "stream": "stderr",
       "text": [
        "WARNING:sarpy.io.Adata_classes:Need precisely one parameter file *json, found: []\n"
       ]
      },
      {
       "output_type": "stream",
       "stream": "stderr",
       "text": [
        "WARNING:sarpy.io.Adata_classes:Could not load AData\n"
       ]
      },
      {
       "output_type": "stream",
       "stream": "stderr",
       "text": [
        "WARNING:sarpy.io.Adata_classes:Need precisely one parameter file *json, found: []\n"
       ]
      },
      {
       "output_type": "stream",
       "stream": "stderr",
       "text": [
        "WARNING:sarpy.io.Adata_classes:Could not load AData\n"
       ]
      },
      {
       "output_type": "stream",
       "stream": "stderr",
       "text": [
        "WARNING:sarpy.io.Adata_classes:Need precisely one parameter file *json, found: []\n"
       ]
      },
      {
       "output_type": "stream",
       "stream": "stderr",
       "text": [
        "WARNING:sarpy.io.Adata_classes:Could not load AData\n"
       ]
      },
      {
       "output_type": "stream",
       "stream": "stderr",
       "text": [
        "WARNING:sarpy.io.Adata_classes:Need precisely one parameter file *json, found: []\n"
       ]
      },
      {
       "output_type": "stream",
       "stream": "stderr",
       "text": [
        "WARNING:sarpy.io.Adata_classes:Could not load AData\n"
       ]
      },
      {
       "output_type": "stream",
       "stream": "stderr",
       "text": [
        "WARNING:sarpy.io.Adata_classes:Need precisely one parameter file *json, found: []\n"
       ]
      },
      {
       "output_type": "stream",
       "stream": "stderr",
       "text": [
        "WARNING:sarpy.io.Adata_classes:Could not load AData\n"
       ]
      },
      {
       "output_type": "stream",
       "stream": "stderr",
       "text": [
        "WARNING:sarpy.io.Adata_classes:Need precisely one parameter file *json, found: []\n"
       ]
      },
      {
       "output_type": "stream",
       "stream": "stderr",
       "text": [
        "WARNING:sarpy.io.Adata_classes:Could not load AData\n"
       ]
      },
      {
       "output_type": "stream",
       "stream": "stderr",
       "text": [
        "WARNING:sarpy.io.Adata_classes:Need precisely one parameter file *json, found: []\n"
       ]
      },
      {
       "output_type": "stream",
       "stream": "stderr",
       "text": [
        "WARNING:sarpy.io.Adata_classes:Could not load AData\n"
       ]
      },
      {
       "output_type": "stream",
       "stream": "stderr",
       "text": [
        "WARNING:sarpy.io.Adata_classes:Need precisely one parameter file *json, found: []\n"
       ]
      },
      {
       "output_type": "stream",
       "stream": "stderr",
       "text": [
        "WARNING:sarpy.io.Adata_classes:Could not load AData\n"
       ]
      },
      {
       "output_type": "stream",
       "stream": "stderr",
       "text": [
        "WARNING:sarpy.io.Adata_classes:Need precisely one parameter file *json, found: []\n"
       ]
      },
      {
       "output_type": "stream",
       "stream": "stderr",
       "text": [
        "WARNING:sarpy.io.Adata_classes:Could not load AData\n"
       ]
      },
      {
       "output_type": "stream",
       "stream": "stderr",
       "text": [
        "WARNING:sarpy.io.Adata_classes:Need precisely one parameter file *json, found: []\n"
       ]
      },
      {
       "output_type": "stream",
       "stream": "stderr",
       "text": [
        "WARNING:sarpy.io.Adata_classes:Could not load AData\n"
       ]
      },
      {
       "output_type": "stream",
       "stream": "stderr",
       "text": [
        "WARNING:sarpy.io.Adata_classes:Need precisely one parameter file *json, found: []\n"
       ]
      },
      {
       "output_type": "stream",
       "stream": "stderr",
       "text": [
        "WARNING:sarpy.io.Adata_classes:Could not load AData\n"
       ]
      },
      {
       "output_type": "stream",
       "stream": "stderr",
       "text": [
        "WARNING:sarpy.io.Adata_classes:Need precisely one parameter file *json, found: []\n"
       ]
      },
      {
       "output_type": "stream",
       "stream": "stderr",
       "text": [
        "WARNING:sarpy.io.Adata_classes:Could not load AData\n"
       ]
      },
      {
       "output_type": "stream",
       "stream": "stderr",
       "text": [
        "WARNING:sarpy.io.Adata_classes:Need precisely one parameter file *json, found: []\n"
       ]
      },
      {
       "output_type": "stream",
       "stream": "stderr",
       "text": [
        "WARNING:sarpy.io.Adata_classes:Could not load AData\n"
       ]
      },
      {
       "output_type": "stream",
       "stream": "stderr",
       "text": [
        "WARNING:sarpy.io.Adata_classes:Need precisely one parameter file *json, found: []\n"
       ]
      },
      {
       "output_type": "stream",
       "stream": "stderr",
       "text": [
        "WARNING:sarpy.io.Adata_classes:Could not load AData\n"
       ]
      },
      {
       "output_type": "stream",
       "stream": "stderr",
       "text": [
        "WARNING:sarpy.io.Adata_classes:Need precisely one parameter file *json, found: []\n"
       ]
      },
      {
       "output_type": "stream",
       "stream": "stderr",
       "text": [
        "WARNING:sarpy.io.Adata_classes:Could not load AData\n"
       ]
      },
      {
       "output_type": "stream",
       "stream": "stderr",
       "text": [
        "WARNING:sarpy.io.Adata_classes:Need precisely one parameter file *json, found: []\n"
       ]
      },
      {
       "output_type": "stream",
       "stream": "stderr",
       "text": [
        "WARNING:sarpy.io.Adata_classes:Could not load AData\n"
       ]
      },
      {
       "output_type": "stream",
       "stream": "stderr",
       "text": [
        "WARNING:sarpy.io.Adata_classes:Need precisely one parameter file *json, found: []\n"
       ]
      },
      {
       "output_type": "stream",
       "stream": "stderr",
       "text": [
        "WARNING:sarpy.io.Adata_classes:Could not load AData\n"
       ]
      },
      {
       "output_type": "stream",
       "stream": "stderr",
       "text": [
        "WARNING:sarpy.io.Adata_classes:Need precisely one parameter file *json, found: []\n"
       ]
      },
      {
       "output_type": "stream",
       "stream": "stderr",
       "text": [
        "WARNING:sarpy.io.Adata_classes:Could not load AData\n"
       ]
      },
      {
       "output_type": "stream",
       "stream": "stderr",
       "text": [
        "WARNING:sarpy.io.Adata_classes:Need precisely one parameter file *json, found: []\n"
       ]
      },
      {
       "output_type": "stream",
       "stream": "stderr",
       "text": [
        "WARNING:sarpy.io.Adata_classes:Could not load AData\n"
       ]
      },
      {
       "output_type": "stream",
       "stream": "stderr",
       "text": [
        "WARNING:sarpy.io.Adata_classes:Need precisely one parameter file *json, found: []\n"
       ]
      },
      {
       "output_type": "stream",
       "stream": "stderr",
       "text": [
        "WARNING:sarpy.io.Adata_classes:Could not load AData\n"
       ]
      },
      {
       "output_type": "stream",
       "stream": "stderr",
       "text": [
        "WARNING:sarpy.io.Adata_classes:Need precisely one parameter file *json, found: []\n"
       ]
      },
      {
       "output_type": "stream",
       "stream": "stderr",
       "text": [
        "WARNING:sarpy.io.Adata_classes:Could not load AData\n"
       ]
      },
      {
       "output_type": "stream",
       "stream": "stderr",
       "text": [
        "WARNING:sarpy.io.Adata_classes:Need precisely one parameter file *json, found: []\n"
       ]
      },
      {
       "output_type": "stream",
       "stream": "stderr",
       "text": [
        "WARNING:sarpy.io.Adata_classes:Could not load AData\n"
       ]
      },
      {
       "output_type": "stream",
       "stream": "stderr",
       "text": [
        "WARNING:sarpy.io.Adata_classes:Need precisely one parameter file *json, found: []\n"
       ]
      },
      {
       "output_type": "stream",
       "stream": "stderr",
       "text": [
        "WARNING:sarpy.io.Adata_classes:Could not load AData\n"
       ]
      },
      {
       "output_type": "stream",
       "stream": "stderr",
       "text": [
        "WARNING:sarpy.io.Adata_classes:Need precisely one parameter file *json, found: []\n"
       ]
      },
      {
       "output_type": "stream",
       "stream": "stderr",
       "text": [
        "WARNING:sarpy.io.Adata_classes:Could not load AData\n"
       ]
      },
      {
       "output_type": "stream",
       "stream": "stderr",
       "text": [
        "WARNING:sarpy.io.Adata_classes:Need precisely one parameter file *json, found: []\n"
       ]
      },
      {
       "output_type": "stream",
       "stream": "stderr",
       "text": [
        "WARNING:sarpy.io.Adata_classes:Could not load AData\n"
       ]
      },
      {
       "output_type": "stream",
       "stream": "stderr",
       "text": [
        "WARNING:sarpy.io.Adata_classes:Need precisely one parameter file *json, found: []\n"
       ]
      },
      {
       "output_type": "stream",
       "stream": "stderr",
       "text": [
        "WARNING:sarpy.io.Adata_classes:Could not load AData\n"
       ]
      },
      {
       "output_type": "stream",
       "stream": "stderr",
       "text": [
        "WARNING:sarpy.io.Adata_classes:Need precisely one parameter file *json, found: []\n"
       ]
      },
      {
       "output_type": "stream",
       "stream": "stderr",
       "text": [
        "WARNING:sarpy.io.Adata_classes:Could not load AData\n"
       ]
      },
      {
       "output_type": "stream",
       "stream": "stderr",
       "text": [
        "WARNING:sarpy.io.Adata_classes:Need precisely one parameter file *json, found: []\n"
       ]
      },
      {
       "output_type": "stream",
       "stream": "stderr",
       "text": [
        "WARNING:sarpy.io.Adata_classes:Could not load AData\n"
       ]
      },
      {
       "output_type": "stream",
       "stream": "stderr",
       "text": [
        "WARNING:sarpy.io.Adata_classes:Need precisely one parameter file *json, found: []\n"
       ]
      },
      {
       "output_type": "stream",
       "stream": "stderr",
       "text": [
        "WARNING:sarpy.io.Adata_classes:Could not load AData\n"
       ]
      },
      {
       "output_type": "stream",
       "stream": "stderr",
       "text": [
        "WARNING:sarpy.io.Adata_classes:Need precisely one parameter file *json, found: []\n"
       ]
      },
      {
       "output_type": "stream",
       "stream": "stderr",
       "text": [
        "WARNING:sarpy.io.Adata_classes:Could not load AData\n"
       ]
      },
      {
       "output_type": "stream",
       "stream": "stderr",
       "text": [
        "WARNING:sarpy.io.Adata_classes:Need precisely one parameter file *json, found: []\n"
       ]
      },
      {
       "output_type": "stream",
       "stream": "stderr",
       "text": [
        "WARNING:sarpy.io.Adata_classes:Could not load AData\n"
       ]
      },
      {
       "output_type": "stream",
       "stream": "stderr",
       "text": [
        "WARNING:sarpy.io.Adata_classes:Need precisely one parameter file *json, found: []\n"
       ]
      },
      {
       "output_type": "stream",
       "stream": "stderr",
       "text": [
        "WARNING:sarpy.io.Adata_classes:Could not load AData\n"
       ]
      },
      {
       "output_type": "stream",
       "stream": "stderr",
       "text": [
        "WARNING:sarpy.io.Adata_classes:Need precisely one parameter file *json, found: []\n"
       ]
      },
      {
       "output_type": "stream",
       "stream": "stderr",
       "text": [
        "WARNING:sarpy.io.Adata_classes:Could not load AData\n"
       ]
      },
      {
       "output_type": "stream",
       "stream": "stderr",
       "text": [
        "WARNING:sarpy.io.Adata_classes:Need precisely one parameter file *json, found: []\n"
       ]
      },
      {
       "output_type": "stream",
       "stream": "stderr",
       "text": [
        "WARNING:sarpy.io.Adata_classes:Could not load AData\n"
       ]
      },
      {
       "output_type": "stream",
       "stream": "stderr",
       "text": [
        "WARNING:sarpy.io.Adata_classes:Need precisely one parameter file *json, found: []\n"
       ]
      },
      {
       "output_type": "stream",
       "stream": "stderr",
       "text": [
        "WARNING:sarpy.io.Adata_classes:Could not load AData\n"
       ]
      },
      {
       "output_type": "stream",
       "stream": "stderr",
       "text": [
        "WARNING:sarpy.io.Adata_classes:Need precisely one parameter file *json, found: []\n"
       ]
      },
      {
       "output_type": "stream",
       "stream": "stderr",
       "text": [
        "WARNING:sarpy.io.Adata_classes:Could not load AData\n"
       ]
      },
      {
       "output_type": "stream",
       "stream": "stderr",
       "text": [
        "WARNING:sarpy.io.Adata_classes:Need precisely one parameter file *json, found: []\n"
       ]
      },
      {
       "output_type": "stream",
       "stream": "stderr",
       "text": [
        "WARNING:sarpy.io.Adata_classes:Could not load AData\n"
       ]
      },
      {
       "output_type": "stream",
       "stream": "stderr",
       "text": [
        "WARNING:sarpy.io.Adata_classes:Need precisely one parameter file *json, found: []\n"
       ]
      },
      {
       "output_type": "stream",
       "stream": "stderr",
       "text": [
        "WARNING:sarpy.io.Adata_classes:Could not load AData\n"
       ]
      },
      {
       "output_type": "stream",
       "stream": "stderr",
       "text": [
        "WARNING:sarpy.io.Adata_classes:Need precisely one parameter file *json, found: []\n"
       ]
      },
      {
       "output_type": "stream",
       "stream": "stderr",
       "text": [
        "WARNING:sarpy.io.Adata_classes:Could not load AData\n"
       ]
      },
      {
       "output_type": "stream",
       "stream": "stderr",
       "text": [
        "WARNING:sarpy.io.Adata_classes:Need precisely one parameter file *json, found: []\n"
       ]
      },
      {
       "output_type": "stream",
       "stream": "stderr",
       "text": [
        "WARNING:sarpy.io.Adata_classes:Could not load AData\n"
       ]
      },
      {
       "output_type": "stream",
       "stream": "stderr",
       "text": [
        "WARNING:sarpy.io.Adata_classes:Need precisely one parameter file *json, found: []\n"
       ]
      },
      {
       "output_type": "stream",
       "stream": "stderr",
       "text": [
        "WARNING:sarpy.io.Adata_classes:Could not load AData\n"
       ]
      },
      {
       "output_type": "stream",
       "stream": "stderr",
       "text": [
        "WARNING:sarpy.io.Adata_classes:Need precisely one parameter file *json, found: []\n"
       ]
      },
      {
       "output_type": "stream",
       "stream": "stderr",
       "text": [
        "WARNING:sarpy.io.Adata_classes:Could not load AData\n"
       ]
      },
      {
       "output_type": "stream",
       "stream": "stderr",
       "text": [
        "WARNING:sarpy.io.Adata_classes:Need precisely one parameter file *json, found: []\n"
       ]
      },
      {
       "output_type": "stream",
       "stream": "stderr",
       "text": [
        "WARNING:sarpy.io.Adata_classes:Could not load AData\n"
       ]
      },
      {
       "output_type": "stream",
       "stream": "stderr",
       "text": [
        "WARNING:sarpy.io.Adata_classes:Need precisely one parameter file *json, found: []\n"
       ]
      },
      {
       "output_type": "stream",
       "stream": "stderr",
       "text": [
        "WARNING:sarpy.io.Adata_classes:Could not load AData\n"
       ]
      },
      {
       "output_type": "stream",
       "stream": "stderr",
       "text": [
        "WARNING:sarpy.io.Adata_classes:Need precisely one parameter file *json, found: []\n"
       ]
      },
      {
       "output_type": "stream",
       "stream": "stderr",
       "text": [
        "WARNING:sarpy.io.Adata_classes:Could not load AData\n"
       ]
      },
      {
       "output_type": "stream",
       "stream": "stderr",
       "text": [
        "WARNING:sarpy.io.Adata_classes:Need precisely one parameter file *json, found: []\n"
       ]
      },
      {
       "output_type": "stream",
       "stream": "stderr",
       "text": [
        "WARNING:sarpy.io.Adata_classes:Could not load AData\n"
       ]
      },
      {
       "output_type": "stream",
       "stream": "stderr",
       "text": [
        "WARNING:sarpy.io.Adata_classes:Need precisely one parameter file *json, found: []\n"
       ]
      },
      {
       "output_type": "stream",
       "stream": "stderr",
       "text": [
        "WARNING:sarpy.io.Adata_classes:Could not load AData\n"
       ]
      },
      {
       "output_type": "stream",
       "stream": "stderr",
       "text": [
        "WARNING:sarpy.io.Adata_classes:Need precisely one parameter file *json, found: []\n"
       ]
      },
      {
       "output_type": "stream",
       "stream": "stderr",
       "text": [
        "WARNING:sarpy.io.Adata_classes:Could not load AData\n"
       ]
      },
      {
       "output_type": "stream",
       "stream": "stderr",
       "text": [
        "WARNING:sarpy.io.Adata_classes:Need precisely one parameter file *json, found: []\n"
       ]
      },
      {
       "output_type": "stream",
       "stream": "stderr",
       "text": [
        "WARNING:sarpy.io.Adata_classes:Could not load AData\n"
       ]
      },
      {
       "output_type": "stream",
       "stream": "stderr",
       "text": [
        "WARNING:sarpy.io.Adata_classes:Need precisely one parameter file *json, found: []\n"
       ]
      },
      {
       "output_type": "stream",
       "stream": "stderr",
       "text": [
        "WARNING:sarpy.io.Adata_classes:Could not load AData\n"
       ]
      },
      {
       "output_type": "stream",
       "stream": "stderr",
       "text": [
        "WARNING:sarpy.io.Adata_classes:Need precisely one parameter file *json, found: []\n"
       ]
      },
      {
       "output_type": "stream",
       "stream": "stderr",
       "text": [
        "WARNING:sarpy.io.Adata_classes:Could not load AData\n"
       ]
      },
      {
       "output_type": "stream",
       "stream": "stderr",
       "text": [
        "WARNING:sarpy.io.Adata_classes:Need precisely one parameter file *json, found: []\n"
       ]
      },
      {
       "output_type": "stream",
       "stream": "stderr",
       "text": [
        "WARNING:sarpy.io.Adata_classes:Could not load AData\n"
       ]
      },
      {
       "output_type": "stream",
       "stream": "stderr",
       "text": [
        "WARNING:sarpy.io.Adata_classes:Need precisely one parameter file *json, found: []\n"
       ]
      },
      {
       "output_type": "stream",
       "stream": "stderr",
       "text": [
        "WARNING:sarpy.io.Adata_classes:Could not load AData\n"
       ]
      },
      {
       "output_type": "stream",
       "stream": "stderr",
       "text": [
        "WARNING:sarpy.io.Adata_classes:Need precisely one parameter file *json, found: []\n"
       ]
      },
      {
       "output_type": "stream",
       "stream": "stderr",
       "text": [
        "WARNING:sarpy.io.Adata_classes:Could not load AData\n"
       ]
      },
      {
       "output_type": "stream",
       "stream": "stderr",
       "text": [
        "WARNING:sarpy.io.Adata_classes:Need precisely one parameter file *json, found: []\n"
       ]
      },
      {
       "output_type": "stream",
       "stream": "stderr",
       "text": [
        "WARNING:sarpy.io.Adata_classes:Could not load AData\n"
       ]
      },
      {
       "output_type": "stream",
       "stream": "stderr",
       "text": [
        "WARNING:sarpy.io.Adata_classes:Need precisely one parameter file *json, found: []\n"
       ]
      },
      {
       "output_type": "stream",
       "stream": "stderr",
       "text": [
        "WARNING:sarpy.io.Adata_classes:Could not load AData\n"
       ]
      },
      {
       "output_type": "stream",
       "stream": "stderr",
       "text": [
        "WARNING:sarpy.io.Adata_classes:Need precisely one parameter file *json, found: []\n"
       ]
      },
      {
       "output_type": "stream",
       "stream": "stderr",
       "text": [
        "WARNING:sarpy.io.Adata_classes:Could not load AData\n"
       ]
      },
      {
       "output_type": "stream",
       "stream": "stderr",
       "text": [
        "WARNING:sarpy.io.Adata_classes:Need precisely one parameter file *json, found: []\n"
       ]
      },
      {
       "output_type": "stream",
       "stream": "stderr",
       "text": [
        "WARNING:sarpy.io.Adata_classes:Could not load AData\n"
       ]
      },
      {
       "output_type": "stream",
       "stream": "stderr",
       "text": [
        "WARNING:sarpy.io.Adata_classes:Need precisely one parameter file *json, found: []\n"
       ]
      },
      {
       "output_type": "stream",
       "stream": "stderr",
       "text": [
        "WARNING:sarpy.io.Adata_classes:Could not load AData\n"
       ]
      },
      {
       "output_type": "stream",
       "stream": "stderr",
       "text": [
        "WARNING:sarpy.io.Adata_classes:Need precisely one parameter file *json, found: []\n"
       ]
      },
      {
       "output_type": "stream",
       "stream": "stderr",
       "text": [
        "WARNING:sarpy.io.Adata_classes:Could not load AData\n"
       ]
      },
      {
       "output_type": "stream",
       "stream": "stderr",
       "text": [
        "WARNING:sarpy.io.Adata_classes:Need precisely one parameter file *json, found: []\n"
       ]
      },
      {
       "output_type": "stream",
       "stream": "stderr",
       "text": [
        "WARNING:sarpy.io.Adata_classes:Could not load AData\n"
       ]
      },
      {
       "output_type": "stream",
       "stream": "stderr",
       "text": [
        "WARNING:sarpy.io.Adata_classes:Need precisely one parameter file *json, found: []\n"
       ]
      },
      {
       "output_type": "stream",
       "stream": "stderr",
       "text": [
        "WARNING:sarpy.io.Adata_classes:Could not load AData\n"
       ]
      },
      {
       "output_type": "stream",
       "stream": "stderr",
       "text": [
        "WARNING:sarpy.io.Adata_classes:Need precisely one parameter file *json, found: []\n"
       ]
      },
      {
       "output_type": "stream",
       "stream": "stderr",
       "text": [
        "WARNING:sarpy.io.Adata_classes:Could not load AData\n"
       ]
      },
      {
       "output_type": "stream",
       "stream": "stderr",
       "text": [
        "WARNING:sarpy.io.Adata_classes:Need precisely one parameter file *json, found: []\n"
       ]
      },
      {
       "output_type": "stream",
       "stream": "stderr",
       "text": [
        "WARNING:sarpy.io.Adata_classes:Could not load AData\n"
       ]
      },
      {
       "output_type": "stream",
       "stream": "stderr",
       "text": [
        "WARNING:sarpy.io.Adata_classes:Need precisely one parameter file *json, found: []\n"
       ]
      },
      {
       "output_type": "stream",
       "stream": "stderr",
       "text": [
        "WARNING:sarpy.io.Adata_classes:Could not load AData\n"
       ]
      },
      {
       "output_type": "stream",
       "stream": "stderr",
       "text": [
        "WARNING:sarpy.io.Adata_classes:Need precisely one parameter file *json, found: []\n"
       ]
      },
      {
       "output_type": "stream",
       "stream": "stderr",
       "text": [
        "WARNING:sarpy.io.Adata_classes:Could not load AData\n"
       ]
      },
      {
       "output_type": "stream",
       "stream": "stderr",
       "text": [
        "WARNING:sarpy.io.Adata_classes:Need precisely one parameter file *json, found: []\n"
       ]
      },
      {
       "output_type": "stream",
       "stream": "stderr",
       "text": [
        "WARNING:sarpy.io.Adata_classes:Could not load AData\n"
       ]
      },
      {
       "output_type": "stream",
       "stream": "stderr",
       "text": [
        "WARNING:sarpy.io.Adata_classes:Need precisely one parameter file *json, found: []\n"
       ]
      },
      {
       "output_type": "stream",
       "stream": "stderr",
       "text": [
        "WARNING:sarpy.io.Adata_classes:Could not load AData\n"
       ]
      },
      {
       "output_type": "stream",
       "stream": "stderr",
       "text": [
        "WARNING:sarpy.io.Adata_classes:Need precisely one parameter file *json, found: []\n"
       ]
      },
      {
       "output_type": "stream",
       "stream": "stderr",
       "text": [
        "WARNING:sarpy.io.Adata_classes:Could not load AData\n"
       ]
      },
      {
       "output_type": "stream",
       "stream": "stderr",
       "text": [
        "WARNING:sarpy.io.Adata_classes:Need precisely one parameter file *json, found: []\n"
       ]
      },
      {
       "output_type": "stream",
       "stream": "stderr",
       "text": [
        "WARNING:sarpy.io.Adata_classes:Could not load AData\n"
       ]
      },
      {
       "output_type": "stream",
       "stream": "stderr",
       "text": [
        "WARNING:sarpy.io.Adata_classes:Need precisely one parameter file *json, found: []\n"
       ]
      },
      {
       "output_type": "stream",
       "stream": "stderr",
       "text": [
        "WARNING:sarpy.io.Adata_classes:Could not load AData\n"
       ]
      },
      {
       "output_type": "stream",
       "stream": "stderr",
       "text": [
        "WARNING:sarpy.io.Adata_classes:Need precisely one parameter file *json, found: []\n"
       ]
      },
      {
       "output_type": "stream",
       "stream": "stderr",
       "text": [
        "WARNING:sarpy.io.Adata_classes:Could not load AData\n"
       ]
      },
      {
       "output_type": "stream",
       "stream": "stderr",
       "text": [
        "WARNING:sarpy.io.Adata_classes:Need precisely one parameter file *json, found: []\n"
       ]
      },
      {
       "output_type": "stream",
       "stream": "stderr",
       "text": [
        "WARNING:sarpy.io.Adata_classes:Could not load AData\n"
       ]
      },
      {
       "output_type": "stream",
       "stream": "stderr",
       "text": [
        "WARNING:sarpy.io.Adata_classes:Need precisely one parameter file *json, found: []\n"
       ]
      },
      {
       "output_type": "stream",
       "stream": "stderr",
       "text": [
        "WARNING:sarpy.io.Adata_classes:Could not load AData\n"
       ]
      },
      {
       "output_type": "stream",
       "stream": "stderr",
       "text": [
        "WARNING:sarpy.io.Adata_classes:Need precisely one parameter file *json, found: []\n"
       ]
      },
      {
       "output_type": "stream",
       "stream": "stderr",
       "text": [
        "WARNING:sarpy.io.Adata_classes:Could not load AData\n"
       ]
      },
      {
       "output_type": "stream",
       "stream": "stderr",
       "text": [
        "WARNING:sarpy.io.Adata_classes:Need precisely one parameter file *json, found: []\n"
       ]
      },
      {
       "output_type": "stream",
       "stream": "stderr",
       "text": [
        "WARNING:sarpy.io.Adata_classes:Could not load AData\n"
       ]
      },
      {
       "output_type": "stream",
       "stream": "stderr",
       "text": [
        "WARNING:sarpy.io.Adata_classes:Need precisely one parameter file *json, found: []\n"
       ]
      },
      {
       "output_type": "stream",
       "stream": "stderr",
       "text": [
        "WARNING:sarpy.io.Adata_classes:Could not load AData\n"
       ]
      },
      {
       "output_type": "stream",
       "stream": "stderr",
       "text": [
        "WARNING:sarpy.io.Adata_classes:Need precisely one parameter file *json, found: []\n"
       ]
      },
      {
       "output_type": "stream",
       "stream": "stderr",
       "text": [
        "WARNING:sarpy.io.Adata_classes:Could not load AData\n"
       ]
      },
      {
       "output_type": "stream",
       "stream": "stderr",
       "text": [
        "WARNING:sarpy.io.Adata_classes:Need precisely one parameter file *json, found: []\n"
       ]
      },
      {
       "output_type": "stream",
       "stream": "stderr",
       "text": [
        "WARNING:sarpy.io.Adata_classes:Could not load AData\n"
       ]
      },
      {
       "output_type": "stream",
       "stream": "stderr",
       "text": [
        "WARNING:sarpy.io.Adata_classes:Need precisely one parameter file *json, found: []\n"
       ]
      },
      {
       "output_type": "stream",
       "stream": "stderr",
       "text": [
        "WARNING:sarpy.io.Adata_classes:Could not load AData\n"
       ]
      },
      {
       "output_type": "stream",
       "stream": "stderr",
       "text": [
        "WARNING:sarpy.io.Adata_classes:Need precisely one parameter file *json, found: []\n"
       ]
      },
      {
       "output_type": "stream",
       "stream": "stderr",
       "text": [
        "WARNING:sarpy.io.Adata_classes:Could not load AData\n"
       ]
      },
      {
       "output_type": "stream",
       "stream": "stderr",
       "text": [
        "WARNING:sarpy.io.Adata_classes:Need precisely one parameter file *json, found: []\n"
       ]
      },
      {
       "output_type": "stream",
       "stream": "stderr",
       "text": [
        "WARNING:sarpy.io.Adata_classes:Could not load AData\n"
       ]
      },
      {
       "output_type": "stream",
       "stream": "stderr",
       "text": [
        "WARNING:sarpy.io.Adata_classes:Need precisely one parameter file *json, found: []\n"
       ]
      },
      {
       "output_type": "stream",
       "stream": "stderr",
       "text": [
        "WARNING:sarpy.io.Adata_classes:Could not load AData\n"
       ]
      },
      {
       "output_type": "stream",
       "stream": "stderr",
       "text": [
        "WARNING:sarpy.io.Adata_classes:Need precisely one parameter file *json, found: []\n"
       ]
      },
      {
       "output_type": "stream",
       "stream": "stderr",
       "text": [
        "WARNING:sarpy.io.Adata_classes:Could not load AData\n"
       ]
      },
      {
       "output_type": "stream",
       "stream": "stderr",
       "text": [
        "WARNING:sarpy.io.Adata_classes:Need precisely one parameter file *json, found: []\n"
       ]
      },
      {
       "output_type": "stream",
       "stream": "stderr",
       "text": [
        "WARNING:sarpy.io.Adata_classes:Could not load AData\n"
       ]
      },
      {
       "output_type": "stream",
       "stream": "stderr",
       "text": [
        "WARNING:sarpy.io.Adata_classes:Need precisely one parameter file *json, found: []\n"
       ]
      },
      {
       "output_type": "stream",
       "stream": "stderr",
       "text": [
        "WARNING:sarpy.io.Adata_classes:Could not load AData\n"
       ]
      },
      {
       "output_type": "stream",
       "stream": "stderr",
       "text": [
        "WARNING:sarpy.io.Adata_classes:Need precisely one parameter file *json, found: []\n"
       ]
      },
      {
       "output_type": "stream",
       "stream": "stderr",
       "text": [
        "WARNING:sarpy.io.Adata_classes:Could not load AData\n"
       ]
      },
      {
       "output_type": "stream",
       "stream": "stderr",
       "text": [
        "WARNING:sarpy.io.Adata_classes:Need precisely one parameter file *json, found: []\n"
       ]
      },
      {
       "output_type": "stream",
       "stream": "stderr",
       "text": [
        "WARNING:sarpy.io.Adata_classes:Could not load AData\n"
       ]
      },
      {
       "output_type": "stream",
       "stream": "stderr",
       "text": [
        "WARNING:sarpy.io.Adata_classes:Need precisely one parameter file *json, found: []\n"
       ]
      },
      {
       "output_type": "stream",
       "stream": "stderr",
       "text": [
        "WARNING:sarpy.io.Adata_classes:Could not load AData\n"
       ]
      },
      {
       "output_type": "stream",
       "stream": "stderr",
       "text": [
        "WARNING:sarpy.io.Adata_classes:Need precisely one parameter file *json, found: []\n"
       ]
      },
      {
       "output_type": "stream",
       "stream": "stderr",
       "text": [
        "WARNING:sarpy.io.Adata_classes:Could not load AData\n"
       ]
      },
      {
       "output_type": "stream",
       "stream": "stderr",
       "text": [
        "WARNING:sarpy.io.Adata_classes:Need precisely one parameter file *json, found: []\n"
       ]
      },
      {
       "output_type": "stream",
       "stream": "stderr",
       "text": [
        "WARNING:sarpy.io.Adata_classes:Could not load AData\n"
       ]
      },
      {
       "output_type": "stream",
       "stream": "stderr",
       "text": [
        "WARNING:sarpy.io.Adata_classes:Need precisely one parameter file *json, found: []\n"
       ]
      },
      {
       "output_type": "stream",
       "stream": "stderr",
       "text": [
        "WARNING:sarpy.io.Adata_classes:Could not load AData\n"
       ]
      },
      {
       "output_type": "stream",
       "stream": "stderr",
       "text": [
        "WARNING:sarpy.io.Adata_classes:Need precisely one parameter file *json, found: []\n"
       ]
      },
      {
       "output_type": "stream",
       "stream": "stderr",
       "text": [
        "WARNING:sarpy.io.Adata_classes:Could not load AData\n"
       ]
      },
      {
       "output_type": "stream",
       "stream": "stderr",
       "text": [
        "WARNING:sarpy.io.Adata_classes:Need precisely one parameter file *json, found: []\n"
       ]
      },
      {
       "output_type": "stream",
       "stream": "stderr",
       "text": [
        "WARNING:sarpy.io.Adata_classes:Could not load AData\n"
       ]
      },
      {
       "output_type": "stream",
       "stream": "stderr",
       "text": [
        "WARNING:sarpy.io.Adata_classes:Need precisely one parameter file *json, found: []\n"
       ]
      },
      {
       "output_type": "stream",
       "stream": "stderr",
       "text": [
        "WARNING:sarpy.io.Adata_classes:Could not load AData\n"
       ]
      },
      {
       "output_type": "stream",
       "stream": "stderr",
       "text": [
        "WARNING:sarpy.io.Adata_classes:Need precisely one parameter file *json, found: []\n"
       ]
      },
      {
       "output_type": "stream",
       "stream": "stderr",
       "text": [
        "WARNING:sarpy.io.Adata_classes:Could not load AData\n"
       ]
      },
      {
       "output_type": "stream",
       "stream": "stderr",
       "text": [
        "WARNING:sarpy.io.Adata_classes:Need precisely one parameter file *json, found: []\n"
       ]
      },
      {
       "output_type": "stream",
       "stream": "stderr",
       "text": [
        "WARNING:sarpy.io.Adata_classes:Could not load AData\n"
       ]
      },
      {
       "output_type": "stream",
       "stream": "stderr",
       "text": [
        "WARNING:sarpy.io.Adata_classes:Need precisely one parameter file *json, found: []\n"
       ]
      },
      {
       "output_type": "stream",
       "stream": "stderr",
       "text": [
        "WARNING:sarpy.io.Adata_classes:Could not load AData\n"
       ]
      },
      {
       "output_type": "stream",
       "stream": "stderr",
       "text": [
        "WARNING:sarpy.io.Adata_classes:Need precisely one parameter file *json, found: []\n"
       ]
      },
      {
       "output_type": "stream",
       "stream": "stderr",
       "text": [
        "WARNING:sarpy.io.Adata_classes:Could not load AData\n"
       ]
      },
      {
       "output_type": "stream",
       "stream": "stderr",
       "text": [
        "WARNING:sarpy.io.Adata_classes:Need precisely one parameter file *json, found: []\n"
       ]
      },
      {
       "output_type": "stream",
       "stream": "stderr",
       "text": [
        "WARNING:sarpy.io.Adata_classes:Could not load AData\n"
       ]
      },
      {
       "output_type": "stream",
       "stream": "stderr",
       "text": [
        "WARNING:sarpy.io.Adata_classes:Need precisely one parameter file *json, found: []\n"
       ]
      },
      {
       "output_type": "stream",
       "stream": "stderr",
       "text": [
        "WARNING:sarpy.io.Adata_classes:Could not load AData\n"
       ]
      },
      {
       "output_type": "stream",
       "stream": "stderr",
       "text": [
        "WARNING:sarpy.io.Adata_classes:Need precisely one parameter file *json, found: []\n"
       ]
      },
      {
       "output_type": "stream",
       "stream": "stderr",
       "text": [
        "WARNING:sarpy.io.Adata_classes:Could not load AData\n"
       ]
      },
      {
       "output_type": "stream",
       "stream": "stderr",
       "text": [
        "WARNING:sarpy.io.Adata_classes:Need precisely one parameter file *json, found: []\n"
       ]
      },
      {
       "output_type": "stream",
       "stream": "stderr",
       "text": [
        "WARNING:sarpy.io.Adata_classes:Could not load AData\n"
       ]
      },
      {
       "output_type": "stream",
       "stream": "stderr",
       "text": [
        "WARNING:sarpy.io.Adata_classes:Need precisely one parameter file *json, found: []\n"
       ]
      },
      {
       "output_type": "stream",
       "stream": "stderr",
       "text": [
        "WARNING:sarpy.io.Adata_classes:Could not load AData\n"
       ]
      },
      {
       "output_type": "stream",
       "stream": "stderr",
       "text": [
        "WARNING:sarpy.io.Adata_classes:Need precisely one parameter file *json, found: []\n"
       ]
      },
      {
       "output_type": "stream",
       "stream": "stderr",
       "text": [
        "WARNING:sarpy.io.Adata_classes:Could not load AData\n"
       ]
      },
      {
       "output_type": "stream",
       "stream": "stderr",
       "text": [
        "WARNING:sarpy.io.Adata_classes:Need precisely one parameter file *json, found: []\n"
       ]
      },
      {
       "output_type": "stream",
       "stream": "stderr",
       "text": [
        "WARNING:sarpy.io.Adata_classes:Could not load AData\n"
       ]
      },
      {
       "output_type": "stream",
       "stream": "stderr",
       "text": [
        "WARNING:sarpy.io.Adata_classes:Need precisely one parameter file *json, found: []\n"
       ]
      },
      {
       "output_type": "stream",
       "stream": "stderr",
       "text": [
        "WARNING:sarpy.io.Adata_classes:Could not load AData\n"
       ]
      },
      {
       "output_type": "stream",
       "stream": "stderr",
       "text": [
        "WARNING:sarpy.io.Adata_classes:Need precisely one parameter file *json, found: []\n"
       ]
      },
      {
       "output_type": "stream",
       "stream": "stderr",
       "text": [
        "WARNING:sarpy.io.Adata_classes:Could not load AData\n"
       ]
      },
      {
       "output_type": "stream",
       "stream": "stderr",
       "text": [
        "WARNING:sarpy.io.Adata_classes:Need precisely one parameter file *json, found: []\n"
       ]
      },
      {
       "output_type": "stream",
       "stream": "stderr",
       "text": [
        "WARNING:sarpy.io.Adata_classes:Could not load AData\n"
       ]
      },
      {
       "output_type": "stream",
       "stream": "stderr",
       "text": [
        "WARNING:sarpy.io.Adata_classes:Need precisely one parameter file *json, found: []\n"
       ]
      },
      {
       "output_type": "stream",
       "stream": "stderr",
       "text": [
        "WARNING:sarpy.io.Adata_classes:Could not load AData\n"
       ]
      },
      {
       "output_type": "stream",
       "stream": "stderr",
       "text": [
        "WARNING:sarpy.io.Adata_classes:Need precisely one parameter file *json, found: []\n"
       ]
      },
      {
       "output_type": "stream",
       "stream": "stderr",
       "text": [
        "WARNING:sarpy.io.Adata_classes:Could not load AData\n"
       ]
      },
      {
       "output_type": "stream",
       "stream": "stderr",
       "text": [
        "WARNING:sarpy.io.Adata_classes:Need precisely one parameter file *json, found: []\n"
       ]
      },
      {
       "output_type": "stream",
       "stream": "stderr",
       "text": [
        "WARNING:sarpy.io.Adata_classes:Could not load AData\n"
       ]
      },
      {
       "output_type": "stream",
       "stream": "stderr",
       "text": [
        "WARNING:sarpy.io.Adata_classes:Need precisely one parameter file *json, found: []\n"
       ]
      },
      {
       "output_type": "stream",
       "stream": "stderr",
       "text": [
        "WARNING:sarpy.io.Adata_classes:Could not load AData\n"
       ]
      },
      {
       "output_type": "stream",
       "stream": "stderr",
       "text": [
        "WARNING:sarpy.io.Adata_classes:Need precisely one parameter file *json, found: []\n"
       ]
      },
      {
       "output_type": "stream",
       "stream": "stderr",
       "text": [
        "WARNING:sarpy.io.Adata_classes:Could not load AData\n"
       ]
      },
      {
       "output_type": "stream",
       "stream": "stderr",
       "text": [
        "WARNING:sarpy.io.Adata_classes:Need precisely one parameter file *json, found: []\n"
       ]
      },
      {
       "output_type": "stream",
       "stream": "stderr",
       "text": [
        "WARNING:sarpy.io.Adata_classes:Could not load AData\n"
       ]
      },
      {
       "output_type": "stream",
       "stream": "stderr",
       "text": [
        "WARNING:sarpy.io.Adata_classes:Need precisely one parameter file *json, found: []\n"
       ]
      },
      {
       "output_type": "stream",
       "stream": "stderr",
       "text": [
        "WARNING:sarpy.io.Adata_classes:Could not load AData\n"
       ]
      },
      {
       "output_type": "stream",
       "stream": "stderr",
       "text": [
        "WARNING:sarpy.io.Adata_classes:Need precisely one parameter file *json, found: []\n"
       ]
      },
      {
       "output_type": "stream",
       "stream": "stderr",
       "text": [
        "WARNING:sarpy.io.Adata_classes:Could not load AData\n"
       ]
      },
      {
       "output_type": "stream",
       "stream": "stderr",
       "text": [
        "WARNING:sarpy.io.Adata_classes:Need precisely one parameter file *json, found: []\n"
       ]
      },
      {
       "output_type": "stream",
       "stream": "stderr",
       "text": [
        "WARNING:sarpy.io.Adata_classes:Could not load AData\n"
       ]
      },
      {
       "output_type": "stream",
       "stream": "stderr",
       "text": [
        "WARNING:sarpy.io.Adata_classes:Need precisely one parameter file *json, found: []\n"
       ]
      },
      {
       "output_type": "stream",
       "stream": "stderr",
       "text": [
        "WARNING:sarpy.io.Adata_classes:Could not load AData\n"
       ]
      },
      {
       "output_type": "stream",
       "stream": "stderr",
       "text": [
        "WARNING:sarpy.io.Adata_classes:Need precisely one parameter file *json, found: []\n"
       ]
      },
      {
       "output_type": "stream",
       "stream": "stderr",
       "text": [
        "WARNING:sarpy.io.Adata_classes:Could not load AData\n"
       ]
      },
      {
       "output_type": "stream",
       "stream": "stderr",
       "text": [
        "WARNING:sarpy.io.Adata_classes:Need precisely one parameter file *json, found: []\n"
       ]
      },
      {
       "output_type": "stream",
       "stream": "stderr",
       "text": [
        "WARNING:sarpy.io.Adata_classes:Could not load AData\n"
       ]
      },
      {
       "output_type": "stream",
       "stream": "stderr",
       "text": [
        "WARNING:sarpy.io.Adata_classes:Need precisely one parameter file *json, found: []\n"
       ]
      },
      {
       "output_type": "stream",
       "stream": "stderr",
       "text": [
        "WARNING:sarpy.io.Adata_classes:Could not load AData\n"
       ]
      },
      {
       "output_type": "stream",
       "stream": "stderr",
       "text": [
        "WARNING:sarpy.io.Adata_classes:Need precisely one parameter file *json, found: []\n"
       ]
      },
      {
       "output_type": "stream",
       "stream": "stderr",
       "text": [
        "WARNING:sarpy.io.Adata_classes:Could not load AData\n"
       ]
      },
      {
       "output_type": "stream",
       "stream": "stderr",
       "text": [
        "WARNING:sarpy.io.Adata_classes:Need precisely one parameter file *json, found: []\n"
       ]
      },
      {
       "output_type": "stream",
       "stream": "stderr",
       "text": [
        "WARNING:sarpy.io.Adata_classes:Could not load AData\n"
       ]
      },
      {
       "output_type": "stream",
       "stream": "stderr",
       "text": [
        "WARNING:sarpy.io.Adata_classes:Need precisely one parameter file *json, found: []\n"
       ]
      },
      {
       "output_type": "stream",
       "stream": "stderr",
       "text": [
        "WARNING:sarpy.io.Adata_classes:Could not load AData\n"
       ]
      },
      {
       "output_type": "stream",
       "stream": "stderr",
       "text": [
        "WARNING:sarpy.io.Adata_classes:Need precisely one parameter file *json, found: []\n"
       ]
      },
      {
       "output_type": "stream",
       "stream": "stderr",
       "text": [
        "WARNING:sarpy.io.Adata_classes:Could not load AData\n"
       ]
      },
      {
       "output_type": "stream",
       "stream": "stderr",
       "text": [
        "WARNING:sarpy.io.Adata_classes:Need precisely one parameter file *json, found: []\n"
       ]
      },
      {
       "output_type": "stream",
       "stream": "stderr",
       "text": [
        "WARNING:sarpy.io.Adata_classes:Could not load AData\n"
       ]
      },
      {
       "output_type": "stream",
       "stream": "stderr",
       "text": [
        "WARNING:sarpy.io.Adata_classes:Need precisely one parameter file *json, found: []\n"
       ]
      },
      {
       "output_type": "stream",
       "stream": "stderr",
       "text": [
        "WARNING:sarpy.io.Adata_classes:Could not load AData\n"
       ]
      },
      {
       "output_type": "stream",
       "stream": "stderr",
       "text": [
        "WARNING:sarpy.io.Adata_classes:Need precisely one parameter file *json, found: []\n"
       ]
      },
      {
       "output_type": "stream",
       "stream": "stderr",
       "text": [
        "WARNING:sarpy.io.Adata_classes:Could not load AData\n"
       ]
      },
      {
       "output_type": "stream",
       "stream": "stderr",
       "text": [
        "WARNING:sarpy.io.Adata_classes:Need precisely one parameter file *json, found: []\n"
       ]
      },
      {
       "output_type": "stream",
       "stream": "stderr",
       "text": [
        "WARNING:sarpy.io.Adata_classes:Could not load AData\n"
       ]
      },
      {
       "output_type": "stream",
       "stream": "stderr",
       "text": [
        "WARNING:sarpy.io.Adata_classes:Need precisely one parameter file *json, found: []\n"
       ]
      },
      {
       "output_type": "stream",
       "stream": "stderr",
       "text": [
        "WARNING:sarpy.io.Adata_classes:Could not load AData\n"
       ]
      },
      {
       "output_type": "stream",
       "stream": "stderr",
       "text": [
        "WARNING:sarpy.io.Adata_classes:Need precisely one parameter file *json, found: []\n"
       ]
      },
      {
       "output_type": "stream",
       "stream": "stderr",
       "text": [
        "WARNING:sarpy.io.Adata_classes:Could not load AData\n"
       ]
      },
      {
       "output_type": "stream",
       "stream": "stderr",
       "text": [
        "WARNING:sarpy.io.Adata_classes:Need precisely one parameter file *json, found: []\n"
       ]
      },
      {
       "output_type": "stream",
       "stream": "stderr",
       "text": [
        "WARNING:sarpy.io.Adata_classes:Could not load AData\n"
       ]
      },
      {
       "output_type": "stream",
       "stream": "stderr",
       "text": [
        "WARNING:sarpy.io.Adata_classes:Need precisely one parameter file *json, found: []\n"
       ]
      },
      {
       "output_type": "stream",
       "stream": "stderr",
       "text": [
        "WARNING:sarpy.io.Adata_classes:Could not load AData\n"
       ]
      },
      {
       "output_type": "stream",
       "stream": "stderr",
       "text": [
        "WARNING:sarpy.io.Adata_classes:Need precisely one parameter file *json, found: []\n"
       ]
      },
      {
       "output_type": "stream",
       "stream": "stderr",
       "text": [
        "WARNING:sarpy.io.Adata_classes:Could not load AData\n"
       ]
      },
      {
       "output_type": "stream",
       "stream": "stderr",
       "text": [
        "WARNING:sarpy.io.Adata_classes:Need precisely one parameter file *json, found: []\n"
       ]
      },
      {
       "output_type": "stream",
       "stream": "stderr",
       "text": [
        "WARNING:sarpy.io.Adata_classes:Could not load AData\n"
       ]
      },
      {
       "output_type": "stream",
       "stream": "stderr",
       "text": [
        "WARNING:sarpy.io.Adata_classes:Need precisely one parameter file *json, found: []\n"
       ]
      },
      {
       "output_type": "stream",
       "stream": "stderr",
       "text": [
        "WARNING:sarpy.io.Adata_classes:Could not load AData\n"
       ]
      },
      {
       "output_type": "stream",
       "stream": "stderr",
       "text": [
        "WARNING:sarpy.io.Adata_classes:Need precisely one parameter file *json, found: []\n"
       ]
      },
      {
       "output_type": "stream",
       "stream": "stderr",
       "text": [
        "WARNING:sarpy.io.Adata_classes:Could not load AData\n"
       ]
      },
      {
       "output_type": "stream",
       "stream": "stderr",
       "text": [
        "WARNING:sarpy.io.Adata_classes:Need precisely one parameter file *json, found: []\n"
       ]
      },
      {
       "output_type": "stream",
       "stream": "stderr",
       "text": [
        "WARNING:sarpy.io.Adata_classes:Could not load AData\n"
       ]
      },
      {
       "output_type": "stream",
       "stream": "stderr",
       "text": [
        "WARNING:sarpy.io.Adata_classes:Need precisely one parameter file *json, found: []\n"
       ]
      },
      {
       "output_type": "stream",
       "stream": "stderr",
       "text": [
        "WARNING:sarpy.io.Adata_classes:Could not load AData\n"
       ]
      },
      {
       "output_type": "stream",
       "stream": "stderr",
       "text": [
        "WARNING:sarpy.io.Adata_classes:Need precisely one parameter file *json, found: []\n"
       ]
      },
      {
       "output_type": "stream",
       "stream": "stderr",
       "text": [
        "WARNING:sarpy.io.Adata_classes:Could not load AData\n"
       ]
      },
      {
       "output_type": "stream",
       "stream": "stderr",
       "text": [
        "WARNING:sarpy.io.Adata_classes:Need precisely one parameter file *json, found: []\n"
       ]
      },
      {
       "output_type": "stream",
       "stream": "stderr",
       "text": [
        "WARNING:sarpy.io.Adata_classes:Could not load AData\n"
       ]
      },
      {
       "output_type": "stream",
       "stream": "stderr",
       "text": [
        "WARNING:sarpy.io.Adata_classes:Need precisely one parameter file *json, found: []\n"
       ]
      },
      {
       "output_type": "stream",
       "stream": "stderr",
       "text": [
        "WARNING:sarpy.io.Adata_classes:Could not load AData\n"
       ]
      },
      {
       "output_type": "stream",
       "stream": "stderr",
       "text": [
        "WARNING:sarpy.io.Adata_classes:Need precisely one parameter file *json, found: []\n"
       ]
      },
      {
       "output_type": "stream",
       "stream": "stderr",
       "text": [
        "WARNING:sarpy.io.Adata_classes:Could not load AData\n"
       ]
      },
      {
       "output_type": "stream",
       "stream": "stderr",
       "text": [
        "WARNING:sarpy.io.Adata_classes:Need precisely one parameter file *json, found: []\n"
       ]
      },
      {
       "output_type": "stream",
       "stream": "stderr",
       "text": [
        "WARNING:sarpy.io.Adata_classes:Could not load AData\n"
       ]
      },
      {
       "output_type": "stream",
       "stream": "stderr",
       "text": [
        "WARNING:sarpy.io.Adata_classes:Need precisely one parameter file *json, found: []\n"
       ]
      },
      {
       "output_type": "stream",
       "stream": "stderr",
       "text": [
        "WARNING:sarpy.io.Adata_classes:Could not load AData\n"
       ]
      },
      {
       "output_type": "stream",
       "stream": "stderr",
       "text": [
        "WARNING:sarpy.io.Adata_classes:Need precisely one parameter file *json, found: []\n"
       ]
      },
      {
       "output_type": "stream",
       "stream": "stderr",
       "text": [
        "WARNING:sarpy.io.Adata_classes:Could not load AData\n"
       ]
      },
      {
       "output_type": "stream",
       "stream": "stderr",
       "text": [
        "WARNING:sarpy.io.Adata_classes:Need precisely one parameter file *json, found: []\n"
       ]
      },
      {
       "output_type": "stream",
       "stream": "stderr",
       "text": [
        "WARNING:sarpy.io.Adata_classes:Could not load AData\n"
       ]
      },
      {
       "output_type": "stream",
       "stream": "stderr",
       "text": [
        "WARNING:sarpy.io.Adata_classes:Need precisely one parameter file *json, found: []\n"
       ]
      },
      {
       "output_type": "stream",
       "stream": "stderr",
       "text": [
        "WARNING:sarpy.io.Adata_classes:Could not load AData\n"
       ]
      },
      {
       "output_type": "stream",
       "stream": "stderr",
       "text": [
        "WARNING:sarpy.io.Adata_classes:Need precisely one parameter file *json, found: []\n"
       ]
      },
      {
       "output_type": "stream",
       "stream": "stderr",
       "text": [
        "WARNING:sarpy.io.Adata_classes:Could not load AData\n"
       ]
      },
      {
       "output_type": "stream",
       "stream": "stderr",
       "text": [
        "WARNING:sarpy.io.Adata_classes:Need precisely one parameter file *json, found: []\n"
       ]
      },
      {
       "output_type": "stream",
       "stream": "stderr",
       "text": [
        "WARNING:sarpy.io.Adata_classes:Could not load AData\n"
       ]
      },
      {
       "output_type": "stream",
       "stream": "stderr",
       "text": [
        "WARNING:sarpy.io.Adata_classes:Need precisely one parameter file *json, found: []\n"
       ]
      },
      {
       "output_type": "stream",
       "stream": "stderr",
       "text": [
        "WARNING:sarpy.io.Adata_classes:Could not load AData\n"
       ]
      },
      {
       "output_type": "stream",
       "stream": "stderr",
       "text": [
        "WARNING:sarpy.io.Adata_classes:Need precisely one parameter file *json, found: []\n"
       ]
      },
      {
       "output_type": "stream",
       "stream": "stderr",
       "text": [
        "WARNING:sarpy.io.Adata_classes:Could not load AData\n"
       ]
      },
      {
       "output_type": "stream",
       "stream": "stderr",
       "text": [
        "WARNING:sarpy.io.Adata_classes:Need precisely one parameter file *json, found: []\n"
       ]
      },
      {
       "output_type": "stream",
       "stream": "stderr",
       "text": [
        "WARNING:sarpy.io.Adata_classes:Could not load AData\n"
       ]
      },
      {
       "output_type": "stream",
       "stream": "stderr",
       "text": [
        "WARNING:sarpy.io.Adata_classes:Need precisely one parameter file *json, found: []\n"
       ]
      },
      {
       "output_type": "stream",
       "stream": "stderr",
       "text": [
        "WARNING:sarpy.io.Adata_classes:Could not load AData\n"
       ]
      },
      {
       "output_type": "stream",
       "stream": "stderr",
       "text": [
        "WARNING:sarpy.io.Adata_classes:Need precisely one parameter file *json, found: []\n"
       ]
      },
      {
       "output_type": "stream",
       "stream": "stderr",
       "text": [
        "WARNING:sarpy.io.Adata_classes:Could not load AData\n"
       ]
      },
      {
       "output_type": "stream",
       "stream": "stderr",
       "text": [
        "WARNING:sarpy.io.Adata_classes:Need precisely one parameter file *json, found: []\n"
       ]
      },
      {
       "output_type": "stream",
       "stream": "stderr",
       "text": [
        "WARNING:sarpy.io.Adata_classes:Could not load AData\n"
       ]
      },
      {
       "output_type": "stream",
       "stream": "stderr",
       "text": [
        "WARNING:sarpy.io.Adata_classes:Need precisely one parameter file *json, found: []\n"
       ]
      },
      {
       "output_type": "stream",
       "stream": "stderr",
       "text": [
        "WARNING:sarpy.io.Adata_classes:Could not load AData\n"
       ]
      },
      {
       "output_type": "stream",
       "stream": "stderr",
       "text": [
        "WARNING:sarpy.io.Adata_classes:Need precisely one parameter file *json, found: []\n"
       ]
      },
      {
       "output_type": "stream",
       "stream": "stderr",
       "text": [
        "WARNING:sarpy.io.Adata_classes:Could not load AData\n"
       ]
      },
      {
       "output_type": "stream",
       "stream": "stderr",
       "text": [
        "WARNING:sarpy.io.Adata_classes:Need precisely one parameter file *json, found: []\n"
       ]
      },
      {
       "output_type": "stream",
       "stream": "stderr",
       "text": [
        "WARNING:sarpy.io.Adata_classes:Could not load AData\n"
       ]
      },
      {
       "output_type": "stream",
       "stream": "stderr",
       "text": [
        "WARNING:sarpy.io.Adata_classes:Need precisely one parameter file *json, found: []\n"
       ]
      },
      {
       "output_type": "stream",
       "stream": "stderr",
       "text": [
        "WARNING:sarpy.io.Adata_classes:Could not load AData\n"
       ]
      },
      {
       "output_type": "stream",
       "stream": "stderr",
       "text": [
        "WARNING:sarpy.io.Adata_classes:Need precisely one parameter file *json, found: []\n"
       ]
      },
      {
       "output_type": "stream",
       "stream": "stderr",
       "text": [
        "WARNING:sarpy.io.Adata_classes:Could not load AData\n"
       ]
      },
      {
       "output_type": "stream",
       "stream": "stderr",
       "text": [
        "WARNING:sarpy.io.Adata_classes:Need precisely one parameter file *json, found: []\n"
       ]
      },
      {
       "output_type": "stream",
       "stream": "stderr",
       "text": [
        "WARNING:sarpy.io.Adata_classes:Could not load AData\n"
       ]
      },
      {
       "output_type": "stream",
       "stream": "stderr",
       "text": [
        "WARNING:sarpy.io.Adata_classes:Need precisely one parameter file *json, found: []\n"
       ]
      },
      {
       "output_type": "stream",
       "stream": "stderr",
       "text": [
        "WARNING:sarpy.io.Adata_classes:Could not load AData\n"
       ]
      },
      {
       "output_type": "stream",
       "stream": "stderr",
       "text": [
        "WARNING:sarpy.io.Adata_classes:Need precisely one parameter file *json, found: []\n"
       ]
      },
      {
       "output_type": "stream",
       "stream": "stderr",
       "text": [
        "WARNING:sarpy.io.Adata_classes:Could not load AData\n"
       ]
      },
      {
       "output_type": "stream",
       "stream": "stderr",
       "text": [
        "WARNING:sarpy.io.Adata_classes:Need precisely one parameter file *json, found: []\n"
       ]
      },
      {
       "output_type": "stream",
       "stream": "stderr",
       "text": [
        "WARNING:sarpy.io.Adata_classes:Could not load AData\n"
       ]
      },
      {
       "output_type": "stream",
       "stream": "stderr",
       "text": [
        "WARNING:sarpy.io.Adata_classes:Need precisely one parameter file *json, found: []\n"
       ]
      },
      {
       "output_type": "stream",
       "stream": "stderr",
       "text": [
        "WARNING:sarpy.io.Adata_classes:Could not load AData\n"
       ]
      },
      {
       "output_type": "stream",
       "stream": "stderr",
       "text": [
        "WARNING:sarpy.io.Adata_classes:Need precisely one parameter file *json, found: []\n"
       ]
      },
      {
       "output_type": "stream",
       "stream": "stderr",
       "text": [
        "WARNING:sarpy.io.Adata_classes:Could not load AData\n"
       ]
      },
      {
       "output_type": "stream",
       "stream": "stderr",
       "text": [
        "WARNING:sarpy.io.Adata_classes:Need precisely one parameter file *json, found: []\n"
       ]
      },
      {
       "output_type": "stream",
       "stream": "stderr",
       "text": [
        "WARNING:sarpy.io.Adata_classes:Could not load AData\n"
       ]
      },
      {
       "output_type": "stream",
       "stream": "stderr",
       "text": [
        "WARNING:sarpy.io.Adata_classes:Need precisely one parameter file *json, found: []\n"
       ]
      },
      {
       "output_type": "stream",
       "stream": "stderr",
       "text": [
        "WARNING:sarpy.io.Adata_classes:Could not load AData\n"
       ]
      },
      {
       "output_type": "stream",
       "stream": "stderr",
       "text": [
        "WARNING:sarpy.io.Adata_classes:Need precisely one parameter file *json, found: []\n"
       ]
      },
      {
       "output_type": "stream",
       "stream": "stderr",
       "text": [
        "WARNING:sarpy.io.Adata_classes:Could not load AData\n"
       ]
      },
      {
       "output_type": "stream",
       "stream": "stderr",
       "text": [
        "WARNING:sarpy.io.Adata_classes:Need precisely one parameter file *json, found: []\n"
       ]
      },
      {
       "output_type": "stream",
       "stream": "stderr",
       "text": [
        "WARNING:sarpy.io.Adata_classes:Could not load AData\n"
       ]
      },
      {
       "output_type": "stream",
       "stream": "stderr",
       "text": [
        "WARNING:sarpy.io.Adata_classes:Need precisely one parameter file *json, found: []\n"
       ]
      },
      {
       "output_type": "stream",
       "stream": "stderr",
       "text": [
        "WARNING:sarpy.io.Adata_classes:Could not load AData\n"
       ]
      },
      {
       "output_type": "stream",
       "stream": "stderr",
       "text": [
        "WARNING:sarpy.io.Adata_classes:Need precisely one parameter file *json, found: []\n"
       ]
      },
      {
       "output_type": "stream",
       "stream": "stderr",
       "text": [
        "WARNING:sarpy.io.Adata_classes:Could not load AData\n"
       ]
      },
      {
       "output_type": "stream",
       "stream": "stderr",
       "text": [
        "WARNING:sarpy.io.Adata_classes:Need precisely one parameter file *json, found: []\n"
       ]
      },
      {
       "output_type": "stream",
       "stream": "stderr",
       "text": [
        "WARNING:sarpy.io.Adata_classes:Could not load AData\n"
       ]
      },
      {
       "output_type": "stream",
       "stream": "stderr",
       "text": [
        "WARNING:sarpy.io.Adata_classes:Need precisely one parameter file *json, found: []\n"
       ]
      },
      {
       "output_type": "stream",
       "stream": "stderr",
       "text": [
        "WARNING:sarpy.io.Adata_classes:Could not load AData\n"
       ]
      },
      {
       "output_type": "stream",
       "stream": "stderr",
       "text": [
        "WARNING:sarpy.io.Adata_classes:Need precisely one parameter file *json, found: []\n"
       ]
      },
      {
       "output_type": "stream",
       "stream": "stderr",
       "text": [
        "WARNING:sarpy.io.Adata_classes:Could not load AData\n"
       ]
      },
      {
       "output_type": "stream",
       "stream": "stderr",
       "text": [
        "WARNING:sarpy.io.Adata_classes:Need precisely one parameter file *json, found: []\n"
       ]
      },
      {
       "output_type": "stream",
       "stream": "stderr",
       "text": [
        "WARNING:sarpy.io.Adata_classes:Could not load AData\n"
       ]
      },
      {
       "output_type": "stream",
       "stream": "stderr",
       "text": [
        "WARNING:sarpy.io.Adata_classes:Need precisely one parameter file *json, found: []\n"
       ]
      },
      {
       "output_type": "stream",
       "stream": "stderr",
       "text": [
        "WARNING:sarpy.io.Adata_classes:Could not load AData\n"
       ]
      },
      {
       "output_type": "stream",
       "stream": "stderr",
       "text": [
        "WARNING:sarpy.io.Adata_classes:Need precisely one parameter file *json, found: []\n"
       ]
      },
      {
       "output_type": "stream",
       "stream": "stderr",
       "text": [
        "WARNING:sarpy.io.Adata_classes:Could not load AData\n"
       ]
      },
      {
       "output_type": "stream",
       "stream": "stderr",
       "text": [
        "WARNING:sarpy.io.Adata_classes:Need precisely one parameter file *json, found: []\n"
       ]
      },
      {
       "output_type": "stream",
       "stream": "stderr",
       "text": [
        "WARNING:sarpy.io.Adata_classes:Could not load AData\n"
       ]
      },
      {
       "output_type": "stream",
       "stream": "stderr",
       "text": [
        "WARNING:sarpy.io.Adata_classes:Need precisely one parameter file *json, found: []\n"
       ]
      },
      {
       "output_type": "stream",
       "stream": "stderr",
       "text": [
        "WARNING:sarpy.io.Adata_classes:Could not load AData\n"
       ]
      },
      {
       "output_type": "stream",
       "stream": "stderr",
       "text": [
        "WARNING:sarpy.io.Adata_classes:Need precisely one parameter file *json, found: []\n"
       ]
      },
      {
       "output_type": "stream",
       "stream": "stderr",
       "text": [
        "WARNING:sarpy.io.Adata_classes:Could not load AData\n"
       ]
      },
      {
       "output_type": "stream",
       "stream": "stderr",
       "text": [
        "WARNING:sarpy.io.Adata_classes:Need precisely one parameter file *json, found: []\n"
       ]
      },
      {
       "output_type": "stream",
       "stream": "stderr",
       "text": [
        "WARNING:sarpy.io.Adata_classes:Could not load AData\n"
       ]
      },
      {
       "output_type": "stream",
       "stream": "stderr",
       "text": [
        "WARNING:sarpy.io.Adata_classes:Need precisely one parameter file *json, found: []\n"
       ]
      },
      {
       "output_type": "stream",
       "stream": "stderr",
       "text": [
        "WARNING:sarpy.io.Adata_classes:Could not load AData\n"
       ]
      },
      {
       "output_type": "stream",
       "stream": "stderr",
       "text": [
        "WARNING:sarpy.io.Adata_classes:Need precisely one parameter file *json, found: []\n"
       ]
      },
      {
       "output_type": "stream",
       "stream": "stderr",
       "text": [
        "WARNING:sarpy.io.Adata_classes:Could not load AData\n"
       ]
      },
      {
       "output_type": "stream",
       "stream": "stderr",
       "text": [
        "WARNING:sarpy.io.Adata_classes:Need precisely one parameter file *json, found: []\n"
       ]
      },
      {
       "output_type": "stream",
       "stream": "stderr",
       "text": [
        "WARNING:sarpy.io.Adata_classes:Could not load AData\n"
       ]
      },
      {
       "output_type": "stream",
       "stream": "stderr",
       "text": [
        "WARNING:sarpy.io.Adata_classes:Need precisely one parameter file *json, found: []\n"
       ]
      },
      {
       "output_type": "stream",
       "stream": "stderr",
       "text": [
        "WARNING:sarpy.io.Adata_classes:Could not load AData\n"
       ]
      },
      {
       "output_type": "stream",
       "stream": "stderr",
       "text": [
        "WARNING:sarpy.io.Adata_classes:Need precisely one parameter file *json, found: []\n"
       ]
      },
      {
       "output_type": "stream",
       "stream": "stderr",
       "text": [
        "WARNING:sarpy.io.Adata_classes:Could not load AData\n"
       ]
      },
      {
       "output_type": "stream",
       "stream": "stderr",
       "text": [
        "WARNING:sarpy.io.Adata_classes:Need precisely one parameter file *json, found: []\n"
       ]
      },
      {
       "output_type": "stream",
       "stream": "stderr",
       "text": [
        "WARNING:sarpy.io.Adata_classes:Could not load AData\n"
       ]
      },
      {
       "output_type": "stream",
       "stream": "stderr",
       "text": [
        "WARNING:sarpy.io.Adata_classes:Need precisely one parameter file *json, found: []\n"
       ]
      },
      {
       "output_type": "stream",
       "stream": "stderr",
       "text": [
        "WARNING:sarpy.io.Adata_classes:Could not load AData\n"
       ]
      },
      {
       "output_type": "stream",
       "stream": "stderr",
       "text": [
        "WARNING:sarpy.io.Adata_classes:Need precisely one parameter file *json, found: []\n"
       ]
      },
      {
       "output_type": "stream",
       "stream": "stderr",
       "text": [
        "WARNING:sarpy.io.Adata_classes:Could not load AData\n"
       ]
      },
      {
       "output_type": "stream",
       "stream": "stderr",
       "text": [
        "WARNING:sarpy.io.Adata_classes:Need precisely one parameter file *json, found: []\n"
       ]
      },
      {
       "output_type": "stream",
       "stream": "stderr",
       "text": [
        "WARNING:sarpy.io.Adata_classes:Could not load AData\n"
       ]
      },
      {
       "output_type": "stream",
       "stream": "stderr",
       "text": [
        "WARNING:sarpy.io.Adata_classes:Need precisely one parameter file *json, found: []\n"
       ]
      },
      {
       "output_type": "stream",
       "stream": "stderr",
       "text": [
        "WARNING:sarpy.io.Adata_classes:Could not load AData\n"
       ]
      },
      {
       "output_type": "stream",
       "stream": "stderr",
       "text": [
        "WARNING:sarpy.io.Adata_classes:Need precisely one parameter file *json, found: []\n"
       ]
      },
      {
       "output_type": "stream",
       "stream": "stderr",
       "text": [
        "WARNING:sarpy.io.Adata_classes:Could not load AData\n"
       ]
      },
      {
       "output_type": "stream",
       "stream": "stderr",
       "text": [
        "WARNING:sarpy.io.Adata_classes:Need precisely one parameter file *json, found: []\n"
       ]
      },
      {
       "output_type": "stream",
       "stream": "stderr",
       "text": [
        "WARNING:sarpy.io.Adata_classes:Could not load AData\n"
       ]
      },
      {
       "output_type": "stream",
       "stream": "stderr",
       "text": [
        "WARNING:sarpy.io.Adata_classes:Need precisely one parameter file *json, found: []\n"
       ]
      },
      {
       "output_type": "stream",
       "stream": "stderr",
       "text": [
        "WARNING:sarpy.io.Adata_classes:Could not load AData\n"
       ]
      },
      {
       "output_type": "stream",
       "stream": "stderr",
       "text": [
        "WARNING:sarpy.io.Adata_classes:Need precisely one parameter file *json, found: []\n"
       ]
      },
      {
       "output_type": "stream",
       "stream": "stderr",
       "text": [
        "WARNING:sarpy.io.Adata_classes:Could not load AData\n"
       ]
      },
      {
       "output_type": "stream",
       "stream": "stderr",
       "text": [
        "WARNING:sarpy.io.Adata_classes:Need precisely one parameter file *json, found: []\n"
       ]
      },
      {
       "output_type": "stream",
       "stream": "stderr",
       "text": [
        "WARNING:sarpy.io.Adata_classes:Could not load AData\n"
       ]
      },
      {
       "output_type": "stream",
       "stream": "stderr",
       "text": [
        "WARNING:sarpy.io.Adata_classes:Need precisely one parameter file *json, found: []\n"
       ]
      },
      {
       "output_type": "stream",
       "stream": "stderr",
       "text": [
        "WARNING:sarpy.io.Adata_classes:Could not load AData\n"
       ]
      },
      {
       "output_type": "stream",
       "stream": "stderr",
       "text": [
        "WARNING:sarpy.io.Adata_classes:Need precisely one parameter file *json, found: []\n"
       ]
      },
      {
       "output_type": "stream",
       "stream": "stderr",
       "text": [
        "WARNING:sarpy.io.Adata_classes:Could not load AData\n"
       ]
      },
      {
       "output_type": "stream",
       "stream": "stderr",
       "text": [
        "WARNING:sarpy.io.Adata_classes:Need precisely one parameter file *json, found: []\n"
       ]
      },
      {
       "output_type": "stream",
       "stream": "stderr",
       "text": [
        "WARNING:sarpy.io.Adata_classes:Could not load AData\n"
       ]
      },
      {
       "output_type": "stream",
       "stream": "stderr",
       "text": [
        "WARNING:sarpy.io.Adata_classes:Need precisely one parameter file *json, found: []\n"
       ]
      },
      {
       "output_type": "stream",
       "stream": "stderr",
       "text": [
        "WARNING:sarpy.io.Adata_classes:Could not load AData\n"
       ]
      },
      {
       "output_type": "stream",
       "stream": "stderr",
       "text": [
        "WARNING:sarpy.io.Adata_classes:Need precisely one parameter file *json, found: []\n"
       ]
      },
      {
       "output_type": "stream",
       "stream": "stderr",
       "text": [
        "WARNING:sarpy.io.Adata_classes:Could not load AData\n"
       ]
      },
      {
       "output_type": "stream",
       "stream": "stderr",
       "text": [
        "WARNING:sarpy.io.Adata_classes:Need precisely one parameter file *json, found: []\n"
       ]
      },
      {
       "output_type": "stream",
       "stream": "stderr",
       "text": [
        "WARNING:sarpy.io.Adata_classes:Could not load AData\n"
       ]
      },
      {
       "output_type": "stream",
       "stream": "stderr",
       "text": [
        "WARNING:sarpy.io.Adata_classes:Need precisely one parameter file *json, found: []\n"
       ]
      },
      {
       "output_type": "stream",
       "stream": "stderr",
       "text": [
        "WARNING:sarpy.io.Adata_classes:Could not load AData\n"
       ]
      },
      {
       "output_type": "stream",
       "stream": "stderr",
       "text": [
        "WARNING:sarpy.io.Adata_classes:Need precisely one parameter file *json, found: []\n"
       ]
      },
      {
       "output_type": "stream",
       "stream": "stderr",
       "text": [
        "WARNING:sarpy.io.Adata_classes:Could not load AData\n"
       ]
      },
      {
       "output_type": "stream",
       "stream": "stderr",
       "text": [
        "WARNING:sarpy.io.Adata_classes:Need precisely one parameter file *json, found: []\n"
       ]
      },
      {
       "output_type": "stream",
       "stream": "stderr",
       "text": [
        "WARNING:sarpy.io.Adata_classes:Could not load AData\n"
       ]
      },
      {
       "output_type": "stream",
       "stream": "stderr",
       "text": [
        "WARNING:sarpy.io.Adata_classes:Need precisely one parameter file *json, found: []\n"
       ]
      },
      {
       "output_type": "stream",
       "stream": "stderr",
       "text": [
        "WARNING:sarpy.io.Adata_classes:Could not load AData\n"
       ]
      },
      {
       "output_type": "stream",
       "stream": "stderr",
       "text": [
        "WARNING:sarpy.io.Adata_classes:Need precisely one parameter file *json, found: []\n"
       ]
      },
      {
       "output_type": "stream",
       "stream": "stderr",
       "text": [
        "WARNING:sarpy.io.Adata_classes:Could not load AData\n"
       ]
      },
      {
       "output_type": "stream",
       "stream": "stderr",
       "text": [
        "WARNING:sarpy.io.Adata_classes:Need precisely one parameter file *json, found: []\n"
       ]
      },
      {
       "output_type": "stream",
       "stream": "stderr",
       "text": [
        "WARNING:sarpy.io.Adata_classes:Could not load AData\n"
       ]
      },
      {
       "output_type": "stream",
       "stream": "stderr",
       "text": [
        "WARNING:sarpy.io.Adata_classes:Need precisely one parameter file *json, found: []\n"
       ]
      },
      {
       "output_type": "stream",
       "stream": "stderr",
       "text": [
        "WARNING:sarpy.io.Adata_classes:Could not load AData\n"
       ]
      },
      {
       "output_type": "stream",
       "stream": "stderr",
       "text": [
        "WARNING:sarpy.io.Adata_classes:Need precisely one parameter file *json, found: []\n"
       ]
      },
      {
       "output_type": "stream",
       "stream": "stderr",
       "text": [
        "WARNING:sarpy.io.Adata_classes:Could not load AData\n"
       ]
      },
      {
       "output_type": "stream",
       "stream": "stderr",
       "text": [
        "WARNING:sarpy.io.Adata_classes:Need precisely one parameter file *json, found: []\n"
       ]
      },
      {
       "output_type": "stream",
       "stream": "stderr",
       "text": [
        "WARNING:sarpy.io.Adata_classes:Could not load AData\n"
       ]
      },
      {
       "output_type": "stream",
       "stream": "stderr",
       "text": [
        "WARNING:sarpy.io.Adata_classes:Need precisely one parameter file *json, found: []\n"
       ]
      },
      {
       "output_type": "stream",
       "stream": "stderr",
       "text": [
        "WARNING:sarpy.io.Adata_classes:Could not load AData\n"
       ]
      },
      {
       "output_type": "stream",
       "stream": "stderr",
       "text": [
        "WARNING:sarpy.io.Adata_classes:Need precisely one parameter file *json, found: []\n"
       ]
      },
      {
       "output_type": "stream",
       "stream": "stderr",
       "text": [
        "WARNING:sarpy.io.Adata_classes:Could not load AData\n"
       ]
      },
      {
       "output_type": "stream",
       "stream": "stderr",
       "text": [
        "WARNING:sarpy.io.Adata_classes:Need precisely one parameter file *json, found: []\n"
       ]
      },
      {
       "output_type": "stream",
       "stream": "stderr",
       "text": [
        "WARNING:sarpy.io.Adata_classes:Could not load AData\n"
       ]
      },
      {
       "output_type": "stream",
       "stream": "stderr",
       "text": [
        "WARNING:sarpy.io.Adata_classes:Need precisely one parameter file *json, found: []\n"
       ]
      },
      {
       "output_type": "stream",
       "stream": "stderr",
       "text": [
        "WARNING:sarpy.io.Adata_classes:Could not load AData\n"
       ]
      },
      {
       "output_type": "stream",
       "stream": "stderr",
       "text": [
        "WARNING:sarpy.io.Adata_classes:Need precisely one parameter file *json, found: []\n"
       ]
      },
      {
       "output_type": "stream",
       "stream": "stderr",
       "text": [
        "WARNING:sarpy.io.Adata_classes:Could not load AData\n"
       ]
      },
      {
       "output_type": "stream",
       "stream": "stderr",
       "text": [
        "WARNING:sarpy.io.Adata_classes:Need precisely one parameter file *json, found: []\n"
       ]
      },
      {
       "output_type": "stream",
       "stream": "stderr",
       "text": [
        "WARNING:sarpy.io.Adata_classes:Could not load AData\n"
       ]
      },
      {
       "output_type": "stream",
       "stream": "stderr",
       "text": [
        "WARNING:sarpy.io.Adata_classes:Need precisely one parameter file *json, found: []\n"
       ]
      },
      {
       "output_type": "stream",
       "stream": "stderr",
       "text": [
        "WARNING:sarpy.io.Adata_classes:Could not load AData\n"
       ]
      },
      {
       "output_type": "stream",
       "stream": "stderr",
       "text": [
        "WARNING:sarpy.io.Adata_classes:Need precisely one parameter file *json, found: []\n"
       ]
      },
      {
       "output_type": "stream",
       "stream": "stderr",
       "text": [
        "WARNING:sarpy.io.Adata_classes:Could not load AData\n"
       ]
      },
      {
       "output_type": "stream",
       "stream": "stderr",
       "text": [
        "WARNING:sarpy.io.Adata_classes:Need precisely one parameter file *json, found: []\n"
       ]
      },
      {
       "output_type": "stream",
       "stream": "stderr",
       "text": [
        "WARNING:sarpy.io.Adata_classes:Could not load AData\n"
       ]
      },
      {
       "output_type": "stream",
       "stream": "stderr",
       "text": [
        "WARNING:sarpy.io.Adata_classes:Need precisely one parameter file *json, found: []\n"
       ]
      },
      {
       "output_type": "stream",
       "stream": "stderr",
       "text": [
        "WARNING:sarpy.io.Adata_classes:Could not load AData\n"
       ]
      },
      {
       "output_type": "stream",
       "stream": "stderr",
       "text": [
        "WARNING:sarpy.io.Adata_classes:Need precisely one parameter file *json, found: []\n"
       ]
      },
      {
       "output_type": "stream",
       "stream": "stderr",
       "text": [
        "WARNING:sarpy.io.Adata_classes:Could not load AData\n"
       ]
      },
      {
       "output_type": "stream",
       "stream": "stderr",
       "text": [
        "WARNING:sarpy.io.Adata_classes:Need precisely one parameter file *json, found: []\n"
       ]
      },
      {
       "output_type": "stream",
       "stream": "stderr",
       "text": [
        "WARNING:sarpy.io.Adata_classes:Could not load AData\n"
       ]
      },
      {
       "output_type": "stream",
       "stream": "stderr",
       "text": [
        "WARNING:sarpy.io.Adata_classes:Need precisely one parameter file *json, found: []\n"
       ]
      },
      {
       "output_type": "stream",
       "stream": "stderr",
       "text": [
        "WARNING:sarpy.io.Adata_classes:Could not load AData\n"
       ]
      },
      {
       "output_type": "stream",
       "stream": "stderr",
       "text": [
        "WARNING:sarpy.io.Adata_classes:Need precisely one parameter file *json, found: []\n"
       ]
      },
      {
       "output_type": "stream",
       "stream": "stderr",
       "text": [
        "WARNING:sarpy.io.Adata_classes:Could not load AData\n"
       ]
      },
      {
       "output_type": "stream",
       "stream": "stderr",
       "text": [
        "WARNING:sarpy.io.Adata_classes:Need precisely one parameter file *json, found: []\n"
       ]
      },
      {
       "output_type": "stream",
       "stream": "stderr",
       "text": [
        "WARNING:sarpy.io.Adata_classes:Could not load AData\n"
       ]
      },
      {
       "output_type": "stream",
       "stream": "stderr",
       "text": [
        "WARNING:sarpy.io.Adata_classes:Need precisely one parameter file *json, found: []\n"
       ]
      },
      {
       "output_type": "stream",
       "stream": "stderr",
       "text": [
        "WARNING:sarpy.io.Adata_classes:Could not load AData\n"
       ]
      },
      {
       "output_type": "stream",
       "stream": "stderr",
       "text": [
        "WARNING:sarpy.io.Adata_classes:Need precisely one parameter file *json, found: []\n"
       ]
      },
      {
       "output_type": "stream",
       "stream": "stderr",
       "text": [
        "WARNING:sarpy.io.Adata_classes:Could not load AData\n"
       ]
      },
      {
       "output_type": "stream",
       "stream": "stderr",
       "text": [
        "WARNING:sarpy.io.Adata_classes:Need precisely one parameter file *json, found: []\n"
       ]
      },
      {
       "output_type": "stream",
       "stream": "stderr",
       "text": [
        "WARNING:sarpy.io.Adata_classes:Could not load AData\n"
       ]
      },
      {
       "output_type": "stream",
       "stream": "stderr",
       "text": [
        "WARNING:sarpy.io.Adata_classes:Need precisely one parameter file *json, found: []\n"
       ]
      },
      {
       "output_type": "stream",
       "stream": "stderr",
       "text": [
        "WARNING:sarpy.io.Adata_classes:Could not load AData\n"
       ]
      },
      {
       "output_type": "stream",
       "stream": "stderr",
       "text": [
        "WARNING:sarpy.io.Adata_classes:Need precisely one parameter file *json, found: []\n"
       ]
      },
      {
       "output_type": "stream",
       "stream": "stderr",
       "text": [
        "WARNING:sarpy.io.Adata_classes:Could not load AData\n"
       ]
      },
      {
       "output_type": "stream",
       "stream": "stderr",
       "text": [
        "WARNING:sarpy.io.Adata_classes:Need precisely one parameter file *json, found: []\n"
       ]
      },
      {
       "output_type": "stream",
       "stream": "stderr",
       "text": [
        "WARNING:sarpy.io.Adata_classes:Could not load AData\n"
       ]
      },
      {
       "output_type": "stream",
       "stream": "stderr",
       "text": [
        "WARNING:sarpy.io.Adata_classes:Need precisely one parameter file *json, found: []\n"
       ]
      },
      {
       "output_type": "stream",
       "stream": "stderr",
       "text": [
        "WARNING:sarpy.io.Adata_classes:Could not load AData\n"
       ]
      },
      {
       "output_type": "stream",
       "stream": "stderr",
       "text": [
        "WARNING:sarpy.io.Adata_classes:Need precisely one parameter file *json, found: []\n"
       ]
      },
      {
       "output_type": "stream",
       "stream": "stderr",
       "text": [
        "WARNING:sarpy.io.Adata_classes:Could not load AData\n"
       ]
      },
      {
       "output_type": "stream",
       "stream": "stderr",
       "text": [
        "WARNING:sarpy.io.Adata_classes:Need precisely one parameter file *json, found: []\n"
       ]
      },
      {
       "output_type": "stream",
       "stream": "stderr",
       "text": [
        "WARNING:sarpy.io.Adata_classes:Could not load AData\n"
       ]
      },
      {
       "output_type": "stream",
       "stream": "stderr",
       "text": [
        "WARNING:sarpy.io.Adata_classes:Need precisely one parameter file *json, found: []\n"
       ]
      },
      {
       "output_type": "stream",
       "stream": "stderr",
       "text": [
        "WARNING:sarpy.io.Adata_classes:Could not load AData\n"
       ]
      },
      {
       "output_type": "stream",
       "stream": "stderr",
       "text": [
        "WARNING:sarpy.io.Adata_classes:Need precisely one parameter file *json, found: []\n"
       ]
      },
      {
       "output_type": "stream",
       "stream": "stderr",
       "text": [
        "WARNING:sarpy.io.Adata_classes:Could not load AData\n"
       ]
      },
      {
       "output_type": "stream",
       "stream": "stderr",
       "text": [
        "WARNING:sarpy.io.Adata_classes:Need precisely one parameter file *json, found: []\n"
       ]
      },
      {
       "output_type": "stream",
       "stream": "stderr",
       "text": [
        "WARNING:sarpy.io.Adata_classes:Could not load AData\n"
       ]
      },
      {
       "output_type": "stream",
       "stream": "stderr",
       "text": [
        "WARNING:sarpy.io.Adata_classes:Need precisely one parameter file *json, found: []\n"
       ]
      },
      {
       "output_type": "stream",
       "stream": "stderr",
       "text": [
        "WARNING:sarpy.io.Adata_classes:Could not load AData\n"
       ]
      },
      {
       "output_type": "stream",
       "stream": "stderr",
       "text": [
        "WARNING:sarpy.io.Adata_classes:Need precisely one parameter file *json, found: []\n"
       ]
      },
      {
       "output_type": "stream",
       "stream": "stderr",
       "text": [
        "WARNING:sarpy.io.Adata_classes:Could not load AData\n"
       ]
      },
      {
       "output_type": "stream",
       "stream": "stderr",
       "text": [
        "WARNING:sarpy.io.Adata_classes:Need precisely one parameter file *json, found: []\n"
       ]
      },
      {
       "output_type": "stream",
       "stream": "stderr",
       "text": [
        "WARNING:sarpy.io.Adata_classes:Could not load AData\n"
       ]
      },
      {
       "output_type": "stream",
       "stream": "stderr",
       "text": [
        "WARNING:sarpy.io.Adata_classes:Need precisely one parameter file *json, found: []\n"
       ]
      },
      {
       "output_type": "stream",
       "stream": "stderr",
       "text": [
        "WARNING:sarpy.io.Adata_classes:Could not load AData\n"
       ]
      },
      {
       "output_type": "stream",
       "stream": "stderr",
       "text": [
        "WARNING:sarpy.io.Adata_classes:Need precisely one parameter file *json, found: []\n"
       ]
      },
      {
       "output_type": "stream",
       "stream": "stderr",
       "text": [
        "WARNING:sarpy.io.Adata_classes:Could not load AData\n"
       ]
      },
      {
       "output_type": "stream",
       "stream": "stderr",
       "text": [
        "WARNING:sarpy.io.Adata_classes:Need precisely one parameter file *json, found: []\n"
       ]
      },
      {
       "output_type": "stream",
       "stream": "stderr",
       "text": [
        "WARNING:sarpy.io.Adata_classes:Could not load AData\n"
       ]
      },
      {
       "output_type": "stream",
       "stream": "stderr",
       "text": [
        "WARNING:sarpy.io.Adata_classes:Need precisely one parameter file *json, found: []\n"
       ]
      },
      {
       "output_type": "stream",
       "stream": "stderr",
       "text": [
        "WARNING:sarpy.io.Adata_classes:Could not load AData\n"
       ]
      },
      {
       "output_type": "stream",
       "stream": "stderr",
       "text": [
        "WARNING:sarpy.io.Adata_classes:Need precisely one parameter file *json, found: []\n"
       ]
      },
      {
       "output_type": "stream",
       "stream": "stderr",
       "text": [
        "WARNING:sarpy.io.Adata_classes:Could not load AData\n"
       ]
      },
      {
       "output_type": "stream",
       "stream": "stderr",
       "text": [
        "WARNING:sarpy.io.Adata_classes:Need precisely one parameter file *json, found: []\n"
       ]
      },
      {
       "output_type": "stream",
       "stream": "stderr",
       "text": [
        "WARNING:sarpy.io.Adata_classes:Could not load AData\n"
       ]
      },
      {
       "output_type": "stream",
       "stream": "stderr",
       "text": [
        "WARNING:sarpy.io.Adata_classes:Need precisely one parameter file *json, found: []\n"
       ]
      },
      {
       "output_type": "stream",
       "stream": "stderr",
       "text": [
        "WARNING:sarpy.io.Adata_classes:Could not load AData\n"
       ]
      },
      {
       "output_type": "stream",
       "stream": "stderr",
       "text": [
        "WARNING:sarpy.io.Adata_classes:Need precisely one parameter file *json, found: []\n"
       ]
      },
      {
       "output_type": "stream",
       "stream": "stderr",
       "text": [
        "WARNING:sarpy.io.Adata_classes:Could not load AData\n"
       ]
      },
      {
       "output_type": "stream",
       "stream": "stderr",
       "text": [
        "WARNING:sarpy.io.Adata_classes:Need precisely one parameter file *json, found: []\n"
       ]
      },
      {
       "output_type": "stream",
       "stream": "stderr",
       "text": [
        "WARNING:sarpy.io.Adata_classes:Could not load AData\n"
       ]
      },
      {
       "output_type": "stream",
       "stream": "stderr",
       "text": [
        "WARNING:sarpy.io.Adata_classes:Need precisely one parameter file *json, found: []\n"
       ]
      },
      {
       "output_type": "stream",
       "stream": "stderr",
       "text": [
        "WARNING:sarpy.io.Adata_classes:Could not load AData\n"
       ]
      },
      {
       "output_type": "stream",
       "stream": "stderr",
       "text": [
        "WARNING:sarpy.io.Adata_classes:Need precisely one parameter file *json, found: []\n"
       ]
      },
      {
       "output_type": "stream",
       "stream": "stderr",
       "text": [
        "WARNING:sarpy.io.Adata_classes:Could not load AData\n"
       ]
      },
      {
       "output_type": "stream",
       "stream": "stderr",
       "text": [
        "WARNING:sarpy.io.Adata_classes:Need precisely one parameter file *json, found: []\n"
       ]
      },
      {
       "output_type": "stream",
       "stream": "stderr",
       "text": [
        "WARNING:sarpy.io.Adata_classes:Could not load AData\n"
       ]
      },
      {
       "output_type": "stream",
       "stream": "stderr",
       "text": [
        "WARNING:sarpy.io.Adata_classes:Need precisely one parameter file *json, found: []\n"
       ]
      },
      {
       "output_type": "stream",
       "stream": "stderr",
       "text": [
        "WARNING:sarpy.io.Adata_classes:Could not load AData\n"
       ]
      },
      {
       "output_type": "stream",
       "stream": "stderr",
       "text": [
        "WARNING:sarpy.io.Adata_classes:Need precisely one parameter file *json, found: []\n"
       ]
      },
      {
       "output_type": "stream",
       "stream": "stderr",
       "text": [
        "WARNING:sarpy.io.Adata_classes:Could not load AData\n"
       ]
      },
      {
       "output_type": "stream",
       "stream": "stderr",
       "text": [
        "WARNING:sarpy.io.Adata_classes:Need precisely one parameter file *json, found: []\n"
       ]
      },
      {
       "output_type": "stream",
       "stream": "stderr",
       "text": [
        "WARNING:sarpy.io.Adata_classes:Could not load AData\n"
       ]
      },
      {
       "output_type": "stream",
       "stream": "stderr",
       "text": [
        "WARNING:sarpy.io.Adata_classes:Need precisely one parameter file *json, found: []\n"
       ]
      },
      {
       "output_type": "stream",
       "stream": "stderr",
       "text": [
        "WARNING:sarpy.io.Adata_classes:Could not load AData\n"
       ]
      },
      {
       "output_type": "stream",
       "stream": "stderr",
       "text": [
        "WARNING:sarpy.io.Adata_classes:Need precisely one parameter file *json, found: []\n"
       ]
      },
      {
       "output_type": "stream",
       "stream": "stderr",
       "text": [
        "WARNING:sarpy.io.Adata_classes:Could not load AData\n"
       ]
      },
      {
       "output_type": "stream",
       "stream": "stderr",
       "text": [
        "WARNING:sarpy.io.Adata_classes:Need precisely one parameter file *json, found: []\n"
       ]
      },
      {
       "output_type": "stream",
       "stream": "stderr",
       "text": [
        "WARNING:sarpy.io.Adata_classes:Could not load AData\n"
       ]
      },
      {
       "output_type": "stream",
       "stream": "stderr",
       "text": [
        "WARNING:sarpy.io.Adata_classes:Need precisely one parameter file *json, found: []\n"
       ]
      },
      {
       "output_type": "stream",
       "stream": "stderr",
       "text": [
        "WARNING:sarpy.io.Adata_classes:Could not load AData\n"
       ]
      },
      {
       "output_type": "stream",
       "stream": "stderr",
       "text": [
        "WARNING:sarpy.io.Adata_classes:Need precisely one parameter file *json, found: []\n"
       ]
      },
      {
       "output_type": "stream",
       "stream": "stderr",
       "text": [
        "WARNING:sarpy.io.Adata_classes:Could not load AData\n"
       ]
      },
      {
       "output_type": "stream",
       "stream": "stderr",
       "text": [
        "WARNING:sarpy.io.Adata_classes:Need precisely one parameter file *json, found: []\n"
       ]
      },
      {
       "output_type": "stream",
       "stream": "stderr",
       "text": [
        "WARNING:sarpy.io.Adata_classes:Could not load AData\n"
       ]
      },
      {
       "output_type": "stream",
       "stream": "stderr",
       "text": [
        "WARNING:sarpy.io.Adata_classes:Need precisely one parameter file *json, found: []\n"
       ]
      },
      {
       "output_type": "stream",
       "stream": "stderr",
       "text": [
        "WARNING:sarpy.io.Adata_classes:Could not load AData\n"
       ]
      },
      {
       "output_type": "stream",
       "stream": "stderr",
       "text": [
        "WARNING:sarpy.io.Adata_classes:Need precisely one parameter file *json, found: []\n"
       ]
      },
      {
       "output_type": "stream",
       "stream": "stderr",
       "text": [
        "WARNING:sarpy.io.Adata_classes:Could not load AData\n"
       ]
      },
      {
       "output_type": "stream",
       "stream": "stderr",
       "text": [
        "WARNING:sarpy.io.Adata_classes:Need precisely one parameter file *json, found: []\n"
       ]
      },
      {
       "output_type": "stream",
       "stream": "stderr",
       "text": [
        "WARNING:sarpy.io.Adata_classes:Could not load AData\n"
       ]
      },
      {
       "output_type": "stream",
       "stream": "stderr",
       "text": [
        "WARNING:sarpy.io.Adata_classes:Need precisely one parameter file *json, found: []\n"
       ]
      },
      {
       "output_type": "stream",
       "stream": "stderr",
       "text": [
        "WARNING:sarpy.io.Adata_classes:Could not load AData\n"
       ]
      },
      {
       "output_type": "stream",
       "stream": "stderr",
       "text": [
        "WARNING:sarpy.io.Adata_classes:Need precisely one parameter file *json, found: []\n"
       ]
      },
      {
       "output_type": "stream",
       "stream": "stderr",
       "text": [
        "WARNING:sarpy.io.Adata_classes:Could not load AData\n"
       ]
      },
      {
       "output_type": "stream",
       "stream": "stderr",
       "text": [
        "WARNING:sarpy.io.Adata_classes:Need precisely one parameter file *json, found: []\n"
       ]
      },
      {
       "output_type": "stream",
       "stream": "stderr",
       "text": [
        "WARNING:sarpy.io.Adata_classes:Could not load AData\n"
       ]
      },
      {
       "output_type": "stream",
       "stream": "stderr",
       "text": [
        "WARNING:sarpy.io.Adata_classes:Need precisely one parameter file *json, found: []\n"
       ]
      },
      {
       "output_type": "stream",
       "stream": "stderr",
       "text": [
        "WARNING:sarpy.io.Adata_classes:Could not load AData\n"
       ]
      },
      {
       "output_type": "stream",
       "stream": "stderr",
       "text": [
        "WARNING:sarpy.io.Adata_classes:Need precisely one parameter file *json, found: []\n"
       ]
      },
      {
       "output_type": "stream",
       "stream": "stderr",
       "text": [
        "WARNING:sarpy.io.Adata_classes:Could not load AData\n"
       ]
      },
      {
       "output_type": "stream",
       "stream": "stderr",
       "text": [
        "WARNING:sarpy.io.Adata_classes:Need precisely one parameter file *json, found: []\n"
       ]
      },
      {
       "output_type": "stream",
       "stream": "stderr",
       "text": [
        "WARNING:sarpy.io.Adata_classes:Could not load AData\n"
       ]
      },
      {
       "output_type": "stream",
       "stream": "stderr",
       "text": [
        "WARNING:sarpy.io.Adata_classes:Need precisely one parameter file *json, found: []\n"
       ]
      },
      {
       "output_type": "stream",
       "stream": "stderr",
       "text": [
        "WARNING:sarpy.io.Adata_classes:Could not load AData\n"
       ]
      },
      {
       "output_type": "stream",
       "stream": "stderr",
       "text": [
        "WARNING:sarpy.io.Adata_classes:Need precisely one parameter file *json, found: []\n"
       ]
      },
      {
       "output_type": "stream",
       "stream": "stderr",
       "text": [
        "WARNING:sarpy.io.Adata_classes:Could not load AData\n"
       ]
      },
      {
       "output_type": "stream",
       "stream": "stderr",
       "text": [
        "WARNING:sarpy.io.Adata_classes:Need precisely one parameter file *json, found: []\n"
       ]
      },
      {
       "output_type": "stream",
       "stream": "stderr",
       "text": [
        "WARNING:sarpy.io.Adata_classes:Could not load AData\n"
       ]
      },
      {
       "output_type": "stream",
       "stream": "stderr",
       "text": [
        "WARNING:sarpy.io.Adata_classes:Need precisely one parameter file *json, found: []\n"
       ]
      },
      {
       "output_type": "stream",
       "stream": "stderr",
       "text": [
        "WARNING:sarpy.io.Adata_classes:Could not load AData\n"
       ]
      },
      {
       "output_type": "stream",
       "stream": "stderr",
       "text": [
        "WARNING:sarpy.io.Adata_classes:Need precisely one parameter file *json, found: []\n"
       ]
      },
      {
       "output_type": "stream",
       "stream": "stderr",
       "text": [
        "WARNING:sarpy.io.Adata_classes:Could not load AData\n"
       ]
      },
      {
       "output_type": "stream",
       "stream": "stderr",
       "text": [
        "WARNING:sarpy.io.Adata_classes:Need precisely one parameter file *json, found: []\n"
       ]
      },
      {
       "output_type": "stream",
       "stream": "stderr",
       "text": [
        "WARNING:sarpy.io.Adata_classes:Could not load AData\n"
       ]
      },
      {
       "output_type": "stream",
       "stream": "stderr",
       "text": [
        "WARNING:sarpy.io.Adata_classes:Need precisely one parameter file *json, found: []\n"
       ]
      },
      {
       "output_type": "stream",
       "stream": "stderr",
       "text": [
        "WARNING:sarpy.io.Adata_classes:Could not load AData\n"
       ]
      },
      {
       "output_type": "stream",
       "stream": "stderr",
       "text": [
        "WARNING:sarpy.io.Adata_classes:Need precisely one parameter file *json, found: []\n"
       ]
      },
      {
       "output_type": "stream",
       "stream": "stderr",
       "text": [
        "WARNING:sarpy.io.Adata_classes:Could not load AData\n"
       ]
      },
      {
       "output_type": "stream",
       "stream": "stderr",
       "text": [
        "WARNING:sarpy.io.Adata_classes:Need precisely one parameter file *json, found: []\n"
       ]
      },
      {
       "output_type": "stream",
       "stream": "stderr",
       "text": [
        "WARNING:sarpy.io.Adata_classes:Could not load AData\n"
       ]
      },
      {
       "output_type": "stream",
       "stream": "stderr",
       "text": [
        "WARNING:sarpy.io.Adata_classes:Need precisely one parameter file *json, found: []\n"
       ]
      },
      {
       "output_type": "stream",
       "stream": "stderr",
       "text": [
        "WARNING:sarpy.io.Adata_classes:Could not load AData\n"
       ]
      },
      {
       "output_type": "stream",
       "stream": "stderr",
       "text": [
        "WARNING:sarpy.io.Adata_classes:Need precisely one parameter file *json, found: []\n"
       ]
      },
      {
       "output_type": "stream",
       "stream": "stderr",
       "text": [
        "WARNING:sarpy.io.Adata_classes:Could not load AData\n"
       ]
      },
      {
       "output_type": "stream",
       "stream": "stderr",
       "text": [
        "WARNING:sarpy.io.Adata_classes:Need precisely one parameter file *json, found: []\n"
       ]
      },
      {
       "output_type": "stream",
       "stream": "stderr",
       "text": [
        "WARNING:sarpy.io.Adata_classes:Could not load AData\n"
       ]
      },
      {
       "output_type": "stream",
       "stream": "stderr",
       "text": [
        "WARNING:sarpy.io.Adata_classes:Need precisely one parameter file *json, found: []\n"
       ]
      },
      {
       "output_type": "stream",
       "stream": "stderr",
       "text": [
        "WARNING:sarpy.io.Adata_classes:Could not load AData\n"
       ]
      },
      {
       "output_type": "stream",
       "stream": "stderr",
       "text": [
        "WARNING:sarpy.io.Adata_classes:Need precisely one parameter file *json, found: []\n"
       ]
      },
      {
       "output_type": "stream",
       "stream": "stderr",
       "text": [
        "WARNING:sarpy.io.Adata_classes:Could not load AData\n"
       ]
      },
      {
       "output_type": "stream",
       "stream": "stderr",
       "text": [
        "WARNING:sarpy.io.Adata_classes:Need precisely one parameter file *json, found: []\n"
       ]
      },
      {
       "output_type": "stream",
       "stream": "stderr",
       "text": [
        "WARNING:sarpy.io.Adata_classes:Could not load AData\n"
       ]
      },
      {
       "output_type": "stream",
       "stream": "stderr",
       "text": [
        "WARNING:sarpy.io.Adata_classes:Need precisely one parameter file *json, found: []\n"
       ]
      },
      {
       "output_type": "stream",
       "stream": "stderr",
       "text": [
        "WARNING:sarpy.io.Adata_classes:Could not load AData\n"
       ]
      },
      {
       "output_type": "stream",
       "stream": "stderr",
       "text": [
        "WARNING:sarpy.io.Adata_classes:Need precisely one parameter file *json, found: []\n"
       ]
      },
      {
       "output_type": "stream",
       "stream": "stderr",
       "text": [
        "WARNING:sarpy.io.Adata_classes:Could not load AData\n"
       ]
      },
      {
       "output_type": "stream",
       "stream": "stderr",
       "text": [
        "WARNING:sarpy.io.Adata_classes:Need precisely one parameter file *json, found: []\n"
       ]
      },
      {
       "output_type": "stream",
       "stream": "stderr",
       "text": [
        "WARNING:sarpy.io.Adata_classes:Could not load AData\n"
       ]
      },
      {
       "output_type": "stream",
       "stream": "stderr",
       "text": [
        "WARNING:sarpy.io.Adata_classes:Need precisely one parameter file *json, found: []\n"
       ]
      },
      {
       "output_type": "stream",
       "stream": "stderr",
       "text": [
        "WARNING:sarpy.io.Adata_classes:Could not load AData\n"
       ]
      },
      {
       "output_type": "stream",
       "stream": "stderr",
       "text": [
        "WARNING:sarpy.io.Adata_classes:Need precisely one parameter file *json, found: []\n"
       ]
      },
      {
       "output_type": "stream",
       "stream": "stderr",
       "text": [
        "WARNING:sarpy.io.Adata_classes:Could not load AData\n"
       ]
      },
      {
       "output_type": "stream",
       "stream": "stderr",
       "text": [
        "WARNING:sarpy.io.Adata_classes:Need precisely one parameter file *json, found: []\n"
       ]
      },
      {
       "output_type": "stream",
       "stream": "stderr",
       "text": [
        "WARNING:sarpy.io.Adata_classes:Could not load AData\n"
       ]
      },
      {
       "output_type": "stream",
       "stream": "stderr",
       "text": [
        "WARNING:sarpy.io.Adata_classes:Need precisely one parameter file *json, found: []\n"
       ]
      },
      {
       "output_type": "stream",
       "stream": "stderr",
       "text": [
        "WARNING:sarpy.io.Adata_classes:Could not load AData\n"
       ]
      },
      {
       "output_type": "stream",
       "stream": "stderr",
       "text": [
        "WARNING:sarpy.io.Adata_classes:Need precisely one parameter file *json, found: []\n"
       ]
      },
      {
       "output_type": "stream",
       "stream": "stderr",
       "text": [
        "WARNING:sarpy.io.Adata_classes:Could not load AData\n"
       ]
      },
      {
       "output_type": "stream",
       "stream": "stderr",
       "text": [
        "WARNING:sarpy.io.Adata_classes:Need precisely one parameter file *json, found: []\n"
       ]
      },
      {
       "output_type": "stream",
       "stream": "stderr",
       "text": [
        "WARNING:sarpy.io.Adata_classes:Could not load AData\n"
       ]
      },
      {
       "output_type": "stream",
       "stream": "stderr",
       "text": [
        "WARNING:sarpy.io.Adata_classes:Need precisely one parameter file *json, found: []\n"
       ]
      },
      {
       "output_type": "stream",
       "stream": "stderr",
       "text": [
        "WARNING:sarpy.io.Adata_classes:Could not load AData\n"
       ]
      },
      {
       "output_type": "stream",
       "stream": "stderr",
       "text": [
        "WARNING:sarpy.io.Adata_classes:Need precisely one parameter file *json, found: []\n"
       ]
      },
      {
       "output_type": "stream",
       "stream": "stderr",
       "text": [
        "WARNING:sarpy.io.Adata_classes:Could not load AData\n"
       ]
      },
      {
       "output_type": "stream",
       "stream": "stderr",
       "text": [
        "WARNING:sarpy.io.Adata_classes:Need precisely one parameter file *json, found: []\n"
       ]
      },
      {
       "output_type": "stream",
       "stream": "stderr",
       "text": [
        "WARNING:sarpy.io.Adata_classes:Could not load AData\n"
       ]
      },
      {
       "output_type": "stream",
       "stream": "stderr",
       "text": [
        "WARNING:sarpy.io.Adata_classes:Need precisely one parameter file *json, found: []\n"
       ]
      },
      {
       "output_type": "stream",
       "stream": "stderr",
       "text": [
        "WARNING:sarpy.io.Adata_classes:Could not load AData\n"
       ]
      },
      {
       "output_type": "stream",
       "stream": "stderr",
       "text": [
        "WARNING:sarpy.io.Adata_classes:Need precisely one parameter file *json, found: []\n"
       ]
      },
      {
       "output_type": "stream",
       "stream": "stderr",
       "text": [
        "WARNING:sarpy.io.Adata_classes:Could not load AData\n"
       ]
      },
      {
       "output_type": "stream",
       "stream": "stderr",
       "text": [
        "WARNING:sarpy.io.Adata_classes:Need precisely one parameter file *json, found: []\n"
       ]
      },
      {
       "output_type": "stream",
       "stream": "stderr",
       "text": [
        "WARNING:sarpy.io.Adata_classes:Could not load AData\n"
       ]
      },
      {
       "output_type": "stream",
       "stream": "stderr",
       "text": [
        "WARNING:sarpy.io.Adata_classes:Need precisely one parameter file *json, found: []\n"
       ]
      },
      {
       "output_type": "stream",
       "stream": "stderr",
       "text": [
        "WARNING:sarpy.io.Adata_classes:Could not load AData\n"
       ]
      },
      {
       "output_type": "stream",
       "stream": "stderr",
       "text": [
        "WARNING:sarpy.io.Adata_classes:Need precisely one parameter file *json, found: []\n"
       ]
      },
      {
       "output_type": "stream",
       "stream": "stderr",
       "text": [
        "WARNING:sarpy.io.Adata_classes:Could not load AData\n"
       ]
      },
      {
       "output_type": "stream",
       "stream": "stderr",
       "text": [
        "WARNING:sarpy.io.Adata_classes:Need precisely one parameter file *json, found: []\n"
       ]
      },
      {
       "output_type": "stream",
       "stream": "stderr",
       "text": [
        "WARNING:sarpy.io.Adata_classes:Could not load AData\n"
       ]
      },
      {
       "output_type": "stream",
       "stream": "stderr",
       "text": [
        "WARNING:sarpy.io.Adata_classes:Need precisely one parameter file *json, found: []\n"
       ]
      },
      {
       "output_type": "stream",
       "stream": "stderr",
       "text": [
        "WARNING:sarpy.io.Adata_classes:Could not load AData\n"
       ]
      },
      {
       "output_type": "stream",
       "stream": "stderr",
       "text": [
        "WARNING:sarpy.io.Adata_classes:Need precisely one parameter file *json, found: []\n"
       ]
      },
      {
       "output_type": "stream",
       "stream": "stderr",
       "text": [
        "WARNING:sarpy.io.Adata_classes:Could not load AData\n"
       ]
      },
      {
       "output_type": "stream",
       "stream": "stderr",
       "text": [
        "WARNING:sarpy.io.Adata_classes:Need precisely one parameter file *json, found: []\n"
       ]
      },
      {
       "output_type": "stream",
       "stream": "stderr",
       "text": [
        "WARNING:sarpy.io.Adata_classes:Could not load AData\n"
       ]
      },
      {
       "output_type": "stream",
       "stream": "stderr",
       "text": [
        "WARNING:sarpy.io.Adata_classes:Need precisely one parameter file *json, found: []\n"
       ]
      },
      {
       "output_type": "stream",
       "stream": "stderr",
       "text": [
        "WARNING:sarpy.io.Adata_classes:Could not load AData\n"
       ]
      },
      {
       "output_type": "stream",
       "stream": "stderr",
       "text": [
        "WARNING:sarpy.io.Adata_classes:Need precisely one parameter file *json, found: []\n"
       ]
      },
      {
       "output_type": "stream",
       "stream": "stderr",
       "text": [
        "WARNING:sarpy.io.Adata_classes:Could not load AData\n"
       ]
      },
      {
       "output_type": "stream",
       "stream": "stderr",
       "text": [
        "WARNING:sarpy.io.Adata_classes:Need precisely one parameter file *json, found: []\n"
       ]
      },
      {
       "output_type": "stream",
       "stream": "stderr",
       "text": [
        "WARNING:sarpy.io.Adata_classes:Could not load AData\n"
       ]
      },
      {
       "output_type": "stream",
       "stream": "stderr",
       "text": [
        "WARNING:sarpy.io.Adata_classes:Need precisely one parameter file *json, found: []\n"
       ]
      },
      {
       "output_type": "stream",
       "stream": "stderr",
       "text": [
        "WARNING:sarpy.io.Adata_classes:Could not load AData\n"
       ]
      },
      {
       "output_type": "stream",
       "stream": "stderr",
       "text": [
        "WARNING:sarpy.io.Adata_classes:Need precisely one parameter file *json, found: []\n"
       ]
      },
      {
       "output_type": "stream",
       "stream": "stderr",
       "text": [
        "WARNING:sarpy.io.Adata_classes:Could not load AData\n"
       ]
      },
      {
       "output_type": "stream",
       "stream": "stderr",
       "text": [
        "WARNING:sarpy.io.Adata_classes:Need precisely one parameter file *json, found: []\n"
       ]
      },
      {
       "output_type": "stream",
       "stream": "stderr",
       "text": [
        "WARNING:sarpy.io.Adata_classes:Could not load AData\n"
       ]
      },
      {
       "output_type": "stream",
       "stream": "stderr",
       "text": [
        "WARNING:sarpy.io.Adata_classes:Need precisely one parameter file *json, found: []\n"
       ]
      },
      {
       "output_type": "stream",
       "stream": "stderr",
       "text": [
        "WARNING:sarpy.io.Adata_classes:Could not load AData\n"
       ]
      },
      {
       "output_type": "stream",
       "stream": "stderr",
       "text": [
        "WARNING:sarpy.io.Adata_classes:Need precisely one parameter file *json, found: []\n"
       ]
      },
      {
       "output_type": "stream",
       "stream": "stderr",
       "text": [
        "WARNING:sarpy.io.Adata_classes:Could not load AData\n"
       ]
      },
      {
       "output_type": "stream",
       "stream": "stderr",
       "text": [
        "WARNING:sarpy.io.Adata_classes:Need precisely one parameter file *json, found: []\n"
       ]
      },
      {
       "output_type": "stream",
       "stream": "stderr",
       "text": [
        "WARNING:sarpy.io.Adata_classes:Could not load AData\n"
       ]
      },
      {
       "output_type": "stream",
       "stream": "stderr",
       "text": [
        "WARNING:sarpy.io.Adata_classes:Need precisely one parameter file *json, found: []\n"
       ]
      },
      {
       "output_type": "stream",
       "stream": "stderr",
       "text": [
        "WARNING:sarpy.io.Adata_classes:Could not load AData\n"
       ]
      },
      {
       "output_type": "stream",
       "stream": "stderr",
       "text": [
        "WARNING:sarpy.io.Adata_classes:Need precisely one parameter file *json, found: []\n"
       ]
      },
      {
       "output_type": "stream",
       "stream": "stderr",
       "text": [
        "WARNING:sarpy.io.Adata_classes:Could not load AData\n"
       ]
      },
      {
       "output_type": "stream",
       "stream": "stderr",
       "text": [
        "WARNING:sarpy.io.Adata_classes:Need precisely one parameter file *json, found: []\n"
       ]
      },
      {
       "output_type": "stream",
       "stream": "stderr",
       "text": [
        "WARNING:sarpy.io.Adata_classes:Could not load AData\n"
       ]
      },
      {
       "output_type": "stream",
       "stream": "stderr",
       "text": [
        "WARNING:sarpy.io.Adata_classes:Need precisely one parameter file *json, found: []\n"
       ]
      },
      {
       "output_type": "stream",
       "stream": "stderr",
       "text": [
        "WARNING:sarpy.io.Adata_classes:Could not load AData\n"
       ]
      },
      {
       "output_type": "stream",
       "stream": "stderr",
       "text": [
        "WARNING:sarpy.io.Adata_classes:Need precisely one parameter file *json, found: []\n"
       ]
      },
      {
       "output_type": "stream",
       "stream": "stderr",
       "text": [
        "WARNING:sarpy.io.Adata_classes:Could not load AData\n"
       ]
      },
      {
       "output_type": "stream",
       "stream": "stderr",
       "text": [
        "WARNING:sarpy.io.Adata_classes:Need precisely one parameter file *json, found: []\n"
       ]
      },
      {
       "output_type": "stream",
       "stream": "stderr",
       "text": [
        "WARNING:sarpy.io.Adata_classes:Could not load AData\n"
       ]
      },
      {
       "output_type": "stream",
       "stream": "stderr",
       "text": [
        "WARNING:sarpy.io.Adata_classes:Need precisely one parameter file *json, found: []\n"
       ]
      },
      {
       "output_type": "stream",
       "stream": "stderr",
       "text": [
        "WARNING:sarpy.io.Adata_classes:Could not load AData\n"
       ]
      },
      {
       "output_type": "stream",
       "stream": "stderr",
       "text": [
        "WARNING:sarpy.io.Adata_classes:Need precisely one parameter file *json, found: []\n"
       ]
      },
      {
       "output_type": "stream",
       "stream": "stderr",
       "text": [
        "WARNING:sarpy.io.Adata_classes:Could not load AData\n"
       ]
      },
      {
       "output_type": "stream",
       "stream": "stderr",
       "text": [
        "WARNING:sarpy.io.Adata_classes:Need precisely one parameter file *json, found: []\n"
       ]
      },
      {
       "output_type": "stream",
       "stream": "stderr",
       "text": [
        "WARNING:sarpy.io.Adata_classes:Could not load AData\n"
       ]
      },
      {
       "output_type": "stream",
       "stream": "stderr",
       "text": [
        "WARNING:sarpy.io.Adata_classes:Need precisely one parameter file *json, found: []\n"
       ]
      },
      {
       "output_type": "stream",
       "stream": "stderr",
       "text": [
        "WARNING:sarpy.io.Adata_classes:Could not load AData\n"
       ]
      },
      {
       "output_type": "stream",
       "stream": "stderr",
       "text": [
        "WARNING:sarpy.io.Adata_classes:Need precisely one parameter file *json, found: []\n"
       ]
      },
      {
       "output_type": "stream",
       "stream": "stderr",
       "text": [
        "WARNING:sarpy.io.Adata_classes:Could not load AData\n"
       ]
      },
      {
       "output_type": "stream",
       "stream": "stderr",
       "text": [
        "WARNING:sarpy.io.Adata_classes:Need precisely one parameter file *json, found: []\n"
       ]
      },
      {
       "output_type": "stream",
       "stream": "stderr",
       "text": [
        "WARNING:sarpy.io.Adata_classes:Could not load AData\n"
       ]
      },
      {
       "output_type": "stream",
       "stream": "stderr",
       "text": [
        "WARNING:sarpy.io.Adata_classes:Need precisely one parameter file *json, found: []\n"
       ]
      },
      {
       "output_type": "stream",
       "stream": "stderr",
       "text": [
        "WARNING:sarpy.io.Adata_classes:Could not load AData\n"
       ]
      },
      {
       "output_type": "stream",
       "stream": "stderr",
       "text": [
        "WARNING:sarpy.io.Adata_classes:Need precisely one parameter file *json, found: []\n"
       ]
      },
      {
       "output_type": "stream",
       "stream": "stderr",
       "text": [
        "WARNING:sarpy.io.Adata_classes:Could not load AData\n"
       ]
      },
      {
       "output_type": "stream",
       "stream": "stderr",
       "text": [
        "WARNING:sarpy.io.Adata_classes:Need precisely one parameter file *json, found: []\n"
       ]
      },
      {
       "output_type": "stream",
       "stream": "stderr",
       "text": [
        "WARNING:sarpy.io.Adata_classes:Could not load AData\n"
       ]
      },
      {
       "output_type": "stream",
       "stream": "stderr",
       "text": [
        "WARNING:sarpy.io.Adata_classes:Need precisely one parameter file *json, found: []\n"
       ]
      },
      {
       "output_type": "stream",
       "stream": "stderr",
       "text": [
        "WARNING:sarpy.io.Adata_classes:Could not load AData\n"
       ]
      },
      {
       "output_type": "stream",
       "stream": "stderr",
       "text": [
        "WARNING:sarpy.io.Adata_classes:Need precisely one parameter file *json, found: []\n"
       ]
      },
      {
       "output_type": "stream",
       "stream": "stderr",
       "text": [
        "WARNING:sarpy.io.Adata_classes:Could not load AData\n"
       ]
      },
      {
       "output_type": "stream",
       "stream": "stderr",
       "text": [
        "WARNING:sarpy.io.Adata_classes:Need precisely one parameter file *json, found: []\n"
       ]
      },
      {
       "output_type": "stream",
       "stream": "stderr",
       "text": [
        "WARNING:sarpy.io.Adata_classes:Could not load AData\n"
       ]
      },
      {
       "output_type": "stream",
       "stream": "stderr",
       "text": [
        "WARNING:sarpy.io.Adata_classes:Need precisely one parameter file *json, found: []\n"
       ]
      },
      {
       "output_type": "stream",
       "stream": "stderr",
       "text": [
        "WARNING:sarpy.io.Adata_classes:Could not load AData\n"
       ]
      },
      {
       "output_type": "stream",
       "stream": "stderr",
       "text": [
        "WARNING:sarpy.io.Adata_classes:Need precisely one parameter file *json, found: []\n"
       ]
      },
      {
       "output_type": "stream",
       "stream": "stderr",
       "text": [
        "WARNING:sarpy.io.Adata_classes:Could not load AData\n"
       ]
      },
      {
       "output_type": "stream",
       "stream": "stderr",
       "text": [
        "WARNING:sarpy.io.Adata_classes:Need precisely one parameter file *json, found: []\n"
       ]
      },
      {
       "output_type": "stream",
       "stream": "stderr",
       "text": [
        "WARNING:sarpy.io.Adata_classes:Could not load AData\n"
       ]
      },
      {
       "output_type": "stream",
       "stream": "stderr",
       "text": [
        "WARNING:sarpy.io.Adata_classes:Need precisely one parameter file *json, found: []\n"
       ]
      },
      {
       "output_type": "stream",
       "stream": "stderr",
       "text": [
        "WARNING:sarpy.io.Adata_classes:Could not load AData\n"
       ]
      },
      {
       "output_type": "stream",
       "stream": "stderr",
       "text": [
        "WARNING:sarpy.io.Adata_classes:Need precisely one parameter file *json, found: []\n"
       ]
      },
      {
       "output_type": "stream",
       "stream": "stderr",
       "text": [
        "WARNING:sarpy.io.Adata_classes:Could not load AData\n"
       ]
      },
      {
       "output_type": "stream",
       "stream": "stderr",
       "text": [
        "WARNING:sarpy.io.Adata_classes:Need precisely one parameter file *json, found: []\n"
       ]
      },
      {
       "output_type": "stream",
       "stream": "stderr",
       "text": [
        "WARNING:sarpy.io.Adata_classes:Could not load AData\n"
       ]
      },
      {
       "output_type": "stream",
       "stream": "stderr",
       "text": [
        "WARNING:sarpy.io.Adata_classes:Need precisely one parameter file *json, found: []\n"
       ]
      },
      {
       "output_type": "stream",
       "stream": "stderr",
       "text": [
        "WARNING:sarpy.io.Adata_classes:Could not load AData\n"
       ]
      },
      {
       "output_type": "stream",
       "stream": "stderr",
       "text": [
        "WARNING:sarpy.io.Adata_classes:Need precisely one parameter file *json, found: []\n"
       ]
      },
      {
       "output_type": "stream",
       "stream": "stderr",
       "text": [
        "WARNING:sarpy.io.Adata_classes:Could not load AData\n"
       ]
      },
      {
       "output_type": "stream",
       "stream": "stderr",
       "text": [
        "WARNING:sarpy.io.Adata_classes:Need precisely one parameter file *json, found: []\n"
       ]
      },
      {
       "output_type": "stream",
       "stream": "stderr",
       "text": [
        "WARNING:sarpy.io.Adata_classes:Could not load AData\n"
       ]
      },
      {
       "output_type": "stream",
       "stream": "stderr",
       "text": [
        "WARNING:sarpy.io.Adata_classes:Need precisely one parameter file *json, found: []\n"
       ]
      },
      {
       "output_type": "stream",
       "stream": "stderr",
       "text": [
        "WARNING:sarpy.io.Adata_classes:Could not load AData\n"
       ]
      },
      {
       "output_type": "stream",
       "stream": "stderr",
       "text": [
        "WARNING:sarpy.io.Adata_classes:Need precisely one parameter file *json, found: []\n"
       ]
      },
      {
       "output_type": "stream",
       "stream": "stderr",
       "text": [
        "WARNING:sarpy.io.Adata_classes:Could not load AData\n"
       ]
      },
      {
       "output_type": "stream",
       "stream": "stderr",
       "text": [
        "WARNING:sarpy.io.Adata_classes:Need precisely one parameter file *json, found: []\n"
       ]
      },
      {
       "output_type": "stream",
       "stream": "stderr",
       "text": [
        "WARNING:sarpy.io.Adata_classes:Could not load AData\n"
       ]
      },
      {
       "output_type": "stream",
       "stream": "stderr",
       "text": [
        "WARNING:sarpy.io.Adata_classes:Need precisely one parameter file *json, found: []\n"
       ]
      },
      {
       "output_type": "stream",
       "stream": "stderr",
       "text": [
        "WARNING:sarpy.io.Adata_classes:Could not load AData\n"
       ]
      },
      {
       "output_type": "stream",
       "stream": "stderr",
       "text": [
        "WARNING:sarpy.io.Adata_classes:Need precisely one parameter file *json, found: []\n"
       ]
      },
      {
       "output_type": "stream",
       "stream": "stderr",
       "text": [
        "WARNING:sarpy.io.Adata_classes:Could not load AData\n"
       ]
      },
      {
       "output_type": "stream",
       "stream": "stderr",
       "text": [
        "WARNING:sarpy.io.Adata_classes:Need precisely one parameter file *json, found: []\n"
       ]
      },
      {
       "output_type": "stream",
       "stream": "stderr",
       "text": [
        "WARNING:sarpy.io.Adata_classes:Could not load AData\n"
       ]
      },
      {
       "output_type": "stream",
       "stream": "stderr",
       "text": [
        "WARNING:sarpy.io.Adata_classes:Need precisely one parameter file *json, found: []\n"
       ]
      },
      {
       "output_type": "stream",
       "stream": "stderr",
       "text": [
        "WARNING:sarpy.io.Adata_classes:Could not load AData\n"
       ]
      },
      {
       "output_type": "stream",
       "stream": "stderr",
       "text": [
        "WARNING:sarpy.io.Adata_classes:Need precisely one parameter file *json, found: []\n"
       ]
      },
      {
       "output_type": "stream",
       "stream": "stderr",
       "text": [
        "WARNING:sarpy.io.Adata_classes:Could not load AData\n"
       ]
      },
      {
       "output_type": "stream",
       "stream": "stderr",
       "text": [
        "WARNING:sarpy.io.Adata_classes:Need precisely one parameter file *json, found: []\n"
       ]
      },
      {
       "output_type": "stream",
       "stream": "stderr",
       "text": [
        "WARNING:sarpy.io.Adata_classes:Could not load AData\n"
       ]
      },
      {
       "output_type": "stream",
       "stream": "stderr",
       "text": [
        "WARNING:sarpy.io.Adata_classes:Need precisely one parameter file *json, found: []\n"
       ]
      },
      {
       "output_type": "stream",
       "stream": "stderr",
       "text": [
        "WARNING:sarpy.io.Adata_classes:Could not load AData\n"
       ]
      },
      {
       "output_type": "stream",
       "stream": "stderr",
       "text": [
        "WARNING:sarpy.io.Adata_classes:Need precisely one parameter file *json, found: []\n"
       ]
      },
      {
       "output_type": "stream",
       "stream": "stderr",
       "text": [
        "WARNING:sarpy.io.Adata_classes:Could not load AData\n"
       ]
      },
      {
       "output_type": "stream",
       "stream": "stderr",
       "text": [
        "WARNING:sarpy.io.Adata_classes:Need precisely one parameter file *json, found: []\n"
       ]
      },
      {
       "output_type": "stream",
       "stream": "stderr",
       "text": [
        "WARNING:sarpy.io.Adata_classes:Could not load AData\n"
       ]
      },
      {
       "output_type": "stream",
       "stream": "stderr",
       "text": [
        "WARNING:sarpy.io.Adata_classes:Need precisely one parameter file *json, found: []\n"
       ]
      },
      {
       "output_type": "stream",
       "stream": "stderr",
       "text": [
        "WARNING:sarpy.io.Adata_classes:Could not load AData\n"
       ]
      },
      {
       "output_type": "stream",
       "stream": "stderr",
       "text": [
        "WARNING:sarpy.io.Adata_classes:Need precisely one parameter file *json, found: []\n"
       ]
      },
      {
       "output_type": "stream",
       "stream": "stderr",
       "text": [
        "WARNING:sarpy.io.Adata_classes:Could not load AData\n"
       ]
      },
      {
       "output_type": "stream",
       "stream": "stderr",
       "text": [
        "WARNING:sarpy.io.Adata_classes:Need precisely one parameter file *json, found: []\n"
       ]
      },
      {
       "output_type": "stream",
       "stream": "stderr",
       "text": [
        "WARNING:sarpy.io.Adata_classes:Could not load AData\n"
       ]
      },
      {
       "output_type": "stream",
       "stream": "stderr",
       "text": [
        "WARNING:sarpy.io.Adata_classes:Need precisely one parameter file *json, found: []\n"
       ]
      },
      {
       "output_type": "stream",
       "stream": "stderr",
       "text": [
        "WARNING:sarpy.io.Adata_classes:Could not load AData\n"
       ]
      },
      {
       "output_type": "stream",
       "stream": "stderr",
       "text": [
        "WARNING:sarpy.io.Adata_classes:Need precisely one parameter file *json, found: []\n"
       ]
      },
      {
       "output_type": "stream",
       "stream": "stderr",
       "text": [
        "WARNING:sarpy.io.Adata_classes:Could not load AData\n"
       ]
      },
      {
       "output_type": "stream",
       "stream": "stderr",
       "text": [
        "WARNING:sarpy.io.Adata_classes:Need precisely one parameter file *json, found: []\n"
       ]
      },
      {
       "output_type": "stream",
       "stream": "stderr",
       "text": [
        "WARNING:sarpy.io.Adata_classes:Could not load AData\n"
       ]
      },
      {
       "output_type": "stream",
       "stream": "stderr",
       "text": [
        "WARNING:sarpy.io.Adata_classes:Need precisely one parameter file *json, found: []\n"
       ]
      },
      {
       "output_type": "stream",
       "stream": "stderr",
       "text": [
        "WARNING:sarpy.io.Adata_classes:Could not load AData\n"
       ]
      },
      {
       "output_type": "stream",
       "stream": "stderr",
       "text": [
        "WARNING:sarpy.io.Adata_classes:Need precisely one parameter file *json, found: []\n"
       ]
      },
      {
       "output_type": "stream",
       "stream": "stderr",
       "text": [
        "WARNING:sarpy.io.Adata_classes:Could not load AData\n"
       ]
      },
      {
       "output_type": "stream",
       "stream": "stderr",
       "text": [
        "WARNING:sarpy.io.Adata_classes:Need precisely one parameter file *json, found: []\n"
       ]
      },
      {
       "output_type": "stream",
       "stream": "stderr",
       "text": [
        "WARNING:sarpy.io.Adata_classes:Could not load AData\n"
       ]
      },
      {
       "output_type": "stream",
       "stream": "stderr",
       "text": [
        "WARNING:sarpy.io.Adata_classes:Need precisely one parameter file *json, found: []\n"
       ]
      },
      {
       "output_type": "stream",
       "stream": "stderr",
       "text": [
        "WARNING:sarpy.io.Adata_classes:Could not load AData\n"
       ]
      },
      {
       "output_type": "stream",
       "stream": "stderr",
       "text": [
        "WARNING:sarpy.io.Adata_classes:Need precisely one parameter file *json, found: []\n"
       ]
      },
      {
       "output_type": "stream",
       "stream": "stderr",
       "text": [
        "WARNING:sarpy.io.Adata_classes:Could not load AData\n"
       ]
      },
      {
       "output_type": "stream",
       "stream": "stderr",
       "text": [
        "WARNING:sarpy.io.Adata_classes:Need precisely one parameter file *json, found: []\n"
       ]
      },
      {
       "output_type": "stream",
       "stream": "stderr",
       "text": [
        "WARNING:sarpy.io.Adata_classes:Could not load AData\n"
       ]
      },
      {
       "output_type": "stream",
       "stream": "stderr",
       "text": [
        "WARNING:sarpy.io.Adata_classes:Need precisely one parameter file *json, found: []\n"
       ]
      },
      {
       "output_type": "stream",
       "stream": "stderr",
       "text": [
        "WARNING:sarpy.io.Adata_classes:Could not load AData\n"
       ]
      },
      {
       "output_type": "stream",
       "stream": "stderr",
       "text": [
        "WARNING:sarpy.io.Adata_classes:Need precisely one parameter file *json, found: []\n"
       ]
      },
      {
       "output_type": "stream",
       "stream": "stderr",
       "text": [
        "WARNING:sarpy.io.Adata_classes:Could not load AData\n"
       ]
      },
      {
       "output_type": "stream",
       "stream": "stderr",
       "text": [
        "WARNING:sarpy.io.Adata_classes:Need precisely one parameter file *json, found: []\n"
       ]
      },
      {
       "output_type": "stream",
       "stream": "stderr",
       "text": [
        "WARNING:sarpy.io.Adata_classes:Could not load AData\n"
       ]
      },
      {
       "output_type": "stream",
       "stream": "stderr",
       "text": [
        "WARNING:sarpy.io.Adata_classes:Need precisely one parameter file *json, found: []\n"
       ]
      },
      {
       "output_type": "stream",
       "stream": "stderr",
       "text": [
        "WARNING:sarpy.io.Adata_classes:Could not load AData\n"
       ]
      },
      {
       "output_type": "stream",
       "stream": "stderr",
       "text": [
        "WARNING:sarpy.io.Adata_classes:Need precisely one parameter file *json, found: []\n"
       ]
      },
      {
       "output_type": "stream",
       "stream": "stderr",
       "text": [
        "WARNING:sarpy.io.Adata_classes:Could not load AData\n"
       ]
      },
      {
       "output_type": "stream",
       "stream": "stderr",
       "text": [
        "WARNING:sarpy.io.Adata_classes:Need precisely one parameter file *json, found: []\n"
       ]
      },
      {
       "output_type": "stream",
       "stream": "stderr",
       "text": [
        "WARNING:sarpy.io.Adata_classes:Could not load AData\n"
       ]
      },
      {
       "output_type": "stream",
       "stream": "stderr",
       "text": [
        "WARNING:sarpy.io.Adata_classes:Need precisely one parameter file *json, found: []\n"
       ]
      },
      {
       "output_type": "stream",
       "stream": "stderr",
       "text": [
        "WARNING:sarpy.io.Adata_classes:Could not load AData\n"
       ]
      },
      {
       "output_type": "stream",
       "stream": "stderr",
       "text": [
        "WARNING:sarpy.io.Adata_classes:Need precisely one parameter file *json, found: []\n"
       ]
      },
      {
       "output_type": "stream",
       "stream": "stderr",
       "text": [
        "WARNING:sarpy.io.Adata_classes:Could not load AData\n"
       ]
      },
      {
       "output_type": "stream",
       "stream": "stderr",
       "text": [
        "WARNING:sarpy.io.Adata_classes:Need precisely one parameter file *json, found: []\n"
       ]
      },
      {
       "output_type": "stream",
       "stream": "stderr",
       "text": [
        "WARNING:sarpy.io.Adata_classes:Could not load AData\n"
       ]
      },
      {
       "output_type": "stream",
       "stream": "stderr",
       "text": [
        "WARNING:sarpy.io.Adata_classes:Need precisely one parameter file *json, found: []\n"
       ]
      },
      {
       "output_type": "stream",
       "stream": "stderr",
       "text": [
        "WARNING:sarpy.io.Adata_classes:Could not load AData\n"
       ]
      },
      {
       "output_type": "stream",
       "stream": "stderr",
       "text": [
        "WARNING:sarpy.io.Adata_classes:Need precisely one parameter file *json, found: []\n"
       ]
      },
      {
       "output_type": "stream",
       "stream": "stderr",
       "text": [
        "WARNING:sarpy.io.Adata_classes:Could not load AData\n"
       ]
      },
      {
       "output_type": "stream",
       "stream": "stderr",
       "text": [
        "WARNING:sarpy.io.Adata_classes:Need precisely one parameter file *json, found: []\n"
       ]
      },
      {
       "output_type": "stream",
       "stream": "stderr",
       "text": [
        "WARNING:sarpy.io.Adata_classes:Could not load AData\n"
       ]
      },
      {
       "output_type": "stream",
       "stream": "stderr",
       "text": [
        "WARNING:sarpy.io.Adata_classes:Need precisely one parameter file *json, found: []\n"
       ]
      },
      {
       "output_type": "stream",
       "stream": "stderr",
       "text": [
        "WARNING:sarpy.io.Adata_classes:Could not load AData\n"
       ]
      },
      {
       "output_type": "stream",
       "stream": "stderr",
       "text": [
        "WARNING:sarpy.io.Adata_classes:Need precisely one parameter file *json, found: []\n"
       ]
      },
      {
       "output_type": "stream",
       "stream": "stderr",
       "text": [
        "WARNING:sarpy.io.Adata_classes:Could not load AData\n"
       ]
      },
      {
       "output_type": "stream",
       "stream": "stderr",
       "text": [
        "WARNING:sarpy.io.Adata_classes:Need precisely one parameter file *json, found: []\n"
       ]
      },
      {
       "output_type": "stream",
       "stream": "stderr",
       "text": [
        "WARNING:sarpy.io.Adata_classes:Could not load AData\n"
       ]
      },
      {
       "output_type": "stream",
       "stream": "stderr",
       "text": [
        "WARNING:sarpy.io.Adata_classes:Need precisely one parameter file *json, found: []\n"
       ]
      },
      {
       "output_type": "stream",
       "stream": "stderr",
       "text": [
        "WARNING:sarpy.io.Adata_classes:Could not load AData\n"
       ]
      },
      {
       "output_type": "stream",
       "stream": "stderr",
       "text": [
        "WARNING:sarpy.io.Adata_classes:Need precisely one parameter file *json, found: []\n"
       ]
      },
      {
       "output_type": "stream",
       "stream": "stderr",
       "text": [
        "WARNING:sarpy.io.Adata_classes:Could not load AData\n"
       ]
      },
      {
       "output_type": "stream",
       "stream": "stderr",
       "text": [
        "WARNING:sarpy.io.Adata_classes:Need precisely one parameter file *json, found: []\n"
       ]
      },
      {
       "output_type": "stream",
       "stream": "stderr",
       "text": [
        "WARNING:sarpy.io.Adata_classes:Could not load AData\n"
       ]
      },
      {
       "output_type": "stream",
       "stream": "stderr",
       "text": [
        "WARNING:sarpy.io.Adata_classes:Need precisely one parameter file *json, found: []\n"
       ]
      },
      {
       "output_type": "stream",
       "stream": "stderr",
       "text": [
        "WARNING:sarpy.io.Adata_classes:Could not load AData\n"
       ]
      },
      {
       "output_type": "stream",
       "stream": "stderr",
       "text": [
        "WARNING:sarpy.io.Adata_classes:Need precisely one parameter file *json, found: []\n"
       ]
      },
      {
       "output_type": "stream",
       "stream": "stderr",
       "text": [
        "WARNING:sarpy.io.Adata_classes:Could not load AData\n"
       ]
      },
      {
       "output_type": "stream",
       "stream": "stderr",
       "text": [
        "WARNING:sarpy.io.Adata_classes:Need precisely one parameter file *json, found: []\n"
       ]
      },
      {
       "output_type": "stream",
       "stream": "stderr",
       "text": [
        "WARNING:sarpy.io.Adata_classes:Could not load AData\n"
       ]
      },
      {
       "output_type": "stream",
       "stream": "stderr",
       "text": [
        "WARNING:sarpy.io.Adata_classes:Need precisely one parameter file *json, found: []\n"
       ]
      },
      {
       "output_type": "stream",
       "stream": "stderr",
       "text": [
        "WARNING:sarpy.io.Adata_classes:Could not load AData\n"
       ]
      },
      {
       "output_type": "stream",
       "stream": "stderr",
       "text": [
        "WARNING:sarpy.io.Adata_classes:Need precisely one parameter file *json, found: []\n"
       ]
      },
      {
       "output_type": "stream",
       "stream": "stderr",
       "text": [
        "WARNING:sarpy.io.Adata_classes:Could not load AData\n"
       ]
      },
      {
       "output_type": "stream",
       "stream": "stderr",
       "text": [
        "WARNING:sarpy.io.Adata_classes:Need precisely one parameter file *json, found: []\n"
       ]
      },
      {
       "output_type": "stream",
       "stream": "stderr",
       "text": [
        "WARNING:sarpy.io.Adata_classes:Could not load AData\n"
       ]
      },
      {
       "output_type": "stream",
       "stream": "stderr",
       "text": [
        "WARNING:sarpy.io.Adata_classes:Need precisely one parameter file *json, found: []\n"
       ]
      },
      {
       "output_type": "stream",
       "stream": "stderr",
       "text": [
        "WARNING:sarpy.io.Adata_classes:Could not load AData\n"
       ]
      },
      {
       "output_type": "stream",
       "stream": "stderr",
       "text": [
        "WARNING:sarpy.io.Adata_classes:Need precisely one parameter file *json, found: []\n"
       ]
      },
      {
       "output_type": "stream",
       "stream": "stderr",
       "text": [
        "WARNING:sarpy.io.Adata_classes:Could not load AData\n"
       ]
      },
      {
       "output_type": "stream",
       "stream": "stderr",
       "text": [
        "WARNING:sarpy.io.Adata_classes:Need precisely one parameter file *json, found: []\n"
       ]
      },
      {
       "output_type": "stream",
       "stream": "stderr",
       "text": [
        "WARNING:sarpy.io.Adata_classes:Could not load AData\n"
       ]
      },
      {
       "output_type": "stream",
       "stream": "stderr",
       "text": [
        "WARNING:sarpy.io.Adata_classes:Need precisely one parameter file *json, found: []\n"
       ]
      },
      {
       "output_type": "stream",
       "stream": "stderr",
       "text": [
        "WARNING:sarpy.io.Adata_classes:Could not load AData\n"
       ]
      },
      {
       "output_type": "stream",
       "stream": "stdout",
       "text": [
        "\n",
        "bulk_transfer_roi: auc60 not found in study herS3M09.3X1"
       ]
      },
      {
       "output_type": "stream",
       "stream": "stdout",
       "text": [
        "\n",
        "bulk_transfer_roi: Success. Saved auc60_roi in herS3M10.3J1/13"
       ]
      },
      {
       "output_type": "stream",
       "stream": "stdout",
       "text": [
        "\n",
        "bulk_transfer_roi: Success. Saved auc60_roi in herS3M11.3J1/13"
       ]
      },
      {
       "output_type": "stream",
       "stream": "stdout",
       "text": [
        "\n",
        "bulk_transfer_roi: Success. Saved auc60_roi in herS3M11.3L1/19"
       ]
      },
      {
       "output_type": "stream",
       "stream": "stdout",
       "text": [
        "\n",
        "bulk_transfer_roi: Success. Saved auc60_roi in herS3M12.3J1/13"
       ]
      },
      {
       "output_type": "stream",
       "stream": "stdout",
       "text": [
        "\n",
        "bulk_transfer_roi: Success. Saved auc60_roi in herS3M12.3L1/13"
       ]
      },
      {
       "output_type": "stream",
       "stream": "stdout",
       "text": [
        "\n",
        "bulk_transfer_roi: Success. Saved auc60_roi in herS3M12.3Q1/13"
       ]
      },
      {
       "output_type": "stream",
       "stream": "stdout",
       "text": [
        "\n",
        "bulk_transfer_roi: Success. Saved auc60_roi in herS3M12.3X1/13"
       ]
      },
      {
       "output_type": "stream",
       "stream": "stdout",
       "text": [
        "\n",
        "bulk_transfer_roi: Success. Saved auc60_roi in herS3M13.3J1/13"
       ]
      },
      {
       "output_type": "stream",
       "stream": "stdout",
       "text": [
        "\n",
        "bulk_transfer_roi: Success. Saved auc60_roi in herS3M13.3Q1/13"
       ]
      },
      {
       "output_type": "stream",
       "stream": "stdout",
       "text": [
        "\n",
        "bulk_transfer_roi: Success. Saved auc60_roi in herS3M13.3X1/13"
       ]
      },
      {
       "output_type": "stream",
       "stream": "stdout",
       "text": [
        "\n",
        "bulk_transfer_roi: Success. Saved auc60_roi in herS3M13.441/13"
       ]
      },
      {
       "output_type": "stream",
       "stream": "stdout",
       "text": [
        "\n",
        "bulk_transfer_roi: Success. Saved auc60_roi in herS3M14.3J1/13"
       ]
      },
      {
       "output_type": "stream",
       "stream": "stdout",
       "text": [
        "\n",
        "bulk_transfer_roi: Success. Saved auc60_roi in herS3M14.3Q1/14"
       ]
      },
      {
       "output_type": "stream",
       "stream": "stdout",
       "text": [
        "\n",
        "bulk_transfer_roi: Success. Saved auc60_roi in herS3M15.3L1/14"
       ]
      },
      {
       "output_type": "stream",
       "stream": "stdout",
       "text": [
        "\n",
        "bulk_transfer_roi: Success. Saved auc60_roi in herS3M15.3Q1/14"
       ]
      },
      {
       "output_type": "stream",
       "stream": "stdout",
       "text": [
        "\n",
        "bulk_transfer_roi: Success. Saved auc60_roi in herS3M15.3X1/13"
       ]
      },
      {
       "output_type": "stream",
       "stream": "stdout",
       "text": [
        "\n",
        "bulk_transfer_roi: Success. Saved auc60_roi in herS3M15.4b1/16"
       ]
      },
      {
       "output_type": "stream",
       "stream": "stdout",
       "text": [
        "\n",
        "bulk_transfer_roi: auc60 not found in study herS3M15.441"
       ]
      },
      {
       "output_type": "stream",
       "stream": "stdout",
       "text": [
        "\n",
        "bulk_transfer_roi: Success. Saved auc60_roi in herS3M16.3P1/13"
       ]
      },
      {
       "output_type": "stream",
       "stream": "stdout",
       "text": [
        "\n",
        "bulk_transfer_roi: Success. Saved auc60_roi in herS3M16.431/14"
       ]
      },
      {
       "output_type": "stream",
       "stream": "stdout",
       "text": [
        "\n",
        "bulk_transfer_roi: Success. Saved auc60_roi in herS3M17.3P1/13"
       ]
      },
      {
       "output_type": "stream",
       "stream": "stdout",
       "text": [
        "\n",
        "bulk_transfer_roi: Success. Saved auc60_roi in herS3M17.431/13"
       ]
      },
      {
       "output_type": "stream",
       "stream": "stdout",
       "text": [
        "\n",
        "bulk_transfer_roi: Success. Saved auc60_roi in herS3M19.3P1/13"
       ]
      },
      {
       "output_type": "stream",
       "stream": "stdout",
       "text": [
        "\n",
        "bulk_transfer_roi: Success. Saved auc60_roi in herS3M19.4a1/13"
       ]
      },
      {
       "output_type": "stream",
       "stream": "stdout",
       "text": [
        "\n",
        "bulk_transfer_roi: Success. Saved auc60_roi in herS3M19.4h1/13"
       ]
      },
      {
       "output_type": "stream",
       "stream": "stdout",
       "text": [
        "\n",
        "bulk_transfer_roi: Success. Saved auc60_roi in herS3M19.431/13"
       ]
      },
      {
       "output_type": "stream",
       "stream": "stdout",
       "text": [
        "\n",
        "bulk_transfer_roi: Success. Saved auc60_roi in herS3M20.3P1/13"
       ]
      },
      {
       "output_type": "stream",
       "stream": "stdout",
       "text": [
        "\n",
        "bulk_transfer_roi: Success. Saved auc60_roi in herS3M20.4a1/16"
       ]
      },
      {
       "output_type": "stream",
       "stream": "stdout",
       "text": [
        "\n",
        "bulk_transfer_roi: Success. Saved auc60_roi in herS3M20.4h1/13"
       ]
      },
      {
       "output_type": "stream",
       "stream": "stdout",
       "text": [
        "\n",
        "bulk_transfer_roi: Success. Saved auc60_roi in herS3M20.431/13"
       ]
      },
      {
       "output_type": "stream",
       "stream": "stdout",
       "text": [
        "\n",
        "bulk_transfer_roi: Success. Saved auc60_roi in herS3M21.3X1/14"
       ]
      },
      {
       "output_type": "stream",
       "stream": "stderr",
       "text": [
        "WARNING:sarpy.io.BRUKER_classes:visu_pars file /Users/fmoosvi/bdata/stefan/nmr/herS3M21.4b1/5/pdata/1 not found\n",
        "\n"
       ]
      },
      {
       "output_type": "stream",
       "stream": "stderr",
       "text": [
        "WARNING:sarpy.io.Adata_classes:Need precisely one parameter file *json, found: []\n"
       ]
      },
      {
       "output_type": "stream",
       "stream": "stderr",
       "text": [
        "WARNING:sarpy.io.Adata_classes:Could not load AData\n"
       ]
      },
      {
       "output_type": "stream",
       "stream": "stderr",
       "text": [
        "WARNING:sarpy.io.Adata_classes:Need precisely one parameter file *json, found: []\n"
       ]
      },
      {
       "output_type": "stream",
       "stream": "stderr",
       "text": [
        "WARNING:sarpy.io.Adata_classes:Could not load AData\n"
       ]
      },
      {
       "output_type": "stream",
       "stream": "stderr",
       "text": [
        "WARNING:sarpy.io.Adata_classes:Need precisely one parameter file *json, found: []\n"
       ]
      },
      {
       "output_type": "stream",
       "stream": "stderr",
       "text": [
        "WARNING:sarpy.io.Adata_classes:Could not load AData\n"
       ]
      },
      {
       "output_type": "stream",
       "stream": "stderr",
       "text": [
        "WARNING:sarpy.io.Adata_classes:Need precisely one parameter file *json, found: []\n"
       ]
      },
      {
       "output_type": "stream",
       "stream": "stderr",
       "text": [
        "WARNING:sarpy.io.Adata_classes:Could not load AData\n"
       ]
      },
      {
       "output_type": "stream",
       "stream": "stderr",
       "text": [
        "WARNING:sarpy.io.Adata_classes:Need precisely one parameter file *json, found: []\n"
       ]
      },
      {
       "output_type": "stream",
       "stream": "stderr",
       "text": [
        "WARNING:sarpy.io.Adata_classes:Could not load AData\n"
       ]
      },
      {
       "output_type": "stream",
       "stream": "stderr",
       "text": [
        "WARNING:sarpy.io.Adata_classes:Need precisely one parameter file *json, found: []\n"
       ]
      },
      {
       "output_type": "stream",
       "stream": "stderr",
       "text": [
        "WARNING:sarpy.io.Adata_classes:Could not load AData\n"
       ]
      },
      {
       "output_type": "stream",
       "stream": "stderr",
       "text": [
        "WARNING:sarpy.io.Adata_classes:Need precisely one parameter file *json, found: []\n"
       ]
      },
      {
       "output_type": "stream",
       "stream": "stderr",
       "text": [
        "WARNING:sarpy.io.Adata_classes:Could not load AData\n"
       ]
      },
      {
       "output_type": "stream",
       "stream": "stderr",
       "text": [
        "WARNING:sarpy.io.Adata_classes:Need precisely one parameter file *json, found: []\n"
       ]
      },
      {
       "output_type": "stream",
       "stream": "stderr",
       "text": [
        "WARNING:sarpy.io.Adata_classes:Could not load AData\n"
       ]
      },
      {
       "output_type": "stream",
       "stream": "stderr",
       "text": [
        "WARNING:sarpy.io.Adata_classes:Need precisely one parameter file *json, found: []\n"
       ]
      },
      {
       "output_type": "stream",
       "stream": "stderr",
       "text": [
        "WARNING:sarpy.io.Adata_classes:Could not load AData\n"
       ]
      },
      {
       "output_type": "stream",
       "stream": "stderr",
       "text": [
        "WARNING:sarpy.io.Adata_classes:Need precisely one parameter file *json, found: []\n"
       ]
      },
      {
       "output_type": "stream",
       "stream": "stderr",
       "text": [
        "WARNING:sarpy.io.Adata_classes:Could not load AData\n"
       ]
      },
      {
       "output_type": "stream",
       "stream": "stderr",
       "text": [
        "WARNING:sarpy.io.Adata_classes:Need precisely one parameter file *json, found: []\n"
       ]
      },
      {
       "output_type": "stream",
       "stream": "stderr",
       "text": [
        "WARNING:sarpy.io.Adata_classes:Could not load AData\n"
       ]
      },
      {
       "output_type": "stream",
       "stream": "stderr",
       "text": [
        "WARNING:sarpy.io.Adata_classes:Need precisely one parameter file *json, found: []\n"
       ]
      },
      {
       "output_type": "stream",
       "stream": "stderr",
       "text": [
        "WARNING:sarpy.io.Adata_classes:Could not load AData\n"
       ]
      },
      {
       "output_type": "stream",
       "stream": "stderr",
       "text": [
        "WARNING:sarpy.io.Adata_classes:Need precisely one parameter file *json, found: []\n"
       ]
      },
      {
       "output_type": "stream",
       "stream": "stderr",
       "text": [
        "WARNING:sarpy.io.Adata_classes:Could not load AData\n"
       ]
      },
      {
       "output_type": "stream",
       "stream": "stderr",
       "text": [
        "WARNING:sarpy.io.Adata_classes:Need precisely one parameter file *json, found: []\n"
       ]
      },
      {
       "output_type": "stream",
       "stream": "stderr",
       "text": [
        "WARNING:sarpy.io.Adata_classes:Could not load AData\n"
       ]
      },
      {
       "output_type": "stream",
       "stream": "stderr",
       "text": [
        "WARNING:sarpy.io.Adata_classes:Need precisely one parameter file *json, found: []\n"
       ]
      },
      {
       "output_type": "stream",
       "stream": "stderr",
       "text": [
        "WARNING:sarpy.io.Adata_classes:Could not load AData\n"
       ]
      },
      {
       "output_type": "stream",
       "stream": "stderr",
       "text": [
        "WARNING:sarpy.io.Adata_classes:Need precisely one parameter file *json, found: []\n"
       ]
      },
      {
       "output_type": "stream",
       "stream": "stderr",
       "text": [
        "WARNING:sarpy.io.Adata_classes:Could not load AData\n"
       ]
      },
      {
       "output_type": "stream",
       "stream": "stderr",
       "text": [
        "WARNING:sarpy.io.Adata_classes:Need precisely one parameter file *json, found: []\n"
       ]
      },
      {
       "output_type": "stream",
       "stream": "stderr",
       "text": [
        "WARNING:sarpy.io.Adata_classes:Could not load AData\n"
       ]
      },
      {
       "output_type": "stream",
       "stream": "stderr",
       "text": [
        "WARNING:sarpy.io.Adata_classes:Need precisely one parameter file *json, found: []\n"
       ]
      },
      {
       "output_type": "stream",
       "stream": "stderr",
       "text": [
        "WARNING:sarpy.io.Adata_classes:Could not load AData\n"
       ]
      },
      {
       "output_type": "stream",
       "stream": "stderr",
       "text": [
        "WARNING:sarpy.io.Adata_classes:Need precisely one parameter file *json, found: []\n"
       ]
      },
      {
       "output_type": "stream",
       "stream": "stderr",
       "text": [
        "WARNING:sarpy.io.Adata_classes:Could not load AData\n"
       ]
      },
      {
       "output_type": "stream",
       "stream": "stderr",
       "text": [
        "WARNING:sarpy.io.Adata_classes:Need precisely one parameter file *json, found: []\n"
       ]
      },
      {
       "output_type": "stream",
       "stream": "stderr",
       "text": [
        "WARNING:sarpy.io.Adata_classes:Could not load AData\n"
       ]
      },
      {
       "output_type": "stream",
       "stream": "stderr",
       "text": [
        "WARNING:sarpy.io.Adata_classes:Need precisely one parameter file *json, found: []\n"
       ]
      },
      {
       "output_type": "stream",
       "stream": "stderr",
       "text": [
        "WARNING:sarpy.io.Adata_classes:Could not load AData\n"
       ]
      },
      {
       "output_type": "stream",
       "stream": "stderr",
       "text": [
        "WARNING:sarpy.io.Adata_classes:Need precisely one parameter file *json, found: []\n"
       ]
      },
      {
       "output_type": "stream",
       "stream": "stderr",
       "text": [
        "WARNING:sarpy.io.Adata_classes:Could not load AData\n"
       ]
      },
      {
       "output_type": "stream",
       "stream": "stderr",
       "text": [
        "WARNING:sarpy.io.Adata_classes:Need precisely one parameter file *json, found: []\n"
       ]
      },
      {
       "output_type": "stream",
       "stream": "stderr",
       "text": [
        "WARNING:sarpy.io.Adata_classes:Could not load AData\n"
       ]
      },
      {
       "output_type": "stream",
       "stream": "stderr",
       "text": [
        "WARNING:sarpy.io.Adata_classes:Need precisely one parameter file *json, found: []\n"
       ]
      },
      {
       "output_type": "stream",
       "stream": "stderr",
       "text": [
        "WARNING:sarpy.io.Adata_classes:Could not load AData\n"
       ]
      },
      {
       "output_type": "stream",
       "stream": "stderr",
       "text": [
        "WARNING:sarpy.io.Adata_classes:Need precisely one parameter file *json, found: []\n"
       ]
      },
      {
       "output_type": "stream",
       "stream": "stderr",
       "text": [
        "WARNING:sarpy.io.Adata_classes:Could not load AData\n"
       ]
      },
      {
       "output_type": "stream",
       "stream": "stderr",
       "text": [
        "WARNING:sarpy.io.Adata_classes:Need precisely one parameter file *json, found: []\n"
       ]
      },
      {
       "output_type": "stream",
       "stream": "stderr",
       "text": [
        "WARNING:sarpy.io.Adata_classes:Could not load AData\n"
       ]
      },
      {
       "output_type": "stream",
       "stream": "stderr",
       "text": [
        "WARNING:sarpy.io.Adata_classes:Need precisely one parameter file *json, found: []\n"
       ]
      },
      {
       "output_type": "stream",
       "stream": "stderr",
       "text": [
        "WARNING:sarpy.io.Adata_classes:Could not load AData\n"
       ]
      },
      {
       "output_type": "stream",
       "stream": "stderr",
       "text": [
        "WARNING:sarpy.io.Adata_classes:Need precisely one parameter file *json, found: []\n"
       ]
      },
      {
       "output_type": "stream",
       "stream": "stderr",
       "text": [
        "WARNING:sarpy.io.Adata_classes:Could not load AData\n"
       ]
      },
      {
       "output_type": "stream",
       "stream": "stderr",
       "text": [
        "WARNING:sarpy.io.Adata_classes:Need precisely one parameter file *json, found: []\n"
       ]
      },
      {
       "output_type": "stream",
       "stream": "stderr",
       "text": [
        "WARNING:sarpy.io.Adata_classes:Could not load AData\n"
       ]
      },
      {
       "output_type": "stream",
       "stream": "stderr",
       "text": [
        "WARNING:sarpy.io.Adata_classes:Need precisely one parameter file *json, found: []\n"
       ]
      },
      {
       "output_type": "stream",
       "stream": "stderr",
       "text": [
        "WARNING:sarpy.io.Adata_classes:Could not load AData\n"
       ]
      },
      {
       "output_type": "stream",
       "stream": "stderr",
       "text": [
        "WARNING:sarpy.io.Adata_classes:Need precisely one parameter file *json, found: []\n"
       ]
      },
      {
       "output_type": "stream",
       "stream": "stderr",
       "text": [
        "WARNING:sarpy.io.Adata_classes:Could not load AData\n"
       ]
      },
      {
       "output_type": "stream",
       "stream": "stderr",
       "text": [
        "WARNING:sarpy.io.Adata_classes:Need precisely one parameter file *json, found: []\n"
       ]
      },
      {
       "output_type": "stream",
       "stream": "stderr",
       "text": [
        "WARNING:sarpy.io.Adata_classes:Could not load AData\n"
       ]
      },
      {
       "output_type": "stream",
       "stream": "stderr",
       "text": [
        "WARNING:sarpy.io.Adata_classes:Need precisely one parameter file *json, found: []\n"
       ]
      },
      {
       "output_type": "stream",
       "stream": "stderr",
       "text": [
        "WARNING:sarpy.io.Adata_classes:Could not load AData\n"
       ]
      },
      {
       "output_type": "stream",
       "stream": "stderr",
       "text": [
        "WARNING:sarpy.io.Adata_classes:Need precisely one parameter file *json, found: []\n"
       ]
      },
      {
       "output_type": "stream",
       "stream": "stderr",
       "text": [
        "WARNING:sarpy.io.Adata_classes:Could not load AData\n"
       ]
      },
      {
       "output_type": "stream",
       "stream": "stderr",
       "text": [
        "WARNING:sarpy.io.Adata_classes:Need precisely one parameter file *json, found: []\n"
       ]
      },
      {
       "output_type": "stream",
       "stream": "stderr",
       "text": [
        "WARNING:sarpy.io.Adata_classes:Could not load AData\n"
       ]
      },
      {
       "output_type": "stream",
       "stream": "stderr",
       "text": [
        "WARNING:sarpy.io.Adata_classes:Need precisely one parameter file *json, found: []\n"
       ]
      },
      {
       "output_type": "stream",
       "stream": "stderr",
       "text": [
        "WARNING:sarpy.io.Adata_classes:Could not load AData\n"
       ]
      },
      {
       "output_type": "stream",
       "stream": "stderr",
       "text": [
        "WARNING:sarpy.io.Adata_classes:Need precisely one parameter file *json, found: []\n"
       ]
      },
      {
       "output_type": "stream",
       "stream": "stderr",
       "text": [
        "WARNING:sarpy.io.Adata_classes:Could not load AData\n"
       ]
      },
      {
       "output_type": "stream",
       "stream": "stderr",
       "text": [
        "WARNING:sarpy.io.Adata_classes:Need precisely one parameter file *json, found: []\n"
       ]
      },
      {
       "output_type": "stream",
       "stream": "stderr",
       "text": [
        "WARNING:sarpy.io.Adata_classes:Could not load AData\n"
       ]
      },
      {
       "output_type": "stream",
       "stream": "stderr",
       "text": [
        "WARNING:sarpy.io.Adata_classes:Need precisely one parameter file *json, found: []\n"
       ]
      },
      {
       "output_type": "stream",
       "stream": "stderr",
       "text": [
        "WARNING:sarpy.io.Adata_classes:Could not load AData\n"
       ]
      },
      {
       "output_type": "stream",
       "stream": "stderr",
       "text": [
        "WARNING:sarpy.io.Adata_classes:Need precisely one parameter file *json, found: []\n"
       ]
      },
      {
       "output_type": "stream",
       "stream": "stderr",
       "text": [
        "WARNING:sarpy.io.Adata_classes:Could not load AData\n"
       ]
      },
      {
       "output_type": "stream",
       "stream": "stderr",
       "text": [
        "WARNING:sarpy.io.Adata_classes:Need precisely one parameter file *json, found: []\n"
       ]
      },
      {
       "output_type": "stream",
       "stream": "stderr",
       "text": [
        "WARNING:sarpy.io.Adata_classes:Could not load AData\n"
       ]
      },
      {
       "output_type": "stream",
       "stream": "stderr",
       "text": [
        "WARNING:sarpy.io.Adata_classes:Need precisely one parameter file *json, found: []\n"
       ]
      },
      {
       "output_type": "stream",
       "stream": "stderr",
       "text": [
        "WARNING:sarpy.io.Adata_classes:Could not load AData\n"
       ]
      },
      {
       "output_type": "stream",
       "stream": "stderr",
       "text": [
        "WARNING:sarpy.io.Adata_classes:Need precisely one parameter file *json, found: []\n"
       ]
      },
      {
       "output_type": "stream",
       "stream": "stderr",
       "text": [
        "WARNING:sarpy.io.Adata_classes:Could not load AData\n"
       ]
      },
      {
       "output_type": "stream",
       "stream": "stderr",
       "text": [
        "WARNING:sarpy.io.Adata_classes:Need precisely one parameter file *json, found: []\n"
       ]
      },
      {
       "output_type": "stream",
       "stream": "stderr",
       "text": [
        "WARNING:sarpy.io.Adata_classes:Could not load AData\n"
       ]
      },
      {
       "output_type": "stream",
       "stream": "stderr",
       "text": [
        "WARNING:sarpy.io.Adata_classes:Need precisely one parameter file *json, found: []\n"
       ]
      },
      {
       "output_type": "stream",
       "stream": "stderr",
       "text": [
        "WARNING:sarpy.io.Adata_classes:Could not load AData\n"
       ]
      },
      {
       "output_type": "stream",
       "stream": "stderr",
       "text": [
        "WARNING:sarpy.io.Adata_classes:Need precisely one parameter file *json, found: []\n"
       ]
      },
      {
       "output_type": "stream",
       "stream": "stderr",
       "text": [
        "WARNING:sarpy.io.Adata_classes:Could not load AData\n"
       ]
      },
      {
       "output_type": "stream",
       "stream": "stderr",
       "text": [
        "WARNING:sarpy.io.Adata_classes:Need precisely one parameter file *json, found: []\n"
       ]
      },
      {
       "output_type": "stream",
       "stream": "stderr",
       "text": [
        "WARNING:sarpy.io.Adata_classes:Could not load AData\n"
       ]
      },
      {
       "output_type": "stream",
       "stream": "stderr",
       "text": [
        "WARNING:sarpy.io.Adata_classes:Need precisely one parameter file *json, found: []\n"
       ]
      },
      {
       "output_type": "stream",
       "stream": "stderr",
       "text": [
        "WARNING:sarpy.io.Adata_classes:Could not load AData\n"
       ]
      },
      {
       "output_type": "stream",
       "stream": "stderr",
       "text": [
        "WARNING:sarpy.io.Adata_classes:Need precisely one parameter file *json, found: []\n"
       ]
      },
      {
       "output_type": "stream",
       "stream": "stderr",
       "text": [
        "WARNING:sarpy.io.Adata_classes:Could not load AData\n"
       ]
      },
      {
       "output_type": "stream",
       "stream": "stderr",
       "text": [
        "WARNING:sarpy.io.Adata_classes:Need precisely one parameter file *json, found: []\n"
       ]
      },
      {
       "output_type": "stream",
       "stream": "stderr",
       "text": [
        "WARNING:sarpy.io.Adata_classes:Could not load AData\n"
       ]
      },
      {
       "output_type": "stream",
       "stream": "stderr",
       "text": [
        "WARNING:sarpy.io.Adata_classes:Need precisely one parameter file *json, found: []\n"
       ]
      },
      {
       "output_type": "stream",
       "stream": "stderr",
       "text": [
        "WARNING:sarpy.io.Adata_classes:Could not load AData\n"
       ]
      },
      {
       "output_type": "stream",
       "stream": "stderr",
       "text": [
        "WARNING:sarpy.io.Adata_classes:Need precisely one parameter file *json, found: []\n"
       ]
      },
      {
       "output_type": "stream",
       "stream": "stderr",
       "text": [
        "WARNING:sarpy.io.Adata_classes:Could not load AData\n"
       ]
      },
      {
       "output_type": "stream",
       "stream": "stderr",
       "text": [
        "WARNING:sarpy.io.Adata_classes:Need precisely one parameter file *json, found: []\n"
       ]
      },
      {
       "output_type": "stream",
       "stream": "stderr",
       "text": [
        "WARNING:sarpy.io.Adata_classes:Could not load AData\n"
       ]
      },
      {
       "output_type": "stream",
       "stream": "stderr",
       "text": [
        "WARNING:sarpy.io.Adata_classes:Need precisely one parameter file *json, found: []\n"
       ]
      },
      {
       "output_type": "stream",
       "stream": "stderr",
       "text": [
        "WARNING:sarpy.io.Adata_classes:Could not load AData\n"
       ]
      },
      {
       "output_type": "stream",
       "stream": "stderr",
       "text": [
        "WARNING:sarpy.io.Adata_classes:Need precisely one parameter file *json, found: []\n"
       ]
      },
      {
       "output_type": "stream",
       "stream": "stderr",
       "text": [
        "WARNING:sarpy.io.Adata_classes:Could not load AData\n"
       ]
      },
      {
       "output_type": "stream",
       "stream": "stderr",
       "text": [
        "WARNING:sarpy.io.Adata_classes:Need precisely one parameter file *json, found: []\n"
       ]
      },
      {
       "output_type": "stream",
       "stream": "stderr",
       "text": [
        "WARNING:sarpy.io.Adata_classes:Could not load AData\n"
       ]
      },
      {
       "output_type": "stream",
       "stream": "stderr",
       "text": [
        "WARNING:sarpy.io.Adata_classes:Need precisely one parameter file *json, found: []\n"
       ]
      },
      {
       "output_type": "stream",
       "stream": "stderr",
       "text": [
        "WARNING:sarpy.io.Adata_classes:Could not load AData\n"
       ]
      },
      {
       "output_type": "stream",
       "stream": "stderr",
       "text": [
        "WARNING:sarpy.io.Adata_classes:Need precisely one parameter file *json, found: []\n"
       ]
      },
      {
       "output_type": "stream",
       "stream": "stderr",
       "text": [
        "WARNING:sarpy.io.Adata_classes:Could not load AData\n"
       ]
      },
      {
       "output_type": "stream",
       "stream": "stderr",
       "text": [
        "WARNING:sarpy.io.Adata_classes:Need precisely one parameter file *json, found: []\n"
       ]
      },
      {
       "output_type": "stream",
       "stream": "stderr",
       "text": [
        "WARNING:sarpy.io.Adata_classes:Could not load AData\n"
       ]
      },
      {
       "output_type": "stream",
       "stream": "stderr",
       "text": [
        "WARNING:sarpy.io.Adata_classes:Need precisely one parameter file *json, found: []\n"
       ]
      },
      {
       "output_type": "stream",
       "stream": "stderr",
       "text": [
        "WARNING:sarpy.io.Adata_classes:Could not load AData\n"
       ]
      },
      {
       "output_type": "stream",
       "stream": "stderr",
       "text": [
        "WARNING:sarpy.io.Adata_classes:Need precisely one parameter file *json, found: []\n"
       ]
      },
      {
       "output_type": "stream",
       "stream": "stderr",
       "text": [
        "WARNING:sarpy.io.Adata_classes:Could not load AData\n"
       ]
      },
      {
       "output_type": "stream",
       "stream": "stderr",
       "text": [
        "WARNING:sarpy.io.Adata_classes:Need precisely one parameter file *json, found: []\n"
       ]
      },
      {
       "output_type": "stream",
       "stream": "stderr",
       "text": [
        "WARNING:sarpy.io.Adata_classes:Could not load AData\n"
       ]
      },
      {
       "output_type": "stream",
       "stream": "stderr",
       "text": [
        "WARNING:sarpy.io.Adata_classes:Need precisely one parameter file *json, found: []\n"
       ]
      },
      {
       "output_type": "stream",
       "stream": "stderr",
       "text": [
        "WARNING:sarpy.io.Adata_classes:Could not load AData\n"
       ]
      },
      {
       "output_type": "stream",
       "stream": "stderr",
       "text": [
        "WARNING:sarpy.io.Adata_classes:Need precisely one parameter file *json, found: []\n"
       ]
      },
      {
       "output_type": "stream",
       "stream": "stderr",
       "text": [
        "WARNING:sarpy.io.Adata_classes:Could not load AData\n"
       ]
      },
      {
       "output_type": "stream",
       "stream": "stderr",
       "text": [
        "WARNING:sarpy.io.Adata_classes:Need precisely one parameter file *json, found: []\n"
       ]
      },
      {
       "output_type": "stream",
       "stream": "stderr",
       "text": [
        "WARNING:sarpy.io.Adata_classes:Could not load AData\n"
       ]
      },
      {
       "output_type": "stream",
       "stream": "stderr",
       "text": [
        "WARNING:sarpy.io.Adata_classes:Need precisely one parameter file *json, found: []\n"
       ]
      },
      {
       "output_type": "stream",
       "stream": "stderr",
       "text": [
        "WARNING:sarpy.io.Adata_classes:Could not load AData\n"
       ]
      },
      {
       "output_type": "stream",
       "stream": "stderr",
       "text": [
        "WARNING:sarpy.io.Adata_classes:Need precisely one parameter file *json, found: []\n"
       ]
      },
      {
       "output_type": "stream",
       "stream": "stderr",
       "text": [
        "WARNING:sarpy.io.Adata_classes:Could not load AData\n"
       ]
      },
      {
       "output_type": "stream",
       "stream": "stderr",
       "text": [
        "WARNING:sarpy.io.Adata_classes:Need precisely one parameter file *json, found: []\n"
       ]
      },
      {
       "output_type": "stream",
       "stream": "stderr",
       "text": [
        "WARNING:sarpy.io.Adata_classes:Could not load AData\n"
       ]
      },
      {
       "output_type": "stream",
       "stream": "stderr",
       "text": [
        "WARNING:sarpy.io.Adata_classes:Need precisely one parameter file *json, found: []\n"
       ]
      },
      {
       "output_type": "stream",
       "stream": "stderr",
       "text": [
        "WARNING:sarpy.io.Adata_classes:Could not load AData\n"
       ]
      },
      {
       "output_type": "stream",
       "stream": "stderr",
       "text": [
        "WARNING:sarpy.io.Adata_classes:Need precisely one parameter file *json, found: []\n"
       ]
      },
      {
       "output_type": "stream",
       "stream": "stderr",
       "text": [
        "WARNING:sarpy.io.Adata_classes:Could not load AData\n"
       ]
      },
      {
       "output_type": "stream",
       "stream": "stderr",
       "text": [
        "WARNING:sarpy.io.Adata_classes:Need precisely one parameter file *json, found: []\n"
       ]
      },
      {
       "output_type": "stream",
       "stream": "stderr",
       "text": [
        "WARNING:sarpy.io.Adata_classes:Could not load AData\n"
       ]
      },
      {
       "output_type": "stream",
       "stream": "stderr",
       "text": [
        "WARNING:sarpy.io.Adata_classes:Need precisely one parameter file *json, found: []\n"
       ]
      },
      {
       "output_type": "stream",
       "stream": "stderr",
       "text": [
        "WARNING:sarpy.io.Adata_classes:Could not load AData\n"
       ]
      },
      {
       "output_type": "stream",
       "stream": "stderr",
       "text": [
        "WARNING:sarpy.io.Adata_classes:Need precisely one parameter file *json, found: []\n"
       ]
      },
      {
       "output_type": "stream",
       "stream": "stderr",
       "text": [
        "WARNING:sarpy.io.Adata_classes:Could not load AData\n"
       ]
      },
      {
       "output_type": "stream",
       "stream": "stderr",
       "text": [
        "WARNING:sarpy.io.Adata_classes:Need precisely one parameter file *json, found: []\n"
       ]
      },
      {
       "output_type": "stream",
       "stream": "stderr",
       "text": [
        "WARNING:sarpy.io.Adata_classes:Could not load AData\n"
       ]
      },
      {
       "output_type": "stream",
       "stream": "stderr",
       "text": [
        "WARNING:sarpy.io.Adata_classes:Need precisely one parameter file *json, found: []\n"
       ]
      },
      {
       "output_type": "stream",
       "stream": "stderr",
       "text": [
        "WARNING:sarpy.io.Adata_classes:Could not load AData\n"
       ]
      },
      {
       "output_type": "stream",
       "stream": "stderr",
       "text": [
        "WARNING:sarpy.io.Adata_classes:Need precisely one parameter file *json, found: []\n"
       ]
      },
      {
       "output_type": "stream",
       "stream": "stderr",
       "text": [
        "WARNING:sarpy.io.Adata_classes:Could not load AData\n"
       ]
      },
      {
       "output_type": "stream",
       "stream": "stderr",
       "text": [
        "WARNING:sarpy.io.Adata_classes:Need precisely one parameter file *json, found: []\n"
       ]
      },
      {
       "output_type": "stream",
       "stream": "stderr",
       "text": [
        "WARNING:sarpy.io.Adata_classes:Could not load AData\n"
       ]
      },
      {
       "output_type": "stream",
       "stream": "stderr",
       "text": [
        "WARNING:sarpy.io.Adata_classes:Need precisely one parameter file *json, found: []\n"
       ]
      },
      {
       "output_type": "stream",
       "stream": "stderr",
       "text": [
        "WARNING:sarpy.io.Adata_classes:Could not load AData\n"
       ]
      },
      {
       "output_type": "stream",
       "stream": "stderr",
       "text": [
        "WARNING:sarpy.io.Adata_classes:Need precisely one parameter file *json, found: []\n"
       ]
      },
      {
       "output_type": "stream",
       "stream": "stderr",
       "text": [
        "WARNING:sarpy.io.Adata_classes:Could not load AData\n"
       ]
      },
      {
       "output_type": "stream",
       "stream": "stderr",
       "text": [
        "WARNING:sarpy.io.Adata_classes:Need precisely one parameter file *json, found: []\n"
       ]
      },
      {
       "output_type": "stream",
       "stream": "stderr",
       "text": [
        "WARNING:sarpy.io.Adata_classes:Could not load AData\n"
       ]
      },
      {
       "output_type": "stream",
       "stream": "stderr",
       "text": [
        "WARNING:sarpy.io.Adata_classes:Need precisely one parameter file *json, found: []\n"
       ]
      },
      {
       "output_type": "stream",
       "stream": "stderr",
       "text": [
        "WARNING:sarpy.io.Adata_classes:Could not load AData\n"
       ]
      },
      {
       "output_type": "stream",
       "stream": "stderr",
       "text": [
        "WARNING:sarpy.io.Adata_classes:Need precisely one parameter file *json, found: []\n"
       ]
      },
      {
       "output_type": "stream",
       "stream": "stderr",
       "text": [
        "WARNING:sarpy.io.Adata_classes:Could not load AData\n"
       ]
      },
      {
       "output_type": "stream",
       "stream": "stderr",
       "text": [
        "WARNING:sarpy.io.Adata_classes:Need precisely one parameter file *json, found: []\n"
       ]
      },
      {
       "output_type": "stream",
       "stream": "stderr",
       "text": [
        "WARNING:sarpy.io.Adata_classes:Could not load AData\n"
       ]
      },
      {
       "output_type": "stream",
       "stream": "stderr",
       "text": [
        "WARNING:sarpy.io.Adata_classes:Need precisely one parameter file *json, found: []\n"
       ]
      },
      {
       "output_type": "stream",
       "stream": "stderr",
       "text": [
        "WARNING:sarpy.io.Adata_classes:Could not load AData\n"
       ]
      },
      {
       "output_type": "stream",
       "stream": "stderr",
       "text": [
        "WARNING:sarpy.io.Adata_classes:Need precisely one parameter file *json, found: []\n"
       ]
      },
      {
       "output_type": "stream",
       "stream": "stderr",
       "text": [
        "WARNING:sarpy.io.Adata_classes:Could not load AData\n"
       ]
      },
      {
       "output_type": "stream",
       "stream": "stderr",
       "text": [
        "WARNING:sarpy.io.Adata_classes:Need precisely one parameter file *json, found: []\n"
       ]
      },
      {
       "output_type": "stream",
       "stream": "stderr",
       "text": [
        "WARNING:sarpy.io.Adata_classes:Could not load AData\n"
       ]
      },
      {
       "output_type": "stream",
       "stream": "stderr",
       "text": [
        "WARNING:sarpy.io.Adata_classes:Need precisely one parameter file *json, found: []\n"
       ]
      },
      {
       "output_type": "stream",
       "stream": "stderr",
       "text": [
        "WARNING:sarpy.io.Adata_classes:Could not load AData\n"
       ]
      },
      {
       "output_type": "stream",
       "stream": "stderr",
       "text": [
        "WARNING:sarpy.io.Adata_classes:Need precisely one parameter file *json, found: []\n"
       ]
      },
      {
       "output_type": "stream",
       "stream": "stderr",
       "text": [
        "WARNING:sarpy.io.Adata_classes:Could not load AData\n"
       ]
      },
      {
       "output_type": "stream",
       "stream": "stderr",
       "text": [
        "WARNING:sarpy.io.Adata_classes:Need precisely one parameter file *json, found: []\n"
       ]
      },
      {
       "output_type": "stream",
       "stream": "stderr",
       "text": [
        "WARNING:sarpy.io.Adata_classes:Could not load AData\n"
       ]
      },
      {
       "output_type": "stream",
       "stream": "stderr",
       "text": [
        "WARNING:sarpy.io.Adata_classes:Need precisely one parameter file *json, found: []\n"
       ]
      },
      {
       "output_type": "stream",
       "stream": "stderr",
       "text": [
        "WARNING:sarpy.io.Adata_classes:Could not load AData\n"
       ]
      },
      {
       "output_type": "stream",
       "stream": "stderr",
       "text": [
        "WARNING:sarpy.io.Adata_classes:Need precisely one parameter file *json, found: []\n"
       ]
      },
      {
       "output_type": "stream",
       "stream": "stderr",
       "text": [
        "WARNING:sarpy.io.Adata_classes:Could not load AData\n"
       ]
      },
      {
       "output_type": "stream",
       "stream": "stderr",
       "text": [
        "WARNING:sarpy.io.Adata_classes:Need precisely one parameter file *json, found: []\n"
       ]
      },
      {
       "output_type": "stream",
       "stream": "stderr",
       "text": [
        "WARNING:sarpy.io.Adata_classes:Could not load AData\n"
       ]
      },
      {
       "output_type": "stream",
       "stream": "stderr",
       "text": [
        "WARNING:sarpy.io.Adata_classes:Need precisely one parameter file *json, found: []\n"
       ]
      },
      {
       "output_type": "stream",
       "stream": "stderr",
       "text": [
        "WARNING:sarpy.io.Adata_classes:Could not load AData\n"
       ]
      },
      {
       "output_type": "stream",
       "stream": "stderr",
       "text": [
        "WARNING:sarpy.io.Adata_classes:Need precisely one parameter file *json, found: []\n"
       ]
      },
      {
       "output_type": "stream",
       "stream": "stderr",
       "text": [
        "WARNING:sarpy.io.Adata_classes:Could not load AData\n"
       ]
      },
      {
       "output_type": "stream",
       "stream": "stderr",
       "text": [
        "WARNING:sarpy.io.Adata_classes:Need precisely one parameter file *json, found: []\n"
       ]
      },
      {
       "output_type": "stream",
       "stream": "stderr",
       "text": [
        "WARNING:sarpy.io.Adata_classes:Could not load AData\n"
       ]
      },
      {
       "output_type": "stream",
       "stream": "stderr",
       "text": [
        "WARNING:sarpy.io.Adata_classes:Need precisely one parameter file *json, found: []\n"
       ]
      },
      {
       "output_type": "stream",
       "stream": "stderr",
       "text": [
        "WARNING:sarpy.io.Adata_classes:Could not load AData\n"
       ]
      },
      {
       "output_type": "stream",
       "stream": "stderr",
       "text": [
        "WARNING:sarpy.io.Adata_classes:Need precisely one parameter file *json, found: []\n"
       ]
      },
      {
       "output_type": "stream",
       "stream": "stderr",
       "text": [
        "WARNING:sarpy.io.Adata_classes:Could not load AData\n"
       ]
      },
      {
       "output_type": "stream",
       "stream": "stderr",
       "text": [
        "WARNING:sarpy.io.Adata_classes:Need precisely one parameter file *json, found: []\n"
       ]
      },
      {
       "output_type": "stream",
       "stream": "stderr",
       "text": [
        "WARNING:sarpy.io.Adata_classes:Could not load AData\n"
       ]
      },
      {
       "output_type": "stream",
       "stream": "stderr",
       "text": [
        "WARNING:sarpy.io.Adata_classes:Need precisely one parameter file *json, found: []\n"
       ]
      },
      {
       "output_type": "stream",
       "stream": "stderr",
       "text": [
        "WARNING:sarpy.io.Adata_classes:Could not load AData\n"
       ]
      },
      {
       "output_type": "stream",
       "stream": "stderr",
       "text": [
        "WARNING:sarpy.io.Adata_classes:Need precisely one parameter file *json, found: []\n"
       ]
      },
      {
       "output_type": "stream",
       "stream": "stderr",
       "text": [
        "WARNING:sarpy.io.Adata_classes:Could not load AData\n"
       ]
      },
      {
       "output_type": "stream",
       "stream": "stderr",
       "text": [
        "WARNING:sarpy.io.Adata_classes:Need precisely one parameter file *json, found: []\n"
       ]
      },
      {
       "output_type": "stream",
       "stream": "stderr",
       "text": [
        "WARNING:sarpy.io.Adata_classes:Could not load AData\n"
       ]
      },
      {
       "output_type": "stream",
       "stream": "stderr",
       "text": [
        "WARNING:sarpy.io.Adata_classes:Need precisely one parameter file *json, found: []\n"
       ]
      },
      {
       "output_type": "stream",
       "stream": "stderr",
       "text": [
        "WARNING:sarpy.io.Adata_classes:Could not load AData\n"
       ]
      },
      {
       "output_type": "stream",
       "stream": "stderr",
       "text": [
        "WARNING:sarpy.io.Adata_classes:Need precisely one parameter file *json, found: []\n"
       ]
      },
      {
       "output_type": "stream",
       "stream": "stderr",
       "text": [
        "WARNING:sarpy.io.Adata_classes:Could not load AData\n"
       ]
      },
      {
       "output_type": "stream",
       "stream": "stderr",
       "text": [
        "WARNING:sarpy.io.Adata_classes:Need precisely one parameter file *json, found: []\n"
       ]
      },
      {
       "output_type": "stream",
       "stream": "stderr",
       "text": [
        "WARNING:sarpy.io.Adata_classes:Could not load AData\n"
       ]
      },
      {
       "output_type": "stream",
       "stream": "stderr",
       "text": [
        "WARNING:sarpy.io.Adata_classes:Need precisely one parameter file *json, found: []\n"
       ]
      },
      {
       "output_type": "stream",
       "stream": "stderr",
       "text": [
        "WARNING:sarpy.io.Adata_classes:Could not load AData\n"
       ]
      },
      {
       "output_type": "stream",
       "stream": "stderr",
       "text": [
        "WARNING:sarpy.io.Adata_classes:Need precisely one parameter file *json, found: []\n"
       ]
      },
      {
       "output_type": "stream",
       "stream": "stderr",
       "text": [
        "WARNING:sarpy.io.Adata_classes:Could not load AData\n"
       ]
      },
      {
       "output_type": "stream",
       "stream": "stderr",
       "text": [
        "WARNING:sarpy.io.Adata_classes:Need precisely one parameter file *json, found: []\n"
       ]
      },
      {
       "output_type": "stream",
       "stream": "stderr",
       "text": [
        "WARNING:sarpy.io.Adata_classes:Could not load AData\n"
       ]
      },
      {
       "output_type": "stream",
       "stream": "stderr",
       "text": [
        "WARNING:sarpy.io.Adata_classes:Need precisely one parameter file *json, found: []\n"
       ]
      },
      {
       "output_type": "stream",
       "stream": "stderr",
       "text": [
        "WARNING:sarpy.io.Adata_classes:Could not load AData\n"
       ]
      },
      {
       "output_type": "stream",
       "stream": "stderr",
       "text": [
        "WARNING:sarpy.io.Adata_classes:Need precisely one parameter file *json, found: []\n"
       ]
      },
      {
       "output_type": "stream",
       "stream": "stderr",
       "text": [
        "WARNING:sarpy.io.Adata_classes:Could not load AData\n"
       ]
      },
      {
       "output_type": "stream",
       "stream": "stderr",
       "text": [
        "WARNING:sarpy.io.Adata_classes:Need precisely one parameter file *json, found: []\n"
       ]
      },
      {
       "output_type": "stream",
       "stream": "stderr",
       "text": [
        "WARNING:sarpy.io.Adata_classes:Could not load AData\n"
       ]
      },
      {
       "output_type": "stream",
       "stream": "stderr",
       "text": [
        "WARNING:sarpy.io.Adata_classes:Need precisely one parameter file *json, found: []\n"
       ]
      },
      {
       "output_type": "stream",
       "stream": "stderr",
       "text": [
        "WARNING:sarpy.io.Adata_classes:Could not load AData\n"
       ]
      },
      {
       "output_type": "stream",
       "stream": "stderr",
       "text": [
        "WARNING:sarpy.io.Adata_classes:Need precisely one parameter file *json, found: []\n"
       ]
      },
      {
       "output_type": "stream",
       "stream": "stderr",
       "text": [
        "WARNING:sarpy.io.Adata_classes:Could not load AData\n"
       ]
      },
      {
       "output_type": "stream",
       "stream": "stderr",
       "text": [
        "WARNING:sarpy.io.Adata_classes:Need precisely one parameter file *json, found: []\n"
       ]
      },
      {
       "output_type": "stream",
       "stream": "stderr",
       "text": [
        "WARNING:sarpy.io.Adata_classes:Could not load AData\n"
       ]
      },
      {
       "output_type": "stream",
       "stream": "stderr",
       "text": [
        "WARNING:sarpy.io.Adata_classes:Need precisely one parameter file *json, found: []\n"
       ]
      },
      {
       "output_type": "stream",
       "stream": "stderr",
       "text": [
        "WARNING:sarpy.io.Adata_classes:Could not load AData\n"
       ]
      },
      {
       "output_type": "stream",
       "stream": "stderr",
       "text": [
        "WARNING:sarpy.io.Adata_classes:Need precisely one parameter file *json, found: []\n"
       ]
      },
      {
       "output_type": "stream",
       "stream": "stderr",
       "text": [
        "WARNING:sarpy.io.Adata_classes:Could not load AData\n"
       ]
      },
      {
       "output_type": "stream",
       "stream": "stderr",
       "text": [
        "WARNING:sarpy.io.Adata_classes:Need precisely one parameter file *json, found: []\n"
       ]
      },
      {
       "output_type": "stream",
       "stream": "stderr",
       "text": [
        "WARNING:sarpy.io.Adata_classes:Could not load AData\n"
       ]
      },
      {
       "output_type": "stream",
       "stream": "stderr",
       "text": [
        "WARNING:sarpy.io.Adata_classes:Need precisely one parameter file *json, found: []\n"
       ]
      },
      {
       "output_type": "stream",
       "stream": "stderr",
       "text": [
        "WARNING:sarpy.io.Adata_classes:Could not load AData\n"
       ]
      },
      {
       "output_type": "stream",
       "stream": "stderr",
       "text": [
        "WARNING:sarpy.io.Adata_classes:Need precisely one parameter file *json, found: []\n"
       ]
      },
      {
       "output_type": "stream",
       "stream": "stderr",
       "text": [
        "WARNING:sarpy.io.Adata_classes:Could not load AData\n"
       ]
      },
      {
       "output_type": "stream",
       "stream": "stderr",
       "text": [
        "WARNING:sarpy.io.Adata_classes:Need precisely one parameter file *json, found: []\n"
       ]
      },
      {
       "output_type": "stream",
       "stream": "stderr",
       "text": [
        "WARNING:sarpy.io.Adata_classes:Could not load AData\n"
       ]
      },
      {
       "output_type": "stream",
       "stream": "stderr",
       "text": [
        "WARNING:sarpy.io.Adata_classes:Need precisely one parameter file *json, found: []\n"
       ]
      },
      {
       "output_type": "stream",
       "stream": "stderr",
       "text": [
        "WARNING:sarpy.io.Adata_classes:Could not load AData\n"
       ]
      },
      {
       "output_type": "stream",
       "stream": "stderr",
       "text": [
        "WARNING:sarpy.io.Adata_classes:Need precisely one parameter file *json, found: []\n"
       ]
      },
      {
       "output_type": "stream",
       "stream": "stderr",
       "text": [
        "WARNING:sarpy.io.Adata_classes:Could not load AData\n"
       ]
      },
      {
       "output_type": "stream",
       "stream": "stderr",
       "text": [
        "WARNING:sarpy.io.Adata_classes:Need precisely one parameter file *json, found: []\n"
       ]
      },
      {
       "output_type": "stream",
       "stream": "stderr",
       "text": [
        "WARNING:sarpy.io.Adata_classes:Could not load AData\n"
       ]
      },
      {
       "output_type": "stream",
       "stream": "stderr",
       "text": [
        "WARNING:sarpy.io.Adata_classes:Need precisely one parameter file *json, found: []\n"
       ]
      },
      {
       "output_type": "stream",
       "stream": "stderr",
       "text": [
        "WARNING:sarpy.io.Adata_classes:Could not load AData\n"
       ]
      },
      {
       "output_type": "stream",
       "stream": "stderr",
       "text": [
        "WARNING:sarpy.io.Adata_classes:Need precisely one parameter file *json, found: []\n"
       ]
      },
      {
       "output_type": "stream",
       "stream": "stderr",
       "text": [
        "WARNING:sarpy.io.Adata_classes:Could not load AData\n"
       ]
      },
      {
       "output_type": "stream",
       "stream": "stderr",
       "text": [
        "WARNING:sarpy.io.Adata_classes:Need precisely one parameter file *json, found: []\n"
       ]
      },
      {
       "output_type": "stream",
       "stream": "stderr",
       "text": [
        "WARNING:sarpy.io.Adata_classes:Could not load AData\n"
       ]
      },
      {
       "output_type": "stream",
       "stream": "stderr",
       "text": [
        "WARNING:sarpy.io.Adata_classes:Need precisely one parameter file *json, found: []\n"
       ]
      },
      {
       "output_type": "stream",
       "stream": "stderr",
       "text": [
        "WARNING:sarpy.io.Adata_classes:Could not load AData\n"
       ]
      },
      {
       "output_type": "stream",
       "stream": "stderr",
       "text": [
        "WARNING:sarpy.io.Adata_classes:Need precisely one parameter file *json, found: []\n"
       ]
      },
      {
       "output_type": "stream",
       "stream": "stderr",
       "text": [
        "WARNING:sarpy.io.Adata_classes:Could not load AData\n"
       ]
      },
      {
       "output_type": "stream",
       "stream": "stderr",
       "text": [
        "WARNING:sarpy.io.Adata_classes:Need precisely one parameter file *json, found: []\n"
       ]
      },
      {
       "output_type": "stream",
       "stream": "stderr",
       "text": [
        "WARNING:sarpy.io.Adata_classes:Could not load AData\n"
       ]
      },
      {
       "output_type": "stream",
       "stream": "stderr",
       "text": [
        "WARNING:sarpy.io.Adata_classes:Need precisely one parameter file *json, found: []\n"
       ]
      },
      {
       "output_type": "stream",
       "stream": "stderr",
       "text": [
        "WARNING:sarpy.io.Adata_classes:Could not load AData\n"
       ]
      },
      {
       "output_type": "stream",
       "stream": "stderr",
       "text": [
        "WARNING:sarpy.io.Adata_classes:Need precisely one parameter file *json, found: []\n"
       ]
      },
      {
       "output_type": "stream",
       "stream": "stderr",
       "text": [
        "WARNING:sarpy.io.Adata_classes:Could not load AData\n"
       ]
      },
      {
       "output_type": "stream",
       "stream": "stderr",
       "text": [
        "WARNING:sarpy.io.Adata_classes:Need precisely one parameter file *json, found: []\n"
       ]
      },
      {
       "output_type": "stream",
       "stream": "stderr",
       "text": [
        "WARNING:sarpy.io.Adata_classes:Could not load AData\n"
       ]
      },
      {
       "output_type": "stream",
       "stream": "stderr",
       "text": [
        "WARNING:sarpy.io.Adata_classes:Need precisely one parameter file *json, found: []\n"
       ]
      },
      {
       "output_type": "stream",
       "stream": "stderr",
       "text": [
        "WARNING:sarpy.io.Adata_classes:Could not load AData\n"
       ]
      },
      {
       "output_type": "stream",
       "stream": "stderr",
       "text": [
        "WARNING:sarpy.io.Adata_classes:Need precisely one parameter file *json, found: []\n"
       ]
      },
      {
       "output_type": "stream",
       "stream": "stderr",
       "text": [
        "WARNING:sarpy.io.Adata_classes:Could not load AData\n"
       ]
      },
      {
       "output_type": "stream",
       "stream": "stderr",
       "text": [
        "WARNING:sarpy.io.Adata_classes:Need precisely one parameter file *json, found: []\n"
       ]
      },
      {
       "output_type": "stream",
       "stream": "stderr",
       "text": [
        "WARNING:sarpy.io.Adata_classes:Could not load AData\n"
       ]
      },
      {
       "output_type": "stream",
       "stream": "stderr",
       "text": [
        "WARNING:sarpy.io.Adata_classes:Need precisely one parameter file *json, found: []\n"
       ]
      },
      {
       "output_type": "stream",
       "stream": "stderr",
       "text": [
        "WARNING:sarpy.io.Adata_classes:Could not load AData\n"
       ]
      },
      {
       "output_type": "stream",
       "stream": "stderr",
       "text": [
        "WARNING:sarpy.io.Adata_classes:Need precisely one parameter file *json, found: []\n"
       ]
      },
      {
       "output_type": "stream",
       "stream": "stderr",
       "text": [
        "WARNING:sarpy.io.Adata_classes:Could not load AData\n"
       ]
      },
      {
       "output_type": "stream",
       "stream": "stderr",
       "text": [
        "WARNING:sarpy.io.Adata_classes:Need precisely one parameter file *json, found: []\n"
       ]
      },
      {
       "output_type": "stream",
       "stream": "stderr",
       "text": [
        "WARNING:sarpy.io.Adata_classes:Could not load AData\n"
       ]
      },
      {
       "output_type": "stream",
       "stream": "stderr",
       "text": [
        "WARNING:sarpy.io.Adata_classes:Need precisely one parameter file *json, found: []\n"
       ]
      },
      {
       "output_type": "stream",
       "stream": "stderr",
       "text": [
        "WARNING:sarpy.io.Adata_classes:Could not load AData\n"
       ]
      },
      {
       "output_type": "stream",
       "stream": "stderr",
       "text": [
        "WARNING:sarpy.io.Adata_classes:Need precisely one parameter file *json, found: []\n"
       ]
      },
      {
       "output_type": "stream",
       "stream": "stderr",
       "text": [
        "WARNING:sarpy.io.Adata_classes:Could not load AData\n"
       ]
      },
      {
       "output_type": "stream",
       "stream": "stderr",
       "text": [
        "WARNING:sarpy.io.Adata_classes:Need precisely one parameter file *json, found: []\n"
       ]
      },
      {
       "output_type": "stream",
       "stream": "stderr",
       "text": [
        "WARNING:sarpy.io.Adata_classes:Could not load AData\n"
       ]
      },
      {
       "output_type": "stream",
       "stream": "stderr",
       "text": [
        "WARNING:sarpy.io.Adata_classes:Need precisely one parameter file *json, found: []\n"
       ]
      },
      {
       "output_type": "stream",
       "stream": "stderr",
       "text": [
        "WARNING:sarpy.io.Adata_classes:Could not load AData\n"
       ]
      },
      {
       "output_type": "stream",
       "stream": "stderr",
       "text": [
        "WARNING:sarpy.io.Adata_classes:Need precisely one parameter file *json, found: []\n"
       ]
      },
      {
       "output_type": "stream",
       "stream": "stderr",
       "text": [
        "WARNING:sarpy.io.Adata_classes:Could not load AData\n"
       ]
      },
      {
       "output_type": "stream",
       "stream": "stderr",
       "text": [
        "WARNING:sarpy.io.Adata_classes:Need precisely one parameter file *json, found: []\n"
       ]
      },
      {
       "output_type": "stream",
       "stream": "stderr",
       "text": [
        "WARNING:sarpy.io.Adata_classes:Could not load AData\n"
       ]
      },
      {
       "output_type": "stream",
       "stream": "stderr",
       "text": [
        "WARNING:sarpy.io.Adata_classes:Need precisely one parameter file *json, found: []\n"
       ]
      },
      {
       "output_type": "stream",
       "stream": "stderr",
       "text": [
        "WARNING:sarpy.io.Adata_classes:Could not load AData\n"
       ]
      },
      {
       "output_type": "stream",
       "stream": "stderr",
       "text": [
        "WARNING:sarpy.io.Adata_classes:Need precisely one parameter file *json, found: []\n"
       ]
      },
      {
       "output_type": "stream",
       "stream": "stderr",
       "text": [
        "WARNING:sarpy.io.Adata_classes:Could not load AData\n"
       ]
      },
      {
       "output_type": "stream",
       "stream": "stderr",
       "text": [
        "WARNING:sarpy.io.Adata_classes:Need precisely one parameter file *json, found: []\n"
       ]
      },
      {
       "output_type": "stream",
       "stream": "stderr",
       "text": [
        "WARNING:sarpy.io.Adata_classes:Could not load AData\n"
       ]
      },
      {
       "output_type": "stream",
       "stream": "stderr",
       "text": [
        "WARNING:sarpy.io.Adata_classes:Need precisely one parameter file *json, found: []\n"
       ]
      },
      {
       "output_type": "stream",
       "stream": "stderr",
       "text": [
        "WARNING:sarpy.io.Adata_classes:Could not load AData\n"
       ]
      },
      {
       "output_type": "stream",
       "stream": "stderr",
       "text": [
        "WARNING:sarpy.io.Adata_classes:Need precisely one parameter file *json, found: []\n"
       ]
      },
      {
       "output_type": "stream",
       "stream": "stderr",
       "text": [
        "WARNING:sarpy.io.Adata_classes:Could not load AData\n"
       ]
      },
      {
       "output_type": "stream",
       "stream": "stderr",
       "text": [
        "WARNING:sarpy.io.Adata_classes:Need precisely one parameter file *json, found: []\n"
       ]
      },
      {
       "output_type": "stream",
       "stream": "stderr",
       "text": [
        "WARNING:sarpy.io.Adata_classes:Could not load AData\n"
       ]
      },
      {
       "output_type": "stream",
       "stream": "stderr",
       "text": [
        "WARNING:sarpy.io.Adata_classes:Need precisely one parameter file *json, found: []\n"
       ]
      },
      {
       "output_type": "stream",
       "stream": "stderr",
       "text": [
        "WARNING:sarpy.io.Adata_classes:Could not load AData\n"
       ]
      },
      {
       "output_type": "stream",
       "stream": "stderr",
       "text": [
        "WARNING:sarpy.io.Adata_classes:Need precisely one parameter file *json, found: []\n"
       ]
      },
      {
       "output_type": "stream",
       "stream": "stderr",
       "text": [
        "WARNING:sarpy.io.Adata_classes:Could not load AData\n"
       ]
      },
      {
       "output_type": "stream",
       "stream": "stderr",
       "text": [
        "WARNING:sarpy.io.Adata_classes:Need precisely one parameter file *json, found: []\n"
       ]
      },
      {
       "output_type": "stream",
       "stream": "stderr",
       "text": [
        "WARNING:sarpy.io.Adata_classes:Could not load AData\n"
       ]
      },
      {
       "output_type": "stream",
       "stream": "stderr",
       "text": [
        "WARNING:sarpy.io.Adata_classes:Need precisely one parameter file *json, found: []\n"
       ]
      },
      {
       "output_type": "stream",
       "stream": "stderr",
       "text": [
        "WARNING:sarpy.io.Adata_classes:Could not load AData\n"
       ]
      },
      {
       "output_type": "stream",
       "stream": "stderr",
       "text": [
        "WARNING:sarpy.io.Adata_classes:Need precisely one parameter file *json, found: []\n"
       ]
      },
      {
       "output_type": "stream",
       "stream": "stderr",
       "text": [
        "WARNING:sarpy.io.Adata_classes:Could not load AData\n"
       ]
      },
      {
       "output_type": "stream",
       "stream": "stderr",
       "text": [
        "WARNING:sarpy.io.Adata_classes:Need precisely one parameter file *json, found: []\n"
       ]
      },
      {
       "output_type": "stream",
       "stream": "stderr",
       "text": [
        "WARNING:sarpy.io.Adata_classes:Could not load AData\n"
       ]
      },
      {
       "output_type": "stream",
       "stream": "stderr",
       "text": [
        "WARNING:sarpy.io.Adata_classes:Need precisely one parameter file *json, found: []\n"
       ]
      },
      {
       "output_type": "stream",
       "stream": "stderr",
       "text": [
        "WARNING:sarpy.io.Adata_classes:Could not load AData\n"
       ]
      },
      {
       "output_type": "stream",
       "stream": "stderr",
       "text": [
        "WARNING:sarpy.io.Adata_classes:Need precisely one parameter file *json, found: []\n"
       ]
      },
      {
       "output_type": "stream",
       "stream": "stderr",
       "text": [
        "WARNING:sarpy.io.Adata_classes:Could not load AData\n"
       ]
      },
      {
       "output_type": "stream",
       "stream": "stderr",
       "text": [
        "WARNING:sarpy.io.Adata_classes:Need precisely one parameter file *json, found: []\n"
       ]
      },
      {
       "output_type": "stream",
       "stream": "stderr",
       "text": [
        "WARNING:sarpy.io.Adata_classes:Could not load AData\n"
       ]
      },
      {
       "output_type": "stream",
       "stream": "stderr",
       "text": [
        "WARNING:sarpy.io.Adata_classes:Need precisely one parameter file *json, found: []\n"
       ]
      },
      {
       "output_type": "stream",
       "stream": "stderr",
       "text": [
        "WARNING:sarpy.io.Adata_classes:Could not load AData\n"
       ]
      },
      {
       "output_type": "stream",
       "stream": "stderr",
       "text": [
        "WARNING:sarpy.io.Adata_classes:Need precisely one parameter file *json, found: []\n"
       ]
      },
      {
       "output_type": "stream",
       "stream": "stderr",
       "text": [
        "WARNING:sarpy.io.Adata_classes:Could not load AData\n"
       ]
      },
      {
       "output_type": "stream",
       "stream": "stderr",
       "text": [
        "WARNING:sarpy.io.Adata_classes:Need precisely one parameter file *json, found: []\n"
       ]
      },
      {
       "output_type": "stream",
       "stream": "stderr",
       "text": [
        "WARNING:sarpy.io.Adata_classes:Could not load AData\n"
       ]
      },
      {
       "output_type": "stream",
       "stream": "stderr",
       "text": [
        "WARNING:sarpy.io.Adata_classes:Need precisely one parameter file *json, found: []\n"
       ]
      },
      {
       "output_type": "stream",
       "stream": "stderr",
       "text": [
        "WARNING:sarpy.io.Adata_classes:Could not load AData\n"
       ]
      },
      {
       "output_type": "stream",
       "stream": "stderr",
       "text": [
        "WARNING:sarpy.io.Adata_classes:Need precisely one parameter file *json, found: []\n"
       ]
      },
      {
       "output_type": "stream",
       "stream": "stderr",
       "text": [
        "WARNING:sarpy.io.Adata_classes:Could not load AData\n"
       ]
      },
      {
       "output_type": "stream",
       "stream": "stderr",
       "text": [
        "WARNING:sarpy.io.Adata_classes:Need precisely one parameter file *json, found: []\n"
       ]
      },
      {
       "output_type": "stream",
       "stream": "stderr",
       "text": [
        "WARNING:sarpy.io.Adata_classes:Could not load AData\n"
       ]
      },
      {
       "output_type": "stream",
       "stream": "stderr",
       "text": [
        "WARNING:sarpy.io.Adata_classes:Need precisely one parameter file *json, found: []\n"
       ]
      },
      {
       "output_type": "stream",
       "stream": "stderr",
       "text": [
        "WARNING:sarpy.io.Adata_classes:Could not load AData\n"
       ]
      },
      {
       "output_type": "stream",
       "stream": "stderr",
       "text": [
        "WARNING:sarpy.io.Adata_classes:Need precisely one parameter file *json, found: []\n"
       ]
      },
      {
       "output_type": "stream",
       "stream": "stderr",
       "text": [
        "WARNING:sarpy.io.Adata_classes:Could not load AData\n"
       ]
      },
      {
       "output_type": "stream",
       "stream": "stderr",
       "text": [
        "WARNING:sarpy.io.Adata_classes:Need precisely one parameter file *json, found: []\n"
       ]
      },
      {
       "output_type": "stream",
       "stream": "stderr",
       "text": [
        "WARNING:sarpy.io.Adata_classes:Could not load AData\n"
       ]
      },
      {
       "output_type": "stream",
       "stream": "stderr",
       "text": [
        "WARNING:sarpy.io.Adata_classes:Need precisely one parameter file *json, found: []\n"
       ]
      },
      {
       "output_type": "stream",
       "stream": "stderr",
       "text": [
        "WARNING:sarpy.io.Adata_classes:Could not load AData\n"
       ]
      },
      {
       "output_type": "stream",
       "stream": "stderr",
       "text": [
        "WARNING:sarpy.io.Adata_classes:Need precisely one parameter file *json, found: []\n"
       ]
      },
      {
       "output_type": "stream",
       "stream": "stderr",
       "text": [
        "WARNING:sarpy.io.Adata_classes:Could not load AData\n"
       ]
      },
      {
       "output_type": "stream",
       "stream": "stderr",
       "text": [
        "WARNING:sarpy.io.Adata_classes:Need precisely one parameter file *json, found: []\n"
       ]
      },
      {
       "output_type": "stream",
       "stream": "stderr",
       "text": [
        "WARNING:sarpy.io.Adata_classes:Could not load AData\n"
       ]
      },
      {
       "output_type": "stream",
       "stream": "stderr",
       "text": [
        "WARNING:sarpy.io.Adata_classes:Need precisely one parameter file *json, found: []\n"
       ]
      },
      {
       "output_type": "stream",
       "stream": "stderr",
       "text": [
        "WARNING:sarpy.io.Adata_classes:Could not load AData\n"
       ]
      },
      {
       "output_type": "stream",
       "stream": "stderr",
       "text": [
        "WARNING:sarpy.io.Adata_classes:Need precisely one parameter file *json, found: []\n"
       ]
      },
      {
       "output_type": "stream",
       "stream": "stderr",
       "text": [
        "WARNING:sarpy.io.Adata_classes:Could not load AData\n"
       ]
      },
      {
       "output_type": "stream",
       "stream": "stderr",
       "text": [
        "WARNING:sarpy.io.Adata_classes:Need precisely one parameter file *json, found: []\n"
       ]
      },
      {
       "output_type": "stream",
       "stream": "stderr",
       "text": [
        "WARNING:sarpy.io.Adata_classes:Could not load AData\n"
       ]
      },
      {
       "output_type": "stream",
       "stream": "stderr",
       "text": [
        "WARNING:sarpy.io.Adata_classes:Need precisely one parameter file *json, found: []\n"
       ]
      },
      {
       "output_type": "stream",
       "stream": "stderr",
       "text": [
        "WARNING:sarpy.io.Adata_classes:Could not load AData\n"
       ]
      },
      {
       "output_type": "stream",
       "stream": "stderr",
       "text": [
        "WARNING:sarpy.io.Adata_classes:Need precisely one parameter file *json, found: []\n"
       ]
      },
      {
       "output_type": "stream",
       "stream": "stderr",
       "text": [
        "WARNING:sarpy.io.Adata_classes:Could not load AData\n"
       ]
      },
      {
       "output_type": "stream",
       "stream": "stderr",
       "text": [
        "WARNING:sarpy.io.Adata_classes:Need precisely one parameter file *json, found: []\n"
       ]
      },
      {
       "output_type": "stream",
       "stream": "stderr",
       "text": [
        "WARNING:sarpy.io.Adata_classes:Could not load AData\n"
       ]
      },
      {
       "output_type": "stream",
       "stream": "stderr",
       "text": [
        "WARNING:sarpy.io.Adata_classes:Need precisely one parameter file *json, found: []\n"
       ]
      },
      {
       "output_type": "stream",
       "stream": "stderr",
       "text": [
        "WARNING:sarpy.io.Adata_classes:Could not load AData\n"
       ]
      },
      {
       "output_type": "stream",
       "stream": "stderr",
       "text": [
        "WARNING:sarpy.io.Adata_classes:Need precisely one parameter file *json, found: []\n"
       ]
      },
      {
       "output_type": "stream",
       "stream": "stderr",
       "text": [
        "WARNING:sarpy.io.Adata_classes:Could not load AData\n"
       ]
      },
      {
       "output_type": "stream",
       "stream": "stderr",
       "text": [
        "WARNING:sarpy.io.Adata_classes:Need precisely one parameter file *json, found: []\n"
       ]
      },
      {
       "output_type": "stream",
       "stream": "stderr",
       "text": [
        "WARNING:sarpy.io.Adata_classes:Could not load AData\n"
       ]
      },
      {
       "output_type": "stream",
       "stream": "stderr",
       "text": [
        "WARNING:sarpy.io.Adata_classes:Need precisely one parameter file *json, found: []\n"
       ]
      },
      {
       "output_type": "stream",
       "stream": "stderr",
       "text": [
        "WARNING:sarpy.io.Adata_classes:Could not load AData\n"
       ]
      },
      {
       "output_type": "stream",
       "stream": "stderr",
       "text": [
        "WARNING:sarpy.io.Adata_classes:Need precisely one parameter file *json, found: []\n"
       ]
      },
      {
       "output_type": "stream",
       "stream": "stderr",
       "text": [
        "WARNING:sarpy.io.Adata_classes:Could not load AData\n"
       ]
      },
      {
       "output_type": "stream",
       "stream": "stderr",
       "text": [
        "WARNING:sarpy.io.Adata_classes:Need precisely one parameter file *json, found: []\n"
       ]
      },
      {
       "output_type": "stream",
       "stream": "stderr",
       "text": [
        "WARNING:sarpy.io.Adata_classes:Could not load AData\n"
       ]
      },
      {
       "output_type": "stream",
       "stream": "stderr",
       "text": [
        "WARNING:sarpy.io.Adata_classes:Need precisely one parameter file *json, found: []\n"
       ]
      },
      {
       "output_type": "stream",
       "stream": "stderr",
       "text": [
        "WARNING:sarpy.io.Adata_classes:Could not load AData\n"
       ]
      },
      {
       "output_type": "stream",
       "stream": "stderr",
       "text": [
        "WARNING:sarpy.io.Adata_classes:Need precisely one parameter file *json, found: []\n"
       ]
      },
      {
       "output_type": "stream",
       "stream": "stderr",
       "text": [
        "WARNING:sarpy.io.Adata_classes:Could not load AData\n"
       ]
      },
      {
       "output_type": "stream",
       "stream": "stderr",
       "text": [
        "WARNING:sarpy.io.Adata_classes:Need precisely one parameter file *json, found: []\n"
       ]
      },
      {
       "output_type": "stream",
       "stream": "stderr",
       "text": [
        "WARNING:sarpy.io.Adata_classes:Could not load AData\n"
       ]
      },
      {
       "output_type": "stream",
       "stream": "stderr",
       "text": [
        "WARNING:sarpy.io.Adata_classes:Need precisely one parameter file *json, found: []\n"
       ]
      },
      {
       "output_type": "stream",
       "stream": "stderr",
       "text": [
        "WARNING:sarpy.io.Adata_classes:Could not load AData\n"
       ]
      },
      {
       "output_type": "stream",
       "stream": "stderr",
       "text": [
        "WARNING:sarpy.io.Adata_classes:Need precisely one parameter file *json, found: []\n"
       ]
      },
      {
       "output_type": "stream",
       "stream": "stderr",
       "text": [
        "WARNING:sarpy.io.Adata_classes:Could not load AData\n"
       ]
      },
      {
       "output_type": "stream",
       "stream": "stderr",
       "text": [
        "WARNING:sarpy.io.Adata_classes:Need precisely one parameter file *json, found: []\n"
       ]
      },
      {
       "output_type": "stream",
       "stream": "stderr",
       "text": [
        "WARNING:sarpy.io.Adata_classes:Could not load AData\n"
       ]
      },
      {
       "output_type": "stream",
       "stream": "stderr",
       "text": [
        "WARNING:sarpy.io.Adata_classes:Need precisely one parameter file *json, found: []\n"
       ]
      },
      {
       "output_type": "stream",
       "stream": "stderr",
       "text": [
        "WARNING:sarpy.io.Adata_classes:Could not load AData\n"
       ]
      },
      {
       "output_type": "stream",
       "stream": "stderr",
       "text": [
        "WARNING:sarpy.io.Adata_classes:Need precisely one parameter file *json, found: []\n"
       ]
      },
      {
       "output_type": "stream",
       "stream": "stderr",
       "text": [
        "WARNING:sarpy.io.Adata_classes:Could not load AData\n"
       ]
      },
      {
       "output_type": "stream",
       "stream": "stderr",
       "text": [
        "WARNING:sarpy.io.Adata_classes:Need precisely one parameter file *json, found: []\n"
       ]
      },
      {
       "output_type": "stream",
       "stream": "stderr",
       "text": [
        "WARNING:sarpy.io.Adata_classes:Could not load AData\n"
       ]
      },
      {
       "output_type": "stream",
       "stream": "stderr",
       "text": [
        "WARNING:sarpy.io.Adata_classes:Need precisely one parameter file *json, found: []\n"
       ]
      },
      {
       "output_type": "stream",
       "stream": "stderr",
       "text": [
        "WARNING:sarpy.io.Adata_classes:Could not load AData\n"
       ]
      },
      {
       "output_type": "stream",
       "stream": "stderr",
       "text": [
        "WARNING:sarpy.io.Adata_classes:Need precisely one parameter file *json, found: []\n"
       ]
      },
      {
       "output_type": "stream",
       "stream": "stderr",
       "text": [
        "WARNING:sarpy.io.Adata_classes:Could not load AData\n"
       ]
      },
      {
       "output_type": "stream",
       "stream": "stderr",
       "text": [
        "WARNING:sarpy.io.Adata_classes:Need precisely one parameter file *json, found: []\n"
       ]
      },
      {
       "output_type": "stream",
       "stream": "stderr",
       "text": [
        "WARNING:sarpy.io.Adata_classes:Could not load AData\n"
       ]
      },
      {
       "output_type": "stream",
       "stream": "stderr",
       "text": [
        "WARNING:sarpy.io.Adata_classes:Need precisely one parameter file *json, found: []\n"
       ]
      },
      {
       "output_type": "stream",
       "stream": "stderr",
       "text": [
        "WARNING:sarpy.io.Adata_classes:Could not load AData\n"
       ]
      },
      {
       "output_type": "stream",
       "stream": "stderr",
       "text": [
        "WARNING:sarpy.io.Adata_classes:Need precisely one parameter file *json, found: []\n"
       ]
      },
      {
       "output_type": "stream",
       "stream": "stderr",
       "text": [
        "WARNING:sarpy.io.Adata_classes:Could not load AData\n"
       ]
      },
      {
       "output_type": "stream",
       "stream": "stderr",
       "text": [
        "WARNING:sarpy.io.Adata_classes:Need precisely one parameter file *json, found: []\n"
       ]
      },
      {
       "output_type": "stream",
       "stream": "stderr",
       "text": [
        "WARNING:sarpy.io.Adata_classes:Could not load AData\n"
       ]
      },
      {
       "output_type": "stream",
       "stream": "stderr",
       "text": [
        "WARNING:sarpy.io.Adata_classes:Need precisely one parameter file *json, found: []\n"
       ]
      },
      {
       "output_type": "stream",
       "stream": "stderr",
       "text": [
        "WARNING:sarpy.io.Adata_classes:Could not load AData\n"
       ]
      },
      {
       "output_type": "stream",
       "stream": "stderr",
       "text": [
        "WARNING:sarpy.io.Adata_classes:Need precisely one parameter file *json, found: []\n"
       ]
      },
      {
       "output_type": "stream",
       "stream": "stderr",
       "text": [
        "WARNING:sarpy.io.Adata_classes:Could not load AData\n"
       ]
      },
      {
       "output_type": "stream",
       "stream": "stderr",
       "text": [
        "WARNING:sarpy.io.Adata_classes:Need precisely one parameter file *json, found: []\n"
       ]
      },
      {
       "output_type": "stream",
       "stream": "stderr",
       "text": [
        "WARNING:sarpy.io.Adata_classes:Could not load AData\n"
       ]
      },
      {
       "output_type": "stream",
       "stream": "stderr",
       "text": [
        "WARNING:sarpy.io.Adata_classes:Need precisely one parameter file *json, found: []\n"
       ]
      },
      {
       "output_type": "stream",
       "stream": "stderr",
       "text": [
        "WARNING:sarpy.io.Adata_classes:Could not load AData\n"
       ]
      },
      {
       "output_type": "stream",
       "stream": "stderr",
       "text": [
        "WARNING:sarpy.io.Adata_classes:Need precisely one parameter file *json, found: []\n"
       ]
      },
      {
       "output_type": "stream",
       "stream": "stderr",
       "text": [
        "WARNING:sarpy.io.Adata_classes:Could not load AData\n"
       ]
      },
      {
       "output_type": "stream",
       "stream": "stderr",
       "text": [
        "WARNING:sarpy.io.Adata_classes:Need precisely one parameter file *json, found: []\n"
       ]
      },
      {
       "output_type": "stream",
       "stream": "stderr",
       "text": [
        "WARNING:sarpy.io.Adata_classes:Could not load AData\n"
       ]
      },
      {
       "output_type": "stream",
       "stream": "stderr",
       "text": [
        "WARNING:sarpy.io.Adata_classes:Need precisely one parameter file *json, found: []\n"
       ]
      },
      {
       "output_type": "stream",
       "stream": "stderr",
       "text": [
        "WARNING:sarpy.io.Adata_classes:Could not load AData\n"
       ]
      },
      {
       "output_type": "stream",
       "stream": "stderr",
       "text": [
        "WARNING:sarpy.io.Adata_classes:Need precisely one parameter file *json, found: []\n"
       ]
      },
      {
       "output_type": "stream",
       "stream": "stderr",
       "text": [
        "WARNING:sarpy.io.Adata_classes:Could not load AData\n"
       ]
      },
      {
       "output_type": "stream",
       "stream": "stderr",
       "text": [
        "WARNING:sarpy.io.Adata_classes:Need precisely one parameter file *json, found: []\n"
       ]
      },
      {
       "output_type": "stream",
       "stream": "stderr",
       "text": [
        "WARNING:sarpy.io.Adata_classes:Could not load AData\n"
       ]
      },
      {
       "output_type": "stream",
       "stream": "stderr",
       "text": [
        "WARNING:sarpy.io.Adata_classes:Need precisely one parameter file *json, found: []\n"
       ]
      },
      {
       "output_type": "stream",
       "stream": "stderr",
       "text": [
        "WARNING:sarpy.io.Adata_classes:Could not load AData\n"
       ]
      },
      {
       "output_type": "stream",
       "stream": "stderr",
       "text": [
        "WARNING:sarpy.io.Adata_classes:Need precisely one parameter file *json, found: []\n"
       ]
      },
      {
       "output_type": "stream",
       "stream": "stderr",
       "text": [
        "WARNING:sarpy.io.Adata_classes:Could not load AData\n"
       ]
      },
      {
       "output_type": "stream",
       "stream": "stderr",
       "text": [
        "WARNING:sarpy.io.Adata_classes:Need precisely one parameter file *json, found: []\n"
       ]
      },
      {
       "output_type": "stream",
       "stream": "stderr",
       "text": [
        "WARNING:sarpy.io.Adata_classes:Could not load AData\n"
       ]
      },
      {
       "output_type": "stream",
       "stream": "stderr",
       "text": [
        "WARNING:sarpy.io.Adata_classes:Need precisely one parameter file *json, found: []\n"
       ]
      },
      {
       "output_type": "stream",
       "stream": "stderr",
       "text": [
        "WARNING:sarpy.io.Adata_classes:Could not load AData\n"
       ]
      },
      {
       "output_type": "stream",
       "stream": "stderr",
       "text": [
        "WARNING:sarpy.io.Adata_classes:Need precisely one parameter file *json, found: []\n"
       ]
      },
      {
       "output_type": "stream",
       "stream": "stderr",
       "text": [
        "WARNING:sarpy.io.Adata_classes:Could not load AData\n"
       ]
      },
      {
       "output_type": "stream",
       "stream": "stderr",
       "text": [
        "WARNING:sarpy.io.Adata_classes:Need precisely one parameter file *json, found: []\n"
       ]
      },
      {
       "output_type": "stream",
       "stream": "stderr",
       "text": [
        "WARNING:sarpy.io.Adata_classes:Could not load AData\n"
       ]
      },
      {
       "output_type": "stream",
       "stream": "stderr",
       "text": [
        "WARNING:sarpy.io.Adata_classes:Need precisely one parameter file *json, found: []\n"
       ]
      },
      {
       "output_type": "stream",
       "stream": "stderr",
       "text": [
        "WARNING:sarpy.io.Adata_classes:Could not load AData\n"
       ]
      },
      {
       "output_type": "stream",
       "stream": "stderr",
       "text": [
        "WARNING:sarpy.io.Adata_classes:Need precisely one parameter file *json, found: []\n"
       ]
      },
      {
       "output_type": "stream",
       "stream": "stderr",
       "text": [
        "WARNING:sarpy.io.Adata_classes:Could not load AData\n"
       ]
      },
      {
       "output_type": "stream",
       "stream": "stderr",
       "text": [
        "WARNING:sarpy.io.Adata_classes:Need precisely one parameter file *json, found: []\n"
       ]
      },
      {
       "output_type": "stream",
       "stream": "stderr",
       "text": [
        "WARNING:sarpy.io.Adata_classes:Could not load AData\n"
       ]
      },
      {
       "output_type": "stream",
       "stream": "stderr",
       "text": [
        "WARNING:sarpy.io.Adata_classes:Need precisely one parameter file *json, found: []\n"
       ]
      },
      {
       "output_type": "stream",
       "stream": "stderr",
       "text": [
        "WARNING:sarpy.io.Adata_classes:Could not load AData\n"
       ]
      },
      {
       "output_type": "stream",
       "stream": "stderr",
       "text": [
        "WARNING:sarpy.io.Adata_classes:Need precisely one parameter file *json, found: []\n"
       ]
      },
      {
       "output_type": "stream",
       "stream": "stderr",
       "text": [
        "WARNING:sarpy.io.Adata_classes:Could not load AData\n"
       ]
      },
      {
       "output_type": "stream",
       "stream": "stderr",
       "text": [
        "WARNING:sarpy.io.Adata_classes:Need precisely one parameter file *json, found: []\n"
       ]
      },
      {
       "output_type": "stream",
       "stream": "stderr",
       "text": [
        "WARNING:sarpy.io.Adata_classes:Could not load AData\n"
       ]
      },
      {
       "output_type": "stream",
       "stream": "stderr",
       "text": [
        "WARNING:sarpy.io.Adata_classes:Need precisely one parameter file *json, found: []\n"
       ]
      },
      {
       "output_type": "stream",
       "stream": "stderr",
       "text": [
        "WARNING:sarpy.io.Adata_classes:Could not load AData\n"
       ]
      },
      {
       "output_type": "stream",
       "stream": "stderr",
       "text": [
        "WARNING:sarpy.io.Adata_classes:Need precisely one parameter file *json, found: []\n"
       ]
      },
      {
       "output_type": "stream",
       "stream": "stderr",
       "text": [
        "WARNING:sarpy.io.Adata_classes:Could not load AData\n"
       ]
      },
      {
       "output_type": "stream",
       "stream": "stderr",
       "text": [
        "WARNING:sarpy.io.Adata_classes:Need precisely one parameter file *json, found: []\n"
       ]
      },
      {
       "output_type": "stream",
       "stream": "stderr",
       "text": [
        "WARNING:sarpy.io.Adata_classes:Could not load AData\n"
       ]
      },
      {
       "output_type": "stream",
       "stream": "stderr",
       "text": [
        "WARNING:sarpy.io.Adata_classes:Need precisely one parameter file *json, found: []\n"
       ]
      },
      {
       "output_type": "stream",
       "stream": "stderr",
       "text": [
        "WARNING:sarpy.io.Adata_classes:Could not load AData\n"
       ]
      },
      {
       "output_type": "stream",
       "stream": "stderr",
       "text": [
        "WARNING:sarpy.io.Adata_classes:Need precisely one parameter file *json, found: []\n"
       ]
      },
      {
       "output_type": "stream",
       "stream": "stderr",
       "text": [
        "WARNING:sarpy.io.Adata_classes:Could not load AData\n"
       ]
      },
      {
       "output_type": "stream",
       "stream": "stderr",
       "text": [
        "WARNING:sarpy.io.Adata_classes:Need precisely one parameter file *json, found: []\n"
       ]
      },
      {
       "output_type": "stream",
       "stream": "stderr",
       "text": [
        "WARNING:sarpy.io.Adata_classes:Could not load AData\n"
       ]
      },
      {
       "output_type": "stream",
       "stream": "stderr",
       "text": [
        "WARNING:sarpy.io.Adata_classes:Need precisely one parameter file *json, found: []\n"
       ]
      },
      {
       "output_type": "stream",
       "stream": "stderr",
       "text": [
        "WARNING:sarpy.io.Adata_classes:Could not load AData\n"
       ]
      },
      {
       "output_type": "stream",
       "stream": "stderr",
       "text": [
        "WARNING:sarpy.io.Adata_classes:Need precisely one parameter file *json, found: []\n"
       ]
      },
      {
       "output_type": "stream",
       "stream": "stderr",
       "text": [
        "WARNING:sarpy.io.Adata_classes:Could not load AData\n"
       ]
      },
      {
       "output_type": "stream",
       "stream": "stderr",
       "text": [
        "WARNING:sarpy.io.Adata_classes:Need precisely one parameter file *json, found: []\n"
       ]
      },
      {
       "output_type": "stream",
       "stream": "stderr",
       "text": [
        "WARNING:sarpy.io.Adata_classes:Could not load AData\n"
       ]
      },
      {
       "output_type": "stream",
       "stream": "stderr",
       "text": [
        "WARNING:sarpy.io.Adata_classes:Need precisely one parameter file *json, found: []\n"
       ]
      },
      {
       "output_type": "stream",
       "stream": "stderr",
       "text": [
        "WARNING:sarpy.io.Adata_classes:Could not load AData\n"
       ]
      },
      {
       "output_type": "stream",
       "stream": "stderr",
       "text": [
        "WARNING:sarpy.io.Adata_classes:Need precisely one parameter file *json, found: []\n"
       ]
      },
      {
       "output_type": "stream",
       "stream": "stderr",
       "text": [
        "WARNING:sarpy.io.Adata_classes:Could not load AData\n"
       ]
      },
      {
       "output_type": "stream",
       "stream": "stderr",
       "text": [
        "WARNING:sarpy.io.Adata_classes:Need precisely one parameter file *json, found: []\n"
       ]
      },
      {
       "output_type": "stream",
       "stream": "stderr",
       "text": [
        "WARNING:sarpy.io.Adata_classes:Could not load AData\n"
       ]
      },
      {
       "output_type": "stream",
       "stream": "stderr",
       "text": [
        "WARNING:sarpy.io.Adata_classes:Need precisely one parameter file *json, found: []\n"
       ]
      },
      {
       "output_type": "stream",
       "stream": "stderr",
       "text": [
        "WARNING:sarpy.io.Adata_classes:Could not load AData\n"
       ]
      },
      {
       "output_type": "stream",
       "stream": "stderr",
       "text": [
        "WARNING:sarpy.io.Adata_classes:Need precisely one parameter file *json, found: []\n"
       ]
      },
      {
       "output_type": "stream",
       "stream": "stderr",
       "text": [
        "WARNING:sarpy.io.Adata_classes:Could not load AData\n"
       ]
      },
      {
       "output_type": "stream",
       "stream": "stderr",
       "text": [
        "WARNING:sarpy.io.Adata_classes:Need precisely one parameter file *json, found: []\n"
       ]
      },
      {
       "output_type": "stream",
       "stream": "stderr",
       "text": [
        "WARNING:sarpy.io.Adata_classes:Could not load AData\n"
       ]
      },
      {
       "output_type": "stream",
       "stream": "stderr",
       "text": [
        "WARNING:sarpy.io.Adata_classes:Need precisely one parameter file *json, found: []\n"
       ]
      },
      {
       "output_type": "stream",
       "stream": "stderr",
       "text": [
        "WARNING:sarpy.io.Adata_classes:Could not load AData\n"
       ]
      },
      {
       "output_type": "stream",
       "stream": "stderr",
       "text": [
        "WARNING:sarpy.io.Adata_classes:Need precisely one parameter file *json, found: []\n"
       ]
      },
      {
       "output_type": "stream",
       "stream": "stderr",
       "text": [
        "WARNING:sarpy.io.Adata_classes:Could not load AData\n"
       ]
      },
      {
       "output_type": "stream",
       "stream": "stderr",
       "text": [
        "WARNING:sarpy.io.Adata_classes:Need precisely one parameter file *json, found: []\n"
       ]
      },
      {
       "output_type": "stream",
       "stream": "stderr",
       "text": [
        "WARNING:sarpy.io.Adata_classes:Could not load AData\n"
       ]
      },
      {
       "output_type": "stream",
       "stream": "stderr",
       "text": [
        "WARNING:sarpy.io.Adata_classes:Need precisely one parameter file *json, found: []\n"
       ]
      },
      {
       "output_type": "stream",
       "stream": "stderr",
       "text": [
        "WARNING:sarpy.io.Adata_classes:Could not load AData\n"
       ]
      },
      {
       "output_type": "stream",
       "stream": "stderr",
       "text": [
        "WARNING:sarpy.io.Adata_classes:Need precisely one parameter file *json, found: []\n"
       ]
      },
      {
       "output_type": "stream",
       "stream": "stderr",
       "text": [
        "WARNING:sarpy.io.Adata_classes:Could not load AData\n"
       ]
      },
      {
       "output_type": "stream",
       "stream": "stderr",
       "text": [
        "WARNING:sarpy.io.Adata_classes:Need precisely one parameter file *json, found: []\n"
       ]
      },
      {
       "output_type": "stream",
       "stream": "stderr",
       "text": [
        "WARNING:sarpy.io.Adata_classes:Could not load AData\n"
       ]
      },
      {
       "output_type": "stream",
       "stream": "stderr",
       "text": [
        "WARNING:sarpy.io.Adata_classes:Need precisely one parameter file *json, found: []\n"
       ]
      },
      {
       "output_type": "stream",
       "stream": "stderr",
       "text": [
        "WARNING:sarpy.io.Adata_classes:Could not load AData\n"
       ]
      },
      {
       "output_type": "stream",
       "stream": "stderr",
       "text": [
        "WARNING:sarpy.io.Adata_classes:Need precisely one parameter file *json, found: []\n"
       ]
      },
      {
       "output_type": "stream",
       "stream": "stderr",
       "text": [
        "WARNING:sarpy.io.Adata_classes:Could not load AData\n"
       ]
      },
      {
       "output_type": "stream",
       "stream": "stderr",
       "text": [
        "WARNING:sarpy.io.Adata_classes:Need precisely one parameter file *json, found: []\n"
       ]
      },
      {
       "output_type": "stream",
       "stream": "stderr",
       "text": [
        "WARNING:sarpy.io.Adata_classes:Could not load AData\n"
       ]
      },
      {
       "output_type": "stream",
       "stream": "stderr",
       "text": [
        "WARNING:sarpy.io.Adata_classes:Need precisely one parameter file *json, found: []\n"
       ]
      },
      {
       "output_type": "stream",
       "stream": "stderr",
       "text": [
        "WARNING:sarpy.io.Adata_classes:Could not load AData\n"
       ]
      },
      {
       "output_type": "stream",
       "stream": "stderr",
       "text": [
        "WARNING:sarpy.io.Adata_classes:Need precisely one parameter file *json, found: []\n"
       ]
      },
      {
       "output_type": "stream",
       "stream": "stderr",
       "text": [
        "WARNING:sarpy.io.Adata_classes:Could not load AData\n"
       ]
      },
      {
       "output_type": "stream",
       "stream": "stderr",
       "text": [
        "WARNING:sarpy.io.Adata_classes:Need precisely one parameter file *json, found: []\n"
       ]
      },
      {
       "output_type": "stream",
       "stream": "stderr",
       "text": [
        "WARNING:sarpy.io.Adata_classes:Could not load AData\n"
       ]
      },
      {
       "output_type": "stream",
       "stream": "stderr",
       "text": [
        "WARNING:sarpy.io.Adata_classes:Need precisely one parameter file *json, found: []\n"
       ]
      },
      {
       "output_type": "stream",
       "stream": "stderr",
       "text": [
        "WARNING:sarpy.io.Adata_classes:Could not load AData\n"
       ]
      },
      {
       "output_type": "stream",
       "stream": "stderr",
       "text": [
        "WARNING:sarpy.io.Adata_classes:Need precisely one parameter file *json, found: []\n"
       ]
      },
      {
       "output_type": "stream",
       "stream": "stderr",
       "text": [
        "WARNING:sarpy.io.Adata_classes:Could not load AData\n"
       ]
      },
      {
       "output_type": "stream",
       "stream": "stderr",
       "text": [
        "WARNING:sarpy.io.Adata_classes:Need precisely one parameter file *json, found: []\n"
       ]
      },
      {
       "output_type": "stream",
       "stream": "stderr",
       "text": [
        "WARNING:sarpy.io.Adata_classes:Could not load AData\n"
       ]
      },
      {
       "output_type": "stream",
       "stream": "stderr",
       "text": [
        "WARNING:sarpy.io.Adata_classes:Need precisely one parameter file *json, found: []\n"
       ]
      },
      {
       "output_type": "stream",
       "stream": "stderr",
       "text": [
        "WARNING:sarpy.io.Adata_classes:Could not load AData\n"
       ]
      },
      {
       "output_type": "stream",
       "stream": "stderr",
       "text": [
        "WARNING:sarpy.io.Adata_classes:Need precisely one parameter file *json, found: []\n"
       ]
      },
      {
       "output_type": "stream",
       "stream": "stderr",
       "text": [
        "WARNING:sarpy.io.Adata_classes:Could not load AData\n"
       ]
      },
      {
       "output_type": "stream",
       "stream": "stderr",
       "text": [
        "WARNING:sarpy.io.Adata_classes:Need precisely one parameter file *json, found: []\n"
       ]
      },
      {
       "output_type": "stream",
       "stream": "stderr",
       "text": [
        "WARNING:sarpy.io.Adata_classes:Could not load AData\n"
       ]
      },
      {
       "output_type": "stream",
       "stream": "stderr",
       "text": [
        "WARNING:sarpy.io.Adata_classes:Need precisely one parameter file *json, found: []\n"
       ]
      },
      {
       "output_type": "stream",
       "stream": "stderr",
       "text": [
        "WARNING:sarpy.io.Adata_classes:Could not load AData\n"
       ]
      },
      {
       "output_type": "stream",
       "stream": "stderr",
       "text": [
        "WARNING:sarpy.io.Adata_classes:Need precisely one parameter file *json, found: []\n"
       ]
      },
      {
       "output_type": "stream",
       "stream": "stderr",
       "text": [
        "WARNING:sarpy.io.Adata_classes:Could not load AData\n"
       ]
      },
      {
       "output_type": "stream",
       "stream": "stderr",
       "text": [
        "WARNING:sarpy.io.Adata_classes:Need precisely one parameter file *json, found: []\n"
       ]
      },
      {
       "output_type": "stream",
       "stream": "stderr",
       "text": [
        "WARNING:sarpy.io.Adata_classes:Could not load AData\n"
       ]
      },
      {
       "output_type": "stream",
       "stream": "stderr",
       "text": [
        "WARNING:sarpy.io.Adata_classes:Need precisely one parameter file *json, found: []\n"
       ]
      },
      {
       "output_type": "stream",
       "stream": "stderr",
       "text": [
        "WARNING:sarpy.io.Adata_classes:Could not load AData\n"
       ]
      },
      {
       "output_type": "stream",
       "stream": "stderr",
       "text": [
        "WARNING:sarpy.io.Adata_classes:Need precisely one parameter file *json, found: []\n"
       ]
      },
      {
       "output_type": "stream",
       "stream": "stderr",
       "text": [
        "WARNING:sarpy.io.Adata_classes:Could not load AData\n"
       ]
      },
      {
       "output_type": "stream",
       "stream": "stderr",
       "text": [
        "WARNING:sarpy.io.Adata_classes:Need precisely one parameter file *json, found: []\n"
       ]
      },
      {
       "output_type": "stream",
       "stream": "stderr",
       "text": [
        "WARNING:sarpy.io.Adata_classes:Could not load AData\n"
       ]
      },
      {
       "output_type": "stream",
       "stream": "stderr",
       "text": [
        "WARNING:sarpy.io.Adata_classes:Need precisely one parameter file *json, found: []\n"
       ]
      },
      {
       "output_type": "stream",
       "stream": "stderr",
       "text": [
        "WARNING:sarpy.io.Adata_classes:Could not load AData\n"
       ]
      },
      {
       "output_type": "stream",
       "stream": "stderr",
       "text": [
        "WARNING:sarpy.io.Adata_classes:Need precisely one parameter file *json, found: []\n"
       ]
      },
      {
       "output_type": "stream",
       "stream": "stderr",
       "text": [
        "WARNING:sarpy.io.Adata_classes:Could not load AData\n"
       ]
      },
      {
       "output_type": "stream",
       "stream": "stderr",
       "text": [
        "WARNING:sarpy.io.Adata_classes:Need precisely one parameter file *json, found: []\n"
       ]
      },
      {
       "output_type": "stream",
       "stream": "stderr",
       "text": [
        "WARNING:sarpy.io.Adata_classes:Could not load AData\n"
       ]
      },
      {
       "output_type": "stream",
       "stream": "stderr",
       "text": [
        "WARNING:sarpy.io.Adata_classes:Need precisely one parameter file *json, found: []\n"
       ]
      },
      {
       "output_type": "stream",
       "stream": "stderr",
       "text": [
        "WARNING:sarpy.io.Adata_classes:Could not load AData\n"
       ]
      },
      {
       "output_type": "stream",
       "stream": "stderr",
       "text": [
        "WARNING:sarpy.io.Adata_classes:Need precisely one parameter file *json, found: []\n"
       ]
      },
      {
       "output_type": "stream",
       "stream": "stderr",
       "text": [
        "WARNING:sarpy.io.Adata_classes:Could not load AData\n"
       ]
      },
      {
       "output_type": "stream",
       "stream": "stderr",
       "text": [
        "WARNING:sarpy.io.Adata_classes:Need precisely one parameter file *json, found: []\n"
       ]
      },
      {
       "output_type": "stream",
       "stream": "stderr",
       "text": [
        "WARNING:sarpy.io.Adata_classes:Could not load AData\n"
       ]
      },
      {
       "output_type": "stream",
       "stream": "stderr",
       "text": [
        "WARNING:sarpy.io.Adata_classes:Need precisely one parameter file *json, found: []\n"
       ]
      },
      {
       "output_type": "stream",
       "stream": "stderr",
       "text": [
        "WARNING:sarpy.io.Adata_classes:Could not load AData\n"
       ]
      },
      {
       "output_type": "stream",
       "stream": "stderr",
       "text": [
        "WARNING:sarpy.io.Adata_classes:Need precisely one parameter file *json, found: []\n"
       ]
      },
      {
       "output_type": "stream",
       "stream": "stderr",
       "text": [
        "WARNING:sarpy.io.Adata_classes:Could not load AData\n"
       ]
      },
      {
       "output_type": "stream",
       "stream": "stderr",
       "text": [
        "WARNING:sarpy.io.Adata_classes:Need precisely one parameter file *json, found: []\n"
       ]
      },
      {
       "output_type": "stream",
       "stream": "stderr",
       "text": [
        "WARNING:sarpy.io.Adata_classes:Could not load AData\n"
       ]
      },
      {
       "output_type": "stream",
       "stream": "stderr",
       "text": [
        "WARNING:sarpy.io.Adata_classes:Need precisely one parameter file *json, found: []\n"
       ]
      },
      {
       "output_type": "stream",
       "stream": "stderr",
       "text": [
        "WARNING:sarpy.io.Adata_classes:Could not load AData\n"
       ]
      },
      {
       "output_type": "stream",
       "stream": "stderr",
       "text": [
        "WARNING:sarpy.io.Adata_classes:Need precisely one parameter file *json, found: []\n"
       ]
      },
      {
       "output_type": "stream",
       "stream": "stderr",
       "text": [
        "WARNING:sarpy.io.Adata_classes:Could not load AData\n"
       ]
      },
      {
       "output_type": "stream",
       "stream": "stderr",
       "text": [
        "WARNING:sarpy.io.Adata_classes:Need precisely one parameter file *json, found: []\n"
       ]
      },
      {
       "output_type": "stream",
       "stream": "stderr",
       "text": [
        "WARNING:sarpy.io.Adata_classes:Could not load AData\n"
       ]
      },
      {
       "output_type": "stream",
       "stream": "stderr",
       "text": [
        "WARNING:sarpy.io.Adata_classes:Need precisely one parameter file *json, found: []\n"
       ]
      },
      {
       "output_type": "stream",
       "stream": "stderr",
       "text": [
        "WARNING:sarpy.io.Adata_classes:Could not load AData\n"
       ]
      },
      {
       "output_type": "stream",
       "stream": "stderr",
       "text": [
        "WARNING:sarpy.io.Adata_classes:Need precisely one parameter file *json, found: []\n"
       ]
      },
      {
       "output_type": "stream",
       "stream": "stderr",
       "text": [
        "WARNING:sarpy.io.Adata_classes:Could not load AData\n"
       ]
      },
      {
       "output_type": "stream",
       "stream": "stderr",
       "text": [
        "WARNING:sarpy.io.Adata_classes:Need precisely one parameter file *json, found: []\n"
       ]
      },
      {
       "output_type": "stream",
       "stream": "stderr",
       "text": [
        "WARNING:sarpy.io.Adata_classes:Could not load AData\n"
       ]
      },
      {
       "output_type": "stream",
       "stream": "stderr",
       "text": [
        "WARNING:sarpy.io.Adata_classes:Need precisely one parameter file *json, found: []\n"
       ]
      },
      {
       "output_type": "stream",
       "stream": "stderr",
       "text": [
        "WARNING:sarpy.io.Adata_classes:Could not load AData\n"
       ]
      },
      {
       "output_type": "stream",
       "stream": "stderr",
       "text": [
        "WARNING:sarpy.io.Adata_classes:Need precisely one parameter file *json, found: []\n"
       ]
      },
      {
       "output_type": "stream",
       "stream": "stderr",
       "text": [
        "WARNING:sarpy.io.Adata_classes:Could not load AData\n"
       ]
      },
      {
       "output_type": "stream",
       "stream": "stderr",
       "text": [
        "WARNING:sarpy.io.Adata_classes:Need precisely one parameter file *json, found: []\n"
       ]
      },
      {
       "output_type": "stream",
       "stream": "stderr",
       "text": [
        "WARNING:sarpy.io.Adata_classes:Could not load AData\n"
       ]
      },
      {
       "output_type": "stream",
       "stream": "stderr",
       "text": [
        "WARNING:sarpy.io.Adata_classes:Need precisely one parameter file *json, found: []\n"
       ]
      },
      {
       "output_type": "stream",
       "stream": "stderr",
       "text": [
        "WARNING:sarpy.io.Adata_classes:Could not load AData\n"
       ]
      },
      {
       "output_type": "stream",
       "stream": "stderr",
       "text": [
        "WARNING:sarpy.io.Adata_classes:Need precisely one parameter file *json, found: []\n"
       ]
      },
      {
       "output_type": "stream",
       "stream": "stderr",
       "text": [
        "WARNING:sarpy.io.Adata_classes:Could not load AData\n"
       ]
      },
      {
       "output_type": "stream",
       "stream": "stderr",
       "text": [
        "WARNING:sarpy.io.Adata_classes:Need precisely one parameter file *json, found: []\n"
       ]
      },
      {
       "output_type": "stream",
       "stream": "stderr",
       "text": [
        "WARNING:sarpy.io.Adata_classes:Could not load AData\n"
       ]
      },
      {
       "output_type": "stream",
       "stream": "stderr",
       "text": [
        "WARNING:sarpy.io.Adata_classes:Need precisely one parameter file *json, found: []\n"
       ]
      },
      {
       "output_type": "stream",
       "stream": "stderr",
       "text": [
        "WARNING:sarpy.io.Adata_classes:Could not load AData\n"
       ]
      },
      {
       "output_type": "stream",
       "stream": "stderr",
       "text": [
        "WARNING:sarpy.io.Adata_classes:Need precisely one parameter file *json, found: []\n"
       ]
      },
      {
       "output_type": "stream",
       "stream": "stderr",
       "text": [
        "WARNING:sarpy.io.Adata_classes:Could not load AData\n"
       ]
      },
      {
       "output_type": "stream",
       "stream": "stderr",
       "text": [
        "WARNING:sarpy.io.Adata_classes:Need precisely one parameter file *json, found: []\n"
       ]
      },
      {
       "output_type": "stream",
       "stream": "stderr",
       "text": [
        "WARNING:sarpy.io.Adata_classes:Could not load AData\n"
       ]
      },
      {
       "output_type": "stream",
       "stream": "stderr",
       "text": [
        "WARNING:sarpy.io.Adata_classes:Need precisely one parameter file *json, found: []\n"
       ]
      },
      {
       "output_type": "stream",
       "stream": "stderr",
       "text": [
        "WARNING:sarpy.io.Adata_classes:Could not load AData\n"
       ]
      },
      {
       "output_type": "stream",
       "stream": "stderr",
       "text": [
        "WARNING:sarpy.io.Adata_classes:Need precisely one parameter file *json, found: []\n"
       ]
      },
      {
       "output_type": "stream",
       "stream": "stderr",
       "text": [
        "WARNING:sarpy.io.Adata_classes:Could not load AData\n"
       ]
      },
      {
       "output_type": "stream",
       "stream": "stderr",
       "text": [
        "WARNING:sarpy.io.Adata_classes:Need precisely one parameter file *json, found: []\n"
       ]
      },
      {
       "output_type": "stream",
       "stream": "stderr",
       "text": [
        "WARNING:sarpy.io.Adata_classes:Could not load AData\n"
       ]
      },
      {
       "output_type": "stream",
       "stream": "stderr",
       "text": [
        "WARNING:sarpy.io.Adata_classes:Need precisely one parameter file *json, found: []\n"
       ]
      },
      {
       "output_type": "stream",
       "stream": "stderr",
       "text": [
        "WARNING:sarpy.io.Adata_classes:Could not load AData\n"
       ]
      },
      {
       "output_type": "stream",
       "stream": "stderr",
       "text": [
        "WARNING:sarpy.io.Adata_classes:Need precisely one parameter file *json, found: []\n"
       ]
      },
      {
       "output_type": "stream",
       "stream": "stderr",
       "text": [
        "WARNING:sarpy.io.Adata_classes:Could not load AData\n"
       ]
      },
      {
       "output_type": "stream",
       "stream": "stderr",
       "text": [
        "WARNING:sarpy.io.Adata_classes:Need precisely one parameter file *json, found: []\n"
       ]
      },
      {
       "output_type": "stream",
       "stream": "stderr",
       "text": [
        "WARNING:sarpy.io.Adata_classes:Could not load AData\n"
       ]
      },
      {
       "output_type": "stream",
       "stream": "stderr",
       "text": [
        "WARNING:sarpy.io.Adata_classes:Need precisely one parameter file *json, found: []\n"
       ]
      },
      {
       "output_type": "stream",
       "stream": "stderr",
       "text": [
        "WARNING:sarpy.io.Adata_classes:Could not load AData\n"
       ]
      },
      {
       "output_type": "stream",
       "stream": "stderr",
       "text": [
        "WARNING:sarpy.io.Adata_classes:Need precisely one parameter file *json, found: []\n"
       ]
      },
      {
       "output_type": "stream",
       "stream": "stderr",
       "text": [
        "WARNING:sarpy.io.Adata_classes:Could not load AData\n"
       ]
      },
      {
       "output_type": "stream",
       "stream": "stderr",
       "text": [
        "WARNING:sarpy.io.Adata_classes:Need precisely one parameter file *json, found: []\n"
       ]
      },
      {
       "output_type": "stream",
       "stream": "stderr",
       "text": [
        "WARNING:sarpy.io.Adata_classes:Could not load AData\n"
       ]
      },
      {
       "output_type": "stream",
       "stream": "stderr",
       "text": [
        "WARNING:sarpy.io.Adata_classes:Need precisely one parameter file *json, found: []\n"
       ]
      },
      {
       "output_type": "stream",
       "stream": "stderr",
       "text": [
        "WARNING:sarpy.io.Adata_classes:Could not load AData\n"
       ]
      },
      {
       "output_type": "stream",
       "stream": "stderr",
       "text": [
        "WARNING:sarpy.io.Adata_classes:Need precisely one parameter file *json, found: []\n"
       ]
      },
      {
       "output_type": "stream",
       "stream": "stderr",
       "text": [
        "WARNING:sarpy.io.Adata_classes:Could not load AData\n"
       ]
      },
      {
       "output_type": "stream",
       "stream": "stderr",
       "text": [
        "WARNING:sarpy.io.Adata_classes:Need precisely one parameter file *json, found: []\n"
       ]
      },
      {
       "output_type": "stream",
       "stream": "stderr",
       "text": [
        "WARNING:sarpy.io.Adata_classes:Could not load AData\n"
       ]
      },
      {
       "output_type": "stream",
       "stream": "stderr",
       "text": [
        "WARNING:sarpy.io.Adata_classes:Need precisely one parameter file *json, found: []\n"
       ]
      },
      {
       "output_type": "stream",
       "stream": "stderr",
       "text": [
        "WARNING:sarpy.io.Adata_classes:Could not load AData\n"
       ]
      },
      {
       "output_type": "stream",
       "stream": "stderr",
       "text": [
        "WARNING:sarpy.io.Adata_classes:Need precisely one parameter file *json, found: []\n"
       ]
      },
      {
       "output_type": "stream",
       "stream": "stderr",
       "text": [
        "WARNING:sarpy.io.Adata_classes:Could not load AData\n"
       ]
      },
      {
       "output_type": "stream",
       "stream": "stderr",
       "text": [
        "WARNING:sarpy.io.Adata_classes:Need precisely one parameter file *json, found: []\n"
       ]
      },
      {
       "output_type": "stream",
       "stream": "stderr",
       "text": [
        "WARNING:sarpy.io.Adata_classes:Could not load AData\n"
       ]
      },
      {
       "output_type": "stream",
       "stream": "stderr",
       "text": [
        "WARNING:sarpy.io.Adata_classes:Need precisely one parameter file *json, found: []\n"
       ]
      },
      {
       "output_type": "stream",
       "stream": "stderr",
       "text": [
        "WARNING:sarpy.io.Adata_classes:Could not load AData\n"
       ]
      },
      {
       "output_type": "stream",
       "stream": "stderr",
       "text": [
        "WARNING:sarpy.io.Adata_classes:Need precisely one parameter file *json, found: []\n"
       ]
      },
      {
       "output_type": "stream",
       "stream": "stderr",
       "text": [
        "WARNING:sarpy.io.Adata_classes:Could not load AData\n"
       ]
      },
      {
       "output_type": "stream",
       "stream": "stderr",
       "text": [
        "WARNING:sarpy.io.Adata_classes:Need precisely one parameter file *json, found: []\n"
       ]
      },
      {
       "output_type": "stream",
       "stream": "stderr",
       "text": [
        "WARNING:sarpy.io.Adata_classes:Could not load AData\n"
       ]
      },
      {
       "output_type": "stream",
       "stream": "stderr",
       "text": [
        "WARNING:sarpy.io.Adata_classes:Need precisely one parameter file *json, found: []\n"
       ]
      },
      {
       "output_type": "stream",
       "stream": "stderr",
       "text": [
        "WARNING:sarpy.io.Adata_classes:Could not load AData\n"
       ]
      },
      {
       "output_type": "stream",
       "stream": "stderr",
       "text": [
        "WARNING:sarpy.io.Adata_classes:Need precisely one parameter file *json, found: []\n"
       ]
      },
      {
       "output_type": "stream",
       "stream": "stderr",
       "text": [
        "WARNING:sarpy.io.Adata_classes:Could not load AData\n"
       ]
      },
      {
       "output_type": "stream",
       "stream": "stderr",
       "text": [
        "WARNING:sarpy.io.Adata_classes:Need precisely one parameter file *json, found: []\n"
       ]
      },
      {
       "output_type": "stream",
       "stream": "stderr",
       "text": [
        "WARNING:sarpy.io.Adata_classes:Could not load AData\n"
       ]
      },
      {
       "output_type": "stream",
       "stream": "stderr",
       "text": [
        "WARNING:sarpy.io.Adata_classes:Need precisely one parameter file *json, found: []\n"
       ]
      },
      {
       "output_type": "stream",
       "stream": "stderr",
       "text": [
        "WARNING:sarpy.io.Adata_classes:Could not load AData\n"
       ]
      },
      {
       "output_type": "stream",
       "stream": "stderr",
       "text": [
        "WARNING:sarpy.io.Adata_classes:Need precisely one parameter file *json, found: []\n"
       ]
      },
      {
       "output_type": "stream",
       "stream": "stderr",
       "text": [
        "WARNING:sarpy.io.Adata_classes:Could not load AData\n"
       ]
      },
      {
       "output_type": "stream",
       "stream": "stderr",
       "text": [
        "WARNING:sarpy.io.Adata_classes:Need precisely one parameter file *json, found: []\n"
       ]
      },
      {
       "output_type": "stream",
       "stream": "stderr",
       "text": [
        "WARNING:sarpy.io.Adata_classes:Could not load AData\n"
       ]
      },
      {
       "output_type": "stream",
       "stream": "stderr",
       "text": [
        "WARNING:sarpy.io.Adata_classes:Need precisely one parameter file *json, found: []\n"
       ]
      },
      {
       "output_type": "stream",
       "stream": "stderr",
       "text": [
        "WARNING:sarpy.io.Adata_classes:Could not load AData\n"
       ]
      },
      {
       "output_type": "stream",
       "stream": "stderr",
       "text": [
        "WARNING:sarpy.io.Adata_classes:Need precisely one parameter file *json, found: []\n"
       ]
      },
      {
       "output_type": "stream",
       "stream": "stderr",
       "text": [
        "WARNING:sarpy.io.Adata_classes:Could not load AData\n"
       ]
      },
      {
       "output_type": "stream",
       "stream": "stderr",
       "text": [
        "WARNING:sarpy.io.Adata_classes:Need precisely one parameter file *json, found: []\n"
       ]
      },
      {
       "output_type": "stream",
       "stream": "stderr",
       "text": [
        "WARNING:sarpy.io.Adata_classes:Could not load AData\n"
       ]
      },
      {
       "output_type": "stream",
       "stream": "stderr",
       "text": [
        "WARNING:sarpy.io.Adata_classes:Need precisely one parameter file *json, found: []\n"
       ]
      },
      {
       "output_type": "stream",
       "stream": "stderr",
       "text": [
        "WARNING:sarpy.io.Adata_classes:Could not load AData\n"
       ]
      },
      {
       "output_type": "stream",
       "stream": "stderr",
       "text": [
        "WARNING:sarpy.io.Adata_classes:Need precisely one parameter file *json, found: []\n"
       ]
      },
      {
       "output_type": "stream",
       "stream": "stderr",
       "text": [
        "WARNING:sarpy.io.Adata_classes:Could not load AData\n"
       ]
      },
      {
       "output_type": "stream",
       "stream": "stderr",
       "text": [
        "WARNING:sarpy.io.Adata_classes:Need precisely one parameter file *json, found: []\n"
       ]
      },
      {
       "output_type": "stream",
       "stream": "stderr",
       "text": [
        "WARNING:sarpy.io.Adata_classes:Could not load AData\n"
       ]
      },
      {
       "output_type": "stream",
       "stream": "stderr",
       "text": [
        "WARNING:sarpy.io.Adata_classes:Need precisely one parameter file *json, found: []\n"
       ]
      },
      {
       "output_type": "stream",
       "stream": "stderr",
       "text": [
        "WARNING:sarpy.io.Adata_classes:Could not load AData\n"
       ]
      },
      {
       "output_type": "stream",
       "stream": "stderr",
       "text": [
        "WARNING:sarpy.io.Adata_classes:Need precisely one parameter file *json, found: []\n"
       ]
      },
      {
       "output_type": "stream",
       "stream": "stderr",
       "text": [
        "WARNING:sarpy.io.Adata_classes:Could not load AData\n"
       ]
      },
      {
       "output_type": "stream",
       "stream": "stderr",
       "text": [
        "WARNING:sarpy.io.Adata_classes:Need precisely one parameter file *json, found: []\n"
       ]
      },
      {
       "output_type": "stream",
       "stream": "stderr",
       "text": [
        "WARNING:sarpy.io.Adata_classes:Could not load AData\n"
       ]
      },
      {
       "output_type": "stream",
       "stream": "stderr",
       "text": [
        "WARNING:sarpy.io.Adata_classes:Need precisely one parameter file *json, found: []\n"
       ]
      },
      {
       "output_type": "stream",
       "stream": "stderr",
       "text": [
        "WARNING:sarpy.io.Adata_classes:Could not load AData\n"
       ]
      },
      {
       "output_type": "stream",
       "stream": "stderr",
       "text": [
        "WARNING:sarpy.io.Adata_classes:Need precisely one parameter file *json, found: []\n"
       ]
      },
      {
       "output_type": "stream",
       "stream": "stderr",
       "text": [
        "WARNING:sarpy.io.Adata_classes:Could not load AData\n"
       ]
      },
      {
       "output_type": "stream",
       "stream": "stderr",
       "text": [
        "WARNING:sarpy.io.Adata_classes:Need precisely one parameter file *json, found: []\n"
       ]
      },
      {
       "output_type": "stream",
       "stream": "stderr",
       "text": [
        "WARNING:sarpy.io.Adata_classes:Could not load AData\n"
       ]
      },
      {
       "output_type": "stream",
       "stream": "stderr",
       "text": [
        "WARNING:sarpy.io.Adata_classes:Need precisely one parameter file *json, found: []\n"
       ]
      },
      {
       "output_type": "stream",
       "stream": "stderr",
       "text": [
        "WARNING:sarpy.io.Adata_classes:Could not load AData\n"
       ]
      },
      {
       "output_type": "stream",
       "stream": "stderr",
       "text": [
        "WARNING:sarpy.io.Adata_classes:Need precisely one parameter file *json, found: []\n"
       ]
      },
      {
       "output_type": "stream",
       "stream": "stderr",
       "text": [
        "WARNING:sarpy.io.Adata_classes:Could not load AData\n"
       ]
      },
      {
       "output_type": "stream",
       "stream": "stderr",
       "text": [
        "WARNING:sarpy.io.Adata_classes:Need precisely one parameter file *json, found: []\n"
       ]
      },
      {
       "output_type": "stream",
       "stream": "stderr",
       "text": [
        "WARNING:sarpy.io.Adata_classes:Could not load AData\n"
       ]
      },
      {
       "output_type": "stream",
       "stream": "stderr",
       "text": [
        "WARNING:sarpy.io.Adata_classes:Need precisely one parameter file *json, found: []\n"
       ]
      },
      {
       "output_type": "stream",
       "stream": "stderr",
       "text": [
        "WARNING:sarpy.io.Adata_classes:Could not load AData\n"
       ]
      },
      {
       "output_type": "stream",
       "stream": "stderr",
       "text": [
        "WARNING:sarpy.io.Adata_classes:Need precisely one parameter file *json, found: []\n"
       ]
      },
      {
       "output_type": "stream",
       "stream": "stderr",
       "text": [
        "WARNING:sarpy.io.Adata_classes:Could not load AData\n"
       ]
      },
      {
       "output_type": "stream",
       "stream": "stderr",
       "text": [
        "WARNING:sarpy.io.Adata_classes:Need precisely one parameter file *json, found: []\n"
       ]
      },
      {
       "output_type": "stream",
       "stream": "stderr",
       "text": [
        "WARNING:sarpy.io.Adata_classes:Could not load AData\n"
       ]
      },
      {
       "output_type": "stream",
       "stream": "stderr",
       "text": [
        "WARNING:sarpy.io.Adata_classes:Need precisely one parameter file *json, found: []\n"
       ]
      },
      {
       "output_type": "stream",
       "stream": "stderr",
       "text": [
        "WARNING:sarpy.io.Adata_classes:Could not load AData\n"
       ]
      },
      {
       "output_type": "stream",
       "stream": "stderr",
       "text": [
        "WARNING:sarpy.io.Adata_classes:Need precisely one parameter file *json, found: []\n"
       ]
      },
      {
       "output_type": "stream",
       "stream": "stderr",
       "text": [
        "WARNING:sarpy.io.Adata_classes:Could not load AData\n"
       ]
      },
      {
       "output_type": "stream",
       "stream": "stderr",
       "text": [
        "WARNING:sarpy.io.Adata_classes:Need precisely one parameter file *json, found: []\n"
       ]
      },
      {
       "output_type": "stream",
       "stream": "stderr",
       "text": [
        "WARNING:sarpy.io.Adata_classes:Could not load AData\n"
       ]
      },
      {
       "output_type": "stream",
       "stream": "stderr",
       "text": [
        "WARNING:sarpy.io.Adata_classes:Need precisely one parameter file *json, found: []\n"
       ]
      },
      {
       "output_type": "stream",
       "stream": "stderr",
       "text": [
        "WARNING:sarpy.io.Adata_classes:Could not load AData\n"
       ]
      },
      {
       "output_type": "stream",
       "stream": "stderr",
       "text": [
        "WARNING:sarpy.io.Adata_classes:Need precisely one parameter file *json, found: []\n"
       ]
      },
      {
       "output_type": "stream",
       "stream": "stderr",
       "text": [
        "WARNING:sarpy.io.Adata_classes:Could not load AData\n"
       ]
      },
      {
       "output_type": "stream",
       "stream": "stderr",
       "text": [
        "WARNING:sarpy.io.Adata_classes:Need precisely one parameter file *json, found: []\n"
       ]
      },
      {
       "output_type": "stream",
       "stream": "stderr",
       "text": [
        "WARNING:sarpy.io.Adata_classes:Could not load AData\n"
       ]
      },
      {
       "output_type": "stream",
       "stream": "stderr",
       "text": [
        "WARNING:sarpy.io.Adata_classes:Need precisely one parameter file *json, found: []\n"
       ]
      },
      {
       "output_type": "stream",
       "stream": "stderr",
       "text": [
        "WARNING:sarpy.io.Adata_classes:Could not load AData\n"
       ]
      },
      {
       "output_type": "stream",
       "stream": "stderr",
       "text": [
        "WARNING:sarpy.io.Adata_classes:Need precisely one parameter file *json, found: []\n"
       ]
      },
      {
       "output_type": "stream",
       "stream": "stderr",
       "text": [
        "WARNING:sarpy.io.Adata_classes:Could not load AData\n"
       ]
      },
      {
       "output_type": "stream",
       "stream": "stderr",
       "text": [
        "WARNING:sarpy.io.Adata_classes:Need precisely one parameter file *json, found: []\n"
       ]
      },
      {
       "output_type": "stream",
       "stream": "stderr",
       "text": [
        "WARNING:sarpy.io.Adata_classes:Could not load AData\n"
       ]
      },
      {
       "output_type": "stream",
       "stream": "stderr",
       "text": [
        "WARNING:sarpy.io.Adata_classes:Need precisely one parameter file *json, found: []\n"
       ]
      },
      {
       "output_type": "stream",
       "stream": "stderr",
       "text": [
        "WARNING:sarpy.io.Adata_classes:Could not load AData\n"
       ]
      },
      {
       "output_type": "stream",
       "stream": "stderr",
       "text": [
        "WARNING:sarpy.io.Adata_classes:Need precisely one parameter file *json, found: []\n"
       ]
      },
      {
       "output_type": "stream",
       "stream": "stderr",
       "text": [
        "WARNING:sarpy.io.Adata_classes:Could not load AData\n"
       ]
      },
      {
       "output_type": "stream",
       "stream": "stderr",
       "text": [
        "WARNING:sarpy.io.Adata_classes:Need precisely one parameter file *json, found: []\n"
       ]
      },
      {
       "output_type": "stream",
       "stream": "stderr",
       "text": [
        "WARNING:sarpy.io.Adata_classes:Could not load AData\n"
       ]
      },
      {
       "output_type": "stream",
       "stream": "stderr",
       "text": [
        "WARNING:sarpy.io.Adata_classes:Need precisely one parameter file *json, found: []\n"
       ]
      },
      {
       "output_type": "stream",
       "stream": "stderr",
       "text": [
        "WARNING:sarpy.io.Adata_classes:Could not load AData\n"
       ]
      },
      {
       "output_type": "stream",
       "stream": "stderr",
       "text": [
        "WARNING:sarpy.io.Adata_classes:Need precisely one parameter file *json, found: []\n"
       ]
      },
      {
       "output_type": "stream",
       "stream": "stderr",
       "text": [
        "WARNING:sarpy.io.Adata_classes:Could not load AData\n"
       ]
      },
      {
       "output_type": "stream",
       "stream": "stderr",
       "text": [
        "WARNING:sarpy.io.Adata_classes:Need precisely one parameter file *json, found: []\n"
       ]
      },
      {
       "output_type": "stream",
       "stream": "stderr",
       "text": [
        "WARNING:sarpy.io.Adata_classes:Could not load AData\n"
       ]
      },
      {
       "output_type": "stream",
       "stream": "stderr",
       "text": [
        "WARNING:sarpy.io.Adata_classes:Need precisely one parameter file *json, found: []\n"
       ]
      },
      {
       "output_type": "stream",
       "stream": "stderr",
       "text": [
        "WARNING:sarpy.io.Adata_classes:Could not load AData\n"
       ]
      },
      {
       "output_type": "stream",
       "stream": "stderr",
       "text": [
        "WARNING:sarpy.io.Adata_classes:Need precisely one parameter file *json, found: []\n"
       ]
      },
      {
       "output_type": "stream",
       "stream": "stderr",
       "text": [
        "WARNING:sarpy.io.Adata_classes:Could not load AData\n"
       ]
      },
      {
       "output_type": "stream",
       "stream": "stderr",
       "text": [
        "WARNING:sarpy.io.Adata_classes:Need precisely one parameter file *json, found: []\n"
       ]
      },
      {
       "output_type": "stream",
       "stream": "stderr",
       "text": [
        "WARNING:sarpy.io.Adata_classes:Could not load AData\n"
       ]
      },
      {
       "output_type": "stream",
       "stream": "stderr",
       "text": [
        "WARNING:sarpy.io.Adata_classes:Need precisely one parameter file *json, found: []\n"
       ]
      },
      {
       "output_type": "stream",
       "stream": "stderr",
       "text": [
        "WARNING:sarpy.io.Adata_classes:Could not load AData\n"
       ]
      },
      {
       "output_type": "stream",
       "stream": "stderr",
       "text": [
        "WARNING:sarpy.io.Adata_classes:Need precisely one parameter file *json, found: []\n"
       ]
      },
      {
       "output_type": "stream",
       "stream": "stderr",
       "text": [
        "WARNING:sarpy.io.Adata_classes:Could not load AData\n"
       ]
      },
      {
       "output_type": "stream",
       "stream": "stderr",
       "text": [
        "WARNING:sarpy.io.Adata_classes:Need precisely one parameter file *json, found: []\n"
       ]
      },
      {
       "output_type": "stream",
       "stream": "stderr",
       "text": [
        "WARNING:sarpy.io.Adata_classes:Could not load AData\n"
       ]
      },
      {
       "output_type": "stream",
       "stream": "stderr",
       "text": [
        "WARNING:sarpy.io.Adata_classes:Need precisely one parameter file *json, found: []\n"
       ]
      },
      {
       "output_type": "stream",
       "stream": "stderr",
       "text": [
        "WARNING:sarpy.io.Adata_classes:Could not load AData\n"
       ]
      },
      {
       "output_type": "stream",
       "stream": "stderr",
       "text": [
        "WARNING:sarpy.io.Adata_classes:Need precisely one parameter file *json, found: []\n"
       ]
      },
      {
       "output_type": "stream",
       "stream": "stderr",
       "text": [
        "WARNING:sarpy.io.Adata_classes:Could not load AData\n"
       ]
      },
      {
       "output_type": "stream",
       "stream": "stderr",
       "text": [
        "WARNING:sarpy.io.Adata_classes:Need precisely one parameter file *json, found: []\n"
       ]
      },
      {
       "output_type": "stream",
       "stream": "stderr",
       "text": [
        "WARNING:sarpy.io.Adata_classes:Could not load AData\n"
       ]
      },
      {
       "output_type": "stream",
       "stream": "stderr",
       "text": [
        "WARNING:sarpy.io.Adata_classes:Need precisely one parameter file *json, found: []\n"
       ]
      },
      {
       "output_type": "stream",
       "stream": "stderr",
       "text": [
        "WARNING:sarpy.io.Adata_classes:Could not load AData\n"
       ]
      },
      {
       "output_type": "stream",
       "stream": "stderr",
       "text": [
        "WARNING:sarpy.io.Adata_classes:Need precisely one parameter file *json, found: []\n"
       ]
      },
      {
       "output_type": "stream",
       "stream": "stderr",
       "text": [
        "WARNING:sarpy.io.Adata_classes:Could not load AData\n"
       ]
      },
      {
       "output_type": "stream",
       "stream": "stderr",
       "text": [
        "WARNING:sarpy.io.Adata_classes:Need precisely one parameter file *json, found: []\n"
       ]
      },
      {
       "output_type": "stream",
       "stream": "stderr",
       "text": [
        "WARNING:sarpy.io.Adata_classes:Could not load AData\n"
       ]
      },
      {
       "output_type": "stream",
       "stream": "stderr",
       "text": [
        "WARNING:sarpy.io.Adata_classes:Need precisely one parameter file *json, found: []\n"
       ]
      },
      {
       "output_type": "stream",
       "stream": "stderr",
       "text": [
        "WARNING:sarpy.io.Adata_classes:Could not load AData\n"
       ]
      },
      {
       "output_type": "stream",
       "stream": "stderr",
       "text": [
        "WARNING:sarpy.io.Adata_classes:Need precisely one parameter file *json, found: []\n"
       ]
      },
      {
       "output_type": "stream",
       "stream": "stderr",
       "text": [
        "WARNING:sarpy.io.Adata_classes:Could not load AData\n"
       ]
      },
      {
       "output_type": "stream",
       "stream": "stderr",
       "text": [
        "WARNING:sarpy.io.Adata_classes:Need precisely one parameter file *json, found: []\n"
       ]
      },
      {
       "output_type": "stream",
       "stream": "stderr",
       "text": [
        "WARNING:sarpy.io.Adata_classes:Could not load AData\n"
       ]
      },
      {
       "output_type": "stream",
       "stream": "stderr",
       "text": [
        "WARNING:sarpy.io.Adata_classes:Need precisely one parameter file *json, found: []\n"
       ]
      },
      {
       "output_type": "stream",
       "stream": "stderr",
       "text": [
        "WARNING:sarpy.io.Adata_classes:Could not load AData\n"
       ]
      },
      {
       "output_type": "stream",
       "stream": "stderr",
       "text": [
        "WARNING:sarpy.io.Adata_classes:Need precisely one parameter file *json, found: []\n"
       ]
      },
      {
       "output_type": "stream",
       "stream": "stderr",
       "text": [
        "WARNING:sarpy.io.Adata_classes:Could not load AData\n"
       ]
      },
      {
       "output_type": "stream",
       "stream": "stderr",
       "text": [
        "WARNING:sarpy.io.Adata_classes:Need precisely one parameter file *json, found: []\n"
       ]
      },
      {
       "output_type": "stream",
       "stream": "stderr",
       "text": [
        "WARNING:sarpy.io.Adata_classes:Could not load AData\n"
       ]
      },
      {
       "output_type": "stream",
       "stream": "stderr",
       "text": [
        "WARNING:sarpy.io.Adata_classes:Need precisely one parameter file *json, found: []\n"
       ]
      },
      {
       "output_type": "stream",
       "stream": "stderr",
       "text": [
        "WARNING:sarpy.io.Adata_classes:Could not load AData\n"
       ]
      },
      {
       "output_type": "stream",
       "stream": "stderr",
       "text": [
        "WARNING:sarpy.io.Adata_classes:Need precisely one parameter file *json, found: []\n"
       ]
      },
      {
       "output_type": "stream",
       "stream": "stderr",
       "text": [
        "WARNING:sarpy.io.Adata_classes:Could not load AData\n"
       ]
      },
      {
       "output_type": "stream",
       "stream": "stderr",
       "text": [
        "WARNING:sarpy.io.Adata_classes:Need precisely one parameter file *json, found: []\n"
       ]
      },
      {
       "output_type": "stream",
       "stream": "stderr",
       "text": [
        "WARNING:sarpy.io.Adata_classes:Could not load AData\n"
       ]
      },
      {
       "output_type": "stream",
       "stream": "stderr",
       "text": [
        "WARNING:sarpy.io.Adata_classes:Need precisely one parameter file *json, found: []\n"
       ]
      },
      {
       "output_type": "stream",
       "stream": "stderr",
       "text": [
        "WARNING:sarpy.io.Adata_classes:Could not load AData\n"
       ]
      },
      {
       "output_type": "stream",
       "stream": "stderr",
       "text": [
        "WARNING:sarpy.io.Adata_classes:Need precisely one parameter file *json, found: []\n"
       ]
      },
      {
       "output_type": "stream",
       "stream": "stderr",
       "text": [
        "WARNING:sarpy.io.Adata_classes:Could not load AData\n"
       ]
      },
      {
       "output_type": "stream",
       "stream": "stderr",
       "text": [
        "WARNING:sarpy.io.Adata_classes:Need precisely one parameter file *json, found: []\n"
       ]
      },
      {
       "output_type": "stream",
       "stream": "stderr",
       "text": [
        "WARNING:sarpy.io.Adata_classes:Could not load AData\n"
       ]
      },
      {
       "output_type": "stream",
       "stream": "stderr",
       "text": [
        "WARNING:sarpy.io.Adata_classes:Need precisely one parameter file *json, found: []\n"
       ]
      },
      {
       "output_type": "stream",
       "stream": "stderr",
       "text": [
        "WARNING:sarpy.io.Adata_classes:Could not load AData\n"
       ]
      },
      {
       "output_type": "stream",
       "stream": "stderr",
       "text": [
        "WARNING:sarpy.io.Adata_classes:Need precisely one parameter file *json, found: []\n"
       ]
      },
      {
       "output_type": "stream",
       "stream": "stderr",
       "text": [
        "WARNING:sarpy.io.Adata_classes:Could not load AData\n"
       ]
      },
      {
       "output_type": "stream",
       "stream": "stderr",
       "text": [
        "WARNING:sarpy.io.Adata_classes:Need precisely one parameter file *json, found: []\n"
       ]
      },
      {
       "output_type": "stream",
       "stream": "stderr",
       "text": [
        "WARNING:sarpy.io.Adata_classes:Could not load AData\n"
       ]
      },
      {
       "output_type": "stream",
       "stream": "stderr",
       "text": [
        "WARNING:sarpy.io.Adata_classes:Need precisely one parameter file *json, found: []\n"
       ]
      },
      {
       "output_type": "stream",
       "stream": "stderr",
       "text": [
        "WARNING:sarpy.io.Adata_classes:Could not load AData\n"
       ]
      },
      {
       "output_type": "stream",
       "stream": "stderr",
       "text": [
        "WARNING:sarpy.io.Adata_classes:Need precisely one parameter file *json, found: []\n"
       ]
      },
      {
       "output_type": "stream",
       "stream": "stderr",
       "text": [
        "WARNING:sarpy.io.Adata_classes:Could not load AData\n"
       ]
      },
      {
       "output_type": "stream",
       "stream": "stderr",
       "text": [
        "WARNING:sarpy.io.Adata_classes:Need precisely one parameter file *json, found: []\n"
       ]
      },
      {
       "output_type": "stream",
       "stream": "stderr",
       "text": [
        "WARNING:sarpy.io.Adata_classes:Could not load AData\n"
       ]
      },
      {
       "output_type": "stream",
       "stream": "stderr",
       "text": [
        "WARNING:sarpy.io.Adata_classes:Need precisely one parameter file *json, found: []\n"
       ]
      },
      {
       "output_type": "stream",
       "stream": "stderr",
       "text": [
        "WARNING:sarpy.io.Adata_classes:Could not load AData\n"
       ]
      },
      {
       "output_type": "stream",
       "stream": "stderr",
       "text": [
        "WARNING:sarpy.io.Adata_classes:Need precisely one parameter file *json, found: []\n"
       ]
      },
      {
       "output_type": "stream",
       "stream": "stderr",
       "text": [
        "WARNING:sarpy.io.Adata_classes:Could not load AData\n"
       ]
      },
      {
       "output_type": "stream",
       "stream": "stderr",
       "text": [
        "WARNING:sarpy.io.Adata_classes:Need precisely one parameter file *json, found: []\n"
       ]
      },
      {
       "output_type": "stream",
       "stream": "stderr",
       "text": [
        "WARNING:sarpy.io.Adata_classes:Could not load AData\n"
       ]
      },
      {
       "output_type": "stream",
       "stream": "stderr",
       "text": [
        "WARNING:sarpy.io.Adata_classes:Need precisely one parameter file *json, found: []\n"
       ]
      },
      {
       "output_type": "stream",
       "stream": "stderr",
       "text": [
        "WARNING:sarpy.io.Adata_classes:Could not load AData\n"
       ]
      },
      {
       "output_type": "stream",
       "stream": "stderr",
       "text": [
        "WARNING:sarpy.io.Adata_classes:Need precisely one parameter file *json, found: []\n"
       ]
      },
      {
       "output_type": "stream",
       "stream": "stderr",
       "text": [
        "WARNING:sarpy.io.Adata_classes:Could not load AData\n"
       ]
      },
      {
       "output_type": "stream",
       "stream": "stderr",
       "text": [
        "WARNING:sarpy.io.Adata_classes:Need precisely one parameter file *json, found: []\n"
       ]
      },
      {
       "output_type": "stream",
       "stream": "stderr",
       "text": [
        "WARNING:sarpy.io.Adata_classes:Could not load AData\n"
       ]
      },
      {
       "output_type": "stream",
       "stream": "stderr",
       "text": [
        "WARNING:sarpy.io.Adata_classes:Need precisely one parameter file *json, found: []\n"
       ]
      },
      {
       "output_type": "stream",
       "stream": "stderr",
       "text": [
        "WARNING:sarpy.io.Adata_classes:Could not load AData\n"
       ]
      },
      {
       "output_type": "stream",
       "stream": "stderr",
       "text": [
        "WARNING:sarpy.io.Adata_classes:Need precisely one parameter file *json, found: []\n"
       ]
      },
      {
       "output_type": "stream",
       "stream": "stderr",
       "text": [
        "WARNING:sarpy.io.Adata_classes:Could not load AData\n"
       ]
      },
      {
       "output_type": "stream",
       "stream": "stderr",
       "text": [
        "WARNING:sarpy.io.Adata_classes:Need precisely one parameter file *json, found: []\n"
       ]
      },
      {
       "output_type": "stream",
       "stream": "stderr",
       "text": [
        "WARNING:sarpy.io.Adata_classes:Could not load AData\n"
       ]
      },
      {
       "output_type": "stream",
       "stream": "stderr",
       "text": [
        "WARNING:sarpy.io.Adata_classes:Need precisely one parameter file *json, found: []\n"
       ]
      },
      {
       "output_type": "stream",
       "stream": "stderr",
       "text": [
        "WARNING:sarpy.io.Adata_classes:Could not load AData\n"
       ]
      },
      {
       "output_type": "stream",
       "stream": "stderr",
       "text": [
        "WARNING:sarpy.io.Adata_classes:Need precisely one parameter file *json, found: []\n"
       ]
      },
      {
       "output_type": "stream",
       "stream": "stderr",
       "text": [
        "WARNING:sarpy.io.Adata_classes:Could not load AData\n"
       ]
      },
      {
       "output_type": "stream",
       "stream": "stderr",
       "text": [
        "WARNING:sarpy.io.Adata_classes:Need precisely one parameter file *json, found: []\n"
       ]
      },
      {
       "output_type": "stream",
       "stream": "stderr",
       "text": [
        "WARNING:sarpy.io.Adata_classes:Could not load AData\n"
       ]
      },
      {
       "output_type": "stream",
       "stream": "stderr",
       "text": [
        "WARNING:sarpy.io.Adata_classes:Need precisely one parameter file *json, found: []\n"
       ]
      },
      {
       "output_type": "stream",
       "stream": "stderr",
       "text": [
        "WARNING:sarpy.io.Adata_classes:Could not load AData\n"
       ]
      },
      {
       "output_type": "stream",
       "stream": "stderr",
       "text": [
        "WARNING:sarpy.io.Adata_classes:Need precisely one parameter file *json, found: []\n"
       ]
      },
      {
       "output_type": "stream",
       "stream": "stderr",
       "text": [
        "WARNING:sarpy.io.Adata_classes:Could not load AData\n"
       ]
      },
      {
       "output_type": "stream",
       "stream": "stderr",
       "text": [
        "WARNING:sarpy.io.Adata_classes:Need precisely one parameter file *json, found: []\n"
       ]
      },
      {
       "output_type": "stream",
       "stream": "stderr",
       "text": [
        "WARNING:sarpy.io.Adata_classes:Could not load AData\n"
       ]
      },
      {
       "output_type": "stream",
       "stream": "stderr",
       "text": [
        "WARNING:sarpy.io.Adata_classes:Need precisely one parameter file *json, found: []\n"
       ]
      },
      {
       "output_type": "stream",
       "stream": "stderr",
       "text": [
        "WARNING:sarpy.io.Adata_classes:Could not load AData\n"
       ]
      },
      {
       "output_type": "stream",
       "stream": "stderr",
       "text": [
        "WARNING:sarpy.io.Adata_classes:Need precisely one parameter file *json, found: []\n"
       ]
      },
      {
       "output_type": "stream",
       "stream": "stderr",
       "text": [
        "WARNING:sarpy.io.Adata_classes:Could not load AData\n"
       ]
      },
      {
       "output_type": "stream",
       "stream": "stderr",
       "text": [
        "WARNING:sarpy.io.Adata_classes:Need precisely one parameter file *json, found: []\n"
       ]
      },
      {
       "output_type": "stream",
       "stream": "stderr",
       "text": [
        "WARNING:sarpy.io.Adata_classes:Could not load AData\n"
       ]
      },
      {
       "output_type": "stream",
       "stream": "stderr",
       "text": [
        "WARNING:sarpy.io.Adata_classes:Need precisely one parameter file *json, found: []\n"
       ]
      },
      {
       "output_type": "stream",
       "stream": "stderr",
       "text": [
        "WARNING:sarpy.io.Adata_classes:Could not load AData\n"
       ]
      },
      {
       "output_type": "stream",
       "stream": "stderr",
       "text": [
        "WARNING:sarpy.io.Adata_classes:Need precisely one parameter file *json, found: []\n"
       ]
      },
      {
       "output_type": "stream",
       "stream": "stderr",
       "text": [
        "WARNING:sarpy.io.Adata_classes:Could not load AData\n"
       ]
      },
      {
       "output_type": "stream",
       "stream": "stderr",
       "text": [
        "WARNING:sarpy.io.Adata_classes:Need precisely one parameter file *json, found: []\n"
       ]
      },
      {
       "output_type": "stream",
       "stream": "stderr",
       "text": [
        "WARNING:sarpy.io.Adata_classes:Could not load AData\n"
       ]
      },
      {
       "output_type": "stream",
       "stream": "stderr",
       "text": [
        "WARNING:sarpy.io.Adata_classes:Need precisely one parameter file *json, found: []\n"
       ]
      },
      {
       "output_type": "stream",
       "stream": "stderr",
       "text": [
        "WARNING:sarpy.io.Adata_classes:Could not load AData\n"
       ]
      },
      {
       "output_type": "stream",
       "stream": "stderr",
       "text": [
        "WARNING:sarpy.io.Adata_classes:Need precisely one parameter file *json, found: []\n"
       ]
      },
      {
       "output_type": "stream",
       "stream": "stderr",
       "text": [
        "WARNING:sarpy.io.Adata_classes:Could not load AData\n"
       ]
      },
      {
       "output_type": "stream",
       "stream": "stderr",
       "text": [
        "WARNING:sarpy.io.Adata_classes:Need precisely one parameter file *json, found: []\n"
       ]
      },
      {
       "output_type": "stream",
       "stream": "stderr",
       "text": [
        "WARNING:sarpy.io.Adata_classes:Could not load AData\n"
       ]
      },
      {
       "output_type": "stream",
       "stream": "stderr",
       "text": [
        "WARNING:sarpy.io.Adata_classes:Need precisely one parameter file *json, found: []\n"
       ]
      },
      {
       "output_type": "stream",
       "stream": "stderr",
       "text": [
        "WARNING:sarpy.io.Adata_classes:Could not load AData\n"
       ]
      },
      {
       "output_type": "stream",
       "stream": "stderr",
       "text": [
        "WARNING:sarpy.io.Adata_classes:Need precisely one parameter file *json, found: []\n"
       ]
      },
      {
       "output_type": "stream",
       "stream": "stderr",
       "text": [
        "WARNING:sarpy.io.Adata_classes:Could not load AData\n"
       ]
      },
      {
       "output_type": "stream",
       "stream": "stderr",
       "text": [
        "WARNING:sarpy.io.Adata_classes:Need precisely one parameter file *json, found: []\n"
       ]
      },
      {
       "output_type": "stream",
       "stream": "stderr",
       "text": [
        "WARNING:sarpy.io.Adata_classes:Could not load AData\n"
       ]
      },
      {
       "output_type": "stream",
       "stream": "stderr",
       "text": [
        "WARNING:sarpy.io.Adata_classes:Need precisely one parameter file *json, found: []\n"
       ]
      },
      {
       "output_type": "stream",
       "stream": "stderr",
       "text": [
        "WARNING:sarpy.io.Adata_classes:Could not load AData\n"
       ]
      },
      {
       "output_type": "stream",
       "stream": "stderr",
       "text": [
        "WARNING:sarpy.io.Adata_classes:Need precisely one parameter file *json, found: []\n"
       ]
      },
      {
       "output_type": "stream",
       "stream": "stderr",
       "text": [
        "WARNING:sarpy.io.Adata_classes:Could not load AData\n"
       ]
      },
      {
       "output_type": "stream",
       "stream": "stderr",
       "text": [
        "WARNING:sarpy.io.Adata_classes:Need precisely one parameter file *json, found: []\n"
       ]
      },
      {
       "output_type": "stream",
       "stream": "stderr",
       "text": [
        "WARNING:sarpy.io.Adata_classes:Could not load AData\n"
       ]
      },
      {
       "output_type": "stream",
       "stream": "stderr",
       "text": [
        "WARNING:sarpy.io.Adata_classes:Need precisely one parameter file *json, found: []\n"
       ]
      },
      {
       "output_type": "stream",
       "stream": "stderr",
       "text": [
        "WARNING:sarpy.io.Adata_classes:Could not load AData\n"
       ]
      },
      {
       "output_type": "stream",
       "stream": "stderr",
       "text": [
        "WARNING:sarpy.io.Adata_classes:Need precisely one parameter file *json, found: []\n"
       ]
      },
      {
       "output_type": "stream",
       "stream": "stderr",
       "text": [
        "WARNING:sarpy.io.Adata_classes:Could not load AData\n"
       ]
      },
      {
       "output_type": "stream",
       "stream": "stderr",
       "text": [
        "WARNING:sarpy.io.Adata_classes:Need precisely one parameter file *json, found: []\n"
       ]
      },
      {
       "output_type": "stream",
       "stream": "stderr",
       "text": [
        "WARNING:sarpy.io.Adata_classes:Could not load AData\n"
       ]
      },
      {
       "output_type": "stream",
       "stream": "stderr",
       "text": [
        "WARNING:sarpy.io.Adata_classes:Need precisely one parameter file *json, found: []\n"
       ]
      },
      {
       "output_type": "stream",
       "stream": "stderr",
       "text": [
        "WARNING:sarpy.io.Adata_classes:Could not load AData\n"
       ]
      },
      {
       "output_type": "stream",
       "stream": "stderr",
       "text": [
        "WARNING:sarpy.io.Adata_classes:Need precisely one parameter file *json, found: []\n"
       ]
      },
      {
       "output_type": "stream",
       "stream": "stderr",
       "text": [
        "WARNING:sarpy.io.Adata_classes:Could not load AData\n"
       ]
      },
      {
       "output_type": "stream",
       "stream": "stderr",
       "text": [
        "WARNING:sarpy.io.Adata_classes:Need precisely one parameter file *json, found: []\n"
       ]
      },
      {
       "output_type": "stream",
       "stream": "stderr",
       "text": [
        "WARNING:sarpy.io.Adata_classes:Could not load AData\n"
       ]
      },
      {
       "output_type": "stream",
       "stream": "stderr",
       "text": [
        "WARNING:sarpy.io.Adata_classes:Need precisely one parameter file *json, found: []\n"
       ]
      },
      {
       "output_type": "stream",
       "stream": "stderr",
       "text": [
        "WARNING:sarpy.io.Adata_classes:Could not load AData\n"
       ]
      },
      {
       "output_type": "stream",
       "stream": "stderr",
       "text": [
        "WARNING:sarpy.io.Adata_classes:Need precisely one parameter file *json, found: []\n"
       ]
      },
      {
       "output_type": "stream",
       "stream": "stderr",
       "text": [
        "WARNING:sarpy.io.Adata_classes:Could not load AData\n"
       ]
      },
      {
       "output_type": "stream",
       "stream": "stderr",
       "text": [
        "WARNING:sarpy.io.Adata_classes:Need precisely one parameter file *json, found: []\n"
       ]
      },
      {
       "output_type": "stream",
       "stream": "stderr",
       "text": [
        "WARNING:sarpy.io.Adata_classes:Could not load AData\n"
       ]
      },
      {
       "output_type": "stream",
       "stream": "stderr",
       "text": [
        "WARNING:sarpy.io.Adata_classes:Need precisely one parameter file *json, found: []\n"
       ]
      },
      {
       "output_type": "stream",
       "stream": "stderr",
       "text": [
        "WARNING:sarpy.io.Adata_classes:Could not load AData\n"
       ]
      },
      {
       "output_type": "stream",
       "stream": "stderr",
       "text": [
        "WARNING:sarpy.io.Adata_classes:Need precisely one parameter file *json, found: []\n"
       ]
      },
      {
       "output_type": "stream",
       "stream": "stderr",
       "text": [
        "WARNING:sarpy.io.Adata_classes:Could not load AData\n"
       ]
      },
      {
       "output_type": "stream",
       "stream": "stderr",
       "text": [
        "WARNING:sarpy.io.Adata_classes:Need precisely one parameter file *json, found: []\n"
       ]
      },
      {
       "output_type": "stream",
       "stream": "stderr",
       "text": [
        "WARNING:sarpy.io.Adata_classes:Could not load AData\n"
       ]
      },
      {
       "output_type": "stream",
       "stream": "stderr",
       "text": [
        "WARNING:sarpy.io.Adata_classes:Need precisely one parameter file *json, found: []\n"
       ]
      },
      {
       "output_type": "stream",
       "stream": "stderr",
       "text": [
        "WARNING:sarpy.io.Adata_classes:Could not load AData\n"
       ]
      },
      {
       "output_type": "stream",
       "stream": "stderr",
       "text": [
        "WARNING:sarpy.io.Adata_classes:Need precisely one parameter file *json, found: []\n"
       ]
      },
      {
       "output_type": "stream",
       "stream": "stderr",
       "text": [
        "WARNING:sarpy.io.Adata_classes:Could not load AData\n"
       ]
      },
      {
       "output_type": "stream",
       "stream": "stderr",
       "text": [
        "WARNING:sarpy.io.Adata_classes:Need precisely one parameter file *json, found: []\n"
       ]
      },
      {
       "output_type": "stream",
       "stream": "stderr",
       "text": [
        "WARNING:sarpy.io.Adata_classes:Could not load AData\n"
       ]
      },
      {
       "output_type": "stream",
       "stream": "stderr",
       "text": [
        "WARNING:sarpy.io.Adata_classes:Need precisely one parameter file *json, found: []\n"
       ]
      },
      {
       "output_type": "stream",
       "stream": "stderr",
       "text": [
        "WARNING:sarpy.io.Adata_classes:Could not load AData\n"
       ]
      },
      {
       "output_type": "stream",
       "stream": "stderr",
       "text": [
        "WARNING:sarpy.io.Adata_classes:Need precisely one parameter file *json, found: []\n"
       ]
      },
      {
       "output_type": "stream",
       "stream": "stderr",
       "text": [
        "WARNING:sarpy.io.Adata_classes:Could not load AData\n"
       ]
      },
      {
       "output_type": "stream",
       "stream": "stderr",
       "text": [
        "WARNING:sarpy.io.Adata_classes:Need precisely one parameter file *json, found: []\n"
       ]
      },
      {
       "output_type": "stream",
       "stream": "stderr",
       "text": [
        "WARNING:sarpy.io.Adata_classes:Could not load AData\n"
       ]
      },
      {
       "output_type": "stream",
       "stream": "stderr",
       "text": [
        "WARNING:sarpy.io.Adata_classes:Need precisely one parameter file *json, found: []\n"
       ]
      },
      {
       "output_type": "stream",
       "stream": "stderr",
       "text": [
        "WARNING:sarpy.io.Adata_classes:Could not load AData\n"
       ]
      },
      {
       "output_type": "stream",
       "stream": "stderr",
       "text": [
        "WARNING:sarpy.io.Adata_classes:Need precisely one parameter file *json, found: []\n"
       ]
      },
      {
       "output_type": "stream",
       "stream": "stderr",
       "text": [
        "WARNING:sarpy.io.Adata_classes:Could not load AData\n"
       ]
      },
      {
       "output_type": "stream",
       "stream": "stderr",
       "text": [
        "WARNING:sarpy.io.Adata_classes:Need precisely one parameter file *json, found: []\n"
       ]
      },
      {
       "output_type": "stream",
       "stream": "stderr",
       "text": [
        "WARNING:sarpy.io.Adata_classes:Could not load AData\n"
       ]
      },
      {
       "output_type": "stream",
       "stream": "stderr",
       "text": [
        "WARNING:sarpy.io.Adata_classes:Need precisely one parameter file *json, found: []\n"
       ]
      },
      {
       "output_type": "stream",
       "stream": "stderr",
       "text": [
        "WARNING:sarpy.io.Adata_classes:Could not load AData\n"
       ]
      },
      {
       "output_type": "stream",
       "stream": "stderr",
       "text": [
        "WARNING:sarpy.io.Adata_classes:Need precisely one parameter file *json, found: []\n"
       ]
      },
      {
       "output_type": "stream",
       "stream": "stderr",
       "text": [
        "WARNING:sarpy.io.Adata_classes:Could not load AData\n"
       ]
      },
      {
       "output_type": "stream",
       "stream": "stderr",
       "text": [
        "WARNING:sarpy.io.Adata_classes:Need precisely one parameter file *json, found: []\n"
       ]
      },
      {
       "output_type": "stream",
       "stream": "stderr",
       "text": [
        "WARNING:sarpy.io.Adata_classes:Could not load AData\n"
       ]
      },
      {
       "output_type": "stream",
       "stream": "stderr",
       "text": [
        "WARNING:sarpy.io.Adata_classes:Need precisely one parameter file *json, found: []\n"
       ]
      },
      {
       "output_type": "stream",
       "stream": "stderr",
       "text": [
        "WARNING:sarpy.io.Adata_classes:Could not load AData\n"
       ]
      },
      {
       "output_type": "stream",
       "stream": "stderr",
       "text": [
        "WARNING:sarpy.io.Adata_classes:Need precisely one parameter file *json, found: []\n"
       ]
      },
      {
       "output_type": "stream",
       "stream": "stderr",
       "text": [
        "WARNING:sarpy.io.Adata_classes:Could not load AData\n"
       ]
      },
      {
       "output_type": "stream",
       "stream": "stderr",
       "text": [
        "WARNING:sarpy.io.Adata_classes:Need precisely one parameter file *json, found: []\n"
       ]
      },
      {
       "output_type": "stream",
       "stream": "stderr",
       "text": [
        "WARNING:sarpy.io.Adata_classes:Could not load AData\n"
       ]
      },
      {
       "output_type": "stream",
       "stream": "stderr",
       "text": [
        "WARNING:sarpy.io.Adata_classes:Need precisely one parameter file *json, found: []\n"
       ]
      },
      {
       "output_type": "stream",
       "stream": "stderr",
       "text": [
        "WARNING:sarpy.io.Adata_classes:Could not load AData\n"
       ]
      },
      {
       "output_type": "stream",
       "stream": "stderr",
       "text": [
        "WARNING:sarpy.io.Adata_classes:Need precisely one parameter file *json, found: []\n"
       ]
      },
      {
       "output_type": "stream",
       "stream": "stderr",
       "text": [
        "WARNING:sarpy.io.Adata_classes:Could not load AData\n"
       ]
      },
      {
       "output_type": "stream",
       "stream": "stderr",
       "text": [
        "WARNING:sarpy.io.Adata_classes:Need precisely one parameter file *json, found: []\n"
       ]
      },
      {
       "output_type": "stream",
       "stream": "stderr",
       "text": [
        "WARNING:sarpy.io.Adata_classes:Could not load AData\n"
       ]
      },
      {
       "output_type": "stream",
       "stream": "stderr",
       "text": [
        "WARNING:sarpy.io.Adata_classes:Need precisely one parameter file *json, found: []\n"
       ]
      },
      {
       "output_type": "stream",
       "stream": "stderr",
       "text": [
        "WARNING:sarpy.io.Adata_classes:Could not load AData\n"
       ]
      },
      {
       "output_type": "stream",
       "stream": "stderr",
       "text": [
        "WARNING:sarpy.io.Adata_classes:Need precisely one parameter file *json, found: []\n"
       ]
      },
      {
       "output_type": "stream",
       "stream": "stderr",
       "text": [
        "WARNING:sarpy.io.Adata_classes:Could not load AData\n"
       ]
      },
      {
       "output_type": "stream",
       "stream": "stderr",
       "text": [
        "WARNING:sarpy.io.Adata_classes:Need precisely one parameter file *json, found: []\n"
       ]
      },
      {
       "output_type": "stream",
       "stream": "stderr",
       "text": [
        "WARNING:sarpy.io.Adata_classes:Could not load AData\n"
       ]
      },
      {
       "output_type": "stream",
       "stream": "stderr",
       "text": [
        "WARNING:sarpy.io.Adata_classes:Need precisely one parameter file *json, found: []\n"
       ]
      },
      {
       "output_type": "stream",
       "stream": "stderr",
       "text": [
        "WARNING:sarpy.io.Adata_classes:Could not load AData\n"
       ]
      },
      {
       "output_type": "stream",
       "stream": "stderr",
       "text": [
        "WARNING:sarpy.io.Adata_classes:Need precisely one parameter file *json, found: []\n"
       ]
      },
      {
       "output_type": "stream",
       "stream": "stderr",
       "text": [
        "WARNING:sarpy.io.Adata_classes:Could not load AData\n"
       ]
      },
      {
       "output_type": "stream",
       "stream": "stderr",
       "text": [
        "WARNING:sarpy.io.Adata_classes:Need precisely one parameter file *json, found: []\n"
       ]
      },
      {
       "output_type": "stream",
       "stream": "stderr",
       "text": [
        "WARNING:sarpy.io.Adata_classes:Could not load AData\n"
       ]
      },
      {
       "output_type": "stream",
       "stream": "stderr",
       "text": [
        "WARNING:sarpy.io.Adata_classes:Need precisely one parameter file *json, found: []\n"
       ]
      },
      {
       "output_type": "stream",
       "stream": "stderr",
       "text": [
        "WARNING:sarpy.io.Adata_classes:Could not load AData\n"
       ]
      },
      {
       "output_type": "stream",
       "stream": "stderr",
       "text": [
        "WARNING:sarpy.io.Adata_classes:Need precisely one parameter file *json, found: []\n"
       ]
      },
      {
       "output_type": "stream",
       "stream": "stderr",
       "text": [
        "WARNING:sarpy.io.Adata_classes:Could not load AData\n"
       ]
      },
      {
       "output_type": "stream",
       "stream": "stderr",
       "text": [
        "WARNING:sarpy.io.Adata_classes:Need precisely one parameter file *json, found: []\n"
       ]
      },
      {
       "output_type": "stream",
       "stream": "stderr",
       "text": [
        "WARNING:sarpy.io.Adata_classes:Could not load AData\n"
       ]
      },
      {
       "output_type": "stream",
       "stream": "stderr",
       "text": [
        "WARNING:sarpy.io.Adata_classes:Need precisely one parameter file *json, found: []\n"
       ]
      },
      {
       "output_type": "stream",
       "stream": "stderr",
       "text": [
        "WARNING:sarpy.io.Adata_classes:Could not load AData\n"
       ]
      },
      {
       "output_type": "stream",
       "stream": "stderr",
       "text": [
        "WARNING:sarpy.io.Adata_classes:Need precisely one parameter file *json, found: []\n"
       ]
      },
      {
       "output_type": "stream",
       "stream": "stderr",
       "text": [
        "WARNING:sarpy.io.Adata_classes:Could not load AData\n"
       ]
      },
      {
       "output_type": "stream",
       "stream": "stderr",
       "text": [
        "WARNING:sarpy.io.Adata_classes:Need precisely one parameter file *json, found: []\n"
       ]
      },
      {
       "output_type": "stream",
       "stream": "stderr",
       "text": [
        "WARNING:sarpy.io.Adata_classes:Could not load AData\n"
       ]
      },
      {
       "output_type": "stream",
       "stream": "stderr",
       "text": [
        "WARNING:sarpy.io.Adata_classes:Need precisely one parameter file *json, found: []\n"
       ]
      },
      {
       "output_type": "stream",
       "stream": "stderr",
       "text": [
        "WARNING:sarpy.io.Adata_classes:Could not load AData\n"
       ]
      },
      {
       "output_type": "stream",
       "stream": "stderr",
       "text": [
        "WARNING:sarpy.io.Adata_classes:Need precisely one parameter file *json, found: []\n"
       ]
      },
      {
       "output_type": "stream",
       "stream": "stderr",
       "text": [
        "WARNING:sarpy.io.Adata_classes:Could not load AData\n"
       ]
      },
      {
       "output_type": "stream",
       "stream": "stderr",
       "text": [
        "WARNING:sarpy.io.Adata_classes:Need precisely one parameter file *json, found: []\n"
       ]
      },
      {
       "output_type": "stream",
       "stream": "stderr",
       "text": [
        "WARNING:sarpy.io.Adata_classes:Could not load AData\n"
       ]
      },
      {
       "output_type": "stream",
       "stream": "stderr",
       "text": [
        "WARNING:sarpy.io.Adata_classes:Need precisely one parameter file *json, found: []\n"
       ]
      },
      {
       "output_type": "stream",
       "stream": "stderr",
       "text": [
        "WARNING:sarpy.io.Adata_classes:Could not load AData\n"
       ]
      },
      {
       "output_type": "stream",
       "stream": "stderr",
       "text": [
        "WARNING:sarpy.io.Adata_classes:Need precisely one parameter file *json, found: []\n"
       ]
      },
      {
       "output_type": "stream",
       "stream": "stderr",
       "text": [
        "WARNING:sarpy.io.Adata_classes:Could not load AData\n"
       ]
      },
      {
       "output_type": "stream",
       "stream": "stderr",
       "text": [
        "WARNING:sarpy.io.Adata_classes:Need precisely one parameter file *json, found: []\n"
       ]
      },
      {
       "output_type": "stream",
       "stream": "stderr",
       "text": [
        "WARNING:sarpy.io.Adata_classes:Could not load AData\n"
       ]
      },
      {
       "output_type": "stream",
       "stream": "stderr",
       "text": [
        "WARNING:sarpy.io.Adata_classes:Need precisely one parameter file *json, found: []\n"
       ]
      },
      {
       "output_type": "stream",
       "stream": "stderr",
       "text": [
        "WARNING:sarpy.io.Adata_classes:Could not load AData\n"
       ]
      },
      {
       "output_type": "stream",
       "stream": "stderr",
       "text": [
        "WARNING:sarpy.io.Adata_classes:Need precisely one parameter file *json, found: []\n"
       ]
      },
      {
       "output_type": "stream",
       "stream": "stderr",
       "text": [
        "WARNING:sarpy.io.Adata_classes:Could not load AData\n"
       ]
      },
      {
       "output_type": "stream",
       "stream": "stderr",
       "text": [
        "WARNING:sarpy.io.Adata_classes:Need precisely one parameter file *json, found: []\n"
       ]
      },
      {
       "output_type": "stream",
       "stream": "stderr",
       "text": [
        "WARNING:sarpy.io.Adata_classes:Could not load AData\n"
       ]
      },
      {
       "output_type": "stream",
       "stream": "stderr",
       "text": [
        "WARNING:sarpy.io.Adata_classes:Need precisely one parameter file *json, found: []\n"
       ]
      },
      {
       "output_type": "stream",
       "stream": "stderr",
       "text": [
        "WARNING:sarpy.io.Adata_classes:Could not load AData\n"
       ]
      },
      {
       "output_type": "stream",
       "stream": "stderr",
       "text": [
        "WARNING:sarpy.io.Adata_classes:Need precisely one parameter file *json, found: []\n"
       ]
      },
      {
       "output_type": "stream",
       "stream": "stderr",
       "text": [
        "WARNING:sarpy.io.Adata_classes:Could not load AData\n"
       ]
      },
      {
       "output_type": "stream",
       "stream": "stderr",
       "text": [
        "WARNING:sarpy.io.Adata_classes:Need precisely one parameter file *json, found: []\n"
       ]
      },
      {
       "output_type": "stream",
       "stream": "stderr",
       "text": [
        "WARNING:sarpy.io.Adata_classes:Could not load AData\n"
       ]
      },
      {
       "output_type": "stream",
       "stream": "stderr",
       "text": [
        "WARNING:sarpy.io.Adata_classes:Need precisely one parameter file *json, found: []\n"
       ]
      },
      {
       "output_type": "stream",
       "stream": "stderr",
       "text": [
        "WARNING:sarpy.io.Adata_classes:Could not load AData\n"
       ]
      },
      {
       "output_type": "stream",
       "stream": "stderr",
       "text": [
        "WARNING:sarpy.io.Adata_classes:Need precisely one parameter file *json, found: []\n"
       ]
      },
      {
       "output_type": "stream",
       "stream": "stderr",
       "text": [
        "WARNING:sarpy.io.Adata_classes:Could not load AData\n"
       ]
      },
      {
       "output_type": "stream",
       "stream": "stderr",
       "text": [
        "WARNING:sarpy.io.Adata_classes:Need precisely one parameter file *json, found: []\n"
       ]
      },
      {
       "output_type": "stream",
       "stream": "stderr",
       "text": [
        "WARNING:sarpy.io.Adata_classes:Could not load AData\n"
       ]
      },
      {
       "output_type": "stream",
       "stream": "stderr",
       "text": [
        "WARNING:sarpy.io.Adata_classes:Need precisely one parameter file *json, found: []\n"
       ]
      },
      {
       "output_type": "stream",
       "stream": "stderr",
       "text": [
        "WARNING:sarpy.io.Adata_classes:Could not load AData\n"
       ]
      },
      {
       "output_type": "stream",
       "stream": "stderr",
       "text": [
        "WARNING:sarpy.io.Adata_classes:Need precisely one parameter file *json, found: []\n"
       ]
      },
      {
       "output_type": "stream",
       "stream": "stderr",
       "text": [
        "WARNING:sarpy.io.Adata_classes:Could not load AData\n"
       ]
      },
      {
       "output_type": "stream",
       "stream": "stderr",
       "text": [
        "WARNING:sarpy.io.Adata_classes:Need precisely one parameter file *json, found: []\n"
       ]
      },
      {
       "output_type": "stream",
       "stream": "stderr",
       "text": [
        "WARNING:sarpy.io.Adata_classes:Could not load AData\n"
       ]
      },
      {
       "output_type": "stream",
       "stream": "stderr",
       "text": [
        "WARNING:sarpy.io.Adata_classes:Need precisely one parameter file *json, found: []\n"
       ]
      },
      {
       "output_type": "stream",
       "stream": "stderr",
       "text": [
        "WARNING:sarpy.io.Adata_classes:Could not load AData\n"
       ]
      },
      {
       "output_type": "stream",
       "stream": "stderr",
       "text": [
        "WARNING:sarpy.io.Adata_classes:Need precisely one parameter file *json, found: []\n"
       ]
      },
      {
       "output_type": "stream",
       "stream": "stderr",
       "text": [
        "WARNING:sarpy.io.Adata_classes:Could not load AData\n"
       ]
      },
      {
       "output_type": "stream",
       "stream": "stderr",
       "text": [
        "WARNING:sarpy.io.Adata_classes:Need precisely one parameter file *json, found: []\n"
       ]
      },
      {
       "output_type": "stream",
       "stream": "stderr",
       "text": [
        "WARNING:sarpy.io.Adata_classes:Could not load AData\n"
       ]
      },
      {
       "output_type": "stream",
       "stream": "stderr",
       "text": [
        "WARNING:sarpy.io.Adata_classes:Need precisely one parameter file *json, found: []\n"
       ]
      },
      {
       "output_type": "stream",
       "stream": "stderr",
       "text": [
        "WARNING:sarpy.io.Adata_classes:Could not load AData\n"
       ]
      },
      {
       "output_type": "stream",
       "stream": "stderr",
       "text": [
        "WARNING:sarpy.io.Adata_classes:Need precisely one parameter file *json, found: []\n"
       ]
      },
      {
       "output_type": "stream",
       "stream": "stderr",
       "text": [
        "WARNING:sarpy.io.Adata_classes:Could not load AData\n"
       ]
      },
      {
       "output_type": "stream",
       "stream": "stderr",
       "text": [
        "WARNING:sarpy.io.Adata_classes:Need precisely one parameter file *json, found: []\n"
       ]
      },
      {
       "output_type": "stream",
       "stream": "stderr",
       "text": [
        "WARNING:sarpy.io.Adata_classes:Could not load AData\n"
       ]
      },
      {
       "output_type": "stream",
       "stream": "stderr",
       "text": [
        "WARNING:sarpy.io.Adata_classes:Need precisely one parameter file *json, found: []\n"
       ]
      },
      {
       "output_type": "stream",
       "stream": "stderr",
       "text": [
        "WARNING:sarpy.io.Adata_classes:Could not load AData\n"
       ]
      },
      {
       "output_type": "stream",
       "stream": "stderr",
       "text": [
        "WARNING:sarpy.io.Adata_classes:Need precisely one parameter file *json, found: []\n"
       ]
      },
      {
       "output_type": "stream",
       "stream": "stderr",
       "text": [
        "WARNING:sarpy.io.Adata_classes:Could not load AData\n"
       ]
      },
      {
       "output_type": "stream",
       "stream": "stderr",
       "text": [
        "WARNING:sarpy.io.Adata_classes:Need precisely one parameter file *json, found: []\n"
       ]
      },
      {
       "output_type": "stream",
       "stream": "stderr",
       "text": [
        "WARNING:sarpy.io.Adata_classes:Could not load AData\n"
       ]
      },
      {
       "output_type": "stream",
       "stream": "stderr",
       "text": [
        "WARNING:sarpy.io.Adata_classes:Need precisely one parameter file *json, found: []\n"
       ]
      },
      {
       "output_type": "stream",
       "stream": "stderr",
       "text": [
        "WARNING:sarpy.io.Adata_classes:Could not load AData\n"
       ]
      },
      {
       "output_type": "stream",
       "stream": "stderr",
       "text": [
        "WARNING:sarpy.io.Adata_classes:Need precisely one parameter file *json, found: []\n"
       ]
      },
      {
       "output_type": "stream",
       "stream": "stderr",
       "text": [
        "WARNING:sarpy.io.Adata_classes:Could not load AData\n"
       ]
      },
      {
       "output_type": "stream",
       "stream": "stderr",
       "text": [
        "WARNING:sarpy.io.Adata_classes:Need precisely one parameter file *json, found: []\n"
       ]
      },
      {
       "output_type": "stream",
       "stream": "stderr",
       "text": [
        "WARNING:sarpy.io.Adata_classes:Could not load AData\n"
       ]
      },
      {
       "output_type": "stream",
       "stream": "stderr",
       "text": [
        "WARNING:sarpy.io.Adata_classes:Need precisely one parameter file *json, found: []\n"
       ]
      },
      {
       "output_type": "stream",
       "stream": "stderr",
       "text": [
        "WARNING:sarpy.io.Adata_classes:Could not load AData\n"
       ]
      },
      {
       "output_type": "stream",
       "stream": "stderr",
       "text": [
        "WARNING:sarpy.io.Adata_classes:Need precisely one parameter file *json, found: []\n"
       ]
      },
      {
       "output_type": "stream",
       "stream": "stderr",
       "text": [
        "WARNING:sarpy.io.Adata_classes:Could not load AData\n"
       ]
      },
      {
       "output_type": "stream",
       "stream": "stderr",
       "text": [
        "WARNING:sarpy.io.Adata_classes:Need precisely one parameter file *json, found: []\n"
       ]
      },
      {
       "output_type": "stream",
       "stream": "stderr",
       "text": [
        "WARNING:sarpy.io.Adata_classes:Could not load AData\n"
       ]
      },
      {
       "output_type": "stream",
       "stream": "stderr",
       "text": [
        "WARNING:sarpy.io.Adata_classes:Need precisely one parameter file *json, found: []\n"
       ]
      },
      {
       "output_type": "stream",
       "stream": "stderr",
       "text": [
        "WARNING:sarpy.io.Adata_classes:Could not load AData\n"
       ]
      },
      {
       "output_type": "stream",
       "stream": "stderr",
       "text": [
        "WARNING:sarpy.io.Adata_classes:Need precisely one parameter file *json, found: []\n"
       ]
      },
      {
       "output_type": "stream",
       "stream": "stderr",
       "text": [
        "WARNING:sarpy.io.Adata_classes:Could not load AData\n"
       ]
      },
      {
       "output_type": "stream",
       "stream": "stderr",
       "text": [
        "WARNING:sarpy.io.Adata_classes:Need precisely one parameter file *json, found: []\n"
       ]
      },
      {
       "output_type": "stream",
       "stream": "stderr",
       "text": [
        "WARNING:sarpy.io.Adata_classes:Could not load AData\n"
       ]
      },
      {
       "output_type": "stream",
       "stream": "stderr",
       "text": [
        "WARNING:sarpy.io.Adata_classes:Need precisely one parameter file *json, found: []\n"
       ]
      },
      {
       "output_type": "stream",
       "stream": "stderr",
       "text": [
        "WARNING:sarpy.io.Adata_classes:Could not load AData\n"
       ]
      },
      {
       "output_type": "stream",
       "stream": "stderr",
       "text": [
        "WARNING:sarpy.io.Adata_classes:Need precisely one parameter file *json, found: []\n"
       ]
      },
      {
       "output_type": "stream",
       "stream": "stderr",
       "text": [
        "WARNING:sarpy.io.Adata_classes:Could not load AData\n"
       ]
      },
      {
       "output_type": "stream",
       "stream": "stderr",
       "text": [
        "WARNING:sarpy.io.Adata_classes:Need precisely one parameter file *json, found: []\n"
       ]
      },
      {
       "output_type": "stream",
       "stream": "stderr",
       "text": [
        "WARNING:sarpy.io.Adata_classes:Could not load AData\n"
       ]
      },
      {
       "output_type": "stream",
       "stream": "stderr",
       "text": [
        "WARNING:sarpy.io.Adata_classes:Need precisely one parameter file *json, found: []\n"
       ]
      },
      {
       "output_type": "stream",
       "stream": "stderr",
       "text": [
        "WARNING:sarpy.io.Adata_classes:Could not load AData\n"
       ]
      },
      {
       "output_type": "stream",
       "stream": "stderr",
       "text": [
        "WARNING:sarpy.io.Adata_classes:Need precisely one parameter file *json, found: []\n"
       ]
      },
      {
       "output_type": "stream",
       "stream": "stderr",
       "text": [
        "WARNING:sarpy.io.Adata_classes:Could not load AData\n"
       ]
      },
      {
       "output_type": "stream",
       "stream": "stderr",
       "text": [
        "WARNING:sarpy.io.Adata_classes:Need precisely one parameter file *json, found: []\n"
       ]
      },
      {
       "output_type": "stream",
       "stream": "stderr",
       "text": [
        "WARNING:sarpy.io.Adata_classes:Could not load AData\n"
       ]
      },
      {
       "output_type": "stream",
       "stream": "stderr",
       "text": [
        "WARNING:sarpy.io.Adata_classes:Need precisely one parameter file *json, found: []\n"
       ]
      },
      {
       "output_type": "stream",
       "stream": "stderr",
       "text": [
        "WARNING:sarpy.io.Adata_classes:Could not load AData\n"
       ]
      },
      {
       "output_type": "stream",
       "stream": "stderr",
       "text": [
        "WARNING:sarpy.io.Adata_classes:Need precisely one parameter file *json, found: []\n"
       ]
      },
      {
       "output_type": "stream",
       "stream": "stderr",
       "text": [
        "WARNING:sarpy.io.Adata_classes:Could not load AData\n"
       ]
      },
      {
       "output_type": "stream",
       "stream": "stderr",
       "text": [
        "WARNING:sarpy.io.Adata_classes:Need precisely one parameter file *json, found: []\n"
       ]
      },
      {
       "output_type": "stream",
       "stream": "stderr",
       "text": [
        "WARNING:sarpy.io.Adata_classes:Could not load AData\n"
       ]
      },
      {
       "output_type": "stream",
       "stream": "stderr",
       "text": [
        "WARNING:sarpy.io.Adata_classes:Need precisely one parameter file *json, found: []\n"
       ]
      },
      {
       "output_type": "stream",
       "stream": "stderr",
       "text": [
        "WARNING:sarpy.io.Adata_classes:Could not load AData\n"
       ]
      },
      {
       "output_type": "stream",
       "stream": "stderr",
       "text": [
        "WARNING:sarpy.io.Adata_classes:Need precisely one parameter file *json, found: []\n"
       ]
      },
      {
       "output_type": "stream",
       "stream": "stderr",
       "text": [
        "WARNING:sarpy.io.Adata_classes:Could not load AData\n"
       ]
      },
      {
       "output_type": "stream",
       "stream": "stderr",
       "text": [
        "WARNING:sarpy.io.Adata_classes:Need precisely one parameter file *json, found: []\n"
       ]
      },
      {
       "output_type": "stream",
       "stream": "stderr",
       "text": [
        "WARNING:sarpy.io.Adata_classes:Could not load AData\n"
       ]
      },
      {
       "output_type": "stream",
       "stream": "stderr",
       "text": [
        "WARNING:sarpy.io.Adata_classes:Need precisely one parameter file *json, found: []\n"
       ]
      },
      {
       "output_type": "stream",
       "stream": "stderr",
       "text": [
        "WARNING:sarpy.io.Adata_classes:Could not load AData\n"
       ]
      },
      {
       "output_type": "stream",
       "stream": "stderr",
       "text": [
        "WARNING:sarpy.io.Adata_classes:Need precisely one parameter file *json, found: []\n"
       ]
      },
      {
       "output_type": "stream",
       "stream": "stderr",
       "text": [
        "WARNING:sarpy.io.Adata_classes:Could not load AData\n"
       ]
      },
      {
       "output_type": "stream",
       "stream": "stderr",
       "text": [
        "WARNING:sarpy.io.Adata_classes:Need precisely one parameter file *json, found: []\n"
       ]
      },
      {
       "output_type": "stream",
       "stream": "stderr",
       "text": [
        "WARNING:sarpy.io.Adata_classes:Could not load AData\n"
       ]
      },
      {
       "output_type": "stream",
       "stream": "stderr",
       "text": [
        "WARNING:sarpy.io.Adata_classes:Need precisely one parameter file *json, found: []\n"
       ]
      },
      {
       "output_type": "stream",
       "stream": "stderr",
       "text": [
        "WARNING:sarpy.io.Adata_classes:Could not load AData\n"
       ]
      },
      {
       "output_type": "stream",
       "stream": "stderr",
       "text": [
        "WARNING:sarpy.io.Adata_classes:Need precisely one parameter file *json, found: []\n"
       ]
      },
      {
       "output_type": "stream",
       "stream": "stderr",
       "text": [
        "WARNING:sarpy.io.Adata_classes:Could not load AData\n"
       ]
      },
      {
       "output_type": "stream",
       "stream": "stderr",
       "text": [
        "WARNING:sarpy.io.Adata_classes:Need precisely one parameter file *json, found: []\n"
       ]
      },
      {
       "output_type": "stream",
       "stream": "stderr",
       "text": [
        "WARNING:sarpy.io.Adata_classes:Could not load AData\n"
       ]
      },
      {
       "output_type": "stream",
       "stream": "stderr",
       "text": [
        "WARNING:sarpy.io.Adata_classes:Need precisely one parameter file *json, found: []\n"
       ]
      },
      {
       "output_type": "stream",
       "stream": "stderr",
       "text": [
        "WARNING:sarpy.io.Adata_classes:Could not load AData\n"
       ]
      },
      {
       "output_type": "stream",
       "stream": "stderr",
       "text": [
        "WARNING:sarpy.io.Adata_classes:Need precisely one parameter file *json, found: []\n"
       ]
      },
      {
       "output_type": "stream",
       "stream": "stderr",
       "text": [
        "WARNING:sarpy.io.Adata_classes:Could not load AData\n"
       ]
      },
      {
       "output_type": "stream",
       "stream": "stderr",
       "text": [
        "WARNING:sarpy.io.Adata_classes:Need precisely one parameter file *json, found: []\n"
       ]
      },
      {
       "output_type": "stream",
       "stream": "stderr",
       "text": [
        "WARNING:sarpy.io.Adata_classes:Could not load AData\n"
       ]
      },
      {
       "output_type": "stream",
       "stream": "stderr",
       "text": [
        "WARNING:sarpy.io.Adata_classes:Need precisely one parameter file *json, found: []\n"
       ]
      },
      {
       "output_type": "stream",
       "stream": "stderr",
       "text": [
        "WARNING:sarpy.io.Adata_classes:Could not load AData\n"
       ]
      },
      {
       "output_type": "stream",
       "stream": "stderr",
       "text": [
        "WARNING:sarpy.io.Adata_classes:Need precisely one parameter file *json, found: []\n"
       ]
      },
      {
       "output_type": "stream",
       "stream": "stderr",
       "text": [
        "WARNING:sarpy.io.Adata_classes:Could not load AData\n"
       ]
      },
      {
       "output_type": "stream",
       "stream": "stderr",
       "text": [
        "WARNING:sarpy.io.Adata_classes:Need precisely one parameter file *json, found: []\n"
       ]
      },
      {
       "output_type": "stream",
       "stream": "stderr",
       "text": [
        "WARNING:sarpy.io.Adata_classes:Could not load AData\n"
       ]
      },
      {
       "output_type": "stream",
       "stream": "stderr",
       "text": [
        "WARNING:sarpy.io.Adata_classes:Need precisely one parameter file *json, found: []\n"
       ]
      },
      {
       "output_type": "stream",
       "stream": "stderr",
       "text": [
        "WARNING:sarpy.io.Adata_classes:Could not load AData\n"
       ]
      },
      {
       "output_type": "stream",
       "stream": "stderr",
       "text": [
        "WARNING:sarpy.io.Adata_classes:Need precisely one parameter file *json, found: []\n"
       ]
      },
      {
       "output_type": "stream",
       "stream": "stderr",
       "text": [
        "WARNING:sarpy.io.Adata_classes:Could not load AData\n"
       ]
      },
      {
       "output_type": "stream",
       "stream": "stderr",
       "text": [
        "WARNING:sarpy.io.Adata_classes:Need precisely one parameter file *json, found: []\n"
       ]
      },
      {
       "output_type": "stream",
       "stream": "stderr",
       "text": [
        "WARNING:sarpy.io.Adata_classes:Could not load AData\n"
       ]
      },
      {
       "output_type": "stream",
       "stream": "stderr",
       "text": [
        "WARNING:sarpy.io.Adata_classes:Need precisely one parameter file *json, found: []\n"
       ]
      },
      {
       "output_type": "stream",
       "stream": "stderr",
       "text": [
        "WARNING:sarpy.io.Adata_classes:Could not load AData\n"
       ]
      },
      {
       "output_type": "stream",
       "stream": "stderr",
       "text": [
        "WARNING:sarpy.io.Adata_classes:Need precisely one parameter file *json, found: []\n"
       ]
      },
      {
       "output_type": "stream",
       "stream": "stderr",
       "text": [
        "WARNING:sarpy.io.Adata_classes:Could not load AData\n"
       ]
      },
      {
       "output_type": "stream",
       "stream": "stderr",
       "text": [
        "WARNING:sarpy.io.Adata_classes:Need precisely one parameter file *json, found: []\n"
       ]
      },
      {
       "output_type": "stream",
       "stream": "stderr",
       "text": [
        "WARNING:sarpy.io.Adata_classes:Could not load AData\n"
       ]
      },
      {
       "output_type": "stream",
       "stream": "stderr",
       "text": [
        "WARNING:sarpy.io.Adata_classes:Need precisely one parameter file *json, found: []\n"
       ]
      },
      {
       "output_type": "stream",
       "stream": "stderr",
       "text": [
        "WARNING:sarpy.io.Adata_classes:Could not load AData\n"
       ]
      },
      {
       "output_type": "stream",
       "stream": "stderr",
       "text": [
        "WARNING:sarpy.io.Adata_classes:Need precisely one parameter file *json, found: []\n"
       ]
      },
      {
       "output_type": "stream",
       "stream": "stderr",
       "text": [
        "WARNING:sarpy.io.Adata_classes:Could not load AData\n"
       ]
      },
      {
       "output_type": "stream",
       "stream": "stderr",
       "text": [
        "WARNING:sarpy.io.Adata_classes:Need precisely one parameter file *json, found: []\n"
       ]
      },
      {
       "output_type": "stream",
       "stream": "stderr",
       "text": [
        "WARNING:sarpy.io.Adata_classes:Could not load AData\n"
       ]
      },
      {
       "output_type": "stream",
       "stream": "stderr",
       "text": [
        "WARNING:sarpy.io.Adata_classes:Need precisely one parameter file *json, found: []\n"
       ]
      },
      {
       "output_type": "stream",
       "stream": "stderr",
       "text": [
        "WARNING:sarpy.io.Adata_classes:Could not load AData\n"
       ]
      },
      {
       "output_type": "stream",
       "stream": "stderr",
       "text": [
        "WARNING:sarpy.io.Adata_classes:Need precisely one parameter file *json, found: []\n"
       ]
      },
      {
       "output_type": "stream",
       "stream": "stderr",
       "text": [
        "WARNING:sarpy.io.Adata_classes:Could not load AData\n"
       ]
      },
      {
       "output_type": "stream",
       "stream": "stderr",
       "text": [
        "WARNING:sarpy.io.Adata_classes:Need precisely one parameter file *json, found: []\n"
       ]
      },
      {
       "output_type": "stream",
       "stream": "stderr",
       "text": [
        "WARNING:sarpy.io.Adata_classes:Could not load AData\n"
       ]
      },
      {
       "output_type": "stream",
       "stream": "stderr",
       "text": [
        "WARNING:sarpy.io.Adata_classes:Need precisely one parameter file *json, found: []\n"
       ]
      },
      {
       "output_type": "stream",
       "stream": "stderr",
       "text": [
        "WARNING:sarpy.io.Adata_classes:Could not load AData\n"
       ]
      },
      {
       "output_type": "stream",
       "stream": "stderr",
       "text": [
        "WARNING:sarpy.io.Adata_classes:Need precisely one parameter file *json, found: []\n"
       ]
      },
      {
       "output_type": "stream",
       "stream": "stderr",
       "text": [
        "WARNING:sarpy.io.Adata_classes:Could not load AData\n"
       ]
      },
      {
       "output_type": "stream",
       "stream": "stderr",
       "text": [
        "WARNING:sarpy.io.Adata_classes:Need precisely one parameter file *json, found: []\n"
       ]
      },
      {
       "output_type": "stream",
       "stream": "stderr",
       "text": [
        "WARNING:sarpy.io.Adata_classes:Could not load AData\n"
       ]
      },
      {
       "output_type": "stream",
       "stream": "stderr",
       "text": [
        "WARNING:sarpy.io.Adata_classes:Need precisely one parameter file *json, found: []\n"
       ]
      },
      {
       "output_type": "stream",
       "stream": "stderr",
       "text": [
        "WARNING:sarpy.io.Adata_classes:Could not load AData\n"
       ]
      },
      {
       "output_type": "stream",
       "stream": "stderr",
       "text": [
        "WARNING:sarpy.io.Adata_classes:Need precisely one parameter file *json, found: []\n"
       ]
      },
      {
       "output_type": "stream",
       "stream": "stderr",
       "text": [
        "WARNING:sarpy.io.Adata_classes:Could not load AData\n"
       ]
      },
      {
       "output_type": "stream",
       "stream": "stderr",
       "text": [
        "WARNING:sarpy.io.Adata_classes:Need precisely one parameter file *json, found: []\n"
       ]
      },
      {
       "output_type": "stream",
       "stream": "stderr",
       "text": [
        "WARNING:sarpy.io.Adata_classes:Could not load AData\n"
       ]
      },
      {
       "output_type": "stream",
       "stream": "stderr",
       "text": [
        "WARNING:sarpy.io.Adata_classes:Need precisely one parameter file *json, found: []\n"
       ]
      },
      {
       "output_type": "stream",
       "stream": "stderr",
       "text": [
        "WARNING:sarpy.io.Adata_classes:Could not load AData\n"
       ]
      },
      {
       "output_type": "stream",
       "stream": "stdout",
       "text": [
        "\n",
        "bulk_transfer_roi: Success. Saved auc60_roi in herS3M21.4b1/23"
       ]
      },
      {
       "output_type": "stream",
       "stream": "stdout",
       "text": [
        "\n",
        "bulk_transfer_roi: Success. Saved auc60_roi in herS3M21.4i1/16"
       ]
      },
      {
       "output_type": "stream",
       "stream": "stdout",
       "text": [
        "\n",
        "bulk_transfer_roi: Success. Saved auc60_roi in herS3M21.441/14"
       ]
      },
      {
       "output_type": "stream",
       "stream": "stdout",
       "text": [
        "\n",
        "bulk_transfer_roi: Success. Saved auc60_roi in herS3M22.3X1/14"
       ]
      },
      {
       "output_type": "stream",
       "stream": "stdout",
       "text": [
        "\n",
        "bulk_transfer_roi: Success. Saved auc60_roi in herS3M22.4b1/12"
       ]
      },
      {
       "output_type": "stream",
       "stream": "stdout",
       "text": [
        "\n",
        "bulk_transfer_roi: Key roblem with roi src scan for study herS3M22.4i1, maybe this study is extra"
       ]
      },
      {
       "output_type": "stream",
       "stream": "stdout",
       "text": [
        "\n",
        "bulk_transfer_roi: auc60 not found in study herS3M22.4i1\n",
        "bulk_transfer_roi: Success. Saved auc60_roi in herS3M22.4i2/19"
       ]
      },
      {
       "output_type": "stream",
       "stream": "stdout",
       "text": [
        "\n",
        "bulk_transfer_roi: auc60 not found in study herS3M22.441"
       ]
      },
      {
       "output_type": "stream",
       "stream": "stdout",
       "text": [
        "\n",
        "bulk_transfer_roi: Success. Saved auc60_roi in herS3M23.3X1/13"
       ]
      },
      {
       "output_type": "stream",
       "stream": "stdout",
       "text": [
        "\n",
        "bulk_transfer_roi: Success. Saved auc60_roi in herS3M23.4b1/14"
       ]
      },
      {
       "output_type": "stream",
       "stream": "stdout",
       "text": [
        "\n",
        "bulk_transfer_roi: Success. Saved auc60_roi in herS3M23.4i1/14"
       ]
      },
      {
       "output_type": "stream",
       "stream": "stdout",
       "text": [
        "\n",
        "bulk_transfer_roi: Success. Saved auc60_roi in herS3M23.441/18"
       ]
      },
      {
       "output_type": "stream",
       "stream": "stdout",
       "text": [
        "\n",
        "Firas: you really need to fix this function so it uses the masterlist\n"
       ]
      }
     ],
     "prompt_number": 4
    },
    {
     "cell_type": "markdown",
     "metadata": {},
     "source": [
      "## Step 5: Perform advanced analyses (requiring ROIs or basic adata)"
     ]
    },
    {
     "cell_type": "code",
     "collapsed": false,
     "input": [
      "adv_analyze_list = []\n",
      "fFlag = False\n",
      "\n",
      "adv_analyze_list.append([ '0-dce', 'ec','auc60_roi',fFlag])\n",
      "adv_analyze_list.append([ '1-dce', 'ec','auc60_roi',fFlag])\n",
      "adv_analyze_list.append([ '2-dce', 'ec','auc60_roi',fFlag])\n",
      "adv_analyze_list.append([ '3-dce', 'ec','auc60_roi',fFlag])\n",
      "adv_analyze_list.append([ '4-dce', 'ec','auc60_roi',fFlag])\n",
      "\n",
      "# T1 map\n",
      "#adv_analyze_list.append([ '0h-DCE1', 'gd_conc','augc60',fFlag])\n",
      "\n",
      "for items in adv_analyze_list:\n",
      "    \n",
      "    if items[1] == 'ec':\n",
      "        sarpy.fmoosvi.wrappers.calc_enhancement_curve(masterlist,\n",
      "                                                      items[0],items[1],\n",
      "                                                      items[2],forceVal=fFlag)\n",
      "#\n",
      "#    if items[3] == 'gd_conc':\n",
      "#        \n",
      "#        sarpy.fmoosvi.wrappers.conc_from_signal(masterlist, items[0],\n",
      "#                                        data_label_T1map = items[1],\n",
      "#                                        adata_label = items[2], \n",
      "#                                        analysis_label = items[3],\n",
      "#                                        forceVal = fFlag)\n",
      "#\n",
      "#    elif items[2] == 'augc60':\n",
      "#        \n",
      "#        sarpy.fmoosvi.wrappers.calc_AUGC(masterlist,\n",
      "#                                         items[0], items[1],\n",
      "#                                         analysis_label=items[2],\n",
      "#                                         forceVal = items[3])"
     ],
     "language": "python",
     "metadata": {},
     "outputs": []
    },
    {
     "cell_type": "code",
     "collapsed": false,
     "input": [
      "print(datetime.now()-startTime)"
     ],
     "language": "python",
     "metadata": {},
     "outputs": []
    },
    {
     "cell_type": "code",
     "collapsed": false,
     "input": [],
     "language": "python",
     "metadata": {},
     "outputs": [],
     "prompt_number": 6
    },
    {
     "cell_type": "code",
     "collapsed": false,
     "input": [],
     "language": "python",
     "metadata": {},
     "outputs": []
    }
   ],
   "metadata": {}
  }
 ]
}