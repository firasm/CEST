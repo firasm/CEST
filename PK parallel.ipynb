{
 "metadata": {
  "name": ""
 },
 "nbformat": 3,
 "nbformat_minor": 0,
 "worksheets": [
  {
   "cells": [
    {
     "cell_type": "code",
     "collapsed": false,
     "input": [
      "import re\n",
      "import time, datetime\n",
      "import sarpy\n",
      "import sarpy.PKanalysis.PKfitlib as PK\n",
      "import sarpy.PKanalysis.PKfitlib_test as PKtest\n",
      "import sarpy.fmoosvi.analysis as sfa\n",
      "\n",
      "def xylim(twoDarr, apply_limits=True):\n",
      "    '''little helper to limit x and y axis if ROI present'''\n",
      "    r=twoDarr.copy()\n",
      "    r[where(isnan(r))]=0\n",
      "    xmin=min(where(sum(r,axis=1)>0)[0])-1\n",
      "    xmax=max(where(sum(r,axis=1)>0)[0])+1\n",
      "    ymin=min(where(sum(r,axis=0)>0)[0])-1\n",
      "    ymax=max(where(sum(r,axis=0)>0)[0])+1\n",
      "    if apply_limits:\n",
      "        ylim(xmin,xmax)\n",
      "        xlim(ymin,ymax)\n",
      "    else:\n",
      "        return (xmin,xmax), (ymin,ymax)\n",
      "\n",
      "def cross_at(idx):\n",
      "    plot([idx[1],idx[1]],[idx[0]-3, idx[0]+3],'k')\n",
      "    plot([idx[1]-3,idx[1]+3],[idx[0], idx[0]],'k')"
     ],
     "language": "python",
     "metadata": {},
     "outputs": [
      {
       "output_type": "stream",
       "stream": "stdout",
       "text": [
        "PKfitlib loaded\n"
       ]
      }
     ],
     "prompt_number": 1
    },
    {
     "cell_type": "markdown",
     "metadata": {},
     "source": [
      "we now have roi, dcedata, t, time_index, dt all set."
     ]
    },
    {
     "cell_type": "code",
     "collapsed": false,
     "input": [
      "mslist='HerS11'"
     ],
     "language": "python",
     "metadata": {},
     "outputs": [],
     "prompt_number": 2
    },
    {
     "cell_type": "code",
     "collapsed": false,
     "input": [
      "def myfunc(dict_of_params):\n",
      "    import sarpy\n",
      "    import sarpy.PKanalysis\n",
      "    import sarpy.PKanalysis.PKfitlib\n",
      "    reload(sarpy.PKanalysis.PKfitlib)\n",
      "\n",
      "    return sarpy.PKanalysis.PKfitlib.fit_scn(**dict_of_params)        \n",
      "\n",
      "analyses_kw={'scan_label':'dce-0ha',\n",
      "             'adata_save_label':'PK_Tofts',\n",
      "             'model_ID':'Tofts',\n",
      "             'use_stitch':True,\n",
      "             'force_overwrite':True}\n",
      "analyses_kwX={'scan_label':'dce-0',\n",
      "             'adata_save_label':'PK_XTofts',\n",
      "             'model_ID':'XTofts',\n",
      "             'use_stitch':True,\n",
      "             'force_overwrite':True}\n",
      "\n",
      "analysisqueue = sarpy.bulk_analyze.ParallelBulkAnalyzerFactory.from_function(myfunc, \n",
      "                                                             ipython_profile='default',\n",
      "                                                             masterlist_fname=mslist,\n",
      "                                                             **analyses_kwX)\n",
      "analyses_kw2CXM={'scan_label':'dce-0ha',\n",
      "             'adata_save_label':'PK_2CXM',\n",
      "             'model_ID':'2CXM',\n",
      "             'use_stitch':True,\n",
      "             'force_overwrite':True}\n",
      "\n",
      "#calculate Ktrans from PS and Fp\n",
      "def Ktrans_from_2CXM(dict_of_params):\n",
      "    import sarpy\n",
      "    import sarpy.PKanalysis\n",
      "    import sarpy.PKanalysis.PKfitlib\n",
      "    reload(sarpy.PKanalysis.PKfitlib)\n",
      "    ret_arr = sarpy.PKanalysis.PKfitlib.fit_scn(**dict_of_params)\n",
      "    ret_arr['_Ktrans'] = ret_arr['_PS']*ret_arr['_Fpl']/(ret_arr['_PS']+ret_arr['_Fpl'])\n",
      "    return ret_arr\n",
      "\n",
      "analysisqueue2 = sarpy.bulk_analyze.ParallelBulkAnalyzerFactory.from_function(Ktrans_from_2CXM, \n",
      "                                                             ipython_profile='default',\n",
      "                                                             masterlist_fname=mslist,\n",
      "                                                             **analyses_kw2CXM)"
     ],
     "language": "python",
     "metadata": {},
     "outputs": [
      {
       "output_type": "stream",
       "stream": "stdout",
       "text": [
        "###########\n",
        "Currently, there are 2 clients running\n",
        "importing os on engine(s)\n",
        "importing sys on engine(s)\n",
        "importing sarpy on engine(s)\n",
        "importing sarpy.fmoosvi.analysis on engine(s)\n",
        "###########\n",
        "###########"
       ]
      },
      {
       "output_type": "stream",
       "stream": "stdout",
       "text": [
        "\n",
        "Currently, there are 2 clients running\n",
        "importing os on engine(s)\n",
        "importing sys on engine(s)\n",
        "importing sarpy on engine(s)\n",
        "importing sarpy.fmoosvi.analysis on engine(s)\n",
        "###########\n"
       ]
      }
     ],
     "prompt_number": 3
    },
    {
     "cell_type": "code",
     "collapsed": false,
     "input": [
      "analysisqueue.process()\n",
      "#analysisqueue2.process()\n"
     ],
     "language": "python",
     "metadata": {},
     "outputs": [
      {
       "output_type": "stream",
       "stream": "stdout",
       "text": [
        "KeyError('gd_conc') for HerS11Bs05.m91/6 \n",
        "KeyError('auc60_roi') for HerS11Bs05.m91/9 "
       ]
      },
      {
       "output_type": "stream",
       "stream": "stdout",
       "text": [
        "\n",
        "PK_XTofts overwritten in HerS11Bs06.m91/6, job id ...0ba7f done on E 0 "
       ]
      },
      {
       "output_type": "stream",
       "stream": "stdout",
       "text": [
        "\n",
        "PK_XTofts overwritten in HerS11Bs06.m91/6, job id ...0ba7f done on E 0 "
       ]
      },
      {
       "output_type": "stream",
       "stream": "stdout",
       "text": [
        "\n",
        "PK_XTofts overwritten in HerS11Bs06.m91/6, job id ...0ba7f done on E 0 "
       ]
      },
      {
       "output_type": "stream",
       "stream": "stdout",
       "text": [
        "\n",
        "PK_XTofts overwritten in HerS11Bs06.m91/6, job id ...0ba7f done on E 0 "
       ]
      },
      {
       "output_type": "stream",
       "stream": "stdout",
       "text": [
        "\n",
        "PK_XTofts overwritten in HerS11Bs05.m91/12, job id ...d1c35 done on E 1 "
       ]
      },
      {
       "output_type": "stream",
       "stream": "stdout",
       "text": [
        "\n",
        "PK_XTofts overwritten in HerS11Bs05.m91/12, job id ...d1c35 done on E 1 "
       ]
      },
      {
       "output_type": "stream",
       "stream": "stdout",
       "text": [
        "\n",
        "PK_XTofts overwritten in HerS11Bs05.m91/12, job id ...d1c35 done on E 1 "
       ]
      },
      {
       "output_type": "stream",
       "stream": "stdout",
       "text": [
        "\n",
        "PK_XTofts overwritten in HerS11Bs05.m91/12, job id ...d1c35 done on E 1 "
       ]
      },
      {
       "output_type": "stream",
       "stream": "stdout",
       "text": [
        "\n",
        "KeyError('gd_conc') for HerS11Bs07.ma2/6 "
       ]
      },
      {
       "output_type": "stream",
       "stream": "stdout",
       "text": [
        "\n",
        "adata PK_XTofts_vp deleted in HerS11Bs06"
       ]
      },
      {
       "output_type": "stream",
       "stream": "stdout",
       "text": [
        "\n",
        "PK_XTofts overwritten in HerS11Bs06.m91/6, job id ...54d5c done on E 0 "
       ]
      },
      {
       "output_type": "stream",
       "stream": "stdout",
       "text": [
        "\n",
        "adata PK_XTofts_Ktrans deleted in HerS11Bs06\n",
        "PK_XTofts overwritten in HerS11Bs06.m91/6, job id ...54d5c done on E 0 "
       ]
      },
      {
       "output_type": "stream",
       "stream": "stdout",
       "text": [
        "\n",
        "adata PK_XTofts_fitdetails deleted in HerS11Bs06\n",
        "PK_XTofts overwritten in HerS11Bs06.m91/6, job id ...54d5c done on E 0 "
       ]
      },
      {
       "output_type": "stream",
       "stream": "stdout",
       "text": [
        "\n",
        "adata PK_XTofts_ve deleted in HerS11Bs06\n",
        "PK_XTofts overwritten in HerS11Bs06.m91/6, job id ...54d5c done on E 0 "
       ]
      },
      {
       "output_type": "stream",
       "stream": "stdout",
       "text": [
        "\n",
        "KeyError('auc60_roi') for HerS11Bs07.ma2/9 "
       ]
      },
      {
       "output_type": "stream",
       "stream": "stdout",
       "text": [
        "\n",
        "KeyError('auc60_roi') for HerS11Bs08.ma1/9 \n",
        "KeyError('gd_conc') for HerS11Bs08.ma1/6 \n",
        "PK_XTofts overwritten in HerS11Bs07.ma2/11, job id ...956be done on E 1 "
       ]
      },
      {
       "output_type": "stream",
       "stream": "stdout",
       "text": [
        "\n",
        "PK_XTofts overwritten in HerS11Bs07.ma2/11, job id ...956be done on E 1 "
       ]
      },
      {
       "output_type": "stream",
       "stream": "stdout",
       "text": [
        "\n",
        "PK_XTofts overwritten in HerS11Bs07.ma2/11, job id ...956be done on E 1 "
       ]
      },
      {
       "output_type": "stream",
       "stream": "stdout",
       "text": [
        "\n",
        "PK_XTofts overwritten in HerS11Bs07.ma2/11, job id ...956be done on E 1 "
       ]
      },
      {
       "output_type": "stream",
       "stream": "stdout",
       "text": [
        "\n",
        "KeyError('auc60_roi') for HerS11Bs09.md1/9 "
       ]
      },
      {
       "output_type": "stream",
       "stream": "stdout",
       "text": [
        "\n",
        "PK_XTofts overwritten in HerS11Bs08.ma1/11, job id ...afe33 done on E 0 "
       ]
      },
      {
       "output_type": "stream",
       "stream": "stdout",
       "text": [
        "\n",
        "PK_XTofts overwritten in HerS11Bs08.ma1/11, job id ...afe33 done on E 0 "
       ]
      },
      {
       "output_type": "stream",
       "stream": "stdout",
       "text": [
        "\n",
        "PK_XTofts overwritten in HerS11Bs08.ma1/11, job id ...afe33 done on E 0 "
       ]
      },
      {
       "output_type": "stream",
       "stream": "stdout",
       "text": [
        "\n",
        "PK_XTofts overwritten in HerS11Bs08.ma1/11, job id ...afe33 done on E 0 "
       ]
      },
      {
       "output_type": "stream",
       "stream": "stdout",
       "text": [
        "\n",
        "KeyError('gd_conc') for HerS11Bs09.md1/6 \n",
        "KeyError('auc60_roi') for HerS11Bs10.md1/9 "
       ]
      },
      {
       "output_type": "stream",
       "stream": "stdout",
       "text": [
        "\n",
        "KeyError('gd_conc') for HerS11Bs10.md1/6 \n",
        "PK_XTofts overwritten in HerS11Bs09.md1/11, job id ...a0c72 done on E 1 "
       ]
      },
      {
       "output_type": "stream",
       "stream": "stdout",
       "text": [
        "\n",
        "PK_XTofts overwritten in HerS11Bs09.md1/11, job id ...a0c72 done on E 1 "
       ]
      },
      {
       "output_type": "stream",
       "stream": "stdout",
       "text": [
        "\n",
        "PK_XTofts overwritten in HerS11Bs09.md1/11, job id ...a0c72 done on E 1 "
       ]
      },
      {
       "output_type": "stream",
       "stream": "stdout",
       "text": [
        "\n",
        "PK_XTofts overwritten in HerS11Bs09.md1/11, job id ...a0c72 done on E 1 "
       ]
      },
      {
       "output_type": "stream",
       "stream": "stdout",
       "text": [
        "\n",
        "KeyError('auc60_roi') for HerS11Bs11.md1/9 "
       ]
      },
      {
       "output_type": "stream",
       "stream": "stdout",
       "text": [
        "\n",
        "PK_XTofts overwritten in HerS11Bs10.md1/11, job id ...677d3 done on E 0 "
       ]
      },
      {
       "output_type": "stream",
       "stream": "stdout",
       "text": [
        "\n",
        "PK_XTofts overwritten in HerS11Bs10.md1/11, job id ...677d3 done on E 0 "
       ]
      },
      {
       "output_type": "stream",
       "stream": "stdout",
       "text": [
        "\n",
        "PK_XTofts overwritten in HerS11Bs10.md1/11, job id ...677d3 done on E 0 "
       ]
      },
      {
       "output_type": "stream",
       "stream": "stdout",
       "text": [
        "\n",
        "PK_XTofts overwritten in HerS11Bs10.md1/11, job id ...677d3 done on E 0 "
       ]
      },
      {
       "output_type": "stream",
       "stream": "stdout",
       "text": [
        "\n",
        "KeyError('gd_conc') for HerS11Bs11.md1/6 "
       ]
      },
      {
       "output_type": "stream",
       "stream": "stdout",
       "text": [
        "\n",
        "KeyError('gd_conc') for HerS11Bs12.me1/6 \n",
        "KeyError('auc60_roi') for HerS11Bs12.me1/9 \n",
        "PK_XTofts overwritten in HerS11Bs12.me1/11, job id ...6844f done on E 0 "
       ]
      },
      {
       "output_type": "stream",
       "stream": "stdout",
       "text": [
        "\n",
        "PK_XTofts overwritten in HerS11Bs12.me1/11, job id ...6844f done on E 0 "
       ]
      },
      {
       "output_type": "stream",
       "stream": "stdout",
       "text": [
        "\n",
        "PK_XTofts overwritten in HerS11Bs12.me1/11, job id ...6844f done on E 0 "
       ]
      },
      {
       "output_type": "stream",
       "stream": "stdout",
       "text": [
        "\n",
        "PK_XTofts overwritten in HerS11Bs12.me1/11, job id ...6844f done on E 0 "
       ]
      },
      {
       "output_type": "stream",
       "stream": "stdout",
       "text": [
        "\n",
        "KeyError('auc60_roi') for HerS11Bs13.me1/9 "
       ]
      },
      {
       "output_type": "stream",
       "stream": "stdout",
       "text": [
        "\n",
        "PK_XTofts overwritten in HerS11Bs11.md1/11, job id ...a16e9 done on E 1 "
       ]
      },
      {
       "output_type": "stream",
       "stream": "stdout",
       "text": [
        "\n",
        "PK_XTofts overwritten in HerS11Bs11.md1/11, job id ...a16e9 done on E 1 "
       ]
      },
      {
       "output_type": "stream",
       "stream": "stdout",
       "text": [
        "\n",
        "PK_XTofts overwritten in HerS11Bs11.md1/11, job id ...a16e9 done on E 1 "
       ]
      },
      {
       "output_type": "stream",
       "stream": "stdout",
       "text": [
        "\n",
        "PK_XTofts overwritten in HerS11Bs11.md1/11, job id ...a16e9 done on E 1 "
       ]
      },
      {
       "output_type": "stream",
       "stream": "stdout",
       "text": [
        "\n",
        "KeyError('gd_conc') for HerS11Bs13.me1/6 "
       ]
      },
      {
       "output_type": "stream",
       "stream": "stdout",
       "text": [
        "\n",
        "KeyError('auc60_roi') for HerS11Bs14.me1/9 \n",
        "KeyError('gd_conc') for HerS11Bs14.me1/6 \n",
        "PK_XTofts overwritten in HerS11Bs13.me1/11, job id ...ec5b1 done on E 0 "
       ]
      },
      {
       "output_type": "stream",
       "stream": "stdout",
       "text": [
        "\n",
        "PK_XTofts overwritten in HerS11Bs13.me1/11, job id ...ec5b1 done on E 0 "
       ]
      },
      {
       "output_type": "stream",
       "stream": "stdout",
       "text": [
        "\n",
        "PK_XTofts overwritten in HerS11Bs13.me1/11, job id ...ec5b1 done on E 0 "
       ]
      },
      {
       "output_type": "stream",
       "stream": "stdout",
       "text": [
        "\n",
        "PK_XTofts overwritten in HerS11Bs13.me1/11, job id ...ec5b1 done on E 0 "
       ]
      },
      {
       "output_type": "stream",
       "stream": "stdout",
       "text": [
        "\n",
        "KeyError('auc60_roi') for HerS11Bs15.me1/9 "
       ]
      },
      {
       "output_type": "stream",
       "stream": "stdout",
       "text": [
        "\n",
        "KeyError('gd_conc') for HerS11Bs15.me1/6 \n",
        "PK_XTofts overwritten in HerS11Bs14.me1/11, job id ...bc695 done on E 1 "
       ]
      },
      {
       "output_type": "stream",
       "stream": "stdout",
       "text": [
        "\n",
        "PK_XTofts overwritten in HerS11Bs14.me1/11, job id ...bc695 done on E 1 "
       ]
      },
      {
       "output_type": "stream",
       "stream": "stdout",
       "text": [
        "\n",
        "PK_XTofts overwritten in HerS11Bs14.me1/11, job id ...bc695 done on E 1 "
       ]
      },
      {
       "output_type": "stream",
       "stream": "stdout",
       "text": [
        "\n",
        "PK_XTofts overwritten in HerS11Bs14.me1/11, job id ...bc695 done on E 1 "
       ]
      },
      {
       "output_type": "stream",
       "stream": "stdout",
       "text": [
        "\n",
        "PK_XTofts overwritten in HerS11Bs15.me1/11, job id ...179d4 done on E 0 "
       ]
      },
      {
       "output_type": "stream",
       "stream": "stdout",
       "text": [
        "\n",
        "PK_XTofts overwritten in HerS11Bs15.me1/11, job id ...179d4 done on E 0 "
       ]
      },
      {
       "output_type": "stream",
       "stream": "stdout",
       "text": [
        "\n",
        "PK_XTofts overwritten in HerS11Bs15.me1/11, job id ...179d4 done on E 0 "
       ]
      },
      {
       "output_type": "stream",
       "stream": "stdout",
       "text": [
        "\n",
        "PK_XTofts overwritten in HerS11Bs15.me1/11, job id ...179d4 done on E 0 "
       ]
      },
      {
       "output_type": "stream",
       "stream": "stdout",
       "text": [
        "\n",
        "###### Parallelized Code: 1003.91717219 s \n",
        "\n"
       ]
      }
     ],
     "prompt_number": 4
    },
    {
     "cell_type": "code",
     "collapsed": false,
     "input": [
      "\n"
     ],
     "language": "python",
     "metadata": {},
     "outputs": []
    },
    {
     "cell_type": "code",
     "collapsed": false,
     "input": [
      "# data (4D) and roi (3D)\n",
      "#scns = sarpy.Experiment('NecS3').find_adata_scans()\n",
      "#scn_nr = 7\n",
      "#print scns['gd_conc'][scn_nr][0]\n",
      "#scn = sarpy.Scan(scns['gd_conc'][scn_nr][0])\n",
      "\n",
      "#scn = sarpy.Experiment('HerS10Do07').find_scan_by_protocol('.*DCE')[0]\n",
      "#scn = sarpy.Scan('NecS3Hs06.iK1/13') # stitched\n",
      "scn = sarpy.Scan('NecS3Hs05.iJ1/10')\n",
      "\n",
      "roi=scn.adata['augc60_roi'].data[:,:,[3]]\n",
      "\n",
      "# find the dt for one scan\n",
      "use_stitch = True\n",
      "if  use_stitch and 'gd_conc_stitched' in scn.adata:\n",
      "    print('using stitched dataset')\n",
      "    dcedata=scn.adata['gd_conc_stitched'].data[:,:,[3],:]\n",
      "    t=scn.adata['gd_conc_stitched_times'].data['fulltime']\n",
      "    time_index = scn.adata['gd_conc_stitched_times'].data['idx'].astype(int)\n",
      "else:\n",
      "    print('not using stitched dataset')\n",
      "    dcedata=scn.adata['gd_conc'].data[:,:,[3],:]\n",
      "    datetime.datetime.fromtimestamp(1374702260)\n",
      "    nreps =  scn.method.PVM_NRepetitions\n",
      "    total_time_s = scn.method.PVM_ScanTimeStr\n",
      "    format = \"%Hh%Mm%Ss%fms\"\n",
      "    acqt=datetime.datetime.strptime(total_time_s,format)\n",
      "    dt = (acqt - datetime.datetime(1900,1,1,0,0,0,0)).total_seconds() / nreps\n",
      "    t = dt*arange(dcedata.shape[-1])\n",
      "    time_index = slice(None)\n",
      "\n",
      "inj_start = dt * sfa.h_inj_point(scn.shortdirname)\n",
      "print('inj start: %lf' % inj_start)\n",
      "idx = (50,80,0)\n",
      "figsize(15,7)\n",
      "subplot(131)\n",
      "imshow(dcedata[:,:,0,10])        # look at frame 10\n",
      "xylim(roi)\n",
      "subplot(132, aspect='auto')\n",
      "plot(t[time_index],dcedata[idx],'b+')\n",
      "#plot(scn.adata['ec'].data[0,:],scn.adata['ec'].data[1,:],'b+')\n",
      "\n",
      "subplot(133)\n",
      "imshow(scn.adata['augc60'].data[:,:,3])\n",
      "xylim(roi)\n",
      "print(roi.shape, dcedata.shape)\n",
      "roi.shape"
     ],
     "language": "python",
     "metadata": {},
     "outputs": [
      {
       "output_type": "stream",
       "stream": "stdout",
       "text": [
        "using stitched dataset\n",
        "inj start: 26.112000"
       ]
      },
      {
       "output_type": "stream",
       "stream": "stdout",
       "text": [
        "\n",
        "((64, 128, 1), (64, 128, 1, 150))"
       ]
      },
      {
       "output_type": "stream",
       "stream": "stdout",
       "text": [
        "\n"
       ]
      },
      {
       "metadata": {},
       "output_type": "pyout",
       "prompt_number": 8,
       "text": [
        "(64, 128, 1)"
       ]
      },
      {
       "metadata": {},
       "output_type": "display_data",
       "png": "[encoded data removed]",
       "text": [
        "<matplotlib.figure.Figure at 0x121150050>"
       ]
      }
     ],
     "prompt_number": 8
    },
    {
     "cell_type": "code",
     "collapsed": false,
     "input": [
      "res = sarpy.PKanalysis.PKfitlib.fit_scn(scn_to_analyse='NecS3Hs14.iM1/13')"
     ],
     "language": "python",
     "metadata": {},
     "outputs": [
      {
       "output_type": "stream",
       "stream": "stderr",
       "text": [
        "/phd/Dropbox/code/python/sarpy/PKanalysis/PKfitlib.py:492: RuntimeWarning: invalid value encountered in add\n",
        "  result = numpy.ndarray(mask.shape+p0.shape, dtype=float) + numpy.NaN\n",
        "/phd/Dropbox/code/python/sarpy/PKanalysis/PKfitlib.py:222: RuntimeWarning: overflow encountered in exp\n",
        "  res = Ktrans*exp(-t*Ktrans/ve)\n"
       ]
      },
      {
       "output_type": "stream",
       "stream": "stderr",
       "text": [
        "/System/Library/Frameworks/Python.framework/Versions/2.7/Extras/lib/python/scipy/optimize/minpack.py:393: RuntimeWarning: Number of calls to function has reached maxfev = 600.\n",
        "  warnings.warn(errors[info][0], RuntimeWarning)\n",
        "/phd/Dropbox/code/python/sarpy/PKanalysis/PKfitlib.py:705: RuntimeWarning: invalid value encountered in greater\n",
        "  fitmask[numpy.where(fitmask>4)]=numpy.NaN\n"
       ]
      },
      {
       "output_type": "stream",
       "stream": "stderr",
       "text": [
        "/phd/Dropbox/code/python/sarpy/PKanalysis/PKfitlib.py:706: RuntimeWarning: invalid value encountered in less\n",
        "  fitmask[numpy.where(fitmask<1)]=numpy.NaN\n"
       ]
      }
     ],
     "prompt_number": 2
    },
    {
     "cell_type": "code",
     "collapsed": false,
     "input": [
      "print res['_Ktrans'].shape, res.keys()\n",
      "subplot(121)\n",
      "imshow(res['_Ktrans'][:,:,3])\n",
      "print res['_fitdetails'].keys(), res['_fitdetails']['success'].shape\n",
      "subplot(122)\n",
      "imshow(res['_fitdetails']['success'][:,:,3])"
     ],
     "language": "python",
     "metadata": {},
     "outputs": [
      {
       "output_type": "stream",
       "stream": "stdout",
       "text": [
        "(64, 128, 6) ['_Ktrans', '_fitdetails', '_ve']\n",
        "['fit', 'success', 'ss', 'rsq', 'AIC']"
       ]
      },
      {
       "output_type": "stream",
       "stream": "stdout",
       "text": [
        " (64, 128, 6)\n"
       ]
      },
      {
       "metadata": {},
       "output_type": "pyout",
       "prompt_number": 3,
       "text": [
        "<matplotlib.image.AxesImage at 0x125d37910>"
       ]
      },
      {
       "metadata": {},
       "output_type": "display_data",
       "png": "[encoded data removed]",
       "text": [
        "<matplotlib.figure.Figure at 0x10e72bb10>"
       ]
      }
     ],
     "prompt_number": 3
    },
    {
     "cell_type": "code",
     "collapsed": false,
     "input": [
      "res['_fitdetails']['result'].shape"
     ],
     "language": "python",
     "metadata": {},
     "outputs": [
      {
       "metadata": {},
       "output_type": "pyout",
       "prompt_number": 4,
       "text": [
        "(64, 128, 6, 2)"
       ]
      }
     ],
     "prompt_number": 4
    },
    {
     "cell_type": "code",
     "collapsed": false,
     "input": [
      "imshow(res['_fitdetails']['result'][:,:,3,0])"
     ],
     "language": "python",
     "metadata": {},
     "outputs": [
      {
       "metadata": {},
       "output_type": "pyout",
       "prompt_number": 5,
       "text": [
        "<matplotlib.image.AxesImage at 0x1256a84d0>"
       ]
      },
      {
       "metadata": {},
       "output_type": "display_data",
       "png": "[encoded data removed]",
       "text": [
        "<matplotlib.figure.Figure at 0x10f3d6850>"
       ]
      }
     ],
     "prompt_number": 5
    },
    {
     "cell_type": "code",
     "collapsed": false,
     "input": [],
     "language": "python",
     "metadata": {},
     "outputs": []
    }
   ],
   "metadata": {}
  }
 ]
}