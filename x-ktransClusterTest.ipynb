{
 "metadata": {
  "name": ""
 },
 "nbformat": 3,
 "nbformat_minor": 0,
 "worksheets": [
  {
   "cells": [
    {
     "cell_type": "code",
     "collapsed": false,
     "input": [
      "import sarpy\n",
      "import sarpy.fmoosvi.analysis\n",
      "\n",
      "import time"
     ],
     "language": "python",
     "metadata": {},
     "outputs": [],
     "prompt_number": 2
    },
    {
     "cell_type": "code",
     "collapsed": false,
     "input": [
      "model = '2cxm'\n",
      "bbox = numpy.array([20,21,60,61])\n",
      "initial_guess = [.8, 1.9, 0.8, 0.05]\n",
      "#scan = sarpy.Scan('NecS3Hs02.iK1/14')\n",
      "scan = sarpy.Scan('NecS3Hs04.iK2/23')\n",
      "dicr = sarpy.fmoosvi.analysis.h_fit_PK(scan, model=model,bbox=bbox,initial_guess=initial_guess)\n",
      "data,inj_point,img_size,bbox,aif, time_points,model,initial_guess,bounds = dicr\n",
      "\n",
      "args = dict(data=data,inj_point=inj_point,img_size=img_size,bbox=bbox,aif=aif, time_points=time_points,model=model,initial_guess=initial_guess,bounds=bounds)\n"
     ],
     "language": "python",
     "metadata": {},
     "outputs": [
      {
       "output_type": "stream",
       "stream": "stdout",
       "text": [
        "Could not find the injection point, possibly okay0\n",
        "Could not find the injection point, possibly okay1\n",
        "Could not find the injection point, possibly okay2\n",
        "Could not find the injection point, possibly okay3\n"
       ]
      }
     ],
     "prompt_number": 3
    },
    {
     "cell_type": "markdown",
     "metadata": {},
     "source": [
      "### Load balanced view, running it parallell-y"
     ]
    },
    {
     "cell_type": "code",
     "collapsed": false,
     "input": [
      "from IPython.parallel import Client\n",
      "from IPython.parallel.util import interactive\n",
      "\n",
      "c = Client(profile='sarlab')\n",
      "dview = c[:]\n",
      "\n",
      "print c.ids"
     ],
     "language": "python",
     "metadata": {},
     "outputs": [
      {
       "output_type": "stream",
       "stream": "stdout",
       "text": [
        "[0, 1, 2, 3, 4, 5, 6, 7, 8, 9, 10, 11, 12, 13, 14, 15]\n"
       ]
      }
     ],
     "prompt_number": 4
    },
    {
     "cell_type": "code",
     "collapsed": false,
     "input": [
      "map_list = []\n",
      "\n",
      "for x in xrange(bbox[0],bbox[1]+1):\n",
      "    for y in xrange(bbox[2],bbox[3]+1):\n",
      "        for z in xrange(img_size[2]):\n",
      "            map_list.append((x,y,z))\n",
      "\n",
      "#for x in xrange(img_size[0]):\n",
      "#    for y in xrange(img_size[1]):\n",
      "#        for z in xrange(img_size[2]):\n",
      "#            map_list.append((x,y,z))\n",
      "\n",
      "\n",
      "# http://stackoverflow.com/questions/10857250/python-name-space-issues-with-ipython-parallel\n",
      "func = interactive(lambda xyz:sarpy.fmoosvi.analysis.h_fit_PKhelper(xyz,data=data,inj_point = inj_point,\n",
      "                                                        aif=aif, time_points=time_points,model=model,\n",
      "                                                        initial_guess=initial_guess,bounds=bounds))\n",
      "\n",
      "with dview.sync_imports():\n",
      "    import sarpy\n",
      "    import os\n",
      "    import sarpy.fmoosvi.parallel\n",
      "    import sys\n",
      "    import sarpy.fmoosvi.analysis\n",
      "    \n",
      "dview.push(args)\n",
      "\n",
      "dview.execute('reload(sarpy.fmoosvi.analysis)')"
     ],
     "language": "python",
     "metadata": {},
     "outputs": [
      {
       "output_type": "stream",
       "stream": "stdout",
       "text": [
        "importing sarpy on engine(s)\n",
        "importing os on engine(s)\n",
        "importing sarpy.fmoosvi.parallel on engine(s)\n",
        "importing sys on engine(s)\n",
        "importing sarpy.fmoosvi.analysis on engine(s)\n"
       ]
      },
      {
       "metadata": {},
       "output_type": "pyout",
       "prompt_number": 5,
       "text": [
        "<AsyncResult: execute>"
       ]
      }
     ],
     "prompt_number": 5
    },
    {
     "cell_type": "code",
     "collapsed": false,
     "input": [
      "start1 = time.time()\n",
      "\n",
      "lv = c.load_balanced_view()   # this object represents the engines (workers)\n",
      "lv.block = True\n",
      "\n",
      "coord = lv.map(func, map_list)\n",
      "end1 = time.time()\n",
      "\n",
      "print 'With parallelization : {0} s'.format(end1 - start1)"
     ],
     "language": "python",
     "metadata": {},
     "outputs": [
      {
       "ename": "CompositeError",
       "evalue": "one or more exceptions from call to method: <lambda>\n[13:apply]: ValueError: operands could not be broadcast together with shapes (61) (99) \n[11:apply]: ValueError: operands could not be broadcast together with shapes (61) (99) \n[4:apply]: ValueError: operands could not be broadcast together with shapes (61) (99) \n[8:apply]: ValueError: operands could not be broadcast together with shapes (61) (99) \n.... 8 more exceptions ...",
       "output_type": "pyerr",
       "traceback": [
        "[13:apply]: ",
        "\u001b[1;31m---------------------------------------------------------------------------\u001b[0m",
        "\u001b[1;31mValueError\u001b[0m                                Traceback (most recent call last)\u001b[1;32m<string>\u001b[0m in \u001b[0;36m<module>\u001b[1;34m()\u001b[0m",
        "\u001b[1;32m<ipython-input-5-a853bb5f1066>\u001b[0m in \u001b[0;36m<lambda>\u001b[1;34m(xyz)\u001b[0m",
        "\u001b[1;32m/home/fmoosvi/sarpy/fmoosvi/analysis.pyc\u001b[0m in \u001b[0;36mh_fit_PKhelper\u001b[1;34m(xyz, data, inj_point, aif, time_points, model, initial_guess, bounds)\u001b[0m",
        "\u001b[0;32m    600\u001b[0m                     \u001b[1;34m'bic'\u001b[0m \u001b[1;33m:\u001b[0m \u001b[0mBIC\u001b[0m\u001b[1;33m,\u001b[0m\u001b[1;33m\u001b[0m\u001b[0m",
        "\u001b[0;32m    601\u001b[0m                     \u001b[1;34m'fitted_ctr'\u001b[0m \u001b[1;33m:\u001b[0m \u001b[0mfitted_ctr\u001b[0m\u001b[1;33m,\u001b[0m\u001b[1;33m\u001b[0m\u001b[0m",
        "\u001b[1;32m--> 602\u001b[1;33m                     \u001b[1;34m'ss_err'\u001b[0m \u001b[1;33m:\u001b[0m \u001b[0mss_err\u001b[0m\u001b[1;33m\u001b[0m\u001b[0m",
        "\u001b[0m\u001b[0;32m    603\u001b[0m                     }",
        "\u001b[0;32m    604\u001b[0m \u001b[1;33m\u001b[0m\u001b[0m",
        "\u001b[1;32m/home/fmoosvi/sarpy/fmoosvi/PKlib.pyc\u001b[0m in \u001b[0;36mPKfit\u001b[1;34m(aif, targetfunc, time, model, initial_params, method, bounds, brute_ranges)\u001b[0m",
        "\u001b[0;32m    126\u001b[0m                                             \u001b[0mlower\u001b[0m\u001b[1;33m=\u001b[0m\u001b[1;33m[\u001b[0m\u001b[0mi\u001b[0m\u001b[1;33m[\u001b[0m\u001b[1;36m0\u001b[0m\u001b[1;33m]\u001b[0m \u001b[1;32mfor\u001b[0m \u001b[0mi\u001b[0m \u001b[1;32min\u001b[0m \u001b[0mbounds\u001b[0m\u001b[1;33m]\u001b[0m\u001b[1;33m,\u001b[0m\u001b[0;31m\\\u001b[0m\u001b[1;33m\u001b[0m\u001b[0m",
        "\u001b[0;32m    127\u001b[0m                                             \u001b[0mupper\u001b[0m\u001b[1;33m=\u001b[0m\u001b[1;33m[\u001b[0m\u001b[0mi\u001b[0m\u001b[1;33m[\u001b[0m\u001b[1;36m1\u001b[0m\u001b[1;33m]\u001b[0m \u001b[1;32mfor\u001b[0m \u001b[0mi\u001b[0m \u001b[1;32min\u001b[0m \u001b[0mbounds\u001b[0m\u001b[1;33m]\u001b[0m\u001b[1;33m,\u001b[0m\u001b[0;31m\\\u001b[0m\u001b[1;33m\u001b[0m\u001b[0m",
        "\u001b[1;32m--> 128\u001b[1;33m                                             dwell=1000)",
        "\u001b[0m\u001b[0;32m    129\u001b[0m \u001b[1;31m#        print(feval, iters, retval, T)\u001b[0m\u001b[1;33m\u001b[0m\u001b[1;33m\u001b[0m\u001b[0m",
        "\u001b[0;32m    130\u001b[0m \u001b[1;33m\u001b[0m\u001b[0m",
        "\u001b[1;32m/usr/lib/python2.7/dist-packages/scipy/optimize/anneal.pyc\u001b[0m in \u001b[0;36manneal\u001b[1;34m(func, x0, args, schedule, full_output, T0, Tf, maxeval, maxaccept, maxiter, boltzmann, learn_rate, feps, quench, m, n, lower, upper, dwell)\u001b[0m",
        "\u001b[0;32m    291\u001b[0m     \u001b[0mcurrent_state\u001b[0m\u001b[1;33m,\u001b[0m \u001b[0mlast_state\u001b[0m\u001b[1;33m,\u001b[0m \u001b[0mbest_state\u001b[0m \u001b[1;33m=\u001b[0m \u001b[0m_state\u001b[0m\u001b[1;33m(\u001b[0m\u001b[1;33m)\u001b[0m\u001b[1;33m,\u001b[0m \u001b[0m_state\u001b[0m\u001b[1;33m(\u001b[0m\u001b[1;33m)\u001b[0m\u001b[1;33m,\u001b[0m \u001b[0m_state\u001b[0m\u001b[1;33m(\u001b[0m\u001b[1;33m)\u001b[0m\u001b[1;33m\u001b[0m\u001b[0m",
        "\u001b[0;32m    292\u001b[0m     \u001b[1;32mif\u001b[0m \u001b[0mT0\u001b[0m \u001b[1;32mis\u001b[0m \u001b[0mNone\u001b[0m\u001b[1;33m:\u001b[0m\u001b[1;33m\u001b[0m\u001b[0m",
        "\u001b[1;32m--> 293\u001b[1;33m         \u001b[0mx0\u001b[0m \u001b[1;33m=\u001b[0m \u001b[0mschedule\u001b[0m\u001b[1;33m.\u001b[0m\u001b[0mgetstart_temp\u001b[0m\u001b[1;33m(\u001b[0m\u001b[0mbest_state\u001b[0m\u001b[1;33m)\u001b[0m\u001b[1;33m\u001b[0m\u001b[0m",
        "\u001b[0m\u001b[0;32m    294\u001b[0m     \u001b[1;32melse\u001b[0m\u001b[1;33m:\u001b[0m\u001b[1;33m\u001b[0m\u001b[0m",
        "\u001b[0;32m    295\u001b[0m         \u001b[0mbest_state\u001b[0m\u001b[1;33m.\u001b[0m\u001b[0mx\u001b[0m \u001b[1;33m=\u001b[0m \u001b[0mNone\u001b[0m\u001b[1;33m\u001b[0m\u001b[0m",
        "\u001b[1;32m/usr/lib/python2.7/dist-packages/scipy/optimize/anneal.pyc\u001b[0m in \u001b[0;36mgetstart_temp\u001b[1;34m(self, best_state)\u001b[0m",
        "\u001b[0;32m     58\u001b[0m         \u001b[1;32mfor\u001b[0m \u001b[0m_\u001b[0m \u001b[1;32min\u001b[0m \u001b[0mrange\u001b[0m\u001b[1;33m(\u001b[0m\u001b[0mself\u001b[0m\u001b[1;33m.\u001b[0m\u001b[0mNinit\u001b[0m\u001b[1;33m)\u001b[0m\u001b[1;33m:\u001b[0m\u001b[1;33m\u001b[0m\u001b[0m",
        "\u001b[0;32m     59\u001b[0m             \u001b[0mx0\u001b[0m \u001b[1;33m=\u001b[0m \u001b[0mrandom\u001b[0m\u001b[1;33m.\u001b[0m\u001b[0muniform\u001b[0m\u001b[1;33m(\u001b[0m\u001b[0msize\u001b[0m\u001b[1;33m=\u001b[0m\u001b[0mself\u001b[0m\u001b[1;33m.\u001b[0m\u001b[0mdims\u001b[0m\u001b[1;33m)\u001b[0m\u001b[1;33m*\u001b[0m\u001b[1;33m(\u001b[0m\u001b[0murange\u001b[0m\u001b[1;33m-\u001b[0m\u001b[0mlrange\u001b[0m\u001b[1;33m)\u001b[0m \u001b[1;33m+\u001b[0m \u001b[0mlrange\u001b[0m\u001b[1;33m\u001b[0m\u001b[0m",
        "\u001b[1;32m---> 60\u001b[1;33m             \u001b[0mfval\u001b[0m \u001b[1;33m=\u001b[0m \u001b[0mself\u001b[0m\u001b[1;33m.\u001b[0m\u001b[0mfunc\u001b[0m\u001b[1;33m(\u001b[0m\u001b[0mx0\u001b[0m\u001b[1;33m,\u001b[0m \u001b[1;33m*\u001b[0m\u001b[0mself\u001b[0m\u001b[1;33m.\u001b[0m\u001b[0margs\u001b[0m\u001b[1;33m)\u001b[0m\u001b[1;33m\u001b[0m\u001b[0m",
        "\u001b[0m\u001b[0;32m     61\u001b[0m             \u001b[0mself\u001b[0m\u001b[1;33m.\u001b[0m\u001b[0mfeval\u001b[0m \u001b[1;33m+=\u001b[0m \u001b[1;36m1\u001b[0m\u001b[1;33m\u001b[0m\u001b[0m",
        "\u001b[0;32m     62\u001b[0m             \u001b[1;32mif\u001b[0m \u001b[0mfval\u001b[0m \u001b[1;33m>\u001b[0m \u001b[0mfmax\u001b[0m\u001b[1;33m:\u001b[0m\u001b[1;33m\u001b[0m\u001b[0m",
        "\u001b[1;32m/home/fmoosvi/sarpy/fmoosvi/PKlib.pyc\u001b[0m in \u001b[0;36merrorfunc\u001b[1;34m(params, time, aif)\u001b[0m",
        "\u001b[0;32m    102\u001b[0m \u001b[1;31m#                print(sum(abs(targetfunc - PKmodel(params, time, aif, model))**2))\u001b[0m\u001b[1;33m\u001b[0m\u001b[1;33m\u001b[0m\u001b[0m",
        "\u001b[0;32m    103\u001b[0m \u001b[1;31m#                print('in')\u001b[0m\u001b[1;33m\u001b[0m\u001b[1;33m\u001b[0m\u001b[0m",
        "\u001b[1;32m--> 104\u001b[1;33m                 \u001b[1;32mreturn\u001b[0m \u001b[0msum\u001b[0m\u001b[1;33m(\u001b[0m\u001b[0mabs\u001b[0m\u001b[1;33m(\u001b[0m\u001b[0mtargetfunc\u001b[0m \u001b[1;33m-\u001b[0m \u001b[0mPKmodel\u001b[0m\u001b[1;33m(\u001b[0m\u001b[0mparams\u001b[0m\u001b[1;33m,\u001b[0m \u001b[0mtime\u001b[0m\u001b[1;33m,\u001b[0m \u001b[0maif\u001b[0m\u001b[1;33m,\u001b[0m \u001b[0mmodel\u001b[0m\u001b[1;33m)\u001b[0m\u001b[1;33m)\u001b[0m\u001b[1;33m**\u001b[0m\u001b[1;36m2\u001b[0m\u001b[1;33m)\u001b[0m\u001b[1;33m\u001b[0m\u001b[0m",
        "\u001b[0m\u001b[0;32m    105\u001b[0m             \u001b[1;32melse\u001b[0m\u001b[1;33m:\u001b[0m\u001b[1;33m\u001b[0m\u001b[0m",
        "\u001b[0;32m    106\u001b[0m \u001b[1;31m#                print('out')\u001b[0m\u001b[1;33m\u001b[0m\u001b[1;33m\u001b[0m\u001b[0m",
        "\u001b[1;31mValueError\u001b[0m: operands could not be broadcast together with shapes (61) (99) ",
        "",
        "[11:apply]: ",
        "\u001b[1;31m---------------------------------------------------------------------------\u001b[0m",
        "\u001b[1;31mValueError\u001b[0m                                Traceback (most recent call last)\u001b[1;32m<string>\u001b[0m in \u001b[0;36m<module>\u001b[1;34m()\u001b[0m",
        "\u001b[1;32m<ipython-input-5-a853bb5f1066>\u001b[0m in \u001b[0;36m<lambda>\u001b[1;34m(xyz)\u001b[0m",
        "\u001b[1;32m/home/fmoosvi/sarpy/fmoosvi/analysis.pyc\u001b[0m in \u001b[0;36mh_fit_PKhelper\u001b[1;34m(xyz, data, inj_point, aif, time_points, model, initial_guess, bounds)\u001b[0m",
        "\u001b[0;32m    600\u001b[0m                     \u001b[1;34m'bic'\u001b[0m \u001b[1;33m:\u001b[0m \u001b[0mBIC\u001b[0m\u001b[1;33m,\u001b[0m\u001b[1;33m\u001b[0m\u001b[0m",
        "\u001b[0;32m    601\u001b[0m                     \u001b[1;34m'fitted_ctr'\u001b[0m \u001b[1;33m:\u001b[0m \u001b[0mfitted_ctr\u001b[0m\u001b[1;33m,\u001b[0m\u001b[1;33m\u001b[0m\u001b[0m",
        "\u001b[1;32m--> 602\u001b[1;33m                     \u001b[1;34m'ss_err'\u001b[0m \u001b[1;33m:\u001b[0m \u001b[0mss_err\u001b[0m\u001b[1;33m\u001b[0m\u001b[0m",
        "\u001b[0m\u001b[0;32m    603\u001b[0m                     }",
        "\u001b[0;32m    604\u001b[0m \u001b[1;33m\u001b[0m\u001b[0m",
        "\u001b[1;32m/home/fmoosvi/sarpy/fmoosvi/PKlib.pyc\u001b[0m in \u001b[0;36mPKfit\u001b[1;34m(aif, targetfunc, time, model, initial_params, method, bounds, brute_ranges)\u001b[0m",
        "\u001b[0;32m    126\u001b[0m                                             \u001b[0mlower\u001b[0m\u001b[1;33m=\u001b[0m\u001b[1;33m[\u001b[0m\u001b[0mi\u001b[0m\u001b[1;33m[\u001b[0m\u001b[1;36m0\u001b[0m\u001b[1;33m]\u001b[0m \u001b[1;32mfor\u001b[0m \u001b[0mi\u001b[0m \u001b[1;32min\u001b[0m \u001b[0mbounds\u001b[0m\u001b[1;33m]\u001b[0m\u001b[1;33m,\u001b[0m\u001b[0;31m\\\u001b[0m\u001b[1;33m\u001b[0m\u001b[0m",
        "\u001b[0;32m    127\u001b[0m                                             \u001b[0mupper\u001b[0m\u001b[1;33m=\u001b[0m\u001b[1;33m[\u001b[0m\u001b[0mi\u001b[0m\u001b[1;33m[\u001b[0m\u001b[1;36m1\u001b[0m\u001b[1;33m]\u001b[0m \u001b[1;32mfor\u001b[0m \u001b[0mi\u001b[0m \u001b[1;32min\u001b[0m \u001b[0mbounds\u001b[0m\u001b[1;33m]\u001b[0m\u001b[1;33m,\u001b[0m\u001b[0;31m\\\u001b[0m\u001b[1;33m\u001b[0m\u001b[0m",
        "\u001b[1;32m--> 128\u001b[1;33m                                             dwell=1000)",
        "\u001b[0m\u001b[0;32m    129\u001b[0m \u001b[1;31m#        print(feval, iters, retval, T)\u001b[0m\u001b[1;33m\u001b[0m\u001b[1;33m\u001b[0m\u001b[0m",
        "\u001b[0;32m    130\u001b[0m \u001b[1;33m\u001b[0m\u001b[0m",
        "\u001b[1;32m/usr/lib/python2.7/dist-packages/scipy/optimize/anneal.pyc\u001b[0m in \u001b[0;36manneal\u001b[1;34m(func, x0, args, schedule, full_output, T0, Tf, maxeval, maxaccept, maxiter, boltzmann, learn_rate, feps, quench, m, n, lower, upper, dwell)\u001b[0m",
        "\u001b[0;32m    291\u001b[0m     \u001b[0mcurrent_state\u001b[0m\u001b[1;33m,\u001b[0m \u001b[0mlast_state\u001b[0m\u001b[1;33m,\u001b[0m \u001b[0mbest_state\u001b[0m \u001b[1;33m=\u001b[0m \u001b[0m_state\u001b[0m\u001b[1;33m(\u001b[0m\u001b[1;33m)\u001b[0m\u001b[1;33m,\u001b[0m \u001b[0m_state\u001b[0m\u001b[1;33m(\u001b[0m\u001b[1;33m)\u001b[0m\u001b[1;33m,\u001b[0m \u001b[0m_state\u001b[0m\u001b[1;33m(\u001b[0m\u001b[1;33m)\u001b[0m\u001b[1;33m\u001b[0m\u001b[0m",
        "\u001b[0;32m    292\u001b[0m     \u001b[1;32mif\u001b[0m \u001b[0mT0\u001b[0m \u001b[1;32mis\u001b[0m \u001b[0mNone\u001b[0m\u001b[1;33m:\u001b[0m\u001b[1;33m\u001b[0m\u001b[0m",
        "\u001b[1;32m--> 293\u001b[1;33m         \u001b[0mx0\u001b[0m \u001b[1;33m=\u001b[0m \u001b[0mschedule\u001b[0m\u001b[1;33m.\u001b[0m\u001b[0mgetstart_temp\u001b[0m\u001b[1;33m(\u001b[0m\u001b[0mbest_state\u001b[0m\u001b[1;33m)\u001b[0m\u001b[1;33m\u001b[0m\u001b[0m",
        "\u001b[0m\u001b[0;32m    294\u001b[0m     \u001b[1;32melse\u001b[0m\u001b[1;33m:\u001b[0m\u001b[1;33m\u001b[0m\u001b[0m",
        "\u001b[0;32m    295\u001b[0m         \u001b[0mbest_state\u001b[0m\u001b[1;33m.\u001b[0m\u001b[0mx\u001b[0m \u001b[1;33m=\u001b[0m \u001b[0mNone\u001b[0m\u001b[1;33m\u001b[0m\u001b[0m",
        "\u001b[1;32m/usr/lib/python2.7/dist-packages/scipy/optimize/anneal.pyc\u001b[0m in \u001b[0;36mgetstart_temp\u001b[1;34m(self, best_state)\u001b[0m",
        "\u001b[0;32m     58\u001b[0m         \u001b[1;32mfor\u001b[0m \u001b[0m_\u001b[0m \u001b[1;32min\u001b[0m \u001b[0mrange\u001b[0m\u001b[1;33m(\u001b[0m\u001b[0mself\u001b[0m\u001b[1;33m.\u001b[0m\u001b[0mNinit\u001b[0m\u001b[1;33m)\u001b[0m\u001b[1;33m:\u001b[0m\u001b[1;33m\u001b[0m\u001b[0m",
        "\u001b[0;32m     59\u001b[0m             \u001b[0mx0\u001b[0m \u001b[1;33m=\u001b[0m \u001b[0mrandom\u001b[0m\u001b[1;33m.\u001b[0m\u001b[0muniform\u001b[0m\u001b[1;33m(\u001b[0m\u001b[0msize\u001b[0m\u001b[1;33m=\u001b[0m\u001b[0mself\u001b[0m\u001b[1;33m.\u001b[0m\u001b[0mdims\u001b[0m\u001b[1;33m)\u001b[0m\u001b[1;33m*\u001b[0m\u001b[1;33m(\u001b[0m\u001b[0murange\u001b[0m\u001b[1;33m-\u001b[0m\u001b[0mlrange\u001b[0m\u001b[1;33m)\u001b[0m \u001b[1;33m+\u001b[0m \u001b[0mlrange\u001b[0m\u001b[1;33m\u001b[0m\u001b[0m",
        "\u001b[1;32m---> 60\u001b[1;33m             \u001b[0mfval\u001b[0m \u001b[1;33m=\u001b[0m \u001b[0mself\u001b[0m\u001b[1;33m.\u001b[0m\u001b[0mfunc\u001b[0m\u001b[1;33m(\u001b[0m\u001b[0mx0\u001b[0m\u001b[1;33m,\u001b[0m \u001b[1;33m*\u001b[0m\u001b[0mself\u001b[0m\u001b[1;33m.\u001b[0m\u001b[0margs\u001b[0m\u001b[1;33m)\u001b[0m\u001b[1;33m\u001b[0m\u001b[0m",
        "\u001b[0m\u001b[0;32m     61\u001b[0m             \u001b[0mself\u001b[0m\u001b[1;33m.\u001b[0m\u001b[0mfeval\u001b[0m \u001b[1;33m+=\u001b[0m \u001b[1;36m1\u001b[0m\u001b[1;33m\u001b[0m\u001b[0m",
        "\u001b[0;32m     62\u001b[0m             \u001b[1;32mif\u001b[0m \u001b[0mfval\u001b[0m \u001b[1;33m>\u001b[0m \u001b[0mfmax\u001b[0m\u001b[1;33m:\u001b[0m\u001b[1;33m\u001b[0m\u001b[0m",
        "\u001b[1;32m/home/fmoosvi/sarpy/fmoosvi/PKlib.pyc\u001b[0m in \u001b[0;36merrorfunc\u001b[1;34m(params, time, aif)\u001b[0m",
        "\u001b[0;32m    102\u001b[0m \u001b[1;31m#                print(sum(abs(targetfunc - PKmodel(params, time, aif, model))**2))\u001b[0m\u001b[1;33m\u001b[0m\u001b[1;33m\u001b[0m\u001b[0m",
        "\u001b[0;32m    103\u001b[0m \u001b[1;31m#                print('in')\u001b[0m\u001b[1;33m\u001b[0m\u001b[1;33m\u001b[0m\u001b[0m",
        "\u001b[1;32m--> 104\u001b[1;33m                 \u001b[1;32mreturn\u001b[0m \u001b[0msum\u001b[0m\u001b[1;33m(\u001b[0m\u001b[0mabs\u001b[0m\u001b[1;33m(\u001b[0m\u001b[0mtargetfunc\u001b[0m \u001b[1;33m-\u001b[0m \u001b[0mPKmodel\u001b[0m\u001b[1;33m(\u001b[0m\u001b[0mparams\u001b[0m\u001b[1;33m,\u001b[0m \u001b[0mtime\u001b[0m\u001b[1;33m,\u001b[0m \u001b[0maif\u001b[0m\u001b[1;33m,\u001b[0m \u001b[0mmodel\u001b[0m\u001b[1;33m)\u001b[0m\u001b[1;33m)\u001b[0m\u001b[1;33m**\u001b[0m\u001b[1;36m2\u001b[0m\u001b[1;33m)\u001b[0m\u001b[1;33m\u001b[0m\u001b[0m",
        "\u001b[0m\u001b[0;32m    105\u001b[0m             \u001b[1;32melse\u001b[0m\u001b[1;33m:\u001b[0m\u001b[1;33m\u001b[0m\u001b[0m",
        "\u001b[0;32m    106\u001b[0m \u001b[1;31m#                print('out')\u001b[0m\u001b[1;33m\u001b[0m\u001b[1;33m\u001b[0m\u001b[0m",
        "\u001b[1;31mValueError\u001b[0m: operands could not be broadcast together with shapes (61) (99) ",
        "",
        "[4:apply]: ",
        "\u001b[1;31m---------------------------------------------------------------------------\u001b[0m",
        "\u001b[1;31mValueError\u001b[0m                                Traceback (most recent call last)\u001b[1;32m<string>\u001b[0m in \u001b[0;36m<module>\u001b[1;34m()\u001b[0m",
        "\u001b[1;32m<ipython-input-5-a853bb5f1066>\u001b[0m in \u001b[0;36m<lambda>\u001b[1;34m(xyz)\u001b[0m",
        "\u001b[1;32m/home/fmoosvi/sarpy/fmoosvi/analysis.pyc\u001b[0m in \u001b[0;36mh_fit_PKhelper\u001b[1;34m(xyz, data, inj_point, aif, time_points, model, initial_guess, bounds)\u001b[0m",
        "\u001b[0;32m    590\u001b[0m                                                      \u001b[0minitial_params\u001b[0m \u001b[1;33m=\u001b[0m \u001b[0minitial_guess\u001b[0m\u001b[1;33m,\u001b[0m\u001b[1;33m\u001b[0m\u001b[0m",
        "\u001b[0;32m    591\u001b[0m                                                      \u001b[0mbounds\u001b[0m \u001b[1;33m=\u001b[0m \u001b[0mbounds\u001b[0m\u001b[1;33m,\u001b[0m\u001b[1;33m\u001b[0m\u001b[0m",
        "\u001b[1;32m--> 592\u001b[1;33m                                                      brute_ranges = None)",
        "\u001b[0m\u001b[0;32m    593\u001b[0m \u001b[1;33m\u001b[0m\u001b[0m",
        "\u001b[0;32m    594\u001b[0m         \u001b[1;31m#TODO: IMPLEMENT GOODNESS OF FIT FOR PKM fits\u001b[0m\u001b[1;33m\u001b[0m\u001b[1;33m\u001b[0m\u001b[0m",
        "\u001b[1;32m/home/fmoosvi/sarpy/fmoosvi/PKlib.pyc\u001b[0m in \u001b[0;36mPKfit\u001b[1;34m(aif, targetfunc, time, model, initial_params, method, bounds, brute_ranges)\u001b[0m",
        "\u001b[0;32m    126\u001b[0m                                             \u001b[0mlower\u001b[0m\u001b[1;33m=\u001b[0m\u001b[1;33m[\u001b[0m\u001b[0mi\u001b[0m\u001b[1;33m[\u001b[0m\u001b[1;36m0\u001b[0m\u001b[1;33m]\u001b[0m \u001b[1;32mfor\u001b[0m \u001b[0mi\u001b[0m \u001b[1;32min\u001b[0m \u001b[0mbounds\u001b[0m\u001b[1;33m]\u001b[0m\u001b[1;33m,\u001b[0m\u001b[0;31m\\\u001b[0m\u001b[1;33m\u001b[0m\u001b[0m",
        "\u001b[0;32m    127\u001b[0m                                             \u001b[0mupper\u001b[0m\u001b[1;33m=\u001b[0m\u001b[1;33m[\u001b[0m\u001b[0mi\u001b[0m\u001b[1;33m[\u001b[0m\u001b[1;36m1\u001b[0m\u001b[1;33m]\u001b[0m \u001b[1;32mfor\u001b[0m \u001b[0mi\u001b[0m \u001b[1;32min\u001b[0m \u001b[0mbounds\u001b[0m\u001b[1;33m]\u001b[0m\u001b[1;33m,\u001b[0m\u001b[0;31m\\\u001b[0m\u001b[1;33m\u001b[0m\u001b[0m",
        "\u001b[1;32m--> 128\u001b[1;33m                                             dwell=1000)",
        "\u001b[0m\u001b[0;32m    129\u001b[0m \u001b[1;31m#        print(feval, iters, retval, T)\u001b[0m\u001b[1;33m\u001b[0m\u001b[1;33m\u001b[0m\u001b[0m",
        "\u001b[0;32m    130\u001b[0m \u001b[1;33m\u001b[0m\u001b[0m",
        "\u001b[1;32m/usr/lib/python2.7/dist-packages/scipy/optimize/anneal.pyc\u001b[0m in \u001b[0;36manneal\u001b[1;34m(func, x0, args, schedule, full_output, T0, Tf, maxeval, maxaccept, maxiter, boltzmann, learn_rate, feps, quench, m, n, lower, upper, dwell, disp)\u001b[0m",
        "\u001b[0;32m    304\u001b[0m             'disp'      : disp}",
        "\u001b[0;32m    305\u001b[0m \u001b[1;33m\u001b[0m\u001b[0m",
        "\u001b[1;32m--> 306\u001b[1;33m     \u001b[0mres\u001b[0m \u001b[1;33m=\u001b[0m \u001b[0m_minimize_anneal\u001b[0m\u001b[1;33m(\u001b[0m\u001b[0mfunc\u001b[0m\u001b[1;33m,\u001b[0m \u001b[0mx0\u001b[0m\u001b[1;33m,\u001b[0m \u001b[0margs\u001b[0m\u001b[1;33m,\u001b[0m \u001b[1;33m**\u001b[0m\u001b[0mopts\u001b[0m\u001b[1;33m)\u001b[0m\u001b[1;33m\u001b[0m\u001b[0m",
        "\u001b[0m\u001b[0;32m    307\u001b[0m \u001b[1;33m\u001b[0m\u001b[0m",
        "\u001b[0;32m    308\u001b[0m     \u001b[1;32mif\u001b[0m \u001b[0mfull_output\u001b[0m\u001b[1;33m:\u001b[0m\u001b[1;33m\u001b[0m\u001b[0m",
        "\u001b[1;32m/usr/lib/python2.7/dist-packages/scipy/optimize/anneal.pyc\u001b[0m in \u001b[0;36m_minimize_anneal\u001b[1;34m(func, x0, args, schedule, T0, Tf, maxfev, maxaccept, maxiter, boltzmann, learn_rate, ftol, quench, m, n, lower, upper, dwell, disp, **unknown_options)\u001b[0m",
        "\u001b[0;32m    372\u001b[0m     \u001b[0mcurrent_state\u001b[0m\u001b[1;33m,\u001b[0m \u001b[0mlast_state\u001b[0m\u001b[1;33m,\u001b[0m \u001b[0mbest_state\u001b[0m \u001b[1;33m=\u001b[0m \u001b[0m_state\u001b[0m\u001b[1;33m(\u001b[0m\u001b[1;33m)\u001b[0m\u001b[1;33m,\u001b[0m \u001b[0m_state\u001b[0m\u001b[1;33m(\u001b[0m\u001b[1;33m)\u001b[0m\u001b[1;33m,\u001b[0m \u001b[0m_state\u001b[0m\u001b[1;33m(\u001b[0m\u001b[1;33m)\u001b[0m\u001b[1;33m\u001b[0m\u001b[0m",
        "\u001b[0;32m    373\u001b[0m     \u001b[1;32mif\u001b[0m \u001b[0mT0\u001b[0m \u001b[1;32mis\u001b[0m \u001b[0mNone\u001b[0m\u001b[1;33m:\u001b[0m\u001b[1;33m\u001b[0m\u001b[0m",
        "\u001b[1;32m--> 374\u001b[1;33m         \u001b[0mx0\u001b[0m \u001b[1;33m=\u001b[0m \u001b[0mschedule\u001b[0m\u001b[1;33m.\u001b[0m\u001b[0mgetstart_temp\u001b[0m\u001b[1;33m(\u001b[0m\u001b[0mbest_state\u001b[0m\u001b[1;33m)\u001b[0m\u001b[1;33m\u001b[0m\u001b[0m",
        "\u001b[0m\u001b[0;32m    375\u001b[0m     \u001b[1;32melse\u001b[0m\u001b[1;33m:\u001b[0m\u001b[1;33m\u001b[0m\u001b[0m",
        "\u001b[0;32m    376\u001b[0m         \u001b[0mbest_state\u001b[0m\u001b[1;33m.\u001b[0m\u001b[0mx\u001b[0m \u001b[1;33m=\u001b[0m \u001b[0mNone\u001b[0m\u001b[1;33m\u001b[0m\u001b[0m",
        "\u001b[1;32m/usr/lib/python2.7/dist-packages/scipy/optimize/anneal.pyc\u001b[0m in \u001b[0;36mgetstart_temp\u001b[1;34m(self, best_state)\u001b[0m",
        "\u001b[0;32m     58\u001b[0m         \u001b[1;32mfor\u001b[0m \u001b[0m_\u001b[0m \u001b[1;32min\u001b[0m \u001b[0mrange\u001b[0m\u001b[1;33m(\u001b[0m\u001b[0mself\u001b[0m\u001b[1;33m.\u001b[0m\u001b[0mNinit\u001b[0m\u001b[1;33m)\u001b[0m\u001b[1;33m:\u001b[0m\u001b[1;33m\u001b[0m\u001b[0m",
        "\u001b[0;32m     59\u001b[0m             \u001b[0mx0\u001b[0m \u001b[1;33m=\u001b[0m \u001b[0mrandom\u001b[0m\u001b[1;33m.\u001b[0m\u001b[0muniform\u001b[0m\u001b[1;33m(\u001b[0m\u001b[0msize\u001b[0m\u001b[1;33m=\u001b[0m\u001b[0mself\u001b[0m\u001b[1;33m.\u001b[0m\u001b[0mdims\u001b[0m\u001b[1;33m)\u001b[0m\u001b[1;33m*\u001b[0m\u001b[1;33m(\u001b[0m\u001b[0murange\u001b[0m\u001b[1;33m-\u001b[0m\u001b[0mlrange\u001b[0m\u001b[1;33m)\u001b[0m \u001b[1;33m+\u001b[0m \u001b[0mlrange\u001b[0m\u001b[1;33m\u001b[0m\u001b[0m",
        "\u001b[1;32m---> 60\u001b[1;33m             \u001b[0mfval\u001b[0m \u001b[1;33m=\u001b[0m \u001b[0mself\u001b[0m\u001b[1;33m.\u001b[0m\u001b[0mfunc\u001b[0m\u001b[1;33m(\u001b[0m\u001b[0mx0\u001b[0m\u001b[1;33m,\u001b[0m \u001b[1;33m*\u001b[0m\u001b[0mself\u001b[0m\u001b[1;33m.\u001b[0m\u001b[0margs\u001b[0m\u001b[1;33m)\u001b[0m\u001b[1;33m\u001b[0m\u001b[0m",
        "\u001b[0m\u001b[0;32m     61\u001b[0m             \u001b[0mself\u001b[0m\u001b[1;33m.\u001b[0m\u001b[0mfeval\u001b[0m \u001b[1;33m+=\u001b[0m \u001b[1;36m1\u001b[0m\u001b[1;33m\u001b[0m\u001b[0m",
        "\u001b[0;32m     62\u001b[0m             \u001b[1;32mif\u001b[0m \u001b[0mfval\u001b[0m \u001b[1;33m>\u001b[0m \u001b[0mfmax\u001b[0m\u001b[1;33m:\u001b[0m\u001b[1;33m\u001b[0m\u001b[0m",
        "\u001b[1;32m/home/fmoosvi/sarpy/fmoosvi/PKlib.pyc\u001b[0m in \u001b[0;36merrorfunc\u001b[1;34m(params, time, aif)\u001b[0m",
        "\u001b[0;32m    102\u001b[0m \u001b[1;31m#                print(sum(abs(targetfunc - PKmodel(params, time, aif, model))**2))\u001b[0m\u001b[1;33m\u001b[0m\u001b[1;33m\u001b[0m\u001b[0m",
        "\u001b[0;32m    103\u001b[0m \u001b[1;31m#                print('in')\u001b[0m\u001b[1;33m\u001b[0m\u001b[1;33m\u001b[0m\u001b[0m",
        "\u001b[1;32m--> 104\u001b[1;33m                 \u001b[1;32mreturn\u001b[0m \u001b[0msum\u001b[0m\u001b[1;33m(\u001b[0m\u001b[0mabs\u001b[0m\u001b[1;33m(\u001b[0m\u001b[0mtargetfunc\u001b[0m \u001b[1;33m-\u001b[0m \u001b[0mPKmodel\u001b[0m\u001b[1;33m(\u001b[0m\u001b[0mparams\u001b[0m\u001b[1;33m,\u001b[0m \u001b[0mtime\u001b[0m\u001b[1;33m,\u001b[0m \u001b[0maif\u001b[0m\u001b[1;33m,\u001b[0m \u001b[0mmodel\u001b[0m\u001b[1;33m)\u001b[0m\u001b[1;33m)\u001b[0m\u001b[1;33m**\u001b[0m\u001b[1;36m2\u001b[0m\u001b[1;33m)\u001b[0m\u001b[1;33m\u001b[0m\u001b[0m",
        "\u001b[0m\u001b[0;32m    105\u001b[0m             \u001b[1;32melse\u001b[0m\u001b[1;33m:\u001b[0m\u001b[1;33m\u001b[0m\u001b[0m",
        "\u001b[0;32m    106\u001b[0m \u001b[1;31m#                print('out')\u001b[0m\u001b[1;33m\u001b[0m\u001b[1;33m\u001b[0m\u001b[0m",
        "\u001b[1;31mValueError\u001b[0m: operands could not be broadcast together with shapes (61) (99) ",
        "",
        "[8:apply]: ",
        "\u001b[1;31m---------------------------------------------------------------------------\u001b[0m",
        "\u001b[1;31mValueError\u001b[0m                                Traceback (most recent call last)\u001b[1;32m<string>\u001b[0m in \u001b[0;36m<module>\u001b[1;34m()\u001b[0m",
        "\u001b[1;32m<ipython-input-5-a853bb5f1066>\u001b[0m in \u001b[0;36m<lambda>\u001b[1;34m(xyz)\u001b[0m",
        "\u001b[1;32m/home/fmoosvi/sarpy/fmoosvi/analysis.pyc\u001b[0m in \u001b[0;36mh_fit_PKhelper\u001b[1;34m(xyz, data, inj_point, aif, time_points, model, initial_guess, bounds)\u001b[0m",
        "\u001b[0;32m    600\u001b[0m                     \u001b[1;34m'bic'\u001b[0m \u001b[1;33m:\u001b[0m \u001b[0mBIC\u001b[0m\u001b[1;33m,\u001b[0m\u001b[1;33m\u001b[0m\u001b[0m",
        "\u001b[0;32m    601\u001b[0m                     \u001b[1;34m'fitted_ctr'\u001b[0m \u001b[1;33m:\u001b[0m \u001b[0mfitted_ctr\u001b[0m\u001b[1;33m,\u001b[0m\u001b[1;33m\u001b[0m\u001b[0m",
        "\u001b[1;32m--> 602\u001b[1;33m                     \u001b[1;34m'ss_err'\u001b[0m \u001b[1;33m:\u001b[0m \u001b[0mss_err\u001b[0m\u001b[1;33m\u001b[0m\u001b[0m",
        "\u001b[0m\u001b[0;32m    603\u001b[0m                     }",
        "\u001b[0;32m    604\u001b[0m \u001b[1;33m\u001b[0m\u001b[0m",
        "\u001b[1;32m/home/fmoosvi/sarpy/fmoosvi/PKlib.pyc\u001b[0m in \u001b[0;36mPKfit\u001b[1;34m(aif, targetfunc, time, model, initial_params, method, bounds, brute_ranges)\u001b[0m",
        "\u001b[0;32m    126\u001b[0m                                             \u001b[0mlower\u001b[0m\u001b[1;33m=\u001b[0m\u001b[1;33m[\u001b[0m\u001b[0mi\u001b[0m\u001b[1;33m[\u001b[0m\u001b[1;36m0\u001b[0m\u001b[1;33m]\u001b[0m \u001b[1;32mfor\u001b[0m \u001b[0mi\u001b[0m \u001b[1;32min\u001b[0m \u001b[0mbounds\u001b[0m\u001b[1;33m]\u001b[0m\u001b[1;33m,\u001b[0m\u001b[0;31m\\\u001b[0m\u001b[1;33m\u001b[0m\u001b[0m",
        "\u001b[0;32m    127\u001b[0m                                             \u001b[0mupper\u001b[0m\u001b[1;33m=\u001b[0m\u001b[1;33m[\u001b[0m\u001b[0mi\u001b[0m\u001b[1;33m[\u001b[0m\u001b[1;36m1\u001b[0m\u001b[1;33m]\u001b[0m \u001b[1;32mfor\u001b[0m \u001b[0mi\u001b[0m \u001b[1;32min\u001b[0m \u001b[0mbounds\u001b[0m\u001b[1;33m]\u001b[0m\u001b[1;33m,\u001b[0m\u001b[0;31m\\\u001b[0m\u001b[1;33m\u001b[0m\u001b[0m",
        "\u001b[1;32m--> 128\u001b[1;33m                                             dwell=1000)",
        "\u001b[0m\u001b[0;32m    129\u001b[0m \u001b[1;31m#        print(feval, iters, retval, T)\u001b[0m\u001b[1;33m\u001b[0m\u001b[1;33m\u001b[0m\u001b[0m",
        "\u001b[0;32m    130\u001b[0m \u001b[1;33m\u001b[0m\u001b[0m",
        "\u001b[1;32m/usr/lib/python2.7/dist-packages/scipy/optimize/anneal.pyc\u001b[0m in \u001b[0;36manneal\u001b[1;34m(func, x0, args, schedule, full_output, T0, Tf, maxeval, maxaccept, maxiter, boltzmann, learn_rate, feps, quench, m, n, lower, upper, dwell)\u001b[0m",
        "\u001b[0;32m    291\u001b[0m     \u001b[0mcurrent_state\u001b[0m\u001b[1;33m,\u001b[0m \u001b[0mlast_state\u001b[0m\u001b[1;33m,\u001b[0m \u001b[0mbest_state\u001b[0m \u001b[1;33m=\u001b[0m \u001b[0m_state\u001b[0m\u001b[1;33m(\u001b[0m\u001b[1;33m)\u001b[0m\u001b[1;33m,\u001b[0m \u001b[0m_state\u001b[0m\u001b[1;33m(\u001b[0m\u001b[1;33m)\u001b[0m\u001b[1;33m,\u001b[0m \u001b[0m_state\u001b[0m\u001b[1;33m(\u001b[0m\u001b[1;33m)\u001b[0m\u001b[1;33m\u001b[0m\u001b[0m",
        "\u001b[0;32m    292\u001b[0m     \u001b[1;32mif\u001b[0m \u001b[0mT0\u001b[0m \u001b[1;32mis\u001b[0m \u001b[0mNone\u001b[0m\u001b[1;33m:\u001b[0m\u001b[1;33m\u001b[0m\u001b[0m",
        "\u001b[1;32m--> 293\u001b[1;33m         \u001b[0mx0\u001b[0m \u001b[1;33m=\u001b[0m \u001b[0mschedule\u001b[0m\u001b[1;33m.\u001b[0m\u001b[0mgetstart_temp\u001b[0m\u001b[1;33m(\u001b[0m\u001b[0mbest_state\u001b[0m\u001b[1;33m)\u001b[0m\u001b[1;33m\u001b[0m\u001b[0m",
        "\u001b[0m\u001b[0;32m    294\u001b[0m     \u001b[1;32melse\u001b[0m\u001b[1;33m:\u001b[0m\u001b[1;33m\u001b[0m\u001b[0m",
        "\u001b[0;32m    295\u001b[0m         \u001b[0mbest_state\u001b[0m\u001b[1;33m.\u001b[0m\u001b[0mx\u001b[0m \u001b[1;33m=\u001b[0m \u001b[0mNone\u001b[0m\u001b[1;33m\u001b[0m\u001b[0m",
        "\u001b[1;32m/usr/lib/python2.7/dist-packages/scipy/optimize/anneal.pyc\u001b[0m in \u001b[0;36mgetstart_temp\u001b[1;34m(self, best_state)\u001b[0m",
        "\u001b[0;32m     58\u001b[0m         \u001b[1;32mfor\u001b[0m \u001b[0m_\u001b[0m \u001b[1;32min\u001b[0m \u001b[0mrange\u001b[0m\u001b[1;33m(\u001b[0m\u001b[0mself\u001b[0m\u001b[1;33m.\u001b[0m\u001b[0mNinit\u001b[0m\u001b[1;33m)\u001b[0m\u001b[1;33m:\u001b[0m\u001b[1;33m\u001b[0m\u001b[0m",
        "\u001b[0;32m     59\u001b[0m             \u001b[0mx0\u001b[0m \u001b[1;33m=\u001b[0m \u001b[0mrandom\u001b[0m\u001b[1;33m.\u001b[0m\u001b[0muniform\u001b[0m\u001b[1;33m(\u001b[0m\u001b[0msize\u001b[0m\u001b[1;33m=\u001b[0m\u001b[0mself\u001b[0m\u001b[1;33m.\u001b[0m\u001b[0mdims\u001b[0m\u001b[1;33m)\u001b[0m\u001b[1;33m*\u001b[0m\u001b[1;33m(\u001b[0m\u001b[0murange\u001b[0m\u001b[1;33m-\u001b[0m\u001b[0mlrange\u001b[0m\u001b[1;33m)\u001b[0m \u001b[1;33m+\u001b[0m \u001b[0mlrange\u001b[0m\u001b[1;33m\u001b[0m\u001b[0m",
        "\u001b[1;32m---> 60\u001b[1;33m             \u001b[0mfval\u001b[0m \u001b[1;33m=\u001b[0m \u001b[0mself\u001b[0m\u001b[1;33m.\u001b[0m\u001b[0mfunc\u001b[0m\u001b[1;33m(\u001b[0m\u001b[0mx0\u001b[0m\u001b[1;33m,\u001b[0m \u001b[1;33m*\u001b[0m\u001b[0mself\u001b[0m\u001b[1;33m.\u001b[0m\u001b[0margs\u001b[0m\u001b[1;33m)\u001b[0m\u001b[1;33m\u001b[0m\u001b[0m",
        "\u001b[0m\u001b[0;32m     61\u001b[0m             \u001b[0mself\u001b[0m\u001b[1;33m.\u001b[0m\u001b[0mfeval\u001b[0m \u001b[1;33m+=\u001b[0m \u001b[1;36m1\u001b[0m\u001b[1;33m\u001b[0m\u001b[0m",
        "\u001b[0;32m     62\u001b[0m             \u001b[1;32mif\u001b[0m \u001b[0mfval\u001b[0m \u001b[1;33m>\u001b[0m \u001b[0mfmax\u001b[0m\u001b[1;33m:\u001b[0m\u001b[1;33m\u001b[0m\u001b[0m",
        "\u001b[1;32m/home/fmoosvi/sarpy/fmoosvi/PKlib.pyc\u001b[0m in \u001b[0;36merrorfunc\u001b[1;34m(params, time, aif)\u001b[0m",
        "\u001b[0;32m    102\u001b[0m \u001b[1;31m#                print(sum(abs(targetfunc - PKmodel(params, time, aif, model))**2))\u001b[0m\u001b[1;33m\u001b[0m\u001b[1;33m\u001b[0m\u001b[0m",
        "\u001b[0;32m    103\u001b[0m \u001b[1;31m#                print('in')\u001b[0m\u001b[1;33m\u001b[0m\u001b[1;33m\u001b[0m\u001b[0m",
        "\u001b[1;32m--> 104\u001b[1;33m                 \u001b[1;32mreturn\u001b[0m \u001b[0msum\u001b[0m\u001b[1;33m(\u001b[0m\u001b[0mabs\u001b[0m\u001b[1;33m(\u001b[0m\u001b[0mtargetfunc\u001b[0m \u001b[1;33m-\u001b[0m \u001b[0mPKmodel\u001b[0m\u001b[1;33m(\u001b[0m\u001b[0mparams\u001b[0m\u001b[1;33m,\u001b[0m \u001b[0mtime\u001b[0m\u001b[1;33m,\u001b[0m \u001b[0maif\u001b[0m\u001b[1;33m,\u001b[0m \u001b[0mmodel\u001b[0m\u001b[1;33m)\u001b[0m\u001b[1;33m)\u001b[0m\u001b[1;33m**\u001b[0m\u001b[1;36m2\u001b[0m\u001b[1;33m)\u001b[0m\u001b[1;33m\u001b[0m\u001b[0m",
        "\u001b[0m\u001b[0;32m    105\u001b[0m             \u001b[1;32melse\u001b[0m\u001b[1;33m:\u001b[0m\u001b[1;33m\u001b[0m\u001b[0m",
        "\u001b[0;32m    106\u001b[0m \u001b[1;31m#                print('out')\u001b[0m\u001b[1;33m\u001b[0m\u001b[1;33m\u001b[0m\u001b[0m",
        "\u001b[1;31mValueError\u001b[0m: operands could not be broadcast together with shapes (61) (99) ",
        "",
        "... 8 more exceptions ..."
       ]
      }
     ],
     "prompt_number": 6
    },
    {
     "cell_type": "code",
     "collapsed": false,
     "input": [
      "testarr2 = numpy.empty([img_size[0],img_size[1],img_size[2]],dtype=dict)\n",
      "testarr2[:] = numpy.nan\n",
      "\n",
      "for coo in coord:\n",
      "    testarr2[coo[0][0],coo[0][1],coo[0][2]]=coo[1]"
     ],
     "language": "python",
     "metadata": {},
     "outputs": [],
     "prompt_number": 8
    },
    {
     "cell_type": "code",
     "collapsed": false,
     "input": [
      "testarr2[21,60,3]"
     ],
     "language": "python",
     "metadata": {},
     "outputs": [
      {
       "metadata": {},
       "output_type": "pyout",
       "prompt_number": 10,
       "text": [
        "{'aic': -466.4615315656547,\n",
        " 'bic': -457.13796954113451,\n",
        " 'fit_params': array([ 0.47669495,  2.2935366 ,  0.98999998,  0.20205457]),\n",
        " 'fitted_ctr': array([ 0.        ,  0.02110073,  0.05557487,  0.10077696,  0.15555826,\n",
        "        0.21922544,  0.28560354,  0.29295705,  0.28636326,  0.27758677,\n",
        "        0.26931427,  0.26192068,  0.25528693,  0.24924787,  0.24367857,\n",
        "        0.23849543,  0.23364342,  0.22908511,  0.22479357,  0.22074811,\n",
        "        0.21693179,  0.2133301 ,  0.20993011,  0.20672006,  0.20368909,\n",
        "        0.20082706,  0.19812448,  0.19557243,  0.19316249,  0.19088674,\n",
        "        0.18873771,  0.18670832,  0.18479193,  0.18298223,  0.18127329,\n",
        "        0.1796595 ,  0.17813555,  0.17669645,  0.17533747,  0.17405415,\n",
        "        0.17284228,  0.17169789,  0.1706172 ,  0.16959668,  0.16863299,\n",
        "        0.16772294,  0.16686356,  0.16605203,  0.16528568,  0.16456199,\n",
        "        0.1638786 ,  0.16323326,  0.16262384,  0.16204835,  0.16150491,\n",
        "        0.16099172,  0.1605071 ,  0.16004946,  0.15961731,  0.15920921,\n",
        "        0.15882383,  0.15845991,  0.15811625,  0.15779173,  0.15748527,\n",
        "        0.15719587,  0.15692259,  0.15666452,  0.15642082,  0.15619068,\n",
        "        0.15597336,  0.15576814,  0.15557435,  0.15539134,  0.15521853,\n",
        "        0.15505533,  0.15490122,  0.15475569,  0.15461826,  0.15448849,\n",
        "        0.15436594,  0.15425021,  0.15414093,  0.15403773,  0.15394027,\n",
        "        0.15384824]),\n",
        " 'rsquared': 0.31082480783607658,\n",
        " 'ss_err': 0.34356140068453866}"
       ]
      }
     ],
     "prompt_number": 10
    },
    {
     "cell_type": "markdown",
     "metadata": {},
     "source": [
      "### Now to run it serially\n"
     ]
    },
    {
     "cell_type": "code",
     "collapsed": false,
     "input": [
      "start2 = time.time()\n",
      "testarr2 = numpy.empty([img_size[0],img_size[1],img_size[2]],dtype=object)\n",
      "\n",
      "for x in xrange(img_size[0]):\n",
      "    for y in xrange(img_size[1]):\n",
      "        for z in xrange(img_size[2]):\n",
      "            xyz = (x,y,z)\n",
      "            ser = sarpy.fmoosvi.analysis.h_fit_PKhelper(xyz,data,inj_point = inj_point, bbox=bbox,\n",
      "                                                        aif=aif, time_points=time_points,model=model,\n",
      "                                                        initial_guess=initial_guess,bounds=bounds)\n",
      "            testarr2[x,y,z] = ser[1]\n",
      "\n",
      "end2 = time.time()\n",
      "print 'Without parallelization : {0} s'.format(end2 - start2)"
     ],
     "language": "python",
     "metadata": {},
     "outputs": [
      {
       "output_type": "stream",
       "stream": "stdout",
       "text": [
        "Warning: Cooled to 2.151175 at [ 0.13101836  7.32996214  0.98999741  0.29991028] but this is not the smallest point found.\n",
        "Warning: Cooled to 1.875976 at [ 0.99984343  1.85338365  0.97604733  0.20285712] but this is not the smallest point found."
       ]
      },
      {
       "output_type": "stream",
       "stream": "stdout",
       "text": [
        "\n",
        "Warning: Cooled to 2.294781 at [ 0.13827844  7.7281795   0.98774871  0.23843121] but this is not the smallest point found."
       ]
      },
      {
       "output_type": "stream",
       "stream": "stdout",
       "text": [
        "\n",
        "Warning: Cooled to 18.302133 at [ 0.42870838  5.203638    0.97448491  0.2973983 ] but this is not the smallest point found."
       ]
      },
      {
       "output_type": "stream",
       "stream": "stdout",
       "text": [
        "\n",
        "Warning: Cooled to 184.135884 at [ 0.18367753  7.64415337  0.8901839   0.28085147] but this is not the smallest point found."
       ]
      },
      {
       "output_type": "stream",
       "stream": "stdout",
       "text": [
        "\n",
        "Without parallelization : 3522.8154521 s"
       ]
      },
      {
       "output_type": "stream",
       "stream": "stdout",
       "text": [
        "\n"
       ]
      }
     ],
     "prompt_number": 5
    },
    {
     "cell_type": "code",
     "collapsed": false,
     "input": [
      "numpy.array_equal(testarr,testarr2)"
     ],
     "language": "python",
     "metadata": {},
     "outputs": [
      {
       "metadata": {},
       "output_type": "pyout",
       "prompt_number": 9,
       "text": [
        "False"
       ]
      }
     ],
     "prompt_number": 9
    },
    {
     "cell_type": "code",
     "collapsed": false,
     "input": [
      "testarr2.shape"
     ],
     "language": "python",
     "metadata": {},
     "outputs": [
      {
       "metadata": {},
       "output_type": "pyout",
       "prompt_number": 10,
       "text": [
        "(64, 128, 6)"
       ]
      }
     ],
     "prompt_number": 10
    },
    {
     "cell_type": "code",
     "collapsed": false,
     "input": [
      "testarr.shape"
     ],
     "language": "python",
     "metadata": {},
     "outputs": [
      {
       "metadata": {},
       "output_type": "pyout",
       "prompt_number": 11,
       "text": [
        "(64, 128, 6)"
       ]
      }
     ],
     "prompt_number": 11
    },
    {
     "cell_type": "code",
     "collapsed": false,
     "input": [
      "testarr[20,60,3]"
     ],
     "language": "python",
     "metadata": {},
     "outputs": [
      {
       "metadata": {},
       "output_type": "pyout",
       "prompt_number": 12,
       "text": [
        "{'aic': -496.50132505035765,\n",
        " 'bic': -487.17776302583746,\n",
        " 'fit_params': array([ 0.99989744,  0.78929335,  0.78575446,  0.12372429]),\n",
        " 'fitted_ctr': array([ 0.        ,  0.00726156,  0.02144933,  0.04224392,  0.06934069,\n",
        "        0.10244905,  0.13935297,  0.15808654,  0.16693091,  0.17042046,\n",
        "        0.17103757,  0.17013997,  0.16846911,  0.16642878,  0.16423779,\n",
        "        0.16201367,  0.15981857,  0.15768439,  0.15562653,  0.15365144,\n",
        "        0.1517608 ,  0.14995369,  0.14822792,  0.14658063,  0.14500869,\n",
        "        0.14350892,  0.14207812,  0.14071319,  0.13941115,  0.13816912,\n",
        "        0.13698434,  0.13585418,  0.13477613,  0.13374779,  0.13276686,\n",
        "        0.13183117,  0.13093861,  0.13008722,  0.12927508,  0.12850039,\n",
        "        0.12776143,  0.12705653,  0.12638414,  0.12574276,  0.12513094,\n",
        "        0.12454734,  0.12399065,  0.12345963,  0.1229531 ,  0.12246992,\n",
        "        0.12200902,  0.12156937,  0.12115   ,  0.12074996,  0.12036837,\n",
        "        0.12000438,  0.11965717,  0.11932596,  0.11901004,  0.11870867,\n",
        "        0.11842121,  0.118147  ,  0.11788543,  0.11763593,  0.11739793,\n",
        "        0.1171709 ,  0.11695434,  0.11674777,  0.11655072,  0.11636276,\n",
        "        0.11618347,  0.11601244,  0.1158493 ,  0.11569368,  0.11554524,\n",
        "        0.11540364,  0.11526857,  0.11513973,  0.11501683,  0.1148996 ,\n",
        "        0.11478777,  0.1146811 ,  0.11457935,  0.11448229,  0.11438971,\n",
        "        0.11430139]),\n",
        " 'rsquared': 0.28020108695746548,\n",
        " 'ss_err': 0.24227317737214679}"
       ]
      }
     ],
     "prompt_number": 12
    },
    {
     "cell_type": "code",
     "collapsed": false,
     "input": [
      "numpy.array_equal(testarr2[20,60,3],testarr[20,60,3])"
     ],
     "language": "python",
     "metadata": {},
     "outputs": [
      {
       "metadata": {},
       "output_type": "pyout",
       "prompt_number": 14,
       "text": [
        "False"
       ]
      }
     ],
     "prompt_number": 14
    },
    {
     "cell_type": "code",
     "collapsed": false,
     "input": [
      "diff = set(testarr2[20,60,3].keys()) - set(testarr[20,60,3].keys())"
     ],
     "language": "python",
     "metadata": {},
     "outputs": [],
     "prompt_number": 15
    },
    {
     "cell_type": "code",
     "collapsed": false,
     "input": [
      "diff"
     ],
     "language": "python",
     "metadata": {},
     "outputs": [
      {
       "metadata": {},
       "output_type": "pyout",
       "prompt_number": 16,
       "text": [
        "set()"
       ]
      }
     ],
     "prompt_number": 16
    },
    {
     "cell_type": "code",
     "collapsed": false,
     "input": [],
     "language": "python",
     "metadata": {},
     "outputs": []
    }
   ],
   "metadata": {}
  }
 ]
}