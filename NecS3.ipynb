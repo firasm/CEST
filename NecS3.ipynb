{
 "metadata": {
  "name": ""
 },
 "nbformat": 3,
 "nbformat_minor": 0,
 "worksheets": [
  {
   "cells": [
    {
     "cell_type": "markdown",
     "metadata": {},
     "source": [
      "### Basic Analyses"
     ]
    },
    {
     "cell_type": "code",
     "collapsed": false,
     "input": [
      "import sarpy\n",
      "import sarpy.io\n",
      "import sarpy.io.bulk_analyze\n",
      "import sarpy.fmoosvi.analysis\n",
      "import sarpy.io.masterlist\n",
      "import sarpy.fmoosvi.wrappers\n",
      "import collections\n",
      "import os\n",
      "\n",
      "masterlist = 'NecS3'\n",
      "config_file = 'NecS3/NecS3.config'"
     ],
     "language": "python",
     "metadata": {},
     "outputs": [],
     "prompt_number": 1
    },
    {
     "cell_type": "code",
     "collapsed": false,
     "input": [
      "sarpy.io.masterlist.generate(conf_file=config_file)"
     ],
     "language": "python",
     "metadata": {},
     "outputs": [
      {
       "output_type": "stream",
       "stream": "stdout",
       "text": [
        "loading config file NecS3/NecS3.config\n",
        "NecS3Hs02"
       ]
      },
      {
       "output_type": "stream",
       "stream": "stdout",
       "text": [
        "\n",
        "\t warning (SCAN #1 not found amongst the 04_ubcLL2) \"LL-24h+\" for NecS3Hs02"
       ]
      },
      {
       "output_type": "stream",
       "stream": "stdout",
       "text": [
        "\n",
        "NecS3Hs04\n",
        "\t warning (SCAN #1 not found amongst the 04_ubcLL2) \"LL-24h+\" for NecS3Hs04"
       ]
      },
      {
       "output_type": "stream",
       "stream": "stdout",
       "text": [
        "\n",
        "NecS3Hs05"
       ]
      },
      {
       "output_type": "stream",
       "stream": "stdout",
       "text": [
        "\n",
        "\t warning (SCAN #1 not found amongst the 04_ubcLL2) \"LL-24h+\" for NecS3Hs05"
       ]
      },
      {
       "output_type": "stream",
       "stream": "stdout",
       "text": [
        "\n",
        "NecS3Hs06\n",
        "\t warning (SCAN #1 not found amongst the 04_ubcLL2) \"LL-24h+\" for NecS3Hs06"
       ]
      },
      {
       "output_type": "stream",
       "stream": "stdout",
       "text": [
        "\n",
        "NecS3Hs08\n",
        "\t warning (SCAN #1 not found amongst the 05_IR-RARE-anatomy) \"IR-0h+\" for NecS3Hs08"
       ]
      },
      {
       "output_type": "stream",
       "stream": "stdout",
       "text": [
        "\n",
        "\t warning (SCAN #-2 not found amongst the 06_FLASH2D.6sl-DCE) \"dce-0ha\" for NecS3Hs08\n",
        "\t warning (SCAN #-1 not found amongst the 06_FLASH2D.6sl-DCE) \"dce-0hb\" for NecS3Hs08\n",
        "\t warning (SCAN #1 not found amongst the 04_ubcLL2) \"LL-24h+\" for NecS3Hs08"
       ]
      },
      {
       "output_type": "stream",
       "stream": "stdout",
       "text": [
        "\n",
        "NecS3Hs09\n",
        "\t warning (SCAN #1 not found amongst the 05_IR-RARE-anatomy) \"IR-0h+\" for NecS3Hs09"
       ]
      },
      {
       "output_type": "stream",
       "stream": "stdout",
       "text": [
        "\n",
        "\t warning (SCAN #-2 not found amongst the 06_FLASH2D.6sl-DCE) \"dce-0ha\" for NecS3Hs09\n",
        "\t warning (SCAN #-1 not found amongst the 06_FLASH2D.6sl-DCE) \"dce-0hb\" for NecS3Hs09\n",
        "NecS3Hs10"
       ]
      },
      {
       "output_type": "stream",
       "stream": "stdout",
       "text": [
        "\n",
        "\t warning (SCAN #1 not found amongst the 05_IR-RARE-anatomy) \"IR-0h+\" for NecS3Hs10"
       ]
      },
      {
       "output_type": "stream",
       "stream": "stdout",
       "text": [
        "\n",
        "\t warning (SCAN #-2 not found amongst the 06_FLASH2D.6sl-DCE) \"dce-0ha\" for NecS3Hs10\n",
        "\t warning (SCAN #-1 not found amongst the 06_FLASH2D.6sl-DCE) \"dce-0hb\" for NecS3Hs10\n",
        "\t warning (SCAN #1 not found amongst the 04_ubcLL2) \"LL-24h+\" for NecS3Hs10"
       ]
      },
      {
       "output_type": "stream",
       "stream": "stdout",
       "text": [
        "\n",
        "NecS3Hs11\n",
        "\t warning (SCAN #1 not found amongst the 05_IR-RARE-anatomy) \"IR-0h+\" for NecS3Hs11"
       ]
      },
      {
       "output_type": "stream",
       "stream": "stdout",
       "text": [
        "\n",
        "\t warning (SCAN #-2 not found amongst the 06_FLASH2D.6sl-DCE) \"dce-0ha\" for NecS3Hs11\n",
        "\t warning (SCAN #-1 not found amongst the 06_FLASH2D.6sl-DCE) \"dce-0hb\" for NecS3Hs11\n",
        "\t warning (SCAN #1 not found amongst the 04_ubcLL2) \"LL-24h+\" for NecS3Hs11"
       ]
      },
      {
       "output_type": "stream",
       "stream": "stdout",
       "text": [
        "\n",
        "NecS3Hs12\n",
        "\t warning (SCAN #1 not found amongst the 05_IR-RARE-anatomy) \"IR-0h+\" for NecS3Hs12"
       ]
      },
      {
       "output_type": "stream",
       "stream": "stdout",
       "text": [
        "\n",
        "\t warning (SCAN #-2 not found amongst the 06_FLASH2D.6sl-DCE) \"dce-0ha\" for NecS3Hs12\n",
        "\t warning (SCAN #-1 not found amongst the 06_FLASH2D.6sl-DCE) \"dce-0hb\" for NecS3Hs12\n",
        "\t warning (SCAN #0 not found amongst the 04_ubcLL2) \"LL-24h-\" for NecS3Hs12"
       ]
      },
      {
       "output_type": "stream",
       "stream": "stdout",
       "text": [
        "\n",
        "\t warning (SCAN #1 not found amongst the 04_ubcLL2) \"LL-24h+\" for NecS3Hs12\n",
        "NecS3Hs13"
       ]
      },
      {
       "output_type": "stream",
       "stream": "stdout",
       "text": [
        "\n",
        "\t warning (SCAN #1 not found amongst the 05_IR-RARE-anatomy) \"IR-0h+\" for NecS3Hs13"
       ]
      },
      {
       "output_type": "stream",
       "stream": "stdout",
       "text": [
        "\n",
        "\t warning (SCAN #-2 not found amongst the 06_FLASH2D.6sl-DCE) \"dce-0ha\" for NecS3Hs13\n",
        "\t warning (SCAN #-1 not found amongst the 06_FLASH2D.6sl-DCE) \"dce-0hb\" for NecS3Hs13\n",
        "\t warning (SCAN #1 not found amongst the 04_ubcLL2) \"LL-24h+\" for NecS3Hs13"
       ]
      },
      {
       "output_type": "stream",
       "stream": "stdout",
       "text": [
        "\n",
        "NecS3Hs14\n",
        "\t warning (SCAN #1 not found amongst the 05_IR-RARE-anatomy) \"IR-0h+\" for NecS3Hs14"
       ]
      },
      {
       "output_type": "stream",
       "stream": "stdout",
       "text": [
        "\n",
        "\t warning (SCAN #-2 not found amongst the 06_FLASH2D.6sl-DCE) \"dce-0ha\" for NecS3Hs14\n",
        "\t warning (SCAN #-1 not found amongst the 06_FLASH2D.6sl-DCE) \"dce-0hb\" for NecS3Hs14\n",
        "\t warning (SCAN #1 not found amongst the 04_ubcLL2) \"LL-24h+\" for NecS3Hs14"
       ]
      },
      {
       "output_type": "stream",
       "stream": "stdout",
       "text": [
        "\n",
        "NecS3Hs15\n",
        "\t warning (SCAN #1 not found amongst the 05_IR-RARE-anatomy) \"IR-0h+\" for NecS3Hs15"
       ]
      },
      {
       "output_type": "stream",
       "stream": "stdout",
       "text": [
        "\n",
        "\t warning (SCAN #-2 not found amongst the 06_FLASH2D.6sl-DCE) \"dce-0ha\" for NecS3Hs15\n",
        "\t warning (SCAN #-1 not found amongst the 06_FLASH2D.6sl-DCE) \"dce-0hb\" for NecS3Hs15\n",
        "\t warning (SCAN #1 not found amongst the 04_ubcLL2) \"LL-24h+\" for NecS3Hs15"
       ]
      },
      {
       "output_type": "stream",
       "stream": "stdout",
       "text": [
        "\n",
        "ignoring NecS3Hs03 NecS3Hs01a NecS3Hs07\n",
        "wrote master_list to /Users/fmoosvi/sdata/NecS3/NecS3.json"
       ]
      },
      {
       "output_type": "stream",
       "stream": "stdout",
       "text": [
        "\n"
       ]
      }
     ],
     "prompt_number": 2
    },
    {
     "cell_type": "code",
     "collapsed": false,
     "input": [
      "fFlag = True\n",
      "\n",
      "sarpy.io.generate_rois.generate_rois(masterlist,'export', forceVal = fFlag)\n",
      "\n",
      "try:\n",
      "    sarpy.io.generate_rois.generate_rois(masterlist,'import', forceVal = fFlag)\n",
      "    sarpy.io.masterlist.generate(conf_file=config_file) # update bboxes\n",
      "except IOError:\n",
      "    pass"
     ],
     "language": "python",
     "metadata": {},
     "outputs": []
    },
    {
     "cell_type": "code",
     "collapsed": false,
     "input": [
      "analyses = collections.OrderedDict()\n",
      "fFlag = True\n",
      "\n",
      "## AUC 60\n",
      "analyses['auc']={'scan_label':'dce-[0-9]*',\n",
      "                 'adata_save_label':'auc60',\n",
      "                 'force_overwrite':fFlag}\n",
      "## VTC\n",
      "analyses['vtc']={'scan_label':'dce-[0-9]*',\n",
      "                 'adata_save_label':'vtc',\n",
      "                 'force_overwrite':fFlag}\n",
      "## T1 Map\n",
      "analyses['T1_LL']={'scan_label':'LL*',\n",
      "                   'adata_save_label':'T1_LL',\n",
      "                   'force_overwrite':fFlag}\n",
      "\n",
      "for atype in analyses:\n",
      "    \n",
      "    toAnalyze = True    \n",
      "           \n",
      "    if atype == 'auc':\n",
      "            \n",
      "        def myfunc(dict_of_params):\n",
      "            import sarpy.fmoosvi.analysis            \n",
      "            reload(sarpy.fmoosvi.analysis)\n",
      "            \n",
      "            return sarpy.fmoosvi.analysis.h_calculate_AUC(**dict_of_params)\n",
      "\n",
      "    elif atype == 'T1_LL':\n",
      "\n",
      "        def myfunc(dict_of_params):\n",
      "        \n",
      "            import sarpy.fmoosvi.analysis\n",
      "            import sarpy.fmoosvi.getters\n",
      "            reload(sarpy.fmoosvi.analysis)\n",
      "            reload(sarpy.fmoosvi.getters)\n",
      "            \n",
      "            return sarpy.fmoosvi.analysis.h_fit_T1_LL_FAind(**dict_of_params)\n",
      "        \n",
      "    elif atype == 'vtc':\n",
      "        toAnalyze = False        \n",
      "\n",
      "        def myfunc(dict_of_params):\n",
      "        \n",
      "            import sarpy.fmoosvi.analysis\n",
      "            import sarpy.fmoosvi.getters\n",
      "            reload(sarpy.fmoosvi.analysis)\n",
      "            reload(sarpy.fmoosvi.getters)\n",
      "            \n",
      "            return sarpy.fmoosvi.analysis.h_generate_VTC(**dict_of_params)   \n",
      "        \n",
      "    else:\n",
      "        \n",
      "        toAnalyze = False        \n",
      "\n",
      "    if toAnalyze:\n",
      "        \n",
      "        an = sarpy.io.bulk_analyze.ParallelBulkAnalyzerFactory.from_function(\n",
      "                            myfunc,\n",
      "                            ipython_profile='sarlab',\n",
      "                            masterlist_fname=masterlist,\n",
      "                            **analyses[atype])\n",
      "        an.process()\n",
      "\n",
      "print('Analysis Complete')"
     ],
     "language": "python",
     "metadata": {},
     "outputs": [
      {
       "output_type": "stream",
       "stream": "stdout",
       "text": [
        "###########\n",
        "Currently, there are 16 clients running\n",
        "importing os on engine(s)"
       ]
      },
      {
       "output_type": "stream",
       "stream": "stdout",
       "text": [
        "\n",
        "importing sys on engine(s)\n",
        "importing sarpy on engine(s)\n",
        "importing sarpy.fmoosvi.analysis on engine(s)"
       ]
      },
      {
       "output_type": "stream",
       "stream": "stdout",
       "text": [
        "\n",
        "###########"
       ]
      },
      {
       "output_type": "stream",
       "stream": "stdout",
       "text": [
        "\n",
        "adata auc60 deleted in NecS3Hs04"
       ]
      },
      {
       "output_type": "stream",
       "stream": "stdout",
       "text": [
        "\n",
        "auc60 overwritten in NecS3Hs04.iK2/34, job id ...8d058 done on E 7 "
       ]
      },
      {
       "output_type": "stream",
       "stream": "stdout",
       "text": [
        "\n",
        "adata auc60 deleted in NecS3Hs04"
       ]
      },
      {
       "output_type": "stream",
       "stream": "stdout",
       "text": [
        "\n",
        "auc60 overwritten in NecS3Hs04.iK2/23, job id ...d8d5f done on E 11 "
       ]
      },
      {
       "output_type": "stream",
       "stream": "stdout",
       "text": [
        "\n",
        "adata auc60 deleted in NecS3Hs02\n",
        "auc60 overwritten in NecS3Hs02.iJ1/12, job id ...76d07 done on E 2 "
       ]
      },
      {
       "output_type": "stream",
       "stream": "stdout",
       "text": [
        "\n",
        "adata auc60 deleted in NecS3Hs06\n",
        "auc60 overwritten in NecS3Hs06.iJ1/9, job id ...663e8 done on E 9 "
       ]
      },
      {
       "output_type": "stream",
       "stream": "stdout",
       "text": [
        "\n",
        "adata auc60 deleted in NecS3Hs05"
       ]
      },
      {
       "output_type": "stream",
       "stream": "stdout",
       "text": [
        "\n",
        "auc60 overwritten in NecS3Hs05.iK1/17, job id ...cb6e1 done on E 1 "
       ]
      },
      {
       "output_type": "stream",
       "stream": "stdout",
       "text": [
        "\n",
        "adata auc60 deleted in NecS3Hs04\n",
        "auc60 overwritten in NecS3Hs04.iJ1/17, job id ...77256 done on E 12 "
       ]
      },
      {
       "output_type": "stream",
       "stream": "stdout",
       "text": [
        "\n",
        "adata auc60 deleted in NecS3Hs04\n",
        "auc60 overwritten in NecS3Hs04.iJ1/11, job id ...84e77 done on E 0 "
       ]
      },
      {
       "output_type": "stream",
       "stream": "stdout",
       "text": [
        "\n",
        "adata auc60 deleted in NecS3Hs06"
       ]
      },
      {
       "output_type": "stream",
       "stream": "stdout",
       "text": [
        "\n",
        "auc60 overwritten in NecS3Hs06.iJ1/16, job id ...a2fd4 done on E 8 "
       ]
      },
      {
       "output_type": "stream",
       "stream": "stdout",
       "text": [
        "\n",
        "adata auc60 deleted in NecS3Hs05\n",
        "auc60 overwritten in NecS3Hs05.iK1/11, job id ...72458 done on E 14 "
       ]
      },
      {
       "output_type": "stream",
       "stream": "stdout",
       "text": [
        "\n",
        "adata auc60 deleted in NecS3Hs02\n",
        "auc60 overwritten in NecS3Hs02.iJ1/18, job id ...9ff5e done on E 6 "
       ]
      },
      {
       "output_type": "stream",
       "stream": "stdout",
       "text": [
        "\n",
        "adata auc60 deleted in NecS3Hs05\n",
        "auc60 overwritten in NecS3Hs05.iJ1/10, job id ...975ae done on E 3 "
       ]
      },
      {
       "output_type": "stream",
       "stream": "stdout",
       "text": [
        "\n",
        "adata auc60 deleted in NecS3Hs02"
       ]
      },
      {
       "output_type": "stream",
       "stream": "stdout",
       "text": [
        "\n",
        "auc60 overwritten in NecS3Hs02.iK1/14, job id ...9f55b done on E 10 "
       ]
      },
      {
       "output_type": "stream",
       "stream": "stdout",
       "text": [
        "\n",
        "adata auc60 deleted in NecS3Hs02\n",
        "auc60 overwritten in NecS3Hs02.iK1/20, job id ...1f8eb done on E 13 "
       ]
      },
      {
       "output_type": "stream",
       "stream": "stdout",
       "text": [
        "\n",
        "adata auc60 deleted in NecS3Hs06\n",
        "auc60 overwritten in NecS3Hs06.iK1/13, job id ...8db8a done on E 4 "
       ]
      },
      {
       "output_type": "stream",
       "stream": "stdout",
       "text": [
        "\n",
        "adata auc60 deleted in NecS3Hs05\n",
        "auc60 overwritten in NecS3Hs05.iJ1/16, job id ...1441d done on E 15 "
       ]
      },
      {
       "output_type": "stream",
       "stream": "stdout",
       "text": [
        "\n",
        "adata auc60 deleted in NecS3Hs06\n",
        "auc60 overwritten in NecS3Hs06.iK1/19, job id ...a11ff done on E 5 "
       ]
      },
      {
       "output_type": "stream",
       "stream": "stdout",
       "text": [
        "\n",
        "adata auc60 deleted in NecS3Hs08\n",
        "auc60 overwritten in NecS3Hs08.iL1/16, job id ...e27b5 done on E 7 "
       ]
      },
      {
       "output_type": "stream",
       "stream": "stdout",
       "text": [
        "\n",
        "adata auc60 deleted in NecS3Hs15\n",
        "auc60 overwritten in NecS3Hs15.iM1/15, job id ...c9450 done on E 2 "
       ]
      },
      {
       "output_type": "stream",
       "stream": "stdout",
       "text": [
        "\n",
        "adata auc60 deleted in NecS3Hs11\n",
        "auc60 overwritten in NecS3Hs11.iL1/10, job id ...76925 done on E 12 "
       ]
      },
      {
       "output_type": "stream",
       "stream": "stdout",
       "text": [
        "\n",
        "adata auc60 deleted in NecS3Hs14\n",
        "auc60 overwritten in NecS3Hs14.iM1/19, job id ...ff1c3 done on E 0 "
       ]
      },
      {
       "output_type": "stream",
       "stream": "stdout",
       "text": [
        "\n",
        "adata auc60 deleted in NecS3Hs12\n",
        "auc60 overwritten in NecS3Hs12.iM3/16, job id ...1afa8 done on E 13 "
       ]
      },
      {
       "output_type": "stream",
       "stream": "stdout",
       "text": [
        "\n",
        "adata auc60 deleted in NecS3Hs13\n",
        "auc60 overwritten in NecS3Hs13.iM1/20, job id ...8197e done on E 14 "
       ]
      },
      {
       "output_type": "stream",
       "stream": "stdout",
       "text": [
        "\n",
        "adata auc60 deleted in NecS3Hs09\n",
        "auc60 overwritten in NecS3Hs09.iL1/19, job id ...3c38f done on E 6 "
       ]
      },
      {
       "output_type": "stream",
       "stream": "stdout",
       "text": [
        "\n",
        "adata auc60 deleted in NecS3Hs15"
       ]
      },
      {
       "output_type": "stream",
       "stream": "stdout",
       "text": [
        "\n",
        "auc60 overwritten in NecS3Hs15.iM1/9, job id ...7e5f7 done on E 4 "
       ]
      },
      {
       "output_type": "stream",
       "stream": "stdout",
       "text": [
        "\n",
        "adata auc60 deleted in NecS3Hs11"
       ]
      },
      {
       "output_type": "stream",
       "stream": "stdout",
       "text": [
        "\n",
        "auc60 overwritten in NecS3Hs11.iL1/16, job id ...70669 done on E 15 "
       ]
      },
      {
       "output_type": "stream",
       "stream": "stdout",
       "text": [
        "\n",
        "adata auc60 deleted in NecS3Hs09\n",
        "auc60 overwritten in NecS3Hs09.iL1/13, job id ...192ff done on E 5 "
       ]
      },
      {
       "output_type": "stream",
       "stream": "stdout",
       "text": [
        "\n",
        "adata auc60 deleted in NecS3Hs14\n",
        "auc60 overwritten in NecS3Hs14.iM1/13, job id ...6bdc6 done on E 3 "
       ]
      },
      {
       "output_type": "stream",
       "stream": "stdout",
       "text": [
        "\n",
        "adata auc60 deleted in NecS3Hs13\n",
        "auc60 overwritten in NecS3Hs13.iM1/14, job id ...66934 done on E 9 "
       ]
      },
      {
       "output_type": "stream",
       "stream": "stdout",
       "text": [
        "\n",
        "adata auc60 deleted in NecS3Hs12"
       ]
      },
      {
       "output_type": "stream",
       "stream": "stdout",
       "text": [
        "\n",
        "auc60 overwritten in NecS3Hs12.iM3/22, job id ...b3c5b done on E 10 "
       ]
      },
      {
       "output_type": "stream",
       "stream": "stdout",
       "text": [
        "\n",
        "adata auc60 deleted in NecS3Hs10\n",
        "auc60 overwritten in NecS3Hs10.iL1/17, job id ...63033 done on E 8 "
       ]
      },
      {
       "output_type": "stream",
       "stream": "stdout",
       "text": [
        "\n",
        "adata auc60 deleted in NecS3Hs08"
       ]
      },
      {
       "output_type": "stream",
       "stream": "stdout",
       "text": [
        "\n",
        "auc60 overwritten in NecS3Hs08.iL1/10, job id ...abe21 done on E 11 "
       ]
      },
      {
       "output_type": "stream",
       "stream": "stdout",
       "text": [
        "\n",
        "adata auc60 deleted in NecS3Hs10\n",
        "auc60 overwritten in NecS3Hs10.iL1/11, job id ...d49a2 done on E 1 "
       ]
      },
      {
       "output_type": "stream",
       "stream": "stdout",
       "text": [
        "\n",
        "###### Parallelized Code: 12.4315240383 s \n",
        "\n",
        "###########\n",
        "Currently, there are 16 clients running\n",
        "importing os on engine(s)"
       ]
      },
      {
       "output_type": "stream",
       "stream": "stdout",
       "text": [
        "\n",
        "importing sys on engine(s)\n",
        "importing sarpy on engine(s)\n",
        "importing sarpy.fmoosvi.analysis on engine(s)"
       ]
      },
      {
       "output_type": "stream",
       "stream": "stdout",
       "text": [
        "\n",
        "###########"
       ]
      },
      {
       "output_type": "stream",
       "stream": "stdout",
       "text": [
        "\n",
        "adata T1_LL deleted in NecS3Hs06"
       ]
      },
      {
       "output_type": "stream",
       "stream": "stdout",
       "text": [
        "\n",
        "T1_LL overwritten in NecS3Hs06.iJ1/7, job id ...d88d6 done on E 12 "
       ]
      },
      {
       "output_type": "stream",
       "stream": "stdout",
       "text": [
        "\n",
        "adata T1_LL_fit deleted in NecS3Hs06\n",
        "T1_LL overwritten in NecS3Hs06.iJ1/7, job id ...d88d6 done on E 12 "
       ]
      },
      {
       "output_type": "stream",
       "stream": "stdout",
       "text": [
        "\n",
        "adata T1_LL deleted in NecS3Hs02"
       ]
      },
      {
       "output_type": "stream",
       "stream": "stdout",
       "text": [
        "\n",
        "T1_LL overwritten in NecS3Hs02.iJ1/10, job id ...a90af done on E 11 "
       ]
      },
      {
       "output_type": "stream",
       "stream": "stdout",
       "text": [
        "\n",
        "adata T1_LL_fit deleted in NecS3Hs02\n",
        "T1_LL overwritten in NecS3Hs02.iJ1/10, job id ...a90af done on E 11 "
       ]
      },
      {
       "output_type": "stream",
       "stream": "stdout",
       "text": [
        "\n",
        "adata T1_LL deleted in NecS3Hs06"
       ]
      },
      {
       "output_type": "stream",
       "stream": "stdout",
       "text": [
        "\n",
        "T1_LL overwritten in NecS3Hs06.iK1/11, job id ...86027 done on E 15 "
       ]
      },
      {
       "output_type": "stream",
       "stream": "stdout",
       "text": [
        "\n",
        "adata T1_LL_fit deleted in NecS3Hs06\n",
        "T1_LL overwritten in NecS3Hs06.iK1/11, job id ...86027 done on E 15 "
       ]
      },
      {
       "output_type": "stream",
       "stream": "stdout",
       "text": [
        "\n",
        "adata T1_LL deleted in NecS3Hs02"
       ]
      },
      {
       "output_type": "stream",
       "stream": "stdout",
       "text": [
        "\n",
        "T1_LL overwritten in NecS3Hs02.iK1/11, job id ...40537 done on E 7 "
       ]
      },
      {
       "output_type": "stream",
       "stream": "stdout",
       "text": [
        "\n",
        "adata T1_LL_fit deleted in NecS3Hs02\n",
        "T1_LL overwritten in NecS3Hs02.iK1/11, job id ...40537 done on E 7 "
       ]
      },
      {
       "output_type": "stream",
       "stream": "stdout",
       "text": [
        "\n",
        "adata T1_LL deleted in NecS3Hs09"
       ]
      },
      {
       "output_type": "stream",
       "stream": "stdout",
       "text": [
        "\n",
        "T1_LL overwritten in NecS3Hs09.iL1/24, job id ...5b799 done on E 3 "
       ]
      },
      {
       "output_type": "stream",
       "stream": "stdout",
       "text": [
        "\n",
        "adata T1_LL_fit deleted in NecS3Hs09\n",
        "T1_LL overwritten in NecS3Hs09.iL1/24, job id ...5b799 done on E 3 "
       ]
      },
      {
       "output_type": "stream",
       "stream": "stdout",
       "text": [
        "\n",
        "adata T1_LL deleted in NecS3Hs09"
       ]
      },
      {
       "output_type": "stream",
       "stream": "stdout",
       "text": [
        "\n",
        "T1_LL overwritten in NecS3Hs09.iK1/7, job id ...48bf7 done on E 9 "
       ]
      },
      {
       "output_type": "stream",
       "stream": "stdout",
       "text": [
        "\n",
        "adata T1_LL_fit deleted in NecS3Hs09\n",
        "T1_LL overwritten in NecS3Hs09.iK1/7, job id ...48bf7 done on E 9 "
       ]
      },
      {
       "output_type": "stream",
       "stream": "stdout",
       "text": [
        "\n",
        "adata T1_LL deleted in NecS3Hs08"
       ]
      },
      {
       "output_type": "stream",
       "stream": "stdout",
       "text": [
        "\n",
        "T1_LL overwritten in NecS3Hs08.iL1/8, job id ...b1351 done on E 10 "
       ]
      },
      {
       "output_type": "stream",
       "stream": "stdout",
       "text": [
        "\n",
        "adata T1_LL_fit deleted in NecS3Hs08\n",
        "T1_LL overwritten in NecS3Hs08.iL1/8, job id ...b1351 done on E 10 "
       ]
      },
      {
       "output_type": "stream",
       "stream": "stdout",
       "text": [
        "\n",
        "adata T1_LL deleted in NecS3Hs04"
       ]
      },
      {
       "output_type": "stream",
       "stream": "stdout",
       "text": [
        "\n",
        "T1_LL overwritten in NecS3Hs04.iJ1/9, job id ...a4b48 done on E 5 "
       ]
      },
      {
       "output_type": "stream",
       "stream": "stdout",
       "text": [
        "\n",
        "adata T1_LL_fit deleted in NecS3Hs04\n",
        "T1_LL overwritten in NecS3Hs04.iJ1/9, job id ...a4b48 done on E 5 "
       ]
      },
      {
       "output_type": "stream",
       "stream": "stdout",
       "text": [
        "\n",
        "adata T1_LL deleted in NecS3Hs05"
       ]
      },
      {
       "output_type": "stream",
       "stream": "stdout",
       "text": [
        "\n",
        "T1_LL overwritten in NecS3Hs05.iK1/9, job id ...ff4a2 done on E 8 "
       ]
      },
      {
       "output_type": "stream",
       "stream": "stdout",
       "text": [
        "\n",
        "adata T1_LL_fit deleted in NecS3Hs05\n",
        "T1_LL overwritten in NecS3Hs05.iK1/9, job id ...ff4a2 done on E 8 "
       ]
      },
      {
       "output_type": "stream",
       "stream": "stdout",
       "text": [
        "\n",
        "adata T1_LL deleted in NecS3Hs11"
       ]
      },
      {
       "output_type": "stream",
       "stream": "stdout",
       "text": [
        "\n",
        "T1_LL overwritten in NecS3Hs11.iK1/9, job id ...71059 done on E 2 "
       ]
      },
      {
       "output_type": "stream",
       "stream": "stdout",
       "text": [
        "\n",
        "adata T1_LL_fit deleted in NecS3Hs11\n",
        "T1_LL overwritten in NecS3Hs11.iK1/9, job id ...71059 done on E 2 "
       ]
      },
      {
       "output_type": "stream",
       "stream": "stdout",
       "text": [
        "\n",
        "adata T1_LL deleted in NecS3Hs10"
       ]
      },
      {
       "output_type": "stream",
       "stream": "stdout",
       "text": [
        "\n",
        "T1_LL overwritten in NecS3Hs10.iK1/6, job id ...926e1 done on E 0 "
       ]
      },
      {
       "output_type": "stream",
       "stream": "stdout",
       "text": [
        "\n",
        "adata T1_LL_fit deleted in NecS3Hs10\n",
        "T1_LL overwritten in NecS3Hs10.iK1/6, job id ...926e1 done on E 0 "
       ]
      },
      {
       "output_type": "stream",
       "stream": "stdout",
       "text": [
        "\n",
        "adata T1_LL deleted in NecS3Hs08"
       ]
      },
      {
       "output_type": "stream",
       "stream": "stdout",
       "text": [
        "\n",
        "T1_LL overwritten in NecS3Hs08.iK1/7, job id ...92c32 done on E 13 "
       ]
      },
      {
       "output_type": "stream",
       "stream": "stdout",
       "text": [
        "\n",
        "adata T1_LL_fit deleted in NecS3Hs08\n",
        "T1_LL overwritten in NecS3Hs08.iK1/7, job id ...92c32 done on E 13 "
       ]
      },
      {
       "output_type": "stream",
       "stream": "stdout",
       "text": [
        "\n",
        "adata T1_LL deleted in NecS3Hs04"
       ]
      },
      {
       "output_type": "stream",
       "stream": "stdout",
       "text": [
        "\n",
        "T1_LL overwritten in NecS3Hs04.iK1/10, job id ...9cc66 done on E 6 "
       ]
      },
      {
       "output_type": "stream",
       "stream": "stdout",
       "text": [
        "\n",
        "adata T1_LL_fit deleted in NecS3Hs04\n",
        "T1_LL overwritten in NecS3Hs04.iK1/10, job id ...9cc66 done on E 6 "
       ]
      },
      {
       "output_type": "stream",
       "stream": "stdout",
       "text": [
        "\n",
        "adata T1_LL deleted in NecS3Hs09"
       ]
      },
      {
       "output_type": "stream",
       "stream": "stdout",
       "text": [
        "\n",
        "T1_LL overwritten in NecS3Hs09.iL1/11, job id ...8d45e done on E 14 "
       ]
      },
      {
       "output_type": "stream",
       "stream": "stdout",
       "text": [
        "\n",
        "adata T1_LL_fit deleted in NecS3Hs09\n",
        "T1_LL overwritten in NecS3Hs09.iL1/11, job id ...8d45e done on E 14 "
       ]
      },
      {
       "output_type": "stream",
       "stream": "stdout",
       "text": [
        "\n",
        "adata T1_LL deleted in NecS3Hs10"
       ]
      },
      {
       "output_type": "stream",
       "stream": "stdout",
       "text": [
        "\n",
        "T1_LL overwritten in NecS3Hs10.iL1/9, job id ...00103 done on E 4 "
       ]
      },
      {
       "output_type": "stream",
       "stream": "stdout",
       "text": [
        "\n",
        "adata T1_LL_fit deleted in NecS3Hs10\n",
        "T1_LL overwritten in NecS3Hs10.iL1/9, job id ...00103 done on E 4 "
       ]
      },
      {
       "output_type": "stream",
       "stream": "stdout",
       "text": [
        "\n",
        "adata T1_LL deleted in NecS3Hs05"
       ]
      },
      {
       "output_type": "stream",
       "stream": "stdout",
       "text": [
        "\n",
        "T1_LL overwritten in NecS3Hs05.iJ1/8, job id ...27e51 done on E 1 "
       ]
      },
      {
       "output_type": "stream",
       "stream": "stdout",
       "text": [
        "\n",
        "adata T1_LL_fit deleted in NecS3Hs05\n",
        "T1_LL overwritten in NecS3Hs05.iJ1/8, job id ...27e51 done on E 1 "
       ]
      },
      {
       "output_type": "stream",
       "stream": "stdout",
       "text": [
        "\n",
        "adata T1_LL deleted in NecS3Hs13"
       ]
      },
      {
       "output_type": "stream",
       "stream": "stdout",
       "text": [
        "\n",
        "T1_LL overwritten in NecS3Hs13.iL1/7, job id ...dc6eb done on E 15 "
       ]
      },
      {
       "output_type": "stream",
       "stream": "stdout",
       "text": [
        "\n",
        "adata T1_LL_fit deleted in NecS3Hs13\n",
        "T1_LL overwritten in NecS3Hs13.iL1/7, job id ...dc6eb done on E 15 "
       ]
      },
      {
       "output_type": "stream",
       "stream": "stdout",
       "text": [
        "\n",
        "adata T1_LL deleted in NecS3Hs14"
       ]
      },
      {
       "output_type": "stream",
       "stream": "stdout",
       "text": [
        "\n",
        "T1_LL overwritten in NecS3Hs14.iM1/11, job id ...8e355 done on E 13 "
       ]
      },
      {
       "output_type": "stream",
       "stream": "stdout",
       "text": [
        "\n",
        "adata T1_LL_fit deleted in NecS3Hs14\n",
        "T1_LL overwritten in NecS3Hs14.iM1/11, job id ...8e355 done on E 13 "
       ]
      },
      {
       "output_type": "stream",
       "stream": "stdout",
       "text": [
        "\n",
        "adata T1_LL deleted in NecS3Hs11"
       ]
      },
      {
       "output_type": "stream",
       "stream": "stdout",
       "text": [
        "\n",
        "T1_LL overwritten in NecS3Hs11.iL1/8, job id ...ae9a7 done on E 12 "
       ]
      },
      {
       "output_type": "stream",
       "stream": "stdout",
       "text": [
        "\n",
        "adata T1_LL_fit deleted in NecS3Hs11\n",
        "T1_LL overwritten in NecS3Hs11.iL1/8, job id ...ae9a7 done on E 12 "
       ]
      },
      {
       "output_type": "stream",
       "stream": "stdout",
       "text": [
        "\n",
        "adata T1_LL deleted in NecS3Hs15"
       ]
      },
      {
       "output_type": "stream",
       "stream": "stdout",
       "text": [
        "\n",
        "T1_LL overwritten in NecS3Hs15.iM1/7, job id ...1eed8 done on E 2 "
       ]
      },
      {
       "output_type": "stream",
       "stream": "stdout",
       "text": [
        "\n",
        "adata T1_LL_fit deleted in NecS3Hs15\n",
        "T1_LL overwritten in NecS3Hs15.iM1/7, job id ...1eed8 done on E 2 "
       ]
      },
      {
       "output_type": "stream",
       "stream": "stdout",
       "text": [
        "\n",
        "adata T1_LL deleted in NecS3Hs14"
       ]
      },
      {
       "output_type": "stream",
       "stream": "stdout",
       "text": [
        "\n",
        "T1_LL overwritten in NecS3Hs14.iL1/9, job id ...b3e79 done on E 8 "
       ]
      },
      {
       "output_type": "stream",
       "stream": "stdout",
       "text": [
        "\n",
        "adata T1_LL_fit deleted in NecS3Hs14\n",
        "T1_LL overwritten in NecS3Hs14.iL1/9, job id ...b3e79 done on E 8 "
       ]
      },
      {
       "output_type": "stream",
       "stream": "stdout",
       "text": [
        "\n",
        "adata T1_LL deleted in NecS3Hs13"
       ]
      },
      {
       "output_type": "stream",
       "stream": "stdout",
       "text": [
        "\n",
        "T1_LL overwritten in NecS3Hs13.iM1/12, job id ...58dff done on E 1 "
       ]
      },
      {
       "output_type": "stream",
       "stream": "stdout",
       "text": [
        "\n",
        "adata T1_LL_fit deleted in NecS3Hs13\n",
        "T1_LL overwritten in NecS3Hs13.iM1/12, job id ...58dff done on E 1 "
       ]
      },
      {
       "output_type": "stream",
       "stream": "stdout",
       "text": [
        "\n",
        "adata T1_LL deleted in NecS3Hs12"
       ]
      },
      {
       "output_type": "stream",
       "stream": "stdout",
       "text": [
        "\n",
        "T1_LL overwritten in NecS3Hs12.iL1/7, job id ...f9f6c done on E 11 "
       ]
      },
      {
       "output_type": "stream",
       "stream": "stdout",
       "text": [
        "\n",
        "adata T1_LL_fit deleted in NecS3Hs12\n",
        "T1_LL overwritten in NecS3Hs12.iL1/7, job id ...f9f6c done on E 11 "
       ]
      },
      {
       "output_type": "stream",
       "stream": "stdout",
       "text": [
        "\n",
        "adata T1_LL deleted in NecS3Hs15"
       ]
      },
      {
       "output_type": "stream",
       "stream": "stdout",
       "text": [
        "\n",
        "T1_LL overwritten in NecS3Hs15.iL1/8, job id ...77162 done on E 9 "
       ]
      },
      {
       "output_type": "stream",
       "stream": "stdout",
       "text": [
        "\n",
        "adata T1_LL_fit deleted in NecS3Hs15\n",
        "T1_LL overwritten in NecS3Hs15.iL1/8, job id ...77162 done on E 9 "
       ]
      },
      {
       "output_type": "stream",
       "stream": "stdout",
       "text": [
        "\n",
        "###### Parallelized Code: 818.079787016 s \n",
        "\n",
        "Analysis Complete\n"
       ]
      }
     ],
     "prompt_number": 3
    },
    {
     "cell_type": "markdown",
     "metadata": {},
     "source": [
      "### Transferring ROIs"
     ]
    },
    {
     "cell_type": "code",
     "collapsed": true,
     "input": [
      "import sarpy.fmoosvi.wrappers\n",
      "reload(sarpy.fmoosvi.wrappers)\n",
      "fFlag = True\n",
      "\n",
      "label = [] \n",
      "label.append('T1_LL')\n",
      "label.append('auc60')\n",
      "\n",
      "for l in label:\n",
      "    sarpy.fmoosvi.wrappers.bulk_transfer_roi(masterlist,l, forceVal = fFlag)"
     ],
     "language": "python",
     "metadata": {},
     "outputs": [
      {
       "output_type": "stream",
       "stream": "stdout",
       "text": [
        "adata T1_LL_roi deleted in NecS3Hs02\n",
        "\t Saved T1_LL_roi in NecS3Hs02.iK1/11"
       ]
      },
      {
       "output_type": "stream",
       "stream": "stdout",
       "text": [
        "\n",
        "adata T1_LL_roi deleted in NecS3Hs04"
       ]
      },
      {
       "output_type": "stream",
       "stream": "stdout",
       "text": [
        "\n",
        "\t Saved T1_LL_roi in NecS3Hs04.iK1/10"
       ]
      },
      {
       "output_type": "stream",
       "stream": "stdout",
       "text": [
        "\n",
        "adata T1_LL_roi deleted in NecS3Hs05"
       ]
      },
      {
       "output_type": "stream",
       "stream": "stdout",
       "text": [
        "\n",
        "\t Saved T1_LL_roi in NecS3Hs05.iK1/9"
       ]
      },
      {
       "output_type": "stream",
       "stream": "stdout",
       "text": [
        "\n",
        "adata T1_LL_roi deleted in NecS3Hs06"
       ]
      },
      {
       "output_type": "stream",
       "stream": "stdout",
       "text": [
        "\n",
        "\t Saved T1_LL_roi in NecS3Hs06.iK1/11"
       ]
      },
      {
       "output_type": "stream",
       "stream": "stdout",
       "text": [
        "\n",
        "adata T1_LL_roi deleted in NecS3Hs08"
       ]
      },
      {
       "output_type": "stream",
       "stream": "stdout",
       "text": [
        "\n",
        "\t Saved T1_LL_roi in NecS3Hs08.iL1/8"
       ]
      },
      {
       "output_type": "stream",
       "stream": "stdout",
       "text": [
        "\n",
        "adata T1_LL_roi deleted in NecS3Hs09"
       ]
      },
      {
       "output_type": "stream",
       "stream": "stdout",
       "text": [
        "\n",
        "\t Saved T1_LL_roi in NecS3Hs09.iL1/11"
       ]
      },
      {
       "output_type": "stream",
       "stream": "stdout",
       "text": [
        "\n",
        "adata T1_LL_roi deleted in NecS3Hs09"
       ]
      },
      {
       "output_type": "stream",
       "stream": "stdout",
       "text": [
        "\n",
        "\t Saved T1_LL_roi in NecS3Hs09.iL1/24"
       ]
      },
      {
       "output_type": "stream",
       "stream": "stdout",
       "text": [
        "\n",
        "adata T1_LL_roi deleted in NecS3Hs10"
       ]
      },
      {
       "output_type": "stream",
       "stream": "stdout",
       "text": [
        "\n",
        "\t Saved T1_LL_roi in NecS3Hs10.iL1/9"
       ]
      },
      {
       "output_type": "stream",
       "stream": "stdout",
       "text": [
        "\n",
        "adata T1_LL_roi deleted in NecS3Hs11"
       ]
      },
      {
       "output_type": "stream",
       "stream": "stdout",
       "text": [
        "\n",
        "\t Saved T1_LL_roi in NecS3Hs11.iL1/8"
       ]
      },
      {
       "output_type": "stream",
       "stream": "stdout",
       "text": [
        "\n",
        "adata T1_LL_roi deleted in NecS3Hs13"
       ]
      },
      {
       "output_type": "stream",
       "stream": "stdout",
       "text": [
        "\n",
        "\t Saved T1_LL_roi in NecS3Hs13.iM1/12"
       ]
      },
      {
       "output_type": "stream",
       "stream": "stdout",
       "text": [
        "\n",
        "adata T1_LL_roi deleted in NecS3Hs14"
       ]
      },
      {
       "output_type": "stream",
       "stream": "stdout",
       "text": [
        "\n",
        "\t Saved T1_LL_roi in NecS3Hs14.iM1/11"
       ]
      },
      {
       "output_type": "stream",
       "stream": "stdout",
       "text": [
        "\n",
        "adata T1_LL_roi deleted in NecS3Hs15"
       ]
      },
      {
       "output_type": "stream",
       "stream": "stdout",
       "text": [
        "\n",
        "\t Saved T1_LL_roi in NecS3Hs15.iM1/7"
       ]
      },
      {
       "output_type": "stream",
       "stream": "stdout",
       "text": [
        "\n",
        "adata T1_LL_roi deleted in NecS3Hs02"
       ]
      },
      {
       "output_type": "stream",
       "stream": "stdout",
       "text": [
        "\n",
        "\t Saved T1_LL_roi in NecS3Hs02.iJ1/10"
       ]
      },
      {
       "output_type": "stream",
       "stream": "stdout",
       "text": [
        "\n",
        "adata T1_LL_roi deleted in NecS3Hs04"
       ]
      },
      {
       "output_type": "stream",
       "stream": "stdout",
       "text": [
        "\n",
        "\t Saved T1_LL_roi in NecS3Hs04.iJ1/9"
       ]
      },
      {
       "output_type": "stream",
       "stream": "stdout",
       "text": [
        "\n",
        "adata T1_LL_roi deleted in NecS3Hs05"
       ]
      },
      {
       "output_type": "stream",
       "stream": "stdout",
       "text": [
        "\n",
        "\t Saved T1_LL_roi in NecS3Hs05.iJ1/8"
       ]
      },
      {
       "output_type": "stream",
       "stream": "stdout",
       "text": [
        "\n",
        "adata T1_LL_roi deleted in NecS3Hs06"
       ]
      },
      {
       "output_type": "stream",
       "stream": "stdout",
       "text": [
        "\n",
        "\t Saved T1_LL_roi in NecS3Hs06.iJ1/7"
       ]
      },
      {
       "output_type": "stream",
       "stream": "stdout",
       "text": [
        "\n",
        "adata T1_LL_roi deleted in NecS3Hs08"
       ]
      },
      {
       "output_type": "stream",
       "stream": "stdout",
       "text": [
        "\n",
        "\t Saved T1_LL_roi in NecS3Hs08.iK1/7"
       ]
      },
      {
       "output_type": "stream",
       "stream": "stdout",
       "text": [
        "\n",
        "adata T1_LL_roi deleted in NecS3Hs09"
       ]
      },
      {
       "output_type": "stream",
       "stream": "stdout",
       "text": [
        "\n",
        "\t Saved T1_LL_roi in NecS3Hs09.iK1/7"
       ]
      },
      {
       "output_type": "stream",
       "stream": "stdout",
       "text": [
        "\n",
        "adata T1_LL_roi deleted in NecS3Hs10"
       ]
      },
      {
       "output_type": "stream",
       "stream": "stdout",
       "text": [
        "\n",
        "\t Saved T1_LL_roi in NecS3Hs10.iK1/6"
       ]
      },
      {
       "output_type": "stream",
       "stream": "stdout",
       "text": [
        "\n",
        "adata T1_LL_roi deleted in NecS3Hs11"
       ]
      },
      {
       "output_type": "stream",
       "stream": "stdout",
       "text": [
        "\n",
        "\t Saved T1_LL_roi in NecS3Hs11.iK1/9"
       ]
      },
      {
       "output_type": "stream",
       "stream": "stdout",
       "text": [
        "\n",
        "adata T1_LL_roi deleted in NecS3Hs12"
       ]
      },
      {
       "output_type": "stream",
       "stream": "stdout",
       "text": [
        "\n",
        "\t Saved T1_LL_roi in NecS3Hs12.iL1/7"
       ]
      },
      {
       "output_type": "stream",
       "stream": "stdout",
       "text": [
        "\n",
        "adata T1_LL_roi deleted in NecS3Hs13"
       ]
      },
      {
       "output_type": "stream",
       "stream": "stdout",
       "text": [
        "\n",
        "\t Saved T1_LL_roi in NecS3Hs13.iL1/7"
       ]
      },
      {
       "output_type": "stream",
       "stream": "stdout",
       "text": [
        "\n",
        "adata T1_LL_roi deleted in NecS3Hs14"
       ]
      },
      {
       "output_type": "stream",
       "stream": "stdout",
       "text": [
        "\n",
        "\t Saved T1_LL_roi in NecS3Hs14.iL1/9"
       ]
      },
      {
       "output_type": "stream",
       "stream": "stdout",
       "text": [
        "\n",
        "adata T1_LL_roi deleted in NecS3Hs15"
       ]
      },
      {
       "output_type": "stream",
       "stream": "stdout",
       "text": [
        "\n",
        "\t Saved T1_LL_roi in NecS3Hs15.iL1/8"
       ]
      },
      {
       "output_type": "stream",
       "stream": "stdout",
       "text": [
        "\n",
        "adata auc60_roi deleted in NecS3Hs02"
       ]
      },
      {
       "output_type": "stream",
       "stream": "stdout",
       "text": [
        "\n",
        "\t Saved auc60_roi in NecS3Hs02.iK1/14"
       ]
      },
      {
       "output_type": "stream",
       "stream": "stdout",
       "text": [
        "\n",
        "adata auc60_roi deleted in NecS3Hs02"
       ]
      },
      {
       "output_type": "stream",
       "stream": "stdout",
       "text": [
        "\n",
        "\t Saved auc60_roi in NecS3Hs02.iK1/20"
       ]
      },
      {
       "output_type": "stream",
       "stream": "stdout",
       "text": [
        "\n",
        "adata auc60_roi deleted in NecS3Hs04"
       ]
      },
      {
       "output_type": "stream",
       "stream": "stdout",
       "text": [
        "\n",
        "\t Saved auc60_roi in NecS3Hs04.iK2/23"
       ]
      },
      {
       "output_type": "stream",
       "stream": "stdout",
       "text": [
        "\n",
        "adata auc60_roi deleted in NecS3Hs04"
       ]
      },
      {
       "output_type": "stream",
       "stream": "stdout",
       "text": [
        "\n",
        "\t Saved auc60_roi in NecS3Hs04.iK2/34"
       ]
      },
      {
       "output_type": "stream",
       "stream": "stdout",
       "text": [
        "\n",
        "adata auc60_roi deleted in NecS3Hs05"
       ]
      },
      {
       "output_type": "stream",
       "stream": "stdout",
       "text": [
        "\n",
        "\t Saved auc60_roi in NecS3Hs05.iK1/11"
       ]
      },
      {
       "output_type": "stream",
       "stream": "stdout",
       "text": [
        "\n",
        "adata auc60_roi deleted in NecS3Hs05"
       ]
      },
      {
       "output_type": "stream",
       "stream": "stdout",
       "text": [
        "\n",
        "\t Saved auc60_roi in NecS3Hs05.iK1/17"
       ]
      },
      {
       "output_type": "stream",
       "stream": "stdout",
       "text": [
        "\n",
        "adata auc60_roi deleted in NecS3Hs06"
       ]
      },
      {
       "output_type": "stream",
       "stream": "stdout",
       "text": [
        "\n",
        "\t Saved auc60_roi in NecS3Hs06.iK1/13"
       ]
      },
      {
       "output_type": "stream",
       "stream": "stdout",
       "text": [
        "\n",
        "adata auc60_roi deleted in NecS3Hs06"
       ]
      },
      {
       "output_type": "stream",
       "stream": "stdout",
       "text": [
        "\n",
        "\t Saved auc60_roi in NecS3Hs06.iK1/19"
       ]
      },
      {
       "output_type": "stream",
       "stream": "stdout",
       "text": [
        "\n",
        "adata auc60_roi deleted in NecS3Hs08"
       ]
      },
      {
       "output_type": "stream",
       "stream": "stdout",
       "text": [
        "\n",
        "\t Saved auc60_roi in NecS3Hs08.iL1/10"
       ]
      },
      {
       "output_type": "stream",
       "stream": "stdout",
       "text": [
        "\n",
        "adata auc60_roi deleted in NecS3Hs08"
       ]
      },
      {
       "output_type": "stream",
       "stream": "stdout",
       "text": [
        "\n",
        "\t Saved auc60_roi in NecS3Hs08.iL1/16"
       ]
      },
      {
       "output_type": "stream",
       "stream": "stdout",
       "text": [
        "\n",
        "adata auc60_roi deleted in NecS3Hs09"
       ]
      },
      {
       "output_type": "stream",
       "stream": "stdout",
       "text": [
        "\n",
        "\t Saved auc60_roi in NecS3Hs09.iL1/13"
       ]
      },
      {
       "output_type": "stream",
       "stream": "stdout",
       "text": [
        "\n",
        "adata auc60_roi deleted in NecS3Hs09"
       ]
      },
      {
       "output_type": "stream",
       "stream": "stdout",
       "text": [
        "\n",
        "\t Saved auc60_roi in NecS3Hs09.iL1/19"
       ]
      },
      {
       "output_type": "stream",
       "stream": "stdout",
       "text": [
        "\n",
        "adata auc60_roi deleted in NecS3Hs10"
       ]
      },
      {
       "output_type": "stream",
       "stream": "stdout",
       "text": [
        "\n",
        "\t Saved auc60_roi in NecS3Hs10.iL1/11"
       ]
      },
      {
       "output_type": "stream",
       "stream": "stdout",
       "text": [
        "\n",
        "adata auc60_roi deleted in NecS3Hs10"
       ]
      },
      {
       "output_type": "stream",
       "stream": "stdout",
       "text": [
        "\n",
        "\t Saved auc60_roi in NecS3Hs10.iL1/17"
       ]
      },
      {
       "output_type": "stream",
       "stream": "stdout",
       "text": [
        "\n",
        "adata auc60_roi deleted in NecS3Hs11"
       ]
      },
      {
       "output_type": "stream",
       "stream": "stdout",
       "text": [
        "\n",
        "\t Saved auc60_roi in NecS3Hs11.iL1/10"
       ]
      },
      {
       "output_type": "stream",
       "stream": "stdout",
       "text": [
        "\n",
        "adata auc60_roi deleted in NecS3Hs11"
       ]
      },
      {
       "output_type": "stream",
       "stream": "stdout",
       "text": [
        "\n",
        "\t Saved auc60_roi in NecS3Hs11.iL1/16"
       ]
      },
      {
       "output_type": "stream",
       "stream": "stdout",
       "text": [
        "\n",
        "adata auc60_roi deleted in NecS3Hs12"
       ]
      },
      {
       "output_type": "stream",
       "stream": "stdout",
       "text": [
        "\n",
        "\t Saved auc60_roi in NecS3Hs12.iM3/16"
       ]
      },
      {
       "output_type": "stream",
       "stream": "stdout",
       "text": [
        "\n",
        "adata auc60_roi deleted in NecS3Hs12"
       ]
      },
      {
       "output_type": "stream",
       "stream": "stdout",
       "text": [
        "\n",
        "\t Saved auc60_roi in NecS3Hs12.iM3/22"
       ]
      },
      {
       "output_type": "stream",
       "stream": "stdout",
       "text": [
        "\n",
        "adata auc60_roi deleted in NecS3Hs13"
       ]
      },
      {
       "output_type": "stream",
       "stream": "stdout",
       "text": [
        "\n",
        "\t Saved auc60_roi in NecS3Hs13.iM1/14"
       ]
      },
      {
       "output_type": "stream",
       "stream": "stdout",
       "text": [
        "\n",
        "adata auc60_roi deleted in NecS3Hs13"
       ]
      },
      {
       "output_type": "stream",
       "stream": "stdout",
       "text": [
        "\n",
        "\t Saved auc60_roi in NecS3Hs13.iM1/20"
       ]
      },
      {
       "output_type": "stream",
       "stream": "stdout",
       "text": [
        "\n",
        "adata auc60_roi deleted in NecS3Hs14"
       ]
      },
      {
       "output_type": "stream",
       "stream": "stdout",
       "text": [
        "\n",
        "\t Saved auc60_roi in NecS3Hs14.iM1/13"
       ]
      },
      {
       "output_type": "stream",
       "stream": "stdout",
       "text": [
        "\n",
        "adata auc60_roi deleted in NecS3Hs14"
       ]
      },
      {
       "output_type": "stream",
       "stream": "stdout",
       "text": [
        "\n",
        "\t Saved auc60_roi in NecS3Hs14.iM1/19"
       ]
      },
      {
       "output_type": "stream",
       "stream": "stdout",
       "text": [
        "\n",
        "adata auc60_roi deleted in NecS3Hs15"
       ]
      },
      {
       "output_type": "stream",
       "stream": "stdout",
       "text": [
        "\n",
        "\t Saved auc60_roi in NecS3Hs15.iM1/9"
       ]
      },
      {
       "output_type": "stream",
       "stream": "stdout",
       "text": [
        "\n",
        "adata auc60_roi deleted in NecS3Hs15"
       ]
      },
      {
       "output_type": "stream",
       "stream": "stdout",
       "text": [
        "\n",
        "\t Saved auc60_roi in NecS3Hs15.iM1/15"
       ]
      },
      {
       "output_type": "stream",
       "stream": "stdout",
       "text": [
        "\n",
        "adata auc60_roi deleted in NecS3Hs02"
       ]
      },
      {
       "output_type": "stream",
       "stream": "stdout",
       "text": [
        "\n",
        "\t Saved auc60_roi in NecS3Hs02.iJ1/12"
       ]
      },
      {
       "output_type": "stream",
       "stream": "stdout",
       "text": [
        "\n",
        "adata auc60_roi deleted in NecS3Hs02"
       ]
      },
      {
       "output_type": "stream",
       "stream": "stdout",
       "text": [
        "\n",
        "\t Saved auc60_roi in NecS3Hs02.iJ1/18"
       ]
      },
      {
       "output_type": "stream",
       "stream": "stdout",
       "text": [
        "\n",
        "adata auc60_roi deleted in NecS3Hs04"
       ]
      },
      {
       "output_type": "stream",
       "stream": "stdout",
       "text": [
        "\n",
        "\t Saved auc60_roi in NecS3Hs04.iJ1/11"
       ]
      },
      {
       "output_type": "stream",
       "stream": "stdout",
       "text": [
        "\n",
        "adata auc60_roi deleted in NecS3Hs04"
       ]
      },
      {
       "output_type": "stream",
       "stream": "stdout",
       "text": [
        "\n",
        "\t Saved auc60_roi in NecS3Hs04.iJ1/17"
       ]
      },
      {
       "output_type": "stream",
       "stream": "stdout",
       "text": [
        "\n",
        "adata auc60_roi deleted in NecS3Hs05"
       ]
      },
      {
       "output_type": "stream",
       "stream": "stdout",
       "text": [
        "\n",
        "\t Saved auc60_roi in NecS3Hs05.iJ1/10"
       ]
      },
      {
       "output_type": "stream",
       "stream": "stdout",
       "text": [
        "\n",
        "adata auc60_roi deleted in NecS3Hs05"
       ]
      },
      {
       "output_type": "stream",
       "stream": "stdout",
       "text": [
        "\n",
        "\t Saved auc60_roi in NecS3Hs05.iJ1/16"
       ]
      },
      {
       "output_type": "stream",
       "stream": "stdout",
       "text": [
        "\n",
        "adata auc60_roi deleted in NecS3Hs06"
       ]
      },
      {
       "output_type": "stream",
       "stream": "stdout",
       "text": [
        "\n",
        "\t Saved auc60_roi in NecS3Hs06.iJ1/9"
       ]
      },
      {
       "output_type": "stream",
       "stream": "stdout",
       "text": [
        "\n",
        "adata auc60_roi deleted in NecS3Hs06"
       ]
      },
      {
       "output_type": "stream",
       "stream": "stdout",
       "text": [
        "\n",
        "\t Saved auc60_roi in NecS3Hs06.iJ1/16"
       ]
      },
      {
       "output_type": "stream",
       "stream": "stdout",
       "text": [
        "\n"
       ]
      }
     ],
     "prompt_number": 4
    },
    {
     "cell_type": "markdown",
     "metadata": {},
     "source": [
      "### Advanced Analyses"
     ]
    },
    {
     "cell_type": "code",
     "collapsed": false,
     "input": [
      "import sarpy.fmoosvi.analysis\n",
      "reload(sarpy.fmoosvi.analysis)\n",
      "\n",
      "advancedAnalyses = collections.OrderedDict()\n",
      "fFlag = False\n",
      "\n",
      "## Enhancement Curve\n",
      "advancedAnalyses['ec']={\n",
      "                         'scan_label':'dce-24ha',\n",
      "                         'adata_roi_label':'auc60_roi',\n",
      "                         'adata_save_label':'ec',\n",
      "                         'force_overwrite':fFlag\n",
      "                         }\n",
      "\n",
      "## Gd_conc - 0h\n",
      "advancedAnalyses['gd_conc_0h']={\n",
      "                             'scan_label':'dce-0ha',\n",
      "                             'other_scan_label':'LL-0h-',\n",
      "                             'adata_label':'T1_LL',\n",
      "                             'relaxivity':4.3e-3,\n",
      "                             'adata_save_label':'gd_conc',\n",
      "                             'force_overwrite':fFlag\n",
      "                             }\n",
      "## Gd_conc - 24h\n",
      "advancedAnalyses['gd_conc_24h']={\n",
      "                             'scan_label':'dce-24ha',\n",
      "                             'other_scan_label':'LL-24h-',\n",
      "                             'adata_label':'T1_LL',\n",
      "                             'relaxivity':4.3e-3,\n",
      "                             'adata_save_label':'gd_conc',                            \n",
      "                             'force_overwrite':fFlag\n",
      "                             }\n",
      "\n",
      "## Gd_conc - 0h\n",
      "advancedAnalyses['gd_conc_0h_stitched']={\n",
      "                             'scan_label':'dce-0ha',\n",
      "                             'other_scan_label':'LL-0h-',\n",
      "                             'adata_label':'T1_LL',\n",
      "                             'relaxivity':4.3e-3,\n",
      "                             'adata_save_label':'gd_conc_stitched',\n",
      "                             'masterlist_name': 'NecS3',\n",
      "                             'other_dce_label': 'dce-0hb',\n",
      "                             'force_overwrite':fFlag\n",
      "                             }\n",
      "## Gd_conc - 24h\n",
      "advancedAnalyses['gd_conc_24h_stitched']={\n",
      "                             'scan_label':'dce-24ha',\n",
      "                             'other_scan_label':'LL-24h-',\n",
      "                             'adata_label':'T1_LL',\n",
      "                             'relaxivity':4.3e-3,\n",
      "                             'adata_save_label':'gd_conc_stitched',\n",
      "                             'masterlist_name': masterlist,\n",
      "                             'other_dce_label': 'dce-24hb',                             \n",
      "                             'force_overwrite':fFlag\n",
      "                             }\n",
      "\n",
      "## AUGC60 - 0h\n",
      "advancedAnalyses['augc_0h']={\n",
      "                             'scan_label':'dce-0ha',\n",
      "                             'other_scan_label':'LL-0h-',\n",
      "                             'adata_label':'gd_conc',\n",
      "                             'relaxivity':4.3e-3,\n",
      "                             'adata_save_label':'augc60',\n",
      "                             'force_overwrite':fFlag\n",
      "                             }\n",
      "## AUGC60 - 24h\n",
      "advancedAnalyses['augc_24h']={\n",
      "                             'scan_label':'dce-24ha',\n",
      "                             'other_scan_label':'LL-24h-',\n",
      "                             'adata_label':'gd_conc',\n",
      "                             'relaxivity':4.3e-3,\n",
      "                             'adata_save_label':'augc60',\n",
      "                             'force_overwrite':fFlag\n",
      "                             }\n",
      "\n",
      "\n",
      "for atype in advancedAnalyses:\n",
      "           \n",
      "    toAnalyze = True\n",
      "    \n",
      "    if 'ec' in atype:\n",
      "                   \n",
      "        def myfunc(dict_of_params):\n",
      "            import sarpy.fmoosvi.analysis            \n",
      "            reload(sarpy.fmoosvi.analysis)\n",
      "            \n",
      "            import sarpy.fmoosvi.getters\n",
      "            reload(sarpy.fmoosvi.getters)\n",
      "            \n",
      "            import sys\n",
      "\n",
      "            return sarpy.fmoosvi.analysis.h_enhancement_curve(**dict_of_params)\n",
      "    \n",
      "    elif 'gd_conc' in atype:\n",
      "\n",
      "        def myfunc(dict_of_params):\n",
      "        \n",
      "            import sarpy.fmoosvi.analysis            \n",
      "            reload(sarpy.fmoosvi.analysis)\n",
      "            \n",
      "            import sarpy.fmoosvi.getters\n",
      "            reload(sarpy.fmoosvi.getters)\n",
      "            \n",
      "            import sys\n",
      "            return sarpy.fmoosvi.analysis.h_conc_from_signal(**dict_of_params)\n",
      "        \n",
      "    elif 'augc' in atype:\n",
      "        \n",
      "\n",
      "        def myfunc(dict_of_params):\n",
      "        \n",
      "            import sarpy.fmoosvi.analysis            \n",
      "            reload(sarpy.fmoosvi.analysis)\n",
      "            \n",
      "            import sarpy.fmoosvi.getters\n",
      "            reload(sarpy.fmoosvi.getters)\n",
      "            \n",
      "            import sys\n",
      "            return sarpy.fmoosvi.analysis.h_calculate_AUGC(**dict_of_params)\n",
      "    else:\n",
      "        \n",
      "        toAnalyze = False\n",
      "        \n",
      "    if toAnalyze:  \n",
      "        \n",
      "        print atype\n",
      "        ## Create the factory, and then execute                \n",
      "        an = sarpy.io.bulk_analyze.ParallelBulkAnalyzerFactory.from_function(myfunc, \n",
      "                                                            masterlist_fname=masterlist, \n",
      "                                                            **advancedAnalyses[atype])\n",
      "        an.process()\n",
      "print 'Analyses complete'"
     ],
     "language": "python",
     "metadata": {},
     "outputs": [
      {
       "output_type": "stream",
       "stream": "stdout",
       "text": [
        "ec\n",
        "###########\n",
        "Currently, there are 16 clients running\n",
        "importing os on engine(s)\n",
        "importing sys on engine(s)\n",
        "importing sarpy on engine(s)\n",
        "importing sarpy.fmoosvi.analysis on engine(s)"
       ]
      },
      {
       "output_type": "stream",
       "stream": "stdout",
       "text": [
        "\n",
        "###########"
       ]
      },
      {
       "output_type": "stream",
       "stream": "stdout",
       "text": [
        "\n",
        "no scans fit the criterion so nothing was processed"
       ]
      },
      {
       "output_type": "stream",
       "stream": "stdout",
       "text": [
        "\n",
        "###### Parallelized Code: 0.327152013779 s \n",
        "\n",
        "gd_conc_0h\n",
        "###########\n",
        "Currently, there are 16 clients running\n",
        "importing os on engine(s)\n",
        "importing sys on engine(s)"
       ]
      },
      {
       "output_type": "stream",
       "stream": "stdout",
       "text": [
        "\n",
        "importing sarpy on engine(s)\n",
        "importing sarpy.fmoosvi.analysis on engine(s)\n",
        "###########"
       ]
      },
      {
       "output_type": "stream",
       "stream": "stdout",
       "text": [
        "\n",
        "no scans fit the criterion so nothing was processed"
       ]
      },
      {
       "output_type": "stream",
       "stream": "stdout",
       "text": [
        "\n",
        "###### Parallelized Code: 0.110198974609 s \n",
        "\n",
        "gd_conc_24h\n",
        "###########\n",
        "Currently, there are 16 clients running\n",
        "importing os on engine(s)\n",
        "importing sys on engine(s)"
       ]
      },
      {
       "output_type": "stream",
       "stream": "stdout",
       "text": [
        "\n",
        "importing sarpy on engine(s)\n",
        "importing sarpy.fmoosvi.analysis on engine(s)\n",
        "###########"
       ]
      },
      {
       "output_type": "stream",
       "stream": "stdout",
       "text": [
        "\n",
        "no scans fit the criterion so nothing was processed"
       ]
      },
      {
       "output_type": "stream",
       "stream": "stdout",
       "text": [
        "\n",
        "###### Parallelized Code: 0.317482948303 s \n",
        "\n",
        "gd_conc_0h_stitched\n",
        "###########\n",
        "Currently, there are 16 clients running\n",
        "importing os on engine(s)\n",
        "importing sys on engine(s)"
       ]
      },
      {
       "output_type": "stream",
       "stream": "stdout",
       "text": [
        "\n",
        "importing sarpy on engine(s)\n",
        "importing sarpy.fmoosvi.analysis on engine(s)\n",
        "###########"
       ]
      },
      {
       "output_type": "stream",
       "stream": "stdout",
       "text": [
        "\n",
        "no scans fit the criterion so nothing was processed"
       ]
      }
     ],
     "prompt_number": "*"
    },
    {
     "cell_type": "code",
     "collapsed": false,
     "input": [
      "fFlag = True\n",
      "label = []\n",
      "label.append('augc60')\n",
      "\n",
      "for l in label:\n",
      "    sarpy.fmoosvi.wrappers.bulk_transfer_roi(masterlist,l,forceVal = fFlag)"
     ],
     "language": "python",
     "metadata": {},
     "outputs": [
      {
       "output_type": "stream",
       "stream": "stdout",
       "text": [
        "adata augc60_roi deleted in NecS3Hs02\n",
        "\t Saved augc60_roi in NecS3Hs02.iK1/14"
       ]
      },
      {
       "output_type": "stream",
       "stream": "stdout",
       "text": [
        "\n",
        "adata augc60_roi deleted in NecS3Hs04"
       ]
      },
      {
       "output_type": "stream",
       "stream": "stdout",
       "text": [
        "\n",
        "\t Saved augc60_roi in NecS3Hs04.iK2/23"
       ]
      },
      {
       "output_type": "stream",
       "stream": "stdout",
       "text": [
        "\n",
        "adata augc60_roi deleted in NecS3Hs05"
       ]
      },
      {
       "output_type": "stream",
       "stream": "stdout",
       "text": [
        "\n",
        "\t Saved augc60_roi in NecS3Hs05.iK1/11"
       ]
      },
      {
       "output_type": "stream",
       "stream": "stdout",
       "text": [
        "\n",
        "adata augc60_roi deleted in NecS3Hs06"
       ]
      },
      {
       "output_type": "stream",
       "stream": "stdout",
       "text": [
        "\n",
        "\t Saved augc60_roi in NecS3Hs06.iK1/13"
       ]
      },
      {
       "output_type": "stream",
       "stream": "stdout",
       "text": [
        "\n",
        "adata augc60_roi deleted in NecS3Hs08"
       ]
      },
      {
       "output_type": "stream",
       "stream": "stdout",
       "text": [
        "\n",
        "\t Saved augc60_roi in NecS3Hs08.iL1/10"
       ]
      },
      {
       "output_type": "stream",
       "stream": "stdout",
       "text": [
        "\n",
        "adata augc60_roi deleted in NecS3Hs09"
       ]
      },
      {
       "output_type": "stream",
       "stream": "stdout",
       "text": [
        "\n",
        "\t Saved augc60_roi in NecS3Hs09.iL1/13"
       ]
      },
      {
       "output_type": "stream",
       "stream": "stdout",
       "text": [
        "\n",
        "adata augc60_roi deleted in NecS3Hs10"
       ]
      },
      {
       "output_type": "stream",
       "stream": "stdout",
       "text": [
        "\n",
        "\t Saved augc60_roi in NecS3Hs10.iL1/11"
       ]
      },
      {
       "output_type": "stream",
       "stream": "stdout",
       "text": [
        "\n",
        "adata augc60_roi deleted in NecS3Hs11"
       ]
      },
      {
       "output_type": "stream",
       "stream": "stdout",
       "text": [
        "\n",
        "\t Saved augc60_roi in NecS3Hs11.iL1/10"
       ]
      },
      {
       "output_type": "stream",
       "stream": "stdout",
       "text": [
        "\n",
        "adata augc60_roi deleted in NecS3Hs13"
       ]
      },
      {
       "output_type": "stream",
       "stream": "stdout",
       "text": [
        "\n",
        "\t Saved augc60_roi in NecS3Hs13.iM1/14"
       ]
      },
      {
       "output_type": "stream",
       "stream": "stdout",
       "text": [
        "\n",
        "adata augc60_roi deleted in NecS3Hs14"
       ]
      },
      {
       "output_type": "stream",
       "stream": "stdout",
       "text": [
        "\n",
        "\t Saved augc60_roi in NecS3Hs14.iM1/13"
       ]
      },
      {
       "output_type": "stream",
       "stream": "stdout",
       "text": [
        "\n",
        "adata augc60_roi deleted in NecS3Hs15"
       ]
      },
      {
       "output_type": "stream",
       "stream": "stdout",
       "text": [
        "\n",
        "\t Saved augc60_roi in NecS3Hs15.iM1/9"
       ]
      },
      {
       "output_type": "stream",
       "stream": "stdout",
       "text": [
        "\n",
        "adata augc60_roi deleted in NecS3Hs02"
       ]
      },
      {
       "output_type": "stream",
       "stream": "stdout",
       "text": [
        "\n",
        "\t Saved augc60_roi in NecS3Hs02.iJ1/12"
       ]
      },
      {
       "output_type": "stream",
       "stream": "stdout",
       "text": [
        "\n",
        "adata augc60_roi deleted in NecS3Hs04"
       ]
      },
      {
       "output_type": "stream",
       "stream": "stdout",
       "text": [
        "\n",
        "\t Saved augc60_roi in NecS3Hs04.iJ1/11"
       ]
      },
      {
       "output_type": "stream",
       "stream": "stdout",
       "text": [
        "\n",
        "adata augc60_roi deleted in NecS3Hs05"
       ]
      },
      {
       "output_type": "stream",
       "stream": "stdout",
       "text": [
        "\n",
        "\t Saved augc60_roi in NecS3Hs05.iJ1/10"
       ]
      },
      {
       "output_type": "stream",
       "stream": "stdout",
       "text": [
        "\n",
        "adata augc60_roi deleted in NecS3Hs06"
       ]
      },
      {
       "output_type": "stream",
       "stream": "stdout",
       "text": [
        "\n",
        "\t Saved augc60_roi in NecS3Hs06.iJ1/9"
       ]
      },
      {
       "output_type": "stream",
       "stream": "stdout",
       "text": [
        "\n"
       ]
      }
     ],
     "prompt_number": 4
    },
    {
     "cell_type": "code",
     "collapsed": false,
     "input": [
      "fFlag = True\n",
      "\n",
      "deltaT1s = collections.OrderedDict()\n",
      "## Delta T1 - \n",
      "deltaT1s['deltaT1']={  'masterlist_name':masterlist,\n",
      "                         'T1map_1':'LL-24h-',\n",
      "                         'T1map_2':'LL-24h+',\n",
      "                         'adata_label1':'T1_LL',\n",
      "                         'adata_save_label':'deltaT1',\n",
      "                         'force_overwrite':fFlag\n",
      "                         }\n",
      "\n",
      "for k,v in deltaT1s.iteritems():\n",
      "    \n",
      "    sarpy.fmoosvi.wrappers.store_deltaT1(**deltaT1s[k])"
     ],
     "language": "python",
     "metadata": {},
     "outputs": [
      {
       "output_type": "stream",
       "stream": "stdout",
       "text": [
        "deltaT1: Not found adata T1_LL or T1_LL in patient NecS3Hs02\n",
        "deltaT1: Not found adata T1_LL or T1_LL in patient NecS3Hs04\n",
        "deltaT1: Not found adata T1_LL or T1_LL in patient NecS3Hs05\n",
        "deltaT1: Not found adata T1_LL or T1_LL in patient NecS3Hs06\n",
        "deltaT1: Not found adata T1_LL or T1_LL in patient NecS3Hs08\n",
        "adata deltaT1 deleted in NecS3Hs09"
       ]
      },
      {
       "output_type": "stream",
       "stream": "stdout",
       "text": [
        "\n",
        "deltaT1: Saved NecS3Hs09.iL1/24"
       ]
      },
      {
       "output_type": "stream",
       "stream": "stdout",
       "text": [
        "\n",
        "deltaT1: Not found adata T1_LL or T1_LL in patient NecS3Hs10\n",
        "deltaT1: Not found adata T1_LL or T1_LL in patient NecS3Hs11\n",
        "deltaT1: Not found adata T1_LL or T1_LL in patient NecS3Hs12\n",
        "deltaT1: Not found adata T1_LL or T1_LL in patient NecS3Hs13\n",
        "deltaT1: Not found adata T1_LL or T1_LL in patient NecS3Hs14\n",
        "deltaT1: Not found adata T1_LL or T1_LL in patient NecS3Hs15\n"
       ]
      }
     ],
     "prompt_number": 5
    },
    {
     "cell_type": "markdown",
     "metadata": {},
     "source": [
      "### Writing data to csv"
     ]
    },
    {
     "cell_type": "code",
     "collapsed": false,
     "input": [
      "adata_to_csv = []\n",
      "\n",
      "adata_to_csv.append(['dce-24ha','auc60'])\n",
      "adata_to_csv.append(['dce-24ha','augc60'])\n",
      "adata_to_csv.append(['LL-0h-','T1_LL'])\n",
      "adata_to_csv.append(['LL-24h-','T1_LL'])\n",
      "adata_to_csv.append(['LL-24h+','T1_LL'])\n",
      "adata_to_csv.append(['LL-24h+','deltaT1','T1_LL_roi'])\n",
      "\n",
      "for k in adata_to_csv:\n",
      "    \n",
      "    if len(k) ==2:\n",
      "        sarpy.io.write_csv.write_csv(masterlist,k[0],k[1])\n",
      "    else:\n",
      "        sarpy.io.write_csv.write_csv(masterlist,k[0],k[1],roi_override=k[2])"
     ],
     "language": "python",
     "metadata": {},
     "outputs": [
      {
       "output_type": "stream",
       "stream": "stdout",
       "text": [
        "write_csv: Not found NecS3Hs12 and dce-24ha,augc60\n",
        "write_csv: Not found NecS3Hs12 and LL-24h-,T1_LL"
       ]
      },
      {
       "output_type": "stream",
       "stream": "stdout",
       "text": [
        "\n",
        "write_csv: Not found NecS3Hs02 and LL-24h+,T1_LL"
       ]
      },
      {
       "output_type": "stream",
       "stream": "stdout",
       "text": [
        "\n",
        "write_csv: Not found NecS3Hs04 and LL-24h+,T1_LL\n",
        "write_csv: Not found NecS3Hs05 and LL-24h+,T1_LL\n",
        "write_csv: Not found NecS3Hs06 and LL-24h+,T1_LL\n",
        "write_csv: Not found NecS3Hs08 and LL-24h+,T1_LL\n",
        "write_csv: Not found NecS3Hs10 and LL-24h+,T1_LL"
       ]
      },
      {
       "output_type": "stream",
       "stream": "stdout",
       "text": [
        "\n",
        "write_csv: Not found NecS3Hs11 and LL-24h+,T1_LL\n",
        "write_csv: Not found NecS3Hs12 and LL-24h+,T1_LL\n",
        "write_csv: Not found NecS3Hs13 and LL-24h+,T1_LL\n",
        "write_csv: Not found NecS3Hs14 and LL-24h+,T1_LL\n",
        "write_csv: Not found NecS3Hs15 and LL-24h+,T1_LL\n",
        "write_csv: Not found NecS3Hs02 and LL-24h+,deltaT1"
       ]
      },
      {
       "output_type": "stream",
       "stream": "stdout",
       "text": [
        "\n",
        "write_csv: Not found NecS3Hs04 and LL-24h+,deltaT1\n",
        "write_csv: Not found NecS3Hs05 and LL-24h+,deltaT1\n",
        "write_csv: Not found NecS3Hs06 and LL-24h+,deltaT1\n",
        "write_csv: Not found NecS3Hs08 and LL-24h+,deltaT1\n",
        "write_csv: Not found NecS3Hs10 and LL-24h+,deltaT1"
       ]
      },
      {
       "output_type": "stream",
       "stream": "stdout",
       "text": [
        "\n",
        "write_csv: Not found NecS3Hs11 and LL-24h+,deltaT1\n",
        "write_csv: Not found NecS3Hs12 and LL-24h+,deltaT1\n",
        "write_csv: Not found NecS3Hs13 and LL-24h+,deltaT1\n",
        "write_csv: Not found NecS3Hs14 and LL-24h+,deltaT1\n",
        "write_csv: Not found NecS3Hs15 and LL-24h+,deltaT1\n"
       ]
      }
     ],
     "prompt_number": 3
    },
    {
     "cell_type": "code",
     "collapsed": false,
     "input": [
      "# Desperation ISMRM 2014\n",
      "\n"
     ],
     "language": "python",
     "metadata": {},
     "outputs": []
    },
    {
     "cell_type": "markdown",
     "metadata": {},
     "source": [
      "### Generating Tumourboards"
     ]
    },
    {
     "cell_type": "code",
     "collapsed": false,
     "input": [
      "tumourboards = []\n",
      "tumourboards.append('NecS3/NecS3.TB')\n",
      "\n",
      "os.chdir(os.path.expanduser(os.path.join('~','sarpy/python/sarpy/io')))"
     ],
     "language": "python",
     "metadata": {},
     "outputs": [],
     "prompt_number": 7
    },
    {
     "cell_type": "code",
     "collapsed": false,
     "input": [
      "for tb in tumourboards:\n",
      "    %run ./tumourboard.py -c $tb"
     ],
     "language": "python",
     "metadata": {},
     "outputs": [
      {
       "output_type": "stream",
       "stream": "stdout",
       "text": [
        "\n",
        "--------------------------------------------------------------------------------\n",
        "NecS3Hs02\n",
        "('IR-0h-', u'NecS3Hs02.iJ1/11', '05_IR-RARE-anatomy_highres')"
       ]
      },
      {
       "output_type": "stream",
       "stream": "stdout",
       "text": [
        "\n",
        "('dce-0ha', u'NecS3Hs02.iJ1/12', '06_FLASH2D.6sl-DCE')"
       ]
      },
      {
       "output_type": "stream",
       "stream": "stdout",
       "text": [
        "\n",
        "('LL-0h-', u'NecS3Hs02.iJ1/10', '04_ubcLL2')"
       ]
      },
      {
       "output_type": "stream",
       "stream": "stdout",
       "text": [
        "\n",
        "('LL-0h-', u'NecS3Hs02.iJ1/10', '04_ubcLL2')"
       ]
      },
      {
       "output_type": "stream",
       "stream": "stdout",
       "text": [
        "\n",
        "('IR-24h-', u'NecS3Hs02.iK1/19', '05_IR-RARE-anatomy')"
       ]
      },
      {
       "output_type": "stream",
       "stream": "stdout",
       "text": [
        "\n",
        "('LL-24h-', u'NecS3Hs02.iK1/11', '04_ubcLL2')"
       ]
      },
      {
       "output_type": "stream",
       "stream": "stdout",
       "text": [
        "\n",
        "('LL-24h-', u'NecS3Hs02.iK1/11', '04_ubcLL2')"
       ]
      },
      {
       "output_type": "stream",
       "stream": "stdout",
       "text": [
        "\n",
        "('dce-24ha', u'NecS3Hs02.iK1/14', '06_FLASH2D.6sl-DCE')"
       ]
      },
      {
       "output_type": "stream",
       "stream": "stdout",
       "text": [
        "\n",
        "('dce-24ha', u'NecS3Hs02.iK1/14', '06_FLASH2D.6sl-DCE')"
       ]
      },
      {
       "output_type": "stream",
       "stream": "stdout",
       "text": [
        "\n",
        "\n",
        "--------------------------------------------------------------------------------\n",
        "NecS3Hs04"
       ]
      },
      {
       "output_type": "stream",
       "stream": "stdout",
       "text": [
        "\n",
        "('IR-0h-', u'NecS3Hs04.iJ1/10', '05_IR-RARE-anatomy')"
       ]
      },
      {
       "output_type": "stream",
       "stream": "stdout",
       "text": [
        "\n",
        "('dce-0ha', u'NecS3Hs04.iJ1/11', '06_FLASH2D.6sl-DCE')"
       ]
      },
      {
       "output_type": "stream",
       "stream": "stdout",
       "text": [
        "\n",
        "('LL-0h-', u'NecS3Hs04.iJ1/9', '04_ubcLL2')"
       ]
      },
      {
       "output_type": "stream",
       "stream": "stdout",
       "text": [
        "\n",
        "('LL-0h-', u'NecS3Hs04.iJ1/9', '04_ubcLL2')"
       ]
      },
      {
       "output_type": "stream",
       "stream": "stdout",
       "text": [
        "\n",
        "('IR-24h-', u'NecS3Hs04.iK2/11', '05_IR-RARE-anatomy')"
       ]
      },
      {
       "output_type": "stream",
       "stream": "stdout",
       "text": [
        "\n",
        "('LL-24h-', u'NecS3Hs04.iK1/10', '04_ubcLL2')"
       ]
      },
      {
       "output_type": "stream",
       "stream": "stdout",
       "text": [
        "\n",
        "('LL-24h-', u'NecS3Hs04.iK1/10', '04_ubcLL2')"
       ]
      },
      {
       "output_type": "stream",
       "stream": "stdout",
       "text": [
        "\n",
        "('dce-24ha', u'NecS3Hs04.iK2/23', '06_FLASH2D.6sl-DCE')"
       ]
      },
      {
       "output_type": "stream",
       "stream": "stdout",
       "text": [
        "\n",
        "('dce-24ha', u'NecS3Hs04.iK2/23', '06_FLASH2D.6sl-DCE')"
       ]
      },
      {
       "output_type": "stream",
       "stream": "stdout",
       "text": [
        "\n",
        "\n",
        "--------------------------------------------------------------------------------\n",
        "NecS3Hs05"
       ]
      },
      {
       "output_type": "stream",
       "stream": "stdout",
       "text": [
        "\n",
        "('IR-0h-', u'NecS3Hs05.iJ1/9', '05_IR-RARE-anatomy')"
       ]
      },
      {
       "output_type": "stream",
       "stream": "stdout",
       "text": [
        "\n",
        "('dce-0ha', u'NecS3Hs05.iJ1/10', '06_FLASH2D.6sl-DCE')"
       ]
      },
      {
       "output_type": "stream",
       "stream": "stdout",
       "text": [
        "\n",
        "('LL-0h-', u'NecS3Hs05.iJ1/8', '04_ubcLL2')"
       ]
      },
      {
       "output_type": "stream",
       "stream": "stdout",
       "text": [
        "\n",
        "('LL-0h-', u'NecS3Hs05.iJ1/8', '04_ubcLL2')"
       ]
      },
      {
       "output_type": "stream",
       "stream": "stdout",
       "text": [
        "\n",
        "('IR-24h-', u'NecS3Hs05.iK1/10', '05_IR-RARE-anatomy')"
       ]
      },
      {
       "output_type": "stream",
       "stream": "stdout",
       "text": [
        "\n",
        "('LL-24h-', u'NecS3Hs05.iK1/9', '04_ubcLL2')"
       ]
      },
      {
       "output_type": "stream",
       "stream": "stdout",
       "text": [
        "\n",
        "('LL-24h-', u'NecS3Hs05.iK1/9', '04_ubcLL2')"
       ]
      },
      {
       "output_type": "stream",
       "stream": "stdout",
       "text": [
        "\n",
        "('dce-24ha', u'NecS3Hs05.iK1/11', '06_FLASH2D.6sl-DCE')"
       ]
      },
      {
       "output_type": "stream",
       "stream": "stdout",
       "text": [
        "\n",
        "('dce-24ha', u'NecS3Hs05.iK1/11', '06_FLASH2D.6sl-DCE')"
       ]
      },
      {
       "output_type": "stream",
       "stream": "stdout",
       "text": [
        "\n",
        "\n",
        "--------------------------------------------------------------------------------\n",
        "NecS3Hs06"
       ]
      },
      {
       "output_type": "stream",
       "stream": "stdout",
       "text": [
        "\n",
        "('IR-0h-', u'NecS3Hs06.iJ1/8', '05_IR-RARE-anatomy')"
       ]
      },
      {
       "output_type": "stream",
       "stream": "stdout",
       "text": [
        "\n",
        "('dce-0ha', u'NecS3Hs06.iJ1/9', '06_FLASH2D.6sl-DCE')"
       ]
      },
      {
       "output_type": "stream",
       "stream": "stdout",
       "text": [
        "\n",
        "('LL-0h-', u'NecS3Hs06.iJ1/7', '04_ubcLL2')"
       ]
      },
      {
       "output_type": "stream",
       "stream": "stdout",
       "text": [
        "\n",
        "('LL-0h-', u'NecS3Hs06.iJ1/7', '04_ubcLL2')"
       ]
      },
      {
       "output_type": "stream",
       "stream": "stdout",
       "text": [
        "\n",
        "('IR-24h-', u'NecS3Hs06.iK1/12', '05_IR-RARE-anatomy')"
       ]
      },
      {
       "output_type": "stream",
       "stream": "stdout",
       "text": [
        "\n",
        "('LL-24h-', u'NecS3Hs06.iK1/11', '04_ubcLL2')"
       ]
      },
      {
       "output_type": "stream",
       "stream": "stderr",
       "text": [
        "/Library/Python/2.7/site-packages/matplotlib-1.4.x-py2.7-macosx-10.9-intel.egg/matplotlib/__init__.py:1168: UserWarning:  This call to matplotlib.use() has no effect\n",
        "because the backend has already been chosen;\n",
        "matplotlib.use() must be called *before* pylab, matplotlib.pyplot,\n",
        "or matplotlib.backends is imported for the first time.\n",
        "\n",
        "  warnings.warn(_use_error_msg)\n",
        "./tumourboard.py:221: RuntimeWarning: invalid value encountered in isnan\n",
        "  xdata_mask = numpy.ma.array(xdata,mask=numpy.isnan(xdata))\n"
       ]
      },
      {
       "output_type": "stream",
       "stream": "stdout",
       "text": [
        "\n",
        "('LL-24h-', u'NecS3Hs06.iK1/11', '04_ubcLL2')"
       ]
      },
      {
       "output_type": "stream",
       "stream": "stdout",
       "text": [
        "\n",
        "('dce-24ha', u'NecS3Hs06.iK1/13', '06_FLASH2D.6sl-DCE')"
       ]
      },
      {
       "output_type": "stream",
       "stream": "stdout",
       "text": [
        "\n",
        "('dce-24ha', u'NecS3Hs06.iK1/13', '06_FLASH2D.6sl-DCE')"
       ]
      },
      {
       "output_type": "stream",
       "stream": "stdout",
       "text": [
        "\n",
        "\n",
        "--------------------------------------------------------------------------------\n",
        "NecS3Hs08"
       ]
      },
      {
       "output_type": "stream",
       "stream": "stdout",
       "text": [
        "\n",
        "('IR-0h-', u'NecS3Hs08.iK1/8', '05_IR-RARE-anatomy_highres')"
       ]
      },
      {
       "output_type": "stream",
       "stream": "stdout",
       "text": [
        "\n",
        "('LL-0h-', u'NecS3Hs08.iK1/7', '04_ubcLL2')"
       ]
      },
      {
       "output_type": "stream",
       "stream": "stdout",
       "text": [
        "\n",
        "('LL-0h-', u'NecS3Hs08.iK1/7', '04_ubcLL2')"
       ]
      },
      {
       "output_type": "stream",
       "stream": "stdout",
       "text": [
        "\n",
        "('IR-24h-', u'NecS3Hs08.iL1/9', '05_IR-RARE-anatomy')"
       ]
      },
      {
       "output_type": "stream",
       "stream": "stdout",
       "text": [
        "\n",
        "('LL-24h-', u'NecS3Hs08.iL1/8', '04_ubcLL2')"
       ]
      },
      {
       "output_type": "stream",
       "stream": "stdout",
       "text": [
        "\n",
        "('LL-24h-', u'NecS3Hs08.iL1/8', '04_ubcLL2')"
       ]
      },
      {
       "output_type": "stream",
       "stream": "stdout",
       "text": [
        "\n",
        "('dce-24ha', u'NecS3Hs08.iL1/10', '06_FLASH2D.6sl-DCE')"
       ]
      },
      {
       "output_type": "stream",
       "stream": "stdout",
       "text": [
        "\n",
        "('dce-24ha', u'NecS3Hs08.iL1/10', '06_FLASH2D.6sl-DCE')"
       ]
      },
      {
       "output_type": "stream",
       "stream": "stdout",
       "text": [
        "\n",
        "\n",
        "--------------------------------------------------------------------------------\n",
        "NecS3Hs09"
       ]
      },
      {
       "output_type": "stream",
       "stream": "stdout",
       "text": [
        "\n",
        "('IR-0h-', u'NecS3Hs09.iK1/8', '05_IR-RARE-anatomy')"
       ]
      },
      {
       "output_type": "stream",
       "stream": "stdout",
       "text": [
        "\n",
        "('LL-0h-', u'NecS3Hs09.iK1/7', '04_ubcLL2')"
       ]
      },
      {
       "output_type": "stream",
       "stream": "stdout",
       "text": [
        "\n",
        "('LL-0h-', u'NecS3Hs09.iK1/7', '04_ubcLL2')"
       ]
      },
      {
       "output_type": "stream",
       "stream": "stdout",
       "text": [
        "\n",
        "('IR-24h-', u'NecS3Hs09.iL1/12', '05_IR-RARE-anatomy')"
       ]
      },
      {
       "output_type": "stream",
       "stream": "stdout",
       "text": [
        "\n",
        "('LL-24h-', u'NecS3Hs09.iL1/11', '04_ubcLL2')"
       ]
      },
      {
       "output_type": "stream",
       "stream": "stdout",
       "text": [
        "\n",
        "('LL-24h-', u'NecS3Hs09.iL1/11', '04_ubcLL2')"
       ]
      },
      {
       "output_type": "stream",
       "stream": "stdout",
       "text": [
        "\n",
        "('LL-24h+', u'NecS3Hs09.iL1/24', '04_ubcLL2')"
       ]
      },
      {
       "output_type": "stream",
       "stream": "stdout",
       "text": [
        "\n",
        "('LL-24h+', u'NecS3Hs09.iL1/24', '04_ubcLL2')"
       ]
      },
      {
       "output_type": "stream",
       "stream": "stdout",
       "text": [
        "\n",
        "('dce-24ha', u'NecS3Hs09.iL1/13', '06_FLASH2D.6sl-DCE')"
       ]
      },
      {
       "output_type": "stream",
       "stream": "stdout",
       "text": [
        "\n",
        "('dce-24ha', u'NecS3Hs09.iL1/13', '06_FLASH2D.6sl-DCE')"
       ]
      },
      {
       "output_type": "stream",
       "stream": "stdout",
       "text": [
        "\n",
        "\n",
        "--------------------------------------------------------------------------------\n",
        "NecS3Hs10"
       ]
      },
      {
       "output_type": "stream",
       "stream": "stdout",
       "text": [
        "\n",
        "('IR-0h-', u'NecS3Hs10.iK1/7', '05_IR-RARE-anatomy')"
       ]
      },
      {
       "output_type": "stream",
       "stream": "stdout",
       "text": [
        "\n",
        "('LL-0h-', u'NecS3Hs10.iK1/6', '04_ubcLL2')"
       ]
      },
      {
       "output_type": "stream",
       "stream": "stdout",
       "text": [
        "\n",
        "('LL-0h-', u'NecS3Hs10.iK1/6', '04_ubcLL2')"
       ]
      },
      {
       "output_type": "stream",
       "stream": "stdout",
       "text": [
        "\n",
        "('IR-24h-', u'NecS3Hs10.iL1/16', '05_IR-RARE-anatomy')"
       ]
      },
      {
       "output_type": "stream",
       "stream": "stdout",
       "text": [
        "\n",
        "('LL-24h-', u'NecS3Hs10.iL1/9', '04_ubcLL2')"
       ]
      },
      {
       "output_type": "stream",
       "stream": "stdout",
       "text": [
        "\n",
        "('LL-24h-', u'NecS3Hs10.iL1/9', '04_ubcLL2')"
       ]
      },
      {
       "output_type": "stream",
       "stream": "stdout",
       "text": [
        "\n",
        "('dce-24ha', u'NecS3Hs10.iL1/11', '06_FLASH2D.6sl-DCE')"
       ]
      },
      {
       "output_type": "stream",
       "stream": "stdout",
       "text": [
        "\n",
        "('dce-24ha', u'NecS3Hs10.iL1/11', '06_FLASH2D.6sl-DCE')"
       ]
      },
      {
       "output_type": "stream",
       "stream": "stdout",
       "text": [
        "\n",
        "\n",
        "--------------------------------------------------------------------------------\n",
        "NecS3Hs11"
       ]
      },
      {
       "output_type": "stream",
       "stream": "stdout",
       "text": [
        "\n",
        "('IR-0h-', u'NecS3Hs11.iK1/10', '05_IR-RARE-anatomy')"
       ]
      },
      {
       "output_type": "stream",
       "stream": "stdout",
       "text": [
        "\n",
        "('LL-0h-', u'NecS3Hs11.iK1/9', '04_ubcLL2')"
       ]
      },
      {
       "output_type": "stream",
       "stream": "stdout",
       "text": [
        "\n",
        "('LL-0h-', u'NecS3Hs11.iK1/9', '04_ubcLL2')"
       ]
      },
      {
       "output_type": "stream",
       "stream": "stdout",
       "text": [
        "\n",
        "('IR-24h-', u'NecS3Hs11.iL1/9', '05_IR-RARE-anatomy')"
       ]
      },
      {
       "output_type": "stream",
       "stream": "stdout",
       "text": [
        "\n",
        "('LL-24h-', u'NecS3Hs11.iL1/8', '04_ubcLL2')"
       ]
      },
      {
       "output_type": "stream",
       "stream": "stdout",
       "text": [
        "\n",
        "('LL-24h-', u'NecS3Hs11.iL1/8', '04_ubcLL2')"
       ]
      },
      {
       "output_type": "stream",
       "stream": "stdout",
       "text": [
        "\n",
        "('dce-24ha', u'NecS3Hs11.iL1/10', '06_FLASH2D.6sl-DCE')"
       ]
      },
      {
       "output_type": "stream",
       "stream": "stdout",
       "text": [
        "\n",
        "('dce-24ha', u'NecS3Hs11.iL1/10', '06_FLASH2D.6sl-DCE')"
       ]
      },
      {
       "output_type": "stream",
       "stream": "stdout",
       "text": [
        "\n",
        "\n",
        "--------------------------------------------------------------------------------\n",
        "NecS3Hs12"
       ]
      },
      {
       "output_type": "stream",
       "stream": "stdout",
       "text": [
        "\n",
        "('IR-0h-', u'NecS3Hs12.iL1/8', '05_IR-RARE-anatomy')"
       ]
      },
      {
       "output_type": "stream",
       "stream": "stdout",
       "text": [
        "\n",
        "('LL-0h-', u'NecS3Hs12.iL1/7', '04_ubcLL2')"
       ]
      },
      {
       "output_type": "stream",
       "stream": "stdout",
       "text": [
        "\n",
        "('LL-0h-', u'NecS3Hs12.iL1/7', '04_ubcLL2')"
       ]
      },
      {
       "output_type": "stream",
       "stream": "stdout",
       "text": [
        "\n",
        "('IR-24h-', u'NecS3Hs12.iM3/15', '05_IR-RARE-anatomy')"
       ]
      },
      {
       "output_type": "stream",
       "stream": "stdout",
       "text": [
        "\n",
        "('dce-24ha', u'NecS3Hs12.iM3/16', '06_FLASH2D.6sl-DCE')"
       ]
      },
      {
       "output_type": "stream",
       "stream": "stdout",
       "text": [
        "\n",
        "Adata Scan failed for NecS3Hs12,augc60 \n",
        " \n",
        "\n",
        "('dce-24ha', u'NecS3Hs12.iM3/16', '06_FLASH2D.6sl-DCE')"
       ]
      },
      {
       "output_type": "stream",
       "stream": "stdout",
       "text": [
        "\n",
        "\n",
        "--------------------------------------------------------------------------------\n",
        "NecS3Hs13"
       ]
      },
      {
       "output_type": "stream",
       "stream": "stdout",
       "text": [
        "\n",
        "('IR-0h-', u'NecS3Hs13.iL1/8', '05_IR-RARE-anatomy')"
       ]
      },
      {
       "output_type": "stream",
       "stream": "stdout",
       "text": [
        "\n",
        "('LL-0h-', u'NecS3Hs13.iL1/7', '04_ubcLL2')"
       ]
      },
      {
       "output_type": "stream",
       "stream": "stdout",
       "text": [
        "\n",
        "('LL-0h-', u'NecS3Hs13.iL1/7', '04_ubcLL2')"
       ]
      },
      {
       "output_type": "stream",
       "stream": "stdout",
       "text": [
        "\n",
        "('IR-24h-', u'NecS3Hs13.iM1/13', '05_IR-RARE-anatomy')"
       ]
      },
      {
       "output_type": "stream",
       "stream": "stdout",
       "text": [
        "\n",
        "('LL-24h-', u'NecS3Hs13.iM1/12', '04_ubcLL2')"
       ]
      },
      {
       "output_type": "stream",
       "stream": "stdout",
       "text": [
        "\n",
        "('LL-24h-', u'NecS3Hs13.iM1/12', '04_ubcLL2')"
       ]
      },
      {
       "output_type": "stream",
       "stream": "stdout",
       "text": [
        "\n",
        "('dce-24ha', u'NecS3Hs13.iM1/14', '06_FLASH2D.6sl-DCE')"
       ]
      },
      {
       "output_type": "stream",
       "stream": "stdout",
       "text": [
        "\n",
        "('dce-24ha', u'NecS3Hs13.iM1/14', '06_FLASH2D.6sl-DCE')"
       ]
      },
      {
       "output_type": "stream",
       "stream": "stdout",
       "text": [
        "\n",
        "\n",
        "--------------------------------------------------------------------------------\n",
        "NecS3Hs14"
       ]
      },
      {
       "output_type": "stream",
       "stream": "stdout",
       "text": [
        "\n",
        "('IR-0h-', u'NecS3Hs14.iL1/10', '05_IR-RARE-anatomy')"
       ]
      },
      {
       "output_type": "stream",
       "stream": "stdout",
       "text": [
        "\n",
        "('LL-0h-', u'NecS3Hs14.iL1/9', '04_ubcLL2')"
       ]
      },
      {
       "output_type": "stream",
       "stream": "stdout",
       "text": [
        "\n",
        "('LL-0h-', u'NecS3Hs14.iL1/9', '04_ubcLL2')"
       ]
      },
      {
       "output_type": "stream",
       "stream": "stdout",
       "text": [
        "\n",
        "('IR-24h-', u'NecS3Hs14.iM1/12', '05_IR-RARE-anatomy')"
       ]
      },
      {
       "output_type": "stream",
       "stream": "stdout",
       "text": [
        "\n",
        "('LL-24h-', u'NecS3Hs14.iM1/11', '04_ubcLL2')"
       ]
      },
      {
       "output_type": "stream",
       "stream": "stdout",
       "text": [
        "\n",
        "('LL-24h-', u'NecS3Hs14.iM1/11', '04_ubcLL2')"
       ]
      },
      {
       "output_type": "stream",
       "stream": "stdout",
       "text": [
        "\n",
        "('dce-24ha', u'NecS3Hs14.iM1/13', '06_FLASH2D.6sl-DCE')"
       ]
      },
      {
       "output_type": "stream",
       "stream": "stdout",
       "text": [
        "\n",
        "('dce-24ha', u'NecS3Hs14.iM1/13', '06_FLASH2D.6sl-DCE')"
       ]
      },
      {
       "output_type": "stream",
       "stream": "stdout",
       "text": [
        "\n",
        "\n",
        "--------------------------------------------------------------------------------\n",
        "NecS3Hs15"
       ]
      },
      {
       "output_type": "stream",
       "stream": "stdout",
       "text": [
        "\n",
        "('IR-0h-', u'NecS3Hs15.iL1/9', '05_IR-RARE-anatomy')"
       ]
      },
      {
       "output_type": "stream",
       "stream": "stdout",
       "text": [
        "\n",
        "('LL-0h-', u'NecS3Hs15.iL1/8', '04_ubcLL2')"
       ]
      },
      {
       "output_type": "stream",
       "stream": "stdout",
       "text": [
        "\n",
        "('LL-0h-', u'NecS3Hs15.iL1/8', '04_ubcLL2')"
       ]
      },
      {
       "output_type": "stream",
       "stream": "stdout",
       "text": [
        "\n",
        "('IR-24h-', u'NecS3Hs15.iM1/8', '05_IR-RARE-anatomy')"
       ]
      },
      {
       "output_type": "stream",
       "stream": "stdout",
       "text": [
        "\n",
        "('LL-24h-', u'NecS3Hs15.iM1/7', '04_ubcLL2')"
       ]
      },
      {
       "output_type": "stream",
       "stream": "stdout",
       "text": [
        "\n",
        "('LL-24h-', u'NecS3Hs15.iM1/7', '04_ubcLL2')"
       ]
      },
      {
       "output_type": "stream",
       "stream": "stdout",
       "text": [
        "\n",
        "('dce-24ha', u'NecS3Hs15.iM1/9', '06_FLASH2D.6sl-DCE')"
       ]
      },
      {
       "output_type": "stream",
       "stream": "stdout",
       "text": [
        "\n",
        "('dce-24ha', u'NecS3Hs15.iM1/9', '06_FLASH2D.6sl-DCE')"
       ]
      },
      {
       "output_type": "stream",
       "stream": "stdout",
       "text": [
        "\n"
       ]
      }
     ],
     "prompt_number": 8
    },
    {
     "cell_type": "code",
     "collapsed": false,
     "input": [],
     "language": "python",
     "metadata": {},
     "outputs": []
    }
   ],
   "metadata": {}
  }
 ]
}