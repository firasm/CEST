{
 "metadata": {
  "name": ""
 },
 "nbformat": 3,
 "nbformat_minor": 0,
 "worksheets": [
  {
   "cells": [
    {
     "cell_type": "code",
     "collapsed": false,
     "input": [
      "import pandas\n",
      "import numpy\n",
      "import sarpy\n",
      "import sarpy.analysis.gather_data as gd\n"
     ],
     "language": "python",
     "metadata": {},
     "outputs": [],
     "prompt_number": "*"
    },
    {
     "cell_type": "code",
     "collapsed": false,
     "input": [
      "s = gd.calculate_dfSeries_from_adata(\n",
      "        'HerS10',\n",
      "        ['LL-0h', 'LL-24h','LL-48h'],\n",
      "        'T1_LL',\n",
      "        'T1_LL_roi')"
     ],
     "language": "python",
     "metadata": {},
     "outputs": [],
     "prompt_number": "*"
    },
    {
     "cell_type": "code",
     "collapsed": false,
     "input": [
      "s = gd.calculate_dfSeries_from_adata(\n",
      "        'HerS10',\n",
      "        ['LL-0h', 'LL-24h-','LL-24h+'],\n",
      "        'T1_LL',\n",
      "        'T1_LL_roi')"
     ],
     "language": "python",
     "metadata": {},
     "outputs": []
    },
    {
     "cell_type": "code",
     "collapsed": false,
     "input": [
      "s"
     ],
     "language": "python",
     "metadata": {},
     "outputs": [
      {
       "ename": "NameError",
       "evalue": "name 's' is not defined",
       "output_type": "pyerr",
       "traceback": [
        "\u001b[0;31m---------------------------------------------------------------------------\u001b[0m\n\u001b[0;31mNameError\u001b[0m                                 Traceback (most recent call last)",
        "\u001b[0;32m<ipython-input-1-f4d5d0c0671b>\u001b[0m in \u001b[0;36m<module>\u001b[0;34m()\u001b[0m\n\u001b[0;32m----> 1\u001b[0;31m \u001b[0ms\u001b[0m\u001b[0;34m\u001b[0m\u001b[0m\n\u001b[0m",
        "\u001b[0;31mNameError\u001b[0m: name 's' is not defined"
       ]
      }
     ],
     "prompt_number": 1
    },
    {
     "cell_type": "code",
     "collapsed": false,
     "input": [
      "                                                                                                                                                                                                                                                                                                                                                                                                                                                                                                                                                                                                               s['0h-T1map_LL_avg'].mean()"
     ],
     "language": "python",
     "metadata": {},
     "outputs": [
      {
       "output_type": "pyout",
       "prompt_number": 4,
       "text": [
        "1680.2864246681063"
       ]
      }
     ],
     "prompt_number": 4
    },
    {
     "cell_type": "code",
     "collapsed": false,
     "input": [
      "s['24h-T1map_LL_avg'].mean()"
     ],
     "language": "python",
     "metadata": {},
     "outputs": [
      {
       "output_type": "pyout",
       "prompt_number": 5,
       "text": [
        "1670.2142609087077"
       ]
      }
     ],
     "prompt_number": 5
    },
    {
     "cell_type": "code",
     "collapsed": false,
     "input": [
      "s['48h-T1map_LL_avg'].mean()"
     ],
     "language": "python",
     "metadata": {},
     "outputs": [
      {
       "output_type": "pyout",
       "prompt_number": 6,
       "text": [
        "1571.4339286673505"
       ]
      }
     ],
     "prompt_number": 6
    },
    {
     "cell_type": "code",
     "collapsed": false,
     "input": [
      "s = gd.calculate_dfSeries_from_adata(\n",
      "        'NecS3',\n",
      "        ['0h-LL', '24h-LL'],\n",
      "        'T1map_LL',\n",
      "        'T1map_LL_roi')"
     ],
     "language": "python",
     "metadata": {},
     "outputs": [],
     "prompt_number": 7
    },
    {
     "cell_type": "code",
     "collapsed": false,
     "input": [
      "print s['0h-T1map_LL_avg'].mean()\n",
      "print s['24h-T1map_LL_avg'].mean()"
     ],
     "language": "python",
     "metadata": {},
     "outputs": [
      {
       "output_type": "stream",
       "stream": "stdout",
       "text": [
        "1631.44519115\n",
        "1431.97208595\n"
       ]
      }
     ],
     "prompt_number": 8
    },
    {
     "cell_type": "code",
     "collapsed": false,
     "input": [
      "df2=gd.df_from_masterlist('NecS3')"
     ],
     "language": "python",
     "metadata": {},
     "outputs": [
      {
       "output_type": "stream",
       "stream": "stdout",
       "text": [
        "NecS3Hs02\n",
        "NecS3Hs04\n",
        "NecS3Hs05\n",
        "NecS3Hs06\n",
        "NecS3Hs08\n",
        "NecS3Hs09\n",
        "NecS3Hs10\n",
        "NecS3Hs11\n",
        "NecS3Hs12\n",
        "NecS3Hs13\n",
        "NecS3Hs14\n",
        "NecS3Hs15\n"
       ]
      }
     ],
     "prompt_number": 9
    },
    {
     "cell_type": "code",
     "collapsed": false,
     "input": [],
     "language": "python",
     "metadata": {},
     "outputs": [],
     "prompt_number": 9
    },
    {
     "cell_type": "code",
     "collapsed": false,
     "input": [
      "tx_condition =  {'Ctrl' : ['NecS3Hs13', 'NecS3Hs02, NecS3Hs06'],\n",
      "         'Avast': ['NecS3Hs05','NecS3Hs08'],\n",
      "         'Comb':  ['NecS3Hs14','NecS3Hs12, NecS3Hs13']}\n",
      "newdict = {}\n",
      "for condi, pat_list in tx_condition.iteritems():\n",
      "    for pat in pat_list:\n",
      "        newdict[pat]=condi\n",
      "newdict\n"
     ],
     "language": "python",
     "metadata": {},
     "outputs": [
      {
       "output_type": "pyout",
       "prompt_number": 10,
       "text": [
        "{'NecS3Hs02, NecS3Hs06': 'Ctrl',\n",
        " 'NecS3Hs05': 'Avast',\n",
        " 'NecS3Hs08': 'Avast',\n",
        " 'NecS3Hs12, NecS3Hs13': 'Comb',\n",
        " 'NecS3Hs13': 'Ctrl',\n",
        " 'NecS3Hs14': 'Comb'}"
       ]
      }
     ],
     "prompt_number": 10
    },
    {
     "cell_type": "code",
     "collapsed": false,
     "input": [
      "df2"
     ],
     "language": "python",
     "metadata": {},
     "outputs": [
      {
       "html": [
        "<div style=\"max-height:1000px;max-width:1500px;overflow:auto;\">\n",
        "<table border=\"1\" class=\"dataframe\">\n",
        "  <thead>\n",
        "    <tr style=\"text-align: right;\">\n",
        "      <th></th>\n",
        "      <th>location</th>\n",
        "      <th>patientnumber</th>\n",
        "      <th>studyname</th>\n",
        "      <th>tumourtype</th>\n",
        "      <th>treatment</th>\n",
        "    </tr>\n",
        "  </thead>\n",
        "  <tbody>\n",
        "    <tr>\n",
        "      <th>NecS3Hs02</th>\n",
        "      <td> s</td>\n",
        "      <td> 02</td>\n",
        "      <td> NecS3</td>\n",
        "      <td> H</td>\n",
        "      <td> unknown</td>\n",
        "    </tr>\n",
        "    <tr>\n",
        "      <th>NecS3Hs04</th>\n",
        "      <td> s</td>\n",
        "      <td> 04</td>\n",
        "      <td> NecS3</td>\n",
        "      <td> H</td>\n",
        "      <td> unknown</td>\n",
        "    </tr>\n",
        "    <tr>\n",
        "      <th>NecS3Hs05</th>\n",
        "      <td> s</td>\n",
        "      <td> 05</td>\n",
        "      <td> NecS3</td>\n",
        "      <td> H</td>\n",
        "      <td> unknown</td>\n",
        "    </tr>\n",
        "    <tr>\n",
        "      <th>NecS3Hs06</th>\n",
        "      <td> s</td>\n",
        "      <td> 06</td>\n",
        "      <td> NecS3</td>\n",
        "      <td> H</td>\n",
        "      <td> unknown</td>\n",
        "    </tr>\n",
        "    <tr>\n",
        "      <th>NecS3Hs08</th>\n",
        "      <td> s</td>\n",
        "      <td> 08</td>\n",
        "      <td> NecS3</td>\n",
        "      <td> H</td>\n",
        "      <td> unknown</td>\n",
        "    </tr>\n",
        "    <tr>\n",
        "      <th>NecS3Hs09</th>\n",
        "      <td> s</td>\n",
        "      <td> 09</td>\n",
        "      <td> NecS3</td>\n",
        "      <td> H</td>\n",
        "      <td> unknown</td>\n",
        "    </tr>\n",
        "    <tr>\n",
        "      <th>NecS3Hs10</th>\n",
        "      <td> s</td>\n",
        "      <td> 10</td>\n",
        "      <td> NecS3</td>\n",
        "      <td> H</td>\n",
        "      <td> unknown</td>\n",
        "    </tr>\n",
        "    <tr>\n",
        "      <th>NecS3Hs11</th>\n",
        "      <td> s</td>\n",
        "      <td> 11</td>\n",
        "      <td> NecS3</td>\n",
        "      <td> H</td>\n",
        "      <td> unknown</td>\n",
        "    </tr>\n",
        "    <tr>\n",
        "      <th>NecS3Hs12</th>\n",
        "      <td> s</td>\n",
        "      <td> 12</td>\n",
        "      <td> NecS3</td>\n",
        "      <td> H</td>\n",
        "      <td> unknown</td>\n",
        "    </tr>\n",
        "    <tr>\n",
        "      <th>NecS3Hs13</th>\n",
        "      <td> s</td>\n",
        "      <td> 13</td>\n",
        "      <td> NecS3</td>\n",
        "      <td> H</td>\n",
        "      <td> unknown</td>\n",
        "    </tr>\n",
        "    <tr>\n",
        "      <th>NecS3Hs14</th>\n",
        "      <td> s</td>\n",
        "      <td> 14</td>\n",
        "      <td> NecS3</td>\n",
        "      <td> H</td>\n",
        "      <td> unknown</td>\n",
        "    </tr>\n",
        "    <tr>\n",
        "      <th>NecS3Hs15</th>\n",
        "      <td> s</td>\n",
        "      <td> 15</td>\n",
        "      <td> NecS3</td>\n",
        "      <td> H</td>\n",
        "      <td> unknown</td>\n",
        "    </tr>\n",
        "  </tbody>\n",
        "</table>\n",
        "</div>"
       ],
       "output_type": "pyout",
       "prompt_number": 11,
       "text": [
        "          location patientnumber studyname tumourtype treatment\n",
        "NecS3Hs02        s            02     NecS3          H   unknown\n",
        "NecS3Hs04        s            04     NecS3          H   unknown\n",
        "NecS3Hs05        s            05     NecS3          H   unknown\n",
        "NecS3Hs06        s            06     NecS3          H   unknown\n",
        "NecS3Hs08        s            08     NecS3          H   unknown\n",
        "NecS3Hs09        s            09     NecS3          H   unknown\n",
        "NecS3Hs10        s            10     NecS3          H   unknown\n",
        "NecS3Hs11        s            11     NecS3          H   unknown\n",
        "NecS3Hs12        s            12     NecS3          H   unknown\n",
        "NecS3Hs13        s            13     NecS3          H   unknown\n",
        "NecS3Hs14        s            14     NecS3          H   unknown\n",
        "NecS3Hs15        s            15     NecS3          H   unknown"
       ]
      }
     ],
     "prompt_number": 11
    },
    {
     "cell_type": "code",
     "collapsed": false,
     "input": [
      "df2=gd.df_from_masterlist('NecS3',tx_condition)"
     ],
     "language": "python",
     "metadata": {},
     "outputs": [
      {
       "output_type": "stream",
       "stream": "stdout",
       "text": [
        "NecS3Hs02\n",
        "NecS3Hs04\n",
        "NecS3Hs05\n",
        "NecS3Hs06\n",
        "NecS3Hs08\n",
        "NecS3Hs09\n",
        "NecS3Hs10\n",
        "NecS3Hs11\n",
        "NecS3Hs12\n",
        "NecS3Hs13\n",
        "NecS3Hs14\n",
        "NecS3Hs15\n"
       ]
      }
     ],
     "prompt_number": 12
    },
    {
     "cell_type": "code",
     "collapsed": false,
     "input": [
      "df2"
     ],
     "language": "python",
     "metadata": {},
     "outputs": [
      {
       "html": [
        "<div style=\"max-height:1000px;max-width:1500px;overflow:auto;\">\n",
        "<table border=\"1\" class=\"dataframe\">\n",
        "  <thead>\n",
        "    <tr style=\"text-align: right;\">\n",
        "      <th></th>\n",
        "      <th>location</th>\n",
        "      <th>patientnumber</th>\n",
        "      <th>studyname</th>\n",
        "      <th>tumourtype</th>\n",
        "      <th>treatment</th>\n",
        "    </tr>\n",
        "  </thead>\n",
        "  <tbody>\n",
        "    <tr>\n",
        "      <th>NecS3Hs02</th>\n",
        "      <td> s</td>\n",
        "      <td> 02</td>\n",
        "      <td> NecS3</td>\n",
        "      <td> H</td>\n",
        "      <td>   NaN</td>\n",
        "    </tr>\n",
        "    <tr>\n",
        "      <th>NecS3Hs04</th>\n",
        "      <td> s</td>\n",
        "      <td> 04</td>\n",
        "      <td> NecS3</td>\n",
        "      <td> H</td>\n",
        "      <td>   NaN</td>\n",
        "    </tr>\n",
        "    <tr>\n",
        "      <th>NecS3Hs05</th>\n",
        "      <td> s</td>\n",
        "      <td> 05</td>\n",
        "      <td> NecS3</td>\n",
        "      <td> H</td>\n",
        "      <td> Avast</td>\n",
        "    </tr>\n",
        "    <tr>\n",
        "      <th>NecS3Hs06</th>\n",
        "      <td> s</td>\n",
        "      <td> 06</td>\n",
        "      <td> NecS3</td>\n",
        "      <td> H</td>\n",
        "      <td>   NaN</td>\n",
        "    </tr>\n",
        "    <tr>\n",
        "      <th>NecS3Hs08</th>\n",
        "      <td> s</td>\n",
        "      <td> 08</td>\n",
        "      <td> NecS3</td>\n",
        "      <td> H</td>\n",
        "      <td> Avast</td>\n",
        "    </tr>\n",
        "    <tr>\n",
        "      <th>NecS3Hs09</th>\n",
        "      <td> s</td>\n",
        "      <td> 09</td>\n",
        "      <td> NecS3</td>\n",
        "      <td> H</td>\n",
        "      <td>   NaN</td>\n",
        "    </tr>\n",
        "    <tr>\n",
        "      <th>NecS3Hs10</th>\n",
        "      <td> s</td>\n",
        "      <td> 10</td>\n",
        "      <td> NecS3</td>\n",
        "      <td> H</td>\n",
        "      <td>   NaN</td>\n",
        "    </tr>\n",
        "    <tr>\n",
        "      <th>NecS3Hs11</th>\n",
        "      <td> s</td>\n",
        "      <td> 11</td>\n",
        "      <td> NecS3</td>\n",
        "      <td> H</td>\n",
        "      <td>   NaN</td>\n",
        "    </tr>\n",
        "    <tr>\n",
        "      <th>NecS3Hs12</th>\n",
        "      <td> s</td>\n",
        "      <td> 12</td>\n",
        "      <td> NecS3</td>\n",
        "      <td> H</td>\n",
        "      <td>   NaN</td>\n",
        "    </tr>\n",
        "    <tr>\n",
        "      <th>NecS3Hs13</th>\n",
        "      <td> s</td>\n",
        "      <td> 13</td>\n",
        "      <td> NecS3</td>\n",
        "      <td> H</td>\n",
        "      <td>  Ctrl</td>\n",
        "    </tr>\n",
        "    <tr>\n",
        "      <th>NecS3Hs14</th>\n",
        "      <td> s</td>\n",
        "      <td> 14</td>\n",
        "      <td> NecS3</td>\n",
        "      <td> H</td>\n",
        "      <td>  Comb</td>\n",
        "    </tr>\n",
        "    <tr>\n",
        "      <th>NecS3Hs15</th>\n",
        "      <td> s</td>\n",
        "      <td> 15</td>\n",
        "      <td> NecS3</td>\n",
        "      <td> H</td>\n",
        "      <td>   NaN</td>\n",
        "    </tr>\n",
        "  </tbody>\n",
        "</table>\n",
        "</div>"
       ],
       "output_type": "pyout",
       "prompt_number": 13,
       "text": [
        "          location patientnumber studyname tumourtype treatment\n",
        "NecS3Hs02        s            02     NecS3          H       NaN\n",
        "NecS3Hs04        s            04     NecS3          H       NaN\n",
        "NecS3Hs05        s            05     NecS3          H     Avast\n",
        "NecS3Hs06        s            06     NecS3          H       NaN\n",
        "NecS3Hs08        s            08     NecS3          H     Avast\n",
        "NecS3Hs09        s            09     NecS3          H       NaN\n",
        "NecS3Hs10        s            10     NecS3          H       NaN\n",
        "NecS3Hs11        s            11     NecS3          H       NaN\n",
        "NecS3Hs12        s            12     NecS3          H       NaN\n",
        "NecS3Hs13        s            13     NecS3          H      Ctrl\n",
        "NecS3Hs14        s            14     NecS3          H      Comb\n",
        "NecS3Hs15        s            15     NecS3          H       NaN"
       ]
      }
     ],
     "prompt_number": 13
    },
    {
     "cell_type": "code",
     "collapsed": false,
     "input": [
      "s = gd.calculate_dfSeries_from_adata(\n",
      "        'NecS1',\n",
      "        ['0h-LL','24h-LL'],\n",
      "        'T1map_LL',\n",
      "        'T1map_LL_roi')"
     ],
     "language": "python",
     "metadata": {},
     "outputs": [],
     "prompt_number": 27
    },
    {
     "cell_type": "code",
     "collapsed": false,
     "input": [
      "a=s['0h-T1map_LL_avg']"
     ],
     "language": "python",
     "metadata": {},
     "outputs": [],
     "prompt_number": 28
    },
    {
     "cell_type": "code",
     "collapsed": false,
     "input": [
      "b=s['24h-T1map_LL_avg']"
     ],
     "language": "python",
     "metadata": {},
     "outputs": [],
     "prompt_number": 29
    },
    {
     "cell_type": "code",
     "collapsed": false,
     "input": [
      "a.mean()"
     ],
     "language": "python",
     "metadata": {},
     "outputs": [
      {
       "output_type": "pyout",
       "prompt_number": 32,
       "text": [
        "1680.2864246681063"
       ]
      }
     ],
     "prompt_number": 32
    },
    {
     "cell_type": "code",
     "collapsed": false,
     "input": [
      "b.mean()"
     ],
     "language": "python",
     "metadata": {},
     "outputs": [
      {
       "output_type": "pyout",
       "prompt_number": 33,
       "text": [
        "1670.2142609087077"
       ]
      }
     ],
     "prompt_number": 33
    },
    {
     "cell_type": "code",
     "collapsed": false,
     "input": [],
     "language": "python",
     "metadata": {},
     "outputs": [],
     "prompt_number": 37
    },
    {
     "cell_type": "code",
     "collapsed": false,
     "input": [],
     "language": "python",
     "metadata": {},
     "outputs": []
    }
   ],
   "metadata": {}
  }
 ]
}