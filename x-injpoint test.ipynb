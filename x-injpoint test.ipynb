{
 "metadata": {
  "name": ""
 },
 "nbformat": 3,
 "nbformat_minor": 0,
 "worksheets": [
  {
   "cells": [
    {
     "cell_type": "code",
     "collapsed": false,
     "input": [
      "import sarpy\n",
      "import sarpy.fmoosvi.analysis\n",
      "import numpy,pylab,scipy,scipy.stats"
     ],
     "language": "python",
     "metadata": {},
     "outputs": [],
     "prompt_number": 6
    },
    {
     "cell_type": "code",
     "collapsed": false,
     "input": [
      "n = sarpy.Experiment('h')"
     ],
     "language": "python",
     "metadata": {},
     "outputs": [
      {
       "output_type": "stream",
       "stream": "stderr",
       "text": [
        "WARNING:sarpy.io.BRUKER_classes:SUBJECT_study_name not found in study: /Users/fmoosvi/bdata/stefan/nmr/herS2H01.3B1\n"
       ]
      }
     ],
     "prompt_number": 15
    },
    {
     "cell_type": "code",
     "collapsed": false,
     "input": [
      "dce = n.find_scan_by_protocol('.*DCE')"
     ],
     "language": "python",
     "metadata": {},
     "outputs": [
      {
       "output_type": "stream",
       "stream": "stderr",
       "text": [
        "WARNING:sarpy.io.BRUKER_classes:Directory \"/Users/fmoosvi/bdata/stefan/nmr/herpil04.1V1/13\" did not contain processed data (2dseq)\n"
       ]
      },
      {
       "output_type": "stream",
       "stream": "stderr",
       "text": [
        "WARNING:sarpy.io.BRUKER_classes:Directory \"/Users/fmoosvi/bdata/stefan/nmr/herpil05.221/11\" did not contain processed data (2dseq)\n"
       ]
      },
      {
       "output_type": "stream",
       "stream": "stderr",
       "text": [
        "WARNING:sarpy.io.BRUKER_classes:Directory \"/Users/fmoosvi/bdata/stefan/nmr/herS1Mo05.271/17\" did not contain processed data (2dseq)\n"
       ]
      },
      {
       "output_type": "stream",
       "stream": "stderr",
       "text": [
        "WARNING:sarpy.io.BRUKER_classes:Directory \"/Users/fmoosvi/bdata/stefan/nmr/herS3M08.4b1/14\" did not contain processed data (2dseq)\n"
       ]
      },
      {
       "output_type": "stream",
       "stream": "stderr",
       "text": [
        "WARNING:sarpy.io.BRUKER_classes:Directory \"/Users/fmoosvi/bdata/stefan/nmr/herS3M09.3X1/13\" did not contain processed data (2dseq)\n"
       ]
      }
     ],
     "prompt_number": 16
    },
    {
     "cell_type": "code",
     "collapsed": false,
     "input": [
      "len(dce)"
     ],
     "language": "python",
     "metadata": {},
     "outputs": [
      {
       "metadata": {},
       "output_type": "pyout",
       "prompt_number": 17,
       "text": [
        "118"
       ]
      }
     ],
     "prompt_number": 17
    },
    {
     "cell_type": "code",
     "collapsed": false,
     "input": [
      "inj = []\n",
      "\n",
      "for d in dce:\n",
      "    try:\n",
      "        inj.append(sarpy.fmoosvi.analysis.h_inj_point(d))\n",
      "    except AttributeError:\n",
      "        print('Att error: \\n')\n",
      "        d\n",
      "    except IndexError:\n",
      "        print('Ind error: \\n')\n",
      "        d"
     ],
     "language": "python",
     "metadata": {},
     "outputs": [
      {
       "output_type": "stream",
       "stream": "stderr",
       "text": [
        "WARNING:sarpy.io.BRUKER_classes:visu_pars file /Users/fmoosvi/bdata/stefan/nmr/herS1Mo05.271/17/pdata/1 not found\n",
        "\n"
       ]
      },
      {
       "output_type": "stream",
       "stream": "stdout",
       "text": [
        "Could not find the injection point, possibly okay6\n",
        "Att error: \n"
       ]
      },
      {
       "output_type": "stream",
       "stream": "stdout",
       "text": [
        "\n",
        "Could not find the injection point, possibly okay0"
       ]
      },
      {
       "output_type": "stream",
       "stream": "stdout",
       "text": [
        "\n",
        "Could not find the injection point, possibly okay1\n",
        "Could not find the injection point, possibly okay2\n",
        "Could not find the injection point, possibly okay3\n",
        "Could not find the injection point, possibly okay4\n",
        "Could not find the injection point, possibly okay5\n",
        "Could not find the injection point, possibly okay6\n",
        "Could not find the injection point, possibly okay7\n",
        "Could not find the injection point, possibly okay8\n",
        "Could not find the injection point, possibly okay9\n",
        "Could not find the injection point, possibly okay10\n",
        "Could not find the injection point, possibly okay11\n",
        "Could not find the injection point, possibly okay12\n",
        "Could not find the injection point, possibly okay13\n",
        "Could not find the injection point, possibly okay14\n",
        "Could not find the injection point, possibly okay15\n",
        "Could not find the injection point, possibly okay1"
       ]
      },
      {
       "output_type": "stream",
       "stream": "stdout",
       "text": [
        "\n",
        "Could not find the injection point, possibly okay2\n",
        "Could not find the injection point, possibly okay3\n",
        "Could not find the injection point, possibly okay4\n",
        "Could not find the injection point, possibly okay5\n",
        "Could not find the injection point, possibly okay6\n",
        "Could not find the injection point, possibly okay7\n",
        "Could not find the injection point, possibly okay8\n",
        "Could not find the injection point, possibly okay9\n",
        "Could not find the injection point, possibly okay11\n",
        "Could not find the injection point, possibly okay12\n",
        "Could not find the injection point, possibly okay13\n",
        "Could not find the injection point, possibly okay14\n",
        "Could not find the injection point, possibly okay15\n",
        "Could not find the injection point, possibly okay0"
       ]
      },
      {
       "output_type": "stream",
       "stream": "stdout",
       "text": [
        "\n",
        "Could not find the injection point, possibly okay2\n",
        "Could not find the injection point, possibly okay4\n",
        "Could not find the injection point, possibly okay5\n",
        "Could not find the injection point, possibly okay6\n",
        "Could not find the injection point, possibly okay7\n",
        "Could not find the injection point, possibly okay8\n",
        "Could not find the injection point, possibly okay9\n",
        "Could not find the injection point, possibly okay10\n",
        "Could not find the injection point, possibly okay11\n",
        "Could not find the injection point, possibly okay12\n",
        "Could not find the injection point, possibly okay13\n",
        "Could not find the injection point, possibly okay15\n",
        "Could not find the injection point, possibly okay3"
       ]
      },
      {
       "output_type": "stream",
       "stream": "stdout",
       "text": [
        "\n",
        "Could not find the injection point, possibly okay10\n",
        "Could not find the injection point, possibly okay13\n",
        "Could not find the injection point, possibly okay14\n",
        "Could not find the injection point, possibly okay3"
       ]
      },
      {
       "output_type": "stream",
       "stream": "stdout",
       "text": [
        "\n",
        "Could not find the injection point, possibly okay4\n",
        "Could not find the injection point, possibly okay13\n",
        "Could not find the injection point, possibly okay15\n",
        "Could not find the injection point, possibly okay2"
       ]
      },
      {
       "output_type": "stream",
       "stream": "stdout",
       "text": [
        "\n",
        "Could not find the injection point, possibly okay0"
       ]
      },
      {
       "output_type": "stream",
       "stream": "stdout",
       "text": [
        "\n",
        "Could not find the injection point, possibly okay1\n",
        "Could not find the injection point, possibly okay2\n",
        "Could not find the injection point, possibly okay3\n",
        "Could not find the injection point, possibly okay4\n",
        "Could not find the injection point, possibly okay5\n",
        "Could not find the injection point, possibly okay7\n",
        "Could not find the injection point, possibly okay9\n",
        "Could not find the injection point, possibly okay10\n",
        "Could not find the injection point, possibly okay11\n",
        "Could not find the injection point, possibly okay14\n",
        "Could not find the injection point, possibly okay0"
       ]
      },
      {
       "output_type": "stream",
       "stream": "stderr",
       "text": [
        "WARNING:sarpy.io.BRUKER_classes:visu_pars file /Users/fmoosvi/bdata/stefan/nmr/herS3M08.4b1/14/pdata/1 not found\n",
        "\n"
       ]
      },
      {
       "output_type": "stream",
       "stream": "stdout",
       "text": [
        "\n",
        "Could not find the injection point, possibly okay1\n",
        "Could not find the injection point, possibly okay2\n",
        "Could not find the injection point, possibly okay14\n",
        "Att error: \n"
       ]
      },
      {
       "output_type": "stream",
       "stream": "stdout",
       "text": [
        "\n",
        "Att error: \n",
        "\n",
        "Could not find the injection point, possibly okay2"
       ]
      },
      {
       "output_type": "stream",
       "stream": "stderr",
       "text": [
        "WARNING:sarpy.io.BRUKER_classes:visu_pars file /Users/fmoosvi/bdata/stefan/nmr/herS3M09.3X1/13/pdata/1 not found\n",
        "\n"
       ]
      },
      {
       "output_type": "stream",
       "stream": "stdout",
       "text": [
        "\n",
        "Could not find the injection point, possibly okay5\n",
        "Could not find the injection point, possibly okay6\n",
        "Could not find the injection point, possibly okay7\n",
        "Could not find the injection point, possibly okay8\n",
        "Could not find the injection point, possibly okay11\n",
        "Could not find the injection point, possibly okay12\n",
        "Could not find the injection point, possibly okay14\n",
        "Att error: \n"
       ]
      },
      {
       "output_type": "stream",
       "stream": "stdout",
       "text": [
        "\n",
        "Could not find the injection point, possibly okay14"
       ]
      },
      {
       "output_type": "stream",
       "stream": "stdout",
       "text": [
        "\n",
        "Could not find the injection point, possibly okay0"
       ]
      },
      {
       "output_type": "stream",
       "stream": "stdout",
       "text": [
        "\n",
        "Could not find the injection point, possibly okay1\n",
        "Could not find the injection point, possibly okay2\n",
        "Could not find the injection point, possibly okay3\n",
        "Could not find the injection point, possibly okay5\n",
        "Could not find the injection point, possibly okay7\n",
        "Could not find the injection point, possibly okay8\n",
        "Could not find the injection point, possibly okay9\n",
        "Could not find the injection point, possibly okay10\n",
        "Could not find the injection point, possibly okay11\n",
        "Could not find the injection point, possibly okay12\n",
        "Could not find the injection point, possibly okay13\n",
        "Could not find the injection point, possibly okay14\n",
        "Could not find the injection point, possibly okay15\n",
        "Could not find the injection point, possibly okay0"
       ]
      },
      {
       "output_type": "stream",
       "stream": "stdout",
       "text": [
        "\n",
        "Could not find the injection point, possibly okay1\n",
        "Could not find the injection point, possibly okay4\n",
        "Could not find the injection point, possibly okay6\n",
        "Could not find the injection point, possibly okay12\n",
        "Could not find the injection point, possibly okay13\n"
       ]
      }
     ],
     "prompt_number": 18
    },
    {
     "cell_type": "code",
     "collapsed": false,
     "input": [
      "len(inj)"
     ],
     "language": "python",
     "metadata": {},
     "outputs": [
      {
       "metadata": {},
       "output_type": "pyout",
       "prompt_number": 19,
       "text": [
        "114"
       ]
      }
     ],
     "prompt_number": 19
    },
    {
     "cell_type": "code",
     "collapsed": false,
     "input": [
      "pylab.plot(inj,'o')"
     ],
     "language": "python",
     "metadata": {},
     "outputs": [
      {
       "metadata": {},
       "output_type": "pyout",
       "prompt_number": 20,
       "text": [
        "[<matplotlib.lines.Line2D at 0x346a7cdd0>]"
       ]
      },
      {
       "metadata": {},
       "output_type": "display_data",
       "png": "[encoded data removed]",
       "text": [
        "<matplotlib.figure.Figure at 0x1ba204750>"
       ]
      }
     ],
     "prompt_number": 20
    },
    {
     "cell_type": "code",
     "collapsed": false,
     "input": [
      "pylab.hist(inj)"
     ],
     "language": "python",
     "metadata": {},
     "outputs": [
      {
       "metadata": {},
       "output_type": "pyout",
       "prompt_number": 21,
       "text": [
        "(array([  9.,   0.,   0.,   1.,   0.,  75.,   2.,   0.,   0.,  27.]),\n",
        " array([  1.,   3.,   5.,   7.,   9.,  11.,  13.,  15.,  17.,  19.,  21.]),\n",
        " <a list of 10 Patch objects>)"
       ]
      },
      {
       "metadata": {},
       "output_type": "display_data",
       "png": "[encoded data removed]",
       "text": [
        "<matplotlib.figure.Figure at 0x346a41d50>"
       ]
      }
     ],
     "prompt_number": 21
    },
    {
     "cell_type": "code",
     "collapsed": false,
     "input": [
      "\n",
      "ts= sarpy.Scan('NecS3Hs04.iK2/23')\n"
     ],
     "language": "python",
     "metadata": {},
     "outputs": [],
     "prompt_number": 22
    },
    {
     "cell_type": "code",
     "collapsed": false,
     "input": [
      "ts.pdata[0].data.shape"
     ],
     "language": "python",
     "metadata": {},
     "outputs": [
      {
       "metadata": {},
       "output_type": "pyout",
       "prompt_number": 24,
       "text": [
        "(64, 128, 6, 62)"
       ]
      }
     ],
     "prompt_number": 24
    },
    {
     "cell_type": "code",
     "collapsed": false,
     "input": [
      "ts"
     ],
     "language": "python",
     "metadata": {},
     "outputs": [
      {
       "metadata": {},
       "output_type": "pyout",
       "prompt_number": 25,
       "text": [
        "Scan object: Scan(\"NecS3Hs04.iK2/23\")\n",
        "   protocol: 06_FLASH2D.6sl-DCE\n",
        "   TE = [2.6696]\n",
        "   TR = [51]\n",
        "   FA = 40\n",
        "   FoV = [3.84, 1.92]\n",
        "   matrix = [256, 64]"
       ]
      }
     ],
     "prompt_number": 25
    },
    {
     "cell_type": "code",
     "collapsed": false,
     "input": [
      "ts.method.PVM_NRepetitions"
     ],
     "language": "python",
     "metadata": {},
     "outputs": [
      {
       "metadata": {},
       "output_type": "pyout",
       "prompt_number": 26,
       "text": [
        "100"
       ]
      }
     ],
     "prompt_number": 26
    },
    {
     "cell_type": "code",
     "collapsed": false,
     "input": [],
     "language": "python",
     "metadata": {},
     "outputs": []
    }
   ],
   "metadata": {}
  }
 ]
}