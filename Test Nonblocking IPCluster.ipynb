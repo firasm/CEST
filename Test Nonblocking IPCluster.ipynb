{
 "metadata": {
  "name": ""
 },
 "nbformat": 3,
 "nbformat_minor": 0,
 "worksheets": [
  {
   "cells": [
    {
     "cell_type": "code",
     "collapsed": false,
     "input": [
      "from IPython.parallel import Client\n",
      "\n",
      "def specialfunc(param):\n",
      "    import time\n",
      "    if param > 8:\n",
      "        raise IOError\n",
      "    else:\n",
      "        time.sleep( param)\n",
      "        return param\n",
      "\n",
      "client = Client(profile='sarlab')\n",
      "balanced       = client.load_balanced_view()\n",
      "balanced.block = False\n",
      "param_list = range(10)   # [0, 1, 2, 3, 4, 5, 6, 7, 8, 9]\n",
      "asyncmap = balanced.map_async(specialfunc, param_list, ordered=False)"
     ],
     "language": "python",
     "metadata": {},
     "outputs": [],
     "prompt_number": 2
    },
    {
     "cell_type": "code",
     "collapsed": false,
     "input": [
      "asyncmap = balanced.map(specialfunc, param_list, ordered=False)\n",
      "\n",
      "#create original mapping of msg_ids to parameters\n",
      "msg_ids_to_parameters = dict(zip(asyncmap.msg_ids, param_list))\n",
      "\n",
      "pending = set(asyncmap.msg_ids) # all queued jobs are pending\n",
      "while pending:\n",
      "    try:\n",
      "        client.wait(pending, 1e-3)\n",
      "    except parallel.TimeoutError:\n",
      "        # ignore timeouterrors, since they only mean that at least one isn't done\n",
      "        pass\n",
      "\n",
      "    # finished is the set of msg_ids that are complete\n",
      "    finished = pending.difference(client.outstanding)\n",
      "    # update pending to exclude those that just finished\n",
      "    pending = pending.difference(finished)\n",
      "    for msg_id in finished:\n",
      "        # we know these are done, so don't worry about blocking\n",
      "        ar = client.get_result(msg_id)\n",
      "        try:\n",
      "            ar.get()\n",
      "        except Exception as e:\n",
      "            print e\n",
      "        else:\n",
      "            print \"job id %s finished on engine %i \" % (msg_id, ar.engine_id)\n",
      "            print \"and results for parameter %i :\" % msg_ids_to_parameters[msg_id]\n",
      "            # note that each job in a map always returns a list of length chunksize\n",
      "            # even if chunksize == 1\n",
      "            for res in ar.result:\n",
      "                print \" item %i \\n\" % res"
     ],
     "language": "python",
     "metadata": {},
     "outputs": [
      {
       "output_type": "stream",
       "stream": "stdout",
       "text": [
        "IOError()\n",
        "job id a6e2d7a6-f66a-4fa4-b236-482141417487 finished on engine 3 \n",
        "and results for parameter 0 :\n",
        " item 0 \n",
        "\n",
        "job id 9f8f2f32-039f-4998-84bd-e9240b302c6b finished on engine 1 "
       ]
      },
      {
       "output_type": "stream",
       "stream": "stdout",
       "text": [
        "\n",
        "and results for parameter 1 :\n",
        " item 1 \n",
        "\n",
        "job id 939da764-bf8c-42a4-aae2-bee53e298b57 finished on engine 0 "
       ]
      },
      {
       "output_type": "stream",
       "stream": "stdout",
       "text": [
        "\n",
        "and results for parameter 2 :\n",
        " item 2 \n",
        "\n",
        "job id 8d493fbc-c326-4745-a595-af0a6812007c finished on engine 21 "
       ]
      },
      {
       "output_type": "stream",
       "stream": "stdout",
       "text": [
        "\n",
        "and results for parameter 3 :\n",
        " item 3 \n",
        "\n",
        "job id f67ab971-bd39-47a4-b84a-7d12198fe9e7 finished on engine 16 "
       ]
      },
      {
       "output_type": "stream",
       "stream": "stdout",
       "text": [
        "\n",
        "and results for parameter 4 :\n",
        " item 4 \n",
        "\n",
        "job id 56bbb975-d1c1-425b-b8eb-966195cc76d6 finished on engine 20 "
       ]
      },
      {
       "output_type": "stream",
       "stream": "stdout",
       "text": [
        "\n",
        "and results for parameter 5 :\n",
        " item 5 \n",
        "\n",
        "job id 626dcc3c-501f-432b-afdb-c6b0cb2d73cf finished on engine 2 "
       ]
      },
      {
       "output_type": "stream",
       "stream": "stdout",
       "text": [
        "\n",
        "and results for parameter 6 :\n",
        " item 6 \n",
        "\n",
        "job id c71d9ca2-64a3-4b89-be75-9452aa2bd711 finished on engine 4 "
       ]
      },
      {
       "output_type": "stream",
       "stream": "stdout",
       "text": [
        "\n",
        "and results for parameter 7 :\n",
        " item 7 \n",
        "\n",
        "job id 1f25f4d1-3055-4c91-a44b-456f71e1e5cc finished on engine 7 "
       ]
      },
      {
       "output_type": "stream",
       "stream": "stdout",
       "text": [
        "\n",
        "and results for parameter 8 :\n",
        " item 8 \n",
        "\n"
       ]
      }
     ],
     "prompt_number": 3
    },
    {
     "cell_type": "code",
     "collapsed": false,
     "input": [],
     "language": "python",
     "metadata": {},
     "outputs": []
    }
   ],
   "metadata": {}
  }
 ]
}